{
 "cells": [
  {
   "cell_type": "code",
   "execution_count": 1,
   "metadata": {},
   "outputs": [],
   "source": [
    "import oyaml as yaml\n",
    "import os\n",
    "import datetime as dt\n",
    "import numpy as np\n",
    "import re"
   ]
  },
  {
   "cell_type": "code",
   "execution_count": 2,
   "metadata": {},
   "outputs": [],
   "source": [
    "suffix='AT0_05' #0_008 #'AT1' #'AT0_1' # 'AT0_01' #'AT0'\n",
    "ssbase='/data/eolson/results/MEOPAR/SS-run-sets/TRACE3/'\n",
    "pathbase=r'/data/eolson/results/MEOPAR/SS-run-sets/TRACE3'\n",
    "base_yaml='TRACE3.yaml'\n",
    "base_namelist_cfg='namelist_cfg_namrun'\n",
    "namelist_top_cfg_norst='namelist_top_cfg_trace3_norst'\n",
    "namelist_top_cfg_rst='namelist_top_cfg_trace3_rst'\n",
    "namelist_trace3_cfg='namelist_trace3_cfg_'+suffix\n",
    "filedef1h='file_def.xml_1h_p'#'file_def.xml_1h'\n",
    "filedef1d='file_def.xml_1d_p'#'file_def.xml_1d'\n",
    "\n",
    "ts_per_day=2160\n",
    "rundays=20 # per segment\n",
    "account='rrg-allen'\n",
    "config_name='TRACE3'\n",
    "walltime='6:00:00'\n",
    "startDate=dt.datetime(2017,1,1)\n",
    "endDate=dt.datetime(2017,12,1)\n",
    "restart0Phys='$MEOPAR/NEMO-forcing/restarts/HC201812/01jan17/SalishSea_02473200_restart.nc' ###\n",
    "\n",
    "runName='TRACE3_'+suffix\n",
    "resultsLoc='$SCRATCH/results/'+runName\n",
    "\n",
    "targetDates=(dt.datetime(2017,4,10),dt.datetime(2017,5,31),dt.datetime(2017,11,1))"
   ]
  },
  {
   "cell_type": "code",
   "execution_count": 3,
   "metadata": {},
   "outputs": [
    {
     "name": "stdout",
     "output_type": "stream",
     "text": [
      "2473200\n"
     ]
    }
   ],
   "source": [
    "startTS=int(restart0Phys[-19:-11])\n",
    "print(startTS)"
   ]
  },
  {
   "cell_type": "markdown",
   "metadata": {},
   "source": [
    "### Produce list of start and end dates and timesteps, then loop"
   ]
  },
  {
   "cell_type": "code",
   "execution_count": 4,
   "metadata": {},
   "outputs": [],
   "source": [
    "datesBegin=list()\n",
    "tsBegin=list()\n",
    "tsEnd=list()\n",
    "datesBegin_i=startDate\n",
    "tsBegin_i=startTS\n",
    "while datesBegin_i<endDate:\n",
    "    datesBegin.append(datesBegin_i)\n",
    "    tsBegin.append(tsBegin_i)\n",
    "    tsBegin_i=tsBegin_i+ts_per_day*rundays\n",
    "    datesBegin_i=datesBegin_i+dt.timedelta(days=rundays)\n",
    "    tsEnd.append(tsBegin_i)"
   ]
  },
  {
   "cell_type": "code",
   "execution_count": 5,
   "metadata": {},
   "outputs": [
    {
     "name": "stdout",
     "output_type": "stream",
     "text": [
      "0 2017-01-01 00:00:00 2473200 2516400 False\n",
      "1 2017-01-21 00:00:00 2516400 2559600 False\n",
      "2 2017-02-10 00:00:00 2559600 2602800 False\n",
      "3 2017-03-02 00:00:00 2602800 2646000 False\n",
      "4 2017-03-22 00:00:00 2646000 2689200 True\n",
      "5 2017-04-11 00:00:00 2689200 2732400 False\n",
      "6 2017-05-01 00:00:00 2732400 2775600 False\n",
      "7 2017-05-21 00:00:00 2775600 2818800 True\n",
      "8 2017-06-10 00:00:00 2818800 2862000 False\n",
      "9 2017-06-30 00:00:00 2862000 2905200 False\n",
      "10 2017-07-20 00:00:00 2905200 2948400 False\n",
      "11 2017-08-09 00:00:00 2948400 2991600 False\n",
      "12 2017-08-29 00:00:00 2991600 3034800 False\n",
      "13 2017-09-18 00:00:00 3034800 3078000 False\n",
      "14 2017-10-08 00:00:00 3078000 3121200 False\n",
      "15 2017-10-28 00:00:00 3121200 3164400 True\n",
      "16 2017-11-17 00:00:00 3164400 3207600 False\n"
     ]
    }
   ],
   "source": [
    "for ind, dd, ts0, ts1 in zip(np.arange(0,len(tsBegin)),datesBegin,tsBegin,tsEnd):\n",
    "    ### Start by producing yaml files\n",
    "    hourly=False\n",
    "    for itarget in targetDates:\n",
    "        if dd<=itarget and (dd+dt.timedelta(days=20))>itarget:\n",
    "            hourly=True\n",
    "    print(ind, dd,ts0,ts1, hourly)\n",
    "    with open(os.path.join(pathbase,base_yaml)) as file:\n",
    "        fyaml = yaml.load(file, Loader=yaml.FullLoader)\n",
    "\n",
    "    # set same for all:\n",
    "    fyaml['account']=account\n",
    "    fyaml['config_name']=config_name\n",
    "    fyaml['walltime']=walltime\n",
    "    fyaml['namelists']['namelist_trace3_cfg']=[namelist_trace3_cfg,]\n",
    "\n",
    "    ## conditional restarts:\n",
    "    if ind==0:\n",
    "        fyaml['restart']['restart.nc']=restart0Phys\n",
    "        del fyaml['restart']['restart_trc.nc']\n",
    "        fyaml['namelists']['namelist_top_cfg']=[namelist_top_cfg_norst,]\n",
    "    else:\n",
    "        fyaml['restart']['restart.nc']=resultsLoc+f'/SalishSea_{ts0:08d}_restart.nc'\n",
    "        fyaml['restart']['restart_trc.nc']=resultsLoc+f'/SalishSea_{ts0:08d}_restart_trc.nc'\n",
    "        fyaml['namelists']['namelist_top_cfg']=[namelist_top_cfg_rst,]\n",
    "\n",
    "    ## conditional namelists:\n",
    "    dstr=dd.strftime('%Y%m%d')\n",
    "    namcfg=f'namelist_cfgs/namelist_cfg_namrun_{dstr}_{rundays}d'\n",
    "    fyaml['namelists']['namelist_cfg'][0]=namcfg\n",
    "    #  conditional id\n",
    "    run_id=f'{runName}_{ind}'\n",
    "    fyaml['run_id']=run_id\n",
    "\n",
    "    # conditional filedef.xml\n",
    "    hourly=False\n",
    "    for itarget in targetDates:\n",
    "        if dd<=itarget and (dd+dt.timedelta(days=20))>itarget:\n",
    "            hourly=True\n",
    "    if hourly:\n",
    "        fyaml['output']['filedefs']=filedef1h\n",
    "    else: \n",
    "        fyaml['output']['filedefs']=filedef1d\n",
    "\n",
    "    with open(os.path.join(pathbase,run_id+'.yaml'), 'w') as file:\n",
    "        out = yaml.dump(fyaml, file,default_flow_style=False)\n",
    "        \n",
    "    ### namelists\n",
    "    if not os.path.exists(os.path.join(ssbase,namcfg)):\n",
    "        with open(os.path.join(ssbase,base_namelist_cfg), 'r') as file:\n",
    "            namrun = file.readlines()\n",
    "        namrun2=namrun.copy()\n",
    "        \n",
    "        spaces='                '\n",
    "        datestr=dd.strftime('%Y%m%d')\n",
    "        for iline, line in enumerate(namrun):\n",
    "            if re.match('\\s+nn_it000',line):\n",
    "                ll=len(re.search('=\\s+\\d+',line).group())-2\n",
    "                namrun2[iline]=re.sub('(?==\\s)=\\s+\\d+','= '+f'{spaces} {ts0+1}'[-ll:],line)\n",
    "            elif re.match('\\s+nn_itend',line):\n",
    "                ll=len(re.search('=\\s+\\d+',line).group())-2\n",
    "                namrun2[iline]=re.sub('(?==\\s)=\\s+\\d+','= '+f'{spaces} {ts1}'[-ll:],line)\n",
    "            elif re.match('\\s+nn_date0',line):\n",
    "                ll=len(re.search('=\\s+\\d+',line).group())-2\n",
    "                namrun2[iline]=re.sub('(?==\\s)=\\s+\\d+','= '+f'{spaces} {datestr}'[-ll:],line)\n",
    "        \n",
    "        with open(os.path.join(ssbase,namcfg), 'w') as fout:\n",
    "            fout.writelines( namrun2 )"
   ]
  }
 ],
 "metadata": {
  "kernelspec": {
   "display_name": "Python (py39)",
   "language": "python",
   "name": "py39"
  },
  "language_info": {
   "codemirror_mode": {
    "name": "ipython",
    "version": 3
   },
   "file_extension": ".py",
   "mimetype": "text/x-python",
   "name": "python",
   "nbconvert_exporter": "python",
   "pygments_lexer": "ipython3",
   "version": "3.9.1"
  }
 },
 "nbformat": 4,
 "nbformat_minor": 2
}
