{
 "cells": [
  {
   "cell_type": "code",
   "execution_count": 1,
   "metadata": {
    "collapsed": false
   },
   "outputs": [],
   "source": [
    "import pandas as pd\n",
    "import numpy as np\n",
    "import datetime as dt\n",
    "import os\n",
    "import re\n",
    "from matplotlib import pyplot as plt\n",
    "from pandas.plotting import register_matplotlib_converters\n",
    "register_matplotlib_converters()\n",
    "import netCDF4 as nc\n",
    "\n",
    "from sqlalchemy.sql import select, and_, or_, not_, func\n",
    "from sqlalchemy import create_engine, Column, String, Integer, Boolean, MetaData, Table, case, between, ForeignKey, desc\n",
    "from sqlalchemy.orm import mapper, create_session, relationship\n",
    "from sqlalchemy.ext.declarative import declarative_base\n",
    "from sqlalchemy.ext.automap import automap_base\n",
    "import sqlalchemy.types as types\n",
    "from sqlalchemy.sql import select, and_, or_, not_, func\n",
    "from time import strptime\n",
    "import string\n",
    "import pandas as pd\n",
    "from dateutil.parser import parse as dutparse\n",
    "\n",
    "%matplotlib inline"
   ]
  },
  {
   "cell_type": "code",
   "execution_count": 2,
   "metadata": {
    "collapsed": false
   },
   "outputs": [],
   "source": [
    "basepath='/ocean/eolson/MEOPAR/obs/'\n",
    "basedir=basepath + 'ECBuoy/'\n",
    "dbname='ECBuoy'\n",
    "Base = automap_base()\n",
    "engine = create_engine('sqlite:///' + basedir + dbname + '.sqlite', echo = False)\n",
    "# reflect the tables in salish.sqlite:\n",
    "Base.prepare(engine, reflect=True)\n",
    "# mapped classes have been created\n",
    "FBuoyTBL=Base.classes.FBuoyTBL\n",
    "FlowTBL=Base.classes.FlowTBL\n",
    "session = create_session(bind = engine, autocommit = False, autoflush = True)"
   ]
  },
  {
   "cell_type": "code",
   "execution_count": 3,
   "metadata": {
    "collapsed": true
   },
   "outputs": [],
   "source": [
    "df=pd.DataFrame(session.query(FlowTBL.DecDay,FlowTBL.RateHope).filter(FlowTBL.RateHope>=0).all())"
   ]
  },
  {
   "cell_type": "code",
   "execution_count": 5,
   "metadata": {
    "collapsed": true
   },
   "outputs": [],
   "source": [
    "dts=[dt.datetime(1900,1,1)+dt.timedelta(days=ii) for ii in df['DecDay']]"
   ]
  },
  {
   "cell_type": "code",
   "execution_count": 10,
   "metadata": {
    "collapsed": false
   },
   "outputs": [],
   "source": [
    "df['YD']=[(ii-dt.datetime(ii.year-1,12,31)).days for ii in dts]\n",
    "df['Year']=[ii.year for ii in dts]"
   ]
  },
  {
   "cell_type": "code",
   "execution_count": 7,
   "metadata": {
    "collapsed": true
   },
   "outputs": [],
   "source": []
  },
  {
   "cell_type": "code",
   "execution_count": 14,
   "metadata": {
    "collapsed": false
   },
   "outputs": [
    {
     "data": {
      "image/png": "[encoded data removed]",
      "text/plain": [
       "<Figure size 1152x288 with 1 Axes>"
      ]
     },
     "metadata": {
      "needs_background": "light"
     },
     "output_type": "display_data"
    }
   ],
   "source": [
    "fig,ax=plt.subplots(1,1,figsize=(16,4))\n",
    "for yr in np.unique(df['Year']):\n",
    "    df2=df.loc[df.Year==yr]\n",
    "    maxval=np.max(df2['RateHope'])\n",
    "    ax.plot(df2.loc[df2.RateHope==maxval,['YD']].values[0],maxval,'r.')"
   ]
  },
  {
   "cell_type": "code",
   "execution_count": 18,
   "metadata": {
    "collapsed": false
   },
   "outputs": [
    {
     "name": "stdout",
     "output_type": "stream",
     "text": [
      "121 2015-05-01 00:00:00\n",
      "140 2015-05-20 00:00:00\n",
      "160 2015-06-09 00:00:00\n",
      "180 2015-06-29 00:00:00\n",
      "200 2015-07-19 00:00:00\n",
      "135 2015-05-15 00:00:00\n",
      "190 2015-07-09 00:00:00\n"
     ]
    }
   ],
   "source": [
    "for iid in (121,140,160,180,200,135,190):\n",
    "    print(iid, dt.datetime(2014,12,31)+dt.timedelta(days=iid))"
   ]
  },
  {
   "cell_type": "code",
   "execution_count": 19,
   "metadata": {
    "collapsed": true
   },
   "outputs": [],
   "source": [
    "session.close()\n",
    "engine.dispose()"
   ]
  },
  {
   "cell_type": "code",
   "execution_count": null,
   "metadata": {
    "collapsed": true
   },
   "outputs": [],
   "source": []
  }
 ],
 "metadata": {
  "anaconda-cloud": {},
  "kernelspec": {
   "display_name": "Python [conda env:py37]",
   "language": "python",
   "name": "conda-env-py37-py"
  },
  "language_info": {
   "codemirror_mode": {
    "name": "ipython",
    "version": 3
   },
   "file_extension": ".py",
   "mimetype": "text/x-python",
   "name": "python",
   "nbconvert_exporter": "python",
   "pygments_lexer": "ipython3",
   "version": "3.7.2"
  }
 },
 "nbformat": 4,
 "nbformat_minor": 0
}
