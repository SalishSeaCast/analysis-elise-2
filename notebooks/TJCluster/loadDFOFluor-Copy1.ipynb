{
 "cells": [
  {
   "cell_type": "code",
   "execution_count": 1,
   "metadata": {},
   "outputs": [],
   "source": [
    "from salishsea_tools import evaltools as et\n",
    "from matplotlib import pyplot as plt\n",
    "import numpy as np\n",
    "import pandas as pd\n",
    "import datetime as dt\n",
    "import pickle\n",
    "\n",
    "%matplotlib inline"
   ]
  },
  {
   "cell_type": "markdown",
   "metadata": {},
   "source": [
    "### Note: Summer only"
   ]
  },
  {
   "cell_type": "code",
   "execution_count": 2,
   "metadata": {},
   "outputs": [],
   "source": [
    "df=et.loadDFOCTD(datelims=(dt.datetime(2015,6,1),dt.datetime(2015,9,1)))"
   ]
  },
  {
   "cell_type": "code",
   "execution_count": 3,
   "metadata": {},
   "outputs": [
    {
     "name": "stdout",
     "output_type": "stream",
     "text": [
      "54669\n",
      "41248\n"
     ]
    }
   ],
   "source": [
    "print(len(df))\n",
    "df.dropna(subset=['Fluor'],inplace=True)\n",
    "print(len(df))"
   ]
  },
  {
   "cell_type": "code",
   "execution_count": 4,
   "metadata": {},
   "outputs": [
    {
     "data": {
      "image/png": "[encoded data removed]",
      "text/plain": [
       "<Figure size 432x288 with 1 Axes>"
      ]
     },
     "metadata": {
      "needs_background": "light"
     },
     "output_type": "display_data"
    }
   ],
   "source": [
    "plt.hist(df['Fluor'],100);"
   ]
  },
  {
   "cell_type": "code",
   "execution_count": 5,
   "metadata": {},
   "outputs": [
    {
     "name": "stdout",
     "output_type": "stream",
     "text": [
      "(Lat,Lon)= 49.01133333333333 -125.17  not matched to domain\n",
      "(Lat,Lon)= 49.021 -125.15616666666666  not matched to domain\n",
      "(Lat,Lon)= 49.0295 -125.15266666666666  not matched to domain\n",
      "(Lat,Lon)= 49.042833333333334 -125.15266666666666  not matched to domain\n",
      "(Lat,Lon)= 49.0525 -125.143  not matched to domain\n",
      "(Lat,Lon)= 49.071333333333335 -125.15683333333334  not matched to domain\n",
      "(Lat,Lon)= 49.08316666666666 -125.17166666666667  not matched to domain\n",
      "(Lat,Lon)= 49.09166666666667 -125.19466666666666  not matched to domain\n",
      "(Lat,Lon)= 50.45713333333333 -126.16475  not matched to domain\n",
      "(Lat,Lon)= 50.45718333333333 -126.16443333333333  not matched to domain\n",
      "(Lat,Lon)= 50.45745 -126.16433333333333  not matched to domain\n",
      "(Lat,Lon)= 50.48383333333334 -126.18633333333334  not matched to domain\n",
      "(Lat,Lon)= 51.67483333333333 -127.28466666666667  not matched to domain\n",
      "(Lat,Lon)= 51.678 -127.334  not matched to domain\n",
      "progress: 0.0%\n",
      "progress: 12.57134236793805%\n",
      "progress: 25.1426847358761%\n",
      "progress: 37.714027103814146%\n",
      "progress: 50.2853694717522%\n",
      "progress: 62.856711839690234%\n",
      "progress: 75.42805420762829%\n",
      "progress: 87.99939657556634%\n"
     ]
    }
   ],
   "source": [
    "# path to model files:\n",
    "PATH= '/results2/SalishSea/nowcast-green.201905/'\n",
    "\n",
    "# start and end dates for analysis:\n",
    "start_date = dt.datetime(2015,6,1)\n",
    "end_date = dt.datetime(2015,9,1)\n",
    "\n",
    "# number of days per model file:\n",
    "flen=1\n",
    "\n",
    "# dictionary mapping desired model variables to the file types where they are found\n",
    "#filemap={'vosaline':'grid_T','votemper':'grid_T'}\n",
    "filemap={'diatoms':'ptrc_T','ciliates':'ptrc_T','flagellates':'ptrc_T'}\n",
    "\n",
    "# dictionary mapping model file types to their time resolution in hours (1 is hourly files, 24 is daily)\n",
    "fdict={'ptrc_T':1,'grid_T':1}\n",
    "\n",
    "# results format\n",
    "# -- nowcast: files like 01jan15/SalishSea_1h_20150101_20150101_ptrc_T.nc\n",
    "# -- long: files like SalishSea_1h_20150206_20150804_ptrc_T_20150427-20150506.nc, all in one directory\n",
    "namfmt='nowcast'\n",
    "\n",
    "data=et.matchData(df,filemap,fdict,start_date,end_date,namfmt,PATH)"
   ]
  },
  {
   "cell_type": "code",
   "execution_count": 6,
   "metadata": {},
   "outputs": [],
   "source": [
    "mod_chl_N=1.6\n",
    "#mod_chl_N=2.0\n",
    "data['l10_obsChl']=np.log10(data['Fluor']+0.01)\n",
    "data['l10_modChl']=np.log10(mod_chl_N*(data['mod_diatoms']+data['mod_ciliates']+data['mod_flagellates'])+0.01)\n",
    "data['mod_Chl']=mod_chl_N*(data['mod_diatoms']+data['mod_ciliates']+data['mod_flagellates'])"
   ]
  },
  {
   "cell_type": "code",
   "execution_count": null,
   "metadata": {},
   "outputs": [],
   "source": [
    "fig, ax = plt.subplots(1,2,figsize = (16,7))\n",
    "ps=et.varvarPlot(ax[0],data,'Fluor','mod_Chl','Z',(15,50,100,200),'z','m',('darkorange','gold','mediumseagreen','darkturquoise','navy'))\n",
    "ax[0].legend(handles=ps)\n",
    "ax[0].set_xlabel('Obs')\n",
    "ax[0].set_ylabel('Model')\n",
    "ax[0].set_title('DFO CTD-Fluor Comparison By Depth')\n",
    "ps=et.varvarPlot(ax[1],data,'l10_obsChl','l10_modChl','Z',(15,50,100,200),'z','m',('darkorange','gold','mediumseagreen','darkturquoise','navy'))\n",
    "ax[1].legend(handles=ps)\n",
    "ax[1].set_xlabel('Obs')\n",
    "ax[1].set_ylabel('Model')\n",
    "ax[1].set_title('DFO log10[CTD-Fluor+.01] Comparison By Depth')\n",
    "ax[0].set_xlim(0,27)\n",
    "ax[0].set_ylim(0,27)\n",
    "ax[0].plot((0,27),(0,27),'k-')\n",
    "ax[1].set_xlim(-2,1.8)\n",
    "ax[1].set_ylim(-2,1.8)\n",
    "ax[1].plot((-2,1.8),(-2,1.8),'k-')"
   ]
  },
  {
   "cell_type": "code",
   "execution_count": null,
   "metadata": {},
   "outputs": [],
   "source": [
    "cver = \"BIO\"\n",
    "clusterD='/data/tjarniko/MEOPAR/analysis_tereza/notebooks/CLUSTER_PAPER/CLEAN/KEY_PAPERFIGURES/pkls/'\n",
    "cfile = {2013:\"BIO_clno_5_2013_reass.pkl\",2014:\"BIO_clno_5_2014_reass.pkl\", \n",
    "         2015: \"BIO_clno_5_2015_reass.pkl\", 2016: \"BIO_clno_5_2016_reass.pkl\"}\n",
    "cxf='Xcoords_for571_stations.pkl'\n",
    "cyf='Ycoords_for571_stations.pkl'\n",
    "print('Cluster version is:', cver)\n",
    "# papermill reads dictionary keys as strings, so add code to correct this\n",
    "cfile2=dict()\n",
    "for key,val in cfile.items():\n",
    "    cfile2[int(key)]=val\n",
    "cfile=cfile2\n",
    "cx=pickle.load(open(clusterD+cxf, 'rb'))\n",
    "cy=pickle.load(open(clusterD+cyf, 'rb'))\n",
    "cf=dict()\n",
    "for iyear in cfile.keys():\n",
    "    cf[iyear]=pickle.load(open(clusterD+cfile[iyear],'rb'))\n",
    "\n",
    "def round2(num):\n",
    "    return int(np.trunc((num+2)/10)*10+2)\n",
    "\n",
    "data['Cluster']=np.zeros(len(data))\n",
    "for ir, row in data.iterrows():\n",
    "    ii=(cx==round2(row['i']))&(cy==round2(row['j']))\n",
    "    if sum(ii)==1:\n",
    "        cluster=cf[row['Year']][ii]\n",
    "        data.at[ir,'Cluster']=int(cluster)"
   ]
  },
  {
   "cell_type": "code",
   "execution_count": null,
   "metadata": {},
   "outputs": [],
   "source": [
    "for ic in np.unique(data['Cluster']):\n",
    "    idata=data.loc[data.Cluster==ic]\n",
    "    fig, ax = plt.subplots(1,2,figsize = (16,7))\n",
    "    ps=et.varvarPlot(ax[0],idata,'Fluor','mod_Chl','Z',(15,50,100,200),'z','m',('darkorange','gold','mediumseagreen','darkturquoise','navy'))\n",
    "    ax[0].legend(handles=ps)\n",
    "    ax[0].set_xlabel('Obs')\n",
    "    ax[0].set_ylabel('Model')\n",
    "    ax[0].set_title(f'Cluster {ic} DFO CTD-Fluor Comparison By Depth')\n",
    "    ps=et.varvarPlot(ax[1],idata,'l10_obsChl','l10_modChl','Z',(15,50,100,200),'z','m',('darkorange','gold','mediumseagreen','darkturquoise','navy'))\n",
    "    ax[1].legend(handles=ps)\n",
    "    ax[1].set_xlabel('Obs')\n",
    "    ax[1].set_ylabel('Model')\n",
    "    ax[1].set_title(f'Cluster {ic} DFO log10[CTD-Fluor+.01] Comparison By Depth')\n",
    "    ax[0].set_xlim(0,27)\n",
    "    ax[0].set_ylim(0,27)\n",
    "    ax[0].plot((0,27),(0,27),'k-')\n",
    "    ax[1].set_xlim(-2,1.8)\n",
    "    ax[1].set_ylim(-2,1.8)\n",
    "    ax[1].plot((-2,1.8),(-2,1.8),'k-')\n",
    "\n",
    "    "
   ]
  },
  {
   "cell_type": "code",
   "execution_count": null,
   "metadata": {},
   "outputs": [],
   "source": [
    "titles={3:'Central SoG',5:'Juan de Fuca'}\n",
    "for ic in [3,5,]:\n",
    "    idata=data.loc[data.Cluster==ic]\n",
    "    fig, ax = plt.subplots(1,2,figsize = (16,8))\n",
    "    ax[0].plot(idata['mod_Chl']-idata['Fluor'],idata['Z'],'k.',ms=1)\n",
    "    ax[1].plot(idata['l10_modChl']-idata['l10_obsChl'],idata['Z'],'k.',ms=1)\n",
    "    ax[0].set_ylim(450,0)\n",
    "    ax[1].set_ylim(450,0)\n",
    "    ax[0].set_xlim(-30,30)\n",
    "    ax[1].set_xlim(-2.5,2.5)\n",
    "    ax[0].set_title(titles[ic])\n",
    "    ax[0].set_xlabel('mod-obs Fluor')\n",
    "    ax[1].set_xlabel('mod-obs log10[ Fluor+.01]')\n",
    "    ax[0].set_ylabel('Depth (m)')\n",
    "    ax[1].set_ylabel('Depth (m)')"
   ]
  },
  {
   "cell_type": "code",
   "execution_count": null,
   "metadata": {},
   "outputs": [],
   "source": []
  },
  {
   "cell_type": "code",
   "execution_count": null,
   "metadata": {},
   "outputs": [],
   "source": []
  },
  {
   "cell_type": "code",
   "execution_count": null,
   "metadata": {},
   "outputs": [],
   "source": []
  },
  {
   "cell_type": "code",
   "execution_count": null,
   "metadata": {},
   "outputs": [],
   "source": []
  },
  {
   "cell_type": "code",
   "execution_count": null,
   "metadata": {},
   "outputs": [],
   "source": [
    "np.unique(data['Cluster'])"
   ]
  },
  {
   "cell_type": "code",
   "execution_count": null,
   "metadata": {},
   "outputs": [],
   "source": [
    "    fig, ax = plt.subplots(1,2,figsize = (16,8))\n",
    "    ax[0].plot(data['mod_Chl']-data['Fluor'],data['Z'],'k.',ms=1)\n",
    "    ax[1].plot(data['l10_modChl']-data['l10_obsChl'],data['Z'],'k.',ms=1)\n",
    "    ax[0].set_ylim(450,0)\n",
    "    ax[1].set_ylim(450,0)\n",
    "    ax[0].set_xlim(-30,30)\n",
    "    ax[1].set_xlim(-2.5,2.5)\n",
    "    ax[0].set_xlabel('mod-obs Fluor')\n",
    "    ax[1].set_xlabel('mod-obs log10[ Fluor+.01]')\n",
    "    ax[0].set_ylabel('Depth (m)')\n",
    "    ax[1].set_ylabel('Depth (m)')"
   ]
  },
  {
   "cell_type": "code",
   "execution_count": null,
   "metadata": {},
   "outputs": [],
   "source": [
    "print('Surface Chl:')\n",
    "print('all:')\n",
    "et.printstats(data.loc[data.Z<10,:],'Fluor','mod_Chl')\n",
    "for icl in range(0,6):\n",
    "    print('cluster',icl)\n",
    "    et.printstats(data.loc[(data.Cluster==icl)&(data.Z<10),:],'Fluor','mod_Chl')"
   ]
  },
  {
   "cell_type": "code",
   "execution_count": null,
   "metadata": {},
   "outputs": [],
   "source": [
    "for icl in range(0,6):\n",
    "    print('cluster',icl)\n",
    "    print(np.nanmean(data.loc[(data.Cluster==icl)&(data.Z<10),['Fluor']].values),np.nanmean(data.loc[(data.Cluster==icl)&(data.Z<10),['mod_Chl']].values))"
   ]
  },
  {
   "cell_type": "code",
   "execution_count": null,
   "metadata": {},
   "outputs": [],
   "source": [
    "print('10-20m Chl:')\n",
    "print('all:')\n",
    "et.printstats(data.loc[(data.Z>=10)&(data.Z<20),:],'Fluor','mod_Chl')\n",
    "for icl in range(0,6):\n",
    "    print('cluster',icl)\n",
    "    et.printstats(data.loc[(data.Cluster==icl)&(data.Z>=10)&(data.Z<20),:],'Fluor','mod_Chl')"
   ]
  },
  {
   "cell_type": "code",
   "execution_count": null,
   "metadata": {},
   "outputs": [],
   "source": [
    "print('20-30m Chl:')\n",
    "print('all:')\n",
    "et.printstats(data.loc[(data.Z>=20)&(data.Z<30),:],'Fluor','mod_Chl')\n",
    "for icl in range(0,6):\n",
    "    print('cluster',icl)\n",
    "    et.printstats(data.loc[(data.Cluster==icl)&(data.Z>=20)&(data.Z<30),:],'Fluor','mod_Chl')"
   ]
  },
  {
   "cell_type": "code",
   "execution_count": null,
   "metadata": {},
   "outputs": [],
   "source": [
    "print('30-40m Chl:')\n",
    "print('all:')\n",
    "et.printstats(data.loc[(data.Z>=30)&(data.Z<40),:],'Fluor','mod_Chl')\n",
    "for icl in range(0,6):\n",
    "    print('cluster',icl)\n",
    "    et.printstats(data.loc[(data.Cluster==icl)&(data.Z>=30)&(data.Z<40),:],'Fluor','mod_Chl')"
   ]
  },
  {
   "cell_type": "code",
   "execution_count": null,
   "metadata": {},
   "outputs": [],
   "source": [
    "print('50-70m')\n",
    "for icl in range(0,6):\n",
    "    print('cluster',icl)\n",
    "    print(np.nanmean(data.loc[(data.Cluster==icl)&(data.Z<70)&(data.Z>50),['Fluor']].values),np.nanmean(data.loc[(data.Cluster==icl)&(data.Z<70)&(data.Z>50),['mod_Chl']].values))"
   ]
  },
  {
   "cell_type": "code",
   "execution_count": null,
   "metadata": {},
   "outputs": [],
   "source": [
    "test=et.loadDFOCTD()"
   ]
  },
  {
   "cell_type": "code",
   "execution_count": null,
   "metadata": {},
   "outputs": [],
   "source": [
    "np.min(test['dtUTC'])"
   ]
  },
  {
   "cell_type": "code",
   "execution_count": null,
   "metadata": {},
   "outputs": [],
   "source": [
    "np.max(test['dtUTC'])"
   ]
  },
  {
   "cell_type": "code",
   "execution_count": null,
   "metadata": {},
   "outputs": [],
   "source": []
  }
 ],
 "metadata": {
  "kernelspec": {
   "display_name": "Python (py39)",
   "language": "python",
   "name": "py39"
  },
  "language_info": {
   "codemirror_mode": {
    "name": "ipython",
    "version": 3
   },
   "file_extension": ".py",
   "mimetype": "text/x-python",
   "name": "python",
   "nbconvert_exporter": "python",
   "pygments_lexer": "ipython3",
   "version": "3.9.2"
  }
 },
 "nbformat": 4,
 "nbformat_minor": 4
}
