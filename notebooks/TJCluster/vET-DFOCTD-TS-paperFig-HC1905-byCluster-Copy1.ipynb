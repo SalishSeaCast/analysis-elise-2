{
 "cells": [
  {
   "cell_type": "markdown",
   "metadata": {},
   "source": [
    "## DFO Nutrient Comparison"
   ]
  },
  {
   "cell_type": "code",
   "execution_count": 1,
   "metadata": {},
   "outputs": [],
   "source": [
    "import numpy as np\n",
    "import matplotlib.pyplot as plt\n",
    "import os\n",
    "import pandas as pd\n",
    "import netCDF4 as nc\n",
    "import datetime as dt\n",
    "from salishsea_tools import evaltools as et, viz_tools\n",
    "import gsw\n",
    "import matplotlib.gridspec as gridspec\n",
    "import matplotlib as mpl\n",
    "import matplotlib.dates as mdates\n",
    "import cmocean as cmo\n",
    "import scipy.interpolate as sinterp\n",
    "import pickle\n",
    "import cmocean\n",
    "from matplotlib.colors import LogNorm\n",
    "\n",
    "mpl.rc('xtick', labelsize=8)\n",
    "mpl.rc('ytick', labelsize=8)\n",
    "mpl.rc('legend', fontsize=8)\n",
    "mpl.rc('axes', titlesize=8)\n",
    "mpl.rc('axes', labelsize=8)\n",
    "mpl.rc('figure', titlesize=8)\n",
    "mpl.rc('font', size=8)\n",
    "mpl.rc('text', usetex=True)\n",
    "mpl.rc('text.latex', preamble =r'''\n",
    " \\usepackage{txfonts}\n",
    " \\usepackage{lmodern}\n",
    " ''')\n",
    "mpl.rc('font', family='sans-serif', weight='normal', style='normal')\n",
    "\n",
    "%matplotlib inline"
   ]
  },
  {
   "cell_type": "code",
   "execution_count": 2,
   "metadata": {},
   "outputs": [],
   "source": [
    "PATH= '/results2/SalishSea/nowcast-green.201905/'\n",
    "modver='HC1905'\n",
    "start_date = dt.datetime(2013,1,1)\n",
    "end_date = dt.datetime(2017,1,1)\n",
    "flen=1\n",
    "namfmt='nowcast'\n",
    "#varmap={'N':'nitrate','Si':'silicon','Ammonium':'ammonium'}\n",
    "filemap={'vosaline':'grid_T','votemper':'grid_T'}\n",
    "#gridmap={'nitrate':'tmask','silicon':'tmask','ammonium':'tmask'}\n",
    "fdict={'ptrc_T':1,'grid_T':1}\n",
    "rematch=False\n",
    "if rematch==True:\n",
    "    df1=et.loadDFOCTD()\n",
    "    df1.head()"
   ]
  },
  {
   "cell_type": "code",
   "execution_count": 3,
   "metadata": {
    "scrolled": true
   },
   "outputs": [],
   "source": [
    "\n",
    "saveloc='/data/eolson/MEOPAR/SS36runs/calcFiles/evalMatches/'\n",
    "fname=f'data_DFOCTD_{modver}_{start_date.strftime(\"%Y%m%d\")}_{end_date.strftime(\"%Y%m%d\")}'\n",
    "if rematch==True:\n",
    "    data=et.matchData(df1,filemap, fdict, start_date, end_date, namfmt, PATH, flen)\n",
    "    pickle.dump(data,open(os.path.join(saveloc,fname)+'.pkl','wb'))\n",
    "else:\n",
    "    data=pickle.load(open(os.path.join(saveloc,fname)+'.pkl','rb'))"
   ]
  },
  {
   "cell_type": "code",
   "execution_count": 4,
   "metadata": {},
   "outputs": [
    {
     "data": {
      "text/html": [
       "<div>\n",
       "<style scoped>\n",
       "    .dataframe tbody tr th:only-of-type {\n",
       "        vertical-align: middle;\n",
       "    }\n",
       "\n",
       "    .dataframe tbody tr th {\n",
       "        vertical-align: top;\n",
       "    }\n",
       "\n",
       "    .dataframe thead th {\n",
       "        text-align: right;\n",
       "    }\n",
       "</style>\n",
       "<table border=\"1\" class=\"dataframe\">\n",
       "  <thead>\n",
       "    <tr style=\"text-align: right;\">\n",
       "      <th></th>\n",
       "      <th>Year</th>\n",
       "      <th>Month</th>\n",
       "      <th>Day</th>\n",
       "      <th>Hour</th>\n",
       "      <th>Lat</th>\n",
       "      <th>Lon</th>\n",
       "      <th>Z</th>\n",
       "      <th>SA</th>\n",
       "      <th>CT</th>\n",
       "      <th>Fluor</th>\n",
       "      <th>dtUTC</th>\n",
       "      <th>j</th>\n",
       "      <th>i</th>\n",
       "      <th>mod_vosaline</th>\n",
       "      <th>mod_votemper</th>\n",
       "      <th>k</th>\n",
       "    </tr>\n",
       "  </thead>\n",
       "  <tbody>\n",
       "    <tr>\n",
       "      <th>0</th>\n",
       "      <td>2014.0</td>\n",
       "      <td>1.0</td>\n",
       "      <td>15.0</td>\n",
       "      <td>17.465556</td>\n",
       "      <td>49.329667</td>\n",
       "      <td>-124.081</td>\n",
       "      <td>0.991487</td>\n",
       "      <td>28.448958</td>\n",
       "      <td>7.535776</td>\n",
       "      <td>NaN</td>\n",
       "      <td>2014-01-15 17:27:56</td>\n",
       "      <td>526</td>\n",
       "      <td>206</td>\n",
       "      <td>26.507793</td>\n",
       "      <td>6.950379</td>\n",
       "      <td>0</td>\n",
       "    </tr>\n",
       "    <tr>\n",
       "      <th>1</th>\n",
       "      <td>2014.0</td>\n",
       "      <td>1.0</td>\n",
       "      <td>15.0</td>\n",
       "      <td>17.465556</td>\n",
       "      <td>49.329667</td>\n",
       "      <td>-124.081</td>\n",
       "      <td>1.982969</td>\n",
       "      <td>28.449707</td>\n",
       "      <td>7.536083</td>\n",
       "      <td>NaN</td>\n",
       "      <td>2014-01-15 17:27:56</td>\n",
       "      <td>526</td>\n",
       "      <td>206</td>\n",
       "      <td>26.509628</td>\n",
       "      <td>6.957670</td>\n",
       "      <td>1</td>\n",
       "    </tr>\n",
       "    <tr>\n",
       "      <th>2</th>\n",
       "      <td>2014.0</td>\n",
       "      <td>1.0</td>\n",
       "      <td>15.0</td>\n",
       "      <td>17.465556</td>\n",
       "      <td>49.329667</td>\n",
       "      <td>-124.081</td>\n",
       "      <td>2.974446</td>\n",
       "      <td>28.451662</td>\n",
       "      <td>7.534659</td>\n",
       "      <td>NaN</td>\n",
       "      <td>2014-01-15 17:27:56</td>\n",
       "      <td>526</td>\n",
       "      <td>206</td>\n",
       "      <td>26.525661</td>\n",
       "      <td>6.976134</td>\n",
       "      <td>2</td>\n",
       "    </tr>\n",
       "    <tr>\n",
       "      <th>3</th>\n",
       "      <td>2014.0</td>\n",
       "      <td>1.0</td>\n",
       "      <td>15.0</td>\n",
       "      <td>17.465556</td>\n",
       "      <td>49.329667</td>\n",
       "      <td>-124.081</td>\n",
       "      <td>3.965919</td>\n",
       "      <td>28.483562</td>\n",
       "      <td>7.535744</td>\n",
       "      <td>NaN</td>\n",
       "      <td>2014-01-15 17:27:56</td>\n",
       "      <td>526</td>\n",
       "      <td>206</td>\n",
       "      <td>26.583195</td>\n",
       "      <td>7.010254</td>\n",
       "      <td>3</td>\n",
       "    </tr>\n",
       "    <tr>\n",
       "      <th>4</th>\n",
       "      <td>2014.0</td>\n",
       "      <td>1.0</td>\n",
       "      <td>15.0</td>\n",
       "      <td>17.465556</td>\n",
       "      <td>49.329667</td>\n",
       "      <td>-124.081</td>\n",
       "      <td>4.957386</td>\n",
       "      <td>28.738536</td>\n",
       "      <td>7.582821</td>\n",
       "      <td>NaN</td>\n",
       "      <td>2014-01-15 17:27:56</td>\n",
       "      <td>526</td>\n",
       "      <td>206</td>\n",
       "      <td>26.700645</td>\n",
       "      <td>7.064485</td>\n",
       "      <td>4</td>\n",
       "    </tr>\n",
       "  </tbody>\n",
       "</table>\n",
       "</div>"
      ],
      "text/plain": [
       "     Year  Month   Day       Hour        Lat      Lon         Z         SA  \\\n",
       "0  2014.0    1.0  15.0  17.465556  49.329667 -124.081  0.991487  28.448958   \n",
       "1  2014.0    1.0  15.0  17.465556  49.329667 -124.081  1.982969  28.449707   \n",
       "2  2014.0    1.0  15.0  17.465556  49.329667 -124.081  2.974446  28.451662   \n",
       "3  2014.0    1.0  15.0  17.465556  49.329667 -124.081  3.965919  28.483562   \n",
       "4  2014.0    1.0  15.0  17.465556  49.329667 -124.081  4.957386  28.738536   \n",
       "\n",
       "         CT  Fluor               dtUTC    j    i  mod_vosaline  mod_votemper  \\\n",
       "0  7.535776    NaN 2014-01-15 17:27:56  526  206     26.507793      6.950379   \n",
       "1  7.536083    NaN 2014-01-15 17:27:56  526  206     26.509628      6.957670   \n",
       "2  7.534659    NaN 2014-01-15 17:27:56  526  206     26.525661      6.976134   \n",
       "3  7.535744    NaN 2014-01-15 17:27:56  526  206     26.583195      7.010254   \n",
       "4  7.582821    NaN 2014-01-15 17:27:56  526  206     26.700645      7.064485   \n",
       "\n",
       "   k  \n",
       "0  0  \n",
       "1  1  \n",
       "2  2  \n",
       "3  3  \n",
       "4  4  "
      ]
     },
     "execution_count": 4,
     "metadata": {},
     "output_type": "execute_result"
    }
   ],
   "source": [
    "data.head()"
   ]
  },
  {
   "cell_type": "code",
   "execution_count": 4,
   "metadata": {},
   "outputs": [],
   "source": [
    "# save pickle as csv for TJ:\n",
    "data.to_csv(os.path.join(saveloc,fname)+'.csv',index=False)"
   ]
  },
  {
   "cell_type": "code",
   "execution_count": 5,
   "metadata": {},
   "outputs": [
    {
     "name": "stdout",
     "output_type": "stream",
     "text": [
      "/data/eolson/MEOPAR/SS36runs/calcFiles/evalMatches/data_DFOCTD_HC1905_20130101_20170101.csv\n"
     ]
    }
   ],
   "source": [
    "print(os.path.join(saveloc,fname)+'.csv')"
   ]
  },
  {
   "cell_type": "code",
   "execution_count": 6,
   "metadata": {},
   "outputs": [],
   "source": [
    "def rotmap(lon,lat,lon0,lat0,phi):\n",
    "    # rotate around point (pick one near center of domain)\n",
    "    # phi in degrees\n",
    "    # first scale lats to match and center around lat0,lon0:\n",
    "    lon1=(lon-lon0)*np.cos(lat0*np.pi/180)\n",
    "    lat1=lat-lat0\n",
    "    # now rotate:\n",
    "    lon2=lon1*np.cos(phi*np.pi/180)-lat1*np.sin(phi*np.pi/180)\n",
    "    lat2=lon1*np.sin(phi*np.pi/180)+lat1*np.cos(phi*np.pi/180)\n",
    "    return lon2,lat2"
   ]
  },
  {
   "cell_type": "code",
   "execution_count": 7,
   "metadata": {},
   "outputs": [],
   "source": [
    "cm1=cmocean.cm.thermal\n",
    "#plt.get_cmap('PuBuGn')\n",
    "#cm1=cmo.cm.matter\n",
    "theta=-30\n",
    "lon0=-123.9\n",
    "lat0=49.3\n",
    "with nc.Dataset('/data/eolson/results/MEOPAR/NEMO-forcing-new/grid/bathymetry_201702.nc') as bathy:\n",
    "    bathylon=np.copy(bathy.variables['nav_lon'][:,:])\n",
    "    bathylat=np.copy(bathy.variables['nav_lat'][:,:])\n",
    "    bathyZ=np.copy(bathy.variables['Bathymetry'][:,:])\n",
    "blon,blat=rotmap(bathylon,bathylat,lon0,lat0,theta)"
   ]
  },
  {
   "cell_type": "markdown",
   "metadata": {},
   "source": [
    "##### Apply cluster information"
   ]
  },
  {
   "cell_type": "code",
   "execution_count": 9,
   "metadata": {},
   "outputs": [
    {
     "name": "stdout",
     "output_type": "stream",
     "text": [
      "Cluster version is: BIO\n"
     ]
    }
   ],
   "source": [
    "cver = \"BIO\"\n",
    "clusterD='/data/tjarniko/MEOPAR/analysis_tereza/notebooks/CLUSTER_PAPER/CLEAN/KEY_PAPERFIGURES/pkls/'\n",
    "cfile = {2013:\"BIO_clno_5_2013_reass.pkl\",2014:\"BIO_clno_5_2014_reass.pkl\", \n",
    "         2015: \"BIO_clno_5_2015_reass.pkl\", 2016: \"BIO_clno_5_2016_reass.pkl\"}\n",
    "cxf='Xcoords_for571_stations.pkl'\n",
    "cyf='Ycoords_for571_stations.pkl'\n",
    "print('Cluster version is:', cver)\n",
    "# papermill reads dictionary keys as strings, so add code to correct this\n",
    "cfile2=dict()\n",
    "for key,val in cfile.items():\n",
    "    cfile2[int(key)]=val\n",
    "cfile=cfile2\n",
    "cx=pickle.load(open(clusterD+cxf, 'rb'))\n",
    "cy=pickle.load(open(clusterD+cyf, 'rb'))\n",
    "cf=dict()\n",
    "for iyear in cfile.keys():\n",
    "    cf[iyear]=pickle.load(open(clusterD+cfile[iyear],'rb'))\n",
    "\n",
    "def round2(num):\n",
    "    return int(np.trunc((num+2)/10)*10+2)\n",
    "\n",
    "data['Cluster']=np.zeros(len(data))\n",
    "for ir, row in data.iterrows():\n",
    "    ii=(cx==round2(row['i']))&(cy==round2(row['j']))\n",
    "    if sum(ii)==1:\n",
    "        cluster=cf[row['Year']][ii]\n",
    "        data.at[ir,'Cluster']=int(cluster)"
   ]
  },
  {
   "cell_type": "code",
   "execution_count": 10,
   "metadata": {},
   "outputs": [
    {
     "name": "stdout",
     "output_type": "stream",
     "text": [
      "[1. 2. 3. 4. 5.]\n",
      "[1. 2. 3. 4. 5.]\n",
      "[1. 2. 3. 4. 5.]\n",
      "[1. 2. 3. 4. 5.]\n"
     ]
    }
   ],
   "source": [
    "for el in cf.keys():\n",
    "    print(np.unique(cf[el]))"
   ]
  },
  {
   "cell_type": "raw",
   "metadata": {},
   "source": [
    "groups=pd.read_csv('/data/eolson/results/MEOPAR/clusterGroups/cluster_consolidated.csv')\n",
    "cset0=set([(ii,jj) for ii,jj in groups.loc[:,['I','j']].values])\n",
    "pdlist=list()\n",
    "cset1=set()\n",
    "for i,row in groups.iterrows():\n",
    "    for ii in range(-5,5):\n",
    "        for jj in range(-5,5):\n",
    "            if not (row['I']+ii,row['j']+jj) in cset0|cset1:\n",
    "                pdlist.append((row['I']+ii,row['j']+jj,row['Cluster_ID']))\n",
    "                cset1.add((row['I']+ii,row['j']+jj))\n",
    "newpd=pd.DataFrame(columns=['I', 'j', 'Cluster_ID'],data=pdlist)\n",
    "data2=pd.merge(data,pd.concat((newpd,groups)),how='inner',left_on=['i','j'],right_on=['I','j'])"
   ]
  },
  {
   "cell_type": "code",
   "execution_count": 11,
   "metadata": {},
   "outputs": [
    {
     "data": {
      "text/plain": [
       "array([0., 1., 2., 3., 4., 5.])"
      ]
     },
     "execution_count": 11,
     "metadata": {},
     "output_type": "execute_result"
    }
   ],
   "source": [
    "np.unique(data['Cluster'])"
   ]
  },
  {
   "cell_type": "code",
   "execution_count": 32,
   "metadata": {},
   "outputs": [
    {
     "data": {
      "image/png": "[encoded data removed]",
      "text/plain": [
       "<Figure size 360x144 with 5 Axes>"
      ]
     },
     "metadata": {
      "needs_background": "light"
     },
     "output_type": "display_data"
    },
    {
     "data": {
      "image/png": "[encoded data removed]",
      "text/plain": [
       "<Figure size 360x144 with 5 Axes>"
      ]
     },
     "metadata": {
      "needs_background": "light"
     },
     "output_type": "display_data"
    },
    {
     "data": {
      "image/png": "[encoded data removed]",
      "text/plain": [
       "<Figure size 360x144 with 5 Axes>"
      ]
     },
     "metadata": {
      "needs_background": "light"
     },
     "output_type": "display_data"
    },
    {
     "data": {
      "image/png": "[encoded data removed]",
      "text/plain": [
       "<Figure size 360x144 with 5 Axes>"
      ]
     },
     "metadata": {
      "needs_background": "light"
     },
     "output_type": "display_data"
    },
    {
     "data": {
      "image/png": "[encoded data removed]",
      "text/plain": [
       "<Figure size 360x144 with 5 Axes>"
      ]
     },
     "metadata": {
      "needs_background": "light"
     },
     "output_type": "display_data"
    },
    {
     "data": {
      "image/png": "[encoded data removed]",
      "text/plain": [
       "<Figure size 360x144 with 5 Axes>"
      ]
     },
     "metadata": {
      "needs_background": "light"
     },
     "output_type": "display_data"
    }
   ],
   "source": [
    "for ic in np.unique(data['Cluster']):\n",
    "    bounds = np.array([0,5,10,15,20,40,100,200,450])\n",
    "    norm = mpl.colors.BoundaryNorm(boundaries=bounds, ncolors=256)\n",
    "    #pcm = ax[1].pcolormesh(X, Y, Z1, norm=norm, cmap='RdBu_r')\n",
    "    tm=40\n",
    "    sm=40\n",
    "\n",
    "    fig = plt.figure(figsize = (5,2.))\n",
    "    gsv = gridspec.GridSpec(2,1,left=.08,right=.98,hspace=1,bottom=.1,top=.85,height_ratios=[4,.2])\n",
    "    gs1=gridspec.GridSpecFromSubplotSpec(1,5,subplot_spec=gsv[0],wspace=.3,hspace=.34,\n",
    "                                         width_ratios=[1,1,.05,.05,.6])\n",
    "    axSA = fig.add_subplot(gs1[0])\n",
    "    axCT = fig.add_subplot(gs1[1])\n",
    "    axLmap = fig.add_subplot(gs1[-1])\n",
    "\n",
    "    gscb = gridspec.GridSpecFromSubplotSpec(11,1,subplot_spec=gs1[2])\n",
    "    axcb = fig.add_subplot(gscb[1:-1])\n",
    "\n",
    "    axL=fig.add_subplot(gsv[1])\n",
    "\n",
    "    axSA.plot((0,sm),(0,sm),'k-',lw=.5)\n",
    "    axCT.plot((0,tm),(0,tm),'k-',lw=.5)\n",
    "\n",
    "    vm0=-150\n",
    "    args={'marker':'.','s':1,'norm':norm}\n",
    "    dataCl=data.loc[(data.Cluster==ic)]\n",
    "    #ps=et.varvarScatter(axSA,dataCl,'SA','mod_vosaline','Z',vmin=vm0,vmax=450,cm=cm1,args=args)\n",
    "    #ps=et.varvarScatter(axCT,dataCl,'CT','mod_votemper','Z',vmin=vm0,vmax=450,cm=cm1,args=args)\n",
    "    \n",
    "    iiT=(~np.isnan(dataCl['CT']))&(~np.isnan(dataCl['mod_votemper']))\n",
    "    iiS=(~np.isnan(dataCl['SA']))&(~np.isnan(dataCl['mod_vosaline']))\n",
    "    counts, xedges, yedges, m1=axCT.hist2d(dataCl.loc[iiT,['CT']].values.flatten(),\n",
    "                                          dataCl.loc[iiT,['mod_votemper']].values.flatten(),bins=25*3,norm=LogNorm(vmin=1,vmax=5*10**3),\n",
    "                                           cmin=1,cmax=5*10**3)\n",
    "    counts, xedges, yedges, m2=axSA.hist2d(dataCl.loc[iiS,['SA']].values.flatten(),\n",
    "                                          dataCl.loc[iiS,['mod_vosaline']].values.flatten(),bins=25*3,norm=LogNorm(vmin=1,vmax=5*10**3),\n",
    "                                           cmin=1,cmax=5*10**3)\n",
    "    cb=fig.colorbar(m1,cax=axcb)\n",
    "    cb.set_label('Count')\n",
    "    #cb.set_ylim(0,450)\n",
    "\n",
    "    ntick=np.arange(0,sm,int(sm/4))\n",
    "    ntickl=[str(i) for i in ntick]\n",
    "    for ax in (axSA,):\n",
    "        ax.set_xlim((0,sm))\n",
    "        ax.set_ylim((0,sm))\n",
    "        ax.set_xticks(ntick)\n",
    "        ax.set_xticklabels(ntickl)\n",
    "        ax.set_yticks(ntick)\n",
    "        ax.set_yticklabels(ntickl)\n",
    "\n",
    "    stick=np.arange(0,tm,int(tm/4))\n",
    "    stickl=[str(i) for i in stick]\n",
    "    for ax in (axCT,):\n",
    "        ax.set_xlim((0,tm))\n",
    "        ax.set_ylim((0,tm))\n",
    "        ax.set_xticks(stick)\n",
    "        ax.set_xticklabels(stickl)\n",
    "        ax.set_yticks(stick)\n",
    "        ax.set_yticklabels(stickl)\n",
    "\n",
    "\n",
    "    for ax in (axSA,axCT,):\n",
    "        ax.set_aspect(1, adjustable='box')\n",
    "        #ax.set_xlabel('Observed')\n",
    "\n",
    "    axSA.set_ylabel('Modeled')\n",
    "    axCT.set_ylabel('Modeled')\n",
    "    axSA.set_xlabel('Observed')\n",
    "    axCT.set_xlabel('Observed')\n",
    "\n",
    "\n",
    "    axSA.set_title('S$_A$ (g kg$^{-1}$)')\n",
    "    axCT.set_title('$\\Theta$ ($^{\\circ}$C')\n",
    "\n",
    "    #viz_tools.set_aspect(axLmap)\n",
    "    for axLi in (axLmap,):\n",
    "        axLi.set_aspect(1, adjustable='box')\n",
    "        contour_lines = axLi.contour(blon,blat,bathyZ,[1e-5],\n",
    "                    colors='black',zorder=2,linewidths=.5)\n",
    "        axLi.set_xlim(-1.02,0.81)\n",
    "        axLi.set_ylim(-1.5,1.8)\n",
    "        axLi.axis('off')\n",
    "    dataTSCl=dataCl.loc[(dataCl.SA>=0)|(dataCl.CT>=0)]\n",
    "\n",
    "    lons15,lats15=rotmap(dataTSCl['Lon'], dataTSCl['Lat'],lon0,lat0,theta)\n",
    "    axLmap.plot(lons15,lats15, '.',color='blue',markersize=1)\n",
    "    axLmap.set_title('Observation\\nLocations',fontsize=8)\n",
    "\n",
    "    axL.set_title('Observation Times',fontsize=8)\n",
    "    p1a,=axL.plot(dataTSCl.dtUTC,np.zeros(np.shape(dataTSCl.dtUTC)),'.',color='blue',markersize=6)\n",
    "    axL.set_yticks(());\n",
    "    yearsFmt = mdates.DateFormatter('%d %b %Y')\n",
    "    axL.xaxis.set_major_formatter(yearsFmt)\n",
    "\n",
    "    axL.xaxis.set_ticks([dt.datetime(2013,1,1),\n",
    "                         dt.datetime(2014,1,1),\n",
    "                         dt.datetime(2015,1,1),\n",
    "                         dt.datetime(2016,1,1), \n",
    "                         dt.datetime(2017,1,1)])\n",
    "    #labels=axL.xaxis.get_ticklabels()\n",
    "    for tick in axL.get_xticklabels():\n",
    "            #tick.set_rotation(90)\n",
    "            tick.set_horizontalalignment('center')\n",
    "    axL.set_ylim(-.1,.3)\n",
    "    axLpos=axL.get_position()\n",
    "    new = mpl.transforms.Bbox.from_bounds(axLpos.bounds[0],axLpos.bounds[1],axLpos.bounds[2]-.05,axLpos.bounds[3])\n",
    "    axL.set_position(new)\n",
    "    #axL.legend(handles=[p1,p2,p3],loc=8,ncol=3,bbox_to_anchor=[.5,-4])\n",
    "    axL.set_frame_on(False)\n",
    "    #axL.axes.get_yaxis().set_visible(False)\n",
    "    #axL.axes.get_xaxis().set_visible(True)\n",
    "    xmin, xmax = axL.get_xaxis().get_view_interval()\n",
    "    ymin, ymax = axL.get_yaxis().get_view_interval()\n",
    "    axL.add_artist(mpl.lines.Line2D((xmin, xmax), (ymin, ymin), color='black', linewidth=2))\n",
    "    fig.suptitle('Cluster '+str(ic))\n",
    "    fig.savefig(f'/data/eolson/results/MEOPAR/figs/eval/dfoCTDEval{modver}_Cluster{int(ic)}.png',dpi=200,transparent=True)"
   ]
  },
  {
   "cell_type": "code",
   "execution_count": 34,
   "metadata": {},
   "outputs": [
    {
     "data": {
      "text/plain": [
       "'/data/eolson/results/MEOPAR/figs/eval/dfoCTDEvalHC1905_Cluster5.png'"
      ]
     },
     "execution_count": 34,
     "metadata": {},
     "output_type": "execute_result"
    }
   ],
   "source": [
    "f'/data/eolson/results/MEOPAR/figs/eval/dfoCTDEval{modver}_Cluster{int(ic)}.png'"
   ]
  },
  {
   "cell_type": "code",
   "execution_count": 14,
   "metadata": {},
   "outputs": [
    {
     "name": "stdout",
     "output_type": "stream",
     "text": [
      "All CT:\n",
      "all:\n",
      "0= no cluster\n",
      "  N: 410261\n",
      "  bias: -0.010468468579214019\n",
      "  RMSE: 0.4665724731415262\n",
      "  WSS: 0.9673432149760973\n",
      "cluster 0\n",
      "  N: 61178\n",
      "  bias: -0.001891369068292903\n",
      "  RMSE: 0.5256050502211055\n",
      "  WSS: 0.973974078123673\n",
      "cluster 1\n",
      "  N: 17968\n",
      "  bias: -0.061754275092591016\n",
      "  RMSE: 0.4365952423746647\n",
      "  WSS: 0.9587524497061904\n",
      "cluster 2\n",
      "  N: 3437\n",
      "  bias: -0.20062836279981688\n",
      "  RMSE: 0.6478898795570772\n",
      "  WSS: 0.9364145579007207\n",
      "cluster 3\n",
      "  N: 250724\n",
      "  bias: 0.021702880923099244\n",
      "  RMSE: 0.4493010063682143\n",
      "  WSS: 0.9638283470139344\n",
      "cluster 4\n",
      "  N: 48302\n",
      "  bias: -0.11829103504720351\n",
      "  RMSE: 0.4646746002895805\n",
      "  WSS: 0.9565483213381973\n",
      "cluster 5\n",
      "  N: 28652\n",
      "  bias: -0.07356112155602013\n",
      "  RMSE: 0.47620326667322116\n",
      "  WSS: 0.9711747232268341\n"
     ]
    }
   ],
   "source": [
    "print('All CT:')\n",
    "print('all:')\n",
    "print('0= no cluster')\n",
    "et.printstats(data,'CT','mod_votemper')\n",
    "for icl in range(0,6):\n",
    "    print('cluster',icl)\n",
    "    et.printstats(data.loc[(data.Cluster==icl),:],'CT','mod_votemper')"
   ]
  },
  {
   "cell_type": "code",
   "execution_count": 15,
   "metadata": {},
   "outputs": [
    {
     "name": "stdout",
     "output_type": "stream",
     "text": [
      "All SA:\n",
      "all:\n",
      "0= no cluster\n",
      "  N: 410261\n",
      "  bias: 0.0459855811462937\n",
      "  RMSE: 0.47359226415981664\n",
      "  WSS: 0.9669355249059375\n",
      "cluster 0\n",
      "  N: 61178\n",
      "  bias: -0.05754628332836731\n",
      "  RMSE: 0.5479317131874749\n",
      "  WSS: 0.9559960005068144\n",
      "cluster 1\n",
      "  N: 17968\n",
      "  bias: -0.039534244126972595\n",
      "  RMSE: 0.3986504869961383\n",
      "  WSS: 0.9576973071865239\n",
      "cluster 2\n",
      "  N: 3437\n",
      "  bias: 0.09884140038638378\n",
      "  RMSE: 0.41033218720655207\n",
      "  WSS: 0.9796288698355473\n",
      "cluster 3\n",
      "  N: 250724\n",
      "  bias: 0.06816243174801784\n",
      "  RMSE: 0.4882028692927097\n",
      "  WSS: 0.9591226699090586\n",
      "cluster 4\n",
      "  N: 48302\n",
      "  bias: 0.15028677162934656\n",
      "  RMSE: 0.32123238268657717\n",
      "  WSS: 0.9679980163744655\n",
      "cluster 5\n",
      "  N: 28652\n",
      "  bias: -0.05555698545868637\n",
      "  RMSE: 0.4370658745697662\n",
      "  WSS: 0.9711005419088771\n"
     ]
    }
   ],
   "source": [
    "print('All SA:')\n",
    "print('all:')\n",
    "print('0= no cluster')\n",
    "et.printstats(data,'SA','mod_vosaline')\n",
    "for icl in range(0,6):\n",
    "    print('cluster',icl)\n",
    "    et.printstats(data.loc[(data.Cluster==icl),:],'SA','mod_vosaline')"
   ]
  },
  {
   "cell_type": "code",
   "execution_count": null,
   "metadata": {},
   "outputs": [],
   "source": []
  }
 ],
 "metadata": {
  "anaconda-cloud": {},
  "kernelspec": {
   "display_name": "Python (py39)",
   "language": "python",
   "name": "py39"
  },
  "language_info": {
   "codemirror_mode": {
    "name": "ipython",
    "version": 3
   },
   "file_extension": ".py",
   "mimetype": "text/x-python",
   "name": "python",
   "nbconvert_exporter": "python",
   "pygments_lexer": "ipython3",
   "version": "3.9.2"
  }
 },
 "nbformat": 4,
 "nbformat_minor": 4
}
