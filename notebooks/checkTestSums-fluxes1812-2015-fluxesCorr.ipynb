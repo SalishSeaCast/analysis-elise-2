{
 "cells": [
  {
   "cell_type": "code",
   "execution_count": 1,
   "metadata": {},
   "outputs": [],
   "source": [
    "import netCDF4 as nc\n",
    "from matplotlib import pyplot as plt\n",
    "import numpy as np\n",
    "import glob\n",
    "import pickle\n",
    "from salishsea_tools import evaltools as et\n",
    "import datetime as dt\n",
    "import os\n",
    "import re\n",
    "import cmocean\n",
    "%matplotlib inline"
   ]
  },
  {
   "cell_type": "code",
   "execution_count": 2,
   "metadata": {},
   "outputs": [],
   "source": [
    "ignorelist=('nav_lat','nav_lon', 'bounds_nav_lon', 'bounds_nav_lat', 'area', 'bounds_lon','bounds_lat',\n",
    "            'deptht', 'deptht_bounds', 'time_centered', 'time_centered_bounds', \n",
    "            'time_counter', 'time_counter_bounds','nav_lat_grid_T', 'nav_lon_grid_T', \n",
    "            'bounds_nav_lon_grid_T', 'bounds_nav_lat_grid_T', 'area_grid_T', \n",
    "            'nav_lat_grid_W', 'nav_lon_grid_W', 'bounds_nav_lon_grid_W', \n",
    "            'bounds_nav_lat_grid_W', 'area_grid_W', 'time_centered', 'time_centered_bounds',\n",
    "            'depthu', 'depthu_bounds','depthv', 'depthv_bounds','depthw', 'depthw_bounds',\n",
    "            'layer6m_W', 'layer6m_W_bounds','bounds_lon_grid_T','bounds_lat_grid_T',\n",
    "            'bounds_lon_grid_W','bounds_lat_grid_W','time_instant_bounds','time_instant')\n",
    "def checkall(ff):\n",
    "    fkeys=ff.variables.keys()\n",
    "    print('fP.variables.keys():',fkeys)\n",
    "    print('Min/Max:')\n",
    "    for var in fkeys:\n",
    "        if var not in ignorelist:\n",
    "            #print(var)\n",
    "            if len(np.shape(ff.variables[var]))==4:\n",
    "                print(var,':',np.min(np.ma.masked_where(tmask[:,:,:]==0,ff.variables[var][-1,:,:,:])),\n",
    "                      np.max(np.ma.masked_where(tmask[:,:,:]==0,ff.variables[var][-1,:,:,:])))\n",
    "            elif len(np.shape(ff.variables[var]))==3:\n",
    "                print(var,':',np.min(np.ma.masked_where(tmask[0,:,:]==0,ff.variables[var][-1,:,:])),\n",
    "                      np.max(np.ma.masked_where(tmask[0,:,:]==0,ff.variables[var][-1,:,:])))\n",
    "            else: \n",
    "                print('unknown shape: ',var,len(np.shape(ff.variables[var])))\n",
    "def checkallSlice(ff):\n",
    "    fkeys=ff.variables.keys()\n",
    "    print('fP.variables.keys():',fkeys)\n",
    "    print('Min/Max:')\n",
    "    for var in fkeys:\n",
    "        if var not in ignorelist:\n",
    "            print(var,':',np.min(ff.variables[var][-1,:,:,:]),\n",
    "                      np.max(ff.variables[var][-1,:,:,:]))"
   ]
  },
  {
   "cell_type": "code",
   "execution_count": 3,
   "metadata": {},
   "outputs": [],
   "source": [
    "with nc.Dataset('/ocean/eolson/MEOPAR/NEMO-forcing/grid/mesh_mask201702_noLPE.nc') as mesh:\n",
    "    tmask=mesh.variables['tmask'][0,:,:,:]\n",
    "    e1t=np.expand_dims(mesh.variables['e1t'][:,:,:],1)\n",
    "    e2t=np.expand_dims(mesh.variables['e2t'][:,:,:],1)\n",
    "SOGtmaskPath='/ocean/eolson/MEOPAR/northernNO3PaperCalcs/save/SOGtmask.pkl'\n",
    "(tmaskSOG,_,_,_,_)=pickle.load(open(SOGtmaskPath,'rb'))"
   ]
  },
  {
   "cell_type": "code",
   "execution_count": 4,
   "metadata": {},
   "outputs": [],
   "source": [
    "idir='/data/eolson/results/MEOPAR/SS36runs/GrahamRuns/fluxesCorr/'\n",
    "ts=dt.datetime(2015,1,1)\n",
    "te=dt.datetime(2015,12,31)"
   ]
  },
  {
   "cell_type": "code",
   "execution_count": 6,
   "metadata": {},
   "outputs": [],
   "source": [
    "fPlist=et.index_model_files_flex(idir,'dian_T','1d','long',ts,te)\n",
    "fDlist=et.index_model_files_flex(idir,'dia1_T','1d','long',ts,te)\n",
    "fD2list=et.index_model_files_flex(idir,'dia2_T','1d','long',ts,te)\n",
    "fSlist=et.index_model_files_flex(idir,'snp_T','1d','long',ts,te)\n",
    "fRlist=et.index_model_files_flex(idir,'rad_T','1d','long',ts,te)"
   ]
  },
  {
   "cell_type": "code",
   "execution_count": 8,
   "metadata": {},
   "outputs": [
    {
     "data": {
      "text/html": [
       "<div>\n",
       "<style scoped>\n",
       "    .dataframe tbody tr th:only-of-type {\n",
       "        vertical-align: middle;\n",
       "    }\n",
       "\n",
       "    .dataframe tbody tr th {\n",
       "        vertical-align: top;\n",
       "    }\n",
       "\n",
       "    .dataframe thead th {\n",
       "        text-align: right;\n",
       "    }\n",
       "</style>\n",
       "<table border=\"1\" class=\"dataframe\">\n",
       "  <thead>\n",
       "    <tr style=\"text-align: right;\">\n",
       "      <th></th>\n",
       "      <th>paths</th>\n",
       "      <th>t_0</th>\n",
       "      <th>t_n</th>\n",
       "    </tr>\n",
       "  </thead>\n",
       "  <tbody>\n",
       "    <tr>\n",
       "      <th>0</th>\n",
       "      <td>/data/eolson/results/MEOPAR/SS36runs/GrahamRun...</td>\n",
       "      <td>2015-01-01</td>\n",
       "      <td>2015-01-21</td>\n",
       "    </tr>\n",
       "    <tr>\n",
       "      <th>1</th>\n",
       "      <td>/data/eolson/results/MEOPAR/SS36runs/GrahamRun...</td>\n",
       "      <td>2015-01-21</td>\n",
       "      <td>2015-02-10</td>\n",
       "    </tr>\n",
       "    <tr>\n",
       "      <th>2</th>\n",
       "      <td>/data/eolson/results/MEOPAR/SS36runs/GrahamRun...</td>\n",
       "      <td>2015-02-10</td>\n",
       "      <td>2015-03-02</td>\n",
       "    </tr>\n",
       "    <tr>\n",
       "      <th>3</th>\n",
       "      <td>/data/eolson/results/MEOPAR/SS36runs/GrahamRun...</td>\n",
       "      <td>2015-03-02</td>\n",
       "      <td>2015-03-22</td>\n",
       "    </tr>\n",
       "    <tr>\n",
       "      <th>4</th>\n",
       "      <td>/data/eolson/results/MEOPAR/SS36runs/GrahamRun...</td>\n",
       "      <td>2015-03-22</td>\n",
       "      <td>2015-04-11</td>\n",
       "    </tr>\n",
       "  </tbody>\n",
       "</table>\n",
       "</div>"
      ],
      "text/plain": [
       "                                               paths        t_0        t_n\n",
       "0  /data/eolson/results/MEOPAR/SS36runs/GrahamRun... 2015-01-01 2015-01-21\n",
       "1  /data/eolson/results/MEOPAR/SS36runs/GrahamRun... 2015-01-21 2015-02-10\n",
       "2  /data/eolson/results/MEOPAR/SS36runs/GrahamRun... 2015-02-10 2015-03-02\n",
       "3  /data/eolson/results/MEOPAR/SS36runs/GrahamRun... 2015-03-02 2015-03-22\n",
       "4  /data/eolson/results/MEOPAR/SS36runs/GrahamRun... 2015-03-22 2015-04-11"
      ]
     },
     "execution_count": 8,
     "metadata": {},
     "output_type": "execute_result"
    }
   ],
   "source": [
    "fPlist.head()"
   ]
  },
  {
   "cell_type": "code",
   "execution_count": 9,
   "metadata": {},
   "outputs": [
    {
     "data": {
      "text/html": [
       "<div>\n",
       "<style scoped>\n",
       "    .dataframe tbody tr th:only-of-type {\n",
       "        vertical-align: middle;\n",
       "    }\n",
       "\n",
       "    .dataframe tbody tr th {\n",
       "        vertical-align: top;\n",
       "    }\n",
       "\n",
       "    .dataframe thead th {\n",
       "        text-align: right;\n",
       "    }\n",
       "</style>\n",
       "<table border=\"1\" class=\"dataframe\">\n",
       "  <thead>\n",
       "    <tr style=\"text-align: right;\">\n",
       "      <th></th>\n",
       "      <th>paths</th>\n",
       "      <th>t_0</th>\n",
       "      <th>t_n</th>\n",
       "    </tr>\n",
       "  </thead>\n",
       "  <tbody>\n",
       "    <tr>\n",
       "      <th>0</th>\n",
       "      <td>/data/eolson/results/MEOPAR/SS36runs/GrahamRun...</td>\n",
       "      <td>2015-01-01</td>\n",
       "      <td>2015-01-21</td>\n",
       "    </tr>\n",
       "    <tr>\n",
       "      <th>1</th>\n",
       "      <td>/data/eolson/results/MEOPAR/SS36runs/GrahamRun...</td>\n",
       "      <td>2015-01-21</td>\n",
       "      <td>2015-02-10</td>\n",
       "    </tr>\n",
       "    <tr>\n",
       "      <th>2</th>\n",
       "      <td>/data/eolson/results/MEOPAR/SS36runs/GrahamRun...</td>\n",
       "      <td>2015-02-10</td>\n",
       "      <td>2015-03-02</td>\n",
       "    </tr>\n",
       "    <tr>\n",
       "      <th>3</th>\n",
       "      <td>/data/eolson/results/MEOPAR/SS36runs/GrahamRun...</td>\n",
       "      <td>2015-03-02</td>\n",
       "      <td>2015-03-22</td>\n",
       "    </tr>\n",
       "    <tr>\n",
       "      <th>4</th>\n",
       "      <td>/data/eolson/results/MEOPAR/SS36runs/GrahamRun...</td>\n",
       "      <td>2015-03-22</td>\n",
       "      <td>2015-04-11</td>\n",
       "    </tr>\n",
       "  </tbody>\n",
       "</table>\n",
       "</div>"
      ],
      "text/plain": [
       "                                               paths        t_0        t_n\n",
       "0  /data/eolson/results/MEOPAR/SS36runs/GrahamRun... 2015-01-01 2015-01-21\n",
       "1  /data/eolson/results/MEOPAR/SS36runs/GrahamRun... 2015-01-21 2015-02-10\n",
       "2  /data/eolson/results/MEOPAR/SS36runs/GrahamRun... 2015-02-10 2015-03-02\n",
       "3  /data/eolson/results/MEOPAR/SS36runs/GrahamRun... 2015-03-02 2015-03-22\n",
       "4  /data/eolson/results/MEOPAR/SS36runs/GrahamRun... 2015-03-22 2015-04-11"
      ]
     },
     "execution_count": 9,
     "metadata": {},
     "output_type": "execute_result"
    }
   ],
   "source": [
    "fDlist.head()"
   ]
  },
  {
   "cell_type": "code",
   "execution_count": 10,
   "metadata": {},
   "outputs": [
    {
     "data": {
      "text/html": [
       "<div>\n",
       "<style scoped>\n",
       "    .dataframe tbody tr th:only-of-type {\n",
       "        vertical-align: middle;\n",
       "    }\n",
       "\n",
       "    .dataframe tbody tr th {\n",
       "        vertical-align: top;\n",
       "    }\n",
       "\n",
       "    .dataframe thead th {\n",
       "        text-align: right;\n",
       "    }\n",
       "</style>\n",
       "<table border=\"1\" class=\"dataframe\">\n",
       "  <thead>\n",
       "    <tr style=\"text-align: right;\">\n",
       "      <th></th>\n",
       "      <th>paths</th>\n",
       "      <th>t_0</th>\n",
       "      <th>t_n</th>\n",
       "    </tr>\n",
       "  </thead>\n",
       "  <tbody>\n",
       "    <tr>\n",
       "      <th>0</th>\n",
       "      <td>/data/eolson/results/MEOPAR/SS36runs/GrahamRun...</td>\n",
       "      <td>2015-01-01</td>\n",
       "      <td>2015-01-21</td>\n",
       "    </tr>\n",
       "    <tr>\n",
       "      <th>1</th>\n",
       "      <td>/data/eolson/results/MEOPAR/SS36runs/GrahamRun...</td>\n",
       "      <td>2015-01-21</td>\n",
       "      <td>2015-02-10</td>\n",
       "    </tr>\n",
       "    <tr>\n",
       "      <th>2</th>\n",
       "      <td>/data/eolson/results/MEOPAR/SS36runs/GrahamRun...</td>\n",
       "      <td>2015-02-10</td>\n",
       "      <td>2015-03-02</td>\n",
       "    </tr>\n",
       "    <tr>\n",
       "      <th>3</th>\n",
       "      <td>/data/eolson/results/MEOPAR/SS36runs/GrahamRun...</td>\n",
       "      <td>2015-03-02</td>\n",
       "      <td>2015-03-22</td>\n",
       "    </tr>\n",
       "    <tr>\n",
       "      <th>4</th>\n",
       "      <td>/data/eolson/results/MEOPAR/SS36runs/GrahamRun...</td>\n",
       "      <td>2015-03-22</td>\n",
       "      <td>2015-04-11</td>\n",
       "    </tr>\n",
       "  </tbody>\n",
       "</table>\n",
       "</div>"
      ],
      "text/plain": [
       "                                               paths        t_0        t_n\n",
       "0  /data/eolson/results/MEOPAR/SS36runs/GrahamRun... 2015-01-01 2015-01-21\n",
       "1  /data/eolson/results/MEOPAR/SS36runs/GrahamRun... 2015-01-21 2015-02-10\n",
       "2  /data/eolson/results/MEOPAR/SS36runs/GrahamRun... 2015-02-10 2015-03-02\n",
       "3  /data/eolson/results/MEOPAR/SS36runs/GrahamRun... 2015-03-02 2015-03-22\n",
       "4  /data/eolson/results/MEOPAR/SS36runs/GrahamRun... 2015-03-22 2015-04-11"
      ]
     },
     "execution_count": 10,
     "metadata": {},
     "output_type": "execute_result"
    }
   ],
   "source": [
    "fD2list.head()"
   ]
  },
  {
   "cell_type": "code",
   "execution_count": 11,
   "metadata": {},
   "outputs": [
    {
     "data": {
      "text/html": [
       "<div>\n",
       "<style scoped>\n",
       "    .dataframe tbody tr th:only-of-type {\n",
       "        vertical-align: middle;\n",
       "    }\n",
       "\n",
       "    .dataframe tbody tr th {\n",
       "        vertical-align: top;\n",
       "    }\n",
       "\n",
       "    .dataframe thead th {\n",
       "        text-align: right;\n",
       "    }\n",
       "</style>\n",
       "<table border=\"1\" class=\"dataframe\">\n",
       "  <thead>\n",
       "    <tr style=\"text-align: right;\">\n",
       "      <th></th>\n",
       "      <th>paths</th>\n",
       "      <th>t_0</th>\n",
       "      <th>t_n</th>\n",
       "    </tr>\n",
       "  </thead>\n",
       "  <tbody>\n",
       "    <tr>\n",
       "      <th>14</th>\n",
       "      <td>/data/eolson/results/MEOPAR/SS36runs/GrahamRun...</td>\n",
       "      <td>2015-10-08</td>\n",
       "      <td>2015-10-28</td>\n",
       "    </tr>\n",
       "    <tr>\n",
       "      <th>15</th>\n",
       "      <td>/data/eolson/results/MEOPAR/SS36runs/GrahamRun...</td>\n",
       "      <td>2015-10-28</td>\n",
       "      <td>2015-11-17</td>\n",
       "    </tr>\n",
       "    <tr>\n",
       "      <th>16</th>\n",
       "      <td>/data/eolson/results/MEOPAR/SS36runs/GrahamRun...</td>\n",
       "      <td>2015-11-17</td>\n",
       "      <td>2015-12-07</td>\n",
       "    </tr>\n",
       "    <tr>\n",
       "      <th>17</th>\n",
       "      <td>/data/eolson/results/MEOPAR/SS36runs/GrahamRun...</td>\n",
       "      <td>2015-12-07</td>\n",
       "      <td>2015-12-27</td>\n",
       "    </tr>\n",
       "    <tr>\n",
       "      <th>18</th>\n",
       "      <td>/data/eolson/results/MEOPAR/SS36runs/GrahamRun...</td>\n",
       "      <td>2015-12-27</td>\n",
       "      <td>2016-01-16</td>\n",
       "    </tr>\n",
       "  </tbody>\n",
       "</table>\n",
       "</div>"
      ],
      "text/plain": [
       "                                                paths        t_0        t_n\n",
       "14  /data/eolson/results/MEOPAR/SS36runs/GrahamRun... 2015-10-08 2015-10-28\n",
       "15  /data/eolson/results/MEOPAR/SS36runs/GrahamRun... 2015-10-28 2015-11-17\n",
       "16  /data/eolson/results/MEOPAR/SS36runs/GrahamRun... 2015-11-17 2015-12-07\n",
       "17  /data/eolson/results/MEOPAR/SS36runs/GrahamRun... 2015-12-07 2015-12-27\n",
       "18  /data/eolson/results/MEOPAR/SS36runs/GrahamRun... 2015-12-27 2016-01-16"
      ]
     },
     "execution_count": 11,
     "metadata": {},
     "output_type": "execute_result"
    }
   ],
   "source": [
    "fD2list.tail()"
   ]
  },
  {
   "cell_type": "code",
   "execution_count": 12,
   "metadata": {},
   "outputs": [
    {
     "data": {
      "text/html": [
       "<div>\n",
       "<style scoped>\n",
       "    .dataframe tbody tr th:only-of-type {\n",
       "        vertical-align: middle;\n",
       "    }\n",
       "\n",
       "    .dataframe tbody tr th {\n",
       "        vertical-align: top;\n",
       "    }\n",
       "\n",
       "    .dataframe thead th {\n",
       "        text-align: right;\n",
       "    }\n",
       "</style>\n",
       "<table border=\"1\" class=\"dataframe\">\n",
       "  <thead>\n",
       "    <tr style=\"text-align: right;\">\n",
       "      <th></th>\n",
       "      <th>paths</th>\n",
       "      <th>t_0</th>\n",
       "      <th>t_n</th>\n",
       "    </tr>\n",
       "  </thead>\n",
       "  <tbody>\n",
       "    <tr>\n",
       "      <th>14</th>\n",
       "      <td>/data/eolson/results/MEOPAR/SS36runs/GrahamRun...</td>\n",
       "      <td>2015-10-08</td>\n",
       "      <td>2015-10-28</td>\n",
       "    </tr>\n",
       "    <tr>\n",
       "      <th>15</th>\n",
       "      <td>/data/eolson/results/MEOPAR/SS36runs/GrahamRun...</td>\n",
       "      <td>2015-10-28</td>\n",
       "      <td>2015-11-17</td>\n",
       "    </tr>\n",
       "    <tr>\n",
       "      <th>16</th>\n",
       "      <td>/data/eolson/results/MEOPAR/SS36runs/GrahamRun...</td>\n",
       "      <td>2015-11-17</td>\n",
       "      <td>2015-12-07</td>\n",
       "    </tr>\n",
       "    <tr>\n",
       "      <th>17</th>\n",
       "      <td>/data/eolson/results/MEOPAR/SS36runs/GrahamRun...</td>\n",
       "      <td>2015-12-07</td>\n",
       "      <td>2015-12-27</td>\n",
       "    </tr>\n",
       "    <tr>\n",
       "      <th>18</th>\n",
       "      <td>/data/eolson/results/MEOPAR/SS36runs/GrahamRun...</td>\n",
       "      <td>2015-12-27</td>\n",
       "      <td>2016-01-16</td>\n",
       "    </tr>\n",
       "  </tbody>\n",
       "</table>\n",
       "</div>"
      ],
      "text/plain": [
       "                                                paths        t_0        t_n\n",
       "14  /data/eolson/results/MEOPAR/SS36runs/GrahamRun... 2015-10-08 2015-10-28\n",
       "15  /data/eolson/results/MEOPAR/SS36runs/GrahamRun... 2015-10-28 2015-11-17\n",
       "16  /data/eolson/results/MEOPAR/SS36runs/GrahamRun... 2015-11-17 2015-12-07\n",
       "17  /data/eolson/results/MEOPAR/SS36runs/GrahamRun... 2015-12-07 2015-12-27\n",
       "18  /data/eolson/results/MEOPAR/SS36runs/GrahamRun... 2015-12-27 2016-01-16"
      ]
     },
     "execution_count": 12,
     "metadata": {},
     "output_type": "execute_result"
    }
   ],
   "source": [
    "fSlist.tail()"
   ]
  },
  {
   "cell_type": "code",
   "execution_count": 46,
   "metadata": {},
   "outputs": [
    {
     "data": {
      "text/plain": [
       "16"
      ]
     },
     "execution_count": 46,
     "metadata": {},
     "output_type": "execute_result"
    }
   ],
   "source": [
    "(fSlist.loc[len(fSlist)-1,['t_n']][0]-te).days"
   ]
  },
  {
   "cell_type": "code",
   "execution_count": 13,
   "metadata": {},
   "outputs": [
    {
     "name": "stdout",
     "output_type": "stream",
     "text": [
      "fP.variables.keys(): dict_keys(['nav_lat', 'nav_lon', 'bounds_nav_lon', 'bounds_nav_lat', 'area', 'deptht', 'deptht_bounds', 'time_centered', 'time_centered_bounds', 'time_counter', 'time_counter_bounds', 'RDB_NO3', 'RDB_NH4', 'RDB_DON', 'RDB_PON', 'RDB_LIV', 'RDN_NO3', 'RDN_NH4', 'RDN_DON', 'RDN_PON', 'RDN_LIV'])\n",
      "Min/Max:\n",
      "RDB_NO3 : 0.0 0.0\n",
      "RDB_NH4 : 0.0 0.0\n",
      "RDB_DON : 0.0 0.0\n",
      "RDB_PON : 0.0 0.0\n",
      "RDB_LIV : 0.0 0.0008798072\n",
      "RDN_NO3 : 0.0 0.0\n",
      "RDN_NH4 : 0.0 0.0\n",
      "RDN_DON : 0.0 0.0\n",
      "RDN_PON : 0.0 0.0\n",
      "RDN_LIV : 0.0 0.008846585\n"
     ]
    }
   ],
   "source": [
    "with nc.Dataset(fRlist.paths[0]) as ff:\n",
    "    checkall(ff)"
   ]
  },
  {
   "cell_type": "code",
   "execution_count": 14,
   "metadata": {},
   "outputs": [
    {
     "name": "stdout",
     "output_type": "stream",
     "text": [
      "fP.variables.keys(): dict_keys(['nav_lat', 'nav_lon', 'bounds_nav_lon', 'bounds_nav_lat', 'area', 'deptht', 'deptht_bounds', 'time_centered', 'time_centered_bounds', 'time_counter', 'time_counter_bounds', 'NO3RAD', 'RIV_NO3', 'RIV_NH4', 'REM_NO3', 'REM_PON', 'REM_DON', 'PRD_NO3', 'PRD_NH4', 'REFRN', 'TBS_DIAT', 'TBS_PON'])\n",
      "Min/Max:\n",
      "NO3RAD : 0.0 0.0\n",
      "RIV_NO3 : 0.0 4493.3955\n",
      "RIV_NH4 : 0.0 2255.5193\n",
      "REM_NO3 : 0.0 1.1458147\n",
      "REM_PON : -0.8387355 -0.0\n",
      "REM_DON : -1.2145004 -0.0\n",
      "PRD_NO3 : -1.3886348 -0.0\n",
      "PRD_NH4 : -0.36717442 -0.0\n",
      "REFRN : -4.6239016e-08 7.842898e-24\n",
      "TBS_DIAT : -0.71910423 0.6944675\n",
      "TBS_PON : -3.3938205 2.4678273\n"
     ]
    }
   ],
   "source": [
    "with nc.Dataset(fPlist.paths[0]) as ff:\n",
    "    checkall(ff)"
   ]
  },
  {
   "cell_type": "code",
   "execution_count": 16,
   "metadata": {},
   "outputs": [
    {
     "data": {
      "text/plain": [
       "(19, 18)"
      ]
     },
     "execution_count": 16,
     "metadata": {},
     "output_type": "execute_result"
    }
   ],
   "source": [
    "len(fPlist),len(fPlist[:-1])"
   ]
  },
  {
   "cell_type": "code",
   "execution_count": null,
   "metadata": {},
   "outputs": [],
   "source": [
    "radNO3Sum=list(); rivNO3Sum=list(); rivNH4Sum=list(); nitrSum=list(); remONSum=list(); prdNO3Sum=list(); \n",
    "prdNH4Sum=list(); refrNSum=list();\n",
    "radSum=list();\n",
    "for i,r in fPlist[:-1].iterrows():\n",
    "    with nc.Dataset(r['paths']) as f:\n",
    "        radNO3Sum.append(np.sum(np.sum(np.sum(tmaskSOG*f.variables['NO3RAD'][:,:,:,:],3),2),1))\n",
    "        rivNO3Sum.append(np.sum(np.sum(np.sum(tmaskSOG*f.variables['RIV_NO3'][:,:,:,:],3),2),1))\n",
    "        rivNH4Sum.append(np.sum(np.sum(np.sum(tmaskSOG*f.variables['RIV_NH4'][:,:,:,:],3),2),1))\n",
    "        nitrSum.append(np.sum(np.sum(np.sum(tmaskSOG*f.variables['REM_NO3'][:,:,:,:],3),2),1))\n",
    "        remONSum.append(np.sum(np.sum(np.sum(tmaskSOG*(f.variables['REM_DON'][:,:,:,:]+\\\n",
    "                                                       f.variables['REM_PON'][:,:,:,:]),3),2),1))\n",
    "        prdNO3Sum.append(np.sum(np.sum(np.sum(tmaskSOG*f.variables['PRD_NO3'][:,:,:,:],3),2),1))\n",
    "        prdNH4Sum.append(np.sum(np.sum(np.sum(tmaskSOG*f.variables['PRD_NH4'][:,:,:,:],3),2),1))\n",
    "        refrNSum.append(np.sum(np.sum(np.sum(tmaskSOG*f.variables['REFRN'][:,:,:,:],3),2),1))\n",
    "radNO3Sum=np.concatenate(radNO3Sum,axis=0)\n",
    "rivNO3Sum=np.concatenate(rivNO3Sum,axis=0)\n",
    "rivNH4Sum=np.concatenate(rivNH4Sum,axis=0)\n",
    "nitrSum=np.concatenate(nitrSum,axis=0)\n",
    "remONSum=np.concatenate(remONSum,axis=0)\n",
    "prdNO3Sum=np.concatenate(prdNO3Sum,axis=0)\n",
    "prdNH4Sum=np.concatenate(prdNH4Sum,axis=0)\n",
    "refrNSum=np.concatenate(refrNSum,axis=0)"
   ]
  },
  {
   "cell_type": "code",
   "execution_count": null,
   "metadata": {},
   "outputs": [],
   "source": [
    "rdbNO3Sum=list(); rdbNH4Sum=list(); rdbDONSum=list(); rdbPONSum=list(); rdbLIVSum=list(); \n",
    "rdnNO3Sum=list(); rdnNH4Sum=list(); rdnDONSum=list(); rdnPONSum=list(); rdnLIVSum=list(); \n",
    "for i,r in fRlist.iterrows():\n",
    "    with nc.Dataset(r['paths']) as f:\n",
    "        rdbNO3Sum.append(np.sum(np.sum(np.sum(tmaskSOG*f.variables['RDB_NO3'][:,:,:,:],3),2),1))\n",
    "        rdbNH4Sum.append(np.sum(np.sum(np.sum(tmaskSOG*f.variables['RDB_NH4'][:,:,:,:],3),2),1))\n",
    "        rdbDONSum.append(np.sum(np.sum(np.sum(tmaskSOG*f.variables['RDB_DON'][:,:,:,:],3),2),1))\n",
    "        rdbPONSum.append(np.sum(np.sum(np.sum(tmaskSOG*f.variables['RDB_PON'][:,:,:,:],3),2),1))\n",
    "        rdbLIVSum.append(np.sum(np.sum(np.sum(tmaskSOG*f.variables['RDB_LIV'][:,:,:,:],3),2),1))\n",
    "        rdnNO3Sum.append(np.sum(np.sum(np.sum(tmaskSOG*f.variables['RDN_NO3'][:,:,:,:],3),2),1))\n",
    "        rdnNH4Sum.append(np.sum(np.sum(np.sum(tmaskSOG*f.variables['RDN_NH4'][:,:,:,:],3),2),1))\n",
    "        rdnDONSum.append(np.sum(np.sum(np.sum(tmaskSOG*f.variables['RDN_DON'][:,:,:,:],3),2),1))\n",
    "        rdnPONSum.append(np.sum(np.sum(np.sum(tmaskSOG*f.variables['RDN_PON'][:,:,:,:],3),2),1))\n",
    "        rdnLIVSum.append(np.sum(np.sum(np.sum(tmaskSOG*f.variables['RDN_LIV'][:,:,:,:],3),2),1))\n",
    "rdbNO3Sum=np.concatenate(rdbNO3Sum,axis=0)\n",
    "rdbNH4Sum=np.concatenate(rdbNH4Sum,axis=0)\n",
    "rdbDONSum=np.concatenate(rdbDONSum,axis=0)\n",
    "rdbPONSum=np.concatenate(rdbPONSum,axis=0)\n",
    "rdbLIVSum=np.concatenate(rdbLIVSum,axis=0)\n",
    "rdnNO3Sum=np.concatenate(rdnNO3Sum,axis=0)\n",
    "rdnNH4Sum=np.concatenate(rdnNH4Sum,axis=0)\n",
    "rdnDONSum=np.concatenate(rdnDONSum,axis=0)\n",
    "rdnPONSum=np.concatenate(rdnPONSum,axis=0)\n",
    "rdnLIVSum=np.concatenate(rdnLIVSum,axis=0)"
   ]
  },
  {
   "cell_type": "code",
   "execution_count": null,
   "metadata": {},
   "outputs": [],
   "source": [
    "with nc.Dataset(fDlist.paths[0]) as ff:\n",
    "    checkall(ff)"
   ]
  },
  {
   "cell_type": "code",
   "execution_count": null,
   "metadata": {},
   "outputs": [],
   "source": [
    "ATFNO3Sum=list(); ATFNH4Sum=list(); ATFDONSum=list(); ATFPONSum=list(); ATFLIVSum=list();\n",
    "BFXPONSum=list(); BFXDIATSum=list();\n",
    "for i,r in fDlist.iterrows():\n",
    "    with nc.Dataset(r['paths']) as f:\n",
    "        ATFNO3Sum.append(np.sum(np.sum(np.sum(tmaskSOG*f.variables['ATF_NO3'][:,:,:,:],3),2),1))\n",
    "        ATFNH4Sum.append(np.sum(np.sum(np.sum(tmaskSOG*f.variables['ATF_NH4'][:,:,:,:],3),2),1))\n",
    "        ATFDONSum.append(np.sum(np.sum(np.sum(tmaskSOG*f.variables['ATF_DON'][:,:,:,:],3),2),1))\n",
    "        ATFPONSum.append(np.sum(np.sum(np.sum(tmaskSOG*f.variables['ATF_PON'][:,:,:,:],3),2),1))\n",
    "        ATFLIVSum.append(np.sum(np.sum(np.sum(tmaskSOG*f.variables['ATF_LIV'][:,:,:,:],3),2),1))\n",
    "        BFXPONSum.append(np.sum(np.sum(tmaskSOG[:,0,:,:]*e1t[:,0,:,:]*e2t[:,0,:,:]*f.variables['BFX_PON'][:,:,:],2),1))\n",
    "        BFXDIATSum.append(np.sum(np.sum(tmaskSOG[:,0,:,:]*e1t[:,0,:,:]*e2t[:,0,:,:]*f.variables['BFX_DIAT'][:,:,:],2),1))\n",
    "ATFNO3Sum=np.concatenate(ATFNO3Sum,axis=0)\n",
    "ATFNH4Sum=np.concatenate(ATFNH4Sum,axis=0)\n",
    "ATFDONSum=np.concatenate(ATFDONSum,axis=0)\n",
    "ATFPONSum=np.concatenate(ATFPONSum,axis=0)\n",
    "ATFLIVSum=np.concatenate(ATFLIVSum,axis=0)\n",
    "BFXPONSum=np.concatenate(BFXPONSum,axis=0)\n",
    "BFXDIATSum=np.concatenate(BFXDIATSum,axis=0)"
   ]
  },
  {
   "cell_type": "code",
   "execution_count": null,
   "metadata": {},
   "outputs": [],
   "source": [
    "np.shape(e1t)"
   ]
  },
  {
   "cell_type": "code",
   "execution_count": null,
   "metadata": {},
   "outputs": [],
   "source": [
    "with nc.Dataset(fD2list.paths[0]) as ff:\n",
    "    checkall(ff)"
   ]
  },
  {
   "cell_type": "code",
   "execution_count": null,
   "metadata": {},
   "outputs": [],
   "source": [
    "PHSNO3Sum=list(); PHSNH4Sum=list(); PHSDONSum=list(); PHSPONSum=list(); PHSLIVSum=list();\n",
    "SMSNO3Sum=list(); SMSNH4Sum=list(); SMSDONSum=list(); SMSPONSum=list(); SMSLIVSum=list();\n",
    "for i,r in fD2list.iterrows():\n",
    "    with nc.Dataset(r['paths']) as f:\n",
    "        PHSNO3Sum.append(np.sum(np.sum(np.sum(tmaskSOG*f.variables['PHS_NO3'][:,:,:,:],3),2),1))\n",
    "        PHSNH4Sum.append(np.sum(np.sum(np.sum(tmaskSOG*f.variables['PHS_NH4'][:,:,:,:],3),2),1))\n",
    "        PHSDONSum.append(np.sum(np.sum(np.sum(tmaskSOG*f.variables['PHS_DON'][:,:,:,:],3),2),1))\n",
    "        PHSPONSum.append(np.sum(np.sum(np.sum(tmaskSOG*f.variables['PHS_PON'][:,:,:,:],3),2),1))\n",
    "        PHSLIVSum.append(np.sum(np.sum(np.sum(tmaskSOG*f.variables['PHS_LIV'][:,:,:,:],3),2),1))\n",
    "        SMSNO3Sum.append(np.sum(np.sum(np.sum(tmaskSOG*f.variables['SMS_NO3'][:,:,:,:],3),2),1))\n",
    "        SMSNH4Sum.append(np.sum(np.sum(np.sum(tmaskSOG*f.variables['SMS_NH4'][:,:,:,:],3),2),1))\n",
    "        SMSDONSum.append(np.sum(np.sum(np.sum(tmaskSOG*f.variables['SMS_DON'][:,:,:,:],3),2),1))\n",
    "        SMSPONSum.append(np.sum(np.sum(np.sum(tmaskSOG*f.variables['SMS_PON'][:,:,:,:],3),2),1))\n",
    "        SMSLIVSum.append(np.sum(np.sum(np.sum(tmaskSOG*f.variables['SMS_LIV'][:,:,:,:],3),2),1))\n",
    "PHSNO3Sum=np.concatenate(PHSNO3Sum,axis=0)\n",
    "PHSNH4Sum=np.concatenate(PHSNH4Sum,axis=0)\n",
    "PHSDONSum=np.concatenate(PHSDONSum,axis=0)\n",
    "PHSPONSum=np.concatenate(PHSPONSum,axis=0)\n",
    "PHSLIVSum=np.concatenate(PHSLIVSum,axis=0)\n",
    "SMSNO3Sum=np.concatenate(SMSNO3Sum,axis=0)\n",
    "SMSNH4Sum=np.concatenate(SMSNH4Sum,axis=0)\n",
    "SMSDONSum=np.concatenate(SMSDONSum,axis=0)\n",
    "SMSPONSum=np.concatenate(SMSPONSum,axis=0)\n",
    "SMSLIVSum=np.concatenate(SMSLIVSum,axis=0)"
   ]
  },
  {
   "cell_type": "code",
   "execution_count": null,
   "metadata": {},
   "outputs": [],
   "source": [
    "plt.plot(SMSNO3Sum,ATFNO3Sum,'k.',label='ATF trend')\n",
    "plt.plot(SMSNH4Sum,ATFNH4Sum,'g.',label='ATF trend')\n",
    "plt.plot(SMSDONSum,ATFDONSum,'b.',label='ATF trend')\n",
    "plt.plot(SMSNO3Sum,0.1111*SMSNO3Sum,'c-', label='Bio trend * 0.112')\n",
    "plt.xlabel('Bio Trend')\n",
    "plt.ylabel('ATF Trend')\n",
    "from scipy import stats as scst\n",
    "slope, intercept, r_value, p_value, std_err = scst.linregress(SMSNO3Sum,ATFNO3Sum)\n",
    "print(slope, intercept, r_value, p_value, std_err)"
   ]
  },
  {
   "cell_type": "code",
   "execution_count": null,
   "metadata": {},
   "outputs": [],
   "source": [
    "with nc.Dataset(fSlist.paths[0]) as ff:\n",
    "    checkall(ff)"
   ]
  },
  {
   "cell_type": "code",
   "execution_count": null,
   "metadata": {},
   "outputs": [],
   "source": [
    "NO3Sum=list(); NH4Sum=list(); DONSum=list(); PONSum=list(); LIVSum=list();\n",
    "for i,r in fSlist.iterrows():\n",
    "    with nc.Dataset(r['paths']) as f:\n",
    "        NO3Sum.append(np.sum(np.sum(np.sum(tmaskSOG*e1t*e2t*f.variables['NO3_E3TSNAP'][:,:,:,:],3),2),1))\n",
    "        NH4Sum.append(np.sum(np.sum(np.sum(tmaskSOG*e1t*e2t*f.variables['NH4_E3TSNAP'][:,:,:,:],3),2),1))\n",
    "        DONSum.append(np.sum(np.sum(np.sum(tmaskSOG*e1t*e2t*f.variables['DON_E3TSNAP'][:,:,:,:],3),2),1))\n",
    "        PONSum.append(np.sum(np.sum(np.sum(tmaskSOG*e1t*e2t*f.variables['PON_E3TSNAP'][:,:,:,:],3),2),1))\n",
    "        LIVSum.append(np.sum(np.sum(np.sum(tmaskSOG*e1t*e2t*f.variables['LIV_E3TSNAP'][:,:,:,:],3),2),1))"
   ]
  },
  {
   "cell_type": "code",
   "execution_count": null,
   "metadata": {},
   "outputs": [],
   "source": [
    "NO3Sum=np.concatenate(NO3Sum,axis=0)\n",
    "NH4Sum=np.concatenate(NH4Sum,axis=0)\n",
    "DONSum=np.concatenate(DONSum,axis=0)\n",
    "PONSum=np.concatenate(PONSum,axis=0)\n",
    "LIVSum=np.concatenate(LIVSum,axis=0)"
   ]
  },
  {
   "cell_type": "code",
   "execution_count": null,
   "metadata": {},
   "outputs": [],
   "source": [
    "NO3diff=(NO3Sum[1:]-NO3Sum[:-1])/(24*3600)\n",
    "NH4diff=(NH4Sum[1:]-NH4Sum[:-1])/(24*3600)\n",
    "PONdiff=(PONSum[1:]-PONSum[:-1])/(24*3600)\n",
    "DONdiff=(DONSum[1:]-DONSum[:-1])/(24*3600)\n",
    "LIVdiff=(LIVSum[1:]-LIVSum[:-1])/(24*3600)"
   ]
  },
  {
   "cell_type": "code",
   "execution_count": null,
   "metadata": {},
   "outputs": [],
   "source": [
    "fig,ax=plt.subplots(1,3,figsize=(16,5))\n",
    "ax[0].plot(range(1,len(NO3diff)+1),NO3diff,'k-',label='no3diff')\n",
    "ax[0].plot(range(0,len(PHSNO3Sum)),PHSNO3Sum+SMSNO3Sum+ATFNO3Sum,'g--',label='phys+bio+afilt')\n",
    "ax[0].legend()\n",
    "ax[0].set_title('NO3')\n",
    "ax[1].plot(range(1,len(NH4diff)+1),NH4diff,'k-',label='NH4diff')\n",
    "ax[1].plot(range(0,len(PHSNH4Sum)),PHSNH4Sum+SMSNH4Sum+ATFNH4Sum,'g--',label='phys+bio+afilt')\n",
    "ax[1].legend()\n",
    "ax[1].set_title('NH4')\n",
    "ax[2].plot(range(1,len(DONdiff)+1),DONdiff,'k-',label='no3diff')\n",
    "ax[2].plot(range(0,len(PHSDONSum)),PHSDONSum+SMSDONSum+ATFDONSum,'g--',label='phys+bio+afilt')\n",
    "ax[2].legend()\n",
    "ax[2].set_title('DON')"
   ]
  },
  {
   "cell_type": "code",
   "execution_count": null,
   "metadata": {},
   "outputs": [],
   "source": [
    "fig,ax=plt.subplots(1,3,figsize=(16,5))\n",
    "ax[0].plot(range(1,len(NO3diff)+1),NO3diff,'k-',label='no3diff')\n",
    "ax[0].plot(range(0,len(PHSNO3Sum)),PHSNO3Sum+SMSNO3Sum+ATFNO3Sum,'g--',label='phys+bio+afilt')\n",
    "ax[0].legend()\n",
    "ax[0].set_title('NO3')\n",
    "ax[0].set_xlim((0,10))\n",
    "ax[1].plot(range(1,len(NH4diff)+1),NH4diff,'k-',label='NH4diff')\n",
    "ax[1].plot(range(0,len(PHSNH4Sum)),PHSNH4Sum+SMSNH4Sum+ATFNH4Sum,'g--',label='phys+bio+afilt')\n",
    "ax[1].legend()\n",
    "ax[1].set_title('NH4')\n",
    "ax[2].plot(range(1,len(DONdiff)+1),DONdiff,'k-',label='no3diff')\n",
    "ax[2].plot(range(0,len(PHSDONSum)),PHSDONSum+SMSDONSum+ATFDONSum,'g--',label='phys+bio+afilt')\n",
    "ax[2].legend()\n",
    "ax[2].set_title('DON')"
   ]
  },
  {
   "cell_type": "code",
   "execution_count": null,
   "metadata": {},
   "outputs": [],
   "source": [
    "fig,ax=plt.subplots(2,1,figsize=(11,10))\n",
    "ax[0].plot(range(1,len(PONdiff)+1),PONdiff,'k-',label='PONdiff')\n",
    "ax[0].plot(range(0,len(PHSPONSum)),PHSPONSum+SMSPONSum+ATFPONSum+BFXPONSum,'g--',label='phys+bio+afilt+sink')\n",
    "ax[0].legend()\n",
    "ax[0].set_title('PON')\n",
    "ax[1].plot(range(1,len(LIVdiff)+1),LIVdiff,'k-',label='LIVdiff')\n",
    "ax[1].plot(range(0,len(PHSLIVSum)),PHSLIVSum+SMSLIVSum+ATFLIVSum+BFXDIATSum,'g--',label='phys+bio+afilt+sink')\n",
    "ax[1].legend()\n",
    "ax[1].set_title('LIV')\n",
    "ax[1].set_xlim((-.5,40))"
   ]
  },
  {
   "cell_type": "code",
   "execution_count": null,
   "metadata": {},
   "outputs": [],
   "source": [
    "fig,ax=plt.subplots(2,1,figsize=(11,10))\n",
    "ax[0].plot(range(1,len(PHSPONSum)),PHSPONSum[1:]+SMSPONSum[1:]+ATFPONSum[1:]+BFXPONSum[1:]-PONdiff,'g--',label='difference')\n",
    "ax[0].legend()\n",
    "ax[0].set_title('PON')\n",
    "ax[1].plot(range(1,len(PHSLIVSum)),PHSLIVSum[1:]+SMSLIVSum[1:]+ATFLIVSum[1:]+BFXDIATSum[1:]-LIVdiff,'g--',label='difference')\n",
    "ax[1].legend()\n",
    "ax[1].set_title('LIV')\n",
    "ax[1].set_xlim((-.5,40))"
   ]
  },
  {
   "cell_type": "markdown",
   "metadata": {},
   "source": [
    "### Look at small differences in sums:"
   ]
  },
  {
   "cell_type": "code",
   "execution_count": null,
   "metadata": {},
   "outputs": [],
   "source": [
    "np.sum(radNO3Sum)"
   ]
  },
  {
   "cell_type": "code",
   "execution_count": null,
   "metadata": {},
   "outputs": [],
   "source": [
    "np.sum(NO3diff)"
   ]
  },
  {
   "cell_type": "code",
   "execution_count": null,
   "metadata": {},
   "outputs": [],
   "source": [
    "(NO3Sum[-1]-NO3Sum[0])/(24*3600)"
   ]
  },
  {
   "cell_type": "code",
   "execution_count": null,
   "metadata": {},
   "outputs": [],
   "source": [
    "# difference between fluxes and change in N content compared to rivers\n",
    "np.sum(PHSNO3Sum[1:]+SMSNO3Sum[1:]+ATFNO3Sum[1:]),np.sum(NO3diff),\\\n",
    "np.sum(PHSNO3Sum[1:]+SMSNO3Sum[1:]+ATFNO3Sum[1:])-np.sum(NO3diff),np.sum(rivNO3Sum)\n"
   ]
  },
  {
   "cell_type": "code",
   "execution_count": null,
   "metadata": {},
   "outputs": [],
   "source": [
    "varsXr={'ATNO3':'ATX_NO3', 'ATNH4':'ATX_NH4', 'ATPON':'ATX_PON', 'ATDON':'ATX_DON', 'ATLIV':'ATX_LIV', \n",
    "        'DTNO3':'DTX_NO3', 'DTNH4':'DTX_NH4', 'DTPON':'DTX_PON', 'DTDON':'DTX_DON', 'DTLIV':'DTX_LIV'}\n",
    "varsYr={'ATNO3':'ATY_NO3', 'ATNH4':'ATY_NH4', 'ATPON':'ATY_PON', 'ATDON':'ATY_DON', 'ATLIV':'ATY_LIV', \n",
    "        'DTNO3':'DTY_NO3', 'DTNH4':'DTY_NH4', 'DTPON':'DTY_PON', 'DTDON':'DTY_DON', 'DTLIV':'DTY_LIV'}\n",
    "varsX = {v: k for k, v in varsXr.items()}\n",
    "varsY = {v: k for k, v in varsYr.items()}\n",
    "locs=('mal','har','sjc','ros','dis','sut')\n",
    "dirs={'mal':-1,'har':1,'sjc':1,'ros':1,'dis':-1,'sut':-1} # in or out of domain\n",
    "transps=dict();\n",
    "fnames={'mal':'Malaspina_U','har':'Haro_V','sjc':'SJC_V','ros':'Rosario_V','dis':'Discovery_V','sut':'Sutil_V'}\n",
    "for iloc in locs:\n",
    "    transps[iloc]=dict()"
   ]
  },
  {
   "cell_type": "code",
   "execution_count": null,
   "metadata": {},
   "outputs": [],
   "source": [
    "for ivar, inam in varsX.items():\n",
    "    print(ivar,inam)"
   ]
  },
  {
   "cell_type": "code",
   "execution_count": null,
   "metadata": {},
   "outputs": [],
   "source": [
    "# x-dir\n",
    "iloc='mal'\n",
    "flist=et.index_model_files_flex(idir,'Malaspina_U','1d',ts,te)\n",
    "vls=dict()\n",
    "for inam in varsX.values():\n",
    "    vls[inam]=list()\n",
    "for i,r in flist.iterrows():\n",
    "    with nc.Dataset(r['paths']) as f:\n",
    "        for ivar, inam in varsX.items():\n",
    "            vls[inam].append(np.sum(np.sum(f.variables[ivar][:,:,:,0],2),1))\n",
    "for inam in varsX.values():\n",
    "    transps[iloc][inam]=dirs[iloc]*np.concatenate(vls[inam],axis=0)"
   ]
  },
  {
   "cell_type": "code",
   "execution_count": null,
   "metadata": {},
   "outputs": [],
   "source": [
    "for iloc in ('har','sjc','ros','dis','sut'): # y-dir\n",
    "    flist=et.index_model_files_flex(idir,fnames[iloc],'1d',ts,te)\n",
    "    vls=dict()\n",
    "    for inam in varsY.values():\n",
    "        vls[inam]=list()\n",
    "    for i,r in flist.iterrows():\n",
    "        with nc.Dataset(r['paths']) as f:\n",
    "            for ivar, inam in varsY.items():\n",
    "                vls[inam].append(np.sum(np.sum(f.variables[ivar][:,:,0,:],2),1))\n",
    "    for inam in varsY.values():\n",
    "        transps[iloc][inam]=dirs[iloc]*np.concatenate(vls[inam],axis=0)"
   ]
  },
  {
   "cell_type": "code",
   "execution_count": null,
   "metadata": {},
   "outputs": [],
   "source": [
    "fig,ax=plt.subplots(3,1,figsize=(16,15))\n",
    "advNO3=np.zeros(np.shape(transps['mal']['ATNO3']))\n",
    "for iloc in locs:\n",
    "    ax[0].plot(range(0,len(transps[iloc]['ATNO3'])),transps[iloc]['ATNO3'],label=iloc)\n",
    "    advNO3=advNO3+transps[iloc]['ATNO3']\n",
    "ax[0].plot(range(0,len(transps[iloc]['ATNO3'])),advNO3,'k-',label='sum')\n",
    "ax[0].legend()\n",
    "ax[0].set_title('Advection NO3')\n",
    "\n",
    "difNO3=np.zeros(np.shape(transps['mal']['DTNO3']))\n",
    "for iloc in locs:\n",
    "    ax[1].plot(range(0,len(transps[iloc]['DTNO3'])),transps[iloc]['DTNO3'],label=iloc)\n",
    "    difNO3=difNO3+transps[iloc]['DTNO3']\n",
    "ax[1].plot(range(0,len(transps[iloc]['DTNO3'])),difNO3,'k-',label='sum')\n",
    "ax[1].legend()\n",
    "ax[1].set_title('Diffusion NO3')\n",
    "\n",
    "ax[2].plot(range(0,len(transps[iloc]['DTNO3'])),PHSNO3Sum,'k-',label='phys')\n",
    "ax[2].plot(range(0,len(transps[iloc]['DTNO3'])),advNO3+difNO3,'r--',label='lateral')\n",
    "ax[2].legend()"
   ]
  },
  {
   "cell_type": "code",
   "execution_count": null,
   "metadata": {},
   "outputs": [],
   "source": [
    "# repeat for all N-containing classes combined\n",
    "Alist=('ATNO3','ATNH4','ATPON','ATDON','ATLIV')\n",
    "Dlist=('DTNO3','DTNH4','DTPON','DTDON','DTLIV')\n",
    "sh=np.shape(transps['mal']['ATNO3'])\n",
    "for iloc in locs:\n",
    "    transps[iloc]['ATN']=np.zeros(sh)\n",
    "    transps[iloc]['DTN']=np.zeros(sh)\n",
    "    for ivar in Alist:\n",
    "        transps[iloc]['ATN']=transps[iloc]['ATN']+transps[iloc][ivar]\n",
    "    for ivar in Dlist:\n",
    "        transps[iloc]['DTN']=transps[iloc]['DTN']+transps[iloc][ivar]"
   ]
  },
  {
   "cell_type": "code",
   "execution_count": null,
   "metadata": {},
   "outputs": [],
   "source": [
    "fig,ax=plt.subplots(3,1,figsize=(16,15))\n",
    "advN=np.zeros(sh)\n",
    "for iloc in locs:\n",
    "    ax[0].plot(range(0,len(transps[iloc]['ATN'])),transps[iloc]['ATN'],label=iloc)\n",
    "    advN=advN+transps[iloc]['ATN']\n",
    "ax[0].plot(range(0,len(transps[iloc]['ATN'])),advN,'k-',label='sum')\n",
    "ax[0].legend()\n",
    "ax[0].set_title('Advection N')\n",
    "\n",
    "difN=np.zeros(sh)\n",
    "for iloc in locs:\n",
    "    ax[1].plot(range(0,len(transps[iloc]['DTN'])),transps[iloc]['DTN'],label=iloc)\n",
    "    difN=difN+transps[iloc]['DTN']\n",
    "ax[1].plot(range(0,len(transps[iloc]['DTN'])),difN,'k-',label='sum')\n",
    "ax[1].legend()\n",
    "ax[1].set_title('Diffusion N')\n",
    "\n",
    "ax[2].plot(range(0,len(transps[iloc]['DTN'])),PHSNO3Sum+PHSNH4Sum+PHSDONSum+PHSPONSum+PHSLIVSum,'k-',label='phys')#\n",
    "ax[2].plot(range(0,len(transps[iloc]['DTN'])),advN+difN,'r--',label='lateral')\n",
    "ax[2].legend()"
   ]
  },
  {
   "cell_type": "markdown",
   "metadata": {},
   "source": [
    "## Sums"
   ]
  },
  {
   "cell_type": "code",
   "execution_count": null,
   "metadata": {},
   "outputs": [],
   "source": [
    "print('NO3, Mmol/year')\n",
    "print('Lateral Transport, Advection:\\n', np.sum(advNO3)*24*3600*1e-12)\n",
    "print('Lateral Transport, Mixing: \\n',np.sum(difNO3)*24*3600*1e-12)\n",
    "print('Rivers:\\n',np.sum(rivNO3Sum)*24*3600*1e-12)\n",
    "print('Primary Production: \\n',np.sum(prdNO3Sum)*24*3600*1e-12)\n",
    "print('Nitrification:\\n',np.sum(nitrSum)*24*3600*1e-12)\n",
    "print('Asselin Filter:\\n',np.sum(ATFNO3Sum)*24*3600*1e-12)\n",
    "print('Net change:\\n',(np.sum(advNO3)+np.sum(difNO3)+np.sum(rivNO3Sum)+np.sum(prdNO3Sum)+np.sum(nitrSum)+\\\n",
    "                      np.sum(ATFNO3Sum))*24*3600*1e-12)\n",
    "#print('Tansport+Rivers+Phytoplankton+Nitrification+Filter:\\n',(np.sum(adv[:-1])+np.sum(dif[:-1])+np.sum(rivSum[:-1])\\\n",
    "#                                                               -np.sum(PPSum[:-1])+np.sum(nitrSum[:-1])+np.sum(afiltSum[:-1]))*24*3600*1e-12)"
   ]
  },
  {
   "cell_type": "code",
   "execution_count": null,
   "metadata": {},
   "outputs": [],
   "source": [
    "print('NO3, Mmol/year, ATF-Corrected version')\n",
    "print('Lateral Transport, Advection:\\n', np.sum(advNO3)*24*3600*1e-12)\n",
    "print('Lateral Transport, Mixing: \\n',np.sum(difNO3)*24*3600*1e-12)\n",
    "print('Rivers:\\n',np.sum(rivNO3Sum)*24*3600*1e-12)\n",
    "print('NO3-based Primary Production: \\n',np.sum(prdNO3Sum)*24*3600*1e-12*1.111)\n",
    "print('NH4-based Primary Production: \\n',np.sum(prdNH4Sum)*24*3600*1e-12*1.111)\n",
    "print('Nitrification:\\n',np.sum(nitrSum)*24*3600*1e-12*1.111)\n",
    "print('Net change:\\n',(np.sum(advNO3)+np.sum(difNO3)+np.sum(rivNO3Sum)+np.sum(prdNO3Sum)*1.111+np.sum(nitrSum)*1.111\\\n",
    "                      )*24*3600*1e-12)"
   ]
  },
  {
   "cell_type": "code",
   "execution_count": null,
   "metadata": {},
   "outputs": [],
   "source": [
    "print('DIN (NH4+NO3) from Rivers:',(np.sum(rivNO3Sum)+np.sum(rivNH4Sum))*24*3600*1e-12)"
   ]
  },
  {
   "cell_type": "code",
   "execution_count": null,
   "metadata": {},
   "outputs": [],
   "source": [
    "# Haro:\n",
    "print('Haro Strait NO3:',(np.sum(transps['har']['ATNO3']))*24*3600*1e-12)\n",
    "print('Haro Strait NH4:',(np.sum(transps['har']['ATNH4']))*24*3600*1e-12)\n",
    "print('Haro Strait DIN:',(np.sum(transps['har']['ATNO3'])+np.sum(transps['har']['ATNH4']))*24*3600*1e-12)\n",
    "print('Haro Strait PON:',(np.sum(transps['har']['ATPON']))*24*3600*1e-12)\n",
    "print('Haro Strait DON:',(np.sum(transps['har']['ATDON']))*24*3600*1e-12)\n",
    "print('Haro Strait Living:',(np.sum(transps['har']['ATLIV']))*24*3600*1e-12)"
   ]
  },
  {
   "cell_type": "code",
   "execution_count": null,
   "metadata": {},
   "outputs": [],
   "source": [
    "# Southern Passages:\n",
    "print('Southern NO3:',(np.sum(transps['har']['ATNO3'])+np.sum(transps['sjc']['ATNO3'])+np.sum(transps['ros']['ATNO3']))*24*3600*1e-12)\n",
    "print('Southern NH4:',(np.sum(transps['har']['ATNH4'])+np.sum(transps['sjc']['ATNH4'])+np.sum(transps['ros']['ATNH4']))*24*3600*1e-12)\n",
    "print('Southern DIN:',(np.sum(transps['har']['ATNO3'])+np.sum(transps['sjc']['ATNO3'])+np.sum(transps['ros']['ATNO3'])+\\\n",
    "                       np.sum(transps['har']['ATNH4'])+np.sum(transps['sjc']['ATNH4'])+np.sum(transps['ros']['ATNH4']))*24*3600*1e-12)\n",
    "print('Southern PON:',(np.sum(transps['har']['ATPON'])+np.sum(transps['sjc']['ATPON'])+np.sum(transps['ros']['ATPON']))*24*3600*1e-12)\n",
    "print('Southern DON:',(np.sum(transps['har']['ATDON'])+np.sum(transps['sjc']['ATDON'])+np.sum(transps['ros']['ATDON']))*24*3600*1e-12)\n",
    "print('Southern Living:',(np.sum(transps['har']['ATLIV'])+np.sum(transps['sjc']['ATLIV'])+np.sum(transps['ros']['ATLIV']))*24*3600*1e-12)"
   ]
  },
  {
   "cell_type": "code",
   "execution_count": null,
   "metadata": {},
   "outputs": [],
   "source": [
    "# Northern Passages:\n",
    "print('Northern NO3:',(np.sum(transps['dis']['ATNO3'])+np.sum(transps['mal']['ATNO3'])+np.sum(transps['sut']['ATNO3']))*24*3600*1e-12)\n",
    "print('Northern NH4:',(np.sum(transps['dis']['ATNH4'])+np.sum(transps['mal']['ATNH4'])+np.sum(transps['sut']['ATNH4']))*24*3600*1e-12)\n",
    "print('Northern DIN:',(np.sum(transps['dis']['ATNO3'])+np.sum(transps['mal']['ATNO3'])+np.sum(transps['sut']['ATNO3'])+\\\n",
    "                       np.sum(transps['dis']['ATNH4'])+np.sum(transps['mal']['ATNH4'])+np.sum(transps['sut']['ATNH4']))*24*3600*1e-12)\n",
    "print('Northern PON:',(np.sum(transps['dis']['ATPON'])+np.sum(transps['mal']['ATPON'])+np.sum(transps['sut']['ATPON']))*24*3600*1e-12)\n",
    "print('Northern DON:',(np.sum(transps['dis']['ATDON'])+np.sum(transps['mal']['ATDON'])+np.sum(transps['sut']['ATDON']))*24*3600*1e-12)\n",
    "print('Northern Living:',(np.sum(transps['dis']['ATLIV'])+np.sum(transps['mal']['ATLIV'])+np.sum(transps['sut']['ATLIV']))*24*3600*1e-12)"
   ]
  },
  {
   "cell_type": "code",
   "execution_count": null,
   "metadata": {},
   "outputs": [],
   "source": [
    "# bio fluxes\n",
    "print('NO3-based Primary Production: \\n',np.sum(prdNO3Sum)*24*3600*1e-12*1.111)\n",
    "print('NH4-based Primary Production: \\n',np.sum(prdNH4Sum)*24*3600*1e-12*1.111)\n",
    "print('Nitrification:\\n',np.sum(nitrSum)*24*3600*1e-12*1.111)\n",
    "print('PON&DON->NH4:\\n',np.sum(remONSum)*24*3600*1e-12*1.111)\n",
    "print('To Refractory N:\\n',np.sum(refrNSum)*24*3600*1e-12*1.111)"
   ]
  },
  {
   "cell_type": "code",
   "execution_count": null,
   "metadata": {},
   "outputs": [],
   "source": [
    "# bottom flux\n",
    "print('Bottom flux diatoms: \\n',np.sum(BFXDIATSum)*24*3600*1e-12*1.111)\n",
    "print('Bottom flux PON: \\n',np.sum(BFXPONSum)*24*3600*1e-12*1.111)"
   ]
  },
  {
   "cell_type": "code",
   "execution_count": null,
   "metadata": {},
   "outputs": [],
   "source": [
    "# RAD\n",
    "print('rad correction:')\n",
    "print('    NO3: \\n',(np.sum(rdnNO3Sum)+np.sum(rdbNO3Sum))*24*3600*1e-12)\n",
    "print('    NH4: \\n',(np.sum(rdnNH4Sum)+np.sum(rdbNH4Sum))*24*3600*1e-12)\n",
    "print('    DON: \\n',(np.sum(rdnDONSum)+np.sum(rdbDONSum))*24*3600*1e-12)\n",
    "print('    PON: \\n',(np.sum(rdnPONSum)+np.sum(rdbPONSum))*24*3600*1e-12)\n",
    "print(' Living: \\n',(np.sum(rdnLIVSum)+np.sum(rdbLIVSum))*24*3600*1e-12)"
   ]
  },
  {
   "cell_type": "code",
   "execution_count": null,
   "metadata": {},
   "outputs": [],
   "source": [
    "1/1.111111"
   ]
  },
  {
   "cell_type": "code",
   "execution_count": null,
   "metadata": {},
   "outputs": [],
   "source": []
  }
 ],
 "metadata": {
  "kernelspec": {
   "display_name": "Python (py38)",
   "language": "python",
   "name": "py38"
  },
  "language_info": {
   "codemirror_mode": {
    "name": "ipython",
    "version": 3
   },
   "file_extension": ".py",
   "mimetype": "text/x-python",
   "name": "python",
   "nbconvert_exporter": "python",
   "pygments_lexer": "ipython3",
   "version": "3.8.1"
  }
 },
 "nbformat": 4,
 "nbformat_minor": 2
}
