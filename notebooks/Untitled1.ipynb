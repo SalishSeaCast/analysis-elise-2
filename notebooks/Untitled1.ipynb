{
 "cells": [
  {
   "cell_type": "code",
   "execution_count": 1,
   "metadata": {},
   "outputs": [],
   "source": [
    "import numpy as np\n",
    "import netCDF4 as nc\n",
    "import matplotlib.pyplot as plt\n",
    "import datetime as dt\n",
    "%matplotlib inline"
   ]
  },
  {
   "cell_type": "code",
   "execution_count": 3,
   "metadata": {},
   "outputs": [
    {
     "name": "stdout",
     "output_type": "stream",
     "text": [
      "2015-01-01 00:00:00\n",
      "2015-03-02 00:00:00\n",
      "2015-05-01 00:00:00\n",
      "2015-06-30 00:00:00\n",
      "2015-08-29 00:00:00\n",
      "2015-10-28 00:00:00\n",
      "2015-12-27 00:00:00\n",
      "2016-02-25 00:00:00\n",
      "2016-04-25 00:00:00\n",
      "2016-06-24 00:00:00\n"
     ]
    }
   ],
   "source": [
    "t0=dt.datetime(2015,1,1)\n",
    "for ii in range(0,10):\n",
    "    print(t0+dt.timedelta(days=ii*60))"
   ]
  },
  {
   "cell_type": "code",
   "execution_count": 4,
   "metadata": {},
   "outputs": [
    {
     "name": "stdout",
     "output_type": "stream",
     "text": [
      "2015-01-01 00:00:00\n",
      "2015-02-10 00:00:00\n",
      "2015-03-22 00:00:00\n",
      "2015-05-01 00:00:00\n",
      "2015-06-10 00:00:00\n",
      "2015-07-20 00:00:00\n",
      "2015-08-29 00:00:00\n",
      "2015-10-08 00:00:00\n",
      "2015-11-17 00:00:00\n",
      "2015-12-27 00:00:00\n"
     ]
    }
   ],
   "source": [
    "t0=dt.datetime(2015,1,1)\n",
    "for ii in range(0,10):\n",
    "    print(t0+dt.timedelta(days=ii*40))"
   ]
  },
  {
   "cell_type": "code",
   "execution_count": null,
   "metadata": {},
   "outputs": [],
   "source": []
  },
  {
   "cell_type": "code",
   "execution_count": null,
   "metadata": {},
   "outputs": [],
   "source": []
  },
  {
   "cell_type": "code",
   "execution_count": 3,
   "metadata": {},
   "outputs": [],
   "source": [
    "f=nc.Dataset('/data/eolson/results/MEOPAR/SS36runs/CedarRuns/rev_noMrubrum_0/SalishSea_1h_20150501_20150619_ptrc_T_20150531-20150609.nc')"
   ]
  },
  {
   "cell_type": "code",
   "execution_count": 4,
   "metadata": {},
   "outputs": [
    {
     "ename": "TypeError",
     "evalue": "'collections.OrderedDict' object is not callable",
     "output_type": "error",
     "traceback": [
      "\u001b[0;31m---------------------------------------------------------------------------\u001b[0m",
      "\u001b[0;31mTypeError\u001b[0m                                 Traceback (most recent call last)",
      "\u001b[0;32m<ipython-input-4-8c6b545c90f7>\u001b[0m in \u001b[0;36m<module>\u001b[0;34m\u001b[0m\n\u001b[0;32m----> 1\u001b[0;31m \u001b[0mf\u001b[0m\u001b[0;34m.\u001b[0m\u001b[0mvariables\u001b[0m\u001b[0;34m(\u001b[0m\u001b[0;34m)\u001b[0m\u001b[0;34m\u001b[0m\u001b[0;34m\u001b[0m\u001b[0m\n\u001b[0m",
      "\u001b[0;31mTypeError\u001b[0m: 'collections.OrderedDict' object is not callable"
     ]
    }
   ],
   "source": [
    "f.variables()"
   ]
  },
  {
   "cell_type": "code",
   "execution_count": 5,
   "metadata": {},
   "outputs": [
    {
     "data": {
      "text/plain": [
       "odict_keys(['nav_lat', 'nav_lon', 'bounds_nav_lon', 'bounds_nav_lat', 'area', 'deptht', 'deptht_bounds', 'time_centered', 'time_centered_bounds', 'time_counter', 'time_counter_bounds', 'nitrate', 'ammonium', 'silicon', 'diatoms', 'flagellates', 'ciliates', 'microzooplankton', 'dissolved_organic_nitrogen', 'particulate_organic_nitrogen', 'biogenic_silicon', 'mesozooplankton'])"
      ]
     },
     "execution_count": 5,
     "metadata": {},
     "output_type": "execute_result"
    }
   ],
   "source": [
    "f.variables.keys()"
   ]
  },
  {
   "cell_type": "code",
   "execution_count": 6,
   "metadata": {},
   "outputs": [
    {
     "data": {
      "text/plain": [
       "<class 'netCDF4._netCDF4.Variable'>\n",
       "float32 nitrate(time_counter, deptht, y, x)\n",
       "    standard_name: mole_concentration_of_nitrate_in_sea_water\n",
       "    long_name: Nitrate Concentration\n",
       "    units: mmol m-3\n",
       "    online_operation: average\n",
       "    interval_operation: 40 s\n",
       "    interval_write: 1 h\n",
       "    cell_methods: time: mean (interval: 40 s)\n",
       "    cell_measures: area: area\n",
       "    _FillValue: 1e+20\n",
       "    missing_value: 1e+20\n",
       "    coordinates: time_centered nav_lat nav_lon\n",
       "unlimited dimensions: time_counter\n",
       "current shape = (240, 40, 898, 398)\n",
       "filling on"
      ]
     },
     "execution_count": 6,
     "metadata": {},
     "output_type": "execute_result"
    }
   ],
   "source": [
    "f.variables['nitrate']"
   ]
  },
  {
   "cell_type": "code",
   "execution_count": null,
   "metadata": {},
   "outputs": [],
   "source": [
    "plt.pcolormesh(f.variables['nitrate'][0,])"
   ]
  }
 ],
 "metadata": {
  "kernelspec": {
   "display_name": "Python (py37)",
   "language": "python",
   "name": "py37"
  },
  "language_info": {
   "codemirror_mode": {
    "name": "ipython",
    "version": 3
   },
   "file_extension": ".py",
   "mimetype": "text/x-python",
   "name": "python",
   "nbconvert_exporter": "python",
   "pygments_lexer": "ipython3",
   "version": "3.7.5"
  }
 },
 "nbformat": 4,
 "nbformat_minor": 2
}
