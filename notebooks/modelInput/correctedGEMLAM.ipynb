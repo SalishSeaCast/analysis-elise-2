{
 "cells": [
  {
   "cell_type": "code",
   "execution_count": 1,
   "metadata": {},
   "outputs": [],
   "source": [
    "import netCDF4 as nc\n",
    "import numpy as np\n",
    "import datetime as dt\n",
    "import shutil\n",
    "import os\n",
    "import glob"
   ]
  },
  {
   "cell_type": "code",
   "execution_count": 7,
   "metadata": {},
   "outputs": [
    {
     "name": "stderr",
     "output_type": "stream",
     "text": [
      "<ipython-input-7-728e0422ff8e>:5: DeprecationWarning: `np.bool` is a deprecated alias for the builtin `bool`. To silence this warning, use `bool` by itself. Doing this will not modify any behavior and is safe. If you specifically wanted the numpy scalar type, use `np.bool_` here.\n",
      "Deprecated in NumPy 1.20; for more details and guidance: https://numpy.org/devdocs/release/1.20.0-notes.html#deprecations\n",
      "  tdiff=f.variables['time_counter'][-1]-f.variables['time_counter'][0]\n"
     ]
    },
    {
     "name": "stdout",
     "output_type": "stream",
     "text": [
      "/results/forcing/atmospheric/GEM2.5/gemlam/gemlam_y2008m07d23.nc /data/eolson/results/MEOPAR/GEMLAM/gemlam_y2008m07d23.nc 2008-07-23 00:00:00\n",
      "/results/forcing/atmospheric/GEM2.5/gemlam/gemlam_y2008m08d12.nc /data/eolson/results/MEOPAR/GEMLAM/gemlam_y2008m08d12.nc 2008-08-12 00:00:00\n",
      "/results/forcing/atmospheric/GEM2.5/gemlam/gemlam_y2009m09d05.nc /data/eolson/results/MEOPAR/GEMLAM/gemlam_y2009m09d05.nc 2009-09-05 00:00:00\n",
      "/results/forcing/atmospheric/GEM2.5/gemlam/gemlam_y2009m09d06.nc /data/eolson/results/MEOPAR/GEMLAM/gemlam_y2009m09d06.nc 2009-09-06 00:00:00\n",
      "/results/forcing/atmospheric/GEM2.5/gemlam/gemlam_y2009m09d07.nc /data/eolson/results/MEOPAR/GEMLAM/gemlam_y2009m09d07.nc 2009-09-07 00:00:00\n",
      "/results/forcing/atmospheric/GEM2.5/gemlam/gemlam_y2009m09d08.nc /data/eolson/results/MEOPAR/GEMLAM/gemlam_y2009m09d08.nc 2009-09-08 00:00:00\n",
      "/results/forcing/atmospheric/GEM2.5/gemlam/gemlam_y2010m02d06.nc /data/eolson/results/MEOPAR/GEMLAM/gemlam_y2010m02d06.nc 2010-02-06 00:00:00\n",
      "/results/forcing/atmospheric/GEM2.5/gemlam/gemlam_y2010m02d07.nc /data/eolson/results/MEOPAR/GEMLAM/gemlam_y2010m02d07.nc 2010-02-07 00:00:00\n",
      "/results/forcing/atmospheric/GEM2.5/gemlam/gemlam_y2010m03d31.nc /data/eolson/results/MEOPAR/GEMLAM/gemlam_y2010m03d31.nc 2010-03-31 00:00:00\n",
      "/results/forcing/atmospheric/GEM2.5/gemlam/gemlam_y2010m04d01.nc /data/eolson/results/MEOPAR/GEMLAM/gemlam_y2010m04d01.nc 2010-04-01 00:00:00\n",
      "/results/forcing/atmospheric/GEM2.5/gemlam/gemlam_y2010m10d12.nc /data/eolson/results/MEOPAR/GEMLAM/gemlam_y2010m10d12.nc 2010-10-12 00:00:00\n",
      "/results/forcing/atmospheric/GEM2.5/gemlam/gemlam_y2010m10d13.nc /data/eolson/results/MEOPAR/GEMLAM/gemlam_y2010m10d13.nc 2010-10-13 00:00:00\n",
      "/results/forcing/atmospheric/GEM2.5/gemlam/gemlam_y2010m10d14.nc /data/eolson/results/MEOPAR/GEMLAM/gemlam_y2010m10d14.nc 2010-10-14 00:00:00\n",
      "/results/forcing/atmospheric/GEM2.5/gemlam/gemlam_y2010m10d15.nc /data/eolson/results/MEOPAR/GEMLAM/gemlam_y2010m10d15.nc 2010-10-15 00:00:00\n",
      "/results/forcing/atmospheric/GEM2.5/gemlam/gemlam_y2011m07d17.nc /data/eolson/results/MEOPAR/GEMLAM/gemlam_y2011m07d17.nc 2011-07-17 00:00:00\n",
      "/results/forcing/atmospheric/GEM2.5/gemlam/gemlam_y2011m07d18.nc /data/eolson/results/MEOPAR/GEMLAM/gemlam_y2011m07d18.nc 2011-07-18 00:00:00\n"
     ]
    }
   ],
   "source": [
    "#find bad files:\n",
    "for el in sorted(glob.glob('/results/forcing/atmospheric/GEM2.5/gemlam/gemlam_y????m??d??.nc')):\n",
    "    #print(el)\n",
    "    with nc.Dataset(el) as f:\n",
    "        tdiff=f.variables['time_counter'][-1]-f.variables['time_counter'][0]\n",
    "    if tdiff>24*3600:\n",
    "        origfile=el\n",
    "        fname=el.split('/')[-1]\n",
    "        destfile='/data/eolson/results/MEOPAR/GEMLAM/'+fname\n",
    "        date=dt.datetime.strptime(fname,'gemlam_y%Ym%md%d.nc')\n",
    "        print(origfile,destfile,date)"
   ]
  },
  {
   "cell_type": "code",
   "execution_count": 8,
   "metadata": {},
   "outputs": [],
   "source": [
    "def fixfile(origfile,destfile,date0):\n",
    "    \n",
    "    if os.path.isfile(destfile):\n",
    "        os.remove(destfile)\n",
    "\n",
    "    fold=nc.Dataset(origfile,'r')\n",
    "\n",
    "    #[dt.datetime(1950,1,1)+dt.timedelta(seconds=ii) for ii \n",
    "    #      in fold.variables['time_counter'][:]]\n",
    "\n",
    "    fnew=nc.Dataset(destfile,'w')\n",
    "\n",
    "    ttype=fold.variables['time_counter'].dtype\n",
    "\n",
    "    newcounter=[(date0-dt.datetime(1950,1,1)).total_seconds()+\n",
    "               3600*ii for ii in range(0,24)]\n",
    "\n",
    "    fold.variables['time_counter'].dimensions\n",
    "\n",
    "    for name, dimension in fold.dimensions.items():\n",
    "        fnew.createDimension(name, (len(dimension) if not dimension.isunlimited() else None))\n",
    "\n",
    "    fnew.createVariable('time_counter',ttype,('time_counter',),fill_value=fold['time_counter'].getncattr('_FillValue'),zlib=True)\n",
    "    fnew['time_counter'][:]=newcounter[:]\n",
    "\n",
    "    atlist=[el for el in fold['time_counter'].ncattrs() if el not in ('_FillValue',)]\n",
    "    atlist\n",
    "\n",
    "    for el in atlist:\n",
    "        fnew['time_counter'].setncattr(el,fold['time_counter'].getncattr(el))\n",
    "\n",
    "    for name, variable in fold.variables.items():\n",
    "            if name not in ('time_counter',):\n",
    "                x = fnew.createVariable(name, variable.datatype, variable.dimensions,\n",
    "                                        fill_value=variable.getncattr('_FillValue'),zlib=True)\n",
    "                fnew[name][:] = fold[name][:]\n",
    "                atlist=[el for el in variable.ncattrs() if el not in ('_FillValue',)]\n",
    "                for el in atlist:\n",
    "                    fnew[name].setncattr(el,variable.getncattr(el))\n",
    "\n",
    "    fnew.history_of_appended_files=fold.history_of_appended_files\n",
    "\n",
    "    fnew.history=f'{dt.datetime.now()}: revised time_counter to accurately reflect day and time using Python netCDF4 \\n'+fold.history\n",
    "\n",
    "    fnew.NCO=fold.NCO\n",
    "\n",
    "    fnew.nco_openmp_thread_number=fold.nco_openmp_thread_number\n",
    "\n",
    "    fnew.close()\n",
    "    fold.close()"
   ]
  },
  {
   "cell_type": "code",
   "execution_count": 10,
   "metadata": {},
   "outputs": [
    {
     "name": "stderr",
     "output_type": "stream",
     "text": [
      "<ipython-input-10-72cdd5df59a9>:5: DeprecationWarning: `np.bool` is a deprecated alias for the builtin `bool`. To silence this warning, use `bool` by itself. Doing this will not modify any behavior and is safe. If you specifically wanted the numpy scalar type, use `np.bool_` here.\n",
      "Deprecated in NumPy 1.20; for more details and guidance: https://numpy.org/devdocs/release/1.20.0-notes.html#deprecations\n",
      "  tdiff=f.variables['time_counter'][-1]-f.variables['time_counter'][0]\n",
      "<ipython-input-8-e05b92b2a657>:36: DeprecationWarning: `np.bool` is a deprecated alias for the builtin `bool`. To silence this warning, use `bool` by itself. Doing this will not modify any behavior and is safe. If you specifically wanted the numpy scalar type, use `np.bool_` here.\n",
      "Deprecated in NumPy 1.20; for more details and guidance: https://numpy.org/devdocs/release/1.20.0-notes.html#deprecations\n",
      "  fnew[name][:] = fold[name][:]\n"
     ]
    },
    {
     "name": "stdout",
     "output_type": "stream",
     "text": [
      "2008-07-23 00:00:00\n",
      "2008-08-12 00:00:00\n",
      "2009-09-05 00:00:00\n",
      "2009-09-06 00:00:00\n",
      "2009-09-07 00:00:00\n",
      "2009-09-08 00:00:00\n",
      "2010-02-06 00:00:00\n",
      "2010-02-07 00:00:00\n",
      "2010-03-31 00:00:00\n",
      "2010-04-01 00:00:00\n",
      "2010-10-12 00:00:00\n",
      "2010-10-13 00:00:00\n",
      "2010-10-14 00:00:00\n",
      "2010-10-15 00:00:00\n",
      "2011-07-17 00:00:00\n",
      "2011-07-18 00:00:00\n"
     ]
    }
   ],
   "source": [
    "#fix bad files:\n",
    "for el in sorted(glob.glob('/results/forcing/atmospheric/GEM2.5/gemlam/gemlam_y????m??d??.nc')):\n",
    "    #print(el)\n",
    "    with nc.Dataset(el) as f:\n",
    "        tdiff=f.variables['time_counter'][-1]-f.variables['time_counter'][0]\n",
    "    if tdiff>24*3600:\n",
    "        origfile=el\n",
    "        fname=el.split('/')[-1]\n",
    "        destfile='/data/eolson/results/MEOPAR/GEMLAM/'+fname\n",
    "        date=dt.datetime.strptime(fname,'gemlam_y%Ym%md%d.nc')\n",
    "        fixfile(origfile,destfile,date)\n",
    "        print(date)"
   ]
  },
  {
   "cell_type": "raw",
   "metadata": {},
   "source": [
    "origfile='/results/forcing/atmospheric/GEM2.5/gemlam/gemlam_y2010m02d06.nc'\n",
    "destfile='/data/eolson/results/MEOPAR/GEMLAM/gemlam_y2010m02d06.nc'\n",
    "date0=dt.datetime(2010,2,6)"
   ]
  },
  {
   "cell_type": "raw",
   "metadata": {},
   "source": [
    "origfile='/results/forcing/atmospheric/GEM2.5/gemlam/gemlam_y2010m02d07.nc'\n",
    "destfile='/data/eolson/results/MEOPAR/GEMLAM/gemlam_y2010m02d07.nc'\n",
    "date0=dt.datetime(2010,2,7)"
   ]
  },
  {
   "cell_type": "raw",
   "metadata": {},
   "source": [
    "origfile='/results/forcing/atmospheric/GEM2.5/gemlam/gemlam_y2010m04d01.nc'\n",
    "destfile='/data/eolson/results/MEOPAR/GEMLAM/gemlam_y2010m04d01.nc'\n",
    "date0=dt.datetime(2010,4,1)"
   ]
  },
  {
   "cell_type": "raw",
   "metadata": {},
   "source": [
    "origfile='/results/forcing/atmospheric/GEM2.5/gemlam/gemlam_y2010m03d31.nc'\n",
    "destfile='/data/eolson/results/MEOPAR/GEMLAM/gemlam_y2010m03d31.nc'\n",
    "date0=dt.datetime(2010,3,31)"
   ]
  },
  {
   "cell_type": "raw",
   "metadata": {},
   "source": [
    "shutil.copy(origfile, destfile)"
   ]
  },
  {
   "cell_type": "code",
   "execution_count": null,
   "metadata": {},
   "outputs": [],
   "source": []
  },
  {
   "cell_type": "code",
   "execution_count": 11,
   "metadata": {},
   "outputs": [],
   "source": [
    "f=nc.Dataset(destfile)"
   ]
  },
  {
   "cell_type": "code",
   "execution_count": 12,
   "metadata": {},
   "outputs": [
    {
     "data": {
      "text/plain": [
       "<class 'netCDF4._netCDF4.Dataset'>\n",
       "root group (NETCDF4 data model, file format HDF5):\n",
       "    history_of_appended_files: Wed Oct 23 14:32:32 2019: Appended file /dev/shm/precip.nc had following \"history\" attribute:\n",
       "Wed Oct 23 14:32:31 2019: /usr/bin/ncdiff -4 -O -o /dev/shm/precip.nc -v precip /tmp/tmpym1xzb9n/gemlam_y2011m07d18_000.nc /tmp/tmpym1xzb9n/gemlam_y2011m07d17_023.nc\n",
       "Wed Oct 23 14:28:46 2019: /usr/bin/ncatted -a missing_variables,global,d,, /tmp/tmpym1xzb9n/gemlam_y2011m07d18_000.nc\n",
       "Wed Oct 23 14:28:46 2019: /usr/bin/ncks -4 -A -v solar /dev/shm/solar.nc /tmp/tmpym1xzb9n/gemlam_y2011m07d18_000.nc\n",
       "Wed Oct 23 14:28:46 2019: /usr/bin/ncks -4 -O -x -v solar /tmp/tmpym1xzb9n/gemlam_y2011m07d18_000.nc /tmp/tmpym1xzb9n/gemlam_y2011m07d18_000.nc\n",
       "Wed Oct 23 12:08:20 2019: /usr/bin/ncap2 -4 -O -s RT=RT*1000 /tmp/tmpym1xzb9n/2011071712_012.nc /tmp/tmpym1xzb9n/2011071712_012.nc\n",
       "Wed Oct 23 12:08:20 2019: /usr/bin/ncap2 -4 -O -s PR=PR/3.6 /tmp/tmpym1xzb9n/2011071712_012.nc /tmp/tmpym1xzb9n/2011071712_012.nc\n",
       "Wed Oct 23 12:08:20 2019: /usr/bin/ncap2 -4 -O -s VV=VV*0.514444 /tmp/tmpym1xzb9n/2011071712_012.nc /tmp/tmpym1xzb9n/2011071712_012.nc\n",
       "Wed Oct 23 12:08:20 2019: /usr/bin/ncap2 -4 -O -s UU=UU*0.514444 /tmp/tmpym1xzb9n/2011071712_012.nc /tmp/tmpym1xzb9n/2011071712_012.nc\n",
       "Wed Oct 23 12:08:20 2019: /usr/bin/ncap2 -4 -O -s PN=PN*100 /tmp/tmpym1xzb9n/2011071712_012.nc /tmp/tmpym1xzb9n/2011071712_012.nc\n",
       "Wed Oct 23 12:08:20 2019: /usr/bin/ncap2 -4 -O -s TT=TT+273.14 /tmp/tmpym1xzb9n/2011071712_012.nc /tmp/tmpym1xzb9n/2011071712_012.nc\n",
       "Wed Oct 23 12:08:20 2019: /usr/bin/ncea -4 -O -d y,20,285 -d x,110,365 /tmp/tmpym1xzb9n/2011071712_012.nc /tmp/tmpym1xzb9n/2011071712_012.nc\n",
       "Wed Oct 23 12:17:35 2019: Add specific and relative humidity and incoming longwave radiation variables from correlations\n",
       "Wed Oct 23 12:17:35 2019: Add data variables metadata\n",
       "Wed Oct 23 14:32:31 2019: Appended file /dev/shm/solar.nc had following \"history\" attribute:\n",
       "Wed Oct 23 14:32:31 2019: /usr/bin/ncra -4 -O -o /dev/shm/solar.nc -v solar /tmp/tmpym1xzb9n/gemlam_y2011m07d17_023.nc /tmp/tmpym1xzb9n/gemlam_y2011m07d18_000.nc\n",
       "Wed Oct 23 14:28:46 2019: /usr/bin/ncatted -a missing_variables,global,d,, /tmp/tmpym1xzb9n/gemlam_y2011m07d17_023.nc\n",
       "Wed Oct 23 14:28:46 2019: /usr/bin/ncks -4 -A -v solar /dev/shm/solar.nc /tmp/tmpym1xzb9n/gemlam_y2011m07d17_023.nc\n",
       "Wed Oct 23 14:28:45 2019: /usr/bin/ncks -4 -O -x -v solar /tmp/tmpym1xzb9n/gemlam_y2011m07d17_023.nc /tmp/tmpym1xzb9n/gemlam_y2011m07d17_023.nc\n",
       "Wed Oct 23 12:07:50 2019: /usr/bin/ncap2 -4 -O -s RT=RT*1000 /tmp/tmpym1xzb9n/2011071712_011.nc /tmp/tmpym1xzb9n/2011071712_011.nc\n",
       "Wed Oct 23 12:07:50 2019: /usr/bin/ncap2 -4 -O -s PR=PR/3.6 /tmp/tmpym1xzb9n/2011071712_011.nc /tmp/tmpym1xzb9n/2011071712_011.nc\n",
       "Wed Oct 23 12:07:50 2019: /usr/bin/ncap2 -4 -O -s VV=VV*0.514444 /tmp/tmpym1xzb9n/2011071712_011.nc /tmp/tmpym1xzb9n/2011071712_011.nc\n",
       "Wed Oct 23 12:07:50 2019: /usr/bin/ncap2 -4 -O -s UU=UU*0.514444 /tmp/tmpym1xzb9n/2011071712_011.nc /tmp/tmpym1xzb9n/2011071712_011.nc\n",
       "Wed Oct 23 12:07:49 2019: /usr/bin/ncap2 -4 -O -s PN=PN*100 /tmp/tmpym1xzb9n/2011071712_011.nc /tmp/tmpym1xzb9n/2011071712_011.nc\n",
       "Wed Oct 23 12:07:49 2019: /usr/bin/ncap2 -4 -O -s TT=TT+273.14 /tmp/tmpym1xzb9n/2011071712_011.nc /tmp/tmpym1xzb9n/2011071712_011.nc\n",
       "Wed Oct 23 12:07:49 2019: /usr/bin/ncea -4 -O -d y,20,285 -d x,110,365 /tmp/tmpym1xzb9n/2011071712_011.nc /tmp/tmpym1xzb9n/2011071712_011.nc\n",
       "Wed Oct 23 12:07:53 2019: Add specific and relative humidity and incoming longwave radiation variables from correlations\n",
       "Wed Oct 23 12:07:53 2019: Add data variables metadata\n",
       "Wed Oct 23 14:28:46 2019: Appended file /dev/shm/solar.nc had following \"history\" attribute:\n",
       "Wed Oct 23 14:28:46 2019: /usr/bin/ncflint -4 -O -i time_counter,1942012800 -v solar /tmp/tmpym1xzb9n/gemlam_y2011m07d15_000.nc /tmp/tmpym1xzb9n/gemlam_y2011m07d18_000.nc /dev/shm/solar.nc\n",
       "Wed Oct 23 11:40:33 2019: /usr/bin/ncap2 -4 -O -s RT=RT*1000 /tmp/tmpym1xzb9n/2011071412_012.nc /tmp/tmpym1xzb9n/2011071412_012.nc\n",
       "Wed Oct 23 11:40:33 2019: /usr/bin/ncap2 -4 -O -s PR=PR/3.6 /tmp/tmpym1xzb9n/2011071412_012.nc /tmp/tmpym1xzb9n/2011071412_012.nc\n",
       "Wed Oct 23 11:40:33 2019: /usr/bin/ncap2 -4 -O -s VV=VV*0.514444 /tmp/tmpym1xzb9n/2011071412_012.nc /tmp/tmpym1xzb9n/2011071412_012.nc\n",
       "Wed Oct 23 11:40:33 2019: /usr/bin/ncap2 -4 -O -s UU=UU*0.514444 /tmp/tmpym1xzb9n/2011071412_012.nc /tmp/tmpym1xzb9n/2011071412_012.nc\n",
       "Wed Oct 23 11:40:32 2019: /usr/bin/ncap2 -4 -O -s PN=PN*100 /tmp/tmpym1xzb9n/2011071412_012.nc /tmp/tmpym1xzb9n/2011071412_012.nc\n",
       "Wed Oct 23 11:40:32 2019: /usr/bin/ncap2 -4 -O -s TT=TT+273.14 /tmp/tmpym1xzb9n/2011071412_012.nc /tmp/tmpym1xzb9n/2011071412_012.nc\n",
       "Wed Oct 23 11:40:32 2019: /usr/bin/ncea -4 -O -d y,20,285 -d x,110,365 /tmp/tmpym1xzb9n/2011071412_012.nc /tmp/tmpym1xzb9n/2011071412_012.nc\n",
       "Wed Oct 23 11:49:23 2019: Add specific and relative humidity and incoming longwave radiation variables from correlations\n",
       "Wed Oct 23 11:49:23 2019: Add data variables metadata\n",
       "\n",
       "    history: 2021-02-19 17:17:46.242495: revised time_counter to accurately reflect day and time using Python netCDF4 \n",
       "Wed Oct 23 14:36:21 2019: /usr/bin/ncrcat -4 -L4 -O /results/forcing/atmospheric/GEM2.5/gemlam/gemlam_y2011m07d18_000.nc /results/forcing/atmospheric/GEM2.5/gemlam/gemlam_y2011m07d18_001.nc /results/forcing/atmospheric/GEM2.5/gemlam/gemlam_y2011m07d18_002.nc /results/forcing/atmospheric/GEM2.5/gemlam/gemlam_y2011m07d18_003.nc /results/forcing/atmospheric/GEM2.5/gemlam/gemlam_y2011m07d18_004.nc /results/forcing/atmospheric/GEM2.5/gemlam/gemlam_y2011m07d18_005.nc /results/forcing/atmospheric/GEM2.5/gemlam/gemlam_y2011m07d18_006.nc /results/forcing/atmospheric/GEM2.5/gemlam/gemlam_y2011m07d18_007.nc /results/forcing/atmospheric/GEM2.5/gemlam/gemlam_y2011m07d18_008.nc /results/forcing/atmospheric/GEM2.5/gemlam/gemlam_y2011m07d18_009.nc /results/forcing/atmospheric/GEM2.5/gemlam/gemlam_y2011m07d18_010.nc /results/forcing/atmospheric/GEM2.5/gemlam/gemlam_y2011m07d18_011.nc /results/forcing/atmospheric/GEM2.5/gemlam/gemlam_y2011m07d18_012.nc /results/forcing/atmospheric/GEM2.5/gemlam/gemlam_y2011m07d18_013.nc /results/forcing/atmospheric/GEM2.5/gemlam/gemlam_y2011m07d18_014.nc /results/forcing/atmospheric/GEM2.5/gemlam/gemlam_y2011m07d18_015.nc /results/forcing/atmospheric/GEM2.5/gemlam/gemlam_y2011m07d18_016.nc /results/forcing/atmospheric/GEM2.5/gemlam/gemlam_y2011m07d18_017.nc /results/forcing/atmospheric/GEM2.5/gemlam/gemlam_y2011m07d18_018.nc /results/forcing/atmospheric/GEM2.5/gemlam/gemlam_y2011m07d18_019.nc /results/forcing/atmospheric/GEM2.5/gemlam/gemlam_y2011m07d18_020.nc /results/forcing/atmospheric/GEM2.5/gemlam/gemlam_y2011m07d18_021.nc /results/forcing/atmospheric/GEM2.5/gemlam/gemlam_y2011m07d18_022.nc /results/forcing/atmospheric/GEM2.5/gemlam/gemlam_y2011m07d18_023.nc /results/forcing/atmospheric/GEM2.5/gemlam/gemlam_y2011m07d18.nc\n",
       "Wed Oct 23 14:32:32 2019: /usr/bin/ncap2 -4 -O -s time_counter=int((time_counter+900)/3600)*3600; /results/forcing/atmospheric/GEM2.5/gemlam/gemlam_y2011m07d18_000.nc /results/forcing/atmospheric/GEM2.5/gemlam/gemlam_y2011m07d18_000.nc\n",
       "Wed Oct 23 14:32:32 2019: /usr/bin/ncks -4 -A -v precip /dev/shm/precip.nc /results/forcing/atmospheric/GEM2.5/gemlam/gemlam_y2011m07d18_000.nc\n",
       "Wed Oct 23 14:32:31 2019: /usr/bin/ncks -4 -A -v solar /dev/shm/solar.nc /results/forcing/atmospheric/GEM2.5/gemlam/gemlam_y2011m07d18_000.nc\n",
       "Wed Oct 23 14:28:46 2019: /usr/bin/ncatted -a missing_variables,global,d,, /tmp/tmpym1xzb9n/gemlam_y2011m07d18_000.nc\n",
       "Wed Oct 23 14:28:46 2019: /usr/bin/ncks -4 -A -v solar /dev/shm/solar.nc /tmp/tmpym1xzb9n/gemlam_y2011m07d18_000.nc\n",
       "Wed Oct 23 14:28:46 2019: /usr/bin/ncks -4 -O -x -v solar /tmp/tmpym1xzb9n/gemlam_y2011m07d18_000.nc /tmp/tmpym1xzb9n/gemlam_y2011m07d18_000.nc\n",
       "Wed Oct 23 12:08:20 2019: /usr/bin/ncap2 -4 -O -s RT=RT*1000 /tmp/tmpym1xzb9n/2011071712_012.nc /tmp/tmpym1xzb9n/2011071712_012.nc\n",
       "Wed Oct 23 12:08:20 2019: /usr/bin/ncap2 -4 -O -s PR=PR/3.6 /tmp/tmpym1xzb9n/2011071712_012.nc /tmp/tmpym1xzb9n/2011071712_012.nc\n",
       "Wed Oct 23 12:08:20 2019: /usr/bin/ncap2 -4 -O -s VV=VV*0.514444 /tmp/tmpym1xzb9n/2011071712_012.nc /tmp/tmpym1xzb9n/2011071712_012.nc\n",
       "Wed Oct 23 12:08:20 2019: /usr/bin/ncap2 -4 -O -s UU=UU*0.514444 /tmp/tmpym1xzb9n/2011071712_012.nc /tmp/tmpym1xzb9n/2011071712_012.nc\n",
       "Wed Oct 23 12:08:20 2019: /usr/bin/ncap2 -4 -O -s PN=PN*100 /tmp/tmpym1xzb9n/2011071712_012.nc /tmp/tmpym1xzb9n/2011071712_012.nc\n",
       "Wed Oct 23 12:08:20 2019: /usr/bin/ncap2 -4 -O -s TT=TT+273.14 /tmp/tmpym1xzb9n/2011071712_012.nc /tmp/tmpym1xzb9n/2011071712_012.nc\n",
       "Wed Oct 23 12:08:20 2019: /usr/bin/ncea -4 -O -d y,20,285 -d x,110,365 /tmp/tmpym1xzb9n/2011071712_012.nc /tmp/tmpym1xzb9n/2011071712_012.nc\n",
       "Wed Oct 23 12:17:35 2019: Add specific and relative humidity and incoming longwave radiation variables from correlations\n",
       "Wed Oct 23 12:17:35 2019: Add data variables metadata\n",
       "    NCO: \"4.5.4\"\n",
       "    nco_openmp_thread_number: 1\n",
       "    dimensions(sizes): time_counter(24), y(266), x(256)\n",
       "    variables(dimensions): float64 time_counter(time_counter), float32 PRATE_surface(time_counter, y, x), float32 RH_2maboveground(time_counter, y, x), float32 atmpres(time_counter, y, x), float32 nav_lat(y, x), float32 nav_lon(y, x), float32 percentcloud(time_counter, y, x), float32 precip(time_counter, y, x), float32 qair(time_counter, y, x), float32 tair(time_counter, y, x), float32 therm_rad(time_counter, y, x), float32 u_wind(time_counter, y, x), float32 v_wind(time_counter, y, x), float32 solar(time_counter, y, x)\n",
       "    groups: "
      ]
     },
     "execution_count": 12,
     "metadata": {},
     "output_type": "execute_result"
    }
   ],
   "source": [
    "f"
   ]
  },
  {
   "cell_type": "code",
   "execution_count": 13,
   "metadata": {},
   "outputs": [
    {
     "data": {
      "text/plain": [
       "{'time_counter': <class 'netCDF4._netCDF4.Variable'>\n",
       " float64 time_counter(time_counter)\n",
       "     _FillValue: nan\n",
       "     axis: T\n",
       "     calendar: proleptic_gregorian\n",
       "     cell_methods: time_counter: mean\n",
       "     long_name: Time axis\n",
       "     standard_name: time\n",
       "     time_origin: 1950-01-01 00:00:00\n",
       "     title: Time\n",
       "     units: seconds since 1950-01-01\n",
       " unlimited dimensions: time_counter\n",
       " current shape = (24,)\n",
       " filling on,\n",
       " 'PRATE_surface': <class 'netCDF4._netCDF4.Variable'>\n",
       " float32 PRATE_surface(time_counter, y, x)\n",
       "     _FillValue: nan\n",
       "     level: surface\n",
       "     long_name: Precipitation Rate\n",
       "     standard_name: precipitation_flux\n",
       "     units: kg/m^2/s\n",
       " unlimited dimensions: time_counter\n",
       " current shape = (24, 266, 256)\n",
       " filling on,\n",
       " 'RH_2maboveground': <class 'netCDF4._netCDF4.Variable'>\n",
       " float32 RH_2maboveground(time_counter, y, x)\n",
       "     _FillValue: nan\n",
       "     level: 2 m above surface\n",
       "     long_name: Relative Humidity\n",
       "     standard_name: relative_humidity_2maboveground\n",
       "     units: percent\n",
       "     comment: calculated from air temperature and dewpoint temperature via WMO 2012 ocean best practices\n",
       " unlimited dimensions: time_counter\n",
       " current shape = (24, 266, 256)\n",
       " filling on,\n",
       " 'atmpres': <class 'netCDF4._netCDF4.Variable'>\n",
       " float32 atmpres(time_counter, y, x)\n",
       "     _FillValue: nan\n",
       "     level: mean sea level\n",
       "     long_name: Pressure Reduced to MSL\n",
       "     standard_name: air_pressure_at_sea_level\n",
       "     units: Pa\n",
       " unlimited dimensions: time_counter\n",
       " current shape = (24, 266, 256)\n",
       " filling on,\n",
       " 'nav_lat': <class 'netCDF4._netCDF4.Variable'>\n",
       " float32 nav_lat(y, x)\n",
       "     _FillValue: nan\n",
       "     units: degrees_north\n",
       "     long_name: Latitude\n",
       "     standard_name: latitude\n",
       "     axis: Y\n",
       "     ioos_category: location\n",
       " unlimited dimensions: \n",
       " current shape = (266, 256)\n",
       " filling on,\n",
       " 'nav_lon': <class 'netCDF4._netCDF4.Variable'>\n",
       " float32 nav_lon(y, x)\n",
       "     _FillValue: nan\n",
       "     units: degrees_east\n",
       "     long_name: Longitude\n",
       "     standard_name: longitude\n",
       "     axis: X\n",
       "     ioos_category: location\n",
       " unlimited dimensions: \n",
       " current shape = (266, 256)\n",
       " filling on,\n",
       " 'percentcloud': <class 'netCDF4._netCDF4.Variable'>\n",
       " float32 percentcloud(time_counter, y, x)\n",
       "     _FillValue: nan\n",
       "     long_name: Cloud Fraction\n",
       "     standard_name: cloud_area_fraction\n",
       "     units: percent\n",
       " unlimited dimensions: time_counter\n",
       " current shape = (24, 266, 256)\n",
       " filling on,\n",
       " 'precip': <class 'netCDF4._netCDF4.Variable'>\n",
       " float32 precip(time_counter, y, x)\n",
       "     _FillValue: nan\n",
       "     level: surface\n",
       "     long_name: Total Precipitation\n",
       "     standard_name: precipitation_flux\n",
       "     units: kg/m^2/s\n",
       " unlimited dimensions: time_counter\n",
       " current shape = (24, 266, 256)\n",
       " filling on,\n",
       " 'qair': <class 'netCDF4._netCDF4.Variable'>\n",
       " float32 qair(time_counter, y, x)\n",
       "     _FillValue: nan\n",
       "     level: 2 m above surface\n",
       "     long_name: Specific Humidity\n",
       "     standard_name: specific_humidity_2maboveground\n",
       "     units: kg/kg\n",
       "     comment: calculated from sea level air pressure and dewpoint temperature via WMO 2012 ocean best practices\n",
       " unlimited dimensions: time_counter\n",
       " current shape = (24, 266, 256)\n",
       " filling on,\n",
       " 'tair': <class 'netCDF4._netCDF4.Variable'>\n",
       " float32 tair(time_counter, y, x)\n",
       "     _FillValue: nan\n",
       "     level: 2 m above surface\n",
       "     long_name: Air Temperature\n",
       "     standard_name: air_temperature_2maboveground\n",
       "     units: K\n",
       " unlimited dimensions: time_counter\n",
       " current shape = (24, 266, 256)\n",
       " filling on,\n",
       " 'therm_rad': <class 'netCDF4._netCDF4.Variable'>\n",
       " float32 therm_rad(time_counter, y, x)\n",
       "     _FillValue: nan\n",
       "     level: surface\n",
       "     long_name: Downward Long-Wave Radiation Flux\n",
       "     standard_name: net_downward_longwave_flux_in_air\n",
       "     units: W/m^2\n",
       "     comment: calculated from saturation water vapour pressure, air temperature, and cloud fraction via Dilly-Unsworth correlation\n",
       " unlimited dimensions: time_counter\n",
       " current shape = (24, 266, 256)\n",
       " filling on,\n",
       " 'u_wind': <class 'netCDF4._netCDF4.Variable'>\n",
       " float32 u_wind(time_counter, y, x)\n",
       "     _FillValue: nan\n",
       "     level: 10 m above surface\n",
       "     long_name: U-Component of Wind\n",
       "     standard_name: x_wind\n",
       "     units: m/s\n",
       "     ioos_category: wind speed and direction\n",
       " unlimited dimensions: time_counter\n",
       " current shape = (24, 266, 256)\n",
       " filling on,\n",
       " 'v_wind': <class 'netCDF4._netCDF4.Variable'>\n",
       " float32 v_wind(time_counter, y, x)\n",
       "     _FillValue: nan\n",
       "     level: 10 m above surface\n",
       "     long_name: V-Component of Wind\n",
       "     standard_name: y_wind\n",
       "     units: m/s\n",
       "     ioos_category: wind speed and direction\n",
       " unlimited dimensions: time_counter\n",
       " current shape = (24, 266, 256)\n",
       " filling on,\n",
       " 'solar': <class 'netCDF4._netCDF4.Variable'>\n",
       " float32 solar(time_counter, y, x)\n",
       "     _FillValue: nan\n",
       "     level: surface\n",
       "     long_name: Downward Short-Wave Radiation Flux\n",
       "     standard_name: net_downward_shortwave_flux_in_air\n",
       "     units: W/m^2\n",
       "     cell_methods: time_counter: mean\n",
       " unlimited dimensions: time_counter\n",
       " current shape = (24, 266, 256)\n",
       " filling on}"
      ]
     },
     "execution_count": 13,
     "metadata": {},
     "output_type": "execute_result"
    }
   ],
   "source": [
    "f.variables"
   ]
  },
  {
   "cell_type": "code",
   "execution_count": 14,
   "metadata": {},
   "outputs": [
    {
     "name": "stderr",
     "output_type": "stream",
     "text": [
      "<ipython-input-14-6bbf72d9b8e1>:2: DeprecationWarning: `np.bool` is a deprecated alias for the builtin `bool`. To silence this warning, use `bool` by itself. Doing this will not modify any behavior and is safe. If you specifically wanted the numpy scalar type, use `np.bool_` here.\n",
      "Deprecated in NumPy 1.20; for more details and guidance: https://numpy.org/devdocs/release/1.20.0-notes.html#deprecations\n",
      "  in f.variables['time_counter'][:]]\n"
     ]
    },
    {
     "data": {
      "text/plain": [
       "[datetime.datetime(2011, 7, 18, 0, 0),\n",
       " datetime.datetime(2011, 7, 18, 1, 0),\n",
       " datetime.datetime(2011, 7, 18, 2, 0),\n",
       " datetime.datetime(2011, 7, 18, 3, 0),\n",
       " datetime.datetime(2011, 7, 18, 4, 0),\n",
       " datetime.datetime(2011, 7, 18, 5, 0),\n",
       " datetime.datetime(2011, 7, 18, 6, 0),\n",
       " datetime.datetime(2011, 7, 18, 7, 0),\n",
       " datetime.datetime(2011, 7, 18, 8, 0),\n",
       " datetime.datetime(2011, 7, 18, 9, 0),\n",
       " datetime.datetime(2011, 7, 18, 10, 0),\n",
       " datetime.datetime(2011, 7, 18, 11, 0),\n",
       " datetime.datetime(2011, 7, 18, 12, 0),\n",
       " datetime.datetime(2011, 7, 18, 13, 0),\n",
       " datetime.datetime(2011, 7, 18, 14, 0),\n",
       " datetime.datetime(2011, 7, 18, 15, 0),\n",
       " datetime.datetime(2011, 7, 18, 16, 0),\n",
       " datetime.datetime(2011, 7, 18, 17, 0),\n",
       " datetime.datetime(2011, 7, 18, 18, 0),\n",
       " datetime.datetime(2011, 7, 18, 19, 0),\n",
       " datetime.datetime(2011, 7, 18, 20, 0),\n",
       " datetime.datetime(2011, 7, 18, 21, 0),\n",
       " datetime.datetime(2011, 7, 18, 22, 0),\n",
       " datetime.datetime(2011, 7, 18, 23, 0)]"
      ]
     },
     "execution_count": 14,
     "metadata": {},
     "output_type": "execute_result"
    }
   ],
   "source": [
    "[dt.datetime(1950,1,1)+dt.timedelta(seconds=ii) for ii \n",
    "      in f.variables['time_counter'][:]]"
   ]
  },
  {
   "cell_type": "code",
   "execution_count": 15,
   "metadata": {},
   "outputs": [],
   "source": [
    "f.close()"
   ]
  },
  {
   "cell_type": "code",
   "execution_count": 16,
   "metadata": {},
   "outputs": [],
   "source": [
    "import xarray as xr"
   ]
  },
  {
   "cell_type": "code",
   "execution_count": 19,
   "metadata": {},
   "outputs": [],
   "source": [
    "flist=['/data/eolson/results/MEOPAR/GEMLAM/gemlam_y2010m03d30.nc',\n",
    "       '/data/eolson/results/MEOPAR/GEMLAM/gemlam_y2010m03d31.nc',\n",
    "       '/data/eolson/results/MEOPAR/GEMLAM/gemlam_y2010m04d01.nc',\n",
    "       '/data/eolson/results/MEOPAR/GEMLAM/gemlam_y2010m04d02.nc']"
   ]
  },
  {
   "cell_type": "code",
   "execution_count": 20,
   "metadata": {},
   "outputs": [],
   "source": [
    "test=xr.open_mfdataset(flist)"
   ]
  },
  {
   "cell_type": "code",
   "execution_count": 21,
   "metadata": {},
   "outputs": [
    {
     "data": {
      "text/plain": [
       "<bound method DataWithCoords.close of <xarray.Dataset>\n",
       "Dimensions:           (time_counter: 96, x: 256, y: 266)\n",
       "Coordinates:\n",
       "  * time_counter      (time_counter) datetime64[ns] 2010-03-30 ... 2010-04-02...\n",
       "Dimensions without coordinates: x, y\n",
       "Data variables:\n",
       "    nav_lon           (time_counter, y, x) float32 dask.array<chunksize=(24, 266, 256), meta=np.ndarray>\n",
       "    nav_lat           (time_counter, y, x) float32 dask.array<chunksize=(24, 266, 256), meta=np.ndarray>\n",
       "    qair              (time_counter, y, x) float32 dask.array<chunksize=(24, 266, 256), meta=np.ndarray>\n",
       "    RH_2maboveground  (time_counter, y, x) float32 dask.array<chunksize=(24, 266, 256), meta=np.ndarray>\n",
       "    therm_rad         (time_counter, y, x) float32 dask.array<chunksize=(24, 266, 256), meta=np.ndarray>\n",
       "    u_wind            (time_counter, y, x) float32 dask.array<chunksize=(24, 266, 256), meta=np.ndarray>\n",
       "    v_wind            (time_counter, y, x) float32 dask.array<chunksize=(24, 266, 256), meta=np.ndarray>\n",
       "    atmpres           (time_counter, y, x) float32 dask.array<chunksize=(24, 266, 256), meta=np.ndarray>\n",
       "    percentcloud      (time_counter, y, x) float32 dask.array<chunksize=(24, 266, 256), meta=np.ndarray>\n",
       "    PRATE_surface     (time_counter, y, x) float32 dask.array<chunksize=(24, 266, 256), meta=np.ndarray>\n",
       "    precip            (time_counter, y, x) float32 dask.array<chunksize=(24, 266, 256), meta=np.ndarray>\n",
       "    solar             (time_counter, y, x) float32 dask.array<chunksize=(24, 266, 256), meta=np.ndarray>\n",
       "    tair              (time_counter, y, x) float32 dask.array<chunksize=(24, 266, 256), meta=np.ndarray>\n",
       "Attributes:\n",
       "    nco_openmp_thread_number:   1\n",
       "    history:                    Sat Oct 12 17:32:07 2019: /usr/bin/ncrcat -4 ...\n",
       "    NCO:                        \"4.5.4\"\n",
       "    history_of_appended_files:  Sat Oct 12 17:31:39 2019: Appended file /dev/...>"
      ]
     },
     "execution_count": 21,
     "metadata": {},
     "output_type": "execute_result"
    }
   ],
   "source": [
    "test.close"
   ]
  },
  {
   "cell_type": "code",
   "execution_count": null,
   "metadata": {},
   "outputs": [],
   "source": []
  }
 ],
 "metadata": {
  "kernelspec": {
   "display_name": "Python (py39)",
   "language": "python",
   "name": "py39"
  },
  "language_info": {
   "codemirror_mode": {
    "name": "ipython",
    "version": 3
   },
   "file_extension": ".py",
   "mimetype": "text/x-python",
   "name": "python",
   "nbconvert_exporter": "python",
   "pygments_lexer": "ipython3",
   "version": "3.9.1"
  }
 },
 "nbformat": 4,
 "nbformat_minor": 4
}
