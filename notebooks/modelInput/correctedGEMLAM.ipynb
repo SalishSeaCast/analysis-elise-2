{
 "cells": [
  {
   "cell_type": "code",
   "execution_count": 1,
   "metadata": {},
   "outputs": [],
   "source": [
    "import netCDF4 as nc\n",
    "import numpy as np\n",
    "import datetime as dt\n",
    "import shutil"
   ]
  },
  {
   "cell_type": "raw",
   "metadata": {},
   "source": [
    "origfile='/results/forcing/atmospheric/GEM2.5/gemlam/gemlam_y2010m02d06.nc'\n",
    "destfile='/data/eolson/results/MEOPAR/GEMLAM/gemlam_y2010m02d06.nc'\n",
    "date0=dt.datetime(2010,2,6)"
   ]
  },
  {
   "cell_type": "raw",
   "metadata": {},
   "source": [
    "origfile='/results/forcing/atmospheric/GEM2.5/gemlam/gemlam_y2010m02d07.nc'\n",
    "destfile='/data/eolson/results/MEOPAR/GEMLAM/gemlam_y2010m02d07.nc'\n",
    "date0=dt.datetime(2010,2,7)"
   ]
  },
  {
   "cell_type": "code",
   "execution_count": 2,
   "metadata": {},
   "outputs": [],
   "source": [
    "origfile='/results/forcing/atmospheric/GEM2.5/gemlam/gemlam_y2010m04d01.nc'\n",
    "destfile='/data/eolson/results/MEOPAR/GEMLAM/gemlam_y2010m04d01.nc'\n",
    "date0=dt.datetime(2010,4,1)"
   ]
  },
  {
   "cell_type": "raw",
   "metadata": {},
   "source": [
    "shutil.copy(origfile, destfile)"
   ]
  },
  {
   "cell_type": "code",
   "execution_count": 3,
   "metadata": {},
   "outputs": [],
   "source": [
    "fold=nc.Dataset(origfile,'r')"
   ]
  },
  {
   "cell_type": "code",
   "execution_count": 4,
   "metadata": {},
   "outputs": [
    {
     "name": "stderr",
     "output_type": "stream",
     "text": [
      "<ipython-input-4-0d9c439d0c95>:2: DeprecationWarning: `np.bool` is a deprecated alias for the builtin `bool`. To silence this warning, use `bool` by itself. Doing this will not modify any behavior and is safe. If you specifically wanted the numpy scalar type, use `np.bool_` here.\n",
      "Deprecated in NumPy 1.20; for more details and guidance: https://numpy.org/devdocs/release/1.20.0-notes.html#deprecations\n",
      "  in fold.variables['time_counter'][:]]\n"
     ]
    },
    {
     "data": {
      "text/plain": [
       "[datetime.datetime(2010, 3, 29, 0, 0),\n",
       " datetime.datetime(2010, 3, 29, 1, 0),\n",
       " datetime.datetime(2010, 3, 29, 2, 0),\n",
       " datetime.datetime(2010, 3, 29, 3, 0),\n",
       " datetime.datetime(2010, 3, 29, 4, 0),\n",
       " datetime.datetime(2010, 3, 29, 5, 0),\n",
       " datetime.datetime(2010, 3, 29, 6, 0),\n",
       " datetime.datetime(2010, 3, 29, 7, 0),\n",
       " datetime.datetime(2010, 3, 29, 8, 0),\n",
       " datetime.datetime(2010, 3, 29, 9, 0),\n",
       " datetime.datetime(2010, 3, 29, 10, 0),\n",
       " datetime.datetime(2010, 3, 29, 11, 0),\n",
       " datetime.datetime(2010, 3, 29, 12, 0),\n",
       " datetime.datetime(2010, 3, 31, 1, 0),\n",
       " datetime.datetime(2010, 4, 1, 14, 0),\n",
       " datetime.datetime(2010, 4, 1, 15, 0),\n",
       " datetime.datetime(2010, 4, 1, 16, 0),\n",
       " datetime.datetime(2010, 4, 1, 17, 0),\n",
       " datetime.datetime(2010, 4, 1, 18, 0),\n",
       " datetime.datetime(2010, 4, 1, 19, 0),\n",
       " datetime.datetime(2010, 4, 1, 20, 0),\n",
       " datetime.datetime(2010, 4, 1, 21, 0),\n",
       " datetime.datetime(2010, 4, 1, 22, 0),\n",
       " datetime.datetime(2010, 4, 1, 23, 0)]"
      ]
     },
     "execution_count": 4,
     "metadata": {},
     "output_type": "execute_result"
    }
   ],
   "source": [
    "[dt.datetime(1950,1,1)+dt.timedelta(seconds=ii) for ii \n",
    "      in fold.variables['time_counter'][:]]"
   ]
  },
  {
   "cell_type": "code",
   "execution_count": 5,
   "metadata": {},
   "outputs": [],
   "source": [
    "fnew=nc.Dataset(destfile,'w')"
   ]
  },
  {
   "cell_type": "code",
   "execution_count": 6,
   "metadata": {},
   "outputs": [],
   "source": [
    "ttype=fold.variables['time_counter'].dtype"
   ]
  },
  {
   "cell_type": "code",
   "execution_count": 7,
   "metadata": {},
   "outputs": [],
   "source": [
    "newcounter=[(date0-dt.datetime(1950,1,1)).total_seconds()+\n",
    "           3600*ii for ii in range(0,24)]"
   ]
  },
  {
   "cell_type": "code",
   "execution_count": 8,
   "metadata": {},
   "outputs": [
    {
     "data": {
      "text/plain": [
       "('time_counter',)"
      ]
     },
     "execution_count": 8,
     "metadata": {},
     "output_type": "execute_result"
    }
   ],
   "source": [
    "fold.variables['time_counter'].dimensions"
   ]
  },
  {
   "cell_type": "code",
   "execution_count": 9,
   "metadata": {},
   "outputs": [],
   "source": [
    "for name, dimension in fold.dimensions.items():\n",
    "    fnew.createDimension(name, (len(dimension) if not dimension.isunlimited() else None))"
   ]
  },
  {
   "cell_type": "code",
   "execution_count": 10,
   "metadata": {},
   "outputs": [],
   "source": [
    "fnew.createVariable('time_counter',ttype,('time_counter',),fill_value=fold['time_counter'].getncattr('_FillValue'))\n",
    "fnew['time_counter'][:]=newcounter[:]"
   ]
  },
  {
   "cell_type": "code",
   "execution_count": 11,
   "metadata": {},
   "outputs": [
    {
     "data": {
      "text/plain": [
       "['axis',\n",
       " 'calendar',\n",
       " 'cell_methods',\n",
       " 'long_name',\n",
       " 'standard_name',\n",
       " 'time_origin',\n",
       " 'title',\n",
       " 'units']"
      ]
     },
     "execution_count": 11,
     "metadata": {},
     "output_type": "execute_result"
    }
   ],
   "source": [
    "atlist=[el for el in fold['time_counter'].ncattrs() if el not in ('_FillValue',)]\n",
    "atlist"
   ]
  },
  {
   "cell_type": "code",
   "execution_count": 12,
   "metadata": {},
   "outputs": [],
   "source": [
    "for el in atlist:\n",
    "    fnew['time_counter'].setncattr(el,fold['time_counter'].getncattr(el))"
   ]
  },
  {
   "cell_type": "code",
   "execution_count": 13,
   "metadata": {},
   "outputs": [
    {
     "name": "stderr",
     "output_type": "stream",
     "text": [
      "<ipython-input-13-90da30461376>:5: DeprecationWarning: `np.bool` is a deprecated alias for the builtin `bool`. To silence this warning, use `bool` by itself. Doing this will not modify any behavior and is safe. If you specifically wanted the numpy scalar type, use `np.bool_` here.\n",
      "Deprecated in NumPy 1.20; for more details and guidance: https://numpy.org/devdocs/release/1.20.0-notes.html#deprecations\n",
      "  fnew[name][:] = fold[name][:]\n"
     ]
    }
   ],
   "source": [
    "for name, variable in fold.variables.items():\n",
    "        if name not in ('time_counter',):\n",
    "            x = fnew.createVariable(name, variable.datatype, variable.dimensions,\n",
    "                                    fill_value=variable.getncattr('_FillValue'))\n",
    "            fnew[name][:] = fold[name][:]\n",
    "            atlist=[el for el in variable.ncattrs() if el not in ('_FillValue',)]\n",
    "            for el in atlist:\n",
    "                fnew[name].setncattr(el,variable.getncattr(el))"
   ]
  },
  {
   "cell_type": "code",
   "execution_count": 14,
   "metadata": {},
   "outputs": [],
   "source": [
    "fnew.history_of_appended_files=fold.history_of_appended_files"
   ]
  },
  {
   "cell_type": "code",
   "execution_count": 15,
   "metadata": {},
   "outputs": [],
   "source": [
    "fnew.history=f'{dt.datetime.now()}: revised time_counter to accurately reflect day and time using Python netCDF4 \\n'+fold.history"
   ]
  },
  {
   "cell_type": "code",
   "execution_count": 16,
   "metadata": {},
   "outputs": [],
   "source": [
    "fnew.NCO=fold.NCO"
   ]
  },
  {
   "cell_type": "code",
   "execution_count": 17,
   "metadata": {},
   "outputs": [],
   "source": [
    "fnew.nco_openmp_thread_number=fold.nco_openmp_thread_number"
   ]
  },
  {
   "cell_type": "code",
   "execution_count": 18,
   "metadata": {},
   "outputs": [],
   "source": [
    "fnew.close()\n",
    "fold.close()"
   ]
  },
  {
   "cell_type": "code",
   "execution_count": null,
   "metadata": {},
   "outputs": [],
   "source": []
  },
  {
   "cell_type": "code",
   "execution_count": 19,
   "metadata": {},
   "outputs": [],
   "source": [
    "f=nc.Dataset(destfile)"
   ]
  },
  {
   "cell_type": "code",
   "execution_count": 20,
   "metadata": {},
   "outputs": [
    {
     "data": {
      "text/plain": [
       "<class 'netCDF4._netCDF4.Dataset'>\n",
       "root group (NETCDF4 data model, file format HDF5):\n",
       "    history_of_appended_files: Sat Oct 12 17:31:48 2019: Appended file /dev/shm/precip.nc had following \"history\" attribute:\n",
       "Sat Oct 12 17:31:48 2019: /usr/bin/ncdiff -4 -O -o /dev/shm/precip.nc -v precip /data/dlatorne/tmp-rpn-to-gem-lam/gemlam_y2010m04d01_000.nc /data/dlatorne/tmp-rpn-to-gem-lam/gemlam_y2010m03d31_023.nc\n",
       "Sat Oct 12 17:31:08 2019: /usr/bin/ncatted -a missing_variables,global,d,, /data/dlatorne/tmp-rpn-to-gem-lam/gemlam_y2010m04d01_000.nc\n",
       "Sat Oct 12 17:31:08 2019: /usr/bin/ncks -4 -A -v solar /dev/shm/solar.nc /data/dlatorne/tmp-rpn-to-gem-lam/gemlam_y2010m04d01_000.nc\n",
       "Sat Oct 12 17:31:08 2019: /usr/bin/ncks -4 -O -x -v solar /data/dlatorne/tmp-rpn-to-gem-lam/gemlam_y2010m04d01_000.nc /data/dlatorne/tmp-rpn-to-gem-lam/gemlam_y2010m04d01_000.nc\n",
       "Sat Oct 12 17:12:53 2019: /usr/bin/ncap2 -4 -O -s RT=RT*1000 /data/dlatorne/tmp-rpn-to-gem-lam/2010033112_012.nc /data/dlatorne/tmp-rpn-to-gem-lam/2010033112_012.nc\n",
       "Sat Oct 12 17:12:53 2019: /usr/bin/ncap2 -4 -O -s PR=PR/3.6 /data/dlatorne/tmp-rpn-to-gem-lam/2010033112_012.nc /data/dlatorne/tmp-rpn-to-gem-lam/2010033112_012.nc\n",
       "Sat Oct 12 17:12:53 2019: /usr/bin/ncap2 -4 -O -s VV=VV*0.514444 /data/dlatorne/tmp-rpn-to-gem-lam/2010033112_012.nc /data/dlatorne/tmp-rpn-to-gem-lam/2010033112_012.nc\n",
       "Sat Oct 12 17:12:53 2019: /usr/bin/ncap2 -4 -O -s UU=UU*0.514444 /data/dlatorne/tmp-rpn-to-gem-lam/2010033112_012.nc /data/dlatorne/tmp-rpn-to-gem-lam/2010033112_012.nc\n",
       "Sat Oct 12 17:12:53 2019: /usr/bin/ncap2 -4 -O -s PN=PN*100 /data/dlatorne/tmp-rpn-to-gem-lam/2010033112_012.nc /data/dlatorne/tmp-rpn-to-gem-lam/2010033112_012.nc\n",
       "Sat Oct 12 17:12:53 2019: /usr/bin/ncap2 -4 -O -s TT=TT+273.14 /data/dlatorne/tmp-rpn-to-gem-lam/2010033112_012.nc /data/dlatorne/tmp-rpn-to-gem-lam/2010033112_012.nc\n",
       "Sat Oct 12 17:12:52 2019: /usr/bin/ncea -4 -O -d y,20,285 -d x,110,365 /data/dlatorne/tmp-rpn-to-gem-lam/2010033112_012.nc /data/dlatorne/tmp-rpn-to-gem-lam/2010033112_012.nc\n",
       "Sat Oct 12 17:21:39 2019: Add specific and relative humidity and incoming longwave radiation variables from correlations\n",
       "Sat Oct 12 17:21:39 2019: Add data variables metadata\n",
       "Sat Oct 12 17:31:48 2019: Appended file /dev/shm/solar.nc had following \"history\" attribute:\n",
       "Sat Oct 12 17:31:48 2019: /usr/bin/ncra -4 -O -o /dev/shm/solar.nc -v solar /data/dlatorne/tmp-rpn-to-gem-lam/gemlam_y2010m03d31_023.nc /data/dlatorne/tmp-rpn-to-gem-lam/gemlam_y2010m04d01_000.nc\n",
       "Sat Oct 12 17:31:08 2019: /usr/bin/ncatted -a missing_variables,global,d,, /data/dlatorne/tmp-rpn-to-gem-lam/gemlam_y2010m03d31_023.nc\n",
       "Sat Oct 12 17:31:08 2019: /usr/bin/ncks -4 -A -v solar /dev/shm/solar.nc /data/dlatorne/tmp-rpn-to-gem-lam/gemlam_y2010m03d31_023.nc\n",
       "Sat Oct 12 17:31:08 2019: /usr/bin/ncks -4 -O -x -v solar /data/dlatorne/tmp-rpn-to-gem-lam/gemlam_y2010m03d31_023.nc /data/dlatorne/tmp-rpn-to-gem-lam/gemlam_y2010m03d31_023.nc\n",
       "Sat Oct 12 17:12:27 2019: /usr/bin/ncap2 -4 -O -s RT=RT*1000 /data/dlatorne/tmp-rpn-to-gem-lam/2010033112_011.nc /data/dlatorne/tmp-rpn-to-gem-lam/2010033112_011.nc\n",
       "Sat Oct 12 17:12:27 2019: /usr/bin/ncap2 -4 -O -s PR=PR/3.6 /data/dlatorne/tmp-rpn-to-gem-lam/2010033112_011.nc /data/dlatorne/tmp-rpn-to-gem-lam/2010033112_011.nc\n",
       "Sat Oct 12 17:12:27 2019: /usr/bin/ncap2 -4 -O -s VV=VV*0.514444 /data/dlatorne/tmp-rpn-to-gem-lam/2010033112_011.nc /data/dlatorne/tmp-rpn-to-gem-lam/2010033112_011.nc\n",
       "Sat Oct 12 17:12:27 2019: /usr/bin/ncap2 -4 -O -s UU=UU*0.514444 /data/dlatorne/tmp-rpn-to-gem-lam/2010033112_011.nc /data/dlatorne/tmp-rpn-to-gem-lam/2010033112_011.nc\n",
       "Sat Oct 12 17:12:27 2019: /usr/bin/ncap2 -4 -O -s PN=PN*100 /data/dlatorne/tmp-rpn-to-gem-lam/2010033112_011.nc /data/dlatorne/tmp-rpn-to-gem-lam/2010033112_011.nc\n",
       "Sat Oct 12 17:12:27 2019: /usr/bin/ncap2 -4 -O -s TT=TT+273.14 /data/dlatorne/tmp-rpn-to-gem-lam/2010033112_011.nc /data/dlatorne/tmp-rpn-to-gem-lam/2010033112_011.nc\n",
       "Sat Oct 12 17:12:27 2019: /usr/bin/ncea -4 -O -d y,20,285 -d x,110,365 /data/dlatorne/tmp-rpn-to-gem-lam/2010033112_011.nc /data/dlatorne/tmp-rpn-to-gem-lam/2010033112_011.nc\n",
       "Sat Oct 12 17:12:30 2019: Add specific and relative humidity and incoming longwave radiation variables from correlations\n",
       "Sat Oct 12 17:12:30 2019: Add data variables metadata\n",
       "Sat Oct 12 17:31:08 2019: Appended file /dev/shm/solar.nc had following \"history\" attribute:\n",
       "Sat Oct 12 17:31:08 2019: /usr/bin/ncflint -4 -O -i time_counter,1900972800 -v solar /data/dlatorne/tmp-rpn-to-gem-lam/gemlam_y2010m03d29_000.nc /data/dlatorne/tmp-rpn-to-gem-lam/gemlam_y2010m04d01_000.nc /dev/shm/solar.nc\n",
       "Sat Oct 12 17:31:01 2019: /usr/bin/ncatted -a missing_variables,global,d,, /data/dlatorne/tmp-rpn-to-gem-lam/gemlam_y2010m03d29_000.nc\n",
       "Sat Oct 12 17:31:01 2019: /usr/bin/ncks -4 -A -v solar /dev/shm/solar.nc /data/dlatorne/tmp-rpn-to-gem-lam/gemlam_y2010m03d29_000.nc\n",
       "Sat Oct 12 17:31:01 2019: /usr/bin/ncks -4 -O -x -v solar /data/dlatorne/tmp-rpn-to-gem-lam/gemlam_y2010m03d29_000.nc /data/dlatorne/tmp-rpn-to-gem-lam/gemlam_y2010m03d29_000.nc\n",
       "Sat Oct 12 16:47:02 2019: /usr/bin/ncap2 -4 -O -s RT=RT*1000 /data/dlatorne/tmp-rpn-to-gem-lam/2010032812_012.nc /data/dlatorne/tmp-rpn-to-gem-lam/2010032812_012.nc\n",
       "Sat Oct 12 16:47:02 2019: /usr/bin/ncap2 -4 -O -s PR=PR/3.6 /data/dlatorne/tmp-rpn-to-gem-lam/2010032812_012.nc /data/dlatorne/tmp-rpn-to-gem-lam/2010032812_012.nc\n",
       "Sat Oct 12 16:47:01 2019: /usr/bin/ncap2 -4 -O -s VV=VV*0.514444 /data/dlatorne/tmp-rpn-to-gem-lam/2010032812_012.nc /data/dlatorne/tmp-rpn-to-gem-lam/2010032812_012.nc\n",
       "Sat Oct 12 16:47:01 2019: /usr/bin/ncap2 -4 -O -s UU=UU*0.514444 /data/dlatorne/tmp-rpn-to-gem-lam/2010032812_012.nc /data/dlatorne/tmp-rpn-to-gem-lam/2010032812_012.nc\n",
       "Sat Oct 12 16:47:01 2019: /usr/bin/ncap2 -4 -O -s PN=PN*100 /data/dlatorne/tmp-rpn-to-gem-lam/2010032812_012.nc /data/dlatorne/tmp-rpn-to-gem-lam/2010032812_012.nc\n",
       "Sat Oct 12 16:47:01 2019: /usr/bin/ncap2 -4 -O -s TT=TT+273.14 /data/dlatorne/tmp-rpn-to-gem-lam/2010032812_012.nc /data/dlatorne/tmp-rpn-to-gem-lam/2010032812_012.nc\n",
       "Sat Oct 12 16:47:01 2019: /usr/bin/ncea -4 -O -d y,20,285 -d x,110,365 /data/dlatorne/tmp-rpn-to-gem-lam/2010032812_012.nc /data/dlatorne/tmp-rpn-to-gem-lam/2010032812_012.nc\n",
       "Sat Oct 12 16:55:56 2019: Add specific and relative humidity and incoming longwave radiation variables from correlations\n",
       "Sat Oct 12 16:55:56 2019: Add data variables metadata\n",
       "\n",
       "    history: 2021-02-17 14:17:48.284134: revised time_counter to accurately reflect day and time using Python netCDF4 \n",
       "Sat Oct 12 17:32:10 2019: /usr/bin/ncrcat -4 -L4 -O /data/dlatorne/gemlam/gemlam_y2010m04d01_000.nc /data/dlatorne/gemlam/gemlam_y2010m04d01_001.nc /data/dlatorne/gemlam/gemlam_y2010m04d01_002.nc /data/dlatorne/gemlam/gemlam_y2010m04d01_003.nc /data/dlatorne/gemlam/gemlam_y2010m04d01_004.nc /data/dlatorne/gemlam/gemlam_y2010m04d01_005.nc /data/dlatorne/gemlam/gemlam_y2010m04d01_006.nc /data/dlatorne/gemlam/gemlam_y2010m04d01_007.nc /data/dlatorne/gemlam/gemlam_y2010m04d01_008.nc /data/dlatorne/gemlam/gemlam_y2010m04d01_009.nc /data/dlatorne/gemlam/gemlam_y2010m04d01_010.nc /data/dlatorne/gemlam/gemlam_y2010m04d01_011.nc /data/dlatorne/gemlam/gemlam_y2010m04d01_012.nc /data/dlatorne/gemlam/gemlam_y2010m04d01_013.nc /data/dlatorne/gemlam/gemlam_y2010m04d01_014.nc /data/dlatorne/gemlam/gemlam_y2010m04d01_015.nc /data/dlatorne/gemlam/gemlam_y2010m04d01_016.nc /data/dlatorne/gemlam/gemlam_y2010m04d01_017.nc /data/dlatorne/gemlam/gemlam_y2010m04d01_018.nc /data/dlatorne/gemlam/gemlam_y2010m04d01_019.nc /data/dlatorne/gemlam/gemlam_y2010m04d01_020.nc /data/dlatorne/gemlam/gemlam_y2010m04d01_021.nc /data/dlatorne/gemlam/gemlam_y2010m04d01_022.nc /data/dlatorne/gemlam/gemlam_y2010m04d01_023.nc /data/dlatorne/gemlam/gemlam_y2010m04d01.nc\n",
       "Sat Oct 12 17:31:48 2019: /usr/bin/ncap2 -4 -O -s time_counter=int((time_counter+900)/3600)*3600; /data/dlatorne/gemlam/gemlam_y2010m04d01_000.nc /data/dlatorne/gemlam/gemlam_y2010m04d01_000.nc\n",
       "Sat Oct 12 17:31:48 2019: /usr/bin/ncks -4 -A -v precip /dev/shm/precip.nc /data/dlatorne/gemlam/gemlam_y2010m04d01_000.nc\n",
       "Sat Oct 12 17:31:48 2019: /usr/bin/ncks -4 -A -v solar /dev/shm/solar.nc /data/dlatorne/gemlam/gemlam_y2010m04d01_000.nc\n",
       "Sat Oct 12 17:31:08 2019: /usr/bin/ncatted -a missing_variables,global,d,, /data/dlatorne/tmp-rpn-to-gem-lam/gemlam_y2010m04d01_000.nc\n",
       "Sat Oct 12 17:31:08 2019: /usr/bin/ncks -4 -A -v solar /dev/shm/solar.nc /data/dlatorne/tmp-rpn-to-gem-lam/gemlam_y2010m04d01_000.nc\n",
       "Sat Oct 12 17:31:08 2019: /usr/bin/ncks -4 -O -x -v solar /data/dlatorne/tmp-rpn-to-gem-lam/gemlam_y2010m04d01_000.nc /data/dlatorne/tmp-rpn-to-gem-lam/gemlam_y2010m04d01_000.nc\n",
       "Sat Oct 12 17:12:53 2019: /usr/bin/ncap2 -4 -O -s RT=RT*1000 /data/dlatorne/tmp-rpn-to-gem-lam/2010033112_012.nc /data/dlatorne/tmp-rpn-to-gem-lam/2010033112_012.nc\n",
       "Sat Oct 12 17:12:53 2019: /usr/bin/ncap2 -4 -O -s PR=PR/3.6 /data/dlatorne/tmp-rpn-to-gem-lam/2010033112_012.nc /data/dlatorne/tmp-rpn-to-gem-lam/2010033112_012.nc\n",
       "Sat Oct 12 17:12:53 2019: /usr/bin/ncap2 -4 -O -s VV=VV*0.514444 /data/dlatorne/tmp-rpn-to-gem-lam/2010033112_012.nc /data/dlatorne/tmp-rpn-to-gem-lam/2010033112_012.nc\n",
       "Sat Oct 12 17:12:53 2019: /usr/bin/ncap2 -4 -O -s UU=UU*0.514444 /data/dlatorne/tmp-rpn-to-gem-lam/2010033112_012.nc /data/dlatorne/tmp-rpn-to-gem-lam/2010033112_012.nc\n",
       "Sat Oct 12 17:12:53 2019: /usr/bin/ncap2 -4 -O -s PN=PN*100 /data/dlatorne/tmp-rpn-to-gem-lam/2010033112_012.nc /data/dlatorne/tmp-rpn-to-gem-lam/2010033112_012.nc\n",
       "Sat Oct 12 17:12:53 2019: /usr/bin/ncap2 -4 -O -s TT=TT+273.14 /data/dlatorne/tmp-rpn-to-gem-lam/2010033112_012.nc /data/dlatorne/tmp-rpn-to-gem-lam/2010033112_012.nc\n",
       "Sat Oct 12 17:12:52 2019: /usr/bin/ncea -4 -O -d y,20,285 -d x,110,365 /data/dlatorne/tmp-rpn-to-gem-lam/2010033112_012.nc /data/dlatorne/tmp-rpn-to-gem-lam/2010033112_012.nc\n",
       "Sat Oct 12 17:21:39 2019: Add specific and relative humidity and incoming longwave radiation variables from correlations\n",
       "Sat Oct 12 17:21:39 2019: Add data variables metadata\n",
       "    NCO: \"4.5.4\"\n",
       "    nco_openmp_thread_number: 1\n",
       "    dimensions(sizes): time_counter(24), y(266), x(256)\n",
       "    variables(dimensions): float64 time_counter(time_counter), float32 PRATE_surface(time_counter, y, x), float32 RH_2maboveground(time_counter, y, x), float32 atmpres(time_counter, y, x), float32 nav_lat(y, x), float32 nav_lon(y, x), float32 percentcloud(time_counter, y, x), float32 precip(time_counter, y, x), float32 qair(time_counter, y, x), float32 tair(time_counter, y, x), float32 therm_rad(time_counter, y, x), float32 u_wind(time_counter, y, x), float32 v_wind(time_counter, y, x), float32 solar(time_counter, y, x)\n",
       "    groups: "
      ]
     },
     "execution_count": 20,
     "metadata": {},
     "output_type": "execute_result"
    }
   ],
   "source": [
    "f"
   ]
  },
  {
   "cell_type": "code",
   "execution_count": 21,
   "metadata": {},
   "outputs": [
    {
     "data": {
      "text/plain": [
       "{'time_counter': <class 'netCDF4._netCDF4.Variable'>\n",
       " float64 time_counter(time_counter)\n",
       "     _FillValue: nan\n",
       "     axis: T\n",
       "     calendar: proleptic_gregorian\n",
       "     cell_methods: time_counter: mean\n",
       "     long_name: Time axis\n",
       "     standard_name: time\n",
       "     time_origin: 1950-01-01 00:00:00\n",
       "     title: Time\n",
       "     units: seconds since 1950-01-01\n",
       " unlimited dimensions: time_counter\n",
       " current shape = (24,)\n",
       " filling on,\n",
       " 'PRATE_surface': <class 'netCDF4._netCDF4.Variable'>\n",
       " float32 PRATE_surface(time_counter, y, x)\n",
       "     _FillValue: nan\n",
       "     level: surface\n",
       "     long_name: Precipitation Rate\n",
       "     standard_name: precipitation_flux\n",
       "     units: kg/m^2/s\n",
       " unlimited dimensions: time_counter\n",
       " current shape = (24, 266, 256)\n",
       " filling on,\n",
       " 'RH_2maboveground': <class 'netCDF4._netCDF4.Variable'>\n",
       " float32 RH_2maboveground(time_counter, y, x)\n",
       "     _FillValue: nan\n",
       "     level: 2 m above surface\n",
       "     long_name: Relative Humidity\n",
       "     standard_name: relative_humidity_2maboveground\n",
       "     units: percent\n",
       "     comment: calculated from air temperature and dewpoint temperature via WMO 2012 ocean best practices\n",
       " unlimited dimensions: time_counter\n",
       " current shape = (24, 266, 256)\n",
       " filling on,\n",
       " 'atmpres': <class 'netCDF4._netCDF4.Variable'>\n",
       " float32 atmpres(time_counter, y, x)\n",
       "     _FillValue: nan\n",
       "     level: mean sea level\n",
       "     long_name: Pressure Reduced to MSL\n",
       "     standard_name: air_pressure_at_sea_level\n",
       "     units: Pa\n",
       " unlimited dimensions: time_counter\n",
       " current shape = (24, 266, 256)\n",
       " filling on,\n",
       " 'nav_lat': <class 'netCDF4._netCDF4.Variable'>\n",
       " float32 nav_lat(y, x)\n",
       "     _FillValue: nan\n",
       "     units: degrees_north\n",
       "     long_name: Latitude\n",
       "     standard_name: latitude\n",
       "     axis: Y\n",
       "     ioos_category: location\n",
       " unlimited dimensions: \n",
       " current shape = (266, 256)\n",
       " filling on,\n",
       " 'nav_lon': <class 'netCDF4._netCDF4.Variable'>\n",
       " float32 nav_lon(y, x)\n",
       "     _FillValue: nan\n",
       "     units: degrees_east\n",
       "     long_name: Longitude\n",
       "     standard_name: longitude\n",
       "     axis: X\n",
       "     ioos_category: location\n",
       " unlimited dimensions: \n",
       " current shape = (266, 256)\n",
       " filling on,\n",
       " 'percentcloud': <class 'netCDF4._netCDF4.Variable'>\n",
       " float32 percentcloud(time_counter, y, x)\n",
       "     _FillValue: nan\n",
       "     long_name: Cloud Fraction\n",
       "     standard_name: cloud_area_fraction\n",
       "     units: percent\n",
       " unlimited dimensions: time_counter\n",
       " current shape = (24, 266, 256)\n",
       " filling on,\n",
       " 'precip': <class 'netCDF4._netCDF4.Variable'>\n",
       " float32 precip(time_counter, y, x)\n",
       "     _FillValue: nan\n",
       "     level: surface\n",
       "     long_name: Total Precipitation\n",
       "     standard_name: precipitation_flux\n",
       "     units: kg/m^2/s\n",
       " unlimited dimensions: time_counter\n",
       " current shape = (24, 266, 256)\n",
       " filling on,\n",
       " 'qair': <class 'netCDF4._netCDF4.Variable'>\n",
       " float32 qair(time_counter, y, x)\n",
       "     _FillValue: nan\n",
       "     level: 2 m above surface\n",
       "     long_name: Specific Humidity\n",
       "     standard_name: specific_humidity_2maboveground\n",
       "     units: kg/kg\n",
       "     comment: calculated from sea level air pressure and dewpoint temperature via WMO 2012 ocean best practices\n",
       " unlimited dimensions: time_counter\n",
       " current shape = (24, 266, 256)\n",
       " filling on,\n",
       " 'tair': <class 'netCDF4._netCDF4.Variable'>\n",
       " float32 tair(time_counter, y, x)\n",
       "     _FillValue: nan\n",
       "     level: 2 m above surface\n",
       "     long_name: Air Temperature\n",
       "     standard_name: air_temperature_2maboveground\n",
       "     units: K\n",
       " unlimited dimensions: time_counter\n",
       " current shape = (24, 266, 256)\n",
       " filling on,\n",
       " 'therm_rad': <class 'netCDF4._netCDF4.Variable'>\n",
       " float32 therm_rad(time_counter, y, x)\n",
       "     _FillValue: nan\n",
       "     level: surface\n",
       "     long_name: Downward Long-Wave Radiation Flux\n",
       "     standard_name: net_downward_longwave_flux_in_air\n",
       "     units: W/m^2\n",
       "     comment: calculated from saturation water vapour pressure, air temperature, and cloud fraction via Dilly-Unsworth correlation\n",
       " unlimited dimensions: time_counter\n",
       " current shape = (24, 266, 256)\n",
       " filling on,\n",
       " 'u_wind': <class 'netCDF4._netCDF4.Variable'>\n",
       " float32 u_wind(time_counter, y, x)\n",
       "     _FillValue: nan\n",
       "     level: 10 m above surface\n",
       "     long_name: U-Component of Wind\n",
       "     standard_name: x_wind\n",
       "     units: m/s\n",
       "     ioos_category: wind speed and direction\n",
       " unlimited dimensions: time_counter\n",
       " current shape = (24, 266, 256)\n",
       " filling on,\n",
       " 'v_wind': <class 'netCDF4._netCDF4.Variable'>\n",
       " float32 v_wind(time_counter, y, x)\n",
       "     _FillValue: nan\n",
       "     level: 10 m above surface\n",
       "     long_name: V-Component of Wind\n",
       "     standard_name: y_wind\n",
       "     units: m/s\n",
       "     ioos_category: wind speed and direction\n",
       " unlimited dimensions: time_counter\n",
       " current shape = (24, 266, 256)\n",
       " filling on,\n",
       " 'solar': <class 'netCDF4._netCDF4.Variable'>\n",
       " float32 solar(time_counter, y, x)\n",
       "     _FillValue: nan\n",
       "     level: surface\n",
       "     long_name: Downward Short-Wave Radiation Flux\n",
       "     standard_name: net_downward_shortwave_flux_in_air\n",
       "     units: W/m^2\n",
       "     cell_methods: time_counter: mean\n",
       " unlimited dimensions: time_counter\n",
       " current shape = (24, 266, 256)\n",
       " filling on}"
      ]
     },
     "execution_count": 21,
     "metadata": {},
     "output_type": "execute_result"
    }
   ],
   "source": [
    "f.variables"
   ]
  },
  {
   "cell_type": "code",
   "execution_count": 22,
   "metadata": {},
   "outputs": [
    {
     "name": "stderr",
     "output_type": "stream",
     "text": [
      "<ipython-input-22-6bbf72d9b8e1>:2: DeprecationWarning: `np.bool` is a deprecated alias for the builtin `bool`. To silence this warning, use `bool` by itself. Doing this will not modify any behavior and is safe. If you specifically wanted the numpy scalar type, use `np.bool_` here.\n",
      "Deprecated in NumPy 1.20; for more details and guidance: https://numpy.org/devdocs/release/1.20.0-notes.html#deprecations\n",
      "  in f.variables['time_counter'][:]]\n"
     ]
    },
    {
     "data": {
      "text/plain": [
       "[datetime.datetime(2010, 4, 1, 0, 0),\n",
       " datetime.datetime(2010, 4, 1, 1, 0),\n",
       " datetime.datetime(2010, 4, 1, 2, 0),\n",
       " datetime.datetime(2010, 4, 1, 3, 0),\n",
       " datetime.datetime(2010, 4, 1, 4, 0),\n",
       " datetime.datetime(2010, 4, 1, 5, 0),\n",
       " datetime.datetime(2010, 4, 1, 6, 0),\n",
       " datetime.datetime(2010, 4, 1, 7, 0),\n",
       " datetime.datetime(2010, 4, 1, 8, 0),\n",
       " datetime.datetime(2010, 4, 1, 9, 0),\n",
       " datetime.datetime(2010, 4, 1, 10, 0),\n",
       " datetime.datetime(2010, 4, 1, 11, 0),\n",
       " datetime.datetime(2010, 4, 1, 12, 0),\n",
       " datetime.datetime(2010, 4, 1, 13, 0),\n",
       " datetime.datetime(2010, 4, 1, 14, 0),\n",
       " datetime.datetime(2010, 4, 1, 15, 0),\n",
       " datetime.datetime(2010, 4, 1, 16, 0),\n",
       " datetime.datetime(2010, 4, 1, 17, 0),\n",
       " datetime.datetime(2010, 4, 1, 18, 0),\n",
       " datetime.datetime(2010, 4, 1, 19, 0),\n",
       " datetime.datetime(2010, 4, 1, 20, 0),\n",
       " datetime.datetime(2010, 4, 1, 21, 0),\n",
       " datetime.datetime(2010, 4, 1, 22, 0),\n",
       " datetime.datetime(2010, 4, 1, 23, 0)]"
      ]
     },
     "execution_count": 22,
     "metadata": {},
     "output_type": "execute_result"
    }
   ],
   "source": [
    "[dt.datetime(1950,1,1)+dt.timedelta(seconds=ii) for ii \n",
    "      in f.variables['time_counter'][:]]"
   ]
  },
  {
   "cell_type": "code",
   "execution_count": 23,
   "metadata": {},
   "outputs": [],
   "source": [
    "f.close()"
   ]
  },
  {
   "cell_type": "code",
   "execution_count": 24,
   "metadata": {},
   "outputs": [],
   "source": [
    "import xarray as xr"
   ]
  },
  {
   "cell_type": "code",
   "execution_count": 25,
   "metadata": {},
   "outputs": [],
   "source": [
    "flist=['/data/eolson/results/MEOPAR/GEMLAM/gemlam_y2010m02d05.nc',\n",
    "       '/data/eolson/results/MEOPAR/GEMLAM/gemlam_y2010m02d06.nc',\n",
    "       '/data/eolson/results/MEOPAR/GEMLAM/gemlam_y2010m02d07.nc',\n",
    "       '/data/eolson/results/MEOPAR/GEMLAM/gemlam_y2010m02d08.nc']"
   ]
  },
  {
   "cell_type": "code",
   "execution_count": 26,
   "metadata": {},
   "outputs": [],
   "source": [
    "test=xr.open_mfdataset(flist)"
   ]
  },
  {
   "cell_type": "code",
   "execution_count": 27,
   "metadata": {},
   "outputs": [
    {
     "data": {
      "text/plain": [
       "<bound method DataWithCoords.close of <xarray.Dataset>\n",
       "Dimensions:           (time_counter: 96, x: 256, y: 266)\n",
       "Coordinates:\n",
       "  * time_counter      (time_counter) datetime64[ns] 2010-02-05 ... 2010-02-08...\n",
       "Dimensions without coordinates: x, y\n",
       "Data variables:\n",
       "    nav_lon           (time_counter, y, x) float32 dask.array<chunksize=(24, 266, 256), meta=np.ndarray>\n",
       "    nav_lat           (time_counter, y, x) float32 dask.array<chunksize=(24, 266, 256), meta=np.ndarray>\n",
       "    qair              (time_counter, y, x) float32 dask.array<chunksize=(24, 266, 256), meta=np.ndarray>\n",
       "    RH_2maboveground  (time_counter, y, x) float32 dask.array<chunksize=(24, 266, 256), meta=np.ndarray>\n",
       "    therm_rad         (time_counter, y, x) float32 dask.array<chunksize=(24, 266, 256), meta=np.ndarray>\n",
       "    u_wind            (time_counter, y, x) float32 dask.array<chunksize=(24, 266, 256), meta=np.ndarray>\n",
       "    v_wind            (time_counter, y, x) float32 dask.array<chunksize=(24, 266, 256), meta=np.ndarray>\n",
       "    atmpres           (time_counter, y, x) float32 dask.array<chunksize=(24, 266, 256), meta=np.ndarray>\n",
       "    percentcloud      (time_counter, y, x) float32 dask.array<chunksize=(24, 266, 256), meta=np.ndarray>\n",
       "    PRATE_surface     (time_counter, y, x) float32 dask.array<chunksize=(24, 266, 256), meta=np.ndarray>\n",
       "    precip            (time_counter, y, x) float32 dask.array<chunksize=(24, 266, 256), meta=np.ndarray>\n",
       "    solar             (time_counter, y, x) float32 dask.array<chunksize=(24, 266, 256), meta=np.ndarray>\n",
       "    tair              (time_counter, y, x) float32 dask.array<chunksize=(24, 266, 256), meta=np.ndarray>\n",
       "Attributes:\n",
       "    nco_openmp_thread_number:   1\n",
       "    history:                    Thu Oct 10 18:12:48 2019: /usr/bin/ncrcat -4 ...\n",
       "    NCO:                        \"4.5.4\"\n",
       "    history_of_appended_files:  Thu Oct 10 18:08:10 2019: Appended file /dev/...>"
      ]
     },
     "execution_count": 27,
     "metadata": {},
     "output_type": "execute_result"
    }
   ],
   "source": [
    "test.close"
   ]
  },
  {
   "cell_type": "code",
   "execution_count": null,
   "metadata": {},
   "outputs": [],
   "source": []
  }
 ],
 "metadata": {
  "kernelspec": {
   "display_name": "Python (py39)",
   "language": "python",
   "name": "py39"
  },
  "language_info": {
   "codemirror_mode": {
    "name": "ipython",
    "version": 3
   },
   "file_extension": ".py",
   "mimetype": "text/x-python",
   "name": "python",
   "nbconvert_exporter": "python",
   "pygments_lexer": "ipython3",
   "version": "3.9.1"
  }
 },
 "nbformat": 4,
 "nbformat_minor": 4
}
