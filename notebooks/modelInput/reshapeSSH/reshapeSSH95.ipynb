{
 "cells": [
  {
   "cell_type": "code",
   "execution_count": 1,
   "metadata": {},
   "outputs": [],
   "source": [
    "import netCDF4 as nc\n",
    "import os\n"
   ]
  },
  {
   "cell_type": "code",
   "execution_count": 2,
   "metadata": {},
   "outputs": [],
   "source": [
    "f1=nc.Dataset('/data/eolson/results/MEOPAR/NEMO-forcing-new/fixSizeSSH/ssh_y2015m03d31.nc')\n",
    "f2=nc.Dataset('/data/eolson/results/MEOPAR/NEMO-forcing-new/fixSizeSSH/ssh_y2015m04d01.nc')"
   ]
  },
  {
   "cell_type": "code",
   "execution_count": 3,
   "metadata": {},
   "outputs": [
    {
     "data": {
      "text/plain": [
       "dict_keys(['nbidta', 'nbjdta', 'nbrdta', 'sossheig', 'time_counter', 'vobtcrtx', 'vobtcrty', 'xbT', 'yb'])"
      ]
     },
     "execution_count": 3,
     "metadata": {},
     "output_type": "execute_result"
    }
   ],
   "source": [
    "f1.variables.keys()"
   ]
  },
  {
   "cell_type": "code",
   "execution_count": 4,
   "metadata": {},
   "outputs": [
    {
     "data": {
      "text/plain": [
       "<class 'netCDF4._netCDF4.Variable'>\n",
       "int64 xbT(xbT)\n",
       "unlimited dimensions: \n",
       "current shape = (100,)\n",
       "filling on, default _FillValue of -9223372036854775806 used"
      ]
     },
     "execution_count": 4,
     "metadata": {},
     "output_type": "execute_result"
    }
   ],
   "source": [
    "f1.variables['xbT']"
   ]
  },
  {
   "cell_type": "raw",
   "metadata": {},
   "source": [
    "f1out=nc.Dataset('/data/eolson/results/MEOPAR/NEMO-forcing-new/fixSizeSSH/ssh95_y2015m03d31.nc','w')\n",
    "f1out.createDimension('yb', (1))\n",
    "f1out.createDimension('xbT', (95))\n",
    "f1out.createDimension('time_counter', (24))\n",
    "f1out.createVariable('nbidta','int64',('yb', 'xbT'))\n",
    "f1out.createVariable('nbjdta','int64',('yb', 'xbT'))\n",
    "f1out.createVariable('nbrdta','int64',('yb', 'xbT'))\n",
    "f1out.createVariable('sossheig','float64',('time_counter', 'yb', 'xbT'))\n",
    "f1out.createVariable('time_counter','float32',('time_counter',))\n",
    "f1out.createVariable('vobtcrtx','float64',('time_counter', 'yb', 'xbT'))\n",
    "f1out.createVariable('vobtcrty','float64',('time_counter', 'yb', 'xbT'))\n",
    "f1out.createVariable('xbT','int64',('xbT',))\n",
    "f1out.createVariable('yb','int64',('yb',))\n",
    "f1out['nbidta'][:,:]=f1.variables['nbidta'][:,:95]\n",
    "f1out['nbjdta'][:,:]=f1.variables['nbjdta'][:,:95]\n",
    "f1out['nbrdta'][:,:]=f1.variables['nbrdta'][:,:95]\n",
    "f1out['sossheig'][:,:,:]=f1.variables['sossheig'][:,:,:95]\n",
    "f1out['time_counter'][:]=f1.variables['time_counter'][:]\n",
    "f1out['vobtcrtx'][:,:,:]=f1.variables['vobtcrtx'][:,:,:95]\n",
    "f1out['xbT'][:]=f1.variables['xbT'][:95]\n",
    "f1out['yb'][:]=f1.variables['yb'][:]\n",
    "f1out.close()"
   ]
  },
  {
   "cell_type": "raw",
   "metadata": {},
   "source": [
    "f2out=nc.Dataset('/data/eolson/results/MEOPAR/NEMO-forcing-new/fixSizeSSH/ssh95_y2015m04d01.nc','w')\n",
    "f2out.createDimension('yb', (1))\n",
    "f2out.createDimension('xbT', (95))\n",
    "f2out.createDimension('time_counter', (24))\n",
    "f2out.createVariable('nbidta','int64',('yb', 'xbT'))\n",
    "f2out.createVariable('nbjdta','int64',('yb', 'xbT'))\n",
    "f2out.createVariable('nbrdta','int64',('yb', 'xbT'))\n",
    "f2out.createVariable('sossheig','float64',('time_counter', 'yb', 'xbT'))\n",
    "f2out.createVariable('time_counter','float32',('time_counter',))\n",
    "f2out.createVariable('vobtcrtx','float64',('time_counter', 'yb', 'xbT'))\n",
    "f2out.createVariable('vobtcrty','float64',('time_counter', 'yb', 'xbT'))\n",
    "f2out.createVariable('xbT','int64',('xbT',))\n",
    "f2out.createVariable('yb','int64',('yb',))\n",
    "f2out['nbidta'][:,:]=f2.variables['nbidta'][:,:95]\n",
    "f2out['nbjdta'][:,:]=f2.variables['nbjdta'][:,:95]\n",
    "f2out['nbrdta'][:,:]=f2.variables['nbrdta'][:,:95]\n",
    "f2out['sossheig'][:,:,:]=f2.variables['sossheig'][:,:,:95]\n",
    "f2out['time_counter'][:]=f2.variables['time_counter'][:]\n",
    "f2out['vobtcrtx'][:,:,:]=f2.variables['vobtcrtx'][:,:,:95]\n",
    "f2out['xbT'][:]=f2.variables['xbT'][:95]\n",
    "f2out['yb'][:]=f2.variables['yb'][:]\n",
    "f2out.close()"
   ]
  },
  {
   "cell_type": "raw",
   "metadata": {},
   "source": [
    "f1b=nc.Dataset('/data/eolson/results/MEOPAR/NEMO-forcing-new/fixSizeSSH/ssh95_y2015m03d31.nc')"
   ]
  },
  {
   "cell_type": "raw",
   "metadata": {},
   "source": [
    "f1b.variables['sossheig'][:,0,0]"
   ]
  },
  {
   "cell_type": "raw",
   "metadata": {},
   "source": [
    "f1b.close()"
   ]
  },
  {
   "cell_type": "raw",
   "metadata": {},
   "source": [
    "lN=30\n",
    "f1out=nc.Dataset(f'/data/eolson/results/MEOPAR/NEMO-forcing-new/fixSizeSSH/ssh{str(lN)}_y2015m03d31.nc','w')\n",
    "f1out.createDimension('yb', (1))\n",
    "f1out.createDimension('xbT', (lN))\n",
    "f1out.createDimension('time_counter', (24))\n",
    "f1out.createVariable('nbidta','int64',('yb', 'xbT'))\n",
    "f1out.createVariable('nbjdta','int64',('yb', 'xbT'))\n",
    "f1out.createVariable('nbrdta','int64',('yb', 'xbT'))\n",
    "f1out.createVariable('sossheig','float64',('time_counter', 'yb', 'xbT'))\n",
    "f1out.createVariable('time_counter','float32',('time_counter',))\n",
    "f1out.createVariable('vobtcrtx','float64',('time_counter', 'yb', 'xbT'))\n",
    "f1out.createVariable('vobtcrty','float64',('time_counter', 'yb', 'xbT'))\n",
    "f1out.createVariable('xbT','int64',('xbT',))\n",
    "f1out.createVariable('yb','int64',('yb',))\n",
    "f1out['nbidta'][:,:]=f1.variables['nbidta'][:,:lN]\n",
    "f1out['nbjdta'][:,:]=f1.variables['nbjdta'][:,:lN]\n",
    "f1out['nbrdta'][:,:]=f1.variables['nbrdta'][:,:lN]\n",
    "f1out['sossheig'][:,:,:]=f1.variables['sossheig'][:,:,:lN]\n",
    "f1out['time_counter'][:]=f1.variables['time_counter'][:]\n",
    "f1out['vobtcrtx'][:,:,:]=f1.variables['vobtcrtx'][:,:,:lN]\n",
    "f1out['xbT'][:]=f1.variables['xbT'][:lN]\n",
    "f1out['yb'][:]=f1.variables['yb'][:]\n",
    "f1out.close()"
   ]
  },
  {
   "cell_type": "raw",
   "metadata": {},
   "source": [
    "f2out=nc.Dataset(f'/data/eolson/results/MEOPAR/NEMO-forcing-new/fixSizeSSH/ssh{str(lN)}_y2015m04d01.nc','w')\n",
    "f2out.createDimension('yb', (1))\n",
    "f2out.createDimension('xbT', (lN))\n",
    "f2out.createDimension('time_counter', (24))\n",
    "f2out.createVariable('nbidta','int64',('yb', 'xbT'))\n",
    "f2out.createVariable('nbjdta','int64',('yb', 'xbT'))\n",
    "f2out.createVariable('nbrdta','int64',('yb', 'xbT'))\n",
    "f2out.createVariable('sossheig','float64',('time_counter', 'yb', 'xbT'))\n",
    "f2out.createVariable('time_counter','float32',('time_counter',))\n",
    "f2out.createVariable('vobtcrtx','float64',('time_counter', 'yb', 'xbT'))\n",
    "f2out.createVariable('vobtcrty','float64',('time_counter', 'yb', 'xbT'))\n",
    "f2out.createVariable('xbT','int64',('xbT',))\n",
    "f2out.createVariable('yb','int64',('yb',))\n",
    "f2out['nbidta'][:,:]=f2.variables['nbidta'][:,:lN]\n",
    "f2out['nbjdta'][:,:]=f2.variables['nbjdta'][:,:lN]\n",
    "f2out['nbrdta'][:,:]=f2.variables['nbrdta'][:,:lN]\n",
    "f2out['sossheig'][:,:,:]=f2.variables['sossheig'][:,:,:lN]\n",
    "f2out['time_counter'][:]=f2.variables['time_counter'][:]\n",
    "f2out['vobtcrtx'][:,:,:]=f2.variables['vobtcrtx'][:,:,:lN]\n",
    "f2out['xbT'][:]=f2.variables['xbT'][:lN]\n",
    "f2out['yb'][:]=f2.variables['yb'][:]\n",
    "f2out.close()"
   ]
  },
  {
   "cell_type": "code",
   "execution_count": 5,
   "metadata": {},
   "outputs": [],
   "source": [
    "### eliminate extra dimension"
   ]
  },
  {
   "cell_type": "code",
   "execution_count": 6,
   "metadata": {},
   "outputs": [],
   "source": [
    "lN=30\n",
    "forig=f1\n",
    "fout=nc.Dataset(f'/data/eolson/results/MEOPAR/NEMO-forcing-new/fixSizeSSH/ssh{str(lN)}_y2015m03d31.nc','w')\n",
    "\n",
    "fout.createDimension('xbT', (lN))\n",
    "fout.createDimension('time_counter', None)\n",
    "fout.createVariable('nbidta','int64',('xbT',))\n",
    "fout.createVariable('nbjdta','int64',('xbT',))\n",
    "fout.createVariable('nbrdta','int64',('xbT',))\n",
    "fout.createVariable('sossheig','float64',('time_counter', 'xbT'))\n",
    "fout.createVariable('time_counter','float32',('time_counter',))\n",
    "fout.createVariable('vobtcrtx','float64',('time_counter', 'xbT'))\n",
    "fout.createVariable('vobtcrty','float64',('time_counter', 'xbT'))\n",
    "fout.createVariable('xbT','int64',('xbT',))\n",
    "fout['nbidta'][:]=forig.variables['nbidta'][0,:lN]\n",
    "fout['nbjdta'][:]=forig.variables['nbjdta'][0,:lN]\n",
    "fout['nbrdta'][:]=forig.variables['nbrdta'][0,:lN]\n",
    "fout['sossheig'][:,:]=forig.variables['sossheig'][:,0,:lN]\n",
    "fout['time_counter'][:]=forig.variables['time_counter'][:]\n",
    "fout['vobtcrtx'][:,:]=forig.variables['vobtcrtx'][:,0,:lN]\n",
    "fout['xbT'][:]=forig.variables['xbT'][:lN]\n",
    "fout.close()"
   ]
  },
  {
   "cell_type": "code",
   "execution_count": 7,
   "metadata": {},
   "outputs": [],
   "source": [
    "lN=95\n",
    "forig=f1\n",
    "fout=nc.Dataset(f'/data/eolson/results/MEOPAR/NEMO-forcing-new/fixSizeSSH/ssh{str(lN)}_y2015m03d31.nc','w')\n",
    "\n",
    "fout.createDimension('xbT', (lN))\n",
    "fout.createDimension('time_counter', None)\n",
    "fout.createVariable('nbidta','int64',('xbT',))\n",
    "fout.createVariable('nbjdta','int64',('xbT',))\n",
    "fout.createVariable('nbrdta','int64',('xbT',))\n",
    "fout.createVariable('sossheig','float64',('time_counter', 'xbT'))\n",
    "fout.createVariable('time_counter','float32',('time_counter',))\n",
    "fout.createVariable('vobtcrtx','float64',('time_counter', 'xbT'))\n",
    "fout.createVariable('vobtcrty','float64',('time_counter', 'xbT'))\n",
    "fout.createVariable('xbT','int64',('xbT',))\n",
    "fout['nbidta'][:]=forig.variables['nbidta'][0,:lN]\n",
    "fout['nbjdta'][:]=forig.variables['nbjdta'][0,:lN]\n",
    "fout['nbrdta'][:]=forig.variables['nbrdta'][0,:lN]\n",
    "fout['sossheig'][:,:]=forig.variables['sossheig'][:,0,:lN]\n",
    "fout['time_counter'][:]=forig.variables['time_counter'][:]\n",
    "fout['vobtcrtx'][:,:]=forig.variables['vobtcrtx'][:,0,:lN]\n",
    "fout['xbT'][:]=forig.variables['xbT'][:lN]\n",
    "fout.close()"
   ]
  },
  {
   "cell_type": "code",
   "execution_count": 8,
   "metadata": {},
   "outputs": [],
   "source": [
    "lN=30\n",
    "forig=f2\n",
    "fout=nc.Dataset(f'/data/eolson/results/MEOPAR/NEMO-forcing-new/fixSizeSSH/ssh{str(lN)}_y2015m04d01.nc','w')\n",
    "\n",
    "fout.createDimension('xbT', (lN))\n",
    "fout.createDimension('time_counter', None)\n",
    "fout.createVariable('nbidta','int64',('xbT',))\n",
    "fout.createVariable('nbjdta','int64',('xbT',))\n",
    "fout.createVariable('nbrdta','int64',('xbT',))\n",
    "fout.createVariable('sossheig','float64',('time_counter', 'xbT'))\n",
    "fout.createVariable('time_counter','float32',('time_counter',))\n",
    "fout.createVariable('vobtcrtx','float64',('time_counter', 'xbT'))\n",
    "fout.createVariable('vobtcrty','float64',('time_counter', 'xbT'))\n",
    "fout.createVariable('xbT','int64',('xbT',))\n",
    "fout['nbidta'][:]=forig.variables['nbidta'][0,:lN]\n",
    "fout['nbjdta'][:]=forig.variables['nbjdta'][0,:lN]\n",
    "fout['nbrdta'][:]=forig.variables['nbrdta'][0,:lN]\n",
    "fout['sossheig'][:,:]=forig.variables['sossheig'][:,0,:lN]\n",
    "fout['time_counter'][:]=forig.variables['time_counter'][:]\n",
    "fout['vobtcrtx'][:,:]=forig.variables['vobtcrtx'][:,0,:lN]\n",
    "fout['xbT'][:]=forig.variables['xbT'][:lN]\n",
    "fout.close()"
   ]
  },
  {
   "cell_type": "code",
   "execution_count": 9,
   "metadata": {},
   "outputs": [],
   "source": [
    "lN=95\n",
    "forig=f2\n",
    "fout=nc.Dataset(f'/data/eolson/results/MEOPAR/NEMO-forcing-new/fixSizeSSH/ssh{str(lN)}_y2015m04d01.nc','w')\n",
    "\n",
    "fout.createDimension('xbT', (lN))\n",
    "fout.createDimension('time_counter', None)\n",
    "fout.createVariable('nbidta','int64',('xbT',))\n",
    "fout.createVariable('nbjdta','int64',('xbT',))\n",
    "fout.createVariable('nbrdta','int64',('xbT',))\n",
    "fout.createVariable('sossheig','float64',('time_counter', 'xbT'))\n",
    "fout.createVariable('time_counter','float32',('time_counter',))\n",
    "fout.createVariable('vobtcrtx','float64',('time_counter', 'xbT'))\n",
    "fout.createVariable('vobtcrty','float64',('time_counter', 'xbT'))\n",
    "fout.createVariable('xbT','int64',('xbT',))\n",
    "fout['nbidta'][:]=forig.variables['nbidta'][0,:lN]\n",
    "fout['nbjdta'][:]=forig.variables['nbjdta'][0,:lN]\n",
    "fout['nbrdta'][:]=forig.variables['nbrdta'][0,:lN]\n",
    "fout['sossheig'][:,:]=forig.variables['sossheig'][:,0,:lN]\n",
    "fout['time_counter'][:]=forig.variables['time_counter'][:]\n",
    "fout['vobtcrtx'][:,:]=forig.variables['vobtcrtx'][:,0,:lN]\n",
    "fout['xbT'][:]=forig.variables['xbT'][:lN]\n",
    "fout.close()"
   ]
  },
  {
   "cell_type": "code",
   "execution_count": 10,
   "metadata": {},
   "outputs": [],
   "source": [
    "f1.close()\n",
    "f2.close()"
   ]
  },
  {
   "cell_type": "code",
   "execution_count": 11,
   "metadata": {},
   "outputs": [],
   "source": [
    "ftest=nc.Dataset('/data/eolson/results/MEOPAR/NEMO-forcing-new/fixSizeSSH/ssh95_y2015m04d01.nc')"
   ]
  },
  {
   "cell_type": "code",
   "execution_count": 12,
   "metadata": {},
   "outputs": [
    {
     "data": {
      "text/plain": [
       "{'nbidta': <class 'netCDF4._netCDF4.Variable'>\n",
       " int64 nbidta(xbT)\n",
       " unlimited dimensions: \n",
       " current shape = (95,)\n",
       " filling on, default _FillValue of -9223372036854775806 used,\n",
       " 'nbjdta': <class 'netCDF4._netCDF4.Variable'>\n",
       " int64 nbjdta(xbT)\n",
       " unlimited dimensions: \n",
       " current shape = (95,)\n",
       " filling on, default _FillValue of -9223372036854775806 used,\n",
       " 'nbrdta': <class 'netCDF4._netCDF4.Variable'>\n",
       " int64 nbrdta(xbT)\n",
       " unlimited dimensions: \n",
       " current shape = (95,)\n",
       " filling on, default _FillValue of -9223372036854775806 used,\n",
       " 'sossheig': <class 'netCDF4._netCDF4.Variable'>\n",
       " float64 sossheig(time_counter, xbT)\n",
       " unlimited dimensions: time_counter\n",
       " current shape = (24, 95)\n",
       " filling on, default _FillValue of 9.969209968386869e+36 used,\n",
       " 'time_counter': <class 'netCDF4._netCDF4.Variable'>\n",
       " float32 time_counter(time_counter)\n",
       " unlimited dimensions: time_counter\n",
       " current shape = (24,)\n",
       " filling on, default _FillValue of 9.969209968386869e+36 used,\n",
       " 'vobtcrtx': <class 'netCDF4._netCDF4.Variable'>\n",
       " float64 vobtcrtx(time_counter, xbT)\n",
       " unlimited dimensions: time_counter\n",
       " current shape = (24, 95)\n",
       " filling on, default _FillValue of 9.969209968386869e+36 used,\n",
       " 'vobtcrty': <class 'netCDF4._netCDF4.Variable'>\n",
       " float64 vobtcrty(time_counter, xbT)\n",
       " unlimited dimensions: time_counter\n",
       " current shape = (24, 95)\n",
       " filling on, default _FillValue of 9.969209968386869e+36 used,\n",
       " 'xbT': <class 'netCDF4._netCDF4.Variable'>\n",
       " int64 xbT(xbT)\n",
       " unlimited dimensions: \n",
       " current shape = (95,)\n",
       " filling on, default _FillValue of -9223372036854775806 used}"
      ]
     },
     "execution_count": 12,
     "metadata": {},
     "output_type": "execute_result"
    }
   ],
   "source": [
    "ftest.variables"
   ]
  },
  {
   "cell_type": "code",
   "execution_count": 13,
   "metadata": {},
   "outputs": [],
   "source": [
    "ftest.close()"
   ]
  },
  {
   "cell_type": "code",
   "execution_count": null,
   "metadata": {},
   "outputs": [],
   "source": []
  }
 ],
 "metadata": {
  "kernelspec": {
   "display_name": "Python (py39)",
   "language": "python",
   "name": "py39"
  },
  "language_info": {
   "codemirror_mode": {
    "name": "ipython",
    "version": 3
   },
   "file_extension": ".py",
   "mimetype": "text/x-python",
   "name": "python",
   "nbconvert_exporter": "python",
   "pygments_lexer": "ipython3",
   "version": "3.9.1"
  }
 },
 "nbformat": 4,
 "nbformat_minor": 2
}
