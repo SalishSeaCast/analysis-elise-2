{
 "cells": [
  {
   "cell_type": "code",
   "execution_count": 1,
   "metadata": {},
   "outputs": [],
   "source": [
    "import netCDF4 as nc\n",
    "import os\n"
   ]
  },
  {
   "cell_type": "code",
   "execution_count": 36,
   "metadata": {},
   "outputs": [],
   "source": [
    "f1=nc.Dataset('/data/eolson/results/MEOPAR/NEMO-forcing-new/fixSizeSSH/ssh_y2015m03d31.nc')\n",
    "f2=nc.Dataset('/data/eolson/results/MEOPAR/NEMO-forcing-new/fixSizeSSH/ssh_y2015m04d01.nc')"
   ]
  },
  {
   "cell_type": "code",
   "execution_count": 3,
   "metadata": {},
   "outputs": [
    {
     "data": {
      "text/plain": [
       "dict_keys(['nbidta', 'nbjdta', 'nbrdta', 'sossheig', 'time_counter', 'vobtcrtx', 'vobtcrty', 'xbT', 'yb'])"
      ]
     },
     "execution_count": 3,
     "metadata": {},
     "output_type": "execute_result"
    }
   ],
   "source": [
    "f.variables.keys()"
   ]
  },
  {
   "cell_type": "code",
   "execution_count": 6,
   "metadata": {},
   "outputs": [],
   "source": [
    "f.close()"
   ]
  },
  {
   "cell_type": "code",
   "execution_count": 23,
   "metadata": {},
   "outputs": [
    {
     "data": {
      "text/plain": [
       "<class 'netCDF4._netCDF4.Variable'>\n",
       "int64 xbT(xbT)\n",
       "unlimited dimensions: \n",
       "current shape = (100,)\n",
       "filling on, default _FillValue of -9223372036854775806 used"
      ]
     },
     "execution_count": 23,
     "metadata": {},
     "output_type": "execute_result"
    }
   ],
   "source": [
    "f1.variables['xbT']"
   ]
  },
  {
   "cell_type": "code",
   "execution_count": 28,
   "metadata": {},
   "outputs": [],
   "source": [
    "f1out=nc.Dataset('/data/eolson/results/MEOPAR/NEMO-forcing-new/fixSizeSSH/ssh95_y2015m03d31.nc','w')\n",
    "f1out.createDimension('yb', (1))\n",
    "f1out.createDimension('xbT', (95))\n",
    "f1out.createDimension('time_counter', (24))\n",
    "f1out.createVariable('nbidta','int64',('yb', 'xbT'))\n",
    "f1out.createVariable('nbjdta','int64',('yb', 'xbT'))\n",
    "f1out.createVariable('nbrdta','int64',('yb', 'xbT'))\n",
    "f1out.createVariable('sossheig','float64',('time_counter', 'yb', 'xbT'))\n",
    "f1out.createVariable('time_counter','float32',('time_counter',))\n",
    "f1out.createVariable('vobtcrtx','float64',('time_counter', 'yb', 'xbT'))\n",
    "f1out.createVariable('vobtcrty','float64',('time_counter', 'yb', 'xbT'))\n",
    "f1out.createVariable('xbT','int64',('xbT',))\n",
    "f1out.createVariable('yb','int64',('yb',))\n",
    "f1out['nbidta'][:,:]=f1.variables['nbidta'][:,:95]\n",
    "f1out['nbjdta'][:,:]=f1.variables['nbjdta'][:,:95]\n",
    "f1out['nbrdta'][:,:]=f1.variables['nbrdta'][:,:95]\n",
    "f1out['sossheig'][:,:,:]=f1.variables['sossheig'][:,:,:95]\n",
    "f1out['time_counter'][:]=f1.variables['time_counter'][:]\n",
    "f1out['vobtcrtx'][:,:,:]=f1.variables['vobtcrtx'][:,:,:95]\n",
    "f1out['xbT'][:]=f1.variables['xbT'][:95]\n",
    "f1out['yb'][:]=f1.variables['yb'][:]\n",
    "f1out.close()"
   ]
  },
  {
   "cell_type": "code",
   "execution_count": 29,
   "metadata": {},
   "outputs": [],
   "source": [
    "f2out=nc.Dataset('/data/eolson/results/MEOPAR/NEMO-forcing-new/fixSizeSSH/ssh95_y2015m04d01.nc','w')\n",
    "f2out.createDimension('yb', (1))\n",
    "f2out.createDimension('xbT', (95))\n",
    "f2out.createDimension('time_counter', (24))\n",
    "f2out.createVariable('nbidta','int64',('yb', 'xbT'))\n",
    "f2out.createVariable('nbjdta','int64',('yb', 'xbT'))\n",
    "f2out.createVariable('nbrdta','int64',('yb', 'xbT'))\n",
    "f2out.createVariable('sossheig','float64',('time_counter', 'yb', 'xbT'))\n",
    "f2out.createVariable('time_counter','float32',('time_counter',))\n",
    "f2out.createVariable('vobtcrtx','float64',('time_counter', 'yb', 'xbT'))\n",
    "f2out.createVariable('vobtcrty','float64',('time_counter', 'yb', 'xbT'))\n",
    "f2out.createVariable('xbT','int64',('xbT',))\n",
    "f2out.createVariable('yb','int64',('yb',))\n",
    "f2out['nbidta'][:,:]=f2.variables['nbidta'][:,:95]\n",
    "f2out['nbjdta'][:,:]=f2.variables['nbjdta'][:,:95]\n",
    "f2out['nbrdta'][:,:]=f2.variables['nbrdta'][:,:95]\n",
    "f2out['sossheig'][:,:,:]=f2.variables['sossheig'][:,:,:95]\n",
    "f2out['time_counter'][:]=f2.variables['time_counter'][:]\n",
    "f2out['vobtcrtx'][:,:,:]=f2.variables['vobtcrtx'][:,:,:95]\n",
    "f2out['xbT'][:]=f2.variables['xbT'][:95]\n",
    "f2out['yb'][:]=f2.variables['yb'][:]\n",
    "f2out.close()"
   ]
  },
  {
   "cell_type": "code",
   "execution_count": 30,
   "metadata": {},
   "outputs": [],
   "source": [
    "f1b=nc.Dataset('/data/eolson/results/MEOPAR/NEMO-forcing-new/fixSizeSSH/ssh95_y2015m03d31.nc')"
   ]
  },
  {
   "cell_type": "code",
   "execution_count": 33,
   "metadata": {},
   "outputs": [
    {
     "data": {
      "text/plain": [
       "masked_array(data=[ 0.13071001,  0.123313  ,  0.124539  ,  0.116308  ,\n",
       "                    0.093271  ,  0.067579  ,  0.051313  ,  0.080163  ,\n",
       "                    0.107377  ,  0.095099  ,  0.103811  ,  0.12113   ,\n",
       "                    0.112388  ,  0.103688  ,  0.067957  ,  0.034504  ,\n",
       "                    0.033741  ,  0.015601  ,  0.001798  , -0.025093  ,\n",
       "                   -0.06038   , -0.049875  , -0.036244  , -0.057689  ],\n",
       "             mask=False,\n",
       "       fill_value=1e+20)"
      ]
     },
     "execution_count": 33,
     "metadata": {},
     "output_type": "execute_result"
    }
   ],
   "source": [
    "f1b.variables['sossheig'][:,0,0]"
   ]
  },
  {
   "cell_type": "code",
   "execution_count": 34,
   "metadata": {},
   "outputs": [],
   "source": [
    "f1b.close()"
   ]
  },
  {
   "cell_type": "code",
   "execution_count": 35,
   "metadata": {},
   "outputs": [],
   "source": [
    "f1.close()\n",
    "f2.close()"
   ]
  },
  {
   "cell_type": "code",
   "execution_count": 38,
   "metadata": {},
   "outputs": [],
   "source": [
    "lN=30\n",
    "f1out=nc.Dataset(f'/data/eolson/results/MEOPAR/NEMO-forcing-new/fixSizeSSH/ssh{str(lN)}_y2015m03d31.nc','w')\n",
    "f1out.createDimension('yb', (1))\n",
    "f1out.createDimension('xbT', (lN))\n",
    "f1out.createDimension('time_counter', (24))\n",
    "f1out.createVariable('nbidta','int64',('yb', 'xbT'))\n",
    "f1out.createVariable('nbjdta','int64',('yb', 'xbT'))\n",
    "f1out.createVariable('nbrdta','int64',('yb', 'xbT'))\n",
    "f1out.createVariable('sossheig','float64',('time_counter', 'yb', 'xbT'))\n",
    "f1out.createVariable('time_counter','float32',('time_counter',))\n",
    "f1out.createVariable('vobtcrtx','float64',('time_counter', 'yb', 'xbT'))\n",
    "f1out.createVariable('vobtcrty','float64',('time_counter', 'yb', 'xbT'))\n",
    "f1out.createVariable('xbT','int64',('xbT',))\n",
    "f1out.createVariable('yb','int64',('yb',))\n",
    "f1out['nbidta'][:,:]=f1.variables['nbidta'][:,:lN]\n",
    "f1out['nbjdta'][:,:]=f1.variables['nbjdta'][:,:lN]\n",
    "f1out['nbrdta'][:,:]=f1.variables['nbrdta'][:,:lN]\n",
    "f1out['sossheig'][:,:,:]=f1.variables['sossheig'][:,:,:lN]\n",
    "f1out['time_counter'][:]=f1.variables['time_counter'][:]\n",
    "f1out['vobtcrtx'][:,:,:]=f1.variables['vobtcrtx'][:,:,:lN]\n",
    "f1out['xbT'][:]=f1.variables['xbT'][:lN]\n",
    "f1out['yb'][:]=f1.variables['yb'][:]\n",
    "f1out.close()"
   ]
  },
  {
   "cell_type": "code",
   "execution_count": 39,
   "metadata": {},
   "outputs": [],
   "source": [
    "f2out=nc.Dataset(f'/data/eolson/results/MEOPAR/NEMO-forcing-new/fixSizeSSH/ssh{str(lN)}_y2015m04d01.nc','w')\n",
    "f2out.createDimension('yb', (1))\n",
    "f2out.createDimension('xbT', (lN))\n",
    "f2out.createDimension('time_counter', (24))\n",
    "f2out.createVariable('nbidta','int64',('yb', 'xbT'))\n",
    "f2out.createVariable('nbjdta','int64',('yb', 'xbT'))\n",
    "f2out.createVariable('nbrdta','int64',('yb', 'xbT'))\n",
    "f2out.createVariable('sossheig','float64',('time_counter', 'yb', 'xbT'))\n",
    "f2out.createVariable('time_counter','float32',('time_counter',))\n",
    "f2out.createVariable('vobtcrtx','float64',('time_counter', 'yb', 'xbT'))\n",
    "f2out.createVariable('vobtcrty','float64',('time_counter', 'yb', 'xbT'))\n",
    "f2out.createVariable('xbT','int64',('xbT',))\n",
    "f2out.createVariable('yb','int64',('yb',))\n",
    "f2out['nbidta'][:,:]=f2.variables['nbidta'][:,:lN]\n",
    "f2out['nbjdta'][:,:]=f2.variables['nbjdta'][:,:lN]\n",
    "f2out['nbrdta'][:,:]=f2.variables['nbrdta'][:,:lN]\n",
    "f2out['sossheig'][:,:,:]=f2.variables['sossheig'][:,:,:lN]\n",
    "f2out['time_counter'][:]=f2.variables['time_counter'][:]\n",
    "f2out['vobtcrtx'][:,:,:]=f2.variables['vobtcrtx'][:,:,:lN]\n",
    "f2out['xbT'][:]=f2.variables['xbT'][:lN]\n",
    "f2out['yb'][:]=f2.variables['yb'][:]\n",
    "f2out.close()"
   ]
  },
  {
   "cell_type": "code",
   "execution_count": null,
   "metadata": {},
   "outputs": [],
   "source": []
  }
 ],
 "metadata": {
  "kernelspec": {
   "display_name": "Python (py39)",
   "language": "python",
   "name": "py39"
  },
  "language_info": {
   "codemirror_mode": {
    "name": "ipython",
    "version": 3
   },
   "file_extension": ".py",
   "mimetype": "text/x-python",
   "name": "python",
   "nbconvert_exporter": "python",
   "pygments_lexer": "ipython3",
   "version": "3.9.1"
  }
 },
 "nbformat": 4,
 "nbformat_minor": 2
}
