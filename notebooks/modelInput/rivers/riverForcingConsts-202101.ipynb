{
 "cells": [
  {
   "cell_type": "code",
   "execution_count": 1,
   "metadata": {},
   "outputs": [],
   "source": [
    "# imports\n",
    "import numpy as np\n",
    "from matplotlib import pyplot as plt\n",
    "import netCDF4 as nc\n",
    "import re\n",
    "import shutil\n",
    "%matplotlib inline"
   ]
  },
  {
   "cell_type": "code",
   "execution_count": 2,
   "metadata": {},
   "outputs": [
    {
     "data": {
      "text/plain": [
       "'/data/eolson/results/MEOPAR/NEMO-forcing-new/rivers-climatology/bio/R202101_bioConst.nc'"
      ]
     },
     "execution_count": 2,
     "metadata": {},
     "output_type": "execute_result"
    }
   ],
   "source": [
    "# Copy 201906 river constants file and set all living concentrations in rivers to zero. \n",
    "src='/data/eolson/results/MEOPAR/NEMO-forcing-new/rivers-climatology/bio/R201906_bioConst.nc'\n",
    "dst='/data/eolson/results/MEOPAR/NEMO-forcing-new/rivers-climatology/bio/R202101_bioConst.nc'\n",
    "shutil.copy(src, dst)"
   ]
  },
  {
   "cell_type": "code",
   "execution_count": 3,
   "metadata": {},
   "outputs": [],
   "source": [
    "f=nc.Dataset(dst,'r+')"
   ]
  },
  {
   "cell_type": "code",
   "execution_count": 4,
   "metadata": {},
   "outputs": [
    {
     "name": "stdout",
     "output_type": "stream",
     "text": [
      "no3 6.18\n",
      "nh4 4.3\n",
      "sil 59.57\n",
      "dia 0.001\n",
      "phy 0.001\n",
      "mes 0.001\n",
      "zoo 0.001\n",
      "don 0.0\n",
      "pon 0.0\n",
      "bsi 0.0\n",
      "tur 1.0\n"
     ]
    }
   ],
   "source": [
    "for var in f.variables.keys():\n",
    "    print(var,np.max(f.variables[var]))"
   ]
  },
  {
   "cell_type": "code",
   "execution_count": 5,
   "metadata": {},
   "outputs": [],
   "source": [
    "for var in ('dia', 'phy', 'mes', 'zoo'):\n",
    "    f.variables[var][:]=0.0"
   ]
  },
  {
   "cell_type": "code",
   "execution_count": 6,
   "metadata": {},
   "outputs": [],
   "source": [
    "f.close()"
   ]
  },
  {
   "cell_type": "code",
   "execution_count": 7,
   "metadata": {},
   "outputs": [
    {
     "name": "stdout",
     "output_type": "stream",
     "text": [
      "no3 6.18\n",
      "nh4 4.3\n",
      "sil 59.57\n",
      "dia 0.0\n",
      "phy 0.0\n",
      "mes 0.0\n",
      "zoo 0.0\n",
      "don 0.0\n",
      "pon 0.0\n",
      "bsi 0.0\n",
      "tur 1.0\n"
     ]
    }
   ],
   "source": [
    "f=nc.Dataset(dst)\n",
    "for var in f.variables.keys():\n",
    "    print(var,np.max(f.variables[var]))\n",
    "f.close()"
   ]
  },
  {
   "cell_type": "code",
   "execution_count": null,
   "metadata": {},
   "outputs": [],
   "source": []
  }
 ],
 "metadata": {
  "anaconda-cloud": {},
  "kernelspec": {
   "display_name": "Python 3",
   "language": "python",
   "name": "python3"
  },
  "language_info": {
   "codemirror_mode": {
    "name": "ipython",
    "version": 3
   },
   "file_extension": ".py",
   "mimetype": "text/x-python",
   "name": "python",
   "nbconvert_exporter": "python",
   "pygments_lexer": "ipython3",
   "version": "3.7.4"
  }
 },
 "nbformat": 4,
 "nbformat_minor": 4
}
