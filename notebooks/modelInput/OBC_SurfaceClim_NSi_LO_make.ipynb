{
 "cells": [
  {
   "cell_type": "markdown",
   "metadata": {},
   "source": [
    "Create 3-d climatology of N and Si boundary values from LiveOcean-based BCs to replace data-based climatology that was only 2d (time and depth, no variation across Strait)"
   ]
  },
  {
   "cell_type": "code",
   "execution_count": 1,
   "metadata": {
    "collapsed": true
   },
   "outputs": [],
   "source": [
    "import numpy as np\n",
    "import netCDF4 as nc\n",
    "import matplotlib.pyplot as plt\n",
    "import glob\n",
    "import datetime as dt\n",
    "import pandas as pd\n",
    "from matplotlib.colors import LogNorm\n",
    "%matplotlib inline"
   ]
  },
  {
   "cell_type": "code",
   "execution_count": 2,
   "metadata": {
    "collapsed": true
   },
   "outputs": [],
   "source": [
    "with nc.Dataset('/ocean/eolson/MEOPAR/NEMO-forcing/grid/mesh_mask201702_noLPE.nc') as m:\n",
    "    z=m.variables['gdept_1d'][0,:]"
   ]
  },
  {
   "cell_type": "raw",
   "metadata": {},
   "source": [
    "ffmt='m%md%d'\n",
    "# use 2016 because it was a leap year\n",
    "# how to handle leap years???\n",
    "for ii in range(0,366):\n",
    "    idt=dt.datetime(2016,1,1)+dt.timedelta(days=ii)\n",
    "#    print(idt.strftime(ffmt))\n",
    "    flist=glob.glob(stencil.format())\n",
    "    "
   ]
  },
  {
   "cell_type": "raw",
   "metadata": {},
   "source": [
    "idt=dt.datetime(2016,1,1)\n",
    "stencil='/results/forcing/LiveOcean/boundary_conditions/LiveOcean_v201905*{}.nc'\n",
    "flist=glob.glob(stencil.format(idt.strftime(ffmt)))"
   ]
  },
  {
   "cell_type": "code",
   "execution_count": 3,
   "metadata": {
    "collapsed": true
   },
   "outputs": [],
   "source": [
    "ffmt='m%md%d'"
   ]
  },
  {
   "cell_type": "code",
   "execution_count": 5,
   "metadata": {
    "collapsed": false
   },
   "outputs": [],
   "source": [
    "meanSi=np.zeros((365,40,95))\n",
    "stdSi=np.zeros((365,40,95))\n",
    "meanN=np.zeros((365,40,95))\n",
    "stdN=np.zeros((365,40,95))\n",
    "RMSEM=np.zeros((365,40,95))\n",
    "RMSEP=np.zeros((365,40,95))\n",
    "for ii in range(0,365):\n",
    "    Sis=list()\n",
    "    Ts=list()\n",
    "    Ss=list()\n",
    "    Ns=list()\n",
    "    idt=dt.datetime(2015,1,1)+dt.timedelta(days=ii)\n",
    "    stencil='/results/forcing/LiveOcean/boundary_conditions/LiveOcean_v201905*{}.nc'\n",
    "    flist=glob.glob(stencil.format(idt.strftime(ffmt)))\n",
    "    for iff in flist:\n",
    "        with nc.Dataset(iff) as f:\n",
    "            Sis.append(f.variables['Si'][:,:,0,:95])\n",
    "            Ts.append(f.variables['votemper'][:,:,0,:95])\n",
    "            Ss.append(f.variables['vosaline'][:,:,0,:95])\n",
    "            Ns.append(f.variables['NO3'][:,:,0,:95])\n",
    "    Sis=np.concatenate(Sis,0)\n",
    "    Ns=np.concatenate(Ns,0)\n",
    "    Ts=np.concatenate(Ts,0)\n",
    "    Ss=np.concatenate(Ss,0)\n",
    "    meanSi[ii,:,:]=np.mean(Sis,0)\n",
    "    stdSi[ii,:,:]=np.std(Sis,0)\n",
    "    meanN[ii,:,:]=np.mean(Ns,0)\n",
    "    stdN[ii,:,:]=np.std(Ns,0)"
   ]
  },
  {
   "cell_type": "code",
   "execution_count": 7,
   "metadata": {
    "collapsed": false
   },
   "outputs": [],
   "source": [
    "np.save('/home/eolson/pyCode/notebooks/modelInput/OBC/nmat.npy',meanN)\n",
    "np.save('/home/eolson/pyCode/notebooks/modelInput/OBC/simat.npy',meanSi)"
   ]
  },
  {
   "cell_type": "code",
   "execution_count": 8,
   "metadata": {
    "collapsed": true
   },
   "outputs": [],
   "source": [
    "testN=np.load('/home/eolson/pyCode/notebooks/modelInput/OBC/nmat.npy')\n",
    "testSi=np.load('/home/eolson/pyCode/notebooks/modelInput/OBC/simat.npy')"
   ]
  },
  {
   "cell_type": "code",
   "execution_count": 11,
   "metadata": {
    "collapsed": false
   },
   "outputs": [
    {
     "data": {
      "text/plain": [
       "0.0"
      ]
     },
     "execution_count": 11,
     "metadata": {},
     "output_type": "execute_result"
    }
   ],
   "source": [
    "np.max(np.abs(testSi-meanSi))"
   ]
  },
  {
   "cell_type": "code",
   "execution_count": null,
   "metadata": {
    "collapsed": true
   },
   "outputs": [],
   "source": []
  }
 ],
 "metadata": {
  "anaconda-cloud": {},
  "kernelspec": {
   "display_name": "Python [conda env:py37]",
   "language": "python",
   "name": "conda-env-py37-py"
  },
  "language_info": {
   "codemirror_mode": {
    "name": "ipython",
    "version": 3
   },
   "file_extension": ".py",
   "mimetype": "text/x-python",
   "name": "python",
   "nbconvert_exporter": "python",
   "pygments_lexer": "ipython3",
   "version": "3.7.2"
  }
 },
 "nbformat": 4,
 "nbformat_minor": 1
}
