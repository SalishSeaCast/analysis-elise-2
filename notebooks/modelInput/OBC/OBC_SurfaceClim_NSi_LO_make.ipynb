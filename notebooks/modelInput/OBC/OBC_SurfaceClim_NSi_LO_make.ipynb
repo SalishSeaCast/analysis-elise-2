{
 "cells": [
  {
   "cell_type": "markdown",
   "metadata": {},
   "source": [
    "Create 3-d climatology of N and Si boundary values from LiveOcean-based BCs to replace data-based climatology that was only 2d (time and depth, no variation across Strait)"
   ]
  },
  {
   "cell_type": "code",
   "execution_count": 1,
   "metadata": {
    "collapsed": true
   },
   "outputs": [],
   "source": [
    "import numpy as np\n",
    "import netCDF4 as nc\n",
    "import matplotlib.pyplot as plt\n",
    "import glob\n",
    "import datetime as dt\n",
    "import pandas as pd\n",
    "from matplotlib.colors import LogNorm\n",
    "%matplotlib inline"
   ]
  },
  {
   "cell_type": "code",
   "execution_count": 2,
   "metadata": {
    "collapsed": true
   },
   "outputs": [],
   "source": [
    "with nc.Dataset('/ocean/eolson/MEOPAR/NEMO-forcing/grid/mesh_mask201702_noLPE.nc') as m:\n",
    "    z=m.variables['gdept_1d'][0,:]"
   ]
  },
  {
   "cell_type": "raw",
   "metadata": {},
   "source": [
    "ffmt='m%md%d'\n",
    "# use 2016 because it was a leap year\n",
    "# how to handle leap years???\n",
    "for ii in range(0,366):\n",
    "    idt=dt.datetime(2016,1,1)+dt.timedelta(days=ii)\n",
    "#    print(idt.strftime(ffmt))\n",
    "    flist=glob.glob(stencil.format())\n",
    "    "
   ]
  },
  {
   "cell_type": "raw",
   "metadata": {},
   "source": [
    "idt=dt.datetime(2016,1,1)\n",
    "stencil='/results/forcing/LiveOcean/boundary_conditions/LiveOcean_v201905*{}.nc'\n",
    "flist=glob.glob(stencil.format(idt.strftime(ffmt)))"
   ]
  },
  {
   "cell_type": "code",
   "execution_count": 3,
   "metadata": {
    "collapsed": true
   },
   "outputs": [],
   "source": [
    "ffmt='m%md%d'"
   ]
  },
  {
   "cell_type": "code",
   "execution_count": 4,
   "metadata": {
    "collapsed": false
   },
   "outputs": [],
   "source": [
    "meanSi=np.zeros((365,40,1,95))\n",
    "stdSi=np.zeros((365,40,1,95))\n",
    "meanN=np.zeros((365,40,1,95))\n",
    "stdN=np.zeros((365,40,1,95))\n",
    "RMSEM=np.zeros((365,40,1,95))\n",
    "RMSEP=np.zeros((365,40,1,95))\n",
    "for ii in range(0,365):\n",
    "    Sis=list()\n",
    "    Ts=list()\n",
    "    Ss=list()\n",
    "    Ns=list()\n",
    "    idt=dt.datetime(2015,1,1)+dt.timedelta(days=ii)\n",
    "    stencil='/results/forcing/LiveOcean/boundary_conditions/LiveOcean_v201905*{}.nc'\n",
    "    flist=glob.glob(stencil.format(idt.strftime(ffmt)))\n",
    "    for iff in flist:\n",
    "        with nc.Dataset(iff) as f:\n",
    "            Sis.append(f.variables['Si'][:,:,:,:95])\n",
    "            Ts.append(f.variables['votemper'][:,:,:,:95])\n",
    "            Ss.append(f.variables['vosaline'][:,:,:,:95])\n",
    "            Ns.append(f.variables['NO3'][:,:,:,:95])\n",
    "    Sis=np.concatenate(Sis,0)\n",
    "    Ns=np.concatenate(Ns,0)\n",
    "    Ts=np.concatenate(Ts,0)\n",
    "    Ss=np.concatenate(Ss,0)\n",
    "    meanSi[ii,:,:,:]=np.mean(Sis,0)\n",
    "    stdSi[ii,:,:,:]=np.std(Sis,0)\n",
    "    meanN[ii,:,:,:]=np.mean(Ns,0)\n",
    "    stdN[ii,:,:,:]=np.std(Ns,0)"
   ]
  },
  {
   "cell_type": "code",
   "execution_count": 5,
   "metadata": {
    "collapsed": false
   },
   "outputs": [],
   "source": [
    "np.save('/data/eolson/results/MEOPAR/SS36runs/calcFiles/OBC/nmat.npy',meanN)\n",
    "np.save('/data/eolson/results/MEOPAR/SS36runs/calcFiles/OBC/simat.npy',meanSi)"
   ]
  },
  {
   "cell_type": "code",
   "execution_count": 6,
   "metadata": {
    "collapsed": false
   },
   "outputs": [],
   "source": [
    "testN=np.load('/data/eolson/results/MEOPAR/SS36runs/calcFiles/OBC/nmat.npy')\n",
    "testSi=np.load('/data/eolson/results/MEOPAR/SS36runs/calcFiles/OBC/simat.npy')"
   ]
  },
  {
   "cell_type": "code",
   "execution_count": 7,
   "metadata": {
    "collapsed": false
   },
   "outputs": [
    {
     "data": {
      "text/plain": [
       "0.0"
      ]
     },
     "execution_count": 7,
     "metadata": {},
     "output_type": "execute_result"
    }
   ],
   "source": [
    "np.max(np.abs(testSi-meanSi))"
   ]
  },
  {
   "cell_type": "code",
   "execution_count": 8,
   "metadata": {
    "collapsed": false
   },
   "outputs": [
    {
     "data": {
      "text/plain": [
       "(365, 40, 1, 95)"
      ]
     },
     "execution_count": 8,
     "metadata": {},
     "output_type": "execute_result"
    }
   ],
   "source": [
    "np.shape(testN)"
   ]
  },
  {
   "cell_type": "code",
   "execution_count": 17,
   "metadata": {
    "collapsed": true
   },
   "outputs": [],
   "source": [
    "temp=np.tile(testN[0,:,:,:],(1,1,1,10))"
   ]
  },
  {
   "cell_type": "code",
   "execution_count": 18,
   "metadata": {
    "collapsed": false
   },
   "outputs": [
    {
     "data": {
      "text/plain": [
       "(1, 40, 1, 950)"
      ]
     },
     "execution_count": 18,
     "metadata": {},
     "output_type": "execute_result"
    }
   ],
   "source": [
    "np.shape(temp)"
   ]
  },
  {
   "cell_type": "code",
   "execution_count": 3,
   "metadata": {
    "collapsed": true
   },
   "outputs": [],
   "source": [
    "f=nc.Dataset('/ocean/eolson/MEOPAR/NEMO-3.6-inputs/boundary_conditions/bioOBC_LOBase.nc')"
   ]
  },
  {
   "cell_type": "code",
   "execution_count": 4,
   "metadata": {
    "collapsed": false
   },
   "outputs": [
    {
     "data": {
      "text/plain": [
       "<class 'netCDF4._netCDF4.Dataset'>\n",
       "root group (NETCDF4 data model, file format HDF5):\n",
       "    dimensions(sizes): deptht(40), yb(1), xbT(870), time_counter(24)\n",
       "    variables(dimensions): float32 \u001b[4mdeptht\u001b[0m(deptht), float32 \u001b[4mnav_lat\u001b[0m(yb,xbT), float32 \u001b[4mnav_lon\u001b[0m(yb,xbT), int32 \u001b[4mnbidta\u001b[0m(yb,xbT), int32 \u001b[4mnbjdta\u001b[0m(yb,xbT), int32 \u001b[4mnbrdta\u001b[0m(yb,xbT), float32 \u001b[4mtime_counter\u001b[0m(time_counter), float32 \u001b[4mNO3\u001b[0m(time_counter,deptht,yb,xbT), float32 \u001b[4mSi\u001b[0m(time_counter,deptht,yb,xbT)\n",
       "    groups: "
      ]
     },
     "execution_count": 4,
     "metadata": {},
     "output_type": "execute_result"
    }
   ],
   "source": [
    "f"
   ]
  },
  {
   "cell_type": "code",
   "execution_count": 5,
   "metadata": {
    "collapsed": true
   },
   "outputs": [],
   "source": [
    "test=nc.Dataset('/results/forcing/LiveOcean/boundary_conditions/LiveOcean_v201905_y2015m02d08.nc')"
   ]
  },
  {
   "cell_type": "code",
   "execution_count": 7,
   "metadata": {
    "collapsed": false
   },
   "outputs": [
    {
     "data": {
      "text/plain": [
       "<class 'netCDF4._netCDF4.Dataset'>\n",
       "root group (NETCDF4 data model, file format HDF5):\n",
       "    acknowledgements: Live Ocean http://faculty.washington.edu/pmacc/LO/LiveOcean.html\n",
       "    creator_email: sallen@eoas.ubc.ca\n",
       "    creator_name: Salish Sea MEOPAR Project Contributors\n",
       "    creator_url: https://salishsea-meopar-docs.readthedocs.org/\n",
       "    institution: UBC EOAS\n",
       "    institution_fullname: Earth, Ocean & Atmospheric Sciences, University of British Columbia\n",
       "    summary: Temperature, Salinity, Nitrate, Oxygen, DIC and TALKfrom the Live Ocean model interpolated in space onto the Salish Sea NEMO Model western open boundary. Silicon from Nitrate.\n",
       "    source: http://nbviewer.jupyter.org/urls/bitbucket.org/salishsea/.../LiveOceanNew\n",
       "    history: [2019-06-07] File creation.\n",
       "    dimensions(sizes): time_counter(1), deptht(40), yb(1), xbT(950)\n",
       "    variables(dimensions): int64 \u001b[4mtime_counter\u001b[0m(time_counter), float64 \u001b[4mdeptht\u001b[0m(deptht), int64 \u001b[4myb\u001b[0m(yb), int64 \u001b[4mxbT\u001b[0m(xbT), float64 \u001b[4mvosaline\u001b[0m(time_counter,deptht,yb,xbT), float64 \u001b[4mvotemper\u001b[0m(time_counter,deptht,yb,xbT), float64 \u001b[4mNO3\u001b[0m(time_counter,deptht,yb,xbT), float64 \u001b[4mSi\u001b[0m(time_counter,deptht,yb,xbT), float64 \u001b[4mOXY\u001b[0m(time_counter,deptht,yb,xbT), float64 \u001b[4mDIC\u001b[0m(time_counter,deptht,yb,xbT), float64 \u001b[4mTA\u001b[0m(time_counter,deptht,yb,xbT)\n",
       "    groups: "
      ]
     },
     "execution_count": 7,
     "metadata": {},
     "output_type": "execute_result"
    }
   ],
   "source": [
    "test"
   ]
  },
  {
   "cell_type": "code",
   "execution_count": 14,
   "metadata": {
    "collapsed": true
   },
   "outputs": [],
   "source": [
    "f2=nc.Dataset('/ocean/eolson/MEOPAR/NEMO-3.6-inputs/boundary_conditions/bioOBC_LOBase1905.nc','w')"
   ]
  },
  {
   "cell_type": "code",
   "execution_count": 15,
   "metadata": {
    "collapsed": true
   },
   "outputs": [],
   "source": [
    "for name, dimension in test.dimensions.items():\n",
    "        f2.createDimension(name, (len(dimension) if not dimension.isunlimited() else None))"
   ]
  },
  {
   "cell_type": "code",
   "execution_count": 16,
   "metadata": {
    "collapsed": false
   },
   "outputs": [],
   "source": [
    "for name, variable in test.variables.items():\n",
    "        if name not in ('vosaline', 'votemper', 'OXY', 'DIC', 'TA'):\n",
    "            x = f2.createVariable(name, variable.datatype, variable.dimensions)\n",
    "            f2[name][:] = 0.0"
   ]
  },
  {
   "cell_type": "code",
   "execution_count": 17,
   "metadata": {
    "collapsed": true
   },
   "outputs": [],
   "source": [
    "f2.close()"
   ]
  },
  {
   "cell_type": "code",
   "execution_count": null,
   "metadata": {
    "collapsed": true
   },
   "outputs": [],
   "source": []
  }
 ],
 "metadata": {
  "anaconda-cloud": {},
  "kernelspec": {
   "display_name": "Python [conda env:py37]",
   "language": "python",
   "name": "conda-env-py37-py"
  },
  "language_info": {
   "codemirror_mode": {
    "name": "ipython",
    "version": 3
   },
   "file_extension": ".py",
   "mimetype": "text/x-python",
   "name": "python",
   "nbconvert_exporter": "python",
   "pygments_lexer": "ipython3",
   "version": "3.7.2"
  }
 },
 "nbformat": 4,
 "nbformat_minor": 1
}
