{
 "cells": [
  {
   "cell_type": "code",
   "execution_count": 1,
   "metadata": {},
   "outputs": [],
   "source": [
    "import netCDF4 as nc\n",
    "import numpy as np\n",
    "import matplotlib.pyplot as plt\n",
    "import datetime as dt\n",
    "import os\n",
    "import math\n",
    "import pandas as pd\n",
    "# database stuff:\n",
    "import sqlalchemy\n",
    "from sqlalchemy import create_engine, Column, String, Integer, Numeric, MetaData, Table, type_coerce, ForeignKey, case\n",
    "from sqlalchemy.orm import mapper, create_session, relationship, aliased, Session\n",
    "from sqlalchemy.ext.declarative import declarative_base\n",
    "from sqlalchemy import case\n",
    "from sqlalchemy.ext.automap import automap_base\n",
    "import sqlalchemy.types as types\n",
    "import numbers\n",
    "from sqlalchemy.sql import and_, or_, not_, func\n",
    "from sqlalchemy.sql import select\n",
    "import glob\n",
    "import gsw\n",
    "\n",
    "%matplotlib inline\n"
   ]
  },
  {
   "cell_type": "code",
   "execution_count": 2,
   "metadata": {},
   "outputs": [],
   "source": [
    "def ginterp(xval,xPeriod,yval,L,xlocs):\n",
    "    # if not periodic, xPeriod=0\n",
    "    fil=np.empty(np.size(xlocs))\n",
    "    s=L/2.355\n",
    "    for ii in range(0,xlocs.size):\n",
    "        t=xlocs[ii]\n",
    "        diff=[min(abs(x-t),abs(x-t+xPeriod), abs(x-t-xPeriod)) for x in xval]\n",
    "        weight=[np.exp(-.5*x**2/s**2) if sum(diff<x)<2 or x < 5 else 0.0 for x in diff]\n",
    "        #weight=[np.exp(-.5*x**2/s**2) for x in diff]\n",
    "        weight=np.array(weight)\n",
    "        if np.sum(weight)!=0:\n",
    "            fil[ii]=np.sum(weight*yval)/np.sum(weight)\n",
    "        else:\n",
    "            fil[ii]=np.nan\n",
    "    return(fil)"
   ]
  },
  {
   "cell_type": "code",
   "execution_count": 3,
   "metadata": {},
   "outputs": [],
   "source": [
    "def ginterp2d(xval,xPeriod,yval,yPeriod,zval,L,M,zlocs_x,zlocs_y):\n",
    "    # if not periodic, xPeriod=0\n",
    "    #fil=np.empty(np.size(xlocs))\n",
    "    s=L/2.355\n",
    "    n=M/2.355\n",
    "    sdict={}\n",
    "    mat=np.empty((np.size(zlocs_x),np.size(zlocs_y)))\n",
    "    for ii in range(0,zlocs_x.size):\n",
    "        print(ii)\n",
    "        for jj in range(0,zlocs_y.size):\n",
    "            tx=zlocs_x[ii]\n",
    "            ty=zlocs_y[jj]\n",
    "            diffx=[min(abs(x-tx),abs(x-tx+xPeriod), abs(x-tx-xPeriod)) for x in xval]\n",
    "            diffy=[min(abs(y-ty),abs(y-ty+yPeriod), abs(y-ty-yPeriod)) for y in yval]\n",
    "            weight=[np.exp(-.5*(x**2+y**2)/(s**2+n**2)) if \\\n",
    "                    (sum(diffx<x)<3 or x < L) and (sum(diffy<y)<3 or y < M) \\\n",
    "                    else 0.0 for x, y in zip(diffx, diffy)]\n",
    "            #weight=[np.exp(-.5*x**2/s**2) for x in diff]\n",
    "            weight=np.array(weight)\n",
    "            sdict[(tx,ty)]=np.sum(weight*zval)/np.sum(weight)\n",
    "            mat[ii,jj]=np.sum(weight*zval)/np.sum(weight)\n",
    "    return(sdict,mat)"
   ]
  },
  {
   "cell_type": "code",
   "execution_count": 4,
   "metadata": {},
   "outputs": [],
   "source": [
    "#templates:\n",
    "tW=nc.Dataset('/results/forcing/LiveOcean/boundary_conditions/LiveOcean_v201905_y2015m01d01.nc')\n",
    "tN=nc.Dataset('/data/eolson/results/MEOPAR/NEMO-forcing-new/tracers/north/bioOBC_North_monthlySiNO3.nc')"
   ]
  },
  {
   "cell_type": "code",
   "execution_count": 5,
   "metadata": {},
   "outputs": [],
   "source": [
    "newW = nc.Dataset('/data/eolson/results/MEOPAR/NEMO-forcing-new/tracers/west/testTurbW.nc', 'w', zlib=True)\n",
    "newN = nc.Dataset('/data/eolson/results/MEOPAR/NEMO-forcing-new/tracers/north/testTurbN.nc', 'w', zlib=True)\n",
    "#Copy dimensions\n",
    "for dname, the_dim in tW.dimensions.items():\n",
    "    newW.createDimension(dname, len(the_dim) if not the_dim.isunlimited() else None)\n",
    "for dname, the_dim in tN.dimensions.items():\n",
    "    newN.createDimension(dname, len(the_dim) if not the_dim.isunlimited() else None)"
   ]
  },
  {
   "cell_type": "code",
   "execution_count": 6,
   "metadata": {},
   "outputs": [
    {
     "data": {
      "text/plain": [
       "dict_keys(['time_counter', 'deptht', 'yb', 'xbT'])"
      ]
     },
     "execution_count": 6,
     "metadata": {},
     "output_type": "execute_result"
    }
   ],
   "source": [
    "tW.dimensions.keys()"
   ]
  },
  {
   "cell_type": "code",
   "execution_count": 7,
   "metadata": {},
   "outputs": [
    {
     "data": {
      "text/plain": [
       "dict_keys(['deptht', 'time_counter', 'yb', 'xbT'])"
      ]
     },
     "execution_count": 7,
     "metadata": {},
     "output_type": "execute_result"
    }
   ],
   "source": [
    "tN.dimensions.keys()"
   ]
  },
  {
   "cell_type": "code",
   "execution_count": 8,
   "metadata": {},
   "outputs": [
    {
     "data": {
      "text/plain": [
       "dict_keys(['time_counter', 'deptht', 'yb', 'xbT', 'vosaline', 'votemper', 'NO3', 'Si', 'OXY', 'DIC', 'TA'])"
      ]
     },
     "execution_count": 8,
     "metadata": {},
     "output_type": "execute_result"
    }
   ],
   "source": [
    "tW.variables.keys()"
   ]
  },
  {
   "cell_type": "code",
   "execution_count": 9,
   "metadata": {},
   "outputs": [
    {
     "data": {
      "text/plain": [
       "<class 'netCDF4._netCDF4.Variable'>\n",
       "float64 NO3(time_counter, deptht, yb, xbT)\n",
       "    _FillValue: nan\n",
       "    grid: SalishSea2\n",
       "    long_name: Nitrate\n",
       "    units: muM\n",
       "unlimited dimensions: time_counter\n",
       "current shape = (1, 40, 1, 950)\n",
       "filling on"
      ]
     },
     "execution_count": 9,
     "metadata": {},
     "output_type": "execute_result"
    }
   ],
   "source": [
    "tW.variables['NO3']"
   ]
  },
  {
   "cell_type": "code",
   "execution_count": 10,
   "metadata": {},
   "outputs": [
    {
     "data": {
      "text/plain": [
       "dict_keys(['deptht', 'nav_lat', 'nav_lon', 'time_counter', 'NO3', 'Si'])"
      ]
     },
     "execution_count": 10,
     "metadata": {},
     "output_type": "execute_result"
    }
   ],
   "source": [
    "tN.variables.keys()"
   ]
  },
  {
   "cell_type": "code",
   "execution_count": 11,
   "metadata": {},
   "outputs": [
    {
     "data": {
      "text/plain": [
       "<class 'netCDF4._netCDF4.Variable'>\n",
       "float32 NO3(time_counter, deptht, yb, xbT)\n",
       "    grid: SalishSea2\n",
       "    units: muM\n",
       "    long_name: Nitrate\n",
       "unlimited dimensions: time_counter\n",
       "current shape = (12, 40, 10, 30)\n",
       "filling on, default _FillValue of 9.969209968386869e+36 used"
      ]
     },
     "execution_count": 11,
     "metadata": {},
     "output_type": "execute_result"
    }
   ],
   "source": [
    "tN.variables['NO3']"
   ]
  },
  {
   "cell_type": "code",
   "execution_count": 12,
   "metadata": {},
   "outputs": [],
   "source": [
    "# time_counter\n",
    "time_counterN = newN.createVariable('time_counter', 'float32', ('time_counter'))\n",
    "time_counterN[:]=[0.0]\n",
    "time_counterW = newW.createVariable('time_counter', 'float32', ('time_counter'))\n",
    "time_counterW[:]=[0.0]"
   ]
  },
  {
   "cell_type": "code",
   "execution_count": 13,
   "metadata": {},
   "outputs": [],
   "source": [
    "#turConst\n",
    "turConstN = newN.createVariable('turConst', 'float32', \n",
    "                               ('time_counter','deptht','yb','xbT'))\n",
    "turConstN.grid = tN.variables['NO3'].grid\n",
    "turConstN.units = 'NTU'\n",
    "turConstN.long_name = 'constant turbidity' \n",
    "turConstN[:]=1.0\n",
    "\n",
    "turConstW = newW.createVariable('turConst', 'float32', \n",
    "                               ('time_counter','deptht','yb','xbT'))\n",
    "turConstW.grid = tW.variables['NO3'].grid\n",
    "turConstW.units = 'NTU'\n",
    "turConstW.long_name = 'constant turbidity' \n",
    "turConstW[:]=1.0"
   ]
  },
  {
   "cell_type": "code",
   "execution_count": 14,
   "metadata": {},
   "outputs": [
    {
     "data": {
      "text/plain": [
       "<class 'netCDF4._netCDF4.Variable'>\n",
       "float32 turConst(time_counter, deptht, yb, xbT)\n",
       "    grid: SalishSea2\n",
       "    units: NTU\n",
       "    long_name: constant turbidity\n",
       "unlimited dimensions: time_counter\n",
       "current shape = (1, 40, 1, 950)\n",
       "filling on, default _FillValue of 9.969209968386869e+36 used"
      ]
     },
     "execution_count": 14,
     "metadata": {},
     "output_type": "execute_result"
    }
   ],
   "source": [
    "turConstW"
   ]
  },
  {
   "cell_type": "code",
   "execution_count": 15,
   "metadata": {},
   "outputs": [
    {
     "data": {
      "text/plain": [
       "<class 'netCDF4._netCDF4.Variable'>\n",
       "float32 turConst(time_counter, deptht, yb, xbT)\n",
       "    grid: SalishSea2\n",
       "    units: NTU\n",
       "    long_name: constant turbidity\n",
       "unlimited dimensions: time_counter\n",
       "current shape = (1, 40, 10, 30)\n",
       "filling on, default _FillValue of 9.969209968386869e+36 used"
      ]
     },
     "execution_count": 15,
     "metadata": {},
     "output_type": "execute_result"
    }
   ],
   "source": [
    "turConstN"
   ]
  },
  {
   "cell_type": "code",
   "execution_count": 16,
   "metadata": {},
   "outputs": [],
   "source": [
    "#turStep\n",
    "turStepN = newN.createVariable('turStep', 'float32', \n",
    "                               ('time_counter','deptht','yb','xbT'))\n",
    "turStepN.grid = tN.variables['NO3'].grid\n",
    "turStepN.units = 'NTU'\n",
    "turStepN.long_name = 'constant turbidity' \n",
    "turStepN[:]=1.0\n",
    "\n",
    "turStepW = newW.createVariable('turStep', 'float32', \n",
    "                               ('time_counter','deptht','yb','xbT'))\n",
    "turStepW.grid = tW.variables['NO3'].grid\n",
    "turStepW.units = 'NTU'\n",
    "turStepW.long_name = 'constant turbidity' \n",
    "turStepW[:]=1.0\n",
    "turStepW[:,10:,:,:]=.1"
   ]
  },
  {
   "cell_type": "code",
   "execution_count": 17,
   "metadata": {},
   "outputs": [
    {
     "data": {
      "text/plain": [
       "masked_array(data=[1. , 1. , 1. , 1. , 1. , 1. , 1. , 1. , 1. , 1. , 0.1,\n",
       "                   0.1, 0.1, 0.1, 0.1, 0.1, 0.1, 0.1, 0.1, 0.1, 0.1, 0.1,\n",
       "                   0.1, 0.1, 0.1, 0.1, 0.1, 0.1, 0.1, 0.1, 0.1, 0.1, 0.1,\n",
       "                   0.1, 0.1, 0.1, 0.1, 0.1, 0.1, 0.1],\n",
       "             mask=False,\n",
       "       fill_value=1e+20,\n",
       "            dtype=float32)"
      ]
     },
     "execution_count": 17,
     "metadata": {},
     "output_type": "execute_result"
    }
   ],
   "source": [
    "turStepW[0,:,0,0]\n"
   ]
  },
  {
   "cell_type": "code",
   "execution_count": 18,
   "metadata": {},
   "outputs": [],
   "source": [
    "newW.close()\n",
    "newN.close()\n",
    "tN.close()\n",
    "tW.close()"
   ]
  },
  {
   "cell_type": "raw",
   "metadata": {},
   "source": [
    "# create dimension variables:\n",
    "# deptht\n",
    "deptht=newConst.createVariable('deptht','float32',('deptht',))\n",
    "deptht.long_name = 'Vertical T Levels'\n",
    "deptht.units = 'm'\n",
    "deptht.positive = 'down'\n",
    "deptht.valid_range = np.array((4., 428.))\n",
    "deptht[:]=TS.variables['deptht']\n",
    "\n",
    "#nav_lat\n",
    "nav_lat = newConst.createVariable('nav_lat','float32',('yb','xbT'))\n",
    "nav_lat.long_name = TS.variables['nav_lat'].long_name\n",
    "nav_lat.units = TS.variables['nav_lat'].units\n",
    "nav_lat[:] = TS.variables['nav_lat']\n",
    "\n",
    "#nav_lon\n",
    "nav_lon = newConst.createVariable('nav_lon','float32',('yb','xbT'))\n",
    "nav_lon.long_name = TS.variables['nav_lon'].long_name\n",
    "nav_lon.units = TS.variables['nav_lon'].units\n",
    "nav_lon[:]=TS.variables['nav_lon']\n",
    "\n",
    "# nbidta\n",
    "nbidta=newConst.createVariable('nbidta','int32',('yb','xbT'))\n",
    "nbidta.long_name = TS.variables['nbidta'].long_name\n",
    "nbidta.units = TS.variables['nbidta'].units\n",
    "nbidta[:]=TS.variables['nbidta']\n",
    "\n",
    "# nbjdta\n",
    "nbjdta=newConst.createVariable('nbjdta','int32',('yb','xbT'))\n",
    "nbjdta.long_name = TS.variables['nbjdta'].long_name\n",
    "nbjdta.units = TS.variables['nbjdta'].units\n",
    "nbjdta[:]=TS.variables['nbjdta']\n",
    "\n",
    "# nbrdta\n",
    "nbrdta=newConst.createVariable('nbrdta','int32',('yb','xbT'))\n",
    "nbrdta.long_name = TS.variables['nbrdta'].long_name\n",
    "nbrdta.units = TS.variables['nbrdta'].units\n",
    "nbrdta[:]=TS.variables['nbrdta']\n"
   ]
  },
  {
   "cell_type": "code",
   "execution_count": null,
   "metadata": {},
   "outputs": [],
   "source": [
    "# load database for data-based conditions"
   ]
  },
  {
   "cell_type": "code",
   "execution_count": null,
   "metadata": {},
   "outputs": [],
   "source": [
    "# definitions\n",
    "basepath='/ocean/eolson/MEOPAR/obs/'\n",
    "basedir=basepath + 'DFOOPDB/'\n",
    "dbname='DFO_OcProfDB'\n",
    "\n",
    "# engine and reflection\n",
    "Base = automap_base()\n",
    "engine = create_engine('sqlite:///' + basedir + dbname + '.sqlite', echo = False)\n",
    "Base.prepare(engine, reflect=True)\n",
    "Station=Base.classes.StationTBL\n",
    "Obs=Base.classes.ObsTBL\n",
    "JDFLocs=Base.classes.JDFLocsTBL\n",
    "Calcs=Base.classes.CalcsTBL\n",
    "session = create_session(bind = engine, autocommit = False, autoflush = True)\n",
    "\n",
    "# column definitions\n",
    "SA=case([(Calcs.Salinity_Bottle_SA!=None, Calcs.Salinity_Bottle_SA)], else_=\n",
    "         case([(Calcs.Salinity_T0_C0_SA!=None, Calcs.Salinity_T0_C0_SA)], else_=\n",
    "         case([(Calcs.Salinity_T1_C1_SA!=None, Calcs.Salinity_T1_C1_SA)], else_=\n",
    "         case([(Calcs.Salinity_SA!=None, Calcs.Salinity_SA)], else_=\n",
    "         case([(Calcs.Salinity__Unknown_SA!=None, Calcs.Salinity__Unknown_SA)], else_=Calcs.Salinity__Pre1978_SA)\n",
    "        ))))\n",
    "NO=case([(Obs.Nitrate_plus_Nitrite!=None, Obs.Nitrate_plus_Nitrite)], else_=Obs.Nitrate)\n",
    "NOUnits=case([(Obs.Nitrate_plus_Nitrite!=None, Obs.Nitrate_plus_Nitrite_units)], else_=Obs.Nitrate_units)\n",
    "NOFlag=case([(Obs.Nitrate_plus_Nitrite!=None, Obs.Flag_Nitrate_plus_Nitrite)], else_=Obs.Flag_Nitrate)\n",
    "# Obs.Quality_Flag_Nitr does not match any nitrate obs\n",
    "# ISUS not included in this NO\n",
    "Tem=case([(Obs.Temperature!=None, Obs.Temperature)], else_=\n",
    "         case([(Obs.Temperature_Primary!=None, Obs.Temperature_Primary)], else_=\n",
    "         case([(Obs.Temperature_Secondary!=None, Obs.Temperature_Secondary)], else_=Obs.Temperature_Reversing)))\n",
    "TemUnits=case([(Obs.Temperature!=None, Obs.Temperature_units)], else_=\n",
    "         case([(Obs.Temperature_Primary!=None, Obs.Temperature_Primary_units)], else_=\n",
    "         case([(Obs.Temperature_Secondary!=None, Obs.Temperature_Secondary_units)], \n",
    "              else_=Obs.Temperature_Reversing_units)))\n",
    "TemFlag=Obs.Quality_Flag_Temp\n",
    "Ox=case([(Calcs.Oxygen_umolL!=None, Calcs.Oxygen_umolL)], else_=Calcs.Oxygen_Dissolved_umolL)\n",
    "OxFlag=case([(Calcs.Oxygen_umolL!=None, Obs.Quality_Flag_Oxyg)], else_=Obs.Flag_Oxygen_Dissolved)\n",
    "Press=case([(Obs.Pressure!=None, Obs.Pressure)], else_=Obs.Pressure_Reversing)"
   ]
  },
  {
   "cell_type": "code",
   "execution_count": null,
   "metadata": {},
   "outputs": [],
   "source": [
    "# Ammonium:"
   ]
  },
  {
   "cell_type": "code",
   "execution_count": null,
   "metadata": {},
   "outputs": [],
   "source": [
    "q=session.query(JDFLocs.ObsID, Station.StartYear,Station.StartMonth,Press,\n",
    "                Obs.Ammonium,Obs.Ammonium_units,Tem,SA).select_from(Obs).\\\n",
    "        join(JDFLocs,JDFLocs.ObsID==Obs.ID).join(Station,Station.ID==Obs.StationTBLID).\\\n",
    "        join(Calcs,Calcs.ObsID==Obs.ID).filter(Obs.Ammonium!=None).\\\n",
    "        all()\n",
    "qP=[]\n",
    "qNH=[]\n",
    "remP=[]\n",
    "remNH=[]\n",
    "for OID, Yr, Mn, P, NH, un, T, S_A in q:\n",
    "    # throw out 1 data point that seems unusually high\n",
    "    if not (P>75 and NH >.2):\n",
    "        qP.append(P)\n",
    "        qNH.append(NH)\n",
    "    else:\n",
    "        remP.append(P)\n",
    "        remNH.append(NH)\n",
    "qP=np.array(qP)\n",
    "qNH=np.array(qNH)\n",
    "remP=np.array(remP)\n",
    "remNH=np.array(remNH)"
   ]
  },
  {
   "cell_type": "code",
   "execution_count": null,
   "metadata": {},
   "outputs": [],
   "source": [
    "len(qP), len(qNH), np.max(qP),np.min(qP),np.max(qNH),np.min(qNH)"
   ]
  },
  {
   "cell_type": "code",
   "execution_count": null,
   "metadata": {},
   "outputs": [],
   "source": [
    "# create depth-weighted mean profile using gaussian filter\n",
    "zs=np.array(TS.variables['deptht'])\n",
    "AmmProf=ginterp(qP,0.0,qNH,10,zs)\n",
    "AmmProf[AmmProf!=AmmProf]=0.0\n"
   ]
  },
  {
   "cell_type": "code",
   "execution_count": null,
   "metadata": {},
   "outputs": [],
   "source": [
    "for ii in range(0,zs.size):\n",
    "    voNH4[:,ii,0,:]=AmmProf[ii]"
   ]
  },
  {
   "cell_type": "code",
   "execution_count": null,
   "metadata": {},
   "outputs": [],
   "source": [
    "# DON"
   ]
  },
  {
   "cell_type": "code",
   "execution_count": null,
   "metadata": {},
   "outputs": [],
   "source": [
    "# take nearest available data to SJDF\n",
    "q=session.query(Station.StartYear,Station.StartMonth,Press, Station.Lat, Station.Lon,Obs.Depth,\n",
    "                Obs.Nitrogen_Dissolved_Organic,Obs.Nitrogen_Dissolved_Organic_units,Tem).\\\n",
    "        select_from(Obs).join(Station,Station.ID==Obs.StationTBLID).\\\n",
    "        filter(Obs.Nitrogen_Dissolved_Organic!=None).filter(Obs.Nitrogen_Dissolved_Organic>=0).\\\n",
    "        filter(Station.Lat!=None).filter(Station.Lon!=None).\\\n",
    "        filter(Station.Lat<48.8).filter(Station.Lon<-125).all()\n",
    "\n",
    "qDON=[]\n",
    "for row in q:\n",
    "    qDON.append(row[6])\n",
    "val_DON=np.mean(qDON)"
   ]
  },
  {
   "cell_type": "code",
   "execution_count": null,
   "metadata": {},
   "outputs": [],
   "source": [
    "voDON[:,:,:,:]=val_DON"
   ]
  },
  {
   "cell_type": "code",
   "execution_count": null,
   "metadata": {},
   "outputs": [],
   "source": [
    "# PON\n",
    "\n",
    "# take nearest available data to SJDF\n",
    "q=session.query(Station.StartYear,Station.StartMonth,Press, Station.Lat, Station.Lon,Obs.Depth,\n",
    "                Obs.Nitrogen_Particulate_Organic,Obs.Nitrogen_Particulate_Organic_units,Tem).\\\n",
    "        select_from(Obs).join(Station,Station.ID==Obs.StationTBLID).\\\n",
    "        filter(Obs.Nitrogen_Particulate_Organic!=None).filter(Obs.Nitrogen_Particulate_Organic>=0).\\\n",
    "        filter(Station.Lat!=None).filter(Station.Lon!=None).\\\n",
    "        filter(Station.Lat<48.8).filter(Station.Lon<-125).all()\n",
    "\n",
    "qPON=[]\n",
    "for row in q:\n",
    "    qPON.append(row[6])\n",
    "val_PON=np.mean(qPON)\n",
    "\n",
    "voPON[:,:,:,:]=val_PON\n",
    "\n",
    "newConst.close()\n",
    "TS.close()"
   ]
  },
  {
   "cell_type": "markdown",
   "metadata": {},
   "source": [
    "set up NO3 and save climatology:"
   ]
  },
  {
   "cell_type": "code",
   "execution_count": null,
   "metadata": {},
   "outputs": [],
   "source": [
    "# umol/L=mmol/m**3, so all NO units the same\n",
    "q=session.query(JDFLocs.ObsID, Station.StartYear,Station.StartMonth,Press,NO,Tem,SA,Station.StartDay).select_from(Obs).\\\n",
    "        join(JDFLocs,JDFLocs.ObsID==Obs.ID).join(Station,Station.ID==Obs.StationTBLID).\\\n",
    "        join(Calcs,Calcs.ObsID==Obs.ID).filter(SA<38).filter(SA>0).filter(NO!=None).\\\n",
    "        filter(Tem!=None).filter(SA!=None).filter(Press!=None).\\\n",
    "        all()\n",
    "#for row in q:\n",
    "#    print(row)\n",
    "\n",
    "qYr=[]\n",
    "qMn=[]\n",
    "qDy=[]\n",
    "qP=[]\n",
    "qNO=[]\n",
    "qTC=[]\n",
    "qSA=[]\n",
    "qNO50=[]\n",
    "qSA50=[]\n",
    "qTC50=[]\n",
    "date=[]\n",
    "for OID, Yr, Mn, P, NO3, T, S_A, dy in q:\n",
    "    qYr.append(Yr)\n",
    "    qMn.append(Mn)\n",
    "    qDy.append(dy)\n",
    "    qP.append(P)\n",
    "    qNO.append(NO3)\n",
    "    qTC.append(gsw.CT_from_t(S_A,T,P))\n",
    "    qSA.append(S_A)\n",
    "    date.append(dt.date(int(Yr),int(Mn),int(dy)))\n",
    "    if P>80:\n",
    "        qNO50.append(NO3)\n",
    "        qTC50.append(gsw.CT_from_t(S_A,T,P))\n",
    "        qSA50.append(S_A)\n",
    "\n",
    "qSA=np.array(qSA)\n",
    "qTC=np.array(qTC)\n",
    "qP=np.array(qP)\n",
    "qNO=np.array(qNO)\n",
    "qSA50=np.array(qSA50)\n",
    "qTC50=np.array(qTC50)\n",
    "date=np.array(date)\n",
    "YD=0.0*qTC\n",
    "for i in range(0,len(YD)):\n",
    "    YD[i]=date[i].timetuple().tm_yday\n",
    "\n",
    "qNO50=np.array(qNO50)"
   ]
  },
  {
   "cell_type": "code",
   "execution_count": null,
   "metadata": {},
   "outputs": [],
   "source": [
    "print(qTC50)"
   ]
  },
  {
   "cell_type": "code",
   "execution_count": null,
   "metadata": {},
   "outputs": [],
   "source": [
    "a=np.vstack([qTC50,qSA50,np.ones(len(qTC50))]).T\n",
    "a2=np.vstack([qTC,qSA,np.ones(len(qTC))]).T\n",
    "m = np.linalg.lstsq(a,qNO50)[0]\n",
    "mT, mS, mC = m\n",
    "\n",
    "zupper=np.extract(zs<100, zs)\n",
    "ydays=np.arange(0,365,365/52)"
   ]
  },
  {
   "cell_type": "code",
   "execution_count": null,
   "metadata": {},
   "outputs": [],
   "source": [
    "# umol/L=mmol/m**3, so all NO units the same\n",
    "q=session.query(JDFLocs.ObsID, Station.StartYear,Station.StartMonth,Press,NO,Tem,SA,Station.StartDay).select_from(Obs).\\\n",
    "        join(JDFLocs,JDFLocs.ObsID==Obs.ID).join(Station,Station.ID==Obs.StationTBLID).\\\n",
    "        join(Calcs,Calcs.ObsID==Obs.ID).filter(SA<38).filter(SA>0).filter(NO!=None).\\\n",
    "        filter(Tem!=None).filter(SA!=None).filter(Press<120).filter(Press!=None).\\\n",
    "        all()\n",
    "#for row in q:\n",
    "#    print(row)\n",
    "\n",
    "qYr=[]\n",
    "qMn=[]\n",
    "qDy=[]\n",
    "qP=[]\n",
    "qNO=[]\n",
    "qTC=[]\n",
    "qSA=[]\n",
    "date=[]\n",
    "for OID, Yr, Mn, P, NO3, T, S_A, dy in q:\n",
    "    qYr.append(Yr)\n",
    "    qMn.append(Mn)\n",
    "    qDy.append(dy)\n",
    "    qP.append(P)\n",
    "    qNO.append(NO3)\n",
    "    qTC.append(gsw.CT_from_t(S_A,T,P))\n",
    "    qSA.append(S_A)\n",
    "    date.append(dt.date(int(Yr),int(Mn),int(dy)))\n",
    "\n",
    "qSA=np.array(qSA)\n",
    "qTC=np.array(qTC)\n",
    "qP=np.array(qP)\n",
    "qNO=np.array(qNO)\n",
    "date=np.array(date)\n",
    "YD=0.0*qTC\n",
    "for i in range(0,len(YD)):\n",
    "    YD[i]=date[i].timetuple().tm_yday\n",
    "\n",
    "\n"
   ]
  },
  {
   "cell_type": "code",
   "execution_count": null,
   "metadata": {},
   "outputs": [],
   "source": [
    "mC,mT,mS"
   ]
  },
  {
   "cell_type": "code",
   "execution_count": null,
   "metadata": {},
   "outputs": [],
   "source": [
    "ndict,nmat=ginterp2d(YD,365,qP,0,qNO,30,10,ydays,zupper)\n",
    "np.savetxt('/home/eolson/pyCode/notebooks/modelInput/OBC/nmatTest.csv',nmat,delimiter=',')\n",
    "\n",
    "df=pd.DataFrame({'mC':[mC],'mT':[mT],'mS':[mS]})\n",
    "df.to_csv('/home/eolson/pyCode/notebooks/modelInput/OBC/bioOBCfit_NTSTest.csv')\n"
   ]
  },
  {
   "cell_type": "markdown",
   "metadata": {},
   "source": [
    "set up Si and save climatology:"
   ]
  },
  {
   "cell_type": "code",
   "execution_count": null,
   "metadata": {},
   "outputs": [],
   "source": [
    "# umol/L=mmol/m**3, so all NO units the same\n",
    "q=session.query(JDFLocs.ObsID, Station.StartYear,Station.StartMonth,Press,Obs.Silicate,Tem,SA,Station.StartDay).select_from(Obs).\\\n",
    "        join(JDFLocs,JDFLocs.ObsID==Obs.ID).join(Station,Station.ID==Obs.StationTBLID).\\\n",
    "        join(Calcs,Calcs.ObsID==Obs.ID).filter(SA<38).filter(SA>0).filter(Obs.Silicate!=None).\\\n",
    "        filter(Tem!=None).filter(SA!=None).filter(Press!=None).\\\n",
    "        all()\n",
    "#for row in q:\n",
    "#    print(row)\n",
    "\n",
    "qYr=[]\n",
    "qMn=[]\n",
    "qDy=[]\n",
    "qP=[]\n",
    "qNO=[]\n",
    "qTC=[]\n",
    "qSA=[]\n",
    "qNO50=[]\n",
    "qSA50=[]\n",
    "qTC50=[]\n",
    "date=[]\n",
    "for OID, Yr, Mn, P, NO3, T, S_A, dy in q:\n",
    "    qYr.append(Yr)\n",
    "    qMn.append(Mn)\n",
    "    qDy.append(dy)\n",
    "    qP.append(P)\n",
    "    qNO.append(NO3)\n",
    "    qTC.append(gsw.CT_from_t(S_A,T,P))\n",
    "    qSA.append(S_A)\n",
    "    date.append(dt.date(int(Yr),int(Mn),int(dy)))\n",
    "    if P>80:\n",
    "        qNO50.append(NO3)\n",
    "        qTC50.append(gsw.CT_from_t(S_A,T,P))\n",
    "        qSA50.append(S_A)\n",
    "\n",
    "qSA=np.array(qSA)\n",
    "qTC=np.array(qTC)\n",
    "qP=np.array(qP)\n",
    "qNO=np.array(qNO)\n",
    "qSA50=np.array(qSA50)\n",
    "qTC50=np.array(qTC50)\n",
    "date=np.array(date)\n",
    "YD=0.0*qTC\n",
    "for i in range(0,len(YD)):\n",
    "    YD[i]=date[i].timetuple().tm_yday\n",
    "\n",
    "qNO50=np.array(qNO50)\n"
   ]
  },
  {
   "cell_type": "code",
   "execution_count": null,
   "metadata": {},
   "outputs": [],
   "source": [
    "a=np.vstack([qTC50,qSA50,np.ones(len(qTC50))]).T\n",
    "a2=np.vstack([qTC,qSA,np.ones(len(qTC))]).T\n",
    "m = np.linalg.lstsq(a,qNO50)[0]\n",
    "mT, mS, mC = m\n",
    "print(mT, mS, mC)"
   ]
  },
  {
   "cell_type": "code",
   "execution_count": null,
   "metadata": {},
   "outputs": [],
   "source": [
    "# umol/L=mmol/m**3, so all NO units the same\n",
    "q=session.query(JDFLocs.ObsID, Station.StartYear,Station.StartMonth,Press,Obs.Silicate,Tem,SA,Station.StartDay).select_from(Obs).\\\n",
    "        join(JDFLocs,JDFLocs.ObsID==Obs.ID).join(Station,Station.ID==Obs.StationTBLID).\\\n",
    "        join(Calcs,Calcs.ObsID==Obs.ID).filter(SA<38).filter(SA>0).filter(Obs.Silicate!=None).\\\n",
    "        filter(Tem!=None).filter(SA!=None).filter(Press<120).filter(Press!=None).\\\n",
    "        all()\n",
    "#for row in q:\n",
    "#    print(row)\n",
    "\n",
    "qYr=[]\n",
    "qMn=[]\n",
    "qDy=[]\n",
    "qP=[]\n",
    "qNO=[]\n",
    "qTC=[]\n",
    "qSA=[]\n",
    "date=[]\n",
    "for OID, Yr, Mn, P, NO3, T, S_A, dy in q:\n",
    "    qYr.append(Yr)\n",
    "    qMn.append(Mn)\n",
    "    qDy.append(dy)\n",
    "    qP.append(P)\n",
    "    qNO.append(NO3)\n",
    "    qTC.append(gsw.CT_from_t(S_A,T,P))\n",
    "    qSA.append(S_A)\n",
    "    date.append(dt.date(int(Yr),int(Mn),int(dy)))\n",
    "\n",
    "qSA=np.array(qSA)\n",
    "qTC=np.array(qTC)\n",
    "qP=np.array(qP)\n",
    "qNO=np.array(qNO)\n",
    "date=np.array(date)\n",
    "YD=0.0*qTC\n",
    "for i in range(0,len(YD)):\n",
    "    YD[i]=date[i].timetuple().tm_yday\n",
    "\n"
   ]
  },
  {
   "cell_type": "code",
   "execution_count": null,
   "metadata": {},
   "outputs": [],
   "source": [
    "sidict,simat=ginterp2d(YD,365,qP,0,qNO,30,10,ydays,zupper)\n",
    "\n",
    "np.savetxt('/home/eolson/pyCode/notebooks/modelInput/OBC/simatTest.csv',simat,delimiter=',')\n",
    "\n",
    "df=pd.DataFrame({'mC':[mC],'mT':[mT],'mS':[mS]})\n",
    "df.to_csv('/home/eolson/pyCode/notebooks/modelInput/OBC/bioOBCfit_SiTSTest.csv')"
   ]
  },
  {
   "cell_type": "code",
   "execution_count": null,
   "metadata": {},
   "outputs": [],
   "source": []
  },
  {
   "cell_type": "code",
   "execution_count": null,
   "metadata": {},
   "outputs": [],
   "source": []
  }
 ],
 "metadata": {
  "anaconda-cloud": {},
  "kernelspec": {
   "display_name": "Python (py38_ct_pmill)",
   "language": "python",
   "name": "py38_ct_pmill"
  },
  "language_info": {
   "codemirror_mode": {
    "name": "ipython",
    "version": 3
   },
   "file_extension": ".py",
   "mimetype": "text/x-python",
   "name": "python",
   "nbconvert_exporter": "python",
   "pygments_lexer": "ipython3",
   "version": "3.8.2"
  }
 },
 "nbformat": 4,
 "nbformat_minor": 1
}
