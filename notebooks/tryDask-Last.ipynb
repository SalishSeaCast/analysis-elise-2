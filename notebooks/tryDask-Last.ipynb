{
 "cells": [
  {
   "cell_type": "code",
   "execution_count": 1,
   "metadata": {
    "collapsed": true
   },
   "outputs": [],
   "source": [
    "import numpy as np\n",
    "import dask\n",
    "import xarray as xr\n",
    "import matplotlib.pyplot as plt\n",
    "import os\n",
    "from os.path import isfile\n",
    "import datetime as dt\n",
    "from salishsea_tools import evaltools as et, viz_tools\n",
    "import glob\n",
    "%matplotlib inline"
   ]
  },
  {
   "cell_type": "code",
   "execution_count": 2,
   "metadata": {
    "collapsed": false
   },
   "outputs": [],
   "source": [
    "meshPath='/ocean/eolson/MEOPAR/NEMO-forcing/grid/mesh_mask201702_noLPE.nc'\n",
    "maskName='tmask'"
   ]
  },
  {
   "cell_type": "code",
   "execution_count": 3,
   "metadata": {
    "collapsed": false
   },
   "outputs": [],
   "source": [
    "j0=230;j1=470;i0=0;i1=200;\n",
    "ct=240;cz=40;cy=50;cx=200;"
   ]
  },
  {
   "cell_type": "code",
   "execution_count": 4,
   "metadata": {
    "collapsed": true
   },
   "outputs": [],
   "source": [
    "def prepro(ds):\n",
    "    return ds.loc[dict(y=slice(j0,j1),x=slice(i0,i1))]"
   ]
  },
  {
   "cell_type": "code",
   "execution_count": 5,
   "metadata": {
    "collapsed": false
   },
   "outputs": [],
   "source": [
    "mesh=xr.open_mfdataset(meshPath,chunks={'t':1, 'z':cz, 'y':cy, 'x':cx},preprocess=prepro,parallel=True)"
   ]
  },
  {
   "cell_type": "code",
   "execution_count": 6,
   "metadata": {
    "collapsed": false
   },
   "outputs": [],
   "source": [
    "mesh2=mesh.loc[{'z':0}]"
   ]
  },
  {
   "cell_type": "code",
   "execution_count": 7,
   "metadata": {
    "collapsed": false
   },
   "outputs": [
    {
     "data": {
      "text/plain": [
       "<matplotlib.collections.QuadMesh at 0x7f79ec143f28>"
      ]
     },
     "execution_count": 7,
     "metadata": {},
     "output_type": "execute_result"
    },
    {
     "data": {
      "image/png": "[encoded data removed]",
      "text/plain": [
       "<Figure size 432x288 with 1 Axes>"
      ]
     },
     "metadata": {
      "needs_background": "light"
     },
     "output_type": "display_data"
    }
   ],
   "source": [
    "plt.pcolormesh(mesh2['tmask'].squeeze())"
   ]
  },
  {
   "cell_type": "code",
   "execution_count": 8,
   "metadata": {
    "collapsed": false
   },
   "outputs": [
    {
     "name": "stdout",
     "output_type": "stream",
     "text": [
      "first file starts on  2015-05-31 00:00:00\n"
     ]
    }
   ],
   "source": [
    "flistmuZ=et.index_model_files(dt.datetime(2015,6,1),dt.datetime(2015,9,1),\n",
    "                             '/data/eolson/results/MEOPAR/SS36runs/CedarRuns/testmuZ/',\n",
    "                             'long',10,'ptrc_T',1)"
   ]
  },
  {
   "cell_type": "code",
   "execution_count": 9,
   "metadata": {
    "collapsed": true
   },
   "outputs": [],
   "source": [
    "flistHC=et.index_model_files(flistmuZ['t_0'][0],flistmuZ['t_n'][len(flistmuZ)-1]-dt.timedelta(days=1),\n",
    "                             '/results/SalishSea/hindcast.201905/',\n",
    "                             'nowcast',1,'ptrc_T',1)"
   ]
  },
  {
   "cell_type": "code",
   "execution_count": 10,
   "metadata": {
    "collapsed": false
   },
   "outputs": [
    {
     "name": "stdout",
     "output_type": "stream",
     "text": [
      "0:00:56.741366\n"
     ]
    }
   ],
   "source": [
    "t0=dt.datetime.now()\n",
    "dataHC=xr.open_mfdataset(flistHC['paths'],data_vars=('diatoms','microzooplankton'),chunks={'time_counter':ct, 'deptht':cz, 'y':cy, 'x':cx},\n",
    "            drop_variables=('nitrate','ammonium','silicon','flagellates','ciliates','dissolved_organic_nitrogen',\n",
    "                            'particulate_organic_nitrogen','biogenic_silicon','mesozooplankton'),preprocess=prepro,parallel=True)\n",
    "t1=dt.datetime.now()\n",
    "print(t1-t0)"
   ]
  },
  {
   "cell_type": "code",
   "execution_count": 11,
   "metadata": {
    "collapsed": false
   },
   "outputs": [
    {
     "data": {
      "text/plain": [
       "<xarray.Dataset>\n",
       "Dimensions:               (axis_nbounds: 2, deptht: 40, nvertex: 4, time_counter: 2400, x: 200, y: 240)\n",
       "Coordinates:\n",
       "    nav_lat               (y, x) float32 0.0 0.0 0.0 0.0 0.0 ... 0.0 0.0 0.0 0.0\n",
       "    nav_lon               (y, x) float32 0.0 0.0 0.0 0.0 0.0 ... 0.0 0.0 0.0 0.0\n",
       "  * deptht                (deptht) float32 0.5000003 1.5000031 ... 441.4661\n",
       "    time_centered         (time_counter) datetime64[ns] dask.array<shape=(2400,), chunksize=(24,)>\n",
       "  * time_counter          (time_counter) datetime64[ns] 2015-05-31T00:30:00 ... 2015-09-07T23:30:00\n",
       "Dimensions without coordinates: axis_nbounds, nvertex, x, y\n",
       "Data variables:\n",
       "    bounds_lon            (y, x, nvertex) float32 0.0 0.0 0.0 ... 0.0 0.0 0.0\n",
       "    bounds_lat            (y, x, nvertex) float32 0.0 0.0 0.0 ... 0.0 0.0 0.0\n",
       "    area                  (y, x) float32 0.0 0.0 0.0 0.0 0.0 ... 0.0 0.0 0.0 0.0\n",
       "    deptht_bounds         (deptht, axis_nbounds) float32 0.0 ... 454.93237\n",
       "    time_centered_bounds  (time_counter, axis_nbounds) datetime64[ns] dask.array<shape=(2400, 2), chunksize=(24, 2)>\n",
       "    time_counter_bounds   (time_counter, axis_nbounds) datetime64[ns] dask.array<shape=(2400, 2), chunksize=(24, 2)>\n",
       "    diatoms               (time_counter, deptht, y, x) float32 dask.array<shape=(2400, 40, 240, 200), chunksize=(24, 40, 20, 200)>\n",
       "    microzooplankton      (time_counter, deptht, y, x) float32 dask.array<shape=(2400, 40, 240, 200), chunksize=(24, 40, 20, 200)>\n",
       "Attributes:\n",
       "    name:         SalishSea_1h_20150526_20150531\n",
       "    description:  biogeochemical variables\n",
       "    title:        biogeochemical variables\n",
       "    Conventions:  CF-1.6\n",
       "    timeStamp:    2019-Sep-25 01:38:45 GMT\n",
       "    uuid:         7abb4fe2-2cf5-475e-b3c2-b5200adfd953"
      ]
     },
     "execution_count": 11,
     "metadata": {},
     "output_type": "execute_result"
    }
   ],
   "source": [
    "dataHC"
   ]
  },
  {
   "cell_type": "code",
   "execution_count": 12,
   "metadata": {
    "collapsed": false
   },
   "outputs": [
    {
     "name": "stdout",
     "output_type": "stream",
     "text": [
      "0:00:05.606863\n"
     ]
    }
   ],
   "source": [
    "t0=dt.datetime.now()\n",
    "datamuZ=xr.open_mfdataset(flistmuZ['paths'],data_vars=('diatoms','microzooplankton'),chunks={'time_counter':ct, 'deptht':cz, 'y':cy, 'x':cx},\n",
    "            drop_variables=('nitrate','ammonium','silicon','flagellates','ciliates','dissolved_organic_nitrogen',\n",
    "                            'particulate_organic_nitrogen','biogenic_silicon','mesozooplankton'),preprocess=prepro,parallel=True)\n",
    "t1=dt.datetime.now()\n",
    "print(t1-t0)"
   ]
  },
  {
   "cell_type": "code",
   "execution_count": 13,
   "metadata": {
    "collapsed": false
   },
   "outputs": [],
   "source": [
    "datamuZ=datamuZ.rename({'time_counter':'t','deptht':'z'})"
   ]
  },
  {
   "cell_type": "code",
   "execution_count": 14,
   "metadata": {
    "collapsed": false
   },
   "outputs": [
    {
     "data": {
      "text/plain": [
       "<xarray.Dataset>\n",
       "Dimensions:               (axis_nbounds: 2, nvertex: 4, t: 2400, x: 200, y: 240, z: 40)\n",
       "Coordinates:\n",
       "    nav_lat               (y, x) float32 -1.0 -1.0 -1.0 -1.0 ... -1.0 -1.0 -1.0\n",
       "    nav_lon               (y, x) float32 -1.0 -1.0 -1.0 -1.0 ... -1.0 -1.0 -1.0\n",
       "  * z                     (z) float32 0.5000003 1.5000031 ... 414.5341 441.4661\n",
       "    time_centered         (t) datetime64[ns] dask.array<shape=(2400,), chunksize=(240,)>\n",
       "  * t                     (t) datetime64[ns] 2015-05-31T00:30:00 ... 2015-09-07T23:30:00\n",
       "Dimensions without coordinates: axis_nbounds, nvertex, x, y\n",
       "Data variables:\n",
       "    bounds_nav_lon        (y, x, nvertex) float32 -1.0 -1.0 -1.0 ... -1.0 -1.0\n",
       "    bounds_nav_lat        (y, x, nvertex) float32 -1.0 -1.0 -1.0 ... -1.0 -1.0\n",
       "    area                  (y, x) float32 -1.0 -1.0 -1.0 -1.0 ... -1.0 -1.0 -1.0\n",
       "    deptht_bounds         (z, axis_nbounds) float32 0.0 1.0000012 ... 454.93237\n",
       "    time_centered_bounds  (t, axis_nbounds) datetime64[ns] dask.array<shape=(2400, 2), chunksize=(240, 2)>\n",
       "    time_counter_bounds   (t, axis_nbounds) datetime64[ns] dask.array<shape=(2400, 2), chunksize=(240, 2)>\n",
       "    diatoms               (t, z, y, x) float32 dask.array<shape=(2400, 40, 240, 200), chunksize=(240, 40, 20, 200)>\n",
       "    microzooplankton      (t, z, y, x) float32 dask.array<shape=(2400, 40, 240, 200), chunksize=(240, 40, 20, 200)>\n",
       "Attributes:\n",
       "    name:         SalishSea_1h_20150531_20150709_ptrc_T\n",
       "    description:  biogeochemical variables\n",
       "    title:        biogeochemical variables\n",
       "    Conventions:  CF-1.6\n",
       "    timeStamp:    2019-Oct-30 15:36:14 GMT\n",
       "    uuid:         396ea30f-075b-4210-9e66-197509446563"
      ]
     },
     "execution_count": 14,
     "metadata": {},
     "output_type": "execute_result"
    }
   ],
   "source": [
    "datamuZ"
   ]
  },
  {
   "cell_type": "code",
   "execution_count": null,
   "metadata": {
    "collapsed": false
   },
   "outputs": [],
   "source": []
  },
  {
   "cell_type": "raw",
   "metadata": {
    "collapsed": false
   },
   "source": [
    "t0=dt.datetime.now()\n",
    "plt.pcolormesh(diatomsHCInt)\n",
    "plt.colorbar()\n",
    "t1=dt.datetime.now()\n",
    "print(t1-t0)"
   ]
  },
  {
   "cell_type": "raw",
   "metadata": {
    "collapsed": false
   },
   "source": [
    "t0=dt.datetime.now()\n",
    "plt.pcolormesh(diatomsmuZInt)\n",
    "plt.colorbar()\n",
    "t1=dt.datetime.now()\n",
    "print(t1-t0)"
   ]
  },
  {
   "cell_type": "code",
   "execution_count": 15,
   "metadata": {
    "collapsed": true
   },
   "outputs": [],
   "source": [
    "import dask\n",
    "from dask.distributed import Client, progress\n",
    "import dask.array as da"
   ]
  },
  {
   "cell_type": "code",
   "execution_count": 16,
   "metadata": {
    "collapsed": false
   },
   "outputs": [
    {
     "data": {
      "text/html": [
       "<table style=\"border: 2px solid white;\">\n",
       "<tr>\n",
       "<td style=\"vertical-align: top; border: 0px solid white\">\n",
       "<h3 style=\"text-align: left;\">Client</h3>\n",
       "<ul style=\"text-align: left; list-style: none; margin: 0; padding: 0;\">\n",
       "  <li><b>Scheduler: </b>tcp://127.0.0.1:40764</li>\n",
       "  <li><b>Dashboard: </b><a href='http://127.0.0.1:8787/status' target='_blank'>http://127.0.0.1:8787/status</a>\n",
       "</ul>\n",
       "</td>\n",
       "<td style=\"vertical-align: top; border: 0px solid white\">\n",
       "<h3 style=\"text-align: left;\">Cluster</h3>\n",
       "<ul style=\"text-align: left; list-style:none; margin: 0; padding: 0;\">\n",
       "  <li><b>Workers: </b>4</li>\n",
       "  <li><b>Cores: </b>8</li>\n",
       "  <li><b>Memory: </b>16.77 GB</li>\n",
       "</ul>\n",
       "</td>\n",
       "</tr>\n",
       "</table>"
      ],
      "text/plain": [
       "<Client: 'tcp://127.0.0.1:40764' processes=4 threads=8, memory=16.77 GB>"
      ]
     },
     "execution_count": 16,
     "metadata": {},
     "output_type": "execute_result"
    }
   ],
   "source": [
    "client = Client()\n",
    "client"
   ]
  },
  {
   "cell_type": "code",
   "execution_count": 17,
   "metadata": {
    "collapsed": false
   },
   "outputs": [],
   "source": [
    "tmask=da.asanyarray(mesh['tmask']).rechunk(('auto',-1,'auto','auto'))\n",
    "e3t=da.asanyarray(mesh['e3t_0']).rechunk(('auto',-1,'auto','auto'))\n",
    "diatomsmuZ=da.asanyarray(datamuZ['diatoms']).rechunk(('auto',cz,'auto','auto'))\n",
    "diatomsHC=da.asanyarray(dataHC['diatoms']).rechunk(('auto',cz,'auto','auto'))"
   ]
  },
  {
   "cell_type": "code",
   "execution_count": 18,
   "metadata": {
    "collapsed": false
   },
   "outputs": [
    {
     "data": {
      "text/html": [
       "<table>\n",
       "<tr>\n",
       "<td>\n",
       "<table>\n",
       "  <thead>\n",
       "    <tr><td> </td><th> Array </th><th> Chunk </th></tr>\n",
       "  </thead>\n",
       "  <tbody>\n",
       "    <tr><th> Bytes </th><td> 1.92 MB </td> <td> 1.92 MB </td></tr>\n",
       "    <tr><th> Shape </th><td> (1, 40, 240, 200) </td> <td> (1, 40, 240, 200) </td></tr>\n",
       "    <tr><th> Count </th><td> 44 Tasks </td><td> 1 Chunks </td></tr>\n",
       "    <tr><th> Type </th><td> int8 </td><td> numpy.ndarray </td></tr>\n",
       "  </tbody>\n",
       "</table>\n",
       "</td>\n",
       "<td>\n",
       "<svg width=\"364\" height=\"194\" style=\"stroke:rgb(0,0,0);stroke-width:1\" >\n",
       "\n",
       "  <!-- Horizontal lines -->\n",
       "  <line x1=\"0\" y1=\"0\" x2=\"25\" y2=\"0\" style=\"stroke-width:2\" />\n",
       "  <line x1=\"0\" y1=\"25\" x2=\"25\" y2=\"25\" style=\"stroke-width:2\" />\n",
       "\n",
       "  <!-- Vertical lines -->\n",
       "  <line x1=\"0\" y1=\"0\" x2=\"0\" y2=\"25\" style=\"stroke-width:2\" />\n",
       "  <line x1=\"25\" y1=\"0\" x2=\"25\" y2=\"25\" style=\"stroke-width:2\" />\n",
       "\n",
       "  <!-- Colored Rectangle -->\n",
       "  <polygon points=\"0.000000,0.000000 25.412617,0.000000 25.412617,25.412617 0.000000,25.412617\" style=\"fill:#ECB172A0;stroke-width:0\"/>\n",
       "\n",
       "  <!-- Text -->\n",
       "  <text x=\"12.706308\" y=\"45.412617\" font-size=\"1.0rem\" font-weight=\"100\" text-anchor=\"middle\" >1</text>\n",
       "  <text x=\"45.412617\" y=\"12.706308\" font-size=\"1.0rem\" font-weight=\"100\" text-anchor=\"middle\" transform=\"rotate(0,45.412617,12.706308)\">1</text>\n",
       "\n",
       "\n",
       "  <!-- Horizontal lines -->\n",
       "  <line x1=\"95\" y1=\"0\" x2=\"119\" y2=\"24\" style=\"stroke-width:2\" />\n",
       "  <line x1=\"95\" y1=\"120\" x2=\"119\" y2=\"144\" style=\"stroke-width:2\" />\n",
       "\n",
       "  <!-- Vertical lines -->\n",
       "  <line x1=\"95\" y1=\"0\" x2=\"95\" y2=\"120\" style=\"stroke-width:2\" />\n",
       "  <line x1=\"119\" y1=\"24\" x2=\"119\" y2=\"144\" style=\"stroke-width:2\" />\n",
       "\n",
       "  <!-- Colored Rectangle -->\n",
       "  <polygon points=\"95.000000,0.000000 119.237547,24.237547 119.237547,144.237547 95.000000,120.000000\" style=\"fill:#ECB172A0;stroke-width:0\"/>\n",
       "\n",
       "  <!-- Horizontal lines -->\n",
       "  <line x1=\"95\" y1=\"0\" x2=\"195\" y2=\"0\" style=\"stroke-width:2\" />\n",
       "  <line x1=\"119\" y1=\"24\" x2=\"219\" y2=\"24\" style=\"stroke-width:2\" />\n",
       "\n",
       "  <!-- Vertical lines -->\n",
       "  <line x1=\"95\" y1=\"0\" x2=\"119\" y2=\"24\" style=\"stroke-width:2\" />\n",
       "  <line x1=\"195\" y1=\"0\" x2=\"219\" y2=\"24\" style=\"stroke-width:2\" />\n",
       "\n",
       "  <!-- Colored Rectangle -->\n",
       "  <polygon points=\"95.000000,0.000000 195.000000,0.000000 219.237547,24.237547 119.237547,24.237547\" style=\"fill:#ECB172A0;stroke-width:0\"/>\n",
       "\n",
       "  <!-- Horizontal lines -->\n",
       "  <line x1=\"119\" y1=\"24\" x2=\"219\" y2=\"24\" style=\"stroke-width:2\" />\n",
       "  <line x1=\"119\" y1=\"144\" x2=\"219\" y2=\"144\" style=\"stroke-width:2\" />\n",
       "\n",
       "  <!-- Vertical lines -->\n",
       "  <line x1=\"119\" y1=\"24\" x2=\"119\" y2=\"144\" style=\"stroke-width:2\" />\n",
       "  <line x1=\"219\" y1=\"24\" x2=\"219\" y2=\"144\" style=\"stroke-width:2\" />\n",
       "\n",
       "  <!-- Colored Rectangle -->\n",
       "  <polygon points=\"119.237547,24.237547 219.237547,24.237547 219.237547,144.237547 119.237547,144.237547\" style=\"fill:#ECB172A0;stroke-width:0\"/>\n",
       "\n",
       "  <!-- Text -->\n",
       "  <text x=\"169.237547\" y=\"164.237547\" font-size=\"1.0rem\" font-weight=\"100\" text-anchor=\"middle\" >200</text>\n",
       "  <text x=\"239.237547\" y=\"84.237547\" font-size=\"1.0rem\" font-weight=\"100\" text-anchor=\"middle\" transform=\"rotate(-90,239.237547,84.237547)\">240</text>\n",
       "  <text x=\"97.118773\" y=\"152.118773\" font-size=\"1.0rem\" font-weight=\"100\" text-anchor=\"middle\" transform=\"rotate(45,97.118773,152.118773)\">40</text>\n",
       "</svg>\n",
       "</td>\n",
       "</tr>\n",
       "</table>"
      ],
      "text/plain": [
       "dask.array<rechunk-merge, shape=(1, 40, 240, 200), dtype=int8, chunksize=(1, 40, 240, 200), chunktype=numpy.ndarray>"
      ]
     },
     "execution_count": 18,
     "metadata": {},
     "output_type": "execute_result"
    }
   ],
   "source": [
    "tmask"
   ]
  },
  {
   "cell_type": "code",
   "execution_count": 19,
   "metadata": {
    "collapsed": false
   },
   "outputs": [
    {
     "data": {
      "text/html": [
       "<table>\n",
       "<tr>\n",
       "<td>\n",
       "<table>\n",
       "  <thead>\n",
       "    <tr><td> </td><th> Array </th><th> Chunk </th></tr>\n",
       "  </thead>\n",
       "  <tbody>\n",
       "    <tr><th> Bytes </th><td> 15.36 MB </td> <td> 15.36 MB </td></tr>\n",
       "    <tr><th> Shape </th><td> (1, 40, 240, 200) </td> <td> (1, 40, 240, 200) </td></tr>\n",
       "    <tr><th> Count </th><td> 44 Tasks </td><td> 1 Chunks </td></tr>\n",
       "    <tr><th> Type </th><td> float64 </td><td> numpy.ndarray </td></tr>\n",
       "  </tbody>\n",
       "</table>\n",
       "</td>\n",
       "<td>\n",
       "<svg width=\"364\" height=\"194\" style=\"stroke:rgb(0,0,0);stroke-width:1\" >\n",
       "\n",
       "  <!-- Horizontal lines -->\n",
       "  <line x1=\"0\" y1=\"0\" x2=\"25\" y2=\"0\" style=\"stroke-width:2\" />\n",
       "  <line x1=\"0\" y1=\"25\" x2=\"25\" y2=\"25\" style=\"stroke-width:2\" />\n",
       "\n",
       "  <!-- Vertical lines -->\n",
       "  <line x1=\"0\" y1=\"0\" x2=\"0\" y2=\"25\" style=\"stroke-width:2\" />\n",
       "  <line x1=\"25\" y1=\"0\" x2=\"25\" y2=\"25\" style=\"stroke-width:2\" />\n",
       "\n",
       "  <!-- Colored Rectangle -->\n",
       "  <polygon points=\"0.000000,0.000000 25.412617,0.000000 25.412617,25.412617 0.000000,25.412617\" style=\"fill:#ECB172A0;stroke-width:0\"/>\n",
       "\n",
       "  <!-- Text -->\n",
       "  <text x=\"12.706308\" y=\"45.412617\" font-size=\"1.0rem\" font-weight=\"100\" text-anchor=\"middle\" >1</text>\n",
       "  <text x=\"45.412617\" y=\"12.706308\" font-size=\"1.0rem\" font-weight=\"100\" text-anchor=\"middle\" transform=\"rotate(0,45.412617,12.706308)\">1</text>\n",
       "\n",
       "\n",
       "  <!-- Horizontal lines -->\n",
       "  <line x1=\"95\" y1=\"0\" x2=\"119\" y2=\"24\" style=\"stroke-width:2\" />\n",
       "  <line x1=\"95\" y1=\"120\" x2=\"119\" y2=\"144\" style=\"stroke-width:2\" />\n",
       "\n",
       "  <!-- Vertical lines -->\n",
       "  <line x1=\"95\" y1=\"0\" x2=\"95\" y2=\"120\" style=\"stroke-width:2\" />\n",
       "  <line x1=\"119\" y1=\"24\" x2=\"119\" y2=\"144\" style=\"stroke-width:2\" />\n",
       "\n",
       "  <!-- Colored Rectangle -->\n",
       "  <polygon points=\"95.000000,0.000000 119.237547,24.237547 119.237547,144.237547 95.000000,120.000000\" style=\"fill:#ECB172A0;stroke-width:0\"/>\n",
       "\n",
       "  <!-- Horizontal lines -->\n",
       "  <line x1=\"95\" y1=\"0\" x2=\"195\" y2=\"0\" style=\"stroke-width:2\" />\n",
       "  <line x1=\"119\" y1=\"24\" x2=\"219\" y2=\"24\" style=\"stroke-width:2\" />\n",
       "\n",
       "  <!-- Vertical lines -->\n",
       "  <line x1=\"95\" y1=\"0\" x2=\"119\" y2=\"24\" style=\"stroke-width:2\" />\n",
       "  <line x1=\"195\" y1=\"0\" x2=\"219\" y2=\"24\" style=\"stroke-width:2\" />\n",
       "\n",
       "  <!-- Colored Rectangle -->\n",
       "  <polygon points=\"95.000000,0.000000 195.000000,0.000000 219.237547,24.237547 119.237547,24.237547\" style=\"fill:#ECB172A0;stroke-width:0\"/>\n",
       "\n",
       "  <!-- Horizontal lines -->\n",
       "  <line x1=\"119\" y1=\"24\" x2=\"219\" y2=\"24\" style=\"stroke-width:2\" />\n",
       "  <line x1=\"119\" y1=\"144\" x2=\"219\" y2=\"144\" style=\"stroke-width:2\" />\n",
       "\n",
       "  <!-- Vertical lines -->\n",
       "  <line x1=\"119\" y1=\"24\" x2=\"119\" y2=\"144\" style=\"stroke-width:2\" />\n",
       "  <line x1=\"219\" y1=\"24\" x2=\"219\" y2=\"144\" style=\"stroke-width:2\" />\n",
       "\n",
       "  <!-- Colored Rectangle -->\n",
       "  <polygon points=\"119.237547,24.237547 219.237547,24.237547 219.237547,144.237547 119.237547,144.237547\" style=\"fill:#ECB172A0;stroke-width:0\"/>\n",
       "\n",
       "  <!-- Text -->\n",
       "  <text x=\"169.237547\" y=\"164.237547\" font-size=\"1.0rem\" font-weight=\"100\" text-anchor=\"middle\" >200</text>\n",
       "  <text x=\"239.237547\" y=\"84.237547\" font-size=\"1.0rem\" font-weight=\"100\" text-anchor=\"middle\" transform=\"rotate(-90,239.237547,84.237547)\">240</text>\n",
       "  <text x=\"97.118773\" y=\"152.118773\" font-size=\"1.0rem\" font-weight=\"100\" text-anchor=\"middle\" transform=\"rotate(45,97.118773,152.118773)\">40</text>\n",
       "</svg>\n",
       "</td>\n",
       "</tr>\n",
       "</table>"
      ],
      "text/plain": [
       "dask.array<rechunk-merge, shape=(1, 40, 240, 200), dtype=float64, chunksize=(1, 40, 240, 200), chunktype=numpy.ndarray>"
      ]
     },
     "execution_count": 19,
     "metadata": {},
     "output_type": "execute_result"
    }
   ],
   "source": [
    "e3t"
   ]
  },
  {
   "cell_type": "code",
   "execution_count": 20,
   "metadata": {
    "collapsed": false
   },
   "outputs": [
    {
     "data": {
      "text/html": [
       "<table>\n",
       "<tr>\n",
       "<td>\n",
       "<table>\n",
       "  <thead>\n",
       "    <tr><td> </td><th> Array </th><th> Chunk </th></tr>\n",
       "  </thead>\n",
       "  <tbody>\n",
       "    <tr><th> Bytes </th><td> 18.43 GB </td> <td> 48.00 MB </td></tr>\n",
       "    <tr><th> Shape </th><td> (2400, 40, 240, 200) </td> <td> (120, 40, 25, 100) </td></tr>\n",
       "    <tr><th> Count </th><td> 1550 Tasks </td><td> 400 Chunks </td></tr>\n",
       "    <tr><th> Type </th><td> float32 </td><td> numpy.ndarray </td></tr>\n",
       "  </tbody>\n",
       "</table>\n",
       "</td>\n",
       "<td>\n",
       "<svg width=\"484\" height=\"105\" style=\"stroke:rgb(0,0,0);stroke-width:1\" >\n",
       "\n",
       "  <!-- Horizontal lines -->\n",
       "  <line x1=\"0\" y1=\"0\" x2=\"120\" y2=\"0\" style=\"stroke-width:2\" />\n",
       "  <line x1=\"0\" y1=\"25\" x2=\"120\" y2=\"25\" style=\"stroke-width:2\" />\n",
       "\n",
       "  <!-- Vertical lines -->\n",
       "  <line x1=\"0\" y1=\"0\" x2=\"0\" y2=\"25\" style=\"stroke-width:2\" />\n",
       "  <line x1=\"6\" y1=\"0\" x2=\"6\" y2=\"25\" />\n",
       "  <line x1=\"12\" y1=\"0\" x2=\"12\" y2=\"25\" />\n",
       "  <line x1=\"18\" y1=\"0\" x2=\"18\" y2=\"25\" />\n",
       "  <line x1=\"24\" y1=\"0\" x2=\"24\" y2=\"25\" />\n",
       "  <line x1=\"30\" y1=\"0\" x2=\"30\" y2=\"25\" />\n",
       "  <line x1=\"36\" y1=\"0\" x2=\"36\" y2=\"25\" />\n",
       "  <line x1=\"42\" y1=\"0\" x2=\"42\" y2=\"25\" />\n",
       "  <line x1=\"48\" y1=\"0\" x2=\"48\" y2=\"25\" />\n",
       "  <line x1=\"54\" y1=\"0\" x2=\"54\" y2=\"25\" />\n",
       "  <line x1=\"60\" y1=\"0\" x2=\"60\" y2=\"25\" />\n",
       "  <line x1=\"66\" y1=\"0\" x2=\"66\" y2=\"25\" />\n",
       "  <line x1=\"72\" y1=\"0\" x2=\"72\" y2=\"25\" />\n",
       "  <line x1=\"78\" y1=\"0\" x2=\"78\" y2=\"25\" />\n",
       "  <line x1=\"84\" y1=\"0\" x2=\"84\" y2=\"25\" />\n",
       "  <line x1=\"90\" y1=\"0\" x2=\"90\" y2=\"25\" />\n",
       "  <line x1=\"96\" y1=\"0\" x2=\"96\" y2=\"25\" />\n",
       "  <line x1=\"102\" y1=\"0\" x2=\"102\" y2=\"25\" />\n",
       "  <line x1=\"108\" y1=\"0\" x2=\"108\" y2=\"25\" />\n",
       "  <line x1=\"114\" y1=\"0\" x2=\"114\" y2=\"25\" />\n",
       "  <line x1=\"120\" y1=\"0\" x2=\"120\" y2=\"25\" style=\"stroke-width:2\" />\n",
       "\n",
       "  <!-- Colored Rectangle -->\n",
       "  <polygon points=\"0.000000,0.000000 120.000000,0.000000 120.000000,25.412617 0.000000,25.412617\" style=\"fill:#ECB172A0;stroke-width:0\"/>\n",
       "\n",
       "  <!-- Text -->\n",
       "  <text x=\"60.000000\" y=\"45.412617\" font-size=\"1.0rem\" font-weight=\"100\" text-anchor=\"middle\" >2400</text>\n",
       "  <text x=\"140.000000\" y=\"12.706308\" font-size=\"1.0rem\" font-weight=\"100\" text-anchor=\"middle\" transform=\"rotate(0,140.000000,12.706308)\">1</text>\n",
       "\n",
       "\n",
       "  <!-- Horizontal lines -->\n",
       "  <line x1=\"190\" y1=\"0\" x2=\"206\" y2=\"16\" style=\"stroke-width:2\" />\n",
       "  <line x1=\"190\" y1=\"4\" x2=\"206\" y2=\"20\" />\n",
       "  <line x1=\"190\" y1=\"8\" x2=\"206\" y2=\"24\" />\n",
       "  <line x1=\"190\" y1=\"12\" x2=\"206\" y2=\"28\" />\n",
       "  <line x1=\"190\" y1=\"16\" x2=\"206\" y2=\"32\" />\n",
       "  <line x1=\"190\" y1=\"20\" x2=\"206\" y2=\"36\" />\n",
       "  <line x1=\"190\" y1=\"24\" x2=\"206\" y2=\"40\" />\n",
       "  <line x1=\"190\" y1=\"28\" x2=\"206\" y2=\"44\" />\n",
       "  <line x1=\"190\" y1=\"32\" x2=\"206\" y2=\"48\" />\n",
       "  <line x1=\"190\" y1=\"36\" x2=\"206\" y2=\"52\" />\n",
       "  <line x1=\"190\" y1=\"38\" x2=\"206\" y2=\"55\" style=\"stroke-width:2\" />\n",
       "\n",
       "  <!-- Vertical lines -->\n",
       "  <line x1=\"190\" y1=\"0\" x2=\"190\" y2=\"38\" style=\"stroke-width:2\" />\n",
       "  <line x1=\"206\" y1=\"16\" x2=\"206\" y2=\"55\" style=\"stroke-width:2\" />\n",
       "\n",
       "  <!-- Colored Rectangle -->\n",
       "  <polygon points=\"190.000000,0.000000 206.484081,16.484081 206.484081,55.080944 190.000000,38.596863\" style=\"fill:#ECB172A0;stroke-width:0\"/>\n",
       "\n",
       "  <!-- Horizontal lines -->\n",
       "  <line x1=\"190\" y1=\"0\" x2=\"227\" y2=\"0\" style=\"stroke-width:2\" />\n",
       "  <line x1=\"206\" y1=\"16\" x2=\"244\" y2=\"16\" style=\"stroke-width:2\" />\n",
       "\n",
       "  <!-- Vertical lines -->\n",
       "  <line x1=\"190\" y1=\"0\" x2=\"206\" y2=\"16\" style=\"stroke-width:2\" />\n",
       "  <line x1=\"208\" y1=\"0\" x2=\"225\" y2=\"16\" />\n",
       "  <line x1=\"227\" y1=\"0\" x2=\"244\" y2=\"16\" style=\"stroke-width:2\" />\n",
       "\n",
       "  <!-- Colored Rectangle -->\n",
       "  <polygon points=\"190.000000,0.000000 227.563587,0.000000 244.047668,16.484081 206.484081,16.484081\" style=\"fill:#ECB172A0;stroke-width:0\"/>\n",
       "\n",
       "  <!-- Horizontal lines -->\n",
       "  <line x1=\"206\" y1=\"16\" x2=\"244\" y2=\"16\" style=\"stroke-width:2\" />\n",
       "  <line x1=\"206\" y1=\"20\" x2=\"244\" y2=\"20\" />\n",
       "  <line x1=\"206\" y1=\"24\" x2=\"244\" y2=\"24\" />\n",
       "  <line x1=\"206\" y1=\"28\" x2=\"244\" y2=\"28\" />\n",
       "  <line x1=\"206\" y1=\"32\" x2=\"244\" y2=\"32\" />\n",
       "  <line x1=\"206\" y1=\"36\" x2=\"244\" y2=\"36\" />\n",
       "  <line x1=\"206\" y1=\"40\" x2=\"244\" y2=\"40\" />\n",
       "  <line x1=\"206\" y1=\"44\" x2=\"244\" y2=\"44\" />\n",
       "  <line x1=\"206\" y1=\"48\" x2=\"244\" y2=\"48\" />\n",
       "  <line x1=\"206\" y1=\"52\" x2=\"244\" y2=\"52\" />\n",
       "  <line x1=\"206\" y1=\"55\" x2=\"244\" y2=\"55\" style=\"stroke-width:2\" />\n",
       "\n",
       "  <!-- Vertical lines -->\n",
       "  <line x1=\"206\" y1=\"16\" x2=\"206\" y2=\"55\" style=\"stroke-width:2\" />\n",
       "  <line x1=\"225\" y1=\"16\" x2=\"225\" y2=\"55\" />\n",
       "  <line x1=\"244\" y1=\"16\" x2=\"244\" y2=\"55\" style=\"stroke-width:2\" />\n",
       "\n",
       "  <!-- Colored Rectangle -->\n",
       "  <polygon points=\"206.484081,16.484081 244.047668,16.484081 244.047668,55.080944 206.484081,55.080944\" style=\"fill:#ECB172A0;stroke-width:0\"/>\n",
       "\n",
       "  <!-- Text -->\n",
       "  <text x=\"225.265874\" y=\"75.080944\" font-size=\"1.0rem\" font-weight=\"100\" text-anchor=\"middle\" >200</text>\n",
       "  <text x=\"264.047668\" y=\"35.782512\" font-size=\"1.0rem\" font-weight=\"100\" text-anchor=\"middle\" transform=\"rotate(-90,264.047668,35.782512)\">240</text>\n",
       "  <text x=\"188.242040\" y=\"66.838904\" font-size=\"1.0rem\" font-weight=\"100\" text-anchor=\"middle\" transform=\"rotate(45,188.242040,66.838904)\">40</text>\n",
       "</svg>\n",
       "</td>\n",
       "</tr>\n",
       "</table>"
      ],
      "text/plain": [
       "dask.array<rechunk-merge, shape=(2400, 40, 240, 200), dtype=float32, chunksize=(120, 40, 25, 100), chunktype=numpy.ndarray>"
      ]
     },
     "execution_count": 20,
     "metadata": {},
     "output_type": "execute_result"
    }
   ],
   "source": [
    "diatomsmuZ"
   ]
  },
  {
   "cell_type": "code",
   "execution_count": 21,
   "metadata": {
    "collapsed": false
   },
   "outputs": [],
   "source": [
    "prod1=tmask*e3t*diatomsmuZ"
   ]
  },
  {
   "cell_type": "code",
   "execution_count": 22,
   "metadata": {
    "collapsed": false
   },
   "outputs": [
    {
     "data": {
      "text/html": [
       "<table>\n",
       "<tr>\n",
       "<td>\n",
       "<table>\n",
       "  <thead>\n",
       "    <tr><td> </td><th> Array </th><th> Chunk </th></tr>\n",
       "  </thead>\n",
       "  <tbody>\n",
       "    <tr><th> Bytes </th><td> 36.86 GB </td> <td> 96.00 MB </td></tr>\n",
       "    <tr><th> Shape </th><td> (2400, 40, 240, 200) </td> <td> (120, 40, 25, 100) </td></tr>\n",
       "    <tr><th> Count </th><td> 2080 Tasks </td><td> 400 Chunks </td></tr>\n",
       "    <tr><th> Type </th><td> float64 </td><td> numpy.ndarray </td></tr>\n",
       "  </tbody>\n",
       "</table>\n",
       "</td>\n",
       "<td>\n",
       "<svg width=\"484\" height=\"105\" style=\"stroke:rgb(0,0,0);stroke-width:1\" >\n",
       "\n",
       "  <!-- Horizontal lines -->\n",
       "  <line x1=\"0\" y1=\"0\" x2=\"120\" y2=\"0\" style=\"stroke-width:2\" />\n",
       "  <line x1=\"0\" y1=\"25\" x2=\"120\" y2=\"25\" style=\"stroke-width:2\" />\n",
       "\n",
       "  <!-- Vertical lines -->\n",
       "  <line x1=\"0\" y1=\"0\" x2=\"0\" y2=\"25\" style=\"stroke-width:2\" />\n",
       "  <line x1=\"6\" y1=\"0\" x2=\"6\" y2=\"25\" />\n",
       "  <line x1=\"12\" y1=\"0\" x2=\"12\" y2=\"25\" />\n",
       "  <line x1=\"18\" y1=\"0\" x2=\"18\" y2=\"25\" />\n",
       "  <line x1=\"24\" y1=\"0\" x2=\"24\" y2=\"25\" />\n",
       "  <line x1=\"30\" y1=\"0\" x2=\"30\" y2=\"25\" />\n",
       "  <line x1=\"36\" y1=\"0\" x2=\"36\" y2=\"25\" />\n",
       "  <line x1=\"42\" y1=\"0\" x2=\"42\" y2=\"25\" />\n",
       "  <line x1=\"48\" y1=\"0\" x2=\"48\" y2=\"25\" />\n",
       "  <line x1=\"54\" y1=\"0\" x2=\"54\" y2=\"25\" />\n",
       "  <line x1=\"60\" y1=\"0\" x2=\"60\" y2=\"25\" />\n",
       "  <line x1=\"66\" y1=\"0\" x2=\"66\" y2=\"25\" />\n",
       "  <line x1=\"72\" y1=\"0\" x2=\"72\" y2=\"25\" />\n",
       "  <line x1=\"78\" y1=\"0\" x2=\"78\" y2=\"25\" />\n",
       "  <line x1=\"84\" y1=\"0\" x2=\"84\" y2=\"25\" />\n",
       "  <line x1=\"90\" y1=\"0\" x2=\"90\" y2=\"25\" />\n",
       "  <line x1=\"96\" y1=\"0\" x2=\"96\" y2=\"25\" />\n",
       "  <line x1=\"102\" y1=\"0\" x2=\"102\" y2=\"25\" />\n",
       "  <line x1=\"108\" y1=\"0\" x2=\"108\" y2=\"25\" />\n",
       "  <line x1=\"114\" y1=\"0\" x2=\"114\" y2=\"25\" />\n",
       "  <line x1=\"120\" y1=\"0\" x2=\"120\" y2=\"25\" style=\"stroke-width:2\" />\n",
       "\n",
       "  <!-- Colored Rectangle -->\n",
       "  <polygon points=\"0.000000,0.000000 120.000000,0.000000 120.000000,25.412617 0.000000,25.412617\" style=\"fill:#ECB172A0;stroke-width:0\"/>\n",
       "\n",
       "  <!-- Text -->\n",
       "  <text x=\"60.000000\" y=\"45.412617\" font-size=\"1.0rem\" font-weight=\"100\" text-anchor=\"middle\" >2400</text>\n",
       "  <text x=\"140.000000\" y=\"12.706308\" font-size=\"1.0rem\" font-weight=\"100\" text-anchor=\"middle\" transform=\"rotate(0,140.000000,12.706308)\">1</text>\n",
       "\n",
       "\n",
       "  <!-- Horizontal lines -->\n",
       "  <line x1=\"190\" y1=\"0\" x2=\"206\" y2=\"16\" style=\"stroke-width:2\" />\n",
       "  <line x1=\"190\" y1=\"4\" x2=\"206\" y2=\"20\" />\n",
       "  <line x1=\"190\" y1=\"8\" x2=\"206\" y2=\"24\" />\n",
       "  <line x1=\"190\" y1=\"12\" x2=\"206\" y2=\"28\" />\n",
       "  <line x1=\"190\" y1=\"16\" x2=\"206\" y2=\"32\" />\n",
       "  <line x1=\"190\" y1=\"20\" x2=\"206\" y2=\"36\" />\n",
       "  <line x1=\"190\" y1=\"24\" x2=\"206\" y2=\"40\" />\n",
       "  <line x1=\"190\" y1=\"28\" x2=\"206\" y2=\"44\" />\n",
       "  <line x1=\"190\" y1=\"32\" x2=\"206\" y2=\"48\" />\n",
       "  <line x1=\"190\" y1=\"36\" x2=\"206\" y2=\"52\" />\n",
       "  <line x1=\"190\" y1=\"38\" x2=\"206\" y2=\"55\" style=\"stroke-width:2\" />\n",
       "\n",
       "  <!-- Vertical lines -->\n",
       "  <line x1=\"190\" y1=\"0\" x2=\"190\" y2=\"38\" style=\"stroke-width:2\" />\n",
       "  <line x1=\"206\" y1=\"16\" x2=\"206\" y2=\"55\" style=\"stroke-width:2\" />\n",
       "\n",
       "  <!-- Colored Rectangle -->\n",
       "  <polygon points=\"190.000000,0.000000 206.484081,16.484081 206.484081,55.080944 190.000000,38.596863\" style=\"fill:#ECB172A0;stroke-width:0\"/>\n",
       "\n",
       "  <!-- Horizontal lines -->\n",
       "  <line x1=\"190\" y1=\"0\" x2=\"227\" y2=\"0\" style=\"stroke-width:2\" />\n",
       "  <line x1=\"206\" y1=\"16\" x2=\"244\" y2=\"16\" style=\"stroke-width:2\" />\n",
       "\n",
       "  <!-- Vertical lines -->\n",
       "  <line x1=\"190\" y1=\"0\" x2=\"206\" y2=\"16\" style=\"stroke-width:2\" />\n",
       "  <line x1=\"208\" y1=\"0\" x2=\"225\" y2=\"16\" />\n",
       "  <line x1=\"227\" y1=\"0\" x2=\"244\" y2=\"16\" style=\"stroke-width:2\" />\n",
       "\n",
       "  <!-- Colored Rectangle -->\n",
       "  <polygon points=\"190.000000,0.000000 227.563587,0.000000 244.047668,16.484081 206.484081,16.484081\" style=\"fill:#ECB172A0;stroke-width:0\"/>\n",
       "\n",
       "  <!-- Horizontal lines -->\n",
       "  <line x1=\"206\" y1=\"16\" x2=\"244\" y2=\"16\" style=\"stroke-width:2\" />\n",
       "  <line x1=\"206\" y1=\"20\" x2=\"244\" y2=\"20\" />\n",
       "  <line x1=\"206\" y1=\"24\" x2=\"244\" y2=\"24\" />\n",
       "  <line x1=\"206\" y1=\"28\" x2=\"244\" y2=\"28\" />\n",
       "  <line x1=\"206\" y1=\"32\" x2=\"244\" y2=\"32\" />\n",
       "  <line x1=\"206\" y1=\"36\" x2=\"244\" y2=\"36\" />\n",
       "  <line x1=\"206\" y1=\"40\" x2=\"244\" y2=\"40\" />\n",
       "  <line x1=\"206\" y1=\"44\" x2=\"244\" y2=\"44\" />\n",
       "  <line x1=\"206\" y1=\"48\" x2=\"244\" y2=\"48\" />\n",
       "  <line x1=\"206\" y1=\"52\" x2=\"244\" y2=\"52\" />\n",
       "  <line x1=\"206\" y1=\"55\" x2=\"244\" y2=\"55\" style=\"stroke-width:2\" />\n",
       "\n",
       "  <!-- Vertical lines -->\n",
       "  <line x1=\"206\" y1=\"16\" x2=\"206\" y2=\"55\" style=\"stroke-width:2\" />\n",
       "  <line x1=\"225\" y1=\"16\" x2=\"225\" y2=\"55\" />\n",
       "  <line x1=\"244\" y1=\"16\" x2=\"244\" y2=\"55\" style=\"stroke-width:2\" />\n",
       "\n",
       "  <!-- Colored Rectangle -->\n",
       "  <polygon points=\"206.484081,16.484081 244.047668,16.484081 244.047668,55.080944 206.484081,55.080944\" style=\"fill:#ECB172A0;stroke-width:0\"/>\n",
       "\n",
       "  <!-- Text -->\n",
       "  <text x=\"225.265874\" y=\"75.080944\" font-size=\"1.0rem\" font-weight=\"100\" text-anchor=\"middle\" >200</text>\n",
       "  <text x=\"264.047668\" y=\"35.782512\" font-size=\"1.0rem\" font-weight=\"100\" text-anchor=\"middle\" transform=\"rotate(-90,264.047668,35.782512)\">240</text>\n",
       "  <text x=\"188.242040\" y=\"66.838904\" font-size=\"1.0rem\" font-weight=\"100\" text-anchor=\"middle\" transform=\"rotate(45,188.242040,66.838904)\">40</text>\n",
       "</svg>\n",
       "</td>\n",
       "</tr>\n",
       "</table>"
      ],
      "text/plain": [
       "dask.array<mul, shape=(2400, 40, 240, 200), dtype=float64, chunksize=(120, 40, 25, 100), chunktype=numpy.ndarray>"
      ]
     },
     "execution_count": 22,
     "metadata": {},
     "output_type": "execute_result"
    }
   ],
   "source": [
    "prod1"
   ]
  },
  {
   "cell_type": "code",
   "execution_count": 23,
   "metadata": {
    "collapsed": false
   },
   "outputs": [],
   "source": [
    "sum1=dask.array.sum(prod1,axis=1)"
   ]
  },
  {
   "cell_type": "code",
   "execution_count": 24,
   "metadata": {
    "collapsed": false
   },
   "outputs": [
    {
     "data": {
      "text/html": [
       "<table>\n",
       "<tr>\n",
       "<td>\n",
       "<table>\n",
       "  <thead>\n",
       "    <tr><td> </td><th> Array </th><th> Chunk </th></tr>\n",
       "  </thead>\n",
       "  <tbody>\n",
       "    <tr><th> Bytes </th><td> 921.60 MB </td> <td> 2.40 MB </td></tr>\n",
       "    <tr><th> Shape </th><td> (2400, 240, 200) </td> <td> (120, 25, 100) </td></tr>\n",
       "    <tr><th> Count </th><td> 2880 Tasks </td><td> 400 Chunks </td></tr>\n",
       "    <tr><th> Type </th><td> float64 </td><td> numpy.ndarray </td></tr>\n",
       "  </tbody>\n",
       "</table>\n",
       "</td>\n",
       "<td>\n",
       "<svg width=\"168\" height=\"159\" style=\"stroke:rgb(0,0,0);stroke-width:1\" >\n",
       "\n",
       "  <!-- Horizontal lines -->\n",
       "  <line x1=\"10\" y1=\"0\" x2=\"80\" y2=\"70\" style=\"stroke-width:2\" />\n",
       "  <line x1=\"10\" y1=\"4\" x2=\"80\" y2=\"74\" />\n",
       "  <line x1=\"10\" y1=\"8\" x2=\"80\" y2=\"78\" />\n",
       "  <line x1=\"10\" y1=\"12\" x2=\"80\" y2=\"82\" />\n",
       "  <line x1=\"10\" y1=\"16\" x2=\"80\" y2=\"86\" />\n",
       "  <line x1=\"10\" y1=\"20\" x2=\"80\" y2=\"90\" />\n",
       "  <line x1=\"10\" y1=\"24\" x2=\"80\" y2=\"94\" />\n",
       "  <line x1=\"10\" y1=\"28\" x2=\"80\" y2=\"98\" />\n",
       "  <line x1=\"10\" y1=\"32\" x2=\"80\" y2=\"102\" />\n",
       "  <line x1=\"10\" y1=\"36\" x2=\"80\" y2=\"106\" />\n",
       "  <line x1=\"10\" y1=\"38\" x2=\"80\" y2=\"109\" style=\"stroke-width:2\" />\n",
       "\n",
       "  <!-- Vertical lines -->\n",
       "  <line x1=\"10\" y1=\"0\" x2=\"10\" y2=\"38\" style=\"stroke-width:2\" />\n",
       "  <line x1=\"13\" y1=\"3\" x2=\"13\" y2=\"42\" />\n",
       "  <line x1=\"17\" y1=\"7\" x2=\"17\" y2=\"45\" />\n",
       "  <line x1=\"20\" y1=\"10\" x2=\"20\" y2=\"49\" />\n",
       "  <line x1=\"24\" y1=\"14\" x2=\"24\" y2=\"52\" />\n",
       "  <line x1=\"27\" y1=\"17\" x2=\"27\" y2=\"56\" />\n",
       "  <line x1=\"31\" y1=\"21\" x2=\"31\" y2=\"59\" />\n",
       "  <line x1=\"34\" y1=\"24\" x2=\"34\" y2=\"63\" />\n",
       "  <line x1=\"38\" y1=\"28\" x2=\"38\" y2=\"66\" />\n",
       "  <line x1=\"41\" y1=\"31\" x2=\"41\" y2=\"70\" />\n",
       "  <line x1=\"45\" y1=\"35\" x2=\"45\" y2=\"73\" />\n",
       "  <line x1=\"48\" y1=\"38\" x2=\"48\" y2=\"77\" />\n",
       "  <line x1=\"52\" y1=\"42\" x2=\"52\" y2=\"80\" />\n",
       "  <line x1=\"55\" y1=\"45\" x2=\"55\" y2=\"84\" />\n",
       "  <line x1=\"59\" y1=\"49\" x2=\"59\" y2=\"88\" />\n",
       "  <line x1=\"62\" y1=\"52\" x2=\"62\" y2=\"91\" />\n",
       "  <line x1=\"66\" y1=\"56\" x2=\"66\" y2=\"95\" />\n",
       "  <line x1=\"70\" y1=\"60\" x2=\"70\" y2=\"98\" />\n",
       "  <line x1=\"73\" y1=\"63\" x2=\"73\" y2=\"102\" />\n",
       "  <line x1=\"77\" y1=\"67\" x2=\"77\" y2=\"105\" />\n",
       "  <line x1=\"80\" y1=\"70\" x2=\"80\" y2=\"109\" style=\"stroke-width:2\" />\n",
       "\n",
       "  <!-- Colored Rectangle -->\n",
       "  <polygon points=\"10.000000,0.000000 80.588235,70.588235 80.588235,109.185098 10.000000,38.596863\" style=\"fill:#ECB172A0;stroke-width:0\"/>\n",
       "\n",
       "  <!-- Horizontal lines -->\n",
       "  <line x1=\"10\" y1=\"0\" x2=\"47\" y2=\"0\" style=\"stroke-width:2\" />\n",
       "  <line x1=\"13\" y1=\"3\" x2=\"51\" y2=\"3\" />\n",
       "  <line x1=\"17\" y1=\"7\" x2=\"54\" y2=\"7\" />\n",
       "  <line x1=\"20\" y1=\"10\" x2=\"58\" y2=\"10\" />\n",
       "  <line x1=\"24\" y1=\"14\" x2=\"61\" y2=\"14\" />\n",
       "  <line x1=\"27\" y1=\"17\" x2=\"65\" y2=\"17\" />\n",
       "  <line x1=\"31\" y1=\"21\" x2=\"68\" y2=\"21\" />\n",
       "  <line x1=\"34\" y1=\"24\" x2=\"72\" y2=\"24\" />\n",
       "  <line x1=\"38\" y1=\"28\" x2=\"75\" y2=\"28\" />\n",
       "  <line x1=\"41\" y1=\"31\" x2=\"79\" y2=\"31\" />\n",
       "  <line x1=\"45\" y1=\"35\" x2=\"82\" y2=\"35\" />\n",
       "  <line x1=\"48\" y1=\"38\" x2=\"86\" y2=\"38\" />\n",
       "  <line x1=\"52\" y1=\"42\" x2=\"89\" y2=\"42\" />\n",
       "  <line x1=\"55\" y1=\"45\" x2=\"93\" y2=\"45\" />\n",
       "  <line x1=\"59\" y1=\"49\" x2=\"96\" y2=\"49\" />\n",
       "  <line x1=\"62\" y1=\"52\" x2=\"100\" y2=\"52\" />\n",
       "  <line x1=\"66\" y1=\"56\" x2=\"104\" y2=\"56\" />\n",
       "  <line x1=\"70\" y1=\"60\" x2=\"107\" y2=\"60\" />\n",
       "  <line x1=\"73\" y1=\"63\" x2=\"111\" y2=\"63\" />\n",
       "  <line x1=\"77\" y1=\"67\" x2=\"114\" y2=\"67\" />\n",
       "  <line x1=\"80\" y1=\"70\" x2=\"118\" y2=\"70\" style=\"stroke-width:2\" />\n",
       "\n",
       "  <!-- Vertical lines -->\n",
       "  <line x1=\"10\" y1=\"0\" x2=\"80\" y2=\"70\" style=\"stroke-width:2\" />\n",
       "  <line x1=\"28\" y1=\"0\" x2=\"99\" y2=\"70\" />\n",
       "  <line x1=\"47\" y1=\"0\" x2=\"118\" y2=\"70\" style=\"stroke-width:2\" />\n",
       "\n",
       "  <!-- Colored Rectangle -->\n",
       "  <polygon points=\"10.000000,0.000000 47.563587,0.000000 118.151822,70.588235 80.588235,70.588235\" style=\"fill:#ECB172A0;stroke-width:0\"/>\n",
       "\n",
       "  <!-- Horizontal lines -->\n",
       "  <line x1=\"80\" y1=\"70\" x2=\"118\" y2=\"70\" style=\"stroke-width:2\" />\n",
       "  <line x1=\"80\" y1=\"74\" x2=\"118\" y2=\"74\" />\n",
       "  <line x1=\"80\" y1=\"78\" x2=\"118\" y2=\"78\" />\n",
       "  <line x1=\"80\" y1=\"82\" x2=\"118\" y2=\"82\" />\n",
       "  <line x1=\"80\" y1=\"86\" x2=\"118\" y2=\"86\" />\n",
       "  <line x1=\"80\" y1=\"90\" x2=\"118\" y2=\"90\" />\n",
       "  <line x1=\"80\" y1=\"94\" x2=\"118\" y2=\"94\" />\n",
       "  <line x1=\"80\" y1=\"98\" x2=\"118\" y2=\"98\" />\n",
       "  <line x1=\"80\" y1=\"102\" x2=\"118\" y2=\"102\" />\n",
       "  <line x1=\"80\" y1=\"106\" x2=\"118\" y2=\"106\" />\n",
       "  <line x1=\"80\" y1=\"109\" x2=\"118\" y2=\"109\" style=\"stroke-width:2\" />\n",
       "\n",
       "  <!-- Vertical lines -->\n",
       "  <line x1=\"80\" y1=\"70\" x2=\"80\" y2=\"109\" style=\"stroke-width:2\" />\n",
       "  <line x1=\"99\" y1=\"70\" x2=\"99\" y2=\"109\" />\n",
       "  <line x1=\"118\" y1=\"70\" x2=\"118\" y2=\"109\" style=\"stroke-width:2\" />\n",
       "\n",
       "  <!-- Colored Rectangle -->\n",
       "  <polygon points=\"80.588235,70.588235 118.151822,70.588235 118.151822,109.185098 80.588235,109.185098\" style=\"fill:#ECB172A0;stroke-width:0\"/>\n",
       "\n",
       "  <!-- Text -->\n",
       "  <text x=\"99.370029\" y=\"129.185098\" font-size=\"1.0rem\" font-weight=\"100\" text-anchor=\"middle\" >200</text>\n",
       "  <text x=\"138.151822\" y=\"89.886667\" font-size=\"1.0rem\" font-weight=\"100\" text-anchor=\"middle\" transform=\"rotate(-90,138.151822,89.886667)\">240</text>\n",
       "  <text x=\"35.294118\" y=\"93.890981\" font-size=\"1.0rem\" font-weight=\"100\" text-anchor=\"middle\" transform=\"rotate(45,35.294118,93.890981)\">2400</text>\n",
       "</svg>\n",
       "</td>\n",
       "</tr>\n",
       "</table>"
      ],
      "text/plain": [
       "dask.array<sum-aggregate, shape=(2400, 240, 200), dtype=float64, chunksize=(120, 25, 100), chunktype=numpy.ndarray>"
      ]
     },
     "execution_count": 24,
     "metadata": {},
     "output_type": "execute_result"
    }
   ],
   "source": [
    "sum1"
   ]
  },
  {
   "cell_type": "code",
   "execution_count": 25,
   "metadata": {
    "collapsed": true
   },
   "outputs": [],
   "source": [
    "diatomsmuZInt=da.mean(sum1,0)"
   ]
  },
  {
   "cell_type": "code",
   "execution_count": 26,
   "metadata": {
    "collapsed": false
   },
   "outputs": [],
   "source": [
    "prod2=tmask*e3t*diatomsHC\n",
    "sum2=dask.array.sum(prod2,axis=1)\n",
    "diatomsHCInt=da.mean(sum2,0)"
   ]
  },
  {
   "cell_type": "code",
   "execution_count": 27,
   "metadata": {
    "collapsed": false
   },
   "outputs": [],
   "source": [
    "#diatomsmuZInt.visualize()"
   ]
  },
  {
   "cell_type": "code",
   "execution_count": 28,
   "metadata": {
    "collapsed": false
   },
   "outputs": [
    {
     "name": "stderr",
     "output_type": "stream",
     "text": [
      "distributed.comm.tcp - WARNING - Closing dangling stream in <TCP  local=tcp://127.0.0.1:42094 remote=tcp://127.0.0.1:40764>\n",
      "distributed.comm.tcp - WARNING - Closing dangling stream in <TCP  local=tcp://127.0.0.1:42096 remote=tcp://127.0.0.1:40764>\n",
      "distributed.comm.tcp - WARNING - Closing dangling stream in <TCP  local=tcp://127.0.0.1:42098 remote=tcp://127.0.0.1:40764>\n",
      "distributed.comm.tcp - WARNING - Closing dangling stream in <TCP  local=tcp://127.0.0.1:42100 remote=tcp://127.0.0.1:40764>\n",
      "distributed.comm.tcp - WARNING - Closing dangling stream in <TCP  local=tcp://127.0.0.1:42104 remote=tcp://127.0.0.1:40764>\n",
      "distributed.comm.tcp - WARNING - Closing dangling stream in <TCP  local=tcp://127.0.0.1:42106 remote=tcp://127.0.0.1:40764>\n",
      "distributed.nanny - WARNING - Worker exceeded 95% memory budget. Restarting\n",
      "distributed.nanny - WARNING - Restarting worker\n"
     ]
    },
    {
     "name": "stdout",
     "output_type": "stream",
     "text": [
      "0:31:00.990089\n"
     ]
    }
   ],
   "source": [
    "t0=dt.datetime.now()\n",
    "diatomsmuZInt=diatomsmuZInt.compute()\n",
    "t1=dt.datetime.now()\n",
    "print(t1-t0)"
   ]
  },
  {
   "cell_type": "code",
   "execution_count": 29,
   "metadata": {
    "collapsed": false
   },
   "outputs": [
    {
     "name": "stdout",
     "output_type": "stream",
     "text": [
      "0:10:00.563373\n"
     ]
    }
   ],
   "source": [
    "t0=dt.datetime.now()\n",
    "diatomsHCInt=diatomsHCInt.compute()\n",
    "t1=dt.datetime.now()\n",
    "print(t1-t0)"
   ]
  },
  {
   "cell_type": "code",
   "execution_count": 30,
   "metadata": {
    "collapsed": false,
    "scrolled": true
   },
   "outputs": [
    {
     "name": "stdout",
     "output_type": "stream",
     "text": [
      "0:00:00.330451\n"
     ]
    },
    {
     "data": {
      "image/png": "[encoded data removed]",
      "text/plain": [
       "<Figure size 1080x288 with 6 Axes>"
      ]
     },
     "metadata": {
      "needs_background": "light"
     },
     "output_type": "display_data"
    }
   ],
   "source": [
    "t0=dt.datetime.now()\n",
    "fig,ax=plt.subplots(1,3,figsize=(15,4))\n",
    "m0=ax[0].pcolormesh(diatomsmuZInt)\n",
    "plt.colorbar(m0,ax=ax[0])\n",
    "ax[0].set_title('muZ Diatoms')\n",
    "m1=ax[1].pcolormesh(diatomsHCInt)\n",
    "plt.colorbar(m1,ax=ax[1])\n",
    "ax[1].set_title('HC Diatoms')\n",
    "m2=ax[2].pcolormesh(diatomsmuZInt-diatomsHCInt)\n",
    "plt.colorbar(m2,ax=ax[2])\n",
    "ax[2].set_title('Diff')\n",
    "t1=dt.datetime.now()\n",
    "print(t1-t0)"
   ]
  },
  {
   "cell_type": "code",
   "execution_count": null,
   "metadata": {
    "collapsed": true
   },
   "outputs": [],
   "source": []
  }
 ],
 "metadata": {
  "anaconda-cloud": {},
  "kernelspec": {
   "display_name": "Python [conda env:py37]",
   "language": "python",
   "name": "conda-env-py37-py"
  },
  "language_info": {
   "codemirror_mode": {
    "name": "ipython",
    "version": 3
   },
   "file_extension": ".py",
   "mimetype": "text/x-python",
   "name": "python",
   "nbconvert_exporter": "python",
   "pygments_lexer": "ipython3",
   "version": "3.7.3"
  }
 },
 "nbformat": 4,
 "nbformat_minor": 1
}
