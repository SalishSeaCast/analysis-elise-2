{
 "cells": [
  {
   "cell_type": "code",
   "execution_count": 1,
   "metadata": {},
   "outputs": [],
   "source": [
    "import netCDF4 as nc\n",
    "from matplotlib import pyplot as plt\n",
    "import numpy as np\n",
    "import glob\n",
    "import pickle\n",
    "from salishsea_tools import evaltools as et\n",
    "import datetime as dt\n",
    "import os\n",
    "import re\n",
    "import cmocean\n",
    "%matplotlib inline"
   ]
  },
  {
   "cell_type": "code",
   "execution_count": 2,
   "metadata": {},
   "outputs": [],
   "source": [
    "with nc.Dataset('/ocean/eolson/MEOPAR/NEMO-forcing/grid/mesh_mask201702_noLPE.nc') as mesh:\n",
    "    tmask=mesh.variables['tmask'][0,:,:,:]\n",
    "    e1t=np.expand_dims(mesh.variables['e1t'][:,:,:],1)\n",
    "    e2t=np.expand_dims(mesh.variables['e2t'][:,:,:],1)\n",
    "SOGtmaskPath='/ocean/eolson/MEOPAR/northernNO3PaperCalcs/save/SOGtmask.pkl'\n",
    "(tmaskSOG,_,_,_,_)=pickle.load(open(SOGtmaskPath,'rb'))"
   ]
  },
  {
   "cell_type": "code",
   "execution_count": 3,
   "metadata": {},
   "outputs": [],
   "source": [
    "idir='/data/eolson/results/MEOPAR/SS36runs/CedarRuns/shortTestTRD/'"
   ]
  },
  {
   "cell_type": "code",
   "execution_count": 4,
   "metadata": {},
   "outputs": [],
   "source": [
    "fP=nc.Dataset(glob.glob(idir+'/SalishSea_1d_*_dian_T*.nc')[0])"
   ]
  },
  {
   "cell_type": "code",
   "execution_count": 5,
   "metadata": {},
   "outputs": [
    {
     "data": {
      "text/plain": [
       "dict_keys(['nav_lat', 'nav_lon', 'bounds_nav_lon', 'bounds_nav_lat', 'area', 'deptht', 'deptht_bounds', 'time_centered', 'time_centered_bounds', 'time_counter', 'time_counter_bounds', 'NITR', 'NO3RAD', 'ATF_NO3', 'SMS_NO3', 'RDB_NO3', 'RDN_NO3', 'REM_PON', 'REM_DON', 'REM_NO3', 'REM_bSi'])"
      ]
     },
     "execution_count": 5,
     "metadata": {},
     "output_type": "execute_result"
    }
   ],
   "source": [
    "fP.variables.keys()"
   ]
  },
  {
   "cell_type": "code",
   "execution_count": 6,
   "metadata": {},
   "outputs": [
    {
     "data": {
      "text/plain": [
       "<class 'netCDF4._netCDF4.Variable'>\n",
       "float32 REM_DON(time_counter, deptht, y, x)\n",
       "    long_name: ---\n",
       "    units: ---\n",
       "    online_operation: average\n",
       "    interval_operation: 40 s\n",
       "    interval_write: 1 d\n",
       "    cell_methods: time: mean (interval: 40 s)\n",
       "    cell_measures: area: area\n",
       "    _FillValue: 1e+20\n",
       "    missing_value: 1e+20\n",
       "    coordinates: time_centered nav_lat nav_lon\n",
       "unlimited dimensions: time_counter\n",
       "current shape = (5, 40, 898, 398)\n",
       "filling on"
      ]
     },
     "execution_count": 6,
     "metadata": {},
     "output_type": "execute_result"
    }
   ],
   "source": [
    "fP.variables['REM_DON']"
   ]
  },
  {
   "cell_type": "code",
   "execution_count": 7,
   "metadata": {},
   "outputs": [
    {
     "data": {
      "text/plain": [
       "(9.366569, -23.560404)"
      ]
     },
     "execution_count": 7,
     "metadata": {},
     "output_type": "execute_result"
    }
   ],
   "source": [
    "np.max(np.ma.masked_where(tmask==0,fP.variables['SMS_NO3'][0,:,:,:])),np.min(np.ma.masked_where(tmask==0,fP.variables['SMS_NO3'][0,:,:,:]))"
   ]
  },
  {
   "cell_type": "code",
   "execution_count": 8,
   "metadata": {},
   "outputs": [
    {
     "data": {
      "text/plain": [
       "(1.4866695, -2.6189249)"
      ]
     },
     "execution_count": 8,
     "metadata": {},
     "output_type": "execute_result"
    }
   ],
   "source": [
    "np.max(np.ma.masked_where(tmask==0,fP.variables['ATF_NO3'][0,:,:,:])),np.min(np.ma.masked_where(tmask==0,fP.variables['ATF_NO3'][0,:,:,:]))"
   ]
  },
  {
   "cell_type": "raw",
   "metadata": {},
   "source": [
    "np.max(np.ma.masked_where(tmask[0,:,:]==0,fP.variables['ATF_NO3'][0,0,:,:]/fP.variables['AFILTNO3'][0,0,:,:])),np.min(np.ma.masked_where(tmask[0,:,:]==0,fP.variables['ATF_NO3'][0,0,:,:]/fP.variables['AFILTNO3'][0,0,:,:]))"
   ]
  },
  {
   "cell_type": "code",
   "execution_count": 9,
   "metadata": {},
   "outputs": [
    {
     "data": {
      "text/plain": [
       "(0.0, 0.0)"
      ]
     },
     "execution_count": 9,
     "metadata": {},
     "output_type": "execute_result"
    }
   ],
   "source": [
    "np.max(np.ma.masked_where(tmask==0,fP.variables['RDB_NO3'][0,:,:,:])),np.min(np.ma.masked_where(tmask==0,fP.variables['RDB_NO3'][0,:,:,:]))"
   ]
  },
  {
   "cell_type": "code",
   "execution_count": 10,
   "metadata": {},
   "outputs": [
    {
     "data": {
      "text/plain": [
       "(0.0, 0.0)"
      ]
     },
     "execution_count": 10,
     "metadata": {},
     "output_type": "execute_result"
    }
   ],
   "source": [
    "np.max(np.ma.masked_where(tmask==0,fP.variables['RDN_NO3'][0,:,:,:])),np.min(np.ma.masked_where(tmask==0,fP.variables['RDN_NO3'][0,:,:,:]))"
   ]
  },
  {
   "cell_type": "code",
   "execution_count": 11,
   "metadata": {},
   "outputs": [
    {
     "data": {
      "text/plain": [
       "(0.0, 0.0)"
      ]
     },
     "execution_count": 11,
     "metadata": {},
     "output_type": "execute_result"
    }
   ],
   "source": [
    "np.max(np.ma.masked_where(tmask==0,fP.variables['NO3RAD'][0,:,:,:])),np.min(np.ma.masked_where(tmask==0,fP.variables['NO3RAD'][0,:,:,:]))"
   ]
  },
  {
   "cell_type": "code",
   "execution_count": 12,
   "metadata": {},
   "outputs": [
    {
     "data": {
      "text/plain": [
       "(-0.0, -9.764514)"
      ]
     },
     "execution_count": 12,
     "metadata": {},
     "output_type": "execute_result"
    }
   ],
   "source": [
    "np.max(np.ma.masked_where(tmask==0,fP.variables['REM_DON'][0,:,:,:])),np.min(np.ma.masked_where(tmask==0,fP.variables['REM_DON'][0,:,:,:]))"
   ]
  },
  {
   "cell_type": "code",
   "execution_count": 13,
   "metadata": {},
   "outputs": [
    {
     "data": {
      "text/plain": [
       "(-0.0, -44.278637)"
      ]
     },
     "execution_count": 13,
     "metadata": {},
     "output_type": "execute_result"
    }
   ],
   "source": [
    "np.max(np.ma.masked_where(tmask==0,fP.variables['REM_bSi'][0,:,:,:])),np.min(np.ma.masked_where(tmask==0,fP.variables['REM_bSi'][0,:,:,:]))"
   ]
  },
  {
   "cell_type": "code",
   "execution_count": 14,
   "metadata": {},
   "outputs": [
    {
     "data": {
      "text/plain": [
       "(-0.0, -5.797069)"
      ]
     },
     "execution_count": 14,
     "metadata": {},
     "output_type": "execute_result"
    }
   ],
   "source": [
    "np.max(np.ma.masked_where(tmask==0,fP.variables['REM_PON'][0,:,:,:])),np.min(np.ma.masked_where(tmask==0,fP.variables['REM_PON'][0,:,:,:]))"
   ]
  },
  {
   "cell_type": "code",
   "execution_count": 15,
   "metadata": {},
   "outputs": [
    {
     "data": {
      "text/plain": [
       "(9.366569, -23.560404)"
      ]
     },
     "execution_count": 15,
     "metadata": {},
     "output_type": "execute_result"
    }
   ],
   "source": [
    "np.max(np.ma.masked_where(tmask==0,fP.variables['SMS_NO3'][0,:,:,:])),np.min(np.ma.masked_where(tmask==0,fP.variables['SMS_NO3'][0,:,:,:]))"
   ]
  },
  {
   "cell_type": "code",
   "execution_count": 16,
   "metadata": {},
   "outputs": [
    {
     "data": {
      "text/plain": [
       "(0.0, 0.0)"
      ]
     },
     "execution_count": 16,
     "metadata": {},
     "output_type": "execute_result"
    }
   ],
   "source": [
    "np.max(fP.variables['NITR'][0,0,:,:]-fP.variables['REM_NO3'][0,0,:,:]),np.min(fP.variables['NITR'][0,0,:,:]-fP.variables['REM_NO3'][0,0,:,:])"
   ]
  },
  {
   "cell_type": "code",
   "execution_count": 17,
   "metadata": {},
   "outputs": [
    {
     "data": {
      "text/plain": [
       "<matplotlib.colorbar.Colorbar at 0x7f3aad5dc3a0>"
      ]
     },
     "execution_count": 17,
     "metadata": {},
     "output_type": "execute_result"
    },
    {
     "data": {
      "image/png": "[encoded data removed]",
      "text/plain": [
       "<Figure size 576x216 with 6 Axes>"
      ]
     },
     "metadata": {
      "needs_background": "light"
     },
     "output_type": "display_data"
    }
   ],
   "source": [
    "fig,ax=plt.subplots(1,3,figsize=(8,3))\n",
    "m0=ax[0].pcolormesh(fP.variables['NITR'][0,0,:,:])\n",
    "plt.colorbar(m0,ax=ax[0])\n",
    "m1=ax[1].pcolormesh(fP.variables['REM_NO3'][0,0,:,:])\n",
    "plt.colorbar(m1,ax=ax[1])\n",
    "m2=ax[2].pcolormesh(fP.variables['NITR'][0,0,:,:]-fP.variables['REM_NO3'][0,0,:,:],cmap=cmocean.cm.balance)\n",
    "plt.colorbar(m2,ax=ax[2])"
   ]
  },
  {
   "cell_type": "raw",
   "metadata": {},
   "source": [
    "fig,ax=plt.subplots(1,3,figsize=(8,3))\n",
    "m0=ax[0].pcolormesh(fP.variables['BIOTRNO3'][0,0,:,:])\n",
    "plt.colorbar(m0,ax=ax[0])\n",
    "m1=ax[1].pcolormesh(fP.variables['SMS_NO3'][0,0,:,:])\n",
    "plt.colorbar(m1,ax=ax[1])\n",
    "m2=ax[2].pcolormesh(fP.variables['BIOTRNO3'][0,0,:,:]-fP.variables['SMS_NO3'][0,0,:,:],cmap=cmocean.cm.balance)\n",
    "plt.colorbar(m2,ax=ax[2])"
   ]
  },
  {
   "cell_type": "code",
   "execution_count": null,
   "metadata": {},
   "outputs": [],
   "source": []
  },
  {
   "cell_type": "code",
   "execution_count": null,
   "metadata": {},
   "outputs": [],
   "source": []
  },
  {
   "cell_type": "code",
   "execution_count": 6,
   "metadata": {},
   "outputs": [
    {
     "data": {
      "text/plain": [
       "dict_keys(['nav_lat', 'nav_lon', 'bounds_nav_lon', 'bounds_nav_lat', 'area', 'depthv', 'depthv_bounds', 'time_centered', 'time_centered_bounds', 'time_counter', 'time_counter_bounds', 'NO3TVDY', 'ATY_NO3', 'ATY_PHY', 'DTY_NO3', 'DTY_PHY', 'LDF_NO3', 'VLDFNO3'])"
      ]
     },
     "execution_count": 6,
     "metadata": {},
     "output_type": "execute_result"
    }
   ],
   "source": [
    "fS=nc.Dataset(glob.glob(idir+'/SalishSea_1d_*_Sutil_V*.nc')[0])\n",
    "fS.variables.keys()"
   ]
  },
  {
   "cell_type": "code",
   "execution_count": 18,
   "metadata": {},
   "outputs": [
    {
     "data": {
      "text/plain": [
       "dict_keys(['nav_lat', 'nav_lon', 'bounds_nav_lon', 'bounds_nav_lat', 'area', 'depthv', 'depthv_bounds', 'time_centered', 'time_centered_bounds', 'time_counter', 'time_counter_bounds', 'NO3TVDY', 'ATY_NO3', 'LDF_NO3', 'VLDFNO3'])"
      ]
     },
     "execution_count": 18,
     "metadata": {},
     "output_type": "execute_result"
    }
   ],
   "source": [
    "fS=nc.Dataset(glob.glob(idir+'/SalishSea_1d_*_Sutil_V*.nc')[0])\n",
    "fS.variables.keys()"
   ]
  },
  {
   "cell_type": "code",
   "execution_count": 8,
   "metadata": {},
   "outputs": [
    {
     "data": {
      "text/plain": [
       "(11.247603, -16.783497)"
      ]
     },
     "execution_count": 8,
     "metadata": {},
     "output_type": "execute_result"
    }
   ],
   "source": [
    "np.max(fS.variables['LDF_NO3'][0,:,:,:]),np.min(fS.variables['LDF_NO3'][0,:,:,:])"
   ]
  },
  {
   "cell_type": "code",
   "execution_count": null,
   "metadata": {},
   "outputs": [],
   "source": []
  },
  {
   "cell_type": "code",
   "execution_count": 19,
   "metadata": {},
   "outputs": [
    {
     "data": {
      "text/plain": [
       "<class 'netCDF4._netCDF4.Variable'>\n",
       "float32 ATY_NO3(time_counter, depthv, y, x)\n",
       "    long_name: ---\n",
       "    units: ---\n",
       "    online_operation: average\n",
       "    interval_operation: 40 s\n",
       "    interval_write: 1 d\n",
       "    cell_methods: time: mean (interval: 40 s)\n",
       "    cell_measures: area: area\n",
       "    _FillValue: 1e+20\n",
       "    missing_value: 1e+20\n",
       "    coordinates: time_centered nav_lat nav_lon\n",
       "unlimited dimensions: time_counter\n",
       "current shape = (5, 40, 1, 26)\n",
       "filling on"
      ]
     },
     "execution_count": 19,
     "metadata": {},
     "output_type": "execute_result"
    }
   ],
   "source": [
    "fS.variables['ATY_NO3']"
   ]
  },
  {
   "cell_type": "code",
   "execution_count": 20,
   "metadata": {},
   "outputs": [
    {
     "data": {
      "text/plain": [
       "<matplotlib.colorbar.Colorbar at 0x7f3aad415670>"
      ]
     },
     "execution_count": 20,
     "metadata": {},
     "output_type": "execute_result"
    },
    {
     "data": {
      "image/png": "[encoded data removed]",
      "text/plain": [
       "<Figure size 576x216 with 6 Axes>"
      ]
     },
     "metadata": {
      "needs_background": "light"
     },
     "output_type": "display_data"
    }
   ],
   "source": [
    "fig,ax=plt.subplots(1,3,figsize=(8,3))\n",
    "m0=ax[0].pcolormesh(fS.variables['NO3TVDY'][0,:,0,:])\n",
    "plt.colorbar(m0,ax=ax[0])\n",
    "m1=ax[1].pcolormesh(fS.variables['ATY_NO3'][0,:,0,:])\n",
    "plt.colorbar(m1,ax=ax[1])\n",
    "m2=ax[2].pcolormesh(fS.variables['NO3TVDY'][0,:,0,:]-fS.variables['ATY_NO3'][0,:,0,:],cmap=cmocean.cm.balance)\n",
    "plt.colorbar(m2,ax=ax[2])"
   ]
  },
  {
   "cell_type": "code",
   "execution_count": 20,
   "metadata": {},
   "outputs": [
    {
     "data": {
      "text/plain": [
       "<matplotlib.colorbar.Colorbar at 0x7f3aad415670>"
      ]
     },
     "execution_count": 20,
     "metadata": {},
     "output_type": "execute_result"
    },
    {
     "data": {
      "image/png": "[encoded data removed]",
      "text/plain": [
       "<Figure size 576x216 with 6 Axes>"
      ]
     },
     "metadata": {
      "needs_background": "light"
     },
     "output_type": "display_data"
    }
   ],
   "source": [
    "fig,ax=plt.subplots(1,3,figsize=(8,3))\n",
    "m0=ax[0].pcolormesh(fS.variables['NO3TVDY'][0,:,0,:])\n",
    "plt.colorbar(m0,ax=ax[0])\n",
    "m1=ax[1].pcolormesh(fS.variables['ATY_NO3'][0,:,0,:])\n",
    "plt.colorbar(m1,ax=ax[1])\n",
    "m2=ax[2].pcolormesh(fS.variables['NO3TVDY'][0,:,0,:]-fS.variables['ATY_NO3'][0,:,0,:],cmap=cmocean.cm.balance)\n",
    "plt.colorbar(m2,ax=ax[2])"
   ]
  },
  {
   "cell_type": "code",
   "execution_count": null,
   "metadata": {},
   "outputs": [],
   "source": []
  }
 ],
 "metadata": {
  "kernelspec": {
   "display_name": "Python (py38)",
   "language": "python",
   "name": "py38"
  },
  "language_info": {
   "codemirror_mode": {
    "name": "ipython",
    "version": 3
   },
   "file_extension": ".py",
   "mimetype": "text/x-python",
   "name": "python",
   "nbconvert_exporter": "python",
   "pygments_lexer": "ipython3",
   "version": "3.8.1"
  }
 },
 "nbformat": 4,
 "nbformat_minor": 2
}
