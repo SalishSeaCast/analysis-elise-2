{
 "cells": [
  {
   "cell_type": "code",
   "execution_count": 1,
   "metadata": {},
   "outputs": [],
   "source": [
    "import datetime as dt\n",
    "import numpy as np\n",
    "import netCDF4 as nc\n",
    "import pandas as pd\n",
    "import glob\n",
    "from salishsea_tools import geo_tools\n",
    "import gsw\n",
    "import os\n",
    "import pytz\n",
    "import matplotlib.pyplot as plt\n",
    "import cmocean as cmo\n",
    "import warnings\n",
    "from sqlalchemy import create_engine, case, MetaData\n",
    "from sqlalchemy.orm import create_session, aliased\n",
    "from sqlalchemy.ext.automap import automap_base\n",
    "from sqlalchemy.sql import and_, or_, not_, func\n",
    "from salishsea_tools import viz_tools\n",
    "\n",
    "%matplotlib inline"
   ]
  },
  {
   "cell_type": "code",
   "execution_count": 2,
   "metadata": {},
   "outputs": [],
   "source": [
    "basedir='/ocean/shared/SalishSeaCastData/DFO/CTD/'\n",
    "dbname='DFO_CTD.sqlite.0'\n",
    "datelims=()"
   ]
  },
  {
   "cell_type": "code",
   "execution_count": 3,
   "metadata": {},
   "outputs": [],
   "source": [
    "engine = create_engine('sqlite:///' + basedir + dbname, echo = False)"
   ]
  },
  {
   "cell_type": "raw",
   "metadata": {
    "collapsed": true
   },
   "source": [
    "connection = engine.connect()"
   ]
  },
  {
   "cell_type": "raw",
   "metadata": {
    "collapsed": true
   },
   "source": [
    "def Sal_PSU_to_SA(S,press,lon,lat):\n",
    "    SA=gsw.SA_from_SP(S,press,lon,lat)\n",
    "    if SA>=40:\n",
    "        print('Err: SA=',SA,', None entered')\n",
    "        SA=None\n",
    "    elif SA<0:\n",
    "        SA=None\n",
    "        print('Err: SA=',SA,', None entered')\n",
    "    return(SA)\n",
    "\n",
    "def T_to_CT(SA,T,press):\n",
    "    CT=gsw.CT_from_t(SA,T,press)\n",
    "    if CT>=40:\n",
    "        print('Err: CT=',CT,', None entered')\n",
    "        CT=None\n",
    "    elif CT<-5:\n",
    "        CT=None\n",
    "        print('Err: CT=',CT,', None entered')\n",
    "    return(CT)\n",
    "\n",
    "def p_to_Z(press,lat):\n",
    "    Z=-1.0*gsw.z_from_p(press,lat)\n",
    "    return(Z)"
   ]
  },
  {
   "cell_type": "raw",
   "metadata": {
    "collapsed": true
   },
   "source": [
    "    connection.connection.create_function(\"Sal_PSU_to_SA_DB\",4,Sal_PSU_to_SA)\n",
    "    connection.connection.create_function(\"T_to_CT_DB\",3,T_to_CT)\n",
    "    connection.connection.create_function(\"p_to_Z_DB\",2,p_to_Z)"
   ]
  },
  {
   "cell_type": "raw",
   "metadata": {},
   "source": [
    "connection.execute(\"\"\"UPDATE CalcsTBL SET \n",
    "                        Temperature_CT = T_to_CT_DB(CalcsTBL.Salinity_SA,ObsTBL.Temperature,ObsTBL.Pressure), \n",
    "                        Temperature_Primary_CT = T_to_CT_DB(CalcsTBL.Salinity_T0_C0_SA,ObsTBL.Temperature,ObsTBL.Pressure), \n",
    "                        Temperature_Secondary_CT = T_to_CT_DB(CalcsTBL.Salinity_T1_C1_SA,ObsTBL.Temperature,ObsTBL.Pressure),\n",
    "                        FROM ((CalcsTBL INNER JOIN ObsTBL ON CalcsTBL.ObsID = ObsTBL.ID) INNER JOIN StationTBL ON CalcsTBL.StationID = StationTBL.ID)\"\"\")"
   ]
  },
  {
   "cell_type": "raw",
   "metadata": {
    "collapsed": true
   },
   "source": [
    "test=connection.execute(\"\"\"SELECT T_to_CT_DB( CASE WHEN CalcsTBL.Salinity_T1_C1_SA IS NOT NULL THEN CalcsTBL.Salinity_T1_C1_SA\n",
    "                                 WHEN CalcsTBL.Salinity_T0_C0_SA IS NOT NULL THEN CalcsTBL.Salinity_T0_C0_SA\n",
    "                                 WHEN CalcsTBL.Salinity_SA IS NOT NULL THEN CalcsTBL.Salinity_SA\n",
    "                                 ELSE NULL END,ObsTBL.Temperature,ObsTBL.Pressure) as T1, \n",
    "                        T_to_CT_DB( CASE WHEN CalcsTBL.Salinity_T1_C1_SA IS NOT NULL THEN CalcsTBL.Salinity_T1_C1_SA\n",
    "                                 WHEN CalcsTBL.Salinity_T0_C0_SA IS NOT NULL THEN CalcsTBL.Salinity_T0_C0_SA\n",
    "                                 WHEN CalcsTBL.Salinity_SA IS NOT NULL THEN CalcsTBL.Salinity_SA\n",
    "                                 ELSE NULL END,ObsTBL.Temperature,ObsTBL.Pressure) as T2, \n",
    "                        T_to_CT_DB( CASE WHEN CalcsTBL.Salinity_T1_C1_SA IS NOT NULL THEN CalcsTBL.Salinity_T1_C1_SA\n",
    "                                 WHEN CalcsTBL.Salinity_T0_C0_SA IS NOT NULL THEN CalcsTBL.Salinity_T0_C0_SA\n",
    "                                 WHEN CalcsTBL.Salinity_SA IS NOT NULL THEN CalcsTBL.Salinity_SA\n",
    "                                 ELSE NULL END,ObsTBL.Temperature,ObsTBL.Pressure) as T3\n",
    "                        FROM CalcsTBL INNER JOIN ObsTBL ON CalcsTBL.ObsID = ObsTBL.ID INNER JOIN StationTBL ON CalcsTBL.StationID = StationTBL.ID;\"\"\")\n"
   ]
  },
  {
   "cell_type": "raw",
   "metadata": {},
   "source": [
    "ii=0\n",
    "for row in test:\n",
    "    ii=ii+1\n",
    "    if (ii>100)&(ii<120):\n",
    "        print(row)"
   ]
  },
  {
   "cell_type": "code",
   "execution_count": 4,
   "metadata": {},
   "outputs": [],
   "source": [
    "grid = nc.Dataset('/data/eolson/MEOPAR/NEMO-forcing-new/grid/bathymetry_201702.nc')"
   ]
  },
  {
   "cell_type": "code",
   "execution_count": 7,
   "metadata": {},
   "outputs": [],
   "source": [
    "md=MetaData()\n",
    "md.reflect(engine)\n",
    "Base = automap_base(metadata=md)\n",
    "# reflect the tables in salish.sqlite:\n",
    "Base.prepare()\n",
    "# mapped classes have been created\n",
    "# existing tables:\n",
    "StationTBL=Base.classes.StationTBL\n",
    "ObsTBL=Base.classes.ObsTBL\n",
    "CalcsTBL=Base.classes.CalcsTBL\n",
    "#AncTBL=Base.classes.AncillaryTBL\n",
    "#JDFLocsTBL=Base.classes.JDFLocsTBL\n",
    "session = create_session(bind = engine, autocommit = False, autoflush = True)"
   ]
  },
  {
   "cell_type": "code",
   "execution_count": 8,
   "metadata": {},
   "outputs": [],
   "source": [
    "qry=session.query(ObsTBL.Depth,CalcsTBL.Z,ObsTBL.Salinity,ObsTBL.Salinity_T0_C0,ObsTBL.Salinity_T1_C1,CalcsTBL.Salinity_SA,CalcsTBL.Salinity_T0_C0_SA,CalcsTBL.Salinity_T1_C1_SA,\n",
    "                  CalcsTBL.Temperature_CT,CalcsTBL.Temperature_Primary_CT,CalcsTBL.Temperature_Secondary_CT).\\\n",
    "    select_from(CalcsTBL).join(ObsTBL,ObsTBL.ID==CalcsTBL.ObsTBLID).filter(ObsTBL.Depth==ObsTBL.Depth).all()"
   ]
  },
  {
   "cell_type": "code",
   "execution_count": 9,
   "metadata": {},
   "outputs": [],
   "source": [
    "df=pd.DataFrame(qry)"
   ]
  },
  {
   "cell_type": "code",
   "execution_count": 10,
   "metadata": {},
   "outputs": [
    {
     "data": {
      "text/html": [
       "<div>\n",
       "<style scoped>\n",
       "    .dataframe tbody tr th:only-of-type {\n",
       "        vertical-align: middle;\n",
       "    }\n",
       "\n",
       "    .dataframe tbody tr th {\n",
       "        vertical-align: top;\n",
       "    }\n",
       "\n",
       "    .dataframe thead th {\n",
       "        text-align: right;\n",
       "    }\n",
       "</style>\n",
       "<table border=\"1\" class=\"dataframe\">\n",
       "  <thead>\n",
       "    <tr style=\"text-align: right;\">\n",
       "      <th></th>\n",
       "      <th>Depth</th>\n",
       "      <th>Z</th>\n",
       "      <th>Salinity</th>\n",
       "      <th>Salinity_T0_C0</th>\n",
       "      <th>Salinity_T1_C1</th>\n",
       "      <th>Salinity_SA</th>\n",
       "      <th>Salinity_T0_C0_SA</th>\n",
       "      <th>Salinity_T1_C1_SA</th>\n",
       "      <th>Temperature_CT</th>\n",
       "      <th>Temperature_Primary_CT</th>\n",
       "      <th>Temperature_Secondary_CT</th>\n",
       "    </tr>\n",
       "  </thead>\n",
       "  <tbody>\n",
       "    <tr>\n",
       "      <th>count</th>\n",
       "      <td>625792.000000</td>\n",
       "      <td>625792.000000</td>\n",
       "      <td>31937.000000</td>\n",
       "      <td>436408.000000</td>\n",
       "      <td>156759.000000</td>\n",
       "      <td>31937.000000</td>\n",
       "      <td>436408.000000</td>\n",
       "      <td>156759.000000</td>\n",
       "      <td>31937.000000</td>\n",
       "      <td>436407.000000</td>\n",
       "      <td>156759.000000</td>\n",
       "    </tr>\n",
       "    <tr>\n",
       "      <th>mean</th>\n",
       "      <td>458.971048</td>\n",
       "      <td>458.936493</td>\n",
       "      <td>20.731693</td>\n",
       "      <td>31.987268</td>\n",
       "      <td>32.920598</td>\n",
       "      <td>20.831751</td>\n",
       "      <td>32.147733</td>\n",
       "      <td>33.087825</td>\n",
       "      <td>10.267989</td>\n",
       "      <td>7.365447</td>\n",
       "      <td>6.086058</td>\n",
       "    </tr>\n",
       "    <tr>\n",
       "      <th>std</th>\n",
       "      <td>561.847770</td>\n",
       "      <td>561.867709</td>\n",
       "      <td>10.530876</td>\n",
       "      <td>2.173482</td>\n",
       "      <td>1.966719</td>\n",
       "      <td>10.581674</td>\n",
       "      <td>2.189527</td>\n",
       "      <td>1.981861</td>\n",
       "      <td>2.544349</td>\n",
       "      <td>3.073711</td>\n",
       "      <td>2.848735</td>\n",
       "    </tr>\n",
       "    <tr>\n",
       "      <th>min</th>\n",
       "      <td>0.100000</td>\n",
       "      <td>0.099145</td>\n",
       "      <td>0.030000</td>\n",
       "      <td>3.692200</td>\n",
       "      <td>12.503000</td>\n",
       "      <td>0.030145</td>\n",
       "      <td>3.710085</td>\n",
       "      <td>12.563543</td>\n",
       "      <td>2.341295</td>\n",
       "      <td>1.414291</td>\n",
       "      <td>1.412261</td>\n",
       "    </tr>\n",
       "    <tr>\n",
       "      <th>25%</th>\n",
       "      <td>70.200000</td>\n",
       "      <td>70.185336</td>\n",
       "      <td>19.870000</td>\n",
       "      <td>30.378700</td>\n",
       "      <td>31.081050</td>\n",
       "      <td>19.966238</td>\n",
       "      <td>30.526748</td>\n",
       "      <td>31.235731</td>\n",
       "      <td>7.756828</td>\n",
       "      <td>4.388278</td>\n",
       "      <td>3.483690</td>\n",
       "    </tr>\n",
       "    <tr>\n",
       "      <th>50%</th>\n",
       "      <td>204.100000</td>\n",
       "      <td>204.046142</td>\n",
       "      <td>26.320000</td>\n",
       "      <td>31.373950</td>\n",
       "      <td>33.986900</td>\n",
       "      <td>26.447329</td>\n",
       "      <td>31.529313</td>\n",
       "      <td>34.156197</td>\n",
       "      <td>10.451759</td>\n",
       "      <td>8.579043</td>\n",
       "      <td>5.807047</td>\n",
       "    </tr>\n",
       "    <tr>\n",
       "      <th>75%</th>\n",
       "      <td>685.000000</td>\n",
       "      <td>685.033546</td>\n",
       "      <td>27.630000</td>\n",
       "      <td>34.161900</td>\n",
       "      <td>34.363000</td>\n",
       "      <td>27.762706</td>\n",
       "      <td>34.338418</td>\n",
       "      <td>34.544961</td>\n",
       "      <td>11.683578</td>\n",
       "      <td>9.599887</td>\n",
       "      <td>8.713736</td>\n",
       "    </tr>\n",
       "    <tr>\n",
       "      <th>max</th>\n",
       "      <td>3224.700000</td>\n",
       "      <td>3224.797861</td>\n",
       "      <td>31.490000</td>\n",
       "      <td>34.649300</td>\n",
       "      <td>34.649100</td>\n",
       "      <td>31.642130</td>\n",
       "      <td>34.838263</td>\n",
       "      <td>34.838142</td>\n",
       "      <td>22.364380</td>\n",
       "      <td>20.877578</td>\n",
       "      <td>19.108750</td>\n",
       "    </tr>\n",
       "  </tbody>\n",
       "</table>\n",
       "</div>"
      ],
      "text/plain": [
       "               Depth              Z      Salinity  Salinity_T0_C0  \\\n",
       "count  625792.000000  625792.000000  31937.000000   436408.000000   \n",
       "mean      458.971048     458.936493     20.731693       31.987268   \n",
       "std       561.847770     561.867709     10.530876        2.173482   \n",
       "min         0.100000       0.099145      0.030000        3.692200   \n",
       "25%        70.200000      70.185336     19.870000       30.378700   \n",
       "50%       204.100000     204.046142     26.320000       31.373950   \n",
       "75%       685.000000     685.033546     27.630000       34.161900   \n",
       "max      3224.700000    3224.797861     31.490000       34.649300   \n",
       "\n",
       "       Salinity_T1_C1   Salinity_SA  Salinity_T0_C0_SA  Salinity_T1_C1_SA  \\\n",
       "count   156759.000000  31937.000000      436408.000000      156759.000000   \n",
       "mean        32.920598     20.831751          32.147733          33.087825   \n",
       "std          1.966719     10.581674           2.189527           1.981861   \n",
       "min         12.503000      0.030145           3.710085          12.563543   \n",
       "25%         31.081050     19.966238          30.526748          31.235731   \n",
       "50%         33.986900     26.447329          31.529313          34.156197   \n",
       "75%         34.363000     27.762706          34.338418          34.544961   \n",
       "max         34.649100     31.642130          34.838263          34.838142   \n",
       "\n",
       "       Temperature_CT  Temperature_Primary_CT  Temperature_Secondary_CT  \n",
       "count    31937.000000           436407.000000             156759.000000  \n",
       "mean        10.267989                7.365447                  6.086058  \n",
       "std          2.544349                3.073711                  2.848735  \n",
       "min          2.341295                1.414291                  1.412261  \n",
       "25%          7.756828                4.388278                  3.483690  \n",
       "50%         10.451759                8.579043                  5.807047  \n",
       "75%         11.683578                9.599887                  8.713736  \n",
       "max         22.364380               20.877578                 19.108750  "
      ]
     },
     "execution_count": 10,
     "metadata": {},
     "output_type": "execute_result"
    }
   ],
   "source": [
    "df.describe()"
   ]
  },
  {
   "cell_type": "code",
   "execution_count": 11,
   "metadata": {},
   "outputs": [
    {
     "data": {
      "text/plain": [
       "(-0.3276455137262745, 0.15999656634004117)"
      ]
     },
     "execution_count": 11,
     "metadata": {},
     "output_type": "execute_result"
    }
   ],
   "source": [
    "np.min((df['Depth']-df['Z'])/df['Z']),np.max((df['Depth']-df['Z'])/df['Z'])"
   ]
  },
  {
   "cell_type": "code",
   "execution_count": 12,
   "metadata": {},
   "outputs": [
    {
     "data": {
      "text/html": [
       "<div>\n",
       "<style scoped>\n",
       "    .dataframe tbody tr th:only-of-type {\n",
       "        vertical-align: middle;\n",
       "    }\n",
       "\n",
       "    .dataframe tbody tr th {\n",
       "        vertical-align: top;\n",
       "    }\n",
       "\n",
       "    .dataframe thead th {\n",
       "        text-align: right;\n",
       "    }\n",
       "</style>\n",
       "<table border=\"1\" class=\"dataframe\">\n",
       "  <thead>\n",
       "    <tr style=\"text-align: right;\">\n",
       "      <th></th>\n",
       "      <th>Depth</th>\n",
       "      <th>Z</th>\n",
       "      <th>Salinity</th>\n",
       "      <th>Salinity_T0_C0</th>\n",
       "      <th>Salinity_T1_C1</th>\n",
       "      <th>Salinity_SA</th>\n",
       "      <th>Salinity_T0_C0_SA</th>\n",
       "      <th>Salinity_T1_C1_SA</th>\n",
       "      <th>Temperature_CT</th>\n",
       "      <th>Temperature_Primary_CT</th>\n",
       "      <th>Temperature_Secondary_CT</th>\n",
       "    </tr>\n",
       "  </thead>\n",
       "  <tbody>\n",
       "    <tr>\n",
       "      <th>26905</th>\n",
       "      <td>2.3</td>\n",
       "      <td>1.982764</td>\n",
       "      <td>NaN</td>\n",
       "      <td>29.3926</td>\n",
       "      <td>NaN</td>\n",
       "      <td>NaN</td>\n",
       "      <td>29.534709</td>\n",
       "      <td>NaN</td>\n",
       "      <td>NaN</td>\n",
       "      <td>11.387468</td>\n",
       "      <td>NaN</td>\n",
       "    </tr>\n",
       "    <tr>\n",
       "      <th>29134</th>\n",
       "      <td>2.2</td>\n",
       "      <td>1.982731</td>\n",
       "      <td>NaN</td>\n",
       "      <td>30.9675</td>\n",
       "      <td>NaN</td>\n",
       "      <td>NaN</td>\n",
       "      <td>31.116464</td>\n",
       "      <td>NaN</td>\n",
       "      <td>NaN</td>\n",
       "      <td>10.039943</td>\n",
       "      <td>NaN</td>\n",
       "    </tr>\n",
       "    <tr>\n",
       "      <th>41354</th>\n",
       "      <td>0.4</td>\n",
       "      <td>0.495745</td>\n",
       "      <td>NaN</td>\n",
       "      <td>23.2041</td>\n",
       "      <td>NaN</td>\n",
       "      <td>NaN</td>\n",
       "      <td>23.316721</td>\n",
       "      <td>NaN</td>\n",
       "      <td>NaN</td>\n",
       "      <td>15.528922</td>\n",
       "      <td>NaN</td>\n",
       "    </tr>\n",
       "    <tr>\n",
       "      <th>43579</th>\n",
       "      <td>0.8</td>\n",
       "      <td>0.892337</td>\n",
       "      <td>NaN</td>\n",
       "      <td>24.6111</td>\n",
       "      <td>NaN</td>\n",
       "      <td>NaN</td>\n",
       "      <td>24.730547</td>\n",
       "      <td>NaN</td>\n",
       "      <td>NaN</td>\n",
       "      <td>16.575219</td>\n",
       "      <td>NaN</td>\n",
       "    </tr>\n",
       "    <tr>\n",
       "      <th>74005</th>\n",
       "      <td>0.4</td>\n",
       "      <td>0.495760</td>\n",
       "      <td>NaN</td>\n",
       "      <td>32.5574</td>\n",
       "      <td>NaN</td>\n",
       "      <td>NaN</td>\n",
       "      <td>32.712540</td>\n",
       "      <td>NaN</td>\n",
       "      <td>NaN</td>\n",
       "      <td>7.454501</td>\n",
       "      <td>NaN</td>\n",
       "    </tr>\n",
       "    <tr>\n",
       "      <th>304172</th>\n",
       "      <td>0.2</td>\n",
       "      <td>0.297462</td>\n",
       "      <td>NaN</td>\n",
       "      <td>28.4599</td>\n",
       "      <td>NaN</td>\n",
       "      <td>NaN</td>\n",
       "      <td>28.597668</td>\n",
       "      <td>NaN</td>\n",
       "      <td>NaN</td>\n",
       "      <td>9.945137</td>\n",
       "      <td>NaN</td>\n",
       "    </tr>\n",
       "    <tr>\n",
       "      <th>324947</th>\n",
       "      <td>0.8</td>\n",
       "      <td>0.892259</td>\n",
       "      <td>NaN</td>\n",
       "      <td>28.5844</td>\n",
       "      <td>NaN</td>\n",
       "      <td>NaN</td>\n",
       "      <td>28.722690</td>\n",
       "      <td>NaN</td>\n",
       "      <td>NaN</td>\n",
       "      <td>11.301725</td>\n",
       "      <td>NaN</td>\n",
       "    </tr>\n",
       "    <tr>\n",
       "      <th>558022</th>\n",
       "      <td>1.2</td>\n",
       "      <td>1.090715</td>\n",
       "      <td>NaN</td>\n",
       "      <td>31.6466</td>\n",
       "      <td>NaN</td>\n",
       "      <td>NaN</td>\n",
       "      <td>31.799106</td>\n",
       "      <td>NaN</td>\n",
       "      <td>NaN</td>\n",
       "      <td>11.011486</td>\n",
       "      <td>NaN</td>\n",
       "    </tr>\n",
       "    <tr>\n",
       "      <th>624025</th>\n",
       "      <td>0.7</td>\n",
       "      <td>0.793203</td>\n",
       "      <td>NaN</td>\n",
       "      <td>27.1683</td>\n",
       "      <td>NaN</td>\n",
       "      <td>NaN</td>\n",
       "      <td>27.299995</td>\n",
       "      <td>NaN</td>\n",
       "      <td>NaN</td>\n",
       "      <td>7.357459</td>\n",
       "      <td>NaN</td>\n",
       "    </tr>\n",
       "  </tbody>\n",
       "</table>\n",
       "</div>"
      ],
      "text/plain": [
       "        Depth         Z  Salinity  Salinity_T0_C0  Salinity_T1_C1  \\\n",
       "26905     2.3  1.982764       NaN         29.3926             NaN   \n",
       "29134     2.2  1.982731       NaN         30.9675             NaN   \n",
       "41354     0.4  0.495745       NaN         23.2041             NaN   \n",
       "43579     0.8  0.892337       NaN         24.6111             NaN   \n",
       "74005     0.4  0.495760       NaN         32.5574             NaN   \n",
       "304172    0.2  0.297462       NaN         28.4599             NaN   \n",
       "324947    0.8  0.892259       NaN         28.5844             NaN   \n",
       "558022    1.2  1.090715       NaN         31.6466             NaN   \n",
       "624025    0.7  0.793203       NaN         27.1683             NaN   \n",
       "\n",
       "        Salinity_SA  Salinity_T0_C0_SA  Salinity_T1_C1_SA  Temperature_CT  \\\n",
       "26905           NaN          29.534709                NaN             NaN   \n",
       "29134           NaN          31.116464                NaN             NaN   \n",
       "41354           NaN          23.316721                NaN             NaN   \n",
       "43579           NaN          24.730547                NaN             NaN   \n",
       "74005           NaN          32.712540                NaN             NaN   \n",
       "304172          NaN          28.597668                NaN             NaN   \n",
       "324947          NaN          28.722690                NaN             NaN   \n",
       "558022          NaN          31.799106                NaN             NaN   \n",
       "624025          NaN          27.299995                NaN             NaN   \n",
       "\n",
       "        Temperature_Primary_CT  Temperature_Secondary_CT  \n",
       "26905                11.387468                       NaN  \n",
       "29134                10.039943                       NaN  \n",
       "41354                15.528922                       NaN  \n",
       "43579                16.575219                       NaN  \n",
       "74005                 7.454501                       NaN  \n",
       "304172                9.945137                       NaN  \n",
       "324947               11.301725                       NaN  \n",
       "558022               11.011486                       NaN  \n",
       "624025                7.357459                       NaN  "
      ]
     },
     "execution_count": 12,
     "metadata": {},
     "output_type": "execute_result"
    }
   ],
   "source": [
    "df.loc[np.abs((df['Depth']-df['Z'])/df['Z'])>.1]"
   ]
  },
  {
   "cell_type": "code",
   "execution_count": 13,
   "metadata": {},
   "outputs": [
    {
     "data": {
      "text/html": [
       "<div>\n",
       "<style scoped>\n",
       "    .dataframe tbody tr th:only-of-type {\n",
       "        vertical-align: middle;\n",
       "    }\n",
       "\n",
       "    .dataframe tbody tr th {\n",
       "        vertical-align: top;\n",
       "    }\n",
       "\n",
       "    .dataframe thead th {\n",
       "        text-align: right;\n",
       "    }\n",
       "</style>\n",
       "<table border=\"1\" class=\"dataframe\">\n",
       "  <thead>\n",
       "    <tr style=\"text-align: right;\">\n",
       "      <th></th>\n",
       "      <th>Depth</th>\n",
       "      <th>Z</th>\n",
       "      <th>Salinity</th>\n",
       "      <th>Salinity_T0_C0</th>\n",
       "      <th>Salinity_T1_C1</th>\n",
       "      <th>Salinity_SA</th>\n",
       "      <th>Salinity_T0_C0_SA</th>\n",
       "      <th>Salinity_T1_C1_SA</th>\n",
       "      <th>Temperature_CT</th>\n",
       "      <th>Temperature_Primary_CT</th>\n",
       "      <th>Temperature_Secondary_CT</th>\n",
       "    </tr>\n",
       "  </thead>\n",
       "  <tbody>\n",
       "    <tr>\n",
       "      <th>0</th>\n",
       "      <td>0.15</td>\n",
       "      <td>0.148733</td>\n",
       "      <td>28.50</td>\n",
       "      <td>NaN</td>\n",
       "      <td>NaN</td>\n",
       "      <td>28.637903</td>\n",
       "      <td>NaN</td>\n",
       "      <td>NaN</td>\n",
       "      <td>19.043626</td>\n",
       "      <td>NaN</td>\n",
       "      <td>NaN</td>\n",
       "    </tr>\n",
       "    <tr>\n",
       "      <th>1</th>\n",
       "      <td>0.45</td>\n",
       "      <td>0.446197</td>\n",
       "      <td>28.56</td>\n",
       "      <td>NaN</td>\n",
       "      <td>NaN</td>\n",
       "      <td>28.698180</td>\n",
       "      <td>NaN</td>\n",
       "      <td>NaN</td>\n",
       "      <td>18.148806</td>\n",
       "      <td>NaN</td>\n",
       "      <td>NaN</td>\n",
       "    </tr>\n",
       "    <tr>\n",
       "      <th>2</th>\n",
       "      <td>0.75</td>\n",
       "      <td>0.743662</td>\n",
       "      <td>28.23</td>\n",
       "      <td>NaN</td>\n",
       "      <td>NaN</td>\n",
       "      <td>28.366569</td>\n",
       "      <td>NaN</td>\n",
       "      <td>NaN</td>\n",
       "      <td>17.770452</td>\n",
       "      <td>NaN</td>\n",
       "      <td>NaN</td>\n",
       "    </tr>\n",
       "    <tr>\n",
       "      <th>3</th>\n",
       "      <td>1.05</td>\n",
       "      <td>1.041125</td>\n",
       "      <td>28.26</td>\n",
       "      <td>NaN</td>\n",
       "      <td>NaN</td>\n",
       "      <td>28.396701</td>\n",
       "      <td>NaN</td>\n",
       "      <td>NaN</td>\n",
       "      <td>17.462734</td>\n",
       "      <td>NaN</td>\n",
       "      <td>NaN</td>\n",
       "    </tr>\n",
       "    <tr>\n",
       "      <th>4</th>\n",
       "      <td>1.35</td>\n",
       "      <td>1.338589</td>\n",
       "      <td>28.41</td>\n",
       "      <td>NaN</td>\n",
       "      <td>NaN</td>\n",
       "      <td>28.547413</td>\n",
       "      <td>NaN</td>\n",
       "      <td>NaN</td>\n",
       "      <td>17.003485</td>\n",
       "      <td>NaN</td>\n",
       "      <td>NaN</td>\n",
       "    </tr>\n",
       "    <tr>\n",
       "      <th>5</th>\n",
       "      <td>1.65</td>\n",
       "      <td>1.636052</td>\n",
       "      <td>28.17</td>\n",
       "      <td>NaN</td>\n",
       "      <td>NaN</td>\n",
       "      <td>28.306239</td>\n",
       "      <td>NaN</td>\n",
       "      <td>NaN</td>\n",
       "      <td>16.479931</td>\n",
       "      <td>NaN</td>\n",
       "      <td>NaN</td>\n",
       "    </tr>\n",
       "    <tr>\n",
       "      <th>6</th>\n",
       "      <td>1.95</td>\n",
       "      <td>1.933514</td>\n",
       "      <td>28.00</td>\n",
       "      <td>NaN</td>\n",
       "      <td>NaN</td>\n",
       "      <td>28.135403</td>\n",
       "      <td>NaN</td>\n",
       "      <td>NaN</td>\n",
       "      <td>16.142068</td>\n",
       "      <td>NaN</td>\n",
       "      <td>NaN</td>\n",
       "    </tr>\n",
       "    <tr>\n",
       "      <th>7</th>\n",
       "      <td>2.25</td>\n",
       "      <td>2.230977</td>\n",
       "      <td>28.01</td>\n",
       "      <td>NaN</td>\n",
       "      <td>NaN</td>\n",
       "      <td>28.145438</td>\n",
       "      <td>NaN</td>\n",
       "      <td>NaN</td>\n",
       "      <td>15.783394</td>\n",
       "      <td>NaN</td>\n",
       "      <td>NaN</td>\n",
       "    </tr>\n",
       "    <tr>\n",
       "      <th>8</th>\n",
       "      <td>2.55</td>\n",
       "      <td>2.528438</td>\n",
       "      <td>28.12</td>\n",
       "      <td>NaN</td>\n",
       "      <td>NaN</td>\n",
       "      <td>28.255957</td>\n",
       "      <td>NaN</td>\n",
       "      <td>NaN</td>\n",
       "      <td>15.488895</td>\n",
       "      <td>NaN</td>\n",
       "      <td>NaN</td>\n",
       "    </tr>\n",
       "    <tr>\n",
       "      <th>9</th>\n",
       "      <td>2.85</td>\n",
       "      <td>2.825899</td>\n",
       "      <td>28.13</td>\n",
       "      <td>NaN</td>\n",
       "      <td>NaN</td>\n",
       "      <td>28.265992</td>\n",
       "      <td>NaN</td>\n",
       "      <td>NaN</td>\n",
       "      <td>15.347303</td>\n",
       "      <td>NaN</td>\n",
       "      <td>NaN</td>\n",
       "    </tr>\n",
       "  </tbody>\n",
       "</table>\n",
       "</div>"
      ],
      "text/plain": [
       "   Depth         Z  Salinity  Salinity_T0_C0  Salinity_T1_C1  Salinity_SA  \\\n",
       "0   0.15  0.148733     28.50             NaN             NaN    28.637903   \n",
       "1   0.45  0.446197     28.56             NaN             NaN    28.698180   \n",
       "2   0.75  0.743662     28.23             NaN             NaN    28.366569   \n",
       "3   1.05  1.041125     28.26             NaN             NaN    28.396701   \n",
       "4   1.35  1.338589     28.41             NaN             NaN    28.547413   \n",
       "5   1.65  1.636052     28.17             NaN             NaN    28.306239   \n",
       "6   1.95  1.933514     28.00             NaN             NaN    28.135403   \n",
       "7   2.25  2.230977     28.01             NaN             NaN    28.145438   \n",
       "8   2.55  2.528438     28.12             NaN             NaN    28.255957   \n",
       "9   2.85  2.825899     28.13             NaN             NaN    28.265992   \n",
       "\n",
       "   Salinity_T0_C0_SA  Salinity_T1_C1_SA  Temperature_CT  \\\n",
       "0                NaN                NaN       19.043626   \n",
       "1                NaN                NaN       18.148806   \n",
       "2                NaN                NaN       17.770452   \n",
       "3                NaN                NaN       17.462734   \n",
       "4                NaN                NaN       17.003485   \n",
       "5                NaN                NaN       16.479931   \n",
       "6                NaN                NaN       16.142068   \n",
       "7                NaN                NaN       15.783394   \n",
       "8                NaN                NaN       15.488895   \n",
       "9                NaN                NaN       15.347303   \n",
       "\n",
       "   Temperature_Primary_CT  Temperature_Secondary_CT  \n",
       "0                     NaN                       NaN  \n",
       "1                     NaN                       NaN  \n",
       "2                     NaN                       NaN  \n",
       "3                     NaN                       NaN  \n",
       "4                     NaN                       NaN  \n",
       "5                     NaN                       NaN  \n",
       "6                     NaN                       NaN  \n",
       "7                     NaN                       NaN  \n",
       "8                     NaN                       NaN  \n",
       "9                     NaN                       NaN  "
      ]
     },
     "execution_count": 13,
     "metadata": {},
     "output_type": "execute_result"
    }
   ],
   "source": [
    "df.head(10)"
   ]
  },
  {
   "cell_type": "code",
   "execution_count": null,
   "metadata": {},
   "outputs": [],
   "source": []
  },
  {
   "cell_type": "code",
   "execution_count": 14,
   "metadata": {},
   "outputs": [
    {
     "data": {
      "text/plain": [
       "['AGENCY',\n",
       " 'COUNTRY',\n",
       " 'DATA_DESCRIPTION',\n",
       " 'EVENT_NUMBER',\n",
       " 'ID',\n",
       " 'Include',\n",
       " 'LATITUDE',\n",
       " 'LONGITUDE',\n",
       " 'Lat',\n",
       " 'Lon',\n",
       " 'MISSION',\n",
       " 'MODEL',\n",
       " 'PLATFORM',\n",
       " 'PROJECT',\n",
       " 'SCIENTIST',\n",
       " 'START_TIME',\n",
       " 'STATION',\n",
       " 'StartDay',\n",
       " 'StartHour',\n",
       " 'StartMonth',\n",
       " 'StartTimeZone',\n",
       " 'StartYear',\n",
       " 'TYPE',\n",
       " 'WATER_DEPTH',\n",
       " 'WDIR',\n",
       " 'WSPD',\n",
       " 'sourceFile']"
      ]
     },
     "execution_count": 14,
     "metadata": {},
     "output_type": "execute_result"
    }
   ],
   "source": [
    "sorted([x.name for x in md.tables['StationTBL'].columns])"
   ]
  },
  {
   "cell_type": "code",
   "execution_count": 15,
   "metadata": {},
   "outputs": [
    {
     "data": {
      "text/plain": [
       "['Conductance_Specific',\n",
       " 'Conductance_Specific_units',\n",
       " 'Conductivity',\n",
       " 'Conductivity_Primary',\n",
       " 'Conductivity_Primary_units',\n",
       " 'Conductivity_Secondary',\n",
       " 'Conductivity_Secondary_units',\n",
       " 'Conductivity_units',\n",
       " 'Density',\n",
       " 'Density_units',\n",
       " 'Depth',\n",
       " 'Depth_units',\n",
       " 'Fluorescence_URU_Seapoint',\n",
       " 'Fluorescence_URU_Seapoint_units',\n",
       " 'Fluorescence_URU_Wetlabs',\n",
       " 'Fluorescence_URU_Wetlabs_units',\n",
       " 'ID',\n",
       " 'Include',\n",
       " 'Number_of_bin_records',\n",
       " 'Number_of_bin_records_units',\n",
       " 'Oxygen_Dissolved_SBE',\n",
       " 'Oxygen_Dissolved_SBE_1',\n",
       " 'Oxygen_Dissolved_SBE_1_units',\n",
       " 'Oxygen_Dissolved_SBE_units',\n",
       " 'PAR',\n",
       " 'PAR1',\n",
       " 'PAR1_units',\n",
       " 'PAR_1',\n",
       " 'PAR_1_units',\n",
       " 'PAR_Reference',\n",
       " 'PAR_Reference_units',\n",
       " 'PAR_units',\n",
       " 'Pressure',\n",
       " 'Pressure_units',\n",
       " 'Salinity',\n",
       " 'Salinity_T0_C0',\n",
       " 'Salinity_T0_C0_units',\n",
       " 'Salinity_T1_C1',\n",
       " 'Salinity_T1_C1_units',\n",
       " 'Salinity_units',\n",
       " 'Speed_Sound',\n",
       " 'Speed_Sound_units',\n",
       " 'StationTBLID',\n",
       " 'Temperature',\n",
       " 'Temperature_Primary',\n",
       " 'Temperature_Primary_units',\n",
       " 'Temperature_Secondary',\n",
       " 'Temperature_Secondary_units',\n",
       " 'Temperature_units',\n",
       " 'Transmissivity',\n",
       " 'Transmissivity_units',\n",
       " 'pH_SBE_Nominal',\n",
       " 'pH_SBE_Nominal_units',\n",
       " 'sourceFile']"
      ]
     },
     "execution_count": 15,
     "metadata": {},
     "output_type": "execute_result"
    }
   ],
   "source": [
    "sorted([x.name for x in md.tables['ObsTBL'].columns])\n"
   ]
  },
  {
   "cell_type": "code",
   "execution_count": 16,
   "metadata": {},
   "outputs": [
    {
     "data": {
      "text/plain": [
       "['Include',\n",
       " 'ObsTBLID',\n",
       " 'Salinity_SA',\n",
       " 'Salinity_T0_C0_SA',\n",
       " 'Salinity_T1_C1_SA',\n",
       " 'StationTBLID',\n",
       " 'Temperature_CT',\n",
       " 'Temperature_Primary_CT',\n",
       " 'Temperature_Secondary_CT',\n",
       " 'Z']"
      ]
     },
     "execution_count": 16,
     "metadata": {},
     "output_type": "execute_result"
    }
   ],
   "source": [
    "sorted([x.name for x in md.tables['CalcsTBL'].columns])\n"
   ]
  },
  {
   "cell_type": "markdown",
   "metadata": {},
   "source": [
    "#### salinity variables: 'Salinity','Salinity_T0_C0', 'Salinity_T1_C1'\n",
    "#### temperature variables:'Temperature','Temperature_Primary','Temperature_Secondary'"
   ]
  },
  {
   "cell_type": "markdown",
   "metadata": {},
   "source": [
    "### How many Depths with no Pressure and vice versa?"
   ]
  },
  {
   "cell_type": "code",
   "execution_count": 17,
   "metadata": {},
   "outputs": [
    {
     "name": "stdout",
     "output_type": "stream",
     "text": [
      "Z without P: 0\n",
      "P without Z: 1010164\n"
     ]
    }
   ],
   "source": [
    "print('Z without P:',session.query(ObsTBL.Depth).filter(ObsTBL.Pressure==None).count())\n",
    "print('P without Z:',session.query(ObsTBL.Pressure).filter(ObsTBL.Depth==None).count())\n"
   ]
  },
  {
   "cell_type": "markdown",
   "metadata": {},
   "source": [
    "### Other depth info:"
   ]
  },
  {
   "cell_type": "code",
   "execution_count": 18,
   "metadata": {},
   "outputs": [
    {
     "name": "stdout",
     "output_type": "stream",
     "text": [
      "Z min, max: (0.1,) (3224.7,)\n",
      "P min, max: (0.0,) (3278.8,)\n"
     ]
    }
   ],
   "source": [
    "print('Z min, max:',session.query(func.min(ObsTBL.Depth)).one(),session.query(func.max(ObsTBL.Depth)).one())\n",
    "print('P min, max:',session.query(func.min(ObsTBL.Pressure)).one(),session.query(func.max(ObsTBL.Pressure)).one())"
   ]
  },
  {
   "cell_type": "markdown",
   "metadata": {},
   "source": [
    "### Other Variables:"
   ]
  },
  {
   "cell_type": "code",
   "execution_count": 19,
   "metadata": {},
   "outputs": [
    {
     "name": "stdout",
     "output_type": "stream",
     "text": [
      "ObsTBL.Salinity min max count: (0.03,) (31.49,) 31937\n",
      "ObsTBL.Salinity_T0_C0 min max count: (1.361,) (34.6505,) 896592\n",
      "ObsTBL.Salinity_T1_C1 min max count: (3.5259,) (34.6514,) 705170\n",
      "ObsTBL.Temperature min max count: (2.216,) (22.053,) 31937\n",
      "ObsTBL.Temperature_Primary min max count: (1.6359,) (21.6947,) 896866\n",
      "ObsTBL.Temperature_Secondary min max count: (1.6371,) (20.245,) 705261\n"
     ]
    }
   ],
   "source": [
    "for var in (ObsTBL.Salinity,ObsTBL.Salinity_T0_C0,ObsTBL.Salinity_T1_C1,ObsTBL.Temperature,ObsTBL.Temperature_Primary,ObsTBL.Temperature_Secondary):\n",
    "    print(var,'min max count:',session.query(func.min(var)).one(),session.query(func.max(var)).one(),session.query(var).filter(var!=None).count())"
   ]
  },
  {
   "cell_type": "code",
   "execution_count": 20,
   "metadata": {},
   "outputs": [],
   "source": [
    "vlist=(ObsTBL.Salinity,ObsTBL.Salinity_T0_C0,ObsTBL.Salinity_T1_C1,ObsTBL.Temperature,ObsTBL.Temperature_Primary,ObsTBL.Temperature_Secondary)\n",
    "ulist=(ObsTBL.Salinity_units,ObsTBL.Salinity_T0_C0_units,ObsTBL.Salinity_T1_C1_units,ObsTBL.Temperature_units,\n",
    "      ObsTBL.Temperature_Primary_units,ObsTBL.Temperature_Secondary_units)"
   ]
  },
  {
   "cell_type": "code",
   "execution_count": 21,
   "metadata": {},
   "outputs": [
    {
     "name": "stdout",
     "output_type": "stream",
     "text": [
      "ObsTBL.Salinity_units unique:\n",
      "\t [(None,), ('PSS-78',)]\n",
      "\t # missing units: 0\n",
      "ObsTBL.Salinity_T0_C0_units unique:\n",
      "\t [(None,), ('PSS-78',)]\n",
      "\t # missing units: 0\n",
      "ObsTBL.Salinity_T1_C1_units unique:\n",
      "\t [(None,), ('PSS-78',)]\n",
      "\t # missing units: 0\n",
      "ObsTBL.Temperature_units unique:\n",
      "\t [(None,), (\"'deg_C_(ITS90)'\",)]\n",
      "\t # missing units: 0\n",
      "ObsTBL.Temperature_Primary_units unique:\n",
      "\t [(None,), (\"'deg_C_(ITS90)'\",)]\n",
      "\t # missing units: 0\n",
      "ObsTBL.Temperature_Secondary_units unique:\n",
      "\t [(None,), (\"'deg_C_(ITS90)'\",)]\n",
      "\t # missing units: 0\n"
     ]
    }
   ],
   "source": [
    "for vvar,uvar in zip(vlist,ulist):\n",
    "    print(uvar,'unique:')\n",
    "    print('\\t',[i for i in session.query(uvar).group_by(uvar).all()])\n",
    "    print('\\t','# missing units:',session.query(vvar,uvar).filter(and_(vvar!=None,uvar==None)).count())"
   ]
  },
  {
   "cell_type": "code",
   "execution_count": 22,
   "metadata": {},
   "outputs": [],
   "source": [
    "df=pd.DataFrame(session.query(ObsTBL.Depth,ObsTBL.Pressure,ObsTBL.Salinity,ObsTBL.Salinity_T0_C0,ObsTBL.Salinity_T1_C1,\n",
    "                              ObsTBL.Temperature,ObsTBL.Temperature_Primary,ObsTBL.Temperature_Secondary,\n",
    "                              StationTBL.Lat,StationTBL.Lon).select_from(ObsTBL).join(StationTBL,StationTBL.ID==ObsTBL.StationTBLID).all())"
   ]
  },
  {
   "cell_type": "code",
   "execution_count": 23,
   "metadata": {},
   "outputs": [
    {
     "data": {
      "text/plain": [
       "[<matplotlib.lines.Line2D at 0x7f2a07c239d0>]"
      ]
     },
     "execution_count": 23,
     "metadata": {},
     "output_type": "execute_result"
    },
    {
     "data": {
      "image/png": "[encoded data removed]",
      "text/plain": [
       "<Figure size 1296x432 with 3 Axes>"
      ]
     },
     "metadata": {
      "needs_background": "light"
     },
     "output_type": "display_data"
    }
   ],
   "source": [
    "fig,ax=plt.subplots(1,3,figsize=(18,6))\n",
    "ax[0].plot(df['Salinity'],df['Temperature'],'r.')\n",
    "ax[1].plot(df['Salinity_T0_C0'],df['Temperature_Primary'],'c.')\n",
    "ax[2].plot(df['Salinity_T1_C1'],df['Temperature_Secondary'],'m.')"
   ]
  },
  {
   "cell_type": "code",
   "execution_count": 24,
   "metadata": {},
   "outputs": [
    {
     "name": "stderr",
     "output_type": "stream",
     "text": [
      "/data/eolson/results/MEOPAR/tools/SalishSeaTools/salishsea_tools/viz_tools.py:123: UserWarning: No contour levels were found within the data range.\n",
      "  contour_lines = axes.contour(\n"
     ]
    },
    {
     "data": {
      "text/plain": [
       "[<matplotlib.lines.Line2D at 0x7f2a07072d00>]"
      ]
     },
     "execution_count": 24,
     "metadata": {},
     "output_type": "execute_result"
    },
    {
     "data": {
      "image/png": "[encoded data removed]",
      "text/plain": [
       "<Figure size 1296x432 with 3 Axes>"
      ]
     },
     "metadata": {
      "needs_background": "light"
     },
     "output_type": "display_data"
    }
   ],
   "source": [
    "fig,ax=plt.subplots(1,3,figsize=(18,6))\n",
    "for iax in ax:\n",
    "    viz_tools.set_aspect(iax, coords = 'map')\n",
    "    viz_tools.plot_coastline(iax, grid, coords = 'map')\n",
    "    iax.set_ylim(47, 52)\n",
    "    iax.set_xlim(-130, -122);\n",
    "ax[0].plot(df.loc[(df['Salinity']>0)&(df['Temperature']>0),['Lon']],\n",
    "                    df.loc[(df['Salinity']>0)&(df['Temperature']>0),['Lat']],'ro')\n",
    "ax[1].plot(df.loc[(df['Salinity_T0_C0']>0)&(df['Temperature_Primary']>0),['Lon']],\n",
    "                    df.loc[(df['Salinity_T0_C0']>0)&(df['Temperature_Primary']>0),['Lat']],'co')\n",
    "ax[2].plot(df.loc[(df['Salinity_T1_C1']>0)&(df['Temperature_Secondary']>0),['Lon']],\n",
    "                    df.loc[(df['Salinity_T1_C1']>0)&(df['Temperature_Secondary']>0),['Lat']],'mo')"
   ]
  },
  {
   "cell_type": "code",
   "execution_count": 25,
   "metadata": {},
   "outputs": [
    {
     "data": {
      "text/html": [
       "<div>\n",
       "<style scoped>\n",
       "    .dataframe tbody tr th:only-of-type {\n",
       "        vertical-align: middle;\n",
       "    }\n",
       "\n",
       "    .dataframe tbody tr th {\n",
       "        vertical-align: top;\n",
       "    }\n",
       "\n",
       "    .dataframe thead th {\n",
       "        text-align: right;\n",
       "    }\n",
       "</style>\n",
       "<table border=\"1\" class=\"dataframe\">\n",
       "  <thead>\n",
       "    <tr style=\"text-align: right;\">\n",
       "      <th></th>\n",
       "      <th>Depth</th>\n",
       "      <th>Pressure</th>\n",
       "      <th>Salinity</th>\n",
       "      <th>Salinity_T0_C0</th>\n",
       "      <th>Salinity_T1_C1</th>\n",
       "      <th>Temperature</th>\n",
       "      <th>Temperature_Primary</th>\n",
       "      <th>Temperature_Secondary</th>\n",
       "      <th>Lat</th>\n",
       "      <th>Lon</th>\n",
       "    </tr>\n",
       "  </thead>\n",
       "  <tbody>\n",
       "  </tbody>\n",
       "</table>\n",
       "</div>"
      ],
      "text/plain": [
       "Empty DataFrame\n",
       "Columns: [Depth, Pressure, Salinity, Salinity_T0_C0, Salinity_T1_C1, Temperature, Temperature_Primary, Temperature_Secondary, Lat, Lon]\n",
       "Index: []"
      ]
     },
     "execution_count": 25,
     "metadata": {},
     "output_type": "execute_result"
    }
   ],
   "source": [
    "df.loc[(~np.isnan(df['Salinity_T1_C1']))&(~np.isnan(df['Temperature_Primary']))]"
   ]
  },
  {
   "cell_type": "code",
   "execution_count": 26,
   "metadata": {},
   "outputs": [
    {
     "data": {
      "text/html": [
       "<div>\n",
       "<style scoped>\n",
       "    .dataframe tbody tr th:only-of-type {\n",
       "        vertical-align: middle;\n",
       "    }\n",
       "\n",
       "    .dataframe tbody tr th {\n",
       "        vertical-align: top;\n",
       "    }\n",
       "\n",
       "    .dataframe thead th {\n",
       "        text-align: right;\n",
       "    }\n",
       "</style>\n",
       "<table border=\"1\" class=\"dataframe\">\n",
       "  <thead>\n",
       "    <tr style=\"text-align: right;\">\n",
       "      <th></th>\n",
       "      <th>Depth</th>\n",
       "      <th>Pressure</th>\n",
       "      <th>Salinity</th>\n",
       "      <th>Salinity_T0_C0</th>\n",
       "      <th>Salinity_T1_C1</th>\n",
       "      <th>Temperature</th>\n",
       "      <th>Temperature_Primary</th>\n",
       "      <th>Temperature_Secondary</th>\n",
       "      <th>Lat</th>\n",
       "      <th>Lon</th>\n",
       "    </tr>\n",
       "  </thead>\n",
       "  <tbody>\n",
       "  </tbody>\n",
       "</table>\n",
       "</div>"
      ],
      "text/plain": [
       "Empty DataFrame\n",
       "Columns: [Depth, Pressure, Salinity, Salinity_T0_C0, Salinity_T1_C1, Temperature, Temperature_Primary, Temperature_Secondary, Lat, Lon]\n",
       "Index: []"
      ]
     },
     "execution_count": 26,
     "metadata": {},
     "output_type": "execute_result"
    }
   ],
   "source": [
    "df.loc[(~np.isnan(df['Salinity_T1_C1']))&(~np.isnan(df['Temperature']))]"
   ]
  },
  {
   "cell_type": "code",
   "execution_count": 27,
   "metadata": {},
   "outputs": [
    {
     "data": {
      "text/html": [
       "<div>\n",
       "<style scoped>\n",
       "    .dataframe tbody tr th:only-of-type {\n",
       "        vertical-align: middle;\n",
       "    }\n",
       "\n",
       "    .dataframe tbody tr th {\n",
       "        vertical-align: top;\n",
       "    }\n",
       "\n",
       "    .dataframe thead th {\n",
       "        text-align: right;\n",
       "    }\n",
       "</style>\n",
       "<table border=\"1\" class=\"dataframe\">\n",
       "  <thead>\n",
       "    <tr style=\"text-align: right;\">\n",
       "      <th></th>\n",
       "      <th>Depth</th>\n",
       "      <th>Pressure</th>\n",
       "      <th>Salinity</th>\n",
       "      <th>Salinity_T0_C0</th>\n",
       "      <th>Salinity_T1_C1</th>\n",
       "      <th>Temperature</th>\n",
       "      <th>Temperature_Primary</th>\n",
       "      <th>Temperature_Secondary</th>\n",
       "      <th>Lat</th>\n",
       "      <th>Lon</th>\n",
       "    </tr>\n",
       "  </thead>\n",
       "  <tbody>\n",
       "  </tbody>\n",
       "</table>\n",
       "</div>"
      ],
      "text/plain": [
       "Empty DataFrame\n",
       "Columns: [Depth, Pressure, Salinity, Salinity_T0_C0, Salinity_T1_C1, Temperature, Temperature_Primary, Temperature_Secondary, Lat, Lon]\n",
       "Index: []"
      ]
     },
     "execution_count": 27,
     "metadata": {},
     "output_type": "execute_result"
    }
   ],
   "source": [
    "df.loc[(~np.isnan(df['Salinity_T0_C0']))&(~np.isnan(df['Temperature']))]"
   ]
  },
  {
   "cell_type": "code",
   "execution_count": 28,
   "metadata": {},
   "outputs": [
    {
     "data": {
      "text/html": [
       "<div>\n",
       "<style scoped>\n",
       "    .dataframe tbody tr th:only-of-type {\n",
       "        vertical-align: middle;\n",
       "    }\n",
       "\n",
       "    .dataframe tbody tr th {\n",
       "        vertical-align: top;\n",
       "    }\n",
       "\n",
       "    .dataframe thead th {\n",
       "        text-align: right;\n",
       "    }\n",
       "</style>\n",
       "<table border=\"1\" class=\"dataframe\">\n",
       "  <thead>\n",
       "    <tr style=\"text-align: right;\">\n",
       "      <th></th>\n",
       "      <th>Depth</th>\n",
       "      <th>Pressure</th>\n",
       "      <th>Salinity</th>\n",
       "      <th>Salinity_T0_C0</th>\n",
       "      <th>Salinity_T1_C1</th>\n",
       "      <th>Temperature</th>\n",
       "      <th>Temperature_Primary</th>\n",
       "      <th>Temperature_Secondary</th>\n",
       "      <th>Lat</th>\n",
       "      <th>Lon</th>\n",
       "    </tr>\n",
       "  </thead>\n",
       "  <tbody>\n",
       "  </tbody>\n",
       "</table>\n",
       "</div>"
      ],
      "text/plain": [
       "Empty DataFrame\n",
       "Columns: [Depth, Pressure, Salinity, Salinity_T0_C0, Salinity_T1_C1, Temperature, Temperature_Primary, Temperature_Secondary, Lat, Lon]\n",
       "Index: []"
      ]
     },
     "execution_count": 28,
     "metadata": {},
     "output_type": "execute_result"
    }
   ],
   "source": [
    "df.loc[(~np.isnan(df['Salinity_T0_C0']))&(~np.isnan(df['Temperature_Secondary']))]"
   ]
  },
  {
   "cell_type": "code",
   "execution_count": 29,
   "metadata": {},
   "outputs": [
    {
     "data": {
      "text/html": [
       "<div>\n",
       "<style scoped>\n",
       "    .dataframe tbody tr th:only-of-type {\n",
       "        vertical-align: middle;\n",
       "    }\n",
       "\n",
       "    .dataframe tbody tr th {\n",
       "        vertical-align: top;\n",
       "    }\n",
       "\n",
       "    .dataframe thead th {\n",
       "        text-align: right;\n",
       "    }\n",
       "</style>\n",
       "<table border=\"1\" class=\"dataframe\">\n",
       "  <thead>\n",
       "    <tr style=\"text-align: right;\">\n",
       "      <th></th>\n",
       "      <th>Depth</th>\n",
       "      <th>Pressure</th>\n",
       "      <th>Salinity</th>\n",
       "      <th>Salinity_T0_C0</th>\n",
       "      <th>Salinity_T1_C1</th>\n",
       "      <th>Temperature</th>\n",
       "      <th>Temperature_Primary</th>\n",
       "      <th>Temperature_Secondary</th>\n",
       "      <th>Lat</th>\n",
       "      <th>Lon</th>\n",
       "    </tr>\n",
       "  </thead>\n",
       "  <tbody>\n",
       "  </tbody>\n",
       "</table>\n",
       "</div>"
      ],
      "text/plain": [
       "Empty DataFrame\n",
       "Columns: [Depth, Pressure, Salinity, Salinity_T0_C0, Salinity_T1_C1, Temperature, Temperature_Primary, Temperature_Secondary, Lat, Lon]\n",
       "Index: []"
      ]
     },
     "execution_count": 29,
     "metadata": {},
     "output_type": "execute_result"
    }
   ],
   "source": [
    "df.loc[(~np.isnan(df['Salinity']))&(~np.isnan(df['Temperature_Secondary']))]"
   ]
  },
  {
   "cell_type": "code",
   "execution_count": 30,
   "metadata": {},
   "outputs": [
    {
     "data": {
      "text/html": [
       "<div>\n",
       "<style scoped>\n",
       "    .dataframe tbody tr th:only-of-type {\n",
       "        vertical-align: middle;\n",
       "    }\n",
       "\n",
       "    .dataframe tbody tr th {\n",
       "        vertical-align: top;\n",
       "    }\n",
       "\n",
       "    .dataframe thead th {\n",
       "        text-align: right;\n",
       "    }\n",
       "</style>\n",
       "<table border=\"1\" class=\"dataframe\">\n",
       "  <thead>\n",
       "    <tr style=\"text-align: right;\">\n",
       "      <th></th>\n",
       "      <th>Depth</th>\n",
       "      <th>Pressure</th>\n",
       "      <th>Salinity</th>\n",
       "      <th>Salinity_T0_C0</th>\n",
       "      <th>Salinity_T1_C1</th>\n",
       "      <th>Temperature</th>\n",
       "      <th>Temperature_Primary</th>\n",
       "      <th>Temperature_Secondary</th>\n",
       "      <th>Lat</th>\n",
       "      <th>Lon</th>\n",
       "    </tr>\n",
       "  </thead>\n",
       "  <tbody>\n",
       "  </tbody>\n",
       "</table>\n",
       "</div>"
      ],
      "text/plain": [
       "Empty DataFrame\n",
       "Columns: [Depth, Pressure, Salinity, Salinity_T0_C0, Salinity_T1_C1, Temperature, Temperature_Primary, Temperature_Secondary, Lat, Lon]\n",
       "Index: []"
      ]
     },
     "execution_count": 30,
     "metadata": {},
     "output_type": "execute_result"
    }
   ],
   "source": [
    "df.loc[(~np.isnan(df['Salinity']))&(~np.isnan(df['Temperature_Primary']))]"
   ]
  },
  {
   "cell_type": "code",
   "execution_count": 31,
   "metadata": {},
   "outputs": [
    {
     "data": {
      "text/plain": [
       "31937"
      ]
     },
     "execution_count": 31,
     "metadata": {},
     "output_type": "execute_result"
    }
   ],
   "source": [
    "len(df.loc[(~np.isnan(df['Salinity']))&(~np.isnan(df['Temperature']))])"
   ]
  },
  {
   "cell_type": "code",
   "execution_count": 32,
   "metadata": {},
   "outputs": [
    {
     "data": {
      "text/plain": [
       "896591"
      ]
     },
     "execution_count": 32,
     "metadata": {},
     "output_type": "execute_result"
    }
   ],
   "source": [
    "len(df.loc[(~np.isnan(df['Salinity_T0_C0']))&(~np.isnan(df['Temperature_Primary']))])"
   ]
  },
  {
   "cell_type": "code",
   "execution_count": 33,
   "metadata": {},
   "outputs": [
    {
     "data": {
      "text/plain": [
       "705170"
      ]
     },
     "execution_count": 33,
     "metadata": {},
     "output_type": "execute_result"
    }
   ],
   "source": [
    "len(df.loc[(~np.isnan(df['Salinity_T1_C1']))&(~np.isnan(df['Temperature_Secondary']))])"
   ]
  },
  {
   "cell_type": "code",
   "execution_count": 34,
   "metadata": {},
   "outputs": [],
   "source": [
    "qry=session.query(StationTBL.StartYear.label('Year'),StationTBL.StartMonth.label('Month'),\n",
    "                      StationTBL.StartDay.label('Day'),StationTBL.StartHour.label('Hour'),\n",
    "                      StationTBL.Lat,StationTBL.Lon,\n",
    "                     ObsTBL.Depth,ObsTBL.Pressure,ObsTBL.Salinity,\n",
    "                  ObsTBL.Salinity_T0_C0,ObsTBL.Salinity_T1_C1,\n",
    "                    ObsTBL.Temperature,ObsTBL.Temperature_Primary,ObsTBL.Temperature_Secondary,ObsTBL.sourceFile).\\\n",
    "                select_from(StationTBL).join(ObsTBL,ObsTBL.StationTBLID==StationTBL.ID).\\\n",
    "                filter(and_(StationTBL.Lat>47-3/2.5*(StationTBL.Lon+123.5),\n",
    "                            StationTBL.Lat<47-3/2.5*(StationTBL.Lon+121)))"
   ]
  },
  {
   "cell_type": "code",
   "execution_count": 35,
   "metadata": {},
   "outputs": [],
   "source": [
    "df=pd.DataFrame(qry.all())"
   ]
  },
  {
   "cell_type": "code",
   "execution_count": 36,
   "metadata": {},
   "outputs": [
    {
     "data": {
      "text/plain": [
       "[<matplotlib.lines.Line2D at 0x7f2a07207af0>]"
      ]
     },
     "execution_count": 36,
     "metadata": {},
     "output_type": "execute_result"
    },
    {
     "data": {
      "image/png": "[encoded data removed]",
      "text/plain": [
       "<Figure size 1296x432 with 3 Axes>"
      ]
     },
     "metadata": {
      "needs_background": "light"
     },
     "output_type": "display_data"
    }
   ],
   "source": [
    "fig,ax=plt.subplots(1,3,figsize=(18,6))\n",
    "ax[0].plot(df['Salinity'],df['Temperature'],'r.')\n",
    "ax[1].plot(df['Salinity_T0_C0'],df['Temperature_Primary'],'c.')\n",
    "ax[2].plot(df['Salinity_T1_C1'],df['Temperature_Secondary'],'m.')"
   ]
  },
  {
   "cell_type": "code",
   "execution_count": 37,
   "metadata": {},
   "outputs": [
    {
     "name": "stderr",
     "output_type": "stream",
     "text": [
      "/data/eolson/results/MEOPAR/tools/SalishSeaTools/salishsea_tools/viz_tools.py:123: UserWarning: No contour levels were found within the data range.\n",
      "  contour_lines = axes.contour(\n"
     ]
    },
    {
     "data": {
      "text/plain": [
       "[<matplotlib.lines.Line2D at 0x7f2a07cd0520>]"
      ]
     },
     "execution_count": 37,
     "metadata": {},
     "output_type": "execute_result"
    },
    {
     "data": {
      "image/png": "[encoded data removed]",
      "text/plain": [
       "<Figure size 1296x432 with 3 Axes>"
      ]
     },
     "metadata": {
      "needs_background": "light"
     },
     "output_type": "display_data"
    }
   ],
   "source": [
    "fig,ax=plt.subplots(1,3,figsize=(18,6))\n",
    "for iax in ax:\n",
    "    viz_tools.set_aspect(iax, coords = 'map')\n",
    "    viz_tools.plot_coastline(iax, grid, coords = 'map')\n",
    "    #iax.set_ylim(48, 50.5)\n",
    "    #iax.set_xlim(-125.7, -122.5);\n",
    "    iax.set_ylim(47, 52)\n",
    "    iax.set_xlim(-130, -122);\n",
    "ax[0].plot(df.loc[(df['Salinity']>0)&(df['Temperature']>0),['Lon']],\n",
    "                    df.loc[(df['Salinity']>0)&(df['Temperature']>0),['Lat']],'ro')\n",
    "ax[1].plot(df.loc[(df['Salinity_T0_C0']>0)&(df['Temperature_Primary']>0),['Lon']],\n",
    "                    df.loc[(df['Salinity_T0_C0']>0)&(df['Temperature_Primary']>0),['Lat']],'co')\n",
    "ax[2].plot(df.loc[(df['Salinity_T1_C1']>0)&(df['Temperature_Secondary']>0),['Lon']],\n",
    "                    df.loc[(df['Salinity_T1_C1']>0)&(df['Temperature_Secondary']>0),['Lat']],'mo')"
   ]
  },
  {
   "cell_type": "code",
   "execution_count": 38,
   "metadata": {},
   "outputs": [
    {
     "name": "stderr",
     "output_type": "stream",
     "text": [
      "/data/eolson/results/MEOPAR/tools/SalishSeaTools/salishsea_tools/viz_tools.py:123: UserWarning: No contour levels were found within the data range.\n",
      "  contour_lines = axes.contour(\n"
     ]
    },
    {
     "data": {
      "text/plain": [
       "[<matplotlib.lines.Line2D at 0x7f2a072ee730>]"
      ]
     },
     "execution_count": 38,
     "metadata": {},
     "output_type": "execute_result"
    },
    {
     "data": {
      "image/png": "[encoded data removed]",
      "text/plain": [
       "<Figure size 1296x432 with 3 Axes>"
      ]
     },
     "metadata": {
      "needs_background": "light"
     },
     "output_type": "display_data"
    }
   ],
   "source": [
    "fig,ax=plt.subplots(1,3,figsize=(18,6))\n",
    "for iax in ax:\n",
    "    viz_tools.set_aspect(iax, coords = 'map')\n",
    "    viz_tools.plot_coastline(iax, grid, coords = 'map')\n",
    "    #iax.set_ylim(48, 50.5)\n",
    "    #iax.set_xlim(-125.7, -122.5);\n",
    "    iax.set_ylim(47, 52)\n",
    "    iax.set_xlim(-130, -122);\n",
    "ax[0].plot(df.loc[(df['Salinity']>0)&(df['Temperature']>0),['Lon']],\n",
    "                    df.loc[(df['Salinity']>0)&(df['Temperature']>0),['Lat']],'ro')\n",
    "ax[1].plot(df.loc[(df['Salinity_T0_C0']>0)&(df['Temperature_Primary']>0),['Lon']],\n",
    "                    df.loc[(df['Salinity_T0_C0']>0)&(df['Temperature_Primary']>0),['Lat']],'co')\n",
    "ax[2].plot(df.loc[(df['Salinity_T1_C1']>0)&(df['Temperature_Secondary']>0),['Lon']],\n",
    "                    df.loc[(df['Salinity_T1_C1']>0)&(df['Temperature_Secondary']>0),['Lat']],'mo')"
   ]
  },
  {
   "cell_type": "code",
   "execution_count": 39,
   "metadata": {},
   "outputs": [
    {
     "ename": "NameError",
     "evalue": "name 'AncTBL' is not defined",
     "output_type": "error",
     "traceback": [
      "\u001b[0;31m---------------------------------------------------------------------------\u001b[0m",
      "\u001b[0;31mNameError\u001b[0m                                 Traceback (most recent call last)",
      "\u001b[0;32m<ipython-input-39-58e0059c01f5>\u001b[0m in \u001b[0;36m<module>\u001b[0;34m\u001b[0m\n\u001b[0;32m----> 1\u001b[0;31m \u001b[0mmodels\u001b[0m\u001b[0;34m=\u001b[0m\u001b[0msession\u001b[0m\u001b[0;34m.\u001b[0m\u001b[0mquery\u001b[0m\u001b[0;34m(\u001b[0m\u001b[0mAncTBL\u001b[0m\u001b[0;34m.\u001b[0m\u001b[0mMODEL\u001b[0m\u001b[0;34m)\u001b[0m\u001b[0;34m.\u001b[0m\u001b[0mdistinct\u001b[0m\u001b[0;34m(\u001b[0m\u001b[0;34m)\u001b[0m\u001b[0;34m.\u001b[0m\u001b[0mall\u001b[0m\u001b[0;34m(\u001b[0m\u001b[0;34m)\u001b[0m\u001b[0;34m\u001b[0m\u001b[0;34m\u001b[0m\u001b[0m\n\u001b[0m",
      "\u001b[0;31mNameError\u001b[0m: name 'AncTBL' is not defined"
     ]
    }
   ],
   "source": [
    "models=session.query(AncTBL.MODEL).distinct().all()"
   ]
  },
  {
   "cell_type": "code",
   "execution_count": null,
   "metadata": {},
   "outputs": [],
   "source": [
    "models"
   ]
  },
  {
   "cell_type": "code",
   "execution_count": null,
   "metadata": {},
   "outputs": [],
   "source": [
    "## Where are CastAway stations?\n",
    "qry=session.query(StationTBL.StartYear.label('Year'),StationTBL.StartMonth.label('Month'),\n",
    "                      StationTBL.StartDay.label('Day'),StationTBL.StartHour.label('Hour'),\n",
    "                      StationTBL.Lat,StationTBL.Lon,\n",
    "                     ObsTBL.Depth,ObsTBL.Pressure,ObsTBL.Salinity,\n",
    "                  ObsTBL.Salinity_T0_C0,ObsTBL.Salinity_T1_C1,\n",
    "                    ObsTBL.Temperature,ObsTBL.Temperature_Primary,ObsTBL.Temperature_Secondary,ObsTBL.sourceFile).\\\n",
    "                select_from(StationTBL).join(ObsTBL,ObsTBL.StationTBLID==StationTBL.ID).\\\n",
    "                join(AncTBL,AncTBL.StationTBLID==StationTBL.ID).\\\n",
    "                filter(AncTBL.MODEL=='CastAway')\n",
    "fig,ax=plt.subplots(1,3,figsize=(18,6))\n",
    "for iax in ax:\n",
    "    viz_tools.set_aspect(iax, coords = 'map')\n",
    "    viz_tools.plot_coastline(iax, grid, coords = 'map')\n",
    "    #iax.set_ylim(48, 50.5)\n",
    "    #iax.set_xlim(-125.7, -122.5);\n",
    "    iax.set_ylim(47, 52)\n",
    "    iax.set_xlim(-130, -122);\n",
    "ax[0].plot(df.loc[(df['Salinity']>0)&(df['Temperature']>0),['Lon']],\n",
    "                    df.loc[(df['Salinity']>0)&(df['Temperature']>0),['Lat']],'ro')\n",
    "ax[1].plot(df.loc[(df['Salinity_T0_C0']>0)&(df['Temperature_Primary']>0),['Lon']],\n",
    "                    df.loc[(df['Salinity_T0_C0']>0)&(df['Temperature_Primary']>0),['Lat']],'co')\n",
    "ax[2].plot(df.loc[(df['Salinity_T1_C1']>0)&(df['Temperature_Secondary']>0),['Lon']],\n",
    "                    df.loc[(df['Salinity_T1_C1']>0)&(df['Temperature_Secondary']>0),['Lat']],'mo')"
   ]
  },
  {
   "cell_type": "code",
   "execution_count": null,
   "metadata": {},
   "outputs": [],
   "source": [
    "## Check CastAway profiles are excluded:\n",
    "qry=session.query(StationTBL.Include).select_from(StationTBL).join(AncTBL,AncTBL.StationTBLID==StationTBL.ID).\\\n",
    "    filter(AncTBL.MODEL=='CastAway').distinct().all()\n",
    "print('Station Include:',qry)"
   ]
  },
  {
   "cell_type": "code",
   "execution_count": null,
   "metadata": {},
   "outputs": [],
   "source": [
    "qry=session.query(ObsTBL.Include).select_from(ObsTBL).join(AncTBL,AncTBL.StationTBLID==ObsTBL.StationTBLID).\\\n",
    "    filter(AncTBL.MODEL=='CastAway').distinct().all()\n",
    "print('Obs Include:',qry)"
   ]
  },
  {
   "cell_type": "code",
   "execution_count": null,
   "metadata": {},
   "outputs": [],
   "source": [
    "test=session.query(AncTBL.StationTBLID).filter(AncTBL.MODEL=='CastAway').limit(5).all()\n",
    "test"
   ]
  },
  {
   "cell_type": "code",
   "execution_count": null,
   "metadata": {},
   "outputs": [],
   "source": [
    "pd.set_option('display.max_colwidth', -1)"
   ]
  },
  {
   "cell_type": "code",
   "execution_count": null,
   "metadata": {},
   "outputs": [],
   "source": []
  },
  {
   "cell_type": "code",
   "execution_count": null,
   "metadata": {},
   "outputs": [],
   "source": [
    "df=pd.DataFrame(session.query(ObsTBL.StationTBLID,ObsTBL.Pressure,ObsTBL.sourceFile).filter(ObsTBL.StationTBLID==2220).limit(5))"
   ]
  },
  {
   "cell_type": "code",
   "execution_count": null,
   "metadata": {},
   "outputs": [],
   "source": [
    "df"
   ]
  },
  {
   "cell_type": "code",
   "execution_count": null,
   "metadata": {},
   "outputs": [],
   "source": [
    "test=session.query(ObsTBL.StationTBLID).distinct().order_by(ObsTBL.StationTBLID).all()"
   ]
  },
  {
   "cell_type": "code",
   "execution_count": null,
   "metadata": {},
   "outputs": [],
   "source": [
    "plt.plot(test)"
   ]
  },
  {
   "cell_type": "code",
   "execution_count": null,
   "metadata": {},
   "outputs": [],
   "source": [
    "df=pd.DataFrame(session.query(StationTBL.sourceFile).filter(StationTBL.ID==2220).all())"
   ]
  },
  {
   "cell_type": "code",
   "execution_count": null,
   "metadata": {},
   "outputs": [],
   "source": [
    "df"
   ]
  },
  {
   "cell_type": "code",
   "execution_count": null,
   "metadata": {},
   "outputs": [],
   "source": [
    "qry=session.query(StationTBL.StartYear.label('Year'),StationTBL.StartMonth.label('Month'),\n",
    "                      StationTBL.StartDay.label('Day'),StationTBL.StartHour.label('Hour'),\n",
    "                      StationTBL.Lat,StationTBL.Lon,\n",
    "                     ObsTBL.Depth,ObsTBL.Pressure,ObsTBL.Salinity,\n",
    "                  ObsTBL.Salinity_T0_C0,ObsTBL.Salinity_T1_C1,\n",
    "                    ObsTBL.Temperature,ObsTBL.Temperature_Primary,ObsTBL.Temperature_Secondary,ObsTBL.sourceFile).\\\n",
    "                select_from(StationTBL).join(ObsTBL,ObsTBL.StationTBLID==StationTBL.ID).\\\n",
    "                join(AncTBL,AncTBL.StationTBLID==StationTBL.ID).\\\n",
    "                filter(and_(StationTBL.Lat>47-3/2.5*(StationTBL.Lon+123.5),\n",
    "                            StationTBL.Lat<47-3/2.5*(StationTBL.Lon+121),AncTBL.MODEL!='CastAway'))\n",
    "df=pd.DataFrame(qry.all())\n",
    "fig,ax=plt.subplots(1,3,figsize=(18,6))\n",
    "ax[0].plot(df['Salinity'],df['Temperature'],'r.')\n",
    "ax[1].plot(df['Salinity_T0_C0'],df['Temperature_Primary'],'c.')\n",
    "ax[2].plot(df['Salinity_T1_C1'],df['Temperature_Secondary'],'m.')"
   ]
  },
  {
   "cell_type": "code",
   "execution_count": null,
   "metadata": {},
   "outputs": [],
   "source": [
    "qry=session.query(StationTBL.StartYear.label('Year'),StationTBL.StartMonth.label('Month'),\n",
    "                      StationTBL.StartDay.label('Day'),StationTBL.StartHour.label('Hour'),\n",
    "                      StationTBL.Lat,StationTBL.Lon,\n",
    "                     ObsTBL.Depth,ObsTBL.Pressure,ObsTBL.Salinity,\n",
    "                  ObsTBL.Salinity_T0_C0,ObsTBL.Salinity_T1_C1,\n",
    "                    ObsTBL.Temperature,ObsTBL.Temperature_Primary,ObsTBL.Temperature_Secondary,ObsTBL.sourceFile).\\\n",
    "                select_from(StationTBL).join(ObsTBL,ObsTBL.StationTBLID==StationTBL.ID).\\\n",
    "                filter(and_(StationTBL.Lat>47-3/2.5*(StationTBL.Lon+123.5),\n",
    "                            StationTBL.Lat<47-3/2.5*(StationTBL.Lon+121),StationTBL.Include==True))\n",
    "df=pd.DataFrame(qry.all())\n",
    "fig,ax=plt.subplots(1,3,figsize=(18,6))\n",
    "ax[0].plot(df['Salinity'],df['Temperature'],'r.')\n",
    "ax[1].plot(df['Salinity_T0_C0'],df['Temperature_Primary'],'c.')\n",
    "ax[2].plot(df['Salinity_T1_C1'],df['Temperature_Secondary'],'m.')"
   ]
  },
  {
   "cell_type": "code",
   "execution_count": null,
   "metadata": {},
   "outputs": [],
   "source": [
    "# search for duplicate stations and investigate:\n",
    "a1=aliased(StationTBL)\n",
    "a2=aliased(StationTBL)\n",
    "dupsQRY=session.query(a1.ID.label('ID1'),a1.Include,a2.ID.label('ID2'),a2.Include,a1.sourceFile.label('source1'),a2.sourceFile.label('source2'),\n",
    "                      a1.AGENCY.label('AGENCY1'),a2.AGENCY.label('AGENCY2'),a1.MODEL.label('MODEL1'),a2.MODEL.label('MODEL2'),\n",
    "                     a1.EVENT_NUMBER.label('EVENT_NUMBER1'),a2.EVENT_NUMBER.label('EVENT_NUMBER2'),\n",
    "                     a1.PLATFORM.label('PLATFORM1'),a2.PLATFORM.label('PLATFORM2'),\n",
    "                     a1.STATION.label('STATION1'),a2.STATION.label('STATION2'),\n",
    "                     a1.WATER_DEPTH.label('WATER_DEPTH1'),a2.WATER_DEPTH.label('WATER_DEPTH2')).select_from(a1).join(a2,and_(\n",
    "    a1.StartYear==a2.StartYear,\n",
    "    a1.StartMonth==a2.StartMonth,\n",
    "    a1.StartDay==a2.StartDay,\n",
    "    a1.StartHour-a2.StartHour<0.001,\n",
    "    a1.StartHour-a2.StartHour>-0.001,\n",
    "    a1.Lat-a2.Lat<0.001,\n",
    "    a1.Lat-a2.Lat>-0.001,\n",
    "    a1.Lon-a2.Lon<0.001,\n",
    "    a1.Lon-a2.Lon>-0.001,\n",
    "    a1.ID!=a2.ID)).filter(a1.Include==True,a2.Include==True,a1.ID<a2.ID)\n",
    "# columns below were identical for each pair:\n",
    "#                     a1.DATA_DESCRIPTION.label('DATA_DESCRIPTION1'),a2.DATA_DESCRIPTION.label('DATA_DESCRIPTION2'),\n",
    "#                     a1.SCIENTIST.label('SCIENTIST1'),a2.SCIENTIST.label('SCIENTIST2'),\n",
    "#                      a1.COUNTRY.label('COUNTRY1'),a2.COUNTRY.label('COUNTRY2'),\n",
    "#                     a1.MISSION.label('MISSION1'),a2.MISSION.label('MISSION2'),\n",
    "#                     a1.PROJECT.label('PROJECT1'),a2.PROJECT.label('PROJECT2'),\n",
    "#                     a1.WSPD.label('WSPD1'),a2.WSPD.label('WSPD2')"
   ]
  },
  {
   "cell_type": "code",
   "execution_count": null,
   "metadata": {},
   "outputs": [],
   "source": [
    "# search for duplicate stations and investigate:\n",
    "a1=aliased(StationTBL)\n",
    "a2=aliased(StationTBL)\n",
    "dupsQRY=session.query(a1.ID.label('ID1'),a1.Include,a2.ID.label('ID2'),a2.Include,a1.sourceFile.label('source1'),\n",
    "                      a2.sourceFile.label('source2'),\n",
    "                     a1.EVENT_NUMBER.label('EVENT_NUMBER1'),a2.EVENT_NUMBER.label('EVENT_NUMBER2'),\n",
    "                     a1.PLATFORM.label('PLATFORM1'),a2.PLATFORM.label('PLATFORM2'),\n",
    "                     a1.STATION.label('STATION1'),a2.STATION.label('STATION2'),\n",
    "                     a1.WATER_DEPTH.label('WATER_DEPTH1'),a2.WATER_DEPTH.label('WATER_DEPTH2')).\\\n",
    "            select_from(a1).join(a2,and_(\n",
    "    a1.StartYear==a2.StartYear,\n",
    "    a1.StartMonth==a2.StartMonth,\n",
    "    a1.StartDay==a2.StartDay,\n",
    "    a1.StartHour-a2.StartHour<0.001,\n",
    "    a1.StartHour-a2.StartHour>-0.001,\n",
    "    a1.Lat-a2.Lat<0.001,\n",
    "    a1.Lat-a2.Lat>-0.001,\n",
    "    a1.Lon-a2.Lon<0.001,\n",
    "    a1.Lon-a2.Lon>-0.001,\n",
    "    a1.ID!=a2.ID)).filter(a1.Include==True,a2.Include==True,a1.ID<a2.ID)\n",
    "# columns below were identical for each pair:\n",
    "#                     a1.DATA_DESCRIPTION.label('DATA_DESCRIPTION1'),a2.DATA_DESCRIPTION.label('DATA_DESCRIPTION2'),\n",
    "#                     a1.SCIENTIST.label('SCIENTIST1'),a2.SCIENTIST.label('SCIENTIST2'),\n",
    "#                      a1.COUNTRY.label('COUNTRY1'),a2.COUNTRY.label('COUNTRY2'),\n",
    "#                     a1.MISSION.label('MISSION1'),a2.MISSION.label('MISSION2'),\n",
    "#                     a1.PROJECT.label('PROJECT1'),a2.PROJECT.label('PROJECT2'),\n",
    "#                     a1.WSPD.label('WSPD1'),a2.WSPD.label('WSPD2')"
   ]
  },
  {
   "cell_type": "code",
   "execution_count": null,
   "metadata": {},
   "outputs": [],
   "source": [
    "dfa=pd.DataFrame(dupsQRY.all())"
   ]
  },
  {
   "cell_type": "code",
   "execution_count": null,
   "metadata": {},
   "outputs": [],
   "source": [
    "dfa"
   ]
  },
  {
   "cell_type": "code",
   "execution_count": null,
   "metadata": {},
   "outputs": [],
   "source": [
    "pd.set_option('display.max_colwidth', -1)"
   ]
  },
  {
   "cell_type": "code",
   "execution_count": null,
   "metadata": {},
   "outputs": [],
   "source": [
    "pd.set_option('display.max_rows', 200)"
   ]
  },
  {
   "cell_type": "code",
   "execution_count": null,
   "metadata": {
    "scrolled": false
   },
   "outputs": [],
   "source": [
    "dfa[['source1','source2']]"
   ]
  },
  {
   "cell_type": "code",
   "execution_count": null,
   "metadata": {},
   "outputs": [],
   "source": [
    "dfa['sourceA1']=[i[-45:] for i in dfa['source1']]\n",
    "dfa['sourceA2']=[i[-45:] for i in dfa['source2']]"
   ]
  },
  {
   "cell_type": "raw",
   "metadata": {},
   "source": [
    "dfa.drop(['source1','source2'],axis=1,inplace=True)"
   ]
  },
  {
   "cell_type": "code",
   "execution_count": null,
   "metadata": {},
   "outputs": [],
   "source": [
    "len(dfa)"
   ]
  },
  {
   "cell_type": "code",
   "execution_count": null,
   "metadata": {},
   "outputs": [],
   "source": [
    "dfa"
   ]
  },
  {
   "cell_type": "code",
   "execution_count": null,
   "metadata": {},
   "outputs": [],
   "source": [
    "for i,r in dfa.iterrows():\n",
    "    print(r['source1'],r['source2'])"
   ]
  },
  {
   "cell_type": "code",
   "execution_count": null,
   "metadata": {},
   "outputs": [],
   "source": [
    "# in case of duplicates, take only one profile entry at each depth\n",
    "a1=aliased(StationTBL)\n",
    "a2=aliased(StationTBL)\n",
    "dupsQRY=session.query(a1.ID.label('ID1'),a2.ID.label('ID2')).select_from(a1).join(a2,and_(\n",
    "    a1.StartYear==a2.StartYear,\n",
    "    a1.StartMonth==a2.StartMonth,\n",
    "    a1.StartDay==a2.StartDay,\n",
    "    a1.StartHour-a2.StartHour<0.001,\n",
    "    a1.StartHour-a2.StartHour>-0.001,\n",
    "    a1.Lat-a2.Lat<0.001,\n",
    "    a1.Lat-a2.Lat>-0.001,\n",
    "    a1.Lon-a2.Lon<0.001,\n",
    "    a1.Lon-a2.Lon>-0.001,\n",
    "    a1.ID!=a2.ID)).filter(a1.Include==True,a2.Include==True,a1.ID<a2.ID)"
   ]
  },
  {
   "cell_type": "raw",
   "metadata": {},
   "source": [
    "for aID, bID in dupsQRY.all():\n",
    "    for obsID, in session0.query(ObsTBL0.ID).filter(ObsTBL0.StationTBLID==bID).all():\n",
    "        Rec=session0.query(ObsTBL0).filter(ObsTBL0.ID==obsID).one()\n",
    "        setattr(Rec,'StationTBLID',aID)\n",
    "    session0.commit()"
   ]
  },
  {
   "cell_type": "raw",
   "metadata": {},
   "source": [
    "for aID, bID in dupsQRY.all():\n",
    "    # set include to false for second station entry\n",
    "    print(aID,bID)\n",
    "    sRec=session.query(StationTBL).filter(StationTBL.ID==bID)\n",
    "    setattr(sRec,'Include',False)\n",
    "    # find all depths in ObsTBL records associated with second station entry \n",
    "    # that are also present in records associated with first station entry\n",
    "    # and set their Include to False\n",
    "    # base depths on pressure because it is present in all records\n",
    "    zs1=[pp for pp, in session.query(ObsTBL.Pressure).filter(ObsTBL.StationTBLID==aID).all()]\n",
    "    zs2=[pp for pp, in session.query(ObsTBL.Pressure).filter(ObsTBL.StationTBLID==bID).all()]\n",
    "    for i2 in zs2:\n",
    "        if np.min([np.abs(i2-i1) for i1 in zs1])<=0.5:\n",
    "            oRec=session.query(ObsTBL).filter(and_(ObsTBL.StationTBLID==bID,ObsTBL.Pressure==i2)).one()\n",
    "            setattr(oRec,'Include',False)\n",
    "    # associate all records previously associated with second station entry with first entry\n",
    "    for obsID, in session.query(ObsTBL.ID).filter(ObsTBL.StationTBLID==bID).all():\n",
    "        Rec=session.query(ObsTBL).filter(ObsTBL.ID==obsID).one()\n",
    "        setattr(Rec,'StationTBLID',aID)\n",
    "    session.commit()"
   ]
  },
  {
   "cell_type": "raw",
   "metadata": {
    "collapsed": true
   },
   "source": [
    "zs1=[pp for pp, in session.query(ObsTBL.Pressure).filter(ObsTBL.StationTBLID==aID).all()]"
   ]
  },
  {
   "cell_type": "code",
   "execution_count": null,
   "metadata": {},
   "outputs": [],
   "source": [
    "q=session.query(ObsTBL.ID,ObsTBL.StationTBLID,ObsTBL.Pressure,ObsTBL.Include,ObsTBL.sourceFile).filter(or_(ObsTBL.StationTBLID==120,ObsTBL.StationTBLID==135)).order_by(ObsTBL.Pressure)\n",
    "dftemp=pd.DataFrame(q.all())\n",
    "dftemp['FileEnd']=[ii[-10:] for ii in dftemp['sourceFile']]\n",
    "dftemp"
   ]
  },
  {
   "cell_type": "markdown",
   "metadata": {
    "collapsed": true
   },
   "source": [
    "def delist(el):\n",
    "    sh=np.shape(el)\n",
    "    if len(sh)==0:\n",
    "        iel=el\n",
    "    elif (len(sh)==1) and (sh[0]==1):\n",
    "        iel= el[0]\n",
    "    else:\n",
    "        raise Exception('item passed to delist was not a single value or a single value array; it was: {}'.format(el))\n",
    "    return iel"
   ]
  },
  {
   "cell_type": "code",
   "execution_count": null,
   "metadata": {},
   "outputs": [],
   "source": [
    "grid.close()"
   ]
  },
  {
   "cell_type": "code",
   "execution_count": null,
   "metadata": {},
   "outputs": [],
   "source": []
  }
 ],
 "metadata": {
  "anaconda-cloud": {},
  "kernelspec": {
   "display_name": "Python (py38_ct)",
   "language": "python",
   "name": "py38_ct"
  },
  "language_info": {
   "codemirror_mode": {
    "name": "ipython",
    "version": 3
   },
   "file_extension": ".py",
   "mimetype": "text/x-python",
   "name": "python",
   "nbconvert_exporter": "python",
   "pygments_lexer": "ipython3",
   "version": "3.8.2"
  }
 },
 "nbformat": 4,
 "nbformat_minor": 1
}
