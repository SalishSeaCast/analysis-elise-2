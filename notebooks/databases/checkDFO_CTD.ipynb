{
 "cells": [
  {
   "cell_type": "code",
   "execution_count": 1,
   "metadata": {},
   "outputs": [],
   "source": [
    "import datetime as dt\n",
    "import numpy as np\n",
    "import netCDF4 as nc\n",
    "import pandas as pd\n",
    "import glob\n",
    "from salishsea_tools import geo_tools\n",
    "import gsw\n",
    "import os\n",
    "import pytz\n",
    "import matplotlib.pyplot as plt\n",
    "import cmocean as cmo\n",
    "import warnings\n",
    "from sqlalchemy import create_engine, case, MetaData\n",
    "from sqlalchemy.orm import create_session, aliased\n",
    "from sqlalchemy.ext.automap import automap_base\n",
    "from sqlalchemy.sql import and_, or_, not_, func\n",
    "from salishsea_tools import viz_tools\n",
    "\n",
    "pd.set_option('display.max_colwidth', -1)\n",
    "\n",
    "%matplotlib inline"
   ]
  },
  {
   "cell_type": "code",
   "execution_count": 2,
   "metadata": {},
   "outputs": [],
   "source": [
    "basedir='/ocean/shared/SalishSeaCastData/DFO/CTD/'\n",
    "dbname='DFO_CTD.sqlite'\n",
    "datelims=()"
   ]
  },
  {
   "cell_type": "code",
   "execution_count": 3,
   "metadata": {},
   "outputs": [],
   "source": [
    "engine = create_engine('sqlite:///' + basedir + dbname, echo = False)"
   ]
  },
  {
   "cell_type": "raw",
   "metadata": {
    "collapsed": true
   },
   "source": [
    "connection = engine.connect()"
   ]
  },
  {
   "cell_type": "raw",
   "metadata": {
    "collapsed": true
   },
   "source": [
    "def Sal_PSU_to_SA(S,press,lon,lat):\n",
    "    SA=gsw.SA_from_SP(S,press,lon,lat)\n",
    "    if SA>=40:\n",
    "        print('Err: SA=',SA,', None entered')\n",
    "        SA=None\n",
    "    elif SA<0:\n",
    "        SA=None\n",
    "        print('Err: SA=',SA,', None entered')\n",
    "    return(SA)\n",
    "\n",
    "def T_to_CT(SA,T,press):\n",
    "    CT=gsw.CT_from_t(SA,T,press)\n",
    "    if CT>=40:\n",
    "        print('Err: CT=',CT,', None entered')\n",
    "        CT=None\n",
    "    elif CT<-5:\n",
    "        CT=None\n",
    "        print('Err: CT=',CT,', None entered')\n",
    "    return(CT)\n",
    "\n",
    "def p_to_Z(press,lat):\n",
    "    Z=-1.0*gsw.z_from_p(press,lat)\n",
    "    return(Z)"
   ]
  },
  {
   "cell_type": "raw",
   "metadata": {
    "collapsed": true
   },
   "source": [
    "    connection.connection.create_function(\"Sal_PSU_to_SA_DB\",4,Sal_PSU_to_SA)\n",
    "    connection.connection.create_function(\"T_to_CT_DB\",3,T_to_CT)\n",
    "    connection.connection.create_function(\"p_to_Z_DB\",2,p_to_Z)"
   ]
  },
  {
   "cell_type": "raw",
   "metadata": {},
   "source": [
    "connection.execute(\"\"\"UPDATE CalcsTBL SET \n",
    "                        Temperature_CT = T_to_CT_DB(CalcsTBL.Salinity_SA,ObsTBL.Temperature,ObsTBL.Pressure), \n",
    "                        Temperature_Primary_CT = T_to_CT_DB(CalcsTBL.Salinity_T0_C0_SA,ObsTBL.Temperature,ObsTBL.Pressure), \n",
    "                        Temperature_Secondary_CT = T_to_CT_DB(CalcsTBL.Salinity_T1_C1_SA,ObsTBL.Temperature,ObsTBL.Pressure),\n",
    "                        FROM ((CalcsTBL INNER JOIN ObsTBL ON CalcsTBL.ObsID = ObsTBL.ID) INNER JOIN StationTBL ON CalcsTBL.StationID = StationTBL.ID)\"\"\")"
   ]
  },
  {
   "cell_type": "raw",
   "metadata": {
    "collapsed": true
   },
   "source": [
    "test=connection.execute(\"\"\"SELECT T_to_CT_DB( CASE WHEN CalcsTBL.Salinity_T1_C1_SA IS NOT NULL THEN CalcsTBL.Salinity_T1_C1_SA\n",
    "                                 WHEN CalcsTBL.Salinity_T0_C0_SA IS NOT NULL THEN CalcsTBL.Salinity_T0_C0_SA\n",
    "                                 WHEN CalcsTBL.Salinity_SA IS NOT NULL THEN CalcsTBL.Salinity_SA\n",
    "                                 ELSE NULL END,ObsTBL.Temperature,ObsTBL.Pressure) as T1, \n",
    "                        T_to_CT_DB( CASE WHEN CalcsTBL.Salinity_T1_C1_SA IS NOT NULL THEN CalcsTBL.Salinity_T1_C1_SA\n",
    "                                 WHEN CalcsTBL.Salinity_T0_C0_SA IS NOT NULL THEN CalcsTBL.Salinity_T0_C0_SA\n",
    "                                 WHEN CalcsTBL.Salinity_SA IS NOT NULL THEN CalcsTBL.Salinity_SA\n",
    "                                 ELSE NULL END,ObsTBL.Temperature,ObsTBL.Pressure) as T2, \n",
    "                        T_to_CT_DB( CASE WHEN CalcsTBL.Salinity_T1_C1_SA IS NOT NULL THEN CalcsTBL.Salinity_T1_C1_SA\n",
    "                                 WHEN CalcsTBL.Salinity_T0_C0_SA IS NOT NULL THEN CalcsTBL.Salinity_T0_C0_SA\n",
    "                                 WHEN CalcsTBL.Salinity_SA IS NOT NULL THEN CalcsTBL.Salinity_SA\n",
    "                                 ELSE NULL END,ObsTBL.Temperature,ObsTBL.Pressure) as T3\n",
    "                        FROM CalcsTBL INNER JOIN ObsTBL ON CalcsTBL.ObsID = ObsTBL.ID INNER JOIN StationTBL ON CalcsTBL.StationID = StationTBL.ID;\"\"\")\n"
   ]
  },
  {
   "cell_type": "raw",
   "metadata": {},
   "source": [
    "ii=0\n",
    "for row in test:\n",
    "    ii=ii+1\n",
    "    if (ii>100)&(ii<120):\n",
    "        print(row)"
   ]
  },
  {
   "cell_type": "code",
   "execution_count": 4,
   "metadata": {},
   "outputs": [],
   "source": [
    "grid = nc.Dataset('/data/eolson/MEOPAR/NEMO-forcing-new/grid/bathymetry_201702.nc')"
   ]
  },
  {
   "cell_type": "code",
   "execution_count": 5,
   "metadata": {},
   "outputs": [],
   "source": [
    "md=MetaData()\n",
    "md.reflect(engine)\n",
    "Base = automap_base(metadata=md)\n",
    "# reflect the tables in salish.sqlite:\n",
    "Base.prepare()\n",
    "# mapped classes have been created\n",
    "# existing tables:\n",
    "StationTBL=Base.classes.StationTBL\n",
    "ObsTBL=Base.classes.ObsTBL\n",
    "CalcsTBL=Base.classes.CalcsTBL\n",
    "AncTBL=Base.classes.AncillaryTBL\n",
    "#JDFLocsTBL=Base.classes.JDFLocsTBL\n",
    "session = create_session(bind = engine, autocommit = False, autoflush = True)"
   ]
  },
  {
   "cell_type": "code",
   "execution_count": 6,
   "metadata": {},
   "outputs": [],
   "source": [
    "qry=session.query(ObsTBL.Depth,ObsTBL.Pressure,CalcsTBL.Z,ObsTBL.Salinity,ObsTBL.Salinity_T0_C0,ObsTBL.Salinity_T1_C1,CalcsTBL.Salinity_SA,CalcsTBL.Salinity_T0_C0_SA,CalcsTBL.Salinity_T1_C1_SA,\n",
    "                  CalcsTBL.Temperature_CT,CalcsTBL.Temperature_Primary_CT,CalcsTBL.Temperature_Secondary_CT).\\\n",
    "    select_from(CalcsTBL).join(ObsTBL,ObsTBL.ID==CalcsTBL.ObsTBLID).filter(ObsTBL.Depth==ObsTBL.Depth).all()"
   ]
  },
  {
   "cell_type": "code",
   "execution_count": 7,
   "metadata": {},
   "outputs": [],
   "source": [
    "df=pd.DataFrame(qry)"
   ]
  },
  {
   "cell_type": "code",
   "execution_count": 8,
   "metadata": {},
   "outputs": [
    {
     "data": {
      "text/html": [
       "<div>\n",
       "<style scoped>\n",
       "    .dataframe tbody tr th:only-of-type {\n",
       "        vertical-align: middle;\n",
       "    }\n",
       "\n",
       "    .dataframe tbody tr th {\n",
       "        vertical-align: top;\n",
       "    }\n",
       "\n",
       "    .dataframe thead th {\n",
       "        text-align: right;\n",
       "    }\n",
       "</style>\n",
       "<table border=\"1\" class=\"dataframe\">\n",
       "  <thead>\n",
       "    <tr style=\"text-align: right;\">\n",
       "      <th></th>\n",
       "      <th>Depth</th>\n",
       "      <th>Pressure</th>\n",
       "      <th>Z</th>\n",
       "      <th>Salinity</th>\n",
       "      <th>Salinity_T0_C0</th>\n",
       "      <th>Salinity_T1_C1</th>\n",
       "      <th>Salinity_SA</th>\n",
       "      <th>Salinity_T0_C0_SA</th>\n",
       "      <th>Salinity_T1_C1_SA</th>\n",
       "      <th>Temperature_CT</th>\n",
       "      <th>Temperature_Primary_CT</th>\n",
       "      <th>Temperature_Secondary_CT</th>\n",
       "    </tr>\n",
       "  </thead>\n",
       "  <tbody>\n",
       "    <tr>\n",
       "      <th>count</th>\n",
       "      <td>1.063996e+06</td>\n",
       "      <td>1.063996e+06</td>\n",
       "      <td>1.063996e+06</td>\n",
       "      <td>36266.000000</td>\n",
       "      <td>818468.000000</td>\n",
       "      <td>207732.000000</td>\n",
       "      <td>36266.000000</td>\n",
       "      <td>818468.000000</td>\n",
       "      <td>207732.000000</td>\n",
       "      <td>36266.000000</td>\n",
       "      <td>818466.000000</td>\n",
       "      <td>207732.000000</td>\n",
       "    </tr>\n",
       "    <tr>\n",
       "      <th>mean</th>\n",
       "      <td>4.848780e+02</td>\n",
       "      <td>4.904283e+02</td>\n",
       "      <td>4.848602e+02</td>\n",
       "      <td>21.883578</td>\n",
       "      <td>32.289047</td>\n",
       "      <td>32.635112</td>\n",
       "      <td>21.989125</td>\n",
       "      <td>32.451615</td>\n",
       "      <td>32.800109</td>\n",
       "      <td>10.172972</td>\n",
       "      <td>7.075404</td>\n",
       "      <td>6.463621</td>\n",
       "    </tr>\n",
       "    <tr>\n",
       "      <th>std</th>\n",
       "      <td>5.835839e+02</td>\n",
       "      <td>5.913095e+02</td>\n",
       "      <td>5.835957e+02</td>\n",
       "      <td>10.375783</td>\n",
       "      <td>2.077741</td>\n",
       "      <td>2.030878</td>\n",
       "      <td>10.425777</td>\n",
       "      <td>2.093501</td>\n",
       "      <td>2.046430</td>\n",
       "      <td>2.438540</td>\n",
       "      <td>3.142686</td>\n",
       "      <td>2.892630</td>\n",
       "    </tr>\n",
       "    <tr>\n",
       "      <th>min</th>\n",
       "      <td>1.000000e-01</td>\n",
       "      <td>0.000000e+00</td>\n",
       "      <td>0.000000e+00</td>\n",
       "      <td>0.030000</td>\n",
       "      <td>3.692200</td>\n",
       "      <td>9.435800</td>\n",
       "      <td>0.030145</td>\n",
       "      <td>3.710085</td>\n",
       "      <td>9.481491</td>\n",
       "      <td>2.341295</td>\n",
       "      <td>1.414291</td>\n",
       "      <td>1.412261</td>\n",
       "    </tr>\n",
       "    <tr>\n",
       "      <th>25%</th>\n",
       "      <td>7.830000e+01</td>\n",
       "      <td>7.900000e+01</td>\n",
       "      <td>7.831750e+01</td>\n",
       "      <td>22.080000</td>\n",
       "      <td>30.666900</td>\n",
       "      <td>30.767275</td>\n",
       "      <td>22.186822</td>\n",
       "      <td>30.816571</td>\n",
       "      <td>30.918819</td>\n",
       "      <td>7.817325</td>\n",
       "      <td>4.033313</td>\n",
       "      <td>3.697934</td>\n",
       "    </tr>\n",
       "    <tr>\n",
       "      <th>50%</th>\n",
       "      <td>2.160000e+02</td>\n",
       "      <td>2.180000e+02</td>\n",
       "      <td>2.160315e+02</td>\n",
       "      <td>26.610000</td>\n",
       "      <td>32.546300</td>\n",
       "      <td>33.895500</td>\n",
       "      <td>26.737975</td>\n",
       "      <td>32.702707</td>\n",
       "      <td>34.061461</td>\n",
       "      <td>10.368842</td>\n",
       "      <td>8.270452</td>\n",
       "      <td>7.173339</td>\n",
       "    </tr>\n",
       "    <tr>\n",
       "      <th>75%</th>\n",
       "      <td>7.373000e+02</td>\n",
       "      <td>7.450000e+02</td>\n",
       "      <td>7.373297e+02</td>\n",
       "      <td>28.130000</td>\n",
       "      <td>34.246900</td>\n",
       "      <td>34.326200</td>\n",
       "      <td>28.266203</td>\n",
       "      <td>34.425831</td>\n",
       "      <td>34.507366</td>\n",
       "      <td>11.491793</td>\n",
       "      <td>9.558143</td>\n",
       "      <td>8.886104</td>\n",
       "    </tr>\n",
       "    <tr>\n",
       "      <th>max</th>\n",
       "      <td>3.230600e+03</td>\n",
       "      <td>3.283600e+03</td>\n",
       "      <td>3.230645e+03</td>\n",
       "      <td>32.755500</td>\n",
       "      <td>34.650100</td>\n",
       "      <td>34.649100</td>\n",
       "      <td>32.913410</td>\n",
       "      <td>34.839190</td>\n",
       "      <td>34.838142</td>\n",
       "      <td>22.364380</td>\n",
       "      <td>20.877578</td>\n",
       "      <td>19.875480</td>\n",
       "    </tr>\n",
       "  </tbody>\n",
       "</table>\n",
       "</div>"
      ],
      "text/plain": [
       "              Depth      Pressure             Z      Salinity  Salinity_T0_C0  \\\n",
       "count  1.063996e+06  1.063996e+06  1.063996e+06  36266.000000  818468.000000    \n",
       "mean   4.848780e+02  4.904283e+02  4.848602e+02  21.883578     32.289047        \n",
       "std    5.835839e+02  5.913095e+02  5.835957e+02  10.375783     2.077741         \n",
       "min    1.000000e-01  0.000000e+00  0.000000e+00  0.030000      3.692200         \n",
       "25%    7.830000e+01  7.900000e+01  7.831750e+01  22.080000     30.666900        \n",
       "50%    2.160000e+02  2.180000e+02  2.160315e+02  26.610000     32.546300        \n",
       "75%    7.373000e+02  7.450000e+02  7.373297e+02  28.130000     34.246900        \n",
       "max    3.230600e+03  3.283600e+03  3.230645e+03  32.755500     34.650100        \n",
       "\n",
       "       Salinity_T1_C1   Salinity_SA  Salinity_T0_C0_SA  Salinity_T1_C1_SA  \\\n",
       "count  207732.000000   36266.000000  818468.000000      207732.000000       \n",
       "mean   32.635112       21.989125     32.451615          32.800109           \n",
       "std    2.030878        10.425777     2.093501           2.046430            \n",
       "min    9.435800        0.030145      3.710085           9.481491            \n",
       "25%    30.767275       22.186822     30.816571          30.918819           \n",
       "50%    33.895500       26.737975     32.702707          34.061461           \n",
       "75%    34.326200       28.266203     34.425831          34.507366           \n",
       "max    34.649100       32.913410     34.839190          34.838142           \n",
       "\n",
       "       Temperature_CT  Temperature_Primary_CT  Temperature_Secondary_CT  \n",
       "count  36266.000000    818466.000000           207732.000000             \n",
       "mean   10.172972       7.075404                6.463621                  \n",
       "std    2.438540        3.142686                2.892630                  \n",
       "min    2.341295        1.414291                1.412261                  \n",
       "25%    7.817325        4.033313                3.697934                  \n",
       "50%    10.368842       8.270452                7.173339                  \n",
       "75%    11.491793       9.558143                8.886104                  \n",
       "max    22.364380       20.877578               19.875480                 "
      ]
     },
     "execution_count": 8,
     "metadata": {},
     "output_type": "execute_result"
    }
   ],
   "source": [
    "df.describe()"
   ]
  },
  {
   "cell_type": "markdown",
   "metadata": {},
   "source": [
    "### Look at cases where Depth and Z are different:"
   ]
  },
  {
   "cell_type": "code",
   "execution_count": 9,
   "metadata": {},
   "outputs": [
    {
     "data": {
      "text/plain": [
       "(-0.6590548136330314, 2.0)"
      ]
     },
     "execution_count": 9,
     "metadata": {},
     "output_type": "execute_result"
    }
   ],
   "source": [
    "np.min((df['Depth']-df['Z'])/(df['Z']+df['Depth'])*2),np.max((df['Depth']-df['Z'])/(df['Z']+df['Depth'])*2)"
   ]
  },
  {
   "cell_type": "code",
   "execution_count": 10,
   "metadata": {},
   "outputs": [
    {
     "data": {
      "text/html": [
       "<div>\n",
       "<style scoped>\n",
       "    .dataframe tbody tr th:only-of-type {\n",
       "        vertical-align: middle;\n",
       "    }\n",
       "\n",
       "    .dataframe tbody tr th {\n",
       "        vertical-align: top;\n",
       "    }\n",
       "\n",
       "    .dataframe thead th {\n",
       "        text-align: right;\n",
       "    }\n",
       "</style>\n",
       "<table border=\"1\" class=\"dataframe\">\n",
       "  <thead>\n",
       "    <tr style=\"text-align: right;\">\n",
       "      <th></th>\n",
       "      <th>Depth</th>\n",
       "      <th>Pressure</th>\n",
       "      <th>Z</th>\n",
       "      <th>Salinity</th>\n",
       "      <th>Salinity_T0_C0</th>\n",
       "      <th>Salinity_T1_C1</th>\n",
       "      <th>Salinity_SA</th>\n",
       "      <th>Salinity_T0_C0_SA</th>\n",
       "      <th>Salinity_T1_C1_SA</th>\n",
       "      <th>Temperature_CT</th>\n",
       "      <th>Temperature_Primary_CT</th>\n",
       "      <th>Temperature_Secondary_CT</th>\n",
       "    </tr>\n",
       "  </thead>\n",
       "  <tbody>\n",
       "    <tr>\n",
       "      <th>26905</th>\n",
       "      <td>2.3</td>\n",
       "      <td>2.0</td>\n",
       "      <td>1.982764</td>\n",
       "      <td>NaN</td>\n",
       "      <td>29.3926</td>\n",
       "      <td>NaN</td>\n",
       "      <td>NaN</td>\n",
       "      <td>29.534709</td>\n",
       "      <td>NaN</td>\n",
       "      <td>NaN</td>\n",
       "      <td>11.387468</td>\n",
       "      <td>NaN</td>\n",
       "    </tr>\n",
       "    <tr>\n",
       "      <th>1033661</th>\n",
       "      <td>1.3</td>\n",
       "      <td>1.0</td>\n",
       "      <td>0.991485</td>\n",
       "      <td>NaN</td>\n",
       "      <td>27.6416</td>\n",
       "      <td>NaN</td>\n",
       "      <td>NaN</td>\n",
       "      <td>27.775756</td>\n",
       "      <td>NaN</td>\n",
       "      <td>NaN</td>\n",
       "      <td>9.437533</td>\n",
       "      <td>NaN</td>\n",
       "    </tr>\n",
       "    <tr>\n",
       "      <th>1035199</th>\n",
       "      <td>1.1</td>\n",
       "      <td>2.0</td>\n",
       "      <td>1.982966</td>\n",
       "      <td>NaN</td>\n",
       "      <td>28.1208</td>\n",
       "      <td>NaN</td>\n",
       "      <td>NaN</td>\n",
       "      <td>28.257224</td>\n",
       "      <td>NaN</td>\n",
       "      <td>NaN</td>\n",
       "      <td>7.757864</td>\n",
       "      <td>NaN</td>\n",
       "    </tr>\n",
       "    <tr>\n",
       "      <th>1035200</th>\n",
       "      <td>2.6</td>\n",
       "      <td>3.0</td>\n",
       "      <td>2.974442</td>\n",
       "      <td>NaN</td>\n",
       "      <td>28.1204</td>\n",
       "      <td>NaN</td>\n",
       "      <td>NaN</td>\n",
       "      <td>28.256767</td>\n",
       "      <td>NaN</td>\n",
       "      <td>NaN</td>\n",
       "      <td>7.758590</td>\n",
       "      <td>NaN</td>\n",
       "    </tr>\n",
       "    <tr>\n",
       "      <th>1035585</th>\n",
       "      <td>1.3</td>\n",
       "      <td>2.0</td>\n",
       "      <td>1.982968</td>\n",
       "      <td>NaN</td>\n",
       "      <td>26.9449</td>\n",
       "      <td>NaN</td>\n",
       "      <td>NaN</td>\n",
       "      <td>27.075610</td>\n",
       "      <td>NaN</td>\n",
       "      <td>NaN</td>\n",
       "      <td>6.999719</td>\n",
       "      <td>NaN</td>\n",
       "    </tr>\n",
       "    <tr>\n",
       "      <th>...</th>\n",
       "      <td>...</td>\n",
       "      <td>...</td>\n",
       "      <td>...</td>\n",
       "      <td>...</td>\n",
       "      <td>...</td>\n",
       "      <td>...</td>\n",
       "      <td>...</td>\n",
       "      <td>...</td>\n",
       "      <td>...</td>\n",
       "      <td>...</td>\n",
       "      <td>...</td>\n",
       "      <td>...</td>\n",
       "    </tr>\n",
       "    <tr>\n",
       "      <th>1061645</th>\n",
       "      <td>0.6</td>\n",
       "      <td>1.0</td>\n",
       "      <td>0.991487</td>\n",
       "      <td>NaN</td>\n",
       "      <td>26.7720</td>\n",
       "      <td>NaN</td>\n",
       "      <td>NaN</td>\n",
       "      <td>26.901929</td>\n",
       "      <td>NaN</td>\n",
       "      <td>NaN</td>\n",
       "      <td>11.355665</td>\n",
       "      <td>NaN</td>\n",
       "    </tr>\n",
       "    <tr>\n",
       "      <th>1061646</th>\n",
       "      <td>1.6</td>\n",
       "      <td>2.0</td>\n",
       "      <td>1.982969</td>\n",
       "      <td>NaN</td>\n",
       "      <td>26.7388</td>\n",
       "      <td>NaN</td>\n",
       "      <td>NaN</td>\n",
       "      <td>26.868515</td>\n",
       "      <td>NaN</td>\n",
       "      <td>NaN</td>\n",
       "      <td>11.326563</td>\n",
       "      <td>NaN</td>\n",
       "    </tr>\n",
       "    <tr>\n",
       "      <th>1062429</th>\n",
       "      <td>2.5</td>\n",
       "      <td>3.0</td>\n",
       "      <td>2.974451</td>\n",
       "      <td>NaN</td>\n",
       "      <td>27.1881</td>\n",
       "      <td>NaN</td>\n",
       "      <td>NaN</td>\n",
       "      <td>27.319927</td>\n",
       "      <td>NaN</td>\n",
       "      <td>NaN</td>\n",
       "      <td>9.828560</td>\n",
       "      <td>NaN</td>\n",
       "    </tr>\n",
       "    <tr>\n",
       "      <th>1062810</th>\n",
       "      <td>1.2</td>\n",
       "      <td>2.0</td>\n",
       "      <td>1.982972</td>\n",
       "      <td>NaN</td>\n",
       "      <td>27.5068</td>\n",
       "      <td>NaN</td>\n",
       "      <td>NaN</td>\n",
       "      <td>27.640224</td>\n",
       "      <td>NaN</td>\n",
       "      <td>NaN</td>\n",
       "      <td>9.970379</td>\n",
       "      <td>NaN</td>\n",
       "    </tr>\n",
       "    <tr>\n",
       "      <th>1062811</th>\n",
       "      <td>2.5</td>\n",
       "      <td>3.0</td>\n",
       "      <td>2.974451</td>\n",
       "      <td>NaN</td>\n",
       "      <td>27.5131</td>\n",
       "      <td>NaN</td>\n",
       "      <td>NaN</td>\n",
       "      <td>27.646501</td>\n",
       "      <td>NaN</td>\n",
       "      <td>NaN</td>\n",
       "      <td>9.970369</td>\n",
       "      <td>NaN</td>\n",
       "    </tr>\n",
       "  </tbody>\n",
       "</table>\n",
       "<p>81 rows × 12 columns</p>\n",
       "</div>"
      ],
      "text/plain": [
       "         Depth  Pressure         Z  Salinity  Salinity_T0_C0  Salinity_T1_C1  \\\n",
       "26905    2.3    2.0       1.982764 NaN        29.3926        NaN               \n",
       "1033661  1.3    1.0       0.991485 NaN        27.6416        NaN               \n",
       "1035199  1.1    2.0       1.982966 NaN        28.1208        NaN               \n",
       "1035200  2.6    3.0       2.974442 NaN        28.1204        NaN               \n",
       "1035585  1.3    2.0       1.982968 NaN        26.9449        NaN               \n",
       "...      ...    ...            ...  ..            ...         ..               \n",
       "1061645  0.6    1.0       0.991487 NaN        26.7720        NaN               \n",
       "1061646  1.6    2.0       1.982969 NaN        26.7388        NaN               \n",
       "1062429  2.5    3.0       2.974451 NaN        27.1881        NaN               \n",
       "1062810  1.2    2.0       1.982972 NaN        27.5068        NaN               \n",
       "1062811  2.5    3.0       2.974451 NaN        27.5131        NaN               \n",
       "\n",
       "         Salinity_SA  Salinity_T0_C0_SA  Salinity_T1_C1_SA  Temperature_CT  \\\n",
       "26905   NaN           29.534709         NaN                NaN               \n",
       "1033661 NaN           27.775756         NaN                NaN               \n",
       "1035199 NaN           28.257224         NaN                NaN               \n",
       "1035200 NaN           28.256767         NaN                NaN               \n",
       "1035585 NaN           27.075610         NaN                NaN               \n",
       "...      ..                 ...          ..                 ..               \n",
       "1061645 NaN           26.901929         NaN                NaN               \n",
       "1061646 NaN           26.868515         NaN                NaN               \n",
       "1062429 NaN           27.319927         NaN                NaN               \n",
       "1062810 NaN           27.640224         NaN                NaN               \n",
       "1062811 NaN           27.646501         NaN                NaN               \n",
       "\n",
       "         Temperature_Primary_CT  Temperature_Secondary_CT  \n",
       "26905    11.387468              NaN                        \n",
       "1033661  9.437533               NaN                        \n",
       "1035199  7.757864               NaN                        \n",
       "1035200  7.758590               NaN                        \n",
       "1035585  6.999719               NaN                        \n",
       "...           ...                ..                        \n",
       "1061645  11.355665              NaN                        \n",
       "1061646  11.326563              NaN                        \n",
       "1062429  9.828560               NaN                        \n",
       "1062810  9.970379               NaN                        \n",
       "1062811  9.970369               NaN                        \n",
       "\n",
       "[81 rows x 12 columns]"
      ]
     },
     "execution_count": 10,
     "metadata": {},
     "output_type": "execute_result"
    }
   ],
   "source": [
    "df.loc[(np.abs((df['Depth']-df['Z'])/(df['Z']+df['Depth'])*2)>.1)&(np.abs((df['Depth']-df['Z']))>.3)]"
   ]
  },
  {
   "cell_type": "markdown",
   "metadata": {},
   "source": [
    "### List column names for tables:"
   ]
  },
  {
   "cell_type": "code",
   "execution_count": 11,
   "metadata": {},
   "outputs": [
    {
     "data": {
      "text/plain": [
       "['EVENT_NUMBER',\n",
       " 'ID',\n",
       " 'Include',\n",
       " 'LATITUDE',\n",
       " 'LONGITUDE',\n",
       " 'Lat',\n",
       " 'Lon',\n",
       " 'PLATFORM',\n",
       " 'START_TIME',\n",
       " 'STATION',\n",
       " 'StartDay',\n",
       " 'StartHour',\n",
       " 'StartMonth',\n",
       " 'StartTimeZone',\n",
       " 'StartYear',\n",
       " 'WATER_DEPTH',\n",
       " 'WDIR',\n",
       " 'WSPD',\n",
       " 'sourceFile']"
      ]
     },
     "execution_count": 11,
     "metadata": {},
     "output_type": "execute_result"
    }
   ],
   "source": [
    "sorted([x.name for x in md.tables['StationTBL'].columns])"
   ]
  },
  {
   "cell_type": "code",
   "execution_count": 12,
   "metadata": {},
   "outputs": [
    {
     "data": {
      "text/plain": [
       "['Conductance_Specific',\n",
       " 'Conductance_Specific_units',\n",
       " 'Conductivity',\n",
       " 'Conductivity_Primary',\n",
       " 'Conductivity_Primary_units',\n",
       " 'Conductivity_Secondary',\n",
       " 'Conductivity_Secondary_units',\n",
       " 'Conductivity_units',\n",
       " 'Density',\n",
       " 'Density_units',\n",
       " 'Depth',\n",
       " 'Depth_units',\n",
       " 'Fluorescence_URU_Seapoint',\n",
       " 'Fluorescence_URU_Seapoint_units',\n",
       " 'Fluorescence_URU_Wetlabs',\n",
       " 'Fluorescence_URU_Wetlabs_units',\n",
       " 'ID',\n",
       " 'Include',\n",
       " 'Number_of_bin_records',\n",
       " 'Number_of_bin_records_units',\n",
       " 'Oxygen_Dissolved_SBE',\n",
       " 'Oxygen_Dissolved_SBE_1',\n",
       " 'Oxygen_Dissolved_SBE_1_units',\n",
       " 'Oxygen_Dissolved_SBE_units',\n",
       " 'PAR',\n",
       " 'PAR1',\n",
       " 'PAR1_units',\n",
       " 'PAR_1',\n",
       " 'PAR_1_units',\n",
       " 'PAR_Reference',\n",
       " 'PAR_Reference_units',\n",
       " 'PAR_units',\n",
       " 'Pressure',\n",
       " 'Pressure_units',\n",
       " 'Salinity',\n",
       " 'Salinity_T0_C0',\n",
       " 'Salinity_T0_C0_units',\n",
       " 'Salinity_T1_C1',\n",
       " 'Salinity_T1_C1_units',\n",
       " 'Salinity_units',\n",
       " 'Speed_Sound',\n",
       " 'Speed_Sound_units',\n",
       " 'StationTBLID',\n",
       " 'Temperature',\n",
       " 'Temperature_Primary',\n",
       " 'Temperature_Primary_units',\n",
       " 'Temperature_Secondary',\n",
       " 'Temperature_Secondary_units',\n",
       " 'Temperature_units',\n",
       " 'Transmissivity',\n",
       " 'Transmissivity_units',\n",
       " 'pH_SBE_Nominal',\n",
       " 'pH_SBE_Nominal_units',\n",
       " 'sourceFile']"
      ]
     },
     "execution_count": 12,
     "metadata": {},
     "output_type": "execute_result"
    }
   ],
   "source": [
    "sorted([x.name for x in md.tables['ObsTBL'].columns])"
   ]
  },
  {
   "cell_type": "code",
   "execution_count": 13,
   "metadata": {},
   "outputs": [
    {
     "data": {
      "text/plain": [
       "['Include',\n",
       " 'ObsTBLID',\n",
       " 'Salinity_SA',\n",
       " 'Salinity_T0_C0_SA',\n",
       " 'Salinity_T1_C1_SA',\n",
       " 'StationTBLID',\n",
       " 'Temperature_CT',\n",
       " 'Temperature_Primary_CT',\n",
       " 'Temperature_Secondary_CT',\n",
       " 'Z']"
      ]
     },
     "execution_count": 13,
     "metadata": {},
     "output_type": "execute_result"
    }
   ],
   "source": [
    "sorted([x.name for x in md.tables['CalcsTBL'].columns])"
   ]
  },
  {
   "cell_type": "code",
   "execution_count": 14,
   "metadata": {},
   "outputs": [
    {
     "data": {
      "text/plain": [
       "['AGENCY',\n",
       " 'COUNTRY',\n",
       " 'DATA_DESCRIPTION',\n",
       " 'MISSION',\n",
       " 'MODEL',\n",
       " 'PAR_CalConst',\n",
       " 'PAR_CalDate',\n",
       " 'PAR_Multiplier',\n",
       " 'PAR_Offset',\n",
       " 'PAR_Serial',\n",
       " 'PAR_b',\n",
       " 'PAR_m',\n",
       " 'PROJECT',\n",
       " 'RefPAR_CalDate',\n",
       " 'RefPAR_ConvFact',\n",
       " 'RefPAR_Multiplier',\n",
       " 'RefPAR_Serial',\n",
       " 'SCIENTIST',\n",
       " 'SERIAL',\n",
       " 'StationTBLID',\n",
       " 'TYPE',\n",
       " 'xmiss_CalDate',\n",
       " 'xmiss_PathLen',\n",
       " 'xmiss_Serial',\n",
       " 'xmiss_b',\n",
       " 'xmiss_m']"
      ]
     },
     "execution_count": 14,
     "metadata": {},
     "output_type": "execute_result"
    }
   ],
   "source": [
    "sorted([x.name for x in md.tables['AncillaryTBL'].columns])"
   ]
  },
  {
   "cell_type": "markdown",
   "metadata": {},
   "source": [
    "#### salinity variables: 'Salinity','Salinity_T0_C0', 'Salinity_T1_C1'\n",
    "#### temperature variables:'Temperature','Temperature_Primary','Temperature_Secondary'"
   ]
  },
  {
   "cell_type": "markdown",
   "metadata": {},
   "source": [
    "### How many Depths with no Pressure and vice versa?"
   ]
  },
  {
   "cell_type": "code",
   "execution_count": 15,
   "metadata": {},
   "outputs": [
    {
     "name": "stdout",
     "output_type": "stream",
     "text": [
      "Z without P: 0\n",
      "P without Z: 1051722\n"
     ]
    }
   ],
   "source": [
    "print('Z without P:',session.query(ObsTBL.Depth).filter(ObsTBL.Pressure==None).count())\n",
    "print('P without Z:',session.query(ObsTBL.Pressure).filter(ObsTBL.Depth==None).count())\n"
   ]
  },
  {
   "cell_type": "markdown",
   "metadata": {},
   "source": [
    "### Other depth info:"
   ]
  },
  {
   "cell_type": "code",
   "execution_count": 16,
   "metadata": {},
   "outputs": [
    {
     "name": "stdout",
     "output_type": "stream",
     "text": [
      "Z min, max: (0.1,) (3230.6,)\n",
      "P min, max: (0.0,) (3283.6,)\n"
     ]
    }
   ],
   "source": [
    "print('Z min, max:',session.query(func.min(ObsTBL.Depth)).one(),session.query(func.max(ObsTBL.Depth)).one())\n",
    "print('P min, max:',session.query(func.min(ObsTBL.Pressure)).one(),session.query(func.max(ObsTBL.Pressure)).one())"
   ]
  },
  {
   "cell_type": "markdown",
   "metadata": {},
   "source": [
    "### Other Variables:"
   ]
  },
  {
   "cell_type": "code",
   "execution_count": 17,
   "metadata": {},
   "outputs": [
    {
     "name": "stdout",
     "output_type": "stream",
     "text": [
      "ObsTBL.Salinity min max count: (0.03,) (34.1957,) 77823\n",
      "ObsTBL.Salinity_T0_C0 min max count: (1.361,) (34.6505,) 1278653\n",
      "ObsTBL.Salinity_T1_C1 min max count: (3.5259,) (34.6514,) 756143\n",
      "ObsTBL.Temperature min max count: (2.216,) (22.053,) 77823\n",
      "ObsTBL.Temperature_Primary min max count: (1.6359,) (21.6947,) 1279520\n",
      "ObsTBL.Temperature_Secondary min max count: (1.6371,) (20.245,) 756237\n"
     ]
    }
   ],
   "source": [
    "for var in (ObsTBL.Salinity,ObsTBL.Salinity_T0_C0,ObsTBL.Salinity_T1_C1,ObsTBL.Temperature,ObsTBL.Temperature_Primary,ObsTBL.Temperature_Secondary):\n",
    "    print(var,'min max count:',session.query(func.min(var)).one(),session.query(func.max(var)).one(),session.query(var).filter(var!=None).count())"
   ]
  },
  {
   "cell_type": "code",
   "execution_count": 18,
   "metadata": {},
   "outputs": [],
   "source": [
    "vlist=(ObsTBL.Salinity,ObsTBL.Salinity_T0_C0,ObsTBL.Salinity_T1_C1,ObsTBL.Temperature,ObsTBL.Temperature_Primary,ObsTBL.Temperature_Secondary)\n",
    "ulist=(ObsTBL.Salinity_units,ObsTBL.Salinity_T0_C0_units,ObsTBL.Salinity_T1_C1_units,ObsTBL.Temperature_units,\n",
    "      ObsTBL.Temperature_Primary_units,ObsTBL.Temperature_Secondary_units)"
   ]
  },
  {
   "cell_type": "code",
   "execution_count": 19,
   "metadata": {},
   "outputs": [
    {
     "name": "stdout",
     "output_type": "stream",
     "text": [
      "ObsTBL.Salinity_units unique:\n",
      "\t [(None,), ('PSS-78',)]\n",
      "\t # missing units: 0\n",
      "ObsTBL.Salinity_T0_C0_units unique:\n",
      "\t [(None,), ('PSS-78',)]\n",
      "\t # missing units: 0\n",
      "ObsTBL.Salinity_T1_C1_units unique:\n",
      "\t [(None,), ('PSS-78',)]\n",
      "\t # missing units: 0\n",
      "ObsTBL.Temperature_units unique:\n",
      "\t [(None,), (\"'deg_C'\",), (\"'deg_C(ITS90)'\",), (\"'deg_C_(ITS90)'\",)]\n",
      "\t # missing units: 0\n",
      "ObsTBL.Temperature_Primary_units unique:\n",
      "\t [(None,), (\"'deg_C_(ITS90)'\",)]\n",
      "\t # missing units: 0\n",
      "ObsTBL.Temperature_Secondary_units unique:\n",
      "\t [(None,), (\"'deg_C_(ITS90)'\",)]\n",
      "\t # missing units: 0\n"
     ]
    }
   ],
   "source": [
    "for vvar,uvar in zip(vlist,ulist):\n",
    "    print(uvar,'unique:')\n",
    "    print('\\t',[i for i in session.query(uvar).group_by(uvar).all()])\n",
    "    print('\\t','# missing units:',session.query(vvar,uvar).filter(and_(vvar!=None,uvar==None)).count())"
   ]
  },
  {
   "cell_type": "markdown",
   "metadata": {},
   "source": [
    "## Check which T&S variable combinations are present"
   ]
  },
  {
   "cell_type": "code",
   "execution_count": 20,
   "metadata": {},
   "outputs": [
    {
     "ename": "KeyError",
     "evalue": "'Temperature_Primary'",
     "output_type": "error",
     "traceback": [
      "\u001b[0;31m---------------------------------------------------------------------------\u001b[0m",
      "\u001b[0;31mKeyError\u001b[0m                                  Traceback (most recent call last)",
      "\u001b[0;32m~/anaconda3/envs/py38_ct/lib/python3.8/site-packages/pandas/core/indexes/base.py\u001b[0m in \u001b[0;36mget_loc\u001b[0;34m(self, key, method, tolerance)\u001b[0m\n\u001b[1;32m   2896\u001b[0m             \u001b[0;32mtry\u001b[0m\u001b[0;34m:\u001b[0m\u001b[0;34m\u001b[0m\u001b[0;34m\u001b[0m\u001b[0m\n\u001b[0;32m-> 2897\u001b[0;31m                 \u001b[0;32mreturn\u001b[0m \u001b[0mself\u001b[0m\u001b[0;34m.\u001b[0m\u001b[0m_engine\u001b[0m\u001b[0;34m.\u001b[0m\u001b[0mget_loc\u001b[0m\u001b[0;34m(\u001b[0m\u001b[0mkey\u001b[0m\u001b[0;34m)\u001b[0m\u001b[0;34m\u001b[0m\u001b[0;34m\u001b[0m\u001b[0m\n\u001b[0m\u001b[1;32m   2898\u001b[0m             \u001b[0;32mexcept\u001b[0m \u001b[0mKeyError\u001b[0m\u001b[0;34m:\u001b[0m\u001b[0;34m\u001b[0m\u001b[0;34m\u001b[0m\u001b[0m\n",
      "\u001b[0;32mpandas/_libs/index.pyx\u001b[0m in \u001b[0;36mpandas._libs.index.IndexEngine.get_loc\u001b[0;34m()\u001b[0m\n",
      "\u001b[0;32mpandas/_libs/index.pyx\u001b[0m in \u001b[0;36mpandas._libs.index.IndexEngine.get_loc\u001b[0;34m()\u001b[0m\n",
      "\u001b[0;32mpandas/_libs/hashtable_class_helper.pxi\u001b[0m in \u001b[0;36mpandas._libs.hashtable.PyObjectHashTable.get_item\u001b[0;34m()\u001b[0m\n",
      "\u001b[0;32mpandas/_libs/hashtable_class_helper.pxi\u001b[0m in \u001b[0;36mpandas._libs.hashtable.PyObjectHashTable.get_item\u001b[0;34m()\u001b[0m\n",
      "\u001b[0;31mKeyError\u001b[0m: 'Temperature_Primary'",
      "\nDuring handling of the above exception, another exception occurred:\n",
      "\u001b[0;31mKeyError\u001b[0m                                  Traceback (most recent call last)",
      "\u001b[0;32m<ipython-input-20-3f4ac76e750a>\u001b[0m in \u001b[0;36m<module>\u001b[0;34m\u001b[0m\n\u001b[0;32m----> 1\u001b[0;31m \u001b[0mdf\u001b[0m\u001b[0;34m.\u001b[0m\u001b[0mloc\u001b[0m\u001b[0;34m[\u001b[0m\u001b[0;34m(\u001b[0m\u001b[0;34m~\u001b[0m\u001b[0mnp\u001b[0m\u001b[0;34m.\u001b[0m\u001b[0misnan\u001b[0m\u001b[0;34m(\u001b[0m\u001b[0mdf\u001b[0m\u001b[0;34m[\u001b[0m\u001b[0;34m'Salinity_T1_C1'\u001b[0m\u001b[0;34m]\u001b[0m\u001b[0;34m)\u001b[0m\u001b[0;34m)\u001b[0m\u001b[0;34m&\u001b[0m\u001b[0;34m(\u001b[0m\u001b[0;34m~\u001b[0m\u001b[0mnp\u001b[0m\u001b[0;34m.\u001b[0m\u001b[0misnan\u001b[0m\u001b[0;34m(\u001b[0m\u001b[0mdf\u001b[0m\u001b[0;34m[\u001b[0m\u001b[0;34m'Temperature_Primary'\u001b[0m\u001b[0;34m]\u001b[0m\u001b[0;34m)\u001b[0m\u001b[0;34m)\u001b[0m\u001b[0;34m]\u001b[0m\u001b[0;34m\u001b[0m\u001b[0;34m\u001b[0m\u001b[0m\n\u001b[0m",
      "\u001b[0;32m~/anaconda3/envs/py38_ct/lib/python3.8/site-packages/pandas/core/frame.py\u001b[0m in \u001b[0;36m__getitem__\u001b[0;34m(self, key)\u001b[0m\n\u001b[1;32m   2993\u001b[0m             \u001b[0;32mif\u001b[0m \u001b[0mself\u001b[0m\u001b[0;34m.\u001b[0m\u001b[0mcolumns\u001b[0m\u001b[0;34m.\u001b[0m\u001b[0mnlevels\u001b[0m \u001b[0;34m>\u001b[0m \u001b[0;36m1\u001b[0m\u001b[0;34m:\u001b[0m\u001b[0;34m\u001b[0m\u001b[0;34m\u001b[0m\u001b[0m\n\u001b[1;32m   2994\u001b[0m                 \u001b[0;32mreturn\u001b[0m \u001b[0mself\u001b[0m\u001b[0;34m.\u001b[0m\u001b[0m_getitem_multilevel\u001b[0m\u001b[0;34m(\u001b[0m\u001b[0mkey\u001b[0m\u001b[0;34m)\u001b[0m\u001b[0;34m\u001b[0m\u001b[0;34m\u001b[0m\u001b[0m\n\u001b[0;32m-> 2995\u001b[0;31m             \u001b[0mindexer\u001b[0m \u001b[0;34m=\u001b[0m \u001b[0mself\u001b[0m\u001b[0;34m.\u001b[0m\u001b[0mcolumns\u001b[0m\u001b[0;34m.\u001b[0m\u001b[0mget_loc\u001b[0m\u001b[0;34m(\u001b[0m\u001b[0mkey\u001b[0m\u001b[0;34m)\u001b[0m\u001b[0;34m\u001b[0m\u001b[0;34m\u001b[0m\u001b[0m\n\u001b[0m\u001b[1;32m   2996\u001b[0m             \u001b[0;32mif\u001b[0m \u001b[0mis_integer\u001b[0m\u001b[0;34m(\u001b[0m\u001b[0mindexer\u001b[0m\u001b[0;34m)\u001b[0m\u001b[0;34m:\u001b[0m\u001b[0;34m\u001b[0m\u001b[0;34m\u001b[0m\u001b[0m\n\u001b[1;32m   2997\u001b[0m                 \u001b[0mindexer\u001b[0m \u001b[0;34m=\u001b[0m \u001b[0;34m[\u001b[0m\u001b[0mindexer\u001b[0m\u001b[0;34m]\u001b[0m\u001b[0;34m\u001b[0m\u001b[0;34m\u001b[0m\u001b[0m\n",
      "\u001b[0;32m~/anaconda3/envs/py38_ct/lib/python3.8/site-packages/pandas/core/indexes/base.py\u001b[0m in \u001b[0;36mget_loc\u001b[0;34m(self, key, method, tolerance)\u001b[0m\n\u001b[1;32m   2897\u001b[0m                 \u001b[0;32mreturn\u001b[0m \u001b[0mself\u001b[0m\u001b[0;34m.\u001b[0m\u001b[0m_engine\u001b[0m\u001b[0;34m.\u001b[0m\u001b[0mget_loc\u001b[0m\u001b[0;34m(\u001b[0m\u001b[0mkey\u001b[0m\u001b[0;34m)\u001b[0m\u001b[0;34m\u001b[0m\u001b[0;34m\u001b[0m\u001b[0m\n\u001b[1;32m   2898\u001b[0m             \u001b[0;32mexcept\u001b[0m \u001b[0mKeyError\u001b[0m\u001b[0;34m:\u001b[0m\u001b[0;34m\u001b[0m\u001b[0;34m\u001b[0m\u001b[0m\n\u001b[0;32m-> 2899\u001b[0;31m                 \u001b[0;32mreturn\u001b[0m \u001b[0mself\u001b[0m\u001b[0;34m.\u001b[0m\u001b[0m_engine\u001b[0m\u001b[0;34m.\u001b[0m\u001b[0mget_loc\u001b[0m\u001b[0;34m(\u001b[0m\u001b[0mself\u001b[0m\u001b[0;34m.\u001b[0m\u001b[0m_maybe_cast_indexer\u001b[0m\u001b[0;34m(\u001b[0m\u001b[0mkey\u001b[0m\u001b[0;34m)\u001b[0m\u001b[0;34m)\u001b[0m\u001b[0;34m\u001b[0m\u001b[0;34m\u001b[0m\u001b[0m\n\u001b[0m\u001b[1;32m   2900\u001b[0m         \u001b[0mindexer\u001b[0m \u001b[0;34m=\u001b[0m \u001b[0mself\u001b[0m\u001b[0;34m.\u001b[0m\u001b[0mget_indexer\u001b[0m\u001b[0;34m(\u001b[0m\u001b[0;34m[\u001b[0m\u001b[0mkey\u001b[0m\u001b[0;34m]\u001b[0m\u001b[0;34m,\u001b[0m \u001b[0mmethod\u001b[0m\u001b[0;34m=\u001b[0m\u001b[0mmethod\u001b[0m\u001b[0;34m,\u001b[0m \u001b[0mtolerance\u001b[0m\u001b[0;34m=\u001b[0m\u001b[0mtolerance\u001b[0m\u001b[0;34m)\u001b[0m\u001b[0;34m\u001b[0m\u001b[0;34m\u001b[0m\u001b[0m\n\u001b[1;32m   2901\u001b[0m         \u001b[0;32mif\u001b[0m \u001b[0mindexer\u001b[0m\u001b[0;34m.\u001b[0m\u001b[0mndim\u001b[0m \u001b[0;34m>\u001b[0m \u001b[0;36m1\u001b[0m \u001b[0;32mor\u001b[0m \u001b[0mindexer\u001b[0m\u001b[0;34m.\u001b[0m\u001b[0msize\u001b[0m \u001b[0;34m>\u001b[0m \u001b[0;36m1\u001b[0m\u001b[0;34m:\u001b[0m\u001b[0;34m\u001b[0m\u001b[0;34m\u001b[0m\u001b[0m\n",
      "\u001b[0;32mpandas/_libs/index.pyx\u001b[0m in \u001b[0;36mpandas._libs.index.IndexEngine.get_loc\u001b[0;34m()\u001b[0m\n",
      "\u001b[0;32mpandas/_libs/index.pyx\u001b[0m in \u001b[0;36mpandas._libs.index.IndexEngine.get_loc\u001b[0;34m()\u001b[0m\n",
      "\u001b[0;32mpandas/_libs/hashtable_class_helper.pxi\u001b[0m in \u001b[0;36mpandas._libs.hashtable.PyObjectHashTable.get_item\u001b[0;34m()\u001b[0m\n",
      "\u001b[0;32mpandas/_libs/hashtable_class_helper.pxi\u001b[0m in \u001b[0;36mpandas._libs.hashtable.PyObjectHashTable.get_item\u001b[0;34m()\u001b[0m\n",
      "\u001b[0;31mKeyError\u001b[0m: 'Temperature_Primary'"
     ]
    }
   ],
   "source": [
    "df.loc[(~np.isnan(df['Salinity_T1_C1']))&(~np.isnan(df['Temperature_Primary']))]"
   ]
  },
  {
   "cell_type": "code",
   "execution_count": null,
   "metadata": {},
   "outputs": [],
   "source": [
    "df.loc[(~np.isnan(df['Salinity_T1_C1']))&(~np.isnan(df['Temperature']))]"
   ]
  },
  {
   "cell_type": "code",
   "execution_count": null,
   "metadata": {},
   "outputs": [],
   "source": [
    "df.loc[(~np.isnan(df['Salinity_T0_C0']))&(~np.isnan(df['Temperature']))]"
   ]
  },
  {
   "cell_type": "code",
   "execution_count": null,
   "metadata": {},
   "outputs": [],
   "source": [
    "df.loc[(~np.isnan(df['Salinity_T0_C0']))&(~np.isnan(df['Temperature_Secondary']))]"
   ]
  },
  {
   "cell_type": "code",
   "execution_count": null,
   "metadata": {},
   "outputs": [],
   "source": [
    "df.loc[(~np.isnan(df['Salinity']))&(~np.isnan(df['Temperature_Secondary']))]"
   ]
  },
  {
   "cell_type": "code",
   "execution_count": null,
   "metadata": {},
   "outputs": [],
   "source": [
    "df.loc[(~np.isnan(df['Salinity']))&(~np.isnan(df['Temperature_Primary']))]"
   ]
  },
  {
   "cell_type": "code",
   "execution_count": null,
   "metadata": {},
   "outputs": [],
   "source": [
    "len(df.loc[(~np.isnan(df['Salinity']))&(~np.isnan(df['Temperature']))])"
   ]
  },
  {
   "cell_type": "code",
   "execution_count": null,
   "metadata": {},
   "outputs": [],
   "source": [
    "len(df.loc[(~np.isnan(df['Salinity_T0_C0']))&(~np.isnan(df['Temperature_Primary']))])"
   ]
  },
  {
   "cell_type": "code",
   "execution_count": null,
   "metadata": {},
   "outputs": [],
   "source": [
    "len(df.loc[(~np.isnan(df['Salinity_T1_C1']))&(~np.isnan(df['Temperature_Secondary']))])"
   ]
  },
  {
   "cell_type": "markdown",
   "metadata": {},
   "source": [
    "### Plot All T S Data"
   ]
  },
  {
   "cell_type": "code",
   "execution_count": null,
   "metadata": {},
   "outputs": [],
   "source": [
    "df=pd.DataFrame(session.query(ObsTBL.Depth,ObsTBL.Pressure,ObsTBL.Salinity,ObsTBL.Salinity_T0_C0,ObsTBL.Salinity_T1_C1,\n",
    "                              ObsTBL.Temperature,ObsTBL.Temperature_Primary,ObsTBL.Temperature_Secondary,\n",
    "                              StationTBL.Lat,StationTBL.Lon).select_from(ObsTBL).join(StationTBL,StationTBL.ID==ObsTBL.StationTBLID).all())\n",
    "\n",
    "fig,ax=plt.subplots(1,3,figsize=(18,6))\n",
    "ax[0].plot(df['Salinity'],df['Temperature'],'r.')\n",
    "ax[1].plot(df['Salinity_T0_C0'],df['Temperature_Primary'],'c.')\n",
    "ax[2].plot(df['Salinity_T1_C1'],df['Temperature_Secondary'],'m.')"
   ]
  },
  {
   "cell_type": "code",
   "execution_count": null,
   "metadata": {},
   "outputs": [],
   "source": [
    "fig,ax=plt.subplots(1,3,figsize=(18,6))\n",
    "for iax in ax:\n",
    "    viz_tools.set_aspect(iax, coords = 'map')\n",
    "    viz_tools.plot_coastline(iax, grid, coords = 'map')\n",
    "    iax.set_ylim(47, 52)\n",
    "    iax.set_xlim(-130, -122);\n",
    "ax[0].plot(df.loc[(df['Salinity']>0)&(df['Temperature']>0),['Lon']],\n",
    "                    df.loc[(df['Salinity']>0)&(df['Temperature']>0),['Lat']],'ro')\n",
    "ax[1].plot(df.loc[(df['Salinity_T0_C0']>0)&(df['Temperature_Primary']>0),['Lon']],\n",
    "                    df.loc[(df['Salinity_T0_C0']>0)&(df['Temperature_Primary']>0),['Lat']],'co')\n",
    "ax[2].plot(df.loc[(df['Salinity_T1_C1']>0)&(df['Temperature_Secondary']>0),['Lon']],\n",
    "                    df.loc[(df['Salinity_T1_C1']>0)&(df['Temperature_Secondary']>0),['Lat']],'mo')"
   ]
  },
  {
   "cell_type": "markdown",
   "metadata": {},
   "source": [
    "### Plot all included T&S data"
   ]
  },
  {
   "cell_type": "code",
   "execution_count": null,
   "metadata": {},
   "outputs": [],
   "source": [
    "df=pd.DataFrame(session.query(ObsTBL.Depth,ObsTBL.Pressure,ObsTBL.Salinity,ObsTBL.Salinity_T0_C0,\n",
    "                              ObsTBL.Salinity_T1_C1,ObsTBL.Temperature,ObsTBL.Temperature_Primary,\n",
    "                              ObsTBL.Temperature_Secondary,StationTBL.Lat,StationTBL.Lon).\\\n",
    "                select_from(ObsTBL).join(StationTBL,StationTBL.ID==ObsTBL.StationTBLID).\\\n",
    "                filter(ObsTBL.Include==True).all())\n",
    "\n",
    "fig,ax=plt.subplots(1,3,figsize=(18,6))\n",
    "ax[0].plot(df['Salinity'],df['Temperature'],'r.')\n",
    "ax[1].plot(df['Salinity_T0_C0'],df['Temperature_Primary'],'c.')\n",
    "ax[2].plot(df['Salinity_T1_C1'],df['Temperature_Secondary'],'m.')"
   ]
  },
  {
   "cell_type": "code",
   "execution_count": null,
   "metadata": {},
   "outputs": [],
   "source": [
    "fig,ax=plt.subplots(1,3,figsize=(18,6))\n",
    "for iax in ax:\n",
    "    viz_tools.set_aspect(iax, coords = 'map')\n",
    "    viz_tools.plot_coastline(iax, grid, coords = 'map')\n",
    "    iax.set_ylim(47, 52)\n",
    "    iax.set_xlim(-130, -122);\n",
    "ax[0].plot(df.loc[(df['Salinity']>0)&(df['Temperature']>0),['Lon']],\n",
    "                    df.loc[(df['Salinity']>0)&(df['Temperature']>0),['Lat']],'ro')\n",
    "ax[1].plot(df.loc[(df['Salinity_T0_C0']>0)&(df['Temperature_Primary']>0),['Lon']],\n",
    "                    df.loc[(df['Salinity_T0_C0']>0)&(df['Temperature_Primary']>0),['Lat']],'co')\n",
    "ax[2].plot(df.loc[(df['Salinity_T1_C1']>0)&(df['Temperature_Secondary']>0),['Lon']],\n",
    "                    df.loc[(df['Salinity_T1_C1']>0)&(df['Temperature_Secondary']>0),['Lat']],'mo')"
   ]
  },
  {
   "cell_type": "markdown",
   "metadata": {},
   "source": [
    "### Restrict to Salish Sea"
   ]
  },
  {
   "cell_type": "code",
   "execution_count": null,
   "metadata": {},
   "outputs": [],
   "source": [
    "qry=session.query(StationTBL.StartYear.label('Year'),StationTBL.StartMonth.label('Month'),\n",
    "                      StationTBL.StartDay.label('Day'),StationTBL.StartHour.label('Hour'),\n",
    "                      StationTBL.Lat,StationTBL.Lon,\n",
    "                     ObsTBL.Depth,ObsTBL.Pressure,ObsTBL.Salinity,\n",
    "                  ObsTBL.Salinity_T0_C0,ObsTBL.Salinity_T1_C1,\n",
    "                    ObsTBL.Temperature,ObsTBL.Temperature_Primary,ObsTBL.Temperature_Secondary,ObsTBL.sourceFile).\\\n",
    "                select_from(StationTBL).join(ObsTBL,ObsTBL.StationTBLID==StationTBL.ID).\\\n",
    "                filter(and_(StationTBL.Lat>47-3/2.5*(StationTBL.Lon+123.5),\n",
    "                            StationTBL.Lat<47-3/2.5*(StationTBL.Lon+121)))\n",
    "df=pd.DataFrame(qry.all())"
   ]
  },
  {
   "cell_type": "code",
   "execution_count": null,
   "metadata": {},
   "outputs": [],
   "source": [
    "fig,ax=plt.subplots(1,3,figsize=(18,6))\n",
    "ax[0].plot(df['Salinity'],df['Temperature'],'r.')\n",
    "ax[1].plot(df['Salinity_T0_C0'],df['Temperature_Primary'],'c.')\n",
    "ax[2].plot(df['Salinity_T1_C1'],df['Temperature_Secondary'],'m.')"
   ]
  },
  {
   "cell_type": "code",
   "execution_count": null,
   "metadata": {},
   "outputs": [],
   "source": [
    "fig,ax=plt.subplots(1,3,figsize=(18,6))\n",
    "for iax in ax:\n",
    "    viz_tools.set_aspect(iax, coords = 'map')\n",
    "    viz_tools.plot_coastline(iax, grid, coords = 'map')\n",
    "    #iax.set_ylim(48, 50.5)\n",
    "    #iax.set_xlim(-125.7, -122.5);\n",
    "    iax.set_ylim(47, 52)\n",
    "    iax.set_xlim(-130, -122);\n",
    "ax[0].plot(df.loc[(df['Salinity']>0)&(df['Temperature']>0),['Lon']],\n",
    "                    df.loc[(df['Salinity']>0)&(df['Temperature']>0),['Lat']],'ro')\n",
    "ax[1].plot(df.loc[(df['Salinity_T0_C0']>0)&(df['Temperature_Primary']>0),['Lon']],\n",
    "                    df.loc[(df['Salinity_T0_C0']>0)&(df['Temperature_Primary']>0),['Lat']],'co')\n",
    "ax[2].plot(df.loc[(df['Salinity_T1_C1']>0)&(df['Temperature_Secondary']>0),['Lon']],\n",
    "                    df.loc[(df['Salinity_T1_C1']>0)&(df['Temperature_Secondary']>0),['Lat']],'mo')"
   ]
  },
  {
   "cell_type": "code",
   "execution_count": null,
   "metadata": {},
   "outputs": [],
   "source": [
    "models=session.query(AncTBL.MODEL).distinct().all()\n",
    "models"
   ]
  },
  {
   "cell_type": "markdown",
   "metadata": {},
   "source": [
    "### Display CastAway stations"
   ]
  },
  {
   "cell_type": "code",
   "execution_count": null,
   "metadata": {},
   "outputs": [],
   "source": [
    "## Where are CastAway stations?\n",
    "qry=session.query(StationTBL.StartYear.label('Year'),StationTBL.StartMonth.label('Month'),\n",
    "                      StationTBL.StartDay.label('Day'),StationTBL.StartHour.label('Hour'),\n",
    "                      StationTBL.Lat,StationTBL.Lon,\n",
    "                     ObsTBL.Depth,ObsTBL.Pressure,ObsTBL.Salinity,\n",
    "                  ObsTBL.Salinity_T0_C0,ObsTBL.Salinity_T1_C1,\n",
    "                    ObsTBL.Temperature,ObsTBL.Temperature_Primary,ObsTBL.Temperature_Secondary,ObsTBL.sourceFile).\\\n",
    "                select_from(StationTBL).join(ObsTBL,ObsTBL.StationTBLID==StationTBL.ID).\\\n",
    "                join(AncTBL,AncTBL.StationTBLID==StationTBL.ID).\\\n",
    "                filter(AncTBL.MODEL=='CastAway')\n",
    "df=pd.DataFrame(qry.all())\n",
    "fig,ax=plt.subplots(1,3,figsize=(18,6))\n",
    "for iax in ax:\n",
    "    viz_tools.set_aspect(iax, coords = 'map')\n",
    "    viz_tools.plot_coastline(iax, grid, coords = 'map')\n",
    "    #iax.set_ylim(48, 50.5)\n",
    "    #iax.set_xlim(-125.7, -122.5);\n",
    "    iax.set_ylim(47, 52)\n",
    "    iax.set_xlim(-130, -122);\n",
    "ax[0].plot(df.loc[(df['Salinity']>0)&(df['Temperature']>0),['Lon']],\n",
    "                    df.loc[(df['Salinity']>0)&(df['Temperature']>0),['Lat']],'ro')\n",
    "ax[1].plot(df.loc[(df['Salinity_T0_C0']>0)&(df['Temperature_Primary']>0),['Lon']],\n",
    "                    df.loc[(df['Salinity_T0_C0']>0)&(df['Temperature_Primary']>0),['Lat']],'co')\n",
    "ax[2].plot(df.loc[(df['Salinity_T1_C1']>0)&(df['Temperature_Secondary']>0),['Lon']],\n",
    "                    df.loc[(df['Salinity_T1_C1']>0)&(df['Temperature_Secondary']>0),['Lat']],'mo')"
   ]
  },
  {
   "cell_type": "markdown",
   "metadata": {},
   "source": [
    "### Check CastAway profiles are excluded:"
   ]
  },
  {
   "cell_type": "code",
   "execution_count": null,
   "metadata": {},
   "outputs": [],
   "source": [
    "qry=session.query(StationTBL.Include).select_from(StationTBL).join(AncTBL,AncTBL.StationTBLID==StationTBL.ID).\\\n",
    "    filter(AncTBL.MODEL=='CastAway').distinct().all()\n",
    "print('Station Include:',qry)"
   ]
  },
  {
   "cell_type": "code",
   "execution_count": null,
   "metadata": {},
   "outputs": [],
   "source": [
    "qry=session.query(ObsTBL.Include).select_from(ObsTBL).join(AncTBL,AncTBL.StationTBLID==ObsTBL.StationTBLID).\\\n",
    "    filter(AncTBL.MODEL=='CastAway').distinct().all()\n",
    "print('Obs Include:',qry)"
   ]
  },
  {
   "cell_type": "markdown",
   "metadata": {},
   "source": [
    "#### check that this plot is linear or you are likely missing stations from obs table:"
   ]
  },
  {
   "cell_type": "code",
   "execution_count": null,
   "metadata": {},
   "outputs": [],
   "source": [
    "test=session.query(ObsTBL.StationTBLID).distinct().order_by(ObsTBL.StationTBLID).all()\n",
    "plt.plot(test)"
   ]
  },
  {
   "cell_type": "markdown",
   "metadata": {},
   "source": [
    "### Salish Sea with Include=True"
   ]
  },
  {
   "cell_type": "code",
   "execution_count": null,
   "metadata": {},
   "outputs": [],
   "source": [
    "qry=session.query(StationTBL.StartYear.label('Year'),StationTBL.StartMonth.label('Month'),\n",
    "                      StationTBL.StartDay.label('Day'),StationTBL.StartHour.label('Hour'),\n",
    "                      StationTBL.Lat,StationTBL.Lon,\n",
    "                     ObsTBL.Depth,ObsTBL.Pressure,ObsTBL.Salinity,\n",
    "                  ObsTBL.Salinity_T0_C0,ObsTBL.Salinity_T1_C1,\n",
    "                    ObsTBL.Temperature,ObsTBL.Temperature_Primary,ObsTBL.Temperature_Secondary,ObsTBL.sourceFile).\\\n",
    "                select_from(StationTBL).join(ObsTBL,ObsTBL.StationTBLID==StationTBL.ID).\\\n",
    "                join(AncTBL,AncTBL.StationTBLID==StationTBL.ID).\\\n",
    "                filter(and_(StationTBL.Lat>47-3/2.5*(StationTBL.Lon+123.5),\n",
    "                            StationTBL.Lat<47-3/2.5*(StationTBL.Lon+121),ObsTBL.Include==True))\n",
    "df=pd.DataFrame(qry.all())\n",
    "fig,ax=plt.subplots(1,3,figsize=(18,6))\n",
    "ax[0].plot(df['Salinity'],df['Temperature'],'r.')\n",
    "ax[1].plot(df['Salinity_T0_C0'],df['Temperature_Primary'],'c.')\n",
    "ax[2].plot(df['Salinity_T1_C1'],df['Temperature_Secondary'],'m.')"
   ]
  },
  {
   "cell_type": "code",
   "execution_count": null,
   "metadata": {},
   "outputs": [],
   "source": [
    "fig,ax=plt.subplots(1,3,figsize=(18,6))\n",
    "for iax in ax:\n",
    "    viz_tools.set_aspect(iax, coords = 'map')\n",
    "    viz_tools.plot_coastline(iax, grid, coords = 'map')\n",
    "    #iax.set_ylim(48, 50.5)\n",
    "    #iax.set_xlim(-125.7, -122.5);\n",
    "    iax.set_ylim(47, 52)\n",
    "    iax.set_xlim(-130, -122);\n",
    "ax[0].plot(df.loc[(df['Salinity']>0)&(df['Temperature']>0),['Lon']],\n",
    "                    df.loc[(df['Salinity']>0)&(df['Temperature']>0),['Lat']],'ro')\n",
    "ax[1].plot(df.loc[(df['Salinity_T0_C0']>0)&(df['Temperature_Primary']>0),['Lon']],\n",
    "                    df.loc[(df['Salinity_T0_C0']>0)&(df['Temperature_Primary']>0),['Lat']],'co')\n",
    "ax[2].plot(df.loc[(df['Salinity_T1_C1']>0)&(df['Temperature_Secondary']>0),['Lon']],\n",
    "                    df.loc[(df['Salinity_T1_C1']>0)&(df['Temperature_Secondary']>0),['Lat']],'mo')"
   ]
  },
  {
   "cell_type": "markdown",
   "metadata": {},
   "source": [
    "## Check for Duplicates"
   ]
  },
  {
   "cell_type": "code",
   "execution_count": null,
   "metadata": {},
   "outputs": [],
   "source": [
    "# search for duplicate stations and investigate:\n",
    "a1=aliased(StationTBL)\n",
    "a2=aliased(StationTBL)\n",
    "dupsQRY=session.query(a1.ID.label('ID1'),a1.Include,a2.ID.label('ID2'),a2.Include,a1.sourceFile.label('source1'),a2.sourceFile.label('source2'),\n",
    "                     a1.EVENT_NUMBER.label('EVENT_NUMBER1'),a2.EVENT_NUMBER.label('EVENT_NUMBER2'),\n",
    "                     a1.PLATFORM.label('PLATFORM1'),a2.PLATFORM.label('PLATFORM2'),\n",
    "                     a1.STATION.label('STATION1'),a2.STATION.label('STATION2'),\n",
    "                     a1.WATER_DEPTH.label('WATER_DEPTH1'),a2.WATER_DEPTH.label('WATER_DEPTH2')).select_from(a1).join(a2,and_(\n",
    "    a1.StartYear==a2.StartYear,\n",
    "    a1.StartMonth==a2.StartMonth,\n",
    "    a1.StartDay==a2.StartDay,\n",
    "    a1.StartHour-a2.StartHour<0.001,\n",
    "    a1.StartHour-a2.StartHour>-0.001,\n",
    "    a1.Lat-a2.Lat<0.001,\n",
    "    a1.Lat-a2.Lat>-0.001,\n",
    "    a1.Lon-a2.Lon<0.001,\n",
    "    a1.Lon-a2.Lon>-0.001,\n",
    "    a1.ID!=a2.ID)).filter(a1.Include==True,a2.Include==True,a1.ID<a2.ID)\n"
   ]
  },
  {
   "cell_type": "code",
   "execution_count": null,
   "metadata": {},
   "outputs": [],
   "source": [
    "dfa=pd.DataFrame(dupsQRY.all())"
   ]
  },
  {
   "cell_type": "code",
   "execution_count": null,
   "metadata": {},
   "outputs": [],
   "source": [
    "dfa"
   ]
  },
  {
   "cell_type": "code",
   "execution_count": null,
   "metadata": {},
   "outputs": [],
   "source": [
    "# display previously eliminated duplicates:\n",
    "a1=aliased(StationTBL)\n",
    "a2=aliased(StationTBL)\n",
    "dupsQRY=session.query(a1.ID.label('ID1'),a1.Include,a2.ID.label('ID2'),a2.Include,a1.sourceFile.label('source1'),a2.sourceFile.label('source2'),\n",
    "                     a1.EVENT_NUMBER.label('EVENT_NUMBER1'),a2.EVENT_NUMBER.label('EVENT_NUMBER2'),\n",
    "                     a1.PLATFORM.label('PLATFORM1'),a2.PLATFORM.label('PLATFORM2'),\n",
    "                     a1.STATION.label('STATION1'),a2.STATION.label('STATION2'),\n",
    "                     a1.WATER_DEPTH.label('WATER_DEPTH1'),a2.WATER_DEPTH.label('WATER_DEPTH2')).select_from(a1).join(a2,and_(\n",
    "    a1.StartYear==a2.StartYear,\n",
    "    a1.StartMonth==a2.StartMonth,\n",
    "    a1.StartDay==a2.StartDay,\n",
    "    a1.StartHour-a2.StartHour<0.001,\n",
    "    a1.StartHour-a2.StartHour>-0.001,\n",
    "    a1.Lat-a2.Lat<0.001,\n",
    "    a1.Lat-a2.Lat>-0.001,\n",
    "    a1.Lon-a2.Lon<0.001,\n",
    "    a1.Lon-a2.Lon>-0.001,\n",
    "    a1.ID!=a2.ID)).filter(a1.Include==True,a2.Include==False,a1.ID<a2.ID)\n",
    "dfa=pd.DataFrame(dupsQRY.all())\n",
    "dfa"
   ]
  },
  {
   "cell_type": "code",
   "execution_count": null,
   "metadata": {},
   "outputs": [],
   "source": [
    "for i,r in dfa.iterrows():\n",
    "    print(r['source1'],'\\n',r['source2'],'\\n')"
   ]
  },
  {
   "cell_type": "code",
   "execution_count": null,
   "metadata": {},
   "outputs": [],
   "source": [
    "## check for obs include true where station include false; should be empty with adjusted procedure\n",
    "test=pd.DataFrame(session.query(StationTBL.ID.label('StationID'),ObsTBL.ID.label('ObsID')).select_from(StationTBL).\\\n",
    "                  join(ObsTBL,ObsTBL.StationTBLID==StationTBL.ID).\\\n",
    "                  filter(and_(StationTBL.Include==False,ObsTBL.Include==True)).all())\n",
    "test"
   ]
  },
  {
   "cell_type": "code",
   "execution_count": null,
   "metadata": {},
   "outputs": [],
   "source": [
    "grid.close()"
   ]
  },
  {
   "cell_type": "code",
   "execution_count": null,
   "metadata": {},
   "outputs": [],
   "source": []
  }
 ],
 "metadata": {
  "anaconda-cloud": {},
  "kernelspec": {
   "display_name": "Python (py38_ct)",
   "language": "python",
   "name": "py38_ct"
  },
  "language_info": {
   "codemirror_mode": {
    "name": "ipython",
    "version": 3
   },
   "file_extension": ".py",
   "mimetype": "text/x-python",
   "name": "python",
   "nbconvert_exporter": "python",
   "pygments_lexer": "ipython3",
   "version": "3.8.2"
  }
 },
 "nbformat": 4,
 "nbformat_minor": 1
}
