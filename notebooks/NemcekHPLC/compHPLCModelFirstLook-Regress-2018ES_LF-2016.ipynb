{
 "cells": [
  {
   "cell_type": "code",
   "execution_count": 1,
   "metadata": {
    "papermill": {
     "duration": 1.314001,
     "end_time": "2020-11-16T18:41:56.957033",
     "exception": false,
     "start_time": "2020-11-16T18:41:55.643032",
     "status": "completed"
    },
    "tags": []
   },
   "outputs": [],
   "source": [
    "import numpy as np  # this module handles arrays, but here we need it for its NaN value\n",
    "import pandas as pd # this module contains a lot of tools for handling tabular data\n",
    "from matplotlib import pyplot as plt\n",
    "from salishsea_tools import evaltools as et\n",
    "import datetime as dt\n",
    "import os\n",
    "import gsw\n",
    "import pickle\n",
    "import netCDF4 as nc\n",
    "import cmocean\n",
    "from scipy import stats as spst\n",
    "from pandas.plotting import register_matplotlib_converters\n",
    "register_matplotlib_converters()\n",
    "%matplotlib inline"
   ]
  },
  {
   "cell_type": "code",
   "execution_count": 2,
   "metadata": {
    "papermill": {
     "duration": 0.021939,
     "end_time": "2020-11-16T18:41:56.997823",
     "exception": false,
     "start_time": "2020-11-16T18:41:56.975884",
     "status": "completed"
    },
    "tags": [
     "parameters"
    ]
   },
   "outputs": [],
   "source": [
    "modSourceDir= '/results/SalishSea/nowcast-green.201812/'\n",
    "modver='201812'\n",
    "Chl_N=1.8 # Chl:N ratio\n",
    "fname='compHPLCModelFirstLook-Regress-Base.ipynb'\n",
    "startYMD=(2015,1,1)\n",
    "endYMD=(2018,12,31)"
   ]
  },
  {
   "cell_type": "code",
   "execution_count": 3,
   "metadata": {
    "papermill": {
     "duration": 0.021213,
     "end_time": "2020-11-16T18:41:57.036679",
     "exception": false,
     "start_time": "2020-11-16T18:41:57.015466",
     "status": "completed"
    },
    "tags": [
     "injected-parameters"
    ]
   },
   "outputs": [],
   "source": [
    "# Parameters\n",
    "modSourceDir = '/data/eolson/results/MEOPAR/SS36runs/GrahamRuns/2018ES_LF/'\n",
    "modver = '2018ES_LF'\n",
    "start_date = dt.datetime(2016,1,1)\n",
    "end_date = dt.datetime(2016, 6, 30)\n",
    "Chl_N = 1.8\n",
    "#fname = \"compHPLCModelFirstLook-Regress-2018ES_LF-2015.ipynb\"\n"
   ]
  },
  {
   "cell_type": "code",
   "execution_count": 4,
   "metadata": {
    "papermill": {
     "duration": 0.021649,
     "end_time": "2020-11-16T18:41:57.113513",
     "exception": false,
     "start_time": "2020-11-16T18:41:57.091864",
     "status": "completed"
    },
    "tags": []
   },
   "outputs": [],
   "source": [
    "datestr='_'+start_date.strftime('%Y%m%d')+'_'+end_date.strftime('%Y%m%d')"
   ]
  },
  {
   "cell_type": "code",
   "execution_count": 5,
   "metadata": {
    "papermill": {
     "duration": 0.022621,
     "end_time": "2020-11-16T18:41:57.153724",
     "exception": false,
     "start_time": "2020-11-16T18:41:57.131103",
     "status": "completed"
    },
    "tags": []
   },
   "outputs": [],
   "source": [
    "def subval(idf,colList):\n",
    "    # first value in colList should be the column you are going to keep\n",
    "    # follow with other columns that will be used to fill in when that column is NaN\n",
    "    # in order of precedence\n",
    "    if len(colList)==2:\n",
    "        idf[colList[0]]=[r[colList[0]] if not pd.isna(r[colList[0]]) \\\n",
    "                         else  r[colList[1]] for i,r in idf.iterrows()]\n",
    "    elif len(colList)==3:\n",
    "        idf[colList[0]]=[r[colList[0]] if not pd.isna(r[colList[0]]) \\\n",
    "                         else  r[colList[1]] if not pd.isna(r[colList[1]]) \\\n",
    "                         else r[colList[2]] for i,r in idf.iterrows()]\n",
    "    else:\n",
    "        raise NotImplementedError('Add to code to handle this case')\n",
    "    idf.drop(columns=list(colList[1:]),inplace=True)\n",
    "    return idf"
   ]
  },
  {
   "cell_type": "code",
   "execution_count": 6,
   "metadata": {
    "papermill": {
     "duration": 0.031828,
     "end_time": "2020-11-16T18:41:57.202460",
     "exception": false,
     "start_time": "2020-11-16T18:41:57.170632",
     "status": "completed"
    },
    "tags": []
   },
   "outputs": [],
   "source": [
    "if os.path.isfile('matched_'+modver+datestr+'.pkl'):\n",
    "    data=pickle.load(open( 'matched_'+modver+datestr+'.pkl', 'rb' ) )\n",
    "else:\n",
    "    # define paths to the source files and eventual output file\n",
    "    flist=('/ocean/eolson/MEOPAR/obs/NemcekHPLC/bottlePhytoMerged2015.csv',\n",
    "           '/ocean/eolson/MEOPAR/obs/NemcekHPLC/bottlePhytoMerged2016.csv',\n",
    "           '/ocean/eolson/MEOPAR/obs/NemcekHPLC/bottlePhytoMerged2017.csv',\n",
    "           '/ocean/eolson/MEOPAR/obs/NemcekHPLC/bottlePhytoMerged2018.csv')#,\n",
    "           #'/ocean/eolson/MEOPAR/obs/NemcekHPLC/bottlePhytoMerged2019.csv')\n",
    "\n",
    "    dfs=list()\n",
    "    for fname in flist:\n",
    "        idf=pd.read_csv(fname)\n",
    "        print(fname,sorted(idf.keys()))\n",
    "        dfs.append(idf)\n",
    "    df=pd.concat(dfs,ignore_index=True,sort=False); # concatenate the list into a single table\n",
    "\n",
    "    df.drop(labels=['ADM:MISSION','ADM:PROJECT','ADM:SCIENTIST','Zone','Zone.1','Temperature:Draw',\n",
    "                    'Temperature:Draw [deg C (ITS90)]','Bottle:Firing_Sequence','Comments by sample_numbeR',\n",
    "                    'File Name','LOC:EVENT_NUMBER','Number_of_bin_records'\n",
    "                       ],axis=1,inplace=True)\n",
    "\n",
    "    df=subval(df,('Dictyochophytes','Dictyo'))\n",
    "    df=subval(df,('Chlorophyll:Extracted [mg/m^3]','Chlorophyll:Extracted'))\n",
    "    df=subval(df,('Dinoflagellates','Dinoflagellates-1'))\n",
    "    df=subval(df,('Fluorescence [mg/m^3]','Fluorescence:URU:Seapoint [mg/m^3]','Fluorescence:URU:Seapoint'))\n",
    "    df=subval(df,('Lat','LOC:LATITUDE'))\n",
    "    df=subval(df,('Lon','LOC:LONGITUDE'))\n",
    "    df=subval(df,('Nitrate_plus_Nitrite [umol/L]','Nitrate_plus_Nitrite'))\n",
    "    df=subval(df,('PAR [uE/m^2/sec]','PAR'))\n",
    "    df=subval(df,('Phaeo-Pigment:Extracted [mg/m^3]','Phaeo-Pigment:Extracted'))\n",
    "    df=subval(df,('Phosphate [umol/L]','Phosphate'))\n",
    "    df=subval(df,('Pressure [decibar]','Pressure'))\n",
    "    df=subval(df,('Raphidophytes','Raphido'))\n",
    "    df=subval(df,('Salinity','Salinity [PSS-78]','Salinity:T1:C1 [PSS-78]'))\n",
    "    df=subval(df,('Salinity:Bottle','Salinity:Bottle [PSS-78]'))\n",
    "    df=subval(df,('Silicate [umol/L]','Silicate'))\n",
    "    df=subval(df,('TchlA (ug/L)','TchlA'))\n",
    "    df=subval(df,('Temperature','Temperature [deg C (ITS90)]','Temperature:Secondary [deg C (ITS90)]'))\n",
    "    df=subval(df,('Transmissivity [*/metre]','Transmissivity'))\n",
    "\n",
    "    df['Z']=np.where(pd.isna(df['Depth [metres]']),\n",
    "                     -1*gsw.z_from_p(df['Pressure [decibar]'],df['Lat']),\n",
    "                     df['Depth [metres]'])\n",
    "    df['p']=np.where(pd.isna(df['Pressure [decibar]']),\n",
    "                     gsw.p_from_z(-1*df['Depth [metres]'],df['Lat']),\n",
    "                    df['Pressure [decibar]'])\n",
    "    df['SA']=gsw.SA_from_SP(df['Salinity'],df['p'],df['Lon'],df['Lat'])\n",
    "    df['CT']=gsw.CT_from_t(df['SA'],df['Temperature'],df['p'])\n",
    "\n",
    "    df['dtUTC']=[dt.datetime.strptime(ii,'%Y-%m-%d %H:%M:%S') if isinstance(ii,str) else np.nan for ii in df['FIL:START TIME YYYY/MM/DD HH:MM:SS'] ]\n",
    "\n",
    "    PATH= modSourceDir\n",
    "\n",
    "    flen=1\n",
    "    namfmt='nowcast'\n",
    "    #varmap={'N':'nitrate','Si':'silicon','Ammonium':'ammonium'}\n",
    "    filemap={'nitrate':'ptrc_T','silicon':'ptrc_T','ammonium':'ptrc_T','diatoms':'ptrc_T','ciliates':'ptrc_T','flagellates':'ptrc_T','vosaline':'grid_T','votemper':'grid_T'}\n",
    "    #gridmap={'nitrate':'tmask','silicon':'tmask','ammonium':'tmask'}\n",
    "    fdict={'ptrc_T':1,'grid_T':1}\n",
    "\n",
    "    data=et.matchData(df,filemap,fdict,start_date,end_date,namfmt,PATH,flen)\n",
    "\n",
    "    with open('matched_'+modver+datestr+'.pkl','wb') as f:\n",
    "        pickle.dump(data,f)"
   ]
  },
  {
   "cell_type": "code",
   "execution_count": 7,
   "metadata": {
    "papermill": {
     "duration": 0.025104,
     "end_time": "2020-11-16T18:41:57.244739",
     "exception": false,
     "start_time": "2020-11-16T18:41:57.219635",
     "status": "completed"
    },
    "tags": []
   },
   "outputs": [],
   "source": [
    "data['other']=0.0\n",
    "for el in ('Cryptophytes', 'Cyanobacteria', 'Dictyochophytes', 'Dinoflagellates',\n",
    "    'Haptophytes', 'Prasinophytes', 'Raphidophytes'):\n",
    "    data['other']=data['other']+data[el]"
   ]
  },
  {
   "cell_type": "code",
   "execution_count": 8,
   "metadata": {
    "papermill": {
     "duration": 0.530383,
     "end_time": "2020-11-16T18:41:57.792245",
     "exception": false,
     "start_time": "2020-11-16T18:41:57.261862",
     "status": "completed"
    },
    "tags": []
   },
   "outputs": [
    {
     "data": {
      "text/plain": [
       "(0, 8)"
      ]
     },
     "execution_count": 8,
     "metadata": {},
     "output_type": "execute_result"
    },
    {
     "data": {
      "image/png": "[encoded data removed]",
      "text/plain": [
       "<Figure size 864x576 with 4 Axes>"
      ]
     },
     "metadata": {
      "needs_background": "light"
     },
     "output_type": "display_data"
    }
   ],
   "source": [
    "fig,ax=plt.subplots(2,2,figsize=(12,8))\n",
    "ax=ax.flatten()\n",
    "ax[0].plot(data['Diatoms-1']+data['Diatoms-2'],Chl_N*data['mod_diatoms'],'k.')\n",
    "ax[0].set_title('Diatoms (mg Chl/m$^3$)')\n",
    "ax[0].set_xlabel('HPLC')\n",
    "ax[0].set_ylabel('model')\n",
    "ax[0].plot((0,18),(0,18),'r-',alpha=.3)\n",
    "\n",
    "ax[1].plot(data['other'],Chl_N*(data['mod_flagellates']+data['mod_ciliates']),'k.')\n",
    "ax[1].set_title('non-Diatoms (mg Chl/m$^3$)')\n",
    "ax[1].set_xlabel('HPLC')\n",
    "ax[1].set_ylabel('model')\n",
    "ax[1].plot((0,12),(0,12),'r-',alpha=.3)\n",
    "\n",
    "ax[2].plot(data['Diatoms-1']+data['Diatoms-2'],Chl_N*data['mod_diatoms'],'k.')\n",
    "ax[2].set_title('Diatoms (mg Chl/m$^3$)')\n",
    "ax[2].set_xlabel('HPLC')\n",
    "ax[2].set_ylabel('model')\n",
    "ax[2].plot((0,25),(0,25),'r-',alpha=.3)\n",
    "ax[2].set_xlim((0,25))\n",
    "ax[2].set_ylim((0,25))\n",
    "\n",
    "ax[3].plot(data['other'],Chl_N*(data['mod_flagellates']+data['mod_ciliates']),'k.')\n",
    "ax[3].set_title('non-Diatoms (mg Chl/m$^3$)')\n",
    "ax[3].set_xlabel('HPLC')\n",
    "ax[3].set_ylabel('model')\n",
    "ax[3].plot((0,12),(0,12),'r-',alpha=.3)\n",
    "ax[3].set_xlim((0,8))\n",
    "ax[3].set_ylim((0,8))"
   ]
  },
  {
   "cell_type": "code",
   "execution_count": 9,
   "metadata": {
    "papermill": {
     "duration": 0.022962,
     "end_time": "2020-11-16T18:41:57.835550",
     "exception": false,
     "start_time": "2020-11-16T18:41:57.812588",
     "status": "completed"
    },
    "tags": []
   },
   "outputs": [],
   "source": [
    "def logt(x):\n",
    "    return np.log10(x+.001)"
   ]
  },
  {
   "cell_type": "code",
   "execution_count": 10,
   "metadata": {
    "papermill": {
     "duration": 0.220532,
     "end_time": "2020-11-16T18:41:58.075272",
     "exception": false,
     "start_time": "2020-11-16T18:41:57.854740",
     "status": "completed"
    },
    "tags": []
   },
   "outputs": [
    {
     "data": {
      "text/plain": [
       "(-3.1, 2)"
      ]
     },
     "execution_count": 10,
     "metadata": {},
     "output_type": "execute_result"
    },
    {
     "data": {
      "image/png": "[encoded data removed]",
      "text/plain": [
       "<Figure size 864x360 with 2 Axes>"
      ]
     },
     "metadata": {
      "needs_background": "light"
     },
     "output_type": "display_data"
    }
   ],
   "source": [
    "fig,ax=plt.subplots(1,2,figsize=(12,5))\n",
    "ax[0].plot(logt(data['Diatoms-1']+data['Diatoms-2']),logt(Chl_N*data['mod_diatoms']),'k.')\n",
    "ax[0].set_title('log10[ Diatoms (mg Chl/m$^3$) + 0.001]',fontsize=18)\n",
    "ax[0].set_xlabel('HPLC',fontsize=18)\n",
    "ax[0].set_ylabel('model',fontsize=18)\n",
    "ax[0].set_xlim(-3.1,2)\n",
    "ax[0].set_ylim(-3.1,2)\n",
    "ax[0].plot((-6,3),(-6,3),'r-',alpha=.3)\n",
    "\n",
    "ax[1].plot(logt(data['other']),logt(Chl_N*(data['mod_flagellates']+data['mod_ciliates'])),'k.')\n",
    "ax[1].set_title('log10[ non-Diatoms (mg Chl/m$^3$) + 0.001]',fontsize=18)\n",
    "ax[1].set_xlabel('HPLC',fontsize=18)\n",
    "ax[1].set_ylabel('model',fontsize=18)\n",
    "ax[1].plot((-6,3),(-6,3),'r-',alpha=.3)\n",
    "ax[1].set_xlim(-3.1,2)\n",
    "ax[1].set_ylim(-3.1,2)"
   ]
  },
  {
   "cell_type": "code",
   "execution_count": 11,
   "metadata": {
    "papermill": {
     "duration": 0.127749,
     "end_time": "2020-11-16T18:41:58.223680",
     "exception": false,
     "start_time": "2020-11-16T18:41:58.095931",
     "status": "completed"
    },
    "tags": []
   },
   "outputs": [
    {
     "data": {
      "text/plain": [
       "[<matplotlib.lines.Line2D at 0x7f9e51f6f100>]"
      ]
     },
     "execution_count": 11,
     "metadata": {},
     "output_type": "execute_result"
    },
    {
     "data": {
      "image/png": "[encoded data removed]",
      "text/plain": [
       "<Figure size 432x288 with 1 Axes>"
      ]
     },
     "metadata": {
      "needs_background": "light"
     },
     "output_type": "display_data"
    }
   ],
   "source": [
    "plt.plot(data['TchlA (ug/L)'],Chl_N*(data['mod_flagellates']+data['mod_ciliates']+data['mod_diatoms']),'k.')\n",
    "plt.title('Total Chlorophyll (ug/L)')\n",
    "plt.xlabel('HPLC')\n",
    "plt.ylabel('model')\n",
    "plt.plot((0,20),(0,20),'r-',alpha=.3)"
   ]
  },
  {
   "cell_type": "code",
   "execution_count": 12,
   "metadata": {
    "papermill": {
     "duration": 0.123315,
     "end_time": "2020-11-16T18:41:58.368887",
     "exception": false,
     "start_time": "2020-11-16T18:41:58.245572",
     "status": "completed"
    },
    "tags": []
   },
   "outputs": [
    {
     "data": {
      "image/png": "[encoded data removed]",
      "text/plain": [
       "<Figure size 360x360 with 1 Axes>"
      ]
     },
     "metadata": {
      "needs_background": "light"
     },
     "output_type": "display_data"
    }
   ],
   "source": [
    "fig,ax=plt.subplots(1,1,figsize=(5,5))\n",
    "ax.plot(logt(data['TchlA (ug/L)']),logt(Chl_N*(data['mod_flagellates']+data['mod_ciliates']+data['mod_diatoms'])),'k.')\n",
    "ax.set_title('log10[ Total Chlorophyll (ug/L) + 0.001]')\n",
    "ax.set_xlabel('HPLC')\n",
    "ax.set_ylabel('model')\n",
    "ax.plot((-6,5),(-6,5),'r-',alpha=.3)\n",
    "ax.set_xlim(-1,2)\n",
    "ax.set_ylim(-1,2);"
   ]
  },
  {
   "cell_type": "code",
   "execution_count": 13,
   "metadata": {
    "papermill": {
     "duration": 0.104237,
     "end_time": "2020-11-16T18:41:58.495014",
     "exception": false,
     "start_time": "2020-11-16T18:41:58.390777",
     "status": "completed"
    },
    "tags": []
   },
   "outputs": [],
   "source": [
    "def yd(idt):\n",
    "    if type(idt)==dt.datetime:\n",
    "        yd=(idt-dt.datetime(idt.year-1,12,31)).days\n",
    "    else: # assume array or pandas\n",
    "        yd=[(ii-dt.datetime(ii.year-1,12,31)).days for ii in idt]\n",
    "    return yd\n",
    "\n",
    "data['yd']=yd(data['dtUTC'])\n",
    "data['Year']=[ii.year for ii in data['dtUTC']]"
   ]
  },
  {
   "cell_type": "code",
   "execution_count": 14,
   "metadata": {
    "papermill": {
     "duration": 0.307959,
     "end_time": "2020-11-16T18:41:58.824863",
     "exception": false,
     "start_time": "2020-11-16T18:41:58.516904",
     "status": "completed"
    },
    "tags": []
   },
   "outputs": [
    {
     "data": {
      "text/plain": [
       "<matplotlib.colorbar.Colorbar at 0x7f9e524d9790>"
      ]
     },
     "execution_count": 14,
     "metadata": {},
     "output_type": "execute_result"
    },
    {
     "data": {
      "image/png": "[encoded data removed]",
      "text/plain": [
       "<Figure size 360x360 with 2 Axes>"
      ]
     },
     "metadata": {
      "needs_background": "light"
     },
     "output_type": "display_data"
    }
   ],
   "source": [
    "fig,ax=plt.subplots(1,1,figsize=(5,5))\n",
    "m=ax.scatter(logt(data['TchlA (ug/L)']),logt(Chl_N*(data['mod_flagellates']+data['mod_ciliates']+data['mod_diatoms'])),\n",
    "          c=data['yd'],cmap=cmocean.cm.phase)\n",
    "ax.set_title('log10[ Total Chlorophyll (ug/L) + 0.001] By Year Day')\n",
    "ax.set_xlabel('HPLC')\n",
    "ax.set_ylabel('model')\n",
    "ax.plot((-6,5),(-6,5),'r-',alpha=.3)\n",
    "ax.set_xlim(-1,2)\n",
    "ax.set_ylim(-1,2);\n",
    "fig.colorbar(m)"
   ]
  },
  {
   "cell_type": "code",
   "execution_count": 15,
   "metadata": {
    "papermill": {
     "duration": 0.049773,
     "end_time": "2020-11-16T18:41:58.899072",
     "exception": false,
     "start_time": "2020-11-16T18:41:58.849299",
     "status": "completed"
    },
    "tags": []
   },
   "outputs": [],
   "source": [
    "with nc.Dataset('/ocean/eolson/MEOPAR/NEMO-forcing/grid/mesh_mask201702_noLPE.nc') as mesh:\n",
    "    tmask=np.copy(mesh.variables['tmask'][0,:,:,:])\n",
    "    navlat=np.copy(mesh.variables['nav_lat'][:,:])\n",
    "    navlon=np.copy(mesh.variables['nav_lon'][:,:])"
   ]
  },
  {
   "cell_type": "markdown",
   "metadata": {
    "papermill": {
     "duration": 0.022987,
     "end_time": "2020-11-16T18:41:58.945995",
     "exception": false,
     "start_time": "2020-11-16T18:41:58.923008",
     "status": "completed"
    },
    "tags": []
   },
   "source": [
    "## Multiple Linear Regression\n",
    "\n",
    "#### Diatoms"
   ]
  },
  {
   "cell_type": "code",
   "execution_count": 16,
   "metadata": {
    "papermill": {
     "duration": 0.089577,
     "end_time": "2020-11-16T18:41:59.058746",
     "exception": false,
     "start_time": "2020-11-16T18:41:58.969169",
     "status": "completed"
    },
    "tags": []
   },
   "outputs": [],
   "source": [
    "ii=(~pd.isnull(data['mod_diatoms']))&(~pd.isnull(data['Diatoms-1']))&(~pd.isnull(data['Diatoms-2']))&(~pd.isnull(data['Cyanobacteria']))&\\\n",
    "        (~pd.isnull(data['Cryptophytes']))&(~pd.isnull(data['Prasinophytes']))&(~pd.isnull(data['Haptophytes']))&\\\n",
    "        (~pd.isnull(data['Dictyochophytes']))&(~pd.isnull(data['Dinoflagellates']))&(~pd.isnull(data['Raphidophytes']))\n",
    "A=np.vstack([data.loc[ii]['Diatoms-1'],data.loc[ii]['Diatoms-2'],data.loc[ii]['Cyanobacteria'],data.loc[ii]['Cryptophytes'],\n",
    "               data.loc[ii]['Prasinophytes'],data.loc[ii]['Haptophytes'],data.loc[ii]['Dictyochophytes'],data.loc[ii]['Dinoflagellates'],\n",
    "             data.loc[ii]['Raphidophytes'],np.ones(np.shape(data.loc[ii]['Diatoms-1']))]).T\n",
    "b=data.loc[ii]['mod_diatoms']\n",
    "m=np.linalg.lstsq(A,b,rcond=None)[0]"
   ]
  },
  {
   "cell_type": "code",
   "execution_count": 17,
   "metadata": {
    "papermill": {
     "duration": 0.028222,
     "end_time": "2020-11-16T18:41:59.110685",
     "exception": false,
     "start_time": "2020-11-16T18:41:59.082463",
     "status": "completed"
    },
    "tags": []
   },
   "outputs": [
    {
     "data": {
      "text/plain": [
       "array([  0.08362105,   0.22535851, -12.38483591,  -0.35994327,\n",
       "        -1.40883804,  -0.17590896,  -0.34831558,  -0.44065709,\n",
       "         2.3901134 ,   0.76117762])"
      ]
     },
     "execution_count": 17,
     "metadata": {},
     "output_type": "execute_result"
    }
   ],
   "source": [
    "m"
   ]
  },
  {
   "cell_type": "code",
   "execution_count": 18,
   "metadata": {
    "papermill": {
     "duration": 0.029039,
     "end_time": "2020-11-16T18:41:59.163152",
     "exception": false,
     "start_time": "2020-11-16T18:41:59.134113",
     "status": "completed"
    },
    "tags": []
   },
   "outputs": [
    {
     "name": "stdout",
     "output_type": "stream",
     "text": [
      "Diatoms-1 0.0836210540016531\n",
      "Diatoms-2 0.22535851473066304\n",
      "Cyanobacteria -12.384835913666327\n",
      "Cryptophytes -0.3599432699259331\n",
      "Prasinophytes -1.4088380417668582\n",
      "Haptophytes -0.1759089616388898\n",
      "Dictyochophytes -0.3483155836539772\n",
      "Dinoflagellates -0.44065709437184625\n",
      "Raphidophytes 2.3901134020318398\n",
      "ones 0.7611776183934416\n"
     ]
    }
   ],
   "source": [
    "clist=('Diatoms-1','Diatoms-2','Cyanobacteria','Cryptophytes','Prasinophytes','Haptophytes',\n",
    "        'Dictyochophytes','Dinoflagellates','Raphidophytes','ones')\n",
    "for c, mm in zip(clist,m):\n",
    "    print(c,mm)"
   ]
  },
  {
   "cell_type": "code",
   "execution_count": 19,
   "metadata": {
    "papermill": {
     "duration": 0.034988,
     "end_time": "2020-11-16T18:41:59.222331",
     "exception": false,
     "start_time": "2020-11-16T18:41:59.187343",
     "status": "completed"
    },
    "tags": []
   },
   "outputs": [],
   "source": [
    "ii=(~pd.isnull(data['mod_diatoms']))&(~pd.isnull(data['Diatoms-1']))&(~pd.isnull(data['Diatoms-2']))&\\\n",
    "        (~pd.isnull(data['Cryptophytes']))&(~pd.isnull(data['Raphidophytes']))\n",
    "A=np.vstack([data.loc[ii]['Diatoms-1'],data.loc[ii]['Diatoms-2'],data.loc[ii]['Cryptophytes'],\n",
    "            data.loc[ii]['Raphidophytes'],np.ones(np.shape(data.loc[ii]['Diatoms-1']))]).T\n",
    "b=data.loc[ii]['mod_diatoms']\n",
    "m=np.linalg.lstsq(A,b,rcond=None)[0]"
   ]
  },
  {
   "cell_type": "code",
   "execution_count": 20,
   "metadata": {
    "papermill": {
     "duration": 0.028477,
     "end_time": "2020-11-16T18:41:59.275012",
     "exception": false,
     "start_time": "2020-11-16T18:41:59.246535",
     "status": "completed"
    },
    "tags": []
   },
   "outputs": [
    {
     "name": "stdout",
     "output_type": "stream",
     "text": [
      "Diatoms-1 0.08282683892836394\n",
      "Diatoms-2 0.1091724649178184\n",
      "Cryptophytes -0.3758115024491606\n",
      "Raphidophytes 0.02910149086204127\n",
      "ones 0.49144744982350225\n"
     ]
    }
   ],
   "source": [
    "clist=('Diatoms-1','Diatoms-2','Cryptophytes','Raphidophytes','ones')\n",
    "for c, mm in zip(clist,m):\n",
    "    print(c,mm)"
   ]
  },
  {
   "cell_type": "code",
   "execution_count": 21,
   "metadata": {
    "papermill": {
     "duration": 0.03407,
     "end_time": "2020-11-16T18:41:59.333092",
     "exception": false,
     "start_time": "2020-11-16T18:41:59.299022",
     "status": "completed"
    },
    "tags": []
   },
   "outputs": [],
   "source": [
    "ii=(~pd.isnull(data['mod_diatoms']))&(~pd.isnull(data['Diatoms-1']))&\\\n",
    "        (~pd.isnull(data['Cryptophytes']))&(~pd.isnull(data['Raphidophytes']))\n",
    "A=np.vstack([data.loc[ii]['Diatoms-1'],data.loc[ii]['Cryptophytes'],\n",
    "            data.loc[ii]['Raphidophytes'],np.ones(np.shape(data.loc[ii]['Diatoms-1']))]).T\n",
    "b=data.loc[ii]['mod_diatoms']\n",
    "m=np.linalg.lstsq(A,b,rcond=None)[0]"
   ]
  },
  {
   "cell_type": "code",
   "execution_count": 22,
   "metadata": {
    "papermill": {
     "duration": 0.028826,
     "end_time": "2020-11-16T18:41:59.385874",
     "exception": false,
     "start_time": "2020-11-16T18:41:59.357048",
     "status": "completed"
    },
    "tags": []
   },
   "outputs": [
    {
     "name": "stdout",
     "output_type": "stream",
     "text": [
      "Diatoms-1 0.07951798857827137\n",
      "Cryptophytes -0.4028946474056204\n",
      "Raphidophytes -0.1554537788474137\n",
      "ones 0.5486304129511042\n"
     ]
    }
   ],
   "source": [
    "clist=('Diatoms-1','Cryptophytes','Raphidophytes','ones')\n",
    "for c, mm in zip(clist,m):\n",
    "    print(c,mm)"
   ]
  },
  {
   "cell_type": "markdown",
   "metadata": {
    "papermill": {
     "duration": 0.025664,
     "end_time": "2020-11-16T18:41:59.435842",
     "exception": false,
     "start_time": "2020-11-16T18:41:59.410178",
     "status": "completed"
    },
    "tags": []
   },
   "source": [
    "#### flagellates"
   ]
  },
  {
   "cell_type": "code",
   "execution_count": 23,
   "metadata": {
    "papermill": {
     "duration": 0.040626,
     "end_time": "2020-11-16T18:41:59.500275",
     "exception": false,
     "start_time": "2020-11-16T18:41:59.459649",
     "status": "completed"
    },
    "tags": []
   },
   "outputs": [],
   "source": [
    "ii=(~pd.isnull(data['mod_flagellates']))&(~pd.isnull(data['Diatoms-1']))&(~pd.isnull(data['Diatoms-2']))&(~pd.isnull(data['Cyanobacteria']))&\\\n",
    "        (~pd.isnull(data['Cryptophytes']))&(~pd.isnull(data['Prasinophytes']))&(~pd.isnull(data['Haptophytes']))&\\\n",
    "        (~pd.isnull(data['Dictyochophytes']))&(~pd.isnull(data['Dinoflagellates']))&(~pd.isnull(data['Raphidophytes']))\n",
    "A=np.vstack([data.loc[ii]['Diatoms-1'],data.loc[ii]['Diatoms-2'],data.loc[ii]['Cyanobacteria'],data.loc[ii]['Cryptophytes'],\n",
    "               data.loc[ii]['Prasinophytes'],data.loc[ii]['Haptophytes'],data.loc[ii]['Dictyochophytes'],data.loc[ii]['Dinoflagellates'],\n",
    "             data.loc[ii]['Raphidophytes'],np.ones(np.shape(data.loc[ii]['Diatoms-1']))]).T\n",
    "b=data.loc[ii]['mod_flagellates']\n",
    "m=np.linalg.lstsq(A,b,rcond=None)[0]"
   ]
  },
  {
   "cell_type": "code",
   "execution_count": 24,
   "metadata": {
    "papermill": {
     "duration": 0.02919,
     "end_time": "2020-11-16T18:41:59.553837",
     "exception": false,
     "start_time": "2020-11-16T18:41:59.524647",
     "status": "completed"
    },
    "tags": []
   },
   "outputs": [
    {
     "data": {
      "text/plain": [
       "array([-0.02668369, -0.28743851,  9.21494008, -0.03272589,  0.41775275,\n",
       "        0.75147418,  0.23531466,  0.99296426, -1.65368504,  0.47715819])"
      ]
     },
     "execution_count": 24,
     "metadata": {},
     "output_type": "execute_result"
    }
   ],
   "source": [
    "m"
   ]
  },
  {
   "cell_type": "code",
   "execution_count": 25,
   "metadata": {
    "papermill": {
     "duration": 0.029446,
     "end_time": "2020-11-16T18:41:59.607519",
     "exception": false,
     "start_time": "2020-11-16T18:41:59.578073",
     "status": "completed"
    },
    "tags": []
   },
   "outputs": [
    {
     "name": "stdout",
     "output_type": "stream",
     "text": [
      "Diatoms-1 -0.026683693941977865\n",
      "Diatoms-2 -0.28743851490562494\n",
      "Cyanobacteria 9.214940080838167\n",
      "Cryptophytes -0.03272588527462715\n",
      "Prasinophytes 0.41775274737721924\n",
      "Haptophytes 0.7514741776385416\n",
      "Dictyochophytes 0.2353146587299715\n",
      "Dinoflagellates 0.9929642558804567\n",
      "Raphidophytes -1.6536850387943447\n",
      "ones 0.47715818840117796\n"
     ]
    }
   ],
   "source": [
    "clist=('Diatoms-1','Diatoms-2','Cyanobacteria','Cryptophytes','Prasinophytes','Haptophytes',\n",
    "        'Dictyochophytes','Dinoflagellates','Raphidophytes','ones')\n",
    "for c, mm in zip(clist,m):\n",
    "    print(c,mm)"
   ]
  },
  {
   "cell_type": "code",
   "execution_count": 26,
   "metadata": {
    "papermill": {
     "duration": 0.039125,
     "end_time": "2020-11-16T18:41:59.671488",
     "exception": false,
     "start_time": "2020-11-16T18:41:59.632363",
     "status": "completed"
    },
    "tags": []
   },
   "outputs": [],
   "source": [
    "ii=(~pd.isnull(data['mod_flagellates']))&(~pd.isnull(data['Diatoms-1']))&(~pd.isnull(data['Cyanobacteria']))&\\\n",
    "        (~pd.isnull(data['Cryptophytes']))&(~pd.isnull(data['Prasinophytes']))&(~pd.isnull(data['Haptophytes']))&\\\n",
    "        (~pd.isnull(data['Dictyochophytes']))&(~pd.isnull(data['Dinoflagellates']))&(~pd.isnull(data['Raphidophytes']))\n",
    "A=np.vstack([data.loc[ii]['Diatoms-1'],data.loc[ii]['Cyanobacteria'],data.loc[ii]['Cryptophytes'],\n",
    "               data.loc[ii]['Prasinophytes'],data.loc[ii]['Haptophytes'],data.loc[ii]['Dictyochophytes'],\n",
    "             data.loc[ii]['Dinoflagellates'],np.ones(np.shape(data.loc[ii]['Diatoms-1']))]).T\n",
    "b=data.loc[ii]['mod_flagellates']\n",
    "m=np.linalg.lstsq(A,b,rcond=None)[0]"
   ]
  },
  {
   "cell_type": "code",
   "execution_count": 27,
   "metadata": {
    "papermill": {
     "duration": 0.029715,
     "end_time": "2020-11-16T18:41:59.726063",
     "exception": false,
     "start_time": "2020-11-16T18:41:59.696348",
     "status": "completed"
    },
    "tags": []
   },
   "outputs": [
    {
     "name": "stdout",
     "output_type": "stream",
     "text": [
      "Diatoms-1 -0.01650432217026208\n",
      "Cyanobacteria 11.712315987588127\n",
      "Cryptophytes -0.1271030055112854\n",
      "Prasinophytes 0.4557029099357428\n",
      "Haptophytes 0.7664989054512577\n",
      "Dictyochophytes 0.02084169988334522\n",
      "Dinoflagellates 1.231638815907659\n",
      "ones 0.31418731279511114\n"
     ]
    }
   ],
   "source": [
    "clist=('Diatoms-1','Cyanobacteria','Cryptophytes','Prasinophytes','Haptophytes',\n",
    "        'Dictyochophytes','Dinoflagellates','ones')\n",
    "for c, mm in zip(clist,m):\n",
    "    print(c,mm)"
   ]
  },
  {
   "cell_type": "code",
   "execution_count": 28,
   "metadata": {
    "papermill": {
     "duration": 0.037542,
     "end_time": "2020-11-16T18:41:59.788149",
     "exception": false,
     "start_time": "2020-11-16T18:41:59.750607",
     "status": "completed"
    },
    "tags": []
   },
   "outputs": [],
   "source": [
    "ii=(~pd.isnull(data['mod_flagellates']))&(~pd.isnull(data['Cyanobacteria']))&\\\n",
    "        (~pd.isnull(data['Cryptophytes']))&(~pd.isnull(data['Prasinophytes']))&(~pd.isnull(data['Haptophytes']))&\\\n",
    "        (~pd.isnull(data['Dictyochophytes']))&(~pd.isnull(data['Raphidophytes']))\n",
    "A=np.vstack([data.loc[ii]['Cyanobacteria'],data.loc[ii]['Cryptophytes'],\n",
    "               data.loc[ii]['Prasinophytes'],data.loc[ii]['Haptophytes'],data.loc[ii]['Dictyochophytes'],\n",
    "             np.ones(np.shape(data.loc[ii]['Diatoms-1']))]).T\n",
    "b=data.loc[ii]['mod_flagellates']\n",
    "m=np.linalg.lstsq(A,b,rcond=None)[0]"
   ]
  },
  {
   "cell_type": "code",
   "execution_count": 29,
   "metadata": {
    "papermill": {
     "duration": 0.028822,
     "end_time": "2020-11-16T18:41:59.841480",
     "exception": false,
     "start_time": "2020-11-16T18:41:59.812658",
     "status": "completed"
    },
    "tags": []
   },
   "outputs": [
    {
     "name": "stdout",
     "output_type": "stream",
     "text": [
      "Cyanobacteria 13.397555376307999\n",
      "Cryptophytes -0.027700949128234287\n",
      "Prasinophytes 0.23126621333230654\n",
      "Haptophytes 0.8820914201868333\n",
      "Dictyochophytes 0.11043568300191588\n",
      "ones 0.321434209550077\n"
     ]
    }
   ],
   "source": [
    "clist=('Cyanobacteria','Cryptophytes','Prasinophytes','Haptophytes',\n",
    "        'Dictyochophytes','ones')\n",
    "for c, mm in zip(clist,m):\n",
    "    print(c,mm)"
   ]
  },
  {
   "cell_type": "markdown",
   "metadata": {
    "papermill": {
     "duration": 0.024601,
     "end_time": "2020-11-16T18:41:59.890677",
     "exception": false,
     "start_time": "2020-11-16T18:41:59.866076",
     "status": "completed"
    },
    "tags": []
   },
   "source": [
    "#### M. rubrum"
   ]
  },
  {
   "cell_type": "code",
   "execution_count": 30,
   "metadata": {
    "papermill": {
     "duration": 0.04162,
     "end_time": "2020-11-16T18:41:59.956950",
     "exception": false,
     "start_time": "2020-11-16T18:41:59.915330",
     "status": "completed"
    },
    "tags": []
   },
   "outputs": [],
   "source": [
    "ii=(~pd.isnull(data['mod_ciliates']))&(~pd.isnull(data['Diatoms-1']))&(~pd.isnull(data['Diatoms-2']))&(~pd.isnull(data['Cyanobacteria']))&\\\n",
    "        (~pd.isnull(data['Cryptophytes']))&(~pd.isnull(data['Prasinophytes']))&(~pd.isnull(data['Haptophytes']))&\\\n",
    "        (~pd.isnull(data['Dictyochophytes']))&(~pd.isnull(data['Dinoflagellates']))&(~pd.isnull(data['Raphidophytes']))\n",
    "A=np.vstack([data.loc[ii]['Diatoms-1'],data.loc[ii]['Diatoms-2'],data.loc[ii]['Cyanobacteria'],data.loc[ii]['Cryptophytes'],\n",
    "               data.loc[ii]['Prasinophytes'],data.loc[ii]['Haptophytes'],data.loc[ii]['Dictyochophytes'],data.loc[ii]['Dinoflagellates'],\n",
    "             data.loc[ii]['Raphidophytes'],np.ones(np.shape(data.loc[ii]['Diatoms-1']))]).T\n",
    "b=data.loc[ii]['mod_ciliates']\n",
    "m=np.linalg.lstsq(A,b,rcond=None)[0]"
   ]
  },
  {
   "cell_type": "code",
   "execution_count": 31,
   "metadata": {
    "papermill": {
     "duration": 0.03044,
     "end_time": "2020-11-16T18:42:00.012304",
     "exception": false,
     "start_time": "2020-11-16T18:41:59.981864",
     "status": "completed"
    },
    "tags": []
   },
   "outputs": [
    {
     "name": "stdout",
     "output_type": "stream",
     "text": [
      "Diatoms-1 0.010066803472973791\n",
      "Diatoms-2 0.09116321233990876\n",
      "Cyanobacteria -2.2411706937877316\n",
      "Cryptophytes 0.09390641007525424\n",
      "Prasinophytes 0.35372339006774844\n",
      "Haptophytes -0.15668523717658925\n",
      "Dictyochophytes -0.11080517838333527\n",
      "Dinoflagellates 0.08557167535057808\n",
      "Raphidophytes 0.10312521694284209\n",
      "ones 0.3753455018792999\n"
     ]
    }
   ],
   "source": [
    "clist=('Diatoms-1','Diatoms-2','Cyanobacteria','Cryptophytes','Prasinophytes','Haptophytes',\n",
    "        'Dictyochophytes','Dinoflagellates','Raphidophytes','ones')\n",
    "for c, mm in zip(clist,m):\n",
    "    print(c,mm)"
   ]
  },
  {
   "cell_type": "markdown",
   "metadata": {
    "papermill": {
     "duration": 0.024087,
     "end_time": "2020-11-16T18:42:00.061095",
     "exception": false,
     "start_time": "2020-11-16T18:42:00.037008",
     "status": "completed"
    },
    "tags": []
   },
   "source": [
    "Diatoms:\n",
    "- Cryptophytes 0.38\n",
    "- Diatoms-1 0.16\n",
    "- Raphidophytes 0.09\n",
    "\n",
    "Flagellates:\n",
    "- Cyanobacteria 0.9248939785743201\n",
    "- Cryptophytes 0.592769155988474\n",
    "- Prasinophytes 0.18975008147644779\n",
    "- Haptophytes 0.2794204846195845\n",
    "- Dictyochophytes 0.058845777018170356\n",
    "\n",
    "M. rubrum:\n",
    "- Cyanobacteria 0.2710109702166438\n",
    "\n",
    "None:\n",
    "- Diatoms-2\n",
    "- Dinoflagellates"
   ]
  },
  {
   "cell_type": "code",
   "execution_count": 32,
   "metadata": {
    "papermill": {
     "duration": 0.788016,
     "end_time": "2020-11-16T18:42:00.873316",
     "exception": false,
     "start_time": "2020-11-16T18:42:00.085300",
     "status": "completed"
    },
    "tags": []
   },
   "outputs": [
    {
     "data": {
      "text/plain": [
       "<matplotlib.legend.Legend at 0x7f9e52383580>"
      ]
     },
     "execution_count": 32,
     "metadata": {},
     "output_type": "execute_result"
    },
    {
     "data": {
      "image/png": "[encoded data removed]",
      "text/plain": [
       "<Figure size 1080x504 with 10 Axes>"
      ]
     },
     "metadata": {
      "needs_background": "light"
     },
     "output_type": "display_data"
    }
   ],
   "source": [
    "fig,ax=plt.subplots(2,5,figsize=(15,7))\n",
    "fig.subplots_adjust(wspace=.4)\n",
    "ax=ax.flatten()\n",
    "\n",
    "chplc=('Diatoms-1', 'Diatoms-2','Cyanobacteria','Cryptophytes', 'Prasinophytes', \n",
    "       'Haptophytes',  'Dictyochophytes','Dinoflagellates','Raphidophytes','TchlA (ug/L)')\n",
    "\n",
    "mvar1=Chl_N*data['mod_diatoms']\n",
    "mvar2=Chl_N*data['mod_flagellates']\n",
    "\n",
    "for ii in range(0,len(chplc)):\n",
    "    ax[ii].plot(logt(data.loc[:,[chplc[ii]]].values),logt(mvar1),'.',color='blue',label='Diatoms')\n",
    "    ax[ii].plot(logt(data.loc[:,[chplc[ii]]].values),logt(mvar2),'.',color='red',label='Flagellates')\n",
    "    ax[ii].set_ylabel('Model Class')\n",
    "    ax[ii].set_xlabel(chplc[ii])\n",
    "    ax[ii].set_title('log10[Chl(mg/m3)+.001]')\n",
    "    ax[ii].plot((-3,1.5),(-3,1.5),'k-',alpha=.2)\n",
    "    ax[ii].set_xlim((-3,1.5))\n",
    "    ax[ii].set_ylim((-3,1.5))\n",
    "    ax[ii].set_aspect(1)\n",
    "ax[0].legend()\n"
   ]
  },
  {
   "cell_type": "code",
   "execution_count": 33,
   "metadata": {
    "papermill": {
     "duration": 0.267381,
     "end_time": "2020-11-16T18:42:01.169076",
     "exception": false,
     "start_time": "2020-11-16T18:42:00.901695",
     "status": "completed"
    },
    "tags": []
   },
   "outputs": [
    {
     "data": {
      "text/plain": [
       "(-3, 1.5)"
      ]
     },
     "execution_count": 33,
     "metadata": {},
     "output_type": "execute_result"
    },
    {
     "data": {
      "image/png": "[encoded data removed]",
      "text/plain": [
       "<Figure size 864x216 with 3 Axes>"
      ]
     },
     "metadata": {
      "needs_background": "light"
     },
     "output_type": "display_data"
    }
   ],
   "source": [
    "fig,ax=plt.subplots(1,3,figsize=(12,3))\n",
    "fig.subplots_adjust(wspace=.5)\n",
    "#ax[0].plot(logt(data['Diatoms-1']+data['Raphidophytes']+.5*data['Cryptophytes']),logt(data['mod_diatoms']),'r.')\n",
    "ax[0].plot(logt(data['Diatoms-1']+data['Raphidophytes']),logt(data['mod_diatoms']),'k.')\n",
    "ax[0].set_ylabel('Model diatoms')\n",
    "ax[0].set_xlabel('Diatoms1+Raphido')\n",
    "ax[0].set_title('log10[Chl(mg/m3)+.001]')\n",
    "ax[0].plot((-3,1.5),(-3,1.5),'k-',alpha=.2)\n",
    "ax[0].set_xlim((-3,1.5))\n",
    "ax[0].set_ylim((-3,1.5))\n",
    "\n",
    "ax[1].plot(logt(data['Cyanobacteria']+data['Cryptophytes']+data['Haptophytes']),logt(data['mod_flagellates']),'k.')\n",
    "ax[1].set_ylabel('Model flagellates')\n",
    "ax[1].set_xlabel('Cyano+Crypto+Hapto')\n",
    "ax[1].set_title('log10[Chl(mg/m3)+.001]')\n",
    "ax[1].plot((-3,1.5),(-3,1.5),'k-',alpha=.2)\n",
    "ax[1].set_xlim((-3,1.5))\n",
    "ax[1].set_ylim((-3,1.5))\n",
    "\n",
    "\n",
    "ax[2].plot(logt(data['Cyanobacteria']),logt(data['mod_ciliates']),'k.')\n",
    "ax[2].set_ylabel('Model M. rubrum')\n",
    "ax[2].set_xlabel('Cyano')\n",
    "ax[2].set_title('log10[Chl(mg/m3)+.001]')\n",
    "ax[2].plot((-3,1.5),(-3,1.5),'k-',alpha=.2)\n",
    "ax[2].set_xlim((-3,1.5))\n",
    "ax[2].set_ylim((-3,1.5))"
   ]
  },
  {
   "cell_type": "code",
   "execution_count": 34,
   "metadata": {
    "papermill": {
     "duration": 0.040424,
     "end_time": "2020-11-16T18:42:01.239420",
     "exception": false,
     "start_time": "2020-11-16T18:42:01.198996",
     "status": "completed"
    },
    "tags": []
   },
   "outputs": [],
   "source": [
    "data['mod_diatoms_chl']=Chl_N*data['mod_diatoms']\n",
    "data['mod_flagellates_chl']=Chl_N*data['mod_flagellates']\n",
    "data['mod_ciliates_chl']=Chl_N*data['mod_ciliates']\n",
    "data['mod_TChl']=data['mod_diatoms_chl']+data['mod_flagellates_chl']+data['mod_ciliates_chl']\n",
    "data['CCPH']=data['Cyanobacteria']+data['Cryptophytes']+data['Prasinophytes']+data['Haptophytes']\n",
    "data['DD']=data['Diatoms-1']+data['Diatoms-2']\n",
    "dfVars=data.loc[:,['Diatoms-1', 'Diatoms-2','Cyanobacteria','Cryptophytes', 'Prasinophytes', \n",
    "       'Haptophytes',  'Dictyochophytes','Dinoflagellates','Raphidophytes','DD','CCPH','TchlA (ug/L)',\n",
    "                   'mod_diatoms_chl','mod_flagellates_chl','mod_ciliates_chl','mod_TChl']]"
   ]
  },
  {
   "cell_type": "markdown",
   "metadata": {
    "papermill": {
     "duration": 0.028798,
     "end_time": "2020-11-16T18:42:01.297007",
     "exception": false,
     "start_time": "2020-11-16T18:42:01.268209",
     "status": "completed"
    },
    "tags": []
   },
   "source": [
    "### Variance-Covariance Matrix"
   ]
  },
  {
   "cell_type": "code",
   "execution_count": 35,
   "metadata": {
    "papermill": {
     "duration": 0.047529,
     "end_time": "2020-11-16T18:42:01.373414",
     "exception": false,
     "start_time": "2020-11-16T18:42:01.325885",
     "status": "completed"
    },
    "tags": []
   },
   "outputs": [
    {
     "data": {
      "text/html": [
       "<div>\n",
       "<style scoped>\n",
       "    .dataframe tbody tr th:only-of-type {\n",
       "        vertical-align: middle;\n",
       "    }\n",
       "\n",
       "    .dataframe tbody tr th {\n",
       "        vertical-align: top;\n",
       "    }\n",
       "\n",
       "    .dataframe thead th {\n",
       "        text-align: right;\n",
       "    }\n",
       "</style>\n",
       "<table border=\"1\" class=\"dataframe\">\n",
       "  <thead>\n",
       "    <tr style=\"text-align: right;\">\n",
       "      <th></th>\n",
       "      <th>Diatoms-1</th>\n",
       "      <th>Diatoms-2</th>\n",
       "      <th>Cyanobacteria</th>\n",
       "      <th>Cryptophytes</th>\n",
       "      <th>Prasinophytes</th>\n",
       "      <th>Haptophytes</th>\n",
       "      <th>Dictyochophytes</th>\n",
       "      <th>Dinoflagellates</th>\n",
       "      <th>Raphidophytes</th>\n",
       "      <th>DD</th>\n",
       "      <th>CCPH</th>\n",
       "      <th>TchlA (ug/L)</th>\n",
       "      <th>mod_diatoms_chl</th>\n",
       "      <th>mod_flagellates_chl</th>\n",
       "      <th>mod_ciliates_chl</th>\n",
       "      <th>mod_TChl</th>\n",
       "    </tr>\n",
       "  </thead>\n",
       "  <tbody>\n",
       "    <tr>\n",
       "      <th>Diatoms-1</th>\n",
       "      <td>11.421175</td>\n",
       "      <td>-0.244988</td>\n",
       "      <td>-0.017372</td>\n",
       "      <td>-0.166095</td>\n",
       "      <td>0.192180</td>\n",
       "      <td>-0.257041</td>\n",
       "      <td>-0.248096</td>\n",
       "      <td>-0.067514</td>\n",
       "      <td>-0.035472</td>\n",
       "      <td>11.176187</td>\n",
       "      <td>-0.248329</td>\n",
       "      <td>10.576746</td>\n",
       "      <td>1.765120</td>\n",
       "      <td>-1.023518</td>\n",
       "      <td>0.436112</td>\n",
       "      <td>1.177714</td>\n",
       "    </tr>\n",
       "    <tr>\n",
       "      <th>Diatoms-2</th>\n",
       "      <td>-0.244988</td>\n",
       "      <td>0.317857</td>\n",
       "      <td>-0.000464</td>\n",
       "      <td>-0.033990</td>\n",
       "      <td>-0.017153</td>\n",
       "      <td>-0.029910</td>\n",
       "      <td>0.169521</td>\n",
       "      <td>0.005536</td>\n",
       "      <td>-0.004185</td>\n",
       "      <td>0.072868</td>\n",
       "      <td>-0.081517</td>\n",
       "      <td>0.162213</td>\n",
       "      <td>0.048711</td>\n",
       "      <td>-0.117579</td>\n",
       "      <td>0.007623</td>\n",
       "      <td>-0.061245</td>\n",
       "    </tr>\n",
       "    <tr>\n",
       "      <th>Cyanobacteria</th>\n",
       "      <td>-0.017372</td>\n",
       "      <td>-0.000464</td>\n",
       "      <td>0.000138</td>\n",
       "      <td>0.000296</td>\n",
       "      <td>-0.000160</td>\n",
       "      <td>0.001370</td>\n",
       "      <td>0.001138</td>\n",
       "      <td>0.000220</td>\n",
       "      <td>0.000103</td>\n",
       "      <td>-0.017836</td>\n",
       "      <td>0.001645</td>\n",
       "      <td>-0.014727</td>\n",
       "      <td>-0.006541</td>\n",
       "      <td>0.005645</td>\n",
       "      <td>-0.001559</td>\n",
       "      <td>-0.002455</td>\n",
       "    </tr>\n",
       "    <tr>\n",
       "      <th>Cryptophytes</th>\n",
       "      <td>-0.166095</td>\n",
       "      <td>-0.033990</td>\n",
       "      <td>0.000296</td>\n",
       "      <td>0.092097</td>\n",
       "      <td>0.010963</td>\n",
       "      <td>0.012856</td>\n",
       "      <td>-0.009275</td>\n",
       "      <td>0.004147</td>\n",
       "      <td>0.009569</td>\n",
       "      <td>-0.200085</td>\n",
       "      <td>0.116212</td>\n",
       "      <td>-0.079422</td>\n",
       "      <td>-0.093241</td>\n",
       "      <td>0.025687</td>\n",
       "      <td>0.013404</td>\n",
       "      <td>-0.054151</td>\n",
       "    </tr>\n",
       "    <tr>\n",
       "      <th>Prasinophytes</th>\n",
       "      <td>0.192180</td>\n",
       "      <td>-0.017153</td>\n",
       "      <td>-0.000160</td>\n",
       "      <td>0.010963</td>\n",
       "      <td>0.010794</td>\n",
       "      <td>0.005614</td>\n",
       "      <td>-0.007196</td>\n",
       "      <td>0.001278</td>\n",
       "      <td>0.001249</td>\n",
       "      <td>0.175026</td>\n",
       "      <td>0.027211</td>\n",
       "      <td>0.197566</td>\n",
       "      <td>-0.001858</td>\n",
       "      <td>0.007582</td>\n",
       "      <td>0.010318</td>\n",
       "      <td>0.016042</td>\n",
       "    </tr>\n",
       "    <tr>\n",
       "      <th>Haptophytes</th>\n",
       "      <td>-0.257041</td>\n",
       "      <td>-0.029910</td>\n",
       "      <td>0.001370</td>\n",
       "      <td>0.012856</td>\n",
       "      <td>0.005614</td>\n",
       "      <td>0.083472</td>\n",
       "      <td>-0.004750</td>\n",
       "      <td>0.005934</td>\n",
       "      <td>0.003086</td>\n",
       "      <td>-0.286952</td>\n",
       "      <td>0.103313</td>\n",
       "      <td>-0.179378</td>\n",
       "      <td>-0.118823</td>\n",
       "      <td>0.166335</td>\n",
       "      <td>-0.030455</td>\n",
       "      <td>0.017057</td>\n",
       "    </tr>\n",
       "    <tr>\n",
       "      <th>Dictyochophytes</th>\n",
       "      <td>-0.248096</td>\n",
       "      <td>0.169521</td>\n",
       "      <td>0.001138</td>\n",
       "      <td>-0.009275</td>\n",
       "      <td>-0.007196</td>\n",
       "      <td>-0.004750</td>\n",
       "      <td>0.244144</td>\n",
       "      <td>0.016110</td>\n",
       "      <td>-0.000640</td>\n",
       "      <td>-0.078575</td>\n",
       "      <td>-0.020082</td>\n",
       "      <td>0.160922</td>\n",
       "      <td>-0.136795</td>\n",
       "      <td>0.065911</td>\n",
       "      <td>-0.032412</td>\n",
       "      <td>-0.103297</td>\n",
       "    </tr>\n",
       "    <tr>\n",
       "      <th>Dinoflagellates</th>\n",
       "      <td>-0.067514</td>\n",
       "      <td>0.005536</td>\n",
       "      <td>0.000220</td>\n",
       "      <td>0.004147</td>\n",
       "      <td>0.001278</td>\n",
       "      <td>0.005934</td>\n",
       "      <td>0.016110</td>\n",
       "      <td>0.004579</td>\n",
       "      <td>0.000703</td>\n",
       "      <td>-0.061978</td>\n",
       "      <td>0.011579</td>\n",
       "      <td>-0.029013</td>\n",
       "      <td>-0.031342</td>\n",
       "      <td>0.025691</td>\n",
       "      <td>-0.003740</td>\n",
       "      <td>-0.009392</td>\n",
       "    </tr>\n",
       "    <tr>\n",
       "      <th>Raphidophytes</th>\n",
       "      <td>-0.035472</td>\n",
       "      <td>-0.004185</td>\n",
       "      <td>0.000103</td>\n",
       "      <td>0.009569</td>\n",
       "      <td>0.001249</td>\n",
       "      <td>0.003086</td>\n",
       "      <td>-0.000640</td>\n",
       "      <td>0.000703</td>\n",
       "      <td>0.001707</td>\n",
       "      <td>-0.039657</td>\n",
       "      <td>0.014007</td>\n",
       "      <td>-0.023879</td>\n",
       "      <td>-0.012495</td>\n",
       "      <td>0.006035</td>\n",
       "      <td>0.000349</td>\n",
       "      <td>-0.006111</td>\n",
       "    </tr>\n",
       "    <tr>\n",
       "      <th>DD</th>\n",
       "      <td>11.176187</td>\n",
       "      <td>0.072868</td>\n",
       "      <td>-0.017836</td>\n",
       "      <td>-0.200085</td>\n",
       "      <td>0.175026</td>\n",
       "      <td>-0.286952</td>\n",
       "      <td>-0.078575</td>\n",
       "      <td>-0.061978</td>\n",
       "      <td>-0.039657</td>\n",
       "      <td>11.249055</td>\n",
       "      <td>-0.329846</td>\n",
       "      <td>10.738959</td>\n",
       "      <td>1.813830</td>\n",
       "      <td>-1.141097</td>\n",
       "      <td>0.443736</td>\n",
       "      <td>1.116469</td>\n",
       "    </tr>\n",
       "    <tr>\n",
       "      <th>CCPH</th>\n",
       "      <td>-0.248329</td>\n",
       "      <td>-0.081517</td>\n",
       "      <td>0.001645</td>\n",
       "      <td>0.116212</td>\n",
       "      <td>0.027211</td>\n",
       "      <td>0.103313</td>\n",
       "      <td>-0.020082</td>\n",
       "      <td>0.011579</td>\n",
       "      <td>0.014007</td>\n",
       "      <td>-0.329846</td>\n",
       "      <td>0.248381</td>\n",
       "      <td>-0.075961</td>\n",
       "      <td>-0.220463</td>\n",
       "      <td>0.205248</td>\n",
       "      <td>-0.008292</td>\n",
       "      <td>-0.023507</td>\n",
       "    </tr>\n",
       "    <tr>\n",
       "      <th>TchlA (ug/L)</th>\n",
       "      <td>10.576746</td>\n",
       "      <td>0.162213</td>\n",
       "      <td>-0.014727</td>\n",
       "      <td>-0.079422</td>\n",
       "      <td>0.197566</td>\n",
       "      <td>-0.179378</td>\n",
       "      <td>0.160922</td>\n",
       "      <td>-0.029013</td>\n",
       "      <td>-0.023879</td>\n",
       "      <td>10.738959</td>\n",
       "      <td>-0.075961</td>\n",
       "      <td>10.770950</td>\n",
       "      <td>1.412733</td>\n",
       "      <td>-0.838214</td>\n",
       "      <td>0.399639</td>\n",
       "      <td>0.974158</td>\n",
       "    </tr>\n",
       "    <tr>\n",
       "      <th>mod_diatoms_chl</th>\n",
       "      <td>1.765120</td>\n",
       "      <td>0.048711</td>\n",
       "      <td>-0.006541</td>\n",
       "      <td>-0.093241</td>\n",
       "      <td>-0.001858</td>\n",
       "      <td>-0.118823</td>\n",
       "      <td>-0.136795</td>\n",
       "      <td>-0.031342</td>\n",
       "      <td>-0.012495</td>\n",
       "      <td>1.813830</td>\n",
       "      <td>-0.220463</td>\n",
       "      <td>1.412733</td>\n",
       "      <td>0.881834</td>\n",
       "      <td>0.052229</td>\n",
       "      <td>0.167970</td>\n",
       "      <td>1.102033</td>\n",
       "    </tr>\n",
       "    <tr>\n",
       "      <th>mod_flagellates_chl</th>\n",
       "      <td>-1.023518</td>\n",
       "      <td>-0.117579</td>\n",
       "      <td>0.005645</td>\n",
       "      <td>0.025687</td>\n",
       "      <td>0.007582</td>\n",
       "      <td>0.166335</td>\n",
       "      <td>0.065911</td>\n",
       "      <td>0.025691</td>\n",
       "      <td>0.006035</td>\n",
       "      <td>-1.141097</td>\n",
       "      <td>0.205248</td>\n",
       "      <td>-0.838214</td>\n",
       "      <td>0.052229</td>\n",
       "      <td>0.428984</td>\n",
       "      <td>0.090964</td>\n",
       "      <td>0.572177</td>\n",
       "    </tr>\n",
       "    <tr>\n",
       "      <th>mod_ciliates_chl</th>\n",
       "      <td>0.436112</td>\n",
       "      <td>0.007623</td>\n",
       "      <td>-0.001559</td>\n",
       "      <td>0.013404</td>\n",
       "      <td>0.010318</td>\n",
       "      <td>-0.030455</td>\n",
       "      <td>-0.032412</td>\n",
       "      <td>-0.003740</td>\n",
       "      <td>0.000349</td>\n",
       "      <td>0.443736</td>\n",
       "      <td>-0.008292</td>\n",
       "      <td>0.399639</td>\n",
       "      <td>0.167970</td>\n",
       "      <td>0.090964</td>\n",
       "      <td>0.106247</td>\n",
       "      <td>0.365181</td>\n",
       "    </tr>\n",
       "    <tr>\n",
       "      <th>mod_TChl</th>\n",
       "      <td>1.177714</td>\n",
       "      <td>-0.061245</td>\n",
       "      <td>-0.002455</td>\n",
       "      <td>-0.054151</td>\n",
       "      <td>0.016042</td>\n",
       "      <td>0.017057</td>\n",
       "      <td>-0.103297</td>\n",
       "      <td>-0.009392</td>\n",
       "      <td>-0.006111</td>\n",
       "      <td>1.116469</td>\n",
       "      <td>-0.023507</td>\n",
       "      <td>0.974158</td>\n",
       "      <td>1.102033</td>\n",
       "      <td>0.572177</td>\n",
       "      <td>0.365181</td>\n",
       "      <td>2.039390</td>\n",
       "    </tr>\n",
       "  </tbody>\n",
       "</table>\n",
       "</div>"
      ],
      "text/plain": [
       "                     Diatoms-1  Diatoms-2  Cyanobacteria  Cryptophytes  \\\n",
       "Diatoms-1            11.421175  -0.244988      -0.017372     -0.166095   \n",
       "Diatoms-2            -0.244988   0.317857      -0.000464     -0.033990   \n",
       "Cyanobacteria        -0.017372  -0.000464       0.000138      0.000296   \n",
       "Cryptophytes         -0.166095  -0.033990       0.000296      0.092097   \n",
       "Prasinophytes         0.192180  -0.017153      -0.000160      0.010963   \n",
       "Haptophytes          -0.257041  -0.029910       0.001370      0.012856   \n",
       "Dictyochophytes      -0.248096   0.169521       0.001138     -0.009275   \n",
       "Dinoflagellates      -0.067514   0.005536       0.000220      0.004147   \n",
       "Raphidophytes        -0.035472  -0.004185       0.000103      0.009569   \n",
       "DD                   11.176187   0.072868      -0.017836     -0.200085   \n",
       "CCPH                 -0.248329  -0.081517       0.001645      0.116212   \n",
       "TchlA (ug/L)         10.576746   0.162213      -0.014727     -0.079422   \n",
       "mod_diatoms_chl       1.765120   0.048711      -0.006541     -0.093241   \n",
       "mod_flagellates_chl  -1.023518  -0.117579       0.005645      0.025687   \n",
       "mod_ciliates_chl      0.436112   0.007623      -0.001559      0.013404   \n",
       "mod_TChl              1.177714  -0.061245      -0.002455     -0.054151   \n",
       "\n",
       "                     Prasinophytes  Haptophytes  Dictyochophytes  \\\n",
       "Diatoms-1                 0.192180    -0.257041        -0.248096   \n",
       "Diatoms-2                -0.017153    -0.029910         0.169521   \n",
       "Cyanobacteria            -0.000160     0.001370         0.001138   \n",
       "Cryptophytes              0.010963     0.012856        -0.009275   \n",
       "Prasinophytes             0.010794     0.005614        -0.007196   \n",
       "Haptophytes               0.005614     0.083472        -0.004750   \n",
       "Dictyochophytes          -0.007196    -0.004750         0.244144   \n",
       "Dinoflagellates           0.001278     0.005934         0.016110   \n",
       "Raphidophytes             0.001249     0.003086        -0.000640   \n",
       "DD                        0.175026    -0.286952        -0.078575   \n",
       "CCPH                      0.027211     0.103313        -0.020082   \n",
       "TchlA (ug/L)              0.197566    -0.179378         0.160922   \n",
       "mod_diatoms_chl          -0.001858    -0.118823        -0.136795   \n",
       "mod_flagellates_chl       0.007582     0.166335         0.065911   \n",
       "mod_ciliates_chl          0.010318    -0.030455        -0.032412   \n",
       "mod_TChl                  0.016042     0.017057        -0.103297   \n",
       "\n",
       "                     Dinoflagellates  Raphidophytes         DD      CCPH  \\\n",
       "Diatoms-1                  -0.067514      -0.035472  11.176187 -0.248329   \n",
       "Diatoms-2                   0.005536      -0.004185   0.072868 -0.081517   \n",
       "Cyanobacteria               0.000220       0.000103  -0.017836  0.001645   \n",
       "Cryptophytes                0.004147       0.009569  -0.200085  0.116212   \n",
       "Prasinophytes               0.001278       0.001249   0.175026  0.027211   \n",
       "Haptophytes                 0.005934       0.003086  -0.286952  0.103313   \n",
       "Dictyochophytes             0.016110      -0.000640  -0.078575 -0.020082   \n",
       "Dinoflagellates             0.004579       0.000703  -0.061978  0.011579   \n",
       "Raphidophytes               0.000703       0.001707  -0.039657  0.014007   \n",
       "DD                         -0.061978      -0.039657  11.249055 -0.329846   \n",
       "CCPH                        0.011579       0.014007  -0.329846  0.248381   \n",
       "TchlA (ug/L)               -0.029013      -0.023879  10.738959 -0.075961   \n",
       "mod_diatoms_chl            -0.031342      -0.012495   1.813830 -0.220463   \n",
       "mod_flagellates_chl         0.025691       0.006035  -1.141097  0.205248   \n",
       "mod_ciliates_chl           -0.003740       0.000349   0.443736 -0.008292   \n",
       "mod_TChl                   -0.009392      -0.006111   1.116469 -0.023507   \n",
       "\n",
       "                     TchlA (ug/L)  mod_diatoms_chl  mod_flagellates_chl  \\\n",
       "Diatoms-1               10.576746         1.765120            -1.023518   \n",
       "Diatoms-2                0.162213         0.048711            -0.117579   \n",
       "Cyanobacteria           -0.014727        -0.006541             0.005645   \n",
       "Cryptophytes            -0.079422        -0.093241             0.025687   \n",
       "Prasinophytes            0.197566        -0.001858             0.007582   \n",
       "Haptophytes             -0.179378        -0.118823             0.166335   \n",
       "Dictyochophytes          0.160922        -0.136795             0.065911   \n",
       "Dinoflagellates         -0.029013        -0.031342             0.025691   \n",
       "Raphidophytes           -0.023879        -0.012495             0.006035   \n",
       "DD                      10.738959         1.813830            -1.141097   \n",
       "CCPH                    -0.075961        -0.220463             0.205248   \n",
       "TchlA (ug/L)            10.770950         1.412733            -0.838214   \n",
       "mod_diatoms_chl          1.412733         0.881834             0.052229   \n",
       "mod_flagellates_chl     -0.838214         0.052229             0.428984   \n",
       "mod_ciliates_chl         0.399639         0.167970             0.090964   \n",
       "mod_TChl                 0.974158         1.102033             0.572177   \n",
       "\n",
       "                     mod_ciliates_chl  mod_TChl  \n",
       "Diatoms-1                    0.436112  1.177714  \n",
       "Diatoms-2                    0.007623 -0.061245  \n",
       "Cyanobacteria               -0.001559 -0.002455  \n",
       "Cryptophytes                 0.013404 -0.054151  \n",
       "Prasinophytes                0.010318  0.016042  \n",
       "Haptophytes                 -0.030455  0.017057  \n",
       "Dictyochophytes             -0.032412 -0.103297  \n",
       "Dinoflagellates             -0.003740 -0.009392  \n",
       "Raphidophytes                0.000349 -0.006111  \n",
       "DD                           0.443736  1.116469  \n",
       "CCPH                        -0.008292 -0.023507  \n",
       "TchlA (ug/L)                 0.399639  0.974158  \n",
       "mod_diatoms_chl              0.167970  1.102033  \n",
       "mod_flagellates_chl          0.090964  0.572177  \n",
       "mod_ciliates_chl             0.106247  0.365181  \n",
       "mod_TChl                     0.365181  2.039390  "
      ]
     },
     "execution_count": 35,
     "metadata": {},
     "output_type": "execute_result"
    }
   ],
   "source": [
    "dfVars.cov()"
   ]
  },
  {
   "cell_type": "markdown",
   "metadata": {
    "papermill": {
     "duration": 0.028753,
     "end_time": "2020-11-16T18:42:01.431810",
     "exception": false,
     "start_time": "2020-11-16T18:42:01.403057",
     "status": "completed"
    },
    "tags": []
   },
   "source": [
    "### Correlation Coefficient Matrix"
   ]
  },
  {
   "cell_type": "code",
   "execution_count": 36,
   "metadata": {
    "papermill": {
     "duration": 0.046323,
     "end_time": "2020-11-16T18:42:01.507374",
     "exception": false,
     "start_time": "2020-11-16T18:42:01.461051",
     "status": "completed"
    },
    "tags": []
   },
   "outputs": [
    {
     "data": {
      "text/html": [
       "<div>\n",
       "<style scoped>\n",
       "    .dataframe tbody tr th:only-of-type {\n",
       "        vertical-align: middle;\n",
       "    }\n",
       "\n",
       "    .dataframe tbody tr th {\n",
       "        vertical-align: top;\n",
       "    }\n",
       "\n",
       "    .dataframe thead th {\n",
       "        text-align: right;\n",
       "    }\n",
       "</style>\n",
       "<table border=\"1\" class=\"dataframe\">\n",
       "  <thead>\n",
       "    <tr style=\"text-align: right;\">\n",
       "      <th></th>\n",
       "      <th>Diatoms-1</th>\n",
       "      <th>Diatoms-2</th>\n",
       "      <th>Cyanobacteria</th>\n",
       "      <th>Cryptophytes</th>\n",
       "      <th>Prasinophytes</th>\n",
       "      <th>Haptophytes</th>\n",
       "      <th>Dictyochophytes</th>\n",
       "      <th>Dinoflagellates</th>\n",
       "      <th>Raphidophytes</th>\n",
       "      <th>DD</th>\n",
       "      <th>CCPH</th>\n",
       "      <th>TchlA (ug/L)</th>\n",
       "      <th>mod_diatoms_chl</th>\n",
       "      <th>mod_flagellates_chl</th>\n",
       "      <th>mod_ciliates_chl</th>\n",
       "      <th>mod_TChl</th>\n",
       "    </tr>\n",
       "  </thead>\n",
       "  <tbody>\n",
       "    <tr>\n",
       "      <th>Diatoms-1</th>\n",
       "      <td>1.000000</td>\n",
       "      <td>-0.128580</td>\n",
       "      <td>-0.437807</td>\n",
       "      <td>-0.161949</td>\n",
       "      <td>0.547335</td>\n",
       "      <td>-0.263255</td>\n",
       "      <td>-0.148573</td>\n",
       "      <td>-0.295239</td>\n",
       "      <td>-0.254024</td>\n",
       "      <td>0.986008</td>\n",
       "      <td>-0.147439</td>\n",
       "      <td>0.953608</td>\n",
       "      <td>0.385216</td>\n",
       "      <td>-0.340277</td>\n",
       "      <td>0.503829</td>\n",
       "      <td>0.303837</td>\n",
       "    </tr>\n",
       "    <tr>\n",
       "      <th>Diatoms-2</th>\n",
       "      <td>-0.128580</td>\n",
       "      <td>1.000000</td>\n",
       "      <td>-0.070047</td>\n",
       "      <td>-0.198659</td>\n",
       "      <td>-0.292845</td>\n",
       "      <td>-0.183626</td>\n",
       "      <td>0.608533</td>\n",
       "      <td>0.145121</td>\n",
       "      <td>-0.179647</td>\n",
       "      <td>0.038536</td>\n",
       "      <td>-0.290117</td>\n",
       "      <td>0.087668</td>\n",
       "      <td>0.063723</td>\n",
       "      <td>-0.234319</td>\n",
       "      <td>0.052793</td>\n",
       "      <td>-0.094713</td>\n",
       "    </tr>\n",
       "    <tr>\n",
       "      <th>Cyanobacteria</th>\n",
       "      <td>-0.437807</td>\n",
       "      <td>-0.070047</td>\n",
       "      <td>1.000000</td>\n",
       "      <td>0.083171</td>\n",
       "      <td>-0.130811</td>\n",
       "      <td>0.403993</td>\n",
       "      <td>0.196230</td>\n",
       "      <td>0.277244</td>\n",
       "      <td>0.212974</td>\n",
       "      <td>-0.452918</td>\n",
       "      <td>0.281133</td>\n",
       "      <td>-0.382196</td>\n",
       "      <td>-0.410898</td>\n",
       "      <td>0.540231</td>\n",
       "      <td>-0.518396</td>\n",
       "      <td>-0.182285</td>\n",
       "    </tr>\n",
       "    <tr>\n",
       "      <th>Cryptophytes</th>\n",
       "      <td>-0.161949</td>\n",
       "      <td>-0.198659</td>\n",
       "      <td>0.083171</td>\n",
       "      <td>1.000000</td>\n",
       "      <td>0.347692</td>\n",
       "      <td>0.146626</td>\n",
       "      <td>-0.061852</td>\n",
       "      <td>0.201945</td>\n",
       "      <td>0.763116</td>\n",
       "      <td>-0.196577</td>\n",
       "      <td>0.768368</td>\n",
       "      <td>-0.079742</td>\n",
       "      <td>-0.226605</td>\n",
       "      <td>0.095099</td>\n",
       "      <td>0.172441</td>\n",
       "      <td>-0.155574</td>\n",
       "    </tr>\n",
       "    <tr>\n",
       "      <th>Prasinophytes</th>\n",
       "      <td>0.547335</td>\n",
       "      <td>-0.292845</td>\n",
       "      <td>-0.130811</td>\n",
       "      <td>0.347692</td>\n",
       "      <td>1.000000</td>\n",
       "      <td>0.187023</td>\n",
       "      <td>-0.140178</td>\n",
       "      <td>0.181800</td>\n",
       "      <td>0.290879</td>\n",
       "      <td>0.502280</td>\n",
       "      <td>0.525524</td>\n",
       "      <td>0.579410</td>\n",
       "      <td>-0.013190</td>\n",
       "      <td>0.081991</td>\n",
       "      <td>0.387727</td>\n",
       "      <td>0.134618</td>\n",
       "    </tr>\n",
       "    <tr>\n",
       "      <th>Haptophytes</th>\n",
       "      <td>-0.263255</td>\n",
       "      <td>-0.183626</td>\n",
       "      <td>0.403993</td>\n",
       "      <td>0.146626</td>\n",
       "      <td>0.187023</td>\n",
       "      <td>1.000000</td>\n",
       "      <td>-0.033271</td>\n",
       "      <td>0.303529</td>\n",
       "      <td>0.258471</td>\n",
       "      <td>-0.296128</td>\n",
       "      <td>0.717501</td>\n",
       "      <td>-0.189178</td>\n",
       "      <td>-0.303328</td>\n",
       "      <td>0.646851</td>\n",
       "      <td>-0.411550</td>\n",
       "      <td>0.051475</td>\n",
       "    </tr>\n",
       "    <tr>\n",
       "      <th>Dictyochophytes</th>\n",
       "      <td>-0.148573</td>\n",
       "      <td>0.608533</td>\n",
       "      <td>0.196230</td>\n",
       "      <td>-0.061852</td>\n",
       "      <td>-0.140178</td>\n",
       "      <td>-0.033271</td>\n",
       "      <td>1.000000</td>\n",
       "      <td>0.481847</td>\n",
       "      <td>-0.031336</td>\n",
       "      <td>-0.047414</td>\n",
       "      <td>-0.081550</td>\n",
       "      <td>0.099235</td>\n",
       "      <td>-0.204189</td>\n",
       "      <td>0.149874</td>\n",
       "      <td>-0.256111</td>\n",
       "      <td>-0.182272</td>\n",
       "    </tr>\n",
       "    <tr>\n",
       "      <th>Dinoflagellates</th>\n",
       "      <td>-0.295239</td>\n",
       "      <td>0.145121</td>\n",
       "      <td>0.277244</td>\n",
       "      <td>0.201945</td>\n",
       "      <td>0.181800</td>\n",
       "      <td>0.303529</td>\n",
       "      <td>0.481847</td>\n",
       "      <td>1.000000</td>\n",
       "      <td>0.251314</td>\n",
       "      <td>-0.273095</td>\n",
       "      <td>0.343359</td>\n",
       "      <td>-0.130645</td>\n",
       "      <td>-0.341628</td>\n",
       "      <td>0.426582</td>\n",
       "      <td>-0.215785</td>\n",
       "      <td>-0.121013</td>\n",
       "    </tr>\n",
       "    <tr>\n",
       "      <th>Raphidophytes</th>\n",
       "      <td>-0.254024</td>\n",
       "      <td>-0.179647</td>\n",
       "      <td>0.212974</td>\n",
       "      <td>0.763116</td>\n",
       "      <td>0.290879</td>\n",
       "      <td>0.258471</td>\n",
       "      <td>-0.031336</td>\n",
       "      <td>0.251314</td>\n",
       "      <td>1.000000</td>\n",
       "      <td>-0.286158</td>\n",
       "      <td>0.680175</td>\n",
       "      <td>-0.176089</td>\n",
       "      <td>-0.223023</td>\n",
       "      <td>0.164093</td>\n",
       "      <td>0.032953</td>\n",
       "      <td>-0.128950</td>\n",
       "    </tr>\n",
       "    <tr>\n",
       "      <th>DD</th>\n",
       "      <td>0.986008</td>\n",
       "      <td>0.038536</td>\n",
       "      <td>-0.452918</td>\n",
       "      <td>-0.196577</td>\n",
       "      <td>0.502280</td>\n",
       "      <td>-0.296128</td>\n",
       "      <td>-0.047414</td>\n",
       "      <td>-0.273095</td>\n",
       "      <td>-0.286158</td>\n",
       "      <td>1.000000</td>\n",
       "      <td>-0.197330</td>\n",
       "      <td>0.975612</td>\n",
       "      <td>0.398863</td>\n",
       "      <td>-0.382259</td>\n",
       "      <td>0.516543</td>\n",
       "      <td>0.290232</td>\n",
       "    </tr>\n",
       "    <tr>\n",
       "      <th>CCPH</th>\n",
       "      <td>-0.147439</td>\n",
       "      <td>-0.290117</td>\n",
       "      <td>0.281133</td>\n",
       "      <td>0.768368</td>\n",
       "      <td>0.525524</td>\n",
       "      <td>0.717501</td>\n",
       "      <td>-0.081550</td>\n",
       "      <td>0.343359</td>\n",
       "      <td>0.680175</td>\n",
       "      <td>-0.197330</td>\n",
       "      <td>1.000000</td>\n",
       "      <td>-0.046441</td>\n",
       "      <td>-0.326258</td>\n",
       "      <td>0.462715</td>\n",
       "      <td>-0.064960</td>\n",
       "      <td>-0.041123</td>\n",
       "    </tr>\n",
       "    <tr>\n",
       "      <th>TchlA (ug/L)</th>\n",
       "      <td>0.953608</td>\n",
       "      <td>0.087668</td>\n",
       "      <td>-0.382196</td>\n",
       "      <td>-0.079742</td>\n",
       "      <td>0.579410</td>\n",
       "      <td>-0.189178</td>\n",
       "      <td>0.099235</td>\n",
       "      <td>-0.130645</td>\n",
       "      <td>-0.176089</td>\n",
       "      <td>0.975612</td>\n",
       "      <td>-0.046441</td>\n",
       "      <td>1.000000</td>\n",
       "      <td>0.317482</td>\n",
       "      <td>-0.286960</td>\n",
       "      <td>0.475424</td>\n",
       "      <td>0.258797</td>\n",
       "    </tr>\n",
       "    <tr>\n",
       "      <th>mod_diatoms_chl</th>\n",
       "      <td>0.385216</td>\n",
       "      <td>0.063723</td>\n",
       "      <td>-0.410898</td>\n",
       "      <td>-0.226605</td>\n",
       "      <td>-0.013190</td>\n",
       "      <td>-0.303328</td>\n",
       "      <td>-0.204189</td>\n",
       "      <td>-0.341628</td>\n",
       "      <td>-0.223023</td>\n",
       "      <td>0.398863</td>\n",
       "      <td>-0.326258</td>\n",
       "      <td>0.317482</td>\n",
       "      <td>1.000000</td>\n",
       "      <td>0.084918</td>\n",
       "      <td>0.548756</td>\n",
       "      <td>0.821771</td>\n",
       "    </tr>\n",
       "    <tr>\n",
       "      <th>mod_flagellates_chl</th>\n",
       "      <td>-0.340277</td>\n",
       "      <td>-0.234319</td>\n",
       "      <td>0.540231</td>\n",
       "      <td>0.095099</td>\n",
       "      <td>0.081991</td>\n",
       "      <td>0.646851</td>\n",
       "      <td>0.149874</td>\n",
       "      <td>0.426582</td>\n",
       "      <td>0.164093</td>\n",
       "      <td>-0.382259</td>\n",
       "      <td>0.462715</td>\n",
       "      <td>-0.286960</td>\n",
       "      <td>0.084918</td>\n",
       "      <td>1.000000</td>\n",
       "      <td>0.426078</td>\n",
       "      <td>0.611730</td>\n",
       "    </tr>\n",
       "    <tr>\n",
       "      <th>mod_ciliates_chl</th>\n",
       "      <td>0.503829</td>\n",
       "      <td>0.052793</td>\n",
       "      <td>-0.518396</td>\n",
       "      <td>0.172441</td>\n",
       "      <td>0.387727</td>\n",
       "      <td>-0.411550</td>\n",
       "      <td>-0.256111</td>\n",
       "      <td>-0.215785</td>\n",
       "      <td>0.032953</td>\n",
       "      <td>0.516543</td>\n",
       "      <td>-0.064960</td>\n",
       "      <td>0.475424</td>\n",
       "      <td>0.548756</td>\n",
       "      <td>0.426078</td>\n",
       "      <td>1.000000</td>\n",
       "      <td>0.784511</td>\n",
       "    </tr>\n",
       "    <tr>\n",
       "      <th>mod_TChl</th>\n",
       "      <td>0.303837</td>\n",
       "      <td>-0.094713</td>\n",
       "      <td>-0.182285</td>\n",
       "      <td>-0.155574</td>\n",
       "      <td>0.134618</td>\n",
       "      <td>0.051475</td>\n",
       "      <td>-0.182272</td>\n",
       "      <td>-0.121013</td>\n",
       "      <td>-0.128950</td>\n",
       "      <td>0.290232</td>\n",
       "      <td>-0.041123</td>\n",
       "      <td>0.258797</td>\n",
       "      <td>0.821771</td>\n",
       "      <td>0.611730</td>\n",
       "      <td>0.784511</td>\n",
       "      <td>1.000000</td>\n",
       "    </tr>\n",
       "  </tbody>\n",
       "</table>\n",
       "</div>"
      ],
      "text/plain": [
       "                     Diatoms-1  Diatoms-2  Cyanobacteria  Cryptophytes  \\\n",
       "Diatoms-1             1.000000  -0.128580      -0.437807     -0.161949   \n",
       "Diatoms-2            -0.128580   1.000000      -0.070047     -0.198659   \n",
       "Cyanobacteria        -0.437807  -0.070047       1.000000      0.083171   \n",
       "Cryptophytes         -0.161949  -0.198659       0.083171      1.000000   \n",
       "Prasinophytes         0.547335  -0.292845      -0.130811      0.347692   \n",
       "Haptophytes          -0.263255  -0.183626       0.403993      0.146626   \n",
       "Dictyochophytes      -0.148573   0.608533       0.196230     -0.061852   \n",
       "Dinoflagellates      -0.295239   0.145121       0.277244      0.201945   \n",
       "Raphidophytes        -0.254024  -0.179647       0.212974      0.763116   \n",
       "DD                    0.986008   0.038536      -0.452918     -0.196577   \n",
       "CCPH                 -0.147439  -0.290117       0.281133      0.768368   \n",
       "TchlA (ug/L)          0.953608   0.087668      -0.382196     -0.079742   \n",
       "mod_diatoms_chl       0.385216   0.063723      -0.410898     -0.226605   \n",
       "mod_flagellates_chl  -0.340277  -0.234319       0.540231      0.095099   \n",
       "mod_ciliates_chl      0.503829   0.052793      -0.518396      0.172441   \n",
       "mod_TChl              0.303837  -0.094713      -0.182285     -0.155574   \n",
       "\n",
       "                     Prasinophytes  Haptophytes  Dictyochophytes  \\\n",
       "Diatoms-1                 0.547335    -0.263255        -0.148573   \n",
       "Diatoms-2                -0.292845    -0.183626         0.608533   \n",
       "Cyanobacteria            -0.130811     0.403993         0.196230   \n",
       "Cryptophytes              0.347692     0.146626        -0.061852   \n",
       "Prasinophytes             1.000000     0.187023        -0.140178   \n",
       "Haptophytes               0.187023     1.000000        -0.033271   \n",
       "Dictyochophytes          -0.140178    -0.033271         1.000000   \n",
       "Dinoflagellates           0.181800     0.303529         0.481847   \n",
       "Raphidophytes             0.290879     0.258471        -0.031336   \n",
       "DD                        0.502280    -0.296128        -0.047414   \n",
       "CCPH                      0.525524     0.717501        -0.081550   \n",
       "TchlA (ug/L)              0.579410    -0.189178         0.099235   \n",
       "mod_diatoms_chl          -0.013190    -0.303328        -0.204189   \n",
       "mod_flagellates_chl       0.081991     0.646851         0.149874   \n",
       "mod_ciliates_chl          0.387727    -0.411550        -0.256111   \n",
       "mod_TChl                  0.134618     0.051475        -0.182272   \n",
       "\n",
       "                     Dinoflagellates  Raphidophytes        DD      CCPH  \\\n",
       "Diatoms-1                  -0.295239      -0.254024  0.986008 -0.147439   \n",
       "Diatoms-2                   0.145121      -0.179647  0.038536 -0.290117   \n",
       "Cyanobacteria               0.277244       0.212974 -0.452918  0.281133   \n",
       "Cryptophytes                0.201945       0.763116 -0.196577  0.768368   \n",
       "Prasinophytes               0.181800       0.290879  0.502280  0.525524   \n",
       "Haptophytes                 0.303529       0.258471 -0.296128  0.717501   \n",
       "Dictyochophytes             0.481847      -0.031336 -0.047414 -0.081550   \n",
       "Dinoflagellates             1.000000       0.251314 -0.273095  0.343359   \n",
       "Raphidophytes               0.251314       1.000000 -0.286158  0.680175   \n",
       "DD                         -0.273095      -0.286158  1.000000 -0.197330   \n",
       "CCPH                        0.343359       0.680175 -0.197330  1.000000   \n",
       "TchlA (ug/L)               -0.130645      -0.176089  0.975612 -0.046441   \n",
       "mod_diatoms_chl            -0.341628      -0.223023  0.398863 -0.326258   \n",
       "mod_flagellates_chl         0.426582       0.164093 -0.382259  0.462715   \n",
       "mod_ciliates_chl           -0.215785       0.032953  0.516543 -0.064960   \n",
       "mod_TChl                   -0.121013      -0.128950  0.290232 -0.041123   \n",
       "\n",
       "                     TchlA (ug/L)  mod_diatoms_chl  mod_flagellates_chl  \\\n",
       "Diatoms-1                0.953608         0.385216            -0.340277   \n",
       "Diatoms-2                0.087668         0.063723            -0.234319   \n",
       "Cyanobacteria           -0.382196        -0.410898             0.540231   \n",
       "Cryptophytes            -0.079742        -0.226605             0.095099   \n",
       "Prasinophytes            0.579410        -0.013190             0.081991   \n",
       "Haptophytes             -0.189178        -0.303328             0.646851   \n",
       "Dictyochophytes          0.099235        -0.204189             0.149874   \n",
       "Dinoflagellates         -0.130645        -0.341628             0.426582   \n",
       "Raphidophytes           -0.176089        -0.223023             0.164093   \n",
       "DD                       0.975612         0.398863            -0.382259   \n",
       "CCPH                    -0.046441        -0.326258             0.462715   \n",
       "TchlA (ug/L)             1.000000         0.317482            -0.286960   \n",
       "mod_diatoms_chl          0.317482         1.000000             0.084918   \n",
       "mod_flagellates_chl     -0.286960         0.084918             1.000000   \n",
       "mod_ciliates_chl         0.475424         0.548756             0.426078   \n",
       "mod_TChl                 0.258797         0.821771             0.611730   \n",
       "\n",
       "                     mod_ciliates_chl  mod_TChl  \n",
       "Diatoms-1                    0.503829  0.303837  \n",
       "Diatoms-2                    0.052793 -0.094713  \n",
       "Cyanobacteria               -0.518396 -0.182285  \n",
       "Cryptophytes                 0.172441 -0.155574  \n",
       "Prasinophytes                0.387727  0.134618  \n",
       "Haptophytes                 -0.411550  0.051475  \n",
       "Dictyochophytes             -0.256111 -0.182272  \n",
       "Dinoflagellates             -0.215785 -0.121013  \n",
       "Raphidophytes                0.032953 -0.128950  \n",
       "DD                           0.516543  0.290232  \n",
       "CCPH                        -0.064960 -0.041123  \n",
       "TchlA (ug/L)                 0.475424  0.258797  \n",
       "mod_diatoms_chl              0.548756  0.821771  \n",
       "mod_flagellates_chl          0.426078  0.611730  \n",
       "mod_ciliates_chl             1.000000  0.784511  \n",
       "mod_TChl                     0.784511  1.000000  "
      ]
     },
     "execution_count": 36,
     "metadata": {},
     "output_type": "execute_result"
    }
   ],
   "source": [
    "dfVars.corr()"
   ]
  },
  {
   "cell_type": "markdown",
   "metadata": {
    "papermill": {
     "duration": 0.030465,
     "end_time": "2020-11-16T18:42:01.568729",
     "exception": false,
     "start_time": "2020-11-16T18:42:01.538264",
     "status": "completed"
    },
    "tags": []
   },
   "source": [
    "### Cov matrix with log transformed values:"
   ]
  },
  {
   "cell_type": "code",
   "execution_count": 37,
   "metadata": {
    "papermill": {
     "duration": 0.056384,
     "end_time": "2020-11-16T18:42:01.656024",
     "exception": false,
     "start_time": "2020-11-16T18:42:01.599640",
     "status": "completed"
    },
    "tags": []
   },
   "outputs": [
    {
     "data": {
      "text/html": [
       "<div>\n",
       "<style scoped>\n",
       "    .dataframe tbody tr th:only-of-type {\n",
       "        vertical-align: middle;\n",
       "    }\n",
       "\n",
       "    .dataframe tbody tr th {\n",
       "        vertical-align: top;\n",
       "    }\n",
       "\n",
       "    .dataframe thead th {\n",
       "        text-align: right;\n",
       "    }\n",
       "</style>\n",
       "<table border=\"1\" class=\"dataframe\">\n",
       "  <thead>\n",
       "    <tr style=\"text-align: right;\">\n",
       "      <th></th>\n",
       "      <th>Diatoms-1</th>\n",
       "      <th>Diatoms-2</th>\n",
       "      <th>Cyanobacteria</th>\n",
       "      <th>Cryptophytes</th>\n",
       "      <th>Prasinophytes</th>\n",
       "      <th>Haptophytes</th>\n",
       "      <th>Dictyochophytes</th>\n",
       "      <th>Dinoflagellates</th>\n",
       "      <th>Raphidophytes</th>\n",
       "      <th>CCPH</th>\n",
       "      <th>TchlA (ug/L)</th>\n",
       "      <th>mod_diatoms_chl</th>\n",
       "      <th>mod_flagellates_chl</th>\n",
       "      <th>mod_ciliates_chl</th>\n",
       "      <th>mod_TChl</th>\n",
       "    </tr>\n",
       "  </thead>\n",
       "  <tbody>\n",
       "    <tr>\n",
       "      <th>Diatoms-1</th>\n",
       "      <td>1.160620</td>\n",
       "      <td>-0.061769</td>\n",
       "      <td>-0.375355</td>\n",
       "      <td>-0.172599</td>\n",
       "      <td>0.066405</td>\n",
       "      <td>-0.610476</td>\n",
       "      <td>-0.282281</td>\n",
       "      <td>-0.262758</td>\n",
       "      <td>-0.196714</td>\n",
       "      <td>-0.155610</td>\n",
       "      <td>0.253038</td>\n",
       "      <td>0.231552</td>\n",
       "      <td>-0.168134</td>\n",
       "      <td>0.082110</td>\n",
       "      <td>-0.007110</td>\n",
       "    </tr>\n",
       "    <tr>\n",
       "      <th>Diatoms-2</th>\n",
       "      <td>-0.061769</td>\n",
       "      <td>1.346654</td>\n",
       "      <td>0.051303</td>\n",
       "      <td>-0.136411</td>\n",
       "      <td>-0.375949</td>\n",
       "      <td>0.026979</td>\n",
       "      <td>0.268575</td>\n",
       "      <td>0.074778</td>\n",
       "      <td>-0.060258</td>\n",
       "      <td>-0.175248</td>\n",
       "      <td>-0.008070</td>\n",
       "      <td>0.113976</td>\n",
       "      <td>-0.096261</td>\n",
       "      <td>0.017435</td>\n",
       "      <td>0.005501</td>\n",
       "    </tr>\n",
       "    <tr>\n",
       "      <th>Cyanobacteria</th>\n",
       "      <td>-0.375355</td>\n",
       "      <td>0.051303</td>\n",
       "      <td>0.359965</td>\n",
       "      <td>0.131210</td>\n",
       "      <td>0.027474</td>\n",
       "      <td>0.344655</td>\n",
       "      <td>0.286769</td>\n",
       "      <td>0.167806</td>\n",
       "      <td>0.171634</td>\n",
       "      <td>0.104548</td>\n",
       "      <td>-0.108038</td>\n",
       "      <td>-0.223640</td>\n",
       "      <td>0.138542</td>\n",
       "      <td>-0.050724</td>\n",
       "      <td>-0.011687</td>\n",
       "    </tr>\n",
       "    <tr>\n",
       "      <th>Cryptophytes</th>\n",
       "      <td>-0.172599</td>\n",
       "      <td>-0.136411</td>\n",
       "      <td>0.131210</td>\n",
       "      <td>0.568062</td>\n",
       "      <td>0.408380</td>\n",
       "      <td>0.226635</td>\n",
       "      <td>0.232425</td>\n",
       "      <td>0.338754</td>\n",
       "      <td>0.283283</td>\n",
       "      <td>0.362281</td>\n",
       "      <td>0.002789</td>\n",
       "      <td>-0.234239</td>\n",
       "      <td>0.136225</td>\n",
       "      <td>-0.019839</td>\n",
       "      <td>-0.043930</td>\n",
       "    </tr>\n",
       "    <tr>\n",
       "      <th>Prasinophytes</th>\n",
       "      <td>0.066405</td>\n",
       "      <td>-0.375949</td>\n",
       "      <td>0.027474</td>\n",
       "      <td>0.408380</td>\n",
       "      <td>0.630176</td>\n",
       "      <td>0.180115</td>\n",
       "      <td>0.085997</td>\n",
       "      <td>0.224307</td>\n",
       "      <td>0.190081</td>\n",
       "      <td>0.408052</td>\n",
       "      <td>0.085243</td>\n",
       "      <td>-0.146204</td>\n",
       "      <td>0.111221</td>\n",
       "      <td>-0.003042</td>\n",
       "      <td>-0.009458</td>\n",
       "    </tr>\n",
       "    <tr>\n",
       "      <th>Haptophytes</th>\n",
       "      <td>-0.610476</td>\n",
       "      <td>0.026979</td>\n",
       "      <td>0.344655</td>\n",
       "      <td>0.226635</td>\n",
       "      <td>0.180115</td>\n",
       "      <td>1.128340</td>\n",
       "      <td>0.280315</td>\n",
       "      <td>0.269602</td>\n",
       "      <td>0.305335</td>\n",
       "      <td>0.349696</td>\n",
       "      <td>-0.119446</td>\n",
       "      <td>-0.165374</td>\n",
       "      <td>0.211183</td>\n",
       "      <td>-0.051049</td>\n",
       "      <td>0.039209</td>\n",
       "    </tr>\n",
       "    <tr>\n",
       "      <th>Dictyochophytes</th>\n",
       "      <td>-0.282281</td>\n",
       "      <td>0.268575</td>\n",
       "      <td>0.286769</td>\n",
       "      <td>0.232425</td>\n",
       "      <td>0.085997</td>\n",
       "      <td>0.280315</td>\n",
       "      <td>0.860654</td>\n",
       "      <td>0.362032</td>\n",
       "      <td>0.219314</td>\n",
       "      <td>0.121753</td>\n",
       "      <td>-0.065282</td>\n",
       "      <td>-0.308791</td>\n",
       "      <td>0.166519</td>\n",
       "      <td>-0.057367</td>\n",
       "      <td>-0.025779</td>\n",
       "    </tr>\n",
       "    <tr>\n",
       "      <th>Dinoflagellates</th>\n",
       "      <td>-0.262758</td>\n",
       "      <td>0.074778</td>\n",
       "      <td>0.167806</td>\n",
       "      <td>0.338754</td>\n",
       "      <td>0.224307</td>\n",
       "      <td>0.269602</td>\n",
       "      <td>0.362032</td>\n",
       "      <td>0.556377</td>\n",
       "      <td>0.234927</td>\n",
       "      <td>0.237094</td>\n",
       "      <td>-0.053056</td>\n",
       "      <td>-0.220439</td>\n",
       "      <td>0.112609</td>\n",
       "      <td>-0.026189</td>\n",
       "      <td>-0.017930</td>\n",
       "    </tr>\n",
       "    <tr>\n",
       "      <th>Raphidophytes</th>\n",
       "      <td>-0.196714</td>\n",
       "      <td>-0.060258</td>\n",
       "      <td>0.171634</td>\n",
       "      <td>0.283283</td>\n",
       "      <td>0.190081</td>\n",
       "      <td>0.305335</td>\n",
       "      <td>0.219314</td>\n",
       "      <td>0.234927</td>\n",
       "      <td>0.637940</td>\n",
       "      <td>0.214979</td>\n",
       "      <td>-0.045417</td>\n",
       "      <td>-0.138944</td>\n",
       "      <td>0.082189</td>\n",
       "      <td>-0.005957</td>\n",
       "      <td>-0.010138</td>\n",
       "    </tr>\n",
       "    <tr>\n",
       "      <th>CCPH</th>\n",
       "      <td>-0.155610</td>\n",
       "      <td>-0.175248</td>\n",
       "      <td>0.104548</td>\n",
       "      <td>0.362281</td>\n",
       "      <td>0.408052</td>\n",
       "      <td>0.349696</td>\n",
       "      <td>0.121753</td>\n",
       "      <td>0.237094</td>\n",
       "      <td>0.214979</td>\n",
       "      <td>0.360380</td>\n",
       "      <td>0.017281</td>\n",
       "      <td>-0.143561</td>\n",
       "      <td>0.116679</td>\n",
       "      <td>-0.014705</td>\n",
       "      <td>-0.006459</td>\n",
       "    </tr>\n",
       "    <tr>\n",
       "      <th>TchlA (ug/L)</th>\n",
       "      <td>0.253038</td>\n",
       "      <td>-0.008070</td>\n",
       "      <td>-0.108038</td>\n",
       "      <td>0.002789</td>\n",
       "      <td>0.085243</td>\n",
       "      <td>-0.119446</td>\n",
       "      <td>-0.065282</td>\n",
       "      <td>-0.053056</td>\n",
       "      <td>-0.045417</td>\n",
       "      <td>0.017281</td>\n",
       "      <td>0.121837</td>\n",
       "      <td>0.051813</td>\n",
       "      <td>-0.035270</td>\n",
       "      <td>0.021683</td>\n",
       "      <td>0.002515</td>\n",
       "    </tr>\n",
       "    <tr>\n",
       "      <th>mod_diatoms_chl</th>\n",
       "      <td>0.231552</td>\n",
       "      <td>0.113976</td>\n",
       "      <td>-0.223640</td>\n",
       "      <td>-0.234239</td>\n",
       "      <td>-0.146204</td>\n",
       "      <td>-0.165374</td>\n",
       "      <td>-0.308791</td>\n",
       "      <td>-0.220439</td>\n",
       "      <td>-0.138944</td>\n",
       "      <td>-0.143561</td>\n",
       "      <td>0.051813</td>\n",
       "      <td>1.343927</td>\n",
       "      <td>0.716806</td>\n",
       "      <td>0.775011</td>\n",
       "      <td>0.921805</td>\n",
       "    </tr>\n",
       "    <tr>\n",
       "      <th>mod_flagellates_chl</th>\n",
       "      <td>-0.168134</td>\n",
       "      <td>-0.096261</td>\n",
       "      <td>0.138542</td>\n",
       "      <td>0.136225</td>\n",
       "      <td>0.111221</td>\n",
       "      <td>0.211183</td>\n",
       "      <td>0.166519</td>\n",
       "      <td>0.112609</td>\n",
       "      <td>0.082189</td>\n",
       "      <td>0.116679</td>\n",
       "      <td>-0.035270</td>\n",
       "      <td>0.716806</td>\n",
       "      <td>0.657255</td>\n",
       "      <td>0.603577</td>\n",
       "      <td>0.711552</td>\n",
       "    </tr>\n",
       "    <tr>\n",
       "      <th>mod_ciliates_chl</th>\n",
       "      <td>0.082110</td>\n",
       "      <td>0.017435</td>\n",
       "      <td>-0.050724</td>\n",
       "      <td>-0.019839</td>\n",
       "      <td>-0.003042</td>\n",
       "      <td>-0.051049</td>\n",
       "      <td>-0.057367</td>\n",
       "      <td>-0.026189</td>\n",
       "      <td>-0.005957</td>\n",
       "      <td>-0.014705</td>\n",
       "      <td>0.021683</td>\n",
       "      <td>0.775011</td>\n",
       "      <td>0.603577</td>\n",
       "      <td>0.678111</td>\n",
       "      <td>0.742578</td>\n",
       "    </tr>\n",
       "    <tr>\n",
       "      <th>mod_TChl</th>\n",
       "      <td>-0.007110</td>\n",
       "      <td>0.005501</td>\n",
       "      <td>-0.011687</td>\n",
       "      <td>-0.043930</td>\n",
       "      <td>-0.009458</td>\n",
       "      <td>0.039209</td>\n",
       "      <td>-0.025779</td>\n",
       "      <td>-0.017930</td>\n",
       "      <td>-0.010138</td>\n",
       "      <td>-0.006459</td>\n",
       "      <td>0.002515</td>\n",
       "      <td>0.921805</td>\n",
       "      <td>0.711552</td>\n",
       "      <td>0.742578</td>\n",
       "      <td>0.853382</td>\n",
       "    </tr>\n",
       "  </tbody>\n",
       "</table>\n",
       "</div>"
      ],
      "text/plain": [
       "                     Diatoms-1  Diatoms-2  Cyanobacteria  Cryptophytes  \\\n",
       "Diatoms-1             1.160620  -0.061769      -0.375355     -0.172599   \n",
       "Diatoms-2            -0.061769   1.346654       0.051303     -0.136411   \n",
       "Cyanobacteria        -0.375355   0.051303       0.359965      0.131210   \n",
       "Cryptophytes         -0.172599  -0.136411       0.131210      0.568062   \n",
       "Prasinophytes         0.066405  -0.375949       0.027474      0.408380   \n",
       "Haptophytes          -0.610476   0.026979       0.344655      0.226635   \n",
       "Dictyochophytes      -0.282281   0.268575       0.286769      0.232425   \n",
       "Dinoflagellates      -0.262758   0.074778       0.167806      0.338754   \n",
       "Raphidophytes        -0.196714  -0.060258       0.171634      0.283283   \n",
       "CCPH                 -0.155610  -0.175248       0.104548      0.362281   \n",
       "TchlA (ug/L)          0.253038  -0.008070      -0.108038      0.002789   \n",
       "mod_diatoms_chl       0.231552   0.113976      -0.223640     -0.234239   \n",
       "mod_flagellates_chl  -0.168134  -0.096261       0.138542      0.136225   \n",
       "mod_ciliates_chl      0.082110   0.017435      -0.050724     -0.019839   \n",
       "mod_TChl             -0.007110   0.005501      -0.011687     -0.043930   \n",
       "\n",
       "                     Prasinophytes  Haptophytes  Dictyochophytes  \\\n",
       "Diatoms-1                 0.066405    -0.610476        -0.282281   \n",
       "Diatoms-2                -0.375949     0.026979         0.268575   \n",
       "Cyanobacteria             0.027474     0.344655         0.286769   \n",
       "Cryptophytes              0.408380     0.226635         0.232425   \n",
       "Prasinophytes             0.630176     0.180115         0.085997   \n",
       "Haptophytes               0.180115     1.128340         0.280315   \n",
       "Dictyochophytes           0.085997     0.280315         0.860654   \n",
       "Dinoflagellates           0.224307     0.269602         0.362032   \n",
       "Raphidophytes             0.190081     0.305335         0.219314   \n",
       "CCPH                      0.408052     0.349696         0.121753   \n",
       "TchlA (ug/L)              0.085243    -0.119446        -0.065282   \n",
       "mod_diatoms_chl          -0.146204    -0.165374        -0.308791   \n",
       "mod_flagellates_chl       0.111221     0.211183         0.166519   \n",
       "mod_ciliates_chl         -0.003042    -0.051049        -0.057367   \n",
       "mod_TChl                 -0.009458     0.039209        -0.025779   \n",
       "\n",
       "                     Dinoflagellates  Raphidophytes      CCPH  TchlA (ug/L)  \\\n",
       "Diatoms-1                  -0.262758      -0.196714 -0.155610      0.253038   \n",
       "Diatoms-2                   0.074778      -0.060258 -0.175248     -0.008070   \n",
       "Cyanobacteria               0.167806       0.171634  0.104548     -0.108038   \n",
       "Cryptophytes                0.338754       0.283283  0.362281      0.002789   \n",
       "Prasinophytes               0.224307       0.190081  0.408052      0.085243   \n",
       "Haptophytes                 0.269602       0.305335  0.349696     -0.119446   \n",
       "Dictyochophytes             0.362032       0.219314  0.121753     -0.065282   \n",
       "Dinoflagellates             0.556377       0.234927  0.237094     -0.053056   \n",
       "Raphidophytes               0.234927       0.637940  0.214979     -0.045417   \n",
       "CCPH                        0.237094       0.214979  0.360380      0.017281   \n",
       "TchlA (ug/L)               -0.053056      -0.045417  0.017281      0.121837   \n",
       "mod_diatoms_chl            -0.220439      -0.138944 -0.143561      0.051813   \n",
       "mod_flagellates_chl         0.112609       0.082189  0.116679     -0.035270   \n",
       "mod_ciliates_chl           -0.026189      -0.005957 -0.014705      0.021683   \n",
       "mod_TChl                   -0.017930      -0.010138 -0.006459      0.002515   \n",
       "\n",
       "                     mod_diatoms_chl  mod_flagellates_chl  mod_ciliates_chl  \\\n",
       "Diatoms-1                   0.231552            -0.168134          0.082110   \n",
       "Diatoms-2                   0.113976            -0.096261          0.017435   \n",
       "Cyanobacteria              -0.223640             0.138542         -0.050724   \n",
       "Cryptophytes               -0.234239             0.136225         -0.019839   \n",
       "Prasinophytes              -0.146204             0.111221         -0.003042   \n",
       "Haptophytes                -0.165374             0.211183         -0.051049   \n",
       "Dictyochophytes            -0.308791             0.166519         -0.057367   \n",
       "Dinoflagellates            -0.220439             0.112609         -0.026189   \n",
       "Raphidophytes              -0.138944             0.082189         -0.005957   \n",
       "CCPH                       -0.143561             0.116679         -0.014705   \n",
       "TchlA (ug/L)                0.051813            -0.035270          0.021683   \n",
       "mod_diatoms_chl             1.343927             0.716806          0.775011   \n",
       "mod_flagellates_chl         0.716806             0.657255          0.603577   \n",
       "mod_ciliates_chl            0.775011             0.603577          0.678111   \n",
       "mod_TChl                    0.921805             0.711552          0.742578   \n",
       "\n",
       "                     mod_TChl  \n",
       "Diatoms-1           -0.007110  \n",
       "Diatoms-2            0.005501  \n",
       "Cyanobacteria       -0.011687  \n",
       "Cryptophytes        -0.043930  \n",
       "Prasinophytes       -0.009458  \n",
       "Haptophytes          0.039209  \n",
       "Dictyochophytes     -0.025779  \n",
       "Dinoflagellates     -0.017930  \n",
       "Raphidophytes       -0.010138  \n",
       "CCPH                -0.006459  \n",
       "TchlA (ug/L)         0.002515  \n",
       "mod_diatoms_chl      0.921805  \n",
       "mod_flagellates_chl  0.711552  \n",
       "mod_ciliates_chl     0.742578  \n",
       "mod_TChl             0.853382  "
      ]
     },
     "execution_count": 37,
     "metadata": {},
     "output_type": "execute_result"
    }
   ],
   "source": [
    "dflog=pd.DataFrame()\n",
    "for el in ['Diatoms-1', 'Diatoms-2','Cyanobacteria','Cryptophytes', 'Prasinophytes', \n",
    "       'Haptophytes',  'Dictyochophytes','Dinoflagellates','Raphidophytes','CCPH','TchlA (ug/L)',\n",
    "                   'mod_diatoms_chl','mod_flagellates_chl','mod_ciliates_chl','mod_TChl']:\n",
    "    dflog[el]=logt(data[el])\n",
    "dflog.cov()"
   ]
  },
  {
   "cell_type": "markdown",
   "metadata": {
    "papermill": {
     "duration": 0.030989,
     "end_time": "2020-11-16T18:42:01.718331",
     "exception": false,
     "start_time": "2020-11-16T18:42:01.687342",
     "status": "completed"
    },
    "tags": []
   },
   "source": [
    "### Corr Coeff matrix with log transformed values:"
   ]
  },
  {
   "cell_type": "code",
   "execution_count": 38,
   "metadata": {
    "papermill": {
     "duration": 0.047307,
     "end_time": "2020-11-16T18:42:01.796976",
     "exception": false,
     "start_time": "2020-11-16T18:42:01.749669",
     "status": "completed"
    },
    "tags": []
   },
   "outputs": [
    {
     "data": {
      "text/html": [
       "<div>\n",
       "<style scoped>\n",
       "    .dataframe tbody tr th:only-of-type {\n",
       "        vertical-align: middle;\n",
       "    }\n",
       "\n",
       "    .dataframe tbody tr th {\n",
       "        vertical-align: top;\n",
       "    }\n",
       "\n",
       "    .dataframe thead th {\n",
       "        text-align: right;\n",
       "    }\n",
       "</style>\n",
       "<table border=\"1\" class=\"dataframe\">\n",
       "  <thead>\n",
       "    <tr style=\"text-align: right;\">\n",
       "      <th></th>\n",
       "      <th>Diatoms-1</th>\n",
       "      <th>Diatoms-2</th>\n",
       "      <th>Cyanobacteria</th>\n",
       "      <th>Cryptophytes</th>\n",
       "      <th>Prasinophytes</th>\n",
       "      <th>Haptophytes</th>\n",
       "      <th>Dictyochophytes</th>\n",
       "      <th>Dinoflagellates</th>\n",
       "      <th>Raphidophytes</th>\n",
       "      <th>CCPH</th>\n",
       "      <th>TchlA (ug/L)</th>\n",
       "      <th>mod_diatoms_chl</th>\n",
       "      <th>mod_flagellates_chl</th>\n",
       "      <th>mod_ciliates_chl</th>\n",
       "      <th>mod_TChl</th>\n",
       "    </tr>\n",
       "  </thead>\n",
       "  <tbody>\n",
       "    <tr>\n",
       "      <th>Diatoms-1</th>\n",
       "      <td>1.000000</td>\n",
       "      <td>-0.049408</td>\n",
       "      <td>-0.580720</td>\n",
       "      <td>-0.212567</td>\n",
       "      <td>0.077647</td>\n",
       "      <td>-0.533463</td>\n",
       "      <td>-0.282438</td>\n",
       "      <td>-0.326984</td>\n",
       "      <td>-0.228612</td>\n",
       "      <td>-0.240610</td>\n",
       "      <td>0.672901</td>\n",
       "      <td>0.314654</td>\n",
       "      <td>-0.411824</td>\n",
       "      <td>0.521460</td>\n",
       "      <td>-0.042186</td>\n",
       "    </tr>\n",
       "    <tr>\n",
       "      <th>Diatoms-2</th>\n",
       "      <td>-0.049408</td>\n",
       "      <td>1.000000</td>\n",
       "      <td>0.073686</td>\n",
       "      <td>-0.155964</td>\n",
       "      <td>-0.408103</td>\n",
       "      <td>0.021886</td>\n",
       "      <td>0.249473</td>\n",
       "      <td>0.086390</td>\n",
       "      <td>-0.065012</td>\n",
       "      <td>-0.251561</td>\n",
       "      <td>-0.019923</td>\n",
       "      <td>0.143785</td>\n",
       "      <td>-0.218889</td>\n",
       "      <td>0.102795</td>\n",
       "      <td>0.030301</td>\n",
       "    </tr>\n",
       "    <tr>\n",
       "      <th>Cyanobacteria</th>\n",
       "      <td>-0.580720</td>\n",
       "      <td>0.073686</td>\n",
       "      <td>1.000000</td>\n",
       "      <td>0.290160</td>\n",
       "      <td>0.057685</td>\n",
       "      <td>0.540796</td>\n",
       "      <td>0.515214</td>\n",
       "      <td>0.374967</td>\n",
       "      <td>0.358164</td>\n",
       "      <td>0.290273</td>\n",
       "      <td>-0.515892</td>\n",
       "      <td>-0.545694</td>\n",
       "      <td>0.609329</td>\n",
       "      <td>-0.578432</td>\n",
       "      <td>-0.124522</td>\n",
       "    </tr>\n",
       "    <tr>\n",
       "      <th>Cryptophytes</th>\n",
       "      <td>-0.212567</td>\n",
       "      <td>-0.155964</td>\n",
       "      <td>0.290160</td>\n",
       "      <td>1.000000</td>\n",
       "      <td>0.682551</td>\n",
       "      <td>0.283080</td>\n",
       "      <td>0.332407</td>\n",
       "      <td>0.602563</td>\n",
       "      <td>0.470579</td>\n",
       "      <td>0.800695</td>\n",
       "      <td>0.010603</td>\n",
       "      <td>-0.454980</td>\n",
       "      <td>0.476937</td>\n",
       "      <td>-0.180091</td>\n",
       "      <td>-0.372588</td>\n",
       "    </tr>\n",
       "    <tr>\n",
       "      <th>Prasinophytes</th>\n",
       "      <td>0.077647</td>\n",
       "      <td>-0.408103</td>\n",
       "      <td>0.057685</td>\n",
       "      <td>0.682551</td>\n",
       "      <td>1.000000</td>\n",
       "      <td>0.213598</td>\n",
       "      <td>0.116772</td>\n",
       "      <td>0.378814</td>\n",
       "      <td>0.299791</td>\n",
       "      <td>0.856258</td>\n",
       "      <td>0.307637</td>\n",
       "      <td>-0.269624</td>\n",
       "      <td>0.369706</td>\n",
       "      <td>-0.026215</td>\n",
       "      <td>-0.076158</td>\n",
       "    </tr>\n",
       "    <tr>\n",
       "      <th>Haptophytes</th>\n",
       "      <td>-0.533463</td>\n",
       "      <td>0.021886</td>\n",
       "      <td>0.540796</td>\n",
       "      <td>0.283080</td>\n",
       "      <td>0.213598</td>\n",
       "      <td>1.000000</td>\n",
       "      <td>0.284454</td>\n",
       "      <td>0.340266</td>\n",
       "      <td>0.359887</td>\n",
       "      <td>0.548391</td>\n",
       "      <td>-0.322154</td>\n",
       "      <td>-0.227918</td>\n",
       "      <td>0.524613</td>\n",
       "      <td>-0.328800</td>\n",
       "      <td>0.235954</td>\n",
       "    </tr>\n",
       "    <tr>\n",
       "      <th>Dictyochophytes</th>\n",
       "      <td>-0.282438</td>\n",
       "      <td>0.249473</td>\n",
       "      <td>0.515214</td>\n",
       "      <td>0.332407</td>\n",
       "      <td>0.116772</td>\n",
       "      <td>0.284454</td>\n",
       "      <td>1.000000</td>\n",
       "      <td>0.523176</td>\n",
       "      <td>0.295980</td>\n",
       "      <td>0.218617</td>\n",
       "      <td>-0.201600</td>\n",
       "      <td>-0.487283</td>\n",
       "      <td>0.473643</td>\n",
       "      <td>-0.423075</td>\n",
       "      <td>-0.177631</td>\n",
       "    </tr>\n",
       "    <tr>\n",
       "      <th>Dinoflagellates</th>\n",
       "      <td>-0.326984</td>\n",
       "      <td>0.086390</td>\n",
       "      <td>0.374967</td>\n",
       "      <td>0.602563</td>\n",
       "      <td>0.378814</td>\n",
       "      <td>0.340266</td>\n",
       "      <td>0.523176</td>\n",
       "      <td>1.000000</td>\n",
       "      <td>0.394328</td>\n",
       "      <td>0.529489</td>\n",
       "      <td>-0.203778</td>\n",
       "      <td>-0.432648</td>\n",
       "      <td>0.398372</td>\n",
       "      <td>-0.240213</td>\n",
       "      <td>-0.153657</td>\n",
       "    </tr>\n",
       "    <tr>\n",
       "      <th>Raphidophytes</th>\n",
       "      <td>-0.228612</td>\n",
       "      <td>-0.065012</td>\n",
       "      <td>0.358164</td>\n",
       "      <td>0.470579</td>\n",
       "      <td>0.299791</td>\n",
       "      <td>0.359887</td>\n",
       "      <td>0.295980</td>\n",
       "      <td>0.394328</td>\n",
       "      <td>1.000000</td>\n",
       "      <td>0.448360</td>\n",
       "      <td>-0.162906</td>\n",
       "      <td>-0.254672</td>\n",
       "      <td>0.271535</td>\n",
       "      <td>-0.051028</td>\n",
       "      <td>-0.081137</td>\n",
       "    </tr>\n",
       "    <tr>\n",
       "      <th>CCPH</th>\n",
       "      <td>-0.240610</td>\n",
       "      <td>-0.251561</td>\n",
       "      <td>0.290273</td>\n",
       "      <td>0.800695</td>\n",
       "      <td>0.856258</td>\n",
       "      <td>0.548391</td>\n",
       "      <td>0.218617</td>\n",
       "      <td>0.529489</td>\n",
       "      <td>0.448360</td>\n",
       "      <td>1.000000</td>\n",
       "      <td>0.082473</td>\n",
       "      <td>-0.350097</td>\n",
       "      <td>0.512875</td>\n",
       "      <td>-0.167587</td>\n",
       "      <td>-0.068780</td>\n",
       "    </tr>\n",
       "    <tr>\n",
       "      <th>TchlA (ug/L)</th>\n",
       "      <td>0.672901</td>\n",
       "      <td>-0.019923</td>\n",
       "      <td>-0.515892</td>\n",
       "      <td>0.010603</td>\n",
       "      <td>0.307637</td>\n",
       "      <td>-0.322154</td>\n",
       "      <td>-0.201600</td>\n",
       "      <td>-0.203778</td>\n",
       "      <td>-0.162906</td>\n",
       "      <td>0.082473</td>\n",
       "      <td>1.000000</td>\n",
       "      <td>0.217310</td>\n",
       "      <td>-0.266634</td>\n",
       "      <td>0.425003</td>\n",
       "      <td>0.046054</td>\n",
       "    </tr>\n",
       "    <tr>\n",
       "      <th>mod_diatoms_chl</th>\n",
       "      <td>0.314654</td>\n",
       "      <td>0.143785</td>\n",
       "      <td>-0.545694</td>\n",
       "      <td>-0.454980</td>\n",
       "      <td>-0.269624</td>\n",
       "      <td>-0.227918</td>\n",
       "      <td>-0.487283</td>\n",
       "      <td>-0.432648</td>\n",
       "      <td>-0.254672</td>\n",
       "      <td>-0.350097</td>\n",
       "      <td>0.217310</td>\n",
       "      <td>1.000000</td>\n",
       "      <td>0.762688</td>\n",
       "      <td>0.811839</td>\n",
       "      <td>0.860755</td>\n",
       "    </tr>\n",
       "    <tr>\n",
       "      <th>mod_flagellates_chl</th>\n",
       "      <td>-0.411824</td>\n",
       "      <td>-0.218889</td>\n",
       "      <td>0.609329</td>\n",
       "      <td>0.476937</td>\n",
       "      <td>0.369706</td>\n",
       "      <td>0.524613</td>\n",
       "      <td>0.473643</td>\n",
       "      <td>0.398372</td>\n",
       "      <td>0.271535</td>\n",
       "      <td>0.512875</td>\n",
       "      <td>-0.266634</td>\n",
       "      <td>0.762688</td>\n",
       "      <td>1.000000</td>\n",
       "      <td>0.904098</td>\n",
       "      <td>0.950098</td>\n",
       "    </tr>\n",
       "    <tr>\n",
       "      <th>mod_ciliates_chl</th>\n",
       "      <td>0.521460</td>\n",
       "      <td>0.102795</td>\n",
       "      <td>-0.578432</td>\n",
       "      <td>-0.180091</td>\n",
       "      <td>-0.026215</td>\n",
       "      <td>-0.328800</td>\n",
       "      <td>-0.423075</td>\n",
       "      <td>-0.240213</td>\n",
       "      <td>-0.051028</td>\n",
       "      <td>-0.167587</td>\n",
       "      <td>0.425003</td>\n",
       "      <td>0.811839</td>\n",
       "      <td>0.904098</td>\n",
       "      <td>1.000000</td>\n",
       "      <td>0.976157</td>\n",
       "    </tr>\n",
       "    <tr>\n",
       "      <th>mod_TChl</th>\n",
       "      <td>-0.042186</td>\n",
       "      <td>0.030301</td>\n",
       "      <td>-0.124522</td>\n",
       "      <td>-0.372588</td>\n",
       "      <td>-0.076158</td>\n",
       "      <td>0.235954</td>\n",
       "      <td>-0.177631</td>\n",
       "      <td>-0.153657</td>\n",
       "      <td>-0.081137</td>\n",
       "      <td>-0.068780</td>\n",
       "      <td>0.046054</td>\n",
       "      <td>0.860755</td>\n",
       "      <td>0.950098</td>\n",
       "      <td>0.976157</td>\n",
       "      <td>1.000000</td>\n",
       "    </tr>\n",
       "  </tbody>\n",
       "</table>\n",
       "</div>"
      ],
      "text/plain": [
       "                     Diatoms-1  Diatoms-2  Cyanobacteria  Cryptophytes  \\\n",
       "Diatoms-1             1.000000  -0.049408      -0.580720     -0.212567   \n",
       "Diatoms-2            -0.049408   1.000000       0.073686     -0.155964   \n",
       "Cyanobacteria        -0.580720   0.073686       1.000000      0.290160   \n",
       "Cryptophytes         -0.212567  -0.155964       0.290160      1.000000   \n",
       "Prasinophytes         0.077647  -0.408103       0.057685      0.682551   \n",
       "Haptophytes          -0.533463   0.021886       0.540796      0.283080   \n",
       "Dictyochophytes      -0.282438   0.249473       0.515214      0.332407   \n",
       "Dinoflagellates      -0.326984   0.086390       0.374967      0.602563   \n",
       "Raphidophytes        -0.228612  -0.065012       0.358164      0.470579   \n",
       "CCPH                 -0.240610  -0.251561       0.290273      0.800695   \n",
       "TchlA (ug/L)          0.672901  -0.019923      -0.515892      0.010603   \n",
       "mod_diatoms_chl       0.314654   0.143785      -0.545694     -0.454980   \n",
       "mod_flagellates_chl  -0.411824  -0.218889       0.609329      0.476937   \n",
       "mod_ciliates_chl      0.521460   0.102795      -0.578432     -0.180091   \n",
       "mod_TChl             -0.042186   0.030301      -0.124522     -0.372588   \n",
       "\n",
       "                     Prasinophytes  Haptophytes  Dictyochophytes  \\\n",
       "Diatoms-1                 0.077647    -0.533463        -0.282438   \n",
       "Diatoms-2                -0.408103     0.021886         0.249473   \n",
       "Cyanobacteria             0.057685     0.540796         0.515214   \n",
       "Cryptophytes              0.682551     0.283080         0.332407   \n",
       "Prasinophytes             1.000000     0.213598         0.116772   \n",
       "Haptophytes               0.213598     1.000000         0.284454   \n",
       "Dictyochophytes           0.116772     0.284454         1.000000   \n",
       "Dinoflagellates           0.378814     0.340266         0.523176   \n",
       "Raphidophytes             0.299791     0.359887         0.295980   \n",
       "CCPH                      0.856258     0.548391         0.218617   \n",
       "TchlA (ug/L)              0.307637    -0.322154        -0.201600   \n",
       "mod_diatoms_chl          -0.269624    -0.227918        -0.487283   \n",
       "mod_flagellates_chl       0.369706     0.524613         0.473643   \n",
       "mod_ciliates_chl         -0.026215    -0.328800        -0.423075   \n",
       "mod_TChl                 -0.076158     0.235954        -0.177631   \n",
       "\n",
       "                     Dinoflagellates  Raphidophytes      CCPH  TchlA (ug/L)  \\\n",
       "Diatoms-1                  -0.326984      -0.228612 -0.240610      0.672901   \n",
       "Diatoms-2                   0.086390      -0.065012 -0.251561     -0.019923   \n",
       "Cyanobacteria               0.374967       0.358164  0.290273     -0.515892   \n",
       "Cryptophytes                0.602563       0.470579  0.800695      0.010603   \n",
       "Prasinophytes               0.378814       0.299791  0.856258      0.307637   \n",
       "Haptophytes                 0.340266       0.359887  0.548391     -0.322154   \n",
       "Dictyochophytes             0.523176       0.295980  0.218617     -0.201600   \n",
       "Dinoflagellates             1.000000       0.394328  0.529489     -0.203778   \n",
       "Raphidophytes               0.394328       1.000000  0.448360     -0.162906   \n",
       "CCPH                        0.529489       0.448360  1.000000      0.082473   \n",
       "TchlA (ug/L)               -0.203778      -0.162906  0.082473      1.000000   \n",
       "mod_diatoms_chl            -0.432648      -0.254672 -0.350097      0.217310   \n",
       "mod_flagellates_chl         0.398372       0.271535  0.512875     -0.266634   \n",
       "mod_ciliates_chl           -0.240213      -0.051028 -0.167587      0.425003   \n",
       "mod_TChl                   -0.153657      -0.081137 -0.068780      0.046054   \n",
       "\n",
       "                     mod_diatoms_chl  mod_flagellates_chl  mod_ciliates_chl  \\\n",
       "Diatoms-1                   0.314654            -0.411824          0.521460   \n",
       "Diatoms-2                   0.143785            -0.218889          0.102795   \n",
       "Cyanobacteria              -0.545694             0.609329         -0.578432   \n",
       "Cryptophytes               -0.454980             0.476937         -0.180091   \n",
       "Prasinophytes              -0.269624             0.369706         -0.026215   \n",
       "Haptophytes                -0.227918             0.524613         -0.328800   \n",
       "Dictyochophytes            -0.487283             0.473643         -0.423075   \n",
       "Dinoflagellates            -0.432648             0.398372         -0.240213   \n",
       "Raphidophytes              -0.254672             0.271535         -0.051028   \n",
       "CCPH                       -0.350097             0.512875         -0.167587   \n",
       "TchlA (ug/L)                0.217310            -0.266634          0.425003   \n",
       "mod_diatoms_chl             1.000000             0.762688          0.811839   \n",
       "mod_flagellates_chl         0.762688             1.000000          0.904098   \n",
       "mod_ciliates_chl            0.811839             0.904098          1.000000   \n",
       "mod_TChl                    0.860755             0.950098          0.976157   \n",
       "\n",
       "                     mod_TChl  \n",
       "Diatoms-1           -0.042186  \n",
       "Diatoms-2            0.030301  \n",
       "Cyanobacteria       -0.124522  \n",
       "Cryptophytes        -0.372588  \n",
       "Prasinophytes       -0.076158  \n",
       "Haptophytes          0.235954  \n",
       "Dictyochophytes     -0.177631  \n",
       "Dinoflagellates     -0.153657  \n",
       "Raphidophytes       -0.081137  \n",
       "CCPH                -0.068780  \n",
       "TchlA (ug/L)         0.046054  \n",
       "mod_diatoms_chl      0.860755  \n",
       "mod_flagellates_chl  0.950098  \n",
       "mod_ciliates_chl     0.976157  \n",
       "mod_TChl             1.000000  "
      ]
     },
     "execution_count": 38,
     "metadata": {},
     "output_type": "execute_result"
    }
   ],
   "source": [
    "dflog.corr()"
   ]
  },
  {
   "cell_type": "markdown",
   "metadata": {
    "papermill": {
     "duration": 0.032269,
     "end_time": "2020-11-16T18:42:01.861863",
     "exception": false,
     "start_time": "2020-11-16T18:42:01.829594",
     "status": "completed"
    },
    "tags": []
   },
   "source": [
    "### New groups Model-Obs Comparison:"
   ]
  },
  {
   "cell_type": "code",
   "execution_count": 39,
   "metadata": {
    "papermill": {
     "duration": 0.466388,
     "end_time": "2020-11-16T18:42:02.360004",
     "exception": false,
     "start_time": "2020-11-16T18:42:01.893616",
     "status": "completed"
    },
    "tags": []
   },
   "outputs": [
    {
     "data": {
      "text/plain": [
       "<matplotlib.colorbar.Colorbar at 0x7f9e4c61ba60>"
      ]
     },
     "execution_count": 39,
     "metadata": {},
     "output_type": "execute_result"
    },
    {
     "data": {
      "image/png": "[encoded data removed]",
      "text/plain": [
       "<Figure size 648x288 with 3 Axes>"
      ]
     },
     "metadata": {
      "needs_background": "light"
     },
     "output_type": "display_data"
    }
   ],
   "source": [
    "thresh=.8\n",
    "msize=20\n",
    "fig,ax=plt.subplots(1,2,figsize=(9,4))\n",
    "m=ax[0].scatter(logt(data['DD']),logt(data['mod_diatoms_chl']),\n",
    "          c=data['yd'],s=msize,cmap=cmocean.cm.phase,vmin=0,vmax=366)\n",
    "m=ax[1].scatter(logt(data['CCPH']),logt(data['mod_flagellates_chl']),\n",
    "          c=data['yd'],s=msize,cmap=cmocean.cm.phase,vmin=0,vmax=366)\n",
    "ax[0].set_xlim(-3,2)\n",
    "ax[0].set_ylim(-3,2)\n",
    "ax[1].set_xlim(-3,1.2)\n",
    "ax[1].set_ylim(-3,1.2)\n",
    "ax[0].set_xlabel('Diatoms 1 + Diatoms 2')\n",
    "ax[0].set_ylabel('Model Diatoms')\n",
    "ax[0].set_title('log10[Chl (mg/m$^3$)+.001]')\n",
    "ax[1].set_xlabel('cyano+crypto+prasino+hapto')\n",
    "ax[1].set_ylabel('Model flagellates')\n",
    "ax[1].set_title('log10[Chl (mg/m$^3$)+.001]')\n",
    "ax[0].plot((-3,2),(-3+thresh,2+thresh),'-',color='grey')\n",
    "ax[0].plot((-3,2),(-3-thresh,2-thresh),'-',color='grey')\n",
    "ax[1].plot((-3,2),(-3+thresh,2+thresh),'-',color='grey')\n",
    "ax[1].plot((-3,2),(-3-thresh,2-thresh),'-',color='grey')\n",
    "ax[0].plot((-3,2),(-3,2),'k-')\n",
    "ax[1].plot((-3,1.2),(-3,1.2),'k-')\n",
    "plt.tight_layout()\n",
    "fig.colorbar(m,ax=ax[1])"
   ]
  },
  {
   "cell_type": "code",
   "execution_count": 40,
   "metadata": {
    "papermill": {
     "duration": 0.464871,
     "end_time": "2020-11-16T18:42:02.859431",
     "exception": false,
     "start_time": "2020-11-16T18:42:02.394560",
     "status": "completed"
    },
    "tags": []
   },
   "outputs": [
    {
     "name": "stdout",
     "output_type": "stream",
     "text": [
      "Diatoms/DD\n"
     ]
    },
    {
     "data": {
      "image/png": "[encoded data removed]",
      "text/plain": [
       "<Figure size 864x288 with 4 Axes>"
      ]
     },
     "metadata": {
      "needs_background": "light"
     },
     "output_type": "display_data"
    }
   ],
   "source": [
    "print('Diatoms/DD')\n",
    "fig,ax=plt.subplots(1,4,figsize=(12,4),gridspec_kw={'width_ratios': [1,1,1,.1],'wspace':.5},)\n",
    "for iax in ax[0:3]:\n",
    "    iax.contour(navlon,navlat,tmask[0,:,:],levels=[0.5,],colors='gray')\n",
    "    iax.set_xlim(-125.3,-122.5)\n",
    "    iax.set_ylim(48,50.5)\n",
    "ihi=logt(data['mod_diatoms_chl'])>(logt(data['DD'])+thresh)\n",
    "ilo=logt(data['mod_diatoms_chl'])<(logt(data['DD'])-thresh)\n",
    "idata=data.loc[(data.DD>=0)&ihi]\n",
    "ax[0].scatter(idata.Lon,idata.Lat,c=idata.yd,s=msize,cmap=cmocean.cm.phase,vmin=0,vmax=366)\n",
    "ax[0].set_title('High\\n log(mod)>log(obs)+'+str(thresh))\n",
    "idata=data.loc[(data.DD>=0)&(~ihi)&(~ilo)]\n",
    "ax[1].scatter(idata.Lon,idata.Lat,c=idata.yd,s=msize,cmap=cmocean.cm.phase,vmin=0,vmax=366)\n",
    "ax[1].set_title('Medium\\n log(obs)-'+str(thresh)+'<log(mod)<log(obs)+'+str(thresh))\n",
    "idata=data.loc[(data.DD>=0)&ilo]\n",
    "m=ax[2].scatter(idata.Lon,idata.Lat,c=idata.yd,s=msize,cmap=cmocean.cm.phase,vmin=0,vmax=366)\n",
    "ax[2].set_title('Low\\n log(mod)<log(obs)-'+str(thresh));\n",
    "fig.colorbar(m,cax=ax[3]);"
   ]
  },
  {
   "cell_type": "code",
   "execution_count": 41,
   "metadata": {
    "papermill": {
     "duration": 0.506071,
     "end_time": "2020-11-16T18:42:03.402560",
     "exception": false,
     "start_time": "2020-11-16T18:42:02.896489",
     "status": "completed"
    },
    "tags": []
   },
   "outputs": [
    {
     "name": "stdout",
     "output_type": "stream",
     "text": [
      "Flagellates/CCPH\n"
     ]
    },
    {
     "data": {
      "image/png": "[encoded data removed]",
      "text/plain": [
       "<Figure size 864x288 with 4 Axes>"
      ]
     },
     "metadata": {
      "needs_background": "light"
     },
     "output_type": "display_data"
    }
   ],
   "source": [
    "print('Flagellates/CCPH')\n",
    "fig,ax=plt.subplots(1,4,figsize=(12,4),gridspec_kw={'width_ratios': [1,1,1,.1],'wspace':.5},)\n",
    "for iax in ax[0:3]:\n",
    "    iax.contour(navlon,navlat,tmask[0,:,:],levels=[0.5,],colors='gray')\n",
    "    iax.set_xlim(-125.3,-122.5)\n",
    "    iax.set_ylim(48,50.5)\n",
    "ihi=logt(data['mod_flagellates_chl'])>(logt(data['CCPH'])+thresh)\n",
    "ilo=logt(data['mod_flagellates_chl'])<(logt(data['CCPH'])-thresh)\n",
    "idata=data.loc[(data.CCPH>=0)&ihi]\n",
    "ax[0].scatter(idata.Lon,idata.Lat,c=idata.yd,s=msize,cmap=cmocean.cm.phase,vmin=0,vmax=366)\n",
    "ax[0].set_title('High\\n log(mod)>log(obs)+'+str(thresh))\n",
    "idata=data.loc[(data.CCPH>=0)&(~ihi)&(~ilo)]\n",
    "ax[1].scatter(idata.Lon,idata.Lat,c=idata.yd,s=msize,cmap=cmocean.cm.phase,vmin=0,vmax=366)\n",
    "ax[1].set_title('Medium\\n log(obs)-'+str(thresh)+'<log(mod)<log(obs)+'+str(thresh))\n",
    "idata=data.loc[(data.CCPH>=0)&ilo]\n",
    "m=ax[2].scatter(idata.Lon,idata.Lat,c=idata.yd,s=msize,cmap=cmocean.cm.phase,vmin=0,vmax=366)\n",
    "ax[2].set_title('Low\\n log(mod)<log(obs)-'+str(thresh));\n",
    "fig.colorbar(m,cax=ax[3]);"
   ]
  },
  {
   "cell_type": "markdown",
   "metadata": {
    "papermill": {
     "duration": 0.040449,
     "end_time": "2020-11-16T18:42:03.483301",
     "exception": false,
     "start_time": "2020-11-16T18:42:03.442852",
     "status": "completed"
    },
    "tags": []
   },
   "source": [
    "### Diatom fraction"
   ]
  },
  {
   "cell_type": "code",
   "execution_count": 42,
   "metadata": {
    "papermill": {
     "duration": 0.429825,
     "end_time": "2020-11-16T18:42:03.953021",
     "exception": false,
     "start_time": "2020-11-16T18:42:03.523196",
     "status": "completed"
    },
    "tags": []
   },
   "outputs": [
    {
     "data": {
      "text/plain": [
       "<matplotlib.colorbar.Colorbar at 0x7f9e4c434220>"
      ]
     },
     "execution_count": 42,
     "metadata": {},
     "output_type": "execute_result"
    },
    {
     "data": {
      "image/png": "[encoded data removed]",
      "text/plain": [
       "<Figure size 864x288 with 3 Axes>"
      ]
     },
     "metadata": {
      "needs_background": "light"
     },
     "output_type": "display_data"
    }
   ],
   "source": [
    "fig,ax=plt.subplots(1,2,figsize=(12,4))\n",
    "diatFracMod=data['mod_diatoms']/(data['mod_diatoms']+data['mod_flagellates']+data['mod_ciliates'])\n",
    "diatFracObs=data['DD']/data['TchlA (ug/L)']\n",
    "m=ax[0].scatter(diatFracObs,diatFracMod,\n",
    "          c=data['yd'],cmap=cmocean.cm.phase,vmin=0,vmax=366)\n",
    "ax[0].set_xlabel('HPLC Diatom Fraction')\n",
    "ax[0].set_ylabel('Model Diatom Fraction')\n",
    "ax[0].set_xlim((0,1))\n",
    "ax[0].set_ylim((0,1))\n",
    "flFracMod=data['mod_flagellates']/(data['mod_diatoms']+data['mod_flagellates']+data['mod_ciliates'])\n",
    "CCPHFracObs=data['CCPH']/data['TchlA (ug/L)']\n",
    "m=ax[1].scatter(CCPHFracObs,flFracMod,\n",
    "          c=data['yd'],cmap=cmocean.cm.phase,vmin=0,vmax=366)\n",
    "ax[1].set_xlabel('HPLC Crypto Cyano Prasino Hapto Fraction')\n",
    "ax[1].set_ylabel('Model Flagellate Fraction')\n",
    "ax[1].set_xlim((0,1))\n",
    "ax[1].set_ylim((0,1))\n",
    "ax[0].set_aspect(1)\n",
    "ax[1].set_aspect(1)\n",
    "\n",
    "fig.colorbar(m)"
   ]
  },
  {
   "cell_type": "code",
   "execution_count": 43,
   "metadata": {
    "papermill": {
     "duration": 0.050011,
     "end_time": "2020-11-16T18:42:04.047235",
     "exception": false,
     "start_time": "2020-11-16T18:42:03.997224",
     "status": "completed"
    },
    "tags": []
   },
   "outputs": [],
   "source": [
    "#Reminder:\n",
    "np.random.seed(42)\n",
    "df = pd.DataFrame(np.random.randn(1000, 4),columns=['a', 'b', 'c','d'])\n",
    "df['a+b+c']=.2*df['a']+.3*df['b']+.45*df['c']"
   ]
  },
  {
   "cell_type": "code",
   "execution_count": 44,
   "metadata": {
    "papermill": {
     "duration": 0.052225,
     "end_time": "2020-11-16T18:42:04.142641",
     "exception": false,
     "start_time": "2020-11-16T18:42:04.090416",
     "status": "completed"
    },
    "tags": []
   },
   "outputs": [
    {
     "data": {
      "text/html": [
       "<div>\n",
       "<style scoped>\n",
       "    .dataframe tbody tr th:only-of-type {\n",
       "        vertical-align: middle;\n",
       "    }\n",
       "\n",
       "    .dataframe tbody tr th {\n",
       "        vertical-align: top;\n",
       "    }\n",
       "\n",
       "    .dataframe thead th {\n",
       "        text-align: right;\n",
       "    }\n",
       "</style>\n",
       "<table border=\"1\" class=\"dataframe\">\n",
       "  <thead>\n",
       "    <tr style=\"text-align: right;\">\n",
       "      <th></th>\n",
       "      <th>a</th>\n",
       "      <th>b</th>\n",
       "      <th>c</th>\n",
       "      <th>d</th>\n",
       "      <th>a+b+c</th>\n",
       "    </tr>\n",
       "  </thead>\n",
       "  <tbody>\n",
       "    <tr>\n",
       "      <th>a</th>\n",
       "      <td>0.929140</td>\n",
       "      <td>0.007946</td>\n",
       "      <td>-0.037053</td>\n",
       "      <td>-0.022301</td>\n",
       "      <td>0.171538</td>\n",
       "    </tr>\n",
       "    <tr>\n",
       "      <th>b</th>\n",
       "      <td>0.007946</td>\n",
       "      <td>1.023910</td>\n",
       "      <td>-0.032939</td>\n",
       "      <td>0.004689</td>\n",
       "      <td>0.293940</td>\n",
       "    </tr>\n",
       "    <tr>\n",
       "      <th>c</th>\n",
       "      <td>-0.037053</td>\n",
       "      <td>-0.032939</td>\n",
       "      <td>1.012188</td>\n",
       "      <td>0.034186</td>\n",
       "      <td>0.438192</td>\n",
       "    </tr>\n",
       "    <tr>\n",
       "      <th>d</th>\n",
       "      <td>-0.022301</td>\n",
       "      <td>0.004689</td>\n",
       "      <td>0.034186</td>\n",
       "      <td>1.013977</td>\n",
       "      <td>0.012330</td>\n",
       "    </tr>\n",
       "    <tr>\n",
       "      <th>a+b+c</th>\n",
       "      <td>0.171538</td>\n",
       "      <td>0.293940</td>\n",
       "      <td>0.438192</td>\n",
       "      <td>0.012330</td>\n",
       "      <td>0.319676</td>\n",
       "    </tr>\n",
       "  </tbody>\n",
       "</table>\n",
       "</div>"
      ],
      "text/plain": [
       "              a         b         c         d     a+b+c\n",
       "a      0.929140  0.007946 -0.037053 -0.022301  0.171538\n",
       "b      0.007946  1.023910 -0.032939  0.004689  0.293940\n",
       "c     -0.037053 -0.032939  1.012188  0.034186  0.438192\n",
       "d     -0.022301  0.004689  0.034186  1.013977  0.012330\n",
       "a+b+c  0.171538  0.293940  0.438192  0.012330  0.319676"
      ]
     },
     "execution_count": 44,
     "metadata": {},
     "output_type": "execute_result"
    }
   ],
   "source": [
    "df.cov()"
   ]
  },
  {
   "cell_type": "code",
   "execution_count": 45,
   "metadata": {
    "papermill": {
     "duration": 0.051892,
     "end_time": "2020-11-16T18:42:04.237814",
     "exception": false,
     "start_time": "2020-11-16T18:42:04.185922",
     "status": "completed"
    },
    "tags": []
   },
   "outputs": [
    {
     "data": {
      "text/html": [
       "<div>\n",
       "<style scoped>\n",
       "    .dataframe tbody tr th:only-of-type {\n",
       "        vertical-align: middle;\n",
       "    }\n",
       "\n",
       "    .dataframe tbody tr th {\n",
       "        vertical-align: top;\n",
       "    }\n",
       "\n",
       "    .dataframe thead th {\n",
       "        text-align: right;\n",
       "    }\n",
       "</style>\n",
       "<table border=\"1\" class=\"dataframe\">\n",
       "  <thead>\n",
       "    <tr style=\"text-align: right;\">\n",
       "      <th></th>\n",
       "      <th>a</th>\n",
       "      <th>b</th>\n",
       "      <th>c</th>\n",
       "      <th>d</th>\n",
       "      <th>a+b+c</th>\n",
       "    </tr>\n",
       "  </thead>\n",
       "  <tbody>\n",
       "    <tr>\n",
       "      <th>a</th>\n",
       "      <td>1.000000</td>\n",
       "      <td>0.008146</td>\n",
       "      <td>-0.038208</td>\n",
       "      <td>-0.022976</td>\n",
       "      <td>0.314749</td>\n",
       "    </tr>\n",
       "    <tr>\n",
       "      <th>b</th>\n",
       "      <td>0.008146</td>\n",
       "      <td>1.000000</td>\n",
       "      <td>-0.032355</td>\n",
       "      <td>0.004602</td>\n",
       "      <td>0.513774</td>\n",
       "    </tr>\n",
       "    <tr>\n",
       "      <th>c</th>\n",
       "      <td>-0.038208</td>\n",
       "      <td>-0.032355</td>\n",
       "      <td>1.000000</td>\n",
       "      <td>0.033745</td>\n",
       "      <td>0.770334</td>\n",
       "    </tr>\n",
       "    <tr>\n",
       "      <th>d</th>\n",
       "      <td>-0.022976</td>\n",
       "      <td>0.004602</td>\n",
       "      <td>0.033745</td>\n",
       "      <td>1.000000</td>\n",
       "      <td>0.021657</td>\n",
       "    </tr>\n",
       "    <tr>\n",
       "      <th>a+b+c</th>\n",
       "      <td>0.314749</td>\n",
       "      <td>0.513774</td>\n",
       "      <td>0.770334</td>\n",
       "      <td>0.021657</td>\n",
       "      <td>1.000000</td>\n",
       "    </tr>\n",
       "  </tbody>\n",
       "</table>\n",
       "</div>"
      ],
      "text/plain": [
       "              a         b         c         d     a+b+c\n",
       "a      1.000000  0.008146 -0.038208 -0.022976  0.314749\n",
       "b      0.008146  1.000000 -0.032355  0.004602  0.513774\n",
       "c     -0.038208 -0.032355  1.000000  0.033745  0.770334\n",
       "d     -0.022976  0.004602  0.033745  1.000000  0.021657\n",
       "a+b+c  0.314749  0.513774  0.770334  0.021657  1.000000"
      ]
     },
     "execution_count": 45,
     "metadata": {},
     "output_type": "execute_result"
    }
   ],
   "source": [
    "df.corr()"
   ]
  },
  {
   "cell_type": "code",
   "execution_count": 46,
   "metadata": {
    "papermill": {
     "duration": 0.049627,
     "end_time": "2020-11-16T18:42:04.331416",
     "exception": false,
     "start_time": "2020-11-16T18:42:04.281789",
     "status": "completed"
    },
    "tags": []
   },
   "outputs": [
    {
     "name": "stdout",
     "output_type": "stream",
     "text": [
      "[ 2.00000000e-01  3.00000000e-01  4.50000000e-01  1.52655666e-16\n",
      " -1.04083409e-16]\n"
     ]
    }
   ],
   "source": [
    "A=np.vstack([df['a'],df['b'],df['c'],df['d'],np.ones(np.shape(df['a']))]).T\n",
    "b=df['a+b+c']\n",
    "m=np.linalg.lstsq(A,b,rcond=None)[0]\n",
    "print(m)"
   ]
  }
 ],
 "metadata": {
  "celltoolbar": "Tags",
  "kernelspec": {
   "display_name": "Python (py38_ct)",
   "language": "python",
   "name": "py38_ct"
  },
  "language_info": {
   "codemirror_mode": {
    "name": "ipython",
    "version": 3
   },
   "file_extension": ".py",
   "mimetype": "text/x-python",
   "name": "python",
   "nbconvert_exporter": "python",
   "pygments_lexer": "ipython3",
   "version": "3.8.2"
  },
  "papermill": {
   "duration": 9.693104,
   "end_time": "2020-11-16T18:42:04.377365",
   "environment_variables": {},
   "exception": null,
   "input_path": "compHPLCModelFirstLook-Regress-Base.ipynb",
   "output_path": "compHPLCModelFirstLook-Regress-2018ES_LF-2016.ipynb",
   "parameters": {
    "Chl_N": 1.8,
    "end_date": [
     2016,
     6,
     30
    ],
    "fname": "compHPLCModelFirstLook-Regress-2018ES_LF-2016.ipynb",
    "modSourceDir": "/data/eolson/results/MEOPAR/SS36runs/GrahamRuns/2018ES_LF/",
    "mod_ver": "2018ES_LF",
    "start_date": [
     2016,
     1,
     1
    ]
   },
   "start_time": "2020-11-16T18:41:54.684261",
   "version": "2.0.0"
  }
 },
 "nbformat": 4,
 "nbformat_minor": 2
}
