{
 "cells": [
  {
   "cell_type": "code",
   "execution_count": 1,
   "metadata": {
    "papermill": {
     "duration": 1.289454,
     "end_time": "2020-11-16T18:41:47.150991",
     "exception": false,
     "start_time": "2020-11-16T18:41:45.861537",
     "status": "completed"
    },
    "tags": []
   },
   "outputs": [],
   "source": [
    "import numpy as np  # this module handles arrays, but here we need it for its NaN value\n",
    "import pandas as pd # this module contains a lot of tools for handling tabular data\n",
    "from matplotlib import pyplot as plt\n",
    "from salishsea_tools import evaltools as et\n",
    "import datetime as dt\n",
    "import os\n",
    "import gsw\n",
    "import pickle\n",
    "import netCDF4 as nc\n",
    "import cmocean\n",
    "from scipy import stats as spst\n",
    "from pandas.plotting import register_matplotlib_converters\n",
    "register_matplotlib_converters()\n",
    "%matplotlib inline"
   ]
  },
  {
   "cell_type": "code",
   "execution_count": 2,
   "metadata": {
    "papermill": {
     "duration": 0.021329,
     "end_time": "2020-11-16T18:41:47.190855",
     "exception": false,
     "start_time": "2020-11-16T18:41:47.169526",
     "status": "completed"
    },
    "tags": [
     "parameters"
    ]
   },
   "outputs": [],
   "source": [
    "modSourceDir= '/results/SalishSea/nowcast-green.201812/'\n",
    "modver='201812'\n",
    "Chl_N=1.8 # Chl:N ratio\n",
    "fname='compHPLCModelFirstLook-Regress-Base.ipynb'\n",
    "startYMD=(2015,1,1)\n",
    "endYMD=(2018,12,31)"
   ]
  },
  {
   "cell_type": "code",
   "execution_count": 3,
   "metadata": {
    "papermill": {
     "duration": 0.020792,
     "end_time": "2020-11-16T18:41:47.228824",
     "exception": false,
     "start_time": "2020-11-16T18:41:47.208032",
     "status": "completed"
    },
    "tags": [
     "injected-parameters"
    ]
   },
   "outputs": [],
   "source": [
    "# Parameters\n",
    "modSourceDir = '/data/eolson/results/MEOPAR/SS36runs/GrahamRuns/2018ES_LF/'\n",
    "modver = '2018ES_LF'\n",
    "start_date = dt.datetime(2015,1,1)\n",
    "end_date = dt.datetime(2015, 6, 30)\n",
    "Chl_N = 1.8\n",
    "#fname = \"compHPLCModelFirstLook-Regress-2018ES_LF-2015.ipynb\"\n"
   ]
  },
  {
   "cell_type": "code",
   "execution_count": 4,
   "metadata": {
    "papermill": {
     "duration": 0.021691,
     "end_time": "2020-11-16T18:41:47.305811",
     "exception": false,
     "start_time": "2020-11-16T18:41:47.284120",
     "status": "completed"
    },
    "tags": []
   },
   "outputs": [
    {
     "name": "stdout",
     "output_type": "stream",
     "text": [
      "matched_2018ES_LF_20150101_20150630.pkl\n"
     ]
    }
   ],
   "source": [
    "datestr='_'+start_date.strftime('%Y%m%d')+'_'+end_date.strftime('%Y%m%d')\n",
    "print('matched_'+modver+datestr+'.pkl')"
   ]
  },
  {
   "cell_type": "code",
   "execution_count": 5,
   "metadata": {
    "papermill": {
     "duration": 0.023151,
     "end_time": "2020-11-16T18:41:47.346325",
     "exception": false,
     "start_time": "2020-11-16T18:41:47.323174",
     "status": "completed"
    },
    "tags": []
   },
   "outputs": [],
   "source": [
    "def subval(idf,colList):\n",
    "    # first value in colList should be the column you are going to keep\n",
    "    # follow with other columns that will be used to fill in when that column is NaN\n",
    "    # in order of precedence\n",
    "    if len(colList)==2:\n",
    "        idf[colList[0]]=[r[colList[0]] if not pd.isna(r[colList[0]]) \\\n",
    "                         else  r[colList[1]] for i,r in idf.iterrows()]\n",
    "    elif len(colList)==3:\n",
    "        idf[colList[0]]=[r[colList[0]] if not pd.isna(r[colList[0]]) \\\n",
    "                         else  r[colList[1]] if not pd.isna(r[colList[1]]) \\\n",
    "                         else r[colList[2]] for i,r in idf.iterrows()]\n",
    "    else:\n",
    "        raise NotImplementedError('Add to code to handle this case')\n",
    "    idf.drop(columns=list(colList[1:]),inplace=True)\n",
    "    return idf"
   ]
  },
  {
   "cell_type": "code",
   "execution_count": 6,
   "metadata": {
    "papermill": {
     "duration": 0.032461,
     "end_time": "2020-11-16T18:41:47.396240",
     "exception": false,
     "start_time": "2020-11-16T18:41:47.363779",
     "status": "completed"
    },
    "tags": []
   },
   "outputs": [],
   "source": [
    "if os.path.isfile('matched_'+modver+datestr+'.pkl'):\n",
    "    data=pickle.load(open( 'matched_'+modver+datestr+'.pkl', 'rb' ) )\n",
    "else:\n",
    "    # define paths to the source files and eventual output file\n",
    "    flist=('/ocean/eolson/MEOPAR/obs/NemcekHPLC/bottlePhytoMerged2015.csv',\n",
    "           '/ocean/eolson/MEOPAR/obs/NemcekHPLC/bottlePhytoMerged2016.csv',\n",
    "           '/ocean/eolson/MEOPAR/obs/NemcekHPLC/bottlePhytoMerged2017.csv',\n",
    "           '/ocean/eolson/MEOPAR/obs/NemcekHPLC/bottlePhytoMerged2018.csv')#,\n",
    "           #'/ocean/eolson/MEOPAR/obs/NemcekHPLC/bottlePhytoMerged2019.csv')\n",
    "\n",
    "    dfs=list()\n",
    "    for fname in flist:\n",
    "        idf=pd.read_csv(fname)\n",
    "        print(fname,sorted(idf.keys()))\n",
    "        dfs.append(idf)\n",
    "    df=pd.concat(dfs,ignore_index=True,sort=False); # concatenate the list into a single table\n",
    "\n",
    "    df.drop(labels=['ADM:MISSION','ADM:PROJECT','ADM:SCIENTIST','Zone','Zone.1','Temperature:Draw',\n",
    "                    'Temperature:Draw [deg C (ITS90)]','Bottle:Firing_Sequence','Comments by sample_numbeR',\n",
    "                    'File Name','LOC:EVENT_NUMBER','Number_of_bin_records'\n",
    "                       ],axis=1,inplace=True)\n",
    "\n",
    "    df=subval(df,('Dictyochophytes','Dictyo'))\n",
    "    df=subval(df,('Chlorophyll:Extracted [mg/m^3]','Chlorophyll:Extracted'))\n",
    "    df=subval(df,('Dinoflagellates','Dinoflagellates-1'))\n",
    "    df=subval(df,('Fluorescence [mg/m^3]','Fluorescence:URU:Seapoint [mg/m^3]','Fluorescence:URU:Seapoint'))\n",
    "    df=subval(df,('Lat','LOC:LATITUDE'))\n",
    "    df=subval(df,('Lon','LOC:LONGITUDE'))\n",
    "    df=subval(df,('Nitrate_plus_Nitrite [umol/L]','Nitrate_plus_Nitrite'))\n",
    "    df=subval(df,('PAR [uE/m^2/sec]','PAR'))\n",
    "    df=subval(df,('Phaeo-Pigment:Extracted [mg/m^3]','Phaeo-Pigment:Extracted'))\n",
    "    df=subval(df,('Phosphate [umol/L]','Phosphate'))\n",
    "    df=subval(df,('Pressure [decibar]','Pressure'))\n",
    "    df=subval(df,('Raphidophytes','Raphido'))\n",
    "    df=subval(df,('Salinity','Salinity [PSS-78]','Salinity:T1:C1 [PSS-78]'))\n",
    "    df=subval(df,('Salinity:Bottle','Salinity:Bottle [PSS-78]'))\n",
    "    df=subval(df,('Silicate [umol/L]','Silicate'))\n",
    "    df=subval(df,('TchlA (ug/L)','TchlA'))\n",
    "    df=subval(df,('Temperature','Temperature [deg C (ITS90)]','Temperature:Secondary [deg C (ITS90)]'))\n",
    "    df=subval(df,('Transmissivity [*/metre]','Transmissivity'))\n",
    "\n",
    "    df['Z']=np.where(pd.isna(df['Depth [metres]']),\n",
    "                     -1*gsw.z_from_p(df['Pressure [decibar]'],df['Lat']),\n",
    "                     df['Depth [metres]'])\n",
    "    df['p']=np.where(pd.isna(df['Pressure [decibar]']),\n",
    "                     gsw.p_from_z(-1*df['Depth [metres]'],df['Lat']),\n",
    "                    df['Pressure [decibar]'])\n",
    "    df['SA']=gsw.SA_from_SP(df['Salinity'],df['p'],df['Lon'],df['Lat'])\n",
    "    df['CT']=gsw.CT_from_t(df['SA'],df['Temperature'],df['p'])\n",
    "\n",
    "    df['dtUTC']=[dt.datetime.strptime(ii,'%Y-%m-%d %H:%M:%S') if isinstance(ii,str) else np.nan for ii in df['FIL:START TIME YYYY/MM/DD HH:MM:SS'] ]\n",
    "\n",
    "    PATH= modSourceDir\n",
    "\n",
    "    flen=1\n",
    "    namfmt='nowcast'\n",
    "    #varmap={'N':'nitrate','Si':'silicon','Ammonium':'ammonium'}\n",
    "    filemap={'nitrate':'ptrc_T','silicon':'ptrc_T','ammonium':'ptrc_T','diatoms':'ptrc_T','ciliates':'ptrc_T','flagellates':'ptrc_T','vosaline':'grid_T','votemper':'grid_T'}\n",
    "    #gridmap={'nitrate':'tmask','silicon':'tmask','ammonium':'tmask'}\n",
    "    fdict={'ptrc_T':1,'grid_T':1}\n",
    "\n",
    "    data=et.matchData(df,filemap,fdict,start_date,end_date,namfmt,PATH,flen)\n",
    "\n",
    "    with open('matched_'+modver+datestr+'.pkl','wb') as f:\n",
    "        pickle.dump(data,f)"
   ]
  },
  {
   "cell_type": "code",
   "execution_count": 7,
   "metadata": {
    "papermill": {
     "duration": 0.024977,
     "end_time": "2020-11-16T18:41:47.439057",
     "exception": false,
     "start_time": "2020-11-16T18:41:47.414080",
     "status": "completed"
    },
    "tags": []
   },
   "outputs": [],
   "source": [
    "data['other']=0.0\n",
    "for el in ('Cryptophytes', 'Cyanobacteria', 'Dictyochophytes', 'Dinoflagellates',\n",
    "    'Haptophytes', 'Prasinophytes', 'Raphidophytes'):\n",
    "    data['other']=data['other']+data[el]"
   ]
  },
  {
   "cell_type": "code",
   "execution_count": 8,
   "metadata": {
    "papermill": {
     "duration": 0.527085,
     "end_time": "2020-11-16T18:41:47.983401",
     "exception": false,
     "start_time": "2020-11-16T18:41:47.456316",
     "status": "completed"
    },
    "tags": []
   },
   "outputs": [
    {
     "data": {
      "text/plain": [
       "(0, 8)"
      ]
     },
     "execution_count": 8,
     "metadata": {},
     "output_type": "execute_result"
    },
    {
     "data": {
      "image/png": "[encoded data removed]",
      "text/plain": [
       "<Figure size 864x576 with 4 Axes>"
      ]
     },
     "metadata": {
      "needs_background": "light"
     },
     "output_type": "display_data"
    }
   ],
   "source": [
    "fig,ax=plt.subplots(2,2,figsize=(12,8))\n",
    "ax=ax.flatten()\n",
    "ax[0].plot(data['Diatoms-1']+data['Diatoms-2'],Chl_N*data['mod_diatoms'],'k.')\n",
    "ax[0].set_title('Diatoms (mg Chl/m$^3$)')\n",
    "ax[0].set_xlabel('HPLC')\n",
    "ax[0].set_ylabel('model')\n",
    "ax[0].plot((0,18),(0,18),'r-',alpha=.3)\n",
    "\n",
    "ax[1].plot(data['other'],Chl_N*(data['mod_flagellates']+data['mod_ciliates']),'k.')\n",
    "ax[1].set_title('non-Diatoms (mg Chl/m$^3$)')\n",
    "ax[1].set_xlabel('HPLC')\n",
    "ax[1].set_ylabel('model')\n",
    "ax[1].plot((0,12),(0,12),'r-',alpha=.3)\n",
    "\n",
    "ax[2].plot(data['Diatoms-1']+data['Diatoms-2'],Chl_N*data['mod_diatoms'],'k.')\n",
    "ax[2].set_title('Diatoms (mg Chl/m$^3$)')\n",
    "ax[2].set_xlabel('HPLC')\n",
    "ax[2].set_ylabel('model')\n",
    "ax[2].plot((0,25),(0,25),'r-',alpha=.3)\n",
    "ax[2].set_xlim((0,25))\n",
    "ax[2].set_ylim((0,25))\n",
    "\n",
    "ax[3].plot(data['other'],Chl_N*(data['mod_flagellates']+data['mod_ciliates']),'k.')\n",
    "ax[3].set_title('non-Diatoms (mg Chl/m$^3$)')\n",
    "ax[3].set_xlabel('HPLC')\n",
    "ax[3].set_ylabel('model')\n",
    "ax[3].plot((0,12),(0,12),'r-',alpha=.3)\n",
    "ax[3].set_xlim((0,8))\n",
    "ax[3].set_ylim((0,8))"
   ]
  },
  {
   "cell_type": "code",
   "execution_count": 9,
   "metadata": {
    "papermill": {
     "duration": 0.023383,
     "end_time": "2020-11-16T18:41:48.026564",
     "exception": false,
     "start_time": "2020-11-16T18:41:48.003181",
     "status": "completed"
    },
    "tags": []
   },
   "outputs": [],
   "source": [
    "def logt(x):\n",
    "    return np.log10(x+.001)"
   ]
  },
  {
   "cell_type": "code",
   "execution_count": 10,
   "metadata": {
    "papermill": {
     "duration": 0.247996,
     "end_time": "2020-11-16T18:41:48.293901",
     "exception": false,
     "start_time": "2020-11-16T18:41:48.045905",
     "status": "completed"
    },
    "tags": []
   },
   "outputs": [
    {
     "data": {
      "text/plain": [
       "(-3.1, 2)"
      ]
     },
     "execution_count": 10,
     "metadata": {},
     "output_type": "execute_result"
    },
    {
     "data": {
      "image/png": "[encoded data removed]",
      "text/plain": [
       "<Figure size 864x360 with 2 Axes>"
      ]
     },
     "metadata": {
      "needs_background": "light"
     },
     "output_type": "display_data"
    }
   ],
   "source": [
    "fig,ax=plt.subplots(1,2,figsize=(12,5))\n",
    "ax[0].plot(logt(data['Diatoms-1']+data['Diatoms-2']),logt(Chl_N*data['mod_diatoms']),'k.')\n",
    "ax[0].set_title('log10[ Diatoms (mg Chl/m$^3$) + 0.001]',fontsize=18)\n",
    "ax[0].set_xlabel('HPLC',fontsize=18)\n",
    "ax[0].set_ylabel('model',fontsize=18)\n",
    "ax[0].set_xlim(-3.1,2)\n",
    "ax[0].set_ylim(-3.1,2)\n",
    "ax[0].plot((-6,3),(-6,3),'r-',alpha=.3)\n",
    "\n",
    "ax[1].plot(logt(data['other']),logt(Chl_N*(data['mod_flagellates']+data['mod_ciliates'])),'k.')\n",
    "ax[1].set_title('log10[ non-Diatoms (mg Chl/m$^3$) + 0.001]',fontsize=18)\n",
    "ax[1].set_xlabel('HPLC',fontsize=18)\n",
    "ax[1].set_ylabel('model',fontsize=18)\n",
    "ax[1].plot((-6,3),(-6,3),'r-',alpha=.3)\n",
    "ax[1].set_xlim(-3.1,2)\n",
    "ax[1].set_ylim(-3.1,2)"
   ]
  },
  {
   "cell_type": "code",
   "execution_count": 11,
   "metadata": {
    "papermill": {
     "duration": 0.154926,
     "end_time": "2020-11-16T18:41:48.470824",
     "exception": false,
     "start_time": "2020-11-16T18:41:48.315898",
     "status": "completed"
    },
    "tags": []
   },
   "outputs": [
    {
     "data": {
      "text/plain": [
       "[<matplotlib.lines.Line2D at 0x7fe866ef1970>]"
      ]
     },
     "execution_count": 11,
     "metadata": {},
     "output_type": "execute_result"
    },
    {
     "data": {
      "image/png": "[encoded data removed]",
      "text/plain": [
       "<Figure size 432x288 with 1 Axes>"
      ]
     },
     "metadata": {
      "needs_background": "light"
     },
     "output_type": "display_data"
    }
   ],
   "source": [
    "plt.plot(data['TchlA (ug/L)'],Chl_N*(data['mod_flagellates']+data['mod_ciliates']+data['mod_diatoms']),'k.')\n",
    "plt.title('Total Chlorophyll (ug/L)')\n",
    "plt.xlabel('HPLC')\n",
    "plt.ylabel('model')\n",
    "plt.plot((0,20),(0,20),'r-',alpha=.3)"
   ]
  },
  {
   "cell_type": "code",
   "execution_count": 12,
   "metadata": {
    "papermill": {
     "duration": 0.121232,
     "end_time": "2020-11-16T18:41:48.613466",
     "exception": false,
     "start_time": "2020-11-16T18:41:48.492234",
     "status": "completed"
    },
    "tags": []
   },
   "outputs": [
    {
     "data": {
      "image/png": "[encoded data removed]",
      "text/plain": [
       "<Figure size 360x360 with 1 Axes>"
      ]
     },
     "metadata": {
      "needs_background": "light"
     },
     "output_type": "display_data"
    }
   ],
   "source": [
    "fig,ax=plt.subplots(1,1,figsize=(5,5))\n",
    "ax.plot(logt(data['TchlA (ug/L)']),logt(Chl_N*(data['mod_flagellates']+data['mod_ciliates']+data['mod_diatoms'])),'k.')\n",
    "ax.set_title('log10[ Total Chlorophyll (ug/L) + 0.001]')\n",
    "ax.set_xlabel('HPLC')\n",
    "ax.set_ylabel('model')\n",
    "ax.plot((-6,5),(-6,5),'r-',alpha=.3)\n",
    "ax.set_xlim(-1,2)\n",
    "ax.set_ylim(-1,2);"
   ]
  },
  {
   "cell_type": "code",
   "execution_count": 13,
   "metadata": {
    "papermill": {
     "duration": 0.101639,
     "end_time": "2020-11-16T18:41:48.737267",
     "exception": false,
     "start_time": "2020-11-16T18:41:48.635628",
     "status": "completed"
    },
    "tags": []
   },
   "outputs": [],
   "source": [
    "def yd(idt):\n",
    "    if type(idt)==dt.datetime:\n",
    "        yd=(idt-dt.datetime(idt.year-1,12,31)).days\n",
    "    else: # assume array or pandas\n",
    "        yd=[(ii-dt.datetime(ii.year-1,12,31)).days for ii in idt]\n",
    "    return yd\n",
    "\n",
    "data['yd']=yd(data['dtUTC'])\n",
    "data['Year']=[ii.year for ii in data['dtUTC']]"
   ]
  },
  {
   "cell_type": "code",
   "execution_count": 14,
   "metadata": {
    "papermill": {
     "duration": 0.264336,
     "end_time": "2020-11-16T18:41:49.023497",
     "exception": false,
     "start_time": "2020-11-16T18:41:48.759161",
     "status": "completed"
    },
    "tags": []
   },
   "outputs": [
    {
     "data": {
      "text/plain": [
       "<matplotlib.colorbar.Colorbar at 0x7fe866e4bcd0>"
      ]
     },
     "execution_count": 14,
     "metadata": {},
     "output_type": "execute_result"
    },
    {
     "data": {
      "image/png": "[encoded data removed]",
      "text/plain": [
       "<Figure size 360x360 with 2 Axes>"
      ]
     },
     "metadata": {
      "needs_background": "light"
     },
     "output_type": "display_data"
    }
   ],
   "source": [
    "fig,ax=plt.subplots(1,1,figsize=(5,5))\n",
    "m=ax.scatter(logt(data['TchlA (ug/L)']),logt(Chl_N*(data['mod_flagellates']+data['mod_ciliates']+data['mod_diatoms'])),\n",
    "          c=data['yd'],cmap=cmocean.cm.phase)\n",
    "ax.set_title('log10[ Total Chlorophyll (ug/L) + 0.001] By Year Day')\n",
    "ax.set_xlabel('HPLC')\n",
    "ax.set_ylabel('model')\n",
    "ax.plot((-6,5),(-6,5),'r-',alpha=.3)\n",
    "ax.set_xlim(-1,2)\n",
    "ax.set_ylim(-1,2);\n",
    "fig.colorbar(m)"
   ]
  },
  {
   "cell_type": "code",
   "execution_count": 15,
   "metadata": {
    "papermill": {
     "duration": 0.049485,
     "end_time": "2020-11-16T18:41:49.097861",
     "exception": false,
     "start_time": "2020-11-16T18:41:49.048376",
     "status": "completed"
    },
    "tags": []
   },
   "outputs": [],
   "source": [
    "with nc.Dataset('/ocean/eolson/MEOPAR/NEMO-forcing/grid/mesh_mask201702_noLPE.nc') as mesh:\n",
    "    tmask=np.copy(mesh.variables['tmask'][0,:,:,:])\n",
    "    navlat=np.copy(mesh.variables['nav_lat'][:,:])\n",
    "    navlon=np.copy(mesh.variables['nav_lon'][:,:])"
   ]
  },
  {
   "cell_type": "markdown",
   "metadata": {
    "papermill": {
     "duration": 0.023003,
     "end_time": "2020-11-16T18:41:49.144425",
     "exception": false,
     "start_time": "2020-11-16T18:41:49.121422",
     "status": "completed"
    },
    "tags": []
   },
   "source": [
    "## Multiple Linear Regression\n",
    "\n",
    "#### Diatoms"
   ]
  },
  {
   "cell_type": "code",
   "execution_count": 16,
   "metadata": {
    "papermill": {
     "duration": 0.089004,
     "end_time": "2020-11-16T18:41:49.256260",
     "exception": false,
     "start_time": "2020-11-16T18:41:49.167256",
     "status": "completed"
    },
    "tags": []
   },
   "outputs": [],
   "source": [
    "ii=(~pd.isnull(data['mod_diatoms']))&(~pd.isnull(data['Diatoms-1']))&(~pd.isnull(data['Diatoms-2']))&(~pd.isnull(data['Cyanobacteria']))&\\\n",
    "        (~pd.isnull(data['Cryptophytes']))&(~pd.isnull(data['Prasinophytes']))&(~pd.isnull(data['Haptophytes']))&\\\n",
    "        (~pd.isnull(data['Dictyochophytes']))&(~pd.isnull(data['Dinoflagellates']))&(~pd.isnull(data['Raphidophytes']))\n",
    "A=np.vstack([data.loc[ii]['Diatoms-1'],data.loc[ii]['Diatoms-2'],data.loc[ii]['Cyanobacteria'],data.loc[ii]['Cryptophytes'],\n",
    "               data.loc[ii]['Prasinophytes'],data.loc[ii]['Haptophytes'],data.loc[ii]['Dictyochophytes'],data.loc[ii]['Dinoflagellates'],\n",
    "             data.loc[ii]['Raphidophytes'],np.ones(np.shape(data.loc[ii]['Diatoms-1']))]).T\n",
    "b=data.loc[ii]['mod_diatoms']\n",
    "m=np.linalg.lstsq(A,b,rcond=None)[0]"
   ]
  },
  {
   "cell_type": "code",
   "execution_count": 17,
   "metadata": {
    "papermill": {
     "duration": 0.028087,
     "end_time": "2020-11-16T18:41:49.307785",
     "exception": false,
     "start_time": "2020-11-16T18:41:49.279698",
     "status": "completed"
    },
    "tags": []
   },
   "outputs": [
    {
     "data": {
      "text/plain": [
       "array([  0.15362011,   0.53705251, -18.59835986,  -4.1147894 ,\n",
       "        -0.69707046,   2.47382085,  -9.47613134,  -3.22807949,\n",
       "         6.92805154,   1.12486821])"
      ]
     },
     "execution_count": 17,
     "metadata": {},
     "output_type": "execute_result"
    }
   ],
   "source": [
    "m"
   ]
  },
  {
   "cell_type": "code",
   "execution_count": 18,
   "metadata": {
    "papermill": {
     "duration": 0.02824,
     "end_time": "2020-11-16T18:41:49.359150",
     "exception": false,
     "start_time": "2020-11-16T18:41:49.330910",
     "status": "completed"
    },
    "tags": []
   },
   "outputs": [
    {
     "name": "stdout",
     "output_type": "stream",
     "text": [
      "Diatoms-1 0.15362010517970096\n",
      "Diatoms-2 0.5370525136344207\n",
      "Cyanobacteria -18.598359863668296\n",
      "Cryptophytes -4.11478940137139\n",
      "Prasinophytes -0.697070462543518\n",
      "Haptophytes 2.4738208531562136\n",
      "Dictyochophytes -9.47613134008586\n",
      "Dinoflagellates -3.2280794949396108\n",
      "Raphidophytes 6.928051542084849\n",
      "ones 1.1248682091533673\n"
     ]
    }
   ],
   "source": [
    "clist=('Diatoms-1','Diatoms-2','Cyanobacteria','Cryptophytes','Prasinophytes','Haptophytes',\n",
    "        'Dictyochophytes','Dinoflagellates','Raphidophytes','ones')\n",
    "for c, mm in zip(clist,m):\n",
    "    print(c,mm)"
   ]
  },
  {
   "cell_type": "code",
   "execution_count": 19,
   "metadata": {
    "papermill": {
     "duration": 0.03519,
     "end_time": "2020-11-16T18:41:49.418351",
     "exception": false,
     "start_time": "2020-11-16T18:41:49.383161",
     "status": "completed"
    },
    "tags": []
   },
   "outputs": [],
   "source": [
    "ii=(~pd.isnull(data['mod_diatoms']))&(~pd.isnull(data['Diatoms-1']))&(~pd.isnull(data['Diatoms-2']))&\\\n",
    "        (~pd.isnull(data['Cryptophytes']))&(~pd.isnull(data['Raphidophytes']))\n",
    "A=np.vstack([data.loc[ii]['Diatoms-1'],data.loc[ii]['Diatoms-2'],data.loc[ii]['Cryptophytes'],\n",
    "            data.loc[ii]['Raphidophytes'],np.ones(np.shape(data.loc[ii]['Diatoms-1']))]).T\n",
    "b=data.loc[ii]['mod_diatoms']\n",
    "m=np.linalg.lstsq(A,b,rcond=None)[0]"
   ]
  },
  {
   "cell_type": "code",
   "execution_count": 20,
   "metadata": {
    "papermill": {
     "duration": 0.028441,
     "end_time": "2020-11-16T18:41:49.470360",
     "exception": false,
     "start_time": "2020-11-16T18:41:49.441919",
     "status": "completed"
    },
    "tags": []
   },
   "outputs": [
    {
     "name": "stdout",
     "output_type": "stream",
     "text": [
      "Diatoms-1 0.14154549311372153\n",
      "Diatoms-2 0.09174958765481278\n",
      "Cryptophytes -5.156844002272221\n",
      "Raphidophytes 5.284391528044782\n",
      "ones 1.3974490683403271\n"
     ]
    }
   ],
   "source": [
    "clist=('Diatoms-1','Diatoms-2','Cryptophytes','Raphidophytes','ones')\n",
    "for c, mm in zip(clist,m):\n",
    "    print(c,mm)"
   ]
  },
  {
   "cell_type": "code",
   "execution_count": 21,
   "metadata": {
    "papermill": {
     "duration": 0.033748,
     "end_time": "2020-11-16T18:41:49.528229",
     "exception": false,
     "start_time": "2020-11-16T18:41:49.494481",
     "status": "completed"
    },
    "tags": []
   },
   "outputs": [],
   "source": [
    "ii=(~pd.isnull(data['mod_diatoms']))&(~pd.isnull(data['Diatoms-1']))&\\\n",
    "        (~pd.isnull(data['Cryptophytes']))&(~pd.isnull(data['Raphidophytes']))\n",
    "A=np.vstack([data.loc[ii]['Diatoms-1'],data.loc[ii]['Cryptophytes'],\n",
    "            data.loc[ii]['Raphidophytes'],np.ones(np.shape(data.loc[ii]['Diatoms-1']))]).T\n",
    "b=data.loc[ii]['mod_diatoms']\n",
    "m=np.linalg.lstsq(A,b,rcond=None)[0]"
   ]
  },
  {
   "cell_type": "code",
   "execution_count": 22,
   "metadata": {
    "papermill": {
     "duration": 0.028631,
     "end_time": "2020-11-16T18:41:49.581253",
     "exception": false,
     "start_time": "2020-11-16T18:41:49.552622",
     "status": "completed"
    },
    "tags": []
   },
   "outputs": [
    {
     "name": "stdout",
     "output_type": "stream",
     "text": [
      "Diatoms-1 0.14499654733629624\n",
      "Cryptophytes -5.134087754268163\n",
      "Raphidophytes 5.1740744108946215\n",
      "ones 1.412721385811937\n"
     ]
    }
   ],
   "source": [
    "clist=('Diatoms-1','Cryptophytes','Raphidophytes','ones')\n",
    "for c, mm in zip(clist,m):\n",
    "    print(c,mm)"
   ]
  },
  {
   "cell_type": "markdown",
   "metadata": {
    "papermill": {
     "duration": 0.023862,
     "end_time": "2020-11-16T18:41:49.629279",
     "exception": false,
     "start_time": "2020-11-16T18:41:49.605417",
     "status": "completed"
    },
    "tags": []
   },
   "source": [
    "#### flagellates"
   ]
  },
  {
   "cell_type": "code",
   "execution_count": 23,
   "metadata": {
    "papermill": {
     "duration": 0.040804,
     "end_time": "2020-11-16T18:41:49.694265",
     "exception": false,
     "start_time": "2020-11-16T18:41:49.653461",
     "status": "completed"
    },
    "tags": []
   },
   "outputs": [],
   "source": [
    "ii=(~pd.isnull(data['mod_flagellates']))&(~pd.isnull(data['Diatoms-1']))&(~pd.isnull(data['Diatoms-2']))&(~pd.isnull(data['Cyanobacteria']))&\\\n",
    "        (~pd.isnull(data['Cryptophytes']))&(~pd.isnull(data['Prasinophytes']))&(~pd.isnull(data['Haptophytes']))&\\\n",
    "        (~pd.isnull(data['Dictyochophytes']))&(~pd.isnull(data['Dinoflagellates']))&(~pd.isnull(data['Raphidophytes']))\n",
    "A=np.vstack([data.loc[ii]['Diatoms-1'],data.loc[ii]['Diatoms-2'],data.loc[ii]['Cyanobacteria'],data.loc[ii]['Cryptophytes'],\n",
    "               data.loc[ii]['Prasinophytes'],data.loc[ii]['Haptophytes'],data.loc[ii]['Dictyochophytes'],data.loc[ii]['Dinoflagellates'],\n",
    "             data.loc[ii]['Raphidophytes'],np.ones(np.shape(data.loc[ii]['Diatoms-1']))]).T\n",
    "b=data.loc[ii]['mod_flagellates']\n",
    "m=np.linalg.lstsq(A,b,rcond=None)[0]"
   ]
  },
  {
   "cell_type": "code",
   "execution_count": 24,
   "metadata": {
    "papermill": {
     "duration": 0.028927,
     "end_time": "2020-11-16T18:41:49.747535",
     "exception": false,
     "start_time": "2020-11-16T18:41:49.718608",
     "status": "completed"
    },
    "tags": []
   },
   "outputs": [
    {
     "data": {
      "text/plain": [
       "array([ 3.62349585e-03, -2.87070360e-01,  9.78042634e+00,  2.29461273e-02,\n",
       "        1.46210925e+00, -6.68310185e-01, -4.10156957e+00,  4.22687229e-02,\n",
       "       -4.45418943e-01,  6.54249207e-01])"
      ]
     },
     "execution_count": 24,
     "metadata": {},
     "output_type": "execute_result"
    }
   ],
   "source": [
    "m"
   ]
  },
  {
   "cell_type": "code",
   "execution_count": 25,
   "metadata": {
    "papermill": {
     "duration": 0.029629,
     "end_time": "2020-11-16T18:41:49.801140",
     "exception": false,
     "start_time": "2020-11-16T18:41:49.771511",
     "status": "completed"
    },
    "tags": []
   },
   "outputs": [
    {
     "name": "stdout",
     "output_type": "stream",
     "text": [
      "Diatoms-1 0.0036234958534809222\n",
      "Diatoms-2 -0.28707035984171997\n",
      "Cyanobacteria 9.78042633700488\n",
      "Cryptophytes 0.022946127347855002\n",
      "Prasinophytes 1.4621092506367768\n",
      "Haptophytes -0.6683101854728772\n",
      "Dictyochophytes -4.101569568838664\n",
      "Dinoflagellates 0.04226872287429033\n",
      "Raphidophytes -0.44541894277273747\n",
      "ones 0.6542492069408701\n"
     ]
    }
   ],
   "source": [
    "clist=('Diatoms-1','Diatoms-2','Cyanobacteria','Cryptophytes','Prasinophytes','Haptophytes',\n",
    "        'Dictyochophytes','Dinoflagellates','Raphidophytes','ones')\n",
    "for c, mm in zip(clist,m):\n",
    "    print(c,mm)"
   ]
  },
  {
   "cell_type": "code",
   "execution_count": 26,
   "metadata": {
    "papermill": {
     "duration": 0.0398,
     "end_time": "2020-11-16T18:41:49.865344",
     "exception": false,
     "start_time": "2020-11-16T18:41:49.825544",
     "status": "completed"
    },
    "tags": []
   },
   "outputs": [],
   "source": [
    "ii=(~pd.isnull(data['mod_flagellates']))&(~pd.isnull(data['Diatoms-1']))&(~pd.isnull(data['Cyanobacteria']))&\\\n",
    "        (~pd.isnull(data['Cryptophytes']))&(~pd.isnull(data['Prasinophytes']))&(~pd.isnull(data['Haptophytes']))&\\\n",
    "        (~pd.isnull(data['Dictyochophytes']))&(~pd.isnull(data['Dinoflagellates']))&(~pd.isnull(data['Raphidophytes']))\n",
    "A=np.vstack([data.loc[ii]['Diatoms-1'],data.loc[ii]['Cyanobacteria'],data.loc[ii]['Cryptophytes'],\n",
    "               data.loc[ii]['Prasinophytes'],data.loc[ii]['Haptophytes'],data.loc[ii]['Dictyochophytes'],\n",
    "             data.loc[ii]['Dinoflagellates'],np.ones(np.shape(data.loc[ii]['Diatoms-1']))]).T\n",
    "b=data.loc[ii]['mod_flagellates']\n",
    "m=np.linalg.lstsq(A,b,rcond=None)[0]"
   ]
  },
  {
   "cell_type": "code",
   "execution_count": 27,
   "metadata": {
    "papermill": {
     "duration": 0.031116,
     "end_time": "2020-11-16T18:41:49.921502",
     "exception": false,
     "start_time": "2020-11-16T18:41:49.890386",
     "status": "completed"
    },
    "tags": []
   },
   "outputs": [
    {
     "name": "stdout",
     "output_type": "stream",
     "text": [
      "Diatoms-1 -0.003492440405774762\n",
      "Cyanobacteria 9.856053648274441\n",
      "Cryptophytes 0.3371327589433806\n",
      "Prasinophytes 1.0889578576309311\n",
      "Haptophytes -0.5804871449829264\n",
      "Dictyochophytes -6.499559024603098\n",
      "Dinoflagellates -0.46551523992896404\n",
      "ones 0.6021349158066318\n"
     ]
    }
   ],
   "source": [
    "clist=('Diatoms-1','Cyanobacteria','Cryptophytes','Prasinophytes','Haptophytes',\n",
    "        'Dictyochophytes','Dinoflagellates','ones')\n",
    "for c, mm in zip(clist,m):\n",
    "    print(c,mm)"
   ]
  },
  {
   "cell_type": "code",
   "execution_count": 28,
   "metadata": {
    "papermill": {
     "duration": 0.038704,
     "end_time": "2020-11-16T18:41:49.985269",
     "exception": false,
     "start_time": "2020-11-16T18:41:49.946565",
     "status": "completed"
    },
    "tags": []
   },
   "outputs": [],
   "source": [
    "ii=(~pd.isnull(data['mod_flagellates']))&(~pd.isnull(data['Cyanobacteria']))&\\\n",
    "        (~pd.isnull(data['Cryptophytes']))&(~pd.isnull(data['Prasinophytes']))&(~pd.isnull(data['Haptophytes']))&\\\n",
    "        (~pd.isnull(data['Dictyochophytes']))&(~pd.isnull(data['Raphidophytes']))\n",
    "A=np.vstack([data.loc[ii]['Cyanobacteria'],data.loc[ii]['Cryptophytes'],\n",
    "               data.loc[ii]['Prasinophytes'],data.loc[ii]['Haptophytes'],data.loc[ii]['Dictyochophytes'],\n",
    "             np.ones(np.shape(data.loc[ii]['Diatoms-1']))]).T\n",
    "b=data.loc[ii]['mod_flagellates']\n",
    "m=np.linalg.lstsq(A,b,rcond=None)[0]"
   ]
  },
  {
   "cell_type": "code",
   "execution_count": 29,
   "metadata": {
    "papermill": {
     "duration": 0.029337,
     "end_time": "2020-11-16T18:41:50.038755",
     "exception": false,
     "start_time": "2020-11-16T18:41:50.009418",
     "status": "completed"
    },
    "tags": []
   },
   "outputs": [
    {
     "name": "stdout",
     "output_type": "stream",
     "text": [
      "Cyanobacteria 10.009595279342664\n",
      "Cryptophytes 0.04098760671663093\n",
      "Prasinophytes 1.3933813294354769\n",
      "Haptophytes -0.49778588249938593\n",
      "Dictyochophytes -6.81550667434942\n",
      "ones 0.5557648273130189\n"
     ]
    }
   ],
   "source": [
    "clist=('Cyanobacteria','Cryptophytes','Prasinophytes','Haptophytes',\n",
    "        'Dictyochophytes','ones')\n",
    "for c, mm in zip(clist,m):\n",
    "    print(c,mm)"
   ]
  },
  {
   "cell_type": "markdown",
   "metadata": {
    "papermill": {
     "duration": 0.024377,
     "end_time": "2020-11-16T18:41:50.087772",
     "exception": false,
     "start_time": "2020-11-16T18:41:50.063395",
     "status": "completed"
    },
    "tags": []
   },
   "source": [
    "#### M. rubrum"
   ]
  },
  {
   "cell_type": "code",
   "execution_count": 30,
   "metadata": {
    "papermill": {
     "duration": 0.041422,
     "end_time": "2020-11-16T18:41:50.153523",
     "exception": false,
     "start_time": "2020-11-16T18:41:50.112101",
     "status": "completed"
    },
    "tags": []
   },
   "outputs": [],
   "source": [
    "ii=(~pd.isnull(data['mod_ciliates']))&(~pd.isnull(data['Diatoms-1']))&(~pd.isnull(data['Diatoms-2']))&(~pd.isnull(data['Cyanobacteria']))&\\\n",
    "        (~pd.isnull(data['Cryptophytes']))&(~pd.isnull(data['Prasinophytes']))&(~pd.isnull(data['Haptophytes']))&\\\n",
    "        (~pd.isnull(data['Dictyochophytes']))&(~pd.isnull(data['Dinoflagellates']))&(~pd.isnull(data['Raphidophytes']))\n",
    "A=np.vstack([data.loc[ii]['Diatoms-1'],data.loc[ii]['Diatoms-2'],data.loc[ii]['Cyanobacteria'],data.loc[ii]['Cryptophytes'],\n",
    "               data.loc[ii]['Prasinophytes'],data.loc[ii]['Haptophytes'],data.loc[ii]['Dictyochophytes'],data.loc[ii]['Dinoflagellates'],\n",
    "             data.loc[ii]['Raphidophytes'],np.ones(np.shape(data.loc[ii]['Diatoms-1']))]).T\n",
    "b=data.loc[ii]['mod_ciliates']\n",
    "m=np.linalg.lstsq(A,b,rcond=None)[0]"
   ]
  },
  {
   "cell_type": "code",
   "execution_count": 31,
   "metadata": {
    "papermill": {
     "duration": 0.03022,
     "end_time": "2020-11-16T18:41:50.208282",
     "exception": false,
     "start_time": "2020-11-16T18:41:50.178062",
     "status": "completed"
    },
    "tags": []
   },
   "outputs": [
    {
     "name": "stdout",
     "output_type": "stream",
     "text": [
      "Diatoms-1 0.014522618987242433\n",
      "Diatoms-2 -0.07637852658674282\n",
      "Cyanobacteria -1.5530543193895352\n",
      "Cryptophytes 0.28936233755418134\n",
      "Prasinophytes -0.3474422162497295\n",
      "Haptophytes -0.022588197484232884\n",
      "Dictyochophytes 1.234743624724585\n",
      "Dinoflagellates 0.2426084184025224\n",
      "Raphidophytes 0.07913791603449481\n",
      "ones 0.39038901660459696\n"
     ]
    }
   ],
   "source": [
    "clist=('Diatoms-1','Diatoms-2','Cyanobacteria','Cryptophytes','Prasinophytes','Haptophytes',\n",
    "        'Dictyochophytes','Dinoflagellates','Raphidophytes','ones')\n",
    "for c, mm in zip(clist,m):\n",
    "    print(c,mm)"
   ]
  },
  {
   "cell_type": "markdown",
   "metadata": {
    "papermill": {
     "duration": 0.024185,
     "end_time": "2020-11-16T18:41:50.257002",
     "exception": false,
     "start_time": "2020-11-16T18:41:50.232817",
     "status": "completed"
    },
    "tags": []
   },
   "source": [
    "Diatoms:\n",
    "- Cryptophytes 0.38\n",
    "- Diatoms-1 0.16\n",
    "- Raphidophytes 0.09\n",
    "\n",
    "Flagellates:\n",
    "- Cyanobacteria 0.9248939785743201\n",
    "- Cryptophytes 0.592769155988474\n",
    "- Prasinophytes 0.18975008147644779\n",
    "- Haptophytes 0.2794204846195845\n",
    "- Dictyochophytes 0.058845777018170356\n",
    "\n",
    "M. rubrum:\n",
    "- Cyanobacteria 0.2710109702166438\n",
    "\n",
    "None:\n",
    "- Diatoms-2\n",
    "- Dinoflagellates"
   ]
  },
  {
   "cell_type": "code",
   "execution_count": 32,
   "metadata": {
    "papermill": {
     "duration": 0.77876,
     "end_time": "2020-11-16T18:41:51.060258",
     "exception": false,
     "start_time": "2020-11-16T18:41:50.281498",
     "status": "completed"
    },
    "tags": []
   },
   "outputs": [
    {
     "data": {
      "text/plain": [
       "<matplotlib.legend.Legend at 0x7fe866ee83a0>"
      ]
     },
     "execution_count": 32,
     "metadata": {},
     "output_type": "execute_result"
    },
    {
     "data": {
      "image/png": "[encoded data removed]",
      "text/plain": [
       "<Figure size 1080x504 with 10 Axes>"
      ]
     },
     "metadata": {
      "needs_background": "light"
     },
     "output_type": "display_data"
    }
   ],
   "source": [
    "fig,ax=plt.subplots(2,5,figsize=(15,7))\n",
    "fig.subplots_adjust(wspace=.4)\n",
    "ax=ax.flatten()\n",
    "\n",
    "chplc=('Diatoms-1', 'Diatoms-2','Cyanobacteria','Cryptophytes', 'Prasinophytes', \n",
    "       'Haptophytes',  'Dictyochophytes','Dinoflagellates','Raphidophytes','TchlA (ug/L)')\n",
    "\n",
    "mvar1=Chl_N*data['mod_diatoms']\n",
    "mvar2=Chl_N*data['mod_flagellates']\n",
    "\n",
    "for ii in range(0,len(chplc)):\n",
    "    ax[ii].plot(logt(data.loc[:,[chplc[ii]]].values),logt(mvar1),'.',color='blue',label='Diatoms')\n",
    "    ax[ii].plot(logt(data.loc[:,[chplc[ii]]].values),logt(mvar2),'.',color='red',label='Flagellates')\n",
    "    ax[ii].set_ylabel('Model Class')\n",
    "    ax[ii].set_xlabel(chplc[ii])\n",
    "    ax[ii].set_title('log10[Chl(mg/m3)+.001]')\n",
    "    ax[ii].plot((-3,1.5),(-3,1.5),'k-',alpha=.2)\n",
    "    ax[ii].set_xlim((-3,1.5))\n",
    "    ax[ii].set_ylim((-3,1.5))\n",
    "    ax[ii].set_aspect(1)\n",
    "ax[0].legend()\n"
   ]
  },
  {
   "cell_type": "code",
   "execution_count": 33,
   "metadata": {
    "papermill": {
     "duration": 0.264437,
     "end_time": "2020-11-16T18:41:51.352800",
     "exception": false,
     "start_time": "2020-11-16T18:41:51.088363",
     "status": "completed"
    },
    "tags": []
   },
   "outputs": [
    {
     "data": {
      "text/plain": [
       "(-3, 1.5)"
      ]
     },
     "execution_count": 33,
     "metadata": {},
     "output_type": "execute_result"
    },
    {
     "data": {
      "image/png": "[encoded data removed]",
      "text/plain": [
       "<Figure size 864x216 with 3 Axes>"
      ]
     },
     "metadata": {
      "needs_background": "light"
     },
     "output_type": "display_data"
    }
   ],
   "source": [
    "fig,ax=plt.subplots(1,3,figsize=(12,3))\n",
    "fig.subplots_adjust(wspace=.5)\n",
    "#ax[0].plot(logt(data['Diatoms-1']+data['Raphidophytes']+.5*data['Cryptophytes']),logt(data['mod_diatoms']),'r.')\n",
    "ax[0].plot(logt(data['Diatoms-1']+data['Raphidophytes']),logt(data['mod_diatoms']),'k.')\n",
    "ax[0].set_ylabel('Model diatoms')\n",
    "ax[0].set_xlabel('Diatoms1+Raphido')\n",
    "ax[0].set_title('log10[Chl(mg/m3)+.001]')\n",
    "ax[0].plot((-3,1.5),(-3,1.5),'k-',alpha=.2)\n",
    "ax[0].set_xlim((-3,1.5))\n",
    "ax[0].set_ylim((-3,1.5))\n",
    "\n",
    "ax[1].plot(logt(data['Cyanobacteria']+data['Cryptophytes']+data['Haptophytes']),logt(data['mod_flagellates']),'k.')\n",
    "ax[1].set_ylabel('Model flagellates')\n",
    "ax[1].set_xlabel('Cyano+Crypto+Hapto')\n",
    "ax[1].set_title('log10[Chl(mg/m3)+.001]')\n",
    "ax[1].plot((-3,1.5),(-3,1.5),'k-',alpha=.2)\n",
    "ax[1].set_xlim((-3,1.5))\n",
    "ax[1].set_ylim((-3,1.5))\n",
    "\n",
    "\n",
    "ax[2].plot(logt(data['Cyanobacteria']),logt(data['mod_ciliates']),'k.')\n",
    "ax[2].set_ylabel('Model M. rubrum')\n",
    "ax[2].set_xlabel('Cyano')\n",
    "ax[2].set_title('log10[Chl(mg/m3)+.001]')\n",
    "ax[2].plot((-3,1.5),(-3,1.5),'k-',alpha=.2)\n",
    "ax[2].set_xlim((-3,1.5))\n",
    "ax[2].set_ylim((-3,1.5))"
   ]
  },
  {
   "cell_type": "code",
   "execution_count": 34,
   "metadata": {
    "papermill": {
     "duration": 0.041088,
     "end_time": "2020-11-16T18:41:51.423016",
     "exception": false,
     "start_time": "2020-11-16T18:41:51.381928",
     "status": "completed"
    },
    "tags": []
   },
   "outputs": [],
   "source": [
    "data['mod_diatoms_chl']=Chl_N*data['mod_diatoms']\n",
    "data['mod_flagellates_chl']=Chl_N*data['mod_flagellates']\n",
    "data['mod_ciliates_chl']=Chl_N*data['mod_ciliates']\n",
    "data['mod_TChl']=data['mod_diatoms_chl']+data['mod_flagellates_chl']+data['mod_ciliates_chl']\n",
    "data['CCPH']=data['Cyanobacteria']+data['Cryptophytes']+data['Prasinophytes']+data['Haptophytes']\n",
    "data['DD']=data['Diatoms-1']+data['Diatoms-2']\n",
    "dfVars=data.loc[:,['Diatoms-1', 'Diatoms-2','Cyanobacteria','Cryptophytes', 'Prasinophytes', \n",
    "       'Haptophytes',  'Dictyochophytes','Dinoflagellates','Raphidophytes','DD','CCPH','TchlA (ug/L)',\n",
    "                   'mod_diatoms_chl','mod_flagellates_chl','mod_ciliates_chl','mod_TChl']]"
   ]
  },
  {
   "cell_type": "markdown",
   "metadata": {
    "papermill": {
     "duration": 0.028328,
     "end_time": "2020-11-16T18:41:51.480020",
     "exception": false,
     "start_time": "2020-11-16T18:41:51.451692",
     "status": "completed"
    },
    "tags": []
   },
   "source": [
    "### Variance-Covariance Matrix"
   ]
  },
  {
   "cell_type": "code",
   "execution_count": 35,
   "metadata": {
    "papermill": {
     "duration": 0.047113,
     "end_time": "2020-11-16T18:41:51.555926",
     "exception": false,
     "start_time": "2020-11-16T18:41:51.508813",
     "status": "completed"
    },
    "tags": []
   },
   "outputs": [
    {
     "data": {
      "text/html": [
       "<div>\n",
       "<style scoped>\n",
       "    .dataframe tbody tr th:only-of-type {\n",
       "        vertical-align: middle;\n",
       "    }\n",
       "\n",
       "    .dataframe tbody tr th {\n",
       "        vertical-align: top;\n",
       "    }\n",
       "\n",
       "    .dataframe thead th {\n",
       "        text-align: right;\n",
       "    }\n",
       "</style>\n",
       "<table border=\"1\" class=\"dataframe\">\n",
       "  <thead>\n",
       "    <tr style=\"text-align: right;\">\n",
       "      <th></th>\n",
       "      <th>Diatoms-1</th>\n",
       "      <th>Diatoms-2</th>\n",
       "      <th>Cyanobacteria</th>\n",
       "      <th>Cryptophytes</th>\n",
       "      <th>Prasinophytes</th>\n",
       "      <th>Haptophytes</th>\n",
       "      <th>Dictyochophytes</th>\n",
       "      <th>Dinoflagellates</th>\n",
       "      <th>Raphidophytes</th>\n",
       "      <th>DD</th>\n",
       "      <th>CCPH</th>\n",
       "      <th>TchlA (ug/L)</th>\n",
       "      <th>mod_diatoms_chl</th>\n",
       "      <th>mod_flagellates_chl</th>\n",
       "      <th>mod_ciliates_chl</th>\n",
       "      <th>mod_TChl</th>\n",
       "    </tr>\n",
       "  </thead>\n",
       "  <tbody>\n",
       "    <tr>\n",
       "      <th>Diatoms-1</th>\n",
       "      <td>27.253244</td>\n",
       "      <td>1.017793</td>\n",
       "      <td>-0.054003</td>\n",
       "      <td>-0.090195</td>\n",
       "      <td>-0.056810</td>\n",
       "      <td>-0.595294</td>\n",
       "      <td>-0.009301</td>\n",
       "      <td>0.101353</td>\n",
       "      <td>-0.012529</td>\n",
       "      <td>28.271038</td>\n",
       "      <td>-0.796302</td>\n",
       "      <td>27.553557</td>\n",
       "      <td>7.829763</td>\n",
       "      <td>-0.649576</td>\n",
       "      <td>0.758015</td>\n",
       "      <td>7.938202</td>\n",
       "    </tr>\n",
       "    <tr>\n",
       "      <th>Diatoms-2</th>\n",
       "      <td>1.017793</td>\n",
       "      <td>0.375903</td>\n",
       "      <td>-0.003801</td>\n",
       "      <td>-0.007400</td>\n",
       "      <td>-0.000883</td>\n",
       "      <td>-0.052940</td>\n",
       "      <td>0.002094</td>\n",
       "      <td>0.025765</td>\n",
       "      <td>-0.005659</td>\n",
       "      <td>1.393697</td>\n",
       "      <td>-0.065024</td>\n",
       "      <td>1.350779</td>\n",
       "      <td>0.336257</td>\n",
       "      <td>-0.202425</td>\n",
       "      <td>-0.000499</td>\n",
       "      <td>0.133334</td>\n",
       "    </tr>\n",
       "    <tr>\n",
       "      <th>Cyanobacteria</th>\n",
       "      <td>-0.054003</td>\n",
       "      <td>-0.003801</td>\n",
       "      <td>0.001068</td>\n",
       "      <td>-0.000165</td>\n",
       "      <td>0.000120</td>\n",
       "      <td>0.002049</td>\n",
       "      <td>-0.000087</td>\n",
       "      <td>-0.000554</td>\n",
       "      <td>0.000121</td>\n",
       "      <td>-0.057804</td>\n",
       "      <td>0.003072</td>\n",
       "      <td>-0.055256</td>\n",
       "      <td>-0.037976</td>\n",
       "      <td>0.018765</td>\n",
       "      <td>-0.004537</td>\n",
       "      <td>-0.023748</td>\n",
       "    </tr>\n",
       "    <tr>\n",
       "      <th>Cryptophytes</th>\n",
       "      <td>-0.090195</td>\n",
       "      <td>-0.007400</td>\n",
       "      <td>-0.000165</td>\n",
       "      <td>0.033249</td>\n",
       "      <td>0.020320</td>\n",
       "      <td>-0.000702</td>\n",
       "      <td>0.000517</td>\n",
       "      <td>0.009071</td>\n",
       "      <td>0.010192</td>\n",
       "      <td>-0.097595</td>\n",
       "      <td>0.052701</td>\n",
       "      <td>-0.025124</td>\n",
       "      <td>-0.235887</td>\n",
       "      <td>0.044722</td>\n",
       "      <td>0.010323</td>\n",
       "      <td>-0.180842</td>\n",
       "    </tr>\n",
       "    <tr>\n",
       "      <th>Prasinophytes</th>\n",
       "      <td>-0.056810</td>\n",
       "      <td>-0.000883</td>\n",
       "      <td>0.000120</td>\n",
       "      <td>0.020320</td>\n",
       "      <td>0.017550</td>\n",
       "      <td>-0.001524</td>\n",
       "      <td>0.000441</td>\n",
       "      <td>0.002407</td>\n",
       "      <td>0.005430</td>\n",
       "      <td>-0.057692</td>\n",
       "      <td>0.036466</td>\n",
       "      <td>-0.012948</td>\n",
       "      <td>-0.153675</td>\n",
       "      <td>0.043626</td>\n",
       "      <td>0.000777</td>\n",
       "      <td>-0.109272</td>\n",
       "    </tr>\n",
       "    <tr>\n",
       "      <th>Haptophytes</th>\n",
       "      <td>-0.595294</td>\n",
       "      <td>-0.052940</td>\n",
       "      <td>0.002049</td>\n",
       "      <td>-0.000702</td>\n",
       "      <td>-0.001524</td>\n",
       "      <td>0.064185</td>\n",
       "      <td>-0.000259</td>\n",
       "      <td>-0.007239</td>\n",
       "      <td>0.001180</td>\n",
       "      <td>-0.648234</td>\n",
       "      <td>0.064008</td>\n",
       "      <td>-0.590506</td>\n",
       "      <td>0.069721</td>\n",
       "      <td>-0.021288</td>\n",
       "      <td>-0.019602</td>\n",
       "      <td>0.028830</td>\n",
       "    </tr>\n",
       "    <tr>\n",
       "      <th>Dictyochophytes</th>\n",
       "      <td>-0.009301</td>\n",
       "      <td>0.002094</td>\n",
       "      <td>-0.000087</td>\n",
       "      <td>0.000517</td>\n",
       "      <td>0.000441</td>\n",
       "      <td>-0.000259</td>\n",
       "      <td>0.000271</td>\n",
       "      <td>0.000369</td>\n",
       "      <td>0.000452</td>\n",
       "      <td>-0.007207</td>\n",
       "      <td>0.000613</td>\n",
       "      <td>-0.005505</td>\n",
       "      <td>-0.004314</td>\n",
       "      <td>-0.003510</td>\n",
       "      <td>0.000543</td>\n",
       "      <td>-0.007281</td>\n",
       "    </tr>\n",
       "    <tr>\n",
       "      <th>Dinoflagellates</th>\n",
       "      <td>0.101353</td>\n",
       "      <td>0.025765</td>\n",
       "      <td>-0.000554</td>\n",
       "      <td>0.009071</td>\n",
       "      <td>0.002407</td>\n",
       "      <td>-0.007239</td>\n",
       "      <td>0.000369</td>\n",
       "      <td>0.016930</td>\n",
       "      <td>0.003439</td>\n",
       "      <td>0.127118</td>\n",
       "      <td>0.003686</td>\n",
       "      <td>0.151519</td>\n",
       "      <td>-0.092742</td>\n",
       "      <td>-0.011174</td>\n",
       "      <td>0.012871</td>\n",
       "      <td>-0.091044</td>\n",
       "    </tr>\n",
       "    <tr>\n",
       "      <th>Raphidophytes</th>\n",
       "      <td>-0.012529</td>\n",
       "      <td>-0.005659</td>\n",
       "      <td>0.000121</td>\n",
       "      <td>0.010192</td>\n",
       "      <td>0.005430</td>\n",
       "      <td>0.001180</td>\n",
       "      <td>0.000452</td>\n",
       "      <td>0.003439</td>\n",
       "      <td>0.006417</td>\n",
       "      <td>-0.018188</td>\n",
       "      <td>0.016923</td>\n",
       "      <td>0.009039</td>\n",
       "      <td>-0.037691</td>\n",
       "      <td>0.010040</td>\n",
       "      <td>0.005398</td>\n",
       "      <td>-0.022253</td>\n",
       "    </tr>\n",
       "    <tr>\n",
       "      <th>DD</th>\n",
       "      <td>28.271038</td>\n",
       "      <td>1.393697</td>\n",
       "      <td>-0.057804</td>\n",
       "      <td>-0.097595</td>\n",
       "      <td>-0.057692</td>\n",
       "      <td>-0.648234</td>\n",
       "      <td>-0.007207</td>\n",
       "      <td>0.127118</td>\n",
       "      <td>-0.018188</td>\n",
       "      <td>29.664734</td>\n",
       "      <td>-0.861326</td>\n",
       "      <td>28.904336</td>\n",
       "      <td>8.166021</td>\n",
       "      <td>-0.852001</td>\n",
       "      <td>0.757516</td>\n",
       "      <td>8.071536</td>\n",
       "    </tr>\n",
       "    <tr>\n",
       "      <th>CCPH</th>\n",
       "      <td>-0.796302</td>\n",
       "      <td>-0.065024</td>\n",
       "      <td>0.003072</td>\n",
       "      <td>0.052701</td>\n",
       "      <td>0.036466</td>\n",
       "      <td>0.064008</td>\n",
       "      <td>0.000613</td>\n",
       "      <td>0.003686</td>\n",
       "      <td>0.016923</td>\n",
       "      <td>-0.861326</td>\n",
       "      <td>0.156247</td>\n",
       "      <td>-0.683835</td>\n",
       "      <td>-0.357817</td>\n",
       "      <td>0.085826</td>\n",
       "      <td>-0.013040</td>\n",
       "      <td>-0.285031</td>\n",
       "    </tr>\n",
       "    <tr>\n",
       "      <th>TchlA (ug/L)</th>\n",
       "      <td>27.553557</td>\n",
       "      <td>1.350779</td>\n",
       "      <td>-0.055256</td>\n",
       "      <td>-0.025124</td>\n",
       "      <td>-0.012948</td>\n",
       "      <td>-0.590506</td>\n",
       "      <td>-0.005505</td>\n",
       "      <td>0.151519</td>\n",
       "      <td>0.009039</td>\n",
       "      <td>28.904336</td>\n",
       "      <td>-0.683835</td>\n",
       "      <td>28.374752</td>\n",
       "      <td>7.673414</td>\n",
       "      <td>-0.770816</td>\n",
       "      <td>0.763266</td>\n",
       "      <td>7.665864</td>\n",
       "    </tr>\n",
       "    <tr>\n",
       "      <th>mod_diatoms_chl</th>\n",
       "      <td>7.829763</td>\n",
       "      <td>0.336257</td>\n",
       "      <td>-0.037976</td>\n",
       "      <td>-0.235887</td>\n",
       "      <td>-0.153675</td>\n",
       "      <td>0.069721</td>\n",
       "      <td>-0.004314</td>\n",
       "      <td>-0.092742</td>\n",
       "      <td>-0.037691</td>\n",
       "      <td>8.166021</td>\n",
       "      <td>-0.357817</td>\n",
       "      <td>7.673414</td>\n",
       "      <td>2.613634</td>\n",
       "      <td>0.064976</td>\n",
       "      <td>0.222296</td>\n",
       "      <td>2.900906</td>\n",
       "    </tr>\n",
       "    <tr>\n",
       "      <th>mod_flagellates_chl</th>\n",
       "      <td>-0.649576</td>\n",
       "      <td>-0.202425</td>\n",
       "      <td>0.018765</td>\n",
       "      <td>0.044722</td>\n",
       "      <td>0.043626</td>\n",
       "      <td>-0.021288</td>\n",
       "      <td>-0.003510</td>\n",
       "      <td>-0.011174</td>\n",
       "      <td>0.010040</td>\n",
       "      <td>-0.852001</td>\n",
       "      <td>0.085826</td>\n",
       "      <td>-0.770816</td>\n",
       "      <td>0.064976</td>\n",
       "      <td>0.777297</td>\n",
       "      <td>0.130141</td>\n",
       "      <td>0.972414</td>\n",
       "    </tr>\n",
       "    <tr>\n",
       "      <th>mod_ciliates_chl</th>\n",
       "      <td>0.758015</td>\n",
       "      <td>-0.000499</td>\n",
       "      <td>-0.004537</td>\n",
       "      <td>0.010323</td>\n",
       "      <td>0.000777</td>\n",
       "      <td>-0.019602</td>\n",
       "      <td>0.000543</td>\n",
       "      <td>0.012871</td>\n",
       "      <td>0.005398</td>\n",
       "      <td>0.757516</td>\n",
       "      <td>-0.013040</td>\n",
       "      <td>0.763266</td>\n",
       "      <td>0.222296</td>\n",
       "      <td>0.130141</td>\n",
       "      <td>0.096097</td>\n",
       "      <td>0.448534</td>\n",
       "    </tr>\n",
       "    <tr>\n",
       "      <th>mod_TChl</th>\n",
       "      <td>7.938202</td>\n",
       "      <td>0.133334</td>\n",
       "      <td>-0.023748</td>\n",
       "      <td>-0.180842</td>\n",
       "      <td>-0.109272</td>\n",
       "      <td>0.028830</td>\n",
       "      <td>-0.007281</td>\n",
       "      <td>-0.091044</td>\n",
       "      <td>-0.022253</td>\n",
       "      <td>8.071536</td>\n",
       "      <td>-0.285031</td>\n",
       "      <td>7.665864</td>\n",
       "      <td>2.900906</td>\n",
       "      <td>0.972414</td>\n",
       "      <td>0.448534</td>\n",
       "      <td>4.321854</td>\n",
       "    </tr>\n",
       "  </tbody>\n",
       "</table>\n",
       "</div>"
      ],
      "text/plain": [
       "                     Diatoms-1  Diatoms-2  Cyanobacteria  Cryptophytes  \\\n",
       "Diatoms-1            27.253244   1.017793      -0.054003     -0.090195   \n",
       "Diatoms-2             1.017793   0.375903      -0.003801     -0.007400   \n",
       "Cyanobacteria        -0.054003  -0.003801       0.001068     -0.000165   \n",
       "Cryptophytes         -0.090195  -0.007400      -0.000165      0.033249   \n",
       "Prasinophytes        -0.056810  -0.000883       0.000120      0.020320   \n",
       "Haptophytes          -0.595294  -0.052940       0.002049     -0.000702   \n",
       "Dictyochophytes      -0.009301   0.002094      -0.000087      0.000517   \n",
       "Dinoflagellates       0.101353   0.025765      -0.000554      0.009071   \n",
       "Raphidophytes        -0.012529  -0.005659       0.000121      0.010192   \n",
       "DD                   28.271038   1.393697      -0.057804     -0.097595   \n",
       "CCPH                 -0.796302  -0.065024       0.003072      0.052701   \n",
       "TchlA (ug/L)         27.553557   1.350779      -0.055256     -0.025124   \n",
       "mod_diatoms_chl       7.829763   0.336257      -0.037976     -0.235887   \n",
       "mod_flagellates_chl  -0.649576  -0.202425       0.018765      0.044722   \n",
       "mod_ciliates_chl      0.758015  -0.000499      -0.004537      0.010323   \n",
       "mod_TChl              7.938202   0.133334      -0.023748     -0.180842   \n",
       "\n",
       "                     Prasinophytes  Haptophytes  Dictyochophytes  \\\n",
       "Diatoms-1                -0.056810    -0.595294        -0.009301   \n",
       "Diatoms-2                -0.000883    -0.052940         0.002094   \n",
       "Cyanobacteria             0.000120     0.002049        -0.000087   \n",
       "Cryptophytes              0.020320    -0.000702         0.000517   \n",
       "Prasinophytes             0.017550    -0.001524         0.000441   \n",
       "Haptophytes              -0.001524     0.064185        -0.000259   \n",
       "Dictyochophytes           0.000441    -0.000259         0.000271   \n",
       "Dinoflagellates           0.002407    -0.007239         0.000369   \n",
       "Raphidophytes             0.005430     0.001180         0.000452   \n",
       "DD                       -0.057692    -0.648234        -0.007207   \n",
       "CCPH                      0.036466     0.064008         0.000613   \n",
       "TchlA (ug/L)             -0.012948    -0.590506        -0.005505   \n",
       "mod_diatoms_chl          -0.153675     0.069721        -0.004314   \n",
       "mod_flagellates_chl       0.043626    -0.021288        -0.003510   \n",
       "mod_ciliates_chl          0.000777    -0.019602         0.000543   \n",
       "mod_TChl                 -0.109272     0.028830        -0.007281   \n",
       "\n",
       "                     Dinoflagellates  Raphidophytes         DD      CCPH  \\\n",
       "Diatoms-1                   0.101353      -0.012529  28.271038 -0.796302   \n",
       "Diatoms-2                   0.025765      -0.005659   1.393697 -0.065024   \n",
       "Cyanobacteria              -0.000554       0.000121  -0.057804  0.003072   \n",
       "Cryptophytes                0.009071       0.010192  -0.097595  0.052701   \n",
       "Prasinophytes               0.002407       0.005430  -0.057692  0.036466   \n",
       "Haptophytes                -0.007239       0.001180  -0.648234  0.064008   \n",
       "Dictyochophytes             0.000369       0.000452  -0.007207  0.000613   \n",
       "Dinoflagellates             0.016930       0.003439   0.127118  0.003686   \n",
       "Raphidophytes               0.003439       0.006417  -0.018188  0.016923   \n",
       "DD                          0.127118      -0.018188  29.664734 -0.861326   \n",
       "CCPH                        0.003686       0.016923  -0.861326  0.156247   \n",
       "TchlA (ug/L)                0.151519       0.009039  28.904336 -0.683835   \n",
       "mod_diatoms_chl            -0.092742      -0.037691   8.166021 -0.357817   \n",
       "mod_flagellates_chl        -0.011174       0.010040  -0.852001  0.085826   \n",
       "mod_ciliates_chl            0.012871       0.005398   0.757516 -0.013040   \n",
       "mod_TChl                   -0.091044      -0.022253   8.071536 -0.285031   \n",
       "\n",
       "                     TchlA (ug/L)  mod_diatoms_chl  mod_flagellates_chl  \\\n",
       "Diatoms-1               27.553557         7.829763            -0.649576   \n",
       "Diatoms-2                1.350779         0.336257            -0.202425   \n",
       "Cyanobacteria           -0.055256        -0.037976             0.018765   \n",
       "Cryptophytes            -0.025124        -0.235887             0.044722   \n",
       "Prasinophytes           -0.012948        -0.153675             0.043626   \n",
       "Haptophytes             -0.590506         0.069721            -0.021288   \n",
       "Dictyochophytes         -0.005505        -0.004314            -0.003510   \n",
       "Dinoflagellates          0.151519        -0.092742            -0.011174   \n",
       "Raphidophytes            0.009039        -0.037691             0.010040   \n",
       "DD                      28.904336         8.166021            -0.852001   \n",
       "CCPH                    -0.683835        -0.357817             0.085826   \n",
       "TchlA (ug/L)            28.374752         7.673414            -0.770816   \n",
       "mod_diatoms_chl          7.673414         2.613634             0.064976   \n",
       "mod_flagellates_chl     -0.770816         0.064976             0.777297   \n",
       "mod_ciliates_chl         0.763266         0.222296             0.130141   \n",
       "mod_TChl                 7.665864         2.900906             0.972414   \n",
       "\n",
       "                     mod_ciliates_chl  mod_TChl  \n",
       "Diatoms-1                    0.758015  7.938202  \n",
       "Diatoms-2                   -0.000499  0.133334  \n",
       "Cyanobacteria               -0.004537 -0.023748  \n",
       "Cryptophytes                 0.010323 -0.180842  \n",
       "Prasinophytes                0.000777 -0.109272  \n",
       "Haptophytes                 -0.019602  0.028830  \n",
       "Dictyochophytes              0.000543 -0.007281  \n",
       "Dinoflagellates              0.012871 -0.091044  \n",
       "Raphidophytes                0.005398 -0.022253  \n",
       "DD                           0.757516  8.071536  \n",
       "CCPH                        -0.013040 -0.285031  \n",
       "TchlA (ug/L)                 0.763266  7.665864  \n",
       "mod_diatoms_chl              0.222296  2.900906  \n",
       "mod_flagellates_chl          0.130141  0.972414  \n",
       "mod_ciliates_chl             0.096097  0.448534  \n",
       "mod_TChl                     0.448534  4.321854  "
      ]
     },
     "execution_count": 35,
     "metadata": {},
     "output_type": "execute_result"
    }
   ],
   "source": [
    "dfVars.cov()"
   ]
  },
  {
   "cell_type": "markdown",
   "metadata": {
    "papermill": {
     "duration": 0.028755,
     "end_time": "2020-11-16T18:41:51.613969",
     "exception": false,
     "start_time": "2020-11-16T18:41:51.585214",
     "status": "completed"
    },
    "tags": []
   },
   "source": [
    "### Correlation Coefficient Matrix"
   ]
  },
  {
   "cell_type": "code",
   "execution_count": 36,
   "metadata": {
    "papermill": {
     "duration": 0.046248,
     "end_time": "2020-11-16T18:41:51.690051",
     "exception": false,
     "start_time": "2020-11-16T18:41:51.643803",
     "status": "completed"
    },
    "tags": []
   },
   "outputs": [
    {
     "data": {
      "text/html": [
       "<div>\n",
       "<style scoped>\n",
       "    .dataframe tbody tr th:only-of-type {\n",
       "        vertical-align: middle;\n",
       "    }\n",
       "\n",
       "    .dataframe tbody tr th {\n",
       "        vertical-align: top;\n",
       "    }\n",
       "\n",
       "    .dataframe thead th {\n",
       "        text-align: right;\n",
       "    }\n",
       "</style>\n",
       "<table border=\"1\" class=\"dataframe\">\n",
       "  <thead>\n",
       "    <tr style=\"text-align: right;\">\n",
       "      <th></th>\n",
       "      <th>Diatoms-1</th>\n",
       "      <th>Diatoms-2</th>\n",
       "      <th>Cyanobacteria</th>\n",
       "      <th>Cryptophytes</th>\n",
       "      <th>Prasinophytes</th>\n",
       "      <th>Haptophytes</th>\n",
       "      <th>Dictyochophytes</th>\n",
       "      <th>Dinoflagellates</th>\n",
       "      <th>Raphidophytes</th>\n",
       "      <th>DD</th>\n",
       "      <th>CCPH</th>\n",
       "      <th>TchlA (ug/L)</th>\n",
       "      <th>mod_diatoms_chl</th>\n",
       "      <th>mod_flagellates_chl</th>\n",
       "      <th>mod_ciliates_chl</th>\n",
       "      <th>mod_TChl</th>\n",
       "    </tr>\n",
       "  </thead>\n",
       "  <tbody>\n",
       "    <tr>\n",
       "      <th>Diatoms-1</th>\n",
       "      <td>1.000000</td>\n",
       "      <td>0.317989</td>\n",
       "      <td>-0.316480</td>\n",
       "      <td>-0.094751</td>\n",
       "      <td>-0.082145</td>\n",
       "      <td>-0.450098</td>\n",
       "      <td>-0.108225</td>\n",
       "      <td>0.149213</td>\n",
       "      <td>-0.029960</td>\n",
       "      <td>0.994288</td>\n",
       "      <td>-0.385889</td>\n",
       "      <td>0.990838</td>\n",
       "      <td>0.400933</td>\n",
       "      <td>-0.117178</td>\n",
       "      <td>0.519488</td>\n",
       "      <td>0.444234</td>\n",
       "    </tr>\n",
       "    <tr>\n",
       "      <th>Diatoms-2</th>\n",
       "      <td>0.317989</td>\n",
       "      <td>1.000000</td>\n",
       "      <td>-0.189676</td>\n",
       "      <td>-0.066193</td>\n",
       "      <td>-0.010867</td>\n",
       "      <td>-0.340824</td>\n",
       "      <td>0.207454</td>\n",
       "      <td>0.322972</td>\n",
       "      <td>-0.115224</td>\n",
       "      <td>0.417359</td>\n",
       "      <td>-0.268305</td>\n",
       "      <td>0.413600</td>\n",
       "      <td>0.146611</td>\n",
       "      <td>-0.310923</td>\n",
       "      <td>-0.002909</td>\n",
       "      <td>0.063533</td>\n",
       "    </tr>\n",
       "    <tr>\n",
       "      <th>Cyanobacteria</th>\n",
       "      <td>-0.316480</td>\n",
       "      <td>-0.189676</td>\n",
       "      <td>1.000000</td>\n",
       "      <td>-0.027711</td>\n",
       "      <td>0.027686</td>\n",
       "      <td>0.247459</td>\n",
       "      <td>-0.161128</td>\n",
       "      <td>-0.130171</td>\n",
       "      <td>0.046081</td>\n",
       "      <td>-0.324695</td>\n",
       "      <td>0.237790</td>\n",
       "      <td>-0.317360</td>\n",
       "      <td>-0.310580</td>\n",
       "      <td>0.540658</td>\n",
       "      <td>-0.496644</td>\n",
       "      <td>-0.212253</td>\n",
       "    </tr>\n",
       "    <tr>\n",
       "      <th>Cryptophytes</th>\n",
       "      <td>-0.094751</td>\n",
       "      <td>-0.066193</td>\n",
       "      <td>-0.027711</td>\n",
       "      <td>1.000000</td>\n",
       "      <td>0.841199</td>\n",
       "      <td>-0.015201</td>\n",
       "      <td>0.172372</td>\n",
       "      <td>0.382325</td>\n",
       "      <td>0.697735</td>\n",
       "      <td>-0.098270</td>\n",
       "      <td>0.731185</td>\n",
       "      <td>-0.025866</td>\n",
       "      <td>-0.345818</td>\n",
       "      <td>0.230974</td>\n",
       "      <td>0.202540</td>\n",
       "      <td>-0.289741</td>\n",
       "    </tr>\n",
       "    <tr>\n",
       "      <th>Prasinophytes</th>\n",
       "      <td>-0.082145</td>\n",
       "      <td>-0.010867</td>\n",
       "      <td>0.027686</td>\n",
       "      <td>0.841199</td>\n",
       "      <td>1.000000</td>\n",
       "      <td>-0.045399</td>\n",
       "      <td>0.202345</td>\n",
       "      <td>0.139653</td>\n",
       "      <td>0.511728</td>\n",
       "      <td>-0.079958</td>\n",
       "      <td>0.696377</td>\n",
       "      <td>-0.018349</td>\n",
       "      <td>-0.310100</td>\n",
       "      <td>0.310129</td>\n",
       "      <td>0.020982</td>\n",
       "      <td>-0.240976</td>\n",
       "    </tr>\n",
       "    <tr>\n",
       "      <th>Haptophytes</th>\n",
       "      <td>-0.450098</td>\n",
       "      <td>-0.340824</td>\n",
       "      <td>0.247459</td>\n",
       "      <td>-0.015201</td>\n",
       "      <td>-0.045399</td>\n",
       "      <td>1.000000</td>\n",
       "      <td>-0.062038</td>\n",
       "      <td>-0.219589</td>\n",
       "      <td>0.058141</td>\n",
       "      <td>-0.469782</td>\n",
       "      <td>0.639164</td>\n",
       "      <td>-0.437565</td>\n",
       "      <td>0.073567</td>\n",
       "      <td>-0.079133</td>\n",
       "      <td>-0.276819</td>\n",
       "      <td>0.033246</td>\n",
       "    </tr>\n",
       "    <tr>\n",
       "      <th>Dictyochophytes</th>\n",
       "      <td>-0.108225</td>\n",
       "      <td>0.207454</td>\n",
       "      <td>-0.161128</td>\n",
       "      <td>0.172372</td>\n",
       "      <td>0.202345</td>\n",
       "      <td>-0.062038</td>\n",
       "      <td>1.000000</td>\n",
       "      <td>0.172214</td>\n",
       "      <td>0.342729</td>\n",
       "      <td>-0.080380</td>\n",
       "      <td>0.094243</td>\n",
       "      <td>-0.062769</td>\n",
       "      <td>-0.070041</td>\n",
       "      <td>-0.200801</td>\n",
       "      <td>0.118061</td>\n",
       "      <td>-0.129198</td>\n",
       "    </tr>\n",
       "    <tr>\n",
       "      <th>Dinoflagellates</th>\n",
       "      <td>0.149213</td>\n",
       "      <td>0.322972</td>\n",
       "      <td>-0.130171</td>\n",
       "      <td>0.382325</td>\n",
       "      <td>0.139653</td>\n",
       "      <td>-0.219589</td>\n",
       "      <td>0.172214</td>\n",
       "      <td>1.000000</td>\n",
       "      <td>0.329988</td>\n",
       "      <td>0.179376</td>\n",
       "      <td>0.071665</td>\n",
       "      <td>0.218614</td>\n",
       "      <td>-0.190539</td>\n",
       "      <td>-0.080874</td>\n",
       "      <td>0.353918</td>\n",
       "      <td>-0.204423</td>\n",
       "    </tr>\n",
       "    <tr>\n",
       "      <th>Raphidophytes</th>\n",
       "      <td>-0.029960</td>\n",
       "      <td>-0.115224</td>\n",
       "      <td>0.046081</td>\n",
       "      <td>0.697735</td>\n",
       "      <td>0.511728</td>\n",
       "      <td>0.058141</td>\n",
       "      <td>0.342729</td>\n",
       "      <td>0.329988</td>\n",
       "      <td>1.000000</td>\n",
       "      <td>-0.041687</td>\n",
       "      <td>0.534440</td>\n",
       "      <td>0.021183</td>\n",
       "      <td>-0.125778</td>\n",
       "      <td>0.118030</td>\n",
       "      <td>0.241087</td>\n",
       "      <td>-0.081157</td>\n",
       "    </tr>\n",
       "    <tr>\n",
       "      <th>DD</th>\n",
       "      <td>0.994288</td>\n",
       "      <td>0.417359</td>\n",
       "      <td>-0.324695</td>\n",
       "      <td>-0.098270</td>\n",
       "      <td>-0.079958</td>\n",
       "      <td>-0.469782</td>\n",
       "      <td>-0.080380</td>\n",
       "      <td>0.179376</td>\n",
       "      <td>-0.041687</td>\n",
       "      <td>1.000000</td>\n",
       "      <td>-0.400075</td>\n",
       "      <td>0.996269</td>\n",
       "      <td>0.400795</td>\n",
       "      <td>-0.147315</td>\n",
       "      <td>0.497598</td>\n",
       "      <td>0.432947</td>\n",
       "    </tr>\n",
       "    <tr>\n",
       "      <th>CCPH</th>\n",
       "      <td>-0.385889</td>\n",
       "      <td>-0.268305</td>\n",
       "      <td>0.237790</td>\n",
       "      <td>0.731185</td>\n",
       "      <td>0.696377</td>\n",
       "      <td>0.639164</td>\n",
       "      <td>0.094243</td>\n",
       "      <td>0.071665</td>\n",
       "      <td>0.534440</td>\n",
       "      <td>-0.400075</td>\n",
       "      <td>1.000000</td>\n",
       "      <td>-0.324772</td>\n",
       "      <td>-0.241984</td>\n",
       "      <td>0.204474</td>\n",
       "      <td>-0.118026</td>\n",
       "      <td>-0.210661</td>\n",
       "    </tr>\n",
       "    <tr>\n",
       "      <th>TchlA (ug/L)</th>\n",
       "      <td>0.990838</td>\n",
       "      <td>0.413600</td>\n",
       "      <td>-0.317360</td>\n",
       "      <td>-0.025866</td>\n",
       "      <td>-0.018349</td>\n",
       "      <td>-0.437565</td>\n",
       "      <td>-0.062769</td>\n",
       "      <td>0.218614</td>\n",
       "      <td>0.021183</td>\n",
       "      <td>0.996269</td>\n",
       "      <td>-0.324772</td>\n",
       "      <td>1.000000</td>\n",
       "      <td>0.385083</td>\n",
       "      <td>-0.136274</td>\n",
       "      <td>0.512645</td>\n",
       "      <td>0.420431</td>\n",
       "    </tr>\n",
       "    <tr>\n",
       "      <th>mod_diatoms_chl</th>\n",
       "      <td>0.400933</td>\n",
       "      <td>0.146611</td>\n",
       "      <td>-0.310580</td>\n",
       "      <td>-0.345818</td>\n",
       "      <td>-0.310100</td>\n",
       "      <td>0.073567</td>\n",
       "      <td>-0.070041</td>\n",
       "      <td>-0.190539</td>\n",
       "      <td>-0.125778</td>\n",
       "      <td>0.400795</td>\n",
       "      <td>-0.241984</td>\n",
       "      <td>0.385083</td>\n",
       "      <td>1.000000</td>\n",
       "      <td>0.045587</td>\n",
       "      <td>0.443561</td>\n",
       "      <td>0.863130</td>\n",
       "    </tr>\n",
       "    <tr>\n",
       "      <th>mod_flagellates_chl</th>\n",
       "      <td>-0.117178</td>\n",
       "      <td>-0.310923</td>\n",
       "      <td>0.540658</td>\n",
       "      <td>0.230974</td>\n",
       "      <td>0.310129</td>\n",
       "      <td>-0.079133</td>\n",
       "      <td>-0.200801</td>\n",
       "      <td>-0.080874</td>\n",
       "      <td>0.118030</td>\n",
       "      <td>-0.147315</td>\n",
       "      <td>0.204474</td>\n",
       "      <td>-0.136274</td>\n",
       "      <td>0.045587</td>\n",
       "      <td>1.000000</td>\n",
       "      <td>0.476175</td>\n",
       "      <td>0.530546</td>\n",
       "    </tr>\n",
       "    <tr>\n",
       "      <th>mod_ciliates_chl</th>\n",
       "      <td>0.519488</td>\n",
       "      <td>-0.002909</td>\n",
       "      <td>-0.496644</td>\n",
       "      <td>0.202540</td>\n",
       "      <td>0.020982</td>\n",
       "      <td>-0.276819</td>\n",
       "      <td>0.118061</td>\n",
       "      <td>0.353918</td>\n",
       "      <td>0.241087</td>\n",
       "      <td>0.497598</td>\n",
       "      <td>-0.118026</td>\n",
       "      <td>0.512645</td>\n",
       "      <td>0.443561</td>\n",
       "      <td>0.476175</td>\n",
       "      <td>1.000000</td>\n",
       "      <td>0.695994</td>\n",
       "    </tr>\n",
       "    <tr>\n",
       "      <th>mod_TChl</th>\n",
       "      <td>0.444234</td>\n",
       "      <td>0.063533</td>\n",
       "      <td>-0.212253</td>\n",
       "      <td>-0.289741</td>\n",
       "      <td>-0.240976</td>\n",
       "      <td>0.033246</td>\n",
       "      <td>-0.129198</td>\n",
       "      <td>-0.204423</td>\n",
       "      <td>-0.081157</td>\n",
       "      <td>0.432947</td>\n",
       "      <td>-0.210661</td>\n",
       "      <td>0.420431</td>\n",
       "      <td>0.863130</td>\n",
       "      <td>0.530546</td>\n",
       "      <td>0.695994</td>\n",
       "      <td>1.000000</td>\n",
       "    </tr>\n",
       "  </tbody>\n",
       "</table>\n",
       "</div>"
      ],
      "text/plain": [
       "                     Diatoms-1  Diatoms-2  Cyanobacteria  Cryptophytes  \\\n",
       "Diatoms-1             1.000000   0.317989      -0.316480     -0.094751   \n",
       "Diatoms-2             0.317989   1.000000      -0.189676     -0.066193   \n",
       "Cyanobacteria        -0.316480  -0.189676       1.000000     -0.027711   \n",
       "Cryptophytes         -0.094751  -0.066193      -0.027711      1.000000   \n",
       "Prasinophytes        -0.082145  -0.010867       0.027686      0.841199   \n",
       "Haptophytes          -0.450098  -0.340824       0.247459     -0.015201   \n",
       "Dictyochophytes      -0.108225   0.207454      -0.161128      0.172372   \n",
       "Dinoflagellates       0.149213   0.322972      -0.130171      0.382325   \n",
       "Raphidophytes        -0.029960  -0.115224       0.046081      0.697735   \n",
       "DD                    0.994288   0.417359      -0.324695     -0.098270   \n",
       "CCPH                 -0.385889  -0.268305       0.237790      0.731185   \n",
       "TchlA (ug/L)          0.990838   0.413600      -0.317360     -0.025866   \n",
       "mod_diatoms_chl       0.400933   0.146611      -0.310580     -0.345818   \n",
       "mod_flagellates_chl  -0.117178  -0.310923       0.540658      0.230974   \n",
       "mod_ciliates_chl      0.519488  -0.002909      -0.496644      0.202540   \n",
       "mod_TChl              0.444234   0.063533      -0.212253     -0.289741   \n",
       "\n",
       "                     Prasinophytes  Haptophytes  Dictyochophytes  \\\n",
       "Diatoms-1                -0.082145    -0.450098        -0.108225   \n",
       "Diatoms-2                -0.010867    -0.340824         0.207454   \n",
       "Cyanobacteria             0.027686     0.247459        -0.161128   \n",
       "Cryptophytes              0.841199    -0.015201         0.172372   \n",
       "Prasinophytes             1.000000    -0.045399         0.202345   \n",
       "Haptophytes              -0.045399     1.000000        -0.062038   \n",
       "Dictyochophytes           0.202345    -0.062038         1.000000   \n",
       "Dinoflagellates           0.139653    -0.219589         0.172214   \n",
       "Raphidophytes             0.511728     0.058141         0.342729   \n",
       "DD                       -0.079958    -0.469782        -0.080380   \n",
       "CCPH                      0.696377     0.639164         0.094243   \n",
       "TchlA (ug/L)             -0.018349    -0.437565        -0.062769   \n",
       "mod_diatoms_chl          -0.310100     0.073567        -0.070041   \n",
       "mod_flagellates_chl       0.310129    -0.079133        -0.200801   \n",
       "mod_ciliates_chl          0.020982    -0.276819         0.118061   \n",
       "mod_TChl                 -0.240976     0.033246        -0.129198   \n",
       "\n",
       "                     Dinoflagellates  Raphidophytes        DD      CCPH  \\\n",
       "Diatoms-1                   0.149213      -0.029960  0.994288 -0.385889   \n",
       "Diatoms-2                   0.322972      -0.115224  0.417359 -0.268305   \n",
       "Cyanobacteria              -0.130171       0.046081 -0.324695  0.237790   \n",
       "Cryptophytes                0.382325       0.697735 -0.098270  0.731185   \n",
       "Prasinophytes               0.139653       0.511728 -0.079958  0.696377   \n",
       "Haptophytes                -0.219589       0.058141 -0.469782  0.639164   \n",
       "Dictyochophytes             0.172214       0.342729 -0.080380  0.094243   \n",
       "Dinoflagellates             1.000000       0.329988  0.179376  0.071665   \n",
       "Raphidophytes               0.329988       1.000000 -0.041687  0.534440   \n",
       "DD                          0.179376      -0.041687  1.000000 -0.400075   \n",
       "CCPH                        0.071665       0.534440 -0.400075  1.000000   \n",
       "TchlA (ug/L)                0.218614       0.021183  0.996269 -0.324772   \n",
       "mod_diatoms_chl            -0.190539      -0.125778  0.400795 -0.241984   \n",
       "mod_flagellates_chl        -0.080874       0.118030 -0.147315  0.204474   \n",
       "mod_ciliates_chl            0.353918       0.241087  0.497598 -0.118026   \n",
       "mod_TChl                   -0.204423      -0.081157  0.432947 -0.210661   \n",
       "\n",
       "                     TchlA (ug/L)  mod_diatoms_chl  mod_flagellates_chl  \\\n",
       "Diatoms-1                0.990838         0.400933            -0.117178   \n",
       "Diatoms-2                0.413600         0.146611            -0.310923   \n",
       "Cyanobacteria           -0.317360        -0.310580             0.540658   \n",
       "Cryptophytes            -0.025866        -0.345818             0.230974   \n",
       "Prasinophytes           -0.018349        -0.310100             0.310129   \n",
       "Haptophytes             -0.437565         0.073567            -0.079133   \n",
       "Dictyochophytes         -0.062769        -0.070041            -0.200801   \n",
       "Dinoflagellates          0.218614        -0.190539            -0.080874   \n",
       "Raphidophytes            0.021183        -0.125778             0.118030   \n",
       "DD                       0.996269         0.400795            -0.147315   \n",
       "CCPH                    -0.324772        -0.241984             0.204474   \n",
       "TchlA (ug/L)             1.000000         0.385083            -0.136274   \n",
       "mod_diatoms_chl          0.385083         1.000000             0.045587   \n",
       "mod_flagellates_chl     -0.136274         0.045587             1.000000   \n",
       "mod_ciliates_chl         0.512645         0.443561             0.476175   \n",
       "mod_TChl                 0.420431         0.863130             0.530546   \n",
       "\n",
       "                     mod_ciliates_chl  mod_TChl  \n",
       "Diatoms-1                    0.519488  0.444234  \n",
       "Diatoms-2                   -0.002909  0.063533  \n",
       "Cyanobacteria               -0.496644 -0.212253  \n",
       "Cryptophytes                 0.202540 -0.289741  \n",
       "Prasinophytes                0.020982 -0.240976  \n",
       "Haptophytes                 -0.276819  0.033246  \n",
       "Dictyochophytes              0.118061 -0.129198  \n",
       "Dinoflagellates              0.353918 -0.204423  \n",
       "Raphidophytes                0.241087 -0.081157  \n",
       "DD                           0.497598  0.432947  \n",
       "CCPH                        -0.118026 -0.210661  \n",
       "TchlA (ug/L)                 0.512645  0.420431  \n",
       "mod_diatoms_chl              0.443561  0.863130  \n",
       "mod_flagellates_chl          0.476175  0.530546  \n",
       "mod_ciliates_chl             1.000000  0.695994  \n",
       "mod_TChl                     0.695994  1.000000  "
      ]
     },
     "execution_count": 36,
     "metadata": {},
     "output_type": "execute_result"
    }
   ],
   "source": [
    "dfVars.corr()"
   ]
  },
  {
   "cell_type": "markdown",
   "metadata": {
    "papermill": {
     "duration": 0.029866,
     "end_time": "2020-11-16T18:41:51.750205",
     "exception": false,
     "start_time": "2020-11-16T18:41:51.720339",
     "status": "completed"
    },
    "tags": []
   },
   "source": [
    "### Cov matrix with log transformed values:"
   ]
  },
  {
   "cell_type": "code",
   "execution_count": 37,
   "metadata": {
    "papermill": {
     "duration": 0.055596,
     "end_time": "2020-11-16T18:41:51.835249",
     "exception": false,
     "start_time": "2020-11-16T18:41:51.779653",
     "status": "completed"
    },
    "tags": []
   },
   "outputs": [
    {
     "data": {
      "text/html": [
       "<div>\n",
       "<style scoped>\n",
       "    .dataframe tbody tr th:only-of-type {\n",
       "        vertical-align: middle;\n",
       "    }\n",
       "\n",
       "    .dataframe tbody tr th {\n",
       "        vertical-align: top;\n",
       "    }\n",
       "\n",
       "    .dataframe thead th {\n",
       "        text-align: right;\n",
       "    }\n",
       "</style>\n",
       "<table border=\"1\" class=\"dataframe\">\n",
       "  <thead>\n",
       "    <tr style=\"text-align: right;\">\n",
       "      <th></th>\n",
       "      <th>Diatoms-1</th>\n",
       "      <th>Diatoms-2</th>\n",
       "      <th>Cyanobacteria</th>\n",
       "      <th>Cryptophytes</th>\n",
       "      <th>Prasinophytes</th>\n",
       "      <th>Haptophytes</th>\n",
       "      <th>Dictyochophytes</th>\n",
       "      <th>Dinoflagellates</th>\n",
       "      <th>Raphidophytes</th>\n",
       "      <th>CCPH</th>\n",
       "      <th>TchlA (ug/L)</th>\n",
       "      <th>mod_diatoms_chl</th>\n",
       "      <th>mod_flagellates_chl</th>\n",
       "      <th>mod_ciliates_chl</th>\n",
       "      <th>mod_TChl</th>\n",
       "    </tr>\n",
       "  </thead>\n",
       "  <tbody>\n",
       "    <tr>\n",
       "      <th>Diatoms-1</th>\n",
       "      <td>1.976083</td>\n",
       "      <td>0.535597</td>\n",
       "      <td>-0.660378</td>\n",
       "      <td>-0.168929</td>\n",
       "      <td>0.026764</td>\n",
       "      <td>-0.812395</td>\n",
       "      <td>0.119630</td>\n",
       "      <td>0.614425</td>\n",
       "      <td>-0.010371</td>\n",
       "      <td>-0.281929</td>\n",
       "      <td>0.539512</td>\n",
       "      <td>0.717853</td>\n",
       "      <td>-0.148855</td>\n",
       "      <td>0.157444</td>\n",
       "      <td>0.108396</td>\n",
       "    </tr>\n",
       "    <tr>\n",
       "      <th>Diatoms-2</th>\n",
       "      <td>0.535597</td>\n",
       "      <td>1.519169</td>\n",
       "      <td>-0.198741</td>\n",
       "      <td>0.023919</td>\n",
       "      <td>-0.139647</td>\n",
       "      <td>-0.145591</td>\n",
       "      <td>0.077954</td>\n",
       "      <td>0.437530</td>\n",
       "      <td>-0.046834</td>\n",
       "      <td>-0.127809</td>\n",
       "      <td>0.200914</td>\n",
       "      <td>0.373632</td>\n",
       "      <td>-0.258709</td>\n",
       "      <td>0.004872</td>\n",
       "      <td>-0.022009</td>\n",
       "    </tr>\n",
       "    <tr>\n",
       "      <th>Cyanobacteria</th>\n",
       "      <td>-0.660378</td>\n",
       "      <td>-0.198741</td>\n",
       "      <td>0.521108</td>\n",
       "      <td>0.164164</td>\n",
       "      <td>0.258076</td>\n",
       "      <td>0.212388</td>\n",
       "      <td>-0.127833</td>\n",
       "      <td>-0.074596</td>\n",
       "      <td>0.155304</td>\n",
       "      <td>0.095186</td>\n",
       "      <td>-0.146920</td>\n",
       "      <td>-0.452075</td>\n",
       "      <td>0.184749</td>\n",
       "      <td>-0.069971</td>\n",
       "      <td>-0.064728</td>\n",
       "    </tr>\n",
       "    <tr>\n",
       "      <th>Cryptophytes</th>\n",
       "      <td>-0.168929</td>\n",
       "      <td>0.023919</td>\n",
       "      <td>0.164164</td>\n",
       "      <td>0.661769</td>\n",
       "      <td>0.392504</td>\n",
       "      <td>0.015855</td>\n",
       "      <td>0.007877</td>\n",
       "      <td>0.369475</td>\n",
       "      <td>0.185385</td>\n",
       "      <td>0.202037</td>\n",
       "      <td>-0.008188</td>\n",
       "      <td>-0.306478</td>\n",
       "      <td>0.120815</td>\n",
       "      <td>-0.008416</td>\n",
       "      <td>-0.089408</td>\n",
       "    </tr>\n",
       "    <tr>\n",
       "      <th>Prasinophytes</th>\n",
       "      <td>0.026764</td>\n",
       "      <td>-0.139647</td>\n",
       "      <td>0.258076</td>\n",
       "      <td>0.392504</td>\n",
       "      <td>0.824198</td>\n",
       "      <td>-0.098904</td>\n",
       "      <td>-0.091532</td>\n",
       "      <td>0.255784</td>\n",
       "      <td>0.229482</td>\n",
       "      <td>0.163989</td>\n",
       "      <td>0.104734</td>\n",
       "      <td>-0.386974</td>\n",
       "      <td>0.250364</td>\n",
       "      <td>-0.008323</td>\n",
       "      <td>-0.068721</td>\n",
       "    </tr>\n",
       "    <tr>\n",
       "      <th>Haptophytes</th>\n",
       "      <td>-0.812395</td>\n",
       "      <td>-0.145591</td>\n",
       "      <td>0.212388</td>\n",
       "      <td>0.015855</td>\n",
       "      <td>-0.098904</td>\n",
       "      <td>1.092189</td>\n",
       "      <td>0.097924</td>\n",
       "      <td>-0.163706</td>\n",
       "      <td>0.033368</td>\n",
       "      <td>0.253804</td>\n",
       "      <td>-0.254894</td>\n",
       "      <td>-0.076754</td>\n",
       "      <td>-0.049419</td>\n",
       "      <td>-0.044352</td>\n",
       "      <td>0.013942</td>\n",
       "    </tr>\n",
       "    <tr>\n",
       "      <th>Dictyochophytes</th>\n",
       "      <td>0.119630</td>\n",
       "      <td>0.077954</td>\n",
       "      <td>-0.127833</td>\n",
       "      <td>0.007877</td>\n",
       "      <td>-0.091532</td>\n",
       "      <td>0.097924</td>\n",
       "      <td>0.427019</td>\n",
       "      <td>0.171508</td>\n",
       "      <td>0.056185</td>\n",
       "      <td>0.020216</td>\n",
       "      <td>0.000988</td>\n",
       "      <td>0.149039</td>\n",
       "      <td>-0.099587</td>\n",
       "      <td>0.013270</td>\n",
       "      <td>-0.009610</td>\n",
       "    </tr>\n",
       "    <tr>\n",
       "      <th>Dinoflagellates</th>\n",
       "      <td>0.614425</td>\n",
       "      <td>0.437530</td>\n",
       "      <td>-0.074596</td>\n",
       "      <td>0.369475</td>\n",
       "      <td>0.255784</td>\n",
       "      <td>-0.163706</td>\n",
       "      <td>0.171508</td>\n",
       "      <td>1.016234</td>\n",
       "      <td>0.212540</td>\n",
       "      <td>0.051399</td>\n",
       "      <td>0.228567</td>\n",
       "      <td>0.055450</td>\n",
       "      <td>-0.022470</td>\n",
       "      <td>0.065792</td>\n",
       "      <td>-0.070045</td>\n",
       "    </tr>\n",
       "    <tr>\n",
       "      <th>Raphidophytes</th>\n",
       "      <td>-0.010371</td>\n",
       "      <td>-0.046834</td>\n",
       "      <td>0.155304</td>\n",
       "      <td>0.185385</td>\n",
       "      <td>0.229482</td>\n",
       "      <td>0.033368</td>\n",
       "      <td>0.056185</td>\n",
       "      <td>0.212540</td>\n",
       "      <td>0.738868</td>\n",
       "      <td>0.051764</td>\n",
       "      <td>0.041536</td>\n",
       "      <td>-0.173360</td>\n",
       "      <td>0.118092</td>\n",
       "      <td>-0.001728</td>\n",
       "      <td>-0.044851</td>\n",
       "    </tr>\n",
       "    <tr>\n",
       "      <th>CCPH</th>\n",
       "      <td>-0.281929</td>\n",
       "      <td>-0.127809</td>\n",
       "      <td>0.095186</td>\n",
       "      <td>0.202037</td>\n",
       "      <td>0.163989</td>\n",
       "      <td>0.253804</td>\n",
       "      <td>0.020216</td>\n",
       "      <td>0.051399</td>\n",
       "      <td>0.051764</td>\n",
       "      <td>0.178400</td>\n",
       "      <td>-0.064155</td>\n",
       "      <td>-0.138162</td>\n",
       "      <td>0.055391</td>\n",
       "      <td>-0.006072</td>\n",
       "      <td>-0.023081</td>\n",
       "    </tr>\n",
       "    <tr>\n",
       "      <th>TchlA (ug/L)</th>\n",
       "      <td>0.539512</td>\n",
       "      <td>0.200914</td>\n",
       "      <td>-0.146920</td>\n",
       "      <td>-0.008188</td>\n",
       "      <td>0.104734</td>\n",
       "      <td>-0.254894</td>\n",
       "      <td>0.000988</td>\n",
       "      <td>0.228567</td>\n",
       "      <td>0.041536</td>\n",
       "      <td>-0.064155</td>\n",
       "      <td>0.238552</td>\n",
       "      <td>0.174751</td>\n",
       "      <td>-0.019399</td>\n",
       "      <td>0.045729</td>\n",
       "      <td>0.030395</td>\n",
       "    </tr>\n",
       "    <tr>\n",
       "      <th>mod_diatoms_chl</th>\n",
       "      <td>0.717853</td>\n",
       "      <td>0.373632</td>\n",
       "      <td>-0.452075</td>\n",
       "      <td>-0.306478</td>\n",
       "      <td>-0.386974</td>\n",
       "      <td>-0.076754</td>\n",
       "      <td>0.149039</td>\n",
       "      <td>0.055450</td>\n",
       "      <td>-0.173360</td>\n",
       "      <td>-0.138162</td>\n",
       "      <td>0.174751</td>\n",
       "      <td>1.356954</td>\n",
       "      <td>0.677039</td>\n",
       "      <td>0.727364</td>\n",
       "      <td>0.909765</td>\n",
       "    </tr>\n",
       "    <tr>\n",
       "      <th>mod_flagellates_chl</th>\n",
       "      <td>-0.148855</td>\n",
       "      <td>-0.258709</td>\n",
       "      <td>0.184749</td>\n",
       "      <td>0.120815</td>\n",
       "      <td>0.250364</td>\n",
       "      <td>-0.049419</td>\n",
       "      <td>-0.099587</td>\n",
       "      <td>-0.022470</td>\n",
       "      <td>0.118092</td>\n",
       "      <td>0.055391</td>\n",
       "      <td>-0.019399</td>\n",
       "      <td>0.677039</td>\n",
       "      <td>0.665416</td>\n",
       "      <td>0.596006</td>\n",
       "      <td>0.713559</td>\n",
       "    </tr>\n",
       "    <tr>\n",
       "      <th>mod_ciliates_chl</th>\n",
       "      <td>0.157444</td>\n",
       "      <td>0.004872</td>\n",
       "      <td>-0.069971</td>\n",
       "      <td>-0.008416</td>\n",
       "      <td>-0.008323</td>\n",
       "      <td>-0.044352</td>\n",
       "      <td>0.013270</td>\n",
       "      <td>0.065792</td>\n",
       "      <td>-0.001728</td>\n",
       "      <td>-0.006072</td>\n",
       "      <td>0.045729</td>\n",
       "      <td>0.727364</td>\n",
       "      <td>0.596006</td>\n",
       "      <td>0.647701</td>\n",
       "      <td>0.724938</td>\n",
       "    </tr>\n",
       "    <tr>\n",
       "      <th>mod_TChl</th>\n",
       "      <td>0.108396</td>\n",
       "      <td>-0.022009</td>\n",
       "      <td>-0.064728</td>\n",
       "      <td>-0.089408</td>\n",
       "      <td>-0.068721</td>\n",
       "      <td>0.013942</td>\n",
       "      <td>-0.009610</td>\n",
       "      <td>-0.070045</td>\n",
       "      <td>-0.044851</td>\n",
       "      <td>-0.023081</td>\n",
       "      <td>0.030395</td>\n",
       "      <td>0.909765</td>\n",
       "      <td>0.713559</td>\n",
       "      <td>0.724938</td>\n",
       "      <td>0.862120</td>\n",
       "    </tr>\n",
       "  </tbody>\n",
       "</table>\n",
       "</div>"
      ],
      "text/plain": [
       "                     Diatoms-1  Diatoms-2  Cyanobacteria  Cryptophytes  \\\n",
       "Diatoms-1             1.976083   0.535597      -0.660378     -0.168929   \n",
       "Diatoms-2             0.535597   1.519169      -0.198741      0.023919   \n",
       "Cyanobacteria        -0.660378  -0.198741       0.521108      0.164164   \n",
       "Cryptophytes         -0.168929   0.023919       0.164164      0.661769   \n",
       "Prasinophytes         0.026764  -0.139647       0.258076      0.392504   \n",
       "Haptophytes          -0.812395  -0.145591       0.212388      0.015855   \n",
       "Dictyochophytes       0.119630   0.077954      -0.127833      0.007877   \n",
       "Dinoflagellates       0.614425   0.437530      -0.074596      0.369475   \n",
       "Raphidophytes        -0.010371  -0.046834       0.155304      0.185385   \n",
       "CCPH                 -0.281929  -0.127809       0.095186      0.202037   \n",
       "TchlA (ug/L)          0.539512   0.200914      -0.146920     -0.008188   \n",
       "mod_diatoms_chl       0.717853   0.373632      -0.452075     -0.306478   \n",
       "mod_flagellates_chl  -0.148855  -0.258709       0.184749      0.120815   \n",
       "mod_ciliates_chl      0.157444   0.004872      -0.069971     -0.008416   \n",
       "mod_TChl              0.108396  -0.022009      -0.064728     -0.089408   \n",
       "\n",
       "                     Prasinophytes  Haptophytes  Dictyochophytes  \\\n",
       "Diatoms-1                 0.026764    -0.812395         0.119630   \n",
       "Diatoms-2                -0.139647    -0.145591         0.077954   \n",
       "Cyanobacteria             0.258076     0.212388        -0.127833   \n",
       "Cryptophytes              0.392504     0.015855         0.007877   \n",
       "Prasinophytes             0.824198    -0.098904        -0.091532   \n",
       "Haptophytes              -0.098904     1.092189         0.097924   \n",
       "Dictyochophytes          -0.091532     0.097924         0.427019   \n",
       "Dinoflagellates           0.255784    -0.163706         0.171508   \n",
       "Raphidophytes             0.229482     0.033368         0.056185   \n",
       "CCPH                      0.163989     0.253804         0.020216   \n",
       "TchlA (ug/L)              0.104734    -0.254894         0.000988   \n",
       "mod_diatoms_chl          -0.386974    -0.076754         0.149039   \n",
       "mod_flagellates_chl       0.250364    -0.049419        -0.099587   \n",
       "mod_ciliates_chl         -0.008323    -0.044352         0.013270   \n",
       "mod_TChl                 -0.068721     0.013942        -0.009610   \n",
       "\n",
       "                     Dinoflagellates  Raphidophytes      CCPH  TchlA (ug/L)  \\\n",
       "Diatoms-1                   0.614425      -0.010371 -0.281929      0.539512   \n",
       "Diatoms-2                   0.437530      -0.046834 -0.127809      0.200914   \n",
       "Cyanobacteria              -0.074596       0.155304  0.095186     -0.146920   \n",
       "Cryptophytes                0.369475       0.185385  0.202037     -0.008188   \n",
       "Prasinophytes               0.255784       0.229482  0.163989      0.104734   \n",
       "Haptophytes                -0.163706       0.033368  0.253804     -0.254894   \n",
       "Dictyochophytes             0.171508       0.056185  0.020216      0.000988   \n",
       "Dinoflagellates             1.016234       0.212540  0.051399      0.228567   \n",
       "Raphidophytes               0.212540       0.738868  0.051764      0.041536   \n",
       "CCPH                        0.051399       0.051764  0.178400     -0.064155   \n",
       "TchlA (ug/L)                0.228567       0.041536 -0.064155      0.238552   \n",
       "mod_diatoms_chl             0.055450      -0.173360 -0.138162      0.174751   \n",
       "mod_flagellates_chl        -0.022470       0.118092  0.055391     -0.019399   \n",
       "mod_ciliates_chl            0.065792      -0.001728 -0.006072      0.045729   \n",
       "mod_TChl                   -0.070045      -0.044851 -0.023081      0.030395   \n",
       "\n",
       "                     mod_diatoms_chl  mod_flagellates_chl  mod_ciliates_chl  \\\n",
       "Diatoms-1                   0.717853            -0.148855          0.157444   \n",
       "Diatoms-2                   0.373632            -0.258709          0.004872   \n",
       "Cyanobacteria              -0.452075             0.184749         -0.069971   \n",
       "Cryptophytes               -0.306478             0.120815         -0.008416   \n",
       "Prasinophytes              -0.386974             0.250364         -0.008323   \n",
       "Haptophytes                -0.076754            -0.049419         -0.044352   \n",
       "Dictyochophytes             0.149039            -0.099587          0.013270   \n",
       "Dinoflagellates             0.055450            -0.022470          0.065792   \n",
       "Raphidophytes              -0.173360             0.118092         -0.001728   \n",
       "CCPH                       -0.138162             0.055391         -0.006072   \n",
       "TchlA (ug/L)                0.174751            -0.019399          0.045729   \n",
       "mod_diatoms_chl             1.356954             0.677039          0.727364   \n",
       "mod_flagellates_chl         0.677039             0.665416          0.596006   \n",
       "mod_ciliates_chl            0.727364             0.596006          0.647701   \n",
       "mod_TChl                    0.909765             0.713559          0.724938   \n",
       "\n",
       "                     mod_TChl  \n",
       "Diatoms-1            0.108396  \n",
       "Diatoms-2           -0.022009  \n",
       "Cyanobacteria       -0.064728  \n",
       "Cryptophytes        -0.089408  \n",
       "Prasinophytes       -0.068721  \n",
       "Haptophytes          0.013942  \n",
       "Dictyochophytes     -0.009610  \n",
       "Dinoflagellates     -0.070045  \n",
       "Raphidophytes       -0.044851  \n",
       "CCPH                -0.023081  \n",
       "TchlA (ug/L)         0.030395  \n",
       "mod_diatoms_chl      0.909765  \n",
       "mod_flagellates_chl  0.713559  \n",
       "mod_ciliates_chl     0.724938  \n",
       "mod_TChl             0.862120  "
      ]
     },
     "execution_count": 37,
     "metadata": {},
     "output_type": "execute_result"
    }
   ],
   "source": [
    "dflog=pd.DataFrame()\n",
    "for el in ['Diatoms-1', 'Diatoms-2','Cyanobacteria','Cryptophytes', 'Prasinophytes', \n",
    "       'Haptophytes',  'Dictyochophytes','Dinoflagellates','Raphidophytes','CCPH','TchlA (ug/L)',\n",
    "                   'mod_diatoms_chl','mod_flagellates_chl','mod_ciliates_chl','mod_TChl']:\n",
    "    dflog[el]=logt(data[el])\n",
    "dflog.cov()"
   ]
  },
  {
   "cell_type": "markdown",
   "metadata": {
    "papermill": {
     "duration": 0.030511,
     "end_time": "2020-11-16T18:41:51.896758",
     "exception": false,
     "start_time": "2020-11-16T18:41:51.866247",
     "status": "completed"
    },
    "tags": []
   },
   "source": [
    "### Corr Coeff matrix with log transformed values:"
   ]
  },
  {
   "cell_type": "code",
   "execution_count": 38,
   "metadata": {
    "papermill": {
     "duration": 0.056702,
     "end_time": "2020-11-16T18:41:51.984530",
     "exception": false,
     "start_time": "2020-11-16T18:41:51.927828",
     "status": "completed"
    },
    "tags": []
   },
   "outputs": [
    {
     "data": {
      "text/html": [
       "<div>\n",
       "<style scoped>\n",
       "    .dataframe tbody tr th:only-of-type {\n",
       "        vertical-align: middle;\n",
       "    }\n",
       "\n",
       "    .dataframe tbody tr th {\n",
       "        vertical-align: top;\n",
       "    }\n",
       "\n",
       "    .dataframe thead th {\n",
       "        text-align: right;\n",
       "    }\n",
       "</style>\n",
       "<table border=\"1\" class=\"dataframe\">\n",
       "  <thead>\n",
       "    <tr style=\"text-align: right;\">\n",
       "      <th></th>\n",
       "      <th>Diatoms-1</th>\n",
       "      <th>Diatoms-2</th>\n",
       "      <th>Cyanobacteria</th>\n",
       "      <th>Cryptophytes</th>\n",
       "      <th>Prasinophytes</th>\n",
       "      <th>Haptophytes</th>\n",
       "      <th>Dictyochophytes</th>\n",
       "      <th>Dinoflagellates</th>\n",
       "      <th>Raphidophytes</th>\n",
       "      <th>CCPH</th>\n",
       "      <th>TchlA (ug/L)</th>\n",
       "      <th>mod_diatoms_chl</th>\n",
       "      <th>mod_flagellates_chl</th>\n",
       "      <th>mod_ciliates_chl</th>\n",
       "      <th>mod_TChl</th>\n",
       "    </tr>\n",
       "  </thead>\n",
       "  <tbody>\n",
       "    <tr>\n",
       "      <th>Diatoms-1</th>\n",
       "      <td>1.000000</td>\n",
       "      <td>0.309124</td>\n",
       "      <td>-0.650768</td>\n",
       "      <td>-0.147723</td>\n",
       "      <td>0.020972</td>\n",
       "      <td>-0.552988</td>\n",
       "      <td>0.130231</td>\n",
       "      <td>0.433580</td>\n",
       "      <td>-0.008583</td>\n",
       "      <td>-0.474831</td>\n",
       "      <td>0.785792</td>\n",
       "      <td>0.598524</td>\n",
       "      <td>-0.235928</td>\n",
       "      <td>0.594838</td>\n",
       "      <td>0.283614</td>\n",
       "    </tr>\n",
       "    <tr>\n",
       "      <th>Diatoms-2</th>\n",
       "      <td>0.309124</td>\n",
       "      <td>1.000000</td>\n",
       "      <td>-0.223368</td>\n",
       "      <td>0.023855</td>\n",
       "      <td>-0.124800</td>\n",
       "      <td>-0.113027</td>\n",
       "      <td>0.096786</td>\n",
       "      <td>0.352134</td>\n",
       "      <td>-0.044205</td>\n",
       "      <td>-0.245506</td>\n",
       "      <td>0.333745</td>\n",
       "      <td>0.355295</td>\n",
       "      <td>-0.467658</td>\n",
       "      <td>0.020995</td>\n",
       "      <td>-0.065677</td>\n",
       "    </tr>\n",
       "    <tr>\n",
       "      <th>Cyanobacteria</th>\n",
       "      <td>-0.650768</td>\n",
       "      <td>-0.223368</td>\n",
       "      <td>1.000000</td>\n",
       "      <td>0.279552</td>\n",
       "      <td>0.393793</td>\n",
       "      <td>0.281525</td>\n",
       "      <td>-0.270992</td>\n",
       "      <td>-0.102507</td>\n",
       "      <td>0.250285</td>\n",
       "      <td>0.312186</td>\n",
       "      <td>-0.416701</td>\n",
       "      <td>-0.733998</td>\n",
       "      <td>0.570215</td>\n",
       "      <td>-0.514787</td>\n",
       "      <td>-0.329794</td>\n",
       "    </tr>\n",
       "    <tr>\n",
       "      <th>Cryptophytes</th>\n",
       "      <td>-0.147723</td>\n",
       "      <td>0.023855</td>\n",
       "      <td>0.279552</td>\n",
       "      <td>1.000000</td>\n",
       "      <td>0.531465</td>\n",
       "      <td>0.018650</td>\n",
       "      <td>0.014817</td>\n",
       "      <td>0.450541</td>\n",
       "      <td>0.265117</td>\n",
       "      <td>0.588004</td>\n",
       "      <td>-0.020608</td>\n",
       "      <td>-0.441565</td>\n",
       "      <td>0.330893</td>\n",
       "      <td>-0.054945</td>\n",
       "      <td>-0.404241</td>\n",
       "    </tr>\n",
       "    <tr>\n",
       "      <th>Prasinophytes</th>\n",
       "      <td>0.020972</td>\n",
       "      <td>-0.124800</td>\n",
       "      <td>0.393793</td>\n",
       "      <td>0.531465</td>\n",
       "      <td>1.000000</td>\n",
       "      <td>-0.104243</td>\n",
       "      <td>-0.154289</td>\n",
       "      <td>0.279486</td>\n",
       "      <td>0.294069</td>\n",
       "      <td>0.427664</td>\n",
       "      <td>0.236199</td>\n",
       "      <td>-0.499591</td>\n",
       "      <td>0.614435</td>\n",
       "      <td>-0.048692</td>\n",
       "      <td>-0.278414</td>\n",
       "    </tr>\n",
       "    <tr>\n",
       "      <th>Haptophytes</th>\n",
       "      <td>-0.552988</td>\n",
       "      <td>-0.113027</td>\n",
       "      <td>0.281525</td>\n",
       "      <td>0.018650</td>\n",
       "      <td>-0.104243</td>\n",
       "      <td>1.000000</td>\n",
       "      <td>0.143389</td>\n",
       "      <td>-0.155388</td>\n",
       "      <td>0.037145</td>\n",
       "      <td>0.574978</td>\n",
       "      <td>-0.499367</td>\n",
       "      <td>-0.086080</td>\n",
       "      <td>-0.105357</td>\n",
       "      <td>-0.225390</td>\n",
       "      <td>0.049067</td>\n",
       "    </tr>\n",
       "    <tr>\n",
       "      <th>Dictyochophytes</th>\n",
       "      <td>0.130231</td>\n",
       "      <td>0.096786</td>\n",
       "      <td>-0.270992</td>\n",
       "      <td>0.014817</td>\n",
       "      <td>-0.154289</td>\n",
       "      <td>0.143389</td>\n",
       "      <td>1.000000</td>\n",
       "      <td>0.260355</td>\n",
       "      <td>0.100026</td>\n",
       "      <td>0.073245</td>\n",
       "      <td>0.003095</td>\n",
       "      <td>0.267316</td>\n",
       "      <td>-0.339547</td>\n",
       "      <td>0.107849</td>\n",
       "      <td>-0.054088</td>\n",
       "    </tr>\n",
       "    <tr>\n",
       "      <th>Dinoflagellates</th>\n",
       "      <td>0.433580</td>\n",
       "      <td>0.352134</td>\n",
       "      <td>-0.102507</td>\n",
       "      <td>0.450541</td>\n",
       "      <td>0.279486</td>\n",
       "      <td>-0.155388</td>\n",
       "      <td>0.260355</td>\n",
       "      <td>1.000000</td>\n",
       "      <td>0.245280</td>\n",
       "      <td>0.120715</td>\n",
       "      <td>0.464223</td>\n",
       "      <td>0.064469</td>\n",
       "      <td>-0.049662</td>\n",
       "      <td>0.346618</td>\n",
       "      <td>-0.255564</td>\n",
       "    </tr>\n",
       "    <tr>\n",
       "      <th>Raphidophytes</th>\n",
       "      <td>-0.008583</td>\n",
       "      <td>-0.044205</td>\n",
       "      <td>0.250285</td>\n",
       "      <td>0.265117</td>\n",
       "      <td>0.294069</td>\n",
       "      <td>0.037145</td>\n",
       "      <td>0.100026</td>\n",
       "      <td>0.245280</td>\n",
       "      <td>1.000000</td>\n",
       "      <td>0.142576</td>\n",
       "      <td>0.098934</td>\n",
       "      <td>-0.236381</td>\n",
       "      <td>0.306094</td>\n",
       "      <td>-0.010675</td>\n",
       "      <td>-0.191914</td>\n",
       "    </tr>\n",
       "    <tr>\n",
       "      <th>CCPH</th>\n",
       "      <td>-0.474831</td>\n",
       "      <td>-0.245506</td>\n",
       "      <td>0.312186</td>\n",
       "      <td>0.588004</td>\n",
       "      <td>0.427664</td>\n",
       "      <td>0.574978</td>\n",
       "      <td>0.073245</td>\n",
       "      <td>0.120715</td>\n",
       "      <td>0.142576</td>\n",
       "      <td>1.000000</td>\n",
       "      <td>-0.310989</td>\n",
       "      <td>-0.383390</td>\n",
       "      <td>0.292186</td>\n",
       "      <td>-0.076349</td>\n",
       "      <td>-0.200992</td>\n",
       "    </tr>\n",
       "    <tr>\n",
       "      <th>TchlA (ug/L)</th>\n",
       "      <td>0.785792</td>\n",
       "      <td>0.333745</td>\n",
       "      <td>-0.416701</td>\n",
       "      <td>-0.020608</td>\n",
       "      <td>0.236199</td>\n",
       "      <td>-0.499367</td>\n",
       "      <td>0.003095</td>\n",
       "      <td>0.464223</td>\n",
       "      <td>0.098934</td>\n",
       "      <td>-0.310989</td>\n",
       "      <td>1.000000</td>\n",
       "      <td>0.419350</td>\n",
       "      <td>-0.088494</td>\n",
       "      <td>0.497246</td>\n",
       "      <td>0.228892</td>\n",
       "    </tr>\n",
       "    <tr>\n",
       "      <th>mod_diatoms_chl</th>\n",
       "      <td>0.598524</td>\n",
       "      <td>0.355295</td>\n",
       "      <td>-0.733998</td>\n",
       "      <td>-0.441565</td>\n",
       "      <td>-0.499591</td>\n",
       "      <td>-0.086080</td>\n",
       "      <td>0.267316</td>\n",
       "      <td>0.064469</td>\n",
       "      <td>-0.236381</td>\n",
       "      <td>-0.383390</td>\n",
       "      <td>0.419350</td>\n",
       "      <td>1.000000</td>\n",
       "      <td>0.712500</td>\n",
       "      <td>0.775858</td>\n",
       "      <td>0.841130</td>\n",
       "    </tr>\n",
       "    <tr>\n",
       "      <th>mod_flagellates_chl</th>\n",
       "      <td>-0.235928</td>\n",
       "      <td>-0.467658</td>\n",
       "      <td>0.570215</td>\n",
       "      <td>0.330893</td>\n",
       "      <td>0.614435</td>\n",
       "      <td>-0.105357</td>\n",
       "      <td>-0.339547</td>\n",
       "      <td>-0.049662</td>\n",
       "      <td>0.306094</td>\n",
       "      <td>0.292186</td>\n",
       "      <td>-0.088494</td>\n",
       "      <td>0.712500</td>\n",
       "      <td>1.000000</td>\n",
       "      <td>0.907856</td>\n",
       "      <td>0.942105</td>\n",
       "    </tr>\n",
       "    <tr>\n",
       "      <th>mod_ciliates_chl</th>\n",
       "      <td>0.594838</td>\n",
       "      <td>0.020995</td>\n",
       "      <td>-0.514787</td>\n",
       "      <td>-0.054945</td>\n",
       "      <td>-0.048692</td>\n",
       "      <td>-0.225390</td>\n",
       "      <td>0.107849</td>\n",
       "      <td>0.346618</td>\n",
       "      <td>-0.010675</td>\n",
       "      <td>-0.076349</td>\n",
       "      <td>0.497246</td>\n",
       "      <td>0.775858</td>\n",
       "      <td>0.907856</td>\n",
       "      <td>1.000000</td>\n",
       "      <td>0.970130</td>\n",
       "    </tr>\n",
       "    <tr>\n",
       "      <th>mod_TChl</th>\n",
       "      <td>0.283614</td>\n",
       "      <td>-0.065677</td>\n",
       "      <td>-0.329794</td>\n",
       "      <td>-0.404241</td>\n",
       "      <td>-0.278414</td>\n",
       "      <td>0.049067</td>\n",
       "      <td>-0.054088</td>\n",
       "      <td>-0.255564</td>\n",
       "      <td>-0.191914</td>\n",
       "      <td>-0.200992</td>\n",
       "      <td>0.228892</td>\n",
       "      <td>0.841130</td>\n",
       "      <td>0.942105</td>\n",
       "      <td>0.970130</td>\n",
       "      <td>1.000000</td>\n",
       "    </tr>\n",
       "  </tbody>\n",
       "</table>\n",
       "</div>"
      ],
      "text/plain": [
       "                     Diatoms-1  Diatoms-2  Cyanobacteria  Cryptophytes  \\\n",
       "Diatoms-1             1.000000   0.309124      -0.650768     -0.147723   \n",
       "Diatoms-2             0.309124   1.000000      -0.223368      0.023855   \n",
       "Cyanobacteria        -0.650768  -0.223368       1.000000      0.279552   \n",
       "Cryptophytes         -0.147723   0.023855       0.279552      1.000000   \n",
       "Prasinophytes         0.020972  -0.124800       0.393793      0.531465   \n",
       "Haptophytes          -0.552988  -0.113027       0.281525      0.018650   \n",
       "Dictyochophytes       0.130231   0.096786      -0.270992      0.014817   \n",
       "Dinoflagellates       0.433580   0.352134      -0.102507      0.450541   \n",
       "Raphidophytes        -0.008583  -0.044205       0.250285      0.265117   \n",
       "CCPH                 -0.474831  -0.245506       0.312186      0.588004   \n",
       "TchlA (ug/L)          0.785792   0.333745      -0.416701     -0.020608   \n",
       "mod_diatoms_chl       0.598524   0.355295      -0.733998     -0.441565   \n",
       "mod_flagellates_chl  -0.235928  -0.467658       0.570215      0.330893   \n",
       "mod_ciliates_chl      0.594838   0.020995      -0.514787     -0.054945   \n",
       "mod_TChl              0.283614  -0.065677      -0.329794     -0.404241   \n",
       "\n",
       "                     Prasinophytes  Haptophytes  Dictyochophytes  \\\n",
       "Diatoms-1                 0.020972    -0.552988         0.130231   \n",
       "Diatoms-2                -0.124800    -0.113027         0.096786   \n",
       "Cyanobacteria             0.393793     0.281525        -0.270992   \n",
       "Cryptophytes              0.531465     0.018650         0.014817   \n",
       "Prasinophytes             1.000000    -0.104243        -0.154289   \n",
       "Haptophytes              -0.104243     1.000000         0.143389   \n",
       "Dictyochophytes          -0.154289     0.143389         1.000000   \n",
       "Dinoflagellates           0.279486    -0.155388         0.260355   \n",
       "Raphidophytes             0.294069     0.037145         0.100026   \n",
       "CCPH                      0.427664     0.574978         0.073245   \n",
       "TchlA (ug/L)              0.236199    -0.499367         0.003095   \n",
       "mod_diatoms_chl          -0.499591    -0.086080         0.267316   \n",
       "mod_flagellates_chl       0.614435    -0.105357        -0.339547   \n",
       "mod_ciliates_chl         -0.048692    -0.225390         0.107849   \n",
       "mod_TChl                 -0.278414     0.049067        -0.054088   \n",
       "\n",
       "                     Dinoflagellates  Raphidophytes      CCPH  TchlA (ug/L)  \\\n",
       "Diatoms-1                   0.433580      -0.008583 -0.474831      0.785792   \n",
       "Diatoms-2                   0.352134      -0.044205 -0.245506      0.333745   \n",
       "Cyanobacteria              -0.102507       0.250285  0.312186     -0.416701   \n",
       "Cryptophytes                0.450541       0.265117  0.588004     -0.020608   \n",
       "Prasinophytes               0.279486       0.294069  0.427664      0.236199   \n",
       "Haptophytes                -0.155388       0.037145  0.574978     -0.499367   \n",
       "Dictyochophytes             0.260355       0.100026  0.073245      0.003095   \n",
       "Dinoflagellates             1.000000       0.245280  0.120715      0.464223   \n",
       "Raphidophytes               0.245280       1.000000  0.142576      0.098934   \n",
       "CCPH                        0.120715       0.142576  1.000000     -0.310989   \n",
       "TchlA (ug/L)                0.464223       0.098934 -0.310989      1.000000   \n",
       "mod_diatoms_chl             0.064469      -0.236381 -0.383390      0.419350   \n",
       "mod_flagellates_chl        -0.049662       0.306094  0.292186     -0.088494   \n",
       "mod_ciliates_chl            0.346618      -0.010675 -0.076349      0.497246   \n",
       "mod_TChl                   -0.255564      -0.191914 -0.200992      0.228892   \n",
       "\n",
       "                     mod_diatoms_chl  mod_flagellates_chl  mod_ciliates_chl  \\\n",
       "Diatoms-1                   0.598524            -0.235928          0.594838   \n",
       "Diatoms-2                   0.355295            -0.467658          0.020995   \n",
       "Cyanobacteria              -0.733998             0.570215         -0.514787   \n",
       "Cryptophytes               -0.441565             0.330893         -0.054945   \n",
       "Prasinophytes              -0.499591             0.614435         -0.048692   \n",
       "Haptophytes                -0.086080            -0.105357         -0.225390   \n",
       "Dictyochophytes             0.267316            -0.339547          0.107849   \n",
       "Dinoflagellates             0.064469            -0.049662          0.346618   \n",
       "Raphidophytes              -0.236381             0.306094         -0.010675   \n",
       "CCPH                       -0.383390             0.292186         -0.076349   \n",
       "TchlA (ug/L)                0.419350            -0.088494          0.497246   \n",
       "mod_diatoms_chl             1.000000             0.712500          0.775858   \n",
       "mod_flagellates_chl         0.712500             1.000000          0.907856   \n",
       "mod_ciliates_chl            0.775858             0.907856          1.000000   \n",
       "mod_TChl                    0.841130             0.942105          0.970130   \n",
       "\n",
       "                     mod_TChl  \n",
       "Diatoms-1            0.283614  \n",
       "Diatoms-2           -0.065677  \n",
       "Cyanobacteria       -0.329794  \n",
       "Cryptophytes        -0.404241  \n",
       "Prasinophytes       -0.278414  \n",
       "Haptophytes          0.049067  \n",
       "Dictyochophytes     -0.054088  \n",
       "Dinoflagellates     -0.255564  \n",
       "Raphidophytes       -0.191914  \n",
       "CCPH                -0.200992  \n",
       "TchlA (ug/L)         0.228892  \n",
       "mod_diatoms_chl      0.841130  \n",
       "mod_flagellates_chl  0.942105  \n",
       "mod_ciliates_chl     0.970130  \n",
       "mod_TChl             1.000000  "
      ]
     },
     "execution_count": 38,
     "metadata": {},
     "output_type": "execute_result"
    }
   ],
   "source": [
    "dflog.corr()"
   ]
  },
  {
   "cell_type": "markdown",
   "metadata": {
    "papermill": {
     "duration": 0.03146,
     "end_time": "2020-11-16T18:41:52.047479",
     "exception": false,
     "start_time": "2020-11-16T18:41:52.016019",
     "status": "completed"
    },
    "tags": []
   },
   "source": [
    "### New groups Model-Obs Comparison:"
   ]
  },
  {
   "cell_type": "code",
   "execution_count": 39,
   "metadata": {
    "papermill": {
     "duration": 0.465419,
     "end_time": "2020-11-16T18:41:52.544656",
     "exception": false,
     "start_time": "2020-11-16T18:41:52.079237",
     "status": "completed"
    },
    "tags": []
   },
   "outputs": [
    {
     "data": {
      "text/plain": [
       "<matplotlib.colorbar.Colorbar at 0x7fe862251970>"
      ]
     },
     "execution_count": 39,
     "metadata": {},
     "output_type": "execute_result"
    },
    {
     "data": {
      "image/png": "[encoded data removed]",
      "text/plain": [
       "<Figure size 648x288 with 3 Axes>"
      ]
     },
     "metadata": {
      "needs_background": "light"
     },
     "output_type": "display_data"
    }
   ],
   "source": [
    "thresh=.8\n",
    "msize=20\n",
    "fig,ax=plt.subplots(1,2,figsize=(9,4))\n",
    "m=ax[0].scatter(logt(data['DD']),logt(data['mod_diatoms_chl']),\n",
    "          c=data['yd'],s=msize,cmap=cmocean.cm.phase,vmin=0,vmax=366)\n",
    "m=ax[1].scatter(logt(data['CCPH']),logt(data['mod_flagellates_chl']),\n",
    "          c=data['yd'],s=msize,cmap=cmocean.cm.phase,vmin=0,vmax=366)\n",
    "ax[0].set_xlim(-3,2)\n",
    "ax[0].set_ylim(-3,2)\n",
    "ax[1].set_xlim(-3,1.2)\n",
    "ax[1].set_ylim(-3,1.2)\n",
    "ax[0].set_xlabel('Diatoms 1 + Diatoms 2')\n",
    "ax[0].set_ylabel('Model Diatoms')\n",
    "ax[0].set_title('log10[Chl (mg/m$^3$)+.001]')\n",
    "ax[1].set_xlabel('cyano+crypto+prasino+hapto')\n",
    "ax[1].set_ylabel('Model flagellates')\n",
    "ax[1].set_title('log10[Chl (mg/m$^3$)+.001]')\n",
    "ax[0].plot((-3,2),(-3+thresh,2+thresh),'-',color='grey')\n",
    "ax[0].plot((-3,2),(-3-thresh,2-thresh),'-',color='grey')\n",
    "ax[1].plot((-3,2),(-3+thresh,2+thresh),'-',color='grey')\n",
    "ax[1].plot((-3,2),(-3-thresh,2-thresh),'-',color='grey')\n",
    "ax[0].plot((-3,2),(-3,2),'k-')\n",
    "ax[1].plot((-3,1.2),(-3,1.2),'k-')\n",
    "plt.tight_layout()\n",
    "fig.colorbar(m,ax=ax[1])"
   ]
  },
  {
   "cell_type": "code",
   "execution_count": 40,
   "metadata": {
    "papermill": {
     "duration": 0.464257,
     "end_time": "2020-11-16T18:41:53.043632",
     "exception": false,
     "start_time": "2020-11-16T18:41:52.579375",
     "status": "completed"
    },
    "tags": []
   },
   "outputs": [
    {
     "name": "stdout",
     "output_type": "stream",
     "text": [
      "Diatoms/DD\n"
     ]
    },
    {
     "data": {
      "image/png": "[encoded data removed]",
      "text/plain": [
       "<Figure size 864x288 with 4 Axes>"
      ]
     },
     "metadata": {
      "needs_background": "light"
     },
     "output_type": "display_data"
    }
   ],
   "source": [
    "print('Diatoms/DD')\n",
    "fig,ax=plt.subplots(1,4,figsize=(12,4),gridspec_kw={'width_ratios': [1,1,1,.1],'wspace':.5},)\n",
    "for iax in ax[0:3]:\n",
    "    iax.contour(navlon,navlat,tmask[0,:,:],levels=[0.5,],colors='gray')\n",
    "    iax.set_xlim(-125.3,-122.5)\n",
    "    iax.set_ylim(48,50.5)\n",
    "ihi=logt(data['mod_diatoms_chl'])>(logt(data['DD'])+thresh)\n",
    "ilo=logt(data['mod_diatoms_chl'])<(logt(data['DD'])-thresh)\n",
    "idata=data.loc[(data.DD>=0)&ihi]\n",
    "ax[0].scatter(idata.Lon,idata.Lat,c=idata.yd,s=msize,cmap=cmocean.cm.phase,vmin=0,vmax=366)\n",
    "ax[0].set_title('High\\n log(mod)>log(obs)+'+str(thresh))\n",
    "idata=data.loc[(data.DD>=0)&(~ihi)&(~ilo)]\n",
    "ax[1].scatter(idata.Lon,idata.Lat,c=idata.yd,s=msize,cmap=cmocean.cm.phase,vmin=0,vmax=366)\n",
    "ax[1].set_title('Medium\\n log(obs)-'+str(thresh)+'<log(mod)<log(obs)+'+str(thresh))\n",
    "idata=data.loc[(data.DD>=0)&ilo]\n",
    "m=ax[2].scatter(idata.Lon,idata.Lat,c=idata.yd,s=msize,cmap=cmocean.cm.phase,vmin=0,vmax=366)\n",
    "ax[2].set_title('Low\\n log(mod)<log(obs)-'+str(thresh));\n",
    "fig.colorbar(m,cax=ax[3]);"
   ]
  },
  {
   "cell_type": "code",
   "execution_count": 41,
   "metadata": {
    "papermill": {
     "duration": 0.517689,
     "end_time": "2020-11-16T18:41:53.598687",
     "exception": false,
     "start_time": "2020-11-16T18:41:53.080998",
     "status": "completed"
    },
    "tags": []
   },
   "outputs": [
    {
     "name": "stdout",
     "output_type": "stream",
     "text": [
      "Flagellates/CCPH\n"
     ]
    },
    {
     "data": {
      "image/png": "[encoded data removed]",
      "text/plain": [
       "<Figure size 864x288 with 4 Axes>"
      ]
     },
     "metadata": {
      "needs_background": "light"
     },
     "output_type": "display_data"
    }
   ],
   "source": [
    "print('Flagellates/CCPH')\n",
    "fig,ax=plt.subplots(1,4,figsize=(12,4),gridspec_kw={'width_ratios': [1,1,1,.1],'wspace':.5},)\n",
    "for iax in ax[0:3]:\n",
    "    iax.contour(navlon,navlat,tmask[0,:,:],levels=[0.5,],colors='gray')\n",
    "    iax.set_xlim(-125.3,-122.5)\n",
    "    iax.set_ylim(48,50.5)\n",
    "ihi=logt(data['mod_flagellates_chl'])>(logt(data['CCPH'])+thresh)\n",
    "ilo=logt(data['mod_flagellates_chl'])<(logt(data['CCPH'])-thresh)\n",
    "idata=data.loc[(data.CCPH>=0)&ihi]\n",
    "ax[0].scatter(idata.Lon,idata.Lat,c=idata.yd,s=msize,cmap=cmocean.cm.phase,vmin=0,vmax=366)\n",
    "ax[0].set_title('High\\n log(mod)>log(obs)+'+str(thresh))\n",
    "idata=data.loc[(data.CCPH>=0)&(~ihi)&(~ilo)]\n",
    "ax[1].scatter(idata.Lon,idata.Lat,c=idata.yd,s=msize,cmap=cmocean.cm.phase,vmin=0,vmax=366)\n",
    "ax[1].set_title('Medium\\n log(obs)-'+str(thresh)+'<log(mod)<log(obs)+'+str(thresh))\n",
    "idata=data.loc[(data.CCPH>=0)&ilo]\n",
    "m=ax[2].scatter(idata.Lon,idata.Lat,c=idata.yd,s=msize,cmap=cmocean.cm.phase,vmin=0,vmax=366)\n",
    "ax[2].set_title('Low\\n log(mod)<log(obs)-'+str(thresh));\n",
    "fig.colorbar(m,cax=ax[3]);"
   ]
  },
  {
   "cell_type": "markdown",
   "metadata": {
    "papermill": {
     "duration": 0.040393,
     "end_time": "2020-11-16T18:41:53.679655",
     "exception": false,
     "start_time": "2020-11-16T18:41:53.639262",
     "status": "completed"
    },
    "tags": []
   },
   "source": [
    "### Diatom fraction"
   ]
  },
  {
   "cell_type": "code",
   "execution_count": 42,
   "metadata": {
    "papermill": {
     "duration": 0.417135,
     "end_time": "2020-11-16T18:41:54.136577",
     "exception": false,
     "start_time": "2020-11-16T18:41:53.719442",
     "status": "completed"
    },
    "tags": []
   },
   "outputs": [
    {
     "data": {
      "text/plain": [
       "<matplotlib.colorbar.Colorbar at 0x7fe861fbb730>"
      ]
     },
     "execution_count": 42,
     "metadata": {},
     "output_type": "execute_result"
    },
    {
     "data": {
      "image/png": "[encoded data removed]",
      "text/plain": [
       "<Figure size 864x288 with 3 Axes>"
      ]
     },
     "metadata": {
      "needs_background": "light"
     },
     "output_type": "display_data"
    }
   ],
   "source": [
    "fig,ax=plt.subplots(1,2,figsize=(12,4))\n",
    "diatFracMod=data['mod_diatoms']/(data['mod_diatoms']+data['mod_flagellates']+data['mod_ciliates'])\n",
    "diatFracObs=data['DD']/data['TchlA (ug/L)']\n",
    "m=ax[0].scatter(diatFracObs,diatFracMod,\n",
    "          c=data['yd'],cmap=cmocean.cm.phase)\n",
    "ax[0].set_xlabel('HPLC Diatom Fraction')\n",
    "ax[0].set_ylabel('Model Diatom Fraction')\n",
    "ax[0].set_xlim((0,1))\n",
    "ax[0].set_ylim((0,1))\n",
    "flFracMod=data['mod_flagellates']/(data['mod_diatoms']+data['mod_flagellates']+data['mod_ciliates'])\n",
    "CCPHFracObs=data['CCPH']/data['TchlA (ug/L)']\n",
    "m=ax[1].scatter(CCPHFracObs,flFracMod,\n",
    "          c=data['yd'],cmap=cmocean.cm.phase)\n",
    "ax[1].set_xlabel('HPLC Crypto Cyano Prasino Hapto Fraction')\n",
    "ax[1].set_ylabel('Model Flagellate Fraction')\n",
    "ax[1].set_xlim((0,1))\n",
    "ax[1].set_ylim((0,1))\n",
    "ax[0].set_aspect(1)\n",
    "ax[1].set_aspect(1)\n",
    "\n",
    "fig.colorbar(m)"
   ]
  },
  {
   "cell_type": "code",
   "execution_count": 43,
   "metadata": {
    "papermill": {
     "duration": 0.049017,
     "end_time": "2020-11-16T18:41:54.229419",
     "exception": false,
     "start_time": "2020-11-16T18:41:54.180402",
     "status": "completed"
    },
    "tags": []
   },
   "outputs": [],
   "source": [
    "#Reminder:\n",
    "np.random.seed(42)\n",
    "df = pd.DataFrame(np.random.randn(1000, 4),columns=['a', 'b', 'c','d'])\n",
    "df['a+b+c']=.2*df['a']+.3*df['b']+.45*df['c']"
   ]
  },
  {
   "cell_type": "code",
   "execution_count": 44,
   "metadata": {
    "papermill": {
     "duration": 0.051984,
     "end_time": "2020-11-16T18:41:54.324830",
     "exception": false,
     "start_time": "2020-11-16T18:41:54.272846",
     "status": "completed"
    },
    "tags": []
   },
   "outputs": [
    {
     "data": {
      "text/html": [
       "<div>\n",
       "<style scoped>\n",
       "    .dataframe tbody tr th:only-of-type {\n",
       "        vertical-align: middle;\n",
       "    }\n",
       "\n",
       "    .dataframe tbody tr th {\n",
       "        vertical-align: top;\n",
       "    }\n",
       "\n",
       "    .dataframe thead th {\n",
       "        text-align: right;\n",
       "    }\n",
       "</style>\n",
       "<table border=\"1\" class=\"dataframe\">\n",
       "  <thead>\n",
       "    <tr style=\"text-align: right;\">\n",
       "      <th></th>\n",
       "      <th>a</th>\n",
       "      <th>b</th>\n",
       "      <th>c</th>\n",
       "      <th>d</th>\n",
       "      <th>a+b+c</th>\n",
       "    </tr>\n",
       "  </thead>\n",
       "  <tbody>\n",
       "    <tr>\n",
       "      <th>a</th>\n",
       "      <td>0.929140</td>\n",
       "      <td>0.007946</td>\n",
       "      <td>-0.037053</td>\n",
       "      <td>-0.022301</td>\n",
       "      <td>0.171538</td>\n",
       "    </tr>\n",
       "    <tr>\n",
       "      <th>b</th>\n",
       "      <td>0.007946</td>\n",
       "      <td>1.023910</td>\n",
       "      <td>-0.032939</td>\n",
       "      <td>0.004689</td>\n",
       "      <td>0.293940</td>\n",
       "    </tr>\n",
       "    <tr>\n",
       "      <th>c</th>\n",
       "      <td>-0.037053</td>\n",
       "      <td>-0.032939</td>\n",
       "      <td>1.012188</td>\n",
       "      <td>0.034186</td>\n",
       "      <td>0.438192</td>\n",
       "    </tr>\n",
       "    <tr>\n",
       "      <th>d</th>\n",
       "      <td>-0.022301</td>\n",
       "      <td>0.004689</td>\n",
       "      <td>0.034186</td>\n",
       "      <td>1.013977</td>\n",
       "      <td>0.012330</td>\n",
       "    </tr>\n",
       "    <tr>\n",
       "      <th>a+b+c</th>\n",
       "      <td>0.171538</td>\n",
       "      <td>0.293940</td>\n",
       "      <td>0.438192</td>\n",
       "      <td>0.012330</td>\n",
       "      <td>0.319676</td>\n",
       "    </tr>\n",
       "  </tbody>\n",
       "</table>\n",
       "</div>"
      ],
      "text/plain": [
       "              a         b         c         d     a+b+c\n",
       "a      0.929140  0.007946 -0.037053 -0.022301  0.171538\n",
       "b      0.007946  1.023910 -0.032939  0.004689  0.293940\n",
       "c     -0.037053 -0.032939  1.012188  0.034186  0.438192\n",
       "d     -0.022301  0.004689  0.034186  1.013977  0.012330\n",
       "a+b+c  0.171538  0.293940  0.438192  0.012330  0.319676"
      ]
     },
     "execution_count": 44,
     "metadata": {},
     "output_type": "execute_result"
    }
   ],
   "source": [
    "df.cov()"
   ]
  },
  {
   "cell_type": "code",
   "execution_count": 45,
   "metadata": {
    "papermill": {
     "duration": 0.05243,
     "end_time": "2020-11-16T18:41:54.421781",
     "exception": false,
     "start_time": "2020-11-16T18:41:54.369351",
     "status": "completed"
    },
    "tags": []
   },
   "outputs": [
    {
     "data": {
      "text/html": [
       "<div>\n",
       "<style scoped>\n",
       "    .dataframe tbody tr th:only-of-type {\n",
       "        vertical-align: middle;\n",
       "    }\n",
       "\n",
       "    .dataframe tbody tr th {\n",
       "        vertical-align: top;\n",
       "    }\n",
       "\n",
       "    .dataframe thead th {\n",
       "        text-align: right;\n",
       "    }\n",
       "</style>\n",
       "<table border=\"1\" class=\"dataframe\">\n",
       "  <thead>\n",
       "    <tr style=\"text-align: right;\">\n",
       "      <th></th>\n",
       "      <th>a</th>\n",
       "      <th>b</th>\n",
       "      <th>c</th>\n",
       "      <th>d</th>\n",
       "      <th>a+b+c</th>\n",
       "    </tr>\n",
       "  </thead>\n",
       "  <tbody>\n",
       "    <tr>\n",
       "      <th>a</th>\n",
       "      <td>1.000000</td>\n",
       "      <td>0.008146</td>\n",
       "      <td>-0.038208</td>\n",
       "      <td>-0.022976</td>\n",
       "      <td>0.314749</td>\n",
       "    </tr>\n",
       "    <tr>\n",
       "      <th>b</th>\n",
       "      <td>0.008146</td>\n",
       "      <td>1.000000</td>\n",
       "      <td>-0.032355</td>\n",
       "      <td>0.004602</td>\n",
       "      <td>0.513774</td>\n",
       "    </tr>\n",
       "    <tr>\n",
       "      <th>c</th>\n",
       "      <td>-0.038208</td>\n",
       "      <td>-0.032355</td>\n",
       "      <td>1.000000</td>\n",
       "      <td>0.033745</td>\n",
       "      <td>0.770334</td>\n",
       "    </tr>\n",
       "    <tr>\n",
       "      <th>d</th>\n",
       "      <td>-0.022976</td>\n",
       "      <td>0.004602</td>\n",
       "      <td>0.033745</td>\n",
       "      <td>1.000000</td>\n",
       "      <td>0.021657</td>\n",
       "    </tr>\n",
       "    <tr>\n",
       "      <th>a+b+c</th>\n",
       "      <td>0.314749</td>\n",
       "      <td>0.513774</td>\n",
       "      <td>0.770334</td>\n",
       "      <td>0.021657</td>\n",
       "      <td>1.000000</td>\n",
       "    </tr>\n",
       "  </tbody>\n",
       "</table>\n",
       "</div>"
      ],
      "text/plain": [
       "              a         b         c         d     a+b+c\n",
       "a      1.000000  0.008146 -0.038208 -0.022976  0.314749\n",
       "b      0.008146  1.000000 -0.032355  0.004602  0.513774\n",
       "c     -0.038208 -0.032355  1.000000  0.033745  0.770334\n",
       "d     -0.022976  0.004602  0.033745  1.000000  0.021657\n",
       "a+b+c  0.314749  0.513774  0.770334  0.021657  1.000000"
      ]
     },
     "execution_count": 45,
     "metadata": {},
     "output_type": "execute_result"
    }
   ],
   "source": [
    "df.corr()"
   ]
  },
  {
   "cell_type": "code",
   "execution_count": 46,
   "metadata": {
    "papermill": {
     "duration": 0.049608,
     "end_time": "2020-11-16T18:41:54.515207",
     "exception": false,
     "start_time": "2020-11-16T18:41:54.465599",
     "status": "completed"
    },
    "tags": []
   },
   "outputs": [
    {
     "name": "stdout",
     "output_type": "stream",
     "text": [
      "[ 2.00000000e-01  3.00000000e-01  4.50000000e-01  1.52655666e-16\n",
      " -1.04083409e-16]\n"
     ]
    }
   ],
   "source": [
    "A=np.vstack([df['a'],df['b'],df['c'],df['d'],np.ones(np.shape(df['a']))]).T\n",
    "b=df['a+b+c']\n",
    "m=np.linalg.lstsq(A,b,rcond=None)[0]\n",
    "print(m)"
   ]
  }
 ],
 "metadata": {
  "celltoolbar": "Tags",
  "kernelspec": {
   "display_name": "Python (py38_ct)",
   "language": "python",
   "name": "py38_ct"
  },
  "language_info": {
   "codemirror_mode": {
    "name": "ipython",
    "version": 3
   },
   "file_extension": ".py",
   "mimetype": "text/x-python",
   "name": "python",
   "nbconvert_exporter": "python",
   "pygments_lexer": "ipython3",
   "version": "3.8.2"
  },
  "papermill": {
   "duration": 9.625222,
   "end_time": "2020-11-16T18:41:54.561449",
   "environment_variables": {},
   "exception": null,
   "input_path": "compHPLCModelFirstLook-Regress-Base.ipynb",
   "output_path": "compHPLCModelFirstLook-Regress-2018ES_LF-2015.ipynb",
   "parameters": {
    "Chl_N": 1.8,
    "end_date": [
     2015,
     6,
     30
    ],
    "fname": "compHPLCModelFirstLook-Regress-2018ES_LF-2015.ipynb",
    "modSourceDir": "/data/eolson/results/MEOPAR/SS36runs/GrahamRuns/2018ES_LF/",
    "mod_ver": "2018ES_LF",
    "start_date": [
     2015,
     1,
     1
    ]
   },
   "start_time": "2020-11-16T18:41:44.936227",
   "version": "2.0.0"
  }
 },
 "nbformat": 4,
 "nbformat_minor": 2
}
