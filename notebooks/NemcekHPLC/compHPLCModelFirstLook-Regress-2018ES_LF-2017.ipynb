{
 "cells": [
  {
   "cell_type": "code",
   "execution_count": 1,
   "metadata": {
    "papermill": {
     "duration": 1.348164,
     "end_time": "2020-11-16T18:42:06.722640",
     "exception": false,
     "start_time": "2020-11-16T18:42:05.374476",
     "status": "completed"
    },
    "tags": []
   },
   "outputs": [],
   "source": [
    "import numpy as np  # this module handles arrays, but here we need it for its NaN value\n",
    "import pandas as pd # this module contains a lot of tools for handling tabular data\n",
    "from matplotlib import pyplot as plt\n",
    "from salishsea_tools import evaltools as et\n",
    "import datetime as dt\n",
    "import os\n",
    "import gsw\n",
    "import pickle\n",
    "import netCDF4 as nc\n",
    "import cmocean\n",
    "from scipy import stats as spst\n",
    "from pandas.plotting import register_matplotlib_converters\n",
    "register_matplotlib_converters()\n",
    "%matplotlib inline"
   ]
  },
  {
   "cell_type": "code",
   "execution_count": 2,
   "metadata": {
    "papermill": {
     "duration": 0.021239,
     "end_time": "2020-11-16T18:42:06.762623",
     "exception": false,
     "start_time": "2020-11-16T18:42:06.741384",
     "status": "completed"
    },
    "tags": [
     "parameters"
    ]
   },
   "outputs": [],
   "source": [
    "modSourceDir= '/results/SalishSea/nowcast-green.201812/'\n",
    "modver='201812'\n",
    "Chl_N=1.8 # Chl:N ratio\n",
    "fname='compHPLCModelFirstLook-Regress-Base.ipynb'\n",
    "startYMD=(2015,1,1)\n",
    "endYMD=(2018,12,31)"
   ]
  },
  {
   "cell_type": "code",
   "execution_count": 3,
   "metadata": {
    "papermill": {
     "duration": 0.020979,
     "end_time": "2020-11-16T18:42:06.800993",
     "exception": false,
     "start_time": "2020-11-16T18:42:06.780014",
     "status": "completed"
    },
    "tags": [
     "injected-parameters"
    ]
   },
   "outputs": [],
   "source": [
    "# Parameters\n",
    "modSourceDir = '/data/eolson/results/MEOPAR/SS36runs/GrahamRuns/2018ES_LF/'\n",
    "modver = '2018ES_LF'\n",
    "start_date = dt.datetime(2017,1,1)\n",
    "end_date = dt.datetime(2017, 6, 30)\n",
    "Chl_N = 1.8\n",
    "#fname = \"compHPLCModelFirstLook-Regress-2018ES_LF-2015.ipynb\"\n"
   ]
  },
  {
   "cell_type": "code",
   "execution_count": 4,
   "metadata": {
    "papermill": {
     "duration": 0.021188,
     "end_time": "2020-11-16T18:42:06.878359",
     "exception": false,
     "start_time": "2020-11-16T18:42:06.857171",
     "status": "completed"
    },
    "tags": []
   },
   "outputs": [],
   "source": [
    "datestr='_'+start_date.strftime('%Y%m%d')+'_'+end_date.strftime('%Y%m%d')"
   ]
  },
  {
   "cell_type": "code",
   "execution_count": 5,
   "metadata": {
    "papermill": {
     "duration": 0.023253,
     "end_time": "2020-11-16T18:42:06.919365",
     "exception": false,
     "start_time": "2020-11-16T18:42:06.896112",
     "status": "completed"
    },
    "tags": []
   },
   "outputs": [],
   "source": [
    "def subval(idf,colList):\n",
    "    # first value in colList should be the column you are going to keep\n",
    "    # follow with other columns that will be used to fill in when that column is NaN\n",
    "    # in order of precedence\n",
    "    if len(colList)==2:\n",
    "        idf[colList[0]]=[r[colList[0]] if not pd.isna(r[colList[0]]) \\\n",
    "                         else  r[colList[1]] for i,r in idf.iterrows()]\n",
    "    elif len(colList)==3:\n",
    "        idf[colList[0]]=[r[colList[0]] if not pd.isna(r[colList[0]]) \\\n",
    "                         else  r[colList[1]] if not pd.isna(r[colList[1]]) \\\n",
    "                         else r[colList[2]] for i,r in idf.iterrows()]\n",
    "    else:\n",
    "        raise NotImplementedError('Add to code to handle this case')\n",
    "    idf.drop(columns=list(colList[1:]),inplace=True)\n",
    "    return idf"
   ]
  },
  {
   "cell_type": "code",
   "execution_count": 6,
   "metadata": {
    "papermill": {
     "duration": 0.031836,
     "end_time": "2020-11-16T18:42:06.968660",
     "exception": false,
     "start_time": "2020-11-16T18:42:06.936824",
     "status": "completed"
    },
    "tags": []
   },
   "outputs": [],
   "source": [
    "if os.path.isfile('matched_'+modver+datestr+'.pkl'):\n",
    "    data=pickle.load(open( 'matched_'+modver+datestr+'.pkl', 'rb' ) )\n",
    "else:\n",
    "    # define paths to the source files and eventual output file\n",
    "    flist=('/ocean/eolson/MEOPAR/obs/NemcekHPLC/bottlePhytoMerged2015.csv',\n",
    "           '/ocean/eolson/MEOPAR/obs/NemcekHPLC/bottlePhytoMerged2016.csv',\n",
    "           '/ocean/eolson/MEOPAR/obs/NemcekHPLC/bottlePhytoMerged2017.csv',\n",
    "           '/ocean/eolson/MEOPAR/obs/NemcekHPLC/bottlePhytoMerged2018.csv')#,\n",
    "           #'/ocean/eolson/MEOPAR/obs/NemcekHPLC/bottlePhytoMerged2019.csv')\n",
    "\n",
    "    dfs=list()\n",
    "    for fname in flist:\n",
    "        idf=pd.read_csv(fname)\n",
    "        print(fname,sorted(idf.keys()))\n",
    "        dfs.append(idf)\n",
    "    df=pd.concat(dfs,ignore_index=True,sort=False); # concatenate the list into a single table\n",
    "\n",
    "    df.drop(labels=['ADM:MISSION','ADM:PROJECT','ADM:SCIENTIST','Zone','Zone.1','Temperature:Draw',\n",
    "                    'Temperature:Draw [deg C (ITS90)]','Bottle:Firing_Sequence','Comments by sample_numbeR',\n",
    "                    'File Name','LOC:EVENT_NUMBER','Number_of_bin_records'\n",
    "                       ],axis=1,inplace=True)\n",
    "\n",
    "    df=subval(df,('Dictyochophytes','Dictyo'))\n",
    "    df=subval(df,('Chlorophyll:Extracted [mg/m^3]','Chlorophyll:Extracted'))\n",
    "    df=subval(df,('Dinoflagellates','Dinoflagellates-1'))\n",
    "    df=subval(df,('Fluorescence [mg/m^3]','Fluorescence:URU:Seapoint [mg/m^3]','Fluorescence:URU:Seapoint'))\n",
    "    df=subval(df,('Lat','LOC:LATITUDE'))\n",
    "    df=subval(df,('Lon','LOC:LONGITUDE'))\n",
    "    df=subval(df,('Nitrate_plus_Nitrite [umol/L]','Nitrate_plus_Nitrite'))\n",
    "    df=subval(df,('PAR [uE/m^2/sec]','PAR'))\n",
    "    df=subval(df,('Phaeo-Pigment:Extracted [mg/m^3]','Phaeo-Pigment:Extracted'))\n",
    "    df=subval(df,('Phosphate [umol/L]','Phosphate'))\n",
    "    df=subval(df,('Pressure [decibar]','Pressure'))\n",
    "    df=subval(df,('Raphidophytes','Raphido'))\n",
    "    df=subval(df,('Salinity','Salinity [PSS-78]','Salinity:T1:C1 [PSS-78]'))\n",
    "    df=subval(df,('Salinity:Bottle','Salinity:Bottle [PSS-78]'))\n",
    "    df=subval(df,('Silicate [umol/L]','Silicate'))\n",
    "    df=subval(df,('TchlA (ug/L)','TchlA'))\n",
    "    df=subval(df,('Temperature','Temperature [deg C (ITS90)]','Temperature:Secondary [deg C (ITS90)]'))\n",
    "    df=subval(df,('Transmissivity [*/metre]','Transmissivity'))\n",
    "\n",
    "    df['Z']=np.where(pd.isna(df['Depth [metres]']),\n",
    "                     -1*gsw.z_from_p(df['Pressure [decibar]'],df['Lat']),\n",
    "                     df['Depth [metres]'])\n",
    "    df['p']=np.where(pd.isna(df['Pressure [decibar]']),\n",
    "                     gsw.p_from_z(-1*df['Depth [metres]'],df['Lat']),\n",
    "                    df['Pressure [decibar]'])\n",
    "    df['SA']=gsw.SA_from_SP(df['Salinity'],df['p'],df['Lon'],df['Lat'])\n",
    "    df['CT']=gsw.CT_from_t(df['SA'],df['Temperature'],df['p'])\n",
    "\n",
    "    df['dtUTC']=[dt.datetime.strptime(ii,'%Y-%m-%d %H:%M:%S') if isinstance(ii,str) else np.nan for ii in df['FIL:START TIME YYYY/MM/DD HH:MM:SS'] ]\n",
    "\n",
    "    PATH= modSourceDir\n",
    "\n",
    "    flen=1\n",
    "    namfmt='nowcast'\n",
    "    #varmap={'N':'nitrate','Si':'silicon','Ammonium':'ammonium'}\n",
    "    filemap={'nitrate':'ptrc_T','silicon':'ptrc_T','ammonium':'ptrc_T','diatoms':'ptrc_T','ciliates':'ptrc_T','flagellates':'ptrc_T','vosaline':'grid_T','votemper':'grid_T'}\n",
    "    #gridmap={'nitrate':'tmask','silicon':'tmask','ammonium':'tmask'}\n",
    "    fdict={'ptrc_T':1,'grid_T':1}\n",
    "\n",
    "    data=et.matchData(df,filemap,fdict,start_date,end_date,namfmt,PATH,flen)\n",
    "\n",
    "    with open('matched_'+modver+datestr+'.pkl','wb') as f:\n",
    "        pickle.dump(data,f)"
   ]
  },
  {
   "cell_type": "code",
   "execution_count": 7,
   "metadata": {
    "papermill": {
     "duration": 0.025087,
     "end_time": "2020-11-16T18:42:07.011178",
     "exception": false,
     "start_time": "2020-11-16T18:42:06.986091",
     "status": "completed"
    },
    "tags": []
   },
   "outputs": [],
   "source": [
    "data['other']=0.0\n",
    "for el in ('Cryptophytes', 'Cyanobacteria', 'Dictyochophytes', 'Dinoflagellates',\n",
    "    'Haptophytes', 'Prasinophytes', 'Raphidophytes'):\n",
    "    data['other']=data['other']+data[el]"
   ]
  },
  {
   "cell_type": "code",
   "execution_count": 8,
   "metadata": {
    "papermill": {
     "duration": 0.524902,
     "end_time": "2020-11-16T18:42:07.553449",
     "exception": false,
     "start_time": "2020-11-16T18:42:07.028547",
     "status": "completed"
    },
    "tags": []
   },
   "outputs": [
    {
     "data": {
      "text/plain": [
       "(0, 8)"
      ]
     },
     "execution_count": 8,
     "metadata": {},
     "output_type": "execute_result"
    },
    {
     "data": {
      "image/png": "[encoded data removed]",
      "text/plain": [
       "<Figure size 864x576 with 4 Axes>"
      ]
     },
     "metadata": {
      "needs_background": "light"
     },
     "output_type": "display_data"
    }
   ],
   "source": [
    "fig,ax=plt.subplots(2,2,figsize=(12,8))\n",
    "ax=ax.flatten()\n",
    "ax[0].plot(data['Diatoms-1']+data['Diatoms-2'],Chl_N*data['mod_diatoms'],'k.')\n",
    "ax[0].set_title('Diatoms (mg Chl/m$^3$)')\n",
    "ax[0].set_xlabel('HPLC')\n",
    "ax[0].set_ylabel('model')\n",
    "ax[0].plot((0,18),(0,18),'r-',alpha=.3)\n",
    "\n",
    "ax[1].plot(data['other'],Chl_N*(data['mod_flagellates']+data['mod_ciliates']),'k.')\n",
    "ax[1].set_title('non-Diatoms (mg Chl/m$^3$)')\n",
    "ax[1].set_xlabel('HPLC')\n",
    "ax[1].set_ylabel('model')\n",
    "ax[1].plot((0,12),(0,12),'r-',alpha=.3)\n",
    "\n",
    "ax[2].plot(data['Diatoms-1']+data['Diatoms-2'],Chl_N*data['mod_diatoms'],'k.')\n",
    "ax[2].set_title('Diatoms (mg Chl/m$^3$)')\n",
    "ax[2].set_xlabel('HPLC')\n",
    "ax[2].set_ylabel('model')\n",
    "ax[2].plot((0,25),(0,25),'r-',alpha=.3)\n",
    "ax[2].set_xlim((0,25))\n",
    "ax[2].set_ylim((0,25))\n",
    "\n",
    "ax[3].plot(data['other'],Chl_N*(data['mod_flagellates']+data['mod_ciliates']),'k.')\n",
    "ax[3].set_title('non-Diatoms (mg Chl/m$^3$)')\n",
    "ax[3].set_xlabel('HPLC')\n",
    "ax[3].set_ylabel('model')\n",
    "ax[3].plot((0,12),(0,12),'r-',alpha=.3)\n",
    "ax[3].set_xlim((0,8))\n",
    "ax[3].set_ylim((0,8))"
   ]
  },
  {
   "cell_type": "code",
   "execution_count": 9,
   "metadata": {
    "papermill": {
     "duration": 0.023194,
     "end_time": "2020-11-16T18:42:07.597505",
     "exception": false,
     "start_time": "2020-11-16T18:42:07.574311",
     "status": "completed"
    },
    "tags": []
   },
   "outputs": [],
   "source": [
    "def logt(x):\n",
    "    return np.log10(x+.001)"
   ]
  },
  {
   "cell_type": "code",
   "execution_count": 10,
   "metadata": {
    "papermill": {
     "duration": 0.218565,
     "end_time": "2020-11-16T18:42:07.835336",
     "exception": false,
     "start_time": "2020-11-16T18:42:07.616771",
     "status": "completed"
    },
    "tags": []
   },
   "outputs": [
    {
     "data": {
      "text/plain": [
       "(-3.1, 2)"
      ]
     },
     "execution_count": 10,
     "metadata": {},
     "output_type": "execute_result"
    },
    {
     "data": {
      "image/png": "[encoded data removed]",
      "text/plain": [
       "<Figure size 864x360 with 2 Axes>"
      ]
     },
     "metadata": {
      "needs_background": "light"
     },
     "output_type": "display_data"
    }
   ],
   "source": [
    "fig,ax=plt.subplots(1,2,figsize=(12,5))\n",
    "ax[0].plot(logt(data['Diatoms-1']+data['Diatoms-2']),logt(Chl_N*data['mod_diatoms']),'k.')\n",
    "ax[0].set_title('log10[ Diatoms (mg Chl/m$^3$) + 0.001]',fontsize=18)\n",
    "ax[0].set_xlabel('HPLC',fontsize=18)\n",
    "ax[0].set_ylabel('model',fontsize=18)\n",
    "ax[0].set_xlim(-3.1,2)\n",
    "ax[0].set_ylim(-3.1,2)\n",
    "ax[0].plot((-6,3),(-6,3),'r-',alpha=.3)\n",
    "\n",
    "ax[1].plot(logt(data['other']),logt(Chl_N*(data['mod_flagellates']+data['mod_ciliates'])),'k.')\n",
    "ax[1].set_title('log10[ non-Diatoms (mg Chl/m$^3$) + 0.001]',fontsize=18)\n",
    "ax[1].set_xlabel('HPLC',fontsize=18)\n",
    "ax[1].set_ylabel('model',fontsize=18)\n",
    "ax[1].plot((-6,3),(-6,3),'r-',alpha=.3)\n",
    "ax[1].set_xlim(-3.1,2)\n",
    "ax[1].set_ylim(-3.1,2)"
   ]
  },
  {
   "cell_type": "code",
   "execution_count": 11,
   "metadata": {
    "papermill": {
     "duration": 0.126194,
     "end_time": "2020-11-16T18:42:07.982104",
     "exception": false,
     "start_time": "2020-11-16T18:42:07.855910",
     "status": "completed"
    },
    "tags": []
   },
   "outputs": [
    {
     "data": {
      "text/plain": [
       "[<matplotlib.lines.Line2D at 0x7f14bb5debe0>]"
      ]
     },
     "execution_count": 11,
     "metadata": {},
     "output_type": "execute_result"
    },
    {
     "data": {
      "image/png": "[encoded data removed]",
      "text/plain": [
       "<Figure size 432x288 with 1 Axes>"
      ]
     },
     "metadata": {
      "needs_background": "light"
     },
     "output_type": "display_data"
    }
   ],
   "source": [
    "plt.plot(data['TchlA (ug/L)'],Chl_N*(data['mod_flagellates']+data['mod_ciliates']+data['mod_diatoms']),'k.')\n",
    "plt.title('Total Chlorophyll (ug/L)')\n",
    "plt.xlabel('HPLC')\n",
    "plt.ylabel('model')\n",
    "plt.plot((0,20),(0,20),'r-',alpha=.3)"
   ]
  },
  {
   "cell_type": "code",
   "execution_count": 12,
   "metadata": {
    "papermill": {
     "duration": 0.122428,
     "end_time": "2020-11-16T18:42:08.125797",
     "exception": false,
     "start_time": "2020-11-16T18:42:08.003369",
     "status": "completed"
    },
    "tags": []
   },
   "outputs": [
    {
     "data": {
      "image/png": "[encoded data removed]",
      "text/plain": [
       "<Figure size 360x360 with 1 Axes>"
      ]
     },
     "metadata": {
      "needs_background": "light"
     },
     "output_type": "display_data"
    }
   ],
   "source": [
    "fig,ax=plt.subplots(1,1,figsize=(5,5))\n",
    "ax.plot(logt(data['TchlA (ug/L)']),logt(Chl_N*(data['mod_flagellates']+data['mod_ciliates']+data['mod_diatoms'])),'k.')\n",
    "ax.set_title('log10[ Total Chlorophyll (ug/L) + 0.001]')\n",
    "ax.set_xlabel('HPLC')\n",
    "ax.set_ylabel('model')\n",
    "ax.plot((-6,5),(-6,5),'r-',alpha=.3)\n",
    "ax.set_xlim(-1,2)\n",
    "ax.set_ylim(-1,2);"
   ]
  },
  {
   "cell_type": "code",
   "execution_count": 13,
   "metadata": {
    "papermill": {
     "duration": 0.103263,
     "end_time": "2020-11-16T18:42:08.251557",
     "exception": false,
     "start_time": "2020-11-16T18:42:08.148294",
     "status": "completed"
    },
    "tags": []
   },
   "outputs": [],
   "source": [
    "def yd(idt):\n",
    "    if type(idt)==dt.datetime:\n",
    "        yd=(idt-dt.datetime(idt.year-1,12,31)).days\n",
    "    else: # assume array or pandas\n",
    "        yd=[(ii-dt.datetime(ii.year-1,12,31)).days for ii in idt]\n",
    "    return yd\n",
    "\n",
    "data['yd']=yd(data['dtUTC'])\n",
    "data['Year']=[ii.year for ii in data['dtUTC']]"
   ]
  },
  {
   "cell_type": "code",
   "execution_count": 14,
   "metadata": {
    "papermill": {
     "duration": 0.288668,
     "end_time": "2020-11-16T18:42:08.562106",
     "exception": false,
     "start_time": "2020-11-16T18:42:08.273438",
     "status": "completed"
    },
    "tags": []
   },
   "outputs": [
    {
     "data": {
      "text/plain": [
       "<matplotlib.colorbar.Colorbar at 0x7f14bb539b50>"
      ]
     },
     "execution_count": 14,
     "metadata": {},
     "output_type": "execute_result"
    },
    {
     "data": {
      "image/png": "[encoded data removed]",
      "text/plain": [
       "<Figure size 360x360 with 2 Axes>"
      ]
     },
     "metadata": {
      "needs_background": "light"
     },
     "output_type": "display_data"
    }
   ],
   "source": [
    "fig,ax=plt.subplots(1,1,figsize=(5,5))\n",
    "m=ax.scatter(logt(data['TchlA (ug/L)']),logt(Chl_N*(data['mod_flagellates']+data['mod_ciliates']+data['mod_diatoms'])),\n",
    "          c=data['yd'],cmap=cmocean.cm.phase)\n",
    "ax.set_title('log10[ Total Chlorophyll (ug/L) + 0.001] By Year Day')\n",
    "ax.set_xlabel('HPLC')\n",
    "ax.set_ylabel('model')\n",
    "ax.plot((-6,5),(-6,5),'r-',alpha=.3)\n",
    "ax.set_xlim(-1,2)\n",
    "ax.set_ylim(-1,2);\n",
    "fig.colorbar(m)"
   ]
  },
  {
   "cell_type": "code",
   "execution_count": 15,
   "metadata": {
    "papermill": {
     "duration": 0.055199,
     "end_time": "2020-11-16T18:42:08.641905",
     "exception": false,
     "start_time": "2020-11-16T18:42:08.586706",
     "status": "completed"
    },
    "tags": []
   },
   "outputs": [],
   "source": [
    "with nc.Dataset('/ocean/eolson/MEOPAR/NEMO-forcing/grid/mesh_mask201702_noLPE.nc') as mesh:\n",
    "    tmask=np.copy(mesh.variables['tmask'][0,:,:,:])\n",
    "    navlat=np.copy(mesh.variables['nav_lat'][:,:])\n",
    "    navlon=np.copy(mesh.variables['nav_lon'][:,:])"
   ]
  },
  {
   "cell_type": "markdown",
   "metadata": {
    "papermill": {
     "duration": 0.02282,
     "end_time": "2020-11-16T18:42:08.688297",
     "exception": false,
     "start_time": "2020-11-16T18:42:08.665477",
     "status": "completed"
    },
    "tags": []
   },
   "source": [
    "## Multiple Linear Regression\n",
    "\n",
    "#### Diatoms"
   ]
  },
  {
   "cell_type": "code",
   "execution_count": 16,
   "metadata": {
    "papermill": {
     "duration": 0.091078,
     "end_time": "2020-11-16T18:42:08.802299",
     "exception": false,
     "start_time": "2020-11-16T18:42:08.711221",
     "status": "completed"
    },
    "tags": []
   },
   "outputs": [],
   "source": [
    "ii=(~pd.isnull(data['mod_diatoms']))&(~pd.isnull(data['Diatoms-1']))&(~pd.isnull(data['Diatoms-2']))&(~pd.isnull(data['Cyanobacteria']))&\\\n",
    "        (~pd.isnull(data['Cryptophytes']))&(~pd.isnull(data['Prasinophytes']))&(~pd.isnull(data['Haptophytes']))&\\\n",
    "        (~pd.isnull(data['Dictyochophytes']))&(~pd.isnull(data['Dinoflagellates']))&(~pd.isnull(data['Raphidophytes']))\n",
    "A=np.vstack([data.loc[ii]['Diatoms-1'],data.loc[ii]['Diatoms-2'],data.loc[ii]['Cyanobacteria'],data.loc[ii]['Cryptophytes'],\n",
    "               data.loc[ii]['Prasinophytes'],data.loc[ii]['Haptophytes'],data.loc[ii]['Dictyochophytes'],data.loc[ii]['Dinoflagellates'],\n",
    "             data.loc[ii]['Raphidophytes'],np.ones(np.shape(data.loc[ii]['Diatoms-1']))]).T\n",
    "b=data.loc[ii]['mod_diatoms']\n",
    "m=np.linalg.lstsq(A,b,rcond=None)[0]"
   ]
  },
  {
   "cell_type": "code",
   "execution_count": 17,
   "metadata": {
    "papermill": {
     "duration": 0.028183,
     "end_time": "2020-11-16T18:42:08.853634",
     "exception": false,
     "start_time": "2020-11-16T18:42:08.825451",
     "status": "completed"
    },
    "tags": []
   },
   "outputs": [
    {
     "data": {
      "text/plain": [
       "array([  0.19351624,  -0.77565467, -13.97293706,  -0.48243909,\n",
       "         0.01652887,   0.95871677,   2.97716958,  -1.32722615,\n",
       "        -3.02310673,   0.84447802])"
      ]
     },
     "execution_count": 17,
     "metadata": {},
     "output_type": "execute_result"
    }
   ],
   "source": [
    "m"
   ]
  },
  {
   "cell_type": "code",
   "execution_count": 18,
   "metadata": {
    "papermill": {
     "duration": 0.02893,
     "end_time": "2020-11-16T18:42:08.905700",
     "exception": false,
     "start_time": "2020-11-16T18:42:08.876770",
     "status": "completed"
    },
    "tags": []
   },
   "outputs": [
    {
     "name": "stdout",
     "output_type": "stream",
     "text": [
      "Diatoms-1 0.19351624215050198\n",
      "Diatoms-2 -0.7756546722245347\n",
      "Cyanobacteria -13.972937062153331\n",
      "Cryptophytes -0.4824390853503947\n",
      "Prasinophytes 0.01652886514431737\n",
      "Haptophytes 0.9587167733602234\n",
      "Dictyochophytes 2.977169577025429\n",
      "Dinoflagellates -1.3272261494046853\n",
      "Raphidophytes -3.023106728056278\n",
      "ones 0.8444780211607362\n"
     ]
    }
   ],
   "source": [
    "clist=('Diatoms-1','Diatoms-2','Cyanobacteria','Cryptophytes','Prasinophytes','Haptophytes',\n",
    "        'Dictyochophytes','Dinoflagellates','Raphidophytes','ones')\n",
    "for c, mm in zip(clist,m):\n",
    "    print(c,mm)"
   ]
  },
  {
   "cell_type": "code",
   "execution_count": 19,
   "metadata": {
    "papermill": {
     "duration": 0.037899,
     "end_time": "2020-11-16T18:42:08.967198",
     "exception": false,
     "start_time": "2020-11-16T18:42:08.929299",
     "status": "completed"
    },
    "tags": []
   },
   "outputs": [],
   "source": [
    "ii=(~pd.isnull(data['mod_diatoms']))&(~pd.isnull(data['Diatoms-1']))&(~pd.isnull(data['Diatoms-2']))&\\\n",
    "        (~pd.isnull(data['Cryptophytes']))&(~pd.isnull(data['Raphidophytes']))\n",
    "A=np.vstack([data.loc[ii]['Diatoms-1'],data.loc[ii]['Diatoms-2'],data.loc[ii]['Cryptophytes'],\n",
    "            data.loc[ii]['Raphidophytes'],np.ones(np.shape(data.loc[ii]['Diatoms-1']))]).T\n",
    "b=data.loc[ii]['mod_diatoms']\n",
    "m=np.linalg.lstsq(A,b,rcond=None)[0]"
   ]
  },
  {
   "cell_type": "code",
   "execution_count": 20,
   "metadata": {
    "papermill": {
     "duration": 0.028564,
     "end_time": "2020-11-16T18:42:09.018990",
     "exception": false,
     "start_time": "2020-11-16T18:42:08.990426",
     "status": "completed"
    },
    "tags": []
   },
   "outputs": [
    {
     "name": "stdout",
     "output_type": "stream",
     "text": [
      "Diatoms-1 0.20720374007506737\n",
      "Diatoms-2 -0.681543202257153\n",
      "Cryptophytes -0.9484077001500645\n",
      "Raphidophytes -2.5454193177848055\n",
      "ones 0.8471212833120993\n"
     ]
    }
   ],
   "source": [
    "clist=('Diatoms-1','Diatoms-2','Cryptophytes','Raphidophytes','ones')\n",
    "for c, mm in zip(clist,m):\n",
    "    print(c,mm)"
   ]
  },
  {
   "cell_type": "code",
   "execution_count": 21,
   "metadata": {
    "papermill": {
     "duration": 0.035767,
     "end_time": "2020-11-16T18:42:09.078749",
     "exception": false,
     "start_time": "2020-11-16T18:42:09.042982",
     "status": "completed"
    },
    "tags": []
   },
   "outputs": [],
   "source": [
    "ii=(~pd.isnull(data['mod_diatoms']))&(~pd.isnull(data['Diatoms-1']))&\\\n",
    "        (~pd.isnull(data['Cryptophytes']))&(~pd.isnull(data['Raphidophytes']))\n",
    "A=np.vstack([data.loc[ii]['Diatoms-1'],data.loc[ii]['Cryptophytes'],\n",
    "            data.loc[ii]['Raphidophytes'],np.ones(np.shape(data.loc[ii]['Diatoms-1']))]).T\n",
    "b=data.loc[ii]['mod_diatoms']\n",
    "m=np.linalg.lstsq(A,b,rcond=None)[0]"
   ]
  },
  {
   "cell_type": "code",
   "execution_count": 22,
   "metadata": {
    "papermill": {
     "duration": 0.028517,
     "end_time": "2020-11-16T18:42:09.130966",
     "exception": false,
     "start_time": "2020-11-16T18:42:09.102449",
     "status": "completed"
    },
    "tags": []
   },
   "outputs": [
    {
     "name": "stdout",
     "output_type": "stream",
     "text": [
      "Diatoms-1 0.2083651543067072\n",
      "Cryptophytes -0.9719077283406659\n",
      "Raphidophytes -2.257026391982508\n",
      "ones 0.7373808853324881\n"
     ]
    }
   ],
   "source": [
    "clist=('Diatoms-1','Cryptophytes','Raphidophytes','ones')\n",
    "for c, mm in zip(clist,m):\n",
    "    print(c,mm)"
   ]
  },
  {
   "cell_type": "markdown",
   "metadata": {
    "papermill": {
     "duration": 0.023654,
     "end_time": "2020-11-16T18:42:09.178735",
     "exception": false,
     "start_time": "2020-11-16T18:42:09.155081",
     "status": "completed"
    },
    "tags": []
   },
   "source": [
    "#### flagellates"
   ]
  },
  {
   "cell_type": "code",
   "execution_count": 23,
   "metadata": {
    "papermill": {
     "duration": 0.040516,
     "end_time": "2020-11-16T18:42:09.242573",
     "exception": false,
     "start_time": "2020-11-16T18:42:09.202057",
     "status": "completed"
    },
    "tags": []
   },
   "outputs": [],
   "source": [
    "ii=(~pd.isnull(data['mod_flagellates']))&(~pd.isnull(data['Diatoms-1']))&(~pd.isnull(data['Diatoms-2']))&(~pd.isnull(data['Cyanobacteria']))&\\\n",
    "        (~pd.isnull(data['Cryptophytes']))&(~pd.isnull(data['Prasinophytes']))&(~pd.isnull(data['Haptophytes']))&\\\n",
    "        (~pd.isnull(data['Dictyochophytes']))&(~pd.isnull(data['Dinoflagellates']))&(~pd.isnull(data['Raphidophytes']))\n",
    "A=np.vstack([data.loc[ii]['Diatoms-1'],data.loc[ii]['Diatoms-2'],data.loc[ii]['Cyanobacteria'],data.loc[ii]['Cryptophytes'],\n",
    "               data.loc[ii]['Prasinophytes'],data.loc[ii]['Haptophytes'],data.loc[ii]['Dictyochophytes'],data.loc[ii]['Dinoflagellates'],\n",
    "             data.loc[ii]['Raphidophytes'],np.ones(np.shape(data.loc[ii]['Diatoms-1']))]).T\n",
    "b=data.loc[ii]['mod_flagellates']\n",
    "m=np.linalg.lstsq(A,b,rcond=None)[0]"
   ]
  },
  {
   "cell_type": "code",
   "execution_count": 24,
   "metadata": {
    "papermill": {
     "duration": 0.028463,
     "end_time": "2020-11-16T18:42:09.295206",
     "exception": false,
     "start_time": "2020-11-16T18:42:09.266743",
     "status": "completed"
    },
    "tags": []
   },
   "outputs": [
    {
     "data": {
      "text/plain": [
       "array([ 0.00886822, -0.21286139,  8.83937039,  0.26895135,  0.49542797,\n",
       "       -0.0490515 ,  2.37417106,  0.39408627, -0.85740554,  0.29188781])"
      ]
     },
     "execution_count": 24,
     "metadata": {},
     "output_type": "execute_result"
    }
   ],
   "source": [
    "m"
   ]
  },
  {
   "cell_type": "code",
   "execution_count": 25,
   "metadata": {
    "papermill": {
     "duration": 0.029606,
     "end_time": "2020-11-16T18:42:09.348559",
     "exception": false,
     "start_time": "2020-11-16T18:42:09.318953",
     "status": "completed"
    },
    "tags": []
   },
   "outputs": [
    {
     "name": "stdout",
     "output_type": "stream",
     "text": [
      "Diatoms-1 0.00886822230889089\n",
      "Diatoms-2 -0.21286138636471635\n",
      "Cyanobacteria 8.839370391923\n",
      "Cryptophytes 0.26895135478875143\n",
      "Prasinophytes 0.4954279657135656\n",
      "Haptophytes -0.049051499996199135\n",
      "Dictyochophytes 2.374171056756315\n",
      "Dinoflagellates 0.3940862723050104\n",
      "Raphidophytes -0.8574055360964058\n",
      "ones 0.2918878074941152\n"
     ]
    }
   ],
   "source": [
    "clist=('Diatoms-1','Diatoms-2','Cyanobacteria','Cryptophytes','Prasinophytes','Haptophytes',\n",
    "        'Dictyochophytes','Dinoflagellates','Raphidophytes','ones')\n",
    "for c, mm in zip(clist,m):\n",
    "    print(c,mm)"
   ]
  },
  {
   "cell_type": "code",
   "execution_count": 26,
   "metadata": {
    "papermill": {
     "duration": 0.039195,
     "end_time": "2020-11-16T18:42:09.411593",
     "exception": false,
     "start_time": "2020-11-16T18:42:09.372398",
     "status": "completed"
    },
    "tags": []
   },
   "outputs": [],
   "source": [
    "ii=(~pd.isnull(data['mod_flagellates']))&(~pd.isnull(data['Diatoms-1']))&(~pd.isnull(data['Cyanobacteria']))&\\\n",
    "        (~pd.isnull(data['Cryptophytes']))&(~pd.isnull(data['Prasinophytes']))&(~pd.isnull(data['Haptophytes']))&\\\n",
    "        (~pd.isnull(data['Dictyochophytes']))&(~pd.isnull(data['Dinoflagellates']))&(~pd.isnull(data['Raphidophytes']))\n",
    "A=np.vstack([data.loc[ii]['Diatoms-1'],data.loc[ii]['Cyanobacteria'],data.loc[ii]['Cryptophytes'],\n",
    "               data.loc[ii]['Prasinophytes'],data.loc[ii]['Haptophytes'],data.loc[ii]['Dictyochophytes'],\n",
    "             data.loc[ii]['Dinoflagellates'],np.ones(np.shape(data.loc[ii]['Diatoms-1']))]).T\n",
    "b=data.loc[ii]['mod_flagellates']\n",
    "m=np.linalg.lstsq(A,b,rcond=None)[0]"
   ]
  },
  {
   "cell_type": "code",
   "execution_count": 27,
   "metadata": {
    "papermill": {
     "duration": 0.029498,
     "end_time": "2020-11-16T18:42:09.465405",
     "exception": false,
     "start_time": "2020-11-16T18:42:09.435907",
     "status": "completed"
    },
    "tags": []
   },
   "outputs": [
    {
     "name": "stdout",
     "output_type": "stream",
     "text": [
      "Diatoms-1 0.009991411362469773\n",
      "Cyanobacteria 8.849635029261417\n",
      "Cryptophytes 0.2726775025840442\n",
      "Prasinophytes 0.30564903335635785\n",
      "Haptophytes -0.07245010976488331\n",
      "Dictyochophytes 2.0926428145781455\n",
      "Dinoflagellates 0.3205712885751423\n",
      "ones 0.2472687399022515\n"
     ]
    }
   ],
   "source": [
    "clist=('Diatoms-1','Cyanobacteria','Cryptophytes','Prasinophytes','Haptophytes',\n",
    "        'Dictyochophytes','Dinoflagellates','ones')\n",
    "for c, mm in zip(clist,m):\n",
    "    print(c,mm)"
   ]
  },
  {
   "cell_type": "code",
   "execution_count": 28,
   "metadata": {
    "papermill": {
     "duration": 0.037213,
     "end_time": "2020-11-16T18:42:09.527008",
     "exception": false,
     "start_time": "2020-11-16T18:42:09.489795",
     "status": "completed"
    },
    "tags": []
   },
   "outputs": [],
   "source": [
    "ii=(~pd.isnull(data['mod_flagellates']))&(~pd.isnull(data['Cyanobacteria']))&\\\n",
    "        (~pd.isnull(data['Cryptophytes']))&(~pd.isnull(data['Prasinophytes']))&(~pd.isnull(data['Haptophytes']))&\\\n",
    "        (~pd.isnull(data['Dictyochophytes']))&(~pd.isnull(data['Raphidophytes']))\n",
    "A=np.vstack([data.loc[ii]['Cyanobacteria'],data.loc[ii]['Cryptophytes'],\n",
    "               data.loc[ii]['Prasinophytes'],data.loc[ii]['Haptophytes'],data.loc[ii]['Dictyochophytes'],\n",
    "             np.ones(np.shape(data.loc[ii]['Diatoms-1']))]).T\n",
    "b=data.loc[ii]['mod_flagellates']\n",
    "m=np.linalg.lstsq(A,b,rcond=None)[0]"
   ]
  },
  {
   "cell_type": "code",
   "execution_count": 29,
   "metadata": {
    "papermill": {
     "duration": 0.028887,
     "end_time": "2020-11-16T18:42:09.580969",
     "exception": false,
     "start_time": "2020-11-16T18:42:09.552082",
     "status": "completed"
    },
    "tags": []
   },
   "outputs": [
    {
     "name": "stdout",
     "output_type": "stream",
     "text": [
      "Cyanobacteria 8.165457620016463\n",
      "Cryptophytes 0.3285546004473828\n",
      "Prasinophytes 0.19550923716456112\n",
      "Haptophytes -0.02165695345381155\n",
      "Dictyochophytes 2.8790268218676207\n",
      "ones 0.2985904573017174\n"
     ]
    }
   ],
   "source": [
    "clist=('Cyanobacteria','Cryptophytes','Prasinophytes','Haptophytes',\n",
    "        'Dictyochophytes','ones')\n",
    "for c, mm in zip(clist,m):\n",
    "    print(c,mm)"
   ]
  },
  {
   "cell_type": "markdown",
   "metadata": {
    "papermill": {
     "duration": 0.023822,
     "end_time": "2020-11-16T18:42:09.628983",
     "exception": false,
     "start_time": "2020-11-16T18:42:09.605161",
     "status": "completed"
    },
    "tags": []
   },
   "source": [
    "#### M. rubrum"
   ]
  },
  {
   "cell_type": "code",
   "execution_count": 30,
   "metadata": {
    "papermill": {
     "duration": 0.041124,
     "end_time": "2020-11-16T18:42:09.693845",
     "exception": false,
     "start_time": "2020-11-16T18:42:09.652721",
     "status": "completed"
    },
    "tags": []
   },
   "outputs": [],
   "source": [
    "ii=(~pd.isnull(data['mod_ciliates']))&(~pd.isnull(data['Diatoms-1']))&(~pd.isnull(data['Diatoms-2']))&(~pd.isnull(data['Cyanobacteria']))&\\\n",
    "        (~pd.isnull(data['Cryptophytes']))&(~pd.isnull(data['Prasinophytes']))&(~pd.isnull(data['Haptophytes']))&\\\n",
    "        (~pd.isnull(data['Dictyochophytes']))&(~pd.isnull(data['Dinoflagellates']))&(~pd.isnull(data['Raphidophytes']))\n",
    "A=np.vstack([data.loc[ii]['Diatoms-1'],data.loc[ii]['Diatoms-2'],data.loc[ii]['Cyanobacteria'],data.loc[ii]['Cryptophytes'],\n",
    "               data.loc[ii]['Prasinophytes'],data.loc[ii]['Haptophytes'],data.loc[ii]['Dictyochophytes'],data.loc[ii]['Dinoflagellates'],\n",
    "             data.loc[ii]['Raphidophytes'],np.ones(np.shape(data.loc[ii]['Diatoms-1']))]).T\n",
    "b=data.loc[ii]['mod_ciliates']\n",
    "m=np.linalg.lstsq(A,b,rcond=None)[0]"
   ]
  },
  {
   "cell_type": "code",
   "execution_count": 31,
   "metadata": {
    "papermill": {
     "duration": 0.029538,
     "end_time": "2020-11-16T18:42:09.748410",
     "exception": false,
     "start_time": "2020-11-16T18:42:09.718872",
     "status": "completed"
    },
    "tags": []
   },
   "outputs": [
    {
     "name": "stdout",
     "output_type": "stream",
     "text": [
      "Diatoms-1 0.00948088688129159\n",
      "Diatoms-2 -0.08685983436028455\n",
      "Cyanobacteria 1.5199145871811364\n",
      "Cryptophytes 0.20741928688995184\n",
      "Prasinophytes -0.019662842402396734\n",
      "Haptophytes -0.007767124963180806\n",
      "Dictyochophytes -0.2744810226796523\n",
      "Dinoflagellates 0.003971941684653393\n",
      "Raphidophytes 0.08896177908124361\n",
      "ones 0.2938983299963624\n"
     ]
    }
   ],
   "source": [
    "clist=('Diatoms-1','Diatoms-2','Cyanobacteria','Cryptophytes','Prasinophytes','Haptophytes',\n",
    "        'Dictyochophytes','Dinoflagellates','Raphidophytes','ones')\n",
    "for c, mm in zip(clist,m):\n",
    "    print(c,mm)"
   ]
  },
  {
   "cell_type": "markdown",
   "metadata": {
    "papermill": {
     "duration": 0.024232,
     "end_time": "2020-11-16T18:42:09.797479",
     "exception": false,
     "start_time": "2020-11-16T18:42:09.773247",
     "status": "completed"
    },
    "tags": []
   },
   "source": [
    "Diatoms:\n",
    "- Cryptophytes 0.38\n",
    "- Diatoms-1 0.16\n",
    "- Raphidophytes 0.09\n",
    "\n",
    "Flagellates:\n",
    "- Cyanobacteria 0.9248939785743201\n",
    "- Cryptophytes 0.592769155988474\n",
    "- Prasinophytes 0.18975008147644779\n",
    "- Haptophytes 0.2794204846195845\n",
    "- Dictyochophytes 0.058845777018170356\n",
    "\n",
    "M. rubrum:\n",
    "- Cyanobacteria 0.2710109702166438\n",
    "\n",
    "None:\n",
    "- Diatoms-2\n",
    "- Dinoflagellates"
   ]
  },
  {
   "cell_type": "code",
   "execution_count": 32,
   "metadata": {
    "papermill": {
     "duration": 0.772311,
     "end_time": "2020-11-16T18:42:10.594089",
     "exception": false,
     "start_time": "2020-11-16T18:42:09.821778",
     "status": "completed"
    },
    "tags": []
   },
   "outputs": [
    {
     "data": {
      "text/plain": [
       "<matplotlib.legend.Legend at 0x7f14bb5b5e50>"
      ]
     },
     "execution_count": 32,
     "metadata": {},
     "output_type": "execute_result"
    },
    {
     "data": {
      "image/png": "[encoded data removed]",
      "text/plain": [
       "<Figure size 1080x504 with 10 Axes>"
      ]
     },
     "metadata": {
      "needs_background": "light"
     },
     "output_type": "display_data"
    }
   ],
   "source": [
    "fig,ax=plt.subplots(2,5,figsize=(15,7))\n",
    "fig.subplots_adjust(wspace=.4)\n",
    "ax=ax.flatten()\n",
    "\n",
    "chplc=('Diatoms-1', 'Diatoms-2','Cyanobacteria','Cryptophytes', 'Prasinophytes', \n",
    "       'Haptophytes',  'Dictyochophytes','Dinoflagellates','Raphidophytes','TchlA (ug/L)')\n",
    "\n",
    "mvar1=Chl_N*data['mod_diatoms']\n",
    "mvar2=Chl_N*data['mod_flagellates']\n",
    "\n",
    "for ii in range(0,len(chplc)):\n",
    "    ax[ii].plot(logt(data.loc[:,[chplc[ii]]].values),logt(mvar1),'.',color='blue',label='Diatoms')\n",
    "    ax[ii].plot(logt(data.loc[:,[chplc[ii]]].values),logt(mvar2),'.',color='red',label='Flagellates')\n",
    "    ax[ii].set_ylabel('Model Class')\n",
    "    ax[ii].set_xlabel(chplc[ii])\n",
    "    ax[ii].set_title('log10[Chl(mg/m3)+.001]')\n",
    "    ax[ii].plot((-3,1.5),(-3,1.5),'k-',alpha=.2)\n",
    "    ax[ii].set_xlim((-3,1.5))\n",
    "    ax[ii].set_ylim((-3,1.5))\n",
    "    ax[ii].set_aspect(1)\n",
    "ax[0].legend()\n"
   ]
  },
  {
   "cell_type": "code",
   "execution_count": 33,
   "metadata": {
    "papermill": {
     "duration": 0.268209,
     "end_time": "2020-11-16T18:42:10.891252",
     "exception": false,
     "start_time": "2020-11-16T18:42:10.623043",
     "status": "completed"
    },
    "tags": []
   },
   "outputs": [
    {
     "data": {
      "text/plain": [
       "(-3, 1.5)"
      ]
     },
     "execution_count": 33,
     "metadata": {},
     "output_type": "execute_result"
    },
    {
     "data": {
      "image/png": "[encoded data removed]",
      "text/plain": [
       "<Figure size 864x216 with 3 Axes>"
      ]
     },
     "metadata": {
      "needs_background": "light"
     },
     "output_type": "display_data"
    }
   ],
   "source": [
    "fig,ax=plt.subplots(1,3,figsize=(12,3))\n",
    "fig.subplots_adjust(wspace=.5)\n",
    "#ax[0].plot(logt(data['Diatoms-1']+data['Raphidophytes']+.5*data['Cryptophytes']),logt(data['mod_diatoms']),'r.')\n",
    "ax[0].plot(logt(data['Diatoms-1']+data['Raphidophytes']),logt(data['mod_diatoms']),'k.')\n",
    "ax[0].set_ylabel('Model diatoms')\n",
    "ax[0].set_xlabel('Diatoms1+Raphido')\n",
    "ax[0].set_title('log10[Chl(mg/m3)+.001]')\n",
    "ax[0].plot((-3,1.5),(-3,1.5),'k-',alpha=.2)\n",
    "ax[0].set_xlim((-3,1.5))\n",
    "ax[0].set_ylim((-3,1.5))\n",
    "\n",
    "ax[1].plot(logt(data['Cyanobacteria']+data['Cryptophytes']+data['Haptophytes']),logt(data['mod_flagellates']),'k.')\n",
    "ax[1].set_ylabel('Model flagellates')\n",
    "ax[1].set_xlabel('Cyano+Crypto+Hapto')\n",
    "ax[1].set_title('log10[Chl(mg/m3)+.001]')\n",
    "ax[1].plot((-3,1.5),(-3,1.5),'k-',alpha=.2)\n",
    "ax[1].set_xlim((-3,1.5))\n",
    "ax[1].set_ylim((-3,1.5))\n",
    "\n",
    "\n",
    "ax[2].plot(logt(data['Cyanobacteria']),logt(data['mod_ciliates']),'k.')\n",
    "ax[2].set_ylabel('Model M. rubrum')\n",
    "ax[2].set_xlabel('Cyano')\n",
    "ax[2].set_title('log10[Chl(mg/m3)+.001]')\n",
    "ax[2].plot((-3,1.5),(-3,1.5),'k-',alpha=.2)\n",
    "ax[2].set_xlim((-3,1.5))\n",
    "ax[2].set_ylim((-3,1.5))"
   ]
  },
  {
   "cell_type": "code",
   "execution_count": 34,
   "metadata": {
    "papermill": {
     "duration": 0.041143,
     "end_time": "2020-11-16T18:42:10.962296",
     "exception": false,
     "start_time": "2020-11-16T18:42:10.921153",
     "status": "completed"
    },
    "tags": []
   },
   "outputs": [],
   "source": [
    "data['mod_diatoms_chl']=Chl_N*data['mod_diatoms']\n",
    "data['mod_flagellates_chl']=Chl_N*data['mod_flagellates']\n",
    "data['mod_ciliates_chl']=Chl_N*data['mod_ciliates']\n",
    "data['mod_TChl']=data['mod_diatoms_chl']+data['mod_flagellates_chl']+data['mod_ciliates_chl']\n",
    "data['CCPH']=data['Cyanobacteria']+data['Cryptophytes']+data['Prasinophytes']+data['Haptophytes']\n",
    "data['DD']=data['Diatoms-1']+data['Diatoms-2']\n",
    "dfVars=data.loc[:,['Diatoms-1', 'Diatoms-2','Cyanobacteria','Cryptophytes', 'Prasinophytes', \n",
    "       'Haptophytes',  'Dictyochophytes','Dinoflagellates','Raphidophytes','DD','CCPH','TchlA (ug/L)',\n",
    "                   'mod_diatoms_chl','mod_flagellates_chl','mod_ciliates_chl','mod_TChl']]"
   ]
  },
  {
   "cell_type": "markdown",
   "metadata": {
    "papermill": {
     "duration": 0.027945,
     "end_time": "2020-11-16T18:42:11.019030",
     "exception": false,
     "start_time": "2020-11-16T18:42:10.991085",
     "status": "completed"
    },
    "tags": []
   },
   "source": [
    "### Variance-Covariance Matrix"
   ]
  },
  {
   "cell_type": "code",
   "execution_count": 35,
   "metadata": {
    "papermill": {
     "duration": 0.047712,
     "end_time": "2020-11-16T18:42:11.095141",
     "exception": false,
     "start_time": "2020-11-16T18:42:11.047429",
     "status": "completed"
    },
    "tags": []
   },
   "outputs": [
    {
     "data": {
      "text/html": [
       "<div>\n",
       "<style scoped>\n",
       "    .dataframe tbody tr th:only-of-type {\n",
       "        vertical-align: middle;\n",
       "    }\n",
       "\n",
       "    .dataframe tbody tr th {\n",
       "        vertical-align: top;\n",
       "    }\n",
       "\n",
       "    .dataframe thead th {\n",
       "        text-align: right;\n",
       "    }\n",
       "</style>\n",
       "<table border=\"1\" class=\"dataframe\">\n",
       "  <thead>\n",
       "    <tr style=\"text-align: right;\">\n",
       "      <th></th>\n",
       "      <th>Diatoms-1</th>\n",
       "      <th>Diatoms-2</th>\n",
       "      <th>Cyanobacteria</th>\n",
       "      <th>Cryptophytes</th>\n",
       "      <th>Prasinophytes</th>\n",
       "      <th>Haptophytes</th>\n",
       "      <th>Dictyochophytes</th>\n",
       "      <th>Dinoflagellates</th>\n",
       "      <th>Raphidophytes</th>\n",
       "      <th>DD</th>\n",
       "      <th>CCPH</th>\n",
       "      <th>TchlA (ug/L)</th>\n",
       "      <th>mod_diatoms_chl</th>\n",
       "      <th>mod_flagellates_chl</th>\n",
       "      <th>mod_ciliates_chl</th>\n",
       "      <th>mod_TChl</th>\n",
       "    </tr>\n",
       "  </thead>\n",
       "  <tbody>\n",
       "    <tr>\n",
       "      <th>Diatoms-1</th>\n",
       "      <td>28.980339</td>\n",
       "      <td>0.000725</td>\n",
       "      <td>-0.011834</td>\n",
       "      <td>-0.355219</td>\n",
       "      <td>-0.425118</td>\n",
       "      <td>0.333077</td>\n",
       "      <td>-0.047985</td>\n",
       "      <td>-0.118346</td>\n",
       "      <td>-0.147368</td>\n",
       "      <td>28.981063</td>\n",
       "      <td>-0.459094</td>\n",
       "      <td>28.208197</td>\n",
       "      <td>12.089422</td>\n",
       "      <td>-0.368011</td>\n",
       "      <td>0.339109</td>\n",
       "      <td>12.060520</td>\n",
       "    </tr>\n",
       "    <tr>\n",
       "      <th>Diatoms-2</th>\n",
       "      <td>0.000725</td>\n",
       "      <td>0.035508</td>\n",
       "      <td>-0.000647</td>\n",
       "      <td>-0.001112</td>\n",
       "      <td>-0.002439</td>\n",
       "      <td>-0.002373</td>\n",
       "      <td>-0.000318</td>\n",
       "      <td>0.002422</td>\n",
       "      <td>-0.002740</td>\n",
       "      <td>0.036233</td>\n",
       "      <td>-0.006570</td>\n",
       "      <td>0.029008</td>\n",
       "      <td>-0.028837</td>\n",
       "      <td>-0.021798</td>\n",
       "      <td>-0.007869</td>\n",
       "      <td>-0.058504</td>\n",
       "    </tr>\n",
       "    <tr>\n",
       "      <th>Cyanobacteria</th>\n",
       "      <td>-0.011834</td>\n",
       "      <td>-0.000647</td>\n",
       "      <td>0.000215</td>\n",
       "      <td>0.000761</td>\n",
       "      <td>0.001725</td>\n",
       "      <td>0.001224</td>\n",
       "      <td>0.000120</td>\n",
       "      <td>-0.000062</td>\n",
       "      <td>0.000620</td>\n",
       "      <td>-0.012480</td>\n",
       "      <td>0.003925</td>\n",
       "      <td>-0.007878</td>\n",
       "      <td>-0.009703</td>\n",
       "      <td>0.004790</td>\n",
       "      <td>0.000733</td>\n",
       "      <td>-0.004180</td>\n",
       "    </tr>\n",
       "    <tr>\n",
       "      <th>Cryptophytes</th>\n",
       "      <td>-0.355219</td>\n",
       "      <td>-0.001112</td>\n",
       "      <td>0.000761</td>\n",
       "      <td>0.042844</td>\n",
       "      <td>0.022165</td>\n",
       "      <td>0.002549</td>\n",
       "      <td>0.002220</td>\n",
       "      <td>0.015148</td>\n",
       "      <td>0.007549</td>\n",
       "      <td>-0.356331</td>\n",
       "      <td>0.068319</td>\n",
       "      <td>-0.263110</td>\n",
       "      <td>-0.238849</td>\n",
       "      <td>0.055731</td>\n",
       "      <td>0.011591</td>\n",
       "      <td>-0.171527</td>\n",
       "    </tr>\n",
       "    <tr>\n",
       "      <th>Prasinophytes</th>\n",
       "      <td>-0.425118</td>\n",
       "      <td>-0.002439</td>\n",
       "      <td>0.001725</td>\n",
       "      <td>0.022165</td>\n",
       "      <td>0.062551</td>\n",
       "      <td>0.006778</td>\n",
       "      <td>0.004266</td>\n",
       "      <td>0.003478</td>\n",
       "      <td>0.016774</td>\n",
       "      <td>-0.427557</td>\n",
       "      <td>0.093219</td>\n",
       "      <td>-0.309845</td>\n",
       "      <td>-0.270485</td>\n",
       "      <td>0.082317</td>\n",
       "      <td>0.004416</td>\n",
       "      <td>-0.183751</td>\n",
       "    </tr>\n",
       "    <tr>\n",
       "      <th>Haptophytes</th>\n",
       "      <td>0.333077</td>\n",
       "      <td>-0.002373</td>\n",
       "      <td>0.001224</td>\n",
       "      <td>0.002549</td>\n",
       "      <td>0.006778</td>\n",
       "      <td>0.121719</td>\n",
       "      <td>0.000633</td>\n",
       "      <td>0.005962</td>\n",
       "      <td>0.005668</td>\n",
       "      <td>0.330705</td>\n",
       "      <td>0.132270</td>\n",
       "      <td>0.475223</td>\n",
       "      <td>0.254895</td>\n",
       "      <td>0.020419</td>\n",
       "      <td>0.009051</td>\n",
       "      <td>0.284365</td>\n",
       "    </tr>\n",
       "    <tr>\n",
       "      <th>Dictyochophytes</th>\n",
       "      <td>-0.047985</td>\n",
       "      <td>-0.000318</td>\n",
       "      <td>0.000120</td>\n",
       "      <td>0.002220</td>\n",
       "      <td>0.004266</td>\n",
       "      <td>0.000633</td>\n",
       "      <td>0.000596</td>\n",
       "      <td>0.001722</td>\n",
       "      <td>0.001435</td>\n",
       "      <td>-0.048303</td>\n",
       "      <td>0.007238</td>\n",
       "      <td>-0.037314</td>\n",
       "      <td>-0.028729</td>\n",
       "      <td>0.007639</td>\n",
       "      <td>0.000176</td>\n",
       "      <td>-0.020915</td>\n",
       "    </tr>\n",
       "    <tr>\n",
       "      <th>Dinoflagellates</th>\n",
       "      <td>-0.118346</td>\n",
       "      <td>0.002422</td>\n",
       "      <td>-0.000062</td>\n",
       "      <td>0.015148</td>\n",
       "      <td>0.003478</td>\n",
       "      <td>0.005962</td>\n",
       "      <td>0.001722</td>\n",
       "      <td>0.018806</td>\n",
       "      <td>0.002599</td>\n",
       "      <td>-0.115923</td>\n",
       "      <td>0.024526</td>\n",
       "      <td>-0.068282</td>\n",
       "      <td>-0.095662</td>\n",
       "      <td>0.022801</td>\n",
       "      <td>0.002582</td>\n",
       "      <td>-0.070280</td>\n",
       "    </tr>\n",
       "    <tr>\n",
       "      <th>Raphidophytes</th>\n",
       "      <td>-0.147368</td>\n",
       "      <td>-0.002740</td>\n",
       "      <td>0.000620</td>\n",
       "      <td>0.007549</td>\n",
       "      <td>0.016774</td>\n",
       "      <td>0.005668</td>\n",
       "      <td>0.001435</td>\n",
       "      <td>0.002599</td>\n",
       "      <td>0.007684</td>\n",
       "      <td>-0.150108</td>\n",
       "      <td>0.030611</td>\n",
       "      <td>-0.107783</td>\n",
       "      <td>-0.099697</td>\n",
       "      <td>0.022786</td>\n",
       "      <td>0.002294</td>\n",
       "      <td>-0.074617</td>\n",
       "    </tr>\n",
       "    <tr>\n",
       "      <th>DD</th>\n",
       "      <td>28.981063</td>\n",
       "      <td>0.036233</td>\n",
       "      <td>-0.012480</td>\n",
       "      <td>-0.356331</td>\n",
       "      <td>-0.427557</td>\n",
       "      <td>0.330705</td>\n",
       "      <td>-0.048303</td>\n",
       "      <td>-0.115923</td>\n",
       "      <td>-0.150108</td>\n",
       "      <td>29.017296</td>\n",
       "      <td>-0.465664</td>\n",
       "      <td>28.237206</td>\n",
       "      <td>12.060585</td>\n",
       "      <td>-0.389808</td>\n",
       "      <td>0.331240</td>\n",
       "      <td>12.002017</td>\n",
       "    </tr>\n",
       "    <tr>\n",
       "      <th>CCPH</th>\n",
       "      <td>-0.459094</td>\n",
       "      <td>-0.006570</td>\n",
       "      <td>0.003925</td>\n",
       "      <td>0.068319</td>\n",
       "      <td>0.093219</td>\n",
       "      <td>0.132270</td>\n",
       "      <td>0.007238</td>\n",
       "      <td>0.024526</td>\n",
       "      <td>0.030611</td>\n",
       "      <td>-0.465664</td>\n",
       "      <td>0.297733</td>\n",
       "      <td>-0.105609</td>\n",
       "      <td>-0.264142</td>\n",
       "      <td>0.163258</td>\n",
       "      <td>0.025791</td>\n",
       "      <td>-0.075093</td>\n",
       "    </tr>\n",
       "    <tr>\n",
       "      <th>TchlA (ug/L)</th>\n",
       "      <td>28.208197</td>\n",
       "      <td>0.029008</td>\n",
       "      <td>-0.007878</td>\n",
       "      <td>-0.263110</td>\n",
       "      <td>-0.309845</td>\n",
       "      <td>0.475223</td>\n",
       "      <td>-0.037314</td>\n",
       "      <td>-0.068282</td>\n",
       "      <td>-0.107783</td>\n",
       "      <td>28.237206</td>\n",
       "      <td>-0.105609</td>\n",
       "      <td>27.918049</td>\n",
       "      <td>11.572339</td>\n",
       "      <td>-0.173339</td>\n",
       "      <td>0.362094</td>\n",
       "      <td>11.761095</td>\n",
       "    </tr>\n",
       "    <tr>\n",
       "      <th>mod_diatoms_chl</th>\n",
       "      <td>12.089422</td>\n",
       "      <td>-0.028837</td>\n",
       "      <td>-0.009703</td>\n",
       "      <td>-0.238849</td>\n",
       "      <td>-0.270485</td>\n",
       "      <td>0.254895</td>\n",
       "      <td>-0.028729</td>\n",
       "      <td>-0.095662</td>\n",
       "      <td>-0.099697</td>\n",
       "      <td>12.060585</td>\n",
       "      <td>-0.264142</td>\n",
       "      <td>11.572339</td>\n",
       "      <td>2.598823</td>\n",
       "      <td>0.102237</td>\n",
       "      <td>0.198762</td>\n",
       "      <td>2.899822</td>\n",
       "    </tr>\n",
       "    <tr>\n",
       "      <th>mod_flagellates_chl</th>\n",
       "      <td>-0.368011</td>\n",
       "      <td>-0.021798</td>\n",
       "      <td>0.004790</td>\n",
       "      <td>0.055731</td>\n",
       "      <td>0.082317</td>\n",
       "      <td>0.020419</td>\n",
       "      <td>0.007639</td>\n",
       "      <td>0.022801</td>\n",
       "      <td>0.022786</td>\n",
       "      <td>-0.389808</td>\n",
       "      <td>0.163258</td>\n",
       "      <td>-0.173339</td>\n",
       "      <td>0.102237</td>\n",
       "      <td>0.259254</td>\n",
       "      <td>0.090747</td>\n",
       "      <td>0.452238</td>\n",
       "    </tr>\n",
       "    <tr>\n",
       "      <th>mod_ciliates_chl</th>\n",
       "      <td>0.339109</td>\n",
       "      <td>-0.007869</td>\n",
       "      <td>0.000733</td>\n",
       "      <td>0.011591</td>\n",
       "      <td>0.004416</td>\n",
       "      <td>0.009051</td>\n",
       "      <td>0.000176</td>\n",
       "      <td>0.002582</td>\n",
       "      <td>0.002294</td>\n",
       "      <td>0.331240</td>\n",
       "      <td>0.025791</td>\n",
       "      <td>0.362094</td>\n",
       "      <td>0.198762</td>\n",
       "      <td>0.090747</td>\n",
       "      <td>0.074569</td>\n",
       "      <td>0.364078</td>\n",
       "    </tr>\n",
       "    <tr>\n",
       "      <th>mod_TChl</th>\n",
       "      <td>12.060520</td>\n",
       "      <td>-0.058504</td>\n",
       "      <td>-0.004180</td>\n",
       "      <td>-0.171527</td>\n",
       "      <td>-0.183751</td>\n",
       "      <td>0.284365</td>\n",
       "      <td>-0.020915</td>\n",
       "      <td>-0.070280</td>\n",
       "      <td>-0.074617</td>\n",
       "      <td>12.002017</td>\n",
       "      <td>-0.075093</td>\n",
       "      <td>11.761095</td>\n",
       "      <td>2.899822</td>\n",
       "      <td>0.452238</td>\n",
       "      <td>0.364078</td>\n",
       "      <td>3.716138</td>\n",
       "    </tr>\n",
       "  </tbody>\n",
       "</table>\n",
       "</div>"
      ],
      "text/plain": [
       "                     Diatoms-1  Diatoms-2  Cyanobacteria  Cryptophytes  \\\n",
       "Diatoms-1            28.980339   0.000725      -0.011834     -0.355219   \n",
       "Diatoms-2             0.000725   0.035508      -0.000647     -0.001112   \n",
       "Cyanobacteria        -0.011834  -0.000647       0.000215      0.000761   \n",
       "Cryptophytes         -0.355219  -0.001112       0.000761      0.042844   \n",
       "Prasinophytes        -0.425118  -0.002439       0.001725      0.022165   \n",
       "Haptophytes           0.333077  -0.002373       0.001224      0.002549   \n",
       "Dictyochophytes      -0.047985  -0.000318       0.000120      0.002220   \n",
       "Dinoflagellates      -0.118346   0.002422      -0.000062      0.015148   \n",
       "Raphidophytes        -0.147368  -0.002740       0.000620      0.007549   \n",
       "DD                   28.981063   0.036233      -0.012480     -0.356331   \n",
       "CCPH                 -0.459094  -0.006570       0.003925      0.068319   \n",
       "TchlA (ug/L)         28.208197   0.029008      -0.007878     -0.263110   \n",
       "mod_diatoms_chl      12.089422  -0.028837      -0.009703     -0.238849   \n",
       "mod_flagellates_chl  -0.368011  -0.021798       0.004790      0.055731   \n",
       "mod_ciliates_chl      0.339109  -0.007869       0.000733      0.011591   \n",
       "mod_TChl             12.060520  -0.058504      -0.004180     -0.171527   \n",
       "\n",
       "                     Prasinophytes  Haptophytes  Dictyochophytes  \\\n",
       "Diatoms-1                -0.425118     0.333077        -0.047985   \n",
       "Diatoms-2                -0.002439    -0.002373        -0.000318   \n",
       "Cyanobacteria             0.001725     0.001224         0.000120   \n",
       "Cryptophytes              0.022165     0.002549         0.002220   \n",
       "Prasinophytes             0.062551     0.006778         0.004266   \n",
       "Haptophytes               0.006778     0.121719         0.000633   \n",
       "Dictyochophytes           0.004266     0.000633         0.000596   \n",
       "Dinoflagellates           0.003478     0.005962         0.001722   \n",
       "Raphidophytes             0.016774     0.005668         0.001435   \n",
       "DD                       -0.427557     0.330705        -0.048303   \n",
       "CCPH                      0.093219     0.132270         0.007238   \n",
       "TchlA (ug/L)             -0.309845     0.475223        -0.037314   \n",
       "mod_diatoms_chl          -0.270485     0.254895        -0.028729   \n",
       "mod_flagellates_chl       0.082317     0.020419         0.007639   \n",
       "mod_ciliates_chl          0.004416     0.009051         0.000176   \n",
       "mod_TChl                 -0.183751     0.284365        -0.020915   \n",
       "\n",
       "                     Dinoflagellates  Raphidophytes         DD      CCPH  \\\n",
       "Diatoms-1                  -0.118346      -0.147368  28.981063 -0.459094   \n",
       "Diatoms-2                   0.002422      -0.002740   0.036233 -0.006570   \n",
       "Cyanobacteria              -0.000062       0.000620  -0.012480  0.003925   \n",
       "Cryptophytes                0.015148       0.007549  -0.356331  0.068319   \n",
       "Prasinophytes               0.003478       0.016774  -0.427557  0.093219   \n",
       "Haptophytes                 0.005962       0.005668   0.330705  0.132270   \n",
       "Dictyochophytes             0.001722       0.001435  -0.048303  0.007238   \n",
       "Dinoflagellates             0.018806       0.002599  -0.115923  0.024526   \n",
       "Raphidophytes               0.002599       0.007684  -0.150108  0.030611   \n",
       "DD                         -0.115923      -0.150108  29.017296 -0.465664   \n",
       "CCPH                        0.024526       0.030611  -0.465664  0.297733   \n",
       "TchlA (ug/L)               -0.068282      -0.107783  28.237206 -0.105609   \n",
       "mod_diatoms_chl            -0.095662      -0.099697  12.060585 -0.264142   \n",
       "mod_flagellates_chl         0.022801       0.022786  -0.389808  0.163258   \n",
       "mod_ciliates_chl            0.002582       0.002294   0.331240  0.025791   \n",
       "mod_TChl                   -0.070280      -0.074617  12.002017 -0.075093   \n",
       "\n",
       "                     TchlA (ug/L)  mod_diatoms_chl  mod_flagellates_chl  \\\n",
       "Diatoms-1               28.208197        12.089422            -0.368011   \n",
       "Diatoms-2                0.029008        -0.028837            -0.021798   \n",
       "Cyanobacteria           -0.007878        -0.009703             0.004790   \n",
       "Cryptophytes            -0.263110        -0.238849             0.055731   \n",
       "Prasinophytes           -0.309845        -0.270485             0.082317   \n",
       "Haptophytes              0.475223         0.254895             0.020419   \n",
       "Dictyochophytes         -0.037314        -0.028729             0.007639   \n",
       "Dinoflagellates         -0.068282        -0.095662             0.022801   \n",
       "Raphidophytes           -0.107783        -0.099697             0.022786   \n",
       "DD                      28.237206        12.060585            -0.389808   \n",
       "CCPH                    -0.105609        -0.264142             0.163258   \n",
       "TchlA (ug/L)            27.918049        11.572339            -0.173339   \n",
       "mod_diatoms_chl         11.572339         2.598823             0.102237   \n",
       "mod_flagellates_chl     -0.173339         0.102237             0.259254   \n",
       "mod_ciliates_chl         0.362094         0.198762             0.090747   \n",
       "mod_TChl                11.761095         2.899822             0.452238   \n",
       "\n",
       "                     mod_ciliates_chl   mod_TChl  \n",
       "Diatoms-1                    0.339109  12.060520  \n",
       "Diatoms-2                   -0.007869  -0.058504  \n",
       "Cyanobacteria                0.000733  -0.004180  \n",
       "Cryptophytes                 0.011591  -0.171527  \n",
       "Prasinophytes                0.004416  -0.183751  \n",
       "Haptophytes                  0.009051   0.284365  \n",
       "Dictyochophytes              0.000176  -0.020915  \n",
       "Dinoflagellates              0.002582  -0.070280  \n",
       "Raphidophytes                0.002294  -0.074617  \n",
       "DD                           0.331240  12.002017  \n",
       "CCPH                         0.025791  -0.075093  \n",
       "TchlA (ug/L)                 0.362094  11.761095  \n",
       "mod_diatoms_chl              0.198762   2.899822  \n",
       "mod_flagellates_chl          0.090747   0.452238  \n",
       "mod_ciliates_chl             0.074569   0.364078  \n",
       "mod_TChl                     0.364078   3.716138  "
      ]
     },
     "execution_count": 35,
     "metadata": {},
     "output_type": "execute_result"
    }
   ],
   "source": [
    "dfVars.cov()"
   ]
  },
  {
   "cell_type": "markdown",
   "metadata": {
    "papermill": {
     "duration": 0.029346,
     "end_time": "2020-11-16T18:42:11.153923",
     "exception": false,
     "start_time": "2020-11-16T18:42:11.124577",
     "status": "completed"
    },
    "tags": []
   },
   "source": [
    "### Correlation Coefficient Matrix"
   ]
  },
  {
   "cell_type": "code",
   "execution_count": 36,
   "metadata": {
    "papermill": {
     "duration": 0.046859,
     "end_time": "2020-11-16T18:42:11.230398",
     "exception": false,
     "start_time": "2020-11-16T18:42:11.183539",
     "status": "completed"
    },
    "tags": []
   },
   "outputs": [
    {
     "data": {
      "text/html": [
       "<div>\n",
       "<style scoped>\n",
       "    .dataframe tbody tr th:only-of-type {\n",
       "        vertical-align: middle;\n",
       "    }\n",
       "\n",
       "    .dataframe tbody tr th {\n",
       "        vertical-align: top;\n",
       "    }\n",
       "\n",
       "    .dataframe thead th {\n",
       "        text-align: right;\n",
       "    }\n",
       "</style>\n",
       "<table border=\"1\" class=\"dataframe\">\n",
       "  <thead>\n",
       "    <tr style=\"text-align: right;\">\n",
       "      <th></th>\n",
       "      <th>Diatoms-1</th>\n",
       "      <th>Diatoms-2</th>\n",
       "      <th>Cyanobacteria</th>\n",
       "      <th>Cryptophytes</th>\n",
       "      <th>Prasinophytes</th>\n",
       "      <th>Haptophytes</th>\n",
       "      <th>Dictyochophytes</th>\n",
       "      <th>Dinoflagellates</th>\n",
       "      <th>Raphidophytes</th>\n",
       "      <th>DD</th>\n",
       "      <th>CCPH</th>\n",
       "      <th>TchlA (ug/L)</th>\n",
       "      <th>mod_diatoms_chl</th>\n",
       "      <th>mod_flagellates_chl</th>\n",
       "      <th>mod_ciliates_chl</th>\n",
       "      <th>mod_TChl</th>\n",
       "    </tr>\n",
       "  </thead>\n",
       "  <tbody>\n",
       "    <tr>\n",
       "      <th>Diatoms-1</th>\n",
       "      <td>1.000000</td>\n",
       "      <td>0.000714</td>\n",
       "      <td>-0.149948</td>\n",
       "      <td>-0.318788</td>\n",
       "      <td>-0.315748</td>\n",
       "      <td>0.177343</td>\n",
       "      <td>-0.365245</td>\n",
       "      <td>-0.160305</td>\n",
       "      <td>-0.312282</td>\n",
       "      <td>0.999388</td>\n",
       "      <td>-0.156292</td>\n",
       "      <td>0.991702</td>\n",
       "      <td>0.709344</td>\n",
       "      <td>-0.092857</td>\n",
       "      <td>0.282530</td>\n",
       "      <td>0.706840</td>\n",
       "    </tr>\n",
       "    <tr>\n",
       "      <th>Diatoms-2</th>\n",
       "      <td>0.000714</td>\n",
       "      <td>1.000000</td>\n",
       "      <td>-0.234117</td>\n",
       "      <td>-0.028506</td>\n",
       "      <td>-0.051756</td>\n",
       "      <td>-0.036088</td>\n",
       "      <td>-0.069095</td>\n",
       "      <td>0.093739</td>\n",
       "      <td>-0.165887</td>\n",
       "      <td>0.035695</td>\n",
       "      <td>-0.063900</td>\n",
       "      <td>0.029135</td>\n",
       "      <td>-0.048339</td>\n",
       "      <td>-0.157129</td>\n",
       "      <td>-0.187290</td>\n",
       "      <td>-0.097955</td>\n",
       "    </tr>\n",
       "    <tr>\n",
       "      <th>Cyanobacteria</th>\n",
       "      <td>-0.149948</td>\n",
       "      <td>-0.234117</td>\n",
       "      <td>1.000000</td>\n",
       "      <td>0.250910</td>\n",
       "      <td>0.470519</td>\n",
       "      <td>0.239314</td>\n",
       "      <td>0.335389</td>\n",
       "      <td>-0.030621</td>\n",
       "      <td>0.482105</td>\n",
       "      <td>-0.158042</td>\n",
       "      <td>0.490727</td>\n",
       "      <td>-0.101703</td>\n",
       "      <td>-0.209067</td>\n",
       "      <td>0.443839</td>\n",
       "      <td>0.224166</td>\n",
       "      <td>-0.089967</td>\n",
       "    </tr>\n",
       "    <tr>\n",
       "      <th>Cryptophytes</th>\n",
       "      <td>-0.318788</td>\n",
       "      <td>-0.028506</td>\n",
       "      <td>0.250910</td>\n",
       "      <td>1.000000</td>\n",
       "      <td>0.428161</td>\n",
       "      <td>0.035300</td>\n",
       "      <td>0.439402</td>\n",
       "      <td>0.533641</td>\n",
       "      <td>0.416060</td>\n",
       "      <td>-0.319582</td>\n",
       "      <td>0.604902</td>\n",
       "      <td>-0.240576</td>\n",
       "      <td>-0.364489</td>\n",
       "      <td>0.365730</td>\n",
       "      <td>0.251163</td>\n",
       "      <td>-0.261455</td>\n",
       "    </tr>\n",
       "    <tr>\n",
       "      <th>Prasinophytes</th>\n",
       "      <td>-0.315748</td>\n",
       "      <td>-0.051756</td>\n",
       "      <td>0.470519</td>\n",
       "      <td>0.428161</td>\n",
       "      <td>1.000000</td>\n",
       "      <td>0.077677</td>\n",
       "      <td>0.698855</td>\n",
       "      <td>0.101412</td>\n",
       "      <td>0.765112</td>\n",
       "      <td>-0.317358</td>\n",
       "      <td>0.683082</td>\n",
       "      <td>-0.234468</td>\n",
       "      <td>-0.341609</td>\n",
       "      <td>0.447074</td>\n",
       "      <td>0.079200</td>\n",
       "      <td>-0.231804</td>\n",
       "    </tr>\n",
       "    <tr>\n",
       "      <th>Haptophytes</th>\n",
       "      <td>0.177343</td>\n",
       "      <td>-0.036088</td>\n",
       "      <td>0.239314</td>\n",
       "      <td>0.035300</td>\n",
       "      <td>0.077677</td>\n",
       "      <td>1.000000</td>\n",
       "      <td>0.074382</td>\n",
       "      <td>0.124604</td>\n",
       "      <td>0.185330</td>\n",
       "      <td>0.175967</td>\n",
       "      <td>0.694814</td>\n",
       "      <td>0.257795</td>\n",
       "      <td>0.230773</td>\n",
       "      <td>0.079501</td>\n",
       "      <td>0.116359</td>\n",
       "      <td>0.257160</td>\n",
       "    </tr>\n",
       "    <tr>\n",
       "      <th>Dictyochophytes</th>\n",
       "      <td>-0.365245</td>\n",
       "      <td>-0.069095</td>\n",
       "      <td>0.335389</td>\n",
       "      <td>0.439402</td>\n",
       "      <td>0.698855</td>\n",
       "      <td>0.074382</td>\n",
       "      <td>1.000000</td>\n",
       "      <td>0.514586</td>\n",
       "      <td>0.670920</td>\n",
       "      <td>-0.367429</td>\n",
       "      <td>0.543577</td>\n",
       "      <td>-0.289376</td>\n",
       "      <td>-0.371845</td>\n",
       "      <td>0.425185</td>\n",
       "      <td>0.032314</td>\n",
       "      <td>-0.270387</td>\n",
       "    </tr>\n",
       "    <tr>\n",
       "      <th>Dinoflagellates</th>\n",
       "      <td>-0.160305</td>\n",
       "      <td>0.093739</td>\n",
       "      <td>-0.030621</td>\n",
       "      <td>0.533641</td>\n",
       "      <td>0.101412</td>\n",
       "      <td>0.124604</td>\n",
       "      <td>0.514586</td>\n",
       "      <td>1.000000</td>\n",
       "      <td>0.216205</td>\n",
       "      <td>-0.156924</td>\n",
       "      <td>0.327762</td>\n",
       "      <td>-0.094235</td>\n",
       "      <td>-0.220339</td>\n",
       "      <td>0.225841</td>\n",
       "      <td>0.084446</td>\n",
       "      <td>-0.161690</td>\n",
       "    </tr>\n",
       "    <tr>\n",
       "      <th>Raphidophytes</th>\n",
       "      <td>-0.312282</td>\n",
       "      <td>-0.165887</td>\n",
       "      <td>0.482105</td>\n",
       "      <td>0.416060</td>\n",
       "      <td>0.765112</td>\n",
       "      <td>0.185330</td>\n",
       "      <td>0.670920</td>\n",
       "      <td>0.216205</td>\n",
       "      <td>1.000000</td>\n",
       "      <td>-0.317886</td>\n",
       "      <td>0.639973</td>\n",
       "      <td>-0.232705</td>\n",
       "      <td>-0.359237</td>\n",
       "      <td>0.353076</td>\n",
       "      <td>0.117373</td>\n",
       "      <td>-0.268560</td>\n",
       "    </tr>\n",
       "    <tr>\n",
       "      <th>DD</th>\n",
       "      <td>0.999388</td>\n",
       "      <td>0.035695</td>\n",
       "      <td>-0.158042</td>\n",
       "      <td>-0.319582</td>\n",
       "      <td>-0.317358</td>\n",
       "      <td>0.175967</td>\n",
       "      <td>-0.367429</td>\n",
       "      <td>-0.156924</td>\n",
       "      <td>-0.317886</td>\n",
       "      <td>1.000000</td>\n",
       "      <td>-0.158428</td>\n",
       "      <td>0.992089</td>\n",
       "      <td>0.707201</td>\n",
       "      <td>-0.098294</td>\n",
       "      <td>0.275798</td>\n",
       "      <td>0.702963</td>\n",
       "    </tr>\n",
       "    <tr>\n",
       "      <th>CCPH</th>\n",
       "      <td>-0.156292</td>\n",
       "      <td>-0.063900</td>\n",
       "      <td>0.490727</td>\n",
       "      <td>0.604902</td>\n",
       "      <td>0.683082</td>\n",
       "      <td>0.694814</td>\n",
       "      <td>0.543577</td>\n",
       "      <td>0.327762</td>\n",
       "      <td>0.639973</td>\n",
       "      <td>-0.158428</td>\n",
       "      <td>1.000000</td>\n",
       "      <td>-0.036631</td>\n",
       "      <td>-0.152907</td>\n",
       "      <td>0.406411</td>\n",
       "      <td>0.211999</td>\n",
       "      <td>-0.043420</td>\n",
       "    </tr>\n",
       "    <tr>\n",
       "      <th>TchlA (ug/L)</th>\n",
       "      <td>0.991702</td>\n",
       "      <td>0.029135</td>\n",
       "      <td>-0.101703</td>\n",
       "      <td>-0.240576</td>\n",
       "      <td>-0.234468</td>\n",
       "      <td>0.257795</td>\n",
       "      <td>-0.289376</td>\n",
       "      <td>-0.094235</td>\n",
       "      <td>-0.232705</td>\n",
       "      <td>0.992089</td>\n",
       "      <td>-0.036631</td>\n",
       "      <td>1.000000</td>\n",
       "      <td>0.691802</td>\n",
       "      <td>-0.044561</td>\n",
       "      <td>0.307366</td>\n",
       "      <td>0.702283</td>\n",
       "    </tr>\n",
       "    <tr>\n",
       "      <th>mod_diatoms_chl</th>\n",
       "      <td>0.709344</td>\n",
       "      <td>-0.048339</td>\n",
       "      <td>-0.209067</td>\n",
       "      <td>-0.364489</td>\n",
       "      <td>-0.341609</td>\n",
       "      <td>0.230773</td>\n",
       "      <td>-0.371845</td>\n",
       "      <td>-0.220339</td>\n",
       "      <td>-0.359237</td>\n",
       "      <td>0.707201</td>\n",
       "      <td>-0.152907</td>\n",
       "      <td>0.691802</td>\n",
       "      <td>1.000000</td>\n",
       "      <td>0.124554</td>\n",
       "      <td>0.451507</td>\n",
       "      <td>0.933119</td>\n",
       "    </tr>\n",
       "    <tr>\n",
       "      <th>mod_flagellates_chl</th>\n",
       "      <td>-0.092857</td>\n",
       "      <td>-0.157129</td>\n",
       "      <td>0.443839</td>\n",
       "      <td>0.365730</td>\n",
       "      <td>0.447074</td>\n",
       "      <td>0.079501</td>\n",
       "      <td>0.425185</td>\n",
       "      <td>0.225841</td>\n",
       "      <td>0.353076</td>\n",
       "      <td>-0.098294</td>\n",
       "      <td>0.406411</td>\n",
       "      <td>-0.044561</td>\n",
       "      <td>0.124554</td>\n",
       "      <td>1.000000</td>\n",
       "      <td>0.652663</td>\n",
       "      <td>0.460742</td>\n",
       "    </tr>\n",
       "    <tr>\n",
       "      <th>mod_ciliates_chl</th>\n",
       "      <td>0.282530</td>\n",
       "      <td>-0.187290</td>\n",
       "      <td>0.224166</td>\n",
       "      <td>0.251163</td>\n",
       "      <td>0.079200</td>\n",
       "      <td>0.116359</td>\n",
       "      <td>0.032314</td>\n",
       "      <td>0.084446</td>\n",
       "      <td>0.117373</td>\n",
       "      <td>0.275798</td>\n",
       "      <td>0.211999</td>\n",
       "      <td>0.307366</td>\n",
       "      <td>0.451507</td>\n",
       "      <td>0.652663</td>\n",
       "      <td>1.000000</td>\n",
       "      <td>0.691622</td>\n",
       "    </tr>\n",
       "    <tr>\n",
       "      <th>mod_TChl</th>\n",
       "      <td>0.706840</td>\n",
       "      <td>-0.097955</td>\n",
       "      <td>-0.089967</td>\n",
       "      <td>-0.261455</td>\n",
       "      <td>-0.231804</td>\n",
       "      <td>0.257160</td>\n",
       "      <td>-0.270387</td>\n",
       "      <td>-0.161690</td>\n",
       "      <td>-0.268560</td>\n",
       "      <td>0.702963</td>\n",
       "      <td>-0.043420</td>\n",
       "      <td>0.702283</td>\n",
       "      <td>0.933119</td>\n",
       "      <td>0.460742</td>\n",
       "      <td>0.691622</td>\n",
       "      <td>1.000000</td>\n",
       "    </tr>\n",
       "  </tbody>\n",
       "</table>\n",
       "</div>"
      ],
      "text/plain": [
       "                     Diatoms-1  Diatoms-2  Cyanobacteria  Cryptophytes  \\\n",
       "Diatoms-1             1.000000   0.000714      -0.149948     -0.318788   \n",
       "Diatoms-2             0.000714   1.000000      -0.234117     -0.028506   \n",
       "Cyanobacteria        -0.149948  -0.234117       1.000000      0.250910   \n",
       "Cryptophytes         -0.318788  -0.028506       0.250910      1.000000   \n",
       "Prasinophytes        -0.315748  -0.051756       0.470519      0.428161   \n",
       "Haptophytes           0.177343  -0.036088       0.239314      0.035300   \n",
       "Dictyochophytes      -0.365245  -0.069095       0.335389      0.439402   \n",
       "Dinoflagellates      -0.160305   0.093739      -0.030621      0.533641   \n",
       "Raphidophytes        -0.312282  -0.165887       0.482105      0.416060   \n",
       "DD                    0.999388   0.035695      -0.158042     -0.319582   \n",
       "CCPH                 -0.156292  -0.063900       0.490727      0.604902   \n",
       "TchlA (ug/L)          0.991702   0.029135      -0.101703     -0.240576   \n",
       "mod_diatoms_chl       0.709344  -0.048339      -0.209067     -0.364489   \n",
       "mod_flagellates_chl  -0.092857  -0.157129       0.443839      0.365730   \n",
       "mod_ciliates_chl      0.282530  -0.187290       0.224166      0.251163   \n",
       "mod_TChl              0.706840  -0.097955      -0.089967     -0.261455   \n",
       "\n",
       "                     Prasinophytes  Haptophytes  Dictyochophytes  \\\n",
       "Diatoms-1                -0.315748     0.177343        -0.365245   \n",
       "Diatoms-2                -0.051756    -0.036088        -0.069095   \n",
       "Cyanobacteria             0.470519     0.239314         0.335389   \n",
       "Cryptophytes              0.428161     0.035300         0.439402   \n",
       "Prasinophytes             1.000000     0.077677         0.698855   \n",
       "Haptophytes               0.077677     1.000000         0.074382   \n",
       "Dictyochophytes           0.698855     0.074382         1.000000   \n",
       "Dinoflagellates           0.101412     0.124604         0.514586   \n",
       "Raphidophytes             0.765112     0.185330         0.670920   \n",
       "DD                       -0.317358     0.175967        -0.367429   \n",
       "CCPH                      0.683082     0.694814         0.543577   \n",
       "TchlA (ug/L)             -0.234468     0.257795        -0.289376   \n",
       "mod_diatoms_chl          -0.341609     0.230773        -0.371845   \n",
       "mod_flagellates_chl       0.447074     0.079501         0.425185   \n",
       "mod_ciliates_chl          0.079200     0.116359         0.032314   \n",
       "mod_TChl                 -0.231804     0.257160        -0.270387   \n",
       "\n",
       "                     Dinoflagellates  Raphidophytes        DD      CCPH  \\\n",
       "Diatoms-1                  -0.160305      -0.312282  0.999388 -0.156292   \n",
       "Diatoms-2                   0.093739      -0.165887  0.035695 -0.063900   \n",
       "Cyanobacteria              -0.030621       0.482105 -0.158042  0.490727   \n",
       "Cryptophytes                0.533641       0.416060 -0.319582  0.604902   \n",
       "Prasinophytes               0.101412       0.765112 -0.317358  0.683082   \n",
       "Haptophytes                 0.124604       0.185330  0.175967  0.694814   \n",
       "Dictyochophytes             0.514586       0.670920 -0.367429  0.543577   \n",
       "Dinoflagellates             1.000000       0.216205 -0.156924  0.327762   \n",
       "Raphidophytes               0.216205       1.000000 -0.317886  0.639973   \n",
       "DD                         -0.156924      -0.317886  1.000000 -0.158428   \n",
       "CCPH                        0.327762       0.639973 -0.158428  1.000000   \n",
       "TchlA (ug/L)               -0.094235      -0.232705  0.992089 -0.036631   \n",
       "mod_diatoms_chl            -0.220339      -0.359237  0.707201 -0.152907   \n",
       "mod_flagellates_chl         0.225841       0.353076 -0.098294  0.406411   \n",
       "mod_ciliates_chl            0.084446       0.117373  0.275798  0.211999   \n",
       "mod_TChl                   -0.161690      -0.268560  0.702963 -0.043420   \n",
       "\n",
       "                     TchlA (ug/L)  mod_diatoms_chl  mod_flagellates_chl  \\\n",
       "Diatoms-1                0.991702         0.709344            -0.092857   \n",
       "Diatoms-2                0.029135        -0.048339            -0.157129   \n",
       "Cyanobacteria           -0.101703        -0.209067             0.443839   \n",
       "Cryptophytes            -0.240576        -0.364489             0.365730   \n",
       "Prasinophytes           -0.234468        -0.341609             0.447074   \n",
       "Haptophytes              0.257795         0.230773             0.079501   \n",
       "Dictyochophytes         -0.289376        -0.371845             0.425185   \n",
       "Dinoflagellates         -0.094235        -0.220339             0.225841   \n",
       "Raphidophytes           -0.232705        -0.359237             0.353076   \n",
       "DD                       0.992089         0.707201            -0.098294   \n",
       "CCPH                    -0.036631        -0.152907             0.406411   \n",
       "TchlA (ug/L)             1.000000         0.691802            -0.044561   \n",
       "mod_diatoms_chl          0.691802         1.000000             0.124554   \n",
       "mod_flagellates_chl     -0.044561         0.124554             1.000000   \n",
       "mod_ciliates_chl         0.307366         0.451507             0.652663   \n",
       "mod_TChl                 0.702283         0.933119             0.460742   \n",
       "\n",
       "                     mod_ciliates_chl  mod_TChl  \n",
       "Diatoms-1                    0.282530  0.706840  \n",
       "Diatoms-2                   -0.187290 -0.097955  \n",
       "Cyanobacteria                0.224166 -0.089967  \n",
       "Cryptophytes                 0.251163 -0.261455  \n",
       "Prasinophytes                0.079200 -0.231804  \n",
       "Haptophytes                  0.116359  0.257160  \n",
       "Dictyochophytes              0.032314 -0.270387  \n",
       "Dinoflagellates              0.084446 -0.161690  \n",
       "Raphidophytes                0.117373 -0.268560  \n",
       "DD                           0.275798  0.702963  \n",
       "CCPH                         0.211999 -0.043420  \n",
       "TchlA (ug/L)                 0.307366  0.702283  \n",
       "mod_diatoms_chl              0.451507  0.933119  \n",
       "mod_flagellates_chl          0.652663  0.460742  \n",
       "mod_ciliates_chl             1.000000  0.691622  \n",
       "mod_TChl                     0.691622  1.000000  "
      ]
     },
     "execution_count": 36,
     "metadata": {},
     "output_type": "execute_result"
    }
   ],
   "source": [
    "dfVars.corr()"
   ]
  },
  {
   "cell_type": "markdown",
   "metadata": {
    "papermill": {
     "duration": 0.029736,
     "end_time": "2020-11-16T18:42:11.290301",
     "exception": false,
     "start_time": "2020-11-16T18:42:11.260565",
     "status": "completed"
    },
    "tags": []
   },
   "source": [
    "### Cov matrix with log transformed values:"
   ]
  },
  {
   "cell_type": "code",
   "execution_count": 37,
   "metadata": {
    "papermill": {
     "duration": 0.056868,
     "end_time": "2020-11-16T18:42:11.377162",
     "exception": false,
     "start_time": "2020-11-16T18:42:11.320294",
     "status": "completed"
    },
    "tags": []
   },
   "outputs": [
    {
     "data": {
      "text/html": [
       "<div>\n",
       "<style scoped>\n",
       "    .dataframe tbody tr th:only-of-type {\n",
       "        vertical-align: middle;\n",
       "    }\n",
       "\n",
       "    .dataframe tbody tr th {\n",
       "        vertical-align: top;\n",
       "    }\n",
       "\n",
       "    .dataframe thead th {\n",
       "        text-align: right;\n",
       "    }\n",
       "</style>\n",
       "<table border=\"1\" class=\"dataframe\">\n",
       "  <thead>\n",
       "    <tr style=\"text-align: right;\">\n",
       "      <th></th>\n",
       "      <th>Diatoms-1</th>\n",
       "      <th>Diatoms-2</th>\n",
       "      <th>Cyanobacteria</th>\n",
       "      <th>Cryptophytes</th>\n",
       "      <th>Prasinophytes</th>\n",
       "      <th>Haptophytes</th>\n",
       "      <th>Dictyochophytes</th>\n",
       "      <th>Dinoflagellates</th>\n",
       "      <th>Raphidophytes</th>\n",
       "      <th>CCPH</th>\n",
       "      <th>TchlA (ug/L)</th>\n",
       "      <th>mod_diatoms_chl</th>\n",
       "      <th>mod_flagellates_chl</th>\n",
       "      <th>mod_ciliates_chl</th>\n",
       "      <th>mod_TChl</th>\n",
       "    </tr>\n",
       "  </thead>\n",
       "  <tbody>\n",
       "    <tr>\n",
       "      <th>Diatoms-1</th>\n",
       "      <td>0.499638</td>\n",
       "      <td>-0.196203</td>\n",
       "      <td>-0.052984</td>\n",
       "      <td>-0.164701</td>\n",
       "      <td>-0.413351</td>\n",
       "      <td>0.048845</td>\n",
       "      <td>-0.237909</td>\n",
       "      <td>-0.098421</td>\n",
       "      <td>-0.296364</td>\n",
       "      <td>-0.151862</td>\n",
       "      <td>0.296918</td>\n",
       "      <td>0.452866</td>\n",
       "      <td>0.036078</td>\n",
       "      <td>0.055502</td>\n",
       "      <td>0.197078</td>\n",
       "    </tr>\n",
       "    <tr>\n",
       "      <th>Diatoms-2</th>\n",
       "      <td>-0.196203</td>\n",
       "      <td>1.218432</td>\n",
       "      <td>-0.151914</td>\n",
       "      <td>0.077418</td>\n",
       "      <td>0.218363</td>\n",
       "      <td>-0.156461</td>\n",
       "      <td>0.107656</td>\n",
       "      <td>0.233686</td>\n",
       "      <td>-0.009668</td>\n",
       "      <td>0.113267</td>\n",
       "      <td>-0.135764</td>\n",
       "      <td>-0.189529</td>\n",
       "      <td>-0.078266</td>\n",
       "      <td>-0.009464</td>\n",
       "      <td>-0.124996</td>\n",
       "    </tr>\n",
       "    <tr>\n",
       "      <th>Cyanobacteria</th>\n",
       "      <td>-0.052984</td>\n",
       "      <td>-0.151914</td>\n",
       "      <td>0.363382</td>\n",
       "      <td>0.110137</td>\n",
       "      <td>0.184474</td>\n",
       "      <td>0.243283</td>\n",
       "      <td>0.129029</td>\n",
       "      <td>-0.001152</td>\n",
       "      <td>0.279141</td>\n",
       "      <td>0.156652</td>\n",
       "      <td>-0.010807</td>\n",
       "      <td>-0.011901</td>\n",
       "      <td>0.116947</td>\n",
       "      <td>0.049208</td>\n",
       "      <td>0.051036</td>\n",
       "    </tr>\n",
       "    <tr>\n",
       "      <th>Cryptophytes</th>\n",
       "      <td>-0.164701</td>\n",
       "      <td>0.077418</td>\n",
       "      <td>0.110137</td>\n",
       "      <td>0.365233</td>\n",
       "      <td>0.382114</td>\n",
       "      <td>0.239490</td>\n",
       "      <td>0.208582</td>\n",
       "      <td>0.238058</td>\n",
       "      <td>0.304807</td>\n",
       "      <td>0.347046</td>\n",
       "      <td>-0.086782</td>\n",
       "      <td>-0.197257</td>\n",
       "      <td>0.056782</td>\n",
       "      <td>-0.010848</td>\n",
       "      <td>-0.083342</td>\n",
       "    </tr>\n",
       "    <tr>\n",
       "      <th>Prasinophytes</th>\n",
       "      <td>-0.413351</td>\n",
       "      <td>0.218363</td>\n",
       "      <td>0.184474</td>\n",
       "      <td>0.382114</td>\n",
       "      <td>1.028052</td>\n",
       "      <td>0.281131</td>\n",
       "      <td>0.490563</td>\n",
       "      <td>0.384218</td>\n",
       "      <td>0.592364</td>\n",
       "      <td>0.423511</td>\n",
       "      <td>-0.190982</td>\n",
       "      <td>-0.636819</td>\n",
       "      <td>0.108291</td>\n",
       "      <td>-0.051378</td>\n",
       "      <td>-0.232235</td>\n",
       "    </tr>\n",
       "    <tr>\n",
       "      <th>Haptophytes</th>\n",
       "      <td>0.048845</td>\n",
       "      <td>-0.156461</td>\n",
       "      <td>0.243283</td>\n",
       "      <td>0.239490</td>\n",
       "      <td>0.281131</td>\n",
       "      <td>1.197202</td>\n",
       "      <td>0.076221</td>\n",
       "      <td>0.234966</td>\n",
       "      <td>0.284341</td>\n",
       "      <td>0.431452</td>\n",
       "      <td>0.111981</td>\n",
       "      <td>0.074946</td>\n",
       "      <td>0.168971</td>\n",
       "      <td>0.044857</td>\n",
       "      <td>0.104381</td>\n",
       "    </tr>\n",
       "    <tr>\n",
       "      <th>Dictyochophytes</th>\n",
       "      <td>-0.237909</td>\n",
       "      <td>0.107656</td>\n",
       "      <td>0.129029</td>\n",
       "      <td>0.208582</td>\n",
       "      <td>0.490563</td>\n",
       "      <td>0.076221</td>\n",
       "      <td>0.468250</td>\n",
       "      <td>0.247732</td>\n",
       "      <td>0.424464</td>\n",
       "      <td>0.216706</td>\n",
       "      <td>-0.101941</td>\n",
       "      <td>-0.262538</td>\n",
       "      <td>0.080421</td>\n",
       "      <td>-0.011466</td>\n",
       "      <td>-0.097984</td>\n",
       "    </tr>\n",
       "    <tr>\n",
       "      <th>Dinoflagellates</th>\n",
       "      <td>-0.098421</td>\n",
       "      <td>0.233686</td>\n",
       "      <td>-0.001152</td>\n",
       "      <td>0.238058</td>\n",
       "      <td>0.384218</td>\n",
       "      <td>0.234966</td>\n",
       "      <td>0.247732</td>\n",
       "      <td>0.860910</td>\n",
       "      <td>0.258878</td>\n",
       "      <td>0.266540</td>\n",
       "      <td>-0.013282</td>\n",
       "      <td>-0.146188</td>\n",
       "      <td>0.030643</td>\n",
       "      <td>-0.027937</td>\n",
       "      <td>-0.112980</td>\n",
       "    </tr>\n",
       "    <tr>\n",
       "      <th>Raphidophytes</th>\n",
       "      <td>-0.296364</td>\n",
       "      <td>-0.009668</td>\n",
       "      <td>0.279141</td>\n",
       "      <td>0.304807</td>\n",
       "      <td>0.592364</td>\n",
       "      <td>0.284341</td>\n",
       "      <td>0.424464</td>\n",
       "      <td>0.258878</td>\n",
       "      <td>0.789524</td>\n",
       "      <td>0.366785</td>\n",
       "      <td>-0.123373</td>\n",
       "      <td>-0.289627</td>\n",
       "      <td>0.094310</td>\n",
       "      <td>0.023895</td>\n",
       "      <td>-0.085894</td>\n",
       "    </tr>\n",
       "    <tr>\n",
       "      <th>CCPH</th>\n",
       "      <td>-0.151862</td>\n",
       "      <td>0.113267</td>\n",
       "      <td>0.156652</td>\n",
       "      <td>0.347046</td>\n",
       "      <td>0.423511</td>\n",
       "      <td>0.431452</td>\n",
       "      <td>0.216706</td>\n",
       "      <td>0.266540</td>\n",
       "      <td>0.366785</td>\n",
       "      <td>0.430558</td>\n",
       "      <td>-0.060245</td>\n",
       "      <td>-0.198449</td>\n",
       "      <td>0.072657</td>\n",
       "      <td>-0.007228</td>\n",
       "      <td>-0.069200</td>\n",
       "    </tr>\n",
       "    <tr>\n",
       "      <th>TchlA (ug/L)</th>\n",
       "      <td>0.296918</td>\n",
       "      <td>-0.135764</td>\n",
       "      <td>-0.010807</td>\n",
       "      <td>-0.086782</td>\n",
       "      <td>-0.190982</td>\n",
       "      <td>0.111981</td>\n",
       "      <td>-0.101941</td>\n",
       "      <td>-0.013282</td>\n",
       "      <td>-0.123373</td>\n",
       "      <td>-0.060245</td>\n",
       "      <td>0.214987</td>\n",
       "      <td>0.302937</td>\n",
       "      <td>0.052642</td>\n",
       "      <td>0.050801</td>\n",
       "      <td>0.147489</td>\n",
       "    </tr>\n",
       "    <tr>\n",
       "      <th>mod_diatoms_chl</th>\n",
       "      <td>0.452866</td>\n",
       "      <td>-0.189529</td>\n",
       "      <td>-0.011901</td>\n",
       "      <td>-0.197257</td>\n",
       "      <td>-0.636819</td>\n",
       "      <td>0.074946</td>\n",
       "      <td>-0.262538</td>\n",
       "      <td>-0.146188</td>\n",
       "      <td>-0.289627</td>\n",
       "      <td>-0.198449</td>\n",
       "      <td>0.302937</td>\n",
       "      <td>1.389235</td>\n",
       "      <td>0.623450</td>\n",
       "      <td>0.741600</td>\n",
       "      <td>0.874213</td>\n",
       "    </tr>\n",
       "    <tr>\n",
       "      <th>mod_flagellates_chl</th>\n",
       "      <td>0.036078</td>\n",
       "      <td>-0.078266</td>\n",
       "      <td>0.116947</td>\n",
       "      <td>0.056782</td>\n",
       "      <td>0.108291</td>\n",
       "      <td>0.168971</td>\n",
       "      <td>0.080421</td>\n",
       "      <td>0.030643</td>\n",
       "      <td>0.094310</td>\n",
       "      <td>0.072657</td>\n",
       "      <td>0.052642</td>\n",
       "      <td>0.623450</td>\n",
       "      <td>0.625631</td>\n",
       "      <td>0.618097</td>\n",
       "      <td>0.695436</td>\n",
       "    </tr>\n",
       "    <tr>\n",
       "      <th>mod_ciliates_chl</th>\n",
       "      <td>0.055502</td>\n",
       "      <td>-0.009464</td>\n",
       "      <td>0.049208</td>\n",
       "      <td>-0.010848</td>\n",
       "      <td>-0.051378</td>\n",
       "      <td>0.044857</td>\n",
       "      <td>-0.011466</td>\n",
       "      <td>-0.027937</td>\n",
       "      <td>0.023895</td>\n",
       "      <td>-0.007228</td>\n",
       "      <td>0.050801</td>\n",
       "      <td>0.741600</td>\n",
       "      <td>0.618097</td>\n",
       "      <td>0.710929</td>\n",
       "      <td>0.755270</td>\n",
       "    </tr>\n",
       "    <tr>\n",
       "      <th>mod_TChl</th>\n",
       "      <td>0.197078</td>\n",
       "      <td>-0.124996</td>\n",
       "      <td>0.051036</td>\n",
       "      <td>-0.083342</td>\n",
       "      <td>-0.232235</td>\n",
       "      <td>0.104381</td>\n",
       "      <td>-0.097984</td>\n",
       "      <td>-0.112980</td>\n",
       "      <td>-0.085894</td>\n",
       "      <td>-0.069200</td>\n",
       "      <td>0.147489</td>\n",
       "      <td>0.874213</td>\n",
       "      <td>0.695436</td>\n",
       "      <td>0.755270</td>\n",
       "      <td>0.853660</td>\n",
       "    </tr>\n",
       "  </tbody>\n",
       "</table>\n",
       "</div>"
      ],
      "text/plain": [
       "                     Diatoms-1  Diatoms-2  Cyanobacteria  Cryptophytes  \\\n",
       "Diatoms-1             0.499638  -0.196203      -0.052984     -0.164701   \n",
       "Diatoms-2            -0.196203   1.218432      -0.151914      0.077418   \n",
       "Cyanobacteria        -0.052984  -0.151914       0.363382      0.110137   \n",
       "Cryptophytes         -0.164701   0.077418       0.110137      0.365233   \n",
       "Prasinophytes        -0.413351   0.218363       0.184474      0.382114   \n",
       "Haptophytes           0.048845  -0.156461       0.243283      0.239490   \n",
       "Dictyochophytes      -0.237909   0.107656       0.129029      0.208582   \n",
       "Dinoflagellates      -0.098421   0.233686      -0.001152      0.238058   \n",
       "Raphidophytes        -0.296364  -0.009668       0.279141      0.304807   \n",
       "CCPH                 -0.151862   0.113267       0.156652      0.347046   \n",
       "TchlA (ug/L)          0.296918  -0.135764      -0.010807     -0.086782   \n",
       "mod_diatoms_chl       0.452866  -0.189529      -0.011901     -0.197257   \n",
       "mod_flagellates_chl   0.036078  -0.078266       0.116947      0.056782   \n",
       "mod_ciliates_chl      0.055502  -0.009464       0.049208     -0.010848   \n",
       "mod_TChl              0.197078  -0.124996       0.051036     -0.083342   \n",
       "\n",
       "                     Prasinophytes  Haptophytes  Dictyochophytes  \\\n",
       "Diatoms-1                -0.413351     0.048845        -0.237909   \n",
       "Diatoms-2                 0.218363    -0.156461         0.107656   \n",
       "Cyanobacteria             0.184474     0.243283         0.129029   \n",
       "Cryptophytes              0.382114     0.239490         0.208582   \n",
       "Prasinophytes             1.028052     0.281131         0.490563   \n",
       "Haptophytes               0.281131     1.197202         0.076221   \n",
       "Dictyochophytes           0.490563     0.076221         0.468250   \n",
       "Dinoflagellates           0.384218     0.234966         0.247732   \n",
       "Raphidophytes             0.592364     0.284341         0.424464   \n",
       "CCPH                      0.423511     0.431452         0.216706   \n",
       "TchlA (ug/L)             -0.190982     0.111981        -0.101941   \n",
       "mod_diatoms_chl          -0.636819     0.074946        -0.262538   \n",
       "mod_flagellates_chl       0.108291     0.168971         0.080421   \n",
       "mod_ciliates_chl         -0.051378     0.044857        -0.011466   \n",
       "mod_TChl                 -0.232235     0.104381        -0.097984   \n",
       "\n",
       "                     Dinoflagellates  Raphidophytes      CCPH  TchlA (ug/L)  \\\n",
       "Diatoms-1                  -0.098421      -0.296364 -0.151862      0.296918   \n",
       "Diatoms-2                   0.233686      -0.009668  0.113267     -0.135764   \n",
       "Cyanobacteria              -0.001152       0.279141  0.156652     -0.010807   \n",
       "Cryptophytes                0.238058       0.304807  0.347046     -0.086782   \n",
       "Prasinophytes               0.384218       0.592364  0.423511     -0.190982   \n",
       "Haptophytes                 0.234966       0.284341  0.431452      0.111981   \n",
       "Dictyochophytes             0.247732       0.424464  0.216706     -0.101941   \n",
       "Dinoflagellates             0.860910       0.258878  0.266540     -0.013282   \n",
       "Raphidophytes               0.258878       0.789524  0.366785     -0.123373   \n",
       "CCPH                        0.266540       0.366785  0.430558     -0.060245   \n",
       "TchlA (ug/L)               -0.013282      -0.123373 -0.060245      0.214987   \n",
       "mod_diatoms_chl            -0.146188      -0.289627 -0.198449      0.302937   \n",
       "mod_flagellates_chl         0.030643       0.094310  0.072657      0.052642   \n",
       "mod_ciliates_chl           -0.027937       0.023895 -0.007228      0.050801   \n",
       "mod_TChl                   -0.112980      -0.085894 -0.069200      0.147489   \n",
       "\n",
       "                     mod_diatoms_chl  mod_flagellates_chl  mod_ciliates_chl  \\\n",
       "Diatoms-1                   0.452866             0.036078          0.055502   \n",
       "Diatoms-2                  -0.189529            -0.078266         -0.009464   \n",
       "Cyanobacteria              -0.011901             0.116947          0.049208   \n",
       "Cryptophytes               -0.197257             0.056782         -0.010848   \n",
       "Prasinophytes              -0.636819             0.108291         -0.051378   \n",
       "Haptophytes                 0.074946             0.168971          0.044857   \n",
       "Dictyochophytes            -0.262538             0.080421         -0.011466   \n",
       "Dinoflagellates            -0.146188             0.030643         -0.027937   \n",
       "Raphidophytes              -0.289627             0.094310          0.023895   \n",
       "CCPH                       -0.198449             0.072657         -0.007228   \n",
       "TchlA (ug/L)                0.302937             0.052642          0.050801   \n",
       "mod_diatoms_chl             1.389235             0.623450          0.741600   \n",
       "mod_flagellates_chl         0.623450             0.625631          0.618097   \n",
       "mod_ciliates_chl            0.741600             0.618097          0.710929   \n",
       "mod_TChl                    0.874213             0.695436          0.755270   \n",
       "\n",
       "                     mod_TChl  \n",
       "Diatoms-1            0.197078  \n",
       "Diatoms-2           -0.124996  \n",
       "Cyanobacteria        0.051036  \n",
       "Cryptophytes        -0.083342  \n",
       "Prasinophytes       -0.232235  \n",
       "Haptophytes          0.104381  \n",
       "Dictyochophytes     -0.097984  \n",
       "Dinoflagellates     -0.112980  \n",
       "Raphidophytes       -0.085894  \n",
       "CCPH                -0.069200  \n",
       "TchlA (ug/L)         0.147489  \n",
       "mod_diatoms_chl      0.874213  \n",
       "mod_flagellates_chl  0.695436  \n",
       "mod_ciliates_chl     0.755270  \n",
       "mod_TChl             0.853660  "
      ]
     },
     "execution_count": 37,
     "metadata": {},
     "output_type": "execute_result"
    }
   ],
   "source": [
    "dflog=pd.DataFrame()\n",
    "for el in ['Diatoms-1', 'Diatoms-2','Cyanobacteria','Cryptophytes', 'Prasinophytes', \n",
    "       'Haptophytes',  'Dictyochophytes','Dinoflagellates','Raphidophytes','CCPH','TchlA (ug/L)',\n",
    "                   'mod_diatoms_chl','mod_flagellates_chl','mod_ciliates_chl','mod_TChl']:\n",
    "    dflog[el]=logt(data[el])\n",
    "dflog.cov()"
   ]
  },
  {
   "cell_type": "markdown",
   "metadata": {
    "papermill": {
     "duration": 0.030888,
     "end_time": "2020-11-16T18:42:11.438922",
     "exception": false,
     "start_time": "2020-11-16T18:42:11.408034",
     "status": "completed"
    },
    "tags": []
   },
   "source": [
    "### Corr Coeff matrix with log transformed values:"
   ]
  },
  {
   "cell_type": "code",
   "execution_count": 38,
   "metadata": {
    "papermill": {
     "duration": 0.047288,
     "end_time": "2020-11-16T18:42:11.517448",
     "exception": false,
     "start_time": "2020-11-16T18:42:11.470160",
     "status": "completed"
    },
    "tags": []
   },
   "outputs": [
    {
     "data": {
      "text/html": [
       "<div>\n",
       "<style scoped>\n",
       "    .dataframe tbody tr th:only-of-type {\n",
       "        vertical-align: middle;\n",
       "    }\n",
       "\n",
       "    .dataframe tbody tr th {\n",
       "        vertical-align: top;\n",
       "    }\n",
       "\n",
       "    .dataframe thead th {\n",
       "        text-align: right;\n",
       "    }\n",
       "</style>\n",
       "<table border=\"1\" class=\"dataframe\">\n",
       "  <thead>\n",
       "    <tr style=\"text-align: right;\">\n",
       "      <th></th>\n",
       "      <th>Diatoms-1</th>\n",
       "      <th>Diatoms-2</th>\n",
       "      <th>Cyanobacteria</th>\n",
       "      <th>Cryptophytes</th>\n",
       "      <th>Prasinophytes</th>\n",
       "      <th>Haptophytes</th>\n",
       "      <th>Dictyochophytes</th>\n",
       "      <th>Dinoflagellates</th>\n",
       "      <th>Raphidophytes</th>\n",
       "      <th>CCPH</th>\n",
       "      <th>TchlA (ug/L)</th>\n",
       "      <th>mod_diatoms_chl</th>\n",
       "      <th>mod_flagellates_chl</th>\n",
       "      <th>mod_ciliates_chl</th>\n",
       "      <th>mod_TChl</th>\n",
       "    </tr>\n",
       "  </thead>\n",
       "  <tbody>\n",
       "    <tr>\n",
       "      <th>Diatoms-1</th>\n",
       "      <td>1.000000</td>\n",
       "      <td>-0.251465</td>\n",
       "      <td>-0.124347</td>\n",
       "      <td>-0.385553</td>\n",
       "      <td>-0.576745</td>\n",
       "      <td>0.063155</td>\n",
       "      <td>-0.491864</td>\n",
       "      <td>-0.150066</td>\n",
       "      <td>-0.471863</td>\n",
       "      <td>-0.327420</td>\n",
       "      <td>0.905948</td>\n",
       "      <td>0.655014</td>\n",
       "      <td>0.089671</td>\n",
       "      <td>0.165728</td>\n",
       "      <td>0.430756</td>\n",
       "    </tr>\n",
       "    <tr>\n",
       "      <th>Diatoms-2</th>\n",
       "      <td>-0.251465</td>\n",
       "      <td>1.000000</td>\n",
       "      <td>-0.228305</td>\n",
       "      <td>0.116052</td>\n",
       "      <td>0.195106</td>\n",
       "      <td>-0.129545</td>\n",
       "      <td>0.142528</td>\n",
       "      <td>0.228167</td>\n",
       "      <td>-0.009857</td>\n",
       "      <td>0.156382</td>\n",
       "      <td>-0.265264</td>\n",
       "      <td>-0.175543</td>\n",
       "      <td>-0.124570</td>\n",
       "      <td>-0.018096</td>\n",
       "      <td>-0.174950</td>\n",
       "    </tr>\n",
       "    <tr>\n",
       "      <th>Cyanobacteria</th>\n",
       "      <td>-0.124347</td>\n",
       "      <td>-0.228305</td>\n",
       "      <td>1.000000</td>\n",
       "      <td>0.302320</td>\n",
       "      <td>0.301818</td>\n",
       "      <td>0.368847</td>\n",
       "      <td>0.312799</td>\n",
       "      <td>-0.002060</td>\n",
       "      <td>0.521146</td>\n",
       "      <td>0.396039</td>\n",
       "      <td>-0.038666</td>\n",
       "      <td>-0.020184</td>\n",
       "      <td>0.340837</td>\n",
       "      <td>0.172292</td>\n",
       "      <td>0.130801</td>\n",
       "    </tr>\n",
       "    <tr>\n",
       "      <th>Cryptophytes</th>\n",
       "      <td>-0.385553</td>\n",
       "      <td>0.116052</td>\n",
       "      <td>0.302320</td>\n",
       "      <td>1.000000</td>\n",
       "      <td>0.623592</td>\n",
       "      <td>0.362176</td>\n",
       "      <td>0.504375</td>\n",
       "      <td>0.424541</td>\n",
       "      <td>0.567619</td>\n",
       "      <td>0.875157</td>\n",
       "      <td>-0.309699</td>\n",
       "      <td>-0.333700</td>\n",
       "      <td>0.165069</td>\n",
       "      <td>-0.037885</td>\n",
       "      <td>-0.213059</td>\n",
       "    </tr>\n",
       "    <tr>\n",
       "      <th>Prasinophytes</th>\n",
       "      <td>-0.576745</td>\n",
       "      <td>0.195106</td>\n",
       "      <td>0.301818</td>\n",
       "      <td>0.623592</td>\n",
       "      <td>1.000000</td>\n",
       "      <td>0.253406</td>\n",
       "      <td>0.707048</td>\n",
       "      <td>0.408405</td>\n",
       "      <td>0.657504</td>\n",
       "      <td>0.636563</td>\n",
       "      <td>-0.406236</td>\n",
       "      <td>-0.642122</td>\n",
       "      <td>0.187641</td>\n",
       "      <td>-0.106949</td>\n",
       "      <td>-0.353868</td>\n",
       "    </tr>\n",
       "    <tr>\n",
       "      <th>Haptophytes</th>\n",
       "      <td>0.063155</td>\n",
       "      <td>-0.129545</td>\n",
       "      <td>0.368847</td>\n",
       "      <td>0.362176</td>\n",
       "      <td>0.253406</td>\n",
       "      <td>1.000000</td>\n",
       "      <td>0.101801</td>\n",
       "      <td>0.231442</td>\n",
       "      <td>0.292465</td>\n",
       "      <td>0.600943</td>\n",
       "      <td>0.220727</td>\n",
       "      <td>0.070028</td>\n",
       "      <td>0.271313</td>\n",
       "      <td>0.086528</td>\n",
       "      <td>0.147386</td>\n",
       "    </tr>\n",
       "    <tr>\n",
       "      <th>Dictyochophytes</th>\n",
       "      <td>-0.491864</td>\n",
       "      <td>0.142528</td>\n",
       "      <td>0.312799</td>\n",
       "      <td>0.504375</td>\n",
       "      <td>0.707048</td>\n",
       "      <td>0.101801</td>\n",
       "      <td>1.000000</td>\n",
       "      <td>0.390180</td>\n",
       "      <td>0.698104</td>\n",
       "      <td>0.482632</td>\n",
       "      <td>-0.321294</td>\n",
       "      <td>-0.392249</td>\n",
       "      <td>0.206478</td>\n",
       "      <td>-0.035366</td>\n",
       "      <td>-0.221226</td>\n",
       "    </tr>\n",
       "    <tr>\n",
       "      <th>Dinoflagellates</th>\n",
       "      <td>-0.150066</td>\n",
       "      <td>0.228167</td>\n",
       "      <td>-0.002060</td>\n",
       "      <td>0.424541</td>\n",
       "      <td>0.408405</td>\n",
       "      <td>0.231442</td>\n",
       "      <td>0.390180</td>\n",
       "      <td>1.000000</td>\n",
       "      <td>0.314003</td>\n",
       "      <td>0.437792</td>\n",
       "      <td>-0.030873</td>\n",
       "      <td>-0.161080</td>\n",
       "      <td>0.058022</td>\n",
       "      <td>-0.063550</td>\n",
       "      <td>-0.188124</td>\n",
       "    </tr>\n",
       "    <tr>\n",
       "      <th>Raphidophytes</th>\n",
       "      <td>-0.471863</td>\n",
       "      <td>-0.009857</td>\n",
       "      <td>0.521146</td>\n",
       "      <td>0.567619</td>\n",
       "      <td>0.657504</td>\n",
       "      <td>0.292465</td>\n",
       "      <td>0.698104</td>\n",
       "      <td>0.314003</td>\n",
       "      <td>1.000000</td>\n",
       "      <td>0.629091</td>\n",
       "      <td>-0.299455</td>\n",
       "      <td>-0.333247</td>\n",
       "      <td>0.186473</td>\n",
       "      <td>0.056760</td>\n",
       "      <td>-0.149348</td>\n",
       "    </tr>\n",
       "    <tr>\n",
       "      <th>CCPH</th>\n",
       "      <td>-0.327420</td>\n",
       "      <td>0.156382</td>\n",
       "      <td>0.396039</td>\n",
       "      <td>0.875157</td>\n",
       "      <td>0.636563</td>\n",
       "      <td>0.600943</td>\n",
       "      <td>0.482632</td>\n",
       "      <td>0.437792</td>\n",
       "      <td>0.629091</td>\n",
       "      <td>1.000000</td>\n",
       "      <td>-0.198014</td>\n",
       "      <td>-0.309201</td>\n",
       "      <td>0.194537</td>\n",
       "      <td>-0.023248</td>\n",
       "      <td>-0.162934</td>\n",
       "    </tr>\n",
       "    <tr>\n",
       "      <th>TchlA (ug/L)</th>\n",
       "      <td>0.905948</td>\n",
       "      <td>-0.265264</td>\n",
       "      <td>-0.038666</td>\n",
       "      <td>-0.309699</td>\n",
       "      <td>-0.406236</td>\n",
       "      <td>0.220727</td>\n",
       "      <td>-0.321294</td>\n",
       "      <td>-0.030873</td>\n",
       "      <td>-0.299455</td>\n",
       "      <td>-0.198014</td>\n",
       "      <td>1.000000</td>\n",
       "      <td>0.667967</td>\n",
       "      <td>0.199467</td>\n",
       "      <td>0.231248</td>\n",
       "      <td>0.491444</td>\n",
       "    </tr>\n",
       "    <tr>\n",
       "      <th>mod_diatoms_chl</th>\n",
       "      <td>0.655014</td>\n",
       "      <td>-0.175543</td>\n",
       "      <td>-0.020184</td>\n",
       "      <td>-0.333700</td>\n",
       "      <td>-0.642122</td>\n",
       "      <td>0.070028</td>\n",
       "      <td>-0.392249</td>\n",
       "      <td>-0.161080</td>\n",
       "      <td>-0.333247</td>\n",
       "      <td>-0.309201</td>\n",
       "      <td>0.667967</td>\n",
       "      <td>1.000000</td>\n",
       "      <td>0.668736</td>\n",
       "      <td>0.746223</td>\n",
       "      <td>0.802762</td>\n",
       "    </tr>\n",
       "    <tr>\n",
       "      <th>mod_flagellates_chl</th>\n",
       "      <td>0.089671</td>\n",
       "      <td>-0.124570</td>\n",
       "      <td>0.340837</td>\n",
       "      <td>0.165069</td>\n",
       "      <td>0.187641</td>\n",
       "      <td>0.271313</td>\n",
       "      <td>0.206478</td>\n",
       "      <td>0.058022</td>\n",
       "      <td>0.186473</td>\n",
       "      <td>0.194537</td>\n",
       "      <td>0.199467</td>\n",
       "      <td>0.668736</td>\n",
       "      <td>1.000000</td>\n",
       "      <td>0.926796</td>\n",
       "      <td>0.951602</td>\n",
       "    </tr>\n",
       "    <tr>\n",
       "      <th>mod_ciliates_chl</th>\n",
       "      <td>0.165728</td>\n",
       "      <td>-0.018096</td>\n",
       "      <td>0.172292</td>\n",
       "      <td>-0.037885</td>\n",
       "      <td>-0.106949</td>\n",
       "      <td>0.086528</td>\n",
       "      <td>-0.035366</td>\n",
       "      <td>-0.063550</td>\n",
       "      <td>0.056760</td>\n",
       "      <td>-0.023248</td>\n",
       "      <td>0.231248</td>\n",
       "      <td>0.746223</td>\n",
       "      <td>0.926796</td>\n",
       "      <td>1.000000</td>\n",
       "      <td>0.969498</td>\n",
       "    </tr>\n",
       "    <tr>\n",
       "      <th>mod_TChl</th>\n",
       "      <td>0.430756</td>\n",
       "      <td>-0.174950</td>\n",
       "      <td>0.130801</td>\n",
       "      <td>-0.213059</td>\n",
       "      <td>-0.353868</td>\n",
       "      <td>0.147386</td>\n",
       "      <td>-0.221226</td>\n",
       "      <td>-0.188124</td>\n",
       "      <td>-0.149348</td>\n",
       "      <td>-0.162934</td>\n",
       "      <td>0.491444</td>\n",
       "      <td>0.802762</td>\n",
       "      <td>0.951602</td>\n",
       "      <td>0.969498</td>\n",
       "      <td>1.000000</td>\n",
       "    </tr>\n",
       "  </tbody>\n",
       "</table>\n",
       "</div>"
      ],
      "text/plain": [
       "                     Diatoms-1  Diatoms-2  Cyanobacteria  Cryptophytes  \\\n",
       "Diatoms-1             1.000000  -0.251465      -0.124347     -0.385553   \n",
       "Diatoms-2            -0.251465   1.000000      -0.228305      0.116052   \n",
       "Cyanobacteria        -0.124347  -0.228305       1.000000      0.302320   \n",
       "Cryptophytes         -0.385553   0.116052       0.302320      1.000000   \n",
       "Prasinophytes        -0.576745   0.195106       0.301818      0.623592   \n",
       "Haptophytes           0.063155  -0.129545       0.368847      0.362176   \n",
       "Dictyochophytes      -0.491864   0.142528       0.312799      0.504375   \n",
       "Dinoflagellates      -0.150066   0.228167      -0.002060      0.424541   \n",
       "Raphidophytes        -0.471863  -0.009857       0.521146      0.567619   \n",
       "CCPH                 -0.327420   0.156382       0.396039      0.875157   \n",
       "TchlA (ug/L)          0.905948  -0.265264      -0.038666     -0.309699   \n",
       "mod_diatoms_chl       0.655014  -0.175543      -0.020184     -0.333700   \n",
       "mod_flagellates_chl   0.089671  -0.124570       0.340837      0.165069   \n",
       "mod_ciliates_chl      0.165728  -0.018096       0.172292     -0.037885   \n",
       "mod_TChl              0.430756  -0.174950       0.130801     -0.213059   \n",
       "\n",
       "                     Prasinophytes  Haptophytes  Dictyochophytes  \\\n",
       "Diatoms-1                -0.576745     0.063155        -0.491864   \n",
       "Diatoms-2                 0.195106    -0.129545         0.142528   \n",
       "Cyanobacteria             0.301818     0.368847         0.312799   \n",
       "Cryptophytes              0.623592     0.362176         0.504375   \n",
       "Prasinophytes             1.000000     0.253406         0.707048   \n",
       "Haptophytes               0.253406     1.000000         0.101801   \n",
       "Dictyochophytes           0.707048     0.101801         1.000000   \n",
       "Dinoflagellates           0.408405     0.231442         0.390180   \n",
       "Raphidophytes             0.657504     0.292465         0.698104   \n",
       "CCPH                      0.636563     0.600943         0.482632   \n",
       "TchlA (ug/L)             -0.406236     0.220727        -0.321294   \n",
       "mod_diatoms_chl          -0.642122     0.070028        -0.392249   \n",
       "mod_flagellates_chl       0.187641     0.271313         0.206478   \n",
       "mod_ciliates_chl         -0.106949     0.086528        -0.035366   \n",
       "mod_TChl                 -0.353868     0.147386        -0.221226   \n",
       "\n",
       "                     Dinoflagellates  Raphidophytes      CCPH  TchlA (ug/L)  \\\n",
       "Diatoms-1                  -0.150066      -0.471863 -0.327420      0.905948   \n",
       "Diatoms-2                   0.228167      -0.009857  0.156382     -0.265264   \n",
       "Cyanobacteria              -0.002060       0.521146  0.396039     -0.038666   \n",
       "Cryptophytes                0.424541       0.567619  0.875157     -0.309699   \n",
       "Prasinophytes               0.408405       0.657504  0.636563     -0.406236   \n",
       "Haptophytes                 0.231442       0.292465  0.600943      0.220727   \n",
       "Dictyochophytes             0.390180       0.698104  0.482632     -0.321294   \n",
       "Dinoflagellates             1.000000       0.314003  0.437792     -0.030873   \n",
       "Raphidophytes               0.314003       1.000000  0.629091     -0.299455   \n",
       "CCPH                        0.437792       0.629091  1.000000     -0.198014   \n",
       "TchlA (ug/L)               -0.030873      -0.299455 -0.198014      1.000000   \n",
       "mod_diatoms_chl            -0.161080      -0.333247 -0.309201      0.667967   \n",
       "mod_flagellates_chl         0.058022       0.186473  0.194537      0.199467   \n",
       "mod_ciliates_chl           -0.063550       0.056760 -0.023248      0.231248   \n",
       "mod_TChl                   -0.188124      -0.149348 -0.162934      0.491444   \n",
       "\n",
       "                     mod_diatoms_chl  mod_flagellates_chl  mod_ciliates_chl  \\\n",
       "Diatoms-1                   0.655014             0.089671          0.165728   \n",
       "Diatoms-2                  -0.175543            -0.124570         -0.018096   \n",
       "Cyanobacteria              -0.020184             0.340837          0.172292   \n",
       "Cryptophytes               -0.333700             0.165069         -0.037885   \n",
       "Prasinophytes              -0.642122             0.187641         -0.106949   \n",
       "Haptophytes                 0.070028             0.271313          0.086528   \n",
       "Dictyochophytes            -0.392249             0.206478         -0.035366   \n",
       "Dinoflagellates            -0.161080             0.058022         -0.063550   \n",
       "Raphidophytes              -0.333247             0.186473          0.056760   \n",
       "CCPH                       -0.309201             0.194537         -0.023248   \n",
       "TchlA (ug/L)                0.667967             0.199467          0.231248   \n",
       "mod_diatoms_chl             1.000000             0.668736          0.746223   \n",
       "mod_flagellates_chl         0.668736             1.000000          0.926796   \n",
       "mod_ciliates_chl            0.746223             0.926796          1.000000   \n",
       "mod_TChl                    0.802762             0.951602          0.969498   \n",
       "\n",
       "                     mod_TChl  \n",
       "Diatoms-1            0.430756  \n",
       "Diatoms-2           -0.174950  \n",
       "Cyanobacteria        0.130801  \n",
       "Cryptophytes        -0.213059  \n",
       "Prasinophytes       -0.353868  \n",
       "Haptophytes          0.147386  \n",
       "Dictyochophytes     -0.221226  \n",
       "Dinoflagellates     -0.188124  \n",
       "Raphidophytes       -0.149348  \n",
       "CCPH                -0.162934  \n",
       "TchlA (ug/L)         0.491444  \n",
       "mod_diatoms_chl      0.802762  \n",
       "mod_flagellates_chl  0.951602  \n",
       "mod_ciliates_chl     0.969498  \n",
       "mod_TChl             1.000000  "
      ]
     },
     "execution_count": 38,
     "metadata": {},
     "output_type": "execute_result"
    }
   ],
   "source": [
    "dflog.corr()"
   ]
  },
  {
   "cell_type": "markdown",
   "metadata": {
    "papermill": {
     "duration": 0.031356,
     "end_time": "2020-11-16T18:42:11.580122",
     "exception": false,
     "start_time": "2020-11-16T18:42:11.548766",
     "status": "completed"
    },
    "tags": []
   },
   "source": [
    "### New groups Model-Obs Comparison:"
   ]
  },
  {
   "cell_type": "code",
   "execution_count": 39,
   "metadata": {
    "papermill": {
     "duration": 0.459833,
     "end_time": "2020-11-16T18:42:12.072069",
     "exception": false,
     "start_time": "2020-11-16T18:42:11.612236",
     "status": "completed"
    },
    "tags": []
   },
   "outputs": [
    {
     "data": {
      "text/plain": [
       "<matplotlib.colorbar.Colorbar at 0x7f14b80c43a0>"
      ]
     },
     "execution_count": 39,
     "metadata": {},
     "output_type": "execute_result"
    },
    {
     "data": {
      "image/png": "[encoded data removed]",
      "text/plain": [
       "<Figure size 648x288 with 3 Axes>"
      ]
     },
     "metadata": {
      "needs_background": "light"
     },
     "output_type": "display_data"
    }
   ],
   "source": [
    "thresh=.8\n",
    "msize=20\n",
    "fig,ax=plt.subplots(1,2,figsize=(9,4))\n",
    "m=ax[0].scatter(logt(data['DD']),logt(data['mod_diatoms_chl']),\n",
    "          c=data['yd'],s=msize,cmap=cmocean.cm.phase,vmin=0,vmax=366)\n",
    "m=ax[1].scatter(logt(data['CCPH']),logt(data['mod_flagellates_chl']),\n",
    "          c=data['yd'],s=msize,cmap=cmocean.cm.phase,vmin=0,vmax=366)\n",
    "ax[0].set_xlim(-3,2)\n",
    "ax[0].set_ylim(-3,2)\n",
    "ax[1].set_xlim(-3,1.2)\n",
    "ax[1].set_ylim(-3,1.2)\n",
    "ax[0].set_xlabel('Diatoms 1 + Diatoms 2')\n",
    "ax[0].set_ylabel('Model Diatoms')\n",
    "ax[0].set_title('log10[Chl (mg/m$^3$)+.001]')\n",
    "ax[1].set_xlabel('cyano+crypto+prasino+hapto')\n",
    "ax[1].set_ylabel('Model flagellates')\n",
    "ax[1].set_title('log10[Chl (mg/m$^3$)+.001]')\n",
    "ax[0].plot((-3,2),(-3+thresh,2+thresh),'-',color='grey')\n",
    "ax[0].plot((-3,2),(-3-thresh,2-thresh),'-',color='grey')\n",
    "ax[1].plot((-3,2),(-3+thresh,2+thresh),'-',color='grey')\n",
    "ax[1].plot((-3,2),(-3-thresh,2-thresh),'-',color='grey')\n",
    "ax[0].plot((-3,2),(-3,2),'k-')\n",
    "ax[1].plot((-3,1.2),(-3,1.2),'k-')\n",
    "plt.tight_layout()\n",
    "fig.colorbar(m,ax=ax[1])"
   ]
  },
  {
   "cell_type": "code",
   "execution_count": 40,
   "metadata": {
    "papermill": {
     "duration": 0.456893,
     "end_time": "2020-11-16T18:42:12.563423",
     "exception": false,
     "start_time": "2020-11-16T18:42:12.106530",
     "status": "completed"
    },
    "tags": []
   },
   "outputs": [
    {
     "name": "stdout",
     "output_type": "stream",
     "text": [
      "Diatoms/DD\n"
     ]
    },
    {
     "data": {
      "image/png": "[encoded data removed]",
      "text/plain": [
       "<Figure size 864x288 with 4 Axes>"
      ]
     },
     "metadata": {
      "needs_background": "light"
     },
     "output_type": "display_data"
    }
   ],
   "source": [
    "print('Diatoms/DD')\n",
    "fig,ax=plt.subplots(1,4,figsize=(12,4),gridspec_kw={'width_ratios': [1,1,1,.1],'wspace':.5},)\n",
    "for iax in ax[0:3]:\n",
    "    iax.contour(navlon,navlat,tmask[0,:,:],levels=[0.5,],colors='gray')\n",
    "    iax.set_xlim(-125.3,-122.5)\n",
    "    iax.set_ylim(48,50.5)\n",
    "ihi=logt(data['mod_diatoms_chl'])>(logt(data['DD'])+thresh)\n",
    "ilo=logt(data['mod_diatoms_chl'])<(logt(data['DD'])-thresh)\n",
    "idata=data.loc[(data.DD>=0)&ihi]\n",
    "ax[0].scatter(idata.Lon,idata.Lat,c=idata.yd,s=msize,cmap=cmocean.cm.phase,vmin=0,vmax=366)\n",
    "ax[0].set_title('High\\n log(mod)>log(obs)+'+str(thresh))\n",
    "idata=data.loc[(data.DD>=0)&(~ihi)&(~ilo)]\n",
    "ax[1].scatter(idata.Lon,idata.Lat,c=idata.yd,s=msize,cmap=cmocean.cm.phase,vmin=0,vmax=366)\n",
    "ax[1].set_title('Medium\\n log(obs)-'+str(thresh)+'<log(mod)<log(obs)+'+str(thresh))\n",
    "idata=data.loc[(data.DD>=0)&ilo]\n",
    "m=ax[2].scatter(idata.Lon,idata.Lat,c=idata.yd,s=msize,cmap=cmocean.cm.phase,vmin=0,vmax=366)\n",
    "ax[2].set_title('Low\\n log(mod)<log(obs)-'+str(thresh));\n",
    "fig.colorbar(m,cax=ax[3]);"
   ]
  },
  {
   "cell_type": "code",
   "execution_count": 41,
   "metadata": {
    "papermill": {
     "duration": 0.501997,
     "end_time": "2020-11-16T18:42:13.103413",
     "exception": false,
     "start_time": "2020-11-16T18:42:12.601416",
     "status": "completed"
    },
    "tags": []
   },
   "outputs": [
    {
     "name": "stdout",
     "output_type": "stream",
     "text": [
      "Flagellates/CCPH\n"
     ]
    },
    {
     "data": {
      "image/png": "[encoded data removed]",
      "text/plain": [
       "<Figure size 864x288 with 4 Axes>"
      ]
     },
     "metadata": {
      "needs_background": "light"
     },
     "output_type": "display_data"
    }
   ],
   "source": [
    "print('Flagellates/CCPH')\n",
    "fig,ax=plt.subplots(1,4,figsize=(12,4),gridspec_kw={'width_ratios': [1,1,1,.1],'wspace':.5},)\n",
    "for iax in ax[0:3]:\n",
    "    iax.contour(navlon,navlat,tmask[0,:,:],levels=[0.5,],colors='gray')\n",
    "    iax.set_xlim(-125.3,-122.5)\n",
    "    iax.set_ylim(48,50.5)\n",
    "ihi=logt(data['mod_flagellates_chl'])>(logt(data['CCPH'])+thresh)\n",
    "ilo=logt(data['mod_flagellates_chl'])<(logt(data['CCPH'])-thresh)\n",
    "idata=data.loc[(data.CCPH>=0)&ihi]\n",
    "ax[0].scatter(idata.Lon,idata.Lat,c=idata.yd,s=msize,cmap=cmocean.cm.phase,vmin=0,vmax=366)\n",
    "ax[0].set_title('High\\n log(mod)>log(obs)+'+str(thresh))\n",
    "idata=data.loc[(data.CCPH>=0)&(~ihi)&(~ilo)]\n",
    "ax[1].scatter(idata.Lon,idata.Lat,c=idata.yd,s=msize,cmap=cmocean.cm.phase,vmin=0,vmax=366)\n",
    "ax[1].set_title('Medium\\n log(obs)-'+str(thresh)+'<log(mod)<log(obs)+'+str(thresh))\n",
    "idata=data.loc[(data.CCPH>=0)&ilo]\n",
    "m=ax[2].scatter(idata.Lon,idata.Lat,c=idata.yd,s=msize,cmap=cmocean.cm.phase,vmin=0,vmax=366)\n",
    "ax[2].set_title('Low\\n log(mod)<log(obs)-'+str(thresh));\n",
    "fig.colorbar(m,cax=ax[3]);"
   ]
  },
  {
   "cell_type": "markdown",
   "metadata": {
    "papermill": {
     "duration": 0.040191,
     "end_time": "2020-11-16T18:42:13.184382",
     "exception": false,
     "start_time": "2020-11-16T18:42:13.144191",
     "status": "completed"
    },
    "tags": []
   },
   "source": [
    "### Diatom fraction"
   ]
  },
  {
   "cell_type": "code",
   "execution_count": 42,
   "metadata": {
    "papermill": {
     "duration": 0.423081,
     "end_time": "2020-11-16T18:42:13.647382",
     "exception": false,
     "start_time": "2020-11-16T18:42:13.224301",
     "status": "completed"
    },
    "tags": []
   },
   "outputs": [
    {
     "data": {
      "text/plain": [
       "<matplotlib.colorbar.Colorbar at 0x7f14a4697760>"
      ]
     },
     "execution_count": 42,
     "metadata": {},
     "output_type": "execute_result"
    },
    {
     "data": {
      "image/png": "[encoded data removed]",
      "text/plain": [
       "<Figure size 864x288 with 3 Axes>"
      ]
     },
     "metadata": {
      "needs_background": "light"
     },
     "output_type": "display_data"
    }
   ],
   "source": [
    "fig,ax=plt.subplots(1,2,figsize=(12,4))\n",
    "diatFracMod=data['mod_diatoms']/(data['mod_diatoms']+data['mod_flagellates']+data['mod_ciliates'])\n",
    "diatFracObs=data['DD']/data['TchlA (ug/L)']\n",
    "m=ax[0].scatter(diatFracObs,diatFracMod,\n",
    "          c=data['yd'],cmap=cmocean.cm.phase,vmin=0,vmax=366,)\n",
    "ax[0].set_xlabel('HPLC Diatom Fraction')\n",
    "ax[0].set_ylabel('Model Diatom Fraction')\n",
    "ax[0].set_xlim((0,1))\n",
    "ax[0].set_ylim((0,1))\n",
    "flFracMod=data['mod_flagellates']/(data['mod_diatoms']+data['mod_flagellates']+data['mod_ciliates'])\n",
    "CCPHFracObs=data['CCPH']/data['TchlA (ug/L)']\n",
    "m=ax[1].scatter(CCPHFracObs,flFracMod,\n",
    "          c=data['yd'],cmap=cmocean.cm.phase,vmin=0,vmax=366,)\n",
    "ax[1].set_xlabel('HPLC Crypto Cyano Prasino Hapto Fraction')\n",
    "ax[1].set_ylabel('Model Flagellate Fraction')\n",
    "ax[1].set_xlim((0,1))\n",
    "ax[1].set_ylim((0,1))\n",
    "ax[0].set_aspect(1)\n",
    "ax[1].set_aspect(1)\n",
    "\n",
    "fig.colorbar(m)"
   ]
  },
  {
   "cell_type": "code",
   "execution_count": 43,
   "metadata": {
    "papermill": {
     "duration": 0.049321,
     "end_time": "2020-11-16T18:42:13.740352",
     "exception": false,
     "start_time": "2020-11-16T18:42:13.691031",
     "status": "completed"
    },
    "tags": []
   },
   "outputs": [],
   "source": [
    "#Reminder:\n",
    "np.random.seed(42)\n",
    "df = pd.DataFrame(np.random.randn(1000, 4),columns=['a', 'b', 'c','d'])\n",
    "df['a+b+c']=.2*df['a']+.3*df['b']+.45*df['c']"
   ]
  },
  {
   "cell_type": "code",
   "execution_count": 44,
   "metadata": {
    "papermill": {
     "duration": 0.051773,
     "end_time": "2020-11-16T18:42:13.835496",
     "exception": false,
     "start_time": "2020-11-16T18:42:13.783723",
     "status": "completed"
    },
    "tags": []
   },
   "outputs": [
    {
     "data": {
      "text/html": [
       "<div>\n",
       "<style scoped>\n",
       "    .dataframe tbody tr th:only-of-type {\n",
       "        vertical-align: middle;\n",
       "    }\n",
       "\n",
       "    .dataframe tbody tr th {\n",
       "        vertical-align: top;\n",
       "    }\n",
       "\n",
       "    .dataframe thead th {\n",
       "        text-align: right;\n",
       "    }\n",
       "</style>\n",
       "<table border=\"1\" class=\"dataframe\">\n",
       "  <thead>\n",
       "    <tr style=\"text-align: right;\">\n",
       "      <th></th>\n",
       "      <th>a</th>\n",
       "      <th>b</th>\n",
       "      <th>c</th>\n",
       "      <th>d</th>\n",
       "      <th>a+b+c</th>\n",
       "    </tr>\n",
       "  </thead>\n",
       "  <tbody>\n",
       "    <tr>\n",
       "      <th>a</th>\n",
       "      <td>0.929140</td>\n",
       "      <td>0.007946</td>\n",
       "      <td>-0.037053</td>\n",
       "      <td>-0.022301</td>\n",
       "      <td>0.171538</td>\n",
       "    </tr>\n",
       "    <tr>\n",
       "      <th>b</th>\n",
       "      <td>0.007946</td>\n",
       "      <td>1.023910</td>\n",
       "      <td>-0.032939</td>\n",
       "      <td>0.004689</td>\n",
       "      <td>0.293940</td>\n",
       "    </tr>\n",
       "    <tr>\n",
       "      <th>c</th>\n",
       "      <td>-0.037053</td>\n",
       "      <td>-0.032939</td>\n",
       "      <td>1.012188</td>\n",
       "      <td>0.034186</td>\n",
       "      <td>0.438192</td>\n",
       "    </tr>\n",
       "    <tr>\n",
       "      <th>d</th>\n",
       "      <td>-0.022301</td>\n",
       "      <td>0.004689</td>\n",
       "      <td>0.034186</td>\n",
       "      <td>1.013977</td>\n",
       "      <td>0.012330</td>\n",
       "    </tr>\n",
       "    <tr>\n",
       "      <th>a+b+c</th>\n",
       "      <td>0.171538</td>\n",
       "      <td>0.293940</td>\n",
       "      <td>0.438192</td>\n",
       "      <td>0.012330</td>\n",
       "      <td>0.319676</td>\n",
       "    </tr>\n",
       "  </tbody>\n",
       "</table>\n",
       "</div>"
      ],
      "text/plain": [
       "              a         b         c         d     a+b+c\n",
       "a      0.929140  0.007946 -0.037053 -0.022301  0.171538\n",
       "b      0.007946  1.023910 -0.032939  0.004689  0.293940\n",
       "c     -0.037053 -0.032939  1.012188  0.034186  0.438192\n",
       "d     -0.022301  0.004689  0.034186  1.013977  0.012330\n",
       "a+b+c  0.171538  0.293940  0.438192  0.012330  0.319676"
      ]
     },
     "execution_count": 44,
     "metadata": {},
     "output_type": "execute_result"
    }
   ],
   "source": [
    "df.cov()"
   ]
  },
  {
   "cell_type": "code",
   "execution_count": 45,
   "metadata": {
    "papermill": {
     "duration": 0.052549,
     "end_time": "2020-11-16T18:42:13.931358",
     "exception": false,
     "start_time": "2020-11-16T18:42:13.878809",
     "status": "completed"
    },
    "tags": []
   },
   "outputs": [
    {
     "data": {
      "text/html": [
       "<div>\n",
       "<style scoped>\n",
       "    .dataframe tbody tr th:only-of-type {\n",
       "        vertical-align: middle;\n",
       "    }\n",
       "\n",
       "    .dataframe tbody tr th {\n",
       "        vertical-align: top;\n",
       "    }\n",
       "\n",
       "    .dataframe thead th {\n",
       "        text-align: right;\n",
       "    }\n",
       "</style>\n",
       "<table border=\"1\" class=\"dataframe\">\n",
       "  <thead>\n",
       "    <tr style=\"text-align: right;\">\n",
       "      <th></th>\n",
       "      <th>a</th>\n",
       "      <th>b</th>\n",
       "      <th>c</th>\n",
       "      <th>d</th>\n",
       "      <th>a+b+c</th>\n",
       "    </tr>\n",
       "  </thead>\n",
       "  <tbody>\n",
       "    <tr>\n",
       "      <th>a</th>\n",
       "      <td>1.000000</td>\n",
       "      <td>0.008146</td>\n",
       "      <td>-0.038208</td>\n",
       "      <td>-0.022976</td>\n",
       "      <td>0.314749</td>\n",
       "    </tr>\n",
       "    <tr>\n",
       "      <th>b</th>\n",
       "      <td>0.008146</td>\n",
       "      <td>1.000000</td>\n",
       "      <td>-0.032355</td>\n",
       "      <td>0.004602</td>\n",
       "      <td>0.513774</td>\n",
       "    </tr>\n",
       "    <tr>\n",
       "      <th>c</th>\n",
       "      <td>-0.038208</td>\n",
       "      <td>-0.032355</td>\n",
       "      <td>1.000000</td>\n",
       "      <td>0.033745</td>\n",
       "      <td>0.770334</td>\n",
       "    </tr>\n",
       "    <tr>\n",
       "      <th>d</th>\n",
       "      <td>-0.022976</td>\n",
       "      <td>0.004602</td>\n",
       "      <td>0.033745</td>\n",
       "      <td>1.000000</td>\n",
       "      <td>0.021657</td>\n",
       "    </tr>\n",
       "    <tr>\n",
       "      <th>a+b+c</th>\n",
       "      <td>0.314749</td>\n",
       "      <td>0.513774</td>\n",
       "      <td>0.770334</td>\n",
       "      <td>0.021657</td>\n",
       "      <td>1.000000</td>\n",
       "    </tr>\n",
       "  </tbody>\n",
       "</table>\n",
       "</div>"
      ],
      "text/plain": [
       "              a         b         c         d     a+b+c\n",
       "a      1.000000  0.008146 -0.038208 -0.022976  0.314749\n",
       "b      0.008146  1.000000 -0.032355  0.004602  0.513774\n",
       "c     -0.038208 -0.032355  1.000000  0.033745  0.770334\n",
       "d     -0.022976  0.004602  0.033745  1.000000  0.021657\n",
       "a+b+c  0.314749  0.513774  0.770334  0.021657  1.000000"
      ]
     },
     "execution_count": 45,
     "metadata": {},
     "output_type": "execute_result"
    }
   ],
   "source": [
    "df.corr()"
   ]
  },
  {
   "cell_type": "code",
   "execution_count": 46,
   "metadata": {
    "papermill": {
     "duration": 0.049371,
     "end_time": "2020-11-16T18:42:14.024128",
     "exception": false,
     "start_time": "2020-11-16T18:42:13.974757",
     "status": "completed"
    },
    "tags": []
   },
   "outputs": [
    {
     "name": "stdout",
     "output_type": "stream",
     "text": [
      "[ 2.00000000e-01  3.00000000e-01  4.50000000e-01  1.52655666e-16\n",
      " -1.04083409e-16]\n"
     ]
    }
   ],
   "source": [
    "A=np.vstack([df['a'],df['b'],df['c'],df['d'],np.ones(np.shape(df['a']))]).T\n",
    "b=df['a+b+c']\n",
    "m=np.linalg.lstsq(A,b,rcond=None)[0]\n",
    "print(m)"
   ]
  }
 ],
 "metadata": {
  "celltoolbar": "Tags",
  "kernelspec": {
   "display_name": "Python (py38_ct)",
   "language": "python",
   "name": "py38_ct"
  },
  "language_info": {
   "codemirror_mode": {
    "name": "ipython",
    "version": 3
   },
   "file_extension": ".py",
   "mimetype": "text/x-python",
   "name": "python",
   "nbconvert_exporter": "python",
   "pygments_lexer": "ipython3",
   "version": "3.8.2"
  },
  "papermill": {
   "duration": 9.568817,
   "end_time": "2020-11-16T18:42:14.070214",
   "environment_variables": {},
   "exception": null,
   "input_path": "compHPLCModelFirstLook-Regress-Base.ipynb",
   "output_path": "compHPLCModelFirstLook-Regress-2018ES_LF-2017.ipynb",
   "parameters": {
    "Chl_N": 1.8,
    "end_date": [
     2017,
     6,
     30
    ],
    "fname": "compHPLCModelFirstLook-Regress-2018ES_LF-2017.ipynb",
    "modSourceDir": "/data/eolson/results/MEOPAR/SS36runs/GrahamRuns/2018ES_LF/",
    "mod_ver": "2018ES_LF",
    "start_date": [
     2017,
     1,
     1
    ]
   },
   "start_time": "2020-11-16T18:42:04.501397",
   "version": "2.0.0"
  }
 },
 "nbformat": 4,
 "nbformat_minor": 2
}
