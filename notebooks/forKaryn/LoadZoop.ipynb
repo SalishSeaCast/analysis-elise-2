{
 "cells": [
  {
   "cell_type": "code",
   "execution_count": 1,
   "metadata": {},
   "outputs": [],
   "source": [
    "import numpy as np\n",
    "import pandas as pd\n",
    "import matplotlib.pyplot as plt\n",
    "import datetime as dt\n",
    "\n",
    "%matplotlib inline"
   ]
  },
  {
   "cell_type": "code",
   "execution_count": 3,
   "metadata": {},
   "outputs": [
    {
     "name": "stdout",
     "output_type": "stream",
     "text": [
      "/ocean/ksuchy/MOAD/observe/Data and Code files for KS 2020dec11/2020_05_21 1995-2011 SoG VNH.csv\r\n"
     ]
    }
   ],
   "source": [
    "ls '/ocean/ksuchy/MOAD/observe/Data and Code files for KS 2020dec11/2020_05_21 1995-2011 SoG VNH.csv'"
   ]
  },
  {
   "cell_type": "code",
   "execution_count": 5,
   "metadata": {},
   "outputs": [],
   "source": [
    "df=pd.read_csv('/ocean/ksuchy/MOAD/observe/Data and Code files for KS 2020dec11/2020_05_21 2012-2015 SoG VNH.csv',\n",
    "               encoding = \"ISO-8859-1\")"
   ]
  },
  {
   "cell_type": "code",
   "execution_count": 6,
   "metadata": {},
   "outputs": [
    {
     "data": {
      "text/html": [
       "<div>\n",
       "<style scoped>\n",
       "    .dataframe tbody tr th:only-of-type {\n",
       "        vertical-align: middle;\n",
       "    }\n",
       "\n",
       "    .dataframe tbody tr th {\n",
       "        vertical-align: top;\n",
       "    }\n",
       "\n",
       "    .dataframe thead th {\n",
       "        text-align: right;\n",
       "    }\n",
       "</style>\n",
       "<table border=\"1\" class=\"dataframe\">\n",
       "  <thead>\n",
       "    <tr style=\"text-align: right;\">\n",
       "      <th></th>\n",
       "      <th>Key</th>\n",
       "      <th>region_name</th>\n",
       "      <th>Station</th>\n",
       "      <th>PROJECT</th>\n",
       "      <th>lon</th>\n",
       "      <th>lat</th>\n",
       "      <th>Date</th>\n",
       "      <th>STN_TIME</th>\n",
       "      <th>Twilight</th>\n",
       "      <th>Net_Type</th>\n",
       "      <th>...</th>\n",
       "      <th>Phylum:</th>\n",
       "      <th>Class:</th>\n",
       "      <th>Order:</th>\n",
       "      <th>Family:</th>\n",
       "      <th>Name</th>\n",
       "      <th>Abundance(#/m3)</th>\n",
       "      <th>Biomass(mg/m3)</th>\n",
       "      <th>NumberOfSpecies</th>\n",
       "      <th>Station Diversity</th>\n",
       "      <th>Station Equitability</th>\n",
       "    </tr>\n",
       "  </thead>\n",
       "  <tbody>\n",
       "    <tr>\n",
       "      <th>0</th>\n",
       "      <td>IOS2012005000901</td>\n",
       "      <td>Northern Strait of Georgia</td>\n",
       "      <td>22</td>\n",
       "      <td>Str. Geo.</td>\n",
       "      <td>-124.272</td>\n",
       "      <td>49.670</td>\n",
       "      <td>6/14/2012</td>\n",
       "      <td>7:32</td>\n",
       "      <td>Daylight</td>\n",
       "      <td>SCOR VNH</td>\n",
       "      <td>...</td>\n",
       "      <td>Arthropoda</td>\n",
       "      <td>Branchiopoda</td>\n",
       "      <td>Diplostraca</td>\n",
       "      <td>Podonidae</td>\n",
       "      <td>Podon *sp.  s1</td>\n",
       "      <td>12.22541</td>\n",
       "      <td>0.06113</td>\n",
       "      <td>51</td>\n",
       "      <td>2.63</td>\n",
       "      <td>0.67</td>\n",
       "    </tr>\n",
       "    <tr>\n",
       "      <th>1</th>\n",
       "      <td>IOS2012005000901</td>\n",
       "      <td>Northern Strait of Georgia</td>\n",
       "      <td>22</td>\n",
       "      <td>Str. Geo.</td>\n",
       "      <td>-124.272</td>\n",
       "      <td>49.670</td>\n",
       "      <td>6/14/2012</td>\n",
       "      <td>7:32</td>\n",
       "      <td>Daylight</td>\n",
       "      <td>SCOR VNH</td>\n",
       "      <td>...</td>\n",
       "      <td>Arthropoda</td>\n",
       "      <td>Cirripedia</td>\n",
       "      <td>Thecostraca</td>\n",
       "      <td>NaN</td>\n",
       "      <td>Cirripedia *sp. nauplii s1</td>\n",
       "      <td>30.56351</td>\n",
       "      <td>1.22254</td>\n",
       "      <td>51</td>\n",
       "      <td>2.63</td>\n",
       "      <td>0.67</td>\n",
       "    </tr>\n",
       "    <tr>\n",
       "      <th>2</th>\n",
       "      <td>IOS2012005000901</td>\n",
       "      <td>Northern Strait of Georgia</td>\n",
       "      <td>22</td>\n",
       "      <td>Str. Geo.</td>\n",
       "      <td>-124.272</td>\n",
       "      <td>49.670</td>\n",
       "      <td>6/14/2012</td>\n",
       "      <td>7:32</td>\n",
       "      <td>Daylight</td>\n",
       "      <td>SCOR VNH</td>\n",
       "      <td>...</td>\n",
       "      <td>Arthropoda</td>\n",
       "      <td>Malacostraca</td>\n",
       "      <td>Amphipoda</td>\n",
       "      <td>Hyperiidae</td>\n",
       "      <td>Themisto pacifica juvenile s1</td>\n",
       "      <td>6.11270</td>\n",
       "      <td>1.44871</td>\n",
       "      <td>51</td>\n",
       "      <td>2.63</td>\n",
       "      <td>0.67</td>\n",
       "    </tr>\n",
       "    <tr>\n",
       "      <th>3</th>\n",
       "      <td>IOS2012005000901</td>\n",
       "      <td>Northern Strait of Georgia</td>\n",
       "      <td>22</td>\n",
       "      <td>Str. Geo.</td>\n",
       "      <td>-124.272</td>\n",
       "      <td>49.670</td>\n",
       "      <td>6/14/2012</td>\n",
       "      <td>7:32</td>\n",
       "      <td>Daylight</td>\n",
       "      <td>SCOR VNH</td>\n",
       "      <td>...</td>\n",
       "      <td>Arthropoda</td>\n",
       "      <td>Malacostraca</td>\n",
       "      <td>Decapoda</td>\n",
       "      <td>NaN</td>\n",
       "      <td>Caridea *sp. zoea s1</td>\n",
       "      <td>3.05635</td>\n",
       "      <td>0.07030</td>\n",
       "      <td>51</td>\n",
       "      <td>2.63</td>\n",
       "      <td>0.67</td>\n",
       "    </tr>\n",
       "    <tr>\n",
       "      <th>4</th>\n",
       "      <td>IOS2012005000901</td>\n",
       "      <td>Northern Strait of Georgia</td>\n",
       "      <td>22</td>\n",
       "      <td>Str. Geo.</td>\n",
       "      <td>-124.272</td>\n",
       "      <td>49.670</td>\n",
       "      <td>6/14/2012</td>\n",
       "      <td>7:32</td>\n",
       "      <td>Daylight</td>\n",
       "      <td>SCOR VNH</td>\n",
       "      <td>...</td>\n",
       "      <td>Arthropoda</td>\n",
       "      <td>Malacostraca</td>\n",
       "      <td>Decapoda</td>\n",
       "      <td>Hippolytidae</td>\n",
       "      <td>Hippolytidae *sp. mysis s2</td>\n",
       "      <td>0.09551</td>\n",
       "      <td>0.06017</td>\n",
       "      <td>51</td>\n",
       "      <td>2.63</td>\n",
       "      <td>0.67</td>\n",
       "    </tr>\n",
       "    <tr>\n",
       "      <th>...</th>\n",
       "      <td>...</td>\n",
       "      <td>...</td>\n",
       "      <td>...</td>\n",
       "      <td>...</td>\n",
       "      <td>...</td>\n",
       "      <td>...</td>\n",
       "      <td>...</td>\n",
       "      <td>...</td>\n",
       "      <td>...</td>\n",
       "      <td>...</td>\n",
       "      <td>...</td>\n",
       "      <td>...</td>\n",
       "      <td>...</td>\n",
       "      <td>...</td>\n",
       "      <td>...</td>\n",
       "      <td>...</td>\n",
       "      <td>...</td>\n",
       "      <td>...</td>\n",
       "      <td>...</td>\n",
       "      <td>...</td>\n",
       "      <td>...</td>\n",
       "    </tr>\n",
       "    <tr>\n",
       "      <th>60225</th>\n",
       "      <td>SOO2015095000801</td>\n",
       "      <td>Tidal Mixed</td>\n",
       "      <td>MAC41</td>\n",
       "      <td>Citizen Science</td>\n",
       "      <td>-123.409</td>\n",
       "      <td>48.402</td>\n",
       "      <td>7/27/2015</td>\n",
       "      <td>13:00</td>\n",
       "      <td>Daylight</td>\n",
       "      <td>SCOR VNH</td>\n",
       "      <td>...</td>\n",
       "      <td>Ctenophora</td>\n",
       "      <td>Tentaculata</td>\n",
       "      <td>Cydippida</td>\n",
       "      <td>Pleurobrachiidae</td>\n",
       "      <td>Pleurobrachia bachei  s2</td>\n",
       "      <td>0.25316</td>\n",
       "      <td>0.31797</td>\n",
       "      <td>44</td>\n",
       "      <td>2.56</td>\n",
       "      <td>0.67</td>\n",
       "    </tr>\n",
       "    <tr>\n",
       "      <th>60226</th>\n",
       "      <td>SOO2015095000801</td>\n",
       "      <td>Tidal Mixed</td>\n",
       "      <td>MAC41</td>\n",
       "      <td>Citizen Science</td>\n",
       "      <td>-123.409</td>\n",
       "      <td>48.402</td>\n",
       "      <td>7/27/2015</td>\n",
       "      <td>13:00</td>\n",
       "      <td>Daylight</td>\n",
       "      <td>SCOR VNH</td>\n",
       "      <td>...</td>\n",
       "      <td>Ectoprocta</td>\n",
       "      <td>Gymnolaemata</td>\n",
       "      <td>NaN</td>\n",
       "      <td>NaN</td>\n",
       "      <td>Bryozoa *sp. cyphonautes s1</td>\n",
       "      <td>48.60759</td>\n",
       "      <td>0.06319</td>\n",
       "      <td>44</td>\n",
       "      <td>2.56</td>\n",
       "      <td>0.67</td>\n",
       "    </tr>\n",
       "    <tr>\n",
       "      <th>60227</th>\n",
       "      <td>SOO2015095000801</td>\n",
       "      <td>Tidal Mixed</td>\n",
       "      <td>MAC41</td>\n",
       "      <td>Citizen Science</td>\n",
       "      <td>-123.409</td>\n",
       "      <td>48.402</td>\n",
       "      <td>7/27/2015</td>\n",
       "      <td>13:00</td>\n",
       "      <td>Daylight</td>\n",
       "      <td>SCOR VNH</td>\n",
       "      <td>...</td>\n",
       "      <td>Mollusca</td>\n",
       "      <td>Bivalvia</td>\n",
       "      <td>Pholadomyoida</td>\n",
       "      <td>NaN</td>\n",
       "      <td>Bivalvia *sp. veligers s1</td>\n",
       "      <td>21.60338</td>\n",
       "      <td>0.01296</td>\n",
       "      <td>44</td>\n",
       "      <td>2.56</td>\n",
       "      <td>0.67</td>\n",
       "    </tr>\n",
       "    <tr>\n",
       "      <th>60228</th>\n",
       "      <td>SOO2015095000801</td>\n",
       "      <td>Tidal Mixed</td>\n",
       "      <td>MAC41</td>\n",
       "      <td>Citizen Science</td>\n",
       "      <td>-123.409</td>\n",
       "      <td>48.402</td>\n",
       "      <td>7/27/2015</td>\n",
       "      <td>13:00</td>\n",
       "      <td>Daylight</td>\n",
       "      <td>SCOR VNH</td>\n",
       "      <td>...</td>\n",
       "      <td>Mollusca</td>\n",
       "      <td>Cephalopoda</td>\n",
       "      <td>Teuthida</td>\n",
       "      <td>Gonatidae</td>\n",
       "      <td>Berryteuthis magister  s2</td>\n",
       "      <td>0.08439</td>\n",
       "      <td>0.46414</td>\n",
       "      <td>44</td>\n",
       "      <td>2.56</td>\n",
       "      <td>0.67</td>\n",
       "    </tr>\n",
       "    <tr>\n",
       "      <th>60229</th>\n",
       "      <td>SOO2015095000801</td>\n",
       "      <td>Tidal Mixed</td>\n",
       "      <td>MAC41</td>\n",
       "      <td>Citizen Science</td>\n",
       "      <td>-123.409</td>\n",
       "      <td>48.402</td>\n",
       "      <td>7/27/2015</td>\n",
       "      <td>13:00</td>\n",
       "      <td>Daylight</td>\n",
       "      <td>SCOR VNH</td>\n",
       "      <td>...</td>\n",
       "      <td>Mollusca</td>\n",
       "      <td>Gastropoda</td>\n",
       "      <td>NaN</td>\n",
       "      <td>NaN</td>\n",
       "      <td>Gastropoda *sp. veligers s1</td>\n",
       "      <td>10.80169</td>\n",
       "      <td>0.02808</td>\n",
       "      <td>44</td>\n",
       "      <td>2.56</td>\n",
       "      <td>0.67</td>\n",
       "    </tr>\n",
       "  </tbody>\n",
       "</table>\n",
       "<p>60230 rows × 29 columns</p>\n",
       "</div>"
      ],
      "text/plain": [
       "                    Key                 region_name Station          PROJECT  \\\n",
       "0      IOS2012005000901  Northern Strait of Georgia      22        Str. Geo.   \n",
       "1      IOS2012005000901  Northern Strait of Georgia      22        Str. Geo.   \n",
       "2      IOS2012005000901  Northern Strait of Georgia      22        Str. Geo.   \n",
       "3      IOS2012005000901  Northern Strait of Georgia      22        Str. Geo.   \n",
       "4      IOS2012005000901  Northern Strait of Georgia      22        Str. Geo.   \n",
       "...                 ...                         ...     ...              ...   \n",
       "60225  SOO2015095000801                 Tidal Mixed   MAC41  Citizen Science   \n",
       "60226  SOO2015095000801                 Tidal Mixed   MAC41  Citizen Science   \n",
       "60227  SOO2015095000801                 Tidal Mixed   MAC41  Citizen Science   \n",
       "60228  SOO2015095000801                 Tidal Mixed   MAC41  Citizen Science   \n",
       "60229  SOO2015095000801                 Tidal Mixed   MAC41  Citizen Science   \n",
       "\n",
       "           lon     lat       Date STN_TIME  Twilight  Net_Type  ...  \\\n",
       "0     -124.272  49.670  6/14/2012     7:32  Daylight  SCOR VNH  ...   \n",
       "1     -124.272  49.670  6/14/2012     7:32  Daylight  SCOR VNH  ...   \n",
       "2     -124.272  49.670  6/14/2012     7:32  Daylight  SCOR VNH  ...   \n",
       "3     -124.272  49.670  6/14/2012     7:32  Daylight  SCOR VNH  ...   \n",
       "4     -124.272  49.670  6/14/2012     7:32  Daylight  SCOR VNH  ...   \n",
       "...        ...     ...        ...      ...       ...       ...  ...   \n",
       "60225 -123.409  48.402  7/27/2015    13:00  Daylight  SCOR VNH  ...   \n",
       "60226 -123.409  48.402  7/27/2015    13:00  Daylight  SCOR VNH  ...   \n",
       "60227 -123.409  48.402  7/27/2015    13:00  Daylight  SCOR VNH  ...   \n",
       "60228 -123.409  48.402  7/27/2015    13:00  Daylight  SCOR VNH  ...   \n",
       "60229 -123.409  48.402  7/27/2015    13:00  Daylight  SCOR VNH  ...   \n",
       "\n",
       "          Phylum:        Class:         Order:           Family:  \\\n",
       "0      Arthropoda  Branchiopoda    Diplostraca         Podonidae   \n",
       "1      Arthropoda    Cirripedia    Thecostraca               NaN   \n",
       "2      Arthropoda  Malacostraca      Amphipoda        Hyperiidae   \n",
       "3      Arthropoda  Malacostraca       Decapoda               NaN   \n",
       "4      Arthropoda  Malacostraca       Decapoda      Hippolytidae   \n",
       "...           ...           ...            ...               ...   \n",
       "60225  Ctenophora   Tentaculata      Cydippida  Pleurobrachiidae   \n",
       "60226  Ectoprocta  Gymnolaemata            NaN               NaN   \n",
       "60227    Mollusca      Bivalvia  Pholadomyoida               NaN   \n",
       "60228    Mollusca   Cephalopoda       Teuthida         Gonatidae   \n",
       "60229    Mollusca    Gastropoda            NaN               NaN   \n",
       "\n",
       "                                Name  Abundance(#/m3)  Biomass(mg/m3)  \\\n",
       "0                     Podon *sp.  s1         12.22541         0.06113   \n",
       "1         Cirripedia *sp. nauplii s1         30.56351         1.22254   \n",
       "2      Themisto pacifica juvenile s1          6.11270         1.44871   \n",
       "3               Caridea *sp. zoea s1          3.05635         0.07030   \n",
       "4         Hippolytidae *sp. mysis s2          0.09551         0.06017   \n",
       "...                              ...              ...             ...   \n",
       "60225       Pleurobrachia bachei  s2          0.25316         0.31797   \n",
       "60226    Bryozoa *sp. cyphonautes s1         48.60759         0.06319   \n",
       "60227      Bivalvia *sp. veligers s1         21.60338         0.01296   \n",
       "60228      Berryteuthis magister  s2          0.08439         0.46414   \n",
       "60229    Gastropoda *sp. veligers s1         10.80169         0.02808   \n",
       "\n",
       "      NumberOfSpecies Station Diversity Station Equitability  \n",
       "0                  51              2.63                 0.67  \n",
       "1                  51              2.63                 0.67  \n",
       "2                  51              2.63                 0.67  \n",
       "3                  51              2.63                 0.67  \n",
       "4                  51              2.63                 0.67  \n",
       "...               ...               ...                  ...  \n",
       "60225              44              2.56                 0.67  \n",
       "60226              44              2.56                 0.67  \n",
       "60227              44              2.56                 0.67  \n",
       "60228              44              2.56                 0.67  \n",
       "60229              44              2.56                 0.67  \n",
       "\n",
       "[60230 rows x 29 columns]"
      ]
     },
     "execution_count": 6,
     "metadata": {},
     "output_type": "execute_result"
    }
   ],
   "source": [
    "df"
   ]
  },
  {
   "cell_type": "code",
   "execution_count": 7,
   "metadata": {},
   "outputs": [
    {
     "data": {
      "text/plain": [
       "Index(['Key', 'region_name', 'Station', 'PROJECT', 'lon', 'lat', 'Date',\n",
       "       'STN_TIME', 'Twilight', 'Net_Type', 'Mesh_Size(um)', 'Net_Mouth_Dia(m)',\n",
       "       'DEPTH_STRT1', 'DEPTH_END1', 'Bottom Depth(m)', 'Volume Filtered(m3)',\n",
       "       'CTD', 'NOTES', 'PI', 'Phylum:', 'Class:', 'Order:', 'Family:', 'Name',\n",
       "       'Abundance(#/m3)', 'Biomass(mg/m3)', 'NumberOfSpecies',\n",
       "       'Station Diversity', 'Station Equitability'],\n",
       "      dtype='object')"
      ]
     },
     "execution_count": 7,
     "metadata": {},
     "output_type": "execute_result"
    }
   ],
   "source": [
    "df.keys()"
   ]
  },
  {
   "cell_type": "code",
   "execution_count": 8,
   "metadata": {},
   "outputs": [
    {
     "data": {
      "text/plain": [
       "0        0.06113\n",
       "1        1.22254\n",
       "2        1.44871\n",
       "3        0.07030\n",
       "4        0.06017\n",
       "          ...   \n",
       "60225    0.31797\n",
       "60226    0.06319\n",
       "60227    0.01296\n",
       "60228    0.46414\n",
       "60229    0.02808\n",
       "Name: Biomass(mg/m3), Length: 60230, dtype: float64"
      ]
     },
     "execution_count": 8,
     "metadata": {},
     "output_type": "execute_result"
    }
   ],
   "source": [
    "df['Biomass(mg/m3)']"
   ]
  },
  {
   "cell_type": "code",
   "execution_count": 13,
   "metadata": {},
   "outputs": [
    {
     "data": {
      "text/plain": [
       "('6/14/2012', '7:32')"
      ]
     },
     "execution_count": 13,
     "metadata": {},
     "output_type": "execute_result"
    }
   ],
   "source": [
    "df['Date'][0],df['STN_TIME'][0]"
   ]
  },
  {
   "cell_type": "code",
   "execution_count": 16,
   "metadata": {},
   "outputs": [
    {
     "data": {
      "text/plain": [
       "1000    6/15/2012\n",
       "1001    6/15/2012\n",
       "1002    6/15/2012\n",
       "1003    6/15/2012\n",
       "1004    6/15/2012\n",
       "1005    6/15/2012\n",
       "1006    6/15/2012\n",
       "1007    6/15/2012\n",
       "1008    6/15/2012\n",
       "1009    6/15/2012\n",
       "1010    6/15/2012\n",
       "1011    6/15/2012\n",
       "1012    6/15/2012\n",
       "1013    6/15/2012\n",
       "1014    6/15/2012\n",
       "1015    6/15/2012\n",
       "1016    6/15/2012\n",
       "1017    6/15/2012\n",
       "1018    6/15/2012\n",
       "1019    6/15/2012\n",
       "Name: Date, dtype: object"
      ]
     },
     "execution_count": 16,
     "metadata": {},
     "output_type": "execute_result"
    }
   ],
   "source": [
    "df['Date'][1000:1020]"
   ]
  },
  {
   "cell_type": "code",
   "execution_count": 19,
   "metadata": {},
   "outputs": [
    {
     "data": {
      "text/plain": [
       "['6', '14', '2012']"
      ]
     },
     "execution_count": 19,
     "metadata": {},
     "output_type": "execute_result"
    }
   ],
   "source": [
    "df['Date'][0].split('/')"
   ]
  },
  {
   "cell_type": "code",
   "execution_count": 26,
   "metadata": {},
   "outputs": [],
   "source": [
    "dateslist=list()"
   ]
  },
  {
   "cell_type": "code",
   "execution_count": 27,
   "metadata": {},
   "outputs": [],
   "source": [
    "for el in df['Date']:\n",
    "    dateslist.append(el.split('/'))"
   ]
  },
  {
   "cell_type": "code",
   "execution_count": 28,
   "metadata": {},
   "outputs": [],
   "source": [
    "timeslist=list()\n",
    "for el in df['STN_TIME']:\n",
    "    timeslist.append(el.split(':'))"
   ]
  },
  {
   "cell_type": "code",
   "execution_count": 31,
   "metadata": {},
   "outputs": [],
   "source": [
    "dts=list()\n",
    "for ii,jj in zip(dateslist,timeslist):\n",
    "    dts.append(dt.datetime(int(ii[2]),int(ii[0]),int(ii[1]),int(jj[0]),int(jj[1])))"
   ]
  },
  {
   "cell_type": "code",
   "execution_count": 33,
   "metadata": {},
   "outputs": [],
   "source": [
    "df['dt']=dts"
   ]
  },
  {
   "cell_type": "code",
   "execution_count": 35,
   "metadata": {},
   "outputs": [
    {
     "data": {
      "text/plain": [
       "[<matplotlib.lines.Line2D at 0x7f6872e3a880>]"
      ]
     },
     "execution_count": 35,
     "metadata": {},
     "output_type": "execute_result"
    },
    {
     "data": {
      "image/png": "[encoded data removed]",
      "text/plain": [
       "<Figure size 864x360 with 1 Axes>"
      ]
     },
     "metadata": {
      "needs_background": "light"
     },
     "output_type": "display_data"
    }
   ],
   "source": [
    "fig,ax=plt.subplots(1,1,figsize=(12,5))\n",
    "ax.plot(df['dt'],df['Biomass(mg/m3)'],'r.')"
   ]
  },
  {
   "cell_type": "code",
   "execution_count": 36,
   "metadata": {},
   "outputs": [
    {
     "data": {
      "text/plain": [
       "[<matplotlib.lines.Line2D at 0x7f6872e13f70>]"
      ]
     },
     "execution_count": 36,
     "metadata": {},
     "output_type": "execute_result"
    },
    {
     "data": {
      "image/png": "[encoded data removed]",
      "text/plain": [
       "<Figure size 864x360 with 1 Axes>"
      ]
     },
     "metadata": {
      "needs_background": "light"
     },
     "output_type": "display_data"
    }
   ],
   "source": [
    "fig,ax=plt.subplots(1,1,figsize=(12,5))\n",
    "ind=(df['dt']>=dt.datetime(2015,1,1))&(df['dt']<dt.datetime(2016,1,1))\n",
    "ax.plot(df.loc[ind,['dt']],df.loc[ind,['Biomass(mg/m3)']],'r.')"
   ]
  },
  {
   "cell_type": "code",
   "execution_count": null,
   "metadata": {},
   "outputs": [],
   "source": []
  }
 ],
 "metadata": {
  "kernelspec": {
   "display_name": "Python (py39)",
   "language": "python",
   "name": "py39"
  },
  "language_info": {
   "codemirror_mode": {
    "name": "ipython",
    "version": 3
   },
   "file_extension": ".py",
   "mimetype": "text/x-python",
   "name": "python",
   "nbconvert_exporter": "python",
   "pygments_lexer": "ipython3",
   "version": "3.9.1"
  }
 },
 "nbformat": 4,
 "nbformat_minor": 2
}
