{
 "cells": [
  {
   "cell_type": "code",
   "execution_count": 1,
   "metadata": {},
   "outputs": [],
   "source": [
    "import numpy as np\n",
    "import pandas as pd\n",
    "import matplotlib.pyplot as plt\n",
    "import datetime as dt\n",
    "from salishsea_tools import evaltools as et, viz_tools\n",
    "import os\n",
    "import datetime as dt\n",
    "import gsw\n",
    "import matplotlib.gridspec as gridspec\n",
    "import matplotlib as mpl\n",
    "import matplotlib.dates as mdates\n",
    "import cmocean as cmo\n",
    "import scipy.interpolate as sinterp\n",
    "import cmocean\n",
    "import json\n",
    "import f90nml\n",
    "from collections import OrderedDict\n",
    "\n",
    "fs=16\n",
    "mpl.rc('xtick', labelsize=fs)\n",
    "mpl.rc('ytick', labelsize=fs)\n",
    "mpl.rc('legend', fontsize=fs)\n",
    "mpl.rc('axes', titlesize=fs)\n",
    "mpl.rc('axes', labelsize=fs)\n",
    "mpl.rc('figure', titlesize=fs)\n",
    "mpl.rc('font', size=fs)\n",
    "mpl.rc('font', family='sans-serif', weight='normal', style='normal')\n",
    "\n",
    "import warnings\n",
    "#warnings.filterwarnings('ignore')\n",
    "from IPython.display import Markdown, display\n",
    "\n",
    "%matplotlib inline\n"
   ]
  },
  {
   "cell_type": "markdown",
   "metadata": {},
   "source": [
    "Import IOS Zooplankton data and create dataframe"
   ]
  },
  {
   "cell_type": "code",
   "execution_count": 2,
   "metadata": {},
   "outputs": [
    {
     "name": "stdout",
     "output_type": "stream",
     "text": [
      "/ocean/ksuchy/MOAD/observe/Data and Code files for KS 2020dec11/2020_05_21 1995-2011 SoG VNH.csv\n"
     ]
    }
   ],
   "source": [
    "ls '/ocean/ksuchy/MOAD/observe/Data and Code files for KS 2020dec11/2020_05_21 1995-2011 SoG VNH.csv'"
   ]
  },
  {
   "cell_type": "code",
   "execution_count": 3,
   "metadata": {},
   "outputs": [],
   "source": [
    "df=pd.read_csv('/ocean/ksuchy/MOAD/observe/Data and Code files for KS 2020dec11/2020_05_21 2012-2015 SoG VNH.csv',\n",
    "               encoding = \"ISO-8859-1\")"
   ]
  },
  {
   "cell_type": "code",
   "execution_count": 5,
   "metadata": {},
   "outputs": [
    {
     "data": {
      "text/plain": [
       "Index(['Key', 'region_name', 'Station', 'PROJECT', 'lon', 'lat', 'Date',\n",
       "       'STN_TIME', 'Twilight', 'Net_Type', 'Mesh_Size(um)', 'Net_Mouth_Dia(m)',\n",
       "       'DEPTH_STRT1', 'DEPTH_END1', 'Bottom Depth(m)', 'Volume Filtered(m3)',\n",
       "       'CTD', 'NOTES', 'PI', 'Phylum:', 'Class:', 'Order:', 'Family:', 'Name',\n",
       "       'Abundance(#/m3)', 'Biomass(mg/m3)', 'NumberOfSpecies',\n",
       "       'Station Diversity', 'Station Equitability'],\n",
       "      dtype='object')"
      ]
     },
     "execution_count": 5,
     "metadata": {},
     "output_type": "execute_result"
    }
   ],
   "source": [
    "df.keys()"
   ]
  },
  {
   "cell_type": "code",
   "execution_count": 6,
   "metadata": {},
   "outputs": [
    {
     "data": {
      "text/plain": [
       "2200     5.51249\n",
       "2201     2.75624\n",
       "2202    33.07494\n",
       "2203    49.61240\n",
       "2204     5.51249\n",
       "          ...   \n",
       "2295    17.61982\n",
       "2296    22.42523\n",
       "2297    36.84145\n",
       "2298     1.60180\n",
       "2299     0.80090\n",
       "Name: Abundance(#/m3), Length: 100, dtype: float64"
      ]
     },
     "execution_count": 6,
     "metadata": {},
     "output_type": "execute_result"
    }
   ],
   "source": [
    "df['Abundance(#/m3)'][2200:2300]"
   ]
  },
  {
   "cell_type": "code",
   "execution_count": null,
   "metadata": {},
   "outputs": [],
   "source": []
  },
  {
   "cell_type": "markdown",
   "metadata": {},
   "source": [
    "Convert date to proper format"
   ]
  },
  {
   "cell_type": "code",
   "execution_count": 7,
   "metadata": {},
   "outputs": [
    {
     "data": {
      "text/plain": [
       "('6/14/2012', '7:32')"
      ]
     },
     "execution_count": 7,
     "metadata": {},
     "output_type": "execute_result"
    }
   ],
   "source": [
    "df['Date'][0],df['STN_TIME'][0]"
   ]
  },
  {
   "cell_type": "code",
   "execution_count": 8,
   "metadata": {},
   "outputs": [
    {
     "data": {
      "text/plain": [
       "1000    6/15/2012\n",
       "1001    6/15/2012\n",
       "1002    6/15/2012\n",
       "1003    6/15/2012\n",
       "1004    6/15/2012\n",
       "1005    6/15/2012\n",
       "1006    6/15/2012\n",
       "1007    6/15/2012\n",
       "1008    6/15/2012\n",
       "1009    6/15/2012\n",
       "1010    6/15/2012\n",
       "1011    6/15/2012\n",
       "1012    6/15/2012\n",
       "1013    6/15/2012\n",
       "1014    6/15/2012\n",
       "1015    6/15/2012\n",
       "1016    6/15/2012\n",
       "1017    6/15/2012\n",
       "1018    6/15/2012\n",
       "1019    6/15/2012\n",
       "Name: Date, dtype: object"
      ]
     },
     "execution_count": 8,
     "metadata": {},
     "output_type": "execute_result"
    }
   ],
   "source": [
    "df['Date'][1000:1020]"
   ]
  },
  {
   "cell_type": "code",
   "execution_count": 9,
   "metadata": {},
   "outputs": [
    {
     "data": {
      "text/plain": [
       "['6', '14', '2012']"
      ]
     },
     "execution_count": 9,
     "metadata": {},
     "output_type": "execute_result"
    }
   ],
   "source": [
    "df['Date'][0].split('/')"
   ]
  },
  {
   "cell_type": "code",
   "execution_count": 10,
   "metadata": {},
   "outputs": [],
   "source": [
    "dateslist=list()"
   ]
  },
  {
   "cell_type": "code",
   "execution_count": 11,
   "metadata": {},
   "outputs": [],
   "source": [
    "for el in df['Date']:\n",
    "    dateslist.append(el.split('/'))"
   ]
  },
  {
   "cell_type": "code",
   "execution_count": 12,
   "metadata": {},
   "outputs": [],
   "source": [
    "timeslist=list()\n",
    "for el in df['STN_TIME']:\n",
    "    timeslist.append(el.split(':'))"
   ]
  },
  {
   "cell_type": "code",
   "execution_count": 13,
   "metadata": {},
   "outputs": [],
   "source": [
    "dts=list()\n",
    "for ii,jj in zip(dateslist,timeslist):\n",
    "    dts.append(dt.datetime(int(ii[2]),int(ii[0]),int(ii[1]),int(jj[0]),int(jj[1])))"
   ]
  },
  {
   "cell_type": "code",
   "execution_count": 14,
   "metadata": {},
   "outputs": [
    {
     "data": {
      "text/plain": [
       "array(['7:32', '7:52', '3:30', '7:42', '7:49', '15:09', '16:30', '22:09',\n",
       "       '22:27', '19:36', '19:53', '9:21', '9:35', '13:29', '13:45',\n",
       "       '19:25', '19:43', '5:26', '5:43', '5:45', '5:47', '5:56', '5:59',\n",
       "       '8:38', '8:39', '8:40', '8:41', '8:57', '11:10', '11:44', '11:45',\n",
       "       '11:47', '11:48', '11:49', '12:40', '12:42', '15:14', '15:15',\n",
       "       '15:16', '15:17', '15:18', '17:54', '17:55', '17:57', '17:58',\n",
       "       '17:59', '5:39', '6:05', '14:47', '15:02', '19:13', '19:30',\n",
       "       '14:32', '14:49', '20:04', '20:24', '20:27', '20:47', '9:37',\n",
       "       '9:48', '13:57', '14:17', '19:41', '19:59', '7:18', '7:53', '9:25',\n",
       "       '12:57', '13:09', '7:30', '7:45', '13:33', '13:36', '13:38',\n",
       "       '10:00', '10:30', '11:00', '11:30', '12:30', '13:00', '13:30',\n",
       "       '16:00', '17:00', '9:29', '10:26', '11:19', '13:39', '9:16',\n",
       "       '10:04', '10:42', '11:03', '9:00', '9:41', '10:17', '10:40',\n",
       "       '12:00', '9:33', '10:13', '11:11', '12:02', '12:32', '13:22',\n",
       "       '9:57', '10:35', '10:02', '12:08', '13:18', '14:50', '17:45',\n",
       "       '18:45', '8:30', '9:30', '11:41', '12:37', '13:03', '14:05',\n",
       "       '9:20', '11:56', '13:43', '9:32', '11:22', '11:52', '7:27',\n",
       "       '19:08', '9:45', '16:38', '16:57', '16:04', '16:26', '13:31',\n",
       "       '13:35', '7:12', '16:12', '16:14', '16:18', '16:20', '16:22',\n",
       "       '3:48', '4:04', '15:20', '15:35', '21:28', '21:42', '4:33', '4:45',\n",
       "       '11:38', '11:55', '18:18', '18:29', '10:12', '12:55', '10:16',\n",
       "       '11:20', '13:08', '11:07', '12:19', '12:58', '14:42', '15:37',\n",
       "       '12:10', '12:23', '13:24', '14:33', '10:32', '12:39', '9:49',\n",
       "       '10:53', '12:49', '11:36', '14:11', '9:51', '11:24', '13:04',\n",
       "       '13:19', '9:24', '10:15', '11:53', '12:51', '12:50', '16:11',\n",
       "       '6:15', '17:15', '11:16', '12:17', '13:10', '13:59', '11:21',\n",
       "       '12:01', '12:35', '9:58', '10:41', '11:29', '9:05', '9:50', '8:49',\n",
       "       '9:55', '11:14', '12:14', '9:10', '10:20', '10:50', '11:25',\n",
       "       '11:50', '19:52', '20:32', '6:20', '5:58', '20:29', '5:20',\n",
       "       '20:10', '15:52', '6:43', '20:12', '7:22', '21:03', '21:55',\n",
       "       '14:56', '10:08', '20:01', '11:33', '15:22', '16:40', '23:15',\n",
       "       '8:51', '12:12', '15:12', '10:57', '7:03', '8:03', '14:22',\n",
       "       '23:06', '4:05', '6:25', '9:26', '11:28', '13:27', '15:11',\n",
       "       '15:53', '15:54', '15:56', '15:59', '18:06', '19:45', '9:40',\n",
       "       '20:11', '7:10', '14:34', '11:42', '13:28', '17:12', '9:04',\n",
       "       '14:10', '16:17', '8:02', '10:31', '15:27', '17:01', '16:43',\n",
       "       '10:46', '13:15', '14:43', '9:44', '13:55', '15:44', '16:59',\n",
       "       '18:41', '8:18', '11:13', '8:28', '15:43', '18:08', '7:40',\n",
       "       '10:56', '10:33', '12:52', '14:55', '7:43', '12:13', '13:44',\n",
       "       '7:41', '16:56', '8:17', '9:13', '11:12', '15:40', '18:27',\n",
       "       '10:07', '12:06', '16:07', '16:41', '10:52', '16:33', '17:48',\n",
       "       '7:48', '11:09', '15:08', '8:31', '12:22', '14:39', '12:03',\n",
       "       '14:30', '17:31', '14:15', '18:16', '7:55', '17:38', '6:36',\n",
       "       '18:22', '7:15', '9:17', '12:44', '18:54', '12:43', '18:44',\n",
       "       '7:08', '13:02', '7:19', '16:36', '8:25', '8:33', '13:25', '17:20',\n",
       "       '17:26', '13:42', '18:37', '18:43', '13:21', '14:53', '17:24',\n",
       "       '9:38', '7:06', '9:31', '12:20', '15:28', '11:01', '11:57',\n",
       "       '14:12', '15:10', '7:35', '14:38', '16:06', '8:08', '16:05',\n",
       "       '16:52', '17:47', '8:21', '9:19', '16:35', '8:10', '8:59', '10:21',\n",
       "       '14:41', '16:09', '18:26', '11:23', '8:14', '10:10', '11:27',\n",
       "       '13:26', '11:15', '13:11', '9:18', '12:04', '10:45', '12:25',\n",
       "       '13:56', '10:22', '13:53', '9:28', '11:06', '11:32', '10:34',\n",
       "       '14:08', '11:18', '12:48', '14:01', '12:07', '14:07', '11:08',\n",
       "       '14:04', '10:06', '11:43', '13:40', '10:18', '13:34', '16:27',\n",
       "       '10:28', '15:26', '9:14', '12:15', '15:23', '8:23', '14:58',\n",
       "       '9:08', '10:43', '14:29', '8:44', '9:52', '8:13', '14:27', '14:46',\n",
       "       '14:16', '10:11', '14:51', '8:32', '10:37'], dtype=object)"
      ]
     },
     "execution_count": 14,
     "metadata": {},
     "output_type": "execute_result"
    }
   ],
   "source": [
    "df.loc[df.Twilight=='Daylight']['STN_TIME'].unique()"
   ]
  },
  {
   "cell_type": "code",
   "execution_count": 15,
   "metadata": {},
   "outputs": [],
   "source": [
    "df['dtUTC']=et.pac_to_utc(dts) #convert from Pac time to UTC"
   ]
  },
  {
   "cell_type": "code",
   "execution_count": 16,
   "metadata": {},
   "outputs": [
    {
     "data": {
      "text/plain": [
       "array(['Diplostraca', 'Thecostraca', 'Amphipoda', 'Decapoda',\n",
       "       'Euphausiacea', 'Calanoida', 'Cyclopoida', 'Poecilostomatoida',\n",
       "       'Halocyprida', 'Aphragmophora', 'Copelata', 'Leptothecate',\n",
       "       'Siphonophorae', 'Trachylina', 'Cydippida', nan, 'Pholadomyoida',\n",
       "       'Neotaenioglossa', 'Thecosomata', 'Aciculata', 'Canalipalpata',\n",
       "       'Osmeriformes', 'Perciformes', 'Beroida', 'Teuthida',\n",
       "       'Gymnosomata', 'Isopoda', 'Siphonostomatoida', 'Anthoathecatae',\n",
       "       'Scorpaeniformes', 'Phragmophora', 'Clupeiformes', 'Ophiurida',\n",
       "       'Gadiformes', 'Semaeostomeae', 'Cumacea', 'Echinoida',\n",
       "       'Harpacticoida', 'Pleuronectiformes', 'Tricladida', 'Myodocopida',\n",
       "       'Phaeogromia', 'Noctilucales', 'Octopoda', 'Actiniaria',\n",
       "       'Foraminiferida', 'Monstrilloida', 'Oligotrichida', 'Mysida',\n",
       "       'Acariformes', 'Lophogastrida', 'Ophidiiformes',\n",
       "       'Thalassocalycida', 'Doliolida', 'Lepadomorpha', 'Cephalaspidea',\n",
       "       'Sygnathiformes'], dtype=object)"
      ]
     },
     "execution_count": 16,
     "metadata": {},
     "output_type": "execute_result"
    }
   ],
   "source": [
    "df['Order:'].unique()"
   ]
  },
  {
   "cell_type": "raw",
   "metadata": {},
   "source": [
    "SpeciesNames = df['Name'].unique()[1:1000]\n",
    "SpeciesNames.sort()\n",
    "print(SpeciesNames)"
   ]
  },
  {
   "cell_type": "markdown",
   "metadata": {},
   "source": [
    "## Start by creating a group of zooplankton taxa of interest"
   ]
  },
  {
   "cell_type": "code",
   "execution_count": 18,
   "metadata": {},
   "outputs": [],
   "source": [
    "colList=('Anomura *sp. megalops s1',\n",
    " 'Anomura *sp. zoea s1' ,'Anomura *sp. zoea s2', 'Axiidae *sp.  s1', 'Axiidae *sp. mysis s2',\n",
    " 'Axiidae *sp. zoea s1' ,'Axiidae *sp. zoea s2','Brachyura *sp. zoea s1',\n",
    "'Calanoida *sp.  1', 'Calanoida *sp.  2' ,'Calanoida *sp.  3',\n",
    " 'Calanoida *sp.  4' ,'Calanoida *sp.  6M', 'Calanus *sp.  1',\n",
    " 'Calanus *sp.  2', 'Calanus *sp.  3' ,'Calanus *sp.  4',\n",
    " 'Calanus *sp. nauplii s1', 'Calanus marshallae  2' ,'Calanus marshallae  3',\n",
    " 'Calanus marshallae  4' ,'Calanus marshallae  5' ,'Calanus marshallae  6F',\n",
    " 'Calanus marshallae  6M' ,'Calanus pacificus  2' ,'Calanus pacificus  3',\n",
    " 'Calanus pacificus  4' ,'Calanus pacificus  5', 'Calanus pacificus  6F',\n",
    " 'Calanus pacificus  6M','Calliopius *sp.  s1' ,'Calliopius *sp.  s2', 'Calliopius *sp.  s3',\n",
    " 'Calliopius pacificus  s1' ,'Calliopius pacificus  s2',\n",
    " 'Calliopius pacificus  s3', 'Cancer *sp. megalops s1',\n",
    " 'Cancer *sp. zoea s1' ,'Cancer *sp. zoea s2', 'Cancer magister megalops s2',\n",
    " 'Cancer magister zoea s1' ,'Cancer magister zoea s2',\n",
    " 'Cancer oregonensis megalops s1', 'Cancer oregonensis megalops s2',\n",
    " 'Cancer productus megalops s1' ,'Cancer productus megalops s2',\n",
    " 'Cancer productus zoea s1' ,'Cancer productus zoea s2','Caridea *sp.  s3' ,'Caridea *sp. mysis s1',\n",
    " 'Caridea *sp. mysis s2', 'Caridea *sp. mysis s3' ,'Caridea *sp. zoea s1',\n",
    " 'Caridea *sp. zoea s2', 'Chaetognatha *sp.  s3' ,'Chaetognatha *sp. juvenile s1',\n",
    " 'Chaetognatha *sp. juvenile s2','Chionoecetes *sp. megalops s1',\n",
    " 'Chionoecetes *sp. megalops s2', 'Chionoecetes *sp. zoea s1','Corycaeus anglicus  3',\n",
    " 'Corycaeus anglicus  4' ,'Corycaeus anglicus  5' ,'Corycaeus anglicus  6F',\n",
    " 'Corycaeus anglicus  6M' ,'Crangonidae *sp. mysis s1',\n",
    " 'Crangonidae *sp. mysis s2' ,'Crangonidae *sp. mysis s3',\n",
    " 'Crangonidae *sp. zoea s1', 'Crangonidae *sp. zoea s2','Cyphocaris *sp.  s1',\n",
    " 'Cyphocaris challengeri  s1' ,'Cyphocaris challengeri  s2',\n",
    " 'Cyphocaris challengeri  s3', 'Decapoda *sp. zoea s1','Eucalanus *sp.  1',\n",
    " 'Eucalanus *sp.  2' ,'Eucalanus *sp.  3' ,'Eucalanus *sp. nauplii s1',\n",
    " 'Eucalanus bungii  3', 'Eucalanus bungii  4', 'Eucalanus bungii  4F',\n",
    " 'Eucalanus bungii  4M', 'Eucalanus bungii  5F', 'Eucalanus bungii  5M',\n",
    " 'Eucalanus bungii  6F', 'Eucalanus bungii  6M',\n",
    " 'Eucalanus californicus  5F', 'Eucalanus californicus  6F','Euphausia pacifica  F',\n",
    " 'Euphausia pacifica  M' ,'Euphausia pacifica  s2', 'Euphausia pacifica  s3',\n",
    " 'Euphausia pacifica eggs s1' ,'Euphausia pacifica nauplii s1',\n",
    " 'Euphausia pacifica zoea s1', 'Euphausiacea *sp.  s2',\n",
    " 'Euphausiidae *sp. eggs s1', 'Euphausiidae *sp. nauplii s1',\n",
    " 'Euphausiidae *sp. protozoea (or calyptopis) s1',\n",
    " 'Euphausiidae *sp. zoea (or furcilia) s1','Galatheidae *sp. zoea s1', 'Galatheidae *sp. zoea s2',\n",
    " 'Gammaridea *sp.  s1', 'Gammaridea *sp.  s2','Grapsidae *sp. megalops s1', 'Grapsidae *sp. zoea s1','Hemigrapsus *sp. megalops s1'\n",
    " ,'Hemigrapsus *sp. zoea s1','Hyperia medusarum  F', 'Hyperia medusarum  M',\n",
    " 'Hyperia medusarum  s1', 'Hyperia medusarum  s2' ,'Limacina helicina  s0',\n",
    " 'Limacina helicina  s1' ,'Limacina helicina  s2','Lithodidae *sp. megalops s1',\n",
    " 'Lithodidae *sp. zoea s1', 'Lithodidae *sp. zoea s2','Lophopanopeus *sp. megalops s1','Majidae *sp. megalops s1',\n",
    " 'Majidae *sp. megalops s2', 'Majidae *sp. zoea s1','Metridia *sp.  1',\n",
    " 'Metridia *sp.  2', 'Metridia *sp.  3' ,'Metridia *sp.  4',\n",
    " 'Metridia *sp.  5', 'Metridia *sp.  6F', 'Metridia *sp.  6M',\n",
    " 'Metridia pacifica  3' ,'Metridia pacifica  4' ,'Metridia pacifica  5F',\n",
    " 'Metridia pacifica  5M' 'Metridia pacifica  6F' 'Metridia pacifica  6M'\n",
    " 'Metridia pseudopacifica  5', 'Metridia pseudopacifica  6F',\n",
    " 'Metridia pseudopacifica  6M' ,'Munida *sp. zoea s1' ,'Munida *sp. zoea s2',\n",
    " 'Munida quadrispina megalops s2', 'Munida quadrispina megalops s3','Neocalanus *sp.  4',\n",
    " 'Neocalanus *sp. eggs s1', 'Neocalanus *sp. nauplii s1',\n",
    " 'Neocalanus cristatus  2', 'Neocalanus cristatus  3',\n",
    " 'Neocalanus cristatus  4', 'Neocalanus cristatus  5',\n",
    " 'Neocalanus cristatus  6F' ,'Neocalanus cristatus  6M',\n",
    " 'Neocalanus plumchrus  1', 'Neocalanus plumchrus  2',\n",
    " 'Neocalanus plumchrus  3', 'Neocalanus plumchrus  4',\n",
    " 'Neocalanus plumchrus  5', 'Neocalanus plumchrus  6F',\n",
    " 'Neocalanus plumchrus  6M' ,'Neotrypaea *sp. mysis s1',\n",
    " 'Neotrypaea *sp. mysis s2', 'Neotrypaea *sp. zoea s1',\n",
    " 'Neotrypaea *sp. zoea s2', 'Oikopleura *sp.  s1', 'Oikopleura *sp.  s2',\n",
    " 'Oikopleura dioica  s1' ,'Oikopleura dioica  s2',\n",
    " 'Oikopleura labradoriensis  s1', 'Oikopleura labradoriensis  s2',\n",
    " 'Oikopleura labradoriensis  s3', 'Oregonia *sp. megalops s1','Paguridae *sp. megalops s1' ,'Paguridae *sp. megalops s2',\n",
    " 'Paguridae *sp. zoea s1', 'Paguridae *sp. zoea s2',\n",
    " 'Pandalidae *sp. mysis s2', 'Pandalidae *sp. mysis s3',\n",
    " 'Pandalidae *sp. zoea s1', 'Pandalidae *sp. zoea s2',\n",
    " 'Pandalopsis dispar  s2' ,'Pandalopsis dispar  s3' ,'Pandalus danae  s2',\n",
    " 'Pandalus danae  s3', 'Pandalus eous  s3', 'Pandalus jordani  s2',\n",
    " 'Pandalus jordani  s3', 'Pandalus stenolepis  s1',\n",
    " 'Pandalus stenolepis  s2', 'Pandalus stenolepis  s3',\n",
    " 'Pandalus tridens  s2' ,'Pandalus tridens  s3','Parasagitta elegans  s2', 'Parasagitta elegans  s3',\n",
    " 'Parasagitta elegans juvenile s1', 'Parasagitta euneritica  s2',\n",
    " 'Parasagitta euneritica  s3','Pinnixa *sp. megalops s1', 'Pinnotheres *sp. megalops s1',\n",
    " 'Pinnotheridae *sp. megalops s1', 'Pinnotheridae *sp. megalops s2',\n",
    " 'Pinnotheridae *sp. zoea s1' ,'Pinnotheridae *sp. zoea s2',\n",
    " 'Pisidae zoea zoea s1', 'Porcellanidae *sp. megalops s1', 'Porcellanidae *sp. zoea s1',\n",
    " 'Porcellanidae *sp. zoea s2', 'Primno *sp.  s1', 'Primno abyssalis  F',\n",
    " 'Primno abyssalis  M', 'Primno abyssalis  s1', 'Primno abyssalis  s2',\n",
    " 'Primno brevidens  s1' ,'Pugettia *sp. megalops s1', 'Themisto *sp.  s1',\n",
    " 'Themisto pacifica  F', 'Themisto pacifica  M', 'Themisto pacifica  s2',\n",
    " 'Themisto pacifica juvenile s1', 'Thysanoessa *sp.  s1',\n",
    " 'Thysanoessa *sp.  s2', 'Thysanoessa *sp. nauplii s1',\n",
    " 'Thysanoessa *sp. zoea s1', 'Thysanoessa longipes  F',\n",
    " 'Thysanoessa longipes  M', 'Thysanoessa longipes  s2',\n",
    " 'Thysanoessa longipes  s3' ,'Thysanoessa longipes zoea s1',\n",
    " 'Thysanoessa raschii  F', 'Thysanoessa raschii  M',\n",
    " 'Thysanoessa raschii  s2' ,'Thysanoessa raschii zoea s1',\n",
    " 'Thysanoessa spinifera  F', 'Thysanoessa spinifera  M',\n",
    " 'Thysanoessa spinifera  s2', 'Thysanoessa spinifera  s3',\n",
    " 'Thysanoessa spinifera eggs s1', 'Thysanoessa spinifera nauplii s1',\n",
    " 'Thysanoessa spinifera zoea s1','Xanthidae *sp. megalops s1',\n",
    " 'Xanthidae *sp. zoea s1')\n"
   ]
  },
  {
   "cell_type": "code",
   "execution_count": 19,
   "metadata": {},
   "outputs": [
    {
     "data": {
      "text/plain": [
       "Index(['Key', 'region_name', 'Station', 'PROJECT', 'lon', 'lat', 'Date',\n",
       "       'STN_TIME', 'Twilight', 'Net_Type', 'Mesh_Size(um)', 'Net_Mouth_Dia(m)',\n",
       "       'DEPTH_STRT1', 'DEPTH_END1', 'Bottom Depth(m)', 'Volume Filtered(m3)',\n",
       "       'CTD', 'NOTES', 'PI', 'Phylum:', 'Class:', 'Order:', 'Family:', 'Name',\n",
       "       'Abundance(#/m3)', 'Biomass(mg/m3)', 'NumberOfSpecies',\n",
       "       'Station Diversity', 'Station Equitability', 'dtUTC'],\n",
       "      dtype='object')"
      ]
     },
     "execution_count": 19,
     "metadata": {},
     "output_type": "execute_result"
    }
   ],
   "source": [
    "df.keys()"
   ]
  },
  {
   "cell_type": "code",
   "execution_count": 20,
   "metadata": {},
   "outputs": [],
   "source": [
    "dtsutc=et.pac_to_utc(dts)"
   ]
  },
  {
   "cell_type": "code",
   "execution_count": 21,
   "metadata": {},
   "outputs": [
    {
     "data": {
      "text/plain": [
       "Key                                                      IOS2012005000901\n",
       "region_name                                    Northern Strait of Georgia\n",
       "Station                                                                22\n",
       "PROJECT                                                         Str. Geo.\n",
       "lon                                                              -124.272\n",
       "lat                                                                 49.67\n",
       "Date                                                            6/14/2012\n",
       "STN_TIME                                                             7:32\n",
       "Twilight                                                         Daylight\n",
       "Net_Type                                                         SCOR VNH\n",
       "Mesh_Size(um)                                                         236\n",
       "Net_Mouth_Dia(m)                                                     0.56\n",
       "DEPTH_STRT1                                                            50\n",
       "DEPTH_END1                                                              0\n",
       "Bottom Depth(m)                                                       352\n",
       "Volume Filtered(m3)                                                 10.47\n",
       "CTD                                                                   8.0\n",
       "NOTES                   Flowmeter reading may be incorrect. Value ente...\n",
       "PI                                                            Dave Mackas\n",
       "Phylum:                                                        Arthropoda\n",
       "Class:                                                       Branchiopoda\n",
       "Order:                                                        Diplostraca\n",
       "Family:                                                         Podonidae\n",
       "Name                                                       Podon *sp.  s1\n",
       "Abundance(#/m3)                                                  12.22541\n",
       "Biomass(mg/m3)                                                    0.06113\n",
       "NumberOfSpecies                                                        51\n",
       "Station Diversity                                                    2.63\n",
       "Station Equitability                                                 0.67\n",
       "dtUTC                                                 2012-06-14 14:32:00\n",
       "Name: 0, dtype: object"
      ]
     },
     "execution_count": 21,
     "metadata": {},
     "output_type": "execute_result"
    }
   ],
   "source": [
    "df.loc[0]"
   ]
  },
  {
   "cell_type": "code",
   "execution_count": 22,
   "metadata": {},
   "outputs": [],
   "source": [
    "towIDlist=['Key', 'region_name', 'Station',  'lon', 'lat','Date', 'dtUTC', 'Twilight', 'Net_Type', 'Mesh_Size(um)', 'DEPTH_STRT1', 'DEPTH_END1', 'Bottom Depth(m)']"
   ]
  },
  {
   "cell_type": "code",
   "execution_count": 23,
   "metadata": {},
   "outputs": [],
   "source": [
    "towIDlist2=['Key', 'region_name', 'Station',  'lon', 'lat','Date', 'dtUTC', 'Twilight', 'Net_Type', 'Mesh_Size(um)', 'DEPTH_STRT1', 'DEPTH_END1', 'Bottom Depth(m)','CTD']"
   ]
  },
  {
   "cell_type": "code",
   "execution_count": 24,
   "metadata": {},
   "outputs": [
    {
     "data": {
      "text/plain": [
       "(654, 12694, 654)"
      ]
     },
     "execution_count": 24,
     "metadata": {},
     "output_type": "execute_result"
    }
   ],
   "source": [
    "len(df.groupby(towIDlist)),len(df.groupby(towIDlist2)),len(df.groupby(['Key']))"
   ]
  },
  {
   "cell_type": "code",
   "execution_count": 25,
   "metadata": {},
   "outputs": [],
   "source": [
    "# Key is a unique identifier for each tow\n",
    "# do not group by CTD due to NaN values"
   ]
  },
  {
   "cell_type": "raw",
   "metadata": {},
   "source": [
    "for el in df.loc[df['Order:']=='Calanoida','Name']:\n",
    "    print(el)"
   ]
  },
  {
   "cell_type": "code",
   "execution_count": 30,
   "metadata": {},
   "outputs": [],
   "source": [
    "df['Month']=[ii.month for ii in df['dtUTC']]"
   ]
  },
  {
   "cell_type": "code",
   "execution_count": 34,
   "metadata": {},
   "outputs": [
    {
     "data": {
      "text/plain": [
       "13"
      ]
     },
     "execution_count": 34,
     "metadata": {},
     "output_type": "execute_result"
    }
   ],
   "source": [
    "len(df.loc[df.Month==2]['Key'].unique())"
   ]
  },
  {
   "cell_type": "code",
   "execution_count": 39,
   "metadata": {},
   "outputs": [],
   "source": [
    "test=df.loc[(df.Month==2)&(df['Order:']=='Calanoida')].groupby(['Key']).sum()"
   ]
  },
  {
   "cell_type": "code",
   "execution_count": 49,
   "metadata": {},
   "outputs": [
    {
     "data": {
      "text/html": [
       "<div>\n",
       "<style scoped>\n",
       "    .dataframe tbody tr th:only-of-type {\n",
       "        vertical-align: middle;\n",
       "    }\n",
       "\n",
       "    .dataframe tbody tr th {\n",
       "        vertical-align: top;\n",
       "    }\n",
       "\n",
       "    .dataframe thead th {\n",
       "        text-align: right;\n",
       "    }\n",
       "</style>\n",
       "<table border=\"1\" class=\"dataframe\">\n",
       "  <thead>\n",
       "    <tr style=\"text-align: right;\">\n",
       "      <th></th>\n",
       "      <th>lon</th>\n",
       "      <th>lat</th>\n",
       "      <th>Mesh_Size(um)</th>\n",
       "      <th>Net_Mouth_Dia(m)</th>\n",
       "      <th>DEPTH_STRT1</th>\n",
       "      <th>DEPTH_END1</th>\n",
       "      <th>Bottom Depth(m)</th>\n",
       "      <th>Volume Filtered(m3)</th>\n",
       "      <th>CTD</th>\n",
       "      <th>Abundance(#/m3)</th>\n",
       "      <th>Biomass(mg/m3)</th>\n",
       "      <th>NumberOfSpecies</th>\n",
       "      <th>Station Diversity</th>\n",
       "      <th>Station Equitability</th>\n",
       "      <th>Month</th>\n",
       "    </tr>\n",
       "    <tr>\n",
       "      <th>Key</th>\n",
       "      <th></th>\n",
       "      <th></th>\n",
       "      <th></th>\n",
       "      <th></th>\n",
       "      <th></th>\n",
       "      <th></th>\n",
       "      <th></th>\n",
       "      <th></th>\n",
       "      <th></th>\n",
       "      <th></th>\n",
       "      <th></th>\n",
       "      <th></th>\n",
       "      <th></th>\n",
       "      <th></th>\n",
       "      <th></th>\n",
       "    </tr>\n",
       "  </thead>\n",
       "  <tbody>\n",
       "    <tr>\n",
       "      <th>IOS2015001000201A</th>\n",
       "      <td>-4067.085</td>\n",
       "      <td>1604.262</td>\n",
       "      <td>7788</td>\n",
       "      <td>18.48</td>\n",
       "      <td>6732</td>\n",
       "      <td>0</td>\n",
       "      <td>7491</td>\n",
       "      <td>1574.43</td>\n",
       "      <td>99.0</td>\n",
       "      <td>228.25407</td>\n",
       "      <td>5.45896</td>\n",
       "      <td>1452</td>\n",
       "      <td>65.34</td>\n",
       "      <td>17.16</td>\n",
       "      <td>66</td>\n",
       "    </tr>\n",
       "    <tr>\n",
       "      <th>IOS2015001000701A</th>\n",
       "      <td>-6820.110</td>\n",
       "      <td>2656.500</td>\n",
       "      <td>12980</td>\n",
       "      <td>30.80</td>\n",
       "      <td>9735</td>\n",
       "      <td>0</td>\n",
       "      <td>10285</td>\n",
       "      <td>1885.95</td>\n",
       "      <td>275.0</td>\n",
       "      <td>80.92749</td>\n",
       "      <td>3.33723</td>\n",
       "      <td>2915</td>\n",
       "      <td>176.00</td>\n",
       "      <td>44.55</td>\n",
       "      <td>110</td>\n",
       "    </tr>\n",
       "    <tr>\n",
       "      <th>IOS2015008000501</th>\n",
       "      <td>-5808.025</td>\n",
       "      <td>2292.190</td>\n",
       "      <td>9400</td>\n",
       "      <td>23.50</td>\n",
       "      <td>2773</td>\n",
       "      <td>0</td>\n",
       "      <td>2820</td>\n",
       "      <td>462.95</td>\n",
       "      <td>188.0</td>\n",
       "      <td>422.43662</td>\n",
       "      <td>3.71556</td>\n",
       "      <td>2538</td>\n",
       "      <td>94.00</td>\n",
       "      <td>23.97</td>\n",
       "      <td>94</td>\n",
       "    </tr>\n",
       "    <tr>\n",
       "      <th>IOS2015008000801</th>\n",
       "      <td>-3955.936</td>\n",
       "      <td>1560.000</td>\n",
       "      <td>6400</td>\n",
       "      <td>16.00</td>\n",
       "      <td>960</td>\n",
       "      <td>0</td>\n",
       "      <td>960</td>\n",
       "      <td>158.08</td>\n",
       "      <td>224.0</td>\n",
       "      <td>398.78547</td>\n",
       "      <td>1.77838</td>\n",
       "      <td>1152</td>\n",
       "      <td>72.00</td>\n",
       "      <td>20.16</td>\n",
       "      <td>64</td>\n",
       "    </tr>\n",
       "    <tr>\n",
       "      <th>IOS2015008001201</th>\n",
       "      <td>-5191.452</td>\n",
       "      <td>2047.416</td>\n",
       "      <td>8400</td>\n",
       "      <td>21.00</td>\n",
       "      <td>2226</td>\n",
       "      <td>0</td>\n",
       "      <td>2394</td>\n",
       "      <td>312.06</td>\n",
       "      <td>462.0</td>\n",
       "      <td>397.71195</td>\n",
       "      <td>4.57015</td>\n",
       "      <td>2016</td>\n",
       "      <td>77.28</td>\n",
       "      <td>20.16</td>\n",
       "      <td>84</td>\n",
       "    </tr>\n",
       "    <tr>\n",
       "      <th>IOS2015008001601</th>\n",
       "      <td>-5437.256</td>\n",
       "      <td>2144.472</td>\n",
       "      <td>8800</td>\n",
       "      <td>22.00</td>\n",
       "      <td>3080</td>\n",
       "      <td>0</td>\n",
       "      <td>3212</td>\n",
       "      <td>473.44</td>\n",
       "      <td>660.0</td>\n",
       "      <td>461.98892</td>\n",
       "      <td>5.28456</td>\n",
       "      <td>2332</td>\n",
       "      <td>87.12</td>\n",
       "      <td>22.00</td>\n",
       "      <td>88</td>\n",
       "    </tr>\n",
       "    <tr>\n",
       "      <th>IOS2015099000101</th>\n",
       "      <td>-6328.692</td>\n",
       "      <td>2528.733</td>\n",
       "      <td>12036</td>\n",
       "      <td>28.56</td>\n",
       "      <td>10200</td>\n",
       "      <td>0</td>\n",
       "      <td>13464</td>\n",
       "      <td>2135.37</td>\n",
       "      <td>102.0</td>\n",
       "      <td>262.04919</td>\n",
       "      <td>15.79196</td>\n",
       "      <td>2754</td>\n",
       "      <td>131.58</td>\n",
       "      <td>32.64</td>\n",
       "      <td>102</td>\n",
       "    </tr>\n",
       "    <tr>\n",
       "      <th>IOS2015099000201</th>\n",
       "      <td>-6558.644</td>\n",
       "      <td>2610.356</td>\n",
       "      <td>12508</td>\n",
       "      <td>29.68</td>\n",
       "      <td>13038</td>\n",
       "      <td>0</td>\n",
       "      <td>21200</td>\n",
       "      <td>3302.43</td>\n",
       "      <td>159.0</td>\n",
       "      <td>170.91952</td>\n",
       "      <td>14.82036</td>\n",
       "      <td>3286</td>\n",
       "      <td>126.67</td>\n",
       "      <td>30.74</td>\n",
       "      <td>106</td>\n",
       "    </tr>\n",
       "    <tr>\n",
       "      <th>IOS2015099000301</th>\n",
       "      <td>-7981.952</td>\n",
       "      <td>3181.120</td>\n",
       "      <td>15104</td>\n",
       "      <td>35.84</td>\n",
       "      <td>16000</td>\n",
       "      <td>0</td>\n",
       "      <td>19136</td>\n",
       "      <td>3584.64</td>\n",
       "      <td>0.0</td>\n",
       "      <td>205.39196</td>\n",
       "      <td>8.40212</td>\n",
       "      <td>4608</td>\n",
       "      <td>159.36</td>\n",
       "      <td>37.12</td>\n",
       "      <td>128</td>\n",
       "    </tr>\n",
       "    <tr>\n",
       "      <th>PSF2015098000101</th>\n",
       "      <td>-3119.175</td>\n",
       "      <td>1237.075</td>\n",
       "      <td>6250</td>\n",
       "      <td>12.50</td>\n",
       "      <td>1000</td>\n",
       "      <td>0</td>\n",
       "      <td>249975</td>\n",
       "      <td>173.25</td>\n",
       "      <td>0.0</td>\n",
       "      <td>300.14424</td>\n",
       "      <td>3.09494</td>\n",
       "      <td>800</td>\n",
       "      <td>64.00</td>\n",
       "      <td>18.25</td>\n",
       "      <td>50</td>\n",
       "    </tr>\n",
       "    <tr>\n",
       "      <th>PSF2015098000201</th>\n",
       "      <td>-4370.310</td>\n",
       "      <td>1736.140</td>\n",
       "      <td>8750</td>\n",
       "      <td>17.50</td>\n",
       "      <td>1400</td>\n",
       "      <td>0</td>\n",
       "      <td>1400</td>\n",
       "      <td>215.25</td>\n",
       "      <td>0.0</td>\n",
       "      <td>1202.27643</td>\n",
       "      <td>12.38677</td>\n",
       "      <td>1470</td>\n",
       "      <td>78.40</td>\n",
       "      <td>21.00</td>\n",
       "      <td>70</td>\n",
       "    </tr>\n",
       "    <tr>\n",
       "      <th>PSF2015098000301</th>\n",
       "      <td>-4731.000</td>\n",
       "      <td>1879.746</td>\n",
       "      <td>9500</td>\n",
       "      <td>19.00</td>\n",
       "      <td>4940</td>\n",
       "      <td>0</td>\n",
       "      <td>379962</td>\n",
       "      <td>772.16</td>\n",
       "      <td>0.0</td>\n",
       "      <td>154.37984</td>\n",
       "      <td>7.44550</td>\n",
       "      <td>1862</td>\n",
       "      <td>105.26</td>\n",
       "      <td>26.98</td>\n",
       "      <td>76</td>\n",
       "    </tr>\n",
       "    <tr>\n",
       "      <th>PSF2015098000401</th>\n",
       "      <td>-4237.692</td>\n",
       "      <td>1686.128</td>\n",
       "      <td>8500</td>\n",
       "      <td>17.00</td>\n",
       "      <td>4420</td>\n",
       "      <td>0</td>\n",
       "      <td>339966</td>\n",
       "      <td>737.80</td>\n",
       "      <td>0.0</td>\n",
       "      <td>166.26730</td>\n",
       "      <td>4.97040</td>\n",
       "      <td>1088</td>\n",
       "      <td>80.24</td>\n",
       "      <td>23.12</td>\n",
       "      <td>68</td>\n",
       "    </tr>\n",
       "  </tbody>\n",
       "</table>\n",
       "</div>"
      ],
      "text/plain": [
       "                        lon       lat  Mesh_Size(um)  Net_Mouth_Dia(m)  \\\n",
       "Key                                                                      \n",
       "IOS2015001000201A -4067.085  1604.262           7788             18.48   \n",
       "IOS2015001000701A -6820.110  2656.500          12980             30.80   \n",
       "IOS2015008000501  -5808.025  2292.190           9400             23.50   \n",
       "IOS2015008000801  -3955.936  1560.000           6400             16.00   \n",
       "IOS2015008001201  -5191.452  2047.416           8400             21.00   \n",
       "IOS2015008001601  -5437.256  2144.472           8800             22.00   \n",
       "IOS2015099000101  -6328.692  2528.733          12036             28.56   \n",
       "IOS2015099000201  -6558.644  2610.356          12508             29.68   \n",
       "IOS2015099000301  -7981.952  3181.120          15104             35.84   \n",
       "PSF2015098000101  -3119.175  1237.075           6250             12.50   \n",
       "PSF2015098000201  -4370.310  1736.140           8750             17.50   \n",
       "PSF2015098000301  -4731.000  1879.746           9500             19.00   \n",
       "PSF2015098000401  -4237.692  1686.128           8500             17.00   \n",
       "\n",
       "                   DEPTH_STRT1  DEPTH_END1  Bottom Depth(m)  \\\n",
       "Key                                                           \n",
       "IOS2015001000201A         6732           0             7491   \n",
       "IOS2015001000701A         9735           0            10285   \n",
       "IOS2015008000501          2773           0             2820   \n",
       "IOS2015008000801           960           0              960   \n",
       "IOS2015008001201          2226           0             2394   \n",
       "IOS2015008001601          3080           0             3212   \n",
       "IOS2015099000101         10200           0            13464   \n",
       "IOS2015099000201         13038           0            21200   \n",
       "IOS2015099000301         16000           0            19136   \n",
       "PSF2015098000101          1000           0           249975   \n",
       "PSF2015098000201          1400           0             1400   \n",
       "PSF2015098000301          4940           0           379962   \n",
       "PSF2015098000401          4420           0           339966   \n",
       "\n",
       "                   Volume Filtered(m3)    CTD  Abundance(#/m3)  \\\n",
       "Key                                                              \n",
       "IOS2015001000201A              1574.43   99.0        228.25407   \n",
       "IOS2015001000701A              1885.95  275.0         80.92749   \n",
       "IOS2015008000501                462.95  188.0        422.43662   \n",
       "IOS2015008000801                158.08  224.0        398.78547   \n",
       "IOS2015008001201                312.06  462.0        397.71195   \n",
       "IOS2015008001601                473.44  660.0        461.98892   \n",
       "IOS2015099000101               2135.37  102.0        262.04919   \n",
       "IOS2015099000201               3302.43  159.0        170.91952   \n",
       "IOS2015099000301               3584.64    0.0        205.39196   \n",
       "PSF2015098000101                173.25    0.0        300.14424   \n",
       "PSF2015098000201                215.25    0.0       1202.27643   \n",
       "PSF2015098000301                772.16    0.0        154.37984   \n",
       "PSF2015098000401                737.80    0.0        166.26730   \n",
       "\n",
       "                   Biomass(mg/m3)  NumberOfSpecies  Station Diversity  \\\n",
       "Key                                                                     \n",
       "IOS2015001000201A         5.45896             1452              65.34   \n",
       "IOS2015001000701A         3.33723             2915             176.00   \n",
       "IOS2015008000501          3.71556             2538              94.00   \n",
       "IOS2015008000801          1.77838             1152              72.00   \n",
       "IOS2015008001201          4.57015             2016              77.28   \n",
       "IOS2015008001601          5.28456             2332              87.12   \n",
       "IOS2015099000101         15.79196             2754             131.58   \n",
       "IOS2015099000201         14.82036             3286             126.67   \n",
       "IOS2015099000301          8.40212             4608             159.36   \n",
       "PSF2015098000101          3.09494              800              64.00   \n",
       "PSF2015098000201         12.38677             1470              78.40   \n",
       "PSF2015098000301          7.44550             1862             105.26   \n",
       "PSF2015098000401          4.97040             1088              80.24   \n",
       "\n",
       "                   Station Equitability  Month  \n",
       "Key                                             \n",
       "IOS2015001000201A                 17.16     66  \n",
       "IOS2015001000701A                 44.55    110  \n",
       "IOS2015008000501                  23.97     94  \n",
       "IOS2015008000801                  20.16     64  \n",
       "IOS2015008001201                  20.16     84  \n",
       "IOS2015008001601                  22.00     88  \n",
       "IOS2015099000101                  32.64    102  \n",
       "IOS2015099000201                  30.74    106  \n",
       "IOS2015099000301                  37.12    128  \n",
       "PSF2015098000101                  18.25     50  \n",
       "PSF2015098000201                  21.00     70  \n",
       "PSF2015098000301                  26.98     76  \n",
       "PSF2015098000401                  23.12     68  "
      ]
     },
     "execution_count": 49,
     "metadata": {},
     "output_type": "execute_result"
    }
   ],
   "source": [
    "test"
   ]
  },
  {
   "cell_type": "code",
   "execution_count": 65,
   "metadata": {},
   "outputs": [],
   "source": [
    "temp=df.loc[(df.Month==2)&(df['Order:']=='Calanoida'),['Name','Biomass(mg/m3)']].groupby('Name',as_index=False).sum().sort_values(['Biomass(mg/m3)'],ascending=False)"
   ]
  },
  {
   "cell_type": "code",
   "execution_count": 70,
   "metadata": {},
   "outputs": [
    {
     "name": "stdout",
     "output_type": "stream",
     "text": [
      "yes\n"
     ]
    }
   ],
   "source": [
    "if 'Neocalanus plumchrus  1' in colList:\n",
    "    print('yes')"
   ]
  },
  {
   "cell_type": "code",
   "execution_count": 72,
   "metadata": {},
   "outputs": [
    {
     "data": {
      "text/plain": [
       "0"
      ]
     },
     "execution_count": 72,
     "metadata": {},
     "output_type": "execute_result"
    }
   ],
   "source": [
    "np.sum(np.isnan(df['Biomass(mg/m3)']))"
   ]
  },
  {
   "cell_type": "code",
   "execution_count": 74,
   "metadata": {},
   "outputs": [
    {
     "name": "stdout",
     "output_type": "stream",
     "text": [
      "Total: 91.05689\n",
      "Acartia *sp.  1 0.1524709442635258\n",
      "Acartia *sp.  3 0.29484666124661185\n",
      "Acartia *sp.  4 0.3680829643973125\n",
      "Acartia hudsonica  6F 0.4329025513610228\n",
      "Acartia hudsonica  6M 0.49399644551884\n",
      "Acartia longiremis  5 0.5431409967988144\n",
      "Acartia longiremis  6F 0.5886318981463128\n",
      "Acartia longiremis  6M 0.6190386032292559\n",
      "Aetideidae *sp.  1 0.6439498427850984\n",
      "Aetideidae *sp.  2 0.6671245855201072\n",
      "Aetideus divergens  4 0.6864790791778634\n",
      "Aetideus divergens  5 0.7047988351018797\n",
      "Aetideus divergens  6F 0.7226583293147834\n",
      "Aetideus divergens  6M 0.7390363321216001\n",
      "Calanoida *sp.  1 0.7541849935792889\n",
      "Calanoida *sp.  2 0.7665354044048726\n",
      "Calanus *sp.  1 0.7788231071805769\n",
      "Calanus *sp.  2 0.790237839223369\n",
      "Calanus *sp. nauplii s1 0.8015660319608983\n",
      "Calanus marshallae  5 0.8112372386098404\n",
      "Calanus marshallae  6F 0.8207127434288607\n",
      "Calanus marshallae  6M 0.829321427516358\n",
      "Calanus pacificus  4 0.8376354606444388\n",
      "Calanus pacificus  5 0.8458247366014807\n",
      "Calanus pacificus  6F 0.8535784606744201\n",
      "Calanus pacificus  6M 0.8607734131925657\n",
      "Candacia *sp.  1 0.8679344308816171\n",
      "Candacia columbiae  6F 0.8747362225966646\n",
      "Centropages abdominalis  1 0.880900720417752\n",
      "Centropages abdominalis  2 0.8866486654661718\n",
      "Centropages abdominalis  3 0.8916313746274446\n",
      "Centropages abdominalis  4 0.8963357962258539\n",
      "Centropages abdominalis  5 0.9007499597229819\n",
      "Centropages abdominalis  6F 0.9046806891823342\n",
      "Centropages abdominalis  6M 0.9085288329087452\n",
      "Chiridius *sp.  3 0.9121159310404736\n",
      "Chiridius gracilis  3 0.9155190782377918\n",
      "Chiridius gracilis  4 0.9188578700634294\n",
      "Chiridius gracilis  5 0.922149987771381\n",
      "Chiridius gracilis  6F 0.9253754438571316\n",
      "Clausocalanus arcuicornis  5 0.9284623052687172\n",
      "Clausocalanus arcuicornis  6F 0.9314462639784864\n",
      "Clausocalanus arcuicornis  6M 0.9343421458826454\n",
      "Clausocalanus parapergens  5 0.9371864117037162\n",
      "Clausocalanus parapergens  6F 0.9399879569794224\n",
      "Clausocalanus pergens  6F 0.9427879647547812\n",
      "Ctenocalanus vanus  4 0.9452954081783376\n",
      "Ctenocalanus vanus  5 0.9475569613677779\n",
      "Ctenocalanus vanus  6F 0.9498129136630957\n",
      "Epilabidocera *sp. nauplii s1 0.9518977641340486\n",
      "Epilabidocera longipedata  5 0.9538723538658086\n",
      "Eucalanus *sp. nauplii s1 0.9558418918107131\n",
      "Eucalanus bungii  5F 0.9577635476019443\n",
      "Eucalanus bungii  5M 0.9596218364145757\n",
      "Eucalanus bungii  6F 0.9614208216423822\n",
      "Eucalanus bungii  6M 0.9630263014693342\n",
      "Eucalanus californicus  5F 0.9645543571716539\n",
      "Eucalanus californicus  6F 0.9659662217762982\n",
      "Euchaetidae *sp.  1 0.9673497524459708\n",
      "Euchaetidae *sp.  2 0.9685823884387001\n",
      "Euchaetidae *sp.  3 0.9697042145849697\n",
      "Euchaetidae *sp. nauplii s1 0.9707633326813598\n",
      "Euchirella *sp.  4 0.9718003766656207\n",
      "Euchirella pseudopulchra  6M 0.9727906367107421\n",
      "Gaetanus minutus  4 0.973688427092118\n",
      "Gaetanus minutus  5 0.9745852290804133\n",
      "Gaetanus minutus  6F 0.9754191033759225\n",
      "Heterorhabdus *sp.  3 0.9762425446333606\n",
      "Heterorhabdus *sp.  4 0.9770157974866042\n",
      "Heterorhabdus tanneri  6F 0.9777780681945101\n",
      "Metridia *sp.  1 0.978522987112782\n",
      "Metridia *sp.  2 0.9792526408490341\n",
      "Metridia *sp.  3 0.979977901727151\n",
      "Metridia *sp.  4 0.9807012956405606\n",
      "Metridia *sp.  5 0.9813971243691719\n",
      "Metridia *sp.  6F 0.9820906468472622\n",
      "Metridia pacifica  5F 0.9827817532533781\n",
      "Metridia pacifica  5M 0.9834220123265796\n",
      "Metridia pacifica  6F 0.9839754026301578\n",
      "Metridia pacifica  6M 0.9845213250749064\n",
      "Metridia pseudopacifica  6F 0.9850584618033847\n",
      "Metridia pseudopacifica  6M 0.9855917547809946\n",
      "Microcalanus *sp.  3 0.9861073665046104\n",
      "Microcalanus *sp.  4 0.9865972800081355\n",
      "Microcalanus pusillus  4 0.9870838988680593\n",
      "Microcalanus pusillus  5 0.9875657954054877\n",
      "Microcalanus pusillus  6F 0.9880469231927423\n",
      "Microcalanus pusillus  6M 0.9885272822298237\n",
      "Microcalanus pygmaeus  3 0.9890037975160365\n",
      "Microcalanus pygmaeus  4 0.9894687815496445\n",
      "Microcalanus pygmaeus  5 0.9899276155818633\n",
      "Microcalanus pygmaeus  6F 0.9903856808639082\n",
      "Microcalanus pygmaeus  6M 0.9908161809611551\n",
      "Neocalanus *sp. eggs s1 0.9912303176618485\n",
      "Neocalanus cristatus  6F 0.991639292754233\n",
      "Neocalanus plumchrus  4 0.9920401410590676\n",
      "Neocalanus plumchrus  5 0.9924279206109499\n",
      "Neocalanus plumchrus  6F 0.9927969206943044\n",
      "Neocalanus plumchrus  6M 0.9931437368440763\n",
      "Paracalanus indicus  4 0.9934752878118285\n",
      "Paracalanus indicus  5 0.9937899262757602\n",
      "Paracalanus indicus  6F 0.9940953397376081\n",
      "Paracalanus indicus  6M 0.994397019270041\n",
      "Paracalanus parvus  5 0.9946788211194123\n",
      "Paracalanus parvus  6F 0.9949577676109959\n",
      "Paracalanus quasimodo  5 0.9952290266008427\n",
      "Paracalanus quasimodo  6F 0.9954999561263295\n",
      "Paracalanus quasimodo  6M 0.9957663829722276\n",
      "Paraeuchaeta *sp.  4 0.9960321508894056\n",
      "Paraeuchaeta elongata  4 0.9962944045200753\n",
      "Paraeuchaeta elongata  5F 0.9965557795791181\n",
      "Paraeuchaeta elongata  5M 0.9967816823087192\n",
      "Paraeuchaeta elongata  6F 0.9969847421760175\n",
      "Paraeuchaeta elongata  6M 0.9971824207921003\n",
      "Pleuromamma indica  6F 0.9973601119036681\n",
      "Pseudocalanus *sp.  1 0.9975172664034538\n",
      "Pseudocalanus *sp.  2 0.9976716753669052\n",
      "Pseudocalanus *sp.  3 0.9978228995082085\n",
      "Pseudocalanus *sp.  4 0.9979725861491645\n",
      "Pseudocalanus mimus  5F 0.9981151343956508\n",
      "Pseudocalanus mimus  5M 0.9982552665701628\n",
      "Pseudocalanus mimus  6F 0.9983936416014209\n",
      "Pseudocalanus minutus  5F 0.9985239996665821\n",
      "Pseudocalanus minutus  5M 0.9986469996943669\n",
      "Pseudocalanus minutus  6F 0.9987699997221517\n",
      "Pseudocalanus minutus  6M 0.9988843238551196\n",
      "Pseudocalanus moultoni  5F 0.9989867872711226\n",
      "Pseudocalanus moultoni  5M 0.9990847480075368\n",
      "Pseudocalanus moultoni  6F 0.9991825989224978\n",
      "Pseudocalanus moultoni  6M 0.9992677105488669\n",
      "Pseudocalanus newmani  5F 0.9993470016382066\n",
      "Pseudocalanus newmani  5M 0.9994149811178484\n",
      "Pseudocalanus newmani  6F 0.9994764811317408\n",
      "Pseudocalanus newmani  6M 0.9995352356092989\n",
      "Racovitzanus antarcticus  4 0.9995854240134933\n",
      "Rhincalanus nasutus  6F 0.9996324275955395\n",
      "Scaphocalanus brevicornis  6M 0.9996775642128783\n",
      "Scolecithricella globulosa  5 0.9997201749367896\n",
      "Scolecithricella minor  3 0.9997611383389\n",
      "Scolecithricella minor  4 0.9997937553105537\n",
      "Scolecithricella minor  5 0.9998251642462203\n",
      "Scolecithricella minor  6F 0.999854925860086\n",
      "Scolecithricella minor  6M 0.9998805142587233\n",
      "Spinocalanus brevicaudatus  5 0.9999061026573607\n",
      "Spinocalanus brevicaudatus  6F 0.9999260901618757\n",
      "Tortanus discaudatus  1 0.9999438812373231\n",
      "Tortanus discaudatus  2 0.9999592562407963\n",
      "Tortanus discaudatus  3 0.9999718857079348\n",
      "Tortanus discaudatus  4 0.9999794633882181\n",
      "Tortanus discaudatus  5 0.9999866017826877\n",
      "Tortanus discaudatus  6F 0.9999937401771575\n",
      "Tortanus discaudatus  6M 1.0\n",
      "included: 45.85667\n",
      "fraction included: 0.5036046146535424\n"
     ]
    }
   ],
   "source": [
    "temp=df.loc[(df.Month==2)&(df['Order:']=='Calanoida'),['Name','Biomass(mg/m3)']].groupby('Name',as_index=False).sum()\\\n",
    "        .sort_values(['Biomass(mg/m3)'],ascending=False)\n",
    "print('Total:',np.sum(temp['Biomass(mg/m3)']))\n",
    "bsum=0\n",
    "for i in range(0,len(temp)):\n",
    "    print(temp['Name'][i],np.sum(temp['Biomass(mg/m3)'][:(i+1)])/np.sum(temp['Biomass(mg/m3)']))\n",
    "    if temp['Name'][i] in colList:\n",
    "        bsum=bsum+temp['Biomass(mg/m3)'][(i+1)]\n",
    "print('included:',bsum)\n",
    "print('fraction included:',bsum/np.sum(temp['Biomass(mg/m3)']))"
   ]
  },
  {
   "cell_type": "code",
   "execution_count": 66,
   "metadata": {},
   "outputs": [
    {
     "data": {
      "text/plain": [
       "'Acartia *sp.  1'"
      ]
     },
     "execution_count": 66,
     "metadata": {},
     "output_type": "execute_result"
    }
   ],
   "source": [
    "temp['Name'][0]"
   ]
  },
  {
   "cell_type": "code",
   "execution_count": 45,
   "metadata": {},
   "outputs": [
    {
     "data": {
      "text/plain": [
       "5.784098014243127"
      ]
     },
     "execution_count": 45,
     "metadata": {},
     "output_type": "execute_result"
    }
   ],
   "source": [
    "10**(np.sum(np.log10(test['Biomass(mg/m3)']))/13)"
   ]
  },
  {
   "cell_type": "code",
   "execution_count": null,
   "metadata": {},
   "outputs": [],
   "source": []
  },
  {
   "cell_type": "code",
   "execution_count": 43,
   "metadata": {},
   "outputs": [
    {
     "data": {
      "text/plain": [
       "273.85192568125007"
      ]
     },
     "execution_count": 43,
     "metadata": {},
     "output_type": "execute_result"
    }
   ],
   "source": [
    "10**(np.sum(np.log10(test['Abundance(#/m3)']))/13)"
   ]
  },
  {
   "cell_type": "code",
   "execution_count": 44,
   "metadata": {},
   "outputs": [
    {
     "data": {
      "text/plain": [
       "5.097374999675256"
      ]
     },
     "execution_count": 44,
     "metadata": {},
     "output_type": "execute_result"
    }
   ],
   "source": [
    "10**(np.sum(np.log10(test['Abundance(#/m3)']))/13)*(4.13*(1.8**3.92))*0.45/1000"
   ]
  },
  {
   "cell_type": "code",
   "execution_count": 48,
   "metadata": {},
   "outputs": [
    {
     "data": {
      "text/plain": [
       "0.05239622263482247"
      ]
     },
     "execution_count": 48,
     "metadata": {},
     "output_type": "execute_result"
    }
   ],
   "source": [
    "10**(np.sum(np.log10(test['Abundance(#/m3)']))/13)*4.13*(0.5**3.28)*0.45/1000"
   ]
  },
  {
   "cell_type": "code",
   "execution_count": null,
   "metadata": {},
   "outputs": [],
   "source": []
  },
  {
   "cell_type": "markdown",
   "metadata": {},
   "source": [
    "### Create an abundance dataframe"
   ]
  },
  {
   "cell_type": "code",
   "execution_count": 26,
   "metadata": {},
   "outputs": [],
   "source": [
    "biomassDF=df.groupby(towIDlist,as_index=False).first()\\\n",
    "     .loc[:,towIDlist].copy(deep=True)"
   ]
  },
  {
   "cell_type": "code",
   "execution_count": 27,
   "metadata": {},
   "outputs": [
    {
     "data": {
      "text/html": [
       "<div>\n",
       "<style scoped>\n",
       "    .dataframe tbody tr th:only-of-type {\n",
       "        vertical-align: middle;\n",
       "    }\n",
       "\n",
       "    .dataframe tbody tr th {\n",
       "        vertical-align: top;\n",
       "    }\n",
       "\n",
       "    .dataframe thead th {\n",
       "        text-align: right;\n",
       "    }\n",
       "</style>\n",
       "<table border=\"1\" class=\"dataframe\">\n",
       "  <thead>\n",
       "    <tr style=\"text-align: right;\">\n",
       "      <th></th>\n",
       "      <th>Key</th>\n",
       "      <th>region_name</th>\n",
       "      <th>Station</th>\n",
       "      <th>lon</th>\n",
       "      <th>lat</th>\n",
       "      <th>Date</th>\n",
       "      <th>dtUTC</th>\n",
       "      <th>Twilight</th>\n",
       "      <th>Net_Type</th>\n",
       "      <th>Mesh_Size(um)</th>\n",
       "      <th>DEPTH_STRT1</th>\n",
       "      <th>DEPTH_END1</th>\n",
       "      <th>Bottom Depth(m)</th>\n",
       "    </tr>\n",
       "  </thead>\n",
       "  <tbody>\n",
       "    <tr>\n",
       "      <th>0</th>\n",
       "      <td>IOS2012005000901</td>\n",
       "      <td>Northern Strait of Georgia</td>\n",
       "      <td>22</td>\n",
       "      <td>-124.272</td>\n",
       "      <td>49.670</td>\n",
       "      <td>6/14/2012</td>\n",
       "      <td>2012-06-14 14:32:00</td>\n",
       "      <td>Daylight</td>\n",
       "      <td>SCOR VNH</td>\n",
       "      <td>236</td>\n",
       "      <td>50</td>\n",
       "      <td>0</td>\n",
       "      <td>352</td>\n",
       "    </tr>\n",
       "    <tr>\n",
       "      <th>1</th>\n",
       "      <td>IOS2012005001001</td>\n",
       "      <td>Northern Strait of Georgia</td>\n",
       "      <td>22</td>\n",
       "      <td>-124.272</td>\n",
       "      <td>49.670</td>\n",
       "      <td>6/14/2012</td>\n",
       "      <td>2012-06-14 14:52:00</td>\n",
       "      <td>Daylight</td>\n",
       "      <td>SCOR VNH</td>\n",
       "      <td>236</td>\n",
       "      <td>345</td>\n",
       "      <td>0</td>\n",
       "      <td>352</td>\n",
       "    </tr>\n",
       "    <tr>\n",
       "      <th>2</th>\n",
       "      <td>IOS2012005002101</td>\n",
       "      <td>Northern Strait of Georgia</td>\n",
       "      <td>11</td>\n",
       "      <td>-124.722</td>\n",
       "      <td>49.710</td>\n",
       "      <td>6/14/2012</td>\n",
       "      <td>2012-06-14 07:00:00</td>\n",
       "      <td>Night</td>\n",
       "      <td>SCOR VNH</td>\n",
       "      <td>236</td>\n",
       "      <td>50</td>\n",
       "      <td>0</td>\n",
       "      <td>307</td>\n",
       "    </tr>\n",
       "    <tr>\n",
       "      <th>3</th>\n",
       "      <td>IOS2012005002201</td>\n",
       "      <td>Northern Strait of Georgia</td>\n",
       "      <td>11</td>\n",
       "      <td>-124.722</td>\n",
       "      <td>49.710</td>\n",
       "      <td>6/14/2012</td>\n",
       "      <td>2012-06-14 07:05:00</td>\n",
       "      <td>Night</td>\n",
       "      <td>SCOR VNH</td>\n",
       "      <td>236</td>\n",
       "      <td>300</td>\n",
       "      <td>0</td>\n",
       "      <td>307</td>\n",
       "    </tr>\n",
       "    <tr>\n",
       "      <th>4</th>\n",
       "      <td>IOS2012005002901</td>\n",
       "      <td>Northern Strait of Georgia</td>\n",
       "      <td>CPF2</td>\n",
       "      <td>-124.499</td>\n",
       "      <td>49.466</td>\n",
       "      <td>6/15/2012</td>\n",
       "      <td>2012-06-15 10:00:00</td>\n",
       "      <td>Night</td>\n",
       "      <td>SCOR VNH</td>\n",
       "      <td>236</td>\n",
       "      <td>50</td>\n",
       "      <td>0</td>\n",
       "      <td>325</td>\n",
       "    </tr>\n",
       "    <tr>\n",
       "      <th>...</th>\n",
       "      <td>...</td>\n",
       "      <td>...</td>\n",
       "      <td>...</td>\n",
       "      <td>...</td>\n",
       "      <td>...</td>\n",
       "      <td>...</td>\n",
       "      <td>...</td>\n",
       "      <td>...</td>\n",
       "      <td>...</td>\n",
       "      <td>...</td>\n",
       "      <td>...</td>\n",
       "      <td>...</td>\n",
       "      <td>...</td>\n",
       "    </tr>\n",
       "    <tr>\n",
       "      <th>649</th>\n",
       "      <td>SOO2015095000101</td>\n",
       "      <td>Tidal Mixed</td>\n",
       "      <td>CLO-42</td>\n",
       "      <td>-123.345</td>\n",
       "      <td>48.394</td>\n",
       "      <td>4/27/2015</td>\n",
       "      <td>2015-04-27 17:37:00</td>\n",
       "      <td>Daylight</td>\n",
       "      <td>SCOR VNH</td>\n",
       "      <td>236</td>\n",
       "      <td>58</td>\n",
       "      <td>0</td>\n",
       "      <td>72</td>\n",
       "    </tr>\n",
       "    <tr>\n",
       "      <th>650</th>\n",
       "      <td>SOO2015095000401</td>\n",
       "      <td>Tidal Mixed</td>\n",
       "      <td>CB01</td>\n",
       "      <td>-123.318</td>\n",
       "      <td>48.344</td>\n",
       "      <td>4/30/2015</td>\n",
       "      <td>2015-04-30 19:00:00</td>\n",
       "      <td>Daylight</td>\n",
       "      <td>SCOR VNH</td>\n",
       "      <td>236</td>\n",
       "      <td>54</td>\n",
       "      <td>0</td>\n",
       "      <td>64</td>\n",
       "    </tr>\n",
       "    <tr>\n",
       "      <th>651</th>\n",
       "      <td>SOO2015095000501</td>\n",
       "      <td>Tidal Mixed</td>\n",
       "      <td>CLO-41</td>\n",
       "      <td>-123.345</td>\n",
       "      <td>48.395</td>\n",
       "      <td>7/9/2015</td>\n",
       "      <td>2015-07-09 19:25:00</td>\n",
       "      <td>Daylight</td>\n",
       "      <td>SCOR VNH</td>\n",
       "      <td>236</td>\n",
       "      <td>42</td>\n",
       "      <td>0</td>\n",
       "      <td>64</td>\n",
       "    </tr>\n",
       "    <tr>\n",
       "      <th>652</th>\n",
       "      <td>SOO2015095000701</td>\n",
       "      <td>Tidal Mixed</td>\n",
       "      <td>CB01</td>\n",
       "      <td>-123.318</td>\n",
       "      <td>48.344</td>\n",
       "      <td>7/27/2015</td>\n",
       "      <td>2015-07-27 19:06:00</td>\n",
       "      <td>Daylight</td>\n",
       "      <td>SCOR VNH</td>\n",
       "      <td>236</td>\n",
       "      <td>28</td>\n",
       "      <td>0</td>\n",
       "      <td>60</td>\n",
       "    </tr>\n",
       "    <tr>\n",
       "      <th>653</th>\n",
       "      <td>SOO2015095000801</td>\n",
       "      <td>Tidal Mixed</td>\n",
       "      <td>MAC41</td>\n",
       "      <td>-123.409</td>\n",
       "      <td>48.402</td>\n",
       "      <td>7/27/2015</td>\n",
       "      <td>2015-07-27 20:00:00</td>\n",
       "      <td>Daylight</td>\n",
       "      <td>SCOR VNH</td>\n",
       "      <td>236</td>\n",
       "      <td>49</td>\n",
       "      <td>0</td>\n",
       "      <td>62</td>\n",
       "    </tr>\n",
       "  </tbody>\n",
       "</table>\n",
       "<p>654 rows × 13 columns</p>\n",
       "</div>"
      ],
      "text/plain": [
       "                  Key                 region_name Station      lon     lat  \\\n",
       "0    IOS2012005000901  Northern Strait of Georgia      22 -124.272  49.670   \n",
       "1    IOS2012005001001  Northern Strait of Georgia      22 -124.272  49.670   \n",
       "2    IOS2012005002101  Northern Strait of Georgia      11 -124.722  49.710   \n",
       "3    IOS2012005002201  Northern Strait of Georgia      11 -124.722  49.710   \n",
       "4    IOS2012005002901  Northern Strait of Georgia    CPF2 -124.499  49.466   \n",
       "..                ...                         ...     ...      ...     ...   \n",
       "649  SOO2015095000101                 Tidal Mixed  CLO-42 -123.345  48.394   \n",
       "650  SOO2015095000401                 Tidal Mixed    CB01 -123.318  48.344   \n",
       "651  SOO2015095000501                 Tidal Mixed  CLO-41 -123.345  48.395   \n",
       "652  SOO2015095000701                 Tidal Mixed    CB01 -123.318  48.344   \n",
       "653  SOO2015095000801                 Tidal Mixed   MAC41 -123.409  48.402   \n",
       "\n",
       "          Date               dtUTC  Twilight  Net_Type  Mesh_Size(um)  \\\n",
       "0    6/14/2012 2012-06-14 14:32:00  Daylight  SCOR VNH            236   \n",
       "1    6/14/2012 2012-06-14 14:52:00  Daylight  SCOR VNH            236   \n",
       "2    6/14/2012 2012-06-14 07:00:00     Night  SCOR VNH            236   \n",
       "3    6/14/2012 2012-06-14 07:05:00     Night  SCOR VNH            236   \n",
       "4    6/15/2012 2012-06-15 10:00:00     Night  SCOR VNH            236   \n",
       "..         ...                 ...       ...       ...            ...   \n",
       "649  4/27/2015 2015-04-27 17:37:00  Daylight  SCOR VNH            236   \n",
       "650  4/30/2015 2015-04-30 19:00:00  Daylight  SCOR VNH            236   \n",
       "651   7/9/2015 2015-07-09 19:25:00  Daylight  SCOR VNH            236   \n",
       "652  7/27/2015 2015-07-27 19:06:00  Daylight  SCOR VNH            236   \n",
       "653  7/27/2015 2015-07-27 20:00:00  Daylight  SCOR VNH            236   \n",
       "\n",
       "     DEPTH_STRT1  DEPTH_END1  Bottom Depth(m)  \n",
       "0             50           0              352  \n",
       "1            345           0              352  \n",
       "2             50           0              307  \n",
       "3            300           0              307  \n",
       "4             50           0              325  \n",
       "..           ...         ...              ...  \n",
       "649           58           0               72  \n",
       "650           54           0               64  \n",
       "651           42           0               64  \n",
       "652           28           0               60  \n",
       "653           49           0               62  \n",
       "\n",
       "[654 rows x 13 columns]"
      ]
     },
     "execution_count": 27,
     "metadata": {},
     "output_type": "execute_result"
    }
   ],
   "source": [
    "biomassDF"
   ]
  },
  {
   "cell_type": "code",
   "execution_count": 28,
   "metadata": {},
   "outputs": [],
   "source": [
    "#### Get abundance column to input into biomassDF as these abundance values will be multiplied by carbon conversion equations"
   ]
  },
  {
   "cell_type": "raw",
   "metadata": {},
   "source": [
    "def getabundance(colname,key,origdf,matchcol):        \n",
    "    abundanceArray=origdf.loc[(origdf.Key==key)&(origdf[matchcol]==colname),\n",
    "                    ['Abundance(#/m3)']]\n",
    "    abundance=np.nansum(abundanceArray)\n",
    "    \n",
    "    return abundance"
   ]
  },
  {
   "cell_type": "code",
   "execution_count": 29,
   "metadata": {},
   "outputs": [],
   "source": [
    "#for icol in colList:\n",
    "#    biomassDF[icol]=[getabundance(icol,ikey,df,'Name') for ikey in biomassDF['Key']]"
   ]
  },
  {
   "cell_type": "raw",
   "metadata": {},
   "source": [
    "def getabundance(colname,key,origdf):        \n",
    "    abundanceArray=df.loc[(origdf.Key==key)&(origdf['Order:']==colname)&(origdf['Family:']==colname)&(origdf['Name']==colname),\n",
    "                    ['Abundance(#/m3)']]\n",
    "    abundance=np.nansum(abundanceArray)\n",
    "    \n",
    "    return abundance"
   ]
  },
  {
   "cell_type": "code",
   "execution_count": 30,
   "metadata": {},
   "outputs": [],
   "source": [
    "#for icol in colList:\n",
    "#    biomassDF[icol]=[getabundance(icol,ikey,df) for ikey in biomassDF['Key']]"
   ]
  },
  {
   "cell_type": "code",
   "execution_count": 32,
   "metadata": {},
   "outputs": [],
   "source": [
    "def getabundance(colname,key,origdf):        \n",
    "    abundanceArray=origdf.loc[(origdf.Key==key)&(origdf['Name']==colname),\n",
    "                    ['Abundance(#/m3)']]\n",
    "    if len(abundanceArray)>1:\n",
    "        print(len(abundanceArray),colname,key)\n",
    "    abundance=np.nansum(abundanceArray)\n",
    "    \n",
    "    return abundance"
   ]
  },
  {
   "cell_type": "code",
   "execution_count": 33,
   "metadata": {},
   "outputs": [],
   "source": [
    "for icol in colList:\n",
    "    biomassDF[icol]=[getabundance(icol,ikey,df) for ikey in biomassDF['Key']]"
   ]
  },
  {
   "cell_type": "raw",
   "metadata": {},
   "source": []
  },
  {
   "cell_type": "code",
   "execution_count": null,
   "metadata": {},
   "outputs": [],
   "source": []
  },
  {
   "cell_type": "code",
   "execution_count": 38,
   "metadata": {
    "scrolled": true
   },
   "outputs": [
    {
     "data": {
      "text/html": [
       "<div>\n",
       "<style scoped>\n",
       "    .dataframe tbody tr th:only-of-type {\n",
       "        vertical-align: middle;\n",
       "    }\n",
       "\n",
       "    .dataframe tbody tr th {\n",
       "        vertical-align: top;\n",
       "    }\n",
       "\n",
       "    .dataframe thead th {\n",
       "        text-align: right;\n",
       "    }\n",
       "</style>\n",
       "<table border=\"1\" class=\"dataframe\">\n",
       "  <thead>\n",
       "    <tr style=\"text-align: right;\">\n",
       "      <th></th>\n",
       "      <th>Calanus *sp.  1</th>\n",
       "    </tr>\n",
       "  </thead>\n",
       "  <tbody>\n",
       "    <tr>\n",
       "      <th>0</th>\n",
       "      <td>3.05635</td>\n",
       "    </tr>\n",
       "  </tbody>\n",
       "</table>\n",
       "</div>"
      ],
      "text/plain": [
       "   Calanus *sp.  1\n",
       "0          3.05635"
      ]
     },
     "execution_count": 38,
     "metadata": {},
     "output_type": "execute_result"
    }
   ],
   "source": [
    "biomassDF.loc[biomassDF.Key=='IOS2012005000901',['Calanus *sp.  1']]"
   ]
  },
  {
   "cell_type": "code",
   "execution_count": 37,
   "metadata": {},
   "outputs": [
    {
     "data": {
      "text/html": [
       "<div>\n",
       "<style scoped>\n",
       "    .dataframe tbody tr th:only-of-type {\n",
       "        vertical-align: middle;\n",
       "    }\n",
       "\n",
       "    .dataframe tbody tr th {\n",
       "        vertical-align: top;\n",
       "    }\n",
       "\n",
       "    .dataframe thead th {\n",
       "        text-align: right;\n",
       "    }\n",
       "</style>\n",
       "<table border=\"1\" class=\"dataframe\">\n",
       "  <thead>\n",
       "    <tr style=\"text-align: right;\">\n",
       "      <th></th>\n",
       "      <th>Key</th>\n",
       "      <th>region_name</th>\n",
       "      <th>Station</th>\n",
       "      <th>lon</th>\n",
       "      <th>lat</th>\n",
       "      <th>Date</th>\n",
       "      <th>dtUTC</th>\n",
       "      <th>Twilight</th>\n",
       "      <th>Net_Type</th>\n",
       "      <th>Mesh_Size(um)</th>\n",
       "      <th>...</th>\n",
       "      <th>Thysanoessa raschii zoea s1</th>\n",
       "      <th>Thysanoessa spinifera  F</th>\n",
       "      <th>Thysanoessa spinifera  M</th>\n",
       "      <th>Thysanoessa spinifera  s2</th>\n",
       "      <th>Thysanoessa spinifera  s3</th>\n",
       "      <th>Thysanoessa spinifera eggs s1</th>\n",
       "      <th>Thysanoessa spinifera nauplii s1</th>\n",
       "      <th>Thysanoessa spinifera zoea s1</th>\n",
       "      <th>Xanthidae *sp. megalops s1</th>\n",
       "      <th>Xanthidae *sp. zoea s1</th>\n",
       "    </tr>\n",
       "  </thead>\n",
       "  <tbody>\n",
       "    <tr>\n",
       "      <th>0</th>\n",
       "      <td>IOS2012005000901</td>\n",
       "      <td>Northern Strait of Georgia</td>\n",
       "      <td>22</td>\n",
       "      <td>-124.272</td>\n",
       "      <td>49.670</td>\n",
       "      <td>6/14/2012</td>\n",
       "      <td>2012-06-14 14:32:00</td>\n",
       "      <td>Daylight</td>\n",
       "      <td>SCOR VNH</td>\n",
       "      <td>236</td>\n",
       "      <td>...</td>\n",
       "      <td>0.0</td>\n",
       "      <td>0.0</td>\n",
       "      <td>0.0</td>\n",
       "      <td>0.0</td>\n",
       "      <td>0.0</td>\n",
       "      <td>0.0</td>\n",
       "      <td>0.0</td>\n",
       "      <td>0.0</td>\n",
       "      <td>0.0</td>\n",
       "      <td>0.0</td>\n",
       "    </tr>\n",
       "    <tr>\n",
       "      <th>1</th>\n",
       "      <td>IOS2012005001001</td>\n",
       "      <td>Northern Strait of Georgia</td>\n",
       "      <td>22</td>\n",
       "      <td>-124.272</td>\n",
       "      <td>49.670</td>\n",
       "      <td>6/14/2012</td>\n",
       "      <td>2012-06-14 14:52:00</td>\n",
       "      <td>Daylight</td>\n",
       "      <td>SCOR VNH</td>\n",
       "      <td>236</td>\n",
       "      <td>...</td>\n",
       "      <td>0.0</td>\n",
       "      <td>0.0</td>\n",
       "      <td>0.0</td>\n",
       "      <td>0.0</td>\n",
       "      <td>0.0</td>\n",
       "      <td>0.0</td>\n",
       "      <td>0.0</td>\n",
       "      <td>0.0</td>\n",
       "      <td>0.0</td>\n",
       "      <td>0.0</td>\n",
       "    </tr>\n",
       "    <tr>\n",
       "      <th>2</th>\n",
       "      <td>IOS2012005002101</td>\n",
       "      <td>Northern Strait of Georgia</td>\n",
       "      <td>11</td>\n",
       "      <td>-124.722</td>\n",
       "      <td>49.710</td>\n",
       "      <td>6/14/2012</td>\n",
       "      <td>2012-06-14 07:00:00</td>\n",
       "      <td>Night</td>\n",
       "      <td>SCOR VNH</td>\n",
       "      <td>236</td>\n",
       "      <td>...</td>\n",
       "      <td>0.0</td>\n",
       "      <td>0.0</td>\n",
       "      <td>0.0</td>\n",
       "      <td>0.0</td>\n",
       "      <td>0.0</td>\n",
       "      <td>0.0</td>\n",
       "      <td>0.0</td>\n",
       "      <td>0.0</td>\n",
       "      <td>0.0</td>\n",
       "      <td>0.0</td>\n",
       "    </tr>\n",
       "    <tr>\n",
       "      <th>3</th>\n",
       "      <td>IOS2012005002201</td>\n",
       "      <td>Northern Strait of Georgia</td>\n",
       "      <td>11</td>\n",
       "      <td>-124.722</td>\n",
       "      <td>49.710</td>\n",
       "      <td>6/14/2012</td>\n",
       "      <td>2012-06-14 07:05:00</td>\n",
       "      <td>Night</td>\n",
       "      <td>SCOR VNH</td>\n",
       "      <td>236</td>\n",
       "      <td>...</td>\n",
       "      <td>0.0</td>\n",
       "      <td>0.0</td>\n",
       "      <td>0.0</td>\n",
       "      <td>0.0</td>\n",
       "      <td>0.0</td>\n",
       "      <td>0.0</td>\n",
       "      <td>0.0</td>\n",
       "      <td>0.0</td>\n",
       "      <td>0.0</td>\n",
       "      <td>0.0</td>\n",
       "    </tr>\n",
       "    <tr>\n",
       "      <th>4</th>\n",
       "      <td>IOS2012005002901</td>\n",
       "      <td>Northern Strait of Georgia</td>\n",
       "      <td>CPF2</td>\n",
       "      <td>-124.499</td>\n",
       "      <td>49.466</td>\n",
       "      <td>6/15/2012</td>\n",
       "      <td>2012-06-15 10:00:00</td>\n",
       "      <td>Night</td>\n",
       "      <td>SCOR VNH</td>\n",
       "      <td>236</td>\n",
       "      <td>...</td>\n",
       "      <td>0.0</td>\n",
       "      <td>0.0</td>\n",
       "      <td>0.0</td>\n",
       "      <td>0.0</td>\n",
       "      <td>0.0</td>\n",
       "      <td>0.0</td>\n",
       "      <td>0.0</td>\n",
       "      <td>0.0</td>\n",
       "      <td>0.0</td>\n",
       "      <td>0.0</td>\n",
       "    </tr>\n",
       "    <tr>\n",
       "      <th>...</th>\n",
       "      <td>...</td>\n",
       "      <td>...</td>\n",
       "      <td>...</td>\n",
       "      <td>...</td>\n",
       "      <td>...</td>\n",
       "      <td>...</td>\n",
       "      <td>...</td>\n",
       "      <td>...</td>\n",
       "      <td>...</td>\n",
       "      <td>...</td>\n",
       "      <td>...</td>\n",
       "      <td>...</td>\n",
       "      <td>...</td>\n",
       "      <td>...</td>\n",
       "      <td>...</td>\n",
       "      <td>...</td>\n",
       "      <td>...</td>\n",
       "      <td>...</td>\n",
       "      <td>...</td>\n",
       "      <td>...</td>\n",
       "      <td>...</td>\n",
       "    </tr>\n",
       "    <tr>\n",
       "      <th>649</th>\n",
       "      <td>SOO2015095000101</td>\n",
       "      <td>Tidal Mixed</td>\n",
       "      <td>CLO-42</td>\n",
       "      <td>-123.345</td>\n",
       "      <td>48.394</td>\n",
       "      <td>4/27/2015</td>\n",
       "      <td>2015-04-27 17:37:00</td>\n",
       "      <td>Daylight</td>\n",
       "      <td>SCOR VNH</td>\n",
       "      <td>236</td>\n",
       "      <td>...</td>\n",
       "      <td>0.0</td>\n",
       "      <td>0.0</td>\n",
       "      <td>0.0</td>\n",
       "      <td>0.0</td>\n",
       "      <td>0.0</td>\n",
       "      <td>0.0</td>\n",
       "      <td>0.0</td>\n",
       "      <td>0.0</td>\n",
       "      <td>0.0</td>\n",
       "      <td>0.0</td>\n",
       "    </tr>\n",
       "    <tr>\n",
       "      <th>650</th>\n",
       "      <td>SOO2015095000401</td>\n",
       "      <td>Tidal Mixed</td>\n",
       "      <td>CB01</td>\n",
       "      <td>-123.318</td>\n",
       "      <td>48.344</td>\n",
       "      <td>4/30/2015</td>\n",
       "      <td>2015-04-30 19:00:00</td>\n",
       "      <td>Daylight</td>\n",
       "      <td>SCOR VNH</td>\n",
       "      <td>236</td>\n",
       "      <td>...</td>\n",
       "      <td>0.0</td>\n",
       "      <td>0.0</td>\n",
       "      <td>0.0</td>\n",
       "      <td>0.0</td>\n",
       "      <td>0.0</td>\n",
       "      <td>0.0</td>\n",
       "      <td>0.0</td>\n",
       "      <td>0.0</td>\n",
       "      <td>0.0</td>\n",
       "      <td>0.0</td>\n",
       "    </tr>\n",
       "    <tr>\n",
       "      <th>651</th>\n",
       "      <td>SOO2015095000501</td>\n",
       "      <td>Tidal Mixed</td>\n",
       "      <td>CLO-41</td>\n",
       "      <td>-123.345</td>\n",
       "      <td>48.395</td>\n",
       "      <td>7/9/2015</td>\n",
       "      <td>2015-07-09 19:25:00</td>\n",
       "      <td>Daylight</td>\n",
       "      <td>SCOR VNH</td>\n",
       "      <td>236</td>\n",
       "      <td>...</td>\n",
       "      <td>0.0</td>\n",
       "      <td>0.0</td>\n",
       "      <td>0.0</td>\n",
       "      <td>0.0</td>\n",
       "      <td>0.0</td>\n",
       "      <td>0.0</td>\n",
       "      <td>0.0</td>\n",
       "      <td>0.0</td>\n",
       "      <td>0.0</td>\n",
       "      <td>0.0</td>\n",
       "    </tr>\n",
       "    <tr>\n",
       "      <th>652</th>\n",
       "      <td>SOO2015095000701</td>\n",
       "      <td>Tidal Mixed</td>\n",
       "      <td>CB01</td>\n",
       "      <td>-123.318</td>\n",
       "      <td>48.344</td>\n",
       "      <td>7/27/2015</td>\n",
       "      <td>2015-07-27 19:06:00</td>\n",
       "      <td>Daylight</td>\n",
       "      <td>SCOR VNH</td>\n",
       "      <td>236</td>\n",
       "      <td>...</td>\n",
       "      <td>0.0</td>\n",
       "      <td>0.0</td>\n",
       "      <td>0.0</td>\n",
       "      <td>0.0</td>\n",
       "      <td>0.0</td>\n",
       "      <td>0.0</td>\n",
       "      <td>0.0</td>\n",
       "      <td>0.0</td>\n",
       "      <td>0.0</td>\n",
       "      <td>0.0</td>\n",
       "    </tr>\n",
       "    <tr>\n",
       "      <th>653</th>\n",
       "      <td>SOO2015095000801</td>\n",
       "      <td>Tidal Mixed</td>\n",
       "      <td>MAC41</td>\n",
       "      <td>-123.409</td>\n",
       "      <td>48.402</td>\n",
       "      <td>7/27/2015</td>\n",
       "      <td>2015-07-27 20:00:00</td>\n",
       "      <td>Daylight</td>\n",
       "      <td>SCOR VNH</td>\n",
       "      <td>236</td>\n",
       "      <td>...</td>\n",
       "      <td>0.0</td>\n",
       "      <td>0.0</td>\n",
       "      <td>0.0</td>\n",
       "      <td>0.0</td>\n",
       "      <td>0.0</td>\n",
       "      <td>0.0</td>\n",
       "      <td>0.0</td>\n",
       "      <td>0.0</td>\n",
       "      <td>0.0</td>\n",
       "      <td>0.0</td>\n",
       "    </tr>\n",
       "  </tbody>\n",
       "</table>\n",
       "<p>654 rows × 250 columns</p>\n",
       "</div>"
      ],
      "text/plain": [
       "                  Key                 region_name Station      lon     lat  \\\n",
       "0    IOS2012005000901  Northern Strait of Georgia      22 -124.272  49.670   \n",
       "1    IOS2012005001001  Northern Strait of Georgia      22 -124.272  49.670   \n",
       "2    IOS2012005002101  Northern Strait of Georgia      11 -124.722  49.710   \n",
       "3    IOS2012005002201  Northern Strait of Georgia      11 -124.722  49.710   \n",
       "4    IOS2012005002901  Northern Strait of Georgia    CPF2 -124.499  49.466   \n",
       "..                ...                         ...     ...      ...     ...   \n",
       "649  SOO2015095000101                 Tidal Mixed  CLO-42 -123.345  48.394   \n",
       "650  SOO2015095000401                 Tidal Mixed    CB01 -123.318  48.344   \n",
       "651  SOO2015095000501                 Tidal Mixed  CLO-41 -123.345  48.395   \n",
       "652  SOO2015095000701                 Tidal Mixed    CB01 -123.318  48.344   \n",
       "653  SOO2015095000801                 Tidal Mixed   MAC41 -123.409  48.402   \n",
       "\n",
       "          Date               dtUTC  Twilight  Net_Type  Mesh_Size(um)  ...  \\\n",
       "0    6/14/2012 2012-06-14 14:32:00  Daylight  SCOR VNH            236  ...   \n",
       "1    6/14/2012 2012-06-14 14:52:00  Daylight  SCOR VNH            236  ...   \n",
       "2    6/14/2012 2012-06-14 07:00:00     Night  SCOR VNH            236  ...   \n",
       "3    6/14/2012 2012-06-14 07:05:00     Night  SCOR VNH            236  ...   \n",
       "4    6/15/2012 2012-06-15 10:00:00     Night  SCOR VNH            236  ...   \n",
       "..         ...                 ...       ...       ...            ...  ...   \n",
       "649  4/27/2015 2015-04-27 17:37:00  Daylight  SCOR VNH            236  ...   \n",
       "650  4/30/2015 2015-04-30 19:00:00  Daylight  SCOR VNH            236  ...   \n",
       "651   7/9/2015 2015-07-09 19:25:00  Daylight  SCOR VNH            236  ...   \n",
       "652  7/27/2015 2015-07-27 19:06:00  Daylight  SCOR VNH            236  ...   \n",
       "653  7/27/2015 2015-07-27 20:00:00  Daylight  SCOR VNH            236  ...   \n",
       "\n",
       "     Thysanoessa raschii zoea s1  Thysanoessa spinifera  F  \\\n",
       "0                            0.0                       0.0   \n",
       "1                            0.0                       0.0   \n",
       "2                            0.0                       0.0   \n",
       "3                            0.0                       0.0   \n",
       "4                            0.0                       0.0   \n",
       "..                           ...                       ...   \n",
       "649                          0.0                       0.0   \n",
       "650                          0.0                       0.0   \n",
       "651                          0.0                       0.0   \n",
       "652                          0.0                       0.0   \n",
       "653                          0.0                       0.0   \n",
       "\n",
       "     Thysanoessa spinifera  M  Thysanoessa spinifera  s2  \\\n",
       "0                         0.0                        0.0   \n",
       "1                         0.0                        0.0   \n",
       "2                         0.0                        0.0   \n",
       "3                         0.0                        0.0   \n",
       "4                         0.0                        0.0   \n",
       "..                        ...                        ...   \n",
       "649                       0.0                        0.0   \n",
       "650                       0.0                        0.0   \n",
       "651                       0.0                        0.0   \n",
       "652                       0.0                        0.0   \n",
       "653                       0.0                        0.0   \n",
       "\n",
       "     Thysanoessa spinifera  s3  Thysanoessa spinifera eggs s1  \\\n",
       "0                          0.0                            0.0   \n",
       "1                          0.0                            0.0   \n",
       "2                          0.0                            0.0   \n",
       "3                          0.0                            0.0   \n",
       "4                          0.0                            0.0   \n",
       "..                         ...                            ...   \n",
       "649                        0.0                            0.0   \n",
       "650                        0.0                            0.0   \n",
       "651                        0.0                            0.0   \n",
       "652                        0.0                            0.0   \n",
       "653                        0.0                            0.0   \n",
       "\n",
       "     Thysanoessa spinifera nauplii s1  Thysanoessa spinifera zoea s1  \\\n",
       "0                                 0.0                            0.0   \n",
       "1                                 0.0                            0.0   \n",
       "2                                 0.0                            0.0   \n",
       "3                                 0.0                            0.0   \n",
       "4                                 0.0                            0.0   \n",
       "..                                ...                            ...   \n",
       "649                               0.0                            0.0   \n",
       "650                               0.0                            0.0   \n",
       "651                               0.0                            0.0   \n",
       "652                               0.0                            0.0   \n",
       "653                               0.0                            0.0   \n",
       "\n",
       "     Xanthidae *sp. megalops s1  Xanthidae *sp. zoea s1  \n",
       "0                           0.0                     0.0  \n",
       "1                           0.0                     0.0  \n",
       "2                           0.0                     0.0  \n",
       "3                           0.0                     0.0  \n",
       "4                           0.0                     0.0  \n",
       "..                          ...                     ...  \n",
       "649                         0.0                     0.0  \n",
       "650                         0.0                     0.0  \n",
       "651                         0.0                     0.0  \n",
       "652                         0.0                     0.0  \n",
       "653                         0.0                     0.0  \n",
       "\n",
       "[654 rows x 250 columns]"
      ]
     },
     "execution_count": 37,
     "metadata": {},
     "output_type": "execute_result"
    }
   ],
   "source": [
    "biomassDF"
   ]
  },
  {
   "cell_type": "code",
   "execution_count": 283,
   "metadata": {},
   "outputs": [
    {
     "data": {
      "text/plain": [
       "Index(['region_name', 'Station', 'Lon', 'Lat', 'Date', 'dtUTC', 'Twilight',\n",
       "       'Net_Type', 'Mesh_Size(um)', 'Z_lower', 'Z_upper', 'Bottom Depth(m)',\n",
       "       'Anomura *sp. megalops s1', 'Anomura *sp. zoea s1',\n",
       "       'Anomura *sp. zoea s2', 'Axiidae *sp.  s1', 'Axiidae *sp. mysis s2',\n",
       "       'Axiidae *sp. zoea s1', 'Axiidae *sp. zoea s2',\n",
       "       'Brachyura *sp. zoea s1', 'Calanoida *sp.  1', 'Calanoida *sp.  2',\n",
       "       'Calanoida *sp.  3', 'Calanoida *sp.  4', 'Calanoida *sp.  6M',\n",
       "       'Calanus *sp.  1', 'Calanus *sp.  2', 'Calanus *sp.  3',\n",
       "       'Calanus *sp.  4', 'Calanus *sp. nauplii s1', 'Calanus marshallae  2',\n",
       "       'Calanus marshallae  3', 'Calanus marshallae  4',\n",
       "       'Calanus marshallae  5', 'Calanus marshallae  6F',\n",
       "       'Calanus marshallae  6M', 'Calanus pacificus  2',\n",
       "       'Calanus pacificus  3', 'Calanus pacificus  4', 'Calanus pacificus  5',\n",
       "       'Calanus pacificus  6F', 'Calanus pacificus  6M', 'Calliopius *sp.  s1',\n",
       "       'Calliopius *sp.  s2', 'Calliopius *sp.  s3',\n",
       "       'Calliopius pacificus  s1', 'Calliopius pacificus  s2',\n",
       "       'Calliopius pacificus  s3', 'Cancer *sp. megalops s1',\n",
       "       'Cancer *sp. zoea s1', 'Cancer *sp. zoea s2',\n",
       "       'Cancer magister megalops s2', 'Cancer magister zoea s1',\n",
       "       'Cancer magister zoea s2', 'Cancer oregonensis megalops s1',\n",
       "       'Cancer oregonensis megalops s2', 'Cancer productus megalops s1',\n",
       "       'Cancer productus megalops s2', 'Cancer productus zoea s1',\n",
       "       'Cancer productus zoea s2', 'Caridea *sp.  s3', 'Caridea *sp. mysis s1',\n",
       "       'Caridea *sp. mysis s2', 'Caridea *sp. mysis s3',\n",
       "       'Caridea *sp. zoea s1', 'Caridea *sp. zoea s2', 'Chaetognatha *sp.  s3',\n",
       "       'Chaetognatha *sp. juvenile s1', 'Chaetognatha *sp. juvenile s2',\n",
       "       'Chionoecetes *sp. megalops s1', 'Chionoecetes *sp. megalops s2',\n",
       "       'Chionoecetes *sp. zoea s1', 'Corycaeus anglicus  3',\n",
       "       'Corycaeus anglicus  4', 'Corycaeus anglicus  5',\n",
       "       'Corycaeus anglicus  6F', 'Corycaeus anglicus  6M',\n",
       "       'Crangonidae *sp. mysis s1', 'Crangonidae *sp. mysis s2',\n",
       "       'Crangonidae *sp. mysis s3', 'Crangonidae *sp. zoea s1',\n",
       "       'Crangonidae *sp. zoea s2', 'Cyphocaris *sp.  s1',\n",
       "       'Cyphocaris challengeri  s1', 'Cyphocaris challengeri  s2',\n",
       "       'Cyphocaris challengeri  s3', 'Decapoda *sp. zoea s1',\n",
       "       'Eucalanus *sp.  1', 'Eucalanus *sp.  2', 'Eucalanus *sp.  3',\n",
       "       'Eucalanus *sp. nauplii s1', 'Eucalanus bungii  3',\n",
       "       'Eucalanus bungii  4', 'Eucalanus bungii  4F', 'Eucalanus bungii  4M',\n",
       "       'Eucalanus bungii  5F', 'Eucalanus bungii  5M', 'Eucalanus bungii  6F',\n",
       "       'Eucalanus bungii  6M'],\n",
       "      dtype='object')"
      ]
     },
     "execution_count": 283,
     "metadata": {},
     "output_type": "execute_result"
    }
   ],
   "source": [
    "biomassDF.keys()[1:100]"
   ]
  },
  {
   "cell_type": "code",
   "execution_count": 177,
   "metadata": {},
   "outputs": [],
   "source": [
    "# define log transform function\n",
    "def log(x):\n",
    "  return np.log10(x)"
   ]
  },
  {
   "cell_type": "code",
   "execution_count": null,
   "metadata": {},
   "outputs": [],
   "source": []
  },
  {
   "cell_type": "markdown",
   "metadata": {},
   "source": []
  },
  {
   "cell_type": "markdown",
   "metadata": {},
   "source": [
    "### Convert Abundances to new Biomass values using Puget Sound LW Regressions"
   ]
  },
  {
   "cell_type": "markdown",
   "metadata": {},
   "source": [
    "### Copepod Conversions"
   ]
  },
  {
   "cell_type": "markdown",
   "metadata": {},
   "source": [
    "#### Neocalanus conversion C (ug):"
   ]
  },
  {
   "cell_type": "code",
   "execution_count": 39,
   "metadata": {},
   "outputs": [],
   "source": [
    "biomassDF['Neocalanus plumchrus  1']=(biomassDF['Neocalanus plumchrus  1']*(4.13*(0.9**3.28))*0.45)/1000\n",
    "biomassDF['Neocalanus plumchrus  2']=(biomassDF['Neocalanus plumchrus  2']*(4.13*(1.1**3.28))*0.45)/1000\n",
    "biomassDF['Neocalanus plumchrus  3']=(biomassDF['Neocalanus plumchrus  3']*(4.13*(1.75**3.28))*0.45)/1000\n",
    "biomassDF['Neocalanus plumchrus  4']=(biomassDF['Neocalanus plumchrus  4']*(4.13*(2.6**3.28))*0.45)/1000\n",
    "biomassDF['Neocalanus plumchrus  5']=(biomassDF['Neocalanus plumchrus  5']*(2.00*(3.8**3.92))*0.5)/1000\n",
    "biomassDF['Neocalanus plumchrus  6F']=(biomassDF['Neocalanus plumchrus  6F']*(2.00*(4.5**3.92))*0.5)/1000\n",
    "biomassDF['Neocalanus plumchrus  6M']=(biomassDF['Neocalanus plumchrus  6M']*(2.00*(4.5**3.92))*0.5)/1000"
   ]
  },
  {
   "cell_type": "markdown",
   "metadata": {},
   "source": [
    "#### Calanus Conversions C (ug):"
   ]
  },
  {
   "cell_type": "code",
   "execution_count": 40,
   "metadata": {},
   "outputs": [],
   "source": [
    "#check these lengths/regression equations\n",
    "biomassDF['Calanoida *sp.  1']=(biomassDF['Calanoida *sp.  1']*(4.13*(0.5**3.28))*0.45)/1000\n",
    "biomassDF['Calanoida *sp.  2']=(biomassDF['Calanoida *sp.  2']*(4.13*(0.8**3.28))*0.45)/1000\n",
    "biomassDF['Calanoida *sp.  3']=(biomassDF['Calanoida *sp.  3']*(4.13*(1.2**3.28))*0.45)/1000\n",
    "biomassDF['Calanoida *sp.  4']=(biomassDF['Calanoida *sp.  4']*(4.13*(1.4**3.28))*0.45)/1000\n",
    "biomassDF['Calanoida *sp.  6M']=(biomassDF['Calanoida *sp.  6M']*(2.00*(2.1**3.92))*0.45)/1000"
   ]
  },
  {
   "cell_type": "code",
   "execution_count": 41,
   "metadata": {},
   "outputs": [],
   "source": [
    "#check these lengths/regression equations\n",
    "biomassDF['Calanus *sp.  1']=(biomassDF['Calanus *sp.  1']*(4.13*(0.5**3.28))*0.45)/1000\n",
    "biomassDF['Calanus *sp.  2']=(biomassDF['Calanus *sp.  2']*(4.13*(0.8**3.28))*0.45)/1000\n",
    "biomassDF['Calanus *sp.  3']=(biomassDF['Calanus *sp.  3']*(4.13*(1.2**3.28))*0.45)/1000\n",
    "biomassDF['Calanus *sp.  4']=(biomassDF['Calanus *sp.  4']*(4.13*(1.4**3.28))*0.45)/1000\n",
    "biomassDF['Calanus *sp. nauplii s1']=(biomassDF['Calanus *sp. nauplii s1']*(4.13*(0.4**3.28))*0.45)/1000"
   ]
  },
  {
   "cell_type": "code",
   "execution_count": 42,
   "metadata": {},
   "outputs": [],
   "source": [
    "biomassDF['Calanus pacificus  2']=(biomassDF['Calanus pacificus  2']*(4.13*(0.8**3.28))*0.45)/1000\n",
    "biomassDF['Calanus pacificus  3']=(biomassDF['Calanus pacificus  3']*(4.13*(1.1**3.28))*0.45)/1000\n",
    "biomassDF['Calanus pacificus  4']=(biomassDF['Calanus pacificus  4']*(4.13*(1.4**3.28))*0.45)/1000\n",
    "biomassDF['Calanus pacificus  5']=(biomassDF['Calanus pacificus  5']*(2.00*(1.8**3.92))*0.45)/1000\n",
    "biomassDF['Calanus pacificus  6F']=(biomassDF['Calanus pacificus  6F']*(2.00*(2.2**3.92))*0.45)/1000\n",
    "biomassDF['Calanus pacificus  6M']=(biomassDF['Calanus pacificus  6M']*(2.00*(2.1**3.92))*0.45)/1000\n"
   ]
  },
  {
   "cell_type": "code",
   "execution_count": 43,
   "metadata": {},
   "outputs": [],
   "source": [
    "biomassDF['Calanus marshallae  2']=(biomassDF['Calanus marshallae  2']*(4.13*(0.8**3.28))*0.45)/1000\n",
    "biomassDF['Calanus marshallae  3']=(biomassDF['Calanus marshallae  3']*(4.13*(1.6**3.28))*0.45)/1000\n",
    "biomassDF['Calanus marshallae  4']=(biomassDF['Calanus marshallae  4']*(4.13*(2.0**3.28))*0.45)/1000\n",
    "biomassDF['Calanus marshallae  5']=(biomassDF['Calanus marshallae  5']*(2.00*(2.5**3.92))*0.45)/1000\n",
    "biomassDF['Calanus marshallae  6F']=(biomassDF['Calanus marshallae  6F']*(2.00*(2.8**3.92))*0.45)/1000\n",
    "biomassDF['Calanus marshallae  6M']=(biomassDF['Calanus marshallae  6M']*(2.00*(2.6**3.92))*0.45)/1000"
   ]
  },
  {
   "cell_type": "markdown",
   "metadata": {},
   "source": [
    "#### Metridia conversions C (ug):"
   ]
  },
  {
   "cell_type": "markdown",
   "metadata": {},
   "source": [
    "#need lengths for these groups. Should they be included?\n",
    "'Metridia *sp.  2', 'Metridia *sp.  3' ,'Metridia *sp.  4',\n",
    " 'Metridia *sp.  5', 'Metridia *sp.  6F', 'Metridia *sp.  6M',\n",
    " 'Metridia pseudopacifica  5', 'Metridia pseudopacifica  6F',\n",
    " 'Metridia pseudopacifica  6M'"
   ]
  },
  {
   "cell_type": "code",
   "execution_count": 44,
   "metadata": {},
   "outputs": [],
   "source": [
    "biomassDF['Metridia *sp.  2']=(biomassDF['Metridia *sp.  2']*(4.13*(0.4**3.28))*0.45)/1000\n",
    "biomassDF['Metridia *sp.  3']=(biomassDF['Metridia *sp.  3']*(4.13*(0.7**3.28))*0.45)/1000\n",
    "biomassDF['Metridia *sp.  4']=(biomassDF['Metridia *sp.  4']*(4.13*(1.1**3.28))*0.45)/1000\n",
    "biomassDF['Metridia *sp.  5']=(biomassDF['Metridia *sp.  5']*(4.13*(1.3**3.28))*0.45)/1000\n",
    "biomassDF['Metridia *sp.  6F']=(biomassDF['Metridia *sp.  6F']*(4.13*(2.0**3.28))*0.45)/1000\n",
    "biomassDF['Metridia *sp.  6M']=(biomassDF['Metridia *sp.  6M']*(4.13*(1.4**3.28))*0.45)/1000\n",
    "biomassDF['Metridia pacifica  3']=(biomassDF['Metridia pacifica  3']*(4.13*(0.7**3.28))*0.45)/1000\n",
    "biomassDF['Metridia pacifica  4']=(biomassDF['Metridia pacifica  4']*(4.13*(1.1**3.28))*0.45)/1000\n",
    "biomassDF['Metridia pacifica  5F']=(biomassDF['Metridia pacifica  5F']*(4.13*(1.5**3.28))*0.45)/1000\n",
    "#biomassDF['Metridia pacifica  5M']=biomassDF['Metridia pacifica  5M']*(4.13*(1.3**3.28))*0.45\n",
    "#biomassDF['Metridia pacifica  6F']=biomassDF['Metridia pacifica  6F']*(4.13*(2.0**3.28))*0.45\n",
    "#biomassDF['Metridia pacifica  6M']=biomassDF['Metridia pacifica  6M']*(4.13*(1.4**3.28))*0.45"
   ]
  },
  {
   "cell_type": "code",
   "execution_count": 45,
   "metadata": {},
   "outputs": [
    {
     "data": {
      "text/plain": [
       "array([0.00260935, 0.02090429, 0.0086791 , 0.01314684, 0.00035168,\n",
       "       0.01081596, 0.00156882, 0.01201997, 0.00216238, 0.02722169,\n",
       "       0.00376946, 0.0137952 , 0.0034529 , 0.00916302, 0.00267991,\n",
       "       0.01073472, 0.00145261, 0.00274524, 0.00100394])"
      ]
     },
     "execution_count": 45,
     "metadata": {},
     "output_type": "execute_result"
    }
   ],
   "source": [
    "biomassDF['Metridia *sp.  2'].unique()[1:20]"
   ]
  },
  {
   "cell_type": "markdown",
   "metadata": {},
   "source": [
    "#### Eucalanus conversions C (ug):"
   ]
  },
  {
   "cell_type": "markdown",
   "metadata": {},
   "source": [
    "#need lengths for these groups if I will use them. Not including them for now.\n",
    "'Eucalanus *sp.  1',\n",
    " 'Eucalanus *sp.  2' ,'Eucalanus *sp.  3' ,'Eucalanus *sp. nauplii s1',\n",
    " 'Eucalanus californicus  5F', 'Eucalanus californicus  6F'"
   ]
  },
  {
   "cell_type": "code",
   "execution_count": 46,
   "metadata": {},
   "outputs": [],
   "source": [
    "biomassDF['Eucalanus bungii  3']=(biomassDF['Eucalanus bungii  3']*(4.13*(2.6**3.28))*0.45)/1000\n",
    "biomassDF['Eucalanus bungii  4']=(biomassDF['Eucalanus bungii  4']*(4.13*(3.2**3.28))*0.45)/1000\n",
    "biomassDF['Eucalanus bungii  4F']=(biomassDF['Eucalanus bungii  4F']*(4.13*(3.2**3.28))*0.45)/1000\n",
    "biomassDF['Eucalanus bungii  4M']=(biomassDF['Eucalanus bungii  4M']*(4.13*(3.2**3.28))*0.45)/1000\n",
    "biomassDF['Eucalanus bungii  5F']=(biomassDF['Eucalanus bungii  5F']*(4.13*(4.6**3.28))*0.45)/1000\n",
    "biomassDF['Eucalanus bungii  5M']=(biomassDF['Eucalanus bungii  5M']*(4.13*(4.4**3.28))*0.45)/1000\n",
    "biomassDF['Eucalanus bungii  6F']=(biomassDF['Eucalanus bungii  6F']*(4.13*(6.2**3.28))*0.45)/1000\n",
    "biomassDF['Eucalanus bungii  6M']=(biomassDF['Eucalanus bungii  6M']*(4.13*(6.1**3.28))*0.45)/1000\n",
    "\n"
   ]
  },
  {
   "cell_type": "code",
   "execution_count": 47,
   "metadata": {},
   "outputs": [
    {
     "data": {
      "text/plain": [
       "array([0.03194719, 0.20475132, 0.05426117, 0.0515078 , 0.        ,\n",
       "       0.02195154, 0.02452752, 0.02647487, 0.56557544, 0.08391082,\n",
       "       0.1501332 , 0.13528053, 0.04986061, 0.00547231, 0.02444432,\n",
       "       0.00898015, 0.03032253, 0.00576887, 0.01201845])"
      ]
     },
     "execution_count": 47,
     "metadata": {},
     "output_type": "execute_result"
    }
   ],
   "source": [
    "biomassDF['Calanus pacificus  5'].unique()[1:20]"
   ]
  },
  {
   "cell_type": "markdown",
   "metadata": {},
   "source": [
    "### Euphausiid Conversions"
   ]
  },
  {
   "cell_type": "markdown",
   "metadata": {},
   "source": [
    "#### Euphausia pacifica"
   ]
  },
  {
   "cell_type": "markdown",
   "metadata": {},
   "source": [
    "#Include these groups too?\n",
    " 'Euphausiacea *sp.  s2',\n",
    " \n",
    " 'Thysanoessa *sp.  s1',\n",
    " 'Thysanoessa *sp.  s2',\n",
    " 'Thysanoessa *sp. zoea s1', \n",
    " \n",
    " 'Thysanoessa longipes  F',\n",
    " 'Thysanoessa longipes  M', 'Thysanoessa longipes  s2',\n",
    " 'Thysanoessa longipes  s3' ,'Thysanoessa longipes zoea s1',\n",
    " \n",
    " 'Thysanoessa raschii  F', 'Thysanoessa raschii  M',\n",
    " 'Thysanoessa raschii  s2' ,'Thysanoessa raschii zoea s1',\n",
    " \n",
    " 'Thysanoessa spinifera  F', 'Thysanoessa spinifera  M',\n",
    " 'Thysanoessa spinifera  s2', 'Thysanoessa spinifera  s3',\n",
    " 'Thysanoessa spinifera zoea s1'\n",
    " \n",
    " ##### multiply by 3 to adjust for nighttime abundance"
   ]
  },
  {
   "cell_type": "code",
   "execution_count": 48,
   "metadata": {},
   "outputs": [],
   "source": [
    "#Double check these regressions for the calyptopis and furcilia with BethElLee(4.13*[Length (mm)^3.28)*46.9%\n",
    "biomassDF['Euphausiidae *sp. protozoea (or calyptopis) s1']=(biomassDF['Euphausiidae *sp. protozoea (or calyptopis) s1']*(4.13*(1.3**3.28)*.469))/1000\n",
    "biomassDF['Euphausiidae *sp. zoea (or furcilia) s1']=(biomassDF['Euphausiidae *sp. zoea (or furcilia) s1']*(4.13*(3.0**3.28)*.469))/1000\n",
    "\n",
    "biomassDF['Euphausia pacifica zoea s1']=(biomassDF['Euphausia pacifica zoea s1']*(4.13*(4.7**3.28)*.469))/1000\n",
    "biomassDF['Euphausia pacifica  s2']=(biomassDF['Euphausia pacifica  s2']*(4.13*(8.0**3.28)*.469))/1000\n",
    "biomassDF['Euphausia pacifica  s3']=(biomassDF['Euphausia pacifica  s3']*(4.13*(12.0**3.28)*.469))/1000\n",
    "biomassDF['Euphausia pacifica  F']=(biomassDF['Euphausia pacifica  F']*(4.13*(18.1**3.28)*.469))/1000\n",
    "biomassDF['Euphausia pacifica  M']=(biomassDF['Euphausia pacifica  M']*(4.13*(15.1**3.28)*.469))/1000\n"
   ]
  },
  {
   "cell_type": "code",
   "execution_count": null,
   "metadata": {},
   "outputs": [],
   "source": []
  },
  {
   "cell_type": "markdown",
   "metadata": {},
   "source": [
    "### Amphipod Conversions"
   ]
  },
  {
   "cell_type": "markdown",
   "metadata": {},
   "source": [
    "#Decide later if we include Calliopius (not in Puget Sound?) \n",
    " 'Calliopius *sp.  s1' ,'Calliopius *sp.  s2', 'Calliopius *sp.  s3',\n",
    " 'Calliopius pacificus  s1' ,'Calliopius pacificus  s2',\n",
    " 'Calliopius pacificus  s3',\n",
    "\n"
   ]
  },
  {
   "cell_type": "markdown",
   "metadata": {},
   "source": [
    "##### Hyperiids"
   ]
  },
  {
   "cell_type": "code",
   "execution_count": 49,
   "metadata": {},
   "outputs": [],
   "source": [
    "biomassDF['Themisto *sp.  s1']=biomassDF['Themisto *sp.  s1']*(0.0049*(3.5**2.957)*1000)*0.37/1000\n",
    "biomassDF['Themisto pacifica juvenile s1']=biomassDF['Themisto pacifica juvenile s1']*(0.0049*(4.3**2.957)*1000)*0.37/1000\n",
    "biomassDF['Themisto pacifica  s2']=biomassDF['Themisto pacifica  s2']*(0.0049*(6.2**2.957)*1000)*0.37/1000\n",
    "biomassDF['Themisto pacifica  F']=biomassDF['Themisto pacifica  F']*(0.0049*(7.5**2.957)*1000)*0.37/1000\n",
    "biomassDF['Themisto pacifica  M']=biomassDF['Themisto pacifica  M']*(0.0049*(5.9**2.957)*1000)*0.37/1000"
   ]
  },
  {
   "cell_type": "code",
   "execution_count": 50,
   "metadata": {},
   "outputs": [],
   "source": [
    "biomassDF['Hyperia medusarum  s1']=biomassDF['Hyperia medusarum  s1']*(0.0049*(3.0**2.957)*1000)*0.37/1000\n",
    "biomassDF['Hyperia medusarum  s2']=biomassDF['Hyperia medusarum  s2']*(0.0049*(6.0**2.957)*1000)*0.37/1000\n",
    "biomassDF['Hyperia medusarum  F']=biomassDF['Hyperia medusarum  F']*(0.0049*(10.8**2.957)*1000)*0.37/1000\n",
    "biomassDF['Hyperia medusarum  M']=biomassDF['Hyperia medusarum  M']*(0.0049*(10.4**2.957)*1000)*0.37/1000"
   ]
  },
  {
   "cell_type": "code",
   "execution_count": 51,
   "metadata": {},
   "outputs": [],
   "source": [
    "biomassDF['Primno *sp.  s1']=biomassDF['Primno *sp.  s1']*(0.0049*(3.0**2.957)*1000)*0.37/1000\n",
    "biomassDF['Primno brevidens  s1']=biomassDF['Primno brevidens  s1']*(0.0049*(3.0**2.957)*1000)*0.37/1000\n",
    "biomassDF['Primno abyssalis  s1']=biomassDF['Primno abyssalis  s1']*(0.0049*(3.0**2.957)*1000)*0.37/1000\n",
    "biomassDF['Primno abyssalis  s2']=biomassDF['Primno abyssalis  s2']*(0.0049*(7.5**2.957)*1000)*0.37/1000\n",
    "biomassDF['Primno abyssalis  F']=biomassDF['Primno abyssalis  F']*(0.0049*(12.3**2.957)*1000)*0.37/1000\n",
    "biomassDF['Primno abyssalis  M']=biomassDF['Primno abyssalis  M']*(0.0049*(11.8**2.957)*1000)*0.37/1000"
   ]
  },
  {
   "cell_type": "markdown",
   "metadata": {},
   "source": [
    "##### Gammariids"
   ]
  },
  {
   "cell_type": "code",
   "execution_count": 52,
   "metadata": {},
   "outputs": [],
   "source": [
    "biomassDF['Gammaridea *sp.  s1']=biomassDF['Gammaridea *sp.  s1']*(0.0049*(4.0**2.957)*1000)*0.37/1000\n",
    "biomassDF['Gammaridea *sp.  s2']=biomassDF['Gammaridea *sp.  s2']*(0.0049*(6.5**2.957)*1000)*0.37/1000"
   ]
  },
  {
   "cell_type": "markdown",
   "metadata": {},
   "source": [
    "##### Cyphocariids"
   ]
  },
  {
   "cell_type": "code",
   "execution_count": 53,
   "metadata": {},
   "outputs": [],
   "source": [
    "biomassDF['Cyphocaris *sp.  s1']=biomassDF['Cyphocaris *sp.  s1']*((0.02 * (3.3)**2.1)*1000)*0.37/1000\n",
    "biomassDF['Cyphocaris challengeri  s1']=biomassDF['Cyphocaris challengeri  s1']*((0.02 * (3.2)**2.1)*1000)*0.37/1000\n",
    "biomassDF['Cyphocaris challengeri  s2']=biomassDF['Cyphocaris challengeri  s2']*((0.02 * (8.6)**2.1)*1000)*0.37/1000\n",
    "biomassDF['Cyphocaris challengeri  s3']=biomassDF['Cyphocaris challengeri  s3']*((0.02 * (11.3)**2.1)*1000)*0.37/1000"
   ]
  },
  {
   "cell_type": "markdown",
   "metadata": {},
   "source": [
    "### Chaetognath Conversions"
   ]
  },
  {
   "cell_type": "code",
   "execution_count": 54,
   "metadata": {},
   "outputs": [],
   "source": [
    "biomassDF['Chaetognatha *sp. juvenile s1']=biomassDF['Chaetognatha *sp. juvenile s1']*0.0956*(3.5**2.9093)/1000\n",
    "biomassDF['Chaetognatha *sp. juvenile s2']=biomassDF['Chaetognatha *sp. juvenile s2']*0.0956*(6.0**2.9093)/1000\n",
    "biomassDF['Chaetognatha *sp.  s3']=biomassDF['Chaetognatha *sp.  s3']*0.0956*(15.0**2.9093)/1000\n"
   ]
  },
  {
   "cell_type": "code",
   "execution_count": null,
   "metadata": {},
   "outputs": [],
   "source": []
  },
  {
   "cell_type": "code",
   "execution_count": 55,
   "metadata": {},
   "outputs": [],
   "source": [
    "biomassDF['Parasagitta elegans juvenile s1']=biomassDF['Parasagitta elegans juvenile s1']*0.0956*(3.5**2.9093)/1000\n",
    "biomassDF['Parasagitta elegans  s2']=biomassDF['Parasagitta elegans  s2']*0.0956*(7.5**2.9093)/1000\n",
    "biomassDF['Parasagitta elegans  s3']=biomassDF['Parasagitta elegans  s3']*0.0956*(20.0**2.9093)/1000\n",
    "biomassDF['Parasagitta euneritica  s2']=biomassDF['Parasagitta euneritica  s2']*0.0956*(7.5**2.9093)/1000\n",
    "biomassDF['Parasagitta euneritica  s3']=biomassDF['Parasagitta euneritica  s3']*0.0956*(20.0**2.9093)/1000"
   ]
  },
  {
   "cell_type": "markdown",
   "metadata": {},
   "source": [
    "### Gastropod - Limacina Conversions"
   ]
  },
  {
   "cell_type": "code",
   "execution_count": 56,
   "metadata": {},
   "outputs": [],
   "source": [
    "biomassDF['Limacina helicina  s0']=biomassDF['Limacina helicina  s0']*(2.6*(1.0**2.659))*0.22/1000\n",
    "biomassDF['Limacina helicina  s1']=biomassDF['Limacina helicina  s1']*(2.6*(2.0**2.659))*0.22/1000                                                                       \n",
    "biomassDF['Limacina helicina  s2']=biomassDF['Limacina helicina  s2']*(2.6*(6.0**2.659))*0.22/1000    "
   ]
  },
  {
   "cell_type": "markdown",
   "metadata": {},
   "source": [
    "### Larvaceans - Oikopleura Conversions"
   ]
  },
  {
   "cell_type": "markdown",
   "metadata": {},
   "source": [
    "#Need length for this category: 'Oikopleura *sp.  s2',\n"
   ]
  },
  {
   "cell_type": "code",
   "execution_count": 57,
   "metadata": {},
   "outputs": [],
   "source": [
    "biomassDF['Oikopleura *sp.  s1']=biomassDF['Oikopleura *sp.  s1']*((38.8*(1.3**2.574))*0.46)/1000\n",
    "biomassDF['Oikopleura dioica  s1']=biomassDF['Oikopleura dioica  s1']*((38.8*(4.6**2.574))*0.46)/1000\n",
    "biomassDF['Oikopleura dioica  s2']=biomassDF['Oikopleura dioica  s2']*((38.8*(8.5**2.574))*0.46)/1000\n",
    "biomassDF['Oikopleura labradoriensis  s1']=biomassDF['Oikopleura labradoriensis  s1']*((38.8*(4.6**2.574))*0.46)/1000\n",
    "biomassDF['Oikopleura labradoriensis  s2']=biomassDF['Oikopleura labradoriensis  s2']*((38.8*(8.5**2.574))*0.46)/1000\n",
    "biomassDF['Oikopleura labradoriensis  s3']=biomassDF['Oikopleura labradoriensis  s3']*((38.8*(18.5**2.574))*0.46)/1000"
   ]
  },
  {
   "cell_type": "code",
   "execution_count": null,
   "metadata": {},
   "outputs": [],
   "source": []
  },
  {
   "cell_type": "code",
   "execution_count": null,
   "metadata": {},
   "outputs": [],
   "source": []
  },
  {
   "cell_type": "code",
   "execution_count": null,
   "metadata": {},
   "outputs": [],
   "source": []
  },
  {
   "cell_type": "code",
   "execution_count": null,
   "metadata": {},
   "outputs": [],
   "source": []
  },
  {
   "cell_type": "code",
   "execution_count": null,
   "metadata": {},
   "outputs": [],
   "source": []
  },
  {
   "cell_type": "markdown",
   "metadata": {},
   "source": [
    "## Import model data for comparison with observations"
   ]
  },
  {
   "cell_type": "code",
   "execution_count": 199,
   "metadata": {},
   "outputs": [],
   "source": [
    "import netCDF4 as nc"
   ]
  },
  {
   "cell_type": "code",
   "execution_count": 200,
   "metadata": {},
   "outputs": [],
   "source": [
    "ftemp=nc.Dataset('/data/eolson/results/MEOPAR/NEMO-forcing-new/grid/mesh_mask201702.nc')"
   ]
  },
  {
   "cell_type": "code",
   "execution_count": 201,
   "metadata": {},
   "outputs": [
    {
     "data": {
      "text/plain": [
       "dict_keys(['nav_lon', 'nav_lat', 'time_counter', 'tmask', 'umask', 'vmask', 'fmask', 'tmaskutil', 'umaskutil', 'vmaskutil', 'fmaskutil', 'glamt', 'glamu', 'glamv', 'glamf', 'gphit', 'gphiu', 'gphiv', 'gphif', 'e1t', 'e1u', 'e1v', 'e1f', 'e2t', 'e2u', 'e2v', 'e2f', 'ff', 'mbathy', 'misf', 'isfdraft', 'e3t_0', 'e3u_0', 'e3v_0', 'e3w_0', 'gdept_0', 'gdepu', 'gdepv', 'gdepw_0', 'gdept_1d', 'gdepw_1d', 'e3t_1d', 'e3w_1d'])"
      ]
     },
     "execution_count": 201,
     "metadata": {},
     "output_type": "execute_result"
    }
   ],
   "source": [
    "ftemp.variables.keys()"
   ]
  },
  {
   "cell_type": "code",
   "execution_count": 202,
   "metadata": {},
   "outputs": [
    {
     "data": {
      "text/plain": [
       "<class 'netCDF4._netCDF4.Variable'>\n",
       "float64 e3t_0(t, z, y, x)\n",
       "    _FillValue: nan\n",
       "    standard_name: e3t_0\n",
       "    long_name: grid spacing on T-grid in w direction\n",
       "    units: m\n",
       "unlimited dimensions: t\n",
       "current shape = (1, 40, 898, 398)\n",
       "filling on"
      ]
     },
     "execution_count": 202,
     "metadata": {},
     "output_type": "execute_result"
    }
   ],
   "source": [
    "ftemp.variables['e3t_0']"
   ]
  },
  {
   "cell_type": "code",
   "execution_count": 203,
   "metadata": {},
   "outputs": [
    {
     "data": {
      "text/plain": [
       "masked_array(data=[[ 1.00000115,  1.00000501,  1.00001253,  1.00002718,\n",
       "                     1.0000557 ,  1.00011125,  1.00021946,  1.0004302 ,\n",
       "                     1.00084067,  1.00164012,  1.0031971 ,  1.00622914,\n",
       "                     1.01213271,  1.02362358,  1.04597551,  1.08940061,\n",
       "                     1.17356428,  1.33592899,  1.64636781,  2.22990285,\n",
       "                     3.29248567,  5.11998508,  7.97451506, 11.8252972 ,\n",
       "                    16.10792044, 19.95870258, 22.81323256, 24.64073198,\n",
       "                    25.70331479, 26.28684983, 26.59728865, 26.75965336,\n",
       "                    26.84381704, 26.88724213, 26.90959407, 26.92108493,\n",
       "                    26.9269885 , 26.93002054, 26.93157752, 26.93237697]],\n",
       "             mask=False,\n",
       "       fill_value=1e+20)"
      ]
     },
     "execution_count": 203,
     "metadata": {},
     "output_type": "execute_result"
    }
   ],
   "source": [
    "ftemp.variables['e3t_1d'][:]"
   ]
  },
  {
   "cell_type": "code",
   "execution_count": 204,
   "metadata": {},
   "outputs": [],
   "source": [
    "fdict={'ptrc_T':1,'grid_T':1}\n",
    "start_date = dt.datetime(2014,1,1)\n",
    "end_date = dt.datetime(2016,12,31)\n",
    "flen=1 # number of days per model output file. always 1 for 201905 and 201812 model runs\n",
    "namfmt='nowcast' # for 201905 and 201812 model runs, this should always be 'nowcast'\n",
    "# filemap is dictionary of the form variableName: fileType, where variableName is the name\n",
    "# of the variable you want to extract and fileType designates the type of \n",
    "# model output file it can be found in (usually ptrc_T for biology, grid_T for temperature and \n",
    "# salinity)\n",
    "filemap={'microzooplankton':'ptrc_T','mesozooplankton':'ptrc_T'}\n",
    "# fdict is a dictionary mappy file type to its time resolution. Here, 1 means hourly output\n",
    "# (1h file) and 24 means daily output (1d file). In certain runs, multiple time resolutions \n",
    "# are available\n",
    "fdict={'ptrc_T':1,'grid_T':1}"
   ]
  },
  {
   "cell_type": "code",
   "execution_count": 205,
   "metadata": {},
   "outputs": [],
   "source": [
    "PATH= '/results2/SalishSea/nowcast-green.201905/'"
   ]
  },
  {
   "cell_type": "code",
   "execution_count": 206,
   "metadata": {},
   "outputs": [],
   "source": [
    "biomassDF.rename(columns={'lon':'Lon','lat':'Lat'},inplace=True)"
   ]
  },
  {
   "cell_type": "code",
   "execution_count": 207,
   "metadata": {},
   "outputs": [
    {
     "data": {
      "text/plain": [
       "Index(['Key', 'region_name', 'Station', 'Lon', 'Lat', 'Date', 'dtUTC',\n",
       "       'Twilight', 'Net_Type', 'Mesh_Size(um)',\n",
       "       ...\n",
       "       'OtherCalanoids', 'Calanoids', 'CalanoidsDiaRemoved', 'Euphausiids',\n",
       "       'Themisto', 'Hyperia', 'Primno', 'Hyperiids', 'Gammariids', 'Total'],\n",
       "      dtype='object', length=272)"
      ]
     },
     "execution_count": 207,
     "metadata": {},
     "output_type": "execute_result"
    }
   ],
   "source": [
    "biomassDF.keys()"
   ]
  },
  {
   "cell_type": "code",
   "execution_count": 208,
   "metadata": {},
   "outputs": [],
   "source": [
    "biomassDF.rename(columns={'DEPTH_STRT1':'Z_lower','DEPTH_END1':'Z_upper'},inplace=True)"
   ]
  },
  {
   "cell_type": "code",
   "execution_count": 209,
   "metadata": {},
   "outputs": [],
   "source": [
    "biomassDF['Year']=[ii.year for ii in biomassDF['dtUTC']]\n",
    "biomassDF['Month']=[ii.month for ii in biomassDF['dtUTC']]\n",
    "biomassDF['YD']=et.datetimeToYD(biomassDF['dtUTC'])"
   ]
  },
  {
   "cell_type": "markdown",
   "metadata": {},
   "source": [
    "Need to convert biomass from mg C to N using a known C:N"
   ]
  },
  {
   "cell_type": "code",
   "execution_count": 210,
   "metadata": {},
   "outputs": [],
   "source": [
    "#biomassDF['Amphipoda']=biomassDF['Amphipoda']*0.45/8.5\n",
    "\n",
    "#biomassDF['Euphausiacea']=biomassDF['Euphausiacea']*0.45/8.5\n",
    "#biomassDF['Calanoida']=biomassDF['Calanoida']*0.45/8.5\n",
    "\n",
    "\n",
    "\n",
    "#biomassDF['Cyclopoida']=biomassDF['Cyclopoida']*0.45/8.5\n",
    "#biomassDF['Poecilostomatoida']=biomassDF['Poecilostomatoida']*0.45/8.5\n",
    "#biomassDF['Copelata']=biomassDF['Copelata']*0.45/8.5\n",
    "#biomassDF['Harpacticoida']=biomassDF['Harpacticoida']*0.45/8.5\n",
    "#biomassDF['Decapoda']=biomassDF['Decapoda']*0.45/8.5\n"
   ]
  },
  {
   "cell_type": "code",
   "execution_count": 58,
   "metadata": {},
   "outputs": [],
   "source": [
    "biomassDF['Neocalanus']=(biomassDF['Neocalanus plumchrus  1']+biomassDF['Neocalanus plumchrus  2']+biomassDF['Neocalanus plumchrus  3']+biomassDF['Neocalanus plumchrus  4']+biomassDF['Neocalanus plumchrus  5']+biomassDF['Neocalanus plumchrus  6F']+biomassDF['Neocalanus plumchrus  6M'])\n",
    "biomassDF['NeocalanusDiaRemoved']=(biomassDF['Neocalanus plumchrus  1']+biomassDF['Neocalanus plumchrus  2']+biomassDF['Neocalanus plumchrus  3']+biomassDF['Neocalanus plumchrus  4'])"
   ]
  },
  {
   "cell_type": "code",
   "execution_count": 261,
   "metadata": {},
   "outputs": [
    {
     "data": {
      "text/plain": [
       "array([1.16228376e+00, 4.25664753e+00, 6.76832999e+00, 1.67322568e-02,\n",
       "       5.19182122e+00, 1.56416337e-02, 5.70440844e-02, 5.50394930e+00,\n",
       "       5.24904520e-02, 2.44223301e+00, 9.88737895e-02, 2.72848784e-01,\n",
       "       2.11242203e+01, 1.60857534e-02, 3.26710947e-01, 1.80099161e+00,\n",
       "       2.83673986e+01, 3.99770194e+01, 3.16960664e+01])"
      ]
     },
     "execution_count": 261,
     "metadata": {},
     "output_type": "execute_result"
    }
   ],
   "source": [
    "biomassDF['Neocalanus'].unique()[1:20]"
   ]
  },
  {
   "cell_type": "code",
   "execution_count": 59,
   "metadata": {},
   "outputs": [],
   "source": [
    "biomassDF['CalPacificus']=(biomassDF['Calanus pacificus  2']+biomassDF['Calanus pacificus  3']+biomassDF['Calanus pacificus  4']+biomassDF['Calanus pacificus  5']+biomassDF['Calanus pacificus  6F']+biomassDF['Calanus pacificus  6M'])\n",
    "biomassDF['CalPacificusDiaRemoved']=(biomassDF['Calanus pacificus  2']+biomassDF['Calanus pacificus  3']+biomassDF['Calanus pacificus  4'])\n"
   ]
  },
  {
   "cell_type": "code",
   "execution_count": 60,
   "metadata": {},
   "outputs": [],
   "source": [
    "biomassDF['CalMarsh']=(biomassDF['Calanus marshallae  2']+biomassDF['Calanus marshallae  3']+biomassDF['Calanus marshallae  4']+biomassDF['Calanus marshallae  5']+biomassDF['Calanus marshallae  6F']+biomassDF['Calanus marshallae  6M'])\n",
    "biomassDF['CalMarshDiaRemoved']=(biomassDF['Calanus marshallae  2']+biomassDF['Calanus marshallae  3']+biomassDF['Calanus marshallae  4']+biomassDF['Calanus marshallae  5'])\n"
   ]
  },
  {
   "cell_type": "code",
   "execution_count": 61,
   "metadata": {},
   "outputs": [],
   "source": [
    "biomassDF['Metridia']=(biomassDF['Metridia *sp.  2']+biomassDF['Metridia *sp.  3']+biomassDF['Metridia *sp.  4']+biomassDF['Metridia *sp.  5']+biomassDF['Metridia *sp.  6F']+biomassDF['Metridia *sp.  6M']+biomassDF['Metridia pacifica  3']+biomassDF['Metridia pacifica  4']+biomassDF['Metridia pacifica  5F'])\n",
    "biomassDF['Eucalanus']=(biomassDF['Eucalanus bungii  3']+biomassDF['Eucalanus bungii  4']+biomassDF['Eucalanus bungii  4F']+biomassDF['Eucalanus bungii  4M']+biomassDF['Eucalanus bungii  5F']+biomassDF['Eucalanus bungii  5M']+biomassDF['Eucalanus bungii  6F']+biomassDF['Eucalanus bungii  6M'])\n",
    "biomassDF['EucalanusDiaRemoved']=(biomassDF['Eucalanus bungii  3']+biomassDF['Eucalanus bungii  4']+biomassDF['Eucalanus bungii  4F']+biomassDF['Eucalanus bungii  4M'])"
   ]
  },
  {
   "cell_type": "code",
   "execution_count": 62,
   "metadata": {},
   "outputs": [
    {
     "data": {
      "text/plain": [
       "array([0.05328713, 0.15333201, 0.15656956, 0.47845137, 0.04713698,\n",
       "       0.11257754, 0.0756802 , 0.11441692, 0.0672129 , 0.2762964 ,\n",
       "       0.09263692, 0.07144549, 0.01643963, 0.07175813, 0.03725966,\n",
       "       0.06370595, 0.03816424, 0.08821852, 0.04425084])"
      ]
     },
     "execution_count": 62,
     "metadata": {},
     "output_type": "execute_result"
    }
   ],
   "source": [
    "biomassDF['Metridia'].unique()[1:20]"
   ]
  },
  {
   "cell_type": "code",
   "execution_count": 63,
   "metadata": {},
   "outputs": [],
   "source": [
    "biomassDF['OtherCalanoids']=(biomassDF['Calanoida *sp.  1']+biomassDF['Calanoida *sp.  2']+biomassDF['Calanoida *sp.  3']+biomassDF['Calanoida *sp.  4']+biomassDF['Calanoida *sp.  6M']+biomassDF['Calanus *sp.  1']+biomassDF['Calanus *sp.  2']+biomassDF['Calanus *sp.  3']+biomassDF['Calanus *sp.  4'])"
   ]
  },
  {
   "cell_type": "code",
   "execution_count": 64,
   "metadata": {},
   "outputs": [],
   "source": [
    "biomassDF['Calanoids']=biomassDF['Neocalanus']+biomassDF['CalPacificus']+biomassDF['CalMarsh']+biomassDF['Metridia']+biomassDF['Eucalanus']+biomassDF['OtherCalanoids']\n",
    "biomassDF['CalanoidsDiaRemoved']=biomassDF['NeocalanusDiaRemoved']+biomassDF['CalPacificusDiaRemoved']+biomassDF['CalMarshDiaRemoved']+biomassDF['EucalanusDiaRemoved']+biomassDF['OtherCalanoids']"
   ]
  },
  {
   "cell_type": "code",
   "execution_count": 65,
   "metadata": {},
   "outputs": [],
   "source": [
    "biomassDF['Euphausiids']=(biomassDF['Euphausiidae *sp. protozoea (or calyptopis) s1']+biomassDF['Euphausiidae *sp. zoea (or furcilia) s1']+biomassDF['Euphausia pacifica zoea s1']+biomassDF['Euphausia pacifica  s2']+biomassDF['Euphausia pacifica  s3']+biomassDF['Euphausia pacifica  F']+biomassDF['Euphausia pacifica  M'])"
   ]
  },
  {
   "cell_type": "code",
   "execution_count": 66,
   "metadata": {},
   "outputs": [],
   "source": [
    "biomassDF['Themisto']=(biomassDF['Themisto *sp.  s1']+biomassDF['Themisto pacifica juvenile s1']+biomassDF['Themisto pacifica  s2']+biomassDF['Themisto pacifica  F']+biomassDF['Themisto pacifica  M'])\n",
    "biomassDF['Hyperia']=(biomassDF['Hyperia medusarum  s1']+biomassDF['Hyperia medusarum  s2']+biomassDF['Hyperia medusarum  F']+biomassDF['Hyperia medusarum  M'])\n",
    "biomassDF['Primno']=(biomassDF['Primno *sp.  s1']+biomassDF['Primno brevidens  s1']+biomassDF['Primno abyssalis  s1']+biomassDF['Primno abyssalis  s2']+biomassDF['Primno abyssalis  F']+biomassDF['Primno abyssalis  M'])"
   ]
  },
  {
   "cell_type": "code",
   "execution_count": 67,
   "metadata": {},
   "outputs": [],
   "source": [
    "biomassDF['Hyperiids']=biomassDF['Themisto']+biomassDF['Hyperia']+biomassDF['Primno']"
   ]
  },
  {
   "cell_type": "code",
   "execution_count": 68,
   "metadata": {},
   "outputs": [],
   "source": [
    "biomassDF['Gammariids']=(biomassDF['Gammaridea *sp.  s1']+biomassDF['Gammaridea *sp.  s2'])"
   ]
  },
  {
   "cell_type": "code",
   "execution_count": 69,
   "metadata": {},
   "outputs": [],
   "source": [
    "\n",
    "biomassDF['Total']=biomassDF['Calanoids']+biomassDF['Euphausiids']+biomassDF['Hyperiids']+biomassDF['Gammariids']"
   ]
  },
  {
   "cell_type": "code",
   "execution_count": null,
   "metadata": {},
   "outputs": [],
   "source": []
  },
  {
   "cell_type": "code",
   "execution_count": 263,
   "metadata": {},
   "outputs": [
    {
     "data": {
      "text/plain": [
       "array([0.36245896, 1.87300085, 3.0219189 , 8.89761441, 0.88179773,\n",
       "       2.20092374, 1.05748946, 2.39226072, 0.14470814, 1.42228345,\n",
       "       0.81166803, 0.79332675, 0.66087864, 0.17989049, 0.37087584,\n",
       "       1.05846975, 0.57754293, 0.05944203, 0.2487363 ])"
      ]
     },
     "execution_count": 263,
     "metadata": {},
     "output_type": "execute_result"
    }
   ],
   "source": [
    "biomassDF['Hyperiids'].unique()[1:20]"
   ]
  },
  {
   "cell_type": "code",
   "execution_count": null,
   "metadata": {},
   "outputs": [],
   "source": []
  },
  {
   "cell_type": "code",
   "execution_count": 70,
   "metadata": {},
   "outputs": [
    {
     "data": {
      "text/html": [
       "<div>\n",
       "<style scoped>\n",
       "    .dataframe tbody tr th:only-of-type {\n",
       "        vertical-align: middle;\n",
       "    }\n",
       "\n",
       "    .dataframe tbody tr th {\n",
       "        vertical-align: top;\n",
       "    }\n",
       "\n",
       "    .dataframe thead th {\n",
       "        text-align: right;\n",
       "    }\n",
       "</style>\n",
       "<table border=\"1\" class=\"dataframe\">\n",
       "  <thead>\n",
       "    <tr style=\"text-align: right;\">\n",
       "      <th></th>\n",
       "      <th>Key</th>\n",
       "      <th>region_name</th>\n",
       "      <th>Station</th>\n",
       "      <th>lon</th>\n",
       "      <th>lat</th>\n",
       "      <th>Date</th>\n",
       "      <th>dtUTC</th>\n",
       "      <th>Twilight</th>\n",
       "      <th>Net_Type</th>\n",
       "      <th>Mesh_Size(um)</th>\n",
       "      <th>...</th>\n",
       "      <th>OtherCalanoids</th>\n",
       "      <th>Calanoids</th>\n",
       "      <th>CalanoidsDiaRemoved</th>\n",
       "      <th>Euphausiids</th>\n",
       "      <th>Themisto</th>\n",
       "      <th>Hyperia</th>\n",
       "      <th>Primno</th>\n",
       "      <th>Hyperiids</th>\n",
       "      <th>Gammariids</th>\n",
       "      <th>Total</th>\n",
       "    </tr>\n",
       "  </thead>\n",
       "  <tbody>\n",
       "    <tr>\n",
       "      <th>0</th>\n",
       "      <td>IOS2012005000901</td>\n",
       "      <td>Northern Strait of Georgia</td>\n",
       "      <td>22</td>\n",
       "      <td>-124.272</td>\n",
       "      <td>49.670</td>\n",
       "      <td>6/14/2012</td>\n",
       "      <td>2012-06-14 14:32:00</td>\n",
       "      <td>Daylight</td>\n",
       "      <td>SCOR VNH</td>\n",
       "      <td>236</td>\n",
       "      <td>...</td>\n",
       "      <td>0.115408</td>\n",
       "      <td>0.445351</td>\n",
       "      <td>0.237637</td>\n",
       "      <td>0.448822</td>\n",
       "      <td>0.827555</td>\n",
       "      <td>0.000000</td>\n",
       "      <td>0.000000</td>\n",
       "      <td>0.827555</td>\n",
       "      <td>0.0</td>\n",
       "      <td>1.721729</td>\n",
       "    </tr>\n",
       "    <tr>\n",
       "      <th>1</th>\n",
       "      <td>IOS2012005001001</td>\n",
       "      <td>Northern Strait of Georgia</td>\n",
       "      <td>22</td>\n",
       "      <td>-124.272</td>\n",
       "      <td>49.670</td>\n",
       "      <td>6/14/2012</td>\n",
       "      <td>2012-06-14 14:52:00</td>\n",
       "      <td>Daylight</td>\n",
       "      <td>SCOR VNH</td>\n",
       "      <td>236</td>\n",
       "      <td>...</td>\n",
       "      <td>0.015486</td>\n",
       "      <td>3.666233</td>\n",
       "      <td>0.604391</td>\n",
       "      <td>0.172039</td>\n",
       "      <td>0.278596</td>\n",
       "      <td>0.000000</td>\n",
       "      <td>0.083863</td>\n",
       "      <td>0.362459</td>\n",
       "      <td>0.0</td>\n",
       "      <td>4.200731</td>\n",
       "    </tr>\n",
       "    <tr>\n",
       "      <th>2</th>\n",
       "      <td>IOS2012005002101</td>\n",
       "      <td>Northern Strait of Georgia</td>\n",
       "      <td>11</td>\n",
       "      <td>-124.722</td>\n",
       "      <td>49.710</td>\n",
       "      <td>6/14/2012</td>\n",
       "      <td>2012-06-14 07:00:00</td>\n",
       "      <td>Night</td>\n",
       "      <td>SCOR VNH</td>\n",
       "      <td>236</td>\n",
       "      <td>...</td>\n",
       "      <td>0.004346</td>\n",
       "      <td>12.477846</td>\n",
       "      <td>1.859686</td>\n",
       "      <td>0.000000</td>\n",
       "      <td>1.635304</td>\n",
       "      <td>0.000000</td>\n",
       "      <td>0.237697</td>\n",
       "      <td>1.873001</td>\n",
       "      <td>0.0</td>\n",
       "      <td>14.350847</td>\n",
       "    </tr>\n",
       "    <tr>\n",
       "      <th>3</th>\n",
       "      <td>IOS2012005002201</td>\n",
       "      <td>Northern Strait of Georgia</td>\n",
       "      <td>11</td>\n",
       "      <td>-124.722</td>\n",
       "      <td>49.710</td>\n",
       "      <td>6/14/2012</td>\n",
       "      <td>2012-06-14 07:05:00</td>\n",
       "      <td>Night</td>\n",
       "      <td>SCOR VNH</td>\n",
       "      <td>236</td>\n",
       "      <td>...</td>\n",
       "      <td>0.010369</td>\n",
       "      <td>14.173214</td>\n",
       "      <td>2.698241</td>\n",
       "      <td>12.270955</td>\n",
       "      <td>2.562381</td>\n",
       "      <td>0.000000</td>\n",
       "      <td>0.459538</td>\n",
       "      <td>3.021919</td>\n",
       "      <td>0.0</td>\n",
       "      <td>29.466088</td>\n",
       "    </tr>\n",
       "    <tr>\n",
       "      <th>4</th>\n",
       "      <td>IOS2012005002901</td>\n",
       "      <td>Northern Strait of Georgia</td>\n",
       "      <td>CPF2</td>\n",
       "      <td>-124.499</td>\n",
       "      <td>49.466</td>\n",
       "      <td>6/15/2012</td>\n",
       "      <td>2012-06-15 10:00:00</td>\n",
       "      <td>Night</td>\n",
       "      <td>SCOR VNH</td>\n",
       "      <td>236</td>\n",
       "      <td>...</td>\n",
       "      <td>0.051333</td>\n",
       "      <td>0.747524</td>\n",
       "      <td>0.051333</td>\n",
       "      <td>39.755211</td>\n",
       "      <td>7.895820</td>\n",
       "      <td>0.197026</td>\n",
       "      <td>0.804768</td>\n",
       "      <td>8.897614</td>\n",
       "      <td>0.0</td>\n",
       "      <td>49.400349</td>\n",
       "    </tr>\n",
       "    <tr>\n",
       "      <th>...</th>\n",
       "      <td>...</td>\n",
       "      <td>...</td>\n",
       "      <td>...</td>\n",
       "      <td>...</td>\n",
       "      <td>...</td>\n",
       "      <td>...</td>\n",
       "      <td>...</td>\n",
       "      <td>...</td>\n",
       "      <td>...</td>\n",
       "      <td>...</td>\n",
       "      <td>...</td>\n",
       "      <td>...</td>\n",
       "      <td>...</td>\n",
       "      <td>...</td>\n",
       "      <td>...</td>\n",
       "      <td>...</td>\n",
       "      <td>...</td>\n",
       "      <td>...</td>\n",
       "      <td>...</td>\n",
       "      <td>...</td>\n",
       "      <td>...</td>\n",
       "    </tr>\n",
       "    <tr>\n",
       "      <th>649</th>\n",
       "      <td>SOO2015095000101</td>\n",
       "      <td>Tidal Mixed</td>\n",
       "      <td>CLO-42</td>\n",
       "      <td>-123.345</td>\n",
       "      <td>48.394</td>\n",
       "      <td>4/27/2015</td>\n",
       "      <td>2015-04-27 17:37:00</td>\n",
       "      <td>Daylight</td>\n",
       "      <td>SCOR VNH</td>\n",
       "      <td>236</td>\n",
       "      <td>...</td>\n",
       "      <td>0.000146</td>\n",
       "      <td>0.496019</td>\n",
       "      <td>0.056654</td>\n",
       "      <td>0.000000</td>\n",
       "      <td>0.304123</td>\n",
       "      <td>0.000000</td>\n",
       "      <td>0.000000</td>\n",
       "      <td>0.304123</td>\n",
       "      <td>0.0</td>\n",
       "      <td>0.800142</td>\n",
       "    </tr>\n",
       "    <tr>\n",
       "      <th>650</th>\n",
       "      <td>SOO2015095000401</td>\n",
       "      <td>Tidal Mixed</td>\n",
       "      <td>CB01</td>\n",
       "      <td>-123.318</td>\n",
       "      <td>48.344</td>\n",
       "      <td>4/30/2015</td>\n",
       "      <td>2015-04-30 19:00:00</td>\n",
       "      <td>Daylight</td>\n",
       "      <td>SCOR VNH</td>\n",
       "      <td>236</td>\n",
       "      <td>...</td>\n",
       "      <td>0.006763</td>\n",
       "      <td>1.091657</td>\n",
       "      <td>0.180086</td>\n",
       "      <td>0.023474</td>\n",
       "      <td>1.761051</td>\n",
       "      <td>0.000000</td>\n",
       "      <td>0.000000</td>\n",
       "      <td>1.761051</td>\n",
       "      <td>0.0</td>\n",
       "      <td>2.876183</td>\n",
       "    </tr>\n",
       "    <tr>\n",
       "      <th>651</th>\n",
       "      <td>SOO2015095000501</td>\n",
       "      <td>Tidal Mixed</td>\n",
       "      <td>CLO-41</td>\n",
       "      <td>-123.345</td>\n",
       "      <td>48.395</td>\n",
       "      <td>7/9/2015</td>\n",
       "      <td>2015-07-09 19:25:00</td>\n",
       "      <td>Daylight</td>\n",
       "      <td>SCOR VNH</td>\n",
       "      <td>236</td>\n",
       "      <td>...</td>\n",
       "      <td>0.010097</td>\n",
       "      <td>0.141755</td>\n",
       "      <td>0.075749</td>\n",
       "      <td>0.000000</td>\n",
       "      <td>0.000000</td>\n",
       "      <td>0.000000</td>\n",
       "      <td>0.000000</td>\n",
       "      <td>0.000000</td>\n",
       "      <td>0.0</td>\n",
       "      <td>0.141755</td>\n",
       "    </tr>\n",
       "    <tr>\n",
       "      <th>652</th>\n",
       "      <td>SOO2015095000701</td>\n",
       "      <td>Tidal Mixed</td>\n",
       "      <td>CB01</td>\n",
       "      <td>-123.318</td>\n",
       "      <td>48.344</td>\n",
       "      <td>7/27/2015</td>\n",
       "      <td>2015-07-27 19:06:00</td>\n",
       "      <td>Daylight</td>\n",
       "      <td>SCOR VNH</td>\n",
       "      <td>236</td>\n",
       "      <td>...</td>\n",
       "      <td>0.029189</td>\n",
       "      <td>0.029189</td>\n",
       "      <td>0.029189</td>\n",
       "      <td>0.003526</td>\n",
       "      <td>0.168176</td>\n",
       "      <td>0.000000</td>\n",
       "      <td>0.000000</td>\n",
       "      <td>0.168176</td>\n",
       "      <td>0.0</td>\n",
       "      <td>0.200890</td>\n",
       "    </tr>\n",
       "    <tr>\n",
       "      <th>653</th>\n",
       "      <td>SOO2015095000801</td>\n",
       "      <td>Tidal Mixed</td>\n",
       "      <td>MAC41</td>\n",
       "      <td>-123.409</td>\n",
       "      <td>48.402</td>\n",
       "      <td>7/27/2015</td>\n",
       "      <td>2015-07-27 20:00:00</td>\n",
       "      <td>Daylight</td>\n",
       "      <td>SCOR VNH</td>\n",
       "      <td>236</td>\n",
       "      <td>...</td>\n",
       "      <td>0.399796</td>\n",
       "      <td>0.893605</td>\n",
       "      <td>0.655242</td>\n",
       "      <td>0.000000</td>\n",
       "      <td>0.731182</td>\n",
       "      <td>0.000000</td>\n",
       "      <td>0.000000</td>\n",
       "      <td>0.731182</td>\n",
       "      <td>0.0</td>\n",
       "      <td>1.624787</td>\n",
       "    </tr>\n",
       "  </tbody>\n",
       "</table>\n",
       "<p>654 rows × 269 columns</p>\n",
       "</div>"
      ],
      "text/plain": [
       "                  Key                 region_name Station      lon     lat  \\\n",
       "0    IOS2012005000901  Northern Strait of Georgia      22 -124.272  49.670   \n",
       "1    IOS2012005001001  Northern Strait of Georgia      22 -124.272  49.670   \n",
       "2    IOS2012005002101  Northern Strait of Georgia      11 -124.722  49.710   \n",
       "3    IOS2012005002201  Northern Strait of Georgia      11 -124.722  49.710   \n",
       "4    IOS2012005002901  Northern Strait of Georgia    CPF2 -124.499  49.466   \n",
       "..                ...                         ...     ...      ...     ...   \n",
       "649  SOO2015095000101                 Tidal Mixed  CLO-42 -123.345  48.394   \n",
       "650  SOO2015095000401                 Tidal Mixed    CB01 -123.318  48.344   \n",
       "651  SOO2015095000501                 Tidal Mixed  CLO-41 -123.345  48.395   \n",
       "652  SOO2015095000701                 Tidal Mixed    CB01 -123.318  48.344   \n",
       "653  SOO2015095000801                 Tidal Mixed   MAC41 -123.409  48.402   \n",
       "\n",
       "          Date               dtUTC  Twilight  Net_Type  Mesh_Size(um)  ...  \\\n",
       "0    6/14/2012 2012-06-14 14:32:00  Daylight  SCOR VNH            236  ...   \n",
       "1    6/14/2012 2012-06-14 14:52:00  Daylight  SCOR VNH            236  ...   \n",
       "2    6/14/2012 2012-06-14 07:00:00     Night  SCOR VNH            236  ...   \n",
       "3    6/14/2012 2012-06-14 07:05:00     Night  SCOR VNH            236  ...   \n",
       "4    6/15/2012 2012-06-15 10:00:00     Night  SCOR VNH            236  ...   \n",
       "..         ...                 ...       ...       ...            ...  ...   \n",
       "649  4/27/2015 2015-04-27 17:37:00  Daylight  SCOR VNH            236  ...   \n",
       "650  4/30/2015 2015-04-30 19:00:00  Daylight  SCOR VNH            236  ...   \n",
       "651   7/9/2015 2015-07-09 19:25:00  Daylight  SCOR VNH            236  ...   \n",
       "652  7/27/2015 2015-07-27 19:06:00  Daylight  SCOR VNH            236  ...   \n",
       "653  7/27/2015 2015-07-27 20:00:00  Daylight  SCOR VNH            236  ...   \n",
       "\n",
       "     OtherCalanoids  Calanoids  CalanoidsDiaRemoved  Euphausiids  Themisto  \\\n",
       "0          0.115408   0.445351             0.237637     0.448822  0.827555   \n",
       "1          0.015486   3.666233             0.604391     0.172039  0.278596   \n",
       "2          0.004346  12.477846             1.859686     0.000000  1.635304   \n",
       "3          0.010369  14.173214             2.698241    12.270955  2.562381   \n",
       "4          0.051333   0.747524             0.051333    39.755211  7.895820   \n",
       "..              ...        ...                  ...          ...       ...   \n",
       "649        0.000146   0.496019             0.056654     0.000000  0.304123   \n",
       "650        0.006763   1.091657             0.180086     0.023474  1.761051   \n",
       "651        0.010097   0.141755             0.075749     0.000000  0.000000   \n",
       "652        0.029189   0.029189             0.029189     0.003526  0.168176   \n",
       "653        0.399796   0.893605             0.655242     0.000000  0.731182   \n",
       "\n",
       "      Hyperia    Primno  Hyperiids  Gammariids      Total  \n",
       "0    0.000000  0.000000   0.827555         0.0   1.721729  \n",
       "1    0.000000  0.083863   0.362459         0.0   4.200731  \n",
       "2    0.000000  0.237697   1.873001         0.0  14.350847  \n",
       "3    0.000000  0.459538   3.021919         0.0  29.466088  \n",
       "4    0.197026  0.804768   8.897614         0.0  49.400349  \n",
       "..        ...       ...        ...         ...        ...  \n",
       "649  0.000000  0.000000   0.304123         0.0   0.800142  \n",
       "650  0.000000  0.000000   1.761051         0.0   2.876183  \n",
       "651  0.000000  0.000000   0.000000         0.0   0.141755  \n",
       "652  0.000000  0.000000   0.168176         0.0   0.200890  \n",
       "653  0.000000  0.000000   0.731182         0.0   1.624787  \n",
       "\n",
       "[654 rows x 269 columns]"
      ]
     },
     "execution_count": 70,
     "metadata": {},
     "output_type": "execute_result"
    }
   ],
   "source": [
    "biomassDF"
   ]
  },
  {
   "cell_type": "code",
   "execution_count": 73,
   "metadata": {},
   "outputs": [],
   "source": [
    "biomassDF['Month']=[ii.month for ii in biomassDF['dtUTC']]"
   ]
  },
  {
   "cell_type": "code",
   "execution_count": 75,
   "metadata": {},
   "outputs": [
    {
     "data": {
      "text/html": [
       "<div>\n",
       "<style scoped>\n",
       "    .dataframe tbody tr th:only-of-type {\n",
       "        vertical-align: middle;\n",
       "    }\n",
       "\n",
       "    .dataframe tbody tr th {\n",
       "        vertical-align: top;\n",
       "    }\n",
       "\n",
       "    .dataframe thead th {\n",
       "        text-align: right;\n",
       "    }\n",
       "</style>\n",
       "<table border=\"1\" class=\"dataframe\">\n",
       "  <thead>\n",
       "    <tr style=\"text-align: right;\">\n",
       "      <th></th>\n",
       "      <th>Calanoids</th>\n",
       "    </tr>\n",
       "  </thead>\n",
       "  <tbody>\n",
       "    <tr>\n",
       "      <th>239</th>\n",
       "      <td>0.231678</td>\n",
       "    </tr>\n",
       "    <tr>\n",
       "      <th>240</th>\n",
       "      <td>0.262995</td>\n",
       "    </tr>\n",
       "    <tr>\n",
       "      <th>241</th>\n",
       "      <td>0.045065</td>\n",
       "    </tr>\n",
       "    <tr>\n",
       "      <th>242</th>\n",
       "      <td>0.011634</td>\n",
       "    </tr>\n",
       "    <tr>\n",
       "      <th>243</th>\n",
       "      <td>0.263927</td>\n",
       "    </tr>\n",
       "    <tr>\n",
       "      <th>244</th>\n",
       "      <td>0.210876</td>\n",
       "    </tr>\n",
       "    <tr>\n",
       "      <th>457</th>\n",
       "      <td>0.910112</td>\n",
       "    </tr>\n",
       "    <tr>\n",
       "      <th>458</th>\n",
       "      <td>1.208902</td>\n",
       "    </tr>\n",
       "    <tr>\n",
       "      <th>459</th>\n",
       "      <td>1.319525</td>\n",
       "    </tr>\n",
       "    <tr>\n",
       "      <th>589</th>\n",
       "      <td>0.150697</td>\n",
       "    </tr>\n",
       "    <tr>\n",
       "      <th>590</th>\n",
       "      <td>0.294798</td>\n",
       "    </tr>\n",
       "    <tr>\n",
       "      <th>591</th>\n",
       "      <td>0.441176</td>\n",
       "    </tr>\n",
       "    <tr>\n",
       "      <th>592</th>\n",
       "      <td>0.343120</td>\n",
       "    </tr>\n",
       "  </tbody>\n",
       "</table>\n",
       "</div>"
      ],
      "text/plain": [
       "     Calanoids\n",
       "239   0.231678\n",
       "240   0.262995\n",
       "241   0.045065\n",
       "242   0.011634\n",
       "243   0.263927\n",
       "244   0.210876\n",
       "457   0.910112\n",
       "458   1.208902\n",
       "459   1.319525\n",
       "589   0.150697\n",
       "590   0.294798\n",
       "591   0.441176\n",
       "592   0.343120"
      ]
     },
     "execution_count": 75,
     "metadata": {},
     "output_type": "execute_result"
    }
   ],
   "source": [
    "biomassDF.loc[biomassDF.Month==2,['Calanoids']]"
   ]
  },
  {
   "cell_type": "code",
   "execution_count": null,
   "metadata": {},
   "outputs": [],
   "source": []
  },
  {
   "cell_type": "code",
   "execution_count": null,
   "metadata": {},
   "outputs": [],
   "source": []
  },
  {
   "cell_type": "code",
   "execution_count": null,
   "metadata": {},
   "outputs": [],
   "source": []
  },
  {
   "cell_type": "code",
   "execution_count": null,
   "metadata": {},
   "outputs": [],
   "source": []
  },
  {
   "cell_type": "code",
   "execution_count": null,
   "metadata": {},
   "outputs": [],
   "source": []
  },
  {
   "cell_type": "code",
   "execution_count": 224,
   "metadata": {},
   "outputs": [
    {
     "name": "stdout",
     "output_type": "stream",
     "text": [
      "Warning: lower limit is not an ocean value:  i=265, j=388, k_upper=0, k_lower=27, k_seafloor=27 Lon=-123.311, Lat=48.898, dtUTC=2014-03-09 18:57:00\n",
      "Warning: lower limit is not an ocean value:  i=265, j=388, k_upper=0, k_lower=27, k_seafloor=27 Lon=-123.311, Lat=48.898, dtUTC=2014-03-09 18:57:00\n",
      "Warning: lower limit is not an ocean value:  i=159, j=645, k_upper=0, k_lower=34, k_seafloor=34 Lon=-124.72200000000001, Lat=49.706, dtUTC=2014-04-06 07:14:00\n",
      "Warning: lower limit is not an ocean value:  i=159, j=645, k_upper=0, k_lower=34, k_seafloor=34 Lon=-124.72200000000001, Lat=49.706, dtUTC=2014-04-06 07:14:00\n",
      "Warning: lower limit is not an ocean value:  i=201, j=382, k_upper=0, k_lower=22, k_seafloor=11 Lon=-123.62299999999999, Lat=48.751000000000005, dtUTC=2014-04-23 18:49:00\n",
      "Warning: lower limit is not an ocean value:  i=201, j=382, k_upper=0, k_lower=22, k_seafloor=11 Lon=-123.62299999999999, Lat=48.751000000000005, dtUTC=2014-04-23 18:49:00\n",
      "Warning: lower limit is not an ocean value:  i=202, j=382, k_upper=0, k_lower=22, k_seafloor=17 Lon=-123.62100000000001, Lat=48.751000000000005, dtUTC=2014-04-29 18:20:00\n",
      "Warning: lower limit is not an ocean value:  i=202, j=382, k_upper=0, k_lower=22, k_seafloor=17 Lon=-123.62100000000001, Lat=48.751000000000005, dtUTC=2014-04-29 18:20:00\n",
      "Warning: lower limit is not an ocean value:  i=205, j=381, k_upper=0, k_lower=23, k_seafloor=23 Lon=-123.605, Lat=48.755, dtUTC=2014-04-29 19:40:00\n",
      "Warning: lower limit is not an ocean value:  i=205, j=381, k_upper=0, k_lower=23, k_seafloor=23 Lon=-123.605, Lat=48.755, dtUTC=2014-04-29 19:40:00\n",
      "Warning: lower limit is not an ocean value:  i=203, j=378, k_upper=0, k_lower=22, k_seafloor=22 Lon=-123.602, Lat=48.74100000000001, dtUTC=2014-04-29 20:36:00\n",
      "Warning: lower limit is not an ocean value:  i=203, j=378, k_upper=0, k_lower=22, k_seafloor=22 Lon=-123.602, Lat=48.74100000000001, dtUTC=2014-04-29 20:36:00\n",
      "Warning: lower limit is not an ocean value:  i=201, j=382, k_upper=0, k_lower=19, k_seafloor=11 Lon=-123.62299999999999, Lat=48.751000000000005, dtUTC=2014-05-07 18:07:00\n",
      "Warning: lower limit is not an ocean value:  i=201, j=382, k_upper=0, k_lower=19, k_seafloor=11 Lon=-123.62299999999999, Lat=48.751000000000005, dtUTC=2014-05-07 18:07:00\n",
      "Warning: lower limit is not an ocean value:  i=211, j=382, k_upper=0, k_lower=24, k_seafloor=24 Lon=-123.574, Lat=48.77, dtUTC=2014-05-07 21:42:00\n",
      "Warning: lower limit is not an ocean value:  i=211, j=382, k_upper=0, k_lower=24, k_seafloor=24 Lon=-123.574, Lat=48.77, dtUTC=2014-05-07 21:42:00\n",
      "Warning: lower limit is not an ocean value:  i=202, j=382, k_upper=0, k_lower=18, k_seafloor=17 Lon=-123.62299999999999, Lat=48.751999999999995, dtUTC=2014-05-15 18:20:00\n",
      "Warning: lower limit is not an ocean value:  i=202, j=382, k_upper=0, k_lower=18, k_seafloor=17 Lon=-123.62299999999999, Lat=48.751999999999995, dtUTC=2014-05-15 18:20:00\n",
      "Warning: lower limit is not an ocean value:  i=205, j=381, k_upper=0, k_lower=23, k_seafloor=23 Lon=-123.605, Lat=48.755, dtUTC=2014-05-15 20:24:00\n",
      "Warning: lower limit is not an ocean value:  i=205, j=381, k_upper=0, k_lower=23, k_seafloor=23 Lon=-123.605, Lat=48.755, dtUTC=2014-05-15 20:24:00\n",
      "Warning: lower limit is not an ocean value:  i=211, j=382, k_upper=0, k_lower=24, k_seafloor=24 Lon=-123.572, Lat=48.771, dtUTC=2014-05-28 16:49:00\n",
      "Warning: lower limit is not an ocean value:  i=211, j=382, k_upper=0, k_lower=24, k_seafloor=24 Lon=-123.572, Lat=48.771, dtUTC=2014-05-28 16:49:00\n",
      "Warning: lower limit is not an ocean value:  i=202, j=382, k_upper=0, k_lower=21, k_seafloor=17 Lon=-123.62200000000001, Lat=48.751999999999995, dtUTC=2014-05-28 19:49:00\n",
      "Warning: lower limit is not an ocean value:  i=202, j=382, k_upper=0, k_lower=21, k_seafloor=17 Lon=-123.62200000000001, Lat=48.751999999999995, dtUTC=2014-05-28 19:49:00\n",
      "Warning: lower limit is not an ocean value:  i=207, j=376, k_upper=0, k_lower=25, k_seafloor=25 Lon=-123.575, Lat=48.736999999999995, dtUTC=2014-06-05 21:11:00\n",
      "Warning: lower limit is not an ocean value:  i=207, j=376, k_upper=0, k_lower=25, k_seafloor=25 Lon=-123.575, Lat=48.736999999999995, dtUTC=2014-06-05 21:11:00\n",
      "Warning: lower limit is not an ocean value:  i=122, j=628, k_upper=0, k_lower=23, k_seafloor=23 Lon=-124.86, Lat=49.568999999999996, dtUTC=2014-06-20 21:38:00\n",
      "Warning: lower limit is not an ocean value:  i=122, j=628, k_upper=0, k_lower=23, k_seafloor=23 Lon=-124.86, Lat=49.568999999999996, dtUTC=2014-06-20 21:38:00\n",
      "Warning: lower limit is not an ocean value:  i=120, j=621, k_upper=0, k_lower=23, k_seafloor=23 Lon=-124.84200000000001, Lat=49.537, dtUTC=2014-06-20 23:06:00\n",
      "Warning: lower limit is not an ocean value:  i=120, j=621, k_upper=0, k_lower=23, k_seafloor=23 Lon=-124.84200000000001, Lat=49.537, dtUTC=2014-06-20 23:06:00\n",
      "Warning: lower limit is not an ocean value:  i=123, j=606, k_upper=0, k_lower=23, k_seafloor=19 Lon=-124.77600000000001, Lat=49.483999999999995, dtUTC=2014-06-21 16:45:00\n",
      "Warning: lower limit is not an ocean value:  i=123, j=606, k_upper=0, k_lower=23, k_seafloor=19 Lon=-124.77600000000001, Lat=49.483999999999995, dtUTC=2014-06-21 16:45:00\n",
      "Warning: lower limit is not an ocean value:  i=136, j=606, k_upper=0, k_lower=23, k_seafloor=22 Lon=-124.713, Lat=49.50899999999999, dtUTC=2014-06-22 19:39:00\n",
      "Warning: lower limit is not an ocean value:  i=136, j=606, k_upper=0, k_lower=23, k_seafloor=22 Lon=-124.713, Lat=49.50899999999999, dtUTC=2014-06-22 19:39:00\n",
      "Warning: lower limit is not an ocean value:  i=134, j=639, k_upper=0, k_lower=23, k_seafloor=23 Lon=-124.831, Lat=49.635, dtUTC=2014-06-22 23:04:00\n",
      "Warning: lower limit is not an ocean value:  i=134, j=639, k_upper=0, k_lower=23, k_seafloor=23 Lon=-124.831, Lat=49.635, dtUTC=2014-06-22 23:04:00\n",
      "Warning: lower limit is not an ocean value:  i=125, j=635, k_upper=0, k_lower=23, k_seafloor=23 Lon=-124.866, Lat=49.604, dtUTC=2015-02-18 08:00:00\n",
      "Warning: lower limit is not an ocean value:  i=125, j=635, k_upper=0, k_lower=23, k_seafloor=23 Lon=-124.866, Lat=49.604, dtUTC=2015-02-18 08:00:00\n",
      "Warning: lower limit is not an ocean value:  i=211, j=382, k_upper=0, k_lower=24, k_seafloor=24 Lon=-123.575, Lat=48.77, dtUTC=2015-02-19 19:16:00\n",
      "Warning: lower limit is not an ocean value:  i=211, j=382, k_upper=0, k_lower=24, k_seafloor=24 Lon=-123.575, Lat=48.77, dtUTC=2015-02-19 19:16:00\n",
      "Warning: lower limit is not an ocean value:  i=201, j=381, k_upper=0, k_lower=21, k_seafloor=18 Lon=-123.62299999999999, Lat=48.75, dtUTC=2015-02-19 20:17:00\n",
      "Warning: lower limit is not an ocean value:  i=201, j=381, k_upper=0, k_lower=21, k_seafloor=18 Lon=-123.62299999999999, Lat=48.75, dtUTC=2015-02-19 20:17:00\n",
      "Warning: lower limit is not an ocean value:  i=207, j=376, k_upper=0, k_lower=25, k_seafloor=25 Lon=-123.574, Lat=48.738, dtUTC=2015-02-19 21:59:00\n",
      "Warning: lower limit is not an ocean value:  i=207, j=376, k_upper=0, k_lower=25, k_seafloor=25 Lon=-123.574, Lat=48.738, dtUTC=2015-02-19 21:59:00\n",
      "Warning: lower limit is not an ocean value:  i=202, j=379, k_upper=0, k_lower=22, k_seafloor=22 Lon=-123.60700000000001, Lat=48.74100000000001, dtUTC=2015-03-12 19:01:00\n",
      "Warning: lower limit is not an ocean value:  i=202, j=379, k_upper=0, k_lower=22, k_seafloor=22 Lon=-123.60700000000001, Lat=48.74100000000001, dtUTC=2015-03-12 19:01:00\n",
      "Warning: lower limit is not an ocean value:  i=202, j=382, k_upper=0, k_lower=22, k_seafloor=17 Lon=-123.62200000000001, Lat=48.751000000000005, dtUTC=2015-03-12 20:36:00\n",
      "Warning: lower limit is not an ocean value:  i=202, j=382, k_upper=0, k_lower=22, k_seafloor=17 Lon=-123.62200000000001, Lat=48.751000000000005, dtUTC=2015-03-12 20:36:00\n",
      "Warning: lower limit is not an ocean value:  i=124, j=605, k_upper=0, k_lower=24, k_seafloor=24 Lon=-124.76799999999999, Lat=49.483000000000004, dtUTC=2015-03-17 22:27:00\n",
      "Warning: lower limit is not an ocean value:  i=124, j=605, k_upper=0, k_lower=24, k_seafloor=24 Lon=-124.76799999999999, Lat=49.483000000000004, dtUTC=2015-03-17 22:27:00\n",
      "Warning: lower limit is not an ocean value:  i=211, j=382, k_upper=0, k_lower=24, k_seafloor=24 Lon=-123.573, Lat=48.769, dtUTC=2015-03-19 16:58:00\n",
      "Warning: lower limit is not an ocean value:  i=211, j=382, k_upper=0, k_lower=24, k_seafloor=24 Lon=-123.573, Lat=48.769, dtUTC=2015-03-19 16:58:00\n",
      "Warning: lower limit is not an ocean value:  i=202, j=381, k_upper=0, k_lower=23, k_seafloor=23 Lon=-123.618, Lat=48.75, dtUTC=2015-03-19 19:51:00\n",
      "Warning: lower limit is not an ocean value:  i=202, j=381, k_upper=0, k_lower=23, k_seafloor=23 Lon=-123.618, Lat=48.75, dtUTC=2015-03-19 19:51:00\n",
      "Warning: lower limit is not an ocean value:  i=149, j=594, k_upper=0, k_lower=25, k_seafloor=25 Lon=-124.60600000000001, Lat=49.485, dtUTC=2015-03-21 17:18:00\n",
      "Warning: lower limit is not an ocean value:  i=149, j=594, k_upper=0, k_lower=25, k_seafloor=25 Lon=-124.60600000000001, Lat=49.485, dtUTC=2015-03-21 17:18:00\n",
      "Warning: lower limit is not an ocean value:  i=211, j=382, k_upper=0, k_lower=24, k_seafloor=24 Lon=-123.575, Lat=48.769, dtUTC=2015-03-26 16:05:00\n",
      "Warning: lower limit is not an ocean value:  i=211, j=382, k_upper=0, k_lower=24, k_seafloor=24 Lon=-123.575, Lat=48.769, dtUTC=2015-03-26 16:05:00\n",
      "Warning: lower limit is not an ocean value:  i=211, j=382, k_upper=0, k_lower=24, k_seafloor=24 Lon=-123.574, Lat=48.769, dtUTC=2015-04-02 15:49:00\n",
      "Warning: lower limit is not an ocean value:  i=211, j=382, k_upper=0, k_lower=24, k_seafloor=24 Lon=-123.574, Lat=48.769, dtUTC=2015-04-02 15:49:00\n",
      "Warning: lower limit is not an ocean value:  i=203, j=378, k_upper=0, k_lower=22, k_seafloor=22 Lon=-123.60600000000001, Lat=48.74, dtUTC=2015-04-02 17:41:00\n",
      "Warning: lower limit is not an ocean value:  i=203, j=378, k_upper=0, k_lower=22, k_seafloor=22 Lon=-123.60600000000001, Lat=48.74, dtUTC=2015-04-02 17:41:00\n",
      "Warning: lower limit is not an ocean value:  i=202, j=382, k_upper=0, k_lower=20, k_seafloor=17 Lon=-123.62299999999999, Lat=48.751999999999995, dtUTC=2015-04-02 19:14:00\n",
      "Warning: lower limit is not an ocean value:  i=202, j=382, k_upper=0, k_lower=20, k_seafloor=17 Lon=-123.62299999999999, Lat=48.751999999999995, dtUTC=2015-04-02 19:14:00\n",
      "Warning: lower limit is not an ocean value:  i=202, j=382, k_upper=0, k_lower=19, k_seafloor=17 Lon=-123.62200000000001, Lat=48.751000000000005, dtUTC=2015-04-16 19:10:00\n",
      "Warning: lower limit is not an ocean value:  i=202, j=382, k_upper=0, k_lower=19, k_seafloor=17 Lon=-123.62200000000001, Lat=48.751000000000005, dtUTC=2015-04-16 19:10:00\n",
      "Warning: lower limit is not an ocean value:  i=126, j=636, k_upper=0, k_lower=23, k_seafloor=23 Lon=-124.867, Lat=49.608000000000004, dtUTC=2015-05-13 18:06:00\n",
      "Warning: lower limit is not an ocean value:  i=126, j=636, k_upper=0, k_lower=23, k_seafloor=23 Lon=-124.867, Lat=49.608000000000004, dtUTC=2015-05-13 18:06:00\n",
      "Warning: lower limit is not an ocean value:  i=149, j=594, k_upper=0, k_lower=25, k_seafloor=25 Lon=-124.605, Lat=49.485, dtUTC=2015-05-17 15:59:00\n",
      "Warning: lower limit is not an ocean value:  i=149, j=594, k_upper=0, k_lower=25, k_seafloor=25 Lon=-124.605, Lat=49.485, dtUTC=2015-05-17 15:59:00\n",
      "Warning: lower limit is not an ocean value:  i=202, j=382, k_upper=0, k_lower=19, k_seafloor=17 Lon=-123.62200000000001, Lat=48.751999999999995, dtUTC=2015-05-19 18:50:00\n",
      "Warning: lower limit is not an ocean value:  i=202, j=382, k_upper=0, k_lower=19, k_seafloor=17 Lon=-123.62200000000001, Lat=48.751999999999995, dtUTC=2015-05-19 18:50:00\n",
      "Warning: lower limit is not an ocean value:  i=159, j=646, k_upper=0, k_lower=34, k_seafloor=34 Lon=-124.72399999999999, Lat=49.707, dtUTC=2015-06-28 06:15:00\n",
      "Warning: lower limit is not an ocean value:  i=159, j=646, k_upper=0, k_lower=34, k_seafloor=34 Lon=-124.72399999999999, Lat=49.707, dtUTC=2015-06-28 06:15:00\n",
      "Warning: lower limit is not an ocean value:  i=239, j=329, k_upper=0, k_lower=31, k_seafloor=29 Lon=-123.249, Lat=48.615, dtUTC=2015-08-20 02:52:00\n",
      "Warning: lower limit is not an ocean value:  i=239, j=329, k_upper=0, k_lower=31, k_seafloor=29 Lon=-123.249, Lat=48.615, dtUTC=2015-08-20 02:52:00\n",
      "Warning: lower limit is not an ocean value:  i=149, j=594, k_upper=0, k_lower=25, k_seafloor=25 Lon=-124.605, Lat=49.485, dtUTC=2015-09-14 17:11:00\n",
      "Warning: lower limit is not an ocean value:  i=149, j=594, k_upper=0, k_lower=25, k_seafloor=25 Lon=-124.605, Lat=49.485, dtUTC=2015-09-14 17:11:00\n",
      "Warning: lower limit is not an ocean value:  i=251, j=457, k_upper=0, k_lower=28, k_seafloor=28 Lon=-123.61399999999999, Lat=49.141999999999996, dtUTC=2015-10-04 07:32:00\n",
      "Warning: lower limit is not an ocean value:  i=251, j=457, k_upper=0, k_lower=28, k_seafloor=28 Lon=-123.61399999999999, Lat=49.141999999999996, dtUTC=2015-10-04 07:32:00\n"
     ]
    }
   ],
   "source": [
    "data=et.matchData(biomassDF,filemap,fdict,start_date,end_date,'nowcast',PATH,1,quiet=False,method='vertNet');"
   ]
  },
  {
   "cell_type": "code",
   "execution_count": 225,
   "metadata": {},
   "outputs": [
    {
     "data": {
      "text/html": [
       "<div>\n",
       "<style scoped>\n",
       "    .dataframe tbody tr th:only-of-type {\n",
       "        vertical-align: middle;\n",
       "    }\n",
       "\n",
       "    .dataframe tbody tr th {\n",
       "        vertical-align: top;\n",
       "    }\n",
       "\n",
       "    .dataframe thead th {\n",
       "        text-align: right;\n",
       "    }\n",
       "</style>\n",
       "<table border=\"1\" class=\"dataframe\">\n",
       "  <thead>\n",
       "    <tr style=\"text-align: right;\">\n",
       "      <th></th>\n",
       "      <th>Key</th>\n",
       "      <th>region_name</th>\n",
       "      <th>Station</th>\n",
       "      <th>Lon</th>\n",
       "      <th>Lat</th>\n",
       "      <th>Date</th>\n",
       "      <th>dtUTC</th>\n",
       "      <th>Twilight</th>\n",
       "      <th>Net_Type</th>\n",
       "      <th>Mesh_Size(um)</th>\n",
       "      <th>...</th>\n",
       "      <th>Primno</th>\n",
       "      <th>Hyperiids</th>\n",
       "      <th>Gammariids</th>\n",
       "      <th>Total</th>\n",
       "      <th>j</th>\n",
       "      <th>i</th>\n",
       "      <th>mod_microzooplankton</th>\n",
       "      <th>mod_mesozooplankton</th>\n",
       "      <th>k_upper</th>\n",
       "      <th>k_lower</th>\n",
       "    </tr>\n",
       "  </thead>\n",
       "  <tbody>\n",
       "    <tr>\n",
       "      <th>0</th>\n",
       "      <td>PBS2014016000801</td>\n",
       "      <td>Juan de Fuca</td>\n",
       "      <td>JF03</td>\n",
       "      <td>-124.051</td>\n",
       "      <td>48.388</td>\n",
       "      <td>3/7/2014</td>\n",
       "      <td>2014-03-07 19:01:00</td>\n",
       "      <td>Daylight</td>\n",
       "      <td>Bongo VNH</td>\n",
       "      <td>253</td>\n",
       "      <td>...</td>\n",
       "      <td>0.000000</td>\n",
       "      <td>0.092604</td>\n",
       "      <td>0.0</td>\n",
       "      <td>10.554291</td>\n",
       "      <td>342</td>\n",
       "      <td>94</td>\n",
       "      <td>0.049066</td>\n",
       "      <td>0.286660</td>\n",
       "      <td>0</td>\n",
       "      <td>23</td>\n",
       "    </tr>\n",
       "    <tr>\n",
       "      <th>1</th>\n",
       "      <td>PBS2014016004401</td>\n",
       "      <td>Central Strait of Georgia</td>\n",
       "      <td>GS04</td>\n",
       "      <td>-123.311</td>\n",
       "      <td>48.898</td>\n",
       "      <td>3/9/2014</td>\n",
       "      <td>2014-03-09 18:57:00</td>\n",
       "      <td>Daylight</td>\n",
       "      <td>Bongo VNH</td>\n",
       "      <td>253</td>\n",
       "      <td>...</td>\n",
       "      <td>0.000000</td>\n",
       "      <td>0.025194</td>\n",
       "      <td>0.0</td>\n",
       "      <td>0.335986</td>\n",
       "      <td>388</td>\n",
       "      <td>265</td>\n",
       "      <td>0.065740</td>\n",
       "      <td>0.263313</td>\n",
       "      <td>0</td>\n",
       "      <td>27</td>\n",
       "    </tr>\n",
       "    <tr>\n",
       "      <th>2</th>\n",
       "      <td>PBS2014016005201</td>\n",
       "      <td>Central Strait of Georgia</td>\n",
       "      <td>GS08</td>\n",
       "      <td>-123.580</td>\n",
       "      <td>49.045</td>\n",
       "      <td>3/9/2014</td>\n",
       "      <td>2014-03-09 23:57:00</td>\n",
       "      <td>Daylight</td>\n",
       "      <td>Bongo VNH</td>\n",
       "      <td>253</td>\n",
       "      <td>...</td>\n",
       "      <td>0.158000</td>\n",
       "      <td>0.261419</td>\n",
       "      <td>0.0</td>\n",
       "      <td>1.316260</td>\n",
       "      <td>436</td>\n",
       "      <td>244</td>\n",
       "      <td>0.045737</td>\n",
       "      <td>0.193986</td>\n",
       "      <td>0</td>\n",
       "      <td>28</td>\n",
       "    </tr>\n",
       "    <tr>\n",
       "      <th>3</th>\n",
       "      <td>IOS2014003000101</td>\n",
       "      <td>Central Strait of Georgia</td>\n",
       "      <td>GEO1</td>\n",
       "      <td>-123.744</td>\n",
       "      <td>49.250</td>\n",
       "      <td>3/9/2014</td>\n",
       "      <td>2014-03-10 02:08:00</td>\n",
       "      <td>Daylight</td>\n",
       "      <td>SCOR VNH</td>\n",
       "      <td>236</td>\n",
       "      <td>...</td>\n",
       "      <td>0.068851</td>\n",
       "      <td>0.068851</td>\n",
       "      <td>0.0</td>\n",
       "      <td>1.469906</td>\n",
       "      <td>487</td>\n",
       "      <td>246</td>\n",
       "      <td>0.021994</td>\n",
       "      <td>0.094057</td>\n",
       "      <td>0</td>\n",
       "      <td>37</td>\n",
       "    </tr>\n",
       "    <tr>\n",
       "      <th>4</th>\n",
       "      <td>PBS2014016011401</td>\n",
       "      <td>Central Strait of Georgia</td>\n",
       "      <td>GS20</td>\n",
       "      <td>-123.484</td>\n",
       "      <td>49.068</td>\n",
       "      <td>3/13/2014</td>\n",
       "      <td>2014-03-13 21:12:00</td>\n",
       "      <td>Daylight</td>\n",
       "      <td>Bongo VNH</td>\n",
       "      <td>253</td>\n",
       "      <td>...</td>\n",
       "      <td>0.118801</td>\n",
       "      <td>0.286148</td>\n",
       "      <td>0.0</td>\n",
       "      <td>1.654707</td>\n",
       "      <td>433</td>\n",
       "      <td>261</td>\n",
       "      <td>0.059742</td>\n",
       "      <td>0.211711</td>\n",
       "      <td>0</td>\n",
       "      <td>28</td>\n",
       "    </tr>\n",
       "    <tr>\n",
       "      <th>...</th>\n",
       "      <td>...</td>\n",
       "      <td>...</td>\n",
       "      <td>...</td>\n",
       "      <td>...</td>\n",
       "      <td>...</td>\n",
       "      <td>...</td>\n",
       "      <td>...</td>\n",
       "      <td>...</td>\n",
       "      <td>...</td>\n",
       "      <td>...</td>\n",
       "      <td>...</td>\n",
       "      <td>...</td>\n",
       "      <td>...</td>\n",
       "      <td>...</td>\n",
       "      <td>...</td>\n",
       "      <td>...</td>\n",
       "      <td>...</td>\n",
       "      <td>...</td>\n",
       "      <td>...</td>\n",
       "      <td>...</td>\n",
       "      <td>...</td>\n",
       "    </tr>\n",
       "    <tr>\n",
       "      <th>461</th>\n",
       "      <td>PSF2015097005001</td>\n",
       "      <td>Northern Strait of Georgia</td>\n",
       "      <td>IS-3</td>\n",
       "      <td>-124.287</td>\n",
       "      <td>49.655</td>\n",
       "      <td>10/5/2015</td>\n",
       "      <td>2015-10-05 18:43:00</td>\n",
       "      <td>Daylight</td>\n",
       "      <td>Ring VNH</td>\n",
       "      <td>250</td>\n",
       "      <td>...</td>\n",
       "      <td>0.289586</td>\n",
       "      <td>0.623782</td>\n",
       "      <td>0.0</td>\n",
       "      <td>3.103821</td>\n",
       "      <td>604</td>\n",
       "      <td>217</td>\n",
       "      <td>0.057682</td>\n",
       "      <td>0.424223</td>\n",
       "      <td>0</td>\n",
       "      <td>28</td>\n",
       "    </tr>\n",
       "    <tr>\n",
       "      <th>462</th>\n",
       "      <td>PSF2015098005701</td>\n",
       "      <td>Northern Strait of Georgia</td>\n",
       "      <td>BS-3</td>\n",
       "      <td>-124.666</td>\n",
       "      <td>49.692</td>\n",
       "      <td>10/5/2015</td>\n",
       "      <td>2015-10-05 19:15:00</td>\n",
       "      <td>Daylight</td>\n",
       "      <td>Ring VNH</td>\n",
       "      <td>250</td>\n",
       "      <td>...</td>\n",
       "      <td>0.667453</td>\n",
       "      <td>1.180838</td>\n",
       "      <td>0.0</td>\n",
       "      <td>76.616760</td>\n",
       "      <td>639</td>\n",
       "      <td>166</td>\n",
       "      <td>0.058821</td>\n",
       "      <td>0.396426</td>\n",
       "      <td>0</td>\n",
       "      <td>28</td>\n",
       "    </tr>\n",
       "    <tr>\n",
       "      <th>463</th>\n",
       "      <td>PSF2015098005801</td>\n",
       "      <td>Baynes Sound</td>\n",
       "      <td>BS-1</td>\n",
       "      <td>-124.867</td>\n",
       "      <td>49.608</td>\n",
       "      <td>10/5/2015</td>\n",
       "      <td>2015-10-05 20:38:00</td>\n",
       "      <td>Daylight</td>\n",
       "      <td>Ring VNH</td>\n",
       "      <td>250</td>\n",
       "      <td>...</td>\n",
       "      <td>0.000000</td>\n",
       "      <td>0.000000</td>\n",
       "      <td>0.0</td>\n",
       "      <td>0.075827</td>\n",
       "      <td>636</td>\n",
       "      <td>126</td>\n",
       "      <td>0.194869</td>\n",
       "      <td>1.209480</td>\n",
       "      <td>0</td>\n",
       "      <td>22</td>\n",
       "    </tr>\n",
       "    <tr>\n",
       "      <th>464</th>\n",
       "      <td>PSF2015097005101</td>\n",
       "      <td>Nearshore-North East</td>\n",
       "      <td>IS-2</td>\n",
       "      <td>-124.083</td>\n",
       "      <td>49.637</td>\n",
       "      <td>10/5/2015</td>\n",
       "      <td>2015-10-05 20:40:00</td>\n",
       "      <td>Daylight</td>\n",
       "      <td>Ring VNH</td>\n",
       "      <td>250</td>\n",
       "      <td>...</td>\n",
       "      <td>0.000000</td>\n",
       "      <td>4.332255</td>\n",
       "      <td>0.0</td>\n",
       "      <td>4.409816</td>\n",
       "      <td>587</td>\n",
       "      <td>245</td>\n",
       "      <td>0.159315</td>\n",
       "      <td>1.060016</td>\n",
       "      <td>0</td>\n",
       "      <td>21</td>\n",
       "    </tr>\n",
       "    <tr>\n",
       "      <th>465</th>\n",
       "      <td>PSF2015098005901</td>\n",
       "      <td>Baynes Sound</td>\n",
       "      <td>BS-7</td>\n",
       "      <td>-124.767</td>\n",
       "      <td>49.483</td>\n",
       "      <td>10/5/2015</td>\n",
       "      <td>2015-10-05 21:51:00</td>\n",
       "      <td>Daylight</td>\n",
       "      <td>Ring VNH</td>\n",
       "      <td>250</td>\n",
       "      <td>...</td>\n",
       "      <td>0.000000</td>\n",
       "      <td>1.026601</td>\n",
       "      <td>0.0</td>\n",
       "      <td>1.921206</td>\n",
       "      <td>605</td>\n",
       "      <td>125</td>\n",
       "      <td>0.183379</td>\n",
       "      <td>1.091250</td>\n",
       "      <td>0</td>\n",
       "      <td>23</td>\n",
       "    </tr>\n",
       "  </tbody>\n",
       "</table>\n",
       "<p>466 rows × 278 columns</p>\n",
       "</div>"
      ],
      "text/plain": [
       "                   Key                 region_name Station      Lon     Lat  \\\n",
       "0     PBS2014016000801                Juan de Fuca    JF03 -124.051  48.388   \n",
       "1     PBS2014016004401   Central Strait of Georgia    GS04 -123.311  48.898   \n",
       "2     PBS2014016005201   Central Strait of Georgia    GS08 -123.580  49.045   \n",
       "3     IOS2014003000101   Central Strait of Georgia    GEO1 -123.744  49.250   \n",
       "4    PBS2014016011401    Central Strait of Georgia    GS20 -123.484  49.068   \n",
       "..                 ...                         ...     ...      ...     ...   \n",
       "461   PSF2015097005001  Northern Strait of Georgia    IS-3 -124.287  49.655   \n",
       "462   PSF2015098005701  Northern Strait of Georgia    BS-3 -124.666  49.692   \n",
       "463   PSF2015098005801                Baynes Sound    BS-1 -124.867  49.608   \n",
       "464   PSF2015097005101        Nearshore-North East    IS-2 -124.083  49.637   \n",
       "465   PSF2015098005901                Baynes Sound    BS-7 -124.767  49.483   \n",
       "\n",
       "          Date               dtUTC  Twilight   Net_Type  Mesh_Size(um)  ...  \\\n",
       "0     3/7/2014 2014-03-07 19:01:00  Daylight  Bongo VNH            253  ...   \n",
       "1     3/9/2014 2014-03-09 18:57:00  Daylight  Bongo VNH            253  ...   \n",
       "2     3/9/2014 2014-03-09 23:57:00  Daylight  Bongo VNH            253  ...   \n",
       "3     3/9/2014 2014-03-10 02:08:00  Daylight   SCOR VNH            236  ...   \n",
       "4    3/13/2014 2014-03-13 21:12:00  Daylight  Bongo VNH            253  ...   \n",
       "..         ...                 ...       ...        ...            ...  ...   \n",
       "461  10/5/2015 2015-10-05 18:43:00  Daylight   Ring VNH            250  ...   \n",
       "462  10/5/2015 2015-10-05 19:15:00  Daylight   Ring VNH            250  ...   \n",
       "463  10/5/2015 2015-10-05 20:38:00  Daylight   Ring VNH            250  ...   \n",
       "464  10/5/2015 2015-10-05 20:40:00  Daylight   Ring VNH            250  ...   \n",
       "465  10/5/2015 2015-10-05 21:51:00  Daylight   Ring VNH            250  ...   \n",
       "\n",
       "       Primno  Hyperiids  Gammariids      Total    j    i  \\\n",
       "0    0.000000   0.092604         0.0  10.554291  342   94   \n",
       "1    0.000000   0.025194         0.0   0.335986  388  265   \n",
       "2    0.158000   0.261419         0.0   1.316260  436  244   \n",
       "3    0.068851   0.068851         0.0   1.469906  487  246   \n",
       "4    0.118801   0.286148         0.0   1.654707  433  261   \n",
       "..        ...        ...         ...        ...  ...  ...   \n",
       "461  0.289586   0.623782         0.0   3.103821  604  217   \n",
       "462  0.667453   1.180838         0.0  76.616760  639  166   \n",
       "463  0.000000   0.000000         0.0   0.075827  636  126   \n",
       "464  0.000000   4.332255         0.0   4.409816  587  245   \n",
       "465  0.000000   1.026601         0.0   1.921206  605  125   \n",
       "\n",
       "     mod_microzooplankton  mod_mesozooplankton  k_upper  k_lower  \n",
       "0                0.049066             0.286660        0       23  \n",
       "1                0.065740             0.263313        0       27  \n",
       "2                0.045737             0.193986        0       28  \n",
       "3                0.021994             0.094057        0       37  \n",
       "4                0.059742             0.211711        0       28  \n",
       "..                    ...                  ...      ...      ...  \n",
       "461              0.057682             0.424223        0       28  \n",
       "462              0.058821             0.396426        0       28  \n",
       "463              0.194869             1.209480        0       22  \n",
       "464              0.159315             1.060016        0       21  \n",
       "465              0.183379             1.091250        0       23  \n",
       "\n",
       "[466 rows x 278 columns]"
      ]
     },
     "execution_count": 225,
     "metadata": {},
     "output_type": "execute_result"
    }
   ],
   "source": [
    "data"
   ]
  },
  {
   "cell_type": "code",
   "execution_count": 226,
   "metadata": {},
   "outputs": [],
   "source": [
    "cm1=cmocean.cm.thermal\n",
    "with nc.Dataset('/ocean/ksuchy/MOAD/NEMO-forcing/grid/bathymetry_201702.nc') as bathy:\n",
    "    bathylon=np.copy(bathy.variables['nav_lon'][:,:])\n",
    "    bathylat=np.copy(bathy.variables['nav_lat'][:,:])\n",
    "    bathyZ=np.copy(bathy.variables['Bathymetry'][:,:])"
   ]
  },
  {
   "cell_type": "code",
   "execution_count": 227,
   "metadata": {},
   "outputs": [],
   "source": [
    "# define log transform function with slight shift to accommodate zero values\n",
    "def logt(x):\n",
    "  return np.log10(x+.001)"
   ]
  },
  {
   "cell_type": "code",
   "execution_count": 228,
   "metadata": {},
   "outputs": [],
   "source": [
    "# define inverse log transform with same shift\n",
    "def logt_inv(y):\n",
    "    return 10**y-.001"
   ]
  },
  {
   "cell_type": "code",
   "execution_count": 266,
   "metadata": {},
   "outputs": [
    {
     "data": {
      "text/plain": [
       "array([3.5717944 , 4.38464013, 1.8619691 , 0.77795756, 0.07166609,\n",
       "       4.9216666 , 1.30426199, 0.04374841, 0.03221038, 1.42433184,\n",
       "       3.62682488, 6.55181683, 0.08520765, 1.18366988, 1.02939106,\n",
       "       0.29600866, 0.85211712, 1.79831119, 0.50258672, 0.07633187])"
      ]
     },
     "execution_count": 266,
     "metadata": {},
     "output_type": "execute_result"
    }
   ],
   "source": [
    "data['Euphausiids'].unique()[20:40]"
   ]
  },
  {
   "cell_type": "code",
   "execution_count": 230,
   "metadata": {},
   "outputs": [],
   "source": [
    "data['L10Calanoids']=logt(data['Calanoids'])\n",
    "data['L10CalanoidsDiaRemoved']=logt(data['CalanoidsDiaRemoved'])\n",
    "data['L10Euphausiids']=logt(data['Euphausiids'])\n",
    "data['L10Hyperiids']=logt(data['Hyperiids'])\n",
    "data['L10Gammariids']=logt(data['Gammariids'])\n",
    "data['L10Neocalanus']=logt(data['Neocalanus'])\n",
    "\n",
    "data['L10Total']=logt(data['Total'])\n",
    "\n",
    "data['L10mod_mesozooplankton']=logt(data['mod_mesozooplankton']*5.7*14)\n",
    "data['L10mod_microzooplankton']=logt(data['mod_microzooplankton']*5.7*14)"
   ]
  },
  {
   "cell_type": "code",
   "execution_count": 231,
   "metadata": {},
   "outputs": [
    {
     "data": {
      "text/plain": [
       "array([-0.52201674, -1.2195666 , -1.11382969, -1.38807898, -1.43340323,\n",
       "       -0.85816102, -1.08101945, -0.58318385, -0.48369823,  0.01373667,\n",
       "        0.08996821, -0.60699648, -0.23719985,  0.25433288, -0.02657255,\n",
       "       -2.14076674, -1.40852969, -1.66178233, -1.95689915])"
      ]
     },
     "execution_count": 231,
     "metadata": {},
     "output_type": "execute_result"
    }
   ],
   "source": [
    "data['L10Neocalanus'].unique()[1:20]"
   ]
  },
  {
   "cell_type": "markdown",
   "metadata": {},
   "source": [
    "Figure showing observation locations of IOS zooplankton sampling"
   ]
  },
  {
   "cell_type": "code",
   "execution_count": 232,
   "metadata": {},
   "outputs": [
    {
     "data": {
      "text/plain": [
       "<matplotlib.legend.Legend at 0x7ff1a5e72310>"
      ]
     },
     "execution_count": 232,
     "metadata": {},
     "output_type": "execute_result"
    },
    {
     "data": {
      "image/png": "[encoded data removed]",
      "text/plain": [
       "<Figure size 432x432 with 1 Axes>"
      ]
     },
     "metadata": {
      "needs_background": "light"
     },
     "output_type": "display_data"
    }
   ],
   "source": [
    "fig, ax = plt.subplots(1,1,figsize = (6,6))\n",
    "with nc.Dataset('/ocean/ksuchy/MOAD/NEMO-forcing/grid/bathymetry_201702.nc') as grid:\n",
    "    viz_tools.plot_coastline(ax, grid, coords = 'map',isobath=.1)\n",
    "colors=('teal','green','firebrick','darkorange','darkviolet','fuchsia',\n",
    "        'royalblue','darkgoldenrod','mediumspringgreen','deepskyblue')\n",
    "datreg=dict()\n",
    "for ind, iregion in enumerate(data.region_name.unique()):\n",
    "    datreg[iregion] = data.loc[data.region_name==iregion]\n",
    "    ax.plot(datreg[iregion]['Lon'], datreg[iregion]['Lat'],'.',\n",
    "            color = colors[ind], label=iregion)\n",
    "ax.set_ylim(47,51)\n",
    "ax.legend(bbox_to_anchor=[1,.6,0,0])\n",
    "ax.set_xlim(-126, -120);\n",
    "ax.set_title('Observation Locations');\n",
    "ax.legend(bbox_to_anchor=(1.1, 1.05))\n",
    "\n",
    "\n"
   ]
  },
  {
   "cell_type": "code",
   "execution_count": 233,
   "metadata": {},
   "outputs": [],
   "source": [
    "#look at data for individual years\n",
    "View2012=data.loc[data.Year==2012]\n",
    "View2013=data.loc[data.Year==2013]\n",
    "View2014=data.loc[data.Year==2014]\n",
    "View2015=data.loc[data.Year==2015]\n",
    "\n"
   ]
  },
  {
   "cell_type": "code",
   "execution_count": 234,
   "metadata": {},
   "outputs": [],
   "source": [
    "# define log transform function with slight shift to accommodate zero values\n",
    "def logt(x):\n",
    "  return np.log10(x+.001)"
   ]
  },
  {
   "cell_type": "code",
   "execution_count": 235,
   "metadata": {},
   "outputs": [],
   "source": [
    "#look at data for a specific region\n",
    "ViewCentralSoG=data.loc[data.region_name=='Central Strait of Georgia']"
   ]
  },
  {
   "cell_type": "code",
   "execution_count": 236,
   "metadata": {},
   "outputs": [],
   "source": [
    "#look at data for an individual station\n",
    "ViewGEO1=data.loc[data.Station=='GEO1']"
   ]
  },
  {
   "cell_type": "markdown",
   "metadata": {},
   "source": [
    "### Calculate Mean and SEMs"
   ]
  },
  {
   "cell_type": "code",
   "execution_count": 237,
   "metadata": {},
   "outputs": [],
   "source": [
    "#monthly mean and SEM for entire SoG\n",
    "monthlymean=data.groupby(['Month']).mean()"
   ]
  },
  {
   "cell_type": "code",
   "execution_count": 238,
   "metadata": {},
   "outputs": [],
   "source": [
    "monthlysem=data.groupby(['Month']).sem()"
   ]
  },
  {
   "cell_type": "code",
   "execution_count": 239,
   "metadata": {},
   "outputs": [],
   "source": [
    "#monthly mean and SEM for Central SoG Only\n",
    "monthlymeanCentral=ViewCentralSoG.groupby(['Month']).mean()"
   ]
  },
  {
   "cell_type": "code",
   "execution_count": 240,
   "metadata": {},
   "outputs": [],
   "source": [
    "monthlysemCentral=ViewCentralSoG.groupby(['Month']).sem()"
   ]
  },
  {
   "cell_type": "code",
   "execution_count": 241,
   "metadata": {},
   "outputs": [],
   "source": [
    "#monthly mean and SEM for station GEO1 only\n",
    "monthlymeanGEO1=ViewGEO1.groupby(['Month']).mean()"
   ]
  },
  {
   "cell_type": "code",
   "execution_count": 242,
   "metadata": {},
   "outputs": [],
   "source": [
    "monthlysemGEO1=ViewGEO1.groupby(['Month']).sem()"
   ]
  },
  {
   "cell_type": "code",
   "execution_count": 243,
   "metadata": {},
   "outputs": [],
   "source": [
    "#look at data for an individual station\n",
    "ViewBaynes=data.loc[data.Station=='BS-1']"
   ]
  },
  {
   "cell_type": "code",
   "execution_count": 244,
   "metadata": {},
   "outputs": [],
   "source": [
    "#monthly mean and SEM for Baynes Sound Only\n",
    "monthlymeanBaynes=ViewBaynes.groupby(['Month']).mean()"
   ]
  },
  {
   "cell_type": "code",
   "execution_count": 245,
   "metadata": {},
   "outputs": [],
   "source": [
    "monthlymean2012=View2012.groupby(['Month']).mean()\n",
    "monthlymean2013=View2013.groupby(['Month']).mean()\n",
    "monthlymean2014=View2014.groupby(['Month']).mean()\n",
    "monthlymean2015=View2015.groupby(['Month']).mean()"
   ]
  },
  {
   "cell_type": "code",
   "execution_count": 246,
   "metadata": {},
   "outputs": [],
   "source": [
    "monthlysem2012=View2012.groupby(['Month']).sem()\n",
    "monthlysem2013=View2013.groupby(['Month']).sem()\n",
    "monthlysem2014=View2014.groupby(['Month']).sem()\n",
    "monthlysem2015=View2015.groupby(['Month']).sem()"
   ]
  },
  {
   "cell_type": "code",
   "execution_count": 275,
   "metadata": {},
   "outputs": [
    {
     "data": {
      "text/plain": [
       "<matplotlib.legend.Legend at 0x7ff1a5007850>"
      ]
     },
     "execution_count": 275,
     "metadata": {},
     "output_type": "execute_result"
    },
    {
     "data": {
      "image/png": "[encoded data removed]",
      "text/plain": [
       "<Figure size 1440x360 with 4 Axes>"
      ]
     },
     "metadata": {
      "needs_background": "light"
     },
     "output_type": "display_data"
    },
    {
     "data": {
      "image/png": "[encoded data removed]",
      "text/plain": [
       "<Figure size 864x180 with 1 Axes>"
      ]
     },
     "metadata": {
      "needs_background": "light"
     },
     "output_type": "display_data"
    }
   ],
   "source": [
    "fig,ax=plt.subplots(1,4,figsize=(20,5))\n",
    "fig.suptitle('Strait of Georgia', fontsize=24)\n",
    "fig.subplots_adjust(top=0.8)\n",
    "#ax[0].errorbar(monthlymean.index,logt_inv(monthlymean['L10Calanoids']),\n",
    "#                  yerr=logt_inv(np.array([monthlymean['L10Calanoids']-monthlysem['L10Calanoids'],\n",
    "#                 monthlymean['L10Calanoids']+monthlysem['L10Calanoids']])),\n",
    "#               fmt='ro',capsize=5)\n",
    "ax[0].plot(logt_inv(monthlymean['L10Calanoids']),'b--')\n",
    "#ax[1].errorbar(monthlymean.index,logt_inv(monthlymean['L10CalanoidsDiaRemoved']),\n",
    "#               yerr=logt_inv(np.array([monthlymean['L10CalanoidsDiaRemoved']-monthlysem['L10CalanoidsDiaRemoved'],\n",
    "#                 monthlymean['L10CalanoidsDiaRemoved']+monthlysem['L10CalanoidsDiaRemoved']])),\n",
    "#               fmt='ro',capsize=5)\n",
    "ax[1].plot(logt_inv(monthlymean['L10CalanoidsDiaRemoved']),'b--')\n",
    "#ax[2].errorbar(monthlymean.index,logt_inv(monthlymean['L10Euphausiids']),\n",
    "#               yerr=logt_inv(np.array([monthlymean['L10Euphausiids']-monthlysem['L10Euphausiids'],\n",
    "#                 monthlymean['L10Euphausiids']+monthlysem['L10Euphausiids']])),\n",
    "#               fmt='ro',capsize=5)\n",
    "ax[2].plot(logt_inv(monthlymean['L10Euphausiids']),'b--')\n",
    "#ax[3].errorbar(monthlymeanCentral.index,logt_inv(monthlymeanCentral['L10Hyperiids']),\n",
    "#               yerr=logt_inv(np.array([monthlymeanCentral['L10Hyperiids']-monthlysemCentral['L10Hyperiids'],\n",
    "#                 monthlymeanCentral['L10Hyperiids']+monthlysemCentral['L10Hyperiids']])),\n",
    "#               fmt='ro',capsize=5)\n",
    "ax[3].plot(logt_inv(monthlymean['L10Hyperiids']),'b--')\n",
    "ax[0].set_title('Calanoids')\n",
    "ax[1].set_title('Calanoids no Diapausers')\n",
    "ax[2].set_title('Euphausiids')\n",
    "ax[3].set_title('Amphipods')\n",
    "ax[0].set_ylabel('Mean Biomass (mg/m3)')\n",
    "ax[0].set_xlim(0,12)\n",
    "ax[1].set_xlim(0,12)\n",
    "ax[2].set_xlim(0,12)\n",
    "ax[3].set_xlim(0,12)\n",
    "ax[0].set_ylim(0,5)\n",
    "ax[1].set_ylim(0,5)\n",
    "ax[2].set_ylim(0,5)\n",
    "ax[3].set_ylim(0,5)\n",
    "\n",
    "fig,ax=plt.subplots(1,1,figsize=(12,2.5))\n",
    "ax.plot(logt_inv(monthlymean['L10Total']),'--',color='blue',label='Total')\n",
    "ax.plot(logt_inv(monthlymean['L10CalanoidsDiaRemoved']),'--',color='lightblue',label='Calanoids No Diapause')\n",
    "ax.set_ylim(0,20)\n",
    "ax.set_xlim(0,12)\n",
    "ax.set_title('Strait of Georgia Observation Zooplankton Seasonal Cycle')\n",
    "ax.set_ylabel('Mean Biomass (mg/m3)',fontsize=10)\n",
    "ax.legend(fontsize=10)"
   ]
  },
  {
   "cell_type": "code",
   "execution_count": 277,
   "metadata": {},
   "outputs": [
    {
     "data": {
      "text/plain": [
       "(0.0, 5.0)"
      ]
     },
     "execution_count": 277,
     "metadata": {},
     "output_type": "execute_result"
    },
    {
     "data": {
      "image/png": "[encoded data removed]",
      "text/plain": [
       "<Figure size 1440x360 with 4 Axes>"
      ]
     },
     "metadata": {
      "needs_background": "light"
     },
     "output_type": "display_data"
    }
   ],
   "source": [
    "fig,ax=plt.subplots(1,4,figsize=(20,5))\n",
    "fig.suptitle('Central', fontsize=24)\n",
    "fig.subplots_adjust(top=0.8)\n",
    "ax[0].plot(logt_inv(monthlymeanCentral['L10Calanoids']),'b--')\n",
    "ax[1].plot(logt_inv(monthlymeanCentral['L10CalanoidsDiaRemoved']),'b--')\n",
    "ax[2].plot(logt_inv(monthlymeanCentral['L10Euphausiids']),'b--')\n",
    "ax[3].plot(logt_inv(monthlymeanCentral['L10Hyperiids']),'b--')\n",
    "ax[0].set_title('Calanoids')\n",
    "ax[1].set_title('Calanoids no Diapausers')\n",
    "ax[2].set_title('Euphausiids')\n",
    "ax[3].set_title('Amphipods')\n",
    "ax[0].set_ylabel('Mean Biomass (mg/m3)')\n",
    "ax[0].set_xlim(0,12)\n",
    "ax[1].set_xlim(0,12)\n",
    "ax[2].set_xlim(0,12)\n",
    "ax[3].set_xlim(0,12)\n",
    "ax[0].set_ylim(0,5)\n",
    "ax[1].set_ylim(0,5)\n",
    "ax[2].set_ylim(0,50)\n",
    "ax[3].set_ylim(0,5)"
   ]
  },
  {
   "cell_type": "code",
   "execution_count": 268,
   "metadata": {},
   "outputs": [
    {
     "data": {
      "text/plain": [
       "(0.0, 20.0)"
      ]
     },
     "execution_count": 268,
     "metadata": {},
     "output_type": "execute_result"
    },
    {
     "data": {
      "image/png": "[encoded data removed]",
      "text/plain": [
       "<Figure size 1440x360 with 4 Axes>"
      ]
     },
     "metadata": {
      "needs_background": "light"
     },
     "output_type": "display_data"
    }
   ],
   "source": [
    "fig,ax=plt.subplots(1,4,figsize=(20,5))\n",
    "fig.suptitle('Baynes', fontsize=24)\n",
    "fig.subplots_adjust(top=0.8)\n",
    "ax[0].plot(logt_inv(monthlymeanBaynes['L10Calanoids']),'b--')\n",
    "ax[1].plot(logt_inv(monthlymeanBaynes['L10CalanoidsDiaRemoved']),'b--')\n",
    "ax[2].plot(logt_inv(monthlymeanBaynes['L10Euphausiids']),'b--')\n",
    "ax[3].plot(logt_inv(monthlymeanBaynes['L10Hyperiids']),'b--')\n",
    "ax[0].set_title('Calanoids')\n",
    "ax[1].set_title('Calanoids no Diapausers')\n",
    "ax[2].set_title('Euphausiids')\n",
    "ax[3].set_title('Amphipods')\n",
    "ax[0].set_ylabel('Mean Biomass (mg/m3)')\n",
    "ax[0].set_xlim(0,12)\n",
    "ax[1].set_xlim(0,12)\n",
    "ax[2].set_xlim(0,12)\n",
    "ax[3].set_xlim(0,12)\n",
    "ax[0].set_ylim(0,20)\n",
    "ax[1].set_ylim(0,20)\n",
    "ax[2].set_ylim(0,20)\n",
    "ax[3].set_ylim(0,20)"
   ]
  },
  {
   "cell_type": "code",
   "execution_count": 272,
   "metadata": {},
   "outputs": [
    {
     "data": {
      "text/plain": [
       "Text(0, 0.5, 'Mean Biomass (mg/m3)')"
      ]
     },
     "execution_count": 272,
     "metadata": {},
     "output_type": "execute_result"
    },
    {
     "data": {
      "image/png": "[encoded data removed]",
      "text/plain": [
       "<Figure size 864x180 with 1 Axes>"
      ]
     },
     "metadata": {
      "needs_background": "light"
     },
     "output_type": "display_data"
    },
    {
     "data": {
      "image/png": "[encoded data removed]",
      "text/plain": [
       "<Figure size 864x180 with 1 Axes>"
      ]
     },
     "metadata": {
      "needs_background": "light"
     },
     "output_type": "display_data"
    },
    {
     "data": {
      "image/png": "[encoded data removed]",
      "text/plain": [
       "<Figure size 864x180 with 1 Axes>"
      ]
     },
     "metadata": {
      "needs_background": "light"
     },
     "output_type": "display_data"
    }
   ],
   "source": [
    "fig,ax=plt.subplots(1,1,figsize=(12,2.5))\n",
    "ax.plot(logt_inv(monthlymean['L10Total']),'--',color='blue',label='Total')\n",
    "ax.plot(logt_inv(monthlymean['L10CalanoidsDiaRemoved']),'--',color='lightblue',label='Calanoids No Diapause')\n",
    "ax.set_ylim(0,60)\n",
    "ax.set_xlim(0,12)\n",
    "ax.set_title('Strait of Georgia Observation Zooplankton Seasonal Cycle')\n",
    "ax.set_ylabel('Mean Biomass (mg/m3)',fontsize=10)\n",
    "ax.legend(fontsize=10)\n",
    "\n",
    "fig,ax=plt.subplots(1,1,figsize=(12,2.5))\n",
    "ax.plot(logt_inv(monthlymean['L10mod_mesozooplankton']),'--',color='red',label='Model Microzoop')\n",
    "ax.set_ylim(0,60)\n",
    "ax.set_xlim(0,12)\n",
    "ax.set_title('Model Mesozooplankton Seasonal Cycle')\n",
    "ax.set_ylabel('Mean Biomass (mg/m3)',fontsize=10)\n",
    "\n",
    "fig,ax=plt.subplots(1,1,figsize=(12,2.5))\n",
    "ax.plot(logt_inv(monthlymean['L10mod_microzooplankton']),'--',color='darkorange',label='Model Microzoop')\n",
    "ax.set_ylim(0,60)\n",
    "ax.set_xlim(0,12)\n",
    "ax.set_title('Model Microzooplankton Seasonal Cycle')\n",
    "ax.set_ylabel('Mean Biomass (mg/m3)',fontsize=10)"
   ]
  },
  {
   "cell_type": "code",
   "execution_count": null,
   "metadata": {},
   "outputs": [],
   "source": []
  },
  {
   "cell_type": "code",
   "execution_count": 251,
   "metadata": {},
   "outputs": [
    {
     "data": {
      "text/plain": [
       "Index(['Key', 'region_name', 'Station', 'Lon', 'Lat', 'Date', 'dtUTC',\n",
       "       'Twilight', 'Net_Type', 'Mesh_Size(um)',\n",
       "       ...\n",
       "       'k_lower', 'L10Calanoids', 'L10CalanoidsDiaRemoved', 'L10Euphausiids',\n",
       "       'L10Hyperiids', 'L10Gammariids', 'L10Neocalanus', 'L10Total',\n",
       "       'L10mod_mesozooplankton', 'L10mod_microzooplankton'],\n",
       "      dtype='object', length=287)"
      ]
     },
     "execution_count": 251,
     "metadata": {},
     "output_type": "execute_result"
    }
   ],
   "source": [
    "data.keys()"
   ]
  },
  {
   "cell_type": "code",
   "execution_count": 252,
   "metadata": {},
   "outputs": [
    {
     "data": {
      "text/plain": [
       "0      1.157396\n",
       "1      0.310793\n",
       "2      0.292791\n",
       "3      1.391521\n",
       "4      0.855453\n",
       "         ...   \n",
       "461    0.346093\n",
       "462    0.390772\n",
       "463    0.075827\n",
       "464    0.077561\n",
       "465    0.894605\n",
       "Name: Calanoids, Length: 466, dtype: float64"
      ]
     },
     "execution_count": 252,
     "metadata": {},
     "output_type": "execute_result"
    }
   ],
   "source": [
    "data['Calanoids']"
   ]
  },
  {
   "cell_type": "code",
   "execution_count": 253,
   "metadata": {},
   "outputs": [
    {
     "ename": "KeyError",
     "evalue": "'Calanoida'",
     "output_type": "error",
     "traceback": [
      "\u001b[0;31m---------------------------------------------------------------------------\u001b[0m",
      "\u001b[0;31mKeyError\u001b[0m                                  Traceback (most recent call last)",
      "\u001b[0;32m~/anaconda3/envs/py39/lib/python3.9/site-packages/pandas/core/indexes/base.py\u001b[0m in \u001b[0;36mget_loc\u001b[0;34m(self, key, method, tolerance)\u001b[0m\n\u001b[1;32m   2897\u001b[0m             \u001b[0;32mtry\u001b[0m\u001b[0;34m:\u001b[0m\u001b[0;34m\u001b[0m\u001b[0;34m\u001b[0m\u001b[0m\n\u001b[0;32m-> 2898\u001b[0;31m                 \u001b[0;32mreturn\u001b[0m \u001b[0mself\u001b[0m\u001b[0;34m.\u001b[0m\u001b[0m_engine\u001b[0m\u001b[0;34m.\u001b[0m\u001b[0mget_loc\u001b[0m\u001b[0;34m(\u001b[0m\u001b[0mcasted_key\u001b[0m\u001b[0;34m)\u001b[0m\u001b[0;34m\u001b[0m\u001b[0;34m\u001b[0m\u001b[0m\n\u001b[0m\u001b[1;32m   2899\u001b[0m             \u001b[0;32mexcept\u001b[0m \u001b[0mKeyError\u001b[0m \u001b[0;32mas\u001b[0m \u001b[0merr\u001b[0m\u001b[0;34m:\u001b[0m\u001b[0;34m\u001b[0m\u001b[0;34m\u001b[0m\u001b[0m\n",
      "\u001b[0;32mpandas/_libs/index.pyx\u001b[0m in \u001b[0;36mpandas._libs.index.IndexEngine.get_loc\u001b[0;34m()\u001b[0m\n",
      "\u001b[0;32mpandas/_libs/index.pyx\u001b[0m in \u001b[0;36mpandas._libs.index.IndexEngine.get_loc\u001b[0;34m()\u001b[0m\n",
      "\u001b[0;32mpandas/_libs/hashtable_class_helper.pxi\u001b[0m in \u001b[0;36mpandas._libs.hashtable.PyObjectHashTable.get_item\u001b[0;34m()\u001b[0m\n",
      "\u001b[0;32mpandas/_libs/hashtable_class_helper.pxi\u001b[0m in \u001b[0;36mpandas._libs.hashtable.PyObjectHashTable.get_item\u001b[0;34m()\u001b[0m\n",
      "\u001b[0;31mKeyError\u001b[0m: 'Calanoida'",
      "\nThe above exception was the direct cause of the following exception:\n",
      "\u001b[0;31mKeyError\u001b[0m                                  Traceback (most recent call last)",
      "\u001b[0;32m<ipython-input-253-3e1f8b5907be>\u001b[0m in \u001b[0;36m<module>\u001b[0;34m\u001b[0m\n\u001b[1;32m      2\u001b[0m \u001b[0mfig\u001b[0m\u001b[0;34m.\u001b[0m\u001b[0msubplots_adjust\u001b[0m\u001b[0;34m(\u001b[0m\u001b[0mhspace\u001b[0m\u001b[0;34m=\u001b[0m\u001b[0;36m1\u001b[0m\u001b[0;34m)\u001b[0m\u001b[0;34m\u001b[0m\u001b[0;34m\u001b[0m\u001b[0m\n\u001b[1;32m      3\u001b[0m \u001b[0max\u001b[0m\u001b[0;34m=\u001b[0m\u001b[0max\u001b[0m\u001b[0;34m.\u001b[0m\u001b[0mflatten\u001b[0m\u001b[0;34m(\u001b[0m\u001b[0;34m)\u001b[0m\u001b[0;34m\u001b[0m\u001b[0;34m\u001b[0m\u001b[0m\n\u001b[0;32m----> 4\u001b[0;31m \u001b[0max\u001b[0m\u001b[0;34m[\u001b[0m\u001b[0;36m0\u001b[0m\u001b[0;34m]\u001b[0m\u001b[0;34m.\u001b[0m\u001b[0mplot\u001b[0m\u001b[0;34m(\u001b[0m\u001b[0mdata\u001b[0m\u001b[0;34m[\u001b[0m\u001b[0;34m'Calanoida'\u001b[0m\u001b[0;34m]\u001b[0m\u001b[0;34m+\u001b[0m\u001b[0mdata\u001b[0m\u001b[0;34m[\u001b[0m\u001b[0;34m'Euphausiacea'\u001b[0m\u001b[0;34m]\u001b[0m\u001b[0;34m+\u001b[0m\u001b[0mdata\u001b[0m\u001b[0;34m[\u001b[0m\u001b[0;34m'Amphipoda'\u001b[0m\u001b[0;34m]\u001b[0m\u001b[0;34m,\u001b[0m\u001b[0mdata\u001b[0m\u001b[0;34m[\u001b[0m\u001b[0;34m'mod_mesozooplankton'\u001b[0m\u001b[0;34m]\u001b[0m\u001b[0;34m,\u001b[0m\u001b[0;34m'k.'\u001b[0m\u001b[0;34m)\u001b[0m\u001b[0;34m\u001b[0m\u001b[0;34m\u001b[0m\u001b[0m\n\u001b[0m\u001b[1;32m      5\u001b[0m \u001b[0max\u001b[0m\u001b[0;34m[\u001b[0m\u001b[0;36m0\u001b[0m\u001b[0;34m]\u001b[0m\u001b[0;34m.\u001b[0m\u001b[0mset_title\u001b[0m\u001b[0;34m(\u001b[0m\u001b[0;34m'Copepods Euphausiids Amphipods ($\\mu$M)'\u001b[0m\u001b[0;34m)\u001b[0m\u001b[0;34m\u001b[0m\u001b[0;34m\u001b[0m\u001b[0m\n\u001b[1;32m      6\u001b[0m \u001b[0max\u001b[0m\u001b[0;34m[\u001b[0m\u001b[0;36m0\u001b[0m\u001b[0;34m]\u001b[0m\u001b[0;34m.\u001b[0m\u001b[0mset_xlabel\u001b[0m\u001b[0;34m(\u001b[0m\u001b[0;34m'Obs'\u001b[0m\u001b[0;34m)\u001b[0m\u001b[0;34m\u001b[0m\u001b[0;34m\u001b[0m\u001b[0m\n",
      "\u001b[0;32m~/anaconda3/envs/py39/lib/python3.9/site-packages/pandas/core/frame.py\u001b[0m in \u001b[0;36m__getitem__\u001b[0;34m(self, key)\u001b[0m\n\u001b[1;32m   2904\u001b[0m             \u001b[0;32mif\u001b[0m \u001b[0mself\u001b[0m\u001b[0;34m.\u001b[0m\u001b[0mcolumns\u001b[0m\u001b[0;34m.\u001b[0m\u001b[0mnlevels\u001b[0m \u001b[0;34m>\u001b[0m \u001b[0;36m1\u001b[0m\u001b[0;34m:\u001b[0m\u001b[0;34m\u001b[0m\u001b[0;34m\u001b[0m\u001b[0m\n\u001b[1;32m   2905\u001b[0m                 \u001b[0;32mreturn\u001b[0m \u001b[0mself\u001b[0m\u001b[0;34m.\u001b[0m\u001b[0m_getitem_multilevel\u001b[0m\u001b[0;34m(\u001b[0m\u001b[0mkey\u001b[0m\u001b[0;34m)\u001b[0m\u001b[0;34m\u001b[0m\u001b[0;34m\u001b[0m\u001b[0m\n\u001b[0;32m-> 2906\u001b[0;31m             \u001b[0mindexer\u001b[0m \u001b[0;34m=\u001b[0m \u001b[0mself\u001b[0m\u001b[0;34m.\u001b[0m\u001b[0mcolumns\u001b[0m\u001b[0;34m.\u001b[0m\u001b[0mget_loc\u001b[0m\u001b[0;34m(\u001b[0m\u001b[0mkey\u001b[0m\u001b[0;34m)\u001b[0m\u001b[0;34m\u001b[0m\u001b[0;34m\u001b[0m\u001b[0m\n\u001b[0m\u001b[1;32m   2907\u001b[0m             \u001b[0;32mif\u001b[0m \u001b[0mis_integer\u001b[0m\u001b[0;34m(\u001b[0m\u001b[0mindexer\u001b[0m\u001b[0;34m)\u001b[0m\u001b[0;34m:\u001b[0m\u001b[0;34m\u001b[0m\u001b[0;34m\u001b[0m\u001b[0m\n\u001b[1;32m   2908\u001b[0m                 \u001b[0mindexer\u001b[0m \u001b[0;34m=\u001b[0m \u001b[0;34m[\u001b[0m\u001b[0mindexer\u001b[0m\u001b[0;34m]\u001b[0m\u001b[0;34m\u001b[0m\u001b[0;34m\u001b[0m\u001b[0m\n",
      "\u001b[0;32m~/anaconda3/envs/py39/lib/python3.9/site-packages/pandas/core/indexes/base.py\u001b[0m in \u001b[0;36mget_loc\u001b[0;34m(self, key, method, tolerance)\u001b[0m\n\u001b[1;32m   2898\u001b[0m                 \u001b[0;32mreturn\u001b[0m \u001b[0mself\u001b[0m\u001b[0;34m.\u001b[0m\u001b[0m_engine\u001b[0m\u001b[0;34m.\u001b[0m\u001b[0mget_loc\u001b[0m\u001b[0;34m(\u001b[0m\u001b[0mcasted_key\u001b[0m\u001b[0;34m)\u001b[0m\u001b[0;34m\u001b[0m\u001b[0;34m\u001b[0m\u001b[0m\n\u001b[1;32m   2899\u001b[0m             \u001b[0;32mexcept\u001b[0m \u001b[0mKeyError\u001b[0m \u001b[0;32mas\u001b[0m \u001b[0merr\u001b[0m\u001b[0;34m:\u001b[0m\u001b[0;34m\u001b[0m\u001b[0;34m\u001b[0m\u001b[0m\n\u001b[0;32m-> 2900\u001b[0;31m                 \u001b[0;32mraise\u001b[0m \u001b[0mKeyError\u001b[0m\u001b[0;34m(\u001b[0m\u001b[0mkey\u001b[0m\u001b[0;34m)\u001b[0m \u001b[0;32mfrom\u001b[0m \u001b[0merr\u001b[0m\u001b[0;34m\u001b[0m\u001b[0;34m\u001b[0m\u001b[0m\n\u001b[0m\u001b[1;32m   2901\u001b[0m \u001b[0;34m\u001b[0m\u001b[0m\n\u001b[1;32m   2902\u001b[0m         \u001b[0;32mif\u001b[0m \u001b[0mtolerance\u001b[0m \u001b[0;32mis\u001b[0m \u001b[0;32mnot\u001b[0m \u001b[0;32mNone\u001b[0m\u001b[0;34m:\u001b[0m\u001b[0;34m\u001b[0m\u001b[0;34m\u001b[0m\u001b[0m\n",
      "\u001b[0;31mKeyError\u001b[0m: 'Calanoida'"
     ]
    },
    {
     "data": {
      "image/png": "[encoded data removed]",
      "text/plain": [
       "<Figure size 720x720 with 4 Axes>"
      ]
     },
     "metadata": {
      "needs_background": "light"
     },
     "output_type": "display_data"
    }
   ],
   "source": [
    "fig,ax=plt.subplots(2,2,figsize=(10,10))\n",
    "fig.subplots_adjust(hspace=1)\n",
    "ax=ax.flatten()\n",
    "ax[0].plot(data['Calanoida']+data['Euphausiacea']+data['Amphipoda'],data['mod_mesozooplankton'],'k.')\n",
    "ax[0].set_title('Copepods Euphausiids Amphipods ($\\mu$M)')\n",
    "ax[0].set_xlabel('Obs')\n",
    "ax[0].set_ylabel('Model')\n",
    "ax[0].plot((0,10),(0,10),'r-',alpha=.3)\n",
    "\n",
    "ax[1].plot(logt(data['Calanoida']+data['Euphausiacea']+data['Amphipoda']),logt(data['mod_mesozooplankton']),'k.')\n",
    "ax[1].set_title('Log10 Copepods Euphausiids Amphipods ($\\mu$M)')\n",
    "ax[1].set_xlabel('Obs')\n",
    "ax[1].set_ylabel('Model')\n",
    "ax[1].plot((-3,3),(-3,3),'r-',alpha=.3)\n",
    "\n",
    "ax[2].plot(data['Calanoida']+data['Euphausiacea']+data['Amphipoda']+data['Decapoda']+data['Copelata'],data['mod_mesozooplankton'],'k.')\n",
    "ax[2].set_title('Total ($\\mu$M)')\n",
    "ax[2].set_xlabel('Obs')\n",
    "ax[2].set_ylabel('Model')\n",
    "ax[2].plot((0,10),(0,10),'r-',alpha=.3)\n",
    "\n",
    "ax[3].plot(logt(data['Calanoida']+data['Euphausiacea']+data['Amphipoda']+data['Decapoda']+data['Copelata']),logt(data['mod_mesozooplankton']),'k.')\n",
    "ax[3].set_title('Log10 Total ($\\mu$M)')\n",
    "ax[3].set_xlabel('Obs')\n",
    "ax[3].set_ylabel('Model')\n",
    "ax[3].plot((-3,3),(-3,3),'r-',alpha=.3)"
   ]
  },
  {
   "cell_type": "code",
   "execution_count": null,
   "metadata": {},
   "outputs": [],
   "source": [
    "#fig,ax=plt.subplots(1,1,figsize=(10,10))\n",
    "#ax.plot((data['L10Calanoida']),(data['L10mod_mesozooplankton']),'k.')\n",
    "#ax.set_title('Log10 Total ($\\mu$M)')\n",
    "#ax.set_xlabel('Obs')\n",
    "#ax.set_ylabel('Model')\n",
    "#ax.plot((-3,3),(-3,3),'r-',alpha=.3)"
   ]
  },
  {
   "cell_type": "code",
   "execution_count": null,
   "metadata": {},
   "outputs": [],
   "source": [
    "def yd(idt):\n",
    "    if type(idt)==dt.datetime:\n",
    "        yd=(idt-dt.datetime(idt.year-1,12,31)).days\n",
    "    else: # assume array or pandas\n",
    "        yd=[(ii-dt.datetime(ii.year-1,12,31)).days for ii in idt]\n",
    "    return yd\n",
    "\n",
    "data['yd']=yd(data['dtUTC'])\n",
    "data['Year']=[ii.year for ii in data['dtUTC']]"
   ]
  },
  {
   "cell_type": "markdown",
   "metadata": {},
   "source": [
    "#### By Day of Year"
   ]
  },
  {
   "cell_type": "code",
   "execution_count": null,
   "metadata": {},
   "outputs": [],
   "source": [
    "fig,ax=plt.subplots(1,1,figsize=(7,7))\n",
    "m=ax.scatter(logt(data['Calanoida']+data['Euphausiacea']+data['Amphipoda']),logt(data['mod_mesozooplankton']),\n",
    "          c=data['yd'],s=5,cmap=cmocean.cm.phase)\n",
    "\n",
    "ax.set_title('log10[ Copepods Amphipods Euphausiids + 0.001] By Year Day')\n",
    "ax.set_xlabel('Obs')\n",
    "ax.set_ylabel('Model')\n",
    "ax.plot((-6,5),(-6,5),'r-',alpha=.3)\n",
    "ax.set_xlim(-1.5,1.5)\n",
    "ax.set_ylim(-1.5,1.5);\n",
    "fig.colorbar(m)"
   ]
  },
  {
   "cell_type": "code",
   "execution_count": null,
   "metadata": {},
   "outputs": [],
   "source": []
  },
  {
   "cell_type": "code",
   "execution_count": null,
   "metadata": {},
   "outputs": [],
   "source": [
    "data['Month']=[ii.month for ii in data['dtUTC']]\n",
    "JF=data.loc[(data.Month==1)|(data.Month==2)]\n",
    "MAM=data.loc[(data.Month==3)|(data.Month==4)|(data.Month==5)]\n",
    "JJA=data.loc[(data.Month==6)|(data.Month==7)|(data.Month==8)]\n",
    "SOND=data.loc[(data.Month==9)|(data.Month==10)|(data.Month==11)|(data.Month==12)]"
   ]
  },
  {
   "cell_type": "code",
   "execution_count": null,
   "metadata": {},
   "outputs": [],
   "source": [
    "\n",
    "\n",
    "def byRegion(ax,obsvar,modvar,lims):\n",
    "    SoG=[]\n",
    "    for ind, iregion in enumerate(data.region_name.unique()):\n",
    "        #ax.plot(datreg[iregion]['Lon'], datreg[iregion]['Lat'],'.',\n",
    "                #color = colors[ind], label=iregion)\n",
    "        SoG0=et.varvarPlot(ax,datreg[iregion],obsvar,modvar,\n",
    "                          cols=(colors[ind],),lname=iregion)\n",
    "        SoG.append(SoG0)\n",
    "    l=ax.legend(handles=[ip[0][0] for ip in SoG])\n",
    "    ax.set_xlabel('Obs')\n",
    "    ax.set_ylabel('Model')\n",
    "    ax.plot(lims,lims,'k-',alpha=.5)\n",
    "    ax.set_xlim(lims)\n",
    "    ax.set_ylim(lims)\n",
    "    ax.set_aspect(1)\n",
    "    return SoG,l\n",
    "\n"
   ]
  },
  {
   "cell_type": "code",
   "execution_count": null,
   "metadata": {},
   "outputs": [],
   "source": [
    "def bySeason(ax,obsvar,modvar,lims):\n",
    "    for axi in ax:\n",
    "        axi.plot(lims,lims,'k-')\n",
    "        axi.set_xlim(lims)\n",
    "        axi.set_ylim(lims)\n",
    "        axi.set_aspect(1)\n",
    "        axi.set_xlabel('Obs')\n",
    "        axi.set_ylabel('Model')\n",
    "    SoG=et.varvarPlot(ax[0],JF,obsvar,modvar,cols=('crimson','darkturquoise','navy'))\n",
    "    ax[0].set_title('Winter')\n",
    "    SoG=et.varvarPlot(ax[1],MAM,obsvar,modvar,cols=('crimson','darkturquoise','navy'))\n",
    "    ax[1].set_title('Spring')\n",
    "    SoG=et.varvarPlot(ax[2],JJA,obsvar,modvar,cols=('crimson','darkturquoise','navy'))\n",
    "    ax[2].set_title('Summer')\n",
    "    SoG=et.varvarPlot(ax[3],SOND,obsvar,modvar,cols=('crimson','darkturquoise','navy'))\n",
    "    ax[3].set_title('Autumn')\n",
    "    return "
   ]
  },
  {
   "cell_type": "code",
   "execution_count": null,
   "metadata": {},
   "outputs": [],
   "source": [
    "#obsvar='L10Calanoida'\n",
    "#modvar='L10mod_mesozooplankton'"
   ]
  },
  {
   "cell_type": "markdown",
   "metadata": {},
   "source": [
    "### Plots of Calanoid copepods vs. model mesozooplankton 2015"
   ]
  },
  {
   "cell_type": "code",
   "execution_count": null,
   "metadata": {},
   "outputs": [],
   "source": [
    "fig, ax = plt.subplots(1,1,figsize = (16,7))\n",
    "\n",
    "             \n",
    "SoG,l=byRegion(ax,'L10Calanoida','L10mod_mesozooplankton',(-1.5,1.5))\n",
    "ax.set_title('Log 10 Calanoida + 0.001 ($\\mu$M) By Region')\n",
    "ax.legend(bbox_to_anchor=(1.1, 1.05))\n",
    "\n",
    "fig, ax = plt.subplots(1,4,figsize = (16,3.3))\n",
    "bySeason(ax,'L10Calanoida','L10mod_mesozooplankton',(-1.5,1.5))\n"
   ]
  },
  {
   "cell_type": "code",
   "execution_count": null,
   "metadata": {},
   "outputs": [],
   "source": []
  },
  {
   "cell_type": "markdown",
   "metadata": {},
   "source": [
    "#### "
   ]
  },
  {
   "cell_type": "code",
   "execution_count": null,
   "metadata": {},
   "outputs": [],
   "source": [
    "#obsvar='Euphausiacea'\n",
    "#modvar='mod_mesozooplankton'"
   ]
  },
  {
   "cell_type": "markdown",
   "metadata": {},
   "source": [
    "### Plots of Euphausiids vs. model mesozooplankton 2015"
   ]
  },
  {
   "cell_type": "code",
   "execution_count": null,
   "metadata": {},
   "outputs": [],
   "source": [
    "fig, ax = plt.subplots(1,1,figsize = (16,7))\n",
    "SoG,l=byRegion(ax,'L10Euphausiacea','L10mod_mesozooplankton',(-1.5,1.5))\n",
    "ax.set_title('Log 10 Euphausiacea + 0.001 ($\\mu$M) By Region');\n",
    "ax.legend(bbox_to_anchor=(1.1, 1.05))\n",
    "\n",
    "fig, ax = plt.subplots(1,4,figsize = (16,3.3))\n",
    "bySeason(ax,'L10Euphausiacea','L10mod_mesozooplankton',(-1.5,1.5))"
   ]
  },
  {
   "cell_type": "markdown",
   "metadata": {},
   "source": [
    "### Plots of Amphipods vs. model mesozooplankton 2015"
   ]
  },
  {
   "cell_type": "code",
   "execution_count": null,
   "metadata": {},
   "outputs": [],
   "source": [
    "fig, ax = plt.subplots(1,1,figsize = (16,7))\n",
    "SoG,l=byRegion(ax,'L10Amphipoda','L10mod_mesozooplankton',(-1.5,1.5))\n",
    "ax.set_title('Log 10 Amphipoda + 0.001 ($\\mu$M) By Region');\n",
    "ax.legend(bbox_to_anchor=(1.1, 1.05))\n",
    "\n",
    "fig, ax = plt.subplots(1,4,figsize = (16,3.3))\n",
    "bySeason(ax,'L10Amphipoda','L10mod_mesozooplankton',(-1.5,1.5))"
   ]
  },
  {
   "cell_type": "markdown",
   "metadata": {},
   "source": [
    "### Decapods vs. model mesozooplankton 2015"
   ]
  },
  {
   "cell_type": "code",
   "execution_count": null,
   "metadata": {},
   "outputs": [],
   "source": [
    "fig, ax = plt.subplots(1,1,figsize = (16,7))\n",
    "SoG,l=byRegion(ax,'L10Decapoda','L10mod_mesozooplankton',(-1.5,1.5))\n",
    "ax.set_title('Log 10 Decapoda + 0.001 ($\\mu$M) By Region');\n",
    "ax.legend(bbox_to_anchor=(1.1, 1.05))\n",
    "\n",
    "fig, ax = plt.subplots(1,4,figsize = (16,3.3))\n",
    "bySeason(ax,'L10Decapoda','L10mod_mesozooplankton',(-1.5,1.5))"
   ]
  },
  {
   "cell_type": "markdown",
   "metadata": {},
   "source": [
    "### Larvaceans vs. model mesozooplankton 2015"
   ]
  },
  {
   "cell_type": "code",
   "execution_count": null,
   "metadata": {},
   "outputs": [],
   "source": [
    "fig, ax = plt.subplots(1,1,figsize = (16,7))\n",
    "SoG,l=byRegion(ax,'L10Copelata','L10mod_mesozooplankton',(-1.5,1.5))\n",
    "ax.set_title('Log 10 Larvaceans + 0.001 ($\\mu$M) By Region');\n",
    "ax.legend(bbox_to_anchor=(1.1, 1.05))\n",
    "\n",
    "fig, ax = plt.subplots(1,4,figsize = (16,3.3))\n",
    "bySeason(ax,'L10Copelata','L10mod_mesozooplankton',(-1.5,1.5))"
   ]
  },
  {
   "cell_type": "markdown",
   "metadata": {},
   "source": [
    "### Plots of Cyclopoid copepods vs. model mesozooplankton 2015"
   ]
  },
  {
   "cell_type": "code",
   "execution_count": null,
   "metadata": {},
   "outputs": [],
   "source": [
    "fig, ax = plt.subplots(1,1,figsize = (16,7))\n",
    "\n",
    "SoG,l=byRegion(ax,'L10Cyclopoida','L10mod_mesozooplankton',(-1.5,1.5))\n",
    "ax.set_title('Log 10 Cyclopoida + 0.001 ($\\mu$M) By Region');\n",
    "ax.legend(bbox_to_anchor=(1.1, 1.05))\n",
    "\n",
    "fig, ax = plt.subplots(1,4,figsize = (16,3.3))\n",
    "bySeason(ax,'L10Cyclopoida','L10mod_mesozooplankton',(-1.5,1.5))"
   ]
  },
  {
   "cell_type": "markdown",
   "metadata": {},
   "source": [
    "### Calanoid copepods vs. model microzooplankton from Mar-Jun 2015"
   ]
  },
  {
   "cell_type": "code",
   "execution_count": null,
   "metadata": {},
   "outputs": [],
   "source": [
    "fig, ax = plt.subplots(1,1,figsize = (16,7))\n",
    "\n",
    "SoG,l=byRegion(ax,'L10Calanoida','L10mod_microzooplankton',(-1.5,1.5))\n",
    "ax.set_title('Log10 Calanoida +0.001 ($\\mu$M) By Region');\n",
    "ax.legend(bbox_to_anchor=(1.1, 1.05))\n",
    "\n",
    "fig, ax = plt.subplots(1,4,figsize = (16,3.3))\n",
    "bySeason(ax,'L10Cyclopoida','L10mod_mesozooplankton',(-1.5,1.5))"
   ]
  },
  {
   "cell_type": "code",
   "execution_count": null,
   "metadata": {},
   "outputs": [],
   "source": [
    "fig, ax = plt.subplots(1,1,figsize = (16,7))\n",
    "\n",
    "SoG,l=byRegion(ax,'L10Copelata','L10mod_microzooplankton',(-1.5,1.5))\n",
    "ax.set_title('Log10 Larvaceans +0.001 ($\\mu$M) By Region');\n",
    "ax.legend(bbox_to_anchor=(1.1, 1.05))\n",
    "\n",
    "fig, ax = plt.subplots(1,4,figsize = (16,3.3))\n",
    "bySeason(ax,'L10Copelata','L10mod_microzooplankton',(-1.5,1.5))\n"
   ]
  },
  {
   "cell_type": "code",
   "execution_count": null,
   "metadata": {},
   "outputs": [],
   "source": []
  },
  {
   "cell_type": "code",
   "execution_count": null,
   "metadata": {},
   "outputs": [],
   "source": []
  },
  {
   "cell_type": "code",
   "execution_count": null,
   "metadata": {},
   "outputs": [],
   "source": []
  },
  {
   "cell_type": "code",
   "execution_count": null,
   "metadata": {},
   "outputs": [],
   "source": []
  },
  {
   "cell_type": "code",
   "execution_count": null,
   "metadata": {},
   "outputs": [],
   "source": []
  }
 ],
 "metadata": {
  "kernelspec": {
   "display_name": "Python (py39)",
   "language": "python",
   "name": "py39"
  },
  "language_info": {
   "codemirror_mode": {
    "name": "ipython",
    "version": 3
   },
   "file_extension": ".py",
   "mimetype": "text/x-python",
   "name": "python",
   "nbconvert_exporter": "python",
   "pygments_lexer": "ipython3",
   "version": "3.9.2"
  }
 },
 "nbformat": 4,
 "nbformat_minor": 4
}
