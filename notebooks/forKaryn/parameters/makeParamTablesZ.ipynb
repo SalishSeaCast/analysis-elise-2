{
 "cells": [
  {
   "cell_type": "code",
   "execution_count": 1,
   "metadata": {},
   "outputs": [],
   "source": [
    "import numpy as np\n",
    "import pandas as pd\n",
    "import f90nml\n",
    "import os\n",
    "from collections import OrderedDict"
   ]
  },
  {
   "cell_type": "markdown",
   "metadata": {},
   "source": [
    "need to convert 6e-07 to $6\\times10^{-07}$ everywhere"
   ]
  },
  {
   "cell_type": "code",
   "execution_count": 2,
   "metadata": {},
   "outputs": [],
   "source": [
    "nml=f90nml.read('namelist_smelt_cfg_HC201905equiv')\n",
    "nmlold=f90nml.read('namelist_smelt_cfg_HC201812equiv') # for now just load the same one"
   ]
  },
  {
   "cell_type": "code",
   "execution_count": 3,
   "metadata": {},
   "outputs": [],
   "source": [
    "# Remove irrelevant values (that are only irrelevant for either new or old nml):\n",
    "#for iii in ('zz_frac_waste_MNM_NH','zz_frac_waste_MNM_DON','zz_frac_waste_MNM_PON',\n",
    "#           'zz_frac_waste_MEX_NH','zz_frac_waste_MEX_DON','zz_frac_waste_MEX_PON'):\n",
    "#    nml['nampismezo'][iii]='-'\n",
    "#for iii in ('zzigamma','zzisigma'):\n",
    "#    nml['nampisopt'][iii]='-'    \n",
    "#for iii in ('zz_alpha_b_Si','zz_alpha_b_N'):\n",
    "#    nmlold['nampissink'][iii]='-' \n",
    "# rescale 201812 optical model parameters for 1.6 chl:N instead of 2.0:\n",
    "nmlold['nampisopt']['zzibeta']=np.round(nml['nampisopt']['zzibeta']*(2.0/1.6)**0.665,4)\n",
    "nmlold['nampisopt']['zzN2chl']=1.6\n",
    "# add some additional information:\n",
    "#nmlold['nampisopt']['zzitheta']=str(nmlold['nampisopt']['zzitheta'])+r'$+f(Q)$ \\textsuperscript{a}'\n",
    "nml['nampissink']['zz_w_sink_Pmicro_min']=\"{:.2e}\".format(1/3600/24*nml['nampissink']['zz_w_sink_Pmicro_min'])+' ['+\"{:.1f}\".format(nml['nampissink']['zz_w_sink_Pmicro_min'])+']'\n",
    "nml['nampissink']['zz_w_sink_Pmicro_max']=\"{:.2e}\".format(1/3600/24*nml['nampissink']['zz_w_sink_Pmicro_max'])+' ['+\"{:.1f}\".format(nml['nampissink']['zz_w_sink_Pmicro_max'])+']'\n",
    "nml['nampissink']['zz_w_sink_D_PON']=\"{:.2e}\".format(nml['nampissink']['zz_w_sink_D_PON'])+' ['+\"{:.1f}\".format(3600*24*nml['nampissink']['zz_w_sink_D_PON'])+']'\n",
    "nml['nampissink']['zz_w_sink_D_bSi']=\"{:.2e}\".format(nml['nampissink']['zz_w_sink_D_bSi'])+' ['+\"{:.1f}\".format(3600*24*nml['nampissink']['zz_w_sink_D_bSi'])+']'\n",
    "nmlold['nampissink']['zz_w_sink_Pmicro_min']=\"{:.2e}\".format(1/3600/24*nmlold['nampissink']['zz_w_sink_Pmicro_min'])+' ['+\"{:.1f}\".format(nmlold['nampissink']['zz_w_sink_Pmicro_min'])+']'\n",
    "nmlold['nampissink']['zz_w_sink_Pmicro_max']=\"{:.2e}\".format(1/3600/24*nmlold['nampissink']['zz_w_sink_Pmicro_max'])+' ['+\"{:.1f}\".format(nmlold['nampissink']['zz_w_sink_Pmicro_max'])+']'\n",
    "nmlold['nampissink']['zz_w_sink_D_PON']=\"{:.2e}\".format(nmlold['nampissink']['zz_w_sink_D_PON'])+' ['+\"{:.1f}\".format(3600*24*nmlold['nampissink']['zz_w_sink_D_PON'])+']'\n",
    "nmlold['nampissink']['zz_w_sink_D_bSi']=\"{:.2e}\".format(nmlold['nampissink']['zz_w_sink_D_bSi'])+' ['+\"{:.1f}\".format(3600*24*nmlold['nampissink']['zz_w_sink_D_bSi'])+']'\n"
   ]
  },
  {
   "cell_type": "code",
   "execution_count": 4,
   "metadata": {
    "collapsed": false,
    "jupyter": {
     "outputs_hidden": false
    }
   },
   "outputs": [
    {
     "data": {
      "text/plain": [
       "odict_keys(['nampisprod', 'nampismort', 'nampismes', 'nampismezo', 'nampiszoo', 'nampisrem', 'nampisopt', 'nampissink', 'nampisriv', 'nampissbc', 'nampiscarbon', 'nampisext'])"
      ]
     },
     "execution_count": 4,
     "metadata": {},
     "output_type": "execute_result"
    }
   ],
   "source": [
    "nml.keys()"
   ]
  },
  {
   "cell_type": "code",
   "execution_count": 5,
   "metadata": {
    "collapsed": false,
    "jupyter": {
     "outputs_hidden": false
    }
   },
   "outputs": [
    {
     "data": {
      "text/plain": [
       "odict_keys(['zz_rate_r_diat', 'zz_rate_r_myri', 'zz_rate_r_nano', 'zz_rate_maxtemp_diat', 'zz_rate_maxtemp_myri', 'zz_rate_maxtemp_nano', 'zz_rate_temprange_diat', 'zz_rate_temprange_myri', 'zz_rate_temprange_nano', 'zz_rate_iopt_diat', 'zz_rate_iopt_myri', 'zz_rate_iopt_nano', 'zz_rate_gamma_diat', 'zz_rate_gamma_myri', 'zz_rate_gamma_nano', 'zz_rate_k_si_diat', 'zz_rate_k_si_myri', 'zz_rate_k_si_nano', 'zz_rate_kapa_diat', 'zz_rate_kapa_myri', 'zz_rate_kapa_nano', 'zz_rate_k_diat', 'zz_rate_k_myri', 'zz_rate_k_nano', 'zz_rate_si_ratio_diat', 'zz_rate_si_ratio_myri', 'zz_rate_si_ratio_nano'])"
      ]
     },
     "execution_count": 5,
     "metadata": {},
     "output_type": "execute_result"
    }
   ],
   "source": [
    "nml['nampisprod'].keys()"
   ]
  },
  {
   "cell_type": "code",
   "execution_count": 6,
   "metadata": {
    "collapsed": false,
    "jupyter": {
     "outputs_hidden": false
    }
   },
   "outputs": [
    {
     "data": {
      "text/plain": [
       "odict_keys(['zz_rate_mesorub_r', 'zz_rate_mesorub_picopredslope', 'zz_rate_mesorub_picohalfsat', 'zz_rate_mesorub_eff', 'zz_frac_waste_fen_nh', 'zz_frac_waste_fen_don', 'zz_frac_waste_fen_pon', 'zz_frac_waste_fen_bsi'])"
      ]
     },
     "execution_count": 6,
     "metadata": {},
     "output_type": "execute_result"
    }
   ],
   "source": [
    "nml['nampismes'].keys()"
   ]
  },
  {
   "cell_type": "code",
   "execution_count": 7,
   "metadata": {
    "collapsed": false,
    "jupyter": {
     "outputs_hidden": false
    }
   },
   "outputs": [
    {
     "data": {
      "text/plain": [
       "odict_keys(['zz_rate_uzoo_rm', 'zz_rate_uzoo_excr', 'zz_rate_uzoo_predslope', 'zz_rate_uzoo_halfsat', 'zz_rate_uzoo_micropref', 'zz_rate_uzoo_micropredslope', 'zz_rate_uzoo_microhalfsat', 'zz_rate_uzoo_nanopref', 'zz_rate_uzoo_nanopredslope', 'zz_rate_uzoo_nanohalfsat', 'zz_rate_uzoo_picopref', 'zz_rate_uzoo_picopredslope', 'zz_rate_uzoo_picohalfsat', 'zz_rate_uzoo_pon_pref', 'zz_rate_uzoo_pon_predslope', 'zz_rate_uzoo_pon_halfsat', 'zz_rate_uzoo_z_pref', 'zz_rate_uzoo_z_predslope', 'zz_rate_uzoo_z_halfsat', 'zz_rate_uzoo_r', 'zz_rate_uzoo_eff', 'zz_frac_waste_pez_nh', 'zz_frac_waste_pez_don', 'zz_frac_waste_pez_pon', 'zz_frac_waste_dez_nh', 'zz_frac_waste_dez_don', 'zz_frac_waste_dez_pon', 'zz_frac_waste_dez_bsi', 'zz_frac_waste_nez_nh', 'zz_frac_waste_nez_don', 'zz_frac_waste_nez_pon', 'zz_frac_waste_nez_bsi', 'zz_frac_waste_fez_nh', 'zz_frac_waste_fez_don', 'zz_frac_waste_fez_pon', 'zz_frac_waste_fez_bsi', 'zz_frac_waste_zez_nh', 'zz_frac_waste_zez_don', 'zz_frac_waste_zez_pon', 'zz_frac_waste_znm_nh', 'zz_frac_waste_znm_don', 'zz_frac_waste_znm_pon', 'zz_frac_waste_zex_nh', 'zz_frac_waste_zex_don', 'zz_frac_waste_zex_pon'])"
      ]
     },
     "execution_count": 7,
     "metadata": {},
     "output_type": "execute_result"
    }
   ],
   "source": [
    "nml['nampiszoo'].keys()"
   ]
  },
  {
   "cell_type": "code",
   "execution_count": 8,
   "metadata": {
    "collapsed": false,
    "jupyter": {
     "outputs_hidden": false
    }
   },
   "outputs": [
    {
     "data": {
      "text/plain": [
       "odict_keys(['zz_rate_mesozoo_winterconc', 'zz_rate_mesozoo_sumpeakval', 'zz_rate_mesozoo_sumpeakwid', 'zz_rate_mesozoo_sumpeakpos', 'zz_rate_mesozoo_alpha', 'zz_rate_mesozoo_r', 'zz_rate_mesozoo_rm', 'zz_rate_mesozoo_excr', 'zz_rate_mesozoo_predslope', 'zz_rate_mesozoo_halfsat', 'zz_rate_mesozoo_micropref', 'zz_rate_mesozoo_micropredslope', 'zz_rate_mesozoo_microhalfsat', 'zz_rate_mesozoo_nanopref', 'zz_rate_mesozoo_nanopredslope', 'zz_rate_mesozoo_nanohalfsat', 'zz_rate_mesozoo_picopref', 'zz_rate_mesozoo_picopredslope', 'zz_rate_mesozoo_picohalfsat', 'zz_rate_mesozoo_pon_pref', 'zz_rate_mesozoo_pon_predslope', 'zz_rate_mesozoo_pon_halfsat', 'zz_rate_mesozoo_z_pref', 'zz_rate_mesozoo_z_predslope', 'zz_rate_mesozoo_z_halfsat', 'zz_rate_mesozoo_eff', 'zz_frac_waste_mnm_nh', 'zz_frac_waste_mnm_don', 'zz_frac_waste_mnm_pon', 'zz_frac_waste_mex_nh', 'zz_frac_waste_mex_don', 'zz_frac_waste_mex_pon', 'zz_frac_waste_pem_nh', 'zz_frac_waste_pem_don', 'zz_frac_waste_pem_pon', 'zz_frac_waste_dem_nh', 'zz_frac_waste_dem_don', 'zz_frac_waste_dem_pon', 'zz_frac_waste_dem_bsi', 'zz_frac_waste_fem_nh', 'zz_frac_waste_fem_don', 'zz_frac_waste_fem_pon', 'zz_frac_waste_fem_bsi', 'zz_frac_waste_zem_nh', 'zz_frac_waste_zem_don', 'zz_frac_waste_zem_pon', 'zz_frac_waste_nem_nh', 'zz_frac_waste_nem_don', 'zz_frac_waste_nem_pon', 'zz_frac_waste_nem_bsi'])"
      ]
     },
     "execution_count": 8,
     "metadata": {},
     "output_type": "execute_result"
    }
   ],
   "source": [
    "nml['nampismezo'].keys()"
   ]
  },
  {
   "cell_type": "raw",
   "metadata": {},
   "source": [
    "diat=diatoms\n",
    "mrub=mesodinium\n",
    "flag=small phytoplankton\n",
    "micz=microzooplankton\n",
    "mesz=mesozooplankton\n",
    "DON=don\n",
    "PON=pon\n",
    "bSi=bSi\n",
    "dSi=dSi\n",
    "NO=NO3\n",
    "NH=NH4"
   ]
  },
  {
   "cell_type": "code",
   "execution_count": 9,
   "metadata": {},
   "outputs": [],
   "source": [
    "matchDict=dict()\n",
    "# format, codevarname, (textvarname, namelistheading, units)\n",
    "matchDict['Photosynthetic Growth']= OrderedDict([\n",
    "('zz_rate_r_DIAT',('\\mu^{DIAT}_{max}','nampisprod','s$^{-1}$')),\n",
    "('zz_rate_r_myri',('\\mu^{MRUB}_{max}','nampisprod','s$^{-1}$')),\n",
    "('zz_rate_r_nano',('\\mu^{FLAG}_{max}','nampisprod','s$^{-1}$')),\n",
    "('zz_rate_maxtemp_DIAT',('\\Theta_{max}^{DIAT}','nampisprod','$^{\\circ}$C')),\n",
    "('zz_rate_maxtemp_myri',('\\Theta_{max}^{MRUB}','nampisprod','$^{\\circ}$C')),\n",
    "('zz_rate_maxtemp_nano',('\\Theta_{max}^{FLAG}','nampisprod','$^{\\circ}$C')),\n",
    "('zz_rate_temprange_DIAT',('\\Theta_{range}^{DIAT}','nampisprod','$^{\\circ}$C')),\n",
    "('zz_rate_temprange_myri',('\\Theta_{range}^{MRUB}','nampisprod','$^{\\circ}$C')),\n",
    "('zz_rate_temprange_nano',('\\Theta_{range}^{FLAG}','nampisprod','$^{\\circ}$C')),\n",
    "('zz_rate_iopt_DIAT',(r'I_{\\text{opt}}^{DIAT}','nampisprod','W m$^{-2}$')),\n",
    "('zz_rate_iopt_myri',(r'I_{\\text{opt}}^{MRUB}','nampisprod','W m$^{-2}$')),\n",
    "('zz_rate_iopt_nano',(r'I_{\\text{opt}}^{FLAG}','nampisprod','W m$^{-2}$')),\n",
    "('zz_rate_k_si_DIAT',('k_\\mathrm{Si}^{DIAT}','nampisprod',r'$\\upmu$M Si')),\n",
    "('zz_rate_k_si_myri',('k_\\mathrm{Si}^{MRUB}','nampisprod',r'$\\upmu$M Si')),\n",
    "('zz_rate_k_si_nano',('k_\\mathrm{Si}^{FLAG}','nampisprod',r'$\\upmu$M Si')),\n",
    "('zz_rate_kapa_DIAT',('\\kappa^{DIAT}','nampisprod','')),\n",
    "('zz_rate_kapa_myri',('\\kappa^{MRUB}','nampisprod','')),\n",
    "('zz_rate_kapa_nano',('\\kappa^{FLAG}','nampisprod','')),\n",
    "('zz_rate_k_DIAT',('K_\\mathrm{N}^{DIAT}','nampisprod',r'$\\upmu$M N')),\n",
    "('zz_rate_k_myri',('K_\\mathrm{N}^{MRUB}','nampisprod',r'$\\upmu$M N')),\n",
    "('zz_rate_k_nano',('K_\\mathrm{N}^{FLAG}','nampisprod',r'$\\upmu$M N')),\n",
    "('zz_rate_si_ratio_DIAT',('a_{\\mathrm{Si:N}}^{DIAT}','nampisprod',r'$\\upmu$M Si ($\\upmu$M N)$^{-1}$')),\n",
    "('zz_rate_si_ratio_myri',('a_{\\mathrm{Si:N}}^{MRUB}','nampisprod',r'$\\upmu$M Si ($\\upmu$M N)$^{-1}$')),\n",
    "('zz_rate_si_ratio_nano',('a_{\\mathrm{Si:N}}^{FLAG}','nampisprod',r'$\\upmu$M Si ($\\upmu$M N)$^{-1}$')) ])\n",
    "\n",
    "# unused,\n",
    "#'zz_rate_gamma_DIAT',('','nampisprod',''),\n",
    "#'zz_rate_gamma_myri',('','nampisprod',''),\n",
    "#'zz_rate_gamma_nano',('','nampisprod',''),"
   ]
  },
  {
   "cell_type": "code",
   "execution_count": 10,
   "metadata": {},
   "outputs": [],
   "source": [
    "# make table for paper\n",
    "ikey='Photosynthetic Growth'\n",
    "lines=list()\n",
    "lines.append(r'   \\small'+'\\n')\n",
    "lines.append(r'   \\centering'+'\\n')\n",
    "lines.append(r'   \\begin{tabular}{lrrl}\\toprule'+'\\n')\n",
    "lines.append(r'    Parameter & Current Value & Previous value & Units \\\\ \\midrule'+'\\n')\n",
    "for ivar in matchDict[ikey]:\n",
    "    iltx=matchDict[ikey][ivar][0]\n",
    "    ival=nml[matchDict[ikey][ivar][1]][ivar]\n",
    "    ivalold=nmlold[matchDict[ikey][ivar][1]][ivar]\n",
    "    iunits=matchDict[ikey][ivar][2]\n",
    "    lines.append(r'     ${}$ & {} & {} & {} \\\\'.format(iltx,ival,ivalold,iunits)+'\\n')\n",
    "lines.append(r'   \\midrule'+'\\n')\n",
    "lines.append(r' \\\\ \\\\')\n",
    "lines.append(r'   \\end{tabular}'+'\\n')\n",
    "\n",
    "f = open('PhotoParamsTBL.tex', 'w')\n",
    "f.writelines(lines)\n",
    "f.close()"
   ]
  },
  {
   "cell_type": "code",
   "execution_count": 11,
   "metadata": {},
   "outputs": [],
   "source": [
    "\n",
    "# format, codevarname, (textvarname, namelistheading, units)\n",
    "matchDict['Grazing'] = OrderedDict([\n",
    "('zz_rate_mesorub_r',(r'\\upsilon_{max}^{MRUB}','nampismes','s$^{-1}$')), \n",
    "('zz_rate_mesorub_picopredslope',(r'\\alpha^{MRUB}','nampismes',r'$\\upmu$M N')), \n",
    "('zz_rate_mesorub_picohalfsat',(r'K^{MRUB}','nampismes',r'$\\upmu$M N')), \n",
    "('zz_rate_mesorub_eff',(r'\\epsilon^{MRUB}','nampismes','')), \n",
    "('zz_rate_uzoo_r',(r'\\upsilon_{max}^{MICZ}','nampiszoo','s$^{-1}$')), \n",
    "('zz_rate_uzoo_predslope',(r'\\alpha^{MICZ}','nampiszoo',r'$\\upmu$M N')), \n",
    "('zz_rate_uzoo_halfsat',(r'K^{MICZ}','nampiszoo',r'$\\upmu$M N')), \n",
    "('zz_rate_uzoo_micropref',(r'\\rho_{DIAT}^{MICZ}','nampiszoo','')), \n",
    "('zz_rate_uzoo_nanopref',(r'\\rho_{MRUB}^{MICZ}','nampiszoo','')), \n",
    "('zz_rate_uzoo_picopref',(r'\\rho_{FLAG}^{MICZ}','nampiszoo','')), \n",
    "('zz_rate_uzoo_pon_pref',(r'\\rho_{PON}^{MICZ}','nampiszoo','')), \n",
    "('zz_rate_uzoo_z_pref',(r'\\rho_{MICZ}^{MICZ}','nampiszoo','')), \n",
    "('zz_rate_uzoo_micropredslope',(r'\\alpha_{DIAT}^{MICZ}','nampiszoo',r'$\\upmu$M N')), \n",
    "('zz_rate_uzoo_nanopredslope',(r'\\alpha_{MRUB}^{MICZ}','nampiszoo',r'$\\upmu$M N')), \n",
    "('zz_rate_uzoo_picopredslope',(r'\\alpha_{FLAG}^{MICZ}','nampiszoo',r'$\\upmu$M N')), \n",
    "('zz_rate_uzoo_pon_predslope',(r'\\alpha_{PON}^{MICZ}','nampiszoo',r'$\\upmu$M N')), \n",
    "('zz_rate_uzoo_z_predslope',(r'\\alpha_{MICZ}^{MICZ}','nampiszoo',r'$\\upmu$M N')), \n",
    "('zz_rate_uzoo_microhalfsat',(r'K_{DIAT}^{MICZ}','nampiszoo',r'$\\upmu$M N')), \n",
    "('zz_rate_uzoo_nanohalfsat',(r'K_{MRUB}^{MICZ}','nampiszoo',r'$\\upmu$M N')), \n",
    "('zz_rate_uzoo_picohalfsat',(r'K_{FLAG}^{MICZ}','nampiszoo',r'$\\upmu$M N')), \n",
    "('zz_rate_uzoo_pon_halfsat',(r'K_{PON}^{MICZ}','nampiszoo',r'$\\upmu$M N')), \n",
    "('zz_rate_uzoo_z_halfsat',(r'K_{MICZ}^{MICZ}','nampiszoo',r'$\\upmu$M N')), \n",
    "('zz_rate_uZoo_eff',(r'\\epsilon^{MICZ}','nampiszoo','')), \n",
    "('zz_rate_mesozoo_r',(r'\\upsilon_{max}^{MESZ}','nampismezo','s$^{-1}$')), \n",
    "('zz_rate_mesozoo_predslope',(r'\\alpha^{MESZ}','nampismezo',r'$\\upmu$M N')), \n",
    "('zz_rate_mesozoo_halfsat',(r'K^{MESZ}','nampismezo',r'$\\upmu$M N')), \n",
    "('zz_rate_mesozoo_micropref',(r'\\rho_{DIAT}^{MESZ}','nampismezo','')), \n",
    "('zz_rate_mesozoo_nanopref',(r'\\rho_{MRUB}^{MESZ}','nampismezo','')), \n",
    "('zz_rate_mesozoo_picopref',(r'\\rho_{FLAG}^{MESZ}','nampismezo','')), \n",
    "('zz_rate_mesozoo_pon_pref',(r'\\rho_{PON}^{MESZ}','nampismezo','')), \n",
    "('zz_rate_mesozoo_z_pref',(r'\\rho_{MICZ}^{MESZ}','nampismezo','')), \n",
    "('zz_rate_mesozoo_micropredslope',(r'\\alpha_{DIAT}^{MESZ}','nampismezo',r'$\\upmu$M N')), \n",
    "('zz_rate_mesozoo_nanopredslope',(r'\\alpha_{MRUB}^{MESZ}','nampismezo',r'$\\upmu$M N')), \n",
    "('zz_rate_mesozoo_picopredslope',(r'\\alpha_{FLAG}^{MESZ}','nampismezo',r'$\\upmu$M N')), \n",
    "('zz_rate_mesozoo_pon_predslope',(r'\\alpha_{PON}^{MESZ}','nampismezo',r'$\\upmu$M N')), \n",
    "('zz_rate_mesozoo_z_predslope',(r'\\alpha_{MICZ}^{MESZ}','nampismezo',r'$\\upmu$M N')), \n",
    "('zz_rate_mesozoo_microhalfsat',(r'K_{DIAT}^{MESZ}','nampismezo',r'$\\upmu$M N')), \n",
    "('zz_rate_mesozoo_nanohalfsat',(r'K_{MRUB}^{MESZ}','nampismezo',r'$\\upmu$M N')), \n",
    "('zz_rate_mesozoo_picohalfsat',(r'K_{FLAG}^{MESZ}','nampismezo',r'$\\upmu$M N')), \n",
    "('zz_rate_mesozoo_pon_halfsat',(r'K_{PON}^{MESZ}','nampismezo',r'$\\upmu$M N')), \n",
    "('zz_rate_mesozoo_z_halfsat',(r'K_{MICZ}^{MESZ}','nampismezo',r'$\\upmu$M N')), \n",
    "('zz_rate_mesozoo_eff',(r'\\epsilon^{MESZ}','nampismezo',''))])"
   ]
  },
  {
   "cell_type": "code",
   "execution_count": 12,
   "metadata": {},
   "outputs": [],
   "source": [
    "# make table for paper\n",
    "ikey='Grazing'\n",
    "lines=list()\n",
    "lines.append(r'   \\small'+'\\n')\n",
    "lines.append(r'   \\centering'+'\\n')\n",
    "lines.append(r'   \\begin{tabular}{lrrl}\\toprule'+'\\n')\n",
    "lines.append(r'    Parameter & Current Value & Previous value & Units \\\\ \\midrule'+'\\n')\n",
    "for ivar in matchDict[ikey]:\n",
    "    iltx=matchDict[ikey][ivar][0]\n",
    "    ival=nml[matchDict[ikey][ivar][1]][ivar]\n",
    "    ivalold=nmlold[matchDict[ikey][ivar][1]][ivar]\n",
    "    iunits=matchDict[ikey][ivar][2]\n",
    "    lines.append(r'     ${}$ & {} & {} & {} \\\\'.format(iltx,ival,ivalold,iunits)+'\\n')\n",
    "lines.append(r'   \\midrule'+'\\n')\n",
    "lines.append(r' \\\\ \\\\')\n",
    "lines.append(r'   \\end{tabular}'+'\\n')\n",
    "\n",
    "f = open('GrazingParamsTBL.tex', 'w')\n",
    "f.writelines(lines)\n",
    "f.close()"
   ]
  },
  {
   "cell_type": "code",
   "execution_count": 13,
   "metadata": {},
   "outputs": [],
   "source": [
    "matchDict['Mesozooplankton Abundance'] = OrderedDict([\n",
    "('zz_rate_mesozoo_winterconc',(r'Z_{w} ','nampismezo',r'$\\upmu$M N')), \n",
    "('zz_rate_mesozoo_sumpeakval',(r'[Z_{1},Z_{2},Z_{3}]','nampismezo',r'$\\upmu$M N')), \n",
    "('zz_rate_mesozoo_sumpeakwid',(r'[\\sigma _1,\\sigma _2,\\sigma _3]','nampismezo','days')), \n",
    "('zz_rate_mesozoo_sumpeakpos',(r'[t_{01},t_{02},t_{03}]','nampismezo','year day'))])"
   ]
  },
  {
   "cell_type": "code",
   "execution_count": 14,
   "metadata": {},
   "outputs": [],
   "source": [
    "# make table for paper\n",
    "ikey='Mesozooplankton Abundance'\n",
    "lines=list()\n",
    "lines.append(r'   \\small'+'\\n')\n",
    "lines.append(r'   \\centering'+'\\n')\n",
    "lines.append(r'   \\begin{tabular}{lrrl}\\toprule'+'\\n')\n",
    "lines.append(r'    Parameter & Current Value & Previous value & Units \\\\ \\midrule'+'\\n')\n",
    "for ivar in matchDict[ikey]:\n",
    "    iltx=matchDict[ikey][ivar][0]\n",
    "    ival=nml[matchDict[ikey][ivar][1]][ivar]\n",
    "    ivalold=nmlold[matchDict[ikey][ivar][1]][ivar]\n",
    "    iunits=matchDict[ikey][ivar][2]\n",
    "    lines.append(r'     ${}$ & {} & {} & {} \\\\'.format(iltx,ival,ivalold,iunits)+'\\n')\n",
    "lines.append(r'   \\midrule'+'\\n')\n",
    "lines.append(r' \\\\ \\\\')\n",
    "lines.append(r'   \\end{tabular}'+'\\n')\n",
    "\n",
    "f = open('MesozoTBL.tex', 'w')\n",
    "f.writelines(lines)\n",
    "f.close()"
   ]
  },
  {
   "cell_type": "code",
   "execution_count": 15,
   "metadata": {},
   "outputs": [],
   "source": [
    "matchDict['Mortality'] = OrderedDict([\n",
    "('zz_rate_micro_Rm',(r'm_{DIAT}','nampismort','s$^{-1}$')), \n",
    "('zz_rate_myri_Rm',(r'm_{MRUB}','nampismort','s$^{-1}$')), \n",
    "('zz_rate_pico_Rm',(r'm_{FLAG}','nampismort','s$^{-1}$')), \n",
    "('zz_rate_uzoo_Rm',(r'm_{MICZ}','nampiszoo','s$^{-1}$')),\n",
    "('zz_rate_mesozoo_Rm',(r'm_{MESZ}','nampismezo','s$^{-1}$')),\n",
    "('zz_rate_uzoo_excr',(r'e_{MICZ}','nampiszoo','s$^{-1}$')),\n",
    "('zz_rate_mesozoo_excr',(r'e_{MESZ}','nampismezo','s$^{-1}$'))])"
   ]
  },
  {
   "cell_type": "code",
   "execution_count": 16,
   "metadata": {},
   "outputs": [],
   "source": [
    "# make table for paper\n",
    "ikey='Mortality'\n",
    "lines=list()\n",
    "lines.append(r'   \\small'+'\\n')\n",
    "lines.append(r'   \\centering'+'\\n')\n",
    "lines.append(r'   \\begin{tabular}{lrrl}\\toprule'+'\\n')\n",
    "lines.append(r'    Parameter & Current Value & Previous value & Units \\\\ \\midrule'+'\\n')\n",
    "for ivar in matchDict[ikey]:\n",
    "    iltx=matchDict[ikey][ivar][0]\n",
    "    ival=nml[matchDict[ikey][ivar][1]][ivar]\n",
    "    ivalold=nmlold[matchDict[ikey][ivar][1]][ivar]\n",
    "    iunits=matchDict[ikey][ivar][2]\n",
    "    lines.append(r'     ${}$ & {} & {} & {} \\\\'.format(iltx,ival,ivalold,iunits)+'\\n')\n",
    "lines.append(r'   \\midrule'+'\\n')\n",
    "lines.append(r' \\\\ \\\\')\n",
    "lines.append(r'   \\end{tabular}'+'\\n')\n",
    "\n",
    "f = open('MortTBL.tex', 'w')\n",
    "f.writelines(lines)\n",
    "f.close()"
   ]
  },
  {
   "cell_type": "code",
   "execution_count": 17,
   "metadata": {},
   "outputs": [],
   "source": [
    "matchDict['Remineralization'] = OrderedDict([\n",
    "('zz_remin_NH',(r'b_{\\textrm{NH}}^{\\textrm{NO}}','nampisrem',r's$^{-1}$ ($\\upmu$M N)$^{-1}$')), \n",
    "('zz_remin_D_DON',(r'b_{\\textrm{DON}}^{\\textrm{NH}}','nampisrem','s$^{-1}$')), \n",
    "('zz_remin_D_PON',(r'b_{\\textrm{PON}}^{\\textrm{NH}}','nampisrem','s$^{-1}$')), \n",
    "('zz_remin_D_bSi',(r'b_{\\textrm{bSi}}^{\\textrm{dSi}}','nampisrem','s$^{-1}$'))])"
   ]
  },
  {
   "cell_type": "code",
   "execution_count": 18,
   "metadata": {},
   "outputs": [],
   "source": [
    "# make table for paper\n",
    "ikey='Remineralization'\n",
    "lines=list()\n",
    "lines.append(r'   \\small'+'\\n')\n",
    "lines.append(r'   \\centering'+'\\n')\n",
    "lines.append(r'   \\begin{tabular}{lrrl}\\toprule'+'\\n')\n",
    "lines.append(r'    Parameter & Current Value & Previous value & Units \\\\ \\midrule'+'\\n')\n",
    "for ivar in matchDict[ikey]:\n",
    "    iltx=matchDict[ikey][ivar][0]\n",
    "    ival=nml[matchDict[ikey][ivar][1]][ivar]\n",
    "    ivalold=nmlold[matchDict[ikey][ivar][1]][ivar]\n",
    "    iunits=matchDict[ikey][ivar][2]\n",
    "    lines.append(r'     ${}$ & {} & {} & {} \\\\'.format(iltx,ival,ivalold,iunits)+'\\n')\n",
    "lines.append(r'   \\midrule'+'\\n')\n",
    "lines.append(r' \\\\ \\\\')\n",
    "lines.append(r'   \\end{tabular}'+'\\n')\n",
    "\n",
    "f = open('ReminTBL.tex', 'w')\n",
    "f.writelines(lines)\n",
    "f.close()"
   ]
  },
  {
   "cell_type": "code",
   "execution_count": 19,
   "metadata": {},
   "outputs": [],
   "source": [
    "matchDict['Light'] = OrderedDict([\n",
    "('zzialpha',(r'\\gamma','nampisopt','m$^{-1}$')), \n",
    "('zzibeta',(r'\\beta','nampisopt','m$^{-1}$')), \n",
    "('zzitheta',(r'\\lambda','nampisopt','m$^{-1}$')), \n",
    "('zzidl',(r'\\delta','nampisopt','m')), \n",
    "('zzN2chl',(r'a_{\\textrm{Chl:N}}','nampisopt','g Chl (mol N)$^{-1}$'))])\n",
    "\n",
    "# note: in 201812 runs chl:N was set to 2.0, but in analysis 1.6 was used, \n",
    "# so numbers in namelist for alpha have to be rescaled\n",
    "# need to solve betaRun*(2.0N)^0.665=betaTrue*(1.6N)^.665;\n",
    "#   betaTrue=betaRun*(2.0/1.6)^.665; \n",
    "# these are changed in cell 3"
   ]
  },
  {
   "cell_type": "code",
   "execution_count": 20,
   "metadata": {
    "collapsed": false,
    "jupyter": {
     "outputs_hidden": false
    }
   },
   "outputs": [
    {
     "data": {
      "text/plain": [
       "(0.0502, 0.0433)"
      ]
     },
     "execution_count": 20,
     "metadata": {},
     "output_type": "execute_result"
    }
   ],
   "source": [
    "np.round(0.0433*(2.0/1.6)**.665,4),nml['nampisopt']['zzibeta']"
   ]
  },
  {
   "cell_type": "code",
   "execution_count": 21,
   "metadata": {},
   "outputs": [],
   "source": [
    "# make table for paper\n",
    "ikey='Light'\n",
    "lines=list()\n",
    "lines.append(r'   \\small'+'\\n')\n",
    "lines.append(r'   \\centering'+'\\n')\n",
    "lines.append(r'   \\begin{tabular}{lrrl}\\toprule'+'\\n')\n",
    "lines.append(r'    Parameter & Current Value & Previous value & Units \\\\ \\midrule'+'\\n')\n",
    "for ivar in matchDict[ikey]:\n",
    "    iltx=matchDict[ikey][ivar][0]\n",
    "    ival=nml[matchDict[ikey][ivar][1]][ivar]\n",
    "    ivalold=nmlold[matchDict[ikey][ivar][1]][ivar]\n",
    "    iunits=matchDict[ikey][ivar][2]\n",
    "    lines.append(r'     ${}$ & {} & {} & {} \\\\'.format(iltx,ival,ivalold,iunits)+'\\n')\n",
    "lines.append(r'   \\midrule'+'\\n')\n",
    "lines.append(r'\\multicolumn{4}{l}{\\textsuperscript{a} \\footnotesize In the 1-d model \\cite{Collins2009, AllenWolfe2013}, $\\lambda$ included } \\\\')\n",
    "lines.append(r'\\multicolumn{4}{l}{\\footnotesize an additional term related to Fraser River discharge, $Q$, tuned to represent } \\\\')\n",
    "lines.append(r'\\multicolumn{4}{l}{\\footnotesize light attenuation due to riverine suspended sediment at the 1-d model site.} \\\\ \\\\')\n",
    "lines.append(r'   \\end{tabular}'+'\\n')\n",
    "f = open('LightTBL.tex', 'w')\n",
    "f.writelines(lines)\n",
    "f.close()"
   ]
  },
  {
   "cell_type": "code",
   "execution_count": 22,
   "metadata": {},
   "outputs": [],
   "source": [
    "matchDict['Sinking and Bottom Boundary Condition'] = OrderedDict([\n",
    "('zz_w_sink_Pmicro_min',(r'w_{s\\mathrm{min}}^{DIAT}','nampissink','m s$^{-1}$ [m d$^{-1}$]')), \n",
    "('zz_w_sink_Pmicro_max',(r'w_{s\\mathrm{max}}^{DIAT}','nampissink','m s$^{-1}$ [m d$^{-1}$]')), \n",
    "('zz_w_sink_D_PON',(r'w_{s}^{PON}','nampissink','m s$^{-1}$ [m d$^{-1}$]')), \n",
    "('zz_w_sink_D_bSi',(r'w_{s}^{bSi}','nampissink','m s$^{-1}$ [m d$^{-1}$]')), \n",
    "('zz_alpha_b_Si',(r'\\alpha_b^{Si}','nampissink','')), \n",
    "('zz_alpha_b_N',(r'\\alpha_b^{N}','nampissink',''))])"
   ]
  },
  {
   "cell_type": "code",
   "execution_count": 23,
   "metadata": {},
   "outputs": [],
   "source": [
    "# make table for paper\n",
    "ikey='Sinking and Bottom Boundary Condition'\n",
    "lines=list()\n",
    "lines.append(r'   \\small'+'\\n')\n",
    "lines.append(r'   \\centering'+'\\n')\n",
    "lines.append(r'   \\begin{tabular}{lrrl}\\toprule'+'\\n')\n",
    "lines.append(r'    Parameter & Current Value & Previous value & Units \\\\ \\midrule'+'\\n')\n",
    "for ivar in matchDict[ikey]:\n",
    "    iltx=matchDict[ikey][ivar][0]\n",
    "    ival=nml[matchDict[ikey][ivar][1]][ivar]\n",
    "    ivalold=nmlold[matchDict[ikey][ivar][1]][ivar]\n",
    "    iunits=matchDict[ikey][ivar][2]\n",
    "    lines.append(r'     ${}$ & {} & {} & {} \\\\'.format(iltx,ival,ivalold,iunits)+'\\n')\n",
    "lines.append(r'   \\midrule'+'\\n')\n",
    "lines.append(r' \\\\ \\\\')\n",
    "lines.append(r'   \\end{tabular}'+'\\n')\n",
    "\n",
    "f = open('SinkingBBCTBL.tex', 'w')\n",
    "f.writelines(lines)\n",
    "f.close()"
   ]
  },
  {
   "cell_type": "code",
   "execution_count": null,
   "metadata": {
    "collapsed": true,
    "jupyter": {
     "outputs_hidden": true
    }
   },
   "outputs": [],
   "source": []
  },
  {
   "cell_type": "code",
   "execution_count": 24,
   "metadata": {},
   "outputs": [],
   "source": [
    "nml1=nml\n",
    "transferDict=OrderedDict([\n",
    "    (r'FLAG\\rightarrow MRUB',\n",
    "     (nml1['nampismes']['zz_frac_waste_FEN_NH'],\n",
    "      nml1['nampismes']['zz_frac_waste_FEN_DON'],\n",
    "      nml1['nampismes']['zz_frac_waste_FEN_PON'],\n",
    "      '-')),\n",
    "    (r'DIAT\\rightarrow MICZ',\n",
    "     (nml1['nampiszoo']['zz_frac_waste_DEZ_NH'],\n",
    "      nml1['nampiszoo']['zz_frac_waste_DEZ_DON'],\n",
    "      nml1['nampiszoo']['zz_frac_waste_DEZ_PON'],\n",
    "      nml1['nampiszoo']['zz_frac_waste_DEZ_Bsi'])),\n",
    "    (r'MRUB\\rightarrow MICZ',\n",
    "     (nml1['nampiszoo']['zz_frac_waste_NEZ_NH'],\n",
    "      nml1['nampiszoo']['zz_frac_waste_NEZ_DON'],\n",
    "      nml1['nampiszoo']['zz_frac_waste_NEZ_PON'],\n",
    "      '-')),\n",
    "    (r'FLAG\\rightarrow MICZ',\n",
    "     (nml1['nampiszoo']['zz_frac_waste_FEZ_NH'],\n",
    "      nml1['nampiszoo']['zz_frac_waste_FEZ_DON'],\n",
    "      nml1['nampiszoo']['zz_frac_waste_FEZ_PON'],\n",
    "      '-')),\n",
    "    (r'MICZ\\rightarrow MICZ',\n",
    "     (nml1['nampiszoo']['zz_frac_waste_ZEZ_NH'],\n",
    "      nml1['nampiszoo']['zz_frac_waste_ZEZ_DON'],\n",
    "      nml1['nampiszoo']['zz_frac_waste_ZEZ_PON'],\n",
    "      '-')),\n",
    "    (r'PON\\rightarrow MICZ',\n",
    "     (nml1['nampiszoo']['zz_frac_waste_PEZ_NH'],\n",
    "      nml1['nampiszoo']['zz_frac_waste_PEZ_DON'],\n",
    "      nml1['nampiszoo']['zz_frac_waste_PEZ_PON'],\n",
    "      '-')),\n",
    "    (r'MICZ\\rightarrow MORT',\n",
    "     (nml1['nampiszoo']['zz_frac_waste_ZNM_NH'],\n",
    "      nml1['nampiszoo']['zz_frac_waste_ZNM_DON'],\n",
    "      nml1['nampiszoo']['zz_frac_waste_ZNM_PON'],\n",
    "      '-')),\n",
    "    (r'MICZ\\rightarrow EXCR',\n",
    "     (nml1['nampiszoo']['zz_frac_waste_ZEX_NH'],\n",
    "      nml1['nampiszoo']['zz_frac_waste_ZEX_DON'],\n",
    "      nml1['nampiszoo']['zz_frac_waste_ZEX_PON'],\n",
    "      '-')),\n",
    "    (r'DIAT\\rightarrow MESZ',\n",
    "     (nml1['nampismezo']['zz_frac_waste_DEM_NH'],\n",
    "      nml1['nampismezo']['zz_frac_waste_DEM_DON'],\n",
    "      nml1['nampismezo']['zz_frac_waste_DEM_PON'],\n",
    "      nml['nampismezo']['zz_frac_waste_DEM_BSi'])),\n",
    "    (r'MRUB\\rightarrow MESZ',\n",
    "     (nml1['nampismezo']['zz_frac_waste_NEM_NH'],\n",
    "      nml1['nampismezo']['zz_frac_waste_NEM_DON'],\n",
    "      nml1['nampismezo']['zz_frac_waste_NEM_PON'],\n",
    "      '-')),\n",
    "    (r'FLAG\\rightarrow MESZ',\n",
    "     (nml1['nampismezo']['zz_frac_waste_FEM_NH'],\n",
    "      nml1['nampismezo']['zz_frac_waste_FEM_DON'],\n",
    "      nml1['nampismezo']['zz_frac_waste_FEM_PON'],\n",
    "      '-')),\n",
    "    (r'MICZ\\rightarrow MESZ',\n",
    "     (nml1['nampismezo']['zz_frac_waste_ZEM_NH'],\n",
    "      nml1['nampismezo']['zz_frac_waste_ZEM_DON'],\n",
    "      nml1['nampismezo']['zz_frac_waste_ZEM_PON'],\n",
    "      '-')),\n",
    "    (r'PON\\rightarrow MESZ',\n",
    "     (nml1['nampismezo']['zz_frac_waste_PEM_NH'],\n",
    "      nml1['nampismezo']['zz_frac_waste_PEM_DON'],\n",
    "      nml1['nampismezo']['zz_frac_waste_PEM_PON'],\n",
    "      '-')),\n",
    "    (r'MESZ\\rightarrow MORT',\n",
    "     (nml1['nampismezo']['zz_frac_waste_MNM_NH'],\n",
    "      nml1['nampismezo']['zz_frac_waste_MNM_DON'],\n",
    "      nml1['nampismezo']['zz_frac_waste_MNM_PON'],\n",
    "      '-')),\n",
    "    (r'MESZ\\rightarrow EXCR',\n",
    "     (nml1['nampismezo']['zz_frac_waste_MEX_NH'],\n",
    "      nml1['nampismezo']['zz_frac_waste_MEX_DON'],\n",
    "      nml1['nampismezo']['zz_frac_waste_MEX_PON'],\n",
    "      '-'))])"
   ]
  },
  {
   "cell_type": "code",
   "execution_count": 25,
   "metadata": {},
   "outputs": [],
   "source": [
    "nml1=nmlold\n",
    "transferDict2=OrderedDict([\n",
    "    (r'FLAG\\rightarrow MRUB',\n",
    "     (nml1['nampismes']['zz_frac_waste_FEN_NH'],\n",
    "      nml1['nampismes']['zz_frac_waste_FEN_DON'],\n",
    "      nml1['nampismes']['zz_frac_waste_FEN_PON'],\n",
    "      '-')),\n",
    "    (r'DIAT\\rightarrow MICZ',\n",
    "     (nml1['nampiszoo']['zz_frac_waste_DEZ_NH'],\n",
    "      nml1['nampiszoo']['zz_frac_waste_DEZ_DON'],\n",
    "      nml1['nampiszoo']['zz_frac_waste_DEZ_PON'],\n",
    "      nml1['nampiszoo']['zz_frac_waste_DEZ_Bsi'])),\n",
    "    (r'MRUB\\rightarrow MICZ',\n",
    "     (nml1['nampiszoo']['zz_frac_waste_NEZ_NH'],\n",
    "      nml1['nampiszoo']['zz_frac_waste_NEZ_DON'],\n",
    "      nml1['nampiszoo']['zz_frac_waste_NEZ_PON'],\n",
    "      '-')),\n",
    "    (r'FLAG\\rightarrow MICZ',\n",
    "     (nml1['nampiszoo']['zz_frac_waste_FEZ_NH'],\n",
    "      nml1['nampiszoo']['zz_frac_waste_FEZ_DON'],\n",
    "      nml1['nampiszoo']['zz_frac_waste_FEZ_PON'],\n",
    "      '-')),\n",
    "    (r'MICZ\\rightarrow MICZ',\n",
    "     (nml1['nampiszoo']['zz_frac_waste_ZEZ_NH'],\n",
    "      nml1['nampiszoo']['zz_frac_waste_ZEZ_DON'],\n",
    "      nml1['nampiszoo']['zz_frac_waste_ZEZ_PON'],\n",
    "      '-')),\n",
    "    (r'PON\\rightarrow MICZ',\n",
    "     (nml1['nampiszoo']['zz_frac_waste_PEZ_NH'],\n",
    "      nml1['nampiszoo']['zz_frac_waste_PEZ_DON'],\n",
    "      nml1['nampiszoo']['zz_frac_waste_PEZ_PON'],\n",
    "      '-')),\n",
    "    (r'MICZ\\rightarrow MORT',\n",
    "     (nml1['nampiszoo']['zz_frac_waste_ZNM_NH'],\n",
    "      nml1['nampiszoo']['zz_frac_waste_ZNM_DON'],\n",
    "      nml1['nampiszoo']['zz_frac_waste_ZNM_PON'],\n",
    "      '-')),\n",
    "    (r'MICZ\\rightarrow EXCR',\n",
    "     (nml1['nampiszoo']['zz_frac_waste_ZEX_NH'],\n",
    "      nml1['nampiszoo']['zz_frac_waste_ZEX_DON'],\n",
    "      nml1['nampiszoo']['zz_frac_waste_ZEX_PON'],\n",
    "      '-')),\n",
    "    (r'DIAT\\rightarrow MESZ',\n",
    "     (nml1['nampismezo']['zz_frac_waste_DEM_NH'],\n",
    "      nml1['nampismezo']['zz_frac_waste_DEM_DON'],\n",
    "      nml1['nampismezo']['zz_frac_waste_DEM_PON'],\n",
    "      nml['nampismezo']['zz_frac_waste_DEM_BSi'])),\n",
    "    (r'MRUB\\rightarrow MESZ',\n",
    "     (nml1['nampismezo']['zz_frac_waste_NEM_NH'],\n",
    "      nml1['nampismezo']['zz_frac_waste_NEM_DON'],\n",
    "      nml1['nampismezo']['zz_frac_waste_NEM_PON'],\n",
    "      '-')),\n",
    "    (r'FLAG\\rightarrow MESZ',\n",
    "     (nml1['nampismezo']['zz_frac_waste_FEM_NH'],\n",
    "      nml1['nampismezo']['zz_frac_waste_FEM_DON'],\n",
    "      nml1['nampismezo']['zz_frac_waste_FEM_PON'],\n",
    "      '-')),\n",
    "    (r'MICZ\\rightarrow MESZ',\n",
    "     (nml1['nampismezo']['zz_frac_waste_ZEM_NH'],\n",
    "      nml1['nampismezo']['zz_frac_waste_ZEM_DON'],\n",
    "      nml1['nampismezo']['zz_frac_waste_ZEM_PON'],\n",
    "      '-')),\n",
    "    (r'PON\\rightarrow MESZ',\n",
    "     (nml1['nampismezo']['zz_frac_waste_PEM_NH'],\n",
    "      nml1['nampismezo']['zz_frac_waste_PEM_DON'],\n",
    "      nml1['nampismezo']['zz_frac_waste_PEM_PON'],\n",
    "      '-')),\n",
    "    (r'MESZ\\rightarrow MORT',\n",
    "     (nml1['nampismezo']['zz_frac_waste_MNM_NH'],\n",
    "      nml1['nampismezo']['zz_frac_waste_MNM_DON'],\n",
    "      nml1['nampismezo']['zz_frac_waste_MNM_PON'],\n",
    "      '-')),\n",
    "    (r'MESZ\\rightarrow EXCR',\n",
    "     (nml1['nampismezo']['zz_frac_waste_MEX_NH'],\n",
    "      nml1['nampismezo']['zz_frac_waste_MEX_DON'],\n",
    "      nml1['nampismezo']['zz_frac_waste_MEX_PON'],\n",
    "      '-'))])"
   ]
  },
  {
   "cell_type": "code",
   "execution_count": 26,
   "metadata": {},
   "outputs": [],
   "source": [
    "# make table for paper\n",
    "ikey='Detrital Transfer Coefficients'\n",
    "lines=list()\n",
    "lines.append(r'   \\small'+'\\n')\n",
    "lines.append(r'   \\centering'+'\\n')\n",
    "lines.append(r'   \\begin{tabular}{ccccclcccc}\\toprule'+'\\n')\n",
    "lines.append(r'      & \\multicolumn{4}{c}{Current Values} & \\phantom{i} & \\multicolumn{4}{c}{Previous Values} \\\\ \\cmidrule{2-5} \\cmidrule{7-10}'+'\\n')\n",
    "lines.append(r'    $j\\rightarrow k$ & $i$=NH$_4^+$ & $i$=DON & $i$=PON & $i$=bSi & & $i$=NH$_4^+$ & $i$=DON & $i$=PON & $i$=bSi \\\\ \\midrule'+'\\n')\n",
    "for ivar in transferDict.keys():\n",
    "    lines.append(r'     ${}$ & {} & {} & {} & {} & & {} & {} & {} & {} \\\\'.format(ivar,*transferDict[ivar],*transferDict2[ivar])+'\\n')\n",
    "lines.append(r'   \\midrule'+'\\n')\n",
    "lines.append(r'   \\end{tabular}'+'\\n')\n",
    "\n",
    "f = open('DetritalTransferTBL.tex', 'w')\n",
    "f.writelines(lines)\n",
    "f.close()"
   ]
  },
  {
   "cell_type": "code",
   "execution_count": 27,
   "metadata": {},
   "outputs": [],
   "source": [
    "# make table for paper- all non-zoop\n",
    "ikey='Photosynthetic Growth'\n",
    "lines=list()\n",
    "lines.append(r'   \\small'+'\\n')\n",
    "lines.append(r'   \\centering'+'\\n')\n",
    "lines.append(r'   \\begin{tabular}{lrrl}\\toprule'+'\\n')\n",
    "lines.append(r'    Parameter & Current Value & Previous value & Units \\\\ \\midrule'+'\\n')\n",
    "for ivar in matchDict[ikey]:\n",
    "    iltx=matchDict[ikey][ivar][0]\n",
    "    ival=nml[matchDict[ikey][ivar][1]][ivar]\n",
    "    ivalold=nmlold[matchDict[ikey][ivar][1]][ivar]\n",
    "    iunits=matchDict[ikey][ivar][2]\n",
    "    if not ival==ivalold:\n",
    "        lines.append(r'     ${}$ & {} & {} & {} \\\\'.format(iltx,ival,ivalold,iunits)+'\\n')\n",
    "lines.append(r'   \\midrule'+'\\n')\n",
    "\n",
    "# make table for paper\n",
    "ikey='Mortality'\n",
    "for ivar in matchDict[ikey]:\n",
    "    iltx=matchDict[ikey][ivar][0]\n",
    "    ival=nml[matchDict[ikey][ivar][1]][ivar]\n",
    "    ivalold=nmlold[matchDict[ikey][ivar][1]][ivar]\n",
    "    iunits=matchDict[ikey][ivar][2]\n",
    "    if not ival==ivalold:\n",
    "        lines.append(r'     ${}$ & {} & {} & {} \\\\'.format(iltx,ival,ivalold,iunits)+'\\n')\n",
    "lines.append(r'   \\midrule'+'\\n')\n",
    "\n",
    "# make table for paper\n",
    "ikey='Remineralization'\n",
    "for ivar in matchDict[ikey]:\n",
    "    iltx=matchDict[ikey][ivar][0]\n",
    "    ival=nml[matchDict[ikey][ivar][1]][ivar]\n",
    "    ivalold=nmlold[matchDict[ikey][ivar][1]][ivar]\n",
    "    iunits=matchDict[ikey][ivar][2]\n",
    "    if not ival==ivalold:\n",
    "        lines.append(r'     ${}$ & {} & {} & {} \\\\'.format(iltx,ival,ivalold,iunits)+'\\n')\n",
    "lines.append(r'   \\midrule'+'\\n')\n",
    "\n",
    "# make table for paper\n",
    "ikey='Light'\n",
    "for ivar in matchDict[ikey]:\n",
    "    iltx=matchDict[ikey][ivar][0]\n",
    "    ival=nml[matchDict[ikey][ivar][1]][ivar]\n",
    "    ivalold=nmlold[matchDict[ikey][ivar][1]][ivar]\n",
    "    iunits=matchDict[ikey][ivar][2]\n",
    "    if not ival==ivalold:\n",
    "        lines.append(r'     ${}$ & {} & {} & {} \\\\'.format(iltx,ival,ivalold,iunits)+'\\n')\n",
    "lines.append(r'   \\midrule'+'\\n')\n",
    "\n",
    "# make table for paper\n",
    "ikey='Sinking and Bottom Boundary Condition'\n",
    "for ivar in matchDict[ikey]:\n",
    "    iltx=matchDict[ikey][ivar][0]\n",
    "    ival=nml[matchDict[ikey][ivar][1]][ivar]\n",
    "    ivalold=nmlold[matchDict[ikey][ivar][1]][ivar]\n",
    "    iunits=matchDict[ikey][ivar][2]\n",
    "    if not ival==ivalold:\n",
    "        lines.append(r'     ${}$ & {} & {} & {} \\\\'.format(iltx,ival,ivalold,iunits)+'\\n')\n",
    "lines.append(r'   \\midrule'+'\\n')\n",
    "# cut here if add transfer coeffs\n",
    "lines.append(r' \\\\ \\\\')\n",
    "lines.append(r'   \\end{tabular}'+'\\n')\n",
    "\n",
    "# make table for paper\n",
    "ikey='Detrital Transfer Coefficients'\n",
    "# need to redo format or keep separate\n",
    "\n",
    "f = open('OtherChangedParamsTBL.tex', 'w')\n",
    "f.writelines(lines)\n",
    "f.close()"
   ]
  },
  {
   "cell_type": "code",
   "execution_count": null,
   "metadata": {
    "collapsed": true,
    "jupyter": {
     "outputs_hidden": true
    }
   },
   "outputs": [],
   "source": []
  }
 ],
 "metadata": {
  "anaconda-cloud": {},
  "kernelspec": {
   "display_name": "Python 3",
   "language": "python",
   "name": "python3"
  },
  "language_info": {
   "codemirror_mode": {
    "name": "ipython",
    "version": 3
   },
   "file_extension": ".py",
   "mimetype": "text/x-python",
   "name": "python",
   "nbconvert_exporter": "python",
   "pygments_lexer": "ipython3",
   "version": "3.7.4"
  }
 },
 "nbformat": 4,
 "nbformat_minor": 4
}
