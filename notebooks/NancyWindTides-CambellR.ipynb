{
 "cells": [
  {
   "cell_type": "markdown",
   "metadata": {},
   "source": [
    "tides and winds\n"
   ]
  },
  {
   "cell_type": "code",
   "execution_count": 1,
   "metadata": {
    "collapsed": false,
    "scrolled": true
   },
   "outputs": [],
   "source": [
    "import netCDF4 as nc\n",
    "import matplotlib.pyplot as plt\n",
    "import numpy as np\n",
    "import datetime\n",
    "import os\n",
    "import glob\n",
    "import csv\n",
    "import pandas as pd\n",
    "from dateutil import tz\n",
    "import seaborn as sns\n",
    "\n",
    "from salishsea_tools import viz_tools, grid_tools\n",
    "from salishsea_tools import tidetools, places\n",
    "import matplotlib.dates as md\n",
    "\n",
    "%matplotlib inline"
   ]
  },
  {
   "cell_type": "code",
   "execution_count": 2,
   "metadata": {
    "collapsed": false
   },
   "outputs": [],
   "source": [
    "sns.set_palette('gray')\n",
    "sns.set_style('ticks')\n",
    "sns.set_color_codes\n",
    "start=datetime.datetime(2015,2,6)\n",
    "end=datetime.datetime(2015,8,4)\n",
    "times= [start + datetime.timedelta(days=x) for x in range(0, (end-start).days)]"
   ]
  },
  {
   "cell_type": "code",
   "execution_count": 3,
   "metadata": {
    "collapsed": true
   },
   "outputs": [],
   "source": [
    "def list_wind_files(\n",
    "    to, tf,\n",
    "    wind_dir='/results/forcing/atmospheric/GEM2.5/operational/'\n",
    "):\n",
    "    \"\"\"List operational wind files in date range [to, tf]\n",
    "\n",
    "    :arg to: beginning of date range\n",
    "    :type to: datetime object\n",
    "\n",
    "    :arg tf: end of date range\n",
    "    :type tf: datetime object\n",
    "\n",
    "    :arg wind_dir: directory were wind files are stored\n",
    "    :type wind_dir: str\n",
    "\n",
    "    :returns: filesOP, a list of files in date range\n",
    "    \"\"\"\n",
    "    sstr = to.strftime('ops_y%Ym%md%d.nc')\n",
    "    estr = tf.strftime('ops_y%Ym%md%d.nc')\n",
    "    files = glob.glob(os.path.join(wind_dir, 'ops_*.nc'))\n",
    "    filesOP = []\n",
    "    for filename in files:\n",
    "        if os.path.basename(filename) >= sstr:\n",
    "            if os.path.basename(filename) <= estr:\n",
    "                if not filename.endswith('orig.nc'):\n",
    "                    filesOP.append(filename)\n",
    "        filesOP.sort(key=os.path.basename)\n",
    "    filesOP.sort(key=os.path.basename)\n",
    "    return filesOP"
   ]
  },
  {
   "cell_type": "code",
   "execution_count": 4,
   "metadata": {
    "collapsed": true
   },
   "outputs": [],
   "source": [
    "def compile_winds(j, i, files):\n",
    "    \"\"\"\n",
    "    Compile a time series of operational atmospheric products stored in files\n",
    "    at grid point j, i. First 24 hours of each file is used\n",
    "\n",
    "    :arg j: the y-index of the grid point\n",
    "    :type j: non-negative integer\n",
    "\n",
    "    :arg i: the x-index of the grid point\n",
    "    :type i: non-negative interger\n",
    "\n",
    "    :arg files: list of atmospheric operational files\n",
    "    :type files: list\n",
    "\n",
    "    :returns: wind, direc, t, pr, tem, sol, the, qr, pre, all arrays\n",
    "    wind speed, diretion, time, pressure, temperature, solar radiation,\n",
    "    humidity, precipitation.\n",
    "\n",
    "    \"\"\"\n",
    "    wind = []\n",
    "    direc = []\n",
    "    t = []\n",
    "    pr = []\n",
    "    sol = []\n",
    "    the = []\n",
    "    pre = []\n",
    "    tem = []\n",
    "    qr = []\n",
    "    for f in files:\n",
    "        G = nc.Dataset(f)\n",
    "        u = G.variables['u_wind'][0:24, j, i]\n",
    "        v = G.variables['v_wind'][0:24, j, i]\n",
    "        pr.append(G.variables['atmpres'][0:24, j, i])\n",
    "        sol.append(G.variables['solar'][0:24, j, i])\n",
    "        qr.append(G.variables['qair'][0:24, j, i])\n",
    "        the.append(G.variables['therm_rad'][0:24, j, i])\n",
    "        pre.append(G.variables['precip'][0:24, j, i])\n",
    "        tem.append(G.variables['tair'][0:24, j, i])\n",
    "        speed = np.sqrt(u**2 + v**2)\n",
    "        wind.append(speed)\n",
    "\n",
    "        d = np.arctan2(v, u)\n",
    "        d = np.rad2deg(d + (d < 0)*2*np.pi)\n",
    "        direc.append(d)\n",
    "\n",
    "        ts = G.variables['time_counter']\n",
    "        torig = datetime.datetime(1970, 1, 1)\n",
    "        # there is no time_origin attriubte in OP files, so I hard coded torig\n",
    "        for ind in np.arange(24):\n",
    "            t.append(torig + datetime.timedelta(seconds=ts[ind]))\n",
    "    numdays = len(files)\n",
    "    wind = np.array(wind).reshape(numdays*24,)\n",
    "    direc = np.array(direc, 'double').reshape(numdays*24,)\n",
    "    t = np.array(t).reshape(numdays*24,)\n",
    "    pr = np.array(pr).reshape(numdays*24,)\n",
    "    tem = np.array(tem).reshape(numdays*24,)\n",
    "    sol = np.array(sol).reshape(numdays*24,)\n",
    "    the = np.array(the).reshape(numdays*24,)\n",
    "    qr = np.array(qr).reshape(numdays*24,)\n",
    "    pre = np.array(pre).reshape(numdays*24,)\n",
    "\n",
    "    return wind, direc, t, pr, tem, sol, the, qr, pre"
   ]
  },
  {
   "cell_type": "code",
   "execution_count": 5,
   "metadata": {
    "collapsed": true
   },
   "outputs": [],
   "source": [
    "def find_model_point(lon, lat, X, Y, tol_lon=0.016, tol_lat=0.011):\n",
    "    \"\"\"Finds a model grid point close to a specified latitude and longitude.\n",
    "    Should be used for non-NEMO grids like the atmospheric forcing grid.\n",
    "\n",
    "    :arg lon: The longitude we are trying to match.\n",
    "    :type lon: float\n",
    "\n",
    "    :arg lat: The latitude we are trying to match.\n",
    "    :type lat: float\n",
    "\n",
    "    :arg X: The model longitude grid.\n",
    "    :type X: numpy array\n",
    "\n",
    "    :arg Y: The model latitude grid.\n",
    "    :type Y: numpy array\n",
    "\n",
    "    :arg tol_lon: tolerance on grid spacing for longitude\n",
    "    :type tol_lon: float\n",
    "\n",
    "    :arg tol_lat: tolerance on grid spacing for latitude\n",
    "    :type tol_lat: float\n",
    "\n",
    "    :returns: j-index and i-index of the closest model grid point.\n",
    "    \"\"\"\n",
    "\n",
    "    # Search for a grid point with longitude or latitude within\n",
    "    # tolerance of measured location\n",
    "    j, i = np.where(\n",
    "        np.logical_and(\n",
    "            (np.logical_and(X > lon - tol_lon, X < lon + tol_lon)),\n",
    "            (np.logical_and(Y > lat - tol_lat, Y < lat + tol_lat))))\n",
    "\n",
    "    if j.size > 1 or i.size > 1:\n",
    "        raise ValueError(\n",
    "            'Multiple model points found. tol_lon/tol_lat too big.'\n",
    "        )\n",
    "    elif not j or not i:\n",
    "        raise ValueError(\n",
    "            'No model point found. tol_lon/tol_lat too small or '\n",
    "            'lon/lat outside of domain.'\n",
    "        )\n",
    "    return j, i"
   ]
  },
  {
   "cell_type": "code",
   "execution_count": 6,
   "metadata": {
    "collapsed": true
   },
   "outputs": [],
   "source": [
    "def load_tidal_predictions(filename):\n",
    "    \"\"\"Load tidal prediction from a file.\n",
    "\n",
    "    :arg str filename: The path and file name of a CSV file that contains\n",
    "                       ttide tidal predictions generated by\n",
    "                       :kbd:`get_ttide_8.m`.\n",
    "\n",
    "    :returns: ttide: Tidal predictions and mean sea level,\n",
    "                     the mean component from the harmonic analysis.\n",
    "    :rtype: :py:class:`pandas.DataFrame`\n",
    "    \"\"\"\n",
    "    with open(filename) as f:\n",
    "        mycsv = list(csv.reader(f))\n",
    "        msl = float(mycsv[1][1])\n",
    "    ttide = pd.read_csv(\n",
    "        filename, skiprows=3, parse_dates=[0], date_parser=dateParserMeasured2)\n",
    "    ttide = ttide.rename(\n",
    "        columns={\n",
    "            'Time_Local ': 'time',\n",
    "            ' pred_8 ': 'pred_8',\n",
    "            ' pred_all ': 'pred_all',\n",
    "        })\n",
    "    return ttide, msl\n"
   ]
  },
  {
   "cell_type": "code",
   "execution_count": 7,
   "metadata": {
    "collapsed": true
   },
   "outputs": [],
   "source": [
    "def dateParserMeasured2(s):\n",
    "    \"\"\"\n",
    "    converts string in %d-%b-%Y %H:%M:%S format Pacific time to a\n",
    "    datetime object UTC time.\n",
    "    \"\"\"\n",
    "    PST = tz.tzoffset(\"PST\", -28800)\n",
    "    # convert the string to a datetime object\n",
    "    unaware = datetime.datetime.strptime(s, \"%d-%b-%Y %H:%M:%S \")\n",
    "    # add in the local time zone (Canada/Pacific)\n",
    "    aware = unaware.replace(tzinfo=PST)\n",
    "    # convert to UTC\n",
    "    return aware.astimezone(tz.tzutc())\n"
   ]
  },
  {
   "cell_type": "markdown",
   "metadata": {},
   "source": [
    "# Load Mesh and Grid"
   ]
  },
  {
   "cell_type": "code",
   "execution_count": 8,
   "metadata": {
    "collapsed": true
   },
   "outputs": [],
   "source": [
    "SITES = places.PLACES"
   ]
  },
  {
   "cell_type": "code",
   "execution_count": 9,
   "metadata": {
    "collapsed": false
   },
   "outputs": [
    {
     "data": {
      "text/plain": [
       "{'Boundary Bay': {'NEMO grid ji': (380, 335),\n",
       "  'hist max sea lvl': 5.61,\n",
       "  'lon lat': (-122.925, 49.0),\n",
       "  'mean sea lvl': 3.09,\n",
       "  'stn number': None,\n",
       "  'wind grid ji': (129, 162),\n",
       "  'ww3 grid ji': (222, 439)},\n",
       " 'British Columbia': {'lon lat': (-123.6, 49.9)},\n",
       " 'Calamity Point': {'NEMO grid ji': None,\n",
       "  'lon lat': (-123.1276, 49.31262),\n",
       "  'mean sea lvl': 3.09,\n",
       "  'stn number': 7724,\n",
       "  'ww3 grid ji': None},\n",
       " 'Campbell River': {'NEMO grid ji': (747, 125),\n",
       "  'hist max sea lvl': 5.35,\n",
       "  'lon lat': (-125.24, 50.04),\n",
       "  'mean sea lvl': 2.916,\n",
       "  'stn number': 8074,\n",
       "  'wind grid ji': (190, 102),\n",
       "  'ww3 grid ji': (453, 109)},\n",
       " 'Central node': {'NEMO grid ji': (424, 266),\n",
       "  'ONC stationCode': 'SCVIP',\n",
       "  'depth': 294,\n",
       "  'lon lat': (-123.425825, 49.040066666)},\n",
       " 'Cherry Point': {'NEMO grid ji': (343, 342),\n",
       "  'hist max sea lvl': 5.846,\n",
       "  'lon lat': (-122.766667, 48.866667),\n",
       "  'mean sea lvl': 3.543,\n",
       "  'stn number': 9449424,\n",
       "  'wind grid ji': (122, 166),\n",
       "  'ww3 grid ji': (193, 462)},\n",
       " 'Cluster_1': {'NEMO grid ji': (241, 212),\n",
       "  'Vector Stn': '64',\n",
       "  'lon lat': (48.215, -123.099)},\n",
       " 'Cluster_2': {'NEMO grid ji': (294, 127),\n",
       "  'Vector Stn': '69',\n",
       "  'lon lat': (48.261, -123.717)},\n",
       " 'Cluster_3': {'NEMO grid ji': (376, 291),\n",
       "  'Vector Stn': '45',\n",
       "  'lon lat': (48.899, -123.138)},\n",
       " 'Cluster_4': {'NEMO grid ji': (282, 305),\n",
       "  'Vector Stn': '53',\n",
       "  'lon lat': (48.555, -122.75)},\n",
       " 'Cluster_5': {'NEMO grid ji': (344, 271),\n",
       "  'Vector Stn': '57',\n",
       "  'lon lat': (48.735, -123.135)},\n",
       " 'Cluster_6': {'NEMO grid ji': (320, 68),\n",
       "  'Vector Stn': '73',\n",
       "  'lon lat': (48.249, -124.11)},\n",
       " 'Cluster_7': {'NEMO grid ji': (504, 246),\n",
       "  'Vector Stn': '27',\n",
       "  'lon lat': (49.317, -123.801)},\n",
       " 'Cluster_8': {'NEMO grid ji': (646, 168),\n",
       "  'Vector Stn': '12',\n",
       "  'lon lat': (49.726, -124.679)},\n",
       " 'Cluster_9': {'NEMO grid ji': (423, 300), 'lon lat': (49.101, -123.249)},\n",
       " 'Delta BBL node': {'NEMO grid ji': (424, 283),\n",
       "  'ONC stationCode': 'LSBBL',\n",
       "  'depth': 143,\n",
       "  'lon lat': (-123.339633, 49.074766)},\n",
       " 'Delta DDL node': {'NEMO grid ji': (426, 286),\n",
       "  'ONC stationCode': 'USDDL',\n",
       "  'depth': 107,\n",
       "  'lon lat': (-123.32972, 49.08495)},\n",
       " 'Departure Bay': {'lon lat': (-123.8909, 49.1632)},\n",
       " 'Duke Pt.': {'in berth radius': 0.002,\n",
       "  'lon lat': (-123.89095676900132, 49.16340592936349)},\n",
       " 'East node': {'NEMO grid ji': (417, 283),\n",
       "  'ONC stationCode': 'SEVIP',\n",
       "  'depth': 164,\n",
       "  'lon lat': (-123.316836666, 49.04316)},\n",
       " 'Friday Harbor': {'NEMO grid ji': (300, 267),\n",
       "  'hist max sea lvl': 4.572,\n",
       "  'lon lat': (-123.016667, 48.55),\n",
       "  'mean sea lvl': 2.561,\n",
       "  'stn number': 9449880,\n",
       "  'wind grid ji': (108, 155),\n",
       "  'ww3 grid ji': (124, 427)},\n",
       " 'Halfmoon Bay': {'NEMO grid ji': (549, 254),\n",
       "  'hist max sea lvl': 5.61,\n",
       "  'lon lat': (-123.912, 49.511),\n",
       "  'mean sea lvl': 3.14,\n",
       "  'stn number': 7830,\n",
       "  'wind grid ji': (158, 136),\n",
       "  'ww3 grid ji': (331, 297)},\n",
       " 'Halibut Bank': {'EC buoy number': 46146,\n",
       "  'GEM2.5 grid ji': (149, 141),\n",
       "  'NEMO grid ji': (503, 261),\n",
       "  'lon lat': (-123.72, 49.34)},\n",
       " 'Horseshoe Bay': {'lon lat': (-123.2728, 49.3742)},\n",
       " 'Indian Arm Head': {'NEMO grid ji': None,\n",
       "  'lon lat': (-122.8864, 49.4615),\n",
       "  'mean sea lvl': 3.09,\n",
       "  'stn number': 7774,\n",
       "  'ww3 grid ji': None},\n",
       " 'Juan de Fuca Strait': {'lon lat': (-124.7, 48.47)},\n",
       " 'Nanaimo': {'NEMO grid ji': (484, 208),\n",
       "  'hist max sea lvl': 5.47,\n",
       "  'lon lat': (-123.93, 49.16),\n",
       "  'mean sea lvl': 3.08,\n",
       "  'stn number': 7917,\n",
       "  'wind grid ji': (142, 133),\n",
       "  'ww3 grid ji': (261, 298)},\n",
       " 'Neah Bay': {'NEMO grid ji': (384, 15),\n",
       "  'hist max sea lvl': 4.359,\n",
       "  'lon lat': (-124.6, 48.4),\n",
       "  'mean sea lvl': 1.925,\n",
       "  'stn number': 9443090,\n",
       "  'wind grid ji': (111, 105),\n",
       "  'ww3 grid ji': (89, 200)},\n",
       " 'New Westminster': {'NEMO grid ji': (423, 363),\n",
       "  'hist max sea lvl': 4.66,\n",
       "  'lon lat': (-122.90535, 49.203683),\n",
       "  'mean sea lvl': 2.481,\n",
       "  'stn number': 7654,\n",
       "  'wind grid ji': (138, 164)},\n",
       " 'Pacific Ocean': {'lon lat': (-125.6, 48.1)},\n",
       " 'Patricia Bay': {'NEMO grid ji': (351, 214),\n",
       "  'hist max sea lvl': 4.38,\n",
       "  'lon lat': (-123.4515, 48.6536),\n",
       "  'mean sea lvl': 2.256,\n",
       "  'stn number': 7277,\n",
       "  'wind grid ji': (115, 143),\n",
       "  'ww3 grid ji': (145, 363)},\n",
       " 'Point Atkinson': {'NEMO grid ji': (468, 329),\n",
       "  'hist max sea lvl': 5.61,\n",
       "  'lon lat': (-123.25, 49.33),\n",
       "  'mean sea lvl': 3.09,\n",
       "  'stn number': 7795,\n",
       "  'wind grid ji': (146, 155),\n",
       "  'ww3 grid ji': (296, 393)},\n",
       " 'Port Moody': {'NEMO grid ji': None,\n",
       "  'lon lat': (-122.8658, 49.28814),\n",
       "  'mean sea lvl': 3.09,\n",
       "  'stn number': 7755,\n",
       "  'ww3 grid ji': None},\n",
       " 'Port Renfrew': {'NEMO grid ji': (401, 61),\n",
       "  'hist max sea lvl': 4.359,\n",
       "  'lon lat': (-124.421, 48.555),\n",
       "  'mean sea lvl': 1.937,\n",
       "  'stn number': 8525,\n",
       "  'wind grid ji': (117, 112),\n",
       "  'ww3 grid ji': (123, 226)},\n",
       " 'Puget Sound': {'lon lat': (-122.67, 48)},\n",
       " 'S3': {'GEM2.5 grid ji': (146, 155),\n",
       "  'NEMO grid ji': (450, 258),\n",
       "  'lon lat': (-123.558, 49.125)},\n",
       " 'Sand Heads': {'GEM2.5 grid ji': (135, 151),\n",
       "  'NEMO grid ji': (426, 293),\n",
       "  'hist max sea lvl': 5.3950000000000005,\n",
       "  'lon lat': (-123.3, 49.1),\n",
       "  'mean sea lvl': 2.875,\n",
       "  'stn number': 7594,\n",
       "  'wind grid ji': (135, 151),\n",
       "  'ww3 grid ji': (246, 385)},\n",
       " 'Sandheads': {'GEM2.5 grid ji': (135, 151),\n",
       "  'NEMO grid ji': (426, 293),\n",
       "  'hist max sea lvl': 5.3950000000000005,\n",
       "  'lon lat': (-123.3, 49.1),\n",
       "  'mean sea lvl': 2.875,\n",
       "  'stn number': 7594,\n",
       "  'wind grid ji': (135, 151),\n",
       "  'ww3 grid ji': (246, 385)},\n",
       " 'Sandy Cove': {'NEMO grid ji': (468, 333),\n",
       "  'hist max sea lvl': 5.61,\n",
       "  'lon lat': (-123.23, 49.34),\n",
       "  'mean sea lvl': 3.09,\n",
       "  'stn number': 7786,\n",
       "  'wind grid ji': (146, 155),\n",
       "  'ww3 grid ji': (294, 396)},\n",
       " 'Sentry Shoal': {'EC buoy number': 46131,\n",
       "  'GEM2.5 grid ji': (183, 107),\n",
       "  'NEMO grid ji': (707, 145),\n",
       "  'lon lat': (-125.0, 49.92)},\n",
       " 'Sisters Islet': {'GEM2.5 grid ji': (160, 120),\n",
       "  'NEMO grid ji': (582, 175),\n",
       "  'lon lat': (-124.43, 49.49)},\n",
       " 'Squamish': {'NEMO grid ji': (532, 389),\n",
       "  'hist max sea lvl': 5.61,\n",
       "  'lon lat': (-123.155, 49.694),\n",
       "  'mean sea lvl': 3.14,\n",
       "  'stn number': 7811,\n",
       "  'wind grid ji': (162, 160),\n",
       "  'ww3 grid ji': (370, 404)},\n",
       " 'Strait of Georgia': {'lon lat': (-123.8, 49.3)},\n",
       " 'Swartz Bay': {'lon lat': (-123.4102, 48.6882)},\n",
       " 'Tsawwassen': {'in berth radius': 0.0015,\n",
       "  'lon lat': (-123.132722, 49.006165)},\n",
       " 'Vancouver': {'lon lat': (-123.1207, 49.2827)},\n",
       " 'Vancouver Harbour': {'NEMO grid ji': None,\n",
       "  'lon lat': (-123.1069, 49.28937),\n",
       "  'mean sea lvl': 3.09,\n",
       "  'stn number': 7735,\n",
       "  'ww3 grid ji': None},\n",
       " 'Victoria': {'NEMO grid ji': (302, 196),\n",
       "  'hist max sea lvl': 3.76,\n",
       "  'lon lat': (-123.3707, 48.424666),\n",
       "  'mean sea lvl': 1.881,\n",
       "  'stn number': 7120,\n",
       "  'wind grid ji': (104, 144),\n",
       "  'ww3 grid ji': (90, 374)},\n",
       " 'Washington State': {'lon lat': (-123.8, 47.8)},\n",
       " 'Woodwards Landing': {'NEMO grid ji': (414, 329),\n",
       "  'hist max sea lvl': 4.66,\n",
       "  'lon lat': (-123.0754, 49.1251),\n",
       "  'mean sea lvl': 2.215,\n",
       "  'stn number': 7610,\n",
       "  'wind grid ji': (135, 138)},\n",
       " 'YVR': {'GEM2.5 grid ji': (139, 155), 'lon lat': (-123.184, 49.195)}}"
      ]
     },
     "execution_count": 9,
     "metadata": {},
     "output_type": "execute_result"
    }
   ],
   "source": [
    "SITES"
   ]
  },
  {
   "cell_type": "markdown",
   "metadata": {},
   "source": [
    "# Load Files"
   ]
  },
  {
   "cell_type": "code",
   "execution_count": 10,
   "metadata": {
    "collapsed": true
   },
   "outputs": [],
   "source": [
    "def plot_tides(ax, sdt, edt, times, ts_lines, tdir = '/data/nsoontie/MEOPAR/tools/SalishSeaNowcast/tidal_predictions/',\n",
    "               name = 'Campbell River'):\n",
    "    fname = os.path.join(tdir, '{}_tidal_prediction_01-Jan-2015_01-Jan-2020.csv'.format(name))\n",
    "    ttide, _ = load_tidal_predictions(fname)\n",
    "    ax.plot(ttide.time, ttide.pred_all,'-k')\n",
    "    ax.set_xlim([sdt,edt])\n",
    "    ax.set_ylabel('Tidal height [m]')\n",
    "    ax.set_ylim([-3,3])\n",
    "    \n",
    "    for t in ts_lines:\n",
    "        ax.plot([times[t], times[t]], [-3,3], '--', color='gray')\n",
    "    return ttide.time,ttide.pred_all"
   ]
  },
  {
   "cell_type": "code",
   "execution_count": 11,
   "metadata": {
    "collapsed": true
   },
   "outputs": [],
   "source": [
    "OP = nc.Dataset('/results/forcing/atmospheric/GEM2.5/operational/ops_y2014m11d18.nc')\n",
    "OPlon =OP.variables['nav_lon'][:]-360\n",
    "OPlat = OP.variables['nav_lat'][:]\n"
   ]
  },
  {
   "cell_type": "code",
   "execution_count": 12,
   "metadata": {
    "collapsed": true
   },
   "outputs": [],
   "source": [
    "ts_lines=np.array([ 7, 14, 21, 28])"
   ]
  },
  {
   "cell_type": "code",
   "execution_count": 13,
   "metadata": {
    "collapsed": true
   },
   "outputs": [],
   "source": [
    "def plot_winds(ax, location, lons, lats, sdt, edt, times, ts_lines):\n",
    "    \n",
    "    #lon, lat = SITES['East node']['lon lat'] # Giorgio: change this lat lon to Iona outfall coordinates\n",
    "    wind_files = list_wind_files(sdt, edt)\n",
    "    j=190\n",
    "    i=102 \n",
    "    #find_model_point(lon,lat,lons,lats)\n",
    "    wind, direc, t, pr, tem, sol, the, qr, pre = compile_winds(j,i,wind_files)\n",
    "    \n",
    "    datenum = md.date2num(t)\n",
    "    us0 = wind*np.cos(np.deg2rad(direc))\n",
    "    vs0 =  wind*np.sin(np.deg2rad(direc))\n",
    "    us,vs=viz_tools.rotate_vel(us0,vs0,origin='map')\n",
    "    \n",
    "    q=ax.quiver(datenum, np.zeros(datenum.shape), us, vs,scale=8*10e0)\n",
    "    \n",
    "    qk = ax.quiverkey(q, 0.1, 0.1, 10, '10 m/s')\n",
    "    ax.set_yticklabels([])\n",
    "    ax.set_xlim([sdt,edt])\n",
    "    ax.set_ylabel('Wind Vectors')\n",
    "    \n",
    "    for t in ts_lines:\n",
    "        ax.plot([times[t], times[t]], [-1,1], '--', color='gray')\n",
    "    return datenum, wind, direc, us, vs"
   ]
  },
  {
   "cell_type": "code",
   "execution_count": 14,
   "metadata": {
    "collapsed": false
   },
   "outputs": [
    {
     "data": {
      "image/png": "[encoded data removed]",
      "text/plain": [
       "<matplotlib.figure.Figure at 0x7f145a15f278>"
      ]
     },
     "metadata": {},
     "output_type": "display_data"
    }
   ],
   "source": [
    "sns.set_style('whitegrid')\n",
    "fig, axs = plt.subplots(2,1, figsize=(8, 6), sharex=True)\n",
    "level = 0\n",
    "\n",
    "tidetime,tideAll=plot_tides(axs[0], start, end, times, ts_lines)\n",
    "winddatenum, wind, direc, us, vs=plot_winds(axs[1], 'East', OPlon, OPlat, start, end,times, ts_lines)\n"
   ]
  },
  {
   "cell_type": "code",
   "execution_count": 15,
   "metadata": {
    "collapsed": false
   },
   "outputs": [],
   "source": [
    "\n",
    "saveloc='/ocean/eolson/MEOPAR/analysis-elise/notebooks/plotResults/fullDomain398x898/exploreNowcast/NorthernNitrate/Movie/'\n",
    "np.savez(saveloc+'saveTideWindCampbellR.npz',tidetime=tidetime,tideAll=tideAll,winddatenum=winddatenum, \n",
    "         wind=wind, direc=direc, us=us, vs=vs)"
   ]
  },
  {
   "cell_type": "code",
   "execution_count": null,
   "metadata": {
    "collapsed": true
   },
   "outputs": [],
   "source": []
  }
 ],
 "metadata": {
  "anaconda-cloud": {},
  "kernelspec": {
   "display_name": "Python [default]",
   "language": "python",
   "name": "python3"
  },
  "language_info": {
   "codemirror_mode": {
    "name": "ipython",
    "version": 3
   },
   "file_extension": ".py",
   "mimetype": "text/x-python",
   "name": "python",
   "nbconvert_exporter": "python",
   "pygments_lexer": "ipython3",
   "version": "3.5.2"
  }
 },
 "nbformat": 4,
 "nbformat_minor": 0
}
