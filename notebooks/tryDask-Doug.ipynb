{
 "cells": [
  {
   "cell_type": "code",
   "execution_count": 1,
   "metadata": {
    "collapsed": false
   },
   "outputs": [
    {
     "name": "stdout",
     "output_type": "stream",
     "text": [
      "Architecture:          x86_64\r\n",
      "CPU op-mode(s):        32-bit, 64-bit\r\n",
      "Byte Order:            Little Endian\r\n",
      "CPU(s):                8\r\n",
      "On-line CPU(s) list:   0-7\r\n",
      "Thread(s) per core:    2\r\n",
      "Core(s) per socket:    4\r\n",
      "Socket(s):             1\r\n",
      "NUMA node(s):          1\r\n",
      "Vendor ID:             GenuineIntel\r\n",
      "CPU family:            6\r\n",
      "Model:                 60\r\n",
      "Stepping:              3\r\n",
      "CPU MHz:               4303.125\r\n",
      "BogoMIPS:              7982.24\r\n",
      "Virtualization:        VT-x\r\n",
      "L1d cache:             32K\r\n",
      "L1i cache:             32K\r\n",
      "L2 cache:              256K\r\n",
      "L3 cache:              8192K\r\n",
      "NUMA node0 CPU(s):     0-7\r\n"
     ]
    }
   ],
   "source": [
    "!lscpu"
   ]
  },
  {
   "cell_type": "code",
   "execution_count": 2,
   "metadata": {
    "collapsed": false
   },
   "outputs": [
    {
     "name": "stdout",
     "output_type": "stream",
     "text": [
      "MemTotal:       16373824 kB\r\n"
     ]
    }
   ],
   "source": [
    "!cat /proc/meminfo | head -1"
   ]
  },
  {
   "cell_type": "code",
   "execution_count": 3,
   "metadata": {
    "collapsed": true
   },
   "outputs": [],
   "source": [
    "from datetime import datetime, timedelta\n",
    "import functools\n",
    "import sys\n",
    "import time\n",
    "\n",
    "import dask\n",
    "import dask.distributed\n",
    "import matplotlib.pyplot as plt\n",
    "import netCDF4\n",
    "import numpy\n",
    "import xarray\n",
    "\n",
    "from salishsea_tools import evaltools\n",
    "\n",
    "%matplotlib inline"
   ]
  },
  {
   "cell_type": "code",
   "execution_count": 4,
   "metadata": {
    "collapsed": false
   },
   "outputs": [
    {
     "name": "stdout",
     "output_type": "stream",
     "text": [
      "3.7.3 | packaged by conda-forge | (default, Dec  6 2019, 08:54:18) \n",
      "[GCC 7.3.0]\n",
      "0.14.1\n",
      "2.8.1\n",
      "1.5.3\n",
      "1.17.3\n"
     ]
    }
   ],
   "source": [
    "print(sys.version)\n",
    "print(xarray.__version__)\n",
    "print(dask.__version__)\n",
    "print(netCDF4.__version__)\n",
    "print(numpy.__version__)"
   ]
  },
  {
   "cell_type": "code",
   "execution_count": 5,
   "metadata": {
    "collapsed": true
   },
   "outputs": [],
   "source": [
    "j0, j1, i0, i1 = 230, 470, 0, 200"
   ]
  },
  {
   "cell_type": "code",
   "execution_count": 6,
   "metadata": {
    "collapsed": true
   },
   "outputs": [],
   "source": [
    "with netCDF4.Dataset(\"/ocean/eolson/MEOPAR/NEMO-forcing/grid/mesh_mask201702_noLPE.nc\") as mesh:\n",
    "    tmask=numpy.copy(mesh.variables['tmask'][:,:,j0:j1,i0:i1])\n",
    "    e3t0=numpy.copy(mesh.variables['e3t_0'][:,:,j0:j1,i0:i1])"
   ]
  },
  {
   "cell_type": "code",
   "execution_count": 7,
   "metadata": {
    "collapsed": false
   },
   "outputs": [
    {
     "name": "stdout",
     "output_type": "stream",
     "text": [
      "first file starts on  2015-05-31 00:00:00\n"
     ]
    }
   ],
   "source": [
    "flistmuZ = evaltools.index_model_files(\n",
    "    datetime(2015, 6, 1), datetime(2015, 6, 9),\n",
    "    \"/data/eolson/results/MEOPAR/SS36runs/CedarRuns/testmuZ/\",\n",
    "    \"long\", 10, \"ptrc_T\", 1\n",
    ")"
   ]
  },
  {
   "cell_type": "code",
   "execution_count": 8,
   "metadata": {
    "collapsed": false
   },
   "outputs": [
    {
     "data": {
      "text/plain": [
       "(Timestamp('2015-05-31 00:00:00'), Timestamp('2015-06-10 00:00:00'))"
      ]
     },
     "execution_count": 8,
     "metadata": {},
     "output_type": "execute_result"
    }
   ],
   "source": [
    "flistmuZ['t_0'][0], flistmuZ['t_n'][len(flistmuZ)-1]"
   ]
  },
  {
   "cell_type": "code",
   "execution_count": 9,
   "metadata": {
    "collapsed": true
   },
   "outputs": [],
   "source": [
    "def calc_depth_avgs(flist, tmask, e3t0):\n",
    "    sum1 = numpy.empty((len(flist)*24*10, j1-j0, i1-i0))\n",
    "    sum1uZ = numpy.empty((len(flist)*24*10, j1-j0, i1-i0))\n",
    "    for ind, row in flist.iterrows():\n",
    "        ds = netCDF4.Dataset(row['paths'])\n",
    "        diatoms = ds.variables['diatoms'][:,:,j0:j1,i0:i1]\n",
    "        uZ = ds.variables['microzooplankton'][:,:,j0:j1,i0:i1]\n",
    "        sum1[(24*10*ind):(24*10*(ind+1)),:,:] = numpy.sum(tmask*e3t0*diatoms, 1)\n",
    "        sum1uZ[(24*10*ind):(24*10*(ind+1)),:,:] = numpy.sum(tmask*e3t0*uZ, 1)\n",
    "    diatom_int = numpy.mean(sum1, 0)\n",
    "    microzoo_int = numpy.mean(sum1uZ, 0)\n",
    "    return diatom_int, microzoo_int"
   ]
  },
  {
   "cell_type": "code",
   "execution_count": 10,
   "metadata": {
    "collapsed": false
   },
   "outputs": [
    {
     "name": "stdout",
     "output_type": "stream",
     "text": [
      "0:03:45.429268\n"
     ]
    }
   ],
   "source": [
    "t0=datetime.now()\n",
    "diatoms_muZ_Int, uZ_muZ_Int = calc_depth_avgs(flistmuZ, tmask, e3t0)\n",
    "t1=datetime.now()\n",
    "print(t1-t0)"
   ]
  },
  {
   "cell_type": "code",
   "execution_count": 11,
   "metadata": {
    "collapsed": true
   },
   "outputs": [],
   "source": [
    "def calc_depth_avgs_no_loop(flist, tmask, e3t0):\n",
    "    with netCDF4.Dataset(flist) as ds:\n",
    "        diatoms = ds.variables['diatoms'][:,:,j0:j1,i0:i1]\n",
    "        diatoms_int = (diatoms * tmask * e3t0).sum(axis=1).mean(axis=0)\n",
    "        uZ = ds.variables['microzooplankton'][:,:,j0:j1,i0:i1]\n",
    "        uZ_int = (uZ * tmask * e3t0).sum(axis=1).mean(axis=0)\n",
    "    return diatoms_int, uZ_int"
   ]
  },
  {
   "cell_type": "code",
   "execution_count": 12,
   "metadata": {
    "collapsed": false
   },
   "outputs": [
    {
     "name": "stdout",
     "output_type": "stream",
     "text": [
      "0:02:08.726482\n"
     ]
    }
   ],
   "source": [
    "t0=datetime.now()\n",
    "diatoms_int, uZ_int = calc_depth_avgs_no_loop(\n",
    "    \"/data/eolson/results/MEOPAR/SS36runs/CedarRuns/testmuZ/SalishSea_1h_20150531_20150709_ptrc_T_20150531-20150609.nc\",\n",
    "    tmask, e3t0)\n",
    "numpy.testing.assert_equal(diatoms_int, diatoms_muZ_Int)\n",
    "numpy.testing.assert_equal(uZ_int, uZ_muZ_Int)\n",
    "t1=datetime.now()\n",
    "print(t1-t0)"
   ]
  },
  {
   "cell_type": "code",
   "execution_count": 13,
   "metadata": {
    "collapsed": true
   },
   "outputs": [],
   "source": [
    "with xarray.open_dataset(\"/ocean/eolson/MEOPAR/NEMO-forcing/grid/mesh_mask201702_noLPE.nc\") as mesh:\n",
    "    x_tmask = mesh.tmask.isel(y=slice(j0, j1), x=slice(i0, i1)).data\n",
    "    x_e3t0 = mesh.e3t_0.isel(y=slice(j0, j1), x=slice(i0, i1)).data"
   ]
  },
  {
   "cell_type": "code",
   "execution_count": 14,
   "metadata": {
    "collapsed": true
   },
   "outputs": [],
   "source": [
    "def calc_depth_avgs_xarray(flist, x_tmask, x_e3t0):\n",
    "    with xarray.open_dataset(flist) as ds:\n",
    "        diatoms = ds.diatoms.isel(y=slice(j0, j1), x=slice(i0, i1))\n",
    "        diatoms_int = (diatoms * x_tmask * x_e3t0).sum(axis=1).mean(axis=0)\n",
    "        uZ = ds.microzooplankton.isel(y=slice(j0, j1), x=slice(i0, i1))\n",
    "        uZ_int = (uZ * x_tmask * x_e3t0).sum(axis=1).mean(axis=0)\n",
    "    return diatoms_int, uZ_int"
   ]
  },
  {
   "cell_type": "code",
   "execution_count": 15,
   "metadata": {
    "collapsed": false
   },
   "outputs": [
    {
     "name": "stdout",
     "output_type": "stream",
     "text": [
      "0:02:03.039396\n"
     ]
    }
   ],
   "source": [
    "t0=datetime.now()\n",
    "x_diatoms_int, x_uZ_int = calc_depth_avgs_xarray(\n",
    "    \"/data/eolson/results/MEOPAR/SS36runs/CedarRuns/testmuZ/SalishSea_1h_20150531_20150709_ptrc_T_20150531-20150609.nc\",\n",
    "    tmask, e3t0)\n",
    "numpy.testing.assert_allclose(x_diatoms_int, diatoms_muZ_Int)\n",
    "numpy.testing.assert_allclose(x_uZ_int, uZ_muZ_Int)\n",
    "t1=datetime.now()\n",
    "print(t1-t0)"
   ]
  },
  {
   "cell_type": "code",
   "execution_count": 16,
   "metadata": {
    "collapsed": false
   },
   "outputs": [
    {
     "data": {
      "text/html": [
       "<table style=\"border: 2px solid white;\">\n",
       "<tr>\n",
       "<td style=\"vertical-align: top; border: 0px solid white\">\n",
       "<h3 style=\"text-align: left;\">Client</h3>\n",
       "<ul style=\"text-align: left; list-style: none; margin: 0; padding: 0;\">\n",
       "  <li><b>Scheduler: </b>tcp://127.0.0.1:40259</li>\n",
       "  <li><b>Dashboard: </b><a href='http://127.0.0.1:8787/status' target='_blank'>http://127.0.0.1:8787/status</a>\n",
       "</ul>\n",
       "</td>\n",
       "<td style=\"vertical-align: top; border: 0px solid white\">\n",
       "<h3 style=\"text-align: left;\">Cluster</h3>\n",
       "<ul style=\"text-align: left; list-style:none; margin: 0; padding: 0;\">\n",
       "  <li><b>Workers: </b>2</li>\n",
       "  <li><b>Cores: </b>4</li>\n",
       "  <li><b>Memory: </b>16.77 GB</li>\n",
       "</ul>\n",
       "</td>\n",
       "</tr>\n",
       "</table>"
      ],
      "text/plain": [
       "<Client: 'tcp://127.0.0.1:40259' processes=2 threads=4, memory=16.77 GB>"
      ]
     },
     "execution_count": 16,
     "metadata": {},
     "output_type": "execute_result"
    }
   ],
   "source": [
    "client = dask.distributed.Client(\n",
    "    n_workers=2, threads_per_worker=2, processes=True)\n",
    "client"
   ]
  },
  {
   "cell_type": "code",
   "execution_count": 17,
   "metadata": {
    "collapsed": true
   },
   "outputs": [],
   "source": [
    "def calc_depth_avgs_dask(flist, chunks, tmask, e3t0):\n",
    "    with xarray.open_dataset(flist, chunks=chunks) as ds:\n",
    "        diatoms = ds.diatoms.isel(y=slice(j0, j1), x=slice(i0, i1))\n",
    "        diatoms_int = (diatoms * tmask * e3t0).sum(axis=1).mean(axis=0)\n",
    "        uZ = ds.microzooplankton.isel(y=slice(j0, j1), x=slice(i0, i1))\n",
    "        uZ_int = (uZ * tmask * e3t0).sum(axis=1).mean(axis=0)\n",
    "    return diatoms_int, uZ_int"
   ]
  },
  {
   "cell_type": "code",
   "execution_count": 18,
   "metadata": {
    "collapsed": true
   },
   "outputs": [],
   "source": [
    "def check_results(diatoms_calc, diatoms_exp, uZ_calc, uZ_exp):\n",
    "    numpy.testing.assert_allclose(diatoms_calc, diatoms_exp)\n",
    "    numpy.testing.assert_allclose(uZ_calc, uZ_exp)"
   ]
  },
  {
   "cell_type": "code",
   "execution_count": 19,
   "metadata": {
    "collapsed": true
   },
   "outputs": [],
   "source": [
    "chunks = {\"time_counter\": 1, \"deptht\": 40, \"y\": 898, \"x\": 398}\n",
    "d_diatoms_int, d_uZ_int = calc_depth_avgs_dask(\n",
    "    \"/data/eolson/results/MEOPAR/SS36runs/CedarRuns/testmuZ/SalishSea_1h_20150531_20150709_ptrc_T_20150531-20150609.nc\",\n",
    "    chunks, tmask, e3t0)\n",
    "check_results(d_diatoms_int, diatoms_muZ_Int, d_uZ_int, uZ_muZ_Int)"
   ]
  },
  {
   "cell_type": "code",
   "execution_count": 20,
   "metadata": {
    "collapsed": true
   },
   "outputs": [],
   "source": [
    "chunks = {\"time_counter\": 3, \"deptht\": 40*3, \"y\": 898*3, \"x\": 398*3}\n",
    "d_diatoms_int, d_uZ_int = calc_depth_avgs_dask(\n",
    "    \"/data/eolson/results/MEOPAR/SS36runs/CedarRuns/testmuZ/SalishSea_1h_20150531_20150709_ptrc_T_20150531-20150609.nc\",\n",
    "    chunks, tmask, e3t0)\n",
    "check_results(d_diatoms_int, diatoms_muZ_Int, d_uZ_int, uZ_muZ_Int)"
   ]
  },
  {
   "cell_type": "code",
   "execution_count": 21,
   "metadata": {
    "collapsed": true
   },
   "outputs": [],
   "source": [
    "chunks = {\"time_counter\": 3, \"deptht\": 40*3, \"y\": 898*3, \"x\": 398*3}\n",
    "d_diatoms_int, d_uZ_int = calc_depth_avgs_dask(\n",
    "    \"/data/eolson/results/MEOPAR/SS36runs/CedarRuns/testmuZ/SalishSea_1h_20150531_20150709_ptrc_T_20150531-20150609.nc\",\n",
    "    chunks, tmask, e3t0)\n",
    "check_results(d_diatoms_int, diatoms_muZ_Int, d_uZ_int, uZ_muZ_Int)"
   ]
  },
  {
   "cell_type": "code",
   "execution_count": 22,
   "metadata": {
    "collapsed": true
   },
   "outputs": [],
   "source": [
    "chunks = {\"time_counter\": 4, \"deptht\": 40*4, \"y\": 898*4, \"x\": 398*4}\n",
    "d_diatoms_int, d_uZ_int = calc_depth_avgs_dask(\n",
    "    \"/data/eolson/results/MEOPAR/SS36runs/CedarRuns/testmuZ/SalishSea_1h_20150531_20150709_ptrc_T_20150531-20150609.nc\",\n",
    "    chunks, tmask, e3t0)\n",
    "check_results(d_diatoms_int, diatoms_muZ_Int, d_uZ_int, uZ_muZ_Int)"
   ]
  },
  {
   "cell_type": "code",
   "execution_count": 23,
   "metadata": {
    "collapsed": false
   },
   "outputs": [
    {
     "name": "stdout",
     "output_type": "stream",
     "text": [
      "first file starts on  2015-05-31 00:00:00\n"
     ]
    }
   ],
   "source": [
    "flistmuZ = evaltools.index_model_files(\n",
    "    datetime(2015, 6, 1), datetime(2015, 6, 19),\n",
    "    \"/data/eolson/results/MEOPAR/SS36runs/CedarRuns/testmuZ/\",\n",
    "    \"long\", 10, \"ptrc_T\", 1\n",
    ")"
   ]
  },
  {
   "cell_type": "code",
   "execution_count": 24,
   "metadata": {
    "collapsed": false
   },
   "outputs": [
    {
     "data": {
      "text/html": [
       "<div>\n",
       "<style scoped>\n",
       "    .dataframe tbody tr th:only-of-type {\n",
       "        vertical-align: middle;\n",
       "    }\n",
       "\n",
       "    .dataframe tbody tr th {\n",
       "        vertical-align: top;\n",
       "    }\n",
       "\n",
       "    .dataframe thead th {\n",
       "        text-align: right;\n",
       "    }\n",
       "</style>\n",
       "<table border=\"1\" class=\"dataframe\">\n",
       "  <thead>\n",
       "    <tr style=\"text-align: right;\">\n",
       "      <th></th>\n",
       "      <th>paths</th>\n",
       "      <th>t_0</th>\n",
       "      <th>t_n</th>\n",
       "    </tr>\n",
       "  </thead>\n",
       "  <tbody>\n",
       "    <tr>\n",
       "      <th>0</th>\n",
       "      <td>/data/eolson/results/MEOPAR/SS36runs/CedarRuns...</td>\n",
       "      <td>2015-05-31</td>\n",
       "      <td>2015-06-10</td>\n",
       "    </tr>\n",
       "    <tr>\n",
       "      <th>1</th>\n",
       "      <td>/data/eolson/results/MEOPAR/SS36runs/CedarRuns...</td>\n",
       "      <td>2015-06-10</td>\n",
       "      <td>2015-06-20</td>\n",
       "    </tr>\n",
       "  </tbody>\n",
       "</table>\n",
       "</div>"
      ],
      "text/plain": [
       "                                               paths        t_0        t_n\n",
       "0  /data/eolson/results/MEOPAR/SS36runs/CedarRuns... 2015-05-31 2015-06-10\n",
       "1  /data/eolson/results/MEOPAR/SS36runs/CedarRuns... 2015-06-10 2015-06-20"
      ]
     },
     "execution_count": 24,
     "metadata": {},
     "output_type": "execute_result"
    }
   ],
   "source": [
    "flistmuZ"
   ]
  },
  {
   "cell_type": "code",
   "execution_count": 25,
   "metadata": {
    "collapsed": false
   },
   "outputs": [
    {
     "name": "stdout",
     "output_type": "stream",
     "text": [
      "0:04:25.298556\n"
     ]
    }
   ],
   "source": [
    "t0=datetime.now()\n",
    "m_diatoms_muZ_Int, m_uZ_muZ_Int = calc_depth_avgs(flistmuZ, tmask, e3t0)\n",
    "t1=datetime.now()\n",
    "print(t1-t0)"
   ]
  },
  {
   "cell_type": "code",
   "execution_count": 26,
   "metadata": {
    "collapsed": true
   },
   "outputs": [],
   "source": [
    "def calc_depth_avgs_mfdataset(flist, chunks, tmask, e3t0):\n",
    "    kwargs = dict(combine=\"nested\", concat_dim=\"time_counter\", parallel=True)\n",
    "    with xarray.open_mfdataset(flist, chunks=chunks, **kwargs) as ds:\n",
    "        diatoms = ds.diatoms.isel(y=slice(j0, j1), x=slice(i0, i1))\n",
    "        diatoms_int = (diatoms * tmask * e3t0).sum(axis=1).mean(axis=0)\n",
    "        uZ = ds.microzooplankton.isel(y=slice(j0, j1), x=slice(i0, i1))\n",
    "        uZ_int = (uZ * tmask * e3t0).sum(axis=1).mean(axis=0)\n",
    "    return diatoms_int, uZ_int"
   ]
  },
  {
   "cell_type": "code",
   "execution_count": 27,
   "metadata": {
    "collapsed": true
   },
   "outputs": [],
   "source": [
    "chunks = {\"time_counter\": 4, \"deptht\": 40*4, \"y\": 898*4, \"x\": 398*4}\n",
    "mf_diatoms_int, mf_uZ_int = calc_depth_avgs_mfdataset(\n",
    "    [\"/data/eolson/results/MEOPAR/SS36runs/CedarRuns/testmuZ/SalishSea_1h_20150531_20150709_ptrc_T_20150531-20150609.nc\",\n",
    "     \"/data/eolson/results/MEOPAR/SS36runs/CedarRuns/testmuZ/SalishSea_1h_20150531_20150709_ptrc_T_20150610-20150619.nc\",],\n",
    "    chunks, tmask, e3t0)\n",
    "check_results(mf_diatoms_int, m_diatoms_muZ_Int, mf_uZ_int, m_uZ_muZ_Int)"
   ]
  },
  {
   "cell_type": "code",
   "execution_count": 28,
   "metadata": {
    "collapsed": true
   },
   "outputs": [],
   "source": [
    "client.close()"
   ]
  },
  {
   "cell_type": "markdown",
   "metadata": {},
   "source": [
    "Final:"
   ]
  },
  {
   "cell_type": "code",
   "execution_count": 29,
   "metadata": {
    "collapsed": true
   },
   "outputs": [],
   "source": [
    "with xarray.open_dataset(\"/ocean/eolson/MEOPAR/NEMO-forcing/grid/mesh_mask201702_noLPE.nc\") as mesh:\n",
    "    x_tmask = mesh.tmask.isel(y=slice(j0, j1), x=slice(i0, i1)).data\n",
    "    x_e3t0 = mesh.e3t_0.isel(y=slice(j0, j1), x=slice(i0, i1)).data"
   ]
  },
  {
   "cell_type": "code",
   "execution_count": 30,
   "metadata": {
    "collapsed": false
   },
   "outputs": [
    {
     "name": "stdout",
     "output_type": "stream",
     "text": [
      "first file starts on  2015-05-31 00:00:00\n"
     ]
    }
   ],
   "source": [
    "flistmuZ = evaltools.index_model_files(\n",
    "    datetime(2015, 6, 1), datetime(2015, 9, 1),\n",
    "    \"/data/eolson/results/MEOPAR/SS36runs/CedarRuns/testmuZ/\",\n",
    "    \"long\", 10, \"ptrc_T\", 1\n",
    ")"
   ]
  },
  {
   "cell_type": "code",
   "execution_count": 31,
   "metadata": {
    "collapsed": false
   },
   "outputs": [
    {
     "data": {
      "text/html": [
       "<div>\n",
       "<style scoped>\n",
       "    .dataframe tbody tr th:only-of-type {\n",
       "        vertical-align: middle;\n",
       "    }\n",
       "\n",
       "    .dataframe tbody tr th {\n",
       "        vertical-align: top;\n",
       "    }\n",
       "\n",
       "    .dataframe thead th {\n",
       "        text-align: right;\n",
       "    }\n",
       "</style>\n",
       "<table border=\"1\" class=\"dataframe\">\n",
       "  <thead>\n",
       "    <tr style=\"text-align: right;\">\n",
       "      <th></th>\n",
       "      <th>paths</th>\n",
       "      <th>t_0</th>\n",
       "      <th>t_n</th>\n",
       "    </tr>\n",
       "  </thead>\n",
       "  <tbody>\n",
       "    <tr>\n",
       "      <th>0</th>\n",
       "      <td>/data/eolson/results/MEOPAR/SS36runs/CedarRuns...</td>\n",
       "      <td>2015-05-31</td>\n",
       "      <td>2015-06-10</td>\n",
       "    </tr>\n",
       "    <tr>\n",
       "      <th>1</th>\n",
       "      <td>/data/eolson/results/MEOPAR/SS36runs/CedarRuns...</td>\n",
       "      <td>2015-06-10</td>\n",
       "      <td>2015-06-20</td>\n",
       "    </tr>\n",
       "    <tr>\n",
       "      <th>2</th>\n",
       "      <td>/data/eolson/results/MEOPAR/SS36runs/CedarRuns...</td>\n",
       "      <td>2015-06-20</td>\n",
       "      <td>2015-06-30</td>\n",
       "    </tr>\n",
       "    <tr>\n",
       "      <th>3</th>\n",
       "      <td>/data/eolson/results/MEOPAR/SS36runs/CedarRuns...</td>\n",
       "      <td>2015-06-30</td>\n",
       "      <td>2015-07-10</td>\n",
       "    </tr>\n",
       "    <tr>\n",
       "      <th>4</th>\n",
       "      <td>/data/eolson/results/MEOPAR/SS36runs/CedarRuns...</td>\n",
       "      <td>2015-07-10</td>\n",
       "      <td>2015-07-20</td>\n",
       "    </tr>\n",
       "    <tr>\n",
       "      <th>5</th>\n",
       "      <td>/data/eolson/results/MEOPAR/SS36runs/CedarRuns...</td>\n",
       "      <td>2015-07-20</td>\n",
       "      <td>2015-07-30</td>\n",
       "    </tr>\n",
       "    <tr>\n",
       "      <th>6</th>\n",
       "      <td>/data/eolson/results/MEOPAR/SS36runs/CedarRuns...</td>\n",
       "      <td>2015-07-30</td>\n",
       "      <td>2015-08-09</td>\n",
       "    </tr>\n",
       "    <tr>\n",
       "      <th>7</th>\n",
       "      <td>/data/eolson/results/MEOPAR/SS36runs/CedarRuns...</td>\n",
       "      <td>2015-08-09</td>\n",
       "      <td>2015-08-19</td>\n",
       "    </tr>\n",
       "    <tr>\n",
       "      <th>8</th>\n",
       "      <td>/data/eolson/results/MEOPAR/SS36runs/CedarRuns...</td>\n",
       "      <td>2015-08-19</td>\n",
       "      <td>2015-08-29</td>\n",
       "    </tr>\n",
       "    <tr>\n",
       "      <th>9</th>\n",
       "      <td>/data/eolson/results/MEOPAR/SS36runs/CedarRuns...</td>\n",
       "      <td>2015-08-29</td>\n",
       "      <td>2015-09-08</td>\n",
       "    </tr>\n",
       "  </tbody>\n",
       "</table>\n",
       "</div>"
      ],
      "text/plain": [
       "                                               paths        t_0        t_n\n",
       "0  /data/eolson/results/MEOPAR/SS36runs/CedarRuns... 2015-05-31 2015-06-10\n",
       "1  /data/eolson/results/MEOPAR/SS36runs/CedarRuns... 2015-06-10 2015-06-20\n",
       "2  /data/eolson/results/MEOPAR/SS36runs/CedarRuns... 2015-06-20 2015-06-30\n",
       "3  /data/eolson/results/MEOPAR/SS36runs/CedarRuns... 2015-06-30 2015-07-10\n",
       "4  /data/eolson/results/MEOPAR/SS36runs/CedarRuns... 2015-07-10 2015-07-20\n",
       "5  /data/eolson/results/MEOPAR/SS36runs/CedarRuns... 2015-07-20 2015-07-30\n",
       "6  /data/eolson/results/MEOPAR/SS36runs/CedarRuns... 2015-07-30 2015-08-09\n",
       "7  /data/eolson/results/MEOPAR/SS36runs/CedarRuns... 2015-08-09 2015-08-19\n",
       "8  /data/eolson/results/MEOPAR/SS36runs/CedarRuns... 2015-08-19 2015-08-29\n",
       "9  /data/eolson/results/MEOPAR/SS36runs/CedarRuns... 2015-08-29 2015-09-08"
      ]
     },
     "execution_count": 31,
     "metadata": {},
     "output_type": "execute_result"
    }
   ],
   "source": [
    "flistmuZ"
   ]
  },
  {
   "cell_type": "code",
   "execution_count": 32,
   "metadata": {
    "collapsed": true
   },
   "outputs": [],
   "source": [
    "flistHC = evaltools.index_model_files(\n",
    "    flistmuZ['t_0'][0], flistmuZ['t_n'][len(flistmuZ)-1] - timedelta(days=1),\n",
    "    '/results/SalishSea/hindcast.201905/', 'nowcast', 1, 'ptrc_T', 1)"
   ]
  },
  {
   "cell_type": "code",
   "execution_count": 33,
   "metadata": {
    "collapsed": false
   },
   "outputs": [
    {
     "data": {
      "text/html": [
       "<div>\n",
       "<style scoped>\n",
       "    .dataframe tbody tr th:only-of-type {\n",
       "        vertical-align: middle;\n",
       "    }\n",
       "\n",
       "    .dataframe tbody tr th {\n",
       "        vertical-align: top;\n",
       "    }\n",
       "\n",
       "    .dataframe thead th {\n",
       "        text-align: right;\n",
       "    }\n",
       "</style>\n",
       "<table border=\"1\" class=\"dataframe\">\n",
       "  <thead>\n",
       "    <tr style=\"text-align: right;\">\n",
       "      <th></th>\n",
       "      <th>paths</th>\n",
       "      <th>t_0</th>\n",
       "      <th>t_n</th>\n",
       "    </tr>\n",
       "  </thead>\n",
       "  <tbody>\n",
       "    <tr>\n",
       "      <th>0</th>\n",
       "      <td>/results/SalishSea/hindcast.201905/31may15/Sal...</td>\n",
       "      <td>2015-05-31</td>\n",
       "      <td>2015-06-01</td>\n",
       "    </tr>\n",
       "    <tr>\n",
       "      <th>1</th>\n",
       "      <td>/results/SalishSea/hindcast.201905/01jun15/Sal...</td>\n",
       "      <td>2015-06-01</td>\n",
       "      <td>2015-06-02</td>\n",
       "    </tr>\n",
       "    <tr>\n",
       "      <th>2</th>\n",
       "      <td>/results/SalishSea/hindcast.201905/02jun15/Sal...</td>\n",
       "      <td>2015-06-02</td>\n",
       "      <td>2015-06-03</td>\n",
       "    </tr>\n",
       "    <tr>\n",
       "      <th>3</th>\n",
       "      <td>/results/SalishSea/hindcast.201905/03jun15/Sal...</td>\n",
       "      <td>2015-06-03</td>\n",
       "      <td>2015-06-04</td>\n",
       "    </tr>\n",
       "    <tr>\n",
       "      <th>4</th>\n",
       "      <td>/results/SalishSea/hindcast.201905/04jun15/Sal...</td>\n",
       "      <td>2015-06-04</td>\n",
       "      <td>2015-06-05</td>\n",
       "    </tr>\n",
       "    <tr>\n",
       "      <th>...</th>\n",
       "      <td>...</td>\n",
       "      <td>...</td>\n",
       "      <td>...</td>\n",
       "    </tr>\n",
       "    <tr>\n",
       "      <th>95</th>\n",
       "      <td>/results/SalishSea/hindcast.201905/03sep15/Sal...</td>\n",
       "      <td>2015-09-03</td>\n",
       "      <td>2015-09-04</td>\n",
       "    </tr>\n",
       "    <tr>\n",
       "      <th>96</th>\n",
       "      <td>/results/SalishSea/hindcast.201905/04sep15/Sal...</td>\n",
       "      <td>2015-09-04</td>\n",
       "      <td>2015-09-05</td>\n",
       "    </tr>\n",
       "    <tr>\n",
       "      <th>97</th>\n",
       "      <td>/results/SalishSea/hindcast.201905/05sep15/Sal...</td>\n",
       "      <td>2015-09-05</td>\n",
       "      <td>2015-09-06</td>\n",
       "    </tr>\n",
       "    <tr>\n",
       "      <th>98</th>\n",
       "      <td>/results/SalishSea/hindcast.201905/06sep15/Sal...</td>\n",
       "      <td>2015-09-06</td>\n",
       "      <td>2015-09-07</td>\n",
       "    </tr>\n",
       "    <tr>\n",
       "      <th>99</th>\n",
       "      <td>/results/SalishSea/hindcast.201905/07sep15/Sal...</td>\n",
       "      <td>2015-09-07</td>\n",
       "      <td>2015-09-08</td>\n",
       "    </tr>\n",
       "  </tbody>\n",
       "</table>\n",
       "<p>100 rows × 3 columns</p>\n",
       "</div>"
      ],
      "text/plain": [
       "                                                paths        t_0        t_n\n",
       "0   /results/SalishSea/hindcast.201905/31may15/Sal... 2015-05-31 2015-06-01\n",
       "1   /results/SalishSea/hindcast.201905/01jun15/Sal... 2015-06-01 2015-06-02\n",
       "2   /results/SalishSea/hindcast.201905/02jun15/Sal... 2015-06-02 2015-06-03\n",
       "3   /results/SalishSea/hindcast.201905/03jun15/Sal... 2015-06-03 2015-06-04\n",
       "4   /results/SalishSea/hindcast.201905/04jun15/Sal... 2015-06-04 2015-06-05\n",
       "..                                                ...        ...        ...\n",
       "95  /results/SalishSea/hindcast.201905/03sep15/Sal... 2015-09-03 2015-09-04\n",
       "96  /results/SalishSea/hindcast.201905/04sep15/Sal... 2015-09-04 2015-09-05\n",
       "97  /results/SalishSea/hindcast.201905/05sep15/Sal... 2015-09-05 2015-09-06\n",
       "98  /results/SalishSea/hindcast.201905/06sep15/Sal... 2015-09-06 2015-09-07\n",
       "99  /results/SalishSea/hindcast.201905/07sep15/Sal... 2015-09-07 2015-09-08\n",
       "\n",
       "[100 rows x 3 columns]"
      ]
     },
     "execution_count": 33,
     "metadata": {},
     "output_type": "execute_result"
    }
   ],
   "source": [
    "flistHC"
   ]
  },
  {
   "cell_type": "code",
   "execution_count": 34,
   "metadata": {
    "collapsed": true
   },
   "outputs": [],
   "source": [
    "def calc_depth_avgs_mfdataset(flist, chunks, tmask, e3t0):\n",
    "    kwargs = dict(combine=\"nested\", concat_dim=\"time_counter\", parallel=True)\n",
    "    with xarray.open_mfdataset(flist, chunks=chunks, **kwargs) as ds:\n",
    "        diatoms = ds.diatoms.isel(y=slice(j0, j1), x=slice(i0, i1))\n",
    "        diatoms_int = (diatoms * tmask * e3t0).sum(axis=1).mean(axis=0)\n",
    "        uZ = ds.microzooplankton.isel(y=slice(j0, j1), x=slice(i0, i1))\n",
    "        uZ_int = (uZ * tmask * e3t0).sum(axis=1).mean(axis=0)\n",
    "    return diatoms_int, uZ_int"
   ]
  },
  {
   "cell_type": "code",
   "execution_count": 35,
   "metadata": {
    "collapsed": false
   },
   "outputs": [
    {
     "data": {
      "text/html": [
       "<table style=\"border: 2px solid white;\">\n",
       "<tr>\n",
       "<td style=\"vertical-align: top; border: 0px solid white\">\n",
       "<h3 style=\"text-align: left;\">Client</h3>\n",
       "<ul style=\"text-align: left; list-style: none; margin: 0; padding: 0;\">\n",
       "  <li><b>Scheduler: </b>tcp://127.0.0.1:39841</li>\n",
       "  <li><b>Dashboard: </b><a href='http://127.0.0.1:8787/status' target='_blank'>http://127.0.0.1:8787/status</a>\n",
       "</ul>\n",
       "</td>\n",
       "<td style=\"vertical-align: top; border: 0px solid white\">\n",
       "<h3 style=\"text-align: left;\">Cluster</h3>\n",
       "<ul style=\"text-align: left; list-style:none; margin: 0; padding: 0;\">\n",
       "  <li><b>Workers: </b>2</li>\n",
       "  <li><b>Cores: </b>4</li>\n",
       "  <li><b>Memory: </b>16.77 GB</li>\n",
       "</ul>\n",
       "</td>\n",
       "</tr>\n",
       "</table>"
      ],
      "text/plain": [
       "<Client: 'tcp://127.0.0.1:39841' processes=2 threads=4, memory=16.77 GB>"
      ]
     },
     "execution_count": 35,
     "metadata": {},
     "output_type": "execute_result"
    }
   ],
   "source": [
    "client = dask.distributed.Client(\n",
    "    n_workers=2, threads_per_worker=2, processes=True)\n",
    "client"
   ]
  },
  {
   "cell_type": "code",
   "execution_count": 36,
   "metadata": {
    "collapsed": true
   },
   "outputs": [],
   "source": [
    "chunks = {\"time_counter\": 3, \"deptht\": 40*3, \"y\": 898*3, \"x\": 398*3}"
   ]
  },
  {
   "cell_type": "code",
   "execution_count": 37,
   "metadata": {
    "collapsed": true
   },
   "outputs": [],
   "source": [
    "x_diatoms_muZ_int, x_uZ_muZ_int = calc_depth_avgs_mfdataset(\n",
    "    [row[\"paths\"] for _, row in flistmuZ.iterrows()], chunks, x_tmask, x_e3t0\n",
    ")"
   ]
  },
  {
   "cell_type": "code",
   "execution_count": 38,
   "metadata": {
    "collapsed": true
   },
   "outputs": [],
   "source": [
    "x_diatomsHC_int, x_uZHC_int = calc_depth_avgs_mfdataset(\n",
    "    [row[\"paths\"] for _, row in flistHC.iterrows()], chunks, x_tmask, x_e3t0\n",
    ")"
   ]
  },
  {
   "cell_type": "code",
   "execution_count": 39,
   "metadata": {
    "collapsed": false
   },
   "outputs": [
    {
     "name": "stdout",
     "output_type": "stream",
     "text": [
      "0:05:07.362480\n"
     ]
    }
   ],
   "source": [
    "t0=datetime.now()\n",
    "diatomsmuZInt = x_diatoms_muZ_int.compute()\n",
    "t1=datetime.now()\n",
    "print(t1-t0)"
   ]
  },
  {
   "cell_type": "code",
   "execution_count": 40,
   "metadata": {
    "collapsed": false
   },
   "outputs": [
    {
     "name": "stdout",
     "output_type": "stream",
     "text": [
      "0:04:26.930389\n"
     ]
    }
   ],
   "source": [
    "t0=datetime.now()\n",
    "diatomsHCInt = x_diatomsHC_int.compute()\n",
    "t1=datetime.now()\n",
    "print(t1-t0)"
   ]
  },
  {
   "cell_type": "code",
   "execution_count": 41,
   "metadata": {
    "collapsed": false
   },
   "outputs": [
    {
     "data": {
      "text/plain": [
       "Text(0.5, 1.0, 'Diff')"
      ]
     },
     "execution_count": 41,
     "metadata": {},
     "output_type": "execute_result"
    },
    {
     "data": {
      "image/png": "[encoded data removed]",
      "text/plain": [
       "<Figure size 1080x288 with 6 Axes>"
      ]
     },
     "metadata": {
      "needs_background": "light"
     },
     "output_type": "display_data"
    }
   ],
   "source": [
    "fig, ax = plt.subplots(1, 3, figsize=(15, 4))\n",
    "m0 = ax[0].pcolormesh(diatomsmuZInt)\n",
    "plt.colorbar(m0, ax=ax[0])\n",
    "ax[0].set_title('muZ Diatoms')\n",
    "m1 = ax[1].pcolormesh(diatomsHCInt)\n",
    "plt.colorbar(m1,ax=ax[1])\n",
    "ax[1].set_title('HC Diatoms')\n",
    "m2 = ax[2].pcolormesh(diatomsmuZInt - diatomsHCInt)\n",
    "plt.colorbar(m2,ax=ax[2])\n",
    "ax[2].set_title('Diff')"
   ]
  },
  {
   "cell_type": "code",
   "execution_count": 42,
   "metadata": {
    "collapsed": false
   },
   "outputs": [
    {
     "name": "stdout",
     "output_type": "stream",
     "text": [
      "0:05:02.563986\n"
     ]
    }
   ],
   "source": [
    "t0=datetime.now()\n",
    "uZmuZInt = x_uZ_muZ_int.compute()\n",
    "t1=datetime.now()\n",
    "print(t1-t0)"
   ]
  },
  {
   "cell_type": "code",
   "execution_count": 43,
   "metadata": {
    "collapsed": false
   },
   "outputs": [
    {
     "name": "stdout",
     "output_type": "stream",
     "text": [
      "0:04:22.003628\n"
     ]
    }
   ],
   "source": [
    "t0=datetime.now()\n",
    "uZHCInt = x_uZHC_int.compute()\n",
    "t1=datetime.now()\n",
    "print(t1-t0)"
   ]
  },
  {
   "cell_type": "code",
   "execution_count": 44,
   "metadata": {
    "collapsed": false
   },
   "outputs": [
    {
     "data": {
      "text/plain": [
       "Text(0.5, 1.0, 'Diff')"
      ]
     },
     "execution_count": 44,
     "metadata": {},
     "output_type": "execute_result"
    },
    {
     "data": {
      "image/png": "[encoded data removed]",
      "text/plain": [
       "<Figure size 1080x288 with 6 Axes>"
      ]
     },
     "metadata": {
      "needs_background": "light"
     },
     "output_type": "display_data"
    }
   ],
   "source": [
    "fig, ax = plt.subplots(1, 3, figsize=(15, 4))\n",
    "m0 = ax[0].pcolormesh(uZmuZInt)\n",
    "plt.colorbar(m0, ax=ax[0])\n",
    "ax[0].set_title('muZ microZ')\n",
    "m1 = ax[1].pcolormesh(uZHCInt)\n",
    "plt.colorbar(m1,ax=ax[1])\n",
    "ax[1].set_title('HC microZ')\n",
    "m2 = ax[2].pcolormesh(uZmuZInt - uZHCInt)\n",
    "plt.colorbar(m2,ax=ax[2])\n",
    "ax[2].set_title('Diff')"
   ]
  },
  {
   "cell_type": "code",
   "execution_count": 45,
   "metadata": {
    "collapsed": true
   },
   "outputs": [],
   "source": [
    "client.close()"
   ]
  },
  {
   "cell_type": "code",
   "execution_count": null,
   "metadata": {
    "collapsed": true
   },
   "outputs": [],
   "source": []
  },
  {
   "cell_type": "code",
   "execution_count": null,
   "metadata": {
    "collapsed": true
   },
   "outputs": [],
   "source": []
  },
  {
   "cell_type": "code",
   "execution_count": null,
   "metadata": {
    "collapsed": true
   },
   "outputs": [],
   "source": []
  }
 ],
 "metadata": {
  "anaconda-cloud": {},
  "kernelspec": {
   "display_name": "Python [conda env:py37]",
   "language": "python",
   "name": "conda-env-py37-py"
  },
  "language_info": {
   "codemirror_mode": {
    "name": "ipython",
    "version": 3
   },
   "file_extension": ".py",
   "mimetype": "text/x-python",
   "name": "python",
   "nbconvert_exporter": "python",
   "pygments_lexer": "ipython3",
   "version": "3.7.3"
  }
 },
 "nbformat": 4,
 "nbformat_minor": 1
}
