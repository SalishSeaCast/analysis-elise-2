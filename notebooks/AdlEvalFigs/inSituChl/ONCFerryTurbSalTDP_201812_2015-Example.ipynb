{
 "cells": [
  {
   "cell_type": "code",
   "execution_count": 1,
   "metadata": {},
   "outputs": [],
   "source": [
    "import socket"
   ]
  },
  {
   "cell_type": "code",
   "execution_count": 2,
   "metadata": {},
   "outputs": [
    {
     "data": {
      "text/plain": [
       "'char'"
      ]
     },
     "execution_count": 2,
     "metadata": {},
     "output_type": "execute_result"
    }
   ],
   "source": [
    "socket.gethostname() "
   ]
  },
  {
   "cell_type": "code",
   "execution_count": 3,
   "metadata": {},
   "outputs": [],
   "source": [
    "import pandas as pd\n",
    "import netCDF4 as nc\n",
    "import datetime as dt\n",
    "import subprocess\n",
    "import requests\n",
    "import matplotlib.pyplot as plt\n",
    "import cmocean\n",
    "import numpy as np\n",
    "import os\n",
    "import re\n",
    "import dateutil as dutil\n",
    "from salishsea_tools import viz_tools, places, geo_tools, evaltools as et\n",
    "import glob\n",
    "import pickle\n",
    "import matplotlib.dates as mdates\n",
    "import matplotlib as mpl\n",
    "import pytz\n",
    "import matplotlib.ticker as ticker\n",
    "from sqlalchemy import create_engine, Column, String, Integer, Boolean, MetaData, Table, case, between, ForeignKey\n",
    "from sqlalchemy.orm import mapper, create_session\n",
    "from sqlalchemy.ext.automap import automap_base\n",
    "from sqlalchemy.sql import select, and_, or_, not_, func\n",
    "\n",
    "from matplotlib.colors import LogNorm\n",
    "\n",
    "mpl.rc('xtick', labelsize=14) \n",
    "mpl.rc('ytick', labelsize=16) \n",
    "mpl.rc('legend', fontsize=16) \n",
    "mpl.rc('axes', titlesize=16) \n",
    "mpl.rc('figure', titlesize=16) \n",
    "mpl.rc('axes', labelsize=16) \n",
    "mpl.rc('font', size=16) \n",
    "\n",
    "mpl.rcParams['font.size'] = 16\n",
    "mpl.rcParams['axes.titlesize'] = 16\n",
    "mpl.rcParams['legend.numpoints'] = 1\n",
    "%matplotlib inline"
   ]
  },
  {
   "cell_type": "code",
   "execution_count": null,
   "metadata": {},
   "outputs": [],
   "source": []
  },
  {
   "cell_type": "code",
   "execution_count": 4,
   "metadata": {},
   "outputs": [],
   "source": [
    "basepath='/ocean/eolson/MEOPAR/obs/'\n",
    "basedir=basepath + 'ONC/'\n",
    "dbname='ONCSmallTDP3'\n",
    "\n",
    "engine = create_engine('sqlite:///' + basedir + dbname + '.sqlite')\n",
    "Base = automap_base()\n",
    "# reflect the tables in salish.sqlite:\n",
    "Base.prepare(engine, reflect=True)\n",
    "# mapped classes have been created\n",
    "\n",
    "# existing tables:\n",
    "TDPTurbTBL=Base.classes.TDPTurbTBL\n",
    "TDPSalTBL=Base.classes.TDPSalTBL\n",
    "GriddedTDPTBL=Base.classes.GriddedTDPTBL\n",
    "\n",
    "session = create_session(bind = engine, autocommit = False, autoflush = True)"
   ]
  },
  {
   "cell_type": "markdown",
   "metadata": {},
   "source": [
    "### Check which time interval is included in the database:"
   ]
  },
  {
   "cell_type": "code",
   "execution_count": 5,
   "metadata": {},
   "outputs": [
    {
     "data": {
      "text/plain": [
       "784234"
      ]
     },
     "execution_count": 5,
     "metadata": {},
     "output_type": "execute_result"
    }
   ],
   "source": [
    "session.query(GriddedTDPTBL).count()"
   ]
  },
  {
   "cell_type": "code",
   "execution_count": 6,
   "metadata": {},
   "outputs": [
    {
     "data": {
      "text/plain": [
       "(2016)"
      ]
     },
     "execution_count": 6,
     "metadata": {},
     "output_type": "execute_result"
    }
   ],
   "source": [
    "session.query(func.max(GriddedTDPTBL.Year)).one()"
   ]
  },
  {
   "cell_type": "code",
   "execution_count": 7,
   "metadata": {},
   "outputs": [
    {
     "data": {
      "text/plain": [
       "(2014)"
      ]
     },
     "execution_count": 7,
     "metadata": {},
     "output_type": "execute_result"
    }
   ],
   "source": [
    "session.query(func.min(GriddedTDPTBL.Year)).one()"
   ]
  },
  {
   "cell_type": "code",
   "execution_count": 8,
   "metadata": {},
   "outputs": [
    {
     "data": {
      "text/plain": [
       "(11)"
      ]
     },
     "execution_count": 8,
     "metadata": {},
     "output_type": "execute_result"
    }
   ],
   "source": [
    "session.query(func.max(GriddedTDPTBL.Month)).filter(GriddedTDPTBL.Year==2016).one()"
   ]
  },
  {
   "cell_type": "code",
   "execution_count": 9,
   "metadata": {},
   "outputs": [
    {
     "data": {
      "text/plain": [
       "(8)"
      ]
     },
     "execution_count": 9,
     "metadata": {},
     "output_type": "execute_result"
    }
   ],
   "source": [
    "session.query(func.min(GriddedTDPTBL.Month)).filter(GriddedTDPTBL.Year==2014).one()"
   ]
  },
  {
   "cell_type": "code",
   "execution_count": 10,
   "metadata": {},
   "outputs": [
    {
     "data": {
      "text/plain": [
       "(12)"
      ]
     },
     "execution_count": 10,
     "metadata": {},
     "output_type": "execute_result"
    }
   ],
   "source": [
    "session.query(func.max(GriddedTDPTBL.Month)).one()"
   ]
  },
  {
   "cell_type": "markdown",
   "metadata": {},
   "source": [
    "Answer: Aug 2014 - Nov 2016"
   ]
  },
  {
   "cell_type": "markdown",
   "metadata": {},
   "source": [
    "### Select May 2015 data and map it\n",
    "Note: GriddedTDPTBL contains data from the Tsawwassen-Duke Point route gridded to produce the average over each combination of (model grid i, model grid j, hour). It is still a lot of data."
   ]
  },
  {
   "cell_type": "code",
   "execution_count": 11,
   "metadata": {},
   "outputs": [],
   "source": [
    "df=pd.DataFrame(session.query(GriddedTDPTBL.Modeli,GriddedTDPTBL.Modelj,GriddedTDPTBL.N_Turb,GriddedTDPTBL.N_SA).\\\n",
    "                filter(and_(GriddedTDPTBL.Year==2015,GriddedTDPTBL.Month==5)).all())"
   ]
  },
  {
   "cell_type": "code",
   "execution_count": 12,
   "metadata": {},
   "outputs": [
    {
     "name": "stdout",
     "output_type": "stream",
     "text": [
      "There are 34978 rows if the data is restricted to May 2015\n"
     ]
    }
   ],
   "source": [
    "print(f'There are {len(df)} rows if the data is restricted to May 2015')"
   ]
  },
  {
   "cell_type": "code",
   "execution_count": 13,
   "metadata": {},
   "outputs": [
    {
     "data": {
      "text/plain": [
       "Text(0, 0.5, 'Gridded Value Count')"
      ]
     },
     "execution_count": 13,
     "metadata": {},
     "output_type": "execute_result"
    },
    {
     "data": {
      "image/png": "[encoded data removed]",
      "text/plain": [
       "<Figure size 432x288 with 1 Axes>"
      ]
     },
     "metadata": {
      "needs_background": "light"
     },
     "output_type": "display_data"
    }
   ],
   "source": [
    "plt.hist(df['N_SA'],500);\n",
    "plt.xlim(0,50)\n",
    "plt.xlabel('Numbe of Salinity Measurements \\nIncluded in Gridded Average')\n",
    "plt.ylabel('Gridded Value Count')"
   ]
  },
  {
   "cell_type": "code",
   "execution_count": 14,
   "metadata": {},
   "outputs": [],
   "source": [
    "with nc.Dataset('/ocean/eolson/MEOPAR/NEMO-forcing/grid/mesh_mask201702_noLPE.nc') as fm:\n",
    "    tmask=np.copy(fm.variables['tmask'])\n",
    "    navlon=np.copy(fm.variables['nav_lon'])\n",
    "    navlat=np.copy(fm.variables['nav_lat'])\n",
    "    A=fm.variables['e1t'][0,:,:]*fm.variables['e2t'][0,:,:]*tmask[0,0,:,:]\n",
    "    lmask=-1*(tmask[0,0,:,:]-1)"
   ]
  },
  {
   "cell_type": "code",
   "execution_count": 15,
   "metadata": {},
   "outputs": [
    {
     "name": "stdout",
     "output_type": "stream",
     "text": [
      "Exclude red (more than 10 points per gridded value), magenta (less than 3 points per gridded value)  and black (close to port) points\n"
     ]
    },
    {
     "data": {
      "image/png": "[encoded data removed]",
      "text/plain": [
       "<Figure size 288x288 with 1 Axes>"
      ]
     },
     "metadata": {
      "needs_background": "light"
     },
     "output_type": "display_data"
    }
   ],
   "source": [
    "fig,ax=plt.subplots(1,1,figsize=(4,4))\n",
    "cmap=plt.get_cmap(cmocean.cm.ice_r)\n",
    "cmap.set_bad('gray')\n",
    "ax.pcolormesh(np.ma.masked_where(tmask[0,0,:,:]==0,tmask[0,0,:,:]),cmap=cmap)\n",
    "ax.set_xlim((160,360))\n",
    "ax.set_ylim((300,500))\n",
    "viz_tools.set_aspect(ax,coords='coords')\n",
    "ax.plot(df['Modeli'],df['Modelj'],'k.')\n",
    "df2=df.loc[(df.Modeli>220)&(df.Modeli<300)]\n",
    "ax.plot(df2['Modeli'],df2['Modelj'],'c.')\n",
    "df3=df.loc[df.N_SA>10]\n",
    "ax.plot(df3['Modeli'],df3['Modelj'],'r.')\n",
    "print('Exclude red (more than 10 points per gridded value), magenta (less than 3 points per gridded value)',\n",
    "      ' and black (close to port) points')"
   ]
  },
  {
   "cell_type": "code",
   "execution_count": 16,
   "metadata": {},
   "outputs": [],
   "source": [
    "df=pd.DataFrame(session.query(GriddedTDPTBL.Year,GriddedTDPTBL.Month,GriddedTDPTBL.Day,GriddedTDPTBL.Hour,\n",
    "                              GriddedTDPTBL.MLat,GriddedTDPTBL.MLon,\n",
    "                              GriddedTDPTBL.Modeli.label('i'),GriddedTDPTBL.Modelj.label('j'),\n",
    "                              GriddedTDPTBL.Avg_CT,GriddedTDPTBL.AvgSA,\n",
    "                              GriddedTDPTBL.AvgChl_ugl,GriddedTDPTBL.AvgTurb_NTU).\\\n",
    "                filter(and_(GriddedTDPTBL.Year==2015,GriddedTDPTBL.Month==5,\n",
    "                           GriddedTDPTBL.Modeli>220,GriddedTDPTBL.Modeli<300,\n",
    "                           GriddedTDPTBL.N_SA<10,\n",
    "                           GriddedTDPTBL.N_SA>=3)).all())"
   ]
  },
  {
   "cell_type": "code",
   "execution_count": 17,
   "metadata": {},
   "outputs": [
    {
     "data": {
      "text/plain": [
       "Index(['Year', 'Month', 'Day', 'Hour', 'MLat', 'MLon', 'i', 'j', 'Avg_CT',\n",
       "       'AvgSA', 'AvgChl_ugl', 'AvgTurb_NTU'],\n",
       "      dtype='object')"
      ]
     },
     "execution_count": 17,
     "metadata": {},
     "output_type": "execute_result"
    }
   ],
   "source": [
    "df.keys()"
   ]
  },
  {
   "cell_type": "code",
   "execution_count": 18,
   "metadata": {},
   "outputs": [],
   "source": [
    "df['dtUTC']=[dt.datetime(iyr,imn,idy,ihr) for ii,(iyr,imn,idy,ihr) in df[['Year','Month','Day','Hour']].iterrows()]"
   ]
  },
  {
   "cell_type": "code",
   "execution_count": 19,
   "metadata": {},
   "outputs": [],
   "source": [
    "PATH= '/results/SalishSea/nowcast-green.201812/'\n",
    "start_date = dt.datetime(2015,5,1)\n",
    "end_date = dt.datetime(2015,6,1)\n",
    "flen=1\n",
    "namfmt='nowcast'\n",
    "filemap={'vosaline':'grid_T','votemper':'grid_T'}\n",
    "fdict={'turb_T':1,'grid_T':1}"
   ]
  },
  {
   "cell_type": "code",
   "execution_count": 20,
   "metadata": {},
   "outputs": [
    {
     "name": "stdout",
     "output_type": "stream",
     "text": [
      "ferry\n",
      "data is matched to mean of upper 3 model levels\n",
      "done index grid_T 2021-02-04 14:48:26.071845\n",
      "grid_T progress: 0.0%\n",
      "grid_T progress: 10.000437655914919%\n",
      "grid_T progress: 20.000875311829837%\n",
      "grid_T progress: 30.00131296774476%\n",
      "grid_T progress: 40.001750623659674%\n",
      "grid_T progress: 50.0021882795746%\n",
      "grid_T progress: 60.00262593548952%\n",
      "grid_T progress: 70.00306359140444%\n",
      "grid_T progress: 80.00350124731935%\n",
      "grid_T progress: 90.00393890323429%\n",
      "Time elapsed:  0:04:03.007287\n"
     ]
    }
   ],
   "source": [
    "it0=dt.datetime.now()\n",
    "data=et.matchData(df,filemap, fdict, start_date, end_date, namfmt, PATH, flen,method='ferry',preIndexed=True)\n",
    "print('Time elapsed: ',dt.datetime.now()-it0)"
   ]
  },
  {
   "cell_type": "code",
   "execution_count": 21,
   "metadata": {},
   "outputs": [
    {
     "data": {
      "text/plain": [
       "Index(['Year', 'Month', 'Day', 'Hour', 'MLat', 'MLon', 'i', 'j', 'Avg_CT',\n",
       "       'AvgSA', 'AvgChl_ugl', 'AvgTurb_NTU', 'dtUTC', 'mod_vosaline',\n",
       "       'mod_votemper', 'indf_grid_T', 'ih_grid_T'],\n",
       "      dtype='object')"
      ]
     },
     "execution_count": 21,
     "metadata": {},
     "output_type": "execute_result"
    }
   ],
   "source": [
    "data.keys()"
   ]
  },
  {
   "cell_type": "code",
   "execution_count": 22,
   "metadata": {},
   "outputs": [
    {
     "data": {
      "image/png": "[encoded data removed]",
      "text/plain": [
       "<Figure size 864x360 with 2 Axes>"
      ]
     },
     "metadata": {
      "needs_background": "light"
     },
     "output_type": "display_data"
    }
   ],
   "source": [
    "fig,ax=plt.subplots(1,2,figsize=(12,5))\n",
    "fig.subplots_adjust(wspace=.4)\n",
    "cmap=cmocean.cm.thermal\n",
    "cmap.set_bad('gray')\n",
    "h,x,y,m2=ax[0].hist2d(data['AvgSA'],data['mod_vosaline'],cmap=cmap,bins=25*3,norm=LogNorm());\n",
    "ax[0].set_xlabel('Observed')\n",
    "ax[0].set_ylabel('Modelled')\n",
    "ax[0].plot((0,35),(0,35),'w-')\n",
    "ax[0].set_title('Absolute Salinity (g kg$^{-1}$)')\n",
    "ax[0].set_aspect(1)\n",
    "h,x,y,m=ax[1].hist2d(data['Avg_CT'],data['mod_votemper'],cmap=cmap,bins=25*3,norm=LogNorm());#\n",
    "ax[1].set_xlabel('Observed')\n",
    "ax[1].set_ylabel('Modelled')\n",
    "ax[1].plot((0,36),(0,36),'w-')\n",
    "ax[1].set_title('Conservative Temperature ($^\\circ$C)')\n",
    "ax[1].set_aspect(1)\n",
    "#fig.colorbar(m,ax=ax[1])\n",
    "#fig.colorbar(m2,ax=ax[0])"
   ]
  },
  {
   "cell_type": "code",
   "execution_count": 23,
   "metadata": {},
   "outputs": [],
   "source": [
    "session.close()\n",
    "engine.dispose()"
   ]
  },
  {
   "cell_type": "code",
   "execution_count": null,
   "metadata": {},
   "outputs": [],
   "source": []
  }
 ],
 "metadata": {
  "anaconda-cloud": {},
  "kernelspec": {
   "display_name": "Python (py39)",
   "language": "python",
   "name": "py39"
  },
  "language_info": {
   "codemirror_mode": {
    "name": "ipython",
    "version": 3
   },
   "file_extension": ".py",
   "mimetype": "text/x-python",
   "name": "python",
   "nbconvert_exporter": "python",
   "pygments_lexer": "ipython3",
   "version": "3.9.1"
  }
 },
 "nbformat": 4,
 "nbformat_minor": 2
}
