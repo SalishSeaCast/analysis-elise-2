{
 "cells": [
  {
   "cell_type": "markdown",
   "metadata": {},
   "source": [
    "Run this code after running createDBfromSTRATOGEM-Final but modifying database name to STRAGOGEM2"
   ]
  },
  {
   "cell_type": "code",
   "execution_count": 1,
   "metadata": {},
   "outputs": [],
   "source": [
    "from sqlalchemy import create_engine, Column, String, Integer, Boolean, MetaData, Table, case, between, ForeignKey\n",
    "from sqlalchemy.orm import mapper, create_session, relationship\n",
    "from sqlalchemy.ext.declarative import declarative_base\n",
    "from sqlalchemy.ext.automap import automap_base\n",
    "import sqlalchemy.types as types\n",
    "from sqlalchemy.sql import select, and_, or_, not_, func\n",
    "import pandas as pd\n",
    "import numpy as np"
   ]
  },
  {
   "cell_type": "code",
   "execution_count": 2,
   "metadata": {},
   "outputs": [],
   "source": [
    "basepath='/ocean/eolson/MEOPAR/obs/'\n",
    "basedir=basepath + 'STRATOGEM/'\n",
    "dbname2='STRATOGEM2'\n",
    "dbname1='STRATOGEM'"
   ]
  },
  {
   "cell_type": "code",
   "execution_count": 3,
   "metadata": {},
   "outputs": [
    {
     "name": "stdout",
     "output_type": "stream",
     "text": [
      "124954\n"
     ]
    },
    {
     "data": {
      "text/html": [
       "<div>\n",
       "<style scoped>\n",
       "    .dataframe tbody tr th:only-of-type {\n",
       "        vertical-align: middle;\n",
       "    }\n",
       "\n",
       "    .dataframe tbody tr th {\n",
       "        vertical-align: top;\n",
       "    }\n",
       "\n",
       "    .dataframe thead th {\n",
       "        text-align: right;\n",
       "    }\n",
       "</style>\n",
       "<table border=\"1\" class=\"dataframe\">\n",
       "  <thead>\n",
       "    <tr style=\"text-align: right;\">\n",
       "      <th></th>\n",
       "      <th>ID</th>\n",
       "      <th>ID_ChlProf</th>\n",
       "      <th>ID_CTDProf</th>\n",
       "      <th>Depth</th>\n",
       "      <th>Temperature</th>\n",
       "      <th>Salinity</th>\n",
       "      <th>PAR_ctd</th>\n",
       "      <th>Xmis_ctd</th>\n",
       "      <th>Fluor_ctd</th>\n",
       "      <th>chl002</th>\n",
       "      <th>chl020</th>\n",
       "      <th>chl200</th>\n",
       "      <th>Ox_bot</th>\n",
       "      <th>Ox_ctd</th>\n",
       "      <th>NO3</th>\n",
       "      <th>PO4</th>\n",
       "      <th>Si</th>\n",
       "      <th>CombStationTBLID</th>\n",
       "    </tr>\n",
       "  </thead>\n",
       "  <tbody>\n",
       "    <tr>\n",
       "      <th>0</th>\n",
       "      <td>1</td>\n",
       "      <td>1.0</td>\n",
       "      <td>1.0</td>\n",
       "      <td>0.991493</td>\n",
       "      <td>8.7769</td>\n",
       "      <td>24.8197</td>\n",
       "      <td>127.440</td>\n",
       "      <td>79.3714</td>\n",
       "      <td>14.0380</td>\n",
       "      <td>12.5</td>\n",
       "      <td>9.9</td>\n",
       "      <td>9.1</td>\n",
       "      <td>NaN</td>\n",
       "      <td>NaN</td>\n",
       "      <td>4.1</td>\n",
       "      <td>0.5</td>\n",
       "      <td>22.1</td>\n",
       "      <td>1</td>\n",
       "    </tr>\n",
       "    <tr>\n",
       "      <th>1</th>\n",
       "      <td>2</td>\n",
       "      <td>4.0</td>\n",
       "      <td>142.0</td>\n",
       "      <td>0.991493</td>\n",
       "      <td>9.0391</td>\n",
       "      <td>25.6621</td>\n",
       "      <td>123.750</td>\n",
       "      <td>63.7020</td>\n",
       "      <td>21.2260</td>\n",
       "      <td>16.3</td>\n",
       "      <td>11.2</td>\n",
       "      <td>12.3</td>\n",
       "      <td>NaN</td>\n",
       "      <td>NaN</td>\n",
       "      <td>12.1</td>\n",
       "      <td>0.3</td>\n",
       "      <td>7.2</td>\n",
       "      <td>2</td>\n",
       "    </tr>\n",
       "    <tr>\n",
       "      <th>2</th>\n",
       "      <td>3</td>\n",
       "      <td>5.0</td>\n",
       "      <td>146.0</td>\n",
       "      <td>4.957415</td>\n",
       "      <td>8.4333</td>\n",
       "      <td>28.3877</td>\n",
       "      <td>21.224</td>\n",
       "      <td>80.2542</td>\n",
       "      <td>27.3503</td>\n",
       "      <td>15.7</td>\n",
       "      <td>NaN</td>\n",
       "      <td>NaN</td>\n",
       "      <td>NaN</td>\n",
       "      <td>NaN</td>\n",
       "      <td>2.0</td>\n",
       "      <td>0.6</td>\n",
       "      <td>18.4</td>\n",
       "      <td>2</td>\n",
       "    </tr>\n",
       "    <tr>\n",
       "      <th>3</th>\n",
       "      <td>4</td>\n",
       "      <td>6.0</td>\n",
       "      <td>157.0</td>\n",
       "      <td>15.863305</td>\n",
       "      <td>7.9070</td>\n",
       "      <td>29.5599</td>\n",
       "      <td>2.074</td>\n",
       "      <td>92.4175</td>\n",
       "      <td>7.5571</td>\n",
       "      <td>6.3</td>\n",
       "      <td>NaN</td>\n",
       "      <td>NaN</td>\n",
       "      <td>NaN</td>\n",
       "      <td>NaN</td>\n",
       "      <td>21.8</td>\n",
       "      <td>1.7</td>\n",
       "      <td>46.0</td>\n",
       "      <td>2</td>\n",
       "    </tr>\n",
       "    <tr>\n",
       "      <th>4</th>\n",
       "      <td>5</td>\n",
       "      <td>7.0</td>\n",
       "      <td>280.0</td>\n",
       "      <td>0.991493</td>\n",
       "      <td>8.9074</td>\n",
       "      <td>27.2958</td>\n",
       "      <td>124.440</td>\n",
       "      <td>84.7162</td>\n",
       "      <td>8.4304</td>\n",
       "      <td>5.2</td>\n",
       "      <td>4.0</td>\n",
       "      <td>4.1</td>\n",
       "      <td>9.8</td>\n",
       "      <td>9.42227</td>\n",
       "      <td>0.0</td>\n",
       "      <td>0.1</td>\n",
       "      <td>4.5</td>\n",
       "      <td>3</td>\n",
       "    </tr>\n",
       "  </tbody>\n",
       "</table>\n",
       "</div>"
      ],
      "text/plain": [
       "   ID  ID_ChlProf  ID_CTDProf      Depth  Temperature  Salinity  PAR_ctd  \\\n",
       "0   1         1.0         1.0   0.991493       8.7769   24.8197  127.440   \n",
       "1   2         4.0       142.0   0.991493       9.0391   25.6621  123.750   \n",
       "2   3         5.0       146.0   4.957415       8.4333   28.3877   21.224   \n",
       "3   4         6.0       157.0  15.863305       7.9070   29.5599    2.074   \n",
       "4   5         7.0       280.0   0.991493       8.9074   27.2958  124.440   \n",
       "\n",
       "   Xmis_ctd  Fluor_ctd  chl002  chl020  chl200  Ox_bot   Ox_ctd   NO3  PO4  \\\n",
       "0   79.3714    14.0380    12.5     9.9     9.1     NaN      NaN   4.1  0.5   \n",
       "1   63.7020    21.2260    16.3    11.2    12.3     NaN      NaN  12.1  0.3   \n",
       "2   80.2542    27.3503    15.7     NaN     NaN     NaN      NaN   2.0  0.6   \n",
       "3   92.4175     7.5571     6.3     NaN     NaN     NaN      NaN  21.8  1.7   \n",
       "4   84.7162     8.4304     5.2     4.0     4.1     9.8  9.42227   0.0  0.1   \n",
       "\n",
       "     Si  CombStationTBLID  \n",
       "0  22.1                 1  \n",
       "1   7.2                 2  \n",
       "2  18.4                 2  \n",
       "3  46.0                 2  \n",
       "4   4.5                 3  "
      ]
     },
     "execution_count": 3,
     "metadata": {},
     "output_type": "execute_result"
    }
   ],
   "source": [
    "Base = automap_base()\n",
    "engine = create_engine('sqlite:///' + basedir + dbname1 + '.sqlite', echo = False)\n",
    "df1 = pd.read_sql_table('CombProfTBL', engine)\n",
    "engine.dispose()\n",
    "print(len(df1))\n",
    "df1.head()\n"
   ]
  },
  {
   "cell_type": "code",
   "execution_count": 4,
   "metadata": {},
   "outputs": [
    {
     "name": "stdout",
     "output_type": "stream",
     "text": [
      "124954\n"
     ]
    },
    {
     "data": {
      "text/html": [
       "<div>\n",
       "<style scoped>\n",
       "    .dataframe tbody tr th:only-of-type {\n",
       "        vertical-align: middle;\n",
       "    }\n",
       "\n",
       "    .dataframe tbody tr th {\n",
       "        vertical-align: top;\n",
       "    }\n",
       "\n",
       "    .dataframe thead th {\n",
       "        text-align: right;\n",
       "    }\n",
       "</style>\n",
       "<table border=\"1\" class=\"dataframe\">\n",
       "  <thead>\n",
       "    <tr style=\"text-align: right;\">\n",
       "      <th></th>\n",
       "      <th>ID</th>\n",
       "      <th>ID_ChlProf</th>\n",
       "      <th>ID_CTDProf</th>\n",
       "      <th>Depth</th>\n",
       "      <th>Temperature</th>\n",
       "      <th>Salinity</th>\n",
       "      <th>PAR_ctd</th>\n",
       "      <th>Xmis_ctd</th>\n",
       "      <th>Fluor_ctd</th>\n",
       "      <th>chl002</th>\n",
       "      <th>chl020</th>\n",
       "      <th>chl200</th>\n",
       "      <th>Ox_bot</th>\n",
       "      <th>Ox_ctd</th>\n",
       "      <th>NO3</th>\n",
       "      <th>PO4</th>\n",
       "      <th>Si</th>\n",
       "      <th>CombStationTBLID</th>\n",
       "    </tr>\n",
       "  </thead>\n",
       "  <tbody>\n",
       "    <tr>\n",
       "      <th>0</th>\n",
       "      <td>1</td>\n",
       "      <td>1.0</td>\n",
       "      <td>1.0</td>\n",
       "      <td>0.991494</td>\n",
       "      <td>8.7769</td>\n",
       "      <td>24.8197</td>\n",
       "      <td>127.440</td>\n",
       "      <td>79.3714</td>\n",
       "      <td>14.0380</td>\n",
       "      <td>12.5</td>\n",
       "      <td>9.9</td>\n",
       "      <td>9.1</td>\n",
       "      <td>NaN</td>\n",
       "      <td>NaN</td>\n",
       "      <td>4.1</td>\n",
       "      <td>0.5</td>\n",
       "      <td>22.1</td>\n",
       "      <td>1</td>\n",
       "    </tr>\n",
       "    <tr>\n",
       "      <th>1</th>\n",
       "      <td>2</td>\n",
       "      <td>4.0</td>\n",
       "      <td>142.0</td>\n",
       "      <td>0.991494</td>\n",
       "      <td>9.0391</td>\n",
       "      <td>25.6621</td>\n",
       "      <td>123.750</td>\n",
       "      <td>63.7020</td>\n",
       "      <td>21.2260</td>\n",
       "      <td>16.3</td>\n",
       "      <td>11.2</td>\n",
       "      <td>12.3</td>\n",
       "      <td>NaN</td>\n",
       "      <td>NaN</td>\n",
       "      <td>12.1</td>\n",
       "      <td>0.3</td>\n",
       "      <td>7.2</td>\n",
       "      <td>2</td>\n",
       "    </tr>\n",
       "    <tr>\n",
       "      <th>2</th>\n",
       "      <td>3</td>\n",
       "      <td>5.0</td>\n",
       "      <td>146.0</td>\n",
       "      <td>4.957422</td>\n",
       "      <td>8.4333</td>\n",
       "      <td>28.3877</td>\n",
       "      <td>21.224</td>\n",
       "      <td>80.2542</td>\n",
       "      <td>27.3503</td>\n",
       "      <td>15.7</td>\n",
       "      <td>NaN</td>\n",
       "      <td>NaN</td>\n",
       "      <td>NaN</td>\n",
       "      <td>NaN</td>\n",
       "      <td>2.0</td>\n",
       "      <td>0.6</td>\n",
       "      <td>18.4</td>\n",
       "      <td>2</td>\n",
       "    </tr>\n",
       "    <tr>\n",
       "      <th>3</th>\n",
       "      <td>4</td>\n",
       "      <td>6.0</td>\n",
       "      <td>157.0</td>\n",
       "      <td>15.863327</td>\n",
       "      <td>7.9070</td>\n",
       "      <td>29.5599</td>\n",
       "      <td>2.074</td>\n",
       "      <td>92.4175</td>\n",
       "      <td>7.5571</td>\n",
       "      <td>6.3</td>\n",
       "      <td>NaN</td>\n",
       "      <td>NaN</td>\n",
       "      <td>NaN</td>\n",
       "      <td>NaN</td>\n",
       "      <td>21.8</td>\n",
       "      <td>1.7</td>\n",
       "      <td>46.0</td>\n",
       "      <td>2</td>\n",
       "    </tr>\n",
       "    <tr>\n",
       "      <th>4</th>\n",
       "      <td>5</td>\n",
       "      <td>7.0</td>\n",
       "      <td>280.0</td>\n",
       "      <td>0.991494</td>\n",
       "      <td>8.9074</td>\n",
       "      <td>27.2958</td>\n",
       "      <td>124.440</td>\n",
       "      <td>84.7162</td>\n",
       "      <td>8.4304</td>\n",
       "      <td>5.2</td>\n",
       "      <td>4.0</td>\n",
       "      <td>4.1</td>\n",
       "      <td>9.8</td>\n",
       "      <td>9.42227</td>\n",
       "      <td>0.0</td>\n",
       "      <td>0.1</td>\n",
       "      <td>4.5</td>\n",
       "      <td>3</td>\n",
       "    </tr>\n",
       "  </tbody>\n",
       "</table>\n",
       "</div>"
      ],
      "text/plain": [
       "   ID  ID_ChlProf  ID_CTDProf      Depth  Temperature  Salinity  PAR_ctd  \\\n",
       "0   1         1.0         1.0   0.991494       8.7769   24.8197  127.440   \n",
       "1   2         4.0       142.0   0.991494       9.0391   25.6621  123.750   \n",
       "2   3         5.0       146.0   4.957422       8.4333   28.3877   21.224   \n",
       "3   4         6.0       157.0  15.863327       7.9070   29.5599    2.074   \n",
       "4   5         7.0       280.0   0.991494       8.9074   27.2958  124.440   \n",
       "\n",
       "   Xmis_ctd  Fluor_ctd  chl002  chl020  chl200  Ox_bot   Ox_ctd   NO3  PO4  \\\n",
       "0   79.3714    14.0380    12.5     9.9     9.1     NaN      NaN   4.1  0.5   \n",
       "1   63.7020    21.2260    16.3    11.2    12.3     NaN      NaN  12.1  0.3   \n",
       "2   80.2542    27.3503    15.7     NaN     NaN     NaN      NaN   2.0  0.6   \n",
       "3   92.4175     7.5571     6.3     NaN     NaN     NaN      NaN  21.8  1.7   \n",
       "4   84.7162     8.4304     5.2     4.0     4.1     9.8  9.42227   0.0  0.1   \n",
       "\n",
       "     Si  CombStationTBLID  \n",
       "0  22.1                 1  \n",
       "1   7.2                 2  \n",
       "2  18.4                 2  \n",
       "3  46.0                 2  \n",
       "4   4.5                 3  "
      ]
     },
     "execution_count": 4,
     "metadata": {},
     "output_type": "execute_result"
    }
   ],
   "source": [
    "Base = automap_base()\n",
    "engine2 = create_engine('sqlite:///' + basedir + dbname2 + '.sqlite', echo = False)\n",
    "df2 = pd.read_sql_table('CombProfTBL', engine2)\n",
    "engine.dispose()\n",
    "print(len(df2))\n",
    "df2.head()"
   ]
  },
  {
   "cell_type": "code",
   "execution_count": 5,
   "metadata": {},
   "outputs": [
    {
     "data": {
      "text/plain": [
       "(124954, 124954)"
      ]
     },
     "execution_count": 5,
     "metadata": {},
     "output_type": "execute_result"
    }
   ],
   "source": [
    "len(df1),len(df2)"
   ]
  },
  {
   "cell_type": "code",
   "execution_count": 9,
   "metadata": {},
   "outputs": [
    {
     "data": {
      "text/plain": [
       "0.0"
      ]
     },
     "execution_count": 9,
     "metadata": {},
     "output_type": "execute_result"
    }
   ],
   "source": [
    "np.max(np.abs(df1['NO3']-df2['NO3']))"
   ]
  },
  {
   "cell_type": "code",
   "execution_count": 10,
   "metadata": {},
   "outputs": [
    {
     "data": {
      "text/plain": [
       "0.00024967409279952335"
      ]
     },
     "execution_count": 10,
     "metadata": {},
     "output_type": "execute_result"
    }
   ],
   "source": [
    "np.max(np.abs(df1['Depth']-df2['Depth']))"
   ]
  },
  {
   "cell_type": "code",
   "execution_count": 11,
   "metadata": {},
   "outputs": [
    {
     "data": {
      "text/plain": [
       "0.0"
      ]
     },
     "execution_count": 11,
     "metadata": {},
     "output_type": "execute_result"
    }
   ],
   "source": [
    "np.max(np.abs(df1['chl002']-df2['chl002']))"
   ]
  },
  {
   "cell_type": "code",
   "execution_count": 12,
   "metadata": {},
   "outputs": [
    {
     "data": {
      "text/plain": [
       "0.0"
      ]
     },
     "execution_count": 12,
     "metadata": {},
     "output_type": "execute_result"
    }
   ],
   "source": [
    "np.max(np.abs(df1['Xmis_ctd']-df2['Xmis_ctd']))"
   ]
  },
  {
   "cell_type": "code",
   "execution_count": 13,
   "metadata": {},
   "outputs": [
    {
     "data": {
      "text/plain": [
       "0.0"
      ]
     },
     "execution_count": 13,
     "metadata": {},
     "output_type": "execute_result"
    }
   ],
   "source": [
    "np.max(np.abs(df1['PAR_ctd']-df2['PAR_ctd']))"
   ]
  },
  {
   "cell_type": "code",
   "execution_count": null,
   "metadata": {},
   "outputs": [],
   "source": []
  }
 ],
 "metadata": {
  "kernelspec": {
   "display_name": "Python (py37)",
   "language": "python",
   "name": "py37"
  },
  "language_info": {
   "codemirror_mode": {
    "name": "ipython",
    "version": 3
   },
   "file_extension": ".py",
   "mimetype": "text/x-python",
   "name": "python",
   "nbconvert_exporter": "python",
   "pygments_lexer": "ipython3",
   "version": "3.7.5"
  }
 },
 "nbformat": 4,
 "nbformat_minor": 2
}
