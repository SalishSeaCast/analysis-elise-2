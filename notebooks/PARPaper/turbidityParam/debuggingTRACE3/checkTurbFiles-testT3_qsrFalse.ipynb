{
 "cells": [
  {
   "cell_type": "code",
   "execution_count": 4,
   "metadata": {},
   "outputs": [],
   "source": [
    "import netCDF4 as nc\n",
    "import matplotlib.pyplot as plt\n",
    "import numpy as np\n",
    "from salishsea_tools import evaltools as et\n",
    "import datetime as dt\n",
    "%matplotlib inline"
   ]
  },
  {
   "cell_type": "code",
   "execution_count": 5,
   "metadata": {},
   "outputs": [
    {
     "name": "stdout",
     "output_type": "stream",
     "text": [
      "dict_keys(['nav_lon', 'nav_lat', 'nav_lev', 'time_counter', 'tmask', 'umask', 'vmask', 'fmask', 'tmaskutil', 'umaskutil', 'vmaskutil', 'fmaskutil', 'glamt', 'glamu', 'glamv', 'glamf', 'gphit', 'gphiu', 'gphiv', 'gphif', 'e1t', 'e1u', 'e1v', 'e1f', 'e2t', 'e2u', 'e2v', 'e2f', 'ff', 'mbathy', 'misf', 'isfdraft', 'e3t_0', 'e3u_0', 'e3v_0', 'e3w_0', 'gdept_0', 'gdepu', 'gdepv', 'gdepw_0', 'gdept_1d', 'gdepw_1d', 'e3t_1d', 'e3w_1d'])\n"
     ]
    }
   ],
   "source": [
    "with nc.Dataset('/ocean/eolson/MEOPAR/NEMO-forcing/grid/mesh_mask201702_noLPE.nc') as fm:\n",
    "    print(fm.variables.keys())\n",
    "    tmask=fm.variables['tmask'][0,:,:,:]\n",
    "    z=fm.variables['gdept_1d'][:]\n",
    "    e1e2t=fm.variables['e1t'][:,:,:]*fm.variables['e2t'][:,:,:]"
   ]
  },
  {
   "cell_type": "code",
   "execution_count": 6,
   "metadata": {},
   "outputs": [
    {
     "ename": "FileNotFoundError",
     "evalue": "[Errno 2] No such file or directory: b'/data/eolson/results/MEOPAR/SS36runs/GrahamRuns/results/testT3_qsrFalse/SalishSea_1h_20150401_20150410_ptrc_T_20150401-20150410.nc'",
     "output_type": "error",
     "traceback": [
      "\u001b[0;31m---------------------------------------------------------------------------\u001b[0m",
      "\u001b[0;31mFileNotFoundError\u001b[0m                         Traceback (most recent call last)",
      "\u001b[0;32m<ipython-input-6-9f22a58c5dca>\u001b[0m in \u001b[0;36m<module>\u001b[0;34m\u001b[0m\n\u001b[0;32m----> 1\u001b[0;31m \u001b[0mf0\u001b[0m\u001b[0;34m=\u001b[0m\u001b[0mnc\u001b[0m\u001b[0;34m.\u001b[0m\u001b[0mDataset\u001b[0m\u001b[0;34m(\u001b[0m\u001b[0;34m'/data/eolson/results/MEOPAR/SS36runs/GrahamRuns/results/testT3_qsrFalse/SalishSea_1h_20150401_20150410_ptrc_T_20150401-20150410.nc'\u001b[0m\u001b[0;34m)\u001b[0m\u001b[0;34m\u001b[0m\u001b[0;34m\u001b[0m\u001b[0m\n\u001b[0m",
      "\u001b[0;32mnetCDF4/_netCDF4.pyx\u001b[0m in \u001b[0;36mnetCDF4._netCDF4.Dataset.__init__\u001b[0;34m()\u001b[0m\n",
      "\u001b[0;32mnetCDF4/_netCDF4.pyx\u001b[0m in \u001b[0;36mnetCDF4._netCDF4._ensure_nc_success\u001b[0;34m()\u001b[0m\n",
      "\u001b[0;31mFileNotFoundError\u001b[0m: [Errno 2] No such file or directory: b'/data/eolson/results/MEOPAR/SS36runs/GrahamRuns/results/testT3_qsrFalse/SalishSea_1h_20150401_20150410_ptrc_T_20150401-20150410.nc'"
     ]
    }
   ],
   "source": [
    "f0=nc.Dataset('/data/eolson/results/MEOPAR/SS36runs/GrahamRuns/results/testT3_qsrFalse/SalishSea_1h_20150401_20150410_ptrc_T_20150401-20150410.nc')"
   ]
  },
  {
   "cell_type": "code",
   "execution_count": null,
   "metadata": {},
   "outputs": [],
   "source": [
    "f0.variables.keys()"
   ]
  },
  {
   "cell_type": "code",
   "execution_count": null,
   "metadata": {},
   "outputs": [],
   "source": [
    "plt.plot(f0.variables['TUR1'][:,3,415,345],'r-')\n",
    "plt.plot(f0.variables['TUR2'][:,3,415,345],'b-')\n",
    "plt.plot(f0.variables['SFTURB'][:,415,345],'m-')"
   ]
  },
  {
   "cell_type": "code",
   "execution_count": null,
   "metadata": {},
   "outputs": [],
   "source": [
    "fig,ax=plt.subplots(1,1,figsize=(8,8))\n",
    "m=ax.pcolormesh(np.ma.masked_where(tmask[0,360:470,250:]==0,f0.variables['TUR1'][-1,0,360:470,250:]))\n",
    "fig.colorbar(m)"
   ]
  },
  {
   "cell_type": "code",
   "execution_count": null,
   "metadata": {},
   "outputs": [],
   "source": [
    "fig,ax=plt.subplots(1,1,figsize=(8,8))\n",
    "m=ax.pcolormesh(np.ma.masked_where(tmask[0,360:470,250:]==0,f0.variables['TUR9'][-1,0,360:470,250:]))\n",
    "fig.colorbar(m)"
   ]
  },
  {
   "cell_type": "code",
   "execution_count": null,
   "metadata": {},
   "outputs": [],
   "source": [
    "plt.plot(-1/(24*3600)*np.ones(np.shape(f0.variables['woce'][1,:,414,200:])),f0.variables['BIOSINK1'][1,:,414,200:],'k.');"
   ]
  },
  {
   "cell_type": "code",
   "execution_count": null,
   "metadata": {},
   "outputs": [],
   "source": [
    "plt.plot(np.ones(np.shape(f0.variables['woce'][1,:,414,200:]))*e1e2t[0,414,200:],f0.variables['E1E2TASP'][1,:,414,200:],'k.');"
   ]
  },
  {
   "cell_type": "code",
   "execution_count": null,
   "metadata": {},
   "outputs": [],
   "source": [
    "fig,ax=plt.subplots(1,1,figsize=(8,6))\n",
    "ax.plot(e1e2t[0,414,200:],f0.variables['E1E2TA'][1,414,200:],'k.');"
   ]
  },
  {
   "cell_type": "code",
   "execution_count": null,
   "metadata": {},
   "outputs": [],
   "source": [
    "fig,ax=plt.subplots(1,1,figsize=(8,6))\n",
    "ax.plot(f0.variables['woce'][1,:,414,200:]*e1e2t[:,414,200:],f0.variables['ZWN1'][1,:,414,200:],'k.');\n",
    "ax.plot(f0.variables['woce'][1,0,414,200:]*e1e2t[0,414,200:],f0.variables['ZWN1'][1,0,414,200:],'r.');"
   ]
  },
  {
   "cell_type": "code",
   "execution_count": null,
   "metadata": {},
   "outputs": [],
   "source": [
    "fig,ax=plt.subplots(1,1,figsize=(8,6))\n",
    "ax.plot(-1/(24*3600)*np.ones(np.shape(f0.variables['woce'][1,:,414,200:]))*e1e2t[:,414,200:]*tmask[:,414,200:],\n",
    "        f0.variables['ZWNBIO1'][1,:,414,200:]*tmask[:,414,200:],'k.');\n",
    "ax.plot(-1/(24*3600)*np.ones(np.shape(f0.variables['woce'][1,0,414,200:]))*e1e2t[0,414,200:]*tmask[0,414,200:],\n",
    "        f0.variables['ZWNBIO1'][1,0,414,200:]*tmask[0,414,200:],'r.');\n",
    "ax.plot(-1/(24*3600)*np.ones(np.shape(f0.variables['woce'][1,20,414,200:]))*e1e2t[0,414,200:]*tmask[20,414,200:],\n",
    "        f0.variables['ZWNBIO1'][1,20,414,200:]*tmask[20,414,200:],'c.');"
   ]
  },
  {
   "cell_type": "code",
   "execution_count": null,
   "metadata": {},
   "outputs": [],
   "source": [
    "fig,ax=plt.subplots(1,1,figsize=(8,6))\n",
    "ax.plot(-1/(24*3600)*np.ones(np.shape(f0.variables['woce'][1,:,414,200:]))*e1e2t[:,414,200:]*tmask[:,414,200:],\n",
    "        f0.variables['ZWNBIO2'][1,:,414,200:]*tmask[:,414,200:],'k.');\n",
    "ax.plot(-1/(24*3600)*np.ones(np.shape(f0.variables['woce'][1,0,414,200:]))*e1e2t[0,414,200:]*tmask[0,414,200:],\n",
    "        f0.variables['ZWNBIO2'][1,0,414,200:]*tmask[0,414,200:],'r.');\n",
    "ax.plot(-1/(24*3600)*np.ones(np.shape(f0.variables['woce'][1,20,414,200:]))*e1e2t[0,414,200:]*tmask[20,414,200:],\n",
    "        f0.variables['ZWNBIO2'][1,20,414,200:]*tmask[20,414,200:],'c.');"
   ]
  },
  {
   "cell_type": "code",
   "execution_count": null,
   "metadata": {},
   "outputs": [],
   "source": [
    "fig,ax=plt.subplots(1,1,figsize=(8,6))\n",
    "ax.plot(-1/(24*3600)*np.ones(np.shape(f0.variables['woce'][1,:,414,200:]))*e1e2t[:,414,200:],\n",
    "        f0.variables['BIOSINK1'][1,:,414,200:]*f0.variables['E1E2TASP'][1,:,414,200:],'k.');"
   ]
  },
  {
   "cell_type": "code",
   "execution_count": null,
   "metadata": {},
   "outputs": [],
   "source": [
    "fig,ax=plt.subplots(2,1,figsize=(9,6))\n",
    "m=ax[0].pcolormesh(f0.variables['ZWN1'][1,:,414,200:])\n",
    "ax[0].set_ylim(40,0)\n",
    "plt.colorbar(m,ax=ax[0])\n",
    "m=ax[1].pcolormesh(f0.variables['woce'][1,:,414,200:])\n",
    "ax[1].set_ylim(40,0)\n",
    "plt.colorbar(m,ax=ax[1])\n",
    "#plt.plot(f0.variables['ZVN1'][1,:,414,200:],f0.variables['woce'][1,:,414,200:],'k.');"
   ]
  },
  {
   "cell_type": "code",
   "execution_count": null,
   "metadata": {},
   "outputs": [],
   "source": [
    "fig,ax=plt.subplots(2,1,figsize=(9,6))\n",
    "m=ax[0].pcolormesh(f0.variables['ZWNBIO1'][1,:,414,200:])\n",
    "ax[0].set_ylim(40,0)\n",
    "plt.colorbar(m,ax=ax[0])\n",
    "m=ax[1].pcolormesh(f0.variables['ZWNBIO1'][1,:,414,200:]-f0.variables['ZWN1'][1,:,414,200:])\n",
    "ax[1].set_ylim(40,0)\n",
    "plt.colorbar(m,ax=ax[1])\n",
    "#plt.plot(f0.variables['ZVN1'][1,:,414,200:],f0.variables['woce'][1,:,414,200:],'k.');"
   ]
  },
  {
   "cell_type": "markdown",
   "metadata": {},
   "source": [
    "for var in ('TUR1','TUR2', 'TUR3', 'TUR4', 'TUR5', 'TUR6', 'TUR7', 'TUR8', 'TUR9',):\n",
    "    print(np.max(np.abs(f0.variables[var][-1,0,:,:]-f0.variables['TUR10'][-1,0,:,:])))"
   ]
  },
  {
   "cell_type": "code",
   "execution_count": null,
   "metadata": {},
   "outputs": [],
   "source": []
  },
  {
   "cell_type": "code",
   "execution_count": null,
   "metadata": {},
   "outputs": [],
   "source": [
    "plt.pcolormesh(f0.variables['TUR10'][-1,0,:,:],vmin=0,vmax=15)\n",
    "plt.colorbar()"
   ]
  },
  {
   "cell_type": "code",
   "execution_count": null,
   "metadata": {},
   "outputs": [],
   "source": [
    "plt.pcolormesh(f1.variables['TUR1'][-1,0,:,:],vmin=0,vmax=15)\n",
    "plt.colorbar()"
   ]
  },
  {
   "cell_type": "code",
   "execution_count": null,
   "metadata": {},
   "outputs": [],
   "source": [
    "plt.pcolormesh(f1.variables['TUR2'][-1,0,:,:],vmin=0,vmax=15)\n",
    "plt.colorbar()"
   ]
  },
  {
   "cell_type": "code",
   "execution_count": null,
   "metadata": {},
   "outputs": [],
   "source": [
    "np.shape(f0.variables['TUR1'][-1,:,414,200:])"
   ]
  },
  {
   "cell_type": "code",
   "execution_count": null,
   "metadata": {},
   "outputs": [],
   "source": [
    "plt.pcolormesh(np.arange(0,198).T,-1*z.T,np.ma.masked_where(tmask[:,414,200:]==0,f0.variables['TUR1'][-1,:,414,200:]),vmin=0,vmax=5)\n",
    "plt.colorbar()\n",
    "plt.ylim(-50,0)"
   ]
  },
  {
   "cell_type": "code",
   "execution_count": null,
   "metadata": {},
   "outputs": [],
   "source": [
    "plt.pcolormesh(np.arange(0,198).T,-1*z.T,np.ma.masked_where(tmask[:,414,200:]==0,f0.variables['TUR7'][-1,:,414,200:]),vmin=0,vmax=5)\n",
    "plt.colorbar()\n",
    "plt.ylim(-50,0)"
   ]
  },
  {
   "cell_type": "code",
   "execution_count": null,
   "metadata": {},
   "outputs": [],
   "source": [
    "plt.pcolormesh(np.arange(0,198).T,-1*z.T,np.ma.masked_where(tmask[:,414,200:]==0,f0.variables['TUR10'][-1,:,414,200:]),vmin=0,vmax=5)\n",
    "plt.colorbar()\n",
    "plt.ylim(-50,0)"
   ]
  },
  {
   "cell_type": "code",
   "execution_count": null,
   "metadata": {},
   "outputs": [],
   "source": [
    "np.max(f1.variables['TUR1'][0,0,:,:])"
   ]
  },
  {
   "cell_type": "code",
   "execution_count": null,
   "metadata": {},
   "outputs": [],
   "source": [
    "plt.pcolormesh(f0.variables['TUR1'][8,0,:,:])\n",
    "plt.colorbar()"
   ]
  },
  {
   "cell_type": "code",
   "execution_count": null,
   "metadata": {},
   "outputs": [],
   "source": [
    "plt.pcolormesh(f1.variables['TUR5'][-1,0,:,:])\n",
    "plt.colorbar()"
   ]
  },
  {
   "cell_type": "code",
   "execution_count": null,
   "metadata": {},
   "outputs": [],
   "source": [
    "fig,ax=plt.subplots(1,1,figsize=(12,12))\n",
    "m=ax.pcolormesh(f1.variables['TUR2'][0,0,370:450,300:])\n",
    "fig.colorbar(m)\n",
    "ax.plot(40,44,'r*')"
   ]
  },
  {
   "cell_type": "code",
   "execution_count": null,
   "metadata": {},
   "outputs": [],
   "source": [
    "with nc.Dataset('/results/forcing/rivers/turbidity_201906/riverTurbDaily201906_y2015m03d31.nc') as ft:\n",
    "    print(np.max(ft.variables['turb']))\n",
    "with nc.Dataset('/results/forcing/rivers/turbidity_201906/riverTurbDaily201906_y2015m04d01.nc') as ft:\n",
    "    print(np.max(ft.variables['turb']))\n",
    "with nc.Dataset('/results/forcing/rivers/turbidity_201906/riverTurbDaily201906_y2015m04d02.nc') as ft:\n",
    "    print(np.max(ft.variables['turb']))\n",
    "with nc.Dataset('/results/forcing/rivers/turbidity_201906/riverTurbDaily201906_y2015m04d10.nc') as ft:\n",
    "    print(np.max(ft.variables['turb']))\n",
    "with nc.Dataset('/results/forcing/rivers/turbidity_201906/riverTurbDaily201906_y2015m04d15.nc') as ft:\n",
    "    print(np.max(ft.variables['turb']))\n",
    "with nc.Dataset('/results/forcing/rivers/turbidity_201906/riverTurbDaily201906_y2015m04d18.nc') as ft:\n",
    "    print(np.max(ft.variables['turb']))\n",
    "with nc.Dataset('/results/forcing/rivers/turbidity_201906/riverTurbDaily201906_y2015m04d19.nc') as ft:\n",
    "    print(np.max(ft.variables['turb']))\n",
    "with nc.Dataset('/results/forcing/rivers/turbidity_201906/riverTurbDaily201906_y2015m04d20.nc') as ft:\n",
    "    print(np.max(ft.variables['turb']))\n",
    "with nc.Dataset('/results/forcing/rivers/turbidity_201906/riverTurbDaily201906_y2015m04d30.nc') as ft:\n",
    "    print(np.max(ft.variables['turb']))"
   ]
  },
  {
   "cell_type": "code",
   "execution_count": null,
   "metadata": {},
   "outputs": [],
   "source": [
    "plt.pcolormesh(f1.variables['vosaline'][0,0,:,:])\n",
    "plt.colorbar()"
   ]
  },
  {
   "cell_type": "code",
   "execution_count": null,
   "metadata": {},
   "outputs": [],
   "source": [
    "plt.pcolormesh(f1.variables['vosaline'][-1,0,:,:])\n",
    "plt.colorbar()"
   ]
  },
  {
   "cell_type": "code",
   "execution_count": null,
   "metadata": {},
   "outputs": [],
   "source": [
    "plt.pcolormesh(f0.variables['TUR1'][0,:,430,200:],vmin=0,vmax=5)\n",
    "plt.colorbar()"
   ]
  },
  {
   "cell_type": "code",
   "execution_count": null,
   "metadata": {},
   "outputs": [],
   "source": [
    "plt.pcolormesh(f2.variables['TUR1'][9,:,430,200:],vmin=0,vmax=.5)\n",
    "plt.colorbar()"
   ]
  },
  {
   "cell_type": "code",
   "execution_count": null,
   "metadata": {},
   "outputs": [],
   "source": [
    "plt.pcolormesh(f1.variables['TUR1'][29,:,430,200:],vmin=0,vmax=.5)\n",
    "plt.colorbar()"
   ]
  },
  {
   "cell_type": "code",
   "execution_count": null,
   "metadata": {},
   "outputs": [],
   "source": [
    "plt.pcolormesh(f1.variables['TUR1'][9,:,430,345:],vmin=0,vmax=.5)\n",
    "plt.colorbar()"
   ]
  },
  {
   "cell_type": "code",
   "execution_count": null,
   "metadata": {},
   "outputs": [],
   "source": [
    "ftype='riverTurbDaily2'\n",
    "basedir='/data/eolson/results/MEOPAR/SS36runs/GrahamRuns/riverTurbGraham/'\n",
    "nam_fmt='forcing'\n",
    "flen=1\n",
    "tres=24\n",
    "f0turbind=et.index_model_files(dt.datetime(2015,4,1),dt.datetime(2015,4,10),basedir,nam_fmt,flen,ftype,tres)"
   ]
  },
  {
   "cell_type": "code",
   "execution_count": null,
   "metadata": {},
   "outputs": [],
   "source": [
    "xx=0\n",
    "for ifile in f0turbind['paths']:\n",
    "    with nc.Dataset(ifile) as ff:\n",
    "        plt.plot(xx,ff.variables['turb'][0,415,345],'kx')\n",
    "    xx=xx+24\n",
    "plt.plot(f0.variables['TUR1'][:,0,415,345],'r-')\n",
    "plt.plot(f1.variables['TUR1'][:,0,415,345],'b-')"
   ]
  },
  {
   "cell_type": "code",
   "execution_count": null,
   "metadata": {},
   "outputs": [],
   "source": [
    "xx=0\n",
    "for ifile in f0turbind['paths']:\n",
    "    with nc.Dataset(ifile) as ff:\n",
    "        plt.plot(xx,ff.variables['turb'][0,415,345],'kx')\n",
    "    xx=xx+24\n",
    "plt.plot(f0.variables['TUR1'][:,10,415,345],'r-')\n",
    "plt.plot(f1.variables['TUR1'][:,10,415,345],'b-')"
   ]
  },
  {
   "cell_type": "raw",
   "metadata": {},
   "source": [
    "plt.plot(f0.variables['TUR2'][:,0,415,345],'r-')\n",
    "plt.plot(f1.variables['TUR2'][:,0,415,345],'b-')\n",
    "plt.plot(f2.variables['TUR2'][:,0,415,345],'c-')"
   ]
  },
  {
   "cell_type": "raw",
   "metadata": {},
   "source": [
    "plt.pcolormesh(f1.variables['TUR3'][9,:,430,200:],vmin=0,vmax=.5)"
   ]
  },
  {
   "cell_type": "raw",
   "metadata": {},
   "source": [
    "f1.close(); f2.close(); f0.close()"
   ]
  },
  {
   "cell_type": "code",
   "execution_count": null,
   "metadata": {},
   "outputs": [],
   "source": []
  }
 ],
 "metadata": {
  "kernelspec": {
   "display_name": "Python (py38_ct_pmill)",
   "language": "python",
   "name": "py38_ct_pmill"
  },
  "language_info": {
   "codemirror_mode": {
    "name": "ipython",
    "version": 3
   },
   "file_extension": ".py",
   "mimetype": "text/x-python",
   "name": "python",
   "nbconvert_exporter": "python",
   "pygments_lexer": "ipython3",
   "version": "3.8.2"
  }
 },
 "nbformat": 4,
 "nbformat_minor": 2
}
