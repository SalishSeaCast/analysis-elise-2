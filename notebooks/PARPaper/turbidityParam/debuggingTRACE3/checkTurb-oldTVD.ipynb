{
 "cells": [
  {
   "cell_type": "code",
   "execution_count": 1,
   "metadata": {},
   "outputs": [],
   "source": [
    "import netCDF4 as nc\n",
    "import matplotlib.pyplot as plt\n",
    "import numpy as np\n",
    "from salishsea_tools import evaltools as et\n",
    "import datetime as dt\n",
    "import f90nml\n",
    "import os\n",
    "import glob\n",
    "%matplotlib inline"
   ]
  },
  {
   "cell_type": "code",
   "execution_count": 2,
   "metadata": {},
   "outputs": [
    {
     "name": "stdout",
     "output_type": "stream",
     "text": [
      "dict_keys(['nav_lon', 'nav_lat', 'nav_lev', 'time_counter', 'tmask', 'umask', 'vmask', 'fmask', 'tmaskutil', 'umaskutil', 'vmaskutil', 'fmaskutil', 'glamt', 'glamu', 'glamv', 'glamf', 'gphit', 'gphiu', 'gphiv', 'gphif', 'e1t', 'e1u', 'e1v', 'e1f', 'e2t', 'e2u', 'e2v', 'e2f', 'ff', 'mbathy', 'misf', 'isfdraft', 'e3t_0', 'e3u_0', 'e3v_0', 'e3w_0', 'gdept_0', 'gdepu', 'gdepv', 'gdepw_0', 'gdept_1d', 'gdepw_1d', 'e3t_1d', 'e3w_1d'])\n"
     ]
    }
   ],
   "source": [
    "with nc.Dataset('/ocean/eolson/MEOPAR/NEMO-forcing/grid/mesh_mask201702_noLPE.nc') as fm:\n",
    "    print(fm.variables.keys())\n",
    "    tmask=fm.variables['tmask'][:,:,:,:]\n",
    "    z=fm.variables['gdept_1d'][:]\n",
    "    e1e2t=fm.variables['e1t'][:,:,:]*fm.variables['e2t'][:,:,:]\n",
    "    e2t=fm.variables['e2t'][:,:,:]\n",
    "    umask=fm.variables['umask'][:,:,:,:]"
   ]
  },
  {
   "cell_type": "code",
   "execution_count": 3,
   "metadata": {},
   "outputs": [],
   "source": [
    "rpath='/data/eolson/results/MEOPAR/SS36runs/GrahamRuns'\n",
    "tdir='testT4OldTVD'"
   ]
  },
  {
   "cell_type": "code",
   "execution_count": 4,
   "metadata": {},
   "outputs": [],
   "source": [
    "f0=nc.Dataset(glob.glob(os.path.join(rpath,tdir,'SalishSea_1h_*_ptrc_T_*.nc'))[0])"
   ]
  },
  {
   "cell_type": "code",
   "execution_count": 5,
   "metadata": {},
   "outputs": [
    {
     "data": {
      "text/plain": [
       "dict_keys(['nav_lat', 'nav_lon', 'bounds_nav_lon', 'bounds_nav_lat', 'area', 'deptht', 'deptht_bounds', 'time_centered', 'time_centered_bounds', 'time_counter', 'time_counter_bounds', 'TUR1', 'TUR2', 'TUR3', 'TUR4', 'TUR5', 'TUR6', 'TUR7', 'TUR1TRA', 'TUR2TRA', 'RIVTRA0'])"
      ]
     },
     "execution_count": 5,
     "metadata": {},
     "output_type": "execute_result"
    }
   ],
   "source": [
    "f0.variables.keys()"
   ]
  },
  {
   "cell_type": "code",
   "execution_count": 6,
   "metadata": {},
   "outputs": [
    {
     "data": {
      "text/plain": [
       "[<matplotlib.lines.Line2D at 0x7f074edf68e0>]"
      ]
     },
     "execution_count": 6,
     "metadata": {},
     "output_type": "execute_result"
    },
    {
     "data": {
      "image/png": "[encoded data removed]",
      "text/plain": [
       "<Figure size 216x432 with 1 Axes>"
      ]
     },
     "metadata": {
      "needs_background": "light"
     },
     "output_type": "display_data"
    }
   ],
   "source": [
    "fig,ax=plt.subplots(1,1,figsize=(3,6))\n",
    "ax.pcolormesh(tmask[0,0,:,:])\n",
    "ax.plot(260,485,'rx')"
   ]
  },
  {
   "cell_type": "code",
   "execution_count": 7,
   "metadata": {},
   "outputs": [
    {
     "data": {
      "image/png": "[encoded data removed]",
      "text/plain": [
       "<Figure size 432x288 with 1 Axes>"
      ]
     },
     "metadata": {
      "needs_background": "light"
     },
     "output_type": "display_data"
    }
   ],
   "source": [
    "plt.plot(f0.variables['TUR1'][:,0,485\n",
    "                              ,260],'r-');\n",
    "plt.plot(f0.variables['TUR1'][:,10,485\n",
    "                              ,260],'m-');\n",
    "plt.plot(f0.variables['TUR1'][:,20,485\n",
    "                              ,260],'c-');\n",
    "plt.plot(f0.variables['TUR1'][:,30,485\n",
    "                              ,260],'b-');"
   ]
  },
  {
   "cell_type": "code",
   "execution_count": 8,
   "metadata": {},
   "outputs": [
    {
     "data": {
      "text/plain": [
       "masked_array(data=[0.0, 1.0027365533460397e-06, 1.0090247997140978e-06,\n",
       "                   1.1616289157245774e-06, 1.4305545619208715e-06,\n",
       "                   1.4737146329935058e-06, 1.777857846718689e-06,\n",
       "                   1.79770722752437e-06, 2.0563472844514763e-06,\n",
       "                   2.0616305391740752e-06, 2.2593073936150176e-06,\n",
       "                   2.2805472781328717e-06, 2.2873350644658785e-06,\n",
       "                   2.3002203306532465e-06, 2.3852269350754796e-06,\n",
       "                   2.4126084099407308e-06, 2.4923283490352333e-06,\n",
       "                   3.157872924930416e-06, 3.176070094923489e-06,\n",
       "                   3.432897074162611e-06, 3.4334545944147976e-06,\n",
       "                   3.478625103525701e-06, 4.075403467140859e-06,\n",
       "                   4.2278679757146165e-06, 4.29755436925916e-06,\n",
       "                   4.4482808334578294e-06, 4.6029499571886845e-06,\n",
       "                   4.865427854383597e-06, 4.975665433448739e-06,\n",
       "                   4.9789932745625265e-06, 5.059830527898157e-06,\n",
       "                   5.064581273472868e-06, 5.43619762538583e-06,\n",
       "                   5.5649170462857e-06, 5.756889095209772e-06,\n",
       "                   5.961434908385854e-06, 5.990473709971411e-06,\n",
       "                   6.32510182185797e-06, 6.430634584830841e-06,\n",
       "                   6.524576747324318e-06, 6.539201422128826e-06,\n",
       "                   6.567508535226807e-06, 6.593043053726433e-06,\n",
       "                   6.60472232993925e-06, 6.606078386539593e-06,\n",
       "                   6.613531240873272e-06, 6.656566256424412e-06,\n",
       "                   6.8785993789788336e-06, 7.533768894063542e-06,\n",
       "                   7.85504380473867e-06, 7.932562766654883e-06,\n",
       "                   8.090421033557504e-06, 8.116825483739376e-06,\n",
       "                   8.168739441316575e-06, 8.202237040677574e-06,\n",
       "                   8.361854270333424e-06, 8.36521212477237e-06,\n",
       "                   8.414743206230924e-06, 8.430933121417183e-06,\n",
       "                   8.693972631590441e-06, 9.043104910233524e-06,\n",
       "                   9.094221240957268e-06, 9.326285180577543e-06,\n",
       "                   9.756212421052624e-06, 9.886236512102187e-06,\n",
       "                   9.924344340106472e-06, 9.97112238110276e-06,\n",
       "                   1.0190884495386854e-05, 1.0274704436596949e-05,\n",
       "                   1.0358229701523669e-05, 1.0479929187567905e-05,\n",
       "                   1.0673312317521777e-05, 1.0847210432984866e-05,\n",
       "                   1.0969691174977925e-05, 1.1979149348917417e-05,\n",
       "                   1.2338807209744118e-05, 1.2622842405107804e-05,\n",
       "                   1.2632286598091014e-05, 1.2982106454728637e-05,\n",
       "                   1.3075708920951001e-05, 1.3345162187761161e-05,\n",
       "                   1.3377087270782795e-05, 1.3571975614468101e-05,\n",
       "                   1.3899624718760606e-05, 1.4255125279305503e-05,\n",
       "                   1.4430628652917221e-05, 1.4525388905894943e-05,\n",
       "                   1.4571937754226383e-05, 1.5756637367303483e-05,\n",
       "                   1.590766441950109e-05, 1.625397999305278e-05,\n",
       "                   1.6362968381145038e-05, 1.646171585889533e-05,\n",
       "                   1.648803117859643e-05, 1.6554486137465574e-05,\n",
       "                   1.6708618204575032e-05, 1.7121536075137556e-05,\n",
       "                   1.9188071746611968e-05, 1.9269262338639237e-05,\n",
       "                   1.9482107745716348e-05, 1.9508008335833438e-05,\n",
       "                   1.9716415408765897e-05, 2.1037969418102875e-05,\n",
       "                   2.152452179871034e-05, 2.1991747416905127e-05,\n",
       "                   2.296375168953091e-05, 2.3072838303050958e-05,\n",
       "                   2.346073779335711e-05, 2.3667187633691356e-05,\n",
       "                   2.3930982933961786e-05, 2.463518649165053e-05,\n",
       "                   2.4775199563009664e-05, 2.4836066586431116e-05,\n",
       "                   2.4845870939316228e-05, 2.486018456693273e-05,\n",
       "                   2.4877857867977582e-05, 2.5454084607190453e-05,\n",
       "                   2.5781711883610114e-05, 2.594500983832404e-05,\n",
       "                   2.5968773115891963e-05, 2.6286807042197324e-05,\n",
       "                   3.076859866268933e-05, 3.236819611629471e-05,\n",
       "                   3.377530811121687e-05, 3.3992950193351135e-05,\n",
       "                   3.463936081971042e-05, 3.5380362533032894e-05,\n",
       "                   3.562186248018406e-05, 3.610033672885038e-05,\n",
       "                   3.8420577766373754e-05, 3.980279871029779e-05,\n",
       "                   4.066875408170745e-05, 4.190965773887001e-05,\n",
       "                   4.218255344312638e-05, 4.292257290217094e-05,\n",
       "                   4.368385634734295e-05, 4.596986036631279e-05,\n",
       "                   4.934418393531814e-05, 5.152490848558955e-05,\n",
       "                   5.3955125622451305e-05, 5.475556099554524e-05,\n",
       "                   5.644787597702816e-05, 5.8928384532919154e-05,\n",
       "                   5.922670243307948e-05, 6.020641012582928e-05,\n",
       "                   6.023444439051673e-05, 6.237669731490314e-05,\n",
       "                   6.32958035566844e-05, 6.440367724280804e-05,\n",
       "                   6.563923670910299e-05, 6.777159433113411e-05,\n",
       "                   7.075495523167774e-05, 7.106924749678001e-05,\n",
       "                   7.207238377304748e-05, 7.392417319351807e-05,\n",
       "                   7.521247607655823e-05, 7.762250606901944e-05,\n",
       "                   7.768036448396742e-05, 9.332395711680874e-05,\n",
       "                   9.333446359960362e-05, 9.335211507277563e-05,\n",
       "                   0.00010968092101393268, 0.0001163576016551815,\n",
       "                   0.00011766293027903885, 0.00011997640831395984,\n",
       "                   0.0001255810057045892, 0.0001255864481208846,\n",
       "                   0.00015464992611669004, 0.0001565808051964268,\n",
       "                   0.00016650714678689837, 0.00016944615344982594,\n",
       "                   0.0001695405662758276, 0.00019307166803628206,\n",
       "                   0.00021234157611615956, 0.00022497896861750633,\n",
       "                   0.00027499752468429506, 0.000318992038955912,\n",
       "                   0.00033322867238894105, 0.0003711816971190274,\n",
       "                   0.0004043634980916977, 0.00042029249016195536,\n",
       "                   0.0005641753086820245, 0.004533355589956045, --],\n",
       "             mask=[False, False, False, False, False, False, False, False,\n",
       "                   False, False, False, False, False, False, False, False,\n",
       "                   False, False, False, False, False, False, False, False,\n",
       "                   False, False, False, False, False, False, False, False,\n",
       "                   False, False, False, False, False, False, False, False,\n",
       "                   False, False, False, False, False, False, False, False,\n",
       "                   False, False, False, False, False, False, False, False,\n",
       "                   False, False, False, False, False, False, False, False,\n",
       "                   False, False, False, False, False, False, False, False,\n",
       "                   False, False, False, False, False, False, False, False,\n",
       "                   False, False, False, False, False, False, False, False,\n",
       "                   False, False, False, False, False, False, False, False,\n",
       "                   False, False, False, False, False, False, False, False,\n",
       "                   False, False, False, False, False, False, False, False,\n",
       "                   False, False, False, False, False, False, False, False,\n",
       "                   False, False, False, False, False, False, False, False,\n",
       "                   False, False, False, False, False, False, False, False,\n",
       "                   False, False, False, False, False, False, False, False,\n",
       "                   False, False, False, False, False, False, False, False,\n",
       "                   False, False, False, False, False, False, False, False,\n",
       "                   False, False, False, False, False, False, False, False,\n",
       "                   False, False, False, False, False, False, False, False,\n",
       "                   False, False, False, False, False, False, False,  True],\n",
       "       fill_value=1e+20,\n",
       "            dtype=float32)"
      ]
     },
     "execution_count": 8,
     "metadata": {},
     "output_type": "execute_result"
    }
   ],
   "source": [
    "np.unique(np.ma.masked_where(tmask[0,:,:,:]==0,f0.variables['TUR1TRA'][5,:,:,:]))"
   ]
  },
  {
   "cell_type": "code",
   "execution_count": 17,
   "metadata": {},
   "outputs": [
    {
     "data": {
      "text/plain": [
       "<matplotlib.colorbar.Colorbar at 0x7f074ea38970>"
      ]
     },
     "execution_count": 17,
     "metadata": {},
     "output_type": "execute_result"
    },
    {
     "data": {
      "image/png": "[encoded data removed]",
      "text/plain": [
       "<Figure size 432x288 with 2 Axes>"
      ]
     },
     "metadata": {
      "needs_background": "light"
     },
     "output_type": "display_data"
    }
   ],
   "source": [
    "plt.pcolormesh(np.ma.masked_where(tmask[0,0,:,:]==0,f0.variables['TUR1TRA'][5,0,:,:]))\n",
    "plt.colorbar()"
   ]
  },
  {
   "cell_type": "code",
   "execution_count": null,
   "metadata": {},
   "outputs": [],
   "source": [
    "np.unique(np.ma.masked_where(tmask[0,5:,:,:]==0,f0.variables['TUR1TRA'][5,5:,:,:]))"
   ]
  },
  {
   "cell_type": "code",
   "execution_count": 19,
   "metadata": {},
   "outputs": [
    {
     "data": {
      "text/plain": [
       "masked_array(data=[0.],\n",
       "             mask=False,\n",
       "       fill_value=1e+20,\n",
       "            dtype=float32)"
      ]
     },
     "execution_count": 19,
     "metadata": {},
     "output_type": "execute_result"
    }
   ],
   "source": [
    "np.unique(np.ma.masked_where(tmask[0,0,485,260]==0,f0.variables['TUR1TRA'][0,0,485,260]))"
   ]
  },
  {
   "cell_type": "code",
   "execution_count": 20,
   "metadata": {},
   "outputs": [
    {
     "data": {
      "text/plain": [
       "masked_array(data=[0.],\n",
       "             mask=False,\n",
       "       fill_value=1e+20,\n",
       "            dtype=float32)"
      ]
     },
     "execution_count": 20,
     "metadata": {},
     "output_type": "execute_result"
    }
   ],
   "source": [
    "np.unique(np.ma.masked_where(tmask[0,0,485,260]==0,f0.variables['TUR2TRA'][0,0,485,260]))"
   ]
  },
  {
   "cell_type": "code",
   "execution_count": 16,
   "metadata": {},
   "outputs": [
    {
     "data": {
      "text/plain": [
       "masked_array(data=[0.0, --],\n",
       "             mask=[False,  True],\n",
       "       fill_value=1e+20,\n",
       "            dtype=float32)"
      ]
     },
     "execution_count": 16,
     "metadata": {},
     "output_type": "execute_result"
    }
   ],
   "source": [
    "np.unique(np.ma.masked_where(tmask[0,4:,:,:]==0,f0.variables['TUR1TRA'][5,4:,:,:]))"
   ]
  },
  {
   "cell_type": "code",
   "execution_count": 16,
   "metadata": {},
   "outputs": [
    {
     "data": {
      "text/plain": [
       "masked_array(data=[0.0, --],\n",
       "             mask=[False,  True],\n",
       "       fill_value=1e+20,\n",
       "            dtype=float32)"
      ]
     },
     "execution_count": 16,
     "metadata": {},
     "output_type": "execute_result"
    }
   ],
   "source": [
    "np.unique(np.ma.masked_where(tmask[0,4:,:,:]==0,f0.variables['TUR1TRA'][5,4:,:,:]))"
   ]
  },
  {
   "cell_type": "code",
   "execution_count": 9,
   "metadata": {},
   "outputs": [
    {
     "data": {
      "text/plain": [
       "masked_array(data=[0.0, 1.0027365533460397e-06, 1.0090247997140978e-06,\n",
       "                   1.1616289157245774e-06, 1.4305545619208715e-06,\n",
       "                   1.4737146329935058e-06, 1.777857846718689e-06,\n",
       "                   1.79770722752437e-06, 2.0563472844514763e-06,\n",
       "                   2.0616305391740752e-06, 2.2593073936150176e-06,\n",
       "                   2.2805472781328717e-06, 2.2873350644658785e-06,\n",
       "                   2.3002203306532465e-06, 2.3852269350754796e-06,\n",
       "                   2.4126084099407308e-06, 2.4923283490352333e-06,\n",
       "                   3.157872924930416e-06, 3.176070094923489e-06,\n",
       "                   3.432897074162611e-06, 3.4334545944147976e-06,\n",
       "                   3.478625103525701e-06, 4.075403467140859e-06,\n",
       "                   4.2278679757146165e-06, 4.29755436925916e-06,\n",
       "                   4.4482808334578294e-06, 4.6029499571886845e-06,\n",
       "                   4.865427854383597e-06, 4.975665433448739e-06,\n",
       "                   4.9789932745625265e-06, 5.059830527898157e-06,\n",
       "                   5.064581273472868e-06, 5.43619762538583e-06,\n",
       "                   5.5649170462857e-06, 5.756889095209772e-06,\n",
       "                   5.961434908385854e-06, 5.990473709971411e-06,\n",
       "                   6.32510182185797e-06, 6.430634584830841e-06,\n",
       "                   6.524576747324318e-06, 6.539201422128826e-06,\n",
       "                   6.567508535226807e-06, 6.593043053726433e-06,\n",
       "                   6.60472232993925e-06, 6.606078386539593e-06,\n",
       "                   6.613531240873272e-06, 6.656566256424412e-06,\n",
       "                   6.8785993789788336e-06, 7.533768894063542e-06,\n",
       "                   7.85504380473867e-06, 7.932562766654883e-06,\n",
       "                   8.090421033557504e-06, 8.116825483739376e-06,\n",
       "                   8.168739441316575e-06, 8.202237040677574e-06,\n",
       "                   8.361854270333424e-06, 8.36521212477237e-06,\n",
       "                   8.414743206230924e-06, 8.430933121417183e-06,\n",
       "                   8.693972631590441e-06, 9.043104910233524e-06,\n",
       "                   9.094221240957268e-06, 9.326285180577543e-06,\n",
       "                   9.756212421052624e-06, 9.886236512102187e-06,\n",
       "                   9.924344340106472e-06, 9.97112238110276e-06,\n",
       "                   1.0190884495386854e-05, 1.0274704436596949e-05,\n",
       "                   1.0358229701523669e-05, 1.0479929187567905e-05,\n",
       "                   1.0673312317521777e-05, 1.0847210432984866e-05,\n",
       "                   1.0969691174977925e-05, 1.1979149348917417e-05,\n",
       "                   1.2338807209744118e-05, 1.2622842405107804e-05,\n",
       "                   1.2632286598091014e-05, 1.2982106454728637e-05,\n",
       "                   1.3075708920951001e-05, 1.3345162187761161e-05,\n",
       "                   1.3377087270782795e-05, 1.3571975614468101e-05,\n",
       "                   1.3899624718760606e-05, 1.4255125279305503e-05,\n",
       "                   1.4430628652917221e-05, 1.4525388905894943e-05,\n",
       "                   1.4571937754226383e-05, 1.5756637367303483e-05,\n",
       "                   1.590766441950109e-05, 1.625397999305278e-05,\n",
       "                   1.6362968381145038e-05, 1.646171585889533e-05,\n",
       "                   1.648803117859643e-05, 1.6554486137465574e-05,\n",
       "                   1.6708618204575032e-05, 1.7121536075137556e-05,\n",
       "                   1.9188071746611968e-05, 1.9269262338639237e-05,\n",
       "                   1.9482107745716348e-05, 1.9508008335833438e-05,\n",
       "                   1.9716415408765897e-05, 2.1037969418102875e-05,\n",
       "                   2.152452179871034e-05, 2.1991747416905127e-05,\n",
       "                   2.296375168953091e-05, 2.3072838303050958e-05,\n",
       "                   2.346073779335711e-05, 2.3667187633691356e-05,\n",
       "                   2.3930982933961786e-05, 2.463518649165053e-05,\n",
       "                   2.4775199563009664e-05, 2.4836066586431116e-05,\n",
       "                   2.4845870939316228e-05, 2.486018456693273e-05,\n",
       "                   2.4877857867977582e-05, 2.5454084607190453e-05,\n",
       "                   2.5781711883610114e-05, 2.594500983832404e-05,\n",
       "                   2.5968773115891963e-05, 2.6286807042197324e-05,\n",
       "                   3.076859866268933e-05, 3.236819611629471e-05,\n",
       "                   3.377530811121687e-05, 3.3992950193351135e-05,\n",
       "                   3.463936081971042e-05, 3.5380362533032894e-05,\n",
       "                   3.562186248018406e-05, 3.610033672885038e-05,\n",
       "                   3.8420577766373754e-05, 3.980279871029779e-05,\n",
       "                   4.066875408170745e-05, 4.190965773887001e-05,\n",
       "                   4.218255344312638e-05, 4.292257290217094e-05,\n",
       "                   4.368385634734295e-05, 4.596986036631279e-05,\n",
       "                   4.934418393531814e-05, 5.152490848558955e-05,\n",
       "                   5.3955125622451305e-05, 5.475556099554524e-05,\n",
       "                   5.644787597702816e-05, 5.8928384532919154e-05,\n",
       "                   5.922670243307948e-05, 6.020641012582928e-05,\n",
       "                   6.023444439051673e-05, 6.237669731490314e-05,\n",
       "                   6.32958035566844e-05, 6.440367724280804e-05,\n",
       "                   6.563923670910299e-05, 6.777159433113411e-05,\n",
       "                   7.075495523167774e-05, 7.106924749678001e-05,\n",
       "                   7.207238377304748e-05, 7.392417319351807e-05,\n",
       "                   7.521247607655823e-05, 7.762250606901944e-05,\n",
       "                   7.768036448396742e-05, 9.332395711680874e-05,\n",
       "                   9.333446359960362e-05, 9.335211507277563e-05,\n",
       "                   0.00010968092101393268, 0.0001163576016551815,\n",
       "                   0.00011766293027903885, 0.00011997640831395984,\n",
       "                   0.0001255810057045892, 0.0001255864481208846,\n",
       "                   0.00015464992611669004, 0.0001565808051964268,\n",
       "                   0.00016650714678689837, 0.00016944615344982594,\n",
       "                   0.0001695405662758276, 0.00019307166803628206,\n",
       "                   0.00021234157611615956, 0.00022497896861750633,\n",
       "                   0.00027499752468429506, 0.000318992038955912,\n",
       "                   0.00033322867238894105, 0.0003711816971190274,\n",
       "                   0.0004043634980916977, 0.00042029249016195536,\n",
       "                   0.0005641753086820245, 0.004533355589956045, --],\n",
       "             mask=[False, False, False, False, False, False, False, False,\n",
       "                   False, False, False, False, False, False, False, False,\n",
       "                   False, False, False, False, False, False, False, False,\n",
       "                   False, False, False, False, False, False, False, False,\n",
       "                   False, False, False, False, False, False, False, False,\n",
       "                   False, False, False, False, False, False, False, False,\n",
       "                   False, False, False, False, False, False, False, False,\n",
       "                   False, False, False, False, False, False, False, False,\n",
       "                   False, False, False, False, False, False, False, False,\n",
       "                   False, False, False, False, False, False, False, False,\n",
       "                   False, False, False, False, False, False, False, False,\n",
       "                   False, False, False, False, False, False, False, False,\n",
       "                   False, False, False, False, False, False, False, False,\n",
       "                   False, False, False, False, False, False, False, False,\n",
       "                   False, False, False, False, False, False, False, False,\n",
       "                   False, False, False, False, False, False, False, False,\n",
       "                   False, False, False, False, False, False, False, False,\n",
       "                   False, False, False, False, False, False, False, False,\n",
       "                   False, False, False, False, False, False, False, False,\n",
       "                   False, False, False, False, False, False, False, False,\n",
       "                   False, False, False, False, False, False, False, False,\n",
       "                   False, False, False, False, False, False, False, False,\n",
       "                   False, False, False, False, False, False, False,  True],\n",
       "       fill_value=1e+20,\n",
       "            dtype=float32)"
      ]
     },
     "execution_count": 9,
     "metadata": {},
     "output_type": "execute_result"
    }
   ],
   "source": [
    "np.unique(np.ma.masked_where(tmask[0,:,:,:]==0,f0.variables['TUR2TRA'][5,:,:,:]))"
   ]
  },
  {
   "cell_type": "code",
   "execution_count": 21,
   "metadata": {},
   "outputs": [
    {
     "data": {
      "text/plain": [
       "masked_array(data=[0.0, --],\n",
       "             mask=[False,  True],\n",
       "       fill_value=1e+20,\n",
       "            dtype=float32)"
      ]
     },
     "execution_count": 21,
     "metadata": {},
     "output_type": "execute_result"
    }
   ],
   "source": [
    "np.unique(np.ma.masked_where(tmask[0,:,:,:]==0,f0.variables['RIVTRA0'][5,:,:,:]))"
   ]
  },
  {
   "cell_type": "code",
   "execution_count": 14,
   "metadata": {},
   "outputs": [
    {
     "data": {
      "image/png": "[encoded data removed]",
      "text/plain": [
       "<Figure size 864x288 with 1 Axes>"
      ]
     },
     "metadata": {
      "needs_background": "light"
     },
     "output_type": "display_data"
    }
   ],
   "source": [
    "fig,ax=plt.subplots(1,1,figsize=(12,4))\n",
    "lss=('-','--',':',':','-.','--',':',':','--','-.')\n",
    "cols=('r','k','b','c','m','y','gray','darkblue','pink','brown')\n",
    "for i,var in enumerate(('TUR1','TUR2','TUR3','TUR4','TUR5','TUR6','TUR7',)):\n",
    "    ax.plot(f0.variables[var][:,0,485,260],lss[i],color=cols[i])"
   ]
  },
  {
   "cell_type": "code",
   "execution_count": null,
   "metadata": {},
   "outputs": [],
   "source": []
  },
  {
   "cell_type": "code",
   "execution_count": null,
   "metadata": {},
   "outputs": [],
   "source": []
  },
  {
   "cell_type": "code",
   "execution_count": null,
   "metadata": {},
   "outputs": [],
   "source": []
  },
  {
   "cell_type": "code",
   "execution_count": null,
   "metadata": {},
   "outputs": [],
   "source": []
  }
 ],
 "metadata": {
  "kernelspec": {
   "display_name": "Python (py38_ct_pmill)",
   "language": "python",
   "name": "py38_ct_pmill"
  },
  "language_info": {
   "codemirror_mode": {
    "name": "ipython",
    "version": 3
   },
   "file_extension": ".py",
   "mimetype": "text/x-python",
   "name": "python",
   "nbconvert_exporter": "python",
   "pygments_lexer": "ipython3",
   "version": "3.8.2"
  }
 },
 "nbformat": 4,
 "nbformat_minor": 2
}
