{
 "cells": [
  {
   "cell_type": "code",
   "execution_count": 1,
   "metadata": {},
   "outputs": [
    {
     "name": "stdout",
     "output_type": "stream",
     "text": [
      "mpl default settings: fs=16, lw=1, ms=8\n"
     ]
    }
   ],
   "source": [
    "import numpy as np\n",
    "import pandas as pd\n",
    "import matplotlib.pyplot as plt\n",
    "import matplotlib.gridspec as gridspec\n",
    "import os\n",
    "from scipy.stats.distributions import t as scp_t\n",
    "from pandas.plotting import register_matplotlib_converters\n",
    "register_matplotlib_converters()\n",
    "from sqlalchemy import create_engine, Column, String, Integer, Boolean, MetaData, Table, case, between, ForeignKey\n",
    "from sqlalchemy.orm import mapper, create_session, relationship\n",
    "from sqlalchemy.ext.declarative import declarative_base\n",
    "from sqlalchemy.ext.automap import automap_base\n",
    "import sqlalchemy.types as types\n",
    "from sqlalchemy.sql import select, and_, or_, not_, func\n",
    "from TPAR import PARfxns as pf, loadDataFRP as FRP, loadSTRATOGEM as STRAT\n",
    "from TPAR import mplRC\n",
    "#mplRC.slidesRC();\n",
    "%matplotlib inline"
   ]
  },
  {
   "cell_type": "markdown",
   "metadata": {},
   "source": [
    "# Relationship between turbidity, chlorophyll, and beam transmission\n",
    "Goal: estimate turbidity from STRATOGEM data"
   ]
  },
  {
   "cell_type": "markdown",
   "metadata": {},
   "source": [
    "#### load FRP data"
   ]
  },
  {
   "cell_type": "code",
   "execution_count": 2,
   "metadata": {},
   "outputs": [
    {
     "data": {
      "text/html": [
       "<div>\n",
       "<style scoped>\n",
       "    .dataframe tbody tr th:only-of-type {\n",
       "        vertical-align: middle;\n",
       "    }\n",
       "\n",
       "    .dataframe tbody tr th {\n",
       "        vertical-align: top;\n",
       "    }\n",
       "\n",
       "    .dataframe thead th {\n",
       "        text-align: right;\n",
       "    }\n",
       "</style>\n",
       "<table border=\"1\" class=\"dataframe\">\n",
       "  <thead>\n",
       "    <tr style=\"text-align: right;\">\n",
       "      <th></th>\n",
       "      <th>sta</th>\n",
       "      <th>xmiss</th>\n",
       "      <th>cX</th>\n",
       "      <th>Date</th>\n",
       "      <th>prSM</th>\n",
       "      <th>wetStar</th>\n",
       "      <th>NTU</th>\n",
       "    </tr>\n",
       "  </thead>\n",
       "  <tbody>\n",
       "    <tr>\n",
       "      <th>0</th>\n",
       "      <td>1.0</td>\n",
       "      <td>2.931728</td>\n",
       "      <td>14.118313</td>\n",
       "      <td>20170410</td>\n",
       "      <td>1.0</td>\n",
       "      <td>NaN</td>\n",
       "      <td>22.221587</td>\n",
       "    </tr>\n",
       "    <tr>\n",
       "      <th>1</th>\n",
       "      <td>1.0</td>\n",
       "      <td>2.935879</td>\n",
       "      <td>14.112653</td>\n",
       "      <td>20170410</td>\n",
       "      <td>2.0</td>\n",
       "      <td>NaN</td>\n",
       "      <td>22.476984</td>\n",
       "    </tr>\n",
       "    <tr>\n",
       "      <th>2</th>\n",
       "      <td>1.0</td>\n",
       "      <td>2.937265</td>\n",
       "      <td>14.110766</td>\n",
       "      <td>20170410</td>\n",
       "      <td>3.0</td>\n",
       "      <td>NaN</td>\n",
       "      <td>22.573587</td>\n",
       "    </tr>\n",
       "    <tr>\n",
       "      <th>3</th>\n",
       "      <td>1.0</td>\n",
       "      <td>3.030783</td>\n",
       "      <td>13.985397</td>\n",
       "      <td>20170410</td>\n",
       "      <td>4.0</td>\n",
       "      <td>NaN</td>\n",
       "      <td>22.529585</td>\n",
       "    </tr>\n",
       "    <tr>\n",
       "      <th>4</th>\n",
       "      <td>1.0</td>\n",
       "      <td>3.033497</td>\n",
       "      <td>13.981816</td>\n",
       "      <td>20170410</td>\n",
       "      <td>5.0</td>\n",
       "      <td>NaN</td>\n",
       "      <td>22.438194</td>\n",
       "    </tr>\n",
       "  </tbody>\n",
       "</table>\n",
       "</div>"
      ],
      "text/plain": [
       "   sta     xmiss         cX      Date  prSM  wetStar        NTU\n",
       "0  1.0  2.931728  14.118313  20170410   1.0      NaN  22.221587\n",
       "1  1.0  2.935879  14.112653  20170410   2.0      NaN  22.476984\n",
       "2  1.0  2.937265  14.110766  20170410   3.0      NaN  22.573587\n",
       "3  1.0  3.030783  13.985397  20170410   4.0      NaN  22.529585\n",
       "4  1.0  3.033497  13.981816  20170410   5.0      NaN  22.438194"
      ]
     },
     "execution_count": 2,
     "metadata": {},
     "output_type": "execute_result"
    }
   ],
   "source": [
    "dfall=FRP.loadFlat(exp='all',sel='wide',dp=1.0,qc=False)\n",
    "dfall.rename(columns={'turb':'NTU'},inplace=True)\n",
    "dfall[['sta','xmiss','cX','Date','prSM','wetStar','NTU']].head()"
   ]
  },
  {
   "cell_type": "code",
   "execution_count": 3,
   "metadata": {},
   "outputs": [
    {
     "data": {
      "text/html": [
       "<div>\n",
       "<style scoped>\n",
       "    .dataframe tbody tr th:only-of-type {\n",
       "        vertical-align: middle;\n",
       "    }\n",
       "\n",
       "    .dataframe tbody tr th {\n",
       "        vertical-align: top;\n",
       "    }\n",
       "\n",
       "    .dataframe thead th {\n",
       "        text-align: right;\n",
       "    }\n",
       "</style>\n",
       "<table border=\"1\" class=\"dataframe\">\n",
       "  <thead>\n",
       "    <tr style=\"text-align: right;\">\n",
       "      <th></th>\n",
       "      <th>sta</th>\n",
       "      <th>xmiss</th>\n",
       "      <th>cX</th>\n",
       "      <th>prSM</th>\n",
       "      <th>wetStar</th>\n",
       "      <th>NTU</th>\n",
       "    </tr>\n",
       "  </thead>\n",
       "  <tbody>\n",
       "    <tr>\n",
       "      <th>0</th>\n",
       "      <td>1.0</td>\n",
       "      <td>2.931728</td>\n",
       "      <td>14.118313</td>\n",
       "      <td>1.0</td>\n",
       "      <td>NaN</td>\n",
       "      <td>22.221587</td>\n",
       "    </tr>\n",
       "    <tr>\n",
       "      <th>1</th>\n",
       "      <td>1.0</td>\n",
       "      <td>2.935879</td>\n",
       "      <td>14.112653</td>\n",
       "      <td>2.0</td>\n",
       "      <td>NaN</td>\n",
       "      <td>22.476984</td>\n",
       "    </tr>\n",
       "    <tr>\n",
       "      <th>2</th>\n",
       "      <td>1.0</td>\n",
       "      <td>2.937265</td>\n",
       "      <td>14.110766</td>\n",
       "      <td>3.0</td>\n",
       "      <td>NaN</td>\n",
       "      <td>22.573587</td>\n",
       "    </tr>\n",
       "    <tr>\n",
       "      <th>3</th>\n",
       "      <td>1.0</td>\n",
       "      <td>3.030783</td>\n",
       "      <td>13.985397</td>\n",
       "      <td>4.0</td>\n",
       "      <td>NaN</td>\n",
       "      <td>22.529585</td>\n",
       "    </tr>\n",
       "    <tr>\n",
       "      <th>4</th>\n",
       "      <td>1.0</td>\n",
       "      <td>3.033497</td>\n",
       "      <td>13.981816</td>\n",
       "      <td>5.0</td>\n",
       "      <td>NaN</td>\n",
       "      <td>22.438194</td>\n",
       "    </tr>\n",
       "  </tbody>\n",
       "</table>\n",
       "</div>"
      ],
      "text/plain": [
       "   sta     xmiss         cX  prSM  wetStar        NTU\n",
       "0  1.0  2.931728  14.118313   1.0      NaN  22.221587\n",
       "1  1.0  2.935879  14.112653   2.0      NaN  22.476984\n",
       "2  1.0  2.937265  14.110766   3.0      NaN  22.573587\n",
       "3  1.0  3.030783  13.985397   4.0      NaN  22.529585\n",
       "4  1.0  3.033497  13.981816   5.0      NaN  22.438194"
      ]
     },
     "execution_count": 3,
     "metadata": {},
     "output_type": "execute_result"
    }
   ],
   "source": [
    "df0, zCasts=FRP.loadDataFRP(exp='all',sel='wide',dp=1.0)\n",
    "dfall2=FRP.flattenCastsDict(zCasts)\n",
    "dfall2.rename(columns={'turb':'NTU'},inplace=True)\n",
    "dfall2['cX']=FRP.cXfromX(dfall2['xmiss']) \n",
    "dfall2[['sta','xmiss','cX','prSM','wetStar','NTU']].head()"
   ]
  },
  {
   "cell_type": "code",
   "execution_count": 4,
   "metadata": {},
   "outputs": [
    {
     "data": {
      "text/plain": [
       "0.0"
      ]
     },
     "execution_count": 4,
     "metadata": {},
     "output_type": "execute_result"
    }
   ],
   "source": [
    "np.max(np.abs(dfall['cX']-dfall2['cX']))"
   ]
  },
  {
   "cell_type": "code",
   "execution_count": 5,
   "metadata": {},
   "outputs": [],
   "source": [
    "xrange=[94,95,95.2,95.4,95.6,95.8,96,100]"
   ]
  },
  {
   "cell_type": "code",
   "execution_count": 6,
   "metadata": {},
   "outputs": [
    {
     "name": "stdout",
     "output_type": "stream",
     "text": [
      "load SSG\n",
      "20170410 -2.1123669580874207\n",
      "20170531 -1.4510541090543256\n",
      "20171101 0.5387241569942773\n",
      "20170410 -1.1123669580874207\n",
      "20170531 -0.45105410905432564\n",
      "20171101 1.5387241569942773\n",
      "20170410 -0.9123669580874179\n",
      "20170531 -0.2510541090543228\n",
      "20171101 1.7387241569942802\n",
      "20170410 -0.712366958087415\n",
      "20170531 -0.05105410905431995\n",
      "20171101 1.938724156994283\n",
      "20170410 -0.5123669580874264\n",
      "20170531 0.14894589094566868\n",
      "20171101 2.1387241569942717\n",
      "20170410 -0.31236695808742354\n",
      "20170531 0.3489458909456715\n",
      "20171101 2.3387241569942745\n",
      "20170410 -0.1123669580874207\n",
      "20170531 0.5489458909456744\n",
      "20171101 2.5387241569942773\n",
      "20170410 3.8876330419125793\n",
      "20170531 4.548945890945674\n",
      "20171101 6.538724156994277\n"
     ]
    }
   ],
   "source": [
    "for xm in xrange:\n",
    "    dfall['xmiss_os'+str(xm)]=dfall['xmiss']\n",
    "    pf.xmissQCFlat(dfall,groupingvar='Date',castvar='castid',depthvar='prSM',xmissvar='xmiss_os'+str(xm),xmax=xm)\n",
    "    dfall['cX_os'+str(xm)]=FRP.cXfromX(dfall['xmiss_os'+str(xm)])"
   ]
  },
  {
   "cell_type": "code",
   "execution_count": 6,
   "metadata": {},
   "outputs": [
    {
     "data": {
      "text/plain": [
       "0.0"
      ]
     },
     "execution_count": 6,
     "metadata": {},
     "output_type": "execute_result"
    }
   ],
   "source": [
    "np.max(np.abs(dfall['xmiss']-dfall2['xmiss']))"
   ]
  },
  {
   "cell_type": "code",
   "execution_count": 7,
   "metadata": {},
   "outputs": [
    {
     "data": {
      "text/plain": [
       "<matplotlib.legend.Legend at 0x7fc317b78970>"
      ]
     },
     "execution_count": 7,
     "metadata": {},
     "output_type": "execute_result"
    },
    {
     "data": {
      "image/png": "[encoded data removed]",
      "text/plain": [
       "<Figure size 648x648 with 1 Axes>"
      ]
     },
     "metadata": {
      "needs_background": "light"
     },
     "output_type": "display_data"
    }
   ],
   "source": [
    "fig,ax=plt.subplots(1,1,figsize=(9,9))\n",
    "cols='magenta','red','gold','green','turquoise','royalblue','blueviolet','purple'\n",
    "ii=0\n",
    "for xm in xrange:\n",
    "    ax.plot(dfall['cX'],dfall['cX_os'+str(xm)],'.',color=cols[ii],label=xm)\n",
    "    ii+=1\n",
    "ax.plot(dfall['cX'],dfall['cX'],'k.',ms=3)\n",
    "ax.legend()"
   ]
  },
  {
   "cell_type": "code",
   "execution_count": 11,
   "metadata": {},
   "outputs": [
    {
     "data": {
      "text/plain": [
       "<matplotlib.legend.Legend at 0x7fc370f5c100>"
      ]
     },
     "execution_count": 11,
     "metadata": {},
     "output_type": "execute_result"
    },
    {
     "data": {
      "image/png": "[encoded data removed]",
      "text/plain": [
       "<Figure size 648x648 with 1 Axes>"
      ]
     },
     "metadata": {
      "needs_background": "light"
     },
     "output_type": "display_data"
    }
   ],
   "source": [
    "fig,ax=plt.subplots(1,1,figsize=(9,9))\n",
    "cols='magenta','red','gold','green','turquoise','royalblue','blueviolet','purple'\n",
    "ii=0\n",
    "for xm in xrange:\n",
    "    ax.plot(dfall['cX_os'+str(xm)],dfall['NTU'],'.',color=cols[ii],label=xm)\n",
    "    ii+=1\n",
    "ax.plot(dfall['cX'],dfall['NTU'],'k.',ms=3)\n",
    "ax.legend()"
   ]
  },
  {
   "cell_type": "code",
   "execution_count": 16,
   "metadata": {},
   "outputs": [
    {
     "data": {
      "text/plain": [
       "<matplotlib.legend.Legend at 0x7fc370e2b0d0>"
      ]
     },
     "execution_count": 16,
     "metadata": {},
     "output_type": "execute_result"
    },
    {
     "data": {
      "image/png": "[encoded data removed]",
      "text/plain": [
       "<Figure size 648x648 with 1 Axes>"
      ]
     },
     "metadata": {
      "needs_background": "light"
     },
     "output_type": "display_data"
    }
   ],
   "source": [
    "fig,ax=plt.subplots(1,1,figsize=(9,9))\n",
    "cols='magenta','red','gold','green','turquoise','royalblue','blueviolet','purple'\n",
    "ii=0\n",
    "for idd in np.unique(dfall['Date']):\n",
    "    ax.plot(dfall.loc[dfall.Date==idd,['cX']],dfall.loc[dfall.Date==idd,['NTU']],'.',color=cols[ii],label=idd)\n",
    "    ii+=1\n",
    "ax.legend()"
   ]
  },
  {
   "cell_type": "code",
   "execution_count": 8,
   "metadata": {},
   "outputs": [
    {
     "data": {
      "text/plain": [
       "Index(['prSM', 'gsw_ctA0', 'gsw_srA0', 'xmiss', 'par', 'wetStar', 'sbeox0ML_L',\n",
       "       'seaTurbMtrnoQC', 'turb_uncor', 'NTU', 'CStarTr0', 'wetStar19', 'isup',\n",
       "       'sta', 'castid', 'Station', 'Date', 'Lat', 'Lon', 'cX', 'xmiss_os94',\n",
       "       'Bathy', 'cX_os94', 'xmiss_os95', 'cX_os95', 'xmiss_os95.2',\n",
       "       'cX_os95.2', 'xmiss_os95.4', 'cX_os95.4', 'xmiss_os95.6', 'cX_os95.6',\n",
       "       'xmiss_os95.8', 'cX_os95.8', 'xmiss_os96', 'cX_os96', 'xmiss_os100',\n",
       "       'cX_os100'],\n",
       "      dtype='object')"
      ]
     },
     "execution_count": 8,
     "metadata": {},
     "output_type": "execute_result"
    }
   ],
   "source": [
    "dfall.keys()"
   ]
  },
  {
   "cell_type": "code",
   "execution_count": 9,
   "metadata": {},
   "outputs": [],
   "source": [
    "xmlist=[i for i in dfall.keys() if i.startswith('xmiss_')]\n",
    "cxlist=[i for i in dfall.keys() if i.startswith('cX_')]"
   ]
  },
  {
   "cell_type": "code",
   "execution_count": 10,
   "metadata": {},
   "outputs": [
    {
     "data": {
      "text/html": [
       "<div>\n",
       "<style scoped>\n",
       "    .dataframe tbody tr th:only-of-type {\n",
       "        vertical-align: middle;\n",
       "    }\n",
       "\n",
       "    .dataframe tbody tr th {\n",
       "        vertical-align: top;\n",
       "    }\n",
       "\n",
       "    .dataframe thead th {\n",
       "        text-align: right;\n",
       "    }\n",
       "</style>\n",
       "<table border=\"1\" class=\"dataframe\">\n",
       "  <thead>\n",
       "    <tr style=\"text-align: right;\">\n",
       "      <th></th>\n",
       "      <th>sta</th>\n",
       "      <th>prSM</th>\n",
       "      <th>NTU</th>\n",
       "      <th>xmiss</th>\n",
       "      <th>cX</th>\n",
       "      <th>xmiss_os94</th>\n",
       "      <th>xmiss_os95</th>\n",
       "      <th>xmiss_os95.2</th>\n",
       "      <th>xmiss_os95.4</th>\n",
       "      <th>xmiss_os95.6</th>\n",
       "      <th>...</th>\n",
       "      <th>xmiss_os96</th>\n",
       "      <th>xmiss_os100</th>\n",
       "      <th>cX_os94</th>\n",
       "      <th>cX_os95</th>\n",
       "      <th>cX_os95.2</th>\n",
       "      <th>cX_os95.4</th>\n",
       "      <th>cX_os95.6</th>\n",
       "      <th>cX_os95.8</th>\n",
       "      <th>cX_os96</th>\n",
       "      <th>cX_os100</th>\n",
       "    </tr>\n",
       "  </thead>\n",
       "  <tbody>\n",
       "    <tr>\n",
       "      <th>2250</th>\n",
       "      <td>18.0</td>\n",
       "      <td>1.0</td>\n",
       "      <td>67.064074</td>\n",
       "      <td>-0.002621</td>\n",
       "      <td>NaN</td>\n",
       "      <td>-1.453675</td>\n",
       "      <td>-0.453675</td>\n",
       "      <td>-0.253675</td>\n",
       "      <td>-0.053675</td>\n",
       "      <td>0.146325</td>\n",
       "      <td>...</td>\n",
       "      <td>0.546325</td>\n",
       "      <td>4.546325</td>\n",
       "      <td>NaN</td>\n",
       "      <td>NaN</td>\n",
       "      <td>NaN</td>\n",
       "      <td>NaN</td>\n",
       "      <td>26.108390</td>\n",
       "      <td>22.662195</td>\n",
       "      <td>20.838848</td>\n",
       "      <td>12.363404</td>\n",
       "    </tr>\n",
       "    <tr>\n",
       "      <th>2251</th>\n",
       "      <td>18.0</td>\n",
       "      <td>2.0</td>\n",
       "      <td>67.084624</td>\n",
       "      <td>0.004463</td>\n",
       "      <td>40.068289</td>\n",
       "      <td>-1.446591</td>\n",
       "      <td>-0.446591</td>\n",
       "      <td>-0.246591</td>\n",
       "      <td>-0.046591</td>\n",
       "      <td>0.153409</td>\n",
       "      <td>...</td>\n",
       "      <td>0.553409</td>\n",
       "      <td>4.553409</td>\n",
       "      <td>NaN</td>\n",
       "      <td>NaN</td>\n",
       "      <td>NaN</td>\n",
       "      <td>NaN</td>\n",
       "      <td>25.919271</td>\n",
       "      <td>22.581197</td>\n",
       "      <td>20.787312</td>\n",
       "      <td>12.357176</td>\n",
       "    </tr>\n",
       "    <tr>\n",
       "      <th>2252</th>\n",
       "      <td>18.0</td>\n",
       "      <td>3.0</td>\n",
       "      <td>66.213782</td>\n",
       "      <td>-0.000048</td>\n",
       "      <td>NaN</td>\n",
       "      <td>-1.451102</td>\n",
       "      <td>-0.451102</td>\n",
       "      <td>-0.251102</td>\n",
       "      <td>-0.051102</td>\n",
       "      <td>0.148898</td>\n",
       "      <td>...</td>\n",
       "      <td>0.548898</td>\n",
       "      <td>4.548898</td>\n",
       "      <td>NaN</td>\n",
       "      <td>NaN</td>\n",
       "      <td>NaN</td>\n",
       "      <td>NaN</td>\n",
       "      <td>26.038661</td>\n",
       "      <td>22.632585</td>\n",
       "      <td>20.820053</td>\n",
       "      <td>12.361141</td>\n",
       "    </tr>\n",
       "    <tr>\n",
       "      <th>2253</th>\n",
       "      <td>18.0</td>\n",
       "      <td>4.0</td>\n",
       "      <td>66.441633</td>\n",
       "      <td>0.004782</td>\n",
       "      <td>39.792142</td>\n",
       "      <td>-1.446272</td>\n",
       "      <td>-0.446272</td>\n",
       "      <td>-0.246272</td>\n",
       "      <td>-0.046272</td>\n",
       "      <td>0.153728</td>\n",
       "      <td>...</td>\n",
       "      <td>0.553728</td>\n",
       "      <td>4.553728</td>\n",
       "      <td>NaN</td>\n",
       "      <td>NaN</td>\n",
       "      <td>NaN</td>\n",
       "      <td>NaN</td>\n",
       "      <td>25.910962</td>\n",
       "      <td>22.577588</td>\n",
       "      <td>20.785007</td>\n",
       "      <td>12.356896</td>\n",
       "    </tr>\n",
       "    <tr>\n",
       "      <th>2254</th>\n",
       "      <td>18.0</td>\n",
       "      <td>5.0</td>\n",
       "      <td>67.293399</td>\n",
       "      <td>0.005238</td>\n",
       "      <td>39.428047</td>\n",
       "      <td>-1.445816</td>\n",
       "      <td>-0.445816</td>\n",
       "      <td>-0.245816</td>\n",
       "      <td>-0.045816</td>\n",
       "      <td>0.154184</td>\n",
       "      <td>...</td>\n",
       "      <td>0.554184</td>\n",
       "      <td>4.554184</td>\n",
       "      <td>NaN</td>\n",
       "      <td>NaN</td>\n",
       "      <td>NaN</td>\n",
       "      <td>NaN</td>\n",
       "      <td>25.899121</td>\n",
       "      <td>22.572438</td>\n",
       "      <td>20.781717</td>\n",
       "      <td>12.356495</td>\n",
       "    </tr>\n",
       "    <tr>\n",
       "      <th>2255</th>\n",
       "      <td>18.0</td>\n",
       "      <td>6.0</td>\n",
       "      <td>68.559084</td>\n",
       "      <td>-0.002000</td>\n",
       "      <td>NaN</td>\n",
       "      <td>-1.453054</td>\n",
       "      <td>-0.453054</td>\n",
       "      <td>-0.253054</td>\n",
       "      <td>-0.053054</td>\n",
       "      <td>0.146946</td>\n",
       "      <td>...</td>\n",
       "      <td>0.546946</td>\n",
       "      <td>4.546946</td>\n",
       "      <td>NaN</td>\n",
       "      <td>NaN</td>\n",
       "      <td>NaN</td>\n",
       "      <td>NaN</td>\n",
       "      <td>26.091436</td>\n",
       "      <td>22.655023</td>\n",
       "      <td>20.834300</td>\n",
       "      <td>12.362857</td>\n",
       "    </tr>\n",
       "    <tr>\n",
       "      <th>2256</th>\n",
       "      <td>18.0</td>\n",
       "      <td>7.0</td>\n",
       "      <td>69.585660</td>\n",
       "      <td>0.004100</td>\n",
       "      <td>40.407739</td>\n",
       "      <td>-1.446954</td>\n",
       "      <td>-0.446954</td>\n",
       "      <td>-0.246954</td>\n",
       "      <td>-0.046954</td>\n",
       "      <td>0.153046</td>\n",
       "      <td>...</td>\n",
       "      <td>0.553046</td>\n",
       "      <td>4.553046</td>\n",
       "      <td>NaN</td>\n",
       "      <td>NaN</td>\n",
       "      <td>NaN</td>\n",
       "      <td>NaN</td>\n",
       "      <td>25.928750</td>\n",
       "      <td>22.585309</td>\n",
       "      <td>20.789938</td>\n",
       "      <td>12.357495</td>\n",
       "    </tr>\n",
       "    <tr>\n",
       "      <th>2257</th>\n",
       "      <td>18.0</td>\n",
       "      <td>8.0</td>\n",
       "      <td>69.488399</td>\n",
       "      <td>-0.001534</td>\n",
       "      <td>NaN</td>\n",
       "      <td>-1.452588</td>\n",
       "      <td>-0.452588</td>\n",
       "      <td>-0.252588</td>\n",
       "      <td>-0.052588</td>\n",
       "      <td>0.147412</td>\n",
       "      <td>...</td>\n",
       "      <td>0.547412</td>\n",
       "      <td>4.547412</td>\n",
       "      <td>NaN</td>\n",
       "      <td>NaN</td>\n",
       "      <td>NaN</td>\n",
       "      <td>NaN</td>\n",
       "      <td>26.078780</td>\n",
       "      <td>22.649658</td>\n",
       "      <td>20.830896</td>\n",
       "      <td>12.362448</td>\n",
       "    </tr>\n",
       "    <tr>\n",
       "      <th>2258</th>\n",
       "      <td>18.0</td>\n",
       "      <td>9.0</td>\n",
       "      <td>70.093435</td>\n",
       "      <td>-0.003863</td>\n",
       "      <td>NaN</td>\n",
       "      <td>-1.454917</td>\n",
       "      <td>-0.454917</td>\n",
       "      <td>-0.254917</td>\n",
       "      <td>-0.054917</td>\n",
       "      <td>0.145083</td>\n",
       "      <td>...</td>\n",
       "      <td>0.545083</td>\n",
       "      <td>4.545083</td>\n",
       "      <td>NaN</td>\n",
       "      <td>NaN</td>\n",
       "      <td>NaN</td>\n",
       "      <td>NaN</td>\n",
       "      <td>26.142469</td>\n",
       "      <td>22.676558</td>\n",
       "      <td>20.847947</td>\n",
       "      <td>12.364497</td>\n",
       "    </tr>\n",
       "    <tr>\n",
       "      <th>2259</th>\n",
       "      <td>18.0</td>\n",
       "      <td>10.0</td>\n",
       "      <td>70.424395</td>\n",
       "      <td>0.002693</td>\n",
       "      <td>42.088460</td>\n",
       "      <td>-1.448361</td>\n",
       "      <td>-0.448361</td>\n",
       "      <td>-0.248361</td>\n",
       "      <td>-0.048361</td>\n",
       "      <td>0.151639</td>\n",
       "      <td>...</td>\n",
       "      <td>0.551639</td>\n",
       "      <td>4.551639</td>\n",
       "      <td>NaN</td>\n",
       "      <td>NaN</td>\n",
       "      <td>NaN</td>\n",
       "      <td>NaN</td>\n",
       "      <td>25.965683</td>\n",
       "      <td>22.601278</td>\n",
       "      <td>20.800124</td>\n",
       "      <td>12.358731</td>\n",
       "    </tr>\n",
       "    <tr>\n",
       "      <th>2260</th>\n",
       "      <td>18.0</td>\n",
       "      <td>11.0</td>\n",
       "      <td>69.856317</td>\n",
       "      <td>0.000905</td>\n",
       "      <td>46.449521</td>\n",
       "      <td>-1.450149</td>\n",
       "      <td>-0.450149</td>\n",
       "      <td>-0.250149</td>\n",
       "      <td>-0.050149</td>\n",
       "      <td>0.149851</td>\n",
       "      <td>...</td>\n",
       "      <td>0.549851</td>\n",
       "      <td>4.549851</td>\n",
       "      <td>NaN</td>\n",
       "      <td>NaN</td>\n",
       "      <td>NaN</td>\n",
       "      <td>NaN</td>\n",
       "      <td>26.013130</td>\n",
       "      <td>22.621670</td>\n",
       "      <td>20.813111</td>\n",
       "      <td>12.360303</td>\n",
       "    </tr>\n",
       "    <tr>\n",
       "      <th>2261</th>\n",
       "      <td>18.0</td>\n",
       "      <td>1.0</td>\n",
       "      <td>69.474122</td>\n",
       "      <td>-0.001083</td>\n",
       "      <td>NaN</td>\n",
       "      <td>-1.452137</td>\n",
       "      <td>-0.452137</td>\n",
       "      <td>-0.252137</td>\n",
       "      <td>-0.052137</td>\n",
       "      <td>0.147863</td>\n",
       "      <td>...</td>\n",
       "      <td>0.547863</td>\n",
       "      <td>4.547863</td>\n",
       "      <td>NaN</td>\n",
       "      <td>NaN</td>\n",
       "      <td>NaN</td>\n",
       "      <td>NaN</td>\n",
       "      <td>26.066566</td>\n",
       "      <td>22.644471</td>\n",
       "      <td>20.827603</td>\n",
       "      <td>12.362051</td>\n",
       "    </tr>\n",
       "    <tr>\n",
       "      <th>2262</th>\n",
       "      <td>18.0</td>\n",
       "      <td>2.0</td>\n",
       "      <td>68.730934</td>\n",
       "      <td>-0.000145</td>\n",
       "      <td>NaN</td>\n",
       "      <td>-1.451199</td>\n",
       "      <td>-0.451199</td>\n",
       "      <td>-0.251199</td>\n",
       "      <td>-0.051199</td>\n",
       "      <td>0.148801</td>\n",
       "      <td>...</td>\n",
       "      <td>0.548801</td>\n",
       "      <td>4.548801</td>\n",
       "      <td>NaN</td>\n",
       "      <td>NaN</td>\n",
       "      <td>NaN</td>\n",
       "      <td>NaN</td>\n",
       "      <td>26.041259</td>\n",
       "      <td>22.633694</td>\n",
       "      <td>20.820757</td>\n",
       "      <td>12.361226</td>\n",
       "    </tr>\n",
       "    <tr>\n",
       "      <th>2263</th>\n",
       "      <td>18.0</td>\n",
       "      <td>3.0</td>\n",
       "      <td>70.768458</td>\n",
       "      <td>0.000054</td>\n",
       "      <td>57.728801</td>\n",
       "      <td>-1.451000</td>\n",
       "      <td>-0.451000</td>\n",
       "      <td>-0.251000</td>\n",
       "      <td>-0.051000</td>\n",
       "      <td>0.149000</td>\n",
       "      <td>...</td>\n",
       "      <td>0.549000</td>\n",
       "      <td>4.549000</td>\n",
       "      <td>NaN</td>\n",
       "      <td>NaN</td>\n",
       "      <td>NaN</td>\n",
       "      <td>NaN</td>\n",
       "      <td>26.035920</td>\n",
       "      <td>22.631416</td>\n",
       "      <td>20.819309</td>\n",
       "      <td>12.361051</td>\n",
       "    </tr>\n",
       "    <tr>\n",
       "      <th>2264</th>\n",
       "      <td>18.0</td>\n",
       "      <td>4.0</td>\n",
       "      <td>69.736540</td>\n",
       "      <td>0.004015</td>\n",
       "      <td>40.491396</td>\n",
       "      <td>-1.447039</td>\n",
       "      <td>-0.447039</td>\n",
       "      <td>-0.247039</td>\n",
       "      <td>-0.047039</td>\n",
       "      <td>0.152961</td>\n",
       "      <td>...</td>\n",
       "      <td>0.552961</td>\n",
       "      <td>4.552961</td>\n",
       "      <td>NaN</td>\n",
       "      <td>NaN</td>\n",
       "      <td>NaN</td>\n",
       "      <td>NaN</td>\n",
       "      <td>25.930969</td>\n",
       "      <td>22.586271</td>\n",
       "      <td>20.790552</td>\n",
       "      <td>12.357570</td>\n",
       "    </tr>\n",
       "    <tr>\n",
       "      <th>2265</th>\n",
       "      <td>18.0</td>\n",
       "      <td>5.0</td>\n",
       "      <td>69.768538</td>\n",
       "      <td>0.003814</td>\n",
       "      <td>40.697080</td>\n",
       "      <td>-1.447240</td>\n",
       "      <td>-0.447240</td>\n",
       "      <td>-0.247240</td>\n",
       "      <td>-0.047240</td>\n",
       "      <td>0.152760</td>\n",
       "      <td>...</td>\n",
       "      <td>0.552760</td>\n",
       "      <td>4.552760</td>\n",
       "      <td>NaN</td>\n",
       "      <td>NaN</td>\n",
       "      <td>NaN</td>\n",
       "      <td>NaN</td>\n",
       "      <td>25.936235</td>\n",
       "      <td>22.588552</td>\n",
       "      <td>20.792008</td>\n",
       "      <td>12.357746</td>\n",
       "    </tr>\n",
       "    <tr>\n",
       "      <th>2266</th>\n",
       "      <td>18.0</td>\n",
       "      <td>6.0</td>\n",
       "      <td>70.930421</td>\n",
       "      <td>0.001889</td>\n",
       "      <td>43.507629</td>\n",
       "      <td>-1.449165</td>\n",
       "      <td>-0.449165</td>\n",
       "      <td>-0.249165</td>\n",
       "      <td>-0.049165</td>\n",
       "      <td>0.150835</td>\n",
       "      <td>...</td>\n",
       "      <td>0.550835</td>\n",
       "      <td>4.550835</td>\n",
       "      <td>NaN</td>\n",
       "      <td>NaN</td>\n",
       "      <td>NaN</td>\n",
       "      <td>NaN</td>\n",
       "      <td>25.986960</td>\n",
       "      <td>22.610440</td>\n",
       "      <td>20.805962</td>\n",
       "      <td>12.359438</td>\n",
       "    </tr>\n",
       "    <tr>\n",
       "      <th>2267</th>\n",
       "      <td>18.0</td>\n",
       "      <td>7.0</td>\n",
       "      <td>72.400468</td>\n",
       "      <td>0.003379</td>\n",
       "      <td>41.181038</td>\n",
       "      <td>-1.447675</td>\n",
       "      <td>-0.447675</td>\n",
       "      <td>-0.247675</td>\n",
       "      <td>-0.047675</td>\n",
       "      <td>0.152325</td>\n",
       "      <td>...</td>\n",
       "      <td>0.552325</td>\n",
       "      <td>4.552325</td>\n",
       "      <td>NaN</td>\n",
       "      <td>NaN</td>\n",
       "      <td>NaN</td>\n",
       "      <td>NaN</td>\n",
       "      <td>25.947631</td>\n",
       "      <td>22.593484</td>\n",
       "      <td>20.795154</td>\n",
       "      <td>12.358128</td>\n",
       "    </tr>\n",
       "    <tr>\n",
       "      <th>2268</th>\n",
       "      <td>18.0</td>\n",
       "      <td>8.0</td>\n",
       "      <td>72.088010</td>\n",
       "      <td>-0.000259</td>\n",
       "      <td>NaN</td>\n",
       "      <td>-1.451314</td>\n",
       "      <td>-0.451314</td>\n",
       "      <td>-0.251314</td>\n",
       "      <td>-0.051314</td>\n",
       "      <td>0.148686</td>\n",
       "      <td>...</td>\n",
       "      <td>0.548686</td>\n",
       "      <td>4.548686</td>\n",
       "      <td>NaN</td>\n",
       "      <td>NaN</td>\n",
       "      <td>NaN</td>\n",
       "      <td>NaN</td>\n",
       "      <td>26.044344</td>\n",
       "      <td>22.635010</td>\n",
       "      <td>20.821594</td>\n",
       "      <td>12.361327</td>\n",
       "    </tr>\n",
       "    <tr>\n",
       "      <th>2269</th>\n",
       "      <td>18.0</td>\n",
       "      <td>9.0</td>\n",
       "      <td>72.627501</td>\n",
       "      <td>-0.002704</td>\n",
       "      <td>NaN</td>\n",
       "      <td>-1.453759</td>\n",
       "      <td>-0.453759</td>\n",
       "      <td>-0.253759</td>\n",
       "      <td>-0.053759</td>\n",
       "      <td>0.146241</td>\n",
       "      <td>...</td>\n",
       "      <td>0.546241</td>\n",
       "      <td>4.546241</td>\n",
       "      <td>NaN</td>\n",
       "      <td>NaN</td>\n",
       "      <td>NaN</td>\n",
       "      <td>NaN</td>\n",
       "      <td>26.110665</td>\n",
       "      <td>22.663156</td>\n",
       "      <td>20.839457</td>\n",
       "      <td>12.363477</td>\n",
       "    </tr>\n",
       "    <tr>\n",
       "      <th>2270</th>\n",
       "      <td>18.0</td>\n",
       "      <td>10.0</td>\n",
       "      <td>73.164968</td>\n",
       "      <td>-0.000060</td>\n",
       "      <td>NaN</td>\n",
       "      <td>-1.451114</td>\n",
       "      <td>-0.451114</td>\n",
       "      <td>-0.251114</td>\n",
       "      <td>-0.051114</td>\n",
       "      <td>0.148886</td>\n",
       "      <td>...</td>\n",
       "      <td>0.548886</td>\n",
       "      <td>4.548886</td>\n",
       "      <td>NaN</td>\n",
       "      <td>NaN</td>\n",
       "      <td>NaN</td>\n",
       "      <td>NaN</td>\n",
       "      <td>26.038983</td>\n",
       "      <td>22.632723</td>\n",
       "      <td>20.820140</td>\n",
       "      <td>12.361151</td>\n",
       "    </tr>\n",
       "    <tr>\n",
       "      <th>2271</th>\n",
       "      <td>18.0</td>\n",
       "      <td>11.0</td>\n",
       "      <td>72.034139</td>\n",
       "      <td>-0.005293</td>\n",
       "      <td>NaN</td>\n",
       "      <td>-1.456347</td>\n",
       "      <td>-0.456347</td>\n",
       "      <td>-0.256347</td>\n",
       "      <td>-0.056347</td>\n",
       "      <td>0.143653</td>\n",
       "      <td>...</td>\n",
       "      <td>0.543653</td>\n",
       "      <td>4.543653</td>\n",
       "      <td>NaN</td>\n",
       "      <td>NaN</td>\n",
       "      <td>NaN</td>\n",
       "      <td>NaN</td>\n",
       "      <td>26.182095</td>\n",
       "      <td>22.693171</td>\n",
       "      <td>20.858456</td>\n",
       "      <td>12.365755</td>\n",
       "    </tr>\n",
       "  </tbody>\n",
       "</table>\n",
       "<p>22 rows × 21 columns</p>\n",
       "</div>"
      ],
      "text/plain": [
       "       sta  prSM        NTU     xmiss         cX  xmiss_os94  xmiss_os95  \\\n",
       "2250  18.0   1.0  67.064074 -0.002621        NaN   -1.453675   -0.453675   \n",
       "2251  18.0   2.0  67.084624  0.004463  40.068289   -1.446591   -0.446591   \n",
       "2252  18.0   3.0  66.213782 -0.000048        NaN   -1.451102   -0.451102   \n",
       "2253  18.0   4.0  66.441633  0.004782  39.792142   -1.446272   -0.446272   \n",
       "2254  18.0   5.0  67.293399  0.005238  39.428047   -1.445816   -0.445816   \n",
       "2255  18.0   6.0  68.559084 -0.002000        NaN   -1.453054   -0.453054   \n",
       "2256  18.0   7.0  69.585660  0.004100  40.407739   -1.446954   -0.446954   \n",
       "2257  18.0   8.0  69.488399 -0.001534        NaN   -1.452588   -0.452588   \n",
       "2258  18.0   9.0  70.093435 -0.003863        NaN   -1.454917   -0.454917   \n",
       "2259  18.0  10.0  70.424395  0.002693  42.088460   -1.448361   -0.448361   \n",
       "2260  18.0  11.0  69.856317  0.000905  46.449521   -1.450149   -0.450149   \n",
       "2261  18.0   1.0  69.474122 -0.001083        NaN   -1.452137   -0.452137   \n",
       "2262  18.0   2.0  68.730934 -0.000145        NaN   -1.451199   -0.451199   \n",
       "2263  18.0   3.0  70.768458  0.000054  57.728801   -1.451000   -0.451000   \n",
       "2264  18.0   4.0  69.736540  0.004015  40.491396   -1.447039   -0.447039   \n",
       "2265  18.0   5.0  69.768538  0.003814  40.697080   -1.447240   -0.447240   \n",
       "2266  18.0   6.0  70.930421  0.001889  43.507629   -1.449165   -0.449165   \n",
       "2267  18.0   7.0  72.400468  0.003379  41.181038   -1.447675   -0.447675   \n",
       "2268  18.0   8.0  72.088010 -0.000259        NaN   -1.451314   -0.451314   \n",
       "2269  18.0   9.0  72.627501 -0.002704        NaN   -1.453759   -0.453759   \n",
       "2270  18.0  10.0  73.164968 -0.000060        NaN   -1.451114   -0.451114   \n",
       "2271  18.0  11.0  72.034139 -0.005293        NaN   -1.456347   -0.456347   \n",
       "\n",
       "      xmiss_os95.2  xmiss_os95.4  xmiss_os95.6  ...  xmiss_os96  xmiss_os100  \\\n",
       "2250     -0.253675     -0.053675      0.146325  ...    0.546325     4.546325   \n",
       "2251     -0.246591     -0.046591      0.153409  ...    0.553409     4.553409   \n",
       "2252     -0.251102     -0.051102      0.148898  ...    0.548898     4.548898   \n",
       "2253     -0.246272     -0.046272      0.153728  ...    0.553728     4.553728   \n",
       "2254     -0.245816     -0.045816      0.154184  ...    0.554184     4.554184   \n",
       "2255     -0.253054     -0.053054      0.146946  ...    0.546946     4.546946   \n",
       "2256     -0.246954     -0.046954      0.153046  ...    0.553046     4.553046   \n",
       "2257     -0.252588     -0.052588      0.147412  ...    0.547412     4.547412   \n",
       "2258     -0.254917     -0.054917      0.145083  ...    0.545083     4.545083   \n",
       "2259     -0.248361     -0.048361      0.151639  ...    0.551639     4.551639   \n",
       "2260     -0.250149     -0.050149      0.149851  ...    0.549851     4.549851   \n",
       "2261     -0.252137     -0.052137      0.147863  ...    0.547863     4.547863   \n",
       "2262     -0.251199     -0.051199      0.148801  ...    0.548801     4.548801   \n",
       "2263     -0.251000     -0.051000      0.149000  ...    0.549000     4.549000   \n",
       "2264     -0.247039     -0.047039      0.152961  ...    0.552961     4.552961   \n",
       "2265     -0.247240     -0.047240      0.152760  ...    0.552760     4.552760   \n",
       "2266     -0.249165     -0.049165      0.150835  ...    0.550835     4.550835   \n",
       "2267     -0.247675     -0.047675      0.152325  ...    0.552325     4.552325   \n",
       "2268     -0.251314     -0.051314      0.148686  ...    0.548686     4.548686   \n",
       "2269     -0.253759     -0.053759      0.146241  ...    0.546241     4.546241   \n",
       "2270     -0.251114     -0.051114      0.148886  ...    0.548886     4.548886   \n",
       "2271     -0.256347     -0.056347      0.143653  ...    0.543653     4.543653   \n",
       "\n",
       "      cX_os94  cX_os95  cX_os95.2  cX_os95.4  cX_os95.6  cX_os95.8    cX_os96  \\\n",
       "2250      NaN      NaN        NaN        NaN  26.108390  22.662195  20.838848   \n",
       "2251      NaN      NaN        NaN        NaN  25.919271  22.581197  20.787312   \n",
       "2252      NaN      NaN        NaN        NaN  26.038661  22.632585  20.820053   \n",
       "2253      NaN      NaN        NaN        NaN  25.910962  22.577588  20.785007   \n",
       "2254      NaN      NaN        NaN        NaN  25.899121  22.572438  20.781717   \n",
       "2255      NaN      NaN        NaN        NaN  26.091436  22.655023  20.834300   \n",
       "2256      NaN      NaN        NaN        NaN  25.928750  22.585309  20.789938   \n",
       "2257      NaN      NaN        NaN        NaN  26.078780  22.649658  20.830896   \n",
       "2258      NaN      NaN        NaN        NaN  26.142469  22.676558  20.847947   \n",
       "2259      NaN      NaN        NaN        NaN  25.965683  22.601278  20.800124   \n",
       "2260      NaN      NaN        NaN        NaN  26.013130  22.621670  20.813111   \n",
       "2261      NaN      NaN        NaN        NaN  26.066566  22.644471  20.827603   \n",
       "2262      NaN      NaN        NaN        NaN  26.041259  22.633694  20.820757   \n",
       "2263      NaN      NaN        NaN        NaN  26.035920  22.631416  20.819309   \n",
       "2264      NaN      NaN        NaN        NaN  25.930969  22.586271  20.790552   \n",
       "2265      NaN      NaN        NaN        NaN  25.936235  22.588552  20.792008   \n",
       "2266      NaN      NaN        NaN        NaN  25.986960  22.610440  20.805962   \n",
       "2267      NaN      NaN        NaN        NaN  25.947631  22.593484  20.795154   \n",
       "2268      NaN      NaN        NaN        NaN  26.044344  22.635010  20.821594   \n",
       "2269      NaN      NaN        NaN        NaN  26.110665  22.663156  20.839457   \n",
       "2270      NaN      NaN        NaN        NaN  26.038983  22.632723  20.820140   \n",
       "2271      NaN      NaN        NaN        NaN  26.182095  22.693171  20.858456   \n",
       "\n",
       "       cX_os100  \n",
       "2250  12.363404  \n",
       "2251  12.357176  \n",
       "2252  12.361141  \n",
       "2253  12.356896  \n",
       "2254  12.356495  \n",
       "2255  12.362857  \n",
       "2256  12.357495  \n",
       "2257  12.362448  \n",
       "2258  12.364497  \n",
       "2259  12.358731  \n",
       "2260  12.360303  \n",
       "2261  12.362051  \n",
       "2262  12.361226  \n",
       "2263  12.361051  \n",
       "2264  12.357570  \n",
       "2265  12.357746  \n",
       "2266  12.359438  \n",
       "2267  12.358128  \n",
       "2268  12.361327  \n",
       "2269  12.363477  \n",
       "2270  12.361151  \n",
       "2271  12.365755  \n",
       "\n",
       "[22 rows x 21 columns]"
      ]
     },
     "execution_count": 10,
     "metadata": {},
     "output_type": "execute_result"
    }
   ],
   "source": [
    "dfall.loc[dfall.sta==18,['sta','prSM','NTU','xmiss','cX']+xmlist+cxlist]"
   ]
  },
  {
   "cell_type": "code",
   "execution_count": 10,
   "metadata": {},
   "outputs": [
    {
     "data": {
      "text/html": [
       "<div>\n",
       "<style scoped>\n",
       "    .dataframe tbody tr th:only-of-type {\n",
       "        vertical-align: middle;\n",
       "    }\n",
       "\n",
       "    .dataframe tbody tr th {\n",
       "        vertical-align: top;\n",
       "    }\n",
       "\n",
       "    .dataframe thead th {\n",
       "        text-align: right;\n",
       "    }\n",
       "</style>\n",
       "<table border=\"1\" class=\"dataframe\">\n",
       "  <thead>\n",
       "    <tr style=\"text-align: right;\">\n",
       "      <th></th>\n",
       "      <th>sta</th>\n",
       "      <th>prSM</th>\n",
       "      <th>NTU</th>\n",
       "      <th>xmiss</th>\n",
       "      <th>cX</th>\n",
       "    </tr>\n",
       "  </thead>\n",
       "  <tbody>\n",
       "    <tr>\n",
       "      <th>2250</th>\n",
       "      <td>18.0</td>\n",
       "      <td>1.0</td>\n",
       "      <td>67.064074</td>\n",
       "      <td>-0.002621</td>\n",
       "      <td>NaN</td>\n",
       "    </tr>\n",
       "    <tr>\n",
       "      <th>2251</th>\n",
       "      <td>18.0</td>\n",
       "      <td>2.0</td>\n",
       "      <td>67.084624</td>\n",
       "      <td>0.004463</td>\n",
       "      <td>40.068289</td>\n",
       "    </tr>\n",
       "    <tr>\n",
       "      <th>2252</th>\n",
       "      <td>18.0</td>\n",
       "      <td>3.0</td>\n",
       "      <td>66.213782</td>\n",
       "      <td>-0.000048</td>\n",
       "      <td>NaN</td>\n",
       "    </tr>\n",
       "    <tr>\n",
       "      <th>2253</th>\n",
       "      <td>18.0</td>\n",
       "      <td>4.0</td>\n",
       "      <td>66.441633</td>\n",
       "      <td>0.004782</td>\n",
       "      <td>39.792142</td>\n",
       "    </tr>\n",
       "    <tr>\n",
       "      <th>2254</th>\n",
       "      <td>18.0</td>\n",
       "      <td>5.0</td>\n",
       "      <td>67.293399</td>\n",
       "      <td>0.005238</td>\n",
       "      <td>39.428047</td>\n",
       "    </tr>\n",
       "    <tr>\n",
       "      <th>2255</th>\n",
       "      <td>18.0</td>\n",
       "      <td>6.0</td>\n",
       "      <td>68.559084</td>\n",
       "      <td>-0.002000</td>\n",
       "      <td>NaN</td>\n",
       "    </tr>\n",
       "    <tr>\n",
       "      <th>2256</th>\n",
       "      <td>18.0</td>\n",
       "      <td>7.0</td>\n",
       "      <td>69.585660</td>\n",
       "      <td>0.004100</td>\n",
       "      <td>40.407739</td>\n",
       "    </tr>\n",
       "    <tr>\n",
       "      <th>2257</th>\n",
       "      <td>18.0</td>\n",
       "      <td>8.0</td>\n",
       "      <td>69.488399</td>\n",
       "      <td>-0.001534</td>\n",
       "      <td>NaN</td>\n",
       "    </tr>\n",
       "    <tr>\n",
       "      <th>2258</th>\n",
       "      <td>18.0</td>\n",
       "      <td>9.0</td>\n",
       "      <td>70.093435</td>\n",
       "      <td>-0.003863</td>\n",
       "      <td>NaN</td>\n",
       "    </tr>\n",
       "    <tr>\n",
       "      <th>2259</th>\n",
       "      <td>18.0</td>\n",
       "      <td>10.0</td>\n",
       "      <td>70.424395</td>\n",
       "      <td>0.002693</td>\n",
       "      <td>42.088460</td>\n",
       "    </tr>\n",
       "    <tr>\n",
       "      <th>2260</th>\n",
       "      <td>18.0</td>\n",
       "      <td>11.0</td>\n",
       "      <td>69.856317</td>\n",
       "      <td>0.000905</td>\n",
       "      <td>46.449521</td>\n",
       "    </tr>\n",
       "    <tr>\n",
       "      <th>2261</th>\n",
       "      <td>18.0</td>\n",
       "      <td>1.0</td>\n",
       "      <td>69.474122</td>\n",
       "      <td>-0.001083</td>\n",
       "      <td>NaN</td>\n",
       "    </tr>\n",
       "    <tr>\n",
       "      <th>2262</th>\n",
       "      <td>18.0</td>\n",
       "      <td>2.0</td>\n",
       "      <td>68.730934</td>\n",
       "      <td>-0.000145</td>\n",
       "      <td>NaN</td>\n",
       "    </tr>\n",
       "    <tr>\n",
       "      <th>2263</th>\n",
       "      <td>18.0</td>\n",
       "      <td>3.0</td>\n",
       "      <td>70.768458</td>\n",
       "      <td>0.000054</td>\n",
       "      <td>57.728801</td>\n",
       "    </tr>\n",
       "    <tr>\n",
       "      <th>2264</th>\n",
       "      <td>18.0</td>\n",
       "      <td>4.0</td>\n",
       "      <td>69.736540</td>\n",
       "      <td>0.004015</td>\n",
       "      <td>40.491396</td>\n",
       "    </tr>\n",
       "    <tr>\n",
       "      <th>2265</th>\n",
       "      <td>18.0</td>\n",
       "      <td>5.0</td>\n",
       "      <td>69.768538</td>\n",
       "      <td>0.003814</td>\n",
       "      <td>40.697080</td>\n",
       "    </tr>\n",
       "    <tr>\n",
       "      <th>2266</th>\n",
       "      <td>18.0</td>\n",
       "      <td>6.0</td>\n",
       "      <td>70.930421</td>\n",
       "      <td>0.001889</td>\n",
       "      <td>43.507629</td>\n",
       "    </tr>\n",
       "    <tr>\n",
       "      <th>2267</th>\n",
       "      <td>18.0</td>\n",
       "      <td>7.0</td>\n",
       "      <td>72.400468</td>\n",
       "      <td>0.003379</td>\n",
       "      <td>41.181038</td>\n",
       "    </tr>\n",
       "    <tr>\n",
       "      <th>2268</th>\n",
       "      <td>18.0</td>\n",
       "      <td>8.0</td>\n",
       "      <td>72.088010</td>\n",
       "      <td>-0.000259</td>\n",
       "      <td>NaN</td>\n",
       "    </tr>\n",
       "    <tr>\n",
       "      <th>2269</th>\n",
       "      <td>18.0</td>\n",
       "      <td>9.0</td>\n",
       "      <td>72.627501</td>\n",
       "      <td>-0.002704</td>\n",
       "      <td>NaN</td>\n",
       "    </tr>\n",
       "    <tr>\n",
       "      <th>2270</th>\n",
       "      <td>18.0</td>\n",
       "      <td>10.0</td>\n",
       "      <td>73.164968</td>\n",
       "      <td>-0.000060</td>\n",
       "      <td>NaN</td>\n",
       "    </tr>\n",
       "    <tr>\n",
       "      <th>2271</th>\n",
       "      <td>18.0</td>\n",
       "      <td>11.0</td>\n",
       "      <td>72.034139</td>\n",
       "      <td>-0.005293</td>\n",
       "      <td>NaN</td>\n",
       "    </tr>\n",
       "  </tbody>\n",
       "</table>\n",
       "</div>"
      ],
      "text/plain": [
       "       sta  prSM        NTU     xmiss         cX\n",
       "2250  18.0   1.0  67.064074 -0.002621        NaN\n",
       "2251  18.0   2.0  67.084624  0.004463  40.068289\n",
       "2252  18.0   3.0  66.213782 -0.000048        NaN\n",
       "2253  18.0   4.0  66.441633  0.004782  39.792142\n",
       "2254  18.0   5.0  67.293399  0.005238  39.428047\n",
       "2255  18.0   6.0  68.559084 -0.002000        NaN\n",
       "2256  18.0   7.0  69.585660  0.004100  40.407739\n",
       "2257  18.0   8.0  69.488399 -0.001534        NaN\n",
       "2258  18.0   9.0  70.093435 -0.003863        NaN\n",
       "2259  18.0  10.0  70.424395  0.002693  42.088460\n",
       "2260  18.0  11.0  69.856317  0.000905  46.449521\n",
       "2261  18.0   1.0  69.474122 -0.001083        NaN\n",
       "2262  18.0   2.0  68.730934 -0.000145        NaN\n",
       "2263  18.0   3.0  70.768458  0.000054  57.728801\n",
       "2264  18.0   4.0  69.736540  0.004015  40.491396\n",
       "2265  18.0   5.0  69.768538  0.003814  40.697080\n",
       "2266  18.0   6.0  70.930421  0.001889  43.507629\n",
       "2267  18.0   7.0  72.400468  0.003379  41.181038\n",
       "2268  18.0   8.0  72.088010 -0.000259        NaN\n",
       "2269  18.0   9.0  72.627501 -0.002704        NaN\n",
       "2270  18.0  10.0  73.164968 -0.000060        NaN\n",
       "2271  18.0  11.0  72.034139 -0.005293        NaN"
      ]
     },
     "execution_count": 10,
     "metadata": {},
     "output_type": "execute_result"
    }
   ],
   "source": [
    "dfall2.loc[dfall2.sta==18,['sta','prSM','NTU','xmiss','cX']]"
   ]
  },
  {
   "cell_type": "code",
   "execution_count": 11,
   "metadata": {},
   "outputs": [
    {
     "data": {
      "text/plain": [
       "[<matplotlib.lines.Line2D at 0x7f0bad445ee0>]"
      ]
     },
     "execution_count": 11,
     "metadata": {},
     "output_type": "execute_result"
    },
    {
     "data": {
      "image/png": "[encoded data removed]",
      "text/plain": [
       "<Figure size 432x288 with 1 Axes>"
      ]
     },
     "metadata": {
      "needs_background": "light"
     },
     "output_type": "display_data"
    }
   ],
   "source": [
    "plt.plot(dfall['xmiss'],dfall['cX'],'k.')"
   ]
  },
  {
   "cell_type": "code",
   "execution_count": null,
   "metadata": {},
   "outputs": [],
   "source": []
  },
  {
   "cell_type": "code",
   "execution_count": 26,
   "metadata": {},
   "outputs": [],
   "source": [
    "df=dfall.copy(deep=True)\n",
    "groupingvar='Date'\n",
    "depthvar='prSM'\n",
    "castvar='castid'\n",
    "shallowLim=35\n",
    "deepLim=60\n",
    "critBath=150"
   ]
  },
  {
   "cell_type": "code",
   "execution_count": 50,
   "metadata": {},
   "outputs": [
    {
     "data": {
      "text/plain": [
       "94.59125092007707"
      ]
     },
     "execution_count": 50,
     "metadata": {},
     "output_type": "execute_result"
    }
   ],
   "source": [
    "y25=np.percentile(df.loc[(df.Date==20170531)&(df[depthvar]>=shallowLim)&(df[depthvar]<=deepLim)&\\\n",
    "                         (df.Bathy>=critBath)&(~np.isnan(df['xmiss'])),['xmiss']],25)\n",
    "y25"
   ]
  },
  {
   "cell_type": "code",
   "execution_count": 42,
   "metadata": {},
   "outputs": [
    {
     "name": "stdout",
     "output_type": "stream",
     "text": [
      "2.04056142251119 -100.69864579627681\n",
      "1.0 0.0\n",
      "3.3948481489778013 -221.85093709962348\n"
     ]
    }
   ],
   "source": [
    "y25=np.percentile(df.loc[(df.Date==20170531)&(df[depthvar]>=shallowLim)&(df[depthvar]<=deepLim)&\\\n",
    "                         (df.Bathy>=critBath)&(~np.isnan(df['xmiss'])),['xmiss']],25)\n",
    "y75=np.percentile(df.loc[(df.Date==20170531)&(df[depthvar]>=shallowLim)&(df[depthvar]<=deepLim)&\\\n",
    "                         (df.Bathy>=critBath)&(~np.isnan(df['xmiss'])),['xmiss']],75)\n",
    "df['xmiss_adj']=np.nan\n",
    "for icr in np.unique(df[groupingvar]):\n",
    "    idfcr=df.loc[(df[groupingvar]==icr)]\n",
    "    # require station depth of at least critBath m to calculate offset\n",
    "    idf_middep=idfcr.loc[(idfcr[depthvar]>=shallowLim)&(idfcr[depthvar]<=deepLim)&\\\n",
    "                         (idfcr.Bathy>=critBath)&(~np.isnan(idfcr['xmiss']))]\n",
    "    x25=np.percentile(idf_middep['xmiss'],25)\n",
    "    x75=np.percentile(idf_middep['xmiss'],75)\n",
    "    m=(y75-y25)/(x75-x25)\n",
    "    b=y75-m*x75\n",
    "    print(m,b)\n",
    "    castlist=np.unique(idfcr[castvar].values)\n",
    "    for ii, ic in enumerate(castlist):\n",
    "        ind=(df[groupingvar]==icr)&(df[castvar]==ic)\n",
    "        df.loc[ind,['xmiss_adj']]=m*df.loc[ind,['xmiss']].values+b"
   ]
  },
  {
   "cell_type": "code",
   "execution_count": 43,
   "metadata": {},
   "outputs": [
    {
     "data": {
      "text/plain": [
       "0      -94.716275\n",
       "1      -94.707804\n",
       "2      -94.704977\n",
       "3      -94.514148\n",
       "4      -94.508608\n",
       "          ...    \n",
       "3033    82.828100\n",
       "3034    84.012908\n",
       "3035    78.443234\n",
       "3036    76.651238\n",
       "3037    63.482049\n",
       "Name: xmiss_adj, Length: 3038, dtype: float64"
      ]
     },
     "execution_count": 43,
     "metadata": {},
     "output_type": "execute_result"
    }
   ],
   "source": [
    "df['xmiss_adj']"
   ]
  },
  {
   "cell_type": "code",
   "execution_count": 44,
   "metadata": {},
   "outputs": [],
   "source": [
    "df['cX_adj']=FRP.cXfromX(df['xmiss_adj'])"
   ]
  },
  {
   "cell_type": "code",
   "execution_count": 46,
   "metadata": {},
   "outputs": [
    {
     "data": {
      "text/plain": [
       "0            NaN\n",
       "1            NaN\n",
       "2            NaN\n",
       "3            NaN\n",
       "4            NaN\n",
       "          ...   \n",
       "3033    0.753611\n",
       "3034    0.696799\n",
       "3035    0.971180\n",
       "3036    1.063618\n",
       "3037    1.817652\n",
       "Name: cX_adj, Length: 3038, dtype: float64"
      ]
     },
     "execution_count": 46,
     "metadata": {},
     "output_type": "execute_result"
    }
   ],
   "source": [
    "df['cX_adj']"
   ]
  },
  {
   "cell_type": "code",
   "execution_count": 47,
   "metadata": {},
   "outputs": [
    {
     "data": {
      "text/plain": [
       "<matplotlib.legend.Legend at 0x7fc3593e02e0>"
      ]
     },
     "execution_count": 47,
     "metadata": {},
     "output_type": "execute_result"
    },
    {
     "data": {
      "image/png": "[encoded data removed]",
      "text/plain": [
       "<Figure size 648x648 with 1 Axes>"
      ]
     },
     "metadata": {
      "needs_background": "light"
     },
     "output_type": "display_data"
    }
   ],
   "source": [
    "fig,ax=plt.subplots(1,1,figsize=(9,9))\n",
    "cols='magenta','red','gold','green','turquoise','royalblue','blueviolet','purple'\n",
    "ii=0\n",
    "for idd in np.unique(dfall['Date']):\n",
    "    ax.plot(df.loc[df.Date==idd,['cX_adj']],df.loc[df.Date==idd,['NTU']],'.',color=cols[ii],label=idd)\n",
    "    ii+=1\n",
    "ax.legend()"
   ]
  },
  {
   "cell_type": "code",
   "execution_count": 58,
   "metadata": {},
   "outputs": [],
   "source": [
    "y50=np.percentile(df.loc[(df.Date==20170410)&(df[depthvar]>=shallowLim)&(df[depthvar]<=deepLim)&\\\n",
    "                         (df.Bathy>=critBath)&(~np.isnan(df['xmiss'])),['xmiss']],50)\n",
    "df['xmiss_scA']=np.nan\n",
    "for icr in np.unique(df[groupingvar]):\n",
    "    idfcr=df.loc[(df[groupingvar]==icr)]\n",
    "    # require station depth of at least critBath m to calculate offset\n",
    "    idf_middep=idfcr.loc[(idfcr[depthvar]>=shallowLim)&(idfcr[depthvar]<=deepLim)&\\\n",
    "                         (idfcr.Bathy>=critBath)&(~np.isnan(idfcr['xmiss']))]\n",
    "    x50=np.percentile(idf_middep['xmiss'],50)\n",
    "    m=y50/x50\n",
    "    castlist=np.unique(idfcr[castvar].values)\n",
    "    for ii, ic in enumerate(castlist):\n",
    "        ind=(df[groupingvar]==icr)&(df[castvar]==ic)\n",
    "        df.loc[ind,['xmiss_scA']]=m*df.loc[ind,['xmiss']].values\n",
    "df['cX_scA']=FRP.cXfromX(df['xmiss_scA'])"
   ]
  },
  {
   "cell_type": "code",
   "execution_count": 59,
   "metadata": {},
   "outputs": [],
   "source": [
    "y50=np.percentile(df.loc[(df.Date==20170410)&(df[depthvar]>=shallowLim)&(df[depthvar]<=deepLim)&\\\n",
    "                         (df.Bathy>=critBath)&(~np.isnan(df['xmiss'])),['xmiss']],50)\n",
    "df['xmiss_scB']=np.nan\n",
    "for icr in np.unique(df[groupingvar]):\n",
    "    idfcr=df.loc[(df[groupingvar]==icr)]\n",
    "    # require station depth of at least critBath m to calculate offset\n",
    "    idf_middep=idfcr.loc[(idfcr[depthvar]>=shallowLim)&(idfcr[depthvar]<=deepLim)&\\\n",
    "                         (idfcr.Bathy>=critBath)&(~np.isnan(idfcr['xmiss']))]\n",
    "    x50=np.percentile(idf_middep['xmiss'],50)\n",
    "    m=y50/x50\n",
    "    castlist=np.unique(idfcr[castvar].values)\n",
    "    for ii, ic in enumerate(castlist):\n",
    "        ind=(df[groupingvar]==icr)&(df[castvar]==ic)\n",
    "        df.loc[ind,['xmiss_scB']]=m*df.loc[ind,['xmiss']].values\n",
    "df['cX_scB']=FRP.cXfromX(df['xmiss_scB'])"
   ]
  },
  {
   "cell_type": "code",
   "execution_count": 60,
   "metadata": {},
   "outputs": [],
   "source": [
    "y50=np.percentile(df.loc[(df.Date==20171101)&(df[depthvar]>=shallowLim)&(df[depthvar]<=deepLim)&\\\n",
    "                         (df.Bathy>=critBath)&(~np.isnan(df['xmiss'])),['xmiss']],50)\n",
    "df['xmiss_scC']=np.nan\n",
    "for icr in np.unique(df[groupingvar]):\n",
    "    idfcr=df.loc[(df[groupingvar]==icr)]\n",
    "    # require station depth of at least critBath m to calculate offset\n",
    "    idf_middep=idfcr.loc[(idfcr[depthvar]>=shallowLim)&(idfcr[depthvar]<=deepLim)&\\\n",
    "                         (idfcr.Bathy>=critBath)&(~np.isnan(idfcr['xmiss']))]\n",
    "    x50=np.percentile(idf_middep['xmiss'],50)\n",
    "    m=y50/x50\n",
    "    castlist=np.unique(idfcr[castvar].values)\n",
    "    for ii, ic in enumerate(castlist):\n",
    "        ind=(df[groupingvar]==icr)&(df[castvar]==ic)\n",
    "        df.loc[ind,['xmiss_scC']]=m*df.loc[ind,['xmiss']].values\n",
    "df['cX_scC']=FRP.cXfromX(df['xmiss_scC'])"
   ]
  },
  {
   "cell_type": "code",
   "execution_count": 63,
   "metadata": {},
   "outputs": [],
   "source": [
    "y50=np.percentile(df.loc[(df.Date==20171101)&(df[depthvar]>=shallowLim)&(df[depthvar]<=deepLim)&\\\n",
    "                         (df.Bathy>=critBath)&(~np.isnan(df['xmiss'])),['xmiss']],50)\n",
    "df['xmiss_scC']=np.nan\n",
    "for icr in np.unique(df[groupingvar]):\n",
    "    idfcr=df.loc[(df[groupingvar]==icr)]\n",
    "    # require station depth of at least critBath m to calculate offset\n",
    "    idf_middep=idfcr.loc[(idfcr[depthvar]>=shallowLim)&(idfcr[depthvar]<=deepLim)&\\\n",
    "                         (idfcr.Bathy>=critBath)&(~np.isnan(idfcr['xmiss']))]\n",
    "    x50=np.percentile(idf_middep['xmiss'],50)\n",
    "    m=100/x50\n",
    "    castlist=np.unique(idfcr[castvar].values)\n",
    "    for ii, ic in enumerate(castlist):\n",
    "        ind=(df[groupingvar]==icr)&(df[castvar]==ic)\n",
    "        df.loc[ind,['xmiss_scD']]=m*df.loc[ind,['xmiss']].values\n",
    "df['cX_scD']=FRP.cXfromX(df['xmiss_scD'])"
   ]
  },
  {
   "cell_type": "code",
   "execution_count": 64,
   "metadata": {},
   "outputs": [
    {
     "data": {
      "text/plain": [
       "<matplotlib.legend.Legend at 0x7fc3594a8910>"
      ]
     },
     "execution_count": 64,
     "metadata": {},
     "output_type": "execute_result"
    },
    {
     "data": {
      "image/png": "[encoded data removed]",
      "text/plain": [
       "<Figure size 648x648 with 1 Axes>"
      ]
     },
     "metadata": {
      "needs_background": "light"
     },
     "output_type": "display_data"
    }
   ],
   "source": [
    "fig,ax=plt.subplots(1,1,figsize=(9,9))\n",
    "cols='magenta','pink','red','gold','orange','green','turquoise','royalblue','blueviolet','purple'\n",
    "ii=0\n",
    "for idd in np.unique(dfall['Date']):\n",
    "    ax.plot(df.loc[df.Date==idd,['cX_scA']],df.loc[df.Date==idd,['NTU']],'.',color=cols[ii],label=idd)\n",
    "    ax.plot(df.loc[df.Date==idd,['cX_scB']],df.loc[df.Date==idd,['NTU']],'.',color=cols[ii+3],label=idd)\n",
    "    ax.plot(df.loc[df.Date==idd,['cX_scC']],df.loc[df.Date==idd,['NTU']],'.',color=cols[ii+6],label=idd)\n",
    "    ax.plot(df.loc[df.Date==idd,['cX_scD']],df.loc[df.Date==idd,['NTU']],'.',color='k',label=idd)\n",
    "    ii+=1\n",
    "ax.legend()"
   ]
  },
  {
   "cell_type": "markdown",
   "metadata": {},
   "source": [
    "#### load STRATOGEM data:"
   ]
  },
  {
   "cell_type": "code",
   "execution_count": 9,
   "metadata": {},
   "outputs": [
    {
     "name": "stdout",
     "output_type": "stream",
     "text": [
      "SG02-01 11/April/02 1.6227499999999964\n",
      "SG02-02  8/May/02 -0.6704500000000024\n",
      "SOG02-03 5/June/2002 -0.2139500000000112\n",
      "SOG02-04 10/July/2002 0.5047999999999888\n",
      "SOG02-05 17/July/2002 -0.03340000000000032\n",
      "SOG02-06 07/August/2002 1.3174999999999955\n",
      "SOG02-06 7/August/2002 8.0942\n",
      "SOG02-07 29/Aug/2002 0.8496999999999986\n",
      "SOG02-08 8/Oct/2002 1.842100000000002\n",
      "SOG02-08 8/October/2002 1.5545999999999935\n",
      "SOG02-09 5/Nov/2002 2.288749999999993\n",
      "SOG02-10 4/Dec/2002 2.5351500000000016\n",
      "SOG03-01 8/Jan/2003 1.9637500000000045\n",
      "SOG03-02 5/Feb/2003 2.0537499999999937\n",
      "SOG03-03 5/Mar/2003 5.672150000000002\n",
      "SOG03-04 19/Mar/2003 7.4773\n",
      "SOG03-05 2/Apr/2003 4.46905000000001\n",
      "SOG03-06 9/Apr/2003 6.000550000000004\n",
      "SOG03-07 16/Apr/2003 4.312150000000003\n",
      "SOG03-08 23/Apr/2003 6.894599999999997\n",
      "SOG03-09 28/May/2003 2.457250000000002\n",
      "SOG03-10 19 /June/2003 3.2700999999999993\n",
      "SOG03-11 23/June/2003 3.0463000000000022\n",
      "SOG03-12 26 /June/2003 2.7757000000000005\n",
      "SOG03-14 3 /July/2003 3.1513999999999953\n",
      "SOG03-19 23/Sep/2003 3.0743500000000097\n",
      "SoG 03-15 14 /Aug/2003 2.1093500000000063\n",
      "SoG 03-17 28/Aug/2003 3.112700000000004\n",
      "SoG 03-18 10 /Sep/2003 2.9623500000000007\n",
      "SoG 03-19 23 /Sep/2003 3.443700000000007\n",
      "SoG 03-20 09 /Oct/2003 3.23214999999999\n",
      "SoG 03-21 06 /Nov/2003 5.065950000000001\n",
      "SoG 03-22 10 /Dec/2003 1.9709000000000003\n",
      "SoG 04-01 16/Jan/2004 2.6356499999999983\n",
      "SoG 04-010 06/Jun/2004 1.1421499999999867\n",
      "SoG 04-02 11/Feb/2004 2.8453499999999963\n",
      "SoG 04-03 02/Mar/2004 1.5398500000000013\n",
      "SoG 04-04 17/Mar/2004 3.8676499999999976\n",
      "SoG 04-05 24/Mar/2004 4.773600000000002\n",
      "SoG 04-06 29/Mar/2004 3.6243499999999926\n",
      "SoG 04-07 07/Apr/2004 1.788499999999999\n",
      "SoG 04-08 14/Apr/2004 1.729549999999989\n",
      "SoG 04-08 15/Apr/2004 2.238749999999996\n",
      "SoG 04-09 28/Apr/2004 2.256150000000005\n",
      "SoG 04-10 06/Jun/2004 1.530850000000001\n",
      "SoG 04-10 07/Jun/2004 1.5077500000000015\n",
      "SoG 04-11 06/Jun/2004 3.402950000000004\n",
      "SoG 04-11 10/Jul/2004 3.1675500000000056\n",
      "SoG 04-11 11/Jul/2004 3.3886500000000126\n",
      "SoG 04-13 1/Sep/2004 2.3079000000000036\n",
      "SoG 04-14 19/Oct/2004 3.582650000000001\n",
      "SoG 04-15 11/Nov/2004 3.7815999999999974\n",
      "SoG 04-16 7/Dec/2004 3.0031999999999925\n",
      "SoG 05-01 14/Jan/2005 3.7684500000000014\n",
      "SoG 05-02 02/Feb/2005 5.112499999999997\n",
      "SoG 05-03 23/Feb/2005 6.131900000000002\n",
      "SoG 05-04 8/Mar/2005 7.177500000000009\n",
      "SoG 05-05 22/Mar/2005 6.280699999999996\n",
      "SoG 05-06 07/Apr/2005 3.6489499999999992\n",
      "SoG 05-07 16/May/2005 3.608450000000005\n",
      "SoG 05-08 15/June/2005 8.330600000000004\n",
      "SoG 05-09 23/June/2005 3.2670999999999992\n",
      "SoG 4-12 11/Aug/2004 3.215850000000003\n"
     ]
    }
   ],
   "source": [
    "dfXF=STRAT.loadSTRATOGEM_XFP(qc=True,calcs=['YD','cX'])"
   ]
  },
  {
   "cell_type": "markdown",
   "metadata": {},
   "source": [
    "### Both turbidity and beam attenuation show relationship to chlorophyll, but not necessarily the same relationship, so include chlorophyll in fit\n",
    "- figure showing FRP turbidity vs chl, FRP beam attenuation vs chl, and STRATOGEM beam attenuation vs chl"
   ]
  },
  {
   "cell_type": "code",
   "execution_count": 10,
   "metadata": {},
   "outputs": [
    {
     "name": "stdout",
     "output_type": "stream",
     "text": [
      "[ 2.95947227 -0.13883349  0.17954807]\n",
      "[ 2.90662781 -0.16140935  0.1054726 ]\n",
      "[ 3.01231674 -0.11625764  0.25362354]\n"
     ]
    }
   ],
   "source": [
    "ii=(~np.isnan(dfall['cX']))&(~np.isnan(dfall['wetStar']))&(~np.isnan(dfall['NTU']))\n",
    "A=np.concatenate([dfall.loc[ii,['cX']].values,dfall.loc[ii,['wetStar']].values,np.ones((np.sum(ii),1))],1)\n",
    "b=dfall.loc[ii,['NTU']].values\n",
    "m,res2sum,p,n,cov,CI,Rsq = pf.lsqfit(A,b)\n",
    "print(m)\n",
    "print(m-CI)\n",
    "print(m+CI)\n",
    "#turbfit=m"
   ]
  },
  {
   "cell_type": "code",
   "execution_count": 11,
   "metadata": {},
   "outputs": [
    {
     "name": "stdout",
     "output_type": "stream",
     "text": [
      "[0.1489218  0.50604004]\n",
      "[0.09923702 0.33914076]\n",
      "[0.19860659 0.67293933]\n"
     ]
    }
   ],
   "source": [
    "ii=(~np.isnan(dfall['cX']))&(~np.isnan(dfall['wetStar']))&(~np.isnan(dfall['NTU']))\n",
    "A=np.concatenate([dfall.loc[ii,['wetStar']].values,np.ones((np.sum(ii),1))],1)\n",
    "b=dfall.loc[ii,['NTU']].values\n",
    "m,res2sum,p,n,cov,CI,Rsq = pf.lsqfit(A,b)\n",
    "print(m)\n",
    "print(m-CI)\n",
    "print(m+CI)\n",
    "#turbfit=m"
   ]
  },
  {
   "cell_type": "code",
   "execution_count": 12,
   "metadata": {},
   "outputs": [],
   "source": [
    "import scipy.stats as sst"
   ]
  },
  {
   "cell_type": "code",
   "execution_count": 13,
   "metadata": {},
   "outputs": [
    {
     "data": {
      "text/plain": [
       "5.991464547107979"
      ]
     },
     "execution_count": 13,
     "metadata": {},
     "output_type": "execute_result"
    }
   ],
   "source": [
    "sst.chi2.ppf(.95, 2, loc=0, scale=1)"
   ]
  },
  {
   "cell_type": "raw",
   "metadata": {},
   "source": [
    "LL=-1/2*np.log(2*pi)-n/2*np.log(sig2)-1/(2*sig2)*np.sum((y-yest)**2)\n",
    "sig2hat=np.sum((y-yest)**2)/n\n",
    "\n",
    "1-alpha confidence interval 1 param: 2*(LL(thetahat)-LL(theta))<chi_1**2(alpha)\n",
    "for p-dimensional theta, use chi_p\n",
    "in case of nuisance parameter, construct profile log likelihood with nuisance parameter at ML estimate\n",
    "chi_n**2(alpha)=scipy.stats.chi2.ppf(1-alpha, n, loc=0, scale=1)"
   ]
  },
  {
   "cell_type": "code",
   "execution_count": 14,
   "metadata": {},
   "outputs": [],
   "source": [
    "def LL(n,res2sum):\n",
    "    return -1/2*np.log(2*np.pi)-n/2*np.log(res2sum/n)-1/(2*res2sum/n)*res2sum"
   ]
  },
  {
   "cell_type": "code",
   "execution_count": 15,
   "metadata": {},
   "outputs": [
    {
     "data": {
      "text/plain": [
       "16797.52271381331"
      ]
     },
     "execution_count": 15,
     "metadata": {},
     "output_type": "execute_result"
    }
   ],
   "source": [
    "LL(n,Rsq)"
   ]
  },
  {
   "cell_type": "markdown",
   "metadata": {},
   "source": [
    "#### regression: beam attenuation on chl --- FRP"
   ]
  },
  {
   "cell_type": "code",
   "execution_count": 16,
   "metadata": {},
   "outputs": [
    {
     "name": "stdout",
     "output_type": "stream",
     "text": [
      "[0.09808494 0.1105664 ]\n",
      "[0.08303296 0.06006865]\n",
      "[0.11313691 0.16106416]\n"
     ]
    }
   ],
   "source": [
    "## all data\n",
    "ii=(~np.isnan(dfall['cX']))&(~np.isnan(dfall['wetStar']))#&(~np.isnan(dfall['NTU']))\n",
    "A=np.concatenate([dfall.loc[ii,['wetStar']].values,np.ones((np.sum(ii),1))],1)\n",
    "b=dfall.loc[ii,['cX']].values\n",
    "m,res2sum,p,n,cov,CI,Rsq = pf.lsqfit(A,b)\n",
    "print(m)\n",
    "print(m-CI)\n",
    "print(m+CI)\n",
    "m_cXFRP=m\n",
    "CI_cXFRP=CI"
   ]
  },
  {
   "cell_type": "code",
   "execution_count": 17,
   "metadata": {},
   "outputs": [
    {
     "name": "stdout",
     "output_type": "stream",
     "text": [
      "[0.09808494 0.1105664 ]\n",
      "[0.08303296 0.06006865]\n",
      "[0.11313691 0.16106416]\n"
     ]
    }
   ],
   "source": [
    "## bin in x and take bottom n% of values y values\n",
    "ii=(~np.isnan(dfall['cX']))&(~np.isnan(dfall['wetStar']))#&(~np.isnan(dfall['NTU']))\n",
    "df2=dfall.loc[ii]\n",
    "\n",
    "wbin=0.5\n",
    "bins=np.arange(0,60,wbin)\n",
    "\n",
    "A=np.concatenate([dfall.loc[ii,['wetStar']].values,np.ones((np.sum(ii),1))],1)\n",
    "b=dfall.loc[ii,['cX']].values\n",
    "m,res2sum,p,n,cov,CI,Rsq = pf.lsqfit(A,b)\n",
    "print(m)\n",
    "print(m-CI)\n",
    "print(m+CI)\n",
    "m_cXFRP=m\n",
    "CI_cXFRP=CI"
   ]
  },
  {
   "cell_type": "markdown",
   "metadata": {},
   "source": [
    "#### regression: beam attenuation on chl --- STRATOGEM"
   ]
  },
  {
   "cell_type": "code",
   "execution_count": 18,
   "metadata": {},
   "outputs": [
    {
     "name": "stdout",
     "output_type": "stream",
     "text": [
      "[0.05139407 0.05915414]\n",
      "[0.05073071 0.05659893]\n",
      "[0.05205742 0.06170934]\n"
     ]
    }
   ],
   "source": [
    "ii=(~np.isnan(dfXF['cX']))&(~np.isnan(dfXF['wetStar']))\n",
    "A=np.concatenate([dfXF.loc[ii,['wetStar']].values,np.ones((np.sum(ii),1))],1)\n",
    "b=dfXF.loc[ii,['cX']].values\n",
    "m,res2sum,p,n,cov,CI,Rsq = pf.lsqfit(A,b)\n",
    "print(m)\n",
    "print(m-CI)\n",
    "print(m+CI)\n",
    "m_cXSTR=m\n",
    "CI_cXSTR=CI"
   ]
  },
  {
   "cell_type": "code",
   "execution_count": 19,
   "metadata": {},
   "outputs": [
    {
     "name": "stdout",
     "output_type": "stream",
     "text": [
      "-0.060536795020623674 -0.17821050819623502\n",
      "1.0991647078257618 -1.4206\n"
     ]
    },
    {
     "data": {
      "text/plain": [
       "Text(0.5, 1.0, 'Sal $>$ 27 and upper 10 m for Strat, turb<.5 for FRP')"
      ]
     },
     "execution_count": 19,
     "metadata": {},
     "output_type": "execute_result"
    },
    {
     "data": {
      "image/png": "[encoded data removed]",
      "text/plain": [
       "<Figure size 1008x864 with 4 Axes>"
      ]
     },
     "metadata": {
      "needs_background": "light"
     },
     "output_type": "display_data"
    }
   ],
   "source": [
    "fig=plt.figure(figsize=(14,12))\n",
    "fig.subplots_adjust(hspace=.3)\n",
    "gs=gridspec.GridSpec(ncols=2,nrows=2,figure=fig,wspace=.5)#left,right,top,bottom,wspace,hspace,width_ratios,height_ratios\n",
    "ax0=fig.add_subplot(gs[0])\n",
    "ax1=fig.add_subplot(gs[1])\n",
    "ax2=fig.add_subplot(gs[2])\n",
    "ax3=fig.add_subplot(gs[3])\n",
    "ax0.plot(dfall['wetStar'],dfall['NTU'],'k.',ms=1)\n",
    "ax0.set_xlabel('Chlorophyll Fluorescence\\n($\\muup$g L$^{-1}$)')\n",
    "ax0.set_ylabel('Turbidity (NTU)')\n",
    "ax1.plot(dfXF['wetStar'],dfXF['cX'],'r.',ms=1)\n",
    "ax1.set_xlabel('Chlorophyll Fluorescence\\n($\\muup$g L$^{-1}$)')\n",
    "ax1.set_ylabel('Beam Attenuation (m$^{-1}$)')\n",
    "ax1.plot(dfall['wetStar'],dfall['cX'],'k.',ms=1)\n",
    "ax1.set_xlim(-2.6,10)\n",
    "ax1.set_ylim(-.2,10)\n",
    "ff=np.arange(0,60)\n",
    "ax1.plot(ff,m_cXFRP[0]*ff+m_cXFRP[1],'-',color='gray')\n",
    "ax1.plot(ff,m_cXSTR[0]*ff+m_cXSTR[1],'-',color='m')\n",
    "ax2.plot(dfall['cX'],dfall['NTU'],'k.',ms=1)\n",
    "#ax2.plot(dfall['cX'],dfall['NTU']+0.03701983*dfall['wetStar'],'r.',ms=1)\n",
    "ii=dfall.Date==20171101\n",
    "ax2.plot(dfall.loc[ii,['cX']].values,dfall.loc[ii,['NTU']].values,'c.',ms=5)\n",
    "ax2.set_xlabel('Beam Attenuation (m$^{-1}$)')\n",
    "ax2.set_ylabel('Turbidity (NTU)')\n",
    "ax2.set_xlim(0,75)\n",
    "ax2.set_ylim(0,75)\n",
    "#ax3.plot(dfall['cX']-??*dfall['wetStar'])\n",
    "print(np.min(dfall['cX']),np.min(dfXF['cX']))\n",
    "print(np.min(dfall['wetStar']),np.min(dfXF['wetStar']))\n",
    "# try high salinity points:\n",
    "tsal=27\n",
    "tz=10\n",
    "dfXF2=dfXF.loc[(dfXF['sal00']>tsal)&(dfXF['prSM']<tz)] #! probably need to convert sal00\n",
    "ax3.plot(dfXF2['wetStar'],dfXF2['cX'],'r.',ms=1)\n",
    "#dfall2=dfall.loc[(dfall['gsw_srA0']>tsal)&(dfall['prSM']<tz)]\n",
    "dfall2=dfall.loc[(dfall['NTU']<.5)]\n",
    "ax3.set_xlabel('Chlorophyll Fluorescence\\n($\\muup$g L$^{-1}$)')\n",
    "ax3.set_ylabel('Beam Attenuation (m$^{-1}$)')\n",
    "ax3.plot(dfall2['wetStar'],dfall2['cX'],'k.',ms=1)\n",
    "#ax3.set_xlim(-2.6,10)\n",
    "ax3.set_ylim(-.2,10)\n",
    "ax3.set_title(f'Sal $>$ {tsal} and upper {tz} m for Strat, turb<.5 for FRP')"
   ]
  },
  {
   "cell_type": "code",
   "execution_count": null,
   "metadata": {},
   "outputs": [],
   "source": []
  },
  {
   "cell_type": "code",
   "execution_count": 20,
   "metadata": {},
   "outputs": [
    {
     "data": {
      "text/html": [
       "<div>\n",
       "<style scoped>\n",
       "    .dataframe tbody tr th:only-of-type {\n",
       "        vertical-align: middle;\n",
       "    }\n",
       "\n",
       "    .dataframe tbody tr th {\n",
       "        vertical-align: top;\n",
       "    }\n",
       "\n",
       "    .dataframe thead th {\n",
       "        text-align: right;\n",
       "    }\n",
       "</style>\n",
       "<table border=\"1\" class=\"dataframe\">\n",
       "  <thead>\n",
       "    <tr style=\"text-align: right;\">\n",
       "      <th></th>\n",
       "      <th>prSM</th>\n",
       "      <th>gsw_ctA0</th>\n",
       "      <th>gsw_srA0</th>\n",
       "      <th>xmiss</th>\n",
       "      <th>par</th>\n",
       "      <th>wetStar</th>\n",
       "      <th>sbeox0ML_L</th>\n",
       "      <th>seaTurbMtrnoQC</th>\n",
       "      <th>turb_uncor</th>\n",
       "      <th>NTU</th>\n",
       "      <th>...</th>\n",
       "      <th>wetStar19</th>\n",
       "      <th>isup</th>\n",
       "      <th>sta</th>\n",
       "      <th>castid</th>\n",
       "      <th>Station</th>\n",
       "      <th>Date</th>\n",
       "      <th>Lat</th>\n",
       "      <th>Lon</th>\n",
       "      <th>Bathy</th>\n",
       "      <th>cX</th>\n",
       "    </tr>\n",
       "  </thead>\n",
       "  <tbody>\n",
       "    <tr>\n",
       "      <th>24</th>\n",
       "      <td>1.0</td>\n",
       "      <td>8.591339</td>\n",
       "      <td>25.983465</td>\n",
       "      <td>73.062169</td>\n",
       "      <td>232.523852</td>\n",
       "      <td>14.536400</td>\n",
       "      <td>7.305039</td>\n",
       "      <td>52.870801</td>\n",
       "      <td>52.738954</td>\n",
       "      <td>1.710018</td>\n",
       "      <td>...</td>\n",
       "      <td>33.487374</td>\n",
       "      <td>1</td>\n",
       "      <td>3.0</td>\n",
       "      <td>5</td>\n",
       "      <td>3.0</td>\n",
       "      <td>20170410</td>\n",
       "      <td>49.099983</td>\n",
       "      <td>-123.526600</td>\n",
       "      <td>314.6250</td>\n",
       "      <td>1.255438</td>\n",
       "    </tr>\n",
       "    <tr>\n",
       "      <th>25</th>\n",
       "      <td>2.0</td>\n",
       "      <td>8.557910</td>\n",
       "      <td>26.414945</td>\n",
       "      <td>75.808050</td>\n",
       "      <td>131.630196</td>\n",
       "      <td>15.681238</td>\n",
       "      <td>7.165835</td>\n",
       "      <td>47.652456</td>\n",
       "      <td>46.806962</td>\n",
       "      <td>1.517678</td>\n",
       "      <td>...</td>\n",
       "      <td>35.341167</td>\n",
       "      <td>1</td>\n",
       "      <td>3.0</td>\n",
       "      <td>5</td>\n",
       "      <td>3.0</td>\n",
       "      <td>20170410</td>\n",
       "      <td>49.099983</td>\n",
       "      <td>-123.526600</td>\n",
       "      <td>314.6250</td>\n",
       "      <td>1.107863</td>\n",
       "    </tr>\n",
       "    <tr>\n",
       "      <th>26</th>\n",
       "      <td>3.0</td>\n",
       "      <td>8.522449</td>\n",
       "      <td>26.888488</td>\n",
       "      <td>80.271246</td>\n",
       "      <td>82.128816</td>\n",
       "      <td>14.384032</td>\n",
       "      <td>6.900959</td>\n",
       "      <td>39.415372</td>\n",
       "      <td>38.962323</td>\n",
       "      <td>1.263322</td>\n",
       "      <td>...</td>\n",
       "      <td>33.188858</td>\n",
       "      <td>1</td>\n",
       "      <td>3.0</td>\n",
       "      <td>5</td>\n",
       "      <td>3.0</td>\n",
       "      <td>20170410</td>\n",
       "      <td>49.099983</td>\n",
       "      <td>-123.526600</td>\n",
       "      <td>314.6250</td>\n",
       "      <td>0.879035</td>\n",
       "    </tr>\n",
       "    <tr>\n",
       "      <th>27</th>\n",
       "      <td>4.0</td>\n",
       "      <td>8.497187</td>\n",
       "      <td>27.079040</td>\n",
       "      <td>83.512909</td>\n",
       "      <td>49.716912</td>\n",
       "      <td>9.798991</td>\n",
       "      <td>6.563529</td>\n",
       "      <td>34.355847</td>\n",
       "      <td>34.331376</td>\n",
       "      <td>1.113167</td>\n",
       "      <td>...</td>\n",
       "      <td>20.122387</td>\n",
       "      <td>1</td>\n",
       "      <td>3.0</td>\n",
       "      <td>5</td>\n",
       "      <td>3.0</td>\n",
       "      <td>20170410</td>\n",
       "      <td>49.099983</td>\n",
       "      <td>-123.526600</td>\n",
       "      <td>314.6250</td>\n",
       "      <td>0.720676</td>\n",
       "    </tr>\n",
       "    <tr>\n",
       "      <th>28</th>\n",
       "      <td>5.0</td>\n",
       "      <td>8.477757</td>\n",
       "      <td>27.672911</td>\n",
       "      <td>89.077674</td>\n",
       "      <td>33.625905</td>\n",
       "      <td>6.364046</td>\n",
       "      <td>6.185958</td>\n",
       "      <td>28.296127</td>\n",
       "      <td>27.396218</td>\n",
       "      <td>0.888300</td>\n",
       "      <td>...</td>\n",
       "      <td>11.499446</td>\n",
       "      <td>1</td>\n",
       "      <td>3.0</td>\n",
       "      <td>5</td>\n",
       "      <td>3.0</td>\n",
       "      <td>20170410</td>\n",
       "      <td>49.099983</td>\n",
       "      <td>-123.526600</td>\n",
       "      <td>314.6250</td>\n",
       "      <td>0.462646</td>\n",
       "    </tr>\n",
       "    <tr>\n",
       "      <th>...</th>\n",
       "      <td>...</td>\n",
       "      <td>...</td>\n",
       "      <td>...</td>\n",
       "      <td>...</td>\n",
       "      <td>...</td>\n",
       "      <td>...</td>\n",
       "      <td>...</td>\n",
       "      <td>...</td>\n",
       "      <td>...</td>\n",
       "      <td>...</td>\n",
       "      <td>...</td>\n",
       "      <td>...</td>\n",
       "      <td>...</td>\n",
       "      <td>...</td>\n",
       "      <td>...</td>\n",
       "      <td>...</td>\n",
       "      <td>...</td>\n",
       "      <td>...</td>\n",
       "      <td>...</td>\n",
       "      <td>...</td>\n",
       "      <td>...</td>\n",
       "    </tr>\n",
       "    <tr>\n",
       "      <th>2796</th>\n",
       "      <td>5.0</td>\n",
       "      <td>10.611450</td>\n",
       "      <td>28.081865</td>\n",
       "      <td>93.575980</td>\n",
       "      <td>5.003012</td>\n",
       "      <td>5.225239</td>\n",
       "      <td>5.676211</td>\n",
       "      <td>17.688295</td>\n",
       "      <td>18.238866</td>\n",
       "      <td>0.591380</td>\n",
       "      <td>...</td>\n",
       "      <td>10.184444</td>\n",
       "      <td>0</td>\n",
       "      <td>22.0</td>\n",
       "      <td>44</td>\n",
       "      <td>22.0</td>\n",
       "      <td>20171101</td>\n",
       "      <td>49.099883</td>\n",
       "      <td>-123.350233</td>\n",
       "      <td>152.1875</td>\n",
       "      <td>0.265586</td>\n",
       "    </tr>\n",
       "    <tr>\n",
       "      <th>2890</th>\n",
       "      <td>1.0</td>\n",
       "      <td>10.570075</td>\n",
       "      <td>26.485871</td>\n",
       "      <td>70.138921</td>\n",
       "      <td>76.101768</td>\n",
       "      <td>5.157949</td>\n",
       "      <td>6.090350</td>\n",
       "      <td>139.011138</td>\n",
       "      <td>134.005639</td>\n",
       "      <td>4.345023</td>\n",
       "      <td>...</td>\n",
       "      <td>11.180448</td>\n",
       "      <td>1</td>\n",
       "      <td>23.0</td>\n",
       "      <td>45</td>\n",
       "      <td>23.0</td>\n",
       "      <td>20171101</td>\n",
       "      <td>49.100400</td>\n",
       "      <td>-123.324583</td>\n",
       "      <td>72.3750</td>\n",
       "      <td>1.418769</td>\n",
       "    </tr>\n",
       "    <tr>\n",
       "      <th>2955</th>\n",
       "      <td>3.0</td>\n",
       "      <td>10.621759</td>\n",
       "      <td>28.046196</td>\n",
       "      <td>82.334436</td>\n",
       "      <td>15.645509</td>\n",
       "      <td>5.136248</td>\n",
       "      <td>5.862336</td>\n",
       "      <td>20.460478</td>\n",
       "      <td>20.963123</td>\n",
       "      <td>0.679712</td>\n",
       "      <td>...</td>\n",
       "      <td>9.852009</td>\n",
       "      <td>0</td>\n",
       "      <td>23.0</td>\n",
       "      <td>46</td>\n",
       "      <td>23.0</td>\n",
       "      <td>20171101</td>\n",
       "      <td>49.100400</td>\n",
       "      <td>-123.324583</td>\n",
       "      <td>72.3750</td>\n",
       "      <td>0.777523</td>\n",
       "    </tr>\n",
       "    <tr>\n",
       "      <th>2956</th>\n",
       "      <td>4.0</td>\n",
       "      <td>10.624016</td>\n",
       "      <td>28.397759</td>\n",
       "      <td>89.510976</td>\n",
       "      <td>12.412511</td>\n",
       "      <td>5.321041</td>\n",
       "      <td>5.209919</td>\n",
       "      <td>12.417587</td>\n",
       "      <td>12.529698</td>\n",
       "      <td>0.406265</td>\n",
       "      <td>...</td>\n",
       "      <td>9.545542</td>\n",
       "      <td>0</td>\n",
       "      <td>23.0</td>\n",
       "      <td>46</td>\n",
       "      <td>23.0</td>\n",
       "      <td>20171101</td>\n",
       "      <td>49.100400</td>\n",
       "      <td>-123.324583</td>\n",
       "      <td>72.3750</td>\n",
       "      <td>0.443236</td>\n",
       "    </tr>\n",
       "    <tr>\n",
       "      <th>3016</th>\n",
       "      <td>1.0</td>\n",
       "      <td>10.594201</td>\n",
       "      <td>26.036300</td>\n",
       "      <td>37.518589</td>\n",
       "      <td>35.258164</td>\n",
       "      <td>5.299269</td>\n",
       "      <td>5.805757</td>\n",
       "      <td>262.466148</td>\n",
       "      <td>262.464120</td>\n",
       "      <td>8.510185</td>\n",
       "      <td>...</td>\n",
       "      <td>9.490099</td>\n",
       "      <td>1</td>\n",
       "      <td>24.0</td>\n",
       "      <td>47</td>\n",
       "      <td>24.0</td>\n",
       "      <td>20171101</td>\n",
       "      <td>49.099833</td>\n",
       "      <td>-123.310150</td>\n",
       "      <td>13.1250</td>\n",
       "      <td>3.921335</td>\n",
       "    </tr>\n",
       "  </tbody>\n",
       "</table>\n",
       "<p>154 rows × 21 columns</p>\n",
       "</div>"
      ],
      "text/plain": [
       "      prSM   gsw_ctA0   gsw_srA0      xmiss         par    wetStar  \\\n",
       "24     1.0   8.591339  25.983465  73.062169  232.523852  14.536400   \n",
       "25     2.0   8.557910  26.414945  75.808050  131.630196  15.681238   \n",
       "26     3.0   8.522449  26.888488  80.271246   82.128816  14.384032   \n",
       "27     4.0   8.497187  27.079040  83.512909   49.716912   9.798991   \n",
       "28     5.0   8.477757  27.672911  89.077674   33.625905   6.364046   \n",
       "...    ...        ...        ...        ...         ...        ...   \n",
       "2796   5.0  10.611450  28.081865  93.575980    5.003012   5.225239   \n",
       "2890   1.0  10.570075  26.485871  70.138921   76.101768   5.157949   \n",
       "2955   3.0  10.621759  28.046196  82.334436   15.645509   5.136248   \n",
       "2956   4.0  10.624016  28.397759  89.510976   12.412511   5.321041   \n",
       "3016   1.0  10.594201  26.036300  37.518589   35.258164   5.299269   \n",
       "\n",
       "      sbeox0ML_L  seaTurbMtrnoQC  turb_uncor       NTU  ...  wetStar19  isup  \\\n",
       "24      7.305039       52.870801   52.738954  1.710018  ...  33.487374     1   \n",
       "25      7.165835       47.652456   46.806962  1.517678  ...  35.341167     1   \n",
       "26      6.900959       39.415372   38.962323  1.263322  ...  33.188858     1   \n",
       "27      6.563529       34.355847   34.331376  1.113167  ...  20.122387     1   \n",
       "28      6.185958       28.296127   27.396218  0.888300  ...  11.499446     1   \n",
       "...          ...             ...         ...       ...  ...        ...   ...   \n",
       "2796    5.676211       17.688295   18.238866  0.591380  ...  10.184444     0   \n",
       "2890    6.090350      139.011138  134.005639  4.345023  ...  11.180448     1   \n",
       "2955    5.862336       20.460478   20.963123  0.679712  ...   9.852009     0   \n",
       "2956    5.209919       12.417587   12.529698  0.406265  ...   9.545542     0   \n",
       "3016    5.805757      262.466148  262.464120  8.510185  ...   9.490099     1   \n",
       "\n",
       "       sta  castid  Station      Date        Lat         Lon     Bathy  \\\n",
       "24     3.0       5      3.0  20170410  49.099983 -123.526600  314.6250   \n",
       "25     3.0       5      3.0  20170410  49.099983 -123.526600  314.6250   \n",
       "26     3.0       5      3.0  20170410  49.099983 -123.526600  314.6250   \n",
       "27     3.0       5      3.0  20170410  49.099983 -123.526600  314.6250   \n",
       "28     3.0       5      3.0  20170410  49.099983 -123.526600  314.6250   \n",
       "...    ...     ...      ...       ...        ...         ...       ...   \n",
       "2796  22.0      44     22.0  20171101  49.099883 -123.350233  152.1875   \n",
       "2890  23.0      45     23.0  20171101  49.100400 -123.324583   72.3750   \n",
       "2955  23.0      46     23.0  20171101  49.100400 -123.324583   72.3750   \n",
       "2956  23.0      46     23.0  20171101  49.100400 -123.324583   72.3750   \n",
       "3016  24.0      47     24.0  20171101  49.099833 -123.310150   13.1250   \n",
       "\n",
       "            cX  \n",
       "24    1.255438  \n",
       "25    1.107863  \n",
       "26    0.879035  \n",
       "27    0.720676  \n",
       "28    0.462646  \n",
       "...        ...  \n",
       "2796  0.265586  \n",
       "2890  1.418769  \n",
       "2955  0.777523  \n",
       "2956  0.443236  \n",
       "3016  3.921335  \n",
       "\n",
       "[154 rows x 21 columns]"
      ]
     },
     "execution_count": 20,
     "metadata": {},
     "output_type": "execute_result"
    }
   ],
   "source": [
    "dfall.loc[(dfall['cX']<5)&(dfall['wetStar']>5)]"
   ]
  },
  {
   "cell_type": "code",
   "execution_count": 21,
   "metadata": {},
   "outputs": [
    {
     "data": {
      "text/plain": [
       "(0.0, 75.0)"
      ]
     },
     "execution_count": 21,
     "metadata": {},
     "output_type": "execute_result"
    },
    {
     "data": {
      "image/png": "[encoded data removed]",
      "text/plain": [
       "<Figure size 1008x864 with 4 Axes>"
      ]
     },
     "metadata": {
      "needs_background": "light"
     },
     "output_type": "display_data"
    }
   ],
   "source": [
    "fig=plt.figure(figsize=(14,12))\n",
    "gs=gridspec.GridSpec(ncols=2,nrows=2,figure=fig,wspace=.5)#left,right,top,bottom,wspace,hspace,width_ratios,height_ratios\n",
    "ax0=fig.add_subplot(gs[0])\n",
    "ax1=fig.add_subplot(gs[1])\n",
    "ax2=fig.add_subplot(gs[2])\n",
    "ax3=fig.add_subplot(gs[3])\n",
    "ax0.plot(dfall['wetStar'],dfall['NTU'],'k.',ms=1)\n",
    "ax0.set_xlabel('Chlorophyll Fluorescence\\n($\\muup$g L$^{-1}$)')\n",
    "ax0.set_ylabel('Turbidity (NTU)')\n",
    "ax1.plot(dfXF['wetStar'],dfXF['cX'],'r.',ms=1)\n",
    "ax1.set_xlabel('Chlorophyll Fluorescence\\n($\\muup$g L$^{-1}$)')\n",
    "ax1.set_ylabel('Beam Attenuation (m$^{-1}$)')\n",
    "ax1.plot(dfall['wetStar'],dfall['cX'],'k.',ms=1)\n",
    "ax1.set_xlim(-.1,60)\n",
    "ax1.set_ylim(-.1,60)\n",
    "ff=np.arange(0,60)\n",
    "ax1.plot(ff,m_cXFRP[0]*ff+m_cXFRP[1],'-',color='gray')\n",
    "ax1.plot(ff,m_cXSTR[0]*ff+m_cXSTR[1],'-',color='m')\n",
    "ax2.plot(dfall['cX'],dfall['NTU'],'k.',ms=1)\n",
    "ax2.plot(dfall['cX'],dfall['NTU']+0.03701983*dfall['wetStar'],'r.',ms=1)\n",
    "ax2.set_xlabel('Beam Attenuation (m$^{-1}$)')\n",
    "ax2.set_ylabel('Turbidity (NTU)')\n",
    "ax2.set_xlim(0,75)\n",
    "ax2.set_ylim(0,75)\n",
    "#ax3.plot(dfall['cX']-??*dfall['wetStar'])"
   ]
  },
  {
   "cell_type": "markdown",
   "metadata": {},
   "source": [
    "### Fit based on FRP data:"
   ]
  },
  {
   "cell_type": "code",
   "execution_count": 22,
   "metadata": {},
   "outputs": [
    {
     "name": "stdout",
     "output_type": "stream",
     "text": [
      "b: [ 2.95947227 -0.13883349  0.17954807] CI: [0.05284447 0.02257585 0.07407547]\n",
      "R**2= 0.8065751178611967\n"
     ]
    }
   ],
   "source": [
    "# linear fit: turb = a * cI + b * chl + c\n",
    "ii=(~np.isnan(dfall['cX']))&(~np.isnan(dfall['NTU']))&(~np.isnan(dfall['wetStar']))\n",
    "X=np.vstack([dfall.loc[ii]['cX'],dfall.loc[ii]['wetStar'],np.ones(len(dfall.loc[ii]['wetStar']))]).T\n",
    "y=dfall.loc[ii]['NTU']\n",
    "b,res,d,n,cov,CI,Rsq=pf.lsqfit(X,y)\n",
    "print('b:',b,'CI:',CI)\n",
    "print('R**2=',Rsq)"
   ]
  },
  {
   "cell_type": "code",
   "execution_count": null,
   "metadata": {},
   "outputs": [],
   "source": []
  },
  {
   "cell_type": "code",
   "execution_count": 23,
   "metadata": {},
   "outputs": [
    {
     "name": "stdout",
     "output_type": "stream",
     "text": [
      "b: [0.0446733  0.47687437] CI: [0.02763155 0.49094155]\n",
      "R**2= 0.15066271697275258\n"
     ]
    }
   ],
   "source": [
    "ii=(~np.isnan(dfall['cX']))&(~np.isnan(dfall['wetStar']))&(dfall['cX']<4.0)&(dfall['wetStar']>10)\n",
    "X=np.vstack([dfall.loc[ii]['wetStar'],np.ones(len(dfall.loc[ii]['wetStar']))]).T\n",
    "y=dfall.loc[ii]['cX']\n",
    "b,res,d,n,cov,CI,Rsq=pf.lsqfit(X,y)\n",
    "print('b:',b,'CI:',CI)\n",
    "print('R**2=',Rsq)"
   ]
  },
  {
   "cell_type": "code",
   "execution_count": 24,
   "metadata": {},
   "outputs": [
    {
     "name": "stdout",
     "output_type": "stream",
     "text": [
      "b: [0.03727208 0.28934456] CI: [0.00224888 0.05282842]\n",
      "R**2= 0.4475381924847911\n"
     ]
    }
   ],
   "source": [
    "ii=(~np.isnan(dfXF['cX']))&(~np.isnan(dfXF['wetStar']))&(dfXF['cX']<4.0)&(dfXF['wetStar']>10)\n",
    "X=np.vstack([dfXF.loc[ii]['wetStar'],np.ones(len(dfXF.loc[ii]['wetStar']))]).T\n",
    "y=dfXF.loc[ii]['cX']\n",
    "b,res,d,n,cov,CI,Rsq=pf.lsqfit(X,y)\n",
    "print('b:',b,'CI:',CI)\n",
    "print('R**2=',Rsq)"
   ]
  },
  {
   "cell_type": "code",
   "execution_count": null,
   "metadata": {},
   "outputs": [],
   "source": []
  },
  {
   "cell_type": "code",
   "execution_count": null,
   "metadata": {},
   "outputs": [],
   "source": []
  },
  {
   "cell_type": "code",
   "execution_count": 25,
   "metadata": {},
   "outputs": [
    {
     "data": {
      "text/plain": [
       "[<matplotlib.lines.Line2D at 0x7fdba755f400>]"
      ]
     },
     "execution_count": 25,
     "metadata": {},
     "output_type": "execute_result"
    },
    {
     "data": {
      "image/png": "[encoded data removed]",
      "text/plain": [
       "<Figure size 432x144 with 3 Axes>"
      ]
     },
     "metadata": {
      "needs_background": "light"
     },
     "output_type": "display_data"
    }
   ],
   "source": [
    "fig=plt.figure(figsize=(6,2))\n",
    "gs=gridspec.GridSpec(ncols=3,nrows=1,figure=fig)#left,right,top,bottom,wspace,hspace,width_ratios,height_ratios\n",
    "ax0=fig.add_subplot(gs[0])\n",
    "ax1=fig.add_subplot(gs[1])\n",
    "ax2=fig.add_subplot(gs[2])\n",
    "ax0.plot(dfall['cX'],dfall['NTU'],'k.')\n",
    "ax1.plot(dfall['wetStar'],dfall['NTU'],'k.')\n",
    "ax2.plot(y,np.dot(X,b),'k.')"
   ]
  },
  {
   "cell_type": "code",
   "execution_count": 26,
   "metadata": {},
   "outputs": [
    {
     "data": {
      "text/plain": [
       "[<matplotlib.lines.Line2D at 0x7fdba7d56940>]"
      ]
     },
     "execution_count": 26,
     "metadata": {},
     "output_type": "execute_result"
    },
    {
     "data": {
      "image/png": "[encoded data removed]",
      "text/plain": [
       "<Figure size 540x216 with 3 Axes>"
      ]
     },
     "metadata": {
      "needs_background": "light"
     },
     "output_type": "display_data"
    }
   ],
   "source": [
    "fig=plt.figure(figsize=(7.5,3))\n",
    "gs=gridspec.GridSpec(ncols=3,nrows=1,figure=fig)#left,right,top,bottom,wspace,hspace,width_ratios,height_ratios\n",
    "ax0=fig.add_subplot(gs[0])\n",
    "ax1=fig.add_subplot(gs[1])\n",
    "ax2=fig.add_subplot(gs[2])\n",
    "ax0.plot(dfall['cX'],dfall['NTU'],'k.')\n",
    "ax1.plot(dfall['wetStar'],dfall['NTU'],'k.')\n",
    "ax2.plot(y,np.dot(X,b),'k.')"
   ]
  },
  {
   "cell_type": "code",
   "execution_count": null,
   "metadata": {},
   "outputs": [],
   "source": []
  },
  {
   "cell_type": "raw",
   "metadata": {},
   "source": [
    "https://kitchingroup.cheme.cmu.edu/blog/2013/02/18/Linear-regression-with-confidence-intervals/\n",
    "sigma2 = np.sum((Ca - np.dot(T, p))**2) / (n - k)  # RMSE\n",
    "\n",
    "C = sigma2 * np.linalg.inv(np.dot(T.T, T)) # covariance matrix\n",
    "se = np.sqrt(np.diag(C)) # standard error\n",
    "\n",
    "alpha = 0.05 # 100*(1 - alpha) confidence level\n",
    "\n",
    "sT = t.ppf(1.0 - alpha/2.0, n - k) # student T multiplier\n",
    "CI = sT * se\n",
    "\n",
    "for beta, ci in zip(p, CI):\n",
    "    print '{2: 1.2e} [{0: 1.4e} {1: 1.4e}]'.format(beta - ci, beta + ci, beta)\n",
    "\n",
    "SS_tot = np.sum((Ca - np.mean(Ca))**2)\n",
    "SS_err = np.sum((np.dot(T, p) - Ca)**2)"
   ]
  },
  {
   "cell_type": "code",
   "execution_count": null,
   "metadata": {},
   "outputs": [],
   "source": []
  }
 ],
 "metadata": {
  "kernelspec": {
   "display_name": "Python (PAR)",
   "language": "python",
   "name": "par"
  },
  "language_info": {
   "codemirror_mode": {
    "name": "ipython",
    "version": 3
   },
   "file_extension": ".py",
   "mimetype": "text/x-python",
   "name": "python",
   "nbconvert_exporter": "python",
   "pygments_lexer": "ipython3",
   "version": "3.9.2"
  }
 },
 "nbformat": 4,
 "nbformat_minor": 4
}
