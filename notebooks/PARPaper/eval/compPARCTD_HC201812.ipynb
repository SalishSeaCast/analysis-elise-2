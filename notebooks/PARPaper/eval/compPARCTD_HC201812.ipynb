{
 "cells": [
  {
   "cell_type": "code",
   "execution_count": 1,
   "metadata": {},
   "outputs": [],
   "source": [
    "import sqlalchemy\n",
    "from sqlalchemy import (create_engine, Column, String, Integer, Float, MetaData, \n",
    "                        Table, type_coerce, ForeignKey, case)\n",
    "from sqlalchemy.orm import mapper, create_session, relationship, aliased, Session\n",
    "from sqlalchemy.ext.declarative import declarative_base\n",
    "from sqlalchemy import case\n",
    "import numpy as np\n",
    "from sqlalchemy.ext.automap import automap_base\n",
    "import matplotlib.pyplot as plt\n",
    "import sqlalchemy.types as types\n",
    "from sqlalchemy.sql import and_, or_, not_, func\n",
    "from sqlalchemy.sql import select\n",
    "import os\n",
    "from os.path import isfile\n",
    "import pandas as pd\n",
    "import netCDF4 as nc\n",
    "import datetime as dt\n",
    "from salishsea_tools import evaltools as et, viz_tools\n",
    "import datetime\n",
    "import glob\n",
    "import gsw\n",
    "import pickle\n",
    "import matplotlib as mpl\n",
    "import cmocean\n",
    "from scipy import stats as spst\n",
    "import scipy.optimize as scopt\n",
    "\n",
    "%matplotlib inline"
   ]
  },
  {
   "cell_type": "code",
   "execution_count": null,
   "metadata": {},
   "outputs": [],
   "source": []
  },
  {
   "cell_type": "code",
   "execution_count": 2,
   "metadata": {},
   "outputs": [],
   "source": [
    "# conversion factor\n",
    "r_uE_W=1/0.2174 # (uE/m2/s) / (W/m2)"
   ]
  },
  {
   "cell_type": "code",
   "execution_count": 3,
   "metadata": {},
   "outputs": [],
   "source": [
    "basedir='/data/eolson/results/MEOPAR/PARcalcs/'\n",
    "dbname='DFO_CTD_withModelPAR.sqlite'\n",
    "datelims=()\n",
    "engine = create_engine('sqlite:///' + basedir + dbname, echo = False)\n",
    "Base = automap_base()\n",
    "# reflect the tables in salish.sqlite:\n",
    "Base.prepare(engine, reflect=True)\n",
    "# mapped classes have been created\n",
    "# existing tables:\n",
    "StationTBL=Base.classes.StationTBL\n",
    "ObsTBL=Base.classes.ObsTBL\n",
    "CalcsTBL=Base.classes.CalcsTBL\n",
    "session = create_session(bind = engine, autocommit = False, autoflush = True)\n"
   ]
  },
  {
   "cell_type": "code",
   "execution_count": null,
   "metadata": {},
   "outputs": [],
   "source": []
  },
  {
   "cell_type": "code",
   "execution_count": 4,
   "metadata": {},
   "outputs": [
    {
     "data": {
      "text/plain": [
       "[(None), ('uE/m^2/sec')]"
      ]
     },
     "execution_count": 4,
     "metadata": {},
     "output_type": "execute_result"
    }
   ],
   "source": [
    "session.query(ObsTBL.PAR1_units).distinct().all()"
   ]
  },
  {
   "cell_type": "code",
   "execution_count": 5,
   "metadata": {},
   "outputs": [
    {
     "data": {
      "text/plain": [
       "[(None), ('uE/m^2/sec')]"
      ]
     },
     "execution_count": 5,
     "metadata": {},
     "output_type": "execute_result"
    }
   ],
   "source": [
    "session.query(ObsTBL.PAR_1_units).distinct().all()"
   ]
  },
  {
   "cell_type": "code",
   "execution_count": 6,
   "metadata": {},
   "outputs": [],
   "source": [
    "PAR=case([(ObsTBL.PAR!=None, ObsTBL.PAR)], else_=\n",
    "             case([(ObsTBL.PAR1!=None, ObsTBL.PAR1)], else_=ObsTBL.PAR_1))"
   ]
  },
  {
   "cell_type": "code",
   "execution_count": 7,
   "metadata": {},
   "outputs": [],
   "source": [
    "SA=case([(CalcsTBL.Salinity_T0_C0_SA!=None, CalcsTBL.Salinity_T0_C0_SA)], else_=\n",
    "         case([(CalcsTBL.Salinity_T1_C1_SA!=None, CalcsTBL.Salinity_T1_C1_SA)], else_=\n",
    "         case([(CalcsTBL.Salinity_SA!=None, CalcsTBL.Salinity_SA)], else_= None)))\n",
    "CT=case([(CalcsTBL.Temperature_Primary_CT!=None, CalcsTBL.Temperature_Primary_CT)], else_=\n",
    "         case([(CalcsTBL.Temperature_Secondary_CT!=None, CalcsTBL.Temperature_Secondary_CT)], else_=CalcsTBL.Temperature_CT))\n",
    "ZD=case([(ObsTBL.Depth!=None,ObsTBL.Depth)], else_= CalcsTBL.Z)"
   ]
  },
  {
   "cell_type": "code",
   "execution_count": 8,
   "metadata": {},
   "outputs": [],
   "source": [
    "qry=session.query(StationTBL.StartYear.label('Year'),StationTBL.StartMonth.label('Month'),\n",
    "                StationTBL.StartDay.label('Day'),StationTBL.StartHour.label('Hour'),\n",
    "                StationTBL.Lat,StationTBL.Lon,ZD.label('Z'),PAR.label('PAR'),SA.label('SA'),CT.label('CT')).\\\n",
    "        select_from(StationTBL).join(ObsTBL,ObsTBL.StationTBLID==StationTBL.ID).\\\n",
    "        join(CalcsTBL,CalcsTBL.ObsTBLID==ObsTBL.ID).filter(and_(StationTBL.Lat>47-3/2.5*(StationTBL.Lon+123.5),\n",
    "                                            StationTBL.Lat<47-3/2.5*(StationTBL.Lon+121),\n",
    "                                            StationTBL.Lat<51,\n",
    "                                            StationTBL.Include==True,ObsTBL.Include==True,\n",
    "                                            ObsTBL.PAR>=0))\n"
   ]
  },
  {
   "cell_type": "code",
   "execution_count": 9,
   "metadata": {},
   "outputs": [],
   "source": [
    "qry2=session.query(StationTBL.StartYear.label('Year'),StationTBL.StartMonth.label('Month'),\n",
    "                StationTBL.StartDay.label('Day'),StationTBL.StartHour.label('Hour'),\n",
    "                StationTBL.Lat,StationTBL.Lon,func.min(ZD).label('minZ')).\\\n",
    "        select_from(StationTBL).join(ObsTBL,ObsTBL.StationTBLID==StationTBL.ID).\\\n",
    "        join(CalcsTBL,CalcsTBL.ObsTBLID==ObsTBL.ID).filter(and_(StationTBL.Lat>47-3/2.5*(StationTBL.Lon+123.5),\n",
    "                                            StationTBL.Lat<47-3/2.5*(StationTBL.Lon+121),\n",
    "                                            StationTBL.Lat<51,\n",
    "                                            StationTBL.Include==True,ObsTBL.Include==True,\n",
    "                                            ObsTBL.PAR>=0)).group_by(StationTBL.ID)\n",
    "minzQ=session.query(StationTBL.ID,func.min(ZD).label('minZ')).\\\n",
    "        select_from(StationTBL).join(ObsTBL,ObsTBL.StationTBLID==StationTBL.ID).\\\n",
    "        join(CalcsTBL,CalcsTBL.ObsTBLID==ObsTBL.ID).filter(and_(StationTBL.Lat>47-3/2.5*(StationTBL.Lon+123.5),\n",
    "                                            StationTBL.Lat<47-3/2.5*(StationTBL.Lon+121),\n",
    "                                            StationTBL.Lat<51,\n",
    "                                            StationTBL.Include==True,ObsTBL.Include==True,\n",
    "                                            ObsTBL.PAR>=0)).group_by(StationTBL.ID)"
   ]
  },
  {
   "cell_type": "code",
   "execution_count": 10,
   "metadata": {},
   "outputs": [],
   "source": [
    "df2=pd.DataFrame(qry2.all())\n"
   ]
  },
  {
   "cell_type": "code",
   "execution_count": 11,
   "metadata": {},
   "outputs": [],
   "source": [
    "df3=pd.DataFrame(minzQ.all())"
   ]
  },
  {
   "cell_type": "code",
   "execution_count": 12,
   "metadata": {},
   "outputs": [],
   "source": [
    "df1=pd.DataFrame(qry.all())"
   ]
  },
  {
   "cell_type": "code",
   "execution_count": 13,
   "metadata": {},
   "outputs": [
    {
     "data": {
      "text/plain": [
       "(1735, 319619, 1735)"
      ]
     },
     "execution_count": 13,
     "metadata": {},
     "output_type": "execute_result"
    }
   ],
   "source": [
    "len(df2),len(df1),len(df3)"
   ]
  },
  {
   "cell_type": "code",
   "execution_count": 14,
   "metadata": {},
   "outputs": [],
   "source": [
    "subminzQ=minzQ.subquery()\n",
    "subqry=qry.subquery()"
   ]
  },
  {
   "cell_type": "code",
   "execution_count": 15,
   "metadata": {},
   "outputs": [
    {
     "ename": "SyntaxError",
     "evalue": "invalid syntax (<ipython-input-15-a29e58daa530>, line 2)",
     "output_type": "error",
     "traceback": [
      "\u001b[0;36m  File \u001b[0;32m\"<ipython-input-15-a29e58daa530>\"\u001b[0;36m, line \u001b[0;32m2\u001b[0m\n\u001b[0;31m    ObsTBL.)\u001b[0m\n\u001b[0m           ^\u001b[0m\n\u001b[0;31mSyntaxError\u001b[0m\u001b[0;31m:\u001b[0m invalid syntax\n"
     ]
    }
   ],
   "source": [
    "sparQ=session.query(subminzQ.c.ID,subminzQ.c.minZ,subqry.c.PAR).select_from(subminzQ).join(subqry,and_(\n",
    "    ObsTBL.)"
   ]
  },
  {
   "cell_type": "code",
   "execution_count": null,
   "metadata": {},
   "outputs": [],
   "source": []
  },
  {
   "cell_type": "code",
   "execution_count": null,
   "metadata": {},
   "outputs": [],
   "source": [
    "df1=pd.DataFrame(qry.all())\n",
    "df1['dtUTC']=[dt.datetime(int(y),int(m),int(d))+dt.timedelta(hours=h) for y,m,d,h in zip(df1['Year'],df1['Month'],df1['Day'],df1['Hour'])]\n"
   ]
  },
  {
   "cell_type": "code",
   "execution_count": null,
   "metadata": {},
   "outputs": [],
   "source": [
    "len(df1)"
   ]
  },
  {
   "cell_type": "code",
   "execution_count": null,
   "metadata": {},
   "outputs": [],
   "source": [
    "with nc.Dataset('/ocean/eolson/MEOPAR/NEMO-forcing/grid/mesh_mask201702_noLPE.nc') as mesh:\n",
    "    tmask=np.copy(mesh.variables['tmask'][0,:,:,:])\n",
    "    navlat=np.copy(mesh.variables['nav_lat'][:,:])\n",
    "    navlon=np.copy(mesh.variables['nav_lon'][:,:])"
   ]
  },
  {
   "cell_type": "code",
   "execution_count": null,
   "metadata": {},
   "outputs": [],
   "source": [
    "fig,ax=plt.subplots(1,1,figsize=(5,5))\n",
    "ax.plot(df1['Lon'],df1['Lat'],'k.')\n",
    "ax.contour(navlon,navlat,tmask[0,:,:],(0.5,))"
   ]
  },
  {
   "cell_type": "code",
   "execution_count": null,
   "metadata": {},
   "outputs": [],
   "source": [
    "df1.head()"
   ]
  },
  {
   "cell_type": "code",
   "execution_count": null,
   "metadata": {},
   "outputs": [],
   "source": [
    "df1.tail()"
   ]
  },
  {
   "cell_type": "code",
   "execution_count": null,
   "metadata": {},
   "outputs": [],
   "source": [
    "flen=1\n",
    "namfmt='nowcast'\n",
    "#varmap={'N':'nitrate','Si':'silicon','Ammonium':'ammonium'}\n",
    "filemap={'PAR':'carp_T','vosaline':'grid_T','votemper':'grid_T'}\n",
    "#gridmap={'nitrate':'tmask','silicon':'tmask','ammonium':'tmask'}\n",
    "fdict={'carp_T':1,'grid_T':1}\n",
    "PATH='/results/SalishSea/nowcast-green.201812/'\n",
    "saveloc='/data/eolson/results/MEOPAR/PARcalcs/PARCTD_HC201905.pkl'\n",
    "if os.path.isfile(saveloc):\n",
    "    data=pickle.load(open( saveloc, 'rb' ) )\n",
    "else:\n",
    "    data=et.matchData(df1,filemap,fdict,dt.datetime(2015,1,1),dt.datetime(2018,1,1),namfmt,PATH,flen)\n",
    "    data.drop(data[data.k<0].index,inplace=True)\n",
    "    data['mod_PAR']=data['mod_PAR']*r_uE_W # convert mod_PAR to muE/m2/s\n",
    "    with open(saveloc,'wb') as f:\n",
    "        pickle.dump(data,f)\n"
   ]
  },
  {
   "cell_type": "code",
   "execution_count": null,
   "metadata": {},
   "outputs": [],
   "source": [
    "basedir='/data/eolson/results/MEOPAR/PARcalcs/'\n",
    "dbname='DFOCTDwithModel.sqlite'\n",
    "datelims=()\n",
    "engine = create_engine('sqlite:///' + basedir + dbname, echo = False)\n",
    "Base = automap_base()\n",
    "# reflect the tables in salish.sqlite:\n",
    "Base.prepare(engine, reflect=True)\n",
    "# mapped classes have been created\n",
    "# existing tables:\n",
    "StationTBL=Base.classes.StationTBL\n",
    "ObsTBL=Base.classes.ObsTBL\n",
    "CalcsTBL=Base.classes.CalcsTBL\n",
    "session = create_session(bind = engine, autocommit = False, autoflush = True)\n"
   ]
  },
  {
   "cell_type": "code",
   "execution_count": null,
   "metadata": {},
   "outputs": [],
   "source": [
    "fig,ax=plt.subplots(1,1,figsize=(5,5))\n",
    "ax.plot(data['PAR'],data['mod_PAR'],'k.',ms=1)"
   ]
  },
  {
   "cell_type": "code",
   "execution_count": null,
   "metadata": {},
   "outputs": [],
   "source": [
    "ii=(data['mod_PAR']>=0)&(data['PAR']>=0)\n",
    "fig,ax=plt.subplots(1,1,figsize=(5,5))\n",
    "xx=data.loc[ii,['mod_PAR']].values\n",
    "yy=data.loc[ii,['PAR']].values\n",
    "ax.hist2d(xx[:,0],yy[:,0],bins=100,cmin=0,cmax=50);"
   ]
  },
  {
   "cell_type": "code",
   "execution_count": null,
   "metadata": {},
   "outputs": [],
   "source": [
    "ii=(data['mod_PAR']>=0)&(data['PAR']>=0)\n",
    "fig,ax=plt.subplots(1,1,figsize=(5,5))\n",
    "yy=data.loc[ii,['mod_PAR']].values\n",
    "xx=data.loc[ii,['PAR']].values\n",
    "_,_,_,m=ax.hist2d(xx[:,0],yy[:,0],bins=100,norm=mpl.colors.LogNorm(), cmap=mpl.cm.gist_rainbow_r);\n",
    "fig.colorbar(m,ax=ax)\n",
    "ax.set_xlim(0,5000)\n",
    "ax.set_ylim(0,5000)\n",
    "ax.set_aspect(1)\n",
    "ax.plot((0,5000),(0,5000),'k-')\n",
    "ax.set_xlabel('obs')\n",
    "ax.set_ylabel('model')\n",
    "ax.set_title('PAR Direct Comparison: HC201812')"
   ]
  },
  {
   "cell_type": "code",
   "execution_count": null,
   "metadata": {},
   "outputs": [],
   "source": [
    "ii=(data['mod_PAR']>=0)&(data['PAR']>=0)\n",
    "fig,ax=plt.subplots(1,1,figsize=(5,5))\n",
    "yy=data.loc[ii,['mod_PAR']].values\n",
    "xx=data.loc[ii,['PAR']].values\n",
    "_,_,_,m=ax.hist2d(np.log10(xx[:,0]+1),np.log10(yy[:,0]+1),bins=100,norm=mpl.colors.LogNorm(), cmap=mpl.cm.gist_rainbow_r);\n",
    "fig.colorbar(m,ax=ax)\n",
    "ax.set_xlim(0,4)\n",
    "ax.set_ylim(0,4)\n",
    "ax.set_aspect(1)\n",
    "ax.plot((0,4),(0,4),'k-')\n",
    "ax.set_xlabel('obs')\n",
    "ax.set_ylabel('model')\n",
    "ax.set_title('log10 PAR Direct Comparison: HC201812')"
   ]
  },
  {
   "cell_type": "code",
   "execution_count": null,
   "metadata": {},
   "outputs": [],
   "source": [
    "data.keys()"
   ]
  },
  {
   "cell_type": "code",
   "execution_count": null,
   "metadata": {},
   "outputs": [],
   "source": [
    "stas=data.groupby(by=['Year','Month','Day','Lat','Lon'])"
   ]
  },
  {
   "cell_type": "code",
   "execution_count": null,
   "metadata": {},
   "outputs": [],
   "source": [
    "stas"
   ]
  },
  {
   "cell_type": "code",
   "execution_count": null,
   "metadata": {},
   "outputs": [],
   "source": [
    "with nc.Dataset('/results/SalishSea/nowcast-green.201812/01jan16/SalishSea_1h_20160101_20160101_ptrc_T.nc') as ftemp:\n",
    "    deptht=ftemp.variables['deptht'][:]"
   ]
  },
  {
   "cell_type": "code",
   "execution_count": null,
   "metadata": {},
   "outputs": [],
   "source": [
    "deptht[5]"
   ]
  },
  {
   "cell_type": "code",
   "execution_count": null,
   "metadata": {},
   "outputs": [],
   "source": [
    "data['mod_Z']=[deptht[ii] for ii in data['k']]"
   ]
  },
  {
   "cell_type": "code",
   "execution_count": null,
   "metadata": {},
   "outputs": [],
   "source": [
    "fig,ax=plt.subplots(1,1,figsize=(5,5))\n",
    "ax.plot(data['Z'],data['mod_Z'],'k.',ms=1)\n",
    "ax.set_xlabel('Obs')\n",
    "ax.set_ylabel('Model')"
   ]
  },
  {
   "cell_type": "code",
   "execution_count": null,
   "metadata": {},
   "outputs": [],
   "source": [
    "ii=(data['mod_PAR']>=0)&(data['PAR']>=0)\n",
    "ik=data.k<10\n",
    "fig,ax=plt.subplots(1,1,figsize=(5,5))\n",
    "yy=data.loc[ii&ik,['mod_PAR']].values\n",
    "xx=data.loc[ii&ik,['PAR']].values\n",
    "yz=data.loc[ii&ik,['mod_Z']].values\n",
    "xz=data.loc[ii&ik,['Z']].values\n",
    "_,_,_,m=ax.hist2d(np.log10(xx[:,0]+1),np.log10(yy[:,0]+1),bins=100,norm=mpl.colors.LogNorm(), cmap=mpl.cm.gist_rainbow_r);\n",
    "fig.colorbar(m,ax=ax)\n",
    "ax.set_xlim(0,4)\n",
    "ax.set_ylim(0,4)\n",
    "ax.set_aspect(1)\n",
    "ax.plot((0,4),(0,4),'k-')\n",
    "ax.set_xlabel('obs')\n",
    "ax.set_ylabel('model')\n",
    "ax.set_title('PAR Direct Comparison Upper 10m: HC201812')"
   ]
  },
  {
   "cell_type": "code",
   "execution_count": null,
   "metadata": {},
   "outputs": [],
   "source": [
    "ii=(data['mod_PAR']>=0)&(data['PAR']>=0)\n",
    "ik=data.k<10\n",
    "fig,ax=plt.subplots(1,1,figsize=(5,5))\n",
    "yy=data.loc[ii&ik,['mod_PAR']].values\n",
    "xx=data.loc[ii&ik,['PAR']].values\n",
    "yz=data.loc[ii&ik,['mod_Z']].values\n",
    "xz=data.loc[ii&ik,['Z']].values\n",
    "_,_,_,m=ax.hist2d(np.log10(xx[:,0]+1),np.log10(yy[:,0]+1),bins=100,norm=mpl.colors.LogNorm(), cmap=mpl.cm.gist_rainbow_r);\n",
    "fig.colorbar(m,ax=ax)\n",
    "ax.set_xlim(0,4)\n",
    "ax.set_ylim(0,4)\n",
    "ax.set_aspect(1)\n",
    "ax.plot((0,4),(0,4),'k-')\n",
    "ax.set_xlabel('obs')\n",
    "ax.set_ylabel('model')\n",
    "ax.set_title('PAR Bias vs depth: HC201812')"
   ]
  },
  {
   "cell_type": "code",
   "execution_count": null,
   "metadata": {},
   "outputs": [],
   "source": [
    "plt.hist(yz-xz)\n",
    "plt.title('hist: model z - obs z')"
   ]
  },
  {
   "cell_type": "code",
   "execution_count": null,
   "metadata": {},
   "outputs": [],
   "source": [
    "fig,ax=plt.subplots(1,1,figsize=(5,5))\n",
    "ax.plot(yz-xz,np.log10(yy[:,0]+1)-np.log10(xx[:,0]+1),'k.',ms=1)\n",
    "ax.set_xlabel('Model Z - Obs Z')\n",
    "ax.set_ylabel('log10(model PAR +1)-log10(obs PAR +1)')"
   ]
  },
  {
   "cell_type": "code",
   "execution_count": null,
   "metadata": {},
   "outputs": [],
   "source": [
    "ii=(data['mod_PAR']>=0)&(data['PAR']>=0)\n",
    "ik=data.k<2\n",
    "fig,ax=plt.subplots(1,1,figsize=(5,5))\n",
    "yy=data.loc[ii&ik,['mod_PAR']].values\n",
    "xx=data.loc[ii&ik,['PAR']].values\n",
    "yz=data.loc[ii&ik,['mod_Z']].values\n",
    "xz=data.loc[ii&ik,['Z']].values\n",
    "_,_,_,m=ax.hist2d(np.log10(xx[:,0]+1),np.log10(yy[:,0]+1),bins=100,norm=mpl.colors.LogNorm(), cmap=mpl.cm.gist_rainbow_r);\n",
    "fig.colorbar(m,ax=ax)\n",
    "ax.set_xlim(0,4)\n",
    "ax.set_ylim(0,4)\n",
    "ax.set_aspect(1)\n",
    "ax.plot((0,4),(0,4),'k-')\n",
    "ax.set_xlabel('obs')\n",
    "ax.set_ylabel('model')\n",
    "ax.set_title('PAR Direct Comparison Upper 2m: HC201812')"
   ]
  },
  {
   "cell_type": "code",
   "execution_count": null,
   "metadata": {},
   "outputs": [],
   "source": [
    "data.keys()"
   ]
  },
  {
   "cell_type": "code",
   "execution_count": null,
   "metadata": {},
   "outputs": [],
   "source": [
    "temp=data.loc[(data['PAR']>0)&(data['mod_PAR']==0)&(data['Z']<3),['dtUTC','Lat','Lon','Z','mod_Z','Hour']]"
   ]
  },
  {
   "cell_type": "code",
   "execution_count": null,
   "metadata": {},
   "outputs": [],
   "source": [
    "temp"
   ]
  },
  {
   "cell_type": "code",
   "execution_count": null,
   "metadata": {},
   "outputs": [],
   "source": [
    "fig,ax=plt.subplots(1,1,figsize=(16,1))\n",
    "ax.plot(temp['dtUTC'],temp['Z'],'k.')"
   ]
  },
  {
   "cell_type": "code",
   "execution_count": null,
   "metadata": {},
   "outputs": [],
   "source": [
    "plt.hist(temp['Hour'])"
   ]
  },
  {
   "cell_type": "code",
   "execution_count": null,
   "metadata": {},
   "outputs": [],
   "source": [
    "with nc.Dataset('/ocean/eolson/MEOPAR/NEMO-forcing/grid/mesh_mask201702_noLPE.nc') as mesh:\n",
    "    tmask=np.copy(mesh.variables['tmask'][0,:,:,:])\n",
    "    navlat=np.copy(mesh.variables['nav_lat'][:,:])\n",
    "    navlon=np.copy(mesh.variables['nav_lon'][:,:])"
   ]
  },
  {
   "cell_type": "code",
   "execution_count": null,
   "metadata": {},
   "outputs": [],
   "source": [
    "fig,ax=plt.subplots(2,2,figsize=(12,12))\n",
    "ax=ax.flatten()\n",
    "for yr in range(2015,2018):\n",
    "    dyr=data.loc[(data['Year']==yr)&(~np.isnan(data['Lon']))&(~np.isnan(data['Lat']))&~np.isnan(data['PAR'])&(data['mod_PAR']>=0)&(data['Z']<2)]\n",
    "    ax[yr-2015].contour(navlon,navlat,tmask[0,:,:],(0.5,))\n",
    "    ax[yr-2015].set_title(str(yr)+' log model -log obs Surf PAR')\n",
    "    s,xb,yb,nb=spst.binned_statistic_2d(dyr['Lon'],dyr['Lat'],\n",
    "                np.log10(dyr['mod_PAR']+1)-np.log10(dyr['PAR']+1), \n",
    "                statistic='mean', bins=20)\n",
    "    m=ax[yr-2015].pcolormesh(xb,yb,s.T,cmap=cmocean.cm.balance,vmin=-1,vmax=1,shading='flat')\n",
    "    plt.colorbar(m,ax=ax[yr-2015])\n",
    "dyr=data.loc[(~np.isnan(data['Lon']))&(~np.isnan(data['Lat']))&~np.isnan(data['PAR'])&~np.isnan(data['mod_PAR'])&(data['Z']<2)]\n",
    "yr=yr+1\n",
    "ax[yr-2015].contour(navlon,navlat,tmask[0,:,:],(0.5,))\n",
    "ax[yr-2015].set_title('All yrs model - obs Surf PAR')\n",
    "s,xb,yb,nb=spst.binned_statistic_2d(dyr['Lon'],dyr['Lat'],\n",
    "           np.log10(dyr['mod_PAR']+1)-np.log10(dyr['PAR']+1), \n",
    "            statistic='mean', bins=20)\n",
    "m=ax[yr-2015].pcolormesh(xb,yb,s.T,cmap=cmocean.cm.balance,vmin=-1,vmax=1,shading='flat')\n",
    "plt.colorbar(m,ax=ax[yr-2015])"
   ]
  },
  {
   "cell_type": "code",
   "execution_count": null,
   "metadata": {},
   "outputs": [],
   "source": [
    "fig,ax=plt.subplots(2,2,figsize=(12,12))\n",
    "ax=ax.flatten()\n",
    "for yr in range(2015,2018):\n",
    "    dyr=data.loc[(data['Year']==yr)&(~np.isnan(data['Lon']))&(~np.isnan(data['Lat']))&~np.isnan(data['PAR'])&(data['mod_PAR']>=0)&(data['Z']<2)]\n",
    "    ax[yr-2015].contour(navlon,navlat,tmask[0,:,:],(0.5,))\n",
    "    ax[yr-2015].set_title(str(yr)+' model - obs Surf PAR')\n",
    "    s,xb,yb,nb=spst.binned_statistic_2d(dyr['Lon'],dyr['Lat'],\n",
    "               dyr['mod_PAR']-dyr['PAR'], \n",
    "                statistic='mean', bins=20)\n",
    "    m=ax[yr-2015].pcolormesh(xb,yb,s.T,cmap=cmocean.cm.balance,vmin=-1000,vmax=1000,shading='flat')\n",
    "    plt.colorbar(m,ax=ax[yr-2015])\n",
    "dyr=data.loc[(~np.isnan(data['Lon']))&(~np.isnan(data['Lat']))&~np.isnan(data['PAR'])&~np.isnan(data['mod_PAR'])&(data['Z']<2)]\n",
    "yr=yr+1\n",
    "ax[yr-2015].contour(navlon,navlat,tmask[0,:,:],(0.5,))\n",
    "ax[yr-2015].set_title('All yrs model - obs Surf PAR')\n",
    "s,xb,yb,nb=spst.binned_statistic_2d(dyr['Lon'],dyr['Lat'],\n",
    "           dyr['mod_PAR']-dyr['PAR'], \n",
    "            statistic='mean', bins=20)\n",
    "m=ax[yr-2015].pcolormesh(xb,yb,s.T,cmap=cmocean.cm.balance,vmin=-1000,vmax=1000,shading='flat')\n",
    "plt.colorbar(m,ax=ax[yr-2015])"
   ]
  },
  {
   "cell_type": "code",
   "execution_count": null,
   "metadata": {},
   "outputs": [],
   "source": [
    "fig,ax=plt.subplots(2,2,figsize=(12,12))\n",
    "print('Where model or obs PAR>100 muE/m2/s')\n",
    "ax=ax.flatten()\n",
    "for yr in range(2015,2018):\n",
    "    dyr=data.loc[(data['Year']==yr)&(~np.isnan(data['Lon']))&(~np.isnan(data['Lat']))&((data['PAR']>=100)|(data['mod_PAR']>=100))&(data['Z']<2)]\n",
    "    ax[yr-2015].contour(navlon,navlat,tmask[0,:,:],(0.5,))\n",
    "    ax[yr-2015].set_title(str(yr)+' model - obs Surf PAR')\n",
    "    s,xb,yb,nb=spst.binned_statistic_2d(dyr['Lon'],dyr['Lat'],\n",
    "                dyr['mod_PAR']-dyr['PAR'], \n",
    "                statistic='mean', bins=20)\n",
    "    m=ax[yr-2015].pcolormesh(xb,yb,s.T,cmap=cmocean.cm.balance,vmin=-1000,vmax=1000,shading='flat')\n",
    "    plt.colorbar(m,ax=ax[yr-2015])\n",
    "dyr=data.loc[(~np.isnan(data['Lon']))&(~np.isnan(data['Lat']))&((data['PAR']>=100)|(data['mod_PAR']>=100))&(data['Z']<2)]\n",
    "yr=yr+1\n",
    "ax[yr-2015].contour(navlon,navlat,tmask[0,:,:],(0.5,))\n",
    "ax[yr-2015].set_title('All yrs model - obs Surf PAR')\n",
    "s,xb,yb,nb=spst.binned_statistic_2d(dyr['Lon'],dyr['Lat'],\n",
    "           dyr['mod_PAR']-dyr['PAR'], \n",
    "            statistic='mean', bins=20)\n",
    "m=ax[yr-2015].pcolormesh(xb,yb,s.T,cmap=cmocean.cm.balance,vmin=-1000,vmax=1000,shading='flat')\n",
    "plt.colorbar(m,ax=ax[yr-2015])"
   ]
  },
  {
   "cell_type": "code",
   "execution_count": null,
   "metadata": {},
   "outputs": [],
   "source": [
    "fig,ax=plt.subplots(2,2,figsize=(12,12))\n",
    "print('Where model or obs PAR>100 muE/m2/s')\n",
    "ax=ax.flatten()\n",
    "for yr in range(2015,2018):\n",
    "    dyr=data.loc[(data['Year']==yr)&(~np.isnan(data['Lon']))&(~np.isnan(data['Lat']))&((data['PAR']>=100)|(data['mod_PAR']>=100))&(data['Z']<6)&(data['Z']>4)]\n",
    "    ax[yr-2015].contour(navlon,navlat,tmask[0,:,:],(0.5,))\n",
    "    ax[yr-2015].set_title(str(yr)+' model - obs 4-6m PAR')\n",
    "    s,xb,yb,nb=spst.binned_statistic_2d(dyr['Lon'],dyr['Lat'],\n",
    "                dyr['mod_PAR']-dyr['PAR'], \n",
    "                statistic='mean', bins=20)\n",
    "    m=ax[yr-2015].pcolormesh(xb,yb,s.T,cmap=cmocean.cm.balance,vmin=-1000,vmax=1000,shading='flat')\n",
    "    plt.colorbar(m,ax=ax[yr-2015])\n",
    "dyr=data.loc[(~np.isnan(data['Lon']))&(~np.isnan(data['Lat']))&((data['PAR']>=100)|(data['mod_PAR']>=100))&(data['Z']<6)&(data['Z']>4)]\n",
    "yr=yr+1\n",
    "ax[yr-2015].contour(navlon,navlat,tmask[0,:,:],(0.5,))\n",
    "ax[yr-2015].set_title('All yrs model - obs 4-6m PAR')\n",
    "s,xb,yb,nb=spst.binned_statistic_2d(dyr['Lon'],dyr['Lat'],\n",
    "           dyr['mod_PAR']-dyr['PAR'], \n",
    "            statistic='mean', bins=20)\n",
    "m=ax[yr-2015].pcolormesh(xb,yb,s.T,cmap=cmocean.cm.balance,vmin=-1000,vmax=1000,shading='flat')\n",
    "plt.colorbar(m,ax=ax[yr-2015])"
   ]
  },
  {
   "cell_type": "code",
   "execution_count": null,
   "metadata": {},
   "outputs": [],
   "source": [
    "np.max(data['mod_PAR'])"
   ]
  },
  {
   "cell_type": "code",
   "execution_count": null,
   "metadata": {},
   "outputs": [],
   "source": [
    "1/0.2174"
   ]
  },
  {
   "cell_type": "code",
   "execution_count": null,
   "metadata": {},
   "outputs": [],
   "source": [
    "data.keys()"
   ]
  },
  {
   "cell_type": "code",
   "execution_count": null,
   "metadata": {},
   "outputs": [],
   "source": [
    "data['staFile2']=[ii[49:] for ii in data['staFile']]\n",
    "data['obsFile2']=[ii[49:] for ii in data['obsFile']]"
   ]
  },
  {
   "cell_type": "code",
   "execution_count": null,
   "metadata": {},
   "outputs": [],
   "source": [
    "data2=data.loc[(data.mod_PAR-data.PAR<-1000)&(data.Year==2017),['dtUTC','Lat','Lon','mod_PAR','PAR','staFile2','obsFile2']]"
   ]
  },
  {
   "cell_type": "code",
   "execution_count": null,
   "metadata": {},
   "outputs": [],
   "source": [
    "fig,ax=plt.subplots(1,1,figsize=(5,5))\n",
    "ax.contour(navlon,navlat,tmask[0,:,:],(0.5,))\n",
    "ax.plot(data2.Lon,data2.Lat,'r*')"
   ]
  },
  {
   "cell_type": "code",
   "execution_count": null,
   "metadata": {},
   "outputs": [],
   "source": [
    "data2.loc[(data2.Lat<49.8)&(data2.Lat>49.3)&(data2.Lon<-124.2)]"
   ]
  },
  {
   "cell_type": "code",
   "execution_count": null,
   "metadata": {},
   "outputs": [],
   "source": []
  }
 ],
 "metadata": {
  "kernelspec": {
   "display_name": "Python (py38_ct)",
   "language": "python",
   "name": "py38_ct"
  },
  "language_info": {
   "codemirror_mode": {
    "name": "ipython",
    "version": 3
   },
   "file_extension": ".py",
   "mimetype": "text/x-python",
   "name": "python",
   "nbconvert_exporter": "python",
   "pygments_lexer": "ipython3",
   "version": "3.8.2"
  }
 },
 "nbformat": 4,
 "nbformat_minor": 2
}
