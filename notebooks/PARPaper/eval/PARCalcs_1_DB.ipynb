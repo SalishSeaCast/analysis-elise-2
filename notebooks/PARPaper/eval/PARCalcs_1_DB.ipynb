{
 "cells": [
  {
   "cell_type": "code",
   "execution_count": 58,
   "metadata": {},
   "outputs": [],
   "source": [
    "import sqlalchemy\n",
    "from sqlalchemy import (create_engine, Column, String, Integer, Float, MetaData, \n",
    "                        Table, type_coerce, ForeignKey, case)\n",
    "from sqlalchemy.orm import mapper, create_session, relationship, aliased, Session\n",
    "from sqlalchemy.ext.declarative import declarative_base\n",
    "from sqlalchemy import case\n",
    "import numpy as np\n",
    "from sqlalchemy.ext.automap import automap_base\n",
    "import matplotlib.pyplot as plt\n",
    "import sqlalchemy.types as types\n",
    "from sqlalchemy.sql import and_, or_, not_, func\n",
    "from sqlalchemy.sql import select\n",
    "import os\n",
    "from os.path import isfile\n",
    "import pandas as pd\n",
    "import netCDF4 as nc\n",
    "import datetime as dt\n",
    "from salishsea_tools import evaltools as et, viz_tools\n",
    "import datetime\n",
    "import glob\n",
    "import gsw\n",
    "import pickle\n",
    "import matplotlib as mpl\n",
    "\n",
    "import sys\n",
    "sys.path.append('../')\n",
    "import PARfuns as pf\n",
    "\n",
    "import scipy.optimize as scopt\n",
    "from sqlalchemy.types import DateTime\n",
    "\n",
    "%matplotlib inline"
   ]
  },
  {
   "cell_type": "code",
   "execution_count": 2,
   "metadata": {},
   "outputs": [],
   "source": [
    "basedir='/data/eolson/results/MEOPAR/PARcalcs/'\n",
    "dbname='PARCalcs.sqlite'\n",
    "engine = create_engine('sqlite:///' + basedir + dbname, echo = False)\n",
    "connection=engine.connect()\n",
    "# rename tables ( do 1x)\n",
    "#connection.execute('ALTER TABLE StationTBL RENAME TO DFO_StationTBL;')\n",
    "#connection.execute('ALTER TABLE ObsTBL RENAME TO DFO_ObsTBL;')\n",
    "#connection.execute('ALTER TABLE CalcsTBL RENAME TO DFO_CalcsTBL;')"
   ]
  },
  {
   "cell_type": "code",
   "execution_count": 3,
   "metadata": {},
   "outputs": [],
   "source": [
    "Base = automap_base()\n",
    "# reflect the tables in salish.sqlite:\n",
    "Base.prepare(engine, reflect=True)\n",
    "# mapped classes have been created\n",
    "# existing tables:\n",
    "StationTBL=Base.classes.DFO_StationTBL\n",
    "ObsTBL=Base.classes.DFO_ObsTBL\n",
    "CalcsTBL=Base.classes.DFO_CalcsTBL\n",
    "session = create_session(bind = engine, autocommit = False, autoflush = True)\n"
   ]
  },
  {
   "cell_type": "code",
   "execution_count": 4,
   "metadata": {},
   "outputs": [],
   "source": [
    "PAR=case([(ObsTBL.PAR!=None, ObsTBL.PAR)], else_=\n",
    "             case([(ObsTBL.PAR1!=None, ObsTBL.PAR1)], else_=ObsTBL.PAR_1))"
   ]
  },
  {
   "cell_type": "code",
   "execution_count": null,
   "metadata": {},
   "outputs": [],
   "source": [
    "SA=case([(CalcsTBL.Salinity_T0_C0_SA!=None, CalcsTBL.Salinity_T0_C0_SA)], else_=\n",
    "         case([(CalcsTBL.Salinity_T1_C1_SA!=None, CalcsTBL.Salinity_T1_C1_SA)], else_=\n",
    "         case([(CalcsTBL.Salinity_SA!=None, CalcsTBL.Salinity_SA)], else_= None)))\n",
    "CT=case([(CalcsTBL.Temperature_Primary_CT!=None, CalcsTBL.Temperature_Primary_CT)], else_=\n",
    "         case([(CalcsTBL.Temperature_Secondary_CT!=None, CalcsTBL.Temperature_Secondary_CT)], else_=CalcsTBL.Temperature_CT))\n",
    "ZD=case([(ObsTBL.Depth!=None,ObsTBL.Depth)], else_= CalcsTBL.Z)"
   ]
  },
  {
   "cell_type": "code",
   "execution_count": 54,
   "metadata": {},
   "outputs": [],
   "source": [
    "Fl=case([(ObsTBL.Fluorescence_URU_Seapoint!=None,ObsTBL.Fluorescence_URU_Seapoint)], \n",
    "        else_= ObsTBL.Fluorescence_URU_Wetlabs)"
   ]
  },
  {
   "cell_type": "code",
   "execution_count": null,
   "metadata": {},
   "outputs": [],
   "source": [
    "# 1) get list of stations with PAR data; limit to PAR>=1 because data only saved to 1 decimal place\n",
    "# 2) for each station, return PAR data sorted by depth\n",
    "# 3) iterate through 2, saving previous values and calculate k and mean quantities; enter results in new table\n",
    "#     # beam attenuation from Transmissivity? Cannot verify wavelength but path length always 0.25 or 0.00. Assume really 0.25 always\n",
    "\n",
    "#things to accumulate: min PAR at level, max PAR at Station"
   ]
  },
  {
   "cell_type": "code",
   "execution_count": 47,
   "metadata": {},
   "outputs": [],
   "source": [
    "#1)\n",
    "qst0=session.query(StationTBL.ID.label('StationTBLID'),ZD.label('Z'),ObsTBL.PAR).\\\n",
    "        select_from(StationTBL).join(ObsTBL,ObsTBL.StationTBLID==StationTBL.ID).\\\n",
    "        join(CalcsTBL,CalcsTBL.ObsTBLID==ObsTBL.ID).filter(and_(StationTBL.Lat>47-3/2.5*(StationTBL.Lon+123.5),\n",
    "                                            StationTBL.Lat<47-3/2.5*(StationTBL.Lon+121),\n",
    "                                            StationTBL.Lat<51,\n",
    "                                            StationTBL.Include==True,ObsTBL.Include==True,\n",
    "                                            ObsTBL.PAR>=1)).group_by(StationTBL.ID,ZD).subquery()"
   ]
  },
  {
   "cell_type": "code",
   "execution_count": 48,
   "metadata": {},
   "outputs": [],
   "source": [
    "qst1=session.query(qst0.c.StationTBLID,qst0.c.Z,func.count(qst0.c.PAR).label('PARCount')).\\\n",
    "                group_by(qst0.c.StationTBLID,qst0.c.Z).subquery()\n",
    "qst2=session.query(qst1.c.StationTBLID).filter(qst1.c.PARCount>1)\n",
    "if len(qst2.all())>0:\n",
    "    print('There are multiple PAR measurements per depth at these stations:')\n",
    "    print(qst2.all())"
   ]
  },
  {
   "cell_type": "code",
   "execution_count": 49,
   "metadata": {},
   "outputs": [],
   "source": [
    "#generate list of stations to process:\n",
    "stalist=[el[0] for el in session.query(qst0.c.StationTBLID).distinct()]"
   ]
  },
  {
   "cell_type": "code",
   "execution_count": 55,
   "metadata": {},
   "outputs": [],
   "source": [
    "ista=stalist[0]\n",
    "profile=pd.DataFrame(session.query(ObsTBL.ID.label('OID'),ZD.label('Z'),ObsTBL.PAR,SA.label('SA'),\n",
    "                                   CT.label('CT'),Fl.label('Fluor'),ObsTBL.Transmissivity.label('Xmiss')).\\\n",
    "        select_from(StationTBL).join(ObsTBL,ObsTBL.StationTBLID==StationTBL.ID).\\\n",
    "        join(CalcsTBL,CalcsTBL.ObsTBLID==ObsTBL.ID).filter(and_(StationTBL.ID==ista,ZD>=0,ObsTBL.PAR>1)).\\\n",
    "                                                           order_by(ZD).all())"
   ]
  },
  {
   "cell_type": "code",
   "execution_count": 56,
   "metadata": {},
   "outputs": [
    {
     "data": {
      "text/html": [
       "<div>\n",
       "<style scoped>\n",
       "    .dataframe tbody tr th:only-of-type {\n",
       "        vertical-align: middle;\n",
       "    }\n",
       "\n",
       "    .dataframe tbody tr th {\n",
       "        vertical-align: top;\n",
       "    }\n",
       "\n",
       "    .dataframe thead th {\n",
       "        text-align: right;\n",
       "    }\n",
       "</style>\n",
       "<table border=\"1\" class=\"dataframe\">\n",
       "  <thead>\n",
       "    <tr style=\"text-align: right;\">\n",
       "      <th></th>\n",
       "      <th>OID</th>\n",
       "      <th>Z</th>\n",
       "      <th>PAR</th>\n",
       "      <th>SA</th>\n",
       "      <th>CT</th>\n",
       "      <th>Fluor</th>\n",
       "      <th>Xmiss</th>\n",
       "    </tr>\n",
       "  </thead>\n",
       "  <tbody>\n",
       "    <tr>\n",
       "      <th>0</th>\n",
       "      <td>28925</td>\n",
       "      <td>1.983092</td>\n",
       "      <td>43.9</td>\n",
       "      <td>28.830853</td>\n",
       "      <td>8.556241</td>\n",
       "      <td>24.087</td>\n",
       "      <td>9.8</td>\n",
       "    </tr>\n",
       "    <tr>\n",
       "      <th>1</th>\n",
       "      <td>28926</td>\n",
       "      <td>2.974630</td>\n",
       "      <td>18.2</td>\n",
       "      <td>29.377437</td>\n",
       "      <td>8.268308</td>\n",
       "      <td>22.373</td>\n",
       "      <td>9.6</td>\n",
       "    </tr>\n",
       "    <tr>\n",
       "      <th>2</th>\n",
       "      <td>28927</td>\n",
       "      <td>3.966164</td>\n",
       "      <td>7.2</td>\n",
       "      <td>29.903118</td>\n",
       "      <td>7.810667</td>\n",
       "      <td>9.840</td>\n",
       "      <td>12.0</td>\n",
       "    </tr>\n",
       "    <tr>\n",
       "      <th>3</th>\n",
       "      <td>28928</td>\n",
       "      <td>4.957693</td>\n",
       "      <td>5.4</td>\n",
       "      <td>29.992099</td>\n",
       "      <td>7.640720</td>\n",
       "      <td>6.347</td>\n",
       "      <td>20.1</td>\n",
       "    </tr>\n",
       "    <tr>\n",
       "      <th>4</th>\n",
       "      <td>28929</td>\n",
       "      <td>5.949217</td>\n",
       "      <td>3.8</td>\n",
       "      <td>30.017072</td>\n",
       "      <td>7.589757</td>\n",
       "      <td>5.531</td>\n",
       "      <td>48.3</td>\n",
       "    </tr>\n",
       "    <tr>\n",
       "      <th>5</th>\n",
       "      <td>28930</td>\n",
       "      <td>6.940737</td>\n",
       "      <td>2.9</td>\n",
       "      <td>30.024359</td>\n",
       "      <td>7.570646</td>\n",
       "      <td>2.621</td>\n",
       "      <td>58.9</td>\n",
       "    </tr>\n",
       "    <tr>\n",
       "      <th>6</th>\n",
       "      <td>28931</td>\n",
       "      <td>7.932251</td>\n",
       "      <td>2.3</td>\n",
       "      <td>30.035465</td>\n",
       "      <td>7.562550</td>\n",
       "      <td>2.580</td>\n",
       "      <td>61.6</td>\n",
       "    </tr>\n",
       "    <tr>\n",
       "      <th>7</th>\n",
       "      <td>28932</td>\n",
       "      <td>8.923761</td>\n",
       "      <td>1.9</td>\n",
       "      <td>30.041748</td>\n",
       "      <td>7.564384</td>\n",
       "      <td>1.887</td>\n",
       "      <td>62.3</td>\n",
       "    </tr>\n",
       "    <tr>\n",
       "      <th>8</th>\n",
       "      <td>28933</td>\n",
       "      <td>9.915266</td>\n",
       "      <td>1.6</td>\n",
       "      <td>30.048332</td>\n",
       "      <td>7.559674</td>\n",
       "      <td>0.986</td>\n",
       "      <td>62.3</td>\n",
       "    </tr>\n",
       "    <tr>\n",
       "      <th>9</th>\n",
       "      <td>28934</td>\n",
       "      <td>10.906766</td>\n",
       "      <td>1.4</td>\n",
       "      <td>30.052039</td>\n",
       "      <td>7.558123</td>\n",
       "      <td>0.964</td>\n",
       "      <td>62.0</td>\n",
       "    </tr>\n",
       "    <tr>\n",
       "      <th>10</th>\n",
       "      <td>28935</td>\n",
       "      <td>11.898261</td>\n",
       "      <td>1.2</td>\n",
       "      <td>30.058661</td>\n",
       "      <td>7.539326</td>\n",
       "      <td>0.766</td>\n",
       "      <td>61.9</td>\n",
       "    </tr>\n",
       "  </tbody>\n",
       "</table>\n",
       "</div>"
      ],
      "text/plain": [
       "      OID          Z   PAR         SA        CT   Fluor  Xmiss\n",
       "0   28925   1.983092  43.9  28.830853  8.556241  24.087    9.8\n",
       "1   28926   2.974630  18.2  29.377437  8.268308  22.373    9.6\n",
       "2   28927   3.966164   7.2  29.903118  7.810667   9.840   12.0\n",
       "3   28928   4.957693   5.4  29.992099  7.640720   6.347   20.1\n",
       "4   28929   5.949217   3.8  30.017072  7.589757   5.531   48.3\n",
       "5   28930   6.940737   2.9  30.024359  7.570646   2.621   58.9\n",
       "6   28931   7.932251   2.3  30.035465  7.562550   2.580   61.6\n",
       "7   28932   8.923761   1.9  30.041748  7.564384   1.887   62.3\n",
       "8   28933   9.915266   1.6  30.048332  7.559674   0.986   62.3\n",
       "9   28934  10.906766   1.4  30.052039  7.558123   0.964   62.0\n",
       "10  28935  11.898261   1.2  30.058661  7.539326   0.766   61.9"
      ]
     },
     "execution_count": 56,
     "metadata": {},
     "output_type": "execute_result"
    }
   ],
   "source": [
    "profile"
   ]
  },
  {
   "cell_type": "code",
   "execution_count": 60,
   "metadata": {},
   "outputs": [],
   "source": [
    "maxPAR=np.max(profile['PAR'])"
   ]
  },
  {
   "cell_type": "code",
   "execution_count": null,
   "metadata": {},
   "outputs": [],
   "source": [
    "for i,r in profile.iterrows():\n",
    "    ic=pf.cXfromX(r['Xmiss'])\n",
    "    if i>0:\n",
    "        # some calcs:\n",
    "        mZ=.5*(r.Z+pZ)\n",
    "        mSA=.5*(r.SA+pSA)\n",
    "        mCT=.5*(r.CT+pCT)\n",
    "        mc=.5*(pc+ic)\n",
    "        dz=r.Z-pZ\n",
    "        #k=ln(I0/I)/dz\n",
    "        mk=np.log(pPAR/r.PAR)/dz\n",
    "        # append row to output dataframe here:\n",
    "    # set previous values\n",
    "    pOID=r.OID\n",
    "    pZ=r.Z\n",
    "    pSA=r.SA\n",
    "    pCT=r.CT\n",
    "    pc=ic\n",
    "    pPAR=r.PAR\n",
    "    pFl=r.Fluor"
   ]
  },
  {
   "cell_type": "code",
   "execution_count": null,
   "metadata": {},
   "outputs": [],
   "source": [
    "\n",
    "k=ln(I0/I)/dz"
   ]
  },
  {
   "cell_type": "code",
   "execution_count": null,
   "metadata": {},
   "outputs": [],
   "source": []
  },
  {
   "cell_type": "code",
   "execution_count": null,
   "metadata": {},
   "outputs": [],
   "source": []
  },
  {
   "cell_type": "code",
   "execution_count": null,
   "metadata": {},
   "outputs": [],
   "source": []
  },
  {
   "cell_type": "code",
   "execution_count": null,
   "metadata": {},
   "outputs": [],
   "source": []
  },
  {
   "cell_type": "code",
   "execution_count": null,
   "metadata": {},
   "outputs": [],
   "source": []
  },
  {
   "cell_type": "code",
   "execution_count": null,
   "metadata": {},
   "outputs": [],
   "source": []
  },
  {
   "cell_type": "code",
   "execution_count": null,
   "metadata": {},
   "outputs": [],
   "source": []
  },
  {
   "cell_type": "code",
   "execution_count": null,
   "metadata": {},
   "outputs": [],
   "source": []
  },
  {
   "cell_type": "code",
   "execution_count": null,
   "metadata": {},
   "outputs": [],
   "source": []
  },
  {
   "cell_type": "code",
   "execution_count": null,
   "metadata": {},
   "outputs": [],
   "source": []
  },
  {
   "cell_type": "code",
   "execution_count": null,
   "metadata": {},
   "outputs": [],
   "source": [
    "qry=session.query(StationTBL.ID.label('StationTBLID'),ObsTBL.ID.label('ObsTBLID'),\n",
    "                  StationTBL.StartYear.label('Year'),StationTBL.StartMonth.label('Month'),\n",
    "                StationTBL.StartDay.label('Day'),StationTBL.StartHour.label('Hour'),StationTBL.Lat,StationTBL.Lon,\n",
    "                ZD.label('Z'),PAR.label('PAR'),SA.label('SA'),CT.label('CT')).\\\n",
    "        select_from(StationTBL).join(ObsTBL,ObsTBL.StationTBLID==StationTBL.ID).\\\n",
    "        join(CalcsTBL,CalcsTBL.ObsTBLID==ObsTBL.ID).filter(and_(StationTBL.Lat>47-3/2.5*(StationTBL.Lon+123.5),\n",
    "                                            StationTBL.Lat<47-3/2.5*(StationTBL.Lon+121),\n",
    "                                            StationTBL.Lat<51,\n",
    "                                            StationTBL.Include==True,ObsTBL.Include==True,\n",
    "                                            ObsTBL.PAR>=0,\n",
    "                                            StationTBL.StartYear>=dstart.year,\n",
    "                                            or_(StationTBL.StartYear>dstart.year,StationTBL.StartMonth>=dstart.month),\n",
    "                                            StationTBL.StartYear<=dend.year,\n",
    "                                            or_(StationTBL.StartYear<dend.year,StationTBL.StartMonth<=dend.month)))"
   ]
  },
  {
   "cell_type": "code",
   "execution_count": null,
   "metadata": {},
   "outputs": [],
   "source": [
    "df1=pd.DataFrame(qry.all())"
   ]
  },
  {
   "cell_type": "code",
   "execution_count": null,
   "metadata": {},
   "outputs": [],
   "source": [
    "df1['dtUTC']=[dt.datetime(int(y),int(m),int(d))+dt.timedelta(hours=h) \\\n",
    "              for y,m,d,h in zip(df1['Year'],df1['Month'],df1['Day'],df1['Hour'])]"
   ]
  },
  {
   "cell_type": "code",
   "execution_count": null,
   "metadata": {},
   "outputs": [],
   "source": [
    "with nc.Dataset('/ocean/eolson/MEOPAR/NEMO-forcing/grid/mesh_mask201702_noLPE.nc') as mesh:\n",
    "    tmask=np.copy(mesh.variables['tmask'][0,:,:,:])\n",
    "    navlat=np.copy(mesh.variables['nav_lat'][:,:])\n",
    "    navlon=np.copy(mesh.variables['nav_lon'][:,:])"
   ]
  },
  {
   "cell_type": "code",
   "execution_count": null,
   "metadata": {},
   "outputs": [],
   "source": [
    "fig,ax=plt.subplots(1,1,figsize=(5,5))\n",
    "ax.plot(df1['Lon'],df1['Lat'],'k.')\n",
    "ax.contour(navlon,navlat,tmask[0,:,:],(0.5,))"
   ]
  },
  {
   "cell_type": "code",
   "execution_count": null,
   "metadata": {},
   "outputs": [],
   "source": [
    "df1.head()"
   ]
  },
  {
   "cell_type": "code",
   "execution_count": null,
   "metadata": {},
   "outputs": [],
   "source": [
    "df1.tail()"
   ]
  },
  {
   "cell_type": "code",
   "execution_count": null,
   "metadata": {},
   "outputs": [],
   "source": [
    "len(df1)"
   ]
  },
  {
   "cell_type": "code",
   "execution_count": null,
   "metadata": {},
   "outputs": [],
   "source": [
    "# do matches with vvl considered\n",
    "data=et.matchData(df1,filemap,fdict,dstart,dend,namfmt,PATH,flen,method='vvlBin')"
   ]
  },
  {
   "cell_type": "code",
   "execution_count": null,
   "metadata": {},
   "outputs": [],
   "source": [
    "len(data)"
   ]
  },
  {
   "cell_type": "code",
   "execution_count": null,
   "metadata": {},
   "outputs": [],
   "source": [
    "data"
   ]
  },
  {
   "cell_type": "code",
   "execution_count": null,
   "metadata": {},
   "outputs": [],
   "source": [
    "data.keys()"
   ]
  },
  {
   "cell_type": "code",
   "execution_count": null,
   "metadata": {},
   "outputs": [],
   "source": [
    "data2=data.loc[:,['StationTBLID', 'ObsTBLID','Z', 'PAR', 'SA', 'CT', 'dtUTC', 'i','j','k', 'mod_PAR', 'mod_e3t',\n",
    "       'mod_vosaline', 'mod_votemper', 'mod_diatoms', 'mod_flagellates','mod_ciliates', 'mod_Fraser_tracer']]"
   ]
  },
  {
   "cell_type": "code",
   "execution_count": null,
   "metadata": {},
   "outputs": [],
   "source": [
    "data2.to_sql(\n",
    "    runID+'_matchTBL',\n",
    "    engine,\n",
    "    if_exists='replace',\n",
    "    index=False,\n",
    "    chunksize=500,\n",
    "    dtype={\n",
    "        'StationTBLID': Integer, \n",
    "        'ObsTBLID': Integer,\n",
    "        'Z':Float, \n",
    "        'PAR':Float,  \n",
    "        'SA':Float, \n",
    "        'CT':Float, \n",
    "        'dtUTC':DateTime, \n",
    "        'i':Integer,'j':Integer,'k':Integer, \n",
    "        'mod_PAR':Float, \n",
    "        'mod_e3t':Float,\n",
    "       'mod_vosaline':Float, 'mod_votemper':Float, 'mod_diatoms':Float, 'mod_flagellates':Float,\n",
    "        'mod_ciliates':Float, 'mod_Fraser_tracer':Float\n",
    "    }\n",
    ")"
   ]
  },
  {
   "cell_type": "code",
   "execution_count": null,
   "metadata": {},
   "outputs": [],
   "source": [
    "session.commit()"
   ]
  },
  {
   "cell_type": "code",
   "execution_count": null,
   "metadata": {},
   "outputs": [],
   "source": [
    "session.close()"
   ]
  },
  {
   "cell_type": "code",
   "execution_count": null,
   "metadata": {},
   "outputs": [],
   "source": [
    "engine.dispose()"
   ]
  },
  {
   "cell_type": "code",
   "execution_count": null,
   "metadata": {},
   "outputs": [],
   "source": [
    "engine = create_engine('sqlite:///' + basedir + dbname, echo = False)\n",
    "Base = automap_base()\n",
    "# reflect the tables in salish.sqlite:\n",
    "Base.prepare(engine, reflect=True)\n",
    "# mapped classes have been created\n",
    "# existing tables:\n",
    "StationTBL=Base.classes.StationTBL\n",
    "ObsTBL=Base.classes.ObsTBL\n",
    "CalcsTBL=Base.classes.CalcsTBL\n",
    "HC201812TBL=Base.classes.HC201812_matchTBL\n",
    "session = create_session(bind = engine, autocommit = False, autoflush = True)"
   ]
  },
  {
   "cell_type": "code",
   "execution_count": null,
   "metadata": {},
   "outputs": [],
   "source": [
    "Base.classes."
   ]
  },
  {
   "cell_type": "code",
   "execution_count": null,
   "metadata": {},
   "outputs": [],
   "source": []
  },
  {
   "cell_type": "code",
   "execution_count": null,
   "metadata": {},
   "outputs": [],
   "source": []
  },
  {
   "cell_type": "code",
   "execution_count": null,
   "metadata": {},
   "outputs": [],
   "source": [
    "data"
   ]
  },
  {
   "cell_type": "code",
   "execution_count": null,
   "metadata": {},
   "outputs": [],
   "source": [
    "data.keys()"
   ]
  },
  {
   "cell_type": "code",
   "execution_count": null,
   "metadata": {},
   "outputs": [],
   "source": [
    "data.drop(data[data.k<0].index,inplace=True)"
   ]
  },
  {
   "cell_type": "code",
   "execution_count": null,
   "metadata": {},
   "outputs": [],
   "source": [
    "np.shape(tmask)"
   ]
  },
  {
   "cell_type": "code",
   "execution_count": null,
   "metadata": {},
   "outputs": [],
   "source": [
    "fe3t=nc.Dataset('/results/SalishSea/nowcast-green.201812/01jan15/SalishSea_1h_20150101_20150101_carp_T.nc')\n",
    "e3t=fe3t.variables['e3t'][5,:,500,300][tmask[:,500,300]==1]\n",
    "zl=np.zeros((len(e3t),2))\n",
    "zl[1:,0]=np.cumsum(e3t[:-1])\n",
    "zl[:,1]=np.cumsum(e3t)\n"
   ]
  },
  {
   "cell_type": "code",
   "execution_count": null,
   "metadata": {},
   "outputs": [],
   "source": [
    "ik=[iii for iii,hhh in enumerate(zl) if hhh[1]>5.1][0] "
   ]
  },
  {
   "cell_type": "code",
   "execution_count": null,
   "metadata": {},
   "outputs": [],
   "source": [
    "ik"
   ]
  },
  {
   "cell_type": "code",
   "execution_count": null,
   "metadata": {},
   "outputs": [],
   "source": [
    "zl"
   ]
  },
  {
   "cell_type": "code",
   "execution_count": null,
   "metadata": {},
   "outputs": [],
   "source": [
    "fe3t.variables['e3t']"
   ]
  },
  {
   "cell_type": "code",
   "execution_count": null,
   "metadata": {},
   "outputs": [],
   "source": [
    "plt.plot(data['mod_PAR'],data['PAR'],'k.',ms=1)"
   ]
  },
  {
   "cell_type": "code",
   "execution_count": null,
   "metadata": {},
   "outputs": [],
   "source": [
    "ii=(data['mod_PAR']>=0)&(data['PAR']>=0)\n",
    "fig,ax=plt.subplots(1,1,figsize=(5,5))\n",
    "xx=data.loc[ii,['mod_PAR']].values\n",
    "yy=data.loc[ii,['PAR']].values\n",
    "ax.hist2d(xx[:,0],yy[:,0],bins=100,cmin=0,cmax=50);"
   ]
  },
  {
   "cell_type": "code",
   "execution_count": null,
   "metadata": {},
   "outputs": [],
   "source": [
    "ii=(data['mod_PAR']>=0)&(data['PAR']>=0)\n",
    "fig,ax=plt.subplots(1,1,figsize=(5,5))\n",
    "yy=data.loc[ii,['mod_PAR']].values\n",
    "xx=data.loc[ii,['PAR']].values\n",
    "_,_,_,m=ax.hist2d(np.log10(xx[:,0]+1),np.log10(yy[:,0]+1),bins=100,norm=mpl.colors.LogNorm(), cmap=mpl.cm.gist_rainbow_r);\n",
    "fig.colorbar(m,ax=ax)\n",
    "ax.set_xlim(0,4)\n",
    "ax.set_ylim(0,4)\n",
    "ax.set_aspect(1)\n",
    "ax.plot((0,4),(0,4),'k-')\n",
    "ax.set_xlabel('obs')\n",
    "ax.set_ylabel('model')\n",
    "ax.set_title('PAR Direct Comparison: HC201812')"
   ]
  },
  {
   "cell_type": "code",
   "execution_count": null,
   "metadata": {},
   "outputs": [],
   "source": [
    "data.keys()"
   ]
  },
  {
   "cell_type": "code",
   "execution_count": null,
   "metadata": {},
   "outputs": [],
   "source": [
    "stas=data.groupby(by=['Year','Month','Day','Lat','Lon'])"
   ]
  },
  {
   "cell_type": "code",
   "execution_count": null,
   "metadata": {},
   "outputs": [],
   "source": [
    "stas"
   ]
  },
  {
   "cell_type": "code",
   "execution_count": null,
   "metadata": {},
   "outputs": [],
   "source": [
    "with nc.Dataset('/results/SalishSea/nowcast-green.201812/01jan16/SalishSea_1h_20160101_20160101_ptrc_T.nc') as ftemp:\n",
    "    deptht=ftemp.variables['deptht'][:]"
   ]
  },
  {
   "cell_type": "code",
   "execution_count": null,
   "metadata": {},
   "outputs": [],
   "source": [
    "deptht[5]"
   ]
  },
  {
   "cell_type": "code",
   "execution_count": null,
   "metadata": {},
   "outputs": [],
   "source": [
    "data['mod_Z']=[deptht[ii] for ii in data['k']]"
   ]
  },
  {
   "cell_type": "code",
   "execution_count": null,
   "metadata": {},
   "outputs": [],
   "source": [
    "fig,ax=plt.subplots(1,1,figsize=(5,5))\n",
    "ax.plot(data['Z'],data['mod_Z'],'k.',ms=1)\n",
    "ax.set_xlabel('Obs')\n",
    "ax.set_ylabel('Model')"
   ]
  },
  {
   "cell_type": "code",
   "execution_count": null,
   "metadata": {},
   "outputs": [],
   "source": [
    "ii=(data['mod_PAR']>=0)&(data['PAR']>=0)\n",
    "ik=data.k<10\n",
    "fig,ax=plt.subplots(1,1,figsize=(5,5))\n",
    "yy=data.loc[ii&ik,['mod_PAR']].values\n",
    "xx=data.loc[ii&ik,['PAR']].values\n",
    "yz=data.loc[ii&ik,['mod_Z']].values\n",
    "xz=data.loc[ii&ik,['Z']].values\n",
    "_,_,_,m=ax.hist2d(np.log10(xx[:,0]+1),np.log10(yy[:,0]+1),bins=100,norm=mpl.colors.LogNorm(), cmap=mpl.cm.gist_rainbow_r);\n",
    "fig.colorbar(m,ax=ax)\n",
    "ax.set_xlim(0,4)\n",
    "ax.set_ylim(0,4)\n",
    "ax.set_aspect(1)\n",
    "ax.plot((0,4),(0,4),'k-')\n",
    "ax.set_xlabel('obs')\n",
    "ax.set_ylabel('model')\n",
    "ax.set_title('PAR Direct Comparison Upper 10m: HC201812')"
   ]
  },
  {
   "cell_type": "code",
   "execution_count": null,
   "metadata": {},
   "outputs": [],
   "source": [
    "plt.hist(yz-xz)\n",
    "plt.title('hist: model z - obs z')"
   ]
  },
  {
   "cell_type": "code",
   "execution_count": null,
   "metadata": {},
   "outputs": [],
   "source": [
    "fig,ax=plt.subplots(1,1,figsize=(5,5))\n",
    "ax.plot(yz-xz,np.log10(yy[:,0]+1)-np.log10(xx[:,0]+1),'k.',ms=1)\n",
    "ax.set_xlabel('Model Z - Obs Z')\n",
    "ax.set_ylabel('log10(model PAR +1)-log10(obs PAR +1)')"
   ]
  },
  {
   "cell_type": "code",
   "execution_count": null,
   "metadata": {},
   "outputs": [],
   "source": [
    "ii=(data['mod_PAR']>=0)&(data['PAR']>=0)\n",
    "ik=data.k<2\n",
    "fig,ax=plt.subplots(1,1,figsize=(5,5))\n",
    "yy=data.loc[ii&ik,['mod_PAR']].values\n",
    "xx=data.loc[ii&ik,['PAR']].values\n",
    "yz=data.loc[ii&ik,['mod_Z']].values\n",
    "xz=data.loc[ii&ik,['Z']].values\n",
    "_,_,_,m=ax.hist2d(np.log10(xx[:,0]+1),np.log10(yy[:,0]+1),bins=100,norm=mpl.colors.LogNorm(), cmap=mpl.cm.gist_rainbow_r);\n",
    "fig.colorbar(m,ax=ax)\n",
    "ax.set_xlim(0,4)\n",
    "ax.set_ylim(0,4)\n",
    "ax.set_aspect(1)\n",
    "ax.plot((0,4),(0,4),'k-')\n",
    "ax.set_xlabel('obs')\n",
    "ax.set_ylabel('model')\n",
    "ax.set_title('PAR Direct Comparison Upper 2m: HC201812')"
   ]
  },
  {
   "cell_type": "code",
   "execution_count": null,
   "metadata": {},
   "outputs": [],
   "source": [
    "data.keys()"
   ]
  },
  {
   "cell_type": "code",
   "execution_count": null,
   "metadata": {},
   "outputs": [],
   "source": [
    "temp=data.loc[(data['PAR']>10)&(data['mod_PAR']==0)&(data['Z']<3),['dtUTC','Lat','Lon','Z','mod_Z','Hour','staFile','obsFile']]"
   ]
  },
  {
   "cell_type": "code",
   "execution_count": null,
   "metadata": {},
   "outputs": [],
   "source": [
    "temp"
   ]
  },
  {
   "cell_type": "code",
   "execution_count": null,
   "metadata": {},
   "outputs": [],
   "source": [
    "fig,ax=plt.subplots(1,1,figsize=(16,1))\n",
    "ax.plot(temp['dtUTC'],temp['Z'],'k.')"
   ]
  },
  {
   "cell_type": "code",
   "execution_count": null,
   "metadata": {},
   "outputs": [],
   "source": [
    "plt.hist(temp['Hour'])"
   ]
  },
  {
   "cell_type": "code",
   "execution_count": null,
   "metadata": {},
   "outputs": [],
   "source": [
    "len(temp)"
   ]
  },
  {
   "cell_type": "code",
   "execution_count": null,
   "metadata": {},
   "outputs": [],
   "source": [
    "np.unique(temp['staFile'])"
   ]
  },
  {
   "cell_type": "code",
   "execution_count": null,
   "metadata": {},
   "outputs": [],
   "source": [
    "np.unique(temp['obsFile'])"
   ]
  },
  {
   "cell_type": "code",
   "execution_count": null,
   "metadata": {},
   "outputs": [],
   "source": [
    "plt.hist(np.log10(data['PAR']+1),200);\n",
    "plt.ylim(0,10000)"
   ]
  },
  {
   "cell_type": "code",
   "execution_count": null,
   "metadata": {},
   "outputs": [],
   "source": [
    "10**.5-1"
   ]
  },
  {
   "cell_type": "code",
   "execution_count": null,
   "metadata": {},
   "outputs": [],
   "source": [
    "data.loc[data['obsFile']=='req20181116/EO UBC November 16, 2018 (2017 data)/2017-63-0017.ctd',['dtUTC','PAR']]"
   ]
  },
  {
   "cell_type": "markdown",
   "metadata": {},
   "source": [
    "nighttime; probably moonlight"
   ]
  },
  {
   "cell_type": "code",
   "execution_count": null,
   "metadata": {},
   "outputs": [],
   "source": []
  }
 ],
 "metadata": {
  "kernelspec": {
   "display_name": "Python (py38_ct)",
   "language": "python",
   "name": "py38_ct"
  },
  "language_info": {
   "codemirror_mode": {
    "name": "ipython",
    "version": 3
   },
   "file_extension": ".py",
   "mimetype": "text/x-python",
   "name": "python",
   "nbconvert_exporter": "python",
   "pygments_lexer": "ipython3",
   "version": "3.8.2"
  }
 },
 "nbformat": 4,
 "nbformat_minor": 2
}
