{
 "cells": [
  {
   "cell_type": "code",
   "execution_count": 1,
   "metadata": {},
   "outputs": [],
   "source": [
    "import sqlalchemy\n",
    "from sqlalchemy import (create_engine, Column, String, Integer, Float, MetaData, \n",
    "                        Table, type_coerce, ForeignKey, case)\n",
    "from sqlalchemy.orm import mapper, create_session, relationship, aliased, Session\n",
    "from sqlalchemy.ext.declarative import declarative_base\n",
    "from sqlalchemy import case\n",
    "import numpy as np\n",
    "from sqlalchemy.ext.automap import automap_base\n",
    "import matplotlib.pyplot as plt\n",
    "import sqlalchemy.types as types\n",
    "from sqlalchemy.sql import and_, or_, not_, func\n",
    "from sqlalchemy.sql import select\n",
    "import os\n",
    "from os.path import isfile\n",
    "import pandas as pd\n",
    "import netCDF4 as nc\n",
    "import datetime as dt\n",
    "from salishsea_tools import evaltools as et, viz_tools\n",
    "import datetime\n",
    "import glob\n",
    "import gsw\n",
    "import pickle\n",
    "import matplotlib as mpl\n",
    "\n",
    "import scipy.optimize as scopt\n",
    "\n",
    "%matplotlib inline"
   ]
  },
  {
   "cell_type": "code",
   "execution_count": 2,
   "metadata": {},
   "outputs": [],
   "source": [
    "basedir='/ocean/shared/SalishSeaCastData/DFO/CTD/'\n",
    "dbname='DFO_CTD.sqlite'\n",
    "datelims=()\n",
    "engine = create_engine('sqlite:///' + basedir + dbname, echo = False)\n",
    "Base = automap_base()\n",
    "# reflect the tables in salish.sqlite:\n",
    "Base.prepare(engine, reflect=True)\n",
    "# mapped classes have been created\n",
    "# existing tables:\n",
    "StationTBL=Base.classes.StationTBL\n",
    "ObsTBL=Base.classes.ObsTBL\n",
    "CalcsTBL=Base.classes.CalcsTBL\n",
    "session = create_session(bind = engine, autocommit = False, autoflush = True)\n"
   ]
  },
  {
   "cell_type": "code",
   "execution_count": 3,
   "metadata": {},
   "outputs": [
    {
     "data": {
      "text/plain": [
       "[(None), ('uE/m^2/sec')]"
      ]
     },
     "execution_count": 3,
     "metadata": {},
     "output_type": "execute_result"
    }
   ],
   "source": [
    "session.query(ObsTBL.PAR1_units).distinct().all()"
   ]
  },
  {
   "cell_type": "code",
   "execution_count": 4,
   "metadata": {},
   "outputs": [
    {
     "data": {
      "text/plain": [
       "[(None), ('uE/m^2/sec')]"
      ]
     },
     "execution_count": 4,
     "metadata": {},
     "output_type": "execute_result"
    }
   ],
   "source": [
    "session.query(ObsTBL.PAR_1_units).distinct().all()"
   ]
  },
  {
   "cell_type": "code",
   "execution_count": 5,
   "metadata": {},
   "outputs": [],
   "source": [
    "PAR=case([(ObsTBL.PAR!=None, ObsTBL.PAR)], else_=\n",
    "             case([(ObsTBL.PAR1!=None, ObsTBL.PAR1)], else_=ObsTBL.PAR_1))"
   ]
  },
  {
   "cell_type": "code",
   "execution_count": 6,
   "metadata": {},
   "outputs": [],
   "source": [
    "SA=case([(CalcsTBL.Salinity_T0_C0_SA!=None, CalcsTBL.Salinity_T0_C0_SA)], else_=\n",
    "         case([(CalcsTBL.Salinity_T1_C1_SA!=None, CalcsTBL.Salinity_T1_C1_SA)], else_=\n",
    "         case([(CalcsTBL.Salinity_SA!=None, CalcsTBL.Salinity_SA)], else_= None)))\n",
    "CT=case([(CalcsTBL.Temperature_Primary_CT!=None, CalcsTBL.Temperature_Primary_CT)], else_=\n",
    "         case([(CalcsTBL.Temperature_Secondary_CT!=None, CalcsTBL.Temperature_Secondary_CT)], else_=CalcsTBL.Temperature_CT))\n",
    "ZD=case([(ObsTBL.Depth!=None,ObsTBL.Depth)], else_= CalcsTBL.Z)"
   ]
  },
  {
   "cell_type": "code",
   "execution_count": 7,
   "metadata": {},
   "outputs": [],
   "source": [
    "qry=session.query(StationTBL.ID,StationTBL.sourceFile.label('staFile'),ObsTBL.sourceFile.label('obsFile'),StationTBL.StartYear.label('Year'),StationTBL.StartMonth.label('Month'),\n",
    "                StationTBL.StartDay.label('Day'),StationTBL.StartHour.label('Hour'),\n",
    "                StationTBL.Lat,StationTBL.Lon,ZD.label('Z'),PAR.label('PAR'),SA.label('SA'),CT.label('CT')).\\\n",
    "        select_from(StationTBL).join(ObsTBL,ObsTBL.StationTBLID==StationTBL.ID).\\\n",
    "        join(CalcsTBL,CalcsTBL.ObsTBLID==ObsTBL.ID).filter(and_(StationTBL.Lat>47-3/2.5*(StationTBL.Lon+123.5),\n",
    "                                            StationTBL.Lat<47-3/2.5*(StationTBL.Lon+121),\n",
    "                                            StationTBL.Lat<51,\n",
    "                                            StationTBL.Include==True,ObsTBL.Include==True,\n",
    "                                            ObsTBL.PAR>=0))\n"
   ]
  },
  {
   "cell_type": "code",
   "execution_count": null,
   "metadata": {},
   "outputs": [],
   "source": [
    "qry2=session.query(StationTBL.StartYear.label('Year'),StationTBL.StartMonth.label('Month'),\n",
    "                StationTBL.StartDay.label('Day'),StationTBL.StartHour.label('Hour'),\n",
    "                StationTBL.Lat,StationTBL.Lon,func.min(ZD).label('minZ')).\\\n",
    "        select_from(StationTBL).join(ObsTBL,ObsTBL.StationTBLID==StationTBL.ID).\\\n",
    "        join(CalcsTBL,CalcsTBL.ObsTBLID==ObsTBL.ID).filter(and_(StationTBL.Lat>47-3/2.5*(StationTBL.Lon+123.5),\n",
    "                                            StationTBL.Lat<47-3/2.5*(StationTBL.Lon+121),\n",
    "                                            StationTBL.Lat<51,\n",
    "                                            StationTBL.Include==True,ObsTBL.Include==True,\n",
    "                                            ObsTBL.PAR>=0)).group_by(StationTBL.ID)\n",
    "minzQ=session.query(StationTBL.ID,func.min(ZD).label('minZ')).\\\n",
    "        select_from(StationTBL).join(ObsTBL,ObsTBL.StationTBLID==StationTBL.ID).\\\n",
    "        join(CalcsTBL,CalcsTBL.ObsTBLID==ObsTBL.ID).filter(and_(StationTBL.Lat>47-3/2.5*(StationTBL.Lon+123.5),\n",
    "                                            StationTBL.Lat<47-3/2.5*(StationTBL.Lon+121),\n",
    "                                            StationTBL.Lat<51,\n",
    "                                            StationTBL.Include==True,ObsTBL.Include==True,\n",
    "                                            ObsTBL.PAR>=0)).group_by(StationTBL.ID)"
   ]
  },
  {
   "cell_type": "code",
   "execution_count": null,
   "metadata": {},
   "outputs": [],
   "source": [
    "df2=pd.DataFrame(qry2.all())\n"
   ]
  },
  {
   "cell_type": "code",
   "execution_count": null,
   "metadata": {},
   "outputs": [],
   "source": [
    "df3=pd.DataFrame(minzQ.all())"
   ]
  },
  {
   "cell_type": "code",
   "execution_count": 8,
   "metadata": {},
   "outputs": [],
   "source": [
    "df1=pd.DataFrame(qry.all())"
   ]
  },
  {
   "cell_type": "code",
   "execution_count": null,
   "metadata": {},
   "outputs": [],
   "source": [
    "len(df2),len(df1),len(df3)"
   ]
  },
  {
   "cell_type": "code",
   "execution_count": null,
   "metadata": {},
   "outputs": [],
   "source": [
    "subminzQ=minzQ.subquery()\n",
    "subqry=qry.subquery()"
   ]
  },
  {
   "cell_type": "code",
   "execution_count": null,
   "metadata": {},
   "outputs": [],
   "source": [
    "sparQ=session.query(subminzQ.c.ID,subminzQ.c.minZ,subqry.c.PAR).select_from(subminzQ).join(subqry,and_(\n",
    "    ObsTBL.)"
   ]
  },
  {
   "cell_type": "code",
   "execution_count": null,
   "metadata": {},
   "outputs": [],
   "source": []
  },
  {
   "cell_type": "code",
   "execution_count": 9,
   "metadata": {},
   "outputs": [],
   "source": [
    "df1=pd.DataFrame(qry.all())\n",
    "df1['dtUTC']=[dt.datetime(int(y),int(m),int(d))+dt.timedelta(hours=h) for y,m,d,h in zip(df1['Year'],df1['Month'],df1['Day'],df1['Hour'])]\n"
   ]
  },
  {
   "cell_type": "code",
   "execution_count": 10,
   "metadata": {},
   "outputs": [
    {
     "data": {
      "text/plain": [
       "319619"
      ]
     },
     "execution_count": 10,
     "metadata": {},
     "output_type": "execute_result"
    }
   ],
   "source": [
    "len(df1)"
   ]
  },
  {
   "cell_type": "code",
   "execution_count": 11,
   "metadata": {},
   "outputs": [],
   "source": [
    "with nc.Dataset('/ocean/eolson/MEOPAR/NEMO-forcing/grid/mesh_mask201702_noLPE.nc') as mesh:\n",
    "    tmask=np.copy(mesh.variables['tmask'][0,:,:,:])\n",
    "    navlat=np.copy(mesh.variables['nav_lat'][:,:])\n",
    "    navlon=np.copy(mesh.variables['nav_lon'][:,:])"
   ]
  },
  {
   "cell_type": "code",
   "execution_count": 12,
   "metadata": {},
   "outputs": [
    {
     "data": {
      "text/plain": [
       "<matplotlib.contour.QuadContourSet at 0x7f6fd31b5430>"
      ]
     },
     "execution_count": 12,
     "metadata": {},
     "output_type": "execute_result"
    },
    {
     "data": {
      "image/png": "[encoded data removed]",
      "text/plain": [
       "<Figure size 360x360 with 1 Axes>"
      ]
     },
     "metadata": {
      "needs_background": "light"
     },
     "output_type": "display_data"
    }
   ],
   "source": [
    "fig,ax=plt.subplots(1,1,figsize=(5,5))\n",
    "ax.plot(df1['Lon'],df1['Lat'],'k.')\n",
    "ax.contour(navlon,navlat,tmask[0,:,:],(0.5,))"
   ]
  },
  {
   "cell_type": "code",
   "execution_count": 13,
   "metadata": {},
   "outputs": [
    {
     "data": {
      "text/html": [
       "<div>\n",
       "<style scoped>\n",
       "    .dataframe tbody tr th:only-of-type {\n",
       "        vertical-align: middle;\n",
       "    }\n",
       "\n",
       "    .dataframe tbody tr th {\n",
       "        vertical-align: top;\n",
       "    }\n",
       "\n",
       "    .dataframe thead th {\n",
       "        text-align: right;\n",
       "    }\n",
       "</style>\n",
       "<table border=\"1\" class=\"dataframe\">\n",
       "  <thead>\n",
       "    <tr style=\"text-align: right;\">\n",
       "      <th></th>\n",
       "      <th>ID</th>\n",
       "      <th>staFile</th>\n",
       "      <th>obsFile</th>\n",
       "      <th>Year</th>\n",
       "      <th>Month</th>\n",
       "      <th>Day</th>\n",
       "      <th>Hour</th>\n",
       "      <th>Lat</th>\n",
       "      <th>Lon</th>\n",
       "      <th>Z</th>\n",
       "      <th>PAR</th>\n",
       "      <th>SA</th>\n",
       "      <th>CT</th>\n",
       "      <th>dtUTC</th>\n",
       "    </tr>\n",
       "  </thead>\n",
       "  <tbody>\n",
       "    <tr>\n",
       "      <th>0</th>\n",
       "      <td>1</td>\n",
       "      <td>req20181116/EO UBC November 16, 2018 (2014 dat...</td>\n",
       "      <td>req20181116/EO UBC November 16, 2018 (2014 dat...</td>\n",
       "      <td>2014.0</td>\n",
       "      <td>2.0</td>\n",
       "      <td>11.0</td>\n",
       "      <td>6.598056</td>\n",
       "      <td>48.618333</td>\n",
       "      <td>-123.248333</td>\n",
       "      <td>0.991551</td>\n",
       "      <td>0.3</td>\n",
       "      <td>31.189609</td>\n",
       "      <td>7.327741</td>\n",
       "      <td>2014-02-11 06:35:53</td>\n",
       "    </tr>\n",
       "    <tr>\n",
       "      <th>1</th>\n",
       "      <td>1</td>\n",
       "      <td>req20181116/EO UBC November 16, 2018 (2014 dat...</td>\n",
       "      <td>req20181116/EO UBC November 16, 2018 (2014 dat...</td>\n",
       "      <td>2014.0</td>\n",
       "      <td>2.0</td>\n",
       "      <td>11.0</td>\n",
       "      <td>6.598056</td>\n",
       "      <td>48.618333</td>\n",
       "      <td>-123.248333</td>\n",
       "      <td>1.983098</td>\n",
       "      <td>0.2</td>\n",
       "      <td>31.191168</td>\n",
       "      <td>7.327932</td>\n",
       "      <td>2014-02-11 06:35:53</td>\n",
       "    </tr>\n",
       "    <tr>\n",
       "      <th>2</th>\n",
       "      <td>1</td>\n",
       "      <td>req20181116/EO UBC November 16, 2018 (2014 dat...</td>\n",
       "      <td>req20181116/EO UBC November 16, 2018 (2014 dat...</td>\n",
       "      <td>2014.0</td>\n",
       "      <td>2.0</td>\n",
       "      <td>11.0</td>\n",
       "      <td>6.598056</td>\n",
       "      <td>48.618333</td>\n",
       "      <td>-123.248333</td>\n",
       "      <td>2.974640</td>\n",
       "      <td>0.2</td>\n",
       "      <td>31.191120</td>\n",
       "      <td>7.327442</td>\n",
       "      <td>2014-02-11 06:35:53</td>\n",
       "    </tr>\n",
       "    <tr>\n",
       "      <th>3</th>\n",
       "      <td>1</td>\n",
       "      <td>req20181116/EO UBC November 16, 2018 (2014 dat...</td>\n",
       "      <td>req20181116/EO UBC November 16, 2018 (2014 dat...</td>\n",
       "      <td>2014.0</td>\n",
       "      <td>2.0</td>\n",
       "      <td>11.0</td>\n",
       "      <td>6.598056</td>\n",
       "      <td>48.618333</td>\n",
       "      <td>-123.248333</td>\n",
       "      <td>3.966176</td>\n",
       "      <td>0.1</td>\n",
       "      <td>31.197000</td>\n",
       "      <td>7.329882</td>\n",
       "      <td>2014-02-11 06:35:53</td>\n",
       "    </tr>\n",
       "    <tr>\n",
       "      <th>4</th>\n",
       "      <td>1</td>\n",
       "      <td>req20181116/EO UBC November 16, 2018 (2014 dat...</td>\n",
       "      <td>req20181116/EO UBC November 16, 2018 (2014 dat...</td>\n",
       "      <td>2014.0</td>\n",
       "      <td>2.0</td>\n",
       "      <td>11.0</td>\n",
       "      <td>6.598056</td>\n",
       "      <td>48.618333</td>\n",
       "      <td>-123.248333</td>\n",
       "      <td>4.957709</td>\n",
       "      <td>0.1</td>\n",
       "      <td>31.201373</td>\n",
       "      <td>7.331038</td>\n",
       "      <td>2014-02-11 06:35:53</td>\n",
       "    </tr>\n",
       "  </tbody>\n",
       "</table>\n",
       "</div>"
      ],
      "text/plain": [
       "   ID                                            staFile  \\\n",
       "0   1  req20181116/EO UBC November 16, 2018 (2014 dat...   \n",
       "1   1  req20181116/EO UBC November 16, 2018 (2014 dat...   \n",
       "2   1  req20181116/EO UBC November 16, 2018 (2014 dat...   \n",
       "3   1  req20181116/EO UBC November 16, 2018 (2014 dat...   \n",
       "4   1  req20181116/EO UBC November 16, 2018 (2014 dat...   \n",
       "\n",
       "                                             obsFile    Year  Month   Day  \\\n",
       "0  req20181116/EO UBC November 16, 2018 (2014 dat...  2014.0    2.0  11.0   \n",
       "1  req20181116/EO UBC November 16, 2018 (2014 dat...  2014.0    2.0  11.0   \n",
       "2  req20181116/EO UBC November 16, 2018 (2014 dat...  2014.0    2.0  11.0   \n",
       "3  req20181116/EO UBC November 16, 2018 (2014 dat...  2014.0    2.0  11.0   \n",
       "4  req20181116/EO UBC November 16, 2018 (2014 dat...  2014.0    2.0  11.0   \n",
       "\n",
       "       Hour        Lat         Lon         Z  PAR         SA        CT  \\\n",
       "0  6.598056  48.618333 -123.248333  0.991551  0.3  31.189609  7.327741   \n",
       "1  6.598056  48.618333 -123.248333  1.983098  0.2  31.191168  7.327932   \n",
       "2  6.598056  48.618333 -123.248333  2.974640  0.2  31.191120  7.327442   \n",
       "3  6.598056  48.618333 -123.248333  3.966176  0.1  31.197000  7.329882   \n",
       "4  6.598056  48.618333 -123.248333  4.957709  0.1  31.201373  7.331038   \n",
       "\n",
       "                dtUTC  \n",
       "0 2014-02-11 06:35:53  \n",
       "1 2014-02-11 06:35:53  \n",
       "2 2014-02-11 06:35:53  \n",
       "3 2014-02-11 06:35:53  \n",
       "4 2014-02-11 06:35:53  "
      ]
     },
     "execution_count": 13,
     "metadata": {},
     "output_type": "execute_result"
    }
   ],
   "source": [
    "df1.head()"
   ]
  },
  {
   "cell_type": "code",
   "execution_count": 14,
   "metadata": {},
   "outputs": [
    {
     "data": {
      "text/html": [
       "<div>\n",
       "<style scoped>\n",
       "    .dataframe tbody tr th:only-of-type {\n",
       "        vertical-align: middle;\n",
       "    }\n",
       "\n",
       "    .dataframe tbody tr th {\n",
       "        vertical-align: top;\n",
       "    }\n",
       "\n",
       "    .dataframe thead th {\n",
       "        text-align: right;\n",
       "    }\n",
       "</style>\n",
       "<table border=\"1\" class=\"dataframe\">\n",
       "  <thead>\n",
       "    <tr style=\"text-align: right;\">\n",
       "      <th></th>\n",
       "      <th>ID</th>\n",
       "      <th>staFile</th>\n",
       "      <th>obsFile</th>\n",
       "      <th>Year</th>\n",
       "      <th>Month</th>\n",
       "      <th>Day</th>\n",
       "      <th>Hour</th>\n",
       "      <th>Lat</th>\n",
       "      <th>Lon</th>\n",
       "      <th>Z</th>\n",
       "      <th>PAR</th>\n",
       "      <th>SA</th>\n",
       "      <th>CT</th>\n",
       "      <th>dtUTC</th>\n",
       "    </tr>\n",
       "  </thead>\n",
       "  <tbody>\n",
       "    <tr>\n",
       "      <th>319614</th>\n",
       "      <td>5692</td>\n",
       "      <td>req20181116/EO UBC November 16, 2018 (2018 dat...</td>\n",
       "      <td>req20181116/EO UBC November 16, 2018 (2018 dat...</td>\n",
       "      <td>2018.0</td>\n",
       "      <td>2.0</td>\n",
       "      <td>7.0</td>\n",
       "      <td>1.859167</td>\n",
       "      <td>49.304833</td>\n",
       "      <td>-122.941167</td>\n",
       "      <td>25.8</td>\n",
       "      <td>0.0</td>\n",
       "      <td>26.732853</td>\n",
       "      <td>8.801723</td>\n",
       "      <td>2018-02-07 01:51:33</td>\n",
       "    </tr>\n",
       "    <tr>\n",
       "      <th>319615</th>\n",
       "      <td>5692</td>\n",
       "      <td>req20181116/EO UBC November 16, 2018 (2018 dat...</td>\n",
       "      <td>req20181116/EO UBC November 16, 2018 (2018 dat...</td>\n",
       "      <td>2018.0</td>\n",
       "      <td>2.0</td>\n",
       "      <td>7.0</td>\n",
       "      <td>1.859167</td>\n",
       "      <td>49.304833</td>\n",
       "      <td>-122.941167</td>\n",
       "      <td>26.8</td>\n",
       "      <td>0.0</td>\n",
       "      <td>26.812974</td>\n",
       "      <td>8.875391</td>\n",
       "      <td>2018-02-07 01:51:33</td>\n",
       "    </tr>\n",
       "    <tr>\n",
       "      <th>319616</th>\n",
       "      <td>5692</td>\n",
       "      <td>req20181116/EO UBC November 16, 2018 (2018 dat...</td>\n",
       "      <td>req20181116/EO UBC November 16, 2018 (2018 dat...</td>\n",
       "      <td>2018.0</td>\n",
       "      <td>2.0</td>\n",
       "      <td>7.0</td>\n",
       "      <td>1.859167</td>\n",
       "      <td>49.304833</td>\n",
       "      <td>-122.941167</td>\n",
       "      <td>27.8</td>\n",
       "      <td>0.0</td>\n",
       "      <td>26.978804</td>\n",
       "      <td>9.042280</td>\n",
       "      <td>2018-02-07 01:51:33</td>\n",
       "    </tr>\n",
       "    <tr>\n",
       "      <th>319617</th>\n",
       "      <td>5692</td>\n",
       "      <td>req20181116/EO UBC November 16, 2018 (2018 dat...</td>\n",
       "      <td>req20181116/EO UBC November 16, 2018 (2018 dat...</td>\n",
       "      <td>2018.0</td>\n",
       "      <td>2.0</td>\n",
       "      <td>7.0</td>\n",
       "      <td>1.859167</td>\n",
       "      <td>49.304833</td>\n",
       "      <td>-122.941167</td>\n",
       "      <td>28.8</td>\n",
       "      <td>0.0</td>\n",
       "      <td>27.031492</td>\n",
       "      <td>9.102279</td>\n",
       "      <td>2018-02-07 01:51:33</td>\n",
       "    </tr>\n",
       "    <tr>\n",
       "      <th>319618</th>\n",
       "      <td>5692</td>\n",
       "      <td>req20181116/EO UBC November 16, 2018 (2018 dat...</td>\n",
       "      <td>req20181116/EO UBC November 16, 2018 (2018 dat...</td>\n",
       "      <td>2018.0</td>\n",
       "      <td>2.0</td>\n",
       "      <td>7.0</td>\n",
       "      <td>1.859167</td>\n",
       "      <td>49.304833</td>\n",
       "      <td>-122.941167</td>\n",
       "      <td>29.8</td>\n",
       "      <td>0.0</td>\n",
       "      <td>27.042581</td>\n",
       "      <td>9.120496</td>\n",
       "      <td>2018-02-07 01:51:33</td>\n",
       "    </tr>\n",
       "  </tbody>\n",
       "</table>\n",
       "</div>"
      ],
      "text/plain": [
       "          ID                                            staFile  \\\n",
       "319614  5692  req20181116/EO UBC November 16, 2018 (2018 dat...   \n",
       "319615  5692  req20181116/EO UBC November 16, 2018 (2018 dat...   \n",
       "319616  5692  req20181116/EO UBC November 16, 2018 (2018 dat...   \n",
       "319617  5692  req20181116/EO UBC November 16, 2018 (2018 dat...   \n",
       "319618  5692  req20181116/EO UBC November 16, 2018 (2018 dat...   \n",
       "\n",
       "                                                  obsFile    Year  Month  Day  \\\n",
       "319614  req20181116/EO UBC November 16, 2018 (2018 dat...  2018.0    2.0  7.0   \n",
       "319615  req20181116/EO UBC November 16, 2018 (2018 dat...  2018.0    2.0  7.0   \n",
       "319616  req20181116/EO UBC November 16, 2018 (2018 dat...  2018.0    2.0  7.0   \n",
       "319617  req20181116/EO UBC November 16, 2018 (2018 dat...  2018.0    2.0  7.0   \n",
       "319618  req20181116/EO UBC November 16, 2018 (2018 dat...  2018.0    2.0  7.0   \n",
       "\n",
       "            Hour        Lat         Lon     Z  PAR         SA        CT  \\\n",
       "319614  1.859167  49.304833 -122.941167  25.8  0.0  26.732853  8.801723   \n",
       "319615  1.859167  49.304833 -122.941167  26.8  0.0  26.812974  8.875391   \n",
       "319616  1.859167  49.304833 -122.941167  27.8  0.0  26.978804  9.042280   \n",
       "319617  1.859167  49.304833 -122.941167  28.8  0.0  27.031492  9.102279   \n",
       "319618  1.859167  49.304833 -122.941167  29.8  0.0  27.042581  9.120496   \n",
       "\n",
       "                     dtUTC  \n",
       "319614 2018-02-07 01:51:33  \n",
       "319615 2018-02-07 01:51:33  \n",
       "319616 2018-02-07 01:51:33  \n",
       "319617 2018-02-07 01:51:33  \n",
       "319618 2018-02-07 01:51:33  "
      ]
     },
     "execution_count": 14,
     "metadata": {},
     "output_type": "execute_result"
    }
   ],
   "source": [
    "df1.tail()"
   ]
  },
  {
   "cell_type": "code",
   "execution_count": 15,
   "metadata": {},
   "outputs": [
    {
     "name": "stdout",
     "output_type": "stream",
     "text": [
      "(Lat,Lon)= 49.01133333333333 -125.17  not matched to domain\n",
      "(Lat,Lon)= 49.021 -125.15616666666666  not matched to domain\n",
      "(Lat,Lon)= 49.0295 -125.15266666666666  not matched to domain\n",
      "(Lat,Lon)= 49.042833333333334 -125.15266666666666  not matched to domain\n",
      "(Lat,Lon)= 49.0525 -125.143  not matched to domain\n",
      "(Lat,Lon)= 49.071333333333335 -125.15683333333334  not matched to domain\n",
      "(Lat,Lon)= 49.08316666666666 -125.17166666666667  not matched to domain\n",
      "(Lat,Lon)= 49.09166666666667 -125.19466666666666  not matched to domain\n",
      "(Lat,Lon)= 49.29533333333333 -122.9685  not matched to domain\n",
      "(Lat,Lon)= 49.29966666666667 -123.09016666666666  not matched to domain\n",
      "(Lat,Lon)= 49.315666666666665 -122.9375  not matched to domain\n",
      "(Lat,Lon)= 50.02883333333333 -124.7325  not matched to domain\n",
      "progress: 0.0%\n",
      "progress: 2.462350658432566%\n",
      "progress: 4.924701316865132%\n",
      "progress: 7.387051975297698%\n",
      "progress: 9.849402633730264%\n",
      "progress: 12.31175329216283%\n",
      "progress: 14.774103950595396%\n",
      "progress: 17.236454609027962%\n",
      "progress: 19.69880526746053%\n",
      "progress: 22.161155925893095%\n",
      "progress: 24.62350658432566%\n",
      "progress: 27.085857242758227%\n",
      "progress: 29.548207901190793%\n",
      "progress: 32.01055855962336%\n",
      "progress: 34.472909218055925%\n",
      "progress: 36.93525987648849%\n",
      "progress: 39.39761053492106%\n",
      "progress: 41.85996119335363%\n",
      "progress: 44.32231185178619%\n",
      "progress: 46.78466251021875%\n",
      "progress: 49.24701316865132%\n",
      "progress: 51.70936382708389%\n",
      "progress: 54.17171448551645%\n",
      "progress: 56.634065143949016%\n",
      "progress: 59.096415802381586%\n",
      "progress: 61.558766460814155%\n",
      "progress: 64.02111711924672%\n",
      "progress: 66.48346777767928%\n",
      "progress: 68.94581843611185%\n",
      "progress: 71.40816909454442%\n",
      "progress: 73.87051975297697%\n",
      "progress: 76.33287041140954%\n",
      "progress: 78.79522106984211%\n",
      "progress: 81.25757172827468%\n",
      "progress: 83.71992238670725%\n",
      "progress: 86.18227304513981%\n",
      "progress: 88.64462370357238%\n",
      "progress: 91.10697436200495%\n",
      "progress: 93.5693250204375%\n",
      "progress: 96.03167567887007%\n",
      "progress: 98.49402633730264%\n"
     ]
    }
   ],
   "source": [
    "flen=1\n",
    "namfmt='nowcast'\n",
    "#varmap={'N':'nitrate','Si':'silicon','Ammonium':'ammonium'}\n",
    "filemap={'PAR':'carp_T','vosaline':'grid_T','votemper':'grid_T'}\n",
    "#gridmap={'nitrate':'tmask','silicon':'tmask','ammonium':'tmask'}\n",
    "fdict={'carp_T':1,'grid_T':1}\n",
    "PATH='/results/SalishSea/nowcast-green.201812/'\n",
    "data=et.matchData(df1,filemap,fdict,dt.datetime(2015,1,1),dt.datetime(2018,1,1),namfmt,PATH,flen)"
   ]
  },
  {
   "cell_type": "code",
   "execution_count": null,
   "metadata": {},
   "outputs": [],
   "source": []
  },
  {
   "cell_type": "code",
   "execution_count": 16,
   "metadata": {},
   "outputs": [],
   "source": [
    "pickle.dump(data,open('loadPARCTD2.pkl','wb'))"
   ]
  },
  {
   "cell_type": "code",
   "execution_count": 3,
   "metadata": {},
   "outputs": [],
   "source": [
    "data=pickle.load(open('loadPARCTD.pkl','rb'))"
   ]
  },
  {
   "cell_type": "code",
   "execution_count": 28,
   "metadata": {},
   "outputs": [],
   "source": [
    "data.drop(data[data.k<0].index,inplace=True)"
   ]
  },
  {
   "cell_type": "code",
   "execution_count": 29,
   "metadata": {},
   "outputs": [
    {
     "data": {
      "text/html": [
       "<div>\n",
       "<style scoped>\n",
       "    .dataframe tbody tr th:only-of-type {\n",
       "        vertical-align: middle;\n",
       "    }\n",
       "\n",
       "    .dataframe tbody tr th {\n",
       "        vertical-align: top;\n",
       "    }\n",
       "\n",
       "    .dataframe thead th {\n",
       "        text-align: right;\n",
       "    }\n",
       "</style>\n",
       "<table border=\"1\" class=\"dataframe\">\n",
       "  <thead>\n",
       "    <tr style=\"text-align: right;\">\n",
       "      <th></th>\n",
       "      <th>Year</th>\n",
       "      <th>Month</th>\n",
       "      <th>Day</th>\n",
       "      <th>Hour</th>\n",
       "      <th>Lat</th>\n",
       "      <th>Lon</th>\n",
       "      <th>Z</th>\n",
       "      <th>PAR</th>\n",
       "      <th>SA</th>\n",
       "      <th>CT</th>\n",
       "      <th>dtUTC</th>\n",
       "      <th>j</th>\n",
       "      <th>i</th>\n",
       "      <th>mod_PAR</th>\n",
       "      <th>mod_vosaline</th>\n",
       "      <th>mod_votemper</th>\n",
       "      <th>k</th>\n",
       "      <th>mod_Z</th>\n",
       "    </tr>\n",
       "  </thead>\n",
       "  <tbody>\n",
       "    <tr>\n",
       "      <th>0</th>\n",
       "      <td>2015.0</td>\n",
       "      <td>2.0</td>\n",
       "      <td>11.0</td>\n",
       "      <td>5.296111</td>\n",
       "      <td>48.613333</td>\n",
       "      <td>-123.243833</td>\n",
       "      <td>1.983099</td>\n",
       "      <td>0.2</td>\n",
       "      <td>29.849611</td>\n",
       "      <td>8.942753</td>\n",
       "      <td>2015-02-11 05:17:46</td>\n",
       "      <td>328</td>\n",
       "      <td>240</td>\n",
       "      <td>0.0</td>\n",
       "      <td>29.437077</td>\n",
       "      <td>9.076343</td>\n",
       "      <td>1</td>\n",
       "      <td>1.500003</td>\n",
       "    </tr>\n",
       "    <tr>\n",
       "      <th>1</th>\n",
       "      <td>2015.0</td>\n",
       "      <td>2.0</td>\n",
       "      <td>11.0</td>\n",
       "      <td>5.296111</td>\n",
       "      <td>48.613333</td>\n",
       "      <td>-123.243833</td>\n",
       "      <td>2.974641</td>\n",
       "      <td>0.1</td>\n",
       "      <td>29.852177</td>\n",
       "      <td>8.942511</td>\n",
       "      <td>2015-02-11 05:17:46</td>\n",
       "      <td>328</td>\n",
       "      <td>240</td>\n",
       "      <td>0.0</td>\n",
       "      <td>29.539558</td>\n",
       "      <td>9.086275</td>\n",
       "      <td>2</td>\n",
       "      <td>2.500011</td>\n",
       "    </tr>\n",
       "    <tr>\n",
       "      <th>2</th>\n",
       "      <td>2015.0</td>\n",
       "      <td>2.0</td>\n",
       "      <td>11.0</td>\n",
       "      <td>5.296111</td>\n",
       "      <td>48.613333</td>\n",
       "      <td>-123.243833</td>\n",
       "      <td>3.966178</td>\n",
       "      <td>0.1</td>\n",
       "      <td>29.869012</td>\n",
       "      <td>8.941135</td>\n",
       "      <td>2015-02-11 05:17:46</td>\n",
       "      <td>328</td>\n",
       "      <td>240</td>\n",
       "      <td>0.0</td>\n",
       "      <td>29.665234</td>\n",
       "      <td>9.094213</td>\n",
       "      <td>3</td>\n",
       "      <td>3.500031</td>\n",
       "    </tr>\n",
       "    <tr>\n",
       "      <th>3</th>\n",
       "      <td>2015.0</td>\n",
       "      <td>2.0</td>\n",
       "      <td>11.0</td>\n",
       "      <td>5.296111</td>\n",
       "      <td>48.613333</td>\n",
       "      <td>-123.243833</td>\n",
       "      <td>4.957711</td>\n",
       "      <td>0.0</td>\n",
       "      <td>29.915690</td>\n",
       "      <td>8.936661</td>\n",
       "      <td>2015-02-11 05:17:46</td>\n",
       "      <td>328</td>\n",
       "      <td>240</td>\n",
       "      <td>0.0</td>\n",
       "      <td>29.739351</td>\n",
       "      <td>9.096522</td>\n",
       "      <td>4</td>\n",
       "      <td>4.500071</td>\n",
       "    </tr>\n",
       "    <tr>\n",
       "      <th>4</th>\n",
       "      <td>2015.0</td>\n",
       "      <td>2.0</td>\n",
       "      <td>11.0</td>\n",
       "      <td>5.296111</td>\n",
       "      <td>48.613333</td>\n",
       "      <td>-123.243833</td>\n",
       "      <td>5.949239</td>\n",
       "      <td>0.0</td>\n",
       "      <td>29.913935</td>\n",
       "      <td>8.936489</td>\n",
       "      <td>2015-02-11 05:17:46</td>\n",
       "      <td>328</td>\n",
       "      <td>240</td>\n",
       "      <td>0.0</td>\n",
       "      <td>29.781431</td>\n",
       "      <td>9.099732</td>\n",
       "      <td>5</td>\n",
       "      <td>5.500151</td>\n",
       "    </tr>\n",
       "    <tr>\n",
       "      <th>...</th>\n",
       "      <td>...</td>\n",
       "      <td>...</td>\n",
       "      <td>...</td>\n",
       "      <td>...</td>\n",
       "      <td>...</td>\n",
       "      <td>...</td>\n",
       "      <td>...</td>\n",
       "      <td>...</td>\n",
       "      <td>...</td>\n",
       "      <td>...</td>\n",
       "      <td>...</td>\n",
       "      <td>...</td>\n",
       "      <td>...</td>\n",
       "      <td>...</td>\n",
       "      <td>...</td>\n",
       "      <td>...</td>\n",
       "      <td>...</td>\n",
       "      <td>...</td>\n",
       "    </tr>\n",
       "    <tr>\n",
       "      <th>203053</th>\n",
       "      <td>2017.0</td>\n",
       "      <td>10.0</td>\n",
       "      <td>9.0</td>\n",
       "      <td>8.238889</td>\n",
       "      <td>49.238333</td>\n",
       "      <td>-123.845667</td>\n",
       "      <td>244.800000</td>\n",
       "      <td>0.0</td>\n",
       "      <td>31.318198</td>\n",
       "      <td>9.686366</td>\n",
       "      <td>2017-10-09 08:14:20</td>\n",
       "      <td>492</td>\n",
       "      <td>230</td>\n",
       "      <td>0.0</td>\n",
       "      <td>31.414436</td>\n",
       "      <td>9.368121</td>\n",
       "      <td>32</td>\n",
       "      <td>253.066635</td>\n",
       "    </tr>\n",
       "    <tr>\n",
       "      <th>203054</th>\n",
       "      <td>2017.0</td>\n",
       "      <td>10.0</td>\n",
       "      <td>9.0</td>\n",
       "      <td>8.238889</td>\n",
       "      <td>49.238333</td>\n",
       "      <td>-123.845667</td>\n",
       "      <td>245.800000</td>\n",
       "      <td>0.0</td>\n",
       "      <td>31.318619</td>\n",
       "      <td>9.687753</td>\n",
       "      <td>2017-10-09 08:14:20</td>\n",
       "      <td>492</td>\n",
       "      <td>230</td>\n",
       "      <td>0.0</td>\n",
       "      <td>31.414436</td>\n",
       "      <td>9.368121</td>\n",
       "      <td>32</td>\n",
       "      <td>253.066635</td>\n",
       "    </tr>\n",
       "    <tr>\n",
       "      <th>203055</th>\n",
       "      <td>2017.0</td>\n",
       "      <td>10.0</td>\n",
       "      <td>9.0</td>\n",
       "      <td>8.238889</td>\n",
       "      <td>49.238333</td>\n",
       "      <td>-123.845667</td>\n",
       "      <td>246.700000</td>\n",
       "      <td>0.0</td>\n",
       "      <td>31.318937</td>\n",
       "      <td>9.688650</td>\n",
       "      <td>2017-10-09 08:14:20</td>\n",
       "      <td>492</td>\n",
       "      <td>230</td>\n",
       "      <td>0.0</td>\n",
       "      <td>31.414436</td>\n",
       "      <td>9.368121</td>\n",
       "      <td>32</td>\n",
       "      <td>253.066635</td>\n",
       "    </tr>\n",
       "    <tr>\n",
       "      <th>203056</th>\n",
       "      <td>2017.0</td>\n",
       "      <td>10.0</td>\n",
       "      <td>9.0</td>\n",
       "      <td>8.238889</td>\n",
       "      <td>49.238333</td>\n",
       "      <td>-123.845667</td>\n",
       "      <td>247.900000</td>\n",
       "      <td>0.0</td>\n",
       "      <td>31.318758</td>\n",
       "      <td>9.687919</td>\n",
       "      <td>2017-10-09 08:14:20</td>\n",
       "      <td>492</td>\n",
       "      <td>230</td>\n",
       "      <td>0.0</td>\n",
       "      <td>31.414436</td>\n",
       "      <td>9.368121</td>\n",
       "      <td>32</td>\n",
       "      <td>253.066635</td>\n",
       "    </tr>\n",
       "    <tr>\n",
       "      <th>203057</th>\n",
       "      <td>2017.0</td>\n",
       "      <td>10.0</td>\n",
       "      <td>9.0</td>\n",
       "      <td>8.238889</td>\n",
       "      <td>49.238333</td>\n",
       "      <td>-123.845667</td>\n",
       "      <td>248.700000</td>\n",
       "      <td>0.0</td>\n",
       "      <td>31.318674</td>\n",
       "      <td>9.688223</td>\n",
       "      <td>2017-10-09 08:14:20</td>\n",
       "      <td>492</td>\n",
       "      <td>230</td>\n",
       "      <td>0.0</td>\n",
       "      <td>31.414436</td>\n",
       "      <td>9.368121</td>\n",
       "      <td>32</td>\n",
       "      <td>253.066635</td>\n",
       "    </tr>\n",
       "  </tbody>\n",
       "</table>\n",
       "<p>201702 rows × 18 columns</p>\n",
       "</div>"
      ],
      "text/plain": [
       "          Year  Month   Day      Hour        Lat         Lon           Z  PAR  \\\n",
       "0       2015.0    2.0  11.0  5.296111  48.613333 -123.243833    1.983099  0.2   \n",
       "1       2015.0    2.0  11.0  5.296111  48.613333 -123.243833    2.974641  0.1   \n",
       "2       2015.0    2.0  11.0  5.296111  48.613333 -123.243833    3.966178  0.1   \n",
       "3       2015.0    2.0  11.0  5.296111  48.613333 -123.243833    4.957711  0.0   \n",
       "4       2015.0    2.0  11.0  5.296111  48.613333 -123.243833    5.949239  0.0   \n",
       "...        ...    ...   ...       ...        ...         ...         ...  ...   \n",
       "203053  2017.0   10.0   9.0  8.238889  49.238333 -123.845667  244.800000  0.0   \n",
       "203054  2017.0   10.0   9.0  8.238889  49.238333 -123.845667  245.800000  0.0   \n",
       "203055  2017.0   10.0   9.0  8.238889  49.238333 -123.845667  246.700000  0.0   \n",
       "203056  2017.0   10.0   9.0  8.238889  49.238333 -123.845667  247.900000  0.0   \n",
       "203057  2017.0   10.0   9.0  8.238889  49.238333 -123.845667  248.700000  0.0   \n",
       "\n",
       "               SA        CT               dtUTC    j    i  mod_PAR  \\\n",
       "0       29.849611  8.942753 2015-02-11 05:17:46  328  240      0.0   \n",
       "1       29.852177  8.942511 2015-02-11 05:17:46  328  240      0.0   \n",
       "2       29.869012  8.941135 2015-02-11 05:17:46  328  240      0.0   \n",
       "3       29.915690  8.936661 2015-02-11 05:17:46  328  240      0.0   \n",
       "4       29.913935  8.936489 2015-02-11 05:17:46  328  240      0.0   \n",
       "...           ...       ...                 ...  ...  ...      ...   \n",
       "203053  31.318198  9.686366 2017-10-09 08:14:20  492  230      0.0   \n",
       "203054  31.318619  9.687753 2017-10-09 08:14:20  492  230      0.0   \n",
       "203055  31.318937  9.688650 2017-10-09 08:14:20  492  230      0.0   \n",
       "203056  31.318758  9.687919 2017-10-09 08:14:20  492  230      0.0   \n",
       "203057  31.318674  9.688223 2017-10-09 08:14:20  492  230      0.0   \n",
       "\n",
       "        mod_vosaline  mod_votemper   k       mod_Z  \n",
       "0          29.437077      9.076343   1    1.500003  \n",
       "1          29.539558      9.086275   2    2.500011  \n",
       "2          29.665234      9.094213   3    3.500031  \n",
       "3          29.739351      9.096522   4    4.500071  \n",
       "4          29.781431      9.099732   5    5.500151  \n",
       "...              ...           ...  ..         ...  \n",
       "203053     31.414436      9.368121  32  253.066635  \n",
       "203054     31.414436      9.368121  32  253.066635  \n",
       "203055     31.414436      9.368121  32  253.066635  \n",
       "203056     31.414436      9.368121  32  253.066635  \n",
       "203057     31.414436      9.368121  32  253.066635  \n",
       "\n",
       "[201702 rows x 18 columns]"
      ]
     },
     "execution_count": 29,
     "metadata": {},
     "output_type": "execute_result"
    }
   ],
   "source": [
    "data"
   ]
  },
  {
   "cell_type": "code",
   "execution_count": 30,
   "metadata": {},
   "outputs": [
    {
     "data": {
      "text/plain": [
       "[<matplotlib.lines.Line2D at 0x7f18b216e160>]"
      ]
     },
     "execution_count": 30,
     "metadata": {},
     "output_type": "execute_result"
    },
    {
     "data": {
      "image/png": "[encoded data removed]",
      "text/plain": [
       "<Figure size 432x288 with 1 Axes>"
      ]
     },
     "metadata": {
      "needs_background": "light"
     },
     "output_type": "display_data"
    }
   ],
   "source": [
    "plt.plot(data['mod_PAR'],data['PAR'],'k.',ms=1)"
   ]
  },
  {
   "cell_type": "code",
   "execution_count": 32,
   "metadata": {},
   "outputs": [
    {
     "data": {
      "image/png": "[encoded data removed]",
      "text/plain": [
       "<Figure size 360x360 with 1 Axes>"
      ]
     },
     "metadata": {
      "needs_background": "light"
     },
     "output_type": "display_data"
    }
   ],
   "source": [
    "ii=(data['mod_PAR']>=0)&(data['PAR']>=0)\n",
    "fig,ax=plt.subplots(1,1,figsize=(5,5))\n",
    "xx=data.loc[ii,['mod_PAR']].values\n",
    "yy=data.loc[ii,['PAR']].values\n",
    "ax.hist2d(xx[:,0],yy[:,0],bins=100,cmin=0,cmax=50);"
   ]
  },
  {
   "cell_type": "code",
   "execution_count": 33,
   "metadata": {},
   "outputs": [
    {
     "data": {
      "text/plain": [
       "Text(0.5, 1.0, 'PAR Direct Comparison: HC201812')"
      ]
     },
     "execution_count": 33,
     "metadata": {},
     "output_type": "execute_result"
    },
    {
     "data": {
      "image/png": "[encoded data removed]",
      "text/plain": [
       "<Figure size 360x360 with 2 Axes>"
      ]
     },
     "metadata": {
      "needs_background": "light"
     },
     "output_type": "display_data"
    }
   ],
   "source": [
    "ii=(data['mod_PAR']>=0)&(data['PAR']>=0)\n",
    "fig,ax=plt.subplots(1,1,figsize=(5,5))\n",
    "yy=data.loc[ii,['mod_PAR']].values\n",
    "xx=data.loc[ii,['PAR']].values\n",
    "_,_,_,m=ax.hist2d(np.log10(xx[:,0]+1),np.log10(yy[:,0]+1),bins=100,norm=mpl.colors.LogNorm(), cmap=mpl.cm.gist_rainbow_r);\n",
    "fig.colorbar(m,ax=ax)\n",
    "ax.set_xlim(0,4)\n",
    "ax.set_ylim(0,4)\n",
    "ax.set_aspect(1)\n",
    "ax.plot((0,4),(0,4),'k-')\n",
    "ax.set_xlabel('obs')\n",
    "ax.set_ylabel('model')\n",
    "ax.set_title('PAR Direct Comparison: HC201812')"
   ]
  },
  {
   "cell_type": "code",
   "execution_count": 34,
   "metadata": {},
   "outputs": [
    {
     "data": {
      "text/plain": [
       "Index(['Year', 'Month', 'Day', 'Hour', 'Lat', 'Lon', 'Z', 'PAR', 'SA', 'CT',\n",
       "       'dtUTC', 'j', 'i', 'mod_PAR', 'mod_vosaline', 'mod_votemper', 'k',\n",
       "       'mod_Z'],\n",
       "      dtype='object')"
      ]
     },
     "execution_count": 34,
     "metadata": {},
     "output_type": "execute_result"
    }
   ],
   "source": [
    "data.keys()"
   ]
  },
  {
   "cell_type": "code",
   "execution_count": 35,
   "metadata": {},
   "outputs": [],
   "source": [
    "stas=data.groupby(by=['Year','Month','Day','Lat','Lon'])"
   ]
  },
  {
   "cell_type": "code",
   "execution_count": 36,
   "metadata": {},
   "outputs": [
    {
     "data": {
      "text/plain": [
       "<pandas.core.groupby.generic.DataFrameGroupBy object at 0x7f18afe3a280>"
      ]
     },
     "execution_count": 36,
     "metadata": {},
     "output_type": "execute_result"
    }
   ],
   "source": [
    "stas"
   ]
  },
  {
   "cell_type": "code",
   "execution_count": 19,
   "metadata": {},
   "outputs": [],
   "source": [
    "with nc.Dataset('/results/SalishSea/nowcast-green.201812/01jan16/SalishSea_1h_20160101_20160101_ptrc_T.nc') as ftemp:\n",
    "    deptht=ftemp.variables['deptht'][:]"
   ]
  },
  {
   "cell_type": "code",
   "execution_count": 38,
   "metadata": {},
   "outputs": [
    {
     "data": {
      "text/plain": [
       "5.5001507"
      ]
     },
     "execution_count": 38,
     "metadata": {},
     "output_type": "execute_result"
    }
   ],
   "source": [
    "deptht[5]"
   ]
  },
  {
   "cell_type": "code",
   "execution_count": 20,
   "metadata": {},
   "outputs": [],
   "source": [
    "data['mod_Z']=[deptht[ii] for ii in data['k']]"
   ]
  },
  {
   "cell_type": "code",
   "execution_count": 40,
   "metadata": {},
   "outputs": [
    {
     "data": {
      "text/plain": [
       "Text(0, 0.5, 'Model')"
      ]
     },
     "execution_count": 40,
     "metadata": {},
     "output_type": "execute_result"
    },
    {
     "data": {
      "image/png": "[encoded data removed]",
      "text/plain": [
       "<Figure size 360x360 with 1 Axes>"
      ]
     },
     "metadata": {
      "needs_background": "light"
     },
     "output_type": "display_data"
    }
   ],
   "source": [
    "fig,ax=plt.subplots(1,1,figsize=(5,5))\n",
    "ax.plot(data['Z'],data['mod_Z'],'k.',ms=1)\n",
    "ax.set_xlabel('Obs')\n",
    "ax.set_ylabel('Model')"
   ]
  },
  {
   "cell_type": "code",
   "execution_count": 44,
   "metadata": {},
   "outputs": [
    {
     "data": {
      "text/plain": [
       "Text(0.5, 1.0, 'PAR Direct Comparison Upper 10m: HC201812')"
      ]
     },
     "execution_count": 44,
     "metadata": {},
     "output_type": "execute_result"
    },
    {
     "data": {
      "image/png": "[encoded data removed]",
      "text/plain": [
       "<Figure size 360x360 with 2 Axes>"
      ]
     },
     "metadata": {
      "needs_background": "light"
     },
     "output_type": "display_data"
    }
   ],
   "source": [
    "ii=(data['mod_PAR']>=0)&(data['PAR']>=0)\n",
    "ik=data.k<10\n",
    "fig,ax=plt.subplots(1,1,figsize=(5,5))\n",
    "yy=data.loc[ii&ik,['mod_PAR']].values\n",
    "xx=data.loc[ii&ik,['PAR']].values\n",
    "yz=data.loc[ii&ik,['mod_Z']].values\n",
    "xz=data.loc[ii&ik,['Z']].values\n",
    "_,_,_,m=ax.hist2d(np.log10(xx[:,0]+1),np.log10(yy[:,0]+1),bins=100,norm=mpl.colors.LogNorm(), cmap=mpl.cm.gist_rainbow_r);\n",
    "fig.colorbar(m,ax=ax)\n",
    "ax.set_xlim(0,4)\n",
    "ax.set_ylim(0,4)\n",
    "ax.set_aspect(1)\n",
    "ax.plot((0,4),(0,4),'k-')\n",
    "ax.set_xlabel('obs')\n",
    "ax.set_ylabel('model')\n",
    "ax.set_title('PAR Direct Comparison Upper 10m: HC201812')"
   ]
  },
  {
   "cell_type": "code",
   "execution_count": 51,
   "metadata": {},
   "outputs": [
    {
     "data": {
      "text/plain": [
       "Text(0.5, 1.0, 'hist: model z - obs z')"
      ]
     },
     "execution_count": 51,
     "metadata": {},
     "output_type": "execute_result"
    },
    {
     "data": {
      "image/png": "[encoded data removed]",
      "text/plain": [
       "<Figure size 432x288 with 1 Axes>"
      ]
     },
     "metadata": {
      "needs_background": "light"
     },
     "output_type": "display_data"
    }
   ],
   "source": [
    "plt.hist(yz-xz)\n",
    "plt.title('hist: model z - obs z')"
   ]
  },
  {
   "cell_type": "code",
   "execution_count": 49,
   "metadata": {},
   "outputs": [
    {
     "data": {
      "text/plain": [
       "Text(0, 0.5, 'log10(model PAR +1)-log10(obs PAR +1)')"
      ]
     },
     "execution_count": 49,
     "metadata": {},
     "output_type": "execute_result"
    },
    {
     "data": {
      "image/png": "[encoded data removed]",
      "text/plain": [
       "<Figure size 360x360 with 1 Axes>"
      ]
     },
     "metadata": {
      "needs_background": "light"
     },
     "output_type": "display_data"
    }
   ],
   "source": [
    "fig,ax=plt.subplots(1,1,figsize=(5,5))\n",
    "ax.plot(yz-xz,np.log10(yy[:,0]+1)-np.log10(xx[:,0]+1),'k.',ms=1)\n",
    "ax.set_xlabel('Model Z - Obs Z')\n",
    "ax.set_ylabel('log10(model PAR +1)-log10(obs PAR +1)')"
   ]
  },
  {
   "cell_type": "code",
   "execution_count": 53,
   "metadata": {},
   "outputs": [
    {
     "data": {
      "text/plain": [
       "Text(0.5, 1.0, 'PAR Direct Comparison Upper 2m: HC201812')"
      ]
     },
     "execution_count": 53,
     "metadata": {},
     "output_type": "execute_result"
    },
    {
     "data": {
      "image/png": "[encoded data removed]",
      "text/plain": [
       "<Figure size 360x360 with 2 Axes>"
      ]
     },
     "metadata": {
      "needs_background": "light"
     },
     "output_type": "display_data"
    }
   ],
   "source": [
    "ii=(data['mod_PAR']>=0)&(data['PAR']>=0)\n",
    "ik=data.k<2\n",
    "fig,ax=plt.subplots(1,1,figsize=(5,5))\n",
    "yy=data.loc[ii&ik,['mod_PAR']].values\n",
    "xx=data.loc[ii&ik,['PAR']].values\n",
    "yz=data.loc[ii&ik,['mod_Z']].values\n",
    "xz=data.loc[ii&ik,['Z']].values\n",
    "_,_,_,m=ax.hist2d(np.log10(xx[:,0]+1),np.log10(yy[:,0]+1),bins=100,norm=mpl.colors.LogNorm(), cmap=mpl.cm.gist_rainbow_r);\n",
    "fig.colorbar(m,ax=ax)\n",
    "ax.set_xlim(0,4)\n",
    "ax.set_ylim(0,4)\n",
    "ax.set_aspect(1)\n",
    "ax.plot((0,4),(0,4),'k-')\n",
    "ax.set_xlabel('obs')\n",
    "ax.set_ylabel('model')\n",
    "ax.set_title('PAR Direct Comparison Upper 2m: HC201812')"
   ]
  },
  {
   "cell_type": "code",
   "execution_count": 17,
   "metadata": {},
   "outputs": [
    {
     "data": {
      "text/plain": [
       "Index(['ID', 'staFile', 'obsFile', 'Year', 'Month', 'Day', 'Hour', 'Lat',\n",
       "       'Lon', 'Z', 'PAR', 'SA', 'CT', 'dtUTC', 'j', 'i', 'mod_PAR',\n",
       "       'mod_vosaline', 'mod_votemper', 'k'],\n",
       "      dtype='object')"
      ]
     },
     "execution_count": 17,
     "metadata": {},
     "output_type": "execute_result"
    }
   ],
   "source": [
    "data.keys()"
   ]
  },
  {
   "cell_type": "code",
   "execution_count": 48,
   "metadata": {},
   "outputs": [],
   "source": [
    "temp=data.loc[(data['PAR']>10)&(data['mod_PAR']==0)&(data['Z']<3),['dtUTC','Lat','Lon','Z','mod_Z','Hour','staFile','obsFile']]"
   ]
  },
  {
   "cell_type": "code",
   "execution_count": 49,
   "metadata": {},
   "outputs": [
    {
     "data": {
      "text/html": [
       "<div>\n",
       "<style scoped>\n",
       "    .dataframe tbody tr th:only-of-type {\n",
       "        vertical-align: middle;\n",
       "    }\n",
       "\n",
       "    .dataframe tbody tr th {\n",
       "        vertical-align: top;\n",
       "    }\n",
       "\n",
       "    .dataframe thead th {\n",
       "        text-align: right;\n",
       "    }\n",
       "</style>\n",
       "<table border=\"1\" class=\"dataframe\">\n",
       "  <thead>\n",
       "    <tr style=\"text-align: right;\">\n",
       "      <th></th>\n",
       "      <th>dtUTC</th>\n",
       "      <th>Lat</th>\n",
       "      <th>Lon</th>\n",
       "      <th>Z</th>\n",
       "      <th>mod_Z</th>\n",
       "      <th>Hour</th>\n",
       "      <th>staFile</th>\n",
       "      <th>obsFile</th>\n",
       "    </tr>\n",
       "  </thead>\n",
       "  <tbody>\n",
       "    <tr>\n",
       "      <th>141507</th>\n",
       "      <td>2017-04-10 05:28:59</td>\n",
       "      <td>48.183500</td>\n",
       "      <td>-123.318000</td>\n",
       "      <td>1.0</td>\n",
       "      <td>0.500000</td>\n",
       "      <td>5.483056</td>\n",
       "      <td>req20181116/EO UBC November 16, 2018 (2017 dat...</td>\n",
       "      <td>req20181116/EO UBC November 16, 2018 (2017 dat...</td>\n",
       "    </tr>\n",
       "    <tr>\n",
       "      <th>202807</th>\n",
       "      <td>2017-10-09 08:14:20</td>\n",
       "      <td>49.238333</td>\n",
       "      <td>-123.845667</td>\n",
       "      <td>1.3</td>\n",
       "      <td>1.500003</td>\n",
       "      <td>8.238889</td>\n",
       "      <td>req20181116/EO UBC November 16, 2018 (2017 dat...</td>\n",
       "      <td>req20181116/EO UBC November 16, 2018 (2017 dat...</td>\n",
       "    </tr>\n",
       "  </tbody>\n",
       "</table>\n",
       "</div>"
      ],
      "text/plain": [
       "                     dtUTC        Lat         Lon    Z     mod_Z      Hour  \\\n",
       "141507 2017-04-10 05:28:59  48.183500 -123.318000  1.0  0.500000  5.483056   \n",
       "202807 2017-10-09 08:14:20  49.238333 -123.845667  1.3  1.500003  8.238889   \n",
       "\n",
       "                                                  staFile  \\\n",
       "141507  req20181116/EO UBC November 16, 2018 (2017 dat...   \n",
       "202807  req20181116/EO UBC November 16, 2018 (2017 dat...   \n",
       "\n",
       "                                                  obsFile  \n",
       "141507  req20181116/EO UBC November 16, 2018 (2017 dat...  \n",
       "202807  req20181116/EO UBC November 16, 2018 (2017 dat...  "
      ]
     },
     "execution_count": 49,
     "metadata": {},
     "output_type": "execute_result"
    }
   ],
   "source": [
    "temp"
   ]
  },
  {
   "cell_type": "code",
   "execution_count": 50,
   "metadata": {},
   "outputs": [
    {
     "data": {
      "text/plain": [
       "[<matplotlib.lines.Line2D at 0x7f6fc297b4f0>]"
      ]
     },
     "execution_count": 50,
     "metadata": {},
     "output_type": "execute_result"
    },
    {
     "data": {
      "image/png": "[encoded data removed]",
      "text/plain": [
       "<Figure size 1152x72 with 1 Axes>"
      ]
     },
     "metadata": {
      "needs_background": "light"
     },
     "output_type": "display_data"
    }
   ],
   "source": [
    "fig,ax=plt.subplots(1,1,figsize=(16,1))\n",
    "ax.plot(temp['dtUTC'],temp['Z'],'k.')"
   ]
  },
  {
   "cell_type": "code",
   "execution_count": 51,
   "metadata": {},
   "outputs": [
    {
     "data": {
      "text/plain": [
       "(array([1., 0., 0., 0., 0., 0., 0., 0., 0., 1.]),\n",
       " array([5.48305556, 5.75863889, 6.03422222, 6.30980556, 6.58538889,\n",
       "        6.86097222, 7.13655556, 7.41213889, 7.68772222, 7.96330556,\n",
       "        8.23888889]),\n",
       " <a list of 10 Patch objects>)"
      ]
     },
     "execution_count": 51,
     "metadata": {},
     "output_type": "execute_result"
    },
    {
     "data": {
      "image/png": "[encoded data removed]",
      "text/plain": [
       "<Figure size 432x288 with 1 Axes>"
      ]
     },
     "metadata": {
      "needs_background": "light"
     },
     "output_type": "display_data"
    }
   ],
   "source": [
    "plt.hist(temp['Hour'])"
   ]
  },
  {
   "cell_type": "code",
   "execution_count": 52,
   "metadata": {},
   "outputs": [
    {
     "data": {
      "text/plain": [
       "2"
      ]
     },
     "execution_count": 52,
     "metadata": {},
     "output_type": "execute_result"
    }
   ],
   "source": [
    "len(temp)"
   ]
  },
  {
   "cell_type": "code",
   "execution_count": 53,
   "metadata": {},
   "outputs": [
    {
     "data": {
      "text/plain": [
       "array(['req20181116/EO UBC November 16, 2018 (2017 data)/2017-63-0017.ctd',\n",
       "       'req20181116/EO UBC November 16, 2018 (2017 data)/2017-65-0125.ctd'],\n",
       "      dtype=object)"
      ]
     },
     "execution_count": 53,
     "metadata": {},
     "output_type": "execute_result"
    }
   ],
   "source": [
    "np.unique(temp['staFile'])"
   ]
  },
  {
   "cell_type": "code",
   "execution_count": 54,
   "metadata": {},
   "outputs": [
    {
     "data": {
      "text/plain": [
       "array(['req20181116/EO UBC November 16, 2018 (2017 data)/2017-63-0017.ctd',\n",
       "       'req20181116/EO UBC November 16, 2018 (2017 data)/2017-65-0125.ctd'],\n",
       "      dtype=object)"
      ]
     },
     "execution_count": 54,
     "metadata": {},
     "output_type": "execute_result"
    }
   ],
   "source": [
    "np.unique(temp['obsFile'])"
   ]
  },
  {
   "cell_type": "code",
   "execution_count": 55,
   "metadata": {},
   "outputs": [
    {
     "data": {
      "text/plain": [
       "(0, 10000)"
      ]
     },
     "execution_count": 55,
     "metadata": {},
     "output_type": "execute_result"
    },
    {
     "data": {
      "image/png": "[encoded data removed]",
      "text/plain": [
       "<Figure size 432x288 with 1 Axes>"
      ]
     },
     "metadata": {
      "needs_background": "light"
     },
     "output_type": "display_data"
    }
   ],
   "source": [
    "plt.hist(np.log10(data['PAR']+1),200);\n",
    "plt.ylim(0,10000)"
   ]
  },
  {
   "cell_type": "code",
   "execution_count": 38,
   "metadata": {},
   "outputs": [
    {
     "data": {
      "text/plain": [
       "2.1622776601683795"
      ]
     },
     "execution_count": 38,
     "metadata": {},
     "output_type": "execute_result"
    }
   ],
   "source": [
    "10**.5-1"
   ]
  },
  {
   "cell_type": "code",
   "execution_count": 56,
   "metadata": {},
   "outputs": [
    {
     "data": {
      "text/html": [
       "<div>\n",
       "<style scoped>\n",
       "    .dataframe tbody tr th:only-of-type {\n",
       "        vertical-align: middle;\n",
       "    }\n",
       "\n",
       "    .dataframe tbody tr th {\n",
       "        vertical-align: top;\n",
       "    }\n",
       "\n",
       "    .dataframe thead th {\n",
       "        text-align: right;\n",
       "    }\n",
       "</style>\n",
       "<table border=\"1\" class=\"dataframe\">\n",
       "  <thead>\n",
       "    <tr style=\"text-align: right;\">\n",
       "      <th></th>\n",
       "      <th>dtUTC</th>\n",
       "      <th>PAR</th>\n",
       "    </tr>\n",
       "  </thead>\n",
       "  <tbody>\n",
       "    <tr>\n",
       "      <th>141507</th>\n",
       "      <td>2017-04-10 05:28:59</td>\n",
       "      <td>11.3</td>\n",
       "    </tr>\n",
       "    <tr>\n",
       "      <th>141508</th>\n",
       "      <td>2017-04-10 05:28:59</td>\n",
       "      <td>6.6</td>\n",
       "    </tr>\n",
       "    <tr>\n",
       "      <th>141509</th>\n",
       "      <td>2017-04-10 05:28:59</td>\n",
       "      <td>1.7</td>\n",
       "    </tr>\n",
       "    <tr>\n",
       "      <th>141510</th>\n",
       "      <td>2017-04-10 05:28:59</td>\n",
       "      <td>1.3</td>\n",
       "    </tr>\n",
       "    <tr>\n",
       "      <th>141511</th>\n",
       "      <td>2017-04-10 05:28:59</td>\n",
       "      <td>0.9</td>\n",
       "    </tr>\n",
       "    <tr>\n",
       "      <th>...</th>\n",
       "      <td>...</td>\n",
       "      <td>...</td>\n",
       "    </tr>\n",
       "    <tr>\n",
       "      <th>141587</th>\n",
       "      <td>2017-04-10 05:28:59</td>\n",
       "      <td>0.0</td>\n",
       "    </tr>\n",
       "    <tr>\n",
       "      <th>141588</th>\n",
       "      <td>2017-04-10 05:28:59</td>\n",
       "      <td>0.0</td>\n",
       "    </tr>\n",
       "    <tr>\n",
       "      <th>141589</th>\n",
       "      <td>2017-04-10 05:28:59</td>\n",
       "      <td>0.0</td>\n",
       "    </tr>\n",
       "    <tr>\n",
       "      <th>141590</th>\n",
       "      <td>2017-04-10 05:28:59</td>\n",
       "      <td>0.0</td>\n",
       "    </tr>\n",
       "    <tr>\n",
       "      <th>141591</th>\n",
       "      <td>2017-04-10 05:28:59</td>\n",
       "      <td>0.0</td>\n",
       "    </tr>\n",
       "  </tbody>\n",
       "</table>\n",
       "<p>85 rows × 2 columns</p>\n",
       "</div>"
      ],
      "text/plain": [
       "                     dtUTC   PAR\n",
       "141507 2017-04-10 05:28:59  11.3\n",
       "141508 2017-04-10 05:28:59   6.6\n",
       "141509 2017-04-10 05:28:59   1.7\n",
       "141510 2017-04-10 05:28:59   1.3\n",
       "141511 2017-04-10 05:28:59   0.9\n",
       "...                    ...   ...\n",
       "141587 2017-04-10 05:28:59   0.0\n",
       "141588 2017-04-10 05:28:59   0.0\n",
       "141589 2017-04-10 05:28:59   0.0\n",
       "141590 2017-04-10 05:28:59   0.0\n",
       "141591 2017-04-10 05:28:59   0.0\n",
       "\n",
       "[85 rows x 2 columns]"
      ]
     },
     "execution_count": 56,
     "metadata": {},
     "output_type": "execute_result"
    }
   ],
   "source": [
    "data.loc[data['obsFile']=='req20181116/EO UBC November 16, 2018 (2017 data)/2017-63-0017.ctd',['dtUTC','PAR']]"
   ]
  },
  {
   "cell_type": "markdown",
   "metadata": {},
   "source": [
    "nighttime; probably moonlight"
   ]
  },
  {
   "cell_type": "code",
   "execution_count": null,
   "metadata": {},
   "outputs": [],
   "source": []
  }
 ],
 "metadata": {
  "kernelspec": {
   "display_name": "Python (py38_ct)",
   "language": "python",
   "name": "py38_ct"
  },
  "language_info": {
   "codemirror_mode": {
    "name": "ipython",
    "version": 3
   },
   "file_extension": ".py",
   "mimetype": "text/x-python",
   "name": "python",
   "nbconvert_exporter": "python",
   "pygments_lexer": "ipython3",
   "version": "3.8.2"
  }
 },
 "nbformat": 4,
 "nbformat_minor": 2
}
