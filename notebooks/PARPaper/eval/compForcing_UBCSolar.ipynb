{
 "cells": [
  {
   "cell_type": "code",
   "execution_count": 2,
   "metadata": {},
   "outputs": [],
   "source": [
    "import os\n",
    "from os.path import isfile\n",
    "import pandas as pd\n",
    "import netCDF4 as nc\n",
    "import datetime as dt\n",
    "from salishsea_tools import evaltools as et, viz_tools, geo_tools\n",
    "import datetime as dt\n",
    "import glob\n",
    "import gsw\n",
    "import pickle\n",
    "import matplotlib as mpl\n",
    "import cmocean\n",
    "from scipy import stats as spst\n",
    "import scipy.optimize as scopt\n",
    "import matplotlib.pyplot as plt\n",
    "import numpy as np\n",
    "from pandas.plotting import register_matplotlib_converters\n",
    "register_matplotlib_converters()\n",
    "%matplotlib inline"
   ]
  },
  {
   "cell_type": "code",
   "execution_count": 3,
   "metadata": {},
   "outputs": [],
   "source": [
    "fpath='/ocean/eolson/MEOPAR/obs/UBCSolar'\n",
    "flist=np.sort([el for el in os.listdir(fpath) if el.endswith('.txt')])"
   ]
  },
  {
   "cell_type": "code",
   "execution_count": 4,
   "metadata": {},
   "outputs": [],
   "source": [
    "dflist=list()\n",
    "for ifile in flist:\n",
    "    dflist.append(pd.read_csv(os.path.join(fpath,ifile),names=['YYYYMMDD','HHMMSS','solar_Wm2','Tem_degC'],\n",
    "               sep=' ',skipinitialspace=True,dtype={0:str,1:str,2:float,3:float}))\n",
    "df=pd.concat(dflist,ignore_index=True)"
   ]
  },
  {
   "cell_type": "code",
   "execution_count": 5,
   "metadata": {},
   "outputs": [],
   "source": [
    "df['dtUTC']=[dt.datetime.strptime((dd+'{:0>6}'.format(tt)),'%Y%m%d%H%M%S') \\\n",
    "             for dd,tt in zip(df['YYYYMMDD'],df['HHMMSS'])]"
   ]
  },
  {
   "cell_type": "code",
   "execution_count": 6,
   "metadata": {},
   "outputs": [],
   "source": [
    "meshPath='/results/forcing/atmospheric/GEM2.5/operational/ops_y2015m01d01.nc'\n",
    "with nc.Dataset(meshPath) as fmesh:\n",
    "    navlon=np.squeeze(np.copy(fmesh.variables['nav_lon'][:,:]-360))\n",
    "    navlat=np.squeeze(np.copy(fmesh.variables['nav_lat'][:,:]))\n",
    "jj,ii = geo_tools.find_closest_model_point(-123.252380, 49.263282, navlon,navlat,grid='GEM2.5')\n",
    "df['i']=ii\n",
    "df['j']=jj"
   ]
  },
  {
   "cell_type": "code",
   "execution_count": 7,
   "metadata": {},
   "outputs": [],
   "source": [
    "flen=1\n",
    "namfmt='wind'\n",
    "#varmap={'N':'nitrate','Si':'silicon','Ammonium':'ammonium'}\n",
    "filemap={'solar':'ops',}\n",
    "#gridmap={'nitrate':'tmask','silicon':'tmask','ammonium':'tmask'}\n",
    "fdict={'ops':1,}\n",
    "PATH='/results/forcing/atmospheric/GEM2.5/operational/'\n",
    "dstart=dt.datetime(2014,9,12)\n",
    "dend=df['dtUTC'].max()"
   ]
  },
  {
   "cell_type": "code",
   "execution_count": 8,
   "metadata": {},
   "outputs": [
    {
     "name": "stdout",
     "output_type": "stream",
     "text": [
      "ftype=ops, are you sure? (if yes, add to list)\n",
      "progress: 0.0%\n",
      "progress: 2.378336211120149%\n",
      "progress: 4.756672422240298%\n",
      "progress: 7.135008633360447%\n",
      "progress: 9.513344844480596%\n",
      "progress: 11.891681055600746%\n",
      "progress: 14.270017266720894%\n",
      "progress: 16.64835347784104%\n",
      "progress: 19.02668968896119%\n",
      "progress: 21.40502590008134%\n",
      "progress: 23.78336211120149%\n",
      "progress: 26.161698322321637%\n",
      "progress: 28.540034533441787%\n",
      "progress: 30.918370744561933%\n",
      "progress: 33.29670695568208%\n",
      "progress: 35.67504316680223%\n",
      "progress: 38.05337937792238%\n",
      "progress: 40.431715589042525%\n",
      "progress: 42.81005180016268%\n",
      "progress: 45.188388011282825%\n",
      "progress: 47.56672422240298%\n",
      "progress: 49.945060433523125%\n",
      "progress: 52.323396644643275%\n",
      "progress: 54.70173285576342%\n",
      "progress: 57.080069066883574%\n",
      "progress: 59.458405278003724%\n",
      "progress: 61.83674148912387%\n",
      "progress: 64.21507770024402%\n",
      "progress: 66.59341391136417%\n",
      "progress: 68.97175012248431%\n",
      "progress: 71.35008633360447%\n",
      "progress: 73.72842254472461%\n",
      "progress: 76.10675875584477%\n",
      "progress: 78.48509496696491%\n",
      "progress: 80.86343117808505%\n",
      "progress: 83.24176738920521%\n",
      "progress: 85.62010360032536%\n",
      "progress: 87.99843981144551%\n",
      "progress: 90.37677602256565%\n",
      "progress: 92.7551122336858%\n",
      "progress: 95.13344844480596%\n",
      "progress: 97.5117846559261%\n",
      "progress: 99.89012086704625%\n"
     ]
    }
   ],
   "source": [
    "data=et.matchData(df,filemap,fdict,dstart,dend,namfmt,PATH,flen,maskName='ops',sdim=2,preIndexed=True)"
   ]
  },
  {
   "cell_type": "code",
   "execution_count": 9,
   "metadata": {},
   "outputs": [
    {
     "data": {
      "text/html": [
       "<div>\n",
       "<style scoped>\n",
       "    .dataframe tbody tr th:only-of-type {\n",
       "        vertical-align: middle;\n",
       "    }\n",
       "\n",
       "    .dataframe tbody tr th {\n",
       "        vertical-align: top;\n",
       "    }\n",
       "\n",
       "    .dataframe thead th {\n",
       "        text-align: right;\n",
       "    }\n",
       "</style>\n",
       "<table border=\"1\" class=\"dataframe\">\n",
       "  <thead>\n",
       "    <tr style=\"text-align: right;\">\n",
       "      <th></th>\n",
       "      <th>YYYYMMDD</th>\n",
       "      <th>HHMMSS</th>\n",
       "      <th>solar_Wm2</th>\n",
       "      <th>Tem_degC</th>\n",
       "      <th>dtUTC</th>\n",
       "      <th>i</th>\n",
       "      <th>j</th>\n",
       "      <th>mod_solar</th>\n",
       "    </tr>\n",
       "  </thead>\n",
       "  <tbody>\n",
       "    <tr>\n",
       "      <th>0</th>\n",
       "      <td>20140912</td>\n",
       "      <td>0</td>\n",
       "      <td>385.0</td>\n",
       "      <td>18.8</td>\n",
       "      <td>2014-09-12 00:00:00</td>\n",
       "      <td>154</td>\n",
       "      <td>143</td>\n",
       "      <td>474.885834</td>\n",
       "    </tr>\n",
       "    <tr>\n",
       "      <th>1</th>\n",
       "      <td>20140912</td>\n",
       "      <td>1500</td>\n",
       "      <td>350.0</td>\n",
       "      <td>18.8</td>\n",
       "      <td>2014-09-12 00:15:00</td>\n",
       "      <td>154</td>\n",
       "      <td>143</td>\n",
       "      <td>474.885834</td>\n",
       "    </tr>\n",
       "    <tr>\n",
       "      <th>2</th>\n",
       "      <td>20140912</td>\n",
       "      <td>3000</td>\n",
       "      <td>312.0</td>\n",
       "      <td>18.9</td>\n",
       "      <td>2014-09-12 00:30:00</td>\n",
       "      <td>154</td>\n",
       "      <td>143</td>\n",
       "      <td>474.885834</td>\n",
       "    </tr>\n",
       "    <tr>\n",
       "      <th>3</th>\n",
       "      <td>20140912</td>\n",
       "      <td>4500</td>\n",
       "      <td>271.0</td>\n",
       "      <td>18.8</td>\n",
       "      <td>2014-09-12 00:45:00</td>\n",
       "      <td>154</td>\n",
       "      <td>143</td>\n",
       "      <td>474.885834</td>\n",
       "    </tr>\n",
       "    <tr>\n",
       "      <th>4</th>\n",
       "      <td>20140912</td>\n",
       "      <td>10000</td>\n",
       "      <td>230.0</td>\n",
       "      <td>18.7</td>\n",
       "      <td>2014-09-12 01:00:00</td>\n",
       "      <td>154</td>\n",
       "      <td>143</td>\n",
       "      <td>305.794434</td>\n",
       "    </tr>\n",
       "    <tr>\n",
       "      <th>...</th>\n",
       "      <td>...</td>\n",
       "      <td>...</td>\n",
       "      <td>...</td>\n",
       "      <td>...</td>\n",
       "      <td>...</td>\n",
       "      <td>...</td>\n",
       "      <td>...</td>\n",
       "      <td>...</td>\n",
       "    </tr>\n",
       "    <tr>\n",
       "      <th>210226</th>\n",
       "      <td>20201008</td>\n",
       "      <td>224500</td>\n",
       "      <td>300.0</td>\n",
       "      <td>16.4</td>\n",
       "      <td>2020-10-08 22:45:00</td>\n",
       "      <td>154</td>\n",
       "      <td>143</td>\n",
       "      <td>106.828194</td>\n",
       "    </tr>\n",
       "    <tr>\n",
       "      <th>210227</th>\n",
       "      <td>20201008</td>\n",
       "      <td>230000</td>\n",
       "      <td>187.0</td>\n",
       "      <td>16.4</td>\n",
       "      <td>2020-10-08 23:00:00</td>\n",
       "      <td>154</td>\n",
       "      <td>143</td>\n",
       "      <td>124.028473</td>\n",
       "    </tr>\n",
       "    <tr>\n",
       "      <th>210228</th>\n",
       "      <td>20201008</td>\n",
       "      <td>231500</td>\n",
       "      <td>195.0</td>\n",
       "      <td>0.0</td>\n",
       "      <td>2020-10-08 23:15:00</td>\n",
       "      <td>154</td>\n",
       "      <td>143</td>\n",
       "      <td>124.028473</td>\n",
       "    </tr>\n",
       "    <tr>\n",
       "      <th>210229</th>\n",
       "      <td>20201008</td>\n",
       "      <td>233000</td>\n",
       "      <td>154.0</td>\n",
       "      <td>0.0</td>\n",
       "      <td>2020-10-08 23:30:00</td>\n",
       "      <td>154</td>\n",
       "      <td>143</td>\n",
       "      <td>124.028473</td>\n",
       "    </tr>\n",
       "    <tr>\n",
       "      <th>210230</th>\n",
       "      <td>20201008</td>\n",
       "      <td>234500</td>\n",
       "      <td>126.0</td>\n",
       "      <td>-0.0</td>\n",
       "      <td>2020-10-08 23:45:00</td>\n",
       "      <td>154</td>\n",
       "      <td>143</td>\n",
       "      <td>124.028473</td>\n",
       "    </tr>\n",
       "  </tbody>\n",
       "</table>\n",
       "<p>210231 rows × 8 columns</p>\n",
       "</div>"
      ],
      "text/plain": [
       "        YYYYMMDD  HHMMSS  solar_Wm2  Tem_degC               dtUTC    i    j  \\\n",
       "0       20140912       0      385.0      18.8 2014-09-12 00:00:00  154  143   \n",
       "1       20140912    1500      350.0      18.8 2014-09-12 00:15:00  154  143   \n",
       "2       20140912    3000      312.0      18.9 2014-09-12 00:30:00  154  143   \n",
       "3       20140912    4500      271.0      18.8 2014-09-12 00:45:00  154  143   \n",
       "4       20140912   10000      230.0      18.7 2014-09-12 01:00:00  154  143   \n",
       "...          ...     ...        ...       ...                 ...  ...  ...   \n",
       "210226  20201008  224500      300.0      16.4 2020-10-08 22:45:00  154  143   \n",
       "210227  20201008  230000      187.0      16.4 2020-10-08 23:00:00  154  143   \n",
       "210228  20201008  231500      195.0       0.0 2020-10-08 23:15:00  154  143   \n",
       "210229  20201008  233000      154.0       0.0 2020-10-08 23:30:00  154  143   \n",
       "210230  20201008  234500      126.0      -0.0 2020-10-08 23:45:00  154  143   \n",
       "\n",
       "         mod_solar  \n",
       "0       474.885834  \n",
       "1       474.885834  \n",
       "2       474.885834  \n",
       "3       474.885834  \n",
       "4       305.794434  \n",
       "...            ...  \n",
       "210226  106.828194  \n",
       "210227  124.028473  \n",
       "210228  124.028473  \n",
       "210229  124.028473  \n",
       "210230  124.028473  \n",
       "\n",
       "[210231 rows x 8 columns]"
      ]
     },
     "execution_count": 9,
     "metadata": {},
     "output_type": "execute_result"
    }
   ],
   "source": [
    "data"
   ]
  },
  {
   "cell_type": "code",
   "execution_count": 10,
   "metadata": {},
   "outputs": [
    {
     "data": {
      "text/plain": [
       "[<matplotlib.lines.Line2D at 0x7f9bc8895340>]"
      ]
     },
     "execution_count": 10,
     "metadata": {},
     "output_type": "execute_result"
    },
    {
     "data": {
      "image/png": "[encoded data removed]",
      "text/plain": [
       "<Figure size 432x432 with 1 Axes>"
      ]
     },
     "metadata": {
      "needs_background": "light"
     },
     "output_type": "display_data"
    }
   ],
   "source": [
    "fig,ax=plt.subplots(1,1,figsize=(6,6))\n",
    "ax.plot(data['solar_Wm2'],data['mod_solar'],'k.')"
   ]
  },
  {
   "cell_type": "code",
   "execution_count": 11,
   "metadata": {},
   "outputs": [
    {
     "data": {
      "text/plain": [
       "(210231, 2)"
      ]
     },
     "execution_count": 11,
     "metadata": {},
     "output_type": "execute_result"
    }
   ],
   "source": [
    "np.shape(np.array([data['solar_Wm2'], data['mod_solar']]).T)"
   ]
  },
  {
   "cell_type": "code",
   "execution_count": 12,
   "metadata": {},
   "outputs": [
    {
     "data": {
      "text/plain": [
       "Text(0, 0.5, 'Count')"
      ]
     },
     "execution_count": 12,
     "metadata": {},
     "output_type": "execute_result"
    },
    {
     "data": {
      "image/png": "[encoded data removed]",
      "text/plain": [
       "<Figure size 864x360 with 1 Axes>"
      ]
     },
     "metadata": {
      "needs_background": "light"
     },
     "output_type": "display_data"
    }
   ],
   "source": [
    "fig,ax=plt.subplots(1,1,figsize=(12,5))\n",
    "ax.hist(np.array([data['solar_Wm2'], data['mod_solar']]).T,30);\n",
    "ax.legend(labels=('obs','GEM2.5'))\n",
    "ax.set_xlabel('Solar (W/m2)')\n",
    "ax.set_ylabel('Count')"
   ]
  },
  {
   "cell_type": "code",
   "execution_count": 13,
   "metadata": {},
   "outputs": [
    {
     "data": {
      "text/plain": [
       "Text(0, 0.5, 'Count')"
      ]
     },
     "execution_count": 13,
     "metadata": {},
     "output_type": "execute_result"
    },
    {
     "data": {
      "image/png": "[encoded data removed]",
      "text/plain": [
       "<Figure size 864x360 with 1 Axes>"
      ]
     },
     "metadata": {
      "needs_background": "light"
     },
     "output_type": "display_data"
    }
   ],
   "source": [
    "fig,ax=plt.subplots(1,1,figsize=(12,5))\n",
    "ax.hist(data['mod_solar']-data['solar_Wm2'],50);\n",
    "ax.set_xlabel('Bias: GEM2.5-Obs, Solar (W/m2)')\n",
    "ax.set_ylabel('Count')"
   ]
  },
  {
   "cell_type": "code",
   "execution_count": 14,
   "metadata": {},
   "outputs": [
    {
     "data": {
      "text/html": [
       "<div>\n",
       "<style scoped>\n",
       "    .dataframe tbody tr th:only-of-type {\n",
       "        vertical-align: middle;\n",
       "    }\n",
       "\n",
       "    .dataframe tbody tr th {\n",
       "        vertical-align: top;\n",
       "    }\n",
       "\n",
       "    .dataframe thead th {\n",
       "        text-align: right;\n",
       "    }\n",
       "</style>\n",
       "<table border=\"1\" class=\"dataframe\">\n",
       "  <thead>\n",
       "    <tr style=\"text-align: right;\">\n",
       "      <th></th>\n",
       "      <th>YYYYMMDD</th>\n",
       "      <th>HHMMSS</th>\n",
       "      <th>solar_Wm2</th>\n",
       "      <th>Tem_degC</th>\n",
       "      <th>dtUTC</th>\n",
       "      <th>i</th>\n",
       "      <th>j</th>\n",
       "      <th>mod_solar</th>\n",
       "    </tr>\n",
       "  </thead>\n",
       "  <tbody>\n",
       "    <tr>\n",
       "      <th>195173</th>\n",
       "      <td>20200504</td>\n",
       "      <td>130000</td>\n",
       "      <td>15.0</td>\n",
       "      <td>6.3</td>\n",
       "      <td>2020-05-04 13:00:00</td>\n",
       "      <td>154</td>\n",
       "      <td>143</td>\n",
       "      <td>-849.998169</td>\n",
       "    </tr>\n",
       "    <tr>\n",
       "      <th>195174</th>\n",
       "      <td>20200504</td>\n",
       "      <td>131500</td>\n",
       "      <td>26.0</td>\n",
       "      <td>6.6</td>\n",
       "      <td>2020-05-04 13:15:00</td>\n",
       "      <td>154</td>\n",
       "      <td>143</td>\n",
       "      <td>-849.998169</td>\n",
       "    </tr>\n",
       "    <tr>\n",
       "      <th>195175</th>\n",
       "      <td>20200504</td>\n",
       "      <td>133000</td>\n",
       "      <td>41.0</td>\n",
       "      <td>6.8</td>\n",
       "      <td>2020-05-04 13:30:00</td>\n",
       "      <td>154</td>\n",
       "      <td>143</td>\n",
       "      <td>-849.998169</td>\n",
       "    </tr>\n",
       "    <tr>\n",
       "      <th>195176</th>\n",
       "      <td>20200504</td>\n",
       "      <td>134500</td>\n",
       "      <td>53.0</td>\n",
       "      <td>7.1</td>\n",
       "      <td>2020-05-04 13:45:00</td>\n",
       "      <td>154</td>\n",
       "      <td>143</td>\n",
       "      <td>-849.998169</td>\n",
       "    </tr>\n",
       "  </tbody>\n",
       "</table>\n",
       "</div>"
      ],
      "text/plain": [
       "        YYYYMMDD  HHMMSS  solar_Wm2  Tem_degC               dtUTC    i    j  \\\n",
       "195173  20200504  130000       15.0       6.3 2020-05-04 13:00:00  154  143   \n",
       "195174  20200504  131500       26.0       6.6 2020-05-04 13:15:00  154  143   \n",
       "195175  20200504  133000       41.0       6.8 2020-05-04 13:30:00  154  143   \n",
       "195176  20200504  134500       53.0       7.1 2020-05-04 13:45:00  154  143   \n",
       "\n",
       "         mod_solar  \n",
       "195173 -849.998169  \n",
       "195174 -849.998169  \n",
       "195175 -849.998169  \n",
       "195176 -849.998169  "
      ]
     },
     "execution_count": 14,
     "metadata": {},
     "output_type": "execute_result"
    }
   ],
   "source": [
    "data.loc[data.mod_solar<-700]"
   ]
  },
  {
   "cell_type": "code",
   "execution_count": 15,
   "metadata": {},
   "outputs": [
    {
     "data": {
      "text/plain": [
       "[<matplotlib.lines.Line2D at 0x7f9bc5a0c4f0>]"
      ]
     },
     "execution_count": 15,
     "metadata": {},
     "output_type": "execute_result"
    },
    {
     "data": {
      "image/png": "[encoded data removed]",
      "text/plain": [
       "<Figure size 432x288 with 1 Axes>"
      ]
     },
     "metadata": {
      "needs_background": "light"
     },
     "output_type": "display_data"
    }
   ],
   "source": [
    "dataneg=data.loc[data.mod_solar<0]\n",
    "plt.plot(dataneg['dtUTC'],dataneg['mod_solar'],'r.')"
   ]
  },
  {
   "cell_type": "code",
   "execution_count": 16,
   "metadata": {},
   "outputs": [
    {
     "data": {
      "text/plain": [
       "Text(0.5, 1.0, 'Solar Radiation (W/m2)')"
      ]
     },
     "execution_count": 16,
     "metadata": {},
     "output_type": "execute_result"
    },
    {
     "data": {
      "image/png": "[encoded data removed]",
      "text/plain": [
       "<Figure size 432x432 with 1 Axes>"
      ]
     },
     "metadata": {
      "needs_background": "light"
     },
     "output_type": "display_data"
    }
   ],
   "source": [
    "fig,ax=plt.subplots(1,1,figsize=(6,6))\n",
    "_,_,_,m=ax.hist2d(data['solar_Wm2'],data['mod_solar'],bins=np.linspace(0,1200,100),norm=mpl.colors.LogNorm(), \n",
    "          cmap=mpl.cm.gist_rainbow_r,vmin=1,vmax=10**2);\n",
    "ax.plot((0,1200),(0,1200),'k-')\n",
    "ax.set_xlabel('Obs')\n",
    "ax.set_ylabel('GEM 2.5')\n",
    "ax.set_aspect(1)\n",
    "ax.set_title('Solar Radiation (W/m2)')"
   ]
  },
  {
   "cell_type": "code",
   "execution_count": 17,
   "metadata": {},
   "outputs": [
    {
     "name": "stdout",
     "output_type": "stream",
     "text": [
      "N: 210231\n",
      "obsmean: 134.4956671470906\n",
      "bias\" 25.037006737438304\n",
      "RMSE: 102.96341594647286\n",
      "WSS: 0.9509871602505735\n"
     ]
    }
   ],
   "source": [
    "N, modmean, obsmean, bias, RMSE, WSS=et.stats(data['solar_Wm2'],data['mod_solar'])\n",
    "print('N:',N)\n",
    "print('obsmean:',obsmean)\n",
    "print('bias\"',bias)\n",
    "print('RMSE:',RMSE)\n",
    "print('WSS:',WSS)"
   ]
  },
  {
   "cell_type": "code",
   "execution_count": 18,
   "metadata": {},
   "outputs": [
    {
     "ename": "NameError",
     "evalue": "name 'f' is not defined",
     "output_type": "error",
     "traceback": [
      "\u001b[0;31m---------------------------------------------------------------------------\u001b[0m",
      "\u001b[0;31mNameError\u001b[0m                                 Traceback (most recent call last)",
      "\u001b[0;32m<ipython-input-18-a9fcd54b25e7>\u001b[0m in \u001b[0;36m<module>\u001b[0;34m\u001b[0m\n\u001b[0;32m----> 1\u001b[0;31m \u001b[0mf\u001b[0m\u001b[0;34m\u001b[0m\u001b[0;34m\u001b[0m\u001b[0m\n\u001b[0m",
      "\u001b[0;31mNameError\u001b[0m: name 'f' is not defined"
     ]
    }
   ],
   "source": [
    "f"
   ]
  }
 ],
 "metadata": {
  "kernelspec": {
   "display_name": "Python (py38_ct)",
   "language": "python",
   "name": "py38_ct"
  },
  "language_info": {
   "codemirror_mode": {
    "name": "ipython",
    "version": 3
   },
   "file_extension": ".py",
   "mimetype": "text/x-python",
   "name": "python",
   "nbconvert_exporter": "python",
   "pygments_lexer": "ipython3",
   "version": "3.8.2"
  }
 },
 "nbformat": 4,
 "nbformat_minor": 2
}
