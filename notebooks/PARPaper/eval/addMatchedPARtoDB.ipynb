{
 "cells": [
  {
   "cell_type": "markdown",
   "metadata": {},
   "source": [
    "### Match model output to DFO CTD data and store in /data/eolson/results/MEOPAR/PARcalcs/DFO_CTD_withModelPAR.sqlite\n",
    "- match PAR, CT, and SA\n",
    "- if possible, also include phyto biomass and turbidity for k estimation"
   ]
  },
  {
   "cell_type": "code",
   "execution_count": 1,
   "metadata": {},
   "outputs": [],
   "source": [
    "import sqlalchemy\n",
    "from sqlalchemy import (create_engine, Column, String, Integer, Float, MetaData, \n",
    "                        Table, type_coerce, ForeignKey, case)\n",
    "from sqlalchemy.orm import mapper, create_session, relationship, aliased, Session\n",
    "from sqlalchemy.ext.declarative import declarative_base\n",
    "from sqlalchemy import case\n",
    "import numpy as np\n",
    "from sqlalchemy.ext.automap import automap_base\n",
    "import matplotlib.pyplot as plt\n",
    "import sqlalchemy.types as types\n",
    "from sqlalchemy.sql import and_, or_, not_, func\n",
    "from sqlalchemy.sql import select\n",
    "import os\n",
    "from os.path import isfile\n",
    "import pandas as pd\n",
    "import netCDF4 as nc\n",
    "import datetime as dt\n",
    "from salishsea_tools import evaltools as et, viz_tools\n",
    "import datetime\n",
    "import glob\n",
    "import gsw\n",
    "import pickle\n",
    "import matplotlib as mpl\n",
    "\n",
    "import scipy.optimize as scopt\n",
    "from sqlalchemy.types import DateTime\n",
    "\n",
    "%matplotlib inline"
   ]
  },
  {
   "cell_type": "code",
   "execution_count": 2,
   "metadata": {},
   "outputs": [],
   "source": [
    "# model output to match\n",
    "flen=1\n",
    "namfmt='nowcast'\n",
    "filemap={'PAR':'carp_T','e3t':'carp_T','vosaline':'grid_T','votemper':'grid_T',\n",
    "         'diatoms':'ptrc_T','flagellates':'ptrc_T','ciliates':'ptrc_T','Fraser_tracer':'turb_T'}\n",
    "fdict={'carp_T':1,'grid_T':1,'turb_T':1,'ptrc_T':1}\n",
    "PATH='/results/SalishSea/nowcast-green.201812/'\n",
    "runID='HC201812'\n",
    "dstart=dt.datetime(2015,1,1)\n",
    "dend=dt.datetime(2015,3,1)\n",
    "#dend=dt.datetime(2018,1,1)"
   ]
  },
  {
   "cell_type": "code",
   "execution_count": 3,
   "metadata": {},
   "outputs": [
    {
     "data": {
      "text/plain": [
       "(2015, 1)"
      ]
     },
     "execution_count": 3,
     "metadata": {},
     "output_type": "execute_result"
    }
   ],
   "source": [
    "dstart.year,dstart.month"
   ]
  },
  {
   "cell_type": "code",
   "execution_count": 34,
   "metadata": {},
   "outputs": [
    {
     "name": "stdout",
     "output_type": "stream",
     "text": [
      "2020-09-09 22:09:55,224 INFO sqlalchemy.engine.base.Engine SELECT CAST('test plain returns' AS VARCHAR(60)) AS anon_1\n",
      "2020-09-09 22:09:55,224 INFO sqlalchemy.engine.base.Engine ()\n",
      "2020-09-09 22:09:55,225 INFO sqlalchemy.engine.base.Engine SELECT CAST('test unicode returns' AS VARCHAR(60)) AS anon_1\n",
      "2020-09-09 22:09:55,225 INFO sqlalchemy.engine.base.Engine ()\n",
      "2020-09-09 22:09:55,226 INFO sqlalchemy.engine.base.Engine SELECT name FROM sqlite_master WHERE type='table' ORDER BY name\n",
      "2020-09-09 22:09:55,226 INFO sqlalchemy.engine.base.Engine ()\n",
      "2020-09-09 22:09:55,229 INFO sqlalchemy.engine.base.Engine PRAGMA main.table_info(\"CalcsTBL\")\n",
      "2020-09-09 22:09:55,230 INFO sqlalchemy.engine.base.Engine ()\n",
      "2020-09-09 22:09:55,232 INFO sqlalchemy.engine.base.Engine SELECT sql FROM  (SELECT * FROM sqlite_master UNION ALL   SELECT * FROM sqlite_temp_master) WHERE name = 'CalcsTBL' AND type = 'table'\n",
      "2020-09-09 22:09:55,232 INFO sqlalchemy.engine.base.Engine ()\n",
      "2020-09-09 22:09:55,233 INFO sqlalchemy.engine.base.Engine PRAGMA main.foreign_key_list(\"CalcsTBL\")\n",
      "2020-09-09 22:09:55,234 INFO sqlalchemy.engine.base.Engine ()\n",
      "2020-09-09 22:09:55,235 INFO sqlalchemy.engine.base.Engine SELECT sql FROM  (SELECT * FROM sqlite_master UNION ALL   SELECT * FROM sqlite_temp_master) WHERE name = 'CalcsTBL' AND type = 'table'\n",
      "2020-09-09 22:09:55,236 INFO sqlalchemy.engine.base.Engine ()\n",
      "2020-09-09 22:09:55,237 INFO sqlalchemy.engine.base.Engine PRAGMA main.table_info(\"StationTBL\")\n",
      "2020-09-09 22:09:55,237 INFO sqlalchemy.engine.base.Engine ()\n",
      "2020-09-09 22:09:55,240 INFO sqlalchemy.engine.base.Engine SELECT sql FROM  (SELECT * FROM sqlite_master UNION ALL   SELECT * FROM sqlite_temp_master) WHERE name = 'StationTBL' AND type = 'table'\n",
      "2020-09-09 22:09:55,240 INFO sqlalchemy.engine.base.Engine ()\n",
      "2020-09-09 22:09:55,242 INFO sqlalchemy.engine.base.Engine PRAGMA main.foreign_key_list(\"StationTBL\")\n",
      "2020-09-09 22:09:55,242 INFO sqlalchemy.engine.base.Engine ()\n",
      "2020-09-09 22:09:55,243 INFO sqlalchemy.engine.base.Engine PRAGMA temp.foreign_key_list(\"StationTBL\")\n",
      "2020-09-09 22:09:55,243 INFO sqlalchemy.engine.base.Engine ()\n",
      "2020-09-09 22:09:55,243 INFO sqlalchemy.engine.base.Engine SELECT sql FROM  (SELECT * FROM sqlite_master UNION ALL   SELECT * FROM sqlite_temp_master) WHERE name = 'StationTBL' AND type = 'table'\n",
      "2020-09-09 22:09:55,244 INFO sqlalchemy.engine.base.Engine ()\n",
      "2020-09-09 22:09:55,245 INFO sqlalchemy.engine.base.Engine PRAGMA main.index_list(\"StationTBL\")\n",
      "2020-09-09 22:09:55,245 INFO sqlalchemy.engine.base.Engine ()\n",
      "2020-09-09 22:09:55,247 INFO sqlalchemy.engine.base.Engine PRAGMA temp.index_list(\"StationTBL\")\n",
      "2020-09-09 22:09:55,247 INFO sqlalchemy.engine.base.Engine ()\n",
      "2020-09-09 22:09:55,248 INFO sqlalchemy.engine.base.Engine PRAGMA main.index_list(\"StationTBL\")\n",
      "2020-09-09 22:09:55,248 INFO sqlalchemy.engine.base.Engine ()\n",
      "2020-09-09 22:09:55,249 INFO sqlalchemy.engine.base.Engine PRAGMA temp.index_list(\"StationTBL\")\n",
      "2020-09-09 22:09:55,249 INFO sqlalchemy.engine.base.Engine ()\n",
      "2020-09-09 22:09:55,250 INFO sqlalchemy.engine.base.Engine SELECT sql FROM  (SELECT * FROM sqlite_master UNION ALL   SELECT * FROM sqlite_temp_master) WHERE name = 'StationTBL' AND type = 'table'\n",
      "2020-09-09 22:09:55,250 INFO sqlalchemy.engine.base.Engine ()\n",
      "2020-09-09 22:09:55,252 INFO sqlalchemy.engine.base.Engine PRAGMA main.index_list(\"CalcsTBL\")\n",
      "2020-09-09 22:09:55,252 INFO sqlalchemy.engine.base.Engine ()\n",
      "2020-09-09 22:09:55,254 INFO sqlalchemy.engine.base.Engine PRAGMA temp.index_list(\"CalcsTBL\")\n",
      "2020-09-09 22:09:55,254 INFO sqlalchemy.engine.base.Engine ()\n",
      "2020-09-09 22:09:55,255 INFO sqlalchemy.engine.base.Engine PRAGMA main.index_list(\"CalcsTBL\")\n",
      "2020-09-09 22:09:55,255 INFO sqlalchemy.engine.base.Engine ()\n",
      "2020-09-09 22:09:55,256 INFO sqlalchemy.engine.base.Engine PRAGMA temp.index_list(\"CalcsTBL\")\n",
      "2020-09-09 22:09:55,256 INFO sqlalchemy.engine.base.Engine ()\n",
      "2020-09-09 22:09:55,257 INFO sqlalchemy.engine.base.Engine SELECT sql FROM  (SELECT * FROM sqlite_master UNION ALL   SELECT * FROM sqlite_temp_master) WHERE name = 'CalcsTBL' AND type = 'table'\n",
      "2020-09-09 22:09:55,257 INFO sqlalchemy.engine.base.Engine ()\n",
      "2020-09-09 22:09:55,259 INFO sqlalchemy.engine.base.Engine PRAGMA main.table_info(\"HC201812_matchTBL\")\n",
      "2020-09-09 22:09:55,259 INFO sqlalchemy.engine.base.Engine ()\n",
      "2020-09-09 22:09:55,261 INFO sqlalchemy.engine.base.Engine SELECT sql FROM  (SELECT * FROM sqlite_master UNION ALL   SELECT * FROM sqlite_temp_master) WHERE name = 'HC201812_matchTBL' AND type = 'table'\n",
      "2020-09-09 22:09:55,261 INFO sqlalchemy.engine.base.Engine ()\n",
      "2020-09-09 22:09:55,263 INFO sqlalchemy.engine.base.Engine PRAGMA main.foreign_key_list(\"HC201812_matchTBL\")\n",
      "2020-09-09 22:09:55,263 INFO sqlalchemy.engine.base.Engine ()\n",
      "2020-09-09 22:09:55,264 INFO sqlalchemy.engine.base.Engine PRAGMA temp.foreign_key_list(\"HC201812_matchTBL\")\n",
      "2020-09-09 22:09:55,264 INFO sqlalchemy.engine.base.Engine ()\n",
      "2020-09-09 22:09:55,265 INFO sqlalchemy.engine.base.Engine SELECT sql FROM  (SELECT * FROM sqlite_master UNION ALL   SELECT * FROM sqlite_temp_master) WHERE name = 'HC201812_matchTBL' AND type = 'table'\n",
      "2020-09-09 22:09:55,265 INFO sqlalchemy.engine.base.Engine ()\n",
      "2020-09-09 22:09:55,266 INFO sqlalchemy.engine.base.Engine PRAGMA main.index_list(\"HC201812_matchTBL\")\n",
      "2020-09-09 22:09:55,266 INFO sqlalchemy.engine.base.Engine ()\n",
      "2020-09-09 22:09:55,268 INFO sqlalchemy.engine.base.Engine PRAGMA temp.index_list(\"HC201812_matchTBL\")\n",
      "2020-09-09 22:09:55,268 INFO sqlalchemy.engine.base.Engine ()\n",
      "2020-09-09 22:09:55,269 INFO sqlalchemy.engine.base.Engine PRAGMA main.index_list(\"HC201812_matchTBL\")\n",
      "2020-09-09 22:09:55,269 INFO sqlalchemy.engine.base.Engine ()\n",
      "2020-09-09 22:09:55,270 INFO sqlalchemy.engine.base.Engine PRAGMA temp.index_list(\"HC201812_matchTBL\")\n",
      "2020-09-09 22:09:55,271 INFO sqlalchemy.engine.base.Engine ()\n",
      "2020-09-09 22:09:55,271 INFO sqlalchemy.engine.base.Engine SELECT sql FROM  (SELECT * FROM sqlite_master UNION ALL   SELECT * FROM sqlite_temp_master) WHERE name = 'HC201812_matchTBL' AND type = 'table'\n",
      "2020-09-09 22:09:55,271 INFO sqlalchemy.engine.base.Engine ()\n",
      "2020-09-09 22:09:55,273 INFO sqlalchemy.engine.base.Engine PRAGMA main.table_info(\"ObsTBL\")\n",
      "2020-09-09 22:09:55,273 INFO sqlalchemy.engine.base.Engine ()\n",
      "2020-09-09 22:09:55,276 INFO sqlalchemy.engine.base.Engine SELECT sql FROM  (SELECT * FROM sqlite_master UNION ALL   SELECT * FROM sqlite_temp_master) WHERE name = 'ObsTBL' AND type = 'table'\n",
      "2020-09-09 22:09:55,276 INFO sqlalchemy.engine.base.Engine ()\n",
      "2020-09-09 22:09:55,278 INFO sqlalchemy.engine.base.Engine PRAGMA main.foreign_key_list(\"ObsTBL\")\n",
      "2020-09-09 22:09:55,278 INFO sqlalchemy.engine.base.Engine ()\n",
      "2020-09-09 22:09:55,280 INFO sqlalchemy.engine.base.Engine SELECT sql FROM  (SELECT * FROM sqlite_master UNION ALL   SELECT * FROM sqlite_temp_master) WHERE name = 'ObsTBL' AND type = 'table'\n",
      "2020-09-09 22:09:55,280 INFO sqlalchemy.engine.base.Engine ()\n",
      "2020-09-09 22:09:55,282 INFO sqlalchemy.engine.base.Engine PRAGMA main.index_list(\"ObsTBL\")\n",
      "2020-09-09 22:09:55,282 INFO sqlalchemy.engine.base.Engine ()\n",
      "2020-09-09 22:09:55,284 INFO sqlalchemy.engine.base.Engine PRAGMA temp.index_list(\"ObsTBL\")\n",
      "2020-09-09 22:09:55,284 INFO sqlalchemy.engine.base.Engine ()\n",
      "2020-09-09 22:09:55,284 INFO sqlalchemy.engine.base.Engine PRAGMA main.index_list(\"ObsTBL\")\n",
      "2020-09-09 22:09:55,285 INFO sqlalchemy.engine.base.Engine ()\n",
      "2020-09-09 22:09:55,286 INFO sqlalchemy.engine.base.Engine PRAGMA temp.index_list(\"ObsTBL\")\n",
      "2020-09-09 22:09:55,286 INFO sqlalchemy.engine.base.Engine ()\n",
      "2020-09-09 22:09:55,287 INFO sqlalchemy.engine.base.Engine SELECT sql FROM  (SELECT * FROM sqlite_master UNION ALL   SELECT * FROM sqlite_temp_master) WHERE name = 'ObsTBL' AND type = 'table'\n",
      "2020-09-09 22:09:55,287 INFO sqlalchemy.engine.base.Engine ()\n"
     ]
    }
   ],
   "source": [
    "basedir='/data/eolson/results/MEOPAR/PARcalcs/'\n",
    "dbname='DFO_CTD_withModelPAR.sqlite'\n",
    "datelims=()\n",
    "engine = create_engine('sqlite:///' + basedir + dbname, echo = True)\n",
    "Base = automap_base()\n",
    "# reflect the tables in salish.sqlite:\n",
    "Base.prepare(engine, reflect=True)\n",
    "# mapped classes have been created\n",
    "# existing tables:\n",
    "StationTBL=Base.classes.StationTBL\n",
    "ObsTBL=Base.classes.ObsTBL\n",
    "CalcsTBL=Base.classes.CalcsTBL\n",
    "session = create_session(bind = engine, autocommit = False, autoflush = True)\n"
   ]
  },
  {
   "cell_type": "code",
   "execution_count": null,
   "metadata": {},
   "outputs": [],
   "source": []
  },
  {
   "cell_type": "code",
   "execution_count": 5,
   "metadata": {},
   "outputs": [
    {
     "data": {
      "text/plain": [
       "[(None), ('uE/m^2/sec')]"
      ]
     },
     "execution_count": 5,
     "metadata": {},
     "output_type": "execute_result"
    }
   ],
   "source": [
    "session.query(ObsTBL.PAR1_units).distinct().all()"
   ]
  },
  {
   "cell_type": "code",
   "execution_count": 6,
   "metadata": {},
   "outputs": [
    {
     "data": {
      "text/plain": [
       "[(None), ('uE/m^2/sec')]"
      ]
     },
     "execution_count": 6,
     "metadata": {},
     "output_type": "execute_result"
    }
   ],
   "source": [
    "session.query(ObsTBL.PAR_1_units).distinct().all()"
   ]
  },
  {
   "cell_type": "code",
   "execution_count": 7,
   "metadata": {},
   "outputs": [],
   "source": [
    "PAR=case([(ObsTBL.PAR!=None, ObsTBL.PAR)], else_=\n",
    "             case([(ObsTBL.PAR1!=None, ObsTBL.PAR1)], else_=ObsTBL.PAR_1))"
   ]
  },
  {
   "cell_type": "code",
   "execution_count": 8,
   "metadata": {},
   "outputs": [],
   "source": [
    "SA=case([(CalcsTBL.Salinity_T0_C0_SA!=None, CalcsTBL.Salinity_T0_C0_SA)], else_=\n",
    "         case([(CalcsTBL.Salinity_T1_C1_SA!=None, CalcsTBL.Salinity_T1_C1_SA)], else_=\n",
    "         case([(CalcsTBL.Salinity_SA!=None, CalcsTBL.Salinity_SA)], else_= None)))\n",
    "CT=case([(CalcsTBL.Temperature_Primary_CT!=None, CalcsTBL.Temperature_Primary_CT)], else_=\n",
    "         case([(CalcsTBL.Temperature_Secondary_CT!=None, CalcsTBL.Temperature_Secondary_CT)], else_=CalcsTBL.Temperature_CT))\n",
    "ZD=case([(ObsTBL.Depth!=None,ObsTBL.Depth)], else_= CalcsTBL.Z)"
   ]
  },
  {
   "cell_type": "code",
   "execution_count": 9,
   "metadata": {},
   "outputs": [],
   "source": [
    "qry=session.query(StationTBL.ID.label('StationTBLID'),ObsTBL.ID.label('ObsTBLID'),\n",
    "                  StationTBL.StartYear.label('Year'),StationTBL.StartMonth.label('Month'),\n",
    "                StationTBL.StartDay.label('Day'),StationTBL.StartHour.label('Hour'),StationTBL.Lat,StationTBL.Lon,\n",
    "                ZD.label('Z'),PAR.label('PAR'),SA.label('SA'),CT.label('CT')).\\\n",
    "        select_from(StationTBL).join(ObsTBL,ObsTBL.StationTBLID==StationTBL.ID).\\\n",
    "        join(CalcsTBL,CalcsTBL.ObsTBLID==ObsTBL.ID).filter(and_(StationTBL.Lat>47-3/2.5*(StationTBL.Lon+123.5),\n",
    "                                            StationTBL.Lat<47-3/2.5*(StationTBL.Lon+121),\n",
    "                                            StationTBL.Lat<51,\n",
    "                                            StationTBL.Include==True,ObsTBL.Include==True,\n",
    "                                            ObsTBL.PAR>=0,\n",
    "                                            StationTBL.StartYear>=dstart.year,\n",
    "                                            or_(StationTBL.StartYear>dstart.year,StationTBL.StartMonth>=dstart.month),\n",
    "                                            StationTBL.StartYear<=dend.year,\n",
    "                                            or_(StationTBL.StartYear<dend.year,StationTBL.StartMonth<=dend.month)))"
   ]
  },
  {
   "cell_type": "code",
   "execution_count": 10,
   "metadata": {},
   "outputs": [],
   "source": [
    "df1=pd.DataFrame(qry.all())"
   ]
  },
  {
   "cell_type": "code",
   "execution_count": 11,
   "metadata": {},
   "outputs": [],
   "source": [
    "df1['dtUTC']=[dt.datetime(int(y),int(m),int(d))+dt.timedelta(hours=h) \\\n",
    "              for y,m,d,h in zip(df1['Year'],df1['Month'],df1['Day'],df1['Hour'])]"
   ]
  },
  {
   "cell_type": "code",
   "execution_count": 12,
   "metadata": {},
   "outputs": [],
   "source": [
    "with nc.Dataset('/ocean/eolson/MEOPAR/NEMO-forcing/grid/mesh_mask201702_noLPE.nc') as mesh:\n",
    "    tmask=np.copy(mesh.variables['tmask'][0,:,:,:])\n",
    "    navlat=np.copy(mesh.variables['nav_lat'][:,:])\n",
    "    navlon=np.copy(mesh.variables['nav_lon'][:,:])"
   ]
  },
  {
   "cell_type": "code",
   "execution_count": 13,
   "metadata": {},
   "outputs": [
    {
     "data": {
      "text/plain": [
       "<matplotlib.contour.QuadContourSet at 0x7f4fc205fdc0>"
      ]
     },
     "execution_count": 13,
     "metadata": {},
     "output_type": "execute_result"
    },
    {
     "data": {
      "image/png": "[encoded data removed]",
      "text/plain": [
       "<Figure size 360x360 with 1 Axes>"
      ]
     },
     "metadata": {
      "needs_background": "light"
     },
     "output_type": "display_data"
    }
   ],
   "source": [
    "fig,ax=plt.subplots(1,1,figsize=(5,5))\n",
    "ax.plot(df1['Lon'],df1['Lat'],'k.')\n",
    "ax.contour(navlon,navlat,tmask[0,:,:],(0.5,))"
   ]
  },
  {
   "cell_type": "code",
   "execution_count": 14,
   "metadata": {},
   "outputs": [
    {
     "data": {
      "text/html": [
       "<div>\n",
       "<style scoped>\n",
       "    .dataframe tbody tr th:only-of-type {\n",
       "        vertical-align: middle;\n",
       "    }\n",
       "\n",
       "    .dataframe tbody tr th {\n",
       "        vertical-align: top;\n",
       "    }\n",
       "\n",
       "    .dataframe thead th {\n",
       "        text-align: right;\n",
       "    }\n",
       "</style>\n",
       "<table border=\"1\" class=\"dataframe\">\n",
       "  <thead>\n",
       "    <tr style=\"text-align: right;\">\n",
       "      <th></th>\n",
       "      <th>StationTBLID</th>\n",
       "      <th>ObsTBLID</th>\n",
       "      <th>Year</th>\n",
       "      <th>Month</th>\n",
       "      <th>Day</th>\n",
       "      <th>Hour</th>\n",
       "      <th>Lat</th>\n",
       "      <th>Lon</th>\n",
       "      <th>Z</th>\n",
       "      <th>PAR</th>\n",
       "      <th>SA</th>\n",
       "      <th>CT</th>\n",
       "      <th>dtUTC</th>\n",
       "    </tr>\n",
       "  </thead>\n",
       "  <tbody>\n",
       "    <tr>\n",
       "      <th>0</th>\n",
       "      <td>1001</td>\n",
       "      <td>329162</td>\n",
       "      <td>2015.0</td>\n",
       "      <td>2.0</td>\n",
       "      <td>11.0</td>\n",
       "      <td>5.296111</td>\n",
       "      <td>48.613333</td>\n",
       "      <td>-123.243833</td>\n",
       "      <td>1.983099</td>\n",
       "      <td>0.2</td>\n",
       "      <td>29.849611</td>\n",
       "      <td>8.942753</td>\n",
       "      <td>2015-02-11 05:17:46</td>\n",
       "    </tr>\n",
       "    <tr>\n",
       "      <th>1</th>\n",
       "      <td>1001</td>\n",
       "      <td>329163</td>\n",
       "      <td>2015.0</td>\n",
       "      <td>2.0</td>\n",
       "      <td>11.0</td>\n",
       "      <td>5.296111</td>\n",
       "      <td>48.613333</td>\n",
       "      <td>-123.243833</td>\n",
       "      <td>2.974641</td>\n",
       "      <td>0.1</td>\n",
       "      <td>29.852177</td>\n",
       "      <td>8.942511</td>\n",
       "      <td>2015-02-11 05:17:46</td>\n",
       "    </tr>\n",
       "    <tr>\n",
       "      <th>2</th>\n",
       "      <td>1001</td>\n",
       "      <td>329164</td>\n",
       "      <td>2015.0</td>\n",
       "      <td>2.0</td>\n",
       "      <td>11.0</td>\n",
       "      <td>5.296111</td>\n",
       "      <td>48.613333</td>\n",
       "      <td>-123.243833</td>\n",
       "      <td>3.966178</td>\n",
       "      <td>0.1</td>\n",
       "      <td>29.869012</td>\n",
       "      <td>8.941135</td>\n",
       "      <td>2015-02-11 05:17:46</td>\n",
       "    </tr>\n",
       "    <tr>\n",
       "      <th>3</th>\n",
       "      <td>1001</td>\n",
       "      <td>329165</td>\n",
       "      <td>2015.0</td>\n",
       "      <td>2.0</td>\n",
       "      <td>11.0</td>\n",
       "      <td>5.296111</td>\n",
       "      <td>48.613333</td>\n",
       "      <td>-123.243833</td>\n",
       "      <td>4.957711</td>\n",
       "      <td>0.0</td>\n",
       "      <td>29.915690</td>\n",
       "      <td>8.936661</td>\n",
       "      <td>2015-02-11 05:17:46</td>\n",
       "    </tr>\n",
       "    <tr>\n",
       "      <th>4</th>\n",
       "      <td>1001</td>\n",
       "      <td>329166</td>\n",
       "      <td>2015.0</td>\n",
       "      <td>2.0</td>\n",
       "      <td>11.0</td>\n",
       "      <td>5.296111</td>\n",
       "      <td>48.613333</td>\n",
       "      <td>-123.243833</td>\n",
       "      <td>5.949239</td>\n",
       "      <td>0.0</td>\n",
       "      <td>29.913935</td>\n",
       "      <td>8.936489</td>\n",
       "      <td>2015-02-11 05:17:46</td>\n",
       "    </tr>\n",
       "  </tbody>\n",
       "</table>\n",
       "</div>"
      ],
      "text/plain": [
       "   StationTBLID  ObsTBLID    Year  Month   Day      Hour        Lat  \\\n",
       "0          1001    329162  2015.0    2.0  11.0  5.296111  48.613333   \n",
       "1          1001    329163  2015.0    2.0  11.0  5.296111  48.613333   \n",
       "2          1001    329164  2015.0    2.0  11.0  5.296111  48.613333   \n",
       "3          1001    329165  2015.0    2.0  11.0  5.296111  48.613333   \n",
       "4          1001    329166  2015.0    2.0  11.0  5.296111  48.613333   \n",
       "\n",
       "          Lon         Z  PAR         SA        CT               dtUTC  \n",
       "0 -123.243833  1.983099  0.2  29.849611  8.942753 2015-02-11 05:17:46  \n",
       "1 -123.243833  2.974641  0.1  29.852177  8.942511 2015-02-11 05:17:46  \n",
       "2 -123.243833  3.966178  0.1  29.869012  8.941135 2015-02-11 05:17:46  \n",
       "3 -123.243833  4.957711  0.0  29.915690  8.936661 2015-02-11 05:17:46  \n",
       "4 -123.243833  5.949239  0.0  29.913935  8.936489 2015-02-11 05:17:46  "
      ]
     },
     "execution_count": 14,
     "metadata": {},
     "output_type": "execute_result"
    }
   ],
   "source": [
    "df1.head()"
   ]
  },
  {
   "cell_type": "code",
   "execution_count": 15,
   "metadata": {},
   "outputs": [
    {
     "data": {
      "text/html": [
       "<div>\n",
       "<style scoped>\n",
       "    .dataframe tbody tr th:only-of-type {\n",
       "        vertical-align: middle;\n",
       "    }\n",
       "\n",
       "    .dataframe tbody tr th {\n",
       "        vertical-align: top;\n",
       "    }\n",
       "\n",
       "    .dataframe thead th {\n",
       "        text-align: right;\n",
       "    }\n",
       "</style>\n",
       "<table border=\"1\" class=\"dataframe\">\n",
       "  <thead>\n",
       "    <tr style=\"text-align: right;\">\n",
       "      <th></th>\n",
       "      <th>StationTBLID</th>\n",
       "      <th>ObsTBLID</th>\n",
       "      <th>Year</th>\n",
       "      <th>Month</th>\n",
       "      <th>Day</th>\n",
       "      <th>Hour</th>\n",
       "      <th>Lat</th>\n",
       "      <th>Lon</th>\n",
       "      <th>Z</th>\n",
       "      <th>PAR</th>\n",
       "      <th>SA</th>\n",
       "      <th>CT</th>\n",
       "      <th>dtUTC</th>\n",
       "    </tr>\n",
       "  </thead>\n",
       "  <tbody>\n",
       "    <tr>\n",
       "      <th>719</th>\n",
       "      <td>1048</td>\n",
       "      <td>366988</td>\n",
       "      <td>2015.0</td>\n",
       "      <td>3.0</td>\n",
       "      <td>6.0</td>\n",
       "      <td>15.276944</td>\n",
       "      <td>50.346333</td>\n",
       "      <td>-125.431167</td>\n",
       "      <td>324.920261</td>\n",
       "      <td>0.0</td>\n",
       "      <td>29.553424</td>\n",
       "      <td>8.873814</td>\n",
       "      <td>2015-03-06 15:16:37</td>\n",
       "    </tr>\n",
       "    <tr>\n",
       "      <th>720</th>\n",
       "      <td>1048</td>\n",
       "      <td>366989</td>\n",
       "      <td>2015.0</td>\n",
       "      <td>3.0</td>\n",
       "      <td>6.0</td>\n",
       "      <td>15.276944</td>\n",
       "      <td>50.346333</td>\n",
       "      <td>-125.431167</td>\n",
       "      <td>325.910085</td>\n",
       "      <td>0.0</td>\n",
       "      <td>29.553848</td>\n",
       "      <td>8.873804</td>\n",
       "      <td>2015-03-06 15:16:37</td>\n",
       "    </tr>\n",
       "    <tr>\n",
       "      <th>721</th>\n",
       "      <td>1048</td>\n",
       "      <td>366990</td>\n",
       "      <td>2015.0</td>\n",
       "      <td>3.0</td>\n",
       "      <td>6.0</td>\n",
       "      <td>15.276944</td>\n",
       "      <td>50.346333</td>\n",
       "      <td>-125.431167</td>\n",
       "      <td>326.899904</td>\n",
       "      <td>0.0</td>\n",
       "      <td>29.555076</td>\n",
       "      <td>8.873782</td>\n",
       "      <td>2015-03-06 15:16:37</td>\n",
       "    </tr>\n",
       "    <tr>\n",
       "      <th>722</th>\n",
       "      <td>1048</td>\n",
       "      <td>366991</td>\n",
       "      <td>2015.0</td>\n",
       "      <td>3.0</td>\n",
       "      <td>6.0</td>\n",
       "      <td>15.276944</td>\n",
       "      <td>50.346333</td>\n",
       "      <td>-125.431167</td>\n",
       "      <td>327.889718</td>\n",
       "      <td>0.0</td>\n",
       "      <td>29.557912</td>\n",
       "      <td>8.873733</td>\n",
       "      <td>2015-03-06 15:16:37</td>\n",
       "    </tr>\n",
       "    <tr>\n",
       "      <th>723</th>\n",
       "      <td>1048</td>\n",
       "      <td>366992</td>\n",
       "      <td>2015.0</td>\n",
       "      <td>3.0</td>\n",
       "      <td>6.0</td>\n",
       "      <td>15.276944</td>\n",
       "      <td>50.346333</td>\n",
       "      <td>-125.431167</td>\n",
       "      <td>328.879528</td>\n",
       "      <td>0.0</td>\n",
       "      <td>29.567079</td>\n",
       "      <td>8.873580</td>\n",
       "      <td>2015-03-06 15:16:37</td>\n",
       "    </tr>\n",
       "  </tbody>\n",
       "</table>\n",
       "</div>"
      ],
      "text/plain": [
       "     StationTBLID  ObsTBLID    Year  Month  Day       Hour        Lat  \\\n",
       "719          1048    366988  2015.0    3.0  6.0  15.276944  50.346333   \n",
       "720          1048    366989  2015.0    3.0  6.0  15.276944  50.346333   \n",
       "721          1048    366990  2015.0    3.0  6.0  15.276944  50.346333   \n",
       "722          1048    366991  2015.0    3.0  6.0  15.276944  50.346333   \n",
       "723          1048    366992  2015.0    3.0  6.0  15.276944  50.346333   \n",
       "\n",
       "            Lon           Z  PAR         SA        CT               dtUTC  \n",
       "719 -125.431167  324.920261  0.0  29.553424  8.873814 2015-03-06 15:16:37  \n",
       "720 -125.431167  325.910085  0.0  29.553848  8.873804 2015-03-06 15:16:37  \n",
       "721 -125.431167  326.899904  0.0  29.555076  8.873782 2015-03-06 15:16:37  \n",
       "722 -125.431167  327.889718  0.0  29.557912  8.873733 2015-03-06 15:16:37  \n",
       "723 -125.431167  328.879528  0.0  29.567079  8.873580 2015-03-06 15:16:37  "
      ]
     },
     "execution_count": 15,
     "metadata": {},
     "output_type": "execute_result"
    }
   ],
   "source": [
    "df1.tail()"
   ]
  },
  {
   "cell_type": "code",
   "execution_count": 16,
   "metadata": {},
   "outputs": [
    {
     "data": {
      "text/plain": [
       "724"
      ]
     },
     "execution_count": 16,
     "metadata": {},
     "output_type": "execute_result"
    }
   ],
   "source": [
    "len(df1)"
   ]
  },
  {
   "cell_type": "code",
   "execution_count": 17,
   "metadata": {},
   "outputs": [
    {
     "name": "stdout",
     "output_type": "stream",
     "text": [
      "ftype=turb_T, are you sure? (if yes, add to list)\n"
     ]
    }
   ],
   "source": [
    "# do matches with vvl considered\n",
    "data=et.matchData(df1,filemap,fdict,dstart,dend,namfmt,PATH,flen,method='vvlBin')"
   ]
  },
  {
   "cell_type": "code",
   "execution_count": 18,
   "metadata": {},
   "outputs": [
    {
     "data": {
      "text/plain": [
       "394"
      ]
     },
     "execution_count": 18,
     "metadata": {},
     "output_type": "execute_result"
    }
   ],
   "source": [
    "len(data)"
   ]
  },
  {
   "cell_type": "code",
   "execution_count": 19,
   "metadata": {},
   "outputs": [
    {
     "data": {
      "text/html": [
       "<div>\n",
       "<style scoped>\n",
       "    .dataframe tbody tr th:only-of-type {\n",
       "        vertical-align: middle;\n",
       "    }\n",
       "\n",
       "    .dataframe tbody tr th {\n",
       "        vertical-align: top;\n",
       "    }\n",
       "\n",
       "    .dataframe thead th {\n",
       "        text-align: right;\n",
       "    }\n",
       "</style>\n",
       "<table border=\"1\" class=\"dataframe\">\n",
       "  <thead>\n",
       "    <tr style=\"text-align: right;\">\n",
       "      <th></th>\n",
       "      <th>StationTBLID</th>\n",
       "      <th>ObsTBLID</th>\n",
       "      <th>Year</th>\n",
       "      <th>Month</th>\n",
       "      <th>Day</th>\n",
       "      <th>Hour</th>\n",
       "      <th>Lat</th>\n",
       "      <th>Lon</th>\n",
       "      <th>Z</th>\n",
       "      <th>PAR</th>\n",
       "      <th>...</th>\n",
       "      <th>mod_e3t</th>\n",
       "      <th>mod_vosaline</th>\n",
       "      <th>mod_votemper</th>\n",
       "      <th>mod_diatoms</th>\n",
       "      <th>mod_flagellates</th>\n",
       "      <th>mod_ciliates</th>\n",
       "      <th>mod_Fraser_tracer</th>\n",
       "      <th>k</th>\n",
       "      <th>indf</th>\n",
       "      <th>ih</th>\n",
       "    </tr>\n",
       "  </thead>\n",
       "  <tbody>\n",
       "    <tr>\n",
       "      <th>0</th>\n",
       "      <td>1001</td>\n",
       "      <td>329162</td>\n",
       "      <td>2015.0</td>\n",
       "      <td>2.0</td>\n",
       "      <td>11.0</td>\n",
       "      <td>5.296111</td>\n",
       "      <td>48.613333</td>\n",
       "      <td>-123.243833</td>\n",
       "      <td>1.983099</td>\n",
       "      <td>0.2</td>\n",
       "      <td>...</td>\n",
       "      <td>1.001261</td>\n",
       "      <td>29.437077</td>\n",
       "      <td>9.076343</td>\n",
       "      <td>0.019336</td>\n",
       "      <td>0.567340</td>\n",
       "      <td>0.183511</td>\n",
       "      <td>0.344172</td>\n",
       "      <td>1</td>\n",
       "      <td>41</td>\n",
       "      <td>5</td>\n",
       "    </tr>\n",
       "    <tr>\n",
       "      <th>1</th>\n",
       "      <td>1001</td>\n",
       "      <td>329163</td>\n",
       "      <td>2015.0</td>\n",
       "      <td>2.0</td>\n",
       "      <td>11.0</td>\n",
       "      <td>5.296111</td>\n",
       "      <td>48.613333</td>\n",
       "      <td>-123.243833</td>\n",
       "      <td>2.974641</td>\n",
       "      <td>0.1</td>\n",
       "      <td>...</td>\n",
       "      <td>1.001268</td>\n",
       "      <td>29.539558</td>\n",
       "      <td>9.086275</td>\n",
       "      <td>0.017971</td>\n",
       "      <td>0.540466</td>\n",
       "      <td>0.173577</td>\n",
       "      <td>0.340101</td>\n",
       "      <td>2</td>\n",
       "      <td>41</td>\n",
       "      <td>5</td>\n",
       "    </tr>\n",
       "    <tr>\n",
       "      <th>2</th>\n",
       "      <td>1001</td>\n",
       "      <td>329164</td>\n",
       "      <td>2015.0</td>\n",
       "      <td>2.0</td>\n",
       "      <td>11.0</td>\n",
       "      <td>5.296111</td>\n",
       "      <td>48.613333</td>\n",
       "      <td>-123.243833</td>\n",
       "      <td>3.966178</td>\n",
       "      <td>0.1</td>\n",
       "      <td>...</td>\n",
       "      <td>1.001283</td>\n",
       "      <td>29.665234</td>\n",
       "      <td>9.094213</td>\n",
       "      <td>0.016695</td>\n",
       "      <td>0.516796</td>\n",
       "      <td>0.164169</td>\n",
       "      <td>0.336009</td>\n",
       "      <td>3</td>\n",
       "      <td>41</td>\n",
       "      <td>5</td>\n",
       "    </tr>\n",
       "    <tr>\n",
       "      <th>3</th>\n",
       "      <td>1001</td>\n",
       "      <td>329165</td>\n",
       "      <td>2015.0</td>\n",
       "      <td>2.0</td>\n",
       "      <td>11.0</td>\n",
       "      <td>5.296111</td>\n",
       "      <td>48.613333</td>\n",
       "      <td>-123.243833</td>\n",
       "      <td>4.957711</td>\n",
       "      <td>0.0</td>\n",
       "      <td>...</td>\n",
       "      <td>1.001312</td>\n",
       "      <td>29.739351</td>\n",
       "      <td>9.096522</td>\n",
       "      <td>0.015585</td>\n",
       "      <td>0.497693</td>\n",
       "      <td>0.156887</td>\n",
       "      <td>0.333047</td>\n",
       "      <td>4</td>\n",
       "      <td>41</td>\n",
       "      <td>5</td>\n",
       "    </tr>\n",
       "    <tr>\n",
       "      <th>4</th>\n",
       "      <td>1001</td>\n",
       "      <td>329166</td>\n",
       "      <td>2015.0</td>\n",
       "      <td>2.0</td>\n",
       "      <td>11.0</td>\n",
       "      <td>5.296111</td>\n",
       "      <td>48.613333</td>\n",
       "      <td>-123.243833</td>\n",
       "      <td>5.949239</td>\n",
       "      <td>0.0</td>\n",
       "      <td>...</td>\n",
       "      <td>1.001367</td>\n",
       "      <td>29.781431</td>\n",
       "      <td>9.099732</td>\n",
       "      <td>0.015111</td>\n",
       "      <td>0.489840</td>\n",
       "      <td>0.154013</td>\n",
       "      <td>0.331413</td>\n",
       "      <td>5</td>\n",
       "      <td>41</td>\n",
       "      <td>5</td>\n",
       "    </tr>\n",
       "    <tr>\n",
       "      <th>...</th>\n",
       "      <td>...</td>\n",
       "      <td>...</td>\n",
       "      <td>...</td>\n",
       "      <td>...</td>\n",
       "      <td>...</td>\n",
       "      <td>...</td>\n",
       "      <td>...</td>\n",
       "      <td>...</td>\n",
       "      <td>...</td>\n",
       "      <td>...</td>\n",
       "      <td>...</td>\n",
       "      <td>...</td>\n",
       "      <td>...</td>\n",
       "      <td>...</td>\n",
       "      <td>...</td>\n",
       "      <td>...</td>\n",
       "      <td>...</td>\n",
       "      <td>...</td>\n",
       "      <td>...</td>\n",
       "      <td>...</td>\n",
       "      <td>...</td>\n",
       "    </tr>\n",
       "    <tr>\n",
       "      <th>389</th>\n",
       "      <td>1002</td>\n",
       "      <td>329551</td>\n",
       "      <td>2015.0</td>\n",
       "      <td>2.0</td>\n",
       "      <td>11.0</td>\n",
       "      <td>11.068611</td>\n",
       "      <td>48.300833</td>\n",
       "      <td>-124.000333</td>\n",
       "      <td>173.453346</td>\n",
       "      <td>0.0</td>\n",
       "      <td>...</td>\n",
       "      <td>26.388119</td>\n",
       "      <td>33.226562</td>\n",
       "      <td>9.245314</td>\n",
       "      <td>0.001026</td>\n",
       "      <td>0.023443</td>\n",
       "      <td>0.004493</td>\n",
       "      <td>0.199347</td>\n",
       "      <td>29</td>\n",
       "      <td>41</td>\n",
       "      <td>11</td>\n",
       "    </tr>\n",
       "    <tr>\n",
       "      <th>390</th>\n",
       "      <td>1002</td>\n",
       "      <td>329552</td>\n",
       "      <td>2015.0</td>\n",
       "      <td>2.0</td>\n",
       "      <td>11.0</td>\n",
       "      <td>11.068611</td>\n",
       "      <td>48.300833</td>\n",
       "      <td>-124.000333</td>\n",
       "      <td>174.444086</td>\n",
       "      <td>0.0</td>\n",
       "      <td>...</td>\n",
       "      <td>26.388119</td>\n",
       "      <td>33.226562</td>\n",
       "      <td>9.245314</td>\n",
       "      <td>0.001026</td>\n",
       "      <td>0.023443</td>\n",
       "      <td>0.004493</td>\n",
       "      <td>0.199347</td>\n",
       "      <td>29</td>\n",
       "      <td>41</td>\n",
       "      <td>11</td>\n",
       "    </tr>\n",
       "    <tr>\n",
       "      <th>391</th>\n",
       "      <td>1002</td>\n",
       "      <td>329553</td>\n",
       "      <td>2015.0</td>\n",
       "      <td>2.0</td>\n",
       "      <td>11.0</td>\n",
       "      <td>11.068611</td>\n",
       "      <td>48.300833</td>\n",
       "      <td>-124.000333</td>\n",
       "      <td>175.434821</td>\n",
       "      <td>0.0</td>\n",
       "      <td>...</td>\n",
       "      <td>26.388119</td>\n",
       "      <td>33.226562</td>\n",
       "      <td>9.245314</td>\n",
       "      <td>0.001026</td>\n",
       "      <td>0.023443</td>\n",
       "      <td>0.004493</td>\n",
       "      <td>0.199347</td>\n",
       "      <td>29</td>\n",
       "      <td>41</td>\n",
       "      <td>11</td>\n",
       "    </tr>\n",
       "    <tr>\n",
       "      <th>392</th>\n",
       "      <td>1002</td>\n",
       "      <td>329554</td>\n",
       "      <td>2015.0</td>\n",
       "      <td>2.0</td>\n",
       "      <td>11.0</td>\n",
       "      <td>11.068611</td>\n",
       "      <td>48.300833</td>\n",
       "      <td>-124.000333</td>\n",
       "      <td>176.425551</td>\n",
       "      <td>0.0</td>\n",
       "      <td>...</td>\n",
       "      <td>26.388119</td>\n",
       "      <td>33.226562</td>\n",
       "      <td>9.245314</td>\n",
       "      <td>0.001026</td>\n",
       "      <td>0.023443</td>\n",
       "      <td>0.004493</td>\n",
       "      <td>0.199347</td>\n",
       "      <td>29</td>\n",
       "      <td>41</td>\n",
       "      <td>11</td>\n",
       "    </tr>\n",
       "    <tr>\n",
       "      <th>393</th>\n",
       "      <td>1002</td>\n",
       "      <td>329555</td>\n",
       "      <td>2015.0</td>\n",
       "      <td>2.0</td>\n",
       "      <td>11.0</td>\n",
       "      <td>11.068611</td>\n",
       "      <td>48.300833</td>\n",
       "      <td>-124.000333</td>\n",
       "      <td>177.416276</td>\n",
       "      <td>0.0</td>\n",
       "      <td>...</td>\n",
       "      <td>26.388119</td>\n",
       "      <td>33.226562</td>\n",
       "      <td>9.245314</td>\n",
       "      <td>0.001026</td>\n",
       "      <td>0.023443</td>\n",
       "      <td>0.004493</td>\n",
       "      <td>0.199347</td>\n",
       "      <td>29</td>\n",
       "      <td>41</td>\n",
       "      <td>11</td>\n",
       "    </tr>\n",
       "  </tbody>\n",
       "</table>\n",
       "<p>394 rows × 26 columns</p>\n",
       "</div>"
      ],
      "text/plain": [
       "     StationTBLID  ObsTBLID    Year  Month   Day       Hour        Lat  \\\n",
       "0            1001    329162  2015.0    2.0  11.0   5.296111  48.613333   \n",
       "1            1001    329163  2015.0    2.0  11.0   5.296111  48.613333   \n",
       "2            1001    329164  2015.0    2.0  11.0   5.296111  48.613333   \n",
       "3            1001    329165  2015.0    2.0  11.0   5.296111  48.613333   \n",
       "4            1001    329166  2015.0    2.0  11.0   5.296111  48.613333   \n",
       "..            ...       ...     ...    ...   ...        ...        ...   \n",
       "389          1002    329551  2015.0    2.0  11.0  11.068611  48.300833   \n",
       "390          1002    329552  2015.0    2.0  11.0  11.068611  48.300833   \n",
       "391          1002    329553  2015.0    2.0  11.0  11.068611  48.300833   \n",
       "392          1002    329554  2015.0    2.0  11.0  11.068611  48.300833   \n",
       "393          1002    329555  2015.0    2.0  11.0  11.068611  48.300833   \n",
       "\n",
       "            Lon           Z  PAR  ...    mod_e3t  mod_vosaline mod_votemper  \\\n",
       "0   -123.243833    1.983099  0.2  ...   1.001261     29.437077     9.076343   \n",
       "1   -123.243833    2.974641  0.1  ...   1.001268     29.539558     9.086275   \n",
       "2   -123.243833    3.966178  0.1  ...   1.001283     29.665234     9.094213   \n",
       "3   -123.243833    4.957711  0.0  ...   1.001312     29.739351     9.096522   \n",
       "4   -123.243833    5.949239  0.0  ...   1.001367     29.781431     9.099732   \n",
       "..          ...         ...  ...  ...        ...           ...          ...   \n",
       "389 -124.000333  173.453346  0.0  ...  26.388119     33.226562     9.245314   \n",
       "390 -124.000333  174.444086  0.0  ...  26.388119     33.226562     9.245314   \n",
       "391 -124.000333  175.434821  0.0  ...  26.388119     33.226562     9.245314   \n",
       "392 -124.000333  176.425551  0.0  ...  26.388119     33.226562     9.245314   \n",
       "393 -124.000333  177.416276  0.0  ...  26.388119     33.226562     9.245314   \n",
       "\n",
       "     mod_diatoms  mod_flagellates  mod_ciliates  mod_Fraser_tracer   k  indf  \\\n",
       "0       0.019336         0.567340      0.183511           0.344172   1    41   \n",
       "1       0.017971         0.540466      0.173577           0.340101   2    41   \n",
       "2       0.016695         0.516796      0.164169           0.336009   3    41   \n",
       "3       0.015585         0.497693      0.156887           0.333047   4    41   \n",
       "4       0.015111         0.489840      0.154013           0.331413   5    41   \n",
       "..           ...              ...           ...                ...  ..   ...   \n",
       "389     0.001026         0.023443      0.004493           0.199347  29    41   \n",
       "390     0.001026         0.023443      0.004493           0.199347  29    41   \n",
       "391     0.001026         0.023443      0.004493           0.199347  29    41   \n",
       "392     0.001026         0.023443      0.004493           0.199347  29    41   \n",
       "393     0.001026         0.023443      0.004493           0.199347  29    41   \n",
       "\n",
       "     ih  \n",
       "0     5  \n",
       "1     5  \n",
       "2     5  \n",
       "3     5  \n",
       "4     5  \n",
       "..   ..  \n",
       "389  11  \n",
       "390  11  \n",
       "391  11  \n",
       "392  11  \n",
       "393  11  \n",
       "\n",
       "[394 rows x 26 columns]"
      ]
     },
     "execution_count": 19,
     "metadata": {},
     "output_type": "execute_result"
    }
   ],
   "source": [
    "data"
   ]
  },
  {
   "cell_type": "code",
   "execution_count": 20,
   "metadata": {},
   "outputs": [
    {
     "data": {
      "text/plain": [
       "Index(['StationTBLID', 'ObsTBLID', 'Year', 'Month', 'Day', 'Hour', 'Lat',\n",
       "       'Lon', 'Z', 'PAR', 'SA', 'CT', 'dtUTC', 'j', 'i', 'mod_PAR', 'mod_e3t',\n",
       "       'mod_vosaline', 'mod_votemper', 'mod_diatoms', 'mod_flagellates',\n",
       "       'mod_ciliates', 'mod_Fraser_tracer', 'k', 'indf', 'ih'],\n",
       "      dtype='object')"
      ]
     },
     "execution_count": 20,
     "metadata": {},
     "output_type": "execute_result"
    }
   ],
   "source": [
    "data.keys()"
   ]
  },
  {
   "cell_type": "code",
   "execution_count": 21,
   "metadata": {},
   "outputs": [],
   "source": [
    "data2=data.loc[:,['StationTBLID', 'ObsTBLID','Z', 'PAR', 'SA', 'CT', 'dtUTC', 'i','j','k', 'mod_PAR', 'mod_e3t',\n",
    "       'mod_vosaline', 'mod_votemper', 'mod_diatoms', 'mod_flagellates','mod_ciliates', 'mod_Fraser_tracer']]"
   ]
  },
  {
   "cell_type": "code",
   "execution_count": 29,
   "metadata": {},
   "outputs": [],
   "source": [
    "data2.to_sql(\n",
    "    runID+'_matchTBL',\n",
    "    engine,\n",
    "    if_exists='replace',\n",
    "    index=False,\n",
    "    chunksize=500,\n",
    "    dtype={\n",
    "        'StationTBLID': Integer, \n",
    "        'ObsTBLID': Integer,\n",
    "        'Z':Float, \n",
    "        'PAR':Float,  \n",
    "        'SA':Float, \n",
    "        'CT':Float, \n",
    "        'dtUTC':DateTime, \n",
    "        'i':Integer,'j':Integer,'k':Integer, \n",
    "        'mod_PAR':Float, \n",
    "        'mod_e3t':Float,\n",
    "       'mod_vosaline':Float, 'mod_votemper':Float, 'mod_diatoms':Float, 'mod_flagellates':Float,\n",
    "        'mod_ciliates':Float, 'mod_Fraser_tracer':Float\n",
    "    }\n",
    ")"
   ]
  },
  {
   "cell_type": "code",
   "execution_count": 30,
   "metadata": {},
   "outputs": [],
   "source": [
    "session.commit()"
   ]
  },
  {
   "cell_type": "code",
   "execution_count": 35,
   "metadata": {},
   "outputs": [],
   "source": [
    "session.close()"
   ]
  },
  {
   "cell_type": "code",
   "execution_count": 36,
   "metadata": {},
   "outputs": [],
   "source": [
    "engine.dispose()"
   ]
  },
  {
   "cell_type": "code",
   "execution_count": 37,
   "metadata": {},
   "outputs": [
    {
     "ename": "AttributeError",
     "evalue": "HC201812_matchTBL",
     "output_type": "error",
     "traceback": [
      "\u001b[0;31m---------------------------------------------------------------------------\u001b[0m",
      "\u001b[0;31mKeyError\u001b[0m                                  Traceback (most recent call last)",
      "\u001b[0;32m~/anaconda3/envs/py38_ct/lib/python3.8/site-packages/sqlalchemy/util/_collections.py\u001b[0m in \u001b[0;36m__getattr__\u001b[0;34m(self, key)\u001b[0m\n\u001b[1;32m    209\u001b[0m         \u001b[0;32mtry\u001b[0m\u001b[0;34m:\u001b[0m\u001b[0;34m\u001b[0m\u001b[0;34m\u001b[0m\u001b[0m\n\u001b[0;32m--> 210\u001b[0;31m             \u001b[0;32mreturn\u001b[0m \u001b[0mself\u001b[0m\u001b[0;34m.\u001b[0m\u001b[0m_data\u001b[0m\u001b[0;34m[\u001b[0m\u001b[0mkey\u001b[0m\u001b[0;34m]\u001b[0m\u001b[0;34m\u001b[0m\u001b[0;34m\u001b[0m\u001b[0m\n\u001b[0m\u001b[1;32m    211\u001b[0m         \u001b[0;32mexcept\u001b[0m \u001b[0mKeyError\u001b[0m\u001b[0;34m:\u001b[0m\u001b[0;34m\u001b[0m\u001b[0;34m\u001b[0m\u001b[0m\n",
      "\u001b[0;31mKeyError\u001b[0m: 'HC201812_matchTBL'",
      "\nDuring handling of the above exception, another exception occurred:\n",
      "\u001b[0;31mAttributeError\u001b[0m                            Traceback (most recent call last)",
      "\u001b[0;32m<ipython-input-37-dd3104035980>\u001b[0m in \u001b[0;36m<module>\u001b[0;34m\u001b[0m\n\u001b[1;32m      8\u001b[0m \u001b[0mObsTBL\u001b[0m\u001b[0;34m=\u001b[0m\u001b[0mBase\u001b[0m\u001b[0;34m.\u001b[0m\u001b[0mclasses\u001b[0m\u001b[0;34m.\u001b[0m\u001b[0mObsTBL\u001b[0m\u001b[0;34m\u001b[0m\u001b[0;34m\u001b[0m\u001b[0m\n\u001b[1;32m      9\u001b[0m \u001b[0mCalcsTBL\u001b[0m\u001b[0;34m=\u001b[0m\u001b[0mBase\u001b[0m\u001b[0;34m.\u001b[0m\u001b[0mclasses\u001b[0m\u001b[0;34m.\u001b[0m\u001b[0mCalcsTBL\u001b[0m\u001b[0;34m\u001b[0m\u001b[0;34m\u001b[0m\u001b[0m\n\u001b[0;32m---> 10\u001b[0;31m \u001b[0mHC201812TBL\u001b[0m\u001b[0;34m=\u001b[0m\u001b[0mBase\u001b[0m\u001b[0;34m.\u001b[0m\u001b[0mclasses\u001b[0m\u001b[0;34m.\u001b[0m\u001b[0mHC201812_matchTBL\u001b[0m\u001b[0;34m\u001b[0m\u001b[0;34m\u001b[0m\u001b[0m\n\u001b[0m\u001b[1;32m     11\u001b[0m \u001b[0msession\u001b[0m \u001b[0;34m=\u001b[0m \u001b[0mcreate_session\u001b[0m\u001b[0;34m(\u001b[0m\u001b[0mbind\u001b[0m \u001b[0;34m=\u001b[0m \u001b[0mengine\u001b[0m\u001b[0;34m,\u001b[0m \u001b[0mautocommit\u001b[0m \u001b[0;34m=\u001b[0m \u001b[0;32mFalse\u001b[0m\u001b[0;34m,\u001b[0m \u001b[0mautoflush\u001b[0m \u001b[0;34m=\u001b[0m \u001b[0;32mTrue\u001b[0m\u001b[0;34m)\u001b[0m\u001b[0;34m\u001b[0m\u001b[0;34m\u001b[0m\u001b[0m\n",
      "\u001b[0;32m~/anaconda3/envs/py38_ct/lib/python3.8/site-packages/sqlalchemy/util/_collections.py\u001b[0m in \u001b[0;36m__getattr__\u001b[0;34m(self, key)\u001b[0m\n\u001b[1;32m    210\u001b[0m             \u001b[0;32mreturn\u001b[0m \u001b[0mself\u001b[0m\u001b[0;34m.\u001b[0m\u001b[0m_data\u001b[0m\u001b[0;34m[\u001b[0m\u001b[0mkey\u001b[0m\u001b[0;34m]\u001b[0m\u001b[0;34m\u001b[0m\u001b[0;34m\u001b[0m\u001b[0m\n\u001b[1;32m    211\u001b[0m         \u001b[0;32mexcept\u001b[0m \u001b[0mKeyError\u001b[0m\u001b[0;34m:\u001b[0m\u001b[0;34m\u001b[0m\u001b[0;34m\u001b[0m\u001b[0m\n\u001b[0;32m--> 212\u001b[0;31m             \u001b[0;32mraise\u001b[0m \u001b[0mAttributeError\u001b[0m\u001b[0;34m(\u001b[0m\u001b[0mkey\u001b[0m\u001b[0;34m)\u001b[0m\u001b[0;34m\u001b[0m\u001b[0;34m\u001b[0m\u001b[0m\n\u001b[0m\u001b[1;32m    213\u001b[0m \u001b[0;34m\u001b[0m\u001b[0m\n\u001b[1;32m    214\u001b[0m     \u001b[0;32mdef\u001b[0m \u001b[0m__contains__\u001b[0m\u001b[0;34m(\u001b[0m\u001b[0mself\u001b[0m\u001b[0;34m,\u001b[0m \u001b[0mkey\u001b[0m\u001b[0;34m)\u001b[0m\u001b[0;34m:\u001b[0m\u001b[0;34m\u001b[0m\u001b[0;34m\u001b[0m\u001b[0m\n",
      "\u001b[0;31mAttributeError\u001b[0m: HC201812_matchTBL"
     ]
    }
   ],
   "source": [
    "engine = create_engine('sqlite:///' + basedir + dbname, echo = False)\n",
    "Base = automap_base()\n",
    "# reflect the tables in salish.sqlite:\n",
    "Base.prepare(engine, reflect=True)\n",
    "# mapped classes have been created\n",
    "# existing tables:\n",
    "StationTBL=Base.classes.StationTBL\n",
    "ObsTBL=Base.classes.ObsTBL\n",
    "CalcsTBL=Base.classes.CalcsTBL\n",
    "HC201812TBL=Base.classes.HC201812_matchTBL\n",
    "session = create_session(bind = engine, autocommit = False, autoflush = True)"
   ]
  },
  {
   "cell_type": "code",
   "execution_count": 27,
   "metadata": {},
   "outputs": [
    {
     "ename": "TypeError",
     "evalue": "'Properties' object is not callable",
     "output_type": "error",
     "traceback": [
      "\u001b[0;31m---------------------------------------------------------------------------\u001b[0m",
      "\u001b[0;31mTypeError\u001b[0m                                 Traceback (most recent call last)",
      "\u001b[0;32m<ipython-input-27-6af50ee8b0f3>\u001b[0m in \u001b[0;36m<module>\u001b[0;34m\u001b[0m\n\u001b[0;32m----> 1\u001b[0;31m \u001b[0mBase\u001b[0m\u001b[0;34m.\u001b[0m\u001b[0mclasses\u001b[0m\u001b[0;34m(\u001b[0m\u001b[0;34m)\u001b[0m\u001b[0;34m\u001b[0m\u001b[0;34m\u001b[0m\u001b[0m\n\u001b[0m",
      "\u001b[0;31mTypeError\u001b[0m: 'Properties' object is not callable"
     ]
    }
   ],
   "source": [
    "Base.classes."
   ]
  },
  {
   "cell_type": "code",
   "execution_count": null,
   "metadata": {},
   "outputs": [],
   "source": []
  },
  {
   "cell_type": "code",
   "execution_count": null,
   "metadata": {},
   "outputs": [],
   "source": []
  },
  {
   "cell_type": "code",
   "execution_count": 48,
   "metadata": {},
   "outputs": [
    {
     "data": {
      "text/html": [
       "<div>\n",
       "<style scoped>\n",
       "    .dataframe tbody tr th:only-of-type {\n",
       "        vertical-align: middle;\n",
       "    }\n",
       "\n",
       "    .dataframe tbody tr th {\n",
       "        vertical-align: top;\n",
       "    }\n",
       "\n",
       "    .dataframe thead th {\n",
       "        text-align: right;\n",
       "    }\n",
       "</style>\n",
       "<table border=\"1\" class=\"dataframe\">\n",
       "  <thead>\n",
       "    <tr style=\"text-align: right;\">\n",
       "      <th></th>\n",
       "      <th>StationTBLID</th>\n",
       "      <th>ObsTBLID</th>\n",
       "      <th>Year</th>\n",
       "      <th>Month</th>\n",
       "      <th>Day</th>\n",
       "      <th>Hour</th>\n",
       "      <th>Lat</th>\n",
       "      <th>Lon</th>\n",
       "      <th>Z</th>\n",
       "      <th>PAR</th>\n",
       "      <th>...</th>\n",
       "      <th>mod_PAR</th>\n",
       "      <th>mod_e3t</th>\n",
       "      <th>mod_vosaline</th>\n",
       "      <th>mod_votemper</th>\n",
       "      <th>mod_diatoms</th>\n",
       "      <th>mod_flagellates</th>\n",
       "      <th>mod_ciliates</th>\n",
       "      <th>mod_Fraser_tracer</th>\n",
       "      <th>indf</th>\n",
       "      <th>ih</th>\n",
       "    </tr>\n",
       "  </thead>\n",
       "  <tbody>\n",
       "    <tr>\n",
       "      <th>0</th>\n",
       "      <td>1001</td>\n",
       "      <td>329162</td>\n",
       "      <td>2015.0</td>\n",
       "      <td>2.0</td>\n",
       "      <td>11.0</td>\n",
       "      <td>5.296111</td>\n",
       "      <td>48.613333</td>\n",
       "      <td>-123.243833</td>\n",
       "      <td>1.983099</td>\n",
       "      <td>0.2</td>\n",
       "      <td>...</td>\n",
       "      <td>NaN</td>\n",
       "      <td>NaN</td>\n",
       "      <td>29.486330</td>\n",
       "      <td>9.081116</td>\n",
       "      <td>0.018680</td>\n",
       "      <td>0.554424</td>\n",
       "      <td>0.178737</td>\n",
       "      <td>0.342215</td>\n",
       "      <td>41</td>\n",
       "      <td>5</td>\n",
       "    </tr>\n",
       "    <tr>\n",
       "      <th>1</th>\n",
       "      <td>1001</td>\n",
       "      <td>329163</td>\n",
       "      <td>2015.0</td>\n",
       "      <td>2.0</td>\n",
       "      <td>11.0</td>\n",
       "      <td>5.296111</td>\n",
       "      <td>48.613333</td>\n",
       "      <td>-123.243833</td>\n",
       "      <td>2.974641</td>\n",
       "      <td>0.1</td>\n",
       "      <td>...</td>\n",
       "      <td>NaN</td>\n",
       "      <td>NaN</td>\n",
       "      <td>29.598737</td>\n",
       "      <td>9.090013</td>\n",
       "      <td>0.017370</td>\n",
       "      <td>0.529320</td>\n",
       "      <td>0.169147</td>\n",
       "      <td>0.338174</td>\n",
       "      <td>41</td>\n",
       "      <td>5</td>\n",
       "    </tr>\n",
       "    <tr>\n",
       "      <th>2</th>\n",
       "      <td>1001</td>\n",
       "      <td>329164</td>\n",
       "      <td>2015.0</td>\n",
       "      <td>2.0</td>\n",
       "      <td>11.0</td>\n",
       "      <td>5.296111</td>\n",
       "      <td>48.613333</td>\n",
       "      <td>-123.243833</td>\n",
       "      <td>3.966178</td>\n",
       "      <td>0.1</td>\n",
       "      <td>...</td>\n",
       "      <td>NaN</td>\n",
       "      <td>NaN</td>\n",
       "      <td>29.699413</td>\n",
       "      <td>9.095278</td>\n",
       "      <td>0.016183</td>\n",
       "      <td>0.507987</td>\n",
       "      <td>0.160811</td>\n",
       "      <td>0.334643</td>\n",
       "      <td>41</td>\n",
       "      <td>5</td>\n",
       "    </tr>\n",
       "    <tr>\n",
       "      <th>3</th>\n",
       "      <td>1001</td>\n",
       "      <td>329165</td>\n",
       "      <td>2015.0</td>\n",
       "      <td>2.0</td>\n",
       "      <td>11.0</td>\n",
       "      <td>5.296111</td>\n",
       "      <td>48.613333</td>\n",
       "      <td>-123.243833</td>\n",
       "      <td>4.957711</td>\n",
       "      <td>0.0</td>\n",
       "      <td>...</td>\n",
       "      <td>NaN</td>\n",
       "      <td>NaN</td>\n",
       "      <td>29.758345</td>\n",
       "      <td>9.097971</td>\n",
       "      <td>0.015371</td>\n",
       "      <td>0.494149</td>\n",
       "      <td>0.155590</td>\n",
       "      <td>0.332309</td>\n",
       "      <td>41</td>\n",
       "      <td>5</td>\n",
       "    </tr>\n",
       "    <tr>\n",
       "      <th>4</th>\n",
       "      <td>1001</td>\n",
       "      <td>329166</td>\n",
       "      <td>2015.0</td>\n",
       "      <td>2.0</td>\n",
       "      <td>11.0</td>\n",
       "      <td>5.296111</td>\n",
       "      <td>48.613333</td>\n",
       "      <td>-123.243833</td>\n",
       "      <td>5.949239</td>\n",
       "      <td>0.0</td>\n",
       "      <td>...</td>\n",
       "      <td>NaN</td>\n",
       "      <td>NaN</td>\n",
       "      <td>29.796489</td>\n",
       "      <td>9.101224</td>\n",
       "      <td>0.014928</td>\n",
       "      <td>0.486913</td>\n",
       "      <td>0.152812</td>\n",
       "      <td>0.330827</td>\n",
       "      <td>41</td>\n",
       "      <td>5</td>\n",
       "    </tr>\n",
       "    <tr>\n",
       "      <th>...</th>\n",
       "      <td>...</td>\n",
       "      <td>...</td>\n",
       "      <td>...</td>\n",
       "      <td>...</td>\n",
       "      <td>...</td>\n",
       "      <td>...</td>\n",
       "      <td>...</td>\n",
       "      <td>...</td>\n",
       "      <td>...</td>\n",
       "      <td>...</td>\n",
       "      <td>...</td>\n",
       "      <td>...</td>\n",
       "      <td>...</td>\n",
       "      <td>...</td>\n",
       "      <td>...</td>\n",
       "      <td>...</td>\n",
       "      <td>...</td>\n",
       "      <td>...</td>\n",
       "      <td>...</td>\n",
       "      <td>...</td>\n",
       "      <td>...</td>\n",
       "    </tr>\n",
       "    <tr>\n",
       "      <th>389</th>\n",
       "      <td>1002</td>\n",
       "      <td>329551</td>\n",
       "      <td>2015.0</td>\n",
       "      <td>2.0</td>\n",
       "      <td>11.0</td>\n",
       "      <td>11.068611</td>\n",
       "      <td>48.300833</td>\n",
       "      <td>-124.000333</td>\n",
       "      <td>173.453346</td>\n",
       "      <td>0.0</td>\n",
       "      <td>...</td>\n",
       "      <td>NaN</td>\n",
       "      <td>NaN</td>\n",
       "      <td>33.224970</td>\n",
       "      <td>9.246059</td>\n",
       "      <td>0.001032</td>\n",
       "      <td>0.023613</td>\n",
       "      <td>0.004529</td>\n",
       "      <td>0.199370</td>\n",
       "      <td>41</td>\n",
       "      <td>11</td>\n",
       "    </tr>\n",
       "    <tr>\n",
       "      <th>390</th>\n",
       "      <td>1002</td>\n",
       "      <td>329552</td>\n",
       "      <td>2015.0</td>\n",
       "      <td>2.0</td>\n",
       "      <td>11.0</td>\n",
       "      <td>11.068611</td>\n",
       "      <td>48.300833</td>\n",
       "      <td>-124.000333</td>\n",
       "      <td>174.444086</td>\n",
       "      <td>0.0</td>\n",
       "      <td>...</td>\n",
       "      <td>NaN</td>\n",
       "      <td>NaN</td>\n",
       "      <td>33.226562</td>\n",
       "      <td>9.245314</td>\n",
       "      <td>0.001026</td>\n",
       "      <td>0.023443</td>\n",
       "      <td>0.004493</td>\n",
       "      <td>0.199347</td>\n",
       "      <td>41</td>\n",
       "      <td>11</td>\n",
       "    </tr>\n",
       "    <tr>\n",
       "      <th>391</th>\n",
       "      <td>1002</td>\n",
       "      <td>329553</td>\n",
       "      <td>2015.0</td>\n",
       "      <td>2.0</td>\n",
       "      <td>11.0</td>\n",
       "      <td>11.068611</td>\n",
       "      <td>48.300833</td>\n",
       "      <td>-124.000333</td>\n",
       "      <td>175.434821</td>\n",
       "      <td>0.0</td>\n",
       "      <td>...</td>\n",
       "      <td>NaN</td>\n",
       "      <td>NaN</td>\n",
       "      <td>33.226562</td>\n",
       "      <td>9.245314</td>\n",
       "      <td>0.001026</td>\n",
       "      <td>0.023443</td>\n",
       "      <td>0.004493</td>\n",
       "      <td>0.199347</td>\n",
       "      <td>41</td>\n",
       "      <td>11</td>\n",
       "    </tr>\n",
       "    <tr>\n",
       "      <th>392</th>\n",
       "      <td>1002</td>\n",
       "      <td>329554</td>\n",
       "      <td>2015.0</td>\n",
       "      <td>2.0</td>\n",
       "      <td>11.0</td>\n",
       "      <td>11.068611</td>\n",
       "      <td>48.300833</td>\n",
       "      <td>-124.000333</td>\n",
       "      <td>176.425551</td>\n",
       "      <td>0.0</td>\n",
       "      <td>...</td>\n",
       "      <td>NaN</td>\n",
       "      <td>NaN</td>\n",
       "      <td>33.226562</td>\n",
       "      <td>9.245314</td>\n",
       "      <td>0.001026</td>\n",
       "      <td>0.023443</td>\n",
       "      <td>0.004493</td>\n",
       "      <td>0.199347</td>\n",
       "      <td>41</td>\n",
       "      <td>11</td>\n",
       "    </tr>\n",
       "    <tr>\n",
       "      <th>393</th>\n",
       "      <td>1002</td>\n",
       "      <td>329555</td>\n",
       "      <td>2015.0</td>\n",
       "      <td>2.0</td>\n",
       "      <td>11.0</td>\n",
       "      <td>11.068611</td>\n",
       "      <td>48.300833</td>\n",
       "      <td>-124.000333</td>\n",
       "      <td>177.416276</td>\n",
       "      <td>0.0</td>\n",
       "      <td>...</td>\n",
       "      <td>NaN</td>\n",
       "      <td>NaN</td>\n",
       "      <td>33.226562</td>\n",
       "      <td>9.245314</td>\n",
       "      <td>0.001026</td>\n",
       "      <td>0.023443</td>\n",
       "      <td>0.004493</td>\n",
       "      <td>0.199347</td>\n",
       "      <td>41</td>\n",
       "      <td>11</td>\n",
       "    </tr>\n",
       "  </tbody>\n",
       "</table>\n",
       "<p>394 rows × 25 columns</p>\n",
       "</div>"
      ],
      "text/plain": [
       "     StationTBLID  ObsTBLID    Year  Month   Day       Hour        Lat  \\\n",
       "0            1001    329162  2015.0    2.0  11.0   5.296111  48.613333   \n",
       "1            1001    329163  2015.0    2.0  11.0   5.296111  48.613333   \n",
       "2            1001    329164  2015.0    2.0  11.0   5.296111  48.613333   \n",
       "3            1001    329165  2015.0    2.0  11.0   5.296111  48.613333   \n",
       "4            1001    329166  2015.0    2.0  11.0   5.296111  48.613333   \n",
       "..            ...       ...     ...    ...   ...        ...        ...   \n",
       "389          1002    329551  2015.0    2.0  11.0  11.068611  48.300833   \n",
       "390          1002    329552  2015.0    2.0  11.0  11.068611  48.300833   \n",
       "391          1002    329553  2015.0    2.0  11.0  11.068611  48.300833   \n",
       "392          1002    329554  2015.0    2.0  11.0  11.068611  48.300833   \n",
       "393          1002    329555  2015.0    2.0  11.0  11.068611  48.300833   \n",
       "\n",
       "            Lon           Z  PAR  ...  mod_PAR  mod_e3t mod_vosaline  \\\n",
       "0   -123.243833    1.983099  0.2  ...      NaN      NaN    29.486330   \n",
       "1   -123.243833    2.974641  0.1  ...      NaN      NaN    29.598737   \n",
       "2   -123.243833    3.966178  0.1  ...      NaN      NaN    29.699413   \n",
       "3   -123.243833    4.957711  0.0  ...      NaN      NaN    29.758345   \n",
       "4   -123.243833    5.949239  0.0  ...      NaN      NaN    29.796489   \n",
       "..          ...         ...  ...  ...      ...      ...          ...   \n",
       "389 -124.000333  173.453346  0.0  ...      NaN      NaN    33.224970   \n",
       "390 -124.000333  174.444086  0.0  ...      NaN      NaN    33.226562   \n",
       "391 -124.000333  175.434821  0.0  ...      NaN      NaN    33.226562   \n",
       "392 -124.000333  176.425551  0.0  ...      NaN      NaN    33.226562   \n",
       "393 -124.000333  177.416276  0.0  ...      NaN      NaN    33.226562   \n",
       "\n",
       "     mod_votemper  mod_diatoms  mod_flagellates  mod_ciliates  \\\n",
       "0        9.081116     0.018680         0.554424      0.178737   \n",
       "1        9.090013     0.017370         0.529320      0.169147   \n",
       "2        9.095278     0.016183         0.507987      0.160811   \n",
       "3        9.097971     0.015371         0.494149      0.155590   \n",
       "4        9.101224     0.014928         0.486913      0.152812   \n",
       "..            ...          ...              ...           ...   \n",
       "389      9.246059     0.001032         0.023613      0.004529   \n",
       "390      9.245314     0.001026         0.023443      0.004493   \n",
       "391      9.245314     0.001026         0.023443      0.004493   \n",
       "392      9.245314     0.001026         0.023443      0.004493   \n",
       "393      9.245314     0.001026         0.023443      0.004493   \n",
       "\n",
       "     mod_Fraser_tracer  indf  ih  \n",
       "0             0.342215    41   5  \n",
       "1             0.338174    41   5  \n",
       "2             0.334643    41   5  \n",
       "3             0.332309    41   5  \n",
       "4             0.330827    41   5  \n",
       "..                 ...   ...  ..  \n",
       "389           0.199370    41  11  \n",
       "390           0.199347    41  11  \n",
       "391           0.199347    41  11  \n",
       "392           0.199347    41  11  \n",
       "393           0.199347    41  11  \n",
       "\n",
       "[394 rows x 25 columns]"
      ]
     },
     "execution_count": 48,
     "metadata": {},
     "output_type": "execute_result"
    }
   ],
   "source": [
    "data"
   ]
  },
  {
   "cell_type": "code",
   "execution_count": 24,
   "metadata": {},
   "outputs": [
    {
     "data": {
      "text/plain": [
       "Index(['StationTBLID', 'ObsTBLID', 'Year', 'Month', 'Day', 'Hour', 'Lat',\n",
       "       'Lon', 'Z', 'PAR', 'SA', 'CT', 'dtUTC', 'j', 'i', 'mod_PAR', 'mod_e3t',\n",
       "       'mod_vosaline', 'mod_votemper', 'mod_diatoms', 'mod_flagellates',\n",
       "       'mod_ciliates', 'mod_Fraser_tracer', 'indf', 'ih'],\n",
       "      dtype='object')"
      ]
     },
     "execution_count": 24,
     "metadata": {},
     "output_type": "execute_result"
    }
   ],
   "source": [
    "data.keys()"
   ]
  },
  {
   "cell_type": "code",
   "execution_count": 20,
   "metadata": {},
   "outputs": [
    {
     "ename": "AttributeError",
     "evalue": "'DataFrame' object has no attribute 'k'",
     "output_type": "error",
     "traceback": [
      "\u001b[0;31m---------------------------------------------------------------------------\u001b[0m",
      "\u001b[0;31mAttributeError\u001b[0m                            Traceback (most recent call last)",
      "\u001b[0;32m<ipython-input-20-bdb31309a069>\u001b[0m in \u001b[0;36m<module>\u001b[0;34m\u001b[0m\n\u001b[0;32m----> 1\u001b[0;31m \u001b[0mdata\u001b[0m\u001b[0;34m.\u001b[0m\u001b[0mdrop\u001b[0m\u001b[0;34m(\u001b[0m\u001b[0mdata\u001b[0m\u001b[0;34m[\u001b[0m\u001b[0mdata\u001b[0m\u001b[0;34m.\u001b[0m\u001b[0mk\u001b[0m\u001b[0;34m<\u001b[0m\u001b[0;36m0\u001b[0m\u001b[0;34m]\u001b[0m\u001b[0;34m.\u001b[0m\u001b[0mindex\u001b[0m\u001b[0;34m,\u001b[0m\u001b[0minplace\u001b[0m\u001b[0;34m=\u001b[0m\u001b[0;32mTrue\u001b[0m\u001b[0;34m)\u001b[0m\u001b[0;34m\u001b[0m\u001b[0;34m\u001b[0m\u001b[0m\n\u001b[0m",
      "\u001b[0;32m~/anaconda3/envs/py38_ct/lib/python3.8/site-packages/pandas/core/generic.py\u001b[0m in \u001b[0;36m__getattr__\u001b[0;34m(self, name)\u001b[0m\n\u001b[1;32m   5177\u001b[0m             \u001b[0;32mif\u001b[0m \u001b[0mself\u001b[0m\u001b[0;34m.\u001b[0m\u001b[0m_info_axis\u001b[0m\u001b[0;34m.\u001b[0m\u001b[0m_can_hold_identifiers_and_holds_name\u001b[0m\u001b[0;34m(\u001b[0m\u001b[0mname\u001b[0m\u001b[0;34m)\u001b[0m\u001b[0;34m:\u001b[0m\u001b[0;34m\u001b[0m\u001b[0;34m\u001b[0m\u001b[0m\n\u001b[1;32m   5178\u001b[0m                 \u001b[0;32mreturn\u001b[0m \u001b[0mself\u001b[0m\u001b[0;34m[\u001b[0m\u001b[0mname\u001b[0m\u001b[0;34m]\u001b[0m\u001b[0;34m\u001b[0m\u001b[0;34m\u001b[0m\u001b[0m\n\u001b[0;32m-> 5179\u001b[0;31m             \u001b[0;32mreturn\u001b[0m \u001b[0mobject\u001b[0m\u001b[0;34m.\u001b[0m\u001b[0m__getattribute__\u001b[0m\u001b[0;34m(\u001b[0m\u001b[0mself\u001b[0m\u001b[0;34m,\u001b[0m \u001b[0mname\u001b[0m\u001b[0;34m)\u001b[0m\u001b[0;34m\u001b[0m\u001b[0;34m\u001b[0m\u001b[0m\n\u001b[0m\u001b[1;32m   5180\u001b[0m \u001b[0;34m\u001b[0m\u001b[0m\n\u001b[1;32m   5181\u001b[0m     \u001b[0;32mdef\u001b[0m \u001b[0m__setattr__\u001b[0m\u001b[0;34m(\u001b[0m\u001b[0mself\u001b[0m\u001b[0;34m,\u001b[0m \u001b[0mname\u001b[0m\u001b[0;34m,\u001b[0m \u001b[0mvalue\u001b[0m\u001b[0;34m)\u001b[0m\u001b[0;34m:\u001b[0m\u001b[0;34m\u001b[0m\u001b[0;34m\u001b[0m\u001b[0m\n",
      "\u001b[0;31mAttributeError\u001b[0m: 'DataFrame' object has no attribute 'k'"
     ]
    }
   ],
   "source": [
    "data.drop(data[data.k<0].index,inplace=True)"
   ]
  },
  {
   "cell_type": "code",
   "execution_count": 27,
   "metadata": {},
   "outputs": [
    {
     "data": {
      "text/plain": [
       "(40, 898, 398)"
      ]
     },
     "execution_count": 27,
     "metadata": {},
     "output_type": "execute_result"
    }
   ],
   "source": [
    "np.shape(tmask)"
   ]
  },
  {
   "cell_type": "code",
   "execution_count": 36,
   "metadata": {},
   "outputs": [],
   "source": [
    "fe3t=nc.Dataset('/results/SalishSea/nowcast-green.201812/01jan15/SalishSea_1h_20150101_20150101_carp_T.nc')\n",
    "e3t=fe3t.variables['e3t'][5,:,500,300][tmask[:,500,300]==1]\n",
    "zl=np.zeros((len(e3t),2))\n",
    "zl[1:,0]=np.cumsum(e3t[:-1])\n",
    "zl[:,1]=np.cumsum(e3t)\n"
   ]
  },
  {
   "cell_type": "code",
   "execution_count": 41,
   "metadata": {},
   "outputs": [],
   "source": [
    "ik=[iii for iii,hhh in enumerate(zl) if hhh[1]>5.1][0] "
   ]
  },
  {
   "cell_type": "code",
   "execution_count": 42,
   "metadata": {},
   "outputs": [
    {
     "data": {
      "text/plain": [
       "6"
      ]
     },
     "execution_count": 42,
     "metadata": {},
     "output_type": "execute_result"
    }
   ],
   "source": [
    "ik"
   ]
  },
  {
   "cell_type": "code",
   "execution_count": 43,
   "metadata": {},
   "outputs": [
    {
     "data": {
      "text/plain": [
       "array([[0.        , 0.8422091 ],\n",
       "       [0.8422091 , 1.68442142],\n",
       "       [1.68442142, 2.52663994],\n",
       "       [2.52663994, 3.36887097],\n",
       "       [3.36887097, 4.21112585],\n",
       "       [4.21112585, 5.0534277 ],\n",
       "       [5.0534277 , 5.89582062],\n",
       "       [5.89582062, 6.73839092],\n",
       "       [6.73839092, 7.58130693],\n",
       "       [7.58130693, 8.42489624],\n",
       "       [8.42489624, 9.26979733]])"
      ]
     },
     "execution_count": 43,
     "metadata": {},
     "output_type": "execute_result"
    }
   ],
   "source": [
    "zl"
   ]
  },
  {
   "cell_type": "code",
   "execution_count": 32,
   "metadata": {},
   "outputs": [
    {
     "data": {
      "text/plain": [
       "<class 'netCDF4._netCDF4.Variable'>\n",
       "float32 e3t(time_counter, deptht, y, x)\n",
       "    standard_name: cell_thickness\n",
       "    long_name: T-cell thickness\n",
       "    units: m\n",
       "    online_operation: average\n",
       "    interval_operation: 40 s\n",
       "    interval_write: 1 h\n",
       "    cell_methods: time: mean (interval: 40 s)\n",
       "    cell_measures: area: area\n",
       "    _FillValue: 1e+20\n",
       "    missing_value: 1e+20\n",
       "    coordinates: time_centered deptht nav_lat nav_lon\n",
       "unlimited dimensions: time_counter\n",
       "current shape = (24, 40, 898, 398)\n",
       "filling on"
      ]
     },
     "execution_count": 32,
     "metadata": {},
     "output_type": "execute_result"
    }
   ],
   "source": [
    "fe3t.variables['e3t']"
   ]
  },
  {
   "cell_type": "code",
   "execution_count": null,
   "metadata": {},
   "outputs": [],
   "source": [
    "plt.plot(data['mod_PAR'],data['PAR'],'k.',ms=1)"
   ]
  },
  {
   "cell_type": "code",
   "execution_count": null,
   "metadata": {},
   "outputs": [],
   "source": [
    "ii=(data['mod_PAR']>=0)&(data['PAR']>=0)\n",
    "fig,ax=plt.subplots(1,1,figsize=(5,5))\n",
    "xx=data.loc[ii,['mod_PAR']].values\n",
    "yy=data.loc[ii,['PAR']].values\n",
    "ax.hist2d(xx[:,0],yy[:,0],bins=100,cmin=0,cmax=50);"
   ]
  },
  {
   "cell_type": "code",
   "execution_count": null,
   "metadata": {},
   "outputs": [],
   "source": [
    "ii=(data['mod_PAR']>=0)&(data['PAR']>=0)\n",
    "fig,ax=plt.subplots(1,1,figsize=(5,5))\n",
    "yy=data.loc[ii,['mod_PAR']].values\n",
    "xx=data.loc[ii,['PAR']].values\n",
    "_,_,_,m=ax.hist2d(np.log10(xx[:,0]+1),np.log10(yy[:,0]+1),bins=100,norm=mpl.colors.LogNorm(), cmap=mpl.cm.gist_rainbow_r);\n",
    "fig.colorbar(m,ax=ax)\n",
    "ax.set_xlim(0,4)\n",
    "ax.set_ylim(0,4)\n",
    "ax.set_aspect(1)\n",
    "ax.plot((0,4),(0,4),'k-')\n",
    "ax.set_xlabel('obs')\n",
    "ax.set_ylabel('model')\n",
    "ax.set_title('PAR Direct Comparison: HC201812')"
   ]
  },
  {
   "cell_type": "code",
   "execution_count": null,
   "metadata": {},
   "outputs": [],
   "source": [
    "data.keys()"
   ]
  },
  {
   "cell_type": "code",
   "execution_count": null,
   "metadata": {},
   "outputs": [],
   "source": [
    "stas=data.groupby(by=['Year','Month','Day','Lat','Lon'])"
   ]
  },
  {
   "cell_type": "code",
   "execution_count": null,
   "metadata": {},
   "outputs": [],
   "source": [
    "stas"
   ]
  },
  {
   "cell_type": "code",
   "execution_count": null,
   "metadata": {},
   "outputs": [],
   "source": [
    "with nc.Dataset('/results/SalishSea/nowcast-green.201812/01jan16/SalishSea_1h_20160101_20160101_ptrc_T.nc') as ftemp:\n",
    "    deptht=ftemp.variables['deptht'][:]"
   ]
  },
  {
   "cell_type": "code",
   "execution_count": null,
   "metadata": {},
   "outputs": [],
   "source": [
    "deptht[5]"
   ]
  },
  {
   "cell_type": "code",
   "execution_count": null,
   "metadata": {},
   "outputs": [],
   "source": [
    "data['mod_Z']=[deptht[ii] for ii in data['k']]"
   ]
  },
  {
   "cell_type": "code",
   "execution_count": null,
   "metadata": {},
   "outputs": [],
   "source": [
    "fig,ax=plt.subplots(1,1,figsize=(5,5))\n",
    "ax.plot(data['Z'],data['mod_Z'],'k.',ms=1)\n",
    "ax.set_xlabel('Obs')\n",
    "ax.set_ylabel('Model')"
   ]
  },
  {
   "cell_type": "code",
   "execution_count": null,
   "metadata": {},
   "outputs": [],
   "source": [
    "ii=(data['mod_PAR']>=0)&(data['PAR']>=0)\n",
    "ik=data.k<10\n",
    "fig,ax=plt.subplots(1,1,figsize=(5,5))\n",
    "yy=data.loc[ii&ik,['mod_PAR']].values\n",
    "xx=data.loc[ii&ik,['PAR']].values\n",
    "yz=data.loc[ii&ik,['mod_Z']].values\n",
    "xz=data.loc[ii&ik,['Z']].values\n",
    "_,_,_,m=ax.hist2d(np.log10(xx[:,0]+1),np.log10(yy[:,0]+1),bins=100,norm=mpl.colors.LogNorm(), cmap=mpl.cm.gist_rainbow_r);\n",
    "fig.colorbar(m,ax=ax)\n",
    "ax.set_xlim(0,4)\n",
    "ax.set_ylim(0,4)\n",
    "ax.set_aspect(1)\n",
    "ax.plot((0,4),(0,4),'k-')\n",
    "ax.set_xlabel('obs')\n",
    "ax.set_ylabel('model')\n",
    "ax.set_title('PAR Direct Comparison Upper 10m: HC201812')"
   ]
  },
  {
   "cell_type": "code",
   "execution_count": null,
   "metadata": {},
   "outputs": [],
   "source": [
    "plt.hist(yz-xz)\n",
    "plt.title('hist: model z - obs z')"
   ]
  },
  {
   "cell_type": "code",
   "execution_count": null,
   "metadata": {},
   "outputs": [],
   "source": [
    "fig,ax=plt.subplots(1,1,figsize=(5,5))\n",
    "ax.plot(yz-xz,np.log10(yy[:,0]+1)-np.log10(xx[:,0]+1),'k.',ms=1)\n",
    "ax.set_xlabel('Model Z - Obs Z')\n",
    "ax.set_ylabel('log10(model PAR +1)-log10(obs PAR +1)')"
   ]
  },
  {
   "cell_type": "code",
   "execution_count": null,
   "metadata": {},
   "outputs": [],
   "source": [
    "ii=(data['mod_PAR']>=0)&(data['PAR']>=0)\n",
    "ik=data.k<2\n",
    "fig,ax=plt.subplots(1,1,figsize=(5,5))\n",
    "yy=data.loc[ii&ik,['mod_PAR']].values\n",
    "xx=data.loc[ii&ik,['PAR']].values\n",
    "yz=data.loc[ii&ik,['mod_Z']].values\n",
    "xz=data.loc[ii&ik,['Z']].values\n",
    "_,_,_,m=ax.hist2d(np.log10(xx[:,0]+1),np.log10(yy[:,0]+1),bins=100,norm=mpl.colors.LogNorm(), cmap=mpl.cm.gist_rainbow_r);\n",
    "fig.colorbar(m,ax=ax)\n",
    "ax.set_xlim(0,4)\n",
    "ax.set_ylim(0,4)\n",
    "ax.set_aspect(1)\n",
    "ax.plot((0,4),(0,4),'k-')\n",
    "ax.set_xlabel('obs')\n",
    "ax.set_ylabel('model')\n",
    "ax.set_title('PAR Direct Comparison Upper 2m: HC201812')"
   ]
  },
  {
   "cell_type": "code",
   "execution_count": null,
   "metadata": {},
   "outputs": [],
   "source": [
    "data.keys()"
   ]
  },
  {
   "cell_type": "code",
   "execution_count": null,
   "metadata": {},
   "outputs": [],
   "source": [
    "temp=data.loc[(data['PAR']>10)&(data['mod_PAR']==0)&(data['Z']<3),['dtUTC','Lat','Lon','Z','mod_Z','Hour','staFile','obsFile']]"
   ]
  },
  {
   "cell_type": "code",
   "execution_count": null,
   "metadata": {},
   "outputs": [],
   "source": [
    "temp"
   ]
  },
  {
   "cell_type": "code",
   "execution_count": null,
   "metadata": {},
   "outputs": [],
   "source": [
    "fig,ax=plt.subplots(1,1,figsize=(16,1))\n",
    "ax.plot(temp['dtUTC'],temp['Z'],'k.')"
   ]
  },
  {
   "cell_type": "code",
   "execution_count": null,
   "metadata": {},
   "outputs": [],
   "source": [
    "plt.hist(temp['Hour'])"
   ]
  },
  {
   "cell_type": "code",
   "execution_count": null,
   "metadata": {},
   "outputs": [],
   "source": [
    "len(temp)"
   ]
  },
  {
   "cell_type": "code",
   "execution_count": null,
   "metadata": {},
   "outputs": [],
   "source": [
    "np.unique(temp['staFile'])"
   ]
  },
  {
   "cell_type": "code",
   "execution_count": null,
   "metadata": {},
   "outputs": [],
   "source": [
    "np.unique(temp['obsFile'])"
   ]
  },
  {
   "cell_type": "code",
   "execution_count": null,
   "metadata": {},
   "outputs": [],
   "source": [
    "plt.hist(np.log10(data['PAR']+1),200);\n",
    "plt.ylim(0,10000)"
   ]
  },
  {
   "cell_type": "code",
   "execution_count": null,
   "metadata": {},
   "outputs": [],
   "source": [
    "10**.5-1"
   ]
  },
  {
   "cell_type": "code",
   "execution_count": null,
   "metadata": {},
   "outputs": [],
   "source": [
    "data.loc[data['obsFile']=='req20181116/EO UBC November 16, 2018 (2017 data)/2017-63-0017.ctd',['dtUTC','PAR']]"
   ]
  },
  {
   "cell_type": "markdown",
   "metadata": {},
   "source": [
    "nighttime; probably moonlight"
   ]
  },
  {
   "cell_type": "code",
   "execution_count": null,
   "metadata": {},
   "outputs": [],
   "source": []
  }
 ],
 "metadata": {
  "kernelspec": {
   "display_name": "Python (py38_ct)",
   "language": "python",
   "name": "py38_ct"
  },
  "language_info": {
   "codemirror_mode": {
    "name": "ipython",
    "version": 3
   },
   "file_extension": ".py",
   "mimetype": "text/x-python",
   "name": "python",
   "nbconvert_exporter": "python",
   "pygments_lexer": "ipython3",
   "version": "3.8.2"
  }
 },
 "nbformat": 4,
 "nbformat_minor": 2
}
