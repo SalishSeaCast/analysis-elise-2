{
 "cells": [
  {
   "cell_type": "code",
   "execution_count": 1,
   "metadata": {},
   "outputs": [],
   "source": [
    "import numpy as np\n",
    "import matplotlib.pyplot as plt\n",
    "from salishsea_tools import evaltools as et, viz_tools\n",
    "import cmocean as cmo\n",
    "import datetime as dt\n",
    "import netCDF4 as nc\n",
    "import matplotlib.dates as mdates\n",
    "import matplotlib as mpl\n",
    "import matplotlib.gridspec as gridspec\n",
    "from matplotlib.colors import LogNorm\n",
    "import cmocean\n",
    "import pandas as pd\n",
    "import pickle\n",
    "import os\n",
    "import gsw\n",
    "\n",
    "%matplotlib inline"
   ]
  },
  {
   "cell_type": "markdown",
   "metadata": {},
   "source": [
    "#### definitions for matching model output"
   ]
  },
  {
   "cell_type": "code",
   "execution_count": 2,
   "metadata": {},
   "outputs": [],
   "source": [
    "# path to model files:\n",
    "PATH= '/results/SalishSea/nowcast-green.201812/'\n",
    "\n",
    "# start and end dates for analysis:\n",
    "start_date = dt.datetime(2015,1,1)\n",
    "end_date = dt.datetime(2016,1,1)\n",
    "\n",
    "# number of days per model file:\n",
    "flen=1\n",
    "\n",
    "# dictionary mapping desired model variables to the file types where they are found\n",
    "filemap={'nitrate':'ptrc_T','silicon':'ptrc_T','ammonium':'ptrc_T','diatoms':'ptrc_T','ciliates':'ptrc_T',\n",
    "         'flagellates':'ptrc_T','vosaline':'grid_T','votemper':'grid_T'}\n",
    "\n",
    "# dictionary mapping model file types to their time resolution in hours (1 is hourly files, 24 is daily)\n",
    "fdict={'ptrc_T':1,'grid_T':1}\n",
    "\n",
    "# results format\n",
    "# -- nowcast: files like 01jan15/SalishSea_1h_20150101_20150101_ptrc_T.nc\n",
    "# -- long: files like SalishSea_1h_20150206_20150804_ptrc_T_20150427-20150506.nc, all in one directory\n",
    "namfmt='nowcast'\n"
   ]
  },
  {
   "cell_type": "markdown",
   "metadata": {},
   "source": [
    "### load WADE nutrient data and create csv file"
   ]
  },
  {
   "cell_type": "code",
   "execution_count": 3,
   "metadata": {},
   "outputs": [],
   "source": [
    "def interpCTDvar(sta,yr,yd,ztarget,ctdvar):\n",
    "    ctdlocs=(dfCTD.Station==sta)&(dfCTD.Year==yr)&(dfCTD.YD==yd)\n",
    "    if np.sum(ctdlocs)==0:\n",
    "        print(f'Warning: Station {sta}, Year {yr}, year day {yd} not found in dfCTD')\n",
    "        return np.nan\n",
    "    else:\n",
    "        val=np.interp(ztarget,dfCTD.loc[ctdlocs,['Z']].values.flatten(),\n",
    "                  dfCTD.loc[ctdlocs,[ctdvar]].values.flatten())\n",
    "        return val"
   ]
  },
  {
   "cell_type": "code",
   "execution_count": 4,
   "metadata": {},
   "outputs": [
    {
     "name": "stdout",
     "output_type": "stream",
     "text": [
      "this should be 1:  [1]\n",
      "this should be 1:  [1]\n",
      "this should be 1:  [1]\n",
      "this should be 1:  [1]\n"
     ]
    }
   ],
   "source": [
    "dfs=dict()\n",
    "for year in range(2015,2019):\n",
    "    PATH= '/results2/SalishSea/nowcast-green.201905/'\n",
    "    datadir='/ocean/eolson/MEOPAR/obs/WADE/ptools_data/ecology'\n",
    "    dfSta=pickle.load(open(os.path.join(datadir,'sta_df.p'),'rb'))\n",
    "    dfBot=pickle.load(open(os.path.join(datadir,f'Bottles_{str(year)}.p'),'rb'))\n",
    "    dfs[year]=pd.merge(left=dfSta,right=dfBot,how='right',\n",
    "                 left_on='Station',right_on='Station')\n",
    "    #right join means all rows in right table (dfBot) are included in output\n",
    "    # drop rows with null UTCDateTime:\n",
    "    ibad=dfs[year].loc[pd.isnull(dfs[year]['UTCDateTime'])].index\n",
    "    dfs[year].drop(index=ibad,inplace=True)\n",
    "    #dfs[year]['UTCDateTime']=[iiD+dt.timedelta(hours=20) if pd.isnull(iiU) else iiU \\\n",
    "    #                for iiU,iiD in zip(dfs[year]['UTCDateTime'],dfs[year]['Date'])]\n",
    "    dfs[year].rename(columns={'UTCDateTime':'dtUTC','Latitude':'Lat','Longitude':'Lon'},inplace=True)\n",
    "    dfs[year]['Z']=-1*dfs[year]['Z']\n",
    "    dfs[year]['NO23']=dfs[year]['NO3(uM)D']+dfs[year]['NO2(uM)D'] # the model does not distinguish between NO2 and NO3\n",
    "    dfs[year]['Amm']=dfs[year]['NH4(uM)D']\n",
    "    dfs[year]['Si']=dfs[year]['SiOH4(uM)D']\n",
    "    dfs[year]['Year']=[ii.year for ii in dfs[year]['dtUTC']]\n",
    "    dfs[year]['YD']=et.datetimeToYD(dfs[year]['dtUTC'])\n",
    "    dfCTD0=pickle.load(open(os.path.join(datadir,f'Casts_{str(year)}.p'),'rb'))\n",
    "    dfCTD=pd.merge(left=dfSta,right=dfCTD0,how='right',\n",
    "                 left_on='Station',right_on='Station')\n",
    "    dfCTD['dtUTC']=[iiD+dt.timedelta(hours=20) for iiD in dfCTD['Date']]\n",
    "    dfCTD.rename(columns={'Latitude':'Lat','Longitude':'Lon'},inplace=True)\n",
    "    dfCTD['Z']=-1*dfCTD['Z']\n",
    "    # Calculate Absolute (Reference) Salinity (g/kg) and Conservative Temperature (deg C) from \n",
    "    # Salinity (psu) and Temperature (deg C):\n",
    "    press=gsw.p_from_z(-1*dfCTD['Z'],dfCTD['Lat'])\n",
    "    dfCTD['SA']=gsw.SA_from_SP(dfCTD['Salinity'],press,\n",
    "                               dfCTD['Lon'],dfCTD['Lat'])\n",
    "    dfCTD['CT']=gsw.CT_from_t(dfCTD['SA'],dfCTD['Temperature'],press)\n",
    "\n",
    "    dfCTD['Year']=[ii.year for ii in dfCTD['dtUTC']]\n",
    "    dfCTD['YD']=et.datetimeToYD(dfCTD['dtUTC'])\n",
    "    # check that there is never more than one ctd cast per station per day:\n",
    "    test=dfCTD.groupby(['Station','Year','YD','Z']).count()\n",
    "    print('this should be 1: ',test['Date'].unique())\n",
    "    dfs[year]['SA']=[interpCTDvar(sta,yr,yd,ztarget,'SA') for sta, yr, yd, ztarget \\\n",
    "               in zip(dfs[year]['Station'],dfs[year]['Year'],dfs[year]['YD'],dfs[year]['Z'])]\n",
    "    dfs[year]['CT']=[interpCTDvar(sta,yr,yd,ztarget,'CT') for sta, yr, yd, ztarget \\\n",
    "               in zip(dfs[year]['Station'],dfs[year]['Year'],dfs[year]['YD'],dfs[year]['Z'])]"
   ]
  },
  {
   "cell_type": "code",
   "execution_count": 5,
   "metadata": {},
   "outputs": [],
   "source": [
    "dfAll=pd.concat((dfs[2015],dfs[2016],dfs[2017],dfs[2018]),ignore_index=True)"
   ]
  },
  {
   "cell_type": "code",
   "execution_count": 6,
   "metadata": {},
   "outputs": [],
   "source": [
    "# drop Willapa Bay and Grays Harbor Stations\n",
    "irem=[ii.startswith('WPA')|ii.startswith('GYS') for ii in dfAll['Station']]\n",
    "inds=dfAll.loc[irem].index\n",
    "dfAll.drop(index=inds,inplace=True)"
   ]
  },
  {
   "cell_type": "code",
   "execution_count": 17,
   "metadata": {},
   "outputs": [],
   "source": [
    "dfTime=pd.read_excel('/ocean/eolson/MEOPAR/obs/WADE/WDE_Data/OlsonSuchyAllen_UBC_PDR_P003790-010721.xlsx',\n",
    "                    engine='openpyxl',sheet_name='EventDateTime')"
   ]
  },
  {
   "cell_type": "code",
   "execution_count": 18,
   "metadata": {},
   "outputs": [],
   "source": [
    "inc=np.unique(dfTime['SiteCode'])"
   ]
  },
  {
   "cell_type": "code",
   "execution_count": 19,
   "metadata": {},
   "outputs": [
    {
     "data": {
      "text/plain": [
       "{'CRR001', 'CSE001', 'HCB003', 'HCB007'}"
      ]
     },
     "execution_count": 19,
     "metadata": {},
     "output_type": "execute_result"
    }
   ],
   "source": [
    "set(('PSS019', 'ELB015', 'EAP001', 'PSB003', 'CMB003', 'ADM003', 'SKG003', 'SAR003',\n",
    "     'BLL009', 'ADM001', 'GOR001', 'SIN001', 'CRR001', 'RSR837', 'PTH005',\n",
    "     'NSQ002', 'HCB010', 'ADM002', 'CSE001', 'DNA001', 'BUD005', 'HCB007', \n",
    "     'GRG002', 'HCB003', 'SJF000', 'SJF001', 'SJF002', 'HCB004', 'OAK004'))-set(inc)"
   ]
  },
  {
   "cell_type": "raw",
   "metadata": {},
   "source": [
    "dfTime['dtPac']=[dt.datetime.combine(idate, itime) for idate, itime \\\n",
    "                 in zip(dfTime['FlightDate'],dfTime['TimeDown \\n(Local - PST or PDT)'])]"
   ]
  },
  {
   "cell_type": "raw",
   "metadata": {},
   "source": [
    "set(('PSS019', 'ELB015', 'EAP001', 'PSB003', 'CMB003', 'ADM003', 'SKG003', 'SAR003', 'BLL009', 'ADM001', \n",
    "    'GOR001', 'SIN001', 'CRR001', 'RSR837', 'PTH005', 'NSQ002', 'HCB010', 'ADM002', 'CSE001', 'DNA001', \n",
    "    'BUD005', 'HCB007', 'GRG002', 'HCB003', 'SJF000', 'SJF001', 'SJF002', 'HCB004', 'OAK004')) -\\\n",
    "set(np.unique(dfTime['SiteCode']))"
   ]
  },
  {
   "cell_type": "code",
   "execution_count": 7,
   "metadata": {},
   "outputs": [],
   "source": [
    "dfAll.drop(columns=['Desig','Descrip','Date','Max_Depth','NH4(uM)D','DIN','PO4(uM)D','Znom','Year', 'YD',\n",
    "                    'SiOH4(uM)D','NO3(uM)D', 'NO2(uM)D'],inplace=True)\n",
    "dfAll.to_csv('/data/eolson/results/MEOPAR/oldDBs/WADENuts.csv',index=False)"
   ]
  },
  {
   "cell_type": "code",
   "execution_count": 8,
   "metadata": {},
   "outputs": [
    {
     "data": {
      "text/html": [
       "<div>\n",
       "<style scoped>\n",
       "    .dataframe tbody tr th:only-of-type {\n",
       "        vertical-align: middle;\n",
       "    }\n",
       "\n",
       "    .dataframe tbody tr th {\n",
       "        vertical-align: top;\n",
       "    }\n",
       "\n",
       "    .dataframe thead th {\n",
       "        text-align: right;\n",
       "    }\n",
       "</style>\n",
       "<table border=\"1\" class=\"dataframe\">\n",
       "  <thead>\n",
       "    <tr style=\"text-align: right;\">\n",
       "      <th></th>\n",
       "      <th>Station</th>\n",
       "      <th>Basin</th>\n",
       "      <th>Lat</th>\n",
       "      <th>Lon</th>\n",
       "      <th>dtUTC</th>\n",
       "      <th>Z</th>\n",
       "      <th>NO23</th>\n",
       "      <th>Amm</th>\n",
       "      <th>Si</th>\n",
       "      <th>SA</th>\n",
       "      <th>CT</th>\n",
       "    </tr>\n",
       "  </thead>\n",
       "  <tbody>\n",
       "    <tr>\n",
       "      <th>0</th>\n",
       "      <td>ADM001</td>\n",
       "      <td>Admiralty Inlet</td>\n",
       "      <td>48.029813</td>\n",
       "      <td>-122.617933</td>\n",
       "      <td>2015-01-20 19:14:00</td>\n",
       "      <td>27.590000</td>\n",
       "      <td>24.742761</td>\n",
       "      <td>0.010113</td>\n",
       "      <td>53.343590</td>\n",
       "      <td>29.387224</td>\n",
       "      <td>9.585230</td>\n",
       "    </tr>\n",
       "    <tr>\n",
       "      <th>1</th>\n",
       "      <td>ADM001</td>\n",
       "      <td>Admiralty Inlet</td>\n",
       "      <td>48.029813</td>\n",
       "      <td>-122.617933</td>\n",
       "      <td>2015-01-20 19:14:00</td>\n",
       "      <td>10.266000</td>\n",
       "      <td>24.969131</td>\n",
       "      <td>0.010489</td>\n",
       "      <td>54.585922</td>\n",
       "      <td>29.387224</td>\n",
       "      <td>9.585230</td>\n",
       "    </tr>\n",
       "    <tr>\n",
       "      <th>2</th>\n",
       "      <td>ADM001</td>\n",
       "      <td>Admiralty Inlet</td>\n",
       "      <td>48.029813</td>\n",
       "      <td>-122.617933</td>\n",
       "      <td>2015-01-20 19:14:00</td>\n",
       "      <td>1.084000</td>\n",
       "      <td>25.031562</td>\n",
       "      <td>0.015908</td>\n",
       "      <td>56.163105</td>\n",
       "      <td>30.307274</td>\n",
       "      <td>9.191911</td>\n",
       "    </tr>\n",
       "    <tr>\n",
       "      <th>3</th>\n",
       "      <td>ADM001</td>\n",
       "      <td>Admiralty Inlet</td>\n",
       "      <td>48.029813</td>\n",
       "      <td>-122.617933</td>\n",
       "      <td>2015-02-12 18:04:00</td>\n",
       "      <td>30.497999</td>\n",
       "      <td>26.701244</td>\n",
       "      <td>0.021147</td>\n",
       "      <td>56.665092</td>\n",
       "      <td>27.363205</td>\n",
       "      <td>9.749393</td>\n",
       "    </tr>\n",
       "    <tr>\n",
       "      <th>4</th>\n",
       "      <td>ADM001</td>\n",
       "      <td>Admiralty Inlet</td>\n",
       "      <td>48.029813</td>\n",
       "      <td>-122.617933</td>\n",
       "      <td>2015-02-12 18:04:00</td>\n",
       "      <td>8.286000</td>\n",
       "      <td>26.729269</td>\n",
       "      <td>0.026230</td>\n",
       "      <td>56.184971</td>\n",
       "      <td>27.363205</td>\n",
       "      <td>9.749393</td>\n",
       "    </tr>\n",
       "    <tr>\n",
       "      <th>...</th>\n",
       "      <td>...</td>\n",
       "      <td>...</td>\n",
       "      <td>...</td>\n",
       "      <td>...</td>\n",
       "      <td>...</td>\n",
       "      <td>...</td>\n",
       "      <td>...</td>\n",
       "      <td>...</td>\n",
       "      <td>...</td>\n",
       "      <td>...</td>\n",
       "      <td>...</td>\n",
       "    </tr>\n",
       "    <tr>\n",
       "      <th>2793</th>\n",
       "      <td>SKG003</td>\n",
       "      <td>Whidbey Basin</td>\n",
       "      <td>48.296488</td>\n",
       "      <td>-122.489605</td>\n",
       "      <td>2018-11-06 17:20:00</td>\n",
       "      <td>NaN</td>\n",
       "      <td>10.927600</td>\n",
       "      <td>1.138500</td>\n",
       "      <td>87.582400</td>\n",
       "      <td>NaN</td>\n",
       "      <td>NaN</td>\n",
       "    </tr>\n",
       "    <tr>\n",
       "      <th>2794</th>\n",
       "      <td>SKG003</td>\n",
       "      <td>Whidbey Basin</td>\n",
       "      <td>48.296488</td>\n",
       "      <td>-122.489605</td>\n",
       "      <td>2018-11-06 17:20:00</td>\n",
       "      <td>NaN</td>\n",
       "      <td>24.722200</td>\n",
       "      <td>0.857900</td>\n",
       "      <td>62.663900</td>\n",
       "      <td>NaN</td>\n",
       "      <td>NaN</td>\n",
       "    </tr>\n",
       "    <tr>\n",
       "      <th>2795</th>\n",
       "      <td>SKG003</td>\n",
       "      <td>Whidbey Basin</td>\n",
       "      <td>48.296488</td>\n",
       "      <td>-122.489605</td>\n",
       "      <td>2018-12-04 17:28:00</td>\n",
       "      <td>10.141000</td>\n",
       "      <td>12.943900</td>\n",
       "      <td>1.392200</td>\n",
       "      <td>100.564700</td>\n",
       "      <td>15.968538</td>\n",
       "      <td>7.459603</td>\n",
       "    </tr>\n",
       "    <tr>\n",
       "      <th>2796</th>\n",
       "      <td>SKG003</td>\n",
       "      <td>Whidbey Basin</td>\n",
       "      <td>48.296488</td>\n",
       "      <td>-122.489605</td>\n",
       "      <td>2018-12-04 17:28:00</td>\n",
       "      <td>0.605000</td>\n",
       "      <td>10.409200</td>\n",
       "      <td>1.300200</td>\n",
       "      <td>108.560600</td>\n",
       "      <td>30.599876</td>\n",
       "      <td>11.806420</td>\n",
       "    </tr>\n",
       "    <tr>\n",
       "      <th>2797</th>\n",
       "      <td>SKG003</td>\n",
       "      <td>Whidbey Basin</td>\n",
       "      <td>48.296488</td>\n",
       "      <td>-122.489605</td>\n",
       "      <td>2018-12-04 17:28:00</td>\n",
       "      <td>19.714000</td>\n",
       "      <td>20.675900</td>\n",
       "      <td>1.163800</td>\n",
       "      <td>77.395600</td>\n",
       "      <td>15.968538</td>\n",
       "      <td>7.459603</td>\n",
       "    </tr>\n",
       "  </tbody>\n",
       "</table>\n",
       "<p>2798 rows × 11 columns</p>\n",
       "</div>"
      ],
      "text/plain": [
       "     Station            Basin        Lat         Lon                dtUTC  \\\n",
       "0     ADM001  Admiralty Inlet  48.029813 -122.617933  2015-01-20 19:14:00   \n",
       "1     ADM001  Admiralty Inlet  48.029813 -122.617933  2015-01-20 19:14:00   \n",
       "2     ADM001  Admiralty Inlet  48.029813 -122.617933  2015-01-20 19:14:00   \n",
       "3     ADM001  Admiralty Inlet  48.029813 -122.617933  2015-02-12 18:04:00   \n",
       "4     ADM001  Admiralty Inlet  48.029813 -122.617933  2015-02-12 18:04:00   \n",
       "...      ...              ...        ...         ...                  ...   \n",
       "2793  SKG003    Whidbey Basin  48.296488 -122.489605  2018-11-06 17:20:00   \n",
       "2794  SKG003    Whidbey Basin  48.296488 -122.489605  2018-11-06 17:20:00   \n",
       "2795  SKG003    Whidbey Basin  48.296488 -122.489605  2018-12-04 17:28:00   \n",
       "2796  SKG003    Whidbey Basin  48.296488 -122.489605  2018-12-04 17:28:00   \n",
       "2797  SKG003    Whidbey Basin  48.296488 -122.489605  2018-12-04 17:28:00   \n",
       "\n",
       "              Z       NO23       Amm          Si         SA         CT  \n",
       "0     27.590000  24.742761  0.010113   53.343590  29.387224   9.585230  \n",
       "1     10.266000  24.969131  0.010489   54.585922  29.387224   9.585230  \n",
       "2      1.084000  25.031562  0.015908   56.163105  30.307274   9.191911  \n",
       "3     30.497999  26.701244  0.021147   56.665092  27.363205   9.749393  \n",
       "4      8.286000  26.729269  0.026230   56.184971  27.363205   9.749393  \n",
       "...         ...        ...       ...         ...        ...        ...  \n",
       "2793        NaN  10.927600  1.138500   87.582400        NaN        NaN  \n",
       "2794        NaN  24.722200  0.857900   62.663900        NaN        NaN  \n",
       "2795  10.141000  12.943900  1.392200  100.564700  15.968538   7.459603  \n",
       "2796   0.605000  10.409200  1.300200  108.560600  30.599876  11.806420  \n",
       "2797  19.714000  20.675900  1.163800   77.395600  15.968538   7.459603  \n",
       "\n",
       "[2798 rows x 11 columns]"
      ]
     },
     "execution_count": 8,
     "metadata": {},
     "output_type": "execute_result"
    }
   ],
   "source": [
    "dfAll"
   ]
  },
  {
   "cell_type": "raw",
   "metadata": {},
   "source": [
    "# load PSF bottle data (returns pandas dataframe)\n",
    "# NO23 is nitrate+nitrate, Si is Silicate; Chl is chlorophyll; Z is depth (m); dtUTC is datetime in UTC\n",
    "# SA is reference salinity (g/kg), CT is Conservative Temperature (deg C)\n",
    "df1=et.loadPSF(loadCTD=True)\n",
    "df1.drop(columns=['pLat','pLon','tdiffH'])\n",
    "print(len(df1))\n",
    "df1.head()"
   ]
  },
  {
   "cell_type": "markdown",
   "metadata": {},
   "source": [
    "### load csv file"
   ]
  },
  {
   "cell_type": "code",
   "execution_count": 9,
   "metadata": {},
   "outputs": [
    {
     "name": "stdout",
     "output_type": "stream",
     "text": [
      "2798\n"
     ]
    },
    {
     "data": {
      "text/html": [
       "<div>\n",
       "<style scoped>\n",
       "    .dataframe tbody tr th:only-of-type {\n",
       "        vertical-align: middle;\n",
       "    }\n",
       "\n",
       "    .dataframe tbody tr th {\n",
       "        vertical-align: top;\n",
       "    }\n",
       "\n",
       "    .dataframe thead th {\n",
       "        text-align: right;\n",
       "    }\n",
       "</style>\n",
       "<table border=\"1\" class=\"dataframe\">\n",
       "  <thead>\n",
       "    <tr style=\"text-align: right;\">\n",
       "      <th></th>\n",
       "      <th>Station</th>\n",
       "      <th>Basin</th>\n",
       "      <th>Lat</th>\n",
       "      <th>Lon</th>\n",
       "      <th>dtUTC</th>\n",
       "      <th>Z</th>\n",
       "      <th>NO23</th>\n",
       "      <th>Amm</th>\n",
       "      <th>Si</th>\n",
       "      <th>SA</th>\n",
       "      <th>CT</th>\n",
       "    </tr>\n",
       "  </thead>\n",
       "  <tbody>\n",
       "    <tr>\n",
       "      <th>0</th>\n",
       "      <td>ADM001</td>\n",
       "      <td>Admiralty Inlet</td>\n",
       "      <td>48.029813</td>\n",
       "      <td>-122.617933</td>\n",
       "      <td>2015-01-20 19:14:00</td>\n",
       "      <td>27.590000</td>\n",
       "      <td>24.742761</td>\n",
       "      <td>0.010113</td>\n",
       "      <td>53.343590</td>\n",
       "      <td>29.387224</td>\n",
       "      <td>9.585230</td>\n",
       "    </tr>\n",
       "    <tr>\n",
       "      <th>1</th>\n",
       "      <td>ADM001</td>\n",
       "      <td>Admiralty Inlet</td>\n",
       "      <td>48.029813</td>\n",
       "      <td>-122.617933</td>\n",
       "      <td>2015-01-20 19:14:00</td>\n",
       "      <td>10.266000</td>\n",
       "      <td>24.969131</td>\n",
       "      <td>0.010489</td>\n",
       "      <td>54.585922</td>\n",
       "      <td>29.387224</td>\n",
       "      <td>9.585230</td>\n",
       "    </tr>\n",
       "    <tr>\n",
       "      <th>2</th>\n",
       "      <td>ADM001</td>\n",
       "      <td>Admiralty Inlet</td>\n",
       "      <td>48.029813</td>\n",
       "      <td>-122.617933</td>\n",
       "      <td>2015-01-20 19:14:00</td>\n",
       "      <td>1.084000</td>\n",
       "      <td>25.031562</td>\n",
       "      <td>0.015908</td>\n",
       "      <td>56.163105</td>\n",
       "      <td>30.307274</td>\n",
       "      <td>9.191911</td>\n",
       "    </tr>\n",
       "    <tr>\n",
       "      <th>3</th>\n",
       "      <td>ADM001</td>\n",
       "      <td>Admiralty Inlet</td>\n",
       "      <td>48.029813</td>\n",
       "      <td>-122.617933</td>\n",
       "      <td>2015-02-12 18:04:00</td>\n",
       "      <td>30.497999</td>\n",
       "      <td>26.701244</td>\n",
       "      <td>0.021147</td>\n",
       "      <td>56.665092</td>\n",
       "      <td>27.363205</td>\n",
       "      <td>9.749393</td>\n",
       "    </tr>\n",
       "    <tr>\n",
       "      <th>4</th>\n",
       "      <td>ADM001</td>\n",
       "      <td>Admiralty Inlet</td>\n",
       "      <td>48.029813</td>\n",
       "      <td>-122.617933</td>\n",
       "      <td>2015-02-12 18:04:00</td>\n",
       "      <td>8.286000</td>\n",
       "      <td>26.729269</td>\n",
       "      <td>0.026230</td>\n",
       "      <td>56.184971</td>\n",
       "      <td>27.363205</td>\n",
       "      <td>9.749393</td>\n",
       "    </tr>\n",
       "  </tbody>\n",
       "</table>\n",
       "</div>"
      ],
      "text/plain": [
       "  Station            Basin        Lat         Lon               dtUTC  \\\n",
       "0  ADM001  Admiralty Inlet  48.029813 -122.617933 2015-01-20 19:14:00   \n",
       "1  ADM001  Admiralty Inlet  48.029813 -122.617933 2015-01-20 19:14:00   \n",
       "2  ADM001  Admiralty Inlet  48.029813 -122.617933 2015-01-20 19:14:00   \n",
       "3  ADM001  Admiralty Inlet  48.029813 -122.617933 2015-02-12 18:04:00   \n",
       "4  ADM001  Admiralty Inlet  48.029813 -122.617933 2015-02-12 18:04:00   \n",
       "\n",
       "           Z       NO23       Amm         Si         SA        CT  \n",
       "0  27.590000  24.742761  0.010113  53.343590  29.387224  9.585230  \n",
       "1  10.266000  24.969131  0.010489  54.585922  29.387224  9.585230  \n",
       "2   1.084000  25.031562  0.015908  56.163105  30.307274  9.191911  \n",
       "3  30.497999  26.701244  0.021147  56.665092  27.363205  9.749393  \n",
       "4   8.286000  26.729269  0.026230  56.184971  27.363205  9.749393  "
      ]
     },
     "execution_count": 9,
     "metadata": {},
     "output_type": "execute_result"
    }
   ],
   "source": [
    "df2=pd.read_csv('/data/eolson/results/MEOPAR/oldDBs/WADENuts.csv')\n",
    "# convert dtUTC back to datetime\n",
    "df2['dtUTC']=[dt.datetime.strptime(ii,'%Y-%m-%d %H:%M:%S') for ii in df2['dtUTC']]\n",
    "print(len(df2))\n",
    "df2.head()"
   ]
  },
  {
   "cell_type": "code",
   "execution_count": 10,
   "metadata": {},
   "outputs": [
    {
     "name": "stdout",
     "output_type": "stream",
     "text": [
      "(Lat,Lon)= 47.21342666666666 -123.07765  not matched to domain\n"
     ]
    }
   ],
   "source": [
    "# match model output to observations and return both in a dataframe\n",
    "# the model variables will have their original names prefixed by mod_, eg mod_vosaline\n",
    "# the observation file names are unchanged. \n",
    "data=et.matchData(data=df2,filemap=filemap, fdict=fdict, mod_start=start_date, mod_end=end_date, \n",
    "                  mod_nam_fmt=namfmt, mod_basedir=PATH, mod_flen=flen)"
   ]
  },
  {
   "cell_type": "code",
   "execution_count": 11,
   "metadata": {},
   "outputs": [],
   "source": [
    "#Chl:N ratio used later in plots: grab from appropriate namelist\n",
    "mod_chl_N=et.getChlNRatio(basedir=PATH,nam_fmt=namfmt)"
   ]
  },
  {
   "cell_type": "code",
   "execution_count": 12,
   "metadata": {},
   "outputs": [
    {
     "data": {
      "image/png": "[encoded data removed]",
      "text/plain": [
       "<Figure size 432x432 with 1 Axes>"
      ]
     },
     "metadata": {
      "needs_background": "light"
     },
     "output_type": "display_data"
    }
   ],
   "source": [
    "# plot matched data locations\n",
    "fig, ax = plt.subplots(figsize = (6,6))\n",
    "viz_tools.set_aspect(ax, coords = 'map')\n",
    "ax.plot(data['Lon'], data['Lat'], 'ro',label='matched obs')\n",
    "grid = nc.Dataset('/data/vdo/MEOPAR/NEMO-forcing/grid/bathymetry_201702.nc')\n",
    "viz_tools.plot_coastline(ax, grid, isobath=.001,coords = 'map')\n",
    "ax.set_ylim(48, 50.5)\n",
    "ax.legend()\n",
    "ax.set_xlim(-125.7, -122.5);"
   ]
  },
  {
   "cell_type": "code",
   "execution_count": 13,
   "metadata": {},
   "outputs": [],
   "source": [
    "# create dictionary of dataframe views by year\n",
    "datyr=dict()\n",
    "yy=np.array([ii.year for ii in data['dtUTC']])\n",
    "yys=np.unique(yy)\n",
    "for yr in yys:\n",
    "    datyr[yr]=data.loc[yy==yr]"
   ]
  },
  {
   "cell_type": "code",
   "execution_count": 14,
   "metadata": {},
   "outputs": [
    {
     "data": {
      "text/plain": [
       "<matplotlib.lines.Line2D at 0x7f45c38a1dc0>"
      ]
     },
     "execution_count": 14,
     "metadata": {},
     "output_type": "execute_result"
    },
    {
     "data": {
      "image/png": "[encoded data removed]",
      "text/plain": [
       "<Figure size 864x72 with 1 Axes>"
      ]
     },
     "metadata": {
      "needs_background": "light"
     },
     "output_type": "display_data"
    }
   ],
   "source": [
    "# plot matched data sampling times\n",
    "clist=('gold','aqua','plum','c','m','r','g','b','brown','gray')\n",
    "fig,axL=plt.subplots(1,1,figsize=(12,1))\n",
    "for ii, yr in enumerate(yys):\n",
    "    dshift=dt.datetime(yys[0],1,1)-dt.datetime(yr,1,1)\n",
    "    axL.plot(datyr[yr].dtUTC+dshift,np.zeros(np.shape(datyr[yr].dtUTC))+.1*ii,'.',\n",
    "             color=clist[ii],markersize=4,label=str(yr))\n",
    "axL.set_yticks(());\n",
    "yearsFmt = mdates.DateFormatter('%d %b')\n",
    "axL.xaxis.set_major_formatter(yearsFmt)\n",
    "axL.xaxis.set_ticks([dt.datetime(int(yys[0]),1,1), dt.datetime(int(yys[0]),3,1),dt.datetime(int(yys[0]),5,1),dt.datetime(int(yys[0]),7,1),\n",
    "                     dt.datetime(int(yys[0]),9,1),dt.datetime(int(yys[0]),11,1),dt.datetime(int(yys[0])+1,1,1)])\n",
    "for tick in axL.get_xticklabels():\n",
    "        tick.set_rotation(90)\n",
    "        tick.set_horizontalalignment('center')\n",
    "axL.set_ylim(-.1,.1*(len(datyr.keys())+1))\n",
    "axL.set_xlim(dt.datetime(yys[0],1,1),dt.datetime(yys[0],12,31))\n",
    "axL.legend()\n",
    "axL.set_frame_on(False)\n",
    "xmin, xmax = axL.get_xaxis().get_view_interval()\n",
    "ymin, ymax = axL.get_yaxis().get_view_interval()\n",
    "axL.add_artist(mpl.lines.Line2D((xmin, xmax), (ymin, ymin), color='black', linewidth=2))"
   ]
  },
  {
   "cell_type": "markdown",
   "metadata": {},
   "source": [
    "#### Display stats"
   ]
  },
  {
   "cell_type": "code",
   "execution_count": 15,
   "metadata": {},
   "outputs": [
    {
     "name": "stdout",
     "output_type": "stream",
     "text": [
      "NO3 depth<15:\n",
      "  N: 375\n",
      "  bias: -3.6716027751055087\n",
      "  RMSE: 6.641381678951944\n",
      "  WSS: 0.8295182013420677\n",
      "dSi depth<15:\n",
      "  N: 375\n",
      "  bias: -22.948508015543222\n",
      "  RMSE: 28.57976842402089\n",
      "  WSS: 0.5666578974144244\n"
     ]
    }
   ],
   "source": [
    "print('NO3 depth<15:') \n",
    "et.printstats(data.loc[data.Z<15,:],'NO23','mod_nitrate')\n",
    "print('dSi depth<15:')\n",
    "et.printstats(data.loc[data.Z<15,:],'Si','mod_silicon')"
   ]
  },
  {
   "cell_type": "markdown",
   "metadata": {},
   "source": [
    "### mod vs. obs plots"
   ]
  },
  {
   "cell_type": "code",
   "execution_count": 16,
   "metadata": {},
   "outputs": [
    {
     "data": {
      "text/plain": [
       "Text(0.5, 1.0, 'dSi ($\\\\mu$M)')"
      ]
     },
     "execution_count": 16,
     "metadata": {},
     "output_type": "execute_result"
    },
    {
     "data": {
      "image/png": "[encoded data removed]",
      "text/plain": [
       "<Figure size 576x216 with 3 Axes>"
      ]
     },
     "metadata": {
      "needs_background": "light"
     },
     "output_type": "display_data"
    }
   ],
   "source": [
    "cm1=cmocean.cm.thermal\n",
    "bounds = np.array([0,5,10,35,100,200,250,300,450])\n",
    "norm = mpl.colors.BoundaryNorm(boundaries=bounds, ncolors=256)\n",
    "#pcm = ax[1].pcolormesh(X, Y, Z1, norm=norm, cmap='RdBu_r')\n",
    "fig,ax=plt.subplots(1,2,figsize=(8,3))\n",
    "args={'marker':'.','s':8,'norm':norm}\n",
    "ps=et.varvarScatter(ax[0],data,'NO23','mod_nitrate','Z',cm=cm1,args=args)\n",
    "ps=et.varvarScatter(ax[1],data,'Si','mod_silicon','Z',cm=cm1,args=args)\n",
    "\n",
    "cb=fig.colorbar(ps,ax=ax[1],boundaries=np.linspace(0,450,46))\n",
    "cb.set_label('Depth (m)')\n",
    "for iax in ax:\n",
    "    iax.set_ylabel('Model')\n",
    "    iax.set_xlabel('Obs')\n",
    "ax[0].set_title('Nitrate ($\\mu$M)')\n",
    "ax[1].set_title('dSi ($\\mu$M)')\n",
    "\n"
   ]
  },
  {
   "cell_type": "code",
   "execution_count": null,
   "metadata": {},
   "outputs": [],
   "source": []
  }
 ],
 "metadata": {
  "kernelspec": {
   "display_name": "Python (py39)",
   "language": "python",
   "name": "py39"
  },
  "language_info": {
   "codemirror_mode": {
    "name": "ipython",
    "version": 3
   },
   "file_extension": ".py",
   "mimetype": "text/x-python",
   "name": "python",
   "nbconvert_exporter": "python",
   "pygments_lexer": "ipython3",
   "version": "3.9.1"
  }
 },
 "nbformat": 4,
 "nbformat_minor": 2
}
