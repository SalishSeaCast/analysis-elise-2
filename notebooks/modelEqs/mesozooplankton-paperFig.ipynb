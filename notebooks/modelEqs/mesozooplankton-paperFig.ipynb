{
 "cells": [
  {
   "cell_type": "code",
   "execution_count": 1,
   "metadata": {
    "collapsed": false
   },
   "outputs": [],
   "source": [
    "import numpy as np\n",
    "from matplotlib import pyplot as plt\n",
    "import matplotlib as mpl\n",
    "import datetime as dt\n",
    "import pandas as pd\n",
    "import f90nml\n",
    "import matplotlib.dates as mdates\n",
    "import netCDF4 as nc\n",
    "\n",
    "mpl.rc('xtick', labelsize=8)\n",
    "mpl.rc('ytick', labelsize=8)\n",
    "mpl.rc('legend', fontsize=8)\n",
    "mpl.rc('axes', titlesize=8)\n",
    "mpl.rc('axes', labelsize=8)\n",
    "mpl.rc('figure', titlesize=8)\n",
    "mpl.rc('font', size=8)\n",
    "mpl.rc('text', usetex=True)\n",
    "mpl.rc('text.latex', preamble = ','.join(r'''\n",
    " \\usepackage{txfonts}\n",
    " \\usepackage{lmodern}\n",
    " '''.split()))\n",
    "mpl.rc('font', family='sans-serif', weight='normal', style='normal')\n",
    "\n",
    "%matplotlib inline"
   ]
  },
  {
   "cell_type": "markdown",
   "metadata": {},
   "source": [
    "## Mesozooplankton\n",
    "      REAL(wp), dimension (1:3) :: zz_rate_mesozoo_sumpeakval !uM N magnitude of mesozooplankton summer concentration peaks\n",
    "      REAL(wp), dimension (1:3) :: zz_rate_mesozoo_sumpeakpos ! year-day times of mesozooplankton summer concentration peaks\n",
    "      REAL(wp), dimension (1:3) :: zz_rate_mesozoo_sumpeakwid ! year-days widths of mesozooplankton summer concentration peaks"
   ]
  },
  {
   "cell_type": "code",
   "execution_count": 2,
   "metadata": {
    "collapsed": false
   },
   "outputs": [],
   "source": [
    "nml=f90nml.read('/data/eolson/results/MEOPAR/biomodelevalpaper/modParams/namelist_smelt_ref')\n",
    "nmlold=f90nml.read('/data/eolson/results/MEOPAR/biomodelevalpaper/modParams/namelist_smelt_ref_old') # for now just load the same one"
   ]
  },
  {
   "cell_type": "code",
   "execution_count": 3,
   "metadata": {
    "collapsed": false
   },
   "outputs": [],
   "source": [
    "#&nampismezo     !   parameters for microzooplankton\n",
    "winterconc       = nml['nampismezo']['zz_rate_mesozoo_winterconc']       #uM N mesozooplankton background concentration\n",
    "summerconc       = 1.0         # uM N mesozooplankton relative summer concentration\n",
    "sumpeakval = np.expand_dims(nml['nampismezo']['zz_rate_mesozoo_sumpeakval'],0)      #uM N magnitude of mesozooplankton summer concentration peaks\n",
    "sumpeakpos = np.expand_dims(nml['nampismezo']['zz_rate_mesozoo_sumpeakpos'],0)   # year-day times of mesozooplankton summer concentration peaks\n",
    "sumpeakwid = np.expand_dims(nml['nampismezo']['zz_rate_mesozoo_sumpeakwid'],0)   # year-days widths of mesozooplankton summer concentration peaks,0)\n",
    "\n",
    "#&nampismezo     !   parameters for microzooplankton\n",
    "winterconc_old       = nmlold['nampismezo']['zz_rate_mesozoo_winterconc']       #uM N mesozooplankton background concentration\n",
    "summerconc_old       = 1.0         # uM N mesozooplankton relative summer concentration\n",
    "sumpeakval_old = np.expand_dims(nmlold['nampismezo']['zz_rate_mesozoo_sumpeakval'],0)      #uM N magnitude of mesozooplankton summer concentration peaks\n",
    "sumpeakpos_old = np.expand_dims(nmlold['nampismezo']['zz_rate_mesozoo_sumpeakpos'],0)   # year-day times of mesozooplankton summer concentration peaks\n",
    "sumpeakwid_old = np.expand_dims(nmlold['nampismezo']['zz_rate_mesozoo_sumpeakwid'],0)   # year-days widths of mesozooplankton summer concentration peaks,0)"
   ]
  },
  {
   "cell_type": "code",
   "execution_count": 4,
   "metadata": {
    "collapsed": false
   },
   "outputs": [
    {
     "name": "stdout",
     "output_type": "stream",
     "text": [
      "rates ok\n"
     ]
    }
   ],
   "source": [
    "maxRate=nml['nampismezo']['zz_rate_mesozoo_r']\n",
    "# check that grazing rate has been unchanged since original run:\n",
    "if not maxRate==1.39e-5:\n",
    "    print('PROBLEM: GRAPH BELOW WILL BE INCORRECT BECAUSE GRAZING RATES ARE NOT CONSISTENT')\n",
    "else: \n",
    "    print('rates ok')"
   ]
  },
  {
   "cell_type": "code",
   "execution_count": 5,
   "metadata": {
    "collapsed": false
   },
   "outputs": [],
   "source": [
    "zz_day=np.arange(1,367) # in model, nday_year starts at 1 on jan 1\n",
    "dts=[dt.datetime(2014,12,31)+dt.timedelta(days=float(ii)) for ii in zz_day]\n",
    "zz_day=np.expand_dims(zz_day,1)\n",
    "\n",
    "MesZoBar = winterconc + \\\n",
    "        summerconc*(np.sum ( sumpeakval * np.exp(-(zz_day-sumpeakpos)**2/sumpeakwid**2),1) \\\n",
    "                    + np.sum ( sumpeakval * np.exp( -(zz_day-sumpeakpos-365.25)**2/sumpeakwid**2),1) \\\n",
    "                    + np.sum ( sumpeakval * np.exp( -(zz_day-sumpeakpos+365.25)**2/sumpeakwid**2),1) )\n",
    "    \n",
    "MesZoBar_old = winterconc_old + \\\n",
    "        summerconc_old*(np.sum ( sumpeakval_old * np.exp(-(zz_day-sumpeakpos_old)**2/sumpeakwid_old**2),1) \\\n",
    "                    + np.sum ( sumpeakval_old * np.exp( -(zz_day-sumpeakpos_old-365.25)**2/sumpeakwid_old**2),1) \\\n",
    "                    + np.sum ( sumpeakval_old * np.exp( -(zz_day-sumpeakpos_old+365.25)**2/sumpeakwid_old**2),1) )"
   ]
  },
  {
   "cell_type": "code",
   "execution_count": 6,
   "metadata": {
    "collapsed": false
   },
   "outputs": [
    {
     "data": {
      "image/png": "[encoded data removed]",
      "text/plain": [
       "<matplotlib.figure.Figure at 0x7fa24c435080>"
      ]
     },
     "metadata": {},
     "output_type": "display_data"
    }
   ],
   "source": [
    "fig,ax=plt.subplots(1,1,figsize=(4,3))\n",
    "ax.plot(dts,MesZoBar_old*maxRate*24*3600,'--',color='grey')\n",
    "ax.plot(dts,MesZoBar*maxRate*24*3600,'-',color='k')\n",
    "ax.set_ylabel('$G_{max}^{MESZ}$ ($\\muup$M N d$^{-1}$)')\n",
    "#ax.set_xlabel('Date')\n",
    "fig.autofmt_xdate(bottom=0.3, rotation=30, ha='right')\n",
    "yearsFmt = mdates.DateFormatter('%b %d')\n",
    "ax.xaxis.set_major_formatter(yearsFmt)\n",
    "fig.savefig('/data/eolson/results/MEOPAR/biomodelevalpaper/figsMod/mesozoo.eps',dpi=400,transparent=True)"
   ]
  },
  {
   "cell_type": "code",
   "execution_count": 7,
   "metadata": {
    "collapsed": false,
    "scrolled": true
   },
   "outputs": [
    {
     "data": {
      "image/png": "[encoded data removed]",
      "text/plain": [
       "<matplotlib.figure.Figure at 0x7fa218f03f98>"
      ]
     },
     "metadata": {},
     "output_type": "display_data"
    }
   ],
   "source": [
    "##version with data\n",
    "df=pd.read_excel('/ocean/eolson/MEOPAR/obs/MackasZoop/1-s2.0-S007966111300061X-mmc2.xls',skiprows=1)\n",
    "df=df.dropna(0,how='any', subset=['Year','Month','Day']).dropna(1,how='any',thresh=200)\n",
    "yd=[(dt.datetime(int(r.Year),int(r.Month),int(r.Day))-dt.datetime(int(r.Year)-1,12,31)).days for i,r in df.iterrows()]\n",
    "df=df.assign(yd=yd).sort_values(by='yd')\n",
    "dtsdf=[dt.datetime(2014,12,31)+dt.timedelta(days=int(ii)) for ii in df['yd'].values]\n",
    "df['dts']=dtsdf\n",
    "\n",
    "fig,ax=plt.subplots(1,1,figsize=(3,2))\n",
    "\n",
    "p2,=ax.plot(dts,MesZoBar_old*maxRate*24*3600,'--',color='k',label='this study')\n",
    "p1,=ax.plot(dts,MesZoBar*maxRate*24*3600,'-',color='k',label='Moore-Maley et al. (2016)')\n",
    "ax.set_ylabel('$G_{max}^{MESZ}$ ($\\muup$M N d$^{-1}$)')\n",
    "fig.autofmt_xdate(bottom=0.3, rotation=30, ha='right')\n",
    "yearsFmt = mdates.DateFormatter('%b %d')\n",
    "ax.set_ylim(0,10)\n",
    "ax.xaxis.set_major_formatter(yearsFmt)\n",
    "ax2=ax.twinx()\n",
    "p3,=ax2.plot(df.loc[:,['dts']],df.loc[:,['Total Biomass']],'.',color='silver', MarkerEdgeWidth=0,MarkerSize=4,label='Mackas et al. (2013)')\n",
    "ax2.set_ylabel('Zooplankton Biomass (g m$^{-2}$)')\n",
    "ax2.set_ylim()\n",
    "ax.set_position(pos=(0.15,.16,.7,.8))\n",
    "ax2.set_position(pos=(0.15,.16,.7,.8))\n",
    "#fig.legend((p1,p2,p3),('this study','Moore-Maley et al. (2016)','Mackas et al. (2013)'),loc=2)\n",
    "#fig.savefig('/data/eolson/results/MEOPAR/biomodelevalpaper/figsMod/mesozooWithMackas.eps',dpi=400,transparent=True)"
   ]
  },
  {
   "cell_type": "code",
   "execution_count": 8,
   "metadata": {
    "collapsed": false,
    "scrolled": true
   },
   "outputs": [
    {
     "data": {
      "image/png": "[encoded data removed]",
      "text/plain": [
       "<matplotlib.figure.Figure at 0x7fa218dc7fd0>"
      ]
     },
     "metadata": {},
     "output_type": "display_data"
    }
   ],
   "source": [
    "##version with data\n",
    "df=pd.read_excel('/ocean/eolson/MEOPAR/obs/MackasZoop/1-s2.0-S007966111300061X-mmc2.xls',skiprows=1)\n",
    "df=df.dropna(0,how='any', subset=['Year','Month','Day']).dropna(1,how='any',thresh=200)\n",
    "yd=[(dt.datetime(int(r.Year),int(r.Month),int(r.Day))-dt.datetime(int(r.Year)-1,12,31)).days for i,r in df.iterrows()]\n",
    "df=df.assign(yd=yd).sort_values(by='yd')\n",
    "dtsdf=[dt.datetime(2014,12,31)+dt.timedelta(days=int(ii)) for ii in df['yd'].values]\n",
    "df['dts']=dtsdf\n",
    "\n",
    "fig,(ax,ax1,ax2)=plt.subplots(3,1,figsize=(3,2.2),sharex=True)\n",
    "ax.yaxis.tick_left()\n",
    "ax1.yaxis.tick_right()\n",
    "ax1.yaxis.set_label_position('right')\n",
    "ax2.yaxis.tick_right()\n",
    "ax2.yaxis.set_label_position('right')\n",
    "for iax in (ax,ax1,ax2):\n",
    "    iax.patch.set_alpha(0)\n",
    "p2,=ax.plot(dts,MesZoBar_old*maxRate*24*3600,'--',color='k',label='this study')\n",
    "p1,=ax.plot(dts,MesZoBar*maxRate*24*3600,'-',color='k',label='Moore-Maley et al. (2016)')\n",
    "ax.set_ylabel('$G_{max}^{MESZ}$ ($\\muup$M N d$^{-1}$)')\n",
    "fig.autofmt_xdate(bottom=0.3, rotation=30, ha='right')\n",
    "yearsFmt = mdates.DateFormatter('%b %d')\n",
    "ax.set_ylim(0,5)\n",
    "ax.xaxis.set_major_formatter(yearsFmt)\n",
    "#ax2=ax.twinx()\n",
    "p3,=ax1.plot(df.loc[:,['dts']],df.loc[:,['Total Biomass']],'.',color='silver', MarkerEdgeWidth=0,MarkerSize=4,label='Mackas et al. (2013)')\n",
    "ax2.plot(df.loc[:,['dts']],df.loc[:,['Total Biomass']],'.',color='silver', MarkerEdgeWidth=0,MarkerSize=4,label='Mackas et al. (2013)')\n",
    "ax2.set_ylabel('Zooplankton Biomass (g m$^{-2}$)')\n",
    "#ax1.set_ylim()\n",
    "ax.set_position(pos=(0.15,.15,.7,.8))\n",
    "ax2.set_position(pos=(0.15,.15,.7,.63))\n",
    "ax1.set_position(pos=(0.15,.8,.7,.15))\n",
    "ax1.spines['bottom'].set_visible(False)\n",
    "ax1.spines['left'].set_visible(False)\n",
    "ax2.spines['top'].set_visible(False)\n",
    "ax1.xaxis.tick_top()\n",
    "ax1.tick_params(labeltop='off')  # don't put tick labels at the top\n",
    "ax2.xaxis.tick_bottom()\n",
    "ax.xaxis.tick_bottom()\n",
    "ax.spines['top'].set_visible(False)\n",
    "ax.spines['right'].set_visible(False)\n",
    "\n",
    "ax1.set_ylim(90,160)\n",
    "ax1.set_yticks((100,130,160))\n",
    "ax2.set_ylim(0,83)\n",
    "\n",
    "d = .015  # how big to make the diagonal lines in axes coordinates\n",
    "# arguments to pass to plot, just so we don't keep repeating them\n",
    "kwargs = dict(transform=ax1.transAxes, color='k', clip_on=False)\n",
    "#ax1.plot((-d, +d), (-d, +d), **kwargs)        # top-left diagonal\n",
    "a=.6/.15\n",
    "ax1.plot((1 - d, 1 + d), (-d*a, +d*a), **kwargs)  # top-right diagonal\n",
    "\n",
    "kwargs.update(transform=ax2.transAxes)  # switch to the bottom axes\n",
    "#ax2.plot((-d, +d), (1 - d, 1 + d), **kwargs)  # bottom-left diagonal\n",
    "ax2.plot((1 - d, 1 + d), (1 - d, 1 + d), **kwargs)  # bottom-right diagonal\n",
    "\n",
    "ax2.yaxis.set_label_coords(1.14,.63)\n",
    "#fig.legend((p1,p2,p3),('this study','Moore-Maley et al. (2016)','Mackas et al. (2013)'),loc=2)\n",
    "fig.savefig('/data/eolson/results/MEOPAR/biomodelevalpaper/figsMod/mesozooWithMackas.eps',dpi=400,transparent=True)"
   ]
  },
  {
   "cell_type": "code",
   "execution_count": 9,
   "metadata": {
    "collapsed": false
   },
   "outputs": [],
   "source": [
    "with nc.Dataset('/ocean/eolson/MEOPAR/NEMO-forcing/grid/mesh_mask201702_noLPE.nc') as fm:\n",
    "    tmask=np.copy(fm.variables['tmask'][0,0,:,:])\n",
    "    navlon=np.copy(fm.variables['nav_lon'][:,:])\n",
    "    navlat=np.copy(fm.variables['nav_lat'][:,:])"
   ]
  },
  {
   "cell_type": "code",
   "execution_count": 10,
   "metadata": {
    "collapsed": false
   },
   "outputs": [
    {
     "data": {
      "text/plain": [
       "(48.7, 50.1)"
      ]
     },
     "execution_count": 10,
     "metadata": {},
     "output_type": "execute_result"
    },
    {
     "data": {
      "image/png": "[encoded data removed]",
      "text/plain": [
       "<matplotlib.figure.Figure at 0x7fa218f738d0>"
      ]
     },
     "metadata": {},
     "output_type": "display_data"
    }
   ],
   "source": [
    "fig,ax=plt.subplots(1,1,figsize=(5,5))\n",
    "ax.pcolormesh(navlon,navlat,tmask,cmap=plt.get_cmap('Greys_r'))\n",
    "plt.plot(-1*df['Longitude (deg W)'],df['Latitude (deg N)'],'b.')\n",
    "ax.set_xlim(-125.3,-123)\n",
    "ax.set_ylim(48.7,50.1)"
   ]
  },
  {
   "cell_type": "code",
   "execution_count": null,
   "metadata": {
    "collapsed": true
   },
   "outputs": [],
   "source": []
  },
  {
   "cell_type": "code",
   "execution_count": null,
   "metadata": {
    "collapsed": true
   },
   "outputs": [],
   "source": []
  },
  {
   "cell_type": "code",
   "execution_count": null,
   "metadata": {
    "collapsed": true
   },
   "outputs": [],
   "source": []
  },
  {
   "cell_type": "code",
   "execution_count": null,
   "metadata": {
    "collapsed": true
   },
   "outputs": [],
   "source": []
  },
  {
   "cell_type": "code",
   "execution_count": null,
   "metadata": {
    "collapsed": true
   },
   "outputs": [],
   "source": []
  },
  {
   "cell_type": "code",
   "execution_count": null,
   "metadata": {
    "collapsed": true
   },
   "outputs": [],
   "source": []
  },
  {
   "cell_type": "code",
   "execution_count": null,
   "metadata": {
    "collapsed": true
   },
   "outputs": [],
   "source": []
  }
 ],
 "metadata": {
  "anaconda-cloud": {},
  "kernelspec": {
   "display_name": "Python [default]",
   "language": "python",
   "name": "python3"
  },
  "language_info": {
   "codemirror_mode": {
    "name": "ipython",
    "version": 3
   },
   "file_extension": ".py",
   "mimetype": "text/x-python",
   "name": "python",
   "nbconvert_exporter": "python",
   "pygments_lexer": "ipython3",
   "version": "3.5.2"
  }
 },
 "nbformat": 4,
 "nbformat_minor": 1
}
