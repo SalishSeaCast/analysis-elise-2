{
 "cells": [
  {
   "cell_type": "markdown",
   "metadata": {
    "tags": [
     "papermill-error-cell-tag"
    ]
   },
   "source": [
    "<span style=\"color:red; font-family:Helvetica Neue, Helvetica, Arial, sans-serif; font-size:2em;\">An Exception was encountered at '<a href=\"#papermill-error-cell\">In [6]</a>'.</span>"
   ]
  },
  {
   "cell_type": "code",
   "execution_count": 1,
   "metadata": {
    "execution": {
     "iopub.execute_input": "2021-02-09T06:12:03.014041Z",
     "iopub.status.busy": "2021-02-09T06:12:03.013023Z",
     "iopub.status.idle": "2021-02-09T06:12:04.125706Z",
     "shell.execute_reply": "2021-02-09T06:12:04.125264Z"
    },
    "papermill": {
     "duration": 1.135723,
     "end_time": "2021-02-09T06:12:04.125829",
     "exception": false,
     "start_time": "2021-02-09T06:12:02.990106",
     "status": "completed"
    },
    "tags": []
   },
   "outputs": [],
   "source": [
    "import numpy as np\n",
    "import matplotlib.pyplot as plt\n",
    "import pandas as pd\n",
    "import netCDF4 as nc\n",
    "import datetime as dt\n",
    "from salishsea_tools import evaltools as et, viz_tools\n",
    "import gsw\n",
    "import matplotlib as mpl\n",
    "import cmocean as cmo\n",
    "import cmocean\n",
    "import f90nml\n",
    "from collections import OrderedDict\n",
    "\n",
    "import scipy.optimize as scopt\n",
    "\n",
    "fs=16\n",
    "mpl.rc('xtick', labelsize=fs)\n",
    "mpl.rc('ytick', labelsize=fs)\n",
    "mpl.rc('legend', fontsize=fs)\n",
    "mpl.rc('axes', titlesize=fs)\n",
    "mpl.rc('axes', labelsize=fs)\n",
    "mpl.rc('figure', titlesize=fs)\n",
    "mpl.rc('font', size=fs)\n",
    "mpl.rc('text', usetex=True)\n",
    "mpl.rc('text.latex', preamble = r'''\n",
    " \\usepackage{txfonts}\n",
    " \\usepackage{lmodern}\n",
    " ''')\n",
    "mpl.rc('font', family='sans-serif', weight='normal', style='normal')\n",
    "\n",
    "import warnings\n",
    "warnings.filterwarnings('ignore')\n",
    "from IPython.display import Markdown, display\n",
    "\n",
    "%matplotlib inline"
   ]
  },
  {
   "cell_type": "code",
   "execution_count": 2,
   "metadata": {
    "execution": {
     "iopub.execute_input": "2021-02-09T06:12:04.157493Z",
     "iopub.status.busy": "2021-02-09T06:12:04.157157Z",
     "iopub.status.idle": "2021-02-09T06:12:04.158788Z",
     "shell.execute_reply": "2021-02-09T06:12:04.158450Z"
    },
    "papermill": {
     "duration": 0.018022,
     "end_time": "2021-02-09T06:12:04.158866",
     "exception": false,
     "start_time": "2021-02-09T06:12:04.140844",
     "status": "completed"
    },
    "tags": [
     "parameters"
    ]
   },
   "outputs": [],
   "source": [
    "modver = '202007C-P2'\n",
    "matchpath = '/data/sallen/results/MEOPAR/202007/202007C-p2/ObsModel_202007Cp2_PSF_20160101-20161231.csv'\n",
    "datespan = '20160101-20161231'\n",
    "fname = 'Cp2_PSF_20160101-20161231.csv'"
   ]
  },
  {
   "cell_type": "code",
   "execution_count": 3,
   "metadata": {
    "execution": {
     "iopub.execute_input": "2021-02-09T06:12:04.190225Z",
     "iopub.status.busy": "2021-02-09T06:12:04.189889Z",
     "iopub.status.idle": "2021-02-09T06:12:04.191124Z",
     "shell.execute_reply": "2021-02-09T06:12:04.191399Z"
    },
    "papermill": {
     "duration": 0.01753,
     "end_time": "2021-02-09T06:12:04.191488",
     "exception": false,
     "start_time": "2021-02-09T06:12:04.173958",
     "status": "completed"
    },
    "tags": [
     "injected-parameters"
    ]
   },
   "outputs": [],
   "source": [
    "# Parameters\n",
    "modver = \"202007C-p3\"\n",
    "matchpath = \"/data/sallen/results/MEOPAR/202007/202007C-p3/ObsModel_202007Cp3_PSF_20150101-20151231.csv\"\n",
    "datespan = \"20150101-20151231\"\n",
    "fname = \"ObsModel_202007Cp3_PSF_20150101-20151231.csv\"\n"
   ]
  },
  {
   "cell_type": "code",
   "execution_count": 4,
   "metadata": {
    "execution": {
     "iopub.execute_input": "2021-02-09T06:12:04.223817Z",
     "iopub.status.busy": "2021-02-09T06:12:04.223358Z",
     "iopub.status.idle": "2021-02-09T06:12:04.227872Z",
     "shell.execute_reply": "2021-02-09T06:12:04.227584Z"
    },
    "papermill": {
     "duration": 0.021773,
     "end_time": "2021-02-09T06:12:04.227952",
     "exception": false,
     "start_time": "2021-02-09T06:12:04.206179",
     "status": "completed"
    },
    "tags": []
   },
   "outputs": [
    {
     "data": {
      "text/markdown": [
       "### PSF Comparisons "
      ],
      "text/plain": [
       "<IPython.core.display.Markdown object>"
      ]
     },
     "metadata": {},
     "output_type": "display_data"
    },
    {
     "data": {
      "text/markdown": [
       "###   202007C-p3"
      ],
      "text/plain": [
       "<IPython.core.display.Markdown object>"
      ]
     },
     "metadata": {},
     "output_type": "display_data"
    },
    {
     "data": {
      "text/markdown": [
       "###    20150101-20151231"
      ],
      "text/plain": [
       "<IPython.core.display.Markdown object>"
      ]
     },
     "metadata": {},
     "output_type": "display_data"
    },
    {
     "data": {
      "text/markdown": [
       "####   File: ObsModel_202007Cp3_PSF_20150101-20151231.csv"
      ],
      "text/plain": [
       "<IPython.core.display.Markdown object>"
      ]
     },
     "metadata": {},
     "output_type": "display_data"
    }
   ],
   "source": [
    "display(Markdown('''### PSF Comparisons '''))\n",
    "display(Markdown('''###   ''' + modver))\n",
    "display(Markdown('''###    '''+ str(datespan)))\n",
    "display(Markdown('''####   File: '''+ fname))"
   ]
  },
  {
   "cell_type": "code",
   "execution_count": 5,
   "metadata": {
    "execution": {
     "iopub.execute_input": "2021-02-09T06:12:04.261983Z",
     "iopub.status.busy": "2021-02-09T06:12:04.261473Z",
     "iopub.status.idle": "2021-02-09T06:12:04.263704Z",
     "shell.execute_reply": "2021-02-09T06:12:04.263362Z"
    },
    "papermill": {
     "duration": 0.019636,
     "end_time": "2021-02-09T06:12:04.263772",
     "exception": false,
     "start_time": "2021-02-09T06:12:04.244136",
     "status": "completed"
    },
    "tags": []
   },
   "outputs": [
    {
     "data": {
      "text/html": [
       "<script>\n",
       "code_show=true; \n",
       "function code_toggle() {\n",
       " if (code_show){\n",
       " $('div.input').hide();\n",
       " } else {\n",
       " $('div.input').show();\n",
       " }\n",
       " code_show = !code_show\n",
       "} \n",
       "$( document ).ready(code_toggle);\n",
       "</script>\n",
       "\n",
       "<form action=\"javascript:code_toggle()\"><input type=\"submit\" value=\"Click here to toggle on/off the raw code.\"></form>"
      ],
      "text/plain": [
       "<IPython.core.display.HTML object>"
      ]
     },
     "execution_count": 5,
     "metadata": {},
     "output_type": "execute_result"
    }
   ],
   "source": [
    "from IPython.display import HTML\n",
    "\n",
    "HTML('''<script>\n",
    "code_show=true; \n",
    "function code_toggle() {\n",
    " if (code_show){\n",
    " $('div.input').hide();\n",
    " } else {\n",
    " $('div.input').show();\n",
    " }\n",
    " code_show = !code_show\n",
    "} \n",
    "$( document ).ready(code_toggle);\n",
    "</script>\n",
    "\n",
    "<form action=\"javascript:code_toggle()\"><input type=\"submit\" value=\"Click here to toggle on/off the raw code.\"></form>''')\n"
   ]
  },
  {
   "cell_type": "markdown",
   "metadata": {
    "tags": [
     "papermill-error-cell-tag"
    ]
   },
   "source": [
    "<span id=\"papermill-error-cell\" style=\"color:red; font-family:Helvetica Neue, Helvetica, Arial, sans-serif; font-size:2em;\">Execution using papermill encountered an exception here and stopped:</span>"
   ]
  },
  {
   "cell_type": "code",
   "execution_count": 6,
   "metadata": {
    "execution": {
     "iopub.execute_input": "2021-02-09T06:12:04.298589Z",
     "iopub.status.busy": "2021-02-09T06:12:04.298261Z",
     "iopub.status.idle": "2021-02-09T06:12:04.412365Z",
     "shell.execute_reply": "2021-02-09T06:12:04.411857Z"
    },
    "papermill": {
     "duration": 0.132904,
     "end_time": "2021-02-09T06:12:04.412486",
     "exception": true,
     "start_time": "2021-02-09T06:12:04.279582",
     "status": "failed"
    },
    "tags": []
   },
   "outputs": [
    {
     "ename": "PermissionError",
     "evalue": "[Errno 13] Permission denied: '/data/sallen/results/MEOPAR/202007/202007C-p3/ObsModel_202007Cp3_PSF_20150101-20151231.csv'",
     "output_type": "error",
     "traceback": [
      "\u001b[0;31m---------------------------------------------------------------------------\u001b[0m",
      "\u001b[0;31mPermissionError\u001b[0m                           Traceback (most recent call last)",
      "\u001b[0;32m<ipython-input-6-62cea7005d14>\u001b[0m in \u001b[0;36m<module>\u001b[0;34m\u001b[0m\n\u001b[0;32m----> 1\u001b[0;31m \u001b[0mdata\u001b[0m\u001b[0;34m=\u001b[0m\u001b[0mpd\u001b[0m\u001b[0;34m.\u001b[0m\u001b[0mread_csv\u001b[0m\u001b[0;34m(\u001b[0m\u001b[0mmatchpath\u001b[0m\u001b[0;34m,\u001b[0m\u001b[0mindex_col\u001b[0m\u001b[0;34m=\u001b[0m\u001b[0;36m0\u001b[0m\u001b[0;34m)\u001b[0m\u001b[0;34m\u001b[0m\u001b[0;34m\u001b[0m\u001b[0m\n\u001b[0m\u001b[1;32m      2\u001b[0m \u001b[0mdata\u001b[0m\u001b[0;34m.\u001b[0m\u001b[0mdropna\u001b[0m\u001b[0;34m(\u001b[0m\u001b[0maxis\u001b[0m\u001b[0;34m=\u001b[0m\u001b[0;36m1\u001b[0m\u001b[0;34m,\u001b[0m\u001b[0mhow\u001b[0m\u001b[0;34m=\u001b[0m\u001b[0;34m'all'\u001b[0m\u001b[0;34m,\u001b[0m\u001b[0minplace\u001b[0m\u001b[0;34m=\u001b[0m\u001b[0;32mTrue\u001b[0m\u001b[0;34m)\u001b[0m\u001b[0;34m\u001b[0m\u001b[0;34m\u001b[0m\u001b[0m\n\u001b[1;32m      3\u001b[0m \u001b[0mdata\u001b[0m\u001b[0;34m[\u001b[0m\u001b[0;34m'dtUTC'\u001b[0m\u001b[0;34m]\u001b[0m\u001b[0;34m=\u001b[0m\u001b[0;34m[\u001b[0m\u001b[0mdt\u001b[0m\u001b[0;34m.\u001b[0m\u001b[0mdatetime\u001b[0m\u001b[0;34m.\u001b[0m\u001b[0mstrptime\u001b[0m\u001b[0;34m(\u001b[0m\u001b[0mii\u001b[0m\u001b[0;34m,\u001b[0m\u001b[0;34m'%Y-%m-%d %H:%M:%S'\u001b[0m\u001b[0;34m)\u001b[0m \u001b[0;32mfor\u001b[0m \u001b[0mii\u001b[0m \u001b[0;32min\u001b[0m \u001b[0mdata\u001b[0m\u001b[0;34m[\u001b[0m\u001b[0;34m'dtUTC'\u001b[0m\u001b[0;34m]\u001b[0m\u001b[0;34m]\u001b[0m\u001b[0;34m\u001b[0m\u001b[0;34m\u001b[0m\u001b[0m\n",
      "\u001b[0;32m~/anaconda3/envs/py39/lib/python3.9/site-packages/pandas/io/parsers.py\u001b[0m in \u001b[0;36mread_csv\u001b[0;34m(filepath_or_buffer, sep, delimiter, header, names, index_col, usecols, squeeze, prefix, mangle_dupe_cols, dtype, engine, converters, true_values, false_values, skipinitialspace, skiprows, skipfooter, nrows, na_values, keep_default_na, na_filter, verbose, skip_blank_lines, parse_dates, infer_datetime_format, keep_date_col, date_parser, dayfirst, cache_dates, iterator, chunksize, compression, thousands, decimal, lineterminator, quotechar, quoting, doublequote, escapechar, comment, encoding, dialect, error_bad_lines, warn_bad_lines, delim_whitespace, low_memory, memory_map, float_precision)\u001b[0m\n\u001b[1;32m    686\u001b[0m     )\n\u001b[1;32m    687\u001b[0m \u001b[0;34m\u001b[0m\u001b[0m\n\u001b[0;32m--> 688\u001b[0;31m     \u001b[0;32mreturn\u001b[0m \u001b[0m_read\u001b[0m\u001b[0;34m(\u001b[0m\u001b[0mfilepath_or_buffer\u001b[0m\u001b[0;34m,\u001b[0m \u001b[0mkwds\u001b[0m\u001b[0;34m)\u001b[0m\u001b[0;34m\u001b[0m\u001b[0;34m\u001b[0m\u001b[0m\n\u001b[0m\u001b[1;32m    689\u001b[0m \u001b[0;34m\u001b[0m\u001b[0m\n\u001b[1;32m    690\u001b[0m \u001b[0;34m\u001b[0m\u001b[0m\n",
      "\u001b[0;32m~/anaconda3/envs/py39/lib/python3.9/site-packages/pandas/io/parsers.py\u001b[0m in \u001b[0;36m_read\u001b[0;34m(filepath_or_buffer, kwds)\u001b[0m\n\u001b[1;32m    452\u001b[0m \u001b[0;34m\u001b[0m\u001b[0m\n\u001b[1;32m    453\u001b[0m     \u001b[0;31m# Create the parser.\u001b[0m\u001b[0;34m\u001b[0m\u001b[0;34m\u001b[0m\u001b[0;34m\u001b[0m\u001b[0m\n\u001b[0;32m--> 454\u001b[0;31m     \u001b[0mparser\u001b[0m \u001b[0;34m=\u001b[0m \u001b[0mTextFileReader\u001b[0m\u001b[0;34m(\u001b[0m\u001b[0mfp_or_buf\u001b[0m\u001b[0;34m,\u001b[0m \u001b[0;34m**\u001b[0m\u001b[0mkwds\u001b[0m\u001b[0;34m)\u001b[0m\u001b[0;34m\u001b[0m\u001b[0;34m\u001b[0m\u001b[0m\n\u001b[0m\u001b[1;32m    455\u001b[0m \u001b[0;34m\u001b[0m\u001b[0m\n\u001b[1;32m    456\u001b[0m     \u001b[0;32mif\u001b[0m \u001b[0mchunksize\u001b[0m \u001b[0;32mor\u001b[0m \u001b[0miterator\u001b[0m\u001b[0;34m:\u001b[0m\u001b[0;34m\u001b[0m\u001b[0;34m\u001b[0m\u001b[0m\n",
      "\u001b[0;32m~/anaconda3/envs/py39/lib/python3.9/site-packages/pandas/io/parsers.py\u001b[0m in \u001b[0;36m__init__\u001b[0;34m(self, f, engine, **kwds)\u001b[0m\n\u001b[1;32m    946\u001b[0m             \u001b[0mself\u001b[0m\u001b[0;34m.\u001b[0m\u001b[0moptions\u001b[0m\u001b[0;34m[\u001b[0m\u001b[0;34m\"has_index_names\"\u001b[0m\u001b[0;34m]\u001b[0m \u001b[0;34m=\u001b[0m \u001b[0mkwds\u001b[0m\u001b[0;34m[\u001b[0m\u001b[0;34m\"has_index_names\"\u001b[0m\u001b[0;34m]\u001b[0m\u001b[0;34m\u001b[0m\u001b[0;34m\u001b[0m\u001b[0m\n\u001b[1;32m    947\u001b[0m \u001b[0;34m\u001b[0m\u001b[0m\n\u001b[0;32m--> 948\u001b[0;31m         \u001b[0mself\u001b[0m\u001b[0;34m.\u001b[0m\u001b[0m_make_engine\u001b[0m\u001b[0;34m(\u001b[0m\u001b[0mself\u001b[0m\u001b[0;34m.\u001b[0m\u001b[0mengine\u001b[0m\u001b[0;34m)\u001b[0m\u001b[0;34m\u001b[0m\u001b[0;34m\u001b[0m\u001b[0m\n\u001b[0m\u001b[1;32m    949\u001b[0m \u001b[0;34m\u001b[0m\u001b[0m\n\u001b[1;32m    950\u001b[0m     \u001b[0;32mdef\u001b[0m \u001b[0mclose\u001b[0m\u001b[0;34m(\u001b[0m\u001b[0mself\u001b[0m\u001b[0;34m)\u001b[0m\u001b[0;34m:\u001b[0m\u001b[0;34m\u001b[0m\u001b[0;34m\u001b[0m\u001b[0m\n",
      "\u001b[0;32m~/anaconda3/envs/py39/lib/python3.9/site-packages/pandas/io/parsers.py\u001b[0m in \u001b[0;36m_make_engine\u001b[0;34m(self, engine)\u001b[0m\n\u001b[1;32m   1178\u001b[0m     \u001b[0;32mdef\u001b[0m \u001b[0m_make_engine\u001b[0m\u001b[0;34m(\u001b[0m\u001b[0mself\u001b[0m\u001b[0;34m,\u001b[0m \u001b[0mengine\u001b[0m\u001b[0;34m=\u001b[0m\u001b[0;34m\"c\"\u001b[0m\u001b[0;34m)\u001b[0m\u001b[0;34m:\u001b[0m\u001b[0;34m\u001b[0m\u001b[0;34m\u001b[0m\u001b[0m\n\u001b[1;32m   1179\u001b[0m         \u001b[0;32mif\u001b[0m \u001b[0mengine\u001b[0m \u001b[0;34m==\u001b[0m \u001b[0;34m\"c\"\u001b[0m\u001b[0;34m:\u001b[0m\u001b[0;34m\u001b[0m\u001b[0;34m\u001b[0m\u001b[0m\n\u001b[0;32m-> 1180\u001b[0;31m             \u001b[0mself\u001b[0m\u001b[0;34m.\u001b[0m\u001b[0m_engine\u001b[0m \u001b[0;34m=\u001b[0m \u001b[0mCParserWrapper\u001b[0m\u001b[0;34m(\u001b[0m\u001b[0mself\u001b[0m\u001b[0;34m.\u001b[0m\u001b[0mf\u001b[0m\u001b[0;34m,\u001b[0m \u001b[0;34m**\u001b[0m\u001b[0mself\u001b[0m\u001b[0;34m.\u001b[0m\u001b[0moptions\u001b[0m\u001b[0;34m)\u001b[0m\u001b[0;34m\u001b[0m\u001b[0;34m\u001b[0m\u001b[0m\n\u001b[0m\u001b[1;32m   1181\u001b[0m         \u001b[0;32melse\u001b[0m\u001b[0;34m:\u001b[0m\u001b[0;34m\u001b[0m\u001b[0;34m\u001b[0m\u001b[0m\n\u001b[1;32m   1182\u001b[0m             \u001b[0;32mif\u001b[0m \u001b[0mengine\u001b[0m \u001b[0;34m==\u001b[0m \u001b[0;34m\"python\"\u001b[0m\u001b[0;34m:\u001b[0m\u001b[0;34m\u001b[0m\u001b[0;34m\u001b[0m\u001b[0m\n",
      "\u001b[0;32m~/anaconda3/envs/py39/lib/python3.9/site-packages/pandas/io/parsers.py\u001b[0m in \u001b[0;36m__init__\u001b[0;34m(self, src, **kwds)\u001b[0m\n\u001b[1;32m   2008\u001b[0m         \u001b[0mkwds\u001b[0m\u001b[0;34m[\u001b[0m\u001b[0;34m\"usecols\"\u001b[0m\u001b[0;34m]\u001b[0m \u001b[0;34m=\u001b[0m \u001b[0mself\u001b[0m\u001b[0;34m.\u001b[0m\u001b[0musecols\u001b[0m\u001b[0;34m\u001b[0m\u001b[0;34m\u001b[0m\u001b[0m\n\u001b[1;32m   2009\u001b[0m \u001b[0;34m\u001b[0m\u001b[0m\n\u001b[0;32m-> 2010\u001b[0;31m         \u001b[0mself\u001b[0m\u001b[0;34m.\u001b[0m\u001b[0m_reader\u001b[0m \u001b[0;34m=\u001b[0m \u001b[0mparsers\u001b[0m\u001b[0;34m.\u001b[0m\u001b[0mTextReader\u001b[0m\u001b[0;34m(\u001b[0m\u001b[0msrc\u001b[0m\u001b[0;34m,\u001b[0m \u001b[0;34m**\u001b[0m\u001b[0mkwds\u001b[0m\u001b[0;34m)\u001b[0m\u001b[0;34m\u001b[0m\u001b[0;34m\u001b[0m\u001b[0m\n\u001b[0m\u001b[1;32m   2011\u001b[0m         \u001b[0mself\u001b[0m\u001b[0;34m.\u001b[0m\u001b[0munnamed_cols\u001b[0m \u001b[0;34m=\u001b[0m \u001b[0mself\u001b[0m\u001b[0;34m.\u001b[0m\u001b[0m_reader\u001b[0m\u001b[0;34m.\u001b[0m\u001b[0munnamed_cols\u001b[0m\u001b[0;34m\u001b[0m\u001b[0;34m\u001b[0m\u001b[0m\n\u001b[1;32m   2012\u001b[0m \u001b[0;34m\u001b[0m\u001b[0m\n",
      "\u001b[0;32mpandas/_libs/parsers.pyx\u001b[0m in \u001b[0;36mpandas._libs.parsers.TextReader.__cinit__\u001b[0;34m()\u001b[0m\n",
      "\u001b[0;32mpandas/_libs/parsers.pyx\u001b[0m in \u001b[0;36mpandas._libs.parsers.TextReader._setup_parser_source\u001b[0;34m()\u001b[0m\n",
      "\u001b[0;31mPermissionError\u001b[0m: [Errno 13] Permission denied: '/data/sallen/results/MEOPAR/202007/202007C-p3/ObsModel_202007Cp3_PSF_20150101-20151231.csv'"
     ]
    }
   ],
   "source": [
    "data=pd.read_csv(matchpath,index_col=0)\n",
    "data.dropna(axis=1,how='all',inplace=True)\n",
    "data['dtUTC']=[dt.datetime.strptime(ii,'%Y-%m-%d %H:%M:%S') for ii in data['dtUTC']]"
   ]
  },
  {
   "cell_type": "code",
   "execution_count": null,
   "metadata": {
    "papermill": {
     "duration": null,
     "end_time": null,
     "exception": null,
     "start_time": null,
     "status": "pending"
    },
    "tags": []
   },
   "outputs": [],
   "source": [
    "print('Fields available:')\n",
    "print([el for el in data.keys()])"
   ]
  },
  {
   "cell_type": "code",
   "execution_count": null,
   "metadata": {
    "papermill": {
     "duration": null,
     "end_time": null,
     "exception": null,
     "start_time": null,
     "status": "pending"
    },
    "tags": []
   },
   "outputs": [],
   "source": [
    "data.rename(columns={'SA':'AbsSal','CT':'ConsT','NO23':'N'},inplace=True)"
   ]
  },
  {
   "cell_type": "code",
   "execution_count": null,
   "metadata": {
    "papermill": {
     "duration": null,
     "end_time": null,
     "exception": null,
     "start_time": null,
     "status": "pending"
    },
    "tags": []
   },
   "outputs": [],
   "source": [
    "# density calculations:\n",
    "data['Pressure']=gsw.p_from_z(data['Z'],data['Lat'])\n",
    "data['rho']=gsw.rho(data['AbsSal'],data['ConsT'],data['Pressure'])\n",
    "data['mod_rho']=gsw.rho(data['mod_vosaline'],data['mod_votemper'],\n",
    "                        gsw.p_from_z(-1*data['Z'],data['Lat']))"
   ]
  },
  {
   "cell_type": "code",
   "execution_count": null,
   "metadata": {
    "papermill": {
     "duration": null,
     "end_time": null,
     "exception": null,
     "start_time": null,
     "status": "pending"
    },
    "tags": []
   },
   "outputs": [],
   "source": [
    "def logt(x):\n",
    "    return np.log10(x+.001)"
   ]
  },
  {
   "cell_type": "code",
   "execution_count": null,
   "metadata": {
    "papermill": {
     "duration": null,
     "end_time": null,
     "exception": null,
     "start_time": null,
     "status": "pending"
    },
    "tags": []
   },
   "outputs": [],
   "source": [
    "def fitZeroBias(mm,cc):\n",
    "    zer=scopt.newton(lambda C,x,y:(np.mean(y)-C*np.mean(x)),1.8,fprime=lambda C,x,y:(-1*np.mean(x)),args=(mm,cc))\n",
    "    return zer"
   ]
  },
  {
   "cell_type": "code",
   "execution_count": null,
   "metadata": {
    "papermill": {
     "duration": null,
     "end_time": null,
     "exception": null,
     "start_time": null,
     "status": "pending"
    },
    "tags": []
   },
   "outputs": [],
   "source": [
    "# find chl:N ratio that minimizes bias\n",
    "iii=(data['Chl']>=0)&(data['mod_diatoms']>=0)\n",
    "modN=data.loc[iii,['mod_diatoms']].values+data.loc[iii,['mod_flagellates']].values+\\\n",
    "                                       data.loc[iii,['mod_ciliates']].values\n",
    "obsChl=data.loc[iii,['Chl']].values\n",
    "\n",
    "mod_chl_N_B=fitZeroBias(modN,obsChl)"
   ]
  },
  {
   "cell_type": "code",
   "execution_count": null,
   "metadata": {
    "papermill": {
     "duration": null,
     "end_time": null,
     "exception": null,
     "start_time": null,
     "status": "pending"
    },
    "tags": []
   },
   "outputs": [],
   "source": [
    "\n",
    "display(Markdown(f'''#####   Zero Bias, Chl:N= {mod_chl_N_B:.2f} '''))\n",
    "mod_chl_N=mod_chl_N_B"
   ]
  },
  {
   "cell_type": "code",
   "execution_count": null,
   "metadata": {
    "papermill": {
     "duration": null,
     "end_time": null,
     "exception": null,
     "start_time": null,
     "status": "pending"
    },
    "tags": []
   },
   "outputs": [],
   "source": [
    "# chlorophyll calculations\n",
    "data['l10_obsChl']=logt(data['Chl'])\n",
    "data['l10_modChl']=logt(mod_chl_N*(data['mod_diatoms']+data['mod_ciliates']+data['mod_flagellates'])+0.01)\n",
    "data['mod_Chl']=mod_chl_N*(data['mod_diatoms']+data['mod_ciliates']+data['mod_flagellates'])"
   ]
  },
  {
   "cell_type": "code",
   "execution_count": null,
   "metadata": {
    "papermill": {
     "duration": null,
     "end_time": null,
     "exception": null,
     "start_time": null,
     "status": "pending"
    },
    "tags": []
   },
   "outputs": [],
   "source": [
    "cm1=cmocean.cm.thermal\n",
    "year=data.dtUTC[0].year\n",
    "theta=-30\n",
    "lon0=-123.9\n",
    "lat0=49.3\n",
    "with nc.Dataset('/data/eolson/results/MEOPAR/NEMO-forcing-new/grid/bathymetry_201702.nc') as bathy:\n",
    "    bathylon=np.copy(bathy.variables['nav_lon'][:,:])\n",
    "    bathylat=np.copy(bathy.variables['nav_lat'][:,:])\n",
    "    bathyZ=np.copy(bathy.variables['Bathymetry'][:,:])"
   ]
  },
  {
   "cell_type": "code",
   "execution_count": null,
   "metadata": {
    "papermill": {
     "duration": null,
     "end_time": null,
     "exception": null,
     "start_time": null,
     "status": "pending"
    },
    "tags": []
   },
   "outputs": [],
   "source": [
    "def byDepth(ax,obsvar,modvar,lims):\n",
    "    ps=et.varvarPlot(ax,data,obsvar,modvar,'Z',(15,22),'z','m',('mediumseagreen','darkturquoise','navy'))\n",
    "    l=ax.legend(handles=ps)\n",
    "    ax.set_xlabel('Obs')\n",
    "    ax.set_ylabel('Model')\n",
    "    ax.plot(lims,lims,'k-',alpha=.5)\n",
    "    ax.set_xlim(lims)\n",
    "    ax.set_ylim(lims)\n",
    "    ax.set_aspect(1)\n",
    "    return ps,l\n",
    "\n",
    "def byRegion(ax,obsvar,modvar,lims):\n",
    "    ps1=et.varvarPlot(ax,dJDF,obsvar,modvar,cols=('b',),lname='SJDF')\n",
    "    ps2=et.varvarPlot(ax,dSJGI,obsvar,modvar,cols=('c',),lname='SJGI')\n",
    "    ps3=et.varvarPlot(ax,dSOG,obsvar,modvar,cols=('y',),lname='SOG')\n",
    "    ps4=et.varvarPlot(ax,dNSOG,obsvar,modvar,cols=('m',),lname='NSOG')\n",
    "    l=ax.legend(handles=[ps1[0][0],ps2[0][0],ps3[0][0],ps4[0][0]])\n",
    "    ax.set_xlabel('Obs')\n",
    "    ax.set_ylabel('Model')\n",
    "    ax.plot(lims,lims,'k-',alpha=.5)\n",
    "    ax.set_xlim(lims)\n",
    "    ax.set_ylim(lims)\n",
    "    ax.set_aspect(1)\n",
    "    return (ps1,ps2,ps3,ps4),l\n",
    "\n",
    "def bySeason(ax,obsvar,modvar,lims):\n",
    "    for axi in ax:\n",
    "        axi.plot(lims,lims,'k-')\n",
    "        axi.set_xlim(lims)\n",
    "        axi.set_ylim(lims)\n",
    "        axi.set_aspect(1)\n",
    "        axi.set_xlabel('Obs')\n",
    "        axi.set_ylabel('Model')\n",
    "    ps=et.varvarPlot(ax[0],JFM,obsvar,modvar,cols=('crimson','darkturquoise','navy'))\n",
    "    ax[0].set_title('Jan-Mar')\n",
    "    ps=et.varvarPlot(ax[1],Apr,obsvar,modvar,cols=('crimson','darkturquoise','navy'))\n",
    "    ax[1].set_title('Apr')\n",
    "    ps=et.varvarPlot(ax[2],MJJA,obsvar,modvar,cols=('crimson','darkturquoise','navy'))\n",
    "    ax[2].set_title('May-Aug')\n",
    "    ps=et.varvarPlot(ax[3],SOND,obsvar,modvar,cols=('crimson','darkturquoise','navy'))\n",
    "    ax[3].set_title('Sep-Dec')\n",
    "    return \n",
    "\n",
    "def ErrErr(fig,ax,obsvar1,modvar1,obsvar2,modvar2,lims1,lims2):\n",
    "    m=ax.scatter(data[modvar1]-data[obsvar1],data[modvar2]-data[obsvar2],c=data['Z'],s=1,cmap='gnuplot')\n",
    "    cb=fig.colorbar(m,ax=ax,label='Depth (m)')\n",
    "    ax.set_xlim(lims1)\n",
    "    ax.set_ylim(lims2)\n",
    "    ax.set_aspect((lims1[1]-lims1[0])/(lims2[1]-lims2[0]))\n",
    "    return m,cb"
   ]
  },
  {
   "cell_type": "code",
   "execution_count": null,
   "metadata": {
    "papermill": {
     "duration": null,
     "end_time": null,
     "exception": null,
     "start_time": null,
     "status": "pending"
    },
    "tags": []
   },
   "outputs": [],
   "source": [
    "fig, ax = plt.subplots(1,2,figsize = (13,6))\n",
    "viz_tools.set_aspect(ax[0], coords = 'map')\n",
    "ax[0].plot(data['Lon'], data['Lat'], 'ro',label='data')\n",
    "ax[0].plot(data.loc[data.Si>75,['Lon']],data.loc[data.Si>75,['Lat']],'*',color='y',label='high Si')\n",
    "grid = nc.Dataset('/data/vdo/MEOPAR/NEMO-forcing/grid/bathymetry_201702.nc')\n",
    "viz_tools.plot_coastline(ax[0], grid, coords = 'map',isobath=.1)\n",
    "ax[0].set_ylim(48, 50.5)\n",
    "ax[0].legend()\n",
    "ax[0].set_xlim(-125.7, -122.5);\n",
    "ax[0].set_title('Observation Locations');\n",
    "\n",
    "viz_tools.set_aspect(ax[1], coords = 'map')\n",
    "#ax[1].plot(data['Lon'], data['Lat'], 'ro',label='data')\n",
    "dJDF=data.loc[(data.Lon<-123.6)&(data.Lat<48.6)]\n",
    "ax[1].plot(dJDF['Lon'],dJDF['Lat'],'b.',label='JDF')\n",
    "dSJGI=data.loc[(data.Lon>=-123.6)&(data.Lat<48.9)]\n",
    "ax[1].plot(dSJGI['Lon'],dSJGI['Lat'],'c.',label='SJGI')\n",
    "dSOG=data.loc[(data.Lat>=48.9)&(data.Lon>-124.0)]\n",
    "ax[1].plot(dSOG['Lon'],dSOG['Lat'],'y.',label='SOG')\n",
    "dNSOG=data.loc[(data.Lat>=48.9)&(data.Lon<=-124.0)]\n",
    "ax[1].plot(dNSOG['Lon'],dNSOG['Lat'],'m.',label='NSOG')\n",
    "grid = nc.Dataset('/data/vdo/MEOPAR/NEMO-forcing/grid/bathymetry_201702.nc')\n",
    "viz_tools.plot_coastline(ax[1], grid, coords = 'map')\n",
    "ax[1].set_ylim(48, 50.5)\n",
    "ax[1].legend()\n",
    "ax[1].set_xlim(-125.7, -122.5);\n",
    "\n",
    "# Also set up seasonal groupings:\n",
    "iz=(data.Z<15)\n",
    "JFM=data.loc[iz&(data.dtUTC<=dt.datetime(year,4,1)),:]\n",
    "Apr=data.loc[iz&(data.dtUTC<=dt.datetime(year,5,1))&(data.dtUTC>dt.datetime(year,4,1)),:]\n",
    "MJJA=data.loc[iz&(data.dtUTC<=dt.datetime(year,9,1))&(data.dtUTC>dt.datetime(year,5,1)),:]\n",
    "SOND=data.loc[iz&(data.dtUTC>dt.datetime(year,9,1)),:]"
   ]
  },
  {
   "cell_type": "code",
   "execution_count": null,
   "metadata": {
    "papermill": {
     "duration": null,
     "end_time": null,
     "exception": null,
     "start_time": null,
     "status": "pending"
    },
    "tags": []
   },
   "outputs": [],
   "source": [
    "statsubs=OrderedDict({'z < 15 m':data.loc[data.Z<15],\n",
    "                      '15 m < z < 22 m':data.loc[(data.Z>=15)&(data.Z<22)],\n",
    "                      'z >= 22 m':data.loc[data.Z>=22],\n",
    "                      'z > 50 m':data.loc[data.Z>50],\n",
    "                      'all':data,\n",
    "                      'z < 15 m, JFM':JFM,\n",
    "                      'z < 15 m, Apr':Apr,\n",
    "                      'z < 15 m, MJJA':MJJA,\n",
    "                      'z < 15 m, SOND': SOND,\n",
    "                      'SJDF':dJDF,\n",
    "                      'SJGI':dSJGI,\n",
    "                      'SOG':dSOG,\n",
    "                      'NSOG':dNSOG})"
   ]
  },
  {
   "cell_type": "markdown",
   "metadata": {
    "papermill": {
     "duration": null,
     "end_time": null,
     "exception": null,
     "start_time": null,
     "status": "pending"
    },
    "tags": []
   },
   "source": [
    "# Nitrate"
   ]
  },
  {
   "cell_type": "code",
   "execution_count": null,
   "metadata": {
    "papermill": {
     "duration": null,
     "end_time": null,
     "exception": null,
     "start_time": null,
     "status": "pending"
    },
    "tags": []
   },
   "outputs": [],
   "source": [
    "obsvar='N'\n",
    "modvar='mod_nitrate'\n",
    "statsDict={year:dict()}\n",
    "statsDict[year]['NO3']=OrderedDict()\n",
    "for isub in statsubs:\n",
    "    statsDict[year]['NO3'][isub]=dict()\n",
    "    var=statsDict[year]['NO3'][isub]\n",
    "    var['N'],mmean,omean,var['Bias'],var['RMSE'],var['WSS']=et.stats(statsubs[isub].loc[:,[obsvar]],\n",
    "                                                                     statsubs[isub].loc[:,[modvar]])\n",
    "tbl,tdf=et.displayStats(statsDict[year]['NO3'],level='Subset',suborder=list(statsubs.keys()))\n",
    "tbl"
   ]
  },
  {
   "cell_type": "code",
   "execution_count": null,
   "metadata": {
    "papermill": {
     "duration": null,
     "end_time": null,
     "exception": null,
     "start_time": null,
     "status": "pending"
    },
    "tags": []
   },
   "outputs": [],
   "source": [
    "fig, ax = plt.subplots(1,2,figsize = (16,7))\n",
    "ps,l=byDepth(ax[0],obsvar,modvar,(0,40))\n",
    "ax[0].set_title('NO$_3$ ($\\mu$M) By Depth')\n",
    "\n",
    "ps,l=byRegion(ax[1],obsvar,modvar,(0,40))\n",
    "ax[1].set_title('NO$_3$ ($\\mu$M) By Region');"
   ]
  },
  {
   "cell_type": "code",
   "execution_count": null,
   "metadata": {
    "papermill": {
     "duration": null,
     "end_time": null,
     "exception": null,
     "start_time": null,
     "status": "pending"
    },
    "tags": []
   },
   "outputs": [],
   "source": [
    "fig, ax = plt.subplots(1,4,figsize = (16,3.3))\n",
    "bySeason(ax,obsvar,modvar,(0,30))\n",
    "fig,ax=plt.subplots(1,1,figsize=(20,.3))\n",
    "ax.plot(data.dtUTC,np.ones(np.shape(data.dtUTC)),'k.')\n",
    "ax.set_xlim((dt.datetime(year,1,1),dt.datetime(year,12,31)))\n",
    "ax.set_title('Data Timing')\n",
    "ax.yaxis.set_visible(False)"
   ]
  },
  {
   "cell_type": "markdown",
   "metadata": {
    "papermill": {
     "duration": null,
     "end_time": null,
     "exception": null,
     "start_time": null,
     "status": "pending"
    },
    "tags": []
   },
   "source": [
    "# Dissolved Silica"
   ]
  },
  {
   "cell_type": "code",
   "execution_count": null,
   "metadata": {
    "papermill": {
     "duration": null,
     "end_time": null,
     "exception": null,
     "start_time": null,
     "status": "pending"
    },
    "tags": []
   },
   "outputs": [],
   "source": [
    "obsvar='Si'\n",
    "modvar='mod_silicon'\n",
    "statsDict[year]['dSi']=OrderedDict()\n",
    "for isub in statsubs:\n",
    "    statsDict[year]['dSi'][isub]=dict()\n",
    "    var=statsDict[year]['dSi'][isub]\n",
    "    var['N'],mmean,omean,var['Bias'],var['RMSE'],var['WSS']=et.stats(statsubs[isub].loc[:,[obsvar]],\n",
    "                                                                     statsubs[isub].loc[:,[modvar]])\n",
    "tbl,tdf=et.displayStats(statsDict[year]['dSi'],level='Subset',suborder=list(statsubs.keys()))\n",
    "tbl"
   ]
  },
  {
   "cell_type": "code",
   "execution_count": null,
   "metadata": {
    "papermill": {
     "duration": null,
     "end_time": null,
     "exception": null,
     "start_time": null,
     "status": "pending"
    },
    "tags": []
   },
   "outputs": [],
   "source": [
    "mv=(0,80)\n",
    "fig, ax = plt.subplots(1,2,figsize = (16,7))\n",
    "ps,l=byDepth(ax[0],obsvar,modvar,mv)\n",
    "ax[0].set_title('Dissolved Silica ($\\mu$M) By Depth')\n",
    "\n",
    "ps,l=byRegion(ax[1],obsvar,modvar,mv)\n",
    "ax[1].set_title('Dissolved Silica ($\\mu$M) By Region');"
   ]
  },
  {
   "cell_type": "code",
   "execution_count": null,
   "metadata": {
    "papermill": {
     "duration": null,
     "end_time": null,
     "exception": null,
     "start_time": null,
     "status": "pending"
    },
    "tags": []
   },
   "outputs": [],
   "source": [
    "fig, ax = plt.subplots(1,4,figsize = (16,3.3))\n",
    "bySeason(ax,obsvar,modvar,mv)\n",
    "fig,ax=plt.subplots(1,1,figsize=(20,.3))\n",
    "ax.plot(data.dtUTC,np.ones(np.shape(data.dtUTC)),'k.')\n",
    "ax.set_xlim((dt.datetime(year,1,1),dt.datetime(year,12,31)))\n",
    "ax.set_title('Data Timing')\n",
    "ax.yaxis.set_visible(False)"
   ]
  },
  {
   "cell_type": "markdown",
   "metadata": {
    "papermill": {
     "duration": null,
     "end_time": null,
     "exception": null,
     "start_time": null,
     "status": "pending"
    },
    "tags": []
   },
   "source": [
    "# dSi:NO3 Ratios"
   ]
  },
  {
   "cell_type": "code",
   "execution_count": null,
   "metadata": {
    "papermill": {
     "duration": null,
     "end_time": null,
     "exception": null,
     "start_time": null,
     "status": "pending"
    },
    "tags": []
   },
   "outputs": [],
   "source": [
    "fig,ax=plt.subplots(1,2,figsize=(15,6))\n",
    "p1=ax[0].plot(dJDF['N'],dJDF['Si'],'b.',label='SJDF')\n",
    "p2=ax[0].plot(dSJGI['N'],dSJGI['Si'],'c.',label='SJGI')\n",
    "p3=ax[0].plot(dSOG['N'],dSOG['Si'],'y.',label='SOG')\n",
    "p4=ax[0].plot(dNSOG['N'],dNSOG['Si'],'m.',label='NSOG')\n",
    "ax[0].plot(np.arange(0,41),1.35*np.arange(0,41)+6.46,'k-',label='OBC')\n",
    "ax[0].set_title('Observed')\n",
    "ax[0].set_xlabel('NO3')\n",
    "ax[0].set_ylabel('dSi')\n",
    "ax[0].set_xlim(0,40)\n",
    "ax[0].set_ylim(0,85)\n",
    "ax[0].legend()\n",
    "\n",
    "p5=ax[1].plot(dJDF['mod_nitrate'],dJDF['mod_silicon'],'b.',label='SJDF')\n",
    "p6=ax[1].plot(dSJGI['mod_nitrate'],dSJGI['mod_silicon'],'c.',label='SJGI')\n",
    "p7=ax[1].plot(dSOG['mod_nitrate'],dSOG['mod_silicon'],'y.',label='SOG')\n",
    "p8=ax[1].plot(dNSOG['mod_nitrate'],dNSOG['mod_silicon'],'m.',label='NSOG')\n",
    "ax[1].plot(np.arange(0,41),1.35*np.arange(0,41)+6.46,'k-',label='OBC')\n",
    "ax[1].set_title('Model')\n",
    "ax[1].set_xlabel('NO3')\n",
    "ax[1].set_ylabel('dSi')\n",
    "ax[1].set_xlim(0,40)\n",
    "ax[1].set_ylim(0,85)\n",
    "ax[1].legend()\n",
    "#ax[0].plot(np.arange(0,35),1.3*np.arange(0,35),'k-')\n",
    "#ax[1].plot(np.arange(0,35),1.3*np.arange(0,35),'k-')"
   ]
  },
  {
   "cell_type": "code",
   "execution_count": null,
   "metadata": {
    "papermill": {
     "duration": null,
     "end_time": null,
     "exception": null,
     "start_time": null,
     "status": "pending"
    },
    "tags": []
   },
   "outputs": [],
   "source": [
    "fig,ax=plt.subplots(1,2,figsize=(15,6))\n",
    "p1=ax[0].plot(dJDF['AbsSal'], dJDF['Si']-1.3*dJDF['N'],'b.',label='SJDF')\n",
    "p2=ax[0].plot(dSJGI['AbsSal'],dSJGI['Si']-1.3*dSJGI['N'],'c.',label='SJGI')\n",
    "p3=ax[0].plot(dSOG['AbsSal'],dSOG['Si']-1.3*dSOG['N'],'y.',label='SOG')\n",
    "p4=ax[0].plot(dNSOG['AbsSal'],dNSOG['Si']-1.3*dNSOG['N'],'m.',label='NSOG')\n",
    "ax[0].set_title('Observed')\n",
    "ax[0].set_xlabel('S (g/kg)')\n",
    "ax[0].set_ylabel('dSi-1.3NO3')\n",
    "ax[0].set_xlim(10,35)\n",
    "ax[0].set_ylim(0,45)\n",
    "ax[0].legend()\n",
    "\n",
    "p5=ax[1].plot(dJDF['mod_vosaline'],dJDF['mod_silicon']-1.3*dJDF['mod_nitrate'],'b.',label='SJDF')\n",
    "p6=ax[1].plot(dSJGI['mod_vosaline'],dSJGI['mod_silicon']-1.3*dSJGI['mod_nitrate'],'c.',label='SJGI')\n",
    "p7=ax[1].plot(dSOG['mod_vosaline'],dSOG['mod_silicon']-1.3*dSOG['mod_nitrate'],'y.',label='SOG')\n",
    "p8=ax[1].plot(dNSOG['mod_vosaline'],dNSOG['mod_silicon']-1.3*dNSOG['mod_nitrate'],'m.',label='NSOG')\n",
    "ax[1].set_title('Model')\n",
    "ax[1].set_xlabel('S (g/kg)')\n",
    "ax[1].set_ylabel('dSi-1.3NO3')\n",
    "ax[1].set_xlim(10,35)\n",
    "ax[1].set_ylim(0,45)\n",
    "ax[1].legend()"
   ]
  },
  {
   "cell_type": "markdown",
   "metadata": {
    "papermill": {
     "duration": null,
     "end_time": null,
     "exception": null,
     "start_time": null,
     "status": "pending"
    },
    "tags": []
   },
   "source": [
    "# Chlorophyll"
   ]
  },
  {
   "cell_type": "code",
   "execution_count": null,
   "metadata": {
    "papermill": {
     "duration": null,
     "end_time": null,
     "exception": null,
     "start_time": null,
     "status": "pending"
    },
    "tags": []
   },
   "outputs": [],
   "source": [
    "obsvar='l10_obsChl'\n",
    "modvar='l10_modChl'\n",
    "statsDict[year]['Chl log10']=OrderedDict()\n",
    "for isub in statsubs:\n",
    "    statsDict[year]['Chl log10'][isub]=dict()\n",
    "    var=statsDict[year]['Chl log10'][isub]\n",
    "    var['N'],mmean,omean,var['Bias'],var['RMSE'],var['WSS']=et.stats(statsubs[isub].loc[:,[obsvar]],\n",
    "                                                                     statsubs[isub].loc[:,[modvar]])\n",
    "obsvar='Chl'\n",
    "modvar='mod_Chl'\n",
    "statsDict[year]['Chl']=OrderedDict()\n",
    "for isub in statsubs:\n",
    "    statsDict[year]['Chl'][isub]=dict()\n",
    "    var=statsDict[year]['Chl'][isub]\n",
    "    var['N'],mmean,omean,var['Bias'],var['RMSE'],var['WSS']=et.stats(statsubs[isub].loc[:,[obsvar]],\n",
    "                                                                     statsubs[isub].loc[:,[modvar]])\n",
    "\n",
    "tempD={'Chl log10':statsDict[year]['Chl log10'],'Chl':statsDict[year]['Chl']}\n",
    "tbl,tdf=et.displayStatsFlex(tempD,('Variable','Subset','Metric',''),\n",
    "                        ['Order','Subset','Metric'],\n",
    "                        ['Variable','Metric'],\n",
    "                        suborder=list(statsubs.keys()))\n",
    "tbl"
   ]
  },
  {
   "cell_type": "code",
   "execution_count": null,
   "metadata": {
    "papermill": {
     "duration": null,
     "end_time": null,
     "exception": null,
     "start_time": null,
     "status": "pending"
    },
    "tags": []
   },
   "outputs": [],
   "source": [
    "fig, ax = plt.subplots(1,2,figsize = (14,6))\n",
    "ax[0].plot(np.arange(-.6,1.6,.1),np.arange(-.6,1.6,.1),'k-')\n",
    "ps=et.varvarPlot(ax[0],data,'l10_obsChl','l10_modChl','Z',(5,10,15,20,25),'z','m',('crimson','darkorange','lime','mediumseagreen','darkturquoise','navy'))\n",
    "ax[0].legend(handles=ps)\n",
    "ax[0].set_xlabel('Obs')\n",
    "ax[0].set_ylabel('Model')\n",
    "ax[0].set_title('log10[Chl ($\\mu$g/L)+0.01] By Depth')\n",
    "ax[1].plot(np.arange(0,35),np.arange(0,35),'k-')\n",
    "ps=et.varvarPlot(ax[1],data,'Chl','mod_Chl','Z',(5,10,15,20,25),'z','m',('crimson','darkorange','lime','mediumseagreen','darkturquoise','navy'))\n",
    "ax[1].legend(handles=ps)\n",
    "ax[1].set_xlabel('Obs')\n",
    "ax[1].set_ylabel('Model')\n",
    "ax[1].set_title('Chl ($\\mu$g/L) By Depth');"
   ]
  },
  {
   "cell_type": "code",
   "execution_count": null,
   "metadata": {
    "papermill": {
     "duration": null,
     "end_time": null,
     "exception": null,
     "start_time": null,
     "status": "pending"
    },
    "tags": []
   },
   "outputs": [],
   "source": [
    "fig, ax = plt.subplots(1,2,figsize = (14,6))\n",
    "obsvar='l10_obsChl'; modvar='l10_modChl'\n",
    "ps,l=byRegion(ax[0],obsvar,modvar,(-.6,1.6))\n",
    "ax[0].set_title('Log10 Chl ($\\mu$g/L) By Region');\n",
    "\n",
    "obsvar='Chl'; modvar='mod_Chl'\n",
    "ps,l=byRegion(ax[1],obsvar,modvar,(0,30))\n",
    "ax[1].set_title('Chl ($\\mu$g/L) By Region');"
   ]
  },
  {
   "cell_type": "code",
   "execution_count": null,
   "metadata": {
    "papermill": {
     "duration": null,
     "end_time": null,
     "exception": null,
     "start_time": null,
     "status": "pending"
    },
    "tags": []
   },
   "outputs": [],
   "source": [
    "fig, ax = plt.subplots(1,1,figsize = (14,6))\n",
    "obsvar='l10_obsChl'; modvar='l10_modChl'\n",
    "with nc.Dataset('/data/eolson/results/MEOPAR/NEMO-forcing-new/grid/mesh_mask201702.nc') as fm:\n",
    "    bathy=np.sum(fm.variables['tmask'][0,:,:,:]*fm.variables['e3t_0'][0,:,:,:],0)\n",
    "data['bathy']=[bathy[j,i] for j,i in zip(data['j'],data['i'])]\n",
    "ax.plot(data['bathy'],data['mod_Chl']-data['Chl'],'k.')\n",
    "ax.set_title('Chl Residuals ($\\mu$g/L) vs Model Depth');\n",
    "ax.set_xlabel('Model Water Column Depth (m)')\n",
    "ax.set_ylabel('Mod - Obs Chl ($\\mu$g/L)');\n",
    "ax.set_ylim(-30,15)"
   ]
  },
  {
   "cell_type": "markdown",
   "metadata": {
    "papermill": {
     "duration": null,
     "end_time": null,
     "exception": null,
     "start_time": null,
     "status": "pending"
    },
    "tags": []
   },
   "source": [
    "## Conservative Temperature "
   ]
  },
  {
   "cell_type": "code",
   "execution_count": null,
   "metadata": {
    "papermill": {
     "duration": null,
     "end_time": null,
     "exception": null,
     "start_time": null,
     "status": "pending"
    },
    "tags": []
   },
   "outputs": [],
   "source": [
    "obsvar='ConsT'\n",
    "modvar='mod_votemper'\n",
    "statsDict[year]['Temperature']=OrderedDict()\n",
    "for isub in statsubs:\n",
    "    statsDict[year]['Temperature'][isub]=dict()\n",
    "    var=statsDict[year]['Temperature'][isub]\n",
    "    var['N'],mmean,omean,var['Bias'],var['RMSE'],var['WSS']=et.stats(statsubs[isub].loc[:,[obsvar]],\n",
    "                                                                     statsubs[isub].loc[:,[modvar]])\n",
    "tbl,tdf=et.displayStats(statsDict[year]['Temperature'],level='Subset',suborder=list(statsubs.keys()))\n",
    "tbl"
   ]
  },
  {
   "cell_type": "code",
   "execution_count": null,
   "metadata": {
    "papermill": {
     "duration": null,
     "end_time": null,
     "exception": null,
     "start_time": null,
     "status": "pending"
    },
    "tags": []
   },
   "outputs": [],
   "source": [
    "fig, ax = plt.subplots(1,2,figsize = (16,7))\n",
    "ps,l=byDepth(ax[0],obsvar,modvar,(5,20))\n",
    "ax[0].set_title('$\\Theta$ ($^{\\circ}$C) By Depth')\n",
    "\n",
    "ps,l=byRegion(ax[1],obsvar,modvar,(5,20))\n",
    "ax[1].set_title('$\\Theta$ ($^{\\circ}$C) By Region');"
   ]
  },
  {
   "cell_type": "code",
   "execution_count": null,
   "metadata": {
    "papermill": {
     "duration": null,
     "end_time": null,
     "exception": null,
     "start_time": null,
     "status": "pending"
    },
    "tags": []
   },
   "outputs": [],
   "source": [
    "fig, ax = plt.subplots(1,4,figsize = (16,3.3))\n",
    "bySeason(ax,obsvar,modvar,mv)\n",
    "fig,ax=plt.subplots(1,1,figsize=(20,.3))\n",
    "ax.plot(data.dtUTC,np.ones(np.shape(data.dtUTC)),'k.')\n",
    "ax.set_xlim((dt.datetime(year,1,1),dt.datetime(year,12,31)))\n",
    "ax.set_title('Data Timing')\n",
    "ax.yaxis.set_visible(False)"
   ]
  },
  {
   "cell_type": "markdown",
   "metadata": {
    "papermill": {
     "duration": null,
     "end_time": null,
     "exception": null,
     "start_time": null,
     "status": "pending"
    },
    "tags": []
   },
   "source": [
    "## Reference Salinity"
   ]
  },
  {
   "cell_type": "code",
   "execution_count": null,
   "metadata": {
    "papermill": {
     "duration": null,
     "end_time": null,
     "exception": null,
     "start_time": null,
     "status": "pending"
    },
    "tags": []
   },
   "outputs": [],
   "source": [
    "obsvar='AbsSal'\n",
    "modvar='mod_vosaline'\n",
    "statsDict[year]['Salinity']=OrderedDict()\n",
    "for isub in statsubs:\n",
    "    statsDict[year]['Salinity'][isub]=dict()\n",
    "    var=statsDict[year]['Salinity'][isub]\n",
    "    var['N'],mmean,omean,var['Bias'],var['RMSE'],var['WSS']=et.stats(statsubs[isub].loc[:,[obsvar]],\n",
    "                                                                     statsubs[isub].loc[:,[modvar]])\n",
    "tbl,tdf=et.displayStats(statsDict[year]['Salinity'],level='Subset',suborder=list(statsubs.keys()))\n",
    "tbl"
   ]
  },
  {
   "cell_type": "code",
   "execution_count": null,
   "metadata": {
    "papermill": {
     "duration": null,
     "end_time": null,
     "exception": null,
     "start_time": null,
     "status": "pending"
    },
    "tags": []
   },
   "outputs": [],
   "source": [
    "fig, ax = plt.subplots(1,2,figsize = (16,7))\n",
    "ps,l=byDepth(ax[0],obsvar,modvar,(0,36))\n",
    "ax[0].set_title('S$_A$ (g kg$^{-1}$) By Depth')\n",
    "\n",
    "ps,l=byRegion(ax[1],obsvar,modvar,(0,36))\n",
    "ax[1].set_title('S$_A$ (g kg$^{-1}$) By Region');"
   ]
  },
  {
   "cell_type": "code",
   "execution_count": null,
   "metadata": {
    "papermill": {
     "duration": null,
     "end_time": null,
     "exception": null,
     "start_time": null,
     "status": "pending"
    },
    "tags": []
   },
   "outputs": [],
   "source": [
    "fig, ax = plt.subplots(1,4,figsize = (16,3.3))\n",
    "bySeason(ax,obsvar,modvar,(0,36))\n",
    "fig,ax=plt.subplots(1,1,figsize=(20,.3))\n",
    "ax.plot(data.dtUTC,np.ones(np.shape(data.dtUTC)),'k.')\n",
    "ax.set_xlim((dt.datetime(year,1,1),dt.datetime(year,12,31)))\n",
    "ax.set_title('Data Timing')\n",
    "ax.yaxis.set_visible(False)"
   ]
  },
  {
   "cell_type": "markdown",
   "metadata": {
    "papermill": {
     "duration": null,
     "end_time": null,
     "exception": null,
     "start_time": null,
     "status": "pending"
    },
    "tags": []
   },
   "source": [
    "### Density"
   ]
  },
  {
   "cell_type": "code",
   "execution_count": null,
   "metadata": {
    "papermill": {
     "duration": null,
     "end_time": null,
     "exception": null,
     "start_time": null,
     "status": "pending"
    },
    "tags": []
   },
   "outputs": [],
   "source": [
    "obsvar='rho'\n",
    "modvar='mod_rho'\n",
    "statsDict[year]['Density']=OrderedDict()\n",
    "for isub in statsubs:\n",
    "    statsDict[year]['Density'][isub]=dict()\n",
    "    var=statsDict[year]['Density'][isub]\n",
    "    var['N'],mmean,omean,var['Bias'],var['RMSE'],var['WSS']=et.stats(statsubs[isub].loc[:,[obsvar]],\n",
    "                                                                     statsubs[isub].loc[:,[modvar]])\n",
    "tbl,tdf=et.displayStats(statsDict[year]['Density'],level='Subset',suborder=list(statsubs.keys()))\n",
    "tbl"
   ]
  },
  {
   "cell_type": "code",
   "execution_count": null,
   "metadata": {
    "papermill": {
     "duration": null,
     "end_time": null,
     "exception": null,
     "start_time": null,
     "status": "pending"
    },
    "tags": []
   },
   "outputs": [],
   "source": [
    "fig, ax = plt.subplots(1,2,figsize = (16,7))\n",
    "ps,l=byDepth(ax[0],obsvar,modvar,(1010,1030))\n",
    "ax[0].set_title('Density (kg m$^{-3}$) By Depth')\n",
    "\n",
    "ps,l=byRegion(ax[1],obsvar,modvar,(1010,1030))\n",
    "ax[1].set_title('Density (kg m$^{-3}$) By Region');"
   ]
  },
  {
   "cell_type": "code",
   "execution_count": null,
   "metadata": {
    "papermill": {
     "duration": null,
     "end_time": null,
     "exception": null,
     "start_time": null,
     "status": "pending"
    },
    "tags": []
   },
   "outputs": [],
   "source": [
    "fig, ax = plt.subplots(1,4,figsize = (16,3.3))\n",
    "bySeason(ax,obsvar,modvar,(1010,1030))\n",
    "fig,ax=plt.subplots(1,1,figsize=(20,.3))\n",
    "ax.plot(data.dtUTC,np.ones(np.shape(data.dtUTC)),'k.')\n",
    "ax.set_xlim((dt.datetime(year,1,1),dt.datetime(year,12,31)))\n",
    "ax.set_title('Data Timing')\n",
    "ax.yaxis.set_visible(False)"
   ]
  },
  {
   "cell_type": "markdown",
   "metadata": {
    "papermill": {
     "duration": null,
     "end_time": null,
     "exception": null,
     "start_time": null,
     "status": "pending"
    },
    "tags": []
   },
   "source": [
    "### Temperature-Salinity by Region"
   ]
  },
  {
   "cell_type": "code",
   "execution_count": null,
   "metadata": {
    "papermill": {
     "duration": null,
     "end_time": null,
     "exception": null,
     "start_time": null,
     "status": "pending"
    },
    "tags": []
   },
   "outputs": [],
   "source": [
    "def tsplot(ax,svar,tvar):\n",
    "    limsS=(0,36)\n",
    "    limsT=(5,30)\n",
    "    ss,tt=np.meshgrid(np.linspace(limsS[0],limsS[1],20),np.linspace(limsT[0],limsT[1],20))\n",
    "    rho=gsw.rho(ss,tt,np.zeros(np.shape(ss)))\n",
    "    r=ax.contour(ss,tt,rho,colors='k')\n",
    "    ps1=ax.plot(dJDF[svar],dJDF[tvar],'b.',label='SJDF')\n",
    "    ps2=ax.plot(dSJGI[svar],dSJGI[tvar],'c.',label='SJGI')\n",
    "    ps3=ax.plot(dSOG[svar],dSOG[tvar],'y.',label='SOG')\n",
    "    ps4=ax.plot(dNSOG[svar],dNSOG[tvar],'m.',label='NSOG')\n",
    "    l=ax.legend(handles=[ps1[0],ps2[0],ps3[0],ps4[0]],bbox_to_anchor=(1.55,1))\n",
    "    ax.set_ylim(limsT)\n",
    "    ax.set_xlim(limsS)\n",
    "    ax.set_ylabel('$\\Theta$ ($^{\\circ}$C)')\n",
    "    ax.set_xlabel('S$_A$ (g kg$^{-1}$)')\n",
    "    ax.set_aspect((limsS[1]-limsS[0])/(limsT[1]-limsT[0]))\n",
    "    return"
   ]
  },
  {
   "cell_type": "code",
   "execution_count": null,
   "metadata": {
    "papermill": {
     "duration": null,
     "end_time": null,
     "exception": null,
     "start_time": null,
     "status": "pending"
    },
    "tags": []
   },
   "outputs": [],
   "source": [
    "fig,ax=plt.subplots(1,2,figsize=(16,4))\n",
    "tsplot(ax[0],'AbsSal','ConsT')\n",
    "ax[0].set_title('Observed')\n",
    "tsplot(ax[1],'mod_vosaline','mod_votemper')\n",
    "ax[1].set_title('Modelled')"
   ]
  },
  {
   "cell_type": "markdown",
   "metadata": {
    "papermill": {
     "duration": null,
     "end_time": null,
     "exception": null,
     "start_time": null,
     "status": "pending"
    },
    "tags": []
   },
   "source": [
    "### Display All Stats"
   ]
  },
  {
   "cell_type": "code",
   "execution_count": null,
   "metadata": {
    "papermill": {
     "duration": null,
     "end_time": null,
     "exception": null,
     "start_time": null,
     "status": "pending"
    },
    "tags": []
   },
   "outputs": [],
   "source": [
    "tbl,tdf=et.displayStats(statsDict[year],level='Variable',suborder=list(statsubs.keys()))\n",
    "tbl"
   ]
  },
  {
   "cell_type": "code",
   "execution_count": null,
   "metadata": {
    "papermill": {
     "duration": null,
     "end_time": null,
     "exception": null,
     "start_time": null,
     "status": "pending"
    },
    "tags": []
   },
   "outputs": [],
   "source": []
  }
 ],
 "metadata": {
  "anaconda-cloud": {},
  "celltoolbar": "Tags",
  "kernelspec": {
   "display_name": "Python (py39)",
   "language": "python",
   "name": "py39"
  },
  "language_info": {
   "codemirror_mode": {
    "name": "ipython",
    "version": 3
   },
   "file_extension": ".py",
   "mimetype": "text/x-python",
   "name": "python",
   "nbconvert_exporter": "python",
   "pygments_lexer": "ipython3",
   "version": "3.9.1"
  },
  "papermill": {
   "default_parameters": {},
   "duration": 2.697938,
   "end_time": "2021-02-09T06:12:04.816679",
   "environment_variables": {},
   "exception": true,
   "input_path": "eval-PSF-2021testRuns-Base-noChlBias.ipynb",
   "output_path": "PSF/eval-PSF-2021testRuns-noChlBias_202007C-p3_20150101-20151231.ipynb",
   "parameters": {
    "datespan": "20150101-20151231",
    "fname": "ObsModel_202007Cp3_PSF_20150101-20151231.csv",
    "matchpath": "/data/sallen/results/MEOPAR/202007/202007C-p3/ObsModel_202007Cp3_PSF_20150101-20151231.csv",
    "modver": "202007C-p3"
   },
   "start_time": "2021-02-09T06:12:02.118741",
   "version": "2.2.2"
  }
 },
 "nbformat": 4,
 "nbformat_minor": 4
}