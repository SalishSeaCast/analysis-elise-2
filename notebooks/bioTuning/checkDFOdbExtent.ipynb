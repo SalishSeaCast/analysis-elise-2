{
 "cells": [
  {
   "cell_type": "code",
   "execution_count": 3,
   "metadata": {
    "collapsed": false
   },
   "outputs": [],
   "source": [
    "\n",
    "import matplotlib.pyplot as plt\n",
    "import numpy as np\n",
    "import netCDF4 as nc\n",
    "import datetime as dt\n",
    "from salishsea_tools import evaltools as et, viz_tools\n",
    "\n",
    "%matplotlib inline"
   ]
  },
  {
   "cell_type": "code",
   "execution_count": 4,
   "metadata": {
    "collapsed": false
   },
   "outputs": [
    {
     "data": {
      "text/html": [
       "<div>\n",
       "<style>\n",
       "    .dataframe thead tr:only-child th {\n",
       "        text-align: right;\n",
       "    }\n",
       "\n",
       "    .dataframe thead th {\n",
       "        text-align: left;\n",
       "    }\n",
       "\n",
       "    .dataframe tbody tr th {\n",
       "        vertical-align: top;\n",
       "    }\n",
       "</style>\n",
       "<table border=\"1\" class=\"dataframe\">\n",
       "  <thead>\n",
       "    <tr style=\"text-align: right;\">\n",
       "      <th></th>\n",
       "      <th>Year</th>\n",
       "      <th>Month</th>\n",
       "      <th>Day</th>\n",
       "      <th>Hour</th>\n",
       "      <th>Lat</th>\n",
       "      <th>Lon</th>\n",
       "      <th>Pressure</th>\n",
       "      <th>Depth</th>\n",
       "      <th>Ammonium</th>\n",
       "      <th>Ammonium_units</th>\n",
       "      <th>Chlorophyll_Extracted</th>\n",
       "      <th>Chlorophyll_Extracted_units</th>\n",
       "      <th>N</th>\n",
       "      <th>Si</th>\n",
       "      <th>Silicate_units</th>\n",
       "      <th>AbsSal</th>\n",
       "      <th>T</th>\n",
       "      <th>T_units</th>\n",
       "      <th>Z</th>\n",
       "      <th>dtUTC</th>\n",
       "    </tr>\n",
       "  </thead>\n",
       "  <tbody>\n",
       "    <tr>\n",
       "      <th>0</th>\n",
       "      <td>2015.0</td>\n",
       "      <td>2.0</td>\n",
       "      <td>11.0</td>\n",
       "      <td>11.068611</td>\n",
       "      <td>48.300833</td>\n",
       "      <td>-124.000333</td>\n",
       "      <td>1.9</td>\n",
       "      <td>None</td>\n",
       "      <td>None</td>\n",
       "      <td>None</td>\n",
       "      <td>NaN</td>\n",
       "      <td>mg/m^3</td>\n",
       "      <td>15.31</td>\n",
       "      <td>32.14</td>\n",
       "      <td>umol/L</td>\n",
       "      <td>29.227507</td>\n",
       "      <td>9.7647</td>\n",
       "      <td>'deg_C_(ITS90)'</td>\n",
       "      <td>1.884</td>\n",
       "      <td>2015-02-11 11:04:07</td>\n",
       "    </tr>\n",
       "    <tr>\n",
       "      <th>1</th>\n",
       "      <td>2015.0</td>\n",
       "      <td>2.0</td>\n",
       "      <td>11.0</td>\n",
       "      <td>11.068611</td>\n",
       "      <td>48.300833</td>\n",
       "      <td>-124.000333</td>\n",
       "      <td>6.6</td>\n",
       "      <td>None</td>\n",
       "      <td>None</td>\n",
       "      <td>None</td>\n",
       "      <td>2.57</td>\n",
       "      <td>mg/m^3</td>\n",
       "      <td>17.13</td>\n",
       "      <td>33.90</td>\n",
       "      <td>umol/L</td>\n",
       "      <td>29.484341</td>\n",
       "      <td>9.6880</td>\n",
       "      <td>'deg_C_(ITS90)'</td>\n",
       "      <td>6.54434</td>\n",
       "      <td>2015-02-11 11:04:07</td>\n",
       "    </tr>\n",
       "    <tr>\n",
       "      <th>2</th>\n",
       "      <td>2015.0</td>\n",
       "      <td>2.0</td>\n",
       "      <td>11.0</td>\n",
       "      <td>11.068611</td>\n",
       "      <td>48.300833</td>\n",
       "      <td>-124.000333</td>\n",
       "      <td>6.7</td>\n",
       "      <td>None</td>\n",
       "      <td>None</td>\n",
       "      <td>None</td>\n",
       "      <td>NaN</td>\n",
       "      <td>mg/m^3</td>\n",
       "      <td>NaN</td>\n",
       "      <td>NaN</td>\n",
       "      <td>umol/L</td>\n",
       "      <td>29.484839</td>\n",
       "      <td>9.6828</td>\n",
       "      <td>'deg_C_(ITS90)'</td>\n",
       "      <td>6.6435</td>\n",
       "      <td>2015-02-11 11:04:07</td>\n",
       "    </tr>\n",
       "    <tr>\n",
       "      <th>3</th>\n",
       "      <td>2015.0</td>\n",
       "      <td>2.0</td>\n",
       "      <td>11.0</td>\n",
       "      <td>11.068611</td>\n",
       "      <td>48.300833</td>\n",
       "      <td>-124.000333</td>\n",
       "      <td>11.0</td>\n",
       "      <td>None</td>\n",
       "      <td>None</td>\n",
       "      <td>None</td>\n",
       "      <td>NaN</td>\n",
       "      <td>mg/m^3</td>\n",
       "      <td>NaN</td>\n",
       "      <td>NaN</td>\n",
       "      <td>umol/L</td>\n",
       "      <td>30.144549</td>\n",
       "      <td>9.3646</td>\n",
       "      <td>'deg_C_(ITS90)'</td>\n",
       "      <td>10.9071</td>\n",
       "      <td>2015-02-11 11:04:07</td>\n",
       "    </tr>\n",
       "    <tr>\n",
       "      <th>4</th>\n",
       "      <td>2015.0</td>\n",
       "      <td>2.0</td>\n",
       "      <td>11.0</td>\n",
       "      <td>11.068611</td>\n",
       "      <td>48.300833</td>\n",
       "      <td>-124.000333</td>\n",
       "      <td>11.0</td>\n",
       "      <td>None</td>\n",
       "      <td>None</td>\n",
       "      <td>None</td>\n",
       "      <td>NaN</td>\n",
       "      <td>mg/m^3</td>\n",
       "      <td>20.62</td>\n",
       "      <td>37.65</td>\n",
       "      <td>umol/L</td>\n",
       "      <td>30.157913</td>\n",
       "      <td>9.3586</td>\n",
       "      <td>'deg_C_(ITS90)'</td>\n",
       "      <td>10.9071</td>\n",
       "      <td>2015-02-11 11:04:07</td>\n",
       "    </tr>\n",
       "  </tbody>\n",
       "</table>\n",
       "</div>"
      ],
      "text/plain": [
       "     Year  Month   Day       Hour        Lat         Lon  Pressure Depth  \\\n",
       "0  2015.0    2.0  11.0  11.068611  48.300833 -124.000333       1.9  None   \n",
       "1  2015.0    2.0  11.0  11.068611  48.300833 -124.000333       6.6  None   \n",
       "2  2015.0    2.0  11.0  11.068611  48.300833 -124.000333       6.7  None   \n",
       "3  2015.0    2.0  11.0  11.068611  48.300833 -124.000333      11.0  None   \n",
       "4  2015.0    2.0  11.0  11.068611  48.300833 -124.000333      11.0  None   \n",
       "\n",
       "  Ammonium Ammonium_units  Chlorophyll_Extracted Chlorophyll_Extracted_units  \\\n",
       "0     None           None                    NaN                      mg/m^3   \n",
       "1     None           None                   2.57                      mg/m^3   \n",
       "2     None           None                    NaN                      mg/m^3   \n",
       "3     None           None                    NaN                      mg/m^3   \n",
       "4     None           None                    NaN                      mg/m^3   \n",
       "\n",
       "       N     Si Silicate_units     AbsSal       T          T_units        Z  \\\n",
       "0  15.31  32.14         umol/L  29.227507  9.7647  'deg_C_(ITS90)'    1.884   \n",
       "1  17.13  33.90         umol/L  29.484341  9.6880  'deg_C_(ITS90)'  6.54434   \n",
       "2    NaN    NaN         umol/L  29.484839  9.6828  'deg_C_(ITS90)'   6.6435   \n",
       "3    NaN    NaN         umol/L  30.144549  9.3646  'deg_C_(ITS90)'  10.9071   \n",
       "4  20.62  37.65         umol/L  30.157913  9.3586  'deg_C_(ITS90)'  10.9071   \n",
       "\n",
       "                dtUTC  \n",
       "0 2015-02-11 11:04:07  \n",
       "1 2015-02-11 11:04:07  \n",
       "2 2015-02-11 11:04:07  \n",
       "3 2015-02-11 11:04:07  \n",
       "4 2015-02-11 11:04:07  "
      ]
     },
     "execution_count": 4,
     "metadata": {},
     "output_type": "execute_result"
    }
   ],
   "source": [
    "\n",
    "df1=et.loadDFO()\n",
    "df1.head()"
   ]
  },
  {
   "cell_type": "code",
   "execution_count": 7,
   "metadata": {
    "collapsed": false
   },
   "outputs": [
    {
     "data": {
      "text/plain": [
       "(array([ 365.,   12.,   99.,  121.,    0.,    0.,  366.,  759.,   88.,  685.]),\n",
       " array([ 735640.2206713 ,  735703.48266435,  735766.74465741,\n",
       "         735830.00665046,  735893.26864352,  735956.53063657,\n",
       "         736019.79262963,  736083.05462269,  736146.31661574,\n",
       "         736209.5786088 ,  736272.84060185]),\n",
       " <a list of 10 Patch objects>)"
      ]
     },
     "execution_count": 7,
     "metadata": {},
     "output_type": "execute_result"
    },
    {
     "data": {
      "image/png": "[encoded data removed]",
      "text/plain": [
       "<matplotlib.figure.Figure at 0x7fc38dd524e0>"
      ]
     },
     "metadata": {},
     "output_type": "display_data"
    }
   ],
   "source": [
    "fig,ax=plt.subplots(1,1,figsize=(24,4))\n",
    "ax.hist(df1['dtUTC'].values)"
   ]
  },
  {
   "cell_type": "code",
   "execution_count": 10,
   "metadata": {
    "collapsed": false
   },
   "outputs": [
    {
     "data": {
      "text/plain": [
       "Timestamp('2016-11-04 20:10:28')"
      ]
     },
     "execution_count": 10,
     "metadata": {},
     "output_type": "execute_result"
    }
   ],
   "source": [
    "df1.loc[df1.Si>=0.0]['dtUTC'].max()"
   ]
  },
  {
   "cell_type": "code",
   "execution_count": null,
   "metadata": {
    "collapsed": true
   },
   "outputs": [],
   "source": []
  }
 ],
 "metadata": {
  "anaconda-cloud": {},
  "kernelspec": {
   "display_name": "Python [conda env:python36]",
   "language": "python",
   "name": "conda-env-python36-py"
  },
  "language_info": {
   "codemirror_mode": {
    "name": "ipython",
    "version": 3
   },
   "file_extension": ".py",
   "mimetype": "text/x-python",
   "name": "python",
   "nbconvert_exporter": "python",
   "pygments_lexer": "ipython3",
   "version": "3.6.3"
  }
 },
 "nbformat": 4,
 "nbformat_minor": 1
}
