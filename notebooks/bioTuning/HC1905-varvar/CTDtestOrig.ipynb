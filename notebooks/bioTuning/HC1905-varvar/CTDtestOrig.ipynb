{
 "cells": [
  {
   "cell_type": "code",
   "execution_count": 1,
   "metadata": {},
   "outputs": [],
   "source": [
    "import numpy as np\n",
    "import matplotlib.pyplot as plt\n",
    "import os\n",
    "import pandas as pd\n",
    "import netCDF4 as nc\n",
    "import datetime as dt\n",
    "from salishsea_tools import evaltools as et, viz_tools\n",
    "import gsw\n",
    "import matplotlib.gridspec as gridspec\n",
    "import matplotlib as mpl\n",
    "import matplotlib.dates as mdates\n",
    "import cmocean as cmo\n",
    "import scipy.interpolate as sinterp\n",
    "import pickle\n",
    "import cmocean\n",
    "import json\n",
    "import f90nml\n",
    "from collections import OrderedDict\n",
    "\n",
    "fs=16\n",
    "mpl.rc('xtick', labelsize=fs)\n",
    "mpl.rc('ytick', labelsize=fs)\n",
    "mpl.rc('legend', fontsize=fs)\n",
    "mpl.rc('axes', titlesize=fs)\n",
    "mpl.rc('axes', labelsize=fs)\n",
    "mpl.rc('figure', titlesize=fs)\n",
    "mpl.rc('font', size=fs)\n",
    "mpl.rc('text', usetex=True)\n",
    "mpl.rc('text.latex', preamble = r'''\n",
    " \\usepackage{txfonts}\n",
    " \\usepackage{lmodern}\n",
    " ''')\n",
    "mpl.rc('font', family='sans-serif', weight='normal', style='normal')\n",
    "\n",
    "import warnings\n",
    "warnings.filterwarnings('ignore')\n",
    "from IPython.display import Markdown, display\n",
    "\n",
    "%matplotlib inline"
   ]
  },
  {
   "cell_type": "code",
   "execution_count": 2,
   "metadata": {
    "tags": [
     "parameters"
    ]
   },
   "outputs": [],
   "source": [
    "PATH= '/results2/SalishSea/nowcast-green.201905/'"
   ]
  },
  {
   "cell_type": "code",
   "execution_count": 4,
   "metadata": {},
   "outputs": [
    {
     "name": "stdout",
     "output_type": "stream",
     "text": [
      "9092 data points\n"
     ]
    },
    {
     "data": {
      "text/html": [
       "<div>\n",
       "<style scoped>\n",
       "    .dataframe tbody tr th:only-of-type {\n",
       "        vertical-align: middle;\n",
       "    }\n",
       "\n",
       "    .dataframe tbody tr th {\n",
       "        vertical-align: top;\n",
       "    }\n",
       "\n",
       "    .dataframe thead th {\n",
       "        text-align: right;\n",
       "    }\n",
       "</style>\n",
       "<table border=\"1\" class=\"dataframe\">\n",
       "  <thead>\n",
       "    <tr style=\"text-align: right;\">\n",
       "      <th></th>\n",
       "      <th>Year</th>\n",
       "      <th>Month</th>\n",
       "      <th>Day</th>\n",
       "      <th>Hour</th>\n",
       "      <th>Lat</th>\n",
       "      <th>Lon</th>\n",
       "      <th>Z</th>\n",
       "      <th>SA</th>\n",
       "      <th>CT</th>\n",
       "      <th>Fluor</th>\n",
       "      <th>dtUTC</th>\n",
       "    </tr>\n",
       "  </thead>\n",
       "  <tbody>\n",
       "    <tr>\n",
       "      <th>0</th>\n",
       "      <td>2015.0</td>\n",
       "      <td>3.0</td>\n",
       "      <td>6.0</td>\n",
       "      <td>15.276944</td>\n",
       "      <td>50.346333</td>\n",
       "      <td>-125.431167</td>\n",
       "      <td>2.974171</td>\n",
       "      <td>29.124678</td>\n",
       "      <td>8.853510</td>\n",
       "      <td>0.460</td>\n",
       "      <td>2015-03-06 15:16:37</td>\n",
       "    </tr>\n",
       "    <tr>\n",
       "      <th>1</th>\n",
       "      <td>2015.0</td>\n",
       "      <td>3.0</td>\n",
       "      <td>6.0</td>\n",
       "      <td>15.276944</td>\n",
       "      <td>50.346333</td>\n",
       "      <td>-125.431167</td>\n",
       "      <td>3.965552</td>\n",
       "      <td>29.125241</td>\n",
       "      <td>8.859852</td>\n",
       "      <td>0.520</td>\n",
       "      <td>2015-03-06 15:16:37</td>\n",
       "    </tr>\n",
       "    <tr>\n",
       "      <th>2</th>\n",
       "      <td>2015.0</td>\n",
       "      <td>3.0</td>\n",
       "      <td>6.0</td>\n",
       "      <td>15.276944</td>\n",
       "      <td>50.346333</td>\n",
       "      <td>-125.431167</td>\n",
       "      <td>4.956927</td>\n",
       "      <td>29.126406</td>\n",
       "      <td>8.872634</td>\n",
       "      <td>0.514</td>\n",
       "      <td>2015-03-06 15:16:37</td>\n",
       "    </tr>\n",
       "    <tr>\n",
       "      <th>3</th>\n",
       "      <td>2015.0</td>\n",
       "      <td>3.0</td>\n",
       "      <td>6.0</td>\n",
       "      <td>15.276944</td>\n",
       "      <td>50.346333</td>\n",
       "      <td>-125.431167</td>\n",
       "      <td>5.948298</td>\n",
       "      <td>29.126868</td>\n",
       "      <td>8.874141</td>\n",
       "      <td>0.539</td>\n",
       "      <td>2015-03-06 15:16:37</td>\n",
       "    </tr>\n",
       "    <tr>\n",
       "      <th>4</th>\n",
       "      <td>2015.0</td>\n",
       "      <td>3.0</td>\n",
       "      <td>6.0</td>\n",
       "      <td>15.276944</td>\n",
       "      <td>50.346333</td>\n",
       "      <td>-125.431167</td>\n",
       "      <td>6.939665</td>\n",
       "      <td>29.126124</td>\n",
       "      <td>8.868916</td>\n",
       "      <td>0.519</td>\n",
       "      <td>2015-03-06 15:16:37</td>\n",
       "    </tr>\n",
       "  </tbody>\n",
       "</table>\n",
       "</div>"
      ],
      "text/plain": [
       "     Year  Month  Day       Hour        Lat         Lon         Z         SA  \\\n",
       "0  2015.0    3.0  6.0  15.276944  50.346333 -125.431167  2.974171  29.124678   \n",
       "1  2015.0    3.0  6.0  15.276944  50.346333 -125.431167  3.965552  29.125241   \n",
       "2  2015.0    3.0  6.0  15.276944  50.346333 -125.431167  4.956927  29.126406   \n",
       "3  2015.0    3.0  6.0  15.276944  50.346333 -125.431167  5.948298  29.126868   \n",
       "4  2015.0    3.0  6.0  15.276944  50.346333 -125.431167  6.939665  29.126124   \n",
       "\n",
       "         CT  Fluor               dtUTC  \n",
       "0  8.853510  0.460 2015-03-06 15:16:37  \n",
       "1  8.859852  0.520 2015-03-06 15:16:37  \n",
       "2  8.872634  0.514 2015-03-06 15:16:37  \n",
       "3  8.874141  0.539 2015-03-06 15:16:37  \n",
       "4  8.868916  0.519 2015-03-06 15:16:37  "
      ]
     },
     "execution_count": 4,
     "metadata": {},
     "output_type": "execute_result"
    }
   ],
   "source": [
    "start_date = dt.datetime(2015,3,1)\n",
    "end_date = dt.datetime(2015,3,31)\n",
    "flen=1\n",
    "namfmt='nowcast'\n",
    "filemap={'vosaline':'grid_T','votemper':'grid_T'}\n",
    "fdict={'ptrc_T':1,'grid_T':1}\n",
    "#basedir='/data/eolson/results/MEOPAR/tempDBs/',dbname='DFO.sqlite',       \n",
    "df1=et.loadDFOCTD(datelims=(start_date,end_date))\n",
    "print(len(df1),'data points')\n",
    "df1.head()"
   ]
  },
  {
   "cell_type": "code",
   "execution_count": 5,
   "metadata": {},
   "outputs": [
    {
     "name": "stdout",
     "output_type": "stream",
     "text": [
      "progress: 0.0%\n",
      "progress: 57.44485294117647%\n"
     ]
    }
   ],
   "source": [
    "data=et.matchData(df1,filemap,fdict,start_date,end_date,'nowcast',PATH,1,quiet=True);"
   ]
  },
  {
   "cell_type": "code",
   "execution_count": 7,
   "metadata": {},
   "outputs": [
    {
     "data": {
      "text/plain": [
       "[<matplotlib.lines.Line2D at 0x7f227affeee0>]"
      ]
     },
     "execution_count": 7,
     "metadata": {},
     "output_type": "execute_result"
    },
    {
     "data": {
      "image/png": "[encoded data removed]",
      "text/plain": [
       "<Figure size 504x504 with 1 Axes>"
      ]
     },
     "metadata": {
      "needs_background": "light"
     },
     "output_type": "display_data"
    }
   ],
   "source": [
    "obsvar='SA'\n",
    "modvar='mod_vosaline'\n",
    "fig, ax = plt.subplots(1,1,figsize = (7,7))\n",
    "ax.plot(data[obsvar],data[modvar],'k.')"
   ]
  }
 ],
 "metadata": {
  "anaconda-cloud": {},
  "kernelspec": {
   "display_name": "Python (py38)",
   "language": "python",
   "name": "py38"
  },
  "language_info": {
   "codemirror_mode": {
    "name": "ipython",
    "version": 3
   },
   "file_extension": ".py",
   "mimetype": "text/x-python",
   "name": "python",
   "nbconvert_exporter": "python",
   "pygments_lexer": "ipython3",
   "version": "3.8.1"
  }
 },
 "nbformat": 4,
 "nbformat_minor": 2
}
