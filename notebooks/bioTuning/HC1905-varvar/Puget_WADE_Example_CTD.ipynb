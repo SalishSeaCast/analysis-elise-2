{
 "cells": [
  {
   "cell_type": "code",
   "execution_count": 1,
   "metadata": {},
   "outputs": [],
   "source": [
    "import numpy as np\n",
    "import matplotlib.pyplot as plt\n",
    "import os\n",
    "import pandas as pd\n",
    "import netCDF4 as nc\n",
    "import datetime as dt\n",
    "from salishsea_tools import evaltools as et, viz_tools\n",
    "import gsw\n",
    "import matplotlib.gridspec as gridspec\n",
    "import matplotlib as mpl\n",
    "import matplotlib.dates as mdates\n",
    "import cmocean as cmo\n",
    "import scipy.interpolate as sinterp\n",
    "import pickle\n",
    "import cmocean\n",
    "import json\n",
    "import f90nml\n",
    "from collections import OrderedDict\n",
    "\n",
    "fs=16\n",
    "mpl.rc('xtick', labelsize=fs)\n",
    "mpl.rc('ytick', labelsize=fs)\n",
    "mpl.rc('legend', fontsize=fs)\n",
    "mpl.rc('axes', titlesize=fs)\n",
    "mpl.rc('axes', labelsize=fs)\n",
    "mpl.rc('figure', titlesize=fs)\n",
    "mpl.rc('font', size=fs)\n",
    "mpl.rc('font', family='sans-serif', weight='normal', style='normal')\n",
    "\n",
    "import warnings\n",
    "#warnings.filterwarnings('ignore')\n",
    "from IPython.display import Markdown, display\n",
    "\n",
    "%matplotlib inline"
   ]
  },
  {
   "cell_type": "raw",
   "metadata": {},
   "source": [
    "from IPython.display import HTML\n",
    "\n",
    "HTML('''<script>\n",
    "code_show=true; \n",
    "function code_toggle() {\n",
    " if (code_show){\n",
    " $('div.input').hide();\n",
    " } else {\n",
    " $('div.input').show();\n",
    " }\n",
    " code_show = !code_show\n",
    "} \n",
    "$( document ).ready(code_toggle);\n",
    "</script>\n",
    "\n",
    "<form action=\"javascript:code_toggle()\"><input type=\"submit\" value=\"Click here to toggle on/off the raw code.\"></form>''')\n"
   ]
  },
  {
   "cell_type": "code",
   "execution_count": 2,
   "metadata": {},
   "outputs": [],
   "source": [
    "year=2010\n",
    "PATH= '/results2/SalishSea/nowcast-green.201905/'\n",
    "datadir='/ocean/eolson/MEOPAR/obs/WADE/ptools_data/ecology'"
   ]
  },
  {
   "cell_type": "code",
   "execution_count": 3,
   "metadata": {},
   "outputs": [
    {
     "data": {
      "text/markdown": [
       "## Year: 2010"
      ],
      "text/plain": [
       "<IPython.core.display.Markdown object>"
      ]
     },
     "metadata": {},
     "output_type": "display_data"
    }
   ],
   "source": [
    "display(Markdown('''## Year: '''+ str(year)))"
   ]
  },
  {
   "cell_type": "code",
   "execution_count": 4,
   "metadata": {},
   "outputs": [
    {
     "data": {
      "text/markdown": [
       "### Model output: /results2/SalishSea/nowcast-green.201905/"
      ],
      "text/plain": [
       "<IPython.core.display.Markdown object>"
      ]
     },
     "metadata": {},
     "output_type": "display_data"
    }
   ],
   "source": [
    "display(Markdown('''### Model output: '''+ PATH))"
   ]
  },
  {
   "cell_type": "markdown",
   "metadata": {},
   "source": [
    "## Yearly model-data comparisons of nutrients, chlorophyll, temperature and salinity between 201905 runs and WADE observations"
   ]
  },
  {
   "cell_type": "markdown",
   "metadata": {},
   "source": [
    "### load observations"
   ]
  },
  {
   "cell_type": "code",
   "execution_count": 5,
   "metadata": {},
   "outputs": [],
   "source": [
    "dfSta=pickle.load(open(os.path.join(datadir,'sta_df.p'),'rb'))"
   ]
  },
  {
   "cell_type": "code",
   "execution_count": 6,
   "metadata": {},
   "outputs": [
    {
     "data": {
      "text/html": [
       "<div>\n",
       "<style scoped>\n",
       "    .dataframe tbody tr th:only-of-type {\n",
       "        vertical-align: middle;\n",
       "    }\n",
       "\n",
       "    .dataframe tbody tr th {\n",
       "        vertical-align: top;\n",
       "    }\n",
       "\n",
       "    .dataframe thead th {\n",
       "        text-align: right;\n",
       "    }\n",
       "</style>\n",
       "<table border=\"1\" class=\"dataframe\">\n",
       "  <thead>\n",
       "    <tr style=\"text-align: right;\">\n",
       "      <th></th>\n",
       "      <th>Desig</th>\n",
       "      <th>Descrip</th>\n",
       "      <th>Basin</th>\n",
       "      <th>Max_Depth</th>\n",
       "      <th>Latitude</th>\n",
       "      <th>Longitude</th>\n",
       "    </tr>\n",
       "    <tr>\n",
       "      <th>Station</th>\n",
       "      <th></th>\n",
       "      <th></th>\n",
       "      <th></th>\n",
       "      <th></th>\n",
       "      <th></th>\n",
       "      <th></th>\n",
       "    </tr>\n",
       "  </thead>\n",
       "  <tbody>\n",
       "    <tr>\n",
       "      <th>ADM001</th>\n",
       "      <td>C</td>\n",
       "      <td>Admiralty Inlet - Bush Pt.</td>\n",
       "      <td>Admiralty Inlet</td>\n",
       "      <td>114</td>\n",
       "      <td>48.029813</td>\n",
       "      <td>-122.617933</td>\n",
       "    </tr>\n",
       "    <tr>\n",
       "      <th>ADM002</th>\n",
       "      <td>C</td>\n",
       "      <td>Admiralty Inlet (north) - Quimper Pn.</td>\n",
       "      <td>Admiralty Inlet</td>\n",
       "      <td>79</td>\n",
       "      <td>48.187318</td>\n",
       "      <td>-122.842950</td>\n",
       "    </tr>\n",
       "    <tr>\n",
       "      <th>ADM003</th>\n",
       "      <td>C</td>\n",
       "      <td>Admiralty Inlet (south)</td>\n",
       "      <td>Admiralty Inlet</td>\n",
       "      <td>118</td>\n",
       "      <td>47.878983</td>\n",
       "      <td>-122.483195</td>\n",
       "    </tr>\n",
       "    <tr>\n",
       "      <th>BLL009</th>\n",
       "      <td>C</td>\n",
       "      <td>Bellingham Bay - Pt. Frances</td>\n",
       "      <td>Strait of Georgia</td>\n",
       "      <td>31</td>\n",
       "      <td>48.685940</td>\n",
       "      <td>-122.599618</td>\n",
       "    </tr>\n",
       "    <tr>\n",
       "      <th>BUD005</th>\n",
       "      <td>C</td>\n",
       "      <td>Budd Inlet - Olympia Shoal</td>\n",
       "      <td>South Basin</td>\n",
       "      <td>22</td>\n",
       "      <td>47.092040</td>\n",
       "      <td>-122.918197</td>\n",
       "    </tr>\n",
       "  </tbody>\n",
       "</table>\n",
       "</div>"
      ],
      "text/plain": [
       "        Desig                                Descrip              Basin  \\\n",
       "Station                                                                   \n",
       "ADM001      C             Admiralty Inlet - Bush Pt.    Admiralty Inlet   \n",
       "ADM002      C  Admiralty Inlet (north) - Quimper Pn.    Admiralty Inlet   \n",
       "ADM003      C                Admiralty Inlet (south)    Admiralty Inlet   \n",
       "BLL009      C           Bellingham Bay - Pt. Frances  Strait of Georgia   \n",
       "BUD005      C             Budd Inlet - Olympia Shoal        South Basin   \n",
       "\n",
       "         Max_Depth   Latitude   Longitude  \n",
       "Station                                    \n",
       "ADM001         114  48.029813 -122.617933  \n",
       "ADM002          79  48.187318 -122.842950  \n",
       "ADM003         118  47.878983 -122.483195  \n",
       "BLL009          31  48.685940 -122.599618  \n",
       "BUD005          22  47.092040 -122.918197  "
      ]
     },
     "execution_count": 6,
     "metadata": {},
     "output_type": "execute_result"
    }
   ],
   "source": [
    "dfSta.head()"
   ]
  },
  {
   "cell_type": "code",
   "execution_count": 7,
   "metadata": {},
   "outputs": [],
   "source": [
    "dfCTD0=pickle.load(open(os.path.join(datadir,f'Casts_{str(year)}.p'),'rb'))"
   ]
  },
  {
   "cell_type": "code",
   "execution_count": 8,
   "metadata": {},
   "outputs": [
    {
     "data": {
      "text/html": [
       "<div>\n",
       "<style scoped>\n",
       "    .dataframe tbody tr th:only-of-type {\n",
       "        vertical-align: middle;\n",
       "    }\n",
       "\n",
       "    .dataframe tbody tr th {\n",
       "        vertical-align: top;\n",
       "    }\n",
       "\n",
       "    .dataframe thead th {\n",
       "        text-align: right;\n",
       "    }\n",
       "</style>\n",
       "<table border=\"1\" class=\"dataframe\">\n",
       "  <thead>\n",
       "    <tr style=\"text-align: right;\">\n",
       "      <th></th>\n",
       "      <th>Salinity</th>\n",
       "      <th>Temperature</th>\n",
       "      <th>Sigma</th>\n",
       "      <th>Chl</th>\n",
       "      <th>DO</th>\n",
       "      <th>Turb</th>\n",
       "      <th>Z</th>\n",
       "      <th>Station</th>\n",
       "      <th>Date</th>\n",
       "    </tr>\n",
       "  </thead>\n",
       "  <tbody>\n",
       "    <tr>\n",
       "      <th>0</th>\n",
       "      <td>30.257401</td>\n",
       "      <td>8.1037</td>\n",
       "      <td>23.537201</td>\n",
       "      <td>0.614771</td>\n",
       "      <td>8.010357</td>\n",
       "      <td>0.674165</td>\n",
       "      <td>-116.5</td>\n",
       "      <td>ADM001</td>\n",
       "      <td>2010-01-21</td>\n",
       "    </tr>\n",
       "    <tr>\n",
       "      <th>1</th>\n",
       "      <td>30.256701</td>\n",
       "      <td>8.1038</td>\n",
       "      <td>23.536600</td>\n",
       "      <td>0.657414</td>\n",
       "      <td>7.978440</td>\n",
       "      <td>0.707311</td>\n",
       "      <td>-116.0</td>\n",
       "      <td>ADM001</td>\n",
       "      <td>2010-01-21</td>\n",
       "    </tr>\n",
       "    <tr>\n",
       "      <th>2</th>\n",
       "      <td>30.256100</td>\n",
       "      <td>8.1039</td>\n",
       "      <td>23.536100</td>\n",
       "      <td>0.657414</td>\n",
       "      <td>7.990206</td>\n",
       "      <td>0.708538</td>\n",
       "      <td>-115.5</td>\n",
       "      <td>ADM001</td>\n",
       "      <td>2010-01-21</td>\n",
       "    </tr>\n",
       "    <tr>\n",
       "      <th>3</th>\n",
       "      <td>30.255501</td>\n",
       "      <td>8.1041</td>\n",
       "      <td>23.535601</td>\n",
       "      <td>0.643200</td>\n",
       "      <td>7.993524</td>\n",
       "      <td>0.704281</td>\n",
       "      <td>-115.0</td>\n",
       "      <td>ADM001</td>\n",
       "      <td>2010-01-21</td>\n",
       "    </tr>\n",
       "    <tr>\n",
       "      <th>4</th>\n",
       "      <td>30.255400</td>\n",
       "      <td>8.1041</td>\n",
       "      <td>23.535601</td>\n",
       "      <td>0.614771</td>\n",
       "      <td>7.994764</td>\n",
       "      <td>0.691650</td>\n",
       "      <td>-114.5</td>\n",
       "      <td>ADM001</td>\n",
       "      <td>2010-01-21</td>\n",
       "    </tr>\n",
       "  </tbody>\n",
       "</table>\n",
       "</div>"
      ],
      "text/plain": [
       "    Salinity  Temperature      Sigma       Chl        DO      Turb      Z  \\\n",
       "0  30.257401       8.1037  23.537201  0.614771  8.010357  0.674165 -116.5   \n",
       "1  30.256701       8.1038  23.536600  0.657414  7.978440  0.707311 -116.0   \n",
       "2  30.256100       8.1039  23.536100  0.657414  7.990206  0.708538 -115.5   \n",
       "3  30.255501       8.1041  23.535601  0.643200  7.993524  0.704281 -115.0   \n",
       "4  30.255400       8.1041  23.535601  0.614771  7.994764  0.691650 -114.5   \n",
       "\n",
       "  Station       Date  \n",
       "0  ADM001 2010-01-21  \n",
       "1  ADM001 2010-01-21  \n",
       "2  ADM001 2010-01-21  \n",
       "3  ADM001 2010-01-21  \n",
       "4  ADM001 2010-01-21  "
      ]
     },
     "execution_count": 8,
     "metadata": {},
     "output_type": "execute_result"
    }
   ],
   "source": [
    "dfCTD0.head()"
   ]
  },
  {
   "cell_type": "code",
   "execution_count": 9,
   "metadata": {
    "scrolled": true
   },
   "outputs": [
    {
     "data": {
      "text/html": [
       "<div>\n",
       "<style scoped>\n",
       "    .dataframe tbody tr th:only-of-type {\n",
       "        vertical-align: middle;\n",
       "    }\n",
       "\n",
       "    .dataframe tbody tr th {\n",
       "        vertical-align: top;\n",
       "    }\n",
       "\n",
       "    .dataframe thead th {\n",
       "        text-align: right;\n",
       "    }\n",
       "</style>\n",
       "<table border=\"1\" class=\"dataframe\">\n",
       "  <thead>\n",
       "    <tr style=\"text-align: right;\">\n",
       "      <th></th>\n",
       "      <th>Station</th>\n",
       "      <th>Desig</th>\n",
       "      <th>Descrip</th>\n",
       "      <th>Basin</th>\n",
       "      <th>Max_Depth</th>\n",
       "      <th>Latitude</th>\n",
       "      <th>Longitude</th>\n",
       "      <th>Salinity</th>\n",
       "      <th>Temperature</th>\n",
       "      <th>Sigma</th>\n",
       "      <th>Chl</th>\n",
       "      <th>DO</th>\n",
       "      <th>Turb</th>\n",
       "      <th>Z</th>\n",
       "      <th>Date</th>\n",
       "    </tr>\n",
       "  </thead>\n",
       "  <tbody>\n",
       "    <tr>\n",
       "      <th>0</th>\n",
       "      <td>ADM001</td>\n",
       "      <td>C</td>\n",
       "      <td>Admiralty Inlet - Bush Pt.</td>\n",
       "      <td>Admiralty Inlet</td>\n",
       "      <td>114</td>\n",
       "      <td>48.029813</td>\n",
       "      <td>-122.617933</td>\n",
       "      <td>30.257401</td>\n",
       "      <td>8.1037</td>\n",
       "      <td>23.537201</td>\n",
       "      <td>0.614771</td>\n",
       "      <td>8.010357</td>\n",
       "      <td>0.674165</td>\n",
       "      <td>-116.5</td>\n",
       "      <td>2010-01-21</td>\n",
       "    </tr>\n",
       "    <tr>\n",
       "      <th>1</th>\n",
       "      <td>ADM001</td>\n",
       "      <td>C</td>\n",
       "      <td>Admiralty Inlet - Bush Pt.</td>\n",
       "      <td>Admiralty Inlet</td>\n",
       "      <td>114</td>\n",
       "      <td>48.029813</td>\n",
       "      <td>-122.617933</td>\n",
       "      <td>30.256701</td>\n",
       "      <td>8.1038</td>\n",
       "      <td>23.536600</td>\n",
       "      <td>0.657414</td>\n",
       "      <td>7.978440</td>\n",
       "      <td>0.707311</td>\n",
       "      <td>-116.0</td>\n",
       "      <td>2010-01-21</td>\n",
       "    </tr>\n",
       "    <tr>\n",
       "      <th>2</th>\n",
       "      <td>ADM001</td>\n",
       "      <td>C</td>\n",
       "      <td>Admiralty Inlet - Bush Pt.</td>\n",
       "      <td>Admiralty Inlet</td>\n",
       "      <td>114</td>\n",
       "      <td>48.029813</td>\n",
       "      <td>-122.617933</td>\n",
       "      <td>30.256100</td>\n",
       "      <td>8.1039</td>\n",
       "      <td>23.536100</td>\n",
       "      <td>0.657414</td>\n",
       "      <td>7.990206</td>\n",
       "      <td>0.708538</td>\n",
       "      <td>-115.5</td>\n",
       "      <td>2010-01-21</td>\n",
       "    </tr>\n",
       "    <tr>\n",
       "      <th>3</th>\n",
       "      <td>ADM001</td>\n",
       "      <td>C</td>\n",
       "      <td>Admiralty Inlet - Bush Pt.</td>\n",
       "      <td>Admiralty Inlet</td>\n",
       "      <td>114</td>\n",
       "      <td>48.029813</td>\n",
       "      <td>-122.617933</td>\n",
       "      <td>30.255501</td>\n",
       "      <td>8.1041</td>\n",
       "      <td>23.535601</td>\n",
       "      <td>0.643200</td>\n",
       "      <td>7.993524</td>\n",
       "      <td>0.704281</td>\n",
       "      <td>-115.0</td>\n",
       "      <td>2010-01-21</td>\n",
       "    </tr>\n",
       "    <tr>\n",
       "      <th>4</th>\n",
       "      <td>ADM001</td>\n",
       "      <td>C</td>\n",
       "      <td>Admiralty Inlet - Bush Pt.</td>\n",
       "      <td>Admiralty Inlet</td>\n",
       "      <td>114</td>\n",
       "      <td>48.029813</td>\n",
       "      <td>-122.617933</td>\n",
       "      <td>30.255400</td>\n",
       "      <td>8.1041</td>\n",
       "      <td>23.535601</td>\n",
       "      <td>0.614771</td>\n",
       "      <td>7.994764</td>\n",
       "      <td>0.691650</td>\n",
       "      <td>-114.5</td>\n",
       "      <td>2010-01-21</td>\n",
       "    </tr>\n",
       "  </tbody>\n",
       "</table>\n",
       "</div>"
      ],
      "text/plain": [
       "  Station Desig                     Descrip            Basin  Max_Depth  \\\n",
       "0  ADM001     C  Admiralty Inlet - Bush Pt.  Admiralty Inlet        114   \n",
       "1  ADM001     C  Admiralty Inlet - Bush Pt.  Admiralty Inlet        114   \n",
       "2  ADM001     C  Admiralty Inlet - Bush Pt.  Admiralty Inlet        114   \n",
       "3  ADM001     C  Admiralty Inlet - Bush Pt.  Admiralty Inlet        114   \n",
       "4  ADM001     C  Admiralty Inlet - Bush Pt.  Admiralty Inlet        114   \n",
       "\n",
       "    Latitude   Longitude   Salinity  Temperature      Sigma       Chl  \\\n",
       "0  48.029813 -122.617933  30.257401       8.1037  23.537201  0.614771   \n",
       "1  48.029813 -122.617933  30.256701       8.1038  23.536600  0.657414   \n",
       "2  48.029813 -122.617933  30.256100       8.1039  23.536100  0.657414   \n",
       "3  48.029813 -122.617933  30.255501       8.1041  23.535601  0.643200   \n",
       "4  48.029813 -122.617933  30.255400       8.1041  23.535601  0.614771   \n",
       "\n",
       "         DO      Turb      Z       Date  \n",
       "0  8.010357  0.674165 -116.5 2010-01-21  \n",
       "1  7.978440  0.707311 -116.0 2010-01-21  \n",
       "2  7.990206  0.708538 -115.5 2010-01-21  \n",
       "3  7.993524  0.704281 -115.0 2010-01-21  \n",
       "4  7.994764  0.691650 -114.5 2010-01-21  "
      ]
     },
     "execution_count": 9,
     "metadata": {},
     "output_type": "execute_result"
    }
   ],
   "source": [
    "dfCTD=pd.merge(left=dfSta,right=dfCTD0,how='right',\n",
    "             left_on='Station',right_on='Station')\n",
    "#right join means all rows in right table (dfCTD) are included in output\n",
    "dfCTD.head()"
   ]
  },
  {
   "cell_type": "code",
   "execution_count": 10,
   "metadata": {},
   "outputs": [
    {
     "data": {
      "text/html": [
       "<div>\n",
       "<style scoped>\n",
       "    .dataframe tbody tr th:only-of-type {\n",
       "        vertical-align: middle;\n",
       "    }\n",
       "\n",
       "    .dataframe tbody tr th {\n",
       "        vertical-align: top;\n",
       "    }\n",
       "\n",
       "    .dataframe thead th {\n",
       "        text-align: right;\n",
       "    }\n",
       "</style>\n",
       "<table border=\"1\" class=\"dataframe\">\n",
       "  <thead>\n",
       "    <tr style=\"text-align: right;\">\n",
       "      <th></th>\n",
       "      <th>Station</th>\n",
       "      <th>Desig</th>\n",
       "      <th>Descrip</th>\n",
       "      <th>Basin</th>\n",
       "      <th>Max_Depth</th>\n",
       "      <th>Latitude</th>\n",
       "      <th>Longitude</th>\n",
       "      <th>Salinity</th>\n",
       "      <th>Temperature</th>\n",
       "      <th>Sigma</th>\n",
       "      <th>Chl</th>\n",
       "      <th>DO</th>\n",
       "      <th>Turb</th>\n",
       "      <th>Z</th>\n",
       "      <th>Date</th>\n",
       "    </tr>\n",
       "  </thead>\n",
       "  <tbody>\n",
       "  </tbody>\n",
       "</table>\n",
       "</div>"
      ],
      "text/plain": [
       "Empty DataFrame\n",
       "Columns: [Station, Desig, Descrip, Basin, Max_Depth, Latitude, Longitude, Salinity, Temperature, Sigma, Chl, DO, Turb, Z, Date]\n",
       "Index: []"
      ]
     },
     "execution_count": 10,
     "metadata": {},
     "output_type": "execute_result"
    }
   ],
   "source": [
    "# check that there are no stations without lat and lon:\n",
    "dfCTD.loc[pd.isnull(dfCTD['Latitude'])]"
   ]
  },
  {
   "cell_type": "code",
   "execution_count": 11,
   "metadata": {},
   "outputs": [
    {
     "data": {
      "text/plain": [
       "(54503, 54503, 39)"
      ]
     },
     "execution_count": 11,
     "metadata": {},
     "output_type": "execute_result"
    }
   ],
   "source": [
    "# check one to one matches:\n",
    "len(dfCTD),len(dfCTD0), len(dfSta)"
   ]
  },
  {
   "cell_type": "code",
   "execution_count": 12,
   "metadata": {},
   "outputs": [],
   "source": [
    "# where no time is provided, set time to midday Pacific time = ~ 20:00 UTC for now\n",
    "# (most sampling takes place during the day)\n",
    "# accurate times will be provided at a later date\n",
    "# the code below takes advantage of all elements in 'Date' having a time component \n",
    "# set to midnight\n",
    "dfCTD['dtUTC']=[iiD+dt.timedelta(hours=20) for iiD in dfCTD['Date']]"
   ]
  },
  {
   "cell_type": "code",
   "execution_count": 13,
   "metadata": {},
   "outputs": [
    {
     "data": {
      "text/html": [
       "<div>\n",
       "<style scoped>\n",
       "    .dataframe tbody tr th:only-of-type {\n",
       "        vertical-align: middle;\n",
       "    }\n",
       "\n",
       "    .dataframe tbody tr th {\n",
       "        vertical-align: top;\n",
       "    }\n",
       "\n",
       "    .dataframe thead th {\n",
       "        text-align: right;\n",
       "    }\n",
       "</style>\n",
       "<table border=\"1\" class=\"dataframe\">\n",
       "  <thead>\n",
       "    <tr style=\"text-align: right;\">\n",
       "      <th></th>\n",
       "      <th>Station</th>\n",
       "      <th>Desig</th>\n",
       "      <th>Descrip</th>\n",
       "      <th>Basin</th>\n",
       "      <th>Max_Depth</th>\n",
       "      <th>Lat</th>\n",
       "      <th>Lon</th>\n",
       "      <th>Salinity</th>\n",
       "      <th>Temperature</th>\n",
       "      <th>Sigma</th>\n",
       "      <th>Chl</th>\n",
       "      <th>DO</th>\n",
       "      <th>Turb</th>\n",
       "      <th>Z</th>\n",
       "      <th>Date</th>\n",
       "      <th>dtUTC</th>\n",
       "    </tr>\n",
       "  </thead>\n",
       "  <tbody>\n",
       "    <tr>\n",
       "      <th>0</th>\n",
       "      <td>ADM001</td>\n",
       "      <td>C</td>\n",
       "      <td>Admiralty Inlet - Bush Pt.</td>\n",
       "      <td>Admiralty Inlet</td>\n",
       "      <td>114</td>\n",
       "      <td>48.029813</td>\n",
       "      <td>-122.617933</td>\n",
       "      <td>30.257401</td>\n",
       "      <td>8.1037</td>\n",
       "      <td>23.537201</td>\n",
       "      <td>0.614771</td>\n",
       "      <td>8.010357</td>\n",
       "      <td>0.674165</td>\n",
       "      <td>116.5</td>\n",
       "      <td>2010-01-21</td>\n",
       "      <td>2010-01-21 20:00:00</td>\n",
       "    </tr>\n",
       "    <tr>\n",
       "      <th>1</th>\n",
       "      <td>ADM001</td>\n",
       "      <td>C</td>\n",
       "      <td>Admiralty Inlet - Bush Pt.</td>\n",
       "      <td>Admiralty Inlet</td>\n",
       "      <td>114</td>\n",
       "      <td>48.029813</td>\n",
       "      <td>-122.617933</td>\n",
       "      <td>30.256701</td>\n",
       "      <td>8.1038</td>\n",
       "      <td>23.536600</td>\n",
       "      <td>0.657414</td>\n",
       "      <td>7.978440</td>\n",
       "      <td>0.707311</td>\n",
       "      <td>116.0</td>\n",
       "      <td>2010-01-21</td>\n",
       "      <td>2010-01-21 20:00:00</td>\n",
       "    </tr>\n",
       "    <tr>\n",
       "      <th>2</th>\n",
       "      <td>ADM001</td>\n",
       "      <td>C</td>\n",
       "      <td>Admiralty Inlet - Bush Pt.</td>\n",
       "      <td>Admiralty Inlet</td>\n",
       "      <td>114</td>\n",
       "      <td>48.029813</td>\n",
       "      <td>-122.617933</td>\n",
       "      <td>30.256100</td>\n",
       "      <td>8.1039</td>\n",
       "      <td>23.536100</td>\n",
       "      <td>0.657414</td>\n",
       "      <td>7.990206</td>\n",
       "      <td>0.708538</td>\n",
       "      <td>115.5</td>\n",
       "      <td>2010-01-21</td>\n",
       "      <td>2010-01-21 20:00:00</td>\n",
       "    </tr>\n",
       "    <tr>\n",
       "      <th>3</th>\n",
       "      <td>ADM001</td>\n",
       "      <td>C</td>\n",
       "      <td>Admiralty Inlet - Bush Pt.</td>\n",
       "      <td>Admiralty Inlet</td>\n",
       "      <td>114</td>\n",
       "      <td>48.029813</td>\n",
       "      <td>-122.617933</td>\n",
       "      <td>30.255501</td>\n",
       "      <td>8.1041</td>\n",
       "      <td>23.535601</td>\n",
       "      <td>0.643200</td>\n",
       "      <td>7.993524</td>\n",
       "      <td>0.704281</td>\n",
       "      <td>115.0</td>\n",
       "      <td>2010-01-21</td>\n",
       "      <td>2010-01-21 20:00:00</td>\n",
       "    </tr>\n",
       "    <tr>\n",
       "      <th>4</th>\n",
       "      <td>ADM001</td>\n",
       "      <td>C</td>\n",
       "      <td>Admiralty Inlet - Bush Pt.</td>\n",
       "      <td>Admiralty Inlet</td>\n",
       "      <td>114</td>\n",
       "      <td>48.029813</td>\n",
       "      <td>-122.617933</td>\n",
       "      <td>30.255400</td>\n",
       "      <td>8.1041</td>\n",
       "      <td>23.535601</td>\n",
       "      <td>0.614771</td>\n",
       "      <td>7.994764</td>\n",
       "      <td>0.691650</td>\n",
       "      <td>114.5</td>\n",
       "      <td>2010-01-21</td>\n",
       "      <td>2010-01-21 20:00:00</td>\n",
       "    </tr>\n",
       "  </tbody>\n",
       "</table>\n",
       "</div>"
      ],
      "text/plain": [
       "  Station Desig                     Descrip            Basin  Max_Depth  \\\n",
       "0  ADM001     C  Admiralty Inlet - Bush Pt.  Admiralty Inlet        114   \n",
       "1  ADM001     C  Admiralty Inlet - Bush Pt.  Admiralty Inlet        114   \n",
       "2  ADM001     C  Admiralty Inlet - Bush Pt.  Admiralty Inlet        114   \n",
       "3  ADM001     C  Admiralty Inlet - Bush Pt.  Admiralty Inlet        114   \n",
       "4  ADM001     C  Admiralty Inlet - Bush Pt.  Admiralty Inlet        114   \n",
       "\n",
       "         Lat         Lon   Salinity  Temperature      Sigma       Chl  \\\n",
       "0  48.029813 -122.617933  30.257401       8.1037  23.537201  0.614771   \n",
       "1  48.029813 -122.617933  30.256701       8.1038  23.536600  0.657414   \n",
       "2  48.029813 -122.617933  30.256100       8.1039  23.536100  0.657414   \n",
       "3  48.029813 -122.617933  30.255501       8.1041  23.535601  0.643200   \n",
       "4  48.029813 -122.617933  30.255400       8.1041  23.535601  0.614771   \n",
       "\n",
       "         DO      Turb      Z       Date               dtUTC  \n",
       "0  8.010357  0.674165  116.5 2010-01-21 2010-01-21 20:00:00  \n",
       "1  7.978440  0.707311  116.0 2010-01-21 2010-01-21 20:00:00  \n",
       "2  7.990206  0.708538  115.5 2010-01-21 2010-01-21 20:00:00  \n",
       "3  7.993524  0.704281  115.0 2010-01-21 2010-01-21 20:00:00  \n",
       "4  7.994764  0.691650  114.5 2010-01-21 2010-01-21 20:00:00  "
      ]
     },
     "execution_count": 13,
     "metadata": {},
     "output_type": "execute_result"
    }
   ],
   "source": [
    "# We require the following columns:\n",
    "#    dtUTC datetime\n",
    "#    Lat   Latitude\n",
    "#    Lon   Longitude\n",
    "#    Z     Depth, increasing downward (positive)\n",
    "dfCTD.rename(columns={'Latitude':'Lat','Longitude':'Lon'},inplace=True)\n",
    "dfCTD['Z']=-1*dfCTD['Z']\n",
    "dfCTD.head()"
   ]
  },
  {
   "cell_type": "code",
   "execution_count": 15,
   "metadata": {},
   "outputs": [],
   "source": [
    "# Calculate Absolute (Reference) Salinity (g/kg) and Conservative Temperature (deg C) from \n",
    "# Salinity (psu) and Temperature (deg C):\n",
    "press=gsw.p_from_z(-1*dfCTD['Z'].values,dfCTD['Lat'].values)\n",
    "dfCTD['SA']=gsw.SA_from_SP(dfCTD['Salinity'].values,press,\n",
    "                           dfCTD['Lon'].values,dfCTD['Lat'].values)\n",
    "dfCTD['CT']=gsw.CT_from_t(dfCTD['SA'].values,dfCTD['Temperature'].values,press)"
   ]
  },
  {
   "cell_type": "code",
   "execution_count": 16,
   "metadata": {},
   "outputs": [
    {
     "name": "stdout",
     "output_type": "stream",
     "text": [
      "54503 data points\n",
      "Number of data points in each region:\n"
     ]
    },
    {
     "data": {
      "text/plain": [
       "Basin\n",
       "Admiralty Inlet            8038\n",
       "Grays Harbor                336\n",
       "Hood Canal Basin           3114\n",
       "Main Basin                11121\n",
       "South Basin                9385\n",
       "Strait of Georgia          3370\n",
       "Strait of Juan de Fuca     9189\n",
       "Whidbey Basin              5022\n",
       "Willapa Bay                 716\n",
       "Name: SA, dtype: int64"
      ]
     },
     "execution_count": 16,
     "metadata": {},
     "output_type": "execute_result"
    }
   ],
   "source": [
    "print(len(dfCTD),'data points')\n",
    "print('Number of data points in each region:')\n",
    "dfCTD.groupby('Basin')['SA'].count()"
   ]
  },
  {
   "cell_type": "markdown",
   "metadata": {},
   "source": [
    "### set up variables for model-data matching"
   ]
  },
  {
   "cell_type": "code",
   "execution_count": 17,
   "metadata": {},
   "outputs": [],
   "source": [
    "# start_date and end_date are the first and last dates that will \n",
    "#  be included in the matched data set\n",
    "start_date = dt.datetime(year,1,1)\n",
    "end_date = dt.datetime(year,12,31)\n",
    "flen=1 # number of days per model output file. always 1 for 201905 and 201812 model runs\n",
    "namfmt='nowcast' # for 201905 and 201812 model runs, this should always be 'nowcast'\n",
    "# filemap is dictionary of the form variableName: fileType, where variableName is the name\n",
    "# of the variable you want to extract and fileType designates the type of \n",
    "# model output file it can be found in (usually ptrc_T for biology, grid_T for temperature and \n",
    "# salinity)\n",
    "filemap={'vosaline':'grid_T','votemper':'grid_T'}\n",
    "# fdict is a dictionary mappy file type to its time resolution. Here, 1 means hourly output\n",
    "# (1h file) and 24 means daily output (1d file). In certain runs, multiple time resolutions \n",
    "# are available\n",
    "fdict={'ptrc_T':1,'grid_T':1}\n",
    "# Note: to switch between 201812 and 201905 model results, change PATH\n",
    "# to switch from hourly to daily model output, change fdict values from 1 to 24 (but daily \n",
    "#  files are not available for some runs and file types)"
   ]
  },
  {
   "cell_type": "code",
   "execution_count": 18,
   "metadata": {},
   "outputs": [
    {
     "name": "stdout",
     "output_type": "stream",
     "text": [
      "(Lat,Lon)= 46.54537666666667 -123.98016166666666  not matched to domain\n",
      "(Lat,Lon)= 46.644 -123.993  not matched to domain\n",
      "(Lat,Lon)= 46.68676333333333 -123.9735  not matched to domain\n",
      "(Lat,Lon)= 46.68732166666667 -123.74988166666667  not matched to domain\n",
      "(Lat,Lon)= 46.703986666666665 -123.837385  not matched to domain\n",
      "(Lat,Lon)= 46.937313333333336 -123.91322333333333  not matched to domain\n",
      "(Lat,Lon)= 46.953421666666664 -124.09295  not matched to domain\n",
      "(Lat,Lon)= 46.97787 -123.78461  not matched to domain\n",
      "(Lat,Lon)= 47.21342666666666 -123.07765  not matched to domain\n",
      "progress: 0.0%\n",
      "progress: 9.40043994058922%\n",
      "progress: 18.80087988117844%\n",
      "progress: 28.201319821767655%\n",
      "progress: 37.60175976235688%\n",
      "progress: 47.00219970294609%\n",
      "progress: 56.40263964353531%\n",
      "progress: 65.80307958412453%\n",
      "progress: 75.20351952471376%\n",
      "progress: 84.60395946530298%\n",
      "progress: 94.00439940589219%\n"
     ]
    }
   ],
   "source": [
    "data=et.matchData(dfCTD,filemap,fdict,start_date,end_date,'nowcast',PATH,1,quiet=False);"
   ]
  },
  {
   "cell_type": "code",
   "execution_count": 19,
   "metadata": {},
   "outputs": [
    {
     "name": "stderr",
     "output_type": "stream",
     "text": [
      "<ipython-input-19-91c5eca2ab2e>:3: DeprecationWarning: `np.bool` is a deprecated alias for the builtin `bool`. To silence this warning, use `bool` by itself. Doing this will not modify any behavior and is safe. If you specifically wanted the numpy scalar type, use `np.bool_` here.\n",
      "Deprecated in NumPy 1.20; for more details and guidance: https://numpy.org/devdocs/release/1.20.0-notes.html#deprecations\n",
      "  bathylon=np.copy(bathy.variables['nav_lon'][:,:])\n",
      "<ipython-input-19-91c5eca2ab2e>:4: DeprecationWarning: `np.bool` is a deprecated alias for the builtin `bool`. To silence this warning, use `bool` by itself. Doing this will not modify any behavior and is safe. If you specifically wanted the numpy scalar type, use `np.bool_` here.\n",
      "Deprecated in NumPy 1.20; for more details and guidance: https://numpy.org/devdocs/release/1.20.0-notes.html#deprecations\n",
      "  bathylat=np.copy(bathy.variables['nav_lat'][:,:])\n",
      "<ipython-input-19-91c5eca2ab2e>:5: DeprecationWarning: `np.bool` is a deprecated alias for the builtin `bool`. To silence this warning, use `bool` by itself. Doing this will not modify any behavior and is safe. If you specifically wanted the numpy scalar type, use `np.bool_` here.\n",
      "Deprecated in NumPy 1.20; for more details and guidance: https://numpy.org/devdocs/release/1.20.0-notes.html#deprecations\n",
      "  bathyZ=np.copy(bathy.variables['Bathymetry'][:,:])\n"
     ]
    }
   ],
   "source": [
    "cm1=cmocean.cm.thermal\n",
    "with nc.Dataset('/data/eolson/results/MEOPAR/NEMO-forcing-new/grid/bathymetry_201702.nc') as bathy:\n",
    "    bathylon=np.copy(bathy.variables['nav_lon'][:,:])\n",
    "    bathylat=np.copy(bathy.variables['nav_lat'][:,:])\n",
    "    bathyZ=np.copy(bathy.variables['Bathymetry'][:,:])"
   ]
  },
  {
   "cell_type": "code",
   "execution_count": 20,
   "metadata": {},
   "outputs": [
    {
     "data": {
      "image/png": "[encoded data removed]",
      "text/plain": [
       "<Figure size 432x432 with 1 Axes>"
      ]
     },
     "metadata": {
      "needs_background": "light"
     },
     "output_type": "display_data"
    }
   ],
   "source": [
    "fig, ax = plt.subplots(1,1,figsize = (6,6))\n",
    "with nc.Dataset('/data/vdo/MEOPAR/NEMO-forcing/grid/bathymetry_201702.nc') as grid:\n",
    "    viz_tools.plot_coastline(ax, grid, coords = 'map',isobath=.1)\n",
    "colors=('teal','green','firebrick','darkorange','darkviolet','fuchsia',\n",
    "        'royalblue','darkgoldenrod','mediumspringgreen','deepskyblue')\n",
    "datreg=dict()\n",
    "for ind, iregion in enumerate(data.Basin.unique()):\n",
    "    datreg[iregion] = data.loc[data.Basin==iregion]\n",
    "    ax.plot(datreg[iregion]['Lon'], datreg[iregion]['Lat'],'.',\n",
    "            color = colors[ind], label=iregion)\n",
    "ax.set_ylim(47, 49)\n",
    "ax.legend(bbox_to_anchor=[1,.6,0,0])\n",
    "ax.set_xlim(-124, -122);\n",
    "ax.set_title('Observation Locations');\n",
    "\n",
    "iz=(data.Z<15)\n",
    "JFM=data.loc[iz&(data.dtUTC<=dt.datetime(year,4,1)),:]\n",
    "Apr=data.loc[iz&(data.dtUTC<=dt.datetime(year,5,1))&(data.dtUTC>dt.datetime(year,4,1)),:]\n",
    "MJJA=data.loc[iz&(data.dtUTC<=dt.datetime(year,9,1))&(data.dtUTC>dt.datetime(year,5,1)),:]\n",
    "SOND=data.loc[iz&(data.dtUTC>dt.datetime(year,9,1)),:]"
   ]
  },
  {
   "cell_type": "code",
   "execution_count": 21,
   "metadata": {},
   "outputs": [],
   "source": [
    "def byDepth(ax,obsvar,modvar,lims):\n",
    "    ps=et.varvarPlot(ax,data,obsvar,modvar,'Z',(15,22),'z','m',('mediumseagreen','darkturquoise','navy'))\n",
    "    l=ax.legend(handles=ps)\n",
    "    ax.set_xlabel('Obs')\n",
    "    ax.set_ylabel('Model')\n",
    "    ax.plot(lims,lims,'k-',alpha=.5)\n",
    "    ax.set_xlim(lims)\n",
    "    ax.set_ylim(lims)\n",
    "    ax.set_aspect(1)\n",
    "    return ps,l\n",
    "\n",
    "def byRegion(ax,obsvar,modvar,lims):\n",
    "    ps=[]\n",
    "    for ind, iregion in enumerate(data.Basin.unique()):\n",
    "        ax.plot(datreg[iregion]['Lon'], datreg[iregion]['Lat'],'.',\n",
    "                color = colors[ind], label=iregion)\n",
    "        ps0=et.varvarPlot(ax,datreg[iregion],obsvar,modvar,\n",
    "                          cols=(colors[ind],),lname=iregion)\n",
    "        ps.append(ps0)\n",
    "    l=ax.legend(handles=[ip[0][0] for ip in ps])\n",
    "    ax.set_xlabel('Obs')\n",
    "    ax.set_ylabel('Model')\n",
    "    ax.plot(lims,lims,'k-',alpha=.5)\n",
    "    ax.set_xlim(lims)\n",
    "    ax.set_ylim(lims)\n",
    "    ax.set_aspect(1)\n",
    "    return ps,l\n",
    "\n",
    "def bySeason(ax,obsvar,modvar,lims):\n",
    "    for axi in ax:\n",
    "        axi.plot(lims,lims,'k-')\n",
    "        axi.set_xlim(lims)\n",
    "        axi.set_ylim(lims)\n",
    "        axi.set_aspect(1)\n",
    "        axi.set_xlabel('Obs')\n",
    "        axi.set_ylabel('Model')\n",
    "    ps=et.varvarPlot(ax[0],JFM,obsvar,modvar,cols=('crimson','darkturquoise','navy'))\n",
    "    ax[0].set_title('Jan-Mar')\n",
    "    ps=et.varvarPlot(ax[1],Apr,obsvar,modvar,cols=('crimson','darkturquoise','navy'))\n",
    "    ax[1].set_title('Apr')\n",
    "    ps=et.varvarPlot(ax[2],MJJA,obsvar,modvar,cols=('crimson','darkturquoise','navy'))\n",
    "    ax[2].set_title('May-Aug')\n",
    "    ps=et.varvarPlot(ax[3],SOND,obsvar,modvar,cols=('crimson','darkturquoise','navy'))\n",
    "    ax[3].set_title('Sep-Dec')\n",
    "    return \n",
    "\n",
    "def ErrErr(fig,ax,obsvar1,modvar1,obsvar2,modvar2,lims1,lims2):\n",
    "    m=ax.scatter(data[modvar1]-data[obsvar1],data[modvar2]-data[obsvar2],c=data['Z'],s=1,cmap='gnuplot')\n",
    "    cb=fig.colorbar(m,ax=ax,label='Depth (m)')\n",
    "    ax.set_xlim(lims1)\n",
    "    ax.set_ylim(lims2)\n",
    "    ax.set_aspect((lims1[1]-lims1[0])/(lims2[1]-lims2[0]))\n",
    "    return m,cb"
   ]
  },
  {
   "cell_type": "code",
   "execution_count": 22,
   "metadata": {},
   "outputs": [
    {
     "data": {
      "text/plain": [
       "odict_keys(['z < 15 m', '15 m < z < 22 m', 'z >= 22 m', 'z > 50 m', 'all', 'z < 15 m, JFM', 'z < 15 m, Apr', 'z < 15 m, MJJA', 'z < 15 m, SOND', 'Main Basin', 'Hood Canal Basin', 'South Basin', 'Admiralty Inlet', 'Whidbey Basin', 'Strait of Georgia', 'Strait of Juan de Fuca'])"
      ]
     },
     "execution_count": 22,
     "metadata": {},
     "output_type": "execute_result"
    }
   ],
   "source": [
    "### These groupings will be used to calculate statistics. The keys are labels and\n",
    "### the values are corresponding dataframe views\n",
    "statsubs=OrderedDict({'z < 15 m':data.loc[data.Z<15],\n",
    "                      '15 m < z < 22 m':data.loc[(data.Z>=15)&(data.Z<22)],\n",
    "                      'z >= 22 m':data.loc[data.Z>=22],\n",
    "                      'z > 50 m':data.loc[data.Z>50],\n",
    "                      'all':data,\n",
    "                      'z < 15 m, JFM':JFM,\n",
    "                      'z < 15 m, Apr':Apr,\n",
    "                      'z < 15 m, MJJA':MJJA,\n",
    "                      'z < 15 m, SOND': SOND,})\n",
    "for iregion in data.Basin.unique():\n",
    "    statsubs[iregion]=datreg[iregion]\n",
    "statsubs.keys()"
   ]
  },
  {
   "cell_type": "markdown",
   "metadata": {},
   "source": [
    "# Absolute Salinity (g/kg)"
   ]
  },
  {
   "cell_type": "code",
   "execution_count": 23,
   "metadata": {},
   "outputs": [
    {
     "name": "stdout",
     "output_type": "stream",
     "text": [
      "z < 15 m\n",
      "15 m < z < 22 m\n",
      "z >= 22 m\n",
      "z > 50 m\n",
      "all\n",
      "z < 15 m, JFM\n",
      "z < 15 m, Apr\n",
      "z < 15 m, MJJA\n",
      "z < 15 m, SOND\n",
      "Main Basin\n",
      "Hood Canal Basin\n",
      "South Basin\n",
      "Admiralty Inlet\n",
      "Whidbey Basin\n",
      "Strait of Georgia\n",
      "Strait of Juan de Fuca\n"
     ]
    },
    {
     "data": {
      "text/html": [
       "<style  type=\"text/css\" >\n",
       "</style><table id=\"T_a5378_\" ><thead>    <tr>        <th class=\"blank\" ></th>        <th class=\"blank level0\" ></th>        <th class=\"col_heading level0 col0\" colspan=\"4\"></th>    </tr>    <tr>        <th class=\"blank\" ></th>        <th class=\"blank level1\" ></th>        <th class=\"col_heading level1 col0\" >Bias</th>        <th class=\"col_heading level1 col1\" >N</th>        <th class=\"col_heading level1 col2\" >RMSE</th>        <th class=\"col_heading level1 col3\" >WSS</th>    </tr>    <tr>        <th class=\"index_name level0\" ></th>        <th class=\"index_name level1\" >Subset</th>        <th class=\"blank\" ></th>        <th class=\"blank\" ></th>        <th class=\"blank\" ></th>        <th class=\"blank\" ></th>    </tr></thead><tbody>\n",
       "                <tr>\n",
       "                        <th id=\"T_a5378_level0_row0\" class=\"row_heading level0 row0\" >0</th>\n",
       "                        <th id=\"T_a5378_level1_row0\" class=\"row_heading level1 row0\" >z < 15 m</th>\n",
       "                        <td id=\"T_a5378_row0_col0\" class=\"data row0 col0\" >-0.517532</td>\n",
       "                        <td id=\"T_a5378_row0_col1\" class=\"data row0 col1\" >7521.000000</td>\n",
       "                        <td id=\"T_a5378_row0_col2\" class=\"data row0 col2\" >1.314116</td>\n",
       "                        <td id=\"T_a5378_row0_col3\" class=\"data row0 col3\" >0.886112</td>\n",
       "            </tr>\n",
       "            <tr>\n",
       "                        <th id=\"T_a5378_level0_row1\" class=\"row_heading level0 row1\" >1</th>\n",
       "                        <th id=\"T_a5378_level1_row1\" class=\"row_heading level1 row1\" >15 m < z < 22 m</th>\n",
       "                        <td id=\"T_a5378_row1_col0\" class=\"data row1 col0\" >-0.323539</td>\n",
       "                        <td id=\"T_a5378_row1_col1\" class=\"data row1 col1\" >3310.000000</td>\n",
       "                        <td id=\"T_a5378_row1_col2\" class=\"data row1 col2\" >0.570391</td>\n",
       "                        <td id=\"T_a5378_row1_col3\" class=\"data row1 col3\" >0.895162</td>\n",
       "            </tr>\n",
       "            <tr>\n",
       "                        <th id=\"T_a5378_level0_row2\" class=\"row_heading level0 row2\" >2</th>\n",
       "                        <th id=\"T_a5378_level1_row2\" class=\"row_heading level1 row2\" >z >= 22 m</th>\n",
       "                        <td id=\"T_a5378_row2_col0\" class=\"data row2 col0\" >-0.046226</td>\n",
       "                        <td id=\"T_a5378_row2_col1\" class=\"data row2 col1\" >36988.000000</td>\n",
       "                        <td id=\"T_a5378_row2_col2\" class=\"data row2 col2\" >0.558611</td>\n",
       "                        <td id=\"T_a5378_row2_col3\" class=\"data row2 col3\" >0.929680</td>\n",
       "            </tr>\n",
       "            <tr>\n",
       "                        <th id=\"T_a5378_level0_row3\" class=\"row_heading level0 row3\" >3</th>\n",
       "                        <th id=\"T_a5378_level1_row3\" class=\"row_heading level1 row3\" >z > 50 m</th>\n",
       "                        <td id=\"T_a5378_row3_col0\" class=\"data row3 col0\" >0.023852</td>\n",
       "                        <td id=\"T_a5378_row3_col1\" class=\"data row3 col1\" >25238.000000</td>\n",
       "                        <td id=\"T_a5378_row3_col2\" class=\"data row3 col2\" >0.614428</td>\n",
       "                        <td id=\"T_a5378_row3_col3\" class=\"data row3 col3\" >0.921299</td>\n",
       "            </tr>\n",
       "            <tr>\n",
       "                        <th id=\"T_a5378_level0_row4\" class=\"row_heading level0 row4\" >4</th>\n",
       "                        <th id=\"T_a5378_level1_row4\" class=\"row_heading level1 row4\" >all</th>\n",
       "                        <td id=\"T_a5378_row4_col0\" class=\"data row4 col0\" >-0.139548</td>\n",
       "                        <td id=\"T_a5378_row4_col1\" class=\"data row4 col1\" >47819.000000</td>\n",
       "                        <td id=\"T_a5378_row4_col2\" class=\"data row4 col2\" >0.731776</td>\n",
       "                        <td id=\"T_a5378_row4_col3\" class=\"data row4 col3\" >0.925733</td>\n",
       "            </tr>\n",
       "            <tr>\n",
       "                        <th id=\"T_a5378_level0_row5\" class=\"row_heading level0 row5\" >5</th>\n",
       "                        <th id=\"T_a5378_level1_row5\" class=\"row_heading level1 row5\" >z < 15 m, JFM</th>\n",
       "                        <td id=\"T_a5378_row5_col0\" class=\"data row5 col0\" >-0.412417</td>\n",
       "                        <td id=\"T_a5378_row5_col1\" class=\"data row5 col1\" >1914.000000</td>\n",
       "                        <td id=\"T_a5378_row5_col2\" class=\"data row5 col2\" >1.407758</td>\n",
       "                        <td id=\"T_a5378_row5_col3\" class=\"data row5 col3\" >0.890701</td>\n",
       "            </tr>\n",
       "            <tr>\n",
       "                        <th id=\"T_a5378_level0_row6\" class=\"row_heading level0 row6\" >6</th>\n",
       "                        <th id=\"T_a5378_level1_row6\" class=\"row_heading level1 row6\" >z < 15 m, Apr</th>\n",
       "                        <td id=\"T_a5378_row6_col0\" class=\"data row6 col0\" >-0.744317</td>\n",
       "                        <td id=\"T_a5378_row6_col1\" class=\"data row6 col1\" >705.000000</td>\n",
       "                        <td id=\"T_a5378_row6_col2\" class=\"data row6 col2\" >1.214579</td>\n",
       "                        <td id=\"T_a5378_row6_col3\" class=\"data row6 col3\" >0.839706</td>\n",
       "            </tr>\n",
       "            <tr>\n",
       "                        <th id=\"T_a5378_level0_row7\" class=\"row_heading level0 row7\" >7</th>\n",
       "                        <th id=\"T_a5378_level1_row7\" class=\"row_heading level1 row7\" >z < 15 m, MJJA</th>\n",
       "                        <td id=\"T_a5378_row7_col0\" class=\"data row7 col0\" >-0.678849</td>\n",
       "                        <td id=\"T_a5378_row7_col1\" class=\"data row7 col1\" >2528.000000</td>\n",
       "                        <td id=\"T_a5378_row7_col2\" class=\"data row7 col2\" >1.457054</td>\n",
       "                        <td id=\"T_a5378_row7_col3\" class=\"data row7 col3\" >0.873306</td>\n",
       "            </tr>\n",
       "            <tr>\n",
       "                        <th id=\"T_a5378_level0_row8\" class=\"row_heading level0 row8\" >8</th>\n",
       "                        <th id=\"T_a5378_level1_row8\" class=\"row_heading level1 row8\" >z < 15 m, SOND</th>\n",
       "                        <td id=\"T_a5378_row8_col0\" class=\"data row8 col0\" >-0.363150</td>\n",
       "                        <td id=\"T_a5378_row8_col1\" class=\"data row8 col1\" >2374.000000</td>\n",
       "                        <td id=\"T_a5378_row8_col2\" class=\"data row8 col2\" >1.083675</td>\n",
       "                        <td id=\"T_a5378_row8_col3\" class=\"data row8 col3\" >0.881554</td>\n",
       "            </tr>\n",
       "            <tr>\n",
       "                        <th id=\"T_a5378_level0_row9\" class=\"row_heading level0 row9\" >9</th>\n",
       "                        <th id=\"T_a5378_level1_row9\" class=\"row_heading level1 row9\" >Main Basin</th>\n",
       "                        <td id=\"T_a5378_row9_col0\" class=\"data row9 col0\" >-0.051193</td>\n",
       "                        <td id=\"T_a5378_row9_col1\" class=\"data row9 col1\" >11081.000000</td>\n",
       "                        <td id=\"T_a5378_row9_col2\" class=\"data row9 col2\" >0.583447</td>\n",
       "                        <td id=\"T_a5378_row9_col3\" class=\"data row9 col3\" >0.839376</td>\n",
       "            </tr>\n",
       "            <tr>\n",
       "                        <th id=\"T_a5378_level0_row10\" class=\"row_heading level0 row10\" >10</th>\n",
       "                        <th id=\"T_a5378_level1_row10\" class=\"row_heading level1 row10\" >Hood Canal Basin</th>\n",
       "                        <td id=\"T_a5378_row10_col0\" class=\"data row10 col0\" >-0.193592</td>\n",
       "                        <td id=\"T_a5378_row10_col1\" class=\"data row10 col1\" >2929.000000</td>\n",
       "                        <td id=\"T_a5378_row10_col2\" class=\"data row10 col2\" >0.843410</td>\n",
       "                        <td id=\"T_a5378_row10_col3\" class=\"data row10 col3\" >0.928556</td>\n",
       "            </tr>\n",
       "            <tr>\n",
       "                        <th id=\"T_a5378_level0_row11\" class=\"row_heading level0 row11\" >11</th>\n",
       "                        <th id=\"T_a5378_level1_row11\" class=\"row_heading level1 row11\" >South Basin</th>\n",
       "                        <td id=\"T_a5378_row11_col0\" class=\"data row11 col0\" >-0.663957</td>\n",
       "                        <td id=\"T_a5378_row11_col1\" class=\"data row11 col1\" >8826.000000</td>\n",
       "                        <td id=\"T_a5378_row11_col2\" class=\"data row11 col2\" >1.160087</td>\n",
       "                        <td id=\"T_a5378_row11_col3\" class=\"data row11 col3\" >0.467400</td>\n",
       "            </tr>\n",
       "            <tr>\n",
       "                        <th id=\"T_a5378_level0_row12\" class=\"row_heading level0 row12\" >12</th>\n",
       "                        <th id=\"T_a5378_level1_row12\" class=\"row_heading level1 row12\" >Admiralty Inlet</th>\n",
       "                        <td id=\"T_a5378_row12_col0\" class=\"data row12 col0\" >0.050495</td>\n",
       "                        <td id=\"T_a5378_row12_col1\" class=\"data row12 col1\" >8008.000000</td>\n",
       "                        <td id=\"T_a5378_row12_col2\" class=\"data row12 col2\" >0.358007</td>\n",
       "                        <td id=\"T_a5378_row12_col3\" class=\"data row12 col3\" >0.945518</td>\n",
       "            </tr>\n",
       "            <tr>\n",
       "                        <th id=\"T_a5378_level0_row13\" class=\"row_heading level0 row13\" >13</th>\n",
       "                        <th id=\"T_a5378_level1_row13\" class=\"row_heading level1 row13\" >Whidbey Basin</th>\n",
       "                        <td id=\"T_a5378_row13_col0\" class=\"data row13 col0\" >-0.014365</td>\n",
       "                        <td id=\"T_a5378_row13_col1\" class=\"data row13 col1\" >4886.000000</td>\n",
       "                        <td id=\"T_a5378_row13_col2\" class=\"data row13 col2\" >0.977866</td>\n",
       "                        <td id=\"T_a5378_row13_col3\" class=\"data row13 col3\" >0.930045</td>\n",
       "            </tr>\n",
       "            <tr>\n",
       "                        <th id=\"T_a5378_level0_row14\" class=\"row_heading level0 row14\" >14</th>\n",
       "                        <th id=\"T_a5378_level1_row14\" class=\"row_heading level1 row14\" >Strait of Georgia</th>\n",
       "                        <td id=\"T_a5378_row14_col0\" class=\"data row14 col0\" >0.013351</td>\n",
       "                        <td id=\"T_a5378_row14_col1\" class=\"data row14 col1\" >3264.000000</td>\n",
       "                        <td id=\"T_a5378_row14_col2\" class=\"data row14 col2\" >0.606138</td>\n",
       "                        <td id=\"T_a5378_row14_col3\" class=\"data row14 col3\" >0.906268</td>\n",
       "            </tr>\n",
       "            <tr>\n",
       "                        <th id=\"T_a5378_level0_row15\" class=\"row_heading level0 row15\" >15</th>\n",
       "                        <th id=\"T_a5378_level1_row15\" class=\"row_heading level1 row15\" >Strait of Juan de Fuca</th>\n",
       "                        <td id=\"T_a5378_row15_col0\" class=\"data row15 col0\" >-0.006395</td>\n",
       "                        <td id=\"T_a5378_row15_col1\" class=\"data row15 col1\" >8825.000000</td>\n",
       "                        <td id=\"T_a5378_row15_col2\" class=\"data row15 col2\" >0.332482</td>\n",
       "                        <td id=\"T_a5378_row15_col3\" class=\"data row15 col3\" >0.954166</td>\n",
       "            </tr>\n",
       "    </tbody></table>"
      ],
      "text/plain": [
       "<pandas.io.formats.style.Styler at 0x7fdd99db9f70>"
      ]
     },
     "execution_count": 23,
     "metadata": {},
     "output_type": "execute_result"
    }
   ],
   "source": [
    "obsvar='SA'\n",
    "modvar='mod_vosaline'\n",
    "statsDict={year:dict()}\n",
    "statsDict[year]['SA']=OrderedDict()\n",
    "for isub in statsubs:\n",
    "    print(isub)\n",
    "    statsDict[year]['SA'][isub]=dict()\n",
    "    var=statsDict[year]['SA'][isub]\n",
    "    var['N'],mmean,omean,var['Bias'],var['RMSE'],var['WSS']=et.stats(statsubs[isub].loc[:,[obsvar]],\n",
    "                                                                     statsubs[isub].loc[:,[modvar]])\n",
    "tbl,tdf=et.displayStats(statsDict[year]['SA'],level='Subset',suborder=list(statsubs.keys()))\n",
    "tbl"
   ]
  },
  {
   "cell_type": "code",
   "execution_count": 24,
   "metadata": {},
   "outputs": [
    {
     "data": {
      "image/png": "[encoded data removed]",
      "text/plain": [
       "<Figure size 1152x504 with 2 Axes>"
      ]
     },
     "metadata": {
      "needs_background": "light"
     },
     "output_type": "display_data"
    }
   ],
   "source": [
    "fig, ax = plt.subplots(1,2,figsize = (16,7))\n",
    "ps,l=byDepth(ax[0],obsvar,modvar,(0,40))\n",
    "ax[0].set_title('S$_A$ (g kg$^{-1}$) By Depth')\n",
    "\n",
    "ps,l=byRegion(ax[1],obsvar,modvar,(0,40))\n",
    "ax[1].set_title('S$_A$ (g kg$^{-1}$) By Region');"
   ]
  },
  {
   "cell_type": "code",
   "execution_count": 25,
   "metadata": {},
   "outputs": [
    {
     "data": {
      "image/png": "[encoded data removed]",
      "text/plain": [
       "<Figure size 1152x237.6 with 4 Axes>"
      ]
     },
     "metadata": {
      "needs_background": "light"
     },
     "output_type": "display_data"
    },
    {
     "data": {
      "image/png": "[encoded data removed]",
      "text/plain": [
       "<Figure size 1440x21.6 with 1 Axes>"
      ]
     },
     "metadata": {
      "needs_background": "light"
     },
     "output_type": "display_data"
    }
   ],
   "source": [
    "fig, ax = plt.subplots(1,4,figsize = (16,3.3))\n",
    "bySeason(ax,obsvar,modvar,(0,30))\n",
    "fig,ax=plt.subplots(1,1,figsize=(20,.3))\n",
    "ax.plot(data.dtUTC,np.ones(np.shape(data.dtUTC)),'k.')\n",
    "ax.set_xlim((dt.datetime(year,1,1),dt.datetime(year,12,31)))\n",
    "ax.set_title('Data Timing')\n",
    "ax.yaxis.set_visible(False)"
   ]
  },
  {
   "cell_type": "markdown",
   "metadata": {},
   "source": [
    "# Conservative Temperature"
   ]
  },
  {
   "cell_type": "code",
   "execution_count": null,
   "metadata": {},
   "outputs": [],
   "source": [
    "obsvar='CT'\n",
    "modvar='mod_votemper'\n",
    "statsDict[year]['CT']=OrderedDict()\n",
    "for isub in statsubs:\n",
    "    statsDict[year]['CT'][isub]=dict()\n",
    "    var=statsDict[year]['CT'][isub]\n",
    "    var['N'],mmean,omean,var['Bias'],var['RMSE'],var['WSS']=et.stats(statsubs[isub].loc[:,[obsvar]],\n",
    "                                                                     statsubs[isub].loc[:,[modvar]])\n",
    "tbl,tdf=et.displayStats(statsDict[year]['CT'],level='Subset',suborder=list(statsubs.keys()))\n",
    "tbl"
   ]
  },
  {
   "cell_type": "code",
   "execution_count": null,
   "metadata": {},
   "outputs": [],
   "source": [
    "mv=(0,80)\n",
    "fig, ax = plt.subplots(1,2,figsize = (16,7))\n",
    "ps,l=byDepth(ax[0],obsvar,modvar,mv)\n",
    "ax[0].set_title('$\\Theta$ ($^{\\circ}$C) By Depth')\n",
    "\n",
    "ps,l=byRegion(ax[1],obsvar,modvar,mv)\n",
    "ax[1].set_title('$\\Theta$ ($^{\\circ}$C) By Region');"
   ]
  },
  {
   "cell_type": "code",
   "execution_count": null,
   "metadata": {},
   "outputs": [],
   "source": [
    "fig, ax = plt.subplots(1,4,figsize = (16,3.3))\n",
    "bySeason(ax,obsvar,modvar,mv)\n",
    "fig,ax=plt.subplots(1,1,figsize=(20,.3))\n",
    "ax.plot(data.dtUTC,np.ones(np.shape(data.dtUTC)),'k.')\n",
    "ax.set_xlim((dt.datetime(year,1,1),dt.datetime(year,12,31)))\n",
    "ax.set_title('Data Timing')\n",
    "ax.yaxis.set_visible(False)"
   ]
  },
  {
   "cell_type": "code",
   "execution_count": null,
   "metadata": {},
   "outputs": [],
   "source": [
    "### Temperature-Salinity by Region"
   ]
  },
  {
   "cell_type": "code",
   "execution_count": null,
   "metadata": {},
   "outputs": [],
   "source": [
    "def tsplot(ax,svar,tvar):\n",
    "    limsS=(0,36)\n",
    "    limsT=(5,20)\n",
    "    ss,tt=np.meshgrid(np.linspace(limsS[0],limsS[1],20),np.linspace(limsT[0],limsT[1],20))\n",
    "    rho=gsw.rho(ss,tt,np.zeros(np.shape(ss)))\n",
    "    r=ax.contour(ss,tt,rho,colors='k')\n",
    "    ps=list()\n",
    "    for ind, iregion in enumerate(data.Basin.unique()):\n",
    "        p=ax.plot(datreg[iregion][svar], datreg[iregion][tvar],'.',\n",
    "                color = colors[ind], label=iregion)\n",
    "        ps.append(p[0])\n",
    "    l=ax.legend(handles=ps,bbox_to_anchor=(1.01,1))\n",
    "    ax.set_ylim(limsT)\n",
    "    ax.set_xlim(limsS)\n",
    "    ax.set_ylabel('$\\Theta$ ($^{\\circ}$C)')\n",
    "    ax.set_xlabel('S$_A$ (g kg$^{-1}$)')\n",
    "    ax.set_aspect((limsS[1]-limsS[0])/(limsT[1]-limsT[0]))\n",
    "    return"
   ]
  },
  {
   "cell_type": "code",
   "execution_count": null,
   "metadata": {},
   "outputs": [],
   "source": [
    "fig,ax=plt.subplots(1,2,figsize=(16,3.5))\n",
    "tsplot(ax[0],'SA','CT')\n",
    "ax[0].set_title('Observed')\n",
    "tsplot(ax[1],'mod_vosaline','mod_votemper')\n",
    "ax[1].set_title('Modelled')"
   ]
  },
  {
   "cell_type": "code",
   "execution_count": null,
   "metadata": {},
   "outputs": [],
   "source": [
    "tbl,tdf=et.displayStats(statsDict[year],level='Variable',suborder=list(statsubs.keys()))\n",
    "tbl"
   ]
  },
  {
   "cell_type": "code",
   "execution_count": null,
   "metadata": {},
   "outputs": [],
   "source": []
  }
 ],
 "metadata": {
  "anaconda-cloud": {},
  "kernelspec": {
   "display_name": "Python (py39)",
   "language": "python",
   "name": "py39"
  },
  "language_info": {
   "codemirror_mode": {
    "name": "ipython",
    "version": 3
   },
   "file_extension": ".py",
   "mimetype": "text/x-python",
   "name": "python",
   "nbconvert_exporter": "python",
   "pygments_lexer": "ipython3",
   "version": "3.9.1"
  }
 },
 "nbformat": 4,
 "nbformat_minor": 4
}
