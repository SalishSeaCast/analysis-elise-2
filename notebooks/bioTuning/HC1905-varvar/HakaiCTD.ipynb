{
 "cells": [
  {
   "cell_type": "markdown",
   "metadata": {},
   "source": [
    "Compare all Hakai CTD stations, regardless of whether there is matched nutrient data"
   ]
  },
  {
   "cell_type": "code",
   "execution_count": 1,
   "metadata": {},
   "outputs": [],
   "source": [
    "import numpy as np\n",
    "import matplotlib.pyplot as plt\n",
    "import os\n",
    "import pandas as pd\n",
    "import netCDF4 as nc\n",
    "import datetime as dt\n",
    "from salishsea_tools import evaltools as et, viz_tools\n",
    "import gsw\n",
    "import matplotlib.gridspec as gridspec\n",
    "import matplotlib as mpl\n",
    "import matplotlib.dates as mdates\n",
    "import cmocean as cmo\n",
    "import scipy.interpolate as sinterp\n",
    "import pytz\n",
    "import warnings\n",
    "\n",
    "mpl.rc('xtick', labelsize=10)\n",
    "mpl.rc('ytick', labelsize=10)\n",
    "mpl.rc('legend', fontsize=10)\n",
    "mpl.rc('axes', titlesize=10)\n",
    "mpl.rc('axes', labelsize=10)\n",
    "mpl.rc('figure', titlesize=10)\n",
    "mpl.rc('font', size=10)\n",
    "%matplotlib inline"
   ]
  },
  {
   "cell_type": "code",
   "execution_count": 2,
   "metadata": {},
   "outputs": [],
   "source": [
    "PATH= '/results2/SalishSea/hindcast.201905/'\n",
    "#PATH= '/results2/SalishSea/hindcast/'\n",
    "start_date = dt.datetime(2015,1,1)\n",
    "end_date = dt.datetime(2018,12,31)\n",
    "flen=1\n",
    "namfmt='nowcast'\n",
    "filemapP={'vosaline':'grid_T','votemper':'grid_T'}\n",
    "fdict={'ptrc_T':1,'grid_T':1}"
   ]
  },
  {
   "cell_type": "code",
   "execution_count": 3,
   "metadata": {},
   "outputs": [
    {
     "name": "stdout",
     "output_type": "stream",
     "text": [
      "Note: CTD depths (pZ) may vary from bottle depths (Z) by up to  1.5  m.\n"
     ]
    },
    {
     "data": {
      "text/html": [
       "<div>\n",
       "<style scoped>\n",
       "    .dataframe tbody tr th:only-of-type {\n",
       "        vertical-align: middle;\n",
       "    }\n",
       "\n",
       "    .dataframe tbody tr th {\n",
       "        vertical-align: top;\n",
       "    }\n",
       "\n",
       "    .dataframe thead th {\n",
       "        text-align: right;\n",
       "    }\n",
       "</style>\n",
       "<table border=\"1\" class=\"dataframe\">\n",
       "  <thead>\n",
       "    <tr style=\"text-align: right;\">\n",
       "      <th></th>\n",
       "      <th>NO2+NO3 (uM)</th>\n",
       "      <th>PO4</th>\n",
       "      <th>SiO2</th>\n",
       "      <th>dtUTC</th>\n",
       "      <th>Station</th>\n",
       "      <th>Lat</th>\n",
       "      <th>Lon</th>\n",
       "      <th>Z</th>\n",
       "      <th>SA</th>\n",
       "      <th>CT</th>\n",
       "      <th>pZ</th>\n",
       "    </tr>\n",
       "  </thead>\n",
       "  <tbody>\n",
       "    <tr>\n",
       "      <th>0</th>\n",
       "      <td>24.450401</td>\n",
       "      <td>1.916946</td>\n",
       "      <td>50.259353</td>\n",
       "      <td>2015-01-06 19:30:33</td>\n",
       "      <td>QU5</td>\n",
       "      <td>50.1183</td>\n",
       "      <td>-125.2122</td>\n",
       "      <td>0.0</td>\n",
       "      <td>25.166453</td>\n",
       "      <td>5.993519</td>\n",
       "      <td>0.930</td>\n",
       "    </tr>\n",
       "    <tr>\n",
       "      <th>1</th>\n",
       "      <td>25.847171</td>\n",
       "      <td>2.108350</td>\n",
       "      <td>48.122704</td>\n",
       "      <td>2015-01-06 18:30:38</td>\n",
       "      <td>QU17</td>\n",
       "      <td>50.1200</td>\n",
       "      <td>-125.1300</td>\n",
       "      <td>0.0</td>\n",
       "      <td>26.658786</td>\n",
       "      <td>6.813031</td>\n",
       "      <td>0.907</td>\n",
       "    </tr>\n",
       "    <tr>\n",
       "      <th>2</th>\n",
       "      <td>25.987195</td>\n",
       "      <td>2.089213</td>\n",
       "      <td>46.502461</td>\n",
       "      <td>2015-01-06 17:07:02</td>\n",
       "      <td>QU24</td>\n",
       "      <td>50.0300</td>\n",
       "      <td>-125.0800</td>\n",
       "      <td>0.0</td>\n",
       "      <td>26.583468</td>\n",
       "      <td>7.130782</td>\n",
       "      <td>0.969</td>\n",
       "    </tr>\n",
       "    <tr>\n",
       "      <th>3</th>\n",
       "      <td>25.611823</td>\n",
       "      <td>2.116700</td>\n",
       "      <td>48.574835</td>\n",
       "      <td>2015-01-06 19:30:33</td>\n",
       "      <td>QU5</td>\n",
       "      <td>50.1183</td>\n",
       "      <td>-125.2122</td>\n",
       "      <td>5.0</td>\n",
       "      <td>26.779254</td>\n",
       "      <td>6.880561</td>\n",
       "      <td>4.921</td>\n",
       "    </tr>\n",
       "    <tr>\n",
       "      <th>4</th>\n",
       "      <td>26.617488</td>\n",
       "      <td>2.136624</td>\n",
       "      <td>48.435951</td>\n",
       "      <td>2015-01-06 18:30:38</td>\n",
       "      <td>QU17</td>\n",
       "      <td>50.1200</td>\n",
       "      <td>-125.1300</td>\n",
       "      <td>5.0</td>\n",
       "      <td>26.847521</td>\n",
       "      <td>6.944894</td>\n",
       "      <td>5.014</td>\n",
       "    </tr>\n",
       "  </tbody>\n",
       "</table>\n",
       "</div>"
      ],
      "text/plain": [
       "   NO2+NO3 (uM)       PO4       SiO2               dtUTC Station      Lat  \\\n",
       "0     24.450401  1.916946  50.259353 2015-01-06 19:30:33     QU5  50.1183   \n",
       "1     25.847171  2.108350  48.122704 2015-01-06 18:30:38    QU17  50.1200   \n",
       "2     25.987195  2.089213  46.502461 2015-01-06 17:07:02    QU24  50.0300   \n",
       "3     25.611823  2.116700  48.574835 2015-01-06 19:30:33     QU5  50.1183   \n",
       "4     26.617488  2.136624  48.435951 2015-01-06 18:30:38    QU17  50.1200   \n",
       "\n",
       "        Lon    Z         SA        CT     pZ  \n",
       "0 -125.2122  0.0  25.166453  5.993519  0.930  \n",
       "1 -125.1300  0.0  26.658786  6.813031  0.907  \n",
       "2 -125.0800  0.0  26.583468  7.130782  0.969  \n",
       "3 -125.2122  5.0  26.779254  6.880561  4.921  \n",
       "4 -125.1300  5.0  26.847521  6.944894  5.014  "
      ]
     },
     "execution_count": 3,
     "metadata": {},
     "output_type": "execute_result"
    }
   ],
   "source": [
    "datelims=(dt.datetime(2015,1,1),dt.datetime(2018,12,31))\n",
    "fdata=et.loadHakai(datelims,loadCTD=True)\n",
    "fdata.head()"
   ]
  },
  {
   "cell_type": "raw",
   "metadata": {},
   "source": [
    "fdata['AbsSal']=fdata['SA']\n",
    "fdata['ConsT']=fdata['CT']"
   ]
  },
  {
   "cell_type": "code",
   "execution_count": 4,
   "metadata": {},
   "outputs": [
    {
     "data": {
      "text/plain": [
       "Index(['NO2+NO3 (uM)', 'PO4', 'SiO2', 'dtUTC', 'Station', 'Lat', 'Lon', 'Z',\n",
       "       'SA', 'CT', 'pZ'],\n",
       "      dtype='object')"
      ]
     },
     "execution_count": 4,
     "metadata": {},
     "output_type": "execute_result"
    }
   ],
   "source": [
    "fdata.keys()"
   ]
  },
  {
   "cell_type": "code",
   "execution_count": 5,
   "metadata": {},
   "outputs": [
    {
     "data": {
      "text/plain": [
       "0         0.930\n",
       "1         0.907\n",
       "2         0.969\n",
       "3         4.921\n",
       "4         5.014\n",
       "         ...   \n",
       "3795    148.660\n",
       "3796    197.199\n",
       "3797        NaN\n",
       "3798      0.913\n",
       "3799      3.828\n",
       "Name: pZ, Length: 3800, dtype: float64"
      ]
     },
     "execution_count": 5,
     "metadata": {},
     "output_type": "execute_result"
    }
   ],
   "source": [
    "fdata['pZ']"
   ]
  },
  {
   "cell_type": "code",
   "execution_count": 7,
   "metadata": {},
   "outputs": [
    {
     "data": {
      "text/plain": [
       "3386"
      ]
     },
     "execution_count": 7,
     "metadata": {},
     "output_type": "execute_result"
    }
   ],
   "source": [
    "len(fdata.loc[(fdata['pZ']>0)&(fdata['SA']>0)])"
   ]
  },
  {
   "cell_type": "code",
   "execution_count": 8,
   "metadata": {},
   "outputs": [
    {
     "data": {
      "text/plain": [
       "3386"
      ]
     },
     "execution_count": 8,
     "metadata": {},
     "output_type": "execute_result"
    }
   ],
   "source": [
    "len(fdata.loc[(fdata['pZ']>0)|(fdata['SA']>0)])"
   ]
  },
  {
   "cell_type": "code",
   "execution_count": 9,
   "metadata": {},
   "outputs": [],
   "source": [
    "fdata['Z']=fdata['pZ']"
   ]
  },
  {
   "cell_type": "code",
   "execution_count": 11,
   "metadata": {},
   "outputs": [],
   "source": [
    "dataHakaiPhys=et.matchData(fdata,filemapP, fdict, start_date, end_date, namfmt, PATH, flen)"
   ]
  },
  {
   "cell_type": "code",
   "execution_count": 13,
   "metadata": {},
   "outputs": [],
   "source": [
    "data=dataHakaiPhys"
   ]
  },
  {
   "cell_type": "code",
   "execution_count": 15,
   "metadata": {},
   "outputs": [
    {
     "data": {
      "text/plain": [
       "Index(['NO2+NO3 (uM)', 'PO4', 'SiO2', 'dtUTC', 'Station', 'Lat', 'Lon', 'Z',\n",
       "       'SA', 'CT', 'pZ', 'j', 'i', 'mod_vosaline', 'mod_votemper', 'k'],\n",
       "      dtype='object')"
      ]
     },
     "execution_count": 15,
     "metadata": {},
     "output_type": "execute_result"
    }
   ],
   "source": [
    "data.keys()"
   ]
  },
  {
   "cell_type": "code",
   "execution_count": 41,
   "metadata": {},
   "outputs": [
    {
     "name": "stderr",
     "output_type": "stream",
     "text": [
      "/data/eolson/results/MEOPAR/tools/SalishSeaTools/salishsea_tools/viz_tools.py:123: UserWarning: No contour levels were found within the data range.\n",
      "  contour_lines = axes.contour(\n"
     ]
    },
    {
     "data": {
      "image/png": "[encoded data removed]",
      "text/plain": [
       "<Figure size 864x288 with 3 Axes>"
      ]
     },
     "metadata": {
      "needs_background": "light"
     },
     "output_type": "display_data"
    }
   ],
   "source": [
    "fig,ax=plt.subplots(1,3,figsize=(12,4))\n",
    "ax[0].plot(data['SA'],data['mod_vosaline'],'k.',ms=1)\n",
    "ax[0].plot((8,37),(8,37),'r-',alpha=.5)\n",
    "ax[0].set_xlim(8,37)\n",
    "ax[0].set_ylim(8,37)\n",
    "ax[0].set_title('S$_A$ (g/kg)')\n",
    "ax[0].set_xlabel('observed')\n",
    "ax[0].set_ylabel('modelled')\n",
    "ax[0].set_aspect(1)\n",
    "\n",
    "ax[1].plot(data['CT'],data['mod_votemper'],'k.',ms=1)\n",
    "ax[1].plot((0,25),(0,25),'r-',alpha=.5)\n",
    "ax[1].set_xlim(0,25)\n",
    "ax[1].set_ylim(0,25)\n",
    "ax[1].set_title('CT (deg C)')\n",
    "ax[1].set_xlabel('observed')\n",
    "ax[1].set_ylabel('modelled')\n",
    "ax[1].set_aspect(1)\n",
    "\n",
    "ax[2].plot(data['Lon'],data['Lat'],'r.')\n",
    "viz_tools.plot_coastline(ax[2],\n",
    "            bathymetry='/data/eolson/results/MEOPAR/NEMO-forcing-new/grid/bathymetry_201702.nc',\n",
    "            coords='map')\n",
    "ax[2].set_xlim(-125.4,-124.7)\n",
    "ax[2].set_ylim(49.9,50.5)\n",
    "viz_tools.set_aspect(ax[2],coords='map')\n",
    "ax[2].set_title('Observation Locations\\n Hakai 2015-2018')\n",
    "fig.savefig('/data/eolson/results/MEOPAR/HakaiTSEval.png',dpi=100)"
   ]
  },
  {
   "cell_type": "code",
   "execution_count": null,
   "metadata": {},
   "outputs": [],
   "source": []
  }
 ],
 "metadata": {
  "kernelspec": {
   "display_name": "Python (py38_ct)",
   "language": "python",
   "name": "py38_ct"
  },
  "language_info": {
   "codemirror_mode": {
    "name": "ipython",
    "version": 3
   },
   "file_extension": ".py",
   "mimetype": "text/x-python",
   "name": "python",
   "nbconvert_exporter": "python",
   "pygments_lexer": "ipython3",
   "version": "3.8.2"
  }
 },
 "nbformat": 4,
 "nbformat_minor": 2
}
