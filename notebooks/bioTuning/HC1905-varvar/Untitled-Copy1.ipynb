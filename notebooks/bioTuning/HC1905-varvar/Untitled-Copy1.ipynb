{
 "cells": [
  {
   "cell_type": "code",
   "execution_count": 1,
   "metadata": {},
   "outputs": [],
   "source": [
    "\n",
    "import glob"
   ]
  },
  {
   "cell_type": "code",
   "execution_count": 12,
   "metadata": {},
   "outputs": [],
   "source": [
    "l=list(glob.glob('/data/eolson/results/MEOPAR/analysis-elise-2/notebooks/bioTuning/*.ipynb'))"
   ]
  },
  {
   "cell_type": "code",
   "execution_count": 13,
   "metadata": {},
   "outputs": [],
   "source": [
    "l.sort()"
   ]
  },
  {
   "cell_type": "code",
   "execution_count": 5,
   "metadata": {},
   "outputs": [],
   "source": [
    "l=l.sort()"
   ]
  },
  {
   "cell_type": "code",
   "execution_count": 14,
   "metadata": {},
   "outputs": [
    {
     "data": {
      "text/plain": [
       "['/data/eolson/results/MEOPAR/analysis-elise-2/notebooks/bioTuning/CSNuts-10dayFiles-spring2015_LR-Long.ipynb',\n",
       " '/data/eolson/results/MEOPAR/analysis-elise-2/notebooks/bioTuning/DFO-10dayFiles-spring2015_AugBase-Long-exploreDeepNuts.ipynb',\n",
       " '/data/eolson/results/MEOPAR/analysis-elise-2/notebooks/bioTuning/DFO-10dayFiles-spring2015_LR-Long.ipynb',\n",
       " '/data/eolson/results/MEOPAR/analysis-elise-2/notebooks/bioTuning/DFO-10dayFiles-spring2015_M5-Long-seasons.ipynb',\n",
       " '/data/eolson/results/MEOPAR/analysis-elise-2/notebooks/bioTuning/DFO-10dayFiles-spring2015_M5-Long-test.ipynb',\n",
       " '/data/eolson/results/MEOPAR/analysis-elise-2/notebooks/bioTuning/DFO-10dayFiles-spring2015_SMELTB0-short.ipynb',\n",
       " '/data/eolson/results/MEOPAR/analysis-elise-2/notebooks/bioTuning/DFO-10dayFiles-spring2015_T6-Long-seasons.ipynb',\n",
       " '/data/eolson/results/MEOPAR/analysis-elise-2/notebooks/bioTuning/DFO-hindcast-Sept.ipynb',\n",
       " '/data/eolson/results/MEOPAR/analysis-elise-2/notebooks/bioTuning/DFO-hindcast-long.ipynb',\n",
       " '/data/eolson/results/MEOPAR/analysis-elise-2/notebooks/bioTuning/DFO-nowcast-Long.ipynb',\n",
       " '/data/eolson/results/MEOPAR/analysis-elise-2/notebooks/bioTuning/DFO-nowcast-exploreDeepNuts.ipynb',\n",
       " '/data/eolson/results/MEOPAR/analysis-elise-2/notebooks/bioTuning/DFO-vET-2015-2017_newhindcast.ipynb',\n",
       " '/data/eolson/results/MEOPAR/analysis-elise-2/notebooks/bioTuning/DFO-vET-2015_HC201812.ipynb',\n",
       " '/data/eolson/results/MEOPAR/analysis-elise-2/notebooks/bioTuning/DFO-vET-2015_ISink-0530-ExcludeSaanich.ipynb',\n",
       " '/data/eolson/results/MEOPAR/analysis-elise-2/notebooks/bioTuning/DFO-vET-2015_LinbfSiDiatRefl0_2-0530-ExcludeSaanich.ipynb',\n",
       " '/data/eolson/results/MEOPAR/analysis-elise-2/notebooks/bioTuning/DFO-vET-2015_t15r15DiatAlpha0-0520-ExcludeSaanich.ipynb',\n",
       " '/data/eolson/results/MEOPAR/analysis-elise-2/notebooks/bioTuning/DFO-vET-2015_t15r15LinbfSi-0530-ExcludeSaanich.ipynb',\n",
       " '/data/eolson/results/MEOPAR/analysis-elise-2/notebooks/bioTuning/DFO-vET-2015_testT.ipynb',\n",
       " '/data/eolson/results/MEOPAR/analysis-elise-2/notebooks/bioTuning/DFO-vET-2016_HC201812.ipynb',\n",
       " '/data/eolson/results/MEOPAR/analysis-elise-2/notebooks/bioTuning/DFO-vET-2017_CentralSOG_NewLOGnSiT-Copy1.ipynb',\n",
       " '/data/eolson/results/MEOPAR/analysis-elise-2/notebooks/bioTuning/DFO-vET-2017_CentralSOG_NewLONoSiT.ipynb',\n",
       " '/data/eolson/results/MEOPAR/analysis-elise-2/notebooks/bioTuning/DFO-vET-2017_CentralSOG_NewLOSOGT.ipynb',\n",
       " '/data/eolson/results/MEOPAR/analysis-elise-2/notebooks/bioTuning/DFO-vET-2017_CentralSOG_NewLOSOGTbfSi.ipynb',\n",
       " '/data/eolson/results/MEOPAR/analysis-elise-2/notebooks/bioTuning/DFO-vET-2017_CentralSOG_hindcast.ipynb',\n",
       " '/data/eolson/results/MEOPAR/analysis-elise-2/notebooks/bioTuning/DFO-vET-2017_HC201812-719.ipynb',\n",
       " '/data/eolson/results/MEOPAR/analysis-elise-2/notebooks/bioTuning/DFO-vET-2017_HC201812-compPAR-JanJun.ipynb',\n",
       " '/data/eolson/results/MEOPAR/analysis-elise-2/notebooks/bioTuning/DFO-vET-2017_HC201812-compPAR.ipynb',\n",
       " '/data/eolson/results/MEOPAR/analysis-elise-2/notebooks/bioTuning/DFO-vET-2017_HC201812-compPAR_CentralSOG.ipynb',\n",
       " '/data/eolson/results/MEOPAR/analysis-elise-2/notebooks/bioTuning/DFO-vET-2017_HC201812.ipynb',\n",
       " '/data/eolson/results/MEOPAR/analysis-elise-2/notebooks/bioTuning/DFO-vET-2017_NewLOSOGT-1027-ExcludeSaanich.ipynb',\n",
       " '/data/eolson/results/MEOPAR/analysis-elise-2/notebooks/bioTuning/DFO-vET-2017_NewLOSOGT2Si-1027-ExcludeSaanich.ipynb',\n",
       " '/data/eolson/results/MEOPAR/analysis-elise-2/notebooks/bioTuning/DFO-vET-2017_NewLOSOGTRSi-1027-ExcludeSaanich.ipynb',\n",
       " '/data/eolson/results/MEOPAR/analysis-elise-2/notebooks/bioTuning/DFO-vET-2017_NewLOSOGTbfSi-1027-ExcludeSaanich.ipynb',\n",
       " '/data/eolson/results/MEOPAR/analysis-elise-2/notebooks/bioTuning/DFO-vET-2017_spring_NewLOGnSiT-1027.ipynb',\n",
       " '/data/eolson/results/MEOPAR/analysis-elise-2/notebooks/bioTuning/DFO-vET-2017_spring_NewLOGnSiT-719.ipynb',\n",
       " '/data/eolson/results/MEOPAR/analysis-elise-2/notebooks/bioTuning/DFO-vET-2017_spring_NewLOGnSiTB-1027-EstBottomFluxSi.ipynb',\n",
       " '/data/eolson/results/MEOPAR/analysis-elise-2/notebooks/bioTuning/DFO-vET-2017_spring_NewLOGnSiTB-1027.ipynb',\n",
       " '/data/eolson/results/MEOPAR/analysis-elise-2/notebooks/bioTuning/DFO-vET-2017_spring_NewLONoSiT-1027.ipynb',\n",
       " '/data/eolson/results/MEOPAR/analysis-elise-2/notebooks/bioTuning/DFO-vET-2017_spring_NewLONoSiT-719.ipynb',\n",
       " '/data/eolson/results/MEOPAR/analysis-elise-2/notebooks/bioTuning/DFO-vET-2017_spring_NewLOSOGT.ipynb',\n",
       " '/data/eolson/results/MEOPAR/analysis-elise-2/notebooks/bioTuning/DFO-vET-2017_spring_NewLOSOGTbfSi.ipynb',\n",
       " '/data/eolson/results/MEOPAR/analysis-elise-2/notebooks/bioTuning/DFO-vET-2017_spring_PAR_13bfastSi-719.ipynb',\n",
       " '/data/eolson/results/MEOPAR/analysis-elise-2/notebooks/bioTuning/DFO-vET-2017_spring_PAR_13bfastSiHR-719.ipynb',\n",
       " '/data/eolson/results/MEOPAR/analysis-elise-2/notebooks/bioTuning/DFO-vET-2017_spring_PAR_13bfastSiLR-719.ipynb',\n",
       " '/data/eolson/results/MEOPAR/analysis-elise-2/notebooks/bioTuning/DFO-vET-2017_spring_PAR_13bslowSi-719.ipynb',\n",
       " '/data/eolson/results/MEOPAR/analysis-elise-2/notebooks/bioTuning/DFO-vET-2017_spring_PAR_1_3-719.ipynb',\n",
       " '/data/eolson/results/MEOPAR/analysis-elise-2/notebooks/bioTuning/DFO-vET-2017_spring_PAR_1_3.ipynb',\n",
       " '/data/eolson/results/MEOPAR/analysis-elise-2/notebooks/bioTuning/DFO-vET-2017_spring_PAR_1_3_CentralSOG.ipynb',\n",
       " '/data/eolson/results/MEOPAR/analysis-elise-2/notebooks/bioTuning/DFO-vET-2017_spring_PAR_1_3_JanJul.ipynb',\n",
       " '/data/eolson/results/MEOPAR/analysis-elise-2/notebooks/bioTuning/DFO-vET-2017_spring_PAR_1_3_JanJun.ipynb',\n",
       " '/data/eolson/results/MEOPAR/analysis-elise-2/notebooks/bioTuning/DFO-vET-2017_spring_PAR_1_3_b-719.ipynb',\n",
       " '/data/eolson/results/MEOPAR/analysis-elise-2/notebooks/bioTuning/DFO-vET-2017_spring_PAR_BSIdepfastSiLR-719.ipynb',\n",
       " '/data/eolson/results/MEOPAR/analysis-elise-2/notebooks/bioTuning/DFO-vET-HC201812.ipynb',\n",
       " '/data/eolson/results/MEOPAR/analysis-elise-2/notebooks/bioTuning/DFO-vET-HC201812_2015.ipynb',\n",
       " '/data/eolson/results/MEOPAR/analysis-elise-2/notebooks/bioTuning/DFO-vET-HC201812_2017.ipynb',\n",
       " '/data/eolson/results/MEOPAR/analysis-elise-2/notebooks/bioTuning/DFO-vET-Si.ipynb',\n",
       " '/data/eolson/results/MEOPAR/analysis-elise-2/notebooks/bioTuning/DFO-vET-newhindcast-2015.ipynb',\n",
       " '/data/eolson/results/MEOPAR/analysis-elise-2/notebooks/bioTuning/DFO-vET-newhindcast-2017.ipynb',\n",
       " '/data/eolson/results/MEOPAR/analysis-elise-2/notebooks/bioTuning/DFO-vET-spring15spunB05spring.ipynb',\n",
       " '/data/eolson/results/MEOPAR/analysis-elise-2/notebooks/bioTuning/DFO-vET-spring16spunZ6.ipynb',\n",
       " '/data/eolson/results/MEOPAR/analysis-elise-2/notebooks/bioTuning/DFO-vET-spring2015_NoMZME.ipynb',\n",
       " '/data/eolson/results/MEOPAR/analysis-elise-2/notebooks/bioTuning/DFO-vET-spring2015_T3-seasons.ipynb',\n",
       " '/data/eolson/results/MEOPAR/analysis-elise-2/notebooks/bioTuning/DFO-vET-spring2015_V1.ipynb',\n",
       " '/data/eolson/results/MEOPAR/analysis-elise-2/notebooks/bioTuning/DFO-vET-spring2015_Z3-partial.ipynb',\n",
       " '/data/eolson/results/MEOPAR/analysis-elise-2/notebooks/bioTuning/DFO-vET-spring2015_Z3.ipynb',\n",
       " '/data/eolson/results/MEOPAR/analysis-elise-2/notebooks/bioTuning/DFO-vET-spring2015_newhindcast-longer.ipynb',\n",
       " '/data/eolson/results/MEOPAR/analysis-elise-2/notebooks/bioTuning/DFO-vET-spring2015_newhindcast.ipynb',\n",
       " '/data/eolson/results/MEOPAR/analysis-elise-2/notebooks/bioTuning/DFO-vET-spring2015_nowcastgreen.ipynb',\n",
       " '/data/eolson/results/MEOPAR/analysis-elise-2/notebooks/bioTuning/DFO-vvlZ-2015_HC201812.ipynb',\n",
       " '/data/eolson/results/MEOPAR/analysis-elise-2/notebooks/bioTuning/HakaiComparisons-LoadData-Figure.ipynb',\n",
       " '/data/eolson/results/MEOPAR/analysis-elise-2/notebooks/bioTuning/HakaiComparisons-LoadData.ipynb',\n",
       " '/data/eolson/results/MEOPAR/analysis-elise-2/notebooks/bioTuning/HakaiComparisons-hindcast201812_2015.ipynb',\n",
       " '/data/eolson/results/MEOPAR/analysis-elise-2/notebooks/bioTuning/HakaiComparisons-hindcast201812_2016.ipynb',\n",
       " '/data/eolson/results/MEOPAR/analysis-elise-2/notebooks/bioTuning/LO_NO3_OBC_correction.ipynb',\n",
       " '/data/eolson/results/MEOPAR/analysis-elise-2/notebooks/bioTuning/LO_OBC_correction-tryS.ipynb',\n",
       " '/data/eolson/results/MEOPAR/analysis-elise-2/notebooks/bioTuning/LO_OBC_correction-tryT.ipynb',\n",
       " '/data/eolson/results/MEOPAR/analysis-elise-2/notebooks/bioTuning/NewBBCChecks-SMELTB.ipynb',\n",
       " '/data/eolson/results/MEOPAR/analysis-elise-2/notebooks/bioTuning/PARRunsComp.ipynb',\n",
       " '/data/eolson/results/MEOPAR/analysis-elise-2/notebooks/bioTuning/PSF-vET-2017_HC201812-compPAR.ipynb',\n",
       " '/data/eolson/results/MEOPAR/analysis-elise-2/notebooks/bioTuning/PSF-vET-2017_HC201812-compPAR_CentralSOG.ipynb',\n",
       " '/data/eolson/results/MEOPAR/analysis-elise-2/notebooks/bioTuning/PSF-vET-2017_PAR_1_3-CentralSOG.ipynb',\n",
       " '/data/eolson/results/MEOPAR/analysis-elise-2/notebooks/bioTuning/PSF-vET-2017_PAR_1_3.ipynb',\n",
       " '/data/eolson/results/MEOPAR/analysis-elise-2/notebooks/bioTuning/Untitled.ipynb',\n",
       " '/data/eolson/results/MEOPAR/analysis-elise-2/notebooks/bioTuning/checkDFOdbExtent.ipynb',\n",
       " '/data/eolson/results/MEOPAR/analysis-elise-2/notebooks/bioTuning/checkMortalitySourceRates-hindcast.ipynb',\n",
       " '/data/eolson/results/MEOPAR/analysis-elise-2/notebooks/bioTuning/checkMortalitySourceRates-nowcastGreen.ipynb',\n",
       " '/data/eolson/results/MEOPAR/analysis-elise-2/notebooks/bioTuning/checkNH4.ipynb',\n",
       " '/data/eolson/results/MEOPAR/analysis-elise-2/notebooks/bioTuning/checkPARRangeJuly.ipynb',\n",
       " '/data/eolson/results/MEOPAR/analysis-elise-2/notebooks/bioTuning/compSMELTSSC_HC201612.ipynb',\n",
       " '/data/eolson/results/MEOPAR/analysis-elise-2/notebooks/bioTuning/compareSi-PAR13bfastLR.ipynb',\n",
       " '/data/eolson/results/MEOPAR/analysis-elise-2/notebooks/bioTuning/compareSi.ipynb',\n",
       " '/data/eolson/results/MEOPAR/analysis-elise-2/notebooks/bioTuning/compare_LinbfSiDiatRefl0_2_HC1905spinup4.ipynb',\n",
       " '/data/eolson/results/MEOPAR/analysis-elise-2/notebooks/bioTuning/compare_SMELT_SSC.ipynb',\n",
       " '/data/eolson/results/MEOPAR/analysis-elise-2/notebooks/bioTuning/deepSiFigs-CheckData.ipynb',\n",
       " '/data/eolson/results/MEOPAR/analysis-elise-2/notebooks/bioTuning/deepSiFigs-DWR-Mod0.ipynb',\n",
       " '/data/eolson/results/MEOPAR/analysis-elise-2/notebooks/bioTuning/deepSiFigs-DWR-mod.ipynb',\n",
       " '/data/eolson/results/MEOPAR/analysis-elise-2/notebooks/bioTuning/deepSiFigs-DWR.ipynb',\n",
       " '/data/eolson/results/MEOPAR/analysis-elise-2/notebooks/bioTuning/deepSiFigs-compareRuns-NewIJ.ipynb',\n",
       " '/data/eolson/results/MEOPAR/analysis-elise-2/notebooks/bioTuning/deepSiFigs-compareRuns-NewIJ2.ipynb',\n",
       " '/data/eolson/results/MEOPAR/analysis-elise-2/notebooks/bioTuning/deepSiFigs-compareRuns.ipynb',\n",
       " '/data/eolson/results/MEOPAR/analysis-elise-2/notebooks/bioTuning/deepSiFigs.ipynb',\n",
       " '/data/eolson/results/MEOPAR/analysis-elise-2/notebooks/bioTuning/devEvalTools.ipynb',\n",
       " '/data/eolson/results/MEOPAR/analysis-elise-2/notebooks/bioTuning/domain.ipynb',\n",
       " '/data/eolson/results/MEOPAR/analysis-elise-2/notebooks/bioTuning/highN03-boundary.ipynb',\n",
       " '/data/eolson/results/MEOPAR/analysis-elise-2/notebooks/bioTuning/interan-feb6Diff.ipynb',\n",
       " '/data/eolson/results/MEOPAR/analysis-elise-2/notebooks/bioTuning/interan-jan11Diff.ipynb',\n",
       " '/data/eolson/results/MEOPAR/analysis-elise-2/notebooks/bioTuning/obsSiN.ipynb',\n",
       " '/data/eolson/results/MEOPAR/analysis-elise-2/notebooks/bioTuning/testClosestPoint.ipynb',\n",
       " '/data/eolson/results/MEOPAR/analysis-elise-2/notebooks/bioTuning/useEvalTools.ipynb',\n",
       " '/data/eolson/results/MEOPAR/analysis-elise-2/notebooks/bioTuning/vET-dev-loadPSF.ipynb']"
      ]
     },
     "execution_count": 14,
     "metadata": {},
     "output_type": "execute_result"
    }
   ],
   "source": [
    "l"
   ]
  },
  {
   "cell_type": "code",
   "execution_count": null,
   "metadata": {},
   "outputs": [],
   "source": []
  },
  {
   "cell_type": "code",
   "execution_count": 11,
   "metadata": {},
   "outputs": [],
   "source": [
    "test={'N':OrderedDict({'z<5':{'RMSE':5,'bias':4,'mean':3},'z>5':{'RMSE':2,'bias':1}}),\n",
    "      'Si':OrderedDict({'z<5':{'RMSE':15,'bias':14,'mean':13},'z>5':{'RMSE':12,'bias':11}})}"
   ]
  },
  {
   "cell_type": "code",
   "execution_count": 12,
   "metadata": {},
   "outputs": [
    {
     "data": {
      "text/plain": [
       "{'N': OrderedDict([('z<5', {'RMSE': 5, 'bias': 4, 'mean': 3}),\n",
       "              ('z>5', {'RMSE': 2, 'bias': 1})]),\n",
       " 'Si': OrderedDict([('z<5', {'RMSE': 15, 'bias': 14, 'mean': 13}),\n",
       "              ('z>5', {'RMSE': 12, 'bias': 11})])}"
      ]
     },
     "execution_count": 12,
     "metadata": {},
     "output_type": "execute_result"
    }
   ],
   "source": [
    "test"
   ]
  },
  {
   "cell_type": "raw",
   "metadata": {},
   "source": [
    "def flatten_nested_dict(tdic,ilist=list(),data=list()):\n",
    "    # do not enter values for ilist or data; should start out empty\n",
    "    for el in tdic.keys():\n",
    "        #print(ilist+list((el,)))\n",
    "        if isinstance(tdic[el],dict):\n",
    "            #print(ilist+list((el,)))\n",
    "            data=flatten_nested_dict(tdic[el],ilist+list((el,)),data)\n",
    "        else:\n",
    "            print('*',ilist+list((el,tdic[el])))\n",
    "            data.append(ilist+list((el,tdic[el])))\n",
    "    return data"
   ]
  },
  {
   "cell_type": "code",
   "execution_count": 31,
   "metadata": {},
   "outputs": [],
   "source": [
    "allrows=et._flatten_nested_dict(test)"
   ]
  },
  {
   "cell_type": "code",
   "execution_count": 32,
   "metadata": {},
   "outputs": [
    {
     "data": {
      "text/plain": [
       "[['N', 'z<5', 'RMSE', 5],\n",
       " ['N', 'z<5', 'bias', 4],\n",
       " ['N', 'z<5', 'mean', 3],\n",
       " ['N', 'z>5', 'RMSE', 2],\n",
       " ['N', 'z>5', 'bias', 1],\n",
       " ['Si', 'z<5', 'RMSE', 15],\n",
       " ['Si', 'z<5', 'bias', 14],\n",
       " ['Si', 'z<5', 'mean', 13],\n",
       " ['Si', 'z>5', 'RMSE', 12],\n",
       " ['Si', 'z>5', 'bias', 11]]"
      ]
     },
     "execution_count": 32,
     "metadata": {},
     "output_type": "execute_result"
    }
   ],
   "source": [
    "allrows"
   ]
  },
  {
   "cell_type": "code",
   "execution_count": 33,
   "metadata": {},
   "outputs": [],
   "source": [
    "allrows=et._flatten_nested_dict(test)"
   ]
  },
  {
   "cell_type": "code",
   "execution_count": 34,
   "metadata": {},
   "outputs": [
    {
     "data": {
      "text/plain": [
       "[['N', 'z<5', 'RMSE', 5],\n",
       " ['N', 'z<5', 'bias', 4],\n",
       " ['N', 'z<5', 'mean', 3],\n",
       " ['N', 'z>5', 'RMSE', 2],\n",
       " ['N', 'z>5', 'bias', 1],\n",
       " ['Si', 'z<5', 'RMSE', 15],\n",
       " ['Si', 'z<5', 'bias', 14],\n",
       " ['Si', 'z<5', 'mean', 13],\n",
       " ['Si', 'z>5', 'RMSE', 12],\n",
       " ['Si', 'z>5', 'bias', 11]]"
      ]
     },
     "execution_count": 34,
     "metadata": {},
     "output_type": "execute_result"
    }
   ],
   "source": [
    "allrows"
   ]
  },
  {
   "cell_type": "code",
   "execution_count": 38,
   "metadata": {},
   "outputs": [],
   "source": [
    "tdf=pd.DataFrame(allrows,columns=('Variable','Subset','  ',''))"
   ]
  },
  {
   "cell_type": "code",
   "execution_count": 82,
   "metadata": {},
   "outputs": [],
   "source": [
    "tdf=pd.DataFrame(allrows,columns=('Variable','Subset','Metric','Value'))"
   ]
  },
  {
   "cell_type": "code",
   "execution_count": 83,
   "metadata": {},
   "outputs": [],
   "source": [
    "tdf.set_index(['Variable','Subset','Metric'],inplace=True)"
   ]
  },
  {
   "cell_type": "code",
   "execution_count": 57,
   "metadata": {},
   "outputs": [
    {
     "data": {
      "text/html": [
       "<div>\n",
       "<style scoped>\n",
       "    .dataframe tbody tr th:only-of-type {\n",
       "        vertical-align: middle;\n",
       "    }\n",
       "\n",
       "    .dataframe tbody tr th {\n",
       "        vertical-align: top;\n",
       "    }\n",
       "\n",
       "    .dataframe thead th {\n",
       "        text-align: right;\n",
       "    }\n",
       "</style>\n",
       "<table border=\"1\" class=\"dataframe\">\n",
       "  <thead>\n",
       "    <tr style=\"text-align: right;\">\n",
       "      <th></th>\n",
       "      <th></th>\n",
       "      <th>Metric</th>\n",
       "      <th>Value</th>\n",
       "    </tr>\n",
       "    <tr>\n",
       "      <th>Variable</th>\n",
       "      <th>Subset</th>\n",
       "      <th></th>\n",
       "      <th></th>\n",
       "    </tr>\n",
       "  </thead>\n",
       "  <tbody>\n",
       "    <tr>\n",
       "      <th rowspan=\"5\" valign=\"top\">N</th>\n",
       "      <th>z&lt;5</th>\n",
       "      <td>RMSE</td>\n",
       "      <td>5</td>\n",
       "    </tr>\n",
       "    <tr>\n",
       "      <th>z&lt;5</th>\n",
       "      <td>bias</td>\n",
       "      <td>4</td>\n",
       "    </tr>\n",
       "    <tr>\n",
       "      <th>z&lt;5</th>\n",
       "      <td>mean</td>\n",
       "      <td>3</td>\n",
       "    </tr>\n",
       "    <tr>\n",
       "      <th>z&gt;5</th>\n",
       "      <td>RMSE</td>\n",
       "      <td>2</td>\n",
       "    </tr>\n",
       "    <tr>\n",
       "      <th>z&gt;5</th>\n",
       "      <td>bias</td>\n",
       "      <td>1</td>\n",
       "    </tr>\n",
       "    <tr>\n",
       "      <th rowspan=\"5\" valign=\"top\">Si</th>\n",
       "      <th>z&lt;5</th>\n",
       "      <td>RMSE</td>\n",
       "      <td>15</td>\n",
       "    </tr>\n",
       "    <tr>\n",
       "      <th>z&lt;5</th>\n",
       "      <td>bias</td>\n",
       "      <td>14</td>\n",
       "    </tr>\n",
       "    <tr>\n",
       "      <th>z&lt;5</th>\n",
       "      <td>mean</td>\n",
       "      <td>13</td>\n",
       "    </tr>\n",
       "    <tr>\n",
       "      <th>z&gt;5</th>\n",
       "      <td>RMSE</td>\n",
       "      <td>12</td>\n",
       "    </tr>\n",
       "    <tr>\n",
       "      <th>z&gt;5</th>\n",
       "      <td>bias</td>\n",
       "      <td>11</td>\n",
       "    </tr>\n",
       "  </tbody>\n",
       "</table>\n",
       "</div>"
      ],
      "text/plain": [
       "                Metric  Value\n",
       "Variable Subset              \n",
       "N        z<5      RMSE      5\n",
       "         z<5      bias      4\n",
       "         z<5      mean      3\n",
       "         z>5      RMSE      2\n",
       "         z>5      bias      1\n",
       "Si       z<5      RMSE     15\n",
       "         z<5      bias     14\n",
       "         z<5      mean     13\n",
       "         z>5      RMSE     12\n",
       "         z>5      bias     11"
      ]
     },
     "execution_count": 57,
     "metadata": {},
     "output_type": "execute_result"
    }
   ],
   "source": [
    "tdf"
   ]
  },
  {
   "cell_type": "code",
   "execution_count": 64,
   "metadata": {},
   "outputs": [
    {
     "data": {
      "text/html": [
       "<div>\n",
       "<style scoped>\n",
       "    .dataframe tbody tr th:only-of-type {\n",
       "        vertical-align: middle;\n",
       "    }\n",
       "\n",
       "    .dataframe tbody tr th {\n",
       "        vertical-align: top;\n",
       "    }\n",
       "\n",
       "    .dataframe thead tr th {\n",
       "        text-align: left;\n",
       "    }\n",
       "\n",
       "    .dataframe thead tr:last-of-type th {\n",
       "        text-align: right;\n",
       "    }\n",
       "</style>\n",
       "<table border=\"1\" class=\"dataframe\">\n",
       "  <thead>\n",
       "    <tr>\n",
       "      <th></th>\n",
       "      <th></th>\n",
       "      <th colspan=\"3\" halign=\"left\">Value</th>\n",
       "    </tr>\n",
       "    <tr>\n",
       "      <th></th>\n",
       "      <th>Metric</th>\n",
       "      <th>RMSE</th>\n",
       "      <th>bias</th>\n",
       "      <th>mean</th>\n",
       "    </tr>\n",
       "    <tr>\n",
       "      <th>Variable</th>\n",
       "      <th>Subset</th>\n",
       "      <th></th>\n",
       "      <th></th>\n",
       "      <th></th>\n",
       "    </tr>\n",
       "  </thead>\n",
       "  <tbody>\n",
       "    <tr>\n",
       "      <th rowspan=\"2\" valign=\"top\">N</th>\n",
       "      <th>z&lt;5</th>\n",
       "      <td>5.0</td>\n",
       "      <td>4.0</td>\n",
       "      <td>3.0</td>\n",
       "    </tr>\n",
       "    <tr>\n",
       "      <th>z&gt;5</th>\n",
       "      <td>2.0</td>\n",
       "      <td>1.0</td>\n",
       "      <td>NaN</td>\n",
       "    </tr>\n",
       "    <tr>\n",
       "      <th rowspan=\"2\" valign=\"top\">Si</th>\n",
       "      <th>z&lt;5</th>\n",
       "      <td>15.0</td>\n",
       "      <td>14.0</td>\n",
       "      <td>13.0</td>\n",
       "    </tr>\n",
       "    <tr>\n",
       "      <th>z&gt;5</th>\n",
       "      <td>12.0</td>\n",
       "      <td>11.0</td>\n",
       "      <td>NaN</td>\n",
       "    </tr>\n",
       "  </tbody>\n",
       "</table>\n",
       "</div>"
      ],
      "text/plain": [
       "                Value            \n",
       "Metric           RMSE  bias  mean\n",
       "Variable Subset                  \n",
       "N        z<5      5.0   4.0   3.0\n",
       "         z>5      2.0   1.0   NaN\n",
       "Si       z<5     15.0  14.0  13.0\n",
       "         z>5     12.0  11.0   NaN"
      ]
     },
     "execution_count": 64,
     "metadata": {},
     "output_type": "execute_result"
    }
   ],
   "source": [
    "tdf.pivot(columns='Metric')"
   ]
  },
  {
   "cell_type": "code",
   "execution_count": 68,
   "metadata": {},
   "outputs": [
    {
     "data": {
      "text/html": [
       "<div>\n",
       "<style scoped>\n",
       "    .dataframe tbody tr th:only-of-type {\n",
       "        vertical-align: middle;\n",
       "    }\n",
       "\n",
       "    .dataframe tbody tr th {\n",
       "        vertical-align: top;\n",
       "    }\n",
       "\n",
       "    .dataframe thead tr th {\n",
       "        text-align: left;\n",
       "    }\n",
       "\n",
       "    .dataframe thead tr:last-of-type th {\n",
       "        text-align: right;\n",
       "    }\n",
       "</style>\n",
       "<table border=\"1\" class=\"dataframe\">\n",
       "  <thead>\n",
       "    <tr>\n",
       "      <th></th>\n",
       "      <th></th>\n",
       "      <th colspan=\"3\" halign=\"left\">Value</th>\n",
       "    </tr>\n",
       "    <tr>\n",
       "      <th></th>\n",
       "      <th>Metric</th>\n",
       "      <th>RMSE</th>\n",
       "      <th>bias</th>\n",
       "      <th>mean</th>\n",
       "    </tr>\n",
       "    <tr>\n",
       "      <th>Variable</th>\n",
       "      <th>Subset</th>\n",
       "      <th></th>\n",
       "      <th></th>\n",
       "      <th></th>\n",
       "    </tr>\n",
       "  </thead>\n",
       "  <tbody>\n",
       "    <tr>\n",
       "      <th rowspan=\"2\" valign=\"top\">N</th>\n",
       "      <th>z&lt;5</th>\n",
       "      <td>5.0</td>\n",
       "      <td>4.0</td>\n",
       "      <td>3.0</td>\n",
       "    </tr>\n",
       "    <tr>\n",
       "      <th>z&gt;5</th>\n",
       "      <td>2.0</td>\n",
       "      <td>1.0</td>\n",
       "      <td>NaN</td>\n",
       "    </tr>\n",
       "    <tr>\n",
       "      <th rowspan=\"2\" valign=\"top\">Si</th>\n",
       "      <th>z&lt;5</th>\n",
       "      <td>15.0</td>\n",
       "      <td>14.0</td>\n",
       "      <td>13.0</td>\n",
       "    </tr>\n",
       "    <tr>\n",
       "      <th>z&gt;5</th>\n",
       "      <td>12.0</td>\n",
       "      <td>11.0</td>\n",
       "      <td>NaN</td>\n",
       "    </tr>\n",
       "  </tbody>\n",
       "</table>\n",
       "</div>"
      ],
      "text/plain": [
       "                Value            \n",
       "Metric           RMSE  bias  mean\n",
       "Variable Subset                  \n",
       "N        z<5      5.0   4.0   3.0\n",
       "         z>5      2.0   1.0   NaN\n",
       "Si       z<5     15.0  14.0  13.0\n",
       "         z>5     12.0  11.0   NaN"
      ]
     },
     "execution_count": 68,
     "metadata": {},
     "output_type": "execute_result"
    }
   ],
   "source": [
    "tdf.pivot(columns='Metric').rename_axis(index={'Value':None},columns={'Value':None})"
   ]
  },
  {
   "cell_type": "code",
   "execution_count": 93,
   "metadata": {},
   "outputs": [
    {
     "data": {
      "text/plain": [
       "' '"
      ]
     },
     "execution_count": 93,
     "metadata": {},
     "output_type": "execute_result"
    }
   ],
   "source": [
    "' '.format(13.324123)"
   ]
  },
  {
   "cell_type": "code",
   "execution_count": 71,
   "metadata": {},
   "outputs": [
    {
     "data": {
      "text/html": [
       "<div>\n",
       "<style scoped>\n",
       "    .dataframe tbody tr th:only-of-type {\n",
       "        vertical-align: middle;\n",
       "    }\n",
       "\n",
       "    .dataframe tbody tr th {\n",
       "        vertical-align: top;\n",
       "    }\n",
       "\n",
       "    .dataframe thead tr th {\n",
       "        text-align: left;\n",
       "    }\n",
       "\n",
       "    .dataframe thead tr:last-of-type th {\n",
       "        text-align: right;\n",
       "    }\n",
       "</style>\n",
       "<table border=\"1\" class=\"dataframe\">\n",
       "  <thead>\n",
       "    <tr>\n",
       "      <th></th>\n",
       "      <th></th>\n",
       "      <th colspan=\"3\" halign=\"left\">Value</th>\n",
       "    </tr>\n",
       "    <tr>\n",
       "      <th></th>\n",
       "      <th></th>\n",
       "      <th>RMSE</th>\n",
       "      <th>bias</th>\n",
       "      <th>mean</th>\n",
       "    </tr>\n",
       "    <tr>\n",
       "      <th>Variable</th>\n",
       "      <th>Subset</th>\n",
       "      <th></th>\n",
       "      <th></th>\n",
       "      <th></th>\n",
       "    </tr>\n",
       "  </thead>\n",
       "  <tbody>\n",
       "    <tr>\n",
       "      <th rowspan=\"2\" valign=\"top\">N</th>\n",
       "      <th>z&lt;5</th>\n",
       "      <td>5.0</td>\n",
       "      <td>4.0</td>\n",
       "      <td>3.0</td>\n",
       "    </tr>\n",
       "    <tr>\n",
       "      <th>z&gt;5</th>\n",
       "      <td>2.0</td>\n",
       "      <td>1.0</td>\n",
       "      <td>NaN</td>\n",
       "    </tr>\n",
       "    <tr>\n",
       "      <th rowspan=\"2\" valign=\"top\">Si</th>\n",
       "      <th>z&lt;5</th>\n",
       "      <td>15.0</td>\n",
       "      <td>14.0</td>\n",
       "      <td>13.0</td>\n",
       "    </tr>\n",
       "    <tr>\n",
       "      <th>z&gt;5</th>\n",
       "      <td>12.0</td>\n",
       "      <td>11.0</td>\n",
       "      <td>NaN</td>\n",
       "    </tr>\n",
       "  </tbody>\n",
       "</table>\n",
       "</div>"
      ],
      "text/plain": [
       "                Value            \n",
       "                 RMSE  bias  mean\n",
       "Variable Subset                  \n",
       "N        z<5      5.0   4.0   3.0\n",
       "         z>5      2.0   1.0   NaN\n",
       "Si       z<5     15.0  14.0  13.0\n",
       "         z>5     12.0  11.0   NaN"
      ]
     },
     "execution_count": 71,
     "metadata": {},
     "output_type": "execute_result"
    }
   ],
   "source": [
    "pd.pivot_table(tdf,index=['Variable','Subset'],columns=['Metric']).rename_axis(columns={'Metric':None})"
   ]
  },
  {
   "cell_type": "code",
   "execution_count": 84,
   "metadata": {},
   "outputs": [
    {
     "data": {
      "text/html": [
       "<div>\n",
       "<style scoped>\n",
       "    .dataframe tbody tr th:only-of-type {\n",
       "        vertical-align: middle;\n",
       "    }\n",
       "\n",
       "    .dataframe tbody tr th {\n",
       "        vertical-align: top;\n",
       "    }\n",
       "\n",
       "    .dataframe thead tr th {\n",
       "        text-align: left;\n",
       "    }\n",
       "\n",
       "    .dataframe thead tr:last-of-type th {\n",
       "        text-align: right;\n",
       "    }\n",
       "</style>\n",
       "<table border=\"1\" class=\"dataframe\">\n",
       "  <thead>\n",
       "    <tr>\n",
       "      <th></th>\n",
       "      <th></th>\n",
       "      <th colspan=\"3\" halign=\"left\">Value</th>\n",
       "    </tr>\n",
       "    <tr>\n",
       "      <th></th>\n",
       "      <th>Metric</th>\n",
       "      <th>RMSE</th>\n",
       "      <th>bias</th>\n",
       "      <th>mean</th>\n",
       "    </tr>\n",
       "    <tr>\n",
       "      <th>Variable</th>\n",
       "      <th>Subset</th>\n",
       "      <th></th>\n",
       "      <th></th>\n",
       "      <th></th>\n",
       "    </tr>\n",
       "  </thead>\n",
       "  <tbody>\n",
       "    <tr>\n",
       "      <th rowspan=\"2\" valign=\"top\">N</th>\n",
       "      <th>z&lt;5</th>\n",
       "      <td>5.0</td>\n",
       "      <td>4.0</td>\n",
       "      <td>3.0</td>\n",
       "    </tr>\n",
       "    <tr>\n",
       "      <th>z&gt;5</th>\n",
       "      <td>2.0</td>\n",
       "      <td>1.0</td>\n",
       "      <td>NaN</td>\n",
       "    </tr>\n",
       "    <tr>\n",
       "      <th rowspan=\"2\" valign=\"top\">Si</th>\n",
       "      <th>z&lt;5</th>\n",
       "      <td>15.0</td>\n",
       "      <td>14.0</td>\n",
       "      <td>13.0</td>\n",
       "    </tr>\n",
       "    <tr>\n",
       "      <th>z&gt;5</th>\n",
       "      <td>12.0</td>\n",
       "      <td>11.0</td>\n",
       "      <td>NaN</td>\n",
       "    </tr>\n",
       "  </tbody>\n",
       "</table>\n",
       "</div>"
      ],
      "text/plain": [
       "                Value            \n",
       "Metric           RMSE  bias  mean\n",
       "Variable Subset                  \n",
       "N        z<5      5.0   4.0   3.0\n",
       "         z>5      2.0   1.0   NaN\n",
       "Si       z<5     15.0  14.0  13.0\n",
       "         z>5     12.0  11.0   NaN"
      ]
     },
     "execution_count": 84,
     "metadata": {},
     "output_type": "execute_result"
    }
   ],
   "source": [
    "tdf.unstack('Metric')"
   ]
  },
  {
   "cell_type": "code",
   "execution_count": 36,
   "metadata": {},
   "outputs": [],
   "source": [
    "tdf.set_index(['Variable','Subset','  '],inplace=True)"
   ]
  },
  {
   "cell_type": "code",
   "execution_count": 37,
   "metadata": {},
   "outputs": [
    {
     "data": {
      "text/html": [
       "<div>\n",
       "<style scoped>\n",
       "    .dataframe tbody tr th:only-of-type {\n",
       "        vertical-align: middle;\n",
       "    }\n",
       "\n",
       "    .dataframe tbody tr th {\n",
       "        vertical-align: top;\n",
       "    }\n",
       "\n",
       "    .dataframe thead th {\n",
       "        text-align: right;\n",
       "    }\n",
       "</style>\n",
       "<table border=\"1\" class=\"dataframe\">\n",
       "  <thead>\n",
       "    <tr style=\"text-align: right;\">\n",
       "      <th></th>\n",
       "      <th></th>\n",
       "      <th></th>\n",
       "      <th></th>\n",
       "    </tr>\n",
       "    <tr>\n",
       "      <th>Variable</th>\n",
       "      <th>Subset</th>\n",
       "      <th></th>\n",
       "      <th></th>\n",
       "    </tr>\n",
       "  </thead>\n",
       "  <tbody>\n",
       "    <tr>\n",
       "      <th rowspan=\"5\" valign=\"top\">N</th>\n",
       "      <th rowspan=\"3\" valign=\"top\">z&lt;5</th>\n",
       "      <th>RMSE</th>\n",
       "      <td>5</td>\n",
       "    </tr>\n",
       "    <tr>\n",
       "      <th>bias</th>\n",
       "      <td>4</td>\n",
       "    </tr>\n",
       "    <tr>\n",
       "      <th>mean</th>\n",
       "      <td>3</td>\n",
       "    </tr>\n",
       "    <tr>\n",
       "      <th rowspan=\"2\" valign=\"top\">z&gt;5</th>\n",
       "      <th>RMSE</th>\n",
       "      <td>2</td>\n",
       "    </tr>\n",
       "    <tr>\n",
       "      <th>bias</th>\n",
       "      <td>1</td>\n",
       "    </tr>\n",
       "    <tr>\n",
       "      <th rowspan=\"5\" valign=\"top\">Si</th>\n",
       "      <th rowspan=\"3\" valign=\"top\">z&lt;5</th>\n",
       "      <th>RMSE</th>\n",
       "      <td>15</td>\n",
       "    </tr>\n",
       "    <tr>\n",
       "      <th>bias</th>\n",
       "      <td>14</td>\n",
       "    </tr>\n",
       "    <tr>\n",
       "      <th>mean</th>\n",
       "      <td>13</td>\n",
       "    </tr>\n",
       "    <tr>\n",
       "      <th rowspan=\"2\" valign=\"top\">z&gt;5</th>\n",
       "      <th>RMSE</th>\n",
       "      <td>12</td>\n",
       "    </tr>\n",
       "    <tr>\n",
       "      <th>bias</th>\n",
       "      <td>11</td>\n",
       "    </tr>\n",
       "  </tbody>\n",
       "</table>\n",
       "</div>"
      ],
      "text/plain": [
       "                        \n",
       "Variable Subset         \n",
       "N        z<5    RMSE   5\n",
       "                bias   4\n",
       "                mean   3\n",
       "         z>5    RMSE   2\n",
       "                bias   1\n",
       "Si       z<5    RMSE  15\n",
       "                bias  14\n",
       "                mean  13\n",
       "         z>5    RMSE  12\n",
       "                bias  11"
      ]
     },
     "execution_count": 37,
     "metadata": {},
     "output_type": "execute_result"
    }
   ],
   "source": [
    "tdf"
   ]
  },
  {
   "cell_type": "code",
   "execution_count": 20,
   "metadata": {},
   "outputs": [
    {
     "name": "stdout",
     "output_type": "stream",
     "text": [
      "                                 \n",
      "                 RMSE  bias  mean\n",
      "Variable Subset                  \n",
      "N        z<5      5.0   4.0   3.0\n",
      "         z>5      2.0   1.0   NaN\n",
      "Si       z<5     15.0  14.0  13.0\n",
      "         z>5     12.0  11.0   NaN\n"
     ]
    }
   ],
   "source": [
    "print(tdf.unstack(level=-1))"
   ]
  },
  {
   "cell_type": "code",
   "execution_count": null,
   "metadata": {},
   "outputs": [],
   "source": []
  },
  {
   "cell_type": "code",
   "execution_count": 21,
   "metadata": {},
   "outputs": [
    {
     "data": {
      "text/html": [
       "<div>\n",
       "<style scoped>\n",
       "    .dataframe tbody tr th:only-of-type {\n",
       "        vertical-align: middle;\n",
       "    }\n",
       "\n",
       "    .dataframe tbody tr th {\n",
       "        vertical-align: top;\n",
       "    }\n",
       "\n",
       "    .dataframe thead tr th {\n",
       "        text-align: left;\n",
       "    }\n",
       "\n",
       "    .dataframe thead tr:last-of-type th {\n",
       "        text-align: right;\n",
       "    }\n",
       "</style>\n",
       "<table border=\"1\" class=\"dataframe\">\n",
       "  <thead>\n",
       "    <tr>\n",
       "      <th></th>\n",
       "      <th></th>\n",
       "      <th colspan=\"3\" halign=\"left\"></th>\n",
       "    </tr>\n",
       "    <tr>\n",
       "      <th></th>\n",
       "      <th></th>\n",
       "      <th>RMSE</th>\n",
       "      <th>bias</th>\n",
       "      <th>mean</th>\n",
       "    </tr>\n",
       "    <tr>\n",
       "      <th>Variable</th>\n",
       "      <th>Subset</th>\n",
       "      <th></th>\n",
       "      <th></th>\n",
       "      <th></th>\n",
       "    </tr>\n",
       "  </thead>\n",
       "  <tbody>\n",
       "    <tr>\n",
       "      <th rowspan=\"2\" valign=\"top\">N</th>\n",
       "      <th>z&lt;5</th>\n",
       "      <td>5.0</td>\n",
       "      <td>4.0</td>\n",
       "      <td>3.0</td>\n",
       "    </tr>\n",
       "    <tr>\n",
       "      <th>z&gt;5</th>\n",
       "      <td>2.0</td>\n",
       "      <td>1.0</td>\n",
       "      <td>NaN</td>\n",
       "    </tr>\n",
       "    <tr>\n",
       "      <th rowspan=\"2\" valign=\"top\">Si</th>\n",
       "      <th>z&lt;5</th>\n",
       "      <td>15.0</td>\n",
       "      <td>14.0</td>\n",
       "      <td>13.0</td>\n",
       "    </tr>\n",
       "    <tr>\n",
       "      <th>z&gt;5</th>\n",
       "      <td>12.0</td>\n",
       "      <td>11.0</td>\n",
       "      <td>NaN</td>\n",
       "    </tr>\n",
       "  </tbody>\n",
       "</table>\n",
       "</div>"
      ],
      "text/plain": [
       "                                 \n",
       "                 RMSE  bias  mean\n",
       "Variable Subset                  \n",
       "N        z<5      5.0   4.0   3.0\n",
       "         z>5      2.0   1.0   NaN\n",
       "Si       z<5     15.0  14.0  13.0\n",
       "         z>5     12.0  11.0   NaN"
      ]
     },
     "execution_count": 21,
     "metadata": {},
     "output_type": "execute_result"
    }
   ],
   "source": [
    "pd.pivot_table(tdf,index=['Variable','Subset'],columns=['  '])"
   ]
  },
  {
   "cell_type": "code",
   "execution_count": 22,
   "metadata": {},
   "outputs": [
    {
     "data": {
      "text/plain": [
       "OrderedDict([('z<5', {'RMSE': 5, 'bias': 4, 'mean': 3}),\n",
       "             ('z>5', {'RMSE': 2, 'bias': 1})])"
      ]
     },
     "execution_count": 22,
     "metadata": {},
     "output_type": "execute_result"
    }
   ],
   "source": [
    "ex2=test['N']\n",
    "ex2"
   ]
  },
  {
   "cell_type": "code",
   "execution_count": 23,
   "metadata": {},
   "outputs": [],
   "source": [
    "allrows=et._flatten_nested_dict(ex2)"
   ]
  },
  {
   "cell_type": "code",
   "execution_count": 24,
   "metadata": {},
   "outputs": [
    {
     "data": {
      "text/plain": [
       "[['z<5', 'RMSE', 5],\n",
       " ['z<5', 'bias', 4],\n",
       " ['z<5', 'mean', 3],\n",
       " ['z>5', 'RMSE', 2],\n",
       " ['z>5', 'bias', 1]]"
      ]
     },
     "execution_count": 24,
     "metadata": {},
     "output_type": "execute_result"
    }
   ],
   "source": [
    "allrows"
   ]
  },
  {
   "cell_type": "code",
   "execution_count": 25,
   "metadata": {},
   "outputs": [],
   "source": [
    "tdf=pd.DataFrame(allrows,columns=('Subset','  ',''))"
   ]
  },
  {
   "cell_type": "code",
   "execution_count": 26,
   "metadata": {},
   "outputs": [],
   "source": [
    "tdf.set_index(['Subset','  '],inplace=True)"
   ]
  },
  {
   "cell_type": "code",
   "execution_count": 27,
   "metadata": {},
   "outputs": [],
   "source": [
    "tbl=pd.pivot_table(tdf,index=['Subset'],columns=['  '])"
   ]
  },
  {
   "cell_type": "code",
   "execution_count": 28,
   "metadata": {},
   "outputs": [
    {
     "data": {
      "text/html": [
       "<div>\n",
       "<style scoped>\n",
       "    .dataframe tbody tr th:only-of-type {\n",
       "        vertical-align: middle;\n",
       "    }\n",
       "\n",
       "    .dataframe tbody tr th {\n",
       "        vertical-align: top;\n",
       "    }\n",
       "\n",
       "    .dataframe thead tr th {\n",
       "        text-align: left;\n",
       "    }\n",
       "\n",
       "    .dataframe thead tr:last-of-type th {\n",
       "        text-align: right;\n",
       "    }\n",
       "</style>\n",
       "<table border=\"1\" class=\"dataframe\">\n",
       "  <thead>\n",
       "    <tr>\n",
       "      <th></th>\n",
       "      <th colspan=\"3\" halign=\"left\"></th>\n",
       "    </tr>\n",
       "    <tr>\n",
       "      <th></th>\n",
       "      <th>RMSE</th>\n",
       "      <th>bias</th>\n",
       "      <th>mean</th>\n",
       "    </tr>\n",
       "    <tr>\n",
       "      <th>Subset</th>\n",
       "      <th></th>\n",
       "      <th></th>\n",
       "      <th></th>\n",
       "    </tr>\n",
       "  </thead>\n",
       "  <tbody>\n",
       "    <tr>\n",
       "      <th>z&lt;5</th>\n",
       "      <td>5.0</td>\n",
       "      <td>4.0</td>\n",
       "      <td>3.0</td>\n",
       "    </tr>\n",
       "    <tr>\n",
       "      <th>z&gt;5</th>\n",
       "      <td>2.0</td>\n",
       "      <td>1.0</td>\n",
       "      <td>NaN</td>\n",
       "    </tr>\n",
       "  </tbody>\n",
       "</table>\n",
       "</div>"
      ],
      "text/plain": [
       "                     \n",
       "       RMSE bias mean\n",
       "Subset               \n",
       "z<5     5.0  4.0  3.0\n",
       "z>5     2.0  1.0  NaN"
      ]
     },
     "execution_count": 28,
     "metadata": {},
     "output_type": "execute_result"
    }
   ],
   "source": [
    "tbl"
   ]
  },
  {
   "cell_type": "code",
   "execution_count": 29,
   "metadata": {},
   "outputs": [
    {
     "ename": "AttributeError",
     "evalue": "module 'salishsea_tools.evaltools' has no attribute 'disaplyStats'",
     "output_type": "error",
     "traceback": [
      "\u001b[0;31m---------------------------------------------------------------------------\u001b[0m",
      "\u001b[0;31mAttributeError\u001b[0m                            Traceback (most recent call last)",
      "\u001b[0;32m<ipython-input-29-0396b3dcf959>\u001b[0m in \u001b[0;36m<module>\u001b[0;34m\u001b[0m\n\u001b[0;32m----> 1\u001b[0;31m \u001b[0met\u001b[0m\u001b[0;34m.\u001b[0m\u001b[0mdisaplyStats\u001b[0m\u001b[0;34m(\u001b[0m\u001b[0mex2\u001b[0m\u001b[0;34m,\u001b[0m\u001b[0;34m'Subset'\u001b[0m\u001b[0;34m)\u001b[0m\u001b[0;34m\u001b[0m\u001b[0;34m\u001b[0m\u001b[0m\n\u001b[0m",
      "\u001b[0;31mAttributeError\u001b[0m: module 'salishsea_tools.evaltools' has no attribute 'disaplyStats'"
     ]
    }
   ],
   "source": [
    "et.disaplyStats(ex2,'Subset')"
   ]
  },
  {
   "cell_type": "code",
   "execution_count": null,
   "metadata": {},
   "outputs": [],
   "source": [
    "et.disaplyStats(test,'Variable')"
   ]
  },
  {
   "cell_type": "code",
   "execution_count": null,
   "metadata": {},
   "outputs": [],
   "source": [
    "test0={'2015':test,'2016':test}"
   ]
  },
  {
   "cell_type": "code",
   "execution_count": null,
   "metadata": {},
   "outputs": [],
   "source": [
    "test0"
   ]
  },
  {
   "cell_type": "code",
   "execution_count": null,
   "metadata": {},
   "outputs": [],
   "source": [
    "allrows=et._flatten_nested_dict(test0)"
   ]
  },
  {
   "cell_type": "code",
   "execution_count": null,
   "metadata": {},
   "outputs": [],
   "source": [
    "allrows"
   ]
  },
  {
   "cell_type": "code",
   "execution_count": null,
   "metadata": {},
   "outputs": [],
   "source": [
    "tdf=pd.DataFrame(allrows,columns=('Year','Variable','Subset','  ',''))"
   ]
  },
  {
   "cell_type": "code",
   "execution_count": null,
   "metadata": {},
   "outputs": [],
   "source": [
    "tdf.set_index(['Variable','Subset','  '],inplace=True)"
   ]
  },
  {
   "cell_type": "code",
   "execution_count": null,
   "metadata": {},
   "outputs": [],
   "source": [
    "tdf"
   ]
  },
  {
   "cell_type": "code",
   "execution_count": null,
   "metadata": {},
   "outputs": [],
   "source": [
    "pd.pivot_table(tdf,index=['Variable','Subset'],columns=['Year','  '])"
   ]
  },
  {
   "cell_type": "code",
   "execution_count": null,
   "metadata": {},
   "outputs": [],
   "source": [
    "et.disaplyStats(test0,level='Year')"
   ]
  },
  {
   "cell_type": "code",
   "execution_count": null,
   "metadata": {},
   "outputs": [],
   "source": [
    "et.disaplyStats(test,level='Variable')"
   ]
  },
  {
   "cell_type": "code",
   "execution_count": null,
   "metadata": {},
   "outputs": [],
   "source": [
    "et.disaplyStats(test['N'])"
   ]
  },
  {
   "cell_type": "code",
   "execution_count": null,
   "metadata": {},
   "outputs": [],
   "source": []
  }
 ],
 "metadata": {
  "kernelspec": {
   "display_name": "Python (base)",
   "language": "python",
   "name": "base"
  },
  "language_info": {
   "codemirror_mode": {
    "name": "ipython",
    "version": 3
   },
   "file_extension": ".py",
   "mimetype": "text/x-python",
   "name": "python",
   "nbconvert_exporter": "python",
   "pygments_lexer": "ipython3",
   "version": "3.7.4"
  }
 },
 "nbformat": 4,
 "nbformat_minor": 2
}
