{
 "cells": [
  {
   "cell_type": "code",
   "execution_count": 1,
   "metadata": {},
   "outputs": [],
   "source": [
    "import numpy as np\n",
    "import matplotlib.pyplot as plt\n",
    "import os\n",
    "import pandas as pd\n",
    "import netCDF4 as nc\n",
    "import datetime as dt\n",
    "from salishsea_tools import evaltools as et, viz_tools\n",
    "import gsw\n",
    "import matplotlib.gridspec as gridspec\n",
    "import matplotlib as mpl\n",
    "import matplotlib.dates as mdates\n",
    "import cmocean as cmo\n",
    "import scipy.interpolate as sinterp\n",
    "import pickle\n",
    "import cmocean\n",
    "import json\n",
    "import f90nml\n",
    "from collections import OrderedDict\n",
    "\n",
    "fs=16\n",
    "mpl.rc('xtick', labelsize=fs)\n",
    "mpl.rc('ytick', labelsize=fs)\n",
    "mpl.rc('legend', fontsize=fs)\n",
    "mpl.rc('axes', titlesize=fs)\n",
    "mpl.rc('axes', labelsize=fs)\n",
    "mpl.rc('figure', titlesize=fs)\n",
    "mpl.rc('font', size=fs)\n",
    "mpl.rc('text', usetex=True)\n",
    "mpl.rc('text.latex', preamble = r'''\n",
    " \\usepackage{txfonts}\n",
    " \\usepackage{lmodern}\n",
    " ''')\n",
    "mpl.rc('font', family='sans-serif', weight='normal', style='normal')\n",
    "\n",
    "import warnings\n",
    "warnings.filterwarnings('ignore')\n",
    "from IPython.display import Markdown, display\n",
    "\n",
    "%matplotlib inline"
   ]
  },
  {
   "cell_type": "code",
   "execution_count": 2,
   "metadata": {},
   "outputs": [
    {
     "data": {
      "text/html": [
       "<script>\n",
       "code_show=true; \n",
       "function code_toggle() {\n",
       " if (code_show){\n",
       " $('div.input').hide();\n",
       " } else {\n",
       " $('div.input').show();\n",
       " }\n",
       " code_show = !code_show\n",
       "} \n",
       "$( document ).ready(code_toggle);\n",
       "</script>\n",
       "\n",
       "<form action=\"javascript:code_toggle()\"><input type=\"submit\" value=\"Click here to toggle on/off the raw code.\"></form>"
      ],
      "text/plain": [
       "<IPython.core.display.HTML object>"
      ]
     },
     "execution_count": 2,
     "metadata": {},
     "output_type": "execute_result"
    }
   ],
   "source": [
    "from IPython.display import HTML\n",
    "\n",
    "HTML('''<script>\n",
    "code_show=true; \n",
    "function code_toggle() {\n",
    " if (code_show){\n",
    " $('div.input').hide();\n",
    " } else {\n",
    " $('div.input').show();\n",
    " }\n",
    " code_show = !code_show\n",
    "} \n",
    "$( document ).ready(code_toggle);\n",
    "</script>\n",
    "\n",
    "<form action=\"javascript:code_toggle()\"><input type=\"submit\" value=\"Click here to toggle on/off the raw code.\"></form>''')\n"
   ]
  },
  {
   "cell_type": "code",
   "execution_count": 3,
   "metadata": {
    "tags": [
     "parameters"
    ]
   },
   "outputs": [],
   "source": [
    "PATH= '/results2/SalishSea/nowcast-green.201905/'\n",
    "year=2015"
   ]
  },
  {
   "cell_type": "code",
   "execution_count": 4,
   "metadata": {},
   "outputs": [
    {
     "data": {
      "text/markdown": [
       "# Year: 2015"
      ],
      "text/plain": [
       "<IPython.core.display.Markdown object>"
      ]
     },
     "metadata": {},
     "output_type": "display_data"
    }
   ],
   "source": [
    "display(Markdown('''# Year: '''+ str(year)))"
   ]
  },
  {
   "cell_type": "markdown",
   "metadata": {},
   "source": [
    "## Yearly model-data comparisons of nutrients, chlorophyll, temperature and salinity between 201905 runs and DFO observations"
   ]
  },
  {
   "cell_type": "markdown",
   "metadata": {},
   "source": [
    "#### Define date range and load observations"
   ]
  },
  {
   "cell_type": "code",
   "execution_count": 5,
   "metadata": {},
   "outputs": [
    {
     "name": "stdout",
     "output_type": "stream",
     "text": [
      "569 data points\n"
     ]
    },
    {
     "data": {
      "text/html": [
       "<div>\n",
       "<style scoped>\n",
       "    .dataframe tbody tr th:only-of-type {\n",
       "        vertical-align: middle;\n",
       "    }\n",
       "\n",
       "    .dataframe tbody tr th {\n",
       "        vertical-align: top;\n",
       "    }\n",
       "\n",
       "    .dataframe thead th {\n",
       "        text-align: right;\n",
       "    }\n",
       "</style>\n",
       "<table border=\"1\" class=\"dataframe\">\n",
       "  <thead>\n",
       "    <tr style=\"text-align: right;\">\n",
       "      <th></th>\n",
       "      <th>Year</th>\n",
       "      <th>Month</th>\n",
       "      <th>Day</th>\n",
       "      <th>Lat</th>\n",
       "      <th>Lon</th>\n",
       "      <th>Pressure</th>\n",
       "      <th>Depth</th>\n",
       "      <th>N</th>\n",
       "      <th>Si</th>\n",
       "      <th>Chlorophyll_Extracted</th>\n",
       "      <th>ConsT</th>\n",
       "      <th>AbsSal</th>\n",
       "    </tr>\n",
       "  </thead>\n",
       "  <tbody>\n",
       "    <tr>\n",
       "      <th>0</th>\n",
       "      <td>2015.0</td>\n",
       "      <td>2.0</td>\n",
       "      <td>11.0</td>\n",
       "      <td>48.300833</td>\n",
       "      <td>-124.000333</td>\n",
       "      <td>1.9</td>\n",
       "      <td>None</td>\n",
       "      <td>15.31</td>\n",
       "      <td>32.14</td>\n",
       "      <td>NaN</td>\n",
       "      <td>9.859421</td>\n",
       "      <td>29.227507</td>\n",
       "    </tr>\n",
       "    <tr>\n",
       "      <th>1</th>\n",
       "      <td>2015.0</td>\n",
       "      <td>2.0</td>\n",
       "      <td>11.0</td>\n",
       "      <td>48.300833</td>\n",
       "      <td>-124.000333</td>\n",
       "      <td>6.6</td>\n",
       "      <td>None</td>\n",
       "      <td>17.13</td>\n",
       "      <td>33.90</td>\n",
       "      <td>2.57</td>\n",
       "      <td>9.777243</td>\n",
       "      <td>29.484341</td>\n",
       "    </tr>\n",
       "    <tr>\n",
       "      <th>2</th>\n",
       "      <td>2015.0</td>\n",
       "      <td>2.0</td>\n",
       "      <td>11.0</td>\n",
       "      <td>48.300833</td>\n",
       "      <td>-124.000333</td>\n",
       "      <td>6.7</td>\n",
       "      <td>None</td>\n",
       "      <td>NaN</td>\n",
       "      <td>NaN</td>\n",
       "      <td>NaN</td>\n",
       "      <td>9.771987</td>\n",
       "      <td>29.484839</td>\n",
       "    </tr>\n",
       "    <tr>\n",
       "      <th>3</th>\n",
       "      <td>2015.0</td>\n",
       "      <td>2.0</td>\n",
       "      <td>11.0</td>\n",
       "      <td>48.300833</td>\n",
       "      <td>-124.000333</td>\n",
       "      <td>11.0</td>\n",
       "      <td>None</td>\n",
       "      <td>NaN</td>\n",
       "      <td>NaN</td>\n",
       "      <td>NaN</td>\n",
       "      <td>9.439995</td>\n",
       "      <td>30.144549</td>\n",
       "    </tr>\n",
       "    <tr>\n",
       "      <th>4</th>\n",
       "      <td>2015.0</td>\n",
       "      <td>2.0</td>\n",
       "      <td>11.0</td>\n",
       "      <td>48.300833</td>\n",
       "      <td>-124.000333</td>\n",
       "      <td>11.0</td>\n",
       "      <td>None</td>\n",
       "      <td>20.62</td>\n",
       "      <td>37.65</td>\n",
       "      <td>NaN</td>\n",
       "      <td>9.433733</td>\n",
       "      <td>30.157913</td>\n",
       "    </tr>\n",
       "  </tbody>\n",
       "</table>\n",
       "</div>"
      ],
      "text/plain": [
       "     Year  Month   Day        Lat         Lon  Pressure Depth      N     Si  \\\n",
       "0  2015.0    2.0  11.0  48.300833 -124.000333       1.9  None  15.31  32.14   \n",
       "1  2015.0    2.0  11.0  48.300833 -124.000333       6.6  None  17.13  33.90   \n",
       "2  2015.0    2.0  11.0  48.300833 -124.000333       6.7  None    NaN    NaN   \n",
       "3  2015.0    2.0  11.0  48.300833 -124.000333      11.0  None    NaN    NaN   \n",
       "4  2015.0    2.0  11.0  48.300833 -124.000333      11.0  None  20.62  37.65   \n",
       "\n",
       "   Chlorophyll_Extracted     ConsT     AbsSal  \n",
       "0                    NaN  9.859421  29.227507  \n",
       "1                   2.57  9.777243  29.484341  \n",
       "2                    NaN  9.771987  29.484839  \n",
       "3                    NaN  9.439995  30.144549  \n",
       "4                    NaN  9.433733  30.157913  "
      ]
     },
     "execution_count": 5,
     "metadata": {},
     "output_type": "execute_result"
    }
   ],
   "source": [
    "start_date = dt.datetime(year,1,1)\n",
    "end_date = dt.datetime(year,12,31)\n",
    "flen=1\n",
    "namfmt='nowcast'\n",
    "filemap={'nitrate':'ptrc_T','silicon':'ptrc_T','ammonium':'ptrc_T','diatoms':'ptrc_T',\n",
    "         'ciliates':'ptrc_T','flagellates':'ptrc_T','vosaline':'grid_T','votemper':'grid_T'}\n",
    "fdict={'ptrc_T':1,'grid_T':1}\n",
    "\n",
    "df1=et.loadDFO(datelims=(start_date,end_date))\n",
    "print(len(df1),'data points')\n",
    "df1[['Year','Month','Day','Lat','Lon','Pressure','Depth','N','Si','Chlorophyll_Extracted',\n",
    "     'ConsT','AbsSal']].head()"
   ]
  },
  {
   "cell_type": "code",
   "execution_count": null,
   "metadata": {},
   "outputs": [],
   "source": [
    "data=et.matchData(df1,filemap,fdict,start_date,end_date,'nowcast',PATH,1,quiet=True);"
   ]
  },
  {
   "cell_type": "code",
   "execution_count": null,
   "metadata": {},
   "outputs": [],
   "source": [
    "# density calculations:\n",
    "data['rho']=gsw.rho(data['AbsSal'],data['ConsT'],data['Pressure'])\n",
    "data['mod_rho']=gsw.rho(data['mod_vosaline'],data['mod_votemper'],\n",
    "                        gsw.p_from_z(-1*data['Z'],data['Lat']))"
   ]
  },
  {
   "cell_type": "code",
   "execution_count": null,
   "metadata": {},
   "outputs": [],
   "source": [
    "# load chl to N ratio from namelist\n",
    "nml=f90nml.read(os.path.join(PATH,'01jan'+str(year)[-2:],'namelist_smelt_cfg'))\n",
    "mod_chl_N=nml['nampisopt']['zzn2chl']\n",
    "print('Parameter values from 01jan'+str(year)[-2:]+' namelist_smelt_cfg:')\n",
    "print('   Chl:N = ',mod_chl_N)\n",
    "print('   zz_bfsi = ',nml['nampisrem']['zz_bfsi'])\n",
    "print('   zz_remin_d_bsi = ',nml['nampisrem']['zz_remin_d_bsi'])\n",
    "print('   zz_w_sink_d_bsi = ',nml['nampissink']['zz_w_sink_d_bsi'])\n",
    "print('   zz_alpha_b_si = ',nml['nampissink']['zz_alpha_b_si'])\n",
    "print('   zz_alpha_b_d = ',nml['nampissink']['zz_alpha_b_d'])"
   ]
  },
  {
   "cell_type": "code",
   "execution_count": null,
   "metadata": {},
   "outputs": [],
   "source": [
    "# chlorophyll calculations\n",
    "data['l10_obsChl']=np.log10(data['Chlorophyll_Extracted']+0.01)\n",
    "data['l10_modChl']=np.log10(mod_chl_N*(data['mod_diatoms']+data['mod_ciliates']+data['mod_flagellates'])+0.01)\n",
    "data['mod_Chl']=mod_chl_N*(data['mod_diatoms']+data['mod_ciliates']+data['mod_flagellates'])\n",
    "data['Chl']=data['Chlorophyll_Extracted']"
   ]
  },
  {
   "cell_type": "code",
   "execution_count": null,
   "metadata": {},
   "outputs": [],
   "source": [
    "# prep and load dictionary to save stats in\n",
    "if os.path.isfile('vET-HC1905-DFO-NutChlPhys-stats.json'):\n",
    "    with open('vET-HC1905-DFO-NutChlPhys-stats.json', 'r') as fstat:\n",
    "        statsDict = json.load(fstat);\n",
    "    statsDict[year]=dict();    \n",
    "else:\n",
    "    statsDict={year:dict()};"
   ]
  },
  {
   "cell_type": "code",
   "execution_count": null,
   "metadata": {},
   "outputs": [],
   "source": [
    "cm1=cmocean.cm.thermal\n",
    "theta=-30\n",
    "lon0=-123.9\n",
    "lat0=49.3\n",
    "with nc.Dataset('/data/eolson/results/MEOPAR/NEMO-forcing-new/grid/bathymetry_201702.nc') as bathy:\n",
    "    bathylon=np.copy(bathy.variables['nav_lon'][:,:])\n",
    "    bathylat=np.copy(bathy.variables['nav_lat'][:,:])\n",
    "    bathyZ=np.copy(bathy.variables['Bathymetry'][:,:])"
   ]
  },
  {
   "cell_type": "code",
   "execution_count": null,
   "metadata": {},
   "outputs": [],
   "source": [
    "def byDepth(ax,obsvar,modvar,lims):\n",
    "    ps=et.varvarPlot(ax,data,obsvar,modvar,'Z',(15,22),'z','m',('mediumseagreen','darkturquoise','navy'))\n",
    "    l=ax.legend(handles=ps)\n",
    "    ax.set_xlabel('Obs')\n",
    "    ax.set_ylabel('Model')\n",
    "    ax.plot(lims,lims,'k-',alpha=.5)\n",
    "    ax.set_xlim(lims)\n",
    "    ax.set_ylim(lims)\n",
    "    ax.set_aspect(1)\n",
    "    return ps,l\n",
    "\n",
    "def byRegion(ax,obsvar,modvar,lims):\n",
    "    ps1=et.varvarPlot(ax,dJDF,obsvar,modvar,cols=('b',),lname='SJDF')\n",
    "    ps2=et.varvarPlot(ax,dSJGI,obsvar,modvar,cols=('c',),lname='SJGI')\n",
    "    ps3=et.varvarPlot(ax,dSOG,obsvar,modvar,cols=('y',),lname='SOG')\n",
    "    ps4=et.varvarPlot(ax,dNSOG,obsvar,modvar,cols=('m',),lname='NSOG')\n",
    "    l=ax.legend(handles=[ps1[0][0],ps2[0][0],ps3[0][0],ps4[0][0]])\n",
    "    ax.set_xlabel('Obs')\n",
    "    ax.set_ylabel('Model')\n",
    "    ax.plot(lims,lims,'k-',alpha=.5)\n",
    "    ax.set_xlim(lims)\n",
    "    ax.set_ylim(lims)\n",
    "    ax.set_aspect(1)\n",
    "    return (ps1,ps2,ps3,ps4),l\n",
    "\n",
    "def bySeason(ax,obsvar,modvar,lims):\n",
    "    for axi in ax:\n",
    "        axi.plot(lims,lims,'k-')\n",
    "        axi.set_xlim(lims)\n",
    "        axi.set_ylim(lims)\n",
    "        axi.set_aspect(1)\n",
    "        axi.set_xlabel('Obs')\n",
    "        axi.set_ylabel('Model')\n",
    "    ps=et.varvarPlot(ax[0],JFM,obsvar,modvar,cols=('crimson','darkturquoise','navy'))\n",
    "    ax[0].set_title('Jan-Mar')\n",
    "    ps=et.varvarPlot(ax[1],Apr,obsvar,modvar,cols=('crimson','darkturquoise','navy'))\n",
    "    ax[1].set_title('Apr')\n",
    "    ps=et.varvarPlot(ax[2],MJJA,obsvar,modvar,cols=('crimson','darkturquoise','navy'))\n",
    "    ax[2].set_title('May-Aug')\n",
    "    ps=et.varvarPlot(ax[3],SOND,obsvar,modvar,cols=('crimson','darkturquoise','navy'))\n",
    "    ax[3].set_title('Sep-Dec')\n",
    "    return \n",
    "\n",
    "def ErrErr(fig,ax,obsvar1,modvar1,obsvar2,modvar2,lims1,lims2):\n",
    "    m=ax.scatter(data[modvar1]-data[obsvar1],data[modvar2]-data[obsvar2],c=data['Z'],s=1,cmap='gnuplot')\n",
    "    cb=fig.colorbar(m,ax=ax,label='Depth (m)')\n",
    "    ax.set_xlim(lims1)\n",
    "    ax.set_ylim(lims2)\n",
    "    ax.set_aspect((lims1[1]-lims1[0])/(lims2[1]-lims2[0]))\n",
    "    return m,cb"
   ]
  },
  {
   "cell_type": "code",
   "execution_count": null,
   "metadata": {},
   "outputs": [],
   "source": [
    "fig, ax = plt.subplots(1,2,figsize = (13,6))\n",
    "viz_tools.set_aspect(ax[0], coords = 'map')\n",
    "ax[0].plot(data['Lon'], data['Lat'], 'ro',label='data')\n",
    "ax[0].plot(data.loc[data.Si>75,['Lon']],data.loc[data.Si>75,['Lat']],'*',color='y',label='high Si')\n",
    "grid = nc.Dataset('/data/vdo/MEOPAR/NEMO-forcing/grid/bathymetry_201702.nc')\n",
    "viz_tools.plot_coastline(ax[0], grid, coords = 'map',isobath=.1)\n",
    "ax[0].set_ylim(48, 50.5)\n",
    "ax[0].legend()\n",
    "ax[0].set_xlim(-125.7, -122.5);\n",
    "ax[0].set_title('Observation Locations');\n",
    "\n",
    "viz_tools.set_aspect(ax[1], coords = 'map')\n",
    "#ax[1].plot(data['Lon'], data['Lat'], 'ro',label='data')\n",
    "dJDF=data.loc[(data.Lon<-123.6)&(data.Lat<48.6)]\n",
    "ax[1].plot(dJDF['Lon'],dJDF['Lat'],'b.',label='JDF')\n",
    "dSJGI=data.loc[(data.Lon>=-123.6)&(data.Lat<48.9)]\n",
    "ax[1].plot(dSJGI['Lon'],dSJGI['Lat'],'c.',label='SJGI')\n",
    "dSOG=data.loc[(data.Lat>=48.9)&(data.Lon>-124.0)]\n",
    "ax[1].plot(dSOG['Lon'],dSOG['Lat'],'y.',label='SOG')\n",
    "dNSOG=data.loc[(data.Lat>=48.9)&(data.Lon<=-124.0)]\n",
    "ax[1].plot(dNSOG['Lon'],dNSOG['Lat'],'m.',label='NSOG')\n",
    "grid = nc.Dataset('/data/vdo/MEOPAR/NEMO-forcing/grid/bathymetry_201702.nc')\n",
    "viz_tools.plot_coastline(ax[1], grid, coords = 'map')\n",
    "ax[1].set_ylim(48, 50.5)\n",
    "ax[1].legend()\n",
    "ax[1].set_xlim(-125.7, -122.5);\n",
    "\n",
    "# Also set up seasonal groupings:\n",
    "iz=(data.Z<15)\n",
    "JFM=data.loc[iz&(data.dtUTC<=dt.datetime(year,4,1)),:]\n",
    "Apr=data.loc[iz&(data.dtUTC<=dt.datetime(year,5,1))&(data.dtUTC>dt.datetime(year,4,1)),:]\n",
    "MJJA=data.loc[iz&(data.dtUTC<=dt.datetime(year,9,1))&(data.dtUTC>dt.datetime(year,5,1)),:]\n",
    "SOND=data.loc[iz&(data.dtUTC>dt.datetime(year,9,1)),:]"
   ]
  },
  {
   "cell_type": "code",
   "execution_count": null,
   "metadata": {},
   "outputs": [],
   "source": [
    "statsubs=OrderedDict({'z < 15 m':data.loc[data.Z<15],\n",
    "                      '15 m < z < 22 m':data.loc[(data.Z>=15)&(data.Z<22)],\n",
    "                      'z >= 22 m':data.loc[data.Z>=22],\n",
    "                      'z > 50 m':data.loc[data.Z>50],\n",
    "                      'all':data,\n",
    "                      'z < 15 m, JFM':JFM,\n",
    "                      'z < 15 m, Apr':Apr,\n",
    "                      'z < 15 m, MJJA':MJJA,\n",
    "                      'z < 15 m, SOND': SOND,\n",
    "                      'SJDF':dJDF,\n",
    "                      'SJGI':dSJGI,\n",
    "                      'SOG':dSOG,\n",
    "                      'NSOG':dNSOG})"
   ]
  },
  {
   "cell_type": "markdown",
   "metadata": {},
   "source": [
    "# Nitrate"
   ]
  },
  {
   "cell_type": "code",
   "execution_count": null,
   "metadata": {},
   "outputs": [],
   "source": [
    "obsvar='N'\n",
    "modvar='mod_nitrate'\n",
    "statsDict[year]['NO3']=OrderedDict()\n",
    "for isub in statsubs:\n",
    "    statsDict[year]['NO3'][isub]=dict()\n",
    "    var=statsDict[year]['NO3'][isub]\n",
    "    var['N'],mmean,omean,var['Bias'],var['RMSE'],var['WSS']=et.stats(statsubs[isub].loc[:,[obsvar]],\n",
    "                                                                     statsubs[isub].loc[:,[modvar]])\n",
    "tbl,tdf=et.displayStats(statsDict[year]['NO3'],level='Subset',suborder=list(statsubs.keys()))\n",
    "tbl"
   ]
  },
  {
   "cell_type": "code",
   "execution_count": null,
   "metadata": {},
   "outputs": [],
   "source": [
    "fig, ax = plt.subplots(1,2,figsize = (16,7))\n",
    "ps,l=byDepth(ax[0],obsvar,modvar,(0,40))\n",
    "ax[0].set_title('NO$_3$ ($\\mu$M) By Depth')\n",
    "\n",
    "ps,l=byRegion(ax[1],obsvar,modvar,(0,40))\n",
    "ax[1].set_title('NO$_3$ ($\\mu$M) By Region');"
   ]
  },
  {
   "cell_type": "code",
   "execution_count": null,
   "metadata": {},
   "outputs": [],
   "source": [
    "fig, ax = plt.subplots(1,4,figsize = (16,3.3))\n",
    "bySeason(ax,obsvar,modvar,(0,30))\n",
    "fig,ax=plt.subplots(1,1,figsize=(20,.3))\n",
    "ax.plot(data.dtUTC,np.ones(np.shape(data.dtUTC)),'k.')\n",
    "ax.set_xlim((dt.datetime(year,1,1),dt.datetime(year,12,31)))\n",
    "ax.set_title('Data Timing')\n",
    "ax.yaxis.set_visible(False)"
   ]
  },
  {
   "cell_type": "code",
   "execution_count": null,
   "metadata": {},
   "outputs": [],
   "source": [
    "fig,ax=plt.subplots(1,2,figsize=(12,4))\n",
    "ax[0].set_xlabel('Density Error (kg m$^{-3}$)')\n",
    "ax[0].set_ylabel('NO$_3$ ($\\mu$M) Error')\n",
    "m,cb=ErrErr(fig,ax[0],'rho','mod_rho',obsvar,modvar,(-3,3),(-15,15))\n",
    "ax[1].set_xlabel('Salinity Error (g kg$^{-1}$)')\n",
    "ax[1].set_ylabel('NO$_3$ ($\\mu$M) Error')\n",
    "m,cb=ErrErr(fig,ax[1],'AbsSal','mod_vosaline',obsvar,modvar,(-2.5,2.5),(-15,15))\n"
   ]
  },
  {
   "cell_type": "markdown",
   "metadata": {},
   "source": [
    "# Dissolved Silica"
   ]
  },
  {
   "cell_type": "code",
   "execution_count": null,
   "metadata": {},
   "outputs": [],
   "source": [
    "obsvar='Si'\n",
    "modvar='mod_silicon'\n",
    "statsDict[year]['dSi']=OrderedDict()\n",
    "for isub in statsubs:\n",
    "    statsDict[year]['dSi'][isub]=dict()\n",
    "    var=statsDict[year]['dSi'][isub]\n",
    "    var['N'],mmean,omean,var['Bias'],var['RMSE'],var['WSS']=et.stats(statsubs[isub].loc[:,[obsvar]],\n",
    "                                                                     statsubs[isub].loc[:,[modvar]])\n",
    "tbl,tdf=et.displayStats(statsDict[year]['dSi'],level='Subset',suborder=list(statsubs.keys()))\n",
    "tbl"
   ]
  },
  {
   "cell_type": "code",
   "execution_count": null,
   "metadata": {},
   "outputs": [],
   "source": [
    "mv=(0,80)\n",
    "fig, ax = plt.subplots(1,2,figsize = (16,7))\n",
    "ps,l=byDepth(ax[0],obsvar,modvar,mv)\n",
    "ax[0].set_title('Dissolved Silica ($\\mu$M) By Depth')\n",
    "\n",
    "ps,l=byRegion(ax[1],obsvar,modvar,mv)\n",
    "ax[1].set_title('Dissolved Silica ($\\mu$M) By Region');"
   ]
  },
  {
   "cell_type": "code",
   "execution_count": null,
   "metadata": {},
   "outputs": [],
   "source": [
    "fig, ax = plt.subplots(1,4,figsize = (16,3.3))\n",
    "bySeason(ax,obsvar,modvar,mv)\n",
    "fig,ax=plt.subplots(1,1,figsize=(20,.3))\n",
    "ax.plot(data.dtUTC,np.ones(np.shape(data.dtUTC)),'k.')\n",
    "ax.set_xlim((dt.datetime(year,1,1),dt.datetime(year,12,31)))\n",
    "ax.set_title('Data Timing')\n",
    "ax.yaxis.set_visible(False)"
   ]
  },
  {
   "cell_type": "code",
   "execution_count": null,
   "metadata": {},
   "outputs": [],
   "source": [
    "fig,ax=plt.subplots(1,2,figsize=(12,4))\n",
    "ax[0].set_xlabel('Density Error (kg m$^{-3}$)')\n",
    "ax[0].set_ylabel('dSi Error ($\\mu$M)')\n",
    "m,cb=ErrErr(fig,ax[0],'rho','mod_rho',obsvar,modvar,(-3,3),(-25,25))\n",
    "ax[1].set_xlabel('Salinity Error (g kg$^{-1}$)')\n",
    "ax[1].set_ylabel('dSi Error ($\\mu$M)')\n",
    "m,cb=ErrErr(fig,ax[1],'AbsSal','mod_vosaline',obsvar,modvar,(-2.5,2.5),(-25,25))"
   ]
  },
  {
   "cell_type": "markdown",
   "metadata": {},
   "source": [
    "### Profiles of NO3 and Dissolved Silica"
   ]
  },
  {
   "cell_type": "code",
   "execution_count": null,
   "metadata": {},
   "outputs": [],
   "source": [
    "fig, ax = plt.subplots(1,2,figsize = (15,8))\n",
    "cols=('crimson','red','orangered','darkorange','gold','chartreuse','green','lightseagreen','cyan',\n",
    "      'darkturquoise','royalblue','lightskyblue','blue','darkblue','mediumslateblue','blueviolet',\n",
    "      'darkmagenta','fuchsia','deeppink','pink')\n",
    "ii0=start_date\n",
    "for ii in range(0,int((end_date-start_date).days/30)):\n",
    "    iii=(data.dtUTC>=(start_date+dt.timedelta(days=ii*30)))&(data.dtUTC<(start_date+dt.timedelta(days=(ii+1)*30)))\n",
    "    ax[0].plot(data.loc[iii,['mod_nitrate']].values-data.loc[iii,['N']].values, data.loc[iii,['Z']].values, \n",
    "        '.', color = cols[ii],label=str(ii))\n",
    "    ax[1].plot(data.loc[iii,['mod_silicon']].values-data.loc[iii,['Si']].values, data.loc[iii,['Z']].values, \n",
    "        '.', color = cols[ii],label=str(ii))\n",
    "for axi in (ax[0],ax[1]):\n",
    "    axi.legend(loc=4)\n",
    "    axi.set_ylim(400,0)\n",
    "    axi.set_ylabel('Depth (m)')\n",
    "ax[0].set_xlabel('Model - Obs')\n",
    "ax[1].set_xlabel('Model - Obs')\n",
    "ax[0].set_xlim(-15,15)\n",
    "ax[1].set_xlim(-40,20)\n",
    "ax[0].set_title('NO3')\n",
    "ax[1].set_title('dSi')"
   ]
  },
  {
   "cell_type": "markdown",
   "metadata": {},
   "source": [
    "# dSi:NO3 Ratios"
   ]
  },
  {
   "cell_type": "code",
   "execution_count": null,
   "metadata": {},
   "outputs": [],
   "source": [
    "fig,ax=plt.subplots(1,2,figsize=(15,6))\n",
    "p1=ax[0].plot(dJDF['N'],dJDF['Si'],'b.',label='SJDF')\n",
    "p2=ax[0].plot(dSJGI['N'],dSJGI['Si'],'c.',label='SJGI')\n",
    "p3=ax[0].plot(dSOG['N'],dSOG['Si'],'y.',label='SOG')\n",
    "p4=ax[0].plot(dNSOG['N'],dNSOG['Si'],'m.',label='NSOG')\n",
    "ax[0].plot(np.arange(0,41),1.35*np.arange(0,41)+6.46,'k-',label='OBC')\n",
    "ax[0].set_title('Observed')\n",
    "ax[0].set_xlabel('NO3')\n",
    "ax[0].set_ylabel('dSi')\n",
    "ax[0].set_xlim(0,40)\n",
    "ax[0].set_ylim(0,85)\n",
    "ax[0].legend()\n",
    "\n",
    "p5=ax[1].plot(dJDF['mod_nitrate'],dJDF['mod_silicon'],'b.',label='SJDF')\n",
    "p6=ax[1].plot(dSJGI['mod_nitrate'],dSJGI['mod_silicon'],'c.',label='SJGI')\n",
    "p7=ax[1].plot(dSOG['mod_nitrate'],dSOG['mod_silicon'],'y.',label='SOG')\n",
    "p8=ax[1].plot(dNSOG['mod_nitrate'],dNSOG['mod_silicon'],'m.',label='NSOG')\n",
    "ax[1].plot(np.arange(0,41),1.35*np.arange(0,41)+6.46,'k-',label='OBC')\n",
    "ax[1].set_title('Model')\n",
    "ax[1].set_xlabel('NO3')\n",
    "ax[1].set_ylabel('dSi')\n",
    "ax[1].set_xlim(0,40)\n",
    "ax[1].set_ylim(0,85)\n",
    "ax[1].legend()\n",
    "#ax[0].plot(np.arange(0,35),1.3*np.arange(0,35),'k-')\n",
    "#ax[1].plot(np.arange(0,35),1.3*np.arange(0,35),'k-')"
   ]
  },
  {
   "cell_type": "code",
   "execution_count": null,
   "metadata": {},
   "outputs": [],
   "source": [
    "fig,ax=plt.subplots(1,2,figsize=(15,6))\n",
    "p1=ax[0].plot(dJDF['AbsSal'], dJDF['Si']-1.3*dJDF['N'],'b.',label='SJDF')\n",
    "p2=ax[0].plot(dSJGI['AbsSal'],dSJGI['Si']-1.3*dSJGI['N'],'c.',label='SJGI')\n",
    "p3=ax[0].plot(dSOG['AbsSal'],dSOG['Si']-1.3*dSOG['N'],'y.',label='SOG')\n",
    "p4=ax[0].plot(dNSOG['AbsSal'],dNSOG['Si']-1.3*dNSOG['N'],'m.',label='NSOG')\n",
    "ax[0].set_title('Observed')\n",
    "ax[0].set_xlabel('S (g/kg)')\n",
    "ax[0].set_ylabel('dSi-1.3NO3')\n",
    "ax[0].set_xlim(10,35)\n",
    "ax[0].set_ylim(0,45)\n",
    "ax[0].legend()\n",
    "\n",
    "p5=ax[1].plot(dJDF['mod_vosaline'],dJDF['mod_silicon']-1.3*dJDF['mod_nitrate'],'b.',label='SJDF')\n",
    "p6=ax[1].plot(dSJGI['mod_vosaline'],dSJGI['mod_silicon']-1.3*dSJGI['mod_nitrate'],'c.',label='SJGI')\n",
    "p7=ax[1].plot(dSOG['mod_vosaline'],dSOG['mod_silicon']-1.3*dSOG['mod_nitrate'],'y.',label='SOG')\n",
    "p8=ax[1].plot(dNSOG['mod_vosaline'],dNSOG['mod_silicon']-1.3*dNSOG['mod_nitrate'],'m.',label='NSOG')\n",
    "ax[1].set_title('Model')\n",
    "ax[1].set_xlabel('S (g/kg)')\n",
    "ax[1].set_ylabel('dSi-1.3NO3')\n",
    "ax[1].set_xlim(10,35)\n",
    "ax[1].set_ylim(0,45)\n",
    "ax[1].legend()"
   ]
  },
  {
   "cell_type": "markdown",
   "metadata": {},
   "source": [
    "# Chlorophyll"
   ]
  },
  {
   "cell_type": "code",
   "execution_count": null,
   "metadata": {},
   "outputs": [],
   "source": [
    "obsvar='l10_obsChl'\n",
    "modvar='l10_modChl'\n",
    "statsDict[year]['Chl log10']=OrderedDict()\n",
    "for isub in statsubs:\n",
    "    statsDict[year]['Chl log10'][isub]=dict()\n",
    "    var=statsDict[year]['Chl log10'][isub]\n",
    "    var['N'],mmean,omean,var['Bias'],var['RMSE'],var['WSS']=et.stats(statsubs[isub].loc[:,[obsvar]],\n",
    "                                                                     statsubs[isub].loc[:,[modvar]])\n",
    "obsvar='Chlorophyll_Extracted'\n",
    "modvar='mod_Chl'\n",
    "statsDict[year]['Chl']=OrderedDict()\n",
    "for isub in statsubs:\n",
    "    statsDict[year]['Chl'][isub]=dict()\n",
    "    var=statsDict[year]['Chl'][isub]\n",
    "    var['N'],mmean,omean,var['Bias'],var['RMSE'],var['WSS']=et.stats(statsubs[isub].loc[:,[obsvar]],\n",
    "                                                                     statsubs[isub].loc[:,[modvar]])\n",
    "\n",
    "tempD={'Chl log10':statsDict[year]['Chl log10'],'Chl':statsDict[year]['Chl']}\n",
    "tbl,tdf=et.displayStatsFlex(tempD,('Variable','Subset','Metric',''),\n",
    "                        ['Order','Subset','Metric'],\n",
    "                        ['Variable','Metric'],\n",
    "                        suborder=list(statsubs.keys()))\n",
    "tbl"
   ]
  },
  {
   "cell_type": "code",
   "execution_count": null,
   "metadata": {},
   "outputs": [],
   "source": [
    "fig, ax = plt.subplots(1,2,figsize = (14,6))\n",
    "ax[0].plot(np.arange(-.6,1.6,.1),np.arange(-.6,1.6,.1),'k-')\n",
    "ps=et.varvarPlot(ax[0],data,'l10_obsChl','l10_modChl','Z',(5,10,15,20,25),'z','m',('crimson','darkorange','lime','mediumseagreen','darkturquoise','navy'))\n",
    "ax[0].legend(handles=ps)\n",
    "ax[0].set_xlabel('Obs')\n",
    "ax[0].set_ylabel('Model')\n",
    "ax[0].set_title('log10[Chl ($\\mu$g/L)+0.01] By Depth')\n",
    "ax[1].plot(np.arange(0,35),np.arange(0,35),'k-')\n",
    "ps=et.varvarPlot(ax[1],data,'Chlorophyll_Extracted','mod_Chl','Z',(5,10,15,20,25),'z','m',('crimson','darkorange','lime','mediumseagreen','darkturquoise','navy'))\n",
    "ax[1].legend(handles=ps)\n",
    "ax[1].set_xlabel('Obs')\n",
    "ax[1].set_ylabel('Model')\n",
    "ax[1].set_title('Chl ($\\mu$g/L) By Depth');"
   ]
  },
  {
   "cell_type": "code",
   "execution_count": null,
   "metadata": {},
   "outputs": [],
   "source": [
    "fig, ax = plt.subplots(1,2,figsize = (14,6))\n",
    "obsvar='l10_obsChl'; modvar='l10_modChl'\n",
    "ps,l=byRegion(ax[0],obsvar,modvar,(-.6,1.6))\n",
    "ax[0].set_title('Log10 Chl ($\\mu$g/L) By Region');\n",
    "\n",
    "obsvar='Chlorophyll_Extracted'; modvar='mod_Chl'\n",
    "ps,l=byRegion(ax[1],obsvar,modvar,(0,30))\n",
    "ax[1].set_title('Chl ($\\mu$g/L) By Region');"
   ]
  },
  {
   "cell_type": "code",
   "execution_count": null,
   "metadata": {},
   "outputs": [],
   "source": [
    "fig, ax = plt.subplots(1,1,figsize = (14,6))\n",
    "obsvar='l10_obsChl'; modvar='l10_modChl'\n",
    "with nc.Dataset('/data/eolson/results/MEOPAR/NEMO-forcing-new/grid/mesh_mask201702.nc') as fm:\n",
    "    bathy=np.sum(fm.variables['tmask'][0,:,:,:]*fm.variables['e3t_0'][0,:,:,:],0)\n",
    "data['bathy']=[bathy[j,i] for j,i in zip(data['j'],data['i'])]\n",
    "ax.plot(data['bathy'],data['mod_Chl']-data['Chl'],'k.')\n",
    "ax.set_title('Chl Residuals ($\\mu$g/L) vs Model Depth');\n",
    "ax.set_xlabel('Model Water Column Depth (m)')\n",
    "ax.set_ylabel('Mod - Obs Chl ($\\mu$g/L)');"
   ]
  },
  {
   "cell_type": "markdown",
   "metadata": {},
   "source": [
    "## Conservative Temperature "
   ]
  },
  {
   "cell_type": "code",
   "execution_count": null,
   "metadata": {},
   "outputs": [],
   "source": [
    "obsvar='ConsT'\n",
    "modvar='mod_votemper'\n",
    "statsDict[year]['Temperature']=OrderedDict()\n",
    "for isub in statsubs:\n",
    "    statsDict[year]['Temperature'][isub]=dict()\n",
    "    var=statsDict[year]['Temperature'][isub]\n",
    "    var['N'],mmean,omean,var['Bias'],var['RMSE'],var['WSS']=et.stats(statsubs[isub].loc[:,[obsvar]],\n",
    "                                                                     statsubs[isub].loc[:,[modvar]])\n",
    "tbl,tdf=et.displayStats(statsDict[year]['Temperature'],level='Subset',suborder=list(statsubs.keys()))\n",
    "tbl"
   ]
  },
  {
   "cell_type": "code",
   "execution_count": null,
   "metadata": {},
   "outputs": [],
   "source": [
    "fig, ax = plt.subplots(1,2,figsize = (16,7))\n",
    "ps,l=byDepth(ax[0],obsvar,modvar,(5,20))\n",
    "ax[0].set_title('$\\Theta$ ($^{\\circ}$C) By Depth')\n",
    "\n",
    "ps,l=byRegion(ax[1],obsvar,modvar,(5,20))\n",
    "ax[1].set_title('$\\Theta$ ($^{\\circ}$C) By Region');"
   ]
  },
  {
   "cell_type": "code",
   "execution_count": null,
   "metadata": {},
   "outputs": [],
   "source": [
    "fig, ax = plt.subplots(1,4,figsize = (16,3.3))\n",
    "bySeason(ax,obsvar,modvar,mv)\n",
    "fig,ax=plt.subplots(1,1,figsize=(20,.3))\n",
    "ax.plot(data.dtUTC,np.ones(np.shape(data.dtUTC)),'k.')\n",
    "ax.set_xlim((dt.datetime(year,1,1),dt.datetime(year,12,31)))\n",
    "ax.set_title('Data Timing')\n",
    "ax.yaxis.set_visible(False)"
   ]
  },
  {
   "cell_type": "markdown",
   "metadata": {},
   "source": [
    "## Reference Salinity"
   ]
  },
  {
   "cell_type": "code",
   "execution_count": null,
   "metadata": {},
   "outputs": [],
   "source": [
    "obsvar='AbsSal'\n",
    "modvar='mod_vosaline'\n",
    "statsDict[year]['Salinity']=OrderedDict()\n",
    "for isub in statsubs:\n",
    "    statsDict[year]['Salinity'][isub]=dict()\n",
    "    var=statsDict[year]['Salinity'][isub]\n",
    "    var['N'],mmean,omean,var['Bias'],var['RMSE'],var['WSS']=et.stats(statsubs[isub].loc[:,[obsvar]],\n",
    "                                                                     statsubs[isub].loc[:,[modvar]])\n",
    "tbl,tdf=et.displayStats(statsDict[year]['Salinity'],level='Subset',suborder=list(statsubs.keys()))\n",
    "tbl"
   ]
  },
  {
   "cell_type": "code",
   "execution_count": null,
   "metadata": {},
   "outputs": [],
   "source": [
    "fig, ax = plt.subplots(1,2,figsize = (16,7))\n",
    "ps,l=byDepth(ax[0],obsvar,modvar,(0,36))\n",
    "ax[0].set_title('S$_A$ (g kg$^{-1}$) By Depth')\n",
    "\n",
    "ps,l=byRegion(ax[1],obsvar,modvar,(0,36))\n",
    "ax[1].set_title('S$_A$ (g kg$^{-1}$) By Region');"
   ]
  },
  {
   "cell_type": "code",
   "execution_count": null,
   "metadata": {},
   "outputs": [],
   "source": [
    "fig, ax = plt.subplots(1,4,figsize = (16,3.3))\n",
    "bySeason(ax,obsvar,modvar,(0,36))\n",
    "fig,ax=plt.subplots(1,1,figsize=(20,.3))\n",
    "ax.plot(data.dtUTC,np.ones(np.shape(data.dtUTC)),'k.')\n",
    "ax.set_xlim((dt.datetime(year,1,1),dt.datetime(year,12,31)))\n",
    "ax.set_title('Data Timing')\n",
    "ax.yaxis.set_visible(False)"
   ]
  },
  {
   "cell_type": "markdown",
   "metadata": {},
   "source": [
    "### Density"
   ]
  },
  {
   "cell_type": "code",
   "execution_count": null,
   "metadata": {},
   "outputs": [],
   "source": [
    "obsvar='rho'\n",
    "modvar='mod_rho'\n",
    "statsDict[year]['Density']=OrderedDict()\n",
    "for isub in statsubs:\n",
    "    statsDict[year]['Density'][isub]=dict()\n",
    "    var=statsDict[year]['Density'][isub]\n",
    "    var['N'],mmean,omean,var['Bias'],var['RMSE'],var['WSS']=et.stats(statsubs[isub].loc[:,[obsvar]],\n",
    "                                                                     statsubs[isub].loc[:,[modvar]])\n",
    "tbl,tdf=et.displayStats(statsDict[year]['Density'],level='Subset',suborder=list(statsubs.keys()))\n",
    "tbl"
   ]
  },
  {
   "cell_type": "code",
   "execution_count": null,
   "metadata": {},
   "outputs": [],
   "source": [
    "fig, ax = plt.subplots(1,2,figsize = (16,7))\n",
    "ps,l=byDepth(ax[0],obsvar,modvar,(1010,1030))\n",
    "ax[0].set_title('Density (kg m$^{-3}$) By Depth')\n",
    "\n",
    "ps,l=byRegion(ax[1],obsvar,modvar,(1010,1030))\n",
    "ax[1].set_title('Density (kg m$^{-3}$) By Region');"
   ]
  },
  {
   "cell_type": "code",
   "execution_count": null,
   "metadata": {},
   "outputs": [],
   "source": [
    "fig, ax = plt.subplots(1,4,figsize = (16,3.3))\n",
    "bySeason(ax,obsvar,modvar,(1010,1030))\n",
    "fig,ax=plt.subplots(1,1,figsize=(20,.3))\n",
    "ax.plot(data.dtUTC,np.ones(np.shape(data.dtUTC)),'k.')\n",
    "ax.set_xlim((dt.datetime(year,1,1),dt.datetime(year,12,31)))\n",
    "ax.set_title('Data Timing')\n",
    "ax.yaxis.set_visible(False)"
   ]
  },
  {
   "cell_type": "markdown",
   "metadata": {},
   "source": [
    "### Temperature-Salinity by Region"
   ]
  },
  {
   "cell_type": "code",
   "execution_count": null,
   "metadata": {},
   "outputs": [],
   "source": [
    "def tsplot(ax,svar,tvar):\n",
    "    limsS=(0,36)\n",
    "    limsT=(5,20)\n",
    "    ss,tt=np.meshgrid(np.linspace(limsS[0],limsS[1],20),np.linspace(limsT[0],limsT[1],20))\n",
    "    rho=gsw.rho(ss,tt,np.zeros(np.shape(ss)))\n",
    "    r=ax.contour(ss,tt,rho,colors='k')\n",
    "    ps1=ax.plot(dJDF[svar],dJDF[tvar],'b.',label='SJDF')\n",
    "    ps2=ax.plot(dSJGI[svar],dSJGI[tvar],'c.',label='SJGI')\n",
    "    ps3=ax.plot(dSOG[svar],dSOG[tvar],'y.',label='SOG')\n",
    "    ps4=ax.plot(dNSOG[svar],dNSOG[tvar],'m.',label='NSOG')\n",
    "    l=ax.legend(handles=[ps1[0],ps2[0],ps3[0],ps4[0]],bbox_to_anchor=(1.55,1))\n",
    "    ax.set_ylim(limsT)\n",
    "    ax.set_xlim(limsS)\n",
    "    ax.set_ylabel('$\\Theta$ ($^{\\circ}$C)')\n",
    "    ax.set_xlabel('S$_A$ (g kg$^{-1}$)')\n",
    "    ax.set_aspect((limsS[1]-limsS[0])/(limsT[1]-limsT[0]))\n",
    "    return"
   ]
  },
  {
   "cell_type": "code",
   "execution_count": null,
   "metadata": {},
   "outputs": [],
   "source": [
    "fig,ax=plt.subplots(1,2,figsize=(16,4))\n",
    "tsplot(ax[0],'AbsSal','ConsT')\n",
    "ax[0].set_title('Observed')\n",
    "tsplot(ax[1],'mod_vosaline','mod_votemper')\n",
    "ax[1].set_title('Modelled')"
   ]
  },
  {
   "cell_type": "code",
   "execution_count": null,
   "metadata": {},
   "outputs": [],
   "source": [
    "# save stats dict to json file:\n",
    "with open('vET-HC1905-DFO-NutChlPhys-stats.json', 'w') as fstat:\n",
    "    json.dump(statsDict, fstat, indent=4);"
   ]
  },
  {
   "cell_type": "markdown",
   "metadata": {},
   "source": [
    "### Display All Stats"
   ]
  },
  {
   "cell_type": "code",
   "execution_count": null,
   "metadata": {},
   "outputs": [],
   "source": [
    "tbl,tdf=et.displayStats(statsDict[year],level='Variable',suborder=list(statsubs.keys()))\n",
    "tbl"
   ]
  }
 ],
 "metadata": {
  "anaconda-cloud": {},
  "kernelspec": {
   "display_name": "Python (py38)",
   "language": "python",
   "name": "py38"
  },
  "language_info": {
   "codemirror_mode": {
    "name": "ipython",
    "version": 3
   },
   "file_extension": ".py",
   "mimetype": "text/x-python",
   "name": "python",
   "nbconvert_exporter": "python",
   "pygments_lexer": "ipython3",
   "version": "3.8.1"
  }
 },
 "nbformat": 4,
 "nbformat_minor": 2
}
