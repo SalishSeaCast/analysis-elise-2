{
 "cells": [
  {
   "cell_type": "code",
   "execution_count": 1,
   "metadata": {},
   "outputs": [],
   "source": [
    "import numpy as np\n",
    "import matplotlib.pyplot as plt\n",
    "import os\n",
    "import pandas as pd\n",
    "import netCDF4 as nc\n",
    "import datetime as dt\n",
    "from salishsea_tools import evaltools as et, viz_tools\n",
    "import gsw\n",
    "import matplotlib.gridspec as gridspec\n",
    "import matplotlib as mpl\n",
    "import matplotlib.dates as mdates\n",
    "import cmocean as cmo\n",
    "import scipy.interpolate as sinterp\n",
    "import pickle\n",
    "import cmocean\n",
    "import json\n",
    "import f90nml\n",
    "from collections import OrderedDict\n",
    "\n",
    "fs=16\n",
    "mpl.rc('xtick', labelsize=fs)\n",
    "mpl.rc('ytick', labelsize=fs)\n",
    "mpl.rc('legend', fontsize=fs)\n",
    "mpl.rc('axes', titlesize=fs)\n",
    "mpl.rc('axes', labelsize=fs)\n",
    "mpl.rc('figure', titlesize=fs)\n",
    "mpl.rc('font', size=fs)\n",
    "mpl.rc('font', family='sans-serif', weight='normal', style='normal')\n",
    "\n",
    "import warnings\n",
    "#warnings.filterwarnings('ignore')\n",
    "from IPython.display import Markdown, display\n",
    "\n",
    "%matplotlib inline"
   ]
  },
  {
   "cell_type": "raw",
   "metadata": {},
   "source": [
    "from IPython.display import HTML\n",
    "\n",
    "HTML('''<script>\n",
    "code_show=true; \n",
    "function code_toggle() {\n",
    " if (code_show){\n",
    " $('div.input').hide();\n",
    " } else {\n",
    " $('div.input').show();\n",
    " }\n",
    " code_show = !code_show\n",
    "} \n",
    "$( document ).ready(code_toggle);\n",
    "</script>\n",
    "\n",
    "<form action=\"javascript:code_toggle()\"><input type=\"submit\" value=\"Click here to toggle on/off the raw code.\"></form>''')\n"
   ]
  },
  {
   "cell_type": "code",
   "execution_count": 2,
   "metadata": {},
   "outputs": [],
   "source": [
    "year=2019\n",
    "PATH= '/results2/SalishSea/nowcast-green.201905/'\n",
    "datadir='/ocean/eolson/MEOPAR/obs/WADE/ptools_data/ecology'"
   ]
  },
  {
   "cell_type": "code",
   "execution_count": 3,
   "metadata": {},
   "outputs": [
    {
     "data": {
      "text/markdown": [
       "## Year: 2019"
      ],
      "text/plain": [
       "<IPython.core.display.Markdown object>"
      ]
     },
     "metadata": {},
     "output_type": "display_data"
    }
   ],
   "source": [
    "display(Markdown('''## Year: '''+ str(year)))"
   ]
  },
  {
   "cell_type": "code",
   "execution_count": 4,
   "metadata": {},
   "outputs": [
    {
     "data": {
      "text/markdown": [
       "### Model output: /results2/SalishSea/nowcast-green.201905/"
      ],
      "text/plain": [
       "<IPython.core.display.Markdown object>"
      ]
     },
     "metadata": {},
     "output_type": "display_data"
    }
   ],
   "source": [
    "display(Markdown('''### Model output: '''+ PATH))"
   ]
  },
  {
   "cell_type": "markdown",
   "metadata": {},
   "source": [
    "## Yearly model-data comparisons of nutrients, chlorophyll, temperature and salinity between 201905 runs and WADE observations"
   ]
  },
  {
   "cell_type": "markdown",
   "metadata": {},
   "source": [
    "### load observations"
   ]
  },
  {
   "cell_type": "code",
   "execution_count": 5,
   "metadata": {},
   "outputs": [],
   "source": [
    "dfSta=pickle.load(open(os.path.join(datadir,'sta_df.p'),'rb'))"
   ]
  },
  {
   "cell_type": "code",
   "execution_count": 6,
   "metadata": {},
   "outputs": [
    {
     "data": {
      "text/html": [
       "<div>\n",
       "<style scoped>\n",
       "    .dataframe tbody tr th:only-of-type {\n",
       "        vertical-align: middle;\n",
       "    }\n",
       "\n",
       "    .dataframe tbody tr th {\n",
       "        vertical-align: top;\n",
       "    }\n",
       "\n",
       "    .dataframe thead th {\n",
       "        text-align: right;\n",
       "    }\n",
       "</style>\n",
       "<table border=\"1\" class=\"dataframe\">\n",
       "  <thead>\n",
       "    <tr style=\"text-align: right;\">\n",
       "      <th></th>\n",
       "      <th>Desig</th>\n",
       "      <th>Descrip</th>\n",
       "      <th>Basin</th>\n",
       "      <th>Max_Depth</th>\n",
       "      <th>Latitude</th>\n",
       "      <th>Longitude</th>\n",
       "    </tr>\n",
       "    <tr>\n",
       "      <th>Station</th>\n",
       "      <th></th>\n",
       "      <th></th>\n",
       "      <th></th>\n",
       "      <th></th>\n",
       "      <th></th>\n",
       "      <th></th>\n",
       "    </tr>\n",
       "  </thead>\n",
       "  <tbody>\n",
       "    <tr>\n",
       "      <th>ADM001</th>\n",
       "      <td>C</td>\n",
       "      <td>Admiralty Inlet - Bush Pt.</td>\n",
       "      <td>Admiralty Inlet</td>\n",
       "      <td>114</td>\n",
       "      <td>48.029813</td>\n",
       "      <td>-122.617933</td>\n",
       "    </tr>\n",
       "    <tr>\n",
       "      <th>ADM002</th>\n",
       "      <td>C</td>\n",
       "      <td>Admiralty Inlet (north) - Quimper Pn.</td>\n",
       "      <td>Admiralty Inlet</td>\n",
       "      <td>79</td>\n",
       "      <td>48.187318</td>\n",
       "      <td>-122.842950</td>\n",
       "    </tr>\n",
       "    <tr>\n",
       "      <th>ADM003</th>\n",
       "      <td>C</td>\n",
       "      <td>Admiralty Inlet (south)</td>\n",
       "      <td>Admiralty Inlet</td>\n",
       "      <td>118</td>\n",
       "      <td>47.878983</td>\n",
       "      <td>-122.483195</td>\n",
       "    </tr>\n",
       "    <tr>\n",
       "      <th>BLL009</th>\n",
       "      <td>C</td>\n",
       "      <td>Bellingham Bay - Pt. Frances</td>\n",
       "      <td>Strait of Georgia</td>\n",
       "      <td>31</td>\n",
       "      <td>48.685940</td>\n",
       "      <td>-122.599618</td>\n",
       "    </tr>\n",
       "    <tr>\n",
       "      <th>BUD005</th>\n",
       "      <td>C</td>\n",
       "      <td>Budd Inlet - Olympia Shoal</td>\n",
       "      <td>South Basin</td>\n",
       "      <td>22</td>\n",
       "      <td>47.092040</td>\n",
       "      <td>-122.918197</td>\n",
       "    </tr>\n",
       "  </tbody>\n",
       "</table>\n",
       "</div>"
      ],
      "text/plain": [
       "        Desig                                Descrip              Basin  \\\n",
       "Station                                                                   \n",
       "ADM001      C             Admiralty Inlet - Bush Pt.    Admiralty Inlet   \n",
       "ADM002      C  Admiralty Inlet (north) - Quimper Pn.    Admiralty Inlet   \n",
       "ADM003      C                Admiralty Inlet (south)    Admiralty Inlet   \n",
       "BLL009      C           Bellingham Bay - Pt. Frances  Strait of Georgia   \n",
       "BUD005      C             Budd Inlet - Olympia Shoal        South Basin   \n",
       "\n",
       "         Max_Depth   Latitude   Longitude  \n",
       "Station                                    \n",
       "ADM001         114  48.029813 -122.617933  \n",
       "ADM002          79  48.187318 -122.842950  \n",
       "ADM003         118  47.878983 -122.483195  \n",
       "BLL009          31  48.685940 -122.599618  \n",
       "BUD005          22  47.092040 -122.918197  "
      ]
     },
     "execution_count": 6,
     "metadata": {},
     "output_type": "execute_result"
    }
   ],
   "source": [
    "dfSta.head()"
   ]
  },
  {
   "cell_type": "code",
   "execution_count": 7,
   "metadata": {},
   "outputs": [],
   "source": [
    "dfBot=pickle.load(open(os.path.join(datadir,f'Bottles_{str(year)}.p'),'rb'))"
   ]
  },
  {
   "cell_type": "code",
   "execution_count": 8,
   "metadata": {},
   "outputs": [
    {
     "data": {
      "text/html": [
       "<div>\n",
       "<style scoped>\n",
       "    .dataframe tbody tr th:only-of-type {\n",
       "        vertical-align: middle;\n",
       "    }\n",
       "\n",
       "    .dataframe tbody tr th {\n",
       "        vertical-align: top;\n",
       "    }\n",
       "\n",
       "    .dataframe thead th {\n",
       "        text-align: right;\n",
       "    }\n",
       "</style>\n",
       "<table border=\"1\" class=\"dataframe\">\n",
       "  <thead>\n",
       "    <tr style=\"text-align: right;\">\n",
       "      <th></th>\n",
       "      <th>Station</th>\n",
       "      <th>Date</th>\n",
       "      <th>UTCDateTime</th>\n",
       "      <th>Z</th>\n",
       "      <th>PO4(uM)D</th>\n",
       "      <th>SiOH4(uM)D</th>\n",
       "      <th>NO3(uM)D</th>\n",
       "      <th>NO2(uM)D</th>\n",
       "      <th>NH4(uM)D</th>\n",
       "      <th>DIN</th>\n",
       "      <th>Znom</th>\n",
       "    </tr>\n",
       "  </thead>\n",
       "  <tbody>\n",
       "    <tr>\n",
       "      <th>0</th>\n",
       "      <td>ADM001</td>\n",
       "      <td>2019-01-08</td>\n",
       "      <td>NaN</td>\n",
       "      <td>-30.119</td>\n",
       "      <td>NaN</td>\n",
       "      <td>NaN</td>\n",
       "      <td>NaN</td>\n",
       "      <td>NaN</td>\n",
       "      <td>NaN</td>\n",
       "      <td>0.0</td>\n",
       "      <td>-30.0</td>\n",
       "    </tr>\n",
       "    <tr>\n",
       "      <th>1</th>\n",
       "      <td>ADM001</td>\n",
       "      <td>2019-01-08</td>\n",
       "      <td>NaN</td>\n",
       "      <td>-10.262</td>\n",
       "      <td>NaN</td>\n",
       "      <td>NaN</td>\n",
       "      <td>NaN</td>\n",
       "      <td>NaN</td>\n",
       "      <td>NaN</td>\n",
       "      <td>0.0</td>\n",
       "      <td>-10.0</td>\n",
       "    </tr>\n",
       "    <tr>\n",
       "      <th>2</th>\n",
       "      <td>ADM001</td>\n",
       "      <td>2019-01-08</td>\n",
       "      <td>NaN</td>\n",
       "      <td>-0.587</td>\n",
       "      <td>NaN</td>\n",
       "      <td>NaN</td>\n",
       "      <td>NaN</td>\n",
       "      <td>NaN</td>\n",
       "      <td>NaN</td>\n",
       "      <td>0.0</td>\n",
       "      <td>0.0</td>\n",
       "    </tr>\n",
       "    <tr>\n",
       "      <th>3</th>\n",
       "      <td>ADM001</td>\n",
       "      <td>2019-02-06</td>\n",
       "      <td>NaN</td>\n",
       "      <td>-29.444</td>\n",
       "      <td>NaN</td>\n",
       "      <td>NaN</td>\n",
       "      <td>NaN</td>\n",
       "      <td>NaN</td>\n",
       "      <td>NaN</td>\n",
       "      <td>0.0</td>\n",
       "      <td>-30.0</td>\n",
       "    </tr>\n",
       "    <tr>\n",
       "      <th>4</th>\n",
       "      <td>ADM001</td>\n",
       "      <td>2019-02-06</td>\n",
       "      <td>NaN</td>\n",
       "      <td>-9.722</td>\n",
       "      <td>NaN</td>\n",
       "      <td>NaN</td>\n",
       "      <td>NaN</td>\n",
       "      <td>NaN</td>\n",
       "      <td>NaN</td>\n",
       "      <td>0.0</td>\n",
       "      <td>-10.0</td>\n",
       "    </tr>\n",
       "  </tbody>\n",
       "</table>\n",
       "</div>"
      ],
      "text/plain": [
       "  Station       Date  UTCDateTime       Z  PO4(uM)D  SiOH4(uM)D  NO3(uM)D  \\\n",
       "0  ADM001 2019-01-08          NaN -30.119       NaN         NaN       NaN   \n",
       "1  ADM001 2019-01-08          NaN -10.262       NaN         NaN       NaN   \n",
       "2  ADM001 2019-01-08          NaN  -0.587       NaN         NaN       NaN   \n",
       "3  ADM001 2019-02-06          NaN -29.444       NaN         NaN       NaN   \n",
       "4  ADM001 2019-02-06          NaN  -9.722       NaN         NaN       NaN   \n",
       "\n",
       "   NO2(uM)D  NH4(uM)D  DIN  Znom  \n",
       "0       NaN       NaN  0.0 -30.0  \n",
       "1       NaN       NaN  0.0 -10.0  \n",
       "2       NaN       NaN  0.0   0.0  \n",
       "3       NaN       NaN  0.0 -30.0  \n",
       "4       NaN       NaN  0.0 -10.0  "
      ]
     },
     "execution_count": 8,
     "metadata": {},
     "output_type": "execute_result"
    }
   ],
   "source": [
    "dfBot.head()"
   ]
  },
  {
   "cell_type": "code",
   "execution_count": 9,
   "metadata": {
    "scrolled": true
   },
   "outputs": [
    {
     "data": {
      "text/html": [
       "<div>\n",
       "<style scoped>\n",
       "    .dataframe tbody tr th:only-of-type {\n",
       "        vertical-align: middle;\n",
       "    }\n",
       "\n",
       "    .dataframe tbody tr th {\n",
       "        vertical-align: top;\n",
       "    }\n",
       "\n",
       "    .dataframe thead th {\n",
       "        text-align: right;\n",
       "    }\n",
       "</style>\n",
       "<table border=\"1\" class=\"dataframe\">\n",
       "  <thead>\n",
       "    <tr style=\"text-align: right;\">\n",
       "      <th></th>\n",
       "      <th>Station</th>\n",
       "      <th>Desig</th>\n",
       "      <th>Descrip</th>\n",
       "      <th>Basin</th>\n",
       "      <th>Max_Depth</th>\n",
       "      <th>Latitude</th>\n",
       "      <th>Longitude</th>\n",
       "      <th>Date</th>\n",
       "      <th>UTCDateTime</th>\n",
       "      <th>Z</th>\n",
       "      <th>PO4(uM)D</th>\n",
       "      <th>SiOH4(uM)D</th>\n",
       "      <th>NO3(uM)D</th>\n",
       "      <th>NO2(uM)D</th>\n",
       "      <th>NH4(uM)D</th>\n",
       "      <th>DIN</th>\n",
       "      <th>Znom</th>\n",
       "    </tr>\n",
       "  </thead>\n",
       "  <tbody>\n",
       "    <tr>\n",
       "      <th>0</th>\n",
       "      <td>ADM001</td>\n",
       "      <td>C</td>\n",
       "      <td>Admiralty Inlet - Bush Pt.</td>\n",
       "      <td>Admiralty Inlet</td>\n",
       "      <td>114</td>\n",
       "      <td>48.029813</td>\n",
       "      <td>-122.617933</td>\n",
       "      <td>2019-01-08</td>\n",
       "      <td>NaN</td>\n",
       "      <td>-30.119</td>\n",
       "      <td>NaN</td>\n",
       "      <td>NaN</td>\n",
       "      <td>NaN</td>\n",
       "      <td>NaN</td>\n",
       "      <td>NaN</td>\n",
       "      <td>0.0</td>\n",
       "      <td>-30.0</td>\n",
       "    </tr>\n",
       "    <tr>\n",
       "      <th>1</th>\n",
       "      <td>ADM001</td>\n",
       "      <td>C</td>\n",
       "      <td>Admiralty Inlet - Bush Pt.</td>\n",
       "      <td>Admiralty Inlet</td>\n",
       "      <td>114</td>\n",
       "      <td>48.029813</td>\n",
       "      <td>-122.617933</td>\n",
       "      <td>2019-01-08</td>\n",
       "      <td>NaN</td>\n",
       "      <td>-10.262</td>\n",
       "      <td>NaN</td>\n",
       "      <td>NaN</td>\n",
       "      <td>NaN</td>\n",
       "      <td>NaN</td>\n",
       "      <td>NaN</td>\n",
       "      <td>0.0</td>\n",
       "      <td>-10.0</td>\n",
       "    </tr>\n",
       "    <tr>\n",
       "      <th>2</th>\n",
       "      <td>ADM001</td>\n",
       "      <td>C</td>\n",
       "      <td>Admiralty Inlet - Bush Pt.</td>\n",
       "      <td>Admiralty Inlet</td>\n",
       "      <td>114</td>\n",
       "      <td>48.029813</td>\n",
       "      <td>-122.617933</td>\n",
       "      <td>2019-01-08</td>\n",
       "      <td>NaN</td>\n",
       "      <td>-0.587</td>\n",
       "      <td>NaN</td>\n",
       "      <td>NaN</td>\n",
       "      <td>NaN</td>\n",
       "      <td>NaN</td>\n",
       "      <td>NaN</td>\n",
       "      <td>0.0</td>\n",
       "      <td>0.0</td>\n",
       "    </tr>\n",
       "    <tr>\n",
       "      <th>3</th>\n",
       "      <td>ADM001</td>\n",
       "      <td>C</td>\n",
       "      <td>Admiralty Inlet - Bush Pt.</td>\n",
       "      <td>Admiralty Inlet</td>\n",
       "      <td>114</td>\n",
       "      <td>48.029813</td>\n",
       "      <td>-122.617933</td>\n",
       "      <td>2019-02-06</td>\n",
       "      <td>NaN</td>\n",
       "      <td>-29.444</td>\n",
       "      <td>NaN</td>\n",
       "      <td>NaN</td>\n",
       "      <td>NaN</td>\n",
       "      <td>NaN</td>\n",
       "      <td>NaN</td>\n",
       "      <td>0.0</td>\n",
       "      <td>-30.0</td>\n",
       "    </tr>\n",
       "    <tr>\n",
       "      <th>4</th>\n",
       "      <td>ADM001</td>\n",
       "      <td>C</td>\n",
       "      <td>Admiralty Inlet - Bush Pt.</td>\n",
       "      <td>Admiralty Inlet</td>\n",
       "      <td>114</td>\n",
       "      <td>48.029813</td>\n",
       "      <td>-122.617933</td>\n",
       "      <td>2019-02-06</td>\n",
       "      <td>NaN</td>\n",
       "      <td>-9.722</td>\n",
       "      <td>NaN</td>\n",
       "      <td>NaN</td>\n",
       "      <td>NaN</td>\n",
       "      <td>NaN</td>\n",
       "      <td>NaN</td>\n",
       "      <td>0.0</td>\n",
       "      <td>-10.0</td>\n",
       "    </tr>\n",
       "  </tbody>\n",
       "</table>\n",
       "</div>"
      ],
      "text/plain": [
       "  Station Desig                     Descrip            Basin  Max_Depth  \\\n",
       "0  ADM001     C  Admiralty Inlet - Bush Pt.  Admiralty Inlet        114   \n",
       "1  ADM001     C  Admiralty Inlet - Bush Pt.  Admiralty Inlet        114   \n",
       "2  ADM001     C  Admiralty Inlet - Bush Pt.  Admiralty Inlet        114   \n",
       "3  ADM001     C  Admiralty Inlet - Bush Pt.  Admiralty Inlet        114   \n",
       "4  ADM001     C  Admiralty Inlet - Bush Pt.  Admiralty Inlet        114   \n",
       "\n",
       "    Latitude   Longitude       Date  UTCDateTime       Z  PO4(uM)D  \\\n",
       "0  48.029813 -122.617933 2019-01-08          NaN -30.119       NaN   \n",
       "1  48.029813 -122.617933 2019-01-08          NaN -10.262       NaN   \n",
       "2  48.029813 -122.617933 2019-01-08          NaN  -0.587       NaN   \n",
       "3  48.029813 -122.617933 2019-02-06          NaN -29.444       NaN   \n",
       "4  48.029813 -122.617933 2019-02-06          NaN  -9.722       NaN   \n",
       "\n",
       "   SiOH4(uM)D  NO3(uM)D  NO2(uM)D  NH4(uM)D  DIN  Znom  \n",
       "0         NaN       NaN       NaN       NaN  0.0 -30.0  \n",
       "1         NaN       NaN       NaN       NaN  0.0 -10.0  \n",
       "2         NaN       NaN       NaN       NaN  0.0   0.0  \n",
       "3         NaN       NaN       NaN       NaN  0.0 -30.0  \n",
       "4         NaN       NaN       NaN       NaN  0.0 -10.0  "
      ]
     },
     "execution_count": 9,
     "metadata": {},
     "output_type": "execute_result"
    }
   ],
   "source": [
    "df1=pd.merge(left=dfSta,right=dfBot,how='right',\n",
    "             left_on='Station',right_on='Station')\n",
    "#right join means all rows in right table (dfBot) are included in output\n",
    "df1.head()"
   ]
  },
  {
   "cell_type": "code",
   "execution_count": 10,
   "metadata": {},
   "outputs": [
    {
     "data": {
      "text/html": [
       "<div>\n",
       "<style scoped>\n",
       "    .dataframe tbody tr th:only-of-type {\n",
       "        vertical-align: middle;\n",
       "    }\n",
       "\n",
       "    .dataframe tbody tr th {\n",
       "        vertical-align: top;\n",
       "    }\n",
       "\n",
       "    .dataframe thead th {\n",
       "        text-align: right;\n",
       "    }\n",
       "</style>\n",
       "<table border=\"1\" class=\"dataframe\">\n",
       "  <thead>\n",
       "    <tr style=\"text-align: right;\">\n",
       "      <th></th>\n",
       "      <th>Station</th>\n",
       "      <th>Desig</th>\n",
       "      <th>Descrip</th>\n",
       "      <th>Basin</th>\n",
       "      <th>Max_Depth</th>\n",
       "      <th>Latitude</th>\n",
       "      <th>Longitude</th>\n",
       "      <th>Date</th>\n",
       "      <th>UTCDateTime</th>\n",
       "      <th>Z</th>\n",
       "      <th>PO4(uM)D</th>\n",
       "      <th>SiOH4(uM)D</th>\n",
       "      <th>NO3(uM)D</th>\n",
       "      <th>NO2(uM)D</th>\n",
       "      <th>NH4(uM)D</th>\n",
       "      <th>DIN</th>\n",
       "      <th>Znom</th>\n",
       "    </tr>\n",
       "  </thead>\n",
       "  <tbody>\n",
       "  </tbody>\n",
       "</table>\n",
       "</div>"
      ],
      "text/plain": [
       "Empty DataFrame\n",
       "Columns: [Station, Desig, Descrip, Basin, Max_Depth, Latitude, Longitude, Date, UTCDateTime, Z, PO4(uM)D, SiOH4(uM)D, NO3(uM)D, NO2(uM)D, NH4(uM)D, DIN, Znom]\n",
       "Index: []"
      ]
     },
     "execution_count": 10,
     "metadata": {},
     "output_type": "execute_result"
    }
   ],
   "source": [
    "# check that there are no stations without lat and lon:\n",
    "df1.loc[pd.isnull(df1['Latitude'])]"
   ]
  },
  {
   "cell_type": "code",
   "execution_count": 11,
   "metadata": {},
   "outputs": [
    {
     "data": {
      "text/plain": [
       "(1171, 1171, 39)"
      ]
     },
     "execution_count": 11,
     "metadata": {},
     "output_type": "execute_result"
    }
   ],
   "source": [
    "# check one to one matches:\n",
    "len(df1),len(dfBot), len(dfSta)"
   ]
  },
  {
   "cell_type": "code",
   "execution_count": 12,
   "metadata": {},
   "outputs": [],
   "source": [
    "# where no time is provided, set time to midday Pacific time = ~ 20:00 UTC for now\n",
    "# (most sampling takes place during the day)\n",
    "# accurate times will be provided at a later date\n",
    "# the code below takes advantage of all elements in 'Date' having a time component \n",
    "# set to midnight\n",
    "df1['UTCDateTime']=[iiD+dt.timedelta(hours=20) if pd.isnull(iiU) else iiU \\\n",
    "                    for iiU,iiD in zip(df1['UTCDateTime'],df1['Date'])]"
   ]
  },
  {
   "cell_type": "code",
   "execution_count": 13,
   "metadata": {},
   "outputs": [
    {
     "data": {
      "text/html": [
       "<div>\n",
       "<style scoped>\n",
       "    .dataframe tbody tr th:only-of-type {\n",
       "        vertical-align: middle;\n",
       "    }\n",
       "\n",
       "    .dataframe tbody tr th {\n",
       "        vertical-align: top;\n",
       "    }\n",
       "\n",
       "    .dataframe thead th {\n",
       "        text-align: right;\n",
       "    }\n",
       "</style>\n",
       "<table border=\"1\" class=\"dataframe\">\n",
       "  <thead>\n",
       "    <tr style=\"text-align: right;\">\n",
       "      <th></th>\n",
       "      <th>Station</th>\n",
       "      <th>Desig</th>\n",
       "      <th>Descrip</th>\n",
       "      <th>Basin</th>\n",
       "      <th>Max_Depth</th>\n",
       "      <th>Lat</th>\n",
       "      <th>Lon</th>\n",
       "      <th>Date</th>\n",
       "      <th>dtUTC</th>\n",
       "      <th>Z</th>\n",
       "      <th>PO4(uM)D</th>\n",
       "      <th>SiOH4(uM)D</th>\n",
       "      <th>NO3(uM)D</th>\n",
       "      <th>NO2(uM)D</th>\n",
       "      <th>NH4(uM)D</th>\n",
       "      <th>DIN</th>\n",
       "      <th>Znom</th>\n",
       "    </tr>\n",
       "  </thead>\n",
       "  <tbody>\n",
       "    <tr>\n",
       "      <th>0</th>\n",
       "      <td>ADM001</td>\n",
       "      <td>C</td>\n",
       "      <td>Admiralty Inlet - Bush Pt.</td>\n",
       "      <td>Admiralty Inlet</td>\n",
       "      <td>114</td>\n",
       "      <td>48.029813</td>\n",
       "      <td>-122.617933</td>\n",
       "      <td>2019-01-08</td>\n",
       "      <td>2019-01-08 20:00:00</td>\n",
       "      <td>30.119</td>\n",
       "      <td>NaN</td>\n",
       "      <td>NaN</td>\n",
       "      <td>NaN</td>\n",
       "      <td>NaN</td>\n",
       "      <td>NaN</td>\n",
       "      <td>0.0</td>\n",
       "      <td>-30.0</td>\n",
       "    </tr>\n",
       "    <tr>\n",
       "      <th>1</th>\n",
       "      <td>ADM001</td>\n",
       "      <td>C</td>\n",
       "      <td>Admiralty Inlet - Bush Pt.</td>\n",
       "      <td>Admiralty Inlet</td>\n",
       "      <td>114</td>\n",
       "      <td>48.029813</td>\n",
       "      <td>-122.617933</td>\n",
       "      <td>2019-01-08</td>\n",
       "      <td>2019-01-08 20:00:00</td>\n",
       "      <td>10.262</td>\n",
       "      <td>NaN</td>\n",
       "      <td>NaN</td>\n",
       "      <td>NaN</td>\n",
       "      <td>NaN</td>\n",
       "      <td>NaN</td>\n",
       "      <td>0.0</td>\n",
       "      <td>-10.0</td>\n",
       "    </tr>\n",
       "    <tr>\n",
       "      <th>2</th>\n",
       "      <td>ADM001</td>\n",
       "      <td>C</td>\n",
       "      <td>Admiralty Inlet - Bush Pt.</td>\n",
       "      <td>Admiralty Inlet</td>\n",
       "      <td>114</td>\n",
       "      <td>48.029813</td>\n",
       "      <td>-122.617933</td>\n",
       "      <td>2019-01-08</td>\n",
       "      <td>2019-01-08 20:00:00</td>\n",
       "      <td>0.587</td>\n",
       "      <td>NaN</td>\n",
       "      <td>NaN</td>\n",
       "      <td>NaN</td>\n",
       "      <td>NaN</td>\n",
       "      <td>NaN</td>\n",
       "      <td>0.0</td>\n",
       "      <td>0.0</td>\n",
       "    </tr>\n",
       "    <tr>\n",
       "      <th>3</th>\n",
       "      <td>ADM001</td>\n",
       "      <td>C</td>\n",
       "      <td>Admiralty Inlet - Bush Pt.</td>\n",
       "      <td>Admiralty Inlet</td>\n",
       "      <td>114</td>\n",
       "      <td>48.029813</td>\n",
       "      <td>-122.617933</td>\n",
       "      <td>2019-02-06</td>\n",
       "      <td>2019-02-06 20:00:00</td>\n",
       "      <td>29.444</td>\n",
       "      <td>NaN</td>\n",
       "      <td>NaN</td>\n",
       "      <td>NaN</td>\n",
       "      <td>NaN</td>\n",
       "      <td>NaN</td>\n",
       "      <td>0.0</td>\n",
       "      <td>-30.0</td>\n",
       "    </tr>\n",
       "    <tr>\n",
       "      <th>4</th>\n",
       "      <td>ADM001</td>\n",
       "      <td>C</td>\n",
       "      <td>Admiralty Inlet - Bush Pt.</td>\n",
       "      <td>Admiralty Inlet</td>\n",
       "      <td>114</td>\n",
       "      <td>48.029813</td>\n",
       "      <td>-122.617933</td>\n",
       "      <td>2019-02-06</td>\n",
       "      <td>2019-02-06 20:00:00</td>\n",
       "      <td>9.722</td>\n",
       "      <td>NaN</td>\n",
       "      <td>NaN</td>\n",
       "      <td>NaN</td>\n",
       "      <td>NaN</td>\n",
       "      <td>NaN</td>\n",
       "      <td>0.0</td>\n",
       "      <td>-10.0</td>\n",
       "    </tr>\n",
       "  </tbody>\n",
       "</table>\n",
       "</div>"
      ],
      "text/plain": [
       "  Station Desig                     Descrip            Basin  Max_Depth  \\\n",
       "0  ADM001     C  Admiralty Inlet - Bush Pt.  Admiralty Inlet        114   \n",
       "1  ADM001     C  Admiralty Inlet - Bush Pt.  Admiralty Inlet        114   \n",
       "2  ADM001     C  Admiralty Inlet - Bush Pt.  Admiralty Inlet        114   \n",
       "3  ADM001     C  Admiralty Inlet - Bush Pt.  Admiralty Inlet        114   \n",
       "4  ADM001     C  Admiralty Inlet - Bush Pt.  Admiralty Inlet        114   \n",
       "\n",
       "         Lat         Lon       Date               dtUTC       Z  PO4(uM)D  \\\n",
       "0  48.029813 -122.617933 2019-01-08 2019-01-08 20:00:00  30.119       NaN   \n",
       "1  48.029813 -122.617933 2019-01-08 2019-01-08 20:00:00  10.262       NaN   \n",
       "2  48.029813 -122.617933 2019-01-08 2019-01-08 20:00:00   0.587       NaN   \n",
       "3  48.029813 -122.617933 2019-02-06 2019-02-06 20:00:00  29.444       NaN   \n",
       "4  48.029813 -122.617933 2019-02-06 2019-02-06 20:00:00   9.722       NaN   \n",
       "\n",
       "   SiOH4(uM)D  NO3(uM)D  NO2(uM)D  NH4(uM)D  DIN  Znom  \n",
       "0         NaN       NaN       NaN       NaN  0.0 -30.0  \n",
       "1         NaN       NaN       NaN       NaN  0.0 -10.0  \n",
       "2         NaN       NaN       NaN       NaN  0.0   0.0  \n",
       "3         NaN       NaN       NaN       NaN  0.0 -30.0  \n",
       "4         NaN       NaN       NaN       NaN  0.0 -10.0  "
      ]
     },
     "execution_count": 13,
     "metadata": {},
     "output_type": "execute_result"
    }
   ],
   "source": [
    "# We require the following columns:\n",
    "#    dtUTC datetime\n",
    "#    Lat   Latitude\n",
    "#    Lon   Longitude\n",
    "#    Z     Depth, increasing downward (positive)\n",
    "df1.rename(columns={'UTCDateTime':'dtUTC','Latitude':'Lat','Longitude':'Lon'},inplace=True)\n",
    "df1['Z']=-1*df1['Z']\n",
    "df1.head()"
   ]
  },
  {
   "cell_type": "code",
   "execution_count": 14,
   "metadata": {},
   "outputs": [],
   "source": [
    "# It will also be useful to add/rename the following columns:\n",
    "df1['NO23']=df1['NO3(uM)D']+df1['NO2(uM)D'] # the model does not distinguish between NO2 and NO3\n",
    "df1['Amm']=df1['NH4(uM)D']\n",
    "df1['Si']=df1['SiOH4(uM)D']\n",
    "df1['Year']=[ii.year for ii in df1['dtUTC']]\n",
    "df1['YD']=et.datetimeToYD(df1['dtUTC'])"
   ]
  },
  {
   "cell_type": "code",
   "execution_count": 15,
   "metadata": {},
   "outputs": [
    {
     "name": "stdout",
     "output_type": "stream",
     "text": [
      "1171 data points\n",
      "Number of data points in each region:\n"
     ]
    },
    {
     "data": {
      "text/plain": [
       "Basin\n",
       "Admiralty Inlet           0\n",
       "Grays Harbor              0\n",
       "Hood Canal Basin          0\n",
       "Main Basin                0\n",
       "South Basin               0\n",
       "Strait of Georgia         0\n",
       "Strait of Juan de Fuca    0\n",
       "Whidbey Basin             0\n",
       "Willapa Bay               0\n",
       "Name: NO23, dtype: int64"
      ]
     },
     "execution_count": 15,
     "metadata": {},
     "output_type": "execute_result"
    }
   ],
   "source": [
    "print(len(df1),'data points')\n",
    "print('Number of data points in each region:')\n",
    "df1.groupby('Basin')['NO23'].count()"
   ]
  },
  {
   "cell_type": "markdown",
   "metadata": {},
   "source": [
    "### set up variables for model-data matching"
   ]
  },
  {
   "cell_type": "code",
   "execution_count": 16,
   "metadata": {},
   "outputs": [],
   "source": [
    "start_date = dt.datetime(year,1,1)\n",
    "end_date = dt.datetime(year,3,15)\n",
    "flen=1 # number of hours per model output\n",
    "namfmt='nowcast'\n",
    "filemap={'nitrate':'ptrc_T','silicon':'ptrc_T','ammonium':'ptrc_T','diatoms':'ptrc_T',\n",
    "         'ciliates':'ptrc_T','flagellates':'ptrc_T'}\n",
    "fdict={'ptrc_T':1,'grid_T':1}"
   ]
  },
  {
   "cell_type": "code",
   "execution_count": 17,
   "metadata": {},
   "outputs": [
    {
     "name": "stdout",
     "output_type": "stream",
     "text": [
      "(Lat,Lon)= 46.453155 -124.00960333333333  not matched to domain\n",
      "(Lat,Lon)= 46.463155 -123.94126833333334  not matched to domain\n",
      "(Lat,Lon)= 46.54537666666667 -123.98016166666666  not matched to domain\n",
      "(Lat,Lon)= 46.644 -123.993  not matched to domain\n",
      "(Lat,Lon)= 46.68676333333333 -123.9735  not matched to domain\n",
      "(Lat,Lon)= 46.703986666666665 -123.837385  not matched to domain\n",
      "(Lat,Lon)= 46.937313333333336 -123.91322333333333  not matched to domain\n",
      "(Lat,Lon)= 46.953421666666664 -124.09295  not matched to domain\n",
      "(Lat,Lon)= 47.21342666666666 -123.07765  not matched to domain\n"
     ]
    }
   ],
   "source": [
    "data=et.matchData(df1,filemap,fdict,start_date,end_date,'nowcast',PATH,1,quiet=False);"
   ]
  },
  {
   "cell_type": "code",
   "execution_count": 18,
   "metadata": {},
   "outputs": [],
   "source": [
    "cm1=cmocean.cm.thermal\n",
    "with nc.Dataset('/data/eolson/results/MEOPAR/NEMO-forcing-new/grid/bathymetry_201702.nc') as bathy:\n",
    "    bathylon=np.copy(bathy.variables['nav_lon'][:,:])\n",
    "    bathylat=np.copy(bathy.variables['nav_lat'][:,:])\n",
    "    bathyZ=np.copy(bathy.variables['Bathymetry'][:,:])"
   ]
  },
  {
   "cell_type": "code",
   "execution_count": 19,
   "metadata": {},
   "outputs": [
    {
     "data": {
      "image/png": "[encoded data removed]",
      "text/plain": [
       "<Figure size 432x432 with 1 Axes>"
      ]
     },
     "metadata": {
      "needs_background": "light"
     },
     "output_type": "display_data"
    }
   ],
   "source": [
    "fig, ax = plt.subplots(1,1,figsize = (6,6))\n",
    "with nc.Dataset('/data/vdo/MEOPAR/NEMO-forcing/grid/bathymetry_201702.nc') as grid:\n",
    "    viz_tools.plot_coastline(ax, grid, coords = 'map',isobath=.1)\n",
    "colors=('teal','green','firebrick','darkorange','darkviolet','fuchsia',\n",
    "        'royalblue','darkgoldenrod','mediumspringgreen','deepskyblue')\n",
    "datreg=dict()\n",
    "for ind, iregion in enumerate(data.Basin.unique()):\n",
    "    datreg[iregion] = data.loc[data.Basin==iregion]\n",
    "    ax.plot(datreg[iregion]['Lon'], datreg[iregion]['Lat'],'.',\n",
    "            color = colors[ind], label=iregion)\n",
    "ax.set_ylim(47, 49)\n",
    "ax.legend(bbox_to_anchor=[1,.6,0,0])\n",
    "ax.set_xlim(-124, -122);\n",
    "ax.set_title('Observation Locations');\n",
    "\n",
    "iz=(data.Z<15)\n",
    "JFM=data.loc[iz&(data.dtUTC<=dt.datetime(year,4,1)),:]\n",
    "Apr=data.loc[iz&(data.dtUTC<=dt.datetime(year,5,1))&(data.dtUTC>dt.datetime(year,4,1)),:]\n",
    "MJJA=data.loc[iz&(data.dtUTC<=dt.datetime(year,9,1))&(data.dtUTC>dt.datetime(year,5,1)),:]\n",
    "SOND=data.loc[iz&(data.dtUTC>dt.datetime(year,9,1)),:]"
   ]
  },
  {
   "cell_type": "code",
   "execution_count": 20,
   "metadata": {},
   "outputs": [],
   "source": [
    "def byDepth(ax,obsvar,modvar,lims):\n",
    "    ps=et.varvarPlot(ax,data,obsvar,modvar,'Z',(15,22),'z','m',('mediumseagreen','darkturquoise','navy'))\n",
    "    l=ax.legend(handles=ps)\n",
    "    ax.set_xlabel('Obs')\n",
    "    ax.set_ylabel('Model')\n",
    "    ax.plot(lims,lims,'k-',alpha=.5)\n",
    "    ax.set_xlim(lims)\n",
    "    ax.set_ylim(lims)\n",
    "    ax.set_aspect(1)\n",
    "    return ps,l\n",
    "\n",
    "def byRegion(ax,obsvar,modvar,lims):\n",
    "    ps=[]\n",
    "    for ind, iregion in enumerate(data.Basin.unique()):\n",
    "        ax.plot(datreg[iregion]['Lon'], datreg[iregion]['Lat'],'.',\n",
    "                color = colors[ind], label=iregion)\n",
    "        ps0=et.varvarPlot(ax,datreg[iregion],obsvar,modvar,\n",
    "                          cols=(colors[ind],),lname=iregion)\n",
    "        ps.append(ps0)\n",
    "    l=ax.legend(handles=[ip[0][0] for ip in ps])\n",
    "    ax.set_xlabel('Obs')\n",
    "    ax.set_ylabel('Model')\n",
    "    ax.plot(lims,lims,'k-',alpha=.5)\n",
    "    ax.set_xlim(lims)\n",
    "    ax.set_ylim(lims)\n",
    "    ax.set_aspect(1)\n",
    "    return ps,l\n",
    "\n",
    "def bySeason(ax,obsvar,modvar,lims):\n",
    "    for axi in ax:\n",
    "        axi.plot(lims,lims,'k-')\n",
    "        axi.set_xlim(lims)\n",
    "        axi.set_ylim(lims)\n",
    "        axi.set_aspect(1)\n",
    "        axi.set_xlabel('Obs')\n",
    "        axi.set_ylabel('Model')\n",
    "    ps=et.varvarPlot(ax[0],JFM,obsvar,modvar,cols=('crimson','darkturquoise','navy'))\n",
    "    ax[0].set_title('Jan-Mar')\n",
    "    ps=et.varvarPlot(ax[1],Apr,obsvar,modvar,cols=('crimson','darkturquoise','navy'))\n",
    "    ax[1].set_title('Apr')\n",
    "    ps=et.varvarPlot(ax[2],MJJA,obsvar,modvar,cols=('crimson','darkturquoise','navy'))\n",
    "    ax[2].set_title('May-Aug')\n",
    "    ps=et.varvarPlot(ax[3],SOND,obsvar,modvar,cols=('crimson','darkturquoise','navy'))\n",
    "    ax[3].set_title('Sep-Dec')\n",
    "    return \n",
    "\n",
    "def ErrErr(fig,ax,obsvar1,modvar1,obsvar2,modvar2,lims1,lims2):\n",
    "    m=ax.scatter(data[modvar1]-data[obsvar1],data[modvar2]-data[obsvar2],c=data['Z'],s=1,cmap='gnuplot')\n",
    "    cb=fig.colorbar(m,ax=ax,label='Depth (m)')\n",
    "    ax.set_xlim(lims1)\n",
    "    ax.set_ylim(lims2)\n",
    "    ax.set_aspect((lims1[1]-lims1[0])/(lims2[1]-lims2[0]))\n",
    "    return m,cb"
   ]
  },
  {
   "cell_type": "code",
   "execution_count": 21,
   "metadata": {},
   "outputs": [
    {
     "data": {
      "text/plain": [
       "odict_keys(['z < 15 m', '15 m < z < 22 m', 'z >= 22 m', 'z > 50 m', 'all', 'z < 15 m, JFM', 'z < 15 m, Apr', 'z < 15 m, MJJA', 'z < 15 m, SOND', 'South Basin', 'Whidbey Basin', 'Admiralty Inlet', 'Strait of Georgia', 'Main Basin', 'Hood Canal Basin', 'Strait of Juan de Fuca'])"
      ]
     },
     "execution_count": 21,
     "metadata": {},
     "output_type": "execute_result"
    }
   ],
   "source": [
    "### These groupings will be used to calculate statistics. The keys are labels and\n",
    "### the values are corresponding dataframe views\n",
    "statsubs=OrderedDict({'z < 15 m':data.loc[data.Z<15],\n",
    "                      '15 m < z < 22 m':data.loc[(data.Z>=15)&(data.Z<22)],\n",
    "                      'z >= 22 m':data.loc[data.Z>=22],\n",
    "                      'z > 50 m':data.loc[data.Z>50],\n",
    "                      'all':data,\n",
    "                      'z < 15 m, JFM':JFM,\n",
    "                      'z < 15 m, Apr':Apr,\n",
    "                      'z < 15 m, MJJA':MJJA,\n",
    "                      'z < 15 m, SOND': SOND,})\n",
    "for iregion in data.Basin.unique():\n",
    "    statsubs[iregion]=datreg[iregion]\n",
    "statsubs.keys()"
   ]
  },
  {
   "cell_type": "markdown",
   "metadata": {},
   "source": [
    "# Nitrate"
   ]
  },
  {
   "cell_type": "code",
   "execution_count": 22,
   "metadata": {},
   "outputs": [
    {
     "name": "stdout",
     "output_type": "stream",
     "text": [
      "z < 15 m\n",
      "15 m < z < 22 m\n",
      "z >= 22 m\n",
      "z > 50 m\n",
      "all\n",
      "z < 15 m, JFM\n",
      "z < 15 m, Apr\n",
      "z < 15 m, MJJA\n",
      "z < 15 m, SOND\n",
      "South Basin\n",
      "Whidbey Basin\n",
      "Admiralty Inlet\n",
      "Strait of Georgia\n",
      "Main Basin\n",
      "Hood Canal Basin\n",
      "Strait of Juan de Fuca\n"
     ]
    },
    {
     "name": "stderr",
     "output_type": "stream",
     "text": [
      "/home/eolson/anaconda3/envs/py39/lib/python3.9/site-packages/numpy/core/fromnumeric.py:3372: RuntimeWarning: Mean of empty slice.\n",
      "  return _methods._mean(a, axis=axis, dtype=dtype,\n",
      "/home/eolson/anaconda3/envs/py39/lib/python3.9/site-packages/numpy/core/_methods.py:170: RuntimeWarning: invalid value encountered in double_scalars\n",
      "  ret = ret.dtype.type(ret / rcount)\n",
      "/data/eolson/results/MEOPAR/tools/SalishSeaTools/salishsea_tools/evaltools.py:1135: RuntimeWarning: invalid value encountered in double_scalars\n",
      "  return np.sqrt(np.sum((mod-obs)**2)/len(mod))\n",
      "/data/eolson/results/MEOPAR/tools/SalishSeaTools/salishsea_tools/evaltools.py:1131: RuntimeWarning: invalid value encountered in double_scalars\n",
      "  return 1.0-np.sum((mod-obs)**2)/np.sum((np.abs(mod-np.mean(obs))+np.abs(obs-np.mean(obs)))**2)\n"
     ]
    },
    {
     "data": {
      "text/html": [
       "<style  type=\"text/css\" >\n",
       "</style><table id=\"T_964d3659_5b88_11eb_b90a_10c37b4d93ce\" ><thead>    <tr>        <th class=\"blank\" ></th>        <th class=\"blank level0\" ></th>        <th class=\"col_heading level0 col0\" ></th>    </tr>    <tr>        <th class=\"blank\" ></th>        <th class=\"blank level1\" ></th>        <th class=\"col_heading level1 col0\" >N</th>    </tr>    <tr>        <th class=\"index_name level0\" ></th>        <th class=\"index_name level1\" >Subset</th>        <th class=\"blank\" ></th>    </tr></thead><tbody>\n",
       "                <tr>\n",
       "                        <th id=\"T_964d3659_5b88_11eb_b90a_10c37b4d93celevel0_row0\" class=\"row_heading level0 row0\" >0</th>\n",
       "                        <th id=\"T_964d3659_5b88_11eb_b90a_10c37b4d93celevel1_row0\" class=\"row_heading level1 row0\" >z < 15 m</th>\n",
       "                        <td id=\"T_964d3659_5b88_11eb_b90a_10c37b4d93cerow0_col0\" class=\"data row0 col0\" >0.000000</td>\n",
       "            </tr>\n",
       "            <tr>\n",
       "                        <th id=\"T_964d3659_5b88_11eb_b90a_10c37b4d93celevel0_row1\" class=\"row_heading level0 row1\" >1</th>\n",
       "                        <th id=\"T_964d3659_5b88_11eb_b90a_10c37b4d93celevel1_row1\" class=\"row_heading level1 row1\" >15 m < z < 22 m</th>\n",
       "                        <td id=\"T_964d3659_5b88_11eb_b90a_10c37b4d93cerow1_col0\" class=\"data row1 col0\" >0.000000</td>\n",
       "            </tr>\n",
       "            <tr>\n",
       "                        <th id=\"T_964d3659_5b88_11eb_b90a_10c37b4d93celevel0_row2\" class=\"row_heading level0 row2\" >2</th>\n",
       "                        <th id=\"T_964d3659_5b88_11eb_b90a_10c37b4d93celevel1_row2\" class=\"row_heading level1 row2\" >z >= 22 m</th>\n",
       "                        <td id=\"T_964d3659_5b88_11eb_b90a_10c37b4d93cerow2_col0\" class=\"data row2 col0\" >0.000000</td>\n",
       "            </tr>\n",
       "            <tr>\n",
       "                        <th id=\"T_964d3659_5b88_11eb_b90a_10c37b4d93celevel0_row3\" class=\"row_heading level0 row3\" >3</th>\n",
       "                        <th id=\"T_964d3659_5b88_11eb_b90a_10c37b4d93celevel1_row3\" class=\"row_heading level1 row3\" >z > 50 m</th>\n",
       "                        <td id=\"T_964d3659_5b88_11eb_b90a_10c37b4d93cerow3_col0\" class=\"data row3 col0\" >0.000000</td>\n",
       "            </tr>\n",
       "            <tr>\n",
       "                        <th id=\"T_964d3659_5b88_11eb_b90a_10c37b4d93celevel0_row4\" class=\"row_heading level0 row4\" >4</th>\n",
       "                        <th id=\"T_964d3659_5b88_11eb_b90a_10c37b4d93celevel1_row4\" class=\"row_heading level1 row4\" >all</th>\n",
       "                        <td id=\"T_964d3659_5b88_11eb_b90a_10c37b4d93cerow4_col0\" class=\"data row4 col0\" >0.000000</td>\n",
       "            </tr>\n",
       "            <tr>\n",
       "                        <th id=\"T_964d3659_5b88_11eb_b90a_10c37b4d93celevel0_row5\" class=\"row_heading level0 row5\" >5</th>\n",
       "                        <th id=\"T_964d3659_5b88_11eb_b90a_10c37b4d93celevel1_row5\" class=\"row_heading level1 row5\" >z < 15 m, JFM</th>\n",
       "                        <td id=\"T_964d3659_5b88_11eb_b90a_10c37b4d93cerow5_col0\" class=\"data row5 col0\" >0.000000</td>\n",
       "            </tr>\n",
       "            <tr>\n",
       "                        <th id=\"T_964d3659_5b88_11eb_b90a_10c37b4d93celevel0_row6\" class=\"row_heading level0 row6\" >6</th>\n",
       "                        <th id=\"T_964d3659_5b88_11eb_b90a_10c37b4d93celevel1_row6\" class=\"row_heading level1 row6\" >z < 15 m, Apr</th>\n",
       "                        <td id=\"T_964d3659_5b88_11eb_b90a_10c37b4d93cerow6_col0\" class=\"data row6 col0\" >0.000000</td>\n",
       "            </tr>\n",
       "            <tr>\n",
       "                        <th id=\"T_964d3659_5b88_11eb_b90a_10c37b4d93celevel0_row7\" class=\"row_heading level0 row7\" >7</th>\n",
       "                        <th id=\"T_964d3659_5b88_11eb_b90a_10c37b4d93celevel1_row7\" class=\"row_heading level1 row7\" >z < 15 m, MJJA</th>\n",
       "                        <td id=\"T_964d3659_5b88_11eb_b90a_10c37b4d93cerow7_col0\" class=\"data row7 col0\" >0.000000</td>\n",
       "            </tr>\n",
       "            <tr>\n",
       "                        <th id=\"T_964d3659_5b88_11eb_b90a_10c37b4d93celevel0_row8\" class=\"row_heading level0 row8\" >8</th>\n",
       "                        <th id=\"T_964d3659_5b88_11eb_b90a_10c37b4d93celevel1_row8\" class=\"row_heading level1 row8\" >z < 15 m, SOND</th>\n",
       "                        <td id=\"T_964d3659_5b88_11eb_b90a_10c37b4d93cerow8_col0\" class=\"data row8 col0\" >0.000000</td>\n",
       "            </tr>\n",
       "            <tr>\n",
       "                        <th id=\"T_964d3659_5b88_11eb_b90a_10c37b4d93celevel0_row9\" class=\"row_heading level0 row9\" >9</th>\n",
       "                        <th id=\"T_964d3659_5b88_11eb_b90a_10c37b4d93celevel1_row9\" class=\"row_heading level1 row9\" >South Basin</th>\n",
       "                        <td id=\"T_964d3659_5b88_11eb_b90a_10c37b4d93cerow9_col0\" class=\"data row9 col0\" >0.000000</td>\n",
       "            </tr>\n",
       "            <tr>\n",
       "                        <th id=\"T_964d3659_5b88_11eb_b90a_10c37b4d93celevel0_row10\" class=\"row_heading level0 row10\" >10</th>\n",
       "                        <th id=\"T_964d3659_5b88_11eb_b90a_10c37b4d93celevel1_row10\" class=\"row_heading level1 row10\" >Whidbey Basin</th>\n",
       "                        <td id=\"T_964d3659_5b88_11eb_b90a_10c37b4d93cerow10_col0\" class=\"data row10 col0\" >0.000000</td>\n",
       "            </tr>\n",
       "            <tr>\n",
       "                        <th id=\"T_964d3659_5b88_11eb_b90a_10c37b4d93celevel0_row11\" class=\"row_heading level0 row11\" >11</th>\n",
       "                        <th id=\"T_964d3659_5b88_11eb_b90a_10c37b4d93celevel1_row11\" class=\"row_heading level1 row11\" >Admiralty Inlet</th>\n",
       "                        <td id=\"T_964d3659_5b88_11eb_b90a_10c37b4d93cerow11_col0\" class=\"data row11 col0\" >0.000000</td>\n",
       "            </tr>\n",
       "            <tr>\n",
       "                        <th id=\"T_964d3659_5b88_11eb_b90a_10c37b4d93celevel0_row12\" class=\"row_heading level0 row12\" >12</th>\n",
       "                        <th id=\"T_964d3659_5b88_11eb_b90a_10c37b4d93celevel1_row12\" class=\"row_heading level1 row12\" >Strait of Georgia</th>\n",
       "                        <td id=\"T_964d3659_5b88_11eb_b90a_10c37b4d93cerow12_col0\" class=\"data row12 col0\" >0.000000</td>\n",
       "            </tr>\n",
       "            <tr>\n",
       "                        <th id=\"T_964d3659_5b88_11eb_b90a_10c37b4d93celevel0_row13\" class=\"row_heading level0 row13\" >13</th>\n",
       "                        <th id=\"T_964d3659_5b88_11eb_b90a_10c37b4d93celevel1_row13\" class=\"row_heading level1 row13\" >Main Basin</th>\n",
       "                        <td id=\"T_964d3659_5b88_11eb_b90a_10c37b4d93cerow13_col0\" class=\"data row13 col0\" >0.000000</td>\n",
       "            </tr>\n",
       "            <tr>\n",
       "                        <th id=\"T_964d3659_5b88_11eb_b90a_10c37b4d93celevel0_row14\" class=\"row_heading level0 row14\" >14</th>\n",
       "                        <th id=\"T_964d3659_5b88_11eb_b90a_10c37b4d93celevel1_row14\" class=\"row_heading level1 row14\" >Hood Canal Basin</th>\n",
       "                        <td id=\"T_964d3659_5b88_11eb_b90a_10c37b4d93cerow14_col0\" class=\"data row14 col0\" >0.000000</td>\n",
       "            </tr>\n",
       "            <tr>\n",
       "                        <th id=\"T_964d3659_5b88_11eb_b90a_10c37b4d93celevel0_row15\" class=\"row_heading level0 row15\" >15</th>\n",
       "                        <th id=\"T_964d3659_5b88_11eb_b90a_10c37b4d93celevel1_row15\" class=\"row_heading level1 row15\" >Strait of Juan de Fuca</th>\n",
       "                        <td id=\"T_964d3659_5b88_11eb_b90a_10c37b4d93cerow15_col0\" class=\"data row15 col0\" >0.000000</td>\n",
       "            </tr>\n",
       "    </tbody></table>"
      ],
      "text/plain": [
       "<pandas.io.formats.style.Styler at 0x7f2ca49b5fa0>"
      ]
     },
     "execution_count": 22,
     "metadata": {},
     "output_type": "execute_result"
    }
   ],
   "source": [
    "obsvar='NO23'\n",
    "modvar='mod_nitrate'\n",
    "statsDict={year:dict()}\n",
    "statsDict[year]['NO3']=OrderedDict()\n",
    "for isub in statsubs:\n",
    "    print(isub)\n",
    "    statsDict[year]['NO3'][isub]=dict()\n",
    "    var=statsDict[year]['NO3'][isub]\n",
    "    var['N'],mmean,omean,var['Bias'],var['RMSE'],var['WSS']=et.stats(statsubs[isub].loc[:,[obsvar]],\n",
    "                                                                     statsubs[isub].loc[:,[modvar]])\n",
    "tbl,tdf=et.displayStats(statsDict[year]['NO3'],level='Subset',suborder=list(statsubs.keys()))\n",
    "tbl"
   ]
  },
  {
   "cell_type": "code",
   "execution_count": 23,
   "metadata": {},
   "outputs": [
    {
     "data": {
      "image/png": "[encoded data removed]",
      "text/plain": [
       "<Figure size 1152x504 with 2 Axes>"
      ]
     },
     "metadata": {
      "needs_background": "light"
     },
     "output_type": "display_data"
    }
   ],
   "source": [
    "fig, ax = plt.subplots(1,2,figsize = (16,7))\n",
    "ps,l=byDepth(ax[0],obsvar,modvar,(0,40))\n",
    "ax[0].set_title('NO$_3$ ($\\mu$M) By Depth')\n",
    "\n",
    "ps,l=byRegion(ax[1],obsvar,modvar,(0,40))\n",
    "ax[1].set_title('NO$_3$ ($\\mu$M) By Region');"
   ]
  },
  {
   "cell_type": "code",
   "execution_count": 24,
   "metadata": {},
   "outputs": [
    {
     "data": {
      "image/png": "[encoded data removed]",
      "text/plain": [
       "<Figure size 1152x237.6 with 4 Axes>"
      ]
     },
     "metadata": {
      "needs_background": "light"
     },
     "output_type": "display_data"
    },
    {
     "data": {
      "image/png": "[encoded data removed]",
      "text/plain": [
       "<Figure size 1440x21.6 with 1 Axes>"
      ]
     },
     "metadata": {
      "needs_background": "light"
     },
     "output_type": "display_data"
    }
   ],
   "source": [
    "fig, ax = plt.subplots(1,4,figsize = (16,3.3))\n",
    "bySeason(ax,obsvar,modvar,(0,30))\n",
    "fig,ax=plt.subplots(1,1,figsize=(20,.3))\n",
    "ax.plot(data.dtUTC,np.ones(np.shape(data.dtUTC)),'k.')\n",
    "ax.set_xlim((dt.datetime(year,1,1),dt.datetime(year,12,31)))\n",
    "ax.set_title('Data Timing')\n",
    "ax.yaxis.set_visible(False)"
   ]
  },
  {
   "cell_type": "markdown",
   "metadata": {},
   "source": [
    "# Dissolved Silica"
   ]
  },
  {
   "cell_type": "code",
   "execution_count": 25,
   "metadata": {},
   "outputs": [
    {
     "name": "stderr",
     "output_type": "stream",
     "text": [
      "/home/eolson/anaconda3/envs/py39/lib/python3.9/site-packages/numpy/core/fromnumeric.py:3372: RuntimeWarning: Mean of empty slice.\n",
      "  return _methods._mean(a, axis=axis, dtype=dtype,\n",
      "/home/eolson/anaconda3/envs/py39/lib/python3.9/site-packages/numpy/core/_methods.py:170: RuntimeWarning: invalid value encountered in double_scalars\n",
      "  ret = ret.dtype.type(ret / rcount)\n",
      "/data/eolson/results/MEOPAR/tools/SalishSeaTools/salishsea_tools/evaltools.py:1135: RuntimeWarning: invalid value encountered in double_scalars\n",
      "  return np.sqrt(np.sum((mod-obs)**2)/len(mod))\n",
      "/data/eolson/results/MEOPAR/tools/SalishSeaTools/salishsea_tools/evaltools.py:1131: RuntimeWarning: invalid value encountered in double_scalars\n",
      "  return 1.0-np.sum((mod-obs)**2)/np.sum((np.abs(mod-np.mean(obs))+np.abs(obs-np.mean(obs)))**2)\n"
     ]
    },
    {
     "data": {
      "text/html": [
       "<style  type=\"text/css\" >\n",
       "</style><table id=\"T_96bd4dd6_5b88_11eb_91ea_10c37b4d93ce\" ><thead>    <tr>        <th class=\"blank\" ></th>        <th class=\"blank level0\" ></th>        <th class=\"col_heading level0 col0\" ></th>    </tr>    <tr>        <th class=\"blank\" ></th>        <th class=\"blank level1\" ></th>        <th class=\"col_heading level1 col0\" >N</th>    </tr>    <tr>        <th class=\"index_name level0\" ></th>        <th class=\"index_name level1\" >Subset</th>        <th class=\"blank\" ></th>    </tr></thead><tbody>\n",
       "                <tr>\n",
       "                        <th id=\"T_96bd4dd6_5b88_11eb_91ea_10c37b4d93celevel0_row0\" class=\"row_heading level0 row0\" >0</th>\n",
       "                        <th id=\"T_96bd4dd6_5b88_11eb_91ea_10c37b4d93celevel1_row0\" class=\"row_heading level1 row0\" >z < 15 m</th>\n",
       "                        <td id=\"T_96bd4dd6_5b88_11eb_91ea_10c37b4d93cerow0_col0\" class=\"data row0 col0\" >0.000000</td>\n",
       "            </tr>\n",
       "            <tr>\n",
       "                        <th id=\"T_96bd4dd6_5b88_11eb_91ea_10c37b4d93celevel0_row1\" class=\"row_heading level0 row1\" >1</th>\n",
       "                        <th id=\"T_96bd4dd6_5b88_11eb_91ea_10c37b4d93celevel1_row1\" class=\"row_heading level1 row1\" >15 m < z < 22 m</th>\n",
       "                        <td id=\"T_96bd4dd6_5b88_11eb_91ea_10c37b4d93cerow1_col0\" class=\"data row1 col0\" >0.000000</td>\n",
       "            </tr>\n",
       "            <tr>\n",
       "                        <th id=\"T_96bd4dd6_5b88_11eb_91ea_10c37b4d93celevel0_row2\" class=\"row_heading level0 row2\" >2</th>\n",
       "                        <th id=\"T_96bd4dd6_5b88_11eb_91ea_10c37b4d93celevel1_row2\" class=\"row_heading level1 row2\" >z >= 22 m</th>\n",
       "                        <td id=\"T_96bd4dd6_5b88_11eb_91ea_10c37b4d93cerow2_col0\" class=\"data row2 col0\" >0.000000</td>\n",
       "            </tr>\n",
       "            <tr>\n",
       "                        <th id=\"T_96bd4dd6_5b88_11eb_91ea_10c37b4d93celevel0_row3\" class=\"row_heading level0 row3\" >3</th>\n",
       "                        <th id=\"T_96bd4dd6_5b88_11eb_91ea_10c37b4d93celevel1_row3\" class=\"row_heading level1 row3\" >z > 50 m</th>\n",
       "                        <td id=\"T_96bd4dd6_5b88_11eb_91ea_10c37b4d93cerow3_col0\" class=\"data row3 col0\" >0.000000</td>\n",
       "            </tr>\n",
       "            <tr>\n",
       "                        <th id=\"T_96bd4dd6_5b88_11eb_91ea_10c37b4d93celevel0_row4\" class=\"row_heading level0 row4\" >4</th>\n",
       "                        <th id=\"T_96bd4dd6_5b88_11eb_91ea_10c37b4d93celevel1_row4\" class=\"row_heading level1 row4\" >all</th>\n",
       "                        <td id=\"T_96bd4dd6_5b88_11eb_91ea_10c37b4d93cerow4_col0\" class=\"data row4 col0\" >0.000000</td>\n",
       "            </tr>\n",
       "            <tr>\n",
       "                        <th id=\"T_96bd4dd6_5b88_11eb_91ea_10c37b4d93celevel0_row5\" class=\"row_heading level0 row5\" >5</th>\n",
       "                        <th id=\"T_96bd4dd6_5b88_11eb_91ea_10c37b4d93celevel1_row5\" class=\"row_heading level1 row5\" >z < 15 m, JFM</th>\n",
       "                        <td id=\"T_96bd4dd6_5b88_11eb_91ea_10c37b4d93cerow5_col0\" class=\"data row5 col0\" >0.000000</td>\n",
       "            </tr>\n",
       "            <tr>\n",
       "                        <th id=\"T_96bd4dd6_5b88_11eb_91ea_10c37b4d93celevel0_row6\" class=\"row_heading level0 row6\" >6</th>\n",
       "                        <th id=\"T_96bd4dd6_5b88_11eb_91ea_10c37b4d93celevel1_row6\" class=\"row_heading level1 row6\" >z < 15 m, Apr</th>\n",
       "                        <td id=\"T_96bd4dd6_5b88_11eb_91ea_10c37b4d93cerow6_col0\" class=\"data row6 col0\" >0.000000</td>\n",
       "            </tr>\n",
       "            <tr>\n",
       "                        <th id=\"T_96bd4dd6_5b88_11eb_91ea_10c37b4d93celevel0_row7\" class=\"row_heading level0 row7\" >7</th>\n",
       "                        <th id=\"T_96bd4dd6_5b88_11eb_91ea_10c37b4d93celevel1_row7\" class=\"row_heading level1 row7\" >z < 15 m, MJJA</th>\n",
       "                        <td id=\"T_96bd4dd6_5b88_11eb_91ea_10c37b4d93cerow7_col0\" class=\"data row7 col0\" >0.000000</td>\n",
       "            </tr>\n",
       "            <tr>\n",
       "                        <th id=\"T_96bd4dd6_5b88_11eb_91ea_10c37b4d93celevel0_row8\" class=\"row_heading level0 row8\" >8</th>\n",
       "                        <th id=\"T_96bd4dd6_5b88_11eb_91ea_10c37b4d93celevel1_row8\" class=\"row_heading level1 row8\" >z < 15 m, SOND</th>\n",
       "                        <td id=\"T_96bd4dd6_5b88_11eb_91ea_10c37b4d93cerow8_col0\" class=\"data row8 col0\" >0.000000</td>\n",
       "            </tr>\n",
       "            <tr>\n",
       "                        <th id=\"T_96bd4dd6_5b88_11eb_91ea_10c37b4d93celevel0_row9\" class=\"row_heading level0 row9\" >9</th>\n",
       "                        <th id=\"T_96bd4dd6_5b88_11eb_91ea_10c37b4d93celevel1_row9\" class=\"row_heading level1 row9\" >South Basin</th>\n",
       "                        <td id=\"T_96bd4dd6_5b88_11eb_91ea_10c37b4d93cerow9_col0\" class=\"data row9 col0\" >0.000000</td>\n",
       "            </tr>\n",
       "            <tr>\n",
       "                        <th id=\"T_96bd4dd6_5b88_11eb_91ea_10c37b4d93celevel0_row10\" class=\"row_heading level0 row10\" >10</th>\n",
       "                        <th id=\"T_96bd4dd6_5b88_11eb_91ea_10c37b4d93celevel1_row10\" class=\"row_heading level1 row10\" >Whidbey Basin</th>\n",
       "                        <td id=\"T_96bd4dd6_5b88_11eb_91ea_10c37b4d93cerow10_col0\" class=\"data row10 col0\" >0.000000</td>\n",
       "            </tr>\n",
       "            <tr>\n",
       "                        <th id=\"T_96bd4dd6_5b88_11eb_91ea_10c37b4d93celevel0_row11\" class=\"row_heading level0 row11\" >11</th>\n",
       "                        <th id=\"T_96bd4dd6_5b88_11eb_91ea_10c37b4d93celevel1_row11\" class=\"row_heading level1 row11\" >Admiralty Inlet</th>\n",
       "                        <td id=\"T_96bd4dd6_5b88_11eb_91ea_10c37b4d93cerow11_col0\" class=\"data row11 col0\" >0.000000</td>\n",
       "            </tr>\n",
       "            <tr>\n",
       "                        <th id=\"T_96bd4dd6_5b88_11eb_91ea_10c37b4d93celevel0_row12\" class=\"row_heading level0 row12\" >12</th>\n",
       "                        <th id=\"T_96bd4dd6_5b88_11eb_91ea_10c37b4d93celevel1_row12\" class=\"row_heading level1 row12\" >Strait of Georgia</th>\n",
       "                        <td id=\"T_96bd4dd6_5b88_11eb_91ea_10c37b4d93cerow12_col0\" class=\"data row12 col0\" >0.000000</td>\n",
       "            </tr>\n",
       "            <tr>\n",
       "                        <th id=\"T_96bd4dd6_5b88_11eb_91ea_10c37b4d93celevel0_row13\" class=\"row_heading level0 row13\" >13</th>\n",
       "                        <th id=\"T_96bd4dd6_5b88_11eb_91ea_10c37b4d93celevel1_row13\" class=\"row_heading level1 row13\" >Main Basin</th>\n",
       "                        <td id=\"T_96bd4dd6_5b88_11eb_91ea_10c37b4d93cerow13_col0\" class=\"data row13 col0\" >0.000000</td>\n",
       "            </tr>\n",
       "            <tr>\n",
       "                        <th id=\"T_96bd4dd6_5b88_11eb_91ea_10c37b4d93celevel0_row14\" class=\"row_heading level0 row14\" >14</th>\n",
       "                        <th id=\"T_96bd4dd6_5b88_11eb_91ea_10c37b4d93celevel1_row14\" class=\"row_heading level1 row14\" >Hood Canal Basin</th>\n",
       "                        <td id=\"T_96bd4dd6_5b88_11eb_91ea_10c37b4d93cerow14_col0\" class=\"data row14 col0\" >0.000000</td>\n",
       "            </tr>\n",
       "            <tr>\n",
       "                        <th id=\"T_96bd4dd6_5b88_11eb_91ea_10c37b4d93celevel0_row15\" class=\"row_heading level0 row15\" >15</th>\n",
       "                        <th id=\"T_96bd4dd6_5b88_11eb_91ea_10c37b4d93celevel1_row15\" class=\"row_heading level1 row15\" >Strait of Juan de Fuca</th>\n",
       "                        <td id=\"T_96bd4dd6_5b88_11eb_91ea_10c37b4d93cerow15_col0\" class=\"data row15 col0\" >0.000000</td>\n",
       "            </tr>\n",
       "    </tbody></table>"
      ],
      "text/plain": [
       "<pandas.io.formats.style.Styler at 0x7f2c9c84f850>"
      ]
     },
     "execution_count": 25,
     "metadata": {},
     "output_type": "execute_result"
    }
   ],
   "source": [
    "obsvar='Si'\n",
    "modvar='mod_silicon'\n",
    "statsDict[year]['dSi']=OrderedDict()\n",
    "for isub in statsubs:\n",
    "    statsDict[year]['dSi'][isub]=dict()\n",
    "    var=statsDict[year]['dSi'][isub]\n",
    "    var['N'],mmean,omean,var['Bias'],var['RMSE'],var['WSS']=et.stats(statsubs[isub].loc[:,[obsvar]],\n",
    "                                                                     statsubs[isub].loc[:,[modvar]])\n",
    "tbl,tdf=et.displayStats(statsDict[year]['dSi'],level='Subset',suborder=list(statsubs.keys()))\n",
    "tbl"
   ]
  },
  {
   "cell_type": "code",
   "execution_count": 26,
   "metadata": {},
   "outputs": [
    {
     "data": {
      "image/png": "[encoded data removed]",
      "text/plain": [
       "<Figure size 1152x504 with 2 Axes>"
      ]
     },
     "metadata": {
      "needs_background": "light"
     },
     "output_type": "display_data"
    }
   ],
   "source": [
    "mv=(0,80)\n",
    "fig, ax = plt.subplots(1,2,figsize = (16,7))\n",
    "ps,l=byDepth(ax[0],obsvar,modvar,mv)\n",
    "ax[0].set_title('Dissolved Silica ($\\mu$M) By Depth')\n",
    "\n",
    "ps,l=byRegion(ax[1],obsvar,modvar,mv)\n",
    "ax[1].set_title('Dissolved Silica ($\\mu$M) By Region');"
   ]
  },
  {
   "cell_type": "code",
   "execution_count": 27,
   "metadata": {},
   "outputs": [
    {
     "data": {
      "image/png": "[encoded data removed]",
      "text/plain": [
       "<Figure size 1152x237.6 with 4 Axes>"
      ]
     },
     "metadata": {
      "needs_background": "light"
     },
     "output_type": "display_data"
    },
    {
     "data": {
      "image/png": "[encoded data removed]",
      "text/plain": [
       "<Figure size 1440x21.6 with 1 Axes>"
      ]
     },
     "metadata": {
      "needs_background": "light"
     },
     "output_type": "display_data"
    }
   ],
   "source": [
    "fig, ax = plt.subplots(1,4,figsize = (16,3.3))\n",
    "bySeason(ax,obsvar,modvar,mv)\n",
    "fig,ax=plt.subplots(1,1,figsize=(20,.3))\n",
    "ax.plot(data.dtUTC,np.ones(np.shape(data.dtUTC)),'k.')\n",
    "ax.set_xlim((dt.datetime(year,1,1),dt.datetime(year,12,31)))\n",
    "ax.set_title('Data Timing')\n",
    "ax.yaxis.set_visible(False)"
   ]
  },
  {
   "cell_type": "markdown",
   "metadata": {},
   "source": [
    "### Profiles of NO3 and Dissolved Silica"
   ]
  },
  {
   "cell_type": "code",
   "execution_count": 28,
   "metadata": {},
   "outputs": [
    {
     "data": {
      "text/plain": [
       "Text(0.5, 1.0, 'dSi')"
      ]
     },
     "execution_count": 28,
     "metadata": {},
     "output_type": "execute_result"
    },
    {
     "data": {
      "image/png": "[encoded data removed]",
      "text/plain": [
       "<Figure size 1080x576 with 2 Axes>"
      ]
     },
     "metadata": {
      "needs_background": "light"
     },
     "output_type": "display_data"
    }
   ],
   "source": [
    "fig, ax = plt.subplots(1,2,figsize = (15,8))\n",
    "cols=('crimson','red','orangered','darkorange','gold','chartreuse','green','lightseagreen','cyan',\n",
    "      'darkturquoise','royalblue','lightskyblue','blue','darkblue','mediumslateblue','blueviolet',\n",
    "      'darkmagenta','fuchsia','deeppink','pink')\n",
    "ii0=start_date\n",
    "for ii in range(0,int((end_date-start_date).days/30)):\n",
    "    iii=(data.dtUTC>=(start_date+dt.timedelta(days=ii*30)))&(data.dtUTC<(start_date+dt.timedelta(days=(ii+1)*30)))\n",
    "    ax[0].plot(data.loc[iii,['mod_nitrate']].values-data.loc[iii,['NO23']].values, data.loc[iii,['Z']].values, \n",
    "        '.', color = cols[ii],label=str(ii))\n",
    "    ax[1].plot(data.loc[iii,['mod_silicon']].values-data.loc[iii,['Si']].values, data.loc[iii,['Z']].values, \n",
    "        '.', color = cols[ii],label=str(ii))\n",
    "for axi in (ax[0],ax[1]):\n",
    "    axi.legend(loc=4)\n",
    "    axi.set_ylim(70,0)\n",
    "    axi.set_ylabel('Depth (m)')\n",
    "ax[0].set_xlabel('Model - Obs')\n",
    "ax[1].set_xlabel('Model - Obs')\n",
    "ax[0].set_xlim(-25,25)\n",
    "ax[1].set_xlim(-60,20)\n",
    "ax[0].set_title('NO3')\n",
    "ax[1].set_title('dSi')"
   ]
  },
  {
   "cell_type": "markdown",
   "metadata": {},
   "source": [
    "# dSi:NO3 Ratios"
   ]
  },
  {
   "cell_type": "code",
   "execution_count": 29,
   "metadata": {},
   "outputs": [
    {
     "data": {
      "text/plain": [
       "<matplotlib.legend.Legend at 0x7f2ce7bbe340>"
      ]
     },
     "execution_count": 29,
     "metadata": {},
     "output_type": "execute_result"
    },
    {
     "data": {
      "image/png": "[encoded data removed]",
      "text/plain": [
       "<Figure size 1080x432 with 2 Axes>"
      ]
     },
     "metadata": {
      "needs_background": "light"
     },
     "output_type": "display_data"
    }
   ],
   "source": [
    "fig,ax=plt.subplots(1,2,figsize=(15,6))\n",
    "for ind,iregion in enumerate(data.Basin.unique()):\n",
    "    p1=ax[0].plot(datreg[iregion]['NO23'],datreg[iregion]['Si'],'.',\n",
    "                  color=colors[ind],label=iregion)\n",
    "ax[0].plot(np.arange(0,41),1.35*np.arange(0,41)+6.46,'k-',label='OBC')\n",
    "ax[0].set_title('Observed')\n",
    "ax[0].set_xlabel('NO3')\n",
    "ax[0].set_ylabel('dSi')\n",
    "ax[0].set_xlim(0,40)\n",
    "ax[0].set_ylim(0,85)\n",
    "ax[0].legend()\n",
    "\n",
    "for ind,iregion in enumerate(data.Basin.unique()):\n",
    "    p=ax[1].plot(datreg[iregion]['mod_nitrate'],datreg[iregion]['mod_silicon'],'.',\n",
    "                  color=colors[ind],label=iregion)\n",
    "ax[1].plot(np.arange(0,41),1.35*np.arange(0,41)+6.46,'k-',label='OBC')\n",
    "ax[1].set_title('Model')\n",
    "ax[1].set_xlabel('NO3')\n",
    "ax[1].set_ylabel('dSi')\n",
    "ax[1].set_xlim(0,40)\n",
    "ax[1].set_ylim(0,85)\n",
    "ax[1].legend()\n",
    "#ax[0].plot(np.arange(0,35),1.3*np.arange(0,35),'k-')\n",
    "#ax[1].plot(np.arange(0,35),1.3*np.arange(0,35),'k-')"
   ]
  },
  {
   "cell_type": "markdown",
   "metadata": {},
   "source": [
    "# NH4"
   ]
  },
  {
   "cell_type": "code",
   "execution_count": 30,
   "metadata": {},
   "outputs": [
    {
     "name": "stderr",
     "output_type": "stream",
     "text": [
      "/home/eolson/anaconda3/envs/py39/lib/python3.9/site-packages/numpy/core/fromnumeric.py:3372: RuntimeWarning: Mean of empty slice.\n",
      "  return _methods._mean(a, axis=axis, dtype=dtype,\n",
      "/home/eolson/anaconda3/envs/py39/lib/python3.9/site-packages/numpy/core/_methods.py:170: RuntimeWarning: invalid value encountered in double_scalars\n",
      "  ret = ret.dtype.type(ret / rcount)\n",
      "/data/eolson/results/MEOPAR/tools/SalishSeaTools/salishsea_tools/evaltools.py:1135: RuntimeWarning: invalid value encountered in double_scalars\n",
      "  return np.sqrt(np.sum((mod-obs)**2)/len(mod))\n",
      "/data/eolson/results/MEOPAR/tools/SalishSeaTools/salishsea_tools/evaltools.py:1131: RuntimeWarning: invalid value encountered in double_scalars\n",
      "  return 1.0-np.sum((mod-obs)**2)/np.sum((np.abs(mod-np.mean(obs))+np.abs(obs-np.mean(obs)))**2)\n"
     ]
    },
    {
     "data": {
      "text/html": [
       "<style  type=\"text/css\" >\n",
       "</style><table id=\"T_97657fd6_5b88_11eb_a5de_10c37b4d93ce\" ><thead>    <tr>        <th class=\"blank\" ></th>        <th class=\"blank level0\" ></th>        <th class=\"col_heading level0 col0\" ></th>    </tr>    <tr>        <th class=\"blank\" ></th>        <th class=\"blank level1\" ></th>        <th class=\"col_heading level1 col0\" >N</th>    </tr>    <tr>        <th class=\"index_name level0\" ></th>        <th class=\"index_name level1\" >Subset</th>        <th class=\"blank\" ></th>    </tr></thead><tbody>\n",
       "                <tr>\n",
       "                        <th id=\"T_97657fd6_5b88_11eb_a5de_10c37b4d93celevel0_row0\" class=\"row_heading level0 row0\" >0</th>\n",
       "                        <th id=\"T_97657fd6_5b88_11eb_a5de_10c37b4d93celevel1_row0\" class=\"row_heading level1 row0\" >z < 15 m</th>\n",
       "                        <td id=\"T_97657fd6_5b88_11eb_a5de_10c37b4d93cerow0_col0\" class=\"data row0 col0\" >0.000000</td>\n",
       "            </tr>\n",
       "            <tr>\n",
       "                        <th id=\"T_97657fd6_5b88_11eb_a5de_10c37b4d93celevel0_row1\" class=\"row_heading level0 row1\" >1</th>\n",
       "                        <th id=\"T_97657fd6_5b88_11eb_a5de_10c37b4d93celevel1_row1\" class=\"row_heading level1 row1\" >15 m < z < 22 m</th>\n",
       "                        <td id=\"T_97657fd6_5b88_11eb_a5de_10c37b4d93cerow1_col0\" class=\"data row1 col0\" >0.000000</td>\n",
       "            </tr>\n",
       "            <tr>\n",
       "                        <th id=\"T_97657fd6_5b88_11eb_a5de_10c37b4d93celevel0_row2\" class=\"row_heading level0 row2\" >2</th>\n",
       "                        <th id=\"T_97657fd6_5b88_11eb_a5de_10c37b4d93celevel1_row2\" class=\"row_heading level1 row2\" >z >= 22 m</th>\n",
       "                        <td id=\"T_97657fd6_5b88_11eb_a5de_10c37b4d93cerow2_col0\" class=\"data row2 col0\" >0.000000</td>\n",
       "            </tr>\n",
       "            <tr>\n",
       "                        <th id=\"T_97657fd6_5b88_11eb_a5de_10c37b4d93celevel0_row3\" class=\"row_heading level0 row3\" >3</th>\n",
       "                        <th id=\"T_97657fd6_5b88_11eb_a5de_10c37b4d93celevel1_row3\" class=\"row_heading level1 row3\" >z > 50 m</th>\n",
       "                        <td id=\"T_97657fd6_5b88_11eb_a5de_10c37b4d93cerow3_col0\" class=\"data row3 col0\" >0.000000</td>\n",
       "            </tr>\n",
       "            <tr>\n",
       "                        <th id=\"T_97657fd6_5b88_11eb_a5de_10c37b4d93celevel0_row4\" class=\"row_heading level0 row4\" >4</th>\n",
       "                        <th id=\"T_97657fd6_5b88_11eb_a5de_10c37b4d93celevel1_row4\" class=\"row_heading level1 row4\" >all</th>\n",
       "                        <td id=\"T_97657fd6_5b88_11eb_a5de_10c37b4d93cerow4_col0\" class=\"data row4 col0\" >0.000000</td>\n",
       "            </tr>\n",
       "            <tr>\n",
       "                        <th id=\"T_97657fd6_5b88_11eb_a5de_10c37b4d93celevel0_row5\" class=\"row_heading level0 row5\" >5</th>\n",
       "                        <th id=\"T_97657fd6_5b88_11eb_a5de_10c37b4d93celevel1_row5\" class=\"row_heading level1 row5\" >z < 15 m, JFM</th>\n",
       "                        <td id=\"T_97657fd6_5b88_11eb_a5de_10c37b4d93cerow5_col0\" class=\"data row5 col0\" >0.000000</td>\n",
       "            </tr>\n",
       "            <tr>\n",
       "                        <th id=\"T_97657fd6_5b88_11eb_a5de_10c37b4d93celevel0_row6\" class=\"row_heading level0 row6\" >6</th>\n",
       "                        <th id=\"T_97657fd6_5b88_11eb_a5de_10c37b4d93celevel1_row6\" class=\"row_heading level1 row6\" >z < 15 m, Apr</th>\n",
       "                        <td id=\"T_97657fd6_5b88_11eb_a5de_10c37b4d93cerow6_col0\" class=\"data row6 col0\" >0.000000</td>\n",
       "            </tr>\n",
       "            <tr>\n",
       "                        <th id=\"T_97657fd6_5b88_11eb_a5de_10c37b4d93celevel0_row7\" class=\"row_heading level0 row7\" >7</th>\n",
       "                        <th id=\"T_97657fd6_5b88_11eb_a5de_10c37b4d93celevel1_row7\" class=\"row_heading level1 row7\" >z < 15 m, MJJA</th>\n",
       "                        <td id=\"T_97657fd6_5b88_11eb_a5de_10c37b4d93cerow7_col0\" class=\"data row7 col0\" >0.000000</td>\n",
       "            </tr>\n",
       "            <tr>\n",
       "                        <th id=\"T_97657fd6_5b88_11eb_a5de_10c37b4d93celevel0_row8\" class=\"row_heading level0 row8\" >8</th>\n",
       "                        <th id=\"T_97657fd6_5b88_11eb_a5de_10c37b4d93celevel1_row8\" class=\"row_heading level1 row8\" >z < 15 m, SOND</th>\n",
       "                        <td id=\"T_97657fd6_5b88_11eb_a5de_10c37b4d93cerow8_col0\" class=\"data row8 col0\" >0.000000</td>\n",
       "            </tr>\n",
       "            <tr>\n",
       "                        <th id=\"T_97657fd6_5b88_11eb_a5de_10c37b4d93celevel0_row9\" class=\"row_heading level0 row9\" >9</th>\n",
       "                        <th id=\"T_97657fd6_5b88_11eb_a5de_10c37b4d93celevel1_row9\" class=\"row_heading level1 row9\" >South Basin</th>\n",
       "                        <td id=\"T_97657fd6_5b88_11eb_a5de_10c37b4d93cerow9_col0\" class=\"data row9 col0\" >0.000000</td>\n",
       "            </tr>\n",
       "            <tr>\n",
       "                        <th id=\"T_97657fd6_5b88_11eb_a5de_10c37b4d93celevel0_row10\" class=\"row_heading level0 row10\" >10</th>\n",
       "                        <th id=\"T_97657fd6_5b88_11eb_a5de_10c37b4d93celevel1_row10\" class=\"row_heading level1 row10\" >Whidbey Basin</th>\n",
       "                        <td id=\"T_97657fd6_5b88_11eb_a5de_10c37b4d93cerow10_col0\" class=\"data row10 col0\" >0.000000</td>\n",
       "            </tr>\n",
       "            <tr>\n",
       "                        <th id=\"T_97657fd6_5b88_11eb_a5de_10c37b4d93celevel0_row11\" class=\"row_heading level0 row11\" >11</th>\n",
       "                        <th id=\"T_97657fd6_5b88_11eb_a5de_10c37b4d93celevel1_row11\" class=\"row_heading level1 row11\" >Admiralty Inlet</th>\n",
       "                        <td id=\"T_97657fd6_5b88_11eb_a5de_10c37b4d93cerow11_col0\" class=\"data row11 col0\" >0.000000</td>\n",
       "            </tr>\n",
       "            <tr>\n",
       "                        <th id=\"T_97657fd6_5b88_11eb_a5de_10c37b4d93celevel0_row12\" class=\"row_heading level0 row12\" >12</th>\n",
       "                        <th id=\"T_97657fd6_5b88_11eb_a5de_10c37b4d93celevel1_row12\" class=\"row_heading level1 row12\" >Strait of Georgia</th>\n",
       "                        <td id=\"T_97657fd6_5b88_11eb_a5de_10c37b4d93cerow12_col0\" class=\"data row12 col0\" >0.000000</td>\n",
       "            </tr>\n",
       "            <tr>\n",
       "                        <th id=\"T_97657fd6_5b88_11eb_a5de_10c37b4d93celevel0_row13\" class=\"row_heading level0 row13\" >13</th>\n",
       "                        <th id=\"T_97657fd6_5b88_11eb_a5de_10c37b4d93celevel1_row13\" class=\"row_heading level1 row13\" >Main Basin</th>\n",
       "                        <td id=\"T_97657fd6_5b88_11eb_a5de_10c37b4d93cerow13_col0\" class=\"data row13 col0\" >0.000000</td>\n",
       "            </tr>\n",
       "            <tr>\n",
       "                        <th id=\"T_97657fd6_5b88_11eb_a5de_10c37b4d93celevel0_row14\" class=\"row_heading level0 row14\" >14</th>\n",
       "                        <th id=\"T_97657fd6_5b88_11eb_a5de_10c37b4d93celevel1_row14\" class=\"row_heading level1 row14\" >Hood Canal Basin</th>\n",
       "                        <td id=\"T_97657fd6_5b88_11eb_a5de_10c37b4d93cerow14_col0\" class=\"data row14 col0\" >0.000000</td>\n",
       "            </tr>\n",
       "            <tr>\n",
       "                        <th id=\"T_97657fd6_5b88_11eb_a5de_10c37b4d93celevel0_row15\" class=\"row_heading level0 row15\" >15</th>\n",
       "                        <th id=\"T_97657fd6_5b88_11eb_a5de_10c37b4d93celevel1_row15\" class=\"row_heading level1 row15\" >Strait of Juan de Fuca</th>\n",
       "                        <td id=\"T_97657fd6_5b88_11eb_a5de_10c37b4d93cerow15_col0\" class=\"data row15 col0\" >0.000000</td>\n",
       "            </tr>\n",
       "    </tbody></table>"
      ],
      "text/plain": [
       "<pandas.io.formats.style.Styler at 0x7f2ce7b100a0>"
      ]
     },
     "execution_count": 30,
     "metadata": {},
     "output_type": "execute_result"
    }
   ],
   "source": [
    "obsvar='Amm'\n",
    "modvar='mod_ammonium'\n",
    "statsDict[year]['NH4']=OrderedDict()\n",
    "for isub in statsubs:\n",
    "    statsDict[year]['NH4'][isub]=dict()\n",
    "    var=statsDict[year]['NH4'][isub]\n",
    "    var['N'],mmean,omean,var['Bias'],var['RMSE'],var['WSS']=et.stats(statsubs[isub].loc[:,[obsvar]],\n",
    "                                                                     statsubs[isub].loc[:,[modvar]])\n",
    "tbl,tdf=et.displayStats(statsDict[year]['NH4'],level='Subset',suborder=list(statsubs.keys()))\n",
    "tbl"
   ]
  },
  {
   "cell_type": "code",
   "execution_count": 31,
   "metadata": {},
   "outputs": [
    {
     "data": {
      "image/png": "[encoded data removed]",
      "text/plain": [
       "<Figure size 1152x504 with 2 Axes>"
      ]
     },
     "metadata": {
      "needs_background": "light"
     },
     "output_type": "display_data"
    }
   ],
   "source": [
    "fig, ax = plt.subplots(1,2,figsize = (16,7))\n",
    "ps,l=byDepth(ax[0],obsvar,modvar,(0,8))\n",
    "ax[0].set_title('NH$_4$ ($\\mu$M) By Depth')\n",
    "\n",
    "ps,l=byRegion(ax[1],obsvar,modvar,(0,8))\n",
    "ax[1].set_title('NH$_4$ ($\\mu$M) By Region');"
   ]
  },
  {
   "cell_type": "code",
   "execution_count": 32,
   "metadata": {},
   "outputs": [
    {
     "data": {
      "image/png": "[encoded data removed]",
      "text/plain": [
       "<Figure size 1152x237.6 with 4 Axes>"
      ]
     },
     "metadata": {
      "needs_background": "light"
     },
     "output_type": "display_data"
    },
    {
     "data": {
      "image/png": "[encoded data removed]",
      "text/plain": [
       "<Figure size 1440x21.6 with 1 Axes>"
      ]
     },
     "metadata": {
      "needs_background": "light"
     },
     "output_type": "display_data"
    }
   ],
   "source": [
    "fig, ax = plt.subplots(1,4,figsize = (16,3.3))\n",
    "bySeason(ax,obsvar,modvar,(0,8))\n",
    "fig,ax=plt.subplots(1,1,figsize=(20,.3))\n",
    "ax.plot(data.dtUTC,np.ones(np.shape(data.dtUTC)),'k.')\n",
    "ax.set_xlim((dt.datetime(year,1,1),dt.datetime(year,12,31)))\n",
    "ax.set_title('Data Timing')\n",
    "ax.yaxis.set_visible(False)"
   ]
  },
  {
   "cell_type": "markdown",
   "metadata": {},
   "source": [
    "### Does model ammonium depend strongly on model salinity? \n",
    "### Does the residual of (model-obs ammonium) depend on model salinity?"
   ]
  },
  {
   "cell_type": "code",
   "execution_count": 33,
   "metadata": {},
   "outputs": [
    {
     "data": {
      "text/html": [
       "<div>\n",
       "<style scoped>\n",
       "    .dataframe tbody tr th:only-of-type {\n",
       "        vertical-align: middle;\n",
       "    }\n",
       "\n",
       "    .dataframe tbody tr th {\n",
       "        vertical-align: top;\n",
       "    }\n",
       "\n",
       "    .dataframe thead th {\n",
       "        text-align: right;\n",
       "    }\n",
       "</style>\n",
       "<table border=\"1\" class=\"dataframe\">\n",
       "  <thead>\n",
       "    <tr style=\"text-align: right;\">\n",
       "      <th></th>\n",
       "      <th>Station</th>\n",
       "      <th>Desig</th>\n",
       "      <th>Descrip</th>\n",
       "      <th>Basin</th>\n",
       "      <th>Max_Depth</th>\n",
       "      <th>Lat</th>\n",
       "      <th>Lon</th>\n",
       "      <th>Date</th>\n",
       "      <th>dtUTC</th>\n",
       "      <th>Z</th>\n",
       "      <th>...</th>\n",
       "      <th>YD</th>\n",
       "      <th>j</th>\n",
       "      <th>i</th>\n",
       "      <th>mod_nitrate</th>\n",
       "      <th>mod_silicon</th>\n",
       "      <th>mod_ammonium</th>\n",
       "      <th>mod_diatoms</th>\n",
       "      <th>mod_ciliates</th>\n",
       "      <th>mod_flagellates</th>\n",
       "      <th>k</th>\n",
       "    </tr>\n",
       "  </thead>\n",
       "  <tbody>\n",
       "    <tr>\n",
       "      <th>0</th>\n",
       "      <td>CSE001</td>\n",
       "      <td>C</td>\n",
       "      <td>Case Inlet - S. Heron Island</td>\n",
       "      <td>South Basin</td>\n",
       "      <td>65</td>\n",
       "      <td>47.264540</td>\n",
       "      <td>-122.844305</td>\n",
       "      <td>2019-01-07</td>\n",
       "      <td>2019-01-07 20:00:00</td>\n",
       "      <td>0.737</td>\n",
       "      <td>...</td>\n",
       "      <td>7</td>\n",
       "      <td>39</td>\n",
       "      <td>134</td>\n",
       "      <td>18.943811</td>\n",
       "      <td>35.809155</td>\n",
       "      <td>0.774480</td>\n",
       "      <td>0.000558</td>\n",
       "      <td>0.134135</td>\n",
       "      <td>0.189708</td>\n",
       "      <td>0</td>\n",
       "    </tr>\n",
       "    <tr>\n",
       "      <th>1</th>\n",
       "      <td>BUD005</td>\n",
       "      <td>C</td>\n",
       "      <td>Budd Inlet - Olympia Shoal</td>\n",
       "      <td>South Basin</td>\n",
       "      <td>22</td>\n",
       "      <td>47.092040</td>\n",
       "      <td>-122.918197</td>\n",
       "      <td>2019-01-07</td>\n",
       "      <td>2019-01-07 20:00:00</td>\n",
       "      <td>0.836</td>\n",
       "      <td>...</td>\n",
       "      <td>7</td>\n",
       "      <td>10</td>\n",
       "      <td>102</td>\n",
       "      <td>17.343246</td>\n",
       "      <td>38.659275</td>\n",
       "      <td>1.114079</td>\n",
       "      <td>0.000755</td>\n",
       "      <td>0.132869</td>\n",
       "      <td>0.198966</td>\n",
       "      <td>0</td>\n",
       "    </tr>\n",
       "    <tr>\n",
       "      <th>2</th>\n",
       "      <td>CRR001</td>\n",
       "      <td>C</td>\n",
       "      <td>Carr Inlet - Off Green Point</td>\n",
       "      <td>South Basin</td>\n",
       "      <td>110</td>\n",
       "      <td>47.276485</td>\n",
       "      <td>-122.709575</td>\n",
       "      <td>2019-01-07</td>\n",
       "      <td>2019-01-07 20:00:00</td>\n",
       "      <td>0.932</td>\n",
       "      <td>...</td>\n",
       "      <td>7</td>\n",
       "      <td>32</td>\n",
       "      <td>155</td>\n",
       "      <td>20.135460</td>\n",
       "      <td>35.809376</td>\n",
       "      <td>0.710166</td>\n",
       "      <td>0.000962</td>\n",
       "      <td>0.116686</td>\n",
       "      <td>0.166109</td>\n",
       "      <td>0</td>\n",
       "    </tr>\n",
       "    <tr>\n",
       "      <th>3</th>\n",
       "      <td>GOR001</td>\n",
       "      <td>C</td>\n",
       "      <td>Gordon Point</td>\n",
       "      <td>South Basin</td>\n",
       "      <td>114</td>\n",
       "      <td>47.183152</td>\n",
       "      <td>-122.634572</td>\n",
       "      <td>2019-01-07</td>\n",
       "      <td>2019-01-07 20:00:00</td>\n",
       "      <td>0.997</td>\n",
       "      <td>...</td>\n",
       "      <td>7</td>\n",
       "      <td>8</td>\n",
       "      <td>155</td>\n",
       "      <td>20.926075</td>\n",
       "      <td>36.757130</td>\n",
       "      <td>0.729685</td>\n",
       "      <td>0.002025</td>\n",
       "      <td>0.086989</td>\n",
       "      <td>0.128803</td>\n",
       "      <td>0</td>\n",
       "    </tr>\n",
       "    <tr>\n",
       "      <th>4</th>\n",
       "      <td>DNA001</td>\n",
       "      <td>C</td>\n",
       "      <td>Dana Passage - S. of Brisco Point</td>\n",
       "      <td>South Basin</td>\n",
       "      <td>41</td>\n",
       "      <td>47.161483</td>\n",
       "      <td>-122.871805</td>\n",
       "      <td>2019-01-07</td>\n",
       "      <td>2019-01-07 20:00:00</td>\n",
       "      <td>1.060</td>\n",
       "      <td>...</td>\n",
       "      <td>7</td>\n",
       "      <td>21</td>\n",
       "      <td>117</td>\n",
       "      <td>19.578867</td>\n",
       "      <td>36.753345</td>\n",
       "      <td>0.797401</td>\n",
       "      <td>0.000941</td>\n",
       "      <td>0.110116</td>\n",
       "      <td>0.151818</td>\n",
       "      <td>1</td>\n",
       "    </tr>\n",
       "  </tbody>\n",
       "</table>\n",
       "<p>5 rows × 31 columns</p>\n",
       "</div>"
      ],
      "text/plain": [
       "  Station Desig                            Descrip        Basin  Max_Depth  \\\n",
       "0  CSE001     C       Case Inlet - S. Heron Island  South Basin         65   \n",
       "1  BUD005     C         Budd Inlet - Olympia Shoal  South Basin         22   \n",
       "2  CRR001     C       Carr Inlet - Off Green Point  South Basin        110   \n",
       "3  GOR001     C                       Gordon Point  South Basin        114   \n",
       "4  DNA001     C  Dana Passage - S. of Brisco Point  South Basin         41   \n",
       "\n",
       "         Lat         Lon       Date               dtUTC      Z  ...  YD   j  \\\n",
       "0  47.264540 -122.844305 2019-01-07 2019-01-07 20:00:00  0.737  ...   7  39   \n",
       "1  47.092040 -122.918197 2019-01-07 2019-01-07 20:00:00  0.836  ...   7  10   \n",
       "2  47.276485 -122.709575 2019-01-07 2019-01-07 20:00:00  0.932  ...   7  32   \n",
       "3  47.183152 -122.634572 2019-01-07 2019-01-07 20:00:00  0.997  ...   7   8   \n",
       "4  47.161483 -122.871805 2019-01-07 2019-01-07 20:00:00  1.060  ...   7  21   \n",
       "\n",
       "     i  mod_nitrate  mod_silicon  mod_ammonium  mod_diatoms  mod_ciliates  \\\n",
       "0  134    18.943811    35.809155      0.774480     0.000558      0.134135   \n",
       "1  102    17.343246    38.659275      1.114079     0.000755      0.132869   \n",
       "2  155    20.135460    35.809376      0.710166     0.000962      0.116686   \n",
       "3  155    20.926075    36.757130      0.729685     0.002025      0.086989   \n",
       "4  117    19.578867    36.753345      0.797401     0.000941      0.110116   \n",
       "\n",
       "   mod_flagellates  k  \n",
       "0         0.189708  0  \n",
       "1         0.198966  0  \n",
       "2         0.166109  0  \n",
       "3         0.128803  0  \n",
       "4         0.151818  1  \n",
       "\n",
       "[5 rows x 31 columns]"
      ]
     },
     "execution_count": 33,
     "metadata": {},
     "output_type": "execute_result"
    }
   ],
   "source": [
    "data.head()"
   ]
  },
  {
   "cell_type": "code",
   "execution_count": 34,
   "metadata": {},
   "outputs": [
    {
     "data": {
      "text/plain": [
       "Index(['Station', 'Desig', 'Descrip', 'Basin', 'Max_Depth', 'Lat', 'Lon',\n",
       "       'Date', 'dtUTC', 'Z', 'PO4(uM)D', 'SiOH4(uM)D', 'NO3(uM)D', 'NO2(uM)D',\n",
       "       'NH4(uM)D', 'DIN', 'Znom', 'NO23', 'Amm', 'Si', 'Year', 'YD', 'j', 'i',\n",
       "       'mod_nitrate', 'mod_silicon', 'mod_ammonium', 'mod_diatoms',\n",
       "       'mod_ciliates', 'mod_flagellates', 'k'],\n",
       "      dtype='object')"
      ]
     },
     "execution_count": 34,
     "metadata": {},
     "output_type": "execute_result"
    }
   ],
   "source": [
    "data.keys()"
   ]
  },
  {
   "cell_type": "code",
   "execution_count": 35,
   "metadata": {},
   "outputs": [
    {
     "data": {
      "text/html": [
       "<style  type=\"text/css\" >\n",
       "</style><table id=\"T_97c0460a_5b88_11eb_bed9_10c37b4d93ce\" ><thead>    <tr>        <th class=\"blank\" ></th>        <th class=\"blank\" ></th>        <th class=\"blank level0\" ></th>        <th class=\"col_heading level0 col0\" ></th>    </tr>    <tr>        <th class=\"blank\" ></th>        <th class=\"blank\" ></th>        <th class=\"blank level1\" ></th>        <th class=\"col_heading level1 col0\" >N</th>    </tr>    <tr>        <th class=\"index_name level0\" >Variable</th>        <th class=\"index_name level1\" ></th>        <th class=\"index_name level2\" >Subset</th>        <th class=\"blank\" ></th>    </tr></thead><tbody>\n",
       "                <tr>\n",
       "                        <th id=\"T_97c0460a_5b88_11eb_bed9_10c37b4d93celevel0_row0\" class=\"row_heading level0 row0\" rowspan=16>NH4</th>\n",
       "                        <th id=\"T_97c0460a_5b88_11eb_bed9_10c37b4d93celevel1_row0\" class=\"row_heading level1 row0\" >0</th>\n",
       "                        <th id=\"T_97c0460a_5b88_11eb_bed9_10c37b4d93celevel2_row0\" class=\"row_heading level2 row0\" >z < 15 m</th>\n",
       "                        <td id=\"T_97c0460a_5b88_11eb_bed9_10c37b4d93cerow0_col0\" class=\"data row0 col0\" >0.000000</td>\n",
       "            </tr>\n",
       "            <tr>\n",
       "                                <th id=\"T_97c0460a_5b88_11eb_bed9_10c37b4d93celevel1_row1\" class=\"row_heading level1 row1\" >1</th>\n",
       "                        <th id=\"T_97c0460a_5b88_11eb_bed9_10c37b4d93celevel2_row1\" class=\"row_heading level2 row1\" >15 m < z < 22 m</th>\n",
       "                        <td id=\"T_97c0460a_5b88_11eb_bed9_10c37b4d93cerow1_col0\" class=\"data row1 col0\" >0.000000</td>\n",
       "            </tr>\n",
       "            <tr>\n",
       "                                <th id=\"T_97c0460a_5b88_11eb_bed9_10c37b4d93celevel1_row2\" class=\"row_heading level1 row2\" >2</th>\n",
       "                        <th id=\"T_97c0460a_5b88_11eb_bed9_10c37b4d93celevel2_row2\" class=\"row_heading level2 row2\" >z >= 22 m</th>\n",
       "                        <td id=\"T_97c0460a_5b88_11eb_bed9_10c37b4d93cerow2_col0\" class=\"data row2 col0\" >0.000000</td>\n",
       "            </tr>\n",
       "            <tr>\n",
       "                                <th id=\"T_97c0460a_5b88_11eb_bed9_10c37b4d93celevel1_row3\" class=\"row_heading level1 row3\" >3</th>\n",
       "                        <th id=\"T_97c0460a_5b88_11eb_bed9_10c37b4d93celevel2_row3\" class=\"row_heading level2 row3\" >z > 50 m</th>\n",
       "                        <td id=\"T_97c0460a_5b88_11eb_bed9_10c37b4d93cerow3_col0\" class=\"data row3 col0\" >0.000000</td>\n",
       "            </tr>\n",
       "            <tr>\n",
       "                                <th id=\"T_97c0460a_5b88_11eb_bed9_10c37b4d93celevel1_row4\" class=\"row_heading level1 row4\" >4</th>\n",
       "                        <th id=\"T_97c0460a_5b88_11eb_bed9_10c37b4d93celevel2_row4\" class=\"row_heading level2 row4\" >all</th>\n",
       "                        <td id=\"T_97c0460a_5b88_11eb_bed9_10c37b4d93cerow4_col0\" class=\"data row4 col0\" >0.000000</td>\n",
       "            </tr>\n",
       "            <tr>\n",
       "                                <th id=\"T_97c0460a_5b88_11eb_bed9_10c37b4d93celevel1_row5\" class=\"row_heading level1 row5\" >5</th>\n",
       "                        <th id=\"T_97c0460a_5b88_11eb_bed9_10c37b4d93celevel2_row5\" class=\"row_heading level2 row5\" >z < 15 m, JFM</th>\n",
       "                        <td id=\"T_97c0460a_5b88_11eb_bed9_10c37b4d93cerow5_col0\" class=\"data row5 col0\" >0.000000</td>\n",
       "            </tr>\n",
       "            <tr>\n",
       "                                <th id=\"T_97c0460a_5b88_11eb_bed9_10c37b4d93celevel1_row6\" class=\"row_heading level1 row6\" >6</th>\n",
       "                        <th id=\"T_97c0460a_5b88_11eb_bed9_10c37b4d93celevel2_row6\" class=\"row_heading level2 row6\" >z < 15 m, Apr</th>\n",
       "                        <td id=\"T_97c0460a_5b88_11eb_bed9_10c37b4d93cerow6_col0\" class=\"data row6 col0\" >0.000000</td>\n",
       "            </tr>\n",
       "            <tr>\n",
       "                                <th id=\"T_97c0460a_5b88_11eb_bed9_10c37b4d93celevel1_row7\" class=\"row_heading level1 row7\" >7</th>\n",
       "                        <th id=\"T_97c0460a_5b88_11eb_bed9_10c37b4d93celevel2_row7\" class=\"row_heading level2 row7\" >z < 15 m, MJJA</th>\n",
       "                        <td id=\"T_97c0460a_5b88_11eb_bed9_10c37b4d93cerow7_col0\" class=\"data row7 col0\" >0.000000</td>\n",
       "            </tr>\n",
       "            <tr>\n",
       "                                <th id=\"T_97c0460a_5b88_11eb_bed9_10c37b4d93celevel1_row8\" class=\"row_heading level1 row8\" >8</th>\n",
       "                        <th id=\"T_97c0460a_5b88_11eb_bed9_10c37b4d93celevel2_row8\" class=\"row_heading level2 row8\" >z < 15 m, SOND</th>\n",
       "                        <td id=\"T_97c0460a_5b88_11eb_bed9_10c37b4d93cerow8_col0\" class=\"data row8 col0\" >0.000000</td>\n",
       "            </tr>\n",
       "            <tr>\n",
       "                                <th id=\"T_97c0460a_5b88_11eb_bed9_10c37b4d93celevel1_row9\" class=\"row_heading level1 row9\" >9</th>\n",
       "                        <th id=\"T_97c0460a_5b88_11eb_bed9_10c37b4d93celevel2_row9\" class=\"row_heading level2 row9\" >South Basin</th>\n",
       "                        <td id=\"T_97c0460a_5b88_11eb_bed9_10c37b4d93cerow9_col0\" class=\"data row9 col0\" >0.000000</td>\n",
       "            </tr>\n",
       "            <tr>\n",
       "                                <th id=\"T_97c0460a_5b88_11eb_bed9_10c37b4d93celevel1_row10\" class=\"row_heading level1 row10\" >10</th>\n",
       "                        <th id=\"T_97c0460a_5b88_11eb_bed9_10c37b4d93celevel2_row10\" class=\"row_heading level2 row10\" >Whidbey Basin</th>\n",
       "                        <td id=\"T_97c0460a_5b88_11eb_bed9_10c37b4d93cerow10_col0\" class=\"data row10 col0\" >0.000000</td>\n",
       "            </tr>\n",
       "            <tr>\n",
       "                                <th id=\"T_97c0460a_5b88_11eb_bed9_10c37b4d93celevel1_row11\" class=\"row_heading level1 row11\" >11</th>\n",
       "                        <th id=\"T_97c0460a_5b88_11eb_bed9_10c37b4d93celevel2_row11\" class=\"row_heading level2 row11\" >Admiralty Inlet</th>\n",
       "                        <td id=\"T_97c0460a_5b88_11eb_bed9_10c37b4d93cerow11_col0\" class=\"data row11 col0\" >0.000000</td>\n",
       "            </tr>\n",
       "            <tr>\n",
       "                                <th id=\"T_97c0460a_5b88_11eb_bed9_10c37b4d93celevel1_row12\" class=\"row_heading level1 row12\" >12</th>\n",
       "                        <th id=\"T_97c0460a_5b88_11eb_bed9_10c37b4d93celevel2_row12\" class=\"row_heading level2 row12\" >Strait of Georgia</th>\n",
       "                        <td id=\"T_97c0460a_5b88_11eb_bed9_10c37b4d93cerow12_col0\" class=\"data row12 col0\" >0.000000</td>\n",
       "            </tr>\n",
       "            <tr>\n",
       "                                <th id=\"T_97c0460a_5b88_11eb_bed9_10c37b4d93celevel1_row13\" class=\"row_heading level1 row13\" >13</th>\n",
       "                        <th id=\"T_97c0460a_5b88_11eb_bed9_10c37b4d93celevel2_row13\" class=\"row_heading level2 row13\" >Main Basin</th>\n",
       "                        <td id=\"T_97c0460a_5b88_11eb_bed9_10c37b4d93cerow13_col0\" class=\"data row13 col0\" >0.000000</td>\n",
       "            </tr>\n",
       "            <tr>\n",
       "                                <th id=\"T_97c0460a_5b88_11eb_bed9_10c37b4d93celevel1_row14\" class=\"row_heading level1 row14\" >14</th>\n",
       "                        <th id=\"T_97c0460a_5b88_11eb_bed9_10c37b4d93celevel2_row14\" class=\"row_heading level2 row14\" >Hood Canal Basin</th>\n",
       "                        <td id=\"T_97c0460a_5b88_11eb_bed9_10c37b4d93cerow14_col0\" class=\"data row14 col0\" >0.000000</td>\n",
       "            </tr>\n",
       "            <tr>\n",
       "                                <th id=\"T_97c0460a_5b88_11eb_bed9_10c37b4d93celevel1_row15\" class=\"row_heading level1 row15\" >15</th>\n",
       "                        <th id=\"T_97c0460a_5b88_11eb_bed9_10c37b4d93celevel2_row15\" class=\"row_heading level2 row15\" >Strait of Juan de Fuca</th>\n",
       "                        <td id=\"T_97c0460a_5b88_11eb_bed9_10c37b4d93cerow15_col0\" class=\"data row15 col0\" >0.000000</td>\n",
       "            </tr>\n",
       "            <tr>\n",
       "                        <th id=\"T_97c0460a_5b88_11eb_bed9_10c37b4d93celevel0_row16\" class=\"row_heading level0 row16\" rowspan=16>NO3</th>\n",
       "                        <th id=\"T_97c0460a_5b88_11eb_bed9_10c37b4d93celevel1_row16\" class=\"row_heading level1 row16\" >0</th>\n",
       "                        <th id=\"T_97c0460a_5b88_11eb_bed9_10c37b4d93celevel2_row16\" class=\"row_heading level2 row16\" >z < 15 m</th>\n",
       "                        <td id=\"T_97c0460a_5b88_11eb_bed9_10c37b4d93cerow16_col0\" class=\"data row16 col0\" >0.000000</td>\n",
       "            </tr>\n",
       "            <tr>\n",
       "                                <th id=\"T_97c0460a_5b88_11eb_bed9_10c37b4d93celevel1_row17\" class=\"row_heading level1 row17\" >1</th>\n",
       "                        <th id=\"T_97c0460a_5b88_11eb_bed9_10c37b4d93celevel2_row17\" class=\"row_heading level2 row17\" >15 m < z < 22 m</th>\n",
       "                        <td id=\"T_97c0460a_5b88_11eb_bed9_10c37b4d93cerow17_col0\" class=\"data row17 col0\" >0.000000</td>\n",
       "            </tr>\n",
       "            <tr>\n",
       "                                <th id=\"T_97c0460a_5b88_11eb_bed9_10c37b4d93celevel1_row18\" class=\"row_heading level1 row18\" >2</th>\n",
       "                        <th id=\"T_97c0460a_5b88_11eb_bed9_10c37b4d93celevel2_row18\" class=\"row_heading level2 row18\" >z >= 22 m</th>\n",
       "                        <td id=\"T_97c0460a_5b88_11eb_bed9_10c37b4d93cerow18_col0\" class=\"data row18 col0\" >0.000000</td>\n",
       "            </tr>\n",
       "            <tr>\n",
       "                                <th id=\"T_97c0460a_5b88_11eb_bed9_10c37b4d93celevel1_row19\" class=\"row_heading level1 row19\" >3</th>\n",
       "                        <th id=\"T_97c0460a_5b88_11eb_bed9_10c37b4d93celevel2_row19\" class=\"row_heading level2 row19\" >z > 50 m</th>\n",
       "                        <td id=\"T_97c0460a_5b88_11eb_bed9_10c37b4d93cerow19_col0\" class=\"data row19 col0\" >0.000000</td>\n",
       "            </tr>\n",
       "            <tr>\n",
       "                                <th id=\"T_97c0460a_5b88_11eb_bed9_10c37b4d93celevel1_row20\" class=\"row_heading level1 row20\" >4</th>\n",
       "                        <th id=\"T_97c0460a_5b88_11eb_bed9_10c37b4d93celevel2_row20\" class=\"row_heading level2 row20\" >all</th>\n",
       "                        <td id=\"T_97c0460a_5b88_11eb_bed9_10c37b4d93cerow20_col0\" class=\"data row20 col0\" >0.000000</td>\n",
       "            </tr>\n",
       "            <tr>\n",
       "                                <th id=\"T_97c0460a_5b88_11eb_bed9_10c37b4d93celevel1_row21\" class=\"row_heading level1 row21\" >5</th>\n",
       "                        <th id=\"T_97c0460a_5b88_11eb_bed9_10c37b4d93celevel2_row21\" class=\"row_heading level2 row21\" >z < 15 m, JFM</th>\n",
       "                        <td id=\"T_97c0460a_5b88_11eb_bed9_10c37b4d93cerow21_col0\" class=\"data row21 col0\" >0.000000</td>\n",
       "            </tr>\n",
       "            <tr>\n",
       "                                <th id=\"T_97c0460a_5b88_11eb_bed9_10c37b4d93celevel1_row22\" class=\"row_heading level1 row22\" >6</th>\n",
       "                        <th id=\"T_97c0460a_5b88_11eb_bed9_10c37b4d93celevel2_row22\" class=\"row_heading level2 row22\" >z < 15 m, Apr</th>\n",
       "                        <td id=\"T_97c0460a_5b88_11eb_bed9_10c37b4d93cerow22_col0\" class=\"data row22 col0\" >0.000000</td>\n",
       "            </tr>\n",
       "            <tr>\n",
       "                                <th id=\"T_97c0460a_5b88_11eb_bed9_10c37b4d93celevel1_row23\" class=\"row_heading level1 row23\" >7</th>\n",
       "                        <th id=\"T_97c0460a_5b88_11eb_bed9_10c37b4d93celevel2_row23\" class=\"row_heading level2 row23\" >z < 15 m, MJJA</th>\n",
       "                        <td id=\"T_97c0460a_5b88_11eb_bed9_10c37b4d93cerow23_col0\" class=\"data row23 col0\" >0.000000</td>\n",
       "            </tr>\n",
       "            <tr>\n",
       "                                <th id=\"T_97c0460a_5b88_11eb_bed9_10c37b4d93celevel1_row24\" class=\"row_heading level1 row24\" >8</th>\n",
       "                        <th id=\"T_97c0460a_5b88_11eb_bed9_10c37b4d93celevel2_row24\" class=\"row_heading level2 row24\" >z < 15 m, SOND</th>\n",
       "                        <td id=\"T_97c0460a_5b88_11eb_bed9_10c37b4d93cerow24_col0\" class=\"data row24 col0\" >0.000000</td>\n",
       "            </tr>\n",
       "            <tr>\n",
       "                                <th id=\"T_97c0460a_5b88_11eb_bed9_10c37b4d93celevel1_row25\" class=\"row_heading level1 row25\" >9</th>\n",
       "                        <th id=\"T_97c0460a_5b88_11eb_bed9_10c37b4d93celevel2_row25\" class=\"row_heading level2 row25\" >South Basin</th>\n",
       "                        <td id=\"T_97c0460a_5b88_11eb_bed9_10c37b4d93cerow25_col0\" class=\"data row25 col0\" >0.000000</td>\n",
       "            </tr>\n",
       "            <tr>\n",
       "                                <th id=\"T_97c0460a_5b88_11eb_bed9_10c37b4d93celevel1_row26\" class=\"row_heading level1 row26\" >10</th>\n",
       "                        <th id=\"T_97c0460a_5b88_11eb_bed9_10c37b4d93celevel2_row26\" class=\"row_heading level2 row26\" >Whidbey Basin</th>\n",
       "                        <td id=\"T_97c0460a_5b88_11eb_bed9_10c37b4d93cerow26_col0\" class=\"data row26 col0\" >0.000000</td>\n",
       "            </tr>\n",
       "            <tr>\n",
       "                                <th id=\"T_97c0460a_5b88_11eb_bed9_10c37b4d93celevel1_row27\" class=\"row_heading level1 row27\" >11</th>\n",
       "                        <th id=\"T_97c0460a_5b88_11eb_bed9_10c37b4d93celevel2_row27\" class=\"row_heading level2 row27\" >Admiralty Inlet</th>\n",
       "                        <td id=\"T_97c0460a_5b88_11eb_bed9_10c37b4d93cerow27_col0\" class=\"data row27 col0\" >0.000000</td>\n",
       "            </tr>\n",
       "            <tr>\n",
       "                                <th id=\"T_97c0460a_5b88_11eb_bed9_10c37b4d93celevel1_row28\" class=\"row_heading level1 row28\" >12</th>\n",
       "                        <th id=\"T_97c0460a_5b88_11eb_bed9_10c37b4d93celevel2_row28\" class=\"row_heading level2 row28\" >Strait of Georgia</th>\n",
       "                        <td id=\"T_97c0460a_5b88_11eb_bed9_10c37b4d93cerow28_col0\" class=\"data row28 col0\" >0.000000</td>\n",
       "            </tr>\n",
       "            <tr>\n",
       "                                <th id=\"T_97c0460a_5b88_11eb_bed9_10c37b4d93celevel1_row29\" class=\"row_heading level1 row29\" >13</th>\n",
       "                        <th id=\"T_97c0460a_5b88_11eb_bed9_10c37b4d93celevel2_row29\" class=\"row_heading level2 row29\" >Main Basin</th>\n",
       "                        <td id=\"T_97c0460a_5b88_11eb_bed9_10c37b4d93cerow29_col0\" class=\"data row29 col0\" >0.000000</td>\n",
       "            </tr>\n",
       "            <tr>\n",
       "                                <th id=\"T_97c0460a_5b88_11eb_bed9_10c37b4d93celevel1_row30\" class=\"row_heading level1 row30\" >14</th>\n",
       "                        <th id=\"T_97c0460a_5b88_11eb_bed9_10c37b4d93celevel2_row30\" class=\"row_heading level2 row30\" >Hood Canal Basin</th>\n",
       "                        <td id=\"T_97c0460a_5b88_11eb_bed9_10c37b4d93cerow30_col0\" class=\"data row30 col0\" >0.000000</td>\n",
       "            </tr>\n",
       "            <tr>\n",
       "                                <th id=\"T_97c0460a_5b88_11eb_bed9_10c37b4d93celevel1_row31\" class=\"row_heading level1 row31\" >15</th>\n",
       "                        <th id=\"T_97c0460a_5b88_11eb_bed9_10c37b4d93celevel2_row31\" class=\"row_heading level2 row31\" >Strait of Juan de Fuca</th>\n",
       "                        <td id=\"T_97c0460a_5b88_11eb_bed9_10c37b4d93cerow31_col0\" class=\"data row31 col0\" >0.000000</td>\n",
       "            </tr>\n",
       "            <tr>\n",
       "                        <th id=\"T_97c0460a_5b88_11eb_bed9_10c37b4d93celevel0_row32\" class=\"row_heading level0 row32\" rowspan=16>dSi</th>\n",
       "                        <th id=\"T_97c0460a_5b88_11eb_bed9_10c37b4d93celevel1_row32\" class=\"row_heading level1 row32\" >0</th>\n",
       "                        <th id=\"T_97c0460a_5b88_11eb_bed9_10c37b4d93celevel2_row32\" class=\"row_heading level2 row32\" >z < 15 m</th>\n",
       "                        <td id=\"T_97c0460a_5b88_11eb_bed9_10c37b4d93cerow32_col0\" class=\"data row32 col0\" >0.000000</td>\n",
       "            </tr>\n",
       "            <tr>\n",
       "                                <th id=\"T_97c0460a_5b88_11eb_bed9_10c37b4d93celevel1_row33\" class=\"row_heading level1 row33\" >1</th>\n",
       "                        <th id=\"T_97c0460a_5b88_11eb_bed9_10c37b4d93celevel2_row33\" class=\"row_heading level2 row33\" >15 m < z < 22 m</th>\n",
       "                        <td id=\"T_97c0460a_5b88_11eb_bed9_10c37b4d93cerow33_col0\" class=\"data row33 col0\" >0.000000</td>\n",
       "            </tr>\n",
       "            <tr>\n",
       "                                <th id=\"T_97c0460a_5b88_11eb_bed9_10c37b4d93celevel1_row34\" class=\"row_heading level1 row34\" >2</th>\n",
       "                        <th id=\"T_97c0460a_5b88_11eb_bed9_10c37b4d93celevel2_row34\" class=\"row_heading level2 row34\" >z >= 22 m</th>\n",
       "                        <td id=\"T_97c0460a_5b88_11eb_bed9_10c37b4d93cerow34_col0\" class=\"data row34 col0\" >0.000000</td>\n",
       "            </tr>\n",
       "            <tr>\n",
       "                                <th id=\"T_97c0460a_5b88_11eb_bed9_10c37b4d93celevel1_row35\" class=\"row_heading level1 row35\" >3</th>\n",
       "                        <th id=\"T_97c0460a_5b88_11eb_bed9_10c37b4d93celevel2_row35\" class=\"row_heading level2 row35\" >z > 50 m</th>\n",
       "                        <td id=\"T_97c0460a_5b88_11eb_bed9_10c37b4d93cerow35_col0\" class=\"data row35 col0\" >0.000000</td>\n",
       "            </tr>\n",
       "            <tr>\n",
       "                                <th id=\"T_97c0460a_5b88_11eb_bed9_10c37b4d93celevel1_row36\" class=\"row_heading level1 row36\" >4</th>\n",
       "                        <th id=\"T_97c0460a_5b88_11eb_bed9_10c37b4d93celevel2_row36\" class=\"row_heading level2 row36\" >all</th>\n",
       "                        <td id=\"T_97c0460a_5b88_11eb_bed9_10c37b4d93cerow36_col0\" class=\"data row36 col0\" >0.000000</td>\n",
       "            </tr>\n",
       "            <tr>\n",
       "                                <th id=\"T_97c0460a_5b88_11eb_bed9_10c37b4d93celevel1_row37\" class=\"row_heading level1 row37\" >5</th>\n",
       "                        <th id=\"T_97c0460a_5b88_11eb_bed9_10c37b4d93celevel2_row37\" class=\"row_heading level2 row37\" >z < 15 m, JFM</th>\n",
       "                        <td id=\"T_97c0460a_5b88_11eb_bed9_10c37b4d93cerow37_col0\" class=\"data row37 col0\" >0.000000</td>\n",
       "            </tr>\n",
       "            <tr>\n",
       "                                <th id=\"T_97c0460a_5b88_11eb_bed9_10c37b4d93celevel1_row38\" class=\"row_heading level1 row38\" >6</th>\n",
       "                        <th id=\"T_97c0460a_5b88_11eb_bed9_10c37b4d93celevel2_row38\" class=\"row_heading level2 row38\" >z < 15 m, Apr</th>\n",
       "                        <td id=\"T_97c0460a_5b88_11eb_bed9_10c37b4d93cerow38_col0\" class=\"data row38 col0\" >0.000000</td>\n",
       "            </tr>\n",
       "            <tr>\n",
       "                                <th id=\"T_97c0460a_5b88_11eb_bed9_10c37b4d93celevel1_row39\" class=\"row_heading level1 row39\" >7</th>\n",
       "                        <th id=\"T_97c0460a_5b88_11eb_bed9_10c37b4d93celevel2_row39\" class=\"row_heading level2 row39\" >z < 15 m, MJJA</th>\n",
       "                        <td id=\"T_97c0460a_5b88_11eb_bed9_10c37b4d93cerow39_col0\" class=\"data row39 col0\" >0.000000</td>\n",
       "            </tr>\n",
       "            <tr>\n",
       "                                <th id=\"T_97c0460a_5b88_11eb_bed9_10c37b4d93celevel1_row40\" class=\"row_heading level1 row40\" >8</th>\n",
       "                        <th id=\"T_97c0460a_5b88_11eb_bed9_10c37b4d93celevel2_row40\" class=\"row_heading level2 row40\" >z < 15 m, SOND</th>\n",
       "                        <td id=\"T_97c0460a_5b88_11eb_bed9_10c37b4d93cerow40_col0\" class=\"data row40 col0\" >0.000000</td>\n",
       "            </tr>\n",
       "            <tr>\n",
       "                                <th id=\"T_97c0460a_5b88_11eb_bed9_10c37b4d93celevel1_row41\" class=\"row_heading level1 row41\" >9</th>\n",
       "                        <th id=\"T_97c0460a_5b88_11eb_bed9_10c37b4d93celevel2_row41\" class=\"row_heading level2 row41\" >South Basin</th>\n",
       "                        <td id=\"T_97c0460a_5b88_11eb_bed9_10c37b4d93cerow41_col0\" class=\"data row41 col0\" >0.000000</td>\n",
       "            </tr>\n",
       "            <tr>\n",
       "                                <th id=\"T_97c0460a_5b88_11eb_bed9_10c37b4d93celevel1_row42\" class=\"row_heading level1 row42\" >10</th>\n",
       "                        <th id=\"T_97c0460a_5b88_11eb_bed9_10c37b4d93celevel2_row42\" class=\"row_heading level2 row42\" >Whidbey Basin</th>\n",
       "                        <td id=\"T_97c0460a_5b88_11eb_bed9_10c37b4d93cerow42_col0\" class=\"data row42 col0\" >0.000000</td>\n",
       "            </tr>\n",
       "            <tr>\n",
       "                                <th id=\"T_97c0460a_5b88_11eb_bed9_10c37b4d93celevel1_row43\" class=\"row_heading level1 row43\" >11</th>\n",
       "                        <th id=\"T_97c0460a_5b88_11eb_bed9_10c37b4d93celevel2_row43\" class=\"row_heading level2 row43\" >Admiralty Inlet</th>\n",
       "                        <td id=\"T_97c0460a_5b88_11eb_bed9_10c37b4d93cerow43_col0\" class=\"data row43 col0\" >0.000000</td>\n",
       "            </tr>\n",
       "            <tr>\n",
       "                                <th id=\"T_97c0460a_5b88_11eb_bed9_10c37b4d93celevel1_row44\" class=\"row_heading level1 row44\" >12</th>\n",
       "                        <th id=\"T_97c0460a_5b88_11eb_bed9_10c37b4d93celevel2_row44\" class=\"row_heading level2 row44\" >Strait of Georgia</th>\n",
       "                        <td id=\"T_97c0460a_5b88_11eb_bed9_10c37b4d93cerow44_col0\" class=\"data row44 col0\" >0.000000</td>\n",
       "            </tr>\n",
       "            <tr>\n",
       "                                <th id=\"T_97c0460a_5b88_11eb_bed9_10c37b4d93celevel1_row45\" class=\"row_heading level1 row45\" >13</th>\n",
       "                        <th id=\"T_97c0460a_5b88_11eb_bed9_10c37b4d93celevel2_row45\" class=\"row_heading level2 row45\" >Main Basin</th>\n",
       "                        <td id=\"T_97c0460a_5b88_11eb_bed9_10c37b4d93cerow45_col0\" class=\"data row45 col0\" >0.000000</td>\n",
       "            </tr>\n",
       "            <tr>\n",
       "                                <th id=\"T_97c0460a_5b88_11eb_bed9_10c37b4d93celevel1_row46\" class=\"row_heading level1 row46\" >14</th>\n",
       "                        <th id=\"T_97c0460a_5b88_11eb_bed9_10c37b4d93celevel2_row46\" class=\"row_heading level2 row46\" >Hood Canal Basin</th>\n",
       "                        <td id=\"T_97c0460a_5b88_11eb_bed9_10c37b4d93cerow46_col0\" class=\"data row46 col0\" >0.000000</td>\n",
       "            </tr>\n",
       "            <tr>\n",
       "                                <th id=\"T_97c0460a_5b88_11eb_bed9_10c37b4d93celevel1_row47\" class=\"row_heading level1 row47\" >15</th>\n",
       "                        <th id=\"T_97c0460a_5b88_11eb_bed9_10c37b4d93celevel2_row47\" class=\"row_heading level2 row47\" >Strait of Juan de Fuca</th>\n",
       "                        <td id=\"T_97c0460a_5b88_11eb_bed9_10c37b4d93cerow47_col0\" class=\"data row47 col0\" >0.000000</td>\n",
       "            </tr>\n",
       "    </tbody></table>"
      ],
      "text/plain": [
       "<pandas.io.formats.style.Styler at 0x7f2ca4a3edc0>"
      ]
     },
     "execution_count": 35,
     "metadata": {},
     "output_type": "execute_result"
    }
   ],
   "source": [
    "tbl,tdf=et.displayStats(statsDict[year],level='Variable',suborder=list(statsubs.keys()))\n",
    "tbl"
   ]
  },
  {
   "cell_type": "code",
   "execution_count": 36,
   "metadata": {},
   "outputs": [],
   "source": [
    "df1['month']=[ii.month for ii in df1['dtUTC']]"
   ]
  },
  {
   "cell_type": "code",
   "execution_count": 37,
   "metadata": {},
   "outputs": [],
   "source": [
    "test=df1.groupby(['Basin','month'])['DIN'].mean()"
   ]
  },
  {
   "cell_type": "code",
   "execution_count": 38,
   "metadata": {},
   "outputs": [],
   "source": [
    "test=df1.loc[df1.Basin=='Admiralty Inlet']"
   ]
  },
  {
   "cell_type": "code",
   "execution_count": 39,
   "metadata": {},
   "outputs": [],
   "source": [
    "test2=test.groupby(['month'], as_index=False)['DIN'].mean()"
   ]
  },
  {
   "cell_type": "code",
   "execution_count": 40,
   "metadata": {},
   "outputs": [
    {
     "data": {
      "text/html": [
       "<div>\n",
       "<style scoped>\n",
       "    .dataframe tbody tr th:only-of-type {\n",
       "        vertical-align: middle;\n",
       "    }\n",
       "\n",
       "    .dataframe tbody tr th {\n",
       "        vertical-align: top;\n",
       "    }\n",
       "\n",
       "    .dataframe thead th {\n",
       "        text-align: right;\n",
       "    }\n",
       "</style>\n",
       "<table border=\"1\" class=\"dataframe\">\n",
       "  <thead>\n",
       "    <tr style=\"text-align: right;\">\n",
       "      <th></th>\n",
       "      <th>month</th>\n",
       "      <th>DIN</th>\n",
       "    </tr>\n",
       "  </thead>\n",
       "  <tbody>\n",
       "    <tr>\n",
       "      <th>0</th>\n",
       "      <td>1</td>\n",
       "      <td>0.0</td>\n",
       "    </tr>\n",
       "    <tr>\n",
       "      <th>1</th>\n",
       "      <td>2</td>\n",
       "      <td>0.0</td>\n",
       "    </tr>\n",
       "    <tr>\n",
       "      <th>2</th>\n",
       "      <td>3</td>\n",
       "      <td>0.0</td>\n",
       "    </tr>\n",
       "    <tr>\n",
       "      <th>3</th>\n",
       "      <td>4</td>\n",
       "      <td>0.0</td>\n",
       "    </tr>\n",
       "    <tr>\n",
       "      <th>4</th>\n",
       "      <td>5</td>\n",
       "      <td>0.0</td>\n",
       "    </tr>\n",
       "    <tr>\n",
       "      <th>5</th>\n",
       "      <td>6</td>\n",
       "      <td>0.0</td>\n",
       "    </tr>\n",
       "    <tr>\n",
       "      <th>6</th>\n",
       "      <td>7</td>\n",
       "      <td>0.0</td>\n",
       "    </tr>\n",
       "    <tr>\n",
       "      <th>7</th>\n",
       "      <td>8</td>\n",
       "      <td>0.0</td>\n",
       "    </tr>\n",
       "    <tr>\n",
       "      <th>8</th>\n",
       "      <td>9</td>\n",
       "      <td>0.0</td>\n",
       "    </tr>\n",
       "    <tr>\n",
       "      <th>9</th>\n",
       "      <td>10</td>\n",
       "      <td>0.0</td>\n",
       "    </tr>\n",
       "    <tr>\n",
       "      <th>10</th>\n",
       "      <td>11</td>\n",
       "      <td>0.0</td>\n",
       "    </tr>\n",
       "  </tbody>\n",
       "</table>\n",
       "</div>"
      ],
      "text/plain": [
       "    month  DIN\n",
       "0       1  0.0\n",
       "1       2  0.0\n",
       "2       3  0.0\n",
       "3       4  0.0\n",
       "4       5  0.0\n",
       "5       6  0.0\n",
       "6       7  0.0\n",
       "7       8  0.0\n",
       "8       9  0.0\n",
       "9      10  0.0\n",
       "10     11  0.0"
      ]
     },
     "execution_count": 40,
     "metadata": {},
     "output_type": "execute_result"
    }
   ],
   "source": [
    "test2"
   ]
  },
  {
   "cell_type": "code",
   "execution_count": null,
   "metadata": {},
   "outputs": [],
   "source": []
  }
 ],
 "metadata": {
  "anaconda-cloud": {},
  "kernelspec": {
   "display_name": "Python (py39)",
   "language": "python",
   "name": "py39"
  },
  "language_info": {
   "codemirror_mode": {
    "name": "ipython",
    "version": 3
   },
   "file_extension": ".py",
   "mimetype": "text/x-python",
   "name": "python",
   "nbconvert_exporter": "python",
   "pygments_lexer": "ipython3",
   "version": "3.9.1"
  }
 },
 "nbformat": 4,
 "nbformat_minor": 4
}
