{
 "cells": [
  {
   "cell_type": "code",
   "execution_count": 10,
   "metadata": {
    "collapsed": false
   },
   "outputs": [],
   "source": [
    "import datetime as dt\n",
    "from salishsea_tools import geo_tools, evaltools\n",
    "import glob\n",
    "import pandas as pd\n",
    "import numpy as np\n",
    "import pytz\n",
    "import netCDF4 as nc\n",
    "from matplotlib import pyplot as plt\n",
    "\n",
    "%matplotlib inline"
   ]
  },
  {
   "cell_type": "code",
   "execution_count": 2,
   "metadata": {
    "collapsed": false
   },
   "outputs": [],
   "source": [
    "nutrients_2015 = pd.read_csv(\n",
    "    '/ocean/eolson/MEOPAR/obs/PSFCitSci/PSFbottledata2015_CN_edits_EOCor2.csv')"
   ]
  },
  {
   "cell_type": "code",
   "execution_count": 3,
   "metadata": {
    "collapsed": false
   },
   "outputs": [],
   "source": [
    "data=nutrients_2015.loc[pd.notnull(nutrients_2015['date'])&\n",
    "                        pd.notnull(nutrients_2015['Time'])&\n",
    "                        pd.notnull(nutrients_2015['lat'])&\n",
    "                        pd.notnull(nutrients_2015['lon'])].copy(deep=True)\n",
    "data['Lat']=data['lat']\n",
    "data['Lon']=data['lon']\n",
    "data['Z']=data['depth']"
   ]
  },
  {
   "cell_type": "code",
   "execution_count": 4,
   "metadata": {
    "collapsed": true
   },
   "outputs": [],
   "source": [
    "ts=data['Time'].values\n",
    "ds=data['date'].values\n",
    "dts=[pytz.timezone('Canada/Pacific').localize(dt.datetime.strptime(ii+' '+jj,'%d-%m-%Y %I:%M:%S %p')).astimezone(pytz.utc).replace(tzinfo=None)\n",
    "    for ii,jj in zip(ds,ts)]"
   ]
  },
  {
   "cell_type": "code",
   "execution_count": 5,
   "metadata": {
    "collapsed": true
   },
   "outputs": [],
   "source": [
    "data['dtUTC']=dts"
   ]
  },
  {
   "cell_type": "code",
   "execution_count": 6,
   "metadata": {
    "collapsed": true
   },
   "outputs": [],
   "source": [
    "start=dt.datetime(2015,2,6)\n",
    "end=dt.datetime(2015,3,18)\n",
    "basedir='/data/eolson/MEOPAR/SS36runs/CedarRuns/spring2015_A3Base/'\n",
    "nam_fmt='long'\n",
    "flen=10\n",
    "#map each variable to extract from model to a data variable name and to a file type\n",
    "varmap={'no23':'nitrate','si':'silicon'}\n",
    "filemap={'nitrate':'ptrc_T','silicon':'ptrc_T'}\n",
    "fdict={'ptrc_T':1,'grid_T':1}"
   ]
  },
  {
   "cell_type": "code",
   "execution_count": 7,
   "metadata": {
    "collapsed": false
   },
   "outputs": [],
   "source": [
    "newdata,varmap=evaltools.matchData(data, varmap, filemap, fdict, start, end, nam_fmt, basedir, flen)"
   ]
  },
  {
   "cell_type": "code",
   "execution_count": 8,
   "metadata": {
    "collapsed": false
   },
   "outputs": [
    {
     "data": {
      "text/plain": [
       "{'no23': 'nitrate', 'si': 'silicon'}"
      ]
     },
     "execution_count": 8,
     "metadata": {},
     "output_type": "execute_result"
    }
   ],
   "source": [
    "varmap"
   ]
  },
  {
   "cell_type": "code",
   "execution_count": 11,
   "metadata": {
    "collapsed": false
   },
   "outputs": [
    {
     "data": {
      "text/plain": [
       "[<matplotlib.lines.Line2D at 0x7fdb8d407710>]"
      ]
     },
     "execution_count": 11,
     "metadata": {},
     "output_type": "execute_result"
    },
    {
     "data": {
      "image/png": "[encoded data removed]",
      "text/plain": [
       "<matplotlib.figure.Figure at 0x7fdb583c67f0>"
      ]
     },
     "metadata": {},
     "output_type": "display_data"
    }
   ],
   "source": [
    "plt.plot(newdata['no23'],newdata['mod_nitrate'],'r.')"
   ]
  },
  {
   "cell_type": "code",
   "execution_count": null,
   "metadata": {
    "collapsed": true
   },
   "outputs": [],
   "source": []
  }
 ],
 "metadata": {
  "anaconda-cloud": {},
  "kernelspec": {
   "display_name": "Python [conda env:python36]",
   "language": "python",
   "name": "conda-env-python36-py"
  },
  "language_info": {
   "codemirror_mode": {
    "name": "ipython",
    "version": 3
   },
   "file_extension": ".py",
   "mimetype": "text/x-python",
   "name": "python",
   "nbconvert_exporter": "python",
   "pygments_lexer": "ipython3",
   "version": "3.6.3"
  }
 },
 "nbformat": 4,
 "nbformat_minor": 1
}
