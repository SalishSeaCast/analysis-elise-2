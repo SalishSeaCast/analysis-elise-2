{
 "cells": [
  {
   "cell_type": "code",
   "execution_count": 26,
   "metadata": {
    "collapsed": false
   },
   "outputs": [],
   "source": [
    "import sqlalchemy\n",
    "from sqlalchemy import (create_engine, Column, String, Integer, Float, MetaData, \n",
    "                        Table, type_coerce, ForeignKey, case)\n",
    "from sqlalchemy.orm import mapper, create_session, relationship, aliased, Session\n",
    "from sqlalchemy.ext.declarative import declarative_base\n",
    "from sqlalchemy import case\n",
    "import numpy as np\n",
    "from sqlalchemy.ext.automap import automap_base\n",
    "import matplotlib.pyplot as plt\n",
    "import sqlalchemy.types as types\n",
    "from sqlalchemy.sql import and_, or_, not_, func\n",
    "from sqlalchemy.sql import select\n",
    "import os\n",
    "from os.path import isfile\n",
    "import pandas as pd\n",
    "import netCDF4 as nc\n",
    "from salishsea_tools import gsw_calls, viz_tools, geo_tools, tidetools\n",
    "import datetime\n",
    "import glob\n",
    "%matplotlib inline"
   ]
  },
  {
   "cell_type": "code",
   "execution_count": 2,
   "metadata": {
    "collapsed": false
   },
   "outputs": [],
   "source": [
    "# definitions\n",
    "basepath='/ocean/eolson/MEOPAR/obs/'\n",
    "basedir=basepath + 'DFOOPDB/'\n",
    "dbname='DFO_OcProfDB'\n",
    "# if db does not exist, exit\n",
    "if not isfile(basedir + dbname + '.sqlite'):\n",
    "    print('ERROR: ' + dbname + '.sqlite does not exist')\n",
    "engine = create_engine('sqlite:///' + basedir + dbname + '.sqlite', echo = False)\n",
    "Base = automap_base()\n",
    "# reflect the tables in salish.sqlite:\n",
    "Base.prepare(engine, reflect=True)\n",
    "# mapped classes have been created\n",
    "\n",
    "# existing tables:\n",
    "StationTBL=Base.classes.StationTBL\n",
    "ObsTBL=Base.classes.ObsTBL\n",
    "CalcsTBL=Base.classes.CalcsTBL\n",
    "JDFLocsTBL=Base.classes.JDFLocsTBL\n",
    "\n",
    "session = create_session(bind = engine, autocommit = False, autoflush = True)\n"
   ]
  },
  {
   "cell_type": "code",
   "execution_count": 3,
   "metadata": {
    "collapsed": true
   },
   "outputs": [],
   "source": [
    "qry0=(session\n",
    "      .query(StationTBL.StartTimeZone.label('TimeZone'))\n",
    "      .filter(StationTBL.StartYear>2014)\n",
    "      .group_by(StationTBL.StartTimeZone))"
   ]
  },
  {
   "cell_type": "code",
   "execution_count": 4,
   "metadata": {
    "collapsed": false
   },
   "outputs": [
    {
     "name": "stdout",
     "output_type": "stream",
     "text": [
      "('UTC',)\n"
     ]
    }
   ],
   "source": [
    "for row in qry0.all():\n",
    "    print(row)\n",
    "    # one value means time zone is the same for all data for 2015 on"
   ]
  },
  {
   "cell_type": "code",
   "execution_count": 5,
   "metadata": {
    "collapsed": false
   },
   "outputs": [],
   "source": [
    "SA=case([(CalcsTBL.Salinity_Bottle_SA!=None, CalcsTBL.Salinity_Bottle_SA)], else_=\n",
    "         case([(CalcsTBL.Salinity_T0_C0_SA!=None, CalcsTBL.Salinity_T0_C0_SA)], else_=\n",
    "         case([(CalcsTBL.Salinity_T1_C1_SA!=None, CalcsTBL.Salinity_T1_C1_SA)], else_=\n",
    "         case([(CalcsTBL.Salinity_SA!=None, CalcsTBL.Salinity_SA)], else_=\n",
    "         case([(CalcsTBL.Salinity__Unknown_SA!=None, CalcsTBL.Salinity__Unknown_SA)], \n",
    "              else_=CalcsTBL.Salinity__Pre1978_SA)\n",
    "        ))))"
   ]
  },
  {
   "cell_type": "code",
   "execution_count": 6,
   "metadata": {
    "collapsed": false
   },
   "outputs": [],
   "source": [
    "Tem=case([(ObsTBL.Temperature!=None, ObsTBL.Temperature)], else_=\n",
    "         case([(ObsTBL.Temperature_Primary!=None, ObsTBL.Temperature_Primary)], else_=\n",
    "         case([(ObsTBL.Temperature_Secondary!=None, ObsTBL.Temperature_Secondary)], else_=ObsTBL.Temperature_Reversing)))\n",
    "TemUnits=case([(ObsTBL.Temperature!=None, ObsTBL.Temperature_units)], else_=\n",
    "         case([(ObsTBL.Temperature_Primary!=None, ObsTBL.Temperature_Primary_units)], else_=\n",
    "         case([(ObsTBL.Temperature_Secondary!=None, ObsTBL.Temperature_Secondary_units)], \n",
    "              else_=ObsTBL.Temperature_Reversing_units)))\n",
    "TemFlag=ObsTBL.Quality_Flag_Temp"
   ]
  },
  {
   "cell_type": "code",
   "execution_count": 7,
   "metadata": {
    "collapsed": false
   },
   "outputs": [
    {
     "name": "stdout",
     "output_type": "stream",
     "text": [
      "(None,)\n",
      "('umol/L',)\n"
     ]
    }
   ],
   "source": [
    "qry1=session.query(ObsTBL.Nitrate_plus_Nitrite_units).group_by(ObsTBL.Nitrate_plus_Nitrite_units)\n",
    "for row in qry1.all():\n",
    "    print(row)"
   ]
  },
  {
   "cell_type": "code",
   "execution_count": 8,
   "metadata": {
    "collapsed": false
   },
   "outputs": [],
   "source": [
    "qry=session.query(StationTBL.StartYear.label('Year'),StationTBL.StartMonth.label('Month'),\n",
    "                  StationTBL.StartDay.label('Day'),StationTBL.StartHour.label('Hour'),\n",
    "                  StationTBL.Lat,StationTBL.Lon,\n",
    "                 ObsTBL.Pressure,ObsTBL.Depth,ObsTBL.Ammonium,ObsTBL.Ammonium_units,ObsTBL.Chlorophyll_Extracted,\n",
    "                 ObsTBL.Chlorophyll_Extracted_units,ObsTBL.Nitrate_plus_Nitrite.label('N'),\n",
    "                  ObsTBL.Silicate.label('Si'),ObsTBL.Silicate_units,SA.label('AbsSal'),Tem.label('T'),TemUnits.label('T_units')).\\\n",
    "            select_from(StationTBL).join(ObsTBL,ObsTBL.StationTBLID==StationTBL.ID).\\\n",
    "            join(CalcsTBL,CalcsTBL.ObsID==ObsTBL.ID).filter(and_(StationTBL.StartYear>2014,\n",
    "                                                                StationTBL.Lat>47-3/2.5*(StationTBL.Lon+123.5),\n",
    "                                                                StationTBL.Lat<47-3/2.5*(StationTBL.Lon+121)))"
   ]
  },
  {
   "cell_type": "code",
   "execution_count": 9,
   "metadata": {
    "collapsed": false
   },
   "outputs": [
    {
     "data": {
      "text/html": [
       "<div>\n",
       "<table border=\"1\" class=\"dataframe\">\n",
       "  <thead>\n",
       "    <tr style=\"text-align: right;\">\n",
       "      <th></th>\n",
       "      <th>Year</th>\n",
       "      <th>Month</th>\n",
       "      <th>Day</th>\n",
       "      <th>Hour</th>\n",
       "      <th>Lat</th>\n",
       "      <th>Lon</th>\n",
       "      <th>Pressure</th>\n",
       "      <th>Depth</th>\n",
       "      <th>Ammonium</th>\n",
       "      <th>Ammonium_units</th>\n",
       "      <th>Chlorophyll_Extracted</th>\n",
       "      <th>Chlorophyll_Extracted_units</th>\n",
       "      <th>N</th>\n",
       "      <th>Si</th>\n",
       "      <th>Silicate_units</th>\n",
       "      <th>AbsSal</th>\n",
       "      <th>T</th>\n",
       "      <th>T_units</th>\n",
       "    </tr>\n",
       "  </thead>\n",
       "  <tbody>\n",
       "    <tr>\n",
       "      <th>0</th>\n",
       "      <td>2015.0</td>\n",
       "      <td>2.0</td>\n",
       "      <td>11.0</td>\n",
       "      <td>11.068611</td>\n",
       "      <td>48.300833</td>\n",
       "      <td>-124.000333</td>\n",
       "      <td>1.9</td>\n",
       "      <td>None</td>\n",
       "      <td>None</td>\n",
       "      <td>None</td>\n",
       "      <td>NaN</td>\n",
       "      <td>mg/m^3</td>\n",
       "      <td>15.31</td>\n",
       "      <td>32.14</td>\n",
       "      <td>umol/L</td>\n",
       "      <td>29.227507</td>\n",
       "      <td>9.7647</td>\n",
       "      <td>'deg_C_(ITS90)'</td>\n",
       "    </tr>\n",
       "    <tr>\n",
       "      <th>1</th>\n",
       "      <td>2015.0</td>\n",
       "      <td>2.0</td>\n",
       "      <td>11.0</td>\n",
       "      <td>11.068611</td>\n",
       "      <td>48.300833</td>\n",
       "      <td>-124.000333</td>\n",
       "      <td>6.6</td>\n",
       "      <td>None</td>\n",
       "      <td>None</td>\n",
       "      <td>None</td>\n",
       "      <td>2.57</td>\n",
       "      <td>mg/m^3</td>\n",
       "      <td>17.13</td>\n",
       "      <td>33.90</td>\n",
       "      <td>umol/L</td>\n",
       "      <td>29.484341</td>\n",
       "      <td>9.6880</td>\n",
       "      <td>'deg_C_(ITS90)'</td>\n",
       "    </tr>\n",
       "    <tr>\n",
       "      <th>2</th>\n",
       "      <td>2015.0</td>\n",
       "      <td>2.0</td>\n",
       "      <td>11.0</td>\n",
       "      <td>11.068611</td>\n",
       "      <td>48.300833</td>\n",
       "      <td>-124.000333</td>\n",
       "      <td>6.7</td>\n",
       "      <td>None</td>\n",
       "      <td>None</td>\n",
       "      <td>None</td>\n",
       "      <td>NaN</td>\n",
       "      <td>mg/m^3</td>\n",
       "      <td>NaN</td>\n",
       "      <td>NaN</td>\n",
       "      <td>umol/L</td>\n",
       "      <td>29.484839</td>\n",
       "      <td>9.6828</td>\n",
       "      <td>'deg_C_(ITS90)'</td>\n",
       "    </tr>\n",
       "    <tr>\n",
       "      <th>3</th>\n",
       "      <td>2015.0</td>\n",
       "      <td>2.0</td>\n",
       "      <td>11.0</td>\n",
       "      <td>11.068611</td>\n",
       "      <td>48.300833</td>\n",
       "      <td>-124.000333</td>\n",
       "      <td>11.0</td>\n",
       "      <td>None</td>\n",
       "      <td>None</td>\n",
       "      <td>None</td>\n",
       "      <td>NaN</td>\n",
       "      <td>mg/m^3</td>\n",
       "      <td>NaN</td>\n",
       "      <td>NaN</td>\n",
       "      <td>umol/L</td>\n",
       "      <td>30.144549</td>\n",
       "      <td>9.3646</td>\n",
       "      <td>'deg_C_(ITS90)'</td>\n",
       "    </tr>\n",
       "    <tr>\n",
       "      <th>4</th>\n",
       "      <td>2015.0</td>\n",
       "      <td>2.0</td>\n",
       "      <td>11.0</td>\n",
       "      <td>11.068611</td>\n",
       "      <td>48.300833</td>\n",
       "      <td>-124.000333</td>\n",
       "      <td>11.0</td>\n",
       "      <td>None</td>\n",
       "      <td>None</td>\n",
       "      <td>None</td>\n",
       "      <td>NaN</td>\n",
       "      <td>mg/m^3</td>\n",
       "      <td>20.62</td>\n",
       "      <td>37.65</td>\n",
       "      <td>umol/L</td>\n",
       "      <td>30.157913</td>\n",
       "      <td>9.3586</td>\n",
       "      <td>'deg_C_(ITS90)'</td>\n",
       "    </tr>\n",
       "  </tbody>\n",
       "</table>\n",
       "</div>"
      ],
      "text/plain": [
       "     Year  Month   Day       Hour        Lat         Lon  Pressure Depth  \\\n",
       "0  2015.0    2.0  11.0  11.068611  48.300833 -124.000333       1.9  None   \n",
       "1  2015.0    2.0  11.0  11.068611  48.300833 -124.000333       6.6  None   \n",
       "2  2015.0    2.0  11.0  11.068611  48.300833 -124.000333       6.7  None   \n",
       "3  2015.0    2.0  11.0  11.068611  48.300833 -124.000333      11.0  None   \n",
       "4  2015.0    2.0  11.0  11.068611  48.300833 -124.000333      11.0  None   \n",
       "\n",
       "  Ammonium Ammonium_units  Chlorophyll_Extracted Chlorophyll_Extracted_units  \\\n",
       "0     None           None                    NaN                      mg/m^3   \n",
       "1     None           None                   2.57                      mg/m^3   \n",
       "2     None           None                    NaN                      mg/m^3   \n",
       "3     None           None                    NaN                      mg/m^3   \n",
       "4     None           None                    NaN                      mg/m^3   \n",
       "\n",
       "       N     Si Silicate_units     AbsSal       T          T_units  \n",
       "0  15.31  32.14         umol/L  29.227507  9.7647  'deg_C_(ITS90)'  \n",
       "1  17.13  33.90         umol/L  29.484341  9.6880  'deg_C_(ITS90)'  \n",
       "2    NaN    NaN         umol/L  29.484839  9.6828  'deg_C_(ITS90)'  \n",
       "3    NaN    NaN         umol/L  30.144549  9.3646  'deg_C_(ITS90)'  \n",
       "4  20.62  37.65         umol/L  30.157913  9.3586  'deg_C_(ITS90)'  "
      ]
     },
     "execution_count": 9,
     "metadata": {},
     "output_type": "execute_result"
    }
   ],
   "source": [
    "df1=pd.DataFrame(qry.all())\n",
    "df1.head()"
   ]
  },
  {
   "cell_type": "code",
   "execution_count": 10,
   "metadata": {
    "collapsed": false
   },
   "outputs": [
    {
     "data": {
      "text/plain": [
       "[<matplotlib.lines.Line2D at 0x7fa2b4edee10>]"
      ]
     },
     "execution_count": 10,
     "metadata": {},
     "output_type": "execute_result"
    },
    {
     "data": {
      "image/png": "[encoded data removed]",
      "text/plain": [
       "<matplotlib.figure.Figure at 0x7fa2b4e35908>"
      ]
     },
     "metadata": {},
     "output_type": "display_data"
    }
   ],
   "source": [
    "with nc.Dataset('/ocean/eolson/MEOPAR/NEMO-forcing/grid/mesh_mask201702_noLPE.nc') as f:\n",
    "    tmask=np.copy(f.variables['tmask'])\n",
    "    lon=np.copy(f.variables['nav_lon'])\n",
    "    lat=np.copy(f.variables['nav_lat'])\n",
    "plt.pcolormesh(lon,lat,tmask[0,0,:,:])\n",
    "plt.plot(df1.Lon,df1.Lat,'k*')\n",
    "x0=-123.5\n",
    "y0=47\n",
    "x1=-126\n",
    "y1=50\n",
    "x=np.arange(-127,-123,.5)\n",
    "y=y0+(y1-y0)/(x1-x0)*(x-x0) # take lat>47-3/2.5*(lon+123.5)\n",
    "plt.plot(x,y,'m-')\n",
    "x0=-121\n",
    "y0=47\n",
    "x1=-123.5\n",
    "y1=50\n",
    "x=np.arange(-124,-120,.5)\n",
    "y=y0+(y1-y0)/(x1-x0)*(x-x0) # take lat<47-3/2.5*(lon+121)\n",
    "plt.plot(x,y,'m-')"
   ]
  },
  {
   "cell_type": "code",
   "execution_count": 11,
   "metadata": {
    "collapsed": false
   },
   "outputs": [
    {
     "data": {
      "text/plain": [
       "<matplotlib.text.Text at 0x7fa2b2735a58>"
      ]
     },
     "execution_count": 11,
     "metadata": {},
     "output_type": "execute_result"
    },
    {
     "data": {
      "image/png": "[encoded data removed]",
      "text/plain": [
       "<matplotlib.figure.Figure at 0x7fa2b4e7af60>"
      ]
     },
     "metadata": {},
     "output_type": "display_data"
    }
   ],
   "source": [
    "plt.plot(df1['N'],df1['Si'],'k.')\n",
    "plt.xlabel('N')\n",
    "plt.ylabel('Si')"
   ]
  },
  {
   "cell_type": "code",
   "execution_count": null,
   "metadata": {
    "collapsed": false
   },
   "outputs": [],
   "source": []
  },
  {
   "cell_type": "code",
   "execution_count": 12,
   "metadata": {
    "collapsed": false
   },
   "outputs": [],
   "source": [
    "depths = gsw_calls.generic_gsw_caller('gsw_z_from_p.m', \n",
    "                                      [df1.Pressure.values, df1.Lat.values])"
   ]
  },
  {
   "cell_type": "code",
   "execution_count": 13,
   "metadata": {
    "collapsed": false
   },
   "outputs": [],
   "source": [
    "depths = depths * -1"
   ]
  },
  {
   "cell_type": "code",
   "execution_count": 14,
   "metadata": {
    "collapsed": false
   },
   "outputs": [],
   "source": [
    "df1 = df1.assign(depth = depths)"
   ]
  },
  {
   "cell_type": "code",
   "execution_count": 15,
   "metadata": {
    "collapsed": false
   },
   "outputs": [
    {
     "data": {
      "text/plain": [
       "(2495, 19)"
      ]
     },
     "execution_count": 15,
     "metadata": {},
     "output_type": "execute_result"
    }
   ],
   "source": [
    "df1.shape"
   ]
  },
  {
   "cell_type": "code",
   "execution_count": 16,
   "metadata": {
    "collapsed": false
   },
   "outputs": [
    {
     "data": {
      "text/plain": [
       "(2495, 19)"
      ]
     },
     "execution_count": 16,
     "metadata": {},
     "output_type": "execute_result"
    }
   ],
   "source": [
    "df1.dropna(subset=['Year', 'Month', 'Hour', 'Lat', 'Lon','Pressure']).shape"
   ]
  },
  {
   "cell_type": "code",
   "execution_count": 17,
   "metadata": {
    "collapsed": false
   },
   "outputs": [],
   "source": [
    "df2 = df1.dropna(subset=['Year', 'Month', 'Hour', 'Lat', 'Lon', 'Si', 'N'])"
   ]
  },
  {
   "cell_type": "code",
   "execution_count": 18,
   "metadata": {
    "collapsed": true
   },
   "outputs": [],
   "source": [
    "deptht = (nc.Dataset(\n",
    "'/results/SalishSea/nowcast-green/01jan18/SalishSea_1d_20180101_20180101_dia2_T.nc')\n",
    "          .variables['deptht'][:])"
   ]
  },
  {
   "cell_type": "code",
   "execution_count": 19,
   "metadata": {
    "collapsed": false
   },
   "outputs": [
    {
     "data": {
      "text/plain": [
       "array([   0.5000003 ,    1.5000031 ,    2.50001144,    3.50003052,\n",
       "          4.50007057,    5.50015068,    6.50031042,    7.50062323,\n",
       "          8.50123596,    9.50243282,   10.50476551,   11.50931168,\n",
       "         12.51816654,   13.53541183,   14.56898212,   15.63428783,\n",
       "         16.76117325,   18.00713539,   19.48178482,   21.38997841,\n",
       "         24.10025597,   28.22991562,   34.68575668,   44.51772308,\n",
       "         58.48433304,   76.58558655,   98.06295776,  121.86651611,\n",
       "        147.08946228,  173.11448669,  199.57304382,  226.26029968,\n",
       "        253.06663513,  279.93453979,  306.834198  ,  333.75018311,\n",
       "        360.67453003,  387.60321045,  414.53408813,  441.46609497], dtype=float32)"
      ]
     },
     "execution_count": 19,
     "metadata": {},
     "output_type": "execute_result"
    }
   ],
   "source": [
    "deptht"
   ]
  },
  {
   "cell_type": "code",
   "execution_count": 20,
   "metadata": {
    "collapsed": true
   },
   "outputs": [],
   "source": [
    "grid = nc.Dataset('/data/vdo/MEOPAR/NEMO-forcing/grid/bathymetry_201702.nc')\n",
    "bathy, X, Y = tidetools.get_bathy_data(grid)\n",
    "mesh = nc.Dataset('/data/vdo/MEOPAR/NEMO-forcing/grid/mesh_mask201702.nc')\n",
    "HINDCAST_PATH= '/results/SalishSea/hindcast/'\n",
    "\n",
    "start_date = datetime.datetime(2015,1,1)\n",
    "end_date = datetime.datetime(2015,11,12)\n",
    "flen=1\n",
    "numfiles=int(((end_date-start_date).days+1)/flen)"
   ]
  },
  {
   "cell_type": "code",
   "execution_count": 21,
   "metadata": {
    "collapsed": false
   },
   "outputs": [
    {
     "data": {
      "text/plain": [
       "(2329, 19)"
      ]
     },
     "execution_count": 21,
     "metadata": {},
     "output_type": "execute_result"
    }
   ],
   "source": [
    "df2.shape"
   ]
  },
  {
   "cell_type": "code",
   "execution_count": 22,
   "metadata": {
    "collapsed": true
   },
   "outputs": [],
   "source": [
    "dates = np.array([datetime.datetime(year = int(df2.Year[n]), \n",
    "                                    month = int(df2.Month[n]),\n",
    "                                    day = int(df2.Day[n]), \n",
    "                                    hour = int(df2.Hour[n]),\n",
    "                                    minute = int((df2.Hour[n] - int(df2.Hour[n]))*60)) \n",
    "                  for n in df2.index])\n",
    "df2 = df2.assign(date = dates)"
   ]
  },
  {
   "cell_type": "code",
   "execution_count": 31,
   "metadata": {
    "collapsed": false
   },
   "outputs": [
    {
     "ename": "IndexError",
     "evalue": "list index out of range",
     "output_type": "error",
     "traceback": [
      "\u001b[0;31m---------------------------------------------------------------------------\u001b[0m",
      "\u001b[0;31mIndexError\u001b[0m                                Traceback (most recent call last)",
      "\u001b[0;32m<ipython-input-31-e7f464d81726>\u001b[0m in \u001b[0;36m<module>\u001b[0;34m()\u001b[0m\n\u001b[1;32m     50\u001b[0m             \u001b[0;32mtry\u001b[0m\u001b[0;34m:\u001b[0m\u001b[0;34m\u001b[0m\u001b[0m\n\u001b[0;32m---> 51\u001b[0;31m                 \u001b[0mnuts2\u001b[0m \u001b[0;34m=\u001b[0m \u001b[0mnc\u001b[0m\u001b[0;34m.\u001b[0m\u001b[0mDataset\u001b[0m\u001b[0;34m(\u001b[0m\u001b[0mglob\u001b[0m\u001b[0;34m.\u001b[0m\u001b[0mglob\u001b[0m\u001b[0;34m(\u001b[0m\u001b[0mos\u001b[0m\u001b[0;34m.\u001b[0m\u001b[0mpath\u001b[0m\u001b[0;34m.\u001b[0m\u001b[0mjoin\u001b[0m\u001b[0;34m(\u001b[0m\u001b[0mHINDCAST_PATH\u001b[0m\u001b[0;34m,\u001b[0m \u001b[0msub_dir2\u001b[0m\u001b[0;34m,\u001b[0m \u001b[0mfname2\u001b[0m\u001b[0;34m)\u001b[0m\u001b[0;34m)\u001b[0m\u001b[0;34m[\u001b[0m\u001b[0;36m0\u001b[0m\u001b[0;34m]\u001b[0m\u001b[0;34m)\u001b[0m\u001b[0;34m\u001b[0m\u001b[0m\n\u001b[0m\u001b[1;32m     52\u001b[0m             \u001b[0;32mexcept\u001b[0m\u001b[0;34m:\u001b[0m\u001b[0;34m\u001b[0m\u001b[0m\n",
      "\u001b[0;31mIndexError\u001b[0m: list index out of range",
      "\nDuring handling of the above exception, another exception occurred:\n",
      "\u001b[0;31mIndexError\u001b[0m                                Traceback (most recent call last)",
      "\u001b[0;32m<ipython-input-31-e7f464d81726>\u001b[0m in \u001b[0;36m<module>\u001b[0;34m()\u001b[0m\n\u001b[1;32m     52\u001b[0m             \u001b[0;32mexcept\u001b[0m\u001b[0;34m:\u001b[0m\u001b[0;34m\u001b[0m\u001b[0m\n\u001b[1;32m     53\u001b[0m                 \u001b[0mfname2\u001b[0m \u001b[0;34m=\u001b[0m \u001b[0;34m'*1h_*ptrc_T*{}-{}.nc'\u001b[0m\u001b[0;34m.\u001b[0m\u001b[0mformat\u001b[0m\u001b[0;34m(\u001b[0m\u001b[0mdatestr\u001b[0m\u001b[0;34m,\u001b[0m \u001b[0mdatestr\u001b[0m\u001b[0;34m)\u001b[0m\u001b[0;34m\u001b[0m\u001b[0m\n\u001b[0;32m---> 54\u001b[0;31m                 \u001b[0mnuts2\u001b[0m \u001b[0;34m=\u001b[0m \u001b[0mnc\u001b[0m\u001b[0;34m.\u001b[0m\u001b[0mDataset\u001b[0m\u001b[0;34m(\u001b[0m\u001b[0mglob\u001b[0m\u001b[0;34m.\u001b[0m\u001b[0mglob\u001b[0m\u001b[0;34m(\u001b[0m\u001b[0mos\u001b[0m\u001b[0;34m.\u001b[0m\u001b[0mpath\u001b[0m\u001b[0;34m.\u001b[0m\u001b[0mjoin\u001b[0m\u001b[0;34m(\u001b[0m\u001b[0mHINDCAST_PATH\u001b[0m\u001b[0;34m,\u001b[0m \u001b[0msub_dir2\u001b[0m\u001b[0;34m,\u001b[0m \u001b[0mfname2\u001b[0m\u001b[0;34m)\u001b[0m\u001b[0;34m)\u001b[0m\u001b[0;34m[\u001b[0m\u001b[0;36m0\u001b[0m\u001b[0;34m]\u001b[0m\u001b[0;34m)\u001b[0m\u001b[0;34m\u001b[0m\u001b[0m\n\u001b[0m\u001b[1;32m     55\u001b[0m             \u001b[0mdelta\u001b[0m \u001b[0;34m=\u001b[0m \u001b[0;34m(\u001b[0m\u001b[0mdate\u001b[0m\u001b[0;34m.\u001b[0m\u001b[0mminute\u001b[0m\u001b[0;34m)\u001b[0m \u001b[0;34m/\u001b[0m \u001b[0;36m60\u001b[0m\u001b[0;34m\u001b[0m\u001b[0m\n\u001b[1;32m     56\u001b[0m             ni_val = (delta*(nuts.variables['nitrate'][before.hour, depth, Yind, Xind] ) + \n",
      "\u001b[0;31mIndexError\u001b[0m: list index out of range"
     ]
    }
   ],
   "source": [
    "list_of_lons = np.array([])\n",
    "list_of_lats = np.array([])\n",
    "list_of_datetimes = np.array([])\n",
    "list_of_cs_ni = np.array([])\n",
    "list_of_cs_si = np.array([])\n",
    "list_of_model_ni = np.array([])\n",
    "list_of_model_si = np.array([])\n",
    "list_of_depths = np.array([])\n",
    "for n in df2[(df2.date > start_date) & (df2.date < end_date)].index:\n",
    "    date = df2.date[n]\n",
    "    Yind, Xind = geo_tools.find_closest_model_point(df2.Lon[n], df2.Lat[n], \n",
    "                                                    X, Y, land_mask = bathy.mask)\n",
    "    depth = np.argmin(np.abs(deptht - df2.depth[n]))\n",
    "    if mesh.variables['tmask'][0,depth,Yind, Xind] == 1:\n",
    "        date = datetime.datetime(year = int(df2.Year[n]), month = int(df2.Month[n]),\n",
    "                                day = int(df2.Day[n]), hour = int(df2.Hour[n]),\n",
    "                                 minute = int((df2.Hour[n] - int(df2.Hour[n]))*60))\n",
    "        sub_dir = date.strftime('*%b%y').lower()\n",
    "        datestr = date.strftime('%Y%m%d')\n",
    "        fname = 'SalishSea_1h_{}_{}_ptrc_T.nc'.format(datestr, datestr)\n",
    "        try:\n",
    "            nuts = nc.Dataset(glob.glob(os.path.join(HINDCAST_PATH, sub_dir, fname))[0])\n",
    "        except:\n",
    "            fname = '*1h_*ptrc_T*{}-{}.nc'.format(datestr, datestr)\n",
    "            nuts = nc.Dataset(glob.glob(os.path.join(HINDCAST_PATH, sub_dir, fname))[0])\n",
    "        if date.minute < 30:\n",
    "            before = datetime.datetime(year = date.year, month = date.month, day = date.day, \n",
    "                               hour = (date.hour), minute = 30) - datetime.timedelta(hours=1)\n",
    "            after = before + datetime.timedelta(hours=1)\n",
    "            sub_dir2 = after.strftime('*%b%y').lower()\n",
    "            datestr2 = after.strftime('%Y%m%d')\n",
    "            fname2 = 'SalishSea_1h_{}_{}_ptrc_T.nc'.format(datestr2, datestr2)\n",
    "            try:\n",
    "                nuts2 = nc.Dataset(glob.glob(os.path.join(HINDCAST_PATH, sub_dir2, fname2))[0])\n",
    "            except:\n",
    "                fname2 = '*1h_*ptrc_T*{}-{}.nc'.format(datestr, datestr)\n",
    "                nuts2 = nc.Dataset(glob.glob(os.path.join(HINDCAST_PATH, sub_dir2, fname2))[0])\n",
    "            delta = (date.minute + 30) / 60\n",
    "            ni_val = ((1-delta)*(nuts.variables['nitrate'][before.hour, depth, Yind, Xind] ) + \n",
    "                       (delta)*(nuts2.variables['nitrate'][after.hour, depth, Yind, Xind] ))\n",
    "            si_val = ((1-delta)*(nuts.variables['silicon'][before.hour, depth, Yind, Xind] ) + \n",
    "                       (delta)*(nuts2.variables['silicon'][after.hour, depth, Yind, Xind] ))\n",
    "        if date.minute >= 30:\n",
    "            before = datetime.datetime(year = date.year, month = date.month, day = date.day, \n",
    "                                   hour = (date.hour), minute = 30)\n",
    "            after = before + datetime.timedelta(hours=1)\n",
    "            sub_dir2 = after.strftime('%d%b%y').lower()\n",
    "            datestr2 = after.strftime('%Y%m%d')\n",
    "            fname2 = 'SalishSea_1h_{}_{}_ptrc_T.nc'.format(datestr2, datestr2)\n",
    "            try:\n",
    "                nuts2 = nc.Dataset(glob.glob(os.path.join(HINDCAST_PATH, sub_dir2, fname2))[0])\n",
    "            except:\n",
    "                fname2 = '*1h_*ptrc_T*{}-{}.nc'.format(datestr, datestr)\n",
    "                nuts2 = nc.Dataset(glob.glob(os.path.join(HINDCAST_PATH, sub_dir2, fname2))[0])\n",
    "            delta = (date.minute) / 60\n",
    "            ni_val = (delta*(nuts.variables['nitrate'][before.hour, depth, Yind, Xind] ) + \n",
    "                       (1- delta)*(nuts2.variables['nitrate'][after.hour, depth, Yind, Xind] ))\n",
    "            si_val = (delta*(nuts.variables['silicon'][before.hour, depth, Yind, Xind] ) + \n",
    "                       (1- delta)*(nuts2.variables['silicon'][after.hour, depth, Yind, Xind] ))\n",
    "\n",
    "        list_of_lons = np.append(list_of_lons, df2.Lon[n])\n",
    "        list_of_lats = np.append(list_of_lats, df2.Lat[n])\n",
    "        list_of_datetimes = np.append(list_of_datetimes, date)\n",
    "        list_of_cs_ni = np.append(list_of_cs_ni, float(df2['N'][n]))\n",
    "        list_of_cs_si = np.append(list_of_cs_si, float(df2['Si'][n]))\n",
    "        list_of_model_ni = np.append(list_of_model_ni, ni_val)\n",
    "        list_of_model_si = np.append(list_of_model_si, si_val)\n",
    "        #list_of_depths = np.append(list_of_depths, depth)\n",
    "        list_of_depths = np.append(list_of_depths, df2.depth[n])"
   ]
  },
  {
   "cell_type": "code",
   "execution_count": 30,
   "metadata": {
    "collapsed": false
   },
   "outputs": [
    {
     "data": {
      "text/plain": [
       "['/results/SalishSea/hindcast/01sep15/SalishSea_1h_20150901_20151001_ptrc_T_20150930-20150930.nc']"
      ]
     },
     "execution_count": 30,
     "metadata": {},
     "output_type": "execute_result"
    }
   ],
   "source": []
  },
  {
   "cell_type": "code",
   "execution_count": null,
   "metadata": {
    "collapsed": false
   },
   "outputs": [],
   "source": [
    "list_of_cs_ni.shape"
   ]
  },
  {
   "cell_type": "code",
   "execution_count": null,
   "metadata": {
    "collapsed": false
   },
   "outputs": [],
   "source": [
    "print('shallow nutrient samples', list_of_cs_ni[list_of_depths < 15].shape)"
   ]
  },
  {
   "cell_type": "code",
   "execution_count": null,
   "metadata": {
    "collapsed": false
   },
   "outputs": [],
   "source": [
    "print('intermediate nutrient samples',  list_of_cs_ni[(22 > list_of_depths) & (list_of_depths >= 15)].shape)"
   ]
  },
  {
   "cell_type": "code",
   "execution_count": null,
   "metadata": {
    "collapsed": false
   },
   "outputs": [],
   "source": [
    "print('deep nutrient samples',  list_of_cs_ni[list_of_depths >= 22].shape)"
   ]
  },
  {
   "cell_type": "code",
   "execution_count": null,
   "metadata": {
    "collapsed": false
   },
   "outputs": [],
   "source": [
    "fig, ax = plt.subplots(figsize = (10,10))\n",
    "viz_tools.set_aspect(ax, coords = 'map')\n",
    "ax.plot(list_of_lons, list_of_lats, 'ro')\n",
    "ax.plot(list_of_lons[(list_of_lons < -123.5) & (list_of_lats < 48.6)], \n",
    "        list_of_lats[(list_of_lons < -123.5) & (list_of_lats < 48.6)], \n",
    "        'bo', label = 'Juan de Fuca')\n",
    "viz_tools.plot_coastline(ax, grid, coords = 'map')\n",
    "ax.set_ylim(48, 50.5)\n",
    "ax.legend()\n",
    "ax.set_xlim(-125.7, -122.5);"
   ]
  },
  {
   "cell_type": "code",
   "execution_count": null,
   "metadata": {
    "collapsed": false
   },
   "outputs": [],
   "source": [
    "fig, ax = plt.subplots(figsize = (10,10))\n",
    "viz_tools.set_aspect(ax, coords = 'map')\n",
    "ax.plot(list_of_lons[(list_of_cs_ni >= 25) & (list_of_cs_ni <= 32) \n",
    "                     & (list_of_cs_si >= 58) & (list_of_cs_si <= 93)], \n",
    "        list_of_lats[(list_of_cs_ni >= 25) & (list_of_cs_ni <= 32) \n",
    "                     & (list_of_cs_si >= 58) & (list_of_cs_si <= 93)], \n",
    "        'go')\n",
    "viz_tools.plot_coastline(ax, grid, coords = 'map')\n",
    "ax.set_title('Stations with  25 <= Ni <= 32 & 58 <= Si <= 93')\n",
    "ax.set_ylim(48, 50.5)\n",
    "ax.set_xlim(-125.7, -122.5);"
   ]
  },
  {
   "cell_type": "code",
   "execution_count": null,
   "metadata": {
    "collapsed": false
   },
   "outputs": [],
   "source": [
    "list_of_cs_ni[(list_of_cs_ni >= 25) & (list_of_cs_ni <= 32) \n",
    "                     & (list_of_cs_si >= 58) & (list_of_cs_si <= 93)].shape"
   ]
  },
  {
   "cell_type": "markdown",
   "metadata": {},
   "source": [
    "# All boxed samples have depths > 30 m and are not in Juan de Fuca (211 samples in total)"
   ]
  },
  {
   "cell_type": "code",
   "execution_count": null,
   "metadata": {
    "collapsed": false
   },
   "outputs": [],
   "source": [
    "fig, ax = plt.subplots(figsize = (10,10))\n",
    "ax.plot(list_of_cs_ni[list_of_depths < 15], list_of_model_ni[list_of_depths < 15], \n",
    "        '.', color = 'Crimson', alpha = 0.5, label = 'surface')\n",
    "ax.plot(list_of_cs_ni[(22 > list_of_depths) & (list_of_depths >= 15)], \n",
    "        list_of_model_ni[(22 > list_of_depths) & (list_of_depths >= 15)], \n",
    "        '.', color = 'DarkOrange', alpha = 0.5, label = 'intermediate')\n",
    "ax.plot(list_of_cs_ni[list_of_depths >= 22], list_of_model_ni[list_of_depths >= 22], \n",
    "        '.', color = 'DeepPink', alpha = 0.5, label = 'deep')\n",
    "ax.plot(list_of_cs_ni[(list_of_cs_ni >= 25) & (list_of_cs_ni <= 32) \n",
    "                      & (list_of_cs_si >= 58) & (list_of_cs_si <= 93)], \n",
    "        list_of_model_ni[(list_of_cs_ni >= 25) & (list_of_cs_ni <= 32) \n",
    "                         & (list_of_cs_si >= 58) & (list_of_cs_si <= 93)], \n",
    "        '.', color = 'Black', alpha = 0.5, label = 'box')\n",
    "\n",
    "ax.plot(list_of_cs_ni[(list_of_depths < 15) & (list_of_lons < -123.5) & (list_of_lats < 48.6)], \n",
    "        list_of_model_ni[(list_of_depths < 15) & (list_of_lons < -123.5) \n",
    "                         & (list_of_lats < 48.6)], \n",
    "        '.', color = 'ForestGreen', alpha = 0.5, label = ' Juan de Fuca surface')\n",
    "ax.plot(list_of_cs_ni[(22 > list_of_depths) & (list_of_depths >= 15) \n",
    "                      & (list_of_lons < -123.5) & (list_of_lats < 48.6)], \n",
    "        list_of_model_ni[(22 > list_of_depths) & (list_of_depths >= 15) \n",
    "                         & (list_of_lons < -123.5) & (list_of_lats < 48.6)], \n",
    "        '.', color = 'CornflowerBlue', alpha = 0.5, label = ' Juan de Fuca intermediate')\n",
    "ax.plot(list_of_cs_ni[(list_of_depths >= 22) & (list_of_lons < -123.5) & (list_of_lats < 48.6)], \n",
    "        list_of_model_ni[(list_of_depths >= 22) & (list_of_lons < -123.5) \n",
    "                         & (list_of_lats < 48.6)], \n",
    "        '.', color = 'DarkOrchid', alpha = 0.5, label = ' Juan de Fuca deep')\n",
    "\n",
    "ax.plot(np.arange(0,35), color = 'grey')\n",
    "ax.grid('on')\n",
    "ax.set_title('DFO Nitrate')\n",
    "ax.set_xlabel('DFO')\n",
    "ax.set_ylabel('Nowcast-green');\n",
    "ax.legend()\n",
    "print('surface bias =  ' + str(-np.mean(list_of_cs_ni[list_of_depths < 15]) \n",
    "                               + np.mean(list_of_model_ni[list_of_depths < 15])))\n",
    "print('surface RMSE = ' + str(np.sqrt(np.sum((list_of_model_ni[list_of_depths < 15] \n",
    "                                              - list_of_cs_ni[list_of_depths < 15])**2) /\n",
    "                              len(list_of_cs_ni[list_of_depths < 15]))))\n",
    "xbar = np.mean(list_of_cs_ni[list_of_depths < 15])\n",
    "print('surface Willmott = ' + str(1-(np.sum((list_of_model_ni[list_of_depths < 15] \n",
    "                                             - list_of_cs_ni[list_of_depths < 15])**2)  / \n",
    "                             np.sum((np.abs(list_of_model_ni[list_of_depths < 15] - xbar) \n",
    "                                     + np.abs(list_of_cs_ni[list_of_depths < 15] - xbar))**2))))\n",
    "\n",
    "print('intermediate bias =  ' + str(-np.mean(list_of_cs_ni[(22 > list_of_depths) \n",
    "                                                           & (list_of_depths >= 15)]) \n",
    "                               + np.mean(list_of_model_ni[(22 > list_of_depths) \n",
    "                                                          & (list_of_depths >= 15)])))\n",
    "print('intermediate RMSE = ' + str(np.sqrt(np.sum((list_of_model_ni[(22 > list_of_depths) \n",
    "                                                                    & (list_of_depths >= 15)] \n",
    "                                              - list_of_cs_ni[(22 > list_of_depths) \n",
    "                                                              & (list_of_depths >= 15)])**2) /\n",
    "                              len(list_of_cs_ni[(22 > list_of_depths) & (list_of_depths >= 15)]))))\n",
    "xbar = np.mean(list_of_cs_ni[(22 > list_of_depths) & (list_of_depths >= 15)])\n",
    "print('intermediate Willmott = ' + str(1-(np.sum((list_of_model_ni[(22 > list_of_depths) \n",
    "                                                                   & (list_of_depths >= 15)] \n",
    "                                             - list_of_cs_ni[(22 > list_of_depths) \n",
    "                                                             & (list_of_depths >= 15)])**2)  / \n",
    "                             np.sum((np.abs(list_of_model_ni[(22 > list_of_depths) \n",
    "                                                             & (list_of_depths >= 15)] - xbar) \n",
    "                                     + np.abs(list_of_cs_ni[(22 > list_of_depths) \n",
    "                                                            & (list_of_depths >= 15)] - xbar))**2))))\n",
    "\n",
    "print('deep bias =  ' + str(-np.mean(list_of_cs_ni[list_of_depths >= 22]) \n",
    "                               + np.mean(list_of_model_ni[list_of_depths >= 22])))\n",
    "print('deep RMSE = ' + str(np.sqrt(np.sum((list_of_model_ni[list_of_depths >= 22] \n",
    "                                              - list_of_cs_ni[list_of_depths >= 22])**2) /\n",
    "                              len(list_of_cs_ni[list_of_depths >= 22]))))\n",
    "xbar = np.mean(list_of_cs_ni[list_of_depths >= 22])\n",
    "print('deep Willmott = ' + str(1-(np.sum((list_of_model_ni[list_of_depths >= 22] \n",
    "                                             - list_of_cs_ni[list_of_depths >= 22])**2)  / \n",
    "                             np.sum((np.abs(list_of_model_ni[list_of_depths >= 22] - xbar) \n",
    "                                     + np.abs(list_of_cs_ni[list_of_depths >= 22] - xbar))**2))))\n",
    "\n",
    "print('bias =  ' + str(-np.mean(list_of_cs_ni) + np.mean(list_of_model_ni)))\n",
    "print('RMSE = ' + str(np.sqrt(np.sum((list_of_model_ni - list_of_cs_ni)**2) /\n",
    "                              len(list_of_cs_ni))))\n",
    "xbar = np.mean(list_of_cs_ni)\n",
    "print('Willmott = ' + str(1-(np.sum((list_of_model_ni - list_of_cs_ni)**2)  / \n",
    "                             np.sum((np.abs(list_of_model_ni - xbar) \n",
    "                                     + np.abs(list_of_cs_ni - xbar))**2))))"
   ]
  },
  {
   "cell_type": "code",
   "execution_count": null,
   "metadata": {
    "collapsed": false
   },
   "outputs": [],
   "source": [
    "fig, ax = plt.subplots(figsize = (20,8))\n",
    "ax.plot(list_of_lats[list_of_depths < 15], \n",
    "        list_of_model_ni[list_of_depths < 15] \n",
    "        - list_of_cs_ni[list_of_depths < 15], 'o', color = 'Crimson',\n",
    "        alpha =0.5, label = 'surface')\n",
    "ax.plot(list_of_lats[(22 > list_of_depths) & (list_of_depths >= 15)], \n",
    "        list_of_model_ni[(22 > list_of_depths) & (list_of_depths >= 15)] \n",
    "        - list_of_cs_ni[(22 > list_of_depths) & (list_of_depths >= 15)], \n",
    "        'o', color = 'DarkOrange', alpha =0.5, label = 'deep')\n",
    "ax.plot(list_of_lats[list_of_depths >= 22], \n",
    "        list_of_model_ni[list_of_depths >= 22] \n",
    "        - list_of_cs_ni[list_of_depths >= 22], 'o', color = 'DeepPink',\n",
    "        alpha =0.5, label = 'deep')\n",
    "ax.plot(list_of_lats[(list_of_cs_ni >= 25) & (list_of_cs_ni <= 32) \n",
    "                     & (list_of_cs_si >= 58) & (list_of_cs_si <= 93)], \n",
    "        list_of_model_ni[(list_of_cs_ni >= 25) & (list_of_cs_ni <= 32) \n",
    "                     & (list_of_cs_si >= 58) & (list_of_cs_si <= 93)] \n",
    "        - list_of_cs_ni[(list_of_cs_ni >= 25) & (list_of_cs_ni <= 32) \n",
    "                     & (list_of_cs_si >= 58) & (list_of_cs_si <= 93)], \n",
    "        'o', color = 'Black', alpha =0.5, label = 'box')\n",
    "\n",
    "ax.plot(list_of_lats[(list_of_depths < 15) & (list_of_lons < -123.5) \n",
    "                         & (list_of_lats < 48.6)],\n",
    "       list_of_model_ni[(list_of_depths < 15) & (list_of_lons < -123.5) \n",
    "                         & (list_of_lats < 48.6)] \n",
    "       - list_of_cs_ni[(list_of_depths < 15) & (list_of_lons < -123.5) \n",
    "                         & (list_of_lats < 48.6)],\n",
    "       'o', color = 'ForestGreen', alpha = 0.5, label = 'Juan de Fuca surface')\n",
    "ax.plot(list_of_lats[(22 > list_of_depths) & (list_of_depths >= 15) \n",
    "                     & (list_of_lons < -123.5) & (list_of_lats < 48.6)],\n",
    "       list_of_model_ni[(22 > list_of_depths) & (list_of_depths >= 15) \n",
    "                        & (list_of_lons < -123.5) & (list_of_lats < 48.6)] \n",
    "       - list_of_cs_ni[(22 > list_of_depths) & (list_of_depths >= 15) \n",
    "                       & (list_of_lons < -123.5) & (list_of_lats < 48.6)],\n",
    "       'o', color = 'CornflowerBlue', alpha = 0.5, label = 'Juan de Fuca intermediate')\n",
    "ax.plot(list_of_lats[(list_of_depths >= 22) & (list_of_lons < -123.5) \n",
    "                         & (list_of_lats < 48.6)],\n",
    "       list_of_model_ni[(list_of_depths >= 22) & (list_of_lons < -123.5) \n",
    "                         & (list_of_lats < 48.6)] \n",
    "       - list_of_cs_ni[(list_of_depths >= 22) & (list_of_lons < -123.5) \n",
    "                         & (list_of_lats < 48.6)],\n",
    "       'o', color = 'DarkOrchid', alpha = 0.5, label = 'Juan de Fuca deep')\n",
    "\n",
    "ax.legend()\n",
    "ax.grid('on')\n",
    "ax.set_xlabel('lat', fontsize = 15)\n",
    "ax.set_ylabel('Model - Observed',fontsize = 15)\n",
    "ax.set_title('Ni', fontsize = 20);"
   ]
  },
  {
   "cell_type": "code",
   "execution_count": null,
   "metadata": {
    "collapsed": false
   },
   "outputs": [],
   "source": [
    "fig, ax = plt.subplots(figsize = (20,8))\n",
    "ax.plot(list_of_lons[list_of_depths < 15], \n",
    "        list_of_model_ni[list_of_depths < 15] \n",
    "        - list_of_cs_ni[list_of_depths < 15], 'o', color = 'Crimson',\n",
    "        alpha =0.5, label = 'surface')\n",
    "ax.plot(list_of_lons[(22 > list_of_depths) & (list_of_depths >= 15)], \n",
    "        list_of_model_ni[(22 > list_of_depths) & (list_of_depths >= 15)] \n",
    "        - list_of_cs_ni[(22 > list_of_depths) & (list_of_depths >= 15)], \n",
    "        'o', color = 'DarkOrange', alpha =0.5, label = 'deep')\n",
    "ax.plot(list_of_lons[list_of_depths >= 22], \n",
    "        list_of_model_ni[list_of_depths >= 22] \n",
    "        - list_of_cs_ni[list_of_depths >= 22], 'o', color = 'DeepPink',\n",
    "        alpha =0.5, label = 'deep')\n",
    "ax.plot(list_of_lons[(list_of_cs_ni >= 25) & (list_of_cs_ni <= 32) \n",
    "                     & (list_of_cs_si >= 58) & (list_of_cs_si <= 93)], \n",
    "        list_of_model_ni[(list_of_cs_ni >= 25) & (list_of_cs_ni <= 32) \n",
    "                     & (list_of_cs_si >= 58) & (list_of_cs_si <= 93)] \n",
    "        - list_of_cs_ni[(list_of_cs_ni >= 25) & (list_of_cs_ni <= 32) \n",
    "                     & (list_of_cs_si >= 58) & (list_of_cs_si <= 93)], \n",
    "        'o', color = 'Black', alpha =0.5, label = 'box')\n",
    "\n",
    "ax.plot(list_of_lons[(list_of_depths < 15) & (list_of_lons < -123.5) \n",
    "                         & (list_of_lats < 48.6)],\n",
    "       list_of_model_ni[(list_of_depths < 15) & (list_of_lons < -123.5) \n",
    "                         & (list_of_lats < 48.6)] \n",
    "       - list_of_cs_ni[(list_of_depths < 15) & (list_of_lons < -123.5) \n",
    "                         & (list_of_lats < 48.6)],\n",
    "       'o', color = 'ForestGreen', alpha = 0.5, label = 'Juan de Fuca surface')\n",
    "ax.plot(list_of_lons[(22 > list_of_depths) & (list_of_depths >= 15) \n",
    "                     & (list_of_lons < -123.5) & (list_of_lats < 48.6)],\n",
    "       list_of_model_ni[(22 > list_of_depths) & (list_of_depths >= 15) \n",
    "                        & (list_of_lons < -123.5) & (list_of_lats < 48.6)] \n",
    "       - list_of_cs_ni[(22 > list_of_depths) & (list_of_depths >= 15) \n",
    "                       & (list_of_lons < -123.5) & (list_of_lats < 48.6)],\n",
    "       'o', color = 'CornflowerBlue', alpha = 0.5, label = 'Juan de Fuca intermediate')\n",
    "ax.plot(list_of_lons[(list_of_depths >= 22) & (list_of_lons < -123.5) \n",
    "                         & (list_of_lats < 48.6)],\n",
    "       list_of_model_ni[(list_of_depths >= 22) & (list_of_lons < -123.5) \n",
    "                         & (list_of_lats < 48.6)] \n",
    "       - list_of_cs_ni[(list_of_depths >= 22) & (list_of_lons < -123.5) \n",
    "                         & (list_of_lats < 48.6)],\n",
    "       'o', color = 'DarkOrchid', alpha = 0.5, label = 'Juan de Fuca deep')\n",
    "\n",
    "ax.legend()\n",
    "ax.grid('on')\n",
    "ax.set_xlabel('lon', fontsize = 15)\n",
    "ax.set_ylabel('Model - Observed',fontsize = 15)\n",
    "ax.set_title('Ni', fontsize = 20);"
   ]
  },
  {
   "cell_type": "code",
   "execution_count": null,
   "metadata": {
    "collapsed": false
   },
   "outputs": [],
   "source": [
    "fig, ax = plt.subplots(figsize = (20,8))\n",
    "ax.plot(list_of_datetimes[list_of_depths < 15], \n",
    "        list_of_model_ni[list_of_depths < 15] \n",
    "        - list_of_cs_ni[list_of_depths < 15], 'o', color = 'Crimson',\n",
    "        alpha =0.5, label = 'surface')\n",
    "ax.plot(list_of_datetimes[(22 > list_of_depths) & (list_of_depths >= 15)], \n",
    "        list_of_model_ni[(22 > list_of_depths) & (list_of_depths >= 15)] \n",
    "        - list_of_cs_ni[(22 > list_of_depths) & (list_of_depths >= 15)], \n",
    "        'o', color = 'DarkOrange', alpha =0.5, label = 'deep')\n",
    "ax.plot(list_of_datetimes[list_of_depths >= 22], \n",
    "        list_of_model_ni[list_of_depths >= 22] \n",
    "        - list_of_cs_ni[list_of_depths >= 22], 'o', color = 'DeepPink',\n",
    "        alpha =0.5, label = 'deep')\n",
    "ax.plot(list_of_datetimes[(list_of_cs_ni >= 25) & (list_of_cs_ni <= 32) \n",
    "                     & (list_of_cs_si >= 58) & (list_of_cs_si <= 93)], \n",
    "        list_of_model_ni[(list_of_cs_ni >= 25) & (list_of_cs_ni <= 32) \n",
    "                     & (list_of_cs_si >= 58) & (list_of_cs_si <= 93)] \n",
    "        - list_of_cs_ni[(list_of_cs_ni >= 25) & (list_of_cs_ni <= 32) \n",
    "                     & (list_of_cs_si >= 58) & (list_of_cs_si <= 93)], \n",
    "        'o', color = 'Black', alpha =0.5, label = 'box')\n",
    "\n",
    "ax.plot(list_of_datetimes[(list_of_depths < 15) & (list_of_lons < -123.5) \n",
    "                         & (list_of_lats < 48.6)],\n",
    "       list_of_model_ni[(list_of_depths < 15) & (list_of_lons < -123.5) \n",
    "                         & (list_of_lats < 48.6)] \n",
    "       - list_of_cs_ni[(list_of_depths < 15) & (list_of_lons < -123.5) \n",
    "                         & (list_of_lats < 48.6)],\n",
    "       'o', color = 'ForestGreen', alpha = 0.5, label = 'Juan de Fuca surface')\n",
    "ax.plot(list_of_datetimes[(22 > list_of_depths) & (list_of_depths >= 15) \n",
    "                     & (list_of_lons < -123.5) & (list_of_lats < 48.6)],\n",
    "       list_of_model_ni[(22 > list_of_depths) & (list_of_depths >= 15) \n",
    "                        & (list_of_lons < -123.5) & (list_of_lats < 48.6)] \n",
    "       - list_of_cs_ni[(22 > list_of_depths) & (list_of_depths >= 15) \n",
    "                       & (list_of_lons < -123.5) & (list_of_lats < 48.6)],\n",
    "       'o', color = 'CornflowerBlue', alpha = 0.5, label = 'Juan de Fuca intermediate')\n",
    "ax.plot(list_of_datetimes[(list_of_depths >= 22) & (list_of_lons < -123.5) \n",
    "                         & (list_of_lats < 48.6)],\n",
    "       list_of_model_ni[(list_of_depths >= 22) & (list_of_lons < -123.5) \n",
    "                         & (list_of_lats < 48.6)] \n",
    "       - list_of_cs_ni[(list_of_depths >= 22) & (list_of_lons < -123.5) \n",
    "                         & (list_of_lats < 48.6)],\n",
    "       'o', color = 'DarkOrchid', alpha = 0.5, label = 'Juan de Fuca deep')\n",
    "\n",
    "ax.legend()\n",
    "ax.grid('on')\n",
    "ax.set_xlabel('date', fontsize = 15)\n",
    "ax.set_ylabel('Model - Observed',fontsize = 15)\n",
    "ax.set_title('Ni', fontsize = 20);"
   ]
  },
  {
   "cell_type": "code",
   "execution_count": null,
   "metadata": {
    "collapsed": false
   },
   "outputs": [],
   "source": [
    "fig, ax = plt.subplots(figsize = (10,10))\n",
    "ax.plot(list_of_cs_si[list_of_depths < 15], list_of_model_si[list_of_depths < 15], \n",
    "        '.', color = 'Crimson', alpha = 0.5, label = 'surface')\n",
    "ax.plot(list_of_cs_si[(22 > list_of_depths) & (list_of_depths >= 15)], \n",
    "        list_of_model_si[(22 > list_of_depths) & (list_of_depths >= 15)], \n",
    "        '.', color = 'DarkOrange', alpha = 0.5, label = 'intermediate')\n",
    "ax.plot(list_of_cs_si[list_of_depths >= 22], list_of_model_si[list_of_depths >= 22], \n",
    "        '.', color = 'DarkBlue', alpha = 0.5, label = 'deep')\n",
    "ax.plot(list_of_cs_si[(list_of_cs_ni >= 25) & (list_of_cs_ni <= 32) \n",
    "                      & (list_of_cs_si >= 58) & (list_of_cs_si <= 93)], \n",
    "        list_of_model_si[(list_of_cs_ni >= 25) & (list_of_cs_ni <= 32) \n",
    "                         & (list_of_cs_si >= 58) & (list_of_cs_si <= 93)], \n",
    "        '.', color = 'Black', alpha = 0.5, label = 'box')\n",
    "\n",
    "ax.plot(list_of_cs_si[(list_of_depths < 15) & (list_of_lons < -123.5) & (list_of_lats < 48.6)], \n",
    "        list_of_model_si[(list_of_depths < 15) & (list_of_lons < -123.5) \n",
    "                         & (list_of_lats < 48.6)], \n",
    "        '.', color = 'ForestGreen', alpha = 0.5, label = ' Juan de Fuca surface')\n",
    "ax.plot(list_of_cs_si[(22 > list_of_depths) & (list_of_depths >= 15) \n",
    "                      & (list_of_lons < -123.5) & (list_of_lats < 48.6)], \n",
    "        list_of_model_si[(22 > list_of_depths) & (list_of_depths >= 15) \n",
    "                         & (list_of_lons < -123.5) & (list_of_lats < 48.6)], \n",
    "        '.', color = 'CornflowerBlue', alpha = 0.5, label = ' Juan de Fuca intermediate')\n",
    "ax.plot(list_of_cs_si[(list_of_depths >= 22) & (list_of_lons < -123.5) & (list_of_lats < 48.6)], \n",
    "        list_of_model_si[(list_of_depths >= 22) & (list_of_lons < -123.5) \n",
    "                         & (list_of_lats < 48.6)], \n",
    "        '.', color = 'Purple', alpha = 0.5, label = ' Juan de Fuca deep')\n",
    "\n",
    "ax.plot(np.arange(0,56), color = 'grey')\n",
    "ax.grid('on')\n",
    "ax.set_title('DFO Silicon')\n",
    "ax.set_xlabel('DFO')\n",
    "ax.set_ylabel('Nowcast-green');\n",
    "ax.legend(loc=4)\n",
    "print('surface bias =  ' + str(-np.mean(list_of_cs_si[list_of_depths < 15]) \n",
    "                               + np.mean(list_of_model_si[list_of_depths < 15])))\n",
    "print('surface RMSE = ' + str(np.sqrt(np.sum((list_of_model_si[list_of_depths < 15] \n",
    "                                              - list_of_cs_si[list_of_depths < 15])**2) /\n",
    "                              len(list_of_cs_si[list_of_depths < 15]))))\n",
    "xbar = np.mean(list_of_cs_si[list_of_depths < 15])\n",
    "print('surface Willmott = ' + str(1-(np.sum((list_of_model_si[list_of_depths < 15] \n",
    "                                             - list_of_cs_si[list_of_depths < 15])**2)  / \n",
    "                             np.sum((np.abs(list_of_model_si[list_of_depths < 15] - xbar) \n",
    "                                     + np.abs(list_of_cs_si[list_of_depths < 15] - xbar))**2))))\n",
    "\n",
    "print('intermediate bias =  ' + str(-np.mean(list_of_cs_si[(22 > list_of_depths) \n",
    "                                                           & (list_of_depths >= 15)]) \n",
    "                               + np.mean(list_of_model_si[(22 > list_of_depths) \n",
    "                                                          & (list_of_depths >= 15)])))\n",
    "print('intermediate RMSE = ' + str(np.sqrt(np.sum((list_of_model_si[(22 > list_of_depths) \n",
    "                                                                    & (list_of_depths >= 15)] \n",
    "                                              - list_of_cs_si[(22 > list_of_depths) \n",
    "                                                              & (list_of_depths >= 15)])**2) /\n",
    "                              len(list_of_cs_si[(22 > list_of_depths) & (list_of_depths >= 15)]))))\n",
    "xbar = np.mean(list_of_cs_si[(22 > list_of_depths) & (list_of_depths >= 15)])\n",
    "print('intermediate Willmott = ' + str(1-(np.sum((list_of_model_si[(22 > list_of_depths) \n",
    "                                                                   & (list_of_depths >= 15)] \n",
    "                                             - list_of_cs_si[(22 > list_of_depths) \n",
    "                                                             & (list_of_depths >= 15)])**2)  / \n",
    "                             np.sum((np.abs(list_of_model_si[(22 > list_of_depths) \n",
    "                                                             & (list_of_depths >= 15)] - xbar) \n",
    "                                     + np.abs(list_of_cs_si[(22 > list_of_depths) \n",
    "                                                            & (list_of_depths >= 15)] - xbar))**2))))\n",
    "\n",
    "print('deep bias =  ' + str(-np.mean(list_of_cs_si[list_of_depths >= 22]) \n",
    "                               + np.mean(list_of_model_si[list_of_depths >= 22])))\n",
    "print('deep RMSE = ' + str(np.sqrt(np.sum((list_of_model_si[list_of_depths >= 22] \n",
    "                                              - list_of_cs_si[list_of_depths >= 22])**2) /\n",
    "                              len(list_of_cs_si[list_of_depths >= 22]))))\n",
    "xbar = np.mean(list_of_cs_si[list_of_depths >= 22])\n",
    "print('deep Willmott = ' + str(1-(np.sum((list_of_model_si[list_of_depths >= 22] \n",
    "                                             - list_of_cs_si[list_of_depths >= 22])**2)  / \n",
    "                             np.sum((np.abs(list_of_model_si[list_of_depths >= 22] - xbar) \n",
    "                                     + np.abs(list_of_cs_si[list_of_depths >= 22] - xbar))**2))))\n",
    "\n",
    "print('bias =  ' + str(-np.mean(list_of_cs_si) + np.mean(list_of_model_si)))\n",
    "print('RMSE = ' + str(np.sqrt(np.sum((list_of_model_si - list_of_cs_si)**2) /\n",
    "                              len(list_of_cs_si))))\n",
    "xbar = np.mean(list_of_cs_si)\n",
    "print('Willmott = ' + str(1-(np.sum((list_of_model_si - list_of_cs_si)**2)  / \n",
    "                             np.sum((np.abs(list_of_model_si - xbar) \n",
    "                                     + np.abs(list_of_cs_si - xbar))**2))))"
   ]
  },
  {
   "cell_type": "code",
   "execution_count": null,
   "metadata": {
    "collapsed": false
   },
   "outputs": [],
   "source": [
    "fig, ax = plt.subplots(figsize = (20,8))\n",
    "ax.plot(list_of_lats[list_of_depths < 15], \n",
    "        list_of_model_si[list_of_depths < 15] \n",
    "        - list_of_cs_si[list_of_depths < 15], 'o', color = 'Crimson',\n",
    "        alpha =0.5, label = 'surface')\n",
    "ax.plot(list_of_lats[(22 > list_of_depths) & (list_of_depths >= 15)], \n",
    "        list_of_model_si[(22 > list_of_depths) & (list_of_depths >= 15)] \n",
    "        - list_of_cs_si[(22 > list_of_depths) & (list_of_depths >= 15)], \n",
    "        'o', color = 'DarkOrange', alpha =0.5, label = 'intermediate')\n",
    "ax.plot(list_of_lats[list_of_depths >= 22], \n",
    "        list_of_model_si[list_of_depths >= 22] \n",
    "        - list_of_cs_si[list_of_depths >= 22], 'o', color = 'DeepPink',\n",
    "        alpha =0.5, label = 'deep')\n",
    "ax.plot(list_of_lats[(list_of_cs_ni >= 25) & (list_of_cs_ni <= 32) \n",
    "                     & (list_of_cs_si >= 58) & (list_of_cs_si <= 93)], \n",
    "        list_of_model_si[(list_of_cs_ni >= 25) & (list_of_cs_ni <= 32) \n",
    "                     & (list_of_cs_si >= 58) & (list_of_cs_si <= 93)] \n",
    "        - list_of_cs_si[(list_of_cs_ni >= 25) & (list_of_cs_ni <= 32) \n",
    "                     & (list_of_cs_si >= 58) & (list_of_cs_si <= 93)], \n",
    "        'o', color = 'Black', alpha =0.5, label = 'box')\n",
    "\n",
    "ax.plot(list_of_lats[(list_of_depths < 15) & (list_of_lons < -123.5) \n",
    "                         & (list_of_lats < 48.6)],\n",
    "       list_of_model_si[(list_of_depths < 15) & (list_of_lons < -123.5) \n",
    "                         & (list_of_lats < 48.6)] \n",
    "       - list_of_cs_si[(list_of_depths < 15) & (list_of_lons < -123.5) \n",
    "                         & (list_of_lats < 48.6)],\n",
    "       'o', color = 'ForestGreen', alpha = 0.5, label = 'Juan de Fuca surface')\n",
    "ax.plot(list_of_lats[(22 > list_of_depths) & (list_of_depths >= 15) \n",
    "                     & (list_of_lons < -123.5) & (list_of_lats < 48.6)],\n",
    "       list_of_model_si[(22 > list_of_depths) & (list_of_depths >= 15) \n",
    "                        & (list_of_lons < -123.5) & (list_of_lats < 48.6)] \n",
    "       - list_of_cs_si[(22 > list_of_depths) & (list_of_depths >= 15) \n",
    "                       & (list_of_lons < -123.5) & (list_of_lats < 48.6)],\n",
    "       'o', color = 'CornflowerBlue', alpha = 0.5, label = 'Juan de Fuca intermediate')\n",
    "ax.plot(list_of_lats[(list_of_depths >= 22) & (list_of_lons < -123.5) \n",
    "                         & (list_of_lats < 48.6)],\n",
    "       list_of_model_si[(list_of_depths >= 22) & (list_of_lons < -123.5) \n",
    "                         & (list_of_lats < 48.6)] \n",
    "       - list_of_cs_si[(list_of_depths >= 22) & (list_of_lons < -123.5) \n",
    "                         & (list_of_lats < 48.6)],\n",
    "       'o', color = 'DarkOrchid', alpha = 0.5, label = 'Juan de Fuca deep')\n",
    "\n",
    "ax.legend()\n",
    "ax.grid('on')\n",
    "ax.set_xlabel('lat', fontsize = 15)\n",
    "ax.set_ylabel('Model - Observed',fontsize = 15)\n",
    "ax.set_title('Si', fontsize = 20);"
   ]
  },
  {
   "cell_type": "code",
   "execution_count": null,
   "metadata": {
    "collapsed": false
   },
   "outputs": [],
   "source": [
    "fig, ax = plt.subplots(figsize = (20,8))\n",
    "ax.plot(list_of_depths[list_of_depths < 15], \n",
    "        list_of_model_si[list_of_depths < 15] \n",
    "        - list_of_cs_si[list_of_depths < 15], 'o', color = 'Crimson',\n",
    "        alpha =0.5, label = 'surface')\n",
    "ax.plot(list_of_depths[(22 > list_of_depths) & (list_of_depths >= 15)], \n",
    "        list_of_model_si[(22 > list_of_depths) & (list_of_depths >= 15)] \n",
    "        - list_of_cs_si[(22 > list_of_depths) & (list_of_depths >= 15)], \n",
    "        'o', color = 'DarkOrange', alpha =0.5, label = 'intermediate')\n",
    "ax.plot(list_of_depths[list_of_depths >= 22], \n",
    "        list_of_model_si[list_of_depths >= 22] \n",
    "        - list_of_cs_si[list_of_depths >= 22], 'o', color = 'DeepPink',\n",
    "        alpha =0.5, label = 'deep')\n",
    "ax.plot(list_of_depths[(list_of_cs_ni >= 25) & (list_of_cs_ni <= 32) \n",
    "                     & (list_of_cs_si >= 58) & (list_of_cs_si <= 93)], \n",
    "        list_of_model_si[(list_of_cs_ni >= 25) & (list_of_cs_ni <= 32) \n",
    "                     & (list_of_cs_si >= 58) & (list_of_cs_si <= 93)] \n",
    "        - list_of_cs_si[(list_of_cs_ni >= 25) & (list_of_cs_ni <= 32) \n",
    "                     & (list_of_cs_si >= 58) & (list_of_cs_si <= 93)], \n",
    "        'o', color = 'Black', alpha =0.5, label = 'box')\n",
    "\n",
    "ax.plot(list_of_depths[(list_of_depths < 15) & (list_of_lons < -123.5) \n",
    "                         & (list_of_lats < 48.6)],\n",
    "       list_of_model_si[(list_of_depths < 15) & (list_of_lons < -123.5) \n",
    "                         & (list_of_lats < 48.6)] \n",
    "       - list_of_cs_si[(list_of_depths < 15) & (list_of_lons < -123.5) \n",
    "                         & (list_of_lats < 48.6)],\n",
    "       'o', color = 'ForestGreen', alpha = 0.5, label = 'Juan de Fuca surface')\n",
    "ax.plot(list_of_depths[(22 > list_of_depths) & (list_of_depths >= 15) \n",
    "                     & (list_of_lons < -123.5) & (list_of_lats < 48.6)],\n",
    "       list_of_model_si[(22 > list_of_depths) & (list_of_depths >= 15) \n",
    "                        & (list_of_lons < -123.5) & (list_of_lats < 48.6)] \n",
    "       - list_of_cs_si[(22 > list_of_depths) & (list_of_depths >= 15) \n",
    "                       & (list_of_lons < -123.5) & (list_of_lats < 48.6)],\n",
    "       'o', color = 'CornflowerBlue', alpha = 0.5, label = 'Juan de Fuca intermediate')\n",
    "ax.plot(list_of_depths[(list_of_depths >= 22) & (list_of_lons < -123.5) \n",
    "                         & (list_of_lats < 48.6)],\n",
    "       list_of_model_si[(list_of_depths >= 22) & (list_of_lons < -123.5) \n",
    "                         & (list_of_lats < 48.6)] \n",
    "       - list_of_cs_si[(list_of_depths >= 22) & (list_of_lons < -123.5) \n",
    "                         & (list_of_lats < 48.6)],\n",
    "       'o', color = 'DarkOrchid', alpha = 0.5, label = 'Juan de Fuca deep')\n",
    "\n",
    "ax.legend()\n",
    "ax.grid('on')\n",
    "ax.set_xlabel('lat', fontsize = 15)\n",
    "ax.set_ylabel('Model - Observed',fontsize = 15)\n",
    "ax.set_title('Si', fontsize = 20);"
   ]
  },
  {
   "cell_type": "code",
   "execution_count": null,
   "metadata": {
    "collapsed": false
   },
   "outputs": [],
   "source": [
    "fig, ax = plt.subplots(figsize = (20,8))\n",
    "ax.plot(list_of_lons[list_of_depths < 15], \n",
    "        list_of_model_si[list_of_depths < 15] \n",
    "        - list_of_cs_si[list_of_depths < 15], 'o', color = 'Crimson',\n",
    "        alpha =0.5, label = 'surface')\n",
    "ax.plot(list_of_lons[(22 > list_of_depths) & (list_of_depths >= 15)], \n",
    "        list_of_model_si[(22 > list_of_depths) & (list_of_depths >= 15)] \n",
    "        - list_of_cs_si[(22 > list_of_depths) & (list_of_depths >= 15)], \n",
    "        'o', color = 'DarkOrange', alpha =0.5, label = 'intermediate')\n",
    "ax.plot(list_of_lons[list_of_depths >= 22], \n",
    "        list_of_model_si[list_of_depths >= 22] \n",
    "        - list_of_cs_si[list_of_depths >= 22], 'o', color = 'DeepPink',\n",
    "        alpha =0.5, label = 'deep')\n",
    "ax.plot(list_of_lons[(list_of_cs_ni >= 25) & (list_of_cs_ni <= 32) \n",
    "                     & (list_of_cs_si >= 58) & (list_of_cs_si <= 93)], \n",
    "        list_of_model_si[(list_of_cs_ni >= 25) & (list_of_cs_ni <= 32) \n",
    "                     & (list_of_cs_si >= 58) & (list_of_cs_si <= 93)] \n",
    "        - list_of_cs_si[(list_of_cs_ni >= 25) & (list_of_cs_ni <= 32) \n",
    "                     & (list_of_cs_si >= 58) & (list_of_cs_si <= 93)], \n",
    "        'o', color = 'Black', alpha =0.5, label = 'box')\n",
    "\n",
    "ax.plot(list_of_lons[(list_of_depths < 15) & (list_of_lons < -123.5) \n",
    "                         & (list_of_lats < 48.6)],\n",
    "       list_of_model_si[(list_of_depths < 15) & (list_of_lons < -123.5) \n",
    "                         & (list_of_lats < 48.6)] \n",
    "       - list_of_cs_si[(list_of_depths < 15) & (list_of_lons < -123.5) \n",
    "                         & (list_of_lats < 48.6)],\n",
    "       'o', color = 'ForestGreen', alpha = 0.5, label = 'Juan de Fuca surface')\n",
    "ax.plot(list_of_lons[(22 > list_of_depths) & (list_of_depths >= 15) \n",
    "                     & (list_of_lons < -123.5) & (list_of_lats < 48.6)],\n",
    "       list_of_model_si[(22 > list_of_depths) & (list_of_depths >= 15) \n",
    "                        & (list_of_lons < -123.5) & (list_of_lats < 48.6)] \n",
    "       - list_of_cs_si[(22 > list_of_depths) & (list_of_depths >= 15) \n",
    "                       & (list_of_lons < -123.5) & (list_of_lats < 48.6)],\n",
    "       'o', color = 'CornflowerBlue', alpha = 0.5, label = 'Juan de Fuca intermediate')\n",
    "ax.plot(list_of_lons[(list_of_depths >= 22) & (list_of_lons < -123.5) \n",
    "                         & (list_of_lats < 48.6)],\n",
    "       list_of_model_si[(list_of_depths >= 22) & (list_of_lons < -123.5) \n",
    "                         & (list_of_lats < 48.6)] \n",
    "       - list_of_cs_si[(list_of_depths >= 22) & (list_of_lons < -123.5) \n",
    "                         & (list_of_lats < 48.6)],\n",
    "       'o', color = 'DarkOrchid', alpha = 0.5, label = 'Juan de Fuca deep')\n",
    "\n",
    "ax.legend()\n",
    "ax.grid('on')\n",
    "ax.set_xlabel('lon', fontsize = 15)\n",
    "ax.set_ylabel('Model - Observed',fontsize = 15)\n",
    "ax.set_title('Si', fontsize = 20);"
   ]
  },
  {
   "cell_type": "code",
   "execution_count": null,
   "metadata": {
    "collapsed": false
   },
   "outputs": [],
   "source": [
    "fig, ax = plt.subplots(figsize = (20,8))\n",
    "ax.plot(list_of_datetimes[list_of_depths < 15], \n",
    "        list_of_model_si[list_of_depths < 15] \n",
    "        - list_of_cs_si[list_of_depths < 15], 'o', color = 'Crimson',\n",
    "        alpha =0.5, label = 'surface')\n",
    "ax.plot(list_of_datetimes[(22 > list_of_depths) & (list_of_depths >= 15)], \n",
    "        list_of_model_si[(22 > list_of_depths) & (list_of_depths >= 15)] \n",
    "        - list_of_cs_si[(22 > list_of_depths) & (list_of_depths >= 15)], \n",
    "        'o', color = 'DarkOrange', alpha =0.5, label = 'intermediate')\n",
    "ax.plot(list_of_datetimes[list_of_depths >= 22], \n",
    "        list_of_model_si[list_of_depths >= 22] \n",
    "        - list_of_cs_si[list_of_depths >= 22], 'o', color = 'DeepPink',\n",
    "        alpha =0.5, label = 'deep')\n",
    "ax.plot(list_of_datetimes[(list_of_cs_ni >= 25) & (list_of_cs_ni <= 32) \n",
    "                     & (list_of_cs_si >= 58) & (list_of_cs_si <= 93)], \n",
    "        list_of_model_si[(list_of_cs_ni >= 25) & (list_of_cs_ni <= 32) \n",
    "                     & (list_of_cs_si >= 58) & (list_of_cs_si <= 93)] \n",
    "        - list_of_cs_si[(list_of_cs_ni >= 25) & (list_of_cs_ni <= 32) \n",
    "                     & (list_of_cs_si >= 58) & (list_of_cs_si <= 93)], \n",
    "        'o', color = 'Black', alpha =0.5, label = 'box')\n",
    "\n",
    "ax.plot(list_of_datetimes[(list_of_depths < 15) & (list_of_lons < -123.5) \n",
    "                         & (list_of_lats < 48.6)],\n",
    "       list_of_model_si[(list_of_depths < 15) & (list_of_lons < -123.5) \n",
    "                         & (list_of_lats < 48.6)] \n",
    "       - list_of_cs_si[(list_of_depths < 15) & (list_of_lons < -123.5) \n",
    "                         & (list_of_lats < 48.6)],\n",
    "       'o', color = 'ForestGreen', alpha = 0.5, label = 'Juan de Fuca surface')\n",
    "ax.plot(list_of_datetimes[(22 > list_of_depths) & (list_of_depths >= 15) \n",
    "                     & (list_of_lons < -123.5) & (list_of_lats < 48.6)],\n",
    "       list_of_model_si[(22 > list_of_depths) & (list_of_depths >= 15) \n",
    "                        & (list_of_lons < -123.5) & (list_of_lats < 48.6)] \n",
    "       - list_of_cs_si[(22 > list_of_depths) & (list_of_depths >= 15) \n",
    "                       & (list_of_lons < -123.5) & (list_of_lats < 48.6)],\n",
    "       'o', color = 'CornflowerBlue', alpha = 0.5, label = 'Juan de Fuca intermediate')\n",
    "ax.plot(list_of_datetimes[(list_of_depths >= 22) & (list_of_lons < -123.5) \n",
    "                         & (list_of_lats < 48.6)],\n",
    "       list_of_model_si[(list_of_depths >= 22) & (list_of_lons < -123.5) \n",
    "                         & (list_of_lats < 48.6)] \n",
    "       - list_of_cs_si[(list_of_depths >= 22) & (list_of_lons < -123.5) \n",
    "                         & (list_of_lats < 48.6)],\n",
    "       'o', color = 'DarkOrchid', alpha = 0.5, label = 'Juan de Fuca deep')\n",
    "\n",
    "ax.legend()\n",
    "ax.grid('on')\n",
    "ax.set_xlabel('datetime', fontsize = 15)\n",
    "ax.set_ylabel('Model - Observed',fontsize = 15)\n",
    "ax.set_title('Si', fontsize = 20);"
   ]
  },
  {
   "cell_type": "code",
   "execution_count": null,
   "metadata": {
    "collapsed": false
   },
   "outputs": [],
   "source": [
    "import matplotlib.patches as patches\n",
    "fig, ax = plt.subplots(1,2, figsize = (16,8))\n",
    "ax[0].plot(list_of_cs_ni[list_of_depths >= 22], list_of_cs_si[list_of_depths >=22], \n",
    "           '.', color = 'DeepPink', alpha = 0.5)\n",
    "ax[0].plot(list_of_cs_ni[list_of_depths < 15], list_of_cs_si[list_of_depths < 15], \n",
    "           '.', color = 'Crimson', alpha = 0.5)\n",
    "ax[0].plot(list_of_cs_ni[(22 > list_of_depths) & (list_of_depths >= 15)], \n",
    "           list_of_cs_si[(22 > list_of_depths) & (list_of_depths >= 15)], \n",
    "           '.', color = 'DarkOrange', alpha = 0.5)\n",
    "ax[0].plot(list_of_cs_ni[(list_of_depths >= 22) & (list_of_lons < -123.5) \n",
    "                         & (list_of_lats < 48.6)], \n",
    "           list_of_cs_si[(list_of_depths >= 22) & (list_of_lons < -123.5) \n",
    "                         & (list_of_lats < 48.6)], \n",
    "           '.', color = 'DarkOrchid', alpha = 0.5)\n",
    "ax[0].plot(list_of_cs_ni[(list_of_depths < 15) & (list_of_lons < -123.5) \n",
    "                         & (list_of_lats < 48.6)], \n",
    "           list_of_cs_si[(list_of_depths < 15) & (list_of_lons < -123.5) \n",
    "                         & (list_of_lats < 48.6)], \n",
    "           '.', color = 'ForestGreen', alpha = 0.5)\n",
    "ax[0].plot(list_of_cs_ni[(22 > list_of_depths) & (list_of_depths >= 15) \n",
    "                         & (list_of_lons < -123.5) & (list_of_lats < 48.6)], \n",
    "           list_of_cs_si[(22 > list_of_depths) & (list_of_depths >= 15) \n",
    "                         & (list_of_lons < -123.5) & (list_of_lats < 48.6)], \n",
    "           '.', color = 'CornflowerBlue', alpha = 0.5)\n",
    "ax[0].plot(np.unique(list_of_cs_ni), \n",
    "           np.poly1d(np.polyfit(list_of_cs_ni, list_of_cs_si, 1))(np.unique(list_of_cs_ni)))\n",
    "x = np.arange(0,40)\n",
    "ax[0].plot(x, 2*x, 'g-', alpha = 0.3)\n",
    "ax[0].plot(x, 2*x+30, 'y-', alpha = 0.3)\n",
    "ax[0].add_patch(patches.Rectangle((25, 58),7,35,fill=False, linewidth = 5))\n",
    "\n",
    "ax[1].plot(list_of_model_ni[list_of_depths < 15], list_of_model_si[list_of_depths < 15], \n",
    "           '.', color = 'Crimson', alpha = 0.5, label = 'surface')\n",
    "ax[1].plot(list_of_model_ni[(22 > list_of_depths) & (list_of_depths >= 15)], \n",
    "           list_of_model_si[(22 > list_of_depths) & (list_of_depths >= 15)], \n",
    "           '.', color = 'DarkOrange', alpha = 0.5, label = 'intermediate')\n",
    "ax[1].plot(list_of_model_ni[list_of_depths >= 22], list_of_model_si[list_of_depths >=22], \n",
    "           '.', color = 'DeepPink', alpha = 0.5, label = 'deep')\n",
    "ax[1].plot(list_of_model_ni[(list_of_depths < 15) & (list_of_lons < -123.5) \n",
    "                         & (list_of_lats < 48.6)], \n",
    "           list_of_model_si[(list_of_depths < 15) & (list_of_lons < -123.5) \n",
    "                         & (list_of_lats < 48.6)], \n",
    "           '.', color = 'ForestGreen', alpha = 0.5, label = 'Juan de Fuca surface')\n",
    "ax[1].plot(list_of_model_ni[(22 > list_of_depths) & (list_of_depths >= 15) \n",
    "                         & (list_of_lons < -123.5) & (list_of_lats < 48.6)], \n",
    "           list_of_model_si[(22 > list_of_depths) & (list_of_depths >= 15) \n",
    "                         & (list_of_lons < -123.5) & (list_of_lats < 48.6)], \n",
    "           '.', color = 'CornflowerBlue', alpha = 0.5, label = 'Juan de Fuca intermediate')\n",
    "ax[1].plot(list_of_model_ni[(list_of_depths >= 22) & (list_of_lons < -123.5) \n",
    "                         & (list_of_lats < 48.6)], \n",
    "           list_of_model_si[(list_of_depths >= 22) & (list_of_lons < -123.5) \n",
    "                         & (list_of_lats < 48.6)], \n",
    "           '.', color = 'DarkOrchid', alpha = 0.5, label = 'Juan de Fuca deep')\n",
    "ax[1].plot(np.unique(list_of_model_ni), \n",
    "           np.poly1d(np.polyfit(list_of_model_ni, \n",
    "                                list_of_model_si, 1))(np.unique(list_of_model_ni)))\n",
    "x = np.arange(0,40)\n",
    "ax[1].plot(x, 2*x, 'g-', alpha = 0.3, label = 'slope = 2')\n",
    "ax[1].plot(x, 2*x+30, 'y-', alpha = 0.3, label = '2*N + 30')\n",
    "ax[0].set_title('DFO', fontsize = 16)\n",
    "ax[1].set_title('Model', fontsize = 16)\n",
    "for ax in ax:\n",
    "    ax.grid('on')\n",
    "    ax.set_ylabel('Si', fontsize = 14)\n",
    "    ax.set_xlabel('N', fontsize = 14)\n",
    "    ax.set_ylim(0,95)\n",
    "    ax.set_xlim(0,37)\n",
    "plt.legend();"
   ]
  },
  {
   "cell_type": "code",
   "execution_count": null,
   "metadata": {
    "collapsed": false
   },
   "outputs": [],
   "source": [
    "m1, b1 = np.polyfit(list_of_cs_ni, list_of_cs_si, 1)\n",
    "print('DFO slope = ' + str(m1))\n",
    "print('DFO y int = ' + str(b1))\n",
    "m2, b2 = np.polyfit(list_of_model_ni, list_of_model_si, 1)\n",
    "print('model slope = ' + str(m2))\n",
    "print('model y int = ' + str(b2))"
   ]
  },
  {
   "cell_type": "code",
   "execution_count": null,
   "metadata": {
    "collapsed": false
   },
   "outputs": [],
   "source": [
    "df3 = df1.dropna(subset=['Year', 'Month', 'Hour', 'Lat', 'Lon',\n",
    "                         'depth', 'Chlorophyll_Extracted'])"
   ]
  },
  {
   "cell_type": "code",
   "execution_count": null,
   "metadata": {
    "collapsed": false
   },
   "outputs": [],
   "source": [
    "df3.shape"
   ]
  },
  {
   "cell_type": "code",
   "execution_count": null,
   "metadata": {
    "collapsed": false
   },
   "outputs": [],
   "source": [
    "list_of_lons2 = np.array([])\n",
    "list_of_lats2 = np.array([])\n",
    "list_of_datetimes2 = np.array([])\n",
    "list_of_cs_chl = np.array([])\n",
    "list_of_model_chl = np.array([])\n",
    "list_of_depths2 = np.array([])\n",
    "for n in df3.index:\n",
    "    Yind, Xind = geo_tools.find_closest_model_point(df3.Lon[n], df3.Lat[n], \n",
    "                                                    X, Y, land_mask = bathy.mask)\n",
    "    depth = np.argmin(np.abs(deptht - df3.depth[n]))\n",
    "    if mesh.variables['tmask'][0,depth,Yind, Xind] == 1:\n",
    "        date = datetime.datetime(year = int(df3.Year[n]), month = int(df3.Month[n]),\n",
    "                                day = int(df3.Day[n]), hour = int(df3.Hour[n]),\n",
    "                                 minute = int((df3.Hour[n] - int(df3.Hour[n]))*60))\n",
    "        sub_dir = date.strftime('%d%b%y').lower()\n",
    "        datestr = date.strftime('%Y%m%d')\n",
    "        fname = 'SalishSea_1h_{}_{}_ptrc_T.nc'.format(datestr, datestr)\n",
    "        nuts = nc.Dataset(os.path.join(HINDCAST_PATH, sub_dir, fname))\n",
    "        if date.minute < 30:\n",
    "            before = datetime.datetime(year = date.year, month = date.month, day = date.day, \n",
    "                               hour = (date.hour), minute = 30) - datetime.timedelta(hours=1)\n",
    "            after = before + datetime.timedelta(hours=1)\n",
    "            sub_dir2 = after.strftime('%d%b%y').lower()\n",
    "            datestr2 = after.strftime('%Y%m%d')\n",
    "            fname2 = 'SalishSea_1h_{}_{}_ptrc_T.nc'.format(datestr2, datestr2)\n",
    "            nuts2 = nc.Dataset(os.path.join(HINDCAST_PATH, sub_dir2, fname2))\n",
    "            delta = (date.minute + 30) / 60\n",
    "            chl_val = 1.6*((1-delta)*(nuts.variables['diatoms'][before.hour, depth, Yind, Xind]\n",
    "                                     + nuts.variables['ciliates'][before.hour, depth, Yind, Xind]\n",
    "                                     +nuts.variables['flagellates'][before.hour, depth, Yind, Xind]) + \n",
    "                       (delta)*(nuts.variables['diatoms'][before.hour, depth, Yind, Xind]\n",
    "                                     + nuts.variables['ciliates'][before.hour, depth, Yind, Xind]\n",
    "                                     +nuts.variables['flagellates'][before.hour, depth, Yind, Xind]))\n",
    "        if date.minute >= 30:\n",
    "            before = datetime.datetime(year = date.year, month = date.month, day = date.day, \n",
    "                                   hour = (date.hour), minute = 30)\n",
    "            after = before + datetime.timedelta(hours=1)\n",
    "            sub_dir2 = after.strftime('%d%b%y').lower()\n",
    "            datestr2 = after.strftime('%Y%m%d')\n",
    "            fname2 = 'SalishSea_1h_{}_{}_ptrc_T.nc'.format(datestr2, datestr2)\n",
    "            nuts2 = nc.Dataset(os.path.join(HINDCAST_PATH, sub_dir2, fname2))\n",
    "            delta = (date.minute) / 60\n",
    "            chl_val = 1.6*((1-delta)*(nuts.variables['diatoms'][before.hour, depth, Yind, Xind]\n",
    "                                     + nuts.variables['ciliates'][before.hour, depth, Yind, Xind]\n",
    "                                     +nuts.variables['flagellates'][before.hour, depth, Yind, Xind]) + \n",
    "                       (delta)*(nuts.variables['diatoms'][before.hour, depth, Yind, Xind]\n",
    "                                     + nuts.variables['ciliates'][before.hour, depth, Yind, Xind]\n",
    "                                     +nuts.variables['flagellates'][before.hour, depth, Yind, Xind]))\n",
    "        list_of_lons2 = np.append(list_of_lons2, df3.Lon[n])\n",
    "        list_of_lats2 = np.append(list_of_lats2, df3.Lat[n])\n",
    "        list_of_datetimes2 = np.append(list_of_datetimes2, date)\n",
    "        list_of_cs_chl = np.append(list_of_cs_chl, float(df3['Chlorophyll_Extracted'][n]))\n",
    "        list_of_model_chl = np.append(list_of_model_chl, chl_val)\n",
    "        list_of_depths2 = np.append(list_of_depths2, depth)"
   ]
  },
  {
   "cell_type": "code",
   "execution_count": null,
   "metadata": {
    "collapsed": false
   },
   "outputs": [],
   "source": [
    "list_of_cs_chl.shape"
   ]
  },
  {
   "cell_type": "code",
   "execution_count": null,
   "metadata": {
    "collapsed": false
   },
   "outputs": [],
   "source": [
    "print('shallow chl samples',list_of_cs_chl[list_of_depths2 < 15].shape)"
   ]
  },
  {
   "cell_type": "code",
   "execution_count": null,
   "metadata": {
    "collapsed": false
   },
   "outputs": [],
   "source": [
    "print('deep chl samples',list_of_cs_chl[list_of_depths2 >= 15].shape)"
   ]
  },
  {
   "cell_type": "code",
   "execution_count": null,
   "metadata": {
    "collapsed": false
   },
   "outputs": [],
   "source": [
    "fig, ax = plt.subplots(figsize = (10,10))\n",
    "viz_tools.set_aspect(ax, coords = 'map')\n",
    "ax.plot(list_of_lons2, list_of_lats2, 'o', color = 'orange')\n",
    "ax.plot(list_of_lons2[(list_of_lons2 < -123.5) & (list_of_lats2 < 48.6)], \n",
    "        list_of_lats2[(list_of_lons2 < -123.5) & (list_of_lats2 < 48.6)], \n",
    "        'bo', label = 'Juan de Fuca')\n",
    "viz_tools.plot_coastline(ax, grid, coords = 'map')\n",
    "ax.legend()\n",
    "ax.set_ylim(48, 50.5)\n",
    "ax.set_xlim(-125.7, -122.5);"
   ]
  },
  {
   "cell_type": "code",
   "execution_count": null,
   "metadata": {
    "collapsed": false
   },
   "outputs": [],
   "source": [
    "fig, ax = plt.subplots(figsize = (10,10))\n",
    "ax.plot(list_of_cs_chl[list_of_depths2 < 15], list_of_model_chl[list_of_depths2 < 15], \n",
    "        '.', color = 'DarkOrange', alpha = 0.5, label = 'surface')\n",
    "ax.plot(list_of_cs_chl[list_of_depths2 >= 15], list_of_model_chl[list_of_depths2 >= 15], \n",
    "        '.', color = 'Crimson', alpha = 0.5, label = 'deep')\n",
    "ax.plot(list_of_cs_chl[(list_of_depths2 >= 15) & (list_of_lons2 < -123.5) \n",
    "                       & (list_of_lats2 < 48.6)], \n",
    "        list_of_model_chl[(list_of_depths2 >= 15) & (list_of_lons2 < -123.5) \n",
    "                         & (list_of_lats2 < 48.6)], \n",
    "        '.', color = 'ForestGreen', alpha = 0.5, label = ' Juan de Fuca deep')\n",
    "ax.plot(list_of_cs_chl[(list_of_depths2 < 15) & (list_of_lons2 < -123.5) \n",
    "                       & (list_of_lats2 < 48.6)], \n",
    "        list_of_model_chl[(list_of_depths2 < 15) & (list_of_lons2 < -123.5) \n",
    "                         & (list_of_lats2 < 48.6)], \n",
    "        '.', color = 'DarkViolet', alpha = 0.5, label = ' Juan de Fuca surface')\n",
    "ax.plot(np.arange(0,18), color = 'grey')\n",
    "ax.grid('on')\n",
    "ax.set_title('DFO Chl')\n",
    "ax.set_xlabel('DFO')\n",
    "ax.set_ylabel('Nowcast-green');\n",
    "ax.legend()\n",
    "print('surface bias =  ' + str(-np.mean(list_of_cs_chl[list_of_depths2 < 15]) \n",
    "                               + np.mean(list_of_model_chl[list_of_depths2 < 15])))\n",
    "print('surface RMSE = ' + str(np.sqrt(np.sum((list_of_model_chl[list_of_depths2 < 15] \n",
    "                                              - list_of_cs_chl[list_of_depths2 < 15])**2) /\n",
    "                              len(list_of_cs_chl[list_of_depths2 < 15]))))\n",
    "xbar = np.mean(list_of_cs_chl[list_of_depths2 < 15])\n",
    "print('surface Willmott = ' + str(1-(np.sum((list_of_model_chl[list_of_depths2 < 15] \n",
    "                                             - list_of_cs_chl[list_of_depths2 < 15])**2)  / \n",
    "                             np.sum((np.abs(list_of_model_chl[list_of_depths2 < 15] - xbar) \n",
    "                                     + np.abs(list_of_cs_chl[list_of_depths2 < 15] - xbar))**2))))\n",
    "\n",
    "print('20m bias =  ' + str(-np.mean(list_of_cs_chl[list_of_depths2 >= 15]) \n",
    "                               + np.mean(list_of_model_chl[list_of_depths2 >= 15])))\n",
    "print('20m RMSE = ' + str(np.sqrt(np.sum((list_of_model_chl[list_of_depths2 >= 15] \n",
    "                                              - list_of_cs_chl[list_of_depths2 >= 15])**2) /\n",
    "                              len(list_of_cs_chl[list_of_depths2 >= 15]))))\n",
    "xbar = np.mean(list_of_cs_chl[list_of_depths2 >= 15])\n",
    "print('20m Willmott = ' + str(1-(np.sum((list_of_model_chl[list_of_depths2 >= 15] \n",
    "                                             - list_of_cs_chl[list_of_depths2 >= 15])**2)  / \n",
    "                             np.sum((np.abs(list_of_model_chl[list_of_depths2 >= 15] - xbar) \n",
    "                                     + np.abs(list_of_cs_chl[list_of_depths2 >= 15] - xbar))**2))))\n",
    "\n",
    "print('bias =  ' + str(-np.mean(list_of_cs_chl) + np.mean(list_of_model_chl)))\n",
    "print('RMSE = ' + str(np.sqrt(np.sum((list_of_model_chl - list_of_cs_chl)**2) /\n",
    "                              len(list_of_cs_chl))))\n",
    "xbar = np.mean(list_of_cs_chl)\n",
    "print('Willmott = ' + str(1-(np.sum((list_of_model_chl - list_of_cs_chl)**2)  / \n",
    "                             np.sum((np.abs(list_of_model_chl - xbar) \n",
    "                                     + np.abs(list_of_cs_chl - xbar))**2))))"
   ]
  },
  {
   "cell_type": "code",
   "execution_count": null,
   "metadata": {
    "collapsed": false
   },
   "outputs": [],
   "source": [
    "fig, ax = plt.subplots(figsize = (20,8))\n",
    "ax.plot(list_of_lats2[list_of_depths2 < 15], \n",
    "        list_of_model_chl[list_of_depths2 < 15] \n",
    "        - list_of_cs_chl[list_of_depths2 < 15], 'o', color = 'DarkOrange',\n",
    "        alpha =0.5, label = 'surface')\n",
    "ax.plot(list_of_lats2[list_of_depths2 >= 15], \n",
    "        list_of_model_chl[list_of_depths2 >= 15] \n",
    "        - list_of_cs_chl[list_of_depths2 >= 15], 'o', color = 'Crimson',\n",
    "        alpha =0.5, label = 'deep')\n",
    "ax.plot(list_of_lats2[(list_of_depths2 >= 15) & (list_of_lons2 < -123.5) \n",
    "                         & (list_of_lats2 < 48.6)],\n",
    "       list_of_model_chl[(list_of_depths2 >= 15) & (list_of_lons2 < -123.5) \n",
    "                         & (list_of_lats2 < 48.6)] \n",
    "       - list_of_cs_chl[(list_of_depths2 >= 15) & (list_of_lons2 < -123.5) \n",
    "                         & (list_of_lats2 < 48.6)],\n",
    "       'o', color = 'ForestGreen', alpha = 0.5, label = 'Juan de Fuca deep')\n",
    "ax.plot(list_of_lats2[(list_of_depths2 < 15) & (list_of_lons2 < -123.5) \n",
    "                         & (list_of_lats2 < 48.6)],\n",
    "       list_of_model_chl[(list_of_depths2 < 15) & (list_of_lons2 < -123.5) \n",
    "                         & (list_of_lats2 < 48.6)] \n",
    "       - list_of_cs_chl[(list_of_depths2 < 15) & (list_of_lons2 < -123.5) \n",
    "                         & (list_of_lats2 < 48.6)],\n",
    "       'o', color = 'DarkViolet', alpha = 0.5, label = 'Juan de Fuca surface')\n",
    "ax.legend()\n",
    "ax.grid('on')\n",
    "ax.set_xlabel('lat', fontsize = 15)\n",
    "ax.set_ylabel('Model - Observed',fontsize = 15)\n",
    "ax.set_title('Chl', fontsize = 20);"
   ]
  },
  {
   "cell_type": "code",
   "execution_count": null,
   "metadata": {
    "collapsed": false
   },
   "outputs": [],
   "source": [
    "fig, ax = plt.subplots(figsize = (20,8))\n",
    "ax.plot(list_of_lons2[list_of_depths2 < 15], \n",
    "        list_of_model_chl[list_of_depths2 < 15] \n",
    "        - list_of_cs_chl[list_of_depths2 < 15], 'o', color = 'DarkOrange',\n",
    "        alpha =0.5, label = 'surface')\n",
    "ax.plot(list_of_lons2[list_of_depths2 >= 15], \n",
    "        list_of_model_chl[list_of_depths2 >= 15] \n",
    "        - list_of_cs_chl[list_of_depths2 >= 15], 'o', color = 'Crimson',\n",
    "        alpha =0.5, label = 'deep')\n",
    "ax.plot(list_of_lons2[(list_of_depths2 >= 15) & (list_of_lons2 < -123.5) \n",
    "                         & (list_of_lats2 < 48.6)],\n",
    "       list_of_model_chl[(list_of_depths2 >= 15) & (list_of_lons2 < -123.5) \n",
    "                         & (list_of_lats2 < 48.6)] \n",
    "       - list_of_cs_chl[(list_of_depths2 >= 15) & (list_of_lons2 < -123.5) \n",
    "                         & (list_of_lats2 < 48.6)],\n",
    "       'o', color = 'ForestGreen', alpha = 0.5, label = 'Juan de Fuca deep')\n",
    "ax.plot(list_of_lons2[(list_of_depths2 < 15) & (list_of_lons2 < -123.5) \n",
    "                         & (list_of_lats2 < 48.6)],\n",
    "       list_of_model_chl[(list_of_depths2 < 15) & (list_of_lons2 < -123.5) \n",
    "                         & (list_of_lats2 < 48.6)] \n",
    "       - list_of_cs_chl[(list_of_depths2 < 15) & (list_of_lons2 < -123.5) \n",
    "                         & (list_of_lats2 < 48.6)],\n",
    "       'o', color = 'DarkViolet', alpha = 0.5, label = 'Juan de Fuca surface')\n",
    "ax.legend()\n",
    "ax.grid('on')\n",
    "ax.set_xlabel('lon', fontsize = 15)\n",
    "ax.set_ylabel('Model - Observed',fontsize = 15)\n",
    "ax.set_title('Chl', fontsize = 20);"
   ]
  },
  {
   "cell_type": "code",
   "execution_count": null,
   "metadata": {
    "collapsed": false
   },
   "outputs": [],
   "source": [
    "fig, ax = plt.subplots(figsize = (20,8))\n",
    "ax.plot(list_of_datetimes2[list_of_depths2 < 15], \n",
    "        list_of_model_chl[list_of_depths2 < 15] \n",
    "        - list_of_cs_chl[list_of_depths2 < 15], 'o', color = 'DarkOrange',\n",
    "        alpha =0.5, label = 'surface')\n",
    "ax.plot(list_of_datetimes2[list_of_depths2 >= 15], \n",
    "        list_of_model_chl[list_of_depths2 >= 15] \n",
    "        - list_of_cs_chl[list_of_depths2 >= 15], 'o', color = 'Crimson',\n",
    "        alpha =0.5, label = 'deep')\n",
    "ax.plot(list_of_datetimes2[(list_of_depths2 >= 15) & (list_of_lons2 < -123.5) \n",
    "                         & (list_of_lats2 < 48.6)],\n",
    "       list_of_model_chl[(list_of_depths2 >= 15) & (list_of_lons2 < -123.5) \n",
    "                         & (list_of_lats2 < 48.6)] \n",
    "       - list_of_cs_chl[(list_of_depths2 >= 15) & (list_of_lons2 < -123.5) \n",
    "                         & (list_of_lats2 < 48.6)],\n",
    "       'o', color = 'ForestGreen', alpha = 0.5, label = 'Juan de Fuca deep')\n",
    "ax.plot(list_of_datetimes2[(list_of_depths2 < 15) & (list_of_lons2 < -123.5) \n",
    "                         & (list_of_lats2 < 48.6)],\n",
    "       list_of_model_chl[(list_of_depths2 < 15) & (list_of_lons2 < -123.5) \n",
    "                         & (list_of_lats2 < 48.6)] \n",
    "       - list_of_cs_chl[(list_of_depths2 < 15) & (list_of_lons2 < -123.5) \n",
    "                         & (list_of_lats2 < 48.6)],\n",
    "       'o', color = 'DarkViolet', alpha = 0.5, label = 'Juan de Fuca surface')\n",
    "ax.legend()\n",
    "ax.grid('on')\n",
    "ax.set_xlabel('date', fontsize = 15)\n",
    "ax.set_ylabel('Model - Observed',fontsize = 15)\n",
    "ax.set_title('Chl', fontsize = 20);"
   ]
  },
  {
   "cell_type": "code",
   "execution_count": null,
   "metadata": {
    "collapsed": false
   },
   "outputs": [],
   "source": [
    "import datetime as dt\n",
    "fig, ax = plt.subplots(1,2,figsize = (17,8))\n",
    "iii=(list_of_datetimes>dt.datetime(2015,2,1))\n",
    "cols=('crimson','orangered','darkorange','gold','chartreuse','green','lightseagreen','cyan',\n",
    "      'lightskyblue','blue','mediumslateblue','blueviolet','darkmagenta','fuchsia')\n",
    "for ii in range(2,12):\n",
    "    iii=(list_of_datetimes>=dt.datetime(2015,ii,1))&(list_of_datetimes<dt.datetime(2015,ii+1,1))\n",
    "    ax[0].plot(list_of_model_ni[iii]-list_of_cs_ni[iii], list_of_depths[iii], \n",
    "        '.', color = cols[ii],label=str(ii))\n",
    "    ax[1].plot(list_of_model_si[iii]-list_of_cs_si[iii], list_of_depths[iii], \n",
    "        '.', color = cols[ii],label=str(ii))\n",
    "for axi in (ax[0],ax[1]):\n",
    "    axi.legend(loc=4)\n",
    "    axi.set_ylim(400,0)\n",
    "    axi.set_ylabel('depth (m)')\n",
    "ax[0].set_xlabel('model - obs N')\n",
    "ax[1].set_xlabel('model - obs Si')\n",
    "ax[0].set_xlim(-20,20)\n",
    "ax[1].set_xlim(-40,40)"
   ]
  },
  {
   "cell_type": "code",
   "execution_count": null,
   "metadata": {
    "collapsed": true
   },
   "outputs": [],
   "source": []
  }
 ],
 "metadata": {
  "anaconda-cloud": {},
  "kernelspec": {
   "display_name": "Python [default]",
   "language": "python",
   "name": "python3"
  },
  "language_info": {
   "codemirror_mode": {
    "name": "ipython",
    "version": 3
   },
   "file_extension": ".py",
   "mimetype": "text/x-python",
   "name": "python",
   "nbconvert_exporter": "python",
   "pygments_lexer": "ipython3",
   "version": "3.5.2"
  }
 },
 "nbformat": 4,
 "nbformat_minor": 1
}
