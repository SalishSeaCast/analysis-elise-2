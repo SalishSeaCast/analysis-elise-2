{
 "cells": [
  {
   "cell_type": "markdown",
   "metadata": {},
   "source": [
    "## DFO Nutrient Comparison"
   ]
  },
  {
   "cell_type": "code",
   "execution_count": 1,
   "metadata": {
    "collapsed": false
   },
   "outputs": [],
   "source": [
    "import sqlalchemy\n",
    "from sqlalchemy import (create_engine, Column, String, Integer, Float, MetaData, \n",
    "                        Table, type_coerce, ForeignKey, case)\n",
    "from sqlalchemy.orm import mapper, create_session, relationship, aliased, Session\n",
    "from sqlalchemy.ext.declarative import declarative_base\n",
    "from sqlalchemy import case\n",
    "import numpy as np\n",
    "from sqlalchemy.ext.automap import automap_base\n",
    "import matplotlib.pyplot as plt\n",
    "import sqlalchemy.types as types\n",
    "from sqlalchemy.sql import and_, or_, not_, func\n",
    "from sqlalchemy.sql import select\n",
    "import os\n",
    "from os.path import isfile\n",
    "import pandas as pd\n",
    "import netCDF4 as nc\n",
    "import datetime as dt\n",
    "from salishsea_tools import evaltools as et, viz_tools\n",
    "import datetime\n",
    "import glob\n",
    "import gsw\n",
    "\n",
    "%matplotlib inline"
   ]
  },
  {
   "cell_type": "code",
   "execution_count": 2,
   "metadata": {
    "collapsed": false
   },
   "outputs": [
    {
     "data": {
      "text/html": [
       "<div>\n",
       "<style scoped>\n",
       "    .dataframe tbody tr th:only-of-type {\n",
       "        vertical-align: middle;\n",
       "    }\n",
       "\n",
       "    .dataframe tbody tr th {\n",
       "        vertical-align: top;\n",
       "    }\n",
       "\n",
       "    .dataframe thead th {\n",
       "        text-align: right;\n",
       "    }\n",
       "</style>\n",
       "<table border=\"1\" class=\"dataframe\">\n",
       "  <thead>\n",
       "    <tr style=\"text-align: right;\">\n",
       "      <th></th>\n",
       "      <th>Year</th>\n",
       "      <th>Month</th>\n",
       "      <th>Day</th>\n",
       "      <th>Hour</th>\n",
       "      <th>Lat</th>\n",
       "      <th>Lon</th>\n",
       "      <th>Pressure</th>\n",
       "      <th>Depth</th>\n",
       "      <th>Ammonium</th>\n",
       "      <th>Ammonium_units</th>\n",
       "      <th>Chlorophyll_Extracted</th>\n",
       "      <th>Chlorophyll_Extracted_units</th>\n",
       "      <th>N</th>\n",
       "      <th>Si</th>\n",
       "      <th>Silicate_units</th>\n",
       "      <th>AbsSal</th>\n",
       "      <th>ConsT</th>\n",
       "      <th>Z</th>\n",
       "      <th>dtUTC</th>\n",
       "    </tr>\n",
       "  </thead>\n",
       "  <tbody>\n",
       "    <tr>\n",
       "      <th>0</th>\n",
       "      <td>1982.0</td>\n",
       "      <td>7.0</td>\n",
       "      <td>16.0</td>\n",
       "      <td>1.35</td>\n",
       "      <td>49.25</td>\n",
       "      <td>-123.943</td>\n",
       "      <td>NaN</td>\n",
       "      <td>12.0</td>\n",
       "      <td>NaN</td>\n",
       "      <td>None</td>\n",
       "      <td>5.28</td>\n",
       "      <td>mg/m^3</td>\n",
       "      <td>6.6</td>\n",
       "      <td>13.6</td>\n",
       "      <td>umol/L</td>\n",
       "      <td>NaN</td>\n",
       "      <td>NaN</td>\n",
       "      <td>12.0</td>\n",
       "      <td>1982-07-16 01:21:00</td>\n",
       "    </tr>\n",
       "    <tr>\n",
       "      <th>1</th>\n",
       "      <td>1982.0</td>\n",
       "      <td>7.0</td>\n",
       "      <td>16.0</td>\n",
       "      <td>1.35</td>\n",
       "      <td>49.25</td>\n",
       "      <td>-123.943</td>\n",
       "      <td>NaN</td>\n",
       "      <td>21.5</td>\n",
       "      <td>NaN</td>\n",
       "      <td>None</td>\n",
       "      <td>0.61</td>\n",
       "      <td>mg/m^3</td>\n",
       "      <td>21.2</td>\n",
       "      <td>45.0</td>\n",
       "      <td>umol/L</td>\n",
       "      <td>NaN</td>\n",
       "      <td>NaN</td>\n",
       "      <td>21.5</td>\n",
       "      <td>1982-07-16 01:21:00</td>\n",
       "    </tr>\n",
       "    <tr>\n",
       "      <th>2</th>\n",
       "      <td>1982.0</td>\n",
       "      <td>7.0</td>\n",
       "      <td>16.0</td>\n",
       "      <td>1.35</td>\n",
       "      <td>49.25</td>\n",
       "      <td>-123.943</td>\n",
       "      <td>NaN</td>\n",
       "      <td>30.5</td>\n",
       "      <td>NaN</td>\n",
       "      <td>None</td>\n",
       "      <td>NaN</td>\n",
       "      <td>mg/m^3</td>\n",
       "      <td>23.5</td>\n",
       "      <td>47.4</td>\n",
       "      <td>umol/L</td>\n",
       "      <td>NaN</td>\n",
       "      <td>NaN</td>\n",
       "      <td>30.5</td>\n",
       "      <td>1982-07-16 01:21:00</td>\n",
       "    </tr>\n",
       "    <tr>\n",
       "      <th>3</th>\n",
       "      <td>1982.0</td>\n",
       "      <td>7.0</td>\n",
       "      <td>16.0</td>\n",
       "      <td>1.35</td>\n",
       "      <td>49.25</td>\n",
       "      <td>-123.943</td>\n",
       "      <td>NaN</td>\n",
       "      <td>52.3</td>\n",
       "      <td>NaN</td>\n",
       "      <td>None</td>\n",
       "      <td>NaN</td>\n",
       "      <td>mg/m^3</td>\n",
       "      <td>28.0</td>\n",
       "      <td>50.2</td>\n",
       "      <td>umol/L</td>\n",
       "      <td>NaN</td>\n",
       "      <td>NaN</td>\n",
       "      <td>52.3</td>\n",
       "      <td>1982-07-16 01:21:00</td>\n",
       "    </tr>\n",
       "    <tr>\n",
       "      <th>4</th>\n",
       "      <td>1982.0</td>\n",
       "      <td>7.0</td>\n",
       "      <td>16.0</td>\n",
       "      <td>1.35</td>\n",
       "      <td>49.25</td>\n",
       "      <td>-123.943</td>\n",
       "      <td>NaN</td>\n",
       "      <td>75.4</td>\n",
       "      <td>NaN</td>\n",
       "      <td>None</td>\n",
       "      <td>NaN</td>\n",
       "      <td>mg/m^3</td>\n",
       "      <td>26.5</td>\n",
       "      <td>49.1</td>\n",
       "      <td>umol/L</td>\n",
       "      <td>NaN</td>\n",
       "      <td>NaN</td>\n",
       "      <td>75.4</td>\n",
       "      <td>1982-07-16 01:21:00</td>\n",
       "    </tr>\n",
       "  </tbody>\n",
       "</table>\n",
       "</div>"
      ],
      "text/plain": [
       "     Year  Month   Day  Hour    Lat      Lon  Pressure  Depth  Ammonium  \\\n",
       "0  1982.0    7.0  16.0  1.35  49.25 -123.943       NaN   12.0       NaN   \n",
       "1  1982.0    7.0  16.0  1.35  49.25 -123.943       NaN   21.5       NaN   \n",
       "2  1982.0    7.0  16.0  1.35  49.25 -123.943       NaN   30.5       NaN   \n",
       "3  1982.0    7.0  16.0  1.35  49.25 -123.943       NaN   52.3       NaN   \n",
       "4  1982.0    7.0  16.0  1.35  49.25 -123.943       NaN   75.4       NaN   \n",
       "\n",
       "  Ammonium_units  Chlorophyll_Extracted Chlorophyll_Extracted_units     N  \\\n",
       "0           None                   5.28                      mg/m^3   6.6   \n",
       "1           None                   0.61                      mg/m^3  21.2   \n",
       "2           None                    NaN                      mg/m^3  23.5   \n",
       "3           None                    NaN                      mg/m^3  28.0   \n",
       "4           None                    NaN                      mg/m^3  26.5   \n",
       "\n",
       "     Si Silicate_units  AbsSal  ConsT     Z               dtUTC  \n",
       "0  13.6         umol/L     NaN    NaN  12.0 1982-07-16 01:21:00  \n",
       "1  45.0         umol/L     NaN    NaN  21.5 1982-07-16 01:21:00  \n",
       "2  47.4         umol/L     NaN    NaN  30.5 1982-07-16 01:21:00  \n",
       "3  50.2         umol/L     NaN    NaN  52.3 1982-07-16 01:21:00  \n",
       "4  49.1         umol/L     NaN    NaN  75.4 1982-07-16 01:21:00  "
      ]
     },
     "execution_count": 2,
     "metadata": {},
     "output_type": "execute_result"
    }
   ],
   "source": [
    "PATH= '/data/eolson/MEOPAR/SS36runs/CedarRuns/spring2015_T3/'\n",
    "start_date = datetime.datetime(2015,2,6)\n",
    "end_date = datetime.datetime(2015,11,12)\n",
    "flen=10\n",
    "#varmap={'N':'nitrate','Si':'silicon','Ammonium':'ammonium'}\n",
    "#filemap={'nitrate':'ptrc_T','silicon':'ptrc_T','ammonium':'ptrc_T'}\n",
    "#gridmap={'nitrate':'tmask','silicon':'tmask','ammonium':'tmask'}\n",
    "fdict={'ptrc_T':1,'grid_T':1}\n",
    "#varmap={'N':'nitrate','Si':'silicon','Ammonium':'ammonium'}\n",
    "filemap={'nitrate':'ptrc_T','silicon':'ptrc_T','ammonium':'ptrc_T','diatoms':'ptrc_T','ciliates':'ptrc_T','flagellates':'ptrc_T','vosaline':'grid_T','votemper':'grid_T'}\n",
    "#gridmap={'nitrate':'tmask','silicon':'tmask','ammonium':'tmask'}\n",
    "fdict={'ptrc_T':1,'grid_T':1}\n",
    "namfmt='long'\n",
    "df1=et.loadDFO()\n",
    "df1.head()"
   ]
  },
  {
   "cell_type": "code",
   "execution_count": 3,
   "metadata": {
    "collapsed": false
   },
   "outputs": [
    {
     "name": "stdout",
     "output_type": "stream",
     "text": [
      "file does not exist:  /data/eolson/MEOPAR/SS36runs/CedarRuns/spring2015_T3/**/SalishSea_1h*grid_T_20150206-20150215.nc\n"
     ]
    },
    {
     "ename": "IndexError",
     "evalue": "list index out of range",
     "output_type": "error",
     "traceback": [
      "\u001b[0;31m---------------------------------------------------------------------------\u001b[0m",
      "\u001b[0;31mIndexError\u001b[0m                                Traceback (most recent call last)",
      "\u001b[0;32m<ipython-input-3-01924e052a58>\u001b[0m in \u001b[0;36m<module>\u001b[0;34m()\u001b[0m\n\u001b[0;32m----> 1\u001b[0;31m \u001b[0mdata\u001b[0m\u001b[0;34m,\u001b[0m\u001b[0mvarmap\u001b[0m\u001b[0;34m=\u001b[0m\u001b[0met\u001b[0m\u001b[0;34m.\u001b[0m\u001b[0mmatchData\u001b[0m\u001b[0;34m(\u001b[0m\u001b[0mdf1\u001b[0m\u001b[0;34m,\u001b[0m\u001b[0mfilemap\u001b[0m\u001b[0;34m,\u001b[0m \u001b[0mfdict\u001b[0m\u001b[0;34m,\u001b[0m \u001b[0mstart_date\u001b[0m\u001b[0;34m,\u001b[0m \u001b[0mend_date\u001b[0m\u001b[0;34m,\u001b[0m \u001b[0mnamfmt\u001b[0m\u001b[0;34m,\u001b[0m \u001b[0mPATH\u001b[0m\u001b[0;34m,\u001b[0m \u001b[0mflen\u001b[0m\u001b[0;34m)\u001b[0m\u001b[0;34m\u001b[0m\u001b[0m\n\u001b[0m",
      "\u001b[0;32m/data/eolson/MEOPAR/tools/SalishSeaTools/salishsea_tools/evaltools.py\u001b[0m in \u001b[0;36mmatchData\u001b[0;34m(data, filemap, fdict, mod_start, mod_end, mod_nam_fmt, mod_basedir, mod_flen, method, deltat, deltad, meshPath, maskName)\u001b[0m\n\u001b[1;32m    144\u001b[0m     \u001b[0mflist\u001b[0m\u001b[0;34m=\u001b[0m\u001b[0mdict\u001b[0m\u001b[0;34m(\u001b[0m\u001b[0;34m)\u001b[0m\u001b[0;34m\u001b[0m\u001b[0m\n\u001b[1;32m    145\u001b[0m     \u001b[0;32mfor\u001b[0m \u001b[0mift\u001b[0m \u001b[0;32min\u001b[0m \u001b[0mftypes\u001b[0m\u001b[0;34m:\u001b[0m\u001b[0;34m\u001b[0m\u001b[0m\n\u001b[0;32m--> 146\u001b[0;31m         \u001b[0mflist\u001b[0m\u001b[0;34m[\u001b[0m\u001b[0mift\u001b[0m\u001b[0;34m]\u001b[0m\u001b[0;34m=\u001b[0m\u001b[0mindex_model_files\u001b[0m\u001b[0;34m(\u001b[0m\u001b[0mmod_start\u001b[0m\u001b[0;34m,\u001b[0m\u001b[0mmod_end\u001b[0m\u001b[0;34m,\u001b[0m\u001b[0mmod_basedir\u001b[0m\u001b[0;34m,\u001b[0m\u001b[0mmod_nam_fmt\u001b[0m\u001b[0;34m,\u001b[0m\u001b[0mmod_flen\u001b[0m\u001b[0;34m,\u001b[0m\u001b[0mift\u001b[0m\u001b[0;34m,\u001b[0m\u001b[0mfdict\u001b[0m\u001b[0;34m[\u001b[0m\u001b[0mift\u001b[0m\u001b[0;34m]\u001b[0m\u001b[0;34m)\u001b[0m\u001b[0;34m\u001b[0m\u001b[0m\n\u001b[0m\u001b[1;32m    147\u001b[0m \u001b[0;34m\u001b[0m\u001b[0m\n\u001b[1;32m    148\u001b[0m     \u001b[0;32mif\u001b[0m \u001b[0mmethod\u001b[0m \u001b[0;34m==\u001b[0m \u001b[0;34m'bin'\u001b[0m\u001b[0;34m:\u001b[0m\u001b[0;34m\u001b[0m\u001b[0m\n",
      "\u001b[0;32m/data/eolson/MEOPAR/tools/SalishSeaTools/salishsea_tools/evaltools.py\u001b[0m in \u001b[0;36mindex_model_files\u001b[0;34m(start, end, basedir, nam_fmt, flen, ftype, tres)\u001b[0m\n\u001b[1;32m    226\u001b[0m         \u001b[0miitn\u001b[0m\u001b[0;34m=\u001b[0m\u001b[0miits\u001b[0m\u001b[0;34m+\u001b[0m\u001b[0mdt\u001b[0m\u001b[0;34m.\u001b[0m\u001b[0mtimedelta\u001b[0m\u001b[0;34m(\u001b[0m\u001b[0mdays\u001b[0m\u001b[0;34m=\u001b[0m\u001b[0mflen\u001b[0m\u001b[0;34m)\u001b[0m\u001b[0;34m\u001b[0m\u001b[0m\n\u001b[1;32m    227\u001b[0m         \u001b[0;32mtry\u001b[0m\u001b[0;34m:\u001b[0m\u001b[0;34m\u001b[0m\u001b[0m\n\u001b[0;32m--> 228\u001b[0;31m             \u001b[0miifstr\u001b[0m\u001b[0;34m=\u001b[0m\u001b[0mglob\u001b[0m\u001b[0;34m.\u001b[0m\u001b[0mglob\u001b[0m\u001b[0;34m(\u001b[0m\u001b[0mbasedir\u001b[0m\u001b[0;34m+\u001b[0m\u001b[0mstencil\u001b[0m\u001b[0;34m.\u001b[0m\u001b[0mformat\u001b[0m\u001b[0;34m(\u001b[0m\u001b[0miits\u001b[0m\u001b[0;34m.\u001b[0m\u001b[0mstrftime\u001b[0m\u001b[0;34m(\u001b[0m\u001b[0mdfmt\u001b[0m\u001b[0;34m)\u001b[0m\u001b[0;34m.\u001b[0m\u001b[0mlower\u001b[0m\u001b[0;34m(\u001b[0m\u001b[0;34m)\u001b[0m\u001b[0;34m,\u001b[0m\u001b[0miits\u001b[0m\u001b[0;34m.\u001b[0m\u001b[0mstrftime\u001b[0m\u001b[0;34m(\u001b[0m\u001b[0mffmt\u001b[0m\u001b[0;34m)\u001b[0m\u001b[0;34m,\u001b[0m\u001b[0miite\u001b[0m\u001b[0;34m.\u001b[0m\u001b[0mstrftime\u001b[0m\u001b[0;34m(\u001b[0m\u001b[0mffmt\u001b[0m\u001b[0;34m)\u001b[0m\u001b[0;34m)\u001b[0m\u001b[0;34m,\u001b[0m\u001b[0mrecursive\u001b[0m\u001b[0;34m=\u001b[0m\u001b[0;32mTrue\u001b[0m\u001b[0;34m)\u001b[0m\u001b[0;34m[\u001b[0m\u001b[0;36m0\u001b[0m\u001b[0;34m]\u001b[0m\u001b[0;34m\u001b[0m\u001b[0m\n\u001b[0m\u001b[1;32m    229\u001b[0m         \u001b[0;32mexcept\u001b[0m\u001b[0;34m:\u001b[0m\u001b[0;34m\u001b[0m\u001b[0m\n\u001b[1;32m    230\u001b[0m             \u001b[0mprint\u001b[0m\u001b[0;34m(\u001b[0m\u001b[0;34m'file does not exist:  '\u001b[0m\u001b[0;34m+\u001b[0m\u001b[0mbasedir\u001b[0m\u001b[0;34m+\u001b[0m\u001b[0mstencil\u001b[0m\u001b[0;34m.\u001b[0m\u001b[0mformat\u001b[0m\u001b[0;34m(\u001b[0m\u001b[0miits\u001b[0m\u001b[0;34m.\u001b[0m\u001b[0mstrftime\u001b[0m\u001b[0;34m(\u001b[0m\u001b[0mdfmt\u001b[0m\u001b[0;34m)\u001b[0m\u001b[0;34m.\u001b[0m\u001b[0mlower\u001b[0m\u001b[0;34m(\u001b[0m\u001b[0;34m)\u001b[0m\u001b[0;34m,\u001b[0m\u001b[0miits\u001b[0m\u001b[0;34m.\u001b[0m\u001b[0mstrftime\u001b[0m\u001b[0;34m(\u001b[0m\u001b[0mffmt\u001b[0m\u001b[0;34m)\u001b[0m\u001b[0;34m,\u001b[0m\u001b[0miite\u001b[0m\u001b[0;34m.\u001b[0m\u001b[0mstrftime\u001b[0m\u001b[0;34m(\u001b[0m\u001b[0mffmt\u001b[0m\u001b[0;34m)\u001b[0m\u001b[0;34m)\u001b[0m\u001b[0;34m)\u001b[0m\u001b[0;34m\u001b[0m\u001b[0m\n",
      "\u001b[0;31mIndexError\u001b[0m: list index out of range"
     ]
    }
   ],
   "source": [
    "data,varmap=et.matchData(df1,filemap, fdict, start_date, end_date, namfmt, PATH, flen)"
   ]
  },
  {
   "cell_type": "code",
   "execution_count": null,
   "metadata": {
    "collapsed": false
   },
   "outputs": [],
   "source": [
    "fig, ax = plt.subplots(figsize = (10,10))\n",
    "viz_tools.set_aspect(ax, coords = 'map')\n",
    "ax.plot(data['Lon'], data['Lat'], 'ro',label='data')\n",
    "ax.plot(data.loc[(data.Lon < -123.5) & (data.Lat < 48.6),['Lon']], \n",
    "        data.loc[(data.Lon < -123.5) & (data.Lat < 48.6),['Lat']], \n",
    "        'bo', label = 'Juan de Fuca')\n",
    "grid = nc.Dataset('/data/vdo/MEOPAR/NEMO-forcing/grid/bathymetry_201702.nc')\n",
    "viz_tools.plot_coastline(ax, grid, coords = 'map')\n",
    "ax.set_ylim(48, 50.5)\n",
    "ax.legend()\n",
    "ax.set_xlim(-125.7, -122.5);"
   ]
  },
  {
   "cell_type": "code",
   "execution_count": null,
   "metadata": {
    "collapsed": false
   },
   "outputs": [],
   "source": [
    "list_of_cs_ni=data['N']\n",
    "list_of_model_ni=data['mod_nitrate']\n",
    "list_of_depths=data['Z']\n",
    "list_of_lons=data['Lon']\n",
    "list_of_lats=data['Lat']\n",
    "list_of_datetimes=data['dtUTC']\n",
    "list_of_cs_si=data['Si']\n",
    "list_of_model_si=data['mod_silicon']"
   ]
  },
  {
   "cell_type": "code",
   "execution_count": null,
   "metadata": {
    "collapsed": true
   },
   "outputs": [],
   "source": [
    "iii=np.logical_and(~np.isnan(list_of_cs_ni),~np.isnan(list_of_model_ni))\n",
    "test=list_of_cs_ni[iii]\n",
    "test2=list_of_model_ni[iii]\n"
   ]
  },
  {
   "cell_type": "code",
   "execution_count": null,
   "metadata": {
    "collapsed": false
   },
   "outputs": [],
   "source": [
    "fig, ax = plt.subplots(figsize = (8,8))\n",
    "ax.plot(list_of_cs_ni[list_of_depths < 15], list_of_model_ni[list_of_depths < 15], \n",
    "        '.', color = 'Crimson', alpha = 0.5, label = 'surface')\n",
    "ax.plot(list_of_cs_ni[(22 > list_of_depths) & (list_of_depths >= 15)], \n",
    "        list_of_model_ni[(22 > list_of_depths) & (list_of_depths >= 15)], \n",
    "        '.', color = 'DarkOrange', alpha = 0.5, label = 'intermediate')\n",
    "ax.plot(list_of_cs_ni[list_of_depths >= 22], list_of_model_ni[list_of_depths >= 22], \n",
    "        '.', color = 'darkblue', alpha = 0.5, label = 'deep')\n",
    "\n",
    "ax.plot(list_of_cs_ni[(list_of_depths < 15) & (list_of_lons < -123.5) & (list_of_lats < 48.6)], \n",
    "        list_of_model_ni[(list_of_depths < 15) & (list_of_lons < -123.5) \n",
    "                         & (list_of_lats < 48.6)], \n",
    "        '.', color = 'ForestGreen', alpha = 0.5, label = ' Juan de Fuca surface')\n",
    "ax.plot(list_of_cs_ni[(22 > list_of_depths) & (list_of_depths >= 15) \n",
    "                      & (list_of_lons < -123.5) & (list_of_lats < 48.6)], \n",
    "        list_of_model_ni[(22 > list_of_depths) & (list_of_depths >= 15) \n",
    "                         & (list_of_lons < -123.5) & (list_of_lats < 48.6)], \n",
    "        '.', color = 'CornflowerBlue', alpha = 0.5, label = ' Juan de Fuca intermediate')\n",
    "ax.plot(list_of_cs_ni[(list_of_depths >= 22) & (list_of_lons < -123.5) & (list_of_lats < 48.6)], \n",
    "        list_of_model_ni[(list_of_depths >= 22) & (list_of_lons < -123.5) \n",
    "                         & (list_of_lats < 48.6)], \n",
    "        '.', color = 'DarkOrchid', alpha = 0.5, label = ' Juan de Fuca deep')\n",
    "\n",
    "ax.plot(np.arange(0,35), color = 'grey')\n",
    "ax.grid('on')\n",
    "ax.set_title('DFO Nitrate')\n",
    "ax.set_xlabel('DFO')\n",
    "ax.set_ylabel('Nowcast-green');\n",
    "ax.legend(loc=4)\n",
    "\n",
    "N_s, modmean_s, obsmean_s, bias_s, RMSE_s, WSS_s = et.stats(data.loc[data.Z<15,['N']],data.loc[data.Z<15,['mod_nitrate']])\n",
    "print('N_s:', N_s,'modmean_s:',modmean_s, 'obsmean_s:',obsmean_s, 'bias_s\"',bias_s, 'RMSE_s:',RMSE_s, 'WSS_s:', WSS_s)\n",
    "print('surface bias =  ' + str(-np.mean(list_of_cs_ni[list_of_depths < 15]) \n",
    "                               + np.mean(list_of_model_ni[list_of_depths < 15])))\n",
    "print('surface RMSE = ' + str(np.sqrt(np.sum((list_of_model_ni[list_of_depths < 15] \n",
    "                                              - list_of_cs_ni[list_of_depths < 15])**2) /\n",
    "                              len(list_of_cs_ni[list_of_depths < 15]))))\n",
    "xbar = np.mean(list_of_cs_ni[list_of_depths < 15])\n",
    "print('surface Willmott = ' + str(1-(np.sum((list_of_model_ni[list_of_depths < 15] \n",
    "                                             - list_of_cs_ni[list_of_depths < 15])**2)  / \n",
    "                             np.sum((np.abs(list_of_model_ni[list_of_depths < 15] - xbar) \n",
    "                                     + np.abs(list_of_cs_ni[list_of_depths < 15] - xbar))**2))))\n",
    "\n",
    "print('intermediate bias =  ' + str(-np.mean(list_of_cs_ni[(22 > list_of_depths) \n",
    "                                                           & (list_of_depths >= 15)]) \n",
    "                               + np.mean(list_of_model_ni[(22 > list_of_depths) \n",
    "                                                          & (list_of_depths >= 15)])))\n",
    "print('intermediate RMSE = ' + str(np.sqrt(np.sum((list_of_model_ni[(22 > list_of_depths) \n",
    "                                                                    & (list_of_depths >= 15)] \n",
    "                                              - list_of_cs_ni[(22 > list_of_depths) \n",
    "                                                              & (list_of_depths >= 15)])**2) /\n",
    "                              len(list_of_cs_ni[(22 > list_of_depths) & (list_of_depths >= 15)]))))\n",
    "xbar = np.mean(list_of_cs_ni[(22 > list_of_depths) & (list_of_depths >= 15)])\n",
    "print('intermediate Willmott = ' + str(1-(np.sum((list_of_model_ni[(22 > list_of_depths) \n",
    "                                                                   & (list_of_depths >= 15)] \n",
    "                                             - list_of_cs_ni[(22 > list_of_depths) \n",
    "                                                             & (list_of_depths >= 15)])**2)  / \n",
    "                             np.sum((np.abs(list_of_model_ni[(22 > list_of_depths) \n",
    "                                                             & (list_of_depths >= 15)] - xbar) \n",
    "                                     + np.abs(list_of_cs_ni[(22 > list_of_depths) \n",
    "                                                            & (list_of_depths >= 15)] - xbar))**2))))\n",
    "\n",
    "print('deep bias =  ' + str(-np.mean(list_of_cs_ni[list_of_depths >= 22]) \n",
    "                               + np.mean(list_of_model_ni[list_of_depths >= 22])))\n",
    "print('deep RMSE = ' + str(np.sqrt(np.sum((list_of_model_ni[list_of_depths >= 22] \n",
    "                                              - list_of_cs_ni[list_of_depths >= 22])**2) /\n",
    "                              len(list_of_cs_ni[list_of_depths >= 22]))))\n",
    "xbar = np.mean(list_of_cs_ni[list_of_depths >= 22])\n",
    "print('deep Willmott = ' + str(1-(np.sum((list_of_model_ni[list_of_depths >= 22] \n",
    "                                             - list_of_cs_ni[list_of_depths >= 22])**2)  / \n",
    "                             np.sum((np.abs(list_of_model_ni[list_of_depths >= 22] - xbar) \n",
    "                                     + np.abs(list_of_cs_ni[list_of_depths >= 22] - xbar))**2))))\n",
    "\n",
    "print('bias =  ' + str(-np.mean(list_of_cs_ni) + np.mean(list_of_model_ni)))\n",
    "print('RMSE = ' + str(np.sqrt(np.sum((list_of_model_ni - list_of_cs_ni)**2) /\n",
    "                              len(list_of_cs_ni))))\n",
    "xbar = np.mean(list_of_cs_ni)\n",
    "print('Willmott = ' + str(1-(np.sum((list_of_model_ni - list_of_cs_ni)**2)  / \n",
    "                             np.sum((np.abs(list_of_model_ni - xbar) \n",
    "                                     + np.abs(list_of_cs_ni - xbar))**2))))"
   ]
  },
  {
   "cell_type": "code",
   "execution_count": null,
   "metadata": {
    "collapsed": false
   },
   "outputs": [],
   "source": [
    "fig, ax = plt.subplots(figsize = (8,8))\n",
    "ps,ls=et.varvarPlot(ax,data,'N','mod_nitrate')"
   ]
  },
  {
   "cell_type": "code",
   "execution_count": null,
   "metadata": {
    "collapsed": false
   },
   "outputs": [],
   "source": [
    "fig, ax = plt.subplots(figsize = (8,8))\n",
    "ps,ls=et2.varvarPlot(ax,data,'N','mod_nitrate','Z',(15,22),'z','m',('mediumseagreen','skyblue','darkslateblue'))\n",
    "ls"
   ]
  },
  {
   "cell_type": "code",
   "execution_count": null,
   "metadata": {
    "collapsed": false
   },
   "outputs": [],
   "source": [
    "ps"
   ]
  },
  {
   "cell_type": "code",
   "execution_count": null,
   "metadata": {
    "collapsed": false
   },
   "outputs": [],
   "source": [
    "ii=23\n",
    "print(ii,listtemp[ii*10:(ii+1)*10])"
   ]
  },
  {
   "cell_type": "code",
   "execution_count": null,
   "metadata": {
    "collapsed": false
   },
   "outputs": [],
   "source": [
    "data.loc[data.N==23.84]"
   ]
  },
  {
   "cell_type": "code",
   "execution_count": null,
   "metadata": {
    "collapsed": false
   },
   "outputs": [],
   "source": [
    "with nc.Dataset('/ocean/eolson/MEOPAR/NEMO-forcing/grid/mesh_mask201702_noLPE.nc') as f:\n",
    "    dep=np.copy(f.variables['gdept_1d'])\n",
    "    tmask=np.copy(f.variables['tmask'])\n",
    "    lon=np.copy(f.variables['nav_lon'])\n",
    "    lat=np.copy(f.variables['nav_lat'])"
   ]
  },
  {
   "cell_type": "code",
   "execution_count": null,
   "metadata": {
    "collapsed": false
   },
   "outputs": [],
   "source": [
    "tmask[0,:,344,292]"
   ]
  },
  {
   "cell_type": "code",
   "execution_count": null,
   "metadata": {
    "collapsed": false
   },
   "outputs": [],
   "source": [
    "for ii in range(0,40):\n",
    "    print(ii,dep[0,ii],tmask[0,ii,344,292])"
   ]
  },
  {
   "cell_type": "code",
   "execution_count": null,
   "metadata": {
    "collapsed": true
   },
   "outputs": [],
   "source": []
  },
  {
   "cell_type": "code",
   "execution_count": null,
   "metadata": {
    "collapsed": true
   },
   "outputs": [],
   "source": []
  },
  {
   "cell_type": "code",
   "execution_count": null,
   "metadata": {
    "collapsed": true
   },
   "outputs": [],
   "source": []
  },
  {
   "cell_type": "code",
   "execution_count": null,
   "metadata": {
    "collapsed": true
   },
   "outputs": [],
   "source": []
  },
  {
   "cell_type": "code",
   "execution_count": null,
   "metadata": {
    "collapsed": false
   },
   "outputs": [],
   "source": [
    "fig,ax=plt.subplots(1,4,figsize=(24,6))\n",
    "ii=(list_of_depths < 15)&(list_of_datetimes<=dt.datetime(2015,4,1))\n",
    "ax[0].plot(list_of_cs_ni[ii], list_of_model_ni[ii], \n",
    "        '.', color = 'Crimson', alpha = 0.5, label = 'surface')\n",
    "ax[0].set_title('Feb-Mar')\n",
    "print('Feb-Mar')\n",
    "print('bias =  ' + str(-np.mean(list_of_cs_ni[ii]) + np.mean(list_of_model_ni[ii])))\n",
    "print('RMSE = ' + str(np.sqrt(np.sum((list_of_model_ni[ii] - list_of_cs_ni[ii])**2) /\n",
    "                              len(list_of_cs_ni[ii]))))\n",
    "xbar = np.mean(list_of_cs_ni[ii])\n",
    "print('Willmott = ' + str(1-(np.sum((list_of_model_ni[ii] - list_of_cs_ni[ii])**2)  / \n",
    "                             np.sum((np.abs(list_of_model_ni[ii] - xbar) \n",
    "                                     + np.abs(list_of_cs_ni[ii] - xbar))**2))))\n",
    "ii=(list_of_depths < 15)&(list_of_datetimes<=dt.datetime(2015,5,1))&(list_of_datetimes>dt.datetime(2015,4,1))\n",
    "ax[1].plot(list_of_cs_ni[ii], list_of_model_ni[ii], \n",
    "        '.', color = 'Crimson', alpha = 0.5, label = 'surface')\n",
    "ax[1].set_title('April')\n",
    "print('April')\n",
    "print('bias =  ' + str(-np.mean(list_of_cs_ni[ii]) + np.mean(list_of_model_ni[ii])))\n",
    "print('RMSE = ' + str(np.sqrt(np.sum((list_of_model_ni[ii] - list_of_cs_ni[ii])**2) /\n",
    "                              len(list_of_cs_ni[ii]))))\n",
    "xbar = np.mean(list_of_cs_ni[ii])\n",
    "print('Willmott = ' + str(1-(np.sum((list_of_model_ni[ii] - list_of_cs_ni[ii])**2)  / \n",
    "                             np.sum((np.abs(list_of_model_ni[ii] - xbar) \n",
    "                                     + np.abs(list_of_cs_ni[ii] - xbar))**2))))\n",
    "ii=(list_of_depths < 15)&(list_of_datetimes<=dt.datetime(2015,9,1))&(list_of_datetimes>dt.datetime(2015,5,1))\n",
    "cs=ax[2].scatter(list_of_cs_ni[ii], list_of_model_ni[ii], c=np.array([np.float((ii-dt.datetime(2015,3,1)).days) for ii in list_of_datetimes[ii]]), alpha = 0.5, label = 'surface')\n",
    "ax[2].set_title('May-Jun-Jul')\n",
    "plt.colorbar(cs)\n",
    "print('May-Jun-Jul')\n",
    "print('bias =  ' + str(-np.mean(list_of_cs_ni[ii]) + np.mean(list_of_model_ni[ii])))\n",
    "print('RMSE = ' + str(np.sqrt(np.sum((list_of_model_ni[ii] - list_of_cs_ni[ii])**2) /\n",
    "                              len(list_of_cs_ni[ii]))))\n",
    "xbar = np.mean(list_of_cs_ni[ii])\n",
    "print('Willmott = ' + str(1-(np.sum((list_of_model_ni[ii] - list_of_cs_ni[ii])**2)  / \n",
    "                             np.sum((np.abs(list_of_model_ni[ii] - xbar) \n",
    "                                     + np.abs(list_of_cs_ni[ii] - xbar))**2))))\n",
    "ii=(list_of_depths < 15)&(list_of_datetimes<=dt.datetime(2015,12,1))&(list_of_datetimes>dt.datetime(2015,9,1))\n",
    "#ax[3].plot(list_of_cs_ni[ii], list_of_model_ni[ii], \n",
    "#        '.', color = 'Crimson', alpha = 0.5, label = 'surface')\n",
    "#ax[3].set_title('Sep-Oct')\n",
    "#print('Sep-Oct')\n",
    "#print('bias =  ' + str(-np.mean(list_of_cs_ni[ii]) + np.mean(list_of_model_ni[ii])))\n",
    "#print('RMSE = ' + str(np.sqrt(np.sum((list_of_model_ni[ii] - list_of_cs_ni[ii])**2) /\n",
    "#                              len(list_of_cs_ni[ii]))))\n",
    "#xbar = np.mean(list_of_cs_ni[ii])\n",
    "#print('Willmott = ' + str(1-(np.sum((list_of_model_ni[ii] - list_of_cs_ni[ii])**2)  / \n",
    "#                             np.sum((np.abs(list_of_model_ni[ii] - xbar) \n",
    "#                                     + np.abs(list_of_cs_ni[ii] - xbar))**2))))\n",
    "for ii in range(0,4):\n",
    "    ax[ii].plot(np.arange(0,35), color = 'grey')\n",
    "    "
   ]
  },
  {
   "cell_type": "code",
   "execution_count": null,
   "metadata": {
    "collapsed": false
   },
   "outputs": [],
   "source": [
    "fig,ax=plt.subplots(1,1,figsize=(24,1))\n",
    "plt.plot(list_of_datetimes,np.ones(np.shape(list_of_datetimes)),'k.')"
   ]
  },
  {
   "cell_type": "code",
   "execution_count": null,
   "metadata": {
    "collapsed": false
   },
   "outputs": [],
   "source": [
    "fig, ax = plt.subplots(figsize = (8,8))\n",
    "ax.plot(list_of_cs_ni[list_of_depths < 15], list_of_model_ni[list_of_depths < 15], \n",
    "        '.', color = 'Crimson', alpha = 0.8, label = 'surface')\n",
    "ax.plot(list_of_cs_ni[(22 > list_of_depths) & (list_of_depths >= 15)], \n",
    "        list_of_model_ni[(22 > list_of_depths) & (list_of_depths >= 15)], \n",
    "        '.', color = 'DarkOrange', alpha = 0.8, label = 'intermediate')\n",
    "ax.plot(list_of_cs_ni[(list_of_depths < 15) & (list_of_lons < -123.5) & (list_of_lats < 48.6)], \n",
    "        list_of_model_ni[(list_of_depths < 15) & (list_of_lons < -123.5) \n",
    "                         & (list_of_lats < 48.6)], \n",
    "        '.', color = 'ForestGreen', alpha = 0.8, label = ' Juan de Fuca surface')\n",
    "ax.plot(list_of_cs_ni[(22 > list_of_depths) & (list_of_depths >= 15) \n",
    "                      & (list_of_lons < -123.5) & (list_of_lats < 48.6)], \n",
    "        list_of_model_ni[(22 > list_of_depths) & (list_of_depths >= 15) \n",
    "                         & (list_of_lons < -123.5) & (list_of_lats < 48.6)], \n",
    "        '.', color = 'CornflowerBlue', alpha = 0.8, label = ' Juan de Fuca intermediate')\n",
    "\n",
    "ax.plot(np.arange(0,35), color = 'grey')\n",
    "ax.grid('on')\n",
    "ax.set_title('DFO Nitrate')\n",
    "ax.set_xlabel('DFO')\n",
    "ax.set_ylabel('Nowcast-green');\n",
    "ax.legend(loc=4)\n"
   ]
  },
  {
   "cell_type": "code",
   "execution_count": null,
   "metadata": {
    "collapsed": false
   },
   "outputs": [],
   "source": [
    "np.shape(list_of_depths)"
   ]
  },
  {
   "cell_type": "code",
   "execution_count": null,
   "metadata": {
    "collapsed": false
   },
   "outputs": [],
   "source": [
    "fig, ax = plt.subplots(figsize = (8,8))\n",
    "ax.plot(list_of_cs_si[list_of_depths < 15], list_of_model_si[list_of_depths < 15], \n",
    "        '.', color = 'Crimson', alpha = 0.5, label = 'surface')\n",
    "ax.plot(list_of_cs_si[(22 > list_of_depths) & (list_of_depths >= 15)], \n",
    "        list_of_model_si[(22 > list_of_depths) & (list_of_depths >= 15)], \n",
    "        '.', color = 'DarkOrange', alpha = 0.5, label = 'intermediate')\n",
    "ax.plot(list_of_cs_si[list_of_depths >= 22], list_of_model_si[list_of_depths >= 22], \n",
    "        '.', color = 'darkblue', alpha = 0.5, label = 'deep')\n",
    "\n",
    "ax.plot(list_of_cs_si[(list_of_depths < 15) & (list_of_lons < -123.5) & (list_of_lats < 48.6)], \n",
    "        list_of_model_si[(list_of_depths < 15) & (list_of_lons < -123.5) \n",
    "                         & (list_of_lats < 48.6)], \n",
    "        '.', color = 'ForestGreen', alpha = 0.5, label = ' Juan de Fuca surface')\n",
    "ax.plot(list_of_cs_si[(22 > list_of_depths) & (list_of_depths >= 15) \n",
    "                      & (list_of_lons < -123.5) & (list_of_lats < 48.6)], \n",
    "        list_of_model_si[(22 > list_of_depths) & (list_of_depths >= 15) \n",
    "                         & (list_of_lons < -123.5) & (list_of_lats < 48.6)], \n",
    "        '.', color = 'CornflowerBlue', alpha = 0.5, label = ' Juan de Fuca intermediate')\n",
    "ax.plot(list_of_cs_si[(list_of_depths >= 22) & (list_of_lons < -123.5) & (list_of_lats < 48.6)], \n",
    "        list_of_model_si[(list_of_depths >= 22) & (list_of_lons < -123.5) \n",
    "                         & (list_of_lats < 48.6)], \n",
    "        '.', color = 'DarkOrchid', alpha = 0.5, label = ' Juan de Fuca deep')\n",
    "\n",
    "ax.plot(np.arange(0,56), color = 'grey')\n",
    "ax.grid('on')\n",
    "ax.set_title('DFO Silicon')\n",
    "ax.set_xlabel('DFO')\n",
    "ax.set_ylabel('Nowcast-green');\n",
    "ax.legend(loc=4)\n",
    "print('surface bias =  ' + str(-np.mean(list_of_cs_si[list_of_depths < 15]) \n",
    "                               + np.mean(list_of_model_si[list_of_depths < 15])))\n",
    "print('surface RMSE = ' + str(np.sqrt(np.sum((list_of_model_si[list_of_depths < 15] \n",
    "                                              - list_of_cs_si[list_of_depths < 15])**2) /\n",
    "                              len(list_of_cs_si[list_of_depths < 15]))))\n",
    "xbar = np.mean(list_of_cs_si[list_of_depths < 15])\n",
    "print('surface Willmott = ' + str(1-(np.sum((list_of_model_si[list_of_depths < 15] \n",
    "                                             - list_of_cs_si[list_of_depths < 15])**2)  / \n",
    "                             np.sum((np.abs(list_of_model_si[list_of_depths < 15] - xbar) \n",
    "                                     + np.abs(list_of_cs_si[list_of_depths < 15] - xbar))**2))))\n",
    "\n",
    "print('intermediate bias =  ' + str(-np.mean(list_of_cs_si[(22 > list_of_depths) \n",
    "                                                           & (list_of_depths >= 15)]) \n",
    "                               + np.mean(list_of_model_si[(22 > list_of_depths) \n",
    "                                                          & (list_of_depths >= 15)])))\n",
    "print('intermediate RMSE = ' + str(np.sqrt(np.sum((list_of_model_si[(22 > list_of_depths) \n",
    "                                                                    & (list_of_depths >= 15)] \n",
    "                                              - list_of_cs_si[(22 > list_of_depths) \n",
    "                                                              & (list_of_depths >= 15)])**2) /\n",
    "                              len(list_of_cs_si[(22 > list_of_depths) & (list_of_depths >= 15)]))))\n",
    "xbar = np.mean(list_of_cs_si[(22 > list_of_depths) & (list_of_depths >= 15)])\n",
    "print('intermediate Willmott = ' + str(1-(np.sum((list_of_model_si[(22 > list_of_depths) \n",
    "                                                                   & (list_of_depths >= 15)] \n",
    "                                             - list_of_cs_si[(22 > list_of_depths) \n",
    "                                                             & (list_of_depths >= 15)])**2)  / \n",
    "                             np.sum((np.abs(list_of_model_si[(22 > list_of_depths) \n",
    "                                                             & (list_of_depths >= 15)] - xbar) \n",
    "                                     + np.abs(list_of_cs_si[(22 > list_of_depths) \n",
    "                                                            & (list_of_depths >= 15)] - xbar))**2))))\n",
    "\n",
    "print('deep bias =  ' + str(-np.mean(list_of_cs_si[list_of_depths >= 22]) \n",
    "                               + np.mean(list_of_model_si[list_of_depths >= 22])))\n",
    "print('deep RMSE = ' + str(np.sqrt(np.sum((list_of_model_si[list_of_depths >= 22] \n",
    "                                              - list_of_cs_si[list_of_depths >= 22])**2) /\n",
    "                              len(list_of_cs_si[list_of_depths >= 22]))))\n",
    "xbar = np.mean(list_of_cs_si[list_of_depths >= 22])\n",
    "print('deep Willmott = ' + str(1-(np.sum((list_of_model_si[list_of_depths >= 22] \n",
    "                                             - list_of_cs_si[list_of_depths >= 22])**2)  / \n",
    "                             np.sum((np.abs(list_of_model_si[list_of_depths >= 22] - xbar) \n",
    "                                     + np.abs(list_of_cs_si[list_of_depths >= 22] - xbar))**2))))\n",
    "\n",
    "print('bias =  ' + str(-np.mean(list_of_cs_si) + np.mean(list_of_model_si)))\n",
    "print('RMSE = ' + str(np.sqrt(np.sum((list_of_model_si - list_of_cs_si)**2) /\n",
    "                              len(list_of_cs_si))))\n",
    "xbar = np.mean(list_of_cs_si)\n",
    "print('Willmott = ' + str(1-(np.sum((list_of_model_si - list_of_cs_si)**2)  / \n",
    "                             np.sum((np.abs(list_of_model_si - xbar) \n",
    "                                     + np.abs(list_of_cs_si - xbar))**2))))"
   ]
  },
  {
   "cell_type": "code",
   "execution_count": null,
   "metadata": {
    "collapsed": false
   },
   "outputs": [],
   "source": [
    "fig, ax = plt.subplots(1,2, figsize = (16,8))\n",
    "ax[0].plot(list_of_cs_ni[list_of_depths >= 22], list_of_cs_si[list_of_depths >=22], \n",
    "           '.', color = 'darkblue', alpha = 0.5)\n",
    "ax[0].plot(list_of_cs_ni[list_of_depths < 15], list_of_cs_si[list_of_depths < 15], \n",
    "           '.', color = 'Crimson', alpha = 0.5)\n",
    "ax[0].plot(list_of_cs_ni[(22 > list_of_depths) & (list_of_depths >= 15)], \n",
    "           list_of_cs_si[(22 > list_of_depths) & (list_of_depths >= 15)], \n",
    "           '.', color = 'DarkOrange', alpha = 0.5)\n",
    "ax[0].plot(list_of_cs_ni[(list_of_depths >= 22) & (list_of_lons < -123.5) \n",
    "                         & (list_of_lats < 48.6)], \n",
    "           list_of_cs_si[(list_of_depths >= 22) & (list_of_lons < -123.5) \n",
    "                         & (list_of_lats < 48.6)], \n",
    "           '.', color = 'DarkOrchid', alpha = 0.5)\n",
    "ax[0].plot(list_of_cs_ni[(list_of_depths < 15) & (list_of_lons < -123.5) \n",
    "                         & (list_of_lats < 48.6)], \n",
    "           list_of_cs_si[(list_of_depths < 15) & (list_of_lons < -123.5) \n",
    "                         & (list_of_lats < 48.6)], \n",
    "           '.', color = 'ForestGreen', alpha = 0.5)\n",
    "ax[0].plot(list_of_cs_ni[(22 > list_of_depths) & (list_of_depths >= 15) \n",
    "                         & (list_of_lons < -123.5) & (list_of_lats < 48.6)], \n",
    "           list_of_cs_si[(22 > list_of_depths) & (list_of_depths >= 15) \n",
    "                         & (list_of_lons < -123.5) & (list_of_lats < 48.6)], \n",
    "           '.', color = 'CornflowerBlue', alpha = 0.5)\n",
    "#ax[0].plot(np.unique(list_of_cs_ni), \n",
    "#           np.poly1d(np.polyfit(list_of_cs_ni, list_of_cs_si, 1))(np.unique(list_of_cs_ni)))\n",
    "x = np.arange(0,40)\n",
    "ax[0].plot(x, 2*x, 'g-', alpha = 0.3)\n",
    "ax[0].plot(x, 2*x+30, 'y-', alpha = 0.3)\n",
    "\n",
    "ax[1].plot(list_of_model_ni[list_of_depths < 15], list_of_model_si[list_of_depths < 15], \n",
    "           '.', color = 'Crimson', alpha = 0.5, label = 'surface')\n",
    "ax[1].plot(list_of_model_ni[(22 > list_of_depths) & (list_of_depths >= 15)], \n",
    "           list_of_model_si[(22 > list_of_depths) & (list_of_depths >= 15)], \n",
    "           '.', color = 'DarkOrange', alpha = 0.5, label = 'intermediate')\n",
    "ax[1].plot(list_of_model_ni[list_of_depths >= 22], list_of_model_si[list_of_depths >=22], \n",
    "           '.', color = 'darkblue', alpha = 0.5, label = 'deep')\n",
    "ax[1].plot(list_of_model_ni[(list_of_depths < 15) & (list_of_lons < -123.5) \n",
    "                         & (list_of_lats < 48.6)], \n",
    "           list_of_model_si[(list_of_depths < 15) & (list_of_lons < -123.5) \n",
    "                         & (list_of_lats < 48.6)], \n",
    "           '.', color = 'ForestGreen', alpha = 0.5, label = 'Juan de Fuca surface')\n",
    "ax[1].plot(list_of_model_ni[(22 > list_of_depths) & (list_of_depths >= 15) \n",
    "                         & (list_of_lons < -123.5) & (list_of_lats < 48.6)], \n",
    "           list_of_model_si[(22 > list_of_depths) & (list_of_depths >= 15) \n",
    "                         & (list_of_lons < -123.5) & (list_of_lats < 48.6)], \n",
    "           '.', color = 'CornflowerBlue', alpha = 0.5, label = 'Juan de Fuca intermediate')\n",
    "ax[1].plot(list_of_model_ni[(list_of_depths >= 22) & (list_of_lons < -123.5) \n",
    "                         & (list_of_lats < 48.6)], \n",
    "           list_of_model_si[(list_of_depths >= 22) & (list_of_lons < -123.5) \n",
    "                         & (list_of_lats < 48.6)], \n",
    "           '.', color = 'DarkOrchid', alpha = 0.5, label = 'Juan de Fuca deep')\n",
    "ax[1].plot(np.unique(list_of_model_ni), \n",
    "           np.poly1d(np.polyfit(list_of_model_ni, \n",
    "                                list_of_model_si, 1))(np.unique(list_of_model_ni)))\n",
    "x = np.arange(0,40)\n",
    "ax[1].plot(x, 2*x, 'g-', alpha = 0.3, label = 'slope = 2')\n",
    "ax[1].plot(x, 2*x+30, 'y-', alpha = 0.3, label = '2*N + 30')\n",
    "ax[0].set_title('DFO', fontsize = 16)\n",
    "ax[1].set_title('Model', fontsize = 16)\n",
    "for ax in ax:\n",
    "    ax.grid('on')\n",
    "    ax.set_ylabel('Si', fontsize = 14)\n",
    "    ax.set_xlabel('N', fontsize = 14)\n",
    "    ax.set_ylim(0,95)\n",
    "    ax.set_xlim(0,37)\n",
    "plt.legend();"
   ]
  },
  {
   "cell_type": "code",
   "execution_count": null,
   "metadata": {
    "collapsed": false
   },
   "outputs": [],
   "source": [
    "fig, ax = plt.subplots(1,2, figsize = (16,8))\n",
    "ax[0].plot(list_of_cs_ni, list_of_cs_si, \n",
    "           '.', color = 'darkblue', alpha = 0.5)\n",
    "x = np.arange(0,40)\n",
    "ax[0].plot(x, 2*x, 'g-', alpha = 0.3)\n",
    "ax[0].plot(x, 2*x+30, 'y-', alpha = 0.3)\n",
    "\n",
    "ax[1].plot(list_of_model_ni, list_of_model_si, \n",
    "           '.', color = 'Crimson', alpha = 0.5)\n",
    "x = np.arange(0,40)\n",
    "ax[1].plot(x, 2*x, 'g-', alpha = 0.3, label = 'slope = 2')\n",
    "ax[1].plot(x, 2*x+30, 'y-', alpha = 0.3, label = '2*N + 30')\n",
    "ax[0].set_title('DFO', fontsize = 16)\n",
    "ax[1].set_title('Model', fontsize = 16)\n",
    "for ax in ax:\n",
    "    ax.grid('on')\n",
    "    ax.set_ylabel('Si', fontsize = 14)\n",
    "    ax.set_xlabel('N', fontsize = 14)\n",
    "    ax.set_ylim(0,95)\n",
    "    ax.set_xlim(0,37)\n",
    "plt.legend();"
   ]
  },
  {
   "cell_type": "code",
   "execution_count": null,
   "metadata": {
    "collapsed": false
   },
   "outputs": [],
   "source": [
    "fig,ax=plt.subplots(1,4,figsize=(24,6))\n",
    "ii=(list_of_depths < 15)&(list_of_datetimes<=dt.datetime(2015,4,1))\n",
    "ax[0].plot(list_of_cs_si[ii], list_of_model_si[ii], \n",
    "        '.', color = 'Crimson', alpha = 0.5, label = 'surface')\n",
    "ax[0].set_title('Feb-Mar')\n",
    "print('Feb-Mar')\n",
    "print('bias =  ' + str(-np.mean(list_of_cs_si[ii]) + np.mean(list_of_model_si[ii])))\n",
    "print('RMSE = ' + str(np.sqrt(np.sum((list_of_model_si[ii] - list_of_cs_si[ii])**2) /\n",
    "                              len(list_of_cs_si[ii]))))\n",
    "xbar = np.mean(list_of_cs_si[ii])\n",
    "print('Willmott = ' + str(1-(np.sum((list_of_model_si[ii] - list_of_cs_si[ii])**2)  / \n",
    "                             np.sum((np.abs(list_of_model_si[ii] - xbar) \n",
    "                                     + np.abs(list_of_cs_si[ii] - xbar))**2))))\n",
    "ii=(list_of_depths < 15)&(list_of_datetimes<=dt.datetime(2015,5,1))&(list_of_datetimes>dt.datetime(2015,4,1))\n",
    "ax[1].plot(list_of_cs_si[ii], list_of_model_si[ii], \n",
    "        '.', color = 'Crimson', alpha = 0.5, label = 'surface')\n",
    "ax[1].set_title('April')\n",
    "print('April')\n",
    "print('bias =  ' + str(-np.mean(list_of_cs_si[ii]) + np.mean(list_of_model_si[ii])))\n",
    "print('RMSE = ' + str(np.sqrt(np.sum((list_of_model_si[ii] - list_of_cs_si[ii])**2) /\n",
    "                              len(list_of_cs_si[ii]))))\n",
    "xbar = np.mean(list_of_cs_si[ii])\n",
    "print('Willmott = ' + str(1-(np.sum((list_of_model_si[ii] - list_of_cs_si[ii])**2)  / \n",
    "                             np.sum((np.abs(list_of_model_si[ii] - xbar) \n",
    "                                     + np.abs(list_of_cs_si[ii] - xbar))**2))))\n",
    "\n",
    "ii=(list_of_depths < 15)&(list_of_datetimes<=dt.datetime(2015,9,1))&(list_of_datetimes>dt.datetime(2015,5,1))\n",
    "ax[2].plot(list_of_cs_si[ii], list_of_model_si[ii], \n",
    "        '.', color = 'Crimson', alpha = 0.5, label = 'surface')\n",
    "ax[2].set_title('May-Jun-Jul')\n",
    "print('May-Jun-Jul')\n",
    "print('bias =  ' + str(-np.mean(list_of_cs_si[ii]) + np.mean(list_of_model_si[ii])))\n",
    "print('RMSE = ' + str(np.sqrt(np.sum((list_of_model_si[ii] - list_of_cs_si[ii])**2) /\n",
    "                              len(list_of_cs_si[ii]))))\n",
    "xbar = np.mean(list_of_cs_si[ii])\n",
    "print('Willmott = ' + str(1-(np.sum((list_of_model_si[ii] - list_of_cs_si[ii])**2)  / \n",
    "                             np.sum((np.abs(list_of_model_si[ii] - xbar) \n",
    "                                     + np.abs(list_of_cs_si[ii] - xbar))**2))))\n",
    "\n",
    "ii=(list_of_depths < 15)&(list_of_datetimes<=dt.datetime(2015,12,1))&(list_of_datetimes>dt.datetime(2015,9,1))\n",
    "#ax[3].plot(list_of_cs_si[ii], list_of_model_si[ii], \n",
    "#        '.', color = 'Crimson', alpha = 0.5, label = 'surface')\n",
    "#ax[3].set_title('Sep-Oct')\n",
    "#print('Sep-Oct')\n",
    "#print('bias =  ' + str(-np.mean(list_of_cs_si[ii]) + np.mean(list_of_model_si[ii])))\n",
    "#print('RMSE = ' + str(np.sqrt(np.sum((list_of_model_si[ii] - list_of_cs_si[ii])**2) /\n",
    "#                              len(list_of_cs_si[ii]))))\n",
    "#xbar = np.mean(list_of_cs_si[ii])\n",
    "#print('Willmott = ' + str(1-(np.sum((list_of_model_si[ii] - list_of_cs_si[ii])**2)  / \n",
    "#                             np.sum((np.abs(list_of_model_si[ii] - xbar) \n",
    "#                                     + np.abs(list_of_cs_si[ii] - xbar))**2))))\n",
    "\n",
    "for ii in range(0,4):\n",
    "    ax[ii].plot(np.arange(0,35), color = 'grey')"
   ]
  },
  {
   "cell_type": "code",
   "execution_count": null,
   "metadata": {
    "collapsed": false
   },
   "outputs": [],
   "source": [
    "fig, ax = plt.subplots(1,2,figsize = (17,8))\n",
    "iii=(list_of_datetimes>dt.datetime(2015,2,1))\n",
    "cols=('crimson','orangered','darkorange','gold','chartreuse','green','lightseagreen','cyan',\n",
    "      'lightskyblue','blue','mediumslateblue','blueviolet','darkmagenta','fuchsia')\n",
    "for ii in range(2,12):\n",
    "    iii=(list_of_datetimes>=dt.datetime(2015,ii,1))&(list_of_datetimes<dt.datetime(2015,ii+1,1))\n",
    "    ax[0].plot(list_of_model_ni[iii]-list_of_cs_ni[iii], list_of_depths[iii], \n",
    "        '.', color = cols[ii],label=str(ii))\n",
    "    ax[1].plot(list_of_model_si[iii]-list_of_cs_si[iii], list_of_depths[iii], \n",
    "        '.', color = cols[ii],label=str(ii))\n",
    "for axi in (ax[0],ax[1]):\n",
    "    axi.legend(loc=4)\n",
    "    axi.set_ylim(400,0)\n",
    "    axi.set_ylabel('depth (m)')\n",
    "ax[0].set_xlabel('model - obs N')\n",
    "ax[1].set_xlabel('model - obs Si')\n",
    "ax[0].set_xlim(-20,20)\n",
    "ax[1].set_xlim(-40,40)"
   ]
  },
  {
   "cell_type": "code",
   "execution_count": null,
   "metadata": {
    "collapsed": true
   },
   "outputs": [],
   "source": []
  },
  {
   "cell_type": "code",
   "execution_count": null,
   "metadata": {
    "collapsed": true
   },
   "outputs": [],
   "source": []
  },
  {
   "cell_type": "code",
   "execution_count": null,
   "metadata": {
    "collapsed": true
   },
   "outputs": [],
   "source": []
  }
 ],
 "metadata": {
  "anaconda-cloud": {},
  "kernelspec": {
   "display_name": "Python [conda env:python36]",
   "language": "python",
   "name": "conda-env-python36-py"
  },
  "language_info": {
   "codemirror_mode": {
    "name": "ipython",
    "version": 3
   },
   "file_extension": ".py",
   "mimetype": "text/x-python",
   "name": "python",
   "nbconvert_exporter": "python",
   "pygments_lexer": "ipython3",
   "version": "3.6.3"
  }
 },
 "nbformat": 4,
 "nbformat_minor": 2
}
