{
 "cells": [
  {
   "cell_type": "markdown",
   "metadata": {},
   "source": [
    "## DFO Nutrient Comparison"
   ]
  },
  {
   "cell_type": "code",
   "execution_count": 1,
   "metadata": {
    "collapsed": false
   },
   "outputs": [],
   "source": [
    "import sqlalchemy\n",
    "from sqlalchemy import (create_engine, Column, String, Integer, Float, MetaData, \n",
    "                        Table, type_coerce, ForeignKey, case)\n",
    "from sqlalchemy.orm import mapper, create_session, relationship, aliased, Session\n",
    "from sqlalchemy.ext.declarative import declarative_base\n",
    "from sqlalchemy import case\n",
    "import numpy as np\n",
    "from sqlalchemy.ext.automap import automap_base\n",
    "import matplotlib.pyplot as plt\n",
    "import sqlalchemy.types as types\n",
    "from sqlalchemy.sql import and_, or_, not_, func\n",
    "from sqlalchemy.sql import select\n",
    "import os\n",
    "from os.path import isfile\n",
    "import pandas as pd\n",
    "import netCDF4 as nc\n",
    "import datetime as dt\n",
    "from salishsea_tools import evaltools as et, viz_tools\n",
    "import datetime\n",
    "import glob\n",
    "import gsw\n",
    "\n",
    "%matplotlib inline"
   ]
  },
  {
   "cell_type": "code",
   "execution_count": 2,
   "metadata": {
    "collapsed": false,
    "scrolled": true
   },
   "outputs": [
    {
     "data": {
      "text/html": [
       "<div>\n",
       "<style scoped>\n",
       "    .dataframe tbody tr th:only-of-type {\n",
       "        vertical-align: middle;\n",
       "    }\n",
       "\n",
       "    .dataframe tbody tr th {\n",
       "        vertical-align: top;\n",
       "    }\n",
       "\n",
       "    .dataframe thead th {\n",
       "        text-align: right;\n",
       "    }\n",
       "</style>\n",
       "<table border=\"1\" class=\"dataframe\">\n",
       "  <thead>\n",
       "    <tr style=\"text-align: right;\">\n",
       "      <th></th>\n",
       "      <th>Year</th>\n",
       "      <th>Month</th>\n",
       "      <th>Day</th>\n",
       "      <th>Hour</th>\n",
       "      <th>Lat</th>\n",
       "      <th>Lon</th>\n",
       "      <th>Pressure</th>\n",
       "      <th>Depth</th>\n",
       "      <th>Ammonium</th>\n",
       "      <th>Ammonium_units</th>\n",
       "      <th>Chlorophyll_Extracted</th>\n",
       "      <th>Chlorophyll_Extracted_units</th>\n",
       "      <th>N</th>\n",
       "      <th>Si</th>\n",
       "      <th>Silicate_units</th>\n",
       "      <th>AbsSal</th>\n",
       "      <th>ConsT</th>\n",
       "      <th>Z</th>\n",
       "      <th>dtUTC</th>\n",
       "    </tr>\n",
       "  </thead>\n",
       "  <tbody>\n",
       "    <tr>\n",
       "      <th>0</th>\n",
       "      <td>1982.0</td>\n",
       "      <td>7.0</td>\n",
       "      <td>16.0</td>\n",
       "      <td>1.35</td>\n",
       "      <td>49.25</td>\n",
       "      <td>-123.943</td>\n",
       "      <td>NaN</td>\n",
       "      <td>12.0</td>\n",
       "      <td>NaN</td>\n",
       "      <td>None</td>\n",
       "      <td>5.28</td>\n",
       "      <td>mg/m^3</td>\n",
       "      <td>6.6</td>\n",
       "      <td>13.6</td>\n",
       "      <td>umol/L</td>\n",
       "      <td>NaN</td>\n",
       "      <td>NaN</td>\n",
       "      <td>12.0</td>\n",
       "      <td>1982-07-16 01:21:00</td>\n",
       "    </tr>\n",
       "    <tr>\n",
       "      <th>1</th>\n",
       "      <td>1982.0</td>\n",
       "      <td>7.0</td>\n",
       "      <td>16.0</td>\n",
       "      <td>1.35</td>\n",
       "      <td>49.25</td>\n",
       "      <td>-123.943</td>\n",
       "      <td>NaN</td>\n",
       "      <td>21.5</td>\n",
       "      <td>NaN</td>\n",
       "      <td>None</td>\n",
       "      <td>0.61</td>\n",
       "      <td>mg/m^3</td>\n",
       "      <td>21.2</td>\n",
       "      <td>45.0</td>\n",
       "      <td>umol/L</td>\n",
       "      <td>NaN</td>\n",
       "      <td>NaN</td>\n",
       "      <td>21.5</td>\n",
       "      <td>1982-07-16 01:21:00</td>\n",
       "    </tr>\n",
       "    <tr>\n",
       "      <th>2</th>\n",
       "      <td>1982.0</td>\n",
       "      <td>7.0</td>\n",
       "      <td>16.0</td>\n",
       "      <td>1.35</td>\n",
       "      <td>49.25</td>\n",
       "      <td>-123.943</td>\n",
       "      <td>NaN</td>\n",
       "      <td>30.5</td>\n",
       "      <td>NaN</td>\n",
       "      <td>None</td>\n",
       "      <td>NaN</td>\n",
       "      <td>mg/m^3</td>\n",
       "      <td>23.5</td>\n",
       "      <td>47.4</td>\n",
       "      <td>umol/L</td>\n",
       "      <td>NaN</td>\n",
       "      <td>NaN</td>\n",
       "      <td>30.5</td>\n",
       "      <td>1982-07-16 01:21:00</td>\n",
       "    </tr>\n",
       "    <tr>\n",
       "      <th>3</th>\n",
       "      <td>1982.0</td>\n",
       "      <td>7.0</td>\n",
       "      <td>16.0</td>\n",
       "      <td>1.35</td>\n",
       "      <td>49.25</td>\n",
       "      <td>-123.943</td>\n",
       "      <td>NaN</td>\n",
       "      <td>52.3</td>\n",
       "      <td>NaN</td>\n",
       "      <td>None</td>\n",
       "      <td>NaN</td>\n",
       "      <td>mg/m^3</td>\n",
       "      <td>28.0</td>\n",
       "      <td>50.2</td>\n",
       "      <td>umol/L</td>\n",
       "      <td>NaN</td>\n",
       "      <td>NaN</td>\n",
       "      <td>52.3</td>\n",
       "      <td>1982-07-16 01:21:00</td>\n",
       "    </tr>\n",
       "    <tr>\n",
       "      <th>4</th>\n",
       "      <td>1982.0</td>\n",
       "      <td>7.0</td>\n",
       "      <td>16.0</td>\n",
       "      <td>1.35</td>\n",
       "      <td>49.25</td>\n",
       "      <td>-123.943</td>\n",
       "      <td>NaN</td>\n",
       "      <td>75.4</td>\n",
       "      <td>NaN</td>\n",
       "      <td>None</td>\n",
       "      <td>NaN</td>\n",
       "      <td>mg/m^3</td>\n",
       "      <td>26.5</td>\n",
       "      <td>49.1</td>\n",
       "      <td>umol/L</td>\n",
       "      <td>NaN</td>\n",
       "      <td>NaN</td>\n",
       "      <td>75.4</td>\n",
       "      <td>1982-07-16 01:21:00</td>\n",
       "    </tr>\n",
       "  </tbody>\n",
       "</table>\n",
       "</div>"
      ],
      "text/plain": [
       "     Year  Month   Day  Hour    Lat      Lon  Pressure  Depth  Ammonium  \\\n",
       "0  1982.0    7.0  16.0  1.35  49.25 -123.943       NaN   12.0       NaN   \n",
       "1  1982.0    7.0  16.0  1.35  49.25 -123.943       NaN   21.5       NaN   \n",
       "2  1982.0    7.0  16.0  1.35  49.25 -123.943       NaN   30.5       NaN   \n",
       "3  1982.0    7.0  16.0  1.35  49.25 -123.943       NaN   52.3       NaN   \n",
       "4  1982.0    7.0  16.0  1.35  49.25 -123.943       NaN   75.4       NaN   \n",
       "\n",
       "  Ammonium_units  Chlorophyll_Extracted Chlorophyll_Extracted_units     N  \\\n",
       "0           None                   5.28                      mg/m^3   6.6   \n",
       "1           None                   0.61                      mg/m^3  21.2   \n",
       "2           None                    NaN                      mg/m^3  23.5   \n",
       "3           None                    NaN                      mg/m^3  28.0   \n",
       "4           None                    NaN                      mg/m^3  26.5   \n",
       "\n",
       "     Si Silicate_units  AbsSal  ConsT     Z               dtUTC  \n",
       "0  13.6         umol/L     NaN    NaN  12.0 1982-07-16 01:21:00  \n",
       "1  45.0         umol/L     NaN    NaN  21.5 1982-07-16 01:21:00  \n",
       "2  47.4         umol/L     NaN    NaN  30.5 1982-07-16 01:21:00  \n",
       "3  50.2         umol/L     NaN    NaN  52.3 1982-07-16 01:21:00  \n",
       "4  49.1         umol/L     NaN    NaN  75.4 1982-07-16 01:21:00  "
      ]
     },
     "execution_count": 2,
     "metadata": {},
     "output_type": "execute_result"
    }
   ],
   "source": [
    "PATH= '/data/eolson/MEOPAR/SS36runs/linkHC201812/'\n",
    "start_date = datetime.datetime(2015,1,1)\n",
    "end_date = datetime.datetime(2018,12,31)\n",
    "flen=1\n",
    "namfmt='nowcast'\n",
    "#varmap={'N':'nitrate','Si':'silicon','Ammonium':'ammonium'}\n",
    "filemap={'nitrate':'ptrc_T','silicon':'ptrc_T','ammonium':'ptrc_T','diatoms':'ptrc_T','ciliates':'ptrc_T','flagellates':'ptrc_T','vosaline':'grid_T','votemper':'grid_T'}\n",
    "#gridmap={'nitrate':'tmask','silicon':'tmask','ammonium':'tmask'}\n",
    "fdict={'ptrc_T':1,'grid_T':1}\n",
    "\n",
    "df1=et.loadDFO()\n",
    "df1.head()"
   ]
  },
  {
   "cell_type": "code",
   "execution_count": 8,
   "metadata": {
    "collapsed": false
   },
   "outputs": [
    {
     "data": {
      "text/html": [
       "<div>\n",
       "<style scoped>\n",
       "    .dataframe tbody tr th:only-of-type {\n",
       "        vertical-align: middle;\n",
       "    }\n",
       "\n",
       "    .dataframe tbody tr th {\n",
       "        vertical-align: top;\n",
       "    }\n",
       "\n",
       "    .dataframe thead th {\n",
       "        text-align: right;\n",
       "    }\n",
       "</style>\n",
       "<table border=\"1\" class=\"dataframe\">\n",
       "  <thead>\n",
       "    <tr style=\"text-align: right;\">\n",
       "      <th></th>\n",
       "      <th>Year</th>\n",
       "      <th>Month</th>\n",
       "      <th>Day</th>\n",
       "      <th>Hour</th>\n",
       "      <th>Lat</th>\n",
       "      <th>Lon</th>\n",
       "      <th>Pressure</th>\n",
       "      <th>Depth</th>\n",
       "      <th>Ammonium</th>\n",
       "      <th>Ammonium_units</th>\n",
       "      <th>Chlorophyll_Extracted</th>\n",
       "      <th>Chlorophyll_Extracted_units</th>\n",
       "      <th>N</th>\n",
       "      <th>Si</th>\n",
       "      <th>Silicate_units</th>\n",
       "      <th>AbsSal</th>\n",
       "      <th>ConsT</th>\n",
       "      <th>Z</th>\n",
       "      <th>dtUTC</th>\n",
       "    </tr>\n",
       "  </thead>\n",
       "  <tbody>\n",
       "    <tr>\n",
       "      <th>25</th>\n",
       "      <td>2008.0</td>\n",
       "      <td>6.0</td>\n",
       "      <td>20.0</td>\n",
       "      <td>13.969167</td>\n",
       "      <td>48.501167</td>\n",
       "      <td>-124.734667</td>\n",
       "      <td>2.0</td>\n",
       "      <td>NaN</td>\n",
       "      <td>NaN</td>\n",
       "      <td>None</td>\n",
       "      <td>4.37</td>\n",
       "      <td>mg/m^3</td>\n",
       "      <td>21.8</td>\n",
       "      <td>37.0</td>\n",
       "      <td>umol/L</td>\n",
       "      <td>31.779231</td>\n",
       "      <td>9.465428</td>\n",
       "      <td>1.983119</td>\n",
       "      <td>2008-06-20 13:58:09</td>\n",
       "    </tr>\n",
       "    <tr>\n",
       "      <th>26</th>\n",
       "      <td>2008.0</td>\n",
       "      <td>6.0</td>\n",
       "      <td>20.0</td>\n",
       "      <td>13.969167</td>\n",
       "      <td>48.501167</td>\n",
       "      <td>-124.734667</td>\n",
       "      <td>4.8</td>\n",
       "      <td>NaN</td>\n",
       "      <td>NaN</td>\n",
       "      <td>None</td>\n",
       "      <td>NaN</td>\n",
       "      <td>mg/m^3</td>\n",
       "      <td>18.2</td>\n",
       "      <td>31.1</td>\n",
       "      <td>umol/L</td>\n",
       "      <td>31.781527</td>\n",
       "      <td>9.449128</td>\n",
       "      <td>4.759454</td>\n",
       "      <td>2008-06-20 13:58:09</td>\n",
       "    </tr>\n",
       "    <tr>\n",
       "      <th>27</th>\n",
       "      <td>2008.0</td>\n",
       "      <td>6.0</td>\n",
       "      <td>20.0</td>\n",
       "      <td>13.969167</td>\n",
       "      <td>48.501167</td>\n",
       "      <td>-124.734667</td>\n",
       "      <td>9.7</td>\n",
       "      <td>NaN</td>\n",
       "      <td>NaN</td>\n",
       "      <td>None</td>\n",
       "      <td>3.69</td>\n",
       "      <td>mg/m^3</td>\n",
       "      <td>23.3</td>\n",
       "      <td>37.3</td>\n",
       "      <td>umol/L</td>\n",
       "      <td>31.845634</td>\n",
       "      <td>9.169437</td>\n",
       "      <td>9.617948</td>\n",
       "      <td>2008-06-20 13:58:09</td>\n",
       "    </tr>\n",
       "    <tr>\n",
       "      <th>28</th>\n",
       "      <td>2008.0</td>\n",
       "      <td>6.0</td>\n",
       "      <td>20.0</td>\n",
       "      <td>13.969167</td>\n",
       "      <td>48.501167</td>\n",
       "      <td>-124.734667</td>\n",
       "      <td>20.2</td>\n",
       "      <td>NaN</td>\n",
       "      <td>NaN</td>\n",
       "      <td>None</td>\n",
       "      <td>0.76</td>\n",
       "      <td>mg/m^3</td>\n",
       "      <td>29.4</td>\n",
       "      <td>45.9</td>\n",
       "      <td>umol/L</td>\n",
       "      <td>32.482873</td>\n",
       "      <td>8.245013</td>\n",
       "      <td>20.028618</td>\n",
       "      <td>2008-06-20 13:58:09</td>\n",
       "    </tr>\n",
       "    <tr>\n",
       "      <th>29</th>\n",
       "      <td>2008.0</td>\n",
       "      <td>6.0</td>\n",
       "      <td>20.0</td>\n",
       "      <td>13.969167</td>\n",
       "      <td>48.501167</td>\n",
       "      <td>-124.734667</td>\n",
       "      <td>30.0</td>\n",
       "      <td>NaN</td>\n",
       "      <td>NaN</td>\n",
       "      <td>None</td>\n",
       "      <td>NaN</td>\n",
       "      <td>mg/m^3</td>\n",
       "      <td>29.4</td>\n",
       "      <td>45.8</td>\n",
       "      <td>umol/L</td>\n",
       "      <td>32.717394</td>\n",
       "      <td>7.976543</td>\n",
       "      <td>29.744765</td>\n",
       "      <td>2008-06-20 13:58:09</td>\n",
       "    </tr>\n",
       "  </tbody>\n",
       "</table>\n",
       "</div>"
      ],
      "text/plain": [
       "      Year  Month   Day       Hour        Lat         Lon  Pressure  Depth  \\\n",
       "25  2008.0    6.0  20.0  13.969167  48.501167 -124.734667       2.0    NaN   \n",
       "26  2008.0    6.0  20.0  13.969167  48.501167 -124.734667       4.8    NaN   \n",
       "27  2008.0    6.0  20.0  13.969167  48.501167 -124.734667       9.7    NaN   \n",
       "28  2008.0    6.0  20.0  13.969167  48.501167 -124.734667      20.2    NaN   \n",
       "29  2008.0    6.0  20.0  13.969167  48.501167 -124.734667      30.0    NaN   \n",
       "\n",
       "    Ammonium Ammonium_units  Chlorophyll_Extracted  \\\n",
       "25       NaN           None                   4.37   \n",
       "26       NaN           None                    NaN   \n",
       "27       NaN           None                   3.69   \n",
       "28       NaN           None                   0.76   \n",
       "29       NaN           None                    NaN   \n",
       "\n",
       "   Chlorophyll_Extracted_units     N    Si Silicate_units     AbsSal  \\\n",
       "25                      mg/m^3  21.8  37.0         umol/L  31.779231   \n",
       "26                      mg/m^3  18.2  31.1         umol/L  31.781527   \n",
       "27                      mg/m^3  23.3  37.3         umol/L  31.845634   \n",
       "28                      mg/m^3  29.4  45.9         umol/L  32.482873   \n",
       "29                      mg/m^3  29.4  45.8         umol/L  32.717394   \n",
       "\n",
       "       ConsT          Z               dtUTC  \n",
       "25  9.465428   1.983119 2008-06-20 13:58:09  \n",
       "26  9.449128   4.759454 2008-06-20 13:58:09  \n",
       "27  9.169437   9.617948 2008-06-20 13:58:09  \n",
       "28  8.245013  20.028618 2008-06-20 13:58:09  \n",
       "29  7.976543  29.744765 2008-06-20 13:58:09  "
      ]
     },
     "execution_count": 8,
     "metadata": {},
     "output_type": "execute_result"
    }
   ],
   "source": [
    "df2=df1.loc[(df1.Lat<48.6)&(df1.Lon<-124.7)]\n",
    "df2.head()"
   ]
  },
  {
   "cell_type": "code",
   "execution_count": 9,
   "metadata": {
    "collapsed": false
   },
   "outputs": [
    {
     "data": {
      "text/plain": [
       "[<matplotlib.lines.Line2D at 0x7f08de388400>]"
      ]
     },
     "execution_count": 9,
     "metadata": {},
     "output_type": "execute_result"
    },
    {
     "data": {
      "image/png": "[encoded data removed]",
      "text/plain": [
       "<matplotlib.figure.Figure at 0x7f08dd4b1048>"
      ]
     },
     "metadata": {},
     "output_type": "display_data"
    }
   ],
   "source": [
    "plt.plot(df1.Lon,df1.Lat,'k.')\n",
    "plt.plot(df2.Lon,df2.Lat,'r.')"
   ]
  },
  {
   "cell_type": "code",
   "execution_count": 10,
   "metadata": {
    "collapsed": false
   },
   "outputs": [],
   "source": [
    "data=et.matchData(df2,filemap, fdict, start_date, end_date, namfmt, PATH, flen)"
   ]
  },
  {
   "cell_type": "code",
   "execution_count": null,
   "metadata": {
    "collapsed": true
   },
   "outputs": [],
   "source": []
  },
  {
   "cell_type": "markdown",
   "metadata": {},
   "source": [
    "# Nitrate"
   ]
  },
  {
   "cell_type": "code",
   "execution_count": 15,
   "metadata": {
    "collapsed": false
   },
   "outputs": [
    {
     "data": {
      "text/plain": [
       "[<matplotlib.lines.Line2D at 0x7f08de40c390>]"
      ]
     },
     "execution_count": 15,
     "metadata": {},
     "output_type": "execute_result"
    },
    {
     "data": {
      "image/png": "[encoded data removed]",
      "text/plain": [
       "<matplotlib.figure.Figure at 0x7f08dea0b0f0>"
      ]
     },
     "metadata": {},
     "output_type": "display_data"
    }
   ],
   "source": [
    "fig, ax = plt.subplots(figsize = (8,8))\n",
    "ps=et.varvarPlot(ax,data,'N','mod_nitrate','Z',(100,170),'z','m',('mediumseagreen','darkturquoise','navy'))\n",
    "ax.legend(handles=ps)\n",
    "ax.set_xlabel('Obs')\n",
    "ax.set_ylabel('Model')\n",
    "ax.set_title('NO$_3$ ($\\mu$M)')\n",
    "ax.plot((0,40),(0,40),'k-',alpha=.2)"
   ]
  },
  {
   "cell_type": "code",
   "execution_count": 23,
   "metadata": {
    "collapsed": false
   },
   "outputs": [
    {
     "data": {
      "text/plain": [
       "[<matplotlib.lines.Line2D at 0x7f08dd72d898>]"
      ]
     },
     "execution_count": 23,
     "metadata": {},
     "output_type": "execute_result"
    },
    {
     "data": {
      "image/png": "[encoded data removed]",
      "text/plain": [
       "<matplotlib.figure.Figure at 0x7f08de461588>"
      ]
     },
     "metadata": {},
     "output_type": "display_data"
    }
   ],
   "source": [
    "data2=data.loc[data.Z>150]\n",
    "fig, ax = plt.subplots(figsize = (8,8))\n",
    "ps=et.varvarPlot(ax,data2,'N','mod_nitrate','Year',(2016,2017,2018),'z','m',('m','mediumseagreen','darkturquoise','navy'))\n",
    "ax.legend(handles=ps)\n",
    "ax.set_xlabel('Obs')\n",
    "ax.set_ylabel('Model')\n",
    "ax.set_title('NO$_3$ ($\\mu$M)')\n",
    "ax.plot((0,40),(0,40),'k-',alpha=.2)"
   ]
  },
  {
   "cell_type": "code",
   "execution_count": 27,
   "metadata": {
    "collapsed": false
   },
   "outputs": [
    {
     "data": {
      "text/plain": [
       "34.81"
      ]
     },
     "execution_count": 27,
     "metadata": {},
     "output_type": "execute_result"
    }
   ],
   "source": [
    "np.max(data2['N'])"
   ]
  },
  {
   "cell_type": "code",
   "execution_count": 40,
   "metadata": {
    "collapsed": true
   },
   "outputs": [],
   "source": [
    "#set max at 35\n",
    "# start transitioning at 30\n",
    "def ncor(NN,a):\n",
    "    if NN>30:\n",
    "        n1=NN-30\n",
    "        n2=n1*n1/(a+n1)\n",
    "    else:\n",
    "        n2=NN\n",
    "    return n2"
   ]
  },
  {
   "cell_type": "code",
   "execution_count": 58,
   "metadata": {
    "collapsed": false
   },
   "outputs": [
    {
     "data": {
      "text/plain": [
       "[<matplotlib.lines.Line2D at 0x7f08b0bdef28>]"
      ]
     },
     "execution_count": 58,
     "metadata": {},
     "output_type": "execute_result"
    },
    {
     "data": {
      "image/png": "[encoded data removed]",
      "text/plain": [
       "<matplotlib.figure.Figure at 0x7f08b0c61b00>"
      ]
     },
     "metadata": {},
     "output_type": "display_data"
    }
   ],
   "source": [
    "fig,ax=plt.subplots(1,1)\n",
    "#ax.plot(data2['mod_nitrate']-30,data2['N']-data2['mod_nitrate'],'k.')\n",
    "xx=np.arange(0,50,.5)\n",
    "a=.3\n",
    "b=3\n",
    "ax.plot(xx,a*xx*xx/(b+a*xx),'r-')\n",
    "ax.plot(xx,xx-b/a,'k-')\n",
    "#ax.plot(xx,np.tanh(1/10*(xx-10))+1,'r-')"
   ]
  },
  {
   "cell_type": "code",
   "execution_count": 44,
   "metadata": {
    "collapsed": false
   },
   "outputs": [
    {
     "data": {
      "text/plain": [
       "[<matplotlib.lines.Line2D at 0x7f08dbb3f3c8>]"
      ]
     },
     "execution_count": 44,
     "metadata": {},
     "output_type": "execute_result"
    },
    {
     "data": {
      "image/png": "[encoded data removed]",
      "text/plain": [
       "<matplotlib.figure.Figure at 0x7f08dbb65438>"
      ]
     },
     "metadata": {},
     "output_type": "display_data"
    }
   ],
   "source": [
    "fig,ax=plt.subplots(1,1)\n",
    "test=[ncor(ii,3) for ii in data2['mod_nitrate']]\n",
    "ax.plot(data2['mod_nitrate'],data2['N']-test,'k.')"
   ]
  },
  {
   "cell_type": "code",
   "execution_count": null,
   "metadata": {
    "collapsed": false
   },
   "outputs": [],
   "source": [
    "dJDF=data.loc[(data.Lon<-123.6)&(data.Lat<48.6)]\n",
    "dSJGI=data.loc[(data.Lon>=-123.6)&(data.Lat<48.9)]\n",
    "dSOG=data.loc[(data.Lat>=48.9)&(data.Lon>-124.0)]\n",
    "dNSOG=data.loc[(data.Lat>=48.9)&(data.Lon<=-124.0)]\n",
    "fig, ax = plt.subplots(figsize = (8,8))\n",
    "ps1=et.varvarPlot(ax,dJDF,'N','mod_nitrate',cols=('b','darkturquoise','navy'),lname='SJDF')\n",
    "ps2=et.varvarPlot(ax,dSJGI,'N','mod_nitrate',cols=('c','darkturquoise','navy'),lname='SJGI')\n",
    "ps3=et.varvarPlot(ax,dSOG,'N','mod_nitrate',cols=('y','darkturquoise','navy'),lname='SOG')\n",
    "ps4=et.varvarPlot(ax,dNSOG,'N','mod_nitrate',cols=('m','darkturquoise','navy'),lname='NSOGF')\n",
    "ax.legend(handles=[ps1[0][0],ps2[0][0],ps3[0][0],ps4[0][0]])\n",
    "ax.set_xlabel('Obs')\n",
    "ax.set_ylabel('Model')\n",
    "ax.set_title('NO$_3$ ($\\mu$M)')\n",
    "ax.plot((0,40),(0,40),'-',color='gray',alpha=.5)"
   ]
  },
  {
   "cell_type": "code",
   "execution_count": null,
   "metadata": {
    "collapsed": false
   },
   "outputs": [],
   "source": [
    "# where are high Ns coming from?\n",
    "fig, ax = plt.subplots(figsize = (8,8))\n",
    "viz_tools.set_aspect(ax, coords = 'map')\n",
    "ax.plot(dfhiN['Lon'], dfhiN['Lat'], 'ro',label='N>36')\n",
    "d1=dfhiN.loc[(dfhiN.mod_nitrate>38)]\n",
    "ax.plot(d1['Lon'],d1['Lat'],'b.',label='N>38')\n",
    "grid = nc.Dataset('/data/vdo/MEOPAR/NEMO-forcing/grid/bathymetry_201702.nc')\n",
    "viz_tools.plot_coastline(ax, grid, coords = 'map')\n",
    "ax.set_ylim(48, 50.5)\n",
    "ax.legend()\n",
    "ax.set_xlim(-125.7, -122.5);"
   ]
  },
  {
   "cell_type": "code",
   "execution_count": null,
   "metadata": {
    "collapsed": false
   },
   "outputs": [],
   "source": [
    "# where are high Ns coming from?\n",
    "fig,ax=plt.subplots(1,3,figsize=(12,3))\n",
    "dfhiN=data.loc[data.mod_nitrate>36]\n",
    "ax[0].hist(dfhiN.Z,5)\n",
    "ax[0].set_xlabel('Depth (m)')\n",
    "ax[1].hist(dfhiN.Year)\n",
    "ax[1].set_xlabel('Year')\n",
    "ax[2].hist(dfhiN.Month)\n",
    "ax[2].set_xlabel('Month')\n",
    "print('Model Nitrate > 36 $\\mu$M')"
   ]
  },
  {
   "cell_type": "code",
   "execution_count": null,
   "metadata": {
    "collapsed": false
   },
   "outputs": [],
   "source": [
    "d1"
   ]
  },
  {
   "cell_type": "code",
   "execution_count": null,
   "metadata": {
    "collapsed": false
   },
   "outputs": [],
   "source": [
    "obc=nc.Dataset('/results/forcing/LiveOcean/boundary_conditions/LiveOcean_v201712_y2016m09d26.nc')\n",
    "obc.variables.keys()"
   ]
  },
  {
   "cell_type": "code",
   "execution_count": null,
   "metadata": {
    "collapsed": false
   },
   "outputs": [],
   "source": [
    "fig,ax=plt.subplots(1,1)\n",
    "m=ax.pcolormesh(obc.variables['xbT'],obc.variables['deptht'][:],obc.variables['NO3'][0,:,0,:])\n",
    "fig.colorbar(m)\n",
    "ax.set_ylim(450,0)\n",
    "ax.set_xlabel('xbT')\n",
    "ax.set_ylabel('Depth')"
   ]
  },
  {
   "cell_type": "code",
   "execution_count": null,
   "metadata": {
    "collapsed": true
   },
   "outputs": [],
   "source": [
    "# is Si also too high?\n",
    "plt.plot(dfhiN['Si'],dfhiN['mod_silicon'],'k.')"
   ]
  },
  {
   "cell_type": "code",
   "execution_count": null,
   "metadata": {
    "collapsed": true
   },
   "outputs": [],
   "source": []
  }
 ],
 "metadata": {
  "anaconda-cloud": {},
  "kernelspec": {
   "display_name": "Python [conda env:python36]",
   "language": "python",
   "name": "conda-env-python36-py"
  },
  "language_info": {
   "codemirror_mode": {
    "name": "ipython",
    "version": 3
   },
   "file_extension": ".py",
   "mimetype": "text/x-python",
   "name": "python",
   "nbconvert_exporter": "python",
   "pygments_lexer": "ipython3",
   "version": "3.6.3"
  }
 },
 "nbformat": 4,
 "nbformat_minor": 2
}
