{
 "cells": [
  {
   "cell_type": "markdown",
   "metadata": {},
   "source": [
    "## DFO Nutrient Comparison"
   ]
  },
  {
   "cell_type": "code",
   "execution_count": 1,
   "metadata": {
    "collapsed": false,
    "jupyter": {
     "outputs_hidden": false
    }
   },
   "outputs": [],
   "source": [
    "import numpy as np\n",
    "import matplotlib.pyplot as plt\n",
    "import os\n",
    "import pandas as pd\n",
    "import netCDF4 as nc\n",
    "import datetime as dt\n",
    "from salishsea_tools import evaltools as et, viz_tools\n",
    "import gsw\n",
    "import matplotlib.gridspec as gridspec\n",
    "import matplotlib as mpl\n",
    "import matplotlib.dates as mdates\n",
    "import cmocean as cmo\n",
    "import scipy.interpolate as sinterp\n",
    "import pickle\n",
    "from matplotlib.colors import LogNorm\n",
    "\n",
    "mpl.rc('xtick', labelsize=10)\n",
    "mpl.rc('ytick', labelsize=10)\n",
    "mpl.rc('legend', fontsize=10)\n",
    "mpl.rc('axes', titlesize=10)\n",
    "mpl.rc('axes', labelsize=10)\n",
    "mpl.rc('figure', titlesize=10)\n",
    "mpl.rc('font', size=10)\n",
    "%matplotlib inline"
   ]
  },
  {
   "cell_type": "markdown",
   "metadata": {},
   "source": [
    "#### Use new dataset including all ctd casts\n",
    "\n",
    "- match using analysis-elise/notebooks/databases/runmatchDFOCTD_201[5-7].py\n",
    "- load below"
   ]
  },
  {
   "cell_type": "code",
   "execution_count": 2,
   "metadata": {
    "collapsed": false,
    "jupyter": {
     "outputs_hidden": false
    }
   },
   "outputs": [
    {
     "ename": "FileNotFoundError",
     "evalue": "[Errno 2] No such file or directory: '/data/eolson/MEOPAR/SS36runs/calcFiles/evalMatches/dataDFOCTDPhys_2015.pkl'",
     "output_type": "error",
     "traceback": [
      "\u001b[0;31m---------------------------------------------------------------------------\u001b[0m",
      "\u001b[0;31mFileNotFoundError\u001b[0m                         Traceback (most recent call last)",
      "\u001b[0;32m<ipython-input-2-33f25a218d96>\u001b[0m in \u001b[0;36m<module>\u001b[0;34m()\u001b[0m\n\u001b[0;32m----> 1\u001b[0;31m \u001b[0mdata2015\u001b[0m\u001b[0;34m=\u001b[0m\u001b[0mpickle\u001b[0m\u001b[0;34m.\u001b[0m\u001b[0mload\u001b[0m\u001b[0;34m(\u001b[0m\u001b[0mopen\u001b[0m\u001b[0;34m(\u001b[0m\u001b[0;34m'/data/eolson/MEOPAR/SS36runs/calcFiles/evalMatches/dataDFOCTDPhys_2015.pkl'\u001b[0m\u001b[0;34m,\u001b[0m\u001b[0;34m'rb'\u001b[0m\u001b[0;34m)\u001b[0m\u001b[0;34m)\u001b[0m\u001b[0;34m\u001b[0m\u001b[0m\n\u001b[0m\u001b[1;32m      2\u001b[0m \u001b[0mdata2016\u001b[0m\u001b[0;34m=\u001b[0m\u001b[0mpickle\u001b[0m\u001b[0;34m.\u001b[0m\u001b[0mload\u001b[0m\u001b[0;34m(\u001b[0m\u001b[0mopen\u001b[0m\u001b[0;34m(\u001b[0m\u001b[0;34m'/data/eolson/MEOPAR/SS36runs/calcFiles/evalMatches/dataDFOCTDPhys_2016.pkl'\u001b[0m\u001b[0;34m,\u001b[0m\u001b[0;34m'rb'\u001b[0m\u001b[0;34m)\u001b[0m\u001b[0;34m)\u001b[0m\u001b[0;34m\u001b[0m\u001b[0m\n\u001b[1;32m      3\u001b[0m \u001b[0mdata2017\u001b[0m\u001b[0;34m=\u001b[0m\u001b[0mpickle\u001b[0m\u001b[0;34m.\u001b[0m\u001b[0mload\u001b[0m\u001b[0;34m(\u001b[0m\u001b[0mopen\u001b[0m\u001b[0;34m(\u001b[0m\u001b[0;34m'/data/eolson/MEOPAR/SS36runs/calcFiles/evalMatches/dataDFOCTDPhys_2017.pkl'\u001b[0m\u001b[0;34m,\u001b[0m\u001b[0;34m'rb'\u001b[0m\u001b[0;34m)\u001b[0m\u001b[0;34m)\u001b[0m\u001b[0;34m\u001b[0m\u001b[0m\n",
      "\u001b[0;31mFileNotFoundError\u001b[0m: [Errno 2] No such file or directory: '/data/eolson/MEOPAR/SS36runs/calcFiles/evalMatches/dataDFOCTDPhys_2015.pkl'"
     ]
    }
   ],
   "source": [
    "#data2015=pickle.load(open('/data/eolson/MEOPAR/SS36runs/calcFiles/evalMatches/dataDFOCTDPhys_2015.pkl','rb'))\n",
    "data2016=pickle.load(open('/data/eolson/MEOPAR/SS36runs/calcFiles/evalMatches/dataDFOCTDPhys_2016.pkl','rb'))\n",
    "data2017=pickle.load(open('/data/eolson/MEOPAR/SS36runs/calcFiles/evalMatches/dataDFOCTDPhys_2017.pkl','rb'))"
   ]
  },
  {
   "cell_type": "code",
   "execution_count": null,
   "metadata": {
    "collapsed": true,
    "jupyter": {
     "outputs_hidden": true
    }
   },
   "outputs": [],
   "source": [
    "data=pd.concat([data2015,data2016,data2017])"
   ]
  },
  {
   "cell_type": "code",
   "execution_count": null,
   "metadata": {
    "collapsed": false,
    "jupyter": {
     "outputs_hidden": false
    }
   },
   "outputs": [],
   "source": [
    "len(data)"
   ]
  },
  {
   "cell_type": "code",
   "execution_count": null,
   "metadata": {
    "collapsed": true,
    "jupyter": {
     "outputs_hidden": true
    }
   },
   "outputs": [],
   "source": [
    "#cm1=plt.get_cmap('PuBuGn')\n",
    "cm1=cmo.cm.thermal"
   ]
  },
  {
   "cell_type": "code",
   "execution_count": null,
   "metadata": {
    "collapsed": false,
    "jupyter": {
     "outputs_hidden": false
    }
   },
   "outputs": [],
   "source": [
    "fig = plt.figure(figsize = (7.5,3.25))\n",
    "gs1=gridspec.GridSpec(1,4,left=.08,right=.91,bottom=.1,top=.97,\n",
    "                      wspace=.2,width_ratios=[1,.1,1,.1])\n",
    "axT=fig.add_subplot(gs1[0,0])\n",
    "axS = fig.add_subplot(gs1[0,2])\n",
    "gscb=gridspec.GridSpecFromSubplotSpec(7,1,subplot_spec=gs1[:,3])\n",
    "axcb = fig.add_subplot(gscb[1:-1])\n",
    "\n",
    "axS.plot((0,36),(0,36),'k-',alpha=.2)\n",
    "axT.plot((0,25),(0,25),'k-',alpha=.2)\n",
    "\n",
    "iiT=(~np.isnan(data['CT']))&(~np.isnan(data['mod_votemper']))\n",
    "iiS=(~np.isnan(data['SA']))&(~np.isnan(data['mod_vosaline']))\n",
    "counts, xedges, yedges, m1=axT.hist2d(data.loc[iiT,['CT']].values.flatten(),\n",
    "                                      data.loc[iiT,['mod_votemper']].values.flatten(),bins=25*3,norm=LogNorm())\n",
    "counts, xedges, yedges, m2=axS.hist2d(data.loc[iiS,['SA']].values.flatten(),\n",
    "                                      data.loc[iiS,['mod_vosaline']].values.flatten(),bins=36*3,norm=LogNorm())\n",
    "\n",
    "cb=fig.colorbar(m1,cax=axcb)\n",
    "cb.set_label('Count')\n",
    "\n",
    "ntick=np.arange(0,36,10)\n",
    "ntickl=[str(i) for i in ntick]\n",
    "axS.set_xlim((0,36))\n",
    "axS.set_ylim((0,36))\n",
    "axS.set_xticks(ntick)\n",
    "axS.set_xticklabels(ntickl)\n",
    "axS.set_yticks(ntick)\n",
    "axS.set_yticklabels(ntickl)\n",
    "    \n",
    "stick=np.arange(0,25,10)\n",
    "stickl=[str(i) for i in stick]\n",
    "axT.set_xlim((0,25))\n",
    "axT.set_ylim((0,25))\n",
    "axT.set_xticks(stick)\n",
    "axT.set_xticklabels(stickl)\n",
    "axT.set_yticks(stick)\n",
    "axT.set_yticklabels(stickl)\n",
    "    \n",
    "for ax in (axT,axS):\n",
    "    ax.set_aspect(1, adjustable='box')\n",
    "    \n",
    "axT.set_ylabel('Modeled',fontsize=12)\n",
    "axS.set_ylabel('Modeled',fontsize=12)\n",
    "axT.set_xlabel('Observed',fontsize=12)\n",
    "axS.set_xlabel('Observed',fontsize=12)\n",
    "\n",
    "axS.set_title('S$_A$ (g/kg)',fontsize=12)\n",
    "axT.set_title('$\\Theta$ ($^{\\circ}$C)',fontsize=12)\n",
    "\n",
    "fig.savefig('/home/eolson/pyCode/notebooks/figs/EvalDFOTSforSusan-2007.png',dpi=400,transparent=True)"
   ]
  },
  {
   "cell_type": "code",
   "execution_count": 7,
   "metadata": {
    "collapsed": false,
    "jupyter": {
     "outputs_hidden": false
    }
   },
   "outputs": [
    {
     "name": "stdout",
     "output_type": "stream",
     "text": [
      "  N: 429340\n",
      "  bias: -0.06544702161081517\n",
      "  RMSE: 0.45977880175637453\n",
      "  WSS: 0.9652771793818098\n"
     ]
    }
   ],
   "source": [
    "et.printstats(data,'CT','mod_votemper')"
   ]
  },
  {
   "cell_type": "code",
   "execution_count": 8,
   "metadata": {
    "collapsed": false,
    "jupyter": {
     "outputs_hidden": false
    }
   },
   "outputs": [
    {
     "name": "stdout",
     "output_type": "stream",
     "text": [
      "  N: 429340\n",
      "  bias: 0.13141665131402647\n",
      "  RMSE: 0.4854504254180709\n",
      "  WSS: 0.9677374557303589\n"
     ]
    }
   ],
   "source": [
    "et.printstats(data,'SA','mod_vosaline')"
   ]
  },
  {
   "cell_type": "markdown",
   "metadata": {},
   "source": [
    "## now show data distribution, informational not pub quality"
   ]
  },
  {
   "cell_type": "code",
   "execution_count": 14,
   "metadata": {
    "collapsed": true,
    "jupyter": {
     "outputs_hidden": true
    }
   },
   "outputs": [],
   "source": [
    "def rotmap(lon,lat,lon0,lat0,phi):\n",
    "    # rotate around point (pick one near center of domain)\n",
    "    # phi in degrees\n",
    "    # first scale lats to match and center around lat0,lon0:\n",
    "    lon1=(lon-lon0)*np.cos(lat0*np.pi/180)\n",
    "    lat1=lat-lat0\n",
    "    # now rotate:\n",
    "    lon2=lon1*np.cos(phi*np.pi/180)-lat1*np.sin(phi*np.pi/180)\n",
    "    lat2=lon1*np.sin(phi*np.pi/180)+lat1*np.cos(phi*np.pi/180)\n",
    "    return lon2,lat2"
   ]
  },
  {
   "cell_type": "code",
   "execution_count": 15,
   "metadata": {
    "collapsed": false,
    "jupyter": {
     "outputs_hidden": false
    }
   },
   "outputs": [],
   "source": [
    "theta=-30\n",
    "lon0=-123.9\n",
    "lat0=49.3\n",
    "with nc.Dataset('/data/eolson/results/MEOPAR/NEMO-forcing-new/grid/bathymetry_201702.nc') as bathy:\n",
    "    bathylon=np.copy(bathy.variables['nav_lon'][:,:])\n",
    "    bathylat=np.copy(bathy.variables['nav_lat'][:,:])\n",
    "    bathyZ=np.copy(bathy.variables['Bathymetry'][:,:])\n",
    "blon,blat=rotmap(bathylon,bathylat,lon0,lat0,theta)"
   ]
  },
  {
   "cell_type": "code",
   "execution_count": 18,
   "metadata": {
    "collapsed": false,
    "jupyter": {
     "outputs_hidden": false
    }
   },
   "outputs": [
    {
     "data": {
      "text/plain": [
       "<matplotlib.text.Annotation at 0x7f1d7a7f92e8>"
      ]
     },
     "execution_count": 18,
     "metadata": {},
     "output_type": "execute_result"
    },
    {
     "data": {
      "image/png": "[encoded data removed]",
      "text/plain": [
       "<matplotlib.figure.Figure at 0x7f1d7a8f6c88>"
      ]
     },
     "metadata": {},
     "output_type": "display_data"
    }
   ],
   "source": [
    "fig = plt.figure(figsize = (3,2))\n",
    "#gsL = gridspec.GridSpec(1,1,left=.08,right=.98,hspace=.2,bottom=.015,top=.94)\n",
    "#axL2015=fig.add_subplot(gsL[0,0])\n",
    "#axL=fig.add_subplot(111)\n",
    "#axL2017=fig.add_subplot(gsL[2,0])\n",
    "gsLmap=gridspec.GridSpec(1,3,left=.08,right=.98,hspace=.2,bottom=.015,top=.94,wspace=.01)\n",
    "axLmap2015=fig.add_subplot(gsLmap[0])\n",
    "axLmap2016=fig.add_subplot(gsLmap[1])\n",
    "axLmap2017=fig.add_subplot(gsLmap[2])\n",
    "\n",
    "#viz_tools.set_aspect(axLmap)\n",
    "for axLi in (axLmap2015,axLmap2016,axLmap2017):\n",
    "    axLi.set_aspect(1, adjustable='box')\n",
    "    contour_lines = axLi.contour(blon,blat,bathyZ,[0],\n",
    "                colors='black',zorder=2,linewidth=.5,alpha=.8)\n",
    "    axLi.set_xlim(-1.02,0.81)\n",
    "    axLi.set_ylim(-1.5,1.8)\n",
    "    axLi.axis('off')\n",
    "datanut2015=data2015.loc[(data2015.CT>=0)|(data2015.SA>=0)]\n",
    "datanut2016=data2016.loc[(data2016.CT>=0)|(data2016.SA>=0)]\n",
    "datanut2017=data2017.loc[(data2017.CT>=0)|(data2017.SA>=0)]\n",
    "#dataChl2015=data2015.loc[(data2015.Chl>=0)]\n",
    "#dataChl2016=data2016.loc[(data2016.Chl>=0)]\n",
    "#dataChl2017=data2017.loc[(data2017.Chl>=0)]\n",
    "lons15,lats15=rotmap(datanut2015['Lon'], datanut2015['Lat'],lon0,lat0,theta)\n",
    "lons16,lats16=rotmap(datanut2016['Lon'], datanut2016['Lat'],lon0,lat0,theta)\n",
    "lons17,lats17=rotmap(datanut2017['Lon'], datanut2017['Lat'],lon0,lat0,theta)\n",
    "#lons15chl,lats15chl=rotmap(dataChl2015['Lon'], dataChl2015['Lat'],lon0,lat0,theta)\n",
    "#lons16chl,lats16chl=rotmap(dataChl2016['Lon'], dataChl2016['Lat'],lon0,lat0,theta)\n",
    "#lons17chl,lats17chl=rotmap(dataChl2017['Lon'], dataChl2017['Lat'],lon0,lat0,theta)\n",
    "axLmap2015.plot(lons15,lats15, '.',color='gold',markersize=1)\n",
    "axLmap2016.plot(lons16,lats16, '.',color='aqua',markersize=1)\n",
    "axLmap2017.plot(lons17,lats17, '.',color='plum',markersize=1)\n",
    "#axLmap2015.plot(lons15chl,lats15chl, '.',color='darkorange',markersize=2)\n",
    "#axLmap2016.plot(lons16chl,lats16chl, '.',color='teal',markersize=2)\n",
    "#axLmap2017.plot(lons17chl,lats17chl, '.',color='darkviolet',markersize=2)\n",
    "axLmap2015.set_title('2015')\n",
    "axLmap2016.set_title('2016')\n",
    "axLmap2017.set_title('2017')\n",
    "axLmap2016.annotate('Observation Locations',xy=[.5,1.14],xycoords='axes fraction',ha='center')"
   ]
  },
  {
   "cell_type": "code",
   "execution_count": 26,
   "metadata": {
    "collapsed": false,
    "jupyter": {
     "outputs_hidden": false
    }
   },
   "outputs": [
    {
     "data": {
      "text/plain": [
       "<matplotlib.lines.Line2D at 0x7f1d7a721550>"
      ]
     },
     "execution_count": 26,
     "metadata": {},
     "output_type": "execute_result"
    },
    {
     "data": {
      "image/png": "[encoded data removed]",
      "text/plain": [
       "<matplotlib.figure.Figure at 0x7f1d7afca7f0>"
      ]
     },
     "metadata": {},
     "output_type": "display_data"
    }
   ],
   "source": [
    "fig,axL=plt.subplots(1,1,figsize=(18,1))\n",
    "p1,=axL.plot(datanut2015.dtUTC,np.zeros(np.shape(datanut2015.dtUTC)),'.',color='gold',markersize=4,label='2015')\n",
    "p2,=axL.plot(datanut2016.dtUTC-dt.datetime(2016,1,1)+dt.datetime(2015,1,1),np.zeros(np.shape(datanut2016.dtUTC))+.1,'.',color='aqua',markersize=4,label='2016')\n",
    "p3,=axL.plot(datanut2017.dtUTC-dt.datetime(2017,1,1)+dt.datetime(2015,1,1),np.zeros(np.shape(datanut2017.dtUTC))+.2,'.',color='plum',markersize=4,label='2017')\n",
    "#p1,=axL.plot(dataChl2015.dtUTC,np.zeros(np.shape(dataChl2015.dtUTC)),'.',color='darkorange',markersize=6,label='2015')\n",
    "#p2,=axL.plot(dataChl2016.dtUTC-dt.datetime(2016,1,1)+dt.datetime(2015,1,1),np.zeros(np.shape(dataChl2016.dtUTC))+.1,'.',color='teal',markersize=6,label='2016')\n",
    "#p3,=axL.plot(dataChl2017.dtUTC-dt.datetime(2017,1,1)+dt.datetime(2015,1,1),np.zeros(np.shape(dataChl2017.dtUTC))+.2,'.',color='darkviolet',markersize=6,label='2017')\n",
    "axL.set_yticks(());\n",
    "yearsFmt = mdates.DateFormatter('%d %b')\n",
    "axL.xaxis.set_major_formatter(yearsFmt)\n",
    "yy=2015\n",
    "axL.xaxis.set_ticks([dt.datetime(int(yy),1,1), dt.datetime(int(yy),3,1),dt.datetime(int(yy),5,1),dt.datetime(int(yy),7,1),\n",
    "                     dt.datetime(int(yy),9,1),dt.datetime(int(yy),11,1),dt.datetime(int(yy)+1,1,1)])\n",
    "#labels=axL.xaxis.get_ticklabels()\n",
    "for tick in axL.get_xticklabels():\n",
    "        tick.set_rotation(90)\n",
    "        tick.set_horizontalalignment('center')\n",
    "axL.set_ylim(-.1,.3)\n",
    "axLpos=axL.get_position()\n",
    "new = mpl.transforms.Bbox.from_bounds(0.05,axLpos.bounds[1],0.44,axLpos.bounds[3])\n",
    "axL.set_position(new)\n",
    "axL.legend(handles=[p1,p2,p3],loc=8,ncol=3,bbox_to_anchor=[.5,-1.3])\n",
    "axL.set_frame_on(False)\n",
    "#axL.axes.get_yaxis().set_visible(False)\n",
    "#axL.axes.get_xaxis().set_visible(True)\n",
    "xmin, xmax = axL.get_xaxis().get_view_interval()\n",
    "ymin, ymax = axL.get_yaxis().get_view_interval()\n",
    "axL.add_artist(mpl.lines.Line2D((xmin, xmax), (ymin, ymin), color='black', linewidth=2))"
   ]
  },
  {
   "cell_type": "code",
   "execution_count": null,
   "metadata": {
    "collapsed": true,
    "jupyter": {
     "outputs_hidden": true
    }
   },
   "outputs": [],
   "source": []
  }
 ],
 "metadata": {
  "anaconda-cloud": {},
  "kernelspec": {
   "display_name": "Python (base)",
   "language": "python",
   "name": "base"
  },
  "language_info": {
   "codemirror_mode": {
    "name": "ipython",
    "version": 3
   },
   "file_extension": ".py",
   "mimetype": "text/x-python",
   "name": "python",
   "nbconvert_exporter": "python",
   "pygments_lexer": "ipython3",
   "version": "3.7.4"
  }
 },
 "nbformat": 4,
 "nbformat_minor": 4
}
