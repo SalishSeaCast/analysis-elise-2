{
 "cells": [
  {
   "cell_type": "code",
   "execution_count": 1,
   "metadata": {},
   "outputs": [],
   "source": [
    "import numpy as np\n",
    "import matplotlib.pyplot as plt\n",
    "from salishsea_tools import evaltools as et, viz_tools\n",
    "import cmocean as cmo\n",
    "import datetime as dt\n",
    "import netCDF4 as nc\n",
    "import matplotlib.dates as mdates\n",
    "import matplotlib as mpl\n",
    "import matplotlib.gridspec as gridspec\n",
    "from matplotlib.colors import LogNorm\n",
    "import cmocean\n",
    "import pandas as pd\n",
    "import pickle\n",
    "import os\n",
    "import gsw\n",
    "\n",
    "%matplotlib inline"
   ]
  },
  {
   "cell_type": "markdown",
   "metadata": {},
   "source": [
    "#### definitions for matching model output"
   ]
  },
  {
   "cell_type": "code",
   "execution_count": 2,
   "metadata": {},
   "outputs": [],
   "source": [
    "# path to model files:\n",
    "PATH= '/results/SalishSea/nowcast-green.201812/'\n",
    "\n",
    "# start and end dates for analysis:\n",
    "start_date = dt.datetime(2015,1,1)\n",
    "end_date = dt.datetime(2016,1,1)\n",
    "\n",
    "# number of days per model file:\n",
    "flen=1\n",
    "\n",
    "# dictionary mapping desired model variables to the file types where they are found\n",
    "filemap={'nitrate':'ptrc_T','silicon':'ptrc_T','ammonium':'ptrc_T','diatoms':'ptrc_T','ciliates':'ptrc_T',\n",
    "         'flagellates':'ptrc_T','vosaline':'grid_T','votemper':'grid_T'}\n",
    "\n",
    "# dictionary mapping model file types to their time resolution in hours (1 is hourly files, 24 is daily)\n",
    "fdict={'ptrc_T':1,'grid_T':1}\n",
    "\n",
    "# results format\n",
    "# -- nowcast: files like 01jan15/SalishSea_1h_20150101_20150101_ptrc_T.nc\n",
    "# -- long: files like SalishSea_1h_20150206_20150804_ptrc_T_20150427-20150506.nc, all in one directory\n",
    "namfmt='nowcast'\n"
   ]
  },
  {
   "cell_type": "markdown",
   "metadata": {},
   "source": [
    "### load WADE nutrient data and create csv file"
   ]
  },
  {
   "cell_type": "code",
   "execution_count": 3,
   "metadata": {},
   "outputs": [],
   "source": [
    "def interpCTDvar(sta,yr,yd,ztarget,ctdvar):\n",
    "    ctdlocs=(dfCTD.Station==sta)&(dfCTD.Year==yr)&(dfCTD.YD==yd)\n",
    "    if np.sum(ctdlocs)==0:\n",
    "        print(f'Warning: Station {sta}, Year {yr}, year day {yd} not found in dfCTD')\n",
    "        return np.nan\n",
    "    else:\n",
    "        val=np.interp(ztarget,dfCTD.loc[ctdlocs,['Z']].values.flatten(),\n",
    "                  dfCTD.loc[ctdlocs,[ctdvar]].values.flatten())\n",
    "        return val"
   ]
  },
  {
   "cell_type": "code",
   "execution_count": 4,
   "metadata": {},
   "outputs": [],
   "source": [
    "# load new datetime info\n",
    "dfTime=pd.read_excel('/ocean/eolson/MEOPAR/obs/WADE/WDE_Data/OlsonSuchyAllen_UBC_PDR_P003790-010721.xlsx',\n",
    "                    engine='openpyxl',sheet_name='EventDateTime')\n",
    "# drop duplicate rows, taking first time\n",
    "dfTime.drop_duplicates(subset=['FlightDate','SiteCode'],keep='first',inplace=True)\n",
    "dfTime['dtPac']=[dt.datetime.combine(idate, itime) for idate, itime \\\n",
    "         in zip(dfTime['FlightDate'],dfTime['TimeDown \\n(Local - PST or PDT)'])]\n",
    "dfTime['dtUTC']=[et.pac_to_utc(ii) for ii in dfTime['dtPac']]\n",
    "# join to date/time\n",
    "dfTime['dtUTC']=[et.pac_to_utc(dt.datetime.combine(idate,itime)) for idate,itime in \\\n",
    "                zip(dfTime['FlightDate'],dfTime['TimeDown \\n(Local - PST or PDT)'])]\n",
    "dfTime2=dfTime.loc[:,['FlightDate','SiteCode','dtUTC']]"
   ]
  },
  {
   "cell_type": "code",
   "execution_count": 5,
   "metadata": {},
   "outputs": [],
   "source": [
    "dfs=dict()\n",
    "for year in range(2015,2019):\n",
    "    PATH= '/results2/SalishSea/nowcast-green.201905/'\n",
    "    datadir='/ocean/eolson/MEOPAR/obs/WADE/ptools_data/ecology'\n",
    "    dfSta=pickle.load(open(os.path.join(datadir,'sta_df.p'),'rb'))\n",
    "    dfCTD0=pickle.load(open(os.path.join(datadir,f'Casts_{str(year)}.p'),'rb'))\n",
    "    dfs0=pd.merge(left=dfSta,right=dfCTD0,how='right',\n",
    "             left_on='Station',right_on='Station')\n",
    "    dfs0.rename(columns={'Latitude':'Lat','Longitude':'Lon'},inplace=True)\n",
    "    # Calculate Absolute (Reference) Salinity (g/kg) and Conservative Temperature (deg C) from \n",
    "    # Salinity (psu) and Temperature (deg C):\n",
    "    dfs0['Z']=-1*dfs0['Z']\n",
    "    press=gsw.p_from_z(-1*dfs0['Z'],dfs0['Lat'])\n",
    "    dfs0['SA']=gsw.SA_from_SP(dfs0['Salinity'],press,\n",
    "                               dfs0['Lon'],dfs0['Lat'])\n",
    "    dfs0['CT']=gsw.CT_from_t(dfs0['SA'],dfs0['Temperature'],press)\n",
    "    # merge time\n",
    "    dfs[year]=pd.merge(left=dfs0,right=dfTime2,how='left',\n",
    "                      left_on=['Date','Station'],right_on=['FlightDate','SiteCode'])\n",
    "    # if no time available, guess midday\n",
    "    dfs[year]['dtUTC']=[iiD+dt.timedelta(hours=20) if pd.isnull(iiU) else iiU \\\n",
    "                    for iiU,iiD in zip(dfs[year]['dtUTC'],dfs[year]['Date'])]\n",
    "    #dfs[year]['Year']=[ii.year for ii in dfs[year]['dtUTC']]\n",
    "    #dfs[year]['YD']=et.datetimeToYD(dfs[year]['dtUTC'])"
   ]
  },
  {
   "cell_type": "code",
   "execution_count": 6,
   "metadata": {},
   "outputs": [
    {
     "data": {
      "text/html": [
       "<div>\n",
       "<style scoped>\n",
       "    .dataframe tbody tr th:only-of-type {\n",
       "        vertical-align: middle;\n",
       "    }\n",
       "\n",
       "    .dataframe tbody tr th {\n",
       "        vertical-align: top;\n",
       "    }\n",
       "\n",
       "    .dataframe thead th {\n",
       "        text-align: right;\n",
       "    }\n",
       "</style>\n",
       "<table border=\"1\" class=\"dataframe\">\n",
       "  <thead>\n",
       "    <tr style=\"text-align: right;\">\n",
       "      <th></th>\n",
       "      <th>Station</th>\n",
       "      <th>Basin</th>\n",
       "      <th>Lat</th>\n",
       "      <th>Lon</th>\n",
       "      <th>Sigma</th>\n",
       "      <th>Chl</th>\n",
       "      <th>Z</th>\n",
       "      <th>SA</th>\n",
       "      <th>CT</th>\n",
       "      <th>SiteCode</th>\n",
       "      <th>dtUTC</th>\n",
       "    </tr>\n",
       "  </thead>\n",
       "  <tbody>\n",
       "    <tr>\n",
       "      <th>0</th>\n",
       "      <td>ADM001</td>\n",
       "      <td>Admiralty Inlet</td>\n",
       "      <td>48.029813</td>\n",
       "      <td>-122.617933</td>\n",
       "      <td>23.311800</td>\n",
       "      <td>0.809025</td>\n",
       "      <td>118.5</td>\n",
       "      <td>30.307274</td>\n",
       "      <td>9.191911</td>\n",
       "      <td>ADM001</td>\n",
       "      <td>2015-01-20 19:14:00</td>\n",
       "    </tr>\n",
       "    <tr>\n",
       "      <th>1</th>\n",
       "      <td>ADM001</td>\n",
       "      <td>Admiralty Inlet</td>\n",
       "      <td>48.029813</td>\n",
       "      <td>-122.617933</td>\n",
       "      <td>23.310699</td>\n",
       "      <td>0.829323</td>\n",
       "      <td>118.0</td>\n",
       "      <td>30.305957</td>\n",
       "      <td>9.192287</td>\n",
       "      <td>ADM001</td>\n",
       "      <td>2015-01-20 19:14:00</td>\n",
       "    </tr>\n",
       "    <tr>\n",
       "      <th>2</th>\n",
       "      <td>ADM001</td>\n",
       "      <td>Admiralty Inlet</td>\n",
       "      <td>48.029813</td>\n",
       "      <td>-122.617933</td>\n",
       "      <td>23.306700</td>\n",
       "      <td>0.791626</td>\n",
       "      <td>117.5</td>\n",
       "      <td>30.301120</td>\n",
       "      <td>9.193727</td>\n",
       "      <td>ADM001</td>\n",
       "      <td>2015-01-20 19:14:00</td>\n",
       "    </tr>\n",
       "    <tr>\n",
       "      <th>3</th>\n",
       "      <td>ADM001</td>\n",
       "      <td>Admiralty Inlet</td>\n",
       "      <td>48.029813</td>\n",
       "      <td>-122.617933</td>\n",
       "      <td>23.304600</td>\n",
       "      <td>0.791626</td>\n",
       "      <td>117.0</td>\n",
       "      <td>30.298496</td>\n",
       "      <td>9.194526</td>\n",
       "      <td>ADM001</td>\n",
       "      <td>2015-01-20 19:14:00</td>\n",
       "    </tr>\n",
       "    <tr>\n",
       "      <th>4</th>\n",
       "      <td>ADM001</td>\n",
       "      <td>Admiralty Inlet</td>\n",
       "      <td>48.029813</td>\n",
       "      <td>-122.617933</td>\n",
       "      <td>23.306299</td>\n",
       "      <td>0.817724</td>\n",
       "      <td>116.5</td>\n",
       "      <td>30.300392</td>\n",
       "      <td>9.193442</td>\n",
       "      <td>ADM001</td>\n",
       "      <td>2015-01-20 19:14:00</td>\n",
       "    </tr>\n",
       "    <tr>\n",
       "      <th>...</th>\n",
       "      <td>...</td>\n",
       "      <td>...</td>\n",
       "      <td>...</td>\n",
       "      <td>...</td>\n",
       "      <td>...</td>\n",
       "      <td>...</td>\n",
       "      <td>...</td>\n",
       "      <td>...</td>\n",
       "      <td>...</td>\n",
       "      <td>...</td>\n",
       "      <td>...</td>\n",
       "    </tr>\n",
       "    <tr>\n",
       "      <th>55880</th>\n",
       "      <td>WPA113</td>\n",
       "      <td>Willapa Bay</td>\n",
       "      <td>46.644000</td>\n",
       "      <td>-123.993000</td>\n",
       "      <td>22.316300</td>\n",
       "      <td>NaN</td>\n",
       "      <td>3.0</td>\n",
       "      <td>29.307299</td>\n",
       "      <td>10.628845</td>\n",
       "      <td>NaN</td>\n",
       "      <td>2018-11-19 20:00:00</td>\n",
       "    </tr>\n",
       "    <tr>\n",
       "      <th>55881</th>\n",
       "      <td>WPA113</td>\n",
       "      <td>Willapa Bay</td>\n",
       "      <td>46.644000</td>\n",
       "      <td>-123.993000</td>\n",
       "      <td>22.249900</td>\n",
       "      <td>NaN</td>\n",
       "      <td>2.5</td>\n",
       "      <td>29.220695</td>\n",
       "      <td>10.627059</td>\n",
       "      <td>NaN</td>\n",
       "      <td>2018-11-19 20:00:00</td>\n",
       "    </tr>\n",
       "    <tr>\n",
       "      <th>55882</th>\n",
       "      <td>WPA113</td>\n",
       "      <td>Willapa Bay</td>\n",
       "      <td>46.644000</td>\n",
       "      <td>-123.993000</td>\n",
       "      <td>22.152100</td>\n",
       "      <td>NaN</td>\n",
       "      <td>2.0</td>\n",
       "      <td>29.092593</td>\n",
       "      <td>10.620385</td>\n",
       "      <td>NaN</td>\n",
       "      <td>2018-11-19 20:00:00</td>\n",
       "    </tr>\n",
       "    <tr>\n",
       "      <th>55883</th>\n",
       "      <td>WPA113</td>\n",
       "      <td>Willapa Bay</td>\n",
       "      <td>46.644000</td>\n",
       "      <td>-123.993000</td>\n",
       "      <td>22.115000</td>\n",
       "      <td>NaN</td>\n",
       "      <td>1.5</td>\n",
       "      <td>29.043971</td>\n",
       "      <td>10.617901</td>\n",
       "      <td>NaN</td>\n",
       "      <td>2018-11-19 20:00:00</td>\n",
       "    </tr>\n",
       "    <tr>\n",
       "      <th>55884</th>\n",
       "      <td>WPA113</td>\n",
       "      <td>Willapa Bay</td>\n",
       "      <td>46.644000</td>\n",
       "      <td>-123.993000</td>\n",
       "      <td>22.094800</td>\n",
       "      <td>NaN</td>\n",
       "      <td>1.0</td>\n",
       "      <td>29.017655</td>\n",
       "      <td>10.617328</td>\n",
       "      <td>NaN</td>\n",
       "      <td>2018-11-19 20:00:00</td>\n",
       "    </tr>\n",
       "  </tbody>\n",
       "</table>\n",
       "<p>211283 rows × 11 columns</p>\n",
       "</div>"
      ],
      "text/plain": [
       "      Station            Basin        Lat         Lon      Sigma       Chl  \\\n",
       "0      ADM001  Admiralty Inlet  48.029813 -122.617933  23.311800  0.809025   \n",
       "1      ADM001  Admiralty Inlet  48.029813 -122.617933  23.310699  0.829323   \n",
       "2      ADM001  Admiralty Inlet  48.029813 -122.617933  23.306700  0.791626   \n",
       "3      ADM001  Admiralty Inlet  48.029813 -122.617933  23.304600  0.791626   \n",
       "4      ADM001  Admiralty Inlet  48.029813 -122.617933  23.306299  0.817724   \n",
       "...       ...              ...        ...         ...        ...       ...   \n",
       "55880  WPA113      Willapa Bay  46.644000 -123.993000  22.316300       NaN   \n",
       "55881  WPA113      Willapa Bay  46.644000 -123.993000  22.249900       NaN   \n",
       "55882  WPA113      Willapa Bay  46.644000 -123.993000  22.152100       NaN   \n",
       "55883  WPA113      Willapa Bay  46.644000 -123.993000  22.115000       NaN   \n",
       "55884  WPA113      Willapa Bay  46.644000 -123.993000  22.094800       NaN   \n",
       "\n",
       "           Z         SA         CT SiteCode               dtUTC  \n",
       "0      118.5  30.307274   9.191911   ADM001 2015-01-20 19:14:00  \n",
       "1      118.0  30.305957   9.192287   ADM001 2015-01-20 19:14:00  \n",
       "2      117.5  30.301120   9.193727   ADM001 2015-01-20 19:14:00  \n",
       "3      117.0  30.298496   9.194526   ADM001 2015-01-20 19:14:00  \n",
       "4      116.5  30.300392   9.193442   ADM001 2015-01-20 19:14:00  \n",
       "...      ...        ...        ...      ...                 ...  \n",
       "55880    3.0  29.307299  10.628845      NaN 2018-11-19 20:00:00  \n",
       "55881    2.5  29.220695  10.627059      NaN 2018-11-19 20:00:00  \n",
       "55882    2.0  29.092593  10.620385      NaN 2018-11-19 20:00:00  \n",
       "55883    1.5  29.043971  10.617901      NaN 2018-11-19 20:00:00  \n",
       "55884    1.0  29.017655  10.617328      NaN 2018-11-19 20:00:00  \n",
       "\n",
       "[211283 rows x 11 columns]"
      ]
     },
     "execution_count": 6,
     "metadata": {},
     "output_type": "execute_result"
    }
   ],
   "source": [
    "dfAll=pd.concat((dfs[2015],dfs[2016],dfs[2017],dfs[2018]))\n",
    "dfAll.drop(columns=['Desig','Descrip','Date','Max_Depth','Salinity','Temperature','FlightDate','DO','Turb'],inplace=True)\n",
    "dfAll"
   ]
  },
  {
   "cell_type": "code",
   "execution_count": 7,
   "metadata": {},
   "outputs": [
    {
     "data": {
      "text/plain": [
       "Index(['Station', 'Basin', 'Lat', 'Lon', 'Sigma', 'Chl', 'Z', 'SA', 'CT',\n",
       "       'SiteCode', 'dtUTC'],\n",
       "      dtype='object')"
      ]
     },
     "execution_count": 7,
     "metadata": {},
     "output_type": "execute_result"
    }
   ],
   "source": [
    "dfAll.keys()"
   ]
  },
  {
   "cell_type": "code",
   "execution_count": 8,
   "metadata": {},
   "outputs": [],
   "source": [
    "\n",
    "dfAll.to_csv('/data/eolson/results/MEOPAR/oldDBs/WADECTD.csv',index=False)"
   ]
  },
  {
   "cell_type": "raw",
   "metadata": {},
   "source": [
    "# load PSF bottle data (returns pandas dataframe)\n",
    "# NO23 is nitrate+nitrate, Si is Silicate; Chl is chlorophyll; Z is depth (m); dtUTC is datetime in UTC\n",
    "# SA is reference salinity (g/kg), CT is Conservative Temperature (deg C)\n",
    "df1=et.loadPSF(loadCTD=True)\n",
    "df1.drop(columns=['pLat','pLon','tdiffH'])\n",
    "print(len(df1))\n",
    "df1.head()"
   ]
  },
  {
   "cell_type": "markdown",
   "metadata": {},
   "source": [
    "### load csv file"
   ]
  },
  {
   "cell_type": "code",
   "execution_count": 9,
   "metadata": {},
   "outputs": [
    {
     "name": "stdout",
     "output_type": "stream",
     "text": [
      "211283\n"
     ]
    },
    {
     "data": {
      "text/html": [
       "<div>\n",
       "<style scoped>\n",
       "    .dataframe tbody tr th:only-of-type {\n",
       "        vertical-align: middle;\n",
       "    }\n",
       "\n",
       "    .dataframe tbody tr th {\n",
       "        vertical-align: top;\n",
       "    }\n",
       "\n",
       "    .dataframe thead th {\n",
       "        text-align: right;\n",
       "    }\n",
       "</style>\n",
       "<table border=\"1\" class=\"dataframe\">\n",
       "  <thead>\n",
       "    <tr style=\"text-align: right;\">\n",
       "      <th></th>\n",
       "      <th>Station</th>\n",
       "      <th>Basin</th>\n",
       "      <th>Lat</th>\n",
       "      <th>Lon</th>\n",
       "      <th>Sigma</th>\n",
       "      <th>Chl</th>\n",
       "      <th>Z</th>\n",
       "      <th>SA</th>\n",
       "      <th>CT</th>\n",
       "      <th>SiteCode</th>\n",
       "      <th>dtUTC</th>\n",
       "    </tr>\n",
       "  </thead>\n",
       "  <tbody>\n",
       "    <tr>\n",
       "      <th>0</th>\n",
       "      <td>ADM001</td>\n",
       "      <td>Admiralty Inlet</td>\n",
       "      <td>48.029813</td>\n",
       "      <td>-122.617933</td>\n",
       "      <td>23.311800</td>\n",
       "      <td>0.809025</td>\n",
       "      <td>118.5</td>\n",
       "      <td>30.307274</td>\n",
       "      <td>9.191911</td>\n",
       "      <td>ADM001</td>\n",
       "      <td>2015-01-20 19:14:00</td>\n",
       "    </tr>\n",
       "    <tr>\n",
       "      <th>1</th>\n",
       "      <td>ADM001</td>\n",
       "      <td>Admiralty Inlet</td>\n",
       "      <td>48.029813</td>\n",
       "      <td>-122.617933</td>\n",
       "      <td>23.310699</td>\n",
       "      <td>0.829323</td>\n",
       "      <td>118.0</td>\n",
       "      <td>30.305957</td>\n",
       "      <td>9.192287</td>\n",
       "      <td>ADM001</td>\n",
       "      <td>2015-01-20 19:14:00</td>\n",
       "    </tr>\n",
       "    <tr>\n",
       "      <th>2</th>\n",
       "      <td>ADM001</td>\n",
       "      <td>Admiralty Inlet</td>\n",
       "      <td>48.029813</td>\n",
       "      <td>-122.617933</td>\n",
       "      <td>23.306700</td>\n",
       "      <td>0.791626</td>\n",
       "      <td>117.5</td>\n",
       "      <td>30.301120</td>\n",
       "      <td>9.193727</td>\n",
       "      <td>ADM001</td>\n",
       "      <td>2015-01-20 19:14:00</td>\n",
       "    </tr>\n",
       "    <tr>\n",
       "      <th>3</th>\n",
       "      <td>ADM001</td>\n",
       "      <td>Admiralty Inlet</td>\n",
       "      <td>48.029813</td>\n",
       "      <td>-122.617933</td>\n",
       "      <td>23.304600</td>\n",
       "      <td>0.791626</td>\n",
       "      <td>117.0</td>\n",
       "      <td>30.298496</td>\n",
       "      <td>9.194526</td>\n",
       "      <td>ADM001</td>\n",
       "      <td>2015-01-20 19:14:00</td>\n",
       "    </tr>\n",
       "    <tr>\n",
       "      <th>4</th>\n",
       "      <td>ADM001</td>\n",
       "      <td>Admiralty Inlet</td>\n",
       "      <td>48.029813</td>\n",
       "      <td>-122.617933</td>\n",
       "      <td>23.306299</td>\n",
       "      <td>0.817724</td>\n",
       "      <td>116.5</td>\n",
       "      <td>30.300392</td>\n",
       "      <td>9.193442</td>\n",
       "      <td>ADM001</td>\n",
       "      <td>2015-01-20 19:14:00</td>\n",
       "    </tr>\n",
       "  </tbody>\n",
       "</table>\n",
       "</div>"
      ],
      "text/plain": [
       "  Station            Basin        Lat         Lon      Sigma       Chl      Z  \\\n",
       "0  ADM001  Admiralty Inlet  48.029813 -122.617933  23.311800  0.809025  118.5   \n",
       "1  ADM001  Admiralty Inlet  48.029813 -122.617933  23.310699  0.829323  118.0   \n",
       "2  ADM001  Admiralty Inlet  48.029813 -122.617933  23.306700  0.791626  117.5   \n",
       "3  ADM001  Admiralty Inlet  48.029813 -122.617933  23.304600  0.791626  117.0   \n",
       "4  ADM001  Admiralty Inlet  48.029813 -122.617933  23.306299  0.817724  116.5   \n",
       "\n",
       "          SA        CT SiteCode               dtUTC  \n",
       "0  30.307274  9.191911   ADM001 2015-01-20 19:14:00  \n",
       "1  30.305957  9.192287   ADM001 2015-01-20 19:14:00  \n",
       "2  30.301120  9.193727   ADM001 2015-01-20 19:14:00  \n",
       "3  30.298496  9.194526   ADM001 2015-01-20 19:14:00  \n",
       "4  30.300392  9.193442   ADM001 2015-01-20 19:14:00  "
      ]
     },
     "execution_count": 9,
     "metadata": {},
     "output_type": "execute_result"
    }
   ],
   "source": [
    "df2=pd.read_csv('/data/eolson/results/MEOPAR/oldDBs/WADECTD.csv')\n",
    "# convert dtUTC back to datetime\n",
    "df2['dtUTC']=[dt.datetime.strptime(ii,'%Y-%m-%d %H:%M:%S') for ii in df2['dtUTC']]\n",
    "print(len(df2))\n",
    "df2.head()"
   ]
  },
  {
   "cell_type": "code",
   "execution_count": 10,
   "metadata": {},
   "outputs": [
    {
     "name": "stdout",
     "output_type": "stream",
     "text": [
      "ferry\n",
      "(Lat,Lon)= 46.453154999999995 -124.00960333333332  not matched to domain\n",
      "(Lat,Lon)= 46.463155 -123.94126833333334  not matched to domain\n",
      "(Lat,Lon)= 46.54537666666667 -123.98016166666666  not matched to domain\n",
      "(Lat,Lon)= 46.644 -123.993  not matched to domain\n",
      "(Lat,Lon)= 46.68676333333333 -123.9735  not matched to domain\n",
      "(Lat,Lon)= 46.70398666666666 -123.83738500000001  not matched to domain\n",
      "(Lat,Lon)= 46.93731333333334 -123.91322333333332  not matched to domain\n",
      "(Lat,Lon)= 46.953421666666664 -124.09295  not matched to domain\n",
      "(Lat,Lon)= 47.21342666666666 -123.07765  not matched to domain\n",
      "progress: 0.0%\n",
      "progress: 9.23395139247987%\n",
      "progress: 18.46790278495974%\n",
      "progress: 27.70185417743961%\n",
      "progress: 36.93580556991948%\n",
      "progress: 46.16975696239935%\n",
      "progress: 55.40370835487922%\n",
      "progress: 64.6376597473591%\n",
      "progress: 73.87161113983896%\n",
      "progress: 83.10556253231883%\n",
      "progress: 92.3395139247987%\n"
     ]
    }
   ],
   "source": [
    "# match model output to observations and return both in a dataframe\n",
    "# the model variables will have their original names prefixed by mod_, eg mod_vosaline\n",
    "# the observation file names are unchanged. \n",
    "data=et.matchData(data=df2,filemap=filemap, fdict=fdict, mod_start=start_date, mod_end=end_date, \n",
    "                  mod_nam_fmt=namfmt, mod_basedir=PATH, mod_flen=flen)"
   ]
  },
  {
   "cell_type": "code",
   "execution_count": 11,
   "metadata": {},
   "outputs": [],
   "source": [
    "#Chl:N ratio used later in plots: grab from appropriate namelist\n",
    "mod_chl_N=et.getChlNRatio(basedir=PATH,nam_fmt=namfmt)"
   ]
  },
  {
   "cell_type": "code",
   "execution_count": 20,
   "metadata": {},
   "outputs": [
    {
     "data": {
      "image/png": "[encoded data removed]",
      "text/plain": [
       "<Figure size 432x432 with 1 Axes>"
      ]
     },
     "metadata": {
      "needs_background": "light"
     },
     "output_type": "display_data"
    }
   ],
   "source": [
    "# plot matched data locations\n",
    "fig, ax = plt.subplots(figsize = (6,6))\n",
    "viz_tools.set_aspect(ax, coords = 'map')\n",
    "ax.plot(data['Lon'], data['Lat'], 'ro',label='matched obs')\n",
    "grid = nc.Dataset('/data/vdo/MEOPAR/NEMO-forcing/grid/bathymetry_201702.nc')\n",
    "viz_tools.plot_coastline(ax, grid, isobath=.001,coords = 'map')\n",
    "ax.set_ylim(47, 49)\n",
    "ax.legend()\n",
    "ax.set_xlim(-124, -122);"
   ]
  },
  {
   "cell_type": "code",
   "execution_count": 13,
   "metadata": {},
   "outputs": [],
   "source": [
    "# create dictionary of dataframe views by year\n",
    "datyr=dict()\n",
    "yy=np.array([ii.year for ii in data['dtUTC']])\n",
    "yys=np.unique(yy)\n",
    "for yr in yys:\n",
    "    datyr[yr]=data.loc[yy==yr]"
   ]
  },
  {
   "cell_type": "code",
   "execution_count": 14,
   "metadata": {},
   "outputs": [
    {
     "data": {
      "text/plain": [
       "<matplotlib.lines.Line2D at 0x7f4db15e41f0>"
      ]
     },
     "execution_count": 14,
     "metadata": {},
     "output_type": "execute_result"
    },
    {
     "data": {
      "image/png": "[encoded data removed]",
      "text/plain": [
       "<Figure size 864x72 with 1 Axes>"
      ]
     },
     "metadata": {
      "needs_background": "light"
     },
     "output_type": "display_data"
    }
   ],
   "source": [
    "# plot matched data sampling times\n",
    "clist=('gold','aqua','plum','c','m','r','g','b','brown','gray')\n",
    "fig,axL=plt.subplots(1,1,figsize=(12,1))\n",
    "for ii, yr in enumerate(yys):\n",
    "    dshift=dt.datetime(yys[0],1,1)-dt.datetime(yr,1,1)\n",
    "    axL.plot(datyr[yr].dtUTC+dshift,np.zeros(np.shape(datyr[yr].dtUTC))+.1*ii,'.',\n",
    "             color=clist[ii],markersize=4,label=str(yr))\n",
    "axL.set_yticks(());\n",
    "yearsFmt = mdates.DateFormatter('%d %b')\n",
    "axL.xaxis.set_major_formatter(yearsFmt)\n",
    "axL.xaxis.set_ticks([dt.datetime(int(yys[0]),1,1), dt.datetime(int(yys[0]),3,1),dt.datetime(int(yys[0]),5,1),dt.datetime(int(yys[0]),7,1),\n",
    "                     dt.datetime(int(yys[0]),9,1),dt.datetime(int(yys[0]),11,1),dt.datetime(int(yys[0])+1,1,1)])\n",
    "for tick in axL.get_xticklabels():\n",
    "        tick.set_rotation(90)\n",
    "        tick.set_horizontalalignment('center')\n",
    "axL.set_ylim(-.1,.1*(len(datyr.keys())+1))\n",
    "axL.set_xlim(dt.datetime(yys[0],1,1),dt.datetime(yys[0],12,31))\n",
    "axL.legend()\n",
    "axL.set_frame_on(False)\n",
    "xmin, xmax = axL.get_xaxis().get_view_interval()\n",
    "ymin, ymax = axL.get_yaxis().get_view_interval()\n",
    "axL.add_artist(mpl.lines.Line2D((xmin, xmax), (ymin, ymin), color='black', linewidth=2))"
   ]
  },
  {
   "cell_type": "markdown",
   "metadata": {},
   "source": [
    "#### Display stats"
   ]
  },
  {
   "cell_type": "code",
   "execution_count": 22,
   "metadata": {},
   "outputs": [
    {
     "name": "stdout",
     "output_type": "stream",
     "text": [
      "SA depth<15:\n",
      "  N: 7910\n",
      "  bias: -0.5188559311472289\n",
      "  RMSE: 1.5541583492257305\n",
      "  WSS: 0.8354347128369622\n",
      "CT depth<15:\n",
      "  N: 7910\n",
      "  bias: 0.03851665034366292\n",
      "  RMSE: 0.8894992822008563\n",
      "  WSS: 0.9629385874655843\n"
     ]
    }
   ],
   "source": [
    "print('SA depth<15:') \n",
    "et.printstats(data.loc[data.Z<15,:],'SA','mod_vosaline')\n",
    "print('CT depth<15:')\n",
    "et.printstats(data.loc[data.Z<15,:],'CT','mod_votemper')"
   ]
  },
  {
   "cell_type": "markdown",
   "metadata": {},
   "source": [
    "### mod vs. obs plots"
   ]
  },
  {
   "cell_type": "code",
   "execution_count": 24,
   "metadata": {},
   "outputs": [
    {
     "data": {
      "text/plain": [
       "Text(0.5, 1.0, 'SA (g/kg)')"
      ]
     },
     "execution_count": 24,
     "metadata": {},
     "output_type": "execute_result"
    },
    {
     "data": {
      "image/png": "[encoded data removed]",
      "text/plain": [
       "<Figure size 576x216 with 3 Axes>"
      ]
     },
     "metadata": {
      "needs_background": "light"
     },
     "output_type": "display_data"
    }
   ],
   "source": [
    "cm1=cmocean.cm.thermal\n",
    "bounds = np.array([0,5,10,35,100,200,250,300,450])\n",
    "norm = mpl.colors.BoundaryNorm(boundaries=bounds, ncolors=256)\n",
    "#pcm = ax[1].pcolormesh(X, Y, Z1, norm=norm, cmap='RdBu_r')\n",
    "fig,ax=plt.subplots(1,2,figsize=(8,3))\n",
    "args={'marker':'.','s':8,'norm':norm}\n",
    "ps=et.varvarScatter(ax[0],data,'CT','mod_votemper','Z',cm=cm1,args=args)\n",
    "ps=et.varvarScatter(ax[1],data,'SA','mod_vosaline','Z',cm=cm1,args=args)\n",
    "\n",
    "cb=fig.colorbar(ps,ax=ax[1],boundaries=np.linspace(0,450,46))\n",
    "cb.set_label('Depth (m)')\n",
    "for iax in ax:\n",
    "    iax.set_ylabel('Model')\n",
    "    iax.set_xlabel('Obs')\n",
    "ax[0].set_title('CT (deg C)')\n",
    "ax[1].set_title('SA (g/kg)')\n"
   ]
  },
  {
   "cell_type": "code",
   "execution_count": null,
   "metadata": {},
   "outputs": [],
   "source": []
  }
 ],
 "metadata": {
  "kernelspec": {
   "display_name": "Python (py39)",
   "language": "python",
   "name": "py39"
  },
  "language_info": {
   "codemirror_mode": {
    "name": "ipython",
    "version": 3
   },
   "file_extension": ".py",
   "mimetype": "text/x-python",
   "name": "python",
   "nbconvert_exporter": "python",
   "pygments_lexer": "ipython3",
   "version": "3.9.1"
  }
 },
 "nbformat": 4,
 "nbformat_minor": 2
}
