{
 "cells": [
  {
   "cell_type": "markdown",
   "metadata": {},
   "source": [
    "## DFO get sampling platform summary"
   ]
  },
  {
   "cell_type": "code",
   "execution_count": 1,
   "metadata": {
    "collapsed": false
   },
   "outputs": [],
   "source": [
    "import numpy as np\n",
    "import matplotlib.pyplot as plt\n",
    "import os\n",
    "import pandas as pd\n",
    "import netCDF4 as nc\n",
    "import datetime as dt\n",
    "from salishsea_tools import evaltools as et, viz_tools\n",
    "import gsw\n",
    "import matplotlib.gridspec as gridspec\n",
    "import matplotlib as mpl\n",
    "import matplotlib.dates as mdates\n",
    "import cmocean as cmo\n",
    "import scipy.interpolate as sinterp\n",
    "import pickle\n",
    "\n",
    "from sqlalchemy import create_engine, case\n",
    "from sqlalchemy.orm import create_session \n",
    "from sqlalchemy.ext.automap import automap_base\n",
    "from sqlalchemy.sql import and_, or_, not_, func\n",
    "\n",
    "mpl.rc('xtick', labelsize=10)\n",
    "mpl.rc('ytick', labelsize=10)\n",
    "mpl.rc('legend', fontsize=10)\n",
    "mpl.rc('axes', titlesize=10)\n",
    "mpl.rc('axes', labelsize=10)\n",
    "mpl.rc('figure', titlesize=10)\n",
    "mpl.rc('font', size=10)\n",
    "%matplotlib inline"
   ]
  },
  {
   "cell_type": "code",
   "execution_count": 7,
   "metadata": {
    "collapsed": false
   },
   "outputs": [],
   "source": [
    "basedir='/ocean/eolson/MEOPAR/obs/DFOOPDB/' \n",
    "dbname='DFO_OcProfDB.sqlite'\n",
    "datelims=(dt.datetime(2015,1,1),dt.datetime(2018,1,1))\n",
    "\n",
    "engine = create_engine('sqlite:///' + basedir + dbname, echo = False)\n",
    "Base = automap_base()\n",
    "# reflect the tables in salish.sqlite:\n",
    "Base.prepare(engine, reflect=True)\n",
    "# mapped classes have been created\n",
    "# existing tables:\n",
    "StationTBL=Base.classes.StationTBL\n",
    "ObsTBL=Base.classes.ObsTBL\n",
    "CalcsTBL=Base.classes.CalcsTBL\n",
    "JDFLocsTBL=Base.classes.JDFLocsTBL\n",
    "session = create_session(bind = engine, autocommit = False, autoflush = True)\n",
    "start_y=datelims[0].year\n",
    "start_m=datelims[0].month\n",
    "start_d=datelims[0].day\n",
    "end_y=datelims[1].year\n",
    "end_m=datelims[1].month\n",
    "end_d=datelims[1].day\n",
    "qry=session.query(StationTBL.StartYear.label('Year'),StationTBL.StartMonth.label('Month'),\n",
    "              StationTBL.StartDay.label('Day'),StationTBL.StartHour.label('Hour'),\n",
    "              StationTBL.Lat,StationTBL.Lon,StationTBL.PLATFORM,\n",
    "             ObsTBL.Pressure,ObsTBL.Depth,ObsTBL.Ammonium,ObsTBL.Ammonium_units,ObsTBL.Chlorophyll_Extracted,\n",
    "             ObsTBL.Chlorophyll_Extracted_units,ObsTBL.Nitrate_plus_Nitrite.label('N'),\n",
    "              ObsTBL.Silicate.label('Si'),ObsTBL.Silicate_units).\\\n",
    "        select_from(StationTBL).join(ObsTBL,ObsTBL.StationTBLID==StationTBL.ID).\\\n",
    "        join(CalcsTBL,CalcsTBL.ObsID==ObsTBL.ID).filter(and_(or_(StationTBL.StartYear>start_y,\n",
    "                                                                 and_(StationTBL.StartYear==start_y, StationTBL.StartMonth>start_m),\n",
    "                                                                 and_(StationTBL.StartYear==start_y, StationTBL.StartMonth==start_m, StationTBL.StartDay>=start_d)),\n",
    "                                                             or_(StationTBL.StartYear<end_y,\n",
    "                                                                 and_(StationTBL.StartYear==start_y,StationTBL.StartMonth<start_m),\n",
    "                                                                 and_(StationTBL.StartYear==start_y,StationTBL.StartMonth==start_m, StationTBL.StartDay<=start_d)),\n",
    "                                                            StationTBL.Lat>47-3/2.5*(StationTBL.Lon+123.5),\n",
    "                                                            StationTBL.Lat<47-3/2.5*(StationTBL.Lon+121),\n",
    "                                                            or_(ObsTBL.Silicate>=0,\n",
    "                                                                ObsTBL.Nitrate_plus_Nitrite>=0)))\n",
    "qsub=qry.subquery()"
   ]
  },
  {
   "cell_type": "code",
   "execution_count": 9,
   "metadata": {
    "collapsed": false
   },
   "outputs": [],
   "source": [
    "q2=session.query(qsub.c.PLATFORM,func.count(qsub.c.PLATFORM).label('Count')).group_by(qsub.c.PLATFORM)\n",
    "df2=q2.all()"
   ]
  },
  {
   "cell_type": "code",
   "execution_count": 10,
   "metadata": {
    "collapsed": false
   },
   "outputs": [
    {
     "data": {
      "text/plain": [
       "[('John P. Tully', 670),\n",
       " ('Sea Crest', 6),\n",
       " ('Vector', 3220),\n",
       " ('W.E. Ricker', 64)]"
      ]
     },
     "execution_count": 10,
     "metadata": {},
     "output_type": "execute_result"
    }
   ],
   "source": [
    "df2"
   ]
  },
  {
   "cell_type": "code",
   "execution_count": null,
   "metadata": {
    "collapsed": true
   },
   "outputs": [],
   "source": []
  }
 ],
 "metadata": {
  "anaconda-cloud": {},
  "kernelspec": {
   "display_name": "Python [conda env:python36]",
   "language": "python",
   "name": "conda-env-python36-py"
  },
  "language_info": {
   "codemirror_mode": {
    "name": "ipython",
    "version": 3
   },
   "file_extension": ".py",
   "mimetype": "text/x-python",
   "name": "python",
   "nbconvert_exporter": "python",
   "pygments_lexer": "ipython3",
   "version": "3.6.3"
  }
 },
 "nbformat": 4,
 "nbformat_minor": 2
}
