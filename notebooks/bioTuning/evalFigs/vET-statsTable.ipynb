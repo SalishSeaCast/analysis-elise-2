{
 "cells": [
  {
   "cell_type": "markdown",
   "metadata": {},
   "source": [
    "## make Stats Table and print to csv or LaTeX file"
   ]
  },
  {
   "cell_type": "code",
   "execution_count": 1,
   "metadata": {
    "collapsed": false
   },
   "outputs": [],
   "source": [
    "import numpy as np\n",
    "import matplotlib.pyplot as plt\n",
    "import os\n",
    "import pandas as pd\n",
    "import netCDF4 as nc\n",
    "import datetime as dt\n",
    "from salishsea_tools import evaltools as et\n",
    "import pickle\n",
    "%matplotlib inline"
   ]
  },
  {
   "cell_type": "code",
   "execution_count": 2,
   "metadata": {
    "collapsed": true
   },
   "outputs": [],
   "source": [
    "chlToN=2.0"
   ]
  },
  {
   "cell_type": "code",
   "execution_count": 3,
   "metadata": {
    "collapsed": true
   },
   "outputs": [],
   "source": [
    "data=dict()\n",
    "data['DFOBio']=pickle.load(open('/data/eolson/MEOPAR/SS36runs/calcFiles/evalMatches/dataDFO.pkl','rb'))\n",
    "data['HakaiBio']=pickle.load(open('/data/eolson/MEOPAR/SS36runs/calcFiles/evalMatches/dataHakai.pkl','rb'))\n",
    "data['PSFBio']=pickle.load(open('/data/eolson/MEOPAR/SS36runs/calcFiles/evalMatches/dataPSF.pkl','rb'))\n",
    "data['DFOPhys']=pickle.load(open('/data/eolson/MEOPAR/SS36runs/calcFiles/evalMatches/dataDFOPhys.pkl','rb'))\n",
    "data['HakaiPhys']=pickle.load(open('/data/eolson/MEOPAR/SS36runs/calcFiles/evalMatches/dataHakaiPhys.pkl','rb'))\n",
    "data['PSFPhys']=pickle.load(open('/data/eolson/MEOPAR/SS36runs/calcFiles/evalMatches/dataPSFPhys.pkl','rb'))"
   ]
  },
  {
   "cell_type": "code",
   "execution_count": 4,
   "metadata": {
    "collapsed": false
   },
   "outputs": [
    {
     "name": "stdout",
     "output_type": "stream",
     "text": [
      "DFOBio\n",
      "{'Ammonium_units', 'mod_ciliates', 'mod_ammonium', 'mod_silicon', 'mod_vosaline', 'Silicate_units', 'Ammonium', 'AbsSal', 'Chlorophyll_Extracted_units', 'mod_nitrate', 'mod_flagellates', 'mod_votemper', 'N', 'Chlorophyll_Extracted', 'Si', 'ConsT', 'mod_diatoms'}\n",
      " \n",
      "HakaiBio\n",
      "{'Station', 'NO2+NO3 (uM)', 'mod_ciliates', 'mod_ammonium', 'mod_silicon', 'mod_vosaline', 'CT', 'mod_nitrate', 'mod_flagellates', 'mod_votemper', 'SiO2', 'SA', 'mod_diatoms', 'PO4'}\n",
      " \n",
      "PSFBio\n",
      "{'Depth_m', 'Station', 'mod_ciliates', 'mod_ammonium', 'mod_silicon', 'mod_vosaline', 'Phaeo', 'NO23', 'mod_nitrate', 'mod_flagellates', 'Chl', 'mod_votemper', 'Si', 'mod_diatoms', 'PO4'}\n",
      " \n",
      "DFOPhys\n",
      "{'Ammonium_units', 'mod_ciliates', 'mod_ammonium', 'mod_silicon', 'mod_vosaline', 'Silicate_units', 'Ammonium', 'AbsSal', 'Chlorophyll_Extracted_units', 'mod_nitrate', 'mod_flagellates', 'mod_votemper', 'N', 'Chlorophyll_Extracted', 'Si', 'ConsT', 'mod_diatoms'}\n",
      " \n",
      "HakaiPhys\n",
      "{'Station', 'mod_vosaline', 'CT', 'AbsSal', 'mod_votemper', 'SA', 'ConsT'}\n",
      " \n",
      "PSFPhys\n",
      "{'Phaeo', 'NO23', 'Chl', 'pLat', 'mod_ammonium', 'AbsSal', 'SA', 'pLon', 'Depth_m', 'mod_vosaline', 'CT', 'mod_nitrate', 'mod_flagellates', 'PO4', 'tdiffH', 'Station', 'mod_ciliates', 'mod_silicon', 'mod_votemper', 'Si', 'ConsT', 'mod_diatoms'}\n",
      " \n"
     ]
    }
   ],
   "source": [
    "for el in data.keys():\n",
    "    print(el)\n",
    "    print(set(data[el].keys())-set(('Year','Month','Day','Hour','Lat','Lon','i','j','Pressure','Depth','Z','dtUTC','pZ')))\n",
    "    print(' ')"
   ]
  },
  {
   "cell_type": "code",
   "execution_count": 5,
   "metadata": {
    "collapsed": true
   },
   "outputs": [],
   "source": [
    "data['DFOBio']['Chl']=data['DFOBio']['Chlorophyll_Extracted']\n",
    "data['DFOBio']['mod_chl']=chlToN*(data['DFOBio']['mod_diatoms']+data['DFOBio']['mod_ciliates']+data['DFOBio']['mod_flagellates'])\n",
    "data['HakaiBio']['N']=data['HakaiBio']['NO2+NO3 (uM)']\n",
    "data['HakaiBio']['Si']=data['HakaiBio']['SiO2']\n",
    "data['PSFBio']['N']=data['PSFBio']['NO23']\n",
    "data['PSFBio']['mod_chl']=chlToN*(data['PSFBio']['mod_diatoms']+data['PSFBio']['mod_ciliates']+data['PSFBio']['mod_flagellates'])\n",
    "data['DFOPhys']['SA']=data['DFOPhys']['AbsSal']\n",
    "data['DFOPhys']['CT']=data['DFOPhys']['ConsT']\n",
    "data['PSFPhys']['CT']=data['PSFPhys']['ConsT']"
   ]
  },
  {
   "cell_type": "code",
   "execution_count": 6,
   "metadata": {
    "collapsed": true
   },
   "outputs": [],
   "source": [
    "lines=list()\n",
    "lines.append(r'   \\small'+'\\n')\n",
    "lines.append(r'   \\centering'+'\\n')\n",
    "lines.append(r'   \\begin{tabular}{rrrrrrcrrrrrcrrrrr}\\toprule'+'\\n')\n",
    "lines.append(r'     & \\multicolumn{5}{c}{DFO} & \\phantom{abc} &\\multicolumn{5}{c}{PSF} & \\phantom{abc}  & \\multicolumn{5}{c}{Hakai}  \\\\'+'\\n')\n",
    "lines.append(r'    \\cmidrule{2-6} \\cmidrule{8-12} \\cmidrule{14-18}'+'\\n')\n",
    "lines.append(r'      & Mod{} Mean & Bias & RMSE & WSS & N & & Mod{} Mean & Bias & RMSE & WSS & N & & Mod{} Mean & Bias & RMSE & WSS & N \\\\'+'\\n')\n",
    "lines.append(r'    \\addlinespace[.1cm]'+'\\n')"
   ]
  },
  {
   "cell_type": "code",
   "execution_count": 7,
   "metadata": {
    "collapsed": true
   },
   "outputs": [],
   "source": [
    "zsurf=15"
   ]
  },
  {
   "cell_type": "code",
   "execution_count": 8,
   "metadata": {
    "collapsed": false
   },
   "outputs": [],
   "source": [
    "#NO3\n",
    "units='$\\mu$M N'\n",
    "lines.append(r'    \\multicolumn{1}{l}{\\textbf{NO$_3$}} & \\multicolumn{1}{c}{'+units+r'} &\\multicolumn{1}{c}{'+units+r'} & \\multicolumn{1}{c}{'+units+r'} & & & & \\multicolumn{1}{c}{'+units+r'} & \\multicolumn{1}{c}{'+units+r'} & \\multicolumn{1}{c}{'+units+r'} & & & & \\multicolumn{1}{c}{'+units+r'} & \\multicolumn{1}{c}{'+units+r'} & \\multicolumn{1}{c}{'+units+r'} & & \\\\ '+'\\n')\n",
    "ovar='N'\n",
    "mvar='mod_nitrate'\n",
    "st=dict()\n",
    "for src in ('DFO','PSF','Hakai'):\n",
    "    st[src]=dict()\n",
    "    d=data[src+'Bio']\n",
    "    st[src]['all']=et.stats(d[ovar],d[mvar])\n",
    "    ii=(d['Z']<=zsurf)\n",
    "    st[src]['surf']=et.stats(d.loc[ii,[ovar]],d.loc[ii,[mvar]])\n",
    "    ii=(d['dtUTC']>=dt.datetime(2015,1,1))&(d['dtUTC']<dt.datetime(2016,1,1))\n",
    "    st[src]['2015']=et.stats(d.loc[ii,[ovar]],d.loc[ii,[mvar]])\n",
    "    ii=(d['dtUTC']>=dt.datetime(2016,1,1))&(d['dtUTC']<dt.datetime(2017,1,1))\n",
    "    st[src]['2016']=et.stats(d.loc[ii,[ovar]],d.loc[ii,[mvar]])\n",
    "    ii=(d['dtUTC']>=dt.datetime(2017,1,1))&(d['dtUTC']<dt.datetime(2018,1,1))\n",
    "    st[src]['2017']=et.stats(d.loc[ii,[ovar]],d.loc[ii,[mvar]])\n",
    "subsets={'all':'all','surf':'z $\\leq$ '+str(zsurf)+' m','2015':'2015','2016':'2016','2017':'2017'}\n",
    "\n",
    "for ss in ('all','surf','2015','2016','2017'):\n",
    "    lines.append(r'     {}        & {:.2f} & {:.2f} & {:.2f} & {:.2f} & {:d} && {:.2f} & {:.2f} & {:.2f} & {:.2f} & {:d} && {:.2f} & {:.2f} & {:.2f} & {:.2f} & {:d} \\\\'.format(\n",
    "        subsets[ss],st['DFO'][ss][1],st['DFO'][ss][3],st['DFO'][ss][4],st['DFO'][ss][5],st['DFO'][ss][0],\n",
    "                    st['PSF'][ss][1],st['PSF'][ss][3],st['PSF'][ss][4],st['PSF'][ss][5],st['PSF'][ss][0],\n",
    "                    st['Hakai'][ss][1],st['Hakai'][ss][3],st['Hakai'][ss][4],st['Hakai'][ss][5],st['Hakai'][ss][0]))\n",
    "lines.append(r'    \\addlinespace[.1cm]'+'\\n')"
   ]
  },
  {
   "cell_type": "code",
   "execution_count": 9,
   "metadata": {
    "collapsed": false
   },
   "outputs": [],
   "source": [
    "#Si\n",
    "units='$\\mu$M N'\n",
    "lines.append(r'    \\multicolumn{1}{l}{\\textbf{dSi}} & \\multicolumn{1}{c}{'+units+r'} &\\multicolumn{1}{c}{'+units+r'} & \\multicolumn{1}{c}{'+units+r'} & & & & \\multicolumn{1}{c}{'+units+r'} & \\multicolumn{1}{c}{'+units+r'} & \\multicolumn{1}{c}{'+units+r'} & & & & \\multicolumn{1}{c}{'+units+r'} & \\multicolumn{1}{c}{'+units+r'} & \\multicolumn{1}{c}{'+units+r'} & & \\\\ '+'\\n')\n",
    "ovar='Si'\n",
    "mvar='mod_silicon'\n",
    "st=dict()\n",
    "for src in ('DFO','PSF','Hakai'):\n",
    "    st[src]=dict()\n",
    "    d=data[src+'Bio']\n",
    "    st[src]['all']=et.stats(d[ovar],d[mvar])\n",
    "    ii=(d['Z']<=zsurf)\n",
    "    st[src]['surf']=et.stats(d.loc[ii,[ovar]],d.loc[ii,[mvar]])\n",
    "    ii=(d['dtUTC']>=dt.datetime(2015,1,1))&(d['dtUTC']<dt.datetime(2016,1,1))\n",
    "    st[src]['2015']=et.stats(d.loc[ii,[ovar]],d.loc[ii,[mvar]])\n",
    "    ii=(d['dtUTC']>=dt.datetime(2016,1,1))&(d['dtUTC']<dt.datetime(2017,1,1))\n",
    "    st[src]['2016']=et.stats(d.loc[ii,[ovar]],d.loc[ii,[mvar]])\n",
    "    ii=(d['dtUTC']>=dt.datetime(2017,1,1))&(d['dtUTC']<dt.datetime(2018,1,1))\n",
    "    st[src]['2017']=et.stats(d.loc[ii,[ovar]],d.loc[ii,[mvar]])\n",
    "\n",
    "for ss in ('all','surf','2015','2016','2017'):\n",
    "    lines.append(r'     {}        & {:.2f} & {:.2f} & {:.2f} & {:.2f} & {:d} && {:.2f} & {:.2f} & {:.2f} & {:.2f} & {:d} && {:.2f} & {:.2f} & {:.2f} & {:.2f} & {:d} \\\\'.format(\n",
    "        subsets[ss],st['DFO'][ss][1],st['DFO'][ss][3],st['DFO'][ss][4],st['DFO'][ss][5],st['DFO'][ss][0],\n",
    "                    st['PSF'][ss][1],st['PSF'][ss][3],st['PSF'][ss][4],st['PSF'][ss][5],st['PSF'][ss][0],\n",
    "                    st['Hakai'][ss][1],st['Hakai'][ss][3],st['Hakai'][ss][4],st['Hakai'][ss][5],st['Hakai'][ss][0]))\n",
    "lines.append(r'    \\addlinespace[.1cm]'+'\\n')"
   ]
  },
  {
   "cell_type": "code",
   "execution_count": 10,
   "metadata": {
    "collapsed": false
   },
   "outputs": [],
   "source": [
    "#Chl\n",
    "units='$\\mu$g L$^{-1}$'\n",
    "lines.append(r'    \\multicolumn{1}{l}{\\textbf{Chl}} & \\multicolumn{1}{c}{'+units+r'} &\\multicolumn{1}{c}{'+units+r'} & \\multicolumn{1}{c}{'+units+r'} & & & & \\multicolumn{1}{c}{'+units+r'} & \\multicolumn{1}{c}{'+units+r'} & \\multicolumn{1}{c}{'+units+r'} & & & & \\multicolumn{1}{c}{'+units+r'} & \\multicolumn{1}{c}{'+units+r'} & \\multicolumn{1}{c}{'+units+r'} & & \\\\ '+'\\n')\n",
    "ovar='Chl'\n",
    "mvar='mod_chl'\n",
    "st=dict()\n",
    "for src in ('DFO','PSF'):\n",
    "    st[src]=dict()\n",
    "    d=data[src+'Bio']\n",
    "    st[src]['all']=et.stats(d[ovar],d[mvar])\n",
    "    ii=(d['Z']<=zsurf)\n",
    "    st[src]['surf']=et.stats(d.loc[ii,[ovar]],d.loc[ii,[mvar]])\n",
    "    ii=(d['dtUTC']>=dt.datetime(2015,1,1))&(d['dtUTC']<dt.datetime(2016,1,1))\n",
    "    st[src]['2015']=et.stats(d.loc[ii,[ovar]],d.loc[ii,[mvar]])\n",
    "    ii=(d['dtUTC']>=dt.datetime(2016,1,1))&(d['dtUTC']<dt.datetime(2017,1,1))\n",
    "    st[src]['2016']=et.stats(d.loc[ii,[ovar]],d.loc[ii,[mvar]])\n",
    "    ii=(d['dtUTC']>=dt.datetime(2017,1,1))&(d['dtUTC']<dt.datetime(2018,1,1))\n",
    "    st[src]['2017']=et.stats(d.loc[ii,[ovar]],d.loc[ii,[mvar]])\n",
    "\n",
    "for ss in ('all','surf','2015','2016','2017'):\n",
    "    lines.append(r'     {}        & {:.2f} & {:.2f} & {:.2f} & {:.2f} & {:d} && {:.2f} & {:.2f} & {:.2f} & {:.2f} & {:d} && {} & {} & {} & {} & {} \\\\'.format(\n",
    "        subsets[ss],st['DFO'][ss][1],st['DFO'][ss][3],st['DFO'][ss][4],st['DFO'][ss][5],st['DFO'][ss][0],\n",
    "                    st['PSF'][ss][1],st['PSF'][ss][3],st['PSF'][ss][4],st['PSF'][ss][5],st['PSF'][ss][0],\n",
    "                    ' ',' ',' ',' ',' '))\n",
    "lines.append(r'    \\addlinespace[.1cm]'+'\\n')"
   ]
  },
  {
   "cell_type": "code",
   "execution_count": 11,
   "metadata": {
    "collapsed": true
   },
   "outputs": [],
   "source": [
    "#T\n",
    "units='$^{\\circ}$C'\n",
    "lines.append(r'    \\multicolumn{1}{l}{\\textbf{$\\Theta$}} & \\multicolumn{1}{c}{'+units+r'} &\\multicolumn{1}{c}{'+units+r'} & \\multicolumn{1}{c}{'+units+r'} & & & & \\multicolumn{1}{c}{'+units+r'} & \\multicolumn{1}{c}{'+units+r'} & \\multicolumn{1}{c}{'+units+r'} & & & & \\multicolumn{1}{c}{'+units+r'} & \\multicolumn{1}{c}{'+units+r'} & \\multicolumn{1}{c}{'+units+r'} & & \\\\ '+'\\n')\n",
    "ovar='CT'\n",
    "mvar='mod_votemper'\n",
    "st=dict()\n",
    "for src in ('DFO','PSF','Hakai'):\n",
    "    st[src]=dict()\n",
    "    d=data[src+'Phys']\n",
    "    st[src]['all']=et.stats(d[ovar],d[mvar])\n",
    "    ii=(d['Z']<=zsurf)\n",
    "    st[src]['surf']=et.stats(d.loc[ii,[ovar]],d.loc[ii,[mvar]])\n",
    "    ii=(d['dtUTC']>=dt.datetime(2015,1,1))&(d['dtUTC']<dt.datetime(2016,1,1))\n",
    "    st[src]['2015']=et.stats(d.loc[ii,[ovar]],d.loc[ii,[mvar]])\n",
    "    ii=(d['dtUTC']>=dt.datetime(2016,1,1))&(d['dtUTC']<dt.datetime(2017,1,1))\n",
    "    st[src]['2016']=et.stats(d.loc[ii,[ovar]],d.loc[ii,[mvar]])\n",
    "    ii=(d['dtUTC']>=dt.datetime(2017,1,1))&(d['dtUTC']<dt.datetime(2018,1,1))\n",
    "    st[src]['2017']=et.stats(d.loc[ii,[ovar]],d.loc[ii,[mvar]])\n",
    "\n",
    "for ss in ('all','surf','2015','2016','2017'):\n",
    "    lines.append(r'     {}        & {:.2f} & {:.2f} & {:.2f} & {:.2f} & {:d} && {:.2f} & {:.2f} & {:.2f} & {:.2f} & {:d} && {:.2f} & {:.2f} & {:.2f} & {:.2f} & {:d} \\\\'.format(\n",
    "        subsets[ss],st['DFO'][ss][1],st['DFO'][ss][3],st['DFO'][ss][4],st['DFO'][ss][5],st['DFO'][ss][0],\n",
    "                    st['PSF'][ss][1],st['PSF'][ss][3],st['PSF'][ss][4],st['PSF'][ss][5],st['PSF'][ss][0],\n",
    "                    st['Hakai'][ss][1],st['Hakai'][ss][3],st['Hakai'][ss][4],st['Hakai'][ss][5],st['Hakai'][ss][0]))\n",
    "lines.append(r'    \\addlinespace[.1cm]'+'\\n')"
   ]
  },
  {
   "cell_type": "code",
   "execution_count": 12,
   "metadata": {
    "collapsed": false
   },
   "outputs": [],
   "source": [
    "#S\n",
    "units='g kg$^{-1}$'\n",
    "lines.append(r'    \\multicolumn{1}{l}{\\textbf{S$_A$}} & \\multicolumn{1}{c}{'+units+r'} &\\multicolumn{1}{c}{'+units+r'} & \\multicolumn{1}{c}{'+units+r'} & & & & \\multicolumn{1}{c}{'+units+r'} & \\multicolumn{1}{c}{'+units+r'} & \\multicolumn{1}{c}{'+units+r'} & & & & \\multicolumn{1}{c}{'+units+r'} & \\multicolumn{1}{c}{'+units+r'} & \\multicolumn{1}{c}{'+units+r'} & & \\\\ '+'\\n')\n",
    "ovar='SA'\n",
    "mvar='mod_vosaline'\n",
    "st=dict()\n",
    "for src in ('DFO','PSF','Hakai'):\n",
    "    st[src]=dict()\n",
    "    d=data[src+'Phys']\n",
    "    st[src]['all']=et.stats(d[ovar],d[mvar])\n",
    "    ii=(d['Z']<=zsurf)\n",
    "    st[src]['surf']=et.stats(d.loc[ii,[ovar]],d.loc[ii,[mvar]])\n",
    "    ii=(d['dtUTC']>=dt.datetime(2015,1,1))&(d['dtUTC']<dt.datetime(2016,1,1))\n",
    "    st[src]['2015']=et.stats(d.loc[ii,[ovar]],d.loc[ii,[mvar]])\n",
    "    ii=(d['dtUTC']>=dt.datetime(2016,1,1))&(d['dtUTC']<dt.datetime(2017,1,1))\n",
    "    st[src]['2016']=et.stats(d.loc[ii,[ovar]],d.loc[ii,[mvar]])\n",
    "    ii=(d['dtUTC']>=dt.datetime(2017,1,1))&(d['dtUTC']<dt.datetime(2018,1,1))\n",
    "    st[src]['2017']=et.stats(d.loc[ii,[ovar]],d.loc[ii,[mvar]])\n",
    "\n",
    "for ss in ('all','surf','2015','2016','2017'):\n",
    "    lines.append(r'     {}        & {:.2f} & {:.2f} & {:.2f} & {:.2f} & {:d} && {:.2f} & {:.2f} & {:.2f} & {:.2f} & {:d} && {:.2f} & {:.2f} & {:.2f} & {:.2f} & {:d} \\\\'.format(\n",
    "        subsets[ss],st['DFO'][ss][1],st['DFO'][ss][3],st['DFO'][ss][4],st['DFO'][ss][5],st['DFO'][ss][0],\n",
    "                    st['PSF'][ss][1],st['PSF'][ss][3],st['PSF'][ss][4],st['PSF'][ss][5],st['PSF'][ss][0],\n",
    "                    st['Hakai'][ss][1],st['Hakai'][ss][3],st['Hakai'][ss][4],st['Hakai'][ss][5],st['Hakai'][ss][0]))\n",
    "lines.append(r'    \\addlinespace[.1cm]'+'\\n')"
   ]
  },
  {
   "cell_type": "code",
   "execution_count": 13,
   "metadata": {
    "collapsed": true
   },
   "outputs": [],
   "source": [
    "lines.append(r'   \\midrule'+'\\n')\n",
    "lines.append(r'   \\end{tabular}'+'\\n')"
   ]
  },
  {
   "cell_type": "code",
   "execution_count": 14,
   "metadata": {
    "collapsed": false
   },
   "outputs": [],
   "source": [
    "f = open('/data/eolson/results/MEOPAR/biomodelevalpaper/newstatsTBL.tex', 'w')\n",
    "f.writelines(lines)\n",
    "f.close()"
   ]
  },
  {
   "cell_type": "code",
   "execution_count": null,
   "metadata": {
    "collapsed": true
   },
   "outputs": [],
   "source": []
  },
  {
   "cell_type": "code",
   "execution_count": null,
   "metadata": {
    "collapsed": true
   },
   "outputs": [],
   "source": []
  },
  {
   "cell_type": "code",
   "execution_count": null,
   "metadata": {
    "collapsed": true
   },
   "outputs": [],
   "source": []
  },
  {
   "cell_type": "code",
   "execution_count": null,
   "metadata": {
    "collapsed": true
   },
   "outputs": [],
   "source": []
  }
 ],
 "metadata": {
  "anaconda-cloud": {},
  "kernelspec": {
   "display_name": "Python [conda env:python36]",
   "language": "python",
   "name": "conda-env-python36-py"
  },
  "language_info": {
   "codemirror_mode": {
    "name": "ipython",
    "version": 3
   },
   "file_extension": ".py",
   "mimetype": "text/x-python",
   "name": "python",
   "nbconvert_exporter": "python",
   "pygments_lexer": "ipython3",
   "version": "3.6.3"
  }
 },
 "nbformat": 4,
 "nbformat_minor": 2
}
