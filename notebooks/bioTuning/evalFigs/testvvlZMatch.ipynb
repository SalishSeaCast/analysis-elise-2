{
 "cells": [
  {
   "cell_type": "markdown",
   "metadata": {},
   "source": [
    "## DFO Nutrient Comparison"
   ]
  },
  {
   "cell_type": "code",
   "execution_count": 1,
   "metadata": {
    "collapsed": false
   },
   "outputs": [],
   "source": [
    "import numpy as np\n",
    "import matplotlib.pyplot as plt\n",
    "import os\n",
    "import pandas as pd\n",
    "import netCDF4 as nc\n",
    "import datetime as dt\n",
    "from salishsea_tools import evaltools as et, viz_tools\n",
    "import gsw\n",
    "import matplotlib.gridspec as gridspec\n",
    "import matplotlib as mpl\n",
    "import matplotlib.dates as mdates\n",
    "import cmocean as cmo\n",
    "import scipy.interpolate as sinterp\n",
    "import pickle\n",
    "import cmocean\n",
    "\n",
    "mpl.rc('xtick', labelsize=8)\n",
    "mpl.rc('ytick', labelsize=8)\n",
    "mpl.rc('legend', fontsize=8)\n",
    "mpl.rc('axes', titlesize=8)\n",
    "mpl.rc('axes', labelsize=8)\n",
    "mpl.rc('figure', titlesize=8)\n",
    "mpl.rc('font', size=8)\n",
    "mpl.rc('text', usetex=True)\n",
    "mpl.rc('text.latex', preamble = ','.join(r'''\n",
    " \\usepackage{txfonts}\n",
    " \\usepackage{lmodern}\n",
    " '''.split()))\n",
    "mpl.rc('font', family='sans-serif', weight='normal', style='normal')\n",
    "\n",
    "%matplotlib inline"
   ]
  },
  {
   "cell_type": "code",
   "execution_count": 2,
   "metadata": {
    "collapsed": true
   },
   "outputs": [],
   "source": [
    "mod_basedir= '/data/eolson/results/MEOPAR/SS36runs/linkHC201812/'\n",
    "mod_start = dt.datetime(2015,1,1)\n",
    "mod_end = dt.datetime(2018,1,1)\n",
    "mod_flen=1\n",
    "mod_nam_fmt='nowcast'\n",
    "filemap={'nitrate':'ptrc_T','silicon':'ptrc_T','vosaline':'grid_T','votemper':'grid_T','e3t':'carp_T','PPDIAT':'dia2_T'}\n",
    "fdict={'ptrc_T':1,'grid_T':1,'carp_T':1,'dia2_T':24}\n",
    "data=et.loadDFO(datelims=(mod_start,mod_end)).head(200)"
   ]
  },
  {
   "cell_type": "code",
   "execution_count": 3,
   "metadata": {
    "collapsed": false
   },
   "outputs": [
    {
     "name": "stdout",
     "output_type": "stream",
     "text": [
      "ftype=carp_T, are you sure? (if yes, add to list)\n",
      "ftype=dia2_T, are you sure? (if yes, add to list)\n"
     ]
    }
   ],
   "source": [
    "data2=et.matchData(data,filemap, fdict, mod_start, mod_end, mod_nam_fmt, mod_basedir, mod_flen,method='vvlZ',wrapSearch=True,wrapTol=5)"
   ]
  },
  {
   "cell_type": "code",
   "execution_count": 9,
   "metadata": {
    "collapsed": false
   },
   "outputs": [],
   "source": [
    "data2.drop(['mod_e3t'],axis=1,inplace=True)"
   ]
  },
  {
   "cell_type": "code",
   "execution_count": 11,
   "metadata": {
    "collapsed": true
   },
   "outputs": [],
   "source": [
    "data2.drop(['indf','ih'],axis=1,inplace=True)"
   ]
  },
  {
   "cell_type": "code",
   "execution_count": 12,
   "metadata": {
    "collapsed": false
   },
   "outputs": [
    {
     "data": {
      "text/html": [
       "<div>\n",
       "<style scoped>\n",
       "    .dataframe tbody tr th:only-of-type {\n",
       "        vertical-align: middle;\n",
       "    }\n",
       "\n",
       "    .dataframe tbody tr th {\n",
       "        vertical-align: top;\n",
       "    }\n",
       "\n",
       "    .dataframe thead th {\n",
       "        text-align: right;\n",
       "    }\n",
       "</style>\n",
       "<table border=\"1\" class=\"dataframe\">\n",
       "  <thead>\n",
       "    <tr style=\"text-align: right;\">\n",
       "      <th></th>\n",
       "      <th>Year</th>\n",
       "      <th>Month</th>\n",
       "      <th>Day</th>\n",
       "      <th>Hour</th>\n",
       "      <th>Lat</th>\n",
       "      <th>Lon</th>\n",
       "      <th>Pressure</th>\n",
       "      <th>Depth</th>\n",
       "      <th>Ammonium</th>\n",
       "      <th>Ammonium_units</th>\n",
       "      <th>...</th>\n",
       "      <th>ConsT</th>\n",
       "      <th>Z</th>\n",
       "      <th>dtUTC</th>\n",
       "      <th>j</th>\n",
       "      <th>i</th>\n",
       "      <th>mod_nitrate</th>\n",
       "      <th>mod_silicon</th>\n",
       "      <th>mod_vosaline</th>\n",
       "      <th>mod_votemper</th>\n",
       "      <th>mod_PPDIAT</th>\n",
       "    </tr>\n",
       "  </thead>\n",
       "  <tbody>\n",
       "    <tr>\n",
       "      <th>0</th>\n",
       "      <td>2015.0</td>\n",
       "      <td>2.0</td>\n",
       "      <td>11.0</td>\n",
       "      <td>11.068611</td>\n",
       "      <td>48.300833</td>\n",
       "      <td>-124.000333</td>\n",
       "      <td>1.9</td>\n",
       "      <td>NaN</td>\n",
       "      <td>None</td>\n",
       "      <td>None</td>\n",
       "      <td>...</td>\n",
       "      <td>9.859421</td>\n",
       "      <td>1.883998</td>\n",
       "      <td>2015-02-11 11:04:07</td>\n",
       "      <td>322</td>\n",
       "      <td>90</td>\n",
       "      <td>18.074668</td>\n",
       "      <td>36.727672</td>\n",
       "      <td>30.602061</td>\n",
       "      <td>9.502639</td>\n",
       "      <td>NaN</td>\n",
       "    </tr>\n",
       "    <tr>\n",
       "      <th>1</th>\n",
       "      <td>2015.0</td>\n",
       "      <td>2.0</td>\n",
       "      <td>11.0</td>\n",
       "      <td>11.068611</td>\n",
       "      <td>48.300833</td>\n",
       "      <td>-124.000333</td>\n",
       "      <td>6.6</td>\n",
       "      <td>NaN</td>\n",
       "      <td>None</td>\n",
       "      <td>None</td>\n",
       "      <td>...</td>\n",
       "      <td>9.777243</td>\n",
       "      <td>6.544340</td>\n",
       "      <td>2015-02-11 11:04:07</td>\n",
       "      <td>322</td>\n",
       "      <td>90</td>\n",
       "      <td>18.524360</td>\n",
       "      <td>37.353725</td>\n",
       "      <td>30.685959</td>\n",
       "      <td>9.523087</td>\n",
       "      <td>NaN</td>\n",
       "    </tr>\n",
       "    <tr>\n",
       "      <th>2</th>\n",
       "      <td>2015.0</td>\n",
       "      <td>2.0</td>\n",
       "      <td>11.0</td>\n",
       "      <td>11.068611</td>\n",
       "      <td>48.300833</td>\n",
       "      <td>-124.000333</td>\n",
       "      <td>6.7</td>\n",
       "      <td>NaN</td>\n",
       "      <td>None</td>\n",
       "      <td>None</td>\n",
       "      <td>...</td>\n",
       "      <td>9.771987</td>\n",
       "      <td>6.643495</td>\n",
       "      <td>2015-02-11 11:04:07</td>\n",
       "      <td>322</td>\n",
       "      <td>90</td>\n",
       "      <td>18.543223</td>\n",
       "      <td>37.379613</td>\n",
       "      <td>30.689317</td>\n",
       "      <td>9.522316</td>\n",
       "      <td>NaN</td>\n",
       "    </tr>\n",
       "    <tr>\n",
       "      <th>3</th>\n",
       "      <td>2015.0</td>\n",
       "      <td>2.0</td>\n",
       "      <td>11.0</td>\n",
       "      <td>11.068611</td>\n",
       "      <td>48.300833</td>\n",
       "      <td>-124.000333</td>\n",
       "      <td>11.0</td>\n",
       "      <td>NaN</td>\n",
       "      <td>None</td>\n",
       "      <td>None</td>\n",
       "      <td>...</td>\n",
       "      <td>9.439995</td>\n",
       "      <td>10.907117</td>\n",
       "      <td>2015-02-11 11:04:07</td>\n",
       "      <td>322</td>\n",
       "      <td>90</td>\n",
       "      <td>19.276532</td>\n",
       "      <td>38.392677</td>\n",
       "      <td>30.822816</td>\n",
       "      <td>9.451342</td>\n",
       "      <td>NaN</td>\n",
       "    </tr>\n",
       "    <tr>\n",
       "      <th>4</th>\n",
       "      <td>2015.0</td>\n",
       "      <td>2.0</td>\n",
       "      <td>11.0</td>\n",
       "      <td>11.068611</td>\n",
       "      <td>48.300833</td>\n",
       "      <td>-124.000333</td>\n",
       "      <td>11.0</td>\n",
       "      <td>NaN</td>\n",
       "      <td>None</td>\n",
       "      <td>None</td>\n",
       "      <td>...</td>\n",
       "      <td>9.433733</td>\n",
       "      <td>10.907117</td>\n",
       "      <td>2015-02-11 11:04:07</td>\n",
       "      <td>322</td>\n",
       "      <td>90</td>\n",
       "      <td>19.276532</td>\n",
       "      <td>38.392677</td>\n",
       "      <td>30.822816</td>\n",
       "      <td>9.451342</td>\n",
       "      <td>NaN</td>\n",
       "    </tr>\n",
       "  </tbody>\n",
       "</table>\n",
       "<p>5 rows × 26 columns</p>\n",
       "</div>"
      ],
      "text/plain": [
       "     Year  Month   Day       Hour        Lat         Lon  Pressure  Depth  \\\n",
       "0  2015.0    2.0  11.0  11.068611  48.300833 -124.000333       1.9    NaN   \n",
       "1  2015.0    2.0  11.0  11.068611  48.300833 -124.000333       6.6    NaN   \n",
       "2  2015.0    2.0  11.0  11.068611  48.300833 -124.000333       6.7    NaN   \n",
       "3  2015.0    2.0  11.0  11.068611  48.300833 -124.000333      11.0    NaN   \n",
       "4  2015.0    2.0  11.0  11.068611  48.300833 -124.000333      11.0    NaN   \n",
       "\n",
       "  Ammonium Ammonium_units     ...         ConsT          Z  \\\n",
       "0     None           None     ...      9.859421   1.883998   \n",
       "1     None           None     ...      9.777243   6.544340   \n",
       "2     None           None     ...      9.771987   6.643495   \n",
       "3     None           None     ...      9.439995  10.907117   \n",
       "4     None           None     ...      9.433733  10.907117   \n",
       "\n",
       "                dtUTC    j   i  mod_nitrate  mod_silicon  mod_vosaline  \\\n",
       "0 2015-02-11 11:04:07  322  90    18.074668    36.727672     30.602061   \n",
       "1 2015-02-11 11:04:07  322  90    18.524360    37.353725     30.685959   \n",
       "2 2015-02-11 11:04:07  322  90    18.543223    37.379613     30.689317   \n",
       "3 2015-02-11 11:04:07  322  90    19.276532    38.392677     30.822816   \n",
       "4 2015-02-11 11:04:07  322  90    19.276532    38.392677     30.822816   \n",
       "\n",
       "  mod_votemper  mod_PPDIAT  \n",
       "0     9.502639         NaN  \n",
       "1     9.523087         NaN  \n",
       "2     9.522316         NaN  \n",
       "3     9.451342         NaN  \n",
       "4     9.451342         NaN  \n",
       "\n",
       "[5 rows x 26 columns]"
      ]
     },
     "execution_count": 12,
     "metadata": {},
     "output_type": "execute_result"
    }
   ],
   "source": [
    "data2.head()"
   ]
  },
  {
   "cell_type": "code",
   "execution_count": 13,
   "metadata": {
    "collapsed": true
   },
   "outputs": [],
   "source": [
    "mod_basedir= '/data/eolson/results/MEOPAR/SS36runs/linkHC201812/'\n",
    "mod_start = dt.datetime(2015,1,1)\n",
    "mod_end = dt.datetime(2018,1,1)\n",
    "mod_flen=1\n",
    "mod_nam_fmt='nowcast'\n",
    "filemap={'nitrate':'ptrc_T','silicon':'ptrc_T','vosaline':'grid_T','votemper':'grid_T'}\n",
    "fdict={'ptrc_T':1,'grid_T':1,'carp_T':1,'dia2_T':24}\n",
    "data=et.loadDFO(datelims=(mod_start,mod_end)).head(200)\n",
    "data3=et.matchData(data,filemap, fdict, mod_start, mod_end, mod_nam_fmt, mod_basedir, mod_flen,method='bin',wrapSearch=True,wrapTol=15)"
   ]
  },
  {
   "cell_type": "code",
   "execution_count": 16,
   "metadata": {
    "collapsed": false
   },
   "outputs": [
    {
     "data": {
      "text/plain": [
       "[<matplotlib.lines.Line2D at 0x7f66c7ed71d0>]"
      ]
     },
     "execution_count": 16,
     "metadata": {},
     "output_type": "execute_result"
    },
    {
     "data": {
      "image/png": "[encoded data removed]",
      "text/plain": [
       "<matplotlib.figure.Figure at 0x7f66c7ed72b0>"
      ]
     },
     "metadata": {},
     "output_type": "display_data"
    }
   ],
   "source": [
    "plt.plot(data3['mod_silicon'],data2['mod_silicon'],'r.')\n",
    "plt.plot((0,60),(0,60),'k-')"
   ]
  },
  {
   "cell_type": "code",
   "execution_count": 4,
   "metadata": {
    "collapsed": true
   },
   "outputs": [],
   "source": [
    "with nc.Dataset('/ocean/eolson/MEOPAR/NEMO-forcing/grid/mesh_mask201702_noLPE.nc') as mesh:\n",
    "    tmask=np.copy(mesh.variables['tmask'])"
   ]
  },
  {
   "cell_type": "code",
   "execution_count": null,
   "metadata": {
    "collapsed": true
   },
   "outputs": [],
   "source": [
    "fkeysVar=list(filemap.keys())\n",
    "ftypes=list(fdict.keys())\n",
    "# don't load more files than necessary:\n",
    "for ikey in ftypes:\n",
    "    if ikey not in set(filemap.values()):\n",
    "        fdict.pop(ikey)\n",
    "if len(set(filemap.values())-set(fdict.keys()))>0:\n",
    "    print('Error: file(s) missing from fdict:',set(filemap.values())-set(fdict.keys()))\n",
    "ftypes=list(fdict.keys())\n",
    "# reverse filemap dict\n",
    "filemap_r=dict()\n",
    "for ift in ftypes:\n",
    "    filemap_r[ift]=list()\n",
    "for ikey in filemap:\n",
    "    filemap_r[filemap[ikey]].append(ikey)\n"
   ]
  },
  {
   "cell_type": "code",
   "execution_count": null,
   "metadata": {
    "collapsed": false
   },
   "outputs": [],
   "source": [
    "filemap_r"
   ]
  },
  {
   "cell_type": "code",
   "execution_count": null,
   "metadata": {
    "collapsed": false
   },
   "outputs": [],
   "source": [
    "# list model files\n",
    "flist=dict()\n",
    "for ift in ftypes:\n",
    "    flist[ift]=et.index_model_files(mod_start,mod_end,mod_basedir,mod_nam_fmt,mod_flen,ift,fdict[ift])"
   ]
  },
  {
   "cell_type": "code",
   "execution_count": null,
   "metadata": {
    "collapsed": false
   },
   "outputs": [],
   "source": [
    "ftypes"
   ]
  },
  {
   "cell_type": "code",
   "execution_count": null,
   "metadata": {
    "collapsed": false
   },
   "outputs": [],
   "source": [
    "fdict"
   ]
  },
  {
   "cell_type": "raw",
   "metadata": {
    "collapsed": false
   },
   "source": [
    "#new defs:\n",
    "e3tvar='e3t'\n",
    "ifte3t=filemap.pop(e3tvar)\n",
    "pere3t=fdict.pop(ifte3t)\n",
    "pers=np.unique([i for i in fdict.values()])\n",
    "# reverse fdict\n",
    "fdict_r=dict()\n",
    "for iii in pers:\n",
    "    fdict_r[iii]=list()\n",
    "for ikey in fdict:\n",
    "    fdict_r[fdict[ikey]].append(ikey)"
   ]
  },
  {
   "cell_type": "code",
   "execution_count": null,
   "metadata": {
    "collapsed": false
   },
   "outputs": [],
   "source": [
    "fdict_r"
   ]
  },
  {
   "cell_type": "code",
   "execution_count": null,
   "metadata": {
    "collapsed": false
   },
   "outputs": [],
   "source": [
    "data['test']=np.nan\n",
    "gg=data.groupby(['Year','Month','Day'])\n",
    "for (Y,M,D),group in gg:\n",
    "    print(Y,M,D)\n",
    "    \n",
    "    for el, r in group.iterrows():\n",
    "        data.loc[el,['test']]=1"
   ]
  },
  {
   "cell_type": "code",
   "execution_count": null,
   "metadata": {
    "collapsed": false
   },
   "outputs": [],
   "source": [
    "np.unique(data['test'])"
   ]
  },
  {
   "cell_type": "code",
   "execution_count": null,
   "metadata": {
    "collapsed": false
   },
   "outputs": [],
   "source": [
    "for Y,grp0 in data.groupby(['Year']):\n",
    "    print(Y)\n",
    "    #for (M,D),grp1 in grp0.groupby(['Month','Day']):\n",
    "        #print(data.loc[grp1.index,['Month']])"
   ]
  },
  {
   "cell_type": "code",
   "execution_count": null,
   "metadata": {
    "collapsed": false
   },
   "outputs": [],
   "source": [
    "# for now, only match to variables saved at same frequency as e3t\n",
    "test=fdict_r.copy()\n",
    "test.pop(pere3t)\n",
    "if len(test)>0: # loop through and print eliminated variables\n",
    "    print('Warning: variables excluded because save interval mismatched with e3t:')\n",
    "    for aa in test:\n",
    "        for bb in fdict_r[aa]:\n",
    "            print(filemap_r[bb])\n",
    "            "
   ]
  },
  {
   "cell_type": "code",
   "execution_count": null,
   "metadata": {
    "collapsed": true
   },
   "outputs": [],
   "source": []
  },
  {
   "cell_type": "code",
   "execution_count": null,
   "metadata": {
    "collapsed": false
   },
   "outputs": [],
   "source": [
    "    # so far we have only allowed for 1 file duration for all input files, so all indices equivalent\n",
    "    # also, we are only dealing with data saved at same interval as e3t\n",
    "\n",
    "    data['indf'] = [int(flist[ifte3t].loc[(aa>=flist[ifte3t].t_0)&(aa<flist[ifte3t].t_n)].index[0]) for aa in data['dtUTC']]\n",
    "    t2=[flist[ifte3t].loc[aa,['t_0']].values[0] for aa in data['indf'].values]\n",
    "    data['ih']=[int(np.floor((aa-bb).total_seconds()/(pere3t*3600))) for aa,bb in zip(data['dtUTC'],t2)]\n",
    "    # now get appropriate e3t for each set of data points:\n",
    "    for indf,grp0 in data.groupby(['indf']):\n",
    "        with nc.Dataset(flist[ifte3t].loc[indf,['paths']].values[0]) as fe3t:\n",
    "            ff=dict()\n",
    "            for ift in fdict_r[pere3t]:\n",
    "                ff[ift]=nc.Dataset(flist[ift].loc[indf,['paths']].values[0])\n",
    "            for (ih,jj,ii),grp1 in grp0.groupby(['ih','j','i']):\n",
    "                e3t=fe3t.variables[e3tvar][ih,:,jj,ii][tmask[0,:,jj,ii]==1]\n",
    "                zs=np.cumsum(e3t)-.5*e3t\n",
    "                ztar=grp1['Z'].values\n",
    "                for ift in fdict_r[pere3t]:\n",
    "                    for ivar in filemap_r[ift]:\n",
    "                        vals=ff[ift].variables[ivar][ih,:,jj,ii][tmask[0,:,jj,ii]==1]\n",
    "                        data.loc[grp1.index,['mod_'+ivar]]=np.where(ztar<np.sum(e3t),np.interp(ztar,zs,f2),np.nan)\n",
    "            for ift in fdict_r[pere3t]:\n",
    "                ff[ift].close()\n"
   ]
  },
  {
   "cell_type": "code",
   "execution_count": null,
   "metadata": {
    "collapsed": false
   },
   "outputs": [],
   "source": [
    "flist"
   ]
  },
  {
   "cell_type": "code",
   "execution_count": null,
   "metadata": {
    "collapsed": true
   },
   "outputs": [],
   "source": []
  },
  {
   "cell_type": "code",
   "execution_count": null,
   "metadata": {
    "collapsed": true
   },
   "outputs": [],
   "source": [
    "def _interpZe3t(data,flist,ftypes,filemap_r,gridmask,fdict):\n"
   ]
  }
 ],
 "metadata": {
  "anaconda-cloud": {},
  "kernelspec": {
   "display_name": "Python [conda env:python36]",
   "language": "python",
   "name": "conda-env-python36-py"
  },
  "language_info": {
   "codemirror_mode": {
    "name": "ipython",
    "version": 3
   },
   "file_extension": ".py",
   "mimetype": "text/x-python",
   "name": "python",
   "nbconvert_exporter": "python",
   "pygments_lexer": "ipython3",
   "version": "3.6.3"
  }
 },
 "nbformat": 4,
 "nbformat_minor": 2
}
