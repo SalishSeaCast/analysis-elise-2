{
 "cells": [
  {
   "cell_type": "markdown",
   "metadata": {},
   "source": [
    "## DFO Nutrient Comparison"
   ]
  },
  {
   "cell_type": "code",
   "execution_count": 1,
   "metadata": {
    "collapsed": false
   },
   "outputs": [],
   "source": [
    "import numpy as np\n",
    "import matplotlib.pyplot as plt\n",
    "import os\n",
    "import pandas as pd\n",
    "import netCDF4 as nc\n",
    "import datetime as dt\n",
    "from salishsea_tools import evaltools as et, viz_tools\n",
    "import gsw\n",
    "import matplotlib.gridspec as gridspec\n",
    "import matplotlib as mpl\n",
    "import matplotlib.dates as mdates\n",
    "import cmocean as cmo\n",
    "import scipy.interpolate as sinterp\n",
    "import pytz\n",
    "import warnings\n",
    "\n",
    "mpl.rc('xtick', labelsize=10)\n",
    "mpl.rc('ytick', labelsize=10)\n",
    "mpl.rc('legend', fontsize=10)\n",
    "mpl.rc('axes', titlesize=10)\n",
    "mpl.rc('axes', labelsize=10)\n",
    "mpl.rc('figure', titlesize=10)\n",
    "mpl.rc('font', size=10)\n",
    "%matplotlib inline"
   ]
  },
  {
   "cell_type": "code",
   "execution_count": 2,
   "metadata": {
    "collapsed": false
   },
   "outputs": [],
   "source": [
    "PATH= '/data/eolson/results/MEOPAR/SS36runs/linkHC201812/'\n",
    "#PATH= '/results2/SalishSea/hindcast/'\n",
    "start_date = dt.datetime(2015,1,1)\n",
    "end_date = dt.datetime(2018,1,1)\n",
    "flen=1\n",
    "namfmt='nowcast'\n",
    "#varmap={'N':'nitrate','Si':'silicon','Ammonium':'ammonium'}\n",
    "filemap={'nitrate':'ptrc_T','silicon':'ptrc_T','ammonium':'ptrc_T','diatoms':'ptrc_T','ciliates':'ptrc_T','flagellates':'ptrc_T','vosaline':'grid_T','votemper':'grid_T'}\n",
    "#gridmap={'nitrate':'tmask','silicon':'tmask','ammonium':'tmask'}\n",
    "fdict={'ptrc_T':1,'grid_T':1}\n"
   ]
  },
  {
   "cell_type": "code",
   "execution_count": 3,
   "metadata": {
    "collapsed": true
   },
   "outputs": [],
   "source": [
    "datelims=(dt.datetime(1900,1,1),dt.datetime(2100,1,1))\n",
    "start_date=datelims[0]\n",
    "end_date=datelims[1]    \n",
    "\n",
    "f0 = pd.read_excel('/ocean/eolson/MEOPAR/obs/Hakai/Dosser20180911/2018-09-11_144804_HakaiData_nutrients.xlsx',\n",
    "                 sheet_name = 'Hakai Data')\n",
    "f0.drop(['ACTION','Lat', 'Long', 'Collection Method', 'Installed', 'Lab Technician', 'NH4+', 'NO2+NO3 (ug/L)',\n",
    "       'no2_no3_units', 'TP', 'TDP', 'TN', 'TDN', 'SRP', 'Project Specific ID', 'Hakai ID', 'Source',\n",
    "       'po4pfilt', 'no3nfilt', 'po4punfl', 'no3nunfl', 'nh4nunfl', 'NH4+ Flag',\n",
    "       'TP FLag', 'TDP FLag', 'TN Flag', 'TDN FLag','Volume (ml)',\n",
    "       'SRP Flag', 'PO4 Flag', 'po4pfilt_flag', 'no3nfilt_flag','Preserved', 'Analyzed',\n",
    "       'po4punfl_flag', 'no3nunfl_flag', 'nh4nunfl_flag', 'Analyzing Lab', 'Sample Status',\n",
    "       'Quality Level', 'Comments', 'Quality Log'], axis = 1, inplace = True)\n",
    "dts0=[pytz.timezone('Canada/Pacific').localize(i).astimezone(pytz.utc).replace(tzinfo=None)\n",
    "        for i in f0['Collected']]\n",
    "f0['dtUTC']=dts0"
   ]
  },
  {
   "cell_type": "code",
   "execution_count": 4,
   "metadata": {
    "collapsed": true
   },
   "outputs": [],
   "source": [
    "fc = pd.read_csv('/ocean/eolson/MEOPAR/obs/Hakai/Dosser20180911/ctd-bulk-1536702711696.csv',\n",
    "                usecols=['Cast PK','Cruise','Station', 'Drop number','Start time', 'Bottom time',\n",
    "                         'Latitude', 'Longitude', 'Depth (m)', 'Temperature (deg C)', 'Temperature flag', 'Pressure (dbar)',\n",
    "                         'Pressure flag', 'PAR', 'PAR flag', 'Fluorometry Chlorophyll (ug/L)', 'Fluorometry Chlorophyll flag',\n",
    "                         'Turbidity (FTU)', 'Turbidity flag',\n",
    "                         'Salinity (PSU)', 'Salinity flag'],\n",
    "                dtype={'Drop number':np.float64,'PAR flag':str,'Fluorometry Chlorophyll flag':str},na_values=('null','-9.99e-29'))\n",
    "\n",
    "## fix apparent typos:\n",
    "# reversed lats and lons\n",
    "iii=fc['Latitude']>90\n",
    "lons=-1*fc.loc[iii,'Latitude'].values\n",
    "lats=-1*fc.loc[iii,'Longitude'].values\n",
    "fc.loc[iii,'Longitude']=lons\n",
    "fc.loc[iii,'Latitude']=lats\n",
    "\n",
    "# remove data with missing lats and lons\n",
    "nans=fc.loc[(fc['Latitude'].isnull())|(fc['Longitude'].isnull())]\n",
    "fc=fc.drop(nans.index)\n",
    "# apparently bad lats/lons\n",
    "QU16bad=fc.loc[(fc['Station']=='QU16')&(fc['Latitude']>50.3)]\n",
    "fc=fc.drop(QU16bad.index)\n",
    "QU36bad=fc.loc[(fc['Station']=='QU36')&(fc['Latitude']>50.2)]\n",
    "fc=fc.drop(QU36bad.index)\n",
    "QU37bad=fc.loc[(fc['Station']=='QU37')&(fc['Longitude']<-125.1)]\n",
    "fc=fc.drop(QU37bad.index)\n",
    "QU38bad=fc.loc[(fc['Station']=='QU38')&(fc['Longitude']>-125.2)]\n",
    "fc=fc.drop(QU38bad.index)\n",
    "QU5bad=fc.loc[(fc['Station']=='QU5')&(fc['Longitude']>-125.18)]\n",
    "fc=fc.drop(QU5bad.index)"
   ]
  },
  {
   "cell_type": "code",
   "execution_count": 5,
   "metadata": {
    "collapsed": false
   },
   "outputs": [
    {
     "data": {
      "text/plain": [
       "['Cast PK',\n",
       " 'Cruise',\n",
       " 'Station',\n",
       " 'Drop number',\n",
       " 'Start time',\n",
       " 'Bottom time',\n",
       " 'Latitude',\n",
       " 'Longitude',\n",
       " 'Depth (m)',\n",
       " 'Temperature (deg C)',\n",
       " 'Temperature flag',\n",
       " 'Pressure (dbar)',\n",
       " 'Pressure flag',\n",
       " 'PAR',\n",
       " 'PAR flag',\n",
       " 'Fluorometry Chlorophyll (ug/L)',\n",
       " 'Fluorometry Chlorophyll flag',\n",
       " 'Turbidity (FTU)',\n",
       " 'Turbidity flag',\n",
       " 'Salinity (PSU)',\n",
       " 'Salinity flag']"
      ]
     },
     "execution_count": 5,
     "metadata": {},
     "output_type": "execute_result"
    }
   ],
   "source": [
    "list(fc)"
   ]
  },
  {
   "cell_type": "code",
   "execution_count": 6,
   "metadata": {
    "collapsed": false
   },
   "outputs": [
    {
     "data": {
      "text/html": [
       "<div>\n",
       "<style scoped>\n",
       "    .dataframe tbody tr th:only-of-type {\n",
       "        vertical-align: middle;\n",
       "    }\n",
       "\n",
       "    .dataframe tbody tr th {\n",
       "        vertical-align: top;\n",
       "    }\n",
       "\n",
       "    .dataframe thead th {\n",
       "        text-align: right;\n",
       "    }\n",
       "</style>\n",
       "<table border=\"1\" class=\"dataframe\">\n",
       "  <thead>\n",
       "    <tr style=\"text-align: right;\">\n",
       "      <th></th>\n",
       "      <th>Cast PK</th>\n",
       "      <th>Cruise</th>\n",
       "      <th>Station</th>\n",
       "      <th>Drop number</th>\n",
       "      <th>Start time</th>\n",
       "      <th>Bottom time</th>\n",
       "      <th>Latitude</th>\n",
       "      <th>Longitude</th>\n",
       "      <th>Depth (m)</th>\n",
       "      <th>Temperature (deg C)</th>\n",
       "      <th>...</th>\n",
       "      <th>Pressure (dbar)</th>\n",
       "      <th>Pressure flag</th>\n",
       "      <th>PAR</th>\n",
       "      <th>PAR flag</th>\n",
       "      <th>Fluorometry Chlorophyll (ug/L)</th>\n",
       "      <th>Fluorometry Chlorophyll flag</th>\n",
       "      <th>Turbidity (FTU)</th>\n",
       "      <th>Turbidity flag</th>\n",
       "      <th>Salinity (PSU)</th>\n",
       "      <th>Salinity flag</th>\n",
       "    </tr>\n",
       "  </thead>\n",
       "  <tbody>\n",
       "    <tr>\n",
       "      <th>115143</th>\n",
       "      <td>836</td>\n",
       "      <td>QOM A</td>\n",
       "      <td>QU39</td>\n",
       "      <td>1.0</td>\n",
       "      <td>2015-06-30 07:36:15.000</td>\n",
       "      <td>2015-06-30 07:45:57.000</td>\n",
       "      <td>50.030668</td>\n",
       "      <td>-125.099217</td>\n",
       "      <td>0.0</td>\n",
       "      <td>0.0</td>\n",
       "      <td>...</td>\n",
       "      <td>270</td>\n",
       "      <td>NaN</td>\n",
       "      <td>0.0</td>\n",
       "      <td>NaN</td>\n",
       "      <td>0.0</td>\n",
       "      <td>NaN</td>\n",
       "      <td>0.0</td>\n",
       "      <td>NaN</td>\n",
       "      <td>0.0</td>\n",
       "      <td>NaN</td>\n",
       "    </tr>\n",
       "    <tr>\n",
       "      <th>115144</th>\n",
       "      <td>836</td>\n",
       "      <td>QOM A</td>\n",
       "      <td>QU39</td>\n",
       "      <td>1.0</td>\n",
       "      <td>2015-06-30 07:36:15.000</td>\n",
       "      <td>2015-06-30 07:45:57.000</td>\n",
       "      <td>50.030668</td>\n",
       "      <td>-125.099217</td>\n",
       "      <td>0.0</td>\n",
       "      <td>0.0</td>\n",
       "      <td>...</td>\n",
       "      <td>271</td>\n",
       "      <td>NaN</td>\n",
       "      <td>0.0</td>\n",
       "      <td>NaN</td>\n",
       "      <td>0.0</td>\n",
       "      <td>NaN</td>\n",
       "      <td>0.0</td>\n",
       "      <td>NaN</td>\n",
       "      <td>0.0</td>\n",
       "      <td>NaN</td>\n",
       "    </tr>\n",
       "    <tr>\n",
       "      <th>115145</th>\n",
       "      <td>836</td>\n",
       "      <td>QOM A</td>\n",
       "      <td>QU39</td>\n",
       "      <td>1.0</td>\n",
       "      <td>2015-06-30 07:36:15.000</td>\n",
       "      <td>2015-06-30 07:45:57.000</td>\n",
       "      <td>50.030668</td>\n",
       "      <td>-125.099217</td>\n",
       "      <td>0.0</td>\n",
       "      <td>0.0</td>\n",
       "      <td>...</td>\n",
       "      <td>272</td>\n",
       "      <td>NaN</td>\n",
       "      <td>0.0</td>\n",
       "      <td>NaN</td>\n",
       "      <td>0.0</td>\n",
       "      <td>NaN</td>\n",
       "      <td>0.0</td>\n",
       "      <td>NaN</td>\n",
       "      <td>0.0</td>\n",
       "      <td>NaN</td>\n",
       "    </tr>\n",
       "    <tr>\n",
       "      <th>115146</th>\n",
       "      <td>836</td>\n",
       "      <td>QOM A</td>\n",
       "      <td>QU39</td>\n",
       "      <td>1.0</td>\n",
       "      <td>2015-06-30 07:36:15.000</td>\n",
       "      <td>2015-06-30 07:45:57.000</td>\n",
       "      <td>50.030668</td>\n",
       "      <td>-125.099217</td>\n",
       "      <td>0.0</td>\n",
       "      <td>0.0</td>\n",
       "      <td>...</td>\n",
       "      <td>273</td>\n",
       "      <td>NaN</td>\n",
       "      <td>0.0</td>\n",
       "      <td>NaN</td>\n",
       "      <td>0.0</td>\n",
       "      <td>NaN</td>\n",
       "      <td>0.0</td>\n",
       "      <td>NaN</td>\n",
       "      <td>0.0</td>\n",
       "      <td>NaN</td>\n",
       "    </tr>\n",
       "    <tr>\n",
       "      <th>115838</th>\n",
       "      <td>840</td>\n",
       "      <td>QOM A</td>\n",
       "      <td>QU39</td>\n",
       "      <td>1.0</td>\n",
       "      <td>2015-07-07 07:58:36.000</td>\n",
       "      <td>2015-07-07 08:08:29.000</td>\n",
       "      <td>50.030668</td>\n",
       "      <td>-125.099217</td>\n",
       "      <td>0.0</td>\n",
       "      <td>0.0</td>\n",
       "      <td>...</td>\n",
       "      <td>267</td>\n",
       "      <td>NaN</td>\n",
       "      <td>0.0</td>\n",
       "      <td>NaN</td>\n",
       "      <td>0.0</td>\n",
       "      <td>NaN</td>\n",
       "      <td>0.0</td>\n",
       "      <td>NaN</td>\n",
       "      <td>0.0</td>\n",
       "      <td>NaN</td>\n",
       "    </tr>\n",
       "    <tr>\n",
       "      <th>115839</th>\n",
       "      <td>840</td>\n",
       "      <td>QOM A</td>\n",
       "      <td>QU39</td>\n",
       "      <td>1.0</td>\n",
       "      <td>2015-07-07 07:58:36.000</td>\n",
       "      <td>2015-07-07 08:08:29.000</td>\n",
       "      <td>50.030668</td>\n",
       "      <td>-125.099217</td>\n",
       "      <td>0.0</td>\n",
       "      <td>0.0</td>\n",
       "      <td>...</td>\n",
       "      <td>268</td>\n",
       "      <td>NaN</td>\n",
       "      <td>0.0</td>\n",
       "      <td>NaN</td>\n",
       "      <td>0.0</td>\n",
       "      <td>NaN</td>\n",
       "      <td>0.0</td>\n",
       "      <td>NaN</td>\n",
       "      <td>0.0</td>\n",
       "      <td>NaN</td>\n",
       "    </tr>\n",
       "    <tr>\n",
       "      <th>120090</th>\n",
       "      <td>878</td>\n",
       "      <td>QOM A</td>\n",
       "      <td>QU39</td>\n",
       "      <td>1.0</td>\n",
       "      <td>2015-07-28 08:42:47.000</td>\n",
       "      <td>2015-07-28 08:53:39.000</td>\n",
       "      <td>50.030668</td>\n",
       "      <td>-125.099217</td>\n",
       "      <td>0.0</td>\n",
       "      <td>0.0</td>\n",
       "      <td>...</td>\n",
       "      <td>238</td>\n",
       "      <td>NaN</td>\n",
       "      <td>0.0</td>\n",
       "      <td>NaN</td>\n",
       "      <td>0.0</td>\n",
       "      <td>NaN</td>\n",
       "      <td>0.0</td>\n",
       "      <td>NaN</td>\n",
       "      <td>0.0</td>\n",
       "      <td>NaN</td>\n",
       "    </tr>\n",
       "    <tr>\n",
       "      <th>120091</th>\n",
       "      <td>878</td>\n",
       "      <td>QOM A</td>\n",
       "      <td>QU39</td>\n",
       "      <td>1.0</td>\n",
       "      <td>2015-07-28 08:42:47.000</td>\n",
       "      <td>2015-07-28 08:53:39.000</td>\n",
       "      <td>50.030668</td>\n",
       "      <td>-125.099217</td>\n",
       "      <td>0.0</td>\n",
       "      <td>0.0</td>\n",
       "      <td>...</td>\n",
       "      <td>239</td>\n",
       "      <td>NaN</td>\n",
       "      <td>0.0</td>\n",
       "      <td>NaN</td>\n",
       "      <td>0.0</td>\n",
       "      <td>NaN</td>\n",
       "      <td>0.0</td>\n",
       "      <td>NaN</td>\n",
       "      <td>0.0</td>\n",
       "      <td>NaN</td>\n",
       "    </tr>\n",
       "    <tr>\n",
       "      <th>122892</th>\n",
       "      <td>896</td>\n",
       "      <td>QOM A</td>\n",
       "      <td>QU39</td>\n",
       "      <td>1.0</td>\n",
       "      <td>2015-08-12 08:48:15.000</td>\n",
       "      <td>2015-08-12 09:01:08.000</td>\n",
       "      <td>50.030668</td>\n",
       "      <td>-125.099217</td>\n",
       "      <td>0.0</td>\n",
       "      <td>0.0</td>\n",
       "      <td>...</td>\n",
       "      <td>239</td>\n",
       "      <td>NaN</td>\n",
       "      <td>0.0</td>\n",
       "      <td>NaN</td>\n",
       "      <td>0.0</td>\n",
       "      <td>NaN</td>\n",
       "      <td>0.0</td>\n",
       "      <td>NaN</td>\n",
       "      <td>0.0</td>\n",
       "      <td>NaN</td>\n",
       "    </tr>\n",
       "    <tr>\n",
       "      <th>129975</th>\n",
       "      <td>956</td>\n",
       "      <td>QOM A</td>\n",
       "      <td>QU39</td>\n",
       "      <td>1.0</td>\n",
       "      <td>2015-09-02 09:10:27.000</td>\n",
       "      <td>2015-09-02 09:22:24.000</td>\n",
       "      <td>50.030668</td>\n",
       "      <td>-125.099217</td>\n",
       "      <td>0.0</td>\n",
       "      <td>0.0</td>\n",
       "      <td>...</td>\n",
       "      <td>255</td>\n",
       "      <td>NaN</td>\n",
       "      <td>0.0</td>\n",
       "      <td>NaN</td>\n",
       "      <td>0.0</td>\n",
       "      <td>NaN</td>\n",
       "      <td>0.0</td>\n",
       "      <td>NaN</td>\n",
       "      <td>0.0</td>\n",
       "      <td>NaN</td>\n",
       "    </tr>\n",
       "    <tr>\n",
       "      <th>129976</th>\n",
       "      <td>956</td>\n",
       "      <td>QOM A</td>\n",
       "      <td>QU39</td>\n",
       "      <td>1.0</td>\n",
       "      <td>2015-09-02 09:10:27.000</td>\n",
       "      <td>2015-09-02 09:22:24.000</td>\n",
       "      <td>50.030668</td>\n",
       "      <td>-125.099217</td>\n",
       "      <td>0.0</td>\n",
       "      <td>0.0</td>\n",
       "      <td>...</td>\n",
       "      <td>256</td>\n",
       "      <td>NaN</td>\n",
       "      <td>0.0</td>\n",
       "      <td>NaN</td>\n",
       "      <td>0.0</td>\n",
       "      <td>NaN</td>\n",
       "      <td>0.0</td>\n",
       "      <td>NaN</td>\n",
       "      <td>0.0</td>\n",
       "      <td>NaN</td>\n",
       "    </tr>\n",
       "  </tbody>\n",
       "</table>\n",
       "<p>11 rows × 21 columns</p>\n",
       "</div>"
      ],
      "text/plain": [
       "        Cast PK Cruise Station  Drop number               Start time  \\\n",
       "115143      836  QOM A    QU39          1.0  2015-06-30 07:36:15.000   \n",
       "115144      836  QOM A    QU39          1.0  2015-06-30 07:36:15.000   \n",
       "115145      836  QOM A    QU39          1.0  2015-06-30 07:36:15.000   \n",
       "115146      836  QOM A    QU39          1.0  2015-06-30 07:36:15.000   \n",
       "115838      840  QOM A    QU39          1.0  2015-07-07 07:58:36.000   \n",
       "115839      840  QOM A    QU39          1.0  2015-07-07 07:58:36.000   \n",
       "120090      878  QOM A    QU39          1.0  2015-07-28 08:42:47.000   \n",
       "120091      878  QOM A    QU39          1.0  2015-07-28 08:42:47.000   \n",
       "122892      896  QOM A    QU39          1.0  2015-08-12 08:48:15.000   \n",
       "129975      956  QOM A    QU39          1.0  2015-09-02 09:10:27.000   \n",
       "129976      956  QOM A    QU39          1.0  2015-09-02 09:10:27.000   \n",
       "\n",
       "                    Bottom time   Latitude   Longitude  Depth (m)  \\\n",
       "115143  2015-06-30 07:45:57.000  50.030668 -125.099217        0.0   \n",
       "115144  2015-06-30 07:45:57.000  50.030668 -125.099217        0.0   \n",
       "115145  2015-06-30 07:45:57.000  50.030668 -125.099217        0.0   \n",
       "115146  2015-06-30 07:45:57.000  50.030668 -125.099217        0.0   \n",
       "115838  2015-07-07 08:08:29.000  50.030668 -125.099217        0.0   \n",
       "115839  2015-07-07 08:08:29.000  50.030668 -125.099217        0.0   \n",
       "120090  2015-07-28 08:53:39.000  50.030668 -125.099217        0.0   \n",
       "120091  2015-07-28 08:53:39.000  50.030668 -125.099217        0.0   \n",
       "122892  2015-08-12 09:01:08.000  50.030668 -125.099217        0.0   \n",
       "129975  2015-09-02 09:22:24.000  50.030668 -125.099217        0.0   \n",
       "129976  2015-09-02 09:22:24.000  50.030668 -125.099217        0.0   \n",
       "\n",
       "        Temperature (deg C)      ...        Pressure (dbar)  Pressure flag  \\\n",
       "115143                  0.0      ...                    270            NaN   \n",
       "115144                  0.0      ...                    271            NaN   \n",
       "115145                  0.0      ...                    272            NaN   \n",
       "115146                  0.0      ...                    273            NaN   \n",
       "115838                  0.0      ...                    267            NaN   \n",
       "115839                  0.0      ...                    268            NaN   \n",
       "120090                  0.0      ...                    238            NaN   \n",
       "120091                  0.0      ...                    239            NaN   \n",
       "122892                  0.0      ...                    239            NaN   \n",
       "129975                  0.0      ...                    255            NaN   \n",
       "129976                  0.0      ...                    256            NaN   \n",
       "\n",
       "        PAR  PAR flag Fluorometry Chlorophyll (ug/L)  \\\n",
       "115143  0.0       NaN                            0.0   \n",
       "115144  0.0       NaN                            0.0   \n",
       "115145  0.0       NaN                            0.0   \n",
       "115146  0.0       NaN                            0.0   \n",
       "115838  0.0       NaN                            0.0   \n",
       "115839  0.0       NaN                            0.0   \n",
       "120090  0.0       NaN                            0.0   \n",
       "120091  0.0       NaN                            0.0   \n",
       "122892  0.0       NaN                            0.0   \n",
       "129975  0.0       NaN                            0.0   \n",
       "129976  0.0       NaN                            0.0   \n",
       "\n",
       "        Fluorometry Chlorophyll flag Turbidity (FTU)  Turbidity flag  \\\n",
       "115143                           NaN             0.0             NaN   \n",
       "115144                           NaN             0.0             NaN   \n",
       "115145                           NaN             0.0             NaN   \n",
       "115146                           NaN             0.0             NaN   \n",
       "115838                           NaN             0.0             NaN   \n",
       "115839                           NaN             0.0             NaN   \n",
       "120090                           NaN             0.0             NaN   \n",
       "120091                           NaN             0.0             NaN   \n",
       "122892                           NaN             0.0             NaN   \n",
       "129975                           NaN             0.0             NaN   \n",
       "129976                           NaN             0.0             NaN   \n",
       "\n",
       "        Salinity (PSU)  Salinity flag  \n",
       "115143             0.0            NaN  \n",
       "115144             0.0            NaN  \n",
       "115145             0.0            NaN  \n",
       "115146             0.0            NaN  \n",
       "115838             0.0            NaN  \n",
       "115839             0.0            NaN  \n",
       "120090             0.0            NaN  \n",
       "120091             0.0            NaN  \n",
       "122892             0.0            NaN  \n",
       "129975             0.0            NaN  \n",
       "129976             0.0            NaN  \n",
       "\n",
       "[11 rows x 21 columns]"
      ]
     },
     "execution_count": 6,
     "metadata": {},
     "output_type": "execute_result"
    }
   ],
   "source": [
    "fc.loc[(fc['Temperature (deg C)']==0)&(fc['Salinity (PSU)']==0)]"
   ]
  },
  {
   "cell_type": "code",
   "execution_count": 7,
   "metadata": {
    "collapsed": false
   },
   "outputs": [
    {
     "data": {
      "text/html": [
       "<div>\n",
       "<style scoped>\n",
       "    .dataframe tbody tr th:only-of-type {\n",
       "        vertical-align: middle;\n",
       "    }\n",
       "\n",
       "    .dataframe tbody tr th {\n",
       "        vertical-align: top;\n",
       "    }\n",
       "\n",
       "    .dataframe thead th {\n",
       "        text-align: right;\n",
       "    }\n",
       "</style>\n",
       "<table border=\"1\" class=\"dataframe\">\n",
       "  <thead>\n",
       "    <tr style=\"text-align: right;\">\n",
       "      <th></th>\n",
       "      <th>Cast PK</th>\n",
       "      <th>Cruise</th>\n",
       "      <th>Station</th>\n",
       "      <th>Drop number</th>\n",
       "      <th>Start time</th>\n",
       "      <th>Bottom time</th>\n",
       "      <th>Latitude</th>\n",
       "      <th>Longitude</th>\n",
       "      <th>Depth (m)</th>\n",
       "      <th>Temperature (deg C)</th>\n",
       "      <th>...</th>\n",
       "      <th>Pressure (dbar)</th>\n",
       "      <th>Pressure flag</th>\n",
       "      <th>PAR</th>\n",
       "      <th>PAR flag</th>\n",
       "      <th>Fluorometry Chlorophyll (ug/L)</th>\n",
       "      <th>Fluorometry Chlorophyll flag</th>\n",
       "      <th>Turbidity (FTU)</th>\n",
       "      <th>Turbidity flag</th>\n",
       "      <th>Salinity (PSU)</th>\n",
       "      <th>Salinity flag</th>\n",
       "    </tr>\n",
       "  </thead>\n",
       "  <tbody>\n",
       "  </tbody>\n",
       "</table>\n",
       "<p>0 rows × 21 columns</p>\n",
       "</div>"
      ],
      "text/plain": [
       "Empty DataFrame\n",
       "Columns: [Cast PK, Cruise, Station, Drop number, Start time, Bottom time, Latitude, Longitude, Depth (m), Temperature (deg C), Temperature flag, Pressure (dbar), Pressure flag, PAR, PAR flag, Fluorometry Chlorophyll (ug/L), Fluorometry Chlorophyll flag, Turbidity (FTU), Turbidity flag, Salinity (PSU), Salinity flag]\n",
       "Index: []\n",
       "\n",
       "[0 rows x 21 columns]"
      ]
     },
     "execution_count": 7,
     "metadata": {},
     "output_type": "execute_result"
    }
   ],
   "source": [
    "fc.loc[(fc['Salinity (PSU)']<0)]"
   ]
  },
  {
   "cell_type": "code",
   "execution_count": null,
   "metadata": {
    "collapsed": false
   },
   "outputs": [],
   "source": [
    "# remove data with suspicious 0 temperature and salinity\n",
    "iind=(fc['Temperature (deg C)']==0)&(fc['Salinity (PSU)']==0)\n",
    "fc.loc[iind,['Temperature (deg C)', 'Pressure (dbar)', 'PAR', 'Fluorometry Chlorophyll (ug/L)', 'Turbidity (FTU)', 'Salinity (PSU)']]=np.nan\n",
    "\n",
    "fc['dt']=[dt.datetime.strptime(i.split('.')[0],'%Y-%m-%d %H:%M:%S') for i in fc['Start time']]\n",
    "dts=[pytz.timezone('Canada/Pacific').localize(dt.datetime.strptime(i.split('.')[0],'%Y-%m-%d %H:%M:%S')).astimezone(pytz.utc).replace(tzinfo=None)\n",
    "        for i in fc['Start time']]\n",
    "fc['dtUTC']=dts\n",
    "\n",
    "dloc=[dt.datetime(i.year,i.month,i.day) for i in fc['dt']]\n",
    "fc['dloc']=dloc"
   ]
  },
  {
   "cell_type": "code",
   "execution_count": null,
   "metadata": {
    "collapsed": true
   },
   "outputs": [],
   "source": [
    "fcS=fc.loc[:,['Latitude','Longitude']].groupby([fc['Station'],fc['dloc']]).mean().reset_index()\n",
    "\n",
    "f0['Station']=f0['Site ID']\n",
    "#f0['dt']=[dt.datetime.strptime(i,'%Y-%m-%d %H:%M:%S') for i in f0['Collected']]\n",
    "dloc0=[dt.datetime(i.year,i.month,i.day) for i in f0['Collected']]\n",
    "f0['dloc']=dloc0"
   ]
  },
  {
   "cell_type": "code",
   "execution_count": null,
   "metadata": {
    "collapsed": false
   },
   "outputs": [],
   "source": [
    "f0.drop(['no','event_pk','Sampling Bout','Gather Lat','Gather Long','Filter Type'],axis=1,inplace=True)"
   ]
  },
  {
   "cell_type": "code",
   "execution_count": null,
   "metadata": {
    "collapsed": false
   },
   "outputs": [],
   "source": [
    "f0.loc[f0['Pressure Transducer Depth (m)']<1.7].head()"
   ]
  },
  {
   "cell_type": "code",
   "execution_count": null,
   "metadata": {
    "collapsed": false
   },
   "outputs": [],
   "source": [
    "plt.hist(f0.loc[~np.isnan(f0['Line Out Depth']),['Line Out Depth']].values,250);"
   ]
  },
  {
   "cell_type": "code",
   "execution_count": null,
   "metadata": {
    "collapsed": false
   },
   "outputs": [],
   "source": [
    "np.min(f0['Pressure Transducer Depth (m)'])"
   ]
  },
  {
   "cell_type": "code",
   "execution_count": null,
   "metadata": {
    "collapsed": true
   },
   "outputs": [],
   "source": [
    "fc.drop(['Cast PK','Drop number','Start time','Bottom time'],axis=1,inplace=True)"
   ]
  },
  {
   "cell_type": "code",
   "execution_count": null,
   "metadata": {
    "collapsed": false
   },
   "outputs": [],
   "source": [
    "fc.head()"
   ]
  },
  {
   "cell_type": "code",
   "execution_count": null,
   "metadata": {
    "collapsed": true
   },
   "outputs": [],
   "source": [
    "fdata=f0.merge(fcS,how='left')"
   ]
  },
  {
   "cell_type": "code",
   "execution_count": null,
   "metadata": {
    "collapsed": false
   },
   "outputs": [],
   "source": [
    "fdata.head()"
   ]
  },
  {
   "cell_type": "code",
   "execution_count": null,
   "metadata": {
    "collapsed": false
   },
   "outputs": [],
   "source": [
    "set(list(f0)).intersection(set(list(fcS)))"
   ]
  },
  {
   "cell_type": "code",
   "execution_count": null,
   "metadata": {
    "collapsed": false
   },
   "outputs": [],
   "source": [
    "set(list(f0)).intersection(set(list(fc)))"
   ]
  },
  {
   "cell_type": "code",
   "execution_count": null,
   "metadata": {
    "collapsed": false
   },
   "outputs": [],
   "source": [
    "fc.loc[(np.isnan(fc['Depth (m)']))&(~np.isnan(fc['Pressure (dbar)']))]"
   ]
  },
  {
   "cell_type": "code",
   "execution_count": null,
   "metadata": {
    "collapsed": false
   },
   "outputs": [],
   "source": [
    "fc.loc[(~np.isnan(fc['Depth (m)']))&(np.isnan(fc['Pressure (dbar)']))]"
   ]
  },
  {
   "cell_type": "code",
   "execution_count": null,
   "metadata": {
    "collapsed": true
   },
   "outputs": [],
   "source": [
    "\n",
    "fdata['SA']=np.nan\n",
    "fdata['CT']=np.nan\n",
    "fdata['pZ']=np.nan"
   ]
  },
  {
   "cell_type": "code",
   "execution_count": null,
   "metadata": {
    "collapsed": false
   },
   "outputs": [],
   "source": [
    "df2=fdata.copy(deep=True)"
   ]
  },
  {
   "cell_type": "code",
   "execution_count": null,
   "metadata": {
    "collapsed": false
   },
   "outputs": [],
   "source": [
    "zthresh=1.5\n",
    "print(\"Warning: CTD depths may vary from bottle depths by up to \",str(zthresh),\" m.\")\n",
    "for i, row in df2.iterrows():\n",
    "    idf=fc.loc[(fc.Station==row['Station'])&(fc.dloc==row['dloc'])&\\\n",
    "               ((np.abs(fc['Depth (m)']-row['Pressure Transducer Depth (m)'])<zthresh)|(np.abs(fc['Depth (m)']-row['Line Out Depth'])<zthresh))]\n",
    "    #print(row['dtUTC'],row['Station'],row['Line Out Depth'],row['Pressure Transducer Depth (m)'])\n",
    "    #print(idf.loc[:,['Station','dtUTC','Depth (m)','Pressure (dbar)','Temperature (deg C)','Salinity (PSU)']])\n",
    "    if len(idf)>0:\n",
    "        zrow=row['Pressure Transducer Depth (m)'] if ~np.isnan(row['Pressure Transducer Depth (m)']) else row['Line Out Depth']\n",
    "        #print(zrow)\n",
    "        zdifmin=np.min([np.abs(ii-zrow) for ii in idf['Depth (m)']])\n",
    "        # if there are multiple minimum distance rows, just take the first\n",
    "        idfZ=idf.loc[np.abs(idf['Depth (m)']-zrow)==zdifmin]\n",
    "        #print(idfZ.loc[:,['Station','dtUTC','Depth (m)','Pressure (dbar)','Temperature (deg C)','Salinity (PSU)']])\n",
    "        sal=gsw.SA_from_SP(idfZ['Salinity (PSU)'].values[0],idfZ['Pressure (dbar)'].values[0],idfZ['Longitude'].values[0],idfZ['Latitude'].values[0])\n",
    "        tem=gsw.CT_from_t(sal,idfZ['Temperature (deg C)'].values[0],idfZ['Pressure (dbar)'].values[0])\n",
    "        #print('sal:',sal,'tem:',tem,'z:',idfZ['Depth (m)'].values[0])\n",
    "        fdata.at[i,'SA']=sal\n",
    "        fdata.at[i,'CT']=tem\n",
    "        fdata.at[i,'pZ']=idfZ['Depth (m)'].values[0]\n",
    "    #print('-------------------------------')"
   ]
  },
  {
   "cell_type": "code",
   "execution_count": null,
   "metadata": {
    "collapsed": true
   },
   "outputs": [],
   "source": []
  },
  {
   "cell_type": "code",
   "execution_count": null,
   "metadata": {
    "collapsed": false
   },
   "outputs": [],
   "source": [
    "PATH= '/results2/SalishSea/hindcast/'\n",
    "start_date = dt.datetime(2015,1,1)\n",
    "end_date = dt.datetime(2018,1,1)\n",
    "flen=1\n",
    "namfmt='nowcast'\n",
    "#varmap={'N':'nitrate','Si':'silicon','Ammonium':'ammonium'}\n",
    "filemap={'nitrate':'ptrc_T','silicon':'ptrc_T','ammonium':'ptrc_T','diatoms':'ptrc_T','ciliates':'ptrc_T','flagellates':'ptrc_T','vosaline':'grid_T','votemper':'grid_T'}\n",
    "#gridmap={'nitrate':'tmask','silicon':'tmask','ammonium':'tmask'}\n",
    "fdict={'ptrc_T':1,'grid_T':1}\n",
    "#df1=et.loadDFO()\n",
    "#df1.head()\n",
    "fdata['AbsSal']=fdata['SA']\n",
    "fdata['ConsT']=fdata['CT']\n",
    "fdata['Lat']=fdata['Latitude']\n",
    "fdata['Lon']=fdata['Longitude']\n",
    "df1=fdata\n",
    "df1['NO23']=df1['NO2+NO3 (uM)']\n",
    "df1['Si']=df1['SiO2']"
   ]
  },
  {
   "cell_type": "code",
   "execution_count": null,
   "metadata": {
    "collapsed": true
   },
   "outputs": [],
   "source": []
  },
  {
   "cell_type": "code",
   "execution_count": null,
   "metadata": {
    "collapsed": false
   },
   "outputs": [],
   "source": [
    "list(fdata)"
   ]
  },
  {
   "cell_type": "code",
   "execution_count": null,
   "metadata": {
    "collapsed": false
   },
   "outputs": [],
   "source": [
    "plt.plot(df1['SA'],df1['NO23'],'k.')"
   ]
  },
  {
   "cell_type": "code",
   "execution_count": null,
   "metadata": {
    "collapsed": false
   },
   "outputs": [],
   "source": [
    "plt.plot(df1['SA'],df1['CT'],'k.')"
   ]
  },
  {
   "cell_type": "code",
   "execution_count": null,
   "metadata": {
    "collapsed": false
   },
   "outputs": [],
   "source": [
    "df1.loc[(~np.isnan(df1.SA)),['SA']].count()"
   ]
  },
  {
   "cell_type": "code",
   "execution_count": null,
   "metadata": {
    "collapsed": false
   },
   "outputs": [],
   "source": [
    "df1.loc[(~np.isnan(df1.SA))&(np.isnan(df1.NO23)),['SA']].count()"
   ]
  },
  {
   "cell_type": "code",
   "execution_count": null,
   "metadata": {
    "collapsed": false
   },
   "outputs": [],
   "source": [
    "df1.loc[(np.isnan(df1.SA))&(~np.isnan(df1.NO23)),['NO23']].count()"
   ]
  },
  {
   "cell_type": "code",
   "execution_count": null,
   "metadata": {
    "collapsed": false
   },
   "outputs": [],
   "source": [
    "df1.loc[~np.isnan(df1['CT']),['CT']].count()"
   ]
  },
  {
   "cell_type": "code",
   "execution_count": null,
   "metadata": {
    "collapsed": false
   },
   "outputs": [],
   "source": [
    "df1.loc[(~np.isnan(df1['CT']))&(np.isnan(df1.NO23)),['CT']].count()"
   ]
  },
  {
   "cell_type": "code",
   "execution_count": null,
   "metadata": {
    "collapsed": false
   },
   "outputs": [],
   "source": [
    "df1.loc[(np.isnan(df1['CT']))&(~np.isnan(df1.NO23)),['NO23']].count()"
   ]
  },
  {
   "cell_type": "code",
   "execution_count": null,
   "metadata": {
    "collapsed": false
   },
   "outputs": [],
   "source": [
    "df1.loc[(~np.isnan(df1.NO23)),['NO23']].count()"
   ]
  },
  {
   "cell_type": "code",
   "execution_count": null,
   "metadata": {
    "collapsed": false
   },
   "outputs": [],
   "source": [
    "print('% of N values without S:')\n",
    "print(df1.loc[(np.isnan(df1.SA))&(~np.isnan(df1.NO23)),['NO23']].count().values/df1.loc[(~np.isnan(df1.NO23)),['NO23']].count().values*100)"
   ]
  },
  {
   "cell_type": "code",
   "execution_count": null,
   "metadata": {
    "collapsed": false
   },
   "outputs": [],
   "source": [
    "list(df1)"
   ]
  },
  {
   "cell_type": "code",
   "execution_count": null,
   "metadata": {
    "collapsed": false
   },
   "outputs": [],
   "source": [
    "# use only matched locs. \n",
    "df2=df1.loc[(df1.NO23>=0)|(df1.Si>=0),['Site ID', 'Line Out Depth', 'Pressure Transducer Depth (m)', 'dtUTC', 'Station', 'Lat', 'Lon', 'SA', 'CT', 'pZ', 'AbsSal', 'ConsT']].copy(deep=True)"
   ]
  },
  {
   "cell_type": "code",
   "execution_count": null,
   "metadata": {
    "collapsed": true
   },
   "outputs": [],
   "source": [
    "df2['Z']=df2['pZ']"
   ]
  },
  {
   "cell_type": "code",
   "execution_count": null,
   "metadata": {
    "collapsed": false
   },
   "outputs": [],
   "source": [
    "dataPSF=et.matchData(df2,filemap, fdict, start_date, end_date, namfmt, PATH, flen)"
   ]
  },
  {
   "cell_type": "code",
   "execution_count": null,
   "metadata": {
    "collapsed": true
   },
   "outputs": [],
   "source": [
    "def rotmap(lon,lat,lon0,lat0,phi):\n",
    "    # rotate around point (pick one near center of domain)\n",
    "    # phi in degrees\n",
    "    # first scale lats to match and center around lat0,lon0:\n",
    "    lon1=(lon-lon0)*np.cos(lat0*np.pi/180)\n",
    "    lat1=lat-lat0\n",
    "    # now rotate:\n",
    "    lon2=lon1*np.cos(phi*np.pi/180)-lat1*np.sin(phi*np.pi/180)\n",
    "    lat2=lon1*np.sin(phi*np.pi/180)+lat1*np.cos(phi*np.pi/180)\n",
    "    return lon2,lat2"
   ]
  },
  {
   "cell_type": "code",
   "execution_count": null,
   "metadata": {
    "collapsed": true
   },
   "outputs": [],
   "source": [
    "cm1=plt.get_cmap('PuBuGn')\n",
    "#cm1=cmo.cm.matter\n",
    "theta=-30\n",
    "lon0=-123.9\n",
    "lat0=49.3\n",
    "with nc.Dataset('/data/eolson/results/MEOPAR/NEMO-forcing-new/grid/bathymetry_201702.nc') as bathy:\n",
    "    bathylon=np.copy(bathy.variables['nav_lon'][:,:])\n",
    "    bathylat=np.copy(bathy.variables['nav_lat'][:,:])\n",
    "    bathyZ=np.copy(bathy.variables['Bathymetry'][:,:])\n",
    "blon,blat=rotmap(bathylon,bathylat,lon0,lat0,theta)"
   ]
  },
  {
   "cell_type": "code",
   "execution_count": null,
   "metadata": {
    "collapsed": false
   },
   "outputs": [],
   "source": [
    "fig = plt.figure(figsize = (7.5,4.5))\n",
    "gs1=gridspec.GridSpec(2,4,left=.08,right=.98,bottom=.015,top=.94,\n",
    "                      wspace=.34,hspace=.34,height_ratios=[1,1],width_ratios=[1,1,1,.1])\n",
    "ax2015N=fig.add_subplot(gs1[0,0])\n",
    "ax2016N = fig.add_subplot(gs1[0,1])\n",
    "ax2017N = fig.add_subplot(gs1[0,2])\n",
    "ax2015Si= fig.add_subplot(gs1[1,0])\n",
    "ax2016Si= fig.add_subplot(gs1[1,1])\n",
    "ax2017Si= fig.add_subplot(gs1[1,2])\n",
    "gscb=gridspec.GridSpecFromSubplotSpec(5,1,subplot_spec=gs1[:,3])\n",
    "axcb = fig.add_subplot(gscb[1:-1])\n",
    "\n",
    "for ax in (ax2015N,ax2016N,ax2017N):\n",
    "    ax.plot((0,36),(0,36),'k-',alpha=.2)\n",
    "for ax in (ax2015Si,ax2016Si,ax2017Si):\n",
    "    ax.plot((0,25),(0,25),'k-',alpha=.2)\n",
    "\n",
    "vm0=-150\n",
    "args={'marker':'.','s':1,}\n",
    "dataPSF2015=dataPSF.loc[(dataPSF.dtUTC>=dt.datetime(2015,1,1))&(dataPSF.dtUTC<dt.datetime(2016,1,1))]\n",
    "ps=et.varvarScatter(ax2015N,dataPSF2015,'AbsSal','mod_vosaline','Z',vmin=vm0,vmax=450,cm=cm1,args=args)\n",
    "dataPSF2016=dataPSF.loc[(dataPSF.dtUTC>=dt.datetime(2016,1,1))&(dataPSF.dtUTC<dt.datetime(2017,1,1))]\n",
    "ps=et.varvarScatter(ax2016N,dataPSF2016,'AbsSal','mod_vosaline','Z',vmin=vm0,vmax=450,cm=cm1,args=args)\n",
    "dataPSF2017=dataPSF.loc[(dataPSF.dtUTC>=dt.datetime(2017,1,1))&(dataPSF.dtUTC<dt.datetime(2018,1,1))]\n",
    "ps=et.varvarScatter(ax2017N,dataPSF2017,'AbsSal','mod_vosaline','Z',vmin=vm0,vmax=450,cm=cm1,args=args)\n",
    "ps=et.varvarScatter(ax2015Si,dataPSF2015,'ConsT','mod_votemper','Z',vmin=vm0,vmax=450,cm=cm1,args=args)\n",
    "ps=et.varvarScatter(ax2016Si,dataPSF2016,'ConsT','mod_votemper','Z',vmin=vm0,vmax=450,cm=cm1,args=args)\n",
    "ps=et.varvarScatter(ax2017Si,dataPSF2017,'ConsT','mod_votemper','Z',vmin=vm0,vmax=450,cm=cm1,args=args)\n",
    "\n",
    "cb=fig.colorbar(ps,cax=axcb,boundaries=np.linspace(0,450,46))\n",
    "cb.set_label('Depth (m)')\n",
    "\n",
    "ntick=np.arange(0,36,10)\n",
    "ntickl=[str(i) for i in ntick]\n",
    "for ax in (ax2015N,ax2016N,ax2017N):\n",
    "    ax.set_xlim((0,36))\n",
    "    ax.set_ylim((0,36))\n",
    "    ax.set_xticks(ntick)\n",
    "    ax.set_xticklabels(ntickl)\n",
    "    ax.set_yticks(ntick)\n",
    "    ax.set_yticklabels(ntickl)\n",
    "    \n",
    "stick=np.arange(0,25,10)\n",
    "stickl=[str(i) for i in stick]\n",
    "for ax in (ax2015Si,ax2016Si,ax2017Si):\n",
    "    ax.set_xlim((0,25))\n",
    "    ax.set_ylim((0,25))\n",
    "    ax.set_xticks(stick)\n",
    "    ax.set_xticklabels(stickl)\n",
    "    ax.set_yticks(stick)\n",
    "    ax.set_yticklabels(stickl)\n",
    "    \n",
    "for ax in (ax2015N,ax2016N,ax2017N,ax2015Si,ax2016Si,ax2017Si):\n",
    "    ax.set_aspect(1, adjustable='box')\n",
    "    #ax.set_xlabel('Observed')\n",
    "    \n",
    "ax2015N.set_ylabel('Modeled',fontsize=12)\n",
    "ax2015Si.set_ylabel('Modeled',fontsize=12)\n",
    "ax2015Si.set_ylabel('Modeled',fontsize=12)\n",
    "ax2015Si.set_xlabel('Observed',fontsize=12)\n",
    "ax2016Si.set_xlabel('Observed',fontsize=12)\n",
    "ax2017Si.set_xlabel('Observed',fontsize=12)\n",
    "\n",
    "ax2015N.annotate('2015',xy=[.5,1.18],xycoords='axes fraction',ha='center',fontsize=12)\n",
    "ax2016N.annotate('2016',xy=[.5,1.18],xycoords='axes fraction',ha='center',fontsize=12)\n",
    "ax2017N.annotate('2017',xy=[.5,1.18],xycoords='axes fraction',ha='center',fontsize=12)\n",
    "ax2015N.set_title('SA (g/kg)')\n",
    "ax2016N.set_title('SA (g/kg)')\n",
    "ax2017N.set_title('SA (g/kg)')\n",
    "ax2015Si.set_title('$\\Theta$ ($^{\\circ}$C)')\n",
    "ax2016Si.set_title('$\\Theta$ ($^{\\circ}$C)')\n",
    "ax2017Si.set_title('$\\Theta$ ($^{\\circ}$C)')\n",
    "\n",
    "fig.savefig('/data/eolson/results/MEOPAR/biomodelevalpaper/figsEval/EvalTS.eps',dpi=200,transparent=True)"
   ]
  },
  {
   "cell_type": "code",
   "execution_count": null,
   "metadata": {
    "collapsed": false
   },
   "outputs": [],
   "source": [
    "plt.hist(dataPSF.Z,50);"
   ]
  },
  {
   "cell_type": "code",
   "execution_count": null,
   "metadata": {
    "collapsed": true
   },
   "outputs": [],
   "source": []
  },
  {
   "cell_type": "code",
   "execution_count": null,
   "metadata": {
    "collapsed": true
   },
   "outputs": [],
   "source": []
  }
 ],
 "metadata": {
  "anaconda-cloud": {},
  "kernelspec": {
   "display_name": "Python [conda env:python36]",
   "language": "python",
   "name": "conda-env-python36-py"
  },
  "language_info": {
   "codemirror_mode": {
    "name": "ipython",
    "version": 3
   },
   "file_extension": ".py",
   "mimetype": "text/x-python",
   "name": "python",
   "nbconvert_exporter": "python",
   "pygments_lexer": "ipython3",
   "version": "3.6.3"
  }
 },
 "nbformat": 4,
 "nbformat_minor": 2
}
