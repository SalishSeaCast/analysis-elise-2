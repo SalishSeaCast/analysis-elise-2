{
 "cells": [
  {
   "cell_type": "markdown",
   "metadata": {},
   "source": [
    "## DFO Nutrient Comparison"
   ]
  },
  {
   "cell_type": "code",
   "execution_count": 1,
   "metadata": {
    "collapsed": false
   },
   "outputs": [],
   "source": [
    "import numpy as np\n",
    "import matplotlib.pyplot as plt\n",
    "import os\n",
    "import pandas as pd\n",
    "import netCDF4 as nc\n",
    "import datetime as dt\n",
    "from salishsea_tools import evaltools as et, viz_tools\n",
    "import gsw\n",
    "import matplotlib.gridspec as gridspec\n",
    "import matplotlib as mpl\n",
    "import matplotlib.dates as mdates\n",
    "import cmocean as cmo\n",
    "import scipy.interpolate as sinterp\n",
    "import pytz\n",
    "import warnings\n",
    "\n",
    "mpl.rc('xtick', labelsize=10)\n",
    "mpl.rc('ytick', labelsize=10)\n",
    "mpl.rc('legend', fontsize=10)\n",
    "mpl.rc('axes', titlesize=10)\n",
    "mpl.rc('axes', labelsize=10)\n",
    "mpl.rc('figure', titlesize=10)\n",
    "mpl.rc('font', size=10)\n",
    "%matplotlib inline"
   ]
  },
  {
   "cell_type": "code",
   "execution_count": 2,
   "metadata": {
    "collapsed": false
   },
   "outputs": [
    {
     "data": {
      "text/html": [
       "<div>\n",
       "<style scoped>\n",
       "    .dataframe tbody tr th:only-of-type {\n",
       "        vertical-align: middle;\n",
       "    }\n",
       "\n",
       "    .dataframe tbody tr th {\n",
       "        vertical-align: top;\n",
       "    }\n",
       "\n",
       "    .dataframe thead th {\n",
       "        text-align: right;\n",
       "    }\n",
       "</style>\n",
       "<table border=\"1\" class=\"dataframe\">\n",
       "  <thead>\n",
       "    <tr style=\"text-align: right;\">\n",
       "      <th></th>\n",
       "      <th>Lat</th>\n",
       "      <th>Lon</th>\n",
       "      <th>NO23</th>\n",
       "      <th>PO4</th>\n",
       "      <th>Si</th>\n",
       "      <th>Station</th>\n",
       "      <th>Z</th>\n",
       "      <th>dtUTC</th>\n",
       "      <th>Chl</th>\n",
       "      <th>Depth_m</th>\n",
       "      <th>Phaeo</th>\n",
       "    </tr>\n",
       "  </thead>\n",
       "  <tbody>\n",
       "    <tr>\n",
       "      <th>0</th>\n",
       "      <td>49.608333</td>\n",
       "      <td>-124.866667</td>\n",
       "      <td>18.65</td>\n",
       "      <td>1.459</td>\n",
       "      <td>68.43</td>\n",
       "      <td>BS1</td>\n",
       "      <td>2.0</td>\n",
       "      <td>2015-02-18 23:07:00</td>\n",
       "      <td>NaN</td>\n",
       "      <td>NaN</td>\n",
       "      <td>NaN</td>\n",
       "    </tr>\n",
       "    <tr>\n",
       "      <th>1</th>\n",
       "      <td>49.608333</td>\n",
       "      <td>-124.866667</td>\n",
       "      <td>26.62</td>\n",
       "      <td>2.175</td>\n",
       "      <td>55.73</td>\n",
       "      <td>BS1</td>\n",
       "      <td>20.0</td>\n",
       "      <td>2015-02-18 23:07:00</td>\n",
       "      <td>NaN</td>\n",
       "      <td>NaN</td>\n",
       "      <td>NaN</td>\n",
       "    </tr>\n",
       "    <tr>\n",
       "      <th>2</th>\n",
       "      <td>49.608333</td>\n",
       "      <td>-124.866667</td>\n",
       "      <td>16.25</td>\n",
       "      <td>1.809</td>\n",
       "      <td>39.14</td>\n",
       "      <td>BS1</td>\n",
       "      <td>2.0</td>\n",
       "      <td>2015-03-21 22:55:00</td>\n",
       "      <td>NaN</td>\n",
       "      <td>NaN</td>\n",
       "      <td>NaN</td>\n",
       "    </tr>\n",
       "    <tr>\n",
       "      <th>3</th>\n",
       "      <td>49.608333</td>\n",
       "      <td>-124.866667</td>\n",
       "      <td>16.83</td>\n",
       "      <td>2.069</td>\n",
       "      <td>39.11</td>\n",
       "      <td>BS1</td>\n",
       "      <td>20.0</td>\n",
       "      <td>2015-03-21 22:55:00</td>\n",
       "      <td>NaN</td>\n",
       "      <td>NaN</td>\n",
       "      <td>NaN</td>\n",
       "    </tr>\n",
       "    <tr>\n",
       "      <th>4</th>\n",
       "      <td>49.608333</td>\n",
       "      <td>-124.866667</td>\n",
       "      <td>24.27</td>\n",
       "      <td>0.551</td>\n",
       "      <td>49.90</td>\n",
       "      <td>BS1</td>\n",
       "      <td>20.0</td>\n",
       "      <td>2015-04-05 23:10:00</td>\n",
       "      <td>NaN</td>\n",
       "      <td>NaN</td>\n",
       "      <td>NaN</td>\n",
       "    </tr>\n",
       "    <tr>\n",
       "      <th>5</th>\n",
       "      <td>49.608333</td>\n",
       "      <td>-124.866667</td>\n",
       "      <td>10.53</td>\n",
       "      <td>1.033</td>\n",
       "      <td>34.71</td>\n",
       "      <td>BS1</td>\n",
       "      <td>2.0</td>\n",
       "      <td>2015-04-09 21:48:00</td>\n",
       "      <td>NaN</td>\n",
       "      <td>NaN</td>\n",
       "      <td>NaN</td>\n",
       "    </tr>\n",
       "    <tr>\n",
       "      <th>6</th>\n",
       "      <td>49.608333</td>\n",
       "      <td>-124.866667</td>\n",
       "      <td>22.40</td>\n",
       "      <td>2.081</td>\n",
       "      <td>43.40</td>\n",
       "      <td>BS1</td>\n",
       "      <td>20.0</td>\n",
       "      <td>2015-04-09 21:48:00</td>\n",
       "      <td>NaN</td>\n",
       "      <td>NaN</td>\n",
       "      <td>NaN</td>\n",
       "    </tr>\n",
       "    <tr>\n",
       "      <th>7</th>\n",
       "      <td>49.608333</td>\n",
       "      <td>-124.866667</td>\n",
       "      <td>0.17</td>\n",
       "      <td>0.209</td>\n",
       "      <td>5.79</td>\n",
       "      <td>BS1</td>\n",
       "      <td>2.0</td>\n",
       "      <td>2015-05-13 18:49:00</td>\n",
       "      <td>NaN</td>\n",
       "      <td>NaN</td>\n",
       "      <td>NaN</td>\n",
       "    </tr>\n",
       "    <tr>\n",
       "      <th>8</th>\n",
       "      <td>49.608333</td>\n",
       "      <td>-124.866667</td>\n",
       "      <td>8.93</td>\n",
       "      <td>1.295</td>\n",
       "      <td>19.48</td>\n",
       "      <td>BS1</td>\n",
       "      <td>20.0</td>\n",
       "      <td>2015-05-13 18:49:00</td>\n",
       "      <td>NaN</td>\n",
       "      <td>NaN</td>\n",
       "      <td>NaN</td>\n",
       "    </tr>\n",
       "    <tr>\n",
       "      <th>9</th>\n",
       "      <td>49.608333</td>\n",
       "      <td>-124.866667</td>\n",
       "      <td>0.05</td>\n",
       "      <td>0.198</td>\n",
       "      <td>6.45</td>\n",
       "      <td>BS1</td>\n",
       "      <td>2.0</td>\n",
       "      <td>2015-05-17 21:14:00</td>\n",
       "      <td>NaN</td>\n",
       "      <td>NaN</td>\n",
       "      <td>NaN</td>\n",
       "    </tr>\n",
       "  </tbody>\n",
       "</table>\n",
       "</div>"
      ],
      "text/plain": [
       "         Lat         Lon   NO23    PO4     Si Station     Z  \\\n",
       "0  49.608333 -124.866667  18.65  1.459  68.43     BS1   2.0   \n",
       "1  49.608333 -124.866667  26.62  2.175  55.73     BS1  20.0   \n",
       "2  49.608333 -124.866667  16.25  1.809  39.14     BS1   2.0   \n",
       "3  49.608333 -124.866667  16.83  2.069  39.11     BS1  20.0   \n",
       "4  49.608333 -124.866667  24.27  0.551  49.90     BS1  20.0   \n",
       "5  49.608333 -124.866667  10.53  1.033  34.71     BS1   2.0   \n",
       "6  49.608333 -124.866667  22.40  2.081  43.40     BS1  20.0   \n",
       "7  49.608333 -124.866667   0.17  0.209   5.79     BS1   2.0   \n",
       "8  49.608333 -124.866667   8.93  1.295  19.48     BS1  20.0   \n",
       "9  49.608333 -124.866667   0.05  0.198   6.45     BS1   2.0   \n",
       "\n",
       "                dtUTC  Chl Depth_m  Phaeo  \n",
       "0 2015-02-18 23:07:00  NaN     NaN    NaN  \n",
       "1 2015-02-18 23:07:00  NaN     NaN    NaN  \n",
       "2 2015-03-21 22:55:00  NaN     NaN    NaN  \n",
       "3 2015-03-21 22:55:00  NaN     NaN    NaN  \n",
       "4 2015-04-05 23:10:00  NaN     NaN    NaN  \n",
       "5 2015-04-09 21:48:00  NaN     NaN    NaN  \n",
       "6 2015-04-09 21:48:00  NaN     NaN    NaN  \n",
       "7 2015-05-13 18:49:00  NaN     NaN    NaN  \n",
       "8 2015-05-13 18:49:00  NaN     NaN    NaN  \n",
       "9 2015-05-17 21:14:00  NaN     NaN    NaN  "
      ]
     },
     "execution_count": 2,
     "metadata": {},
     "output_type": "execute_result"
    }
   ],
   "source": [
    "PATH= '/data/eolson/results/MEOPAR/SS36runs/linkHC201812/'\n",
    "#PATH= '/results2/SalishSea/hindcast/'\n",
    "start_date = dt.datetime(2015,1,1)\n",
    "end_date = dt.datetime(2018,1,1)\n",
    "flen=1\n",
    "namfmt='nowcast'\n",
    "#varmap={'N':'nitrate','Si':'silicon','Ammonium':'ammonium'}\n",
    "filemap={'nitrate':'ptrc_T','silicon':'ptrc_T','ammonium':'ptrc_T','diatoms':'ptrc_T','ciliates':'ptrc_T','flagellates':'ptrc_T','vosaline':'grid_T','votemper':'grid_T'}\n",
    "#gridmap={'nitrate':'tmask','silicon':'tmask','ammonium':'tmask'}\n",
    "fdict={'ptrc_T':1,'grid_T':1}\n",
    "df1=et.loadPSF()\n",
    "df1.head(10)"
   ]
  },
  {
   "cell_type": "code",
   "execution_count": 3,
   "metadata": {
    "collapsed": false
   },
   "outputs": [],
   "source": [
    "phys2015=pd.read_csv('/ocean/eolson/MEOPAR/obs/PSFCitSci/phys/CitSci2015_20180621.csv',skiprows=lambda x: x in [0,1,2,3,4,6],delimiter=',',\n",
    "                    dtype={'Patrol': str,'ID':str,'station':str,'datetime':str,'latitude':float,'longitude':float},\n",
    "                    converters={'pressure': lambda x: float(x),'depth': lambda x: float(x),'temperature': lambda x: float(x),\n",
    "                                'conductivity': lambda x: float(x),'salinity': lambda x: float(x),\n",
    "                                'o2SAT': lambda x: float(x),'o2uM':lambda x: float(x),'chl':lambda x: float(x)})"
   ]
  },
  {
   "cell_type": "code",
   "execution_count": 4,
   "metadata": {
    "collapsed": false
   },
   "outputs": [],
   "source": [
    "phys2016=pd.read_csv('/ocean/eolson/MEOPAR/obs/PSFCitSci/phys/CitSci2016_20180621.csv',skiprows=lambda x: x in [0,1,2,3,4,5,6,7,9],delimiter=',',\n",
    "                    dtype={'Patrol': str,'ID':str,'station':str,'datetime':str,'latitude':float,'longitude':float},\n",
    "                    converters={'pressure': lambda x: float(x),'depth': lambda x: float(x),'temperature': lambda x: float(x),\n",
    "                                'conductivity': lambda x: float(x),'salinity': lambda x: float(x),\n",
    "                                'o2SAT': lambda x: float(x),'o2uM':lambda x: float(x),'chl':lambda x: float(x)})"
   ]
  },
  {
   "cell_type": "code",
   "execution_count": 5,
   "metadata": {
    "collapsed": false
   },
   "outputs": [
    {
     "data": {
      "text/html": [
       "<div>\n",
       "<style scoped>\n",
       "    .dataframe tbody tr th:only-of-type {\n",
       "        vertical-align: middle;\n",
       "    }\n",
       "\n",
       "    .dataframe tbody tr th {\n",
       "        vertical-align: top;\n",
       "    }\n",
       "\n",
       "    .dataframe thead th {\n",
       "        text-align: right;\n",
       "    }\n",
       "</style>\n",
       "<table border=\"1\" class=\"dataframe\">\n",
       "  <thead>\n",
       "    <tr style=\"text-align: right;\">\n",
       "      <th></th>\n",
       "      <th>Patrol</th>\n",
       "      <th>ID</th>\n",
       "      <th>station</th>\n",
       "      <th>datetime</th>\n",
       "      <th>latitude</th>\n",
       "      <th>longitude</th>\n",
       "      <th>pressure</th>\n",
       "      <th>depth</th>\n",
       "      <th>temperature</th>\n",
       "      <th>conductivity</th>\n",
       "      <th>salinity</th>\n",
       "      <th>o2SAT</th>\n",
       "      <th>o2uM</th>\n",
       "      <th>chl</th>\n",
       "    </tr>\n",
       "  </thead>\n",
       "  <tbody>\n",
       "    <tr>\n",
       "      <th>0</th>\n",
       "      <td>2</td>\n",
       "      <td>PSFLND2016-03-18_01</td>\n",
       "      <td>PR-2</td>\n",
       "      <td>18/03/2016 15:19:00</td>\n",
       "      <td>49.80326</td>\n",
       "      <td>-124.726668</td>\n",
       "      <td>0.94</td>\n",
       "      <td>1.0</td>\n",
       "      <td>8.483</td>\n",
       "      <td>2.9579</td>\n",
       "      <td>27.720</td>\n",
       "      <td>91.2</td>\n",
       "      <td>278.8</td>\n",
       "      <td>1.2388</td>\n",
       "    </tr>\n",
       "    <tr>\n",
       "      <th>1</th>\n",
       "      <td>2</td>\n",
       "      <td>PSFLND2016-03-18_01</td>\n",
       "      <td>PR-2</td>\n",
       "      <td>18/03/2016 15:19:00</td>\n",
       "      <td>49.80326</td>\n",
       "      <td>-124.726668</td>\n",
       "      <td>1.97</td>\n",
       "      <td>2.0</td>\n",
       "      <td>8.477</td>\n",
       "      <td>2.9581</td>\n",
       "      <td>27.726</td>\n",
       "      <td>91.4</td>\n",
       "      <td>279.6</td>\n",
       "      <td>1.2247</td>\n",
       "    </tr>\n",
       "    <tr>\n",
       "      <th>2</th>\n",
       "      <td>2</td>\n",
       "      <td>PSFLND2016-03-18_01</td>\n",
       "      <td>PR-2</td>\n",
       "      <td>18/03/2016 15:19:00</td>\n",
       "      <td>49.80326</td>\n",
       "      <td>-124.726668</td>\n",
       "      <td>2.97</td>\n",
       "      <td>3.0</td>\n",
       "      <td>8.485</td>\n",
       "      <td>2.9587</td>\n",
       "      <td>27.725</td>\n",
       "      <td>91.6</td>\n",
       "      <td>280.0</td>\n",
       "      <td>1.2282</td>\n",
       "    </tr>\n",
       "    <tr>\n",
       "      <th>3</th>\n",
       "      <td>2</td>\n",
       "      <td>PSFLND2016-03-18_01</td>\n",
       "      <td>PR-2</td>\n",
       "      <td>18/03/2016 15:19:00</td>\n",
       "      <td>49.80326</td>\n",
       "      <td>-124.726668</td>\n",
       "      <td>3.96</td>\n",
       "      <td>4.0</td>\n",
       "      <td>8.485</td>\n",
       "      <td>2.9588</td>\n",
       "      <td>27.726</td>\n",
       "      <td>91.7</td>\n",
       "      <td>280.5</td>\n",
       "      <td>1.2607</td>\n",
       "    </tr>\n",
       "    <tr>\n",
       "      <th>4</th>\n",
       "      <td>2</td>\n",
       "      <td>PSFLND2016-03-18_01</td>\n",
       "      <td>PR-2</td>\n",
       "      <td>18/03/2016 15:19:00</td>\n",
       "      <td>49.80326</td>\n",
       "      <td>-124.726668</td>\n",
       "      <td>4.99</td>\n",
       "      <td>5.0</td>\n",
       "      <td>8.485</td>\n",
       "      <td>2.9590</td>\n",
       "      <td>27.727</td>\n",
       "      <td>91.6</td>\n",
       "      <td>280.2</td>\n",
       "      <td>1.2845</td>\n",
       "    </tr>\n",
       "  </tbody>\n",
       "</table>\n",
       "</div>"
      ],
      "text/plain": [
       "  Patrol                   ID station             datetime  latitude  \\\n",
       "0      2  PSFLND2016-03-18_01    PR-2  18/03/2016 15:19:00  49.80326   \n",
       "1      2  PSFLND2016-03-18_01    PR-2  18/03/2016 15:19:00  49.80326   \n",
       "2      2  PSFLND2016-03-18_01    PR-2  18/03/2016 15:19:00  49.80326   \n",
       "3      2  PSFLND2016-03-18_01    PR-2  18/03/2016 15:19:00  49.80326   \n",
       "4      2  PSFLND2016-03-18_01    PR-2  18/03/2016 15:19:00  49.80326   \n",
       "\n",
       "    longitude  pressure  depth  temperature  conductivity  salinity  o2SAT  \\\n",
       "0 -124.726668      0.94    1.0        8.483        2.9579    27.720   91.2   \n",
       "1 -124.726668      1.97    2.0        8.477        2.9581    27.726   91.4   \n",
       "2 -124.726668      2.97    3.0        8.485        2.9587    27.725   91.6   \n",
       "3 -124.726668      3.96    4.0        8.485        2.9588    27.726   91.7   \n",
       "4 -124.726668      4.99    5.0        8.485        2.9590    27.727   91.6   \n",
       "\n",
       "    o2uM     chl  \n",
       "0  278.8  1.2388  \n",
       "1  279.6  1.2247  \n",
       "2  280.0  1.2282  \n",
       "3  280.5  1.2607  \n",
       "4  280.2  1.2845  "
      ]
     },
     "execution_count": 5,
     "metadata": {},
     "output_type": "execute_result"
    }
   ],
   "source": [
    "phys2016.head()"
   ]
  },
  {
   "cell_type": "code",
   "execution_count": 6,
   "metadata": {
    "collapsed": false
   },
   "outputs": [],
   "source": [
    "phys2017=pd.read_csv('/ocean/eolson/MEOPAR/obs/PSFCitSci/phys/CitSci2017_20180621.csv',skiprows=lambda x: x in [0,1,2,3,4,5,7],delimiter=',',\n",
    "                    dtype={'Patrol': str,'ID':str,'station':str,'datetime':str,'latitude':float,'longitude':float},\n",
    "                    converters={'pressure': lambda x: float(x),'depth': lambda x: float(x),'temperature': lambda x: float(x),\n",
    "                                'conductivity': lambda x: float(x),'salinity': lambda x: float(x),\n",
    "                                'o2SAT': lambda x: float(x),'o2uM':lambda x: float(x),'chl':lambda x: float(x)})"
   ]
  },
  {
   "cell_type": "code",
   "execution_count": 7,
   "metadata": {
    "collapsed": false
   },
   "outputs": [
    {
     "data": {
      "text/html": [
       "<div>\n",
       "<style scoped>\n",
       "    .dataframe tbody tr th:only-of-type {\n",
       "        vertical-align: middle;\n",
       "    }\n",
       "\n",
       "    .dataframe tbody tr th {\n",
       "        vertical-align: top;\n",
       "    }\n",
       "\n",
       "    .dataframe thead th {\n",
       "        text-align: right;\n",
       "    }\n",
       "</style>\n",
       "<table border=\"1\" class=\"dataframe\">\n",
       "  <thead>\n",
       "    <tr style=\"text-align: right;\">\n",
       "      <th></th>\n",
       "      <th>Patrol</th>\n",
       "      <th>ID</th>\n",
       "      <th>station</th>\n",
       "      <th>datetime</th>\n",
       "      <th>latitude</th>\n",
       "      <th>longitude</th>\n",
       "      <th>pressure</th>\n",
       "      <th>depth</th>\n",
       "      <th>temperature</th>\n",
       "      <th>conductivity</th>\n",
       "      <th>salinity</th>\n",
       "      <th>o2SAT</th>\n",
       "      <th>o2uM</th>\n",
       "      <th>chl</th>\n",
       "    </tr>\n",
       "  </thead>\n",
       "  <tbody>\n",
       "    <tr>\n",
       "      <th>0</th>\n",
       "      <td>2</td>\n",
       "      <td>PSFLND2016-03-18_01</td>\n",
       "      <td>PR-2</td>\n",
       "      <td>18/03/2016 15:19:00</td>\n",
       "      <td>49.80326</td>\n",
       "      <td>-124.726668</td>\n",
       "      <td>0.94</td>\n",
       "      <td>1.0</td>\n",
       "      <td>8.483</td>\n",
       "      <td>2.9579</td>\n",
       "      <td>27.720</td>\n",
       "      <td>91.2</td>\n",
       "      <td>278.8</td>\n",
       "      <td>1.2388</td>\n",
       "    </tr>\n",
       "    <tr>\n",
       "      <th>1</th>\n",
       "      <td>2</td>\n",
       "      <td>PSFLND2016-03-18_01</td>\n",
       "      <td>PR-2</td>\n",
       "      <td>18/03/2016 15:19:00</td>\n",
       "      <td>49.80326</td>\n",
       "      <td>-124.726668</td>\n",
       "      <td>1.97</td>\n",
       "      <td>2.0</td>\n",
       "      <td>8.477</td>\n",
       "      <td>2.9581</td>\n",
       "      <td>27.726</td>\n",
       "      <td>91.4</td>\n",
       "      <td>279.6</td>\n",
       "      <td>1.2247</td>\n",
       "    </tr>\n",
       "    <tr>\n",
       "      <th>2</th>\n",
       "      <td>2</td>\n",
       "      <td>PSFLND2016-03-18_01</td>\n",
       "      <td>PR-2</td>\n",
       "      <td>18/03/2016 15:19:00</td>\n",
       "      <td>49.80326</td>\n",
       "      <td>-124.726668</td>\n",
       "      <td>2.97</td>\n",
       "      <td>3.0</td>\n",
       "      <td>8.485</td>\n",
       "      <td>2.9587</td>\n",
       "      <td>27.725</td>\n",
       "      <td>91.6</td>\n",
       "      <td>280.0</td>\n",
       "      <td>1.2282</td>\n",
       "    </tr>\n",
       "    <tr>\n",
       "      <th>3</th>\n",
       "      <td>2</td>\n",
       "      <td>PSFLND2016-03-18_01</td>\n",
       "      <td>PR-2</td>\n",
       "      <td>18/03/2016 15:19:00</td>\n",
       "      <td>49.80326</td>\n",
       "      <td>-124.726668</td>\n",
       "      <td>3.96</td>\n",
       "      <td>4.0</td>\n",
       "      <td>8.485</td>\n",
       "      <td>2.9588</td>\n",
       "      <td>27.726</td>\n",
       "      <td>91.7</td>\n",
       "      <td>280.5</td>\n",
       "      <td>1.2607</td>\n",
       "    </tr>\n",
       "    <tr>\n",
       "      <th>4</th>\n",
       "      <td>2</td>\n",
       "      <td>PSFLND2016-03-18_01</td>\n",
       "      <td>PR-2</td>\n",
       "      <td>18/03/2016 15:19:00</td>\n",
       "      <td>49.80326</td>\n",
       "      <td>-124.726668</td>\n",
       "      <td>4.99</td>\n",
       "      <td>5.0</td>\n",
       "      <td>8.485</td>\n",
       "      <td>2.9590</td>\n",
       "      <td>27.727</td>\n",
       "      <td>91.6</td>\n",
       "      <td>280.2</td>\n",
       "      <td>1.2845</td>\n",
       "    </tr>\n",
       "  </tbody>\n",
       "</table>\n",
       "</div>"
      ],
      "text/plain": [
       "  Patrol                   ID station             datetime  latitude  \\\n",
       "0      2  PSFLND2016-03-18_01    PR-2  18/03/2016 15:19:00  49.80326   \n",
       "1      2  PSFLND2016-03-18_01    PR-2  18/03/2016 15:19:00  49.80326   \n",
       "2      2  PSFLND2016-03-18_01    PR-2  18/03/2016 15:19:00  49.80326   \n",
       "3      2  PSFLND2016-03-18_01    PR-2  18/03/2016 15:19:00  49.80326   \n",
       "4      2  PSFLND2016-03-18_01    PR-2  18/03/2016 15:19:00  49.80326   \n",
       "\n",
       "    longitude  pressure  depth  temperature  conductivity  salinity  o2SAT  \\\n",
       "0 -124.726668      0.94    1.0        8.483        2.9579    27.720   91.2   \n",
       "1 -124.726668      1.97    2.0        8.477        2.9581    27.726   91.4   \n",
       "2 -124.726668      2.97    3.0        8.485        2.9587    27.725   91.6   \n",
       "3 -124.726668      3.96    4.0        8.485        2.9588    27.726   91.7   \n",
       "4 -124.726668      4.99    5.0        8.485        2.9590    27.727   91.6   \n",
       "\n",
       "    o2uM     chl  \n",
       "0  278.8  1.2388  \n",
       "1  279.6  1.2247  \n",
       "2  280.0  1.2282  \n",
       "3  280.5  1.2607  \n",
       "4  280.2  1.2845  "
      ]
     },
     "execution_count": 7,
     "metadata": {},
     "output_type": "execute_result"
    }
   ],
   "source": [
    "phys2016.head()"
   ]
  },
  {
   "cell_type": "code",
   "execution_count": 8,
   "metadata": {
    "collapsed": true
   },
   "outputs": [],
   "source": [
    "def utc_to_pac(timeArray):\n",
    "    return [pytz.utc.localize(ii).astimezone(pytz.timezone('Canada/Pacific')) for ii in timeArray]"
   ]
  },
  {
   "cell_type": "code",
   "execution_count": 9,
   "metadata": {
    "collapsed": false
   },
   "outputs": [],
   "source": [
    "for idf in (phys2015,phys2016,phys2017):\n",
    "    dtsP=[dt.datetime.strptime(ii,'%d/%m/%Y %H:%M:%S') for ii in idf['datetime'].values]\n",
    "    tPacP=utc_to_pac(dtsP)\n",
    "    PacDayP=[dt.datetime(ii.year,ii.month,ii.day) for ii in tPacP]\n",
    "    idf['tPacPhys']=tPacP\n",
    "    idf['PacDay']=PacDayP\n",
    "    idf['dtUTCPhys']=dtsP\n",
    "    idf['StaTrim']=[ii.replace('-','') for ii in idf['station']]\n",
    "    idf['HrsPast']=[(ii-dt.datetime(2014,1,1)).total_seconds()/3600 for ii in dtsP]\n",
    "    idf['CT']=[gsw.CT_from_t(SA,t,p) for SA, t, p, in zip(idf['salinity'],idf['temperature'],idf['pressure'])]"
   ]
  },
  {
   "cell_type": "code",
   "execution_count": 10,
   "metadata": {
    "collapsed": true
   },
   "outputs": [],
   "source": [
    "        tPac=utc_to_pac(df1['dtUTC'])\n",
    "        PacDay=[dt.datetime(ii.year,ii.month,ii.day) for ii in tPac]\n",
    "        df1['tPac']=tPac\n",
    "        df1['PacDay']=PacDay\n",
    "        df1['StaTrim']=[ii.replace('-','') for ii in df1['Station']]\n",
    "        df1['HrsPast']=[(ii-dt.datetime(2014,1,1)).total_seconds()/3600 for ii in df1['dtUTC']]\n",
    "        df1['SA']=np.nan\n",
    "        df1['CT']=np.nan\n",
    "        df1['pLat']=np.nan\n",
    "        df1['pLon']=np.nan\n",
    "        df1['tdiffH']=np.nan"
   ]
  },
  {
   "cell_type": "code",
   "execution_count": 11,
   "metadata": {
    "collapsed": false
   },
   "outputs": [],
   "source": [
    "        df2=df1.copy(deep=True)"
   ]
  },
  {
   "cell_type": "code",
   "execution_count": 12,
   "metadata": {
    "collapsed": true
   },
   "outputs": [],
   "source": [
    "        for i, row in df2.loc[(df2['dtUTC']>dt.datetime(2014,12,31))&(df2['dtUTC']<dt.datetime(2016,1,1))].iterrows():\n",
    "            idf=phys2015.loc[(phys2015.StaTrim==row['StaTrim'])&(phys2015.depth==np.round(row['Z']))&(np.abs(phys2015.HrsPast-row['HrsPast'])<1.0)\\\n",
    "                             &(np.abs(phys2015.latitude-row['Lat'])<0.05)&(np.abs(phys2015.longitude-row['Lon'])<0.05)]\n",
    "            if len(idf)>0:\n",
    "                with warnings.catch_warnings():\n",
    "                    warnings.simplefilter(\"ignore\", category=RuntimeWarning)\n",
    "                    sal=np.nanmean(idf['salinity'].values)\n",
    "                    tem=np.nanmean(idf['CT'].values)\n",
    "                    lat=np.nanmean(idf['latitude'].values)\n",
    "                    lon=np.nanmean(idf['longitude'].values)\n",
    "                tdelta=np.nanmean([(ii-row['dtUTC']).total_seconds()/3600 for ii in idf['dtUTCPhys']])\n",
    "                df1.at[i,'SA']=sal\n",
    "                df1.at[i,'CT']=tem\n",
    "                df1.at[i,'pLat']=lat\n",
    "                df1.at[i,'pLon']=lon\n",
    "                df1.at[i,'tdiffH']=tdelta"
   ]
  },
  {
   "cell_type": "code",
   "execution_count": 13,
   "metadata": {
    "collapsed": false
   },
   "outputs": [],
   "source": [
    "for i, row in df2.loc[(df2['dtUTC']>dt.datetime(2015,12,31))&(df2['dtUTC']<dt.datetime(2017,1,1))].iterrows():\n",
    "    idf=phys2016.loc[(phys2016.StaTrim==row['StaTrim'])&(phys2016.depth==np.round(row['Z']))&(np.abs(phys2016.HrsPast-row['HrsPast'])<1.0)\\\n",
    "                     &(np.abs(phys2016.latitude-row['Lat'])<0.05)&(np.abs(phys2016.longitude-row['Lon'])<0.05)]\n",
    "    if len(idf)>0:\n",
    "        with warnings.catch_warnings():\n",
    "            warnings.simplefilter(\"ignore\", category=RuntimeWarning)\n",
    "            sal=np.nanmean(idf['salinity'].values)\n",
    "            tem=np.nanmean(idf['CT'].values)\n",
    "            lat=np.nanmean(idf['latitude'].values)\n",
    "            lon=np.nanmean(idf['longitude'].values)\n",
    "        tdelta=np.nanmean([(ii-row['dtUTC']).total_seconds()/3600 for ii in idf['dtUTCPhys']])\n",
    "        df1.at[i,'SA']=sal\n",
    "        df1.at[i,'CT']=tem\n",
    "        df1.at[i,'pLat']=lat\n",
    "        df1.at[i,'pLon']=lon\n",
    "        df1.at[i,'tdiffH']=tdelta"
   ]
  },
  {
   "cell_type": "code",
   "execution_count": 14,
   "metadata": {
    "collapsed": false
   },
   "outputs": [],
   "source": [
    "for i, row in df2.loc[(df2['dtUTC']>dt.datetime(2016,12,31))&(df2['dtUTC']<dt.datetime(2018,1,1))].iterrows():\n",
    "    idf=phys2017.loc[(phys2017.StaTrim==row['StaTrim'])&(phys2017.depth==np.round(row['Z']))&(np.abs(phys2017.HrsPast-row['HrsPast'])<1.0)\\\n",
    "                     &(np.abs(phys2017.latitude-row['Lat'])<0.05)&(np.abs(phys2017.longitude-row['Lon'])<0.05)]\n",
    "    if len(idf)>0:\n",
    "        with warnings.catch_warnings():\n",
    "            warnings.simplefilter(\"ignore\", category=RuntimeWarning)\n",
    "            sal=np.nanmean(idf['salinity'].values)\n",
    "            tem=np.nanmean(idf['CT'].values)\n",
    "            lat=np.nanmean(idf['latitude'].values)\n",
    "            lon=np.nanmean(idf['longitude'].values)\n",
    "        tdelta=np.nanmean([(ii-row['dtUTC']).total_seconds()/3600 for ii in idf['dtUTCPhys']])\n",
    "        df1.at[i,'SA']=sal\n",
    "        df1.at[i,'CT']=tem\n",
    "        df1.at[i,'pLat']=lat\n",
    "        df1.at[i,'pLon']=lon\n",
    "        df1.at[i,'tdiffH']=tdelta"
   ]
  },
  {
   "cell_type": "code",
   "execution_count": 15,
   "metadata": {
    "collapsed": false
   },
   "outputs": [
    {
     "data": {
      "text/html": [
       "<div>\n",
       "<style scoped>\n",
       "    .dataframe tbody tr th:only-of-type {\n",
       "        vertical-align: middle;\n",
       "    }\n",
       "\n",
       "    .dataframe tbody tr th {\n",
       "        vertical-align: top;\n",
       "    }\n",
       "\n",
       "    .dataframe thead th {\n",
       "        text-align: right;\n",
       "    }\n",
       "</style>\n",
       "<table border=\"1\" class=\"dataframe\">\n",
       "  <thead>\n",
       "    <tr style=\"text-align: right;\">\n",
       "      <th></th>\n",
       "      <th>Lat</th>\n",
       "      <th>Lon</th>\n",
       "      <th>NO23</th>\n",
       "      <th>PO4</th>\n",
       "      <th>Si</th>\n",
       "      <th>Station</th>\n",
       "      <th>Z</th>\n",
       "      <th>dtUTC</th>\n",
       "      <th>Chl</th>\n",
       "      <th>Depth_m</th>\n",
       "      <th>Phaeo</th>\n",
       "      <th>tPac</th>\n",
       "      <th>PacDay</th>\n",
       "      <th>StaTrim</th>\n",
       "      <th>HrsPast</th>\n",
       "      <th>SA</th>\n",
       "      <th>CT</th>\n",
       "      <th>pLat</th>\n",
       "      <th>pLon</th>\n",
       "      <th>tdiffH</th>\n",
       "    </tr>\n",
       "  </thead>\n",
       "  <tbody>\n",
       "    <tr>\n",
       "      <th>0</th>\n",
       "      <td>49.608333</td>\n",
       "      <td>-124.866667</td>\n",
       "      <td>18.65</td>\n",
       "      <td>1.459</td>\n",
       "      <td>68.43</td>\n",
       "      <td>BS1</td>\n",
       "      <td>2.0</td>\n",
       "      <td>2015-02-18 23:07:00</td>\n",
       "      <td>NaN</td>\n",
       "      <td>NaN</td>\n",
       "      <td>NaN</td>\n",
       "      <td>2015-02-18 15:07:00-08:00</td>\n",
       "      <td>2015-02-18</td>\n",
       "      <td>BS1</td>\n",
       "      <td>9935.116667</td>\n",
       "      <td>24.3455</td>\n",
       "      <td>8.986387</td>\n",
       "      <td>49.603803</td>\n",
       "      <td>-124.867129</td>\n",
       "      <td>0.059306</td>\n",
       "    </tr>\n",
       "    <tr>\n",
       "      <th>1</th>\n",
       "      <td>49.608333</td>\n",
       "      <td>-124.866667</td>\n",
       "      <td>26.62</td>\n",
       "      <td>2.175</td>\n",
       "      <td>55.73</td>\n",
       "      <td>BS1</td>\n",
       "      <td>20.0</td>\n",
       "      <td>2015-02-18 23:07:00</td>\n",
       "      <td>NaN</td>\n",
       "      <td>NaN</td>\n",
       "      <td>NaN</td>\n",
       "      <td>2015-02-18 15:07:00-08:00</td>\n",
       "      <td>2015-02-18</td>\n",
       "      <td>BS1</td>\n",
       "      <td>9935.116667</td>\n",
       "      <td>28.0035</td>\n",
       "      <td>8.810689</td>\n",
       "      <td>49.603803</td>\n",
       "      <td>-124.867129</td>\n",
       "      <td>0.059306</td>\n",
       "    </tr>\n",
       "    <tr>\n",
       "      <th>2</th>\n",
       "      <td>49.608333</td>\n",
       "      <td>-124.866667</td>\n",
       "      <td>16.25</td>\n",
       "      <td>1.809</td>\n",
       "      <td>39.14</td>\n",
       "      <td>BS1</td>\n",
       "      <td>2.0</td>\n",
       "      <td>2015-03-21 22:55:00</td>\n",
       "      <td>NaN</td>\n",
       "      <td>NaN</td>\n",
       "      <td>NaN</td>\n",
       "      <td>2015-03-21 15:55:00-07:00</td>\n",
       "      <td>2015-03-21</td>\n",
       "      <td>BS1</td>\n",
       "      <td>10678.916667</td>\n",
       "      <td>26.9730</td>\n",
       "      <td>9.675332</td>\n",
       "      <td>49.608083</td>\n",
       "      <td>-124.865769</td>\n",
       "      <td>0.060139</td>\n",
       "    </tr>\n",
       "    <tr>\n",
       "      <th>3</th>\n",
       "      <td>49.608333</td>\n",
       "      <td>-124.866667</td>\n",
       "      <td>16.83</td>\n",
       "      <td>2.069</td>\n",
       "      <td>39.11</td>\n",
       "      <td>BS1</td>\n",
       "      <td>20.0</td>\n",
       "      <td>2015-03-21 22:55:00</td>\n",
       "      <td>NaN</td>\n",
       "      <td>NaN</td>\n",
       "      <td>NaN</td>\n",
       "      <td>2015-03-21 15:55:00-07:00</td>\n",
       "      <td>2015-03-21</td>\n",
       "      <td>BS1</td>\n",
       "      <td>10678.916667</td>\n",
       "      <td>28.3310</td>\n",
       "      <td>9.113702</td>\n",
       "      <td>49.608083</td>\n",
       "      <td>-124.865769</td>\n",
       "      <td>0.060139</td>\n",
       "    </tr>\n",
       "    <tr>\n",
       "      <th>4</th>\n",
       "      <td>49.608333</td>\n",
       "      <td>-124.866667</td>\n",
       "      <td>24.27</td>\n",
       "      <td>0.551</td>\n",
       "      <td>49.90</td>\n",
       "      <td>BS1</td>\n",
       "      <td>20.0</td>\n",
       "      <td>2015-04-05 23:10:00</td>\n",
       "      <td>NaN</td>\n",
       "      <td>NaN</td>\n",
       "      <td>NaN</td>\n",
       "      <td>2015-04-05 16:10:00-07:00</td>\n",
       "      <td>2015-04-05</td>\n",
       "      <td>BS1</td>\n",
       "      <td>11039.166667</td>\n",
       "      <td>28.6415</td>\n",
       "      <td>9.296229</td>\n",
       "      <td>49.607844</td>\n",
       "      <td>-124.867737</td>\n",
       "      <td>0.007917</td>\n",
       "    </tr>\n",
       "  </tbody>\n",
       "</table>\n",
       "</div>"
      ],
      "text/plain": [
       "         Lat         Lon   NO23    PO4     Si Station     Z  \\\n",
       "0  49.608333 -124.866667  18.65  1.459  68.43     BS1   2.0   \n",
       "1  49.608333 -124.866667  26.62  2.175  55.73     BS1  20.0   \n",
       "2  49.608333 -124.866667  16.25  1.809  39.14     BS1   2.0   \n",
       "3  49.608333 -124.866667  16.83  2.069  39.11     BS1  20.0   \n",
       "4  49.608333 -124.866667  24.27  0.551  49.90     BS1  20.0   \n",
       "\n",
       "                dtUTC  Chl Depth_m  Phaeo                      tPac  \\\n",
       "0 2015-02-18 23:07:00  NaN     NaN    NaN 2015-02-18 15:07:00-08:00   \n",
       "1 2015-02-18 23:07:00  NaN     NaN    NaN 2015-02-18 15:07:00-08:00   \n",
       "2 2015-03-21 22:55:00  NaN     NaN    NaN 2015-03-21 15:55:00-07:00   \n",
       "3 2015-03-21 22:55:00  NaN     NaN    NaN 2015-03-21 15:55:00-07:00   \n",
       "4 2015-04-05 23:10:00  NaN     NaN    NaN 2015-04-05 16:10:00-07:00   \n",
       "\n",
       "      PacDay StaTrim       HrsPast       SA        CT       pLat        pLon  \\\n",
       "0 2015-02-18     BS1   9935.116667  24.3455  8.986387  49.603803 -124.867129   \n",
       "1 2015-02-18     BS1   9935.116667  28.0035  8.810689  49.603803 -124.867129   \n",
       "2 2015-03-21     BS1  10678.916667  26.9730  9.675332  49.608083 -124.865769   \n",
       "3 2015-03-21     BS1  10678.916667  28.3310  9.113702  49.608083 -124.865769   \n",
       "4 2015-04-05     BS1  11039.166667  28.6415  9.296229  49.607844 -124.867737   \n",
       "\n",
       "     tdiffH  \n",
       "0  0.059306  \n",
       "1  0.059306  \n",
       "2  0.060139  \n",
       "3  0.060139  \n",
       "4  0.007917  "
      ]
     },
     "execution_count": 15,
     "metadata": {},
     "output_type": "execute_result"
    }
   ],
   "source": [
    "df1.head()"
   ]
  },
  {
   "cell_type": "code",
   "execution_count": 16,
   "metadata": {
    "collapsed": false
   },
   "outputs": [
    {
     "data": {
      "text/plain": [
       "0.01853616669999525"
      ]
     },
     "execution_count": 16,
     "metadata": {},
     "output_type": "execute_result"
    }
   ],
   "source": [
    "np.max(np.abs(df1['Lat']-df1['pLat']))"
   ]
  },
  {
   "cell_type": "code",
   "execution_count": 17,
   "metadata": {
    "collapsed": false
   },
   "outputs": [
    {
     "data": {
      "text/plain": [
       "0.021861333299995067"
      ]
     },
     "execution_count": 17,
     "metadata": {},
     "output_type": "execute_result"
    }
   ],
   "source": [
    "np.max(np.abs(df1['Lon']-df1['pLon']))"
   ]
  },
  {
   "cell_type": "code",
   "execution_count": 18,
   "metadata": {
    "collapsed": false
   },
   "outputs": [
    {
     "data": {
      "text/plain": [
       "0.9986111111111111"
      ]
     },
     "execution_count": 18,
     "metadata": {},
     "output_type": "execute_result"
    }
   ],
   "source": [
    "np.max(np.abs(df1['tdiffH']))"
   ]
  },
  {
   "cell_type": "code",
   "execution_count": 19,
   "metadata": {
    "collapsed": false
   },
   "outputs": [],
   "source": [
    "PATH= '/results2/SalishSea/hindcast/'\n",
    "start_date = dt.datetime(2015,1,1)\n",
    "end_date = dt.datetime(2018,1,1)\n",
    "flen=1\n",
    "namfmt='nowcast'\n",
    "#varmap={'N':'nitrate','Si':'silicon','Ammonium':'ammonium'}\n",
    "filemap={'nitrate':'ptrc_T','silicon':'ptrc_T','ammonium':'ptrc_T','diatoms':'ptrc_T','ciliates':'ptrc_T','flagellates':'ptrc_T','vosaline':'grid_T','votemper':'grid_T'}\n",
    "#gridmap={'nitrate':'tmask','silicon':'tmask','ammonium':'tmask'}\n",
    "fdict={'ptrc_T':1,'grid_T':1}\n",
    "#df1=et.loadDFO()\n",
    "#df1.head()\n",
    "df1['AbsSal']=df1['SA']\n",
    "df1['ConsT']=df1['CT']"
   ]
  },
  {
   "cell_type": "code",
   "execution_count": 20,
   "metadata": {
    "collapsed": false
   },
   "outputs": [
    {
     "data": {
      "text/plain": [
       "[<matplotlib.lines.Line2D at 0x7f33cbbafb38>]"
      ]
     },
     "execution_count": 20,
     "metadata": {},
     "output_type": "execute_result"
    },
    {
     "data": {
      "image/png": "[encoded data removed]",
      "text/plain": [
       "<matplotlib.figure.Figure at 0x7f33cdb49320>"
      ]
     },
     "metadata": {},
     "output_type": "display_data"
    }
   ],
   "source": [
    "plt.plot(df1['SA'],df1['NO23'],'k.')"
   ]
  },
  {
   "cell_type": "code",
   "execution_count": 21,
   "metadata": {
    "collapsed": false
   },
   "outputs": [
    {
     "data": {
      "text/plain": [
       "[<matplotlib.lines.Line2D at 0x7f33cd1140f0>]"
      ]
     },
     "execution_count": 21,
     "metadata": {},
     "output_type": "execute_result"
    },
    {
     "data": {
      "image/png": "[encoded data removed]",
      "text/plain": [
       "<matplotlib.figure.Figure at 0x7f33cbbd4d68>"
      ]
     },
     "metadata": {},
     "output_type": "display_data"
    }
   ],
   "source": [
    "plt.plot(df1['SA'],df1['CT'],'k.')"
   ]
  },
  {
   "cell_type": "code",
   "execution_count": 22,
   "metadata": {
    "collapsed": false
   },
   "outputs": [
    {
     "data": {
      "text/plain": [
       "SA    2691\n",
       "dtype: int64"
      ]
     },
     "execution_count": 22,
     "metadata": {},
     "output_type": "execute_result"
    }
   ],
   "source": [
    "df1.loc[(~np.isnan(df1.SA)),['SA']].count()"
   ]
  },
  {
   "cell_type": "code",
   "execution_count": 23,
   "metadata": {
    "collapsed": false
   },
   "outputs": [
    {
     "data": {
      "text/plain": [
       "SA    368\n",
       "dtype: int64"
      ]
     },
     "execution_count": 23,
     "metadata": {},
     "output_type": "execute_result"
    }
   ],
   "source": [
    "df1.loc[(~np.isnan(df1.SA))&(np.isnan(df1.NO23)),['SA']].count()"
   ]
  },
  {
   "cell_type": "code",
   "execution_count": 24,
   "metadata": {
    "collapsed": false
   },
   "outputs": [
    {
     "data": {
      "text/plain": [
       "NO23    677\n",
       "dtype: int64"
      ]
     },
     "execution_count": 24,
     "metadata": {},
     "output_type": "execute_result"
    }
   ],
   "source": [
    "df1.loc[(np.isnan(df1.SA))&(~np.isnan(df1.NO23)),['NO23']].count()"
   ]
  },
  {
   "cell_type": "code",
   "execution_count": 25,
   "metadata": {
    "collapsed": false
   },
   "outputs": [
    {
     "data": {
      "text/plain": [
       "CT    2690\n",
       "dtype: int64"
      ]
     },
     "execution_count": 25,
     "metadata": {},
     "output_type": "execute_result"
    }
   ],
   "source": [
    "df1.loc[~np.isnan(df1['CT']),['CT']].count()"
   ]
  },
  {
   "cell_type": "code",
   "execution_count": 26,
   "metadata": {
    "collapsed": false
   },
   "outputs": [
    {
     "data": {
      "text/plain": [
       "CT    368\n",
       "dtype: int64"
      ]
     },
     "execution_count": 26,
     "metadata": {},
     "output_type": "execute_result"
    }
   ],
   "source": [
    "df1.loc[(~np.isnan(df1['CT']))&(np.isnan(df1.NO23)),['CT']].count()"
   ]
  },
  {
   "cell_type": "code",
   "execution_count": 27,
   "metadata": {
    "collapsed": false
   },
   "outputs": [
    {
     "data": {
      "text/plain": [
       "NO23    678\n",
       "dtype: int64"
      ]
     },
     "execution_count": 27,
     "metadata": {},
     "output_type": "execute_result"
    }
   ],
   "source": [
    "df1.loc[(np.isnan(df1['CT']))&(~np.isnan(df1.NO23)),['NO23']].count()"
   ]
  },
  {
   "cell_type": "code",
   "execution_count": 28,
   "metadata": {
    "collapsed": false
   },
   "outputs": [
    {
     "data": {
      "text/plain": [
       "NO23    3000\n",
       "dtype: int64"
      ]
     },
     "execution_count": 28,
     "metadata": {},
     "output_type": "execute_result"
    }
   ],
   "source": [
    "df1.loc[(~np.isnan(df1.NO23)),['NO23']].count()"
   ]
  },
  {
   "cell_type": "code",
   "execution_count": 29,
   "metadata": {
    "collapsed": false
   },
   "outputs": [
    {
     "name": "stdout",
     "output_type": "stream",
     "text": [
      "% of N values without S:\n",
      "[22.56666667]\n"
     ]
    }
   ],
   "source": [
    "print('% of N values without S:')\n",
    "print(df1.loc[(np.isnan(df1.SA))&(~np.isnan(df1.NO23)),['NO23']].count().values/df1.loc[(~np.isnan(df1.NO23)),['NO23']].count().values*100)"
   ]
  },
  {
   "cell_type": "code",
   "execution_count": 30,
   "metadata": {
    "collapsed": false
   },
   "outputs": [],
   "source": [
    "# use only matched locs. \n",
    "df2=df1.loc[(df1.NO23>=0)|(df1.Si>=0)]"
   ]
  },
  {
   "cell_type": "code",
   "execution_count": 31,
   "metadata": {
    "collapsed": false
   },
   "outputs": [],
   "source": [
    "dataPSF=et.matchData(df2,filemap, fdict, start_date, end_date, namfmt, PATH, flen)"
   ]
  },
  {
   "cell_type": "code",
   "execution_count": 32,
   "metadata": {
    "collapsed": true
   },
   "outputs": [],
   "source": [
    "def rotmap(lon,lat,lon0,lat0,phi):\n",
    "    # rotate around point (pick one near center of domain)\n",
    "    # phi in degrees\n",
    "    # first scale lats to match and center around lat0,lon0:\n",
    "    lon1=(lon-lon0)*np.cos(lat0*np.pi/180)\n",
    "    lat1=lat-lat0\n",
    "    # now rotate:\n",
    "    lon2=lon1*np.cos(phi*np.pi/180)-lat1*np.sin(phi*np.pi/180)\n",
    "    lat2=lon1*np.sin(phi*np.pi/180)+lat1*np.cos(phi*np.pi/180)\n",
    "    return lon2,lat2"
   ]
  },
  {
   "cell_type": "code",
   "execution_count": 33,
   "metadata": {
    "collapsed": true
   },
   "outputs": [],
   "source": [
    "cm1=plt.get_cmap('PuBuGn')\n",
    "#cm1=cmo.cm.matter\n",
    "theta=-30\n",
    "lon0=-123.9\n",
    "lat0=49.3\n",
    "with nc.Dataset('/data/eolson/results/MEOPAR/NEMO-forcing-new/grid/bathymetry_201702.nc') as bathy:\n",
    "    bathylon=np.copy(bathy.variables['nav_lon'][:,:])\n",
    "    bathylat=np.copy(bathy.variables['nav_lat'][:,:])\n",
    "    bathyZ=np.copy(bathy.variables['Bathymetry'][:,:])\n",
    "blon,blat=rotmap(bathylon,bathylat,lon0,lat0,theta)"
   ]
  },
  {
   "cell_type": "code",
   "execution_count": 34,
   "metadata": {
    "collapsed": false
   },
   "outputs": [
    {
     "data": {
      "image/png": "[encoded data removed]",
      "text/plain": [
       "<matplotlib.figure.Figure at 0x7f33c26da5f8>"
      ]
     },
     "metadata": {},
     "output_type": "display_data"
    }
   ],
   "source": [
    "fig = plt.figure(figsize = (7.5,4.5))\n",
    "gs1=gridspec.GridSpec(2,4,left=.08,right=.98,bottom=.015,top=.94,\n",
    "                      wspace=.34,hspace=.34,height_ratios=[1,1],width_ratios=[1,1,1,.1])\n",
    "ax2015N=fig.add_subplot(gs1[0,0])\n",
    "ax2016N = fig.add_subplot(gs1[0,1])\n",
    "ax2017N = fig.add_subplot(gs1[0,2])\n",
    "ax2015Si= fig.add_subplot(gs1[1,0])\n",
    "ax2016Si= fig.add_subplot(gs1[1,1])\n",
    "ax2017Si= fig.add_subplot(gs1[1,2])\n",
    "gscb=gridspec.GridSpecFromSubplotSpec(5,1,subplot_spec=gs1[:,3])\n",
    "axcb = fig.add_subplot(gscb[1:-1])\n",
    "\n",
    "for ax in (ax2015N,ax2016N,ax2017N):\n",
    "    ax.plot((0,36),(0,36),'k-',alpha=.2)\n",
    "for ax in (ax2015Si,ax2016Si,ax2017Si):\n",
    "    ax.plot((0,25),(0,25),'k-',alpha=.2)\n",
    "\n",
    "vm0=-150\n",
    "args={'marker':'.','s':1,}\n",
    "dataPSF2015=dataPSF.loc[(dataPSF.dtUTC>=dt.datetime(2015,1,1))&(dataPSF.dtUTC<dt.datetime(2016,1,1))]\n",
    "ps=et.varvarScatter(ax2015N,dataPSF2015,'AbsSal','mod_vosaline','Z',vmin=vm0,vmax=450,cm=cm1,args=args)\n",
    "dataPSF2016=dataPSF.loc[(dataPSF.dtUTC>=dt.datetime(2016,1,1))&(dataPSF.dtUTC<dt.datetime(2017,1,1))]\n",
    "ps=et.varvarScatter(ax2016N,dataPSF2016,'AbsSal','mod_vosaline','Z',vmin=vm0,vmax=450,cm=cm1,args=args)\n",
    "dataPSF2017=dataPSF.loc[(dataPSF.dtUTC>=dt.datetime(2017,1,1))&(dataPSF.dtUTC<dt.datetime(2018,1,1))]\n",
    "ps=et.varvarScatter(ax2017N,dataPSF2017,'AbsSal','mod_vosaline','Z',vmin=vm0,vmax=450,cm=cm1,args=args)\n",
    "ps=et.varvarScatter(ax2015Si,dataPSF2015,'ConsT','mod_votemper','Z',vmin=vm0,vmax=450,cm=cm1,args=args)\n",
    "ps=et.varvarScatter(ax2016Si,dataPSF2016,'ConsT','mod_votemper','Z',vmin=vm0,vmax=450,cm=cm1,args=args)\n",
    "ps=et.varvarScatter(ax2017Si,dataPSF2017,'ConsT','mod_votemper','Z',vmin=vm0,vmax=450,cm=cm1,args=args)\n",
    "\n",
    "cb=fig.colorbar(ps,cax=axcb,boundaries=np.linspace(0,450,46))\n",
    "cb.set_label('Depth (m)')\n",
    "\n",
    "ntick=np.arange(0,36,10)\n",
    "ntickl=[str(i) for i in ntick]\n",
    "for ax in (ax2015N,ax2016N,ax2017N):\n",
    "    ax.set_xlim((0,36))\n",
    "    ax.set_ylim((0,36))\n",
    "    ax.set_xticks(ntick)\n",
    "    ax.set_xticklabels(ntickl)\n",
    "    ax.set_yticks(ntick)\n",
    "    ax.set_yticklabels(ntickl)\n",
    "    \n",
    "stick=np.arange(0,25,10)\n",
    "stickl=[str(i) for i in stick]\n",
    "for ax in (ax2015Si,ax2016Si,ax2017Si):\n",
    "    ax.set_xlim((0,25))\n",
    "    ax.set_ylim((0,25))\n",
    "    ax.set_xticks(stick)\n",
    "    ax.set_xticklabels(stickl)\n",
    "    ax.set_yticks(stick)\n",
    "    ax.set_yticklabels(stickl)\n",
    "    \n",
    "for ax in (ax2015N,ax2016N,ax2017N,ax2015Si,ax2016Si,ax2017Si):\n",
    "    ax.set_aspect(1, adjustable='box')\n",
    "    #ax.set_xlabel('Observed')\n",
    "    \n",
    "ax2015N.set_ylabel('Modeled',fontsize=12)\n",
    "ax2015Si.set_ylabel('Modeled',fontsize=12)\n",
    "ax2015Si.set_ylabel('Modeled',fontsize=12)\n",
    "ax2015Si.set_xlabel('Observed',fontsize=12)\n",
    "ax2016Si.set_xlabel('Observed',fontsize=12)\n",
    "ax2017Si.set_xlabel('Observed',fontsize=12)\n",
    "\n",
    "ax2015N.annotate('2015',xy=[.5,1.18],xycoords='axes fraction',ha='center',fontsize=12)\n",
    "ax2016N.annotate('2016',xy=[.5,1.18],xycoords='axes fraction',ha='center',fontsize=12)\n",
    "ax2017N.annotate('2017',xy=[.5,1.18],xycoords='axes fraction',ha='center',fontsize=12)\n",
    "ax2015N.set_title('SA (g/kg)')\n",
    "ax2016N.set_title('SA (g/kg)')\n",
    "ax2017N.set_title('SA (g/kg)')\n",
    "ax2015Si.set_title('\\Theta ($^{\\circ}$C)')\n",
    "ax2016Si.set_title('\\Theta ($^{\\circ}$C)')\n",
    "ax2017Si.set_title('\\Theta ($^{\\circ}$C)')\n",
    "\n",
    "fig.savefig('/data/eolson/results/MEOPAR/biomodelevalpaper/figsEval/EvalTS.eps',dpi=200,transparent=True)"
   ]
  },
  {
   "cell_type": "code",
   "execution_count": 35,
   "metadata": {
    "collapsed": false
   },
   "outputs": [
    {
     "data": {
      "image/png": "[encoded data removed]",
      "text/plain": [
       "<matplotlib.figure.Figure at 0x7f33c26fa8d0>"
      ]
     },
     "metadata": {},
     "output_type": "display_data"
    }
   ],
   "source": [
    "plt.hist(dataPSF.Z,50);"
   ]
  },
  {
   "cell_type": "code",
   "execution_count": null,
   "metadata": {
    "collapsed": true
   },
   "outputs": [],
   "source": []
  }
 ],
 "metadata": {
  "anaconda-cloud": {},
  "kernelspec": {
   "display_name": "Python [conda env:python36]",
   "language": "python",
   "name": "conda-env-python36-py"
  },
  "language_info": {
   "codemirror_mode": {
    "name": "ipython",
    "version": 3
   },
   "file_extension": ".py",
   "mimetype": "text/x-python",
   "name": "python",
   "nbconvert_exporter": "python",
   "pygments_lexer": "ipython3",
   "version": "3.6.3"
  }
 },
 "nbformat": 4,
 "nbformat_minor": 2
}
