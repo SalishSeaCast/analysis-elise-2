{
 "cells": [
  {
   "cell_type": "code",
   "execution_count": 1,
   "metadata": {
    "collapsed": false
   },
   "outputs": [],
   "source": [
    "import numpy as np\n",
    "import matplotlib.pyplot as plt\n",
    "import os\n",
    "import pandas as pd\n",
    "import netCDF4 as nc\n",
    "import datetime as dt\n",
    "from salishsea_tools import evaltools as et\n",
    "from salishsea_tools import geo_tools, viz_tools\n",
    "import pickle\n",
    "import cmocean\n",
    "%matplotlib inline"
   ]
  },
  {
   "cell_type": "code",
   "execution_count": 2,
   "metadata": {
    "collapsed": true
   },
   "outputs": [],
   "source": [
    "data0=pickle.load(open('/data/eolson/MEOPAR/SS36runs/calcFiles/evalMatches/dataDFO.pkl','rb'))\n",
    "data=data0.loc[(data0.Year==2017)&(data0.i>120)&(data0.j>200)&(data0.j<800)&(data0.Z<5)].\\\n",
    "        copy(deep=True).reindex()"
   ]
  },
  {
   "cell_type": "code",
   "execution_count": 3,
   "metadata": {
    "collapsed": false
   },
   "outputs": [
    {
     "data": {
      "text/plain": [
       "(200, 800)"
      ]
     },
     "execution_count": 3,
     "metadata": {},
     "output_type": "execute_result"
    },
    {
     "data": {
      "image/png": "[encoded data removed]",
      "text/plain": [
       "<Figure size 432x288 with 1 Axes>"
      ]
     },
     "metadata": {
      "needs_background": "light"
     },
     "output_type": "display_data"
    }
   ],
   "source": [
    "mesh=nc.Dataset('/home/sallen/MEOPAR/grid/mesh_mask201702.nc')\n",
    "tmask=mesh.variables['tmask']\n",
    "plt.pcolormesh(tmask[0,0,:,:])\n",
    "plt.xlim(120,398)\n",
    "plt.ylim(200,800)"
   ]
  },
  {
   "cell_type": "code",
   "execution_count": 4,
   "metadata": {
    "collapsed": false
   },
   "outputs": [
    {
     "data": {
      "text/plain": [
       "308"
      ]
     },
     "execution_count": 4,
     "metadata": {},
     "output_type": "execute_result"
    }
   ],
   "source": [
    "len(data)"
   ]
  },
  {
   "cell_type": "code",
   "execution_count": 5,
   "metadata": {
    "collapsed": false
   },
   "outputs": [],
   "source": [
    "data2=data.loc[:,['dtUTC','i','j','Z']].drop_duplicates()"
   ]
  },
  {
   "cell_type": "code",
   "execution_count": 6,
   "metadata": {
    "collapsed": false
   },
   "outputs": [
    {
     "data": {
      "text/html": [
       "<div>\n",
       "<style scoped>\n",
       "    .dataframe tbody tr th:only-of-type {\n",
       "        vertical-align: middle;\n",
       "    }\n",
       "\n",
       "    .dataframe tbody tr th {\n",
       "        vertical-align: top;\n",
       "    }\n",
       "\n",
       "    .dataframe thead th {\n",
       "        text-align: right;\n",
       "    }\n",
       "</style>\n",
       "<table border=\"1\" class=\"dataframe\">\n",
       "  <thead>\n",
       "    <tr style=\"text-align: right;\">\n",
       "      <th></th>\n",
       "      <th>dtUTC</th>\n",
       "      <th>i</th>\n",
       "      <th>j</th>\n",
       "      <th>Z</th>\n",
       "    </tr>\n",
       "  </thead>\n",
       "  <tbody>\n",
       "    <tr>\n",
       "      <th>3965</th>\n",
       "      <td>2017-08-16 13:36:00</td>\n",
       "      <td>285</td>\n",
       "      <td>593</td>\n",
       "      <td>1.3</td>\n",
       "    </tr>\n",
       "  </tbody>\n",
       "</table>\n",
       "</div>"
      ],
      "text/plain": [
       "                   dtUTC    i    j    Z\n",
       "3965 2017-08-16 13:36:00  285  593  1.3"
      ]
     },
     "execution_count": 6,
     "metadata": {},
     "output_type": "execute_result"
    }
   ],
   "source": [
    "data2.loc[data2['i']==285]"
   ]
  },
  {
   "cell_type": "code",
   "execution_count": 7,
   "metadata": {
    "collapsed": false
   },
   "outputs": [
    {
     "data": {
      "text/plain": [
       "275"
      ]
     },
     "execution_count": 7,
     "metadata": {},
     "output_type": "execute_result"
    }
   ],
   "source": [
    "len(data2)"
   ]
  },
  {
   "cell_type": "code",
   "execution_count": 8,
   "metadata": {
    "collapsed": true
   },
   "outputs": [],
   "source": [
    "tstart=dt.datetime(2017,1,1)\n",
    "tend=dt.datetime(2017,12,31)"
   ]
  },
  {
   "cell_type": "code",
   "execution_count": 9,
   "metadata": {
    "collapsed": true
   },
   "outputs": [],
   "source": [
    "f=nc.Dataset('/data/eolson/results/MEOPAR/ariane-2.2.8_04-new/experiment/ariane_trajectories_qualitative.nc')"
   ]
  },
  {
   "cell_type": "code",
   "execution_count": 10,
   "metadata": {
    "collapsed": false
   },
   "outputs": [
    {
     "data": {
      "text/plain": [
       "odict_keys(['init_x', 'init_y', 'init_z', 'init_t', 'init_age', 'init_transp', 'final_x', 'final_y', 'final_z', 'final_t', 'final_age', 'final_transp', 'traj_lon', 'traj_lat', 'traj_depth', 'traj_time'])"
      ]
     },
     "execution_count": 10,
     "metadata": {},
     "output_type": "execute_result"
    }
   ],
   "source": [
    "f.variables.keys()"
   ]
  },
  {
   "cell_type": "code",
   "execution_count": 11,
   "metadata": {
    "collapsed": false
   },
   "outputs": [
    {
     "data": {
      "text/plain": [
       "<class 'netCDF4._netCDF4.Variable'>\n",
       "float64 traj_depth(nb_output, ntraj)\n",
       "    title: What is traj_depth ?\n",
       "    longname: Trajectory: z positions\n",
       "    units: No dimension\n",
       "    missing_value: 1e+20\n",
       "unlimited dimensions: nb_output\n",
       "current shape = (49, 550)\n",
       "filling on, default _FillValue of 9.969209968386869e+36 used"
      ]
     },
     "execution_count": 11,
     "metadata": {},
     "output_type": "execute_result"
    }
   ],
   "source": [
    "f.variables['traj_depth']"
   ]
  },
  {
   "cell_type": "code",
   "execution_count": 12,
   "metadata": {
    "collapsed": false
   },
   "outputs": [
    {
     "name": "stdout",
     "output_type": "stream",
     "text": [
      "0.15190937982505343 6.18986054832445\n",
      "0.2416848816615188 18.178118307201647\n",
      "0.07530515839668846 2.468626444852687\n",
      "0.017647101219431173 1.2358576897120002\n",
      "-0.0005350704087321461 0.993599724671627\n",
      "-0.0002102419807122762 0.9974802760784539\n",
      "0.023880385348686823 1.3318442344603778\n",
      "0.0677543383460932 2.2547792174414614\n",
      "0.052139041067949456 1.8694952839685355\n",
      "0.051410087521263456 1.8532132980453244\n"
     ]
    },
    {
     "data": {
      "image/png": "[encoded data removed]",
      "text/plain": [
       "<Figure size 576x144 with 2 Axes>"
      ]
     },
     "metadata": {
      "needs_background": "light"
     },
     "output_type": "display_data"
    },
    {
     "data": {
      "image/png": "[encoded data removed]",
      "text/plain": [
       "<Figure size 576x144 with 2 Axes>"
      ]
     },
     "metadata": {
      "needs_background": "light"
     },
     "output_type": "display_data"
    },
    {
     "data": {
      "image/png": "[encoded data removed]",
      "text/plain": [
       "<Figure size 576x144 with 2 Axes>"
      ]
     },
     "metadata": {
      "needs_background": "light"
     },
     "output_type": "display_data"
    },
    {
     "data": {
      "image/png": "[encoded data removed]",
      "text/plain": [
       "<Figure size 576x144 with 2 Axes>"
      ]
     },
     "metadata": {
      "needs_background": "light"
     },
     "output_type": "display_data"
    },
    {
     "data": {
      "image/png": "[encoded data removed]",
      "text/plain": [
       "<Figure size 576x144 with 2 Axes>"
      ]
     },
     "metadata": {
      "needs_background": "light"
     },
     "output_type": "display_data"
    },
    {
     "data": {
      "image/png": "[encoded data removed]",
      "text/plain": [
       "<Figure size 576x144 with 2 Axes>"
      ]
     },
     "metadata": {
      "needs_background": "light"
     },
     "output_type": "display_data"
    },
    {
     "data": {
      "image/png": "[encoded data removed]",
      "text/plain": [
       "<Figure size 576x144 with 2 Axes>"
      ]
     },
     "metadata": {
      "needs_background": "light"
     },
     "output_type": "display_data"
    },
    {
     "data": {
      "image/png": "[encoded data removed]",
      "text/plain": [
       "<Figure size 576x144 with 2 Axes>"
      ]
     },
     "metadata": {
      "needs_background": "light"
     },
     "output_type": "display_data"
    },
    {
     "data": {
      "image/png": "[encoded data removed]",
      "text/plain": [
       "<Figure size 576x144 with 2 Axes>"
      ]
     },
     "metadata": {
      "needs_background": "light"
     },
     "output_type": "display_data"
    },
    {
     "data": {
      "image/png": "[encoded data removed]",
      "text/plain": [
       "<Figure size 576x144 with 2 Axes>"
      ]
     },
     "metadata": {
      "needs_background": "light"
     },
     "output_type": "display_data"
    }
   ],
   "source": [
    "\n",
    "cols=['maroon','coral','orange','y','forestgreen','limegreen','teal','cyan','cornflowerblue','darkviolet','orchid','magenta']\n",
    "for ii in range(0,10):\n",
    "    fig,ax=plt.subplots(1,2,figsize=(8,2))\n",
    "    ax[0].pcolormesh(mesh.variables['nav_lon'],mesh.variables['nav_lat'],tmask[0,0,:,:])\n",
    "    ax[0].plot(f.variables['traj_lon'][:,2*ii],f.variables['traj_lat'][:,2*ii],'-',color=cols[ii])\n",
    "    ax[0].plot(f.variables['traj_lon'][:,2*ii+1],f.variables['traj_lat'][:,2*ii+1],'-',color=cols[ii])\n",
    "    ax[0].plot(f.variables['traj_lon'][-1,2*ii],f.variables['traj_lat'][-1,2*ii],'k*')\n",
    "    ax[0].plot(f.variables['traj_lon'][-1,2*ii+1],f.variables['traj_lat'][-1,2*ii+1],'k*')\n",
    "    ax[0].set_xlim(-124.5,-123)\n",
    "    ax[0].set_ylim(48,50)\n",
    "    ax[0].set_aspect(1)\n",
    "    sep=[geo_tools.haversine(lon1, lat1, lon2, lat2) for lon1,lat1,lon2,lat2 \\\n",
    "         in zip(f.variables['traj_lon'][:,2*ii],f.variables['traj_lat'][:,2*ii],f.variables['traj_lon'][:,2*ii+1],\n",
    "               f.variables['traj_lat'][:,2*ii+1])]\n",
    "    ax[1].plot(sep,'k-')\n",
    "    ax[1].set_ylim((0,30))\n",
    "    print(1/12*np.log(sep[12]/sep[0]),sep[12]/sep[0])"
   ]
  },
  {
   "cell_type": "code",
   "execution_count": 13,
   "metadata": {
    "collapsed": false
   },
   "outputs": [
    {
     "data": {
      "text/html": [
       "<div>\n",
       "<style scoped>\n",
       "    .dataframe tbody tr th:only-of-type {\n",
       "        vertical-align: middle;\n",
       "    }\n",
       "\n",
       "    .dataframe tbody tr th {\n",
       "        vertical-align: top;\n",
       "    }\n",
       "\n",
       "    .dataframe thead th {\n",
       "        text-align: right;\n",
       "    }\n",
       "</style>\n",
       "<table border=\"1\" class=\"dataframe\">\n",
       "  <thead>\n",
       "    <tr style=\"text-align: right;\">\n",
       "      <th></th>\n",
       "      <th>dtUTC</th>\n",
       "      <th>i</th>\n",
       "      <th>j</th>\n",
       "      <th>Z</th>\n",
       "    </tr>\n",
       "  </thead>\n",
       "  <tbody>\n",
       "    <tr>\n",
       "      <th>2521</th>\n",
       "      <td>2017-02-19 16:44:45</td>\n",
       "      <td>240</td>\n",
       "      <td>328</td>\n",
       "      <td>0.6</td>\n",
       "    </tr>\n",
       "    <tr>\n",
       "      <th>2535</th>\n",
       "      <td>2017-02-19 19:58:49</td>\n",
       "      <td>291</td>\n",
       "      <td>343</td>\n",
       "      <td>1.0</td>\n",
       "    </tr>\n",
       "    <tr>\n",
       "      <th>2549</th>\n",
       "      <td>2017-02-19 21:54:06</td>\n",
       "      <td>280</td>\n",
       "      <td>370</td>\n",
       "      <td>1.5</td>\n",
       "    </tr>\n",
       "    <tr>\n",
       "      <th>2561</th>\n",
       "      <td>2017-02-20 00:38:21</td>\n",
       "      <td>263</td>\n",
       "      <td>422</td>\n",
       "      <td>1.9</td>\n",
       "    </tr>\n",
       "    <tr>\n",
       "      <th>2577</th>\n",
       "      <td>2017-02-20 02:16:14</td>\n",
       "      <td>263</td>\n",
       "      <td>456</td>\n",
       "      <td>2.2</td>\n",
       "    </tr>\n",
       "  </tbody>\n",
       "</table>\n",
       "</div>"
      ],
      "text/plain": [
       "                   dtUTC    i    j    Z\n",
       "2521 2017-02-19 16:44:45  240  328  0.6\n",
       "2535 2017-02-19 19:58:49  291  343  1.0\n",
       "2549 2017-02-19 21:54:06  280  370  1.5\n",
       "2561 2017-02-20 00:38:21  263  422  1.9\n",
       "2577 2017-02-20 02:16:14  263  456  2.2"
      ]
     },
     "execution_count": 13,
     "metadata": {},
     "output_type": "execute_result"
    }
   ],
   "source": [
    "data2.head()"
   ]
  },
  {
   "cell_type": "code",
   "execution_count": 14,
   "metadata": {
    "collapsed": false
   },
   "outputs": [
    {
     "data": {
      "text/plain": [
       "masked_array(data=[1193.24583333, 1193.24583333, 1196.48027778,\n",
       "                   1196.48027778, 1198.40166667, 1198.40166667],\n",
       "             mask=False,\n",
       "       fill_value=1e+20)"
      ]
     },
     "execution_count": 14,
     "metadata": {},
     "output_type": "execute_result"
    }
   ],
   "source": [
    "f['init_t'][0:6]"
   ]
  },
  {
   "cell_type": "code",
   "execution_count": 15,
   "metadata": {
    "collapsed": false
   },
   "outputs": [
    {
     "name": "stdout",
     "output_type": "stream",
     "text": [
      "241.0 329.0 0.0 2017-02-19 16:44:45\n",
      "242.0 329.0 0.0 2017-02-19 16:44:45\n",
      "292.0 344.0 0.0 2017-02-19 19:58:49\n",
      "293.0 344.0 0.0 2017-02-19 19:58:49\n",
      "281.0 371.0 1.0 2017-02-19 21:54:06\n",
      "282.0 371.0 1.0 2017-02-19 21:54:06\n"
     ]
    }
   ],
   "source": [
    "for ii, x in enumerate(f['init_x'][0:6]):\n",
    "    ix=x\n",
    "    iy=f['init_y'][ii]\n",
    "    iz=f['init_z'][ii]\n",
    "    it=f['init_t'][ii]\n",
    "    ii=ix+.5\n",
    "    jj=iy+.5\n",
    "    kk=iz-1.5\n",
    "    ss=dt.timedelta(seconds=(it-.5)*3600)+tstart\n",
    "    print(ii,jj,kk,ss)"
   ]
  },
  {
   "cell_type": "code",
   "execution_count": 16,
   "metadata": {
    "collapsed": false
   },
   "outputs": [
    {
     "data": {
      "text/plain": [
       "(masked_array(data=-123.2427597,\n",
       "              mask=False,\n",
       "        fill_value=1e+20), masked_array(data=48.61288071,\n",
       "              mask=False,\n",
       "        fill_value=1e+20), masked_array(data=-0.5000006,\n",
       "              mask=False,\n",
       "        fill_value=1e+20))"
      ]
     },
     "execution_count": 16,
     "metadata": {},
     "output_type": "execute_result"
    }
   ],
   "source": [
    "f['traj_lon'][0,0],f['traj_lat'][0,0],f['traj_depth'][0,0]"
   ]
  },
  {
   "cell_type": "code",
   "execution_count": 17,
   "metadata": {
    "collapsed": false
   },
   "outputs": [
    {
     "data": {
      "text/plain": [
       "[<matplotlib.lines.Line2D at 0x7f765a6e2cf8>]"
      ]
     },
     "execution_count": 17,
     "metadata": {},
     "output_type": "execute_result"
    },
    {
     "data": {
      "image/png": "[encoded data removed]",
      "text/plain": [
       "<Figure size 432x288 with 1 Axes>"
      ]
     },
     "metadata": {
      "needs_background": "light"
     },
     "output_type": "display_data"
    }
   ],
   "source": [
    "plt.plot(mesh.variables['nav_lon'][327:330,239:242],mesh.variables['nav_lat'][327:330,239:242],'r*')\n",
    "plt.plot(f['traj_lon'][0,0],f['traj_lat'][0,0],'c*')"
   ]
  },
  {
   "cell_type": "code",
   "execution_count": 18,
   "metadata": {
    "collapsed": false
   },
   "outputs": [],
   "source": [
    "data['atime']=[(dt.datetime(1970,1,1)+dt.timedelta(seconds=(xxx-np.datetime64('1970-01-01T00:00:00'))/np.timedelta64(1,'s'))-tstart).total_seconds()/(3600)+.5 \\\n",
    "               for xxx in data['dtUTC']]"
   ]
  },
  {
   "cell_type": "code",
   "execution_count": 19,
   "metadata": {
    "collapsed": false
   },
   "outputs": [],
   "source": [
    "fZ=nc.Dataset('/data/eolson/MEOPAR/SS36runs/linkHC201812/15mar17/SalishSea_1d_20170315_20170315_grid_T.nc')\n",
    "data['k']=[et._getZInd_bin(iii,fZ) for iii in data['Z']]\n",
    "fZ.close()"
   ]
  },
  {
   "cell_type": "code",
   "execution_count": 20,
   "metadata": {
    "collapsed": false
   },
   "outputs": [],
   "source": [
    "calcs=list()\n",
    "for im in range(0,int(len(f['init_x'])/2)):\n",
    "    ix=f['init_x'][2*im]\n",
    "    iy=f['init_y'][2*im]\n",
    "    iz=f['init_z'][2*im]\n",
    "    it=f['init_t'][2*im]\n",
    "    ii=int(ix-.5)\n",
    "    jj=int(iy-.5)\n",
    "    kk=int(iz-1.5)\n",
    "    sep=[geo_tools.haversine(lon1, lat1, lon2, lat2) for lon1,lat1,lon2,lat2 \\\n",
    "         in zip(f.variables['traj_lon'][:,2*im],f.variables['traj_lat'][:,2*im],\n",
    "                f.variables['traj_lon'][:,2*im+1],f.variables['traj_lat'][:,2*im+1])]\n",
    "\n",
    "    Ly=1/12*np.log(sep[12]/sep[0])\n",
    "    Lr=sep[12]/sep[0]\n",
    "    calcs.append([ii,jj,kk,it,sep[12],Ly,Lr])\n",
    "dfc=pd.DataFrame(data=calcs,columns=['i','j','k','atime','sep12','Ly','Lr'])"
   ]
  },
  {
   "cell_type": "code",
   "execution_count": 21,
   "metadata": {
    "collapsed": false
   },
   "outputs": [
    {
     "ename": "ValueError",
     "evalue": "You are trying to merge on object and float64 columns. If you wish to proceed you should use pd.concat",
     "output_type": "error",
     "traceback": [
      "\u001b[0;31m---------------------------------------------------------------------------\u001b[0m",
      "\u001b[0;31mValueError\u001b[0m                                Traceback (most recent call last)",
      "\u001b[0;32m<ipython-input-21-afcfb500841b>\u001b[0m in \u001b[0;36m<module>\u001b[0;34m\u001b[0m\n\u001b[0;32m----> 1\u001b[0;31m \u001b[0malldata\u001b[0m\u001b[0;34m=\u001b[0m\u001b[0mpd\u001b[0m\u001b[0;34m.\u001b[0m\u001b[0mmerge\u001b[0m\u001b[0;34m(\u001b[0m\u001b[0mdfc\u001b[0m\u001b[0;34m,\u001b[0m\u001b[0mdata\u001b[0m\u001b[0;34m,\u001b[0m\u001b[0mon\u001b[0m\u001b[0;34m=\u001b[0m\u001b[0;34m[\u001b[0m\u001b[0;34m'i'\u001b[0m\u001b[0;34m,\u001b[0m\u001b[0;34m'j'\u001b[0m\u001b[0;34m,\u001b[0m\u001b[0;34m'k'\u001b[0m\u001b[0;34m,\u001b[0m\u001b[0;34m'atime'\u001b[0m\u001b[0;34m]\u001b[0m\u001b[0;34m)\u001b[0m\u001b[0;34m\u001b[0m\u001b[0;34m\u001b[0m\u001b[0m\n\u001b[0m",
      "\u001b[0;32m~/anaconda3/envs/py37/lib/python3.7/site-packages/pandas/core/reshape/merge.py\u001b[0m in \u001b[0;36mmerge\u001b[0;34m(left, right, how, on, left_on, right_on, left_index, right_index, sort, suffixes, copy, indicator, validate)\u001b[0m\n\u001b[1;32m     45\u001b[0m                          \u001b[0mright_index\u001b[0m\u001b[0;34m=\u001b[0m\u001b[0mright_index\u001b[0m\u001b[0;34m,\u001b[0m \u001b[0msort\u001b[0m\u001b[0;34m=\u001b[0m\u001b[0msort\u001b[0m\u001b[0;34m,\u001b[0m \u001b[0msuffixes\u001b[0m\u001b[0;34m=\u001b[0m\u001b[0msuffixes\u001b[0m\u001b[0;34m,\u001b[0m\u001b[0;34m\u001b[0m\u001b[0;34m\u001b[0m\u001b[0m\n\u001b[1;32m     46\u001b[0m                          \u001b[0mcopy\u001b[0m\u001b[0;34m=\u001b[0m\u001b[0mcopy\u001b[0m\u001b[0;34m,\u001b[0m \u001b[0mindicator\u001b[0m\u001b[0;34m=\u001b[0m\u001b[0mindicator\u001b[0m\u001b[0;34m,\u001b[0m\u001b[0;34m\u001b[0m\u001b[0;34m\u001b[0m\u001b[0m\n\u001b[0;32m---> 47\u001b[0;31m                          validate=validate)\n\u001b[0m\u001b[1;32m     48\u001b[0m     \u001b[0;32mreturn\u001b[0m \u001b[0mop\u001b[0m\u001b[0;34m.\u001b[0m\u001b[0mget_result\u001b[0m\u001b[0;34m(\u001b[0m\u001b[0;34m)\u001b[0m\u001b[0;34m\u001b[0m\u001b[0;34m\u001b[0m\u001b[0m\n\u001b[1;32m     49\u001b[0m \u001b[0;34m\u001b[0m\u001b[0m\n",
      "\u001b[0;32m~/anaconda3/envs/py37/lib/python3.7/site-packages/pandas/core/reshape/merge.py\u001b[0m in \u001b[0;36m__init__\u001b[0;34m(self, left, right, how, on, left_on, right_on, axis, left_index, right_index, sort, suffixes, copy, indicator, validate)\u001b[0m\n\u001b[1;32m    531\u001b[0m         \u001b[0;31m# validate the merge keys dtypes. We may need to coerce\u001b[0m\u001b[0;34m\u001b[0m\u001b[0;34m\u001b[0m\u001b[0;34m\u001b[0m\u001b[0m\n\u001b[1;32m    532\u001b[0m         \u001b[0;31m# to avoid incompat dtypes\u001b[0m\u001b[0;34m\u001b[0m\u001b[0;34m\u001b[0m\u001b[0;34m\u001b[0m\u001b[0m\n\u001b[0;32m--> 533\u001b[0;31m         \u001b[0mself\u001b[0m\u001b[0;34m.\u001b[0m\u001b[0m_maybe_coerce_merge_keys\u001b[0m\u001b[0;34m(\u001b[0m\u001b[0;34m)\u001b[0m\u001b[0;34m\u001b[0m\u001b[0;34m\u001b[0m\u001b[0m\n\u001b[0m\u001b[1;32m    534\u001b[0m \u001b[0;34m\u001b[0m\u001b[0m\n\u001b[1;32m    535\u001b[0m         \u001b[0;31m# If argument passed to validate,\u001b[0m\u001b[0;34m\u001b[0m\u001b[0;34m\u001b[0m\u001b[0;34m\u001b[0m\u001b[0m\n",
      "\u001b[0;32m~/anaconda3/envs/py37/lib/python3.7/site-packages/pandas/core/reshape/merge.py\u001b[0m in \u001b[0;36m_maybe_coerce_merge_keys\u001b[0;34m(self)\u001b[0m\n\u001b[1;32m    978\u001b[0m                       (inferred_right in string_types and\n\u001b[1;32m    979\u001b[0m                        inferred_left not in string_types)):\n\u001b[0;32m--> 980\u001b[0;31m                     \u001b[0;32mraise\u001b[0m \u001b[0mValueError\u001b[0m\u001b[0;34m(\u001b[0m\u001b[0mmsg\u001b[0m\u001b[0;34m)\u001b[0m\u001b[0;34m\u001b[0m\u001b[0;34m\u001b[0m\u001b[0m\n\u001b[0m\u001b[1;32m    981\u001b[0m \u001b[0;34m\u001b[0m\u001b[0m\n\u001b[1;32m    982\u001b[0m             \u001b[0;31m# datetimelikes must match exactly\u001b[0m\u001b[0;34m\u001b[0m\u001b[0;34m\u001b[0m\u001b[0;34m\u001b[0m\u001b[0m\n",
      "\u001b[0;31mValueError\u001b[0m: You are trying to merge on object and float64 columns. If you wish to proceed you should use pd.concat"
     ]
    }
   ],
   "source": [
    "alldata=pd.merge(dfc,data,on=['i','j','k','atime'])"
   ]
  },
  {
   "cell_type": "code",
   "execution_count": null,
   "metadata": {
    "collapsed": false
   },
   "outputs": [],
   "source": [
    "alldata.keys()"
   ]
  },
  {
   "cell_type": "code",
   "execution_count": null,
   "metadata": {
    "collapsed": false
   },
   "outputs": [],
   "source": [
    "fig,ax=plt.subplots(1,4,figsize=(18,3))\n",
    "ax[0].plot(alldata['sep12'],(alldata['mod_nitrate']-alldata['N'])**2,'k.')\n",
    "ax[0].set_title('N')\n",
    "ax[1].plot(alldata['sep12'],(alldata['mod_silicon']-alldata['Si'])**2,'k.')\n",
    "ax[1].set_title('Si')\n",
    "ax[2].plot(alldata['sep12'],(alldata['mod_votemper']-alldata['ConsT'])**2,'k.')\n",
    "ax[2].set_title('CT')\n",
    "ax[3].plot(alldata['sep12'],(alldata['mod_vosaline']-alldata['AbsSal'])**2,'k.')\n",
    "ax[3].set_title('SA')"
   ]
  },
  {
   "cell_type": "code",
   "execution_count": null,
   "metadata": {
    "collapsed": false
   },
   "outputs": [],
   "source": [
    "fig,ax=plt.subplots(1,4,figsize=(18,3))\n",
    "ax[0].plot(alldata['Ly'],(alldata['mod_nitrate']-alldata['N'])**2,'k.')\n",
    "ax[1].plot(alldata['Ly'],(alldata['mod_silicon']-alldata['Si'])**2,'k.')\n",
    "ax[2].plot(alldata['Ly'],(alldata['mod_votemper']-alldata['ConsT'])**2,'k.')\n",
    "ax[3].plot(alldata['Ly'],(alldata['mod_vosaline']-alldata['AbsSal'])**2,'k.')"
   ]
  },
  {
   "cell_type": "code",
   "execution_count": null,
   "metadata": {
    "collapsed": false
   },
   "outputs": [],
   "source": [
    "fig,ax=plt.subplots(1,4,figsize=(18,3))\n",
    "ax[0].plot(alldata['Lr'],(alldata['mod_nitrate']-alldata['N'])**2,'k.')\n",
    "ax[1].plot(alldata['Lr'],(alldata['mod_silicon']-alldata['Si'])**2,'k.')\n",
    "ax[2].plot(alldata['Lr'],(alldata['mod_votemper']-alldata['ConsT'])**2,'k.')\n",
    "ax[3].plot(alldata['Lr'],(alldata['mod_vosaline']-alldata['AbsSal'])**2,'k.')"
   ]
  },
  {
   "cell_type": "code",
   "execution_count": null,
   "metadata": {
    "collapsed": true
   },
   "outputs": [],
   "source": [
    "f2=nc.Dataset('/data/eolson/results/MEOPAR/ariane-2.2.8_04-new/experiment2/ariane_trajectories_qualitative.nc')\n",
    "\n",
    "calcs=list()\n",
    "for im in range(0,int(len(f2['init_x'])/2)):\n",
    "    ix=f2['init_x'][2*im]\n",
    "    iy=f2['init_y'][2*im]\n",
    "    iz=f2['init_z'][2*im]\n",
    "    it=f2['init_t'][2*im]\n",
    "    ii=int(ix-.5)\n",
    "    jj=int(iy-.5)\n",
    "    kk=int(iz-1.5)\n",
    "    sep=[geo_tools.haversine(lon1, lat1, lon2, lat2) for lon1,lat1,lon2,lat2 \\\n",
    "         in zip(f2.variables['traj_lon'][:,2*im],f2.variables['traj_lat'][:,2*im],\n",
    "                f2.variables['traj_lon'][:,2*im+1],f2.variables['traj_lat'][:,2*im+1])]\n",
    "\n",
    "    Ly=1/12*np.log(sep[12]/sep[0])\n",
    "    Lr=sep[12]/sep[0]\n",
    "    calcs.append([ii,jj,kk,it,sep[12],Ly,Lr])\n",
    "dfc=pd.DataFrame(data=calcs,columns=['i','j','k','atime','sep12','Ly','Lr'])"
   ]
  },
  {
   "cell_type": "code",
   "execution_count": null,
   "metadata": {
    "collapsed": false
   },
   "outputs": [],
   "source": [
    "f2['init_x'][0:5]"
   ]
  },
  {
   "cell_type": "code",
   "execution_count": null,
   "metadata": {
    "collapsed": false
   },
   "outputs": [],
   "source": [
    "dfc.head()"
   ]
  },
  {
   "cell_type": "code",
   "execution_count": null,
   "metadata": {
    "collapsed": false
   },
   "outputs": [],
   "source": [
    "len(dfc.loc[(dfc['i']==126)&(dfc['j']==797),['sep12']].values),len(dfc.loc[(dfc['i']==127)&(dfc['j']==797),['sep12']].values)"
   ]
  },
  {
   "cell_type": "code",
   "execution_count": null,
   "metadata": {
    "collapsed": false
   },
   "outputs": [],
   "source": [
    "tmask"
   ]
  },
  {
   "cell_type": "code",
   "execution_count": null,
   "metadata": {
    "collapsed": false
   },
   "outputs": [],
   "source": [
    "aS=np.nan*np.ones((len(np.arange(200,800,3)),len(np.arange(120,355,3))))\n",
    "aLy=np.nan*np.ones((len(np.arange(200,800,3)),len(np.arange(120,355,3))))\n",
    "aLr=np.nan*np.ones((len(np.arange(200,800,3)),len(np.arange(120,355,3))))\n",
    "iit=-1\n",
    "for ii in np.arange(120,355,3):\n",
    "    iit=iit+1\n",
    "    jjt=-1\n",
    "    for jj in np.arange(200,800,3):\n",
    "        jjt=jjt+1\n",
    "        if (tmask[0,0,jj,ii]==1) and len(dfc.loc[(dfc['i']==ii)&(dfc['j']==jj),['sep12']].values)==1:\n",
    "            aS[jjt,iit]=dfc.loc[(dfc['i']==ii)&(dfc['j']==jj),['sep12']].values[0]\n",
    "            aLy[jjt,iit]=dfc.loc[(dfc['i']==ii)&(dfc['j']==jj),['Ly']].values[0]\n",
    "            aLr[jjt,iit]=dfc.loc[(dfc['i']==ii)&(dfc['j']==jj),['Lr']].values[0]"
   ]
  },
  {
   "cell_type": "code",
   "execution_count": null,
   "metadata": {
    "collapsed": false
   },
   "outputs": [],
   "source": [
    "np.shape(aS)"
   ]
  },
  {
   "cell_type": "code",
   "execution_count": null,
   "metadata": {
    "collapsed": false
   },
   "outputs": [],
   "source": [
    "fig,ax=plt.subplots(1,3,figsize=(15,5))\n",
    "ax[0].pcolormesh(np.ma.masked_where(np.isnan(aS),aS))\n",
    "ax[1].pcolormesh(np.ma.masked_where(np.isnan(aLy),aLy))\n",
    "ax[2].pcolormesh(np.ma.masked_where(np.isnan(aLr),aLr))"
   ]
  },
  {
   "cell_type": "code",
   "execution_count": null,
   "metadata": {
    "collapsed": false
   },
   "outputs": [],
   "source": [
    "np.min(f2.variables['init_y']),np.max(f2.variables['init_y'])"
   ]
  },
  {
   "cell_type": "code",
   "execution_count": null,
   "metadata": {
    "collapsed": false
   },
   "outputs": [],
   "source": [
    "aS"
   ]
  },
  {
   "cell_type": "code",
   "execution_count": null,
   "metadata": {
    "collapsed": false
   },
   "outputs": [],
   "source": [
    "f3=nc.Dataset('/data/eolson/results/MEOPAR/ariane-2.2.8_04-new/experiment2OldHC/ariane_trajectories_qualitative.nc')"
   ]
  },
  {
   "cell_type": "code",
   "execution_count": null,
   "metadata": {
    "collapsed": false
   },
   "outputs": [],
   "source": [
    "len(f2['init_x']),len(f3['init_x'])"
   ]
  },
  {
   "cell_type": "code",
   "execution_count": null,
   "metadata": {
    "collapsed": false
   },
   "outputs": [],
   "source": [
    "calcs=list()\n",
    "for im in range(0,int(len(f2['init_x'])/2)):\n",
    "    ix=f2['init_x'][2*im]\n",
    "    iy=f2['init_y'][2*im]\n",
    "    iz=f2['init_z'][2*im]\n",
    "    it=f2['init_t'][2*im]\n",
    "    ii=int(ix-.5)\n",
    "    jj=int(iy-.5)\n",
    "    kk=int(iz-1.5)\n",
    "    sep2=[geo_tools.haversine(lon1, lat1, lon2, lat2) for lon1,lat1,lon2,lat2 \\\n",
    "         in zip(f2.variables['traj_lon'][:,2*im],f2.variables['traj_lat'][:,2*im],\n",
    "                f3.variables['traj_lon'][:,2*im],f3.variables['traj_lat'][:,2*im])]\n",
    "\n",
    "    Ly2=1/11*np.log(sep2[12]/sep2[1])\n",
    "    Lr2=sep2[12]/sep2[1]\n",
    "    calcs.append([ii,jj,kk,it,sep2[12],Ly2,Lr2])\n",
    "dfc2=pd.DataFrame(data=calcs,columns=['i','j','k','atime','sep12','Ly','Lr'])"
   ]
  },
  {
   "cell_type": "code",
   "execution_count": null,
   "metadata": {
    "collapsed": true
   },
   "outputs": [],
   "source": [
    "aS2=np.nan*np.ones((len(np.arange(200,800,3)),len(np.arange(120,355,3))))\n",
    "aLy2=np.nan*np.ones((len(np.arange(200,800,3)),len(np.arange(120,355,3))))\n",
    "aLr2=np.nan*np.ones((len(np.arange(200,800,3)),len(np.arange(120,355,3))))\n",
    "iit=-1\n",
    "for ii in np.arange(120,355,3):\n",
    "    iit=iit+1\n",
    "    jjt=-1\n",
    "    for jj in np.arange(200,800,3):\n",
    "        jjt=jjt+1\n",
    "        if (tmask[0,0,jj,ii]==1) and len(dfc2.loc[(dfc2['i']==ii)&(dfc2['j']==jj),['sep12']].values)==1:\n",
    "            aS2[jjt,iit]=dfc2.loc[(dfc2['i']==ii)&(dfc2['j']==jj),['sep12']].values[0]\n",
    "            aLy2[jjt,iit]=dfc2.loc[(dfc2['i']==ii)&(dfc2['j']==jj),['Ly']].values[0]\n",
    "            aLr2[jjt,iit]=dfc2.loc[(dfc2['i']==ii)&(dfc2['j']==jj),['Lr']].values[0]"
   ]
  },
  {
   "cell_type": "code",
   "execution_count": null,
   "metadata": {
    "collapsed": false
   },
   "outputs": [],
   "source": [
    "fig,ax=plt.subplots(1,3,figsize=(15,5))\n",
    "m=ax[0].pcolormesh(np.ma.masked_where(np.isnan(aS2),aS2))\n",
    "ax[1].pcolormesh(np.ma.masked_where(np.isnan(aLy2),aLy2))\n",
    "ax[2].pcolormesh(np.ma.masked_where(np.isnan(aLr2),aLr2))"
   ]
  },
  {
   "cell_type": "code",
   "execution_count": null,
   "metadata": {
    "collapsed": false
   },
   "outputs": [],
   "source": [
    "fig,ax=plt.subplots(1,1,figsize=(4,5))\n",
    "m=ax.pcolormesh(np.ma.masked_where(np.isnan(aS2),aS2))\n",
    "fig.colorbar(m,ax=ax)\n",
    "ax.set_title('Lateral Separation at 12 Hours (km)')"
   ]
  },
  {
   "cell_type": "code",
   "execution_count": null,
   "metadata": {
    "collapsed": false
   },
   "outputs": [],
   "source": [
    "np.nanmin(aS2)"
   ]
  },
  {
   "cell_type": "code",
   "execution_count": null,
   "metadata": {
    "collapsed": true
   },
   "outputs": [],
   "source": [
    "fOld=nc.Dataset('/results2/SalishSea/nowcast-green.201806/10apr17/SalishSea_1h_20170410_20170410_grid_T.nc')\n",
    "fNew=nc.Dataset('/data/eolson/results/MEOPAR/SS36runs/linkHC201812/10apr17/SalishSea_1h_20170410_20170410_grid_T.nc')"
   ]
  },
  {
   "cell_type": "code",
   "execution_count": null,
   "metadata": {
    "collapsed": false
   },
   "outputs": [],
   "source": [
    "fig,ax=plt.subplots(1,3,figsize=(10,3))\n",
    "iax=ax[0]\n",
    "m=iax.contourf(np.ma.masked_where(np.isnan(aS),aS),np.linspace(0,21,100),cmap=cmocean.cm.thermal,extend='max')\n",
    "viz_tools.set_aspect(iax,coords='grid')\n",
    "fig.colorbar(m,ax=iax,ticks=(0,5,10,15,20))\n",
    "iax.set_xticks(());\n",
    "iax.set_yticks(());\n",
    "iax.set_title('$\\Delta$ (km)\\nWithin Run')\n",
    "iax=ax[1]\n",
    "m=iax.contourf(np.ma.masked_where(np.isnan(aS2),aS2),np.linspace(0,21,100),cmap=cmocean.cm.thermal,extend='max')\n",
    "viz_tools.set_aspect(iax,coords='grid')\n",
    "fig.colorbar(m,ax=iax,ticks=(0,5,10,15,20))\n",
    "iax.set_xticks(());\n",
    "iax.set_yticks(());\n",
    "iax.set_title('$\\Delta$ (km)\\nBetween Runs')\n",
    "iax=ax[2]\n",
    "m=iax.contourf(np.ma.masked_where(tmask[0,0,200:800,110:365]==0,\n",
    "                fNew.variables['vosaline'][0,0,200:800,110:365]-fOld.variables['vosaline'][0,0,200:800,110:365]),\n",
    "             np.linspace(-5,5,100),cmap=cmocean.cm.tarn)# diff, tarn\n",
    "fig.colorbar(m,ax=iax)\n",
    "viz_tools.set_aspect(iax,coords='grid')"
   ]
  },
  {
   "cell_type": "code",
   "execution_count": null,
   "metadata": {
    "collapsed": true
   },
   "outputs": [],
   "source": []
  }
 ],
 "metadata": {
  "anaconda-cloud": {},
  "kernelspec": {
   "display_name": "Python [conda env:py37]",
   "language": "python",
   "name": "conda-env-py37-py"
  },
  "language_info": {
   "codemirror_mode": {
    "name": "ipython",
    "version": 3
   },
   "file_extension": ".py",
   "mimetype": "text/x-python",
   "name": "python",
   "nbconvert_exporter": "python",
   "pygments_lexer": "ipython3",
   "version": "3.7.2"
  }
 },
 "nbformat": 4,
 "nbformat_minor": 1
}
