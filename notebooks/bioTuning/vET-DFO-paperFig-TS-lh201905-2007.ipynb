{
 "cells": [
  {
   "cell_type": "markdown",
   "metadata": {},
   "source": [
    "## DFO Nutrient Comparison"
   ]
  },
  {
   "cell_type": "code",
   "execution_count": 2,
   "metadata": {
    "collapsed": false
   },
   "outputs": [],
   "source": [
    "import numpy as np\n",
    "import matplotlib.pyplot as plt\n",
    "import os\n",
    "import pandas as pd\n",
    "import netCDF4 as nc\n",
    "import datetime as dt\n",
    "from salishsea_tools import evaltools as et, viz_tools\n",
    "import gsw\n",
    "import matplotlib.gridspec as gridspec\n",
    "import matplotlib as mpl\n",
    "import matplotlib.dates as mdates\n",
    "import cmocean as cmo\n",
    "import scipy.interpolate as sinterp\n",
    "import pickle\n",
    "\n",
    "mpl.rc('xtick', labelsize=10)\n",
    "mpl.rc('ytick', labelsize=10)\n",
    "mpl.rc('legend', fontsize=10)\n",
    "mpl.rc('axes', titlesize=10)\n",
    "mpl.rc('axes', labelsize=10)\n",
    "mpl.rc('figure', titlesize=10)\n",
    "mpl.rc('font', size=10)\n",
    "%matplotlib inline"
   ]
  },
  {
   "cell_type": "code",
   "execution_count": 9,
   "metadata": {
    "collapsed": false
   },
   "outputs": [
    {
     "data": {
      "text/html": [
       "<div>\n",
       "<style scoped>\n",
       "    .dataframe tbody tr th:only-of-type {\n",
       "        vertical-align: middle;\n",
       "    }\n",
       "\n",
       "    .dataframe tbody tr th {\n",
       "        vertical-align: top;\n",
       "    }\n",
       "\n",
       "    .dataframe thead th {\n",
       "        text-align: right;\n",
       "    }\n",
       "</style>\n",
       "<table border=\"1\" class=\"dataframe\">\n",
       "  <thead>\n",
       "    <tr style=\"text-align: right;\">\n",
       "      <th></th>\n",
       "      <th>Year</th>\n",
       "      <th>Month</th>\n",
       "      <th>Day</th>\n",
       "      <th>Hour</th>\n",
       "      <th>Lat</th>\n",
       "      <th>Lon</th>\n",
       "      <th>Pressure</th>\n",
       "      <th>Depth</th>\n",
       "      <th>Ammonium</th>\n",
       "      <th>Ammonium_units</th>\n",
       "      <th>Chlorophyll_Extracted</th>\n",
       "      <th>Chlorophyll_Extracted_units</th>\n",
       "      <th>N</th>\n",
       "      <th>Si</th>\n",
       "      <th>Silicate_units</th>\n",
       "      <th>AbsSal</th>\n",
       "      <th>ConsT</th>\n",
       "      <th>Z</th>\n",
       "      <th>dtUTC</th>\n",
       "    </tr>\n",
       "  </thead>\n",
       "  <tbody>\n",
       "    <tr>\n",
       "      <th>0</th>\n",
       "      <td>2007.0</td>\n",
       "      <td>8.0</td>\n",
       "      <td>29.0</td>\n",
       "      <td>20.016111</td>\n",
       "      <td>51.678000</td>\n",
       "      <td>-127.333333</td>\n",
       "      <td>5.1</td>\n",
       "      <td>None</td>\n",
       "      <td>None</td>\n",
       "      <td>None</td>\n",
       "      <td>7.03</td>\n",
       "      <td>mg/m^3</td>\n",
       "      <td>17.0</td>\n",
       "      <td>23.0</td>\n",
       "      <td>umol/L</td>\n",
       "      <td>29.046929</td>\n",
       "      <td>9.528417</td>\n",
       "      <td>5.05546</td>\n",
       "      <td>2007-08-29 20:00:58</td>\n",
       "    </tr>\n",
       "    <tr>\n",
       "      <th>1</th>\n",
       "      <td>2007.0</td>\n",
       "      <td>8.0</td>\n",
       "      <td>29.0</td>\n",
       "      <td>21.636111</td>\n",
       "      <td>51.675667</td>\n",
       "      <td>-127.293000</td>\n",
       "      <td>5.5</td>\n",
       "      <td>None</td>\n",
       "      <td>None</td>\n",
       "      <td>None</td>\n",
       "      <td>6.60</td>\n",
       "      <td>mg/m^3</td>\n",
       "      <td>17.9</td>\n",
       "      <td>23.8</td>\n",
       "      <td>umol/L</td>\n",
       "      <td>29.041717</td>\n",
       "      <td>9.624807</td>\n",
       "      <td>5.45196</td>\n",
       "      <td>2007-08-29 21:38:10</td>\n",
       "    </tr>\n",
       "    <tr>\n",
       "      <th>2</th>\n",
       "      <td>2007.0</td>\n",
       "      <td>2.0</td>\n",
       "      <td>21.0</td>\n",
       "      <td>5.829444</td>\n",
       "      <td>51.678833</td>\n",
       "      <td>-127.332500</td>\n",
       "      <td>5.3</td>\n",
       "      <td>None</td>\n",
       "      <td>None</td>\n",
       "      <td>None</td>\n",
       "      <td>0.81</td>\n",
       "      <td>mg/m^3</td>\n",
       "      <td>18.5</td>\n",
       "      <td>40.2</td>\n",
       "      <td>umol/L</td>\n",
       "      <td>25.789058</td>\n",
       "      <td>7.098558</td>\n",
       "      <td>5.25371</td>\n",
       "      <td>2007-02-21 05:49:46</td>\n",
       "    </tr>\n",
       "    <tr>\n",
       "      <th>3</th>\n",
       "      <td>2007.0</td>\n",
       "      <td>2.0</td>\n",
       "      <td>21.0</td>\n",
       "      <td>6.477778</td>\n",
       "      <td>51.675167</td>\n",
       "      <td>-127.284667</td>\n",
       "      <td>5.2</td>\n",
       "      <td>None</td>\n",
       "      <td>None</td>\n",
       "      <td>None</td>\n",
       "      <td>0.81</td>\n",
       "      <td>mg/m^3</td>\n",
       "      <td>18.8</td>\n",
       "      <td>40.4</td>\n",
       "      <td>umol/L</td>\n",
       "      <td>25.660055</td>\n",
       "      <td>6.748061</td>\n",
       "      <td>5.15458</td>\n",
       "      <td>2007-02-21 06:28:40</td>\n",
       "    </tr>\n",
       "    <tr>\n",
       "      <th>4</th>\n",
       "      <td>2007.0</td>\n",
       "      <td>3.0</td>\n",
       "      <td>28.0</td>\n",
       "      <td>2.250278</td>\n",
       "      <td>50.655333</td>\n",
       "      <td>-126.183000</td>\n",
       "      <td>2.1</td>\n",
       "      <td>None</td>\n",
       "      <td>None</td>\n",
       "      <td>None</td>\n",
       "      <td>NaN</td>\n",
       "      <td>None</td>\n",
       "      <td>23.1</td>\n",
       "      <td>49.0</td>\n",
       "      <td>umol/L</td>\n",
       "      <td>28.188000</td>\n",
       "      <td>7.240257</td>\n",
       "      <td>2.08187</td>\n",
       "      <td>2007-03-28 02:15:01</td>\n",
       "    </tr>\n",
       "  </tbody>\n",
       "</table>\n",
       "</div>"
      ],
      "text/plain": [
       "     Year  Month   Day       Hour        Lat         Lon  Pressure Depth  \\\n",
       "0  2007.0    8.0  29.0  20.016111  51.678000 -127.333333       5.1  None   \n",
       "1  2007.0    8.0  29.0  21.636111  51.675667 -127.293000       5.5  None   \n",
       "2  2007.0    2.0  21.0   5.829444  51.678833 -127.332500       5.3  None   \n",
       "3  2007.0    2.0  21.0   6.477778  51.675167 -127.284667       5.2  None   \n",
       "4  2007.0    3.0  28.0   2.250278  50.655333 -126.183000       2.1  None   \n",
       "\n",
       "  Ammonium Ammonium_units  Chlorophyll_Extracted Chlorophyll_Extracted_units  \\\n",
       "0     None           None                   7.03                      mg/m^3   \n",
       "1     None           None                   6.60                      mg/m^3   \n",
       "2     None           None                   0.81                      mg/m^3   \n",
       "3     None           None                   0.81                      mg/m^3   \n",
       "4     None           None                    NaN                        None   \n",
       "\n",
       "      N    Si Silicate_units     AbsSal     ConsT        Z               dtUTC  \n",
       "0  17.0  23.0         umol/L  29.046929  9.528417  5.05546 2007-08-29 20:00:58  \n",
       "1  17.9  23.8         umol/L  29.041717  9.624807  5.45196 2007-08-29 21:38:10  \n",
       "2  18.5  40.2         umol/L  25.789058  7.098558  5.25371 2007-02-21 05:49:46  \n",
       "3  18.8  40.4         umol/L  25.660055  6.748061  5.15458 2007-02-21 06:28:40  \n",
       "4  23.1  49.0         umol/L  28.188000  7.240257  2.08187 2007-03-28 02:15:01  "
      ]
     },
     "execution_count": 9,
     "metadata": {},
     "output_type": "execute_result"
    }
   ],
   "source": [
    "PATH= '/results/SalishSea/longhind.201905/'\n",
    "#PATH= '/results2/SalishSea/hindcast/'\n",
    "start_date = dt.datetime(2007,1,1)\n",
    "end_date = dt.datetime(2007,12,31)\n",
    "flen=1\n",
    "namfmt='nowcast'\n",
    "#varmap={'N':'nitrate','Si':'silicon','Ammonium':'ammonium'}\n",
    "filemap={'vosaline':'grid_T','votemper':'grid_T'}\n",
    "#gridmap={'nitrate':'tmask','silicon':'tmask','ammonium':'tmask'}\n",
    "fdict={'grid_T':1,}\n",
    "df1=et.loadDFO(datelims=(start_date,end_date))\n",
    "df1=df1.loc[(df1.Lon>-125)|(df1.Lat>49.5)].copy(deep=True)\n",
    "df1.head()"
   ]
  },
  {
   "cell_type": "code",
   "execution_count": 10,
   "metadata": {
    "collapsed": false
   },
   "outputs": [
    {
     "data": {
      "text/plain": [
       "[<matplotlib.lines.Line2D at 0x7f4fbeaedf60>]"
      ]
     },
     "execution_count": 10,
     "metadata": {},
     "output_type": "execute_result"
    },
    {
     "data": {
      "image/png": "[encoded data removed]",
      "text/plain": [
       "<matplotlib.figure.Figure at 0x7f4fbeb21128>"
      ]
     },
     "metadata": {},
     "output_type": "display_data"
    }
   ],
   "source": [
    "plt.plot(df1['AbsSal'],df1['ConsT'],'k.')"
   ]
  },
  {
   "cell_type": "code",
   "execution_count": 11,
   "metadata": {
    "collapsed": false
   },
   "outputs": [
    {
     "data": {
      "text/plain": [
       "AbsSal    1235\n",
       "dtype: int64"
      ]
     },
     "execution_count": 11,
     "metadata": {},
     "output_type": "execute_result"
    }
   ],
   "source": [
    "df1.loc[(~np.isnan(df1.AbsSal)),['AbsSal']].count()"
   ]
  },
  {
   "cell_type": "code",
   "execution_count": 12,
   "metadata": {
    "collapsed": false
   },
   "outputs": [
    {
     "data": {
      "text/plain": [
       "AbsSal    43\n",
       "dtype: int64"
      ]
     },
     "execution_count": 12,
     "metadata": {},
     "output_type": "execute_result"
    }
   ],
   "source": [
    "df1.loc[(~np.isnan(df1.AbsSal))&(np.isnan(df1.N)),['AbsSal']].count()"
   ]
  },
  {
   "cell_type": "code",
   "execution_count": 13,
   "metadata": {
    "collapsed": false
   },
   "outputs": [
    {
     "data": {
      "text/plain": [
       "ConsT    43\n",
       "dtype: int64"
      ]
     },
     "execution_count": 13,
     "metadata": {},
     "output_type": "execute_result"
    }
   ],
   "source": [
    "df1.loc[(~np.isnan(df1.ConsT))&(np.isnan(df1.N)),['ConsT']].count()"
   ]
  },
  {
   "cell_type": "code",
   "execution_count": 14,
   "metadata": {
    "collapsed": false
   },
   "outputs": [
    {
     "name": "stdout",
     "output_type": "stream",
     "text": [
      "(Lat,Lon)= 50.605333333333334 -126.3565  not matched to domain\n",
      "(Lat,Lon)= 50.635 -126.425  not matched to domain\n",
      "(Lat,Lon)= 50.65533333333333 -126.183  not matched to domain\n",
      "(Lat,Lon)= 50.66983333333334 -126.067  not matched to domain\n",
      "(Lat,Lon)= 50.693666666666665 -125.78316666666667  not matched to domain\n",
      "(Lat,Lon)= 50.72666666666667 -126.182  not matched to domain\n",
      "(Lat,Lon)= 50.784 -126.61366666666666  not matched to domain\n",
      "(Lat,Lon)= 50.813 -126.52483333333333  not matched to domain\n",
      "(Lat,Lon)= 50.84 -126.33  not matched to domain\n",
      "(Lat,Lon)= 50.93633333333333 -126.4815  not matched to domain\n",
      "(Lat,Lon)= 51.018 -126.523  not matched to domain\n",
      "(Lat,Lon)= 51.67516666666667 -127.28466666666667  not matched to domain\n",
      "(Lat,Lon)= 51.675666666666665 -127.293  not matched to domain\n",
      "(Lat,Lon)= 51.678 -127.33333333333333  not matched to domain\n",
      "(Lat,Lon)= 51.67883333333333 -127.3325  not matched to domain\n"
     ]
    }
   ],
   "source": [
    "dataDFOPhys=et.matchData(df1,filemap, fdict, start_date, end_date, namfmt, PATH, flen)\n",
    "dataDFO=dataDFOPhys"
   ]
  },
  {
   "cell_type": "code",
   "execution_count": 15,
   "metadata": {
    "collapsed": false
   },
   "outputs": [
    {
     "data": {
      "text/plain": [
       "1103"
      ]
     },
     "execution_count": 15,
     "metadata": {},
     "output_type": "execute_result"
    }
   ],
   "source": [
    "len(dataDFOPhys)"
   ]
  },
  {
   "cell_type": "code",
   "execution_count": 16,
   "metadata": {
    "collapsed": true
   },
   "outputs": [],
   "source": [
    "#pickle.dump(dataDFOPhys,open('/data/eolson/MEOPAR/SS36runs/calcFiles/evalMatches/dataDFOPhys2007.pkl','wb'))"
   ]
  },
  {
   "cell_type": "code",
   "execution_count": 17,
   "metadata": {
    "collapsed": true
   },
   "outputs": [],
   "source": [
    "cm1=plt.get_cmap('PuBuGn')"
   ]
  },
  {
   "cell_type": "code",
   "execution_count": 29,
   "metadata": {
    "collapsed": false
   },
   "outputs": [
    {
     "data": {
      "text/plain": [
       "<matplotlib.text.Text at 0x7f4fbdf0dc18>"
      ]
     },
     "execution_count": 29,
     "metadata": {},
     "output_type": "execute_result"
    },
    {
     "data": {
      "image/png": "[encoded data removed]",
      "text/plain": [
       "<matplotlib.figure.Figure at 0x7f4fbe6bbb70>"
      ]
     },
     "metadata": {},
     "output_type": "display_data"
    }
   ],
   "source": [
    "fig,ax = plt.subplots(1,2,figsize = (8,3))\n",
    "\n",
    "ax[0].plot((0,36),(0,36),'k-',lw=.5)\n",
    "ax[1].plot((0,25),(0,25),'k-',lw=.5)\n",
    "vm0=-150\n",
    "args={'marker':'.','s':1,}\n",
    "ps=et.varvarScatter(ax[0],dataDFO,'AbsSal','mod_vosaline','Z',vmin=vm0,vmax=450,cm=cm1,args=args)\n",
    "ps=et.varvarScatter(ax[1],dataDFO,'ConsT','mod_votemper','Z',vmin=vm0,vmax=450,cm=cm1,args=args)\n",
    "\n",
    "cb=fig.colorbar(ps,boundaries=np.linspace(0,450,46))\n",
    "cb.set_label('Depth (m)')\n",
    "\n",
    "ntick=np.arange(0,36,10)\n",
    "ntickl=[str(i) for i in ntick]\n",
    "for iax in (ax[0],):\n",
    "    iax.set_xlim((0,36))\n",
    "    iax.set_ylim((0,36))\n",
    "    iax.set_xticks(ntick)\n",
    "    iax.set_xticklabels(ntickl)\n",
    "    iax.set_yticks(ntick)\n",
    "    iax.set_yticklabels(ntickl)\n",
    "    \n",
    "stick=np.arange(0,25,10)\n",
    "stickl=[str(i) for i in stick]\n",
    "for iax in (ax[1],):\n",
    "    iax.set_xlim((0,25))\n",
    "    iax.set_ylim((0,25))\n",
    "    iax.set_xticks(stick)\n",
    "    iax.set_xticklabels(stickl)\n",
    "    iax.set_yticks(stick)\n",
    "    iax.set_yticklabels(stickl)\n",
    "    \n",
    "for iax in (ax[0],ax[1]):\n",
    "    iax.set_aspect(1, adjustable='box')\n",
    "    #ax.set_xlabel('Observed')\n",
    "    \n",
    "ax[0].set_ylabel('Modeled',fontsize=12)\n",
    "ax[1].set_ylabel('Modeled',fontsize=12)\n",
    "ax[0].set_xlabel('Observed',fontsize=12)\n",
    "ax[1].set_xlabel('Observed',fontsize=12)\n",
    "\n",
    "ax[0].set_title('2007 SA (g/kg)')\n",
    "ax[1].set_title('2007 CT ($^{\\circ}$C)')\n"
   ]
  },
  {
   "cell_type": "code",
   "execution_count": null,
   "metadata": {
    "collapsed": true
   },
   "outputs": [],
   "source": [
    "\n"
   ]
  }
 ],
 "metadata": {
  "anaconda-cloud": {},
  "kernelspec": {
   "display_name": "Python [conda env:python36]",
   "language": "python",
   "name": "conda-env-python36-py"
  },
  "language_info": {
   "codemirror_mode": {
    "name": "ipython",
    "version": 3
   },
   "file_extension": ".py",
   "mimetype": "text/x-python",
   "name": "python",
   "nbconvert_exporter": "python",
   "pygments_lexer": "ipython3",
   "version": "3.6.3"
  }
 },
 "nbformat": 4,
 "nbformat_minor": 2
}
