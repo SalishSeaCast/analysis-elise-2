{
 "cells": [
  {
   "cell_type": "code",
   "execution_count": 1,
   "metadata": {
    "collapsed": true
   },
   "outputs": [],
   "source": [
    "import netCDF4 as nc\n",
    "import datetime as dt\n",
    "import subprocess\n",
    "import requests\n",
    "import matplotlib.pyplot as plt\n",
    "import cmocean\n",
    "import numpy as np\n",
    "import os\n",
    "import glob\n",
    "import dateutil as dutil\n",
    "from salishsea_tools import viz_tools\n",
    "%matplotlib inline"
   ]
  },
  {
   "cell_type": "code",
   "execution_count": 2,
   "metadata": {
    "collapsed": false
   },
   "outputs": [],
   "source": [
    "with nc.Dataset('/ocean/eolson/MEOPAR/NEMO-forcing/grid/mesh_mask201702_noLPE.nc') as fm:\n",
    "    tmask=np.copy(fm.variables['tmask'])\n",
    "    umask=np.copy(fm.variables['umask'])\n",
    "    vmask=np.copy(fm.variables['vmask'])\n",
    "    navlon=np.copy(fm.variables['nav_lon'])\n",
    "    navlat=np.copy(fm.variables['nav_lat'])\n",
    "    e3t_0=np.copy(fm.variables['e3t_0'])\n",
    "    e3u_0=np.copy(fm.variables['e3u_0'])\n",
    "    e3v_0=np.copy(fm.variables['e3v_0'])\n",
    "    e1t=np.copy(fm.variables['e1t'])\n",
    "    e2t=np.copy(fm.variables['e2t'])\n",
    "    e1v=np.copy(fm.variables['e1v'])\n",
    "    e2u=np.copy(fm.variables['e2u'])\n",
    "    A=fm.variables['e1t'][0,:,:]*fm.variables['e2t'][0,:,:]*tmask[0,0,:,:]"
   ]
  },
  {
   "cell_type": "code",
   "execution_count": 3,
   "metadata": {
    "collapsed": false
   },
   "outputs": [],
   "source": [
    "t0=dt.datetime(2015,2,6) # 1st start date of run\n",
    "#te=dt.datetime(2016,12,1)# last start date of runfnum=18\n",
    "stm=np.shape(tmask)\n",
    "SiN=2.0\n",
    "nlen=28\n",
    "#nlen=37\n",
    "dlist=[t0+dt.timedelta(days=ii*10) for ii in range(0,nlen)]"
   ]
  },
  {
   "cell_type": "code",
   "execution_count": 4,
   "metadata": {
    "collapsed": true
   },
   "outputs": [],
   "source": [
    "sdir0='/results/SalishSea/nowcast-green/'\n",
    "sdir1='/results/SalishSea/hindcast/'\n",
    "sdir3='/data/eolson/MEOPAR/SS36runs/CedarRuns/spring2015_T3/'"
   ]
  },
  {
   "cell_type": "code",
   "execution_count": 5,
   "metadata": {
    "collapsed": true
   },
   "outputs": [],
   "source": [
    "tmaskC=np.copy(tmask)\n",
    "tmaskC[:,:,370:490,:12]=0\n",
    "tmaskC[:,:,887:,30:70]=0"
   ]
  },
  {
   "cell_type": "code",
   "execution_count": 6,
   "metadata": {
    "collapsed": false
   },
   "outputs": [
    {
     "name": "stdout",
     "output_type": "stream",
     "text": [
      "/results/SalishSea/nowcast-green/06feb15/SalishSea_1h_20150206_20150206_ptrc_T.nc\n",
      "/results/SalishSea/nowcast-green/16feb15/SalishSea_1h_20150216_20150216_ptrc_T.nc\n",
      "/results/SalishSea/nowcast-green/26feb15/SalishSea_1h_20150226_20150226_ptrc_T.nc\n",
      "/results/SalishSea/nowcast-green/08mar15/SalishSea_1h_20150308_20150308_ptrc_T.nc\n",
      "/results/SalishSea/nowcast-green/18mar15/SalishSea_1h_20150318_20150318_ptrc_T.nc\n",
      "/results/SalishSea/nowcast-green/28mar15/SalishSea_1h_20150328_20150328_ptrc_T.nc\n",
      "/results/SalishSea/nowcast-green/07apr15/SalishSea_1h_20150407_20150407_ptrc_T.nc\n",
      "/results/SalishSea/nowcast-green/17apr15/SalishSea_1h_20150417_20150417_ptrc_T.nc\n",
      "/results/SalishSea/nowcast-green/27apr15/SalishSea_1h_20150427_20150427_ptrc_T.nc\n",
      "/results/SalishSea/nowcast-green/07may15/SalishSea_1h_20150507_20150507_ptrc_T.nc\n",
      "/results/SalishSea/nowcast-green/17may15/SalishSea_1h_20150517_20150517_ptrc_T.nc\n",
      "/results/SalishSea/nowcast-green/27may15/SalishSea_1h_20150527_20150527_ptrc_T.nc\n",
      "/results/SalishSea/nowcast-green/06jun15/SalishSea_1h_20150606_20150606_ptrc_T.nc\n",
      "/results/SalishSea/nowcast-green/16jun15/SalishSea_1h_20150616_20150616_ptrc_T.nc\n",
      "/results/SalishSea/nowcast-green/26jun15/SalishSea_1h_20150626_20150626_ptrc_T.nc\n",
      "/results/SalishSea/nowcast-green/06jul15/SalishSea_1h_20150706_20150706_ptrc_T.nc\n",
      "/results/SalishSea/nowcast-green/16jul15/SalishSea_1h_20150716_20150716_ptrc_T.nc\n",
      "/results/SalishSea/nowcast-green/26jul15/SalishSea_1h_20150726_20150726_ptrc_T.nc\n",
      "/results/SalishSea/nowcast-green/05aug15/SalishSea_1h_20150805_20150805_ptrc_T.nc\n",
      "/results/SalishSea/nowcast-green/15aug15/SalishSea_1h_20150815_20150815_ptrc_T.nc\n",
      "/results/SalishSea/nowcast-green/25aug15/SalishSea_1h_20150825_20150825_ptrc_T.nc\n",
      "/results/SalishSea/nowcast-green/04sep15/SalishSea_1h_20150904_20150904_ptrc_T.nc\n",
      "/results/SalishSea/nowcast-green/14sep15/SalishSea_1h_20150914_20150914_ptrc_T.nc\n",
      "/results/SalishSea/nowcast-green/24sep15/SalishSea_1h_20150924_20150924_ptrc_T.nc\n",
      "/results/SalishSea/nowcast-green/04oct15/SalishSea_1h_20151004_20151004_ptrc_T.nc\n",
      "/results/SalishSea/nowcast-green/14oct15/SalishSea_1h_20151014_20151014_ptrc_T.nc\n",
      "/results/SalishSea/nowcast-green/24oct15/SalishSea_1h_20151024_20151024_ptrc_T.nc\n",
      "/results/SalishSea/nowcast-green/03nov15/SalishSea_1h_20151103_20151103_ptrc_T.nc\n",
      "/results/SalishSea/hindcast/06feb15/SalishSea_1h_20150206_20150206_ptrc_T.nc\n",
      "/results/SalishSea/hindcast/16feb15/SalishSea_1h_20150216_20150216_ptrc_T.nc\n",
      "/results/SalishSea/hindcast/26feb15/SalishSea_1h_20150226_20150226_ptrc_T.nc\n",
      "/results/SalishSea/hindcast/08mar15/SalishSea_1h_20150308_20150308_ptrc_T.nc\n",
      "/results/SalishSea/hindcast/18mar15/SalishSea_1h_20150318_20150318_ptrc_T.nc\n",
      "/results/SalishSea/hindcast/28mar15/SalishSea_1h_20150328_20150328_ptrc_T.nc\n",
      "/results/SalishSea/hindcast/07apr15/SalishSea_1h_20150407_20150407_ptrc_T.nc\n",
      "/results/SalishSea/hindcast/17apr15/SalishSea_1h_20150417_20150417_ptrc_T.nc\n",
      "/results/SalishSea/hindcast/27apr15/SalishSea_1h_20150427_20150427_ptrc_T.nc\n",
      "/results/SalishSea/hindcast/07may15/SalishSea_1h_20150507_20150507_ptrc_T.nc\n",
      "/results/SalishSea/hindcast/17may15/SalishSea_1h_20150517_20150517_ptrc_T.nc\n",
      "/results/SalishSea/hindcast/27may15/SalishSea_1h_20150527_20150527_ptrc_T.nc\n",
      "/results/SalishSea/hindcast/06jun15/SalishSea_1h_20150606_20150606_ptrc_T.nc\n",
      "/results/SalishSea/hindcast/16jun15/SalishSea_1h_20150616_20150616_ptrc_T.nc\n",
      "/results/SalishSea/hindcast/26jun15/SalishSea_1h_20150626_20150626_ptrc_T.nc\n",
      "/results/SalishSea/hindcast/06jul15/SalishSea_1h_20150706_20150706_ptrc_T.nc\n",
      "/results/SalishSea/hindcast/16jul15/SalishSea_1h_20150716_20150716_ptrc_T.nc\n",
      "/results/SalishSea/hindcast/26jul15/SalishSea_1h_20150726_20150726_ptrc_T.nc\n",
      "/results/SalishSea/hindcast/05aug15/SalishSea_1h_20150805_20150805_ptrc_T.nc\n",
      "/results/SalishSea/hindcast/15aug15/SalishSea_1h_20150815_20150815_ptrc_T.nc\n",
      "/results/SalishSea/hindcast/25aug15/SalishSea_1h_20150825_20150825_ptrc_T.nc\n",
      "/results/SalishSea/hindcast/04sep15/SalishSea_1h_20150904_20150904_ptrc_T.nc\n",
      "/results/SalishSea/hindcast/14sep15/SalishSea_1h_20150914_20150914_ptrc_T.nc\n",
      "/results/SalishSea/hindcast/24sep15/SalishSea_1h_20150924_20150924_ptrc_T.nc\n",
      "/results/SalishSea/hindcast/04oct15/SalishSea_1h_20151004_20151004_ptrc_T.nc\n",
      "/results/SalishSea/hindcast/14oct15/SalishSea_1h_20151014_20151014_ptrc_T.nc\n",
      "/results/SalishSea/hindcast/24oct15/SalishSea_1h_20151024_20151024_ptrc_T.nc\n",
      "/results/SalishSea/hindcast/03nov15/SalishSea_1h_20151103_20151103_ptrc_T.nc\n",
      "/data/eolson/MEOPAR/SS36runs/CedarRuns/spring2015_T3/SalishSea_1h_*_ptrc_T_20150206-*.nc\n",
      "/data/eolson/MEOPAR/SS36runs/CedarRuns/spring2015_T3/SalishSea_1h_*_ptrc_T_20150216-*.nc\n",
      "/data/eolson/MEOPAR/SS36runs/CedarRuns/spring2015_T3/SalishSea_1h_*_ptrc_T_20150226-*.nc\n",
      "/data/eolson/MEOPAR/SS36runs/CedarRuns/spring2015_T3/SalishSea_1h_*_ptrc_T_20150308-*.nc\n",
      "/data/eolson/MEOPAR/SS36runs/CedarRuns/spring2015_T3/SalishSea_1h_*_ptrc_T_20150318-*.nc\n",
      "/data/eolson/MEOPAR/SS36runs/CedarRuns/spring2015_T3/SalishSea_1h_*_ptrc_T_20150328-*.nc\n",
      "/data/eolson/MEOPAR/SS36runs/CedarRuns/spring2015_T3/SalishSea_1h_*_ptrc_T_20150407-*.nc\n",
      "/data/eolson/MEOPAR/SS36runs/CedarRuns/spring2015_T3/SalishSea_1h_*_ptrc_T_20150417-*.nc\n",
      "/data/eolson/MEOPAR/SS36runs/CedarRuns/spring2015_T3/SalishSea_1h_*_ptrc_T_20150427-*.nc\n",
      "/data/eolson/MEOPAR/SS36runs/CedarRuns/spring2015_T3/SalishSea_1h_*_ptrc_T_20150507-*.nc\n",
      "/data/eolson/MEOPAR/SS36runs/CedarRuns/spring2015_T3/SalishSea_1h_*_ptrc_T_20150517-*.nc\n",
      "/data/eolson/MEOPAR/SS36runs/CedarRuns/spring2015_T3/SalishSea_1h_*_ptrc_T_20150527-*.nc\n",
      "/data/eolson/MEOPAR/SS36runs/CedarRuns/spring2015_T3/SalishSea_1h_*_ptrc_T_20150606-*.nc\n",
      "/data/eolson/MEOPAR/SS36runs/CedarRuns/spring2015_T3/SalishSea_1h_*_ptrc_T_20150616-*.nc\n",
      "/data/eolson/MEOPAR/SS36runs/CedarRuns/spring2015_T3/SalishSea_1h_*_ptrc_T_20150626-*.nc\n",
      "/data/eolson/MEOPAR/SS36runs/CedarRuns/spring2015_T3/SalishSea_1h_*_ptrc_T_20150706-*.nc\n",
      "/data/eolson/MEOPAR/SS36runs/CedarRuns/spring2015_T3/SalishSea_1h_*_ptrc_T_20150716-*.nc\n",
      "/data/eolson/MEOPAR/SS36runs/CedarRuns/spring2015_T3/SalishSea_1h_*_ptrc_T_20150726-*.nc\n",
      "/data/eolson/MEOPAR/SS36runs/CedarRuns/spring2015_T3/SalishSea_1h_*_ptrc_T_20150805-*.nc\n",
      "/data/eolson/MEOPAR/SS36runs/CedarRuns/spring2015_T3/SalishSea_1h_*_ptrc_T_20150815-*.nc\n",
      "/data/eolson/MEOPAR/SS36runs/CedarRuns/spring2015_T3/SalishSea_1h_*_ptrc_T_20150825-*.nc\n",
      "/data/eolson/MEOPAR/SS36runs/CedarRuns/spring2015_T3/SalishSea_1h_*_ptrc_T_20150904-*.nc\n",
      "/data/eolson/MEOPAR/SS36runs/CedarRuns/spring2015_T3/SalishSea_1h_*_ptrc_T_20150914-*.nc\n",
      "/data/eolson/MEOPAR/SS36runs/CedarRuns/spring2015_T3/SalishSea_1h_*_ptrc_T_20150924-*.nc\n",
      "/data/eolson/MEOPAR/SS36runs/CedarRuns/spring2015_T3/SalishSea_1h_*_ptrc_T_20151004-*.nc\n",
      "/data/eolson/MEOPAR/SS36runs/CedarRuns/spring2015_T3/SalishSea_1h_*_ptrc_T_20151014-*.nc\n",
      "/data/eolson/MEOPAR/SS36runs/CedarRuns/spring2015_T3/SalishSea_1h_*_ptrc_T_20151024-*.nc\n",
      "/data/eolson/MEOPAR/SS36runs/CedarRuns/spring2015_T3/SalishSea_1h_*_ptrc_T_20151103-*.nc\n"
     ]
    }
   ],
   "source": [
    "tlist=dlist\n",
    "SiGlobalTot=dict()\n",
    "SiTot=dict()\n",
    "BSiTot=dict()\n",
    "DiatTot=dict()\n",
    "changeSiGlobalTot=dict()\n",
    "for idir in (sdir0,sdir1,sdir3):\n",
    "    fformat1='%d%b%y/'\n",
    "    if idir.startswith('/data/eolson/MEOPAR/SS36runs/CedarRuns/'):\n",
    "        fformatT='SalishSea_1h_*_ptrc_T_%Y%m%d-*.nc'\n",
    "        fformatP='SalishSea_1h_*_ptrc_T_%Y%m%d-*.nc'\n",
    "    elif idir==sdir0:\n",
    "        fformatT='SalishSea_1h_%Y%m%d_%Y%m%d_ptrc_T.nc'\n",
    "        fformatP='SalishSea_1h_%Y%m%d_%Y%m%d_grid_T.nc'\n",
    "    elif idir==sdir1:\n",
    "        fformatT='SalishSea_1h_%Y%m%d_%Y%m%d_ptrc_T.nc'\n",
    "        fformatP='SalishSea_1h_%Y%m%d_%Y%m%d_carp_T.nc'\n",
    "    sumSi=np.zeros((len(tlist),stm[2],stm[3]))\n",
    "    sumBSi=np.zeros((len(tlist),stm[2],stm[3]))\n",
    "    sumDiat=np.zeros((len(tlist),stm[2],stm[3]))\n",
    "    ind=-1\n",
    "    for idt0 in tlist:\n",
    "        ind=ind+1\n",
    "        cdir=idt0.strftime(fformat1).lower()\n",
    "        iffT=idt0.strftime(fformatT)\n",
    "        iffP=idt0.strftime(fformatP)\n",
    "        if idir.startswith('/data/eolson/MEOPAR/SS36runs/CedarRuns/'):\n",
    "            sffT=idir+iffT\n",
    "            sffP=idir+iffP\n",
    "        elif idir.startswith('/results/'):\n",
    "            sffT=idir+cdir+iffT\n",
    "            sffP=idir+cdir+iffP\n",
    "        f=nc.Dataset(glob.glob(sffT)[0])\n",
    "        print(sffT)\n",
    "        fP=nc.Dataset(glob.glob(sffP)[0])\n",
    "        if idir==sdir0:\n",
    "            e3t=np.expand_dims((1+fP.variables['sossheig'][0,:,:]/np.sum(e3t_0*tmask,1)),0)*e3t_0\n",
    "        elif idir==sdir1:\n",
    "            e3t=fP.variables['e3t'][:,:,:,:]\n",
    "        Vol=A*e3t\n",
    "        sumSi[ind,:,:]=1e-3*np.sum(tmaskC[0,:,:,:]*Vol[0,:,:,:]*f.variables['silicon'][0,:,:,:],0) #mmol/m3*m3*10^-3=mol\n",
    "        sumBSi[ind,:,:]=1e-3*np.sum(tmaskC[0,:,:,:]*Vol[0,:,:,:]*f.variables['biogenic_silicon'][0,:,:,:],0) #mmol/m3*m3*10^-3=mol\n",
    "        sumDiat[ind,:,:]=SiN*1e-3*np.sum(tmaskC[0,:,:,:]*Vol[0,:,:,:]*f.variables['diatoms'][0,:,:,:],0) #mmol/m3*m3*10^-3=mol\n",
    "    SiGlobalTot[idir]=np.sum(np.sum(sumSi+sumBSi+sumDiat,2),1)\n",
    "    SiTot[idir]=np.sum(np.sum(sumSi,2),1)\n",
    "    BSiTot[idir]=np.sum(np.sum(sumBSi,2),1)\n",
    "    DiatTot[idir]=np.sum(np.sum(sumDiat,2),1)\n",
    "    changeSiGlobalTot[idir]=[SiGlobalTot[idir][ii+1]-SiGlobalTot[idir][ii] for ii in range(0,len(tlist)-1)]"
   ]
  },
  {
   "cell_type": "code",
   "execution_count": 7,
   "metadata": {
    "collapsed": false
   },
   "outputs": [
    {
     "data": {
      "text/plain": [
       "'/data/eolson/MEOPAR/SS36runs/CedarRuns/spring2015_T3/SalishSea_1h_*_ptrc_T_20151103-*.nc'"
      ]
     },
     "execution_count": 7,
     "metadata": {},
     "output_type": "execute_result"
    }
   ],
   "source": [
    "sffP"
   ]
  },
  {
   "cell_type": "code",
   "execution_count": 8,
   "metadata": {
    "collapsed": false
   },
   "outputs": [
    {
     "data": {
      "text/plain": [
       "[<matplotlib.lines.Line2D at 0x7fb77b509588>]"
      ]
     },
     "execution_count": 8,
     "metadata": {},
     "output_type": "execute_result"
    },
    {
     "data": {
      "image/png": "[encoded data removed]",
      "text/plain": [
       "<matplotlib.figure.Figure at 0x7fb74ca2ca58>"
      ]
     },
     "metadata": {},
     "output_type": "display_data"
    }
   ],
   "source": [
    "plt.plot(SiGlobalTot[sdir0]-SiGlobalTot[sdir0][0],'r-')\n",
    "plt.plot(SiGlobalTot[sdir1]-SiGlobalTot[sdir1][0],'b-')\n",
    "plt.plot(SiGlobalTot[sdir3]-SiGlobalTot[sdir3][0],'g-')"
   ]
  },
  {
   "cell_type": "code",
   "execution_count": null,
   "metadata": {
    "collapsed": true
   },
   "outputs": [],
   "source": []
  }
 ],
 "metadata": {
  "anaconda-cloud": {},
  "kernelspec": {
   "display_name": "Python [conda env:python36]",
   "language": "python",
   "name": "conda-env-python36-py"
  },
  "language_info": {
   "codemirror_mode": {
    "name": "ipython",
    "version": 3
   },
   "file_extension": ".py",
   "mimetype": "text/x-python",
   "name": "python",
   "nbconvert_exporter": "python",
   "pygments_lexer": "ipython3",
   "version": "3.6.3"
  }
 },
 "nbformat": 4,
 "nbformat_minor": 1
}
