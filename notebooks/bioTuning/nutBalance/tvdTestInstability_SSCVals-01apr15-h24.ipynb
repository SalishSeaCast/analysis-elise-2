{
 "cells": [
  {
   "cell_type": "code",
   "execution_count": 1,
   "metadata": {},
   "outputs": [],
   "source": [
    "import numpy as np\n",
    "from matplotlib import pyplot as plt\n",
    "\n",
    "%matplotlib inline"
   ]
  },
  {
   "cell_type": "code",
   "execution_count": 2,
   "metadata": {},
   "outputs": [],
   "source": [
    "#w=np.array([-.1,-.1,-.1,-.1,-.1, 0])\n",
    "#w=np.array([-1,-1,-1,-1,-1, 0])\n",
    "#c=np.array([  1,  1,  1,.01,100, 1e10])*1e-6\n",
    "e1e2t=214298.32535430687\n",
    "e3t=np.array([25.70331479, 26.28684983, 26.59728865, 26.75965336, \n",
    "              26.84381704, 26.88724213, 26.90959407, 26.92108493,\n",
    "              26.9269885,  26.93002054, 26.93157752, 26.93237697,])\n",
    "# step 24:\n",
    "c=np.array([2.65121251e-01, 1.90705761e-01, 1.62778839e-01, 1.63109794e-01, \n",
    "                   1.41612262e-01, 1.20875522e-01, 1.02854975e-01, 9.03575793e-02,\n",
    "                   6.69111013e-02, 3.21567655e-02, 2.10060075e-01, 0.0])\n",
    "# step 0:\n",
    "#c=np.array([0.20331727, 0.16865452, 0.15772118, 0.14340848,\n",
    "#            0.11826674, 0.10116881, 0.08674008, 0.07820327,\n",
    "#            0.06499595, 0.04768646, 0.1204031 , 0.])\n",
    "#w=-1*np.ones(np.shape(c))*2.8e-4\n",
    "#w[-1]=0\n",
    "w=np.array([ 3.871025,  -96.635605, -40.600544,  20.52446,  \n",
    "            -6.9390144, -10.459614, -70.14894,  -30.304188,  \n",
    "            -17.269821, -46.92218,  -61.723824,  0.      ]) \n",
    "tmask=np.ones(np.shape(c))\n",
    "tmask[-1]=0"
   ]
  },
  {
   "cell_type": "code",
   "execution_count": 3,
   "metadata": {},
   "outputs": [
    {
     "data": {
      "text/plain": [
       "array([  0.        , -25.62015249,  -7.74275764,   3.34094777,\n",
       "        -1.13182121,  -1.4812096 ,  -8.47928974,  -3.1169365 ,\n",
       "        -1.56045922,  -3.13961474,  -1.98483853,   0.        ])"
      ]
     },
     "execution_count": 3,
     "metadata": {},
     "output_type": "execute_result"
    }
   ],
   "source": [
    "#1. bottom value zero\n",
    "zwz=np.zeros(np.shape(c))\n",
    "#2. upstream advection\n",
    "zwz[1:]=w[1:]*c[:-1]\n",
    "zwz"
   ]
  },
  {
   "cell_type": "code",
   "execution_count": 4,
   "metadata": {},
   "outputs": [],
   "source": [
    "dt=40*2\n"
   ]
  },
  {
   "cell_type": "code",
   "execution_count": 5,
   "metadata": {},
   "outputs": [
    {
     "data": {
      "text/plain": [
       "array([0.26474915, 0.19095965, 0.16293441, 0.1630474 , 0.1416074 ,\n",
       "       0.12077836, 0.10292937, 0.09037916, 0.06688921, 0.03217277,\n",
       "       0.21008759, 0.        ])"
      ]
     },
     "execution_count": 5,
     "metadata": {},
     "output_type": "execute_result"
    }
   ],
   "source": [
    "ztra=np.zeros(np.shape(c))\n",
    "ztra[:-1]=-1*(zwz[:-1]-zwz[1:])/e1e2t\n",
    "delc_upwind=ztra.copy() # ** added to tra at this step\n",
    "zwi=(e3t*c+dt*ztra)/e3t*tmask # set fse3t's to 1\n",
    "zwi # upwind increases low point from .01 to .0298 in one time step"
   ]
  },
  {
   "cell_type": "code",
   "execution_count": 6,
   "metadata": {},
   "outputs": [],
   "source": [
    "# 3. antidiffusive flux\n",
    "zwz_sav=zwz.copy()"
   ]
  },
  {
   "cell_type": "code",
   "execution_count": 7,
   "metadata": {},
   "outputs": [],
   "source": [
    "jnzts=20 # same as SSC"
   ]
  },
  {
   "cell_type": "code",
   "execution_count": 8,
   "metadata": {},
   "outputs": [],
   "source": [
    "cb=c.copy()"
   ]
  },
  {
   "cell_type": "code",
   "execution_count": 9,
   "metadata": {},
   "outputs": [],
   "source": [
    "ca=np.zeros(np.shape(c))\n",
    "zwzts=np.zeros(np.shape(c))"
   ]
  },
  {
   "cell_type": "code",
   "execution_count": 10,
   "metadata": {},
   "outputs": [
    {
     "name": "stdout",
     "output_type": "stream",
     "text": [
      "1\n"
     ]
    }
   ],
   "source": [
    "for jl in range(0,jnzts):\n",
    "    if jl==0:\n",
    "        jtaken=np.mod(jnzts+1,2)\n",
    "        print(jtaken)\n",
    "        zts=dt/jnzts # z_rzts=1/jnzts\n",
    "        cn=c.copy() # this makes first step euler\n",
    "    elif jl==1:\n",
    "        zts=2*dt/jnzts\n",
    "    zwz[1:]=.5*w[1:]*(cn[1:]+cn[:-1])\n",
    "    if jtaken==0:\n",
    "        zwzts[1:]=zwzts[1:]+zwz[1:]*zts\n",
    "    jtaken=np.mod(jtaken+1,2) # switch on/off\n",
    "    \n",
    "    zbtr=1/(e1e2t*e3t)\n",
    "    ztra[1:-1]=-1*zbtr[1:-1]*(zwz[1:-1]-zwz[2:])\n",
    "    ca[1:-1]=cb[1:-1]+zts*ztra[1:-1] # step forward\n",
    "    # swap for next step:\n",
    "    cb=cn.copy()\n",
    "    cn=ca.copy()\n",
    "    ca=np.zeros(np.shape(c))"
   ]
  },
  {
   "cell_type": "code",
   "execution_count": 11,
   "metadata": {},
   "outputs": [
    {
     "data": {
      "text/plain": [
       "array([0.        , 0.1907347 , 0.16292653, 0.16304839, 0.14160788,\n",
       "       0.12078563, 0.10292321, 0.09037935, 0.06689772, 0.03208534,\n",
       "       0.2101637 , 0.        ])"
      ]
     },
     "execution_count": 11,
     "metadata": {},
     "output_type": "execute_result"
    }
   ],
   "source": [
    "cn"
   ]
  },
  {
   "cell_type": "code",
   "execution_count": 12,
   "metadata": {},
   "outputs": [
    {
     "data": {
      "text/plain": [
       "array([   0.        , -737.24975952, -574.224872  ,  267.58294193,\n",
       "        -84.56969846, -109.80111354, -627.74791   , -234.26053677,\n",
       "       -108.64297454, -185.85962636, -598.0617406 ,    0.        ])"
      ]
     },
     "execution_count": 12,
     "metadata": {},
     "output_type": "execute_result"
    }
   ],
   "source": [
    "zwzts"
   ]
  },
  {
   "cell_type": "code",
   "execution_count": 13,
   "metadata": {},
   "outputs": [],
   "source": [
    "# anti-diffusive vertical flux using average flux from sub-timestepping\n",
    "zwz=zwzts/dt-zwz_sav"
   ]
  },
  {
   "cell_type": "code",
   "execution_count": 14,
   "metadata": {},
   "outputs": [
    {
     "data": {
      "text/plain": [
       "array([ 0.00000000e+00,  1.64045305e+01,  5.64946741e-01,  3.83900425e-03,\n",
       "        7.46999786e-02,  1.08695679e-01,  6.32440865e-01,  1.88679790e-01,\n",
       "        2.02422039e-01,  8.16369410e-01, -5.49093322e+00,  0.00000000e+00])"
      ]
     },
     "execution_count": 14,
     "metadata": {},
     "output_type": "execute_result"
    }
   ],
   "source": [
    "zwz"
   ]
  },
  {
   "cell_type": "code",
   "execution_count": 15,
   "metadata": {},
   "outputs": [],
   "source": [
    "zbig=1e40\n",
    "zrtrn=1e-15"
   ]
  },
  {
   "cell_type": "code",
   "execution_count": 16,
   "metadata": {},
   "outputs": [
    {
     "data": {
      "text/plain": [
       "array([ 2.65121251e-01,  1.90959646e-01,  1.62934406e-01,  1.63109794e-01,\n",
       "        1.41612262e-01,  1.20875522e-01,  1.02929366e-01,  9.03791628e-02,\n",
       "        6.69111013e-02,  3.21727733e-02,  2.10087588e-01, -1.00000000e+40])"
      ]
     },
     "execution_count": 16,
     "metadata": {},
     "output_type": "execute_result"
    }
   ],
   "source": [
    "# 4. nonosc(pbef=ptb,zwx,zwy,pcc=zwz,paft=zwi,p2dt)\n",
    "# zwi is after value based on upwind\n",
    "pbef=c.copy()\n",
    "paft=zwi.copy()\n",
    "# search local extrema\n",
    "zbup=np.maximum(pbef*tmask-zbig*(1-tmask),paft*tmask-zbig*(1-tmask))\n",
    "zbup"
   ]
  },
  {
   "cell_type": "code",
   "execution_count": 17,
   "metadata": {},
   "outputs": [
    {
     "data": {
      "text/plain": [
       "array([2.64749147e-01, 1.90705761e-01, 1.62778839e-01, 1.63047396e-01,\n",
       "       1.41607403e-01, 1.20778358e-01, 1.02854975e-01, 9.03575793e-02,\n",
       "       6.68892081e-02, 3.21567655e-02, 2.10060075e-01, 1.00000000e+40])"
      ]
     },
     "execution_count": 17,
     "metadata": {},
     "output_type": "execute_result"
    }
   ],
   "source": [
    "zbdo=np.minimum(pbef*tmask+zbig*(1-tmask),paft*tmask+zbig*(1-tmask))\n",
    "zbdo"
   ]
  },
  {
   "cell_type": "code",
   "execution_count": 18,
   "metadata": {},
   "outputs": [
    {
     "data": {
      "text/plain": [
       "array([0.26512125, 0.26512125, 0.19095965, 0.16310979, 0.16310979,\n",
       "       0.14161226, 0.12087552, 0.10292937, 0.09037916, 0.21008759,\n",
       "       0.21008759, 0.        ])"
      ]
     },
     "execution_count": 18,
     "metadata": {},
     "output_type": "execute_result"
    }
   ],
   "source": [
    "zup=np.zeros(np.shape(c))\n",
    "zdo=zup.copy()\n",
    "zup[0]=np.maximum(zbup[0],zbup[1])\n",
    "zup[1:-1]=np.maximum(np.maximum(zbup[:-2],zbup[1:-1]),zbup[2:])\n",
    "#zup[-1]=np.maximum(zbup[-2],zbup[-1]) this is never calculated\n",
    "zup"
   ]
  },
  {
   "cell_type": "code",
   "execution_count": 19,
   "metadata": {},
   "outputs": [
    {
     "data": {
      "text/plain": [
       "array([0.19070576, 0.16277884, 0.16277884, 0.1416074 , 0.12077836,\n",
       "       0.10285498, 0.09035758, 0.06688921, 0.03215677, 0.03215677,\n",
       "       0.03215677, 0.        ])"
      ]
     },
     "execution_count": 19,
     "metadata": {},
     "output_type": "execute_result"
    }
   ],
   "source": [
    "zdo[0]=np.minimum(zbdo[0],zbdo[1])\n",
    "zdo[1:-1]=np.minimum(np.minimum(zbdo[:-2],zbdo[1:-1]),zbdo[2:])\n",
    "#zdo[-1]=np.minimum(zbdo[-2],zbdo[-1])\n",
    "zdo"
   ]
  },
  {
   "cell_type": "code",
   "execution_count": 20,
   "metadata": {},
   "outputs": [
    {
     "data": {
      "text/plain": [
       "(12, 0)"
      ]
     },
     "execution_count": 20,
     "metadata": {},
     "output_type": "execute_result"
    },
    {
     "data": {
      "image/png": "[encoded data removed]",
      "text/plain": [
       "<Figure size 864x432 with 2 Axes>"
      ]
     },
     "metadata": {
      "needs_background": "light"
     },
     "output_type": "display_data"
    }
   ],
   "source": [
    "fig,ax=plt.subplots(1,2,figsize=(12,6))\n",
    "ax[0].plot(zup,np.arange(0,len(zbup)),'k*')\n",
    "ax[0].set_title('zup')\n",
    "ax[0].set_ylim(12,0)\n",
    "ax[1].plot(zdo,np.arange(0,len(zdo)),'k*')\n",
    "ax[1].set_title('zdo')\n",
    "ax[1].set_ylim(12,0)"
   ]
  },
  {
   "cell_type": "code",
   "execution_count": 21,
   "metadata": {},
   "outputs": [],
   "source": [
    "zeros=np.zeros(np.shape(c))\n",
    "pcc=zwz.copy()\n",
    "zpos=np.zeros(np.shape(c))\n",
    "zneg=zpos.copy()\n",
    "zpos[:-1]=np.maximum(zeros[1:],pcc[1:])-np.minimum(zeros[:-1],pcc[:-1])\n",
    "zneg[:-1]=np.maximum(zeros[:-1],pcc[:-1])-np.minimum(zeros[1:],pcc[1:])\n"
   ]
  },
  {
   "cell_type": "code",
   "execution_count": 22,
   "metadata": {},
   "outputs": [
    {
     "data": {
      "text/plain": [
       "array([1.64045305e+01, 5.64946741e-01, 3.83900425e-03, 7.46999786e-02,\n",
       "       1.08695679e-01, 6.32440865e-01, 1.88679790e-01, 2.02422039e-01,\n",
       "       8.16369410e-01, 0.00000000e+00, 5.49093322e+00, 0.00000000e+00])"
      ]
     },
     "execution_count": 22,
     "metadata": {},
     "output_type": "execute_result"
    }
   ],
   "source": [
    "zpos"
   ]
  },
  {
   "cell_type": "code",
   "execution_count": 23,
   "metadata": {},
   "outputs": [
    {
     "data": {
      "text/plain": [
       "array([0.00000000e+00, 1.64045305e+01, 5.64946741e-01, 3.83900425e-03,\n",
       "       7.46999786e-02, 1.08695679e-01, 6.32440865e-01, 1.88679790e-01,\n",
       "       2.02422039e-01, 6.30730263e+00, 0.00000000e+00, 0.00000000e+00])"
      ]
     },
     "execution_count": 23,
     "metadata": {},
     "output_type": "execute_result"
    }
   ],
   "source": [
    "zneg"
   ]
  },
  {
   "cell_type": "code",
   "execution_count": 24,
   "metadata": {},
   "outputs": [
    {
     "data": {
      "text/plain": [
       "(12, 0)"
      ]
     },
     "execution_count": 24,
     "metadata": {},
     "output_type": "execute_result"
    },
    {
     "data": {
      "image/png": "[encoded data removed]",
      "text/plain": [
       "<Figure size 864x432 with 2 Axes>"
      ]
     },
     "metadata": {
      "needs_background": "light"
     },
     "output_type": "display_data"
    }
   ],
   "source": [
    "fig,ax=plt.subplots(1,2,figsize=(12,6))\n",
    "ax[0].plot(zpos,np.arange(0,len(zpos)),'k*')\n",
    "ax[0].set_title('zpos')\n",
    "ax[0].set_ylim(12,0)\n",
    "ax[1].plot(zneg,np.arange(0,len(zneg)),'k*')\n",
    "ax[1].set_title('zneg')\n",
    "ax[1].set_ylim(12,0)"
   ]
  },
  {
   "cell_type": "code",
   "execution_count": 25,
   "metadata": {},
   "outputs": [],
   "source": [
    "#! up & down beta terms\n",
    "zbt = e1e2t*e3t / dt\n",
    "zbetup = ( zup - paft) / ( zpos + zrtrn ) * zbt\n",
    "zbetdo = ( paft - zdo ) / ( zneg + zrtrn ) * zbt\n"
   ]
  },
  {
   "cell_type": "code",
   "execution_count": 26,
   "metadata": {},
   "outputs": [
    {
     "data": {
      "text/plain": [
       "array([1.56177298e+00, 9.24355326e+03, 5.20112026e+05, 5.98764425e+01,\n",
       "       1.42248447e+04, 2.37260683e+03, 6.85617661e+03, 4.47109921e+03,\n",
       "       2.07544883e+03, 1.28344596e+19, 0.00000000e+00, 0.00000000e+00])"
      ]
     },
     "execution_count": 26,
     "metadata": {},
     "output_type": "execute_result"
    }
   ],
   "source": [
    "zbetup"
   ]
  },
  {
   "cell_type": "code",
   "execution_count": 27,
   "metadata": {},
   "outputs": [
    {
     "data": {
      "text/plain": [
       "array([5.09805127e+18, 1.20964227e+02, 1.96190271e+01, 4.00327411e+05,\n",
       "       2.00503490e+04, 1.18763438e+04, 1.43289053e+03, 8.97796986e+03,\n",
       "       1.23763935e+04, 1.83085587e-01, 1.28363565e+19, 0.00000000e+00])"
      ]
     },
     "execution_count": 27,
     "metadata": {},
     "output_type": "execute_result"
    }
   ],
   "source": [
    "zbetdo"
   ]
  },
  {
   "cell_type": "code",
   "execution_count": 28,
   "metadata": {},
   "outputs": [
    {
     "data": {
      "text/plain": [
       "(12, 0)"
      ]
     },
     "execution_count": 28,
     "metadata": {},
     "output_type": "execute_result"
    },
    {
     "data": {
      "image/png": "[encoded data removed]",
      "text/plain": [
       "<Figure size 864x432 with 2 Axes>"
      ]
     },
     "metadata": {
      "needs_background": "light"
     },
     "output_type": "display_data"
    }
   ],
   "source": [
    "fig,ax=plt.subplots(1,2,figsize=(12,6))\n",
    "ax[0].plot(zbetup,np.arange(0,len(zbetup)),'k*')\n",
    "ax[0].set_title('zbetup')\n",
    "ax[0].set_ylim(12,0)\n",
    "ax[1].plot(zbetdo,np.arange(0,len(zbetdo)),'k*')\n",
    "ax[1].set_title('zbetdo')\n",
    "ax[1].set_ylim(12,0)"
   ]
  },
  {
   "cell_type": "code",
   "execution_count": 29,
   "metadata": {},
   "outputs": [],
   "source": [
    "#! monotonic flux in the k direction, i.e. pcc\n",
    "ones=np.ones(np.shape(c))\n",
    "za=zeros.copy()\n",
    "zb=zeros.copy()\n",
    "zc=zeros.copy()\n",
    "za[:-1] = np.minimum(np.minimum( ones[1:], zbetdo[1:]), zbetup[:-1] )\n",
    "zb[:-1] = np.minimum(np.minimum( ones[1:], zbetup[1:]), zbetdo[:-1] )\n",
    "zc[:-1]=np.where(pcc[1:]<0,0,1)\n",
    "#zc[:-1]=.5+np.abs(pcc[1:])/pcc[1:]*.5\n",
    "#zc =       ( 0.5  + SIGN( 0.5 , pcc(ji,jj,jk+1) ) )\n",
    "# SIGN(A,B) returns value of A with sign of B\n",
    "pcc[1:]=pcc[1:]*(zc[:-1]*za[:-1]+(1-zc[:-1])*zb[:-1])\n",
    "#pcc(ji,jj,jk+1) = pcc(ji,jj,jk+1) * ( zc * za + ( 1._wp - zc) * zb )"
   ]
  },
  {
   "cell_type": "code",
   "execution_count": 30,
   "metadata": {},
   "outputs": [
    {
     "data": {
      "text/plain": [
       "array([ 0.00000000e+00,  1.64045305e+01,  5.64946741e-01,  3.83900425e-03,\n",
       "        7.46999786e-02,  1.08695679e-01,  6.32440865e-01,  1.88679790e-01,\n",
       "        2.02422039e-01,  1.49465473e-01, -0.00000000e+00,  0.00000000e+00])"
      ]
     },
     "execution_count": 30,
     "metadata": {},
     "output_type": "execute_result"
    }
   ],
   "source": [
    "pcc"
   ]
  },
  {
   "cell_type": "code",
   "execution_count": 31,
   "metadata": {},
   "outputs": [
    {
     "data": {
      "text/plain": [
       "array([ 0.00000000e+00,  1.64045305e+01,  5.64946741e-01,  3.83900425e-03,\n",
       "        7.46999786e-02,  1.08695679e-01,  6.32440865e-01,  1.88679790e-01,\n",
       "        2.02422039e-01,  8.16369410e-01, -5.49093322e+00,  0.00000000e+00])"
      ]
     },
     "execution_count": 31,
     "metadata": {},
     "output_type": "execute_result"
    }
   ],
   "source": [
    "# before nonosc, zwz contains difference between centered substepped leapfrog and upwind:\n",
    "zwz"
   ]
  },
  {
   "cell_type": "code",
   "execution_count": 32,
   "metadata": {},
   "outputs": [],
   "source": [
    "# after nonosc, zwz (pcc) is adjusted so that only one element changes from upwind "
   ]
  },
  {
   "cell_type": "code",
   "execution_count": 33,
   "metadata": {},
   "outputs": [],
   "source": [
    "# 5. final trend with corrected fluxes\n",
    "ztra=0*ztra\n",
    "ztra2=ztra.copy()\n",
    "ztra[:-1]=-1*zbtr[:-1]*(pcc[:-1]-pcc[1:])\n",
    "ztra2[:-1]=-1*zbtr[:-1]*(zwz[:-1]-zwz[1:])"
   ]
  },
  {
   "cell_type": "code",
   "execution_count": 34,
   "metadata": {},
   "outputs": [
    {
     "data": {
      "text/plain": [
       "array([ 2.97821395e-06, -2.81181306e-06, -9.84441952e-08,  1.23568524e-08,\n",
       "        5.90963889e-09,  9.08981426e-08, -7.69525972e-08,  2.38202592e-09,\n",
       "       -9.17726462e-09, -2.58991444e-08,  0.00000000e+00,  0.00000000e+00])"
      ]
     },
     "execution_count": 34,
     "metadata": {},
     "output_type": "execute_result"
    }
   ],
   "source": [
    "# total change is ztra+delc, ztra is after nonosc adjustment\n",
    "ztra"
   ]
  },
  {
   "cell_type": "code",
   "execution_count": 35,
   "metadata": {},
   "outputs": [
    {
     "data": {
      "text/plain": [
       "array([ 2.97821395e-06, -2.81181306e-06, -9.84441952e-08,  1.23568524e-08,\n",
       "        5.90963889e-09,  9.08981426e-08, -7.69525972e-08,  2.38202592e-09,\n",
       "        1.06395824e-07, -1.09291958e-06,  9.51405356e-07,  0.00000000e+00])"
      ]
     },
     "execution_count": 35,
     "metadata": {},
     "output_type": "execute_result"
    }
   ],
   "source": [
    "ztra2 # this is before nonosc version"
   ]
  },
  {
   "cell_type": "code",
   "execution_count": 36,
   "metadata": {},
   "outputs": [
    {
     "data": {
      "text/plain": [
       "array([-1.19553676e-04,  8.34229330e-05,  5.17209147e-05, -2.08716936e-05,\n",
       "       -1.63038320e-06, -3.26557855e-05,  2.50228425e-05,  7.26313319e-06,\n",
       "       -7.36895875e-06,  5.38863849e-06,  9.26203474e-06,  0.00000000e+00])"
      ]
     },
     "execution_count": 36,
     "metadata": {},
     "output_type": "execute_result"
    }
   ],
   "source": [
    "delc_upwind"
   ]
  },
  {
   "cell_type": "code",
   "execution_count": 37,
   "metadata": {},
   "outputs": [
    {
     "data": {
      "text/plain": [
       "array([-1.16575462e-04,  8.06111200e-05,  5.16224705e-05, -2.08593367e-05,\n",
       "       -1.62447356e-06, -3.25648873e-05,  2.49458899e-05,  7.26551521e-06,\n",
       "       -7.37813601e-06,  5.36273935e-06,  9.26203474e-06,  0.00000000e+00])"
      ]
     },
     "execution_count": 37,
     "metadata": {},
     "output_type": "execute_result"
    }
   ],
   "source": [
    "delc_upwind+ztra"
   ]
  },
  {
   "cell_type": "code",
   "execution_count": 38,
   "metadata": {},
   "outputs": [
    {
     "data": {
      "text/plain": [
       "array([-1.16575462e-04,  8.06111200e-05,  5.16224705e-05, -2.08593367e-05,\n",
       "       -1.62447356e-06, -3.25648873e-05,  2.49458899e-05,  7.26551521e-06,\n",
       "       -7.26256292e-06,  4.29571891e-06,  1.02134401e-05,  0.00000000e+00])"
      ]
     },
     "execution_count": 38,
     "metadata": {},
     "output_type": "execute_result"
    }
   ],
   "source": [
    "delc_upwind+ztra2"
   ]
  },
  {
   "cell_type": "code",
   "execution_count": 39,
   "metadata": {},
   "outputs": [
    {
     "data": {
      "text/plain": [
       "array([0.26512125, 0.19070576, 0.16277884, 0.16310979, 0.14161226,\n",
       "       0.12087552, 0.10285498, 0.09035758, 0.0669111 , 0.03215677,\n",
       "       0.21006008, 0.        ])"
      ]
     },
     "execution_count": 39,
     "metadata": {},
     "output_type": "execute_result"
    }
   ],
   "source": [
    "c"
   ]
  },
  {
   "cell_type": "code",
   "execution_count": null,
   "metadata": {},
   "outputs": [],
   "source": []
  }
 ],
 "metadata": {
  "kernelspec": {
   "display_name": "Python 3",
   "language": "python",
   "name": "python3"
  },
  "language_info": {
   "codemirror_mode": {
    "name": "ipython",
    "version": 3
   },
   "file_extension": ".py",
   "mimetype": "text/x-python",
   "name": "python",
   "nbconvert_exporter": "python",
   "pygments_lexer": "ipython3",
   "version": "3.7.4"
  }
 },
 "nbformat": 4,
 "nbformat_minor": 4
}
