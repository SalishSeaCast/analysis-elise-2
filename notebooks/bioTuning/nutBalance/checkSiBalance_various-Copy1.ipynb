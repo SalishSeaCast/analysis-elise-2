{
 "cells": [
  {
   "cell_type": "code",
   "execution_count": 1,
   "metadata": {
    "collapsed": true
   },
   "outputs": [],
   "source": [
    "import netCDF4 as nc\n",
    "import datetime as dt\n",
    "import subprocess\n",
    "import requests\n",
    "import matplotlib.pyplot as plt\n",
    "import cmocean\n",
    "import numpy as np\n",
    "import os\n",
    "import glob\n",
    "import dateutil as dutil\n",
    "from salishsea_tools import viz_tools\n",
    "%matplotlib inline"
   ]
  },
  {
   "cell_type": "code",
   "execution_count": 2,
   "metadata": {
    "collapsed": false
   },
   "outputs": [],
   "source": [
    "with nc.Dataset('/ocean/eolson/MEOPAR/NEMO-forcing/grid/mesh_mask201702_noLPE.nc') as fm:\n",
    "    tmask=np.copy(fm.variables['tmask'])\n",
    "    umask=np.copy(fm.variables['umask'])\n",
    "    vmask=np.copy(fm.variables['vmask'])\n",
    "    navlon=np.copy(fm.variables['nav_lon'])\n",
    "    navlat=np.copy(fm.variables['nav_lat'])\n",
    "    e3t_0=np.copy(fm.variables['e3t_0'])\n",
    "    e3u_0=np.copy(fm.variables['e3u_0'])\n",
    "    e3v_0=np.copy(fm.variables['e3v_0'])\n",
    "    e1t=np.copy(fm.variables['e1t'])\n",
    "    e2t=np.copy(fm.variables['e2t'])\n",
    "    e1v=np.copy(fm.variables['e1v'])\n",
    "    e2u=np.copy(fm.variables['e2u'])\n",
    "    A=fm.variables['e1t'][0,:,:]*fm.variables['e2t'][0,:,:]*tmask[0,0,:,:]"
   ]
  },
  {
   "cell_type": "code",
   "execution_count": 3,
   "metadata": {
    "collapsed": false
   },
   "outputs": [],
   "source": [
    "t0=dt.datetime(2015,1,11) # 1st start date of run\n",
    "#te=dt.datetime(2016,12,1)# last start date of runfnum=18\n",
    "stm=np.shape(tmask)\n",
    "SiN=2.0\n",
    "#nlen=36\n",
    "nlen=6\n",
    "dlist=[t0+dt.timedelta(days=ii*10) for ii in range(0,nlen)]"
   ]
  },
  {
   "cell_type": "code",
   "execution_count": 3,
   "metadata": {
    "collapsed": false
   },
   "outputs": [
    {
     "data": {
      "text/plain": [
       "'/data/eolson/MEOPAR/SS36runs/CedarRuns/spring15spun_Ztest/SalishSea_1h_20150111_20150311_ptrc_T_20150302-20150311.nc'"
      ]
     },
     "execution_count": 3,
     "metadata": {},
     "output_type": "execute_result"
    }
   ],
   "source": [
    "ftest=nc.Dataset(glob.glob('/data/eolson/MEOPAR/SS36runs/CedarRuns/spring15spun_Ztest/SalishSea_1h_*_ptrc_T_20150302-*.nc')[0])\n",
    "fZ5=nc.Dataset(glob.glob('/data/eolson/MEOPAR/SS36runs/CedarRuns/spring15spun_Z5/SalishSea_1h_*_ptrc_T_20150302-*.nc')[0])"
   ]
  },
  {
   "cell_type": "code",
   "execution_count": 6,
   "metadata": {
    "collapsed": false
   },
   "outputs": [
    {
     "name": "stdout",
     "output_type": "stream",
     "text": [
      "/data/eolson/MEOPAR/SS36runs/CedarRuns/spring15spun_Ztest/SalishSea_1h_*_ptrc_T_20150111-*.nc\n",
      "/data/eolson/MEOPAR/SS36runs/CedarRuns/spring15spun_Ztest/SalishSea_1h_*_ptrc_T_20150121-*.nc\n",
      "/data/eolson/MEOPAR/SS36runs/CedarRuns/spring15spun_Ztest/SalishSea_1h_*_ptrc_T_20150131-*.nc\n",
      "/data/eolson/MEOPAR/SS36runs/CedarRuns/spring15spun_Ztest/SalishSea_1h_*_ptrc_T_20150210-*.nc\n",
      "/data/eolson/MEOPAR/SS36runs/CedarRuns/spring15spun_Ztest/SalishSea_1h_*_ptrc_T_20150220-*.nc\n",
      "/data/eolson/MEOPAR/SS36runs/CedarRuns/spring15spun_Ztest/SalishSea_1h_*_ptrc_T_20150302-*.nc\n"
     ]
    }
   ],
   "source": [
    "tlist=dlist\n",
    "SiGlobalTot=dict()\n",
    "SiTot=dict()\n",
    "BSiTot=dict()\n",
    "DiatTot=dict()\n",
    "changeSiGlobalTot=dict()\n",
    "for idir in (sdir1,):\n",
    "    fformat1='%d%b%y/'\n",
    "    if idir.startswith('/data/eolson/MEOPAR/SS36runs/'):\n",
    "        fformatT='SalishSea_1h_*_ptrc_T_%Y%m%d-*.nc'\n",
    "        fformatP='SalishSea_1h_*_ptrc_T_%Y%m%d-*.nc'\n",
    "    #elif idir==sdir0:\n",
    "    #    fformatT='SalishSea_1h_%Y%m%d_%Y%m%d_ptrc_T.nc'\n",
    "    #    fformatP='SalishSea_1h_%Y%m%d_%Y%m%d_grid_T.nc'\n",
    "    elif idir==sdir1:\n",
    "        fformatT='SalishSea_1h_%Y%m%d_%Y%m%d_ptrc_T.nc'\n",
    "        fformatP='SalishSea_1h_%Y%m%d_%Y%m%d_carp_T.nc'\n",
    "    sumSi=np.zeros((len(tlist),stm[2],stm[3]))\n",
    "    sumBSi=np.zeros((len(tlist),stm[2],stm[3]))\n",
    "    sumDiat=np.zeros((len(tlist),stm[2],stm[3]))\n",
    "    ind=-1\n",
    "    for idt0 in tlist:\n",
    "        ind=ind+1\n",
    "        cdir=idt0.strftime(fformat1).lower()\n",
    "        iffT=idt0.strftime(fformatT)\n",
    "        iffP=idt0.strftime(fformatP)\n",
    "        if idir.startswith('/data/eolson/MEOPAR/SS36runs/'):\n",
    "            sffT=idir+iffT\n",
    "            sffP=idir+iffP\n",
    "        elif idir.startswith('/results/'):\n",
    "            sffT=idir+cdir+iffT\n",
    "            sffP=idir+cdir+iffP\n",
    "        f=nc.Dataset(glob.glob(sffT)[0])\n",
    "        print(sffT)\n",
    "        fP=nc.Dataset(glob.glob(sffP)[0])\n",
    "        #if idir==sdir0:\n",
    "        #    e3t=np.expand_dims((1+fP.variables['sossheig'][0,:,:]/np.sum(e3t_0*tmask,1)),0)*e3t_0\n",
    "        if idir==sdir1:\n",
    "            e3t=fP.variables['e3t'][:2,:,:,:]\n",
    "        Vol=A*e3t\n",
    "        sumSi[ind,:,:]=1e-3*np.sum(tmaskC[0,:,:,:]*Vol[0,:,:,:]*f.variables['silicon'][0,:,:,:],0) #mmol/m3*m3*10^-3=mol\n",
    "        sumBSi[ind,:,:]=1e-3*np.sum(tmaskC[0,:,:,:]*Vol[0,:,:,:]*f.variables['biogenic_silicon'][0,:,:,:],0) #mmol/m3*m3*10^-3=mol\n",
    "        sumDiat[ind,:,:]=SiN*1e-3*np.sum(tmaskC[0,:,:,:]*Vol[0,:,:,:]*f.variables['diatoms'][0,:,:,:],0) #mmol/m3*m3*10^-3=mol\n",
    "        f.close()\n",
    "        fP.close()\n",
    "    SiGlobalTot[idir]=np.sum(np.sum(sumSi+sumBSi+sumDiat,2),1)\n",
    "    SiTot[idir]=np.sum(np.sum(sumSi,2),1)\n",
    "    BSiTot[idir]=np.sum(np.sum(sumBSi,2),1)\n",
    "    DiatTot[idir]=np.sum(np.sum(sumDiat,2),1)\n",
    "    changeSiGlobalTot[idir]=[SiGlobalTot[idir][ii+1]-SiGlobalTot[idir][ii] for ii in range(0,len(tlist)-1)]"
   ]
  },
  {
   "cell_type": "code",
   "execution_count": 7,
   "metadata": {
    "collapsed": false
   },
   "outputs": [
    {
     "data": {
      "text/plain": [
       "'/data/eolson/MEOPAR/SS36runs/CedarRuns/spring15spun_Ztest/SalishSea_1h_*_ptrc_T_20150302-*.nc'"
      ]
     },
     "execution_count": 7,
     "metadata": {},
     "output_type": "execute_result"
    }
   ],
   "source": [
    "sffT"
   ]
  },
  {
   "cell_type": "code",
   "execution_count": 8,
   "metadata": {
    "collapsed": false
   },
   "outputs": [
    {
     "data": {
      "text/plain": [
       "<matplotlib.text.Text at 0x7f183967e4a8>"
      ]
     },
     "execution_count": 8,
     "metadata": {},
     "output_type": "execute_result"
    },
    {
     "data": {
      "image/png": "[encoded data removed]",
      "text/plain": [
       "<matplotlib.figure.Figure at 0x7f18397098d0>"
      ]
     },
     "metadata": {},
     "output_type": "display_data"
    }
   ],
   "source": [
    "\n",
    "fig,ax=plt.subplots(1,1,figsize=(6,5))\n",
    "ax.plot(SiGlobalTot[sdir1]-SiGlobalTot[sdir1][0],'b-')\n",
    "ax.set_xlabel('10-day intervals since Jan 1 2015')\n",
    "ax.set_ylabel('Difference in Total Si')"
   ]
  },
  {
   "cell_type": "code",
   "execution_count": 9,
   "metadata": {
    "collapsed": true
   },
   "outputs": [],
   "source": [
    "# copy restart and add 7 to Si old and new"
   ]
  },
  {
   "cell_type": "markdown",
   "metadata": {},
   "source": [
    "## repeat for N"
   ]
  },
  {
   "cell_type": "code",
   "execution_count": 10,
   "metadata": {
    "collapsed": false
   },
   "outputs": [
    {
     "name": "stdout",
     "output_type": "stream",
     "text": [
      "/data/eolson/MEOPAR/SS36runs/CedarRuns/spring15spun_Ztest/SalishSea_1h_*_ptrc_T_20150111-*.nc\n",
      "/data/eolson/MEOPAR/SS36runs/CedarRuns/spring15spun_Ztest/SalishSea_1h_*_ptrc_T_20150121-*.nc\n",
      "/data/eolson/MEOPAR/SS36runs/CedarRuns/spring15spun_Ztest/SalishSea_1h_*_ptrc_T_20150131-*.nc\n",
      "/data/eolson/MEOPAR/SS36runs/CedarRuns/spring15spun_Ztest/SalishSea_1h_*_ptrc_T_20150210-*.nc\n",
      "/data/eolson/MEOPAR/SS36runs/CedarRuns/spring15spun_Ztest/SalishSea_1h_*_ptrc_T_20150220-*.nc\n",
      "/data/eolson/MEOPAR/SS36runs/CedarRuns/spring15spun_Ztest/SalishSea_1h_*_ptrc_T_20150302-*.nc\n"
     ]
    }
   ],
   "source": [
    "tlist=dlist\n",
    "NGlobalTot=dict()\n",
    "VolTot=dict()\n",
    "NO3Tot=dict()\n",
    "NH4Tot=dict()\n",
    "PONTot=dict()\n",
    "DONTot=dict()\n",
    "DiatTot=dict()\n",
    "MyriTot=dict()\n",
    "NanoTot=dict()\n",
    "MiZoTot=dict()\n",
    "changeNGlobalTot=dict()\n",
    "for idir in (sdir1,):\n",
    "    fformat1='%d%b%y/'\n",
    "    if idir.startswith('/data/eolson/MEOPAR/SS36runs/CedarRuns/'):\n",
    "        fformatT='SalishSea_1h_*_ptrc_T_%Y%m%d-*.nc'\n",
    "        fformatP='SalishSea_1h_*_ptrc_T_%Y%m%d-*.nc'\n",
    "    #elif idir==sdir0:\n",
    "    #    fformatT='SalishSea_1h_%Y%m%d_%Y%m%d_ptrc_T.nc'\n",
    "    #    fformatP='SalishSea_1h_%Y%m%d_%Y%m%d_grid_T.nc'\n",
    "    elif idir==sdir1:\n",
    "        fformatT='SalishSea_1h_%Y%m%d_%Y%m%d_ptrc_T.nc'\n",
    "        fformatP='SalishSea_1h_%Y%m%d_%Y%m%d_carp_T.nc'\n",
    "    sumNO3=np.zeros((len(tlist),stm[2],stm[3]))\n",
    "    sumVol=np.zeros((len(tlist),stm[2],stm[3]))\n",
    "    sumNH4=np.zeros((len(tlist),stm[2],stm[3]))\n",
    "    sumPON=np.zeros((len(tlist),stm[2],stm[3]))\n",
    "    sumDON=np.zeros((len(tlist),stm[2],stm[3]))\n",
    "    sumDiat=np.zeros((len(tlist),stm[2],stm[3]))\n",
    "    sumMyri=np.zeros((len(tlist),stm[2],stm[3]))\n",
    "    sumNano=np.zeros((len(tlist),stm[2],stm[3]))\n",
    "    sumMiZo=np.zeros((len(tlist),stm[2],stm[3]))\n",
    "    ind=-1\n",
    "    for idt0 in tlist:\n",
    "        ind=ind+1\n",
    "        cdir=idt0.strftime(fformat1).lower()\n",
    "        iffT=idt0.strftime(fformatT)\n",
    "        iffP=idt0.strftime(fformatP)\n",
    "        if idir.startswith('/data/eolson/MEOPAR/SS36runs/CedarRuns/'):\n",
    "            sffT=idir+iffT\n",
    "            sffP=idir+iffP\n",
    "        elif idir.startswith('/results/'):\n",
    "            sffT=idir+cdir+iffT\n",
    "            sffP=idir+cdir+iffP\n",
    "        f=nc.Dataset(glob.glob(sffT)[0])\n",
    "        print(sffT)\n",
    "        fP=nc.Dataset(glob.glob(sffP)[0])\n",
    "        #if idir==sdir0:\n",
    "        #    e3t=np.expand_dims((1+fP.variables['sossheig'][0,:,:]/np.sum(e3t_0*tmask,1)),0)*e3t_0\n",
    "        if idir==sdir1:\n",
    "            e3t=fP.variables['e3t'][:2,:,:,:]\n",
    "        Vol=A*e3t\n",
    "        sumVol[ind,:,:]=1e-3*np.sum(tmaskC[0,:,:,:]*Vol[0,:,:,:],0) #mmol/m3*m3*10^-3=mol\n",
    "        sumNO3[ind,:,:]=1e-3*np.sum(tmaskC[0,:,:,:]*Vol[0,:,:,:]*f.variables['nitrate'][0,:,:,:],0) #mmol/m3*m3*10^-3=mol\n",
    "        sumNH4[ind,:,:]=1e-3*np.sum(tmaskC[0,:,:,:]*Vol[0,:,:,:]*f.variables['ammonium'][0,:,:,:],0) #mmol/m3*m3*10^-3=mol\n",
    "        sumPON[ind,:,:]=1e-3*np.sum(tmaskC[0,:,:,:]*Vol[0,:,:,:]*f.variables['particulate_organic_nitrogen'][0,:,:,:],0) #mmol/m3*m3*10^-3=mol\n",
    "        sumDON[ind,:,:]=1e-3*np.sum(tmaskC[0,:,:,:]*Vol[0,:,:,:]*f.variables['dissolved_organic_nitrogen'][0,:,:,:],0) #mmol/m3*m3*10^-3=mol\n",
    "        sumDiat[ind,:,:]=1e-3*np.sum(tmaskC[0,:,:,:]*Vol[0,:,:,:]*f.variables['diatoms'][0,:,:,:],0) #mmol/m3*m3*10^-3=mol\n",
    "        sumMyri[ind,:,:]=1e-3*np.sum(tmaskC[0,:,:,:]*Vol[0,:,:,:]*f.variables['ciliates'][0,:,:,:],0) #mmol/m3*m3*10^-3=mol\n",
    "        sumMiZo[ind,:,:]=1e-3*np.sum(tmaskC[0,:,:,:]*Vol[0,:,:,:]*f.variables['microzooplankton'][0,:,:,:],0) #mmol/m3*m3*10^-3=mol\n",
    "        f.close()\n",
    "        fP.close()\n",
    "    NGlobalTot[idir]=np.sum(np.sum(sumNO3+sumNH4+sumPON+sumDON+sumDiat+sumMyri+sumNano+sumMiZo,2),1)\n",
    "    VolTot[idir]=np.sum(np.sum(sumVol,2),1)\n",
    "    NO3Tot[idir]=np.sum(np.sum(sumNO3,2),1)\n",
    "    NH4Tot[idir]=np.sum(np.sum(sumNH4,2),1)\n",
    "    PONTot[idir]=np.sum(np.sum(sumPON,2),1)\n",
    "    DONTot[idir]=np.sum(np.sum(sumDON,2),1)\n",
    "    DiatTot[idir]=np.sum(np.sum(sumDiat,2),1)\n",
    "    MyriTot[idir]=np.sum(np.sum(sumMyri,2),1)\n",
    "    NanoTot[idir]=np.sum(np.sum(sumNano,2),1)\n",
    "    MiZoTot[idir]=np.sum(np.sum(sumMiZo,2),1)\n",
    "    changeNGlobalTot[idir]=[NGlobalTot[idir][ii+1]-NGlobalTot[idir][ii] for ii in range(0,len(tlist)-1)]"
   ]
  },
  {
   "cell_type": "code",
   "execution_count": 11,
   "metadata": {
    "collapsed": false
   },
   "outputs": [
    {
     "data": {
      "text/plain": [
       "<matplotlib.text.Text at 0x7f1839617d30>"
      ]
     },
     "execution_count": 11,
     "metadata": {},
     "output_type": "execute_result"
    },
    {
     "data": {
      "image/png": "[encoded data removed]",
      "text/plain": [
       "<matplotlib.figure.Figure at 0x7f1839670128>"
      ]
     },
     "metadata": {},
     "output_type": "display_data"
    }
   ],
   "source": [
    "#plt.plot(SiGlobalTot[sdir0]-SiGlobalTot[sdir0][0],'r-')\n",
    "#plt.plot(SiGlobalTot[sdir3]-SiGlobalTot[sdir3][0],'g-')\n",
    "#plt.plot(40,test-SiGlobalTot[sdir1][0],'r*')\n",
    "#plt.plot(40,test2-SiGlobalTot[sdir1][0],'k*')\n",
    "fig,ax=plt.subplots(1,1,figsize=(6,5))\n",
    "ax.plot(NGlobalTot[sdir1]-NGlobalTot[sdir1][0],'r-')\n",
    "ax.set_xlabel('10-day intervals since Jan 1 2015')\n",
    "ax.set_ylabel('Difference in Total N')"
   ]
  },
  {
   "cell_type": "code",
   "execution_count": 12,
   "metadata": {
    "collapsed": false
   },
   "outputs": [
    {
     "data": {
      "text/plain": [
       "[<matplotlib.lines.Line2D at 0x7f1822cd2748>]"
      ]
     },
     "execution_count": 12,
     "metadata": {},
     "output_type": "execute_result"
    },
    {
     "data": {
      "image/png": "[encoded data removed]",
      "text/plain": [
       "<matplotlib.figure.Figure at 0x7f1822cd26a0>"
      ]
     },
     "metadata": {},
     "output_type": "display_data"
    }
   ],
   "source": [
    "plt.plot(SiGlobalTot[sdir1]-SiGlobalTot[sdir1][0],'b-')\n",
    "plt.plot(NGlobalTot[sdir1]-NGlobalTot[sdir1][0],'r-')"
   ]
  },
  {
   "cell_type": "code",
   "execution_count": 13,
   "metadata": {
    "collapsed": true
   },
   "outputs": [],
   "source": [
    "import pickle\n",
    "pickle.dump(SiGlobalTot[sdir1],open('SiGlobalTot_'+tit+'.pkl','wb'))\n",
    "pickle.dump(NGlobalTot[sdir1],open('NGlobalTot_'+tit+'.pkl','wb'))"
   ]
  },
  {
   "cell_type": "code",
   "execution_count": 14,
   "metadata": {
    "collapsed": false
   },
   "outputs": [
    {
     "data": {
      "text/plain": [
       "'spring15spun_Ztest'"
      ]
     },
     "execution_count": 14,
     "metadata": {},
     "output_type": "execute_result"
    }
   ],
   "source": [
    "tit"
   ]
  },
  {
   "cell_type": "code",
   "execution_count": null,
   "metadata": {
    "collapsed": true
   },
   "outputs": [],
   "source": []
  }
 ],
 "metadata": {
  "anaconda-cloud": {},
  "kernelspec": {
   "display_name": "Python [conda env:python36]",
   "language": "python",
   "name": "conda-env-python36-py"
  },
  "language_info": {
   "codemirror_mode": {
    "name": "ipython",
    "version": 3
   },
   "file_extension": ".py",
   "mimetype": "text/x-python",
   "name": "python",
   "nbconvert_exporter": "python",
   "pygments_lexer": "ipython3",
   "version": "3.6.3"
  }
 },
 "nbformat": 4,
 "nbformat_minor": 1
}
