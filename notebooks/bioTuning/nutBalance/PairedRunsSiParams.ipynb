{
 "cells": [
  {
   "cell_type": "code",
   "execution_count": 1,
   "metadata": {
    "collapsed": true
   },
   "outputs": [],
   "source": [
    "import numpy as np\n",
    "import matplotlib.pyplot as plt\n",
    "import os\n",
    "import pandas as pd\n",
    "import netCDF4 as nc\n",
    "import datetime as dt\n",
    "from salishsea_tools import evaltools as et, viz_tools\n",
    "import gsw\n",
    "import matplotlib.gridspec as gridspec\n",
    "import matplotlib as mpl\n",
    "import matplotlib.dates as mdates\n",
    "import cmocean as cmo\n",
    "import scipy.interpolate as sinterp\n",
    "import pickle\n",
    "import cmocean\n",
    "\n",
    "mpl.rc('xtick', labelsize=12)\n",
    "mpl.rc('ytick', labelsize=12)\n",
    "mpl.rc('legend', fontsize=12)\n",
    "mpl.rc('axes', titlesize=12)\n",
    "mpl.rc('axes', labelsize=12)\n",
    "mpl.rc('figure', titlesize=12)\n",
    "mpl.rc('font', size=12)\n",
    "mpl.rc('text', usetex=True)\n",
    "mpl.rc('text.latex', preamble = ','.join(r'''\n",
    " \\usepackage{txfonts}\n",
    " \\usepackage{lmodern}\n",
    " '''.split()))\n",
    "mpl.rc('font', family='sans-serif', weight='normal', style='normal')\n",
    "\n",
    "%matplotlib inline"
   ]
  },
  {
   "cell_type": "markdown",
   "metadata": {},
   "source": [
    "### runs NewLOGnSiT and NewLOGnSiTB: strong T dependence of Remin, new LO BCs\n",
    "- zz_remin_D_bSi increased by factor of 1.2 in NewLOGnSiTB"
   ]
  },
  {
   "cell_type": "code",
   "execution_count": null,
   "metadata": {
    "collapsed": true
   },
   "outputs": [],
   "source": [
    "PATHa= '/data/eolson/MEOPAR/SS36runs/CedarRuns/NewLOGnSiTB/'\n",
    "start_date = datetime.datetime(2017,1,1)\n",
    "end_date = datetime.datetime(2017,10,27)\n",
    "flen=10\n",
    "namfmt='long'\n",
    "filemap={'nitrate':'ptrc_T','silicon':'ptrc_T','ammonium':'ptrc_T','diatoms':'ptrc_T','ciliates':'ptrc_T',\n",
    "         'flagellates':'ptrc_T'}\n",
    "fdict={'ptrc_T':1,'grid_T':1}\n",
    "df1=et.loadDFO()\n",
    "df1.head()"
   ]
  }
 ],
 "metadata": {
  "anaconda-cloud": {},
  "kernelspec": {
   "display_name": "Python [conda env:python36]",
   "language": "python",
   "name": "conda-env-python36-py"
  },
  "language_info": {
   "codemirror_mode": {
    "name": "ipython",
    "version": 3
   },
   "file_extension": ".py",
   "mimetype": "text/x-python",
   "name": "python",
   "nbconvert_exporter": "python",
   "pygments_lexer": "ipython3",
   "version": "3.6.3"
  }
 },
 "nbformat": 4,
 "nbformat_minor": 1
}
