{
 "cells": [
  {
   "cell_type": "code",
   "execution_count": 1,
   "metadata": {},
   "outputs": [],
   "source": [
    "import numpy as np\n",
    "from matplotlib import pyplot as plt\n",
    "\n",
    "%matplotlib inline"
   ]
  },
  {
   "cell_type": "code",
   "execution_count": 2,
   "metadata": {},
   "outputs": [],
   "source": [
    "#w=np.array([-.1,-.1,-.1,-.1,-.1, 0])\n",
    "#w=np.array([-1,-1,-1,-1,-1, 0])\n",
    "#c=np.array([  1,  1,  1,.01,100, 1e10])*1e-6\n",
    "e1e2t=214298.32535430687\n",
    "e3t=np.array([25.70331479, 26.28684983, 26.59728865, 26.75965336, \n",
    "              26.84381704, 26.88724213, 26.90959407, 26.92108493,\n",
    "              26.9269885,  26.93002054, 26.93157752, 26.93237697,])\n",
    "c=np.array([0.31565186, 0.30992895, 0.3301549,  0.423929,\n",
    "            0.54217166, 0.54365426, 0.41666764, 0.5127122,\n",
    "            0.5862078 , 0.02054412, 7.757981,   0.])\n",
    "w=-1*np.ones(np.shape(c))*2.8e-4\n",
    "w[-1]=0\n",
    "tmask=np.ones(np.shape(c))\n",
    "tmask[-1]=0"
   ]
  },
  {
   "cell_type": "code",
   "execution_count": 3,
   "metadata": {},
   "outputs": [
    {
     "data": {
      "text/plain": [
       "array([ 0.00000000e+00, -8.83825208e-05, -8.67801060e-05, -9.24433720e-05,\n",
       "       -1.18700120e-04, -1.51808065e-04, -1.52223193e-04, -1.16666939e-04,\n",
       "       -1.43559416e-04, -1.64138184e-04, -5.75235360e-06,  0.00000000e+00])"
      ]
     },
     "execution_count": 3,
     "metadata": {},
     "output_type": "execute_result"
    }
   ],
   "source": [
    "#1. bottom value zero\n",
    "zwz=np.zeros(np.shape(c))\n",
    "#2. upstream advection\n",
    "zwz[1:]=w[1:]*c[:-1]\n",
    "zwz"
   ]
  },
  {
   "cell_type": "code",
   "execution_count": 4,
   "metadata": {},
   "outputs": [],
   "source": [
    "dt=40*2\n"
   ]
  },
  {
   "cell_type": "code",
   "execution_count": 5,
   "metadata": {},
   "outputs": [
    {
     "data": {
      "text/plain": [
       "array([0.31565186, 0.30992895, 0.3301549 , 0.423929  , 0.54217166,\n",
       "       0.54365426, 0.41666764, 0.5127122 , 0.5862078 , 0.02054412,\n",
       "       7.757981  , 0.        ])"
      ]
     },
     "execution_count": 5,
     "metadata": {},
     "output_type": "execute_result"
    }
   ],
   "source": [
    "ztra=np.zeros(np.shape(c))\n",
    "ztra[:-1]=-1*(zwz[:-1]-zwz[1:])/e1e2t\n",
    "delc_upwind=ztra.copy() # ** added to tra at this step\n",
    "zwi=(e3t*c+dt*ztra)/e3t*tmask # set fse3t's to 1\n",
    "zwi # upwind increases low point from .01 to .0298 in one time step"
   ]
  },
  {
   "cell_type": "code",
   "execution_count": 6,
   "metadata": {},
   "outputs": [],
   "source": [
    "# 3. antidiffusive flux\n",
    "zwz_sav=zwz.copy()"
   ]
  },
  {
   "cell_type": "code",
   "execution_count": 7,
   "metadata": {},
   "outputs": [],
   "source": [
    "jnzts=20 # same as SSC"
   ]
  },
  {
   "cell_type": "code",
   "execution_count": 8,
   "metadata": {},
   "outputs": [],
   "source": [
    "cb=c.copy()"
   ]
  },
  {
   "cell_type": "code",
   "execution_count": 9,
   "metadata": {},
   "outputs": [],
   "source": [
    "ca=np.zeros(np.shape(c))\n",
    "zwzts=np.zeros(np.shape(c))"
   ]
  },
  {
   "cell_type": "code",
   "execution_count": 10,
   "metadata": {},
   "outputs": [
    {
     "name": "stdout",
     "output_type": "stream",
     "text": [
      "1\n"
     ]
    }
   ],
   "source": [
    "for jl in range(0,jnzts):\n",
    "    if jl==0:\n",
    "        jtaken=np.mod(jnzts+1,2)\n",
    "        print(jtaken)\n",
    "        zts=dt/jnzts # z_rzts=1/jnzts\n",
    "        cn=c.copy() # this makes first step euler\n",
    "    elif jl==1:\n",
    "        zts=2*dt/jnzts\n",
    "    zwz[1:]=.5*w[1:]*(cn[1:]+cn[:-1])\n",
    "    if jtaken==0:\n",
    "        zwzts[1:]=zwzts[1:]+zwz[1:]*zts\n",
    "    jtaken=np.mod(jtaken+1,2) # switch on/off\n",
    "    \n",
    "    zbtr=1/(e1e2t*e3t)\n",
    "    ztra[1:-1]=-1*zbtr[1:-1]*(zwz[1:-1]-zwz[2:])\n",
    "    ca[1:-1]=cb[1:-1]+zts*ztra[1:-1] # step forward\n",
    "    # swap for next step:\n",
    "    cb=cn.copy()\n",
    "    cn=ca.copy()\n",
    "    ca=np.zeros(np.shape(c))"
   ]
  },
  {
   "cell_type": "code",
   "execution_count": 11,
   "metadata": {},
   "outputs": [
    {
     "data": {
      "text/plain": [
       "array([0.        , 0.30992895, 0.3301549 , 0.423929  , 0.54217166,\n",
       "       0.54365426, 0.41666764, 0.5127122 , 0.5862078 , 0.02054411,\n",
       "       7.75798102, 0.        ])"
      ]
     },
     "execution_count": 11,
     "metadata": {},
     "output_type": "execute_result"
    }
   ],
   "source": [
    "cn"
   ]
  },
  {
   "cell_type": "code",
   "execution_count": 12,
   "metadata": {},
   "outputs": [
    {
     "data": {
      "text/plain": [
       "array([ 0.        , -0.0034712 , -0.00716894, -0.00844574, -0.01082033,\n",
       "       -0.01216125, -0.01075561, -0.01040905, -0.0123079 , -0.00679562,\n",
       "       -0.08711948,  0.        ])"
      ]
     },
     "execution_count": 12,
     "metadata": {},
     "output_type": "execute_result"
    }
   ],
   "source": [
    "zwzts"
   ]
  },
  {
   "cell_type": "code",
   "execution_count": 13,
   "metadata": {},
   "outputs": [],
   "source": [
    "# anti-diffusive vertical flux using average flux from sub-timestepping\n",
    "zwz=zwzts/dt-zwz_sav"
   ]
  },
  {
   "cell_type": "code",
   "execution_count": 14,
   "metadata": {},
   "outputs": [
    {
     "data": {
      "text/plain": [
       "array([ 0.00000000e+00,  4.49924678e-05, -2.83163294e-06, -1.31283740e-05,\n",
       "       -1.65539724e-05, -2.07564001e-07,  1.77781268e-05, -1.34462384e-05,\n",
       "       -1.02893840e-05,  7.91929161e-05, -1.08324116e-03,  0.00000000e+00])"
      ]
     },
     "execution_count": 14,
     "metadata": {},
     "output_type": "execute_result"
    }
   ],
   "source": [
    "zwz"
   ]
  },
  {
   "cell_type": "code",
   "execution_count": 15,
   "metadata": {},
   "outputs": [],
   "source": [
    "zbig=1e40\n",
    "zrtrn=1e-15"
   ]
  },
  {
   "cell_type": "code",
   "execution_count": 16,
   "metadata": {},
   "outputs": [
    {
     "data": {
      "text/plain": [
       "array([ 3.15651860e-01,  3.09928950e-01,  3.30154900e-01,  4.23929000e-01,\n",
       "        5.42171660e-01,  5.43654260e-01,  4.16667640e-01,  5.12712200e-01,\n",
       "        5.86207800e-01,  2.05441222e-02,  7.75798100e+00, -1.00000000e+40])"
      ]
     },
     "execution_count": 16,
     "metadata": {},
     "output_type": "execute_result"
    }
   ],
   "source": [
    "# 4. nonosc(pbef=ptb,zwx,zwy,pcc=zwz,paft=zwi,p2dt)\n",
    "# zwi is after value based on upwind\n",
    "pbef=c.copy()\n",
    "paft=zwi.copy()\n",
    "# search local extrema\n",
    "zbup=np.maximum(pbef*tmask-zbig*(1-tmask),paft*tmask-zbig*(1-tmask))\n",
    "zbup"
   ]
  },
  {
   "cell_type": "code",
   "execution_count": 17,
   "metadata": {},
   "outputs": [
    {
     "data": {
      "text/plain": [
       "array([3.15651859e-01, 3.09928950e-01, 3.30154900e-01, 4.23929000e-01,\n",
       "       5.42171660e-01, 5.43654260e-01, 4.16667640e-01, 5.12712200e-01,\n",
       "       5.86207800e-01, 2.05441200e-02, 7.75798100e+00, 1.00000000e+40])"
      ]
     },
     "execution_count": 17,
     "metadata": {},
     "output_type": "execute_result"
    }
   ],
   "source": [
    "zbdo=np.minimum(pbef*tmask+zbig*(1-tmask),paft*tmask+zbig*(1-tmask))\n",
    "zbdo"
   ]
  },
  {
   "cell_type": "code",
   "execution_count": 18,
   "metadata": {},
   "outputs": [
    {
     "data": {
      "text/plain": [
       "array([0.31565186, 0.3301549 , 0.423929  , 0.54217166, 0.54365426,\n",
       "       0.54365426, 0.54365426, 0.5862078 , 0.5862078 , 7.757981  ,\n",
       "       7.757981  , 0.        ])"
      ]
     },
     "execution_count": 18,
     "metadata": {},
     "output_type": "execute_result"
    }
   ],
   "source": [
    "zup=np.zeros(np.shape(c))\n",
    "zdo=zup.copy()\n",
    "zup[0]=np.maximum(zbup[0],zbup[1])\n",
    "zup[1:-1]=np.maximum(np.maximum(zbup[:-2],zbup[1:-1]),zbup[2:])\n",
    "#zup[-1]=np.maximum(zbup[-2],zbup[-1]) this is never calculated\n",
    "zup"
   ]
  },
  {
   "cell_type": "code",
   "execution_count": 19,
   "metadata": {},
   "outputs": [
    {
     "data": {
      "text/plain": [
       "array([0.30992895, 0.30992895, 0.30992895, 0.3301549 , 0.423929  ,\n",
       "       0.41666764, 0.41666764, 0.41666764, 0.02054412, 0.02054412,\n",
       "       0.02054412, 0.        ])"
      ]
     },
     "execution_count": 19,
     "metadata": {},
     "output_type": "execute_result"
    }
   ],
   "source": [
    "zdo[0]=np.minimum(zbdo[0],zbdo[1])\n",
    "zdo[1:-1]=np.minimum(np.minimum(zbdo[:-2],zbdo[1:-1]),zbdo[2:])\n",
    "#zdo[-1]=np.minimum(zbdo[-2],zbdo[-1])\n",
    "zdo"
   ]
  },
  {
   "cell_type": "code",
   "execution_count": 20,
   "metadata": {},
   "outputs": [
    {
     "data": {
      "text/plain": [
       "(12, 0)"
      ]
     },
     "execution_count": 20,
     "metadata": {},
     "output_type": "execute_result"
    },
    {
     "data": {
      "image/png": "[encoded data removed]",
      "text/plain": [
       "<Figure size 864x432 with 2 Axes>"
      ]
     },
     "metadata": {
      "needs_background": "light"
     },
     "output_type": "display_data"
    }
   ],
   "source": [
    "fig,ax=plt.subplots(1,2,figsize=(12,6))\n",
    "ax[0].plot(zup,np.arange(0,len(zbup)),'k*')\n",
    "ax[0].set_title('zup')\n",
    "ax[0].set_ylim(12,0)\n",
    "ax[1].plot(zdo,np.arange(0,len(zdo)),'k*')\n",
    "ax[1].set_title('zdo')\n",
    "ax[1].set_ylim(12,0)"
   ]
  },
  {
   "cell_type": "code",
   "execution_count": 21,
   "metadata": {},
   "outputs": [],
   "source": [
    "zeros=np.zeros(np.shape(c))\n",
    "pcc=zwz.copy()\n",
    "zpos=np.zeros(np.shape(c))\n",
    "zneg=zpos.copy()\n",
    "zpos[:-1]=np.maximum(zeros[1:],pcc[1:])-np.minimum(zeros[:-1],pcc[:-1])\n",
    "zneg[:-1]=np.maximum(zeros[:-1],pcc[:-1])-np.minimum(zeros[1:],pcc[1:])\n"
   ]
  },
  {
   "cell_type": "code",
   "execution_count": 22,
   "metadata": {},
   "outputs": [
    {
     "data": {
      "text/plain": [
       "array([4.49924678e-05, 0.00000000e+00, 2.83163294e-06, 1.31283740e-05,\n",
       "       1.65539724e-05, 1.79856908e-05, 0.00000000e+00, 1.34462384e-05,\n",
       "       8.94823002e-05, 0.00000000e+00, 1.08324116e-03, 0.00000000e+00])"
      ]
     },
     "execution_count": 22,
     "metadata": {},
     "output_type": "execute_result"
    }
   ],
   "source": [
    "zpos"
   ]
  },
  {
   "cell_type": "code",
   "execution_count": 23,
   "metadata": {},
   "outputs": [
    {
     "data": {
      "text/plain": [
       "array([0.00000000e+00, 4.78241008e-05, 1.31283740e-05, 1.65539724e-05,\n",
       "       2.07564001e-07, 0.00000000e+00, 3.12243652e-05, 1.02893840e-05,\n",
       "       0.00000000e+00, 1.16243408e-03, 0.00000000e+00, 0.00000000e+00])"
      ]
     },
     "execution_count": 23,
     "metadata": {},
     "output_type": "execute_result"
    }
   ],
   "source": [
    "zneg"
   ]
  },
  {
   "cell_type": "code",
   "execution_count": 24,
   "metadata": {},
   "outputs": [
    {
     "data": {
      "text/plain": [
       "(12, 0)"
      ]
     },
     "execution_count": 24,
     "metadata": {},
     "output_type": "execute_result"
    },
    {
     "data": {
      "image/png": "[encoded data removed]",
      "text/plain": [
       "<Figure size 864x432 with 2 Axes>"
      ]
     },
     "metadata": {
      "needs_background": "light"
     },
     "output_type": "display_data"
    }
   ],
   "source": [
    "fig,ax=plt.subplots(1,2,figsize=(12,6))\n",
    "ax[0].plot(zpos,np.arange(0,len(zpos)),'k*')\n",
    "ax[0].set_title('zpos')\n",
    "ax[0].set_ylim(12,0)\n",
    "ax[1].plot(zneg,np.arange(0,len(zneg)),'k*')\n",
    "ax[1].set_title('zneg')\n",
    "ax[1].set_ylim(12,0)"
   ]
  },
  {
   "cell_type": "code",
   "execution_count": 25,
   "metadata": {},
   "outputs": [],
   "source": [
    "#! up & down beta terms\n",
    "zbt = e1e2t*e3t / dt\n",
    "zbetup = ( zup - paft) / ( zpos + zrtrn ) * zbt\n",
    "zbetdo = ( paft - zdo ) / ( zneg + zrtrn ) * zbt\n"
   ]
  },
  {
   "cell_type": "code",
   "execution_count": 26,
   "metadata": {},
   "outputs": [
    {
     "data": {
      "text/plain": [
       "array([1.96438480e+00, 1.42421732e+18, 2.35945721e+09, 6.45613387e+08,\n",
       "       6.44013491e+06, 2.30808083e-02, 9.15364149e+18, 3.94168472e+08,\n",
       "       2.29975849e-01, 5.58164992e+20, 0.00000000e+00, 0.00000000e+00])"
      ]
     },
     "execution_count": 26,
     "metadata": {},
     "output_type": "execute_result"
    }
   ],
   "source": [
    "zbetup"
   ]
  },
  {
   "cell_type": "code",
   "execution_count": 27,
   "metadata": {},
   "outputs": [
    {
     "data": {
      "text/plain": [
       "array([3.94034950e+17, 3.35063722e-02, 1.09765067e+08, 4.06059758e+08,\n",
       "       4.09633264e+10, 9.14603823e+18, 1.13873419e+00, 6.73138981e+08,\n",
       "       4.08013816e+19, 1.36253602e-01, 5.58197263e+20, 0.00000000e+00])"
      ]
     },
     "execution_count": 27,
     "metadata": {},
     "output_type": "execute_result"
    }
   ],
   "source": [
    "zbetdo"
   ]
  },
  {
   "cell_type": "code",
   "execution_count": 28,
   "metadata": {},
   "outputs": [
    {
     "data": {
      "text/plain": [
       "(12, 0)"
      ]
     },
     "execution_count": 28,
     "metadata": {},
     "output_type": "execute_result"
    },
    {
     "data": {
      "image/png": "[encoded data removed]",
      "text/plain": [
       "<Figure size 864x432 with 2 Axes>"
      ]
     },
     "metadata": {
      "needs_background": "light"
     },
     "output_type": "display_data"
    }
   ],
   "source": [
    "fig,ax=plt.subplots(1,2,figsize=(12,6))\n",
    "ax[0].plot(zbetup,np.arange(0,len(zbetup)),'k*')\n",
    "ax[0].set_title('zbetup')\n",
    "ax[0].set_ylim(12,0)\n",
    "ax[1].plot(zbetdo,np.arange(0,len(zbetdo)),'k*')\n",
    "ax[1].set_title('zbetdo')\n",
    "ax[1].set_ylim(12,0)"
   ]
  },
  {
   "cell_type": "code",
   "execution_count": 29,
   "metadata": {},
   "outputs": [],
   "source": [
    "#! monotonic flux in the k direction, i.e. pcc\n",
    "ones=np.ones(np.shape(c))\n",
    "za=zeros.copy()\n",
    "zb=zeros.copy()\n",
    "zc=zeros.copy()\n",
    "za[:-1] = np.minimum(np.minimum( ones[1:], zbetdo[1:]), zbetup[:-1] )\n",
    "zb[:-1] = np.minimum(np.minimum( ones[1:], zbetup[1:]), zbetdo[:-1] )\n",
    "zc[:-1]=np.where(pcc[1:]<0,0,1)\n",
    "#zc[:-1]=.5+np.abs(pcc[1:])/pcc[1:]*.5\n",
    "#zc =       ( 0.5  + SIGN( 0.5 , pcc(ji,jj,jk+1) ) )\n",
    "# SIGN(A,B) returns value of A with sign of B\n",
    "pcc[1:]=pcc[1:]*(zc[:-1]*za[:-1]+(1-zc[:-1])*zb[:-1])\n",
    "#pcc(ji,jj,jk+1) = pcc(ji,jj,jk+1) * ( zc * za + ( 1._wp - zc) * zb )"
   ]
  },
  {
   "cell_type": "code",
   "execution_count": 30,
   "metadata": {},
   "outputs": [
    {
     "data": {
      "text/plain": [
       "array([ 0.00000000e+00,  1.50753437e-06, -9.48777474e-08, -1.31283740e-05,\n",
       "       -1.65539724e-05, -4.79074491e-09,  4.10333536e-07, -1.34462384e-05,\n",
       "       -2.36630983e-06,  1.07903201e-05, -0.00000000e+00,  0.00000000e+00])"
      ]
     },
     "execution_count": 30,
     "metadata": {},
     "output_type": "execute_result"
    }
   ],
   "source": [
    "pcc"
   ]
  },
  {
   "cell_type": "code",
   "execution_count": 31,
   "metadata": {},
   "outputs": [
    {
     "data": {
      "text/plain": [
       "array([ 0.00000000e+00,  4.49924678e-05, -2.83163294e-06, -1.31283740e-05,\n",
       "       -1.65539724e-05, -2.07564001e-07,  1.77781268e-05, -1.34462384e-05,\n",
       "       -1.02893840e-05,  7.91929161e-05, -1.08324116e-03,  0.00000000e+00])"
      ]
     },
     "execution_count": 31,
     "metadata": {},
     "output_type": "execute_result"
    }
   ],
   "source": [
    "# before nonosc, zwz contains difference between centered substepped leapfrog and upwind:\n",
    "zwz"
   ]
  },
  {
   "cell_type": "code",
   "execution_count": 32,
   "metadata": {},
   "outputs": [],
   "source": [
    "# after nonosc, zwz (pcc) is adjusted so that only one element changes from upwind "
   ]
  },
  {
   "cell_type": "code",
   "execution_count": 33,
   "metadata": {},
   "outputs": [],
   "source": [
    "# 5. final trend with corrected fluxes\n",
    "ztra=0*ztra\n",
    "ztra2=ztra.copy()\n",
    "ztra[:-1]=-1*zbtr[:-1]*(pcc[:-1]-pcc[1:])\n",
    "ztra2[:-1]=-1*zbtr[:-1]*(zwz[:-1]-zwz[1:])"
   ]
  },
  {
   "cell_type": "code",
   "execution_count": 34,
   "metadata": {},
   "outputs": [
    {
     "data": {
      "text/plain": [
       "array([ 2.73690241e-13, -2.84457180e-13, -2.28667680e-12, -5.97361442e-13,\n",
       "        2.87682520e-12,  7.20465354e-14, -2.40286779e-12,  1.92055003e-12,\n",
       "        2.28001706e-12, -1.86972987e-12,  0.00000000e+00,  0.00000000e+00])"
      ]
     },
     "execution_count": 34,
     "metadata": {},
     "output_type": "execute_result"
    }
   ],
   "source": [
    "# total change is ztra+delc, ztra is after nonosc adjustment\n",
    "ztra"
   ]
  },
  {
   "cell_type": "code",
   "execution_count": 35,
   "metadata": {},
   "outputs": [
    {
     "data": {
      "text/plain": [
       "array([ 8.16830419e-12, -8.48964424e-12, -1.80652363e-12, -5.97361442e-13,\n",
       "        2.84157613e-12,  3.12149100e-12, -5.41461639e-12,  5.47196370e-13,\n",
       "        1.55070996e-11, -2.01424768e-10,  1.87691491e-10,  0.00000000e+00])"
      ]
     },
     "execution_count": 35,
     "metadata": {},
     "output_type": "execute_result"
    }
   ],
   "source": [
    "ztra2 # this is before nonosc version"
   ]
  },
  {
   "cell_type": "code",
   "execution_count": 36,
   "metadata": {},
   "outputs": [
    {
     "data": {
      "text/plain": [
       "array([-4.12427492e-10,  7.47749567e-12, -2.64270194e-11, -1.22524280e-10,\n",
       "       -1.54494650e-10, -1.93715000e-12,  1.65919419e-10, -1.25490840e-10,\n",
       "       -9.60285992e-11,  7.39090379e-10,  2.68427371e-11,  0.00000000e+00])"
      ]
     },
     "execution_count": 36,
     "metadata": {},
     "output_type": "execute_result"
    }
   ],
   "source": [
    "delc_upwind"
   ]
  },
  {
   "cell_type": "code",
   "execution_count": 37,
   "metadata": {},
   "outputs": [
    {
     "data": {
      "text/plain": [
       "array([-4.12153801e-10,  7.19303849e-12, -2.87136962e-11, -1.23121641e-10,\n",
       "       -1.51617825e-10, -1.86510346e-12,  1.63516551e-10, -1.23570290e-10,\n",
       "       -9.37485822e-11,  7.37220649e-10,  2.68427371e-11,  0.00000000e+00])"
      ]
     },
     "execution_count": 37,
     "metadata": {},
     "output_type": "execute_result"
    }
   ],
   "source": [
    "delc_upwind+ztra"
   ]
  },
  {
   "cell_type": "code",
   "execution_count": 38,
   "metadata": {},
   "outputs": [
    {
     "data": {
      "text/plain": [
       "array([-4.04259188e-10, -1.01214857e-12, -2.82335430e-11, -1.23121641e-10,\n",
       "       -1.51653074e-10,  1.18434100e-12,  1.60504802e-10, -1.24943643e-10,\n",
       "       -8.05214996e-11,  5.37665611e-10,  2.14534228e-10,  0.00000000e+00])"
      ]
     },
     "execution_count": 38,
     "metadata": {},
     "output_type": "execute_result"
    }
   ],
   "source": [
    "delc_upwind+ztra2"
   ]
  },
  {
   "cell_type": "code",
   "execution_count": 39,
   "metadata": {},
   "outputs": [
    {
     "data": {
      "text/plain": [
       "array([0.31565186, 0.30992895, 0.3301549 , 0.423929  , 0.54217166,\n",
       "       0.54365426, 0.41666764, 0.5127122 , 0.5862078 , 0.02054412,\n",
       "       7.757981  , 0.        ])"
      ]
     },
     "execution_count": 39,
     "metadata": {},
     "output_type": "execute_result"
    }
   ],
   "source": [
    "c"
   ]
  },
  {
   "cell_type": "code",
   "execution_count": null,
   "metadata": {},
   "outputs": [],
   "source": []
  }
 ],
 "metadata": {
  "kernelspec": {
   "display_name": "Python 3",
   "language": "python",
   "name": "python3"
  },
  "language_info": {
   "codemirror_mode": {
    "name": "ipython",
    "version": 3
   },
   "file_extension": ".py",
   "mimetype": "text/x-python",
   "name": "python",
   "nbconvert_exporter": "python",
   "pygments_lexer": "ipython3",
   "version": "3.7.4"
  }
 },
 "nbformat": 4,
 "nbformat_minor": 4
}
