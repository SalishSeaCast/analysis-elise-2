{
 "cells": [
  {
   "cell_type": "code",
   "execution_count": 1,
   "metadata": {
    "collapsed": true
   },
   "outputs": [],
   "source": [
    "import netCDF4 as nc\n",
    "import datetime as dt\n",
    "import subprocess\n",
    "import requests\n",
    "import matplotlib.pyplot as plt\n",
    "import cmocean\n",
    "import numpy as np\n",
    "import os\n",
    "import glob\n",
    "import dateutil as dutil\n",
    "from salishsea_tools import viz_tools\n",
    "import pickle\n",
    "%matplotlib inline"
   ]
  },
  {
   "cell_type": "code",
   "execution_count": 2,
   "metadata": {
    "collapsed": true
   },
   "outputs": [],
   "source": [
    "recalc=False #True #False"
   ]
  },
  {
   "cell_type": "code",
   "execution_count": 3,
   "metadata": {
    "collapsed": true
   },
   "outputs": [],
   "source": [
    "t0=dt.datetime(2013,9,1) # date when bottom Si flux turned on\n",
    "if recalc:\n",
    "    with nc.Dataset('/ocean/eolson/MEOPAR/NEMO-forcing/grid/mesh_mask201702_noLPE.nc') as fm:\n",
    "        tmask=np.copy(fm.variables['tmask'])\n",
    "        umask=np.copy(fm.variables['umask'])\n",
    "        vmask=np.copy(fm.variables['vmask'])\n",
    "        navlon=np.copy(fm.variables['nav_lon'])\n",
    "        navlat=np.copy(fm.variables['nav_lat'])\n",
    "        e3t_0=np.copy(fm.variables['e3t_0'])\n",
    "        e3u_0=np.copy(fm.variables['e3u_0'])\n",
    "        e3v_0=np.copy(fm.variables['e3v_0'])\n",
    "        e1t=np.copy(fm.variables['e1t'])\n",
    "        e2t=np.copy(fm.variables['e2t'])\n",
    "        e1v=np.copy(fm.variables['e1v'])\n",
    "        e2u=np.copy(fm.variables['e2u'])\n",
    "        A=fm.variables['e1t'][0,:,:]*fm.variables['e2t'][0,:,:]*tmask[0,0,:,:]\n",
    "\n",
    "    #te=dt.datetime(2016,12,1)# last start date of runfnum=18\n",
    "    stm=np.shape(tmask)\n",
    "    SiN=1.2\n",
    "    #nlen=36*2\n",
    "    nlen=58#100\n",
    "    dlist=[t0+dt.timedelta(days=ii*10) for ii in range(0,nlen)]\n",
    "\n",
    "    #sdir0='/results/SalishSea/nowcast-green/'\n",
    "    sdir1='/data/eolson/results/MEOPAR/SS36runs/linkHC201912spinYr2Plus/'\n",
    "    #sdir3='/data/eolson/MEOPAR/SS36runs/CedarRuns/spring2015_HCMZ/'\n",
    "\n",
    "    tmaskC=np.copy(tmask)\n",
    "    tmaskC[:,:,370:490,:12]=0\n",
    "    tmaskC[:,:,887:,30:70]=0"
   ]
  },
  {
   "cell_type": "code",
   "execution_count": 4,
   "metadata": {
    "collapsed": false
   },
   "outputs": [],
   "source": [
    "if recalc:\n",
    "    tlist=dlist\n",
    "    SiGlobalTot=dict()\n",
    "    SiTot=dict()\n",
    "    BSiTot=dict()\n",
    "    DiatTot=dict()\n",
    "    changeSiGlobalTot=dict()\n",
    "    for idir in (sdir1,):\n",
    "        fformat1='%d%b%y/'\n",
    "        if idir.startswith('/data/eolson/MEOPAR/SS36runs/CedarRuns/'):\n",
    "            fformatT='SalishSea_1d_*_ptrc_T_%Y%m%d-*.nc'\n",
    "            fformatP='SalishSea_1d_*_ptrc_T_%Y%m%d-*.nc'\n",
    "        elif idir==sdir1:\n",
    "            fformatT='SalishSea_1h_%Y%m%d_%Y%m%d_ptrc_T.nc'\n",
    "            fformatP='SalishSea_1h_%Y%m%d_%Y%m%d_carp_T.nc'\n",
    "        sumSi=np.zeros((len(tlist),stm[2],stm[3]))\n",
    "        sumBSi=np.zeros((len(tlist),stm[2],stm[3]))\n",
    "        sumDiat=np.zeros((len(tlist),stm[2],stm[3]))\n",
    "        ind=-1\n",
    "        for idt0 in tlist:\n",
    "            ind=ind+1\n",
    "            cdir=idt0.strftime(fformat1).lower()\n",
    "            iffT=idt0.strftime(fformatT)\n",
    "            iffP=idt0.strftime(fformatP)\n",
    "            if idir.startswith('/data/eolson/MEOPAR/SS36runs/CedarRuns/'):\n",
    "                sffT=idir+iffT\n",
    "                sffP=idir+iffP\n",
    "            elif idir.startswith('/results/') or idir.startswith('/results2/') or ('link' in idir):\n",
    "                sffT=idir+cdir+iffT\n",
    "                sffP=idir+cdir+iffP\n",
    "            print(sffT)\n",
    "            f=nc.Dataset(glob.glob(sffT)[0])\n",
    "            fP=nc.Dataset(glob.glob(sffP)[0])\n",
    "            #if idir==sdir0:\n",
    "            #    e3t=np.expand_dims((1+fP.variables['sossheig'][0,:,:]/np.sum(e3t_0*tmask,1)),0)*e3t_0\n",
    "            if idir==sdir1:\n",
    "                e3t=fP.variables['e3t'][:2,:,:,:]\n",
    "            Vol=A*e3t\n",
    "            sumSi[ind,:,:]=1e-3*np.sum(tmaskC[0,:,:,:]*Vol[0,:,:,:]*f.variables['silicon'][0,:,:,:],0) #mmol/m3*m3*10^-3=mol\n",
    "            sumBSi[ind,:,:]=1e-3*np.sum(tmaskC[0,:,:,:]*Vol[0,:,:,:]*f.variables['biogenic_silicon'][0,:,:,:],0) #mmol/m3*m3*10^-3=mol\n",
    "            sumDiat[ind,:,:]=SiN*1e-3*np.sum(tmaskC[0,:,:,:]*Vol[0,:,:,:]*f.variables['diatoms'][0,:,:,:],0) #mmol/m3*m3*10^-3=mol\n",
    "            f.close()\n",
    "            fP.close()\n",
    "        SiGlobalTot[idir]=np.sum(np.sum(sumSi+sumBSi+sumDiat,2),1)\n",
    "        SiTot[idir]=np.sum(np.sum(sumSi,2),1)\n",
    "        BSiTot[idir]=np.sum(np.sum(sumBSi,2),1)\n",
    "        DiatTot[idir]=np.sum(np.sum(sumDiat,2),1)\n",
    "        changeSiGlobalTot[idir]=[SiGlobalTot[idir][ii+1]-SiGlobalTot[idir][ii] for ii in range(0,len(tlist)-1)]"
   ]
  },
  {
   "cell_type": "code",
   "execution_count": 5,
   "metadata": {
    "collapsed": false
   },
   "outputs": [],
   "source": [
    "klim=20\n",
    "if recalc:\n",
    "    tlist=dlist\n",
    "    BSiTotS=dict()\n",
    "    DiatTotS=dict()\n",
    "    for idir in (sdir1,):\n",
    "        fformat1='%d%b%y/'\n",
    "        if idir.startswith('/data/eolson/MEOPAR/SS36runs/CedarRuns/'):\n",
    "            fformatT='SalishSea_1d_*_ptrc_T_%Y%m%d-*.nc'\n",
    "            fformatP='SalishSea_1d_*_ptrc_T_%Y%m%d-*.nc'\n",
    "        elif idir==sdir1:\n",
    "            fformatT='SalishSea_1h_%Y%m%d_%Y%m%d_ptrc_T.nc'\n",
    "            fformatP='SalishSea_1h_%Y%m%d_%Y%m%d_carp_T.nc'\n",
    "        sumBSiS=np.zeros((len(tlist),stm[2],stm[3]))\n",
    "        sumDiatS=np.zeros((len(tlist),stm[2],stm[3]))\n",
    "        ind=-1\n",
    "        for idt0 in tlist:\n",
    "            ind=ind+1\n",
    "            cdir=idt0.strftime(fformat1).lower()\n",
    "            iffT=idt0.strftime(fformatT)\n",
    "            iffP=idt0.strftime(fformatP)\n",
    "            if idir.startswith('/data/eolson/MEOPAR/SS36runs/CedarRuns/'):\n",
    "                sffT=idir+iffT\n",
    "                sffP=idir+iffP\n",
    "            elif idir.startswith('/results/') or idir.startswith('/results2/') or ('link' in idir):\n",
    "                sffT=idir+cdir+iffT\n",
    "                sffP=idir+cdir+iffP\n",
    "            print(sffT)\n",
    "            f=nc.Dataset(glob.glob(sffT)[0])\n",
    "            fP=nc.Dataset(glob.glob(sffP)[0])\n",
    "            #if idir==sdir0:\n",
    "            #    e3t=np.expand_dims((1+fP.variables['sossheig'][0,:,:]/np.sum(e3t_0*tmask,1)),0)*e3t_0\n",
    "            if idir==sdir1:\n",
    "                e3t=fP.variables['e3t'][:2,:,:,:]\n",
    "            Vol=A*e3t\n",
    "            sumBSiS[ind,:,:]=1e-3*np.sum(tmaskC[0,:klim,:,:]*Vol[0,:klim,:,:]*f.variables['biogenic_silicon'][0,:klim,:,:],0) #mmol/m3*m3*10^-3=mol\n",
    "            sumDiatS[ind,:,:]=SiN*1e-3*np.sum(tmaskC[0,:klim,:,:]*Vol[0,:klim,:,:]*f.variables['diatoms'][0,:klim,:,:],0) #mmol/m3*m3*10^-3=mol\n",
    "            f.close()\n",
    "            fP.close()\n",
    "        BSiTotS[idir]=np.sum(np.sum(sumBSiS,2),1)\n",
    "        DiatTotS[idir]=np.sum(np.sum(sumDiatS,2),1)"
   ]
  },
  {
   "cell_type": "code",
   "execution_count": 6,
   "metadata": {
    "collapsed": false
   },
   "outputs": [],
   "source": [
    "#test=np.sum(np.sum((sumSi[-1,:,:]+np.sum(1e-3*7*tmaskC[0,:,:,:]*Vol[0,:,:,:],0))+sumBSi[-1,:,:]+sumDiat[-1,:,:],1),0)\n",
    "#test2=np.sum(np.sum(sumSi[-1,:,:]+sumBSi[-1,:,:]+sumDiat[-1,:,:],1),0)"
   ]
  },
  {
   "cell_type": "code",
   "execution_count": 7,
   "metadata": {
    "collapsed": false
   },
   "outputs": [],
   "source": [
    "if recalc:\n",
    "    fig,ax=plt.subplots(1,1,figsize=(6,5))\n",
    "    ax.plot(SiGlobalTot[sdir1]-SiGlobalTot[sdir1][0],'b-')\n",
    "    ax.set_xlabel('10-day intervals since '+t0.strftime('%b $d $Y'))\n",
    "    ax.set_ylabel('Difference in Total Si')"
   ]
  },
  {
   "cell_type": "code",
   "execution_count": 9,
   "metadata": {
    "collapsed": false
   },
   "outputs": [],
   "source": [
    "if recalc:\n",
    "    ## plots related to sinking\n",
    "    fig,ax=plt.subplots(1,1,figsize=(18,5))\n",
    "    ax.plot(BSiTot[sdir1],'r-',label='bSi')\n",
    "    ax.plot(DiatTot[sdir1],'b-',label='diatoms')\n",
    "    ax.set_xlabel('10-day intervals since '+t0.strftime('%b $d $Y'))\n",
    "    ax.legend()"
   ]
  },
  {
   "cell_type": "code",
   "execution_count": 10,
   "metadata": {
    "collapsed": false
   },
   "outputs": [],
   "source": [
    "if recalc:\n",
    "    ## plots related to sinking\n",
    "    fig,ax=plt.subplots(1,1,figsize=(18,5))\n",
    "    ax.plot(BSiTotS[sdir1],'r-',label='bSi')\n",
    "    ax.plot(DiatTotS[sdir1],'b-',label='diatoms')\n",
    "    ax.set_xlabel('10-day intervals since '+t0.strftime('%b $d $Y'))\n",
    "    ax.legend()"
   ]
  },
  {
   "cell_type": "code",
   "execution_count": 11,
   "metadata": {
    "collapsed": false
   },
   "outputs": [],
   "source": [
    "if recalc:\n",
    "    fig,ax=plt.subplots(1,1,figsize=(18,5))\n",
    "    ax.plot((BSiTot[sdir1]-np.mean(BSiTot[sdir1]))/np.std(BSiTot[sdir1]),'r-',label='bSi all')\n",
    "    ax.plot((BSiTotS[sdir1]-np.mean(BSiTotS[sdir1]))/np.std(BSiTotS[sdir1]),'r--',label='bSi surf')\n",
    "    ax.plot((BSiTot[sdir1])/np.std(BSiTot[sdir1]),'r:',label='bSi norm')\n",
    "    ax.plot(np.tanh(.5*(BSiTot[sdir1])/np.std(BSiTot[sdir1])),'b-',label='limiter')\n",
    "    ax.plot(np.tanh(.5*(BSiTot[sdir1])/1000000000),'g-',label='limiter2')\n",
    "    ax.plot(np.tanh(.5*(BSiTotS[sdir1])/200000000),'c-',label='limiter2')\n",
    "    ax.set_xlabel('10-day intervals since '+t0.strftime('%b $d $Y'))\n",
    "    ax.legend()\n",
    "    print('std err total bsi is:',np.std(BSiTot[sdir1]))\n",
    "    print('  std err 20m bsi is:',np.std(BSiTotS[sdir1]))"
   ]
  },
  {
   "cell_type": "code",
   "execution_count": 12,
   "metadata": {
    "collapsed": true
   },
   "outputs": [],
   "source": [
    "# for bSi sinking rate, use:\n",
    "# wmin+tanh(.5*bSi_20_sum/200000000)*(wmax-wmin)\n",
    "# need to use cvol = e3t* e1t* e2t, so update code above..."
   ]
  },
  {
   "cell_type": "code",
   "execution_count": 13,
   "metadata": {
    "collapsed": true
   },
   "outputs": [],
   "source": [
    "# copy restart and add 7 to Si old and new"
   ]
  },
  {
   "cell_type": "markdown",
   "metadata": {},
   "source": [
    "## repeat for N"
   ]
  },
  {
   "cell_type": "code",
   "execution_count": 14,
   "metadata": {
    "collapsed": false
   },
   "outputs": [],
   "source": [
    "if recalc:\n",
    "    tlist=dlist\n",
    "    NGlobalTot=dict()\n",
    "    VolTot=dict()\n",
    "    NO3Tot=dict()\n",
    "    NH4Tot=dict()\n",
    "    PONTot=dict()\n",
    "    DONTot=dict()\n",
    "    DiatTot=dict()\n",
    "    MyriTot=dict()\n",
    "    NanoTot=dict()\n",
    "    MiZoTot=dict()\n",
    "    changeNGlobalTot=dict()\n",
    "    for idir in (sdir1,):\n",
    "        fformat1='%d%b%y/'\n",
    "        if idir.startswith('/data/eolson/MEOPAR/SS36runs/CedarRuns/'):\n",
    "            fformatT='SalishSea_1h_*_ptrc_T_%Y%m%d-*.nc'\n",
    "            fformatP='SalishSea_1h_*_ptrc_T_%Y%m%d-*.nc'\n",
    "        elif idir==sdir1:\n",
    "            fformatT='SalishSea_1h_%Y%m%d_%Y%m%d_ptrc_T.nc'\n",
    "            fformatP='SalishSea_1h_%Y%m%d_%Y%m%d_carp_T.nc'\n",
    "        sumNO3=np.zeros((len(tlist),stm[2],stm[3]))\n",
    "        sumVol=np.zeros((len(tlist),stm[2],stm[3]))\n",
    "        sumNH4=np.zeros((len(tlist),stm[2],stm[3]))\n",
    "        sumPON=np.zeros((len(tlist),stm[2],stm[3]))\n",
    "        sumDON=np.zeros((len(tlist),stm[2],stm[3]))\n",
    "        sumDiat=np.zeros((len(tlist),stm[2],stm[3]))\n",
    "        sumMyri=np.zeros((len(tlist),stm[2],stm[3]))\n",
    "        sumNano=np.zeros((len(tlist),stm[2],stm[3]))\n",
    "        sumMiZo=np.zeros((len(tlist),stm[2],stm[3]))\n",
    "        ind=-1\n",
    "        for idt0 in tlist:\n",
    "            ind=ind+1\n",
    "            cdir=idt0.strftime(fformat1).lower()\n",
    "            iffT=idt0.strftime(fformatT)\n",
    "            iffP=idt0.strftime(fformatP)\n",
    "            if idir.startswith('/data/eolson/MEOPAR/SS36runs/CedarRuns/'):\n",
    "                sffT=idir+iffT\n",
    "                sffP=idir+iffP\n",
    "            elif idir.startswith('/results/') or idir.startswith('/results2/') or ('link' in idir):\n",
    "                sffT=idir+cdir+iffT\n",
    "                sffP=idir+cdir+iffP\n",
    "            print(sffT)\n",
    "            f=nc.Dataset(glob.glob(sffT)[0])\n",
    "            fP=nc.Dataset(glob.glob(sffP)[0])\n",
    "            #if idir==sdir0:\n",
    "            #    e3t=np.expand_dims((1+fP.variables['sossheig'][0,:,:]/np.sum(e3t_0*tmask,1)),0)*e3t_0\n",
    "            if idir==sdir1:\n",
    "                e3t=fP.variables['e3t'][:2,:,:,:]\n",
    "            Vol=A*e3t\n",
    "            sumVol[ind,:,:]=1e-3*np.sum(tmaskC[0,:,:,:]*Vol[0,:,:,:],0) #mmol/m3*m3*10^-3=mol\n",
    "            sumNO3[ind,:,:]=1e-3*np.sum(tmaskC[0,:,:,:]*Vol[0,:,:,:]*f.variables['nitrate'][0,:,:,:],0) #mmol/m3*m3*10^-3=mol\n",
    "            sumNH4[ind,:,:]=1e-3*np.sum(tmaskC[0,:,:,:]*Vol[0,:,:,:]*f.variables['ammonium'][0,:,:,:],0) #mmol/m3*m3*10^-3=mol\n",
    "            sumPON[ind,:,:]=1e-3*np.sum(tmaskC[0,:,:,:]*Vol[0,:,:,:]*f.variables['particulate_organic_nitrogen'][0,:,:,:],0) #mmol/m3*m3*10^-3=mol\n",
    "            sumDON[ind,:,:]=1e-3*np.sum(tmaskC[0,:,:,:]*Vol[0,:,:,:]*f.variables['dissolved_organic_nitrogen'][0,:,:,:],0) #mmol/m3*m3*10^-3=mol\n",
    "            sumDiat[ind,:,:]=1e-3*np.sum(tmaskC[0,:,:,:]*Vol[0,:,:,:]*f.variables['diatoms'][0,:,:,:],0) #mmol/m3*m3*10^-3=mol\n",
    "            sumMyri[ind,:,:]=1e-3*np.sum(tmaskC[0,:,:,:]*Vol[0,:,:,:]*f.variables['ciliates'][0,:,:,:],0) #mmol/m3*m3*10^-3=mol\n",
    "            sumMiZo[ind,:,:]=1e-3*np.sum(tmaskC[0,:,:,:]*Vol[0,:,:,:]*f.variables['microzooplankton'][0,:,:,:],0) #mmol/m3*m3*10^-3=mol\n",
    "            f.close()\n",
    "            fP.close()\n",
    "        NGlobalTot[idir]=np.sum(np.sum(sumNO3+sumNH4+sumPON+sumDON+sumDiat+sumMyri+sumNano+sumMiZo,2),1)\n",
    "        VolTot[idir]=np.sum(np.sum(sumVol,2),1)\n",
    "        NO3Tot[idir]=np.sum(np.sum(sumNO3,2),1)\n",
    "        NH4Tot[idir]=np.sum(np.sum(sumNH4,2),1)\n",
    "        PONTot[idir]=np.sum(np.sum(sumPON,2),1)\n",
    "        DONTot[idir]=np.sum(np.sum(sumDON,2),1)\n",
    "        DiatTot[idir]=np.sum(np.sum(sumDiat,2),1)\n",
    "        MyriTot[idir]=np.sum(np.sum(sumMyri,2),1)\n",
    "        NanoTot[idir]=np.sum(np.sum(sumNano,2),1)\n",
    "        MiZoTot[idir]=np.sum(np.sum(sumMiZo,2),1)\n",
    "        changeNGlobalTot[idir]=[NGlobalTot[idir][ii+1]-NGlobalTot[idir][ii] for ii in range(0,len(tlist)-1)]"
   ]
  },
  {
   "cell_type": "code",
   "execution_count": 15,
   "metadata": {
    "collapsed": false
   },
   "outputs": [],
   "source": [
    "if recalc:\n",
    "    #plt.plot(SiGlobalTot[sdir0]-SiGlobalTot[sdir0][0],'r-')\n",
    "    #plt.plot(SiGlobalTot[sdir3]-SiGlobalTot[sdir3][0],'g-')\n",
    "    #plt.plot(40,test-SiGlobalTot[sdir1][0],'r*')\n",
    "    #plt.plot(40,test2-SiGlobalTot[sdir1][0],'k*')\n",
    "    fig,ax=plt.subplots(1,1,figsize=(6,5))\n",
    "    ax.plot(NGlobalTot[sdir1]-NGlobalTot[sdir1][0],'r-')\n",
    "    ax.set_xlabel('10-day intervals since '+t0.strftime('%b $d $Y'))\n",
    "    ax.set_ylabel('Difference in Total N')"
   ]
  },
  {
   "cell_type": "code",
   "execution_count": 16,
   "metadata": {
    "collapsed": false
   },
   "outputs": [],
   "source": [
    "if recalc:\n",
    "    plt.plot(SiGlobalTot[sdir1]-SiGlobalTot[sdir1][0],'b-')\n",
    "    plt.plot(NGlobalTot[sdir1]-NGlobalTot[sdir1][0],'r-')"
   ]
  },
  {
   "cell_type": "code",
   "execution_count": 17,
   "metadata": {
    "collapsed": true
   },
   "outputs": [],
   "source": [
    "if recalc:\n",
    "    pickle.dump(SiGlobalTot[sdir1],open('SiGlobalTot_HC19spin.pkl','wb'))\n",
    "    pickle.dump(NGlobalTot[sdir1],open('NGlobalTot_HC19spin.pkl','wb'))"
   ]
  },
  {
   "cell_type": "code",
   "execution_count": 18,
   "metadata": {
    "collapsed": false
   },
   "outputs": [],
   "source": [
    "SiGlobalTotHC=pickle.load(open('SiGlobalTot_HC19spin.pkl','rb'))\n",
    "NGlobalTotHC=pickle.load(open('NGlobalTot_HC19spin.pkl','rb'))"
   ]
  },
  {
   "cell_type": "code",
   "execution_count": 19,
   "metadata": {
    "collapsed": true
   },
   "outputs": [],
   "source": [
    "SiGlobalTotHC18=pickle.load(open('SiGlobalTot_HCDec.pkl','rb'))\n",
    "NGlobalTotHC18=pickle.load(open('NGlobalTot_HCDec.pkl','rb'))"
   ]
  },
  {
   "cell_type": "code",
   "execution_count": 20,
   "metadata": {
    "collapsed": false
   },
   "outputs": [],
   "source": [
    "SiGlobalTotHC1=pickle.load(open('SiGlobalTot_HC19spin1.pkl','rb'))\n",
    "NGlobalTotHC1=pickle.load(open('NGlobalTot_HC19spin1.pkl','rb'))"
   ]
  },
  {
   "cell_type": "code",
   "execution_count": 21,
   "metadata": {
    "collapsed": false
   },
   "outputs": [],
   "source": [
    "#SiGlobalTotT3=pickle.load(open('SiGlobalTotT3.pkl','rb'))\n",
    "#NGlobalTotT3=pickle.load(open('NGlobalTotT3.pkl','rb'))"
   ]
  },
  {
   "cell_type": "code",
   "execution_count": 22,
   "metadata": {
    "collapsed": true
   },
   "outputs": [],
   "source": [
    "#SiGlobalTotZ1=pickle.load(open('SiGlobalTotZ1.pkl','rb'))\n",
    "#NGlobalTotZ1=pickle.load(open('NGlobalTotZ1.pkl','rb'))"
   ]
  },
  {
   "cell_type": "code",
   "execution_count": 23,
   "metadata": {
    "collapsed": true
   },
   "outputs": [],
   "source": [
    "#tit='spring2015_Z3'\n",
    "#SiGlobalTotZ3=pickle.load(open('SiGlobalTot_'+tit+'.pkl','rb'))\n",
    "#NGlobalTotZ3=pickle.load(open('NGlobalTot_'+tit+'.pkl','rb'))"
   ]
  },
  {
   "cell_type": "code",
   "execution_count": 24,
   "metadata": {
    "collapsed": true
   },
   "outputs": [],
   "source": [
    "bdir='/data/eolson/MEOPAR/SS36runs/CedarRuns/'"
   ]
  },
  {
   "cell_type": "raw",
   "metadata": {
    "collapsed": true
   },
   "source": [
    "tit='spring15spun_Ztest'\n",
    "SiGlobalTotZtest=pickle.load(open(bdir+tit+'/SiGlobalTot_'+tit+'.pkl','rb'))\n",
    "NGlobalTotZtest=pickle.load(open(bdir+tit+'/NGlobalTot_'+tit+'.pkl','rb'))"
   ]
  },
  {
   "cell_type": "raw",
   "metadata": {
    "collapsed": true
   },
   "source": [
    "tit='spring15spun_Z4'\n",
    "SiGlobalTotZ4=pickle.load(open(bdir+tit+'/SiGlobalTot_'+tit+'.pkl','rb'))\n",
    "NGlobalTotZ4=pickle.load(open(bdir+tit+'/NGlobalTot_'+tit+'.pkl','rb'))"
   ]
  },
  {
   "cell_type": "raw",
   "metadata": {
    "collapsed": true
   },
   "source": [
    "tit='spring15spun_Z5'\n",
    "SiGlobalTotZ5=pickle.load(open(bdir+tit+'/SiGlobalTot_'+tit+'.pkl','rb'))\n",
    "NGlobalTotZ5=pickle.load(open(bdir+tit+'/NGlobalTot_'+tit+'.pkl','rb'))"
   ]
  },
  {
   "cell_type": "raw",
   "metadata": {
    "collapsed": true
   },
   "source": [
    "tit='spring16spun_Z6'\n",
    "SiGlobalTotZ6=pickle.load(open(bdir+tit+'/SiGlobalTot_'+tit+'.pkl','rb'))\n",
    "NGlobalTotZ6=pickle.load(open(bdir+tit+'/NGlobalTot_'+tit+'.pkl','rb'))"
   ]
  },
  {
   "cell_type": "raw",
   "metadata": {
    "collapsed": true
   },
   "source": [
    "tit='spring16spun_Z7'\n",
    "SiGlobalTotZ7=pickle.load(open(bdir+tit+'/SiGlobalTot_'+tit+'.pkl','rb'))\n",
    "NGlobalTotZ7=pickle.load(open(bdir+tit+'/NGlobalTot_'+tit+'.pkl','rb'))"
   ]
  },
  {
   "cell_type": "code",
   "execution_count": 25,
   "metadata": {
    "collapsed": false
   },
   "outputs": [
    {
     "data": {
      "text/plain": [
       "[<matplotlib.lines.Line2D at 0x7f47c6a71a20>]"
      ]
     },
     "execution_count": 25,
     "metadata": {},
     "output_type": "execute_result"
    },
    {
     "data": {
      "image/png": "[encoded data removed]",
      "text/plain": [
       "<matplotlib.figure.Figure at 0x7f47c6a44cc0>"
      ]
     },
     "metadata": {},
     "output_type": "display_data"
    }
   ],
   "source": [
    "fig,ax=plt.subplots(1,1,figsize=(16,8))\n",
    "plt.plot([t0+dt.timedelta(10*ii) for ii in range(0,len(SiGlobalTotHC))],SiGlobalTotHC,'y-')\n",
    "plt.plot([t0+dt.timedelta(10*ii) for ii in range(0,len(SiGlobalTotHC))],NGlobalTotHC,'m-')\n",
    "plt.plot([dt.datetime(2015,1,1)+dt.timedelta(10*ii) for ii in range(0,len(SiGlobalTotHC18))],SiGlobalTotHC18,'g--')\n",
    "plt.plot([dt.datetime(2015,1,1)+dt.timedelta(10*ii) for ii in range(0,len(SiGlobalTotHC18))],NGlobalTotHC18,'r--')\n",
    "plt.plot([dt.datetime(2013,1,1)+dt.timedelta(10*ii) for ii in range(0,len(SiGlobalTotHC1))],SiGlobalTotHC1,'c--')\n",
    "plt.plot([dt.datetime(2013,1,1)+dt.timedelta(10*ii) for ii in range(0,len(SiGlobalTotHC1))],NGlobalTotHC1,'--',color='purple')\n",
    "#plt.plot([dt.datetime(2015,1,11)+dt.timedelta(10*ii) for ii in range(0,len(SiGlobalTotZ4))],SiGlobalTotZ4,'c--')\n",
    "#plt.plot([dt.datetime(2015,1,11)+dt.timedelta(10*ii) for ii in range(0,len(SiGlobalTotZ4))],NGlobalTotZ4,'c--')\n",
    "\n",
    "#ax.plot([dt.datetime(2015,1,11)+dt.timedelta(10*ii) for ii in range(0,len(SiGlobalTotZ5))],SiGlobalTotZ5,'m:')\n",
    "#ax.plot([dt.datetime(2015,1,11)+dt.timedelta(10*ii) for ii in range(0,len(SiGlobalTotZ5))],NGlobalTotZ5,'m:')\n",
    "#ax.plot([dt.datetime(2015,1,11)+dt.timedelta(10*ii) for ii in range(0,len(SiGlobalTotZtest))],SiGlobalTotZtest,'b:')\n",
    "#ax.plot([dt.datetime(2015,1,11)+dt.timedelta(10*ii) for ii in range(0,len(SiGlobalTotZtest))],NGlobalTotZtest,'b:')\n",
    "\n",
    "#ax.plot([dt.datetime(2016,1,6)+dt.timedelta(10*ii) for ii in range(0,len(SiGlobalTotZ6))],SiGlobalTotZ6,'r:')\n",
    "#ax.plot([dt.datetime(2016,1,6)+dt.timedelta(10*ii) for ii in range(0,len(SiGlobalTotZ6))],NGlobalTotZ6,'r:')\n",
    "#ax.plot([dt.datetime(2016,1,6)+dt.timedelta(10*ii) for ii in range(0,len(SiGlobalTotZ7))],SiGlobalTotZ7,'g:')\n",
    "#ax.plot([dt.datetime(2016,1,6)+dt.timedelta(10*ii) for ii in range(0,len(SiGlobalTotZ7))],NGlobalTotZ7,'g:')"
   ]
  },
  {
   "cell_type": "code",
   "execution_count": null,
   "metadata": {
    "collapsed": true
   },
   "outputs": [],
   "source": []
  },
  {
   "cell_type": "code",
   "execution_count": null,
   "metadata": {
    "collapsed": true
   },
   "outputs": [],
   "source": []
  },
  {
   "cell_type": "code",
   "execution_count": null,
   "metadata": {
    "collapsed": true
   },
   "outputs": [],
   "source": []
  }
 ],
 "metadata": {
  "anaconda-cloud": {},
  "kernelspec": {
   "display_name": "Python [conda env:python36]",
   "language": "python",
   "name": "conda-env-python36-py"
  },
  "language_info": {
   "codemirror_mode": {
    "name": "ipython",
    "version": 3
   },
   "file_extension": ".py",
   "mimetype": "text/x-python",
   "name": "python",
   "nbconvert_exporter": "python",
   "pygments_lexer": "ipython3",
   "version": "3.6.3"
  }
 },
 "nbformat": 4,
 "nbformat_minor": 1
}
