{
 "cells": [
  {
   "cell_type": "code",
   "execution_count": 1,
   "metadata": {
    "collapsed": false
   },
   "outputs": [
    {
     "name": "stdout",
     "output_type": "stream",
     "text": [
      "NorthNut defined variables: ig0,ig1,jg0,jg1,fformat0\n",
      "NorthNut defined variables: vmask, vmask0, umask, umask0, tmask, fmask, gdept,  gdept_1d, e1t, e2t, e12t, e1f, e2f, e1v, e2u, e3t_1d\n",
      "NorthNut defined variables: boxCol, colL, colR, arrowwidth, headwidth, headlength, alen, toff, apw, apk\n"
     ]
    }
   ],
   "source": [
    "import numpy as np\n",
    "import netCDF4 as nc\n",
    "import datetime as dt\n",
    "from matplotlib import pyplot as plt\n",
    "import sys\n",
    "sys.path.insert(0, '/home/eolson/pyCode/notebooks/NorthernNitrate/paperFigs/')\n",
    "import NorthNut as nn\n",
    "%matplotlib inline"
   ]
  },
  {
   "cell_type": "markdown",
   "metadata": {},
   "source": [
    "### 1st compile N transports across sections that were output from the model"
   ]
  },
  {
   "cell_type": "code",
   "execution_count": 24,
   "metadata": {
    "collapsed": true
   },
   "outputs": [],
   "source": [
    "f1=nc.Dataset('/data/eolson/results/MEOPAR/SS36runs/linkHC201812/06dec17/SalishSea_1h_20171206_20171206_VT1_20.nc')\n",
    "f2=nc.Dataset('/data/eolson/results/MEOPAR/SS36runs/linkHC201812/06dec17/SalishSea_1h_20171206_20171206_VT2_20.nc')"
   ]
  },
  {
   "cell_type": "code",
   "execution_count": 25,
   "metadata": {
    "collapsed": false
   },
   "outputs": [
    {
     "data": {
      "text/plain": [
       "<class 'netCDF4._netCDF4.Dataset'>\n",
       "root group (NETCDF4 data model, file format HDF5):\n",
       "    name: SalishSea_1h_20171201_20171210\n",
       "    description: section 1 N transports\n",
       "    title: section 1 N transports\n",
       "    Conventions: CF-1.6\n",
       "    timeStamp: 2019-Jan-16 19:24:43 GMT\n",
       "    uuid: c93dc63a-8e73-4359-a924-9121a52e2a5f\n",
       "    dimensions(sizes): axis_nbounds(2), x(26), y(1), nvertex(4), depthv(40), time_counter(24)\n",
       "    variables(dimensions): float32 \u001b[4mnav_lat\u001b[0m(y,x), float32 \u001b[4mnav_lon\u001b[0m(y,x), float32 \u001b[4mbounds_lon\u001b[0m(y,x,nvertex), float32 \u001b[4mbounds_lat\u001b[0m(y,x,nvertex), float32 \u001b[4marea\u001b[0m(y,x), float32 \u001b[4mdepthv\u001b[0m(depthv), float32 \u001b[4mdepthv_bounds\u001b[0m(depthv,axis_nbounds), float32 \u001b[4mNO3_VT\u001b[0m(time_counter,depthv,y,x), float64 \u001b[4mtime_centered\u001b[0m(time_counter), float64 \u001b[4mtime_centered_bounds\u001b[0m(time_counter,axis_nbounds), float64 \u001b[4mtime_counter\u001b[0m(time_counter), float64 \u001b[4mtime_counter_bounds\u001b[0m(time_counter,axis_nbounds), float32 \u001b[4mVLDFNO3\u001b[0m(time_counter,depthv,y,x)\n",
       "    groups: "
      ]
     },
     "execution_count": 25,
     "metadata": {},
     "output_type": "execute_result"
    }
   ],
   "source": [
    "f1"
   ]
  },
  {
   "cell_type": "code",
   "execution_count": 26,
   "metadata": {
    "collapsed": false
   },
   "outputs": [
    {
     "data": {
      "text/plain": [
       "(24, 40, 1, 26)"
      ]
     },
     "execution_count": 26,
     "metadata": {},
     "output_type": "execute_result"
    }
   ],
   "source": [
    "np.shape(f1.variables['NO3_VT'])"
   ]
  },
  {
   "cell_type": "code",
   "execution_count": 27,
   "metadata": {
    "collapsed": false
   },
   "outputs": [
    {
     "data": {
      "text/plain": [
       "<matplotlib.colorbar.Colorbar at 0x7f9f0dfa43c8>"
      ]
     },
     "execution_count": 27,
     "metadata": {},
     "output_type": "execute_result"
    },
    {
     "data": {
      "image/png": "[encoded data removed]",
      "text/plain": [
       "<matplotlib.figure.Figure at 0x7f9f0dd9a668>"
      ]
     },
     "metadata": {},
     "output_type": "display_data"
    }
   ],
   "source": [
    "plt.pcolormesh(f1.variables['NO3_VT'][0,:,0,:])\n",
    "plt.colorbar()"
   ]
  },
  {
   "cell_type": "code",
   "execution_count": 28,
   "metadata": {
    "collapsed": false
   },
   "outputs": [
    {
     "data": {
      "text/plain": [
       "(24, 40, 1, 67)"
      ]
     },
     "execution_count": 28,
     "metadata": {},
     "output_type": "execute_result"
    }
   ],
   "source": [
    "np.shape(f2.variables['NO3_VT'])"
   ]
  },
  {
   "cell_type": "code",
   "execution_count": 29,
   "metadata": {
    "collapsed": false
   },
   "outputs": [
    {
     "data": {
      "text/plain": [
       "<matplotlib.colorbar.Colorbar at 0x7f9f0e06d5f8>"
      ]
     },
     "execution_count": 29,
     "metadata": {},
     "output_type": "execute_result"
    },
    {
     "data": {
      "image/png": "[encoded data removed]",
      "text/plain": [
       "<matplotlib.figure.Figure at 0x7f9f0deb2550>"
      ]
     },
     "metadata": {},
     "output_type": "display_data"
    }
   ],
   "source": [
    "plt.pcolormesh(f2.variables['NO3_VT'][0,:,0,:])\n",
    "plt.colorbar()"
   ]
  },
  {
   "cell_type": "code",
   "execution_count": 30,
   "metadata": {
    "collapsed": true
   },
   "outputs": [],
   "source": [
    "fmask=nc.Dataset('/ocean/eolson/MEOPAR/NEMO-forcing/grid/mesh_mask201702_noLPE.nc')\n",
    "tmask=fmask.variables['tmask'][:,:,:,:]\n",
    "e1v=fmask.variables['e1v'][:,:]\n",
    "e2v=fmask.variables['e2v'][:,:]\n",
    "e1t=fmask.variables['e1t'][:,:]\n",
    "e2t=fmask.variables['e2t'][:,:]\n",
    "vmask=fmask.variables['vmask'][:,:,:,:]\n",
    "umask=fmask.variables['umask'][:,:,:,:]\n",
    "e3t_0=fmask.variables['e3t_0'][:,:,:,:]\n",
    "e3v_0=fmask.variables['e3v_0'][:,:,:,:]\n",
    "e3u_0=fmask.variables['e3u_0'][:,:,:,:]"
   ]
  },
  {
   "cell_type": "code",
   "execution_count": 31,
   "metadata": {
    "collapsed": false
   },
   "outputs": [
    {
     "data": {
      "text/plain": [
       "(49.5, 51)"
      ]
     },
     "execution_count": 31,
     "metadata": {},
     "output_type": "execute_result"
    },
    {
     "data": {
      "image/png": "[encoded data removed]",
      "text/plain": [
       "<matplotlib.figure.Figure at 0x7f9f0d9eeba8>"
      ]
     },
     "metadata": {},
     "output_type": "display_data"
    }
   ],
   "source": [
    "fig,ax=plt.subplots(1,1,figsize=(5,5))\n",
    "ax.pcolormesh(fmask.variables['nav_lon'][:,:],fmask.variables['nav_lat'][:,:],fmask.variables['tmask'][0,0,:,:])\n",
    "ax.plot(f1.variables['nav_lon'][0,:],f1.variables['nav_lat'][0,:],'r-');\n",
    "ax.plot(f2.variables['nav_lon'][0,:],f2.variables['nav_lat'][0,:],'c-');\n",
    "ax.set_xlim((-126.5,-124))\n",
    "ax.set_ylim((49.5,51))"
   ]
  },
  {
   "cell_type": "raw",
   "metadata": {},
   "source": [
    "      <domain id=\"TV1\"                      domain_ref=\"grid_V\"> <zoom_domain ibegin=\"50\" jbegin=\"883\" ni=\"26\" nj=\"1\" /> </domain>\n",
    "      <domain id=\"TV2\"                      domain_ref=\"grid_V\"> <zoom_domain ibegin=\"122\" jbegin=\"792\" ni=\"67\" nj=\"1\" /> </domain>"
   ]
  },
  {
   "cell_type": "code",
   "execution_count": 32,
   "metadata": {
    "collapsed": false
   },
   "outputs": [
    {
     "data": {
      "text/plain": [
       "array([[-126.080605, -126.07521 , -126.06982 , -126.06443 , -126.05904 ,\n",
       "        -126.05366 , -126.04827 , -126.04289 , -126.03751 , -126.032135,\n",
       "        -126.02676 , -126.021385, -126.016014, -126.01064 , -126.00528 ,\n",
       "        -125.999916, -125.99455 , -125.98919 , -125.983826, -125.97847 ,\n",
       "        -125.973114, -125.96776 , -125.96241 , -125.957054, -125.951706,\n",
       "        -125.94636 ]], dtype=float32)"
      ]
     },
     "execution_count": 32,
     "metadata": {},
     "output_type": "execute_result"
    }
   ],
   "source": [
    "fig,ax=plt.subplots(1,1,figsize=())"
   ]
  },
  {
   "cell_type": "code",
   "execution_count": 35,
   "metadata": {
    "collapsed": false
   },
   "outputs": [
    {
     "data": {
      "text/plain": [
       "array([-126.08222 , -126.07683 , -126.071434, -126.06605 , -126.06065 ,\n",
       "       -126.05527 , -126.04989 , -126.0445  , -126.03912 , -126.033745,\n",
       "       -126.02837 , -126.022995, -126.017624, -126.01226 , -126.00689 ,\n",
       "       -126.001526, -125.99616 , -125.9908  , -125.985435, -125.98008 ,\n",
       "       -125.974724, -125.96937 , -125.96401 , -125.958664, -125.953316,\n",
       "       -125.94797 ], dtype=float32)"
      ]
     },
     "execution_count": 35,
     "metadata": {},
     "output_type": "execute_result"
    }
   ],
   "source": [
    "fmask.variables['nav_lon'][884,50:(50+26)]"
   ]
  },
  {
   "cell_type": "code",
   "execution_count": 11,
   "metadata": {
    "collapsed": false
   },
   "outputs": [
    {
     "data": {
      "text/plain": [
       "(1, 26)"
      ]
     },
     "execution_count": 11,
     "metadata": {},
     "output_type": "execute_result"
    }
   ],
   "source": [
    "np.shape(f1.variables['nav_lon'][:,:])"
   ]
  },
  {
   "cell_type": "code",
   "execution_count": 12,
   "metadata": {
    "collapsed": true
   },
   "outputs": [],
   "source": [
    "def dayarray(t0,t1,interval=1):\n",
    "    tlist=(t0,)\n",
    "    while tlist[-1]<t1:\n",
    "        tlist=tlist+(tlist[-1]+dt.timedelta(days=1),)\n",
    "    return tlist"
   ]
  },
  {
   "cell_type": "code",
   "execution_count": 13,
   "metadata": {
    "collapsed": false
   },
   "outputs": [],
   "source": [
    "t0=dt.datetime(2015,1,1)\n",
    "t1=dt.datetime(2016,1,1)\n",
    "tlist=dayarray(t0,t1,1)"
   ]
  },
  {
   "cell_type": "code",
   "execution_count": 14,
   "metadata": {
    "collapsed": true
   },
   "outputs": [],
   "source": [
    "fformatD='%d%b%y/'\n",
    "fformat1='SalishSea_1h_%Y%m%d_%Y%m%d_VT1_20.nc'\n",
    "fformat2='SalishSea_1h_%Y%m%d_%Y%m%d_VT2_20.nc'\n",
    "idir='/data/eolson/results/MEOPAR/SS36runs/linkHC201812/'"
   ]
  },
  {
   "cell_type": "code",
   "execution_count": 15,
   "metadata": {
    "collapsed": false
   },
   "outputs": [],
   "source": [
    "VT1=np.zeros((len(tlist)*24,40,26))\n",
    "VLDF1=np.zeros((len(tlist)*24,40,26))\n",
    "VT2=np.zeros((len(tlist)*24,40,67))\n",
    "VLDF2=np.zeros((len(tlist)*24,40,67))\n",
    "ind=-1\n",
    "for idt0 in tlist:\n",
    "    ind=ind+1\n",
    "    cdir=idt0.strftime(fformatD).lower()\n",
    "    sff1=idir+cdir+idt0.strftime(fformat1)\n",
    "    sff2=idir+cdir+idt0.strftime(fformat2)\n",
    "    with nc.Dataset(sff1) as f1, nc.Dataset(sff2) as f2:\n",
    "        VT1[(ind*24):(ind*24+24),:,:]=f1.variables['NO3_VT'][:,:,0,:]\n",
    "        VLDF1[(ind*24):(ind*24+24),:,:]=f1.variables['VLDFNO3'][:,:,0,:]\n",
    "        VT2[(ind*24):(ind*24+24),:,:]=f2.variables['NO3_VT'][:,:,0,:]\n",
    "        VLDF2[(ind*24):(ind*24+24),:,:]=f2.variables['VLDFNO3'][:,:,0,:]"
   ]
  },
  {
   "cell_type": "code",
   "execution_count": 16,
   "metadata": {
    "collapsed": false
   },
   "outputs": [
    {
     "data": {
      "text/plain": [
       "(8784, 40, 26)"
      ]
     },
     "execution_count": 16,
     "metadata": {},
     "output_type": "execute_result"
    }
   ],
   "source": [
    "np.shape(VT1)"
   ]
  },
  {
   "cell_type": "code",
   "execution_count": 17,
   "metadata": {
    "collapsed": false
   },
   "outputs": [
    {
     "data": {
      "text/plain": [
       "<matplotlib.colorbar.Colorbar at 0x7f9f0de0f278>"
      ]
     },
     "execution_count": 17,
     "metadata": {},
     "output_type": "execute_result"
    },
    {
     "data": {
      "image/png": "[encoded data removed]",
      "text/plain": [
       "<matplotlib.figure.Figure at 0x7f9f0e0ee358>"
      ]
     },
     "metadata": {},
     "output_type": "display_data"
    }
   ],
   "source": [
    "fig,ax=plt.subplots(1,2,figsize=(12,5))\n",
    "m1=ax[0].pcolormesh(np.mean(VT1[:,:,:],0))\n",
    "plt.colorbar(m1,ax=ax[0])\n",
    "m2=ax[1].pcolormesh(np.mean(VLDF1[:,:,:],0))\n",
    "plt.colorbar(m2,ax=ax[1])"
   ]
  },
  {
   "cell_type": "code",
   "execution_count": 18,
   "metadata": {
    "collapsed": false
   },
   "outputs": [
    {
     "data": {
      "text/plain": [
       "<matplotlib.colorbar.Colorbar at 0x7f9f0dc35780>"
      ]
     },
     "execution_count": 18,
     "metadata": {},
     "output_type": "execute_result"
    },
    {
     "data": {
      "image/png": "[encoded data removed]",
      "text/plain": [
       "<matplotlib.figure.Figure at 0x7f9f0deb2c50>"
      ]
     },
     "metadata": {},
     "output_type": "display_data"
    }
   ],
   "source": [
    "fig,ax=plt.subplots(1,2,figsize=(12,5))\n",
    "m1=ax[0].pcolormesh(np.mean(VT2[:,:,:],0))\n",
    "plt.colorbar(m1,ax=ax[0])\n",
    "m2=ax[1].pcolormesh(np.mean(VLDF2[:,:,:],0))\n",
    "plt.colorbar(m2,ax=ax[1])"
   ]
  },
  {
   "cell_type": "code",
   "execution_count": 19,
   "metadata": {
    "collapsed": false
   },
   "outputs": [
    {
     "data": {
      "text/plain": [
       "(-109873.9376909051, -62493.98624860562)"
      ]
     },
     "execution_count": 19,
     "metadata": {},
     "output_type": "execute_result"
    }
   ],
   "source": [
    "np.sum(np.mean(VT1[:,:,:],0)),np.sum(np.mean(VT2[:,:,:],0))"
   ]
  },
  {
   "cell_type": "code",
   "execution_count": 20,
   "metadata": {
    "collapsed": false
   },
   "outputs": [
    {
     "data": {
      "text/plain": [
       "(36.00302726469185, -35.45006239519209)"
      ]
     },
     "execution_count": 20,
     "metadata": {},
     "output_type": "execute_result"
    }
   ],
   "source": [
    "np.sum(np.mean(VLDF1[:,:,:],0)),np.sum(np.mean(VLDF2[:,:,:],0))"
   ]
  },
  {
   "cell_type": "code",
   "execution_count": 21,
   "metadata": {
    "collapsed": false
   },
   "outputs": [
    {
     "data": {
      "text/plain": [
       "(-6.812184136836117, -3.8746271474135487)"
      ]
     },
     "execution_count": 21,
     "metadata": {},
     "output_type": "execute_result"
    }
   ],
   "source": [
    "# units for NO3_VT    v*dx*dz*C = mmol N/s \n",
    "# mmol N/s * (1e-3 mol/mmol) * (62 g/mol m.w. NO3) * (1e-3 kg/g)\n",
    "# compare below with Kh2018's 3 kg/s:\n",
    "np.sum(np.mean(VT1[:,:,:],0))*1e-3*62*1e-3, np.sum(np.mean(VT2[:,:,:],0))*1e-3*62*1e-3"
   ]
  },
  {
   "cell_type": "markdown",
   "metadata": {},
   "source": [
    "### try post calculation and compare with live calculation "
   ]
  },
  {
   "cell_type": "code",
   "execution_count": 22,
   "metadata": {
    "collapsed": true
   },
   "outputs": [],
   "source": [
    "tlist=dayarray(t0,dt.datetime(2015,1,5),1)\n",
    "fformatD='%d%b%y/'\n",
    "fformat1='SalishSea_1h_%Y%m%d_%Y%m%d_VT1_20.nc'\n",
    "fformat2='SalishSea_1h_%Y%m%d_%Y%m%d_VT2_20.nc'\n",
    "fformatV='SalishSea_1h_%Y%m%d_%Y%m%d_grid_V.nc'\n",
    "fformate='SalishSea_1h_%Y%m%d_%Y%m%d_carp_T.nc'\n",
    "idir='/data/eolson/results/MEOPAR/SS36runs/linkHC201812/'"
   ]
  },
  {
   "cell_type": "code",
   "execution_count": null,
   "metadata": {
    "collapsed": true
   },
   "outputs": [],
   "source": [
    "VT1=np.zeros((len(tlist)*24,40,26))\n",
    "VLDF1=np.zeros((len(tlist)*24,40,26))\n",
    "VT2=np.zeros((len(tlist)*24,40,67))\n",
    "VLDF2=np.zeros((len(tlist)*24,40,67))\n",
    "VT1C=np.zeros((len(tlist)*24,40,26))\n",
    "VLDF1C=np.zeros((len(tlist)*24,40,26))\n",
    "VT2C=np.zeros((len(tlist)*24,40,67))\n",
    "VLDF2C=np.zeros((len(tlist)*24,40,67))\n",
    "ind=-1\n",
    "for idt0 in tlist:\n",
    "    ind=ind+1\n",
    "    cdir=idt0.strftime(fformatD).lower()\n",
    "    sff1=idir+cdir+idt0.strftime(fformat1)\n",
    "    sff2=idir+cdir+idt0.strftime(fformat2)\n",
    "    sffV=idir+cdir+idt0.strftime(fformatV)\n",
    "    sffe=idir+cdir+idt0.strftime(fformate)\n",
    "    with nc.Dataset(sff1) as f1, nc.Dataset(sff2) as f2,\n",
    "            nc.Dataset(sffV) as fV, nc.Dataset(sffe) as fe:\n",
    "        VT1[(ind*24):(ind*24+24),:,:]=f1.variables['NO3_VT'][:,:,0,:]\n",
    "        VLDF1[(ind*24):(ind*24+24),:,:]=f1.variables['VLDFNO3'][:,:,0,:]\n",
    "        VT2[(ind*24):(ind*24+24),:,:]=f2.variables['NO3_VT'][:,:,0,:]\n",
    "        VLDF2[(ind*24):(ind*24+24),:,:]=f2.variables['VLDFNO3'][:,:,0,:]\n",
    "        \n",
    "        e3t=\n",
    "        \n",
    "        VT1C[(ind*24):(ind*24+24),:,:]=f1.variables['NO3_VT'][:,:,0,:]\n",
    "        VT2C[(ind*24):(ind*24+24),:,:]=f2.variables['NO3_VT'][:,:,0,:]"
   ]
  },
  {
   "cell_type": "raw",
   "metadata": {},
   "source": [
    "Uz3d(ji,jj,jk) = un(ji,jj,jk) * e2u(ji,jj) * fse3u_n(ji,jj,jk) * &\n",
    "                        & umask(ji,jj,jk) * ( trn(ji,jj,jk,jn) + trn(ji+1,jj,jk,jn) )\n",
    "Vz3d(ji,jj,jk) = vn(ji,jj,jk) * e1v(ji,jj) * fse3v_n(ji,jj,jk) * &\n",
    "                        & vmask(ji,jj,jk) * ( trn(ji,jj,jk,jn) + trn(ji,jj+1,jk,jn) )"
   ]
  },
  {
   "cell_type": "code",
   "execution_count": null,
   "metadata": {
    "collapsed": true
   },
   "outputs": [],
   "source": []
  },
  {
   "cell_type": "code",
   "execution_count": null,
   "metadata": {
    "collapsed": true
   },
   "outputs": [],
   "source": []
  }
 ],
 "metadata": {
  "anaconda-cloud": {},
  "kernelspec": {
   "display_name": "Python [conda env:python36]",
   "language": "python",
   "name": "conda-env-python36-py"
  },
  "language_info": {
   "codemirror_mode": {
    "name": "ipython",
    "version": 3
   },
   "file_extension": ".py",
   "mimetype": "text/x-python",
   "name": "python",
   "nbconvert_exporter": "python",
   "pygments_lexer": "ipython3",
   "version": "3.6.3"
  }
 },
 "nbformat": 4,
 "nbformat_minor": 1
}
