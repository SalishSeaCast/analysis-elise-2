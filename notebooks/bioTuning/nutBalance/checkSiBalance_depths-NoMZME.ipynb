{
 "cells": [
  {
   "cell_type": "code",
   "execution_count": 1,
   "metadata": {
    "collapsed": true
   },
   "outputs": [],
   "source": [
    "import netCDF4 as nc\n",
    "import datetime as dt\n",
    "import subprocess\n",
    "import requests\n",
    "import matplotlib.pyplot as plt\n",
    "import cmocean\n",
    "import numpy as np\n",
    "import os\n",
    "import glob\n",
    "import dateutil as dutil\n",
    "from salishsea_tools import viz_tools\n",
    "%matplotlib inline"
   ]
  },
  {
   "cell_type": "code",
   "execution_count": 2,
   "metadata": {
    "collapsed": false
   },
   "outputs": [],
   "source": [
    "with nc.Dataset('/ocean/eolson/MEOPAR/NEMO-forcing/grid/mesh_mask201702_noLPE.nc') as fm:\n",
    "    tmask=np.copy(fm.variables['tmask'])\n",
    "    umask=np.copy(fm.variables['umask'])\n",
    "    vmask=np.copy(fm.variables['vmask'])\n",
    "    navlon=np.copy(fm.variables['nav_lon'])\n",
    "    navlat=np.copy(fm.variables['nav_lat'])\n",
    "    dept=np.copy(fm.variables['gdept_1d'])\n",
    "    e3t_0=np.copy(fm.variables['e3t_0'])\n",
    "    e3u_0=np.copy(fm.variables['e3u_0'])\n",
    "    e3v_0=np.copy(fm.variables['e3v_0'])\n",
    "    e1t=np.copy(fm.variables['e1t'])\n",
    "    e2t=np.copy(fm.variables['e2t'])\n",
    "    e1v=np.copy(fm.variables['e1v'])\n",
    "    e2u=np.copy(fm.variables['e2u'])\n",
    "    A=fm.variables['e1t'][0,:,:]*fm.variables['e2t'][0,:,:]*tmask[0,0,:,:]"
   ]
  },
  {
   "cell_type": "code",
   "execution_count": 3,
   "metadata": {
    "collapsed": false
   },
   "outputs": [],
   "source": [
    "t0=dt.datetime(2015,2,6) # 1st start date of run\n",
    "#te=dt.datetime(2016,12,1)# last start date of runfnum=18\n",
    "stm=np.shape(tmask)\n",
    "SiN=2.0\n",
    "#nlen=36*2\n",
    "nlen=24\n",
    "dlist=[t0+dt.timedelta(days=ii*10) for ii in range(0,nlen)]"
   ]
  },
  {
   "cell_type": "code",
   "execution_count": 4,
   "metadata": {
    "collapsed": true
   },
   "outputs": [],
   "source": [
    "#sdir0='/results/SalishSea/nowcast-green/'\n",
    "#sdir1='/results/SalishSea/hindcast/'\n",
    "#sdir3='/data/eolson/MEOPAR/SS36runs/CedarRuns/spring2015_HCMZ/'\n",
    "sdir1='/data/eolson/MEOPAR/SS36runs/CedarRuns/spring2015_NoMZME/'\n"
   ]
  },
  {
   "cell_type": "code",
   "execution_count": 5,
   "metadata": {
    "collapsed": true
   },
   "outputs": [],
   "source": [
    "tmaskC=np.copy(tmask)\n",
    "tmaskC[:,:,370:490,:12]=0\n",
    "tmaskC[:,:,887:,30:70]=0"
   ]
  },
  {
   "cell_type": "code",
   "execution_count": 6,
   "metadata": {
    "collapsed": false
   },
   "outputs": [
    {
     "name": "stdout",
     "output_type": "stream",
     "text": [
      "/data/eolson/MEOPAR/SS36runs/CedarRuns/spring2015_NoMZME/SalishSea_1h_*_ptrc_T_20150206-*.nc\n",
      "/data/eolson/MEOPAR/SS36runs/CedarRuns/spring2015_NoMZME/SalishSea_1h_*_ptrc_T_20150216-*.nc\n",
      "/data/eolson/MEOPAR/SS36runs/CedarRuns/spring2015_NoMZME/SalishSea_1h_*_ptrc_T_20150226-*.nc\n",
      "/data/eolson/MEOPAR/SS36runs/CedarRuns/spring2015_NoMZME/SalishSea_1h_*_ptrc_T_20150308-*.nc\n",
      "/data/eolson/MEOPAR/SS36runs/CedarRuns/spring2015_NoMZME/SalishSea_1h_*_ptrc_T_20150318-*.nc\n",
      "/data/eolson/MEOPAR/SS36runs/CedarRuns/spring2015_NoMZME/SalishSea_1h_*_ptrc_T_20150328-*.nc\n",
      "/data/eolson/MEOPAR/SS36runs/CedarRuns/spring2015_NoMZME/SalishSea_1h_*_ptrc_T_20150407-*.nc\n",
      "/data/eolson/MEOPAR/SS36runs/CedarRuns/spring2015_NoMZME/SalishSea_1h_*_ptrc_T_20150417-*.nc\n",
      "/data/eolson/MEOPAR/SS36runs/CedarRuns/spring2015_NoMZME/SalishSea_1h_*_ptrc_T_20150427-*.nc\n",
      "/data/eolson/MEOPAR/SS36runs/CedarRuns/spring2015_NoMZME/SalishSea_1h_*_ptrc_T_20150507-*.nc\n",
      "/data/eolson/MEOPAR/SS36runs/CedarRuns/spring2015_NoMZME/SalishSea_1h_*_ptrc_T_20150517-*.nc\n",
      "/data/eolson/MEOPAR/SS36runs/CedarRuns/spring2015_NoMZME/SalishSea_1h_*_ptrc_T_20150527-*.nc\n",
      "/data/eolson/MEOPAR/SS36runs/CedarRuns/spring2015_NoMZME/SalishSea_1h_*_ptrc_T_20150606-*.nc\n",
      "/data/eolson/MEOPAR/SS36runs/CedarRuns/spring2015_NoMZME/SalishSea_1h_*_ptrc_T_20150616-*.nc\n",
      "/data/eolson/MEOPAR/SS36runs/CedarRuns/spring2015_NoMZME/SalishSea_1h_*_ptrc_T_20150626-*.nc\n",
      "/data/eolson/MEOPAR/SS36runs/CedarRuns/spring2015_NoMZME/SalishSea_1h_*_ptrc_T_20150706-*.nc\n",
      "/data/eolson/MEOPAR/SS36runs/CedarRuns/spring2015_NoMZME/SalishSea_1h_*_ptrc_T_20150716-*.nc\n",
      "/data/eolson/MEOPAR/SS36runs/CedarRuns/spring2015_NoMZME/SalishSea_1h_*_ptrc_T_20150726-*.nc\n",
      "/data/eolson/MEOPAR/SS36runs/CedarRuns/spring2015_NoMZME/SalishSea_1h_*_ptrc_T_20150805-*.nc\n",
      "/data/eolson/MEOPAR/SS36runs/CedarRuns/spring2015_NoMZME/SalishSea_1h_*_ptrc_T_20150815-*.nc\n",
      "/data/eolson/MEOPAR/SS36runs/CedarRuns/spring2015_NoMZME/SalishSea_1h_*_ptrc_T_20150825-*.nc\n",
      "/data/eolson/MEOPAR/SS36runs/CedarRuns/spring2015_NoMZME/SalishSea_1h_*_ptrc_T_20150904-*.nc\n",
      "/data/eolson/MEOPAR/SS36runs/CedarRuns/spring2015_NoMZME/SalishSea_1h_*_ptrc_T_20150914-*.nc\n",
      "/data/eolson/MEOPAR/SS36runs/CedarRuns/spring2015_NoMZME/SalishSea_1h_*_ptrc_T_20150924-*.nc\n"
     ]
    }
   ],
   "source": [
    "tlist=dlist\n",
    "SiGlobalTot=dict()\n",
    "SiTot=dict()\n",
    "BSiTot=dict()\n",
    "DiatTot=dict()\n",
    "changeSiGlobalTot=dict()\n",
    "for idir in (sdir1,):\n",
    "    fformat1='%d%b%y/'\n",
    "    if idir.startswith('/data/eolson/MEOPAR/SS36runs/CedarRuns/'):\n",
    "        fformatT='SalishSea_1h_*_ptrc_T_%Y%m%d-*.nc'\n",
    "        fformatP='SalishSea_1h_*_ptrc_T_%Y%m%d-*.nc'\n",
    "    #elif idir==sdir0:\n",
    "    #    fformatT='SalishSea_1h_%Y%m%d_%Y%m%d_ptrc_T.nc'\n",
    "    #    fformatP='SalishSea_1h_%Y%m%d_%Y%m%d_grid_T.nc'\n",
    "    elif idir==sdir1:\n",
    "        fformatT='SalishSea_1h_%Y%m%d_%Y%m%d_ptrc_T.nc'\n",
    "        fformatP='SalishSea_1h_%Y%m%d_%Y%m%d_carp_T.nc'\n",
    "    sumSi=np.zeros((len(tlist),stm[1]))\n",
    "    sumBSi=np.zeros((len(tlist),stm[1]))\n",
    "    sumDiat=np.zeros((len(tlist),stm[1]))\n",
    "    ind=-1\n",
    "    for idt0 in tlist:\n",
    "        ind=ind+1\n",
    "        cdir=idt0.strftime(fformat1).lower()\n",
    "        iffT=idt0.strftime(fformatT)\n",
    "        iffP=idt0.strftime(fformatP)\n",
    "        if idir.startswith('/data/eolson/MEOPAR/SS36runs/CedarRuns/'):\n",
    "            sffT=idir+iffT\n",
    "            sffP=idir+iffP\n",
    "        elif idir.startswith('/results/'):\n",
    "            sffT=idir+cdir+iffT\n",
    "            sffP=idir+cdir+iffP\n",
    "        f=nc.Dataset(glob.glob(sffT)[0])\n",
    "        print(sffT)\n",
    "        fP=nc.Dataset(glob.glob(sffP)[0])\n",
    "        #if idir==sdir0:\n",
    "        #    e3t=np.expand_dims((1+fP.variables['sossheig'][0,:,:]/np.sum(e3t_0*tmask,1)),0)*e3t_0\n",
    "        if idir==sdir1:\n",
    "            e3t=fP.variables['e3t'][:2,:,:,:]\n",
    "        Vol=A*np.ones(np.shape(e3t))\n",
    "        sumSi[ind,:]=1e-3*np.sum(np.sum(tmaskC[0,:,:,:]*Vol[0,:,:,:]*f.variables['silicon'][0,:,:,:],2),1) #mmol/m3*m3*10^-3=mol\n",
    "        sumBSi[ind,:]=1e-3*np.sum(np.sum(tmaskC[0,:,:,:]*Vol[0,:,:,:]*f.variables['biogenic_silicon'][0,:,:,:],2),1) #mmol/m3*m3*10^-3=mol\n",
    "        sumDiat[ind,:]=SiN*1e-3*np.sum(np.sum(tmaskC[0,:,:,:]*Vol[0,:,:,:]*f.variables['diatoms'][0,:,:,:],2),1) #mmol/m3*m3*10^-3=mol\n",
    "        f.close()\n",
    "        fP.close()\n",
    "    SiGlobalTot[idir]=sumSi+sumBSi+sumDiat"
   ]
  },
  {
   "cell_type": "code",
   "execution_count": 7,
   "metadata": {
    "collapsed": false
   },
   "outputs": [
    {
     "data": {
      "text/plain": [
       "'/data/eolson/MEOPAR/SS36runs/CedarRuns/spring2015_NoMZME/SalishSea_1h_*_ptrc_T_20150924-*.nc'"
      ]
     },
     "execution_count": 7,
     "metadata": {},
     "output_type": "execute_result"
    }
   ],
   "source": [
    "sffT"
   ]
  },
  {
   "cell_type": "code",
   "execution_count": 8,
   "metadata": {
    "collapsed": true
   },
   "outputs": [],
   "source": [
    "siplot=SiGlobalTot[idir]-SiGlobalTot[idir][0,:]"
   ]
  },
  {
   "cell_type": "code",
   "execution_count": 9,
   "metadata": {
    "collapsed": false
   },
   "outputs": [
    {
     "data": {
      "text/plain": [
       "<matplotlib.colorbar.Colorbar at 0x7fea75d06208>"
      ]
     },
     "execution_count": 9,
     "metadata": {},
     "output_type": "execute_result"
    },
    {
     "data": {
      "image/png": "[encoded data removed]",
      "text/plain": [
       "<matplotlib.figure.Figure at 0x7fea75e39be0>"
      ]
     },
     "metadata": {},
     "output_type": "display_data"
    }
   ],
   "source": [
    "cm1=cmocean.cm.balance\n",
    "#plt.pcolormesh([t0+dt.timedelta(10*ii) for ii in range(0,30)],dept[0,:],np.transpose(siplot[:30,:]),cmap=cm1,vmin=-1e9,vmax=1e9)\n",
    "plt.pcolormesh([t0+dt.timedelta(10*ii) for ii in range(0,nlen)],dept[0,:],np.transpose(siplot),cmap=cm1,vmin=-1e8,vmax=1e8)\n",
    "plt.ylim(400,0)\n",
    "plt.colorbar()"
   ]
  },
  {
   "cell_type": "markdown",
   "metadata": {},
   "source": [
    "## repeat for N"
   ]
  },
  {
   "cell_type": "code",
   "execution_count": 10,
   "metadata": {
    "collapsed": false
   },
   "outputs": [
    {
     "name": "stdout",
     "output_type": "stream",
     "text": [
      "/data/eolson/MEOPAR/SS36runs/CedarRuns/spring2015_NoMZME/SalishSea_1h_*_ptrc_T_20150206-*.nc\n",
      "/data/eolson/MEOPAR/SS36runs/CedarRuns/spring2015_NoMZME/SalishSea_1h_*_ptrc_T_20150216-*.nc\n",
      "/data/eolson/MEOPAR/SS36runs/CedarRuns/spring2015_NoMZME/SalishSea_1h_*_ptrc_T_20150226-*.nc\n",
      "/data/eolson/MEOPAR/SS36runs/CedarRuns/spring2015_NoMZME/SalishSea_1h_*_ptrc_T_20150308-*.nc\n",
      "/data/eolson/MEOPAR/SS36runs/CedarRuns/spring2015_NoMZME/SalishSea_1h_*_ptrc_T_20150318-*.nc\n",
      "/data/eolson/MEOPAR/SS36runs/CedarRuns/spring2015_NoMZME/SalishSea_1h_*_ptrc_T_20150328-*.nc\n",
      "/data/eolson/MEOPAR/SS36runs/CedarRuns/spring2015_NoMZME/SalishSea_1h_*_ptrc_T_20150407-*.nc\n",
      "/data/eolson/MEOPAR/SS36runs/CedarRuns/spring2015_NoMZME/SalishSea_1h_*_ptrc_T_20150417-*.nc\n",
      "/data/eolson/MEOPAR/SS36runs/CedarRuns/spring2015_NoMZME/SalishSea_1h_*_ptrc_T_20150427-*.nc\n",
      "/data/eolson/MEOPAR/SS36runs/CedarRuns/spring2015_NoMZME/SalishSea_1h_*_ptrc_T_20150507-*.nc\n",
      "/data/eolson/MEOPAR/SS36runs/CedarRuns/spring2015_NoMZME/SalishSea_1h_*_ptrc_T_20150517-*.nc\n",
      "/data/eolson/MEOPAR/SS36runs/CedarRuns/spring2015_NoMZME/SalishSea_1h_*_ptrc_T_20150527-*.nc\n",
      "/data/eolson/MEOPAR/SS36runs/CedarRuns/spring2015_NoMZME/SalishSea_1h_*_ptrc_T_20150606-*.nc\n",
      "/data/eolson/MEOPAR/SS36runs/CedarRuns/spring2015_NoMZME/SalishSea_1h_*_ptrc_T_20150616-*.nc\n",
      "/data/eolson/MEOPAR/SS36runs/CedarRuns/spring2015_NoMZME/SalishSea_1h_*_ptrc_T_20150626-*.nc\n",
      "/data/eolson/MEOPAR/SS36runs/CedarRuns/spring2015_NoMZME/SalishSea_1h_*_ptrc_T_20150706-*.nc\n",
      "/data/eolson/MEOPAR/SS36runs/CedarRuns/spring2015_NoMZME/SalishSea_1h_*_ptrc_T_20150716-*.nc\n",
      "/data/eolson/MEOPAR/SS36runs/CedarRuns/spring2015_NoMZME/SalishSea_1h_*_ptrc_T_20150726-*.nc\n",
      "/data/eolson/MEOPAR/SS36runs/CedarRuns/spring2015_NoMZME/SalishSea_1h_*_ptrc_T_20150805-*.nc\n",
      "/data/eolson/MEOPAR/SS36runs/CedarRuns/spring2015_NoMZME/SalishSea_1h_*_ptrc_T_20150815-*.nc\n",
      "/data/eolson/MEOPAR/SS36runs/CedarRuns/spring2015_NoMZME/SalishSea_1h_*_ptrc_T_20150825-*.nc\n",
      "/data/eolson/MEOPAR/SS36runs/CedarRuns/spring2015_NoMZME/SalishSea_1h_*_ptrc_T_20150904-*.nc\n",
      "/data/eolson/MEOPAR/SS36runs/CedarRuns/spring2015_NoMZME/SalishSea_1h_*_ptrc_T_20150914-*.nc\n",
      "/data/eolson/MEOPAR/SS36runs/CedarRuns/spring2015_NoMZME/SalishSea_1h_*_ptrc_T_20150924-*.nc\n"
     ]
    }
   ],
   "source": [
    "tlist=dlist\n",
    "NGlobalTot=dict()\n",
    "VolTot=dict()\n",
    "NO3Tot=dict()\n",
    "NH4Tot=dict()\n",
    "PONTot=dict()\n",
    "DONTot=dict()\n",
    "DiatTot=dict()\n",
    "MyriTot=dict()\n",
    "NanoTot=dict()\n",
    "MiZoTot=dict()\n",
    "changeNGlobalTot=dict()\n",
    "for idir in (sdir1,):\n",
    "    fformat1='%d%b%y/'\n",
    "    if idir.startswith('/data/eolson/MEOPAR/SS36runs/CedarRuns/'):\n",
    "        fformatT='SalishSea_1h_*_ptrc_T_%Y%m%d-*.nc'\n",
    "        fformatP='SalishSea_1h_*_ptrc_T_%Y%m%d-*.nc'\n",
    "    #elif idir==sdir0:\n",
    "    #    fformatT='SalishSea_1h_%Y%m%d_%Y%m%d_ptrc_T.nc'\n",
    "    #    fformatP='SalishSea_1h_%Y%m%d_%Y%m%d_grid_T.nc'\n",
    "    elif idir==sdir1:\n",
    "        fformatT='SalishSea_1h_%Y%m%d_%Y%m%d_ptrc_T.nc'\n",
    "        fformatP='SalishSea_1h_%Y%m%d_%Y%m%d_carp_T.nc'\n",
    "    sumNO3=np.zeros((len(tlist),stm[1]))\n",
    "    sumVol=np.zeros((len(tlist),stm[1]))\n",
    "    sumNH4=np.zeros((len(tlist),stm[1]))\n",
    "    sumPON=np.zeros((len(tlist),stm[1]))\n",
    "    sumDON=np.zeros((len(tlist),stm[1]))\n",
    "    sumDiat=np.zeros((len(tlist),stm[1]))\n",
    "    sumMyri=np.zeros((len(tlist),stm[1]))\n",
    "    sumNano=np.zeros((len(tlist),stm[1]))\n",
    "    sumMiZo=np.zeros((len(tlist),stm[1]))\n",
    "    ind=-1\n",
    "    for idt0 in tlist:\n",
    "        ind=ind+1\n",
    "        cdir=idt0.strftime(fformat1).lower()\n",
    "        iffT=idt0.strftime(fformatT)\n",
    "        iffP=idt0.strftime(fformatP)\n",
    "        if idir.startswith('/data/eolson/MEOPAR/SS36runs/CedarRuns/'):\n",
    "            sffT=idir+iffT\n",
    "            sffP=idir+iffP\n",
    "        elif idir.startswith('/results/'):\n",
    "            sffT=idir+cdir+iffT\n",
    "            sffP=idir+cdir+iffP\n",
    "        f=nc.Dataset(glob.glob(sffT)[0])\n",
    "        print(sffT)\n",
    "        fP=nc.Dataset(glob.glob(sffP)[0])\n",
    "        #if idir==sdir0:\n",
    "        #    e3t=np.expand_dims((1+fP.variables['sossheig'][0,:,:]/np.sum(e3t_0*tmask,1)),0)*e3t_0\n",
    "        if idir==sdir1:\n",
    "            e3t=fP.variables['e3t'][:2,:,:,:]\n",
    "        Vol=A*np.ones(np.shape(e3t))\n",
    "        sumVol[ind,:]=1e-3*np.sum(np.sum(tmaskC[0,:,:,:]*Vol[0,:,:,:],2),1) #mmol/m3*m3*10^-3=mol\n",
    "        sumNO3[ind,:]=1e-3*np.sum(np.sum(tmaskC[0,:,:,:]*Vol[0,:,:,:]*f.variables['nitrate'][0,:,:,:],2),1) #mmol/m3*m3*10^-3=mol\n",
    "        sumNH4[ind,:]=1e-3*np.sum(np.sum(tmaskC[0,:,:,:]*Vol[0,:,:,:]*f.variables['ammonium'][0,:,:,:],2),1) #mmol/m3*m3*10^-3=mol\n",
    "        sumPON[ind,:]=1e-3*np.sum(np.sum(tmaskC[0,:,:,:]*Vol[0,:,:,:]*f.variables['particulate_organic_nitrogen'][0,:,:,:],2),1) #mmol/m3*m3*10^-3=mol\n",
    "        sumDON[ind,:]=1e-3*np.sum(np.sum(tmaskC[0,:,:,:]*Vol[0,:,:,:]*f.variables['dissolved_organic_nitrogen'][0,:,:,:],2),1) #mmol/m3*m3*10^-3=mol\n",
    "        sumDiat[ind,:]=1e-3*np.sum(np.sum(tmaskC[0,:,:,:]*Vol[0,:,:,:]*f.variables['diatoms'][0,:,:,:],2),1) #mmol/m3*m3*10^-3=mol\n",
    "        sumMyri[ind,:]=1e-3*np.sum(np.sum(tmaskC[0,:,:,:]*Vol[0,:,:,:]*f.variables['ciliates'][0,:,:,:],2),1) #mmol/m3*m3*10^-3=mol\n",
    "        sumMiZo[ind,:]=1e-3*np.sum(np.sum(tmaskC[0,:,:,:]*Vol[0,:,:,:]*f.variables['microzooplankton'][0,:,:,:],2),1) #mmol/m3*m3*10^-3=mol\n",
    "        f.close()\n",
    "        fP.close()\n",
    "    NGlobalTot[idir]=sumNO3+sumNH4+sumPON+sumDON+sumDiat+sumMyri+sumNano+sumMiZo"
   ]
  },
  {
   "cell_type": "code",
   "execution_count": 11,
   "metadata": {
    "collapsed": false
   },
   "outputs": [],
   "source": [
    "Nplot=NGlobalTot[idir]-NGlobalTot[idir][0,:]"
   ]
  },
  {
   "cell_type": "code",
   "execution_count": 12,
   "metadata": {
    "collapsed": false
   },
   "outputs": [
    {
     "data": {
      "text/plain": [
       "<matplotlib.colorbar.Colorbar at 0x7fea5e056f98>"
      ]
     },
     "execution_count": 12,
     "metadata": {},
     "output_type": "execute_result"
    },
    {
     "data": {
      "image/png": "[encoded data removed]",
      "text/plain": [
       "<matplotlib.figure.Figure at 0x7fea75c7a940>"
      ]
     },
     "metadata": {},
     "output_type": "display_data"
    }
   ],
   "source": [
    "\n",
    "#plt.pcolormesh([t0+dt.timedelta(10*ii) for ii in range(0,30)],dept[0,:],np.transpose(siplot[:30,:]),cmap=cm1,vmin=-1e9,vmax=1e9)\n",
    "plt.pcolormesh([t0+dt.timedelta(10*ii) for ii in range(0,nlen)],dept[0,:],np.transpose(Nplot),cmap=cm1,vmin=-1e8,vmax=1e8)\n",
    "plt.ylim(400,0)\n",
    "plt.colorbar()"
   ]
  },
  {
   "cell_type": "code",
   "execution_count": null,
   "metadata": {
    "collapsed": true
   },
   "outputs": [],
   "source": []
  },
  {
   "cell_type": "code",
   "execution_count": null,
   "metadata": {
    "collapsed": true
   },
   "outputs": [],
   "source": []
  },
  {
   "cell_type": "code",
   "execution_count": null,
   "metadata": {
    "collapsed": true
   },
   "outputs": [],
   "source": []
  }
 ],
 "metadata": {
  "anaconda-cloud": {},
  "kernelspec": {
   "display_name": "Python [conda env:python36]",
   "language": "python",
   "name": "conda-env-python36-py"
  },
  "language_info": {
   "codemirror_mode": {
    "name": "ipython",
    "version": 3
   },
   "file_extension": ".py",
   "mimetype": "text/x-python",
   "name": "python",
   "nbconvert_exporter": "python",
   "pygments_lexer": "ipython3",
   "version": "3.6.3"
  }
 },
 "nbformat": 4,
 "nbformat_minor": 1
}
