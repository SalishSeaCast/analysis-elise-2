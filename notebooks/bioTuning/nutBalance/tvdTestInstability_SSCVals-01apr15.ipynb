{
 "cells": [
  {
   "cell_type": "code",
   "execution_count": 1,
   "metadata": {},
   "outputs": [],
   "source": [
    "import numpy as np\n",
    "from matplotlib import pyplot as plt\n",
    "\n",
    "%matplotlib inline"
   ]
  },
  {
   "cell_type": "code",
   "execution_count": 2,
   "metadata": {},
   "outputs": [],
   "source": [
    "#w=np.array([-.1,-.1,-.1,-.1,-.1, 0])\n",
    "#w=np.array([-1,-1,-1,-1,-1, 0])\n",
    "#c=np.array([  1,  1,  1,.01,100, 1e10])*1e-6\n",
    "e1e2t=214298.32535430687\n",
    "e3t=np.array([25.70331479, 26.28684983, 26.59728865, 26.75965336, \n",
    "              26.84381704, 26.88724213, 26.90959407, 26.92108493,\n",
    "              26.9269885,  26.93002054, 26.93157752, 26.93237697,])\n",
    "# step 2:\n",
    "c=np.array([0.20426293, 0.17224638, 0.15749323, 0.14595926,\n",
    "            0.1175629 , 0.09982128, 0.08699752, 0.07856428,\n",
    "            0.06596047, 0.04474809, 0.13201024, 0.        ])\n",
    "# step 0:\n",
    "#c=np.array([0.20331727, 0.16865452, 0.15772118, 0.14340848,\n",
    "#            0.11826674, 0.10116881, 0.08674008, 0.07820327,\n",
    "#            0.06499595, 0.04768646, 0.1204031 , 0.])\n",
    "w=-1*np.ones(np.shape(c))*2.8e-4\n",
    "w[-1]=0\n",
    "tmask=np.ones(np.shape(c))\n",
    "tmask[-1]=0"
   ]
  },
  {
   "cell_type": "code",
   "execution_count": 3,
   "metadata": {},
   "outputs": [
    {
     "data": {
      "text/plain": [
       "array([ 0.00000000e+00, -5.71936204e-05, -4.82289864e-05, -4.40981044e-05,\n",
       "       -4.08685928e-05, -3.29176120e-05, -2.79499584e-05, -2.43593056e-05,\n",
       "       -2.19979984e-05, -1.84689316e-05, -1.25294652e-05,  0.00000000e+00])"
      ]
     },
     "execution_count": 3,
     "metadata": {},
     "output_type": "execute_result"
    }
   ],
   "source": [
    "#1. bottom value zero\n",
    "zwz=np.zeros(np.shape(c))\n",
    "#2. upstream advection\n",
    "zwz[1:]=w[1:]*c[:-1]\n",
    "zwz"
   ]
  },
  {
   "cell_type": "code",
   "execution_count": 4,
   "metadata": {},
   "outputs": [],
   "source": [
    "dt=40*2\n"
   ]
  },
  {
   "cell_type": "code",
   "execution_count": 5,
   "metadata": {},
   "outputs": [
    {
     "data": {
      "text/plain": [
       "array([0.20426293, 0.17224638, 0.15749323, 0.14595926, 0.1175629 ,\n",
       "       0.09982128, 0.08699752, 0.07856428, 0.06596047, 0.04474809,\n",
       "       0.13201024, 0.        ])"
      ]
     },
     "execution_count": 5,
     "metadata": {},
     "output_type": "execute_result"
    }
   ],
   "source": [
    "ztra=np.zeros(np.shape(c))\n",
    "ztra[:-1]=-1*(zwz[:-1]-zwz[1:])/e1e2t\n",
    "delc_upwind=ztra.copy() # ** added to tra at this step\n",
    "zwi=(e3t*c+dt*ztra)/e3t*tmask # set fse3t's to 1\n",
    "zwi # upwind increases low point from .01 to .0298 in one time step"
   ]
  },
  {
   "cell_type": "code",
   "execution_count": 6,
   "metadata": {},
   "outputs": [],
   "source": [
    "# 3. antidiffusive flux\n",
    "zwz_sav=zwz.copy()"
   ]
  },
  {
   "cell_type": "code",
   "execution_count": 7,
   "metadata": {},
   "outputs": [],
   "source": [
    "jnzts=20 # same as SSC"
   ]
  },
  {
   "cell_type": "code",
   "execution_count": 8,
   "metadata": {},
   "outputs": [],
   "source": [
    "cb=c.copy()"
   ]
  },
  {
   "cell_type": "code",
   "execution_count": 9,
   "metadata": {},
   "outputs": [],
   "source": [
    "ca=np.zeros(np.shape(c))\n",
    "zwzts=np.zeros(np.shape(c))"
   ]
  },
  {
   "cell_type": "code",
   "execution_count": 10,
   "metadata": {},
   "outputs": [
    {
     "name": "stdout",
     "output_type": "stream",
     "text": [
      "1\n"
     ]
    }
   ],
   "source": [
    "for jl in range(0,jnzts):\n",
    "    if jl==0:\n",
    "        jtaken=np.mod(jnzts+1,2)\n",
    "        print(jtaken)\n",
    "        zts=dt/jnzts # z_rzts=1/jnzts\n",
    "        cn=c.copy() # this makes first step euler\n",
    "    elif jl==1:\n",
    "        zts=2*dt/jnzts\n",
    "    zwz[1:]=.5*w[1:]*(cn[1:]+cn[:-1])\n",
    "    if jtaken==0:\n",
    "        zwzts[1:]=zwzts[1:]+zwz[1:]*zts\n",
    "    jtaken=np.mod(jtaken+1,2) # switch on/off\n",
    "    \n",
    "    zbtr=1/(e1e2t*e3t)\n",
    "    ztra[1:-1]=-1*zbtr[1:-1]*(zwz[1:-1]-zwz[2:])\n",
    "    ca[1:-1]=cb[1:-1]+zts*ztra[1:-1] # step forward\n",
    "    # swap for next step:\n",
    "    cb=cn.copy()\n",
    "    cn=ca.copy()\n",
    "    ca=np.zeros(np.shape(c))"
   ]
  },
  {
   "cell_type": "code",
   "execution_count": 11,
   "metadata": {},
   "outputs": [
    {
     "data": {
      "text/plain": [
       "array([0.        , 0.17224638, 0.15749323, 0.14595926, 0.1175629 ,\n",
       "       0.09982128, 0.08699752, 0.07856428, 0.06596047, 0.04474809,\n",
       "       0.13201024, 0.        ])"
      ]
     },
     "execution_count": 11,
     "metadata": {},
     "output_type": "execute_result"
    }
   ],
   "source": [
    "cn"
   ]
  },
  {
   "cell_type": "code",
   "execution_count": 12,
   "metadata": {},
   "outputs": [
    {
     "data": {
      "text/plain": [
       "array([ 0.        , -0.00192916, -0.00369308, -0.00339867, -0.00295145,\n",
       "       -0.0024347 , -0.00209237, -0.00185429, -0.00161868, -0.00123994,\n",
       "       -0.00197969,  0.        ])"
      ]
     },
     "execution_count": 12,
     "metadata": {},
     "output_type": "execute_result"
    }
   ],
   "source": [
    "zwzts"
   ]
  },
  {
   "cell_type": "code",
   "execution_count": 13,
   "metadata": {},
   "outputs": [],
   "source": [
    "# anti-diffusive vertical flux using average flux from sub-timestepping\n",
    "zwz=zwzts/dt-zwz_sav"
   ]
  },
  {
   "cell_type": "code",
   "execution_count": 14,
   "metadata": {},
   "outputs": [
    {
     "data": {
      "text/plain": [
       "array([ 0.00000000e+00,  3.30791272e-05,  2.06544102e-06,  1.61475579e-06,\n",
       "        3.97549039e-06,  2.48382679e-06,  1.79532639e-06,  1.18065359e-06,\n",
       "        1.76453339e-06,  2.96973320e-06, -1.22167010e-05,  0.00000000e+00])"
      ]
     },
     "execution_count": 14,
     "metadata": {},
     "output_type": "execute_result"
    }
   ],
   "source": [
    "zwz"
   ]
  },
  {
   "cell_type": "code",
   "execution_count": 15,
   "metadata": {},
   "outputs": [],
   "source": [
    "zbig=1e40\n",
    "zrtrn=1e-15"
   ]
  },
  {
   "cell_type": "code",
   "execution_count": 16,
   "metadata": {},
   "outputs": [
    {
     "data": {
      "text/plain": [
       "array([ 2.04262930e-01,  1.72246380e-01,  1.57493230e-01,  1.45959260e-01,\n",
       "        1.17562900e-01,  9.98212801e-02,  8.69975200e-02,  7.85642800e-02,\n",
       "        6.59604700e-02,  4.47480901e-02,  1.32010240e-01, -1.00000000e+40])"
      ]
     },
     "execution_count": 16,
     "metadata": {},
     "output_type": "execute_result"
    }
   ],
   "source": [
    "# 4. nonosc(pbef=ptb,zwx,zwy,pcc=zwz,paft=zwi,p2dt)\n",
    "# zwi is after value based on upwind\n",
    "pbef=c.copy()\n",
    "paft=zwi.copy()\n",
    "# search local extrema\n",
    "zbup=np.maximum(pbef*tmask-zbig*(1-tmask),paft*tmask-zbig*(1-tmask))\n",
    "zbup"
   ]
  },
  {
   "cell_type": "code",
   "execution_count": 17,
   "metadata": {},
   "outputs": [
    {
     "data": {
      "text/plain": [
       "array([2.04262929e-01, 1.72246380e-01, 1.57493230e-01, 1.45959260e-01,\n",
       "       1.17562900e-01, 9.98212800e-02, 8.69975200e-02, 7.85642800e-02,\n",
       "       6.59604700e-02, 4.47480900e-02, 1.32010240e-01, 1.00000000e+40])"
      ]
     },
     "execution_count": 17,
     "metadata": {},
     "output_type": "execute_result"
    }
   ],
   "source": [
    "zbdo=np.minimum(pbef*tmask+zbig*(1-tmask),paft*tmask+zbig*(1-tmask))\n",
    "zbdo"
   ]
  },
  {
   "cell_type": "code",
   "execution_count": 18,
   "metadata": {},
   "outputs": [
    {
     "data": {
      "text/plain": [
       "array([0.20426293, 0.20426293, 0.17224638, 0.15749323, 0.14595926,\n",
       "       0.1175629 , 0.09982128, 0.08699752, 0.07856428, 0.13201024,\n",
       "       0.13201024, 0.        ])"
      ]
     },
     "execution_count": 18,
     "metadata": {},
     "output_type": "execute_result"
    }
   ],
   "source": [
    "zup=np.zeros(np.shape(c))\n",
    "zdo=zup.copy()\n",
    "zup[0]=np.maximum(zbup[0],zbup[1])\n",
    "zup[1:-1]=np.maximum(np.maximum(zbup[:-2],zbup[1:-1]),zbup[2:])\n",
    "#zup[-1]=np.maximum(zbup[-2],zbup[-1]) this is never calculated\n",
    "zup"
   ]
  },
  {
   "cell_type": "code",
   "execution_count": 19,
   "metadata": {},
   "outputs": [
    {
     "data": {
      "text/plain": [
       "array([0.17224638, 0.15749323, 0.14595926, 0.1175629 , 0.09982128,\n",
       "       0.08699752, 0.07856428, 0.06596047, 0.04474809, 0.04474809,\n",
       "       0.04474809, 0.        ])"
      ]
     },
     "execution_count": 19,
     "metadata": {},
     "output_type": "execute_result"
    }
   ],
   "source": [
    "zdo[0]=np.minimum(zbdo[0],zbdo[1])\n",
    "zdo[1:-1]=np.minimum(np.minimum(zbdo[:-2],zbdo[1:-1]),zbdo[2:])\n",
    "#zdo[-1]=np.minimum(zbdo[-2],zbdo[-1])\n",
    "zdo"
   ]
  },
  {
   "cell_type": "code",
   "execution_count": 20,
   "metadata": {},
   "outputs": [
    {
     "data": {
      "text/plain": [
       "(12, 0)"
      ]
     },
     "execution_count": 20,
     "metadata": {},
     "output_type": "execute_result"
    },
    {
     "data": {
      "image/png": "[encoded data removed]",
      "text/plain": [
       "<Figure size 864x432 with 2 Axes>"
      ]
     },
     "metadata": {
      "needs_background": "light"
     },
     "output_type": "display_data"
    }
   ],
   "source": [
    "fig,ax=plt.subplots(1,2,figsize=(12,6))\n",
    "ax[0].plot(zup,np.arange(0,len(zbup)),'k*')\n",
    "ax[0].set_title('zup')\n",
    "ax[0].set_ylim(12,0)\n",
    "ax[1].plot(zdo,np.arange(0,len(zdo)),'k*')\n",
    "ax[1].set_title('zdo')\n",
    "ax[1].set_ylim(12,0)"
   ]
  },
  {
   "cell_type": "code",
   "execution_count": 21,
   "metadata": {},
   "outputs": [],
   "source": [
    "zeros=np.zeros(np.shape(c))\n",
    "pcc=zwz.copy()\n",
    "zpos=np.zeros(np.shape(c))\n",
    "zneg=zpos.copy()\n",
    "zpos[:-1]=np.maximum(zeros[1:],pcc[1:])-np.minimum(zeros[:-1],pcc[:-1])\n",
    "zneg[:-1]=np.maximum(zeros[:-1],pcc[:-1])-np.minimum(zeros[1:],pcc[1:])\n"
   ]
  },
  {
   "cell_type": "code",
   "execution_count": 22,
   "metadata": {},
   "outputs": [
    {
     "data": {
      "text/plain": [
       "array([3.30791272e-05, 2.06544102e-06, 1.61475579e-06, 3.97549039e-06,\n",
       "       2.48382679e-06, 1.79532639e-06, 1.18065359e-06, 1.76453339e-06,\n",
       "       2.96973320e-06, 0.00000000e+00, 1.22167010e-05, 0.00000000e+00])"
      ]
     },
     "execution_count": 22,
     "metadata": {},
     "output_type": "execute_result"
    }
   ],
   "source": [
    "zpos"
   ]
  },
  {
   "cell_type": "code",
   "execution_count": 23,
   "metadata": {},
   "outputs": [
    {
     "data": {
      "text/plain": [
       "array([0.00000000e+00, 3.30791272e-05, 2.06544102e-06, 1.61475579e-06,\n",
       "       3.97549039e-06, 2.48382679e-06, 1.79532639e-06, 1.18065359e-06,\n",
       "       1.76453339e-06, 1.51864342e-05, 0.00000000e+00, 0.00000000e+00])"
      ]
     },
     "execution_count": 23,
     "metadata": {},
     "output_type": "execute_result"
    }
   ],
   "source": [
    "zneg"
   ]
  },
  {
   "cell_type": "code",
   "execution_count": 24,
   "metadata": {},
   "outputs": [
    {
     "data": {
      "text/plain": [
       "(12, 0)"
      ]
     },
     "execution_count": 24,
     "metadata": {},
     "output_type": "execute_result"
    },
    {
     "data": {
      "image/png": "[encoded data removed]",
      "text/plain": [
       "<Figure size 864x432 with 2 Axes>"
      ]
     },
     "metadata": {
      "needs_background": "light"
     },
     "output_type": "display_data"
    }
   ],
   "source": [
    "fig,ax=plt.subplots(1,2,figsize=(12,6))\n",
    "ax[0].plot(zpos,np.arange(0,len(zpos)),'k*')\n",
    "ax[0].set_title('zpos')\n",
    "ax[0].set_ylim(12,0)\n",
    "ax[1].plot(zneg,np.arange(0,len(zneg)),'k*')\n",
    "ax[1].set_title('zneg')\n",
    "ax[1].set_ylim(12,0)"
   ]
  },
  {
   "cell_type": "code",
   "execution_count": 25,
   "metadata": {},
   "outputs": [],
   "source": [
    "#! up & down beta terms\n",
    "zbt = e1e2t*e3t / dt\n",
    "zbetup = ( zup - paft) / ( zpos + zrtrn ) * zbt\n",
    "zbetdo = ( paft - zdo ) / ( zneg + zrtrn ) * zbt\n"
   ]
  },
  {
   "cell_type": "code",
   "execution_count": 26,
   "metadata": {},
   "outputs": [
    {
     "data": {
      "text/plain": [
       "array([1.72899423e+00, 1.09151339e+09, 6.50944656e+08, 2.07968416e+08,\n",
       "       8.22080649e+08, 7.11745790e+08, 7.82940619e+08, 3.44656067e+08,\n",
       "       3.06126543e+08, 6.29493695e+18, 0.00000000e+00, 0.00000000e+00])"
      ]
     },
     "execution_count": 26,
     "metadata": {},
     "output_type": "execute_result"
    }
   ],
   "source": [
    "zbetup"
   ]
  },
  {
   "cell_type": "code",
   "execution_count": 27,
   "metadata": {},
   "outputs": [
    {
     "data": {
      "text/plain": [
       "array([2.20441037e+18, 3.14049462e+07, 3.97861741e+08, 1.26056457e+09,\n",
       "       3.20904368e+08, 3.71851147e+08, 3.38600023e+08, 7.69840408e+08,\n",
       "       8.67113790e+08, 3.91103431e-01, 6.29530090e+18, 0.00000000e+00])"
      ]
     },
     "execution_count": 27,
     "metadata": {},
     "output_type": "execute_result"
    }
   ],
   "source": [
    "zbetdo"
   ]
  },
  {
   "cell_type": "code",
   "execution_count": 28,
   "metadata": {},
   "outputs": [
    {
     "data": {
      "text/plain": [
       "(12, 0)"
      ]
     },
     "execution_count": 28,
     "metadata": {},
     "output_type": "execute_result"
    },
    {
     "data": {
      "image/png": "[encoded data removed]",
      "text/plain": [
       "<Figure size 864x432 with 2 Axes>"
      ]
     },
     "metadata": {
      "needs_background": "light"
     },
     "output_type": "display_data"
    }
   ],
   "source": [
    "fig,ax=plt.subplots(1,2,figsize=(12,6))\n",
    "ax[0].plot(zbetup,np.arange(0,len(zbetup)),'k*')\n",
    "ax[0].set_title('zbetup')\n",
    "ax[0].set_ylim(12,0)\n",
    "ax[1].plot(zbetdo,np.arange(0,len(zbetdo)),'k*')\n",
    "ax[1].set_title('zbetdo')\n",
    "ax[1].set_ylim(12,0)"
   ]
  },
  {
   "cell_type": "code",
   "execution_count": 29,
   "metadata": {},
   "outputs": [],
   "source": [
    "#! monotonic flux in the k direction, i.e. pcc\n",
    "ones=np.ones(np.shape(c))\n",
    "za=zeros.copy()\n",
    "zb=zeros.copy()\n",
    "zc=zeros.copy()\n",
    "za[:-1] = np.minimum(np.minimum( ones[1:], zbetdo[1:]), zbetup[:-1] )\n",
    "zb[:-1] = np.minimum(np.minimum( ones[1:], zbetup[1:]), zbetdo[:-1] )\n",
    "zc[:-1]=np.where(pcc[1:]<0,0,1)\n",
    "#zc[:-1]=.5+np.abs(pcc[1:])/pcc[1:]*.5\n",
    "#zc =       ( 0.5  + SIGN( 0.5 , pcc(ji,jj,jk+1) ) )\n",
    "# SIGN(A,B) returns value of A with sign of B\n",
    "pcc[1:]=pcc[1:]*(zc[:-1]*za[:-1]+(1-zc[:-1])*zb[:-1])\n",
    "#pcc(ji,jj,jk+1) = pcc(ji,jj,jk+1) * ( zc * za + ( 1._wp - zc) * zb )"
   ]
  },
  {
   "cell_type": "code",
   "execution_count": 30,
   "metadata": {},
   "outputs": [
    {
     "data": {
      "text/plain": [
       "array([ 0.00000000e+00,  3.30791272e-05,  2.06544102e-06,  1.61475579e-06,\n",
       "        3.97549039e-06,  2.48382679e-06,  1.79532639e-06,  1.18065359e-06,\n",
       "        1.76453339e-06,  1.16147284e-06, -0.00000000e+00,  0.00000000e+00])"
      ]
     },
     "execution_count": 30,
     "metadata": {},
     "output_type": "execute_result"
    }
   ],
   "source": [
    "pcc"
   ]
  },
  {
   "cell_type": "code",
   "execution_count": 31,
   "metadata": {},
   "outputs": [
    {
     "data": {
      "text/plain": [
       "array([ 0.00000000e+00,  3.30791272e-05,  2.06544102e-06,  1.61475579e-06,\n",
       "        3.97549039e-06,  2.48382679e-06,  1.79532639e-06,  1.18065359e-06,\n",
       "        1.76453339e-06,  2.96973320e-06, -1.22167010e-05,  0.00000000e+00])"
      ]
     },
     "execution_count": 31,
     "metadata": {},
     "output_type": "execute_result"
    }
   ],
   "source": [
    "# before nonosc, zwz contains difference between centered substepped leapfrog and upwind:\n",
    "zwz"
   ]
  },
  {
   "cell_type": "code",
   "execution_count": 32,
   "metadata": {},
   "outputs": [],
   "source": [
    "# after nonosc, zwz (pcc) is adjusted so that only one element changes from upwind "
   ]
  },
  {
   "cell_type": "code",
   "execution_count": 33,
   "metadata": {},
   "outputs": [],
   "source": [
    "# 5. final trend with corrected fluxes\n",
    "ztra=0*ztra\n",
    "ztra2=ztra.copy()\n",
    "ztra[:-1]=-1*zbtr[:-1]*(pcc[:-1]-pcc[1:])\n",
    "ztra2[:-1]=-1*zbtr[:-1]*(zwz[:-1]-zwz[1:])"
   ]
  },
  {
   "cell_type": "code",
   "execution_count": 34,
   "metadata": {},
   "outputs": [
    {
     "data": {
      "text/plain": [
       "array([ 6.00545794e-12, -5.50549113e-12, -7.90709900e-14,  4.11668753e-13,\n",
       "       -2.59303181e-13, -1.19492091e-13, -1.06590395e-13,  1.01207364e-13,\n",
       "       -1.04509160e-13, -2.01258207e-13,  0.00000000e+00,  0.00000000e+00])"
      ]
     },
     "execution_count": 34,
     "metadata": {},
     "output_type": "execute_result"
    }
   ],
   "source": [
    "# total change is ztra+delc, ztra is after nonosc adjustment\n",
    "ztra"
   ]
  },
  {
   "cell_type": "code",
   "execution_count": 35,
   "metadata": {},
   "outputs": [
    {
     "data": {
      "text/plain": [
       "array([ 6.00545794e-12, -5.50549113e-12, -7.90709900e-14,  4.11668753e-13,\n",
       "       -2.59303181e-13, -1.19492091e-13, -1.06590395e-13,  1.01207364e-13,\n",
       "        2.08858663e-13, -2.63148168e-12,  2.11676855e-12,  0.00000000e+00])"
      ]
     },
     "execution_count": 35,
     "metadata": {},
     "output_type": "execute_result"
    }
   ],
   "source": [
    "ztra2 # this is before nonosc version"
   ]
  },
  {
   "cell_type": "code",
   "execution_count": 36,
   "metadata": {},
   "outputs": [
    {
     "data": {
      "text/plain": [
       "array([-2.66887855e-10,  4.18324968e-11,  1.92763149e-11,  1.50701672e-11,\n",
       "        3.71023935e-11,  2.31810192e-11,  1.67553937e-11,  1.10187851e-11,\n",
       "        1.64680092e-11,  2.77158787e-11,  5.84673967e-11,  0.00000000e+00])"
      ]
     },
     "execution_count": 36,
     "metadata": {},
     "output_type": "execute_result"
    }
   ],
   "source": [
    "delc_upwind"
   ]
  },
  {
   "cell_type": "code",
   "execution_count": 37,
   "metadata": {},
   "outputs": [
    {
     "data": {
      "text/plain": [
       "array([-2.60882397e-10,  3.63270056e-11,  1.91972439e-11,  1.54818360e-11,\n",
       "        3.68430903e-11,  2.30615271e-11,  1.66488033e-11,  1.11199925e-11,\n",
       "        1.63635001e-11,  2.75146205e-11,  5.84673967e-11,  0.00000000e+00])"
      ]
     },
     "execution_count": 37,
     "metadata": {},
     "output_type": "execute_result"
    }
   ],
   "source": [
    "delc_upwind+ztra"
   ]
  },
  {
   "cell_type": "code",
   "execution_count": 38,
   "metadata": {},
   "outputs": [
    {
     "data": {
      "text/plain": [
       "array([-2.60882397e-10,  3.63270056e-11,  1.91972439e-11,  1.54818360e-11,\n",
       "        3.68430903e-11,  2.30615271e-11,  1.66488033e-11,  1.11199925e-11,\n",
       "        1.66768679e-11,  2.50843971e-11,  6.05841653e-11,  0.00000000e+00])"
      ]
     },
     "execution_count": 38,
     "metadata": {},
     "output_type": "execute_result"
    }
   ],
   "source": [
    "delc_upwind+ztra2"
   ]
  },
  {
   "cell_type": "code",
   "execution_count": 39,
   "metadata": {},
   "outputs": [
    {
     "data": {
      "text/plain": [
       "array([0.20426293, 0.17224638, 0.15749323, 0.14595926, 0.1175629 ,\n",
       "       0.09982128, 0.08699752, 0.07856428, 0.06596047, 0.04474809,\n",
       "       0.13201024, 0.        ])"
      ]
     },
     "execution_count": 39,
     "metadata": {},
     "output_type": "execute_result"
    }
   ],
   "source": [
    "c"
   ]
  },
  {
   "cell_type": "code",
   "execution_count": null,
   "metadata": {},
   "outputs": [],
   "source": []
  }
 ],
 "metadata": {
  "kernelspec": {
   "display_name": "Python 3",
   "language": "python",
   "name": "python3"
  },
  "language_info": {
   "codemirror_mode": {
    "name": "ipython",
    "version": 3
   },
   "file_extension": ".py",
   "mimetype": "text/x-python",
   "name": "python",
   "nbconvert_exporter": "python",
   "pygments_lexer": "ipython3",
   "version": "3.7.4"
  }
 },
 "nbformat": 4,
 "nbformat_minor": 4
}
