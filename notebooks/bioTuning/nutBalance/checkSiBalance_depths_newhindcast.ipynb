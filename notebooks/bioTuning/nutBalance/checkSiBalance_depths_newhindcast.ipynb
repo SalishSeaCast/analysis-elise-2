{
 "cells": [
  {
   "cell_type": "code",
   "execution_count": 1,
   "metadata": {
    "collapsed": true
   },
   "outputs": [],
   "source": [
    "import netCDF4 as nc\n",
    "import datetime as dt\n",
    "import subprocess\n",
    "import requests\n",
    "import matplotlib.pyplot as plt\n",
    "import cmocean\n",
    "import numpy as np\n",
    "import os\n",
    "import glob\n",
    "import dateutil as dutil\n",
    "from salishsea_tools import viz_tools\n",
    "%matplotlib inline"
   ]
  },
  {
   "cell_type": "code",
   "execution_count": 2,
   "metadata": {
    "collapsed": false
   },
   "outputs": [],
   "source": [
    "with nc.Dataset('/ocean/eolson/MEOPAR/NEMO-forcing/grid/mesh_mask201702_noLPE.nc') as fm:\n",
    "    tmask=np.copy(fm.variables['tmask'])\n",
    "    umask=np.copy(fm.variables['umask'])\n",
    "    vmask=np.copy(fm.variables['vmask'])\n",
    "    navlon=np.copy(fm.variables['nav_lon'])\n",
    "    navlat=np.copy(fm.variables['nav_lat'])\n",
    "    dept=np.copy(fm.variables['gdept_1d'])\n",
    "    e3t_0=np.copy(fm.variables['e3t_0'])\n",
    "    e3u_0=np.copy(fm.variables['e3u_0'])\n",
    "    e3v_0=np.copy(fm.variables['e3v_0'])\n",
    "    e1t=np.copy(fm.variables['e1t'])\n",
    "    e2t=np.copy(fm.variables['e2t'])\n",
    "    e1v=np.copy(fm.variables['e1v'])\n",
    "    e2u=np.copy(fm.variables['e2u'])\n",
    "    A=fm.variables['e1t'][0,:,:]*fm.variables['e2t'][0,:,:]*tmask[0,0,:,:]"
   ]
  },
  {
   "cell_type": "code",
   "execution_count": 3,
   "metadata": {
    "collapsed": false
   },
   "outputs": [],
   "source": [
    "t0=dt.datetime(2014,12,1) # 1st start date of run\n",
    "#te=dt.datetime(2016,12,1)# last start date of runfnum=18\n",
    "stm=np.shape(tmask)\n",
    "SiN=2.0\n",
    "#nlen=36*2\n",
    "nlen=53\n",
    "dlist=[t0+dt.timedelta(days=ii*10) for ii in range(0,nlen)]"
   ]
  },
  {
   "cell_type": "code",
   "execution_count": 4,
   "metadata": {
    "collapsed": true
   },
   "outputs": [],
   "source": [
    "#sdir0='/results/SalishSea/nowcast-green/'\n",
    "sdir1='/results/SalishSea/hindcast/'\n",
    "#sdir3='/data/eolson/MEOPAR/SS36runs/CedarRuns/spring2015_HCMZ/'"
   ]
  },
  {
   "cell_type": "code",
   "execution_count": 5,
   "metadata": {
    "collapsed": true
   },
   "outputs": [],
   "source": [
    "tmaskC=np.copy(tmask)\n",
    "tmaskC[:,:,370:490,:12]=0\n",
    "tmaskC[:,:,887:,30:70]=0"
   ]
  },
  {
   "cell_type": "code",
   "execution_count": 6,
   "metadata": {
    "collapsed": false
   },
   "outputs": [
    {
     "name": "stdout",
     "output_type": "stream",
     "text": [
      "/results/SalishSea/hindcast/01dec14/SalishSea_1h_20141201_20141201_ptrc_T.nc\n",
      "/results/SalishSea/hindcast/11dec14/SalishSea_1h_20141211_20141211_ptrc_T.nc\n",
      "/results/SalishSea/hindcast/21dec14/SalishSea_1h_20141221_20141221_ptrc_T.nc\n",
      "/results/SalishSea/hindcast/31dec14/SalishSea_1h_20141231_20141231_ptrc_T.nc\n",
      "/results/SalishSea/hindcast/10jan15/SalishSea_1h_20150110_20150110_ptrc_T.nc\n",
      "/results/SalishSea/hindcast/20jan15/SalishSea_1h_20150120_20150120_ptrc_T.nc\n",
      "/results/SalishSea/hindcast/30jan15/SalishSea_1h_20150130_20150130_ptrc_T.nc\n",
      "/results/SalishSea/hindcast/09feb15/SalishSea_1h_20150209_20150209_ptrc_T.nc\n",
      "/results/SalishSea/hindcast/19feb15/SalishSea_1h_20150219_20150219_ptrc_T.nc\n",
      "/results/SalishSea/hindcast/01mar15/SalishSea_1h_20150301_20150301_ptrc_T.nc\n",
      "/results/SalishSea/hindcast/11mar15/SalishSea_1h_20150311_20150311_ptrc_T.nc\n",
      "/results/SalishSea/hindcast/21mar15/SalishSea_1h_20150321_20150321_ptrc_T.nc\n",
      "/results/SalishSea/hindcast/31mar15/SalishSea_1h_20150331_20150331_ptrc_T.nc\n",
      "/results/SalishSea/hindcast/10apr15/SalishSea_1h_20150410_20150410_ptrc_T.nc\n",
      "/results/SalishSea/hindcast/20apr15/SalishSea_1h_20150420_20150420_ptrc_T.nc\n",
      "/results/SalishSea/hindcast/30apr15/SalishSea_1h_20150430_20150430_ptrc_T.nc\n",
      "/results/SalishSea/hindcast/10may15/SalishSea_1h_20150510_20150510_ptrc_T.nc\n",
      "/results/SalishSea/hindcast/20may15/SalishSea_1h_20150520_20150520_ptrc_T.nc\n",
      "/results/SalishSea/hindcast/30may15/SalishSea_1h_20150530_20150530_ptrc_T.nc\n",
      "/results/SalishSea/hindcast/09jun15/SalishSea_1h_20150609_20150609_ptrc_T.nc\n",
      "/results/SalishSea/hindcast/19jun15/SalishSea_1h_20150619_20150619_ptrc_T.nc\n",
      "/results/SalishSea/hindcast/29jun15/SalishSea_1h_20150629_20150629_ptrc_T.nc\n",
      "/results/SalishSea/hindcast/09jul15/SalishSea_1h_20150709_20150709_ptrc_T.nc\n",
      "/results/SalishSea/hindcast/19jul15/SalishSea_1h_20150719_20150719_ptrc_T.nc\n",
      "/results/SalishSea/hindcast/29jul15/SalishSea_1h_20150729_20150729_ptrc_T.nc\n",
      "/results/SalishSea/hindcast/08aug15/SalishSea_1h_20150808_20150808_ptrc_T.nc\n",
      "/results/SalishSea/hindcast/18aug15/SalishSea_1h_20150818_20150818_ptrc_T.nc\n",
      "/results/SalishSea/hindcast/28aug15/SalishSea_1h_20150828_20150828_ptrc_T.nc\n",
      "/results/SalishSea/hindcast/07sep15/SalishSea_1h_20150907_20150907_ptrc_T.nc\n",
      "/results/SalishSea/hindcast/17sep15/SalishSea_1h_20150917_20150917_ptrc_T.nc\n",
      "/results/SalishSea/hindcast/27sep15/SalishSea_1h_20150927_20150927_ptrc_T.nc\n",
      "/results/SalishSea/hindcast/07oct15/SalishSea_1h_20151007_20151007_ptrc_T.nc\n",
      "/results/SalishSea/hindcast/17oct15/SalishSea_1h_20151017_20151017_ptrc_T.nc\n",
      "/results/SalishSea/hindcast/27oct15/SalishSea_1h_20151027_20151027_ptrc_T.nc\n",
      "/results/SalishSea/hindcast/06nov15/SalishSea_1h_20151106_20151106_ptrc_T.nc\n",
      "/results/SalishSea/hindcast/16nov15/SalishSea_1h_20151116_20151116_ptrc_T.nc\n",
      "/results/SalishSea/hindcast/26nov15/SalishSea_1h_20151126_20151126_ptrc_T.nc\n",
      "/results/SalishSea/hindcast/06dec15/SalishSea_1h_20151206_20151206_ptrc_T.nc\n",
      "/results/SalishSea/hindcast/16dec15/SalishSea_1h_20151216_20151216_ptrc_T.nc\n",
      "/results/SalishSea/hindcast/26dec15/SalishSea_1h_20151226_20151226_ptrc_T.nc\n",
      "/results/SalishSea/hindcast/05jan16/SalishSea_1h_20160105_20160105_ptrc_T.nc\n",
      "/results/SalishSea/hindcast/15jan16/SalishSea_1h_20160115_20160115_ptrc_T.nc\n",
      "/results/SalishSea/hindcast/25jan16/SalishSea_1h_20160125_20160125_ptrc_T.nc\n",
      "/results/SalishSea/hindcast/04feb16/SalishSea_1h_20160204_20160204_ptrc_T.nc\n",
      "/results/SalishSea/hindcast/14feb16/SalishSea_1h_20160214_20160214_ptrc_T.nc\n",
      "/results/SalishSea/hindcast/24feb16/SalishSea_1h_20160224_20160224_ptrc_T.nc\n",
      "/results/SalishSea/hindcast/05mar16/SalishSea_1h_20160305_20160305_ptrc_T.nc\n",
      "/results/SalishSea/hindcast/15mar16/SalishSea_1h_20160315_20160315_ptrc_T.nc\n",
      "/results/SalishSea/hindcast/25mar16/SalishSea_1h_20160325_20160325_ptrc_T.nc\n",
      "/results/SalishSea/hindcast/04apr16/SalishSea_1h_20160404_20160404_ptrc_T.nc\n",
      "/results/SalishSea/hindcast/14apr16/SalishSea_1h_20160414_20160414_ptrc_T.nc\n",
      "/results/SalishSea/hindcast/24apr16/SalishSea_1h_20160424_20160424_ptrc_T.nc\n",
      "/results/SalishSea/hindcast/04may16/SalishSea_1h_20160504_20160504_ptrc_T.nc\n"
     ]
    }
   ],
   "source": [
    "tlist=dlist\n",
    "SiGlobalTot=dict()\n",
    "SiTot=dict()\n",
    "BSiTot=dict()\n",
    "DiatTot=dict()\n",
    "changeSiGlobalTot=dict()\n",
    "for idir in (sdir1,):\n",
    "    fformat1='%d%b%y/'\n",
    "    if idir.startswith('/data/eolson/MEOPAR/SS36runs/CedarRuns/'):\n",
    "        fformatT='SalishSea_1h_*_ptrc_T_%Y%m%d-*.nc'\n",
    "        fformatP='SalishSea_1h_*_ptrc_T_%Y%m%d-*.nc'\n",
    "    #elif idir==sdir0:\n",
    "    #    fformatT='SalishSea_1h_%Y%m%d_%Y%m%d_ptrc_T.nc'\n",
    "    #    fformatP='SalishSea_1h_%Y%m%d_%Y%m%d_grid_T.nc'\n",
    "    elif idir==sdir1:\n",
    "        fformatT='SalishSea_1h_%Y%m%d_%Y%m%d_ptrc_T.nc'\n",
    "        fformatP='SalishSea_1h_%Y%m%d_%Y%m%d_carp_T.nc'\n",
    "    sumSi=np.zeros((len(tlist),stm[1]))\n",
    "    sumBSi=np.zeros((len(tlist),stm[1]))\n",
    "    sumDiat=np.zeros((len(tlist),stm[1]))\n",
    "    ind=-1\n",
    "    for idt0 in tlist:\n",
    "        ind=ind+1\n",
    "        cdir=idt0.strftime(fformat1).lower()\n",
    "        iffT=idt0.strftime(fformatT)\n",
    "        iffP=idt0.strftime(fformatP)\n",
    "        if idir.startswith('/data/eolson/MEOPAR/SS36runs/CedarRuns/'):\n",
    "            sffT=idir+iffT\n",
    "            sffP=idir+iffP\n",
    "        elif idir.startswith('/results/'):\n",
    "            sffT=idir+cdir+iffT\n",
    "            sffP=idir+cdir+iffP\n",
    "        f=nc.Dataset(glob.glob(sffT)[0])\n",
    "        print(sffT)\n",
    "        fP=nc.Dataset(glob.glob(sffP)[0])\n",
    "        #if idir==sdir0:\n",
    "        #    e3t=np.expand_dims((1+fP.variables['sossheig'][0,:,:]/np.sum(e3t_0*tmask,1)),0)*e3t_0\n",
    "        if idir==sdir1:\n",
    "            e3t=fP.variables['e3t'][:2,:,:,:]\n",
    "        Vol=A*np.ones(np.shape(e3t))\n",
    "        sumSi[ind,:]=1e-3*np.sum(np.sum(tmaskC[0,:,:,:]*Vol[0,:,:,:]*f.variables['silicon'][0,:,:,:],2),1) #mmol/m3*m3*10^-3=mol\n",
    "        sumBSi[ind,:]=1e-3*np.sum(np.sum(tmaskC[0,:,:,:]*Vol[0,:,:,:]*f.variables['biogenic_silicon'][0,:,:,:],2),1) #mmol/m3*m3*10^-3=mol\n",
    "        sumDiat[ind,:]=SiN*1e-3*np.sum(np.sum(tmaskC[0,:,:,:]*Vol[0,:,:,:]*f.variables['diatoms'][0,:,:,:],2),1) #mmol/m3*m3*10^-3=mol\n",
    "        f.close()\n",
    "        fP.close()\n",
    "    SiGlobalTot[idir]=sumSi+sumBSi+sumDiat"
   ]
  },
  {
   "cell_type": "code",
   "execution_count": 7,
   "metadata": {
    "collapsed": true
   },
   "outputs": [],
   "source": [
    "siplot=SiGlobalTot[idir]-SiGlobalTot[idir][0,:]"
   ]
  },
  {
   "cell_type": "code",
   "execution_count": 8,
   "metadata": {
    "collapsed": false
   },
   "outputs": [
    {
     "data": {
      "text/plain": [
       "<matplotlib.colorbar.Colorbar at 0x7f61ea81d9e8>"
      ]
     },
     "execution_count": 8,
     "metadata": {},
     "output_type": "execute_result"
    },
    {
     "data": {
      "image/png": "[encoded data removed]",
      "text/plain": [
       "<matplotlib.figure.Figure at 0x7f61ea9d62e8>"
      ]
     },
     "metadata": {},
     "output_type": "display_data"
    }
   ],
   "source": [
    "cm1=cmocean.cm.balance\n",
    "#plt.pcolormesh([t0+dt.timedelta(10*ii) for ii in range(0,30)],dept[0,:],np.transpose(siplot[:30,:]),cmap=cm1,vmin=-1e9,vmax=1e9)\n",
    "plt.pcolormesh([t0+dt.timedelta(10*ii) for ii in range(0,nlen)],dept[0,:],np.transpose(siplot),cmap=cm1,vmin=-1e8,vmax=1e8)\n",
    "plt.ylim(400,0)\n",
    "plt.colorbar()"
   ]
  },
  {
   "cell_type": "markdown",
   "metadata": {},
   "source": [
    "## repeat for N"
   ]
  },
  {
   "cell_type": "code",
   "execution_count": 9,
   "metadata": {
    "collapsed": false
   },
   "outputs": [
    {
     "name": "stdout",
     "output_type": "stream",
     "text": [
      "/results/SalishSea/hindcast/01dec14/SalishSea_1h_20141201_20141201_ptrc_T.nc\n",
      "/results/SalishSea/hindcast/11dec14/SalishSea_1h_20141211_20141211_ptrc_T.nc\n",
      "/results/SalishSea/hindcast/21dec14/SalishSea_1h_20141221_20141221_ptrc_T.nc\n",
      "/results/SalishSea/hindcast/31dec14/SalishSea_1h_20141231_20141231_ptrc_T.nc\n",
      "/results/SalishSea/hindcast/10jan15/SalishSea_1h_20150110_20150110_ptrc_T.nc\n",
      "/results/SalishSea/hindcast/20jan15/SalishSea_1h_20150120_20150120_ptrc_T.nc\n",
      "/results/SalishSea/hindcast/30jan15/SalishSea_1h_20150130_20150130_ptrc_T.nc\n",
      "/results/SalishSea/hindcast/09feb15/SalishSea_1h_20150209_20150209_ptrc_T.nc\n",
      "/results/SalishSea/hindcast/19feb15/SalishSea_1h_20150219_20150219_ptrc_T.nc\n",
      "/results/SalishSea/hindcast/01mar15/SalishSea_1h_20150301_20150301_ptrc_T.nc\n",
      "/results/SalishSea/hindcast/11mar15/SalishSea_1h_20150311_20150311_ptrc_T.nc\n",
      "/results/SalishSea/hindcast/21mar15/SalishSea_1h_20150321_20150321_ptrc_T.nc\n",
      "/results/SalishSea/hindcast/31mar15/SalishSea_1h_20150331_20150331_ptrc_T.nc\n",
      "/results/SalishSea/hindcast/10apr15/SalishSea_1h_20150410_20150410_ptrc_T.nc\n",
      "/results/SalishSea/hindcast/20apr15/SalishSea_1h_20150420_20150420_ptrc_T.nc\n",
      "/results/SalishSea/hindcast/30apr15/SalishSea_1h_20150430_20150430_ptrc_T.nc\n",
      "/results/SalishSea/hindcast/10may15/SalishSea_1h_20150510_20150510_ptrc_T.nc\n",
      "/results/SalishSea/hindcast/20may15/SalishSea_1h_20150520_20150520_ptrc_T.nc\n",
      "/results/SalishSea/hindcast/30may15/SalishSea_1h_20150530_20150530_ptrc_T.nc\n",
      "/results/SalishSea/hindcast/09jun15/SalishSea_1h_20150609_20150609_ptrc_T.nc\n",
      "/results/SalishSea/hindcast/19jun15/SalishSea_1h_20150619_20150619_ptrc_T.nc\n",
      "/results/SalishSea/hindcast/29jun15/SalishSea_1h_20150629_20150629_ptrc_T.nc\n",
      "/results/SalishSea/hindcast/09jul15/SalishSea_1h_20150709_20150709_ptrc_T.nc\n",
      "/results/SalishSea/hindcast/19jul15/SalishSea_1h_20150719_20150719_ptrc_T.nc\n",
      "/results/SalishSea/hindcast/29jul15/SalishSea_1h_20150729_20150729_ptrc_T.nc\n",
      "/results/SalishSea/hindcast/08aug15/SalishSea_1h_20150808_20150808_ptrc_T.nc\n",
      "/results/SalishSea/hindcast/18aug15/SalishSea_1h_20150818_20150818_ptrc_T.nc\n",
      "/results/SalishSea/hindcast/28aug15/SalishSea_1h_20150828_20150828_ptrc_T.nc\n",
      "/results/SalishSea/hindcast/07sep15/SalishSea_1h_20150907_20150907_ptrc_T.nc\n",
      "/results/SalishSea/hindcast/17sep15/SalishSea_1h_20150917_20150917_ptrc_T.nc\n",
      "/results/SalishSea/hindcast/27sep15/SalishSea_1h_20150927_20150927_ptrc_T.nc\n",
      "/results/SalishSea/hindcast/07oct15/SalishSea_1h_20151007_20151007_ptrc_T.nc\n",
      "/results/SalishSea/hindcast/17oct15/SalishSea_1h_20151017_20151017_ptrc_T.nc\n",
      "/results/SalishSea/hindcast/27oct15/SalishSea_1h_20151027_20151027_ptrc_T.nc\n",
      "/results/SalishSea/hindcast/06nov15/SalishSea_1h_20151106_20151106_ptrc_T.nc\n",
      "/results/SalishSea/hindcast/16nov15/SalishSea_1h_20151116_20151116_ptrc_T.nc\n",
      "/results/SalishSea/hindcast/26nov15/SalishSea_1h_20151126_20151126_ptrc_T.nc\n",
      "/results/SalishSea/hindcast/06dec15/SalishSea_1h_20151206_20151206_ptrc_T.nc\n",
      "/results/SalishSea/hindcast/16dec15/SalishSea_1h_20151216_20151216_ptrc_T.nc\n",
      "/results/SalishSea/hindcast/26dec15/SalishSea_1h_20151226_20151226_ptrc_T.nc\n",
      "/results/SalishSea/hindcast/05jan16/SalishSea_1h_20160105_20160105_ptrc_T.nc\n",
      "/results/SalishSea/hindcast/15jan16/SalishSea_1h_20160115_20160115_ptrc_T.nc\n",
      "/results/SalishSea/hindcast/25jan16/SalishSea_1h_20160125_20160125_ptrc_T.nc\n",
      "/results/SalishSea/hindcast/04feb16/SalishSea_1h_20160204_20160204_ptrc_T.nc\n",
      "/results/SalishSea/hindcast/14feb16/SalishSea_1h_20160214_20160214_ptrc_T.nc\n",
      "/results/SalishSea/hindcast/24feb16/SalishSea_1h_20160224_20160224_ptrc_T.nc\n",
      "/results/SalishSea/hindcast/05mar16/SalishSea_1h_20160305_20160305_ptrc_T.nc\n",
      "/results/SalishSea/hindcast/15mar16/SalishSea_1h_20160315_20160315_ptrc_T.nc\n",
      "/results/SalishSea/hindcast/25mar16/SalishSea_1h_20160325_20160325_ptrc_T.nc\n",
      "/results/SalishSea/hindcast/04apr16/SalishSea_1h_20160404_20160404_ptrc_T.nc\n",
      "/results/SalishSea/hindcast/14apr16/SalishSea_1h_20160414_20160414_ptrc_T.nc\n",
      "/results/SalishSea/hindcast/24apr16/SalishSea_1h_20160424_20160424_ptrc_T.nc\n",
      "/results/SalishSea/hindcast/04may16/SalishSea_1h_20160504_20160504_ptrc_T.nc\n"
     ]
    }
   ],
   "source": [
    "tlist=dlist\n",
    "NGlobalTot=dict()\n",
    "VolTot=dict()\n",
    "NO3Tot=dict()\n",
    "NH4Tot=dict()\n",
    "PONTot=dict()\n",
    "DONTot=dict()\n",
    "DiatTot=dict()\n",
    "MyriTot=dict()\n",
    "NanoTot=dict()\n",
    "MiZoTot=dict()\n",
    "changeNGlobalTot=dict()\n",
    "for idir in (sdir1,):\n",
    "    fformat1='%d%b%y/'\n",
    "    if idir.startswith('/data/eolson/MEOPAR/SS36runs/CedarRuns/'):\n",
    "        fformatT='SalishSea_1h_*_ptrc_T_%Y%m%d-*.nc'\n",
    "        fformatP='SalishSea_1h_*_ptrc_T_%Y%m%d-*.nc'\n",
    "    #elif idir==sdir0:\n",
    "    #    fformatT='SalishSea_1h_%Y%m%d_%Y%m%d_ptrc_T.nc'\n",
    "    #    fformatP='SalishSea_1h_%Y%m%d_%Y%m%d_grid_T.nc'\n",
    "    elif idir==sdir1:\n",
    "        fformatT='SalishSea_1h_%Y%m%d_%Y%m%d_ptrc_T.nc'\n",
    "        fformatP='SalishSea_1h_%Y%m%d_%Y%m%d_carp_T.nc'\n",
    "    sumNO3=np.zeros((len(tlist),stm[1]))\n",
    "    sumVol=np.zeros((len(tlist),stm[1]))\n",
    "    sumNH4=np.zeros((len(tlist),stm[1]))\n",
    "    sumPON=np.zeros((len(tlist),stm[1]))\n",
    "    sumDON=np.zeros((len(tlist),stm[1]))\n",
    "    sumDiat=np.zeros((len(tlist),stm[1]))\n",
    "    sumMyri=np.zeros((len(tlist),stm[1]))\n",
    "    sumNano=np.zeros((len(tlist),stm[1]))\n",
    "    sumMiZo=np.zeros((len(tlist),stm[1]))\n",
    "    ind=-1\n",
    "    for idt0 in tlist:\n",
    "        ind=ind+1\n",
    "        cdir=idt0.strftime(fformat1).lower()\n",
    "        iffT=idt0.strftime(fformatT)\n",
    "        iffP=idt0.strftime(fformatP)\n",
    "        if idir.startswith('/data/eolson/MEOPAR/SS36runs/CedarRuns/'):\n",
    "            sffT=idir+iffT\n",
    "            sffP=idir+iffP\n",
    "        elif idir.startswith('/results/'):\n",
    "            sffT=idir+cdir+iffT\n",
    "            sffP=idir+cdir+iffP\n",
    "        f=nc.Dataset(glob.glob(sffT)[0])\n",
    "        print(sffT)\n",
    "        fP=nc.Dataset(glob.glob(sffP)[0])\n",
    "        #if idir==sdir0:\n",
    "        #    e3t=np.expand_dims((1+fP.variables['sossheig'][0,:,:]/np.sum(e3t_0*tmask,1)),0)*e3t_0\n",
    "        if idir==sdir1:\n",
    "            e3t=fP.variables['e3t'][:2,:,:,:]\n",
    "        Vol=A*np.ones(np.shape(e3t))\n",
    "        sumVol[ind,:]=1e-3*np.sum(np.sum(tmaskC[0,:,:,:]*Vol[0,:,:,:],2),1) #mmol/m3*m3*10^-3=mol\n",
    "        sumNO3[ind,:]=1e-3*np.sum(np.sum(tmaskC[0,:,:,:]*Vol[0,:,:,:]*f.variables['nitrate'][0,:,:,:],2),1) #mmol/m3*m3*10^-3=mol\n",
    "        sumNH4[ind,:]=1e-3*np.sum(np.sum(tmaskC[0,:,:,:]*Vol[0,:,:,:]*f.variables['ammonium'][0,:,:,:],2),1) #mmol/m3*m3*10^-3=mol\n",
    "        sumPON[ind,:]=1e-3*np.sum(np.sum(tmaskC[0,:,:,:]*Vol[0,:,:,:]*f.variables['particulate_organic_nitrogen'][0,:,:,:],2),1) #mmol/m3*m3*10^-3=mol\n",
    "        sumDON[ind,:]=1e-3*np.sum(np.sum(tmaskC[0,:,:,:]*Vol[0,:,:,:]*f.variables['dissolved_organic_nitrogen'][0,:,:,:],2),1) #mmol/m3*m3*10^-3=mol\n",
    "        sumDiat[ind,:]=1e-3*np.sum(np.sum(tmaskC[0,:,:,:]*Vol[0,:,:,:]*f.variables['diatoms'][0,:,:,:],2),1) #mmol/m3*m3*10^-3=mol\n",
    "        sumMyri[ind,:]=1e-3*np.sum(np.sum(tmaskC[0,:,:,:]*Vol[0,:,:,:]*f.variables['ciliates'][0,:,:,:],2),1) #mmol/m3*m3*10^-3=mol\n",
    "        sumMiZo[ind,:]=1e-3*np.sum(np.sum(tmaskC[0,:,:,:]*Vol[0,:,:,:]*f.variables['microzooplankton'][0,:,:,:],2),1) #mmol/m3*m3*10^-3=mol\n",
    "        f.close()\n",
    "        fP.close()\n",
    "    NGlobalTot[idir]=sumNO3+sumNH4+sumPON+sumDON+sumDiat+sumMyri+sumNano+sumMiZo"
   ]
  },
  {
   "cell_type": "code",
   "execution_count": 10,
   "metadata": {
    "collapsed": false
   },
   "outputs": [],
   "source": [
    "Nplot=NGlobalTot[idir]-NGlobalTot[idir][0,:]"
   ]
  },
  {
   "cell_type": "code",
   "execution_count": 11,
   "metadata": {
    "collapsed": false
   },
   "outputs": [
    {
     "data": {
      "text/plain": [
       "<matplotlib.colorbar.Colorbar at 0x7f61d2b81438>"
      ]
     },
     "execution_count": 11,
     "metadata": {},
     "output_type": "execute_result"
    },
    {
     "data": {
      "image/png": "[encoded data removed]",
      "text/plain": [
       "<matplotlib.figure.Figure at 0x7f61ea7df668>"
      ]
     },
     "metadata": {},
     "output_type": "display_data"
    }
   ],
   "source": [
    "\n",
    "#plt.pcolormesh([t0+dt.timedelta(10*ii) for ii in range(0,30)],dept[0,:],np.transpose(siplot[:30,:]),cmap=cm1,vmin=-1e9,vmax=1e9)\n",
    "plt.pcolormesh([t0+dt.timedelta(10*ii) for ii in range(0,nlen)],dept[0,:],np.transpose(Nplot),cmap=cm1,vmin=-1e8,vmax=1e8)\n",
    "plt.ylim(400,0)\n",
    "plt.colorbar()"
   ]
  },
  {
   "cell_type": "code",
   "execution_count": null,
   "metadata": {
    "collapsed": true
   },
   "outputs": [],
   "source": []
  },
  {
   "cell_type": "code",
   "execution_count": null,
   "metadata": {
    "collapsed": true
   },
   "outputs": [],
   "source": []
  },
  {
   "cell_type": "code",
   "execution_count": null,
   "metadata": {
    "collapsed": true
   },
   "outputs": [],
   "source": []
  }
 ],
 "metadata": {
  "anaconda-cloud": {},
  "kernelspec": {
   "display_name": "Python [conda env:python36]",
   "language": "python",
   "name": "conda-env-python36-py"
  },
  "language_info": {
   "codemirror_mode": {
    "name": "ipython",
    "version": 3
   },
   "file_extension": ".py",
   "mimetype": "text/x-python",
   "name": "python",
   "nbconvert_exporter": "python",
   "pygments_lexer": "ipython3",
   "version": "3.6.3"
  }
 },
 "nbformat": 4,
 "nbformat_minor": 1
}
