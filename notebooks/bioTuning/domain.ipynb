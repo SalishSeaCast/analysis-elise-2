{
 "cells": [
  {
   "cell_type": "markdown",
   "metadata": {},
   "source": [
    "## DFO Si Plots"
   ]
  },
  {
   "cell_type": "code",
   "execution_count": 1,
   "metadata": {
    "collapsed": false
   },
   "outputs": [],
   "source": [
    "import numpy as np\n",
    "import matplotlib.pyplot as plt\n",
    "import os\n",
    "import pandas as pd\n",
    "import netCDF4 as nc\n",
    "import datetime as dt\n",
    "from salishsea_tools import evaltools as et, viz_tools\n",
    "import gsw\n",
    "import matplotlib.gridspec as gridspec\n",
    "import matplotlib as mpl\n",
    "import matplotlib.dates as mdates\n",
    "import cmocean as cmo\n",
    "import scipy.interpolate as sinterp\n",
    "import pickle\n",
    "import cmocean\n",
    "\n",
    "mpl.rc('xtick', labelsize=12)\n",
    "mpl.rc('ytick', labelsize=12)\n",
    "mpl.rc('legend', fontsize=12)\n",
    "mpl.rc('axes', titlesize=12)\n",
    "mpl.rc('axes', labelsize=12)\n",
    "mpl.rc('figure', titlesize=12)\n",
    "mpl.rc('font', size=12)\n",
    "mpl.rc('text', usetex=True)\n",
    "mpl.rc('text.latex', preamble = ','.join(r'''\n",
    " \\usepackage{txfonts}\n",
    " \\usepackage{lmodern}\n",
    " '''.split()))\n",
    "mpl.rc('font', family='sans-serif', weight='normal', style='normal')\n",
    "%matplotlib inline"
   ]
  },
  {
   "cell_type": "code",
   "execution_count": 2,
   "metadata": {
    "collapsed": false
   },
   "outputs": [
    {
     "data": {
      "text/html": [
       "<div>\n",
       "<style scoped>\n",
       "    .dataframe tbody tr th:only-of-type {\n",
       "        vertical-align: middle;\n",
       "    }\n",
       "\n",
       "    .dataframe tbody tr th {\n",
       "        vertical-align: top;\n",
       "    }\n",
       "\n",
       "    .dataframe thead th {\n",
       "        text-align: right;\n",
       "    }\n",
       "</style>\n",
       "<table border=\"1\" class=\"dataframe\">\n",
       "  <thead>\n",
       "    <tr style=\"text-align: right;\">\n",
       "      <th></th>\n",
       "      <th>Year</th>\n",
       "      <th>Month</th>\n",
       "      <th>Day</th>\n",
       "      <th>Hour</th>\n",
       "      <th>Lat</th>\n",
       "      <th>Lon</th>\n",
       "      <th>Pressure</th>\n",
       "      <th>Depth</th>\n",
       "      <th>Ammonium</th>\n",
       "      <th>Ammonium_units</th>\n",
       "      <th>Chlorophyll_Extracted</th>\n",
       "      <th>Chlorophyll_Extracted_units</th>\n",
       "      <th>N</th>\n",
       "      <th>Si</th>\n",
       "      <th>Silicate_units</th>\n",
       "      <th>AbsSal</th>\n",
       "      <th>ConsT</th>\n",
       "      <th>Z</th>\n",
       "      <th>dtUTC</th>\n",
       "    </tr>\n",
       "  </thead>\n",
       "  <tbody>\n",
       "    <tr>\n",
       "      <th>0</th>\n",
       "      <td>1982.0</td>\n",
       "      <td>7.0</td>\n",
       "      <td>16.0</td>\n",
       "      <td>1.35</td>\n",
       "      <td>49.25</td>\n",
       "      <td>-123.943</td>\n",
       "      <td>NaN</td>\n",
       "      <td>12.0</td>\n",
       "      <td>NaN</td>\n",
       "      <td>None</td>\n",
       "      <td>5.28</td>\n",
       "      <td>mg/m^3</td>\n",
       "      <td>6.6</td>\n",
       "      <td>13.6</td>\n",
       "      <td>umol/L</td>\n",
       "      <td>NaN</td>\n",
       "      <td>NaN</td>\n",
       "      <td>12.0</td>\n",
       "      <td>1982-07-16 01:21:00</td>\n",
       "    </tr>\n",
       "    <tr>\n",
       "      <th>1</th>\n",
       "      <td>1982.0</td>\n",
       "      <td>7.0</td>\n",
       "      <td>16.0</td>\n",
       "      <td>1.35</td>\n",
       "      <td>49.25</td>\n",
       "      <td>-123.943</td>\n",
       "      <td>NaN</td>\n",
       "      <td>21.5</td>\n",
       "      <td>NaN</td>\n",
       "      <td>None</td>\n",
       "      <td>0.61</td>\n",
       "      <td>mg/m^3</td>\n",
       "      <td>21.2</td>\n",
       "      <td>45.0</td>\n",
       "      <td>umol/L</td>\n",
       "      <td>NaN</td>\n",
       "      <td>NaN</td>\n",
       "      <td>21.5</td>\n",
       "      <td>1982-07-16 01:21:00</td>\n",
       "    </tr>\n",
       "    <tr>\n",
       "      <th>2</th>\n",
       "      <td>1982.0</td>\n",
       "      <td>7.0</td>\n",
       "      <td>16.0</td>\n",
       "      <td>1.35</td>\n",
       "      <td>49.25</td>\n",
       "      <td>-123.943</td>\n",
       "      <td>NaN</td>\n",
       "      <td>30.5</td>\n",
       "      <td>NaN</td>\n",
       "      <td>None</td>\n",
       "      <td>NaN</td>\n",
       "      <td>mg/m^3</td>\n",
       "      <td>23.5</td>\n",
       "      <td>47.4</td>\n",
       "      <td>umol/L</td>\n",
       "      <td>NaN</td>\n",
       "      <td>NaN</td>\n",
       "      <td>30.5</td>\n",
       "      <td>1982-07-16 01:21:00</td>\n",
       "    </tr>\n",
       "    <tr>\n",
       "      <th>3</th>\n",
       "      <td>1982.0</td>\n",
       "      <td>7.0</td>\n",
       "      <td>16.0</td>\n",
       "      <td>1.35</td>\n",
       "      <td>49.25</td>\n",
       "      <td>-123.943</td>\n",
       "      <td>NaN</td>\n",
       "      <td>52.3</td>\n",
       "      <td>NaN</td>\n",
       "      <td>None</td>\n",
       "      <td>NaN</td>\n",
       "      <td>mg/m^3</td>\n",
       "      <td>28.0</td>\n",
       "      <td>50.2</td>\n",
       "      <td>umol/L</td>\n",
       "      <td>NaN</td>\n",
       "      <td>NaN</td>\n",
       "      <td>52.3</td>\n",
       "      <td>1982-07-16 01:21:00</td>\n",
       "    </tr>\n",
       "    <tr>\n",
       "      <th>4</th>\n",
       "      <td>1982.0</td>\n",
       "      <td>7.0</td>\n",
       "      <td>16.0</td>\n",
       "      <td>1.35</td>\n",
       "      <td>49.25</td>\n",
       "      <td>-123.943</td>\n",
       "      <td>NaN</td>\n",
       "      <td>75.4</td>\n",
       "      <td>NaN</td>\n",
       "      <td>None</td>\n",
       "      <td>NaN</td>\n",
       "      <td>mg/m^3</td>\n",
       "      <td>26.5</td>\n",
       "      <td>49.1</td>\n",
       "      <td>umol/L</td>\n",
       "      <td>NaN</td>\n",
       "      <td>NaN</td>\n",
       "      <td>75.4</td>\n",
       "      <td>1982-07-16 01:21:00</td>\n",
       "    </tr>\n",
       "  </tbody>\n",
       "</table>\n",
       "</div>"
      ],
      "text/plain": [
       "     Year  Month   Day  Hour    Lat      Lon  Pressure  Depth  Ammonium  \\\n",
       "0  1982.0    7.0  16.0  1.35  49.25 -123.943       NaN   12.0       NaN   \n",
       "1  1982.0    7.0  16.0  1.35  49.25 -123.943       NaN   21.5       NaN   \n",
       "2  1982.0    7.0  16.0  1.35  49.25 -123.943       NaN   30.5       NaN   \n",
       "3  1982.0    7.0  16.0  1.35  49.25 -123.943       NaN   52.3       NaN   \n",
       "4  1982.0    7.0  16.0  1.35  49.25 -123.943       NaN   75.4       NaN   \n",
       "\n",
       "  Ammonium_units  Chlorophyll_Extracted Chlorophyll_Extracted_units     N  \\\n",
       "0           None                   5.28                      mg/m^3   6.6   \n",
       "1           None                   0.61                      mg/m^3  21.2   \n",
       "2           None                    NaN                      mg/m^3  23.5   \n",
       "3           None                    NaN                      mg/m^3  28.0   \n",
       "4           None                    NaN                      mg/m^3  26.5   \n",
       "\n",
       "     Si Silicate_units  AbsSal  ConsT     Z               dtUTC  \n",
       "0  13.6         umol/L     NaN    NaN  12.0 1982-07-16 01:21:00  \n",
       "1  45.0         umol/L     NaN    NaN  21.5 1982-07-16 01:21:00  \n",
       "2  47.4         umol/L     NaN    NaN  30.5 1982-07-16 01:21:00  \n",
       "3  50.2         umol/L     NaN    NaN  52.3 1982-07-16 01:21:00  \n",
       "4  49.1         umol/L     NaN    NaN  75.4 1982-07-16 01:21:00  "
      ]
     },
     "execution_count": 2,
     "metadata": {},
     "output_type": "execute_result"
    }
   ],
   "source": [
    "df=et.loadDFO()\n",
    "df.head()"
   ]
  },
  {
   "cell_type": "code",
   "execution_count": 3,
   "metadata": {
    "collapsed": false
   },
   "outputs": [],
   "source": [
    "with nc.Dataset('/ocean/eolson/MEOPAR/NEMO-forcing/grid/mesh_mask201702_noLPE.nc') as mesh:\n",
    "    navlon=mesh.variables['nav_lon'][:,:]\n",
    "    navlat=mesh.variables['nav_lat'][:,:]\n",
    "    tmask=mesh.variables['tmask'][:,:,:,:]\n",
    "    gdept=mesh.variables['gdept_1d'][0,:]\n",
    "    e3t0=mesh.variables['e3t_0'][0,:,:,:]\n",
    "bathy=np.sum(e3t0,0)\n",
    "with nc.Dataset('/results/SalishSea/hindcast.201812/01jan16/SalishSea_1h_20160101_20160101_ptrc_T.nc') as ftemp:\n",
    "        bounds=np.copy(ftemp.variables['deptht_bounds'][:,:])"
   ]
  },
  {
   "cell_type": "code",
   "execution_count": 4,
   "metadata": {
    "collapsed": false
   },
   "outputs": [
    {
     "data": {
      "text/plain": [
       "135"
      ]
     },
     "execution_count": 4,
     "metadata": {},
     "output_type": "execute_result"
    }
   ],
   "source": [
    "355-220"
   ]
  },
  {
   "cell_type": "code",
   "execution_count": 5,
   "metadata": {
    "collapsed": false
   },
   "outputs": [],
   "source": [
    "# drop Saanich Inlet\n",
    "tmask2=np.copy(tmask[0,0,:,:])"
   ]
  },
  {
   "cell_type": "code",
   "execution_count": 6,
   "metadata": {
    "collapsed": false
   },
   "outputs": [
    {
     "data": {
      "image/png": "[encoded data removed]",
      "text/plain": [
       "<matplotlib.figure.Figure at 0x7fdcb1a4c550>"
      ]
     },
     "metadata": {},
     "output_type": "display_data"
    }
   ],
   "source": [
    "fig,ax=plt.subplots(2,3,figsize=(16,24))\n",
    "#kk=30 #36,34,32,30\n",
    "simin=40\n",
    "simax=80\n",
    "for mon in (1,):\n",
    "    iax=ax[mon-1,0]\n",
    "    kk=0\n",
    "    iax.contourf(tmask[0,kk,:,:],levels=(0,.5,1.5),lw=.5,colors=('darkgray','k','k'))\n",
    "    viz_tools.set_aspect(iax,coords='grid')\n",
    "    iax.set_title('Depth='+str(gdept[kk]))\n",
    "    iax.set_ylabel('Month='+str(mon))\n",
    "    iax.plot((186,186),(220,320),'r-')\n",
    "    iax.plot((220,355),(355,355),'c-')\n",
    "    iax.plot((130,255),(585,585),'g-')\n",
    "    \n",
    "    iax=ax[mon-1,1]\n",
    "    kk=27\n",
    "    iax.contourf(tmask[0,kk,:,:],levels=(0,.5,1.5),lw=.5,colors=('darkgray','k','k'))\n",
    "    viz_tools.set_aspect(iax,coords='grid')\n",
    "    iax.set_title('Depth='+str(gdept[kk]))\n",
    "    iax.plot((186,186),(220,320),'r-')\n",
    "    iax.plot((220,355),(355,355),'c-')\n",
    "    iax.plot((130,255),(585,585),'g-')\n",
    "    \n",
    "    iax=ax[mon-1,2]\n",
    "    kk=28#33\n",
    "    iax.contourf(tmask[0,kk,:,:],levels=(0,.5,1.5),lw=.5,colors=('darkgray','k','k'))\n",
    "    viz_tools.set_aspect(iax,coords='grid')\n",
    "    iax.set_title('Depth='+str(gdept[kk]))\n",
    "    iax.plot((186,186),(220,320),'r-')\n",
    "    iax.plot((220,355),(355,355),'c-')\n",
    "    iax.plot((130,255),(585,585),'g-')"
   ]
  },
  {
   "cell_type": "code",
   "execution_count": null,
   "metadata": {
    "collapsed": true
   },
   "outputs": [],
   "source": []
  },
  {
   "cell_type": "code",
   "execution_count": null,
   "metadata": {
    "collapsed": true
   },
   "outputs": [],
   "source": []
  }
 ],
 "metadata": {
  "anaconda-cloud": {},
  "kernelspec": {
   "display_name": "Python [conda env:python36]",
   "language": "python",
   "name": "conda-env-python36-py"
  },
  "language_info": {
   "codemirror_mode": {
    "name": "ipython",
    "version": 3
   },
   "file_extension": ".py",
   "mimetype": "text/x-python",
   "name": "python",
   "nbconvert_exporter": "python",
   "pygments_lexer": "ipython3",
   "version": "3.6.3"
  }
 },
 "nbformat": 4,
 "nbformat_minor": 2
}
