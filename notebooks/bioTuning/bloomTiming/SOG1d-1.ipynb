{
 "cells": [
  {
   "cell_type": "code",
   "execution_count": 1,
   "metadata": {
    "collapsed": true
   },
   "outputs": [],
   "source": [
    "import numpy as np\n",
    "import pandas as pd\n",
    "import datetime as dt\n",
    "import matplotlib.pyplot as plt\n",
    "import matplotlib.cm as cm\n",
    "import matplotlib.dates as dts\n",
    "import netCDF4 as nc\n",
    "import os\n",
    "import re\n",
    "import pytz\n",
    "import csv\n",
    "import time\n",
    "\n",
    "%matplotlib inline"
   ]
  },
  {
   "cell_type": "code",
   "execution_count": 2,
   "metadata": {
    "collapsed": true
   },
   "outputs": [],
   "source": [
    "def loadSOGHoff(fname):\n",
    "    data2=dict()\n",
    "    with open(fname, 'rt') as file_obj:\n",
    "        for index, line in enumerate(file_obj):\n",
    "            line = line.strip()\n",
    "            if line.startswith('*FieldNames:'):\n",
    "                field_names = line.split(': ', 1)[1].split(', ')\n",
    "            elif line.startswith('*FieldUnits:'):\n",
    "                field_units = line.split(': ', 1)[1].split(', ')\n",
    "            elif line.startswith('*HoffmuellerStartYr:'):\n",
    "                year_start = line.split(': ', 1)[1]\n",
    "            elif line.startswith('*HoffmuellerStartDay:'):\n",
    "                day_start = line.split(': ', 1)[1]\n",
    "            elif line.startswith('*HoffmuellerStartSec:'):\n",
    "                sec_start = line.split(': ', 1)[1]\n",
    "            elif line.startswith('*HoffmuellerInterval:'):\n",
    "                 interval = line.split(': ', 1)[1]\n",
    "            elif line.startswith('*EndOfHeader'):\n",
    "                break\n",
    "    # Timestamp in matplotlib time\n",
    "    dt_start = dts.date2num(dt.datetime.strptime(year_start + ' ' + day_start, '%Y %j')) + float(sec_start)/86400\n",
    "    \n",
    "    data = pd.read_csv(fname, delim_whitespace=True, header=0, names=field_names, skiprows=index, chunksize=82)\n",
    "    # Extract dataframe chunks into dictionary\n",
    "    times=list()\n",
    "    for index, chunk in enumerate(data):\n",
    "        times.append(dts.num2date(dt_start + index*float(interval), tz=pytz.timezone('UTC')))\n",
    "        if index==0:\n",
    "            da=chunk\n",
    "        else:\n",
    "            da=np.dstack((da,chunk))\n",
    "    data2['times']=np.array(times)\n",
    "    for iel in range(0,len(field_names)):\n",
    "        data2[field_names[iel]]=da[:,iel,:].transpose()\n",
    "        \n",
    "    return data2"
   ]
  },
  {
   "cell_type": "code",
   "execution_count": 3,
   "metadata": {
    "collapsed": false
   },
   "outputs": [
    {
     "ename": "FileNotFoundError",
     "evalue": "[Errno 2] No such file or directory: '/data/eolson/SOG/SOG-runs/exp/M8/profiles/hoff-SOG.dat'",
     "output_type": "error",
     "traceback": [
      "\u001b[0;31m---------------------------------------------------------------------------\u001b[0m",
      "\u001b[0;31mFileNotFoundError\u001b[0m                         Traceback (most recent call last)",
      "\u001b[0;32m<ipython-input-3-bc4e53c2943f>\u001b[0m in \u001b[0;36m<module>\u001b[0;34m()\u001b[0m\n\u001b[1;32m     23\u001b[0m \u001b[0md\u001b[0m\u001b[0;34m[\u001b[0m\u001b[0;34m'M6'\u001b[0m\u001b[0;34m]\u001b[0m\u001b[0;34m=\u001b[0m\u001b[0mloadSOGHoff\u001b[0m\u001b[0;34m(\u001b[0m\u001b[0;34m'/data/eolson/SOG/SOG-runs/exp/M6/profiles/hoff-SOG.dat'\u001b[0m\u001b[0;34m)\u001b[0m\u001b[0;34m\u001b[0m\u001b[0m\n\u001b[1;32m     24\u001b[0m \u001b[0md\u001b[0m\u001b[0;34m[\u001b[0m\u001b[0;34m'M7'\u001b[0m\u001b[0;34m]\u001b[0m\u001b[0;34m=\u001b[0m\u001b[0mloadSOGHoff\u001b[0m\u001b[0;34m(\u001b[0m\u001b[0;34m'/data/eolson/SOG/SOG-runs/exp/M7/profiles/hoff-SOG.dat'\u001b[0m\u001b[0;34m)\u001b[0m\u001b[0;34m\u001b[0m\u001b[0m\n\u001b[0;32m---> 25\u001b[0;31m \u001b[0md\u001b[0m\u001b[0;34m[\u001b[0m\u001b[0;34m'M8'\u001b[0m\u001b[0;34m]\u001b[0m\u001b[0;34m=\u001b[0m\u001b[0mloadSOGHoff\u001b[0m\u001b[0;34m(\u001b[0m\u001b[0;34m'/data/eolson/SOG/SOG-runs/exp/M8/profiles/hoff-SOG.dat'\u001b[0m\u001b[0;34m)\u001b[0m\u001b[0;34m\u001b[0m\u001b[0m\n\u001b[0m\u001b[1;32m     26\u001b[0m \u001b[0md\u001b[0m\u001b[0;34m[\u001b[0m\u001b[0;34m'N2'\u001b[0m\u001b[0;34m]\u001b[0m\u001b[0;34m=\u001b[0m\u001b[0mloadSOGHoff\u001b[0m\u001b[0;34m(\u001b[0m\u001b[0;34m'/data/eolson/SOG/SOG-runs/exp/N2/profiles/hoff-SOG.dat'\u001b[0m\u001b[0;34m)\u001b[0m\u001b[0;34m\u001b[0m\u001b[0m\n\u001b[1;32m     27\u001b[0m \u001b[0md\u001b[0m\u001b[0;34m[\u001b[0m\u001b[0;34m'Si1'\u001b[0m\u001b[0;34m]\u001b[0m\u001b[0;34m=\u001b[0m\u001b[0mloadSOGHoff\u001b[0m\u001b[0;34m(\u001b[0m\u001b[0;34m'/data/eolson/SOG/SOG-runs/exp/Si1/profiles/hoff-SOG.dat'\u001b[0m\u001b[0;34m)\u001b[0m\u001b[0;34m\u001b[0m\u001b[0m\n",
      "\u001b[0;32m<ipython-input-2-102e391d7515>\u001b[0m in \u001b[0;36mloadSOGHoff\u001b[0;34m(fname)\u001b[0m\n\u001b[1;32m      1\u001b[0m \u001b[0;32mdef\u001b[0m \u001b[0mloadSOGHoff\u001b[0m\u001b[0;34m(\u001b[0m\u001b[0mfname\u001b[0m\u001b[0;34m)\u001b[0m\u001b[0;34m:\u001b[0m\u001b[0;34m\u001b[0m\u001b[0m\n\u001b[1;32m      2\u001b[0m     \u001b[0mdata2\u001b[0m\u001b[0;34m=\u001b[0m\u001b[0mdict\u001b[0m\u001b[0;34m(\u001b[0m\u001b[0;34m)\u001b[0m\u001b[0;34m\u001b[0m\u001b[0m\n\u001b[0;32m----> 3\u001b[0;31m     \u001b[0;32mwith\u001b[0m \u001b[0mopen\u001b[0m\u001b[0;34m(\u001b[0m\u001b[0mfname\u001b[0m\u001b[0;34m,\u001b[0m \u001b[0;34m'rt'\u001b[0m\u001b[0;34m)\u001b[0m \u001b[0;32mas\u001b[0m \u001b[0mfile_obj\u001b[0m\u001b[0;34m:\u001b[0m\u001b[0;34m\u001b[0m\u001b[0m\n\u001b[0m\u001b[1;32m      4\u001b[0m         \u001b[0;32mfor\u001b[0m \u001b[0mindex\u001b[0m\u001b[0;34m,\u001b[0m \u001b[0mline\u001b[0m \u001b[0;32min\u001b[0m \u001b[0menumerate\u001b[0m\u001b[0;34m(\u001b[0m\u001b[0mfile_obj\u001b[0m\u001b[0;34m)\u001b[0m\u001b[0;34m:\u001b[0m\u001b[0;34m\u001b[0m\u001b[0m\n\u001b[1;32m      5\u001b[0m             \u001b[0mline\u001b[0m \u001b[0;34m=\u001b[0m \u001b[0mline\u001b[0m\u001b[0;34m.\u001b[0m\u001b[0mstrip\u001b[0m\u001b[0;34m(\u001b[0m\u001b[0;34m)\u001b[0m\u001b[0;34m\u001b[0m\u001b[0m\n",
      "\u001b[0;31mFileNotFoundError\u001b[0m: [Errno 2] No such file or directory: '/data/eolson/SOG/SOG-runs/exp/M8/profiles/hoff-SOG.dat'"
     ]
    }
   ],
   "source": [
    "d=dict()\n",
    "d['orig']=loadSOGHoff('/data/eolson/SOG/SOG-runs/temp/profiles/hoff-SOG.dat')\n",
    "d['base']=loadSOGHoff('/data/eolson/SOG/SOG-runs/exp/base/profiles/hoff-SOG.dat')\n",
    "d['D1']=loadSOGHoff('/data/eolson/SOG/SOG-runs/exp/D1/profiles/hoff-SOG.dat')\n",
    "#d['D2']=loadSOGHoff('/data/eolson/SOG/SOG-runs/exp/D2/profiles/hoff-SOG.dat')\n",
    "#d['D3']=loadSOGHoff('/data/eolson/SOG/SOG-runs/exp/D3/profiles/hoff-SOG.dat')\n",
    "d['S1']=loadSOGHoff('/data/eolson/SOG/SOG-runs/exp/S1/profiles/hoff-SOG.dat')\n",
    "d['A3']=loadSOGHoff('/data/eolson/SOG/SOG-runs/exp/A3/profiles/hoff-SOG.dat')\n",
    "d['A5']=loadSOGHoff('/data/eolson/SOG/SOG-runs/exp/A5/profiles/hoff-SOG.dat')\n",
    "d['A6']=loadSOGHoff('/data/eolson/SOG/SOG-runs/exp/A6/profiles/hoff-SOG.dat')\n",
    "#d['C1']=loadSOGHoff('/data/eolson/SOG/SOG-runs/exp/C1/profiles/hoff-SOG.dat')\n",
    "#d['C2']=loadSOGHoff('/data/eolson/SOG/SOG-runs/exp/C2/profiles/hoff-SOG.dat')\n",
    "#d['C3']=loadSOGHoff('/data/eolson/SOG/SOG-runs/exp/C3/profiles/hoff-SOG.dat')\n",
    "#d['C4']=loadSOGHoff('/data/eolson/SOG/SOG-runs/exp/C4/profiles/hoff-SOG.dat')\n",
    "#d['C5']=loadSOGHoff('/data/eolson/SOG/SOG-runs/exp/C5/profiles/hoff-SOG.dat')\n",
    "#d['C6']=loadSOGHoff('/data/eolson/SOG/SOG-runs/exp/C6/profiles/hoff-SOG.dat')\n",
    "d['C7']=loadSOGHoff('/data/eolson/SOG/SOG-runs/exp/C7/profiles/hoff-SOG.dat')\n",
    "d['C8']=loadSOGHoff('/data/eolson/SOG/SOG-runs/exp/C8/profiles/hoff-SOG.dat')\n",
    "#d['M1']=loadSOGHoff('/data/eolson/SOG/SOG-runs/exp/M1/profiles/hoff-SOG.dat')\n",
    "d['M2']=loadSOGHoff('/data/eolson/SOG/SOG-runs/exp/M2/profiles/hoff-SOG.dat')\n",
    "d['M3']=loadSOGHoff('/data/eolson/SOG/SOG-runs/exp/M3/profiles/hoff-SOG.dat')\n",
    "d['M5']=loadSOGHoff('/data/eolson/SOG/SOG-runs/exp/M5/profiles/hoff-SOG.dat')\n",
    "d['M6']=loadSOGHoff('/data/eolson/SOG/SOG-runs/exp/M6/profiles/hoff-SOG.dat')\n",
    "d['M7']=loadSOGHoff('/data/eolson/SOG/SOG-runs/exp/M7/profiles/hoff-SOG.dat')\n",
    "d['M8']=loadSOGHoff('/data/eolson/SOG/SOG-runs/exp/M8/profiles/hoff-SOG.dat')\n",
    "d['N2']=loadSOGHoff('/data/eolson/SOG/SOG-runs/exp/N2/profiles/hoff-SOG.dat')\n",
    "d['Si1']=loadSOGHoff('/data/eolson/SOG/SOG-runs/exp/Si1/profiles/hoff-SOG.dat')\n",
    "d['Si2']=loadSOGHoff('/data/eolson/SOG/SOG-runs/exp/Si2/profiles/hoff-SOG.dat')\n",
    "d['Si3']=loadSOGHoff('/data/eolson/SOG/SOG-runs/exp/Si3/profiles/hoff-SOG.dat')"
   ]
  },
  {
   "cell_type": "code",
   "execution_count": null,
   "metadata": {
    "collapsed": false
   },
   "outputs": [],
   "source": [
    "d.keys()"
   ]
  },
  {
   "cell_type": "code",
   "execution_count": null,
   "metadata": {
    "collapsed": false
   },
   "outputs": [],
   "source": [
    "d['M5'].keys()"
   ]
  },
  {
   "cell_type": "code",
   "execution_count": null,
   "metadata": {
    "collapsed": false
   },
   "outputs": [],
   "source": [
    "style={'micro phytoplankton':'-','nano phytoplankton':'--','pico phytoplankton':'.-','nitrate':'-o','silicon':'->','ammonium':'-x'}\n",
    "col={'orig':'k','base':'maroon','D1':'orangered','D2':'orange','D2':'orchid','D3':'teal',\n",
    "     'S1':'dodgerblue','A3':'lime','C1':'m','A5':'pink','C2':'gold','A6':'brown',\n",
    "     'C3':'blue','C4':'turquoise','C5':'mediumseagreen','C6':'red','C7':'c','C8':'pink',\n",
    "     'M1':'darkorange','M2':'purple','M3':'darkorange','M5':'limegreen','M6':'firebrick',\n",
    "     'M7':'darkkhaki','N2':'aquamarine','M8':'peru','Si1':'deeppink','Si2':'cornflowerblue','Si3':'orange'}"
   ]
  },
  {
   "cell_type": "code",
   "execution_count": null,
   "metadata": {
    "collapsed": false
   },
   "outputs": [],
   "source": [
    "fig, axs = plt.subplots(1,1,figsize=(20,7))\n",
    "for el in ('S1','D1','A5','A3','A6'):\n",
    "    for var in ('micro phytoplankton','nano phytoplankton','pico phytoplankton'):\n",
    "        axs.plot(d[el]['times'],np.mean(d[el][var][:,0:6],1),style[var],color=col[el],label=el+' '+var)\n",
    "\n",
    "axs.set_xlim(dt.datetime(2005,2,1),dt.datetime(2005,6,1))\n",
    "axs.legend(loc=1)"
   ]
  },
  {
   "cell_type": "raw",
   "metadata": {
    "collapsed": false
   },
   "source": [
    "fig, axs = plt.subplots(1,1,figsize=(20,7))\n",
    "for el in ('A5','A6'):\n",
    "    for var in ('micro phytoplankton','nano phytoplankton','pico phytoplankton'):\n",
    "        axs.plot(d[el]['times'],np.mean(d[el][var][:,0:6],1),style[var],color=col[el],label=el+' '+var)\n",
    "\n",
    "axs.set_xlim(dt.datetime(2005,2,1),dt.datetime(2005,6,1))\n",
    "axs.legend(loc=1)"
   ]
  },
  {
   "cell_type": "raw",
   "metadata": {
    "collapsed": false
   },
   "source": [
    "fig, axs = plt.subplots(1,1,figsize=(20,7))\n",
    "for el in ('C1','C2','C3','C5','orig','C6','C7'):\n",
    "    for var in ('micro phytoplankton','nano phytoplankton','pico phytoplankton'):\n",
    "        axs.plot(d[el]['times'],np.mean(d[el][var][:,0:6],1),style[var],color=col[el],label=el+' '+var)\n",
    "\n",
    "axs.plot(d['C5']['times'],np.mean(d['C5']['micro phytoplankton'][:,0:6],1),'g*')\n",
    "axs.set_xlim(dt.datetime(2005,1,15),dt.datetime(2005,9,1))\n",
    "axs.legend(loc=1)\n",
    "# axs.plot(d['C5']['times'][128],10,'rs')"
   ]
  },
  {
   "cell_type": "code",
   "execution_count": null,
   "metadata": {
    "collapsed": false
   },
   "outputs": [],
   "source": [
    "\n",
    "fig, axs = plt.subplots(1,1,figsize=(20,7))\n",
    "for el in ('orig','C7','C8','M3','M5'):\n",
    "    for var in ('micro phytoplankton','nano phytoplankton','pico phytoplankton'):\n",
    "        axs.plot(d[el]['times'],np.mean(d[el][var][:,0:6],1),style[var],color=col[el],label=el+' '+var)\n",
    "\n",
    "axs.plot(d['M5']['times'],np.mean(d['M5']['micro phytoplankton'][:,0:6],1),'g*')\n",
    "axs.set_xlim(dt.datetime(2005,2,1),dt.datetime(2005,10,1))\n",
    "axs.legend(loc=1)\n",
    "# axs.plot(d['C5']['times'][128],10,'rs')"
   ]
  },
  {
   "cell_type": "code",
   "execution_count": null,
   "metadata": {
    "collapsed": false
   },
   "outputs": [],
   "source": [
    "fig, axs = plt.subplots(1,1,figsize=(20,7))\n",
    "for el in ('orig','M5','N2'):#'M6','M7','M8',\n",
    "    for var in ('micro phytoplankton','nano phytoplankton','pico phytoplankton'):\n",
    "        axs.plot(d[el]['times'],np.mean(d[el][var][:,0:6],1),style[var],color=col[el],label=el+' '+var)\n",
    "\n",
    "#axs.plot(d['M5']['times'],np.mean(d['M5']['micro phytoplankton'][:,0:6],1),'g*')\n",
    "axs.set_xlim(dt.datetime(2005,2,1),dt.datetime(2005,10,1))\n",
    "axs.legend(loc=1)\n",
    "# axs.plot(d['C5']['times'][128],10,'rs')\n",
    "#axs.set_ylim(0,15)"
   ]
  },
  {
   "cell_type": "code",
   "execution_count": null,
   "metadata": {
    "collapsed": false
   },
   "outputs": [],
   "source": [
    "fig, axs = plt.subplots(1,1,figsize=(20,7))\n",
    "for el in ('M5','M6'):\n",
    "    for var in ('micro phytoplankton','nano phytoplankton','pico phytoplankton','nitrate','silicon'):\n",
    "        alph= 0.3 if var in ('nitrate','silicon') else 1\n",
    "        axs.plot(d[el]['times'],np.mean(d[el][var][:,0:6],1),style[var],color=col[el],label=el+' '+var,alpha=alph)\n",
    "\n",
    "#axs.plot(d['M5']['times'],np.mean(d['M5']['micro phytoplankton'][:,0:6],1),'g*')\n",
    "axs.set_xlim(dt.datetime(2005,2,1),dt.datetime(2005,10,1))\n",
    "axs.legend(loc=1)\n",
    "# axs.plot(d['C5']['times'][128],10,'rs')\n",
    "axs.set_ylim(0,15)"
   ]
  },
  {
   "cell_type": "code",
   "execution_count": null,
   "metadata": {
    "collapsed": false
   },
   "outputs": [],
   "source": [
    "fig, axs = plt.subplots(1,1,figsize=(20,7))\n",
    "for el in ('M5','M8'):\n",
    "    for var in ('micro phytoplankton','nano phytoplankton','pico phytoplankton'):#,'nitrate','silicon'):\n",
    "        alph= 0.3 if var in ('nitrate','silicon') else 1\n",
    "        axs.plot(d[el]['times'],np.mean(d[el][var][:,0:6],1),style[var],color=col[el],label=el+' '+var,alpha=alph)\n",
    "\n",
    "#axs.plot(d['M5']['times'],np.mean(d['M5']['micro phytoplankton'][:,0:6],1),'g*')\n",
    "axs.set_xlim(dt.datetime(2005,2,1),dt.datetime(2005,10,1))\n",
    "axs.legend(loc=1)\n",
    "# axs.plot(d['C5']['times'][128],10,'rs')\n",
    "\n",
    "#axs.set_ylim(0,15)"
   ]
  },
  {
   "cell_type": "code",
   "execution_count": null,
   "metadata": {
    "collapsed": false
   },
   "outputs": [],
   "source": [
    "fig, axs = plt.subplots(1,1,figsize=(20,7))\n",
    "for el in ('M5','M8'):\n",
    "    for var in ('nitrate','silicon','ammonium'):\n",
    "        alph= 0.3 if var in ('nitrate','silicon','ammonium') else 1\n",
    "        axs.plot(d[el]['times'],np.mean(d[el][var][:,0:6],1),style[var],color=col[el],label=el+' '+var,alpha=alph)\n",
    "\n",
    "#axs.plot(d['M5']['times'],np.mean(d['M5']['micro phytoplankton'][:,0:6],1),'g*')\n",
    "axs.set_xlim(dt.datetime(2005,2,1),dt.datetime(2005,10,1))\n",
    "axs.legend(loc=1)\n",
    "# axs.plot(d['C5']['times'][128],10,'rs')\n",
    "\n",
    "axs.set_ylim(0,5)"
   ]
  },
  {
   "cell_type": "code",
   "execution_count": null,
   "metadata": {
    "collapsed": false
   },
   "outputs": [],
   "source": [
    "fig, axs = plt.subplots(1,1,figsize=(20,7))\n",
    "for el in ('M5','N1'):\n",
    "    for var in ('micro phytoplankton','nano phytoplankton','pico phytoplankton','nitrate','silicon'):\n",
    "        alph= 0.3 if var in ('nitrate','silicon') else 1\n",
    "        axs.plot(d[el]['times'],np.mean(d[el][var][:,0:6],1),style[var],color=col[el],label=el+' '+var,alpha=alph)\n",
    "\n",
    "#axs.plot(d['M5']['times'],np.mean(d['M5']['micro phytoplankton'][:,0:6],1),'g*')\n",
    "axs.set_xlim(dt.datetime(2005,2,1),dt.datetime(2005,10,1))\n",
    "axs.legend(loc=1)\n",
    "# axs.plot(d['C5']['times'][128],10,'rs')\n",
    "\n",
    "axs.set_ylim(0,20)"
   ]
  },
  {
   "cell_type": "code",
   "execution_count": null,
   "metadata": {
    "collapsed": false
   },
   "outputs": [],
   "source": [
    ".3+.15+.1+.15+.3"
   ]
  },
  {
   "cell_type": "raw",
   "metadata": {
    "collapsed": false
   },
   "source": [
    "for var in d['C5'].keys():\n",
    "    if var not in ('times',):\n",
    "        print(var,np.mean(d['C5'][var][128,0:6]))"
   ]
  },
  {
   "cell_type": "markdown",
   "metadata": {},
   "source": [
    "### D1:\n",
    "    micro_max_growth: 0.550E-04 rate_micro%R\n",
    "### D2:\n",
    "    micro_optimal_light: 52.000 rate_micro%Iopt\n",
    "### D3:\n",
    "    micro_max_growth: 0.550E-04 rate_micro%R\n",
    "    micro_optimal_light: 52.000 rate_micro%Iopt\n",
    "### S3:\n",
    "    micro_max_growth: 0.590E-04 rate_micro%R\n",
    "    nano_max_growth: 0.180E-04 rate_nano%R\n",
    "    pico_max_growth: 0.180E-04 rate_pico%R\n",
    "    micro_natural_mortality: 0.165E-05 rate_micro%Rm\n",
    "    nano_natural_mortality: 0.170E-05 rate_nano%Rm\n",
    "    pico_natural_mortality: 0.150E-05 rate_pico%Rm"
   ]
  },
  {
   "cell_type": "code",
   "execution_count": null,
   "metadata": {
    "collapsed": false
   },
   "outputs": [],
   "source": [
    "fig, axs = plt.subplots(1,1,figsize=(20,7))\n",
    "for el in ('M5','Si1','Si2','Si3'):\n",
    "    for var in ('micro phytoplankton','nano phytoplankton','pico phytoplankton'):\n",
    "        axs.plot(d[el]['times'],np.mean(d[el][var][:,0:6],1),style[var],color=col[el],label=el+' '+var)\n",
    "\n",
    "#axs.plot(d['M5']['times'],np.mean(d['M5']['micro phytoplankton'][:,0:6],1),'g*')\n",
    "axs.set_xlim(dt.datetime(2005,2,1),dt.datetime(2005,10,1))\n",
    "axs.legend(loc=1)\n",
    "# axs.plot(d['C5']['times'][128],10,'rs')\n"
   ]
  },
  {
   "cell_type": "code",
   "execution_count": null,
   "metadata": {
    "collapsed": false
   },
   "outputs": [],
   "source": [
    "fig, axs = plt.subplots(1,1,figsize=(20,7))\n",
    "for el in ('M5','Si1','Si2','Si3'):\n",
    "    for var in ('nitrate','silicon'):\n",
    "        axs.plot(d[el]['times'],np.mean(d[el][var][:,0:6],1),style[var],color=col[el],label=el+' '+var)\n",
    "\n",
    "#axs.plot(d['M5']['times'],np.mean(d['M5']['micro phytoplankton'][:,0:6],1),'g*')\n",
    "axs.set_xlim(dt.datetime(2005,2,1),dt.datetime(2005,10,1))\n",
    "axs.legend(loc=1)\n",
    "# axs.plot(d['C5']['times'][128],10,'rs')\n"
   ]
  },
  {
   "cell_type": "code",
   "execution_count": null,
   "metadata": {
    "collapsed": true
   },
   "outputs": [],
   "source": []
  }
 ],
 "metadata": {
  "anaconda-cloud": {},
  "kernelspec": {
   "display_name": "Python [default]",
   "language": "python",
   "name": "python3"
  },
  "language_info": {
   "codemirror_mode": {
    "name": "ipython",
    "version": 3
   },
   "file_extension": ".py",
   "mimetype": "text/x-python",
   "name": "python",
   "nbconvert_exporter": "python",
   "pygments_lexer": "ipython3",
   "version": "3.5.2"
  }
 },
 "nbformat": 4,
 "nbformat_minor": 0
}
