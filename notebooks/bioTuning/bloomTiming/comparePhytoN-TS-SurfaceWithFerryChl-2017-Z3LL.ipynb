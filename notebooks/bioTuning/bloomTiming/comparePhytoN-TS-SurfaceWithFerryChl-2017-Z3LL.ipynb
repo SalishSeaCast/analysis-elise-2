{
 "cells": [
  {
   "cell_type": "markdown",
   "metadata": {},
   "source": [
    "# inter-run comparisons of N contained in phytoplankton\n",
    "    - S3\n",
    "    - Sentry Shoal\n",
    "    - Central Node\n",
    "    - JDF"
   ]
  },
  {
   "cell_type": "code",
   "execution_count": 1,
   "metadata": {
    "collapsed": false
   },
   "outputs": [],
   "source": [
    "import pandas as pd\n",
    "import netCDF4 as nc\n",
    "import datetime as dt\n",
    "import subprocess\n",
    "import requests\n",
    "import matplotlib.pyplot as plt\n",
    "import cmocean\n",
    "import numpy as np\n",
    "import os\n",
    "import re\n",
    "import dateutil as dutil\n",
    "from salishsea_tools import viz_tools, places\n",
    "import glob\n",
    "import pickle\n",
    "import matplotlib.dates as mdates\n",
    "import matplotlib as mpl\n",
    "mpl.rc('xtick', labelsize=14) \n",
    "mpl.rc('ytick', labelsize=16) \n",
    "mpl.rc('legend', fontsize=16) \n",
    "mpl.rc('axes', titlesize=16) \n",
    "mpl.rc('figure', titlesize=16) \n",
    "mpl.rc('axes', labelsize=16) \n",
    "mpl.rc('font', size=16) \n",
    "\n",
    "mpl.rcParams['font.size'] = 16\n",
    "mpl.rcParams['axes.titlesize'] = 16\n",
    "mpl.rcParams['legend.numpoints'] = 1\n",
    "%matplotlib inline"
   ]
  },
  {
   "cell_type": "code",
   "execution_count": null,
   "metadata": {
    "collapsed": true
   },
   "outputs": [],
   "source": [
    "plist=['Sentry Shoal','S3','Central node','Central SJDF']"
   ]
  },
  {
   "cell_type": "code",
   "execution_count": null,
   "metadata": {
    "collapsed": false
   },
   "outputs": [],
   "source": [
    "flist=['search4979680/BritishColumbiaFerries_Tsawwassen-DukePoint_Turbidity-ChlorophyllandFluorescence_20170217T003041Z_20170315T031911Z-clean.csv',\n",
    "       'search4979680/BritishColumbiaFerries_Tsawwassen-DukePoint_Turbidity-ChlorophyllandFluorescence_20170315T031912Z_20170404T195130Z-clean.csv',\n",
    "       'search4979680/BritishColumbiaFerries_Tsawwassen-DukePoint_Turbidity-ChlorophyllandFluorescence_20170404T195131Z_20170426T173215Z-clean.csv',\n",
    "       'search4979680/BritishColumbiaFerries_Tsawwassen-DukePoint_Turbidity-ChlorophyllandFluorescence_20170426T173216Z_20170522T011843Z-clean.csv',\n",
    "       'search4979680/BritishColumbiaFerries_Tsawwassen-DukePoint_Turbidity-ChlorophyllandFluorescence_20170522T011844Z_20170611T234016Z-clean.csv',\n",
    "       'search4979680/BritishColumbiaFerries_Tsawwassen-DukePoint_Turbidity-ChlorophyllandFluorescence_20170611T234017Z_20170702T172228Z-clean.csv',\n",
    "       'search4979680/BritishColumbiaFerries_Tsawwassen-DukePoint_Turbidity-ChlorophyllandFluorescence_20170702T172229Z_20170722T182606Z-clean.csv',\n",
    "       'search4979680/BritishColumbiaFerries_Tsawwassen-DukePoint_Turbidity-ChlorophyllandFluorescence_20170722T182607Z_20170815T213737Z-clean.csv',\n",
    "       'search4979680/BritishColumbiaFerries_Tsawwassen-DukePoint_Turbidity-ChlorophyllandFluorescence_20170815T213738Z_20170825T225506Z-clean.csv',\n",
    "       'search7672208/BritishColumbiaFerries_Tsawwassen-DukePoint_Turbidity-ChlorophyllandFluorescence_20170825T225507Z_20170923T032427Z-clean.csv',\n",
    "       'search7672208/BritishColumbiaFerries_Tsawwassen-DukePoint_Turbidity-ChlorophyllandFluorescence_20170923T032428Z_20171016T213134Z-clean.csv',\n",
    "       'search7672208/BritishColumbiaFerries_Tsawwassen-DukePoint_Turbidity-ChlorophyllandFluorescence_20171016T213135Z_20180108T160335Z-clean.csv',]\n",
    "dfs=list()\n",
    "for ii in range(0,len(flist)):\n",
    "    dfs.append(pd.read_csv('/ocean/eolson/MEOPAR/obs/ONC/turbidity/nearSurface/'+flist[ii],\n",
    "        skiprows=67,header=None,usecols=[0,1,2,3,4,5,6,7,8,9,10],\n",
    "        names=('TimeUTC','CDOM','CDOMQC','Chlorophyll_ug','ChlQC','Turbidity_NTU','TurbQC','Lat','LatQC','Lon','LongQC')))"
   ]
  },
  {
   "cell_type": "code",
   "execution_count": null,
   "metadata": {
    "collapsed": false
   },
   "outputs": [],
   "source": [
    "df=pd.concat(dfs,ignore_index=True)"
   ]
  },
  {
   "cell_type": "code",
   "execution_count": null,
   "metadata": {
    "collapsed": false
   },
   "outputs": [],
   "source": [
    "dts=[dt.datetime(int(r[0:4]),int(r[5:7]),int(r[8:10]),int(r[11:13]),int(r[14:16]),int(r[17:19])) for r in df['TimeUTC']]"
   ]
  },
  {
   "cell_type": "code",
   "execution_count": null,
   "metadata": {
    "collapsed": false
   },
   "outputs": [],
   "source": [
    "df=df.assign(dts=dts)"
   ]
  },
  {
   "cell_type": "code",
   "execution_count": null,
   "metadata": {
    "collapsed": true
   },
   "outputs": [],
   "source": [
    "df['Lat']=pd.to_numeric(df['Lat'],errors='coerce')\n",
    "df['Lon']=pd.to_numeric(df['Lon'],errors='coerce')"
   ]
  },
  {
   "cell_type": "code",
   "execution_count": null,
   "metadata": {
    "collapsed": false
   },
   "outputs": [],
   "source": [
    "df.head()"
   ]
  },
  {
   "cell_type": "code",
   "execution_count": null,
   "metadata": {
    "collapsed": false
   },
   "outputs": [],
   "source": [
    "df['Lon'][100]"
   ]
  },
  {
   "cell_type": "code",
   "execution_count": null,
   "metadata": {
    "collapsed": false
   },
   "outputs": [],
   "source": [
    "places.PLACES['S3']"
   ]
  },
  {
   "cell_type": "code",
   "execution_count": null,
   "metadata": {
    "collapsed": false
   },
   "outputs": [],
   "source": [
    "111*.0226"
   ]
  },
  {
   "cell_type": "code",
   "execution_count": null,
   "metadata": {
    "collapsed": false
   },
   "outputs": [],
   "source": [
    "llon=places.PLACES['S3']['lon lat'][0]-.01\n",
    "ulon=places.PLACES['S3']['lon lat'][0]+.01\n",
    "llat=places.PLACES['S3']['lon lat'][1]-.01\n",
    "ulat=places.PLACES['S3']['lon lat'][1]+.01\n",
    "iidfnd=(df.Lon>llon)&(df.Lon<ulon)&(df.Lat>llat)&(df.Lat<ulat)"
   ]
  },
  {
   "cell_type": "code",
   "execution_count": null,
   "metadata": {
    "collapsed": false
   },
   "outputs": [],
   "source": [
    "fig,ax=plt.subplots(1,1,figsize=(20,4))\n",
    "ax.plot(df.loc[iidfnd,['dts']],df.loc[iidfnd,['Chlorophyll_ug']],'k*')\n",
    "ax.set_xlim(dt.datetime(2017,1,1),dt.datetime(2018,1,1))\n",
    "#dt.datetime(2014,12,31)+dt.timedelta(days=65),dt.datetime(2014,12,31)+dt.timedelta(days=75)"
   ]
  },
  {
   "cell_type": "code",
   "execution_count": null,
   "metadata": {
    "collapsed": true
   },
   "outputs": [],
   "source": [
    "with nc.Dataset('/ocean/eolson/MEOPAR/NEMO-forcing/grid/mesh_mask201702_noLPE.nc') as fm:\n",
    "    tmask=np.copy(fm.variables['tmask'])\n",
    "    umask=np.copy(fm.variables['umask'])\n",
    "    vmask=np.copy(fm.variables['vmask'])\n",
    "    navlon=np.copy(fm.variables['nav_lon'])\n",
    "    navlat=np.copy(fm.variables['nav_lat'])\n",
    "    e3t_0=np.copy(fm.variables['e3t_0'])\n",
    "    e3u_0=np.copy(fm.variables['e3u_0'])\n",
    "    e3v_0=np.copy(fm.variables['e3v_0'])\n",
    "    e1t=np.copy(fm.variables['e1t'])\n",
    "    e2t=np.copy(fm.variables['e2t'])\n",
    "    e1v=np.copy(fm.variables['e1v'])\n",
    "    e2u=np.copy(fm.variables['e2u'])\n",
    "    A=fm.variables['e1t'][0,:,:]*fm.variables['e2t'][0,:,:]*tmask[0,0,:,:]\n",
    "#stm=np.shape(tmask)"
   ]
  },
  {
   "cell_type": "code",
   "execution_count": null,
   "metadata": {
    "collapsed": false
   },
   "outputs": [],
   "source": [
    "#saveloc='/data/eolson/MEOPAR/SS36runs/calcFiles/comparePhytoN/'\n",
    "baseloc='/data/eolson/MEOPAR/SS36runs/CedarRuns/'\n",
    "dirname1='spring2017_Z3LL'\n",
    "#dirname2='spring2015_T3'\n",
    "dirnames=(dirname1,)#dirname2)\n",
    "#dirnames=('spring2015_NewSink','spring2015_slowPP','spring2015_KhT','spring2015_diatHS')\n",
    "varNameDict={'Sentry Shoal':'SentryShoal', 'S3':'S3', 'Central node':'CentralNode', 'Central SJDF':'CentralSJDF'}\n",
    "with open('/ocean/eolson/MEOPAR/analysis-elise/notebooks/bioTuning/spathsMaster.txt') as f:\n",
    "    spaths = dict(x.strip().split() for x in f)\n",
    "#spaths={'spring2015_NewSink':'/data/eolson/results/MEOPAR/SS36runs/CedarRuns/spring2015_NewSink/',\n",
    "#    'spring2015_KhT':'/data/eolson/results/MEOPAR/SS36runs/CedarRuns/spring2015_KhT/',\n",
    "#    'spring2015_uzoo':'/data/eolson/results/MEOPAR/SS36runs/CedarRuns/spring2015_uzoo/',\n",
    "#    'spring2015_uzoo2':'/data/eolson/results/MEOPAR/SS36runs/CedarRuns/spring2015_uzoo2/',\n",
    "#    'spring2015_slowPP':'/data/eolson/results/MEOPAR/SS36runs/OrcinusRuns/spring2015_slowPP/',\n",
    "#    'spring2015_lowMuNano':'/data/eolson/results/MEOPAR/SS36runs/CedarRuns/spring2015_lowMuNano/',\n",
    "#    'spring2015_SMELTBFastSink':'/data/eolson/results/MEOPAR/SS36runs/OrcinusRuns/spring2015_SMELTBFastSink/',\n",
    "#    'spring2015_uzPref':'/data/eolson/results/MEOPAR/SS36runs/CedarRuns/spring2015_uzPref/',\n",
    "#    'spring2015_hiNH':'/data/eolson/results/MEOPAR/SS36runs/CedarRuns/spring2015_hiNH/'}\n",
    "ff=dict()\n",
    "for idir in dirnames:\n",
    "    ff[idir]=dict()\n",
    "    for pl in plist:\n",
    "        print(spaths[idir]+'ts_'+idir+'_'+varNameDict[pl]+'.nc')\n",
    "        ff[idir][pl]=nc.Dataset(spaths[idir]+'ts_'+idir+'_'+varNameDict[pl]+'.nc')\n",
    "    #try:\n",
    "    #    pl='Total'\n",
    "    #    ff[idir][pl]=nc.Dataset(spaths[idir]+'ts_'+idir+'_'+varNameDict[pl]+'.nc')\n",
    "    #except:\n",
    "    #    pass"
   ]
  },
  {
   "cell_type": "code",
   "execution_count": null,
   "metadata": {
    "collapsed": false
   },
   "outputs": [],
   "source": [
    "spaths[idir]+'ts_'+idir+'_'+varNameDict[pl]+'.nc'"
   ]
  },
  {
   "cell_type": "code",
   "execution_count": null,
   "metadata": {
    "collapsed": false
   },
   "outputs": [],
   "source": [
    "spaths[idir]+'ts_'+idir+'_'+varNameDict[pl]+'.nc'"
   ]
  },
  {
   "cell_type": "code",
   "execution_count": null,
   "metadata": {
    "collapsed": false
   },
   "outputs": [],
   "source": [
    "times=dict()\n",
    "for idir in dirnames:\n",
    "    f=ff[idir]['S3']\n",
    "    torig=dt.datetime.strptime(f.variables['time_centered'].time_origin,'%Y-%m-%d %H:%M:%S')\n",
    "    print(torig)\n",
    "    times[idir]=np.array([torig + dt.timedelta(seconds=ii) for ii in f.variables['time_centered'][:]])"
   ]
  },
  {
   "cell_type": "code",
   "execution_count": null,
   "metadata": {
    "collapsed": false
   },
   "outputs": [],
   "source": [
    "lcol={dirname1:{'diatoms':'darkgreen','flagellates':'mediumblue','ciliates':'maroon'},}\n",
    "#     dirname2:{'diatoms':'c','flagellates':'blueviolet','ciliates':'orange'}}\n",
    "lsty={dirname1:'-',}\n",
    "#      dirname2:'--'}"
   ]
  },
  {
   "cell_type": "code",
   "execution_count": null,
   "metadata": {
    "collapsed": false
   },
   "outputs": [],
   "source": [
    "tmins=list()\n",
    "tmaxs=list()\n",
    "for idir in dirnames:\n",
    "    tmins.append(times[idir][0])\n",
    "    tmaxs.append(times[idir][-1])\n",
    "xl=(np.min(np.array(tmins)),np.max(np.array(tmaxs)))"
   ]
  },
  {
   "cell_type": "code",
   "execution_count": null,
   "metadata": {
    "collapsed": false
   },
   "outputs": [],
   "source": [
    "xl"
   ]
  },
  {
   "cell_type": "code",
   "execution_count": null,
   "metadata": {
    "collapsed": true
   },
   "outputs": [],
   "source": [
    "sumVarTr={'diatoms':'diatSum','flagellates':'flagSum','ciliates':'myriSum'}"
   ]
  },
  {
   "cell_type": "code",
   "execution_count": null,
   "metadata": {
    "collapsed": false,
    "scrolled": true
   },
   "outputs": [],
   "source": [
    "yearsFmt = mdates.DateFormatter('%b %d')\n",
    "fig,ax=plt.subplots(len(plist),1,figsize=(16,3*(len(plist))))\n",
    "pp=dict()\n",
    "for ii in range(0,len(plist)):\n",
    "    pl=plist[ii]\n",
    "    if pl=='S3':\n",
    "        ax[ii].plot(df.loc[iidfnd,['dts']],[float(ik[0]) for ik in df.loc[iidfnd,['Chlorophyll_ug']].values],'.',color='lightgray',alpha=.5)\n",
    "    pp[ii]=dict()\n",
    "    for idir in dirnames:\n",
    "        f=ff[idir][pl]\n",
    "        for var in ('diatoms','flagellates','ciliates'):\n",
    "            try:\n",
    "                pp[ii][var]=ax[ii].plot(times[idir],2.0*np.sum(f.variables[var][:,:3,0,0]*f.variables['e3t'][:,:3,0,0],1)/np.sum(f.variables['e3t'][:,:3,0,0],1),\n",
    "                          linestyle=lsty[idir],color=lcol[idir][var],alpha=.5,label=idir+' '+var)\n",
    "            except:\n",
    "                pp[ii][var]=ax[ii].plot(times[idir],2.0*np.sum(f.variables[var][:,:3,0,0]*np.tile(e3t_0[:,:3,0,0],(len(times[idir]),1)),1)/np.sum(np.tile(e3t_0[:,:3,0,0],(len(times[idir]),1)),1),\n",
    "                          linestyle=lsty[idir],color=lcol[idir][var],alpha=.5,label=idir+' '+var)\n",
    "        try:\n",
    "            pp[ii]['tot']=ax[ii].plot(times[idir],2.0*np.sum((f.variables['diatoms'][:,:3,0,0]+f.variables['flagellates'][:,:3,0,0]+f.variables['ciliates'][:,:3,0,0])*f.variables['e3t'][:,:3,0,0],1)/np.sum(f.variables['e3t'][:,:3,0,0],1),\n",
    "                          linestyle=lsty[idir],color='k',alpha=.6,label=idir+' '+'total')\n",
    "        except:\n",
    "            pp[ii]['tot']=ax[ii].plot(times[idir],2.0*np.sum((f.variables['diatoms'][:,:3,0,0]+f.variables['flagellates'][:,:3,0,0]+f.variables['ciliates'][:,:3,0,0])*np.tile(e3t_0[:,:3,0,0],(len(times[idir]),1)),1)/np.sum(np.tile(e3t_0[:,:3,0,0],(len(times[idir]),1)),1),\n",
    "                          linestyle=lsty[idir],color='k',alpha=.6,label=idir+' '+'total')\n",
    "    ax[ii].set_title(pl)\n",
    "    ax[ii].set_ylabel('chl ($\\mu$g/L)')\n",
    "    ax[ii].xaxis.set_major_formatter(yearsFmt)\n",
    "    ax[ii].set_xlim(xl)\n",
    "    ax[ii].set_ylim(0,40)\n",
    "    if ii==0:\n",
    "        ax[0].legend(bbox_to_anchor=(1,1),fontsize=12)\n",
    "\n",
    "plt.tight_layout()"
   ]
  },
  {
   "cell_type": "code",
   "execution_count": null,
   "metadata": {
    "collapsed": false
   },
   "outputs": [],
   "source": [
    "yearsFmt = mdates.DateFormatter('%b %d')\n",
    "fig,ax=plt.subplots(len(plist),1,figsize=(16,3*(len(plist))))\n",
    "pp=dict()\n",
    "for ii in range(0,len(plist)):\n",
    "    pl=plist[ii]\n",
    "    if pl=='S3':\n",
    "        ax[ii].plot(df.loc[iidfnd,['dts']],[float(ik[0]) for ik in df.loc[iidfnd,['Chlorophyll_ug']].values],'.',color='lightgray',alpha=.5)\n",
    "    pp[ii]=dict()\n",
    "    for idir in dirnames:\n",
    "        f=ff[idir][pl]\n",
    "        for var in ('diatoms',):#,'flagellates','ciliates'):\n",
    "            try:\n",
    "                pp[ii][var]=ax[ii].plot(times[idir],2.0*np.sum(f.variables[var][:,:3,0,0]*f.variables['e3t'][:,:3,0,0],1)/np.sum(f.variables['e3t'][:,:3,0,0],1),\n",
    "                          linestyle=lsty[idir],color=lcol[idir][var],alpha=.5,label=idir+' '+var)\n",
    "            except:\n",
    "                pp[ii][var]=ax[ii].plot(times[idir],2.0*np.sum(f.variables[var][:,:3,0,0]*np.tile(e3t_0[:,:3,0,0],(len(times[idir]),1)),1)/np.sum(np.tile(e3t_0[:,:3,0,0],(len(times[idir]),1)),1),\n",
    "                          linestyle=lsty[idir],color=lcol[idir][var],alpha=.5,label=idir+' '+var)\n",
    "        #try:\n",
    "        #    pp[ii]['tot']=ax[ii].plot(times[idir],2.0*np.sum((f.variables['diatoms'][:,:3,0,0]+f.variables['flagellates'][:,:3,0,0]+f.variables['ciliates'][:,:3,0,0])*f.variables['e3t'][:,:3,0,0],1)/np.sum(f.variables['e3t'][:,:3,0,0],1),\n",
    "        #                  linestyle=lsty[idir],color='k',alpha=.6,label=idir+' '+'total')\n",
    "        #except:\n",
    "        #    pp[ii]['tot']=ax[ii].plot(times[idir],2.0*np.sum((f.variables['diatoms'][:,:3,0,0]+f.variables['flagellates'][:,:3,0,0]+f.variables['ciliates'][:,:3,0,0])*np.tile(e3t_0[:,:3,0,0],(len(times[idir]),1)),1)/np.sum(np.tile(e3t_0[:,:3,0,0],(len(times[idir]),1)),1),\n",
    "        #                  linestyle=lsty[idir],color='k',alpha=.6,label=idir+' '+'total')\n",
    "    ax[ii].set_title(pl)\n",
    "    ax[ii].set_ylabel('chl ($\\mu$g/L)')\n",
    "    ax[ii].xaxis.set_major_formatter(yearsFmt)\n",
    "    ax[ii].set_xlim(xl)\n",
    "    ax[ii].set_ylim(0,40)\n",
    "    if ii==0:\n",
    "        ax[0].legend(bbox_to_anchor=(1,1),fontsize=12)\n",
    "\n",
    "plt.tight_layout()"
   ]
  },
  {
   "cell_type": "code",
   "execution_count": null,
   "metadata": {
    "collapsed": false
   },
   "outputs": [],
   "source": [
    "yearsFmt = mdates.DateFormatter('%b %d')\n",
    "fig,ax=plt.subplots(len(plist),1,figsize=(16,3*(len(plist))))\n",
    "pp=dict()\n",
    "for ii in range(0,len(plist)):\n",
    "    pl=plist[ii]\n",
    "    if pl=='S3':\n",
    "        ax[ii].plot(df.loc[iidfnd,['dts']],[float(ik[0]) for ik in df.loc[iidfnd,['Chlorophyll_ug']].values],'.',color='lightgray',alpha=.5)\n",
    "    pp[ii]=dict()\n",
    "    for idir in dirnames:\n",
    "        f=ff[idir][pl]\n",
    "        for var in ('flagellates',):#,'flagellates','ciliates'):\n",
    "            try:\n",
    "                pp[ii][var]=ax[ii].plot(times[idir],2.0*np.sum(f.variables[var][:,:3,0,0]*f.variables['e3t'][:,:3,0,0],1)/np.sum(f.variables['e3t'][:,:3,0,0],1),\n",
    "                          linestyle=lsty[idir],color=lcol[idir][var],alpha=.5,label=idir+' '+var)\n",
    "            except:\n",
    "                pp[ii][var]=ax[ii].plot(times[idir],2.0*np.sum(f.variables[var][:,:3,0,0]*np.tile(e3t_0[:,:3,0,0],(len(times[idir]),1)),1)/np.sum(np.tile(e3t_0[:,:3,0,0],(len(times[idir]),1)),1),\n",
    "                          linestyle=lsty[idir],color=lcol[idir][var],alpha=.5,label=idir+' '+var)\n",
    "        #try:\n",
    "        #    pp[ii]['tot']=ax[ii].plot(times[idir],2.0*np.sum((f.variables['diatoms'][:,:3,0,0]+f.variables['flagellates'][:,:3,0,0]+f.variables['ciliates'][:,:3,0,0])*f.variables['e3t'][:,:3,0,0],1)/np.sum(f.variables['e3t'][:,:3,0,0],1),\n",
    "        #                  linestyle=lsty[idir],color='k',alpha=.6,label=idir+' '+'total')\n",
    "        #except:\n",
    "        #    pp[ii]['tot']=ax[ii].plot(times[idir],2.0*np.sum((f.variables['diatoms'][:,:3,0,0]+f.variables['flagellates'][:,:3,0,0]+f.variables['ciliates'][:,:3,0,0])*np.tile(e3t_0[:,:3,0,0],(len(times[idir]),1)),1)/np.sum(np.tile(e3t_0[:,:3,0,0],(len(times[idir]),1)),1),\n",
    "        #                  linestyle=lsty[idir],color='k',alpha=.6,label=idir+' '+'total')\n",
    "    ax[ii].set_title(pl)\n",
    "    ax[ii].set_ylabel('chl ($\\mu$g/L)')\n",
    "    ax[ii].xaxis.set_major_formatter(yearsFmt)\n",
    "    ax[ii].set_xlim(xl)\n",
    "    ax[ii].set_ylim(0,40)\n",
    "    if ii==0:\n",
    "        ax[0].legend(bbox_to_anchor=(1,1),fontsize=12)\n",
    "\n",
    "plt.tight_layout()"
   ]
  },
  {
   "cell_type": "code",
   "execution_count": null,
   "metadata": {
    "collapsed": false
   },
   "outputs": [],
   "source": [
    "yearsFmt = mdates.DateFormatter('%b %d')\n",
    "fig,ax=plt.subplots(len(plist),1,figsize=(16,3*(len(plist))))\n",
    "pp=dict()\n",
    "for ii in range(0,len(plist)):\n",
    "    pl=plist[ii]\n",
    "    if pl=='S3':\n",
    "        ax[ii].plot(df.loc[iidfnd,['dts']],[float(ik[0]) for ik in df.loc[iidfnd,['Chlorophyll_ug']].values],'.',color='lightgray',alpha=.5)\n",
    "    pp[ii]=dict()\n",
    "    for idir in dirnames:\n",
    "        f=ff[idir][pl]\n",
    "        for var in ('ciliates',):#,'flagellates','ciliates'):\n",
    "            try:\n",
    "                pp[ii][var]=ax[ii].plot(times[idir],2.0*np.sum(f.variables[var][:,:3,0,0]*f.variables['e3t'][:,:3,0,0],1)/np.sum(f.variables['e3t'][:,:3,0,0],1),\n",
    "                          linestyle=lsty[idir],color=lcol[idir][var],alpha=.5,label=idir+' '+var)\n",
    "            except:\n",
    "                pp[ii][var]=ax[ii].plot(times[idir],2.0*np.sum(f.variables[var][:,:3,0,0]*np.tile(e3t_0[:,:3,0,0],(len(times[idir]),1)),1)/np.sum(np.tile(e3t_0[:,:3,0,0],(len(times[idir]),1)),1),\n",
    "                          linestyle=lsty[idir],color=lcol[idir][var],alpha=.5,label=idir+' '+var)\n",
    "        #try:\n",
    "        #    pp[ii]['tot']=ax[ii].plot(times[idir],2.0*np.sum((f.variables['diatoms'][:,:3,0,0]+f.variables['flagellates'][:,:3,0,0]+f.variables['ciliates'][:,:3,0,0])*f.variables['e3t'][:,:3,0,0],1)/np.sum(f.variables['e3t'][:,:3,0,0],1),\n",
    "        #                  linestyle=lsty[idir],color='k',alpha=.6,label=idir+' '+'total')\n",
    "        #except:\n",
    "        #    pp[ii]['tot']=ax[ii].plot(times[idir],2.0*np.sum((f.variables['diatoms'][:,:3,0,0]+f.variables['flagellates'][:,:3,0,0]+f.variables['ciliates'][:,:3,0,0])*np.tile(e3t_0[:,:3,0,0],(len(times[idir]),1)),1)/np.sum(np.tile(e3t_0[:,:3,0,0],(len(times[idir]),1)),1),\n",
    "        #                  linestyle=lsty[idir],color='k',alpha=.6,label=idir+' '+'total')\n",
    "    ax[ii].set_title(pl)\n",
    "    ax[ii].set_ylabel('chl ($\\mu$g/L)')\n",
    "    ax[ii].xaxis.set_major_formatter(yearsFmt)\n",
    "    ax[ii].set_xlim(xl)\n",
    "    ax[ii].set_ylim(0,40)\n",
    "    if ii==0:\n",
    "        ax[0].legend(bbox_to_anchor=(1,1),fontsize=12)\n",
    "\n",
    "plt.tight_layout()"
   ]
  },
  {
   "cell_type": "code",
   "execution_count": null,
   "metadata": {
    "collapsed": false,
    "scrolled": true
   },
   "outputs": [],
   "source": [
    "# one at a time\n",
    "yearsFmt = mdates.DateFormatter('%b %d')\n",
    "for idir in dirnames:\n",
    "    fig,ax=plt.subplots(len(plist),1,figsize=(16,3*(len(plist))))\n",
    "    pp=dict()\n",
    "    for ii in range(0,len(plist)):\n",
    "        pl=plist[ii]\n",
    "        if pl=='S3':\n",
    "            ax[ii].plot(df.loc[iidfnd,['dts']],[(1/2.0)*float(ik[0]) for ik in df.loc[iidfnd,['Chlorophyll_ug']].values],'.',color='lightgray',alpha=.5)\n",
    "        pp[ii]=dict()\n",
    "        f=ff[idir][pl]\n",
    "        for var in ('diatoms','flagellates','ciliates'):\n",
    "            try:\n",
    "                pp[ii][var]=ax[ii].plot(times[idir],np.sum(f.variables[var][:,:3,0,0]*f.variables['e3t'][:,:3,0,0],1)/np.sum(f.variables['e3t'][:,:3,0,0],1),\n",
    "                          linestyle=lsty[idir],color=lcol[idir][var],alpha=.6,label=idir+' '+var)\n",
    "            except:\n",
    "                pp[ii][var]=ax[ii].plot(times[idir],np.sum(f.variables[var][:,:3,0,0]*np.tile(e3t_0[:,:3,0,0],(len(times[idir]),1)),1)/np.sum(np.tile(e3t_0[:,:3,0,0],(len(times[idir]),1)),1),\n",
    "                          linestyle=lsty[idir],color=lcol[idir][var],alpha=.6,label=idir+' '+var)\n",
    "        ax[ii].set_title(pl)\n",
    "        ax[ii].set_ylabel('N (mmol m$^{-2}$)')\n",
    "        ax[ii].xaxis.set_major_formatter(yearsFmt)\n",
    "        ax[ii].set_xlim(xl)\n",
    "        if ii==0:\n",
    "            ax[0].legend(bbox_to_anchor=(1.25,1),fontsize=12)\n",
    "\n",
    "    fig.suptitle(idir)\n",
    "    plt.tight_layout()"
   ]
  },
  {
   "cell_type": "code",
   "execution_count": null,
   "metadata": {
    "collapsed": true
   },
   "outputs": [],
   "source": []
  },
  {
   "cell_type": "code",
   "execution_count": null,
   "metadata": {
    "collapsed": true
   },
   "outputs": [],
   "source": []
  }
 ],
 "metadata": {
  "anaconda-cloud": {},
  "kernelspec": {
   "display_name": "Python [conda env:python36]",
   "language": "python",
   "name": "conda-env-python36-py"
  },
  "language_info": {
   "codemirror_mode": {
    "name": "ipython",
    "version": 3
   },
   "file_extension": ".py",
   "mimetype": "text/x-python",
   "name": "python",
   "nbconvert_exporter": "python",
   "pygments_lexer": "ipython3",
   "version": "3.6.3"
  }
 },
 "nbformat": 4,
 "nbformat_minor": 1
}
