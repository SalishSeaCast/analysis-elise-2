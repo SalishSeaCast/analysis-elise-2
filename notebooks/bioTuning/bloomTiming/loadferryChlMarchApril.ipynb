{
 "cells": [
  {
   "cell_type": "markdown",
   "metadata": {},
   "source": [
    "# inter-run comparisons of N contained in phytoplankton\n",
    "    - S3\n",
    "    - Sentry Shoal\n",
    "    - Central Node\n",
    "    - JDF"
   ]
  },
  {
   "cell_type": "code",
   "execution_count": 1,
   "metadata": {
    "collapsed": false
   },
   "outputs": [],
   "source": [
    "import pandas as pd\n",
    "import netCDF4 as nc\n",
    "import datetime as dt\n",
    "import subprocess\n",
    "import requests\n",
    "import matplotlib.pyplot as plt\n",
    "import cmocean\n",
    "import numpy as np\n",
    "import os\n",
    "import re\n",
    "import dateutil as dutil\n",
    "from salishsea_tools import viz_tools, places, geo_tools, evaltools as et\n",
    "import glob\n",
    "import pickle\n",
    "import matplotlib.dates as mdates\n",
    "import matplotlib as mpl\n",
    "import pytz\n",
    "mpl.rc('xtick', labelsize=14) \n",
    "mpl.rc('ytick', labelsize=16) \n",
    "mpl.rc('legend', fontsize=16) \n",
    "mpl.rc('axes', titlesize=16) \n",
    "mpl.rc('figure', titlesize=16) \n",
    "mpl.rc('axes', labelsize=16) \n",
    "mpl.rc('font', size=16) \n",
    "\n",
    "mpl.rcParams['font.size'] = 16\n",
    "mpl.rcParams['axes.titlesize'] = 16\n",
    "mpl.rcParams['legend.numpoints'] = 1\n",
    "%matplotlib inline"
   ]
  },
  {
   "cell_type": "code",
   "execution_count": 2,
   "metadata": {
    "collapsed": true
   },
   "outputs": [],
   "source": [
    "plist=['Sentry Shoal','S3','Central node','Central SJDF']"
   ]
  },
  {
   "cell_type": "code",
   "execution_count": 3,
   "metadata": {
    "collapsed": false,
    "scrolled": true
   },
   "outputs": [
    {
     "name": "stdout",
     "output_type": "stream",
     "text": [
      "search3928586/BritishColumbiaFerries_Tsawwassen-DukePoint_Turbidity-ChlorophyllandFluorescence_20130117T052039Z_20131214T042429Z-clean.csv\n",
      "search3928586/BritishColumbiaFerries_Tsawwassen-DukePoint_Turbidity-ChlorophyllandFluorescence_20131214T042439Z_20140804T234320Z-clean.csv\n",
      "search3928586/BritishColumbiaFerries_Tsawwassen-DukePoint_Turbidity-ChlorophyllandFluorescence_20140804T234330Z_20150604T070614Z-clean.csv\n",
      "search3928586/BritishColumbiaFerries_Tsawwassen-DukePoint_Turbidity-ChlorophyllandFluorescence_20150604T070624Z_20160307T160206Z-clean.csv\n",
      "search3928586/BritishColumbiaFerries_Tsawwassen-DukePoint_Turbidity-ChlorophyllandFluorescence_20160307T160215Z_20161019T064047Z-clean.csv\n",
      "search4979680/BritishColumbiaFerries_Tsawwassen-DukePoint_Turbidity-ChlorophyllandFluorescence_20170217T003041Z_20170315T031911Z-clean.csv\n",
      "search4979680/BritishColumbiaFerries_Tsawwassen-DukePoint_Turbidity-ChlorophyllandFluorescence_20170315T031912Z_20170404T195130Z-clean.csv\n",
      "search4979680/BritishColumbiaFerries_Tsawwassen-DukePoint_Turbidity-ChlorophyllandFluorescence_20170404T195131Z_20170426T173215Z-clean.csv\n",
      "search4979680/BritishColumbiaFerries_Tsawwassen-DukePoint_Turbidity-ChlorophyllandFluorescence_20170426T173216Z_20170522T011843Z-clean.csv\n",
      "search7672208/BritishColumbiaFerries_Tsawwassen-DukePoint_Turbidity-ChlorophyllandFluorescence_20180220T145337Z_20180313T223206Z-clean.csv\n",
      "search7672208/BritishColumbiaFerries_Tsawwassen-DukePoint_Turbidity-ChlorophyllandFluorescence_20180313T223207Z_20180404T024033Z-clean.csv\n",
      "search7672208/BritishColumbiaFerries_Tsawwassen-DukePoint_Turbidity-ChlorophyllandFluorescence_20180404T024034Z_20180509T210327Z-clean.csv\n",
      "totlen= 11997832\n"
     ]
    }
   ],
   "source": [
    "## full list: flist=['search3928586/BritishColumbiaFerries_Tsawwassen-DukePoint_Turbidity-ChlorophyllandFluorescence_20120509T231233Z_20130117T052029Z-clean.csv',\n",
    "#       'search3928586/BritishColumbiaFerries_Tsawwassen-DukePoint_Turbidity-ChlorophyllandFluorescence_20130117T052039Z_20131214T042429Z-clean.csv',\n",
    "#       'search3928586/BritishColumbiaFerries_Tsawwassen-DukePoint_Turbidity-ChlorophyllandFluorescence_20131214T042439Z_20140804T234320Z-clean.csv',\n",
    "#       'search3928586/BritishColumbiaFerries_Tsawwassen-DukePoint_Turbidity-ChlorophyllandFluorescence_20140804T234330Z_20150604T070614Z-clean.csv',\n",
    "#       'search3928586/BritishColumbiaFerries_Tsawwassen-DukePoint_Turbidity-ChlorophyllandFluorescence_20150604T070624Z_20160307T160206Z-clean.csv',\n",
    "#       'search3928586/BritishColumbiaFerries_Tsawwassen-DukePoint_Turbidity-ChlorophyllandFluorescence_20160307T160215Z_20161019T064047Z-clean.csv',\n",
    "#       'search3928586/BritishColumbiaFerries_Tsawwassen-DukePoint_Turbidity-ChlorophyllandFluorescence_20161019T064056Z_20161115T220747Z-clean.csv',\n",
    "#       'search4979680/BritishColumbiaFerries_Tsawwassen-DukePoint_Turbidity-ChlorophyllandFluorescence_20170217T003041Z_20170315T031911Z-clean.csv',\n",
    "#       'search4979680/BritishColumbiaFerries_Tsawwassen-DukePoint_Turbidity-ChlorophyllandFluorescence_20170315T031912Z_20170404T195130Z-clean.csv',\n",
    "#       'search4979680/BritishColumbiaFerries_Tsawwassen-DukePoint_Turbidity-ChlorophyllandFluorescence_20170404T195131Z_20170426T173215Z-clean.csv',\n",
    "#       'search4979680/BritishColumbiaFerries_Tsawwassen-DukePoint_Turbidity-ChlorophyllandFluorescence_20170426T173216Z_20170522T011843Z-clean.csv',\n",
    "#       'search4979680/BritishColumbiaFerries_Tsawwassen-DukePoint_Turbidity-ChlorophyllandFluorescence_20170522T011844Z_20170611T234016Z-clean.csv',\n",
    "#       'search4979680/BritishColumbiaFerries_Tsawwassen-DukePoint_Turbidity-ChlorophyllandFluorescence_20170611T234017Z_20170702T172228Z-clean.csv',\n",
    "#       'search4979680/BritishColumbiaFerries_Tsawwassen-DukePoint_Turbidity-ChlorophyllandFluorescence_20170722T182607Z_20170815T213737Z-clean.csv',\n",
    "#       'search4979680/BritishColumbiaFerries_Tsawwassen-DukePoint_Turbidity-ChlorophyllandFluorescence_20170815T213738Z_20170825T225506Z-clean.csv',\n",
    "#       'search7672208/BritishColumbiaFerries_Tsawwassen-DukePoint_Turbidity-ChlorophyllandFluorescence_20170825T225507Z_20170923T032427Z-clean.csv',\n",
    "#       'search7672208/BritishColumbiaFerries_Tsawwassen-DukePoint_Turbidity-ChlorophyllandFluorescence_20170923T032428Z_20171016T213134Z-clean.csv',\n",
    "#       'search7672208/BritishColumbiaFerries_Tsawwassen-DukePoint_Turbidity-ChlorophyllandFluorescence_20171016T213135Z_20180108T160335Z-clean.csv',\n",
    "#       'search7672208/BritishColumbiaFerries_Tsawwassen-DukePoint_Turbidity-ChlorophyllandFluorescence_20180220T145337Z_20180313T223206Z-clean.csv',\n",
    "#       'search7672208/BritishColumbiaFerries_Tsawwassen-DukePoint_Turbidity-ChlorophyllandFluorescence_20180313T223207Z_20180404T024033Z-clean.csv',\n",
    "#       'search7672208/BritishColumbiaFerries_Tsawwassen-DukePoint_Turbidity-ChlorophyllandFluorescence_20180404T024034Z_20180509T210327Z-clean.csv']\n",
    "flist=['search3928586/BritishColumbiaFerries_Tsawwassen-DukePoint_Turbidity-ChlorophyllandFluorescence_20130117T052039Z_20131214T042429Z-clean.csv',\n",
    "       'search3928586/BritishColumbiaFerries_Tsawwassen-DukePoint_Turbidity-ChlorophyllandFluorescence_20131214T042439Z_20140804T234320Z-clean.csv',\n",
    "       'search3928586/BritishColumbiaFerries_Tsawwassen-DukePoint_Turbidity-ChlorophyllandFluorescence_20140804T234330Z_20150604T070614Z-clean.csv',\n",
    "       'search3928586/BritishColumbiaFerries_Tsawwassen-DukePoint_Turbidity-ChlorophyllandFluorescence_20150604T070624Z_20160307T160206Z-clean.csv',\n",
    "       'search3928586/BritishColumbiaFerries_Tsawwassen-DukePoint_Turbidity-ChlorophyllandFluorescence_20160307T160215Z_20161019T064047Z-clean.csv',\n",
    "       'search4979680/BritishColumbiaFerries_Tsawwassen-DukePoint_Turbidity-ChlorophyllandFluorescence_20170217T003041Z_20170315T031911Z-clean.csv',\n",
    "       'search4979680/BritishColumbiaFerries_Tsawwassen-DukePoint_Turbidity-ChlorophyllandFluorescence_20170315T031912Z_20170404T195130Z-clean.csv',\n",
    "       'search4979680/BritishColumbiaFerries_Tsawwassen-DukePoint_Turbidity-ChlorophyllandFluorescence_20170404T195131Z_20170426T173215Z-clean.csv',\n",
    "       'search4979680/BritishColumbiaFerries_Tsawwassen-DukePoint_Turbidity-ChlorophyllandFluorescence_20170426T173216Z_20170522T011843Z-clean.csv',\n",
    "       'search7672208/BritishColumbiaFerries_Tsawwassen-DukePoint_Turbidity-ChlorophyllandFluorescence_20180220T145337Z_20180313T223206Z-clean.csv',\n",
    "       'search7672208/BritishColumbiaFerries_Tsawwassen-DukePoint_Turbidity-ChlorophyllandFluorescence_20180313T223207Z_20180404T024033Z-clean.csv',\n",
    "       'search7672208/BritishColumbiaFerries_Tsawwassen-DukePoint_Turbidity-ChlorophyllandFluorescence_20180404T024034Z_20180509T210327Z-clean.csv']\n",
    "slist=[78,78,78,78,78,66,66,66,66,59,59,59]\n",
    "dfs=list()\n",
    "for ii in range(0,len(flist)):\n",
    "    print(flist[ii])\n",
    "    dfs.append(pd.read_csv('/ocean/eolson/MEOPAR/obs/ONC/turbidity/nearSurface/'+flist[ii],\n",
    "        skiprows=slist[ii],header=None,usecols=[0,1,2,3,4,5,6,7,8,9,10],\n",
    "        names=('TimeUTC','CDOM','CDOMQC','Chlorophyll_ug','ChlQC','Turbidity_NTU','TurbQC','Lat','LatQC','Lon','LongQC'),na_values=' NaN'))\n",
    "\n",
    "df=pd.concat(dfs,ignore_index=True)\n",
    "df.drop(df[df.ChlQC > 2].index, inplace=True)\n",
    "df.reset_index(inplace=True)\n",
    "dts=[dt.datetime(int(r[0:4]),int(r[5:7]),int(r[8:10]),int(r[11:13]),int(r[14:16]),int(r[17:19])) for r in df['TimeUTC']]\n",
    "df=df.assign(dtUTC=dts)\n",
    "#df['Lat']=pd.to_numeric(df['Lat'],errors='coerce')\n",
    "#df['Lon']=pd.to_numeric(df['Lon'],errors='coerce')\n",
    "#df['Chlorophyll_ug']=pd.to_numeric(df['Chlorophyll_ug'],errors='coerce')\n",
    "print('totlen=',len(df))"
   ]
  },
  {
   "cell_type": "code",
   "execution_count": 4,
   "metadata": {
    "collapsed": false
   },
   "outputs": [
    {
     "data": {
      "text/html": [
       "<div>\n",
       "<style scoped>\n",
       "    .dataframe tbody tr th:only-of-type {\n",
       "        vertical-align: middle;\n",
       "    }\n",
       "\n",
       "    .dataframe tbody tr th {\n",
       "        vertical-align: top;\n",
       "    }\n",
       "\n",
       "    .dataframe thead th {\n",
       "        text-align: right;\n",
       "    }\n",
       "</style>\n",
       "<table border=\"1\" class=\"dataframe\">\n",
       "  <thead>\n",
       "    <tr style=\"text-align: right;\">\n",
       "      <th></th>\n",
       "      <th>index</th>\n",
       "      <th>TimeUTC</th>\n",
       "      <th>CDOM</th>\n",
       "      <th>CDOMQC</th>\n",
       "      <th>Chlorophyll_ug</th>\n",
       "      <th>ChlQC</th>\n",
       "      <th>Turbidity_NTU</th>\n",
       "      <th>TurbQC</th>\n",
       "      <th>Lat</th>\n",
       "      <th>LatQC</th>\n",
       "      <th>Lon</th>\n",
       "      <th>LongQC</th>\n",
       "      <th>dtUTC</th>\n",
       "    </tr>\n",
       "  </thead>\n",
       "  <tbody>\n",
       "    <tr>\n",
       "      <th>0</th>\n",
       "      <td>0</td>\n",
       "      <td>2013-01-17T05:20:39.819Z</td>\n",
       "      <td>9.4080</td>\n",
       "      <td>0</td>\n",
       "      <td>1.5367</td>\n",
       "      <td>0</td>\n",
       "      <td>5.2128</td>\n",
       "      <td>0</td>\n",
       "      <td>49.137236</td>\n",
       "      <td>8</td>\n",
       "      <td>-123.539987</td>\n",
       "      <td>8</td>\n",
       "      <td>2013-01-17 05:20:39</td>\n",
       "    </tr>\n",
       "    <tr>\n",
       "      <th>1</th>\n",
       "      <td>1</td>\n",
       "      <td>2013-01-17T05:20:49.994Z</td>\n",
       "      <td>9.4976</td>\n",
       "      <td>0</td>\n",
       "      <td>1.4883</td>\n",
       "      <td>0</td>\n",
       "      <td>5.1404</td>\n",
       "      <td>0</td>\n",
       "      <td>49.137703</td>\n",
       "      <td>8</td>\n",
       "      <td>-123.541167</td>\n",
       "      <td>8</td>\n",
       "      <td>2013-01-17 05:20:49</td>\n",
       "    </tr>\n",
       "    <tr>\n",
       "      <th>2</th>\n",
       "      <td>2</td>\n",
       "      <td>2013-01-17T05:21:00.169Z</td>\n",
       "      <td>9.4080</td>\n",
       "      <td>0</td>\n",
       "      <td>1.5125</td>\n",
       "      <td>0</td>\n",
       "      <td>5.0680</td>\n",
       "      <td>0</td>\n",
       "      <td>49.138129</td>\n",
       "      <td>8</td>\n",
       "      <td>-123.542221</td>\n",
       "      <td>8</td>\n",
       "      <td>2013-01-17 05:21:00</td>\n",
       "    </tr>\n",
       "    <tr>\n",
       "      <th>3</th>\n",
       "      <td>3</td>\n",
       "      <td>2013-01-17T05:21:10.343Z</td>\n",
       "      <td>9.4976</td>\n",
       "      <td>0</td>\n",
       "      <td>1.4883</td>\n",
       "      <td>0</td>\n",
       "      <td>5.2128</td>\n",
       "      <td>0</td>\n",
       "      <td>49.138452</td>\n",
       "      <td>8</td>\n",
       "      <td>-123.543240</td>\n",
       "      <td>8</td>\n",
       "      <td>2013-01-17 05:21:10</td>\n",
       "    </tr>\n",
       "    <tr>\n",
       "      <th>4</th>\n",
       "      <td>4</td>\n",
       "      <td>2013-01-17T05:21:19.386Z</td>\n",
       "      <td>9.4080</td>\n",
       "      <td>0</td>\n",
       "      <td>1.5004</td>\n",
       "      <td>0</td>\n",
       "      <td>5.1404</td>\n",
       "      <td>0</td>\n",
       "      <td>49.138872</td>\n",
       "      <td>8</td>\n",
       "      <td>-123.544143</td>\n",
       "      <td>8</td>\n",
       "      <td>2013-01-17 05:21:19</td>\n",
       "    </tr>\n",
       "  </tbody>\n",
       "</table>\n",
       "</div>"
      ],
      "text/plain": [
       "   index                   TimeUTC    CDOM  CDOMQC  Chlorophyll_ug  ChlQC  \\\n",
       "0      0  2013-01-17T05:20:39.819Z  9.4080       0          1.5367      0   \n",
       "1      1  2013-01-17T05:20:49.994Z  9.4976       0          1.4883      0   \n",
       "2      2  2013-01-17T05:21:00.169Z  9.4080       0          1.5125      0   \n",
       "3      3  2013-01-17T05:21:10.343Z  9.4976       0          1.4883      0   \n",
       "4      4  2013-01-17T05:21:19.386Z  9.4080       0          1.5004      0   \n",
       "\n",
       "   Turbidity_NTU  TurbQC        Lat  LatQC         Lon  LongQC  \\\n",
       "0         5.2128       0  49.137236      8 -123.539987       8   \n",
       "1         5.1404       0  49.137703      8 -123.541167       8   \n",
       "2         5.0680       0  49.138129      8 -123.542221       8   \n",
       "3         5.2128       0  49.138452      8 -123.543240       8   \n",
       "4         5.1404       0  49.138872      8 -123.544143       8   \n",
       "\n",
       "                dtUTC  \n",
       "0 2013-01-17 05:20:39  \n",
       "1 2013-01-17 05:20:49  \n",
       "2 2013-01-17 05:21:00  \n",
       "3 2013-01-17 05:21:10  \n",
       "4 2013-01-17 05:21:19  "
      ]
     },
     "execution_count": 4,
     "metadata": {},
     "output_type": "execute_result"
    }
   ],
   "source": [
    "df.head()"
   ]
  },
  {
   "cell_type": "code",
   "execution_count": 5,
   "metadata": {
    "collapsed": false
   },
   "outputs": [
    {
     "data": {
      "text/plain": [
       "-123.541167459"
      ]
     },
     "execution_count": 5,
     "metadata": {},
     "output_type": "execute_result"
    }
   ],
   "source": [
    "df['Lon'][1]"
   ]
  },
  {
   "cell_type": "code",
   "execution_count": 6,
   "metadata": {
    "collapsed": false
   },
   "outputs": [
    {
     "data": {
      "text/plain": [
       "1"
      ]
     },
     "execution_count": 6,
     "metadata": {},
     "output_type": "execute_result"
    }
   ],
   "source": [
    "df['dtUTC'][0].month"
   ]
  },
  {
   "cell_type": "code",
   "execution_count": 7,
   "metadata": {
    "collapsed": false
   },
   "outputs": [
    {
     "data": {
      "text/plain": [
       "{'lon lat': (-123.558, 49.125),\n",
       " 'NEMO grid ji': (450, 258),\n",
       " 'GEM2.5 grid ji': (138, 144)}"
      ]
     },
     "execution_count": 7,
     "metadata": {},
     "output_type": "execute_result"
    }
   ],
   "source": [
    "places.PLACES['S3']"
   ]
  },
  {
   "cell_type": "code",
   "execution_count": 8,
   "metadata": {
    "collapsed": true
   },
   "outputs": [],
   "source": [
    "S3la=places.PLACES['S3']['lon lat'][1]\n",
    "S3lo=places.PLACES['S3']['lon lat'][0]"
   ]
  },
  {
   "cell_type": "code",
   "execution_count": 11,
   "metadata": {
    "collapsed": false
   },
   "outputs": [],
   "source": [
    "df=df.loc[(df.Chlorophyll_ug>=0)&(df.Lat>S3la-2/111)&(df.Lat<S3la+2/111)&\\\n",
    "          (df.Lon>S3lo-2/111/np.cos(np.pi/180*49.1))&(df.Lon<S3lo+2/111/np.cos(np.pi/180*49.1))].copy(deep=True)"
   ]
  },
  {
   "cell_type": "code",
   "execution_count": 12,
   "metadata": {
    "collapsed": false
   },
   "outputs": [],
   "source": [
    "month=[ii.month for ii in df['dtUTC']]"
   ]
  },
  {
   "cell_type": "code",
   "execution_count": 13,
   "metadata": {
    "collapsed": true
   },
   "outputs": [],
   "source": [
    "df=df.assign(month=month)"
   ]
  },
  {
   "cell_type": "code",
   "execution_count": 14,
   "metadata": {
    "collapsed": false
   },
   "outputs": [],
   "source": [
    "df.drop(df[~((df.month==3) | (df.month==4))].index, inplace=True)\n",
    "df.reset_index(inplace=True)"
   ]
  },
  {
   "cell_type": "code",
   "execution_count": 15,
   "metadata": {
    "collapsed": true
   },
   "outputs": [],
   "source": [
    "yr=[ii.year for ii in df['dtUTC']]\n",
    "df=df.assign(year=yr)"
   ]
  },
  {
   "cell_type": "code",
   "execution_count": 16,
   "metadata": {
    "collapsed": false
   },
   "outputs": [],
   "source": [
    "df2=df.groupby(['year'])['Chlorophyll_ug'].mean()"
   ]
  },
  {
   "cell_type": "code",
   "execution_count": 17,
   "metadata": {
    "collapsed": false
   },
   "outputs": [
    {
     "data": {
      "text/plain": [
       "year\n",
       "2013    3.507774\n",
       "2014    4.304820\n",
       "2015    7.613079\n",
       "2016    3.531342\n",
       "2017    7.239005\n",
       "2018    5.742905\n",
       "Name: Chlorophyll_ug, dtype: float64"
      ]
     },
     "execution_count": 17,
     "metadata": {},
     "output_type": "execute_result"
    }
   ],
   "source": [
    "df2"
   ]
  },
  {
   "cell_type": "code",
   "execution_count": 18,
   "metadata": {
    "collapsed": false
   },
   "outputs": [
    {
     "data": {
      "text/plain": [
       "[<matplotlib.lines.Line2D at 0x7fb333a52128>]"
      ]
     },
     "execution_count": 18,
     "metadata": {},
     "output_type": "execute_result"
    },
    {
     "data": {
      "image/png": "[encoded data removed]",
      "text/plain": [
       "<Figure size 864x360 with 1 Axes>"
      ]
     },
     "metadata": {
      "needs_background": "light"
     },
     "output_type": "display_data"
    }
   ],
   "source": [
    "fig,ax=plt.subplots(1,1,figsize=(12,5))\n",
    "ax.plot(df2)"
   ]
  },
  {
   "cell_type": "code",
   "execution_count": null,
   "metadata": {
    "collapsed": true
   },
   "outputs": [],
   "source": []
  },
  {
   "cell_type": "code",
   "execution_count": null,
   "metadata": {
    "collapsed": true
   },
   "outputs": [],
   "source": []
  }
 ],
 "metadata": {
  "anaconda-cloud": {},
  "kernelspec": {
   "display_name": "Python [conda env:py37]",
   "language": "python",
   "name": "conda-env-py37-py"
  },
  "language_info": {
   "codemirror_mode": {
    "name": "ipython",
    "version": 3
   },
   "file_extension": ".py",
   "mimetype": "text/x-python",
   "name": "python",
   "nbconvert_exporter": "python",
   "pygments_lexer": "ipython3",
   "version": "3.7.2"
  }
 },
 "nbformat": 4,
 "nbformat_minor": 1
}
