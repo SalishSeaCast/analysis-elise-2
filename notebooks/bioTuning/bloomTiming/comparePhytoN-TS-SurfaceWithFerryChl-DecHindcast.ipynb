{
 "cells": [
  {
   "cell_type": "markdown",
   "metadata": {},
   "source": [
    "# inter-run comparisons of N contained in phytoplankton\n",
    "    - S3\n",
    "    - Sentry Shoal\n",
    "    - Central Node\n",
    "    - JDF"
   ]
  },
  {
   "cell_type": "code",
   "execution_count": 1,
   "metadata": {
    "collapsed": false
   },
   "outputs": [],
   "source": [
    "import pandas as pd\n",
    "import netCDF4 as nc\n",
    "import datetime as dt\n",
    "import subprocess\n",
    "import requests\n",
    "import matplotlib.pyplot as plt\n",
    "import cmocean\n",
    "import numpy as np\n",
    "import os\n",
    "import re\n",
    "import dateutil as dutil\n",
    "from salishsea_tools import viz_tools, places\n",
    "import glob\n",
    "import pickle\n",
    "import matplotlib.dates as mdates\n",
    "import matplotlib as mpl\n",
    "mpl.rc('xtick', labelsize=14) \n",
    "mpl.rc('ytick', labelsize=16) \n",
    "mpl.rc('legend', fontsize=16) \n",
    "mpl.rc('axes', titlesize=16) \n",
    "mpl.rc('figure', titlesize=16) \n",
    "mpl.rc('axes', labelsize=16) \n",
    "mpl.rc('font', size=16) \n",
    "\n",
    "mpl.rcParams['font.size'] = 16\n",
    "mpl.rcParams['axes.titlesize'] = 16\n",
    "mpl.rcParams['legend.numpoints'] = 1\n",
    "%matplotlib inline"
   ]
  },
  {
   "cell_type": "code",
   "execution_count": 2,
   "metadata": {
    "collapsed": true
   },
   "outputs": [],
   "source": [
    "plist=['Sentry Shoal','S3','Central node','Central SJDF']"
   ]
  },
  {
   "cell_type": "code",
   "execution_count": 3,
   "metadata": {
    "collapsed": false,
    "scrolled": true
   },
   "outputs": [
    {
     "name": "stderr",
     "output_type": "stream",
     "text": [
      "/home/eolson/anaconda3/envs/python36/lib/python3.6/site-packages/IPython/core/interactiveshell.py:2698: DtypeWarning: Columns (3) have mixed types. Specify dtype option on import or set low_memory=False.\n",
      "  interactivity=interactivity, compiler=compiler, result=result)\n"
     ]
    }
   ],
   "source": [
    "df1=pd.read_csv('/ocean/eolson/MEOPAR/obs/ONC/turbidity/nearSurface/search3928586/BritishColumbiaFerries_Tsawwassen-DukePoint_Turbidity-ChlorophyllandFluorescence_20140804T234330Z_20150604T070614Z-clean.csv',\n",
    "        skiprows=78,header=None,\n",
    "        names=('TimeUTC','CDOM','CDOMQC','Chlorophyll_ug','ChlQC','Turbidity_NTU','TurbQC','Lat','LatQC','Lon','LongQC'))"
   ]
  },
  {
   "cell_type": "code",
   "execution_count": 4,
   "metadata": {
    "collapsed": false
   },
   "outputs": [
    {
     "name": "stderr",
     "output_type": "stream",
     "text": [
      "/home/eolson/anaconda3/envs/python36/lib/python3.6/site-packages/IPython/core/interactiveshell.py:2698: DtypeWarning: Columns (1,3,5) have mixed types. Specify dtype option on import or set low_memory=False.\n",
      "  interactivity=interactivity, compiler=compiler, result=result)\n"
     ]
    }
   ],
   "source": [
    "df2=pd.read_csv('/ocean/eolson/MEOPAR/obs/ONC/turbidity/nearSurface/search3928586/BritishColumbiaFerries_Tsawwassen-DukePoint_Turbidity-ChlorophyllandFluorescence_20150604T070624Z_20160307T160206Z-clean.csv',\n",
    "        skiprows=78,header=None,\n",
    "        names=('TimeUTC','CDOM','CDOMQC','Chlorophyll_ug','ChlQC','Turbidity_NTU','TurbQC','Lat','LatQC','Lon','LongQC'))"
   ]
  },
  {
   "cell_type": "code",
   "execution_count": null,
   "metadata": {
    "collapsed": false
   },
   "outputs": [],
   "source": [
    "df=pd.concat([df1.drop(df1[df1.TimeUTC<'2015'].index),df2.drop(df2[df2.TimeUTC>'2016'].index)],ignore_index=True)"
   ]
  },
  {
   "cell_type": "code",
   "execution_count": null,
   "metadata": {
    "collapsed": false
   },
   "outputs": [],
   "source": [
    "dts=[dt.datetime(int(r[0:4]),int(r[5:7]),int(r[8:10]),int(r[11:13]),int(r[14:16]),int(r[17:19])) for r in df['TimeUTC']]"
   ]
  },
  {
   "cell_type": "code",
   "execution_count": null,
   "metadata": {
    "collapsed": false
   },
   "outputs": [],
   "source": [
    "df=df.assign(dts=dts)"
   ]
  },
  {
   "cell_type": "code",
   "execution_count": null,
   "metadata": {
    "collapsed": true
   },
   "outputs": [],
   "source": [
    "df['Lat']=pd.to_numeric(df['Lat'],errors='coerce')\n",
    "df['Lon']=pd.to_numeric(df['Lon'],errors='coerce')"
   ]
  },
  {
   "cell_type": "code",
   "execution_count": null,
   "metadata": {
    "collapsed": false
   },
   "outputs": [
    {
     "data": {
      "text/html": [
       "<div>\n",
       "<style scoped>\n",
       "    .dataframe tbody tr th:only-of-type {\n",
       "        vertical-align: middle;\n",
       "    }\n",
       "\n",
       "    .dataframe tbody tr th {\n",
       "        vertical-align: top;\n",
       "    }\n",
       "\n",
       "    .dataframe thead th {\n",
       "        text-align: right;\n",
       "    }\n",
       "</style>\n",
       "<table border=\"1\" class=\"dataframe\">\n",
       "  <thead>\n",
       "    <tr style=\"text-align: right;\">\n",
       "      <th></th>\n",
       "      <th>TimeUTC</th>\n",
       "      <th>CDOM</th>\n",
       "      <th>CDOMQC</th>\n",
       "      <th>Chlorophyll_ug</th>\n",
       "      <th>ChlQC</th>\n",
       "      <th>Turbidity_NTU</th>\n",
       "      <th>TurbQC</th>\n",
       "      <th>Lat</th>\n",
       "      <th>LatQC</th>\n",
       "      <th>Lon</th>\n",
       "      <th>LongQC</th>\n",
       "      <th>dts</th>\n",
       "    </tr>\n",
       "  </thead>\n",
       "  <tbody>\n",
       "    <tr>\n",
       "      <th>0</th>\n",
       "      <td>2015-01-01T00:00:08.461Z</td>\n",
       "      <td>16.5912</td>\n",
       "      <td>1</td>\n",
       "      <td>1.2463</td>\n",
       "      <td>1</td>\n",
       "      <td>4.5548</td>\n",
       "      <td>1</td>\n",
       "      <td>49.094471</td>\n",
       "      <td>8</td>\n",
       "      <td>-123.426450</td>\n",
       "      <td>8</td>\n",
       "      <td>2015-01-01 00:00:08</td>\n",
       "    </tr>\n",
       "    <tr>\n",
       "      <th>1</th>\n",
       "      <td>2015-01-01T00:00:17.515Z</td>\n",
       "      <td>16.948</td>\n",
       "      <td>1</td>\n",
       "      <td>1.2342</td>\n",
       "      <td>1</td>\n",
       "      <td>4.7864</td>\n",
       "      <td>1</td>\n",
       "      <td>49.094835</td>\n",
       "      <td>8</td>\n",
       "      <td>-123.427538</td>\n",
       "      <td>8</td>\n",
       "      <td>2015-01-01 00:00:17</td>\n",
       "    </tr>\n",
       "    <tr>\n",
       "      <th>2</th>\n",
       "      <td>2015-01-01T00:00:27.689Z</td>\n",
       "      <td>16.7696</td>\n",
       "      <td>1</td>\n",
       "      <td>1.2221</td>\n",
       "      <td>1</td>\n",
       "      <td>4.632</td>\n",
       "      <td>1</td>\n",
       "      <td>49.095233</td>\n",
       "      <td>8</td>\n",
       "      <td>-123.428714</td>\n",
       "      <td>8</td>\n",
       "      <td>2015-01-01 00:00:27</td>\n",
       "    </tr>\n",
       "    <tr>\n",
       "      <th>3</th>\n",
       "      <td>2015-01-01T00:00:37.874Z</td>\n",
       "      <td>16.7696</td>\n",
       "      <td>1</td>\n",
       "      <td>1.3673</td>\n",
       "      <td>1</td>\n",
       "      <td>4.632</td>\n",
       "      <td>1</td>\n",
       "      <td>49.095742</td>\n",
       "      <td>8</td>\n",
       "      <td>-123.429833</td>\n",
       "      <td>8</td>\n",
       "      <td>2015-01-01 00:00:37</td>\n",
       "    </tr>\n",
       "    <tr>\n",
       "      <th>4</th>\n",
       "      <td>2015-01-01T00:00:48.048Z</td>\n",
       "      <td>16.948</td>\n",
       "      <td>1</td>\n",
       "      <td>1.2826</td>\n",
       "      <td>1</td>\n",
       "      <td>4.632</td>\n",
       "      <td>1</td>\n",
       "      <td>49.096250</td>\n",
       "      <td>8</td>\n",
       "      <td>-123.430950</td>\n",
       "      <td>8</td>\n",
       "      <td>2015-01-01 00:00:48</td>\n",
       "    </tr>\n",
       "  </tbody>\n",
       "</table>\n",
       "</div>"
      ],
      "text/plain": [
       "                    TimeUTC     CDOM  CDOMQC Chlorophyll_ug  ChlQC  \\\n",
       "0  2015-01-01T00:00:08.461Z  16.5912       1         1.2463      1   \n",
       "1  2015-01-01T00:00:17.515Z   16.948       1         1.2342      1   \n",
       "2  2015-01-01T00:00:27.689Z  16.7696       1         1.2221      1   \n",
       "3  2015-01-01T00:00:37.874Z  16.7696       1         1.3673      1   \n",
       "4  2015-01-01T00:00:48.048Z   16.948       1         1.2826      1   \n",
       "\n",
       "  Turbidity_NTU  TurbQC        Lat  LatQC         Lon  LongQC  \\\n",
       "0        4.5548       1  49.094471      8 -123.426450       8   \n",
       "1        4.7864       1  49.094835      8 -123.427538       8   \n",
       "2         4.632       1  49.095233      8 -123.428714       8   \n",
       "3         4.632       1  49.095742      8 -123.429833       8   \n",
       "4         4.632       1  49.096250      8 -123.430950       8   \n",
       "\n",
       "                  dts  \n",
       "0 2015-01-01 00:00:08  \n",
       "1 2015-01-01 00:00:17  \n",
       "2 2015-01-01 00:00:27  \n",
       "3 2015-01-01 00:00:37  \n",
       "4 2015-01-01 00:00:48  "
      ]
     },
     "execution_count": 9,
     "metadata": {},
     "output_type": "execute_result"
    }
   ],
   "source": [
    "df.head()"
   ]
  },
  {
   "cell_type": "code",
   "execution_count": null,
   "metadata": {
    "collapsed": false
   },
   "outputs": [
    {
     "data": {
      "text/plain": [
       "-123.42645043"
      ]
     },
     "execution_count": 10,
     "metadata": {},
     "output_type": "execute_result"
    }
   ],
   "source": [
    "df['Lon'][0]"
   ]
  },
  {
   "cell_type": "code",
   "execution_count": null,
   "metadata": {
    "collapsed": false
   },
   "outputs": [
    {
     "data": {
      "text/plain": [
       "{'GEM2.5 grid ji': (138, 144),\n",
       " 'NEMO grid ji': (450, 258),\n",
       " 'lon lat': (-123.558, 49.125)}"
      ]
     },
     "execution_count": 11,
     "metadata": {},
     "output_type": "execute_result"
    }
   ],
   "source": [
    "places.PLACES['S3']"
   ]
  },
  {
   "cell_type": "code",
   "execution_count": null,
   "metadata": {
    "collapsed": false
   },
   "outputs": [
    {
     "data": {
      "text/plain": [
       "2.5086"
      ]
     },
     "execution_count": 12,
     "metadata": {},
     "output_type": "execute_result"
    }
   ],
   "source": [
    "111*.0226"
   ]
  },
  {
   "cell_type": "code",
   "execution_count": null,
   "metadata": {
    "collapsed": false
   },
   "outputs": [],
   "source": [
    "llon=places.PLACES['S3']['lon lat'][0]-.01\n",
    "ulon=places.PLACES['S3']['lon lat'][0]+.01\n",
    "llat=places.PLACES['S3']['lon lat'][1]-.01\n",
    "ulat=places.PLACES['S3']['lon lat'][1]+.01\n",
    "iidfnd=(df.Lon>llon)&(df.Lon<ulon)&(df.Lat>llat)&(df.Lat<ulat)"
   ]
  },
  {
   "cell_type": "code",
   "execution_count": null,
   "metadata": {
    "collapsed": false
   },
   "outputs": [
    {
     "data": {
      "text/plain": [
       "(datetime.datetime(2015, 3, 6, 0, 0), datetime.datetime(2015, 3, 16, 0, 0))"
      ]
     },
     "execution_count": 14,
     "metadata": {},
     "output_type": "execute_result"
    },
    {
     "data": {
      "image/png": "[encoded data removed]",
      "text/plain": [
       "<matplotlib.figure.Figure at 0x7ff3673640b8>"
      ]
     },
     "metadata": {},
     "output_type": "display_data"
    }
   ],
   "source": [
    "fig,ax=plt.subplots(1,1,figsize=(20,4))\n",
    "ax.plot(df.loc[iidfnd,['dts']],df.loc[iidfnd,['Chlorophyll_ug']],'k*')\n",
    "ax.set_xlim(dt.datetime(2015,3,4),dt.datetime(2015,5,1))\n",
    "dt.datetime(2014,12,31)+dt.timedelta(days=65),dt.datetime(2014,12,31)+dt.timedelta(days=75)"
   ]
  },
  {
   "cell_type": "code",
   "execution_count": null,
   "metadata": {
    "collapsed": true
   },
   "outputs": [],
   "source": [
    "with nc.Dataset('/ocean/eolson/MEOPAR/NEMO-forcing/grid/mesh_mask201702_noLPE.nc') as fm:\n",
    "    tmask=np.copy(fm.variables['tmask'])\n",
    "    umask=np.copy(fm.variables['umask'])\n",
    "    vmask=np.copy(fm.variables['vmask'])\n",
    "    navlon=np.copy(fm.variables['nav_lon'])\n",
    "    navlat=np.copy(fm.variables['nav_lat'])\n",
    "    e3t_0=np.copy(fm.variables['e3t_0'])\n",
    "    e3u_0=np.copy(fm.variables['e3u_0'])\n",
    "    e3v_0=np.copy(fm.variables['e3v_0'])\n",
    "    e1t=np.copy(fm.variables['e1t'])\n",
    "    e2t=np.copy(fm.variables['e2t'])\n",
    "    e1v=np.copy(fm.variables['e1v'])\n",
    "    e2u=np.copy(fm.variables['e2u'])\n",
    "    A=fm.variables['e1t'][0,:,:]*fm.variables['e2t'][0,:,:]*tmask[0,0,:,:]\n",
    "\n",
    "t0=dt.datetime(2015,2,6)\n",
    "fdur=10 # length of each results file in days\n",
    "fnum=18 # number of results files per run\n",
    "runlen=fdur*fnum # length of run in days\n",
    "#stm=np.shape(tmask)"
   ]
  },
  {
   "cell_type": "code",
   "execution_count": null,
   "metadata": {
    "collapsed": false
   },
   "outputs": [
    {
     "ename": "KeyError",
     "evalue": "'HCS15'",
     "output_type": "error",
     "traceback": [
      "\u001b[0;31m---------------------------------------------------------------------------\u001b[0m",
      "\u001b[0;31mKeyError\u001b[0m                                  Traceback (most recent call last)",
      "\u001b[0;32m<ipython-input-16-ce5c100c1cab>\u001b[0m in \u001b[0;36m<module>\u001b[0;34m()\u001b[0m\n\u001b[1;32m     21\u001b[0m     \u001b[0mff\u001b[0m\u001b[0;34m[\u001b[0m\u001b[0midir\u001b[0m\u001b[0;34m]\u001b[0m\u001b[0;34m=\u001b[0m\u001b[0mdict\u001b[0m\u001b[0;34m(\u001b[0m\u001b[0;34m)\u001b[0m\u001b[0;34m\u001b[0m\u001b[0m\n\u001b[1;32m     22\u001b[0m     \u001b[0;32mfor\u001b[0m \u001b[0mpl\u001b[0m \u001b[0;32min\u001b[0m \u001b[0mplist\u001b[0m\u001b[0;34m:\u001b[0m\u001b[0;34m\u001b[0m\u001b[0m\n\u001b[0;32m---> 23\u001b[0;31m         \u001b[0mprint\u001b[0m\u001b[0;34m(\u001b[0m\u001b[0mspaths\u001b[0m\u001b[0;34m[\u001b[0m\u001b[0midir\u001b[0m\u001b[0;34m]\u001b[0m\u001b[0;34m+\u001b[0m\u001b[0;34m'ts_'\u001b[0m\u001b[0;34m+\u001b[0m\u001b[0midir\u001b[0m\u001b[0;34m+\u001b[0m\u001b[0;34m'_'\u001b[0m\u001b[0;34m+\u001b[0m\u001b[0mvarNameDict\u001b[0m\u001b[0;34m[\u001b[0m\u001b[0mpl\u001b[0m\u001b[0;34m]\u001b[0m\u001b[0;34m+\u001b[0m\u001b[0;34m'.nc'\u001b[0m\u001b[0;34m)\u001b[0m\u001b[0;34m\u001b[0m\u001b[0m\n\u001b[0m\u001b[1;32m     24\u001b[0m         \u001b[0mff\u001b[0m\u001b[0;34m[\u001b[0m\u001b[0midir\u001b[0m\u001b[0;34m]\u001b[0m\u001b[0;34m[\u001b[0m\u001b[0mpl\u001b[0m\u001b[0;34m]\u001b[0m\u001b[0;34m=\u001b[0m\u001b[0mnc\u001b[0m\u001b[0;34m.\u001b[0m\u001b[0mDataset\u001b[0m\u001b[0;34m(\u001b[0m\u001b[0mspaths\u001b[0m\u001b[0;34m[\u001b[0m\u001b[0midir\u001b[0m\u001b[0;34m]\u001b[0m\u001b[0;34m+\u001b[0m\u001b[0;34m'ts_'\u001b[0m\u001b[0;34m+\u001b[0m\u001b[0midir\u001b[0m\u001b[0;34m+\u001b[0m\u001b[0;34m'_'\u001b[0m\u001b[0;34m+\u001b[0m\u001b[0mvarNameDict\u001b[0m\u001b[0;34m[\u001b[0m\u001b[0mpl\u001b[0m\u001b[0;34m]\u001b[0m\u001b[0;34m+\u001b[0m\u001b[0;34m'.nc'\u001b[0m\u001b[0;34m)\u001b[0m\u001b[0;34m\u001b[0m\u001b[0m\n\u001b[1;32m     25\u001b[0m     \u001b[0;31m#try:\u001b[0m\u001b[0;34m\u001b[0m\u001b[0;34m\u001b[0m\u001b[0m\n",
      "\u001b[0;31mKeyError\u001b[0m: 'HCS15'"
     ]
    }
   ],
   "source": [
    "saveloc='/data/eolson/MEOPAR/SS36runs/calcFiles/comparePhytoN/'\n",
    "baseloc='/data/eolson/MEOPAR/SS36runs/CedarRuns/'\n",
    "dirname1='HCS15'\n",
    "dirname2='HCspinup'\n",
    "dirnames=(dirname1,dirname2)\n",
    "#dirnames=('spring2015_NewSink','spring2015_slowPP','spring2015_KhT','spring2015_diatHS')\n",
    "varNameDict={'Sentry Shoal':'SentryShoal', 'S3':'S3', 'Central node':'CentralNode', 'Central SJDF':'CentralSJDF'}\n",
    "with open('/ocean/eolson/MEOPAR/analysis-elise/notebooks/bioTuning/spathsMaster.txt') as f:\n",
    "    spaths = dict(x.strip().split() for x in f)\n",
    "#spaths={'spring2015_NewSink':'/data/eolson/results/MEOPAR/SS36runs/CedarRuns/spring2015_NewSink/',\n",
    "#    'spring2015_KhT':'/data/eolson/results/MEOPAR/SS36runs/CedarRuns/spring2015_KhT/',\n",
    "#    'spring2015_uzoo':'/data/eolson/results/MEOPAR/SS36runs/CedarRuns/spring2015_uzoo/',\n",
    "#    'spring2015_uzoo2':'/data/eolson/results/MEOPAR/SS36runs/CedarRuns/spring2015_uzoo2/',\n",
    "#    'spring2015_slowPP':'/data/eolson/results/MEOPAR/SS36runs/OrcinusRuns/spring2015_slowPP/',\n",
    "#    'spring2015_lowMuNano':'/data/eolson/results/MEOPAR/SS36runs/CedarRuns/spring2015_lowMuNano/',\n",
    "#    'spring2015_SMELTBFastSink':'/data/eolson/results/MEOPAR/SS36runs/OrcinusRuns/spring2015_SMELTBFastSink/',\n",
    "#    'spring2015_uzPref':'/data/eolson/results/MEOPAR/SS36runs/CedarRuns/spring2015_uzPref/',\n",
    "#    'spring2015_hiNH':'/data/eolson/results/MEOPAR/SS36runs/CedarRuns/spring2015_hiNH/'}\n",
    "ff=dict()\n",
    "for idir in dirnames:\n",
    "    ff[idir]=dict()\n",
    "    for pl in plist:\n",
    "        print(spaths[idir]+'ts_'+idir+'_'+varNameDict[pl]+'.nc')\n",
    "        ff[idir][pl]=nc.Dataset(spaths[idir]+'ts_'+idir+'_'+varNameDict[pl]+'.nc')\n",
    "    #try:\n",
    "    #    pl='Total'\n",
    "    #    ff[idir][pl]=nc.Dataset(spaths[idir]+'ts_'+idir+'_'+varNameDict[pl]+'.nc')\n",
    "    #except:\n",
    "    #    pass"
   ]
  },
  {
   "cell_type": "code",
   "execution_count": null,
   "metadata": {
    "collapsed": false
   },
   "outputs": [],
   "source": [
    "spaths[idir]+'ts_'+idir+'_'+varNameDict[pl]+'.nc'"
   ]
  },
  {
   "cell_type": "code",
   "execution_count": null,
   "metadata": {
    "collapsed": false
   },
   "outputs": [],
   "source": [
    "times=dict()\n",
    "for idir in dirnames:\n",
    "    f=ff[idir]['S3']\n",
    "    torig=dt.datetime.strptime(f.variables['time_centered'].time_origin,'%Y-%m-%d %H:%M:%S')\n",
    "    print(torig)\n",
    "    times[idir]=np.array([torig + dt.timedelta(seconds=ii) for ii in f.variables['time_centered'][:]])"
   ]
  },
  {
   "cell_type": "code",
   "execution_count": null,
   "metadata": {
    "collapsed": false
   },
   "outputs": [],
   "source": [
    "lcol={dirname1:{'diatoms':'darkgreen','flagellates':'mediumblue','ciliates':'maroon'},\n",
    "     dirname2:{'diatoms':'c','flagellates':'blueviolet','ciliates':'orange'}}\n",
    "lsty={dirname1:'-',\n",
    "      dirname2:'--'}"
   ]
  },
  {
   "cell_type": "code",
   "execution_count": null,
   "metadata": {
    "collapsed": false
   },
   "outputs": [],
   "source": [
    "tmins=list()\n",
    "tmaxs=list()\n",
    "for idir in dirnames:\n",
    "    tmins.append(times[idir][0])\n",
    "    tmaxs.append(times[idir][-1])\n",
    "#xl=(np.min(np.array(tmins)),np.max(np.array(tmaxs)))\n",
    "xl=(np.min(np.array(tmins)),dt.datetime(2015,7,1))"
   ]
  },
  {
   "cell_type": "code",
   "execution_count": null,
   "metadata": {
    "collapsed": true
   },
   "outputs": [],
   "source": [
    "sumVarTr={'diatoms':'diatSum','flagellates':'flagSum','ciliates':'myriSum'}"
   ]
  },
  {
   "cell_type": "code",
   "execution_count": null,
   "metadata": {
    "collapsed": false
   },
   "outputs": [],
   "source": [
    "yearsFmt = mdates.DateFormatter('%b %d')\n",
    "fig,ax=plt.subplots(len(plist),1,figsize=(16,3*(len(plist))))\n",
    "pp=dict()\n",
    "for ii in range(0,len(plist)):\n",
    "    pl=plist[ii]\n",
    "    if pl=='S3':\n",
    "        ax[ii].plot(df.loc[iidfnd,['dts']],[float(ik[0]) for ik in df.loc[iidfnd,['Chlorophyll_ug']].values],'.',color='lightgray',alpha=.5)\n",
    "    pp[ii]=dict()\n",
    "    for idir in dirnames:\n",
    "        f=ff[idir][pl]\n",
    "        for var in ('diatoms','flagellates','ciliates'):\n",
    "            try:\n",
    "                pp[ii][var]=ax[ii].plot(times[idir],2.0*np.sum(f.variables[var][:,:3,0,0]*f.variables['e3t'][:,:3,0,0],1)/np.sum(f.variables['e3t'][:,:3,0,0],1),\n",
    "                          linestyle=lsty[idir],color=lcol[idir][var],alpha=.5,label=idir+' '+var)\n",
    "            except:\n",
    "                pp[ii][var]=ax[ii].plot(times[idir],2.0*np.sum(f.variables[var][:,:3,0,0]*np.tile(e3t_0[:,:3,0,0],(len(times[idir]),1)),1)/np.sum(np.tile(e3t_0[:,:3,0,0],(len(times[idir]),1)),1),\n",
    "                          linestyle=lsty[idir],color=lcol[idir][var],alpha=.5,label=idir+' '+var)\n",
    "        try:\n",
    "            pp[ii]['tot']=ax[ii].plot(times[idir],2.0*np.sum((f.variables['diatoms'][:,:3,0,0]+f.variables['flagellates'][:,:3,0,0]+f.variables['ciliates'][:,:3,0,0])*f.variables['e3t'][:,:3,0,0],1)/np.sum(f.variables['e3t'][:,:3,0,0],1),\n",
    "                          linestyle=lsty[idir],color='k',alpha=.6,label=idir+' '+'total')\n",
    "        except:\n",
    "            pp[ii]['tot']=ax[ii].plot(times[idir],2.0*np.sum((f.variables['diatoms'][:,:3,0,0]+f.variables['flagellates'][:,:3,0,0]+f.variables['ciliates'][:,:3,0,0])*np.tile(e3t_0[:,:3,0,0],(len(times[idir]),1)),1)/np.sum(np.tile(e3t_0[:,:3,0,0],(len(times[idir]),1)),1),\n",
    "                          linestyle=lsty[idir],color='k',alpha=.6,label=idir+' '+'total')\n",
    "    ax[ii].set_title(pl)\n",
    "    ax[ii].set_ylabel('chl ($\\mu$g/L)')\n",
    "    ax[ii].xaxis.set_major_formatter(yearsFmt)\n",
    "    ax[ii].set_xlim(xl)\n",
    "    ax[ii].set_ylim(0,40)\n",
    "    if ii==0:\n",
    "        ax[0].legend(bbox_to_anchor=(1,1),fontsize=12)\n",
    "\n",
    "plt.tight_layout()"
   ]
  },
  {
   "cell_type": "code",
   "execution_count": null,
   "metadata": {
    "collapsed": false
   },
   "outputs": [
    {
     "ename": "KeyError",
     "evalue": "'Sentry Shoal'",
     "output_type": "error",
     "traceback": [
      "\u001b[0;31m---------------------------------------------------------------------------\u001b[0m",
      "\u001b[0;31mKeyError\u001b[0m                                  Traceback (most recent call last)",
      "\u001b[0;32m<ipython-input-17-44090b015104>\u001b[0m in \u001b[0;36m<module>\u001b[0;34m()\u001b[0m\n\u001b[1;32m      8\u001b[0m     \u001b[0mpp\u001b[0m\u001b[0;34m[\u001b[0m\u001b[0mii\u001b[0m\u001b[0;34m]\u001b[0m\u001b[0;34m=\u001b[0m\u001b[0mdict\u001b[0m\u001b[0;34m(\u001b[0m\u001b[0;34m)\u001b[0m\u001b[0;34m\u001b[0m\u001b[0m\n\u001b[1;32m      9\u001b[0m     \u001b[0;32mfor\u001b[0m \u001b[0midir\u001b[0m \u001b[0;32min\u001b[0m \u001b[0mdirnames\u001b[0m\u001b[0;34m:\u001b[0m\u001b[0;34m\u001b[0m\u001b[0m\n\u001b[0;32m---> 10\u001b[0;31m         \u001b[0mf\u001b[0m\u001b[0;34m=\u001b[0m\u001b[0mff\u001b[0m\u001b[0;34m[\u001b[0m\u001b[0midir\u001b[0m\u001b[0;34m]\u001b[0m\u001b[0;34m[\u001b[0m\u001b[0mpl\u001b[0m\u001b[0;34m]\u001b[0m\u001b[0;34m\u001b[0m\u001b[0m\n\u001b[0m\u001b[1;32m     11\u001b[0m         \u001b[0;32mfor\u001b[0m \u001b[0mvar\u001b[0m \u001b[0;32min\u001b[0m \u001b[0;34m(\u001b[0m\u001b[0;34m'diatoms'\u001b[0m\u001b[0;34m,\u001b[0m\u001b[0;34m)\u001b[0m\u001b[0;34m:\u001b[0m\u001b[0;31m#,'flagellates','ciliates'):\u001b[0m\u001b[0;34m\u001b[0m\u001b[0m\n\u001b[1;32m     12\u001b[0m             \u001b[0;32mtry\u001b[0m\u001b[0;34m:\u001b[0m\u001b[0;34m\u001b[0m\u001b[0m\n",
      "\u001b[0;31mKeyError\u001b[0m: 'Sentry Shoal'"
     ]
    },
    {
     "data": {
      "image/png": "[encoded data removed]",
      "text/plain": [
       "<matplotlib.figure.Figure at 0x7ff3474aeef0>"
      ]
     },
     "metadata": {},
     "output_type": "display_data"
    }
   ],
   "source": [
    "yearsFmt = mdates.DateFormatter('%b %d')\n",
    "fig,ax=plt.subplots(len(plist),1,figsize=(16,3*(len(plist))))\n",
    "pp=dict()\n",
    "for ii in range(0,len(plist)):\n",
    "    pl=plist[ii]\n",
    "    if pl=='S3':\n",
    "        ax[ii].plot(df.loc[iidfnd,['dts']],[float(ik[0]) for ik in df.loc[iidfnd,['Chlorophyll_ug']].values],'.',color='lightgray',alpha=.5)\n",
    "    pp[ii]=dict()\n",
    "    for idir in dirnames:\n",
    "        f=ff[idir][pl]\n",
    "        for var in ('diatoms',):#,'flagellates','ciliates'):\n",
    "            try:\n",
    "                pp[ii][var]=ax[ii].plot(times[idir],2.0*np.sum(f.variables[var][:,:3,0,0]*f.variables['e3t'][:,:3,0,0],1)/np.sum(f.variables['e3t'][:,:3,0,0],1),\n",
    "                          linestyle=lsty[idir],color=lcol[idir][var],alpha=.5,label=idir+' '+var)\n",
    "            except:\n",
    "                pp[ii][var]=ax[ii].plot(times[idir],2.0*np.sum(f.variables[var][:,:3,0,0]*np.tile(e3t_0[:,:3,0,0],(len(times[idir]),1)),1)/np.sum(np.tile(e3t_0[:,:3,0,0],(len(times[idir]),1)),1),\n",
    "                          linestyle=lsty[idir],color=lcol[idir][var],alpha=.5,label=idir+' '+var)\n",
    "        #try:\n",
    "        #    pp[ii]['tot']=ax[ii].plot(times[idir],2.0*np.sum((f.variables['diatoms'][:,:3,0,0]+f.variables['flagellates'][:,:3,0,0]+f.variables['ciliates'][:,:3,0,0])*f.variables['e3t'][:,:3,0,0],1)/np.sum(f.variables['e3t'][:,:3,0,0],1),\n",
    "        #                  linestyle=lsty[idir],color='k',alpha=.6,label=idir+' '+'total')\n",
    "        #except:\n",
    "        #    pp[ii]['tot']=ax[ii].plot(times[idir],2.0*np.sum((f.variables['diatoms'][:,:3,0,0]+f.variables['flagellates'][:,:3,0,0]+f.variables['ciliates'][:,:3,0,0])*np.tile(e3t_0[:,:3,0,0],(len(times[idir]),1)),1)/np.sum(np.tile(e3t_0[:,:3,0,0],(len(times[idir]),1)),1),\n",
    "        #                  linestyle=lsty[idir],color='k',alpha=.6,label=idir+' '+'total')\n",
    "    ax[ii].set_title(pl)\n",
    "    ax[ii].set_ylabel('chl ($\\mu$g/L)')\n",
    "    ax[ii].xaxis.set_major_formatter(yearsFmt)\n",
    "    ax[ii].set_xlim(xl)\n",
    "    ax[ii].set_ylim(0,40)\n",
    "    if ii==0:\n",
    "        ax[0].legend(bbox_to_anchor=(1,1),fontsize=12)\n",
    "\n",
    "plt.tight_layout()"
   ]
  },
  {
   "cell_type": "code",
   "execution_count": null,
   "metadata": {
    "collapsed": false
   },
   "outputs": [],
   "source": [
    "yearsFmt = mdates.DateFormatter('%b %d')\n",
    "fig,ax=plt.subplots(len(plist),1,figsize=(16,3*(len(plist))))\n",
    "pp=dict()\n",
    "for ii in range(0,len(plist)):\n",
    "    pl=plist[ii]\n",
    "    if pl=='S3':\n",
    "        ax[ii].plot(df.loc[iidfnd,['dts']],[float(ik[0]) for ik in df.loc[iidfnd,['Chlorophyll_ug']].values],'.',color='lightgray',alpha=.5)\n",
    "    pp[ii]=dict()\n",
    "    for idir in dirnames:\n",
    "        f=ff[idir][pl]\n",
    "        for var in ('flagellates',):#,'flagellates','ciliates'):\n",
    "            try:\n",
    "                pp[ii][var]=ax[ii].plot(times[idir],2.0*np.sum(f.variables[var][:,:3,0,0]*f.variables['e3t'][:,:3,0,0],1)/np.sum(f.variables['e3t'][:,:3,0,0],1),\n",
    "                          linestyle=lsty[idir],color=lcol[idir][var],alpha=.5,label=idir+' '+var)\n",
    "            except:\n",
    "                pp[ii][var]=ax[ii].plot(times[idir],2.0*np.sum(f.variables[var][:,:3,0,0]*np.tile(e3t_0[:,:3,0,0],(len(times[idir]),1)),1)/np.sum(np.tile(e3t_0[:,:3,0,0],(len(times[idir]),1)),1),\n",
    "                          linestyle=lsty[idir],color=lcol[idir][var],alpha=.5,label=idir+' '+var)\n",
    "        #try:\n",
    "        #    pp[ii]['tot']=ax[ii].plot(times[idir],2.0*np.sum((f.variables['diatoms'][:,:3,0,0]+f.variables['flagellates'][:,:3,0,0]+f.variables['ciliates'][:,:3,0,0])*f.variables['e3t'][:,:3,0,0],1)/np.sum(f.variables['e3t'][:,:3,0,0],1),\n",
    "        #                  linestyle=lsty[idir],color='k',alpha=.6,label=idir+' '+'total')\n",
    "        #except:\n",
    "        #    pp[ii]['tot']=ax[ii].plot(times[idir],2.0*np.sum((f.variables['diatoms'][:,:3,0,0]+f.variables['flagellates'][:,:3,0,0]+f.variables['ciliates'][:,:3,0,0])*np.tile(e3t_0[:,:3,0,0],(len(times[idir]),1)),1)/np.sum(np.tile(e3t_0[:,:3,0,0],(len(times[idir]),1)),1),\n",
    "        #                  linestyle=lsty[idir],color='k',alpha=.6,label=idir+' '+'total')\n",
    "    ax[ii].set_title(pl)\n",
    "    ax[ii].set_ylabel('chl ($\\mu$g/L)')\n",
    "    ax[ii].xaxis.set_major_formatter(yearsFmt)\n",
    "    ax[ii].set_xlim(xl)\n",
    "    ax[ii].set_ylim(0,40)\n",
    "    if ii==0:\n",
    "        ax[0].legend(bbox_to_anchor=(1,1),fontsize=12)\n",
    "\n",
    "plt.tight_layout()"
   ]
  },
  {
   "cell_type": "code",
   "execution_count": null,
   "metadata": {
    "collapsed": false
   },
   "outputs": [],
   "source": [
    "yearsFmt = mdates.DateFormatter('%b %d')\n",
    "fig,ax=plt.subplots(len(plist),1,figsize=(16,3*(len(plist))))\n",
    "pp=dict()\n",
    "for ii in range(0,len(plist)):\n",
    "    pl=plist[ii]\n",
    "    if pl=='S3':\n",
    "        ax[ii].plot(df.loc[iidfnd,['dts']],[float(ik[0]) for ik in df.loc[iidfnd,['Chlorophyll_ug']].values],'.',color='lightgray',alpha=.5)\n",
    "    pp[ii]=dict()\n",
    "    for idir in dirnames:\n",
    "        f=ff[idir][pl]\n",
    "        for var in ('ciliates',):#,'flagellates','ciliates'):\n",
    "            try:\n",
    "                pp[ii][var]=ax[ii].plot(times[idir],2.0*np.sum(f.variables[var][:,:3,0,0]*f.variables['e3t'][:,:3,0,0],1)/np.sum(f.variables['e3t'][:,:3,0,0],1),\n",
    "                          linestyle=lsty[idir],color=lcol[idir][var],alpha=.5,label=idir+' '+var)\n",
    "            except:\n",
    "                pp[ii][var]=ax[ii].plot(times[idir],2.0*np.sum(f.variables[var][:,:3,0,0]*np.tile(e3t_0[:,:3,0,0],(len(times[idir]),1)),1)/np.sum(np.tile(e3t_0[:,:3,0,0],(len(times[idir]),1)),1),\n",
    "                          linestyle=lsty[idir],color=lcol[idir][var],alpha=.5,label=idir+' '+var)\n",
    "        #try:\n",
    "        #    pp[ii]['tot']=ax[ii].plot(times[idir],2.0*np.sum((f.variables['diatoms'][:,:3,0,0]+f.variables['flagellates'][:,:3,0,0]+f.variables['ciliates'][:,:3,0,0])*f.variables['e3t'][:,:3,0,0],1)/np.sum(f.variables['e3t'][:,:3,0,0],1),\n",
    "        #                  linestyle=lsty[idir],color='k',alpha=.6,label=idir+' '+'total')\n",
    "        #except:\n",
    "        #    pp[ii]['tot']=ax[ii].plot(times[idir],2.0*np.sum((f.variables['diatoms'][:,:3,0,0]+f.variables['flagellates'][:,:3,0,0]+f.variables['ciliates'][:,:3,0,0])*np.tile(e3t_0[:,:3,0,0],(len(times[idir]),1)),1)/np.sum(np.tile(e3t_0[:,:3,0,0],(len(times[idir]),1)),1),\n",
    "        #                  linestyle=lsty[idir],color='k',alpha=.6,label=idir+' '+'total')\n",
    "    ax[ii].set_title(pl)\n",
    "    ax[ii].set_ylabel('chl ($\\mu$g/L)')\n",
    "    ax[ii].xaxis.set_major_formatter(yearsFmt)\n",
    "    ax[ii].set_xlim(xl)\n",
    "    ax[ii].set_ylim(0,40)\n",
    "    if ii==0:\n",
    "        ax[0].legend(bbox_to_anchor=(1,1),fontsize=12)\n",
    "\n",
    "plt.tight_layout()"
   ]
  },
  {
   "cell_type": "code",
   "execution_count": null,
   "metadata": {
    "collapsed": false,
    "scrolled": true
   },
   "outputs": [],
   "source": [
    "# one at a time\n",
    "yearsFmt = mdates.DateFormatter('%b %d')\n",
    "for idir in dirnames:\n",
    "    fig,ax=plt.subplots(len(plist),1,figsize=(16,3*(len(plist))))\n",
    "    pp=dict()\n",
    "    for ii in range(0,len(plist)):\n",
    "        pl=plist[ii]\n",
    "        if pl=='S3':\n",
    "            ax[ii].plot(df.loc[iidfnd,['dts']],[(1/2.0)*float(ik[0]) for ik in df.loc[iidfnd,['Chlorophyll_ug']].values],'.',color='lightgray',alpha=.5)\n",
    "        pp[ii]=dict()\n",
    "        f=ff[idir][pl]\n",
    "        for var in ('diatoms','flagellates','ciliates'):\n",
    "            try:\n",
    "                pp[ii][var]=ax[ii].plot(times[idir],np.sum(f.variables[var][:,:3,0,0]*f.variables['e3t'][:,:3,0,0],1)/np.sum(f.variables['e3t'][:,:3,0,0],1),\n",
    "                          linestyle=lsty[idir],color=lcol[idir][var],alpha=.6,label=idir+' '+var)\n",
    "            except:\n",
    "                pp[ii][var]=ax[ii].plot(times[idir],np.sum(f.variables[var][:,:3,0,0]*np.tile(e3t_0[:,:3,0,0],(len(times[idir]),1)),1)/np.sum(np.tile(e3t_0[:,:3,0,0],(len(times[idir]),1)),1),\n",
    "                          linestyle=lsty[idir],color=lcol[idir][var],alpha=.6,label=idir+' '+var)\n",
    "        ax[ii].set_title(pl)\n",
    "        ax[ii].set_ylabel('N (mmol m$^{-2}$)')\n",
    "        ax[ii].xaxis.set_major_formatter(yearsFmt)\n",
    "        ax[ii].set_xlim(xl)\n",
    "        if ii==0:\n",
    "            ax[0].legend(bbox_to_anchor=(1.25,1),fontsize=12)\n",
    "\n",
    "    fig.suptitle(idir)\n",
    "    plt.tight_layout()"
   ]
  },
  {
   "cell_type": "code",
   "execution_count": null,
   "metadata": {
    "collapsed": true
   },
   "outputs": [],
   "source": []
  },
  {
   "cell_type": "code",
   "execution_count": null,
   "metadata": {
    "collapsed": true
   },
   "outputs": [],
   "source": []
  },
  {
   "cell_type": "code",
   "execution_count": null,
   "metadata": {
    "collapsed": true
   },
   "outputs": [],
   "source": []
  }
 ],
 "metadata": {
  "anaconda-cloud": {},
  "kernelspec": {
   "display_name": "Python [conda env:python36]",
   "language": "python",
   "name": "conda-env-python36-py"
  },
  "language_info": {
   "codemirror_mode": {
    "name": "ipython",
    "version": 3
   },
   "file_extension": ".py",
   "mimetype": "text/x-python",
   "name": "python",
   "nbconvert_exporter": "python",
   "pygments_lexer": "ipython3",
   "version": "3.6.3"
  }
 },
 "nbformat": 4,
 "nbformat_minor": 1
}
