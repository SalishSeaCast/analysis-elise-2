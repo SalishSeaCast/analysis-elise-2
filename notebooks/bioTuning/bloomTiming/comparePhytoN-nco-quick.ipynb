{
 "cells": [
  {
   "cell_type": "markdown",
   "metadata": {},
   "source": [
    "# inter-run comparisons of N contained in phytoplankton\n",
    "    - NO full domain sum\n",
    "    - S3\n",
    "    - Sentry Shoal\n",
    "    - Central Node\n",
    "    - JDF"
   ]
  },
  {
   "cell_type": "code",
   "execution_count": 1,
   "metadata": {
    "collapsed": true
   },
   "outputs": [],
   "source": [
    "import netCDF4 as nc\n",
    "import datetime as dt\n",
    "import subprocess\n",
    "import requests\n",
    "import matplotlib.pyplot as plt\n",
    "import cmocean\n",
    "import numpy as np\n",
    "import os\n",
    "import re\n",
    "import dateutil as dutil\n",
    "from salishsea_tools import viz_tools, places\n",
    "import glob\n",
    "import pickle\n",
    "import subprocess\n",
    "import time\n",
    "%matplotlib inline"
   ]
  },
  {
   "cell_type": "code",
   "execution_count": 2,
   "metadata": {
    "collapsed": false
   },
   "outputs": [
    {
     "data": {
      "text/plain": [
       "'salish.eos.ubc.ca'"
      ]
     },
     "execution_count": 2,
     "metadata": {},
     "output_type": "execute_result"
    }
   ],
   "source": [
    "import socket\n",
    "socket.gethostname()"
   ]
  },
  {
   "cell_type": "code",
   "execution_count": 3,
   "metadata": {
    "collapsed": false
   },
   "outputs": [],
   "source": [
    "dirname='spring2015_hiNH'#'spring2015_uzPref'#'spring2015_SMELTBFastSink'#'spring2015_KhT'\n",
    "saveloc='/data/eolson/MEOPAR/SS36runs/calcFiles/comparePhytoN/'\n",
    "dirnames=('spring2015_NewSink','spring2015_KhT','spring2015_uzoo','spring2015_uzoo2','spring2015_slowPP','spring2015_lowMuNano',\n",
    "          'spring2015_SMELTBFastSink','spring2015_uzPref','spring2015_hiNH')\n",
    "spaths={'spring2015_NewSink':'/data/eolson/results/MEOPAR/SS36runs/CedarRuns/spring2015_NewSink/',\n",
    "    'spring2015_KhT':'/data/eolson/results/MEOPAR/SS36runs/CedarRuns/spring2015_KhT/',\n",
    "    'spring2015_uzoo':'/data/eolson/results/MEOPAR/SS36runs/CedarRuns/spring2015_uzoo/',\n",
    "    'spring2015_uzoo2':'/data/eolson/results/MEOPAR/SS36runs/CedarRuns/spring2015_uzoo2/',\n",
    "    'spring2015_slowPP':'/data/eolson/results/MEOPAR/SS36runs/OrcinusRuns/spring2015_slowPP/',\n",
    "    'spring2015_lowMuNano':'/data/eolson/results/MEOPAR/SS36runs/CedarRuns/spring2015_lowMuNano/',\n",
    "    'spring2015_SMELTBFastSink':'/data/eolson/results/MEOPAR/SS36runs/OrcinusRuns/spring2015_SMELTBFastSink/',\n",
    "    'spring2015_uzPref':'/data/eolson/results/MEOPAR/SS36runs/CedarRuns/spring2015_uzPref/',\n",
    "    'spring2015_hiNH':'/data/eolson/results/MEOPAR/SS36runs/CedarRuns/spring2015_hiNH/'}\n",
    "# whether e3t is stored in ptrc or not:\n",
    "e3tp={'spring2015_NewSink':False,\n",
    "    'spring2015_KhT':False,\n",
    "    'spring2015_uzoo':True,\n",
    "    'spring2015_uzoo2':True,\n",
    "    'spring2015_slowPP':True,\n",
    "    'spring2015_lowMuNano':False,\n",
    "    'spring2015_SMELTBFastSink':True,\n",
    "    'spring2015_uzPref':True,\n",
    "    'spring2015_hiNH':True}\n",
    "t0=dt.datetime(2015,2,6)\n",
    "fdur=10 # length of each results file in days\n",
    "spath=spaths[dirname]\n",
    "fnum=len(glob.glob(spath+'*ptrc*'))#18 # number of results files per run\n",
    "runlen=fdur*fnum # length of run in days\n",
    "#stm=np.shape(tmask)"
   ]
  },
  {
   "cell_type": "code",
   "execution_count": 4,
   "metadata": {
    "collapsed": true
   },
   "outputs": [],
   "source": [
    "plist=['Sentry Shoal','S3','Central node','Central SJDF']\n",
    "varNameDict={'Sentry Shoal':'SentryShoal', 'S3':'S3', 'Central node':'CentralNode', 'Central SJDF':'CentralSJDF','all':'All'}"
   ]
  },
  {
   "cell_type": "code",
   "execution_count": 5,
   "metadata": {
    "collapsed": false
   },
   "outputs": [],
   "source": [
    "def createAreaFile(tlen=1,meshpath='/ocean/eolson/MEOPAR/NEMO-forcing/grid/mesh_mask201702_noLPE.nc',\n",
    "                  ptrcexpath='/data/eolson/results/MEOPAR/SS36runs/CedarRuns/spring2015_KhT/SalishSea_1h_20150206_20150804_ptrc_T_20150616-20150625.nc'):\n",
    "    # meshpath: mesh_mask to base calculations on\n",
    "    # ptrcexpath: sample model output file to grab dimensions from (must be consistent for nco tools to work)\n",
    "    foutname=saveloc+'Area_'+str(tlen)+'.nc'\n",
    "    if os.path.isfile(foutname):\n",
    "        os.remove(foutname)\n",
    "    fout=nc.Dataset(foutname, \"w\", format=\"NETCDF4\")\n",
    "    with nc.Dataset(ptrcexpath) as fex:\n",
    "        for dname, the_dim in fex.dimensions.items():\n",
    "            print(dname, len(the_dim))\n",
    "            fout.createDimension(dname, len(the_dim) if not the_dim.isunlimited() else None)\n",
    "    with nc.Dataset(meshpath) as fm:\n",
    "        tmask=np.copy(fm.variables['tmask'])\n",
    "        e1t=np.copy(fm.variables['e1t'])\n",
    "        e2t=np.copy(fm.variables['e2t'])\n",
    "        A3t=e1t*e2t*tmask\n",
    "    if tlen>1:\n",
    "        A=np.tile(A3t,(tlen,1,1,1))\n",
    "    else:\n",
    "        A=A3t\n",
    "    outVar = fout.createVariable('A', 'float32', ('time_counter', 'deptht', 'y', 'x'),zlib=True)\n",
    "    outVar[:] = A[:]\n",
    "    fout.close()\n",
    "    #p=subprocess.call('nccopy -s -4 -d4 '+foutname+' '+foutnameF,shell=True)\n",
    "    #p=subprocess.call('rm '+foutname,shell=True)\n",
    "    return foutname"
   ]
  },
  {
   "cell_type": "raw",
   "metadata": {
    "collapsed": false
   },
   "source": [
    "Aloc=createAreaFile(tlen=240)"
   ]
  },
  {
   "cell_type": "code",
   "execution_count": 6,
   "metadata": {
    "collapsed": false
   },
   "outputs": [],
   "source": [
    "Aloc='/data/eolson/MEOPAR/SS36runs/calcFiles/comparePhytoN/Area_240.nc'"
   ]
  },
  {
   "cell_type": "code",
   "execution_count": 7,
   "metadata": {
    "collapsed": false
   },
   "outputs": [],
   "source": [
    "fnames={'ptrc_T':dict(),'grid_T':dict(),'tempBase':dict()}\n",
    "for ii in range(0,fnum):\n",
    "    ts=(t0+dt.timedelta(days=ii*fdur)).strftime('%Y%m%d')\n",
    "    te=(t0+dt.timedelta(days=((ii+1)*fdur-1))).strftime('%Y%m%d')\n",
    "    fnames['ptrc_T'][ii]=glob.glob(spath+'*ptrc_T_'+ts+'-'+te+'.nc')[0]\n",
    "    if not e3tp[dirname]:\n",
    "        try:\n",
    "            fnames['grid_T'][ii]=glob.glob(spath+'*e3t_'+ts+'-'+te+'.nc')[0]\n",
    "        except:\n",
    "            fnames['grid_T'][ii]=glob.glob(spath+'*grid_T_'+ts+'-'+te+'.nc')[0]\n",
    "    fnames['tempBase'][ii]=saveloc+'temp/ptrc_'+dirname+'_'+ts+'-'+te"
   ]
  },
  {
   "cell_type": "code",
   "execution_count": 8,
   "metadata": {
    "collapsed": true
   },
   "outputs": [],
   "source": [
    "maxproc=3"
   ]
  },
  {
   "cell_type": "code",
   "execution_count": 9,
   "metadata": {
    "collapsed": false
   },
   "outputs": [],
   "source": [
    "pids=dict()\n",
    "for ii in range(0,fnum):\n",
    "    # copy ptrc\n",
    "    f0=fnames['tempBase'][ii]+'.nc'\n",
    "    if e3tp[dirname]:\n",
    "        pids[ii]=subprocess.Popen('ncks -v diatoms,flagellates,ciliates,e3t,nitrate,silicon '+fnames['ptrc_T'][ii]+' '+f0, shell=True)\n",
    "    else:\n",
    "        pids[ii]=subprocess.Popen('ncks -v diatoms,flagellates,ciliates,nitrate,silicon '+fnames['ptrc_T'][ii]+' '+f0, shell=True)\n",
    "    if ii%maxproc==(maxproc-1):\n",
    "        pids[ii].wait() # wait for the last one\n",
    "# check that no others are still running, wait for them\n",
    "for ipid in pids.keys():\n",
    "    while pids[ipid].poll() is None:\n",
    "        time.sleep(30)"
   ]
  },
  {
   "cell_type": "code",
   "execution_count": 10,
   "metadata": {
    "collapsed": false
   },
   "outputs": [],
   "source": [
    "if not e3tp[dirname]:\n",
    "    pids=dict()\n",
    "    for ii in range(0,fnum):\n",
    "        # copy ptrc\n",
    "        f0=fnames['tempBase'][ii]+'.nc'\n",
    "        # add e3t to ptrc\n",
    "        pids[ii]=subprocess.Popen('ncks -A -v e3t '+fnames['grid_T'][ii]+' '+f0, shell=True)\n",
    "        if ii%maxproc==(maxproc-1):\n",
    "            pids[ii].wait() # wait for the last one\n",
    "    # check that no others are still running, wait for them\n",
    "    for ipid in pids.keys():\n",
    "        while pids[ipid].poll() is None:\n",
    "            time.sleep(30)"
   ]
  },
  {
   "cell_type": "code",
   "execution_count": 11,
   "metadata": {
    "collapsed": false
   },
   "outputs": [],
   "source": [
    "# extract phyto and e3t at locs\n",
    "for pl in plist:\n",
    "    pids=dict()\n",
    "    for ii in range(0,fnum):\n",
    "        f0=fnames['tempBase'][ii]+'.nc'\n",
    "        fpl=fnames['tempBase'][ii]+varNameDict[pl]+'.nc'\n",
    "        j,i=places.PLACES[pl]['NEMO grid ji']\n",
    "        pids[ii]=subprocess.Popen('ncks -v diatoms,flagellates,ciliates,e3t,nitrate,silicon -d x,'+str(i)+' -d y,'+str(j)+' '+f0+' '+fpl, shell=True)\n",
    "        if ii%maxproc==(maxproc-1):\n",
    "            pids[ii].wait() # wait for the last one\n",
    "    # check that no others are still running, wait for them\n",
    "    for ipid in pids.keys():\n",
    "        while pids[ipid].poll() is None:\n",
    "            time.sleep(30)"
   ]
  },
  {
   "cell_type": "code",
   "execution_count": 12,
   "metadata": {
    "collapsed": false
   },
   "outputs": [],
   "source": [
    "pids=dict()\n",
    "jj=0\n",
    "for pl in plist:\n",
    "    fpllist=list()\n",
    "    f1=saveloc+'ts_'+dirname+'_'+varNameDict[pl]+'.nc'\n",
    "    for ii in range(0,fnum):\n",
    "        fpllist.append(fnames['tempBase'][ii]+varNameDict[pl]+'.nc')\n",
    "    pids[jj]=subprocess.Popen('ncrcat '+' '.join(fpllist)+' '+f1, shell=True)\n",
    "    jj+=1\n",
    "pids[jj-1].wait() # wait for the last one\n",
    "# check that no others are still running, wait for them\n",
    "for ipid in pids.keys():\n",
    "    while pids[ipid].poll() is None:\n",
    "        time.sleep(30)"
   ]
  }
 ],
 "metadata": {
  "anaconda-cloud": {},
  "kernelspec": {
   "display_name": "Python [conda env:python36]",
   "language": "python",
   "name": "conda-env-python36-py"
  },
  "language_info": {
   "codemirror_mode": {
    "name": "ipython",
    "version": 3
   },
   "file_extension": ".py",
   "mimetype": "text/x-python",
   "name": "python",
   "nbconvert_exporter": "python",
   "pygments_lexer": "ipython3",
   "version": "3.6.3"
  }
 },
 "nbformat": 4,
 "nbformat_minor": 1
}
