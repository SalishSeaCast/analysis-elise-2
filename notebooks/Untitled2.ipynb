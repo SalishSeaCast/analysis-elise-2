{
 "cells": [
  {
   "cell_type": "code",
   "execution_count": 1,
   "metadata": {},
   "outputs": [],
   "source": [
    "import numpy as np\n",
    "import netCDF4 as nc\n",
    "from matplotlib import pyplot as plt\n",
    "\n",
    "%matplotlib inline"
   ]
  },
  {
   "cell_type": "code",
   "execution_count": 4,
   "metadata": {},
   "outputs": [],
   "source": [
    "with nc.Dataset('/ocean/eolson/MEOPAR/NEMO-forcing/grid/mesh_mask201702_noLPE.nc') as mesh:\n",
    "    tmask=mesh.variables['tmask'][0,:,:,:]"
   ]
  },
  {
   "cell_type": "code",
   "execution_count": 2,
   "metadata": {},
   "outputs": [],
   "source": [
    "f0=nc.Dataset('/ocean/eolson/MEOPAR/NEMO-forcing/restarts/HC1812/SalishSea_00894240_restart_trc.nc')\n",
    "f1=nc.Dataset('/data/sallen/results/MEOPAR/fluxes_elise/26dec14/SalishSea_07892640_restart_trc.nc')"
   ]
  },
  {
   "cell_type": "code",
   "execution_count": 3,
   "metadata": {},
   "outputs": [
    {
     "data": {
      "text/plain": [
       "dict_keys(['nav_lon', 'nav_lat', 'nav_lev', 'time_counter', 'kt', 'ndastp', 'adatrj', 'rnf_pis_NO3_b', 'rnf_pis_NH4_b', 'rnf_pis_Si_b', 'rnf_pis_DIAT_b', 'rnf_pis_PHY_b', 'rnf_pis_MYRI_b', 'rnf_pis_MICZ_b', 'rnf_pis_DON_b', 'rnf_pis_PON_b', 'rnf_pis_bSi_b', 'rnf_pis_TRA_b', 'rnf_pis_DIC_b', 'rnf_pis_TA_b', 'rnf_pis_O2_b', 'sbc_NO3_b', 'sbc_NH4_b', 'sbc_Si_b', 'sbc_DIAT_b', 'sbc_PHY_b', 'sbc_MYRI_b', 'sbc_MICZ_b', 'sbc_DON_b', 'sbc_PON_b', 'sbc_bSi_b', 'sbc_TRA_b', 'sbc_DIC_b', 'sbc_TA_b', 'sbc_O2_b', 'sbc_MYTRC1_b', 'rdttrc1', 'TRNNO3', 'TRNNH4', 'TRNSi', 'TRNDIAT', 'TRNPHY', 'TRNMYRI', 'TRNMICZ', 'TRNDON', 'TRNPON', 'TRNbSi', 'TRNTRA', 'TRNDIC', 'TRNTA', 'TRNO2', 'TRNMYTRC1', 'TRBNO3', 'TRBNH4', 'TRBSi', 'TRBDIAT', 'TRBPHY', 'TRBMYRI', 'TRBMICZ', 'TRBDON', 'TRBPON', 'TRBbSi', 'TRBTRA', 'TRBDIC', 'TRBTA', 'TRBO2', 'TRBMYTRC1'])"
      ]
     },
     "execution_count": 3,
     "metadata": {},
     "output_type": "execute_result"
    }
   ],
   "source": [
    "f0.variables.keys()"
   ]
  },
  {
   "cell_type": "code",
   "execution_count": 5,
   "metadata": {},
   "outputs": [
    {
     "data": {
      "text/plain": [
       "<class 'netCDF4._netCDF4.Variable'>\n",
       "float64 TRNDON(t, z, y, x)\n",
       "unlimited dimensions: t\n",
       "current shape = (1, 40, 898, 398)\n",
       "filling on, default _FillValue of 9.969209968386869e+36 used"
      ]
     },
     "execution_count": 5,
     "metadata": {},
     "output_type": "execute_result"
    }
   ],
   "source": [
    "f0.variables['TRNDON']"
   ]
  },
  {
   "cell_type": "code",
   "execution_count": 7,
   "metadata": {},
   "outputs": [
    {
     "name": "stdout",
     "output_type": "stream",
     "text": [
      "TRNNO3 % difference: 2.4209662749055987\n",
      "TRNNH4 % difference: 6.274796063929178\n",
      "TRNSi % difference: 1.6779978364780588\n",
      "TRNDIAT % difference: 63.70937125022627\n",
      "TRNPHY % difference: 6.09690416994252\n",
      "TRNMYRI % difference: 6.834736230116153\n",
      "TRNMICZ % difference: 10.480625023507319\n",
      "TRNDON % difference: 9.179027449890578\n",
      "TRNPON % difference: 8.829360299371881\n",
      "TRNbSi % difference: 61.29222324426619\n",
      "TRNTRA % difference: 15.211206092609455\n",
      "TRNDIC % difference: 2.456301706555877\n",
      "TRNTA % difference: 0.4640804512786369\n",
      "TRNO2 % difference: 60.61425039043975\n",
      "TRNMYTRC1 % difference: 8.158083066206199e+33\n"
     ]
    }
   ],
   "source": [
    "for var in f0.variables.keys():\n",
    "    if var.startswith('TRN'):\n",
    "        print(var, '% difference:',np.mean(np.ma.masked_where(tmask==0,\n",
    "                    np.abs(f0.variables[var][0,:,:,:]-f1.variables[var][0,:,:,:])))/\\\n",
    "              np.mean(np.ma.masked_where(tmask==0,f0.variables[var][0,:,:,:]))*100)"
   ]
  },
  {
   "cell_type": "code",
   "execution_count": 8,
   "metadata": {},
   "outputs": [
    {
     "name": "stdout",
     "output_type": "stream",
     "text": [
      "TRNNO3 difference: 0.5357945674295738\n",
      "TRNNH4 difference: 0.055414945839324894\n",
      "TRNSi difference: 0.7890803983638175\n",
      "TRNDIAT difference: 0.01257619783256375\n",
      "TRNPHY difference: 0.02564421186063961\n",
      "TRNMYRI difference: 0.010013020479544592\n",
      "TRNMICZ difference: 0.008587983656625652\n",
      "TRNDON difference: 0.014663256834598066\n",
      "TRNPON difference: 0.004338710261138765\n",
      "TRNbSi difference: 0.005591048511515565\n",
      "TRNTRA difference: 0.05482277752434118\n",
      "TRNDIC difference: 50.07950717276224\n",
      "TRNTA difference: 9.58456633990105\n",
      "TRNO2 difference: 85.9050684915604\n",
      "TRNMYTRC1 difference: 4.895786743460772e+31\n"
     ]
    }
   ],
   "source": [
    "for var in f0.variables.keys():\n",
    "    if var.startswith('TRN'):\n",
    "        print(var, 'difference:',np.mean(np.ma.masked_where(tmask==0,\n",
    "                    np.abs(f0.variables[var][0,:,:,:]-f1.variables[var][0,:,:,:]))))"
   ]
  },
  {
   "cell_type": "code",
   "execution_count": null,
   "metadata": {},
   "outputs": [],
   "source": []
  }
 ],
 "metadata": {
  "kernelspec": {
   "display_name": "Python (py38_ct)",
   "language": "python",
   "name": "py38_ct"
  },
  "language_info": {
   "codemirror_mode": {
    "name": "ipython",
    "version": 3
   },
   "file_extension": ".py",
   "mimetype": "text/x-python",
   "name": "python",
   "nbconvert_exporter": "python",
   "pygments_lexer": "ipython3",
   "version": "3.8.2"
  }
 },
 "nbformat": 4,
 "nbformat_minor": 2
}
