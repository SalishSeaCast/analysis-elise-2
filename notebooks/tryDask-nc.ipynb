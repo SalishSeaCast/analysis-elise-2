{
 "cells": [
  {
   "cell_type": "code",
   "execution_count": null,
   "metadata": {
    "collapsed": false
   },
   "outputs": [],
   "source": [
    "import numpy as np\n",
    "import dask\n",
    "import netCDF4 as nc\n",
    "import matplotlib.pyplot as plt\n",
    "import os\n",
    "from os.path import isfile\n",
    "import datetime as dt\n",
    "from salishsea_tools import evaltools as et, viz_tools\n",
    "import glob\n",
    "%matplotlib inline"
   ]
  },
  {
   "cell_type": "code",
   "execution_count": null,
   "metadata": {
    "collapsed": false
   },
   "outputs": [],
   "source": [
    "meshPath='/ocean/eolson/MEOPAR/NEMO-forcing/grid/mesh_mask201702_noLPE.nc'\n",
    "maskName='tmask'"
   ]
  },
  {
   "cell_type": "code",
   "execution_count": null,
   "metadata": {
    "collapsed": false
   },
   "outputs": [],
   "source": [
    "j0=230;j1=470;i0=0;i1=200;"
   ]
  },
  {
   "cell_type": "code",
   "execution_count": null,
   "metadata": {
    "collapsed": true
   },
   "outputs": [],
   "source": [
    "with nc.Dataset(meshPath) as mesh:\n",
    "    tmask=np.copy(mesh.variables['tmask'][:,:,j0:j1,i0:i1])\n",
    "    e3t=np.copy(mesh.variables['e3t_0'][:,:,j0:j1,i0:i1])"
   ]
  },
  {
   "cell_type": "code",
   "execution_count": null,
   "metadata": {
    "collapsed": false
   },
   "outputs": [],
   "source": [
    "flistmuZ=et.index_model_files(dt.datetime(2015,6,1),dt.datetime(2015,9,1),\n",
    "                             '/data/eolson/results/MEOPAR/SS36runs/CedarRuns/testmuZ/',\n",
    "                             'long',10,'ptrc_T',1)"
   ]
  },
  {
   "cell_type": "code",
   "execution_count": null,
   "metadata": {
    "collapsed": false
   },
   "outputs": [],
   "source": [
    "flistmuZ['t_0'][0],flistmuZ['t_n'][len(flistmuZ)-1]"
   ]
  },
  {
   "cell_type": "code",
   "execution_count": null,
   "metadata": {
    "collapsed": false
   },
   "outputs": [],
   "source": [
    "flistHC=et.index_model_files(flistmuZ['t_0'][0],flistmuZ['t_n'][len(flistmuZ)-1]-dt.timedelta(days=1),\n",
    "                             '/results/SalishSea/hindcast.201905/',\n",
    "                             'nowcast',1,'ptrc_T',1)"
   ]
  },
  {
   "cell_type": "code",
   "execution_count": null,
   "metadata": {
    "collapsed": false
   },
   "outputs": [],
   "source": [
    "t0=dt.datetime.now()\n",
    "sum1=np.empty((len(flistmuZ)*24*10,j1-j0,i1-i0))\n",
    "sum1uZ=np.empty((len(flistmuZ)*24*10,j1-j0,i1-i0))\n",
    "for ind,row in flistmuZ.iterrows():\n",
    "    ds=nc.Dataset(row['paths'])\n",
    "    diatomsmuZ=ds.variables['diatoms'][:,:,j0:j1,i0:i1]\n",
    "    uZmuZ=ds.variables['microzooplankton'][:,:,j0:j1,i0:i1]\n",
    "    sum1[(24*10*ind):(24*10*(ind+1)),:,:]=np.sum(tmask*e3t*diatomsmuZ,1)\n",
    "    sum1uZ[(24*10*ind):(24*10*(ind+1)),:,:]=np.sum(tmask*e3t*uZmuZ,1)\n",
    "diatomsmuZInt=np.mean(sum1,0)\n",
    "uZmuZInt=np.mean(sum1uZ,0)\n",
    "t1=dt.datetime.now()\n",
    "print(t1-t0)"
   ]
  },
  {
   "cell_type": "code",
   "execution_count": null,
   "metadata": {
    "collapsed": false
   },
   "outputs": [],
   "source": [
    "t0=dt.datetime.now()\n",
    "sum1=np.empty((len(flistmuZ)*24*10,j1-j0,i1-i0))\n",
    "sum1uZ=np.empty((len(flistmuZ)*24*10,j1-j0,i1-i0))\n",
    "for ind,row in flistHC.iterrows():\n",
    "    ds=nc.Dataset(row['paths'])\n",
    "    diatomsHC=ds.variables['diatoms'][:,:,j0:j1,i0:i1]\n",
    "    uZHC=ds.variables['microzooplankton'][:,:,j0:j1,i0:i1]\n",
    "    sum1[(24*1*ind):(24*1*(ind+1)),:,:]=np.sum(tmask*e3t*diatomsHC,1)\n",
    "    sum1uZ[(24*1*ind):(24*1*(ind+1)),:,:]=np.sum(tmask*e3t*uZHC,1)\n",
    "diatomsHCInt=np.mean(sum1,0)\n",
    "uZHCInt=np.mean(sum1uZ,0)\n",
    "t1=dt.datetime.now()\n",
    "print(t1-t0)"
   ]
  },
  {
   "cell_type": "code",
   "execution_count": null,
   "metadata": {
    "collapsed": false,
    "scrolled": true
   },
   "outputs": [],
   "source": [
    "t0=dt.datetime.now()\n",
    "fig,ax=plt.subplots(1,3,figsize=(15,4))\n",
    "m0=ax[0].pcolormesh(diatomsmuZInt)\n",
    "plt.colorbar(m0,ax=ax[0])\n",
    "ax[0].set_title('muZ Diatoms')\n",
    "m1=ax[1].pcolormesh(diatomsHCInt)\n",
    "plt.colorbar(m1,ax=ax[1])\n",
    "ax[1].set_title('HC Diatoms')\n",
    "m2=ax[2].pcolormesh(diatomsmuZInt-diatomsHCInt)\n",
    "plt.colorbar(m2,ax=ax[2])\n",
    "ax[2].set_title('Diff')\n",
    "t1=dt.datetime.now()\n",
    "print(t1-t0)"
   ]
  },
  {
   "cell_type": "code",
   "execution_count": null,
   "metadata": {
    "collapsed": false,
    "scrolled": true
   },
   "outputs": [],
   "source": [
    "t0=dt.datetime.now()\n",
    "fig,ax=plt.subplots(1,3,figsize=(15,4))\n",
    "m0=ax[0].pcolormesh(uZmuZInt)\n",
    "plt.colorbar(m0,ax=ax[0])\n",
    "ax[0].set_title('muZ microZ')\n",
    "m1=ax[1].pcolormesh(uZHCInt)\n",
    "plt.colorbar(m1,ax=ax[1])\n",
    "ax[1].set_title('HC microZ')\n",
    "m2=ax[2].pcolormesh(uZmuZInt-uZHCInt)\n",
    "plt.colorbar(m2,ax=ax[2])\n",
    "ax[2].set_title('Diff')\n",
    "t1=dt.datetime.now()\n",
    "print(t1-t0)"
   ]
  },
  {
   "cell_type": "code",
   "execution_count": null,
   "metadata": {
    "collapsed": true
   },
   "outputs": [],
   "source": []
  }
 ],
 "metadata": {
  "anaconda-cloud": {},
  "kernelspec": {
   "display_name": "Python [conda env:py37]",
   "language": "python",
   "name": "conda-env-py37-py"
  },
  "language_info": {
   "codemirror_mode": {
    "name": "ipython",
    "version": 3
   },
   "file_extension": ".py",
   "mimetype": "text/x-python",
   "name": "python",
   "nbconvert_exporter": "python",
   "pygments_lexer": "ipython3",
   "version": "3.7.2"
  }
 },
 "nbformat": 4,
 "nbformat_minor": 1
}
