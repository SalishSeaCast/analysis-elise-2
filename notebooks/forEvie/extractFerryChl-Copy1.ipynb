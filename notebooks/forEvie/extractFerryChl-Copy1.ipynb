{
 "cells": [
  {
   "cell_type": "code",
   "execution_count": 3,
   "metadata": {},
   "outputs": [],
   "source": [
    "import numpy as np\n",
    "import matplotlib.pyplot as plt\n",
    "import os\n",
    "from salishsea_tools import geo_tools\n",
    "import pandas as pd\n",
    "import netCDF4 as nc\n",
    "import datetime as dt\n",
    "import linecache\n",
    "import glob\n",
    "%matplotlib inline"
   ]
  },
  {
   "cell_type": "code",
   "execution_count": null,
   "metadata": {},
   "outputs": [],
   "source": [
    "plist=['S3']"
   ]
  },
  {
   "cell_type": "code",
   "execution_count": null,
   "metadata": {},
   "outputs": [],
   "source": [
    "'/ocean/eolson/MEOPAR/obs/ONC/turbidity/nearSurface/search3928586/BritishColumbiaFerries_Tsawwassen-DukePoint_Turbidity-ChlorophyllandFluorescence_20120509T231233Z_20130117T052029Z-clean.csv'"
   ]
  },
  {
   "cell_type": "code",
   "execution_count": 2,
   "metadata": {},
   "outputs": [],
   "source": [
    "#2013:\n",
    "df=pd.read_csv('/ocean/eolson/MEOPAR/obs/ONC/turbidity/nearSurface/search3928586/BritishColumbiaFerries_Tsawwassen-DukePoint_Turbidity-ChlorophyllandFluorescence_20130117T052039Z_20131214T042429Z-clean.csv',\n",
    "        skiprows=78,header=None,\n",
    "        names=('TimeUTC','CDOM','CDOMQC','Chlorophyll_ug','ChlQC','Turbidity_NTU','TurbQC','Lat','LatQC','Lon','LongQC'))\n",
    "dts=[dt.datetime(int(r[0:4]),int(r[5:7]),int(r[8:10]),int(r[11:13]),int(r[14:16]),int(r[17:19])) for r in df['TimeUTC']]\n",
    "df=df.assign(dts=dts)\n",
    "df['Lat']=pd.to_numeric(df['Lat'],errors='coerce')\n",
    "df['Lon']=pd.to_numeric(df['Lon'],errors='coerce')"
   ]
  },
  {
   "cell_type": "code",
   "execution_count": null,
   "metadata": {},
   "outputs": [],
   "source": [
    "# 2014\n",
    "df=pd.read_csv('/ocean/eolson/MEOPAR/obs/ONC/turbidity/nearSurface/search3928586/BritishColumbiaFerries_Tsawwassen-DukePoint_Turbidity-ChlorophyllandFluorescence_20131214T042439Z_20140804T234320Z-clean.csv',\n",
    "        skiprows=78,header=None,\n",
    "        names=('TimeUTC','CDOM','CDOMQC','Chlorophyll_ug','ChlQC','Turbidity_NTU','TurbQC','Lat','LatQC','Lon','LongQC'))\n",
    "dts=[dt.datetime(int(r[0:4]),int(r[5:7]),int(r[8:10]),int(r[11:13]),int(r[14:16]),int(r[17:19])) for r in df['TimeUTC']]\n",
    "df=df.assign(dts=dts)\n",
    "df['Lat']=pd.to_numeric(df['Lat'],errors='coerce')\n",
    "df['Lon']=pd.to_numeric(df['Lon'],errors='coerce')"
   ]
  },
  {
   "cell_type": "code",
   "execution_count": null,
   "metadata": {},
   "outputs": [],
   "source": [
    "#2015\n",
    "df1=pd.read_csv('/ocean/eolson/MEOPAR/obs/ONC/turbidity/nearSurface/search3928586/BritishColumbiaFerries_Tsawwassen-DukePoint_Turbidity-ChlorophyllandFluorescence_20140804T234330Z_20150604T070614Z-clean.csv',\n",
    "        skiprows=78,header=None,\n",
    "        names=('TimeUTC','CDOM','CDOMQC','Chlorophyll_ug','ChlQC','Turbidity_NTU','TurbQC','Lat','LatQC','Lon','LongQC'))\n",
    "df2=pd.read_csv('/ocean/eolson/MEOPAR/obs/ONC/turbidity/nearSurface/search3928586/BritishColumbiaFerries_Tsawwassen-DukePoint_Turbidity-ChlorophyllandFluorescence_20150604T070624Z_20160307T160206Z-clean.csv',\n",
    "        skiprows=78,header=None,\n",
    "        names=('TimeUTC','CDOM','CDOMQC','Chlorophyll_ug','ChlQC','Turbidity_NTU','TurbQC','Lat','LatQC','Lon','LongQC'))\n",
    "df=pd.concat([df1.drop(df1[df1.TimeUTC<'2015'].index),df2.drop(df2[df2.TimeUTC>'2016'].index)],ignore_index=True)\n",
    "dts=[dt.datetime(int(r[0:4]),int(r[5:7]),int(r[8:10]),int(r[11:13]),int(r[14:16]),int(r[17:19])) for r in df['TimeUTC']]\n",
    "df=df.assign(dts=dts)\n",
    "df['Lat']=pd.to_numeric(df['Lat'],errors='coerce')\n",
    "df['Lon']=pd.to_numeric(df['Lon'],errors='coerce')\n"
   ]
  },
  {
   "cell_type": "code",
   "execution_count": null,
   "metadata": {},
   "outputs": [],
   "source": [
    "#2016\n",
    "df1=pd.read_csv('/ocean/eolson/MEOPAR/obs/ONC/turbidity/nearSurface/search3928586/BritishColumbiaFerries_Tsawwassen-DukePoint_Turbidity-ChlorophyllandFluorescence_20150604T070624Z_20160307T160206Z-clean.csv',\n",
    "        skiprows=78,header=None,\n",
    "        names=('TimeUTC','CDOM','CDOMQC','Chlorophyll_ug','ChlQC','Turbidity_NTU','TurbQC','Lat','LatQC','Lon','LongQC'))\n",
    "df2=pd.read_csv('/ocean/eolson/MEOPAR/obs/ONC/turbidity/nearSurface/search3928586/BritishColumbiaFerries_Tsawwassen-DukePoint_Turbidity-ChlorophyllandFluorescence_20160307T160215Z_20161019T064047Z-clean.csv',\n",
    "        skiprows=78,header=None,\n",
    "        names=('TimeUTC','CDOM','CDOMQC','Chlorophyll_ug','ChlQC','Turbidity_NTU','TurbQC','Lat','LatQC','Lon','LongQC'))\n",
    "df3=pd.read_csv('/ocean/eolson/MEOPAR/obs/ONC/turbidity/nearSurface/search3928586/BritishColumbiaFerries_Tsawwassen-DukePoint_Turbidity-ChlorophyllandFluorescence_20161019T064056Z_20161115T220747Z-clean.csv',\n",
    "        skiprows=78,header=None,\n",
    "        names=('TimeUTC','CDOM','CDOMQC','Chlorophyll_ug','ChlQC','Turbidity_NTU','TurbQC','Lat','LatQC','Lon','LongQC'))\n",
    "df=pd.concat([df1.drop(df1[df1.TimeUTC<'2016'].index),df2,df3],ignore_index=True)\n",
    "dts=[dt.datetime(int(r[0:4]),int(r[5:7]),int(r[8:10]),int(r[11:13]),int(r[14:16]),int(r[17:19])) for r in df['TimeUTC']]\n",
    "df=df.assign(dts=dts)\n",
    "df2=df.loc[(df.dts>=dt.datetime(2016,3,1))&(df.dts<dt.datetime(2016,4,1))].copy()\n",
    "df=df2\n",
    "df['Day']=[dt.datetime(2016,3,1+int(np.floor((ii-dt.datetime(2016,3,1)).days)),12,0,0) for ii in df['dts']]\n",
    "df['Lat']=pd.to_numeric(df['Lat'],errors='coerce')\n",
    "df['Lon']=pd.to_numeric(df['Lon'],errors='coerce')\n",
    "\n",
    "df['Chlorophyll_ug']=pd.to_numeric(df['Chlorophyll_ug'],errors='coerce')"
   ]
  },
  {
   "cell_type": "code",
   "execution_count": null,
   "metadata": {},
   "outputs": [],
   "source": [
    "'/ocean/eolson/MEOPAR/obs/ONC/turbidity/nearSurface/search7672208/"
   ]
  },
  {
   "cell_type": "code",
   "execution_count": null,
   "metadata": {},
   "outputs": [],
   "source": [
    "#2017\n",
    "\n",
    "flist=['search4979680/BritishColumbiaFerries_Tsawwassen-DukePoint_Turbidity-ChlorophyllandFluorescence_20170217T003041Z_20170315T031911Z-clean.csv',\n",
    "       'search4979680/BritishColumbiaFerries_Tsawwassen-DukePoint_Turbidity-ChlorophyllandFluorescence_20170315T031912Z_20170404T195130Z-clean.csv']\n",
    "dfs=list()\n",
    "for ii in range(0,len(flist)):\n",
    "    dfs.append(pd.read_csv('/ocean/eolson/MEOPAR/obs/ONC/turbidity/nearSurface/'+flist[ii],\n",
    "        skiprows=67,header=None,usecols=[0,1,2,3,4,5,6,7,8,9,10],\n",
    "        names=('TimeUTC','CDOM','CDOMQC','Chlorophyll_ug','ChlQC','Turbidity_NTU','TurbQC','Lat','LatQC','Lon','LongQC')))\n",
    "df=pd.concat(dfs,ignore_index=True)\n",
    "dts=[dt.datetime(int(r[0:4]),int(r[5:7]),int(r[8:10]),int(r[11:13]),int(r[14:16]),int(r[17:19])) for r in df['TimeUTC']]\n",
    "df=df.assign(dts=dts)\n",
    "df2=df.loc[(df.dts>=dt.datetime(2017,3,1))&(df.dts<dt.datetime(2017,4,1))].copy()\n",
    "df=df2\n",
    "df['Day']=[dt.datetime(2017,3,1+int(np.floor((ii-dt.datetime(2017,3,1)).days)),12,0,0) for ii in df['dts']]\n",
    "df['Lat']=pd.to_numeric(df['Lat'],errors='coerce')\n",
    "df['Lon']=pd.to_numeric(df['Lon'],errors='coerce')\n",
    "df['Chlorophyll_ug']=pd.to_numeric(df['Chlorophyll_ug'],errors='coerce')"
   ]
  },
  {
   "cell_type": "code",
   "execution_count": null,
   "metadata": {},
   "outputs": [],
   "source": [
    "#2018\n",
    "BritishColumbiaFerries_Tsawwassen-DukePoint_Turbidity-ChlorophyllandFluorescence_20170825T225507Z_20170923T032427Z-clean.csv\n",
    "BritishColumbiaFerries_Tsawwassen-DukePoint_Turbidity-ChlorophyllandFluorescence_20170923T032428Z_20171016T213134Z-clean.csv\n",
    "BritishColumbiaFerries_Tsawwassen-DukePoint_Turbidity-ChlorophyllandFluorescence_20171016T213135Z_20180108T160335Z-clean.csv\n",
    "BritishColumbiaFerries_Tsawwassen-DukePoint_Turbidity-ChlorophyllandFluorescence_20180108T160336Z_20180129T154819Z-clean.csv\n",
    "BritishColumbiaFerries_Tsawwassen-DukePoint_Turbidity-ChlorophyllandFluorescence_20180129T154820Z_20180220T145336Z-clean.csv\n",
    "BritishColumbiaFerries_Tsawwassen-DukePoint_Turbidity-ChlorophyllandFluorescence_20180220T145337Z_20180313T223206Z-clean.csv\n",
    "BritishColumbiaFerries_Tsawwassen-DukePoint_Turbidity-ChlorophyllandFluorescence_20180313T223207Z_20180404T024033Z-clean.csv\n",
    "BritishColumbiaFerries_Tsawwassen-DukePoint_Turbidity-ChlorophyllandFluorescence_20180404T024034Z_20180509T210327Z-clean.csv\n",
    "BritishColumbiaFerries_Tsawwassen-DukePoint_Turbidity-ChlorophyllandFluorescence_20180509T210328Z_20180601T140143Z-clean.csv\n",
    "BritishColumbiaFerries_Tsawwassen-DukePoint_Turbidity-ChlorophyllandFluorescence_20180601T140144Z_20180623T012814Z-clean.csv\n",
    "BritishColumbiaFerries_Tsawwassen-DukePoint_Turbidity-ChlorophyllandFluorescence_20180623T012815Z_20180713T123157Z-clean.csv\n",
    "BritishColumbiaFerries_Tsawwassen-DukePoint_Turbidity-ChlorophyllandFluorescence_20180713T123158Z_20180802T134330Z-clean.csv\n",
    "BritishColumbiaFerries_Tsawwassen-DukePoint_Turbidity-ChlorophyllandFluorescence_20180802T134331Z_20180829T230717Z-clean.csv\n",
    "BritishColumbiaFerries_Tsawwassen-DukePoint_Turbidity-ChlorophyllandFluorescence_20180829T230718Z_20180919T174926Z-clean.csv\n",
    "BritishColumbiaFerries_Tsawwassen-DukePoint_Turbidity-ChlorophyllandFluorescence_20180919T174927Z_20181010T190513Z-clean.csv\n",
    "BritishColumbiaFerries_Tsawwassen-DukePoint_Turbidity-ChlorophyllandFluorescence_20181010T190515Z_20181103T033420Z-clean.csv\n",
    "BritishColumbiaFerries_Tsawwassen-DukePoint_Turbidity-ChlorophyllandFluorescence_20181103T033421Z_20181106T221350Z-clean.csv"
   ]
  },
  {
   "cell_type": "code",
   "execution_count": null,
   "metadata": {},
   "outputs": [],
   "source": [
    "#2019\n",
    "\n"
   ]
  },
  {
   "cell_type": "code",
   "execution_count": null,
   "metadata": {},
   "outputs": [],
   "source": [
    "# 2020\n",
    "\n"
   ]
  },
  {
   "cell_type": "code",
   "execution_count": 13,
   "metadata": {},
   "outputs": [],
   "source": [
    "#all:\n",
    "flist=('search3928586/BritishColumbiaFerries_Tsawwassen-DukePoint_Turbidity-ChlorophyllandFluorescence_20120509T231233Z_20130117T052029Z-clean.csv',\n",
    "'search3928586/BritishColumbiaFerries_Tsawwassen-DukePoint_Turbidity-ChlorophyllandFluorescence_20130117T052039Z_20131214T042429Z-clean.csv',\n",
    "'search3928586/BritishColumbiaFerries_Tsawwassen-DukePoint_Turbidity-ChlorophyllandFluorescence_20131214T042439Z_20140804T234320Z-clean.csv',\n",
    "'search3928586/BritishColumbiaFerries_Tsawwassen-DukePoint_Turbidity-ChlorophyllandFluorescence_20140804T234330Z_20150604T070614Z-clean.csv',\n",
    "'search3928586/BritishColumbiaFerries_Tsawwassen-DukePoint_Turbidity-ChlorophyllandFluorescence_20150604T070624Z_20160307T160206Z-clean.csv',\n",
    "'search3928586/BritishColumbiaFerries_Tsawwassen-DukePoint_Turbidity-ChlorophyllandFluorescence_20160307T160215Z_20161019T064047Z-clean.csv',\n",
    "'search3928586/BritishColumbiaFerries_Tsawwassen-DukePoint_Turbidity-ChlorophyllandFluorescence_20161019T064056Z_20161115T220747Z-clean.csv',\n",
    "'search4979680/BritishColumbiaFerries_Tsawwassen-DukePoint_Turbidity-ChlorophyllandFluorescence_20170217T003041Z_20170315T031911Z-clean.csv',\n",
    "'search4979680/BritishColumbiaFerries_Tsawwassen-DukePoint_Turbidity-ChlorophyllandFluorescence_20170315T031912Z_20170404T195130Z-clean.csv',\n",
    "'search4979680/BritishColumbiaFerries_Tsawwassen-DukePoint_Turbidity-ChlorophyllandFluorescence_20170404T195131Z_20170426T173215Z-clean.csv',\n",
    "'search4979680/BritishColumbiaFerries_Tsawwassen-DukePoint_Turbidity-ChlorophyllandFluorescence_20170426T173216Z_20170522T011843Z-clean.csv',\n",
    "'search4979680/BritishColumbiaFerries_Tsawwassen-DukePoint_Turbidity-ChlorophyllandFluorescence_20170522T011844Z_20170611T234016Z-clean.csv',\n",
    "'search4979680/BritishColumbiaFerries_Tsawwassen-DukePoint_Turbidity-ChlorophyllandFluorescence_20170611T234017Z_20170702T172228Z-clean.csv',\n",
    "'search4979680/BritishColumbiaFerries_Tsawwassen-DukePoint_Turbidity-ChlorophyllandFluorescence_20170702T172229Z_20170722T182606Z-clean.csv',\n",
    "'search4979680/BritishColumbiaFerries_Tsawwassen-DukePoint_Turbidity-ChlorophyllandFluorescence_20170722T182607Z_20170815T213737Z-clean.csv',\n",
    "'search4979680/BritishColumbiaFerries_Tsawwassen-DukePoint_Turbidity-ChlorophyllandFluorescence_20170815T213738Z_20170825T225506Z-clean.csv',\n",
    "'search7672208/BritishColumbiaFerries_Tsawwassen-DukePoint_Turbidity-ChlorophyllandFluorescence_20170825T225507Z_20170923T032427Z-clean.csv',\n",
    "'search7672208/BritishColumbiaFerries_Tsawwassen-DukePoint_Turbidity-ChlorophyllandFluorescence_20170923T032428Z_20171016T213134Z-clean.csv',\n",
    "'search7672208/BritishColumbiaFerries_Tsawwassen-DukePoint_Turbidity-ChlorophyllandFluorescence_20171016T213135Z_20180108T160335Z-clean.csv',\n",
    "'search7672208/BritishColumbiaFerries_Tsawwassen-DukePoint_Turbidity-ChlorophyllandFluorescence_20180108T160336Z_20180129T154819Z-clean.csv',\n",
    "'search7672208/BritishColumbiaFerries_Tsawwassen-DukePoint_Turbidity-ChlorophyllandFluorescence_20180129T154820Z_20180220T145336Z-clean.csv',\n",
    "'search7672208/BritishColumbiaFerries_Tsawwassen-DukePoint_Turbidity-ChlorophyllandFluorescence_20180220T145337Z_20180313T223206Z-clean.csv',\n",
    "'search7672208/BritishColumbiaFerries_Tsawwassen-DukePoint_Turbidity-ChlorophyllandFluorescence_20180313T223207Z_20180404T024033Z-clean.csv',\n",
    "'search7672208/BritishColumbiaFerries_Tsawwassen-DukePoint_Turbidity-ChlorophyllandFluorescence_20180404T024034Z_20180509T210327Z-clean.csv',\n",
    "'search7672208/BritishColumbiaFerries_Tsawwassen-DukePoint_Turbidity-ChlorophyllandFluorescence_20180509T210328Z_20180601T140143Z-clean.csv',\n",
    "'search7672208/BritishColumbiaFerries_Tsawwassen-DukePoint_Turbidity-ChlorophyllandFluorescence_20180601T140144Z_20180623T012814Z-clean.csv',\n",
    "'search7672208/BritishColumbiaFerries_Tsawwassen-DukePoint_Turbidity-ChlorophyllandFluorescence_20180623T012815Z_20180713T123157Z-clean.csv',\n",
    "'search7672208/BritishColumbiaFerries_Tsawwassen-DukePoint_Turbidity-ChlorophyllandFluorescence_20180713T123158Z_20180802T134330Z-clean.csv',\n",
    "'search7672208/BritishColumbiaFerries_Tsawwassen-DukePoint_Turbidity-ChlorophyllandFluorescence_20180802T134331Z_20180829T230717Z-clean.csv',\n",
    "'search7672208/BritishColumbiaFerries_Tsawwassen-DukePoint_Turbidity-ChlorophyllandFluorescence_20180829T230718Z_20180919T174926Z-clean.csv',\n",
    "'search7672208/BritishColumbiaFerries_Tsawwassen-DukePoint_Turbidity-ChlorophyllandFluorescence_20180919T174927Z_20181010T190513Z-clean.csv',\n",
    "'search7672208/BritishColumbiaFerries_Tsawwassen-DukePoint_Turbidity-ChlorophyllandFluorescence_20181010T190515Z_20181103T033420Z-clean.csv',\n",
    "'search7672208/BritishColumbiaFerries_Tsawwassen-DukePoint_Turbidity-ChlorophyllandFluorescence_20181103T033421Z_20181106T221350Z-clean.csv',)"
   ]
  },
  {
   "cell_type": "code",
   "execution_count": 9,
   "metadata": {},
   "outputs": [
    {
     "name": "stdout",
     "output_type": "stream",
     "text": [
      "59\n",
      "59\n",
      "59\n",
      "59\n",
      "59\n",
      "59\n",
      "59\n",
      "59\n",
      "59\n",
      "59\n",
      "59\n",
      "59\n",
      "59\n",
      "59\n",
      "59\n",
      "59\n",
      "59\n"
     ]
    }
   ],
   "source": [
    "for ff in flist:\n",
    "    with open(os.path.join('/ocean/eolson/MEOPAR/obs/ONC/turbidity/nearSurface',ff)) as f:\n",
    "        for num, line in enumerate(f,1):\n",
    "            if line.startswith('## END'):\n",
    "                print( num)"
   ]
  },
  {
   "cell_type": "code",
   "execution_count": 17,
   "metadata": {},
   "outputs": [],
   "source": [
    "import glob"
   ]
  },
  {
   "cell_type": "code",
   "execution_count": 23,
   "metadata": {},
   "outputs": [
    {
     "data": {
      "text/plain": [
       "'#\"Time UTC (yyyy-mm-ddThh:mm:ss.fffZ)\", \"CDOM Fluorescence (ppb)\", \"CDOM Fluorescence QC Flag\"  , \"Chlorophyll (ug/l)\", \"Chlorophyll QC Flag\"  , \"Turbidity (NTU)\", \"Turbidity QC Flag\"  , \"Latitude (deg)\", \"Latitude QC Flag\"  , \"Longitude (deg)\", \"Longitude QC Flag\"  , \"Pitch (deg)\", \"Pitch QC Flag\"  , \"Roll (deg)\", \"Roll QC Flag\"  , \"True Heading (deg)\", \"True Heading QC Flag\"  \\n'"
      ]
     },
     "execution_count": 23,
     "metadata": {},
     "output_type": "execute_result"
    }
   ],
   "source": [
    "linecache.getline(os.path.join('/ocean/eolson/MEOPAR/obs/ONC/turbidity/nearSurface',ff),58)"
   ]
  },
  {
   "cell_type": "code",
   "execution_count": 8,
   "metadata": {},
   "outputs": [],
   "source": [
    "flist=glob.glob('/ocean/eolson/MEOPAR/obs/ONC/turbidity/nearSurface/*/*Tsawwassen-DukePoint_Turbidity*')\n",
    "#skiplist="
   ]
  },
  {
   "cell_type": "code",
   "execution_count": 7,
   "metadata": {},
   "outputs": [
    {
     "data": {
      "text/plain": [
       "['/ocean/eolson/MEOPAR/obs/ONC/turbidity/nearSurface/search7672208/BritishColumbiaFerries_Tsawwassen-DukePoint_Turbidity-ChlorophyllandFluorescence_20171016T213135Z_20180108T160335Z-clean.csv',\n",
       " '/ocean/eolson/MEOPAR/obs/ONC/turbidity/nearSurface/search7672208/BritishColumbiaFerries_Tsawwassen-DukePoint_Turbidity-ChlorophyllandFluorescence_20180802T134331Z_20180829T230717Z-clean.csv',\n",
       " '/ocean/eolson/MEOPAR/obs/ONC/turbidity/nearSurface/search7672208/BritishColumbiaFerries_Tsawwassen-DukePoint_Turbidity-ChlorophyllandFluorescence_20180313T223207Z_20180404T024033Z-clean.csv',\n",
       " '/ocean/eolson/MEOPAR/obs/ONC/turbidity/nearSurface/search7672208/BritishColumbiaFerries_Tsawwassen-DukePoint_Turbidity-ChlorophyllandFluorescence_20180509T210328Z_20180601T140143Z-clean.csv',\n",
       " '/ocean/eolson/MEOPAR/obs/ONC/turbidity/nearSurface/search7672208/BritishColumbiaFerries_Tsawwassen-DukePoint_Turbidity-ChlorophyllandFluorescence_20180829T230718Z_20180919T174926Z-clean.csv',\n",
       " '/ocean/eolson/MEOPAR/obs/ONC/turbidity/nearSurface/search7672208/BritishColumbiaFerries_Tsawwassen-DukePoint_Turbidity-ChlorophyllandFluorescence_20170825T225507Z_20170923T032427Z-clean.csv',\n",
       " '/ocean/eolson/MEOPAR/obs/ONC/turbidity/nearSurface/search7672208/BritishColumbiaFerries_Tsawwassen-DukePoint_Turbidity-ChlorophyllandFluorescence_20180601T140144Z_20180623T012814Z-clean.csv',\n",
       " '/ocean/eolson/MEOPAR/obs/ONC/turbidity/nearSurface/search7672208/BritishColumbiaFerries_Tsawwassen-DukePoint_Turbidity-ChlorophyllandFluorescence_20180108T160336Z_20180129T154819Z-clean.csv',\n",
       " '/ocean/eolson/MEOPAR/obs/ONC/turbidity/nearSurface/search7672208/BritishColumbiaFerries_Tsawwassen-DukePoint_Turbidity-ChlorophyllandFluorescence_20181103T033421Z_20181106T221350Z-clean.csv',\n",
       " '/ocean/eolson/MEOPAR/obs/ONC/turbidity/nearSurface/search7672208/BritishColumbiaFerries_Tsawwassen-DukePoint_Turbidity-ChlorophyllandFluorescence_20180404T024034Z_20180509T210327Z-clean.csv',\n",
       " '/ocean/eolson/MEOPAR/obs/ONC/turbidity/nearSurface/search7672208/BritishColumbiaFerries_Tsawwassen-DukePoint_Turbidity-ChlorophyllandFluorescence_20180919T174927Z_20181010T190513Z-clean.csv',\n",
       " '/ocean/eolson/MEOPAR/obs/ONC/turbidity/nearSurface/search7672208/BritishColumbiaFerries_Tsawwassen-DukePoint_Turbidity-ChlorophyllandFluorescence_20180623T012815Z_20180713T123157Z-clean.csv',\n",
       " '/ocean/eolson/MEOPAR/obs/ONC/turbidity/nearSurface/search7672208/BritishColumbiaFerries_Tsawwassen-DukePoint_Turbidity-ChlorophyllandFluorescence_20180713T123158Z_20180802T134330Z-clean.csv',\n",
       " '/ocean/eolson/MEOPAR/obs/ONC/turbidity/nearSurface/search7672208/BritishColumbiaFerries_Tsawwassen-DukePoint_Turbidity-ChlorophyllandFluorescence_20180220T145337Z_20180313T223206Z-clean.csv',\n",
       " '/ocean/eolson/MEOPAR/obs/ONC/turbidity/nearSurface/search7672208/BritishColumbiaFerries_Tsawwassen-DukePoint_Turbidity-ChlorophyllandFluorescence_20181010T190515Z_20181103T033420Z-clean.csv',\n",
       " '/ocean/eolson/MEOPAR/obs/ONC/turbidity/nearSurface/search7672208/BritishColumbiaFerries_Tsawwassen-DukePoint_Turbidity-ChlorophyllandFluorescence_20170923T032428Z_20171016T213134Z-clean.csv',\n",
       " '/ocean/eolson/MEOPAR/obs/ONC/turbidity/nearSurface/search7672208/BritishColumbiaFerries_Tsawwassen-DukePoint_Turbidity-ChlorophyllandFluorescence_20180129T154820Z_20180220T145336Z-clean.csv',\n",
       " '/ocean/eolson/MEOPAR/obs/ONC/turbidity/nearSurface/search13411521/BritishColumbiaFerries_Tsawwassen-DukePoint_Turbidity-ChlorophyllandFluorescence_20190831T200733Z_20190921T071536Z-clean.csv',\n",
       " '/ocean/eolson/MEOPAR/obs/ONC/turbidity/nearSurface/search13411521/BritishColumbiaFerries_Tsawwassen-DukePoint_Turbidity-ChlorophyllandFluorescence_20190921T071537Z_20191012T122328Z-clean.csv',\n",
       " '/ocean/eolson/MEOPAR/obs/ONC/turbidity/nearSurface/search13411521/BritishColumbiaFerries_Tsawwassen-DukePoint_Turbidity-ChlorophyllandFluorescence_20190801T155652Z_20190831T200732Z-clean.csv',\n",
       " '/ocean/eolson/MEOPAR/obs/ONC/turbidity/nearSurface/search13411521/BritishColumbiaFerries_Tsawwassen-DukePoint_Turbidity-ChlorophyllandFluorescence_20181106T221350Z_20181227T052043Z-clean.csv',\n",
       " '/ocean/eolson/MEOPAR/obs/ONC/turbidity/nearSurface/search13411521/BritishColumbiaFerries_Tsawwassen-DukePoint_Turbidity-ChlorophyllandFluorescence_20190531T195349Z_20190622T133520Z-clean.csv',\n",
       " '/ocean/eolson/MEOPAR/obs/ONC/turbidity/nearSurface/search13411521/BritishColumbiaFerries_Tsawwassen-DukePoint_Turbidity-ChlorophyllandFluorescence_20190207T134502Z_20190304T031424Z-clean.csv',\n",
       " '/ocean/eolson/MEOPAR/obs/ONC/turbidity/nearSurface/search13411521/BritishColumbiaFerries_Tsawwassen-DukePoint_Turbidity-ChlorophyllandFluorescence_20190622T133521Z_20190712T183532Z-clean.csv',\n",
       " '/ocean/eolson/MEOPAR/obs/ONC/turbidity/nearSurface/search13411521/BritishColumbiaFerries_Tsawwassen-DukePoint_Turbidity-ChlorophyllandFluorescence_20200228T221736Z_20200321T162128Z-clean.csv',\n",
       " '/ocean/eolson/MEOPAR/obs/ONC/turbidity/nearSurface/search13411521/BritishColumbiaFerries_Tsawwassen-DukePoint_Turbidity-ChlorophyllandFluorescence_20181227T052044Z_20190117T172802Z-clean.csv',\n",
       " '/ocean/eolson/MEOPAR/obs/ONC/turbidity/nearSurface/search13411521/BritishColumbiaFerries_Tsawwassen-DukePoint_Turbidity-ChlorophyllandFluorescence_20190712T183533Z_20190801T155651Z-clean.csv',\n",
       " '/ocean/eolson/MEOPAR/obs/ONC/turbidity/nearSurface/search13411521/BritishColumbiaFerries_Tsawwassen-DukePoint_Turbidity-ChlorophyllandFluorescence_20191012T122329Z_20191102T211847Z-clean.csv',\n",
       " '/ocean/eolson/MEOPAR/obs/ONC/turbidity/nearSurface/search13411521/BritishColumbiaFerries_Tsawwassen-DukePoint_Turbidity-ChlorophyllandFluorescence_20190325T034624Z_20190415T051212Z-clean.csv',\n",
       " '/ocean/eolson/MEOPAR/obs/ONC/turbidity/nearSurface/search13411521/BritishColumbiaFerries_Tsawwassen-DukePoint_Turbidity-ChlorophyllandFluorescence_20200123T065704Z_20200228T221735Z-clean.csv',\n",
       " '/ocean/eolson/MEOPAR/obs/ONC/turbidity/nearSurface/search13411521/BritishColumbiaFerries_Tsawwassen-DukePoint_Turbidity-ChlorophyllandFluorescence_20190415T051213Z_20190510T073154Z-clean.csv',\n",
       " '/ocean/eolson/MEOPAR/obs/ONC/turbidity/nearSurface/search13411521/BritishColumbiaFerries_Tsawwassen-DukePoint_Turbidity-ChlorophyllandFluorescence_20191102T211849Z_20200123T065703Z-clean.csv',\n",
       " '/ocean/eolson/MEOPAR/obs/ONC/turbidity/nearSurface/search13411521/BritishColumbiaFerries_Tsawwassen-DukePoint_Turbidity-ChlorophyllandFluorescence_20200321T162129Z_20200407T011417Z-clean.csv',\n",
       " '/ocean/eolson/MEOPAR/obs/ONC/turbidity/nearSurface/search13411521/BritishColumbiaFerries_Tsawwassen-DukePoint_Turbidity-ChlorophyllandFluorescence_20190117T172803Z_20190207T134501Z-clean.csv',\n",
       " '/ocean/eolson/MEOPAR/obs/ONC/turbidity/nearSurface/search13411521/BritishColumbiaFerries_Tsawwassen-DukePoint_Turbidity-ChlorophyllandFluorescence_20190510T073155Z_20190531T195347Z-clean.csv',\n",
       " '/ocean/eolson/MEOPAR/obs/ONC/turbidity/nearSurface/search13411521/BritishColumbiaFerries_Tsawwassen-DukePoint_Turbidity-ChlorophyllandFluorescence_20190304T031425Z_20190325T034623Z-clean.csv',\n",
       " '/ocean/eolson/MEOPAR/obs/ONC/turbidity/nearSurface/search3928586/BritishColumbiaFerries_Tsawwassen-DukePoint_Turbidity-ChlorophyllandFluorescence_20130117T052039Z_20131214T042429Z-clean.csv',\n",
       " '/ocean/eolson/MEOPAR/obs/ONC/turbidity/nearSurface/search3928586/BritishColumbiaFerries_Tsawwassen-DukePoint_Turbidity-ChlorophyllandFluorescence_20140804T234330Z_20150604T070614Z-clean.csv',\n",
       " '/ocean/eolson/MEOPAR/obs/ONC/turbidity/nearSurface/search3928586/BritishColumbiaFerries_Tsawwassen-DukePoint_Turbidity-ChlorophyllandFluorescence_20150604T070624Z_20160307T160206Z-clean.csv',\n",
       " '/ocean/eolson/MEOPAR/obs/ONC/turbidity/nearSurface/search3928586/BritishColumbiaFerries_Tsawwassen-DukePoint_Turbidity-ChlorophyllandFluorescence_20160307T160215Z_20161019T064047Z-clean.csv',\n",
       " '/ocean/eolson/MEOPAR/obs/ONC/turbidity/nearSurface/search3928586/BritishColumbiaFerries_Tsawwassen-DukePoint_Turbidity-ChlorophyllandFluorescence_20120509T231233Z_20130117T052029Z-clean.csv',\n",
       " '/ocean/eolson/MEOPAR/obs/ONC/turbidity/nearSurface/search3928586/BritishColumbiaFerries_Tsawwassen-DukePoint_Turbidity-ChlorophyllandFluorescence_20131214T042439Z_20140804T234320Z-clean.csv',\n",
       " '/ocean/eolson/MEOPAR/obs/ONC/turbidity/nearSurface/search3928586/BritishColumbiaFerries_Tsawwassen-DukePoint_Turbidity-ChlorophyllandFluorescence_20161019T064056Z_20161115T220747Z-clean.csv',\n",
       " '/ocean/eolson/MEOPAR/obs/ONC/turbidity/nearSurface/search4979680/BritishColumbiaFerries_Tsawwassen-DukePoint_Turbidity-ChlorophyllandFluorescence_20170404T195131Z_20170426T173215Z-clean.csv',\n",
       " '/ocean/eolson/MEOPAR/obs/ONC/turbidity/nearSurface/search4979680/BritishColumbiaFerries_Tsawwassen-DukePoint_Turbidity-ChlorophyllandFluorescence_20170702T172229Z_20170722T182606Z-clean.csv',\n",
       " '/ocean/eolson/MEOPAR/obs/ONC/turbidity/nearSurface/search4979680/BritishColumbiaFerries_Tsawwassen-DukePoint_Turbidity-ChlorophyllandFluorescence_20170217T003041Z_20170315T031911Z-clean.csv',\n",
       " '/ocean/eolson/MEOPAR/obs/ONC/turbidity/nearSurface/search4979680/BritishColumbiaFerries_Tsawwassen-DukePoint_Turbidity-ChlorophyllandFluorescence_20170611T234017Z_20170702T172228Z-clean.csv',\n",
       " '/ocean/eolson/MEOPAR/obs/ONC/turbidity/nearSurface/search4979680/BritishColumbiaFerries_Tsawwassen-DukePoint_Turbidity-ChlorophyllandFluorescence_20170722T182607Z_20170815T213737Z-clean.csv',\n",
       " '/ocean/eolson/MEOPAR/obs/ONC/turbidity/nearSurface/search4979680/BritishColumbiaFerries_Tsawwassen-DukePoint_Turbidity-ChlorophyllandFluorescence_20170315T031912Z_20170404T195130Z-clean.csv',\n",
       " '/ocean/eolson/MEOPAR/obs/ONC/turbidity/nearSurface/search4979680/BritishColumbiaFerries_Tsawwassen-DukePoint_Turbidity-ChlorophyllandFluorescence_20170426T173216Z_20170522T011843Z-clean.csv',\n",
       " '/ocean/eolson/MEOPAR/obs/ONC/turbidity/nearSurface/search4979680/BritishColumbiaFerries_Tsawwassen-DukePoint_Turbidity-ChlorophyllandFluorescence_20170522T011844Z_20170611T234016Z-clean.csv',\n",
       " '/ocean/eolson/MEOPAR/obs/ONC/turbidity/nearSurface/search4979680/BritishColumbiaFerries_Tsawwassen-DukePoint_Turbidity-ChlorophyllandFluorescence_20170815T213738Z_20170825T225506Z-clean.csv']"
      ]
     },
     "execution_count": 7,
     "metadata": {},
     "output_type": "execute_result"
    }
   ],
   "source": [
    "flist"
   ]
  },
  {
   "cell_type": "code",
   "execution_count": 20,
   "metadata": {},
   "outputs": [
    {
     "data": {
      "text/plain": [
       "33"
      ]
     },
     "execution_count": 20,
     "metadata": {},
     "output_type": "execute_result"
    }
   ],
   "source": [
    "len(test)"
   ]
  },
  {
   "cell_type": "code",
   "execution_count": 21,
   "metadata": {},
   "outputs": [
    {
     "data": {
      "text/plain": [
       "33"
      ]
     },
     "execution_count": 21,
     "metadata": {},
     "output_type": "execute_result"
    }
   ],
   "source": [
    "len(flist)"
   ]
  },
  {
   "cell_type": "code",
   "execution_count": null,
   "metadata": {},
   "outputs": [],
   "source": []
  },
  {
   "cell_type": "code",
   "execution_count": null,
   "metadata": {},
   "outputs": [],
   "source": [
    "dfM=df.groupby(['Day']).mean().reset_index()"
   ]
  },
  {
   "cell_type": "code",
   "execution_count": 6,
   "metadata": {},
   "outputs": [
    {
     "data": {
      "text/html": [
       "<div>\n",
       "<style scoped>\n",
       "    .dataframe tbody tr th:only-of-type {\n",
       "        vertical-align: middle;\n",
       "    }\n",
       "\n",
       "    .dataframe tbody tr th {\n",
       "        vertical-align: top;\n",
       "    }\n",
       "\n",
       "    .dataframe thead th {\n",
       "        text-align: right;\n",
       "    }\n",
       "</style>\n",
       "<table border=\"1\" class=\"dataframe\">\n",
       "  <thead>\n",
       "    <tr style=\"text-align: right;\">\n",
       "      <th></th>\n",
       "      <th>TimeUTC</th>\n",
       "      <th>Chl_ugl</th>\n",
       "      <th>ChlCount</th>\n",
       "      <th>Latitude_deg</th>\n",
       "      <th>Longitude_deg</th>\n",
       "      <th>LatitudeCount</th>\n",
       "    </tr>\n",
       "  </thead>\n",
       "  <tbody>\n",
       "    <tr>\n",
       "      <th>0</th>\n",
       "      <td>2012-05-09T12:00:00.000Z</td>\n",
       "      <td>1.435923</td>\n",
       "      <td>286</td>\n",
       "      <td>NaN</td>\n",
       "      <td>NaN</td>\n",
       "      <td>0</td>\n",
       "    </tr>\n",
       "    <tr>\n",
       "      <th>1</th>\n",
       "      <td>2012-05-10T12:00:00.000Z</td>\n",
       "      <td>5.185789</td>\n",
       "      <td>3440</td>\n",
       "      <td>NaN</td>\n",
       "      <td>NaN</td>\n",
       "      <td>0</td>\n",
       "    </tr>\n",
       "    <tr>\n",
       "      <th>2</th>\n",
       "      <td>2012-05-11T12:00:00.000Z</td>\n",
       "      <td>5.435533</td>\n",
       "      <td>5698</td>\n",
       "      <td>NaN</td>\n",
       "      <td>NaN</td>\n",
       "      <td>0</td>\n",
       "    </tr>\n",
       "    <tr>\n",
       "      <th>3</th>\n",
       "      <td>2012-05-12T12:00:00.000Z</td>\n",
       "      <td>3.192885</td>\n",
       "      <td>5709</td>\n",
       "      <td>NaN</td>\n",
       "      <td>NaN</td>\n",
       "      <td>0</td>\n",
       "    </tr>\n",
       "    <tr>\n",
       "      <th>4</th>\n",
       "      <td>2012-05-13T12:00:00.000Z</td>\n",
       "      <td>2.115449</td>\n",
       "      <td>3039</td>\n",
       "      <td>NaN</td>\n",
       "      <td>NaN</td>\n",
       "      <td>0</td>\n",
       "    </tr>\n",
       "  </tbody>\n",
       "</table>\n",
       "</div>"
      ],
      "text/plain": [
       "                    TimeUTC   Chl_ugl  ChlCount  Latitude_deg  Longitude_deg  \\\n",
       "0  2012-05-09T12:00:00.000Z  1.435923       286           NaN            NaN   \n",
       "1  2012-05-10T12:00:00.000Z  5.185789      3440           NaN            NaN   \n",
       "2  2012-05-11T12:00:00.000Z  5.435533      5698           NaN            NaN   \n",
       "3  2012-05-12T12:00:00.000Z  3.192885      5709           NaN            NaN   \n",
       "4  2012-05-13T12:00:00.000Z  2.115449      3039           NaN            NaN   \n",
       "\n",
       "   LatitudeCount  \n",
       "0              0  \n",
       "1              0  \n",
       "2              0  \n",
       "3              0  \n",
       "4              0  "
      ]
     },
     "execution_count": 6,
     "metadata": {},
     "output_type": "execute_result"
    }
   ],
   "source": [
    "llon=places.PLACES['S3']['lon lat'][0]-.01\n",
    "ulon=places.PLACES['S3']['lon lat'][0]+.01\n",
    "llat=places.PLACES['S3']['lon lat'][1]-.01\n",
    "ulat=places.PLACES['S3']['lon lat'][1]+.01\n",
    "iidfnd=(df.Lon>llon)&(df.Lon<ulon)&(df.Lat>llat)&(df.Lat<ulat)"
   ]
  },
  {
   "cell_type": "code",
   "execution_count": null,
   "metadata": {},
   "outputs": [],
   "source": []
  }
 ],
 "metadata": {
  "kernelspec": {
   "display_name": "Python (py38)",
   "language": "python",
   "name": "py38"
  },
  "language_info": {
   "codemirror_mode": {
    "name": "ipython",
    "version": 3
   },
   "file_extension": ".py",
   "mimetype": "text/x-python",
   "name": "python",
   "nbconvert_exporter": "python",
   "pygments_lexer": "ipython3",
   "version": "3.8.1"
  }
 },
 "nbformat": 4,
 "nbformat_minor": 2
}
