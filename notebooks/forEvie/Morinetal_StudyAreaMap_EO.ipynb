{
 "cells": [
  {
   "cell_type": "code",
   "execution_count": 1,
   "metadata": {},
   "outputs": [],
   "source": [
    "#! /usr/bin/env python\n",
    "import numpy as np\n",
    "import numpy.ma as ma\n",
    "from scipy.interpolate import griddata, interp1d\n",
    "import netCDF4 as nc\n",
    "import matplotlib as mpl\n",
    "import matplotlib.pyplot as plt\n",
    "import cmocean as cm\n",
    "from matplotlib.colors import LinearSegmentedColormap\n",
    "import os\n",
    "import gsw\n",
    "os.environ['PROJ_LIB'] = r'/home/eolson/anaconda3/envs/py38/share/proj'\n",
    "from mpl_toolkits.basemap import Basemap, shiftgrid\n",
    "import matplotlib as mpl\n",
    "mpl.rc('xtick', labelsize=8)\n",
    "mpl.rc('ytick', labelsize=8)\n",
    "mpl.rc('legend', fontsize=8)\n",
    "mpl.rc('axes', titlesize=8)\n",
    "mpl.rc('axes', labelsize=8)\n",
    "mpl.rc('figure', titlesize=8)\n",
    "mpl.rc('font', size=8)\n",
    "mpl.rc('text', usetex=True)\n",
    "mpl.rc('text.latex', preamble = r'''\n",
    " \\usepackage{txfonts}\n",
    " \\usepackage{lmodern}\n",
    " ''')\n",
    "mpl.rc('font', family='sans-serif', weight='normal', style='normal')\n",
    "\n",
    "\n",
    "%matplotlib inline"
   ]
  },
  {
   "cell_type": "code",
   "execution_count": 2,
   "metadata": {},
   "outputs": [],
   "source": [
    "#load station locations\n",
    "infil = np.loadtxt('Map_v1.txt') #input file"
   ]
  },
  {
   "cell_type": "code",
   "execution_count": 3,
   "metadata": {},
   "outputs": [],
   "source": [
    "#-------------COLORMAP GENERATION ROUTINE------------------ you don't need to understand this part\n",
    "def LevelColormap(levels, cmap=None):\n",
    "    \"\"\"Make a colormap based on an increasing sequence of levels\"\"\"\n",
    "    \n",
    "    # Start with an existing colormap\n",
    "    if cmap == None:\n",
    "        cmap = plt.get_cmap()\n",
    "\n",
    "    # Spread the colours maximally\n",
    "    nlev = len(levels)\n",
    "    S = np.arange(nlev, dtype='float')/(nlev-1)\n",
    "    A = cmap(S)\n",
    "\n",
    "    # Normalize the levels to interval [0,1]\n",
    "    levels = np.array(levels, dtype='float')\n",
    "    L = (levels-levels[0])/(levels[-1]-levels[0])\n",
    "\n",
    "    # Make the colour dictionary\n",
    "    R = [(L[i], A[i,0], A[i,0]) for i in range(nlev)]\n",
    "    G = [(L[i], A[i,1], A[i,1]) for i in range(nlev)]\n",
    "    B = [(L[i], A[i,2], A[i,2]) for i in range(nlev)]\n",
    "    cdict = dict(red=tuple(R),green=tuple(G),blue=tuple(B))\n",
    "\n",
    "    # Use \n",
    "    return LinearSegmentedColormap('%s_levels' % cmap.name, cdict, 256)\n",
    "#---------------------------------------------------------------"
   ]
  },
  {
   "cell_type": "raw",
   "metadata": {},
   "source": [
    "# HYCOM salinity (stand-in for LiveOcean)\n",
    "sal1_fname = '/data/eolson/results/MEOPAR/expt_57.7.nc4' \n",
    "sal1 = nc.Dataset(sal1_fname,'r')\n",
    "lon = sal1.variables[\"lon_rho\"][:] \n",
    "lat = sal1.variables[\"lat_rho\"][:]\n",
    "bathy = sal1.variables[\"salinity\"][0,0,:,:]\n",
    "sal1.close()"
   ]
  },
  {
   "cell_type": "code",
   "execution_count": 4,
   "metadata": {},
   "outputs": [
    {
     "data": {
      "text/plain": [
       "<class 'netCDF4._netCDF4.Variable'>\n",
       "float32 salt(ocean_time, s_rho, eta_rho, xi_rho)\n",
       "    long_name: salinity\n",
       "    time: ocean_time\n",
       "    grid: grid\n",
       "    location: face\n",
       "    coordinates: lon_rho lat_rho s_rho ocean_time\n",
       "    field: salinity, scalar, series\n",
       "    _FillValue: 1e+37\n",
       "unlimited dimensions: ocean_time\n",
       "current shape = (1, 1, 1302, 663)\n",
       "filling on"
      ]
     },
     "execution_count": 4,
     "metadata": {},
     "output_type": "execute_result"
    }
   ],
   "source": [
    "liveocean_fname='salt_elise.nc'\n",
    "f=nc.Dataset(liveocean_fname)\n",
    "f.variables['salt']"
   ]
  },
  {
   "cell_type": "code",
   "execution_count": 5,
   "metadata": {},
   "outputs": [],
   "source": [
    "f.close()"
   ]
  },
  {
   "cell_type": "code",
   "execution_count": 6,
   "metadata": {},
   "outputs": [],
   "source": [
    "liveocean_fname='salt_elise.nc'\n",
    "## check units!!\n",
    "f=nc.Dataset(liveocean_fname)\n",
    "lonLO = f.variables[\"lon_rho\"][:,:] #variable taken from the file\n",
    "latLO = f.variables[\"lat_rho\"][:,:]\n",
    "salLO = gsw.SA_from_SP(f.variables[\"salt\"][0,0,:,:],0,lonLO,latLO)\n",
    "salLO_0 = f.variables[\"salt\"][0,0,:,:]\n",
    "f.close()"
   ]
  },
  {
   "cell_type": "code",
   "execution_count": 7,
   "metadata": {},
   "outputs": [],
   "source": [
    "# SSC salinity and lat/lon\n",
    "# convert units??\n",
    "sal1_fname = '/results/SalishSea/nowcast-green.201812/01jun17/SalishSea_1h_20170601_20170601_grid_T.nc' #too be changed with the one Debby is going to send you\n",
    "f = nc.Dataset(sal1_fname,'r')\n",
    "lonSS = f.variables[\"nav_lon\"][:,1:] #variable taken from the file\n",
    "latSS = f.variables[\"nav_lat\"][:,1:]\n",
    "salSS = f.variables[\"vosaline\"][0,0,:,1:]\n",
    "f.close()"
   ]
  },
  {
   "cell_type": "code",
   "execution_count": 8,
   "metadata": {},
   "outputs": [
    {
     "data": {
      "text/plain": [
       "[<matplotlib.lines.Line2D at 0x7fe544adf070>]"
      ]
     },
     "execution_count": 8,
     "metadata": {},
     "output_type": "execute_result"
    },
    {
     "data": {
      "image/png": "[encoded data removed]",
      "text/plain": [
       "<Figure size 432x288 with 1 Axes>"
      ]
     },
     "metadata": {
      "needs_background": "light"
     },
     "output_type": "display_data"
    }
   ],
   "source": [
    "with nc.Dataset('/data/eolson/results/MEOPAR/NEMO-forcing-new/grid/mesh_mask201702.nc') as mesh:\n",
    "    l=mesh.variables['nav_lat']\n",
    "    boxlat=[l[0,0],l[0,-1],l[-1,-1],l[-1,0],l[0,0]]\n",
    "    l=mesh.variables[\"nav_lon\"]\n",
    "    boxlon=[l[0,0],l[0,-1],l[-1,-1],l[-1,0],l[0,0]]\n",
    "plt.plot(boxlon,boxlat,'r-')"
   ]
  },
  {
   "cell_type": "code",
   "execution_count": 9,
   "metadata": {},
   "outputs": [],
   "source": [
    "cm1=cm.cm.haline"
   ]
  },
  {
   "cell_type": "raw",
   "metadata": {},
   "source": [
    "plt.figure(figsize=(20,10))\n",
    "\n",
    "# Define boundaries\n",
    "latStart = 47.5 #47.5\n",
    "latEnd = 51.5\n",
    "lonStart = -128.6\n",
    "lonEnd = -121.7\n",
    "\n",
    "# Define map projection\n",
    "m = Basemap(llcrnrlon = lonStart, llcrnrlat = latStart, urcrnrlon = lonEnd, \n",
    "  urcrnrlat = latEnd, resolution = 'h', projection = 'cass', lon_0=-124.5, \n",
    "  lat_0=48.75) #cassini projection (not sure)\n",
    "m.drawmapboundary(fill_color='white', linewidth=0.5) #boundaries colour\n",
    "\n",
    "x, y = m(lon, lat) # and convert to x, y coordinates in map projection\n",
    "levels = np.arange(0,35) # change the different classes here\n",
    "m.contourf(x, y, bathy, levels, cmap = LevelColormap(levels, cmap = cm1))"
   ]
  },
  {
   "cell_type": "code",
   "execution_count": 10,
   "metadata": {},
   "outputs": [],
   "source": [
    "def getblob(file):\n",
    "    res=10\n",
    "    ol=5\n",
    "    blob1=np.loadtxt(file,delimiter=',')\n",
    "    blob1=np.concatenate((blob1[-ol:,:],blob1,blob1[:ol]),0)\n",
    "    x=blob1[:,0]\n",
    "    y=blob1[:,1]\n",
    "    t = np.arange(len(blob1))\n",
    "    ti = np.linspace(t[ol], t[-1*ol], res * (t.size-2*ol+1))\n",
    "    xi = interp1d(t, x, kind='cubic')(ti)\n",
    "    yi = interp1d(t, y, kind='cubic')(ti)\n",
    "    return xi,yi,x,y"
   ]
  },
  {
   "cell_type": "code",
   "execution_count": 11,
   "metadata": {},
   "outputs": [
    {
     "name": "stdout",
     "output_type": "stream",
     "text": [
      "130 22\n",
      "130 22\n",
      "120 21\n",
      "200 29\n"
     ]
    },
    {
     "data": {
      "image/png": "[encoded data removed]",
      "text/plain": [
       "<Figure size 1080x1080 with 1 Axes>"
      ]
     },
     "metadata": {
      "needs_background": "light"
     },
     "output_type": "display_data"
    }
   ],
   "source": [
    "fig,ax=plt.subplots(1,1,figsize=(15,15))\n",
    "for fn in ('blob1.csv','blob2.csv','blob3.csv','blob4.csv'):\n",
    "    xi,yi,x0,y0=getblob(fn)\n",
    "    ax.plot(xi,yi,'r-')\n",
    "    ax.plot(x0,y0,'k+')\n",
    "    print(len(xi),len(x0))"
   ]
  },
  {
   "cell_type": "code",
   "execution_count": 12,
   "metadata": {},
   "outputs": [
    {
     "data": {
      "text/plain": [
       "[<matplotlib.lines.Line2D at 0x7fe55e34c790>]"
      ]
     },
     "execution_count": 12,
     "metadata": {},
     "output_type": "execute_result"
    },
    {
     "data": {
      "image/png": "[encoded data removed]",
      "text/plain": [
       "<Figure size 432x288 with 1 Axes>"
      ]
     },
     "metadata": {
      "needs_background": "light"
     },
     "output_type": "display_data"
    }
   ],
   "source": [
    "res=10\n",
    "ol=5\n",
    "blob1=np.loadtxt('blob4.csv',delimiter=',')\n",
    "plt.plot(5,blob1[0,0]+173,'kx')\n",
    "plt.plot(5,blob1[0,1],'kx')\n",
    "blob1=np.concatenate((blob1[-ol:,:],blob1,blob1[:ol]),0)\n",
    "x=blob1[:,0]\n",
    "y=blob1[:,1]\n",
    "t = np.arange(len(blob1))\n",
    "ti = np.linspace(t[ol], t[-1*ol], res * (t.size-2*ol+1))\n",
    "xi = interp1d(t, x, kind='cubic')(ti)\n",
    "yi = interp1d(t, y, kind='cubic')(ti)\n",
    "plt.plot(t,x+173,'r+')\n",
    "plt.plot(ti,xi+173,'r-')\n",
    "plt.plot(t,y,'b+')\n",
    "plt.plot(ti,yi,'b-')"
   ]
  },
  {
   "cell_type": "code",
   "execution_count": 13,
   "metadata": {},
   "outputs": [],
   "source": [
    "a,b,c,d=getblob('blob1.csv')"
   ]
  },
  {
   "cell_type": "code",
   "execution_count": 14,
   "metadata": {},
   "outputs": [
    {
     "data": {
      "text/plain": [
       "(130, 130, 22, 22)"
      ]
     },
     "execution_count": 14,
     "metadata": {},
     "output_type": "execute_result"
    }
   ],
   "source": [
    "len(a),len(b),len(c),len(d)"
   ]
  },
  {
   "cell_type": "code",
   "execution_count": null,
   "metadata": {},
   "outputs": [],
   "source": [
    "fig=plt.figure(figsize=(7.5,5))\n",
    "slat = infil[:,6]\n",
    "slon = infil[:,7]\n",
    "ln = infil[:,2]\n",
    "\n",
    "#model site\n",
    "modlat = 49.125\n",
    "modlong = - 123.558\n",
    "\n",
    "#some masking\n",
    "mskJ = (ln == 5) #black dots\n",
    "mskH = (ln == 4) #blue dots\n",
    "mskS = (ln == 2) #green dots\n",
    "mskC = (ln == 1.5) #nothing\n",
    "mskN = (ln == 1) #orange dots\n",
    "\n",
    "# Define boundaries\n",
    "latStart = 47.5 #47.5\n",
    "latEnd = 51.5\n",
    "lonStart = -128.6\n",
    "lonEnd = -121.7\n",
    "\n",
    "# Define map projection\n",
    "axm=fig.add_axes([.1,.1,.6,.8])\n",
    "m = Basemap(ax=axm,llcrnrlon = lonStart, llcrnrlat = latStart, urcrnrlon = lonEnd, \n",
    "  urcrnrlat = latEnd, resolution = 'f', projection = 'cass', lon_0=-124.5, \n",
    "  lat_0=48.75) #cassini projection (not sure)\n",
    "m.drawmapboundary(fill_color='white', linewidth=0.5) #boundaries colour\n",
    "\n",
    "cbax=fig.add_axes([.78,.2,.02,.6])\n",
    "\n",
    "# Draw bathymetry\n",
    "#lon, lat = np.meshgrid(lon, lat) # recast lat and lon as meshgrids\n",
    "xLO, yLO = m(lonLO, latLO) # and convert to x, y coordinates in map projection\n",
    "xSS, ySS = m(lonSS, latSS) # and convert to x, y coordinates in map projection\n",
    "xbox,ybox = m(boxlon,boxlat)\n",
    "levels = np.arange(0,35,.5) # change the different classes here\n",
    "m0=m.contourf(xLO, yLO, salLO, levels, cmap = LevelColormap(levels, cmap = cm1))\n",
    "m1=m.contourf(xSS, ySS, salSS, levels, cmap = LevelColormap(levels, cmap = cm1))\n",
    "mpl.rcParams['contour.negative_linestyle'] = 'solid' # drawing line of regions\n",
    "cb=fig.colorbar(m0,cax=cbax)\n",
    "cbax.set_title('Salinity\\n(g kg$^{-1}$)')\n",
    "\n",
    "# define some colours (if you need new colours, see website https://flatuicolors.com/ - numbers should between 1 and 0, so divide by 256)\n",
    "# colours by default are in yellow '', see python documentation\n",
    "brgree=(0., 1., 0.)\n",
    "pureblue=(0., 0., 1.)\n",
    "harblue=(0.9, 0., 0.9)\n",
    "orange=(0.9, 0.6, 0.)\n",
    "\n",
    "# Draw coasts, rivers, continents\n",
    "m.fillcontinents(color=(0.7, 0.7, 0.7), lake_color='white')\n",
    "m.drawcoastlines(color='gray')\n",
    "m.drawrivers(linewidth=1.2,color='gray') # change the line depth of rivers\n",
    "\n",
    "# labels = [left,right,top,bottom]\n",
    "# draw parallels and meridians.\n",
    "m.drawparallels(np.arange(47.5,51.5,1.), labels=[True,True,False,False],size=8)\n",
    "m.drawmeridians(np.arange(-128.7,-121.7,1.), labels=[False,False,True,True],size=8)\n",
    "\n",
    "# plot station locations\n",
    "m.scatter(slon[mskH], slat[mskH], s=30, color= 'k', marker = 'o', edgecolor = 'white', \n",
    "          linewidth = 1, latlon=True, zorder=2)\n",
    "m.scatter(slon[mskS], slat[mskS], s=30, color= 'k', marker = '^', edgecolor = 'white', \n",
    "          linewidth = 1, latlon=True, zorder=2)\n",
    "m.scatter(slon[mskN], slat[mskN], s=30, color= 'k', marker = 'd', edgecolor = 'white', \n",
    "          linewidth = 1, latlon=True, zorder=2)\n",
    "xi,yi,px,py=getblob('blob1.csv')\n",
    "m.plot(xi,yi, 'w-', latlon=True, zorder=2)\n",
    "#m.plot(px,py, 'r*', latlon=True, zorder=2)\n",
    "xi,yi,px,py=getblob('blob2.csv')\n",
    "m.plot(xi,yi, 'w-', latlon=True, zorder=2,lw=3)\n",
    "#m.plot(px,py, 'r*', latlon=True, zorder=2)\n",
    "xi,yi,px,py=getblob('blob3.csv')\n",
    "m.plot(xi,yi, 'w-', latlon=True, zorder=2,lw=3)\n",
    "#m.plot(px,py, 'r*', latlon=True, zorder=2)\n",
    "xi,yi,px,py=getblob('blob4.csv')\n",
    "m.plot(xi,yi, 'w-', latlon=True, zorder=2)\n",
    "#m.plot(px,py, 'r*', latlon=True, zorder=2)\n",
    "#m.scatter(modlong, modlat, color='k', s=30, latlon=True)\n",
    "#m.scatter(modlong, modlat, color='w', s=20, latlon=True)\n",
    "\n",
    "m.plot(xbox,ybox,'-',color='gray',zorder=2)\n",
    "\n",
    "# Normal annotations (Name, location, useless) add whatever you want, \\n is space\n",
    "axm.annotate('Vancouver\\nIsland', xy=m(-126.6,50), xycoords='data',size=8)\n",
    "axm.annotate('Fraser R.', xy=m(-122.6,49.25), xycoords='data',size=8)\n",
    "axm.annotate('Pacific\\nOcean', xy=m(-126.465,48.53), xycoords='data',size=8)\n",
    "\n",
    "# Annotations with lines, add here if you want to add a label with an arrow (Name, location of label, useless, location of end arrow, useless, kind of arrow)\n",
    "axm.annotate('N-SoG', xy=m(-124.78, 49.8), xycoords='data', xytext=m(-123.7, 50.3), \n",
    "             textcoords='data', arrowprops=dict(arrowstyle='->', connectionstyle='arc3,rad=0.2'),size=8)\n",
    "axm.annotate('Southern\\nSoG', xy=m(-123.6, 49.2), xycoords='data', xytext=m(-122.7, 49.6), weight='bold',\n",
    "             textcoords='data', arrowprops=dict(arrowstyle='->', connectionstyle='arc3,rad=-0.2'),size=8)\n",
    "axm.annotate('Haro', xy=m(-123.3, 48.55), xycoords='data', xytext=m(-122.3, 48.7), \n",
    "             textcoords='data', arrowprops=dict(arrowstyle='->', connectionstyle='arc3,rad=-0.3'),size=8)\n",
    "axm.annotate('Juan de Fuca', xy=m(-123.9,48.28), xycoords='data', xytext=m(-124.40, 48.0), \n",
    "             textcoords='data', arrowprops=dict(arrowstyle='->', connectionstyle='arc3,rad=0.2'),size=8)\n",
    "##axm.annotate('Strait of\\nGeorgia', xy=m(-123.8,49.33), xycoords='data', xytext=m(-123.0, 49.8), \n",
    "##             textcoords='data', arrowprops=dict(arrowstyle='->', connectionstyle='arc3,rad=0.2'),size=8)\n",
    "axm.annotate('Baynes\\nSound', xy=m(-124.8,49.5), xycoords='data', xytext=m(-125.74,49.6), weight='bold',\n",
    "             textcoords='data', arrowprops=dict(arrowstyle='->', connectionstyle='arc3,rad=0.2'),size=8)\n",
    "axm.annotate('Discovery\\nIslands', xy=m(-124.8, 50.3), xycoords='data', xytext=m(-123.5,50.7), weight='bold',\n",
    "             textcoords='data', arrowprops=dict(arrowstyle='->', connectionstyle='arc3,rad=0.2'),size=8)\n",
    "#axm.annotate('Southern SoG', xy=m(-123.8,49.33), xycoords='data', xytext=m(-123.0, 49.8), \n",
    "#             textcoords='data', arrowprops=dict(arrowstyle='->', connectionstyle='arc3,rad=0.2'),size=8)\n",
    "axm.annotate('Outer coast', xy=m(-126.7,49.5), xycoords='data', xytext=m(-128.5, 49.2), weight='bold',\n",
    "             textcoords='data', arrowprops=dict(arrowstyle='->', connectionstyle='arc3,rad=0.2'),size=8)\n",
    "\n",
    "plt.show()\n",
    "fig.savefig('StudyAreaMap.png',dpi=400,bbox_inches='tight')"
   ]
  },
  {
   "cell_type": "code",
   "execution_count": null,
   "metadata": {},
   "outputs": [],
   "source": [
    "### fig=plt.figure(figsize=(12,10))\n",
    "slat = infil[:,6]\n",
    "slon = infil[:,7]\n",
    "ln = infil[:,2]\n",
    "\n",
    "#model site\n",
    "modlat = 49.125\n",
    "modlong = - 123.558\n",
    "\n",
    "#some masking\n",
    "mskJ = (ln == 5) #black dots\n",
    "mskH = (ln == 4) #blue dots\n",
    "mskS = (ln == 2) #green dots\n",
    "mskC = (ln == 1.5) #nothing\n",
    "mskN = (ln == 1) #orange dots\n",
    "\n",
    "# Define boundaries\n",
    "latStart = 48 #47.5\n",
    "latEnd = 50\n",
    "lonStart = -127\n",
    "lonEnd = -123\n",
    "\n",
    "# Define map projection\n",
    "axm=fig.add_axes([.1,.1,.6,.8])\n",
    "m = Basemap(ax=axm,llcrnrlon = lonStart, llcrnrlat = latStart, urcrnrlon = lonEnd, \n",
    "  urcrnrlat = latEnd, resolution = 'f', projection = 'cass', lon_0=-124.5, \n",
    "  lat_0=48.75) #cassini projection (not sure)\n",
    "m.drawmapboundary(fill_color='white', linewidth=0.5) #boundaries colour\n",
    "\n",
    "cbax=fig.add_axes([.8,.2,.02,.6])\n",
    "\n",
    "# Draw bathymetry\n",
    "#lon, lat = np.meshgrid(lon, lat) # recast lat and lon as meshgrids\n",
    "xLO, yLO = m(lonLO, latLO) # and convert to x, y coordinates in map projection\n",
    "xSS, ySS = m(lonSS, latSS) # and convert to x, y coordinates in map projection\n",
    "levels = np.arange(29,33,.1) # change the different classes here\n",
    "m0=m.contourf(xLO, yLO, salLO, levels, cmap = LevelColormap(levels, cmap = cm1))\n",
    "m1=m.contourf(xSS, ySS, salSS, levels, cmap = LevelColormap(levels, cmap = cm1))\n",
    "#levels = [-150] # define the black line to determine the regions\n",
    "mpl.rcParams['contour.negative_linestyle'] = 'solid' # drawing line of regions\n",
    "#c = m.contour(x, y, bathy, levels, colors = 'k', linewidth=0.1) # drawing line of regions #black contour lines\n",
    "#plt.clabel(c, inline=1, fmt='%d', fontsize=7) # label of the altitude of the line of regions #black contour lines\n",
    "# - 150 shows the two shallow parts at the north end of the southern gulf islands\n",
    "# - 200 shows the deep trench in Haro (as does - 150)\n",
    "# - 120 highlights the Victoria sill nicely\n",
    "cb=fig.colorbar(m0,cax=cbax)\n",
    "cbax.set_title('Salinity\\n(g kg$^{-1}$)')\n",
    "\n",
    "# define some colours (if you need new colours, see website https://flatuicolors.com/ - numbers should between 1 and 0, so divide by 256)\n",
    "# colours by default are in yellow '', see python documentation\n",
    "brgree=(0., 1., 0.)\n",
    "pureblue=(0., 0., 1.)\n",
    "#harblue=(0.2, 0., 0.7)\n",
    "#lpurple=(0.9, 0., 0.9)\n",
    "harblue=(0.9, 0., 0.9)\n",
    "orange=(0.9, 0.6, 0.)\n",
    "\n",
    "# Draw coasts, rivers, continents\n",
    "m.fillcontinents(color=(0.7, 0.7, 0.7), lake_color='white')\n",
    "m.drawcoastlines()\n",
    "#m.drawcountries() # if you want the countries, uncomment here\n",
    "#m.drawrivers() # same for rivers\n",
    "m.drawrivers(linewidth=1.2) # change the line depth of rivers\n",
    "\n",
    "# draw parallels and meridians.\n",
    "m.drawparallels(np.arange(47.5,51.5,1.), labels=[True,True,True,True])\n",
    "m.drawmeridians(np.arange(-128.7,-121.7,1.), labels=[True,True,True,True])\n",
    "\n",
    "# plot station locations\n",
    "# m.scatter(slon, slat, color='w', s=50, latlon=True, zorder=2)\n",
    "#m.scatter(slon, slat, color='r', latlon=True)\n",
    "\n",
    "# m.scatter(slon[mskJ], slat[mskJ], color='k', latlon=True, zorder=2) # only plot if ln = 5\n",
    "# m.scatter(slon[mskH], slat[mskH], s=30, color= '#CB2CD8', latlon=True, zorder=2)\n",
    "# m.scatter(slon[mskS], slat[mskS], s=30, color= '#B86D26', latlon=True, zorder=2)\n",
    "# m.scatter(slon[mskN], slat[mskN], s=30, color= '#459C4A', latlon=True, zorder=2)\n",
    "m.scatter(slon[mskH], slat[mskH], s=100, color= 'k', marker = 'o', edgecolor = 'white', linewidth = 2, latlon=True, zorder=2)\n",
    "m.scatter(slon[mskS], slat[mskS], s=100, color= 'k', marker = '^', edgecolor = 'white', linewidth = 2, latlon=True, zorder=2)\n",
    "m.scatter(slon[mskN], slat[mskN], s=100, color= 'k', marker = 'd', edgecolor = 'white', linewidth = 2, latlon=True, zorder=2)\n",
    "xi,yi,px,py=getblob('blob1.csv')\n",
    "m.plot(xi,yi, 'w-', latlon=True, zorder=2)\n",
    "#m.plot(px,py, 'r*', latlon=True, zorder=2)\n",
    "xi,yi,px,py=getblob('blob2.csv')\n",
    "m.plot(xi,yi, 'w-', latlon=True, zorder=2)\n",
    "#m.plot(px,py, 'r*', latlon=True, zorder=2)\n",
    "xi,yi,px,py=getblob('blob3.csv')\n",
    "m.plot(xi,yi, 'w-', latlon=True, zorder=2)\n",
    "#m.plot(px,py, 'r*', latlon=True, zorder=2)\n",
    "xi,yi,px,py=getblob('blob4.csv')\n",
    "m.plot(xi,yi, 'w-', latlon=True, zorder=2)\n",
    "#m.plot(px,py, 'r*', latlon=True, zorder=2)\n",
    "#m.scatter(modlong, modlat, color='k', s=30, latlon=True)\n",
    "#m.scatter(modlong, modlat, color='w', s=20, latlon=True)\n",
    "\n",
    "\n",
    "# Normal annotations (Name, location, useless) add whatever you want, \\n is space\n",
    "axm.annotate('Vancouver\\nIsland', xy=m(-125.45,49.25), xycoords='data')\n",
    "#plt.annotate('British\\nColumbia', xy=m(-122.70,50.20), xycoords='data')\n",
    "axm.annotate('Fraser R.', xy=m(-122.90,49.105), xycoords='data')\n",
    "# plt.annotate('River', xy=m(-122.49,49.04), xycoords='data')\n",
    "#plt.annotate('Juan\\nde\\n Fuca', xy=m(-124.40,48.06), xycoords='data')\n",
    "# plt.annotate('Skagit R.', xy=m(-122.25,48.41), xycoords='data')\n",
    "axm.annotate('Pacific\\nOcean', xy=m(-126.465,48.53), xycoords='data')\n",
    "\n",
    "# Annotations with lines, add here if you want to add a label with an arrow (Name, location of label, useless, location of end arrow, useless, kind of arrow)\n",
    "axm.annotate('N-SoG', xy=m(-124.78, 49.77), xycoords='data', xytext=m(-124.52, 49.93), textcoords='data', arrowprops=dict(arrowstyle='->', connectionstyle='arc3,rad=0.2'))\n",
    "axm.annotate('S-SoG', xy=m(-123.43, 49.09), xycoords='data', xytext=m(-124.20, 48.88), textcoords='data', arrowprops=dict(arrowstyle='->', connectionstyle='arc3,rad=-0.2'))\n",
    "axm.annotate('Haro', xy=m(-123.09, 48.67), xycoords='data', xytext=m(-123.95, 48.60), textcoords='data', arrowprops=dict(arrowstyle='->', connectionstyle='arc3,rad=-0.3'))\n",
    "axm.annotate('Juan de Fuca', xy=m(-123.9,48.3), xycoords='data', xytext=m(-124.40, 48.04), textcoords='data', arrowprops=dict(arrowstyle='->', connectionstyle='arc3,rad=0.2'))\n",
    "#plt.annotate('Fraser River', xy=m(-123.0,49.26), xycoords='data', xytext=m(-122.40, 49.10), textcoords='data', arrowprops=dict(arrowstyle='-', connectionstyle='arc3,rad=0.0'))\n",
    "# plt.annotate('Puget\\nSound', xy=m(-122.45,47.84), xycoords='data', xytext=m(-122.13, 47.9), textcoords='data', arrowprops=dict(arrowstyle='->', connectionstyle='arc3,rad=0.2'))\n",
    "axm.annotate('Strait of\\nGeorgia', xy=m(-123.9,49.33), xycoords='data', xytext=m(-123.30, 49.8), textcoords='data', arrowprops=dict(arrowstyle='->', connectionstyle='arc3,rad=0.2'))\n",
    "             \n",
    "# show and save plot\n",
    "# plt.savefig('StudyAreaMap.pdf')\n",
    "# plt.savefig('StudyAreaMap.jpeg')\n",
    "\n",
    "plt.show()\n",
    "#fig.savefig('StudyAreaMap.png',dpi=150,bbox_inches='tight')"
   ]
  },
  {
   "cell_type": "code",
   "execution_count": null,
   "metadata": {},
   "outputs": [],
   "source": [
    "fig=plt.figure(figsize=(12,10))\n",
    "slat = infil[:,6]\n",
    "slon = infil[:,7]\n",
    "ln = infil[:,2]\n",
    "\n",
    "#model site\n",
    "modlat = 49.125\n",
    "modlong = - 123.558\n",
    "\n",
    "#some masking\n",
    "mskJ = (ln == 5) #black dots\n",
    "mskH = (ln == 4) #blue dots\n",
    "mskS = (ln == 2) #green dots\n",
    "mskC = (ln == 1.5) #nothing\n",
    "mskN = (ln == 1) #orange dots\n",
    "\n",
    "# Define boundaries\n",
    "latStart = 48 #47.5\n",
    "latEnd = 50\n",
    "lonStart = -127\n",
    "lonEnd = -123\n",
    "\n",
    "# Define map projection\n",
    "axm=fig.add_axes([.1,.1,.6,.8])\n",
    "m = Basemap(ax=axm,llcrnrlon = lonStart, llcrnrlat = latStart, urcrnrlon = lonEnd, \n",
    "  urcrnrlat = latEnd, resolution = 'f', projection = 'cass', lon_0=-124.5, \n",
    "  lat_0=48.75) #cassini projection (not sure)\n",
    "m.drawmapboundary(fill_color='white', linewidth=0.5) #boundaries colour\n",
    "\n",
    "cbax=fig.add_axes([.8,.2,.02,.6])\n",
    "\n",
    "# Draw bathymetry\n",
    "#lon, lat = np.meshgrid(lon, lat) # recast lat and lon as meshgrids\n",
    "xLO, yLO = m(lonLO, latLO) # and convert to x, y coordinates in map projection\n",
    "xSS, ySS = m(lonSS, latSS) # and convert to x, y coordinates in map projection\n",
    "levels = np.arange(29,33,.1) # change the different classes here\n",
    "m0=m.contourf(xLO, yLO, salLO_0, levels, cmap = LevelColormap(levels, cmap = cm1))\n",
    "m1=m.contourf(xSS, ySS, salSS, levels, cmap = LevelColormap(levels, cmap = cm1))\n",
    "#levels = [-150] # define the black line to determine the regions\n",
    "mpl.rcParams['contour.negative_linestyle'] = 'solid' # drawing line of regions\n",
    "#c = m.contour(x, y, bathy, levels, colors = 'k', linewidth=0.1) # drawing line of regions #black contour lines\n",
    "#plt.clabel(c, inline=1, fmt='%d', fontsize=7) # label of the altitude of the line of regions #black contour lines\n",
    "# - 150 shows the two shallow parts at the north end of the southern gulf islands\n",
    "# - 200 shows the deep trench in Haro (as does - 150)\n",
    "# - 120 highlights the Victoria sill nicely\n",
    "cb=fig.colorbar(m0,cax=cbax)\n",
    "cbax.set_title('Salinity\\n(g kg$^{-1}$)')\n",
    "\n",
    "# define some colours (if you need new colours, see website https://flatuicolors.com/ - numbers should between 1 and 0, so divide by 256)\n",
    "# colours by default are in yellow '', see python documentation\n",
    "brgree=(0., 1., 0.)\n",
    "pureblue=(0., 0., 1.)\n",
    "#harblue=(0.2, 0., 0.7)\n",
    "#lpurple=(0.9, 0., 0.9)\n",
    "harblue=(0.9, 0., 0.9)\n",
    "orange=(0.9, 0.6, 0.)\n",
    "\n",
    "# Draw coasts, rivers, continents\n",
    "m.fillcontinents(color=(0.7, 0.7, 0.7), lake_color='white')\n",
    "m.drawcoastlines()\n",
    "#m.drawcountries() # if you want the countries, uncomment here\n",
    "#m.drawrivers() # same for rivers\n",
    "m.drawrivers(linewidth=1.2) # change the line depth of rivers\n",
    "\n",
    "# draw parallels and meridians.\n",
    "m.drawparallels(np.arange(47.5,51.5,1.), labels=[True,True,True,True])\n",
    "m.drawmeridians(np.arange(-128.7,-121.7,1.), labels=[True,True,True,True])\n",
    "\n",
    "# plot station locations\n",
    "# m.scatter(slon, slat, color='w', s=50, latlon=True, zorder=2)\n",
    "#m.scatter(slon, slat, color='r', latlon=True)\n",
    "\n",
    "# m.scatter(slon[mskJ], slat[mskJ], color='k', latlon=True, zorder=2) # only plot if ln = 5\n",
    "# m.scatter(slon[mskH], slat[mskH], s=30, color= '#CB2CD8', latlon=True, zorder=2)\n",
    "# m.scatter(slon[mskS], slat[mskS], s=30, color= '#B86D26', latlon=True, zorder=2)\n",
    "# m.scatter(slon[mskN], slat[mskN], s=30, color= '#459C4A', latlon=True, zorder=2)\n",
    "m.scatter(slon[mskH], slat[mskH], s=100, color= 'k', marker = 'o', edgecolor = 'white', linewidth = 2, latlon=True, zorder=2)\n",
    "m.scatter(slon[mskS], slat[mskS], s=100, color= 'k', marker = '^', edgecolor = 'white', linewidth = 2, latlon=True, zorder=2)\n",
    "m.scatter(slon[mskN], slat[mskN], s=100, color= 'k', marker = 'd', edgecolor = 'white', linewidth = 2, latlon=True, zorder=2)\n",
    "xi,yi,px,py=getblob('blob1.csv')\n",
    "m.plot(xi,yi, 'w-', latlon=True, zorder=2)\n",
    "#m.plot(px,py, 'r*', latlon=True, zorder=2)\n",
    "xi,yi,px,py=getblob('blob2.csv')\n",
    "m.plot(xi,yi, 'w-', latlon=True, zorder=2)\n",
    "#m.plot(px,py, 'r*', latlon=True, zorder=2)\n",
    "xi,yi,px,py=getblob('blob3.csv')\n",
    "m.plot(xi,yi, 'w-', latlon=True, zorder=2)\n",
    "#m.plot(px,py, 'r*', latlon=True, zorder=2)\n",
    "xi,yi,px,py=getblob('blob4.csv')\n",
    "m.plot(xi,yi, 'w-', latlon=True, zorder=2)\n",
    "#m.plot(px,py, 'r*', latlon=True, zorder=2)\n",
    "#m.scatter(modlong, modlat, color='k', s=30, latlon=True)\n",
    "#m.scatter(modlong, modlat, color='w', s=20, latlon=True)\n",
    "\n",
    "\n",
    "# Normal annotations (Name, location, useless) add whatever you want, \\n is space\n",
    "axm.annotate('Vancouver\\nIsland', xy=m(-125.45,49.25), xycoords='data')\n",
    "#plt.annotate('British\\nColumbia', xy=m(-122.70,50.20), xycoords='data')\n",
    "axm.annotate('Fraser R.', xy=m(-122.90,49.105), xycoords='data')\n",
    "# plt.annotate('River', xy=m(-122.49,49.04), xycoords='data')\n",
    "#plt.annotate('Juan\\nde\\n Fuca', xy=m(-124.40,48.06), xycoords='data')\n",
    "# plt.annotate('Skagit R.', xy=m(-122.25,48.41), xycoords='data')\n",
    "axm.annotate('Pacific\\nOcean', xy=m(-126.465,48.53), xycoords='data')\n",
    "\n",
    "# Annotations with lines, add here if you want to add a label with an arrow (Name, location of label, useless, location of end arrow, useless, kind of arrow)\n",
    "axm.annotate('N-SoG', xy=m(-124.78, 49.77), xycoords='data', xytext=m(-124.52, 49.93), textcoords='data', arrowprops=dict(arrowstyle='->', connectionstyle='arc3,rad=0.2'))\n",
    "axm.annotate('S-SoG', xy=m(-123.43, 49.09), xycoords='data', xytext=m(-124.20, 48.88), textcoords='data', arrowprops=dict(arrowstyle='->', connectionstyle='arc3,rad=-0.2'))\n",
    "axm.annotate('Haro', xy=m(-123.09, 48.67), xycoords='data', xytext=m(-123.95, 48.60), textcoords='data', arrowprops=dict(arrowstyle='->', connectionstyle='arc3,rad=-0.3'))\n",
    "axm.annotate('Juan de Fuca', xy=m(-123.9,48.3), xycoords='data', xytext=m(-124.40, 48.04), textcoords='data', arrowprops=dict(arrowstyle='->', connectionstyle='arc3,rad=0.2'))\n",
    "#plt.annotate('Fraser River', xy=m(-123.0,49.26), xycoords='data', xytext=m(-122.40, 49.10), textcoords='data', arrowprops=dict(arrowstyle='-', connectionstyle='arc3,rad=0.0'))\n",
    "# plt.annotate('Puget\\nSound', xy=m(-122.45,47.84), xycoords='data', xytext=m(-122.13, 47.9), textcoords='data', arrowprops=dict(arrowstyle='->', connectionstyle='arc3,rad=0.2'))\n",
    "axm.annotate('Strait of\\nGeorgia', xy=m(-123.9,49.33), xycoords='data', xytext=m(-123.30, 49.8), textcoords='data', arrowprops=dict(arrowstyle='->', connectionstyle='arc3,rad=0.2'))\n",
    "             \n",
    "# show and save plot\n",
    "# plt.savefig('StudyAreaMap.pdf')\n",
    "# plt.savefig('StudyAreaMap.jpeg')\n",
    "\n",
    "plt.show()\n",
    "#fig.savefig('StudyAreaMap.png',dpi=150,bbox_inches='tight')"
   ]
  },
  {
   "cell_type": "code",
   "execution_count": null,
   "metadata": {},
   "outputs": [],
   "source": [
    "# get rid of 128.7W \n",
    "test=nc.Dataset('/results/forcing/LiveOcean/downloaded/20170601/low_passed_UBC.nc')"
   ]
  },
  {
   "cell_type": "code",
   "execution_count": null,
   "metadata": {},
   "outputs": [],
   "source": [
    "plt.pcolormesh(test.variables['salt'][0,0,:,:])"
   ]
  },
  {
   "cell_type": "code",
   "execution_count": null,
   "metadata": {},
   "outputs": [],
   "source": [
    "test.close()"
   ]
  },
  {
   "cell_type": "code",
   "execution_count": null,
   "metadata": {},
   "outputs": [],
   "source": [
    "m=plt.pcolormesh(np.ma.masked_where(salLO<30,salLO-salLO_0))\n",
    "plt.colorbar(m)"
   ]
  },
  {
   "cell_type": "code",
   "execution_count": null,
   "metadata": {},
   "outputs": [],
   "source": [
    "np.max(np.abs(salLO-salLO_0)),"
   ]
  },
  {
   "cell_type": "code",
   "execution_count": null,
   "metadata": {},
   "outputs": [],
   "source": []
  }
 ],
 "metadata": {
  "kernelspec": {
   "display_name": "Python (py38)",
   "language": "python",
   "name": "py38"
  },
  "language_info": {
   "codemirror_mode": {
    "name": "ipython",
    "version": 3
   },
   "file_extension": ".py",
   "mimetype": "text/x-python",
   "name": "python",
   "nbconvert_exporter": "python",
   "pygments_lexer": "ipython3",
   "version": "3.8.1"
  }
 },
 "nbformat": 4,
 "nbformat_minor": 4
}
