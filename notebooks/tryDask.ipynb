{
 "cells": [
  {
   "cell_type": "code",
   "execution_count": 1,
   "metadata": {
    "collapsed": true
   },
   "outputs": [],
   "source": [
    "import sqlalchemy\n",
    "from sqlalchemy import (create_engine, Column, String, Integer, Float, MetaData, \n",
    "                        Table, type_coerce, ForeignKey, case)\n",
    "from sqlalchemy.orm import mapper, create_session, relationship, aliased, Session\n",
    "from sqlalchemy.ext.declarative import declarative_base\n",
    "from sqlalchemy import case\n",
    "import numpy as np\n",
    "from sqlalchemy.ext.automap import automap_base\n",
    "import matplotlib.pyplot as plt\n",
    "import sqlalchemy.types as types\n",
    "from sqlalchemy.sql import and_, or_, not_, func\n",
    "from sqlalchemy.sql import select\n",
    "import os\n",
    "from os.path import isfile\n",
    "import pandas as pd\n",
    "import netCDF4 as nc\n",
    "import datetime as dt\n",
    "from salishsea_tools import evaltools as et, viz_tools\n",
    "import datetime as dt\n",
    "import glob\n",
    "import gsw\n",
    "\n",
    "%matplotlib inline"
   ]
  },
  {
   "cell_type": "code",
   "execution_count": 2,
   "metadata": {
    "collapsed": false
   },
   "outputs": [
    {
     "data": {
      "text/html": [
       "<div>\n",
       "<style scoped>\n",
       "    .dataframe tbody tr th:only-of-type {\n",
       "        vertical-align: middle;\n",
       "    }\n",
       "\n",
       "    .dataframe tbody tr th {\n",
       "        vertical-align: top;\n",
       "    }\n",
       "\n",
       "    .dataframe thead th {\n",
       "        text-align: right;\n",
       "    }\n",
       "</style>\n",
       "<table border=\"1\" class=\"dataframe\">\n",
       "  <thead>\n",
       "    <tr style=\"text-align: right;\">\n",
       "      <th></th>\n",
       "      <th>Year</th>\n",
       "      <th>Month</th>\n",
       "      <th>Day</th>\n",
       "      <th>Hour</th>\n",
       "      <th>Lat</th>\n",
       "      <th>Lon</th>\n",
       "      <th>Pressure</th>\n",
       "      <th>Depth</th>\n",
       "      <th>Ammonium</th>\n",
       "      <th>Ammonium_units</th>\n",
       "      <th>Chlorophyll_Extracted</th>\n",
       "      <th>Chlorophyll_Extracted_units</th>\n",
       "      <th>N</th>\n",
       "      <th>Si</th>\n",
       "      <th>Silicate_units</th>\n",
       "      <th>AbsSal</th>\n",
       "      <th>ConsT</th>\n",
       "      <th>Z</th>\n",
       "      <th>dtUTC</th>\n",
       "    </tr>\n",
       "  </thead>\n",
       "  <tbody>\n",
       "    <tr>\n",
       "      <th>0</th>\n",
       "      <td>2015.0</td>\n",
       "      <td>2.0</td>\n",
       "      <td>11.0</td>\n",
       "      <td>11.068611</td>\n",
       "      <td>48.300833</td>\n",
       "      <td>-124.000333</td>\n",
       "      <td>1.9</td>\n",
       "      <td>None</td>\n",
       "      <td>None</td>\n",
       "      <td>None</td>\n",
       "      <td>NaN</td>\n",
       "      <td>mg/m^3</td>\n",
       "      <td>15.31</td>\n",
       "      <td>32.14</td>\n",
       "      <td>umol/L</td>\n",
       "      <td>29.227507</td>\n",
       "      <td>9.859421</td>\n",
       "      <td>1.884</td>\n",
       "      <td>2015-02-11 11:04:07</td>\n",
       "    </tr>\n",
       "    <tr>\n",
       "      <th>1</th>\n",
       "      <td>2015.0</td>\n",
       "      <td>2.0</td>\n",
       "      <td>11.0</td>\n",
       "      <td>11.068611</td>\n",
       "      <td>48.300833</td>\n",
       "      <td>-124.000333</td>\n",
       "      <td>6.6</td>\n",
       "      <td>None</td>\n",
       "      <td>None</td>\n",
       "      <td>None</td>\n",
       "      <td>2.57</td>\n",
       "      <td>mg/m^3</td>\n",
       "      <td>17.13</td>\n",
       "      <td>33.90</td>\n",
       "      <td>umol/L</td>\n",
       "      <td>29.484341</td>\n",
       "      <td>9.777243</td>\n",
       "      <td>6.54434</td>\n",
       "      <td>2015-02-11 11:04:07</td>\n",
       "    </tr>\n",
       "    <tr>\n",
       "      <th>2</th>\n",
       "      <td>2015.0</td>\n",
       "      <td>2.0</td>\n",
       "      <td>11.0</td>\n",
       "      <td>11.068611</td>\n",
       "      <td>48.300833</td>\n",
       "      <td>-124.000333</td>\n",
       "      <td>6.7</td>\n",
       "      <td>None</td>\n",
       "      <td>None</td>\n",
       "      <td>None</td>\n",
       "      <td>NaN</td>\n",
       "      <td>mg/m^3</td>\n",
       "      <td>NaN</td>\n",
       "      <td>NaN</td>\n",
       "      <td>umol/L</td>\n",
       "      <td>29.484839</td>\n",
       "      <td>9.771987</td>\n",
       "      <td>6.6435</td>\n",
       "      <td>2015-02-11 11:04:07</td>\n",
       "    </tr>\n",
       "    <tr>\n",
       "      <th>3</th>\n",
       "      <td>2015.0</td>\n",
       "      <td>2.0</td>\n",
       "      <td>11.0</td>\n",
       "      <td>11.068611</td>\n",
       "      <td>48.300833</td>\n",
       "      <td>-124.000333</td>\n",
       "      <td>11.0</td>\n",
       "      <td>None</td>\n",
       "      <td>None</td>\n",
       "      <td>None</td>\n",
       "      <td>NaN</td>\n",
       "      <td>mg/m^3</td>\n",
       "      <td>NaN</td>\n",
       "      <td>NaN</td>\n",
       "      <td>umol/L</td>\n",
       "      <td>30.144549</td>\n",
       "      <td>9.439995</td>\n",
       "      <td>10.9071</td>\n",
       "      <td>2015-02-11 11:04:07</td>\n",
       "    </tr>\n",
       "    <tr>\n",
       "      <th>4</th>\n",
       "      <td>2015.0</td>\n",
       "      <td>2.0</td>\n",
       "      <td>11.0</td>\n",
       "      <td>11.068611</td>\n",
       "      <td>48.300833</td>\n",
       "      <td>-124.000333</td>\n",
       "      <td>11.0</td>\n",
       "      <td>None</td>\n",
       "      <td>None</td>\n",
       "      <td>None</td>\n",
       "      <td>NaN</td>\n",
       "      <td>mg/m^3</td>\n",
       "      <td>20.62</td>\n",
       "      <td>37.65</td>\n",
       "      <td>umol/L</td>\n",
       "      <td>30.157913</td>\n",
       "      <td>9.433733</td>\n",
       "      <td>10.9071</td>\n",
       "      <td>2015-02-11 11:04:07</td>\n",
       "    </tr>\n",
       "  </tbody>\n",
       "</table>\n",
       "</div>"
      ],
      "text/plain": [
       "     Year  Month   Day       Hour        Lat         Lon  Pressure Depth  \\\n",
       "0  2015.0    2.0  11.0  11.068611  48.300833 -124.000333       1.9  None   \n",
       "1  2015.0    2.0  11.0  11.068611  48.300833 -124.000333       6.6  None   \n",
       "2  2015.0    2.0  11.0  11.068611  48.300833 -124.000333       6.7  None   \n",
       "3  2015.0    2.0  11.0  11.068611  48.300833 -124.000333      11.0  None   \n",
       "4  2015.0    2.0  11.0  11.068611  48.300833 -124.000333      11.0  None   \n",
       "\n",
       "  Ammonium Ammonium_units  Chlorophyll_Extracted Chlorophyll_Extracted_units  \\\n",
       "0     None           None                    NaN                      mg/m^3   \n",
       "1     None           None                   2.57                      mg/m^3   \n",
       "2     None           None                    NaN                      mg/m^3   \n",
       "3     None           None                    NaN                      mg/m^3   \n",
       "4     None           None                    NaN                      mg/m^3   \n",
       "\n",
       "       N     Si Silicate_units     AbsSal     ConsT        Z  \\\n",
       "0  15.31  32.14         umol/L  29.227507  9.859421    1.884   \n",
       "1  17.13  33.90         umol/L  29.484341  9.777243  6.54434   \n",
       "2    NaN    NaN         umol/L  29.484839  9.771987   6.6435   \n",
       "3    NaN    NaN         umol/L  30.144549  9.439995  10.9071   \n",
       "4  20.62  37.65         umol/L  30.157913  9.433733  10.9071   \n",
       "\n",
       "                dtUTC  \n",
       "0 2015-02-11 11:04:07  \n",
       "1 2015-02-11 11:04:07  \n",
       "2 2015-02-11 11:04:07  \n",
       "3 2015-02-11 11:04:07  \n",
       "4 2015-02-11 11:04:07  "
      ]
     },
     "execution_count": 2,
     "metadata": {},
     "output_type": "execute_result"
    }
   ],
   "source": [
    "PATH= '/results/SalishSea/hindcast.201905/'\n",
    "start_date = dt.datetime(2015,1,1)\n",
    "end_date = dt.datetime(2015,12,31)\n",
    "flen=1\n",
    "namfmt='nowcast'\n",
    "filemap={'nitrate':'ptrc_T','silicon':'ptrc_T','ammonium':'ptrc_T','diatoms':'ptrc_T','ciliates':'ptrc_T','flagellates':'ptrc_T','vosaline':'grid_T','votemper':'grid_T'}\n",
    "fdict={'ptrc_T':1,'grid_T':1}\n",
    "\n",
    "df1=et.loadDFO(datelims=(start_date,end_date))#,excludeSaanich=False)\n",
    "df1.head()"
   ]
  },
  {
   "cell_type": "code",
   "execution_count": 3,
   "metadata": {
    "collapsed": true
   },
   "outputs": [],
   "source": [
    "df2=df1.iloc[:50,:].copy(deep=True)"
   ]
  },
  {
   "cell_type": "code",
   "execution_count": 4,
   "metadata": {
    "collapsed": false
   },
   "outputs": [
    {
     "data": {
      "text/plain": [
       "(50, 569)"
      ]
     },
     "execution_count": 4,
     "metadata": {},
     "output_type": "execute_result"
    }
   ],
   "source": [
    "len(df2),len(df1)"
   ]
  },
  {
   "cell_type": "code",
   "execution_count": 5,
   "metadata": {
    "collapsed": false
   },
   "outputs": [],
   "source": [
    "meshPath='/ocean/eolson/MEOPAR/NEMO-forcing/grid/mesh_mask201702_noLPE.nc'\n",
    "maskName='tmask'\n",
    "with nc.Dataset(meshPath) as fmesh:\n",
    "    omask=np.copy(fmesh.variables[maskName])\n",
    "    navlon=np.copy(fmesh.variables['nav_lon'][:,:])\n",
    "    navlat=np.copy(fmesh.variables['nav_lat'][:,:])"
   ]
  },
  {
   "cell_type": "code",
   "execution_count": 6,
   "metadata": {
    "collapsed": true
   },
   "outputs": [],
   "source": [
    "data=et._gridHoriz(df1,omask,navlon,navlat,wrapSearch=False)"
   ]
  },
  {
   "cell_type": "code",
   "execution_count": 7,
   "metadata": {
    "collapsed": true
   },
   "outputs": [],
   "source": [
    "data=data.sort_values(by=[ix for ix in ['dtUTC','Z','j','i']]) # preserve list order\n",
    "data.reset_index(drop=True,inplace=True)"
   ]
  },
  {
   "cell_type": "code",
   "execution_count": 8,
   "metadata": {
    "collapsed": true
   },
   "outputs": [],
   "source": [
    "# set up columns to accept model values\n",
    "for ivar in filemap.keys():\n",
    "    data['mod_'+ivar]=np.full(len(data),np.nan)"
   ]
  },
  {
   "cell_type": "code",
   "execution_count": 9,
   "metadata": {
    "collapsed": false
   },
   "outputs": [],
   "source": [
    "ftypes=list(fdict.keys())\n",
    "flist=dict()\n",
    "for ift in ftypes:\n",
    "    flist[ift]=et.index_model_files(start_date,end_date,'/results/SalishSea/hindcast.201905/',namfmt,flen,ift,fdict[ift])"
   ]
  },
  {
   "cell_type": "code",
   "execution_count": 10,
   "metadata": {
    "collapsed": true
   },
   "outputs": [],
   "source": [
    "filemap_r=dict()\n",
    "for ift in ftypes:\n",
    "    filemap_r[ift]=list()\n",
    "for ikey in filemap:\n",
    "    filemap_r[filemap[ikey]].append(ikey)"
   ]
  },
  {
   "cell_type": "code",
   "execution_count": 11,
   "metadata": {
    "collapsed": false
   },
   "outputs": [
    {
     "name": "stdout",
     "output_type": "stream",
     "text": [
      "0:10:09.168010\n"
     ]
    }
   ],
   "source": [
    "t0=dt.datetime.now()\n",
    "data = et._binmatch(data,flist,ftypes,filemap_r,omask)\n",
    "t1=dt.datetime.now()\n",
    "print(t1-t0)"
   ]
  },
  {
   "cell_type": "code",
   "execution_count": 12,
   "metadata": {
    "collapsed": true
   },
   "outputs": [],
   "source": [
    "import dask"
   ]
  },
  {
   "cell_type": "code",
   "execution_count": 13,
   "metadata": {
    "collapsed": true
   },
   "outputs": [],
   "source": [
    "def inc(x):\n",
    "    return x + 1\n",
    "\n",
    "def double(x):\n",
    "    return x + 2\n",
    "\n",
    "def add(x, y):\n",
    "    return x + y"
   ]
  },
  {
   "cell_type": "code",
   "execution_count": 14,
   "metadata": {
    "collapsed": true
   },
   "outputs": [],
   "source": [
    "dataE = [1, 2, 3, 4, 5]"
   ]
  },
  {
   "cell_type": "code",
   "execution_count": 15,
   "metadata": {
    "collapsed": true
   },
   "outputs": [],
   "source": [
    "output = []\n",
    "for x in dataE:\n",
    "    a = dask.delayed(inc)(x)\n",
    "    b = dask.delayed(double)(x)\n",
    "    c = dask.delayed(add)(a, b)\n",
    "    output.append(c)\n",
    "\n",
    "total = dask.delayed(sum)(output)"
   ]
  },
  {
   "cell_type": "code",
   "execution_count": 16,
   "metadata": {
    "collapsed": false
   },
   "outputs": [
    {
     "data": {
      "image/png": "[encoded data removed]",
      "text/plain": [
       "<IPython.core.display.Image object>"
      ]
     },
     "execution_count": 16,
     "metadata": {},
     "output_type": "execute_result"
    }
   ],
   "source": [
    "total.visualize() "
   ]
  },
  {
   "cell_type": "code",
   "execution_count": 17,
   "metadata": {
    "collapsed": false
   },
   "outputs": [
    {
     "data": {
      "text/plain": [
       "45"
      ]
     },
     "execution_count": 17,
     "metadata": {},
     "output_type": "execute_result"
    }
   ],
   "source": [
    "total.compute()"
   ]
  },
  {
   "cell_type": "code",
   "execution_count": null,
   "metadata": {
    "collapsed": true
   },
   "outputs": [],
   "source": [
    "nc.Dataset(frow['paths'].values[0])"
   ]
  },
  {
   "cell_type": "code",
   "execution_count": 27,
   "metadata": {
    "collapsed": false
   },
   "outputs": [
    {
     "data": {
      "text/plain": [
       "'/results/SalishSea/hindcast.201905/01jan15/SalishSea_1h_20150101_20150101_ptrc_T.nc'"
      ]
     },
     "execution_count": 27,
     "metadata": {},
     "output_type": "execute_result"
    }
   ],
   "source": []
  },
  {
   "cell_type": "code",
   "execution_count": 18,
   "metadata": {
    "collapsed": false
   },
   "outputs": [],
   "source": [
    "data['k']=-1*np.ones((len(data),)).astype(int)"
   ]
  },
  {
   "cell_type": "code",
   "execution_count": 29,
   "metadata": {
    "collapsed": false
   },
   "outputs": [],
   "source": [
    "with nc.Dataset(flist[ftypes[0]]['paths'][0]) as ift:\n",
    "    for ind, row in data.iterrows():\n",
    "        ik=et._getZInd_bin(row['Z'],ift)\n",
    "        if (not np.isnan(ik)) and (omask[0,ik,row['j'],row['i']]==1):\n",
    "            data.loc[ind,['k']]=int(ik)"
   ]
  },
  {
   "cell_type": "code",
   "execution_count": 30,
   "metadata": {
    "collapsed": false
   },
   "outputs": [
    {
     "name": "stdout",
     "output_type": "stream",
     "text": [
      "0:00:44.921380\n"
     ]
    }
   ],
   "source": [
    "t0=dt.datetime.now()\n",
    "for ind, row in data.iterrows():\n",
    "    if ind==0: # load first files\n",
    "        fid=dict()\n",
    "        fend=dict()\n",
    "        for ift in ftypes:\n",
    "            fid,fend=et._nextfile_bin(ift,row['dtUTC'],flist[ift],fid,fend,flist)\n",
    "        torig=dt.datetime.strptime(fid[ftypes[0]].variables['time_centered'].time_origin,'%Y-%m-%d %H:%M:%S') # assumes same for all files in run\n",
    "    for ift in ftypes:\n",
    "        if row['dtUTC']>=fend[ift]:\n",
    "            fid,fend=et._nextfile_bin(ift,row['dtUTC'],flist[ift],fid,fend,flist)\n",
    "        ih=et._getTimeInd_bin(row['dtUTC'],fid[ift],torig)\n",
    "        for ivar in filemap_r[ift]:\n",
    "            data.loc[ind,['mod_'+ivar]]=fid[ift].variables[ivar][ih,row['k'],row['j'],row['i']]\n",
    "t1=dt.datetime.now()\n",
    "print(t1-t0)"
   ]
  },
  {
   "cell_type": "code",
   "execution_count": 36,
   "metadata": {
    "collapsed": false
   },
   "outputs": [
    {
     "data": {
      "text/plain": [
       "['ptrc_T', 'grid_T']"
      ]
     },
     "execution_count": 36,
     "metadata": {},
     "output_type": "execute_result"
    }
   ],
   "source": [
    "ftypes"
   ]
  },
  {
   "cell_type": "code",
   "execution_count": null,
   "metadata": {
    "collapsed": true
   },
   "outputs": [],
   "source": [
    "def nextfile2():\n",
    "    #def _nextfile_bin(ift,idt,ifind,fid,fend,flist):\n",
    "    frow=ifind.loc[(ifind.t_0<=idt)&(ifind.t_n>idt)]\n",
    "    fid[ift]=nc.Dataset(frow['paths'].values[0])\n",
    "    fend[ift]=frow['t_n'].values[0]\n",
    "    #return fid, fend\n",
    "    return findex"
   ]
  },
  {
   "cell_type": "code",
   "execution_count": 30,
   "metadata": {
    "collapsed": false
   },
   "outputs": [
    {
     "name": "stdout",
     "output_type": "stream",
     "text": [
      "0:00:44.921380\n"
     ]
    }
   ],
   "source": [
    "flistUse=dict()\n",
    "for ift in ftypes:\n",
    "    flistUse[ift]=dict()\n",
    "for ind, row in data.iterrows():\n",
    "    if ind==0: # load first files\n",
    "        fid=dict()\n",
    "        fend=dict()\n",
    "        for ift in ftypes:\n",
    "            fid,fend=et._nextfile_bin(ift,row['dtUTC'],flist[ift],fid,fend,flist)\n",
    "        torig=dt.datetime.strptime(fid[ftypes[0]].variables['time_centered'].time_origin,'%Y-%m-%d %H:%M:%S') # assumes same for all files in run\n",
    "    for ift in ftypes:\n",
    "        if row['dtUTC']>=fend[ift]:\n",
    "            fid,fend=et._nextfile_bin(ift,row['dtUTC'],flist[ift],fid,fend,flist)\n",
    "        ih=et._getTimeInd_bin(row['dtUTC'],fid[ift],torig)\n",
    "        for ivar in filemap_r[ift]:\n",
    "            data.loc[ind,['mod_'+ivar]]=fid[ift].variables[ivar][ih,row['k'],row['j'],row['i']]\n"
   ]
  },
  {
   "cell_type": "code",
   "execution_count": 39,
   "metadata": {
    "collapsed": false
   },
   "outputs": [
    {
     "data": {
      "text/plain": [
       "['ptrc_T', 'grid_T']"
      ]
     },
     "execution_count": 39,
     "metadata": {},
     "output_type": "execute_result"
    }
   ],
   "source": [
    "# ftypes: ptrc_T, grid_T\n",
    "# flistUse\n",
    "#    ptrc_T\n",
    "#       list of files to actually open\n",
    "#           map each file to an index to data and \n",
    "#    grid_T"
   ]
  },
  {
   "cell_type": "code",
   "execution_count": null,
   "metadata": {
    "collapsed": true
   },
   "outputs": [],
   "source": [
    "# just index, don't open:\n",
    "for ind, row in data.iterrows():\n",
    "    if ind==0: # load first files\n",
    "        fid=dict()\n",
    "        fend=dict()\n",
    "        for ift in ftypes:\n",
    "            fid,fend=et._nextfile_bin(ift,row['dtUTC'],flist[ift],fid,fend,flist)\n",
    "        torig=dt.datetime.strptime(fid[ftypes[0]].variables['time_centered'].time_origin,'%Y-%m-%d %H:%M:%S') # assumes same for all files in run\n",
    "    for ift in ftypes:\n",
    "        if row['dtUTC']>=fend[ift]:\n",
    "            fid,fend=et._nextfile_bin(ift,row['dtUTC'],flist[ift],fid,fend,flist)\n",
    "        ih=et._getTimeInd_bin(row['dtUTC'],fid[ift],torig)\n",
    "        for ivar in filemap_r[ift]:\n",
    "            data.loc[ind,['mod_'+ivar]]=fid[ift].variables[ivar][ih,row['k'],row['j'],row['i']]"
   ]
  },
  {
   "cell_type": "code",
   "execution_count": 38,
   "metadata": {
    "collapsed": false
   },
   "outputs": [
    {
     "data": {
      "text/plain": [
       "{'ptrc_T': datetime.datetime(2015, 4, 3, 0, 0),\n",
       " 'grid_T': datetime.datetime(2015, 4, 3, 0, 0)}"
      ]
     },
     "execution_count": 38,
     "metadata": {},
     "output_type": "execute_result"
    }
   ],
   "source": [
    "fend"
   ]
  },
  {
   "cell_type": "code",
   "execution_count": 31,
   "metadata": {
    "collapsed": true
   },
   "outputs": [],
   "source": [
    "import xarray as xr"
   ]
  },
  {
   "cell_type": "code",
   "execution_count": 37,
   "metadata": {
    "collapsed": false
   },
   "outputs": [
    {
     "name": "stdout",
     "output_type": "stream",
     "text": [
      "0:02:09.459820\n"
     ]
    }
   ],
   "source": [
    "t0=dt.datetime.now()\n",
    "test=xr.open_mfdataset(flist[ftypes[0]]['paths'],parallel=True)\n",
    "t1=dt.datetime.now()\n",
    "print(t1-t0)"
   ]
  },
  {
   "cell_type": "code",
   "execution_count": null,
   "metadata": {
    "collapsed": true
   },
   "outputs": [],
   "source": [
    "t0=dt.datetime.now()\n",
    "test=xr.open_mfdataset(flist[ftypes[0]]['paths'])\n",
    "t1=dt.datetime.now()\n",
    "print(t1-t0)"
   ]
  },
  {
   "cell_type": "code",
   "execution_count": 32,
   "metadata": {
    "collapsed": true
   },
   "outputs": [],
   "source": []
  },
  {
   "cell_type": "code",
   "execution_count": 33,
   "metadata": {
    "collapsed": false
   },
   "outputs": [
    {
     "data": {
      "text/plain": [
       "<xarray.Dataset>\n",
       "Dimensions:                       (axis_nbounds: 2, deptht: 40, nvertex: 4, time_counter: 8760, x: 398, y: 898)\n",
       "Coordinates:\n",
       "    nav_lat                       (y, x) float32 0.0 0.0 0.0 0.0 ... 0.0 0.0 0.0\n",
       "    nav_lon                       (y, x) float32 0.0 0.0 0.0 0.0 ... 0.0 0.0 0.0\n",
       "  * deptht                        (deptht) float32 0.5000003 ... 441.4661\n",
       "    time_centered                 (time_counter) datetime64[ns] dask.array<shape=(8760,), chunksize=(24,)>\n",
       "  * time_counter                  (time_counter) datetime64[ns] 2015-01-01T00:30:00 ... 2015-12-31T23:30:00\n",
       "Dimensions without coordinates: axis_nbounds, nvertex, x, y\n",
       "Data variables:\n",
       "    bounds_lon                    (time_counter, y, x, nvertex) float32 dask.array<shape=(8760, 898, 398, 4), chunksize=(24, 898, 398, 4)>\n",
       "    bounds_lat                    (time_counter, y, x, nvertex) float32 dask.array<shape=(8760, 898, 398, 4), chunksize=(24, 898, 398, 4)>\n",
       "    area                          (time_counter, y, x) float32 dask.array<shape=(8760, 898, 398), chunksize=(24, 898, 398)>\n",
       "    deptht_bounds                 (time_counter, deptht, axis_nbounds) float32 dask.array<shape=(8760, 40, 2), chunksize=(24, 40, 2)>\n",
       "    nitrate                       (time_counter, deptht, y, x) float32 dask.array<shape=(8760, 40, 898, 398), chunksize=(24, 40, 898, 398)>\n",
       "    time_centered_bounds          (time_counter, axis_nbounds) datetime64[ns] dask.array<shape=(8760, 2), chunksize=(24, 2)>\n",
       "    time_counter_bounds           (time_counter, axis_nbounds) datetime64[ns] dask.array<shape=(8760, 2), chunksize=(24, 2)>\n",
       "    ammonium                      (time_counter, deptht, y, x) float32 dask.array<shape=(8760, 40, 898, 398), chunksize=(24, 40, 898, 398)>\n",
       "    silicon                       (time_counter, deptht, y, x) float32 dask.array<shape=(8760, 40, 898, 398), chunksize=(24, 40, 898, 398)>\n",
       "    diatoms                       (time_counter, deptht, y, x) float32 dask.array<shape=(8760, 40, 898, 398), chunksize=(24, 40, 898, 398)>\n",
       "    flagellates                   (time_counter, deptht, y, x) float32 dask.array<shape=(8760, 40, 898, 398), chunksize=(24, 40, 898, 398)>\n",
       "    ciliates                      (time_counter, deptht, y, x) float32 dask.array<shape=(8760, 40, 898, 398), chunksize=(24, 40, 898, 398)>\n",
       "    microzooplankton              (time_counter, deptht, y, x) float32 dask.array<shape=(8760, 40, 898, 398), chunksize=(24, 40, 898, 398)>\n",
       "    dissolved_organic_nitrogen    (time_counter, deptht, y, x) float32 dask.array<shape=(8760, 40, 898, 398), chunksize=(24, 40, 898, 398)>\n",
       "    particulate_organic_nitrogen  (time_counter, deptht, y, x) float32 dask.array<shape=(8760, 40, 898, 398), chunksize=(24, 40, 898, 398)>\n",
       "    biogenic_silicon              (time_counter, deptht, y, x) float32 dask.array<shape=(8760, 40, 898, 398), chunksize=(24, 40, 898, 398)>\n",
       "    mesozooplankton               (time_counter, deptht, y, x) float32 dask.array<shape=(8760, 40, 898, 398), chunksize=(24, 40, 898, 398)>\n",
       "Attributes:\n",
       "    name:         SalishSea_1h_20150101_20150105\n",
       "    description:  biogeochemical variables\n",
       "    title:        biogeochemical variables\n",
       "    Conventions:  CF-1.6\n",
       "    timeStamp:    2019-Sep-23 16:40:15 GMT\n",
       "    uuid:         a311c5f6-4083-4743-8125-5b0f43937446"
      ]
     },
     "execution_count": 33,
     "metadata": {},
     "output_type": "execute_result"
    }
   ],
   "source": [
    "test"
   ]
  },
  {
   "cell_type": "code",
   "execution_count": null,
   "metadata": {
    "collapsed": true
   },
   "outputs": [],
   "source": []
  }
 ],
 "metadata": {
  "anaconda-cloud": {},
  "kernelspec": {
   "display_name": "Python [conda env:py37]",
   "language": "python",
   "name": "conda-env-py37-py"
  },
  "language_info": {
   "codemirror_mode": {
    "name": "ipython",
    "version": 3
   },
   "file_extension": ".py",
   "mimetype": "text/x-python",
   "name": "python",
   "nbconvert_exporter": "python",
   "pygments_lexer": "ipython3",
   "version": "3.7.2"
  }
 },
 "nbformat": 4,
 "nbformat_minor": 1
}
